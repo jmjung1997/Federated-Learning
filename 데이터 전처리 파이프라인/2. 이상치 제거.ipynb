{
 "cells": [
  {
   "cell_type": "code",
   "execution_count": 13,
   "id": "378dca82",
   "metadata": {},
   "outputs": [],
   "source": [
    "import pandas as pd"
   ]
  },
  {
   "cell_type": "code",
   "execution_count": 14,
   "id": "5626bc88",
   "metadata": {},
   "outputs": [],
   "source": [
    "df=pd.read_csv(\"../Integrated_data/merged_df.csv\",encoding=\"utf-8\")"
   ]
  },
  {
   "cell_type": "code",
   "execution_count": 15,
   "id": "96c2da0a",
   "metadata": {},
   "outputs": [],
   "source": [
    "# 널값을 가진 행 삭제\n",
    "df = df.dropna(subset=['collect_datetime'])"
   ]
  },
  {
   "cell_type": "markdown",
   "id": "763c22ee",
   "metadata": {},
   "source": [
    "## 결측치 처리"
   ]
  },
  {
   "cell_type": "code",
   "execution_count": 16,
   "id": "d4d01824",
   "metadata": {},
   "outputs": [],
   "source": [
    "def interpolated(df):\n",
    "    temp=[]\n",
    "    for i in df['ID'].unique():\n",
    "        temp.append(df[df['ID']==i].interpolate())\n",
    "    new_df=pd.concat(temp,axis=0)\n",
    "    return new_df"
   ]
  },
  {
   "cell_type": "code",
   "execution_count": 17,
   "id": "a37e1a62",
   "metadata": {},
   "outputs": [],
   "source": [
    "new_df=interpolated(df)"
   ]
  },
  {
   "cell_type": "code",
   "execution_count": 18,
   "id": "b003e5dd",
   "metadata": {},
   "outputs": [],
   "source": [
    "new_df.fillna(method='bfill',inplace=True)"
   ]
  },
  {
   "cell_type": "markdown",
   "id": "4dc29e14",
   "metadata": {},
   "source": [
    "# height 값 기준 이상치 탐지\n",
    "1. 시계열 특성상 과거보다 키가 줄어들 수 없다.\n",
    "2. 상식선에서 6개월 기간내에 155에서 180으로 약 16%로 이상 상승할 수 없으모 13프로 이상 상승한 값은 제외시킨다. "
   ]
  },
  {
   "cell_type": "code",
   "execution_count": 19,
   "id": "a75c28a2",
   "metadata": {},
   "outputs": [],
   "source": [
    "def gap(first, last):\n",
    "    gap_per=(last-first)/first*100\n",
    "    return abs(gap_per)"
   ]
  },
  {
   "cell_type": "code",
   "execution_count": 20,
   "id": "ce4ae667",
   "metadata": {},
   "outputs": [],
   "source": [
    "def abmormaled(df):\n",
    "    temp=[]\n",
    "    for i in df['ID'].unique():\n",
    "        temp_df=df[df['ID']==i].reset_index(drop=True)\n",
    "        # 상승하지 않는 값은 직전 값으로 대체\n",
    "        for i in range(1, len(temp_df)):\n",
    "            if temp_df.at[i, 'height'] <= temp_df.at[i - 1, 'height']:\n",
    "                temp_df.at[i, 'height'] = temp_df.at[i - 1, 'height']\n",
    "            if gap(temp_df.at[i - 1, 'height'],temp_df.at[i, 'height'])>=16:\n",
    "                temp_df.at[i, 'height'] = temp_df.at[i - 1, 'height']\n",
    "        temp.append(temp_df)\n",
    "    new_df2=pd.concat(temp,axis=0)\n",
    "    return new_df2"
   ]
  },
  {
   "cell_type": "code",
   "execution_count": 21,
   "id": "468e6c6d",
   "metadata": {},
   "outputs": [],
   "source": [
    "new_df2=abmormaled(new_df)\n",
    "new_df2.reset_index(drop=True,inplace=True)"
   ]
  },
  {
   "cell_type": "code",
   "execution_count": 22,
   "id": "74d64287",
   "metadata": {},
   "outputs": [
    {
     "data": {
      "text/html": [
       "<div>\n",
       "<style scoped>\n",
       "    .dataframe tbody tr th:only-of-type {\n",
       "        vertical-align: middle;\n",
       "    }\n",
       "\n",
       "    .dataframe tbody tr th {\n",
       "        vertical-align: top;\n",
       "    }\n",
       "\n",
       "    .dataframe thead th {\n",
       "        text-align: right;\n",
       "    }\n",
       "</style>\n",
       "<table border=\"1\" class=\"dataframe\">\n",
       "  <thead>\n",
       "    <tr style=\"text-align: right;\">\n",
       "      <th></th>\n",
       "      <th>ID</th>\n",
       "      <th>collect_datetime</th>\n",
       "      <th>gender</th>\n",
       "      <th>grade</th>\n",
       "      <th>height</th>\n",
       "      <th>weight</th>\n",
       "      <th>step_count</th>\n",
       "      <th>burned calory</th>\n",
       "      <th>eat_calory</th>\n",
       "      <th>Sleep_time</th>\n",
       "    </tr>\n",
       "  </thead>\n",
       "  <tbody>\n",
       "    <tr>\n",
       "      <th>0</th>\n",
       "      <td>#AAGQKY</td>\n",
       "      <td>2022-07-14</td>\n",
       "      <td>2.0</td>\n",
       "      <td>4.0</td>\n",
       "      <td>148.0</td>\n",
       "      <td>45.15</td>\n",
       "      <td>72.0</td>\n",
       "      <td>8.877</td>\n",
       "      <td>2000.0</td>\n",
       "      <td>12.0</td>\n",
       "    </tr>\n",
       "    <tr>\n",
       "      <th>1</th>\n",
       "      <td>#AAGQKY</td>\n",
       "      <td>2022-07-15</td>\n",
       "      <td>2.0</td>\n",
       "      <td>4.0</td>\n",
       "      <td>148.0</td>\n",
       "      <td>45.15</td>\n",
       "      <td>72.0</td>\n",
       "      <td>8.877</td>\n",
       "      <td>2000.0</td>\n",
       "      <td>12.0</td>\n",
       "    </tr>\n",
       "    <tr>\n",
       "      <th>2</th>\n",
       "      <td>#AAGQKY</td>\n",
       "      <td>2022-07-16</td>\n",
       "      <td>2.0</td>\n",
       "      <td>4.0</td>\n",
       "      <td>148.0</td>\n",
       "      <td>45.15</td>\n",
       "      <td>72.0</td>\n",
       "      <td>8.877</td>\n",
       "      <td>2000.0</td>\n",
       "      <td>12.0</td>\n",
       "    </tr>\n",
       "    <tr>\n",
       "      <th>3</th>\n",
       "      <td>#AAGQKY</td>\n",
       "      <td>2022-07-17</td>\n",
       "      <td>2.0</td>\n",
       "      <td>4.0</td>\n",
       "      <td>148.0</td>\n",
       "      <td>45.15</td>\n",
       "      <td>72.0</td>\n",
       "      <td>8.877</td>\n",
       "      <td>2000.0</td>\n",
       "      <td>12.0</td>\n",
       "    </tr>\n",
       "    <tr>\n",
       "      <th>4</th>\n",
       "      <td>#AAGQKY</td>\n",
       "      <td>2022-07-18</td>\n",
       "      <td>2.0</td>\n",
       "      <td>4.0</td>\n",
       "      <td>148.0</td>\n",
       "      <td>45.15</td>\n",
       "      <td>72.0</td>\n",
       "      <td>8.877</td>\n",
       "      <td>2000.0</td>\n",
       "      <td>12.0</td>\n",
       "    </tr>\n",
       "    <tr>\n",
       "      <th>...</th>\n",
       "      <td>...</td>\n",
       "      <td>...</td>\n",
       "      <td>...</td>\n",
       "      <td>...</td>\n",
       "      <td>...</td>\n",
       "      <td>...</td>\n",
       "      <td>...</td>\n",
       "      <td>...</td>\n",
       "      <td>...</td>\n",
       "      <td>...</td>\n",
       "    </tr>\n",
       "    <tr>\n",
       "      <th>59509</th>\n",
       "      <td>#ZZLSSL</td>\n",
       "      <td>2023-01-07</td>\n",
       "      <td>1.0</td>\n",
       "      <td>6.0</td>\n",
       "      <td>153.0</td>\n",
       "      <td>68.00</td>\n",
       "      <td>NaN</td>\n",
       "      <td>NaN</td>\n",
       "      <td>NaN</td>\n",
       "      <td>NaN</td>\n",
       "    </tr>\n",
       "    <tr>\n",
       "      <th>59510</th>\n",
       "      <td>#ZZLSSL</td>\n",
       "      <td>2023-01-08</td>\n",
       "      <td>1.0</td>\n",
       "      <td>6.0</td>\n",
       "      <td>153.0</td>\n",
       "      <td>68.00</td>\n",
       "      <td>NaN</td>\n",
       "      <td>NaN</td>\n",
       "      <td>NaN</td>\n",
       "      <td>NaN</td>\n",
       "    </tr>\n",
       "    <tr>\n",
       "      <th>59511</th>\n",
       "      <td>#ZZLSSL</td>\n",
       "      <td>2023-01-09</td>\n",
       "      <td>1.0</td>\n",
       "      <td>6.0</td>\n",
       "      <td>153.0</td>\n",
       "      <td>68.00</td>\n",
       "      <td>NaN</td>\n",
       "      <td>NaN</td>\n",
       "      <td>NaN</td>\n",
       "      <td>NaN</td>\n",
       "    </tr>\n",
       "    <tr>\n",
       "      <th>59512</th>\n",
       "      <td>#ZZLSSL</td>\n",
       "      <td>2023-01-10</td>\n",
       "      <td>1.0</td>\n",
       "      <td>6.0</td>\n",
       "      <td>153.0</td>\n",
       "      <td>68.00</td>\n",
       "      <td>NaN</td>\n",
       "      <td>NaN</td>\n",
       "      <td>NaN</td>\n",
       "      <td>NaN</td>\n",
       "    </tr>\n",
       "    <tr>\n",
       "      <th>59513</th>\n",
       "      <td>#ZZLSSL</td>\n",
       "      <td>2023-01-11</td>\n",
       "      <td>1.0</td>\n",
       "      <td>6.0</td>\n",
       "      <td>153.0</td>\n",
       "      <td>68.00</td>\n",
       "      <td>NaN</td>\n",
       "      <td>NaN</td>\n",
       "      <td>NaN</td>\n",
       "      <td>NaN</td>\n",
       "    </tr>\n",
       "  </tbody>\n",
       "</table>\n",
       "<p>59514 rows × 10 columns</p>\n",
       "</div>"
      ],
      "text/plain": [
       "            ID collect_datetime  gender  grade  height  weight  step_count  \\\n",
       "0      #AAGQKY       2022-07-14     2.0    4.0   148.0   45.15        72.0   \n",
       "1      #AAGQKY       2022-07-15     2.0    4.0   148.0   45.15        72.0   \n",
       "2      #AAGQKY       2022-07-16     2.0    4.0   148.0   45.15        72.0   \n",
       "3      #AAGQKY       2022-07-17     2.0    4.0   148.0   45.15        72.0   \n",
       "4      #AAGQKY       2022-07-18     2.0    4.0   148.0   45.15        72.0   \n",
       "...        ...              ...     ...    ...     ...     ...         ...   \n",
       "59509  #ZZLSSL       2023-01-07     1.0    6.0   153.0   68.00         NaN   \n",
       "59510  #ZZLSSL       2023-01-08     1.0    6.0   153.0   68.00         NaN   \n",
       "59511  #ZZLSSL       2023-01-09     1.0    6.0   153.0   68.00         NaN   \n",
       "59512  #ZZLSSL       2023-01-10     1.0    6.0   153.0   68.00         NaN   \n",
       "59513  #ZZLSSL       2023-01-11     1.0    6.0   153.0   68.00         NaN   \n",
       "\n",
       "       burned calory  eat_calory  Sleep_time  \n",
       "0              8.877      2000.0        12.0  \n",
       "1              8.877      2000.0        12.0  \n",
       "2              8.877      2000.0        12.0  \n",
       "3              8.877      2000.0        12.0  \n",
       "4              8.877      2000.0        12.0  \n",
       "...              ...         ...         ...  \n",
       "59509            NaN         NaN         NaN  \n",
       "59510            NaN         NaN         NaN  \n",
       "59511            NaN         NaN         NaN  \n",
       "59512            NaN         NaN         NaN  \n",
       "59513            NaN         NaN         NaN  \n",
       "\n",
       "[59514 rows x 10 columns]"
      ]
     },
     "execution_count": 22,
     "metadata": {},
     "output_type": "execute_result"
    }
   ],
   "source": [
    "new_df2"
   ]
  },
  {
   "cell_type": "markdown",
   "id": "ff106a5e",
   "metadata": {},
   "source": [
    "# 완전 결측치 전체 중앙값으로 대체\n",
    "위에 있는 NULL값은 해당 ID에 값이 한개도 기록되지 않아 생기는 것 이므로 전체 중앙값으로 대체하여 성능에 영향을 주는 것을 최소화 시킨다."
   ]
  },
  {
   "cell_type": "code",
   "execution_count": 23,
   "id": "b1770956",
   "metadata": {},
   "outputs": [],
   "source": [
    "#step_count 결측치 대체\n",
    "new_df2[\"step_count\"].fillna(new_df2[\"step_count\"].median(),inplace=True)\n",
    "\n",
    "#burned_calory 결측치 대체\n",
    "new_df2[\"burned calory\"].fillna(new_df2[\"burned calory\"].median(),inplace=True)\n",
    "#eat_calory 결측치 대체\n",
    "new_df2[\"eat_calory\"].fillna(new_df2[\"eat_calory\"].median(),inplace=True)\n",
    "\n",
    "#Sleep_time 결측치 대체\n",
    "new_df2[\"Sleep_time\"].fillna(new_df2[\"Sleep_time\"].median(),inplace=True)"
   ]
  },
  {
   "cell_type": "code",
   "execution_count": 24,
   "id": "9d2c1342",
   "metadata": {},
   "outputs": [],
   "source": [
    "new_df2.to_csv(\"../Integrated_data/Final_dataset.csv\",encoding=\"utf-8\",index=False)"
   ]
  },
  {
   "cell_type": "code",
   "execution_count": null,
   "id": "0fcb2a47",
   "metadata": {},
   "outputs": [],
   "source": []
  }
 ],
 "metadata": {
  "kernelspec": {
   "display_name": "Python 3 (ipykernel)",
   "language": "python",
   "name": "python3"
  },
  "language_info": {
   "codemirror_mode": {
    "name": "ipython",
    "version": 3
   },
   "file_extension": ".py",
   "mimetype": "text/x-python",
   "name": "python",
   "nbconvert_exporter": "python",
   "pygments_lexer": "ipython3",
   "version": "3.7.16"
  }
 },
 "nbformat": 4,
 "nbformat_minor": 5
}
