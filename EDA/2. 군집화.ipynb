{
 "cells": [
  {
   "cell_type": "code",
   "execution_count": 176,
   "id": "9c7e0ba5",
   "metadata": {},
   "outputs": [],
   "source": [
    "import pandas as pd\n",
    "from sklearn.cluster import KMeans\n",
    "from sklearn.decomposition import PCA\n",
    "import matplotlib.pyplot as plt\n",
    "import numpy as np\n",
    "%matplotlib inline"
   ]
  },
  {
   "cell_type": "code",
   "execution_count": 177,
   "id": "08b0a6a2",
   "metadata": {},
   "outputs": [],
   "source": [
    "df=pd.read_csv(\"../Integrated_data/all_dataset2.csv\",encoding=\"utf-8\")"
   ]
  },
  {
   "cell_type": "code",
   "execution_count": 178,
   "id": "e23f84cf",
   "metadata": {},
   "outputs": [
    {
     "data": {
      "text/html": [
       "<div>\n",
       "<style scoped>\n",
       "    .dataframe tbody tr th:only-of-type {\n",
       "        vertical-align: middle;\n",
       "    }\n",
       "\n",
       "    .dataframe tbody tr th {\n",
       "        vertical-align: top;\n",
       "    }\n",
       "\n",
       "    .dataframe thead th {\n",
       "        text-align: right;\n",
       "    }\n",
       "</style>\n",
       "<table border=\"1\" class=\"dataframe\">\n",
       "  <thead>\n",
       "    <tr style=\"text-align: right;\">\n",
       "      <th></th>\n",
       "      <th>ID</th>\n",
       "      <th>collect_datetime</th>\n",
       "      <th>gender</th>\n",
       "      <th>grade</th>\n",
       "      <th>height</th>\n",
       "      <th>weight</th>\n",
       "      <th>step_count</th>\n",
       "      <th>burned calory</th>\n",
       "      <th>eat_calory</th>\n",
       "      <th>Sleep_time</th>\n",
       "      <th>before_height</th>\n",
       "      <th>before_weight</th>\n",
       "      <th>before_waist</th>\n",
       "      <th>after_height</th>\n",
       "      <th>after_weight</th>\n",
       "      <th>after_waist</th>\n",
       "      <th>bmi</th>\n",
       "      <th>waist_bmi</th>\n",
       "    </tr>\n",
       "  </thead>\n",
       "  <tbody>\n",
       "    <tr>\n",
       "      <th>0</th>\n",
       "      <td>#AAGQKY</td>\n",
       "      <td>2022-07-14</td>\n",
       "      <td>2.0</td>\n",
       "      <td>4.0</td>\n",
       "      <td>148.0</td>\n",
       "      <td>45.15</td>\n",
       "      <td>72.0</td>\n",
       "      <td>8.877</td>\n",
       "      <td>2000.0</td>\n",
       "      <td>12.0</td>\n",
       "      <td>148.0</td>\n",
       "      <td>45.3</td>\n",
       "      <td>-</td>\n",
       "      <td>148.0</td>\n",
       "      <td>45.0</td>\n",
       "      <td>NaN</td>\n",
       "      <td>20.612673</td>\n",
       "      <td>0.306081</td>\n",
       "    </tr>\n",
       "    <tr>\n",
       "      <th>1</th>\n",
       "      <td>#AAGQKY</td>\n",
       "      <td>2022-07-15</td>\n",
       "      <td>2.0</td>\n",
       "      <td>4.0</td>\n",
       "      <td>148.0</td>\n",
       "      <td>45.15</td>\n",
       "      <td>72.0</td>\n",
       "      <td>8.877</td>\n",
       "      <td>2000.0</td>\n",
       "      <td>12.0</td>\n",
       "      <td>148.0</td>\n",
       "      <td>45.3</td>\n",
       "      <td>-</td>\n",
       "      <td>148.0</td>\n",
       "      <td>45.0</td>\n",
       "      <td>NaN</td>\n",
       "      <td>20.612673</td>\n",
       "      <td>0.306081</td>\n",
       "    </tr>\n",
       "    <tr>\n",
       "      <th>2</th>\n",
       "      <td>#AAGQKY</td>\n",
       "      <td>2022-07-16</td>\n",
       "      <td>2.0</td>\n",
       "      <td>4.0</td>\n",
       "      <td>148.0</td>\n",
       "      <td>45.15</td>\n",
       "      <td>72.0</td>\n",
       "      <td>8.877</td>\n",
       "      <td>2000.0</td>\n",
       "      <td>12.0</td>\n",
       "      <td>148.0</td>\n",
       "      <td>45.3</td>\n",
       "      <td>-</td>\n",
       "      <td>148.0</td>\n",
       "      <td>45.0</td>\n",
       "      <td>NaN</td>\n",
       "      <td>20.612673</td>\n",
       "      <td>0.306081</td>\n",
       "    </tr>\n",
       "    <tr>\n",
       "      <th>3</th>\n",
       "      <td>#AAGQKY</td>\n",
       "      <td>2022-07-17</td>\n",
       "      <td>2.0</td>\n",
       "      <td>4.0</td>\n",
       "      <td>148.0</td>\n",
       "      <td>45.15</td>\n",
       "      <td>72.0</td>\n",
       "      <td>8.877</td>\n",
       "      <td>2000.0</td>\n",
       "      <td>12.0</td>\n",
       "      <td>148.0</td>\n",
       "      <td>45.3</td>\n",
       "      <td>-</td>\n",
       "      <td>148.0</td>\n",
       "      <td>45.0</td>\n",
       "      <td>NaN</td>\n",
       "      <td>20.612673</td>\n",
       "      <td>0.306081</td>\n",
       "    </tr>\n",
       "    <tr>\n",
       "      <th>4</th>\n",
       "      <td>#AAGQKY</td>\n",
       "      <td>2022-07-18</td>\n",
       "      <td>2.0</td>\n",
       "      <td>4.0</td>\n",
       "      <td>148.0</td>\n",
       "      <td>45.15</td>\n",
       "      <td>72.0</td>\n",
       "      <td>8.877</td>\n",
       "      <td>2000.0</td>\n",
       "      <td>12.0</td>\n",
       "      <td>148.0</td>\n",
       "      <td>45.3</td>\n",
       "      <td>-</td>\n",
       "      <td>148.0</td>\n",
       "      <td>45.0</td>\n",
       "      <td>NaN</td>\n",
       "      <td>20.612673</td>\n",
       "      <td>0.306081</td>\n",
       "    </tr>\n",
       "    <tr>\n",
       "      <th>...</th>\n",
       "      <td>...</td>\n",
       "      <td>...</td>\n",
       "      <td>...</td>\n",
       "      <td>...</td>\n",
       "      <td>...</td>\n",
       "      <td>...</td>\n",
       "      <td>...</td>\n",
       "      <td>...</td>\n",
       "      <td>...</td>\n",
       "      <td>...</td>\n",
       "      <td>...</td>\n",
       "      <td>...</td>\n",
       "      <td>...</td>\n",
       "      <td>...</td>\n",
       "      <td>...</td>\n",
       "      <td>...</td>\n",
       "      <td>...</td>\n",
       "      <td>...</td>\n",
       "    </tr>\n",
       "    <tr>\n",
       "      <th>59509</th>\n",
       "      <td>#ZZLSSL</td>\n",
       "      <td>2023-01-07</td>\n",
       "      <td>1.0</td>\n",
       "      <td>6.0</td>\n",
       "      <td>153.0</td>\n",
       "      <td>68.00</td>\n",
       "      <td>2103.0</td>\n",
       "      <td>38.812</td>\n",
       "      <td>521.0</td>\n",
       "      <td>442.0</td>\n",
       "      <td>153.0</td>\n",
       "      <td>68.0</td>\n",
       "      <td>-</td>\n",
       "      <td>164.2</td>\n",
       "      <td>69.1</td>\n",
       "      <td>91.1</td>\n",
       "      <td>29.048656</td>\n",
       "      <td>0.444444</td>\n",
       "    </tr>\n",
       "    <tr>\n",
       "      <th>59510</th>\n",
       "      <td>#ZZLSSL</td>\n",
       "      <td>2023-01-08</td>\n",
       "      <td>1.0</td>\n",
       "      <td>6.0</td>\n",
       "      <td>153.0</td>\n",
       "      <td>68.00</td>\n",
       "      <td>2103.0</td>\n",
       "      <td>38.812</td>\n",
       "      <td>521.0</td>\n",
       "      <td>442.0</td>\n",
       "      <td>153.0</td>\n",
       "      <td>68.0</td>\n",
       "      <td>-</td>\n",
       "      <td>164.2</td>\n",
       "      <td>69.1</td>\n",
       "      <td>91.1</td>\n",
       "      <td>29.048656</td>\n",
       "      <td>0.444444</td>\n",
       "    </tr>\n",
       "    <tr>\n",
       "      <th>59511</th>\n",
       "      <td>#ZZLSSL</td>\n",
       "      <td>2023-01-09</td>\n",
       "      <td>1.0</td>\n",
       "      <td>6.0</td>\n",
       "      <td>153.0</td>\n",
       "      <td>68.00</td>\n",
       "      <td>2103.0</td>\n",
       "      <td>38.812</td>\n",
       "      <td>521.0</td>\n",
       "      <td>442.0</td>\n",
       "      <td>153.0</td>\n",
       "      <td>68.0</td>\n",
       "      <td>-</td>\n",
       "      <td>164.2</td>\n",
       "      <td>69.1</td>\n",
       "      <td>91.1</td>\n",
       "      <td>29.048656</td>\n",
       "      <td>0.444444</td>\n",
       "    </tr>\n",
       "    <tr>\n",
       "      <th>59512</th>\n",
       "      <td>#ZZLSSL</td>\n",
       "      <td>2023-01-10</td>\n",
       "      <td>1.0</td>\n",
       "      <td>6.0</td>\n",
       "      <td>153.0</td>\n",
       "      <td>68.00</td>\n",
       "      <td>2103.0</td>\n",
       "      <td>38.812</td>\n",
       "      <td>521.0</td>\n",
       "      <td>442.0</td>\n",
       "      <td>153.0</td>\n",
       "      <td>68.0</td>\n",
       "      <td>-</td>\n",
       "      <td>164.2</td>\n",
       "      <td>69.1</td>\n",
       "      <td>91.1</td>\n",
       "      <td>29.048656</td>\n",
       "      <td>0.444444</td>\n",
       "    </tr>\n",
       "    <tr>\n",
       "      <th>59513</th>\n",
       "      <td>#ZZLSSL</td>\n",
       "      <td>2023-01-11</td>\n",
       "      <td>1.0</td>\n",
       "      <td>6.0</td>\n",
       "      <td>153.0</td>\n",
       "      <td>68.00</td>\n",
       "      <td>2103.0</td>\n",
       "      <td>38.812</td>\n",
       "      <td>521.0</td>\n",
       "      <td>442.0</td>\n",
       "      <td>153.0</td>\n",
       "      <td>68.0</td>\n",
       "      <td>-</td>\n",
       "      <td>164.2</td>\n",
       "      <td>69.1</td>\n",
       "      <td>91.1</td>\n",
       "      <td>29.048656</td>\n",
       "      <td>0.444444</td>\n",
       "    </tr>\n",
       "  </tbody>\n",
       "</table>\n",
       "<p>59514 rows × 18 columns</p>\n",
       "</div>"
      ],
      "text/plain": [
       "            ID collect_datetime  gender  grade  height  weight  step_count  \\\n",
       "0      #AAGQKY       2022-07-14     2.0    4.0   148.0   45.15        72.0   \n",
       "1      #AAGQKY       2022-07-15     2.0    4.0   148.0   45.15        72.0   \n",
       "2      #AAGQKY       2022-07-16     2.0    4.0   148.0   45.15        72.0   \n",
       "3      #AAGQKY       2022-07-17     2.0    4.0   148.0   45.15        72.0   \n",
       "4      #AAGQKY       2022-07-18     2.0    4.0   148.0   45.15        72.0   \n",
       "...        ...              ...     ...    ...     ...     ...         ...   \n",
       "59509  #ZZLSSL       2023-01-07     1.0    6.0   153.0   68.00      2103.0   \n",
       "59510  #ZZLSSL       2023-01-08     1.0    6.0   153.0   68.00      2103.0   \n",
       "59511  #ZZLSSL       2023-01-09     1.0    6.0   153.0   68.00      2103.0   \n",
       "59512  #ZZLSSL       2023-01-10     1.0    6.0   153.0   68.00      2103.0   \n",
       "59513  #ZZLSSL       2023-01-11     1.0    6.0   153.0   68.00      2103.0   \n",
       "\n",
       "       burned calory  eat_calory  Sleep_time  before_height  before_weight  \\\n",
       "0              8.877      2000.0        12.0          148.0           45.3   \n",
       "1              8.877      2000.0        12.0          148.0           45.3   \n",
       "2              8.877      2000.0        12.0          148.0           45.3   \n",
       "3              8.877      2000.0        12.0          148.0           45.3   \n",
       "4              8.877      2000.0        12.0          148.0           45.3   \n",
       "...              ...         ...         ...            ...            ...   \n",
       "59509         38.812       521.0       442.0          153.0           68.0   \n",
       "59510         38.812       521.0       442.0          153.0           68.0   \n",
       "59511         38.812       521.0       442.0          153.0           68.0   \n",
       "59512         38.812       521.0       442.0          153.0           68.0   \n",
       "59513         38.812       521.0       442.0          153.0           68.0   \n",
       "\n",
       "      before_waist  after_height  after_weight  after_waist        bmi  \\\n",
       "0                -         148.0          45.0          NaN  20.612673   \n",
       "1                -         148.0          45.0          NaN  20.612673   \n",
       "2                -         148.0          45.0          NaN  20.612673   \n",
       "3                -         148.0          45.0          NaN  20.612673   \n",
       "4                -         148.0          45.0          NaN  20.612673   \n",
       "...            ...           ...           ...          ...        ...   \n",
       "59509            -         164.2          69.1         91.1  29.048656   \n",
       "59510            -         164.2          69.1         91.1  29.048656   \n",
       "59511            -         164.2          69.1         91.1  29.048656   \n",
       "59512            -         164.2          69.1         91.1  29.048656   \n",
       "59513            -         164.2          69.1         91.1  29.048656   \n",
       "\n",
       "       waist_bmi  \n",
       "0       0.306081  \n",
       "1       0.306081  \n",
       "2       0.306081  \n",
       "3       0.306081  \n",
       "4       0.306081  \n",
       "...          ...  \n",
       "59509   0.444444  \n",
       "59510   0.444444  \n",
       "59511   0.444444  \n",
       "59512   0.444444  \n",
       "59513   0.444444  \n",
       "\n",
       "[59514 rows x 18 columns]"
      ]
     },
     "execution_count": 178,
     "metadata": {},
     "output_type": "execute_result"
    }
   ],
   "source": [
    "df"
   ]
  },
  {
   "cell_type": "markdown",
   "id": "d999c7a4",
   "metadata": {
    "tags": []
   },
   "source": [
    "### 초기에 측정한 상태 데이터 세트"
   ]
  },
  {
   "cell_type": "code",
   "execution_count": 179,
   "id": "b37372c1",
   "metadata": {},
   "outputs": [],
   "source": [
    "df_init=df[df['collect_datetime']=='2022-07-14']"
   ]
  },
  {
   "cell_type": "code",
   "execution_count": 180,
   "id": "82ac7216",
   "metadata": {},
   "outputs": [],
   "source": [
    "df_init.reset_index(drop=True, inplace=True)"
   ]
  },
  {
   "cell_type": "code",
   "execution_count": 181,
   "id": "c7b64009",
   "metadata": {},
   "outputs": [],
   "source": [
    "temp_init=df_init.iloc[:,[2,3,4,5,6,7,8,9,16,17]]"
   ]
  },
  {
   "cell_type": "code",
   "execution_count": 182,
   "id": "b9bb8e1c-39bc-4ddf-93f3-271928c0aa9c",
   "metadata": {},
   "outputs": [
    {
     "data": {
      "text/plain": [
       "gender           0\n",
       "grade            0\n",
       "height           0\n",
       "weight           0\n",
       "step_count       0\n",
       "burned calory    0\n",
       "eat_calory       0\n",
       "Sleep_time       0\n",
       "bmi              0\n",
       "waist_bmi        3\n",
       "dtype: int64"
      ]
     },
     "execution_count": 182,
     "metadata": {},
     "output_type": "execute_result"
    }
   ],
   "source": [
    "temp_init.isnull().sum()"
   ]
  },
  {
   "cell_type": "code",
   "execution_count": 183,
   "id": "b0c645ba",
   "metadata": {},
   "outputs": [
    {
     "name": "stderr",
     "output_type": "stream",
     "text": [
      "C:\\Users\\jaemin\\Anaconda3\\envs\\jm\\lib\\site-packages\\pandas\\core\\generic.py:6392: SettingWithCopyWarning:\n",
      "\n",
      "\n",
      "A value is trying to be set on a copy of a slice from a DataFrame\n",
      "\n",
      "See the caveats in the documentation: https://pandas.pydata.org/pandas-docs/stable/user_guide/indexing.html#returning-a-view-versus-a-copy\n",
      "\n"
     ]
    }
   ],
   "source": [
    "temp_init['waist_bmi'].fillna(temp_init[(temp_init.bmi>20) & (temp_init.bmi<24)]['waist_bmi'].mean(),inplace=True)"
   ]
  },
  {
   "cell_type": "code",
   "execution_count": 184,
   "id": "ce8fda6f",
   "metadata": {},
   "outputs": [
    {
     "data": {
      "text/html": [
       "<div>\n",
       "<style scoped>\n",
       "    .dataframe tbody tr th:only-of-type {\n",
       "        vertical-align: middle;\n",
       "    }\n",
       "\n",
       "    .dataframe tbody tr th {\n",
       "        vertical-align: top;\n",
       "    }\n",
       "\n",
       "    .dataframe thead th {\n",
       "        text-align: right;\n",
       "    }\n",
       "</style>\n",
       "<table border=\"1\" class=\"dataframe\">\n",
       "  <thead>\n",
       "    <tr style=\"text-align: right;\">\n",
       "      <th></th>\n",
       "      <th>gender</th>\n",
       "      <th>grade</th>\n",
       "      <th>height</th>\n",
       "      <th>weight</th>\n",
       "      <th>step_count</th>\n",
       "      <th>burned calory</th>\n",
       "      <th>eat_calory</th>\n",
       "      <th>Sleep_time</th>\n",
       "      <th>bmi</th>\n",
       "      <th>waist_bmi</th>\n",
       "    </tr>\n",
       "  </thead>\n",
       "  <tbody>\n",
       "    <tr>\n",
       "      <th>0</th>\n",
       "      <td>2.0</td>\n",
       "      <td>4.0</td>\n",
       "      <td>148.000000</td>\n",
       "      <td>45.15</td>\n",
       "      <td>72.0</td>\n",
       "      <td>8.877</td>\n",
       "      <td>2000.0</td>\n",
       "      <td>12.0</td>\n",
       "      <td>20.612673</td>\n",
       "      <td>0.306081</td>\n",
       "    </tr>\n",
       "    <tr>\n",
       "      <th>1</th>\n",
       "      <td>2.0</td>\n",
       "      <td>4.0</td>\n",
       "      <td>136.016667</td>\n",
       "      <td>28.10</td>\n",
       "      <td>10079.0</td>\n",
       "      <td>8.877</td>\n",
       "      <td>2000.0</td>\n",
       "      <td>12.0</td>\n",
       "      <td>15.188751</td>\n",
       "      <td>0.208063</td>\n",
       "    </tr>\n",
       "    <tr>\n",
       "      <th>2</th>\n",
       "      <td>2.0</td>\n",
       "      <td>4.0</td>\n",
       "      <td>132.000000</td>\n",
       "      <td>29.00</td>\n",
       "      <td>100.0</td>\n",
       "      <td>8.877</td>\n",
       "      <td>421.0</td>\n",
       "      <td>12.0</td>\n",
       "      <td>16.643710</td>\n",
       "      <td>0.206439</td>\n",
       "    </tr>\n",
       "    <tr>\n",
       "      <th>3</th>\n",
       "      <td>1.0</td>\n",
       "      <td>5.0</td>\n",
       "      <td>136.100000</td>\n",
       "      <td>31.80</td>\n",
       "      <td>67.0</td>\n",
       "      <td>8.877</td>\n",
       "      <td>481.0</td>\n",
       "      <td>432.0</td>\n",
       "      <td>17.167651</td>\n",
       "      <td>0.255694</td>\n",
       "    </tr>\n",
       "    <tr>\n",
       "      <th>4</th>\n",
       "      <td>2.0</td>\n",
       "      <td>6.0</td>\n",
       "      <td>148.000000</td>\n",
       "      <td>39.00</td>\n",
       "      <td>200.0</td>\n",
       "      <td>8.877</td>\n",
       "      <td>748.0</td>\n",
       "      <td>432.0</td>\n",
       "      <td>17.804967</td>\n",
       "      <td>0.263514</td>\n",
       "    </tr>\n",
       "    <tr>\n",
       "      <th>...</th>\n",
       "      <td>...</td>\n",
       "      <td>...</td>\n",
       "      <td>...</td>\n",
       "      <td>...</td>\n",
       "      <td>...</td>\n",
       "      <td>...</td>\n",
       "      <td>...</td>\n",
       "      <td>...</td>\n",
       "      <td>...</td>\n",
       "      <td>...</td>\n",
       "    </tr>\n",
       "    <tr>\n",
       "      <th>322</th>\n",
       "      <td>1.0</td>\n",
       "      <td>5.0</td>\n",
       "      <td>148.000000</td>\n",
       "      <td>36.00</td>\n",
       "      <td>6966.0</td>\n",
       "      <td>97.573</td>\n",
       "      <td>976.0</td>\n",
       "      <td>500.0</td>\n",
       "      <td>16.435354</td>\n",
       "      <td>0.233784</td>\n",
       "    </tr>\n",
       "    <tr>\n",
       "      <th>323</th>\n",
       "      <td>1.0</td>\n",
       "      <td>4.0</td>\n",
       "      <td>139.000000</td>\n",
       "      <td>45.00</td>\n",
       "      <td>6966.0</td>\n",
       "      <td>97.573</td>\n",
       "      <td>976.0</td>\n",
       "      <td>500.0</td>\n",
       "      <td>23.290720</td>\n",
       "      <td>0.325742</td>\n",
       "    </tr>\n",
       "    <tr>\n",
       "      <th>324</th>\n",
       "      <td>1.0</td>\n",
       "      <td>4.0</td>\n",
       "      <td>121.100000</td>\n",
       "      <td>24.00</td>\n",
       "      <td>90.0</td>\n",
       "      <td>59.462</td>\n",
       "      <td>250.0</td>\n",
       "      <td>186.0</td>\n",
       "      <td>16.365262</td>\n",
       "      <td>0.203964</td>\n",
       "    </tr>\n",
       "    <tr>\n",
       "      <th>325</th>\n",
       "      <td>2.0</td>\n",
       "      <td>6.0</td>\n",
       "      <td>156.700000</td>\n",
       "      <td>47.90</td>\n",
       "      <td>3021.0</td>\n",
       "      <td>33.915</td>\n",
       "      <td>238.0</td>\n",
       "      <td>438.0</td>\n",
       "      <td>19.507316</td>\n",
       "      <td>0.319081</td>\n",
       "    </tr>\n",
       "    <tr>\n",
       "      <th>326</th>\n",
       "      <td>1.0</td>\n",
       "      <td>6.0</td>\n",
       "      <td>153.000000</td>\n",
       "      <td>68.00</td>\n",
       "      <td>2103.0</td>\n",
       "      <td>38.812</td>\n",
       "      <td>521.0</td>\n",
       "      <td>442.0</td>\n",
       "      <td>29.048656</td>\n",
       "      <td>0.444444</td>\n",
       "    </tr>\n",
       "  </tbody>\n",
       "</table>\n",
       "<p>327 rows × 10 columns</p>\n",
       "</div>"
      ],
      "text/plain": [
       "     gender  grade      height  weight  step_count  burned calory  eat_calory  \\\n",
       "0       2.0    4.0  148.000000   45.15        72.0          8.877      2000.0   \n",
       "1       2.0    4.0  136.016667   28.10     10079.0          8.877      2000.0   \n",
       "2       2.0    4.0  132.000000   29.00       100.0          8.877       421.0   \n",
       "3       1.0    5.0  136.100000   31.80        67.0          8.877       481.0   \n",
       "4       2.0    6.0  148.000000   39.00       200.0          8.877       748.0   \n",
       "..      ...    ...         ...     ...         ...            ...         ...   \n",
       "322     1.0    5.0  148.000000   36.00      6966.0         97.573       976.0   \n",
       "323     1.0    4.0  139.000000   45.00      6966.0         97.573       976.0   \n",
       "324     1.0    4.0  121.100000   24.00        90.0         59.462       250.0   \n",
       "325     2.0    6.0  156.700000   47.90      3021.0         33.915       238.0   \n",
       "326     1.0    6.0  153.000000   68.00      2103.0         38.812       521.0   \n",
       "\n",
       "     Sleep_time        bmi  waist_bmi  \n",
       "0          12.0  20.612673   0.306081  \n",
       "1          12.0  15.188751   0.208063  \n",
       "2          12.0  16.643710   0.206439  \n",
       "3         432.0  17.167651   0.255694  \n",
       "4         432.0  17.804967   0.263514  \n",
       "..          ...        ...        ...  \n",
       "322       500.0  16.435354   0.233784  \n",
       "323       500.0  23.290720   0.325742  \n",
       "324       186.0  16.365262   0.203964  \n",
       "325       438.0  19.507316   0.319081  \n",
       "326       442.0  29.048656   0.444444  \n",
       "\n",
       "[327 rows x 10 columns]"
      ]
     },
     "execution_count": 184,
     "metadata": {},
     "output_type": "execute_result"
    }
   ],
   "source": [
    "temp_init"
   ]
  },
  {
   "cell_type": "markdown",
   "id": "23589237-1e27-4ac3-a1e9-42cbfe98731b",
   "metadata": {
    "tags": []
   },
   "source": [
    "# 군집화"
   ]
  },
  {
   "cell_type": "code",
   "execution_count": 210,
   "id": "cfb06b96",
   "metadata": {},
   "outputs": [],
   "source": [
    "kmeans=KMeans(n_clusters=4,init='k-means++',max_iter=300,random_state=0).fit(temp_init)"
   ]
  },
  {
   "cell_type": "code",
   "execution_count": 211,
   "id": "fa5456a6",
   "metadata": {},
   "outputs": [
    {
     "name": "stdout",
     "output_type": "stream",
     "text": [
      "[0 1 0 0 0 1 3 3 0 0 0 0 0 0 3 3 0 0 0 0 3 3 0 0 3 3 3 3 3 1 1 0 0 0 0 0 3\n",
      " 3 3 3 1 1 0 3 0 3 0 0 3 3 0 0 0 0 0 3 0 0 0 0 0 0 3 0 0 0 3 0 0 0 3 3 3 0\n",
      " 0 0 0 0 0 0 3 0 0 0 0 0 0 3 0 0 0 1 0 0 0 0 0 3 0 0 0 0 1 0 3 3 0 0 0 0 0\n",
      " 3 3 3 3 0 0 3 0 0 0 0 1 1 0 0 0 0 0 0 0 1 0 3 3 3 0 0 1 0 0 0 0 0 0 0 0 0\n",
      " 0 1 1 3 3 3 0 0 0 3 3 0 0 0 1 0 0 0 0 0 0 3 0 0 0 1 1 0 0 3 3 3 3 0 3 0 0\n",
      " 0 0 1 0 3 3 0 0 0 0 0 0 3 3 3 3 0 0 0 0 3 0 0 0 3 1 1 3 0 3 0 0 0 0 0 0 3\n",
      " 0 3 3 0 0 0 3 0 3 3 3 0 0 0 3 0 3 2 2 0 0 0 3 0 3 0 3 0 0 0 0 0 0 0 0 3 0\n",
      " 0 0 0 0 3 3 0 0 0 0 3 3 0 0 0 0 3 0 3 0 0 0 0 0 0 0 0 0 0 0 0 3 3 3 0 0 0\n",
      " 0 0 0 0 3 0 0 3 3 3 0 0 1 3 3 3 1 1 0 0 1 3 3 0 0 3 3 3 0 0 0]\n",
      "[[1.59615385e+00 4.84134615e+00 1.46870994e+02 4.08744426e+01\n",
      "  8.41663462e+02 4.91581282e+01 7.74468750e+02 4.02353365e+02\n",
      "  1.87526094e+01 2.79639720e-01 2.22044605e-16]\n",
      " [1.58333333e+00 5.00000000e+00 1.46517361e+02 3.92041667e+01\n",
      "  1.39341250e+04 4.42966389e+01 8.03791667e+02 3.29326389e+02\n",
      "  1.78899757e+01 2.66541233e-01 1.00000000e+00]\n",
      " [2.00000000e+00 5.50000000e+00 1.56000000e+02 4.95000000e+01\n",
      "  3.76580000e+04 6.72160000e+01 8.58000000e+02 5.28000000e+02\n",
      "  2.05733882e+01 3.19938272e-01 2.00000000e+00]\n",
      " [1.54838710e+00 5.17204301e+00 1.49143728e+02 4.32746416e+01\n",
      "  5.97640323e+03 7.51000000e+01 7.20919355e+02 3.44535980e+02\n",
      "  1.93102175e+01 2.91507957e-01 3.00000000e+00]]\n",
      "12\n"
     ]
    }
   ],
   "source": [
    "print(kmeans.labels_)\n",
    "print(kmeans.cluster_centers_)\n",
    "print(kmeans.n_iter_)"
   ]
  },
  {
   "cell_type": "code",
   "execution_count": 212,
   "id": "11701e08",
   "metadata": {},
   "outputs": [
    {
     "name": "stderr",
     "output_type": "stream",
     "text": [
      "C:\\Users\\jaemin\\Anaconda3\\envs\\jm\\lib\\site-packages\\ipykernel_launcher.py:1: SettingWithCopyWarning:\n",
      "\n",
      "\n",
      "A value is trying to be set on a copy of a slice from a DataFrame.\n",
      "Try using .loc[row_indexer,col_indexer] = value instead\n",
      "\n",
      "See the caveats in the documentation: https://pandas.pydata.org/pandas-docs/stable/user_guide/indexing.html#returning-a-view-versus-a-copy\n",
      "\n"
     ]
    }
   ],
   "source": [
    "temp_init['cluster'] = kmeans.labels_"
   ]
  },
  {
   "cell_type": "markdown",
   "id": "364f03de",
   "metadata": {},
   "source": [
    "### 군집 찾기"
   ]
  },
  {
   "cell_type": "code",
   "execution_count": 213,
   "id": "26d988c8",
   "metadata": {},
   "outputs": [],
   "source": [
    "X = np.asarray(temp_init)"
   ]
  },
  {
   "cell_type": "code",
   "execution_count": 214,
   "id": "1b074fad",
   "metadata": {},
   "outputs": [
    {
     "name": "stdout",
     "output_type": "stream",
     "text": [
      "dict_keys(['ax', 'colors', 'estimator', 'is_fitted']) \n",
      "\n",
      "\n",
      "dict_keys(['ax', 'colors', 'estimator', 'is_fitted']) \n",
      "\n",
      "\n"
     ]
    },
    {
     "data": {
      "text/plain": [
       "SilhouetteVisualizer(ax=<AxesSubplot:>, colors='yellowbrick',\n",
       "                     estimator=KMeans())"
      ]
     },
     "execution_count": 214,
     "metadata": {},
     "output_type": "execute_result"
    },
    {
     "data": {
      "image/png": "[encoded data removed]",
      "text/plain": [
       "<Figure size 800x550 with 1 Axes>"
      ]
     },
     "metadata": {},
     "output_type": "display_data"
    }
   ],
   "source": [
    "from yellowbrick.cluster import SilhouetteVisualizer \n",
    "model = KMeans()\n",
    "visualizer = SilhouetteVisualizer(model,colors='yellowbrick')\n",
    "visualizer.fit(X.reshape(-1,1))"
   ]
  },
  {
   "cell_type": "markdown",
   "id": "80352996",
   "metadata": {},
   "source": [
    "### 시각화를 위해 8개 속성을 두개로 차원 축소한 뒤에 개별데이터로 보낸다."
   ]
  },
  {
   "cell_type": "code",
   "execution_count": 215,
   "id": "d95883b8",
   "metadata": {},
   "outputs": [
    {
     "name": "stderr",
     "output_type": "stream",
     "text": [
      "C:\\Users\\jaemin\\Anaconda3\\envs\\jm\\lib\\site-packages\\ipykernel_launcher.py:4: SettingWithCopyWarning:\n",
      "\n",
      "\n",
      "A value is trying to be set on a copy of a slice from a DataFrame.\n",
      "Try using .loc[row_indexer,col_indexer] = value instead\n",
      "\n",
      "See the caveats in the documentation: https://pandas.pydata.org/pandas-docs/stable/user_guide/indexing.html#returning-a-view-versus-a-copy\n",
      "\n"
     ]
    },
    {
     "data": {
      "image/png": "[encoded data removed]",
      "text/plain": [
       "<Figure size 800x550 with 1 Axes>"
      ]
     },
     "metadata": {},
     "output_type": "display_data"
    }
   ],
   "source": [
    "pca = PCA(n_components=4)\n",
    "pca_transformed = pca.fit_transform(temp_init)\n",
    "\n",
    "temp_init['pca_x'] = pca_transformed[:,0]\n",
    "temp_init['pca_y'] = pca_transformed[:,1]\n",
    "\n",
    "maker0_ind = temp_init[temp_init['cluster']==0].index\n",
    "maker1_ind = temp_init[temp_init['cluster']==1].index\n",
    "maker2_ind = temp_init[temp_init['cluster']==2].index\n",
    "maker3_ind = temp_init[temp_init['cluster']==3].index\n",
    "\n",
    "plt.scatter(x=temp_init.loc[maker0_ind,'pca_x'], y=temp_init.loc[maker0_ind, 'pca_y'], marker='o')\n",
    "plt.scatter(x=temp_init.loc[maker1_ind,'pca_x'], y=temp_init.loc[maker1_ind, 'pca_y'], marker='s')\n",
    "plt.scatter(x=temp_init.loc[maker2_ind,'pca_x'], y=temp_init.loc[maker2_ind, 'pca_y'], marker='^')\n",
    "plt.scatter(x=temp_init.loc[maker3_ind,'pca_x'], y=temp_init.loc[maker3_ind, 'pca_y'], marker='+')\n",
    "\n",
    "plt.xlabel('PCA 1')\n",
    "plt.ylabel('PCA 2')\n",
    "plt.title('3 Cluster Visualization by 2 PCA Components')\n",
    "plt.show()"
   ]
  },
  {
   "cell_type": "code",
   "execution_count": 216,
   "id": "bdcad3b7",
   "metadata": {},
   "outputs": [
    {
     "data": {
      "text/html": [
       "<div>\n",
       "<style scoped>\n",
       "    .dataframe tbody tr th:only-of-type {\n",
       "        vertical-align: middle;\n",
       "    }\n",
       "\n",
       "    .dataframe tbody tr th {\n",
       "        vertical-align: top;\n",
       "    }\n",
       "\n",
       "    .dataframe thead th {\n",
       "        text-align: right;\n",
       "    }\n",
       "</style>\n",
       "<table border=\"1\" class=\"dataframe\">\n",
       "  <thead>\n",
       "    <tr style=\"text-align: right;\">\n",
       "      <th></th>\n",
       "      <th>ID</th>\n",
       "      <th>collect_datetime</th>\n",
       "      <th>gender</th>\n",
       "      <th>grade</th>\n",
       "      <th>height</th>\n",
       "      <th>weight</th>\n",
       "      <th>step_count</th>\n",
       "      <th>burned calory</th>\n",
       "      <th>eat_calory</th>\n",
       "      <th>Sleep_time</th>\n",
       "      <th>before_height</th>\n",
       "      <th>before_weight</th>\n",
       "      <th>before_waist</th>\n",
       "      <th>after_height</th>\n",
       "      <th>after_weight</th>\n",
       "      <th>after_waist</th>\n",
       "      <th>bmi</th>\n",
       "      <th>waist_bmi</th>\n",
       "    </tr>\n",
       "  </thead>\n",
       "  <tbody>\n",
       "    <tr>\n",
       "      <th>239</th>\n",
       "      <td>#THZZDB</td>\n",
       "      <td>2022-07-14</td>\n",
       "      <td>2.0</td>\n",
       "      <td>6.0</td>\n",
       "      <td>162.0</td>\n",
       "      <td>45.0</td>\n",
       "      <td>37658.0</td>\n",
       "      <td>67.216</td>\n",
       "      <td>858.0</td>\n",
       "      <td>528.0</td>\n",
       "      <td>161.6</td>\n",
       "      <td>44.8</td>\n",
       "      <td>56</td>\n",
       "      <td>161.8</td>\n",
       "      <td>45.7</td>\n",
       "      <td>63.0</td>\n",
       "      <td>17.146776</td>\n",
       "      <td>0.276543</td>\n",
       "    </tr>\n",
       "    <tr>\n",
       "      <th>240</th>\n",
       "      <td>#TIHMOD</td>\n",
       "      <td>2022-07-14</td>\n",
       "      <td>2.0</td>\n",
       "      <td>5.0</td>\n",
       "      <td>150.0</td>\n",
       "      <td>54.0</td>\n",
       "      <td>37658.0</td>\n",
       "      <td>67.216</td>\n",
       "      <td>858.0</td>\n",
       "      <td>528.0</td>\n",
       "      <td>152.3</td>\n",
       "      <td>54.5</td>\n",
       "      <td>65</td>\n",
       "      <td>153.3</td>\n",
       "      <td>53.5</td>\n",
       "      <td>77.2</td>\n",
       "      <td>24.000000</td>\n",
       "      <td>0.363333</td>\n",
       "    </tr>\n",
       "  </tbody>\n",
       "</table>\n",
       "</div>"
      ],
      "text/plain": [
       "          ID collect_datetime  gender  grade  height  weight  step_count  \\\n",
       "239  #THZZDB       2022-07-14     2.0    6.0   162.0    45.0     37658.0   \n",
       "240  #TIHMOD       2022-07-14     2.0    5.0   150.0    54.0     37658.0   \n",
       "\n",
       "     burned calory  eat_calory  Sleep_time  before_height  before_weight  \\\n",
       "239         67.216       858.0       528.0          161.6           44.8   \n",
       "240         67.216       858.0       528.0          152.3           54.5   \n",
       "\n",
       "    before_waist  after_height  after_weight  after_waist        bmi  \\\n",
       "239           56         161.8          45.7         63.0  17.146776   \n",
       "240           65         153.3          53.5         77.2  24.000000   \n",
       "\n",
       "     waist_bmi  \n",
       "239   0.276543  \n",
       "240   0.363333  "
      ]
     },
     "execution_count": 216,
     "metadata": {},
     "output_type": "execute_result"
    }
   ],
   "source": [
    "df_init.iloc[239:241,:]"
   ]
  },
  {
   "cell_type": "markdown",
   "id": "2cc1f70b-88a9-4ccd-8930-4737e173e291",
   "metadata": {},
   "source": [
    "# plotly로 군집 분석"
   ]
  },
  {
   "cell_type": "code",
   "execution_count": 217,
   "id": "30fb17fc",
   "metadata": {},
   "outputs": [
    {
     "data": {
      "text/html": [
       "<div>\n",
       "<style scoped>\n",
       "    .dataframe tbody tr th:only-of-type {\n",
       "        vertical-align: middle;\n",
       "    }\n",
       "\n",
       "    .dataframe tbody tr th {\n",
       "        vertical-align: top;\n",
       "    }\n",
       "\n",
       "    .dataframe thead th {\n",
       "        text-align: right;\n",
       "    }\n",
       "</style>\n",
       "<table border=\"1\" class=\"dataframe\">\n",
       "  <thead>\n",
       "    <tr style=\"text-align: right;\">\n",
       "      <th></th>\n",
       "      <th>gender</th>\n",
       "      <th>grade</th>\n",
       "      <th>height</th>\n",
       "      <th>weight</th>\n",
       "      <th>step_count</th>\n",
       "      <th>burned calory</th>\n",
       "      <th>eat_calory</th>\n",
       "      <th>Sleep_time</th>\n",
       "      <th>bmi</th>\n",
       "      <th>waist_bmi</th>\n",
       "      <th>cluster</th>\n",
       "      <th>pca_x</th>\n",
       "      <th>pca_y</th>\n",
       "    </tr>\n",
       "  </thead>\n",
       "  <tbody>\n",
       "    <tr>\n",
       "      <th>0</th>\n",
       "      <td>2.0</td>\n",
       "      <td>4.0</td>\n",
       "      <td>148.000000</td>\n",
       "      <td>45.15</td>\n",
       "      <td>72.0</td>\n",
       "      <td>8.877</td>\n",
       "      <td>2000.0</td>\n",
       "      <td>12.0</td>\n",
       "      <td>20.612673</td>\n",
       "      <td>0.306081</td>\n",
       "      <td>0</td>\n",
       "      <td>-3413.066736</td>\n",
       "      <td>1242.786835</td>\n",
       "    </tr>\n",
       "    <tr>\n",
       "      <th>1</th>\n",
       "      <td>2.0</td>\n",
       "      <td>4.0</td>\n",
       "      <td>136.016667</td>\n",
       "      <td>28.10</td>\n",
       "      <td>10079.0</td>\n",
       "      <td>8.877</td>\n",
       "      <td>2000.0</td>\n",
       "      <td>12.0</td>\n",
       "      <td>15.188751</td>\n",
       "      <td>0.208063</td>\n",
       "      <td>1</td>\n",
       "      <td>6593.881085</td>\n",
       "      <td>1225.132473</td>\n",
       "    </tr>\n",
       "    <tr>\n",
       "      <th>2</th>\n",
       "      <td>2.0</td>\n",
       "      <td>4.0</td>\n",
       "      <td>132.000000</td>\n",
       "      <td>29.00</td>\n",
       "      <td>100.0</td>\n",
       "      <td>8.877</td>\n",
       "      <td>421.0</td>\n",
       "      <td>12.0</td>\n",
       "      <td>16.643710</td>\n",
       "      <td>0.206439</td>\n",
       "      <td>0</td>\n",
       "      <td>-3387.875784</td>\n",
       "      <td>-336.251135</td>\n",
       "    </tr>\n",
       "    <tr>\n",
       "      <th>3</th>\n",
       "      <td>1.0</td>\n",
       "      <td>5.0</td>\n",
       "      <td>136.100000</td>\n",
       "      <td>31.80</td>\n",
       "      <td>67.0</td>\n",
       "      <td>8.877</td>\n",
       "      <td>481.0</td>\n",
       "      <td>432.0</td>\n",
       "      <td>17.167651</td>\n",
       "      <td>0.255694</td>\n",
       "      <td>0</td>\n",
       "      <td>-3421.745676</td>\n",
       "      <td>-274.484754</td>\n",
       "    </tr>\n",
       "    <tr>\n",
       "      <th>4</th>\n",
       "      <td>2.0</td>\n",
       "      <td>6.0</td>\n",
       "      <td>148.000000</td>\n",
       "      <td>39.00</td>\n",
       "      <td>200.0</td>\n",
       "      <td>8.877</td>\n",
       "      <td>748.0</td>\n",
       "      <td>432.0</td>\n",
       "      <td>17.804967</td>\n",
       "      <td>0.263514</td>\n",
       "      <td>0</td>\n",
       "      <td>-3288.269437</td>\n",
       "      <td>-7.712850</td>\n",
       "    </tr>\n",
       "    <tr>\n",
       "      <th>...</th>\n",
       "      <td>...</td>\n",
       "      <td>...</td>\n",
       "      <td>...</td>\n",
       "      <td>...</td>\n",
       "      <td>...</td>\n",
       "      <td>...</td>\n",
       "      <td>...</td>\n",
       "      <td>...</td>\n",
       "      <td>...</td>\n",
       "      <td>...</td>\n",
       "      <td>...</td>\n",
       "      <td>...</td>\n",
       "      <td>...</td>\n",
       "    </tr>\n",
       "    <tr>\n",
       "      <th>322</th>\n",
       "      <td>1.0</td>\n",
       "      <td>5.0</td>\n",
       "      <td>148.000000</td>\n",
       "      <td>36.00</td>\n",
       "      <td>6966.0</td>\n",
       "      <td>97.573</td>\n",
       "      <td>976.0</td>\n",
       "      <td>500.0</td>\n",
       "      <td>16.435354</td>\n",
       "      <td>0.233784</td>\n",
       "      <td>3</td>\n",
       "      <td>3478.036397</td>\n",
       "      <td>208.280594</td>\n",
       "    </tr>\n",
       "    <tr>\n",
       "      <th>323</th>\n",
       "      <td>1.0</td>\n",
       "      <td>4.0</td>\n",
       "      <td>139.000000</td>\n",
       "      <td>45.00</td>\n",
       "      <td>6966.0</td>\n",
       "      <td>97.573</td>\n",
       "      <td>976.0</td>\n",
       "      <td>500.0</td>\n",
       "      <td>23.290720</td>\n",
       "      <td>0.325742</td>\n",
       "      <td>3</td>\n",
       "      <td>3478.036096</td>\n",
       "      <td>208.276186</td>\n",
       "    </tr>\n",
       "    <tr>\n",
       "      <th>324</th>\n",
       "      <td>1.0</td>\n",
       "      <td>4.0</td>\n",
       "      <td>121.100000</td>\n",
       "      <td>24.00</td>\n",
       "      <td>90.0</td>\n",
       "      <td>59.462</td>\n",
       "      <td>250.0</td>\n",
       "      <td>186.0</td>\n",
       "      <td>16.365262</td>\n",
       "      <td>0.203964</td>\n",
       "      <td>0</td>\n",
       "      <td>-3398.534261</td>\n",
       "      <td>-506.733735</td>\n",
       "    </tr>\n",
       "    <tr>\n",
       "      <th>325</th>\n",
       "      <td>2.0</td>\n",
       "      <td>6.0</td>\n",
       "      <td>156.700000</td>\n",
       "      <td>47.90</td>\n",
       "      <td>3021.0</td>\n",
       "      <td>33.915</td>\n",
       "      <td>238.0</td>\n",
       "      <td>438.0</td>\n",
       "      <td>19.507316</td>\n",
       "      <td>0.319081</td>\n",
       "      <td>0</td>\n",
       "      <td>-468.174687</td>\n",
       "      <td>-522.741862</td>\n",
       "    </tr>\n",
       "    <tr>\n",
       "      <th>326</th>\n",
       "      <td>1.0</td>\n",
       "      <td>6.0</td>\n",
       "      <td>153.000000</td>\n",
       "      <td>68.00</td>\n",
       "      <td>2103.0</td>\n",
       "      <td>38.812</td>\n",
       "      <td>521.0</td>\n",
       "      <td>442.0</td>\n",
       "      <td>29.048656</td>\n",
       "      <td>0.444444</td>\n",
       "      <td>0</td>\n",
       "      <td>-1385.670007</td>\n",
       "      <td>-238.128918</td>\n",
       "    </tr>\n",
       "  </tbody>\n",
       "</table>\n",
       "<p>327 rows × 13 columns</p>\n",
       "</div>"
      ],
      "text/plain": [
       "     gender  grade      height  weight  step_count  burned calory  eat_calory  \\\n",
       "0       2.0    4.0  148.000000   45.15        72.0          8.877      2000.0   \n",
       "1       2.0    4.0  136.016667   28.10     10079.0          8.877      2000.0   \n",
       "2       2.0    4.0  132.000000   29.00       100.0          8.877       421.0   \n",
       "3       1.0    5.0  136.100000   31.80        67.0          8.877       481.0   \n",
       "4       2.0    6.0  148.000000   39.00       200.0          8.877       748.0   \n",
       "..      ...    ...         ...     ...         ...            ...         ...   \n",
       "322     1.0    5.0  148.000000   36.00      6966.0         97.573       976.0   \n",
       "323     1.0    4.0  139.000000   45.00      6966.0         97.573       976.0   \n",
       "324     1.0    4.0  121.100000   24.00        90.0         59.462       250.0   \n",
       "325     2.0    6.0  156.700000   47.90      3021.0         33.915       238.0   \n",
       "326     1.0    6.0  153.000000   68.00      2103.0         38.812       521.0   \n",
       "\n",
       "     Sleep_time        bmi  waist_bmi  cluster        pca_x        pca_y  \n",
       "0          12.0  20.612673   0.306081        0 -3413.066736  1242.786835  \n",
       "1          12.0  15.188751   0.208063        1  6593.881085  1225.132473  \n",
       "2          12.0  16.643710   0.206439        0 -3387.875784  -336.251135  \n",
       "3         432.0  17.167651   0.255694        0 -3421.745676  -274.484754  \n",
       "4         432.0  17.804967   0.263514        0 -3288.269437    -7.712850  \n",
       "..          ...        ...        ...      ...          ...          ...  \n",
       "322       500.0  16.435354   0.233784        3  3478.036397   208.280594  \n",
       "323       500.0  23.290720   0.325742        3  3478.036096   208.276186  \n",
       "324       186.0  16.365262   0.203964        0 -3398.534261  -506.733735  \n",
       "325       438.0  19.507316   0.319081        0  -468.174687  -522.741862  \n",
       "326       442.0  29.048656   0.444444        0 -1385.670007  -238.128918  \n",
       "\n",
       "[327 rows x 13 columns]"
      ]
     },
     "execution_count": 217,
     "metadata": {},
     "output_type": "execute_result"
    }
   ],
   "source": [
    "temp_init"
   ]
  },
  {
   "cell_type": "code",
   "execution_count": 218,
   "id": "3b944d78-39d0-4383-bb19-38a26c933b88",
   "metadata": {},
   "outputs": [],
   "source": [
    "#temp_init=temp_init.iloc[:,[4,5,6,7,8,9]]"
   ]
  },
  {
   "cell_type": "code",
   "execution_count": 219,
   "id": "34df9e90-8d3c-49bc-baf0-69af380dfa56",
   "metadata": {},
   "outputs": [
    {
     "data": {
      "text/html": [
       "<div>\n",
       "<style scoped>\n",
       "    .dataframe tbody tr th:only-of-type {\n",
       "        vertical-align: middle;\n",
       "    }\n",
       "\n",
       "    .dataframe tbody tr th {\n",
       "        vertical-align: top;\n",
       "    }\n",
       "\n",
       "    .dataframe thead th {\n",
       "        text-align: right;\n",
       "    }\n",
       "</style>\n",
       "<table border=\"1\" class=\"dataframe\">\n",
       "  <thead>\n",
       "    <tr style=\"text-align: right;\">\n",
       "      <th></th>\n",
       "      <th>gender</th>\n",
       "      <th>grade</th>\n",
       "      <th>height</th>\n",
       "      <th>weight</th>\n",
       "      <th>step_count</th>\n",
       "      <th>burned calory</th>\n",
       "      <th>eat_calory</th>\n",
       "      <th>Sleep_time</th>\n",
       "      <th>bmi</th>\n",
       "      <th>waist_bmi</th>\n",
       "      <th>cluster</th>\n",
       "      <th>pca_x</th>\n",
       "      <th>pca_y</th>\n",
       "    </tr>\n",
       "  </thead>\n",
       "  <tbody>\n",
       "    <tr>\n",
       "      <th>0</th>\n",
       "      <td>2.0</td>\n",
       "      <td>4.0</td>\n",
       "      <td>148.000000</td>\n",
       "      <td>45.15</td>\n",
       "      <td>72.0</td>\n",
       "      <td>8.877</td>\n",
       "      <td>2000.0</td>\n",
       "      <td>12.0</td>\n",
       "      <td>20.612673</td>\n",
       "      <td>0.306081</td>\n",
       "      <td>0</td>\n",
       "      <td>-3413.066736</td>\n",
       "      <td>1242.786835</td>\n",
       "    </tr>\n",
       "    <tr>\n",
       "      <th>1</th>\n",
       "      <td>2.0</td>\n",
       "      <td>4.0</td>\n",
       "      <td>136.016667</td>\n",
       "      <td>28.10</td>\n",
       "      <td>10079.0</td>\n",
       "      <td>8.877</td>\n",
       "      <td>2000.0</td>\n",
       "      <td>12.0</td>\n",
       "      <td>15.188751</td>\n",
       "      <td>0.208063</td>\n",
       "      <td>1</td>\n",
       "      <td>6593.881085</td>\n",
       "      <td>1225.132473</td>\n",
       "    </tr>\n",
       "    <tr>\n",
       "      <th>2</th>\n",
       "      <td>2.0</td>\n",
       "      <td>4.0</td>\n",
       "      <td>132.000000</td>\n",
       "      <td>29.00</td>\n",
       "      <td>100.0</td>\n",
       "      <td>8.877</td>\n",
       "      <td>421.0</td>\n",
       "      <td>12.0</td>\n",
       "      <td>16.643710</td>\n",
       "      <td>0.206439</td>\n",
       "      <td>0</td>\n",
       "      <td>-3387.875784</td>\n",
       "      <td>-336.251135</td>\n",
       "    </tr>\n",
       "    <tr>\n",
       "      <th>3</th>\n",
       "      <td>1.0</td>\n",
       "      <td>5.0</td>\n",
       "      <td>136.100000</td>\n",
       "      <td>31.80</td>\n",
       "      <td>67.0</td>\n",
       "      <td>8.877</td>\n",
       "      <td>481.0</td>\n",
       "      <td>432.0</td>\n",
       "      <td>17.167651</td>\n",
       "      <td>0.255694</td>\n",
       "      <td>0</td>\n",
       "      <td>-3421.745676</td>\n",
       "      <td>-274.484754</td>\n",
       "    </tr>\n",
       "    <tr>\n",
       "      <th>4</th>\n",
       "      <td>2.0</td>\n",
       "      <td>6.0</td>\n",
       "      <td>148.000000</td>\n",
       "      <td>39.00</td>\n",
       "      <td>200.0</td>\n",
       "      <td>8.877</td>\n",
       "      <td>748.0</td>\n",
       "      <td>432.0</td>\n",
       "      <td>17.804967</td>\n",
       "      <td>0.263514</td>\n",
       "      <td>0</td>\n",
       "      <td>-3288.269437</td>\n",
       "      <td>-7.712850</td>\n",
       "    </tr>\n",
       "    <tr>\n",
       "      <th>...</th>\n",
       "      <td>...</td>\n",
       "      <td>...</td>\n",
       "      <td>...</td>\n",
       "      <td>...</td>\n",
       "      <td>...</td>\n",
       "      <td>...</td>\n",
       "      <td>...</td>\n",
       "      <td>...</td>\n",
       "      <td>...</td>\n",
       "      <td>...</td>\n",
       "      <td>...</td>\n",
       "      <td>...</td>\n",
       "      <td>...</td>\n",
       "    </tr>\n",
       "    <tr>\n",
       "      <th>322</th>\n",
       "      <td>1.0</td>\n",
       "      <td>5.0</td>\n",
       "      <td>148.000000</td>\n",
       "      <td>36.00</td>\n",
       "      <td>6966.0</td>\n",
       "      <td>97.573</td>\n",
       "      <td>976.0</td>\n",
       "      <td>500.0</td>\n",
       "      <td>16.435354</td>\n",
       "      <td>0.233784</td>\n",
       "      <td>3</td>\n",
       "      <td>3478.036397</td>\n",
       "      <td>208.280594</td>\n",
       "    </tr>\n",
       "    <tr>\n",
       "      <th>323</th>\n",
       "      <td>1.0</td>\n",
       "      <td>4.0</td>\n",
       "      <td>139.000000</td>\n",
       "      <td>45.00</td>\n",
       "      <td>6966.0</td>\n",
       "      <td>97.573</td>\n",
       "      <td>976.0</td>\n",
       "      <td>500.0</td>\n",
       "      <td>23.290720</td>\n",
       "      <td>0.325742</td>\n",
       "      <td>3</td>\n",
       "      <td>3478.036096</td>\n",
       "      <td>208.276186</td>\n",
       "    </tr>\n",
       "    <tr>\n",
       "      <th>324</th>\n",
       "      <td>1.0</td>\n",
       "      <td>4.0</td>\n",
       "      <td>121.100000</td>\n",
       "      <td>24.00</td>\n",
       "      <td>90.0</td>\n",
       "      <td>59.462</td>\n",
       "      <td>250.0</td>\n",
       "      <td>186.0</td>\n",
       "      <td>16.365262</td>\n",
       "      <td>0.203964</td>\n",
       "      <td>0</td>\n",
       "      <td>-3398.534261</td>\n",
       "      <td>-506.733735</td>\n",
       "    </tr>\n",
       "    <tr>\n",
       "      <th>325</th>\n",
       "      <td>2.0</td>\n",
       "      <td>6.0</td>\n",
       "      <td>156.700000</td>\n",
       "      <td>47.90</td>\n",
       "      <td>3021.0</td>\n",
       "      <td>33.915</td>\n",
       "      <td>238.0</td>\n",
       "      <td>438.0</td>\n",
       "      <td>19.507316</td>\n",
       "      <td>0.319081</td>\n",
       "      <td>0</td>\n",
       "      <td>-468.174687</td>\n",
       "      <td>-522.741862</td>\n",
       "    </tr>\n",
       "    <tr>\n",
       "      <th>326</th>\n",
       "      <td>1.0</td>\n",
       "      <td>6.0</td>\n",
       "      <td>153.000000</td>\n",
       "      <td>68.00</td>\n",
       "      <td>2103.0</td>\n",
       "      <td>38.812</td>\n",
       "      <td>521.0</td>\n",
       "      <td>442.0</td>\n",
       "      <td>29.048656</td>\n",
       "      <td>0.444444</td>\n",
       "      <td>0</td>\n",
       "      <td>-1385.670007</td>\n",
       "      <td>-238.128918</td>\n",
       "    </tr>\n",
       "  </tbody>\n",
       "</table>\n",
       "<p>327 rows × 13 columns</p>\n",
       "</div>"
      ],
      "text/plain": [
       "     gender  grade      height  weight  step_count  burned calory  eat_calory  \\\n",
       "0       2.0    4.0  148.000000   45.15        72.0          8.877      2000.0   \n",
       "1       2.0    4.0  136.016667   28.10     10079.0          8.877      2000.0   \n",
       "2       2.0    4.0  132.000000   29.00       100.0          8.877       421.0   \n",
       "3       1.0    5.0  136.100000   31.80        67.0          8.877       481.0   \n",
       "4       2.0    6.0  148.000000   39.00       200.0          8.877       748.0   \n",
       "..      ...    ...         ...     ...         ...            ...         ...   \n",
       "322     1.0    5.0  148.000000   36.00      6966.0         97.573       976.0   \n",
       "323     1.0    4.0  139.000000   45.00      6966.0         97.573       976.0   \n",
       "324     1.0    4.0  121.100000   24.00        90.0         59.462       250.0   \n",
       "325     2.0    6.0  156.700000   47.90      3021.0         33.915       238.0   \n",
       "326     1.0    6.0  153.000000   68.00      2103.0         38.812       521.0   \n",
       "\n",
       "     Sleep_time        bmi  waist_bmi  cluster        pca_x        pca_y  \n",
       "0          12.0  20.612673   0.306081        0 -3413.066736  1242.786835  \n",
       "1          12.0  15.188751   0.208063        1  6593.881085  1225.132473  \n",
       "2          12.0  16.643710   0.206439        0 -3387.875784  -336.251135  \n",
       "3         432.0  17.167651   0.255694        0 -3421.745676  -274.484754  \n",
       "4         432.0  17.804967   0.263514        0 -3288.269437    -7.712850  \n",
       "..          ...        ...        ...      ...          ...          ...  \n",
       "322       500.0  16.435354   0.233784        3  3478.036397   208.280594  \n",
       "323       500.0  23.290720   0.325742        3  3478.036096   208.276186  \n",
       "324       186.0  16.365262   0.203964        0 -3398.534261  -506.733735  \n",
       "325       438.0  19.507316   0.319081        0  -468.174687  -522.741862  \n",
       "326       442.0  29.048656   0.444444        0 -1385.670007  -238.128918  \n",
       "\n",
       "[327 rows x 13 columns]"
      ]
     },
     "execution_count": 219,
     "metadata": {},
     "output_type": "execute_result"
    }
   ],
   "source": [
    "temp_init"
   ]
  },
  {
   "cell_type": "code",
   "execution_count": 220,
   "id": "a630d242",
   "metadata": {},
   "outputs": [],
   "source": [
    "temp_init=temp_init[['gender', 'grade', 'height', 'weight', 'step_count', 'burned calory',\n",
    "       'eat_calory', 'Sleep_time', 'bmi', 'waist_bmi']]"
   ]
  },
  {
   "cell_type": "code",
   "execution_count": 221,
   "id": "8ec6093f",
   "metadata": {},
   "outputs": [
    {
     "data": {
      "text/plain": [
       "Index(['gender', 'grade', 'height', 'weight', 'step_count', 'burned calory',\n",
       "       'eat_calory', 'Sleep_time', 'bmi', 'waist_bmi'],\n",
       "      dtype='object')"
      ]
     },
     "execution_count": 221,
     "metadata": {},
     "output_type": "execute_result"
    }
   ],
   "source": [
    "temp_init.columns"
   ]
  },
  {
   "cell_type": "code",
   "execution_count": 228,
   "id": "dc92f2d9-a412-4627-855a-48b2c024a35b",
   "metadata": {},
   "outputs": [
    {
     "data": {
      "application/vnd.plotly.v1+json": {
       "config": {
        "plotlyServerURL": "https://plot.ly"
       },
       "data": [
        {
         "dimensions": [
          {
           "axis": {
            "matches": true
           },
           "label": "gender",
           "values": [
            2,
            2,
            2,
            1,
            2,
            2,
            1,
            2,
            1,
            2,
            2,
            1,
            2,
            2,
            1,
            1,
            1,
            2,
            2,
            1,
            1,
            1,
            2,
            1,
            2,
            2,
            2,
            1,
            2,
            2,
            2,
            2,
            2,
            1,
            2,
            2,
            2,
            2,
            2,
            2,
            1,
            1,
            2,
            1,
            2,
            2,
            1,
            1,
            2,
            2,
            1,
            2,
            1,
            2,
            2,
            2,
            2,
            2,
            1,
            1,
            2,
            1,
            2,
            2,
            1,
            2,
            2,
            1,
            1,
            1,
            2,
            2,
            2,
            2,
            2,
            1,
            2,
            2,
            2,
            1,
            1,
            1,
            1,
            2,
            2,
            1,
            1,
            1,
            1,
            2,
            1,
            1,
            2,
            2,
            1,
            2,
            2,
            2,
            2,
            1,
            1,
            2,
            2,
            2,
            2,
            2,
            2,
            2,
            2,
            1,
            1,
            2,
            2,
            1,
            2,
            2,
            1,
            1,
            1,
            1,
            1,
            2,
            1,
            1,
            1,
            1,
            1,
            2,
            2,
            2,
            2,
            1,
            1,
            1,
            1,
            1,
            2,
            2,
            2,
            1,
            1,
            2,
            2,
            2,
            1,
            2,
            2,
            1,
            2,
            1,
            2,
            1,
            1,
            1,
            2,
            2,
            2,
            2,
            2,
            2,
            2,
            2,
            2,
            2,
            1,
            2,
            2,
            2,
            2,
            1,
            1,
            1,
            2,
            2,
            1,
            2,
            2,
            2,
            2,
            1,
            2,
            2,
            1,
            1,
            1,
            2,
            1,
            2,
            2,
            2,
            1,
            1,
            2,
            1,
            1,
            1,
            1,
            1,
            2,
            1,
            2,
            2,
            2,
            2,
            1,
            1,
            2,
            2,
            2,
            1,
            2,
            2,
            2,
            2,
            2,
            2,
            2,
            2,
            2,
            2,
            2,
            1,
            2,
            2,
            2,
            2,
            1,
            2,
            2,
            2,
            2,
            1,
            1,
            2,
            2,
            1,
            1,
            1,
            1,
            2,
            2,
            1,
            1,
            2,
            2,
            2,
            2,
            2,
            2,
            1,
            2,
            1,
            1,
            1,
            1,
            2,
            2,
            1,
            2,
            1,
            2,
            2,
            2,
            2,
            2,
            1,
            2,
            1,
            2,
            2,
            1,
            2,
            1,
            1,
            2,
            2,
            1,
            1,
            2,
            1,
            2,
            1,
            2,
            1,
            1,
            2,
            1,
            2,
            2,
            2,
            1,
            1,
            2,
            2,
            2,
            1,
            2,
            1,
            2,
            2,
            2,
            1,
            1,
            1,
            2,
            1,
            2,
            1,
            2,
            2,
            2,
            1,
            1,
            1,
            2,
            2,
            2,
            1,
            1,
            2,
            1,
            2,
            1,
            1,
            1,
            2,
            1
           ]
          },
          {
           "axis": {
            "matches": true
           },
           "label": "grade",
           "values": [
            4,
            4,
            4,
            5,
            6,
            5,
            6,
            6,
            5,
            4,
            5,
            4,
            4,
            5,
            4,
            6,
            4,
            4,
            6,
            4,
            6,
            6,
            6,
            6,
            5,
            4,
            6,
            4,
            5,
            6,
            6,
            5,
            6,
            5,
            5,
            4,
            6,
            6,
            4,
            5,
            4,
            6,
            5,
            5,
            6,
            6,
            4,
            5,
            6,
            6,
            6,
            5,
            6,
            4,
            5,
            6,
            4,
            5,
            4,
            4,
            6,
            4,
            5,
            5,
            6,
            4,
            4,
            5,
            4,
            4,
            6,
            4,
            5,
            5,
            5,
            5,
            5,
            4,
            5,
            4,
            6,
            4,
            4,
            4,
            4,
            6,
            6,
            6,
            4,
            4,
            4,
            6,
            4,
            6,
            5,
            4,
            4,
            6,
            4,
            6,
            5,
            6,
            5,
            4,
            4,
            5,
            4,
            4,
            6,
            5,
            6,
            6,
            6,
            4,
            4,
            5,
            5,
            4,
            6,
            4,
            5,
            4,
            6,
            5,
            4,
            6,
            6,
            4,
            6,
            6,
            6,
            5,
            6,
            4,
            5,
            4,
            5,
            5,
            6,
            5,
            6,
            4,
            4,
            4,
            6,
            5,
            4,
            5,
            6,
            4,
            4,
            6,
            5,
            5,
            4,
            4,
            6,
            6,
            6,
            5,
            4,
            5,
            5,
            4,
            5,
            4,
            6,
            4,
            6,
            5,
            5,
            5,
            4,
            4,
            4,
            6,
            5,
            6,
            4,
            4,
            4,
            4,
            6,
            5,
            4,
            4,
            5,
            6,
            5,
            5,
            4,
            5,
            6,
            5,
            4,
            4,
            6,
            6,
            6,
            6,
            6,
            4,
            5,
            5,
            5,
            5,
            5,
            6,
            5,
            6,
            4,
            5,
            6,
            6,
            6,
            4,
            5,
            5,
            5,
            6,
            4,
            6,
            4,
            5,
            5,
            4,
            4,
            5,
            6,
            6,
            6,
            5,
            5,
            4,
            6,
            4,
            5,
            5,
            6,
            6,
            5,
            6,
            6,
            4,
            4,
            4,
            4,
            4,
            4,
            5,
            6,
            4,
            4,
            5,
            4,
            6,
            5,
            4,
            6,
            4,
            6,
            5,
            5,
            5,
            5,
            4,
            4,
            5,
            4,
            6,
            4,
            5,
            4,
            5,
            6,
            5,
            5,
            4,
            4,
            6,
            4,
            6,
            5,
            4,
            4,
            4,
            5,
            4,
            5,
            5,
            6,
            6,
            4,
            4,
            4,
            5,
            6,
            6,
            6,
            5,
            6,
            5,
            6,
            6,
            5,
            6,
            4,
            5,
            5,
            5,
            6,
            6,
            4,
            6,
            4,
            4,
            5,
            4,
            4,
            4,
            5,
            5,
            5,
            4,
            4,
            6,
            6
           ]
          },
          {
           "axis": {
            "matches": true
           },
           "label": "height",
           "values": [
            148,
            136.01666666666665,
            132,
            136.1,
            148,
            147.5,
            156,
            164,
            153,
            138,
            153.5,
            140.3,
            142,
            147,
            135,
            160,
            134,
            143,
            141.5,
            140,
            150,
            148,
            160,
            156.2,
            151,
            138.6,
            157,
            130,
            148,
            145,
            147,
            144,
            162,
            142,
            151,
            156,
            157.6,
            153,
            152,
            150,
            141,
            147.6,
            148,
            161,
            163,
            150.3,
            152.5,
            150,
            163,
            162,
            155,
            142,
            169,
            161,
            139,
            145,
            138,
            148.5,
            135,
            141,
            141,
            134,
            153.25,
            156,
            152,
            160,
            139,
            146.2,
            130,
            140,
            158,
            141,
            152,
            145,
            147,
            143,
            152,
            146,
            149,
            143,
            158,
            141,
            141,
            144,
            143,
            152,
            161,
            164,
            130,
            145,
            142,
            145,
            136.4,
            158.5,
            140,
            150.1,
            145.5,
            152,
            132,
            165,
            148,
            155,
            160,
            138.5,
            140,
            146,
            140,
            149,
            162,
            151,
            146,
            148,
            152,
            135,
            144,
            147,
            143,
            140,
            152.2,
            138,
            150,
            139.5,
            156.5,
            160,
            131.4,
            159.5,
            142,
            136,
            141.5,
            145,
            157,
            151,
            140,
            134,
            135,
            142,
            146,
            162.6,
            150,
            140,
            152,
            141,
            143,
            145,
            162.5,
            147,
            137.5,
            165,
            153,
            128,
            134,
            153.9,
            151,
            144,
            135,
            134,
            148,
            140,
            165,
            147,
            140,
            148.8,
            140,
            160,
            158,
            132.8,
            156,
            146,
            144.5,
            154.75,
            158,
            140,
            138,
            146,
            137,
            160,
            145,
            156,
            153.5,
            149,
            140,
            140,
            145,
            158.5,
            141,
            134,
            143,
            159,
            150,
            156,
            137,
            147,
            150,
            147,
            142,
            140,
            153,
            163,
            156,
            156,
            150,
            151,
            152,
            161,
            161.5,
            145,
            153,
            140,
            156,
            152,
            140,
            146.8,
            147,
            140,
            155,
            145,
            150,
            151.5,
            149,
            151,
            131,
            163,
            158,
            157,
            149.9,
            137.5,
            154,
            146.3,
            153,
            154.5,
            156,
            138,
            152,
            147,
            149,
            141,
            151,
            149.33333333333334,
            164,
            162,
            150,
            160,
            147.33333333333334,
            141,
            145,
            151.6,
            148.5,
            136.9,
            142,
            152,
            153,
            145,
            133.9,
            144,
            140,
            164,
            141.8,
            144,
            135,
            145,
            156,
            140,
            143.2,
            153,
            142,
            142,
            145,
            144,
            132,
            165,
            130,
            142,
            148.66666666666666,
            157,
            152.8,
            144,
            138,
            150,
            151,
            153,
            140,
            160,
            146,
            147.5,
            135,
            135,
            154,
            142,
            152,
            160,
            150,
            146,
            140,
            130,
            139.13333333333333,
            151,
            153,
            151,
            157,
            150,
            152,
            155,
            158.2,
            145,
            143.9,
            152,
            148.9,
            145,
            143,
            141.1,
            142,
            169.4,
            137,
            170,
            135,
            143,
            149,
            139,
            144,
            152,
            151.7,
            137.66666666666666,
            148,
            139,
            121.1,
            156.7,
            153
           ]
          },
          {
           "axis": {
            "matches": true
           },
           "label": "weight",
           "values": [
            45.15,
            28.100000000000005,
            29,
            31.8,
            39,
            37.3,
            51,
            65,
            68,
            38,
            46,
            37.2,
            29,
            36,
            36,
            55,
            38,
            45,
            29,
            36,
            50,
            53.6,
            45,
            39.5,
            62,
            31,
            46,
            26,
            31,
            37,
            35.3,
            34.4,
            42.45454545454545,
            35.9,
            40,
            42,
            55.5,
            41,
            37.6,
            43,
            36,
            37,
            45.7,
            43,
            50,
            39.5,
            67,
            60,
            47,
            70,
            61,
            32,
            62,
            52,
            34.56,
            35.5,
            41,
            43.7,
            34,
            39.7,
            35,
            34,
            55.75,
            40.2,
            39,
            47,
            33,
            30,
            30,
            38,
            46,
            31.666666666666668,
            38.9,
            39,
            45,
            38,
            33,
            38.9,
            36.5,
            33,
            52.5,
            35.2,
            40.7,
            27,
            39,
            51,
            42.7,
            45,
            28,
            40,
            45.7,
            39,
            44.5,
            40.9,
            31.5,
            34.8,
            44.5,
            48.3,
            40,
            41,
            47,
            46.8,
            50,
            38,
            37.3,
            46.9,
            28,
            38,
            35.1,
            48,
            35,
            37,
            38,
            37,
            38,
            35.4,
            40,
            38,
            40,
            31,
            49.3,
            30,
            42,
            67,
            25.36,
            64,
            42,
            26,
            37.9,
            34,
            39,
            53,
            36.142857142857146,
            29,
            33,
            38,
            34.3,
            50,
            34.6,
            31,
            42.5,
            28,
            34,
            38,
            49.4,
            36,
            43,
            90,
            35,
            25.9,
            24,
            51.4,
            57,
            35.9,
            29,
            30,
            35,
            37,
            47,
            45,
            28.9,
            48.8,
            40,
            49,
            57,
            26.5,
            51,
            34,
            43,
            63,
            70,
            33,
            30,
            32,
            30,
            36,
            42,
            48.7,
            45.1,
            53,
            30,
            33,
            28,
            58.333333333333336,
            35,
            30.9,
            35.5,
            50,
            53,
            40,
            37.3,
            36,
            53,
            43,
            38.8,
            40,
            65,
            67,
            41,
            66,
            37,
            37,
            36.7,
            44,
            56.5,
            53,
            36.7,
            32,
            52,
            44,
            40,
            36.8,
            38,
            26,
            38.5,
            35.5,
            39,
            35.25,
            36.5,
            34.1,
            28.25,
            52,
            44,
            45,
            51.9,
            34,
            43.9,
            45.4,
            48,
            63,
            49,
            42,
            42,
            35.7,
            39,
            31,
            38,
            39,
            41.8,
            45,
            54,
            62,
            35.833333333333336,
            33,
            42,
            48,
            34.4,
            25.2,
            28,
            45,
            53.8,
            40.7,
            26.9,
            51,
            24,
            67.7,
            35,
            36.7,
            30,
            35,
            63.25,
            36,
            39.5,
            49.7,
            44,
            42,
            34,
            36.8,
            25,
            50,
            30,
            35.9,
            32.2,
            60,
            39,
            35,
            29.1,
            45,
            52.7,
            58.9,
            32,
            70,
            45,
            53.4,
            26,
            35.9,
            43.7,
            34.7,
            34,
            47,
            37,
            34.3,
            43,
            30.7,
            24,
            41,
            54,
            36,
            43,
            42,
            58.4,
            47,
            52.2,
            45,
            40,
            42,
            48,
            58,
            32,
            37,
            30,
            61.625,
            26.9,
            77,
            35,
            40,
            30,
            36.8,
            44,
            43,
            45.3,
            30,
            36,
            45,
            24,
            47.9,
            68
           ]
          },
          {
           "axis": {
            "matches": true
           },
           "label": "step_count",
           "values": [
            72,
            10079,
            100,
            67,
            200,
            13256,
            9696,
            4649,
            145,
            145,
            145,
            0,
            0,
            2,
            8258,
            8258,
            20,
            20,
            35,
            2574,
            4483,
            4720,
            2443,
            789,
            5988,
            5229,
            5931,
            4175,
            4278,
            10843,
            10843,
            287,
            25,
            3144,
            2220,
            1748,
            7430,
            4651,
            4396,
            6973,
            13864,
            13864,
            3067,
            6055,
            38,
            4953,
            590,
            412,
            5467,
            5467,
            3,
            3255,
            3255,
            784,
            46,
            6412,
            230,
            230,
            30,
            993,
            1408,
            81,
            8168,
            406,
            556,
            556,
            5078,
            30,
            30,
            30,
            5713,
            5713,
            8540,
            641,
            1905,
            203,
            203,
            2069,
            2069,
            75,
            4066,
            589,
            3032,
            317,
            3000,
            3000,
            628,
            5007,
            2107,
            2107,
            2107,
            10988,
            0,
            57,
            715,
            17,
            905,
            8304,
            580,
            580,
            580,
            135,
            17993,
            15,
            6267,
            6267,
            1113,
            20,
            20,
            20,
            20,
            3484,
            4075,
            7789,
            5745,
            41,
            247,
            3559,
            47,
            1416,
            1416,
            16,
            16579,
            18914,
            83,
            127,
            1046,
            389,
            1606,
            53,
            284,
            10147,
            14,
            4874,
            4874,
            4874,
            2367,
            3110,
            11883,
            750,
            750,
            1226,
            7,
            6,
            8,
            0,
            10,
            8,
            1477,
            16973,
            16973,
            8531,
            6478,
            4115,
            1802,
            414,
            48,
            6681,
            4562,
            1209,
            146,
            146,
            18417,
            56,
            0,
            0,
            677,
            100,
            2037,
            5430,
            804,
            804,
            8,
            12210,
            12210,
            636,
            59,
            6145,
            3812,
            5092,
            6768,
            1380,
            7814,
            35,
            2969,
            2410,
            3302,
            16116,
            718,
            5795,
            4417,
            151,
            27,
            1848,
            73,
            74,
            74,
            4714,
            4714,
            4384,
            6344,
            0,
            1249,
            1249,
            1911,
            5294,
            508,
            508,
            766,
            7867,
            14993,
            14993,
            3889,
            208,
            7932,
            8,
            8,
            2675,
            2675,
            240,
            21,
            8326,
            1115,
            5055,
            9337,
            324,
            854,
            2326,
            6627,
            82,
            4947,
            8794,
            8794,
            1693,
            2788,
            2788,
            3526,
            2009,
            3478,
            37658,
            37658,
            2690,
            2869,
            18,
            4125,
            21,
            3444.5,
            0,
            5780,
            421,
            421,
            318,
            318,
            138,
            14,
            177,
            448,
            6114,
            53,
            3265,
            214,
            28,
            107,
            6722,
            8588,
            0,
            14,
            35,
            827,
            4592,
            6443,
            2452,
            212,
            363,
            363,
            4602,
            3206,
            5639,
            189,
            121,
            1042,
            891,
            472,
            38,
            2830,
            2830,
            487,
            487,
            487,
            2936,
            8388,
            8388,
            8388,
            103,
            338,
            2240,
            702,
            290,
            1702,
            1702,
            4522,
            2690,
            1436,
            4474,
            4474,
            4474,
            640,
            640,
            17278,
            8842,
            8842,
            8842,
            10516,
            10516,
            1980,
            31,
            13971,
            4849,
            4847,
            0,
            0,
            6966,
            6966,
            6966,
            90,
            3021,
            2103
           ]
          },
          {
           "axis": {
            "matches": true
           },
           "label": "burned calory",
           "values": [
            8.877,
            8.877,
            8.877,
            8.877,
            8.877,
            8.877,
            78.897,
            2.033,
            2.033,
            2.033,
            2.033,
            2.033,
            2.033,
            2.033,
            2.033,
            2.033,
            48.552,
            48.552,
            48.552,
            48.552,
            48.552,
            44.441,
            44.441,
            44.441,
            44.441,
            33.415,
            56.709,
            56.709,
            56.709,
            56.709,
            56.709,
            42.958,
            42.958,
            33.237,
            33.237,
            33.558,
            33.558,
            33.558,
            33.558,
            32.773,
            32.773,
            32.773,
            32.773,
            142.8,
            142.8,
            56.853,
            56.853,
            56.853,
            30.845,
            30.845,
            30.845,
            30.845,
            30.845,
            30.845,
            30.845,
            30.845,
            30.845,
            30.845,
            40.936,
            40.936,
            40.936,
            40.936,
            40.936,
            40.936,
            44.185,
            44.185,
            27.23,
            27.23,
            27.23,
            27.23,
            27.23,
            27.23,
            27.23,
            139.944,
            139.944,
            22.481,
            22.481,
            2.202,
            2.202,
            1.14,
            1.14,
            1.14,
            1.14,
            1.14,
            88.506,
            88.506,
            88.506,
            31.675,
            31.675,
            31.675,
            31.675,
            31.675,
            53.735,
            53.735,
            53.735,
            22.789,
            32.725,
            32.725,
            97.194,
            97.194,
            97.194,
            97.194,
            97.194,
            0.056,
            0.056,
            0.056,
            5.457,
            0.484,
            0.484,
            0.484,
            0.484,
            0.484,
            126.575,
            126.575,
            30.434,
            30.434,
            30.434,
            30.434,
            11.764666666666663,
            11.764666666666663,
            11.764666666666663,
            11.764666666666663,
            11.764666666666663,
            11.764666666666663,
            11.764666666666663,
            11.764666666666663,
            11.764666666666663,
            11.764666666666663,
            11.764666666666663,
            11.764666666666663,
            25.813,
            25.813,
            25.813,
            10.6315,
            10.6315,
            10.6315,
            10.6315,
            10.6315,
            10.6315,
            105.297,
            105.297,
            50.837,
            50.837,
            19.992,
            19.992,
            19.992,
            19.992,
            19.992,
            19.992,
            19.992,
            19.992,
            36.7,
            26.4105,
            26.4105,
            40.163,
            40.163,
            40.163,
            40.163,
            40.163,
            40.163,
            27.798,
            27.798,
            27.798,
            32.178,
            32.178,
            32.178,
            32.178,
            32.178,
            56.228,
            56.228,
            17.35,
            17.35,
            17.35,
            17.35,
            17.35,
            17.35,
            17.35,
            17.35,
            660.99,
            660.99,
            660.99,
            32.071,
            18.957,
            18.957,
            18.957,
            163.417,
            163.417,
            163.417,
            38.675,
            38.675,
            38.675,
            38.675,
            38.675,
            48.612,
            62.832,
            62.832,
            62.832,
            62.832,
            62.832,
            62.832,
            30.738,
            40.671,
            40.671,
            40.671,
            40.671,
            40.671,
            40.671,
            40.671,
            78.838,
            0.393,
            49.677,
            49.677,
            20.349,
            20.349,
            20.349,
            20.349,
            20.349,
            20.349,
            20.349,
            20.349,
            20.349,
            104.832,
            95.373,
            95.373,
            3.154,
            40.519,
            40.519,
            40.519,
            69.794,
            69.794,
            40.001,
            39.151,
            39.151,
            58.764,
            58.764,
            58.764,
            58.764,
            58.764,
            67.216,
            67.216,
            67.216,
            27.385,
            27.385,
            29.988,
            29.988,
            55.96,
            55.96,
            55.96,
            55.96,
            38.669,
            38.669,
            47.303,
            47.303,
            47.303,
            66.194,
            66.194,
            66.194,
            66.194,
            66.194,
            240.97,
            240.97,
            23.562,
            54.056,
            59.143,
            47.295,
            47.295,
            47.295,
            47.295,
            47.295,
            47.295,
            47.295,
            25.462,
            160.757,
            172.648,
            172.648,
            172.648,
            40.163,
            40.163,
            70.656,
            70.656,
            24.919,
            91.161,
            91.161,
            91.161,
            38.812,
            38.812,
            38.812,
            38.812,
            38.812,
            38.812,
            38.812,
            38.812,
            38.812,
            49.272,
            38.556,
            163.349,
            163.349,
            130.662,
            179.603,
            179.603,
            179.603,
            179.603,
            179.603,
            179.603,
            179.603,
            179.603,
            226.6255,
            226.6255,
            226.6255,
            226.6255,
            226.6255,
            226.6255,
            28.56,
            28.56,
            28.56,
            28.56,
            28.56,
            0.135,
            0.135,
            0.135,
            0.135,
            97.573,
            97.573,
            97.573,
            59.462,
            33.915,
            38.812
           ]
          },
          {
           "axis": {
            "matches": true
           },
           "label": "eat_calory",
           "values": [
            2000,
            2000,
            421,
            481,
            748,
            285,
            160,
            546,
            580,
            580,
            580,
            580,
            580,
            228,
            1758,
            1758,
            474,
            474,
            534,
            534,
            293,
            348,
            348,
            1390,
            1284,
            285,
            415,
            513,
            513,
            468,
            468,
            247,
            239,
            208,
            357,
            5812,
            587,
            1063,
            1044,
            285,
            552,
            552,
            450,
            350,
            1567,
            634,
            111,
            568,
            521,
            521,
            521,
            521,
            521,
            521,
            385,
            858,
            241,
            241,
            462,
            93,
            89,
            89,
            360,
            268,
            247,
            247,
            247,
            134,
            134,
            134,
            1140.5,
            1140.5,
            300,
            174,
            174,
            205,
            205,
            226,
            669,
            8368,
            302,
            302,
            176,
            309,
            840,
            840,
            840,
            190,
            190,
            190,
            584,
            1151,
            761,
            412.5,
            428,
            431,
            653,
            673,
            510,
            283,
            283,
            283,
            283,
            283,
            97,
            625,
            857,
            687,
            133,
            133,
            133,
            133,
            175,
            759,
            1257,
            1257,
            3607,
            3607,
            572,
            280,
            280,
            1139,
            176,
            2252,
            2252,
            580,
            906,
            2737,
            266,
            1256,
            440,
            440,
            495,
            410,
            443,
            443,
            360,
            772,
            1251,
            871.5,
            871.5,
            535,
            561,
            148,
            2535,
            2535,
            573,
            572,
            572,
            458,
            568,
            351.5,
            536,
            667,
            589,
            273.5,
            190,
            271,
            280,
            280,
            2024,
            2024,
            2024,
            253,
            972,
            663.5,
            663.5,
            663.5,
            360,
            360,
            230,
            230,
            230,
            745,
            745,
            745,
            511,
            567,
            314,
            769.5,
            703,
            340,
            2752,
            455,
            455,
            184,
            378,
            176,
            153,
            1110,
            761,
            185,
            293,
            528,
            1919,
            1919,
            1919,
            1919,
            1919,
            576.5,
            503,
            1053,
            220,
            269,
            10669,
            391.5,
            265,
            265,
            353,
            1536,
            1536,
            1536,
            96,
            905,
            446,
            591,
            624,
            1410,
            1410,
            320,
            422,
            5793,
            5346,
            295,
            292,
            304,
            1797,
            561,
            689,
            280,
            97,
            97,
            97,
            2314,
            953,
            953,
            539,
            585,
            1275,
            858,
            858,
            858,
            858,
            449,
            392,
            392,
            392,
            926,
            293,
            175,
            175,
            2045,
            2045,
            192,
            869,
            869,
            610,
            8,
            124,
            334,
            334,
            117,
            1940,
            884,
            729,
            729,
            192,
            544,
            604,
            85,
            85,
            266,
            748,
            848,
            848,
            431,
            525,
            3561,
            1182,
            1182,
            263,
            179,
            985,
            985,
            288,
            288,
            446,
            446,
            1617,
            481,
            536,
            536,
            536,
            673,
            766,
            539,
            564,
            564,
            701,
            345,
            293,
            686,
            436,
            436,
            436,
            436,
            436,
            436,
            436,
            121,
            482.5,
            85,
            244,
            244,
            340,
            701,
            701,
            734,
            585,
            1161,
            801,
            976,
            976,
            976,
            250,
            238,
            521
           ]
          },
          {
           "axis": {
            "matches": true
           },
           "label": "Sleep_time",
           "values": [
            12,
            12,
            12,
            432,
            432,
            348,
            450,
            432,
            252,
            252,
            252,
            237,
            237,
            237,
            201,
            201,
            168,
            168,
            221.5,
            396,
            234,
            402,
            402,
            168,
            168,
            60,
            462,
            462,
            333,
            333,
            333,
            552,
            552,
            354,
            258,
            377,
            377,
            511,
            502,
            12,
            546,
            546,
            462.5,
            213,
            438,
            114,
            486,
            486,
            330,
            330,
            216,
            258,
            258,
            258,
            258,
            258,
            258,
            258,
            654,
            414,
            414,
            444,
            444,
            462,
            487,
            487,
            450,
            490,
            490,
            490,
            48,
            48,
            442,
            264,
            264,
            545,
            545,
            545,
            545,
            576,
            576,
            177,
            480,
            518,
            327,
            327,
            522,
            487,
            522,
            522,
            522,
            426,
            480,
            480,
            480,
            474,
            258,
            234,
            530,
            530,
            530,
            530,
            254.5,
            527,
            485,
            485,
            569,
            462,
            462,
            462,
            462,
            557,
            164.5,
            180,
            450,
            588,
            576,
            200.5,
            294,
            450,
            450,
            156,
            150,
            237,
            288,
            397,
            586,
            432,
            444,
            444,
            456,
            456,
            456,
            5.333333333333333,
            5.333333333333333,
            5.333333333333333,
            252,
            357,
            417.3333333333333,
            314,
            314,
            489,
            489,
            672,
            517,
            378,
            240,
            437,
            437,
            437,
            437,
            442,
            396,
            396,
            198,
            30,
            480,
            297,
            492,
            486,
            18,
            18,
            18,
            348,
            534,
            534,
            534,
            534,
            498,
            498,
            186,
            186,
            312,
            312,
            312,
            540,
            492,
            257,
            357,
            357,
            372,
            558,
            460,
            460,
            460,
            319,
            319,
            319,
            546,
            396,
            516,
            378,
            450,
            12,
            330,
            330,
            330,
            450,
            450,
            450,
            196.5,
            486,
            486,
            486,
            486,
            30,
            155,
            155,
            519,
            324,
            459,
            459,
            32.84615384615385,
            504,
            504,
            456,
            456,
            456,
            456,
            186,
            396,
            390,
            420,
            420,
            366,
            504,
            582,
            582,
            186,
            312,
            504,
            504,
            504,
            552,
            440,
            440,
            474,
            516,
            528,
            528,
            528,
            453,
            453,
            522,
            165,
            53,
            53,
            286.5,
            286.5,
            239.5,
            239.5,
            396,
            396,
            396,
            396,
            396,
            510,
            510,
            336.5,
            468,
            486,
            444,
            480,
            575,
            456,
            528,
            528,
            528,
            528,
            186,
            186,
            186,
            204,
            228,
            228,
            456,
            420,
            420,
            480,
            480,
            420,
            744,
            486,
            201,
            666,
            666,
            666,
            666,
            666,
            426,
            426,
            408,
            408,
            402,
            495,
            288,
            288,
            564.5,
            132,
            132,
            132,
            336,
            336,
            336,
            336,
            336,
            426,
            426,
            540,
            444,
            444,
            390,
            186,
            186,
            455,
            234,
            180,
            210,
            510,
            486,
            486,
            500,
            500,
            500,
            186,
            438,
            442
           ]
          },
          {
           "axis": {
            "matches": true
           },
           "label": "bmi",
           "values": [
            20.612673484295104,
            15.188751087224652,
            16.643709825528006,
            17.167650747359666,
            17.804967129291455,
            17.144498707268024,
            20.956607495069036,
            24.167162403331343,
            29.04865649963689,
            19.95379122033186,
            19.52275355706692,
            18.8985114374096,
            14.382067050188455,
            16.65972511453561,
            19.753086419753085,
            21.484375,
            21.16284250389841,
            22.00596606191012,
            14.483886676072869,
            18.367346938775505,
            22.22222222222222,
            24.470416362308256,
            17.578124999999996,
            16.18955966037173,
            27.19178983377922,
            16.137462024907915,
            18.66201468619417,
            15.384615384615383,
            14.152666179693208,
            17.598097502972653,
            16.335786015086306,
            16.589506172839506,
            16.176857740643744,
            17.80400714144019,
            17.543090215341433,
            17.258382642998026,
            22.34501017805148,
            17.51463112478107,
            16.274238227146814,
            19.11111111111111,
            18.107741059302853,
            16.983570919720037,
            20.86376917457999,
            16.58886617028664,
            18.818924310286423,
            17.485543439623303,
            28.80945982262832,
            26.666666666666668,
            17.68978885166924,
            26.672763298277697,
            25.390218522372525,
            15.869867089863122,
            21.707923392038097,
            20.060954438486167,
            17.887272915480562,
            16.884661117717002,
            21.529090527200164,
            19.81657200512419,
            18.6556927297668,
            19.968814445953427,
            17.6047482521,
            18.93517487190911,
            23.737987966011037,
            16.518737672583825,
            16.880193905817176,
            18.359375,
            17.07986129082345,
            14.035455431814825,
            17.751479289940825,
            19.387755102040813,
            18.42653420926133,
            15.928105561423807,
            16.83691135734072,
            18.549346016646847,
            20.82465639316952,
            18.58281578561299,
            14.283240997229916,
            18.24920247701257,
            16.44070086933021,
            16.137708445400754,
            21.030283608396086,
            17.70534681354057,
            20.471807253156285,
            13.020833333333334,
            19.07183725365544,
            22.07409972299169,
            16.47312989467999,
            16.73111243307555,
            16.568047337278106,
            19.024970273483948,
            22.66415393771077,
            18.549346016646847,
            23.918352955340936,
            16.280388898287374,
            16.07142857142857,
            15.446065048351066,
            21.02006353255157,
            20.905470914127424,
            22.95684113865932,
            15.059687786960511,
            21.4572680788897,
            19.479708636836627,
            19.53125,
            19.80998058100588,
            19.030612244897952,
            22.002251829611563,
            14.285714285714285,
            17.116346110535563,
            13.374485596707816,
            21.05170825840972,
            16.419590917620567,
            16.89189189189189,
            16.44736842105263,
            20.301783264746224,
            18.325617283950617,
            16.382063029293352,
            19.560858721697887,
            19.387755102040813,
            17.267548577931038,
            16.27809283763915,
            21.91111111111111,
            15.41604039002582,
            17.148281599281407,
            26.171875,
            14.687859812023191,
            25.156985485598607,
            20.829200555445347,
            14.057093425605531,
            18.92894155252281,
            16.171224732461354,
            15.82214288612114,
            23.2445945353274,
            18.4402332361516,
            16.150590331922473,
            18.10699588477366,
            18.84546716921246,
            16.091199099268156,
            18.91162823067345,
            15.377777777777778,
            15.816326530612242,
            18.395083102493075,
            14.083798601679998,
            16.626729913443203,
            18.07372175980975,
            18.70769230769231,
            16.65972511453561,
            22.74380165289256,
            33.05785123966941,
            14.951514374813106,
            15.808105468749998,
            13.36600579193584,
            21.701306427090994,
            24.998903556861546,
            17.312885802469136,
            15.912208504801097,
            16.707507239919803,
            15.97881665449233,
            18.87755102040816,
            17.263544536271805,
            20.82465639316952,
            14.74489795918367,
            22.040120245115038,
            20.40816326530612,
            19.140625,
            22.832879346258608,
            15.02621933517201,
            20.956607495069036,
            15.950459748545695,
            20.593623160642235,
            26.30747910147431,
            28.04037814452812,
            16.83673469387755,
            15.752993068683049,
            15.012197410395949,
            15.98380307954606,
            14.062499999999996,
            19.976218787158142,
            20.011505588428665,
            19.14078663964604,
            23.872798522589072,
            15.306122448979588,
            16.83673469387755,
            13.317479191438764,
            23.219788567239533,
            17.6047482521,
            17.208732457117396,
            17.360262115506874,
            19.77769866698311,
            23.55555555555556,
            16.43655489809336,
            19.8731951622356,
            16.65972511453561,
            23.55555555555556,
            19.899116109028647,
            19.242213846459038,
            20.40816326530612,
            27.76709812465291,
            25.217358575783805,
            16.847468770545692,
            27.12031558185404,
            16.444444444444443,
            16.227358449190824,
            15.884695290858726,
            16.97465375564214,
            21.66224156274861,
            25.20808561236623,
            15.67773078730403,
            16.326530612244895,
            21.36752136752137,
            19.04432132963989,
            20.40816326530612,
            17.07637594755325,
            17.58526539867648,
            13.265306122448976,
            16.02497398543184,
            16.884661117717002,
            17.333333333333332,
            15.357971440708424,
            16.44070086933021,
            14.955484408578572,
            16.461744653574964,
            19.57168128269788,
            17.625380547989103,
            18.25631871475516,
            23.09745300513885,
            17.983471074380166,
            18.510710069151628,
            21.21129580927401,
            20.504933999743688,
            26.392685455745124,
            20.134779750164363,
            22.054190296156268,
            18.178670360110804,
            16.520894071914483,
            17.56677627133913,
            15.59277702328857,
            16.66593570457436,
            17.48844068877551,
            15.54134443783462,
            17.146776406035663,
            24,
            24.21875,
            16.50764726356954,
            16.598762637694282,
            19.976218787158142,
            20.88540180032164,
            15.599315262614924,
            13.446016644247743,
            13.886133703630232,
            19.47714681440443,
            22.982613524712715,
            19.35790725326992,
            15.0034496779278,
            24.59490740740741,
            12.244897959183673,
            25.17102914931588,
            17.406665459804522,
            17.69868827160494,
            16.46090534979424,
            16.646848989298455,
            25.99030243261012,
            18.367346938775505,
            19.26242938734746,
            21.23115041223461,
            21.821067248561796,
            20.829200555445347,
            16.171224732461354,
            17.746913580246915,
            14.348025711662071,
            18.36547291092745,
            17.751479289940825,
            17.80400714144019,
            14.568963783707698,
            24.341758286340216,
            16.70390066061785,
            16.878858024691358,
            15.280403276622556,
            20,
            23.113021358712334,
            25.161262762185483,
            16.326530612244895,
            27.34375,
            21.110902608369305,
            24.54467107153117,
            14.266117969821671,
            19.69821673525377,
            18.426378815989207,
            17.208887125570325,
            14.71606648199446,
            18.359375,
            16.444444444444443,
            16.091199099268156,
            21.93877551020408,
            18.165680473372777,
            12.397920914580853,
            17.981667470724968,
            23.06805074971165,
            15.788781193807289,
            17.444926771877153,
            18.666666666666668,
            25.277008310249307,
            19.562955254942764,
            20.857273914342937,
            21.40309155766944,
            19.316943228952617,
            18.178670360110804,
            21.64969796416163,
            27.58620689655172,
            15.648686977358308,
            18.584363719102868,
            14.878000396746678,
            21.474849074934934,
            14.332143427992964,
            26.64359861591696,
            19.204389574759944,
            19.560858721697887,
            13.512904824107023,
            19.046633197039487,
            21.219135802469136,
            18.611495844875343,
            19.6846202280548,
            15.82937110494873,
            16.43535427319211,
            23.29071994203198,
            16.36526173167653,
            19.507316058023477,
            29.04865649963689
           ]
          },
          {
           "axis": {
            "matches": true
           },
           "label": "waist_bmi",
           "values": [
            0.306081081081081,
            0.2080627374096312,
            0.2064393939393939,
            0.2556943423952976,
            0.2635135135135135,
            0.2528813559322033,
            0.3256410256410256,
            0.3926829268292683,
            0.4444444444444444,
            0.2753623188405797,
            0.304885993485342,
            0.2658588738417676,
            0.2063380281690141,
            0.2428571428571428,
            0.2688888888888888,
            0.34125,
            0.2779850746268656,
            0.3192307692307692,
            0.2049469964664311,
            0.2385714285714285,
            0.3353333333333333,
            0.3587837837837838,
            0.288125,
            0.2439180537772087,
            0.4125827814569536,
            0.2254689754689754,
            0.286624203821656,
            0.2,
            0.2277027027027027,
            0.2551724137931034,
            0.2414965986394557,
            0.2388888888888888,
            0.2777777777777778,
            0.2528169014084507,
            0.2649006622516556,
            0.2759615384615384,
            0.3489847715736041,
            0.269281045751634,
            0.2476973684210526,
            0.292,
            0.2567375886524823,
            0.2560975609756097,
            0.3108108108108108,
            0.2714285714285714,
            0.3257668711656442,
            0.2648037258815701,
            0.4393442622950819,
            0.4019999999999999,
            0.2852760736196319,
            0.4537037037037037,
            0.3987096774193548,
            0.3577464788732394,
            0.3621301775147929,
            0.3229813664596273,
            0.2474820143884891,
            0.2448275862068965,
            0.3036231884057971,
            0.2895622895622896,
            0.254074074074074,
            0.2879432624113475,
            0.2588652482269503,
            0.2582089552238806,
            0.3608482871125612,
            0.2858974358974359,
            0.2493421052631579,
            0.2984375,
            0.2467625899280575,
            0.20109439124487,
            0.2307692307692307,
            0.2785714285714286,
            0.2981012658227848,
            0.2404255319148936,
            0.2532894736842105,
            0.2793103448275862,
            0.3034013605442177,
            0.2678321678321678,
            0.2151315789473684,
            0.2749999999999999,
            0.2449664429530201,
            0.2353146853146853,
            0.3284810126582278,
            0.251063829787234,
            0.2865248226950354,
            0.1809027777777777,
            0.2804195804195804,
            0.3453947368421052,
            0.2590062111801242,
            0.2768292682926829,
            0.2307692307692307,
            0.2993103448275861,
            0.3235915492957746,
            0.2641379310344827,
            0.3299120234604105,
            0.2757097791798107,
            0.225,
            0.2335109926715523,
            0.3092783505154639,
            0.3217105263157894,
            0.3234848484848485,
            0.2521212121212121,
            0.3175675675675675,
            0.2987096774193548,
            0.3175,
            0.2620938628158845,
            0.2714285714285714,
            0.3143835616438356,
            0.2,
            0.2573825503355705,
            0.2302469135802469,
            0.3311258278145695,
            0.2315068493150684,
            0.2472972972972973,
            0.2546052631578948,
            0.2748148148148148,
            0.2732638888888889,
            0.2414965986394557,
            0.2811188811188811,
            0.2714285714285714,
            0.2733245729303548,
            0.2264492753623188,
            0.326,
            0.2114695340501792,
            0.2645367412140575,
            0.41875,
            0.191400304414003,
            0.4150470219435737,
            0.2964788732394366,
            0.1911764705882352,
            0.2643109540636042,
            0.2337931034482758,
            0.2528662420382165,
            0.3556291390728477,
            0.2607142857142857,
            0.2238805970149253,
            0.2474074074074074,
            0.2672535211267606,
            0.2417808219178082,
            0.3136531365313653,
            0.2219999999999999,
            0.2407142857142857,
            0.2894736842105263,
            0.201418439716312,
            0.251048951048951,
            0.2662068965517241,
            0.3126153846153846,
            0.246938775510204,
            0.3090909090909091,
            0.5915151515151514,
            0.2287581699346405,
            0.203125,
            0.1847014925373134,
            0.3300844704353476,
            0.3701986754966887,
            0.2493055555555555,
            0.2148148148148148,
            0.235820895522388,
            0.2472972972972973,
            0.2642857142857143,
            0.2884848484848485,
            0.3156462585034013,
            0.2028571428571428,
            0.325268817204301,
            0.2871428571428571,
            0.300625,
            0.3715189873417722,
            0.1995481927710843,
            0.3269230769230769,
            0.2328767123287671,
            0.2975778546712803,
            0.427140549273021,
            0.4316455696202532,
            0.2357142857142857,
            0.2148550724637681,
            0.2212328767123287,
            0.2182481751824817,
            0.229375,
            0.3082758620689655,
            0.3108974358974359,
            0.2899022801302932,
            0.363758389261745,
            0.2232142857142857,
            0.275,
            0.193103448275862,
            0.3709779179810725,
            0.2478723404255319,
            0.2324626865671641,
            0.2482517482517482,
            0.3182389937106918,
            0.3093333333333333,
            0.2564102564102564,
            0.275912408759124,
            0.2551020408163265,
            0.3533333333333333,
            0.2891156462585034,
            0.2686619718309859,
            0.3421428571428571,
            0.4124183006535948,
            0.4110429447852761,
            0.2711538461538461,
            0.4275641025641026,
            0.254,
            0.2473509933774834,
            0.2480263157894737,
            0.2807453416149068,
            0.3498452012383901,
            0.3655172413793103,
            0.2431372549019608,
            0.2278571428571428,
            0.3487179487179487,
            0.2664473684210526,
            0.3042857142857142,
            0.2608991825613078,
            0.2619047619047619,
            0.1885714285714285,
            0.2490322580645161,
            0.253103448275862,
            0.2606666666666666,
            0.2442244224422442,
            0.2429530201342282,
            0.2344370860927152,
            0.215267175572519,
            0.3214723926380368,
            0.2813291139240506,
            0.2802547770700637,
            0.3582388258839226,
            0.2465454545454545,
            0.2818181818181818,
            0.3069036226930963,
            0.32574240363099655,
            0.4090614886731392,
            0.3185897435897436,
            0.3043478260869565,
            0.2763157894736842,
            0.2414965986394557,
            0.259731543624161,
            0.225531914893617,
            0.2556291390728477,
            0.2571428571428571,
            0.2554878048780488,
            0.2765432098765432,
            0.3633333333333333,
            0.391875,
            0.2314479638009049,
            0.2358156028368794,
            0.2917241379310344,
            0.3242084432717678,
            0.2289562289562289,
            0.18736303871439,
            0.1971830985915492,
            0.3177631578947368,
            0.3470588235294117,
            0.279655172413793,
            0.190067214339059,
            0.3590277777777778,
            0.1767857142857143,
            0.4048780487804878,
            0.2616361071932299,
            0.2465277777777778,
            0.2244444444444444,
            0.2362068965517241,
            0.2942307692307692,
            0.2571428571428571,
            0.2884078212290503,
            0.3248366013071895,
            0.3056338028169014,
            0.2866197183098591,
            0.2275862068965517,
            0.2513888888888889,
            0.1890151515151515,
            0.3193939393939394,
            0.2123076923076923,
            0.2485915492957746,
            0.214237668161435,
            0.3821656050955414,
            0.2637434554973821,
            0.2604166666666667,
            0.208695652173913,
            0.3206666666666666,
            0.347682119205298,
            0.392156862745098,
            0.2478571428571429,
            0.43875,
            0.3178082191780821,
            0.3667796610169491,
            0.194074074074074,
            0.2637037037037037,
            0.2811688311688311,
            0.2454225352112676,
            0.2355263157894736,
            0.2987499999999999,
            0.2453333333333333,
            0.2280821917808219,
            0.3089285714285714,
            0.245,
            0.1714183037853378,
            0.271523178807947,
            0.3627450980392157,
            0.2370860927152317,
            0.278343949044586,
            0.2833333333333333,
            0.4368421052631579,
            0.2935483870967741,
            0.3305941845764855,
            0.3103448275862069,
            0.2744961779013203,
            0.2822368421052632,
            0.3220282068502351,
            0.3931034482758621,
            0.23006993006993,
            0.2643515237420269,
            0.2197183098591549,
            0.4002361275088547,
            0.1948905109489051,
            0.4470588235294118,
            0.3177777777777777,
            0.2835664335664336,
            0.2140939597315436,
            0.2633093525179856,
            0.32574240363099655,
            0.2822368421052632,
            0.2933421226104153,
            0.2128329297820823,
            0.2337837837837837,
            0.32574240363099655,
            0.203963666391412,
            0.3190810465858328,
            0.4444444444444444
           ]
          }
         ],
         "hovertemplate": "%{xaxis.title.text}=%{x}<br>%{yaxis.title.text}=%{y}<extra></extra>",
         "legendgroup": "",
         "marker": {
          "color": "#636efa",
          "symbol": "circle"
         },
         "name": "",
         "showlegend": false,
         "type": "splom"
        }
       ],
       "layout": {
        "dragmode": "select",
        "height": 1600,
        "legend": {
         "tracegroupgap": 0
        },
        "margin": {
         "t": 60
        },
        "template": {
         "data": {
          "bar": [
           {
            "error_x": {
             "color": "#2a3f5f"
            },
            "error_y": {
             "color": "#2a3f5f"
            },
            "marker": {
             "line": {
              "color": "#E5ECF6",
              "width": 0.5
             },
             "pattern": {
              "fillmode": "overlay",
              "size": 10,
              "solidity": 0.2
             }
            },
            "type": "bar"
           }
          ],
          "barpolar": [
           {
            "marker": {
             "line": {
              "color": "#E5ECF6",
              "width": 0.5
             },
             "pattern": {
              "fillmode": "overlay",
              "size": 10,
              "solidity": 0.2
             }
            },
            "type": "barpolar"
           }
          ],
          "carpet": [
           {
            "aaxis": {
             "endlinecolor": "#2a3f5f",
             "gridcolor": "white",
             "linecolor": "white",
             "minorgridcolor": "white",
             "startlinecolor": "#2a3f5f"
            },
            "baxis": {
             "endlinecolor": "#2a3f5f",
             "gridcolor": "white",
             "linecolor": "white",
             "minorgridcolor": "white",
             "startlinecolor": "#2a3f5f"
            },
            "type": "carpet"
           }
          ],
          "choropleth": [
           {
            "colorbar": {
             "outlinewidth": 0,
             "ticks": ""
            },
            "type": "choropleth"
           }
          ],
          "contour": [
           {
            "colorbar": {
             "outlinewidth": 0,
             "ticks": ""
            },
            "colorscale": [
             [
              0,
              "#0d0887"
             ],
             [
              0.1111111111111111,
              "#46039f"
             ],
             [
              0.2222222222222222,
              "#7201a8"
             ],
             [
              0.3333333333333333,
              "#9c179e"
             ],
             [
              0.4444444444444444,
              "#bd3786"
             ],
             [
              0.5555555555555556,
              "#d8576b"
             ],
             [
              0.6666666666666666,
              "#ed7953"
             ],
             [
              0.7777777777777778,
              "#fb9f3a"
             ],
             [
              0.8888888888888888,
              "#fdca26"
             ],
             [
              1,
              "#f0f921"
             ]
            ],
            "type": "contour"
           }
          ],
          "contourcarpet": [
           {
            "colorbar": {
             "outlinewidth": 0,
             "ticks": ""
            },
            "type": "contourcarpet"
           }
          ],
          "heatmap": [
           {
            "colorbar": {
             "outlinewidth": 0,
             "ticks": ""
            },
            "colorscale": [
             [
              0,
              "#0d0887"
             ],
             [
              0.1111111111111111,
              "#46039f"
             ],
             [
              0.2222222222222222,
              "#7201a8"
             ],
             [
              0.3333333333333333,
              "#9c179e"
             ],
             [
              0.4444444444444444,
              "#bd3786"
             ],
             [
              0.5555555555555556,
              "#d8576b"
             ],
             [
              0.6666666666666666,
              "#ed7953"
             ],
             [
              0.7777777777777778,
              "#fb9f3a"
             ],
             [
              0.8888888888888888,
              "#fdca26"
             ],
             [
              1,
              "#f0f921"
             ]
            ],
            "type": "heatmap"
           }
          ],
          "heatmapgl": [
           {
            "colorbar": {
             "outlinewidth": 0,
             "ticks": ""
            },
            "colorscale": [
             [
              0,
              "#0d0887"
             ],
             [
              0.1111111111111111,
              "#46039f"
             ],
             [
              0.2222222222222222,
              "#7201a8"
             ],
             [
              0.3333333333333333,
              "#9c179e"
             ],
             [
              0.4444444444444444,
              "#bd3786"
             ],
             [
              0.5555555555555556,
              "#d8576b"
             ],
             [
              0.6666666666666666,
              "#ed7953"
             ],
             [
              0.7777777777777778,
              "#fb9f3a"
             ],
             [
              0.8888888888888888,
              "#fdca26"
             ],
             [
              1,
              "#f0f921"
             ]
            ],
            "type": "heatmapgl"
           }
          ],
          "histogram": [
           {
            "marker": {
             "pattern": {
              "fillmode": "overlay",
              "size": 10,
              "solidity": 0.2
             }
            },
            "type": "histogram"
           }
          ],
          "histogram2d": [
           {
            "colorbar": {
             "outlinewidth": 0,
             "ticks": ""
            },
            "colorscale": [
             [
              0,
              "#0d0887"
             ],
             [
              0.1111111111111111,
              "#46039f"
             ],
             [
              0.2222222222222222,
              "#7201a8"
             ],
             [
              0.3333333333333333,
              "#9c179e"
             ],
             [
              0.4444444444444444,
              "#bd3786"
             ],
             [
              0.5555555555555556,
              "#d8576b"
             ],
             [
              0.6666666666666666,
              "#ed7953"
             ],
             [
              0.7777777777777778,
              "#fb9f3a"
             ],
             [
              0.8888888888888888,
              "#fdca26"
             ],
             [
              1,
              "#f0f921"
             ]
            ],
            "type": "histogram2d"
           }
          ],
          "histogram2dcontour": [
           {
            "colorbar": {
             "outlinewidth": 0,
             "ticks": ""
            },
            "colorscale": [
             [
              0,
              "#0d0887"
             ],
             [
              0.1111111111111111,
              "#46039f"
             ],
             [
              0.2222222222222222,
              "#7201a8"
             ],
             [
              0.3333333333333333,
              "#9c179e"
             ],
             [
              0.4444444444444444,
              "#bd3786"
             ],
             [
              0.5555555555555556,
              "#d8576b"
             ],
             [
              0.6666666666666666,
              "#ed7953"
             ],
             [
              0.7777777777777778,
              "#fb9f3a"
             ],
             [
              0.8888888888888888,
              "#fdca26"
             ],
             [
              1,
              "#f0f921"
             ]
            ],
            "type": "histogram2dcontour"
           }
          ],
          "mesh3d": [
           {
            "colorbar": {
             "outlinewidth": 0,
             "ticks": ""
            },
            "type": "mesh3d"
           }
          ],
          "parcoords": [
           {
            "line": {
             "colorbar": {
              "outlinewidth": 0,
              "ticks": ""
             }
            },
            "type": "parcoords"
           }
          ],
          "pie": [
           {
            "automargin": true,
            "type": "pie"
           }
          ],
          "scatter": [
           {
            "fillpattern": {
             "fillmode": "overlay",
             "size": 10,
             "solidity": 0.2
            },
            "type": "scatter"
           }
          ],
          "scatter3d": [
           {
            "line": {
             "colorbar": {
              "outlinewidth": 0,
              "ticks": ""
             }
            },
            "marker": {
             "colorbar": {
              "outlinewidth": 0,
              "ticks": ""
             }
            },
            "type": "scatter3d"
           }
          ],
          "scattercarpet": [
           {
            "marker": {
             "colorbar": {
              "outlinewidth": 0,
              "ticks": ""
             }
            },
            "type": "scattercarpet"
           }
          ],
          "scattergeo": [
           {
            "marker": {
             "colorbar": {
              "outlinewidth": 0,
              "ticks": ""
             }
            },
            "type": "scattergeo"
           }
          ],
          "scattergl": [
           {
            "marker": {
             "colorbar": {
              "outlinewidth": 0,
              "ticks": ""
             }
            },
            "type": "scattergl"
           }
          ],
          "scattermapbox": [
           {
            "marker": {
             "colorbar": {
              "outlinewidth": 0,
              "ticks": ""
             }
            },
            "type": "scattermapbox"
           }
          ],
          "scatterpolar": [
           {
            "marker": {
             "colorbar": {
              "outlinewidth": 0,
              "ticks": ""
             }
            },
            "type": "scatterpolar"
           }
          ],
          "scatterpolargl": [
           {
            "marker": {
             "colorbar": {
              "outlinewidth": 0,
              "ticks": ""
             }
            },
            "type": "scatterpolargl"
           }
          ],
          "scatterternary": [
           {
            "marker": {
             "colorbar": {
              "outlinewidth": 0,
              "ticks": ""
             }
            },
            "type": "scatterternary"
           }
          ],
          "surface": [
           {
            "colorbar": {
             "outlinewidth": 0,
             "ticks": ""
            },
            "colorscale": [
             [
              0,
              "#0d0887"
             ],
             [
              0.1111111111111111,
              "#46039f"
             ],
             [
              0.2222222222222222,
              "#7201a8"
             ],
             [
              0.3333333333333333,
              "#9c179e"
             ],
             [
              0.4444444444444444,
              "#bd3786"
             ],
             [
              0.5555555555555556,
              "#d8576b"
             ],
             [
              0.6666666666666666,
              "#ed7953"
             ],
             [
              0.7777777777777778,
              "#fb9f3a"
             ],
             [
              0.8888888888888888,
              "#fdca26"
             ],
             [
              1,
              "#f0f921"
             ]
            ],
            "type": "surface"
           }
          ],
          "table": [
           {
            "cells": {
             "fill": {
              "color": "#EBF0F8"
             },
             "line": {
              "color": "white"
             }
            },
            "header": {
             "fill": {
              "color": "#C8D4E3"
             },
             "line": {
              "color": "white"
             }
            },
            "type": "table"
           }
          ]
         },
         "layout": {
          "annotationdefaults": {
           "arrowcolor": "#2a3f5f",
           "arrowhead": 0,
           "arrowwidth": 1
          },
          "autotypenumbers": "strict",
          "coloraxis": {
           "colorbar": {
            "outlinewidth": 0,
            "ticks": ""
           }
          },
          "colorscale": {
           "diverging": [
            [
             0,
             "#8e0152"
            ],
            [
             0.1,
             "#c51b7d"
            ],
            [
             0.2,
             "#de77ae"
            ],
            [
             0.3,
             "#f1b6da"
            ],
            [
             0.4,
             "#fde0ef"
            ],
            [
             0.5,
             "#f7f7f7"
            ],
            [
             0.6,
             "#e6f5d0"
            ],
            [
             0.7,
             "#b8e186"
            ],
            [
             0.8,
             "#7fbc41"
            ],
            [
             0.9,
             "#4d9221"
            ],
            [
             1,
             "#276419"
            ]
           ],
           "sequential": [
            [
             0,
             "#0d0887"
            ],
            [
             0.1111111111111111,
             "#46039f"
            ],
            [
             0.2222222222222222,
             "#7201a8"
            ],
            [
             0.3333333333333333,
             "#9c179e"
            ],
            [
             0.4444444444444444,
             "#bd3786"
            ],
            [
             0.5555555555555556,
             "#d8576b"
            ],
            [
             0.6666666666666666,
             "#ed7953"
            ],
            [
             0.7777777777777778,
             "#fb9f3a"
            ],
            [
             0.8888888888888888,
             "#fdca26"
            ],
            [
             1,
             "#f0f921"
            ]
           ],
           "sequentialminus": [
            [
             0,
             "#0d0887"
            ],
            [
             0.1111111111111111,
             "#46039f"
            ],
            [
             0.2222222222222222,
             "#7201a8"
            ],
            [
             0.3333333333333333,
             "#9c179e"
            ],
            [
             0.4444444444444444,
             "#bd3786"
            ],
            [
             0.5555555555555556,
             "#d8576b"
            ],
            [
             0.6666666666666666,
             "#ed7953"
            ],
            [
             0.7777777777777778,
             "#fb9f3a"
            ],
            [
             0.8888888888888888,
             "#fdca26"
            ],
            [
             1,
             "#f0f921"
            ]
           ]
          },
          "colorway": [
           "#636efa",
           "#EF553B",
           "#00cc96",
           "#ab63fa",
           "#FFA15A",
           "#19d3f3",
           "#FF6692",
           "#B6E880",
           "#FF97FF",
           "#FECB52"
          ],
          "font": {
           "color": "#2a3f5f"
          },
          "geo": {
           "bgcolor": "white",
           "lakecolor": "white",
           "landcolor": "#E5ECF6",
           "showlakes": true,
           "showland": true,
           "subunitcolor": "white"
          },
          "hoverlabel": {
           "align": "left"
          },
          "hovermode": "closest",
          "mapbox": {
           "style": "light"
          },
          "paper_bgcolor": "white",
          "plot_bgcolor": "#E5ECF6",
          "polar": {
           "angularaxis": {
            "gridcolor": "white",
            "linecolor": "white",
            "ticks": ""
           },
           "bgcolor": "#E5ECF6",
           "radialaxis": {
            "gridcolor": "white",
            "linecolor": "white",
            "ticks": ""
           }
          },
          "scene": {
           "xaxis": {
            "backgroundcolor": "#E5ECF6",
            "gridcolor": "white",
            "gridwidth": 2,
            "linecolor": "white",
            "showbackground": true,
            "ticks": "",
            "zerolinecolor": "white"
           },
           "yaxis": {
            "backgroundcolor": "#E5ECF6",
            "gridcolor": "white",
            "gridwidth": 2,
            "linecolor": "white",
            "showbackground": true,
            "ticks": "",
            "zerolinecolor": "white"
           },
           "zaxis": {
            "backgroundcolor": "#E5ECF6",
            "gridcolor": "white",
            "gridwidth": 2,
            "linecolor": "white",
            "showbackground": true,
            "ticks": "",
            "zerolinecolor": "white"
           }
          },
          "shapedefaults": {
           "line": {
            "color": "#2a3f5f"
           }
          },
          "ternary": {
           "aaxis": {
            "gridcolor": "white",
            "linecolor": "white",
            "ticks": ""
           },
           "baxis": {
            "gridcolor": "white",
            "linecolor": "white",
            "ticks": ""
           },
           "bgcolor": "#E5ECF6",
           "caxis": {
            "gridcolor": "white",
            "linecolor": "white",
            "ticks": ""
           }
          },
          "title": {
           "x": 0.05
          },
          "xaxis": {
           "automargin": true,
           "gridcolor": "white",
           "linecolor": "white",
           "ticks": "",
           "title": {
            "standoff": 15
           },
           "zerolinecolor": "white",
           "zerolinewidth": 2
          },
          "yaxis": {
           "automargin": true,
           "gridcolor": "white",
           "linecolor": "white",
           "ticks": "",
           "title": {
            "standoff": 15
           },
           "zerolinecolor": "white",
           "zerolinewidth": 2
          }
         }
        },
        "width": 1200
       }
      },
      "text/html": [
       "<div>                            <div id=\"f50aae8a-dc00-468e-ad3d-4e269ae7c5a4\" class=\"plotly-graph-div\" style=\"height:1600px; width:1200px;\"></div>            <script type=\"text/javascript\">                require([\"plotly\"], function(Plotly) {                    window.PLOTLYENV=window.PLOTLYENV || {};                                    if (document.getElementById(\"f50aae8a-dc00-468e-ad3d-4e269ae7c5a4\")) {                    Plotly.newPlot(                        \"f50aae8a-dc00-468e-ad3d-4e269ae7c5a4\",                        [{\"dimensions\":[{\"axis\":{\"matches\":true},\"label\":\"gender\",\"values\":[2.0,2.0,2.0,1.0,2.0,2.0,1.0,2.0,1.0,2.0,2.0,1.0,2.0,2.0,1.0,1.0,1.0,2.0,2.0,1.0,1.0,1.0,2.0,1.0,2.0,2.0,2.0,1.0,2.0,2.0,2.0,2.0,2.0,1.0,2.0,2.0,2.0,2.0,2.0,2.0,1.0,1.0,2.0,1.0,2.0,2.0,1.0,1.0,2.0,2.0,1.0,2.0,1.0,2.0,2.0,2.0,2.0,2.0,1.0,1.0,2.0,1.0,2.0,2.0,1.0,2.0,2.0,1.0,1.0,1.0,2.0,2.0,2.0,2.0,2.0,1.0,2.0,2.0,2.0,1.0,1.0,1.0,1.0,2.0,2.0,1.0,1.0,1.0,1.0,2.0,1.0,1.0,2.0,2.0,1.0,2.0,2.0,2.0,2.0,1.0,1.0,2.0,2.0,2.0,2.0,2.0,2.0,2.0,2.0,1.0,1.0,2.0,2.0,1.0,2.0,2.0,1.0,1.0,1.0,1.0,1.0,2.0,1.0,1.0,1.0,1.0,1.0,2.0,2.0,2.0,2.0,1.0,1.0,1.0,1.0,1.0,2.0,2.0,2.0,1.0,1.0,2.0,2.0,2.0,1.0,2.0,2.0,1.0,2.0,1.0,2.0,1.0,1.0,1.0,2.0,2.0,2.0,2.0,2.0,2.0,2.0,2.0,2.0,2.0,1.0,2.0,2.0,2.0,2.0,1.0,1.0,1.0,2.0,2.0,1.0,2.0,2.0,2.0,2.0,1.0,2.0,2.0,1.0,1.0,1.0,2.0,1.0,2.0,2.0,2.0,1.0,1.0,2.0,1.0,1.0,1.0,1.0,1.0,2.0,1.0,2.0,2.0,2.0,2.0,1.0,1.0,2.0,2.0,2.0,1.0,2.0,2.0,2.0,2.0,2.0,2.0,2.0,2.0,2.0,2.0,2.0,1.0,2.0,2.0,2.0,2.0,1.0,2.0,2.0,2.0,2.0,1.0,1.0,2.0,2.0,1.0,1.0,1.0,1.0,2.0,2.0,1.0,1.0,2.0,2.0,2.0,2.0,2.0,2.0,1.0,2.0,1.0,1.0,1.0,1.0,2.0,2.0,1.0,2.0,1.0,2.0,2.0,2.0,2.0,2.0,1.0,2.0,1.0,2.0,2.0,1.0,2.0,1.0,1.0,2.0,2.0,1.0,1.0,2.0,1.0,2.0,1.0,2.0,1.0,1.0,2.0,1.0,2.0,2.0,2.0,1.0,1.0,2.0,2.0,2.0,1.0,2.0,1.0,2.0,2.0,2.0,1.0,1.0,1.0,2.0,1.0,2.0,1.0,2.0,2.0,2.0,1.0,1.0,1.0,2.0,2.0,2.0,1.0,1.0,2.0,1.0,2.0,1.0,1.0,1.0,2.0,1.0]},{\"axis\":{\"matches\":true},\"label\":\"grade\",\"values\":[4.0,4.0,4.0,5.0,6.0,5.0,6.0,6.0,5.0,4.0,5.0,4.0,4.0,5.0,4.0,6.0,4.0,4.0,6.0,4.0,6.0,6.0,6.0,6.0,5.0,4.0,6.0,4.0,5.0,6.0,6.0,5.0,6.0,5.0,5.0,4.0,6.0,6.0,4.0,5.0,4.0,6.0,5.0,5.0,6.0,6.0,4.0,5.0,6.0,6.0,6.0,5.0,6.0,4.0,5.0,6.0,4.0,5.0,4.0,4.0,6.0,4.0,5.0,5.0,6.0,4.0,4.0,5.0,4.0,4.0,6.0,4.0,5.0,5.0,5.0,5.0,5.0,4.0,5.0,4.0,6.0,4.0,4.0,4.0,4.0,6.0,6.0,6.0,4.0,4.0,4.0,6.0,4.0,6.0,5.0,4.0,4.0,6.0,4.0,6.0,5.0,6.0,5.0,4.0,4.0,5.0,4.0,4.0,6.0,5.0,6.0,6.0,6.0,4.0,4.0,5.0,5.0,4.0,6.0,4.0,5.0,4.0,6.0,5.0,4.0,6.0,6.0,4.0,6.0,6.0,6.0,5.0,6.0,4.0,5.0,4.0,5.0,5.0,6.0,5.0,6.0,4.0,4.0,4.0,6.0,5.0,4.0,5.0,6.0,4.0,4.0,6.0,5.0,5.0,4.0,4.0,6.0,6.0,6.0,5.0,4.0,5.0,5.0,4.0,5.0,4.0,6.0,4.0,6.0,5.0,5.0,5.0,4.0,4.0,4.0,6.0,5.0,6.0,4.0,4.0,4.0,4.0,6.0,5.0,4.0,4.0,5.0,6.0,5.0,5.0,4.0,5.0,6.0,5.0,4.0,4.0,6.0,6.0,6.0,6.0,6.0,4.0,5.0,5.0,5.0,5.0,5.0,6.0,5.0,6.0,4.0,5.0,6.0,6.0,6.0,4.0,5.0,5.0,5.0,6.0,4.0,6.0,4.0,5.0,5.0,4.0,4.0,5.0,6.0,6.0,6.0,5.0,5.0,4.0,6.0,4.0,5.0,5.0,6.0,6.0,5.0,6.0,6.0,4.0,4.0,4.0,4.0,4.0,4.0,5.0,6.0,4.0,4.0,5.0,4.0,6.0,5.0,4.0,6.0,4.0,6.0,5.0,5.0,5.0,5.0,4.0,4.0,5.0,4.0,6.0,4.0,5.0,4.0,5.0,6.0,5.0,5.0,4.0,4.0,6.0,4.0,6.0,5.0,4.0,4.0,4.0,5.0,4.0,5.0,5.0,6.0,6.0,4.0,4.0,4.0,5.0,6.0,6.0,6.0,5.0,6.0,5.0,6.0,6.0,5.0,6.0,4.0,5.0,5.0,5.0,6.0,6.0,4.0,6.0,4.0,4.0,5.0,4.0,4.0,4.0,5.0,5.0,5.0,4.0,4.0,6.0,6.0]},{\"axis\":{\"matches\":true},\"label\":\"height\",\"values\":[148.0,136.01666666666665,132.0,136.1,148.0,147.5,156.0,164.0,153.0,138.0,153.5,140.3,142.0,147.0,135.0,160.0,134.0,143.0,141.5,140.0,150.0,148.0,160.0,156.2,151.0,138.6,157.0,130.0,148.0,145.0,147.0,144.0,162.0,142.0,151.0,156.0,157.6,153.0,152.0,150.0,141.0,147.6,148.0,161.0,163.0,150.3,152.5,150.0,163.0,162.0,155.0,142.0,169.0,161.0,139.0,145.0,138.0,148.5,135.0,141.0,141.0,134.0,153.25,156.0,152.0,160.0,139.0,146.2,130.0,140.0,158.0,141.0,152.0,145.0,147.0,143.0,152.0,146.0,149.0,143.0,158.0,141.0,141.0,144.0,143.0,152.0,161.0,164.0,130.0,145.0,142.0,145.0,136.4,158.5,140.0,150.1,145.5,152.0,132.0,165.0,148.0,155.0,160.0,138.5,140.0,146.0,140.0,149.0,162.0,151.0,146.0,148.0,152.0,135.0,144.0,147.0,143.0,140.0,152.2,138.0,150.0,139.5,156.5,160.0,131.4,159.5,142.0,136.0,141.5,145.0,157.0,151.0,140.0,134.0,135.0,142.0,146.0,162.6,150.0,140.0,152.0,141.0,143.0,145.0,162.5,147.0,137.5,165.0,153.0,128.0,134.0,153.9,151.0,144.0,135.0,134.0,148.0,140.0,165.0,147.0,140.0,148.8,140.0,160.0,158.0,132.8,156.0,146.0,144.5,154.75,158.0,140.0,138.0,146.0,137.0,160.0,145.0,156.0,153.5,149.0,140.0,140.0,145.0,158.5,141.0,134.0,143.0,159.0,150.0,156.0,137.0,147.0,150.0,147.0,142.0,140.0,153.0,163.0,156.0,156.0,150.0,151.0,152.0,161.0,161.5,145.0,153.0,140.0,156.0,152.0,140.0,146.8,147.0,140.0,155.0,145.0,150.0,151.5,149.0,151.0,131.0,163.0,158.0,157.0,149.9,137.5,154.0,146.3,153.0,154.5,156.0,138.0,152.0,147.0,149.0,141.0,151.0,149.33333333333334,164.0,162.0,150.0,160.0,147.33333333333334,141.0,145.0,151.6,148.5,136.9,142.0,152.0,153.0,145.0,133.9,144.0,140.0,164.0,141.8,144.0,135.0,145.0,156.0,140.0,143.2,153.0,142.0,142.0,145.0,144.0,132.0,165.0,130.0,142.0,148.66666666666666,157.0,152.8,144.0,138.0,150.0,151.0,153.0,140.0,160.0,146.0,147.5,135.0,135.0,154.0,142.0,152.0,160.0,150.0,146.0,140.0,130.0,139.13333333333333,151.0,153.0,151.0,157.0,150.0,152.0,155.0,158.2,145.0,143.9,152.0,148.9,145.0,143.0,141.1,142.0,169.4,137.0,170.0,135.0,143.0,149.0,139.0,144.0,152.0,151.7,137.66666666666666,148.0,139.0,121.1,156.7,153.0]},{\"axis\":{\"matches\":true},\"label\":\"weight\",\"values\":[45.15,28.100000000000005,29.0,31.8,39.0,37.3,51.0,65.0,68.0,38.0,46.0,37.2,29.0,36.0,36.0,55.0,38.0,45.0,29.0,36.0,50.0,53.6,45.0,39.5,62.0,31.0,46.0,26.0,31.0,37.0,35.3,34.4,42.45454545454545,35.9,40.0,42.0,55.5,41.0,37.6,43.0,36.0,37.0,45.7,43.0,50.0,39.5,67.0,60.0,47.0,70.0,61.0,32.0,62.0,52.0,34.56,35.5,41.0,43.7,34.0,39.7,35.0,34.0,55.75,40.2,39.0,47.0,33.0,30.0,30.0,38.0,46.0,31.666666666666668,38.9,39.0,45.0,38.0,33.0,38.9,36.5,33.0,52.5,35.2,40.7,27.0,39.0,51.0,42.7,45.0,28.0,40.0,45.7,39.0,44.5,40.9,31.5,34.8,44.5,48.3,40.0,41.0,47.0,46.8,50.0,38.0,37.3,46.9,28.0,38.0,35.1,48.0,35.0,37.0,38.0,37.0,38.0,35.4,40.0,38.0,40.0,31.0,49.3,30.0,42.0,67.0,25.36,64.0,42.0,26.0,37.9,34.0,39.0,53.0,36.142857142857146,29.0,33.0,38.0,34.3,50.0,34.6,31.0,42.5,28.0,34.0,38.0,49.4,36.0,43.0,90.0,35.0,25.9,24.0,51.4,57.0,35.9,29.0,30.0,35.0,37.0,47.0,45.0,28.9,48.8,40.0,49.0,57.0,26.5,51.0,34.0,43.0,63.0,70.0,33.0,30.0,32.0,30.0,36.0,42.0,48.7,45.1,53.0,30.0,33.0,28.0,58.333333333333336,35.0,30.9,35.5,50.0,53.0,40.0,37.3,36.0,53.0,43.0,38.8,40.0,65.0,67.0,41.0,66.0,37.0,37.0,36.7,44.0,56.5,53.0,36.7,32.0,52.0,44.0,40.0,36.8,38.0,26.0,38.5,35.5,39.0,35.25,36.5,34.1,28.25,52.0,44.0,45.0,51.9,34.0,43.9,45.4,48.0,63.0,49.0,42.0,42.0,35.7,39.0,31.0,38.0,39.0,41.8,45.0,54.0,62.0,35.833333333333336,33.0,42.0,48.0,34.4,25.2,28.0,45.0,53.8,40.7,26.9,51.0,24.0,67.7,35.0,36.7,30.0,35.0,63.25,36.0,39.5,49.7,44.0,42.0,34.0,36.8,25.0,50.0,30.0,35.9,32.2,60.0,39.0,35.0,29.1,45.0,52.7,58.9,32.0,70.0,45.0,53.4,26.0,35.9,43.7,34.7,34.0,47.0,37.0,34.3,43.0,30.7,24.0,41.0,54.0,36.0,43.0,42.0,58.4,47.0,52.2,45.0,40.0,42.0,48.0,58.0,32.0,37.0,30.0,61.625,26.9,77.0,35.0,40.0,30.0,36.8,44.0,43.0,45.3,30.0,36.0,45.0,24.0,47.9,68.0]},{\"axis\":{\"matches\":true},\"label\":\"step_count\",\"values\":[72.0,10079.0,100.0,67.0,200.0,13256.0,9696.0,4649.0,145.0,145.0,145.0,0.0,0.0,2.0,8258.0,8258.0,20.0,20.0,35.0,2574.0,4483.0,4720.0,2443.0,789.0,5988.0,5229.0,5931.0,4175.0,4278.0,10843.0,10843.0,287.0,25.0,3144.0,2220.0,1748.0,7430.0,4651.0,4396.0,6973.0,13864.0,13864.0,3067.0,6055.0,38.0,4953.0,590.0,412.0,5467.0,5467.0,3.0,3255.0,3255.0,784.0,46.0,6412.0,230.0,230.0,30.0,993.0,1408.0,81.0,8168.0,406.0,556.0,556.0,5078.0,30.0,30.0,30.0,5713.0,5713.0,8540.0,641.0,1905.0,203.0,203.0,2069.0,2069.0,75.0,4066.0,589.0,3032.0,317.0,3000.0,3000.0,628.0,5007.0,2107.0,2107.0,2107.0,10988.0,0.0,57.0,715.0,17.0,905.0,8304.0,580.0,580.0,580.0,135.0,17993.0,15.0,6267.0,6267.0,1113.0,20.0,20.0,20.0,20.0,3484.0,4075.0,7789.0,5745.0,41.0,247.0,3559.0,47.0,1416.0,1416.0,16.0,16579.0,18914.0,83.0,127.0,1046.0,389.0,1606.0,53.0,284.0,10147.0,14.0,4874.0,4874.0,4874.0,2367.0,3110.0,11883.0,750.0,750.0,1226.0,7.0,6.0,8.0,0.0,10.0,8.0,1477.0,16973.0,16973.0,8531.0,6478.0,4115.0,1802.0,414.0,48.0,6681.0,4562.0,1209.0,146.0,146.0,18417.0,56.0,0.0,0.0,677.0,100.0,2037.0,5430.0,804.0,804.0,8.0,12210.0,12210.0,636.0,59.0,6145.0,3812.0,5092.0,6768.0,1380.0,7814.0,35.0,2969.0,2410.0,3302.0,16116.0,718.0,5795.0,4417.0,151.0,27.0,1848.0,73.0,74.0,74.0,4714.0,4714.0,4384.0,6344.0,0.0,1249.0,1249.0,1911.0,5294.0,508.0,508.0,766.0,7867.0,14993.0,14993.0,3889.0,208.0,7932.0,8.0,8.0,2675.0,2675.0,240.0,21.0,8326.0,1115.0,5055.0,9337.0,324.0,854.0,2326.0,6627.0,82.0,4947.0,8794.0,8794.0,1693.0,2788.0,2788.0,3526.0,2009.0,3478.0,37658.0,37658.0,2690.0,2869.0,18.0,4125.0,21.0,3444.5,0.0,5780.0,421.0,421.0,318.0,318.0,138.0,14.0,177.0,448.0,6114.0,53.0,3265.0,214.0,28.0,107.0,6722.0,8588.0,0.0,14.0,35.0,827.0,4592.0,6443.0,2452.0,212.0,363.0,363.0,4602.0,3206.0,5639.0,189.0,121.0,1042.0,891.0,472.0,38.0,2830.0,2830.0,487.0,487.0,487.0,2936.0,8388.0,8388.0,8388.0,103.0,338.0,2240.0,702.0,290.0,1702.0,1702.0,4522.0,2690.0,1436.0,4474.0,4474.0,4474.0,640.0,640.0,17278.0,8842.0,8842.0,8842.0,10516.0,10516.0,1980.0,31.0,13971.0,4849.0,4847.0,0.0,0.0,6966.0,6966.0,6966.0,90.0,3021.0,2103.0]},{\"axis\":{\"matches\":true},\"label\":\"burned calory\",\"values\":[8.877,8.877,8.877,8.877,8.877,8.877,78.897,2.033,2.033,2.033,2.033,2.033,2.033,2.033,2.033,2.033,48.552,48.552,48.552,48.552,48.552,44.441,44.441,44.441,44.441,33.415,56.709,56.709,56.709,56.709,56.709,42.958,42.958,33.237,33.237,33.558,33.558,33.558,33.558,32.773,32.773,32.773,32.773,142.8,142.8,56.853,56.853,56.853,30.845,30.845,30.845,30.845,30.845,30.845,30.845,30.845,30.845,30.845,40.936,40.936,40.936,40.936,40.936,40.936,44.185,44.185,27.23,27.23,27.23,27.23,27.23,27.23,27.23,139.944,139.944,22.481,22.481,2.202,2.202,1.14,1.14,1.14,1.14,1.14,88.506,88.506,88.506,31.675,31.675,31.675,31.675,31.675,53.735,53.735,53.735,22.789,32.725,32.725,97.194,97.194,97.194,97.194,97.194,0.056,0.056,0.056,5.457,0.484,0.484,0.484,0.484,0.484,126.575,126.575,30.434,30.434,30.434,30.434,11.764666666666663,11.764666666666663,11.764666666666663,11.764666666666663,11.764666666666663,11.764666666666663,11.764666666666663,11.764666666666663,11.764666666666663,11.764666666666663,11.764666666666663,11.764666666666663,25.813,25.813,25.813,10.6315,10.6315,10.6315,10.6315,10.6315,10.6315,105.297,105.297,50.837,50.837,19.992,19.992,19.992,19.992,19.992,19.992,19.992,19.992,36.7,26.4105,26.4105,40.163,40.163,40.163,40.163,40.163,40.163,27.798,27.798,27.798,32.178,32.178,32.178,32.178,32.178,56.228,56.228,17.35,17.35,17.35,17.35,17.35,17.35,17.35,17.35,660.99,660.99,660.99,32.071,18.957,18.957,18.957,163.417,163.417,163.417,38.675,38.675,38.675,38.675,38.675,48.612,62.832,62.832,62.832,62.832,62.832,62.832,30.738,40.671,40.671,40.671,40.671,40.671,40.671,40.671,78.838,0.393,49.677,49.677,20.349,20.349,20.349,20.349,20.349,20.349,20.349,20.349,20.349,104.832,95.373,95.373,3.154,40.519,40.519,40.519,69.794,69.794,40.001,39.151,39.151,58.764,58.764,58.764,58.764,58.764,67.216,67.216,67.216,27.385,27.385,29.988,29.988,55.96,55.96,55.96,55.96,38.669,38.669,47.303,47.303,47.303,66.194,66.194,66.194,66.194,66.194,240.97,240.97,23.562,54.056,59.143,47.295,47.295,47.295,47.295,47.295,47.295,47.295,25.462,160.757,172.648,172.648,172.648,40.163,40.163,70.656,70.656,24.919,91.161,91.161,91.161,38.812,38.812,38.812,38.812,38.812,38.812,38.812,38.812,38.812,49.272,38.556,163.349,163.349,130.662,179.603,179.603,179.603,179.603,179.603,179.603,179.603,179.603,226.6255,226.6255,226.6255,226.6255,226.6255,226.6255,28.56,28.56,28.56,28.56,28.56,0.135,0.135,0.135,0.135,97.573,97.573,97.573,59.462,33.915,38.812]},{\"axis\":{\"matches\":true},\"label\":\"eat_calory\",\"values\":[2000.0,2000.0,421.0,481.0,748.0,285.0,160.0,546.0,580.0,580.0,580.0,580.0,580.0,228.0,1758.0,1758.0,474.0,474.0,534.0,534.0,293.0,348.0,348.0,1390.0,1284.0,285.0,415.0,513.0,513.0,468.0,468.0,247.0,239.0,208.0,357.0,5812.0,587.0,1063.0,1044.0,285.0,552.0,552.0,450.0,350.0,1567.0,634.0,111.0,568.0,521.0,521.0,521.0,521.0,521.0,521.0,385.0,858.0,241.0,241.0,462.0,93.0,89.0,89.0,360.0,268.0,247.0,247.0,247.0,134.0,134.0,134.0,1140.5,1140.5,300.0,174.0,174.0,205.0,205.0,226.0,669.0,8368.0,302.0,302.0,176.0,309.0,840.0,840.0,840.0,190.0,190.0,190.0,584.0,1151.0,761.0,412.5,428.0,431.0,653.0,673.0,510.0,283.0,283.0,283.0,283.0,283.0,97.0,625.0,857.0,687.0,133.0,133.0,133.0,133.0,175.0,759.0,1257.0,1257.0,3607.0,3607.0,572.0,280.0,280.0,1139.0,176.0,2252.0,2252.0,580.0,906.0,2737.0,266.0,1256.0,440.0,440.0,495.0,410.0,443.0,443.0,360.0,772.0,1251.0,871.5,871.5,535.0,561.0,148.0,2535.0,2535.0,573.0,572.0,572.0,458.0,568.0,351.5,536.0,667.0,589.0,273.5,190.0,271.0,280.0,280.0,2024.0,2024.0,2024.0,253.0,972.0,663.5,663.5,663.5,360.0,360.0,230.0,230.0,230.0,745.0,745.0,745.0,511.0,567.0,314.0,769.5,703.0,340.0,2752.0,455.0,455.0,184.0,378.0,176.0,153.0,1110.0,761.0,185.0,293.0,528.0,1919.0,1919.0,1919.0,1919.0,1919.0,576.5,503.0,1053.0,220.0,269.0,10669.0,391.5,265.0,265.0,353.0,1536.0,1536.0,1536.0,96.0,905.0,446.0,591.0,624.0,1410.0,1410.0,320.0,422.0,5793.0,5346.0,295.0,292.0,304.0,1797.0,561.0,689.0,280.0,97.0,97.0,97.0,2314.0,953.0,953.0,539.0,585.0,1275.0,858.0,858.0,858.0,858.0,449.0,392.0,392.0,392.0,926.0,293.0,175.0,175.0,2045.0,2045.0,192.0,869.0,869.0,610.0,8.0,124.0,334.0,334.0,117.0,1940.0,884.0,729.0,729.0,192.0,544.0,604.0,85.0,85.0,266.0,748.0,848.0,848.0,431.0,525.0,3561.0,1182.0,1182.0,263.0,179.0,985.0,985.0,288.0,288.0,446.0,446.0,1617.0,481.0,536.0,536.0,536.0,673.0,766.0,539.0,564.0,564.0,701.0,345.0,293.0,686.0,436.0,436.0,436.0,436.0,436.0,436.0,436.0,121.0,482.5,85.0,244.0,244.0,340.0,701.0,701.0,734.0,585.0,1161.0,801.0,976.0,976.0,976.0,250.0,238.0,521.0]},{\"axis\":{\"matches\":true},\"label\":\"Sleep_time\",\"values\":[12.0,12.0,12.0,432.0,432.0,348.0,450.0,432.0,252.0,252.0,252.0,237.0,237.0,237.0,201.0,201.0,168.0,168.0,221.5,396.0,234.0,402.0,402.0,168.0,168.0,60.0,462.0,462.0,333.0,333.0,333.0,552.0,552.0,354.0,258.0,377.0,377.0,511.0,502.0,12.0,546.0,546.0,462.5,213.0,438.0,114.0,486.0,486.0,330.0,330.0,216.0,258.0,258.0,258.0,258.0,258.0,258.0,258.0,654.0,414.0,414.0,444.0,444.0,462.0,487.0,487.0,450.0,490.0,490.0,490.0,48.0,48.0,442.0,264.0,264.0,545.0,545.0,545.0,545.0,576.0,576.0,177.0,480.0,518.0,327.0,327.0,522.0,487.0,522.0,522.0,522.0,426.0,480.0,480.0,480.0,474.0,258.0,234.0,530.0,530.0,530.0,530.0,254.5,527.0,485.0,485.0,569.0,462.0,462.0,462.0,462.0,557.0,164.5,180.0,450.0,588.0,576.0,200.5,294.0,450.0,450.0,156.0,150.0,237.0,288.0,397.0,586.0,432.0,444.0,444.0,456.0,456.0,456.0,5.333333333333333,5.333333333333333,5.333333333333333,252.0,357.0,417.3333333333333,314.0,314.0,489.0,489.0,672.0,517.0,378.0,240.0,437.0,437.0,437.0,437.0,442.0,396.0,396.0,198.0,30.0,480.0,297.0,492.0,486.0,18.0,18.0,18.0,348.0,534.0,534.0,534.0,534.0,498.0,498.0,186.0,186.0,312.0,312.0,312.0,540.0,492.0,257.0,357.0,357.0,372.0,558.0,460.0,460.0,460.0,319.0,319.0,319.0,546.0,396.0,516.0,378.0,450.0,12.0,330.0,330.0,330.0,450.0,450.0,450.0,196.5,486.0,486.0,486.0,486.0,30.0,155.0,155.0,519.0,324.0,459.0,459.0,32.84615384615385,504.0,504.0,456.0,456.0,456.0,456.0,186.0,396.0,390.0,420.0,420.0,366.0,504.0,582.0,582.0,186.0,312.0,504.0,504.0,504.0,552.0,440.0,440.0,474.0,516.0,528.0,528.0,528.0,453.0,453.0,522.0,165.0,53.0,53.0,286.5,286.5,239.5,239.5,396.0,396.0,396.0,396.0,396.0,510.0,510.0,336.5,468.0,486.0,444.0,480.0,575.0,456.0,528.0,528.0,528.0,528.0,186.0,186.0,186.0,204.0,228.0,228.0,456.0,420.0,420.0,480.0,480.0,420.0,744.0,486.0,201.0,666.0,666.0,666.0,666.0,666.0,426.0,426.0,408.0,408.0,402.0,495.0,288.0,288.0,564.5,132.0,132.0,132.0,336.0,336.0,336.0,336.0,336.0,426.0,426.0,540.0,444.0,444.0,390.0,186.0,186.0,455.0,234.0,180.0,210.0,510.0,486.0,486.0,500.0,500.0,500.0,186.0,438.0,442.0]},{\"axis\":{\"matches\":true},\"label\":\"bmi\",\"values\":[20.612673484295104,15.188751087224652,16.643709825528006,17.167650747359666,17.804967129291455,17.144498707268024,20.956607495069036,24.167162403331343,29.04865649963689,19.95379122033186,19.52275355706692,18.8985114374096,14.382067050188455,16.65972511453561,19.753086419753085,21.484375,21.16284250389841,22.00596606191012,14.483886676072869,18.367346938775505,22.22222222222222,24.470416362308256,17.578124999999996,16.18955966037173,27.19178983377922,16.137462024907915,18.66201468619417,15.384615384615383,14.152666179693208,17.598097502972653,16.335786015086306,16.589506172839506,16.176857740643744,17.80400714144019,17.543090215341433,17.258382642998026,22.34501017805148,17.51463112478107,16.274238227146814,19.11111111111111,18.107741059302853,16.983570919720037,20.86376917457999,16.58886617028664,18.818924310286423,17.485543439623303,28.80945982262832,26.666666666666668,17.68978885166924,26.672763298277697,25.390218522372525,15.869867089863122,21.707923392038097,20.060954438486167,17.887272915480562,16.884661117717002,21.529090527200164,19.81657200512419,18.6556927297668,19.968814445953427,17.6047482521,18.93517487190911,23.737987966011037,16.518737672583825,16.880193905817176,18.359375,17.07986129082345,14.035455431814825,17.751479289940825,19.387755102040813,18.42653420926133,15.928105561423807,16.83691135734072,18.549346016646847,20.82465639316952,18.58281578561299,14.283240997229916,18.24920247701257,16.44070086933021,16.137708445400754,21.030283608396086,17.70534681354057,20.471807253156285,13.020833333333334,19.07183725365544,22.07409972299169,16.47312989467999,16.73111243307555,16.568047337278106,19.024970273483948,22.66415393771077,18.549346016646847,23.918352955340936,16.280388898287374,16.07142857142857,15.446065048351066,21.02006353255157,20.905470914127424,22.95684113865932,15.059687786960511,21.4572680788897,19.479708636836627,19.53125,19.80998058100588,19.030612244897952,22.002251829611563,14.285714285714285,17.116346110535563,13.374485596707816,21.05170825840972,16.419590917620567,16.89189189189189,16.44736842105263,20.301783264746224,18.325617283950617,16.382063029293352,19.560858721697887,19.387755102040813,17.267548577931038,16.27809283763915,21.91111111111111,15.41604039002582,17.148281599281407,26.171875,14.687859812023191,25.156985485598607,20.829200555445347,14.057093425605531,18.92894155252281,16.171224732461354,15.82214288612114,23.2445945353274,18.4402332361516,16.150590331922473,18.10699588477366,18.84546716921246,16.091199099268156,18.91162823067345,15.377777777777778,15.816326530612242,18.395083102493075,14.083798601679998,16.626729913443203,18.07372175980975,18.70769230769231,16.65972511453561,22.74380165289256,33.05785123966941,14.951514374813106,15.808105468749998,13.36600579193584,21.701306427090994,24.998903556861546,17.312885802469136,15.912208504801097,16.707507239919803,15.97881665449233,18.87755102040816,17.263544536271805,20.82465639316952,14.74489795918367,22.040120245115038,20.40816326530612,19.140625,22.832879346258608,15.02621933517201,20.956607495069036,15.950459748545695,20.593623160642235,26.30747910147431,28.04037814452812,16.83673469387755,15.752993068683049,15.012197410395949,15.98380307954606,14.062499999999996,19.976218787158142,20.011505588428665,19.14078663964604,23.872798522589072,15.306122448979588,16.83673469387755,13.317479191438764,23.219788567239533,17.6047482521,17.208732457117396,17.360262115506874,19.77769866698311,23.55555555555556,16.43655489809336,19.8731951622356,16.65972511453561,23.55555555555556,19.899116109028647,19.242213846459038,20.40816326530612,27.76709812465291,25.217358575783805,16.847468770545692,27.12031558185404,16.444444444444443,16.227358449190824,15.884695290858726,16.97465375564214,21.66224156274861,25.20808561236623,15.67773078730403,16.326530612244895,21.36752136752137,19.04432132963989,20.40816326530612,17.07637594755325,17.58526539867648,13.265306122448976,16.02497398543184,16.884661117717002,17.333333333333332,15.357971440708424,16.44070086933021,14.955484408578572,16.461744653574964,19.57168128269788,17.625380547989103,18.25631871475516,23.09745300513885,17.983471074380166,18.510710069151628,21.21129580927401,20.504933999743688,26.392685455745124,20.134779750164363,22.054190296156268,18.178670360110804,16.520894071914483,17.56677627133913,15.59277702328857,16.66593570457436,17.48844068877551,15.54134443783462,17.146776406035663,24.0,24.21875,16.50764726356954,16.598762637694282,19.976218787158142,20.88540180032164,15.599315262614924,13.446016644247743,13.886133703630232,19.47714681440443,22.982613524712715,19.35790725326992,15.0034496779278,24.59490740740741,12.244897959183673,25.17102914931588,17.406665459804522,17.69868827160494,16.46090534979424,16.646848989298455,25.99030243261012,18.367346938775505,19.26242938734746,21.23115041223461,21.821067248561796,20.829200555445347,16.171224732461354,17.746913580246915,14.348025711662071,18.36547291092745,17.751479289940825,17.80400714144019,14.568963783707698,24.341758286340216,16.70390066061785,16.878858024691358,15.280403276622556,20.0,23.113021358712334,25.161262762185483,16.326530612244895,27.34375,21.110902608369305,24.54467107153117,14.266117969821671,19.69821673525377,18.426378815989207,17.208887125570325,14.71606648199446,18.359375,16.444444444444443,16.091199099268156,21.93877551020408,18.165680473372777,12.397920914580853,17.981667470724968,23.06805074971165,15.788781193807289,17.444926771877153,18.666666666666668,25.277008310249307,19.562955254942764,20.857273914342937,21.40309155766944,19.316943228952617,18.178670360110804,21.64969796416163,27.58620689655172,15.648686977358308,18.584363719102868,14.878000396746678,21.474849074934934,14.332143427992964,26.64359861591696,19.204389574759944,19.560858721697887,13.512904824107023,19.046633197039487,21.219135802469136,18.611495844875343,19.6846202280548,15.82937110494873,16.43535427319211,23.29071994203198,16.36526173167653,19.507316058023477,29.04865649963689]},{\"axis\":{\"matches\":true},\"label\":\"waist_bmi\",\"values\":[0.306081081081081,0.2080627374096312,0.2064393939393939,0.2556943423952976,0.2635135135135135,0.2528813559322033,0.3256410256410256,0.3926829268292683,0.4444444444444444,0.2753623188405797,0.304885993485342,0.2658588738417676,0.2063380281690141,0.2428571428571428,0.2688888888888888,0.34125,0.2779850746268656,0.3192307692307692,0.2049469964664311,0.2385714285714285,0.3353333333333333,0.3587837837837838,0.288125,0.2439180537772087,0.4125827814569536,0.2254689754689754,0.286624203821656,0.2,0.2277027027027027,0.2551724137931034,0.2414965986394557,0.2388888888888888,0.2777777777777778,0.2528169014084507,0.2649006622516556,0.2759615384615384,0.3489847715736041,0.269281045751634,0.2476973684210526,0.292,0.2567375886524823,0.2560975609756097,0.3108108108108108,0.2714285714285714,0.3257668711656442,0.2648037258815701,0.4393442622950819,0.4019999999999999,0.2852760736196319,0.4537037037037037,0.3987096774193548,0.3577464788732394,0.3621301775147929,0.3229813664596273,0.2474820143884891,0.2448275862068965,0.3036231884057971,0.2895622895622896,0.254074074074074,0.2879432624113475,0.2588652482269503,0.2582089552238806,0.3608482871125612,0.2858974358974359,0.2493421052631579,0.2984375,0.2467625899280575,0.20109439124487,0.2307692307692307,0.2785714285714286,0.2981012658227848,0.2404255319148936,0.2532894736842105,0.2793103448275862,0.3034013605442177,0.2678321678321678,0.2151315789473684,0.2749999999999999,0.2449664429530201,0.2353146853146853,0.3284810126582278,0.251063829787234,0.2865248226950354,0.1809027777777777,0.2804195804195804,0.3453947368421052,0.2590062111801242,0.2768292682926829,0.2307692307692307,0.2993103448275861,0.3235915492957746,0.2641379310344827,0.3299120234604105,0.2757097791798107,0.225,0.2335109926715523,0.3092783505154639,0.3217105263157894,0.3234848484848485,0.2521212121212121,0.3175675675675675,0.2987096774193548,0.3175,0.2620938628158845,0.2714285714285714,0.3143835616438356,0.2,0.2573825503355705,0.2302469135802469,0.3311258278145695,0.2315068493150684,0.2472972972972973,0.2546052631578948,0.2748148148148148,0.2732638888888889,0.2414965986394557,0.2811188811188811,0.2714285714285714,0.2733245729303548,0.2264492753623188,0.326,0.2114695340501792,0.2645367412140575,0.41875,0.191400304414003,0.4150470219435737,0.2964788732394366,0.1911764705882352,0.2643109540636042,0.2337931034482758,0.2528662420382165,0.3556291390728477,0.2607142857142857,0.2238805970149253,0.2474074074074074,0.2672535211267606,0.2417808219178082,0.3136531365313653,0.2219999999999999,0.2407142857142857,0.2894736842105263,0.201418439716312,0.251048951048951,0.2662068965517241,0.3126153846153846,0.246938775510204,0.3090909090909091,0.5915151515151514,0.2287581699346405,0.203125,0.1847014925373134,0.3300844704353476,0.3701986754966887,0.2493055555555555,0.2148148148148148,0.235820895522388,0.2472972972972973,0.2642857142857143,0.2884848484848485,0.3156462585034013,0.2028571428571428,0.325268817204301,0.2871428571428571,0.300625,0.3715189873417722,0.1995481927710843,0.3269230769230769,0.2328767123287671,0.2975778546712803,0.427140549273021,0.4316455696202532,0.2357142857142857,0.2148550724637681,0.2212328767123287,0.2182481751824817,0.229375,0.3082758620689655,0.3108974358974359,0.2899022801302932,0.363758389261745,0.2232142857142857,0.275,0.193103448275862,0.3709779179810725,0.2478723404255319,0.2324626865671641,0.2482517482517482,0.3182389937106918,0.3093333333333333,0.2564102564102564,0.275912408759124,0.2551020408163265,0.3533333333333333,0.2891156462585034,0.2686619718309859,0.3421428571428571,0.4124183006535948,0.4110429447852761,0.2711538461538461,0.4275641025641026,0.254,0.2473509933774834,0.2480263157894737,0.2807453416149068,0.3498452012383901,0.3655172413793103,0.2431372549019608,0.2278571428571428,0.3487179487179487,0.2664473684210526,0.3042857142857142,0.2608991825613078,0.2619047619047619,0.1885714285714285,0.2490322580645161,0.253103448275862,0.2606666666666666,0.2442244224422442,0.2429530201342282,0.2344370860927152,0.215267175572519,0.3214723926380368,0.2813291139240506,0.2802547770700637,0.3582388258839226,0.2465454545454545,0.2818181818181818,0.3069036226930963,0.32574240363099655,0.4090614886731392,0.3185897435897436,0.3043478260869565,0.2763157894736842,0.2414965986394557,0.259731543624161,0.225531914893617,0.2556291390728477,0.2571428571428571,0.2554878048780488,0.2765432098765432,0.3633333333333333,0.391875,0.2314479638009049,0.2358156028368794,0.2917241379310344,0.3242084432717678,0.2289562289562289,0.18736303871439,0.1971830985915492,0.3177631578947368,0.3470588235294117,0.279655172413793,0.190067214339059,0.3590277777777778,0.1767857142857143,0.4048780487804878,0.2616361071932299,0.2465277777777778,0.2244444444444444,0.2362068965517241,0.2942307692307692,0.2571428571428571,0.2884078212290503,0.3248366013071895,0.3056338028169014,0.2866197183098591,0.2275862068965517,0.2513888888888889,0.1890151515151515,0.3193939393939394,0.2123076923076923,0.2485915492957746,0.214237668161435,0.3821656050955414,0.2637434554973821,0.2604166666666667,0.208695652173913,0.3206666666666666,0.347682119205298,0.392156862745098,0.2478571428571429,0.43875,0.3178082191780821,0.3667796610169491,0.194074074074074,0.2637037037037037,0.2811688311688311,0.2454225352112676,0.2355263157894736,0.2987499999999999,0.2453333333333333,0.2280821917808219,0.3089285714285714,0.245,0.1714183037853378,0.271523178807947,0.3627450980392157,0.2370860927152317,0.278343949044586,0.2833333333333333,0.4368421052631579,0.2935483870967741,0.3305941845764855,0.3103448275862069,0.2744961779013203,0.2822368421052632,0.3220282068502351,0.3931034482758621,0.23006993006993,0.2643515237420269,0.2197183098591549,0.4002361275088547,0.1948905109489051,0.4470588235294118,0.3177777777777777,0.2835664335664336,0.2140939597315436,0.2633093525179856,0.32574240363099655,0.2822368421052632,0.2933421226104153,0.2128329297820823,0.2337837837837837,0.32574240363099655,0.203963666391412,0.3190810465858328,0.4444444444444444]}],\"hovertemplate\":\"%{xaxis.title.text}=%{x}\\u003cbr\\u003e%{yaxis.title.text}=%{y}\\u003cextra\\u003e\\u003c\\u002fextra\\u003e\",\"legendgroup\":\"\",\"marker\":{\"color\":\"#636efa\",\"symbol\":\"circle\"},\"name\":\"\",\"showlegend\":false,\"type\":\"splom\"}],                        {\"template\":{\"data\":{\"histogram2dcontour\":[{\"type\":\"histogram2dcontour\",\"colorbar\":{\"outlinewidth\":0,\"ticks\":\"\"},\"colorscale\":[[0.0,\"#0d0887\"],[0.1111111111111111,\"#46039f\"],[0.2222222222222222,\"#7201a8\"],[0.3333333333333333,\"#9c179e\"],[0.4444444444444444,\"#bd3786\"],[0.5555555555555556,\"#d8576b\"],[0.6666666666666666,\"#ed7953\"],[0.7777777777777778,\"#fb9f3a\"],[0.8888888888888888,\"#fdca26\"],[1.0,\"#f0f921\"]]}],\"choropleth\":[{\"type\":\"choropleth\",\"colorbar\":{\"outlinewidth\":0,\"ticks\":\"\"}}],\"histogram2d\":[{\"type\":\"histogram2d\",\"colorbar\":{\"outlinewidth\":0,\"ticks\":\"\"},\"colorscale\":[[0.0,\"#0d0887\"],[0.1111111111111111,\"#46039f\"],[0.2222222222222222,\"#7201a8\"],[0.3333333333333333,\"#9c179e\"],[0.4444444444444444,\"#bd3786\"],[0.5555555555555556,\"#d8576b\"],[0.6666666666666666,\"#ed7953\"],[0.7777777777777778,\"#fb9f3a\"],[0.8888888888888888,\"#fdca26\"],[1.0,\"#f0f921\"]]}],\"heatmap\":[{\"type\":\"heatmap\",\"colorbar\":{\"outlinewidth\":0,\"ticks\":\"\"},\"colorscale\":[[0.0,\"#0d0887\"],[0.1111111111111111,\"#46039f\"],[0.2222222222222222,\"#7201a8\"],[0.3333333333333333,\"#9c179e\"],[0.4444444444444444,\"#bd3786\"],[0.5555555555555556,\"#d8576b\"],[0.6666666666666666,\"#ed7953\"],[0.7777777777777778,\"#fb9f3a\"],[0.8888888888888888,\"#fdca26\"],[1.0,\"#f0f921\"]]}],\"heatmapgl\":[{\"type\":\"heatmapgl\",\"colorbar\":{\"outlinewidth\":0,\"ticks\":\"\"},\"colorscale\":[[0.0,\"#0d0887\"],[0.1111111111111111,\"#46039f\"],[0.2222222222222222,\"#7201a8\"],[0.3333333333333333,\"#9c179e\"],[0.4444444444444444,\"#bd3786\"],[0.5555555555555556,\"#d8576b\"],[0.6666666666666666,\"#ed7953\"],[0.7777777777777778,\"#fb9f3a\"],[0.8888888888888888,\"#fdca26\"],[1.0,\"#f0f921\"]]}],\"contourcarpet\":[{\"type\":\"contourcarpet\",\"colorbar\":{\"outlinewidth\":0,\"ticks\":\"\"}}],\"contour\":[{\"type\":\"contour\",\"colorbar\":{\"outlinewidth\":0,\"ticks\":\"\"},\"colorscale\":[[0.0,\"#0d0887\"],[0.1111111111111111,\"#46039f\"],[0.2222222222222222,\"#7201a8\"],[0.3333333333333333,\"#9c179e\"],[0.4444444444444444,\"#bd3786\"],[0.5555555555555556,\"#d8576b\"],[0.6666666666666666,\"#ed7953\"],[0.7777777777777778,\"#fb9f3a\"],[0.8888888888888888,\"#fdca26\"],[1.0,\"#f0f921\"]]}],\"surface\":[{\"type\":\"surface\",\"colorbar\":{\"outlinewidth\":0,\"ticks\":\"\"},\"colorscale\":[[0.0,\"#0d0887\"],[0.1111111111111111,\"#46039f\"],[0.2222222222222222,\"#7201a8\"],[0.3333333333333333,\"#9c179e\"],[0.4444444444444444,\"#bd3786\"],[0.5555555555555556,\"#d8576b\"],[0.6666666666666666,\"#ed7953\"],[0.7777777777777778,\"#fb9f3a\"],[0.8888888888888888,\"#fdca26\"],[1.0,\"#f0f921\"]]}],\"mesh3d\":[{\"type\":\"mesh3d\",\"colorbar\":{\"outlinewidth\":0,\"ticks\":\"\"}}],\"scatter\":[{\"fillpattern\":{\"fillmode\":\"overlay\",\"size\":10,\"solidity\":0.2},\"type\":\"scatter\"}],\"parcoords\":[{\"type\":\"parcoords\",\"line\":{\"colorbar\":{\"outlinewidth\":0,\"ticks\":\"\"}}}],\"scatterpolargl\":[{\"type\":\"scatterpolargl\",\"marker\":{\"colorbar\":{\"outlinewidth\":0,\"ticks\":\"\"}}}],\"bar\":[{\"error_x\":{\"color\":\"#2a3f5f\"},\"error_y\":{\"color\":\"#2a3f5f\"},\"marker\":{\"line\":{\"color\":\"#E5ECF6\",\"width\":0.5},\"pattern\":{\"fillmode\":\"overlay\",\"size\":10,\"solidity\":0.2}},\"type\":\"bar\"}],\"scattergeo\":[{\"type\":\"scattergeo\",\"marker\":{\"colorbar\":{\"outlinewidth\":0,\"ticks\":\"\"}}}],\"scatterpolar\":[{\"type\":\"scatterpolar\",\"marker\":{\"colorbar\":{\"outlinewidth\":0,\"ticks\":\"\"}}}],\"histogram\":[{\"marker\":{\"pattern\":{\"fillmode\":\"overlay\",\"size\":10,\"solidity\":0.2}},\"type\":\"histogram\"}],\"scattergl\":[{\"type\":\"scattergl\",\"marker\":{\"colorbar\":{\"outlinewidth\":0,\"ticks\":\"\"}}}],\"scatter3d\":[{\"type\":\"scatter3d\",\"line\":{\"colorbar\":{\"outlinewidth\":0,\"ticks\":\"\"}},\"marker\":{\"colorbar\":{\"outlinewidth\":0,\"ticks\":\"\"}}}],\"scattermapbox\":[{\"type\":\"scattermapbox\",\"marker\":{\"colorbar\":{\"outlinewidth\":0,\"ticks\":\"\"}}}],\"scatterternary\":[{\"type\":\"scatterternary\",\"marker\":{\"colorbar\":{\"outlinewidth\":0,\"ticks\":\"\"}}}],\"scattercarpet\":[{\"type\":\"scattercarpet\",\"marker\":{\"colorbar\":{\"outlinewidth\":0,\"ticks\":\"\"}}}],\"carpet\":[{\"aaxis\":{\"endlinecolor\":\"#2a3f5f\",\"gridcolor\":\"white\",\"linecolor\":\"white\",\"minorgridcolor\":\"white\",\"startlinecolor\":\"#2a3f5f\"},\"baxis\":{\"endlinecolor\":\"#2a3f5f\",\"gridcolor\":\"white\",\"linecolor\":\"white\",\"minorgridcolor\":\"white\",\"startlinecolor\":\"#2a3f5f\"},\"type\":\"carpet\"}],\"table\":[{\"cells\":{\"fill\":{\"color\":\"#EBF0F8\"},\"line\":{\"color\":\"white\"}},\"header\":{\"fill\":{\"color\":\"#C8D4E3\"},\"line\":{\"color\":\"white\"}},\"type\":\"table\"}],\"barpolar\":[{\"marker\":{\"line\":{\"color\":\"#E5ECF6\",\"width\":0.5},\"pattern\":{\"fillmode\":\"overlay\",\"size\":10,\"solidity\":0.2}},\"type\":\"barpolar\"}],\"pie\":[{\"automargin\":true,\"type\":\"pie\"}]},\"layout\":{\"autotypenumbers\":\"strict\",\"colorway\":[\"#636efa\",\"#EF553B\",\"#00cc96\",\"#ab63fa\",\"#FFA15A\",\"#19d3f3\",\"#FF6692\",\"#B6E880\",\"#FF97FF\",\"#FECB52\"],\"font\":{\"color\":\"#2a3f5f\"},\"hovermode\":\"closest\",\"hoverlabel\":{\"align\":\"left\"},\"paper_bgcolor\":\"white\",\"plot_bgcolor\":\"#E5ECF6\",\"polar\":{\"bgcolor\":\"#E5ECF6\",\"angularaxis\":{\"gridcolor\":\"white\",\"linecolor\":\"white\",\"ticks\":\"\"},\"radialaxis\":{\"gridcolor\":\"white\",\"linecolor\":\"white\",\"ticks\":\"\"}},\"ternary\":{\"bgcolor\":\"#E5ECF6\",\"aaxis\":{\"gridcolor\":\"white\",\"linecolor\":\"white\",\"ticks\":\"\"},\"baxis\":{\"gridcolor\":\"white\",\"linecolor\":\"white\",\"ticks\":\"\"},\"caxis\":{\"gridcolor\":\"white\",\"linecolor\":\"white\",\"ticks\":\"\"}},\"coloraxis\":{\"colorbar\":{\"outlinewidth\":0,\"ticks\":\"\"}},\"colorscale\":{\"sequential\":[[0.0,\"#0d0887\"],[0.1111111111111111,\"#46039f\"],[0.2222222222222222,\"#7201a8\"],[0.3333333333333333,\"#9c179e\"],[0.4444444444444444,\"#bd3786\"],[0.5555555555555556,\"#d8576b\"],[0.6666666666666666,\"#ed7953\"],[0.7777777777777778,\"#fb9f3a\"],[0.8888888888888888,\"#fdca26\"],[1.0,\"#f0f921\"]],\"sequentialminus\":[[0.0,\"#0d0887\"],[0.1111111111111111,\"#46039f\"],[0.2222222222222222,\"#7201a8\"],[0.3333333333333333,\"#9c179e\"],[0.4444444444444444,\"#bd3786\"],[0.5555555555555556,\"#d8576b\"],[0.6666666666666666,\"#ed7953\"],[0.7777777777777778,\"#fb9f3a\"],[0.8888888888888888,\"#fdca26\"],[1.0,\"#f0f921\"]],\"diverging\":[[0,\"#8e0152\"],[0.1,\"#c51b7d\"],[0.2,\"#de77ae\"],[0.3,\"#f1b6da\"],[0.4,\"#fde0ef\"],[0.5,\"#f7f7f7\"],[0.6,\"#e6f5d0\"],[0.7,\"#b8e186\"],[0.8,\"#7fbc41\"],[0.9,\"#4d9221\"],[1,\"#276419\"]]},\"xaxis\":{\"gridcolor\":\"white\",\"linecolor\":\"white\",\"ticks\":\"\",\"title\":{\"standoff\":15},\"zerolinecolor\":\"white\",\"automargin\":true,\"zerolinewidth\":2},\"yaxis\":{\"gridcolor\":\"white\",\"linecolor\":\"white\",\"ticks\":\"\",\"title\":{\"standoff\":15},\"zerolinecolor\":\"white\",\"automargin\":true,\"zerolinewidth\":2},\"scene\":{\"xaxis\":{\"backgroundcolor\":\"#E5ECF6\",\"gridcolor\":\"white\",\"linecolor\":\"white\",\"showbackground\":true,\"ticks\":\"\",\"zerolinecolor\":\"white\",\"gridwidth\":2},\"yaxis\":{\"backgroundcolor\":\"#E5ECF6\",\"gridcolor\":\"white\",\"linecolor\":\"white\",\"showbackground\":true,\"ticks\":\"\",\"zerolinecolor\":\"white\",\"gridwidth\":2},\"zaxis\":{\"backgroundcolor\":\"#E5ECF6\",\"gridcolor\":\"white\",\"linecolor\":\"white\",\"showbackground\":true,\"ticks\":\"\",\"zerolinecolor\":\"white\",\"gridwidth\":2}},\"shapedefaults\":{\"line\":{\"color\":\"#2a3f5f\"}},\"annotationdefaults\":{\"arrowcolor\":\"#2a3f5f\",\"arrowhead\":0,\"arrowwidth\":1},\"geo\":{\"bgcolor\":\"white\",\"landcolor\":\"#E5ECF6\",\"subunitcolor\":\"white\",\"showland\":true,\"showlakes\":true,\"lakecolor\":\"white\"},\"title\":{\"x\":0.05},\"mapbox\":{\"style\":\"light\"}}},\"legend\":{\"tracegroupgap\":0},\"margin\":{\"t\":60},\"dragmode\":\"select\",\"height\":1600,\"width\":1200},                        {\"responsive\": true}                    ).then(function(){\n",
       "                            \n",
       "var gd = document.getElementById('f50aae8a-dc00-468e-ad3d-4e269ae7c5a4');\n",
       "var x = new MutationObserver(function (mutations, observer) {{\n",
       "        var display = window.getComputedStyle(gd).display;\n",
       "        if (!display || display === 'none') {{\n",
       "            console.log([gd, 'removed!']);\n",
       "            Plotly.purge(gd);\n",
       "            observer.disconnect();\n",
       "        }}\n",
       "}});\n",
       "\n",
       "// Listen for the removal of the full notebook cells\n",
       "var notebookContainer = gd.closest('#notebook-container');\n",
       "if (notebookContainer) {{\n",
       "    x.observe(notebookContainer, {childList: true});\n",
       "}}\n",
       "\n",
       "// Listen for the clearing of the current output cell\n",
       "var outputEl = gd.closest('.output');\n",
       "if (outputEl) {{\n",
       "    x.observe(outputEl, {childList: true});\n",
       "}}\n",
       "\n",
       "                        })                };                });            </script>        </div>"
      ]
     },
     "metadata": {},
     "output_type": "display_data"
    },
    {
     "data": {
      "application/vnd.plotly.v1+json": {
       "config": {
        "plotlyServerURL": "https://plot.ly"
       },
       "data": [
        {
         "hovertemplate": "step_count=%{x}<br>waist_bmi=%{y}<br>eat_calory=%{marker.size}<br>height=%{marker.color}<extra></extra>",
         "legendgroup": "",
         "marker": {
          "color": [
           148,
           136.01666666666665,
           132,
           136.1,
           148,
           147.5,
           156,
           164,
           153,
           138,
           153.5,
           140.3,
           142,
           147,
           135,
           160,
           134,
           143,
           141.5,
           140,
           150,
           148,
           160,
           156.2,
           151,
           138.6,
           157,
           130,
           148,
           145,
           147,
           144,
           162,
           142,
           151,
           156,
           157.6,
           153,
           152,
           150,
           141,
           147.6,
           148,
           161,
           163,
           150.3,
           152.5,
           150,
           163,
           162,
           155,
           142,
           169,
           161,
           139,
           145,
           138,
           148.5,
           135,
           141,
           141,
           134,
           153.25,
           156,
           152,
           160,
           139,
           146.2,
           130,
           140,
           158,
           141,
           152,
           145,
           147,
           143,
           152,
           146,
           149,
           143,
           158,
           141,
           141,
           144,
           143,
           152,
           161,
           164,
           130,
           145,
           142,
           145,
           136.4,
           158.5,
           140,
           150.1,
           145.5,
           152,
           132,
           165,
           148,
           155,
           160,
           138.5,
           140,
           146,
           140,
           149,
           162,
           151,
           146,
           148,
           152,
           135,
           144,
           147,
           143,
           140,
           152.2,
           138,
           150,
           139.5,
           156.5,
           160,
           131.4,
           159.5,
           142,
           136,
           141.5,
           145,
           157,
           151,
           140,
           134,
           135,
           142,
           146,
           162.6,
           150,
           140,
           152,
           141,
           143,
           145,
           162.5,
           147,
           137.5,
           165,
           153,
           128,
           134,
           153.9,
           151,
           144,
           135,
           134,
           148,
           140,
           165,
           147,
           140,
           148.8,
           140,
           160,
           158,
           132.8,
           156,
           146,
           144.5,
           154.75,
           158,
           140,
           138,
           146,
           137,
           160,
           145,
           156,
           153.5,
           149,
           140,
           140,
           145,
           158.5,
           141,
           134,
           143,
           159,
           150,
           156,
           137,
           147,
           150,
           147,
           142,
           140,
           153,
           163,
           156,
           156,
           150,
           151,
           152,
           161,
           161.5,
           145,
           153,
           140,
           156,
           152,
           140,
           146.8,
           147,
           140,
           155,
           145,
           150,
           151.5,
           149,
           151,
           131,
           163,
           158,
           157,
           149.9,
           137.5,
           154,
           146.3,
           153,
           154.5,
           156,
           138,
           152,
           147,
           149,
           141,
           151,
           149.33333333333334,
           164,
           162,
           150,
           160,
           147.33333333333334,
           141,
           145,
           151.6,
           148.5,
           136.9,
           142,
           152,
           153,
           145,
           133.9,
           144,
           140,
           164,
           141.8,
           144,
           135,
           145,
           156,
           140,
           143.2,
           153,
           142,
           142,
           145,
           144,
           132,
           165,
           130,
           142,
           148.66666666666666,
           157,
           152.8,
           144,
           138,
           150,
           151,
           153,
           140,
           160,
           146,
           147.5,
           135,
           135,
           154,
           142,
           152,
           160,
           150,
           146,
           140,
           130,
           139.13333333333333,
           151,
           153,
           151,
           157,
           150,
           152,
           155,
           158.2,
           145,
           143.9,
           152,
           148.9,
           145,
           143,
           141.1,
           142,
           169.4,
           137,
           170,
           135,
           143,
           149,
           139,
           144,
           152,
           151.7,
           137.66666666666666,
           148,
           139,
           121.1,
           156.7,
           153
          ],
          "coloraxis": "coloraxis",
          "size": [
           2000,
           2000,
           421,
           481,
           748,
           285,
           160,
           546,
           580,
           580,
           580,
           580,
           580,
           228,
           1758,
           1758,
           474,
           474,
           534,
           534,
           293,
           348,
           348,
           1390,
           1284,
           285,
           415,
           513,
           513,
           468,
           468,
           247,
           239,
           208,
           357,
           5812,
           587,
           1063,
           1044,
           285,
           552,
           552,
           450,
           350,
           1567,
           634,
           111,
           568,
           521,
           521,
           521,
           521,
           521,
           521,
           385,
           858,
           241,
           241,
           462,
           93,
           89,
           89,
           360,
           268,
           247,
           247,
           247,
           134,
           134,
           134,
           1140.5,
           1140.5,
           300,
           174,
           174,
           205,
           205,
           226,
           669,
           8368,
           302,
           302,
           176,
           309,
           840,
           840,
           840,
           190,
           190,
           190,
           584,
           1151,
           761,
           412.5,
           428,
           431,
           653,
           673,
           510,
           283,
           283,
           283,
           283,
           283,
           97,
           625,
           857,
           687,
           133,
           133,
           133,
           133,
           175,
           759,
           1257,
           1257,
           3607,
           3607,
           572,
           280,
           280,
           1139,
           176,
           2252,
           2252,
           580,
           906,
           2737,
           266,
           1256,
           440,
           440,
           495,
           410,
           443,
           443,
           360,
           772,
           1251,
           871.5,
           871.5,
           535,
           561,
           148,
           2535,
           2535,
           573,
           572,
           572,
           458,
           568,
           351.5,
           536,
           667,
           589,
           273.5,
           190,
           271,
           280,
           280,
           2024,
           2024,
           2024,
           253,
           972,
           663.5,
           663.5,
           663.5,
           360,
           360,
           230,
           230,
           230,
           745,
           745,
           745,
           511,
           567,
           314,
           769.5,
           703,
           340,
           2752,
           455,
           455,
           184,
           378,
           176,
           153,
           1110,
           761,
           185,
           293,
           528,
           1919,
           1919,
           1919,
           1919,
           1919,
           576.5,
           503,
           1053,
           220,
           269,
           10669,
           391.5,
           265,
           265,
           353,
           1536,
           1536,
           1536,
           96,
           905,
           446,
           591,
           624,
           1410,
           1410,
           320,
           422,
           5793,
           5346,
           295,
           292,
           304,
           1797,
           561,
           689,
           280,
           97,
           97,
           97,
           2314,
           953,
           953,
           539,
           585,
           1275,
           858,
           858,
           858,
           858,
           449,
           392,
           392,
           392,
           926,
           293,
           175,
           175,
           2045,
           2045,
           192,
           869,
           869,
           610,
           8,
           124,
           334,
           334,
           117,
           1940,
           884,
           729,
           729,
           192,
           544,
           604,
           85,
           85,
           266,
           748,
           848,
           848,
           431,
           525,
           3561,
           1182,
           1182,
           263,
           179,
           985,
           985,
           288,
           288,
           446,
           446,
           1617,
           481,
           536,
           536,
           536,
           673,
           766,
           539,
           564,
           564,
           701,
           345,
           293,
           686,
           436,
           436,
           436,
           436,
           436,
           436,
           436,
           121,
           482.5,
           85,
           244,
           244,
           340,
           701,
           701,
           734,
           585,
           1161,
           801,
           976,
           976,
           976,
           250,
           238,
           521
          ],
          "sizemode": "area",
          "sizeref": 26.6725,
          "symbol": "circle"
         },
         "mode": "markers",
         "name": "",
         "orientation": "v",
         "showlegend": false,
         "type": "scatter",
         "x": [
          72,
          10079,
          100,
          67,
          200,
          13256,
          9696,
          4649,
          145,
          145,
          145,
          0,
          0,
          2,
          8258,
          8258,
          20,
          20,
          35,
          2574,
          4483,
          4720,
          2443,
          789,
          5988,
          5229,
          5931,
          4175,
          4278,
          10843,
          10843,
          287,
          25,
          3144,
          2220,
          1748,
          7430,
          4651,
          4396,
          6973,
          13864,
          13864,
          3067,
          6055,
          38,
          4953,
          590,
          412,
          5467,
          5467,
          3,
          3255,
          3255,
          784,
          46,
          6412,
          230,
          230,
          30,
          993,
          1408,
          81,
          8168,
          406,
          556,
          556,
          5078,
          30,
          30,
          30,
          5713,
          5713,
          8540,
          641,
          1905,
          203,
          203,
          2069,
          2069,
          75,
          4066,
          589,
          3032,
          317,
          3000,
          3000,
          628,
          5007,
          2107,
          2107,
          2107,
          10988,
          0,
          57,
          715,
          17,
          905,
          8304,
          580,
          580,
          580,
          135,
          17993,
          15,
          6267,
          6267,
          1113,
          20,
          20,
          20,
          20,
          3484,
          4075,
          7789,
          5745,
          41,
          247,
          3559,
          47,
          1416,
          1416,
          16,
          16579,
          18914,
          83,
          127,
          1046,
          389,
          1606,
          53,
          284,
          10147,
          14,
          4874,
          4874,
          4874,
          2367,
          3110,
          11883,
          750,
          750,
          1226,
          7,
          6,
          8,
          0,
          10,
          8,
          1477,
          16973,
          16973,
          8531,
          6478,
          4115,
          1802,
          414,
          48,
          6681,
          4562,
          1209,
          146,
          146,
          18417,
          56,
          0,
          0,
          677,
          100,
          2037,
          5430,
          804,
          804,
          8,
          12210,
          12210,
          636,
          59,
          6145,
          3812,
          5092,
          6768,
          1380,
          7814,
          35,
          2969,
          2410,
          3302,
          16116,
          718,
          5795,
          4417,
          151,
          27,
          1848,
          73,
          74,
          74,
          4714,
          4714,
          4384,
          6344,
          0,
          1249,
          1249,
          1911,
          5294,
          508,
          508,
          766,
          7867,
          14993,
          14993,
          3889,
          208,
          7932,
          8,
          8,
          2675,
          2675,
          240,
          21,
          8326,
          1115,
          5055,
          9337,
          324,
          854,
          2326,
          6627,
          82,
          4947,
          8794,
          8794,
          1693,
          2788,
          2788,
          3526,
          2009,
          3478,
          37658,
          37658,
          2690,
          2869,
          18,
          4125,
          21,
          3444.5,
          0,
          5780,
          421,
          421,
          318,
          318,
          138,
          14,
          177,
          448,
          6114,
          53,
          3265,
          214,
          28,
          107,
          6722,
          8588,
          0,
          14,
          35,
          827,
          4592,
          6443,
          2452,
          212,
          363,
          363,
          4602,
          3206,
          5639,
          189,
          121,
          1042,
          891,
          472,
          38,
          2830,
          2830,
          487,
          487,
          487,
          2936,
          8388,
          8388,
          8388,
          103,
          338,
          2240,
          702,
          290,
          1702,
          1702,
          4522,
          2690,
          1436,
          4474,
          4474,
          4474,
          640,
          640,
          17278,
          8842,
          8842,
          8842,
          10516,
          10516,
          1980,
          31,
          13971,
          4849,
          4847,
          0,
          0,
          6966,
          6966,
          6966,
          90,
          3021,
          2103
         ],
         "xaxis": "x",
         "y": [
          0.306081081081081,
          0.2080627374096312,
          0.2064393939393939,
          0.2556943423952976,
          0.2635135135135135,
          0.2528813559322033,
          0.3256410256410256,
          0.3926829268292683,
          0.4444444444444444,
          0.2753623188405797,
          0.304885993485342,
          0.2658588738417676,
          0.2063380281690141,
          0.2428571428571428,
          0.2688888888888888,
          0.34125,
          0.2779850746268656,
          0.3192307692307692,
          0.2049469964664311,
          0.2385714285714285,
          0.3353333333333333,
          0.3587837837837838,
          0.288125,
          0.2439180537772087,
          0.4125827814569536,
          0.2254689754689754,
          0.286624203821656,
          0.2,
          0.2277027027027027,
          0.2551724137931034,
          0.2414965986394557,
          0.2388888888888888,
          0.2777777777777778,
          0.2528169014084507,
          0.2649006622516556,
          0.2759615384615384,
          0.3489847715736041,
          0.269281045751634,
          0.2476973684210526,
          0.292,
          0.2567375886524823,
          0.2560975609756097,
          0.3108108108108108,
          0.2714285714285714,
          0.3257668711656442,
          0.2648037258815701,
          0.4393442622950819,
          0.4019999999999999,
          0.2852760736196319,
          0.4537037037037037,
          0.3987096774193548,
          0.3577464788732394,
          0.3621301775147929,
          0.3229813664596273,
          0.2474820143884891,
          0.2448275862068965,
          0.3036231884057971,
          0.2895622895622896,
          0.254074074074074,
          0.2879432624113475,
          0.2588652482269503,
          0.2582089552238806,
          0.3608482871125612,
          0.2858974358974359,
          0.2493421052631579,
          0.2984375,
          0.2467625899280575,
          0.20109439124487,
          0.2307692307692307,
          0.2785714285714286,
          0.2981012658227848,
          0.2404255319148936,
          0.2532894736842105,
          0.2793103448275862,
          0.3034013605442177,
          0.2678321678321678,
          0.2151315789473684,
          0.2749999999999999,
          0.2449664429530201,
          0.2353146853146853,
          0.3284810126582278,
          0.251063829787234,
          0.2865248226950354,
          0.1809027777777777,
          0.2804195804195804,
          0.3453947368421052,
          0.2590062111801242,
          0.2768292682926829,
          0.2307692307692307,
          0.2993103448275861,
          0.3235915492957746,
          0.2641379310344827,
          0.3299120234604105,
          0.2757097791798107,
          0.225,
          0.2335109926715523,
          0.3092783505154639,
          0.3217105263157894,
          0.3234848484848485,
          0.2521212121212121,
          0.3175675675675675,
          0.2987096774193548,
          0.3175,
          0.2620938628158845,
          0.2714285714285714,
          0.3143835616438356,
          0.2,
          0.2573825503355705,
          0.2302469135802469,
          0.3311258278145695,
          0.2315068493150684,
          0.2472972972972973,
          0.2546052631578948,
          0.2748148148148148,
          0.2732638888888889,
          0.2414965986394557,
          0.2811188811188811,
          0.2714285714285714,
          0.2733245729303548,
          0.2264492753623188,
          0.326,
          0.2114695340501792,
          0.2645367412140575,
          0.41875,
          0.191400304414003,
          0.4150470219435737,
          0.2964788732394366,
          0.1911764705882352,
          0.2643109540636042,
          0.2337931034482758,
          0.2528662420382165,
          0.3556291390728477,
          0.2607142857142857,
          0.2238805970149253,
          0.2474074074074074,
          0.2672535211267606,
          0.2417808219178082,
          0.3136531365313653,
          0.2219999999999999,
          0.2407142857142857,
          0.2894736842105263,
          0.201418439716312,
          0.251048951048951,
          0.2662068965517241,
          0.3126153846153846,
          0.246938775510204,
          0.3090909090909091,
          0.5915151515151514,
          0.2287581699346405,
          0.203125,
          0.1847014925373134,
          0.3300844704353476,
          0.3701986754966887,
          0.2493055555555555,
          0.2148148148148148,
          0.235820895522388,
          0.2472972972972973,
          0.2642857142857143,
          0.2884848484848485,
          0.3156462585034013,
          0.2028571428571428,
          0.325268817204301,
          0.2871428571428571,
          0.300625,
          0.3715189873417722,
          0.1995481927710843,
          0.3269230769230769,
          0.2328767123287671,
          0.2975778546712803,
          0.427140549273021,
          0.4316455696202532,
          0.2357142857142857,
          0.2148550724637681,
          0.2212328767123287,
          0.2182481751824817,
          0.229375,
          0.3082758620689655,
          0.3108974358974359,
          0.2899022801302932,
          0.363758389261745,
          0.2232142857142857,
          0.275,
          0.193103448275862,
          0.3709779179810725,
          0.2478723404255319,
          0.2324626865671641,
          0.2482517482517482,
          0.3182389937106918,
          0.3093333333333333,
          0.2564102564102564,
          0.275912408759124,
          0.2551020408163265,
          0.3533333333333333,
          0.2891156462585034,
          0.2686619718309859,
          0.3421428571428571,
          0.4124183006535948,
          0.4110429447852761,
          0.2711538461538461,
          0.4275641025641026,
          0.254,
          0.2473509933774834,
          0.2480263157894737,
          0.2807453416149068,
          0.3498452012383901,
          0.3655172413793103,
          0.2431372549019608,
          0.2278571428571428,
          0.3487179487179487,
          0.2664473684210526,
          0.3042857142857142,
          0.2608991825613078,
          0.2619047619047619,
          0.1885714285714285,
          0.2490322580645161,
          0.253103448275862,
          0.2606666666666666,
          0.2442244224422442,
          0.2429530201342282,
          0.2344370860927152,
          0.215267175572519,
          0.3214723926380368,
          0.2813291139240506,
          0.2802547770700637,
          0.3582388258839226,
          0.2465454545454545,
          0.2818181818181818,
          0.3069036226930963,
          0.32574240363099655,
          0.4090614886731392,
          0.3185897435897436,
          0.3043478260869565,
          0.2763157894736842,
          0.2414965986394557,
          0.259731543624161,
          0.225531914893617,
          0.2556291390728477,
          0.2571428571428571,
          0.2554878048780488,
          0.2765432098765432,
          0.3633333333333333,
          0.391875,
          0.2314479638009049,
          0.2358156028368794,
          0.2917241379310344,
          0.3242084432717678,
          0.2289562289562289,
          0.18736303871439,
          0.1971830985915492,
          0.3177631578947368,
          0.3470588235294117,
          0.279655172413793,
          0.190067214339059,
          0.3590277777777778,
          0.1767857142857143,
          0.4048780487804878,
          0.2616361071932299,
          0.2465277777777778,
          0.2244444444444444,
          0.2362068965517241,
          0.2942307692307692,
          0.2571428571428571,
          0.2884078212290503,
          0.3248366013071895,
          0.3056338028169014,
          0.2866197183098591,
          0.2275862068965517,
          0.2513888888888889,
          0.1890151515151515,
          0.3193939393939394,
          0.2123076923076923,
          0.2485915492957746,
          0.214237668161435,
          0.3821656050955414,
          0.2637434554973821,
          0.2604166666666667,
          0.208695652173913,
          0.3206666666666666,
          0.347682119205298,
          0.392156862745098,
          0.2478571428571429,
          0.43875,
          0.3178082191780821,
          0.3667796610169491,
          0.194074074074074,
          0.2637037037037037,
          0.2811688311688311,
          0.2454225352112676,
          0.2355263157894736,
          0.2987499999999999,
          0.2453333333333333,
          0.2280821917808219,
          0.3089285714285714,
          0.245,
          0.1714183037853378,
          0.271523178807947,
          0.3627450980392157,
          0.2370860927152317,
          0.278343949044586,
          0.2833333333333333,
          0.4368421052631579,
          0.2935483870967741,
          0.3305941845764855,
          0.3103448275862069,
          0.2744961779013203,
          0.2822368421052632,
          0.3220282068502351,
          0.3931034482758621,
          0.23006993006993,
          0.2643515237420269,
          0.2197183098591549,
          0.4002361275088547,
          0.1948905109489051,
          0.4470588235294118,
          0.3177777777777777,
          0.2835664335664336,
          0.2140939597315436,
          0.2633093525179856,
          0.32574240363099655,
          0.2822368421052632,
          0.2933421226104153,
          0.2128329297820823,
          0.2337837837837837,
          0.32574240363099655,
          0.203963666391412,
          0.3190810465858328,
          0.4444444444444444
         ],
         "yaxis": "y"
        }
       ],
       "layout": {
        "coloraxis": {
         "colorbar": {
          "title": {
           "text": "height"
          }
         },
         "colorscale": [
          [
           0,
           "#0d0887"
          ],
          [
           0.1111111111111111,
           "#46039f"
          ],
          [
           0.2222222222222222,
           "#7201a8"
          ],
          [
           0.3333333333333333,
           "#9c179e"
          ],
          [
           0.4444444444444444,
           "#bd3786"
          ],
          [
           0.5555555555555556,
           "#d8576b"
          ],
          [
           0.6666666666666666,
           "#ed7953"
          ],
          [
           0.7777777777777778,
           "#fb9f3a"
          ],
          [
           0.8888888888888888,
           "#fdca26"
          ],
          [
           1,
           "#f0f921"
          ]
         ]
        },
        "legend": {
         "itemsizing": "constant",
         "tracegroupgap": 0
        },
        "margin": {
         "t": 60
        },
        "template": {
         "data": {
          "bar": [
           {
            "error_x": {
             "color": "#2a3f5f"
            },
            "error_y": {
             "color": "#2a3f5f"
            },
            "marker": {
             "line": {
              "color": "#E5ECF6",
              "width": 0.5
             },
             "pattern": {
              "fillmode": "overlay",
              "size": 10,
              "solidity": 0.2
             }
            },
            "type": "bar"
           }
          ],
          "barpolar": [
           {
            "marker": {
             "line": {
              "color": "#E5ECF6",
              "width": 0.5
             },
             "pattern": {
              "fillmode": "overlay",
              "size": 10,
              "solidity": 0.2
             }
            },
            "type": "barpolar"
           }
          ],
          "carpet": [
           {
            "aaxis": {
             "endlinecolor": "#2a3f5f",
             "gridcolor": "white",
             "linecolor": "white",
             "minorgridcolor": "white",
             "startlinecolor": "#2a3f5f"
            },
            "baxis": {
             "endlinecolor": "#2a3f5f",
             "gridcolor": "white",
             "linecolor": "white",
             "minorgridcolor": "white",
             "startlinecolor": "#2a3f5f"
            },
            "type": "carpet"
           }
          ],
          "choropleth": [
           {
            "colorbar": {
             "outlinewidth": 0,
             "ticks": ""
            },
            "type": "choropleth"
           }
          ],
          "contour": [
           {
            "colorbar": {
             "outlinewidth": 0,
             "ticks": ""
            },
            "colorscale": [
             [
              0,
              "#0d0887"
             ],
             [
              0.1111111111111111,
              "#46039f"
             ],
             [
              0.2222222222222222,
              "#7201a8"
             ],
             [
              0.3333333333333333,
              "#9c179e"
             ],
             [
              0.4444444444444444,
              "#bd3786"
             ],
             [
              0.5555555555555556,
              "#d8576b"
             ],
             [
              0.6666666666666666,
              "#ed7953"
             ],
             [
              0.7777777777777778,
              "#fb9f3a"
             ],
             [
              0.8888888888888888,
              "#fdca26"
             ],
             [
              1,
              "#f0f921"
             ]
            ],
            "type": "contour"
           }
          ],
          "contourcarpet": [
           {
            "colorbar": {
             "outlinewidth": 0,
             "ticks": ""
            },
            "type": "contourcarpet"
           }
          ],
          "heatmap": [
           {
            "colorbar": {
             "outlinewidth": 0,
             "ticks": ""
            },
            "colorscale": [
             [
              0,
              "#0d0887"
             ],
             [
              0.1111111111111111,
              "#46039f"
             ],
             [
              0.2222222222222222,
              "#7201a8"
             ],
             [
              0.3333333333333333,
              "#9c179e"
             ],
             [
              0.4444444444444444,
              "#bd3786"
             ],
             [
              0.5555555555555556,
              "#d8576b"
             ],
             [
              0.6666666666666666,
              "#ed7953"
             ],
             [
              0.7777777777777778,
              "#fb9f3a"
             ],
             [
              0.8888888888888888,
              "#fdca26"
             ],
             [
              1,
              "#f0f921"
             ]
            ],
            "type": "heatmap"
           }
          ],
          "heatmapgl": [
           {
            "colorbar": {
             "outlinewidth": 0,
             "ticks": ""
            },
            "colorscale": [
             [
              0,
              "#0d0887"
             ],
             [
              0.1111111111111111,
              "#46039f"
             ],
             [
              0.2222222222222222,
              "#7201a8"
             ],
             [
              0.3333333333333333,
              "#9c179e"
             ],
             [
              0.4444444444444444,
              "#bd3786"
             ],
             [
              0.5555555555555556,
              "#d8576b"
             ],
             [
              0.6666666666666666,
              "#ed7953"
             ],
             [
              0.7777777777777778,
              "#fb9f3a"
             ],
             [
              0.8888888888888888,
              "#fdca26"
             ],
             [
              1,
              "#f0f921"
             ]
            ],
            "type": "heatmapgl"
           }
          ],
          "histogram": [
           {
            "marker": {
             "pattern": {
              "fillmode": "overlay",
              "size": 10,
              "solidity": 0.2
             }
            },
            "type": "histogram"
           }
          ],
          "histogram2d": [
           {
            "colorbar": {
             "outlinewidth": 0,
             "ticks": ""
            },
            "colorscale": [
             [
              0,
              "#0d0887"
             ],
             [
              0.1111111111111111,
              "#46039f"
             ],
             [
              0.2222222222222222,
              "#7201a8"
             ],
             [
              0.3333333333333333,
              "#9c179e"
             ],
             [
              0.4444444444444444,
              "#bd3786"
             ],
             [
              0.5555555555555556,
              "#d8576b"
             ],
             [
              0.6666666666666666,
              "#ed7953"
             ],
             [
              0.7777777777777778,
              "#fb9f3a"
             ],
             [
              0.8888888888888888,
              "#fdca26"
             ],
             [
              1,
              "#f0f921"
             ]
            ],
            "type": "histogram2d"
           }
          ],
          "histogram2dcontour": [
           {
            "colorbar": {
             "outlinewidth": 0,
             "ticks": ""
            },
            "colorscale": [
             [
              0,
              "#0d0887"
             ],
             [
              0.1111111111111111,
              "#46039f"
             ],
             [
              0.2222222222222222,
              "#7201a8"
             ],
             [
              0.3333333333333333,
              "#9c179e"
             ],
             [
              0.4444444444444444,
              "#bd3786"
             ],
             [
              0.5555555555555556,
              "#d8576b"
             ],
             [
              0.6666666666666666,
              "#ed7953"
             ],
             [
              0.7777777777777778,
              "#fb9f3a"
             ],
             [
              0.8888888888888888,
              "#fdca26"
             ],
             [
              1,
              "#f0f921"
             ]
            ],
            "type": "histogram2dcontour"
           }
          ],
          "mesh3d": [
           {
            "colorbar": {
             "outlinewidth": 0,
             "ticks": ""
            },
            "type": "mesh3d"
           }
          ],
          "parcoords": [
           {
            "line": {
             "colorbar": {
              "outlinewidth": 0,
              "ticks": ""
             }
            },
            "type": "parcoords"
           }
          ],
          "pie": [
           {
            "automargin": true,
            "type": "pie"
           }
          ],
          "scatter": [
           {
            "fillpattern": {
             "fillmode": "overlay",
             "size": 10,
             "solidity": 0.2
            },
            "type": "scatter"
           }
          ],
          "scatter3d": [
           {
            "line": {
             "colorbar": {
              "outlinewidth": 0,
              "ticks": ""
             }
            },
            "marker": {
             "colorbar": {
              "outlinewidth": 0,
              "ticks": ""
             }
            },
            "type": "scatter3d"
           }
          ],
          "scattercarpet": [
           {
            "marker": {
             "colorbar": {
              "outlinewidth": 0,
              "ticks": ""
             }
            },
            "type": "scattercarpet"
           }
          ],
          "scattergeo": [
           {
            "marker": {
             "colorbar": {
              "outlinewidth": 0,
              "ticks": ""
             }
            },
            "type": "scattergeo"
           }
          ],
          "scattergl": [
           {
            "marker": {
             "colorbar": {
              "outlinewidth": 0,
              "ticks": ""
             }
            },
            "type": "scattergl"
           }
          ],
          "scattermapbox": [
           {
            "marker": {
             "colorbar": {
              "outlinewidth": 0,
              "ticks": ""
             }
            },
            "type": "scattermapbox"
           }
          ],
          "scatterpolar": [
           {
            "marker": {
             "colorbar": {
              "outlinewidth": 0,
              "ticks": ""
             }
            },
            "type": "scatterpolar"
           }
          ],
          "scatterpolargl": [
           {
            "marker": {
             "colorbar": {
              "outlinewidth": 0,
              "ticks": ""
             }
            },
            "type": "scatterpolargl"
           }
          ],
          "scatterternary": [
           {
            "marker": {
             "colorbar": {
              "outlinewidth": 0,
              "ticks": ""
             }
            },
            "type": "scatterternary"
           }
          ],
          "surface": [
           {
            "colorbar": {
             "outlinewidth": 0,
             "ticks": ""
            },
            "colorscale": [
             [
              0,
              "#0d0887"
             ],
             [
              0.1111111111111111,
              "#46039f"
             ],
             [
              0.2222222222222222,
              "#7201a8"
             ],
             [
              0.3333333333333333,
              "#9c179e"
             ],
             [
              0.4444444444444444,
              "#bd3786"
             ],
             [
              0.5555555555555556,
              "#d8576b"
             ],
             [
              0.6666666666666666,
              "#ed7953"
             ],
             [
              0.7777777777777778,
              "#fb9f3a"
             ],
             [
              0.8888888888888888,
              "#fdca26"
             ],
             [
              1,
              "#f0f921"
             ]
            ],
            "type": "surface"
           }
          ],
          "table": [
           {
            "cells": {
             "fill": {
              "color": "#EBF0F8"
             },
             "line": {
              "color": "white"
             }
            },
            "header": {
             "fill": {
              "color": "#C8D4E3"
             },
             "line": {
              "color": "white"
             }
            },
            "type": "table"
           }
          ]
         },
         "layout": {
          "annotationdefaults": {
           "arrowcolor": "#2a3f5f",
           "arrowhead": 0,
           "arrowwidth": 1
          },
          "autotypenumbers": "strict",
          "coloraxis": {
           "colorbar": {
            "outlinewidth": 0,
            "ticks": ""
           }
          },
          "colorscale": {
           "diverging": [
            [
             0,
             "#8e0152"
            ],
            [
             0.1,
             "#c51b7d"
            ],
            [
             0.2,
             "#de77ae"
            ],
            [
             0.3,
             "#f1b6da"
            ],
            [
             0.4,
             "#fde0ef"
            ],
            [
             0.5,
             "#f7f7f7"
            ],
            [
             0.6,
             "#e6f5d0"
            ],
            [
             0.7,
             "#b8e186"
            ],
            [
             0.8,
             "#7fbc41"
            ],
            [
             0.9,
             "#4d9221"
            ],
            [
             1,
             "#276419"
            ]
           ],
           "sequential": [
            [
             0,
             "#0d0887"
            ],
            [
             0.1111111111111111,
             "#46039f"
            ],
            [
             0.2222222222222222,
             "#7201a8"
            ],
            [
             0.3333333333333333,
             "#9c179e"
            ],
            [
             0.4444444444444444,
             "#bd3786"
            ],
            [
             0.5555555555555556,
             "#d8576b"
            ],
            [
             0.6666666666666666,
             "#ed7953"
            ],
            [
             0.7777777777777778,
             "#fb9f3a"
            ],
            [
             0.8888888888888888,
             "#fdca26"
            ],
            [
             1,
             "#f0f921"
            ]
           ],
           "sequentialminus": [
            [
             0,
             "#0d0887"
            ],
            [
             0.1111111111111111,
             "#46039f"
            ],
            [
             0.2222222222222222,
             "#7201a8"
            ],
            [
             0.3333333333333333,
             "#9c179e"
            ],
            [
             0.4444444444444444,
             "#bd3786"
            ],
            [
             0.5555555555555556,
             "#d8576b"
            ],
            [
             0.6666666666666666,
             "#ed7953"
            ],
            [
             0.7777777777777778,
             "#fb9f3a"
            ],
            [
             0.8888888888888888,
             "#fdca26"
            ],
            [
             1,
             "#f0f921"
            ]
           ]
          },
          "colorway": [
           "#636efa",
           "#EF553B",
           "#00cc96",
           "#ab63fa",
           "#FFA15A",
           "#19d3f3",
           "#FF6692",
           "#B6E880",
           "#FF97FF",
           "#FECB52"
          ],
          "font": {
           "color": "#2a3f5f"
          },
          "geo": {
           "bgcolor": "white",
           "lakecolor": "white",
           "landcolor": "#E5ECF6",
           "showlakes": true,
           "showland": true,
           "subunitcolor": "white"
          },
          "hoverlabel": {
           "align": "left"
          },
          "hovermode": "closest",
          "mapbox": {
           "style": "light"
          },
          "paper_bgcolor": "white",
          "plot_bgcolor": "#E5ECF6",
          "polar": {
           "angularaxis": {
            "gridcolor": "white",
            "linecolor": "white",
            "ticks": ""
           },
           "bgcolor": "#E5ECF6",
           "radialaxis": {
            "gridcolor": "white",
            "linecolor": "white",
            "ticks": ""
           }
          },
          "scene": {
           "xaxis": {
            "backgroundcolor": "#E5ECF6",
            "gridcolor": "white",
            "gridwidth": 2,
            "linecolor": "white",
            "showbackground": true,
            "ticks": "",
            "zerolinecolor": "white"
           },
           "yaxis": {
            "backgroundcolor": "#E5ECF6",
            "gridcolor": "white",
            "gridwidth": 2,
            "linecolor": "white",
            "showbackground": true,
            "ticks": "",
            "zerolinecolor": "white"
           },
           "zaxis": {
            "backgroundcolor": "#E5ECF6",
            "gridcolor": "white",
            "gridwidth": 2,
            "linecolor": "white",
            "showbackground": true,
            "ticks": "",
            "zerolinecolor": "white"
           }
          },
          "shapedefaults": {
           "line": {
            "color": "#2a3f5f"
           }
          },
          "ternary": {
           "aaxis": {
            "gridcolor": "white",
            "linecolor": "white",
            "ticks": ""
           },
           "baxis": {
            "gridcolor": "white",
            "linecolor": "white",
            "ticks": ""
           },
           "bgcolor": "#E5ECF6",
           "caxis": {
            "gridcolor": "white",
            "linecolor": "white",
            "ticks": ""
           }
          },
          "title": {
           "x": 0.05
          },
          "xaxis": {
           "automargin": true,
           "gridcolor": "white",
           "linecolor": "white",
           "ticks": "",
           "title": {
            "standoff": 15
           },
           "zerolinecolor": "white",
           "zerolinewidth": 2
          },
          "yaxis": {
           "automargin": true,
           "gridcolor": "white",
           "linecolor": "white",
           "ticks": "",
           "title": {
            "standoff": 15
           },
           "zerolinecolor": "white",
           "zerolinewidth": 2
          }
         }
        },
        "title": {
         "text": "3 Features Representation"
        },
        "xaxis": {
         "anchor": "y",
         "domain": [
          0,
          1
         ],
         "title": {
          "text": "step_count"
         }
        },
        "yaxis": {
         "anchor": "x",
         "domain": [
          0,
          1
         ],
         "title": {
          "text": "waist_bmi"
         }
        }
       }
      },
      "text/html": [
       "<div>                            <div id=\"9b1752e3-16af-4de6-8e1e-9562cb3289c0\" class=\"plotly-graph-div\" style=\"height:525px; width:100%;\"></div>            <script type=\"text/javascript\">                require([\"plotly\"], function(Plotly) {                    window.PLOTLYENV=window.PLOTLYENV || {};                                    if (document.getElementById(\"9b1752e3-16af-4de6-8e1e-9562cb3289c0\")) {                    Plotly.newPlot(                        \"9b1752e3-16af-4de6-8e1e-9562cb3289c0\",                        [{\"hovertemplate\":\"step_count=%{x}\\u003cbr\\u003ewaist_bmi=%{y}\\u003cbr\\u003eeat_calory=%{marker.size}\\u003cbr\\u003eheight=%{marker.color}\\u003cextra\\u003e\\u003c\\u002fextra\\u003e\",\"legendgroup\":\"\",\"marker\":{\"color\":[148.0,136.01666666666665,132.0,136.1,148.0,147.5,156.0,164.0,153.0,138.0,153.5,140.3,142.0,147.0,135.0,160.0,134.0,143.0,141.5,140.0,150.0,148.0,160.0,156.2,151.0,138.6,157.0,130.0,148.0,145.0,147.0,144.0,162.0,142.0,151.0,156.0,157.6,153.0,152.0,150.0,141.0,147.6,148.0,161.0,163.0,150.3,152.5,150.0,163.0,162.0,155.0,142.0,169.0,161.0,139.0,145.0,138.0,148.5,135.0,141.0,141.0,134.0,153.25,156.0,152.0,160.0,139.0,146.2,130.0,140.0,158.0,141.0,152.0,145.0,147.0,143.0,152.0,146.0,149.0,143.0,158.0,141.0,141.0,144.0,143.0,152.0,161.0,164.0,130.0,145.0,142.0,145.0,136.4,158.5,140.0,150.1,145.5,152.0,132.0,165.0,148.0,155.0,160.0,138.5,140.0,146.0,140.0,149.0,162.0,151.0,146.0,148.0,152.0,135.0,144.0,147.0,143.0,140.0,152.2,138.0,150.0,139.5,156.5,160.0,131.4,159.5,142.0,136.0,141.5,145.0,157.0,151.0,140.0,134.0,135.0,142.0,146.0,162.6,150.0,140.0,152.0,141.0,143.0,145.0,162.5,147.0,137.5,165.0,153.0,128.0,134.0,153.9,151.0,144.0,135.0,134.0,148.0,140.0,165.0,147.0,140.0,148.8,140.0,160.0,158.0,132.8,156.0,146.0,144.5,154.75,158.0,140.0,138.0,146.0,137.0,160.0,145.0,156.0,153.5,149.0,140.0,140.0,145.0,158.5,141.0,134.0,143.0,159.0,150.0,156.0,137.0,147.0,150.0,147.0,142.0,140.0,153.0,163.0,156.0,156.0,150.0,151.0,152.0,161.0,161.5,145.0,153.0,140.0,156.0,152.0,140.0,146.8,147.0,140.0,155.0,145.0,150.0,151.5,149.0,151.0,131.0,163.0,158.0,157.0,149.9,137.5,154.0,146.3,153.0,154.5,156.0,138.0,152.0,147.0,149.0,141.0,151.0,149.33333333333334,164.0,162.0,150.0,160.0,147.33333333333334,141.0,145.0,151.6,148.5,136.9,142.0,152.0,153.0,145.0,133.9,144.0,140.0,164.0,141.8,144.0,135.0,145.0,156.0,140.0,143.2,153.0,142.0,142.0,145.0,144.0,132.0,165.0,130.0,142.0,148.66666666666666,157.0,152.8,144.0,138.0,150.0,151.0,153.0,140.0,160.0,146.0,147.5,135.0,135.0,154.0,142.0,152.0,160.0,150.0,146.0,140.0,130.0,139.13333333333333,151.0,153.0,151.0,157.0,150.0,152.0,155.0,158.2,145.0,143.9,152.0,148.9,145.0,143.0,141.1,142.0,169.4,137.0,170.0,135.0,143.0,149.0,139.0,144.0,152.0,151.7,137.66666666666666,148.0,139.0,121.1,156.7,153.0],\"coloraxis\":\"coloraxis\",\"size\":[2000.0,2000.0,421.0,481.0,748.0,285.0,160.0,546.0,580.0,580.0,580.0,580.0,580.0,228.0,1758.0,1758.0,474.0,474.0,534.0,534.0,293.0,348.0,348.0,1390.0,1284.0,285.0,415.0,513.0,513.0,468.0,468.0,247.0,239.0,208.0,357.0,5812.0,587.0,1063.0,1044.0,285.0,552.0,552.0,450.0,350.0,1567.0,634.0,111.0,568.0,521.0,521.0,521.0,521.0,521.0,521.0,385.0,858.0,241.0,241.0,462.0,93.0,89.0,89.0,360.0,268.0,247.0,247.0,247.0,134.0,134.0,134.0,1140.5,1140.5,300.0,174.0,174.0,205.0,205.0,226.0,669.0,8368.0,302.0,302.0,176.0,309.0,840.0,840.0,840.0,190.0,190.0,190.0,584.0,1151.0,761.0,412.5,428.0,431.0,653.0,673.0,510.0,283.0,283.0,283.0,283.0,283.0,97.0,625.0,857.0,687.0,133.0,133.0,133.0,133.0,175.0,759.0,1257.0,1257.0,3607.0,3607.0,572.0,280.0,280.0,1139.0,176.0,2252.0,2252.0,580.0,906.0,2737.0,266.0,1256.0,440.0,440.0,495.0,410.0,443.0,443.0,360.0,772.0,1251.0,871.5,871.5,535.0,561.0,148.0,2535.0,2535.0,573.0,572.0,572.0,458.0,568.0,351.5,536.0,667.0,589.0,273.5,190.0,271.0,280.0,280.0,2024.0,2024.0,2024.0,253.0,972.0,663.5,663.5,663.5,360.0,360.0,230.0,230.0,230.0,745.0,745.0,745.0,511.0,567.0,314.0,769.5,703.0,340.0,2752.0,455.0,455.0,184.0,378.0,176.0,153.0,1110.0,761.0,185.0,293.0,528.0,1919.0,1919.0,1919.0,1919.0,1919.0,576.5,503.0,1053.0,220.0,269.0,10669.0,391.5,265.0,265.0,353.0,1536.0,1536.0,1536.0,96.0,905.0,446.0,591.0,624.0,1410.0,1410.0,320.0,422.0,5793.0,5346.0,295.0,292.0,304.0,1797.0,561.0,689.0,280.0,97.0,97.0,97.0,2314.0,953.0,953.0,539.0,585.0,1275.0,858.0,858.0,858.0,858.0,449.0,392.0,392.0,392.0,926.0,293.0,175.0,175.0,2045.0,2045.0,192.0,869.0,869.0,610.0,8.0,124.0,334.0,334.0,117.0,1940.0,884.0,729.0,729.0,192.0,544.0,604.0,85.0,85.0,266.0,748.0,848.0,848.0,431.0,525.0,3561.0,1182.0,1182.0,263.0,179.0,985.0,985.0,288.0,288.0,446.0,446.0,1617.0,481.0,536.0,536.0,536.0,673.0,766.0,539.0,564.0,564.0,701.0,345.0,293.0,686.0,436.0,436.0,436.0,436.0,436.0,436.0,436.0,121.0,482.5,85.0,244.0,244.0,340.0,701.0,701.0,734.0,585.0,1161.0,801.0,976.0,976.0,976.0,250.0,238.0,521.0],\"sizemode\":\"area\",\"sizeref\":26.6725,\"symbol\":\"circle\"},\"mode\":\"markers\",\"name\":\"\",\"orientation\":\"v\",\"showlegend\":false,\"x\":[72.0,10079.0,100.0,67.0,200.0,13256.0,9696.0,4649.0,145.0,145.0,145.0,0.0,0.0,2.0,8258.0,8258.0,20.0,20.0,35.0,2574.0,4483.0,4720.0,2443.0,789.0,5988.0,5229.0,5931.0,4175.0,4278.0,10843.0,10843.0,287.0,25.0,3144.0,2220.0,1748.0,7430.0,4651.0,4396.0,6973.0,13864.0,13864.0,3067.0,6055.0,38.0,4953.0,590.0,412.0,5467.0,5467.0,3.0,3255.0,3255.0,784.0,46.0,6412.0,230.0,230.0,30.0,993.0,1408.0,81.0,8168.0,406.0,556.0,556.0,5078.0,30.0,30.0,30.0,5713.0,5713.0,8540.0,641.0,1905.0,203.0,203.0,2069.0,2069.0,75.0,4066.0,589.0,3032.0,317.0,3000.0,3000.0,628.0,5007.0,2107.0,2107.0,2107.0,10988.0,0.0,57.0,715.0,17.0,905.0,8304.0,580.0,580.0,580.0,135.0,17993.0,15.0,6267.0,6267.0,1113.0,20.0,20.0,20.0,20.0,3484.0,4075.0,7789.0,5745.0,41.0,247.0,3559.0,47.0,1416.0,1416.0,16.0,16579.0,18914.0,83.0,127.0,1046.0,389.0,1606.0,53.0,284.0,10147.0,14.0,4874.0,4874.0,4874.0,2367.0,3110.0,11883.0,750.0,750.0,1226.0,7.0,6.0,8.0,0.0,10.0,8.0,1477.0,16973.0,16973.0,8531.0,6478.0,4115.0,1802.0,414.0,48.0,6681.0,4562.0,1209.0,146.0,146.0,18417.0,56.0,0.0,0.0,677.0,100.0,2037.0,5430.0,804.0,804.0,8.0,12210.0,12210.0,636.0,59.0,6145.0,3812.0,5092.0,6768.0,1380.0,7814.0,35.0,2969.0,2410.0,3302.0,16116.0,718.0,5795.0,4417.0,151.0,27.0,1848.0,73.0,74.0,74.0,4714.0,4714.0,4384.0,6344.0,0.0,1249.0,1249.0,1911.0,5294.0,508.0,508.0,766.0,7867.0,14993.0,14993.0,3889.0,208.0,7932.0,8.0,8.0,2675.0,2675.0,240.0,21.0,8326.0,1115.0,5055.0,9337.0,324.0,854.0,2326.0,6627.0,82.0,4947.0,8794.0,8794.0,1693.0,2788.0,2788.0,3526.0,2009.0,3478.0,37658.0,37658.0,2690.0,2869.0,18.0,4125.0,21.0,3444.5,0.0,5780.0,421.0,421.0,318.0,318.0,138.0,14.0,177.0,448.0,6114.0,53.0,3265.0,214.0,28.0,107.0,6722.0,8588.0,0.0,14.0,35.0,827.0,4592.0,6443.0,2452.0,212.0,363.0,363.0,4602.0,3206.0,5639.0,189.0,121.0,1042.0,891.0,472.0,38.0,2830.0,2830.0,487.0,487.0,487.0,2936.0,8388.0,8388.0,8388.0,103.0,338.0,2240.0,702.0,290.0,1702.0,1702.0,4522.0,2690.0,1436.0,4474.0,4474.0,4474.0,640.0,640.0,17278.0,8842.0,8842.0,8842.0,10516.0,10516.0,1980.0,31.0,13971.0,4849.0,4847.0,0.0,0.0,6966.0,6966.0,6966.0,90.0,3021.0,2103.0],\"xaxis\":\"x\",\"y\":[0.306081081081081,0.2080627374096312,0.2064393939393939,0.2556943423952976,0.2635135135135135,0.2528813559322033,0.3256410256410256,0.3926829268292683,0.4444444444444444,0.2753623188405797,0.304885993485342,0.2658588738417676,0.2063380281690141,0.2428571428571428,0.2688888888888888,0.34125,0.2779850746268656,0.3192307692307692,0.2049469964664311,0.2385714285714285,0.3353333333333333,0.3587837837837838,0.288125,0.2439180537772087,0.4125827814569536,0.2254689754689754,0.286624203821656,0.2,0.2277027027027027,0.2551724137931034,0.2414965986394557,0.2388888888888888,0.2777777777777778,0.2528169014084507,0.2649006622516556,0.2759615384615384,0.3489847715736041,0.269281045751634,0.2476973684210526,0.292,0.2567375886524823,0.2560975609756097,0.3108108108108108,0.2714285714285714,0.3257668711656442,0.2648037258815701,0.4393442622950819,0.4019999999999999,0.2852760736196319,0.4537037037037037,0.3987096774193548,0.3577464788732394,0.3621301775147929,0.3229813664596273,0.2474820143884891,0.2448275862068965,0.3036231884057971,0.2895622895622896,0.254074074074074,0.2879432624113475,0.2588652482269503,0.2582089552238806,0.3608482871125612,0.2858974358974359,0.2493421052631579,0.2984375,0.2467625899280575,0.20109439124487,0.2307692307692307,0.2785714285714286,0.2981012658227848,0.2404255319148936,0.2532894736842105,0.2793103448275862,0.3034013605442177,0.2678321678321678,0.2151315789473684,0.2749999999999999,0.2449664429530201,0.2353146853146853,0.3284810126582278,0.251063829787234,0.2865248226950354,0.1809027777777777,0.2804195804195804,0.3453947368421052,0.2590062111801242,0.2768292682926829,0.2307692307692307,0.2993103448275861,0.3235915492957746,0.2641379310344827,0.3299120234604105,0.2757097791798107,0.225,0.2335109926715523,0.3092783505154639,0.3217105263157894,0.3234848484848485,0.2521212121212121,0.3175675675675675,0.2987096774193548,0.3175,0.2620938628158845,0.2714285714285714,0.3143835616438356,0.2,0.2573825503355705,0.2302469135802469,0.3311258278145695,0.2315068493150684,0.2472972972972973,0.2546052631578948,0.2748148148148148,0.2732638888888889,0.2414965986394557,0.2811188811188811,0.2714285714285714,0.2733245729303548,0.2264492753623188,0.326,0.2114695340501792,0.2645367412140575,0.41875,0.191400304414003,0.4150470219435737,0.2964788732394366,0.1911764705882352,0.2643109540636042,0.2337931034482758,0.2528662420382165,0.3556291390728477,0.2607142857142857,0.2238805970149253,0.2474074074074074,0.2672535211267606,0.2417808219178082,0.3136531365313653,0.2219999999999999,0.2407142857142857,0.2894736842105263,0.201418439716312,0.251048951048951,0.2662068965517241,0.3126153846153846,0.246938775510204,0.3090909090909091,0.5915151515151514,0.2287581699346405,0.203125,0.1847014925373134,0.3300844704353476,0.3701986754966887,0.2493055555555555,0.2148148148148148,0.235820895522388,0.2472972972972973,0.2642857142857143,0.2884848484848485,0.3156462585034013,0.2028571428571428,0.325268817204301,0.2871428571428571,0.300625,0.3715189873417722,0.1995481927710843,0.3269230769230769,0.2328767123287671,0.2975778546712803,0.427140549273021,0.4316455696202532,0.2357142857142857,0.2148550724637681,0.2212328767123287,0.2182481751824817,0.229375,0.3082758620689655,0.3108974358974359,0.2899022801302932,0.363758389261745,0.2232142857142857,0.275,0.193103448275862,0.3709779179810725,0.2478723404255319,0.2324626865671641,0.2482517482517482,0.3182389937106918,0.3093333333333333,0.2564102564102564,0.275912408759124,0.2551020408163265,0.3533333333333333,0.2891156462585034,0.2686619718309859,0.3421428571428571,0.4124183006535948,0.4110429447852761,0.2711538461538461,0.4275641025641026,0.254,0.2473509933774834,0.2480263157894737,0.2807453416149068,0.3498452012383901,0.3655172413793103,0.2431372549019608,0.2278571428571428,0.3487179487179487,0.2664473684210526,0.3042857142857142,0.2608991825613078,0.2619047619047619,0.1885714285714285,0.2490322580645161,0.253103448275862,0.2606666666666666,0.2442244224422442,0.2429530201342282,0.2344370860927152,0.215267175572519,0.3214723926380368,0.2813291139240506,0.2802547770700637,0.3582388258839226,0.2465454545454545,0.2818181818181818,0.3069036226930963,0.32574240363099655,0.4090614886731392,0.3185897435897436,0.3043478260869565,0.2763157894736842,0.2414965986394557,0.259731543624161,0.225531914893617,0.2556291390728477,0.2571428571428571,0.2554878048780488,0.2765432098765432,0.3633333333333333,0.391875,0.2314479638009049,0.2358156028368794,0.2917241379310344,0.3242084432717678,0.2289562289562289,0.18736303871439,0.1971830985915492,0.3177631578947368,0.3470588235294117,0.279655172413793,0.190067214339059,0.3590277777777778,0.1767857142857143,0.4048780487804878,0.2616361071932299,0.2465277777777778,0.2244444444444444,0.2362068965517241,0.2942307692307692,0.2571428571428571,0.2884078212290503,0.3248366013071895,0.3056338028169014,0.2866197183098591,0.2275862068965517,0.2513888888888889,0.1890151515151515,0.3193939393939394,0.2123076923076923,0.2485915492957746,0.214237668161435,0.3821656050955414,0.2637434554973821,0.2604166666666667,0.208695652173913,0.3206666666666666,0.347682119205298,0.392156862745098,0.2478571428571429,0.43875,0.3178082191780821,0.3667796610169491,0.194074074074074,0.2637037037037037,0.2811688311688311,0.2454225352112676,0.2355263157894736,0.2987499999999999,0.2453333333333333,0.2280821917808219,0.3089285714285714,0.245,0.1714183037853378,0.271523178807947,0.3627450980392157,0.2370860927152317,0.278343949044586,0.2833333333333333,0.4368421052631579,0.2935483870967741,0.3305941845764855,0.3103448275862069,0.2744961779013203,0.2822368421052632,0.3220282068502351,0.3931034482758621,0.23006993006993,0.2643515237420269,0.2197183098591549,0.4002361275088547,0.1948905109489051,0.4470588235294118,0.3177777777777777,0.2835664335664336,0.2140939597315436,0.2633093525179856,0.32574240363099655,0.2822368421052632,0.2933421226104153,0.2128329297820823,0.2337837837837837,0.32574240363099655,0.203963666391412,0.3190810465858328,0.4444444444444444],\"yaxis\":\"y\",\"type\":\"scatter\"}],                        {\"template\":{\"data\":{\"histogram2dcontour\":[{\"type\":\"histogram2dcontour\",\"colorbar\":{\"outlinewidth\":0,\"ticks\":\"\"},\"colorscale\":[[0.0,\"#0d0887\"],[0.1111111111111111,\"#46039f\"],[0.2222222222222222,\"#7201a8\"],[0.3333333333333333,\"#9c179e\"],[0.4444444444444444,\"#bd3786\"],[0.5555555555555556,\"#d8576b\"],[0.6666666666666666,\"#ed7953\"],[0.7777777777777778,\"#fb9f3a\"],[0.8888888888888888,\"#fdca26\"],[1.0,\"#f0f921\"]]}],\"choropleth\":[{\"type\":\"choropleth\",\"colorbar\":{\"outlinewidth\":0,\"ticks\":\"\"}}],\"histogram2d\":[{\"type\":\"histogram2d\",\"colorbar\":{\"outlinewidth\":0,\"ticks\":\"\"},\"colorscale\":[[0.0,\"#0d0887\"],[0.1111111111111111,\"#46039f\"],[0.2222222222222222,\"#7201a8\"],[0.3333333333333333,\"#9c179e\"],[0.4444444444444444,\"#bd3786\"],[0.5555555555555556,\"#d8576b\"],[0.6666666666666666,\"#ed7953\"],[0.7777777777777778,\"#fb9f3a\"],[0.8888888888888888,\"#fdca26\"],[1.0,\"#f0f921\"]]}],\"heatmap\":[{\"type\":\"heatmap\",\"colorbar\":{\"outlinewidth\":0,\"ticks\":\"\"},\"colorscale\":[[0.0,\"#0d0887\"],[0.1111111111111111,\"#46039f\"],[0.2222222222222222,\"#7201a8\"],[0.3333333333333333,\"#9c179e\"],[0.4444444444444444,\"#bd3786\"],[0.5555555555555556,\"#d8576b\"],[0.6666666666666666,\"#ed7953\"],[0.7777777777777778,\"#fb9f3a\"],[0.8888888888888888,\"#fdca26\"],[1.0,\"#f0f921\"]]}],\"heatmapgl\":[{\"type\":\"heatmapgl\",\"colorbar\":{\"outlinewidth\":0,\"ticks\":\"\"},\"colorscale\":[[0.0,\"#0d0887\"],[0.1111111111111111,\"#46039f\"],[0.2222222222222222,\"#7201a8\"],[0.3333333333333333,\"#9c179e\"],[0.4444444444444444,\"#bd3786\"],[0.5555555555555556,\"#d8576b\"],[0.6666666666666666,\"#ed7953\"],[0.7777777777777778,\"#fb9f3a\"],[0.8888888888888888,\"#fdca26\"],[1.0,\"#f0f921\"]]}],\"contourcarpet\":[{\"type\":\"contourcarpet\",\"colorbar\":{\"outlinewidth\":0,\"ticks\":\"\"}}],\"contour\":[{\"type\":\"contour\",\"colorbar\":{\"outlinewidth\":0,\"ticks\":\"\"},\"colorscale\":[[0.0,\"#0d0887\"],[0.1111111111111111,\"#46039f\"],[0.2222222222222222,\"#7201a8\"],[0.3333333333333333,\"#9c179e\"],[0.4444444444444444,\"#bd3786\"],[0.5555555555555556,\"#d8576b\"],[0.6666666666666666,\"#ed7953\"],[0.7777777777777778,\"#fb9f3a\"],[0.8888888888888888,\"#fdca26\"],[1.0,\"#f0f921\"]]}],\"surface\":[{\"type\":\"surface\",\"colorbar\":{\"outlinewidth\":0,\"ticks\":\"\"},\"colorscale\":[[0.0,\"#0d0887\"],[0.1111111111111111,\"#46039f\"],[0.2222222222222222,\"#7201a8\"],[0.3333333333333333,\"#9c179e\"],[0.4444444444444444,\"#bd3786\"],[0.5555555555555556,\"#d8576b\"],[0.6666666666666666,\"#ed7953\"],[0.7777777777777778,\"#fb9f3a\"],[0.8888888888888888,\"#fdca26\"],[1.0,\"#f0f921\"]]}],\"mesh3d\":[{\"type\":\"mesh3d\",\"colorbar\":{\"outlinewidth\":0,\"ticks\":\"\"}}],\"scatter\":[{\"fillpattern\":{\"fillmode\":\"overlay\",\"size\":10,\"solidity\":0.2},\"type\":\"scatter\"}],\"parcoords\":[{\"type\":\"parcoords\",\"line\":{\"colorbar\":{\"outlinewidth\":0,\"ticks\":\"\"}}}],\"scatterpolargl\":[{\"type\":\"scatterpolargl\",\"marker\":{\"colorbar\":{\"outlinewidth\":0,\"ticks\":\"\"}}}],\"bar\":[{\"error_x\":{\"color\":\"#2a3f5f\"},\"error_y\":{\"color\":\"#2a3f5f\"},\"marker\":{\"line\":{\"color\":\"#E5ECF6\",\"width\":0.5},\"pattern\":{\"fillmode\":\"overlay\",\"size\":10,\"solidity\":0.2}},\"type\":\"bar\"}],\"scattergeo\":[{\"type\":\"scattergeo\",\"marker\":{\"colorbar\":{\"outlinewidth\":0,\"ticks\":\"\"}}}],\"scatterpolar\":[{\"type\":\"scatterpolar\",\"marker\":{\"colorbar\":{\"outlinewidth\":0,\"ticks\":\"\"}}}],\"histogram\":[{\"marker\":{\"pattern\":{\"fillmode\":\"overlay\",\"size\":10,\"solidity\":0.2}},\"type\":\"histogram\"}],\"scattergl\":[{\"type\":\"scattergl\",\"marker\":{\"colorbar\":{\"outlinewidth\":0,\"ticks\":\"\"}}}],\"scatter3d\":[{\"type\":\"scatter3d\",\"line\":{\"colorbar\":{\"outlinewidth\":0,\"ticks\":\"\"}},\"marker\":{\"colorbar\":{\"outlinewidth\":0,\"ticks\":\"\"}}}],\"scattermapbox\":[{\"type\":\"scattermapbox\",\"marker\":{\"colorbar\":{\"outlinewidth\":0,\"ticks\":\"\"}}}],\"scatterternary\":[{\"type\":\"scatterternary\",\"marker\":{\"colorbar\":{\"outlinewidth\":0,\"ticks\":\"\"}}}],\"scattercarpet\":[{\"type\":\"scattercarpet\",\"marker\":{\"colorbar\":{\"outlinewidth\":0,\"ticks\":\"\"}}}],\"carpet\":[{\"aaxis\":{\"endlinecolor\":\"#2a3f5f\",\"gridcolor\":\"white\",\"linecolor\":\"white\",\"minorgridcolor\":\"white\",\"startlinecolor\":\"#2a3f5f\"},\"baxis\":{\"endlinecolor\":\"#2a3f5f\",\"gridcolor\":\"white\",\"linecolor\":\"white\",\"minorgridcolor\":\"white\",\"startlinecolor\":\"#2a3f5f\"},\"type\":\"carpet\"}],\"table\":[{\"cells\":{\"fill\":{\"color\":\"#EBF0F8\"},\"line\":{\"color\":\"white\"}},\"header\":{\"fill\":{\"color\":\"#C8D4E3\"},\"line\":{\"color\":\"white\"}},\"type\":\"table\"}],\"barpolar\":[{\"marker\":{\"line\":{\"color\":\"#E5ECF6\",\"width\":0.5},\"pattern\":{\"fillmode\":\"overlay\",\"size\":10,\"solidity\":0.2}},\"type\":\"barpolar\"}],\"pie\":[{\"automargin\":true,\"type\":\"pie\"}]},\"layout\":{\"autotypenumbers\":\"strict\",\"colorway\":[\"#636efa\",\"#EF553B\",\"#00cc96\",\"#ab63fa\",\"#FFA15A\",\"#19d3f3\",\"#FF6692\",\"#B6E880\",\"#FF97FF\",\"#FECB52\"],\"font\":{\"color\":\"#2a3f5f\"},\"hovermode\":\"closest\",\"hoverlabel\":{\"align\":\"left\"},\"paper_bgcolor\":\"white\",\"plot_bgcolor\":\"#E5ECF6\",\"polar\":{\"bgcolor\":\"#E5ECF6\",\"angularaxis\":{\"gridcolor\":\"white\",\"linecolor\":\"white\",\"ticks\":\"\"},\"radialaxis\":{\"gridcolor\":\"white\",\"linecolor\":\"white\",\"ticks\":\"\"}},\"ternary\":{\"bgcolor\":\"#E5ECF6\",\"aaxis\":{\"gridcolor\":\"white\",\"linecolor\":\"white\",\"ticks\":\"\"},\"baxis\":{\"gridcolor\":\"white\",\"linecolor\":\"white\",\"ticks\":\"\"},\"caxis\":{\"gridcolor\":\"white\",\"linecolor\":\"white\",\"ticks\":\"\"}},\"coloraxis\":{\"colorbar\":{\"outlinewidth\":0,\"ticks\":\"\"}},\"colorscale\":{\"sequential\":[[0.0,\"#0d0887\"],[0.1111111111111111,\"#46039f\"],[0.2222222222222222,\"#7201a8\"],[0.3333333333333333,\"#9c179e\"],[0.4444444444444444,\"#bd3786\"],[0.5555555555555556,\"#d8576b\"],[0.6666666666666666,\"#ed7953\"],[0.7777777777777778,\"#fb9f3a\"],[0.8888888888888888,\"#fdca26\"],[1.0,\"#f0f921\"]],\"sequentialminus\":[[0.0,\"#0d0887\"],[0.1111111111111111,\"#46039f\"],[0.2222222222222222,\"#7201a8\"],[0.3333333333333333,\"#9c179e\"],[0.4444444444444444,\"#bd3786\"],[0.5555555555555556,\"#d8576b\"],[0.6666666666666666,\"#ed7953\"],[0.7777777777777778,\"#fb9f3a\"],[0.8888888888888888,\"#fdca26\"],[1.0,\"#f0f921\"]],\"diverging\":[[0,\"#8e0152\"],[0.1,\"#c51b7d\"],[0.2,\"#de77ae\"],[0.3,\"#f1b6da\"],[0.4,\"#fde0ef\"],[0.5,\"#f7f7f7\"],[0.6,\"#e6f5d0\"],[0.7,\"#b8e186\"],[0.8,\"#7fbc41\"],[0.9,\"#4d9221\"],[1,\"#276419\"]]},\"xaxis\":{\"gridcolor\":\"white\",\"linecolor\":\"white\",\"ticks\":\"\",\"title\":{\"standoff\":15},\"zerolinecolor\":\"white\",\"automargin\":true,\"zerolinewidth\":2},\"yaxis\":{\"gridcolor\":\"white\",\"linecolor\":\"white\",\"ticks\":\"\",\"title\":{\"standoff\":15},\"zerolinecolor\":\"white\",\"automargin\":true,\"zerolinewidth\":2},\"scene\":{\"xaxis\":{\"backgroundcolor\":\"#E5ECF6\",\"gridcolor\":\"white\",\"linecolor\":\"white\",\"showbackground\":true,\"ticks\":\"\",\"zerolinecolor\":\"white\",\"gridwidth\":2},\"yaxis\":{\"backgroundcolor\":\"#E5ECF6\",\"gridcolor\":\"white\",\"linecolor\":\"white\",\"showbackground\":true,\"ticks\":\"\",\"zerolinecolor\":\"white\",\"gridwidth\":2},\"zaxis\":{\"backgroundcolor\":\"#E5ECF6\",\"gridcolor\":\"white\",\"linecolor\":\"white\",\"showbackground\":true,\"ticks\":\"\",\"zerolinecolor\":\"white\",\"gridwidth\":2}},\"shapedefaults\":{\"line\":{\"color\":\"#2a3f5f\"}},\"annotationdefaults\":{\"arrowcolor\":\"#2a3f5f\",\"arrowhead\":0,\"arrowwidth\":1},\"geo\":{\"bgcolor\":\"white\",\"landcolor\":\"#E5ECF6\",\"subunitcolor\":\"white\",\"showland\":true,\"showlakes\":true,\"lakecolor\":\"white\"},\"title\":{\"x\":0.05},\"mapbox\":{\"style\":\"light\"}}},\"xaxis\":{\"anchor\":\"y\",\"domain\":[0.0,1.0],\"title\":{\"text\":\"step_count\"}},\"yaxis\":{\"anchor\":\"x\",\"domain\":[0.0,1.0],\"title\":{\"text\":\"waist_bmi\"}},\"coloraxis\":{\"colorbar\":{\"title\":{\"text\":\"height\"}},\"colorscale\":[[0.0,\"#0d0887\"],[0.1111111111111111,\"#46039f\"],[0.2222222222222222,\"#7201a8\"],[0.3333333333333333,\"#9c179e\"],[0.4444444444444444,\"#bd3786\"],[0.5555555555555556,\"#d8576b\"],[0.6666666666666666,\"#ed7953\"],[0.7777777777777778,\"#fb9f3a\"],[0.8888888888888888,\"#fdca26\"],[1.0,\"#f0f921\"]]},\"legend\":{\"tracegroupgap\":0,\"itemsizing\":\"constant\"},\"margin\":{\"t\":60},\"title\":{\"text\":\"3 Features Representation\"}},                        {\"responsive\": true}                    ).then(function(){\n",
       "                            \n",
       "var gd = document.getElementById('9b1752e3-16af-4de6-8e1e-9562cb3289c0');\n",
       "var x = new MutationObserver(function (mutations, observer) {{\n",
       "        var display = window.getComputedStyle(gd).display;\n",
       "        if (!display || display === 'none') {{\n",
       "            console.log([gd, 'removed!']);\n",
       "            Plotly.purge(gd);\n",
       "            observer.disconnect();\n",
       "        }}\n",
       "}});\n",
       "\n",
       "// Listen for the removal of the full notebook cells\n",
       "var notebookContainer = gd.closest('#notebook-container');\n",
       "if (notebookContainer) {{\n",
       "    x.observe(notebookContainer, {childList: true});\n",
       "}}\n",
       "\n",
       "// Listen for the clearing of the current output cell\n",
       "var outputEl = gd.closest('.output');\n",
       "if (outputEl) {{\n",
       "    x.observe(outputEl, {childList: true});\n",
       "}}\n",
       "\n",
       "                        })                };                });            </script>        </div>"
      ]
     },
     "metadata": {},
     "output_type": "display_data"
    },
    {
     "data": {
      "application/vnd.plotly.v1+json": {
       "config": {
        "plotlyServerURL": "https://plot.ly"
       },
       "data": [
        {
         "hovertemplate": "eat_calory=%{marker.size}<br>weight=%{y}<br>grade=%{z}<br>burned calory=%{marker.color}<extra></extra>",
         "legendgroup": "",
         "marker": {
          "color": [
           8.877,
           8.877,
           8.877,
           8.877,
           8.877,
           8.877,
           78.897,
           2.033,
           2.033,
           2.033,
           2.033,
           2.033,
           2.033,
           2.033,
           2.033,
           2.033,
           48.552,
           48.552,
           48.552,
           48.552,
           48.552,
           44.441,
           44.441,
           44.441,
           44.441,
           33.415,
           56.709,
           56.709,
           56.709,
           56.709,
           56.709,
           42.958,
           42.958,
           33.237,
           33.237,
           33.558,
           33.558,
           33.558,
           33.558,
           32.773,
           32.773,
           32.773,
           32.773,
           142.8,
           142.8,
           56.853,
           56.853,
           56.853,
           30.845,
           30.845,
           30.845,
           30.845,
           30.845,
           30.845,
           30.845,
           30.845,
           30.845,
           30.845,
           40.936,
           40.936,
           40.936,
           40.936,
           40.936,
           40.936,
           44.185,
           44.185,
           27.23,
           27.23,
           27.23,
           27.23,
           27.23,
           27.23,
           27.23,
           139.944,
           139.944,
           22.481,
           22.481,
           2.202,
           2.202,
           1.14,
           1.14,
           1.14,
           1.14,
           1.14,
           88.506,
           88.506,
           88.506,
           31.675,
           31.675,
           31.675,
           31.675,
           31.675,
           53.735,
           53.735,
           53.735,
           22.789,
           32.725,
           32.725,
           97.194,
           97.194,
           97.194,
           97.194,
           97.194,
           0.056,
           0.056,
           0.056,
           5.457,
           0.484,
           0.484,
           0.484,
           0.484,
           0.484,
           126.575,
           126.575,
           30.434,
           30.434,
           30.434,
           30.434,
           11.764666666666663,
           11.764666666666663,
           11.764666666666663,
           11.764666666666663,
           11.764666666666663,
           11.764666666666663,
           11.764666666666663,
           11.764666666666663,
           11.764666666666663,
           11.764666666666663,
           11.764666666666663,
           11.764666666666663,
           25.813,
           25.813,
           25.813,
           10.6315,
           10.6315,
           10.6315,
           10.6315,
           10.6315,
           10.6315,
           105.297,
           105.297,
           50.837,
           50.837,
           19.992,
           19.992,
           19.992,
           19.992,
           19.992,
           19.992,
           19.992,
           19.992,
           36.7,
           26.4105,
           26.4105,
           40.163,
           40.163,
           40.163,
           40.163,
           40.163,
           40.163,
           27.798,
           27.798,
           27.798,
           32.178,
           32.178,
           32.178,
           32.178,
           32.178,
           56.228,
           56.228,
           17.35,
           17.35,
           17.35,
           17.35,
           17.35,
           17.35,
           17.35,
           17.35,
           660.99,
           660.99,
           660.99,
           32.071,
           18.957,
           18.957,
           18.957,
           163.417,
           163.417,
           163.417,
           38.675,
           38.675,
           38.675,
           38.675,
           38.675,
           48.612,
           62.832,
           62.832,
           62.832,
           62.832,
           62.832,
           62.832,
           30.738,
           40.671,
           40.671,
           40.671,
           40.671,
           40.671,
           40.671,
           40.671,
           78.838,
           0.393,
           49.677,
           49.677,
           20.349,
           20.349,
           20.349,
           20.349,
           20.349,
           20.349,
           20.349,
           20.349,
           20.349,
           104.832,
           95.373,
           95.373,
           3.154,
           40.519,
           40.519,
           40.519,
           69.794,
           69.794,
           40.001,
           39.151,
           39.151,
           58.764,
           58.764,
           58.764,
           58.764,
           58.764,
           67.216,
           67.216,
           67.216,
           27.385,
           27.385,
           29.988,
           29.988,
           55.96,
           55.96,
           55.96,
           55.96,
           38.669,
           38.669,
           47.303,
           47.303,
           47.303,
           66.194,
           66.194,
           66.194,
           66.194,
           66.194,
           240.97,
           240.97,
           23.562,
           54.056,
           59.143,
           47.295,
           47.295,
           47.295,
           47.295,
           47.295,
           47.295,
           47.295,
           25.462,
           160.757,
           172.648,
           172.648,
           172.648,
           40.163,
           40.163,
           70.656,
           70.656,
           24.919,
           91.161,
           91.161,
           91.161,
           38.812,
           38.812,
           38.812,
           38.812,
           38.812,
           38.812,
           38.812,
           38.812,
           38.812,
           49.272,
           38.556,
           163.349,
           163.349,
           130.662,
           179.603,
           179.603,
           179.603,
           179.603,
           179.603,
           179.603,
           179.603,
           179.603,
           226.6255,
           226.6255,
           226.6255,
           226.6255,
           226.6255,
           226.6255,
           28.56,
           28.56,
           28.56,
           28.56,
           28.56,
           0.135,
           0.135,
           0.135,
           0.135,
           97.573,
           97.573,
           97.573,
           59.462,
           33.915,
           38.812
          ],
          "coloraxis": "coloraxis",
          "size": [
           2000,
           2000,
           421,
           481,
           748,
           285,
           160,
           546,
           580,
           580,
           580,
           580,
           580,
           228,
           1758,
           1758,
           474,
           474,
           534,
           534,
           293,
           348,
           348,
           1390,
           1284,
           285,
           415,
           513,
           513,
           468,
           468,
           247,
           239,
           208,
           357,
           5812,
           587,
           1063,
           1044,
           285,
           552,
           552,
           450,
           350,
           1567,
           634,
           111,
           568,
           521,
           521,
           521,
           521,
           521,
           521,
           385,
           858,
           241,
           241,
           462,
           93,
           89,
           89,
           360,
           268,
           247,
           247,
           247,
           134,
           134,
           134,
           1140.5,
           1140.5,
           300,
           174,
           174,
           205,
           205,
           226,
           669,
           8368,
           302,
           302,
           176,
           309,
           840,
           840,
           840,
           190,
           190,
           190,
           584,
           1151,
           761,
           412.5,
           428,
           431,
           653,
           673,
           510,
           283,
           283,
           283,
           283,
           283,
           97,
           625,
           857,
           687,
           133,
           133,
           133,
           133,
           175,
           759,
           1257,
           1257,
           3607,
           3607,
           572,
           280,
           280,
           1139,
           176,
           2252,
           2252,
           580,
           906,
           2737,
           266,
           1256,
           440,
           440,
           495,
           410,
           443,
           443,
           360,
           772,
           1251,
           871.5,
           871.5,
           535,
           561,
           148,
           2535,
           2535,
           573,
           572,
           572,
           458,
           568,
           351.5,
           536,
           667,
           589,
           273.5,
           190,
           271,
           280,
           280,
           2024,
           2024,
           2024,
           253,
           972,
           663.5,
           663.5,
           663.5,
           360,
           360,
           230,
           230,
           230,
           745,
           745,
           745,
           511,
           567,
           314,
           769.5,
           703,
           340,
           2752,
           455,
           455,
           184,
           378,
           176,
           153,
           1110,
           761,
           185,
           293,
           528,
           1919,
           1919,
           1919,
           1919,
           1919,
           576.5,
           503,
           1053,
           220,
           269,
           10669,
           391.5,
           265,
           265,
           353,
           1536,
           1536,
           1536,
           96,
           905,
           446,
           591,
           624,
           1410,
           1410,
           320,
           422,
           5793,
           5346,
           295,
           292,
           304,
           1797,
           561,
           689,
           280,
           97,
           97,
           97,
           2314,
           953,
           953,
           539,
           585,
           1275,
           858,
           858,
           858,
           858,
           449,
           392,
           392,
           392,
           926,
           293,
           175,
           175,
           2045,
           2045,
           192,
           869,
           869,
           610,
           8,
           124,
           334,
           334,
           117,
           1940,
           884,
           729,
           729,
           192,
           544,
           604,
           85,
           85,
           266,
           748,
           848,
           848,
           431,
           525,
           3561,
           1182,
           1182,
           263,
           179,
           985,
           985,
           288,
           288,
           446,
           446,
           1617,
           481,
           536,
           536,
           536,
           673,
           766,
           539,
           564,
           564,
           701,
           345,
           293,
           686,
           436,
           436,
           436,
           436,
           436,
           436,
           436,
           121,
           482.5,
           85,
           244,
           244,
           340,
           701,
           701,
           734,
           585,
           1161,
           801,
           976,
           976,
           976,
           250,
           238,
           521
          ],
          "sizemode": "area",
          "sizeref": 26.6725,
          "symbol": "circle"
         },
         "mode": "markers",
         "name": "",
         "scene": "scene",
         "showlegend": false,
         "type": "scatter3d",
         "x": [
          2000,
          2000,
          421,
          481,
          748,
          285,
          160,
          546,
          580,
          580,
          580,
          580,
          580,
          228,
          1758,
          1758,
          474,
          474,
          534,
          534,
          293,
          348,
          348,
          1390,
          1284,
          285,
          415,
          513,
          513,
          468,
          468,
          247,
          239,
          208,
          357,
          5812,
          587,
          1063,
          1044,
          285,
          552,
          552,
          450,
          350,
          1567,
          634,
          111,
          568,
          521,
          521,
          521,
          521,
          521,
          521,
          385,
          858,
          241,
          241,
          462,
          93,
          89,
          89,
          360,
          268,
          247,
          247,
          247,
          134,
          134,
          134,
          1140.5,
          1140.5,
          300,
          174,
          174,
          205,
          205,
          226,
          669,
          8368,
          302,
          302,
          176,
          309,
          840,
          840,
          840,
          190,
          190,
          190,
          584,
          1151,
          761,
          412.5,
          428,
          431,
          653,
          673,
          510,
          283,
          283,
          283,
          283,
          283,
          97,
          625,
          857,
          687,
          133,
          133,
          133,
          133,
          175,
          759,
          1257,
          1257,
          3607,
          3607,
          572,
          280,
          280,
          1139,
          176,
          2252,
          2252,
          580,
          906,
          2737,
          266,
          1256,
          440,
          440,
          495,
          410,
          443,
          443,
          360,
          772,
          1251,
          871.5,
          871.5,
          535,
          561,
          148,
          2535,
          2535,
          573,
          572,
          572,
          458,
          568,
          351.5,
          536,
          667,
          589,
          273.5,
          190,
          271,
          280,
          280,
          2024,
          2024,
          2024,
          253,
          972,
          663.5,
          663.5,
          663.5,
          360,
          360,
          230,
          230,
          230,
          745,
          745,
          745,
          511,
          567,
          314,
          769.5,
          703,
          340,
          2752,
          455,
          455,
          184,
          378,
          176,
          153,
          1110,
          761,
          185,
          293,
          528,
          1919,
          1919,
          1919,
          1919,
          1919,
          576.5,
          503,
          1053,
          220,
          269,
          10669,
          391.5,
          265,
          265,
          353,
          1536,
          1536,
          1536,
          96,
          905,
          446,
          591,
          624,
          1410,
          1410,
          320,
          422,
          5793,
          5346,
          295,
          292,
          304,
          1797,
          561,
          689,
          280,
          97,
          97,
          97,
          2314,
          953,
          953,
          539,
          585,
          1275,
          858,
          858,
          858,
          858,
          449,
          392,
          392,
          392,
          926,
          293,
          175,
          175,
          2045,
          2045,
          192,
          869,
          869,
          610,
          8,
          124,
          334,
          334,
          117,
          1940,
          884,
          729,
          729,
          192,
          544,
          604,
          85,
          85,
          266,
          748,
          848,
          848,
          431,
          525,
          3561,
          1182,
          1182,
          263,
          179,
          985,
          985,
          288,
          288,
          446,
          446,
          1617,
          481,
          536,
          536,
          536,
          673,
          766,
          539,
          564,
          564,
          701,
          345,
          293,
          686,
          436,
          436,
          436,
          436,
          436,
          436,
          436,
          121,
          482.5,
          85,
          244,
          244,
          340,
          701,
          701,
          734,
          585,
          1161,
          801,
          976,
          976,
          976,
          250,
          238,
          521
         ],
         "y": [
          45.15,
          28.100000000000005,
          29,
          31.8,
          39,
          37.3,
          51,
          65,
          68,
          38,
          46,
          37.2,
          29,
          36,
          36,
          55,
          38,
          45,
          29,
          36,
          50,
          53.6,
          45,
          39.5,
          62,
          31,
          46,
          26,
          31,
          37,
          35.3,
          34.4,
          42.45454545454545,
          35.9,
          40,
          42,
          55.5,
          41,
          37.6,
          43,
          36,
          37,
          45.7,
          43,
          50,
          39.5,
          67,
          60,
          47,
          70,
          61,
          32,
          62,
          52,
          34.56,
          35.5,
          41,
          43.7,
          34,
          39.7,
          35,
          34,
          55.75,
          40.2,
          39,
          47,
          33,
          30,
          30,
          38,
          46,
          31.666666666666668,
          38.9,
          39,
          45,
          38,
          33,
          38.9,
          36.5,
          33,
          52.5,
          35.2,
          40.7,
          27,
          39,
          51,
          42.7,
          45,
          28,
          40,
          45.7,
          39,
          44.5,
          40.9,
          31.5,
          34.8,
          44.5,
          48.3,
          40,
          41,
          47,
          46.8,
          50,
          38,
          37.3,
          46.9,
          28,
          38,
          35.1,
          48,
          35,
          37,
          38,
          37,
          38,
          35.4,
          40,
          38,
          40,
          31,
          49.3,
          30,
          42,
          67,
          25.36,
          64,
          42,
          26,
          37.9,
          34,
          39,
          53,
          36.142857142857146,
          29,
          33,
          38,
          34.3,
          50,
          34.6,
          31,
          42.5,
          28,
          34,
          38,
          49.4,
          36,
          43,
          90,
          35,
          25.9,
          24,
          51.4,
          57,
          35.9,
          29,
          30,
          35,
          37,
          47,
          45,
          28.9,
          48.8,
          40,
          49,
          57,
          26.5,
          51,
          34,
          43,
          63,
          70,
          33,
          30,
          32,
          30,
          36,
          42,
          48.7,
          45.1,
          53,
          30,
          33,
          28,
          58.333333333333336,
          35,
          30.9,
          35.5,
          50,
          53,
          40,
          37.3,
          36,
          53,
          43,
          38.8,
          40,
          65,
          67,
          41,
          66,
          37,
          37,
          36.7,
          44,
          56.5,
          53,
          36.7,
          32,
          52,
          44,
          40,
          36.8,
          38,
          26,
          38.5,
          35.5,
          39,
          35.25,
          36.5,
          34.1,
          28.25,
          52,
          44,
          45,
          51.9,
          34,
          43.9,
          45.4,
          48,
          63,
          49,
          42,
          42,
          35.7,
          39,
          31,
          38,
          39,
          41.8,
          45,
          54,
          62,
          35.833333333333336,
          33,
          42,
          48,
          34.4,
          25.2,
          28,
          45,
          53.8,
          40.7,
          26.9,
          51,
          24,
          67.7,
          35,
          36.7,
          30,
          35,
          63.25,
          36,
          39.5,
          49.7,
          44,
          42,
          34,
          36.8,
          25,
          50,
          30,
          35.9,
          32.2,
          60,
          39,
          35,
          29.1,
          45,
          52.7,
          58.9,
          32,
          70,
          45,
          53.4,
          26,
          35.9,
          43.7,
          34.7,
          34,
          47,
          37,
          34.3,
          43,
          30.7,
          24,
          41,
          54,
          36,
          43,
          42,
          58.4,
          47,
          52.2,
          45,
          40,
          42,
          48,
          58,
          32,
          37,
          30,
          61.625,
          26.9,
          77,
          35,
          40,
          30,
          36.8,
          44,
          43,
          45.3,
          30,
          36,
          45,
          24,
          47.9,
          68
         ],
         "z": [
          4,
          4,
          4,
          5,
          6,
          5,
          6,
          6,
          5,
          4,
          5,
          4,
          4,
          5,
          4,
          6,
          4,
          4,
          6,
          4,
          6,
          6,
          6,
          6,
          5,
          4,
          6,
          4,
          5,
          6,
          6,
          5,
          6,
          5,
          5,
          4,
          6,
          6,
          4,
          5,
          4,
          6,
          5,
          5,
          6,
          6,
          4,
          5,
          6,
          6,
          6,
          5,
          6,
          4,
          5,
          6,
          4,
          5,
          4,
          4,
          6,
          4,
          5,
          5,
          6,
          4,
          4,
          5,
          4,
          4,
          6,
          4,
          5,
          5,
          5,
          5,
          5,
          4,
          5,
          4,
          6,
          4,
          4,
          4,
          4,
          6,
          6,
          6,
          4,
          4,
          4,
          6,
          4,
          6,
          5,
          4,
          4,
          6,
          4,
          6,
          5,
          6,
          5,
          4,
          4,
          5,
          4,
          4,
          6,
          5,
          6,
          6,
          6,
          4,
          4,
          5,
          5,
          4,
          6,
          4,
          5,
          4,
          6,
          5,
          4,
          6,
          6,
          4,
          6,
          6,
          6,
          5,
          6,
          4,
          5,
          4,
          5,
          5,
          6,
          5,
          6,
          4,
          4,
          4,
          6,
          5,
          4,
          5,
          6,
          4,
          4,
          6,
          5,
          5,
          4,
          4,
          6,
          6,
          6,
          5,
          4,
          5,
          5,
          4,
          5,
          4,
          6,
          4,
          6,
          5,
          5,
          5,
          4,
          4,
          4,
          6,
          5,
          6,
          4,
          4,
          4,
          4,
          6,
          5,
          4,
          4,
          5,
          6,
          5,
          5,
          4,
          5,
          6,
          5,
          4,
          4,
          6,
          6,
          6,
          6,
          6,
          4,
          5,
          5,
          5,
          5,
          5,
          6,
          5,
          6,
          4,
          5,
          6,
          6,
          6,
          4,
          5,
          5,
          5,
          6,
          4,
          6,
          4,
          5,
          5,
          4,
          4,
          5,
          6,
          6,
          6,
          5,
          5,
          4,
          6,
          4,
          5,
          5,
          6,
          6,
          5,
          6,
          6,
          4,
          4,
          4,
          4,
          4,
          4,
          5,
          6,
          4,
          4,
          5,
          4,
          6,
          5,
          4,
          6,
          4,
          6,
          5,
          5,
          5,
          5,
          4,
          4,
          5,
          4,
          6,
          4,
          5,
          4,
          5,
          6,
          5,
          5,
          4,
          4,
          6,
          4,
          6,
          5,
          4,
          4,
          4,
          5,
          4,
          5,
          5,
          6,
          6,
          4,
          4,
          4,
          5,
          6,
          6,
          6,
          5,
          6,
          5,
          6,
          6,
          5,
          6,
          4,
          5,
          5,
          5,
          6,
          6,
          4,
          6,
          4,
          4,
          5,
          4,
          4,
          4,
          5,
          5,
          5,
          4,
          4,
          6,
          6
         ]
        }
       ],
       "layout": {
        "coloraxis": {
         "colorbar": {
          "title": {
           "text": "burned calory"
          }
         },
         "colorscale": [
          [
           0,
           "#0d0887"
          ],
          [
           0.1111111111111111,
           "#46039f"
          ],
          [
           0.2222222222222222,
           "#7201a8"
          ],
          [
           0.3333333333333333,
           "#9c179e"
          ],
          [
           0.4444444444444444,
           "#bd3786"
          ],
          [
           0.5555555555555556,
           "#d8576b"
          ],
          [
           0.6666666666666666,
           "#ed7953"
          ],
          [
           0.7777777777777778,
           "#fb9f3a"
          ],
          [
           0.8888888888888888,
           "#fdca26"
          ],
          [
           1,
           "#f0f921"
          ]
         ]
        },
        "legend": {
         "itemsizing": "constant",
         "tracegroupgap": 0
        },
        "margin": {
         "t": 60
        },
        "scene": {
         "domain": {
          "x": [
           0,
           1
          ],
          "y": [
           0,
           1
          ]
         },
         "xaxis": {
          "title": {
           "text": "eat_calory"
          }
         },
         "yaxis": {
          "title": {
           "text": "weight"
          }
         },
         "zaxis": {
          "title": {
           "text": "grade"
          }
         }
        },
        "template": {
         "data": {
          "bar": [
           {
            "error_x": {
             "color": "#2a3f5f"
            },
            "error_y": {
             "color": "#2a3f5f"
            },
            "marker": {
             "line": {
              "color": "#E5ECF6",
              "width": 0.5
             },
             "pattern": {
              "fillmode": "overlay",
              "size": 10,
              "solidity": 0.2
             }
            },
            "type": "bar"
           }
          ],
          "barpolar": [
           {
            "marker": {
             "line": {
              "color": "#E5ECF6",
              "width": 0.5
             },
             "pattern": {
              "fillmode": "overlay",
              "size": 10,
              "solidity": 0.2
             }
            },
            "type": "barpolar"
           }
          ],
          "carpet": [
           {
            "aaxis": {
             "endlinecolor": "#2a3f5f",
             "gridcolor": "white",
             "linecolor": "white",
             "minorgridcolor": "white",
             "startlinecolor": "#2a3f5f"
            },
            "baxis": {
             "endlinecolor": "#2a3f5f",
             "gridcolor": "white",
             "linecolor": "white",
             "minorgridcolor": "white",
             "startlinecolor": "#2a3f5f"
            },
            "type": "carpet"
           }
          ],
          "choropleth": [
           {
            "colorbar": {
             "outlinewidth": 0,
             "ticks": ""
            },
            "type": "choropleth"
           }
          ],
          "contour": [
           {
            "colorbar": {
             "outlinewidth": 0,
             "ticks": ""
            },
            "colorscale": [
             [
              0,
              "#0d0887"
             ],
             [
              0.1111111111111111,
              "#46039f"
             ],
             [
              0.2222222222222222,
              "#7201a8"
             ],
             [
              0.3333333333333333,
              "#9c179e"
             ],
             [
              0.4444444444444444,
              "#bd3786"
             ],
             [
              0.5555555555555556,
              "#d8576b"
             ],
             [
              0.6666666666666666,
              "#ed7953"
             ],
             [
              0.7777777777777778,
              "#fb9f3a"
             ],
             [
              0.8888888888888888,
              "#fdca26"
             ],
             [
              1,
              "#f0f921"
             ]
            ],
            "type": "contour"
           }
          ],
          "contourcarpet": [
           {
            "colorbar": {
             "outlinewidth": 0,
             "ticks": ""
            },
            "type": "contourcarpet"
           }
          ],
          "heatmap": [
           {
            "colorbar": {
             "outlinewidth": 0,
             "ticks": ""
            },
            "colorscale": [
             [
              0,
              "#0d0887"
             ],
             [
              0.1111111111111111,
              "#46039f"
             ],
             [
              0.2222222222222222,
              "#7201a8"
             ],
             [
              0.3333333333333333,
              "#9c179e"
             ],
             [
              0.4444444444444444,
              "#bd3786"
             ],
             [
              0.5555555555555556,
              "#d8576b"
             ],
             [
              0.6666666666666666,
              "#ed7953"
             ],
             [
              0.7777777777777778,
              "#fb9f3a"
             ],
             [
              0.8888888888888888,
              "#fdca26"
             ],
             [
              1,
              "#f0f921"
             ]
            ],
            "type": "heatmap"
           }
          ],
          "heatmapgl": [
           {
            "colorbar": {
             "outlinewidth": 0,
             "ticks": ""
            },
            "colorscale": [
             [
              0,
              "#0d0887"
             ],
             [
              0.1111111111111111,
              "#46039f"
             ],
             [
              0.2222222222222222,
              "#7201a8"
             ],
             [
              0.3333333333333333,
              "#9c179e"
             ],
             [
              0.4444444444444444,
              "#bd3786"
             ],
             [
              0.5555555555555556,
              "#d8576b"
             ],
             [
              0.6666666666666666,
              "#ed7953"
             ],
             [
              0.7777777777777778,
              "#fb9f3a"
             ],
             [
              0.8888888888888888,
              "#fdca26"
             ],
             [
              1,
              "#f0f921"
             ]
            ],
            "type": "heatmapgl"
           }
          ],
          "histogram": [
           {
            "marker": {
             "pattern": {
              "fillmode": "overlay",
              "size": 10,
              "solidity": 0.2
             }
            },
            "type": "histogram"
           }
          ],
          "histogram2d": [
           {
            "colorbar": {
             "outlinewidth": 0,
             "ticks": ""
            },
            "colorscale": [
             [
              0,
              "#0d0887"
             ],
             [
              0.1111111111111111,
              "#46039f"
             ],
             [
              0.2222222222222222,
              "#7201a8"
             ],
             [
              0.3333333333333333,
              "#9c179e"
             ],
             [
              0.4444444444444444,
              "#bd3786"
             ],
             [
              0.5555555555555556,
              "#d8576b"
             ],
             [
              0.6666666666666666,
              "#ed7953"
             ],
             [
              0.7777777777777778,
              "#fb9f3a"
             ],
             [
              0.8888888888888888,
              "#fdca26"
             ],
             [
              1,
              "#f0f921"
             ]
            ],
            "type": "histogram2d"
           }
          ],
          "histogram2dcontour": [
           {
            "colorbar": {
             "outlinewidth": 0,
             "ticks": ""
            },
            "colorscale": [
             [
              0,
              "#0d0887"
             ],
             [
              0.1111111111111111,
              "#46039f"
             ],
             [
              0.2222222222222222,
              "#7201a8"
             ],
             [
              0.3333333333333333,
              "#9c179e"
             ],
             [
              0.4444444444444444,
              "#bd3786"
             ],
             [
              0.5555555555555556,
              "#d8576b"
             ],
             [
              0.6666666666666666,
              "#ed7953"
             ],
             [
              0.7777777777777778,
              "#fb9f3a"
             ],
             [
              0.8888888888888888,
              "#fdca26"
             ],
             [
              1,
              "#f0f921"
             ]
            ],
            "type": "histogram2dcontour"
           }
          ],
          "mesh3d": [
           {
            "colorbar": {
             "outlinewidth": 0,
             "ticks": ""
            },
            "type": "mesh3d"
           }
          ],
          "parcoords": [
           {
            "line": {
             "colorbar": {
              "outlinewidth": 0,
              "ticks": ""
             }
            },
            "type": "parcoords"
           }
          ],
          "pie": [
           {
            "automargin": true,
            "type": "pie"
           }
          ],
          "scatter": [
           {
            "fillpattern": {
             "fillmode": "overlay",
             "size": 10,
             "solidity": 0.2
            },
            "type": "scatter"
           }
          ],
          "scatter3d": [
           {
            "line": {
             "colorbar": {
              "outlinewidth": 0,
              "ticks": ""
             }
            },
            "marker": {
             "colorbar": {
              "outlinewidth": 0,
              "ticks": ""
             }
            },
            "type": "scatter3d"
           }
          ],
          "scattercarpet": [
           {
            "marker": {
             "colorbar": {
              "outlinewidth": 0,
              "ticks": ""
             }
            },
            "type": "scattercarpet"
           }
          ],
          "scattergeo": [
           {
            "marker": {
             "colorbar": {
              "outlinewidth": 0,
              "ticks": ""
             }
            },
            "type": "scattergeo"
           }
          ],
          "scattergl": [
           {
            "marker": {
             "colorbar": {
              "outlinewidth": 0,
              "ticks": ""
             }
            },
            "type": "scattergl"
           }
          ],
          "scattermapbox": [
           {
            "marker": {
             "colorbar": {
              "outlinewidth": 0,
              "ticks": ""
             }
            },
            "type": "scattermapbox"
           }
          ],
          "scatterpolar": [
           {
            "marker": {
             "colorbar": {
              "outlinewidth": 0,
              "ticks": ""
             }
            },
            "type": "scatterpolar"
           }
          ],
          "scatterpolargl": [
           {
            "marker": {
             "colorbar": {
              "outlinewidth": 0,
              "ticks": ""
             }
            },
            "type": "scatterpolargl"
           }
          ],
          "scatterternary": [
           {
            "marker": {
             "colorbar": {
              "outlinewidth": 0,
              "ticks": ""
             }
            },
            "type": "scatterternary"
           }
          ],
          "surface": [
           {
            "colorbar": {
             "outlinewidth": 0,
             "ticks": ""
            },
            "colorscale": [
             [
              0,
              "#0d0887"
             ],
             [
              0.1111111111111111,
              "#46039f"
             ],
             [
              0.2222222222222222,
              "#7201a8"
             ],
             [
              0.3333333333333333,
              "#9c179e"
             ],
             [
              0.4444444444444444,
              "#bd3786"
             ],
             [
              0.5555555555555556,
              "#d8576b"
             ],
             [
              0.6666666666666666,
              "#ed7953"
             ],
             [
              0.7777777777777778,
              "#fb9f3a"
             ],
             [
              0.8888888888888888,
              "#fdca26"
             ],
             [
              1,
              "#f0f921"
             ]
            ],
            "type": "surface"
           }
          ],
          "table": [
           {
            "cells": {
             "fill": {
              "color": "#EBF0F8"
             },
             "line": {
              "color": "white"
             }
            },
            "header": {
             "fill": {
              "color": "#C8D4E3"
             },
             "line": {
              "color": "white"
             }
            },
            "type": "table"
           }
          ]
         },
         "layout": {
          "annotationdefaults": {
           "arrowcolor": "#2a3f5f",
           "arrowhead": 0,
           "arrowwidth": 1
          },
          "autotypenumbers": "strict",
          "coloraxis": {
           "colorbar": {
            "outlinewidth": 0,
            "ticks": ""
           }
          },
          "colorscale": {
           "diverging": [
            [
             0,
             "#8e0152"
            ],
            [
             0.1,
             "#c51b7d"
            ],
            [
             0.2,
             "#de77ae"
            ],
            [
             0.3,
             "#f1b6da"
            ],
            [
             0.4,
             "#fde0ef"
            ],
            [
             0.5,
             "#f7f7f7"
            ],
            [
             0.6,
             "#e6f5d0"
            ],
            [
             0.7,
             "#b8e186"
            ],
            [
             0.8,
             "#7fbc41"
            ],
            [
             0.9,
             "#4d9221"
            ],
            [
             1,
             "#276419"
            ]
           ],
           "sequential": [
            [
             0,
             "#0d0887"
            ],
            [
             0.1111111111111111,
             "#46039f"
            ],
            [
             0.2222222222222222,
             "#7201a8"
            ],
            [
             0.3333333333333333,
             "#9c179e"
            ],
            [
             0.4444444444444444,
             "#bd3786"
            ],
            [
             0.5555555555555556,
             "#d8576b"
            ],
            [
             0.6666666666666666,
             "#ed7953"
            ],
            [
             0.7777777777777778,
             "#fb9f3a"
            ],
            [
             0.8888888888888888,
             "#fdca26"
            ],
            [
             1,
             "#f0f921"
            ]
           ],
           "sequentialminus": [
            [
             0,
             "#0d0887"
            ],
            [
             0.1111111111111111,
             "#46039f"
            ],
            [
             0.2222222222222222,
             "#7201a8"
            ],
            [
             0.3333333333333333,
             "#9c179e"
            ],
            [
             0.4444444444444444,
             "#bd3786"
            ],
            [
             0.5555555555555556,
             "#d8576b"
            ],
            [
             0.6666666666666666,
             "#ed7953"
            ],
            [
             0.7777777777777778,
             "#fb9f3a"
            ],
            [
             0.8888888888888888,
             "#fdca26"
            ],
            [
             1,
             "#f0f921"
            ]
           ]
          },
          "colorway": [
           "#636efa",
           "#EF553B",
           "#00cc96",
           "#ab63fa",
           "#FFA15A",
           "#19d3f3",
           "#FF6692",
           "#B6E880",
           "#FF97FF",
           "#FECB52"
          ],
          "font": {
           "color": "#2a3f5f"
          },
          "geo": {
           "bgcolor": "white",
           "lakecolor": "white",
           "landcolor": "#E5ECF6",
           "showlakes": true,
           "showland": true,
           "subunitcolor": "white"
          },
          "hoverlabel": {
           "align": "left"
          },
          "hovermode": "closest",
          "mapbox": {
           "style": "light"
          },
          "paper_bgcolor": "white",
          "plot_bgcolor": "#E5ECF6",
          "polar": {
           "angularaxis": {
            "gridcolor": "white",
            "linecolor": "white",
            "ticks": ""
           },
           "bgcolor": "#E5ECF6",
           "radialaxis": {
            "gridcolor": "white",
            "linecolor": "white",
            "ticks": ""
           }
          },
          "scene": {
           "xaxis": {
            "backgroundcolor": "#E5ECF6",
            "gridcolor": "white",
            "gridwidth": 2,
            "linecolor": "white",
            "showbackground": true,
            "ticks": "",
            "zerolinecolor": "white"
           },
           "yaxis": {
            "backgroundcolor": "#E5ECF6",
            "gridcolor": "white",
            "gridwidth": 2,
            "linecolor": "white",
            "showbackground": true,
            "ticks": "",
            "zerolinecolor": "white"
           },
           "zaxis": {
            "backgroundcolor": "#E5ECF6",
            "gridcolor": "white",
            "gridwidth": 2,
            "linecolor": "white",
            "showbackground": true,
            "ticks": "",
            "zerolinecolor": "white"
           }
          },
          "shapedefaults": {
           "line": {
            "color": "#2a3f5f"
           }
          },
          "ternary": {
           "aaxis": {
            "gridcolor": "white",
            "linecolor": "white",
            "ticks": ""
           },
           "baxis": {
            "gridcolor": "white",
            "linecolor": "white",
            "ticks": ""
           },
           "bgcolor": "#E5ECF6",
           "caxis": {
            "gridcolor": "white",
            "linecolor": "white",
            "ticks": ""
           }
          },
          "title": {
           "x": 0.05
          },
          "xaxis": {
           "automargin": true,
           "gridcolor": "white",
           "linecolor": "white",
           "ticks": "",
           "title": {
            "standoff": 15
           },
           "zerolinecolor": "white",
           "zerolinewidth": 2
          },
          "yaxis": {
           "automargin": true,
           "gridcolor": "white",
           "linecolor": "white",
           "ticks": "",
           "title": {
            "standoff": 15
           },
           "zerolinecolor": "white",
           "zerolinewidth": 2
          }
         }
        },
        "title": {
         "text": "3 Features Representation"
        }
       }
      },
      "text/html": [
       "<div>                            <div id=\"d0b5ce6e-9766-4b32-a3e6-9983e170a837\" class=\"plotly-graph-div\" style=\"height:525px; width:100%;\"></div>            <script type=\"text/javascript\">                require([\"plotly\"], function(Plotly) {                    window.PLOTLYENV=window.PLOTLYENV || {};                                    if (document.getElementById(\"d0b5ce6e-9766-4b32-a3e6-9983e170a837\")) {                    Plotly.newPlot(                        \"d0b5ce6e-9766-4b32-a3e6-9983e170a837\",                        [{\"hovertemplate\":\"eat_calory=%{marker.size}\\u003cbr\\u003eweight=%{y}\\u003cbr\\u003egrade=%{z}\\u003cbr\\u003eburned calory=%{marker.color}\\u003cextra\\u003e\\u003c\\u002fextra\\u003e\",\"legendgroup\":\"\",\"marker\":{\"color\":[8.877,8.877,8.877,8.877,8.877,8.877,78.897,2.033,2.033,2.033,2.033,2.033,2.033,2.033,2.033,2.033,48.552,48.552,48.552,48.552,48.552,44.441,44.441,44.441,44.441,33.415,56.709,56.709,56.709,56.709,56.709,42.958,42.958,33.237,33.237,33.558,33.558,33.558,33.558,32.773,32.773,32.773,32.773,142.8,142.8,56.853,56.853,56.853,30.845,30.845,30.845,30.845,30.845,30.845,30.845,30.845,30.845,30.845,40.936,40.936,40.936,40.936,40.936,40.936,44.185,44.185,27.23,27.23,27.23,27.23,27.23,27.23,27.23,139.944,139.944,22.481,22.481,2.202,2.202,1.14,1.14,1.14,1.14,1.14,88.506,88.506,88.506,31.675,31.675,31.675,31.675,31.675,53.735,53.735,53.735,22.789,32.725,32.725,97.194,97.194,97.194,97.194,97.194,0.056,0.056,0.056,5.457,0.484,0.484,0.484,0.484,0.484,126.575,126.575,30.434,30.434,30.434,30.434,11.764666666666663,11.764666666666663,11.764666666666663,11.764666666666663,11.764666666666663,11.764666666666663,11.764666666666663,11.764666666666663,11.764666666666663,11.764666666666663,11.764666666666663,11.764666666666663,25.813,25.813,25.813,10.6315,10.6315,10.6315,10.6315,10.6315,10.6315,105.297,105.297,50.837,50.837,19.992,19.992,19.992,19.992,19.992,19.992,19.992,19.992,36.7,26.4105,26.4105,40.163,40.163,40.163,40.163,40.163,40.163,27.798,27.798,27.798,32.178,32.178,32.178,32.178,32.178,56.228,56.228,17.35,17.35,17.35,17.35,17.35,17.35,17.35,17.35,660.99,660.99,660.99,32.071,18.957,18.957,18.957,163.417,163.417,163.417,38.675,38.675,38.675,38.675,38.675,48.612,62.832,62.832,62.832,62.832,62.832,62.832,30.738,40.671,40.671,40.671,40.671,40.671,40.671,40.671,78.838,0.393,49.677,49.677,20.349,20.349,20.349,20.349,20.349,20.349,20.349,20.349,20.349,104.832,95.373,95.373,3.154,40.519,40.519,40.519,69.794,69.794,40.001,39.151,39.151,58.764,58.764,58.764,58.764,58.764,67.216,67.216,67.216,27.385,27.385,29.988,29.988,55.96,55.96,55.96,55.96,38.669,38.669,47.303,47.303,47.303,66.194,66.194,66.194,66.194,66.194,240.97,240.97,23.562,54.056,59.143,47.295,47.295,47.295,47.295,47.295,47.295,47.295,25.462,160.757,172.648,172.648,172.648,40.163,40.163,70.656,70.656,24.919,91.161,91.161,91.161,38.812,38.812,38.812,38.812,38.812,38.812,38.812,38.812,38.812,49.272,38.556,163.349,163.349,130.662,179.603,179.603,179.603,179.603,179.603,179.603,179.603,179.603,226.6255,226.6255,226.6255,226.6255,226.6255,226.6255,28.56,28.56,28.56,28.56,28.56,0.135,0.135,0.135,0.135,97.573,97.573,97.573,59.462,33.915,38.812],\"coloraxis\":\"coloraxis\",\"size\":[2000.0,2000.0,421.0,481.0,748.0,285.0,160.0,546.0,580.0,580.0,580.0,580.0,580.0,228.0,1758.0,1758.0,474.0,474.0,534.0,534.0,293.0,348.0,348.0,1390.0,1284.0,285.0,415.0,513.0,513.0,468.0,468.0,247.0,239.0,208.0,357.0,5812.0,587.0,1063.0,1044.0,285.0,552.0,552.0,450.0,350.0,1567.0,634.0,111.0,568.0,521.0,521.0,521.0,521.0,521.0,521.0,385.0,858.0,241.0,241.0,462.0,93.0,89.0,89.0,360.0,268.0,247.0,247.0,247.0,134.0,134.0,134.0,1140.5,1140.5,300.0,174.0,174.0,205.0,205.0,226.0,669.0,8368.0,302.0,302.0,176.0,309.0,840.0,840.0,840.0,190.0,190.0,190.0,584.0,1151.0,761.0,412.5,428.0,431.0,653.0,673.0,510.0,283.0,283.0,283.0,283.0,283.0,97.0,625.0,857.0,687.0,133.0,133.0,133.0,133.0,175.0,759.0,1257.0,1257.0,3607.0,3607.0,572.0,280.0,280.0,1139.0,176.0,2252.0,2252.0,580.0,906.0,2737.0,266.0,1256.0,440.0,440.0,495.0,410.0,443.0,443.0,360.0,772.0,1251.0,871.5,871.5,535.0,561.0,148.0,2535.0,2535.0,573.0,572.0,572.0,458.0,568.0,351.5,536.0,667.0,589.0,273.5,190.0,271.0,280.0,280.0,2024.0,2024.0,2024.0,253.0,972.0,663.5,663.5,663.5,360.0,360.0,230.0,230.0,230.0,745.0,745.0,745.0,511.0,567.0,314.0,769.5,703.0,340.0,2752.0,455.0,455.0,184.0,378.0,176.0,153.0,1110.0,761.0,185.0,293.0,528.0,1919.0,1919.0,1919.0,1919.0,1919.0,576.5,503.0,1053.0,220.0,269.0,10669.0,391.5,265.0,265.0,353.0,1536.0,1536.0,1536.0,96.0,905.0,446.0,591.0,624.0,1410.0,1410.0,320.0,422.0,5793.0,5346.0,295.0,292.0,304.0,1797.0,561.0,689.0,280.0,97.0,97.0,97.0,2314.0,953.0,953.0,539.0,585.0,1275.0,858.0,858.0,858.0,858.0,449.0,392.0,392.0,392.0,926.0,293.0,175.0,175.0,2045.0,2045.0,192.0,869.0,869.0,610.0,8.0,124.0,334.0,334.0,117.0,1940.0,884.0,729.0,729.0,192.0,544.0,604.0,85.0,85.0,266.0,748.0,848.0,848.0,431.0,525.0,3561.0,1182.0,1182.0,263.0,179.0,985.0,985.0,288.0,288.0,446.0,446.0,1617.0,481.0,536.0,536.0,536.0,673.0,766.0,539.0,564.0,564.0,701.0,345.0,293.0,686.0,436.0,436.0,436.0,436.0,436.0,436.0,436.0,121.0,482.5,85.0,244.0,244.0,340.0,701.0,701.0,734.0,585.0,1161.0,801.0,976.0,976.0,976.0,250.0,238.0,521.0],\"sizemode\":\"area\",\"sizeref\":26.6725,\"symbol\":\"circle\"},\"mode\":\"markers\",\"name\":\"\",\"scene\":\"scene\",\"showlegend\":false,\"x\":[2000.0,2000.0,421.0,481.0,748.0,285.0,160.0,546.0,580.0,580.0,580.0,580.0,580.0,228.0,1758.0,1758.0,474.0,474.0,534.0,534.0,293.0,348.0,348.0,1390.0,1284.0,285.0,415.0,513.0,513.0,468.0,468.0,247.0,239.0,208.0,357.0,5812.0,587.0,1063.0,1044.0,285.0,552.0,552.0,450.0,350.0,1567.0,634.0,111.0,568.0,521.0,521.0,521.0,521.0,521.0,521.0,385.0,858.0,241.0,241.0,462.0,93.0,89.0,89.0,360.0,268.0,247.0,247.0,247.0,134.0,134.0,134.0,1140.5,1140.5,300.0,174.0,174.0,205.0,205.0,226.0,669.0,8368.0,302.0,302.0,176.0,309.0,840.0,840.0,840.0,190.0,190.0,190.0,584.0,1151.0,761.0,412.5,428.0,431.0,653.0,673.0,510.0,283.0,283.0,283.0,283.0,283.0,97.0,625.0,857.0,687.0,133.0,133.0,133.0,133.0,175.0,759.0,1257.0,1257.0,3607.0,3607.0,572.0,280.0,280.0,1139.0,176.0,2252.0,2252.0,580.0,906.0,2737.0,266.0,1256.0,440.0,440.0,495.0,410.0,443.0,443.0,360.0,772.0,1251.0,871.5,871.5,535.0,561.0,148.0,2535.0,2535.0,573.0,572.0,572.0,458.0,568.0,351.5,536.0,667.0,589.0,273.5,190.0,271.0,280.0,280.0,2024.0,2024.0,2024.0,253.0,972.0,663.5,663.5,663.5,360.0,360.0,230.0,230.0,230.0,745.0,745.0,745.0,511.0,567.0,314.0,769.5,703.0,340.0,2752.0,455.0,455.0,184.0,378.0,176.0,153.0,1110.0,761.0,185.0,293.0,528.0,1919.0,1919.0,1919.0,1919.0,1919.0,576.5,503.0,1053.0,220.0,269.0,10669.0,391.5,265.0,265.0,353.0,1536.0,1536.0,1536.0,96.0,905.0,446.0,591.0,624.0,1410.0,1410.0,320.0,422.0,5793.0,5346.0,295.0,292.0,304.0,1797.0,561.0,689.0,280.0,97.0,97.0,97.0,2314.0,953.0,953.0,539.0,585.0,1275.0,858.0,858.0,858.0,858.0,449.0,392.0,392.0,392.0,926.0,293.0,175.0,175.0,2045.0,2045.0,192.0,869.0,869.0,610.0,8.0,124.0,334.0,334.0,117.0,1940.0,884.0,729.0,729.0,192.0,544.0,604.0,85.0,85.0,266.0,748.0,848.0,848.0,431.0,525.0,3561.0,1182.0,1182.0,263.0,179.0,985.0,985.0,288.0,288.0,446.0,446.0,1617.0,481.0,536.0,536.0,536.0,673.0,766.0,539.0,564.0,564.0,701.0,345.0,293.0,686.0,436.0,436.0,436.0,436.0,436.0,436.0,436.0,121.0,482.5,85.0,244.0,244.0,340.0,701.0,701.0,734.0,585.0,1161.0,801.0,976.0,976.0,976.0,250.0,238.0,521.0],\"y\":[45.15,28.100000000000005,29.0,31.8,39.0,37.3,51.0,65.0,68.0,38.0,46.0,37.2,29.0,36.0,36.0,55.0,38.0,45.0,29.0,36.0,50.0,53.6,45.0,39.5,62.0,31.0,46.0,26.0,31.0,37.0,35.3,34.4,42.45454545454545,35.9,40.0,42.0,55.5,41.0,37.6,43.0,36.0,37.0,45.7,43.0,50.0,39.5,67.0,60.0,47.0,70.0,61.0,32.0,62.0,52.0,34.56,35.5,41.0,43.7,34.0,39.7,35.0,34.0,55.75,40.2,39.0,47.0,33.0,30.0,30.0,38.0,46.0,31.666666666666668,38.9,39.0,45.0,38.0,33.0,38.9,36.5,33.0,52.5,35.2,40.7,27.0,39.0,51.0,42.7,45.0,28.0,40.0,45.7,39.0,44.5,40.9,31.5,34.8,44.5,48.3,40.0,41.0,47.0,46.8,50.0,38.0,37.3,46.9,28.0,38.0,35.1,48.0,35.0,37.0,38.0,37.0,38.0,35.4,40.0,38.0,40.0,31.0,49.3,30.0,42.0,67.0,25.36,64.0,42.0,26.0,37.9,34.0,39.0,53.0,36.142857142857146,29.0,33.0,38.0,34.3,50.0,34.6,31.0,42.5,28.0,34.0,38.0,49.4,36.0,43.0,90.0,35.0,25.9,24.0,51.4,57.0,35.9,29.0,30.0,35.0,37.0,47.0,45.0,28.9,48.8,40.0,49.0,57.0,26.5,51.0,34.0,43.0,63.0,70.0,33.0,30.0,32.0,30.0,36.0,42.0,48.7,45.1,53.0,30.0,33.0,28.0,58.333333333333336,35.0,30.9,35.5,50.0,53.0,40.0,37.3,36.0,53.0,43.0,38.8,40.0,65.0,67.0,41.0,66.0,37.0,37.0,36.7,44.0,56.5,53.0,36.7,32.0,52.0,44.0,40.0,36.8,38.0,26.0,38.5,35.5,39.0,35.25,36.5,34.1,28.25,52.0,44.0,45.0,51.9,34.0,43.9,45.4,48.0,63.0,49.0,42.0,42.0,35.7,39.0,31.0,38.0,39.0,41.8,45.0,54.0,62.0,35.833333333333336,33.0,42.0,48.0,34.4,25.2,28.0,45.0,53.8,40.7,26.9,51.0,24.0,67.7,35.0,36.7,30.0,35.0,63.25,36.0,39.5,49.7,44.0,42.0,34.0,36.8,25.0,50.0,30.0,35.9,32.2,60.0,39.0,35.0,29.1,45.0,52.7,58.9,32.0,70.0,45.0,53.4,26.0,35.9,43.7,34.7,34.0,47.0,37.0,34.3,43.0,30.7,24.0,41.0,54.0,36.0,43.0,42.0,58.4,47.0,52.2,45.0,40.0,42.0,48.0,58.0,32.0,37.0,30.0,61.625,26.9,77.0,35.0,40.0,30.0,36.8,44.0,43.0,45.3,30.0,36.0,45.0,24.0,47.9,68.0],\"z\":[4.0,4.0,4.0,5.0,6.0,5.0,6.0,6.0,5.0,4.0,5.0,4.0,4.0,5.0,4.0,6.0,4.0,4.0,6.0,4.0,6.0,6.0,6.0,6.0,5.0,4.0,6.0,4.0,5.0,6.0,6.0,5.0,6.0,5.0,5.0,4.0,6.0,6.0,4.0,5.0,4.0,6.0,5.0,5.0,6.0,6.0,4.0,5.0,6.0,6.0,6.0,5.0,6.0,4.0,5.0,6.0,4.0,5.0,4.0,4.0,6.0,4.0,5.0,5.0,6.0,4.0,4.0,5.0,4.0,4.0,6.0,4.0,5.0,5.0,5.0,5.0,5.0,4.0,5.0,4.0,6.0,4.0,4.0,4.0,4.0,6.0,6.0,6.0,4.0,4.0,4.0,6.0,4.0,6.0,5.0,4.0,4.0,6.0,4.0,6.0,5.0,6.0,5.0,4.0,4.0,5.0,4.0,4.0,6.0,5.0,6.0,6.0,6.0,4.0,4.0,5.0,5.0,4.0,6.0,4.0,5.0,4.0,6.0,5.0,4.0,6.0,6.0,4.0,6.0,6.0,6.0,5.0,6.0,4.0,5.0,4.0,5.0,5.0,6.0,5.0,6.0,4.0,4.0,4.0,6.0,5.0,4.0,5.0,6.0,4.0,4.0,6.0,5.0,5.0,4.0,4.0,6.0,6.0,6.0,5.0,4.0,5.0,5.0,4.0,5.0,4.0,6.0,4.0,6.0,5.0,5.0,5.0,4.0,4.0,4.0,6.0,5.0,6.0,4.0,4.0,4.0,4.0,6.0,5.0,4.0,4.0,5.0,6.0,5.0,5.0,4.0,5.0,6.0,5.0,4.0,4.0,6.0,6.0,6.0,6.0,6.0,4.0,5.0,5.0,5.0,5.0,5.0,6.0,5.0,6.0,4.0,5.0,6.0,6.0,6.0,4.0,5.0,5.0,5.0,6.0,4.0,6.0,4.0,5.0,5.0,4.0,4.0,5.0,6.0,6.0,6.0,5.0,5.0,4.0,6.0,4.0,5.0,5.0,6.0,6.0,5.0,6.0,6.0,4.0,4.0,4.0,4.0,4.0,4.0,5.0,6.0,4.0,4.0,5.0,4.0,6.0,5.0,4.0,6.0,4.0,6.0,5.0,5.0,5.0,5.0,4.0,4.0,5.0,4.0,6.0,4.0,5.0,4.0,5.0,6.0,5.0,5.0,4.0,4.0,6.0,4.0,6.0,5.0,4.0,4.0,4.0,5.0,4.0,5.0,5.0,6.0,6.0,4.0,4.0,4.0,5.0,6.0,6.0,6.0,5.0,6.0,5.0,6.0,6.0,5.0,6.0,4.0,5.0,5.0,5.0,6.0,6.0,4.0,6.0,4.0,4.0,5.0,4.0,4.0,4.0,5.0,5.0,5.0,4.0,4.0,6.0,6.0],\"type\":\"scatter3d\"}],                        {\"template\":{\"data\":{\"histogram2dcontour\":[{\"type\":\"histogram2dcontour\",\"colorbar\":{\"outlinewidth\":0,\"ticks\":\"\"},\"colorscale\":[[0.0,\"#0d0887\"],[0.1111111111111111,\"#46039f\"],[0.2222222222222222,\"#7201a8\"],[0.3333333333333333,\"#9c179e\"],[0.4444444444444444,\"#bd3786\"],[0.5555555555555556,\"#d8576b\"],[0.6666666666666666,\"#ed7953\"],[0.7777777777777778,\"#fb9f3a\"],[0.8888888888888888,\"#fdca26\"],[1.0,\"#f0f921\"]]}],\"choropleth\":[{\"type\":\"choropleth\",\"colorbar\":{\"outlinewidth\":0,\"ticks\":\"\"}}],\"histogram2d\":[{\"type\":\"histogram2d\",\"colorbar\":{\"outlinewidth\":0,\"ticks\":\"\"},\"colorscale\":[[0.0,\"#0d0887\"],[0.1111111111111111,\"#46039f\"],[0.2222222222222222,\"#7201a8\"],[0.3333333333333333,\"#9c179e\"],[0.4444444444444444,\"#bd3786\"],[0.5555555555555556,\"#d8576b\"],[0.6666666666666666,\"#ed7953\"],[0.7777777777777778,\"#fb9f3a\"],[0.8888888888888888,\"#fdca26\"],[1.0,\"#f0f921\"]]}],\"heatmap\":[{\"type\":\"heatmap\",\"colorbar\":{\"outlinewidth\":0,\"ticks\":\"\"},\"colorscale\":[[0.0,\"#0d0887\"],[0.1111111111111111,\"#46039f\"],[0.2222222222222222,\"#7201a8\"],[0.3333333333333333,\"#9c179e\"],[0.4444444444444444,\"#bd3786\"],[0.5555555555555556,\"#d8576b\"],[0.6666666666666666,\"#ed7953\"],[0.7777777777777778,\"#fb9f3a\"],[0.8888888888888888,\"#fdca26\"],[1.0,\"#f0f921\"]]}],\"heatmapgl\":[{\"type\":\"heatmapgl\",\"colorbar\":{\"outlinewidth\":0,\"ticks\":\"\"},\"colorscale\":[[0.0,\"#0d0887\"],[0.1111111111111111,\"#46039f\"],[0.2222222222222222,\"#7201a8\"],[0.3333333333333333,\"#9c179e\"],[0.4444444444444444,\"#bd3786\"],[0.5555555555555556,\"#d8576b\"],[0.6666666666666666,\"#ed7953\"],[0.7777777777777778,\"#fb9f3a\"],[0.8888888888888888,\"#fdca26\"],[1.0,\"#f0f921\"]]}],\"contourcarpet\":[{\"type\":\"contourcarpet\",\"colorbar\":{\"outlinewidth\":0,\"ticks\":\"\"}}],\"contour\":[{\"type\":\"contour\",\"colorbar\":{\"outlinewidth\":0,\"ticks\":\"\"},\"colorscale\":[[0.0,\"#0d0887\"],[0.1111111111111111,\"#46039f\"],[0.2222222222222222,\"#7201a8\"],[0.3333333333333333,\"#9c179e\"],[0.4444444444444444,\"#bd3786\"],[0.5555555555555556,\"#d8576b\"],[0.6666666666666666,\"#ed7953\"],[0.7777777777777778,\"#fb9f3a\"],[0.8888888888888888,\"#fdca26\"],[1.0,\"#f0f921\"]]}],\"surface\":[{\"type\":\"surface\",\"colorbar\":{\"outlinewidth\":0,\"ticks\":\"\"},\"colorscale\":[[0.0,\"#0d0887\"],[0.1111111111111111,\"#46039f\"],[0.2222222222222222,\"#7201a8\"],[0.3333333333333333,\"#9c179e\"],[0.4444444444444444,\"#bd3786\"],[0.5555555555555556,\"#d8576b\"],[0.6666666666666666,\"#ed7953\"],[0.7777777777777778,\"#fb9f3a\"],[0.8888888888888888,\"#fdca26\"],[1.0,\"#f0f921\"]]}],\"mesh3d\":[{\"type\":\"mesh3d\",\"colorbar\":{\"outlinewidth\":0,\"ticks\":\"\"}}],\"scatter\":[{\"fillpattern\":{\"fillmode\":\"overlay\",\"size\":10,\"solidity\":0.2},\"type\":\"scatter\"}],\"parcoords\":[{\"type\":\"parcoords\",\"line\":{\"colorbar\":{\"outlinewidth\":0,\"ticks\":\"\"}}}],\"scatterpolargl\":[{\"type\":\"scatterpolargl\",\"marker\":{\"colorbar\":{\"outlinewidth\":0,\"ticks\":\"\"}}}],\"bar\":[{\"error_x\":{\"color\":\"#2a3f5f\"},\"error_y\":{\"color\":\"#2a3f5f\"},\"marker\":{\"line\":{\"color\":\"#E5ECF6\",\"width\":0.5},\"pattern\":{\"fillmode\":\"overlay\",\"size\":10,\"solidity\":0.2}},\"type\":\"bar\"}],\"scattergeo\":[{\"type\":\"scattergeo\",\"marker\":{\"colorbar\":{\"outlinewidth\":0,\"ticks\":\"\"}}}],\"scatterpolar\":[{\"type\":\"scatterpolar\",\"marker\":{\"colorbar\":{\"outlinewidth\":0,\"ticks\":\"\"}}}],\"histogram\":[{\"marker\":{\"pattern\":{\"fillmode\":\"overlay\",\"size\":10,\"solidity\":0.2}},\"type\":\"histogram\"}],\"scattergl\":[{\"type\":\"scattergl\",\"marker\":{\"colorbar\":{\"outlinewidth\":0,\"ticks\":\"\"}}}],\"scatter3d\":[{\"type\":\"scatter3d\",\"line\":{\"colorbar\":{\"outlinewidth\":0,\"ticks\":\"\"}},\"marker\":{\"colorbar\":{\"outlinewidth\":0,\"ticks\":\"\"}}}],\"scattermapbox\":[{\"type\":\"scattermapbox\",\"marker\":{\"colorbar\":{\"outlinewidth\":0,\"ticks\":\"\"}}}],\"scatterternary\":[{\"type\":\"scatterternary\",\"marker\":{\"colorbar\":{\"outlinewidth\":0,\"ticks\":\"\"}}}],\"scattercarpet\":[{\"type\":\"scattercarpet\",\"marker\":{\"colorbar\":{\"outlinewidth\":0,\"ticks\":\"\"}}}],\"carpet\":[{\"aaxis\":{\"endlinecolor\":\"#2a3f5f\",\"gridcolor\":\"white\",\"linecolor\":\"white\",\"minorgridcolor\":\"white\",\"startlinecolor\":\"#2a3f5f\"},\"baxis\":{\"endlinecolor\":\"#2a3f5f\",\"gridcolor\":\"white\",\"linecolor\":\"white\",\"minorgridcolor\":\"white\",\"startlinecolor\":\"#2a3f5f\"},\"type\":\"carpet\"}],\"table\":[{\"cells\":{\"fill\":{\"color\":\"#EBF0F8\"},\"line\":{\"color\":\"white\"}},\"header\":{\"fill\":{\"color\":\"#C8D4E3\"},\"line\":{\"color\":\"white\"}},\"type\":\"table\"}],\"barpolar\":[{\"marker\":{\"line\":{\"color\":\"#E5ECF6\",\"width\":0.5},\"pattern\":{\"fillmode\":\"overlay\",\"size\":10,\"solidity\":0.2}},\"type\":\"barpolar\"}],\"pie\":[{\"automargin\":true,\"type\":\"pie\"}]},\"layout\":{\"autotypenumbers\":\"strict\",\"colorway\":[\"#636efa\",\"#EF553B\",\"#00cc96\",\"#ab63fa\",\"#FFA15A\",\"#19d3f3\",\"#FF6692\",\"#B6E880\",\"#FF97FF\",\"#FECB52\"],\"font\":{\"color\":\"#2a3f5f\"},\"hovermode\":\"closest\",\"hoverlabel\":{\"align\":\"left\"},\"paper_bgcolor\":\"white\",\"plot_bgcolor\":\"#E5ECF6\",\"polar\":{\"bgcolor\":\"#E5ECF6\",\"angularaxis\":{\"gridcolor\":\"white\",\"linecolor\":\"white\",\"ticks\":\"\"},\"radialaxis\":{\"gridcolor\":\"white\",\"linecolor\":\"white\",\"ticks\":\"\"}},\"ternary\":{\"bgcolor\":\"#E5ECF6\",\"aaxis\":{\"gridcolor\":\"white\",\"linecolor\":\"white\",\"ticks\":\"\"},\"baxis\":{\"gridcolor\":\"white\",\"linecolor\":\"white\",\"ticks\":\"\"},\"caxis\":{\"gridcolor\":\"white\",\"linecolor\":\"white\",\"ticks\":\"\"}},\"coloraxis\":{\"colorbar\":{\"outlinewidth\":0,\"ticks\":\"\"}},\"colorscale\":{\"sequential\":[[0.0,\"#0d0887\"],[0.1111111111111111,\"#46039f\"],[0.2222222222222222,\"#7201a8\"],[0.3333333333333333,\"#9c179e\"],[0.4444444444444444,\"#bd3786\"],[0.5555555555555556,\"#d8576b\"],[0.6666666666666666,\"#ed7953\"],[0.7777777777777778,\"#fb9f3a\"],[0.8888888888888888,\"#fdca26\"],[1.0,\"#f0f921\"]],\"sequentialminus\":[[0.0,\"#0d0887\"],[0.1111111111111111,\"#46039f\"],[0.2222222222222222,\"#7201a8\"],[0.3333333333333333,\"#9c179e\"],[0.4444444444444444,\"#bd3786\"],[0.5555555555555556,\"#d8576b\"],[0.6666666666666666,\"#ed7953\"],[0.7777777777777778,\"#fb9f3a\"],[0.8888888888888888,\"#fdca26\"],[1.0,\"#f0f921\"]],\"diverging\":[[0,\"#8e0152\"],[0.1,\"#c51b7d\"],[0.2,\"#de77ae\"],[0.3,\"#f1b6da\"],[0.4,\"#fde0ef\"],[0.5,\"#f7f7f7\"],[0.6,\"#e6f5d0\"],[0.7,\"#b8e186\"],[0.8,\"#7fbc41\"],[0.9,\"#4d9221\"],[1,\"#276419\"]]},\"xaxis\":{\"gridcolor\":\"white\",\"linecolor\":\"white\",\"ticks\":\"\",\"title\":{\"standoff\":15},\"zerolinecolor\":\"white\",\"automargin\":true,\"zerolinewidth\":2},\"yaxis\":{\"gridcolor\":\"white\",\"linecolor\":\"white\",\"ticks\":\"\",\"title\":{\"standoff\":15},\"zerolinecolor\":\"white\",\"automargin\":true,\"zerolinewidth\":2},\"scene\":{\"xaxis\":{\"backgroundcolor\":\"#E5ECF6\",\"gridcolor\":\"white\",\"linecolor\":\"white\",\"showbackground\":true,\"ticks\":\"\",\"zerolinecolor\":\"white\",\"gridwidth\":2},\"yaxis\":{\"backgroundcolor\":\"#E5ECF6\",\"gridcolor\":\"white\",\"linecolor\":\"white\",\"showbackground\":true,\"ticks\":\"\",\"zerolinecolor\":\"white\",\"gridwidth\":2},\"zaxis\":{\"backgroundcolor\":\"#E5ECF6\",\"gridcolor\":\"white\",\"linecolor\":\"white\",\"showbackground\":true,\"ticks\":\"\",\"zerolinecolor\":\"white\",\"gridwidth\":2}},\"shapedefaults\":{\"line\":{\"color\":\"#2a3f5f\"}},\"annotationdefaults\":{\"arrowcolor\":\"#2a3f5f\",\"arrowhead\":0,\"arrowwidth\":1},\"geo\":{\"bgcolor\":\"white\",\"landcolor\":\"#E5ECF6\",\"subunitcolor\":\"white\",\"showland\":true,\"showlakes\":true,\"lakecolor\":\"white\"},\"title\":{\"x\":0.05},\"mapbox\":{\"style\":\"light\"}}},\"scene\":{\"domain\":{\"x\":[0.0,1.0],\"y\":[0.0,1.0]},\"xaxis\":{\"title\":{\"text\":\"eat_calory\"}},\"yaxis\":{\"title\":{\"text\":\"weight\"}},\"zaxis\":{\"title\":{\"text\":\"grade\"}}},\"coloraxis\":{\"colorbar\":{\"title\":{\"text\":\"burned calory\"}},\"colorscale\":[[0.0,\"#0d0887\"],[0.1111111111111111,\"#46039f\"],[0.2222222222222222,\"#7201a8\"],[0.3333333333333333,\"#9c179e\"],[0.4444444444444444,\"#bd3786\"],[0.5555555555555556,\"#d8576b\"],[0.6666666666666666,\"#ed7953\"],[0.7777777777777778,\"#fb9f3a\"],[0.8888888888888888,\"#fdca26\"],[1.0,\"#f0f921\"]]},\"legend\":{\"tracegroupgap\":0,\"itemsizing\":\"constant\"},\"margin\":{\"t\":60},\"title\":{\"text\":\"3 Features Representation\"}},                        {\"responsive\": true}                    ).then(function(){\n",
       "                            \n",
       "var gd = document.getElementById('d0b5ce6e-9766-4b32-a3e6-9983e170a837');\n",
       "var x = new MutationObserver(function (mutations, observer) {{\n",
       "        var display = window.getComputedStyle(gd).display;\n",
       "        if (!display || display === 'none') {{\n",
       "            console.log([gd, 'removed!']);\n",
       "            Plotly.purge(gd);\n",
       "            observer.disconnect();\n",
       "        }}\n",
       "}});\n",
       "\n",
       "// Listen for the removal of the full notebook cells\n",
       "var notebookContainer = gd.closest('#notebook-container');\n",
       "if (notebookContainer) {{\n",
       "    x.observe(notebookContainer, {childList: true});\n",
       "}}\n",
       "\n",
       "// Listen for the clearing of the current output cell\n",
       "var outputEl = gd.closest('.output');\n",
       "if (outputEl) {{\n",
       "    x.observe(outputEl, {childList: true});\n",
       "}}\n",
       "\n",
       "                        })                };                });            </script>        </div>"
      ]
     },
     "metadata": {},
     "output_type": "display_data"
    },
    {
     "data": {
      "application/vnd.plotly.v1+json": {
       "config": {
        "plotlyServerURL": "https://plot.ly"
       },
       "data": [
        {
         "hovertemplate": "label=0<br>value=%{r}<br>variable=%{theta}<extra></extra>",
         "legendgroup": "0",
         "line": {
          "color": "#636efa",
          "dash": "solid"
         },
         "marker": {
          "symbol": "circle"
         },
         "mode": "lines",
         "name": "0",
         "r": [
          1,
          0,
          0.43789763690070443,
          0.1797067901234568,
          0.056225879405881,
          0.08263492844413556,
          0.07472589604894267,
          0.49894705174488574,
          0.25562548721621836,
          0.19843033538764548,
          1
         ],
         "showlegend": true,
         "subplot": "polar",
         "theta": [
          "gender",
          "grade",
          "height",
          "weight",
          "step_count",
          "burned calory",
          "eat_calory",
          "Sleep_time",
          "bmi",
          "waist_bmi",
          "gender"
         ],
         "type": "scatterpolar"
        },
        {
         "hovertemplate": "label=1<br>value=%{r}<br>variable=%{theta}<extra></extra>",
         "legendgroup": "1",
         "line": {
          "color": "#EF553B",
          "dash": "solid"
         },
         "marker": {
          "symbol": "circle"
         },
         "mode": "lines",
         "name": "1",
         "r": [
          0,
          0.4852941176470588,
          0.5378899514816151,
          0.2992863774297598,
          0.09107138394154199,
          0.08622083019828684,
          0.08246108686416129,
          0.5220273014440434,
          0.36471067598796725,
          0.29584849534004726,
          0
         ],
         "showlegend": true,
         "subplot": "polar",
         "theta": [
          "gender",
          "grade",
          "height",
          "weight",
          "step_count",
          "burned calory",
          "eat_calory",
          "Sleep_time",
          "bmi",
          "waist_bmi",
          "gender"
         ],
         "type": "scatterpolar"
        },
        {
         "hovertemplate": "label=2<br>value=%{r}<br>variable=%{theta}<extra></extra>",
         "legendgroup": "2",
         "line": {
          "color": "#00cc96",
          "dash": "solid"
         },
         "marker": {
          "symbol": "circle"
         },
         "mode": "lines",
         "name": "2",
         "r": [
          1,
          0.7521008403361344,
          0.6065055879202397,
          0.27730641016737273,
          0.11642509252891235,
          0.085261660819708,
          0.05486659535777542,
          0.500208713032561,
          0.3017748838253692,
          0.2671193331119644,
          1
         ],
         "showlegend": true,
         "subplot": "polar",
         "theta": [
          "gender",
          "grade",
          "height",
          "weight",
          "step_count",
          "burned calory",
          "eat_calory",
          "Sleep_time",
          "bmi",
          "waist_bmi",
          "gender"
         ],
         "type": "scatterpolar"
        }
       ],
       "layout": {
        "height": 800,
        "legend": {
         "title": {
          "text": "label"
         },
         "tracegroupgap": 0
        },
        "margin": {
         "t": 60
        },
        "polar": {
         "angularaxis": {
          "direction": "clockwise",
          "rotation": 90
         },
         "domain": {
          "x": [
           0,
           1
          ],
          "y": [
           0,
           1
          ]
         }
        },
        "template": {
         "data": {
          "bar": [
           {
            "error_x": {
             "color": "#2a3f5f"
            },
            "error_y": {
             "color": "#2a3f5f"
            },
            "marker": {
             "line": {
              "color": "#E5ECF6",
              "width": 0.5
             },
             "pattern": {
              "fillmode": "overlay",
              "size": 10,
              "solidity": 0.2
             }
            },
            "type": "bar"
           }
          ],
          "barpolar": [
           {
            "marker": {
             "line": {
              "color": "#E5ECF6",
              "width": 0.5
             },
             "pattern": {
              "fillmode": "overlay",
              "size": 10,
              "solidity": 0.2
             }
            },
            "type": "barpolar"
           }
          ],
          "carpet": [
           {
            "aaxis": {
             "endlinecolor": "#2a3f5f",
             "gridcolor": "white",
             "linecolor": "white",
             "minorgridcolor": "white",
             "startlinecolor": "#2a3f5f"
            },
            "baxis": {
             "endlinecolor": "#2a3f5f",
             "gridcolor": "white",
             "linecolor": "white",
             "minorgridcolor": "white",
             "startlinecolor": "#2a3f5f"
            },
            "type": "carpet"
           }
          ],
          "choropleth": [
           {
            "colorbar": {
             "outlinewidth": 0,
             "ticks": ""
            },
            "type": "choropleth"
           }
          ],
          "contour": [
           {
            "colorbar": {
             "outlinewidth": 0,
             "ticks": ""
            },
            "colorscale": [
             [
              0,
              "#0d0887"
             ],
             [
              0.1111111111111111,
              "#46039f"
             ],
             [
              0.2222222222222222,
              "#7201a8"
             ],
             [
              0.3333333333333333,
              "#9c179e"
             ],
             [
              0.4444444444444444,
              "#bd3786"
             ],
             [
              0.5555555555555556,
              "#d8576b"
             ],
             [
              0.6666666666666666,
              "#ed7953"
             ],
             [
              0.7777777777777778,
              "#fb9f3a"
             ],
             [
              0.8888888888888888,
              "#fdca26"
             ],
             [
              1,
              "#f0f921"
             ]
            ],
            "type": "contour"
           }
          ],
          "contourcarpet": [
           {
            "colorbar": {
             "outlinewidth": 0,
             "ticks": ""
            },
            "type": "contourcarpet"
           }
          ],
          "heatmap": [
           {
            "colorbar": {
             "outlinewidth": 0,
             "ticks": ""
            },
            "colorscale": [
             [
              0,
              "#0d0887"
             ],
             [
              0.1111111111111111,
              "#46039f"
             ],
             [
              0.2222222222222222,
              "#7201a8"
             ],
             [
              0.3333333333333333,
              "#9c179e"
             ],
             [
              0.4444444444444444,
              "#bd3786"
             ],
             [
              0.5555555555555556,
              "#d8576b"
             ],
             [
              0.6666666666666666,
              "#ed7953"
             ],
             [
              0.7777777777777778,
              "#fb9f3a"
             ],
             [
              0.8888888888888888,
              "#fdca26"
             ],
             [
              1,
              "#f0f921"
             ]
            ],
            "type": "heatmap"
           }
          ],
          "heatmapgl": [
           {
            "colorbar": {
             "outlinewidth": 0,
             "ticks": ""
            },
            "colorscale": [
             [
              0,
              "#0d0887"
             ],
             [
              0.1111111111111111,
              "#46039f"
             ],
             [
              0.2222222222222222,
              "#7201a8"
             ],
             [
              0.3333333333333333,
              "#9c179e"
             ],
             [
              0.4444444444444444,
              "#bd3786"
             ],
             [
              0.5555555555555556,
              "#d8576b"
             ],
             [
              0.6666666666666666,
              "#ed7953"
             ],
             [
              0.7777777777777778,
              "#fb9f3a"
             ],
             [
              0.8888888888888888,
              "#fdca26"
             ],
             [
              1,
              "#f0f921"
             ]
            ],
            "type": "heatmapgl"
           }
          ],
          "histogram": [
           {
            "marker": {
             "pattern": {
              "fillmode": "overlay",
              "size": 10,
              "solidity": 0.2
             }
            },
            "type": "histogram"
           }
          ],
          "histogram2d": [
           {
            "colorbar": {
             "outlinewidth": 0,
             "ticks": ""
            },
            "colorscale": [
             [
              0,
              "#0d0887"
             ],
             [
              0.1111111111111111,
              "#46039f"
             ],
             [
              0.2222222222222222,
              "#7201a8"
             ],
             [
              0.3333333333333333,
              "#9c179e"
             ],
             [
              0.4444444444444444,
              "#bd3786"
             ],
             [
              0.5555555555555556,
              "#d8576b"
             ],
             [
              0.6666666666666666,
              "#ed7953"
             ],
             [
              0.7777777777777778,
              "#fb9f3a"
             ],
             [
              0.8888888888888888,
              "#fdca26"
             ],
             [
              1,
              "#f0f921"
             ]
            ],
            "type": "histogram2d"
           }
          ],
          "histogram2dcontour": [
           {
            "colorbar": {
             "outlinewidth": 0,
             "ticks": ""
            },
            "colorscale": [
             [
              0,
              "#0d0887"
             ],
             [
              0.1111111111111111,
              "#46039f"
             ],
             [
              0.2222222222222222,
              "#7201a8"
             ],
             [
              0.3333333333333333,
              "#9c179e"
             ],
             [
              0.4444444444444444,
              "#bd3786"
             ],
             [
              0.5555555555555556,
              "#d8576b"
             ],
             [
              0.6666666666666666,
              "#ed7953"
             ],
             [
              0.7777777777777778,
              "#fb9f3a"
             ],
             [
              0.8888888888888888,
              "#fdca26"
             ],
             [
              1,
              "#f0f921"
             ]
            ],
            "type": "histogram2dcontour"
           }
          ],
          "mesh3d": [
           {
            "colorbar": {
             "outlinewidth": 0,
             "ticks": ""
            },
            "type": "mesh3d"
           }
          ],
          "parcoords": [
           {
            "line": {
             "colorbar": {
              "outlinewidth": 0,
              "ticks": ""
             }
            },
            "type": "parcoords"
           }
          ],
          "pie": [
           {
            "automargin": true,
            "type": "pie"
           }
          ],
          "scatter": [
           {
            "fillpattern": {
             "fillmode": "overlay",
             "size": 10,
             "solidity": 0.2
            },
            "type": "scatter"
           }
          ],
          "scatter3d": [
           {
            "line": {
             "colorbar": {
              "outlinewidth": 0,
              "ticks": ""
             }
            },
            "marker": {
             "colorbar": {
              "outlinewidth": 0,
              "ticks": ""
             }
            },
            "type": "scatter3d"
           }
          ],
          "scattercarpet": [
           {
            "marker": {
             "colorbar": {
              "outlinewidth": 0,
              "ticks": ""
             }
            },
            "type": "scattercarpet"
           }
          ],
          "scattergeo": [
           {
            "marker": {
             "colorbar": {
              "outlinewidth": 0,
              "ticks": ""
             }
            },
            "type": "scattergeo"
           }
          ],
          "scattergl": [
           {
            "marker": {
             "colorbar": {
              "outlinewidth": 0,
              "ticks": ""
             }
            },
            "type": "scattergl"
           }
          ],
          "scattermapbox": [
           {
            "marker": {
             "colorbar": {
              "outlinewidth": 0,
              "ticks": ""
             }
            },
            "type": "scattermapbox"
           }
          ],
          "scatterpolar": [
           {
            "marker": {
             "colorbar": {
              "outlinewidth": 0,
              "ticks": ""
             }
            },
            "type": "scatterpolar"
           }
          ],
          "scatterpolargl": [
           {
            "marker": {
             "colorbar": {
              "outlinewidth": 0,
              "ticks": ""
             }
            },
            "type": "scatterpolargl"
           }
          ],
          "scatterternary": [
           {
            "marker": {
             "colorbar": {
              "outlinewidth": 0,
              "ticks": ""
             }
            },
            "type": "scatterternary"
           }
          ],
          "surface": [
           {
            "colorbar": {
             "outlinewidth": 0,
             "ticks": ""
            },
            "colorscale": [
             [
              0,
              "#0d0887"
             ],
             [
              0.1111111111111111,
              "#46039f"
             ],
             [
              0.2222222222222222,
              "#7201a8"
             ],
             [
              0.3333333333333333,
              "#9c179e"
             ],
             [
              0.4444444444444444,
              "#bd3786"
             ],
             [
              0.5555555555555556,
              "#d8576b"
             ],
             [
              0.6666666666666666,
              "#ed7953"
             ],
             [
              0.7777777777777778,
              "#fb9f3a"
             ],
             [
              0.8888888888888888,
              "#fdca26"
             ],
             [
              1,
              "#f0f921"
             ]
            ],
            "type": "surface"
           }
          ],
          "table": [
           {
            "cells": {
             "fill": {
              "color": "#EBF0F8"
             },
             "line": {
              "color": "white"
             }
            },
            "header": {
             "fill": {
              "color": "#C8D4E3"
             },
             "line": {
              "color": "white"
             }
            },
            "type": "table"
           }
          ]
         },
         "layout": {
          "annotationdefaults": {
           "arrowcolor": "#2a3f5f",
           "arrowhead": 0,
           "arrowwidth": 1
          },
          "autotypenumbers": "strict",
          "coloraxis": {
           "colorbar": {
            "outlinewidth": 0,
            "ticks": ""
           }
          },
          "colorscale": {
           "diverging": [
            [
             0,
             "#8e0152"
            ],
            [
             0.1,
             "#c51b7d"
            ],
            [
             0.2,
             "#de77ae"
            ],
            [
             0.3,
             "#f1b6da"
            ],
            [
             0.4,
             "#fde0ef"
            ],
            [
             0.5,
             "#f7f7f7"
            ],
            [
             0.6,
             "#e6f5d0"
            ],
            [
             0.7,
             "#b8e186"
            ],
            [
             0.8,
             "#7fbc41"
            ],
            [
             0.9,
             "#4d9221"
            ],
            [
             1,
             "#276419"
            ]
           ],
           "sequential": [
            [
             0,
             "#0d0887"
            ],
            [
             0.1111111111111111,
             "#46039f"
            ],
            [
             0.2222222222222222,
             "#7201a8"
            ],
            [
             0.3333333333333333,
             "#9c179e"
            ],
            [
             0.4444444444444444,
             "#bd3786"
            ],
            [
             0.5555555555555556,
             "#d8576b"
            ],
            [
             0.6666666666666666,
             "#ed7953"
            ],
            [
             0.7777777777777778,
             "#fb9f3a"
            ],
            [
             0.8888888888888888,
             "#fdca26"
            ],
            [
             1,
             "#f0f921"
            ]
           ],
           "sequentialminus": [
            [
             0,
             "#0d0887"
            ],
            [
             0.1111111111111111,
             "#46039f"
            ],
            [
             0.2222222222222222,
             "#7201a8"
            ],
            [
             0.3333333333333333,
             "#9c179e"
            ],
            [
             0.4444444444444444,
             "#bd3786"
            ],
            [
             0.5555555555555556,
             "#d8576b"
            ],
            [
             0.6666666666666666,
             "#ed7953"
            ],
            [
             0.7777777777777778,
             "#fb9f3a"
            ],
            [
             0.8888888888888888,
             "#fdca26"
            ],
            [
             1,
             "#f0f921"
            ]
           ]
          },
          "colorway": [
           "#636efa",
           "#EF553B",
           "#00cc96",
           "#ab63fa",
           "#FFA15A",
           "#19d3f3",
           "#FF6692",
           "#B6E880",
           "#FF97FF",
           "#FECB52"
          ],
          "font": {
           "color": "#2a3f5f"
          },
          "geo": {
           "bgcolor": "white",
           "lakecolor": "white",
           "landcolor": "#E5ECF6",
           "showlakes": true,
           "showland": true,
           "subunitcolor": "white"
          },
          "hoverlabel": {
           "align": "left"
          },
          "hovermode": "closest",
          "mapbox": {
           "style": "light"
          },
          "paper_bgcolor": "white",
          "plot_bgcolor": "#E5ECF6",
          "polar": {
           "angularaxis": {
            "gridcolor": "white",
            "linecolor": "white",
            "ticks": ""
           },
           "bgcolor": "#E5ECF6",
           "radialaxis": {
            "gridcolor": "white",
            "linecolor": "white",
            "ticks": ""
           }
          },
          "scene": {
           "xaxis": {
            "backgroundcolor": "#E5ECF6",
            "gridcolor": "white",
            "gridwidth": 2,
            "linecolor": "white",
            "showbackground": true,
            "ticks": "",
            "zerolinecolor": "white"
           },
           "yaxis": {
            "backgroundcolor": "#E5ECF6",
            "gridcolor": "white",
            "gridwidth": 2,
            "linecolor": "white",
            "showbackground": true,
            "ticks": "",
            "zerolinecolor": "white"
           },
           "zaxis": {
            "backgroundcolor": "#E5ECF6",
            "gridcolor": "white",
            "gridwidth": 2,
            "linecolor": "white",
            "showbackground": true,
            "ticks": "",
            "zerolinecolor": "white"
           }
          },
          "shapedefaults": {
           "line": {
            "color": "#2a3f5f"
           }
          },
          "ternary": {
           "aaxis": {
            "gridcolor": "white",
            "linecolor": "white",
            "ticks": ""
           },
           "baxis": {
            "gridcolor": "white",
            "linecolor": "white",
            "ticks": ""
           },
           "bgcolor": "#E5ECF6",
           "caxis": {
            "gridcolor": "white",
            "linecolor": "white",
            "ticks": ""
           }
          },
          "title": {
           "x": 0.05
          },
          "xaxis": {
           "automargin": true,
           "gridcolor": "white",
           "linecolor": "white",
           "ticks": "",
           "title": {
            "standoff": 15
           },
           "zerolinecolor": "white",
           "zerolinewidth": 2
          },
          "yaxis": {
           "automargin": true,
           "gridcolor": "white",
           "linecolor": "white",
           "ticks": "",
           "title": {
            "standoff": 15
           },
           "zerolinecolor": "white",
           "zerolinewidth": 2
          }
         }
        },
        "width": 1400
       }
      },
      "text/html": [
       "<div>                            <div id=\"04c3638c-4598-4503-9457-a57455f6e303\" class=\"plotly-graph-div\" style=\"height:800px; width:1400px;\"></div>            <script type=\"text/javascript\">                require([\"plotly\"], function(Plotly) {                    window.PLOTLYENV=window.PLOTLYENV || {};                                    if (document.getElementById(\"04c3638c-4598-4503-9457-a57455f6e303\")) {                    Plotly.newPlot(                        \"04c3638c-4598-4503-9457-a57455f6e303\",                        [{\"hovertemplate\":\"label=0\\u003cbr\\u003evalue=%{r}\\u003cbr\\u003evariable=%{theta}\\u003cextra\\u003e\\u003c\\u002fextra\\u003e\",\"legendgroup\":\"0\",\"line\":{\"color\":\"#636efa\",\"dash\":\"solid\"},\"marker\":{\"symbol\":\"circle\"},\"mode\":\"lines\",\"name\":\"0\",\"r\":[1.0,0.0,0.43789763690070443,0.1797067901234568,0.056225879405881,0.08263492844413556,0.07472589604894267,0.49894705174488574,0.25562548721621836,0.19843033538764548,1.0],\"showlegend\":true,\"subplot\":\"polar\",\"theta\":[\"gender\",\"grade\",\"height\",\"weight\",\"step_count\",\"burned calory\",\"eat_calory\",\"Sleep_time\",\"bmi\",\"waist_bmi\",\"gender\"],\"type\":\"scatterpolar\"},{\"hovertemplate\":\"label=1\\u003cbr\\u003evalue=%{r}\\u003cbr\\u003evariable=%{theta}\\u003cextra\\u003e\\u003c\\u002fextra\\u003e\",\"legendgroup\":\"1\",\"line\":{\"color\":\"#EF553B\",\"dash\":\"solid\"},\"marker\":{\"symbol\":\"circle\"},\"mode\":\"lines\",\"name\":\"1\",\"r\":[0.0,0.4852941176470588,0.5378899514816151,0.2992863774297598,0.09107138394154199,0.08622083019828684,0.08246108686416129,0.5220273014440434,0.36471067598796725,0.29584849534004726,0.0],\"showlegend\":true,\"subplot\":\"polar\",\"theta\":[\"gender\",\"grade\",\"height\",\"weight\",\"step_count\",\"burned calory\",\"eat_calory\",\"Sleep_time\",\"bmi\",\"waist_bmi\",\"gender\"],\"type\":\"scatterpolar\"},{\"hovertemplate\":\"label=2\\u003cbr\\u003evalue=%{r}\\u003cbr\\u003evariable=%{theta}\\u003cextra\\u003e\\u003c\\u002fextra\\u003e\",\"legendgroup\":\"2\",\"line\":{\"color\":\"#00cc96\",\"dash\":\"solid\"},\"marker\":{\"symbol\":\"circle\"},\"mode\":\"lines\",\"name\":\"2\",\"r\":[1.0,0.7521008403361344,0.6065055879202397,0.27730641016737273,0.11642509252891235,0.085261660819708,0.05486659535777542,0.500208713032561,0.3017748838253692,0.2671193331119644,1.0],\"showlegend\":true,\"subplot\":\"polar\",\"theta\":[\"gender\",\"grade\",\"height\",\"weight\",\"step_count\",\"burned calory\",\"eat_calory\",\"Sleep_time\",\"bmi\",\"waist_bmi\",\"gender\"],\"type\":\"scatterpolar\"}],                        {\"template\":{\"data\":{\"histogram2dcontour\":[{\"type\":\"histogram2dcontour\",\"colorbar\":{\"outlinewidth\":0,\"ticks\":\"\"},\"colorscale\":[[0.0,\"#0d0887\"],[0.1111111111111111,\"#46039f\"],[0.2222222222222222,\"#7201a8\"],[0.3333333333333333,\"#9c179e\"],[0.4444444444444444,\"#bd3786\"],[0.5555555555555556,\"#d8576b\"],[0.6666666666666666,\"#ed7953\"],[0.7777777777777778,\"#fb9f3a\"],[0.8888888888888888,\"#fdca26\"],[1.0,\"#f0f921\"]]}],\"choropleth\":[{\"type\":\"choropleth\",\"colorbar\":{\"outlinewidth\":0,\"ticks\":\"\"}}],\"histogram2d\":[{\"type\":\"histogram2d\",\"colorbar\":{\"outlinewidth\":0,\"ticks\":\"\"},\"colorscale\":[[0.0,\"#0d0887\"],[0.1111111111111111,\"#46039f\"],[0.2222222222222222,\"#7201a8\"],[0.3333333333333333,\"#9c179e\"],[0.4444444444444444,\"#bd3786\"],[0.5555555555555556,\"#d8576b\"],[0.6666666666666666,\"#ed7953\"],[0.7777777777777778,\"#fb9f3a\"],[0.8888888888888888,\"#fdca26\"],[1.0,\"#f0f921\"]]}],\"heatmap\":[{\"type\":\"heatmap\",\"colorbar\":{\"outlinewidth\":0,\"ticks\":\"\"},\"colorscale\":[[0.0,\"#0d0887\"],[0.1111111111111111,\"#46039f\"],[0.2222222222222222,\"#7201a8\"],[0.3333333333333333,\"#9c179e\"],[0.4444444444444444,\"#bd3786\"],[0.5555555555555556,\"#d8576b\"],[0.6666666666666666,\"#ed7953\"],[0.7777777777777778,\"#fb9f3a\"],[0.8888888888888888,\"#fdca26\"],[1.0,\"#f0f921\"]]}],\"heatmapgl\":[{\"type\":\"heatmapgl\",\"colorbar\":{\"outlinewidth\":0,\"ticks\":\"\"},\"colorscale\":[[0.0,\"#0d0887\"],[0.1111111111111111,\"#46039f\"],[0.2222222222222222,\"#7201a8\"],[0.3333333333333333,\"#9c179e\"],[0.4444444444444444,\"#bd3786\"],[0.5555555555555556,\"#d8576b\"],[0.6666666666666666,\"#ed7953\"],[0.7777777777777778,\"#fb9f3a\"],[0.8888888888888888,\"#fdca26\"],[1.0,\"#f0f921\"]]}],\"contourcarpet\":[{\"type\":\"contourcarpet\",\"colorbar\":{\"outlinewidth\":0,\"ticks\":\"\"}}],\"contour\":[{\"type\":\"contour\",\"colorbar\":{\"outlinewidth\":0,\"ticks\":\"\"},\"colorscale\":[[0.0,\"#0d0887\"],[0.1111111111111111,\"#46039f\"],[0.2222222222222222,\"#7201a8\"],[0.3333333333333333,\"#9c179e\"],[0.4444444444444444,\"#bd3786\"],[0.5555555555555556,\"#d8576b\"],[0.6666666666666666,\"#ed7953\"],[0.7777777777777778,\"#fb9f3a\"],[0.8888888888888888,\"#fdca26\"],[1.0,\"#f0f921\"]]}],\"surface\":[{\"type\":\"surface\",\"colorbar\":{\"outlinewidth\":0,\"ticks\":\"\"},\"colorscale\":[[0.0,\"#0d0887\"],[0.1111111111111111,\"#46039f\"],[0.2222222222222222,\"#7201a8\"],[0.3333333333333333,\"#9c179e\"],[0.4444444444444444,\"#bd3786\"],[0.5555555555555556,\"#d8576b\"],[0.6666666666666666,\"#ed7953\"],[0.7777777777777778,\"#fb9f3a\"],[0.8888888888888888,\"#fdca26\"],[1.0,\"#f0f921\"]]}],\"mesh3d\":[{\"type\":\"mesh3d\",\"colorbar\":{\"outlinewidth\":0,\"ticks\":\"\"}}],\"scatter\":[{\"fillpattern\":{\"fillmode\":\"overlay\",\"size\":10,\"solidity\":0.2},\"type\":\"scatter\"}],\"parcoords\":[{\"type\":\"parcoords\",\"line\":{\"colorbar\":{\"outlinewidth\":0,\"ticks\":\"\"}}}],\"scatterpolargl\":[{\"type\":\"scatterpolargl\",\"marker\":{\"colorbar\":{\"outlinewidth\":0,\"ticks\":\"\"}}}],\"bar\":[{\"error_x\":{\"color\":\"#2a3f5f\"},\"error_y\":{\"color\":\"#2a3f5f\"},\"marker\":{\"line\":{\"color\":\"#E5ECF6\",\"width\":0.5},\"pattern\":{\"fillmode\":\"overlay\",\"size\":10,\"solidity\":0.2}},\"type\":\"bar\"}],\"scattergeo\":[{\"type\":\"scattergeo\",\"marker\":{\"colorbar\":{\"outlinewidth\":0,\"ticks\":\"\"}}}],\"scatterpolar\":[{\"type\":\"scatterpolar\",\"marker\":{\"colorbar\":{\"outlinewidth\":0,\"ticks\":\"\"}}}],\"histogram\":[{\"marker\":{\"pattern\":{\"fillmode\":\"overlay\",\"size\":10,\"solidity\":0.2}},\"type\":\"histogram\"}],\"scattergl\":[{\"type\":\"scattergl\",\"marker\":{\"colorbar\":{\"outlinewidth\":0,\"ticks\":\"\"}}}],\"scatter3d\":[{\"type\":\"scatter3d\",\"line\":{\"colorbar\":{\"outlinewidth\":0,\"ticks\":\"\"}},\"marker\":{\"colorbar\":{\"outlinewidth\":0,\"ticks\":\"\"}}}],\"scattermapbox\":[{\"type\":\"scattermapbox\",\"marker\":{\"colorbar\":{\"outlinewidth\":0,\"ticks\":\"\"}}}],\"scatterternary\":[{\"type\":\"scatterternary\",\"marker\":{\"colorbar\":{\"outlinewidth\":0,\"ticks\":\"\"}}}],\"scattercarpet\":[{\"type\":\"scattercarpet\",\"marker\":{\"colorbar\":{\"outlinewidth\":0,\"ticks\":\"\"}}}],\"carpet\":[{\"aaxis\":{\"endlinecolor\":\"#2a3f5f\",\"gridcolor\":\"white\",\"linecolor\":\"white\",\"minorgridcolor\":\"white\",\"startlinecolor\":\"#2a3f5f\"},\"baxis\":{\"endlinecolor\":\"#2a3f5f\",\"gridcolor\":\"white\",\"linecolor\":\"white\",\"minorgridcolor\":\"white\",\"startlinecolor\":\"#2a3f5f\"},\"type\":\"carpet\"}],\"table\":[{\"cells\":{\"fill\":{\"color\":\"#EBF0F8\"},\"line\":{\"color\":\"white\"}},\"header\":{\"fill\":{\"color\":\"#C8D4E3\"},\"line\":{\"color\":\"white\"}},\"type\":\"table\"}],\"barpolar\":[{\"marker\":{\"line\":{\"color\":\"#E5ECF6\",\"width\":0.5},\"pattern\":{\"fillmode\":\"overlay\",\"size\":10,\"solidity\":0.2}},\"type\":\"barpolar\"}],\"pie\":[{\"automargin\":true,\"type\":\"pie\"}]},\"layout\":{\"autotypenumbers\":\"strict\",\"colorway\":[\"#636efa\",\"#EF553B\",\"#00cc96\",\"#ab63fa\",\"#FFA15A\",\"#19d3f3\",\"#FF6692\",\"#B6E880\",\"#FF97FF\",\"#FECB52\"],\"font\":{\"color\":\"#2a3f5f\"},\"hovermode\":\"closest\",\"hoverlabel\":{\"align\":\"left\"},\"paper_bgcolor\":\"white\",\"plot_bgcolor\":\"#E5ECF6\",\"polar\":{\"bgcolor\":\"#E5ECF6\",\"angularaxis\":{\"gridcolor\":\"white\",\"linecolor\":\"white\",\"ticks\":\"\"},\"radialaxis\":{\"gridcolor\":\"white\",\"linecolor\":\"white\",\"ticks\":\"\"}},\"ternary\":{\"bgcolor\":\"#E5ECF6\",\"aaxis\":{\"gridcolor\":\"white\",\"linecolor\":\"white\",\"ticks\":\"\"},\"baxis\":{\"gridcolor\":\"white\",\"linecolor\":\"white\",\"ticks\":\"\"},\"caxis\":{\"gridcolor\":\"white\",\"linecolor\":\"white\",\"ticks\":\"\"}},\"coloraxis\":{\"colorbar\":{\"outlinewidth\":0,\"ticks\":\"\"}},\"colorscale\":{\"sequential\":[[0.0,\"#0d0887\"],[0.1111111111111111,\"#46039f\"],[0.2222222222222222,\"#7201a8\"],[0.3333333333333333,\"#9c179e\"],[0.4444444444444444,\"#bd3786\"],[0.5555555555555556,\"#d8576b\"],[0.6666666666666666,\"#ed7953\"],[0.7777777777777778,\"#fb9f3a\"],[0.8888888888888888,\"#fdca26\"],[1.0,\"#f0f921\"]],\"sequentialminus\":[[0.0,\"#0d0887\"],[0.1111111111111111,\"#46039f\"],[0.2222222222222222,\"#7201a8\"],[0.3333333333333333,\"#9c179e\"],[0.4444444444444444,\"#bd3786\"],[0.5555555555555556,\"#d8576b\"],[0.6666666666666666,\"#ed7953\"],[0.7777777777777778,\"#fb9f3a\"],[0.8888888888888888,\"#fdca26\"],[1.0,\"#f0f921\"]],\"diverging\":[[0,\"#8e0152\"],[0.1,\"#c51b7d\"],[0.2,\"#de77ae\"],[0.3,\"#f1b6da\"],[0.4,\"#fde0ef\"],[0.5,\"#f7f7f7\"],[0.6,\"#e6f5d0\"],[0.7,\"#b8e186\"],[0.8,\"#7fbc41\"],[0.9,\"#4d9221\"],[1,\"#276419\"]]},\"xaxis\":{\"gridcolor\":\"white\",\"linecolor\":\"white\",\"ticks\":\"\",\"title\":{\"standoff\":15},\"zerolinecolor\":\"white\",\"automargin\":true,\"zerolinewidth\":2},\"yaxis\":{\"gridcolor\":\"white\",\"linecolor\":\"white\",\"ticks\":\"\",\"title\":{\"standoff\":15},\"zerolinecolor\":\"white\",\"automargin\":true,\"zerolinewidth\":2},\"scene\":{\"xaxis\":{\"backgroundcolor\":\"#E5ECF6\",\"gridcolor\":\"white\",\"linecolor\":\"white\",\"showbackground\":true,\"ticks\":\"\",\"zerolinecolor\":\"white\",\"gridwidth\":2},\"yaxis\":{\"backgroundcolor\":\"#E5ECF6\",\"gridcolor\":\"white\",\"linecolor\":\"white\",\"showbackground\":true,\"ticks\":\"\",\"zerolinecolor\":\"white\",\"gridwidth\":2},\"zaxis\":{\"backgroundcolor\":\"#E5ECF6\",\"gridcolor\":\"white\",\"linecolor\":\"white\",\"showbackground\":true,\"ticks\":\"\",\"zerolinecolor\":\"white\",\"gridwidth\":2}},\"shapedefaults\":{\"line\":{\"color\":\"#2a3f5f\"}},\"annotationdefaults\":{\"arrowcolor\":\"#2a3f5f\",\"arrowhead\":0,\"arrowwidth\":1},\"geo\":{\"bgcolor\":\"white\",\"landcolor\":\"#E5ECF6\",\"subunitcolor\":\"white\",\"showland\":true,\"showlakes\":true,\"lakecolor\":\"white\"},\"title\":{\"x\":0.05},\"mapbox\":{\"style\":\"light\"}}},\"polar\":{\"domain\":{\"x\":[0.0,1.0],\"y\":[0.0,1.0]},\"angularaxis\":{\"direction\":\"clockwise\",\"rotation\":90}},\"legend\":{\"title\":{\"text\":\"label\"},\"tracegroupgap\":0},\"margin\":{\"t\":60},\"height\":800,\"width\":1400},                        {\"responsive\": true}                    ).then(function(){\n",
       "                            \n",
       "var gd = document.getElementById('04c3638c-4598-4503-9457-a57455f6e303');\n",
       "var x = new MutationObserver(function (mutations, observer) {{\n",
       "        var display = window.getComputedStyle(gd).display;\n",
       "        if (!display || display === 'none') {{\n",
       "            console.log([gd, 'removed!']);\n",
       "            Plotly.purge(gd);\n",
       "            observer.disconnect();\n",
       "        }}\n",
       "}});\n",
       "\n",
       "// Listen for the removal of the full notebook cells\n",
       "var notebookContainer = gd.closest('#notebook-container');\n",
       "if (notebookContainer) {{\n",
       "    x.observe(notebookContainer, {childList: true});\n",
       "}}\n",
       "\n",
       "// Listen for the clearing of the current output cell\n",
       "var outputEl = gd.closest('.output');\n",
       "if (outputEl) {{\n",
       "    x.observe(outputEl, {childList: true});\n",
       "}}\n",
       "\n",
       "                        })                };                });            </script>        </div>"
      ]
     },
     "metadata": {},
     "output_type": "display_data"
    },
    {
     "data": {
      "application/vnd.plotly.v1+json": {
       "config": {
        "plotlyServerURL": "https://plot.ly"
       },
       "data": [
        {
         "customdata": [
          [
           "blue"
          ],
          [
           "red"
          ],
          [
           "green"
          ]
         ],
         "domain": {
          "x": [
           0,
           1
          ],
          "y": [
           0,
           1
          ]
         },
         "hovertemplate": "label=%{label}<br>value=%{value}<br>color=%{customdata[0]}<extra></extra>",
         "labels": [
          0,
          1,
          2
         ],
         "legendgroup": "",
         "marker": {
          "colors": [
           "#636efa",
           "#EF553B",
           "#00cc96"
          ]
         },
         "name": "",
         "showlegend": true,
         "type": "pie",
         "values": [
          72,
          136,
          119
         ]
        }
       ],
       "layout": {
        "legend": {
         "tracegroupgap": 0
        },
        "margin": {
         "t": 60
        },
        "template": {
         "data": {
          "bar": [
           {
            "error_x": {
             "color": "#2a3f5f"
            },
            "error_y": {
             "color": "#2a3f5f"
            },
            "marker": {
             "line": {
              "color": "#E5ECF6",
              "width": 0.5
             },
             "pattern": {
              "fillmode": "overlay",
              "size": 10,
              "solidity": 0.2
             }
            },
            "type": "bar"
           }
          ],
          "barpolar": [
           {
            "marker": {
             "line": {
              "color": "#E5ECF6",
              "width": 0.5
             },
             "pattern": {
              "fillmode": "overlay",
              "size": 10,
              "solidity": 0.2
             }
            },
            "type": "barpolar"
           }
          ],
          "carpet": [
           {
            "aaxis": {
             "endlinecolor": "#2a3f5f",
             "gridcolor": "white",
             "linecolor": "white",
             "minorgridcolor": "white",
             "startlinecolor": "#2a3f5f"
            },
            "baxis": {
             "endlinecolor": "#2a3f5f",
             "gridcolor": "white",
             "linecolor": "white",
             "minorgridcolor": "white",
             "startlinecolor": "#2a3f5f"
            },
            "type": "carpet"
           }
          ],
          "choropleth": [
           {
            "colorbar": {
             "outlinewidth": 0,
             "ticks": ""
            },
            "type": "choropleth"
           }
          ],
          "contour": [
           {
            "colorbar": {
             "outlinewidth": 0,
             "ticks": ""
            },
            "colorscale": [
             [
              0,
              "#0d0887"
             ],
             [
              0.1111111111111111,
              "#46039f"
             ],
             [
              0.2222222222222222,
              "#7201a8"
             ],
             [
              0.3333333333333333,
              "#9c179e"
             ],
             [
              0.4444444444444444,
              "#bd3786"
             ],
             [
              0.5555555555555556,
              "#d8576b"
             ],
             [
              0.6666666666666666,
              "#ed7953"
             ],
             [
              0.7777777777777778,
              "#fb9f3a"
             ],
             [
              0.8888888888888888,
              "#fdca26"
             ],
             [
              1,
              "#f0f921"
             ]
            ],
            "type": "contour"
           }
          ],
          "contourcarpet": [
           {
            "colorbar": {
             "outlinewidth": 0,
             "ticks": ""
            },
            "type": "contourcarpet"
           }
          ],
          "heatmap": [
           {
            "colorbar": {
             "outlinewidth": 0,
             "ticks": ""
            },
            "colorscale": [
             [
              0,
              "#0d0887"
             ],
             [
              0.1111111111111111,
              "#46039f"
             ],
             [
              0.2222222222222222,
              "#7201a8"
             ],
             [
              0.3333333333333333,
              "#9c179e"
             ],
             [
              0.4444444444444444,
              "#bd3786"
             ],
             [
              0.5555555555555556,
              "#d8576b"
             ],
             [
              0.6666666666666666,
              "#ed7953"
             ],
             [
              0.7777777777777778,
              "#fb9f3a"
             ],
             [
              0.8888888888888888,
              "#fdca26"
             ],
             [
              1,
              "#f0f921"
             ]
            ],
            "type": "heatmap"
           }
          ],
          "heatmapgl": [
           {
            "colorbar": {
             "outlinewidth": 0,
             "ticks": ""
            },
            "colorscale": [
             [
              0,
              "#0d0887"
             ],
             [
              0.1111111111111111,
              "#46039f"
             ],
             [
              0.2222222222222222,
              "#7201a8"
             ],
             [
              0.3333333333333333,
              "#9c179e"
             ],
             [
              0.4444444444444444,
              "#bd3786"
             ],
             [
              0.5555555555555556,
              "#d8576b"
             ],
             [
              0.6666666666666666,
              "#ed7953"
             ],
             [
              0.7777777777777778,
              "#fb9f3a"
             ],
             [
              0.8888888888888888,
              "#fdca26"
             ],
             [
              1,
              "#f0f921"
             ]
            ],
            "type": "heatmapgl"
           }
          ],
          "histogram": [
           {
            "marker": {
             "pattern": {
              "fillmode": "overlay",
              "size": 10,
              "solidity": 0.2
             }
            },
            "type": "histogram"
           }
          ],
          "histogram2d": [
           {
            "colorbar": {
             "outlinewidth": 0,
             "ticks": ""
            },
            "colorscale": [
             [
              0,
              "#0d0887"
             ],
             [
              0.1111111111111111,
              "#46039f"
             ],
             [
              0.2222222222222222,
              "#7201a8"
             ],
             [
              0.3333333333333333,
              "#9c179e"
             ],
             [
              0.4444444444444444,
              "#bd3786"
             ],
             [
              0.5555555555555556,
              "#d8576b"
             ],
             [
              0.6666666666666666,
              "#ed7953"
             ],
             [
              0.7777777777777778,
              "#fb9f3a"
             ],
             [
              0.8888888888888888,
              "#fdca26"
             ],
             [
              1,
              "#f0f921"
             ]
            ],
            "type": "histogram2d"
           }
          ],
          "histogram2dcontour": [
           {
            "colorbar": {
             "outlinewidth": 0,
             "ticks": ""
            },
            "colorscale": [
             [
              0,
              "#0d0887"
             ],
             [
              0.1111111111111111,
              "#46039f"
             ],
             [
              0.2222222222222222,
              "#7201a8"
             ],
             [
              0.3333333333333333,
              "#9c179e"
             ],
             [
              0.4444444444444444,
              "#bd3786"
             ],
             [
              0.5555555555555556,
              "#d8576b"
             ],
             [
              0.6666666666666666,
              "#ed7953"
             ],
             [
              0.7777777777777778,
              "#fb9f3a"
             ],
             [
              0.8888888888888888,
              "#fdca26"
             ],
             [
              1,
              "#f0f921"
             ]
            ],
            "type": "histogram2dcontour"
           }
          ],
          "mesh3d": [
           {
            "colorbar": {
             "outlinewidth": 0,
             "ticks": ""
            },
            "type": "mesh3d"
           }
          ],
          "parcoords": [
           {
            "line": {
             "colorbar": {
              "outlinewidth": 0,
              "ticks": ""
             }
            },
            "type": "parcoords"
           }
          ],
          "pie": [
           {
            "automargin": true,
            "type": "pie"
           }
          ],
          "scatter": [
           {
            "fillpattern": {
             "fillmode": "overlay",
             "size": 10,
             "solidity": 0.2
            },
            "type": "scatter"
           }
          ],
          "scatter3d": [
           {
            "line": {
             "colorbar": {
              "outlinewidth": 0,
              "ticks": ""
             }
            },
            "marker": {
             "colorbar": {
              "outlinewidth": 0,
              "ticks": ""
             }
            },
            "type": "scatter3d"
           }
          ],
          "scattercarpet": [
           {
            "marker": {
             "colorbar": {
              "outlinewidth": 0,
              "ticks": ""
             }
            },
            "type": "scattercarpet"
           }
          ],
          "scattergeo": [
           {
            "marker": {
             "colorbar": {
              "outlinewidth": 0,
              "ticks": ""
             }
            },
            "type": "scattergeo"
           }
          ],
          "scattergl": [
           {
            "marker": {
             "colorbar": {
              "outlinewidth": 0,
              "ticks": ""
             }
            },
            "type": "scattergl"
           }
          ],
          "scattermapbox": [
           {
            "marker": {
             "colorbar": {
              "outlinewidth": 0,
              "ticks": ""
             }
            },
            "type": "scattermapbox"
           }
          ],
          "scatterpolar": [
           {
            "marker": {
             "colorbar": {
              "outlinewidth": 0,
              "ticks": ""
             }
            },
            "type": "scatterpolar"
           }
          ],
          "scatterpolargl": [
           {
            "marker": {
             "colorbar": {
              "outlinewidth": 0,
              "ticks": ""
             }
            },
            "type": "scatterpolargl"
           }
          ],
          "scatterternary": [
           {
            "marker": {
             "colorbar": {
              "outlinewidth": 0,
              "ticks": ""
             }
            },
            "type": "scatterternary"
           }
          ],
          "surface": [
           {
            "colorbar": {
             "outlinewidth": 0,
             "ticks": ""
            },
            "colorscale": [
             [
              0,
              "#0d0887"
             ],
             [
              0.1111111111111111,
              "#46039f"
             ],
             [
              0.2222222222222222,
              "#7201a8"
             ],
             [
              0.3333333333333333,
              "#9c179e"
             ],
             [
              0.4444444444444444,
              "#bd3786"
             ],
             [
              0.5555555555555556,
              "#d8576b"
             ],
             [
              0.6666666666666666,
              "#ed7953"
             ],
             [
              0.7777777777777778,
              "#fb9f3a"
             ],
             [
              0.8888888888888888,
              "#fdca26"
             ],
             [
              1,
              "#f0f921"
             ]
            ],
            "type": "surface"
           }
          ],
          "table": [
           {
            "cells": {
             "fill": {
              "color": "#EBF0F8"
             },
             "line": {
              "color": "white"
             }
            },
            "header": {
             "fill": {
              "color": "#C8D4E3"
             },
             "line": {
              "color": "white"
             }
            },
            "type": "table"
           }
          ]
         },
         "layout": {
          "annotationdefaults": {
           "arrowcolor": "#2a3f5f",
           "arrowhead": 0,
           "arrowwidth": 1
          },
          "autotypenumbers": "strict",
          "coloraxis": {
           "colorbar": {
            "outlinewidth": 0,
            "ticks": ""
           }
          },
          "colorscale": {
           "diverging": [
            [
             0,
             "#8e0152"
            ],
            [
             0.1,
             "#c51b7d"
            ],
            [
             0.2,
             "#de77ae"
            ],
            [
             0.3,
             "#f1b6da"
            ],
            [
             0.4,
             "#fde0ef"
            ],
            [
             0.5,
             "#f7f7f7"
            ],
            [
             0.6,
             "#e6f5d0"
            ],
            [
             0.7,
             "#b8e186"
            ],
            [
             0.8,
             "#7fbc41"
            ],
            [
             0.9,
             "#4d9221"
            ],
            [
             1,
             "#276419"
            ]
           ],
           "sequential": [
            [
             0,
             "#0d0887"
            ],
            [
             0.1111111111111111,
             "#46039f"
            ],
            [
             0.2222222222222222,
             "#7201a8"
            ],
            [
             0.3333333333333333,
             "#9c179e"
            ],
            [
             0.4444444444444444,
             "#bd3786"
            ],
            [
             0.5555555555555556,
             "#d8576b"
            ],
            [
             0.6666666666666666,
             "#ed7953"
            ],
            [
             0.7777777777777778,
             "#fb9f3a"
            ],
            [
             0.8888888888888888,
             "#fdca26"
            ],
            [
             1,
             "#f0f921"
            ]
           ],
           "sequentialminus": [
            [
             0,
             "#0d0887"
            ],
            [
             0.1111111111111111,
             "#46039f"
            ],
            [
             0.2222222222222222,
             "#7201a8"
            ],
            [
             0.3333333333333333,
             "#9c179e"
            ],
            [
             0.4444444444444444,
             "#bd3786"
            ],
            [
             0.5555555555555556,
             "#d8576b"
            ],
            [
             0.6666666666666666,
             "#ed7953"
            ],
            [
             0.7777777777777778,
             "#fb9f3a"
            ],
            [
             0.8888888888888888,
             "#fdca26"
            ],
            [
             1,
             "#f0f921"
            ]
           ]
          },
          "colorway": [
           "#636efa",
           "#EF553B",
           "#00cc96",
           "#ab63fa",
           "#FFA15A",
           "#19d3f3",
           "#FF6692",
           "#B6E880",
           "#FF97FF",
           "#FECB52"
          ],
          "font": {
           "color": "#2a3f5f"
          },
          "geo": {
           "bgcolor": "white",
           "lakecolor": "white",
           "landcolor": "#E5ECF6",
           "showlakes": true,
           "showland": true,
           "subunitcolor": "white"
          },
          "hoverlabel": {
           "align": "left"
          },
          "hovermode": "closest",
          "mapbox": {
           "style": "light"
          },
          "paper_bgcolor": "white",
          "plot_bgcolor": "#E5ECF6",
          "polar": {
           "angularaxis": {
            "gridcolor": "white",
            "linecolor": "white",
            "ticks": ""
           },
           "bgcolor": "#E5ECF6",
           "radialaxis": {
            "gridcolor": "white",
            "linecolor": "white",
            "ticks": ""
           }
          },
          "scene": {
           "xaxis": {
            "backgroundcolor": "#E5ECF6",
            "gridcolor": "white",
            "gridwidth": 2,
            "linecolor": "white",
            "showbackground": true,
            "ticks": "",
            "zerolinecolor": "white"
           },
           "yaxis": {
            "backgroundcolor": "#E5ECF6",
            "gridcolor": "white",
            "gridwidth": 2,
            "linecolor": "white",
            "showbackground": true,
            "ticks": "",
            "zerolinecolor": "white"
           },
           "zaxis": {
            "backgroundcolor": "#E5ECF6",
            "gridcolor": "white",
            "gridwidth": 2,
            "linecolor": "white",
            "showbackground": true,
            "ticks": "",
            "zerolinecolor": "white"
           }
          },
          "shapedefaults": {
           "line": {
            "color": "#2a3f5f"
           }
          },
          "ternary": {
           "aaxis": {
            "gridcolor": "white",
            "linecolor": "white",
            "ticks": ""
           },
           "baxis": {
            "gridcolor": "white",
            "linecolor": "white",
            "ticks": ""
           },
           "bgcolor": "#E5ECF6",
           "caxis": {
            "gridcolor": "white",
            "linecolor": "white",
            "ticks": ""
           }
          },
          "title": {
           "x": 0.05
          },
          "xaxis": {
           "automargin": true,
           "gridcolor": "white",
           "linecolor": "white",
           "ticks": "",
           "title": {
            "standoff": 15
           },
           "zerolinecolor": "white",
           "zerolinewidth": 2
          },
          "yaxis": {
           "automargin": true,
           "gridcolor": "white",
           "linecolor": "white",
           "ticks": "",
           "title": {
            "standoff": 15
           },
           "zerolinecolor": "white",
           "zerolinewidth": 2
          }
         }
        }
       }
      },
      "text/html": [
       "<div>                            <div id=\"c53657a9-8072-4e94-8f11-b8656e915c27\" class=\"plotly-graph-div\" style=\"height:525px; width:100%;\"></div>            <script type=\"text/javascript\">                require([\"plotly\"], function(Plotly) {                    window.PLOTLYENV=window.PLOTLYENV || {};                                    if (document.getElementById(\"c53657a9-8072-4e94-8f11-b8656e915c27\")) {                    Plotly.newPlot(                        \"c53657a9-8072-4e94-8f11-b8656e915c27\",                        [{\"customdata\":[[\"blue\"],[\"red\"],[\"green\"]],\"domain\":{\"x\":[0.0,1.0],\"y\":[0.0,1.0]},\"hovertemplate\":\"label=%{label}\\u003cbr\\u003evalue=%{value}\\u003cbr\\u003ecolor=%{customdata[0]}\\u003cextra\\u003e\\u003c\\u002fextra\\u003e\",\"labels\":[0,1,2],\"legendgroup\":\"\",\"marker\":{\"colors\":[\"#636efa\",\"#EF553B\",\"#00cc96\"]},\"name\":\"\",\"showlegend\":true,\"values\":[72,136,119],\"type\":\"pie\"}],                        {\"template\":{\"data\":{\"histogram2dcontour\":[{\"type\":\"histogram2dcontour\",\"colorbar\":{\"outlinewidth\":0,\"ticks\":\"\"},\"colorscale\":[[0.0,\"#0d0887\"],[0.1111111111111111,\"#46039f\"],[0.2222222222222222,\"#7201a8\"],[0.3333333333333333,\"#9c179e\"],[0.4444444444444444,\"#bd3786\"],[0.5555555555555556,\"#d8576b\"],[0.6666666666666666,\"#ed7953\"],[0.7777777777777778,\"#fb9f3a\"],[0.8888888888888888,\"#fdca26\"],[1.0,\"#f0f921\"]]}],\"choropleth\":[{\"type\":\"choropleth\",\"colorbar\":{\"outlinewidth\":0,\"ticks\":\"\"}}],\"histogram2d\":[{\"type\":\"histogram2d\",\"colorbar\":{\"outlinewidth\":0,\"ticks\":\"\"},\"colorscale\":[[0.0,\"#0d0887\"],[0.1111111111111111,\"#46039f\"],[0.2222222222222222,\"#7201a8\"],[0.3333333333333333,\"#9c179e\"],[0.4444444444444444,\"#bd3786\"],[0.5555555555555556,\"#d8576b\"],[0.6666666666666666,\"#ed7953\"],[0.7777777777777778,\"#fb9f3a\"],[0.8888888888888888,\"#fdca26\"],[1.0,\"#f0f921\"]]}],\"heatmap\":[{\"type\":\"heatmap\",\"colorbar\":{\"outlinewidth\":0,\"ticks\":\"\"},\"colorscale\":[[0.0,\"#0d0887\"],[0.1111111111111111,\"#46039f\"],[0.2222222222222222,\"#7201a8\"],[0.3333333333333333,\"#9c179e\"],[0.4444444444444444,\"#bd3786\"],[0.5555555555555556,\"#d8576b\"],[0.6666666666666666,\"#ed7953\"],[0.7777777777777778,\"#fb9f3a\"],[0.8888888888888888,\"#fdca26\"],[1.0,\"#f0f921\"]]}],\"heatmapgl\":[{\"type\":\"heatmapgl\",\"colorbar\":{\"outlinewidth\":0,\"ticks\":\"\"},\"colorscale\":[[0.0,\"#0d0887\"],[0.1111111111111111,\"#46039f\"],[0.2222222222222222,\"#7201a8\"],[0.3333333333333333,\"#9c179e\"],[0.4444444444444444,\"#bd3786\"],[0.5555555555555556,\"#d8576b\"],[0.6666666666666666,\"#ed7953\"],[0.7777777777777778,\"#fb9f3a\"],[0.8888888888888888,\"#fdca26\"],[1.0,\"#f0f921\"]]}],\"contourcarpet\":[{\"type\":\"contourcarpet\",\"colorbar\":{\"outlinewidth\":0,\"ticks\":\"\"}}],\"contour\":[{\"type\":\"contour\",\"colorbar\":{\"outlinewidth\":0,\"ticks\":\"\"},\"colorscale\":[[0.0,\"#0d0887\"],[0.1111111111111111,\"#46039f\"],[0.2222222222222222,\"#7201a8\"],[0.3333333333333333,\"#9c179e\"],[0.4444444444444444,\"#bd3786\"],[0.5555555555555556,\"#d8576b\"],[0.6666666666666666,\"#ed7953\"],[0.7777777777777778,\"#fb9f3a\"],[0.8888888888888888,\"#fdca26\"],[1.0,\"#f0f921\"]]}],\"surface\":[{\"type\":\"surface\",\"colorbar\":{\"outlinewidth\":0,\"ticks\":\"\"},\"colorscale\":[[0.0,\"#0d0887\"],[0.1111111111111111,\"#46039f\"],[0.2222222222222222,\"#7201a8\"],[0.3333333333333333,\"#9c179e\"],[0.4444444444444444,\"#bd3786\"],[0.5555555555555556,\"#d8576b\"],[0.6666666666666666,\"#ed7953\"],[0.7777777777777778,\"#fb9f3a\"],[0.8888888888888888,\"#fdca26\"],[1.0,\"#f0f921\"]]}],\"mesh3d\":[{\"type\":\"mesh3d\",\"colorbar\":{\"outlinewidth\":0,\"ticks\":\"\"}}],\"scatter\":[{\"fillpattern\":{\"fillmode\":\"overlay\",\"size\":10,\"solidity\":0.2},\"type\":\"scatter\"}],\"parcoords\":[{\"type\":\"parcoords\",\"line\":{\"colorbar\":{\"outlinewidth\":0,\"ticks\":\"\"}}}],\"scatterpolargl\":[{\"type\":\"scatterpolargl\",\"marker\":{\"colorbar\":{\"outlinewidth\":0,\"ticks\":\"\"}}}],\"bar\":[{\"error_x\":{\"color\":\"#2a3f5f\"},\"error_y\":{\"color\":\"#2a3f5f\"},\"marker\":{\"line\":{\"color\":\"#E5ECF6\",\"width\":0.5},\"pattern\":{\"fillmode\":\"overlay\",\"size\":10,\"solidity\":0.2}},\"type\":\"bar\"}],\"scattergeo\":[{\"type\":\"scattergeo\",\"marker\":{\"colorbar\":{\"outlinewidth\":0,\"ticks\":\"\"}}}],\"scatterpolar\":[{\"type\":\"scatterpolar\",\"marker\":{\"colorbar\":{\"outlinewidth\":0,\"ticks\":\"\"}}}],\"histogram\":[{\"marker\":{\"pattern\":{\"fillmode\":\"overlay\",\"size\":10,\"solidity\":0.2}},\"type\":\"histogram\"}],\"scattergl\":[{\"type\":\"scattergl\",\"marker\":{\"colorbar\":{\"outlinewidth\":0,\"ticks\":\"\"}}}],\"scatter3d\":[{\"type\":\"scatter3d\",\"line\":{\"colorbar\":{\"outlinewidth\":0,\"ticks\":\"\"}},\"marker\":{\"colorbar\":{\"outlinewidth\":0,\"ticks\":\"\"}}}],\"scattermapbox\":[{\"type\":\"scattermapbox\",\"marker\":{\"colorbar\":{\"outlinewidth\":0,\"ticks\":\"\"}}}],\"scatterternary\":[{\"type\":\"scatterternary\",\"marker\":{\"colorbar\":{\"outlinewidth\":0,\"ticks\":\"\"}}}],\"scattercarpet\":[{\"type\":\"scattercarpet\",\"marker\":{\"colorbar\":{\"outlinewidth\":0,\"ticks\":\"\"}}}],\"carpet\":[{\"aaxis\":{\"endlinecolor\":\"#2a3f5f\",\"gridcolor\":\"white\",\"linecolor\":\"white\",\"minorgridcolor\":\"white\",\"startlinecolor\":\"#2a3f5f\"},\"baxis\":{\"endlinecolor\":\"#2a3f5f\",\"gridcolor\":\"white\",\"linecolor\":\"white\",\"minorgridcolor\":\"white\",\"startlinecolor\":\"#2a3f5f\"},\"type\":\"carpet\"}],\"table\":[{\"cells\":{\"fill\":{\"color\":\"#EBF0F8\"},\"line\":{\"color\":\"white\"}},\"header\":{\"fill\":{\"color\":\"#C8D4E3\"},\"line\":{\"color\":\"white\"}},\"type\":\"table\"}],\"barpolar\":[{\"marker\":{\"line\":{\"color\":\"#E5ECF6\",\"width\":0.5},\"pattern\":{\"fillmode\":\"overlay\",\"size\":10,\"solidity\":0.2}},\"type\":\"barpolar\"}],\"pie\":[{\"automargin\":true,\"type\":\"pie\"}]},\"layout\":{\"autotypenumbers\":\"strict\",\"colorway\":[\"#636efa\",\"#EF553B\",\"#00cc96\",\"#ab63fa\",\"#FFA15A\",\"#19d3f3\",\"#FF6692\",\"#B6E880\",\"#FF97FF\",\"#FECB52\"],\"font\":{\"color\":\"#2a3f5f\"},\"hovermode\":\"closest\",\"hoverlabel\":{\"align\":\"left\"},\"paper_bgcolor\":\"white\",\"plot_bgcolor\":\"#E5ECF6\",\"polar\":{\"bgcolor\":\"#E5ECF6\",\"angularaxis\":{\"gridcolor\":\"white\",\"linecolor\":\"white\",\"ticks\":\"\"},\"radialaxis\":{\"gridcolor\":\"white\",\"linecolor\":\"white\",\"ticks\":\"\"}},\"ternary\":{\"bgcolor\":\"#E5ECF6\",\"aaxis\":{\"gridcolor\":\"white\",\"linecolor\":\"white\",\"ticks\":\"\"},\"baxis\":{\"gridcolor\":\"white\",\"linecolor\":\"white\",\"ticks\":\"\"},\"caxis\":{\"gridcolor\":\"white\",\"linecolor\":\"white\",\"ticks\":\"\"}},\"coloraxis\":{\"colorbar\":{\"outlinewidth\":0,\"ticks\":\"\"}},\"colorscale\":{\"sequential\":[[0.0,\"#0d0887\"],[0.1111111111111111,\"#46039f\"],[0.2222222222222222,\"#7201a8\"],[0.3333333333333333,\"#9c179e\"],[0.4444444444444444,\"#bd3786\"],[0.5555555555555556,\"#d8576b\"],[0.6666666666666666,\"#ed7953\"],[0.7777777777777778,\"#fb9f3a\"],[0.8888888888888888,\"#fdca26\"],[1.0,\"#f0f921\"]],\"sequentialminus\":[[0.0,\"#0d0887\"],[0.1111111111111111,\"#46039f\"],[0.2222222222222222,\"#7201a8\"],[0.3333333333333333,\"#9c179e\"],[0.4444444444444444,\"#bd3786\"],[0.5555555555555556,\"#d8576b\"],[0.6666666666666666,\"#ed7953\"],[0.7777777777777778,\"#fb9f3a\"],[0.8888888888888888,\"#fdca26\"],[1.0,\"#f0f921\"]],\"diverging\":[[0,\"#8e0152\"],[0.1,\"#c51b7d\"],[0.2,\"#de77ae\"],[0.3,\"#f1b6da\"],[0.4,\"#fde0ef\"],[0.5,\"#f7f7f7\"],[0.6,\"#e6f5d0\"],[0.7,\"#b8e186\"],[0.8,\"#7fbc41\"],[0.9,\"#4d9221\"],[1,\"#276419\"]]},\"xaxis\":{\"gridcolor\":\"white\",\"linecolor\":\"white\",\"ticks\":\"\",\"title\":{\"standoff\":15},\"zerolinecolor\":\"white\",\"automargin\":true,\"zerolinewidth\":2},\"yaxis\":{\"gridcolor\":\"white\",\"linecolor\":\"white\",\"ticks\":\"\",\"title\":{\"standoff\":15},\"zerolinecolor\":\"white\",\"automargin\":true,\"zerolinewidth\":2},\"scene\":{\"xaxis\":{\"backgroundcolor\":\"#E5ECF6\",\"gridcolor\":\"white\",\"linecolor\":\"white\",\"showbackground\":true,\"ticks\":\"\",\"zerolinecolor\":\"white\",\"gridwidth\":2},\"yaxis\":{\"backgroundcolor\":\"#E5ECF6\",\"gridcolor\":\"white\",\"linecolor\":\"white\",\"showbackground\":true,\"ticks\":\"\",\"zerolinecolor\":\"white\",\"gridwidth\":2},\"zaxis\":{\"backgroundcolor\":\"#E5ECF6\",\"gridcolor\":\"white\",\"linecolor\":\"white\",\"showbackground\":true,\"ticks\":\"\",\"zerolinecolor\":\"white\",\"gridwidth\":2}},\"shapedefaults\":{\"line\":{\"color\":\"#2a3f5f\"}},\"annotationdefaults\":{\"arrowcolor\":\"#2a3f5f\",\"arrowhead\":0,\"arrowwidth\":1},\"geo\":{\"bgcolor\":\"white\",\"landcolor\":\"#E5ECF6\",\"subunitcolor\":\"white\",\"showland\":true,\"showlakes\":true,\"lakecolor\":\"white\"},\"title\":{\"x\":0.05},\"mapbox\":{\"style\":\"light\"}}},\"legend\":{\"tracegroupgap\":0},\"margin\":{\"t\":60}},                        {\"responsive\": true}                    ).then(function(){\n",
       "                            \n",
       "var gd = document.getElementById('c53657a9-8072-4e94-8f11-b8656e915c27');\n",
       "var x = new MutationObserver(function (mutations, observer) {{\n",
       "        var display = window.getComputedStyle(gd).display;\n",
       "        if (!display || display === 'none') {{\n",
       "            console.log([gd, 'removed!']);\n",
       "            Plotly.purge(gd);\n",
       "            observer.disconnect();\n",
       "        }}\n",
       "}});\n",
       "\n",
       "// Listen for the removal of the full notebook cells\n",
       "var notebookContainer = gd.closest('#notebook-container');\n",
       "if (notebookContainer) {{\n",
       "    x.observe(notebookContainer, {childList: true});\n",
       "}}\n",
       "\n",
       "// Listen for the clearing of the current output cell\n",
       "var outputEl = gd.closest('.output');\n",
       "if (outputEl) {{\n",
       "    x.observe(outputEl, {childList: true});\n",
       "}}\n",
       "\n",
       "                        })                };                });            </script>        </div>"
      ]
     },
     "metadata": {},
     "output_type": "display_data"
    }
   ],
   "source": [
    "from sklearn.preprocessing import StandardScaler, MinMaxScaler\n",
    "\n",
    "scaler_ = MinMaxScaler()\n",
    "scaler_.fit(temp_init)\n",
    "temp_init_scaled_ = scaler_.transform(temp_init)\n",
    "\n",
    "import plotly.express as px\n",
    "fig = px.scatter_matrix(temp_init,width=1200, height=1600)\n",
    "fig.show()\n",
    "\n",
    "fig1 = px.scatter(temp_init, x=\"step_count\", y=\"waist_bmi\",color=\"height\",size=\"eat_calory\")\n",
    "fig1.update_layout(title=\"3 Features Representation\")\n",
    "fig1.show()\n",
    "\n",
    "fig2 = px.scatter_3d(temp_init, x=\"eat_calory\", y=\"weight\",z='grade', color=\"burned calory\",size=\"eat_calory\")\n",
    "fig2.update_layout(title=\"3 Features Representation\")\n",
    "fig2.show()\n",
    "\n",
    "temp_init.columns\n",
    "\n",
    "kmeans = KMeans(\n",
    "        n_clusters=3, init=\"k-means++\",\n",
    "        n_init=10,\n",
    "        tol=1e-04, random_state=42\n",
    "    )\n",
    "kmeans.fit(temp_init_scaled_)\n",
    "clusters=pd.DataFrame(temp_init_scaled_,columns=temp_init.columns)\n",
    "clusters['label']=kmeans.labels_\n",
    "polar=clusters.groupby(\"label\").mean().reset_index()\n",
    "polar=pd.melt(polar,id_vars=[\"label\"])\n",
    "fig4 = px.line_polar(polar, r=\"value\", theta=\"variable\", color=\"label\", line_close=True,height=800,width=1400)\n",
    "fig4.show()\n",
    "\n",
    "pie=clusters.groupby('label').size().reset_index()\n",
    "pie.columns=['label','value']\n",
    "px.pie(pie,values='value',names='label',color=['blue','red','green'])"
   ]
  },
  {
   "cell_type": "code",
   "execution_count": 223,
   "id": "a0d75cbc-7b6c-4886-99ee-6a67569bfef6",
   "metadata": {},
   "outputs": [
    {
     "data": {
      "text/html": [
       "<div>\n",
       "<style scoped>\n",
       "    .dataframe tbody tr th:only-of-type {\n",
       "        vertical-align: middle;\n",
       "    }\n",
       "\n",
       "    .dataframe tbody tr th {\n",
       "        vertical-align: top;\n",
       "    }\n",
       "\n",
       "    .dataframe thead th {\n",
       "        text-align: right;\n",
       "    }\n",
       "</style>\n",
       "<table border=\"1\" class=\"dataframe\">\n",
       "  <thead>\n",
       "    <tr style=\"text-align: right;\">\n",
       "      <th></th>\n",
       "      <th>gender</th>\n",
       "      <th>grade</th>\n",
       "      <th>height</th>\n",
       "      <th>weight</th>\n",
       "      <th>step_count</th>\n",
       "      <th>burned calory</th>\n",
       "      <th>eat_calory</th>\n",
       "      <th>Sleep_time</th>\n",
       "      <th>bmi</th>\n",
       "      <th>waist_bmi</th>\n",
       "      <th>label</th>\n",
       "    </tr>\n",
       "  </thead>\n",
       "  <tbody>\n",
       "    <tr>\n",
       "      <th>0</th>\n",
       "      <td>1.0</td>\n",
       "      <td>0.0</td>\n",
       "      <td>0.550102</td>\n",
       "      <td>0.320455</td>\n",
       "      <td>0.001912</td>\n",
       "      <td>0.013346</td>\n",
       "      <td>0.186849</td>\n",
       "      <td>0.009025</td>\n",
       "      <td>0.402047</td>\n",
       "      <td>0.320552</td>\n",
       "      <td>3</td>\n",
       "    </tr>\n",
       "    <tr>\n",
       "      <th>1</th>\n",
       "      <td>1.0</td>\n",
       "      <td>0.0</td>\n",
       "      <td>0.305044</td>\n",
       "      <td>0.062121</td>\n",
       "      <td>0.267646</td>\n",
       "      <td>0.013346</td>\n",
       "      <td>0.186849</td>\n",
       "      <td>0.009025</td>\n",
       "      <td>0.141443</td>\n",
       "      <td>0.087229</td>\n",
       "      <td>3</td>\n",
       "    </tr>\n",
       "    <tr>\n",
       "      <th>2</th>\n",
       "      <td>1.0</td>\n",
       "      <td>0.0</td>\n",
       "      <td>0.222904</td>\n",
       "      <td>0.075758</td>\n",
       "      <td>0.002655</td>\n",
       "      <td>0.013346</td>\n",
       "      <td>0.038739</td>\n",
       "      <td>0.009025</td>\n",
       "      <td>0.211350</td>\n",
       "      <td>0.083364</td>\n",
       "      <td>3</td>\n",
       "    </tr>\n",
       "    <tr>\n",
       "      <th>3</th>\n",
       "      <td>0.0</td>\n",
       "      <td>0.5</td>\n",
       "      <td>0.306748</td>\n",
       "      <td>0.118182</td>\n",
       "      <td>0.001779</td>\n",
       "      <td>0.013346</td>\n",
       "      <td>0.044367</td>\n",
       "      <td>0.577617</td>\n",
       "      <td>0.236524</td>\n",
       "      <td>0.200611</td>\n",
       "      <td>0</td>\n",
       "    </tr>\n",
       "    <tr>\n",
       "      <th>4</th>\n",
       "      <td>1.0</td>\n",
       "      <td>1.0</td>\n",
       "      <td>0.550102</td>\n",
       "      <td>0.227273</td>\n",
       "      <td>0.005311</td>\n",
       "      <td>0.013346</td>\n",
       "      <td>0.069412</td>\n",
       "      <td>0.577617</td>\n",
       "      <td>0.267145</td>\n",
       "      <td>0.219224</td>\n",
       "      <td>1</td>\n",
       "    </tr>\n",
       "    <tr>\n",
       "      <th>...</th>\n",
       "      <td>...</td>\n",
       "      <td>...</td>\n",
       "      <td>...</td>\n",
       "      <td>...</td>\n",
       "      <td>...</td>\n",
       "      <td>...</td>\n",
       "      <td>...</td>\n",
       "      <td>...</td>\n",
       "      <td>...</td>\n",
       "      <td>...</td>\n",
       "      <td>...</td>\n",
       "    </tr>\n",
       "    <tr>\n",
       "      <th>322</th>\n",
       "      <td>0.0</td>\n",
       "      <td>0.5</td>\n",
       "      <td>0.550102</td>\n",
       "      <td>0.181818</td>\n",
       "      <td>0.184981</td>\n",
       "      <td>0.147544</td>\n",
       "      <td>0.090798</td>\n",
       "      <td>0.669675</td>\n",
       "      <td>0.201339</td>\n",
       "      <td>0.148455</td>\n",
       "      <td>0</td>\n",
       "    </tr>\n",
       "    <tr>\n",
       "      <th>323</th>\n",
       "      <td>0.0</td>\n",
       "      <td>0.0</td>\n",
       "      <td>0.366053</td>\n",
       "      <td>0.318182</td>\n",
       "      <td>0.184981</td>\n",
       "      <td>0.147544</td>\n",
       "      <td>0.090798</td>\n",
       "      <td>0.669675</td>\n",
       "      <td>0.530719</td>\n",
       "      <td>0.367354</td>\n",
       "      <td>0</td>\n",
       "    </tr>\n",
       "    <tr>\n",
       "      <th>324</th>\n",
       "      <td>0.0</td>\n",
       "      <td>0.0</td>\n",
       "      <td>0.000000</td>\n",
       "      <td>0.000000</td>\n",
       "      <td>0.002390</td>\n",
       "      <td>0.089882</td>\n",
       "      <td>0.022700</td>\n",
       "      <td>0.244585</td>\n",
       "      <td>0.197971</td>\n",
       "      <td>0.077471</td>\n",
       "      <td>0</td>\n",
       "    </tr>\n",
       "    <tr>\n",
       "      <th>325</th>\n",
       "      <td>1.0</td>\n",
       "      <td>1.0</td>\n",
       "      <td>0.728016</td>\n",
       "      <td>0.362121</td>\n",
       "      <td>0.080222</td>\n",
       "      <td>0.051229</td>\n",
       "      <td>0.021574</td>\n",
       "      <td>0.585740</td>\n",
       "      <td>0.348937</td>\n",
       "      <td>0.351497</td>\n",
       "      <td>1</td>\n",
       "    </tr>\n",
       "    <tr>\n",
       "      <th>326</th>\n",
       "      <td>0.0</td>\n",
       "      <td>1.0</td>\n",
       "      <td>0.652352</td>\n",
       "      <td>0.666667</td>\n",
       "      <td>0.055845</td>\n",
       "      <td>0.058638</td>\n",
       "      <td>0.048119</td>\n",
       "      <td>0.591155</td>\n",
       "      <td>0.807370</td>\n",
       "      <td>0.649912</td>\n",
       "      <td>2</td>\n",
       "    </tr>\n",
       "  </tbody>\n",
       "</table>\n",
       "<p>327 rows × 11 columns</p>\n",
       "</div>"
      ],
      "text/plain": [
       "     gender  grade    height    weight  step_count  burned calory  eat_calory  \\\n",
       "0       1.0    0.0  0.550102  0.320455    0.001912       0.013346    0.186849   \n",
       "1       1.0    0.0  0.305044  0.062121    0.267646       0.013346    0.186849   \n",
       "2       1.0    0.0  0.222904  0.075758    0.002655       0.013346    0.038739   \n",
       "3       0.0    0.5  0.306748  0.118182    0.001779       0.013346    0.044367   \n",
       "4       1.0    1.0  0.550102  0.227273    0.005311       0.013346    0.069412   \n",
       "..      ...    ...       ...       ...         ...            ...         ...   \n",
       "322     0.0    0.5  0.550102  0.181818    0.184981       0.147544    0.090798   \n",
       "323     0.0    0.0  0.366053  0.318182    0.184981       0.147544    0.090798   \n",
       "324     0.0    0.0  0.000000  0.000000    0.002390       0.089882    0.022700   \n",
       "325     1.0    1.0  0.728016  0.362121    0.080222       0.051229    0.021574   \n",
       "326     0.0    1.0  0.652352  0.666667    0.055845       0.058638    0.048119   \n",
       "\n",
       "     Sleep_time       bmi  waist_bmi  label  \n",
       "0      0.009025  0.402047   0.320552      3  \n",
       "1      0.009025  0.141443   0.087229      3  \n",
       "2      0.009025  0.211350   0.083364      3  \n",
       "3      0.577617  0.236524   0.200611      0  \n",
       "4      0.577617  0.267145   0.219224      1  \n",
       "..          ...       ...        ...    ...  \n",
       "322    0.669675  0.201339   0.148455      0  \n",
       "323    0.669675  0.530719   0.367354      0  \n",
       "324    0.244585  0.197971   0.077471      0  \n",
       "325    0.585740  0.348937   0.351497      1  \n",
       "326    0.591155  0.807370   0.649912      2  \n",
       "\n",
       "[327 rows x 11 columns]"
      ]
     },
     "execution_count": 223,
     "metadata": {},
     "output_type": "execute_result"
    }
   ],
   "source": [
    "clusters"
   ]
  },
  {
   "cell_type": "code",
   "execution_count": 224,
   "id": "88bb44e6-5b98-4c66-9dbd-81bd5ffc9161",
   "metadata": {},
   "outputs": [],
   "source": [
    "MinMax_clusters=clusters.iloc[:,0:13]"
   ]
  },
  {
   "cell_type": "code",
   "execution_count": 225,
   "id": "4980a345-d308-4190-81c5-d15461b02d18",
   "metadata": {},
   "outputs": [],
   "source": [
    "MinMax_clusters_label=clusters.iloc[:,-1]"
   ]
  },
  {
   "cell_type": "code",
   "execution_count": 226,
   "id": "7bed64f3-1c01-496d-a38f-51ca106334c5",
   "metadata": {},
   "outputs": [
    {
     "ename": "ValueError",
     "evalue": "operands could not be broadcast together with shapes (327,11) (10,) (327,11) ",
     "output_type": "error",
     "traceback": [
      "\u001b[1;31m---------------------------------------------------------------------------\u001b[0m",
      "\u001b[1;31mValueError\u001b[0m                                Traceback (most recent call last)",
      "\u001b[1;32m~\\AppData\\Local\\Temp\\ipykernel_11504\\2435608933.py\u001b[0m in \u001b[0;36m<module>\u001b[1;34m\u001b[0m\n\u001b[1;32m----> 1\u001b[1;33m \u001b[0mreal_clusters\u001b[0m\u001b[1;33m=\u001b[0m\u001b[0mscaler_\u001b[0m\u001b[1;33m.\u001b[0m\u001b[0minverse_transform\u001b[0m\u001b[1;33m(\u001b[0m\u001b[0mMinMax_clusters\u001b[0m\u001b[1;33m)\u001b[0m\u001b[1;33m\u001b[0m\u001b[1;33m\u001b[0m\u001b[0m\n\u001b[0m",
      "\u001b[1;32m~\\Anaconda3\\envs\\jm\\lib\\site-packages\\sklearn\\preprocessing\\_data.py\u001b[0m in \u001b[0;36minverse_transform\u001b[1;34m(self, X)\u001b[0m\n\u001b[0;32m    527\u001b[0m         )\n\u001b[0;32m    528\u001b[0m \u001b[1;33m\u001b[0m\u001b[0m\n\u001b[1;32m--> 529\u001b[1;33m         \u001b[0mX\u001b[0m \u001b[1;33m-=\u001b[0m \u001b[0mself\u001b[0m\u001b[1;33m.\u001b[0m\u001b[0mmin_\u001b[0m\u001b[1;33m\u001b[0m\u001b[1;33m\u001b[0m\u001b[0m\n\u001b[0m\u001b[0;32m    530\u001b[0m         \u001b[0mX\u001b[0m \u001b[1;33m/=\u001b[0m \u001b[0mself\u001b[0m\u001b[1;33m.\u001b[0m\u001b[0mscale_\u001b[0m\u001b[1;33m\u001b[0m\u001b[1;33m\u001b[0m\u001b[0m\n\u001b[0;32m    531\u001b[0m         \u001b[1;32mreturn\u001b[0m \u001b[0mX\u001b[0m\u001b[1;33m\u001b[0m\u001b[1;33m\u001b[0m\u001b[0m\n",
      "\u001b[1;31mValueError\u001b[0m: operands could not be broadcast together with shapes (327,11) (10,) (327,11) "
     ]
    }
   ],
   "source": [
    "real_clusters=scaler_.inverse_transform(MinMax_clusters)"
   ]
  },
  {
   "cell_type": "code",
   "execution_count": 121,
   "id": "e81b7993-960a-44ce-a3bf-5baec66074ea",
   "metadata": {},
   "outputs": [],
   "source": [
    "df = pd.DataFrame(real_clusters, columns=['gender', 'grade', 'height', 'weight', 'step_count', 'burned calory',\n",
    "       'eat_calory', 'Sleep_time', 'bmi', 'waist_bmi', 'cluster', 'pca_x',\n",
    "       'pca_y'])\n",
    "result_df = pd.concat([df, MinMax_clusters_label], axis=1)"
   ]
  },
  {
   "cell_type": "code",
   "execution_count": 122,
   "id": "12f46b93",
   "metadata": {},
   "outputs": [],
   "source": [
    "result_df = pd.concat([result_df, df_init['ID']], axis=1)"
   ]
  },
  {
   "cell_type": "code",
   "execution_count": 123,
   "id": "c10c5afd",
   "metadata": {},
   "outputs": [
    {
     "data": {
      "text/html": [
       "<div>\n",
       "<style scoped>\n",
       "    .dataframe tbody tr th:only-of-type {\n",
       "        vertical-align: middle;\n",
       "    }\n",
       "\n",
       "    .dataframe tbody tr th {\n",
       "        vertical-align: top;\n",
       "    }\n",
       "\n",
       "    .dataframe thead th {\n",
       "        text-align: right;\n",
       "    }\n",
       "</style>\n",
       "<table border=\"1\" class=\"dataframe\">\n",
       "  <thead>\n",
       "    <tr style=\"text-align: right;\">\n",
       "      <th></th>\n",
       "      <th>ID</th>\n",
       "      <th>collect_datetime</th>\n",
       "      <th>gender</th>\n",
       "      <th>grade</th>\n",
       "      <th>height</th>\n",
       "      <th>weight</th>\n",
       "      <th>step_count</th>\n",
       "      <th>burned calory</th>\n",
       "      <th>eat_calory</th>\n",
       "      <th>Sleep_time</th>\n",
       "      <th>before_height</th>\n",
       "      <th>before_weight</th>\n",
       "      <th>before_waist</th>\n",
       "      <th>after_height</th>\n",
       "      <th>after_weight</th>\n",
       "      <th>after_waist</th>\n",
       "      <th>bmi</th>\n",
       "      <th>waist_bmi</th>\n",
       "    </tr>\n",
       "  </thead>\n",
       "  <tbody>\n",
       "    <tr>\n",
       "      <th>0</th>\n",
       "      <td>#AAGQKY</td>\n",
       "      <td>2022-07-14</td>\n",
       "      <td>2.0</td>\n",
       "      <td>4.0</td>\n",
       "      <td>148.000000</td>\n",
       "      <td>45.15</td>\n",
       "      <td>72.0</td>\n",
       "      <td>8.877</td>\n",
       "      <td>2000.0</td>\n",
       "      <td>12.0</td>\n",
       "      <td>148.0</td>\n",
       "      <td>45.30</td>\n",
       "      <td>-</td>\n",
       "      <td>148.0</td>\n",
       "      <td>45.0</td>\n",
       "      <td>NaN</td>\n",
       "      <td>20.612673</td>\n",
       "      <td>0.306081</td>\n",
       "    </tr>\n",
       "    <tr>\n",
       "      <th>1</th>\n",
       "      <td>#ACGRQP</td>\n",
       "      <td>2022-07-14</td>\n",
       "      <td>2.0</td>\n",
       "      <td>4.0</td>\n",
       "      <td>136.016667</td>\n",
       "      <td>28.10</td>\n",
       "      <td>10079.0</td>\n",
       "      <td>8.877</td>\n",
       "      <td>2000.0</td>\n",
       "      <td>12.0</td>\n",
       "      <td>136.8</td>\n",
       "      <td>28.30</td>\n",
       "      <td>55</td>\n",
       "      <td>137.7</td>\n",
       "      <td>30.3</td>\n",
       "      <td>NaN</td>\n",
       "      <td>15.188751</td>\n",
       "      <td>0.208063</td>\n",
       "    </tr>\n",
       "    <tr>\n",
       "      <th>2</th>\n",
       "      <td>#AEGMOD</td>\n",
       "      <td>2022-07-14</td>\n",
       "      <td>2.0</td>\n",
       "      <td>4.0</td>\n",
       "      <td>132.000000</td>\n",
       "      <td>29.00</td>\n",
       "      <td>100.0</td>\n",
       "      <td>8.877</td>\n",
       "      <td>421.0</td>\n",
       "      <td>12.0</td>\n",
       "      <td>133.3</td>\n",
       "      <td>27.25</td>\n",
       "      <td>58</td>\n",
       "      <td>135.5</td>\n",
       "      <td>29.6</td>\n",
       "      <td>NaN</td>\n",
       "      <td>16.643710</td>\n",
       "      <td>0.206439</td>\n",
       "    </tr>\n",
       "    <tr>\n",
       "      <th>3</th>\n",
       "      <td>#AJXZPA</td>\n",
       "      <td>2022-07-14</td>\n",
       "      <td>1.0</td>\n",
       "      <td>5.0</td>\n",
       "      <td>136.100000</td>\n",
       "      <td>31.80</td>\n",
       "      <td>67.0</td>\n",
       "      <td>8.877</td>\n",
       "      <td>481.0</td>\n",
       "      <td>432.0</td>\n",
       "      <td>142.9</td>\n",
       "      <td>34.80</td>\n",
       "      <td>51.5</td>\n",
       "      <td>145.6</td>\n",
       "      <td>37.8</td>\n",
       "      <td>60.0</td>\n",
       "      <td>17.167651</td>\n",
       "      <td>0.255694</td>\n",
       "    </tr>\n",
       "    <tr>\n",
       "      <th>4</th>\n",
       "      <td>#ALZXWR</td>\n",
       "      <td>2022-07-14</td>\n",
       "      <td>2.0</td>\n",
       "      <td>6.0</td>\n",
       "      <td>148.000000</td>\n",
       "      <td>39.00</td>\n",
       "      <td>200.0</td>\n",
       "      <td>8.877</td>\n",
       "      <td>748.0</td>\n",
       "      <td>432.0</td>\n",
       "      <td>148.0</td>\n",
       "      <td>39.00</td>\n",
       "      <td>-</td>\n",
       "      <td>NaN</td>\n",
       "      <td>NaN</td>\n",
       "      <td>NaN</td>\n",
       "      <td>17.804967</td>\n",
       "      <td>0.263514</td>\n",
       "    </tr>\n",
       "    <tr>\n",
       "      <th>...</th>\n",
       "      <td>...</td>\n",
       "      <td>...</td>\n",
       "      <td>...</td>\n",
       "      <td>...</td>\n",
       "      <td>...</td>\n",
       "      <td>...</td>\n",
       "      <td>...</td>\n",
       "      <td>...</td>\n",
       "      <td>...</td>\n",
       "      <td>...</td>\n",
       "      <td>...</td>\n",
       "      <td>...</td>\n",
       "      <td>...</td>\n",
       "      <td>...</td>\n",
       "      <td>...</td>\n",
       "      <td>...</td>\n",
       "      <td>...</td>\n",
       "      <td>...</td>\n",
       "    </tr>\n",
       "    <tr>\n",
       "      <th>322</th>\n",
       "      <td>#ZNRYPQ</td>\n",
       "      <td>2022-07-14</td>\n",
       "      <td>1.0</td>\n",
       "      <td>5.0</td>\n",
       "      <td>148.000000</td>\n",
       "      <td>36.00</td>\n",
       "      <td>6966.0</td>\n",
       "      <td>97.573</td>\n",
       "      <td>976.0</td>\n",
       "      <td>500.0</td>\n",
       "      <td>147.5</td>\n",
       "      <td>34.60</td>\n",
       "      <td>51</td>\n",
       "      <td>148.1</td>\n",
       "      <td>34.3</td>\n",
       "      <td>61.0</td>\n",
       "      <td>16.435354</td>\n",
       "      <td>0.233784</td>\n",
       "    </tr>\n",
       "    <tr>\n",
       "      <th>323</th>\n",
       "      <td>#ZPZIGD</td>\n",
       "      <td>2022-07-14</td>\n",
       "      <td>1.0</td>\n",
       "      <td>4.0</td>\n",
       "      <td>139.000000</td>\n",
       "      <td>45.00</td>\n",
       "      <td>6966.0</td>\n",
       "      <td>97.573</td>\n",
       "      <td>976.0</td>\n",
       "      <td>500.0</td>\n",
       "      <td>NaN</td>\n",
       "      <td>NaN</td>\n",
       "      <td>NaN</td>\n",
       "      <td>NaN</td>\n",
       "      <td>NaN</td>\n",
       "      <td>NaN</td>\n",
       "      <td>23.290720</td>\n",
       "      <td>NaN</td>\n",
       "    </tr>\n",
       "    <tr>\n",
       "      <th>324</th>\n",
       "      <td>#ZRKRKP</td>\n",
       "      <td>2022-07-14</td>\n",
       "      <td>1.0</td>\n",
       "      <td>4.0</td>\n",
       "      <td>121.100000</td>\n",
       "      <td>24.00</td>\n",
       "      <td>90.0</td>\n",
       "      <td>59.462</td>\n",
       "      <td>250.0</td>\n",
       "      <td>186.0</td>\n",
       "      <td>125.3</td>\n",
       "      <td>24.70</td>\n",
       "      <td>57</td>\n",
       "      <td>126.8</td>\n",
       "      <td>26.2</td>\n",
       "      <td>NaN</td>\n",
       "      <td>16.365262</td>\n",
       "      <td>0.203964</td>\n",
       "    </tr>\n",
       "    <tr>\n",
       "      <th>325</th>\n",
       "      <td>#ZWOHRX</td>\n",
       "      <td>2022-07-14</td>\n",
       "      <td>2.0</td>\n",
       "      <td>6.0</td>\n",
       "      <td>156.700000</td>\n",
       "      <td>47.90</td>\n",
       "      <td>3021.0</td>\n",
       "      <td>33.915</td>\n",
       "      <td>238.0</td>\n",
       "      <td>438.0</td>\n",
       "      <td>156.4</td>\n",
       "      <td>50.00</td>\n",
       "      <td>66</td>\n",
       "      <td>158.2</td>\n",
       "      <td>48.8</td>\n",
       "      <td>62.3</td>\n",
       "      <td>19.507316</td>\n",
       "      <td>0.319081</td>\n",
       "    </tr>\n",
       "    <tr>\n",
       "      <th>326</th>\n",
       "      <td>#ZZLSSL</td>\n",
       "      <td>2022-07-14</td>\n",
       "      <td>1.0</td>\n",
       "      <td>6.0</td>\n",
       "      <td>153.000000</td>\n",
       "      <td>68.00</td>\n",
       "      <td>2103.0</td>\n",
       "      <td>38.812</td>\n",
       "      <td>521.0</td>\n",
       "      <td>442.0</td>\n",
       "      <td>153.0</td>\n",
       "      <td>68.00</td>\n",
       "      <td>-</td>\n",
       "      <td>164.2</td>\n",
       "      <td>69.1</td>\n",
       "      <td>91.1</td>\n",
       "      <td>29.048656</td>\n",
       "      <td>0.444444</td>\n",
       "    </tr>\n",
       "  </tbody>\n",
       "</table>\n",
       "<p>327 rows × 18 columns</p>\n",
       "</div>"
      ],
      "text/plain": [
       "          ID collect_datetime  gender  grade      height  weight  step_count  \\\n",
       "0    #AAGQKY       2022-07-14     2.0    4.0  148.000000   45.15        72.0   \n",
       "1    #ACGRQP       2022-07-14     2.0    4.0  136.016667   28.10     10079.0   \n",
       "2    #AEGMOD       2022-07-14     2.0    4.0  132.000000   29.00       100.0   \n",
       "3    #AJXZPA       2022-07-14     1.0    5.0  136.100000   31.80        67.0   \n",
       "4    #ALZXWR       2022-07-14     2.0    6.0  148.000000   39.00       200.0   \n",
       "..       ...              ...     ...    ...         ...     ...         ...   \n",
       "322  #ZNRYPQ       2022-07-14     1.0    5.0  148.000000   36.00      6966.0   \n",
       "323  #ZPZIGD       2022-07-14     1.0    4.0  139.000000   45.00      6966.0   \n",
       "324  #ZRKRKP       2022-07-14     1.0    4.0  121.100000   24.00        90.0   \n",
       "325  #ZWOHRX       2022-07-14     2.0    6.0  156.700000   47.90      3021.0   \n",
       "326  #ZZLSSL       2022-07-14     1.0    6.0  153.000000   68.00      2103.0   \n",
       "\n",
       "     burned calory  eat_calory  Sleep_time  before_height  before_weight  \\\n",
       "0            8.877      2000.0        12.0          148.0          45.30   \n",
       "1            8.877      2000.0        12.0          136.8          28.30   \n",
       "2            8.877       421.0        12.0          133.3          27.25   \n",
       "3            8.877       481.0       432.0          142.9          34.80   \n",
       "4            8.877       748.0       432.0          148.0          39.00   \n",
       "..             ...         ...         ...            ...            ...   \n",
       "322         97.573       976.0       500.0          147.5          34.60   \n",
       "323         97.573       976.0       500.0            NaN            NaN   \n",
       "324         59.462       250.0       186.0          125.3          24.70   \n",
       "325         33.915       238.0       438.0          156.4          50.00   \n",
       "326         38.812       521.0       442.0          153.0          68.00   \n",
       "\n",
       "    before_waist  after_height  after_weight  after_waist        bmi  \\\n",
       "0              -         148.0          45.0          NaN  20.612673   \n",
       "1             55         137.7          30.3          NaN  15.188751   \n",
       "2             58         135.5          29.6          NaN  16.643710   \n",
       "3           51.5         145.6          37.8         60.0  17.167651   \n",
       "4              -           NaN           NaN          NaN  17.804967   \n",
       "..           ...           ...           ...          ...        ...   \n",
       "322           51         148.1          34.3         61.0  16.435354   \n",
       "323          NaN           NaN           NaN          NaN  23.290720   \n",
       "324           57         126.8          26.2          NaN  16.365262   \n",
       "325           66         158.2          48.8         62.3  19.507316   \n",
       "326            -         164.2          69.1         91.1  29.048656   \n",
       "\n",
       "     waist_bmi  \n",
       "0     0.306081  \n",
       "1     0.208063  \n",
       "2     0.206439  \n",
       "3     0.255694  \n",
       "4     0.263514  \n",
       "..         ...  \n",
       "322   0.233784  \n",
       "323        NaN  \n",
       "324   0.203964  \n",
       "325   0.319081  \n",
       "326   0.444444  \n",
       "\n",
       "[327 rows x 18 columns]"
      ]
     },
     "execution_count": 123,
     "metadata": {},
     "output_type": "execute_result"
    }
   ],
   "source": [
    "df_init"
   ]
  },
  {
   "cell_type": "code",
   "execution_count": 124,
   "id": "8b73509e",
   "metadata": {},
   "outputs": [],
   "source": [
    "result_df.columns=['gender', 'grade', 'height', 'weight', 'step_count', 'burned calory',\n",
    "       'eat_calory', 'Sleep_time', 'bmi', 'waist_bmi', 'cluster', 'pca_x',\n",
    "       'pca_y', 'class_num','ID']"
   ]
  },
  {
   "cell_type": "code",
   "execution_count": 125,
   "id": "cee3da4f",
   "metadata": {},
   "outputs": [
    {
     "data": {
      "text/html": [
       "<div>\n",
       "<style scoped>\n",
       "    .dataframe tbody tr th:only-of-type {\n",
       "        vertical-align: middle;\n",
       "    }\n",
       "\n",
       "    .dataframe tbody tr th {\n",
       "        vertical-align: top;\n",
       "    }\n",
       "\n",
       "    .dataframe thead th {\n",
       "        text-align: right;\n",
       "    }\n",
       "</style>\n",
       "<table border=\"1\" class=\"dataframe\">\n",
       "  <thead>\n",
       "    <tr style=\"text-align: right;\">\n",
       "      <th></th>\n",
       "      <th>gender</th>\n",
       "      <th>grade</th>\n",
       "      <th>height</th>\n",
       "      <th>weight</th>\n",
       "      <th>step_count</th>\n",
       "      <th>burned calory</th>\n",
       "      <th>eat_calory</th>\n",
       "      <th>Sleep_time</th>\n",
       "      <th>bmi</th>\n",
       "      <th>waist_bmi</th>\n",
       "      <th>cluster</th>\n",
       "      <th>pca_x</th>\n",
       "      <th>pca_y</th>\n",
       "      <th>class_num</th>\n",
       "      <th>ID</th>\n",
       "    </tr>\n",
       "  </thead>\n",
       "  <tbody>\n",
       "    <tr>\n",
       "      <th>0</th>\n",
       "      <td>2.0</td>\n",
       "      <td>4.0</td>\n",
       "      <td>148.000000</td>\n",
       "      <td>45.15</td>\n",
       "      <td>72.0</td>\n",
       "      <td>8.877</td>\n",
       "      <td>2000.0</td>\n",
       "      <td>12.0</td>\n",
       "      <td>20.612673</td>\n",
       "      <td>0.306081</td>\n",
       "      <td>0.0</td>\n",
       "      <td>-3413.066736</td>\n",
       "      <td>1242.786835</td>\n",
       "      <td>2</td>\n",
       "      <td>#AAGQKY</td>\n",
       "    </tr>\n",
       "    <tr>\n",
       "      <th>1</th>\n",
       "      <td>2.0</td>\n",
       "      <td>4.0</td>\n",
       "      <td>136.016667</td>\n",
       "      <td>28.10</td>\n",
       "      <td>10079.0</td>\n",
       "      <td>8.877</td>\n",
       "      <td>2000.0</td>\n",
       "      <td>12.0</td>\n",
       "      <td>15.188751</td>\n",
       "      <td>0.208063</td>\n",
       "      <td>1.0</td>\n",
       "      <td>6593.881085</td>\n",
       "      <td>1225.132473</td>\n",
       "      <td>2</td>\n",
       "      <td>#ACGRQP</td>\n",
       "    </tr>\n",
       "    <tr>\n",
       "      <th>2</th>\n",
       "      <td>2.0</td>\n",
       "      <td>4.0</td>\n",
       "      <td>132.000000</td>\n",
       "      <td>29.00</td>\n",
       "      <td>100.0</td>\n",
       "      <td>8.877</td>\n",
       "      <td>421.0</td>\n",
       "      <td>12.0</td>\n",
       "      <td>16.643710</td>\n",
       "      <td>0.206439</td>\n",
       "      <td>0.0</td>\n",
       "      <td>-3387.875784</td>\n",
       "      <td>-336.251135</td>\n",
       "      <td>2</td>\n",
       "      <td>#AEGMOD</td>\n",
       "    </tr>\n",
       "    <tr>\n",
       "      <th>3</th>\n",
       "      <td>1.0</td>\n",
       "      <td>5.0</td>\n",
       "      <td>136.100000</td>\n",
       "      <td>31.80</td>\n",
       "      <td>67.0</td>\n",
       "      <td>8.877</td>\n",
       "      <td>481.0</td>\n",
       "      <td>432.0</td>\n",
       "      <td>17.167651</td>\n",
       "      <td>0.255694</td>\n",
       "      <td>0.0</td>\n",
       "      <td>-3421.745676</td>\n",
       "      <td>-274.484754</td>\n",
       "      <td>1</td>\n",
       "      <td>#AJXZPA</td>\n",
       "    </tr>\n",
       "    <tr>\n",
       "      <th>4</th>\n",
       "      <td>2.0</td>\n",
       "      <td>6.0</td>\n",
       "      <td>148.000000</td>\n",
       "      <td>39.00</td>\n",
       "      <td>200.0</td>\n",
       "      <td>8.877</td>\n",
       "      <td>748.0</td>\n",
       "      <td>432.0</td>\n",
       "      <td>17.804967</td>\n",
       "      <td>0.263514</td>\n",
       "      <td>0.0</td>\n",
       "      <td>-3288.269437</td>\n",
       "      <td>-7.712850</td>\n",
       "      <td>2</td>\n",
       "      <td>#ALZXWR</td>\n",
       "    </tr>\n",
       "    <tr>\n",
       "      <th>...</th>\n",
       "      <td>...</td>\n",
       "      <td>...</td>\n",
       "      <td>...</td>\n",
       "      <td>...</td>\n",
       "      <td>...</td>\n",
       "      <td>...</td>\n",
       "      <td>...</td>\n",
       "      <td>...</td>\n",
       "      <td>...</td>\n",
       "      <td>...</td>\n",
       "      <td>...</td>\n",
       "      <td>...</td>\n",
       "      <td>...</td>\n",
       "      <td>...</td>\n",
       "      <td>...</td>\n",
       "    </tr>\n",
       "    <tr>\n",
       "      <th>322</th>\n",
       "      <td>1.0</td>\n",
       "      <td>5.0</td>\n",
       "      <td>148.000000</td>\n",
       "      <td>36.00</td>\n",
       "      <td>6966.0</td>\n",
       "      <td>97.573</td>\n",
       "      <td>976.0</td>\n",
       "      <td>500.0</td>\n",
       "      <td>16.435354</td>\n",
       "      <td>0.233784</td>\n",
       "      <td>3.0</td>\n",
       "      <td>3478.036397</td>\n",
       "      <td>208.280594</td>\n",
       "      <td>3</td>\n",
       "      <td>#ZNRYPQ</td>\n",
       "    </tr>\n",
       "    <tr>\n",
       "      <th>323</th>\n",
       "      <td>1.0</td>\n",
       "      <td>4.0</td>\n",
       "      <td>139.000000</td>\n",
       "      <td>45.00</td>\n",
       "      <td>6966.0</td>\n",
       "      <td>97.573</td>\n",
       "      <td>976.0</td>\n",
       "      <td>500.0</td>\n",
       "      <td>23.290720</td>\n",
       "      <td>0.325742</td>\n",
       "      <td>3.0</td>\n",
       "      <td>3478.036096</td>\n",
       "      <td>208.276186</td>\n",
       "      <td>3</td>\n",
       "      <td>#ZPZIGD</td>\n",
       "    </tr>\n",
       "    <tr>\n",
       "      <th>324</th>\n",
       "      <td>1.0</td>\n",
       "      <td>4.0</td>\n",
       "      <td>121.100000</td>\n",
       "      <td>24.00</td>\n",
       "      <td>90.0</td>\n",
       "      <td>59.462</td>\n",
       "      <td>250.0</td>\n",
       "      <td>186.0</td>\n",
       "      <td>16.365262</td>\n",
       "      <td>0.203964</td>\n",
       "      <td>0.0</td>\n",
       "      <td>-3398.534261</td>\n",
       "      <td>-506.733735</td>\n",
       "      <td>1</td>\n",
       "      <td>#ZRKRKP</td>\n",
       "    </tr>\n",
       "    <tr>\n",
       "      <th>325</th>\n",
       "      <td>2.0</td>\n",
       "      <td>6.0</td>\n",
       "      <td>156.700000</td>\n",
       "      <td>47.90</td>\n",
       "      <td>3021.0</td>\n",
       "      <td>33.915</td>\n",
       "      <td>238.0</td>\n",
       "      <td>438.0</td>\n",
       "      <td>19.507316</td>\n",
       "      <td>0.319081</td>\n",
       "      <td>0.0</td>\n",
       "      <td>-468.174687</td>\n",
       "      <td>-522.741862</td>\n",
       "      <td>2</td>\n",
       "      <td>#ZWOHRX</td>\n",
       "    </tr>\n",
       "    <tr>\n",
       "      <th>326</th>\n",
       "      <td>1.0</td>\n",
       "      <td>6.0</td>\n",
       "      <td>153.000000</td>\n",
       "      <td>68.00</td>\n",
       "      <td>2103.0</td>\n",
       "      <td>38.812</td>\n",
       "      <td>521.0</td>\n",
       "      <td>442.0</td>\n",
       "      <td>29.048656</td>\n",
       "      <td>0.444444</td>\n",
       "      <td>0.0</td>\n",
       "      <td>-1385.670007</td>\n",
       "      <td>-238.128918</td>\n",
       "      <td>1</td>\n",
       "      <td>#ZZLSSL</td>\n",
       "    </tr>\n",
       "  </tbody>\n",
       "</table>\n",
       "<p>327 rows × 15 columns</p>\n",
       "</div>"
      ],
      "text/plain": [
       "     gender  grade      height  weight  step_count  burned calory  eat_calory  \\\n",
       "0       2.0    4.0  148.000000   45.15        72.0          8.877      2000.0   \n",
       "1       2.0    4.0  136.016667   28.10     10079.0          8.877      2000.0   \n",
       "2       2.0    4.0  132.000000   29.00       100.0          8.877       421.0   \n",
       "3       1.0    5.0  136.100000   31.80        67.0          8.877       481.0   \n",
       "4       2.0    6.0  148.000000   39.00       200.0          8.877       748.0   \n",
       "..      ...    ...         ...     ...         ...            ...         ...   \n",
       "322     1.0    5.0  148.000000   36.00      6966.0         97.573       976.0   \n",
       "323     1.0    4.0  139.000000   45.00      6966.0         97.573       976.0   \n",
       "324     1.0    4.0  121.100000   24.00        90.0         59.462       250.0   \n",
       "325     2.0    6.0  156.700000   47.90      3021.0         33.915       238.0   \n",
       "326     1.0    6.0  153.000000   68.00      2103.0         38.812       521.0   \n",
       "\n",
       "     Sleep_time        bmi  waist_bmi  cluster        pca_x        pca_y  \\\n",
       "0          12.0  20.612673   0.306081      0.0 -3413.066736  1242.786835   \n",
       "1          12.0  15.188751   0.208063      1.0  6593.881085  1225.132473   \n",
       "2          12.0  16.643710   0.206439      0.0 -3387.875784  -336.251135   \n",
       "3         432.0  17.167651   0.255694      0.0 -3421.745676  -274.484754   \n",
       "4         432.0  17.804967   0.263514      0.0 -3288.269437    -7.712850   \n",
       "..          ...        ...        ...      ...          ...          ...   \n",
       "322       500.0  16.435354   0.233784      3.0  3478.036397   208.280594   \n",
       "323       500.0  23.290720   0.325742      3.0  3478.036096   208.276186   \n",
       "324       186.0  16.365262   0.203964      0.0 -3398.534261  -506.733735   \n",
       "325       438.0  19.507316   0.319081      0.0  -468.174687  -522.741862   \n",
       "326       442.0  29.048656   0.444444      0.0 -1385.670007  -238.128918   \n",
       "\n",
       "     class_num       ID  \n",
       "0            2  #AAGQKY  \n",
       "1            2  #ACGRQP  \n",
       "2            2  #AEGMOD  \n",
       "3            1  #AJXZPA  \n",
       "4            2  #ALZXWR  \n",
       "..         ...      ...  \n",
       "322          3  #ZNRYPQ  \n",
       "323          3  #ZPZIGD  \n",
       "324          1  #ZRKRKP  \n",
       "325          2  #ZWOHRX  \n",
       "326          1  #ZZLSSL  \n",
       "\n",
       "[327 rows x 15 columns]"
      ]
     },
     "execution_count": 125,
     "metadata": {},
     "output_type": "execute_result"
    }
   ],
   "source": [
    "result_df"
   ]
  },
  {
   "cell_type": "code",
   "execution_count": 126,
   "id": "7c18d4c9",
   "metadata": {},
   "outputs": [],
   "source": [
    "result_df=result_df[['ID','gender', 'grade', 'height', 'weight', 'step_count', 'burned calory',\n",
    "       'eat_calory', 'Sleep_time', 'bmi', 'waist_bmi', 'cluster', 'pca_x',\n",
    "       'pca_y', 'class_num']]"
   ]
  },
  {
   "cell_type": "code",
   "execution_count": 127,
   "id": "3ea89db7-bf9f-441c-a307-850fe6cd5f26",
   "metadata": {},
   "outputs": [
    {
     "data": {
      "text/html": [
       "<div>\n",
       "<style scoped>\n",
       "    .dataframe tbody tr th:only-of-type {\n",
       "        vertical-align: middle;\n",
       "    }\n",
       "\n",
       "    .dataframe tbody tr th {\n",
       "        vertical-align: top;\n",
       "    }\n",
       "\n",
       "    .dataframe thead th {\n",
       "        text-align: right;\n",
       "    }\n",
       "</style>\n",
       "<table border=\"1\" class=\"dataframe\">\n",
       "  <thead>\n",
       "    <tr style=\"text-align: right;\">\n",
       "      <th></th>\n",
       "      <th>ID</th>\n",
       "      <th>gender</th>\n",
       "      <th>grade</th>\n",
       "      <th>height</th>\n",
       "      <th>weight</th>\n",
       "      <th>step_count</th>\n",
       "      <th>burned calory</th>\n",
       "      <th>eat_calory</th>\n",
       "      <th>Sleep_time</th>\n",
       "      <th>bmi</th>\n",
       "      <th>waist_bmi</th>\n",
       "      <th>cluster</th>\n",
       "      <th>pca_x</th>\n",
       "      <th>pca_y</th>\n",
       "      <th>class_num</th>\n",
       "    </tr>\n",
       "  </thead>\n",
       "  <tbody>\n",
       "    <tr>\n",
       "      <th>0</th>\n",
       "      <td>#AAGQKY</td>\n",
       "      <td>2.0</td>\n",
       "      <td>4.0</td>\n",
       "      <td>148.000000</td>\n",
       "      <td>45.15</td>\n",
       "      <td>72.0</td>\n",
       "      <td>8.877</td>\n",
       "      <td>2000.0</td>\n",
       "      <td>12.0</td>\n",
       "      <td>20.612673</td>\n",
       "      <td>0.306081</td>\n",
       "      <td>0.0</td>\n",
       "      <td>-3413.066736</td>\n",
       "      <td>1242.786835</td>\n",
       "      <td>2</td>\n",
       "    </tr>\n",
       "    <tr>\n",
       "      <th>1</th>\n",
       "      <td>#ACGRQP</td>\n",
       "      <td>2.0</td>\n",
       "      <td>4.0</td>\n",
       "      <td>136.016667</td>\n",
       "      <td>28.10</td>\n",
       "      <td>10079.0</td>\n",
       "      <td>8.877</td>\n",
       "      <td>2000.0</td>\n",
       "      <td>12.0</td>\n",
       "      <td>15.188751</td>\n",
       "      <td>0.208063</td>\n",
       "      <td>1.0</td>\n",
       "      <td>6593.881085</td>\n",
       "      <td>1225.132473</td>\n",
       "      <td>2</td>\n",
       "    </tr>\n",
       "    <tr>\n",
       "      <th>2</th>\n",
       "      <td>#AEGMOD</td>\n",
       "      <td>2.0</td>\n",
       "      <td>4.0</td>\n",
       "      <td>132.000000</td>\n",
       "      <td>29.00</td>\n",
       "      <td>100.0</td>\n",
       "      <td>8.877</td>\n",
       "      <td>421.0</td>\n",
       "      <td>12.0</td>\n",
       "      <td>16.643710</td>\n",
       "      <td>0.206439</td>\n",
       "      <td>0.0</td>\n",
       "      <td>-3387.875784</td>\n",
       "      <td>-336.251135</td>\n",
       "      <td>2</td>\n",
       "    </tr>\n",
       "    <tr>\n",
       "      <th>3</th>\n",
       "      <td>#AJXZPA</td>\n",
       "      <td>1.0</td>\n",
       "      <td>5.0</td>\n",
       "      <td>136.100000</td>\n",
       "      <td>31.80</td>\n",
       "      <td>67.0</td>\n",
       "      <td>8.877</td>\n",
       "      <td>481.0</td>\n",
       "      <td>432.0</td>\n",
       "      <td>17.167651</td>\n",
       "      <td>0.255694</td>\n",
       "      <td>0.0</td>\n",
       "      <td>-3421.745676</td>\n",
       "      <td>-274.484754</td>\n",
       "      <td>1</td>\n",
       "    </tr>\n",
       "    <tr>\n",
       "      <th>4</th>\n",
       "      <td>#ALZXWR</td>\n",
       "      <td>2.0</td>\n",
       "      <td>6.0</td>\n",
       "      <td>148.000000</td>\n",
       "      <td>39.00</td>\n",
       "      <td>200.0</td>\n",
       "      <td>8.877</td>\n",
       "      <td>748.0</td>\n",
       "      <td>432.0</td>\n",
       "      <td>17.804967</td>\n",
       "      <td>0.263514</td>\n",
       "      <td>0.0</td>\n",
       "      <td>-3288.269437</td>\n",
       "      <td>-7.712850</td>\n",
       "      <td>2</td>\n",
       "    </tr>\n",
       "    <tr>\n",
       "      <th>...</th>\n",
       "      <td>...</td>\n",
       "      <td>...</td>\n",
       "      <td>...</td>\n",
       "      <td>...</td>\n",
       "      <td>...</td>\n",
       "      <td>...</td>\n",
       "      <td>...</td>\n",
       "      <td>...</td>\n",
       "      <td>...</td>\n",
       "      <td>...</td>\n",
       "      <td>...</td>\n",
       "      <td>...</td>\n",
       "      <td>...</td>\n",
       "      <td>...</td>\n",
       "      <td>...</td>\n",
       "    </tr>\n",
       "    <tr>\n",
       "      <th>322</th>\n",
       "      <td>#ZNRYPQ</td>\n",
       "      <td>1.0</td>\n",
       "      <td>5.0</td>\n",
       "      <td>148.000000</td>\n",
       "      <td>36.00</td>\n",
       "      <td>6966.0</td>\n",
       "      <td>97.573</td>\n",
       "      <td>976.0</td>\n",
       "      <td>500.0</td>\n",
       "      <td>16.435354</td>\n",
       "      <td>0.233784</td>\n",
       "      <td>3.0</td>\n",
       "      <td>3478.036397</td>\n",
       "      <td>208.280594</td>\n",
       "      <td>3</td>\n",
       "    </tr>\n",
       "    <tr>\n",
       "      <th>323</th>\n",
       "      <td>#ZPZIGD</td>\n",
       "      <td>1.0</td>\n",
       "      <td>4.0</td>\n",
       "      <td>139.000000</td>\n",
       "      <td>45.00</td>\n",
       "      <td>6966.0</td>\n",
       "      <td>97.573</td>\n",
       "      <td>976.0</td>\n",
       "      <td>500.0</td>\n",
       "      <td>23.290720</td>\n",
       "      <td>0.325742</td>\n",
       "      <td>3.0</td>\n",
       "      <td>3478.036096</td>\n",
       "      <td>208.276186</td>\n",
       "      <td>3</td>\n",
       "    </tr>\n",
       "    <tr>\n",
       "      <th>324</th>\n",
       "      <td>#ZRKRKP</td>\n",
       "      <td>1.0</td>\n",
       "      <td>4.0</td>\n",
       "      <td>121.100000</td>\n",
       "      <td>24.00</td>\n",
       "      <td>90.0</td>\n",
       "      <td>59.462</td>\n",
       "      <td>250.0</td>\n",
       "      <td>186.0</td>\n",
       "      <td>16.365262</td>\n",
       "      <td>0.203964</td>\n",
       "      <td>0.0</td>\n",
       "      <td>-3398.534261</td>\n",
       "      <td>-506.733735</td>\n",
       "      <td>1</td>\n",
       "    </tr>\n",
       "    <tr>\n",
       "      <th>325</th>\n",
       "      <td>#ZWOHRX</td>\n",
       "      <td>2.0</td>\n",
       "      <td>6.0</td>\n",
       "      <td>156.700000</td>\n",
       "      <td>47.90</td>\n",
       "      <td>3021.0</td>\n",
       "      <td>33.915</td>\n",
       "      <td>238.0</td>\n",
       "      <td>438.0</td>\n",
       "      <td>19.507316</td>\n",
       "      <td>0.319081</td>\n",
       "      <td>0.0</td>\n",
       "      <td>-468.174687</td>\n",
       "      <td>-522.741862</td>\n",
       "      <td>2</td>\n",
       "    </tr>\n",
       "    <tr>\n",
       "      <th>326</th>\n",
       "      <td>#ZZLSSL</td>\n",
       "      <td>1.0</td>\n",
       "      <td>6.0</td>\n",
       "      <td>153.000000</td>\n",
       "      <td>68.00</td>\n",
       "      <td>2103.0</td>\n",
       "      <td>38.812</td>\n",
       "      <td>521.0</td>\n",
       "      <td>442.0</td>\n",
       "      <td>29.048656</td>\n",
       "      <td>0.444444</td>\n",
       "      <td>0.0</td>\n",
       "      <td>-1385.670007</td>\n",
       "      <td>-238.128918</td>\n",
       "      <td>1</td>\n",
       "    </tr>\n",
       "  </tbody>\n",
       "</table>\n",
       "<p>327 rows × 15 columns</p>\n",
       "</div>"
      ],
      "text/plain": [
       "          ID  gender  grade      height  weight  step_count  burned calory  \\\n",
       "0    #AAGQKY     2.0    4.0  148.000000   45.15        72.0          8.877   \n",
       "1    #ACGRQP     2.0    4.0  136.016667   28.10     10079.0          8.877   \n",
       "2    #AEGMOD     2.0    4.0  132.000000   29.00       100.0          8.877   \n",
       "3    #AJXZPA     1.0    5.0  136.100000   31.80        67.0          8.877   \n",
       "4    #ALZXWR     2.0    6.0  148.000000   39.00       200.0          8.877   \n",
       "..       ...     ...    ...         ...     ...         ...            ...   \n",
       "322  #ZNRYPQ     1.0    5.0  148.000000   36.00      6966.0         97.573   \n",
       "323  #ZPZIGD     1.0    4.0  139.000000   45.00      6966.0         97.573   \n",
       "324  #ZRKRKP     1.0    4.0  121.100000   24.00        90.0         59.462   \n",
       "325  #ZWOHRX     2.0    6.0  156.700000   47.90      3021.0         33.915   \n",
       "326  #ZZLSSL     1.0    6.0  153.000000   68.00      2103.0         38.812   \n",
       "\n",
       "     eat_calory  Sleep_time        bmi  waist_bmi  cluster        pca_x  \\\n",
       "0        2000.0        12.0  20.612673   0.306081      0.0 -3413.066736   \n",
       "1        2000.0        12.0  15.188751   0.208063      1.0  6593.881085   \n",
       "2         421.0        12.0  16.643710   0.206439      0.0 -3387.875784   \n",
       "3         481.0       432.0  17.167651   0.255694      0.0 -3421.745676   \n",
       "4         748.0       432.0  17.804967   0.263514      0.0 -3288.269437   \n",
       "..          ...         ...        ...        ...      ...          ...   \n",
       "322       976.0       500.0  16.435354   0.233784      3.0  3478.036397   \n",
       "323       976.0       500.0  23.290720   0.325742      3.0  3478.036096   \n",
       "324       250.0       186.0  16.365262   0.203964      0.0 -3398.534261   \n",
       "325       238.0       438.0  19.507316   0.319081      0.0  -468.174687   \n",
       "326       521.0       442.0  29.048656   0.444444      0.0 -1385.670007   \n",
       "\n",
       "           pca_y  class_num  \n",
       "0    1242.786835          2  \n",
       "1    1225.132473          2  \n",
       "2    -336.251135          2  \n",
       "3    -274.484754          1  \n",
       "4      -7.712850          2  \n",
       "..           ...        ...  \n",
       "322   208.280594          3  \n",
       "323   208.276186          3  \n",
       "324  -506.733735          1  \n",
       "325  -522.741862          2  \n",
       "326  -238.128918          1  \n",
       "\n",
       "[327 rows x 15 columns]"
      ]
     },
     "execution_count": 127,
     "metadata": {},
     "output_type": "execute_result"
    }
   ],
   "source": [
    "result_df"
   ]
  },
  {
   "cell_type": "code",
   "execution_count": 128,
   "id": "e6e1dfbf-3ce7-44c9-a85d-5ac4c9a5133c",
   "metadata": {},
   "outputs": [],
   "source": [
    "result_df.to_csv(\"../data/4개로 군집화.csv\",encoding='cp949',index=False)"
   ]
  },
  {
   "cell_type": "markdown",
   "id": "b2a82131-9af3-4bcb-b959-9bf52728c474",
   "metadata": {},
   "source": [
    "## 사용자 정보 뻈을때"
   ]
  },
  {
   "cell_type": "code",
   "execution_count": 129,
   "id": "3acdbd04-0262-418b-95fd-b6805086e9c8",
   "metadata": {},
   "outputs": [],
   "source": [
    "temp_init=temp_init.iloc[:,[4,5,6,7,8,9]]"
   ]
  },
  {
   "cell_type": "code",
   "execution_count": 130,
   "id": "cadc5450-5dcb-464f-a166-4a073950417a",
   "metadata": {},
   "outputs": [
    {
     "data": {
      "application/vnd.plotly.v1+json": {
       "config": {
        "plotlyServerURL": "https://plot.ly"
       },
       "data": [
        {
         "dimensions": [
          {
           "axis": {
            "matches": true
           },
           "label": "step_count",
           "values": [
            72,
            10079,
            100,
            67,
            200,
            13256,
            9696,
            4649,
            145,
            145,
            145,
            0,
            0,
            2,
            8258,
            8258,
            20,
            20,
            35,
            2574,
            4483,
            4720,
            2443,
            789,
            5988,
            5229,
            5931,
            4175,
            4278,
            10843,
            10843,
            287,
            25,
            3144,
            2220,
            1748,
            7430,
            4651,
            4396,
            6973,
            13864,
            13864,
            3067,
            6055,
            38,
            4953,
            590,
            412,
            5467,
            5467,
            3,
            3255,
            3255,
            784,
            46,
            6412,
            230,
            230,
            30,
            993,
            1408,
            81,
            8168,
            406,
            556,
            556,
            5078,
            30,
            30,
            30,
            5713,
            5713,
            8540,
            641,
            1905,
            203,
            203,
            2069,
            2069,
            75,
            4066,
            589,
            3032,
            317,
            3000,
            3000,
            628,
            5007,
            2107,
            2107,
            2107,
            10988,
            0,
            57,
            715,
            17,
            905,
            8304,
            580,
            580,
            580,
            135,
            17993,
            15,
            6267,
            6267,
            1113,
            20,
            20,
            20,
            20,
            3484,
            4075,
            7789,
            5745,
            41,
            247,
            3559,
            47,
            1416,
            1416,
            16,
            16579,
            18914,
            83,
            127,
            1046,
            389,
            1606,
            53,
            284,
            10147,
            14,
            4874,
            4874,
            4874,
            2367,
            3110,
            11883,
            750,
            750,
            1226,
            7,
            6,
            8,
            0,
            10,
            8,
            1477,
            16973,
            16973,
            8531,
            6478,
            4115,
            1802,
            414,
            48,
            6681,
            4562,
            1209,
            146,
            146,
            18417,
            56,
            0,
            0,
            677,
            100,
            2037,
            5430,
            804,
            804,
            8,
            12210,
            12210,
            636,
            59,
            6145,
            3812,
            5092,
            6768,
            1380,
            7814,
            35,
            2969,
            2410,
            3302,
            16116,
            718,
            5795,
            4417,
            151,
            27,
            1848,
            73,
            74,
            74,
            4714,
            4714,
            4384,
            6344,
            0,
            1249,
            1249,
            1911,
            5294,
            508,
            508,
            766,
            7867,
            14993,
            14993,
            3889,
            208,
            7932,
            8,
            8,
            2675,
            2675,
            240,
            21,
            8326,
            1115,
            5055,
            9337,
            324,
            854,
            2326,
            6627,
            82,
            4947,
            8794,
            8794,
            1693,
            2788,
            2788,
            3526,
            2009,
            3478,
            37658,
            37658,
            2690,
            2869,
            18,
            4125,
            21,
            3444.5,
            0,
            5780,
            421,
            421,
            318,
            318,
            138,
            14,
            177,
            448,
            6114,
            53,
            3265,
            214,
            28,
            107,
            6722,
            8588,
            0,
            14,
            35,
            827,
            4592,
            6443,
            2452,
            212,
            363,
            363,
            4602,
            3206,
            5639,
            189,
            121,
            1042,
            891,
            472,
            38,
            2830,
            2830,
            487,
            487,
            487,
            2936,
            8388,
            8388,
            8388,
            103,
            338,
            2240,
            702,
            290,
            1702,
            1702,
            4522,
            2690,
            1436,
            4474,
            4474,
            4474,
            640,
            640,
            17278,
            8842,
            8842,
            8842,
            10516,
            10516,
            1980,
            31,
            13971,
            4849,
            4847,
            0,
            0,
            6966,
            6966,
            6966,
            90,
            3021,
            2103
           ]
          },
          {
           "axis": {
            "matches": true
           },
           "label": "burned calory",
           "values": [
            8.877,
            8.877,
            8.877,
            8.877,
            8.877,
            8.877,
            78.897,
            2.033,
            2.033,
            2.033,
            2.033,
            2.033,
            2.033,
            2.033,
            2.033,
            2.033,
            48.552,
            48.552,
            48.552,
            48.552,
            48.552,
            44.441,
            44.441,
            44.441,
            44.441,
            33.415,
            56.709,
            56.709,
            56.709,
            56.709,
            56.709,
            42.958,
            42.958,
            33.237,
            33.237,
            33.558,
            33.558,
            33.558,
            33.558,
            32.773,
            32.773,
            32.773,
            32.773,
            142.8,
            142.8,
            56.853,
            56.853,
            56.853,
            30.845,
            30.845,
            30.845,
            30.845,
            30.845,
            30.845,
            30.845,
            30.845,
            30.845,
            30.845,
            40.936,
            40.936,
            40.936,
            40.936,
            40.936,
            40.936,
            44.185,
            44.185,
            27.23,
            27.23,
            27.23,
            27.23,
            27.23,
            27.23,
            27.23,
            139.944,
            139.944,
            22.481,
            22.481,
            2.202,
            2.202,
            1.14,
            1.14,
            1.14,
            1.14,
            1.14,
            88.506,
            88.506,
            88.506,
            31.675,
            31.675,
            31.675,
            31.675,
            31.675,
            53.735,
            53.735,
            53.735,
            22.789,
            32.725,
            32.725,
            97.194,
            97.194,
            97.194,
            97.194,
            97.194,
            0.056,
            0.056,
            0.056,
            5.457,
            0.484,
            0.484,
            0.484,
            0.484,
            0.484,
            126.575,
            126.575,
            30.434,
            30.434,
            30.434,
            30.434,
            11.764666666666663,
            11.764666666666663,
            11.764666666666663,
            11.764666666666663,
            11.764666666666663,
            11.764666666666663,
            11.764666666666663,
            11.764666666666663,
            11.764666666666663,
            11.764666666666663,
            11.764666666666663,
            11.764666666666663,
            25.813,
            25.813,
            25.813,
            10.6315,
            10.6315,
            10.6315,
            10.6315,
            10.6315,
            10.6315,
            105.297,
            105.297,
            50.837,
            50.837,
            19.992,
            19.992,
            19.992,
            19.992,
            19.992,
            19.992,
            19.992,
            19.992,
            36.7,
            26.4105,
            26.4105,
            40.163,
            40.163,
            40.163,
            40.163,
            40.163,
            40.163,
            27.798,
            27.798,
            27.798,
            32.178,
            32.178,
            32.178,
            32.178,
            32.178,
            56.228,
            56.228,
            17.35,
            17.35,
            17.35,
            17.35,
            17.35,
            17.35,
            17.35,
            17.35,
            660.99,
            660.99,
            660.99,
            32.071,
            18.957,
            18.957,
            18.957,
            163.417,
            163.417,
            163.417,
            38.675,
            38.675,
            38.675,
            38.675,
            38.675,
            48.612,
            62.832,
            62.832,
            62.832,
            62.832,
            62.832,
            62.832,
            30.738,
            40.671,
            40.671,
            40.671,
            40.671,
            40.671,
            40.671,
            40.671,
            78.838,
            0.393,
            49.677,
            49.677,
            20.349,
            20.349,
            20.349,
            20.349,
            20.349,
            20.349,
            20.349,
            20.349,
            20.349,
            104.832,
            95.373,
            95.373,
            3.154,
            40.519,
            40.519,
            40.519,
            69.794,
            69.794,
            40.001,
            39.151,
            39.151,
            58.764,
            58.764,
            58.764,
            58.764,
            58.764,
            67.216,
            67.216,
            67.216,
            27.385,
            27.385,
            29.988,
            29.988,
            55.96,
            55.96,
            55.96,
            55.96,
            38.669,
            38.669,
            47.303,
            47.303,
            47.303,
            66.194,
            66.194,
            66.194,
            66.194,
            66.194,
            240.97,
            240.97,
            23.562,
            54.056,
            59.143,
            47.295,
            47.295,
            47.295,
            47.295,
            47.295,
            47.295,
            47.295,
            25.462,
            160.757,
            172.648,
            172.648,
            172.648,
            40.163,
            40.163,
            70.656,
            70.656,
            24.919,
            91.161,
            91.161,
            91.161,
            38.812,
            38.812,
            38.812,
            38.812,
            38.812,
            38.812,
            38.812,
            38.812,
            38.812,
            49.272,
            38.556,
            163.349,
            163.349,
            130.662,
            179.603,
            179.603,
            179.603,
            179.603,
            179.603,
            179.603,
            179.603,
            179.603,
            226.6255,
            226.6255,
            226.6255,
            226.6255,
            226.6255,
            226.6255,
            28.56,
            28.56,
            28.56,
            28.56,
            28.56,
            0.135,
            0.135,
            0.135,
            0.135,
            97.573,
            97.573,
            97.573,
            59.462,
            33.915,
            38.812
           ]
          },
          {
           "axis": {
            "matches": true
           },
           "label": "eat_calory",
           "values": [
            2000,
            2000,
            421,
            481,
            748,
            285,
            160,
            546,
            580,
            580,
            580,
            580,
            580,
            228,
            1758,
            1758,
            474,
            474,
            534,
            534,
            293,
            348,
            348,
            1390,
            1284,
            285,
            415,
            513,
            513,
            468,
            468,
            247,
            239,
            208,
            357,
            5812,
            587,
            1063,
            1044,
            285,
            552,
            552,
            450,
            350,
            1567,
            634,
            111,
            568,
            521,
            521,
            521,
            521,
            521,
            521,
            385,
            858,
            241,
            241,
            462,
            93,
            89,
            89,
            360,
            268,
            247,
            247,
            247,
            134,
            134,
            134,
            1140.5,
            1140.5,
            300,
            174,
            174,
            205,
            205,
            226,
            669,
            8368,
            302,
            302,
            176,
            309,
            840,
            840,
            840,
            190,
            190,
            190,
            584,
            1151,
            761,
            412.5,
            428,
            431,
            653,
            673,
            510,
            283,
            283,
            283,
            283,
            283,
            97,
            625,
            857,
            687,
            133,
            133,
            133,
            133,
            175,
            759,
            1257,
            1257,
            3607,
            3607,
            572,
            280,
            280,
            1139,
            176,
            2252,
            2252,
            580,
            906,
            2737,
            266,
            1256,
            440,
            440,
            495,
            410,
            443,
            443,
            360,
            772,
            1251,
            871.5,
            871.5,
            535,
            561,
            148,
            2535,
            2535,
            573,
            572,
            572,
            458,
            568,
            351.5,
            536,
            667,
            589,
            273.5,
            190,
            271,
            280,
            280,
            2024,
            2024,
            2024,
            253,
            972,
            663.5,
            663.5,
            663.5,
            360,
            360,
            230,
            230,
            230,
            745,
            745,
            745,
            511,
            567,
            314,
            769.5,
            703,
            340,
            2752,
            455,
            455,
            184,
            378,
            176,
            153,
            1110,
            761,
            185,
            293,
            528,
            1919,
            1919,
            1919,
            1919,
            1919,
            576.5,
            503,
            1053,
            220,
            269,
            10669,
            391.5,
            265,
            265,
            353,
            1536,
            1536,
            1536,
            96,
            905,
            446,
            591,
            624,
            1410,
            1410,
            320,
            422,
            5793,
            5346,
            295,
            292,
            304,
            1797,
            561,
            689,
            280,
            97,
            97,
            97,
            2314,
            953,
            953,
            539,
            585,
            1275,
            858,
            858,
            858,
            858,
            449,
            392,
            392,
            392,
            926,
            293,
            175,
            175,
            2045,
            2045,
            192,
            869,
            869,
            610,
            8,
            124,
            334,
            334,
            117,
            1940,
            884,
            729,
            729,
            192,
            544,
            604,
            85,
            85,
            266,
            748,
            848,
            848,
            431,
            525,
            3561,
            1182,
            1182,
            263,
            179,
            985,
            985,
            288,
            288,
            446,
            446,
            1617,
            481,
            536,
            536,
            536,
            673,
            766,
            539,
            564,
            564,
            701,
            345,
            293,
            686,
            436,
            436,
            436,
            436,
            436,
            436,
            436,
            121,
            482.5,
            85,
            244,
            244,
            340,
            701,
            701,
            734,
            585,
            1161,
            801,
            976,
            976,
            976,
            250,
            238,
            521
           ]
          },
          {
           "axis": {
            "matches": true
           },
           "label": "Sleep_time",
           "values": [
            12,
            12,
            12,
            432,
            432,
            348,
            450,
            432,
            252,
            252,
            252,
            237,
            237,
            237,
            201,
            201,
            168,
            168,
            221.5,
            396,
            234,
            402,
            402,
            168,
            168,
            60,
            462,
            462,
            333,
            333,
            333,
            552,
            552,
            354,
            258,
            377,
            377,
            511,
            502,
            12,
            546,
            546,
            462.5,
            213,
            438,
            114,
            486,
            486,
            330,
            330,
            216,
            258,
            258,
            258,
            258,
            258,
            258,
            258,
            654,
            414,
            414,
            444,
            444,
            462,
            487,
            487,
            450,
            490,
            490,
            490,
            48,
            48,
            442,
            264,
            264,
            545,
            545,
            545,
            545,
            576,
            576,
            177,
            480,
            518,
            327,
            327,
            522,
            487,
            522,
            522,
            522,
            426,
            480,
            480,
            480,
            474,
            258,
            234,
            530,
            530,
            530,
            530,
            254.5,
            527,
            485,
            485,
            569,
            462,
            462,
            462,
            462,
            557,
            164.5,
            180,
            450,
            588,
            576,
            200.5,
            294,
            450,
            450,
            156,
            150,
            237,
            288,
            397,
            586,
            432,
            444,
            444,
            456,
            456,
            456,
            5.333333333333333,
            5.333333333333333,
            5.333333333333333,
            252,
            357,
            417.3333333333333,
            314,
            314,
            489,
            489,
            672,
            517,
            378,
            240,
            437,
            437,
            437,
            437,
            442,
            396,
            396,
            198,
            30,
            480,
            297,
            492,
            486,
            18,
            18,
            18,
            348,
            534,
            534,
            534,
            534,
            498,
            498,
            186,
            186,
            312,
            312,
            312,
            540,
            492,
            257,
            357,
            357,
            372,
            558,
            460,
            460,
            460,
            319,
            319,
            319,
            546,
            396,
            516,
            378,
            450,
            12,
            330,
            330,
            330,
            450,
            450,
            450,
            196.5,
            486,
            486,
            486,
            486,
            30,
            155,
            155,
            519,
            324,
            459,
            459,
            32.84615384615385,
            504,
            504,
            456,
            456,
            456,
            456,
            186,
            396,
            390,
            420,
            420,
            366,
            504,
            582,
            582,
            186,
            312,
            504,
            504,
            504,
            552,
            440,
            440,
            474,
            516,
            528,
            528,
            528,
            453,
            453,
            522,
            165,
            53,
            53,
            286.5,
            286.5,
            239.5,
            239.5,
            396,
            396,
            396,
            396,
            396,
            510,
            510,
            336.5,
            468,
            486,
            444,
            480,
            575,
            456,
            528,
            528,
            528,
            528,
            186,
            186,
            186,
            204,
            228,
            228,
            456,
            420,
            420,
            480,
            480,
            420,
            744,
            486,
            201,
            666,
            666,
            666,
            666,
            666,
            426,
            426,
            408,
            408,
            402,
            495,
            288,
            288,
            564.5,
            132,
            132,
            132,
            336,
            336,
            336,
            336,
            336,
            426,
            426,
            540,
            444,
            444,
            390,
            186,
            186,
            455,
            234,
            180,
            210,
            510,
            486,
            486,
            500,
            500,
            500,
            186,
            438,
            442
           ]
          },
          {
           "axis": {
            "matches": true
           },
           "label": "bmi",
           "values": [
            20.612673484295104,
            15.188751087224652,
            16.643709825528006,
            17.167650747359666,
            17.804967129291455,
            17.144498707268024,
            20.956607495069036,
            24.167162403331343,
            29.04865649963689,
            19.95379122033186,
            19.52275355706692,
            18.8985114374096,
            14.382067050188455,
            16.65972511453561,
            19.753086419753085,
            21.484375,
            21.16284250389841,
            22.00596606191012,
            14.483886676072869,
            18.367346938775505,
            22.22222222222222,
            24.470416362308256,
            17.578124999999996,
            16.18955966037173,
            27.19178983377922,
            16.137462024907915,
            18.66201468619417,
            15.384615384615383,
            14.152666179693208,
            17.598097502972653,
            16.335786015086306,
            16.589506172839506,
            16.176857740643744,
            17.80400714144019,
            17.543090215341433,
            17.258382642998026,
            22.34501017805148,
            17.51463112478107,
            16.274238227146814,
            19.11111111111111,
            18.107741059302853,
            16.983570919720037,
            20.86376917457999,
            16.58886617028664,
            18.818924310286423,
            17.485543439623303,
            28.80945982262832,
            26.666666666666668,
            17.68978885166924,
            26.672763298277697,
            25.390218522372525,
            15.869867089863122,
            21.707923392038097,
            20.060954438486167,
            17.887272915480562,
            16.884661117717002,
            21.529090527200164,
            19.81657200512419,
            18.6556927297668,
            19.968814445953427,
            17.6047482521,
            18.93517487190911,
            23.737987966011037,
            16.518737672583825,
            16.880193905817176,
            18.359375,
            17.07986129082345,
            14.035455431814825,
            17.751479289940825,
            19.387755102040813,
            18.42653420926133,
            15.928105561423807,
            16.83691135734072,
            18.549346016646847,
            20.82465639316952,
            18.58281578561299,
            14.283240997229916,
            18.24920247701257,
            16.44070086933021,
            16.137708445400754,
            21.030283608396086,
            17.70534681354057,
            20.471807253156285,
            13.020833333333334,
            19.07183725365544,
            22.07409972299169,
            16.47312989467999,
            16.73111243307555,
            16.568047337278106,
            19.024970273483948,
            22.66415393771077,
            18.549346016646847,
            23.918352955340936,
            16.280388898287374,
            16.07142857142857,
            15.446065048351066,
            21.02006353255157,
            20.905470914127424,
            22.95684113865932,
            15.059687786960511,
            21.4572680788897,
            19.479708636836627,
            19.53125,
            19.80998058100588,
            19.030612244897952,
            22.002251829611563,
            14.285714285714285,
            17.116346110535563,
            13.374485596707816,
            21.05170825840972,
            16.419590917620567,
            16.89189189189189,
            16.44736842105263,
            20.301783264746224,
            18.325617283950617,
            16.382063029293352,
            19.560858721697887,
            19.387755102040813,
            17.267548577931038,
            16.27809283763915,
            21.91111111111111,
            15.41604039002582,
            17.148281599281407,
            26.171875,
            14.687859812023191,
            25.156985485598607,
            20.829200555445347,
            14.057093425605531,
            18.92894155252281,
            16.171224732461354,
            15.82214288612114,
            23.2445945353274,
            18.4402332361516,
            16.150590331922473,
            18.10699588477366,
            18.84546716921246,
            16.091199099268156,
            18.91162823067345,
            15.377777777777778,
            15.816326530612242,
            18.395083102493075,
            14.083798601679998,
            16.626729913443203,
            18.07372175980975,
            18.70769230769231,
            16.65972511453561,
            22.74380165289256,
            33.05785123966941,
            14.951514374813106,
            15.808105468749998,
            13.36600579193584,
            21.701306427090994,
            24.998903556861546,
            17.312885802469136,
            15.912208504801097,
            16.707507239919803,
            15.97881665449233,
            18.87755102040816,
            17.263544536271805,
            20.82465639316952,
            14.74489795918367,
            22.040120245115038,
            20.40816326530612,
            19.140625,
            22.832879346258608,
            15.02621933517201,
            20.956607495069036,
            15.950459748545695,
            20.593623160642235,
            26.30747910147431,
            28.04037814452812,
            16.83673469387755,
            15.752993068683049,
            15.012197410395949,
            15.98380307954606,
            14.062499999999996,
            19.976218787158142,
            20.011505588428665,
            19.14078663964604,
            23.872798522589072,
            15.306122448979588,
            16.83673469387755,
            13.317479191438764,
            23.219788567239533,
            17.6047482521,
            17.208732457117396,
            17.360262115506874,
            19.77769866698311,
            23.55555555555556,
            16.43655489809336,
            19.8731951622356,
            16.65972511453561,
            23.55555555555556,
            19.899116109028647,
            19.242213846459038,
            20.40816326530612,
            27.76709812465291,
            25.217358575783805,
            16.847468770545692,
            27.12031558185404,
            16.444444444444443,
            16.227358449190824,
            15.884695290858726,
            16.97465375564214,
            21.66224156274861,
            25.20808561236623,
            15.67773078730403,
            16.326530612244895,
            21.36752136752137,
            19.04432132963989,
            20.40816326530612,
            17.07637594755325,
            17.58526539867648,
            13.265306122448976,
            16.02497398543184,
            16.884661117717002,
            17.333333333333332,
            15.357971440708424,
            16.44070086933021,
            14.955484408578572,
            16.461744653574964,
            19.57168128269788,
            17.625380547989103,
            18.25631871475516,
            23.09745300513885,
            17.983471074380166,
            18.510710069151628,
            21.21129580927401,
            20.504933999743688,
            26.392685455745124,
            20.134779750164363,
            22.054190296156268,
            18.178670360110804,
            16.520894071914483,
            17.56677627133913,
            15.59277702328857,
            16.66593570457436,
            17.48844068877551,
            15.54134443783462,
            17.146776406035663,
            24,
            24.21875,
            16.50764726356954,
            16.598762637694282,
            19.976218787158142,
            20.88540180032164,
            15.599315262614924,
            13.446016644247743,
            13.886133703630232,
            19.47714681440443,
            22.982613524712715,
            19.35790725326992,
            15.0034496779278,
            24.59490740740741,
            12.244897959183673,
            25.17102914931588,
            17.406665459804522,
            17.69868827160494,
            16.46090534979424,
            16.646848989298455,
            25.99030243261012,
            18.367346938775505,
            19.26242938734746,
            21.23115041223461,
            21.821067248561796,
            20.829200555445347,
            16.171224732461354,
            17.746913580246915,
            14.348025711662071,
            18.36547291092745,
            17.751479289940825,
            17.80400714144019,
            14.568963783707698,
            24.341758286340216,
            16.70390066061785,
            16.878858024691358,
            15.280403276622556,
            20,
            23.113021358712334,
            25.161262762185483,
            16.326530612244895,
            27.34375,
            21.110902608369305,
            24.54467107153117,
            14.266117969821671,
            19.69821673525377,
            18.426378815989207,
            17.208887125570325,
            14.71606648199446,
            18.359375,
            16.444444444444443,
            16.091199099268156,
            21.93877551020408,
            18.165680473372777,
            12.397920914580853,
            17.981667470724968,
            23.06805074971165,
            15.788781193807289,
            17.444926771877153,
            18.666666666666668,
            25.277008310249307,
            19.562955254942764,
            20.857273914342937,
            21.40309155766944,
            19.316943228952617,
            18.178670360110804,
            21.64969796416163,
            27.58620689655172,
            15.648686977358308,
            18.584363719102868,
            14.878000396746678,
            21.474849074934934,
            14.332143427992964,
            26.64359861591696,
            19.204389574759944,
            19.560858721697887,
            13.512904824107023,
            19.046633197039487,
            21.219135802469136,
            18.611495844875343,
            19.6846202280548,
            15.82937110494873,
            16.43535427319211,
            23.29071994203198,
            16.36526173167653,
            19.507316058023477,
            29.04865649963689
           ]
          },
          {
           "axis": {
            "matches": true
           },
           "label": "waist_bmi",
           "values": [
            0.306081081081081,
            0.2080627374096312,
            0.2064393939393939,
            0.2556943423952976,
            0.2635135135135135,
            0.2528813559322033,
            0.3256410256410256,
            0.3926829268292683,
            0.4444444444444444,
            0.2753623188405797,
            0.304885993485342,
            0.2658588738417676,
            0.2063380281690141,
            0.2428571428571428,
            0.2688888888888888,
            0.34125,
            0.2779850746268656,
            0.3192307692307692,
            0.2049469964664311,
            0.2385714285714285,
            0.3353333333333333,
            0.3587837837837838,
            0.288125,
            0.2439180537772087,
            0.4125827814569536,
            0.2254689754689754,
            0.286624203821656,
            0.2,
            0.2277027027027027,
            0.2551724137931034,
            0.2414965986394557,
            0.2388888888888888,
            0.2777777777777778,
            0.2528169014084507,
            0.2649006622516556,
            0.2759615384615384,
            0.3489847715736041,
            0.269281045751634,
            0.2476973684210526,
            0.292,
            0.2567375886524823,
            0.2560975609756097,
            0.3108108108108108,
            0.2714285714285714,
            0.3257668711656442,
            0.2648037258815701,
            0.4393442622950819,
            0.4019999999999999,
            0.2852760736196319,
            0.4537037037037037,
            0.3987096774193548,
            0.3577464788732394,
            0.3621301775147929,
            0.3229813664596273,
            0.2474820143884891,
            0.2448275862068965,
            0.3036231884057971,
            0.2895622895622896,
            0.254074074074074,
            0.2879432624113475,
            0.2588652482269503,
            0.2582089552238806,
            0.3608482871125612,
            0.2858974358974359,
            0.2493421052631579,
            0.2984375,
            0.2467625899280575,
            0.20109439124487,
            0.2307692307692307,
            0.2785714285714286,
            0.2981012658227848,
            0.2404255319148936,
            0.2532894736842105,
            0.2793103448275862,
            0.3034013605442177,
            0.2678321678321678,
            0.2151315789473684,
            0.2749999999999999,
            0.2449664429530201,
            0.2353146853146853,
            0.3284810126582278,
            0.251063829787234,
            0.2865248226950354,
            0.1809027777777777,
            0.2804195804195804,
            0.3453947368421052,
            0.2590062111801242,
            0.2768292682926829,
            0.2307692307692307,
            0.2993103448275861,
            0.3235915492957746,
            0.2641379310344827,
            0.3299120234604105,
            0.2757097791798107,
            0.225,
            0.2335109926715523,
            0.3092783505154639,
            0.3217105263157894,
            0.3234848484848485,
            0.2521212121212121,
            0.3175675675675675,
            0.2987096774193548,
            0.3175,
            0.2620938628158845,
            0.2714285714285714,
            0.3143835616438356,
            0.2,
            0.2573825503355705,
            0.2302469135802469,
            0.3311258278145695,
            0.2315068493150684,
            0.2472972972972973,
            0.2546052631578948,
            0.2748148148148148,
            0.2732638888888889,
            0.2414965986394557,
            0.2811188811188811,
            0.2714285714285714,
            0.2733245729303548,
            0.2264492753623188,
            0.326,
            0.2114695340501792,
            0.2645367412140575,
            0.41875,
            0.191400304414003,
            0.4150470219435737,
            0.2964788732394366,
            0.1911764705882352,
            0.2643109540636042,
            0.2337931034482758,
            0.2528662420382165,
            0.3556291390728477,
            0.2607142857142857,
            0.2238805970149253,
            0.2474074074074074,
            0.2672535211267606,
            0.2417808219178082,
            0.3136531365313653,
            0.2219999999999999,
            0.2407142857142857,
            0.2894736842105263,
            0.201418439716312,
            0.251048951048951,
            0.2662068965517241,
            0.3126153846153846,
            0.246938775510204,
            0.3090909090909091,
            0.5915151515151514,
            0.2287581699346405,
            0.203125,
            0.1847014925373134,
            0.3300844704353476,
            0.3701986754966887,
            0.2493055555555555,
            0.2148148148148148,
            0.235820895522388,
            0.2472972972972973,
            0.2642857142857143,
            0.2884848484848485,
            0.3156462585034013,
            0.2028571428571428,
            0.325268817204301,
            0.2871428571428571,
            0.300625,
            0.3715189873417722,
            0.1995481927710843,
            0.3269230769230769,
            0.2328767123287671,
            0.2975778546712803,
            0.427140549273021,
            0.4316455696202532,
            0.2357142857142857,
            0.2148550724637681,
            0.2212328767123287,
            0.2182481751824817,
            0.229375,
            0.3082758620689655,
            0.3108974358974359,
            0.2899022801302932,
            0.363758389261745,
            0.2232142857142857,
            0.275,
            0.193103448275862,
            0.3709779179810725,
            0.2478723404255319,
            0.2324626865671641,
            0.2482517482517482,
            0.3182389937106918,
            0.3093333333333333,
            0.2564102564102564,
            0.275912408759124,
            0.2551020408163265,
            0.3533333333333333,
            0.2891156462585034,
            0.2686619718309859,
            0.3421428571428571,
            0.4124183006535948,
            0.4110429447852761,
            0.2711538461538461,
            0.4275641025641026,
            0.254,
            0.2473509933774834,
            0.2480263157894737,
            0.2807453416149068,
            0.3498452012383901,
            0.3655172413793103,
            0.2431372549019608,
            0.2278571428571428,
            0.3487179487179487,
            0.2664473684210526,
            0.3042857142857142,
            0.2608991825613078,
            0.2619047619047619,
            0.1885714285714285,
            0.2490322580645161,
            0.253103448275862,
            0.2606666666666666,
            0.2442244224422442,
            0.2429530201342282,
            0.2344370860927152,
            0.215267175572519,
            0.3214723926380368,
            0.2813291139240506,
            0.2802547770700637,
            0.3582388258839226,
            0.2465454545454545,
            0.2818181818181818,
            0.3069036226930963,
            0.32574240363099655,
            0.4090614886731392,
            0.3185897435897436,
            0.3043478260869565,
            0.2763157894736842,
            0.2414965986394557,
            0.259731543624161,
            0.225531914893617,
            0.2556291390728477,
            0.2571428571428571,
            0.2554878048780488,
            0.2765432098765432,
            0.3633333333333333,
            0.391875,
            0.2314479638009049,
            0.2358156028368794,
            0.2917241379310344,
            0.3242084432717678,
            0.2289562289562289,
            0.18736303871439,
            0.1971830985915492,
            0.3177631578947368,
            0.3470588235294117,
            0.279655172413793,
            0.190067214339059,
            0.3590277777777778,
            0.1767857142857143,
            0.4048780487804878,
            0.2616361071932299,
            0.2465277777777778,
            0.2244444444444444,
            0.2362068965517241,
            0.2942307692307692,
            0.2571428571428571,
            0.2884078212290503,
            0.3248366013071895,
            0.3056338028169014,
            0.2866197183098591,
            0.2275862068965517,
            0.2513888888888889,
            0.1890151515151515,
            0.3193939393939394,
            0.2123076923076923,
            0.2485915492957746,
            0.214237668161435,
            0.3821656050955414,
            0.2637434554973821,
            0.2604166666666667,
            0.208695652173913,
            0.3206666666666666,
            0.347682119205298,
            0.392156862745098,
            0.2478571428571429,
            0.43875,
            0.3178082191780821,
            0.3667796610169491,
            0.194074074074074,
            0.2637037037037037,
            0.2811688311688311,
            0.2454225352112676,
            0.2355263157894736,
            0.2987499999999999,
            0.2453333333333333,
            0.2280821917808219,
            0.3089285714285714,
            0.245,
            0.1714183037853378,
            0.271523178807947,
            0.3627450980392157,
            0.2370860927152317,
            0.278343949044586,
            0.2833333333333333,
            0.4368421052631579,
            0.2935483870967741,
            0.3305941845764855,
            0.3103448275862069,
            0.2744961779013203,
            0.2822368421052632,
            0.3220282068502351,
            0.3931034482758621,
            0.23006993006993,
            0.2643515237420269,
            0.2197183098591549,
            0.4002361275088547,
            0.1948905109489051,
            0.4470588235294118,
            0.3177777777777777,
            0.2835664335664336,
            0.2140939597315436,
            0.2633093525179856,
            0.32574240363099655,
            0.2822368421052632,
            0.2933421226104153,
            0.2128329297820823,
            0.2337837837837837,
            0.32574240363099655,
            0.203963666391412,
            0.3190810465858328,
            0.4444444444444444
           ]
          }
         ],
         "hovertemplate": "%{xaxis.title.text}=%{x}<br>%{yaxis.title.text}=%{y}<extra></extra>",
         "legendgroup": "",
         "marker": {
          "color": "#636efa",
          "symbol": "circle"
         },
         "name": "",
         "showlegend": false,
         "type": "splom"
        }
       ],
       "layout": {
        "dragmode": "select",
        "height": 1600,
        "legend": {
         "tracegroupgap": 0
        },
        "margin": {
         "t": 60
        },
        "template": {
         "data": {
          "bar": [
           {
            "error_x": {
             "color": "#2a3f5f"
            },
            "error_y": {
             "color": "#2a3f5f"
            },
            "marker": {
             "line": {
              "color": "#E5ECF6",
              "width": 0.5
             },
             "pattern": {
              "fillmode": "overlay",
              "size": 10,
              "solidity": 0.2
             }
            },
            "type": "bar"
           }
          ],
          "barpolar": [
           {
            "marker": {
             "line": {
              "color": "#E5ECF6",
              "width": 0.5
             },
             "pattern": {
              "fillmode": "overlay",
              "size": 10,
              "solidity": 0.2
             }
            },
            "type": "barpolar"
           }
          ],
          "carpet": [
           {
            "aaxis": {
             "endlinecolor": "#2a3f5f",
             "gridcolor": "white",
             "linecolor": "white",
             "minorgridcolor": "white",
             "startlinecolor": "#2a3f5f"
            },
            "baxis": {
             "endlinecolor": "#2a3f5f",
             "gridcolor": "white",
             "linecolor": "white",
             "minorgridcolor": "white",
             "startlinecolor": "#2a3f5f"
            },
            "type": "carpet"
           }
          ],
          "choropleth": [
           {
            "colorbar": {
             "outlinewidth": 0,
             "ticks": ""
            },
            "type": "choropleth"
           }
          ],
          "contour": [
           {
            "colorbar": {
             "outlinewidth": 0,
             "ticks": ""
            },
            "colorscale": [
             [
              0,
              "#0d0887"
             ],
             [
              0.1111111111111111,
              "#46039f"
             ],
             [
              0.2222222222222222,
              "#7201a8"
             ],
             [
              0.3333333333333333,
              "#9c179e"
             ],
             [
              0.4444444444444444,
              "#bd3786"
             ],
             [
              0.5555555555555556,
              "#d8576b"
             ],
             [
              0.6666666666666666,
              "#ed7953"
             ],
             [
              0.7777777777777778,
              "#fb9f3a"
             ],
             [
              0.8888888888888888,
              "#fdca26"
             ],
             [
              1,
              "#f0f921"
             ]
            ],
            "type": "contour"
           }
          ],
          "contourcarpet": [
           {
            "colorbar": {
             "outlinewidth": 0,
             "ticks": ""
            },
            "type": "contourcarpet"
           }
          ],
          "heatmap": [
           {
            "colorbar": {
             "outlinewidth": 0,
             "ticks": ""
            },
            "colorscale": [
             [
              0,
              "#0d0887"
             ],
             [
              0.1111111111111111,
              "#46039f"
             ],
             [
              0.2222222222222222,
              "#7201a8"
             ],
             [
              0.3333333333333333,
              "#9c179e"
             ],
             [
              0.4444444444444444,
              "#bd3786"
             ],
             [
              0.5555555555555556,
              "#d8576b"
             ],
             [
              0.6666666666666666,
              "#ed7953"
             ],
             [
              0.7777777777777778,
              "#fb9f3a"
             ],
             [
              0.8888888888888888,
              "#fdca26"
             ],
             [
              1,
              "#f0f921"
             ]
            ],
            "type": "heatmap"
           }
          ],
          "heatmapgl": [
           {
            "colorbar": {
             "outlinewidth": 0,
             "ticks": ""
            },
            "colorscale": [
             [
              0,
              "#0d0887"
             ],
             [
              0.1111111111111111,
              "#46039f"
             ],
             [
              0.2222222222222222,
              "#7201a8"
             ],
             [
              0.3333333333333333,
              "#9c179e"
             ],
             [
              0.4444444444444444,
              "#bd3786"
             ],
             [
              0.5555555555555556,
              "#d8576b"
             ],
             [
              0.6666666666666666,
              "#ed7953"
             ],
             [
              0.7777777777777778,
              "#fb9f3a"
             ],
             [
              0.8888888888888888,
              "#fdca26"
             ],
             [
              1,
              "#f0f921"
             ]
            ],
            "type": "heatmapgl"
           }
          ],
          "histogram": [
           {
            "marker": {
             "pattern": {
              "fillmode": "overlay",
              "size": 10,
              "solidity": 0.2
             }
            },
            "type": "histogram"
           }
          ],
          "histogram2d": [
           {
            "colorbar": {
             "outlinewidth": 0,
             "ticks": ""
            },
            "colorscale": [
             [
              0,
              "#0d0887"
             ],
             [
              0.1111111111111111,
              "#46039f"
             ],
             [
              0.2222222222222222,
              "#7201a8"
             ],
             [
              0.3333333333333333,
              "#9c179e"
             ],
             [
              0.4444444444444444,
              "#bd3786"
             ],
             [
              0.5555555555555556,
              "#d8576b"
             ],
             [
              0.6666666666666666,
              "#ed7953"
             ],
             [
              0.7777777777777778,
              "#fb9f3a"
             ],
             [
              0.8888888888888888,
              "#fdca26"
             ],
             [
              1,
              "#f0f921"
             ]
            ],
            "type": "histogram2d"
           }
          ],
          "histogram2dcontour": [
           {
            "colorbar": {
             "outlinewidth": 0,
             "ticks": ""
            },
            "colorscale": [
             [
              0,
              "#0d0887"
             ],
             [
              0.1111111111111111,
              "#46039f"
             ],
             [
              0.2222222222222222,
              "#7201a8"
             ],
             [
              0.3333333333333333,
              "#9c179e"
             ],
             [
              0.4444444444444444,
              "#bd3786"
             ],
             [
              0.5555555555555556,
              "#d8576b"
             ],
             [
              0.6666666666666666,
              "#ed7953"
             ],
             [
              0.7777777777777778,
              "#fb9f3a"
             ],
             [
              0.8888888888888888,
              "#fdca26"
             ],
             [
              1,
              "#f0f921"
             ]
            ],
            "type": "histogram2dcontour"
           }
          ],
          "mesh3d": [
           {
            "colorbar": {
             "outlinewidth": 0,
             "ticks": ""
            },
            "type": "mesh3d"
           }
          ],
          "parcoords": [
           {
            "line": {
             "colorbar": {
              "outlinewidth": 0,
              "ticks": ""
             }
            },
            "type": "parcoords"
           }
          ],
          "pie": [
           {
            "automargin": true,
            "type": "pie"
           }
          ],
          "scatter": [
           {
            "fillpattern": {
             "fillmode": "overlay",
             "size": 10,
             "solidity": 0.2
            },
            "type": "scatter"
           }
          ],
          "scatter3d": [
           {
            "line": {
             "colorbar": {
              "outlinewidth": 0,
              "ticks": ""
             }
            },
            "marker": {
             "colorbar": {
              "outlinewidth": 0,
              "ticks": ""
             }
            },
            "type": "scatter3d"
           }
          ],
          "scattercarpet": [
           {
            "marker": {
             "colorbar": {
              "outlinewidth": 0,
              "ticks": ""
             }
            },
            "type": "scattercarpet"
           }
          ],
          "scattergeo": [
           {
            "marker": {
             "colorbar": {
              "outlinewidth": 0,
              "ticks": ""
             }
            },
            "type": "scattergeo"
           }
          ],
          "scattergl": [
           {
            "marker": {
             "colorbar": {
              "outlinewidth": 0,
              "ticks": ""
             }
            },
            "type": "scattergl"
           }
          ],
          "scattermapbox": [
           {
            "marker": {
             "colorbar": {
              "outlinewidth": 0,
              "ticks": ""
             }
            },
            "type": "scattermapbox"
           }
          ],
          "scatterpolar": [
           {
            "marker": {
             "colorbar": {
              "outlinewidth": 0,
              "ticks": ""
             }
            },
            "type": "scatterpolar"
           }
          ],
          "scatterpolargl": [
           {
            "marker": {
             "colorbar": {
              "outlinewidth": 0,
              "ticks": ""
             }
            },
            "type": "scatterpolargl"
           }
          ],
          "scatterternary": [
           {
            "marker": {
             "colorbar": {
              "outlinewidth": 0,
              "ticks": ""
             }
            },
            "type": "scatterternary"
           }
          ],
          "surface": [
           {
            "colorbar": {
             "outlinewidth": 0,
             "ticks": ""
            },
            "colorscale": [
             [
              0,
              "#0d0887"
             ],
             [
              0.1111111111111111,
              "#46039f"
             ],
             [
              0.2222222222222222,
              "#7201a8"
             ],
             [
              0.3333333333333333,
              "#9c179e"
             ],
             [
              0.4444444444444444,
              "#bd3786"
             ],
             [
              0.5555555555555556,
              "#d8576b"
             ],
             [
              0.6666666666666666,
              "#ed7953"
             ],
             [
              0.7777777777777778,
              "#fb9f3a"
             ],
             [
              0.8888888888888888,
              "#fdca26"
             ],
             [
              1,
              "#f0f921"
             ]
            ],
            "type": "surface"
           }
          ],
          "table": [
           {
            "cells": {
             "fill": {
              "color": "#EBF0F8"
             },
             "line": {
              "color": "white"
             }
            },
            "header": {
             "fill": {
              "color": "#C8D4E3"
             },
             "line": {
              "color": "white"
             }
            },
            "type": "table"
           }
          ]
         },
         "layout": {
          "annotationdefaults": {
           "arrowcolor": "#2a3f5f",
           "arrowhead": 0,
           "arrowwidth": 1
          },
          "autotypenumbers": "strict",
          "coloraxis": {
           "colorbar": {
            "outlinewidth": 0,
            "ticks": ""
           }
          },
          "colorscale": {
           "diverging": [
            [
             0,
             "#8e0152"
            ],
            [
             0.1,
             "#c51b7d"
            ],
            [
             0.2,
             "#de77ae"
            ],
            [
             0.3,
             "#f1b6da"
            ],
            [
             0.4,
             "#fde0ef"
            ],
            [
             0.5,
             "#f7f7f7"
            ],
            [
             0.6,
             "#e6f5d0"
            ],
            [
             0.7,
             "#b8e186"
            ],
            [
             0.8,
             "#7fbc41"
            ],
            [
             0.9,
             "#4d9221"
            ],
            [
             1,
             "#276419"
            ]
           ],
           "sequential": [
            [
             0,
             "#0d0887"
            ],
            [
             0.1111111111111111,
             "#46039f"
            ],
            [
             0.2222222222222222,
             "#7201a8"
            ],
            [
             0.3333333333333333,
             "#9c179e"
            ],
            [
             0.4444444444444444,
             "#bd3786"
            ],
            [
             0.5555555555555556,
             "#d8576b"
            ],
            [
             0.6666666666666666,
             "#ed7953"
            ],
            [
             0.7777777777777778,
             "#fb9f3a"
            ],
            [
             0.8888888888888888,
             "#fdca26"
            ],
            [
             1,
             "#f0f921"
            ]
           ],
           "sequentialminus": [
            [
             0,
             "#0d0887"
            ],
            [
             0.1111111111111111,
             "#46039f"
            ],
            [
             0.2222222222222222,
             "#7201a8"
            ],
            [
             0.3333333333333333,
             "#9c179e"
            ],
            [
             0.4444444444444444,
             "#bd3786"
            ],
            [
             0.5555555555555556,
             "#d8576b"
            ],
            [
             0.6666666666666666,
             "#ed7953"
            ],
            [
             0.7777777777777778,
             "#fb9f3a"
            ],
            [
             0.8888888888888888,
             "#fdca26"
            ],
            [
             1,
             "#f0f921"
            ]
           ]
          },
          "colorway": [
           "#636efa",
           "#EF553B",
           "#00cc96",
           "#ab63fa",
           "#FFA15A",
           "#19d3f3",
           "#FF6692",
           "#B6E880",
           "#FF97FF",
           "#FECB52"
          ],
          "font": {
           "color": "#2a3f5f"
          },
          "geo": {
           "bgcolor": "white",
           "lakecolor": "white",
           "landcolor": "#E5ECF6",
           "showlakes": true,
           "showland": true,
           "subunitcolor": "white"
          },
          "hoverlabel": {
           "align": "left"
          },
          "hovermode": "closest",
          "mapbox": {
           "style": "light"
          },
          "paper_bgcolor": "white",
          "plot_bgcolor": "#E5ECF6",
          "polar": {
           "angularaxis": {
            "gridcolor": "white",
            "linecolor": "white",
            "ticks": ""
           },
           "bgcolor": "#E5ECF6",
           "radialaxis": {
            "gridcolor": "white",
            "linecolor": "white",
            "ticks": ""
           }
          },
          "scene": {
           "xaxis": {
            "backgroundcolor": "#E5ECF6",
            "gridcolor": "white",
            "gridwidth": 2,
            "linecolor": "white",
            "showbackground": true,
            "ticks": "",
            "zerolinecolor": "white"
           },
           "yaxis": {
            "backgroundcolor": "#E5ECF6",
            "gridcolor": "white",
            "gridwidth": 2,
            "linecolor": "white",
            "showbackground": true,
            "ticks": "",
            "zerolinecolor": "white"
           },
           "zaxis": {
            "backgroundcolor": "#E5ECF6",
            "gridcolor": "white",
            "gridwidth": 2,
            "linecolor": "white",
            "showbackground": true,
            "ticks": "",
            "zerolinecolor": "white"
           }
          },
          "shapedefaults": {
           "line": {
            "color": "#2a3f5f"
           }
          },
          "ternary": {
           "aaxis": {
            "gridcolor": "white",
            "linecolor": "white",
            "ticks": ""
           },
           "baxis": {
            "gridcolor": "white",
            "linecolor": "white",
            "ticks": ""
           },
           "bgcolor": "#E5ECF6",
           "caxis": {
            "gridcolor": "white",
            "linecolor": "white",
            "ticks": ""
           }
          },
          "title": {
           "x": 0.05
          },
          "xaxis": {
           "automargin": true,
           "gridcolor": "white",
           "linecolor": "white",
           "ticks": "",
           "title": {
            "standoff": 15
           },
           "zerolinecolor": "white",
           "zerolinewidth": 2
          },
          "yaxis": {
           "automargin": true,
           "gridcolor": "white",
           "linecolor": "white",
           "ticks": "",
           "title": {
            "standoff": 15
           },
           "zerolinecolor": "white",
           "zerolinewidth": 2
          }
         }
        },
        "width": 1200
       }
      },
      "text/html": [
       "<div>                            <div id=\"9dcc547f-3b2f-4213-9597-dd1998ff8638\" class=\"plotly-graph-div\" style=\"height:1600px; width:1200px;\"></div>            <script type=\"text/javascript\">                require([\"plotly\"], function(Plotly) {                    window.PLOTLYENV=window.PLOTLYENV || {};                                    if (document.getElementById(\"9dcc547f-3b2f-4213-9597-dd1998ff8638\")) {                    Plotly.newPlot(                        \"9dcc547f-3b2f-4213-9597-dd1998ff8638\",                        [{\"dimensions\":[{\"axis\":{\"matches\":true},\"label\":\"step_count\",\"values\":[72.0,10079.0,100.0,67.0,200.0,13256.0,9696.0,4649.0,145.0,145.0,145.0,0.0,0.0,2.0,8258.0,8258.0,20.0,20.0,35.0,2574.0,4483.0,4720.0,2443.0,789.0,5988.0,5229.0,5931.0,4175.0,4278.0,10843.0,10843.0,287.0,25.0,3144.0,2220.0,1748.0,7430.0,4651.0,4396.0,6973.0,13864.0,13864.0,3067.0,6055.0,38.0,4953.0,590.0,412.0,5467.0,5467.0,3.0,3255.0,3255.0,784.0,46.0,6412.0,230.0,230.0,30.0,993.0,1408.0,81.0,8168.0,406.0,556.0,556.0,5078.0,30.0,30.0,30.0,5713.0,5713.0,8540.0,641.0,1905.0,203.0,203.0,2069.0,2069.0,75.0,4066.0,589.0,3032.0,317.0,3000.0,3000.0,628.0,5007.0,2107.0,2107.0,2107.0,10988.0,0.0,57.0,715.0,17.0,905.0,8304.0,580.0,580.0,580.0,135.0,17993.0,15.0,6267.0,6267.0,1113.0,20.0,20.0,20.0,20.0,3484.0,4075.0,7789.0,5745.0,41.0,247.0,3559.0,47.0,1416.0,1416.0,16.0,16579.0,18914.0,83.0,127.0,1046.0,389.0,1606.0,53.0,284.0,10147.0,14.0,4874.0,4874.0,4874.0,2367.0,3110.0,11883.0,750.0,750.0,1226.0,7.0,6.0,8.0,0.0,10.0,8.0,1477.0,16973.0,16973.0,8531.0,6478.0,4115.0,1802.0,414.0,48.0,6681.0,4562.0,1209.0,146.0,146.0,18417.0,56.0,0.0,0.0,677.0,100.0,2037.0,5430.0,804.0,804.0,8.0,12210.0,12210.0,636.0,59.0,6145.0,3812.0,5092.0,6768.0,1380.0,7814.0,35.0,2969.0,2410.0,3302.0,16116.0,718.0,5795.0,4417.0,151.0,27.0,1848.0,73.0,74.0,74.0,4714.0,4714.0,4384.0,6344.0,0.0,1249.0,1249.0,1911.0,5294.0,508.0,508.0,766.0,7867.0,14993.0,14993.0,3889.0,208.0,7932.0,8.0,8.0,2675.0,2675.0,240.0,21.0,8326.0,1115.0,5055.0,9337.0,324.0,854.0,2326.0,6627.0,82.0,4947.0,8794.0,8794.0,1693.0,2788.0,2788.0,3526.0,2009.0,3478.0,37658.0,37658.0,2690.0,2869.0,18.0,4125.0,21.0,3444.5,0.0,5780.0,421.0,421.0,318.0,318.0,138.0,14.0,177.0,448.0,6114.0,53.0,3265.0,214.0,28.0,107.0,6722.0,8588.0,0.0,14.0,35.0,827.0,4592.0,6443.0,2452.0,212.0,363.0,363.0,4602.0,3206.0,5639.0,189.0,121.0,1042.0,891.0,472.0,38.0,2830.0,2830.0,487.0,487.0,487.0,2936.0,8388.0,8388.0,8388.0,103.0,338.0,2240.0,702.0,290.0,1702.0,1702.0,4522.0,2690.0,1436.0,4474.0,4474.0,4474.0,640.0,640.0,17278.0,8842.0,8842.0,8842.0,10516.0,10516.0,1980.0,31.0,13971.0,4849.0,4847.0,0.0,0.0,6966.0,6966.0,6966.0,90.0,3021.0,2103.0]},{\"axis\":{\"matches\":true},\"label\":\"burned calory\",\"values\":[8.877,8.877,8.877,8.877,8.877,8.877,78.897,2.033,2.033,2.033,2.033,2.033,2.033,2.033,2.033,2.033,48.552,48.552,48.552,48.552,48.552,44.441,44.441,44.441,44.441,33.415,56.709,56.709,56.709,56.709,56.709,42.958,42.958,33.237,33.237,33.558,33.558,33.558,33.558,32.773,32.773,32.773,32.773,142.8,142.8,56.853,56.853,56.853,30.845,30.845,30.845,30.845,30.845,30.845,30.845,30.845,30.845,30.845,40.936,40.936,40.936,40.936,40.936,40.936,44.185,44.185,27.23,27.23,27.23,27.23,27.23,27.23,27.23,139.944,139.944,22.481,22.481,2.202,2.202,1.14,1.14,1.14,1.14,1.14,88.506,88.506,88.506,31.675,31.675,31.675,31.675,31.675,53.735,53.735,53.735,22.789,32.725,32.725,97.194,97.194,97.194,97.194,97.194,0.056,0.056,0.056,5.457,0.484,0.484,0.484,0.484,0.484,126.575,126.575,30.434,30.434,30.434,30.434,11.764666666666663,11.764666666666663,11.764666666666663,11.764666666666663,11.764666666666663,11.764666666666663,11.764666666666663,11.764666666666663,11.764666666666663,11.764666666666663,11.764666666666663,11.764666666666663,25.813,25.813,25.813,10.6315,10.6315,10.6315,10.6315,10.6315,10.6315,105.297,105.297,50.837,50.837,19.992,19.992,19.992,19.992,19.992,19.992,19.992,19.992,36.7,26.4105,26.4105,40.163,40.163,40.163,40.163,40.163,40.163,27.798,27.798,27.798,32.178,32.178,32.178,32.178,32.178,56.228,56.228,17.35,17.35,17.35,17.35,17.35,17.35,17.35,17.35,660.99,660.99,660.99,32.071,18.957,18.957,18.957,163.417,163.417,163.417,38.675,38.675,38.675,38.675,38.675,48.612,62.832,62.832,62.832,62.832,62.832,62.832,30.738,40.671,40.671,40.671,40.671,40.671,40.671,40.671,78.838,0.393,49.677,49.677,20.349,20.349,20.349,20.349,20.349,20.349,20.349,20.349,20.349,104.832,95.373,95.373,3.154,40.519,40.519,40.519,69.794,69.794,40.001,39.151,39.151,58.764,58.764,58.764,58.764,58.764,67.216,67.216,67.216,27.385,27.385,29.988,29.988,55.96,55.96,55.96,55.96,38.669,38.669,47.303,47.303,47.303,66.194,66.194,66.194,66.194,66.194,240.97,240.97,23.562,54.056,59.143,47.295,47.295,47.295,47.295,47.295,47.295,47.295,25.462,160.757,172.648,172.648,172.648,40.163,40.163,70.656,70.656,24.919,91.161,91.161,91.161,38.812,38.812,38.812,38.812,38.812,38.812,38.812,38.812,38.812,49.272,38.556,163.349,163.349,130.662,179.603,179.603,179.603,179.603,179.603,179.603,179.603,179.603,226.6255,226.6255,226.6255,226.6255,226.6255,226.6255,28.56,28.56,28.56,28.56,28.56,0.135,0.135,0.135,0.135,97.573,97.573,97.573,59.462,33.915,38.812]},{\"axis\":{\"matches\":true},\"label\":\"eat_calory\",\"values\":[2000.0,2000.0,421.0,481.0,748.0,285.0,160.0,546.0,580.0,580.0,580.0,580.0,580.0,228.0,1758.0,1758.0,474.0,474.0,534.0,534.0,293.0,348.0,348.0,1390.0,1284.0,285.0,415.0,513.0,513.0,468.0,468.0,247.0,239.0,208.0,357.0,5812.0,587.0,1063.0,1044.0,285.0,552.0,552.0,450.0,350.0,1567.0,634.0,111.0,568.0,521.0,521.0,521.0,521.0,521.0,521.0,385.0,858.0,241.0,241.0,462.0,93.0,89.0,89.0,360.0,268.0,247.0,247.0,247.0,134.0,134.0,134.0,1140.5,1140.5,300.0,174.0,174.0,205.0,205.0,226.0,669.0,8368.0,302.0,302.0,176.0,309.0,840.0,840.0,840.0,190.0,190.0,190.0,584.0,1151.0,761.0,412.5,428.0,431.0,653.0,673.0,510.0,283.0,283.0,283.0,283.0,283.0,97.0,625.0,857.0,687.0,133.0,133.0,133.0,133.0,175.0,759.0,1257.0,1257.0,3607.0,3607.0,572.0,280.0,280.0,1139.0,176.0,2252.0,2252.0,580.0,906.0,2737.0,266.0,1256.0,440.0,440.0,495.0,410.0,443.0,443.0,360.0,772.0,1251.0,871.5,871.5,535.0,561.0,148.0,2535.0,2535.0,573.0,572.0,572.0,458.0,568.0,351.5,536.0,667.0,589.0,273.5,190.0,271.0,280.0,280.0,2024.0,2024.0,2024.0,253.0,972.0,663.5,663.5,663.5,360.0,360.0,230.0,230.0,230.0,745.0,745.0,745.0,511.0,567.0,314.0,769.5,703.0,340.0,2752.0,455.0,455.0,184.0,378.0,176.0,153.0,1110.0,761.0,185.0,293.0,528.0,1919.0,1919.0,1919.0,1919.0,1919.0,576.5,503.0,1053.0,220.0,269.0,10669.0,391.5,265.0,265.0,353.0,1536.0,1536.0,1536.0,96.0,905.0,446.0,591.0,624.0,1410.0,1410.0,320.0,422.0,5793.0,5346.0,295.0,292.0,304.0,1797.0,561.0,689.0,280.0,97.0,97.0,97.0,2314.0,953.0,953.0,539.0,585.0,1275.0,858.0,858.0,858.0,858.0,449.0,392.0,392.0,392.0,926.0,293.0,175.0,175.0,2045.0,2045.0,192.0,869.0,869.0,610.0,8.0,124.0,334.0,334.0,117.0,1940.0,884.0,729.0,729.0,192.0,544.0,604.0,85.0,85.0,266.0,748.0,848.0,848.0,431.0,525.0,3561.0,1182.0,1182.0,263.0,179.0,985.0,985.0,288.0,288.0,446.0,446.0,1617.0,481.0,536.0,536.0,536.0,673.0,766.0,539.0,564.0,564.0,701.0,345.0,293.0,686.0,436.0,436.0,436.0,436.0,436.0,436.0,436.0,121.0,482.5,85.0,244.0,244.0,340.0,701.0,701.0,734.0,585.0,1161.0,801.0,976.0,976.0,976.0,250.0,238.0,521.0]},{\"axis\":{\"matches\":true},\"label\":\"Sleep_time\",\"values\":[12.0,12.0,12.0,432.0,432.0,348.0,450.0,432.0,252.0,252.0,252.0,237.0,237.0,237.0,201.0,201.0,168.0,168.0,221.5,396.0,234.0,402.0,402.0,168.0,168.0,60.0,462.0,462.0,333.0,333.0,333.0,552.0,552.0,354.0,258.0,377.0,377.0,511.0,502.0,12.0,546.0,546.0,462.5,213.0,438.0,114.0,486.0,486.0,330.0,330.0,216.0,258.0,258.0,258.0,258.0,258.0,258.0,258.0,654.0,414.0,414.0,444.0,444.0,462.0,487.0,487.0,450.0,490.0,490.0,490.0,48.0,48.0,442.0,264.0,264.0,545.0,545.0,545.0,545.0,576.0,576.0,177.0,480.0,518.0,327.0,327.0,522.0,487.0,522.0,522.0,522.0,426.0,480.0,480.0,480.0,474.0,258.0,234.0,530.0,530.0,530.0,530.0,254.5,527.0,485.0,485.0,569.0,462.0,462.0,462.0,462.0,557.0,164.5,180.0,450.0,588.0,576.0,200.5,294.0,450.0,450.0,156.0,150.0,237.0,288.0,397.0,586.0,432.0,444.0,444.0,456.0,456.0,456.0,5.333333333333333,5.333333333333333,5.333333333333333,252.0,357.0,417.3333333333333,314.0,314.0,489.0,489.0,672.0,517.0,378.0,240.0,437.0,437.0,437.0,437.0,442.0,396.0,396.0,198.0,30.0,480.0,297.0,492.0,486.0,18.0,18.0,18.0,348.0,534.0,534.0,534.0,534.0,498.0,498.0,186.0,186.0,312.0,312.0,312.0,540.0,492.0,257.0,357.0,357.0,372.0,558.0,460.0,460.0,460.0,319.0,319.0,319.0,546.0,396.0,516.0,378.0,450.0,12.0,330.0,330.0,330.0,450.0,450.0,450.0,196.5,486.0,486.0,486.0,486.0,30.0,155.0,155.0,519.0,324.0,459.0,459.0,32.84615384615385,504.0,504.0,456.0,456.0,456.0,456.0,186.0,396.0,390.0,420.0,420.0,366.0,504.0,582.0,582.0,186.0,312.0,504.0,504.0,504.0,552.0,440.0,440.0,474.0,516.0,528.0,528.0,528.0,453.0,453.0,522.0,165.0,53.0,53.0,286.5,286.5,239.5,239.5,396.0,396.0,396.0,396.0,396.0,510.0,510.0,336.5,468.0,486.0,444.0,480.0,575.0,456.0,528.0,528.0,528.0,528.0,186.0,186.0,186.0,204.0,228.0,228.0,456.0,420.0,420.0,480.0,480.0,420.0,744.0,486.0,201.0,666.0,666.0,666.0,666.0,666.0,426.0,426.0,408.0,408.0,402.0,495.0,288.0,288.0,564.5,132.0,132.0,132.0,336.0,336.0,336.0,336.0,336.0,426.0,426.0,540.0,444.0,444.0,390.0,186.0,186.0,455.0,234.0,180.0,210.0,510.0,486.0,486.0,500.0,500.0,500.0,186.0,438.0,442.0]},{\"axis\":{\"matches\":true},\"label\":\"bmi\",\"values\":[20.612673484295104,15.188751087224652,16.643709825528006,17.167650747359666,17.804967129291455,17.144498707268024,20.956607495069036,24.167162403331343,29.04865649963689,19.95379122033186,19.52275355706692,18.8985114374096,14.382067050188455,16.65972511453561,19.753086419753085,21.484375,21.16284250389841,22.00596606191012,14.483886676072869,18.367346938775505,22.22222222222222,24.470416362308256,17.578124999999996,16.18955966037173,27.19178983377922,16.137462024907915,18.66201468619417,15.384615384615383,14.152666179693208,17.598097502972653,16.335786015086306,16.589506172839506,16.176857740643744,17.80400714144019,17.543090215341433,17.258382642998026,22.34501017805148,17.51463112478107,16.274238227146814,19.11111111111111,18.107741059302853,16.983570919720037,20.86376917457999,16.58886617028664,18.818924310286423,17.485543439623303,28.80945982262832,26.666666666666668,17.68978885166924,26.672763298277697,25.390218522372525,15.869867089863122,21.707923392038097,20.060954438486167,17.887272915480562,16.884661117717002,21.529090527200164,19.81657200512419,18.6556927297668,19.968814445953427,17.6047482521,18.93517487190911,23.737987966011037,16.518737672583825,16.880193905817176,18.359375,17.07986129082345,14.035455431814825,17.751479289940825,19.387755102040813,18.42653420926133,15.928105561423807,16.83691135734072,18.549346016646847,20.82465639316952,18.58281578561299,14.283240997229916,18.24920247701257,16.44070086933021,16.137708445400754,21.030283608396086,17.70534681354057,20.471807253156285,13.020833333333334,19.07183725365544,22.07409972299169,16.47312989467999,16.73111243307555,16.568047337278106,19.024970273483948,22.66415393771077,18.549346016646847,23.918352955340936,16.280388898287374,16.07142857142857,15.446065048351066,21.02006353255157,20.905470914127424,22.95684113865932,15.059687786960511,21.4572680788897,19.479708636836627,19.53125,19.80998058100588,19.030612244897952,22.002251829611563,14.285714285714285,17.116346110535563,13.374485596707816,21.05170825840972,16.419590917620567,16.89189189189189,16.44736842105263,20.301783264746224,18.325617283950617,16.382063029293352,19.560858721697887,19.387755102040813,17.267548577931038,16.27809283763915,21.91111111111111,15.41604039002582,17.148281599281407,26.171875,14.687859812023191,25.156985485598607,20.829200555445347,14.057093425605531,18.92894155252281,16.171224732461354,15.82214288612114,23.2445945353274,18.4402332361516,16.150590331922473,18.10699588477366,18.84546716921246,16.091199099268156,18.91162823067345,15.377777777777778,15.816326530612242,18.395083102493075,14.083798601679998,16.626729913443203,18.07372175980975,18.70769230769231,16.65972511453561,22.74380165289256,33.05785123966941,14.951514374813106,15.808105468749998,13.36600579193584,21.701306427090994,24.998903556861546,17.312885802469136,15.912208504801097,16.707507239919803,15.97881665449233,18.87755102040816,17.263544536271805,20.82465639316952,14.74489795918367,22.040120245115038,20.40816326530612,19.140625,22.832879346258608,15.02621933517201,20.956607495069036,15.950459748545695,20.593623160642235,26.30747910147431,28.04037814452812,16.83673469387755,15.752993068683049,15.012197410395949,15.98380307954606,14.062499999999996,19.976218787158142,20.011505588428665,19.14078663964604,23.872798522589072,15.306122448979588,16.83673469387755,13.317479191438764,23.219788567239533,17.6047482521,17.208732457117396,17.360262115506874,19.77769866698311,23.55555555555556,16.43655489809336,19.8731951622356,16.65972511453561,23.55555555555556,19.899116109028647,19.242213846459038,20.40816326530612,27.76709812465291,25.217358575783805,16.847468770545692,27.12031558185404,16.444444444444443,16.227358449190824,15.884695290858726,16.97465375564214,21.66224156274861,25.20808561236623,15.67773078730403,16.326530612244895,21.36752136752137,19.04432132963989,20.40816326530612,17.07637594755325,17.58526539867648,13.265306122448976,16.02497398543184,16.884661117717002,17.333333333333332,15.357971440708424,16.44070086933021,14.955484408578572,16.461744653574964,19.57168128269788,17.625380547989103,18.25631871475516,23.09745300513885,17.983471074380166,18.510710069151628,21.21129580927401,20.504933999743688,26.392685455745124,20.134779750164363,22.054190296156268,18.178670360110804,16.520894071914483,17.56677627133913,15.59277702328857,16.66593570457436,17.48844068877551,15.54134443783462,17.146776406035663,24.0,24.21875,16.50764726356954,16.598762637694282,19.976218787158142,20.88540180032164,15.599315262614924,13.446016644247743,13.886133703630232,19.47714681440443,22.982613524712715,19.35790725326992,15.0034496779278,24.59490740740741,12.244897959183673,25.17102914931588,17.406665459804522,17.69868827160494,16.46090534979424,16.646848989298455,25.99030243261012,18.367346938775505,19.26242938734746,21.23115041223461,21.821067248561796,20.829200555445347,16.171224732461354,17.746913580246915,14.348025711662071,18.36547291092745,17.751479289940825,17.80400714144019,14.568963783707698,24.341758286340216,16.70390066061785,16.878858024691358,15.280403276622556,20.0,23.113021358712334,25.161262762185483,16.326530612244895,27.34375,21.110902608369305,24.54467107153117,14.266117969821671,19.69821673525377,18.426378815989207,17.208887125570325,14.71606648199446,18.359375,16.444444444444443,16.091199099268156,21.93877551020408,18.165680473372777,12.397920914580853,17.981667470724968,23.06805074971165,15.788781193807289,17.444926771877153,18.666666666666668,25.277008310249307,19.562955254942764,20.857273914342937,21.40309155766944,19.316943228952617,18.178670360110804,21.64969796416163,27.58620689655172,15.648686977358308,18.584363719102868,14.878000396746678,21.474849074934934,14.332143427992964,26.64359861591696,19.204389574759944,19.560858721697887,13.512904824107023,19.046633197039487,21.219135802469136,18.611495844875343,19.6846202280548,15.82937110494873,16.43535427319211,23.29071994203198,16.36526173167653,19.507316058023477,29.04865649963689]},{\"axis\":{\"matches\":true},\"label\":\"waist_bmi\",\"values\":[0.306081081081081,0.2080627374096312,0.2064393939393939,0.2556943423952976,0.2635135135135135,0.2528813559322033,0.3256410256410256,0.3926829268292683,0.4444444444444444,0.2753623188405797,0.304885993485342,0.2658588738417676,0.2063380281690141,0.2428571428571428,0.2688888888888888,0.34125,0.2779850746268656,0.3192307692307692,0.2049469964664311,0.2385714285714285,0.3353333333333333,0.3587837837837838,0.288125,0.2439180537772087,0.4125827814569536,0.2254689754689754,0.286624203821656,0.2,0.2277027027027027,0.2551724137931034,0.2414965986394557,0.2388888888888888,0.2777777777777778,0.2528169014084507,0.2649006622516556,0.2759615384615384,0.3489847715736041,0.269281045751634,0.2476973684210526,0.292,0.2567375886524823,0.2560975609756097,0.3108108108108108,0.2714285714285714,0.3257668711656442,0.2648037258815701,0.4393442622950819,0.4019999999999999,0.2852760736196319,0.4537037037037037,0.3987096774193548,0.3577464788732394,0.3621301775147929,0.3229813664596273,0.2474820143884891,0.2448275862068965,0.3036231884057971,0.2895622895622896,0.254074074074074,0.2879432624113475,0.2588652482269503,0.2582089552238806,0.3608482871125612,0.2858974358974359,0.2493421052631579,0.2984375,0.2467625899280575,0.20109439124487,0.2307692307692307,0.2785714285714286,0.2981012658227848,0.2404255319148936,0.2532894736842105,0.2793103448275862,0.3034013605442177,0.2678321678321678,0.2151315789473684,0.2749999999999999,0.2449664429530201,0.2353146853146853,0.3284810126582278,0.251063829787234,0.2865248226950354,0.1809027777777777,0.2804195804195804,0.3453947368421052,0.2590062111801242,0.2768292682926829,0.2307692307692307,0.2993103448275861,0.3235915492957746,0.2641379310344827,0.3299120234604105,0.2757097791798107,0.225,0.2335109926715523,0.3092783505154639,0.3217105263157894,0.3234848484848485,0.2521212121212121,0.3175675675675675,0.2987096774193548,0.3175,0.2620938628158845,0.2714285714285714,0.3143835616438356,0.2,0.2573825503355705,0.2302469135802469,0.3311258278145695,0.2315068493150684,0.2472972972972973,0.2546052631578948,0.2748148148148148,0.2732638888888889,0.2414965986394557,0.2811188811188811,0.2714285714285714,0.2733245729303548,0.2264492753623188,0.326,0.2114695340501792,0.2645367412140575,0.41875,0.191400304414003,0.4150470219435737,0.2964788732394366,0.1911764705882352,0.2643109540636042,0.2337931034482758,0.2528662420382165,0.3556291390728477,0.2607142857142857,0.2238805970149253,0.2474074074074074,0.2672535211267606,0.2417808219178082,0.3136531365313653,0.2219999999999999,0.2407142857142857,0.2894736842105263,0.201418439716312,0.251048951048951,0.2662068965517241,0.3126153846153846,0.246938775510204,0.3090909090909091,0.5915151515151514,0.2287581699346405,0.203125,0.1847014925373134,0.3300844704353476,0.3701986754966887,0.2493055555555555,0.2148148148148148,0.235820895522388,0.2472972972972973,0.2642857142857143,0.2884848484848485,0.3156462585034013,0.2028571428571428,0.325268817204301,0.2871428571428571,0.300625,0.3715189873417722,0.1995481927710843,0.3269230769230769,0.2328767123287671,0.2975778546712803,0.427140549273021,0.4316455696202532,0.2357142857142857,0.2148550724637681,0.2212328767123287,0.2182481751824817,0.229375,0.3082758620689655,0.3108974358974359,0.2899022801302932,0.363758389261745,0.2232142857142857,0.275,0.193103448275862,0.3709779179810725,0.2478723404255319,0.2324626865671641,0.2482517482517482,0.3182389937106918,0.3093333333333333,0.2564102564102564,0.275912408759124,0.2551020408163265,0.3533333333333333,0.2891156462585034,0.2686619718309859,0.3421428571428571,0.4124183006535948,0.4110429447852761,0.2711538461538461,0.4275641025641026,0.254,0.2473509933774834,0.2480263157894737,0.2807453416149068,0.3498452012383901,0.3655172413793103,0.2431372549019608,0.2278571428571428,0.3487179487179487,0.2664473684210526,0.3042857142857142,0.2608991825613078,0.2619047619047619,0.1885714285714285,0.2490322580645161,0.253103448275862,0.2606666666666666,0.2442244224422442,0.2429530201342282,0.2344370860927152,0.215267175572519,0.3214723926380368,0.2813291139240506,0.2802547770700637,0.3582388258839226,0.2465454545454545,0.2818181818181818,0.3069036226930963,0.32574240363099655,0.4090614886731392,0.3185897435897436,0.3043478260869565,0.2763157894736842,0.2414965986394557,0.259731543624161,0.225531914893617,0.2556291390728477,0.2571428571428571,0.2554878048780488,0.2765432098765432,0.3633333333333333,0.391875,0.2314479638009049,0.2358156028368794,0.2917241379310344,0.3242084432717678,0.2289562289562289,0.18736303871439,0.1971830985915492,0.3177631578947368,0.3470588235294117,0.279655172413793,0.190067214339059,0.3590277777777778,0.1767857142857143,0.4048780487804878,0.2616361071932299,0.2465277777777778,0.2244444444444444,0.2362068965517241,0.2942307692307692,0.2571428571428571,0.2884078212290503,0.3248366013071895,0.3056338028169014,0.2866197183098591,0.2275862068965517,0.2513888888888889,0.1890151515151515,0.3193939393939394,0.2123076923076923,0.2485915492957746,0.214237668161435,0.3821656050955414,0.2637434554973821,0.2604166666666667,0.208695652173913,0.3206666666666666,0.347682119205298,0.392156862745098,0.2478571428571429,0.43875,0.3178082191780821,0.3667796610169491,0.194074074074074,0.2637037037037037,0.2811688311688311,0.2454225352112676,0.2355263157894736,0.2987499999999999,0.2453333333333333,0.2280821917808219,0.3089285714285714,0.245,0.1714183037853378,0.271523178807947,0.3627450980392157,0.2370860927152317,0.278343949044586,0.2833333333333333,0.4368421052631579,0.2935483870967741,0.3305941845764855,0.3103448275862069,0.2744961779013203,0.2822368421052632,0.3220282068502351,0.3931034482758621,0.23006993006993,0.2643515237420269,0.2197183098591549,0.4002361275088547,0.1948905109489051,0.4470588235294118,0.3177777777777777,0.2835664335664336,0.2140939597315436,0.2633093525179856,0.32574240363099655,0.2822368421052632,0.2933421226104153,0.2128329297820823,0.2337837837837837,0.32574240363099655,0.203963666391412,0.3190810465858328,0.4444444444444444]}],\"hovertemplate\":\"%{xaxis.title.text}=%{x}\\u003cbr\\u003e%{yaxis.title.text}=%{y}\\u003cextra\\u003e\\u003c\\u002fextra\\u003e\",\"legendgroup\":\"\",\"marker\":{\"color\":\"#636efa\",\"symbol\":\"circle\"},\"name\":\"\",\"showlegend\":false,\"type\":\"splom\"}],                        {\"template\":{\"data\":{\"histogram2dcontour\":[{\"type\":\"histogram2dcontour\",\"colorbar\":{\"outlinewidth\":0,\"ticks\":\"\"},\"colorscale\":[[0.0,\"#0d0887\"],[0.1111111111111111,\"#46039f\"],[0.2222222222222222,\"#7201a8\"],[0.3333333333333333,\"#9c179e\"],[0.4444444444444444,\"#bd3786\"],[0.5555555555555556,\"#d8576b\"],[0.6666666666666666,\"#ed7953\"],[0.7777777777777778,\"#fb9f3a\"],[0.8888888888888888,\"#fdca26\"],[1.0,\"#f0f921\"]]}],\"choropleth\":[{\"type\":\"choropleth\",\"colorbar\":{\"outlinewidth\":0,\"ticks\":\"\"}}],\"histogram2d\":[{\"type\":\"histogram2d\",\"colorbar\":{\"outlinewidth\":0,\"ticks\":\"\"},\"colorscale\":[[0.0,\"#0d0887\"],[0.1111111111111111,\"#46039f\"],[0.2222222222222222,\"#7201a8\"],[0.3333333333333333,\"#9c179e\"],[0.4444444444444444,\"#bd3786\"],[0.5555555555555556,\"#d8576b\"],[0.6666666666666666,\"#ed7953\"],[0.7777777777777778,\"#fb9f3a\"],[0.8888888888888888,\"#fdca26\"],[1.0,\"#f0f921\"]]}],\"heatmap\":[{\"type\":\"heatmap\",\"colorbar\":{\"outlinewidth\":0,\"ticks\":\"\"},\"colorscale\":[[0.0,\"#0d0887\"],[0.1111111111111111,\"#46039f\"],[0.2222222222222222,\"#7201a8\"],[0.3333333333333333,\"#9c179e\"],[0.4444444444444444,\"#bd3786\"],[0.5555555555555556,\"#d8576b\"],[0.6666666666666666,\"#ed7953\"],[0.7777777777777778,\"#fb9f3a\"],[0.8888888888888888,\"#fdca26\"],[1.0,\"#f0f921\"]]}],\"heatmapgl\":[{\"type\":\"heatmapgl\",\"colorbar\":{\"outlinewidth\":0,\"ticks\":\"\"},\"colorscale\":[[0.0,\"#0d0887\"],[0.1111111111111111,\"#46039f\"],[0.2222222222222222,\"#7201a8\"],[0.3333333333333333,\"#9c179e\"],[0.4444444444444444,\"#bd3786\"],[0.5555555555555556,\"#d8576b\"],[0.6666666666666666,\"#ed7953\"],[0.7777777777777778,\"#fb9f3a\"],[0.8888888888888888,\"#fdca26\"],[1.0,\"#f0f921\"]]}],\"contourcarpet\":[{\"type\":\"contourcarpet\",\"colorbar\":{\"outlinewidth\":0,\"ticks\":\"\"}}],\"contour\":[{\"type\":\"contour\",\"colorbar\":{\"outlinewidth\":0,\"ticks\":\"\"},\"colorscale\":[[0.0,\"#0d0887\"],[0.1111111111111111,\"#46039f\"],[0.2222222222222222,\"#7201a8\"],[0.3333333333333333,\"#9c179e\"],[0.4444444444444444,\"#bd3786\"],[0.5555555555555556,\"#d8576b\"],[0.6666666666666666,\"#ed7953\"],[0.7777777777777778,\"#fb9f3a\"],[0.8888888888888888,\"#fdca26\"],[1.0,\"#f0f921\"]]}],\"surface\":[{\"type\":\"surface\",\"colorbar\":{\"outlinewidth\":0,\"ticks\":\"\"},\"colorscale\":[[0.0,\"#0d0887\"],[0.1111111111111111,\"#46039f\"],[0.2222222222222222,\"#7201a8\"],[0.3333333333333333,\"#9c179e\"],[0.4444444444444444,\"#bd3786\"],[0.5555555555555556,\"#d8576b\"],[0.6666666666666666,\"#ed7953\"],[0.7777777777777778,\"#fb9f3a\"],[0.8888888888888888,\"#fdca26\"],[1.0,\"#f0f921\"]]}],\"mesh3d\":[{\"type\":\"mesh3d\",\"colorbar\":{\"outlinewidth\":0,\"ticks\":\"\"}}],\"scatter\":[{\"fillpattern\":{\"fillmode\":\"overlay\",\"size\":10,\"solidity\":0.2},\"type\":\"scatter\"}],\"parcoords\":[{\"type\":\"parcoords\",\"line\":{\"colorbar\":{\"outlinewidth\":0,\"ticks\":\"\"}}}],\"scatterpolargl\":[{\"type\":\"scatterpolargl\",\"marker\":{\"colorbar\":{\"outlinewidth\":0,\"ticks\":\"\"}}}],\"bar\":[{\"error_x\":{\"color\":\"#2a3f5f\"},\"error_y\":{\"color\":\"#2a3f5f\"},\"marker\":{\"line\":{\"color\":\"#E5ECF6\",\"width\":0.5},\"pattern\":{\"fillmode\":\"overlay\",\"size\":10,\"solidity\":0.2}},\"type\":\"bar\"}],\"scattergeo\":[{\"type\":\"scattergeo\",\"marker\":{\"colorbar\":{\"outlinewidth\":0,\"ticks\":\"\"}}}],\"scatterpolar\":[{\"type\":\"scatterpolar\",\"marker\":{\"colorbar\":{\"outlinewidth\":0,\"ticks\":\"\"}}}],\"histogram\":[{\"marker\":{\"pattern\":{\"fillmode\":\"overlay\",\"size\":10,\"solidity\":0.2}},\"type\":\"histogram\"}],\"scattergl\":[{\"type\":\"scattergl\",\"marker\":{\"colorbar\":{\"outlinewidth\":0,\"ticks\":\"\"}}}],\"scatter3d\":[{\"type\":\"scatter3d\",\"line\":{\"colorbar\":{\"outlinewidth\":0,\"ticks\":\"\"}},\"marker\":{\"colorbar\":{\"outlinewidth\":0,\"ticks\":\"\"}}}],\"scattermapbox\":[{\"type\":\"scattermapbox\",\"marker\":{\"colorbar\":{\"outlinewidth\":0,\"ticks\":\"\"}}}],\"scatterternary\":[{\"type\":\"scatterternary\",\"marker\":{\"colorbar\":{\"outlinewidth\":0,\"ticks\":\"\"}}}],\"scattercarpet\":[{\"type\":\"scattercarpet\",\"marker\":{\"colorbar\":{\"outlinewidth\":0,\"ticks\":\"\"}}}],\"carpet\":[{\"aaxis\":{\"endlinecolor\":\"#2a3f5f\",\"gridcolor\":\"white\",\"linecolor\":\"white\",\"minorgridcolor\":\"white\",\"startlinecolor\":\"#2a3f5f\"},\"baxis\":{\"endlinecolor\":\"#2a3f5f\",\"gridcolor\":\"white\",\"linecolor\":\"white\",\"minorgridcolor\":\"white\",\"startlinecolor\":\"#2a3f5f\"},\"type\":\"carpet\"}],\"table\":[{\"cells\":{\"fill\":{\"color\":\"#EBF0F8\"},\"line\":{\"color\":\"white\"}},\"header\":{\"fill\":{\"color\":\"#C8D4E3\"},\"line\":{\"color\":\"white\"}},\"type\":\"table\"}],\"barpolar\":[{\"marker\":{\"line\":{\"color\":\"#E5ECF6\",\"width\":0.5},\"pattern\":{\"fillmode\":\"overlay\",\"size\":10,\"solidity\":0.2}},\"type\":\"barpolar\"}],\"pie\":[{\"automargin\":true,\"type\":\"pie\"}]},\"layout\":{\"autotypenumbers\":\"strict\",\"colorway\":[\"#636efa\",\"#EF553B\",\"#00cc96\",\"#ab63fa\",\"#FFA15A\",\"#19d3f3\",\"#FF6692\",\"#B6E880\",\"#FF97FF\",\"#FECB52\"],\"font\":{\"color\":\"#2a3f5f\"},\"hovermode\":\"closest\",\"hoverlabel\":{\"align\":\"left\"},\"paper_bgcolor\":\"white\",\"plot_bgcolor\":\"#E5ECF6\",\"polar\":{\"bgcolor\":\"#E5ECF6\",\"angularaxis\":{\"gridcolor\":\"white\",\"linecolor\":\"white\",\"ticks\":\"\"},\"radialaxis\":{\"gridcolor\":\"white\",\"linecolor\":\"white\",\"ticks\":\"\"}},\"ternary\":{\"bgcolor\":\"#E5ECF6\",\"aaxis\":{\"gridcolor\":\"white\",\"linecolor\":\"white\",\"ticks\":\"\"},\"baxis\":{\"gridcolor\":\"white\",\"linecolor\":\"white\",\"ticks\":\"\"},\"caxis\":{\"gridcolor\":\"white\",\"linecolor\":\"white\",\"ticks\":\"\"}},\"coloraxis\":{\"colorbar\":{\"outlinewidth\":0,\"ticks\":\"\"}},\"colorscale\":{\"sequential\":[[0.0,\"#0d0887\"],[0.1111111111111111,\"#46039f\"],[0.2222222222222222,\"#7201a8\"],[0.3333333333333333,\"#9c179e\"],[0.4444444444444444,\"#bd3786\"],[0.5555555555555556,\"#d8576b\"],[0.6666666666666666,\"#ed7953\"],[0.7777777777777778,\"#fb9f3a\"],[0.8888888888888888,\"#fdca26\"],[1.0,\"#f0f921\"]],\"sequentialminus\":[[0.0,\"#0d0887\"],[0.1111111111111111,\"#46039f\"],[0.2222222222222222,\"#7201a8\"],[0.3333333333333333,\"#9c179e\"],[0.4444444444444444,\"#bd3786\"],[0.5555555555555556,\"#d8576b\"],[0.6666666666666666,\"#ed7953\"],[0.7777777777777778,\"#fb9f3a\"],[0.8888888888888888,\"#fdca26\"],[1.0,\"#f0f921\"]],\"diverging\":[[0,\"#8e0152\"],[0.1,\"#c51b7d\"],[0.2,\"#de77ae\"],[0.3,\"#f1b6da\"],[0.4,\"#fde0ef\"],[0.5,\"#f7f7f7\"],[0.6,\"#e6f5d0\"],[0.7,\"#b8e186\"],[0.8,\"#7fbc41\"],[0.9,\"#4d9221\"],[1,\"#276419\"]]},\"xaxis\":{\"gridcolor\":\"white\",\"linecolor\":\"white\",\"ticks\":\"\",\"title\":{\"standoff\":15},\"zerolinecolor\":\"white\",\"automargin\":true,\"zerolinewidth\":2},\"yaxis\":{\"gridcolor\":\"white\",\"linecolor\":\"white\",\"ticks\":\"\",\"title\":{\"standoff\":15},\"zerolinecolor\":\"white\",\"automargin\":true,\"zerolinewidth\":2},\"scene\":{\"xaxis\":{\"backgroundcolor\":\"#E5ECF6\",\"gridcolor\":\"white\",\"linecolor\":\"white\",\"showbackground\":true,\"ticks\":\"\",\"zerolinecolor\":\"white\",\"gridwidth\":2},\"yaxis\":{\"backgroundcolor\":\"#E5ECF6\",\"gridcolor\":\"white\",\"linecolor\":\"white\",\"showbackground\":true,\"ticks\":\"\",\"zerolinecolor\":\"white\",\"gridwidth\":2},\"zaxis\":{\"backgroundcolor\":\"#E5ECF6\",\"gridcolor\":\"white\",\"linecolor\":\"white\",\"showbackground\":true,\"ticks\":\"\",\"zerolinecolor\":\"white\",\"gridwidth\":2}},\"shapedefaults\":{\"line\":{\"color\":\"#2a3f5f\"}},\"annotationdefaults\":{\"arrowcolor\":\"#2a3f5f\",\"arrowhead\":0,\"arrowwidth\":1},\"geo\":{\"bgcolor\":\"white\",\"landcolor\":\"#E5ECF6\",\"subunitcolor\":\"white\",\"showland\":true,\"showlakes\":true,\"lakecolor\":\"white\"},\"title\":{\"x\":0.05},\"mapbox\":{\"style\":\"light\"}}},\"legend\":{\"tracegroupgap\":0},\"margin\":{\"t\":60},\"dragmode\":\"select\",\"height\":1600,\"width\":1200},                        {\"responsive\": true}                    ).then(function(){\n",
       "                            \n",
       "var gd = document.getElementById('9dcc547f-3b2f-4213-9597-dd1998ff8638');\n",
       "var x = new MutationObserver(function (mutations, observer) {{\n",
       "        var display = window.getComputedStyle(gd).display;\n",
       "        if (!display || display === 'none') {{\n",
       "            console.log([gd, 'removed!']);\n",
       "            Plotly.purge(gd);\n",
       "            observer.disconnect();\n",
       "        }}\n",
       "}});\n",
       "\n",
       "// Listen for the removal of the full notebook cells\n",
       "var notebookContainer = gd.closest('#notebook-container');\n",
       "if (notebookContainer) {{\n",
       "    x.observe(notebookContainer, {childList: true});\n",
       "}}\n",
       "\n",
       "// Listen for the clearing of the current output cell\n",
       "var outputEl = gd.closest('.output');\n",
       "if (outputEl) {{\n",
       "    x.observe(outputEl, {childList: true});\n",
       "}}\n",
       "\n",
       "                        })                };                });            </script>        </div>"
      ]
     },
     "metadata": {},
     "output_type": "display_data"
    },
    {
     "data": {
      "application/vnd.plotly.v1+json": {
       "config": {
        "plotlyServerURL": "https://plot.ly"
       },
       "data": [
        {
         "hovertemplate": "label=0<br>value=%{r}<br>variable=%{theta}<extra></extra>",
         "legendgroup": "0",
         "line": {
          "color": "#636efa",
          "dash": "solid"
         },
         "marker": {
          "symbol": "circle"
         },
         "mode": "lines",
         "name": "0",
         "r": [
          0.07770351427046979,
          0.07123447572029497,
          0.07293527004101724,
          0.6485463934778971,
          0.22824739281211268,
          0.19195137254092579,
          0.07770351427046979
         ],
         "showlegend": true,
         "subplot": "polar",
         "theta": [
          "step_count",
          "burned calory",
          "eat_calory",
          "Sleep_time",
          "bmi",
          "waist_bmi",
          "step_count"
         ],
         "type": "scatterpolar"
        },
        {
         "hovertemplate": "label=1<br>value=%{r}<br>variable=%{theta}<extra></extra>",
         "legendgroup": "1",
         "line": {
          "color": "#EF553B",
          "dash": "solid"
         },
         "marker": {
          "symbol": "circle"
         },
         "mode": "lines",
         "name": "1",
         "r": [
          0.11101465143103043,
          0.12120927858656587,
          0.07776246515576786,
          0.548111635656762,
          0.5474768000334292,
          0.4586484559709162,
          0.11101465143103043
         ],
         "showlegend": true,
         "subplot": "polar",
         "theta": [
          "step_count",
          "burned calory",
          "eat_calory",
          "Sleep_time",
          "bmi",
          "waist_bmi",
          "step_count"
         ],
         "type": "scatterpolar"
        },
        {
         "hovertemplate": "label=2<br>value=%{r}<br>variable=%{theta}<extra></extra>",
         "legendgroup": "2",
         "line": {
          "color": "#00cc96",
          "dash": "solid"
         },
         "marker": {
          "symbol": "circle"
         },
         "mode": "lines",
         "name": "2",
         "r": [
          0.10098147018114698,
          0.07766485539768717,
          0.061687746104914155,
          0.2628726997602707,
          0.2729423619583032,
          0.21990146260274912,
          0.10098147018114698
         ],
         "showlegend": true,
         "subplot": "polar",
         "theta": [
          "step_count",
          "burned calory",
          "eat_calory",
          "Sleep_time",
          "bmi",
          "waist_bmi",
          "step_count"
         ],
         "type": "scatterpolar"
        }
       ],
       "layout": {
        "height": 800,
        "legend": {
         "title": {
          "text": "label"
         },
         "tracegroupgap": 0
        },
        "margin": {
         "t": 60
        },
        "polar": {
         "angularaxis": {
          "direction": "clockwise",
          "rotation": 90
         },
         "domain": {
          "x": [
           0,
           1
          ],
          "y": [
           0,
           1
          ]
         }
        },
        "template": {
         "data": {
          "bar": [
           {
            "error_x": {
             "color": "#2a3f5f"
            },
            "error_y": {
             "color": "#2a3f5f"
            },
            "marker": {
             "line": {
              "color": "#E5ECF6",
              "width": 0.5
             },
             "pattern": {
              "fillmode": "overlay",
              "size": 10,
              "solidity": 0.2
             }
            },
            "type": "bar"
           }
          ],
          "barpolar": [
           {
            "marker": {
             "line": {
              "color": "#E5ECF6",
              "width": 0.5
             },
             "pattern": {
              "fillmode": "overlay",
              "size": 10,
              "solidity": 0.2
             }
            },
            "type": "barpolar"
           }
          ],
          "carpet": [
           {
            "aaxis": {
             "endlinecolor": "#2a3f5f",
             "gridcolor": "white",
             "linecolor": "white",
             "minorgridcolor": "white",
             "startlinecolor": "#2a3f5f"
            },
            "baxis": {
             "endlinecolor": "#2a3f5f",
             "gridcolor": "white",
             "linecolor": "white",
             "minorgridcolor": "white",
             "startlinecolor": "#2a3f5f"
            },
            "type": "carpet"
           }
          ],
          "choropleth": [
           {
            "colorbar": {
             "outlinewidth": 0,
             "ticks": ""
            },
            "type": "choropleth"
           }
          ],
          "contour": [
           {
            "colorbar": {
             "outlinewidth": 0,
             "ticks": ""
            },
            "colorscale": [
             [
              0,
              "#0d0887"
             ],
             [
              0.1111111111111111,
              "#46039f"
             ],
             [
              0.2222222222222222,
              "#7201a8"
             ],
             [
              0.3333333333333333,
              "#9c179e"
             ],
             [
              0.4444444444444444,
              "#bd3786"
             ],
             [
              0.5555555555555556,
              "#d8576b"
             ],
             [
              0.6666666666666666,
              "#ed7953"
             ],
             [
              0.7777777777777778,
              "#fb9f3a"
             ],
             [
              0.8888888888888888,
              "#fdca26"
             ],
             [
              1,
              "#f0f921"
             ]
            ],
            "type": "contour"
           }
          ],
          "contourcarpet": [
           {
            "colorbar": {
             "outlinewidth": 0,
             "ticks": ""
            },
            "type": "contourcarpet"
           }
          ],
          "heatmap": [
           {
            "colorbar": {
             "outlinewidth": 0,
             "ticks": ""
            },
            "colorscale": [
             [
              0,
              "#0d0887"
             ],
             [
              0.1111111111111111,
              "#46039f"
             ],
             [
              0.2222222222222222,
              "#7201a8"
             ],
             [
              0.3333333333333333,
              "#9c179e"
             ],
             [
              0.4444444444444444,
              "#bd3786"
             ],
             [
              0.5555555555555556,
              "#d8576b"
             ],
             [
              0.6666666666666666,
              "#ed7953"
             ],
             [
              0.7777777777777778,
              "#fb9f3a"
             ],
             [
              0.8888888888888888,
              "#fdca26"
             ],
             [
              1,
              "#f0f921"
             ]
            ],
            "type": "heatmap"
           }
          ],
          "heatmapgl": [
           {
            "colorbar": {
             "outlinewidth": 0,
             "ticks": ""
            },
            "colorscale": [
             [
              0,
              "#0d0887"
             ],
             [
              0.1111111111111111,
              "#46039f"
             ],
             [
              0.2222222222222222,
              "#7201a8"
             ],
             [
              0.3333333333333333,
              "#9c179e"
             ],
             [
              0.4444444444444444,
              "#bd3786"
             ],
             [
              0.5555555555555556,
              "#d8576b"
             ],
             [
              0.6666666666666666,
              "#ed7953"
             ],
             [
              0.7777777777777778,
              "#fb9f3a"
             ],
             [
              0.8888888888888888,
              "#fdca26"
             ],
             [
              1,
              "#f0f921"
             ]
            ],
            "type": "heatmapgl"
           }
          ],
          "histogram": [
           {
            "marker": {
             "pattern": {
              "fillmode": "overlay",
              "size": 10,
              "solidity": 0.2
             }
            },
            "type": "histogram"
           }
          ],
          "histogram2d": [
           {
            "colorbar": {
             "outlinewidth": 0,
             "ticks": ""
            },
            "colorscale": [
             [
              0,
              "#0d0887"
             ],
             [
              0.1111111111111111,
              "#46039f"
             ],
             [
              0.2222222222222222,
              "#7201a8"
             ],
             [
              0.3333333333333333,
              "#9c179e"
             ],
             [
              0.4444444444444444,
              "#bd3786"
             ],
             [
              0.5555555555555556,
              "#d8576b"
             ],
             [
              0.6666666666666666,
              "#ed7953"
             ],
             [
              0.7777777777777778,
              "#fb9f3a"
             ],
             [
              0.8888888888888888,
              "#fdca26"
             ],
             [
              1,
              "#f0f921"
             ]
            ],
            "type": "histogram2d"
           }
          ],
          "histogram2dcontour": [
           {
            "colorbar": {
             "outlinewidth": 0,
             "ticks": ""
            },
            "colorscale": [
             [
              0,
              "#0d0887"
             ],
             [
              0.1111111111111111,
              "#46039f"
             ],
             [
              0.2222222222222222,
              "#7201a8"
             ],
             [
              0.3333333333333333,
              "#9c179e"
             ],
             [
              0.4444444444444444,
              "#bd3786"
             ],
             [
              0.5555555555555556,
              "#d8576b"
             ],
             [
              0.6666666666666666,
              "#ed7953"
             ],
             [
              0.7777777777777778,
              "#fb9f3a"
             ],
             [
              0.8888888888888888,
              "#fdca26"
             ],
             [
              1,
              "#f0f921"
             ]
            ],
            "type": "histogram2dcontour"
           }
          ],
          "mesh3d": [
           {
            "colorbar": {
             "outlinewidth": 0,
             "ticks": ""
            },
            "type": "mesh3d"
           }
          ],
          "parcoords": [
           {
            "line": {
             "colorbar": {
              "outlinewidth": 0,
              "ticks": ""
             }
            },
            "type": "parcoords"
           }
          ],
          "pie": [
           {
            "automargin": true,
            "type": "pie"
           }
          ],
          "scatter": [
           {
            "fillpattern": {
             "fillmode": "overlay",
             "size": 10,
             "solidity": 0.2
            },
            "type": "scatter"
           }
          ],
          "scatter3d": [
           {
            "line": {
             "colorbar": {
              "outlinewidth": 0,
              "ticks": ""
             }
            },
            "marker": {
             "colorbar": {
              "outlinewidth": 0,
              "ticks": ""
             }
            },
            "type": "scatter3d"
           }
          ],
          "scattercarpet": [
           {
            "marker": {
             "colorbar": {
              "outlinewidth": 0,
              "ticks": ""
             }
            },
            "type": "scattercarpet"
           }
          ],
          "scattergeo": [
           {
            "marker": {
             "colorbar": {
              "outlinewidth": 0,
              "ticks": ""
             }
            },
            "type": "scattergeo"
           }
          ],
          "scattergl": [
           {
            "marker": {
             "colorbar": {
              "outlinewidth": 0,
              "ticks": ""
             }
            },
            "type": "scattergl"
           }
          ],
          "scattermapbox": [
           {
            "marker": {
             "colorbar": {
              "outlinewidth": 0,
              "ticks": ""
             }
            },
            "type": "scattermapbox"
           }
          ],
          "scatterpolar": [
           {
            "marker": {
             "colorbar": {
              "outlinewidth": 0,
              "ticks": ""
             }
            },
            "type": "scatterpolar"
           }
          ],
          "scatterpolargl": [
           {
            "marker": {
             "colorbar": {
              "outlinewidth": 0,
              "ticks": ""
             }
            },
            "type": "scatterpolargl"
           }
          ],
          "scatterternary": [
           {
            "marker": {
             "colorbar": {
              "outlinewidth": 0,
              "ticks": ""
             }
            },
            "type": "scatterternary"
           }
          ],
          "surface": [
           {
            "colorbar": {
             "outlinewidth": 0,
             "ticks": ""
            },
            "colorscale": [
             [
              0,
              "#0d0887"
             ],
             [
              0.1111111111111111,
              "#46039f"
             ],
             [
              0.2222222222222222,
              "#7201a8"
             ],
             [
              0.3333333333333333,
              "#9c179e"
             ],
             [
              0.4444444444444444,
              "#bd3786"
             ],
             [
              0.5555555555555556,
              "#d8576b"
             ],
             [
              0.6666666666666666,
              "#ed7953"
             ],
             [
              0.7777777777777778,
              "#fb9f3a"
             ],
             [
              0.8888888888888888,
              "#fdca26"
             ],
             [
              1,
              "#f0f921"
             ]
            ],
            "type": "surface"
           }
          ],
          "table": [
           {
            "cells": {
             "fill": {
              "color": "#EBF0F8"
             },
             "line": {
              "color": "white"
             }
            },
            "header": {
             "fill": {
              "color": "#C8D4E3"
             },
             "line": {
              "color": "white"
             }
            },
            "type": "table"
           }
          ]
         },
         "layout": {
          "annotationdefaults": {
           "arrowcolor": "#2a3f5f",
           "arrowhead": 0,
           "arrowwidth": 1
          },
          "autotypenumbers": "strict",
          "coloraxis": {
           "colorbar": {
            "outlinewidth": 0,
            "ticks": ""
           }
          },
          "colorscale": {
           "diverging": [
            [
             0,
             "#8e0152"
            ],
            [
             0.1,
             "#c51b7d"
            ],
            [
             0.2,
             "#de77ae"
            ],
            [
             0.3,
             "#f1b6da"
            ],
            [
             0.4,
             "#fde0ef"
            ],
            [
             0.5,
             "#f7f7f7"
            ],
            [
             0.6,
             "#e6f5d0"
            ],
            [
             0.7,
             "#b8e186"
            ],
            [
             0.8,
             "#7fbc41"
            ],
            [
             0.9,
             "#4d9221"
            ],
            [
             1,
             "#276419"
            ]
           ],
           "sequential": [
            [
             0,
             "#0d0887"
            ],
            [
             0.1111111111111111,
             "#46039f"
            ],
            [
             0.2222222222222222,
             "#7201a8"
            ],
            [
             0.3333333333333333,
             "#9c179e"
            ],
            [
             0.4444444444444444,
             "#bd3786"
            ],
            [
             0.5555555555555556,
             "#d8576b"
            ],
            [
             0.6666666666666666,
             "#ed7953"
            ],
            [
             0.7777777777777778,
             "#fb9f3a"
            ],
            [
             0.8888888888888888,
             "#fdca26"
            ],
            [
             1,
             "#f0f921"
            ]
           ],
           "sequentialminus": [
            [
             0,
             "#0d0887"
            ],
            [
             0.1111111111111111,
             "#46039f"
            ],
            [
             0.2222222222222222,
             "#7201a8"
            ],
            [
             0.3333333333333333,
             "#9c179e"
            ],
            [
             0.4444444444444444,
             "#bd3786"
            ],
            [
             0.5555555555555556,
             "#d8576b"
            ],
            [
             0.6666666666666666,
             "#ed7953"
            ],
            [
             0.7777777777777778,
             "#fb9f3a"
            ],
            [
             0.8888888888888888,
             "#fdca26"
            ],
            [
             1,
             "#f0f921"
            ]
           ]
          },
          "colorway": [
           "#636efa",
           "#EF553B",
           "#00cc96",
           "#ab63fa",
           "#FFA15A",
           "#19d3f3",
           "#FF6692",
           "#B6E880",
           "#FF97FF",
           "#FECB52"
          ],
          "font": {
           "color": "#2a3f5f"
          },
          "geo": {
           "bgcolor": "white",
           "lakecolor": "white",
           "landcolor": "#E5ECF6",
           "showlakes": true,
           "showland": true,
           "subunitcolor": "white"
          },
          "hoverlabel": {
           "align": "left"
          },
          "hovermode": "closest",
          "mapbox": {
           "style": "light"
          },
          "paper_bgcolor": "white",
          "plot_bgcolor": "#E5ECF6",
          "polar": {
           "angularaxis": {
            "gridcolor": "white",
            "linecolor": "white",
            "ticks": ""
           },
           "bgcolor": "#E5ECF6",
           "radialaxis": {
            "gridcolor": "white",
            "linecolor": "white",
            "ticks": ""
           }
          },
          "scene": {
           "xaxis": {
            "backgroundcolor": "#E5ECF6",
            "gridcolor": "white",
            "gridwidth": 2,
            "linecolor": "white",
            "showbackground": true,
            "ticks": "",
            "zerolinecolor": "white"
           },
           "yaxis": {
            "backgroundcolor": "#E5ECF6",
            "gridcolor": "white",
            "gridwidth": 2,
            "linecolor": "white",
            "showbackground": true,
            "ticks": "",
            "zerolinecolor": "white"
           },
           "zaxis": {
            "backgroundcolor": "#E5ECF6",
            "gridcolor": "white",
            "gridwidth": 2,
            "linecolor": "white",
            "showbackground": true,
            "ticks": "",
            "zerolinecolor": "white"
           }
          },
          "shapedefaults": {
           "line": {
            "color": "#2a3f5f"
           }
          },
          "ternary": {
           "aaxis": {
            "gridcolor": "white",
            "linecolor": "white",
            "ticks": ""
           },
           "baxis": {
            "gridcolor": "white",
            "linecolor": "white",
            "ticks": ""
           },
           "bgcolor": "#E5ECF6",
           "caxis": {
            "gridcolor": "white",
            "linecolor": "white",
            "ticks": ""
           }
          },
          "title": {
           "x": 0.05
          },
          "xaxis": {
           "automargin": true,
           "gridcolor": "white",
           "linecolor": "white",
           "ticks": "",
           "title": {
            "standoff": 15
           },
           "zerolinecolor": "white",
           "zerolinewidth": 2
          },
          "yaxis": {
           "automargin": true,
           "gridcolor": "white",
           "linecolor": "white",
           "ticks": "",
           "title": {
            "standoff": 15
           },
           "zerolinecolor": "white",
           "zerolinewidth": 2
          }
         }
        },
        "width": 1400
       }
      },
      "text/html": [
       "<div>                            <div id=\"01f01382-7654-47bf-9942-d9eb2e349c56\" class=\"plotly-graph-div\" style=\"height:800px; width:1400px;\"></div>            <script type=\"text/javascript\">                require([\"plotly\"], function(Plotly) {                    window.PLOTLYENV=window.PLOTLYENV || {};                                    if (document.getElementById(\"01f01382-7654-47bf-9942-d9eb2e349c56\")) {                    Plotly.newPlot(                        \"01f01382-7654-47bf-9942-d9eb2e349c56\",                        [{\"hovertemplate\":\"label=0\\u003cbr\\u003evalue=%{r}\\u003cbr\\u003evariable=%{theta}\\u003cextra\\u003e\\u003c\\u002fextra\\u003e\",\"legendgroup\":\"0\",\"line\":{\"color\":\"#636efa\",\"dash\":\"solid\"},\"marker\":{\"symbol\":\"circle\"},\"mode\":\"lines\",\"name\":\"0\",\"r\":[0.07770351427046979,0.07123447572029497,0.07293527004101724,0.6485463934778971,0.22824739281211268,0.19195137254092579,0.07770351427046979],\"showlegend\":true,\"subplot\":\"polar\",\"theta\":[\"step_count\",\"burned calory\",\"eat_calory\",\"Sleep_time\",\"bmi\",\"waist_bmi\",\"step_count\"],\"type\":\"scatterpolar\"},{\"hovertemplate\":\"label=1\\u003cbr\\u003evalue=%{r}\\u003cbr\\u003evariable=%{theta}\\u003cextra\\u003e\\u003c\\u002fextra\\u003e\",\"legendgroup\":\"1\",\"line\":{\"color\":\"#EF553B\",\"dash\":\"solid\"},\"marker\":{\"symbol\":\"circle\"},\"mode\":\"lines\",\"name\":\"1\",\"r\":[0.11101465143103043,0.12120927858656587,0.07776246515576786,0.548111635656762,0.5474768000334292,0.4586484559709162,0.11101465143103043],\"showlegend\":true,\"subplot\":\"polar\",\"theta\":[\"step_count\",\"burned calory\",\"eat_calory\",\"Sleep_time\",\"bmi\",\"waist_bmi\",\"step_count\"],\"type\":\"scatterpolar\"},{\"hovertemplate\":\"label=2\\u003cbr\\u003evalue=%{r}\\u003cbr\\u003evariable=%{theta}\\u003cextra\\u003e\\u003c\\u002fextra\\u003e\",\"legendgroup\":\"2\",\"line\":{\"color\":\"#00cc96\",\"dash\":\"solid\"},\"marker\":{\"symbol\":\"circle\"},\"mode\":\"lines\",\"name\":\"2\",\"r\":[0.10098147018114698,0.07766485539768717,0.061687746104914155,0.2628726997602707,0.2729423619583032,0.21990146260274912,0.10098147018114698],\"showlegend\":true,\"subplot\":\"polar\",\"theta\":[\"step_count\",\"burned calory\",\"eat_calory\",\"Sleep_time\",\"bmi\",\"waist_bmi\",\"step_count\"],\"type\":\"scatterpolar\"}],                        {\"template\":{\"data\":{\"histogram2dcontour\":[{\"type\":\"histogram2dcontour\",\"colorbar\":{\"outlinewidth\":0,\"ticks\":\"\"},\"colorscale\":[[0.0,\"#0d0887\"],[0.1111111111111111,\"#46039f\"],[0.2222222222222222,\"#7201a8\"],[0.3333333333333333,\"#9c179e\"],[0.4444444444444444,\"#bd3786\"],[0.5555555555555556,\"#d8576b\"],[0.6666666666666666,\"#ed7953\"],[0.7777777777777778,\"#fb9f3a\"],[0.8888888888888888,\"#fdca26\"],[1.0,\"#f0f921\"]]}],\"choropleth\":[{\"type\":\"choropleth\",\"colorbar\":{\"outlinewidth\":0,\"ticks\":\"\"}}],\"histogram2d\":[{\"type\":\"histogram2d\",\"colorbar\":{\"outlinewidth\":0,\"ticks\":\"\"},\"colorscale\":[[0.0,\"#0d0887\"],[0.1111111111111111,\"#46039f\"],[0.2222222222222222,\"#7201a8\"],[0.3333333333333333,\"#9c179e\"],[0.4444444444444444,\"#bd3786\"],[0.5555555555555556,\"#d8576b\"],[0.6666666666666666,\"#ed7953\"],[0.7777777777777778,\"#fb9f3a\"],[0.8888888888888888,\"#fdca26\"],[1.0,\"#f0f921\"]]}],\"heatmap\":[{\"type\":\"heatmap\",\"colorbar\":{\"outlinewidth\":0,\"ticks\":\"\"},\"colorscale\":[[0.0,\"#0d0887\"],[0.1111111111111111,\"#46039f\"],[0.2222222222222222,\"#7201a8\"],[0.3333333333333333,\"#9c179e\"],[0.4444444444444444,\"#bd3786\"],[0.5555555555555556,\"#d8576b\"],[0.6666666666666666,\"#ed7953\"],[0.7777777777777778,\"#fb9f3a\"],[0.8888888888888888,\"#fdca26\"],[1.0,\"#f0f921\"]]}],\"heatmapgl\":[{\"type\":\"heatmapgl\",\"colorbar\":{\"outlinewidth\":0,\"ticks\":\"\"},\"colorscale\":[[0.0,\"#0d0887\"],[0.1111111111111111,\"#46039f\"],[0.2222222222222222,\"#7201a8\"],[0.3333333333333333,\"#9c179e\"],[0.4444444444444444,\"#bd3786\"],[0.5555555555555556,\"#d8576b\"],[0.6666666666666666,\"#ed7953\"],[0.7777777777777778,\"#fb9f3a\"],[0.8888888888888888,\"#fdca26\"],[1.0,\"#f0f921\"]]}],\"contourcarpet\":[{\"type\":\"contourcarpet\",\"colorbar\":{\"outlinewidth\":0,\"ticks\":\"\"}}],\"contour\":[{\"type\":\"contour\",\"colorbar\":{\"outlinewidth\":0,\"ticks\":\"\"},\"colorscale\":[[0.0,\"#0d0887\"],[0.1111111111111111,\"#46039f\"],[0.2222222222222222,\"#7201a8\"],[0.3333333333333333,\"#9c179e\"],[0.4444444444444444,\"#bd3786\"],[0.5555555555555556,\"#d8576b\"],[0.6666666666666666,\"#ed7953\"],[0.7777777777777778,\"#fb9f3a\"],[0.8888888888888888,\"#fdca26\"],[1.0,\"#f0f921\"]]}],\"surface\":[{\"type\":\"surface\",\"colorbar\":{\"outlinewidth\":0,\"ticks\":\"\"},\"colorscale\":[[0.0,\"#0d0887\"],[0.1111111111111111,\"#46039f\"],[0.2222222222222222,\"#7201a8\"],[0.3333333333333333,\"#9c179e\"],[0.4444444444444444,\"#bd3786\"],[0.5555555555555556,\"#d8576b\"],[0.6666666666666666,\"#ed7953\"],[0.7777777777777778,\"#fb9f3a\"],[0.8888888888888888,\"#fdca26\"],[1.0,\"#f0f921\"]]}],\"mesh3d\":[{\"type\":\"mesh3d\",\"colorbar\":{\"outlinewidth\":0,\"ticks\":\"\"}}],\"scatter\":[{\"fillpattern\":{\"fillmode\":\"overlay\",\"size\":10,\"solidity\":0.2},\"type\":\"scatter\"}],\"parcoords\":[{\"type\":\"parcoords\",\"line\":{\"colorbar\":{\"outlinewidth\":0,\"ticks\":\"\"}}}],\"scatterpolargl\":[{\"type\":\"scatterpolargl\",\"marker\":{\"colorbar\":{\"outlinewidth\":0,\"ticks\":\"\"}}}],\"bar\":[{\"error_x\":{\"color\":\"#2a3f5f\"},\"error_y\":{\"color\":\"#2a3f5f\"},\"marker\":{\"line\":{\"color\":\"#E5ECF6\",\"width\":0.5},\"pattern\":{\"fillmode\":\"overlay\",\"size\":10,\"solidity\":0.2}},\"type\":\"bar\"}],\"scattergeo\":[{\"type\":\"scattergeo\",\"marker\":{\"colorbar\":{\"outlinewidth\":0,\"ticks\":\"\"}}}],\"scatterpolar\":[{\"type\":\"scatterpolar\",\"marker\":{\"colorbar\":{\"outlinewidth\":0,\"ticks\":\"\"}}}],\"histogram\":[{\"marker\":{\"pattern\":{\"fillmode\":\"overlay\",\"size\":10,\"solidity\":0.2}},\"type\":\"histogram\"}],\"scattergl\":[{\"type\":\"scattergl\",\"marker\":{\"colorbar\":{\"outlinewidth\":0,\"ticks\":\"\"}}}],\"scatter3d\":[{\"type\":\"scatter3d\",\"line\":{\"colorbar\":{\"outlinewidth\":0,\"ticks\":\"\"}},\"marker\":{\"colorbar\":{\"outlinewidth\":0,\"ticks\":\"\"}}}],\"scattermapbox\":[{\"type\":\"scattermapbox\",\"marker\":{\"colorbar\":{\"outlinewidth\":0,\"ticks\":\"\"}}}],\"scatterternary\":[{\"type\":\"scatterternary\",\"marker\":{\"colorbar\":{\"outlinewidth\":0,\"ticks\":\"\"}}}],\"scattercarpet\":[{\"type\":\"scattercarpet\",\"marker\":{\"colorbar\":{\"outlinewidth\":0,\"ticks\":\"\"}}}],\"carpet\":[{\"aaxis\":{\"endlinecolor\":\"#2a3f5f\",\"gridcolor\":\"white\",\"linecolor\":\"white\",\"minorgridcolor\":\"white\",\"startlinecolor\":\"#2a3f5f\"},\"baxis\":{\"endlinecolor\":\"#2a3f5f\",\"gridcolor\":\"white\",\"linecolor\":\"white\",\"minorgridcolor\":\"white\",\"startlinecolor\":\"#2a3f5f\"},\"type\":\"carpet\"}],\"table\":[{\"cells\":{\"fill\":{\"color\":\"#EBF0F8\"},\"line\":{\"color\":\"white\"}},\"header\":{\"fill\":{\"color\":\"#C8D4E3\"},\"line\":{\"color\":\"white\"}},\"type\":\"table\"}],\"barpolar\":[{\"marker\":{\"line\":{\"color\":\"#E5ECF6\",\"width\":0.5},\"pattern\":{\"fillmode\":\"overlay\",\"size\":10,\"solidity\":0.2}},\"type\":\"barpolar\"}],\"pie\":[{\"automargin\":true,\"type\":\"pie\"}]},\"layout\":{\"autotypenumbers\":\"strict\",\"colorway\":[\"#636efa\",\"#EF553B\",\"#00cc96\",\"#ab63fa\",\"#FFA15A\",\"#19d3f3\",\"#FF6692\",\"#B6E880\",\"#FF97FF\",\"#FECB52\"],\"font\":{\"color\":\"#2a3f5f\"},\"hovermode\":\"closest\",\"hoverlabel\":{\"align\":\"left\"},\"paper_bgcolor\":\"white\",\"plot_bgcolor\":\"#E5ECF6\",\"polar\":{\"bgcolor\":\"#E5ECF6\",\"angularaxis\":{\"gridcolor\":\"white\",\"linecolor\":\"white\",\"ticks\":\"\"},\"radialaxis\":{\"gridcolor\":\"white\",\"linecolor\":\"white\",\"ticks\":\"\"}},\"ternary\":{\"bgcolor\":\"#E5ECF6\",\"aaxis\":{\"gridcolor\":\"white\",\"linecolor\":\"white\",\"ticks\":\"\"},\"baxis\":{\"gridcolor\":\"white\",\"linecolor\":\"white\",\"ticks\":\"\"},\"caxis\":{\"gridcolor\":\"white\",\"linecolor\":\"white\",\"ticks\":\"\"}},\"coloraxis\":{\"colorbar\":{\"outlinewidth\":0,\"ticks\":\"\"}},\"colorscale\":{\"sequential\":[[0.0,\"#0d0887\"],[0.1111111111111111,\"#46039f\"],[0.2222222222222222,\"#7201a8\"],[0.3333333333333333,\"#9c179e\"],[0.4444444444444444,\"#bd3786\"],[0.5555555555555556,\"#d8576b\"],[0.6666666666666666,\"#ed7953\"],[0.7777777777777778,\"#fb9f3a\"],[0.8888888888888888,\"#fdca26\"],[1.0,\"#f0f921\"]],\"sequentialminus\":[[0.0,\"#0d0887\"],[0.1111111111111111,\"#46039f\"],[0.2222222222222222,\"#7201a8\"],[0.3333333333333333,\"#9c179e\"],[0.4444444444444444,\"#bd3786\"],[0.5555555555555556,\"#d8576b\"],[0.6666666666666666,\"#ed7953\"],[0.7777777777777778,\"#fb9f3a\"],[0.8888888888888888,\"#fdca26\"],[1.0,\"#f0f921\"]],\"diverging\":[[0,\"#8e0152\"],[0.1,\"#c51b7d\"],[0.2,\"#de77ae\"],[0.3,\"#f1b6da\"],[0.4,\"#fde0ef\"],[0.5,\"#f7f7f7\"],[0.6,\"#e6f5d0\"],[0.7,\"#b8e186\"],[0.8,\"#7fbc41\"],[0.9,\"#4d9221\"],[1,\"#276419\"]]},\"xaxis\":{\"gridcolor\":\"white\",\"linecolor\":\"white\",\"ticks\":\"\",\"title\":{\"standoff\":15},\"zerolinecolor\":\"white\",\"automargin\":true,\"zerolinewidth\":2},\"yaxis\":{\"gridcolor\":\"white\",\"linecolor\":\"white\",\"ticks\":\"\",\"title\":{\"standoff\":15},\"zerolinecolor\":\"white\",\"automargin\":true,\"zerolinewidth\":2},\"scene\":{\"xaxis\":{\"backgroundcolor\":\"#E5ECF6\",\"gridcolor\":\"white\",\"linecolor\":\"white\",\"showbackground\":true,\"ticks\":\"\",\"zerolinecolor\":\"white\",\"gridwidth\":2},\"yaxis\":{\"backgroundcolor\":\"#E5ECF6\",\"gridcolor\":\"white\",\"linecolor\":\"white\",\"showbackground\":true,\"ticks\":\"\",\"zerolinecolor\":\"white\",\"gridwidth\":2},\"zaxis\":{\"backgroundcolor\":\"#E5ECF6\",\"gridcolor\":\"white\",\"linecolor\":\"white\",\"showbackground\":true,\"ticks\":\"\",\"zerolinecolor\":\"white\",\"gridwidth\":2}},\"shapedefaults\":{\"line\":{\"color\":\"#2a3f5f\"}},\"annotationdefaults\":{\"arrowcolor\":\"#2a3f5f\",\"arrowhead\":0,\"arrowwidth\":1},\"geo\":{\"bgcolor\":\"white\",\"landcolor\":\"#E5ECF6\",\"subunitcolor\":\"white\",\"showland\":true,\"showlakes\":true,\"lakecolor\":\"white\"},\"title\":{\"x\":0.05},\"mapbox\":{\"style\":\"light\"}}},\"polar\":{\"domain\":{\"x\":[0.0,1.0],\"y\":[0.0,1.0]},\"angularaxis\":{\"direction\":\"clockwise\",\"rotation\":90}},\"legend\":{\"title\":{\"text\":\"label\"},\"tracegroupgap\":0},\"margin\":{\"t\":60},\"height\":800,\"width\":1400},                        {\"responsive\": true}                    ).then(function(){\n",
       "                            \n",
       "var gd = document.getElementById('01f01382-7654-47bf-9942-d9eb2e349c56');\n",
       "var x = new MutationObserver(function (mutations, observer) {{\n",
       "        var display = window.getComputedStyle(gd).display;\n",
       "        if (!display || display === 'none') {{\n",
       "            console.log([gd, 'removed!']);\n",
       "            Plotly.purge(gd);\n",
       "            observer.disconnect();\n",
       "        }}\n",
       "}});\n",
       "\n",
       "// Listen for the removal of the full notebook cells\n",
       "var notebookContainer = gd.closest('#notebook-container');\n",
       "if (notebookContainer) {{\n",
       "    x.observe(notebookContainer, {childList: true});\n",
       "}}\n",
       "\n",
       "// Listen for the clearing of the current output cell\n",
       "var outputEl = gd.closest('.output');\n",
       "if (outputEl) {{\n",
       "    x.observe(outputEl, {childList: true});\n",
       "}}\n",
       "\n",
       "                        })                };                });            </script>        </div>"
      ]
     },
     "metadata": {},
     "output_type": "display_data"
    },
    {
     "data": {
      "application/vnd.plotly.v1+json": {
       "config": {
        "plotlyServerURL": "https://plot.ly"
       },
       "data": [
        {
         "customdata": [
          [
           "blue"
          ],
          [
           "red"
          ],
          [
           "green"
          ]
         ],
         "domain": {
          "x": [
           0,
           1
          ],
          "y": [
           0,
           1
          ]
         },
         "hovertemplate": "label=%{label}<br>value=%{value}<br>color=%{customdata[0]}<extra></extra>",
         "labels": [
          0,
          1,
          2
         ],
         "legendgroup": "",
         "marker": {
          "colors": [
           "#636efa",
           "#EF553B",
           "#00cc96"
          ]
         },
         "name": "",
         "showlegend": true,
         "type": "pie",
         "values": [
          151,
          78,
          98
         ]
        }
       ],
       "layout": {
        "legend": {
         "tracegroupgap": 0
        },
        "margin": {
         "t": 60
        },
        "template": {
         "data": {
          "bar": [
           {
            "error_x": {
             "color": "#2a3f5f"
            },
            "error_y": {
             "color": "#2a3f5f"
            },
            "marker": {
             "line": {
              "color": "#E5ECF6",
              "width": 0.5
             },
             "pattern": {
              "fillmode": "overlay",
              "size": 10,
              "solidity": 0.2
             }
            },
            "type": "bar"
           }
          ],
          "barpolar": [
           {
            "marker": {
             "line": {
              "color": "#E5ECF6",
              "width": 0.5
             },
             "pattern": {
              "fillmode": "overlay",
              "size": 10,
              "solidity": 0.2
             }
            },
            "type": "barpolar"
           }
          ],
          "carpet": [
           {
            "aaxis": {
             "endlinecolor": "#2a3f5f",
             "gridcolor": "white",
             "linecolor": "white",
             "minorgridcolor": "white",
             "startlinecolor": "#2a3f5f"
            },
            "baxis": {
             "endlinecolor": "#2a3f5f",
             "gridcolor": "white",
             "linecolor": "white",
             "minorgridcolor": "white",
             "startlinecolor": "#2a3f5f"
            },
            "type": "carpet"
           }
          ],
          "choropleth": [
           {
            "colorbar": {
             "outlinewidth": 0,
             "ticks": ""
            },
            "type": "choropleth"
           }
          ],
          "contour": [
           {
            "colorbar": {
             "outlinewidth": 0,
             "ticks": ""
            },
            "colorscale": [
             [
              0,
              "#0d0887"
             ],
             [
              0.1111111111111111,
              "#46039f"
             ],
             [
              0.2222222222222222,
              "#7201a8"
             ],
             [
              0.3333333333333333,
              "#9c179e"
             ],
             [
              0.4444444444444444,
              "#bd3786"
             ],
             [
              0.5555555555555556,
              "#d8576b"
             ],
             [
              0.6666666666666666,
              "#ed7953"
             ],
             [
              0.7777777777777778,
              "#fb9f3a"
             ],
             [
              0.8888888888888888,
              "#fdca26"
             ],
             [
              1,
              "#f0f921"
             ]
            ],
            "type": "contour"
           }
          ],
          "contourcarpet": [
           {
            "colorbar": {
             "outlinewidth": 0,
             "ticks": ""
            },
            "type": "contourcarpet"
           }
          ],
          "heatmap": [
           {
            "colorbar": {
             "outlinewidth": 0,
             "ticks": ""
            },
            "colorscale": [
             [
              0,
              "#0d0887"
             ],
             [
              0.1111111111111111,
              "#46039f"
             ],
             [
              0.2222222222222222,
              "#7201a8"
             ],
             [
              0.3333333333333333,
              "#9c179e"
             ],
             [
              0.4444444444444444,
              "#bd3786"
             ],
             [
              0.5555555555555556,
              "#d8576b"
             ],
             [
              0.6666666666666666,
              "#ed7953"
             ],
             [
              0.7777777777777778,
              "#fb9f3a"
             ],
             [
              0.8888888888888888,
              "#fdca26"
             ],
             [
              1,
              "#f0f921"
             ]
            ],
            "type": "heatmap"
           }
          ],
          "heatmapgl": [
           {
            "colorbar": {
             "outlinewidth": 0,
             "ticks": ""
            },
            "colorscale": [
             [
              0,
              "#0d0887"
             ],
             [
              0.1111111111111111,
              "#46039f"
             ],
             [
              0.2222222222222222,
              "#7201a8"
             ],
             [
              0.3333333333333333,
              "#9c179e"
             ],
             [
              0.4444444444444444,
              "#bd3786"
             ],
             [
              0.5555555555555556,
              "#d8576b"
             ],
             [
              0.6666666666666666,
              "#ed7953"
             ],
             [
              0.7777777777777778,
              "#fb9f3a"
             ],
             [
              0.8888888888888888,
              "#fdca26"
             ],
             [
              1,
              "#f0f921"
             ]
            ],
            "type": "heatmapgl"
           }
          ],
          "histogram": [
           {
            "marker": {
             "pattern": {
              "fillmode": "overlay",
              "size": 10,
              "solidity": 0.2
             }
            },
            "type": "histogram"
           }
          ],
          "histogram2d": [
           {
            "colorbar": {
             "outlinewidth": 0,
             "ticks": ""
            },
            "colorscale": [
             [
              0,
              "#0d0887"
             ],
             [
              0.1111111111111111,
              "#46039f"
             ],
             [
              0.2222222222222222,
              "#7201a8"
             ],
             [
              0.3333333333333333,
              "#9c179e"
             ],
             [
              0.4444444444444444,
              "#bd3786"
             ],
             [
              0.5555555555555556,
              "#d8576b"
             ],
             [
              0.6666666666666666,
              "#ed7953"
             ],
             [
              0.7777777777777778,
              "#fb9f3a"
             ],
             [
              0.8888888888888888,
              "#fdca26"
             ],
             [
              1,
              "#f0f921"
             ]
            ],
            "type": "histogram2d"
           }
          ],
          "histogram2dcontour": [
           {
            "colorbar": {
             "outlinewidth": 0,
             "ticks": ""
            },
            "colorscale": [
             [
              0,
              "#0d0887"
             ],
             [
              0.1111111111111111,
              "#46039f"
             ],
             [
              0.2222222222222222,
              "#7201a8"
             ],
             [
              0.3333333333333333,
              "#9c179e"
             ],
             [
              0.4444444444444444,
              "#bd3786"
             ],
             [
              0.5555555555555556,
              "#d8576b"
             ],
             [
              0.6666666666666666,
              "#ed7953"
             ],
             [
              0.7777777777777778,
              "#fb9f3a"
             ],
             [
              0.8888888888888888,
              "#fdca26"
             ],
             [
              1,
              "#f0f921"
             ]
            ],
            "type": "histogram2dcontour"
           }
          ],
          "mesh3d": [
           {
            "colorbar": {
             "outlinewidth": 0,
             "ticks": ""
            },
            "type": "mesh3d"
           }
          ],
          "parcoords": [
           {
            "line": {
             "colorbar": {
              "outlinewidth": 0,
              "ticks": ""
             }
            },
            "type": "parcoords"
           }
          ],
          "pie": [
           {
            "automargin": true,
            "type": "pie"
           }
          ],
          "scatter": [
           {
            "fillpattern": {
             "fillmode": "overlay",
             "size": 10,
             "solidity": 0.2
            },
            "type": "scatter"
           }
          ],
          "scatter3d": [
           {
            "line": {
             "colorbar": {
              "outlinewidth": 0,
              "ticks": ""
             }
            },
            "marker": {
             "colorbar": {
              "outlinewidth": 0,
              "ticks": ""
             }
            },
            "type": "scatter3d"
           }
          ],
          "scattercarpet": [
           {
            "marker": {
             "colorbar": {
              "outlinewidth": 0,
              "ticks": ""
             }
            },
            "type": "scattercarpet"
           }
          ],
          "scattergeo": [
           {
            "marker": {
             "colorbar": {
              "outlinewidth": 0,
              "ticks": ""
             }
            },
            "type": "scattergeo"
           }
          ],
          "scattergl": [
           {
            "marker": {
             "colorbar": {
              "outlinewidth": 0,
              "ticks": ""
             }
            },
            "type": "scattergl"
           }
          ],
          "scattermapbox": [
           {
            "marker": {
             "colorbar": {
              "outlinewidth": 0,
              "ticks": ""
             }
            },
            "type": "scattermapbox"
           }
          ],
          "scatterpolar": [
           {
            "marker": {
             "colorbar": {
              "outlinewidth": 0,
              "ticks": ""
             }
            },
            "type": "scatterpolar"
           }
          ],
          "scatterpolargl": [
           {
            "marker": {
             "colorbar": {
              "outlinewidth": 0,
              "ticks": ""
             }
            },
            "type": "scatterpolargl"
           }
          ],
          "scatterternary": [
           {
            "marker": {
             "colorbar": {
              "outlinewidth": 0,
              "ticks": ""
             }
            },
            "type": "scatterternary"
           }
          ],
          "surface": [
           {
            "colorbar": {
             "outlinewidth": 0,
             "ticks": ""
            },
            "colorscale": [
             [
              0,
              "#0d0887"
             ],
             [
              0.1111111111111111,
              "#46039f"
             ],
             [
              0.2222222222222222,
              "#7201a8"
             ],
             [
              0.3333333333333333,
              "#9c179e"
             ],
             [
              0.4444444444444444,
              "#bd3786"
             ],
             [
              0.5555555555555556,
              "#d8576b"
             ],
             [
              0.6666666666666666,
              "#ed7953"
             ],
             [
              0.7777777777777778,
              "#fb9f3a"
             ],
             [
              0.8888888888888888,
              "#fdca26"
             ],
             [
              1,
              "#f0f921"
             ]
            ],
            "type": "surface"
           }
          ],
          "table": [
           {
            "cells": {
             "fill": {
              "color": "#EBF0F8"
             },
             "line": {
              "color": "white"
             }
            },
            "header": {
             "fill": {
              "color": "#C8D4E3"
             },
             "line": {
              "color": "white"
             }
            },
            "type": "table"
           }
          ]
         },
         "layout": {
          "annotationdefaults": {
           "arrowcolor": "#2a3f5f",
           "arrowhead": 0,
           "arrowwidth": 1
          },
          "autotypenumbers": "strict",
          "coloraxis": {
           "colorbar": {
            "outlinewidth": 0,
            "ticks": ""
           }
          },
          "colorscale": {
           "diverging": [
            [
             0,
             "#8e0152"
            ],
            [
             0.1,
             "#c51b7d"
            ],
            [
             0.2,
             "#de77ae"
            ],
            [
             0.3,
             "#f1b6da"
            ],
            [
             0.4,
             "#fde0ef"
            ],
            [
             0.5,
             "#f7f7f7"
            ],
            [
             0.6,
             "#e6f5d0"
            ],
            [
             0.7,
             "#b8e186"
            ],
            [
             0.8,
             "#7fbc41"
            ],
            [
             0.9,
             "#4d9221"
            ],
            [
             1,
             "#276419"
            ]
           ],
           "sequential": [
            [
             0,
             "#0d0887"
            ],
            [
             0.1111111111111111,
             "#46039f"
            ],
            [
             0.2222222222222222,
             "#7201a8"
            ],
            [
             0.3333333333333333,
             "#9c179e"
            ],
            [
             0.4444444444444444,
             "#bd3786"
            ],
            [
             0.5555555555555556,
             "#d8576b"
            ],
            [
             0.6666666666666666,
             "#ed7953"
            ],
            [
             0.7777777777777778,
             "#fb9f3a"
            ],
            [
             0.8888888888888888,
             "#fdca26"
            ],
            [
             1,
             "#f0f921"
            ]
           ],
           "sequentialminus": [
            [
             0,
             "#0d0887"
            ],
            [
             0.1111111111111111,
             "#46039f"
            ],
            [
             0.2222222222222222,
             "#7201a8"
            ],
            [
             0.3333333333333333,
             "#9c179e"
            ],
            [
             0.4444444444444444,
             "#bd3786"
            ],
            [
             0.5555555555555556,
             "#d8576b"
            ],
            [
             0.6666666666666666,
             "#ed7953"
            ],
            [
             0.7777777777777778,
             "#fb9f3a"
            ],
            [
             0.8888888888888888,
             "#fdca26"
            ],
            [
             1,
             "#f0f921"
            ]
           ]
          },
          "colorway": [
           "#636efa",
           "#EF553B",
           "#00cc96",
           "#ab63fa",
           "#FFA15A",
           "#19d3f3",
           "#FF6692",
           "#B6E880",
           "#FF97FF",
           "#FECB52"
          ],
          "font": {
           "color": "#2a3f5f"
          },
          "geo": {
           "bgcolor": "white",
           "lakecolor": "white",
           "landcolor": "#E5ECF6",
           "showlakes": true,
           "showland": true,
           "subunitcolor": "white"
          },
          "hoverlabel": {
           "align": "left"
          },
          "hovermode": "closest",
          "mapbox": {
           "style": "light"
          },
          "paper_bgcolor": "white",
          "plot_bgcolor": "#E5ECF6",
          "polar": {
           "angularaxis": {
            "gridcolor": "white",
            "linecolor": "white",
            "ticks": ""
           },
           "bgcolor": "#E5ECF6",
           "radialaxis": {
            "gridcolor": "white",
            "linecolor": "white",
            "ticks": ""
           }
          },
          "scene": {
           "xaxis": {
            "backgroundcolor": "#E5ECF6",
            "gridcolor": "white",
            "gridwidth": 2,
            "linecolor": "white",
            "showbackground": true,
            "ticks": "",
            "zerolinecolor": "white"
           },
           "yaxis": {
            "backgroundcolor": "#E5ECF6",
            "gridcolor": "white",
            "gridwidth": 2,
            "linecolor": "white",
            "showbackground": true,
            "ticks": "",
            "zerolinecolor": "white"
           },
           "zaxis": {
            "backgroundcolor": "#E5ECF6",
            "gridcolor": "white",
            "gridwidth": 2,
            "linecolor": "white",
            "showbackground": true,
            "ticks": "",
            "zerolinecolor": "white"
           }
          },
          "shapedefaults": {
           "line": {
            "color": "#2a3f5f"
           }
          },
          "ternary": {
           "aaxis": {
            "gridcolor": "white",
            "linecolor": "white",
            "ticks": ""
           },
           "baxis": {
            "gridcolor": "white",
            "linecolor": "white",
            "ticks": ""
           },
           "bgcolor": "#E5ECF6",
           "caxis": {
            "gridcolor": "white",
            "linecolor": "white",
            "ticks": ""
           }
          },
          "title": {
           "x": 0.05
          },
          "xaxis": {
           "automargin": true,
           "gridcolor": "white",
           "linecolor": "white",
           "ticks": "",
           "title": {
            "standoff": 15
           },
           "zerolinecolor": "white",
           "zerolinewidth": 2
          },
          "yaxis": {
           "automargin": true,
           "gridcolor": "white",
           "linecolor": "white",
           "ticks": "",
           "title": {
            "standoff": 15
           },
           "zerolinecolor": "white",
           "zerolinewidth": 2
          }
         }
        }
       }
      },
      "text/html": [
       "<div>                            <div id=\"c10c51b5-41c3-4000-a192-ea774c3e5404\" class=\"plotly-graph-div\" style=\"height:525px; width:100%;\"></div>            <script type=\"text/javascript\">                require([\"plotly\"], function(Plotly) {                    window.PLOTLYENV=window.PLOTLYENV || {};                                    if (document.getElementById(\"c10c51b5-41c3-4000-a192-ea774c3e5404\")) {                    Plotly.newPlot(                        \"c10c51b5-41c3-4000-a192-ea774c3e5404\",                        [{\"customdata\":[[\"blue\"],[\"red\"],[\"green\"]],\"domain\":{\"x\":[0.0,1.0],\"y\":[0.0,1.0]},\"hovertemplate\":\"label=%{label}\\u003cbr\\u003evalue=%{value}\\u003cbr\\u003ecolor=%{customdata[0]}\\u003cextra\\u003e\\u003c\\u002fextra\\u003e\",\"labels\":[0,1,2],\"legendgroup\":\"\",\"marker\":{\"colors\":[\"#636efa\",\"#EF553B\",\"#00cc96\"]},\"name\":\"\",\"showlegend\":true,\"values\":[151,78,98],\"type\":\"pie\"}],                        {\"template\":{\"data\":{\"histogram2dcontour\":[{\"type\":\"histogram2dcontour\",\"colorbar\":{\"outlinewidth\":0,\"ticks\":\"\"},\"colorscale\":[[0.0,\"#0d0887\"],[0.1111111111111111,\"#46039f\"],[0.2222222222222222,\"#7201a8\"],[0.3333333333333333,\"#9c179e\"],[0.4444444444444444,\"#bd3786\"],[0.5555555555555556,\"#d8576b\"],[0.6666666666666666,\"#ed7953\"],[0.7777777777777778,\"#fb9f3a\"],[0.8888888888888888,\"#fdca26\"],[1.0,\"#f0f921\"]]}],\"choropleth\":[{\"type\":\"choropleth\",\"colorbar\":{\"outlinewidth\":0,\"ticks\":\"\"}}],\"histogram2d\":[{\"type\":\"histogram2d\",\"colorbar\":{\"outlinewidth\":0,\"ticks\":\"\"},\"colorscale\":[[0.0,\"#0d0887\"],[0.1111111111111111,\"#46039f\"],[0.2222222222222222,\"#7201a8\"],[0.3333333333333333,\"#9c179e\"],[0.4444444444444444,\"#bd3786\"],[0.5555555555555556,\"#d8576b\"],[0.6666666666666666,\"#ed7953\"],[0.7777777777777778,\"#fb9f3a\"],[0.8888888888888888,\"#fdca26\"],[1.0,\"#f0f921\"]]}],\"heatmap\":[{\"type\":\"heatmap\",\"colorbar\":{\"outlinewidth\":0,\"ticks\":\"\"},\"colorscale\":[[0.0,\"#0d0887\"],[0.1111111111111111,\"#46039f\"],[0.2222222222222222,\"#7201a8\"],[0.3333333333333333,\"#9c179e\"],[0.4444444444444444,\"#bd3786\"],[0.5555555555555556,\"#d8576b\"],[0.6666666666666666,\"#ed7953\"],[0.7777777777777778,\"#fb9f3a\"],[0.8888888888888888,\"#fdca26\"],[1.0,\"#f0f921\"]]}],\"heatmapgl\":[{\"type\":\"heatmapgl\",\"colorbar\":{\"outlinewidth\":0,\"ticks\":\"\"},\"colorscale\":[[0.0,\"#0d0887\"],[0.1111111111111111,\"#46039f\"],[0.2222222222222222,\"#7201a8\"],[0.3333333333333333,\"#9c179e\"],[0.4444444444444444,\"#bd3786\"],[0.5555555555555556,\"#d8576b\"],[0.6666666666666666,\"#ed7953\"],[0.7777777777777778,\"#fb9f3a\"],[0.8888888888888888,\"#fdca26\"],[1.0,\"#f0f921\"]]}],\"contourcarpet\":[{\"type\":\"contourcarpet\",\"colorbar\":{\"outlinewidth\":0,\"ticks\":\"\"}}],\"contour\":[{\"type\":\"contour\",\"colorbar\":{\"outlinewidth\":0,\"ticks\":\"\"},\"colorscale\":[[0.0,\"#0d0887\"],[0.1111111111111111,\"#46039f\"],[0.2222222222222222,\"#7201a8\"],[0.3333333333333333,\"#9c179e\"],[0.4444444444444444,\"#bd3786\"],[0.5555555555555556,\"#d8576b\"],[0.6666666666666666,\"#ed7953\"],[0.7777777777777778,\"#fb9f3a\"],[0.8888888888888888,\"#fdca26\"],[1.0,\"#f0f921\"]]}],\"surface\":[{\"type\":\"surface\",\"colorbar\":{\"outlinewidth\":0,\"ticks\":\"\"},\"colorscale\":[[0.0,\"#0d0887\"],[0.1111111111111111,\"#46039f\"],[0.2222222222222222,\"#7201a8\"],[0.3333333333333333,\"#9c179e\"],[0.4444444444444444,\"#bd3786\"],[0.5555555555555556,\"#d8576b\"],[0.6666666666666666,\"#ed7953\"],[0.7777777777777778,\"#fb9f3a\"],[0.8888888888888888,\"#fdca26\"],[1.0,\"#f0f921\"]]}],\"mesh3d\":[{\"type\":\"mesh3d\",\"colorbar\":{\"outlinewidth\":0,\"ticks\":\"\"}}],\"scatter\":[{\"fillpattern\":{\"fillmode\":\"overlay\",\"size\":10,\"solidity\":0.2},\"type\":\"scatter\"}],\"parcoords\":[{\"type\":\"parcoords\",\"line\":{\"colorbar\":{\"outlinewidth\":0,\"ticks\":\"\"}}}],\"scatterpolargl\":[{\"type\":\"scatterpolargl\",\"marker\":{\"colorbar\":{\"outlinewidth\":0,\"ticks\":\"\"}}}],\"bar\":[{\"error_x\":{\"color\":\"#2a3f5f\"},\"error_y\":{\"color\":\"#2a3f5f\"},\"marker\":{\"line\":{\"color\":\"#E5ECF6\",\"width\":0.5},\"pattern\":{\"fillmode\":\"overlay\",\"size\":10,\"solidity\":0.2}},\"type\":\"bar\"}],\"scattergeo\":[{\"type\":\"scattergeo\",\"marker\":{\"colorbar\":{\"outlinewidth\":0,\"ticks\":\"\"}}}],\"scatterpolar\":[{\"type\":\"scatterpolar\",\"marker\":{\"colorbar\":{\"outlinewidth\":0,\"ticks\":\"\"}}}],\"histogram\":[{\"marker\":{\"pattern\":{\"fillmode\":\"overlay\",\"size\":10,\"solidity\":0.2}},\"type\":\"histogram\"}],\"scattergl\":[{\"type\":\"scattergl\",\"marker\":{\"colorbar\":{\"outlinewidth\":0,\"ticks\":\"\"}}}],\"scatter3d\":[{\"type\":\"scatter3d\",\"line\":{\"colorbar\":{\"outlinewidth\":0,\"ticks\":\"\"}},\"marker\":{\"colorbar\":{\"outlinewidth\":0,\"ticks\":\"\"}}}],\"scattermapbox\":[{\"type\":\"scattermapbox\",\"marker\":{\"colorbar\":{\"outlinewidth\":0,\"ticks\":\"\"}}}],\"scatterternary\":[{\"type\":\"scatterternary\",\"marker\":{\"colorbar\":{\"outlinewidth\":0,\"ticks\":\"\"}}}],\"scattercarpet\":[{\"type\":\"scattercarpet\",\"marker\":{\"colorbar\":{\"outlinewidth\":0,\"ticks\":\"\"}}}],\"carpet\":[{\"aaxis\":{\"endlinecolor\":\"#2a3f5f\",\"gridcolor\":\"white\",\"linecolor\":\"white\",\"minorgridcolor\":\"white\",\"startlinecolor\":\"#2a3f5f\"},\"baxis\":{\"endlinecolor\":\"#2a3f5f\",\"gridcolor\":\"white\",\"linecolor\":\"white\",\"minorgridcolor\":\"white\",\"startlinecolor\":\"#2a3f5f\"},\"type\":\"carpet\"}],\"table\":[{\"cells\":{\"fill\":{\"color\":\"#EBF0F8\"},\"line\":{\"color\":\"white\"}},\"header\":{\"fill\":{\"color\":\"#C8D4E3\"},\"line\":{\"color\":\"white\"}},\"type\":\"table\"}],\"barpolar\":[{\"marker\":{\"line\":{\"color\":\"#E5ECF6\",\"width\":0.5},\"pattern\":{\"fillmode\":\"overlay\",\"size\":10,\"solidity\":0.2}},\"type\":\"barpolar\"}],\"pie\":[{\"automargin\":true,\"type\":\"pie\"}]},\"layout\":{\"autotypenumbers\":\"strict\",\"colorway\":[\"#636efa\",\"#EF553B\",\"#00cc96\",\"#ab63fa\",\"#FFA15A\",\"#19d3f3\",\"#FF6692\",\"#B6E880\",\"#FF97FF\",\"#FECB52\"],\"font\":{\"color\":\"#2a3f5f\"},\"hovermode\":\"closest\",\"hoverlabel\":{\"align\":\"left\"},\"paper_bgcolor\":\"white\",\"plot_bgcolor\":\"#E5ECF6\",\"polar\":{\"bgcolor\":\"#E5ECF6\",\"angularaxis\":{\"gridcolor\":\"white\",\"linecolor\":\"white\",\"ticks\":\"\"},\"radialaxis\":{\"gridcolor\":\"white\",\"linecolor\":\"white\",\"ticks\":\"\"}},\"ternary\":{\"bgcolor\":\"#E5ECF6\",\"aaxis\":{\"gridcolor\":\"white\",\"linecolor\":\"white\",\"ticks\":\"\"},\"baxis\":{\"gridcolor\":\"white\",\"linecolor\":\"white\",\"ticks\":\"\"},\"caxis\":{\"gridcolor\":\"white\",\"linecolor\":\"white\",\"ticks\":\"\"}},\"coloraxis\":{\"colorbar\":{\"outlinewidth\":0,\"ticks\":\"\"}},\"colorscale\":{\"sequential\":[[0.0,\"#0d0887\"],[0.1111111111111111,\"#46039f\"],[0.2222222222222222,\"#7201a8\"],[0.3333333333333333,\"#9c179e\"],[0.4444444444444444,\"#bd3786\"],[0.5555555555555556,\"#d8576b\"],[0.6666666666666666,\"#ed7953\"],[0.7777777777777778,\"#fb9f3a\"],[0.8888888888888888,\"#fdca26\"],[1.0,\"#f0f921\"]],\"sequentialminus\":[[0.0,\"#0d0887\"],[0.1111111111111111,\"#46039f\"],[0.2222222222222222,\"#7201a8\"],[0.3333333333333333,\"#9c179e\"],[0.4444444444444444,\"#bd3786\"],[0.5555555555555556,\"#d8576b\"],[0.6666666666666666,\"#ed7953\"],[0.7777777777777778,\"#fb9f3a\"],[0.8888888888888888,\"#fdca26\"],[1.0,\"#f0f921\"]],\"diverging\":[[0,\"#8e0152\"],[0.1,\"#c51b7d\"],[0.2,\"#de77ae\"],[0.3,\"#f1b6da\"],[0.4,\"#fde0ef\"],[0.5,\"#f7f7f7\"],[0.6,\"#e6f5d0\"],[0.7,\"#b8e186\"],[0.8,\"#7fbc41\"],[0.9,\"#4d9221\"],[1,\"#276419\"]]},\"xaxis\":{\"gridcolor\":\"white\",\"linecolor\":\"white\",\"ticks\":\"\",\"title\":{\"standoff\":15},\"zerolinecolor\":\"white\",\"automargin\":true,\"zerolinewidth\":2},\"yaxis\":{\"gridcolor\":\"white\",\"linecolor\":\"white\",\"ticks\":\"\",\"title\":{\"standoff\":15},\"zerolinecolor\":\"white\",\"automargin\":true,\"zerolinewidth\":2},\"scene\":{\"xaxis\":{\"backgroundcolor\":\"#E5ECF6\",\"gridcolor\":\"white\",\"linecolor\":\"white\",\"showbackground\":true,\"ticks\":\"\",\"zerolinecolor\":\"white\",\"gridwidth\":2},\"yaxis\":{\"backgroundcolor\":\"#E5ECF6\",\"gridcolor\":\"white\",\"linecolor\":\"white\",\"showbackground\":true,\"ticks\":\"\",\"zerolinecolor\":\"white\",\"gridwidth\":2},\"zaxis\":{\"backgroundcolor\":\"#E5ECF6\",\"gridcolor\":\"white\",\"linecolor\":\"white\",\"showbackground\":true,\"ticks\":\"\",\"zerolinecolor\":\"white\",\"gridwidth\":2}},\"shapedefaults\":{\"line\":{\"color\":\"#2a3f5f\"}},\"annotationdefaults\":{\"arrowcolor\":\"#2a3f5f\",\"arrowhead\":0,\"arrowwidth\":1},\"geo\":{\"bgcolor\":\"white\",\"landcolor\":\"#E5ECF6\",\"subunitcolor\":\"white\",\"showland\":true,\"showlakes\":true,\"lakecolor\":\"white\"},\"title\":{\"x\":0.05},\"mapbox\":{\"style\":\"light\"}}},\"legend\":{\"tracegroupgap\":0},\"margin\":{\"t\":60}},                        {\"responsive\": true}                    ).then(function(){\n",
       "                            \n",
       "var gd = document.getElementById('c10c51b5-41c3-4000-a192-ea774c3e5404');\n",
       "var x = new MutationObserver(function (mutations, observer) {{\n",
       "        var display = window.getComputedStyle(gd).display;\n",
       "        if (!display || display === 'none') {{\n",
       "            console.log([gd, 'removed!']);\n",
       "            Plotly.purge(gd);\n",
       "            observer.disconnect();\n",
       "        }}\n",
       "}});\n",
       "\n",
       "// Listen for the removal of the full notebook cells\n",
       "var notebookContainer = gd.closest('#notebook-container');\n",
       "if (notebookContainer) {{\n",
       "    x.observe(notebookContainer, {childList: true});\n",
       "}}\n",
       "\n",
       "// Listen for the clearing of the current output cell\n",
       "var outputEl = gd.closest('.output');\n",
       "if (outputEl) {{\n",
       "    x.observe(outputEl, {childList: true});\n",
       "}}\n",
       "\n",
       "                        })                };                });            </script>        </div>"
      ]
     },
     "metadata": {},
     "output_type": "display_data"
    }
   ],
   "source": [
    "from sklearn.preprocessing import StandardScaler, MinMaxScaler\n",
    "\n",
    "scaler_ = MinMaxScaler()\n",
    "scaler_.fit(temp_init)\n",
    "temp_init_scaled_ = scaler_.transform(temp_init)\n",
    "\n",
    "import plotly.express as px\n",
    "fig = px.scatter_matrix(temp_init,width=1200, height=1600)\n",
    "fig.show()\n",
    "\n",
    "kmeans = KMeans(\n",
    "        n_clusters=3, init=\"k-means++\",\n",
    "        n_init=10,\n",
    "        tol=1e-04, random_state=42\n",
    "    )\n",
    "kmeans.fit(temp_init_scaled_)\n",
    "clusters=pd.DataFrame(temp_init_scaled_,columns=temp_init.columns)\n",
    "clusters['label']=kmeans.labels_\n",
    "polar=clusters.groupby(\"label\").mean().reset_index()\n",
    "polar=pd.melt(polar,id_vars=[\"label\"])\n",
    "fig4 = px.line_polar(polar, r=\"value\", theta=\"variable\", color=\"label\", line_close=True,height=800,width=1400)\n",
    "fig4.show()\n",
    "\n",
    "pie=clusters.groupby('label').size().reset_index()\n",
    "pie.columns=['label','value']\n",
    "px.pie(pie,values='value',names='label',color=['blue','red','green'])"
   ]
  },
  {
   "cell_type": "code",
   "execution_count": 52,
   "id": "dbf50baa-d5ee-4c6a-b425-62d95e7550d0",
   "metadata": {},
   "outputs": [
    {
     "data": {
      "text/html": [
       "<div>\n",
       "<style scoped>\n",
       "    .dataframe tbody tr th:only-of-type {\n",
       "        vertical-align: middle;\n",
       "    }\n",
       "\n",
       "    .dataframe tbody tr th {\n",
       "        vertical-align: top;\n",
       "    }\n",
       "\n",
       "    .dataframe thead th {\n",
       "        text-align: right;\n",
       "    }\n",
       "</style>\n",
       "<table border=\"1\" class=\"dataframe\">\n",
       "  <thead>\n",
       "    <tr style=\"text-align: right;\">\n",
       "      <th></th>\n",
       "      <th>step_count</th>\n",
       "      <th>burned calory</th>\n",
       "      <th>eat_calory</th>\n",
       "      <th>Sleep_time</th>\n",
       "      <th>bmi</th>\n",
       "      <th>waist_bmi</th>\n",
       "    </tr>\n",
       "  </thead>\n",
       "  <tbody>\n",
       "    <tr>\n",
       "      <th>step_count</th>\n",
       "      <td>1.000000</td>\n",
       "      <td>0.065851</td>\n",
       "      <td>0.008009</td>\n",
       "      <td>-0.073889</td>\n",
       "      <td>0.014385</td>\n",
       "      <td>0.033362</td>\n",
       "    </tr>\n",
       "    <tr>\n",
       "      <th>burned calory</th>\n",
       "      <td>0.065851</td>\n",
       "      <td>1.000000</td>\n",
       "      <td>-0.052389</td>\n",
       "      <td>-0.019733</td>\n",
       "      <td>0.082429</td>\n",
       "      <td>0.086902</td>\n",
       "    </tr>\n",
       "    <tr>\n",
       "      <th>eat_calory</th>\n",
       "      <td>0.008009</td>\n",
       "      <td>-0.052389</td>\n",
       "      <td>1.000000</td>\n",
       "      <td>0.026112</td>\n",
       "      <td>-0.018910</td>\n",
       "      <td>0.009731</td>\n",
       "    </tr>\n",
       "    <tr>\n",
       "      <th>Sleep_time</th>\n",
       "      <td>-0.073889</td>\n",
       "      <td>-0.019733</td>\n",
       "      <td>0.026112</td>\n",
       "      <td>1.000000</td>\n",
       "      <td>-0.034559</td>\n",
       "      <td>-0.020120</td>\n",
       "    </tr>\n",
       "    <tr>\n",
       "      <th>bmi</th>\n",
       "      <td>0.014385</td>\n",
       "      <td>0.082429</td>\n",
       "      <td>-0.018910</td>\n",
       "      <td>-0.034559</td>\n",
       "      <td>1.000000</td>\n",
       "      <td>0.939415</td>\n",
       "    </tr>\n",
       "    <tr>\n",
       "      <th>waist_bmi</th>\n",
       "      <td>0.033362</td>\n",
       "      <td>0.086902</td>\n",
       "      <td>0.009731</td>\n",
       "      <td>-0.020120</td>\n",
       "      <td>0.939415</td>\n",
       "      <td>1.000000</td>\n",
       "    </tr>\n",
       "  </tbody>\n",
       "</table>\n",
       "</div>"
      ],
      "text/plain": [
       "               step_count  burned calory  eat_calory  Sleep_time       bmi  \\\n",
       "step_count       1.000000       0.065851    0.008009   -0.073889  0.014385   \n",
       "burned calory    0.065851       1.000000   -0.052389   -0.019733  0.082429   \n",
       "eat_calory       0.008009      -0.052389    1.000000    0.026112 -0.018910   \n",
       "Sleep_time      -0.073889      -0.019733    0.026112    1.000000 -0.034559   \n",
       "bmi              0.014385       0.082429   -0.018910   -0.034559  1.000000   \n",
       "waist_bmi        0.033362       0.086902    0.009731   -0.020120  0.939415   \n",
       "\n",
       "               waist_bmi  \n",
       "step_count      0.033362  \n",
       "burned calory   0.086902  \n",
       "eat_calory      0.009731  \n",
       "Sleep_time     -0.020120  \n",
       "bmi             0.939415  \n",
       "waist_bmi       1.000000  "
      ]
     },
     "execution_count": 52,
     "metadata": {},
     "output_type": "execute_result"
    }
   ],
   "source": [
    "temp_init.corr()"
   ]
  },
  {
   "cell_type": "code",
   "execution_count": null,
   "id": "2da0baec-73e9-4a5a-8420-c0ff89858181",
   "metadata": {},
   "outputs": [],
   "source": []
  },
  {
   "cell_type": "code",
   "execution_count": null,
   "id": "778da9b9-188c-4473-b5b4-d426e73714a6",
   "metadata": {},
   "outputs": [],
   "source": []
  },
  {
   "cell_type": "code",
   "execution_count": null,
   "id": "4aa75d90-a59c-40bb-91b5-205c8fd92cf9",
   "metadata": {},
   "outputs": [],
   "source": []
  },
  {
   "cell_type": "code",
   "execution_count": null,
   "id": "d917731c",
   "metadata": {},
   "outputs": [],
   "source": []
  }
 ],
 "metadata": {
  "kernelspec": {
   "display_name": "Python 3 (ipykernel)",
   "language": "python",
   "name": "python3"
  },
  "language_info": {
   "codemirror_mode": {
    "name": "ipython",
    "version": 3
   },
   "file_extension": ".py",
   "mimetype": "text/x-python",
   "name": "python",
   "nbconvert_exporter": "python",
   "pygments_lexer": "ipython3",
   "version": "3.7.16"
  }
 },
 "nbformat": 4,
 "nbformat_minor": 5
}
