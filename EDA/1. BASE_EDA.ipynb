{
 "cells": [
  {
   "cell_type": "code",
   "execution_count": 1,
   "id": "4fee5070",
   "metadata": {},
   "outputs": [],
   "source": [
    "import pandas as pd\n",
    "import matplotlib.pyplot as plt\n",
    "\n",
    "# 한글 폰트 사용을 위해서 세팅\n",
    "plt.rcParams['font.family'] = 'Malgun Gothic'"
   ]
  },
  {
   "cell_type": "code",
   "execution_count": 2,
   "id": "7a641333",
   "metadata": {},
   "outputs": [],
   "source": [
    "df=pd.read_csv(\"../Integrated_data/all_dataset.csv\",encoding=\"utf-8\")"
   ]
  },
  {
   "cell_type": "code",
   "execution_count": 3,
   "id": "23e02f06",
   "metadata": {},
   "outputs": [
    {
     "data": {
      "text/html": [
       "<div>\n",
       "<style scoped>\n",
       "    .dataframe tbody tr th:only-of-type {\n",
       "        vertical-align: middle;\n",
       "    }\n",
       "\n",
       "    .dataframe tbody tr th {\n",
       "        vertical-align: top;\n",
       "    }\n",
       "\n",
       "    .dataframe thead th {\n",
       "        text-align: right;\n",
       "    }\n",
       "</style>\n",
       "<table border=\"1\" class=\"dataframe\">\n",
       "  <thead>\n",
       "    <tr style=\"text-align: right;\">\n",
       "      <th></th>\n",
       "      <th>ID</th>\n",
       "      <th>collect_datetime</th>\n",
       "      <th>gender</th>\n",
       "      <th>grade</th>\n",
       "      <th>height</th>\n",
       "      <th>weight</th>\n",
       "      <th>step_count</th>\n",
       "      <th>burned calory</th>\n",
       "      <th>eat_calory</th>\n",
       "      <th>Sleep_time</th>\n",
       "      <th>before_height</th>\n",
       "      <th>before_weight</th>\n",
       "      <th>before_waist</th>\n",
       "      <th>after_height</th>\n",
       "      <th>after_weight</th>\n",
       "      <th>after_waist</th>\n",
       "    </tr>\n",
       "  </thead>\n",
       "  <tbody>\n",
       "    <tr>\n",
       "      <th>0</th>\n",
       "      <td>#AAGQKY</td>\n",
       "      <td>2022-07-14</td>\n",
       "      <td>2.0</td>\n",
       "      <td>4.0</td>\n",
       "      <td>148.0</td>\n",
       "      <td>45.15</td>\n",
       "      <td>72.0</td>\n",
       "      <td>8.877</td>\n",
       "      <td>2000.0</td>\n",
       "      <td>12.0</td>\n",
       "      <td>148.0</td>\n",
       "      <td>45.3</td>\n",
       "      <td>-</td>\n",
       "      <td>148.0</td>\n",
       "      <td>45.0</td>\n",
       "      <td>NaN</td>\n",
       "    </tr>\n",
       "    <tr>\n",
       "      <th>1</th>\n",
       "      <td>#AAGQKY</td>\n",
       "      <td>2022-07-15</td>\n",
       "      <td>2.0</td>\n",
       "      <td>4.0</td>\n",
       "      <td>148.0</td>\n",
       "      <td>45.15</td>\n",
       "      <td>72.0</td>\n",
       "      <td>8.877</td>\n",
       "      <td>2000.0</td>\n",
       "      <td>12.0</td>\n",
       "      <td>148.0</td>\n",
       "      <td>45.3</td>\n",
       "      <td>-</td>\n",
       "      <td>148.0</td>\n",
       "      <td>45.0</td>\n",
       "      <td>NaN</td>\n",
       "    </tr>\n",
       "    <tr>\n",
       "      <th>2</th>\n",
       "      <td>#AAGQKY</td>\n",
       "      <td>2022-07-16</td>\n",
       "      <td>2.0</td>\n",
       "      <td>4.0</td>\n",
       "      <td>148.0</td>\n",
       "      <td>45.15</td>\n",
       "      <td>72.0</td>\n",
       "      <td>8.877</td>\n",
       "      <td>2000.0</td>\n",
       "      <td>12.0</td>\n",
       "      <td>148.0</td>\n",
       "      <td>45.3</td>\n",
       "      <td>-</td>\n",
       "      <td>148.0</td>\n",
       "      <td>45.0</td>\n",
       "      <td>NaN</td>\n",
       "    </tr>\n",
       "    <tr>\n",
       "      <th>3</th>\n",
       "      <td>#AAGQKY</td>\n",
       "      <td>2022-07-17</td>\n",
       "      <td>2.0</td>\n",
       "      <td>4.0</td>\n",
       "      <td>148.0</td>\n",
       "      <td>45.15</td>\n",
       "      <td>72.0</td>\n",
       "      <td>8.877</td>\n",
       "      <td>2000.0</td>\n",
       "      <td>12.0</td>\n",
       "      <td>148.0</td>\n",
       "      <td>45.3</td>\n",
       "      <td>-</td>\n",
       "      <td>148.0</td>\n",
       "      <td>45.0</td>\n",
       "      <td>NaN</td>\n",
       "    </tr>\n",
       "    <tr>\n",
       "      <th>4</th>\n",
       "      <td>#AAGQKY</td>\n",
       "      <td>2022-07-18</td>\n",
       "      <td>2.0</td>\n",
       "      <td>4.0</td>\n",
       "      <td>148.0</td>\n",
       "      <td>45.15</td>\n",
       "      <td>72.0</td>\n",
       "      <td>8.877</td>\n",
       "      <td>2000.0</td>\n",
       "      <td>12.0</td>\n",
       "      <td>148.0</td>\n",
       "      <td>45.3</td>\n",
       "      <td>-</td>\n",
       "      <td>148.0</td>\n",
       "      <td>45.0</td>\n",
       "      <td>NaN</td>\n",
       "    </tr>\n",
       "  </tbody>\n",
       "</table>\n",
       "</div>"
      ],
      "text/plain": [
       "        ID collect_datetime  gender  grade  height  weight  step_count  \\\n",
       "0  #AAGQKY       2022-07-14     2.0    4.0   148.0   45.15        72.0   \n",
       "1  #AAGQKY       2022-07-15     2.0    4.0   148.0   45.15        72.0   \n",
       "2  #AAGQKY       2022-07-16     2.0    4.0   148.0   45.15        72.0   \n",
       "3  #AAGQKY       2022-07-17     2.0    4.0   148.0   45.15        72.0   \n",
       "4  #AAGQKY       2022-07-18     2.0    4.0   148.0   45.15        72.0   \n",
       "\n",
       "   burned calory  eat_calory  Sleep_time  before_height  before_weight  \\\n",
       "0          8.877      2000.0        12.0          148.0           45.3   \n",
       "1          8.877      2000.0        12.0          148.0           45.3   \n",
       "2          8.877      2000.0        12.0          148.0           45.3   \n",
       "3          8.877      2000.0        12.0          148.0           45.3   \n",
       "4          8.877      2000.0        12.0          148.0           45.3   \n",
       "\n",
       "  before_waist  after_height  after_weight  after_waist  \n",
       "0            -         148.0          45.0          NaN  \n",
       "1            -         148.0          45.0          NaN  \n",
       "2            -         148.0          45.0          NaN  \n",
       "3            -         148.0          45.0          NaN  \n",
       "4            -         148.0          45.0          NaN  "
      ]
     },
     "execution_count": 3,
     "metadata": {},
     "output_type": "execute_result"
    }
   ],
   "source": [
    "df.head()"
   ]
  },
  {
   "cell_type": "markdown",
   "id": "779976d1",
   "metadata": {},
   "source": [
    "# 남자, 여자 비율"
   ]
  },
  {
   "cell_type": "code",
   "execution_count": 4,
   "id": "b9b31fce",
   "metadata": {},
   "outputs": [],
   "source": [
    "value_counts=df['gender'].value_counts()"
   ]
  },
  {
   "cell_type": "code",
   "execution_count": 5,
   "id": "4f2c90c8",
   "metadata": {},
   "outputs": [],
   "source": [
    "# 남자, 여자 비율 계산\n",
    "value_percentages = (value_counts / len(df)) * 100"
   ]
  },
  {
   "cell_type": "code",
   "execution_count": 6,
   "id": "6fdf982d",
   "metadata": {},
   "outputs": [
    {
     "data": {
      "text/plain": [
       "2.0    58.409786\n",
       "1.0    41.590214\n",
       "Name: gender, dtype: float64"
      ]
     },
     "execution_count": 6,
     "metadata": {},
     "output_type": "execute_result"
    }
   ],
   "source": [
    "value_percentages"
   ]
  },
  {
   "cell_type": "code",
   "execution_count": 7,
   "id": "530212f6",
   "metadata": {},
   "outputs": [
    {
     "data": {
      "image/png": "[encoded data removed]",
      "text/plain": [
       "<Figure size 640x480 with 1 Axes>"
      ]
     },
     "metadata": {},
     "output_type": "display_data"
    }
   ],
   "source": [
    "# 데이터 예시\n",
    "categories = ['Female', 'Male']\n",
    "values = value_percentages\n",
    "colors=['red','blue']\n",
    "# 막대그래프 그리기\n",
    "plt.bar(categories, values,color=colors)\n",
    "\n",
    "# 그래프 제목과 축 레이블 추가\n",
    "plt.title('성별 비율')\n",
    "plt.xlabel('성별')\n",
    "plt.ylabel('비율')\n",
    "\n",
    "# 그래프 표시\n",
    "plt.show()\n"
   ]
  },
  {
   "cell_type": "markdown",
   "id": "c71ba354",
   "metadata": {},
   "source": [
    "# BMI 계산"
   ]
  },
  {
   "cell_type": "code",
   "execution_count": 8,
   "id": "99043529",
   "metadata": {},
   "outputs": [],
   "source": [
    "def calculate_bmi(df):\n",
    "    df['bmi']=df['weight']/((df['height']*0.01)**2)\n",
    "    return df"
   ]
  },
  {
   "cell_type": "code",
   "execution_count": 9,
   "id": "584dd9b6",
   "metadata": {},
   "outputs": [],
   "source": [
    "# 남아 기준 0.44 여아기준 0.43 이면 대사증후군이다.\n",
    "def waist_bmi(df):\n",
    "    df['waist_bmi']=df['before_weight']/df['height']\n",
    "    return df"
   ]
  },
  {
   "cell_type": "code",
   "execution_count": 10,
   "id": "0a2978a6",
   "metadata": {},
   "outputs": [],
   "source": [
    "new_df=calculate_bmi(df)\n",
    "new_df=waist_bmi(new_df)"
   ]
  },
  {
   "cell_type": "code",
   "execution_count": 11,
   "id": "de8f3ffb",
   "metadata": {},
   "outputs": [],
   "source": [
    "new_df\n",
    "new_df.to_csv(\"../Integrated_data/all_dataset2.csv\",encoding=\"utf-8\",index=False)"
   ]
  },
  {
   "cell_type": "code",
   "execution_count": 12,
   "id": "2d6339f1",
   "metadata": {},
   "outputs": [
    {
     "data": {
      "text/plain": [
       "array(['#ATSLUP', '#EJCZKI', '#EMMRWD', '#KPADZN', '#MZVDYG', '#WWVCBL',\n",
       "       '#YDHUVM', '#ZAJBPK', '#ZZLSSL'], dtype=object)"
      ]
     },
     "execution_count": 12,
     "metadata": {},
     "output_type": "execute_result"
    }
   ],
   "source": [
    "# 허리둘레 기준 비만으로 볼 수 있는 아이디\n",
    "df[df['waist_bmi'] >= 0.43]['ID'].unique()"
   ]
  },
  {
   "cell_type": "code",
   "execution_count": 13,
   "id": "3f3f8933",
   "metadata": {},
   "outputs": [
    {
     "data": {
      "text/plain": [
       "array(['#ATSLUP', '#BRJFDA', '#BYJNBA', '#EJCZKI', '#ELFNZG', '#EMMRWD',\n",
       "       '#EOBGAT', '#EYRMXX', '#FDDNET', '#IUAZSD', '#JAILCA', '#JGRTRZ',\n",
       "       '#KPADZN', '#MXMPCG', '#MZVDYG', '#NPYNVO', '#PELXYS', '#PJXHJY',\n",
       "       '#PPKKCN', '#QDOANU', '#RWYAMP', '#UPNVNH', '#VCAOUI', '#WTZJIP',\n",
       "       '#WWVCBL', '#YDHUVM', '#YHKCQS', '#ZAJBPK', '#ZHWQTF', '#ZZLSSL'],\n",
       "      dtype=object)"
      ]
     },
     "execution_count": 13,
     "metadata": {},
     "output_type": "execute_result"
    }
   ],
   "source": [
    "#bmi 기준 비만에 해당하는 아이디\n",
    "df[df['bmi'] >= 25]['ID'].unique()"
   ]
  },
  {
   "cell_type": "code",
   "execution_count": 14,
   "id": "8feef36d",
   "metadata": {},
   "outputs": [
    {
     "data": {
      "text/plain": [
       "327"
      ]
     },
     "execution_count": 14,
     "metadata": {},
     "output_type": "execute_result"
    }
   ],
   "source": [
    "len(new_df['ID'].unique())"
   ]
  },
  {
   "cell_type": "code",
   "execution_count": 15,
   "id": "d4db6e3d",
   "metadata": {},
   "outputs": [
    {
     "data": {
      "text/plain": [
       "ID                      0\n",
       "collect_datetime        0\n",
       "gender                  0\n",
       "grade                   0\n",
       "height                  0\n",
       "weight                  0\n",
       "step_count              0\n",
       "burned calory           0\n",
       "eat_calory              0\n",
       "Sleep_time              0\n",
       "before_height         546\n",
       "before_weight         546\n",
       "before_waist          546\n",
       "after_height         2002\n",
       "after_weight         2002\n",
       "after_waist         25844\n",
       "bmi                     0\n",
       "waist_bmi             546\n",
       "dtype: int64"
      ]
     },
     "execution_count": 15,
     "metadata": {},
     "output_type": "execute_result"
    }
   ],
   "source": [
    "new_df.isnull().sum()"
   ]
  },
  {
   "cell_type": "code",
   "execution_count": 16,
   "id": "2e5f935a",
   "metadata": {},
   "outputs": [
    {
     "name": "stdout",
     "output_type": "stream",
     "text": [
      "널값이 있는 행:\n",
      "            ID collect_datetime  gender  grade  height  weight  step_count  \\\n",
      "0      #AAGQKY       2022-07-14     2.0    4.0   148.0   45.15        72.0   \n",
      "1      #AAGQKY       2022-07-15     2.0    4.0   148.0   45.15        72.0   \n",
      "2      #AAGQKY       2022-07-16     2.0    4.0   148.0   45.15        72.0   \n",
      "3      #AAGQKY       2022-07-17     2.0    4.0   148.0   45.15        72.0   \n",
      "4      #AAGQKY       2022-07-18     2.0    4.0   148.0   45.15        72.0   \n",
      "...        ...              ...     ...    ...     ...     ...         ...   \n",
      "59145  #ZRKRKP       2023-01-07     1.0    4.0   129.3   28.80      3601.8   \n",
      "59146  #ZRKRKP       2023-01-08     1.0    4.0   129.3   28.80      2443.2   \n",
      "59147  #ZRKRKP       2023-01-09     1.0    4.0   129.3   28.80      1284.6   \n",
      "59148  #ZRKRKP       2023-01-10     1.0    4.0   129.3   28.80       126.0   \n",
      "59149  #ZRKRKP       2023-01-11     1.0    4.0   129.3   28.80       126.0   \n",
      "\n",
      "       burned calory  eat_calory  Sleep_time  before_height  before_weight  \\\n",
      "0              8.877      2000.0        12.0          148.0           45.3   \n",
      "1              8.877      2000.0        12.0          148.0           45.3   \n",
      "2              8.877      2000.0        12.0          148.0           45.3   \n",
      "3              8.877      2000.0        12.0          148.0           45.3   \n",
      "4              8.877      2000.0        12.0          148.0           45.3   \n",
      "...              ...         ...         ...            ...            ...   \n",
      "59145          6.605       995.0       400.0          125.3           24.7   \n",
      "59146          6.605       995.0       400.0          125.3           24.7   \n",
      "59147          6.605       995.0       400.0          125.3           24.7   \n",
      "59148          6.605       995.0       400.0          125.3           24.7   \n",
      "59149          6.605       995.0       400.0          125.3           24.7   \n",
      "\n",
      "      before_waist  after_height  after_weight  after_waist        bmi  \\\n",
      "0                -         148.0          45.0          NaN  20.612673   \n",
      "1                -         148.0          45.0          NaN  20.612673   \n",
      "2                -         148.0          45.0          NaN  20.612673   \n",
      "3                -         148.0          45.0          NaN  20.612673   \n",
      "4                -         148.0          45.0          NaN  20.612673   \n",
      "...            ...           ...           ...          ...        ...   \n",
      "59145           57         126.8          26.2          NaN  17.226436   \n",
      "59146           57         126.8          26.2          NaN  17.226436   \n",
      "59147           57         126.8          26.2          NaN  17.226436   \n",
      "59148           57         126.8          26.2          NaN  17.226436   \n",
      "59149           57         126.8          26.2          NaN  17.226436   \n",
      "\n",
      "       waist_bmi  \n",
      "0       0.306081  \n",
      "1       0.306081  \n",
      "2       0.306081  \n",
      "3       0.306081  \n",
      "4       0.306081  \n",
      "...          ...  \n",
      "59145   0.191029  \n",
      "59146   0.191029  \n",
      "59147   0.191029  \n",
      "59148   0.191029  \n",
      "59149   0.191029  \n",
      "\n",
      "[25844 rows x 18 columns]\n",
      "\n",
      "널값이 있는 행의 아이디(ID):\n",
      "['#AAGQKY' '#ACGRQP' '#AEGMOD' '#ALZXWR' '#ATSLUP' '#AVPMZX' '#AYTTRD'\n",
      " '#BBLXZS' '#BGFWYB' '#BLDFJV' '#BOFKIP' '#BRJFDA' '#BZBUYV' '#CGNXMU'\n",
      " '#CJEKWZ' '#CSTDHH' '#CYEIBY' '#DBVEOA' '#DJQUPN' '#DONJDD' '#EJCZKI'\n",
      " '#ESLYGO' '#EVAFOX' '#EVTVIG' '#EWIHXJ' '#EYRMXX' '#FCVHBL' '#FDDNET'\n",
      " '#FDTSUO' '#FEECXP' '#FHLPMN' '#GBRDWO' '#GEOVWK' '#GITGJQ' '#GRCXDF'\n",
      " '#GRNKCF' '#GSHABU' '#GZOVNI' '#GZTDGB' '#HBGGNH' '#HENJQY' '#HHUVMN'\n",
      " '#HMNJFG' '#HOCRDS' '#HXELMF' '#HXKNLU' '#HZNEJH' '#IANFHE' '#IAQCHG'\n",
      " '#IIMWCG' '#INNIFP' '#ITIIRM' '#IVFHCH' '#IWSRFH' '#JFNQJL' '#JKRBGW'\n",
      " '#JOMZOP' '#JYOGRL' '#JZPRLS' '#KHIIJN' '#KKLNZR' '#KLKMEI' '#KNXRSA'\n",
      " '#KQRGVW' '#KRMDDH' '#LFXYFH' '#LIQKSR' '#LMNOSA' '#LWWSNZ' '#LXJPGN'\n",
      " '#MECCZU' '#MIMRXU' '#MSBFJF' '#NGVUYX' '#NIUOUV' '#NLNFZG' '#NQLSEW'\n",
      " '#NSSMHA' '#NUIRAS' '#NVEULE' '#OAZBYI' '#ODCPPO' '#OPLOII' '#OSMFRU'\n",
      " '#OVFQBV' '#PBIOUO' '#PCRSCH' '#PXENLG' '#PYPUBN' '#QCYHCB' '#QJZHPR'\n",
      " '#QXTSGP' '#RICLAP' '#RLGZRR' '#RSBNZE' '#RSHHNP' '#RUIDVY' '#SKRDZV'\n",
      " '#SMMKYO' '#STKOGH' '#TKAXYC' '#TLKMEP' '#TQYPSR' '#TRJDPD' '#TUJWRF'\n",
      " '#TWGBAQ' '#UDGVTL' '#UFYVLG' '#UMVHXH' '#UWBEQZ' '#UXCVXJ' '#VAOPCV'\n",
      " '#VKQYRY' '#VLDKYO' '#VMPNSO' '#VVGIPH' '#WBSOAF' '#WLPDJO' '#WMQCWS'\n",
      " '#WNPFYV' '#WTZJIP' '#WUTUZX' '#WZSWRY' '#XAXZDM' '#XBNVQS' '#XGOBEO'\n",
      " '#XMWOQE' '#XNBRXW' '#XPEZYU' '#XQOWZO' '#YEWHGJ' '#YGBDJQ' '#YYFFGC'\n",
      " '#ZAJBPK' '#ZBSQYZ' '#ZDSXNJ' '#ZHHXBD' '#ZHWQTF' '#ZIVDUA' '#ZJWNUM'\n",
      " '#ZPZIGD' '#ZRKRKP']\n"
     ]
    }
   ],
   "source": [
    "# 널값이 있는 행 확인\n",
    "null_rows = df[df.isnull().any(axis=1)]\n",
    "\n",
    "# 널값이 있는 행의 아이디(ID) 확인\n",
    "null_ids = null_rows['ID']\n",
    "\n",
    "print(\"널값이 있는 행:\")\n",
    "print(null_rows)\n",
    "\n",
    "print(\"\\n널값이 있는 행의 아이디(ID):\")\n",
    "print(null_ids.unique())"
   ]
  },
  {
   "cell_type": "code",
   "execution_count": 17,
   "id": "1fc0b04f",
   "metadata": {},
   "outputs": [
    {
     "data": {
      "text/plain": [
       "0         NaN\n",
       "1         NaN\n",
       "2         NaN\n",
       "3         NaN\n",
       "4         NaN\n",
       "         ... \n",
       "59509    91.1\n",
       "59510    91.1\n",
       "59511    91.1\n",
       "59512    91.1\n",
       "59513    91.1\n",
       "Name: after_waist, Length: 59514, dtype: float64"
      ]
     },
     "execution_count": 17,
     "metadata": {},
     "output_type": "execute_result"
    }
   ],
   "source": [
    "new_df['after_waist']"
   ]
  },
  {
   "cell_type": "code",
   "execution_count": 18,
   "id": "1381c8db",
   "metadata": {},
   "outputs": [
    {
     "data": {
      "text/plain": [
       "142"
      ]
     },
     "execution_count": 18,
     "metadata": {},
     "output_type": "execute_result"
    }
   ],
   "source": [
    "len(null_ids.unique())"
   ]
  },
  {
   "cell_type": "code",
   "execution_count": null,
   "id": "5706fa98",
   "metadata": {},
   "outputs": [],
   "source": []
  },
  {
   "cell_type": "code",
   "execution_count": null,
   "id": "b3287cfc",
   "metadata": {},
   "outputs": [],
   "source": []
  },
  {
   "cell_type": "code",
   "execution_count": null,
   "id": "d9fba011",
   "metadata": {},
   "outputs": [],
   "source": []
  }
 ],
 "metadata": {
  "kernelspec": {
   "display_name": "Python 3 (ipykernel)",
   "language": "python",
   "name": "python3"
  },
  "language_info": {
   "codemirror_mode": {
    "name": "ipython",
    "version": 3
   },
   "file_extension": ".py",
   "mimetype": "text/x-python",
   "name": "python",
   "nbconvert_exporter": "python",
   "pygments_lexer": "ipython3",
   "version": "3.7.16"
  }
 },
 "nbformat": 4,
 "nbformat_minor": 5
}
