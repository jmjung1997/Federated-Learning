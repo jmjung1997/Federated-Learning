{
 "cells": [
  {
   "cell_type": "code",
   "execution_count": 25,
   "id": "bd09deeb",
   "metadata": {},
   "outputs": [],
   "source": [
    "import pandas as pd\n",
    "import numpy as np\n",
    "import matplotlib.pyplot as plt\n",
    "from torch.utils.data import Dataset,DataLoader\n",
    "import torch.nn as nn\n",
    "import torch\n",
    "from imblearn.over_sampling import SMOTE\n",
    "from tqdm.auto import tqdm\n",
    "from torch.utils.data import TensorDataset # 텐서데이터셋\n",
    "from torch.utils.data import DataLoader # 데이터로더\n",
    "device = torch.device(\"cuda:0\" if torch.cuda.is_available() else \"cpu\")\n",
    "from torch.nn import functional as F\n",
    "import pandas as pd\n",
    "import random\n",
    "import matplotlib.pyplot as plt\n",
    "from sklearn.preprocessing import MinMaxScaler\n",
    "from torch import optim\n",
    "plt.rcParams['font.family'] = 'Malgun Gothic'\n",
    "from sklearn.preprocessing import LabelEncoder\n",
    "from sklearn.preprocessing import StandardScaler\n",
    "from sklearn.model_selection import train_test_split\n",
    "from sklearn.metrics import precision_recall_fscore_support as sk\n",
    "from sklearn.metrics import f1_score ## F1 Score 구하기\n",
    "from sklearn.metrics import accuracy_score\n",
    "import numpy as np\n",
    "%matplotlib inline"
   ]
  },
  {
   "cell_type": "code",
   "execution_count": 26,
   "id": "12c197bd",
   "metadata": {},
   "outputs": [],
   "source": [
    "df=pd.read_csv(\"../../data/군집화 라벨링_7days.csv\",encoding='cp949')"
   ]
  },
  {
   "cell_type": "code",
   "execution_count": 27,
   "id": "867e1b32",
   "metadata": {},
   "outputs": [
    {
     "data": {
      "text/html": [
       "<div>\n",
       "<style scoped>\n",
       "    .dataframe tbody tr th:only-of-type {\n",
       "        vertical-align: middle;\n",
       "    }\n",
       "\n",
       "    .dataframe tbody tr th {\n",
       "        vertical-align: top;\n",
       "    }\n",
       "\n",
       "    .dataframe thead th {\n",
       "        text-align: right;\n",
       "    }\n",
       "</style>\n",
       "<table border=\"1\" class=\"dataframe\">\n",
       "  <thead>\n",
       "    <tr style=\"text-align: right;\">\n",
       "      <th></th>\n",
       "      <th>ID</th>\n",
       "      <th>collect_datetime</th>\n",
       "      <th>gender</th>\n",
       "      <th>grade</th>\n",
       "      <th>height</th>\n",
       "      <th>weight</th>\n",
       "      <th>step_count</th>\n",
       "      <th>burned calory</th>\n",
       "      <th>eat_calory</th>\n",
       "      <th>Sleep_time</th>\n",
       "      <th>before_height</th>\n",
       "      <th>before_weight</th>\n",
       "      <th>before_waist</th>\n",
       "      <th>after_height</th>\n",
       "      <th>after_weight</th>\n",
       "      <th>after_waist</th>\n",
       "      <th>bmi</th>\n",
       "      <th>waist_bmi</th>\n",
       "      <th>class_num</th>\n",
       "      <th>labels</th>\n",
       "    </tr>\n",
       "  </thead>\n",
       "  <tbody>\n",
       "    <tr>\n",
       "      <th>0</th>\n",
       "      <td>#AAGQKY</td>\n",
       "      <td>2022-07-21</td>\n",
       "      <td>2.0</td>\n",
       "      <td>4.0</td>\n",
       "      <td>148.0</td>\n",
       "      <td>45.15</td>\n",
       "      <td>72.0</td>\n",
       "      <td>8.877</td>\n",
       "      <td>2000.0</td>\n",
       "      <td>12.0</td>\n",
       "      <td>148.0</td>\n",
       "      <td>45.3</td>\n",
       "      <td>-</td>\n",
       "      <td>148.0</td>\n",
       "      <td>45.0</td>\n",
       "      <td>NaN</td>\n",
       "      <td>20.612673</td>\n",
       "      <td>0.306081</td>\n",
       "      <td>2</td>\n",
       "      <td>0</td>\n",
       "    </tr>\n",
       "    <tr>\n",
       "      <th>1</th>\n",
       "      <td>#AAGQKY</td>\n",
       "      <td>2022-07-22</td>\n",
       "      <td>2.0</td>\n",
       "      <td>4.0</td>\n",
       "      <td>148.0</td>\n",
       "      <td>45.15</td>\n",
       "      <td>72.0</td>\n",
       "      <td>8.877</td>\n",
       "      <td>2000.0</td>\n",
       "      <td>12.0</td>\n",
       "      <td>148.0</td>\n",
       "      <td>45.3</td>\n",
       "      <td>-</td>\n",
       "      <td>148.0</td>\n",
       "      <td>45.0</td>\n",
       "      <td>NaN</td>\n",
       "      <td>20.612673</td>\n",
       "      <td>0.306081</td>\n",
       "      <td>2</td>\n",
       "      <td>0</td>\n",
       "    </tr>\n",
       "    <tr>\n",
       "      <th>2</th>\n",
       "      <td>#AAGQKY</td>\n",
       "      <td>2022-07-23</td>\n",
       "      <td>2.0</td>\n",
       "      <td>4.0</td>\n",
       "      <td>148.0</td>\n",
       "      <td>45.15</td>\n",
       "      <td>72.0</td>\n",
       "      <td>8.877</td>\n",
       "      <td>2000.0</td>\n",
       "      <td>12.0</td>\n",
       "      <td>148.0</td>\n",
       "      <td>45.3</td>\n",
       "      <td>-</td>\n",
       "      <td>148.0</td>\n",
       "      <td>45.0</td>\n",
       "      <td>NaN</td>\n",
       "      <td>20.612673</td>\n",
       "      <td>0.306081</td>\n",
       "      <td>2</td>\n",
       "      <td>0</td>\n",
       "    </tr>\n",
       "    <tr>\n",
       "      <th>3</th>\n",
       "      <td>#AAGQKY</td>\n",
       "      <td>2022-07-24</td>\n",
       "      <td>2.0</td>\n",
       "      <td>4.0</td>\n",
       "      <td>148.0</td>\n",
       "      <td>45.15</td>\n",
       "      <td>72.0</td>\n",
       "      <td>8.877</td>\n",
       "      <td>2000.0</td>\n",
       "      <td>12.0</td>\n",
       "      <td>148.0</td>\n",
       "      <td>45.3</td>\n",
       "      <td>-</td>\n",
       "      <td>148.0</td>\n",
       "      <td>45.0</td>\n",
       "      <td>NaN</td>\n",
       "      <td>20.612673</td>\n",
       "      <td>0.306081</td>\n",
       "      <td>2</td>\n",
       "      <td>0</td>\n",
       "    </tr>\n",
       "    <tr>\n",
       "      <th>4</th>\n",
       "      <td>#AAGQKY</td>\n",
       "      <td>2022-07-25</td>\n",
       "      <td>2.0</td>\n",
       "      <td>4.0</td>\n",
       "      <td>148.0</td>\n",
       "      <td>45.15</td>\n",
       "      <td>72.0</td>\n",
       "      <td>8.877</td>\n",
       "      <td>2000.0</td>\n",
       "      <td>12.0</td>\n",
       "      <td>148.0</td>\n",
       "      <td>45.3</td>\n",
       "      <td>-</td>\n",
       "      <td>148.0</td>\n",
       "      <td>45.0</td>\n",
       "      <td>NaN</td>\n",
       "      <td>20.612673</td>\n",
       "      <td>0.306081</td>\n",
       "      <td>2</td>\n",
       "      <td>0</td>\n",
       "    </tr>\n",
       "  </tbody>\n",
       "</table>\n",
       "</div>"
      ],
      "text/plain": [
       "        ID collect_datetime  gender  grade  height  weight  step_count  \\\n",
       "0  #AAGQKY       2022-07-21     2.0    4.0   148.0   45.15        72.0   \n",
       "1  #AAGQKY       2022-07-22     2.0    4.0   148.0   45.15        72.0   \n",
       "2  #AAGQKY       2022-07-23     2.0    4.0   148.0   45.15        72.0   \n",
       "3  #AAGQKY       2022-07-24     2.0    4.0   148.0   45.15        72.0   \n",
       "4  #AAGQKY       2022-07-25     2.0    4.0   148.0   45.15        72.0   \n",
       "\n",
       "   burned calory  eat_calory  Sleep_time  before_height  before_weight  \\\n",
       "0          8.877      2000.0        12.0          148.0           45.3   \n",
       "1          8.877      2000.0        12.0          148.0           45.3   \n",
       "2          8.877      2000.0        12.0          148.0           45.3   \n",
       "3          8.877      2000.0        12.0          148.0           45.3   \n",
       "4          8.877      2000.0        12.0          148.0           45.3   \n",
       "\n",
       "  before_waist  after_height  after_weight  after_waist        bmi  waist_bmi  \\\n",
       "0            -         148.0          45.0          NaN  20.612673   0.306081   \n",
       "1            -         148.0          45.0          NaN  20.612673   0.306081   \n",
       "2            -         148.0          45.0          NaN  20.612673   0.306081   \n",
       "3            -         148.0          45.0          NaN  20.612673   0.306081   \n",
       "4            -         148.0          45.0          NaN  20.612673   0.306081   \n",
       "\n",
       "   class_num  labels  \n",
       "0          2       0  \n",
       "1          2       0  \n",
       "2          2       0  \n",
       "3          2       0  \n",
       "4          2       0  "
      ]
     },
     "execution_count": 27,
     "metadata": {},
     "output_type": "execute_result"
    }
   ],
   "source": [
    "df.head()"
   ]
  },
  {
   "cell_type": "code",
   "execution_count": 28,
   "id": "d5acfaf6",
   "metadata": {},
   "outputs": [],
   "source": [
    "name_list=[]"
   ]
  },
  {
   "cell_type": "code",
   "execution_count": 29,
   "id": "c34eee37",
   "metadata": {},
   "outputs": [],
   "source": [
    "for name in df['ID'].unique():\n",
    "    df_ID=df[df[\"ID\"]==name]\n",
    "    if len(df_ID['labels'].unique())==3:\n",
    "        name_list.append(name)\n",
    "        "
   ]
  },
  {
   "cell_type": "code",
   "execution_count": 30,
   "id": "3ce55e49",
   "metadata": {},
   "outputs": [
    {
     "data": {
      "text/plain": [
       "113"
      ]
     },
     "execution_count": 30,
     "metadata": {},
     "output_type": "execute_result"
    }
   ],
   "source": [
    "len(name_list)"
   ]
  },
  {
   "cell_type": "code",
   "execution_count": 31,
   "id": "81e607ea",
   "metadata": {},
   "outputs": [
    {
     "data": {
      "text/plain": [
       "327"
      ]
     },
     "execution_count": 31,
     "metadata": {},
     "output_type": "execute_result"
    }
   ],
   "source": [
    "len(df['ID'].unique())"
   ]
  },
  {
   "cell_type": "code",
   "execution_count": 32,
   "id": "c649292b",
   "metadata": {},
   "outputs": [],
   "source": [
    "name='#ASELLU'"
   ]
  },
  {
   "cell_type": "code",
   "execution_count": 33,
   "id": "72d4ccdb",
   "metadata": {},
   "outputs": [],
   "source": [
    "df=df[df[\"ID\"]==name]"
   ]
  },
  {
   "cell_type": "code",
   "execution_count": 34,
   "id": "0fa050f4",
   "metadata": {},
   "outputs": [
    {
     "data": {
      "text/plain": [
       "3"
      ]
     },
     "execution_count": 34,
     "metadata": {},
     "output_type": "execute_result"
    }
   ],
   "source": [
    "len(df['labels'].unique())"
   ]
  },
  {
   "cell_type": "code",
   "execution_count": 35,
   "id": "4a3e1b6a",
   "metadata": {},
   "outputs": [],
   "source": [
    "df_data=df[['height','weight','step_count','burned calory','eat_calory','Sleep_time','labels']]\n",
    "title='6 feature prediction'\n",
    "term_np=np.array([])\n",
    "MAE_np=np.array([])\n",
    "MSE_np=np.array([])\n",
    "RMSE_np=np.array([])\n",
    "MAPE_np=np.array([])"
   ]
  },
  {
   "cell_type": "code",
   "execution_count": 36,
   "id": "5e65b215",
   "metadata": {},
   "outputs": [
    {
     "name": "stdout",
     "output_type": "stream",
     "text": [
      "5train_size-1predict_size\n"
     ]
    }
   ],
   "source": [
    "CFG={'TRAIN_WINDOW_SIZE':5,\n",
    "   'PREDICT_SIZE':1 ,\n",
    "    'how_inputdim':6,\n",
    "    'hidden_dim':10,\n",
    "    'LEARNING_RATE':0.001,\n",
    "    'nb_epochs':1,\n",
    "     'target':3,\n",
    "    'BATCH_SIZE':25}\n",
    "term=\"{}train_size-{}predict_size\".format(CFG['TRAIN_WINDOW_SIZE'],CFG['PREDICT_SIZE'])\n",
    "print(term)"
   ]
  },
  {
   "cell_type": "markdown",
   "id": "a0855ef5",
   "metadata": {},
   "source": [
    "# 데이터를 역순으로 정렬하여 전체 데이터의 70% 학습, 30% 테스트에 사용\n",
    "\n",
    "X=df_data.iloc[:,:-1]\n",
    "y=df_data.iloc[:,-1]\n",
    "\n",
    "\n",
    "from sklearn.preprocessing import StandardScaler\n",
    "from sklearn.model_selection import train_test_split\n",
    "\n",
    "scaler = StandardScaler()\n",
    "X_scaler = scaler.fit_transform(X)\n",
    "smote = SMOTE(random_state=0)\n",
    "X_over,y_over = smote.fit_resample(X_scaler,y)\n",
    "print('SMOTE 적용 전 학습용 피처/레이블 데이터 세트: ', X_scaler.shape, y.shape)\n",
    "print('SMOTE 적용 후 학습용 피처/레이블 데이터 세트: ', X_over.shape, y_over.shape)\n",
    "print('SMOTE 적용 전 레이블 값 분포: \\n', pd.Series(y).value_counts())\n",
    "print('SMOTE 적용 후 레이블 값 분포: \\n', pd.Series(y_over).value_counts())\n",
    "y_over=y_over.to_numpy()\n",
    "df_data_np = np.concatenate((X_over, y_over.reshape(-1, 1)), axis=1)\n",
    "df_data = pd.DataFrame(df_data_np)"
   ]
  },
  {
   "cell_type": "code",
   "execution_count": 38,
   "id": "0c714c14",
   "metadata": {},
   "outputs": [
    {
     "data": {
      "text/plain": [
       "0    118\n",
       "2     36\n",
       "1     21\n",
       "Name: labels, dtype: int64"
      ]
     },
     "execution_count": 38,
     "metadata": {},
     "output_type": "execute_result"
    }
   ],
   "source": [
    "df_data['labels'].value_counts()"
   ]
  },
  {
   "cell_type": "code",
   "execution_count": 39,
   "id": "75910938",
   "metadata": {},
   "outputs": [
    {
     "name": "stderr",
     "output_type": "stream",
     "text": [
      "C:\\Users\\jaemin\\Anaconda3\\envs\\jm\\lib\\site-packages\\pandas\\core\\indexing.py:1835: SettingWithCopyWarning: \n",
      "A value is trying to be set on a copy of a slice from a DataFrame.\n",
      "Try using .loc[row_indexer,col_indexer] = value instead\n",
      "\n",
      "See the caveats in the documentation: https://pandas.pydata.org/pandas-docs/stable/user_guide/indexing.html#returning-a-view-versus-a-copy\n",
      "  self._setitem_single_column(loc, value[:, i].tolist(), pi)\n",
      "C:\\Users\\jaemin\\Anaconda3\\envs\\jm\\lib\\site-packages\\pandas\\core\\indexing.py:1835: SettingWithCopyWarning: \n",
      "A value is trying to be set on a copy of a slice from a DataFrame.\n",
      "Try using .loc[row_indexer,col_indexer] = value instead\n",
      "\n",
      "See the caveats in the documentation: https://pandas.pydata.org/pandas-docs/stable/user_guide/indexing.html#returning-a-view-versus-a-copy\n",
      "  self._setitem_single_column(loc, value[:, i].tolist(), pi)\n",
      "C:\\Users\\jaemin\\Anaconda3\\envs\\jm\\lib\\site-packages\\pandas\\core\\indexing.py:1851: SettingWithCopyWarning: \n",
      "A value is trying to be set on a copy of a slice from a DataFrame.\n",
      "Try using .loc[row_indexer,col_indexer] = value instead\n",
      "\n",
      "See the caveats in the documentation: https://pandas.pydata.org/pandas-docs/stable/user_guide/indexing.html#returning-a-view-versus-a-copy\n",
      "  self._setitem_single_column(loc, val, pi)\n"
     ]
    }
   ],
   "source": [
    "train_size = int(len(df_data)*0.8)\n",
    "train_set = df_data[0:train_size]  \n",
    "test_set = df_data[train_size-CFG['TRAIN_WINDOW_SIZE']:]\n",
    "\n",
    "# Input scale\n",
    "scaler_x = StandardScaler()\n",
    "scaler_x.fit(train_set.iloc[:, :-1])\n",
    "\n",
    "train_set.iloc[:, :-1] = scaler_x.transform(train_set.iloc[:, :-1])\n",
    "test_set.iloc[:, :-1] = scaler_x.transform(test_set.iloc[:, :-1])\n",
    "\n",
    "\n",
    "# Output scale\n",
    "\n",
    "train_set.iloc[:, -1:] = train_set.iloc[:, -1:]\n",
    "test_set.iloc[:, -1:] = test_set.iloc[:, -1:]\n",
    "\n",
    "# 데이터셋 생성 함수\n",
    "def build_dataset(time_series,train_size=CFG['TRAIN_WINDOW_SIZE'], predict_size=CFG['PREDICT_SIZE']):\n",
    "    dataX = []\n",
    "    dataY = []\n",
    "    window_size = train_size + predict_size\n",
    "    for i in range(len(time_series) - window_size + 1):\n",
    "        _x = time_series[i:i+train_size, :-1]\n",
    "        _y = time_series[i+train_size:i+train_size+predict_size, [-1]]\n",
    "        # print(_x, \"-->\",_y)\n",
    "        dataX.append(_x)\n",
    "        dataY.append(_y)\n",
    "\n",
    "    return np.array(dataX), np.array(dataY)\n",
    "\n",
    "trainX, trainY = build_dataset(np.array(train_set))\n",
    "testX, testY = build_dataset(np.array(test_set))\n",
    "\n",
    "class CustomDataset(Dataset):\n",
    "    def __init__(self, X, Y):\n",
    "        self.X = X\n",
    "        self.Y = Y\n",
    "\n",
    "    def __getitem__(self, index):\n",
    "        if self.Y is not None:\n",
    "            return torch.Tensor(self.X[index]), torch.Tensor(self.Y[index])\n",
    "        return torch.Tensor(self.X[index])\n",
    "\n",
    "    def __len__(self):\n",
    "        return len(self.X)\n",
    "\n",
    "train_dataset = CustomDataset(trainX, trainY)\n",
    "train_loader = DataLoader(train_dataset, batch_size = CFG['BATCH_SIZE'], shuffle=False, num_workers=0)\n",
    "\n",
    "val_dataset = CustomDataset(testX, testY)\n",
    "val_loader = DataLoader(val_dataset, batch_size = CFG['BATCH_SIZE'], shuffle=False, num_workers=0)\n",
    "\n",
    "# test_dataset = CustomDataset(test_input, None)\n",
    "# test_loader = DataLoader(test_dataset, batch_size = CFG['BATCH_SIZE'], shuffle=False, num_workers=0)\n",
    "\n",
    "# 모델선언"
   ]
  },
  {
   "cell_type": "code",
   "execution_count": 40,
   "id": "9456f8dc",
   "metadata": {},
   "outputs": [],
   "source": [
    "# 모델선언\n",
    "class BaseModel(nn.Module):\n",
    "    def __init__(self, input_size=CFG['how_inputdim'], hidden_size=CFG['hidden_dim'], output_size=CFG['target']):\n",
    "        super(BaseModel, self).__init__()\n",
    "        self.hidden_size = hidden_size\n",
    "        self.rnn = nn.LSTM(input_size, hidden_size, batch_first=True)\n",
    "        self.fc = nn.Sequential(\n",
    "            nn.Linear(hidden_size, hidden_size),\n",
    "            nn.ReLU(),\n",
    "            nn.Dropout(),\n",
    "            nn.Linear(hidden_size, output_size)\n",
    "        )\n",
    "\n",
    "        self.actv = nn.ReLU()\n",
    "\n",
    "    def forward(self, x):\n",
    "        # x shape: (B, TRAIN_WINDOW_SIZE, 5)\n",
    "        batch_size = x.size(0)\n",
    "        hidden = self.init_hidden(batch_size, x.device)\n",
    "\n",
    "        # LSTM layer\n",
    "        rnn_out, hidden = self.rnn(x, hidden)\n",
    "\n",
    "        # Only use the last output sequence\n",
    "        rnn_output = rnn_out[:, -1, :]\n",
    "        # Fully connected layer\n",
    "        output = self.fc(rnn_output)\n",
    "        output=self.actv(output)\n",
    "        return output\n",
    "\n",
    "    def init_hidden(self, batch_size, device):\n",
    "        # Initialize hidden state and cell state\n",
    "        return (torch.zeros(1, batch_size, self.hidden_size, device=device),\n",
    "                torch.zeros(1, batch_size, self.hidden_size, device=device))"
   ]
  },
  {
   "cell_type": "code",
   "execution_count": 41,
   "id": "bcd76b21",
   "metadata": {},
   "outputs": [],
   "source": [
    "# LSTM모델학습\n",
    "\n",
    "def train(model, optimizer, train_loader, val_loader, device):\n",
    "    model.to(device)\n",
    "    criterion = nn.MSELoss().to(device)\n",
    "    best_loss = 9999999\n",
    "    best_model = None\n",
    "\n",
    "    for epoch in range(1, CFG['nb_epochs']+1):\n",
    "        model.train()\n",
    "        train_loss = []\n",
    "        train_mae = []\n",
    "        for X, Y in tqdm(iter(train_loader)):\n",
    "            X = X.to(device)\n",
    "            Y = Y.to(device)\n",
    "            optimizer.zero_grad()\n",
    "\n",
    "            output = model(X)\n",
    "            ohe_label=F.one_hot(Y.long(), CFG['target'])\n",
    "\n",
    "            loss = criterion(output, ohe_label.float())\n",
    "            loss.backward()\n",
    "            optimizer.step()\n",
    "\n",
    "            train_loss.append(loss.item())\n",
    "\n",
    "        val_loss = validation(model, val_loader, criterion, device)\n",
    "        print(f'Epoch : [{epoch}] Train Loss : [{np.mean(train_loss):.5f}] Val Loss : [{val_loss:.5f}]')\n",
    "\n",
    "        if best_loss > val_loss:\n",
    "            best_loss = val_loss\n",
    "            best_model = model\n",
    "            print('Model Saved')\n",
    "    return best_model\n",
    "\n",
    "def validation(model, val_loader, criterion, device):\n",
    "    model.eval()\n",
    "    val_loss = []\n",
    "\n",
    "    with torch.no_grad():\n",
    "        for X, Y in tqdm(iter(val_loader)):\n",
    "            X = X.to(device)\n",
    "            Y = Y.to(device)\n",
    "\n",
    "            output = model(X)\n",
    "            ohe_label=F.one_hot(Y.long(), CFG['target'])\n",
    "\n",
    "            loss = criterion(output, ohe_label.float())\n",
    "            val_loss.append(loss.item())\n",
    "    return np.mean(val_loss)"
   ]
  },
  {
   "cell_type": "code",
   "execution_count": 42,
   "id": "d58ab701",
   "metadata": {},
   "outputs": [
    {
     "data": {
      "application/vnd.jupyter.widget-view+json": {
       "model_id": "49780617aba441cb870f521cb19a6c1d",
       "version_major": 2,
       "version_minor": 0
      },
      "text/plain": [
       "  0%|          | 0/6 [00:00<?, ?it/s]"
      ]
     },
     "metadata": {},
     "output_type": "display_data"
    },
    {
     "name": "stderr",
     "output_type": "stream",
     "text": [
      "C:\\Users\\jaemin\\Anaconda3\\envs\\jm\\lib\\site-packages\\torch\\nn\\modules\\loss.py:446: UserWarning: Using a target size (torch.Size([25, 1, 1, 3])) that is different to the input size (torch.Size([25, 3])). This will likely lead to incorrect results due to broadcasting. Please ensure they have the same size.\n",
      "  return F.mse_loss(input, target, reduction=self.reduction)\n",
      "C:\\Users\\jaemin\\Anaconda3\\envs\\jm\\lib\\site-packages\\torch\\nn\\modules\\loss.py:446: UserWarning: Using a target size (torch.Size([10, 1, 1, 3])) that is different to the input size (torch.Size([10, 3])). This will likely lead to incorrect results due to broadcasting. Please ensure they have the same size.\n",
      "  return F.mse_loss(input, target, reduction=self.reduction)\n"
     ]
    },
    {
     "data": {
      "application/vnd.jupyter.widget-view+json": {
       "model_id": "f34ee8986a4a4fe8ad4c5a55c83461be",
       "version_major": 2,
       "version_minor": 0
      },
      "text/plain": [
       "  0%|          | 0/2 [00:00<?, ?it/s]"
      ]
     },
     "metadata": {},
     "output_type": "display_data"
    },
    {
     "name": "stdout",
     "output_type": "stream",
     "text": [
      "Epoch : [1] Train Loss : [0.22410] Val Loss : [0.22989]\n",
      "Model Saved\n"
     ]
    }
   ],
   "source": [
    "model = BaseModel()\n",
    "optimizer = torch.optim.Adam(params = model.parameters(), lr = CFG[\"LEARNING_RATE\"])\n",
    "infer_model = train(model, optimizer, train_loader, val_loader, device)\n",
    "\n",
    "def inference(model, test_loader, device):\n",
    "    model.eval()\n",
    "    predictions=[]\n",
    "    with torch.no_grad():\n",
    "        for X, Y in tqdm(iter(test_loader)):\n",
    "            X = X.to(device)\n",
    "            Y = Y.to(device)\n",
    "\n",
    "            output = model(X)\n",
    "           # output = output.cpu().numpy()\n",
    "            preds = F.log_softmax(output, dim=1).argmax(dim=1)\n",
    "            preds = preds.cpu().numpy()\n",
    "            predictions.extend(preds)\n",
    "            #print(\"predictions\",predictions.shape)\n",
    "            \n",
    "    return np.array(predictions)"
   ]
  },
  {
   "cell_type": "code",
   "execution_count": 43,
   "id": "f029e586",
   "metadata": {},
   "outputs": [],
   "source": [
    "#결과 넣을 배열\n",
    "Result=[[0 for j in range(4)] for i in range(4)]"
   ]
  },
  {
   "cell_type": "code",
   "execution_count": 44,
   "id": "961a90b0",
   "metadata": {},
   "outputs": [
    {
     "data": {
      "text/plain": [
       "[[0, 0, 0, 0], [0, 0, 0, 0], [0, 0, 0, 0], [0, 0, 0, 0]]"
      ]
     },
     "execution_count": 44,
     "metadata": {},
     "output_type": "execute_result"
    }
   ],
   "source": [
    "Result"
   ]
  },
  {
   "cell_type": "code",
   "execution_count": 45,
   "id": "d14435ed",
   "metadata": {},
   "outputs": [
    {
     "data": {
      "text/html": [
       "<div>\n",
       "<style scoped>\n",
       "    .dataframe tbody tr th:only-of-type {\n",
       "        vertical-align: middle;\n",
       "    }\n",
       "\n",
       "    .dataframe tbody tr th {\n",
       "        vertical-align: top;\n",
       "    }\n",
       "\n",
       "    .dataframe thead th {\n",
       "        text-align: right;\n",
       "    }\n",
       "</style>\n",
       "<table border=\"1\" class=\"dataframe\">\n",
       "  <thead>\n",
       "    <tr style=\"text-align: right;\">\n",
       "      <th></th>\n",
       "      <th>Accuracy</th>\n",
       "      <th>F1-Score</th>\n",
       "      <th>Precision</th>\n",
       "      <th>Recall</th>\n",
       "    </tr>\n",
       "  </thead>\n",
       "  <tbody>\n",
       "    <tr>\n",
       "      <th>0</th>\n",
       "      <td>0</td>\n",
       "      <td>0</td>\n",
       "      <td>0</td>\n",
       "      <td>0</td>\n",
       "    </tr>\n",
       "    <tr>\n",
       "      <th>1</th>\n",
       "      <td>0</td>\n",
       "      <td>0</td>\n",
       "      <td>0</td>\n",
       "      <td>0</td>\n",
       "    </tr>\n",
       "    <tr>\n",
       "      <th>2</th>\n",
       "      <td>0</td>\n",
       "      <td>0</td>\n",
       "      <td>0</td>\n",
       "      <td>0</td>\n",
       "    </tr>\n",
       "    <tr>\n",
       "      <th>3</th>\n",
       "      <td>0</td>\n",
       "      <td>0</td>\n",
       "      <td>0</td>\n",
       "      <td>0</td>\n",
       "    </tr>\n",
       "  </tbody>\n",
       "</table>\n",
       "</div>"
      ],
      "text/plain": [
       "   Accuracy  F1-Score  Precision  Recall\n",
       "0         0         0          0       0\n",
       "1         0         0          0       0\n",
       "2         0         0          0       0\n",
       "3         0         0          0       0"
      ]
     },
     "execution_count": 45,
     "metadata": {},
     "output_type": "execute_result"
    }
   ],
   "source": [
    "Result_df=pd.DataFrame(Result,columns=['Accuracy','F1-Score','Precision','Recall'])\n",
    "Result_df"
   ]
  },
  {
   "cell_type": "code",
   "execution_count": 46,
   "id": "7cfda44b",
   "metadata": {},
   "outputs": [
    {
     "data": {
      "application/vnd.jupyter.widget-view+json": {
       "model_id": "0a912a7448c84980830fe7c1ec230db0",
       "version_major": 2,
       "version_minor": 0
      },
      "text/plain": [
       "  0%|          | 0/2 [00:00<?, ?it/s]"
      ]
     },
     "metadata": {},
     "output_type": "display_data"
    },
    {
     "name": "stdout",
     "output_type": "stream",
     "text": [
      "pred.shape (35,)\n",
      "pred [2 2 2 0 0 0 0 0 0 0 0 0 0 0 0 0 0 0 0 0 0 0 0 0 0 0 0 0 0 0 0 0 0 0 0]\n",
      "answer.shape (35, 1)\n",
      "answer [[2.]\n",
      " [2.]\n",
      " [2.]\n",
      " [2.]\n",
      " [0.]\n",
      " [1.]\n",
      " [1.]\n",
      " [1.]\n",
      " [1.]\n",
      " [1.]\n",
      " [1.]\n",
      " [1.]\n",
      " [1.]\n",
      " [1.]\n",
      " [1.]\n",
      " [1.]\n",
      " [1.]\n",
      " [0.]\n",
      " [0.]\n",
      " [0.]\n",
      " [0.]\n",
      " [0.]\n",
      " [0.]\n",
      " [0.]\n",
      " [0.]\n",
      " [0.]\n",
      " [0.]\n",
      " [0.]\n",
      " [0.]\n",
      " [0.]\n",
      " [0.]\n",
      " [0.]\n",
      " [0.]\n",
      " [0.]\n",
      " [0.]]\n",
      "Accuracy : 62.857142857142854\n",
      "F1score : 0.5024409763905562\n",
      "Precision : 0.43660714285714286\n",
      "Recall : 0.6285714285714286\n",
      "\n"
     ]
    },
    {
     "name": "stderr",
     "output_type": "stream",
     "text": [
      "C:\\Users\\jaemin\\Anaconda3\\envs\\jm\\lib\\site-packages\\sklearn\\metrics\\_classification.py:1318: UndefinedMetricWarning: Precision and F-score are ill-defined and being set to 0.0 in labels with no predicted samples. Use `zero_division` parameter to control this behavior.\n",
      "  _warn_prf(average, modifier, msg_start, len(result))\n"
     ]
    }
   ],
   "source": [
    "answer_np = np.empty((0,CFG['PREDICT_SIZE']))\n",
    "for val in val_loader:\n",
    "    answer_np = np.vstack((answer_np, val[1].view(-1,CFG['PREDICT_SIZE'])))\n",
    "    \n",
    "\n",
    "pred = inference(infer_model,val_loader , device)\n",
    "#answer.extend(answer_np)\n",
    "print(\"pred.shape\",pred.shape)\n",
    "print(\"pred\",pred)\n",
    "\n",
    "print(\"answer.shape\",answer_np.shape)\n",
    "print(\"answer\",answer_np)\n",
    "# 눤래 정답을 inverse scaling\n",
    "\n",
    "\n",
    "accuracy=accuracy_score(answer_np.squeeze(), pred) * 100\n",
    "print(\"Accuracy : {}\".format(accuracy))   \n",
    "#f1score\n",
    "f1 = f1_score(answer_np.squeeze(),pred, average='weighted')\n",
    "print(\"F1score : {}\".format(f1))\n",
    "#precision/recall\n",
    "p_rlist=sk(answer_np.squeeze(),pred,average='weighted')\n",
    "print(\"Precision : {}\".format(p_rlist[0]))\n",
    "print(\"Recall : {}\".format(p_rlist[1]))\n",
    "print()\n",
    " #결과 배열에 넣기\n",
    "Result[0]=accuracy\n",
    "Result[1]=f1\n",
    "Result[2]=p_rlist[0]\n",
    "Result[3]=p_rlist[1]"
   ]
  },
  {
   "cell_type": "code",
   "execution_count": 21,
   "id": "3e256c60",
   "metadata": {},
   "outputs": [
    {
     "data": {
      "text/plain": [
       "[0.0, 0.0, 0.0, 0.0]"
      ]
     },
     "execution_count": 21,
     "metadata": {},
     "output_type": "execute_result"
    }
   ],
   "source": [
    "Result"
   ]
  },
  {
   "cell_type": "code",
   "execution_count": 50,
   "id": "43c6fd46",
   "metadata": {},
   "outputs": [
    {
     "data": {
      "text/plain": [
       "(array([0., 1., 2.]), array([19, 12,  4], dtype=int64))"
      ]
     },
     "execution_count": 50,
     "metadata": {},
     "output_type": "execute_result"
    }
   ],
   "source": [
    "np.unique(answer_np,return_counts=True)"
   ]
  },
  {
   "cell_type": "code",
   "execution_count": 24,
   "id": "34937947",
   "metadata": {},
   "outputs": [
    {
     "data": {
      "text/plain": [
       "array([2., 2., 2., 2., 2., 2., 2., 2., 2., 2., 2., 2., 2., 2., 2., 2., 2.,\n",
       "       2., 2., 2., 2., 2., 2., 2., 2., 2., 2., 2., 2., 2., 2., 2., 2., 2.,\n",
       "       2., 2., 2., 2., 2., 2., 2., 2., 2., 2., 2., 2., 2., 2., 2., 2., 2.,\n",
       "       2., 2., 2., 2., 2., 2., 2., 2., 2., 2., 2., 2., 2., 2., 2., 2., 2.,\n",
       "       2., 2., 2.])"
      ]
     },
     "execution_count": 24,
     "metadata": {},
     "output_type": "execute_result"
    }
   ],
   "source": [
    "answer_np.squeeze()"
   ]
  },
  {
   "cell_type": "code",
   "execution_count": 51,
   "id": "94c37035",
   "metadata": {},
   "outputs": [
    {
     "data": {
      "text/plain": [
       "(array([0, 2], dtype=int64), array([32,  3], dtype=int64))"
      ]
     },
     "execution_count": 51,
     "metadata": {},
     "output_type": "execute_result"
    }
   ],
   "source": [
    "np.unique(pred,return_counts=True)"
   ]
  },
  {
   "cell_type": "code",
   "execution_count": null,
   "id": "c06b846b",
   "metadata": {},
   "outputs": [],
   "source": []
  }
 ],
 "metadata": {
  "kernelspec": {
   "display_name": "Python 3 (ipykernel)",
   "language": "python",
   "name": "python3"
  },
  "language_info": {
   "codemirror_mode": {
    "name": "ipython",
    "version": 3
   },
   "file_extension": ".py",
   "mimetype": "text/x-python",
   "name": "python",
   "nbconvert_exporter": "python",
   "pygments_lexer": "ipython3",
   "version": "3.7.16"
  }
 },
 "nbformat": 4,
 "nbformat_minor": 5
}
