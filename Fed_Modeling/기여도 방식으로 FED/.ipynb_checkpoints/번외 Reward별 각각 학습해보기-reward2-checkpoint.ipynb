{
 "cells": [
  {
   "cell_type": "code",
   "execution_count": 1,
   "id": "ecea33ba",
   "metadata": {},
   "outputs": [
    {
     "name": "stdout",
     "output_type": "stream",
     "text": [
      "Requirement already satisfied: catboost in c:\\users\\jaemin\\anaconda3\\envs\\jm\\lib\\site-packages (1.2.2)\n",
      "Requirement already satisfied: graphviz in c:\\users\\jaemin\\anaconda3\\envs\\jm\\lib\\site-packages (from catboost) (0.20.1)\n",
      "Requirement already satisfied: matplotlib in c:\\users\\jaemin\\anaconda3\\envs\\jm\\lib\\site-packages (from catboost) (3.5.3)\n",
      "Requirement already satisfied: numpy>=1.16.0 in c:\\users\\jaemin\\anaconda3\\envs\\jm\\lib\\site-packages (from catboost) (1.19.5)\n",
      "Requirement already satisfied: pandas>=0.24 in c:\\users\\jaemin\\anaconda3\\envs\\jm\\lib\\site-packages (from catboost) (1.3.5)\n",
      "Requirement already satisfied: scipy in c:\\users\\jaemin\\anaconda3\\envs\\jm\\lib\\site-packages (from catboost) (1.7.3)\n",
      "Requirement already satisfied: plotly in c:\\users\\jaemin\\anaconda3\\envs\\jm\\lib\\site-packages (from catboost) (5.17.0)\n",
      "Requirement already satisfied: six in c:\\users\\jaemin\\anaconda3\\envs\\jm\\lib\\site-packages (from catboost) (1.15.0)\n",
      "Requirement already satisfied: python-dateutil>=2.7.3 in c:\\users\\jaemin\\anaconda3\\envs\\jm\\lib\\site-packages (from pandas>=0.24->catboost) (2.8.2)\n",
      "Requirement already satisfied: pytz>=2017.3 in c:\\users\\jaemin\\anaconda3\\envs\\jm\\lib\\site-packages (from pandas>=0.24->catboost) (2023.3)\n",
      "Requirement already satisfied: cycler>=0.10 in c:\\users\\jaemin\\anaconda3\\envs\\jm\\lib\\site-packages (from matplotlib->catboost) (0.11.0)\n",
      "Requirement already satisfied: fonttools>=4.22.0 in c:\\users\\jaemin\\anaconda3\\envs\\jm\\lib\\site-packages (from matplotlib->catboost) (4.25.0)\n",
      "Requirement already satisfied: kiwisolver>=1.0.1 in c:\\users\\jaemin\\anaconda3\\envs\\jm\\lib\\site-packages (from matplotlib->catboost) (1.4.4)\n",
      "Requirement already satisfied: packaging>=20.0 in c:\\users\\jaemin\\anaconda3\\envs\\jm\\lib\\site-packages (from matplotlib->catboost) (22.0)\n",
      "Requirement already satisfied: pillow>=6.2.0 in c:\\users\\jaemin\\anaconda3\\envs\\jm\\lib\\site-packages (from matplotlib->catboost) (9.3.0)\n",
      "Requirement already satisfied: pyparsing>=2.2.1 in c:\\users\\jaemin\\anaconda3\\envs\\jm\\lib\\site-packages (from matplotlib->catboost) (3.0.9)\n",
      "Requirement already satisfied: tenacity>=6.2.0 in c:\\users\\jaemin\\anaconda3\\envs\\jm\\lib\\site-packages (from plotly->catboost) (8.2.3)\n",
      "Requirement already satisfied: typing-extensions in c:\\users\\jaemin\\anaconda3\\envs\\jm\\lib\\site-packages (from kiwisolver>=1.0.1->matplotlib->catboost) (4.3.0)\n"
     ]
    }
   ],
   "source": [
    "!pip install catboost"
   ]
  },
  {
   "cell_type": "code",
   "execution_count": 2,
   "id": "3795c1e4",
   "metadata": {},
   "outputs": [],
   "source": [
    "from sklearn.linear_model import LinearRegression\n",
    "from sklearn.linear_model import LogisticRegression\n",
    "from sklearn.linear_model import RidgeClassifier\n",
    "from sklearn.ensemble import RandomForestClassifier\n",
    "from sklearn.ensemble import GradientBoostingClassifier\n",
    "from catboost import CatBoostClassifier\n",
    "from sklearn.ensemble import AdaBoostClassifier\n",
    "from sklearn.naive_bayes import GaussianNB\n",
    "from sklearn.svm import SVC\n",
    "from sklearn.tree import DecisionTreeClassifier\n",
    "from sklearn.discriminant_analysis import LinearDiscriminantAnalysis\n",
    "from lightgbm import LGBMRegressor, LGBMClassifier\n",
    "import pandas as pd\n",
    "import numpy as np\n",
    "import torch\n",
    "import torch.nn as nn\n",
    "from tensorflow.python.keras.models import Sequential\n",
    "from tensorflow.python.keras.layers import Dense,Dropout,Activation\n",
    "from torch.utils.data import TensorDataset, DataLoader\n",
    "from tensorflow.python.keras import metrics\n",
    "from tensorflow.python import keras\n",
    "import tensorflow as tf\n",
    "import os\n",
    "from imblearn.over_sampling import SMOTE\n",
    "import math\n",
    "from category_encoders import OneHotEncoder\n",
    "import matplotlib.pyplot as plt\n",
    "from sklearn.metrics import precision_recall_fscore_support as sk\n",
    "from sklearn.metrics import f1_score ## F1 Score 구하기\n",
    "from sklearn.metrics import accuracy_score\n",
    "%matplotlib inline"
   ]
  },
  {
   "cell_type": "code",
   "execution_count": 3,
   "id": "7cd3f02d",
   "metadata": {},
   "outputs": [],
   "source": [
    "import pandas as pd\n",
    "import torch\n",
    "from torch.utils.data import random_split, DataLoader\n",
    "import torchvision.transforms as transforms\n",
    "import torch.nn as nn\n",
    "import tensorflow as tf\n",
    "import matplotlib.pyplot as plt\n",
    "from sklearn.preprocessing import StandardScaler\n",
    "from torch.utils.data import TensorDataset, DataLoader\n",
    "from sklearn.model_selection import train_test_split\n",
    "from imblearn.over_sampling import SMOTE\n",
    "import pandas as pd\n",
    "\n",
    "import numpy as np\n",
    "%matplotlib inline"
   ]
  },
  {
   "cell_type": "code",
   "execution_count": 4,
   "id": "230cb615",
   "metadata": {},
   "outputs": [],
   "source": [
    "df=pd.read_csv(\"../../Integrated_data/merged_df_reward.csv\",encoding=\"cp949\")"
   ]
  },
  {
   "cell_type": "code",
   "execution_count": 5,
   "id": "27ed50dd",
   "metadata": {},
   "outputs": [],
   "source": [
    "import pandas as pd\n",
    "\n",
    "class DataProcessor:\n",
    "    def __init__(self, df):\n",
    "        self.df = df\n",
    "        self.interpolated()\n",
    "        self.abmormaled()\n",
    "        self.result=self.fill_missing_values()\n",
    "\n",
    "    # ... (다른 클래스 함수 정의는 여기에 있어야 합니다)\n",
    "\n",
    "    def interpolated(self):\n",
    "        temp=[]\n",
    "        temp2=[]\n",
    "        for i in df['ID'].unique():\n",
    "            try:\n",
    "                temp.append(df[df['ID']==i].interpolate())\n",
    "            except:\n",
    "                temp.append(df[df['ID']==i])\n",
    "\n",
    "        new_df=pd.concat(temp,axis=0)\n",
    "        new_df.fillna(method='bfill',inplace=True)   \n",
    "        for i in new_df['ID'].unique():\n",
    "            temp_df=new_df[new_df['ID']==i].reset_index(drop=True)\n",
    "            temp_df[\"height\"].fillna(method='bfill',inplace=True)\n",
    "            temp_df[\"weight\"].fillna(method='bfill',inplace=True)\n",
    "            temp_df[\"height\"].fillna(method='ffill',inplace=True)\n",
    "            temp_df[\"weight\"].fillna(method='ffill',inplace=True)\n",
    "            temp2.append(temp_df)\n",
    "        new_df=pd.concat(temp2,axis=0)  \n",
    "        self.df = new_df   \n",
    "    def gap(self,first, last):\n",
    "        gap_per=(last-first)/first*100\n",
    "        return abs(gap_per)\n",
    "        \n",
    "    def abmormaled(self):\n",
    "        temp = []\n",
    "        for i in self.df['ID'].unique():\n",
    "            temp_df = self.df[self.df['ID'] == i].reset_index(drop=True)\n",
    "            for i in range(1, len(temp_df)):\n",
    "                if temp_df.at[i, 'height'] <= temp_df.at[i - 1, 'height']:\n",
    "                    temp_df.at[i, 'height'] = temp_df.at[i - 1, 'height']\n",
    "                if self.gap(temp_df.at[i - 1, 'height'], temp_df.at[i, 'height']) >= 16:\n",
    "                    temp_df.at[i, 'height'] = temp_df.at[i - 1, 'height']\n",
    "            temp.append(temp_df)\n",
    "        new_df2 = pd.concat(temp, axis=0)\n",
    "        new_df2.reset_index(drop=True, inplace=True)\n",
    "        self.df = new_df2\n",
    "\n",
    "    def fill_missing_values(self):\n",
    "        self.df[\"step_count\"].fillna(self.df[\"step_count\"].median(), inplace=True)\n",
    "        self.df[\"burned calory\"].fillna(self.df[\"burned calory\"].median(), inplace=True)\n",
    "        self.df[\"eat_calory\"].fillna(self.df[\"eat_calory\"].median(), inplace=True)\n",
    "        self.df[\"Sleep_time\"].fillna(self.df[\"Sleep_time\"].median(), inplace=True)\n",
    "        return self.df\n",
    "    \n",
    "\n"
   ]
  },
  {
   "cell_type": "code",
   "execution_count": 6,
   "id": "f335d853",
   "metadata": {},
   "outputs": [],
   "source": [
    "import pandas as pd\n",
    "\n",
    "class TimeSeriesLabeler:\n",
    "    def __init__(self, term):\n",
    "        self.term = term\n",
    "        self.result_df = pd.DataFrame()\n",
    "        self.labels = []\n",
    "\n",
    "    def calculate_labels(self, df):\n",
    "        for id in df['ID'].unique():\n",
    "            df_id = df[df['ID'] == id].reset_index(drop=True)\n",
    "            label = []\n",
    "\n",
    "            for i in range(self.term, len(df_id)):\n",
    "                previous_days = df_id['weight'].iloc[i - self.term:i]\n",
    "                current_weight = df_id['weight'].iloc[i]\n",
    "                if current_weight > previous_days.mean().round(3):\n",
    "                    label.append(1)\n",
    "                elif current_weight == previous_days.mean().round(3):\n",
    "                    label.append(0)\n",
    "                elif current_weight < previous_days.mean().round(3):\n",
    "                    label.append(2)\n",
    "                else:\n",
    "                    print(\"error\")\n",
    "\n",
    "            self.labels.extend(label)\n",
    "\n",
    "    def create_result_df(self, df):\n",
    "        for id in df['ID'].unique():\n",
    "            df_id = df[df['ID'] == id].reset_index(drop=True)\n",
    "            df_id_drop = df_id.drop(index=range(self.term))\n",
    "            self.result_df = pd.concat([self.result_df, df_id_drop])\n",
    "        self.result_df['labels']= self.labels\n",
    "        \n",
    "    def get_labels(self):\n",
    "        return self.labels\n",
    "\n",
    "    def get_result_df(self):\n",
    "        return self.result_df\n",
    "\n"
   ]
  },
  {
   "cell_type": "code",
   "execution_count": 7,
   "id": "2e10032b",
   "metadata": {},
   "outputs": [],
   "source": [
    "for i in range(3):\n",
    "    globals()['reward_data_{}'.format(i+1)]=pd.read_excel(\"../../Integrated_data/merged_df_reward_분리.xlsx\",sheet_name = i)\n",
    "    "
   ]
  },
  {
   "cell_type": "code",
   "execution_count": 8,
   "id": "0a9905eb",
   "metadata": {},
   "outputs": [
    {
     "name": "stdout",
     "output_type": "stream",
     "text": [
      "Processing reward_data_1\n",
      "Processing reward_data_2\n",
      "Processing reward_data_3\n"
     ]
    }
   ],
   "source": [
    "# 데이터프레임 리스트 생성\n",
    "dataframes = [reward_data_1, reward_data_2, reward_data_3]\n",
    "\n",
    "# 반복문으로 데이터프레임 순차적으로 호출\n",
    "for i, df in enumerate(dataframes, start=0):\n",
    "    print(f\"Processing reward_data_{i+1}\")\n",
    "    processor = DataProcessor(df)\n",
    "    globals()['df_{}'.format(i+1)]=processor.result\n"
   ]
  },
  {
   "cell_type": "markdown",
   "id": "d33d15eb",
   "metadata": {},
   "source": [
    "# ID 별로 일주일 간격으로 몸무게 변화 라벨링(유지:0, 감소:2, 증가:1)"
   ]
  },
  {
   "cell_type": "code",
   "execution_count": 9,
   "id": "1660b0ad",
   "metadata": {},
   "outputs": [],
   "source": [
    "term = 5  # You can set your desired 'term' here"
   ]
  },
  {
   "cell_type": "code",
   "execution_count": 10,
   "id": "f517e1ad",
   "metadata": {},
   "outputs": [],
   "source": [
    "labeler_1 = TimeSeriesLabeler(term)\n",
    "labeler_1.calculate_labels(df_1)  # Provide your DataFrame 'df' as input\n",
    "labeler_1.create_result_df(df_1)  # Create the result DataFrame\n",
    "labels = labeler_1.get_labels()\n",
    "result_df_1 = labeler_1.get_result_df()"
   ]
  },
  {
   "cell_type": "code",
   "execution_count": 11,
   "id": "1ea4116a",
   "metadata": {},
   "outputs": [],
   "source": [
    "labeler_2 = TimeSeriesLabeler(term)\n",
    "labeler_2.calculate_labels(df_2)  # Provide your DataFrame 'df' as input\n",
    "labeler_2.create_result_df(df_2)  # Create the result DataFrame\n",
    "labels = labeler_2.get_labels()\n",
    "result_df_2 = labeler_2.get_result_df()"
   ]
  },
  {
   "cell_type": "code",
   "execution_count": 12,
   "id": "d3784393",
   "metadata": {},
   "outputs": [],
   "source": [
    "labeler_3 = TimeSeriesLabeler(term)\n",
    "labeler_3.calculate_labels(df_3)  # Provide your DataFrame 'df' as input\n",
    "labeler_3.create_result_df(df_3)  # Create the result DataFrame\n",
    "labels = labeler_3.get_labels()\n",
    "result_df_3 = labeler_3.get_result_df()"
   ]
  },
  {
   "cell_type": "code",
   "execution_count": 13,
   "id": "dce4adde",
   "metadata": {},
   "outputs": [
    {
     "data": {
      "text/html": [
       "<div>\n",
       "<style scoped>\n",
       "    .dataframe tbody tr th:only-of-type {\n",
       "        vertical-align: middle;\n",
       "    }\n",
       "\n",
       "    .dataframe tbody tr th {\n",
       "        vertical-align: top;\n",
       "    }\n",
       "\n",
       "    .dataframe thead th {\n",
       "        text-align: right;\n",
       "    }\n",
       "</style>\n",
       "<table border=\"1\" class=\"dataframe\">\n",
       "  <thead>\n",
       "    <tr style=\"text-align: right;\">\n",
       "      <th></th>\n",
       "      <th>ID</th>\n",
       "      <th>collect_datetime</th>\n",
       "      <th>gender</th>\n",
       "      <th>grade</th>\n",
       "      <th>height</th>\n",
       "      <th>weight</th>\n",
       "      <th>step_count</th>\n",
       "      <th>burned calory</th>\n",
       "      <th>eat_calory</th>\n",
       "      <th>Sleep_time</th>\n",
       "      <th>서포터여부</th>\n",
       "      <th>labels</th>\n",
       "    </tr>\n",
       "  </thead>\n",
       "  <tbody>\n",
       "    <tr>\n",
       "      <th>5</th>\n",
       "      <td>#ASELLU</td>\n",
       "      <td>2022-07-19</td>\n",
       "      <td>2</td>\n",
       "      <td>6</td>\n",
       "      <td>164.0</td>\n",
       "      <td>64.0</td>\n",
       "      <td>5490.0</td>\n",
       "      <td>142.8</td>\n",
       "      <td>546.0</td>\n",
       "      <td>432.0</td>\n",
       "      <td>3</td>\n",
       "      <td>2</td>\n",
       "    </tr>\n",
       "    <tr>\n",
       "      <th>6</th>\n",
       "      <td>#ASELLU</td>\n",
       "      <td>2022-07-20</td>\n",
       "      <td>2</td>\n",
       "      <td>6</td>\n",
       "      <td>164.0</td>\n",
       "      <td>64.0</td>\n",
       "      <td>4100.0</td>\n",
       "      <td>142.8</td>\n",
       "      <td>546.0</td>\n",
       "      <td>432.0</td>\n",
       "      <td>3</td>\n",
       "      <td>1</td>\n",
       "    </tr>\n",
       "    <tr>\n",
       "      <th>7</th>\n",
       "      <td>#ASELLU</td>\n",
       "      <td>2022-07-21</td>\n",
       "      <td>2</td>\n",
       "      <td>6</td>\n",
       "      <td>164.0</td>\n",
       "      <td>64.0</td>\n",
       "      <td>4919.0</td>\n",
       "      <td>142.8</td>\n",
       "      <td>546.0</td>\n",
       "      <td>432.0</td>\n",
       "      <td>3</td>\n",
       "      <td>2</td>\n",
       "    </tr>\n",
       "    <tr>\n",
       "      <th>8</th>\n",
       "      <td>#ASELLU</td>\n",
       "      <td>2022-07-22</td>\n",
       "      <td>2</td>\n",
       "      <td>6</td>\n",
       "      <td>164.0</td>\n",
       "      <td>64.0</td>\n",
       "      <td>323.0</td>\n",
       "      <td>142.8</td>\n",
       "      <td>546.0</td>\n",
       "      <td>432.0</td>\n",
       "      <td>3</td>\n",
       "      <td>2</td>\n",
       "    </tr>\n",
       "    <tr>\n",
       "      <th>9</th>\n",
       "      <td>#ASELLU</td>\n",
       "      <td>2022-07-23</td>\n",
       "      <td>2</td>\n",
       "      <td>6</td>\n",
       "      <td>164.0</td>\n",
       "      <td>64.0</td>\n",
       "      <td>323.0</td>\n",
       "      <td>142.8</td>\n",
       "      <td>546.0</td>\n",
       "      <td>432.0</td>\n",
       "      <td>3</td>\n",
       "      <td>2</td>\n",
       "    </tr>\n",
       "  </tbody>\n",
       "</table>\n",
       "</div>"
      ],
      "text/plain": [
       "        ID collect_datetime  gender  grade  height  weight  step_count  \\\n",
       "5  #ASELLU       2022-07-19       2      6   164.0    64.0      5490.0   \n",
       "6  #ASELLU       2022-07-20       2      6   164.0    64.0      4100.0   \n",
       "7  #ASELLU       2022-07-21       2      6   164.0    64.0      4919.0   \n",
       "8  #ASELLU       2022-07-22       2      6   164.0    64.0       323.0   \n",
       "9  #ASELLU       2022-07-23       2      6   164.0    64.0       323.0   \n",
       "\n",
       "   burned calory  eat_calory  Sleep_time  서포터여부  labels  \n",
       "5          142.8       546.0       432.0      3       2  \n",
       "6          142.8       546.0       432.0      3       1  \n",
       "7          142.8       546.0       432.0      3       2  \n",
       "8          142.8       546.0       432.0      3       2  \n",
       "9          142.8       546.0       432.0      3       2  "
      ]
     },
     "execution_count": 13,
     "metadata": {},
     "output_type": "execute_result"
    }
   ],
   "source": [
    "result_df_3.head()"
   ]
  },
  {
   "cell_type": "markdown",
   "id": "da7cadf7",
   "metadata": {},
   "source": [
    "# 데이터 세트 로드"
   ]
  },
  {
   "cell_type": "code",
   "execution_count": 14,
   "id": "129c3360",
   "metadata": {},
   "outputs": [
    {
     "data": {
      "text/html": [
       "<div>\n",
       "<style scoped>\n",
       "    .dataframe tbody tr th:only-of-type {\n",
       "        vertical-align: middle;\n",
       "    }\n",
       "\n",
       "    .dataframe tbody tr th {\n",
       "        vertical-align: top;\n",
       "    }\n",
       "\n",
       "    .dataframe thead th {\n",
       "        text-align: right;\n",
       "    }\n",
       "</style>\n",
       "<table border=\"1\" class=\"dataframe\">\n",
       "  <thead>\n",
       "    <tr style=\"text-align: right;\">\n",
       "      <th></th>\n",
       "      <th>ID</th>\n",
       "      <th>collect_datetime</th>\n",
       "      <th>gender</th>\n",
       "      <th>grade</th>\n",
       "      <th>height</th>\n",
       "      <th>weight</th>\n",
       "      <th>step_count</th>\n",
       "      <th>burned calory</th>\n",
       "      <th>eat_calory</th>\n",
       "      <th>Sleep_time</th>\n",
       "      <th>서포터여부</th>\n",
       "      <th>labels</th>\n",
       "    </tr>\n",
       "  </thead>\n",
       "  <tbody>\n",
       "    <tr>\n",
       "      <th>5</th>\n",
       "      <td>#AAGQKY</td>\n",
       "      <td>2022-07-19</td>\n",
       "      <td>2</td>\n",
       "      <td>4</td>\n",
       "      <td>148.0</td>\n",
       "      <td>45.15</td>\n",
       "      <td>72.0</td>\n",
       "      <td>48.552</td>\n",
       "      <td>2000.0</td>\n",
       "      <td>468.0</td>\n",
       "      <td>2</td>\n",
       "      <td>0</td>\n",
       "    </tr>\n",
       "    <tr>\n",
       "      <th>6</th>\n",
       "      <td>#AAGQKY</td>\n",
       "      <td>2022-07-20</td>\n",
       "      <td>2</td>\n",
       "      <td>4</td>\n",
       "      <td>148.0</td>\n",
       "      <td>28.10</td>\n",
       "      <td>10079.0</td>\n",
       "      <td>48.552</td>\n",
       "      <td>2000.0</td>\n",
       "      <td>468.0</td>\n",
       "      <td>2</td>\n",
       "      <td>2</td>\n",
       "    </tr>\n",
       "    <tr>\n",
       "      <th>7</th>\n",
       "      <td>#AAGQKY</td>\n",
       "      <td>2022-07-21</td>\n",
       "      <td>2</td>\n",
       "      <td>4</td>\n",
       "      <td>148.0</td>\n",
       "      <td>28.10</td>\n",
       "      <td>10079.0</td>\n",
       "      <td>48.552</td>\n",
       "      <td>2000.0</td>\n",
       "      <td>468.0</td>\n",
       "      <td>2</td>\n",
       "      <td>2</td>\n",
       "    </tr>\n",
       "    <tr>\n",
       "      <th>8</th>\n",
       "      <td>#AAGQKY</td>\n",
       "      <td>2022-07-22</td>\n",
       "      <td>2</td>\n",
       "      <td>4</td>\n",
       "      <td>148.0</td>\n",
       "      <td>28.10</td>\n",
       "      <td>10079.0</td>\n",
       "      <td>48.552</td>\n",
       "      <td>2000.0</td>\n",
       "      <td>468.0</td>\n",
       "      <td>2</td>\n",
       "      <td>2</td>\n",
       "    </tr>\n",
       "    <tr>\n",
       "      <th>9</th>\n",
       "      <td>#AAGQKY</td>\n",
       "      <td>2022-07-23</td>\n",
       "      <td>2</td>\n",
       "      <td>4</td>\n",
       "      <td>148.0</td>\n",
       "      <td>28.10</td>\n",
       "      <td>10079.0</td>\n",
       "      <td>48.552</td>\n",
       "      <td>2000.0</td>\n",
       "      <td>468.0</td>\n",
       "      <td>2</td>\n",
       "      <td>2</td>\n",
       "    </tr>\n",
       "  </tbody>\n",
       "</table>\n",
       "</div>"
      ],
      "text/plain": [
       "        ID collect_datetime  gender  grade  height  weight  step_count  \\\n",
       "5  #AAGQKY       2022-07-19       2      4   148.0   45.15        72.0   \n",
       "6  #AAGQKY       2022-07-20       2      4   148.0   28.10     10079.0   \n",
       "7  #AAGQKY       2022-07-21       2      4   148.0   28.10     10079.0   \n",
       "8  #AAGQKY       2022-07-22       2      4   148.0   28.10     10079.0   \n",
       "9  #AAGQKY       2022-07-23       2      4   148.0   28.10     10079.0   \n",
       "\n",
       "   burned calory  eat_calory  Sleep_time  서포터여부  labels  \n",
       "5         48.552      2000.0       468.0      2       0  \n",
       "6         48.552      2000.0       468.0      2       2  \n",
       "7         48.552      2000.0       468.0      2       2  \n",
       "8         48.552      2000.0       468.0      2       2  \n",
       "9         48.552      2000.0       468.0      2       2  "
      ]
     },
     "execution_count": 14,
     "metadata": {},
     "output_type": "execute_result"
    }
   ],
   "source": [
    "result_df_2.head()"
   ]
  },
  {
   "cell_type": "code",
   "execution_count": 15,
   "id": "601bbb57",
   "metadata": {},
   "outputs": [],
   "source": [
    "X_1=result_df_1.iloc[:,[4,5,6,7,8,9]]\n",
    "y_1=result_df_1.iloc[:,-1]\n",
    "\n",
    "X_2=result_df_2.iloc[:,[4,5,6,7,8,9]]\n",
    "y_2=result_df_2.iloc[:,-1]\n",
    "\n",
    "X_3=result_df_3.iloc[:,[4,5,6,7,8,9]]\n",
    "y_3=result_df_3.iloc[:,-1]"
   ]
  },
  {
   "cell_type": "code",
   "execution_count": 16,
   "id": "b2eac7a0",
   "metadata": {},
   "outputs": [
    {
     "data": {
      "text/plain": [
       "5      2\n",
       "6      2\n",
       "7      2\n",
       "8      0\n",
       "9      0\n",
       "      ..\n",
       "177    0\n",
       "178    0\n",
       "179    0\n",
       "180    0\n",
       "181    0\n",
       "Name: labels, Length: 37347, dtype: int64"
      ]
     },
     "execution_count": 16,
     "metadata": {},
     "output_type": "execute_result"
    }
   ],
   "source": [
    "y_1"
   ]
  },
  {
   "cell_type": "code",
   "execution_count": 17,
   "id": "d2a575d8",
   "metadata": {},
   "outputs": [
    {
     "name": "stdout",
     "output_type": "stream",
     "text": [
      "SMOTE 적용 전 학습용 피처/레이블 데이터 세트:  (37347, 6) (37347,)\n",
      "SMOTE 적용 후 학습용 피처/레이블 데이터 세트:  (100797, 6) (100797,)\n",
      "SMOTE 적용 전 레이블 값 분포: \n",
      " 0    33599\n",
      "1     2318\n",
      "2     1430\n",
      "Name: labels, dtype: int64\n",
      "SMOTE 적용 후 레이블 값 분포: \n",
      " 2    33599\n",
      "0    33599\n",
      "1    33599\n",
      "Name: labels, dtype: int64\n",
      "SMOTE 적용 전 학습용 피처/레이블 데이터 세트:  (13983, 6) (13983,)\n",
      "SMOTE 적용 후 학습용 피처/레이블 데이터 세트:  (37818, 6) (37818,)\n",
      "SMOTE 적용 전 레이블 값 분포: \n",
      " 0    12606\n",
      "1      752\n",
      "2      625\n",
      "Name: labels, dtype: int64\n",
      "SMOTE 적용 후 레이블 값 분포: \n",
      " 0    12606\n",
      "2    12606\n",
      "1    12606\n",
      "Name: labels, dtype: int64\n",
      "SMOTE 적용 전 학습용 피처/레이블 데이터 세트:  (4602, 6) (4602,)\n",
      "SMOTE 적용 후 학습용 피처/레이블 데이터 세트:  (10857, 6) (10857,)\n",
      "SMOTE 적용 전 레이블 값 분포: \n",
      " 0    3619\n",
      "1     534\n",
      "2     449\n",
      "Name: labels, dtype: int64\n",
      "SMOTE 적용 후 레이블 값 분포: \n",
      " 2    3619\n",
      "1    3619\n",
      "0    3619\n",
      "Name: labels, dtype: int64\n"
     ]
    }
   ],
   "source": [
    "from sklearn.preprocessing import StandardScaler\n",
    "from sklearn.model_selection import train_test_split\n",
    "from imblearn.over_sampling import SMOTE\n",
    "from sklearn.preprocessing import OneHotEncoder\n",
    "\n",
    "scaler_1 = StandardScaler()\n",
    "scaler_2 = StandardScaler()\n",
    "scaler_3 = StandardScaler()\n",
    "\n",
    "X_scaler_1=scaler_1.fit_transform(X_1)\n",
    "X_scaler_2= scaler_2.fit_transform(X_2)\n",
    "X_scaler_3= scaler_3.fit_transform(X_3)\n",
    "\n",
    "\n",
    "smote_1 = SMOTE(random_state=0)\n",
    "X_over_1,y_over_1 = smote_1.fit_resample(X_scaler_1,y_1)\n",
    "print('SMOTE 적용 전 학습용 피처/레이블 데이터 세트: ', X_scaler_1.shape, y_1.shape)\n",
    "print('SMOTE 적용 후 학습용 피처/레이블 데이터 세트: ', X_over_1.shape, y_over_1.shape)\n",
    "print('SMOTE 적용 전 레이블 값 분포: \\n', pd.Series(y_1).value_counts())\n",
    "print('SMOTE 적용 후 레이블 값 분포: \\n', pd.Series(y_over_1).value_counts())\n",
    "\n",
    "smote_2 = SMOTE(random_state=0)\n",
    "X_over_2,y_over_2 = smote_2.fit_resample(X_scaler_2,y_2)\n",
    "print('SMOTE 적용 전 학습용 피처/레이블 데이터 세트: ', X_scaler_2.shape, y_2.shape)\n",
    "print('SMOTE 적용 후 학습용 피처/레이블 데이터 세트: ', X_over_2.shape, y_over_2.shape)\n",
    "print('SMOTE 적용 전 레이블 값 분포: \\n', pd.Series(y_2).value_counts())\n",
    "print('SMOTE 적용 후 레이블 값 분포: \\n', pd.Series(y_over_2).value_counts())\n",
    "\n",
    "smote_3 = SMOTE(random_state=0)\n",
    "X_over_3,y_over_3 = smote_3.fit_resample(X_scaler_3,y_3)\n",
    "print('SMOTE 적용 전 학습용 피처/레이블 데이터 세트: ', X_scaler_3.shape, y_3.shape)\n",
    "print('SMOTE 적용 후 학습용 피처/레이블 데이터 세트: ', X_over_3.shape, y_over_3.shape)\n",
    "print('SMOTE 적용 전 레이블 값 분포: \\n', pd.Series(y_3).value_counts())\n",
    "print('SMOTE 적용 후 레이블 값 분포: \\n', pd.Series(y_over_3).value_counts())\n",
    "\n",
    "\n",
    "\n",
    "\n"
   ]
  },
  {
   "cell_type": "markdown",
   "id": "666df185",
   "metadata": {},
   "source": [
    "# 데이터 스케일링"
   ]
  },
  {
   "cell_type": "markdown",
   "id": "e2c79e34",
   "metadata": {},
   "source": [
    "## Train, Test dataset 나누기"
   ]
  },
  {
   "cell_type": "code",
   "execution_count": 18,
   "id": "cbaf8e78",
   "metadata": {},
   "outputs": [],
   "source": [
    "X_train_1, X_test_1, y_train_1, y_test_1 = train_test_split(X_over_1, y_over_1, test_size=0.20)\n",
    "\n",
    "X_train_2, X_test_2, y_train_2, y_test_2 = train_test_split(X_over_2, y_over_2, test_size=0.20)\n",
    "\n",
    "X_train_3, X_test_3, y_train_3, y_test_3 = train_test_split(X_over_3, y_over_3, test_size=0.20)"
   ]
  },
  {
   "cell_type": "markdown",
   "id": "f45c6a0a",
   "metadata": {},
   "source": [
    "## Global train 데이터 세트 만들기"
   ]
  },
  {
   "cell_type": "code",
   "execution_count": 19,
   "id": "ea2e90fb",
   "metadata": {},
   "outputs": [],
   "source": [
    "X_train = np.concatenate((X_train_1,X_train_2,X_train_3), axis=0)\n",
    "y_train = np.concatenate((y_train_1,y_train_2,y_train_3), axis=0)"
   ]
  },
  {
   "cell_type": "code",
   "execution_count": 20,
   "id": "a6abd341",
   "metadata": {},
   "outputs": [],
   "source": [
    "X_test = np.concatenate((X_test_1,X_test_2,X_test_3), axis=0)\n",
    "y_test = np.concatenate((y_test_1,y_test_2,y_test_3), axis=0)"
   ]
  },
  {
   "cell_type": "code",
   "execution_count": 21,
   "id": "203a40fb",
   "metadata": {},
   "outputs": [],
   "source": [
    "X_train = torch.FloatTensor(X_train)\n",
    "X_test = torch.FloatTensor(X_test)\n",
    "y_train = torch.LongTensor(y_train)\n",
    "y_test = torch.LongTensor(y_test)\n",
    "train_dataset=TensorDataset(X_train, y_train)\n",
    "test_dataset=TensorDataset(X_test, y_test)"
   ]
  },
  {
   "cell_type": "markdown",
   "id": "07a80589",
   "metadata": {},
   "source": [
    "## Client train 데이터 세트 만들기"
   ]
  },
  {
   "cell_type": "code",
   "execution_count": 22,
   "id": "218c7d09",
   "metadata": {},
   "outputs": [],
   "source": [
    "X_train_1 = torch.FloatTensor(X_train_1)\n",
    "X_test_1 = torch.FloatTensor(X_test_1)\n",
    "y_train_1 = torch.LongTensor(y_train_1.to_numpy())\n",
    "y_test_1 = torch.LongTensor(y_test_1.to_numpy())\n",
    "\n",
    "train_dataset_1=TensorDataset(X_train_1, y_train_1)\n",
    "test_dataset_1=TensorDataset(X_test_1, y_test_1)"
   ]
  },
  {
   "cell_type": "code",
   "execution_count": 23,
   "id": "6e0bb6ff",
   "metadata": {},
   "outputs": [],
   "source": [
    "X_train_2 = torch.FloatTensor(X_train_2)\n",
    "X_test_2 = torch.FloatTensor(X_test_2)\n",
    "y_train_2 = torch.LongTensor(y_train_2.to_numpy())\n",
    "y_test_2 = torch.LongTensor(y_test_2.to_numpy())\n",
    "\n",
    "train_dataset_2=TensorDataset(X_train_2, y_train_2)\n",
    "test_dataset_2=TensorDataset(X_test_2, y_test_2)"
   ]
  },
  {
   "cell_type": "code",
   "execution_count": 24,
   "id": "8c77bc9b",
   "metadata": {},
   "outputs": [],
   "source": [
    "X_train_3 = torch.FloatTensor(X_train_3)\n",
    "X_test_3 = torch.FloatTensor(X_test_3)\n",
    "y_train_3 = torch.LongTensor(y_train_3.to_numpy())\n",
    "y_test_3 = torch.LongTensor(y_test_3.to_numpy())\n",
    "\n",
    "train_dataset_3=TensorDataset(X_train_3, y_train_3)\n",
    "test_dataset_3=TensorDataset(X_test_3, y_test_3)"
   ]
  },
  {
   "cell_type": "code",
   "execution_count": 25,
   "id": "a7c09eea",
   "metadata": {},
   "outputs": [],
   "source": [
    "# from sklearn.model_selection import StratifiedKFold\n",
    "# skf=StratifiedKFold(n_splits=10)\n",
    "# skf.get_n_splits(X_train_1,y_train_1)"
   ]
  },
  {
   "cell_type": "code",
   "execution_count": 26,
   "id": "199c1e8b",
   "metadata": {},
   "outputs": [],
   "source": [
    "X_train_over=X_over_1\n",
    "y_train_over=y_over_1"
   ]
  },
  {
   "cell_type": "code",
   "execution_count": null,
   "id": "f2455c45",
   "metadata": {},
   "outputs": [
    {
     "name": "stderr",
     "output_type": "stream",
     "text": [
      "100%|██████████████████████████████████████████████████████████████████████████████████| 10/10 [00:01<00:00,  5.87it/s]\n"
     ]
    },
    {
     "name": "stdout",
     "output_type": "stream",
     "text": [
      "[INFO] val_acc has been improved from 9999999999999.00000 to 1.11149. Saving Model!\n",
      "epoch 01, loss: 1.21747, acc: 0.22669, val_loss: 1.11149, val_accuracy: 0.33333\n"
     ]
    },
    {
     "name": "stderr",
     "output_type": "stream",
     "text": [
      "100%|██████████████████████████████████████████████████████████████████████████████████| 10/10 [00:01<00:00,  9.88it/s]\n"
     ]
    },
    {
     "name": "stdout",
     "output_type": "stream",
     "text": [
      "[INFO] val_acc has been improved from 1.11149 to 1.10114. Saving Model!\n",
      "epoch 02, loss: 1.09204, acc: 0.33333, val_loss: 1.10114, val_accuracy: 0.33333\n"
     ]
    },
    {
     "name": "stderr",
     "output_type": "stream",
     "text": [
      "100%|██████████████████████████████████████████████████████████████████████████████████| 10/10 [00:00<00:00, 10.05it/s]\n"
     ]
    },
    {
     "name": "stdout",
     "output_type": "stream",
     "text": [
      "[INFO] val_acc has been improved from 1.10114 to 1.09865. Saving Model!\n",
      "epoch 03, loss: 1.09589, acc: 0.33333, val_loss: 1.09865, val_accuracy: 0.33333\n"
     ]
    },
    {
     "name": "stderr",
     "output_type": "stream",
     "text": [
      "100%|██████████████████████████████████████████████████████████████████████████████████| 10/10 [00:00<00:00, 10.16it/s]\n"
     ]
    },
    {
     "name": "stdout",
     "output_type": "stream",
     "text": [
      "[INFO] val_acc has been improved from 1.09865 to 1.09733. Saving Model!\n",
      "epoch 04, loss: 1.09704, acc: 0.33333, val_loss: 1.09733, val_accuracy: 0.33542\n"
     ]
    },
    {
     "name": "stderr",
     "output_type": "stream",
     "text": [
      "100%|██████████████████████████████████████████████████████████████████████████████████| 10/10 [00:01<00:00,  9.37it/s]\n"
     ]
    },
    {
     "name": "stdout",
     "output_type": "stream",
     "text": [
      "[INFO] val_acc has been improved from 1.09733 to 1.09631. Saving Model!\n",
      "epoch 05, loss: 1.09690, acc: 0.33117, val_loss: 1.09631, val_accuracy: 0.33730\n"
     ]
    },
    {
     "name": "stderr",
     "output_type": "stream",
     "text": [
      "100%|██████████████████████████████████████████████████████████████████████████████████| 10/10 [00:01<00:00,  7.93it/s]\n"
     ]
    },
    {
     "name": "stdout",
     "output_type": "stream",
     "text": [
      "[INFO] val_acc has been improved from 1.09631 to 1.09513. Saving Model!\n",
      "epoch 06, loss: 1.09612, acc: 0.31950, val_loss: 1.09513, val_accuracy: 0.34296\n"
     ]
    },
    {
     "name": "stderr",
     "output_type": "stream",
     "text": [
      "100%|██████████████████████████████████████████████████████████████████████████████████| 10/10 [00:00<00:00, 10.18it/s]\n"
     ]
    },
    {
     "name": "stdout",
     "output_type": "stream",
     "text": [
      "[INFO] val_acc has been improved from 1.09513 to 1.09380. Saving Model!\n",
      "epoch 07, loss: 1.09521, acc: 0.33007, val_loss: 1.09380, val_accuracy: 0.35317\n"
     ]
    },
    {
     "name": "stderr",
     "output_type": "stream",
     "text": [
      "100%|██████████████████████████████████████████████████████████████████████████████████| 10/10 [00:01<00:00,  9.98it/s]\n"
     ]
    },
    {
     "name": "stdout",
     "output_type": "stream",
     "text": [
      "[INFO] val_acc has been improved from 1.09380 to 1.09228. Saving Model!\n",
      "epoch 08, loss: 1.09424, acc: 0.32962, val_loss: 1.09228, val_accuracy: 0.37569\n"
     ]
    },
    {
     "name": "stderr",
     "output_type": "stream",
     "text": [
      "100%|██████████████████████████████████████████████████████████████████████████████████| 10/10 [00:01<00:00,  9.09it/s]\n"
     ]
    },
    {
     "name": "stdout",
     "output_type": "stream",
     "text": [
      "[INFO] val_acc has been improved from 1.09228 to 1.09101. Saving Model!\n",
      "epoch 09, loss: 1.09336, acc: 0.32910, val_loss: 1.09101, val_accuracy: 0.39970\n"
     ]
    },
    {
     "name": "stderr",
     "output_type": "stream",
     "text": [
      "100%|██████████████████████████████████████████████████████████████████████████████████| 10/10 [00:01<00:00,  6.72it/s]\n"
     ]
    },
    {
     "name": "stdout",
     "output_type": "stream",
     "text": [
      "[INFO] val_acc has been improved from 1.09101 to 1.08974. Saving Model!\n",
      "epoch 10, loss: 1.09242, acc: 0.31236, val_loss: 1.08974, val_accuracy: 0.41746\n"
     ]
    },
    {
     "name": "stderr",
     "output_type": "stream",
     "text": [
      "100%|██████████████████████████████████████████████████████████████████████████████████| 10/10 [00:00<00:00, 10.07it/s]\n"
     ]
    },
    {
     "name": "stdout",
     "output_type": "stream",
     "text": [
      "[INFO] val_acc has been improved from 1.08974 to 1.08849. Saving Model!\n",
      "epoch 11, loss: 1.09154, acc: 0.31791, val_loss: 1.08849, val_accuracy: 0.40099\n"
     ]
    },
    {
     "name": "stderr",
     "output_type": "stream",
     "text": [
      "100%|██████████████████████████████████████████████████████████████████████████████████| 10/10 [00:00<00:00, 10.06it/s]\n"
     ]
    },
    {
     "name": "stdout",
     "output_type": "stream",
     "text": [
      "[INFO] val_acc has been improved from 1.08849 to 1.08755. Saving Model!\n",
      "epoch 12, loss: 1.09048, acc: 0.34157, val_loss: 1.08755, val_accuracy: 0.39494\n"
     ]
    },
    {
     "name": "stderr",
     "output_type": "stream",
     "text": [
      "100%|██████████████████████████████████████████████████████████████████████████████████| 10/10 [00:00<00:00, 10.04it/s]\n"
     ]
    },
    {
     "name": "stdout",
     "output_type": "stream",
     "text": [
      "[INFO] val_acc has been improved from 1.08755 to 1.08666. Saving Model!\n",
      "epoch 13, loss: 1.08950, acc: 0.34995, val_loss: 1.08666, val_accuracy: 0.37927\n"
     ]
    },
    {
     "name": "stderr",
     "output_type": "stream",
     "text": [
      "100%|██████████████████████████████████████████████████████████████████████████████████| 10/10 [00:01<00:00,  9.17it/s]\n"
     ]
    },
    {
     "name": "stdout",
     "output_type": "stream",
     "text": [
      "[INFO] val_acc has been improved from 1.08666 to 1.08577. Saving Model!\n",
      "epoch 14, loss: 1.08820, acc: 0.35837, val_loss: 1.08577, val_accuracy: 0.38105\n"
     ]
    },
    {
     "name": "stderr",
     "output_type": "stream",
     "text": [
      "100%|██████████████████████████████████████████████████████████████████████████████████| 10/10 [00:01<00:00,  8.52it/s]\n"
     ]
    },
    {
     "name": "stdout",
     "output_type": "stream",
     "text": [
      "[INFO] val_acc has been improved from 1.08577 to 1.08499. Saving Model!\n",
      "epoch 15, loss: 1.08765, acc: 0.35030, val_loss: 1.08499, val_accuracy: 0.39206\n"
     ]
    },
    {
     "name": "stderr",
     "output_type": "stream",
     "text": [
      "100%|██████████████████████████████████████████████████████████████████████████████████| 10/10 [00:01<00:00,  8.35it/s]\n"
     ]
    },
    {
     "name": "stdout",
     "output_type": "stream",
     "text": [
      "[INFO] val_acc has been improved from 1.08499 to 1.08475. Saving Model!\n",
      "epoch 16, loss: 1.08522, acc: 0.36342, val_loss: 1.08475, val_accuracy: 0.39464\n"
     ]
    },
    {
     "name": "stderr",
     "output_type": "stream",
     "text": [
      "100%|██████████████████████████████████████████████████████████████████████████████████| 10/10 [00:01<00:00,  8.47it/s]\n"
     ]
    },
    {
     "name": "stdout",
     "output_type": "stream",
     "text": [
      "[INFO] val_acc has been improved from 1.08475 to 1.08401. Saving Model!\n",
      "epoch 17, loss: 1.08488, acc: 0.35915, val_loss: 1.08401, val_accuracy: 0.39484\n"
     ]
    },
    {
     "name": "stderr",
     "output_type": "stream",
     "text": [
      "100%|██████████████████████████████████████████████████████████████████████████████████| 10/10 [00:01<00:00,  7.80it/s]\n"
     ]
    },
    {
     "name": "stdout",
     "output_type": "stream",
     "text": [
      "[INFO] val_acc has been improved from 1.08401 to 1.08348. Saving Model!\n",
      "epoch 18, loss: 1.08233, acc: 0.36527, val_loss: 1.08348, val_accuracy: 0.39544\n"
     ]
    },
    {
     "name": "stderr",
     "output_type": "stream",
     "text": [
      "100%|██████████████████████████████████████████████████████████████████████████████████| 10/10 [00:00<00:00, 10.06it/s]\n"
     ]
    },
    {
     "name": "stdout",
     "output_type": "stream",
     "text": [
      "[INFO] val_acc has been improved from 1.08348 to 1.08297. Saving Model!\n",
      "epoch 19, loss: 1.08127, acc: 0.36217, val_loss: 1.08297, val_accuracy: 0.37192\n"
     ]
    },
    {
     "name": "stderr",
     "output_type": "stream",
     "text": [
      "100%|██████████████████████████████████████████████████████████████████████████████████| 10/10 [00:01<00:00,  8.36it/s]\n"
     ]
    },
    {
     "name": "stdout",
     "output_type": "stream",
     "text": [
      "epoch 20, loss: 1.07856, acc: 0.36678, val_loss: 1.08304, val_accuracy: 0.37609\n"
     ]
    },
    {
     "name": "stderr",
     "output_type": "stream",
     "text": [
      "100%|██████████████████████████████████████████████████████████████████████████████████| 10/10 [00:01<00:00,  8.16it/s]\n"
     ]
    },
    {
     "name": "stdout",
     "output_type": "stream",
     "text": [
      "[INFO] val_acc has been improved from 1.08297 to 1.08161. Saving Model!\n",
      "epoch 21, loss: 1.07764, acc: 0.36559, val_loss: 1.08161, val_accuracy: 0.37520\n"
     ]
    },
    {
     "name": "stderr",
     "output_type": "stream",
     "text": [
      "100%|██████████████████████████████████████████████████████████████████████████████████| 10/10 [00:01<00:00,  8.96it/s]\n"
     ]
    },
    {
     "name": "stdout",
     "output_type": "stream",
     "text": [
      "[INFO] val_acc has been improved from 1.08161 to 1.08154. Saving Model!\n",
      "epoch 22, loss: 1.07490, acc: 0.36624, val_loss: 1.08154, val_accuracy: 0.37629\n"
     ]
    },
    {
     "name": "stderr",
     "output_type": "stream",
     "text": [
      "100%|██████████████████████████████████████████████████████████████████████████████████| 10/10 [00:01<00:00,  7.88it/s]\n"
     ]
    },
    {
     "name": "stdout",
     "output_type": "stream",
     "text": [
      "[INFO] val_acc has been improved from 1.08154 to 1.08119. Saving Model!\n",
      "epoch 23, loss: 1.07342, acc: 0.36555, val_loss: 1.08119, val_accuracy: 0.37550\n"
     ]
    },
    {
     "name": "stderr",
     "output_type": "stream",
     "text": [
      "100%|██████████████████████████████████████████████████████████████████████████████████| 10/10 [00:01<00:00,  8.88it/s]\n"
     ]
    },
    {
     "name": "stdout",
     "output_type": "stream",
     "text": [
      "epoch 24, loss: 1.07079, acc: 0.37017, val_loss: 1.08172, val_accuracy: 0.37649\n"
     ]
    },
    {
     "name": "stderr",
     "output_type": "stream",
     "text": [
      "100%|██████████████████████████████████████████████████████████████████████████████████| 10/10 [00:01<00:00,  9.10it/s]\n"
     ]
    },
    {
     "name": "stdout",
     "output_type": "stream",
     "text": [
      "epoch 25, loss: 1.06933, acc: 0.36860, val_loss: 1.08139, val_accuracy: 0.37738\n"
     ]
    },
    {
     "name": "stderr",
     "output_type": "stream",
     "text": [
      "100%|██████████████████████████████████████████████████████████████████████████████████| 10/10 [00:01<00:00,  9.71it/s]\n"
     ]
    },
    {
     "name": "stdout",
     "output_type": "stream",
     "text": [
      "epoch 26, loss: 1.06675, acc: 0.37305, val_loss: 1.08249, val_accuracy: 0.37817\n"
     ]
    },
    {
     "name": "stderr",
     "output_type": "stream",
     "text": [
      "100%|██████████████████████████████████████████████████████████████████████████████████| 10/10 [00:00<00:00, 10.02it/s]\n"
     ]
    },
    {
     "name": "stdout",
     "output_type": "stream",
     "text": [
      "[INFO] val_acc has been improved from 1.08119 to 1.08079. Saving Model!\n",
      "epoch 27, loss: 1.06548, acc: 0.37037, val_loss: 1.08079, val_accuracy: 0.36190\n"
     ]
    },
    {
     "name": "stderr",
     "output_type": "stream",
     "text": [
      "100%|██████████████████████████████████████████████████████████████████████████████████| 10/10 [00:01<00:00,  9.98it/s]\n"
     ]
    },
    {
     "name": "stdout",
     "output_type": "stream",
     "text": [
      "epoch 28, loss: 1.06135, acc: 0.37652, val_loss: 1.08276, val_accuracy: 0.36220\n"
     ]
    },
    {
     "name": "stderr",
     "output_type": "stream",
     "text": [
      "100%|██████████████████████████████████████████████████████████████████████████████████| 10/10 [00:01<00:00,  9.16it/s]\n"
     ]
    },
    {
     "name": "stdout",
     "output_type": "stream",
     "text": [
      "epoch 29, loss: 1.06101, acc: 0.37452, val_loss: 1.08285, val_accuracy: 0.36458\n"
     ]
    },
    {
     "name": "stderr",
     "output_type": "stream",
     "text": [
      "100%|██████████████████████████████████████████████████████████████████████████████████| 10/10 [00:01<00:00,  8.97it/s]\n"
     ]
    },
    {
     "name": "stdout",
     "output_type": "stream",
     "text": [
      "epoch 30, loss: 1.05683, acc: 0.37742, val_loss: 1.08355, val_accuracy: 0.36429\n"
     ]
    },
    {
     "name": "stderr",
     "output_type": "stream",
     "text": [
      "100%|██████████████████████████████████████████████████████████████████████████████████| 10/10 [00:00<00:00, 10.07it/s]\n"
     ]
    },
    {
     "name": "stdout",
     "output_type": "stream",
     "text": [
      "epoch 31, loss: 1.05541, acc: 0.37309, val_loss: 1.08473, val_accuracy: 0.36151\n"
     ]
    },
    {
     "name": "stderr",
     "output_type": "stream",
     "text": [
      "100%|██████████████████████████████████████████████████████████████████████████████████| 10/10 [00:01<00:00,  9.90it/s]\n"
     ]
    },
    {
     "name": "stdout",
     "output_type": "stream",
     "text": [
      "epoch 32, loss: 1.05235, acc: 0.37574, val_loss: 1.08476, val_accuracy: 0.36042\n"
     ]
    },
    {
     "name": "stderr",
     "output_type": "stream",
     "text": [
      "100%|██████████████████████████████████████████████████████████████████████████████████| 10/10 [00:01<00:00,  9.11it/s]\n"
     ]
    },
    {
     "name": "stdout",
     "output_type": "stream",
     "text": [
      "epoch 33, loss: 1.05022, acc: 0.37365, val_loss: 1.08707, val_accuracy: 0.36200\n"
     ]
    },
    {
     "name": "stderr",
     "output_type": "stream",
     "text": [
      "100%|██████████████████████████████████████████████████████████████████████████████████| 10/10 [00:01<00:00,  9.53it/s]\n"
     ]
    },
    {
     "name": "stdout",
     "output_type": "stream",
     "text": [
      "epoch 34, loss: 1.04722, acc: 0.37977, val_loss: 1.08746, val_accuracy: 0.38750\n"
     ]
    },
    {
     "name": "stderr",
     "output_type": "stream",
     "text": [
      "100%|██████████████████████████████████████████████████████████████████████████████████| 10/10 [00:01<00:00,  7.98it/s]\n"
     ]
    },
    {
     "name": "stdout",
     "output_type": "stream",
     "text": [
      "epoch 35, loss: 1.04566, acc: 0.38588, val_loss: 1.08851, val_accuracy: 0.38839\n"
     ]
    },
    {
     "name": "stderr",
     "output_type": "stream",
     "text": [
      "100%|██████████████████████████████████████████████████████████████████████████████████| 10/10 [00:00<00:00, 10.06it/s]\n"
     ]
    },
    {
     "name": "stdout",
     "output_type": "stream",
     "text": [
      "epoch 36, loss: 1.04323, acc: 0.38995, val_loss: 1.08797, val_accuracy: 0.39167\n"
     ]
    },
    {
     "name": "stderr",
     "output_type": "stream",
     "text": [
      "100%|██████████████████████████████████████████████████████████████████████████████████| 10/10 [00:00<00:00, 10.20it/s]\n"
     ]
    },
    {
     "name": "stdout",
     "output_type": "stream",
     "text": [
      "epoch 37, loss: 1.04036, acc: 0.40250, val_loss: 1.09217, val_accuracy: 0.39137\n"
     ]
    },
    {
     "name": "stderr",
     "output_type": "stream",
     "text": [
      "100%|██████████████████████████████████████████████████████████████████████████████████| 10/10 [00:00<00:00, 10.06it/s]\n"
     ]
    },
    {
     "name": "stdout",
     "output_type": "stream",
     "text": [
      "epoch 38, loss: 1.03725, acc: 0.41196, val_loss: 1.09138, val_accuracy: 0.39385\n"
     ]
    },
    {
     "name": "stderr",
     "output_type": "stream",
     "text": [
      "100%|██████████████████████████████████████████████████████████████████████████████████| 10/10 [00:01<00:00,  9.46it/s]\n"
     ]
    },
    {
     "name": "stdout",
     "output_type": "stream",
     "text": [
      "epoch 39, loss: 1.03594, acc: 0.41002, val_loss: 1.09416, val_accuracy: 0.39276\n"
     ]
    },
    {
     "name": "stderr",
     "output_type": "stream",
     "text": [
      "100%|██████████████████████████████████████████████████████████████████████████████████| 10/10 [00:01<00:00,  9.06it/s]\n"
     ]
    },
    {
     "name": "stdout",
     "output_type": "stream",
     "text": [
      "epoch 40, loss: 1.03197, acc: 0.41452, val_loss: 1.09446, val_accuracy: 0.39157\n"
     ]
    },
    {
     "name": "stderr",
     "output_type": "stream",
     "text": [
      "100%|██████████████████████████████████████████████████████████████████████████████████| 10/10 [00:01<00:00,  7.40it/s]\n"
     ]
    },
    {
     "name": "stdout",
     "output_type": "stream",
     "text": [
      "epoch 41, loss: 1.03074, acc: 0.41265, val_loss: 1.09889, val_accuracy: 0.39504\n"
     ]
    },
    {
     "name": "stderr",
     "output_type": "stream",
     "text": [
      "100%|██████████████████████████████████████████████████████████████████████████████████| 10/10 [00:00<00:00, 10.20it/s]\n"
     ]
    },
    {
     "name": "stdout",
     "output_type": "stream",
     "text": [
      "epoch 42, loss: 1.02756, acc: 0.41690, val_loss: 1.09608, val_accuracy: 0.39802\n"
     ]
    },
    {
     "name": "stderr",
     "output_type": "stream",
     "text": [
      "100%|██████████████████████████████████████████████████████████████████████████████████| 10/10 [00:01<00:00,  9.58it/s]\n"
     ]
    },
    {
     "name": "stdout",
     "output_type": "stream",
     "text": [
      "epoch 43, loss: 1.02585, acc: 0.41720, val_loss: 1.10172, val_accuracy: 0.39673\n"
     ]
    },
    {
     "name": "stderr",
     "output_type": "stream",
     "text": [
      "100%|██████████████████████████████████████████████████████████████████████████████████| 10/10 [00:01<00:00,  8.06it/s]\n"
     ]
    },
    {
     "name": "stdout",
     "output_type": "stream",
     "text": [
      "epoch 44, loss: 1.02253, acc: 0.42166, val_loss: 1.10041, val_accuracy: 0.39692\n"
     ]
    },
    {
     "name": "stderr",
     "output_type": "stream",
     "text": [
      "100%|██████████████████████████████████████████████████████████████████████████████████| 10/10 [00:01<00:00,  9.16it/s]\n"
     ]
    },
    {
     "name": "stdout",
     "output_type": "stream",
     "text": [
      "epoch 45, loss: 1.02142, acc: 0.42370, val_loss: 1.10367, val_accuracy: 0.40030\n"
     ]
    },
    {
     "name": "stderr",
     "output_type": "stream",
     "text": [
      "100%|██████████████████████████████████████████████████████████████████████████████████| 10/10 [00:01<00:00,  6.66it/s]\n"
     ]
    },
    {
     "name": "stdout",
     "output_type": "stream",
     "text": [
      "epoch 46, loss: 1.01735, acc: 0.43296, val_loss: 1.10413, val_accuracy: 0.39891\n"
     ]
    },
    {
     "name": "stderr",
     "output_type": "stream",
     "text": [
      "100%|██████████████████████████████████████████████████████████████████████████████████| 10/10 [00:00<00:00, 10.07it/s]\n"
     ]
    },
    {
     "name": "stdout",
     "output_type": "stream",
     "text": [
      "epoch 47, loss: 1.01654, acc: 0.43685, val_loss: 1.10795, val_accuracy: 0.40099\n"
     ]
    },
    {
     "name": "stderr",
     "output_type": "stream",
     "text": [
      "100%|██████████████████████████████████████████████████████████████████████████████████| 10/10 [00:01<00:00,  9.82it/s]\n"
     ]
    },
    {
     "name": "stdout",
     "output_type": "stream",
     "text": [
      "epoch 48, loss: 1.01305, acc: 0.43635, val_loss: 1.10619, val_accuracy: 0.39940\n"
     ]
    },
    {
     "name": "stderr",
     "output_type": "stream",
     "text": [
      "100%|██████████████████████████████████████████████████████████████████████████████████| 10/10 [00:01<00:00,  9.62it/s]\n"
     ]
    },
    {
     "name": "stdout",
     "output_type": "stream",
     "text": [
      "epoch 49, loss: 1.01137, acc: 0.44079, val_loss: 1.11103, val_accuracy: 0.40308\n"
     ]
    },
    {
     "name": "stderr",
     "output_type": "stream",
     "text": [
      "100%|██████████████████████████████████████████████████████████████████████████████████| 10/10 [00:01<00:00,  9.18it/s]\n"
     ]
    },
    {
     "name": "stdout",
     "output_type": "stream",
     "text": [
      "epoch 50, loss: 1.00715, acc: 0.44852, val_loss: 1.10924, val_accuracy: 0.40208\n"
     ]
    },
    {
     "name": "stderr",
     "output_type": "stream",
     "text": [
      "100%|██████████████████████████████████████████████████████████████████████████████████| 10/10 [00:01<00:00,  8.87it/s]\n"
     ]
    },
    {
     "name": "stdout",
     "output_type": "stream",
     "text": [
      "epoch 51, loss: 1.00682, acc: 0.44610, val_loss: 1.11515, val_accuracy: 0.40327\n"
     ]
    },
    {
     "name": "stderr",
     "output_type": "stream",
     "text": [
      "100%|██████████████████████████████████████████████████████████████████████████████████| 10/10 [00:01<00:00,  8.23it/s]\n"
     ]
    },
    {
     "name": "stdout",
     "output_type": "stream",
     "text": [
      "epoch 52, loss: 1.00316, acc: 0.45139, val_loss: 1.11120, val_accuracy: 0.40466\n"
     ]
    },
    {
     "name": "stderr",
     "output_type": "stream",
     "text": [
      "100%|██████████████████████████████████████████████████████████████████████████████████| 10/10 [00:01<00:00,  8.24it/s]\n"
     ]
    },
    {
     "name": "stdout",
     "output_type": "stream",
     "text": [
      "epoch 53, loss: 1.00181, acc: 0.45394, val_loss: 1.11735, val_accuracy: 0.41071\n"
     ]
    },
    {
     "name": "stderr",
     "output_type": "stream",
     "text": [
      "100%|██████████████████████████████████████████████████████████████████████████████████| 10/10 [00:00<00:00, 10.10it/s]\n"
     ]
    },
    {
     "name": "stdout",
     "output_type": "stream",
     "text": [
      "epoch 54, loss: 0.99798, acc: 0.46226, val_loss: 1.11679, val_accuracy: 0.40992\n"
     ]
    },
    {
     "name": "stderr",
     "output_type": "stream",
     "text": [
      "100%|██████████████████████████████████████████████████████████████████████████████████| 10/10 [00:00<00:00, 10.34it/s]\n"
     ]
    },
    {
     "name": "stdout",
     "output_type": "stream",
     "text": [
      "epoch 55, loss: 0.99765, acc: 0.46195, val_loss: 1.11811, val_accuracy: 0.41429\n"
     ]
    },
    {
     "name": "stderr",
     "output_type": "stream",
     "text": [
      "100%|██████████████████████████████████████████████████████████████████████████████████| 10/10 [00:01<00:00,  9.47it/s]\n"
     ]
    },
    {
     "name": "stdout",
     "output_type": "stream",
     "text": [
      "epoch 56, loss: 0.99237, acc: 0.46875, val_loss: 1.12110, val_accuracy: 0.41101\n"
     ]
    },
    {
     "name": "stderr",
     "output_type": "stream",
     "text": [
      "100%|██████████████████████████████████████████████████████████████████████████████████| 10/10 [00:01<00:00,  9.35it/s]\n"
     ]
    },
    {
     "name": "stdout",
     "output_type": "stream",
     "text": [
      "epoch 57, loss: 0.99196, acc: 0.46802, val_loss: 1.12325, val_accuracy: 0.41498\n"
     ]
    },
    {
     "name": "stderr",
     "output_type": "stream",
     "text": [
      "100%|██████████████████████████████████████████████████████████████████████████████████| 10/10 [00:01<00:00,  8.17it/s]\n"
     ]
    },
    {
     "name": "stdout",
     "output_type": "stream",
     "text": [
      "epoch 58, loss: 0.98703, acc: 0.47592, val_loss: 1.12553, val_accuracy: 0.41280\n"
     ]
    },
    {
     "name": "stderr",
     "output_type": "stream",
     "text": [
      "100%|██████████████████████████████████████████████████████████████████████████████████| 10/10 [00:01<00:00,  7.52it/s]\n"
     ]
    },
    {
     "name": "stdout",
     "output_type": "stream",
     "text": [
      "epoch 59, loss: 0.98713, acc: 0.47551, val_loss: 1.12824, val_accuracy: 0.41508\n"
     ]
    },
    {
     "name": "stderr",
     "output_type": "stream",
     "text": [
      "100%|██████████████████████████████████████████████████████████████████████████████████| 10/10 [00:01<00:00,  8.15it/s]\n"
     ]
    },
    {
     "name": "stdout",
     "output_type": "stream",
     "text": [
      "epoch 60, loss: 0.98242, acc: 0.48004, val_loss: 1.13113, val_accuracy: 0.41409\n"
     ]
    },
    {
     "name": "stderr",
     "output_type": "stream",
     "text": [
      "100%|██████████████████████████████████████████████████████████████████████████████████| 10/10 [00:01<00:00,  8.30it/s]\n"
     ]
    },
    {
     "name": "stdout",
     "output_type": "stream",
     "text": [
      "epoch 61, loss: 0.98280, acc: 0.47195, val_loss: 1.13786, val_accuracy: 0.41617\n"
     ]
    },
    {
     "name": "stderr",
     "output_type": "stream",
     "text": [
      "100%|██████████████████████████████████████████████████████████████████████████████████| 10/10 [00:01<00:00,  8.25it/s]\n"
     ]
    },
    {
     "name": "stdout",
     "output_type": "stream",
     "text": [
      "epoch 62, loss: 0.97883, acc: 0.48393, val_loss: 1.13424, val_accuracy: 0.41478\n"
     ]
    },
    {
     "name": "stderr",
     "output_type": "stream",
     "text": [
      "100%|██████████████████████████████████████████████████████████████████████████████████| 10/10 [00:01<00:00,  8.18it/s]\n"
     ]
    },
    {
     "name": "stdout",
     "output_type": "stream",
     "text": [
      "epoch 63, loss: 0.97795, acc: 0.47718, val_loss: 1.14054, val_accuracy: 0.41567\n"
     ]
    },
    {
     "name": "stderr",
     "output_type": "stream",
     "text": [
      "100%|██████████████████████████████████████████████████████████████████████████████████| 10/10 [00:01<00:00,  8.28it/s]\n"
     ]
    },
    {
     "name": "stdout",
     "output_type": "stream",
     "text": [
      "epoch 64, loss: 0.97317, acc: 0.48732, val_loss: 1.13803, val_accuracy: 0.41438\n"
     ]
    },
    {
     "name": "stderr",
     "output_type": "stream",
     "text": [
      "100%|██████████████████████████████████████████████████████████████████████████████████| 10/10 [00:01<00:00,  8.12it/s]\n"
     ]
    },
    {
     "name": "stdout",
     "output_type": "stream",
     "text": [
      "epoch 65, loss: 0.97313, acc: 0.47852, val_loss: 1.14369, val_accuracy: 0.41498\n"
     ]
    },
    {
     "name": "stderr",
     "output_type": "stream",
     "text": [
      "100%|██████████████████████████████████████████████████████████████████████████████████| 10/10 [00:01<00:00,  7.63it/s]\n"
     ]
    },
    {
     "name": "stdout",
     "output_type": "stream",
     "text": [
      "epoch 66, loss: 0.96792, acc: 0.48728, val_loss: 1.14256, val_accuracy: 0.41806\n"
     ]
    },
    {
     "name": "stderr",
     "output_type": "stream",
     "text": [
      "100%|██████████████████████████████████████████████████████████████████████████████████| 10/10 [00:01<00:00,  7.93it/s]\n"
     ]
    },
    {
     "name": "stdout",
     "output_type": "stream",
     "text": [
      "epoch 67, loss: 0.96789, acc: 0.48217, val_loss: 1.14555, val_accuracy: 0.42480\n"
     ]
    },
    {
     "name": "stderr",
     "output_type": "stream",
     "text": [
      "100%|██████████████████████████████████████████████████████████████████████████████████| 10/10 [00:01<00:00,  8.52it/s]\n"
     ]
    },
    {
     "name": "stdout",
     "output_type": "stream",
     "text": [
      "epoch 68, loss: 0.96468, acc: 0.49061, val_loss: 1.14729, val_accuracy: 0.42758\n"
     ]
    },
    {
     "name": "stderr",
     "output_type": "stream",
     "text": [
      "100%|██████████████████████████████████████████████████████████████████████████████████| 10/10 [00:01<00:00,  8.89it/s]\n"
     ]
    },
    {
     "name": "stdout",
     "output_type": "stream",
     "text": [
      "epoch 69, loss: 0.96343, acc: 0.48111, val_loss: 1.15193, val_accuracy: 0.42569\n"
     ]
    },
    {
     "name": "stderr",
     "output_type": "stream",
     "text": [
      "100%|██████████████████████████████████████████████████████████████████████████████████| 10/10 [00:01<00:00,  7.89it/s]\n"
     ]
    },
    {
     "name": "stdout",
     "output_type": "stream",
     "text": [
      "epoch 70, loss: 0.96008, acc: 0.49467, val_loss: 1.14851, val_accuracy: 0.42847\n"
     ]
    },
    {
     "name": "stderr",
     "output_type": "stream",
     "text": [
      "100%|██████████████████████████████████████████████████████████████████████████████████| 10/10 [00:01<00:00,  8.34it/s]\n"
     ]
    },
    {
     "name": "stdout",
     "output_type": "stream",
     "text": [
      "epoch 71, loss: 0.95917, acc: 0.48585, val_loss: 1.15541, val_accuracy: 0.42788\n"
     ]
    },
    {
     "name": "stderr",
     "output_type": "stream",
     "text": [
      "100%|██████████████████████████████████████████████████████████████████████████████████| 10/10 [00:01<00:00,  7.59it/s]\n"
     ]
    },
    {
     "name": "stdout",
     "output_type": "stream",
     "text": [
      "epoch 72, loss: 0.95720, acc: 0.49669, val_loss: 1.15028, val_accuracy: 0.42956\n"
     ]
    },
    {
     "name": "stderr",
     "output_type": "stream",
     "text": [
      "100%|██████████████████████████████████████████████████████████████████████████████████| 10/10 [00:01<00:00,  8.30it/s]\n"
     ]
    },
    {
     "name": "stdout",
     "output_type": "stream",
     "text": [
      "epoch 73, loss: 0.95583, acc: 0.48640, val_loss: 1.16012, val_accuracy: 0.42669\n"
     ]
    },
    {
     "name": "stderr",
     "output_type": "stream",
     "text": [
      "100%|██████████████████████████████████████████████████████████████████████████████████| 10/10 [00:01<00:00,  8.19it/s]\n"
     ]
    },
    {
     "name": "stdout",
     "output_type": "stream",
     "text": [
      "epoch 74, loss: 0.95200, acc: 0.49954, val_loss: 1.15218, val_accuracy: 0.42966\n"
     ]
    },
    {
     "name": "stderr",
     "output_type": "stream",
     "text": [
      "100%|██████████████████████████████████████████████████████████████████████████████████| 10/10 [00:01<00:00,  8.00it/s]\n"
     ]
    },
    {
     "name": "stdout",
     "output_type": "stream",
     "text": [
      "epoch 75, loss: 0.95184, acc: 0.48918, val_loss: 1.16146, val_accuracy: 0.42976\n"
     ]
    },
    {
     "name": "stderr",
     "output_type": "stream",
     "text": [
      "100%|██████████████████████████████████████████████████████████████████████████████████| 10/10 [00:01<00:00,  7.95it/s]\n"
     ]
    },
    {
     "name": "stdout",
     "output_type": "stream",
     "text": [
      "epoch 76, loss: 0.94860, acc: 0.49811, val_loss: 1.15599, val_accuracy: 0.43085\n"
     ]
    },
    {
     "name": "stderr",
     "output_type": "stream",
     "text": [
      "100%|██████████████████████████████████████████████████████████████████████████████████| 10/10 [00:01<00:00,  8.18it/s]\n"
     ]
    },
    {
     "name": "stdout",
     "output_type": "stream",
     "text": [
      "epoch 77, loss: 0.94737, acc: 0.49116, val_loss: 1.16370, val_accuracy: 0.43065\n"
     ]
    },
    {
     "name": "stderr",
     "output_type": "stream",
     "text": [
      "100%|██████████████████████████████████████████████████████████████████████████████████| 10/10 [00:01<00:00,  8.05it/s]\n"
     ]
    },
    {
     "name": "stdout",
     "output_type": "stream",
     "text": [
      "epoch 78, loss: 0.94374, acc: 0.50051, val_loss: 1.16371, val_accuracy: 0.43046\n"
     ]
    },
    {
     "name": "stderr",
     "output_type": "stream",
     "text": [
      "100%|██████████████████████████████████████████████████████████████████████████████████| 10/10 [00:01<00:00,  8.22it/s]\n"
     ]
    },
    {
     "name": "stdout",
     "output_type": "stream",
     "text": [
      "epoch 79, loss: 0.94296, acc: 0.49492, val_loss: 1.16605, val_accuracy: 0.43075\n"
     ]
    },
    {
     "name": "stderr",
     "output_type": "stream",
     "text": [
      "100%|██████████████████████████████████████████████████████████████████████████████████| 10/10 [00:01<00:00,  8.31it/s]\n"
     ]
    },
    {
     "name": "stdout",
     "output_type": "stream",
     "text": [
      "epoch 80, loss: 0.94019, acc: 0.50178, val_loss: 1.16667, val_accuracy: 0.43065\n"
     ]
    },
    {
     "name": "stderr",
     "output_type": "stream",
     "text": [
      "100%|██████████████████████████████████████████████████████████████████████████████████| 10/10 [00:01<00:00,  8.23it/s]\n"
     ]
    },
    {
     "name": "stdout",
     "output_type": "stream",
     "text": [
      "epoch 81, loss: 0.93952, acc: 0.49509, val_loss: 1.17085, val_accuracy: 0.43512\n"
     ]
    },
    {
     "name": "stderr",
     "output_type": "stream",
     "text": [
      "100%|██████████████████████████████████████████████████████████████████████████████████| 10/10 [00:01<00:00,  8.21it/s]\n"
     ]
    },
    {
     "name": "stdout",
     "output_type": "stream",
     "text": [
      "epoch 82, loss: 0.93668, acc: 0.50200, val_loss: 1.16498, val_accuracy: 0.43244\n"
     ]
    },
    {
     "name": "stderr",
     "output_type": "stream",
     "text": [
      "100%|██████████████████████████████████████████████████████████████████████████████████| 10/10 [00:01<00:00,  8.19it/s]\n"
     ]
    },
    {
     "name": "stdout",
     "output_type": "stream",
     "text": [
      "epoch 83, loss: 0.93591, acc: 0.49441, val_loss: 1.17458, val_accuracy: 0.43720\n"
     ]
    },
    {
     "name": "stderr",
     "output_type": "stream",
     "text": [
      "100%|██████████████████████████████████████████████████████████████████████████████████| 10/10 [00:01<00:00,  8.15it/s]\n"
     ]
    },
    {
     "name": "stdout",
     "output_type": "stream",
     "text": [
      "epoch 84, loss: 0.93398, acc: 0.50508, val_loss: 1.16291, val_accuracy: 0.43224\n"
     ]
    },
    {
     "name": "stderr",
     "output_type": "stream",
     "text": [
      "100%|██████████████████████████████████████████████████████████████████████████████████| 10/10 [00:01<00:00,  7.31it/s]\n"
     ]
    },
    {
     "name": "stdout",
     "output_type": "stream",
     "text": [
      "epoch 85, loss: 0.93297, acc: 0.49802, val_loss: 1.17402, val_accuracy: 0.44028\n"
     ]
    },
    {
     "name": "stderr",
     "output_type": "stream",
     "text": [
      "100%|██████████████████████████████████████████████████████████████████████████████████| 10/10 [00:01<00:00,  8.08it/s]\n"
     ]
    },
    {
     "name": "stdout",
     "output_type": "stream",
     "text": [
      "epoch 86, loss: 0.92822, acc: 0.50707, val_loss: 1.16876, val_accuracy: 0.43472\n"
     ]
    },
    {
     "name": "stderr",
     "output_type": "stream",
     "text": [
      "100%|██████████████████████████████████████████████████████████████████████████████████| 10/10 [00:01<00:00,  8.12it/s]\n"
     ]
    },
    {
     "name": "stdout",
     "output_type": "stream",
     "text": [
      "epoch 87, loss: 0.92931, acc: 0.49747, val_loss: 1.17946, val_accuracy: 0.44107\n"
     ]
    },
    {
     "name": "stderr",
     "output_type": "stream",
     "text": [
      "100%|██████████████████████████████████████████████████████████████████████████████████| 10/10 [00:01<00:00,  8.21it/s]\n"
     ]
    },
    {
     "name": "stdout",
     "output_type": "stream",
     "text": [
      "epoch 88, loss: 0.92537, acc: 0.51115, val_loss: 1.16933, val_accuracy: 0.43651\n"
     ]
    },
    {
     "name": "stderr",
     "output_type": "stream",
     "text": [
      "100%|██████████████████████████████████████████████████████████████████████████████████| 10/10 [00:01<00:00,  8.26it/s]\n"
     ]
    },
    {
     "name": "stdout",
     "output_type": "stream",
     "text": [
      "epoch 89, loss: 0.92505, acc: 0.50171, val_loss: 1.17918, val_accuracy: 0.44137\n"
     ]
    },
    {
     "name": "stderr",
     "output_type": "stream",
     "text": [
      "100%|██████████████████████████████████████████████████████████████████████████████████| 10/10 [00:01<00:00,  8.29it/s]\n"
     ]
    },
    {
     "name": "stdout",
     "output_type": "stream",
     "text": [
      "epoch 90, loss: 0.92131, acc: 0.51183, val_loss: 1.17715, val_accuracy: 0.44226\n"
     ]
    },
    {
     "name": "stderr",
     "output_type": "stream",
     "text": [
      "100%|██████████████████████████████████████████████████████████████████████████████████| 10/10 [00:01<00:00,  8.15it/s]\n"
     ]
    },
    {
     "name": "stdout",
     "output_type": "stream",
     "text": [
      "epoch 91, loss: 0.92099, acc: 0.50658, val_loss: 1.18292, val_accuracy: 0.44167\n"
     ]
    },
    {
     "name": "stderr",
     "output_type": "stream",
     "text": [
      "100%|██████████████████████████████████████████████████████████████████████████████████| 10/10 [00:01<00:00,  8.13it/s]\n"
     ]
    },
    {
     "name": "stdout",
     "output_type": "stream",
     "text": [
      "epoch 92, loss: 0.91807, acc: 0.51499, val_loss: 1.17869, val_accuracy: 0.44266\n"
     ]
    },
    {
     "name": "stderr",
     "output_type": "stream",
     "text": [
      "100%|██████████████████████████████████████████████████████████████████████████████████| 10/10 [00:01<00:00,  8.18it/s]\n"
     ]
    },
    {
     "name": "stdout",
     "output_type": "stream",
     "text": [
      "epoch 93, loss: 0.91771, acc: 0.50847, val_loss: 1.18418, val_accuracy: 0.44236\n"
     ]
    },
    {
     "name": "stderr",
     "output_type": "stream",
     "text": [
      "100%|██████████████████████████████████████████████████████████████████████████████████| 10/10 [00:01<00:00,  8.32it/s]\n"
     ]
    },
    {
     "name": "stdout",
     "output_type": "stream",
     "text": [
      "epoch 94, loss: 0.91435, acc: 0.51976, val_loss: 1.17828, val_accuracy: 0.44355\n"
     ]
    },
    {
     "name": "stderr",
     "output_type": "stream",
     "text": [
      "100%|██████████████████████████████████████████████████████████████████████████████████| 10/10 [00:01<00:00,  7.78it/s]\n"
     ]
    },
    {
     "name": "stdout",
     "output_type": "stream",
     "text": [
      "epoch 95, loss: 0.91428, acc: 0.51514, val_loss: 1.18619, val_accuracy: 0.44613\n"
     ]
    },
    {
     "name": "stderr",
     "output_type": "stream",
     "text": [
      "100%|██████████████████████████████████████████████████████████████████████████████████| 10/10 [00:01<00:00,  8.28it/s]\n"
     ]
    },
    {
     "name": "stdout",
     "output_type": "stream",
     "text": [
      "epoch 96, loss: 0.91138, acc: 0.52314, val_loss: 1.18304, val_accuracy: 0.44663\n"
     ]
    },
    {
     "name": "stderr",
     "output_type": "stream",
     "text": [
      "100%|██████████████████████████████████████████████████████████████████████████████████| 10/10 [00:01<00:00,  7.94it/s]\n"
     ]
    },
    {
     "name": "stdout",
     "output_type": "stream",
     "text": [
      "epoch 97, loss: 0.91087, acc: 0.51712, val_loss: 1.18742, val_accuracy: 0.44623\n"
     ]
    },
    {
     "name": "stderr",
     "output_type": "stream",
     "text": [
      "100%|██████████████████████████████████████████████████████████████████████████████████| 10/10 [00:01<00:00,  8.86it/s]\n"
     ]
    },
    {
     "name": "stdout",
     "output_type": "stream",
     "text": [
      "epoch 98, loss: 0.90783, acc: 0.53028, val_loss: 1.18523, val_accuracy: 0.44841\n"
     ]
    },
    {
     "name": "stderr",
     "output_type": "stream",
     "text": [
      "100%|██████████████████████████████████████████████████████████████████████████████████| 10/10 [00:01<00:00,  9.25it/s]\n"
     ]
    },
    {
     "name": "stdout",
     "output_type": "stream",
     "text": [
      "epoch 99, loss: 0.90807, acc: 0.52232, val_loss: 1.19095, val_accuracy: 0.45010\n"
     ]
    },
    {
     "name": "stderr",
     "output_type": "stream",
     "text": [
      "100%|██████████████████████████████████████████████████████████████████████████████████| 10/10 [00:01<00:00,  8.72it/s]\n"
     ]
    },
    {
     "name": "stdout",
     "output_type": "stream",
     "text": [
      "epoch 100, loss: 0.90493, acc: 0.53277, val_loss: 1.18453, val_accuracy: 0.45258\n"
     ]
    },
    {
     "name": "stderr",
     "output_type": "stream",
     "text": [
      "100%|██████████████████████████████████████████████████████████████████████████████████| 10/10 [00:01<00:00,  9.26it/s]\n"
     ]
    },
    {
     "name": "stdout",
     "output_type": "stream",
     "text": [
      "epoch 101, loss: 0.90446, acc: 0.52459, val_loss: 1.19211, val_accuracy: 0.45377\n"
     ]
    },
    {
     "name": "stderr",
     "output_type": "stream",
     "text": [
      "100%|██████████████████████████████████████████████████████████████████████████████████| 10/10 [00:01<00:00,  8.76it/s]\n"
     ]
    },
    {
     "name": "stdout",
     "output_type": "stream",
     "text": [
      "epoch 102, loss: 0.90097, acc: 0.53595, val_loss: 1.18738, val_accuracy: 0.45377\n"
     ]
    },
    {
     "name": "stderr",
     "output_type": "stream",
     "text": [
      "100%|██████████████████████████████████████████████████████████████████████████████████| 10/10 [00:01<00:00,  7.77it/s]\n"
     ]
    },
    {
     "name": "stdout",
     "output_type": "stream",
     "text": [
      "epoch 103, loss: 0.90166, acc: 0.52706, val_loss: 1.19498, val_accuracy: 0.45615\n"
     ]
    },
    {
     "name": "stderr",
     "output_type": "stream",
     "text": [
      "100%|██████████████████████████████████████████████████████████████████████████████████| 10/10 [00:01<00:00,  8.04it/s]\n"
     ]
    },
    {
     "name": "stdout",
     "output_type": "stream",
     "text": [
      "epoch 104, loss: 0.89849, acc: 0.53804, val_loss: 1.18148, val_accuracy: 0.45506\n"
     ]
    },
    {
     "name": "stderr",
     "output_type": "stream",
     "text": [
      "100%|██████████████████████████████████████████████████████████████████████████████████| 10/10 [00:01<00:00,  9.34it/s]\n"
     ]
    },
    {
     "name": "stdout",
     "output_type": "stream",
     "text": [
      "epoch 105, loss: 0.89885, acc: 0.52948, val_loss: 1.19095, val_accuracy: 0.45883\n"
     ]
    },
    {
     "name": "stderr",
     "output_type": "stream",
     "text": [
      "100%|██████████████████████████████████████████████████████████████████████████████████| 10/10 [00:01<00:00,  7.96it/s]\n"
     ]
    },
    {
     "name": "stdout",
     "output_type": "stream",
     "text": [
      "epoch 106, loss: 0.89427, acc: 0.54313, val_loss: 1.19268, val_accuracy: 0.45774\n"
     ]
    },
    {
     "name": "stderr",
     "output_type": "stream",
     "text": [
      "100%|██████████████████████████████████████████████████████████████████████████████████| 10/10 [00:01<00:00,  9.50it/s]\n"
     ]
    },
    {
     "name": "stdout",
     "output_type": "stream",
     "text": [
      "epoch 107, loss: 0.89538, acc: 0.53494, val_loss: 1.19302, val_accuracy: 0.45923\n"
     ]
    },
    {
     "name": "stderr",
     "output_type": "stream",
     "text": [
      "100%|██████████████████████████████████████████████████████████████████████████████████| 10/10 [00:01<00:00,  8.52it/s]\n"
     ]
    },
    {
     "name": "stdout",
     "output_type": "stream",
     "text": [
      "epoch 108, loss: 0.89206, acc: 0.54572, val_loss: 1.19535, val_accuracy: 0.45754\n"
     ]
    },
    {
     "name": "stderr",
     "output_type": "stream",
     "text": [
      "100%|██████████████████████████████████████████████████████████████████████████████████| 10/10 [00:01<00:00,  9.05it/s]\n"
     ]
    },
    {
     "name": "stdout",
     "output_type": "stream",
     "text": [
      "epoch 109, loss: 0.89201, acc: 0.54093, val_loss: 1.19617, val_accuracy: 0.45923\n"
     ]
    },
    {
     "name": "stderr",
     "output_type": "stream",
     "text": [
      "100%|██████████████████████████████████████████████████████████████████████████████████| 10/10 [00:01<00:00,  8.00it/s]\n"
     ]
    },
    {
     "name": "stdout",
     "output_type": "stream",
     "text": [
      "epoch 110, loss: 0.88868, acc: 0.54767, val_loss: 1.19467, val_accuracy: 0.45853\n"
     ]
    },
    {
     "name": "stderr",
     "output_type": "stream",
     "text": [
      "100%|██████████████████████████████████████████████████████████████████████████████████| 10/10 [00:01<00:00,  7.46it/s]\n"
     ]
    },
    {
     "name": "stdout",
     "output_type": "stream",
     "text": [
      "epoch 111, loss: 0.88897, acc: 0.54353, val_loss: 1.19808, val_accuracy: 0.46181\n"
     ]
    },
    {
     "name": "stderr",
     "output_type": "stream",
     "text": [
      "100%|██████████████████████████████████████████████████████████████████████████████████| 10/10 [00:01<00:00,  7.71it/s]\n"
     ]
    },
    {
     "name": "stdout",
     "output_type": "stream",
     "text": [
      "epoch 112, loss: 0.88570, acc: 0.54855, val_loss: 1.19012, val_accuracy: 0.45813\n"
     ]
    },
    {
     "name": "stderr",
     "output_type": "stream",
     "text": [
      "100%|██████████████████████████████████████████████████████████████████████████████████| 10/10 [00:01<00:00,  7.92it/s]\n"
     ]
    },
    {
     "name": "stdout",
     "output_type": "stream",
     "text": [
      "epoch 113, loss: 0.88580, acc: 0.54525, val_loss: 1.19767, val_accuracy: 0.46270\n"
     ]
    },
    {
     "name": "stderr",
     "output_type": "stream",
     "text": [
      "100%|██████████████████████████████████████████████████████████████████████████████████| 10/10 [00:01<00:00,  7.59it/s]\n"
     ]
    },
    {
     "name": "stdout",
     "output_type": "stream",
     "text": [
      "epoch 114, loss: 0.88283, acc: 0.54959, val_loss: 1.19644, val_accuracy: 0.45942\n"
     ]
    },
    {
     "name": "stderr",
     "output_type": "stream",
     "text": [
      "100%|██████████████████████████████████████████████████████████████████████████████████| 10/10 [00:01<00:00,  8.15it/s]\n"
     ]
    },
    {
     "name": "stdout",
     "output_type": "stream",
     "text": [
      "epoch 115, loss: 0.88331, acc: 0.54617, val_loss: 1.20622, val_accuracy: 0.46419\n"
     ]
    },
    {
     "name": "stderr",
     "output_type": "stream",
     "text": [
      "100%|██████████████████████████████████████████████████████████████████████████████████| 10/10 [00:00<00:00, 10.15it/s]\n"
     ]
    },
    {
     "name": "stdout",
     "output_type": "stream",
     "text": [
      "epoch 116, loss: 0.88003, acc: 0.55045, val_loss: 1.18478, val_accuracy: 0.46181\n"
     ]
    },
    {
     "name": "stderr",
     "output_type": "stream",
     "text": [
      "100%|██████████████████████████████████████████████████████████████████████████████████| 10/10 [00:00<00:00, 10.04it/s]\n"
     ]
    },
    {
     "name": "stdout",
     "output_type": "stream",
     "text": [
      "epoch 117, loss: 0.87977, acc: 0.55002, val_loss: 1.19821, val_accuracy: 0.46548\n"
     ]
    },
    {
     "name": "stderr",
     "output_type": "stream",
     "text": [
      "100%|██████████████████████████████████████████████████████████████████████████████████| 10/10 [00:00<00:00, 10.08it/s]\n"
     ]
    },
    {
     "name": "stdout",
     "output_type": "stream",
     "text": [
      "epoch 118, loss: 0.87640, acc: 0.55356, val_loss: 1.20434, val_accuracy: 0.46468\n"
     ]
    },
    {
     "name": "stderr",
     "output_type": "stream",
     "text": [
      "100%|██████████████████████████████████████████████████████████████████████████████████| 10/10 [00:01<00:00,  9.61it/s]\n"
     ]
    },
    {
     "name": "stdout",
     "output_type": "stream",
     "text": [
      "epoch 119, loss: 0.87735, acc: 0.54873, val_loss: 1.20456, val_accuracy: 0.46647\n"
     ]
    },
    {
     "name": "stderr",
     "output_type": "stream",
     "text": [
      "100%|██████████████████████████████████████████████████████████████████████████████████| 10/10 [00:01<00:00,  9.29it/s]\n"
     ]
    },
    {
     "name": "stdout",
     "output_type": "stream",
     "text": [
      "epoch 120, loss: 0.87433, acc: 0.55404, val_loss: 1.20253, val_accuracy: 0.46558\n"
     ]
    },
    {
     "name": "stderr",
     "output_type": "stream",
     "text": [
      "100%|██████████████████████████████████████████████████████████████████████████████████| 10/10 [00:01<00:00,  8.23it/s]\n"
     ]
    },
    {
     "name": "stdout",
     "output_type": "stream",
     "text": [
      "epoch 121, loss: 0.87407, acc: 0.55188, val_loss: 1.20894, val_accuracy: 0.46835\n"
     ]
    },
    {
     "name": "stderr",
     "output_type": "stream",
     "text": [
      "100%|██████████████████████████████████████████████████████████████████████████████████| 10/10 [00:01<00:00,  7.96it/s]\n"
     ]
    },
    {
     "name": "stdout",
     "output_type": "stream",
     "text": [
      "epoch 122, loss: 0.87147, acc: 0.55558, val_loss: 1.20594, val_accuracy: 0.46786\n"
     ]
    },
    {
     "name": "stderr",
     "output_type": "stream",
     "text": [
      "100%|██████████████████████████████████████████████████████████████████████████████████| 10/10 [00:01<00:00,  8.00it/s]\n"
     ]
    },
    {
     "name": "stdout",
     "output_type": "stream",
     "text": [
      "epoch 123, loss: 0.87112, acc: 0.55463, val_loss: 1.20946, val_accuracy: 0.46895\n"
     ]
    },
    {
     "name": "stderr",
     "output_type": "stream",
     "text": [
      "100%|██████████████████████████████████████████████████████████████████████████████████| 10/10 [00:01<00:00,  7.06it/s]\n"
     ]
    },
    {
     "name": "stdout",
     "output_type": "stream",
     "text": [
      "epoch 124, loss: 0.86828, acc: 0.55732, val_loss: 1.20782, val_accuracy: 0.46756\n"
     ]
    },
    {
     "name": "stderr",
     "output_type": "stream",
     "text": [
      "100%|██████████████████████████████████████████████████████████████████████████████████| 10/10 [00:01<00:00,  7.70it/s]\n"
     ]
    },
    {
     "name": "stdout",
     "output_type": "stream",
     "text": [
      "epoch 125, loss: 0.86824, acc: 0.55579, val_loss: 1.21412, val_accuracy: 0.47173\n"
     ]
    },
    {
     "name": "stderr",
     "output_type": "stream",
     "text": [
      "100%|██████████████████████████████████████████████████████████████████████████████████| 10/10 [00:01<00:00,  7.90it/s]\n"
     ]
    },
    {
     "name": "stdout",
     "output_type": "stream",
     "text": [
      "epoch 126, loss: 0.86518, acc: 0.55966, val_loss: 1.20711, val_accuracy: 0.46319\n"
     ]
    },
    {
     "name": "stderr",
     "output_type": "stream",
     "text": [
      "100%|██████████████████████████████████████████████████████████████████████████████████| 10/10 [00:01<00:00,  8.06it/s]\n"
     ]
    },
    {
     "name": "stdout",
     "output_type": "stream",
     "text": [
      "epoch 127, loss: 0.86583, acc: 0.55684, val_loss: 1.21760, val_accuracy: 0.46667\n"
     ]
    },
    {
     "name": "stderr",
     "output_type": "stream",
     "text": [
      "100%|██████████████████████████████████████████████████████████████████████████████████| 10/10 [00:01<00:00,  8.01it/s]\n"
     ]
    },
    {
     "name": "stdout",
     "output_type": "stream",
     "text": [
      "epoch 128, loss: 0.86353, acc: 0.56192, val_loss: 1.20252, val_accuracy: 0.46220\n"
     ]
    },
    {
     "name": "stderr",
     "output_type": "stream",
     "text": [
      "100%|██████████████████████████████████████████████████████████████████████████████████| 10/10 [00:00<00:00, 10.18it/s]\n"
     ]
    },
    {
     "name": "stdout",
     "output_type": "stream",
     "text": [
      "epoch 129, loss: 0.86307, acc: 0.56101, val_loss: 1.21462, val_accuracy: 0.46855\n"
     ]
    },
    {
     "name": "stderr",
     "output_type": "stream",
     "text": [
      "100%|██████████████████████████████████████████████████████████████████████████████████| 10/10 [00:00<00:00, 10.20it/s]\n"
     ]
    },
    {
     "name": "stdout",
     "output_type": "stream",
     "text": [
      "epoch 130, loss: 0.85992, acc: 0.56409, val_loss: 1.21582, val_accuracy: 0.46567\n"
     ]
    },
    {
     "name": "stderr",
     "output_type": "stream",
     "text": [
      "100%|██████████████████████████████████████████████████████████████████████████████████| 10/10 [00:01<00:00,  9.66it/s]\n"
     ]
    },
    {
     "name": "stdout",
     "output_type": "stream",
     "text": [
      "epoch 131, loss: 0.86064, acc: 0.56163, val_loss: 1.21916, val_accuracy: 0.46786\n"
     ]
    },
    {
     "name": "stderr",
     "output_type": "stream",
     "text": [
      "100%|██████████████████████████████████████████████████████████████████████████████████| 10/10 [00:01<00:00,  9.04it/s]\n"
     ]
    },
    {
     "name": "stdout",
     "output_type": "stream",
     "text": [
      "epoch 132, loss: 0.85621, acc: 0.56869, val_loss: 1.21118, val_accuracy: 0.46577\n"
     ]
    },
    {
     "name": "stderr",
     "output_type": "stream",
     "text": [
      "100%|██████████████████████████████████████████████████████████████████████████████████| 10/10 [00:01<00:00,  9.02it/s]\n"
     ]
    },
    {
     "name": "stdout",
     "output_type": "stream",
     "text": [
      "epoch 133, loss: 0.85702, acc: 0.56520, val_loss: 1.21639, val_accuracy: 0.46994\n"
     ]
    },
    {
     "name": "stderr",
     "output_type": "stream",
     "text": [
      "100%|██████████████████████████████████████████████████████████████████████████████████| 10/10 [00:01<00:00,  9.11it/s]\n"
     ]
    },
    {
     "name": "stdout",
     "output_type": "stream",
     "text": [
      "epoch 134, loss: 0.85369, acc: 0.56727, val_loss: 1.22283, val_accuracy: 0.46746\n"
     ]
    },
    {
     "name": "stderr",
     "output_type": "stream",
     "text": [
      "100%|██████████████████████████████████████████████████████████████████████████████████| 10/10 [00:00<00:00, 10.24it/s]\n"
     ]
    },
    {
     "name": "stdout",
     "output_type": "stream",
     "text": [
      "epoch 135, loss: 0.85380, acc: 0.56466, val_loss: 1.22447, val_accuracy: 0.46905\n"
     ]
    },
    {
     "name": "stderr",
     "output_type": "stream",
     "text": [
      "100%|██████████████████████████████████████████████████████████████████████████████████| 10/10 [00:01<00:00,  9.92it/s]\n"
     ]
    },
    {
     "name": "stdout",
     "output_type": "stream",
     "text": [
      "epoch 136, loss: 0.85187, acc: 0.57036, val_loss: 1.21615, val_accuracy: 0.47153\n"
     ]
    },
    {
     "name": "stderr",
     "output_type": "stream",
     "text": [
      "100%|██████████████████████████████████████████████████████████████████████████████████| 10/10 [00:01<00:00,  8.63it/s]\n"
     ]
    },
    {
     "name": "stdout",
     "output_type": "stream",
     "text": [
      "epoch 137, loss: 0.85072, acc: 0.56901, val_loss: 1.22702, val_accuracy: 0.47103\n"
     ]
    },
    {
     "name": "stderr",
     "output_type": "stream",
     "text": [
      "100%|██████████████████████████████████████████████████████████████████████████████████| 10/10 [00:01<00:00,  9.11it/s]\n"
     ]
    },
    {
     "name": "stdout",
     "output_type": "stream",
     "text": [
      "epoch 138, loss: 0.84860, acc: 0.57030, val_loss: 1.21699, val_accuracy: 0.47252\n"
     ]
    },
    {
     "name": "stderr",
     "output_type": "stream",
     "text": [
      "100%|██████████████████████████████████████████████████████████████████████████████████| 10/10 [00:01<00:00,  8.33it/s]\n"
     ]
    },
    {
     "name": "stdout",
     "output_type": "stream",
     "text": [
      "epoch 139, loss: 0.84834, acc: 0.57053, val_loss: 1.22773, val_accuracy: 0.47490\n"
     ]
    },
    {
     "name": "stderr",
     "output_type": "stream",
     "text": [
      "100%|██████████████████████████████████████████████████████████████████████████████████| 10/10 [00:01<00:00,  8.17it/s]\n"
     ]
    },
    {
     "name": "stdout",
     "output_type": "stream",
     "text": [
      "epoch 140, loss: 0.84518, acc: 0.56997, val_loss: 1.22047, val_accuracy: 0.47401\n"
     ]
    },
    {
     "name": "stderr",
     "output_type": "stream",
     "text": [
      "100%|██████████████████████████████████████████████████████████████████████████████████| 10/10 [00:01<00:00,  7.94it/s]\n"
     ]
    },
    {
     "name": "stdout",
     "output_type": "stream",
     "text": [
      "epoch 141, loss: 0.84559, acc: 0.57191, val_loss: 1.23168, val_accuracy: 0.47599\n"
     ]
    },
    {
     "name": "stderr",
     "output_type": "stream",
     "text": [
      "100%|██████████████████████████████████████████████████████████████████████████████████| 10/10 [00:01<00:00,  7.67it/s]\n"
     ]
    },
    {
     "name": "stdout",
     "output_type": "stream",
     "text": [
      "epoch 142, loss: 0.84202, acc: 0.57346, val_loss: 1.22074, val_accuracy: 0.47629\n"
     ]
    },
    {
     "name": "stderr",
     "output_type": "stream",
     "text": [
      "100%|██████████████████████████████████████████████████████████████████████████████████| 10/10 [00:01<00:00,  8.13it/s]\n"
     ]
    },
    {
     "name": "stdout",
     "output_type": "stream",
     "text": [
      "epoch 143, loss: 0.84251, acc: 0.57388, val_loss: 1.23244, val_accuracy: 0.47788\n"
     ]
    },
    {
     "name": "stderr",
     "output_type": "stream",
     "text": [
      "100%|██████████████████████████████████████████████████████████████████████████████████| 10/10 [00:01<00:00,  7.96it/s]\n"
     ]
    },
    {
     "name": "stdout",
     "output_type": "stream",
     "text": [
      "epoch 144, loss: 0.83927, acc: 0.57625, val_loss: 1.22624, val_accuracy: 0.47500\n"
     ]
    },
    {
     "name": "stderr",
     "output_type": "stream",
     "text": [
      "100%|██████████████████████████████████████████████████████████████████████████████████| 10/10 [00:01<00:00,  7.82it/s]\n"
     ]
    },
    {
     "name": "stdout",
     "output_type": "stream",
     "text": [
      "epoch 145, loss: 0.83955, acc: 0.57579, val_loss: 1.23016, val_accuracy: 0.47837\n"
     ]
    },
    {
     "name": "stderr",
     "output_type": "stream",
     "text": [
      "100%|██████████████████████████████████████████████████████████████████████████████████| 10/10 [00:01<00:00,  8.13it/s]\n"
     ]
    },
    {
     "name": "stdout",
     "output_type": "stream",
     "text": [
      "epoch 146, loss: 0.83619, acc: 0.58033, val_loss: 1.23418, val_accuracy: 0.47649\n"
     ]
    },
    {
     "name": "stderr",
     "output_type": "stream",
     "text": [
      "100%|██████████████████████████████████████████████████████████████████████████████████| 10/10 [00:01<00:00,  7.97it/s]\n"
     ]
    },
    {
     "name": "stdout",
     "output_type": "stream",
     "text": [
      "epoch 147, loss: 0.83664, acc: 0.58083, val_loss: 1.23226, val_accuracy: 0.47877\n"
     ]
    },
    {
     "name": "stderr",
     "output_type": "stream",
     "text": [
      "100%|██████████████████████████████████████████████████████████████████████████████████| 10/10 [00:01<00:00,  7.95it/s]\n"
     ]
    },
    {
     "name": "stdout",
     "output_type": "stream",
     "text": [
      "epoch 148, loss: 0.83426, acc: 0.58129, val_loss: 1.23647, val_accuracy: 0.47887\n"
     ]
    },
    {
     "name": "stderr",
     "output_type": "stream",
     "text": [
      "100%|██████████████████████████████████████████████████████████████████████████████████| 10/10 [00:01<00:00,  8.15it/s]\n"
     ]
    },
    {
     "name": "stdout",
     "output_type": "stream",
     "text": [
      "epoch 149, loss: 0.83385, acc: 0.58225, val_loss: 1.23099, val_accuracy: 0.47887\n"
     ]
    },
    {
     "name": "stderr",
     "output_type": "stream",
     "text": [
      "100%|██████████████████████████████████████████████████████████████████████████████████| 10/10 [00:01<00:00,  8.04it/s]\n"
     ]
    },
    {
     "name": "stdout",
     "output_type": "stream",
     "text": [
      "epoch 150, loss: 0.83155, acc: 0.58242, val_loss: 1.23568, val_accuracy: 0.47827\n"
     ]
    },
    {
     "name": "stderr",
     "output_type": "stream",
     "text": [
      "100%|██████████████████████████████████████████████████████████████████████████████████| 10/10 [00:01<00:00,  7.92it/s]\n"
     ]
    },
    {
     "name": "stdout",
     "output_type": "stream",
     "text": [
      "epoch 151, loss: 0.83089, acc: 0.58694, val_loss: 1.23486, val_accuracy: 0.47937\n"
     ]
    },
    {
     "name": "stderr",
     "output_type": "stream",
     "text": [
      "100%|██████████████████████████████████████████████████████████████████████████████████| 10/10 [00:01<00:00,  8.19it/s]\n"
     ]
    },
    {
     "name": "stdout",
     "output_type": "stream",
     "text": [
      "epoch 152, loss: 0.82850, acc: 0.58748, val_loss: 1.23909, val_accuracy: 0.47817\n"
     ]
    },
    {
     "name": "stderr",
     "output_type": "stream",
     "text": [
      "100%|██████████████████████████████████████████████████████████████████████████████████| 10/10 [00:01<00:00,  7.92it/s]\n"
     ]
    },
    {
     "name": "stdout",
     "output_type": "stream",
     "text": [
      "epoch 153, loss: 0.82800, acc: 0.58883, val_loss: 1.23973, val_accuracy: 0.47956\n"
     ]
    },
    {
     "name": "stderr",
     "output_type": "stream",
     "text": [
      "100%|██████████████████████████████████████████████████████████████████████████████████| 10/10 [00:01<00:00,  7.97it/s]\n"
     ]
    },
    {
     "name": "stdout",
     "output_type": "stream",
     "text": [
      "epoch 154, loss: 0.82686, acc: 0.58936, val_loss: 1.23630, val_accuracy: 0.48006\n"
     ]
    },
    {
     "name": "stderr",
     "output_type": "stream",
     "text": [
      "100%|██████████████████████████████████████████████████████████████████████████████████| 10/10 [00:01<00:00,  8.14it/s]\n"
     ]
    },
    {
     "name": "stdout",
     "output_type": "stream",
     "text": [
      "epoch 155, loss: 0.82557, acc: 0.59237, val_loss: 1.23827, val_accuracy: 0.47897\n"
     ]
    },
    {
     "name": "stderr",
     "output_type": "stream",
     "text": [
      "100%|██████████████████████████████████████████████████████████████████████████████████| 10/10 [00:01<00:00,  7.17it/s]\n"
     ]
    },
    {
     "name": "stdout",
     "output_type": "stream",
     "text": [
      "epoch 156, loss: 0.82332, acc: 0.59056, val_loss: 1.23192, val_accuracy: 0.47956\n"
     ]
    },
    {
     "name": "stderr",
     "output_type": "stream",
     "text": [
      "100%|██████████████████████████████████████████████████████████████████████████████████| 10/10 [00:01<00:00,  8.16it/s]\n"
     ]
    },
    {
     "name": "stdout",
     "output_type": "stream",
     "text": [
      "epoch 157, loss: 0.82336, acc: 0.59277, val_loss: 1.24220, val_accuracy: 0.48056\n"
     ]
    },
    {
     "name": "stderr",
     "output_type": "stream",
     "text": [
      "100%|██████████████████████████████████████████████████████████████████████████████████| 10/10 [00:01<00:00,  7.54it/s]\n"
     ]
    },
    {
     "name": "stdout",
     "output_type": "stream",
     "text": [
      "epoch 158, loss: 0.82111, acc: 0.59180, val_loss: 1.23249, val_accuracy: 0.47946\n"
     ]
    },
    {
     "name": "stderr",
     "output_type": "stream",
     "text": [
      "100%|██████████████████████████████████████████████████████████████████████████████████| 10/10 [00:01<00:00,  8.22it/s]\n"
     ]
    },
    {
     "name": "stdout",
     "output_type": "stream",
     "text": [
      "epoch 159, loss: 0.82130, acc: 0.59438, val_loss: 1.24991, val_accuracy: 0.48254\n"
     ]
    },
    {
     "name": "stderr",
     "output_type": "stream",
     "text": [
      "100%|██████████████████████████████████████████████████████████████████████████████████| 10/10 [00:01<00:00,  8.27it/s]\n"
     ]
    },
    {
     "name": "stdout",
     "output_type": "stream",
     "text": [
      "epoch 160, loss: 0.81880, acc: 0.59193, val_loss: 1.23099, val_accuracy: 0.47907\n"
     ]
    },
    {
     "name": "stderr",
     "output_type": "stream",
     "text": [
      "100%|██████████████████████████████████████████████████████████████████████████████████| 10/10 [00:01<00:00,  8.26it/s]\n"
     ]
    },
    {
     "name": "stdout",
     "output_type": "stream",
     "text": [
      "epoch 161, loss: 0.81824, acc: 0.59608, val_loss: 1.24968, val_accuracy: 0.48363\n"
     ]
    },
    {
     "name": "stderr",
     "output_type": "stream",
     "text": [
      "100%|██████████████████████████████████████████████████████████████████████████████████| 10/10 [00:01<00:00,  8.19it/s]\n"
     ]
    },
    {
     "name": "stdout",
     "output_type": "stream",
     "text": [
      "epoch 162, loss: 0.81673, acc: 0.59355, val_loss: 1.23932, val_accuracy: 0.48175\n"
     ]
    },
    {
     "name": "stderr",
     "output_type": "stream",
     "text": [
      "100%|██████████████████████████████████████████████████████████████████████████████████| 10/10 [00:01<00:00,  8.24it/s]\n"
     ]
    },
    {
     "name": "stdout",
     "output_type": "stream",
     "text": [
      "epoch 163, loss: 0.81627, acc: 0.59817, val_loss: 1.25160, val_accuracy: 0.48482\n"
     ]
    },
    {
     "name": "stderr",
     "output_type": "stream",
     "text": [
      "100%|██████████████████████████████████████████████████████████████████████████████████| 10/10 [00:01<00:00,  8.07it/s]\n"
     ]
    },
    {
     "name": "stdout",
     "output_type": "stream",
     "text": [
      "epoch 164, loss: 0.81304, acc: 0.59408, val_loss: 1.23913, val_accuracy: 0.48244\n"
     ]
    },
    {
     "name": "stderr",
     "output_type": "stream",
     "text": [
      "100%|██████████████████████████████████████████████████████████████████████████████████| 10/10 [00:01<00:00,  7.92it/s]\n"
     ]
    },
    {
     "name": "stdout",
     "output_type": "stream",
     "text": [
      "epoch 165, loss: 0.81269, acc: 0.59925, val_loss: 1.24985, val_accuracy: 0.48343\n"
     ]
    },
    {
     "name": "stderr",
     "output_type": "stream",
     "text": [
      "100%|██████████████████████████████████████████████████████████████████████████████████| 10/10 [00:01<00:00,  7.90it/s]\n"
     ]
    },
    {
     "name": "stdout",
     "output_type": "stream",
     "text": [
      "epoch 166, loss: 0.81106, acc: 0.59460, val_loss: 1.24836, val_accuracy: 0.48423\n"
     ]
    },
    {
     "name": "stderr",
     "output_type": "stream",
     "text": [
      "100%|██████████████████████████████████████████████████████████████████████████████████| 10/10 [00:01<00:00,  7.94it/s]\n"
     ]
    },
    {
     "name": "stdout",
     "output_type": "stream",
     "text": [
      "epoch 167, loss: 0.81018, acc: 0.60067, val_loss: 1.25304, val_accuracy: 0.48462\n"
     ]
    },
    {
     "name": "stderr",
     "output_type": "stream",
     "text": [
      "100%|██████████████████████████████████████████████████████████████████████████████████| 10/10 [00:00<00:00, 10.28it/s]\n"
     ]
    },
    {
     "name": "stdout",
     "output_type": "stream",
     "text": [
      "epoch 168, loss: 0.80910, acc: 0.59559, val_loss: 1.24688, val_accuracy: 0.48482\n"
     ]
    },
    {
     "name": "stderr",
     "output_type": "stream",
     "text": [
      "100%|██████████████████████████████████████████████████████████████████████████████████| 10/10 [00:00<00:00, 10.18it/s]\n"
     ]
    },
    {
     "name": "stdout",
     "output_type": "stream",
     "text": [
      "epoch 169, loss: 0.80760, acc: 0.60047, val_loss: 1.25220, val_accuracy: 0.48552\n"
     ]
    },
    {
     "name": "stderr",
     "output_type": "stream",
     "text": [
      "100%|██████████████████████████████████████████████████████████████████████████████████| 10/10 [00:00<00:00, 10.25it/s]\n"
     ]
    },
    {
     "name": "stdout",
     "output_type": "stream",
     "text": [
      "epoch 170, loss: 0.80561, acc: 0.59831, val_loss: 1.26062, val_accuracy: 0.48661\n"
     ]
    },
    {
     "name": "stderr",
     "output_type": "stream",
     "text": [
      "100%|██████████████████████████████████████████████████████████████████████████████████| 10/10 [00:01<00:00,  9.55it/s]\n"
     ]
    },
    {
     "name": "stdout",
     "output_type": "stream",
     "text": [
      "epoch 171, loss: 0.80565, acc: 0.60197, val_loss: 1.25161, val_accuracy: 0.48591\n"
     ]
    },
    {
     "name": "stderr",
     "output_type": "stream",
     "text": [
      "100%|██████████████████████████████████████████████████████████████████████████████████| 10/10 [00:01<00:00,  9.36it/s]\n"
     ]
    },
    {
     "name": "stdout",
     "output_type": "stream",
     "text": [
      "epoch 172, loss: 0.80330, acc: 0.60206, val_loss: 1.26975, val_accuracy: 0.48740\n"
     ]
    },
    {
     "name": "stderr",
     "output_type": "stream",
     "text": [
      "100%|██████████████████████████████████████████████████████████████████████████████████| 10/10 [00:01<00:00,  8.23it/s]\n"
     ]
    },
    {
     "name": "stdout",
     "output_type": "stream",
     "text": [
      "epoch 173, loss: 0.80423, acc: 0.60237, val_loss: 1.23512, val_accuracy: 0.48571\n"
     ]
    },
    {
     "name": "stderr",
     "output_type": "stream",
     "text": [
      "100%|██████████████████████████████████████████████████████████████████████████████████| 10/10 [00:01<00:00,  7.66it/s]\n"
     ]
    },
    {
     "name": "stdout",
     "output_type": "stream",
     "text": [
      "epoch 174, loss: 0.80230, acc: 0.60184, val_loss: 1.26688, val_accuracy: 0.48790\n"
     ]
    },
    {
     "name": "stderr",
     "output_type": "stream",
     "text": [
      "100%|██████████████████████████████████████████████████████████████████████████████████| 10/10 [00:01<00:00,  8.10it/s]\n"
     ]
    },
    {
     "name": "stdout",
     "output_type": "stream",
     "text": [
      "epoch 175, loss: 0.80067, acc: 0.60242, val_loss: 1.24659, val_accuracy: 0.48522\n"
     ]
    },
    {
     "name": "stderr",
     "output_type": "stream",
     "text": [
      "100%|██████████████████████████████████████████████████████████████████████████████████| 10/10 [00:01<00:00,  7.83it/s]\n"
     ]
    },
    {
     "name": "stdout",
     "output_type": "stream",
     "text": [
      "epoch 176, loss: 0.79975, acc: 0.60310, val_loss: 1.26497, val_accuracy: 0.48849\n"
     ]
    },
    {
     "name": "stderr",
     "output_type": "stream",
     "text": [
      "100%|██████████████████████████████████████████████████████████████████████████████████| 10/10 [00:01<00:00,  7.72it/s]\n"
     ]
    },
    {
     "name": "stdout",
     "output_type": "stream",
     "text": [
      "epoch 177, loss: 0.79708, acc: 0.60265, val_loss: 1.24878, val_accuracy: 0.48631\n"
     ]
    },
    {
     "name": "stderr",
     "output_type": "stream",
     "text": [
      "100%|██████████████████████████████████████████████████████████████████████████████████| 10/10 [00:01<00:00,  8.00it/s]\n"
     ]
    },
    {
     "name": "stdout",
     "output_type": "stream",
     "text": [
      "epoch 178, loss: 0.79720, acc: 0.60468, val_loss: 1.26987, val_accuracy: 0.48889\n"
     ]
    },
    {
     "name": "stderr",
     "output_type": "stream",
     "text": [
      "100%|██████████████████████████████████████████████████████████████████████████████████| 10/10 [00:01<00:00,  8.03it/s]\n"
     ]
    },
    {
     "name": "stdout",
     "output_type": "stream",
     "text": [
      "epoch 179, loss: 0.79633, acc: 0.60259, val_loss: 1.24956, val_accuracy: 0.48631\n"
     ]
    },
    {
     "name": "stderr",
     "output_type": "stream",
     "text": [
      "100%|██████████████████████████████████████████████████████████████████████████████████| 10/10 [00:01<00:00,  7.67it/s]\n"
     ]
    },
    {
     "name": "stdout",
     "output_type": "stream",
     "text": [
      "epoch 180, loss: 0.79522, acc: 0.60715, val_loss: 1.27375, val_accuracy: 0.49157\n"
     ]
    },
    {
     "name": "stderr",
     "output_type": "stream",
     "text": [
      "100%|██████████████████████████████████████████████████████████████████████████████████| 10/10 [00:01<00:00,  8.06it/s]\n"
     ]
    },
    {
     "name": "stdout",
     "output_type": "stream",
     "text": [
      "epoch 181, loss: 0.79344, acc: 0.60463, val_loss: 1.25101, val_accuracy: 0.48690\n"
     ]
    },
    {
     "name": "stderr",
     "output_type": "stream",
     "text": [
      "100%|██████████████████████████████████████████████████████████████████████████████████| 10/10 [00:01<00:00,  8.06it/s]\n"
     ]
    },
    {
     "name": "stdout",
     "output_type": "stream",
     "text": [
      "epoch 182, loss: 0.79284, acc: 0.61114, val_loss: 1.27240, val_accuracy: 0.49077\n"
     ]
    },
    {
     "name": "stderr",
     "output_type": "stream",
     "text": [
      "100%|██████████████████████████████████████████████████████████████████████████████████| 10/10 [00:01<00:00,  7.99it/s]\n"
     ]
    },
    {
     "name": "stdout",
     "output_type": "stream",
     "text": [
      "epoch 183, loss: 0.79216, acc: 0.60542, val_loss: 1.25350, val_accuracy: 0.48770\n"
     ]
    },
    {
     "name": "stderr",
     "output_type": "stream",
     "text": [
      "100%|██████████████████████████████████████████████████████████████████████████████████| 10/10 [00:01<00:00,  8.23it/s]\n"
     ]
    },
    {
     "name": "stdout",
     "output_type": "stream",
     "text": [
      "epoch 184, loss: 0.79069, acc: 0.61306, val_loss: 1.27740, val_accuracy: 0.49226\n"
     ]
    },
    {
     "name": "stderr",
     "output_type": "stream",
     "text": [
      "100%|██████████████████████████████████████████████████████████████████████████████████| 10/10 [00:01<00:00,  8.10it/s]\n"
     ]
    },
    {
     "name": "stdout",
     "output_type": "stream",
     "text": [
      "epoch 185, loss: 0.79034, acc: 0.60500, val_loss: 1.24939, val_accuracy: 0.48770\n"
     ]
    },
    {
     "name": "stderr",
     "output_type": "stream",
     "text": [
      "100%|██████████████████████████████████████████████████████████████████████████████████| 10/10 [00:01<00:00,  8.17it/s]\n"
     ]
    },
    {
     "name": "stdout",
     "output_type": "stream",
     "text": [
      "epoch 186, loss: 0.78942, acc: 0.61383, val_loss: 1.27468, val_accuracy: 0.49435\n"
     ]
    },
    {
     "name": "stderr",
     "output_type": "stream",
     "text": [
      "100%|██████████████████████████████████████████████████████████████████████████████████| 10/10 [00:01<00:00,  7.56it/s]\n"
     ]
    },
    {
     "name": "stdout",
     "output_type": "stream",
     "text": [
      "epoch 187, loss: 0.78766, acc: 0.60676, val_loss: 1.25683, val_accuracy: 0.48988\n"
     ]
    },
    {
     "name": "stderr",
     "output_type": "stream",
     "text": [
      "100%|██████████████████████████████████████████████████████████████████████████████████| 10/10 [00:00<00:00, 10.21it/s]\n"
     ]
    },
    {
     "name": "stdout",
     "output_type": "stream",
     "text": [
      "epoch 188, loss: 0.78754, acc: 0.61530, val_loss: 1.27273, val_accuracy: 0.49583\n"
     ]
    },
    {
     "name": "stderr",
     "output_type": "stream",
     "text": [
      "100%|██████████████████████████████████████████████████████████████████████████████████| 10/10 [00:00<00:00, 10.16it/s]\n"
     ]
    },
    {
     "name": "stdout",
     "output_type": "stream",
     "text": [
      "epoch 189, loss: 0.78527, acc: 0.60860, val_loss: 1.26770, val_accuracy: 0.49246\n"
     ]
    },
    {
     "name": "stderr",
     "output_type": "stream",
     "text": [
      "100%|██████████████████████████████████████████████████████████████████████████████████| 10/10 [00:00<00:00, 10.16it/s]\n"
     ]
    },
    {
     "name": "stdout",
     "output_type": "stream",
     "text": [
      "epoch 190, loss: 0.78496, acc: 0.61474, val_loss: 1.27586, val_accuracy: 0.49653\n"
     ]
    },
    {
     "name": "stderr",
     "output_type": "stream",
     "text": [
      "100%|██████████████████████████████████████████████████████████████████████████████████| 10/10 [00:00<00:00, 10.21it/s]\n"
     ]
    },
    {
     "name": "stdout",
     "output_type": "stream",
     "text": [
      "epoch 191, loss: 0.78322, acc: 0.61073, val_loss: 1.26683, val_accuracy: 0.49058\n"
     ]
    },
    {
     "name": "stderr",
     "output_type": "stream",
     "text": [
      "100%|██████████████████████████████████████████████████████████████████████████████████| 10/10 [00:01<00:00,  9.19it/s]\n"
     ]
    },
    {
     "name": "stdout",
     "output_type": "stream",
     "text": [
      "epoch 192, loss: 0.78227, acc: 0.61768, val_loss: 1.28262, val_accuracy: 0.49673\n"
     ]
    },
    {
     "name": "stderr",
     "output_type": "stream",
     "text": [
      "100%|██████████████████████████████████████████████████████████████████████████████████| 10/10 [00:01<00:00, 10.00it/s]\n"
     ]
    },
    {
     "name": "stdout",
     "output_type": "stream",
     "text": [
      "epoch 193, loss: 0.78107, acc: 0.61093, val_loss: 1.26290, val_accuracy: 0.49325\n"
     ]
    },
    {
     "name": "stderr",
     "output_type": "stream",
     "text": [
      "100%|██████████████████████████████████████████████████████████████████████████████████| 10/10 [00:01<00:00,  9.57it/s]\n"
     ]
    },
    {
     "name": "stdout",
     "output_type": "stream",
     "text": [
      "epoch 194, loss: 0.78090, acc: 0.61863, val_loss: 1.28079, val_accuracy: 0.49841\n"
     ]
    },
    {
     "name": "stderr",
     "output_type": "stream",
     "text": [
      "100%|██████████████████████████████████████████████████████████████████████████████████| 10/10 [00:01<00:00,  9.54it/s]\n"
     ]
    },
    {
     "name": "stdout",
     "output_type": "stream",
     "text": [
      "epoch 195, loss: 0.77964, acc: 0.61154, val_loss: 1.26363, val_accuracy: 0.49405\n"
     ]
    },
    {
     "name": "stderr",
     "output_type": "stream",
     "text": [
      "100%|██████████████████████████████████████████████████████████████████████████████████| 10/10 [00:01<00:00,  9.29it/s]\n"
     ]
    },
    {
     "name": "stdout",
     "output_type": "stream",
     "text": [
      "epoch 196, loss: 0.77797, acc: 0.61922, val_loss: 1.29452, val_accuracy: 0.49861\n"
     ]
    },
    {
     "name": "stderr",
     "output_type": "stream",
     "text": [
      "100%|██████████████████████████████████████████████████████████████████████████████████| 10/10 [00:01<00:00,  7.65it/s]\n"
     ]
    },
    {
     "name": "stdout",
     "output_type": "stream",
     "text": [
      "epoch 197, loss: 0.77856, acc: 0.61292, val_loss: 1.25327, val_accuracy: 0.49276\n"
     ]
    },
    {
     "name": "stderr",
     "output_type": "stream",
     "text": [
      "100%|██████████████████████████████████████████████████████████████████████████████████| 10/10 [00:01<00:00,  7.43it/s]\n"
     ]
    },
    {
     "name": "stdout",
     "output_type": "stream",
     "text": [
      "epoch 198, loss: 0.77630, acc: 0.61955, val_loss: 1.28404, val_accuracy: 0.49931\n"
     ]
    },
    {
     "name": "stderr",
     "output_type": "stream",
     "text": [
      "100%|██████████████████████████████████████████████████████████████████████████████████| 10/10 [00:01<00:00,  8.75it/s]\n"
     ]
    },
    {
     "name": "stdout",
     "output_type": "stream",
     "text": [
      "epoch 199, loss: 0.77513, acc: 0.61525, val_loss: 1.26626, val_accuracy: 0.49484\n"
     ]
    },
    {
     "name": "stderr",
     "output_type": "stream",
     "text": [
      "100%|██████████████████████████████████████████████████████████████████████████████████| 10/10 [00:01<00:00,  6.47it/s]\n"
     ]
    },
    {
     "name": "stdout",
     "output_type": "stream",
     "text": [
      "epoch 200, loss: 0.77474, acc: 0.62071, val_loss: 1.28508, val_accuracy: 0.50079\n"
     ]
    },
    {
     "name": "stderr",
     "output_type": "stream",
     "text": [
      "100%|██████████████████████████████████████████████████████████████████████████████████| 10/10 [00:01<00:00,  7.18it/s]\n"
     ]
    },
    {
     "name": "stdout",
     "output_type": "stream",
     "text": [
      "epoch 201, loss: 0.77220, acc: 0.61626, val_loss: 1.27714, val_accuracy: 0.49752\n"
     ]
    },
    {
     "name": "stderr",
     "output_type": "stream",
     "text": [
      "100%|██████████████████████████████████████████████████████████████████████████████████| 10/10 [00:01<00:00,  7.66it/s]\n"
     ]
    },
    {
     "name": "stdout",
     "output_type": "stream",
     "text": [
      "epoch 202, loss: 0.77322, acc: 0.62020, val_loss: 1.28851, val_accuracy: 0.50188\n"
     ]
    },
    {
     "name": "stderr",
     "output_type": "stream",
     "text": [
      "100%|██████████████████████████████████████████████████████████████████████████████████| 10/10 [00:00<00:00, 10.18it/s]\n"
     ]
    },
    {
     "name": "stdout",
     "output_type": "stream",
     "text": [
      "epoch 203, loss: 0.76993, acc: 0.62223, val_loss: 1.27934, val_accuracy: 0.49940\n"
     ]
    },
    {
     "name": "stderr",
     "output_type": "stream",
     "text": [
      "100%|██████████████████████████████████████████████████████████████████████████████████| 10/10 [00:01<00:00,  9.45it/s]\n"
     ]
    },
    {
     "name": "stdout",
     "output_type": "stream",
     "text": [
      "epoch 204, loss: 0.77083, acc: 0.62412, val_loss: 1.29646, val_accuracy: 0.50129\n"
     ]
    },
    {
     "name": "stderr",
     "output_type": "stream",
     "text": [
      "100%|██████████████████████████████████████████████████████████████████████████████████| 10/10 [00:01<00:00,  8.96it/s]\n"
     ]
    },
    {
     "name": "stdout",
     "output_type": "stream",
     "text": [
      "epoch 205, loss: 0.76915, acc: 0.62480, val_loss: 1.27154, val_accuracy: 0.49990\n"
     ]
    },
    {
     "name": "stderr",
     "output_type": "stream",
     "text": [
      "100%|██████████████████████████████████████████████████████████████████████████████████| 10/10 [00:01<00:00,  7.86it/s]\n"
     ]
    },
    {
     "name": "stdout",
     "output_type": "stream",
     "text": [
      "epoch 206, loss: 0.76875, acc: 0.62654, val_loss: 1.29319, val_accuracy: 0.50218\n"
     ]
    },
    {
     "name": "stderr",
     "output_type": "stream",
     "text": [
      "100%|██████████████████████████████████████████████████████████████████████████████████| 10/10 [00:01<00:00,  7.74it/s]\n"
     ]
    },
    {
     "name": "stdout",
     "output_type": "stream",
     "text": [
      "epoch 207, loss: 0.76831, acc: 0.62594, val_loss: 1.27104, val_accuracy: 0.49851\n"
     ]
    },
    {
     "name": "stderr",
     "output_type": "stream",
     "text": [
      "100%|██████████████████████████████████████████████████████████████████████████████████| 10/10 [00:01<00:00,  9.67it/s]\n"
     ]
    },
    {
     "name": "stdout",
     "output_type": "stream",
     "text": [
      "epoch 208, loss: 0.76718, acc: 0.63322, val_loss: 1.29426, val_accuracy: 0.50298\n"
     ]
    },
    {
     "name": "stderr",
     "output_type": "stream",
     "text": [
      "100%|██████████████████████████████████████████████████████████████████████████████████| 10/10 [00:00<00:00, 10.20it/s]\n"
     ]
    },
    {
     "name": "stdout",
     "output_type": "stream",
     "text": [
      "epoch 209, loss: 0.76573, acc: 0.62589, val_loss: 1.26782, val_accuracy: 0.49881\n"
     ]
    },
    {
     "name": "stderr",
     "output_type": "stream",
     "text": [
      "100%|██████████████████████████████████████████████████████████████████████████████████| 10/10 [00:01<00:00,  9.92it/s]\n"
     ]
    },
    {
     "name": "stdout",
     "output_type": "stream",
     "text": [
      "epoch 210, loss: 0.76567, acc: 0.63340, val_loss: 1.29658, val_accuracy: 0.50407\n"
     ]
    },
    {
     "name": "stderr",
     "output_type": "stream",
     "text": [
      "100%|██████████████████████████████████████████████████████████████████████████████████| 10/10 [00:01<00:00,  9.21it/s]\n"
     ]
    },
    {
     "name": "stdout",
     "output_type": "stream",
     "text": [
      "epoch 211, loss: 0.76345, acc: 0.62749, val_loss: 1.27484, val_accuracy: 0.49980\n"
     ]
    },
    {
     "name": "stderr",
     "output_type": "stream",
     "text": [
      "100%|██████████████████████████████████████████████████████████████████████████████████| 10/10 [00:01<00:00,  7.86it/s]\n"
     ]
    },
    {
     "name": "stdout",
     "output_type": "stream",
     "text": [
      "epoch 212, loss: 0.76309, acc: 0.63499, val_loss: 1.29168, val_accuracy: 0.50427\n"
     ]
    },
    {
     "name": "stderr",
     "output_type": "stream",
     "text": [
      "100%|██████████████████████████████████████████████████████████████████████████████████| 10/10 [00:01<00:00,  7.57it/s]\n"
     ]
    },
    {
     "name": "stdout",
     "output_type": "stream",
     "text": [
      "epoch 213, loss: 0.76099, acc: 0.63109, val_loss: 1.28123, val_accuracy: 0.49970\n"
     ]
    },
    {
     "name": "stderr",
     "output_type": "stream",
     "text": [
      "100%|██████████████████████████████████████████████████████████████████████████████████| 10/10 [00:01<00:00,  7.53it/s]\n"
     ]
    },
    {
     "name": "stdout",
     "output_type": "stream",
     "text": [
      "epoch 214, loss: 0.76086, acc: 0.63430, val_loss: 1.29836, val_accuracy: 0.50585\n"
     ]
    },
    {
     "name": "stderr",
     "output_type": "stream",
     "text": [
      "100%|██████████████████████████████████████████████████████████████████████████████████| 10/10 [00:00<00:00, 10.18it/s]\n"
     ]
    },
    {
     "name": "stdout",
     "output_type": "stream",
     "text": [
      "epoch 215, loss: 0.75897, acc: 0.63253, val_loss: 1.28321, val_accuracy: 0.50298\n"
     ]
    },
    {
     "name": "stderr",
     "output_type": "stream",
     "text": [
      "100%|██████████████████████████████████████████████████████████████████████████████████| 10/10 [00:01<00:00,  9.69it/s]\n"
     ]
    },
    {
     "name": "stdout",
     "output_type": "stream",
     "text": [
      "epoch 216, loss: 0.75855, acc: 0.63752, val_loss: 1.30149, val_accuracy: 0.50645\n"
     ]
    },
    {
     "name": "stderr",
     "output_type": "stream",
     "text": [
      "100%|██████████████████████████████████████████████████████████████████████████████████| 10/10 [00:01<00:00,  9.09it/s]\n"
     ]
    },
    {
     "name": "stdout",
     "output_type": "stream",
     "text": [
      "epoch 217, loss: 0.75790, acc: 0.63265, val_loss: 1.28037, val_accuracy: 0.50238\n"
     ]
    },
    {
     "name": "stderr",
     "output_type": "stream",
     "text": [
      "100%|██████████████████████████████████████████████████████████████████████████████████| 10/10 [00:01<00:00,  7.91it/s]\n"
     ]
    },
    {
     "name": "stdout",
     "output_type": "stream",
     "text": [
      "epoch 218, loss: 0.75678, acc: 0.63773, val_loss: 1.30204, val_accuracy: 0.50585\n"
     ]
    },
    {
     "name": "stderr",
     "output_type": "stream",
     "text": [
      "100%|██████████████████████████████████████████████████████████████████████████████████| 10/10 [00:01<00:00,  8.48it/s]\n"
     ]
    },
    {
     "name": "stdout",
     "output_type": "stream",
     "text": [
      "epoch 219, loss: 0.75626, acc: 0.63421, val_loss: 1.26976, val_accuracy: 0.50159\n"
     ]
    },
    {
     "name": "stderr",
     "output_type": "stream",
     "text": [
      "100%|██████████████████████████████████████████████████████████████████████████████████| 10/10 [00:01<00:00,  8.14it/s]\n"
     ]
    },
    {
     "name": "stdout",
     "output_type": "stream",
     "text": [
      "epoch 220, loss: 0.75582, acc: 0.63881, val_loss: 1.30082, val_accuracy: 0.50605\n"
     ]
    },
    {
     "name": "stderr",
     "output_type": "stream",
     "text": [
      "100%|██████████████████████████████████████████████████████████████████████████████████| 10/10 [00:01<00:00,  7.81it/s]\n"
     ]
    },
    {
     "name": "stdout",
     "output_type": "stream",
     "text": [
      "epoch 221, loss: 0.75340, acc: 0.63685, val_loss: 1.27393, val_accuracy: 0.50040\n"
     ]
    },
    {
     "name": "stderr",
     "output_type": "stream",
     "text": [
      "100%|██████████████████████████████████████████████████████████████████████████████████| 10/10 [00:00<00:00, 10.15it/s]\n"
     ]
    },
    {
     "name": "stdout",
     "output_type": "stream",
     "text": [
      "epoch 222, loss: 0.75352, acc: 0.63988, val_loss: 1.30198, val_accuracy: 0.50625\n"
     ]
    },
    {
     "name": "stderr",
     "output_type": "stream",
     "text": [
      "100%|██████████████████████████████████████████████████████████████████████████████████| 10/10 [00:01<00:00,  9.56it/s]\n"
     ]
    },
    {
     "name": "stdout",
     "output_type": "stream",
     "text": [
      "epoch 223, loss: 0.75121, acc: 0.63753, val_loss: 1.27672, val_accuracy: 0.50367\n"
     ]
    },
    {
     "name": "stderr",
     "output_type": "stream",
     "text": [
      "100%|██████████████████████████████████████████████████████████████████████████████████| 10/10 [00:01<00:00,  8.63it/s]\n"
     ]
    },
    {
     "name": "stdout",
     "output_type": "stream",
     "text": [
      "epoch 224, loss: 0.75148, acc: 0.64076, val_loss: 1.29728, val_accuracy: 0.50665\n"
     ]
    },
    {
     "name": "stderr",
     "output_type": "stream",
     "text": [
      "100%|██████████████████████████████████████████████████████████████████████████████████| 10/10 [00:01<00:00,  8.49it/s]\n"
     ]
    },
    {
     "name": "stdout",
     "output_type": "stream",
     "text": [
      "epoch 225, loss: 0.74825, acc: 0.64006, val_loss: 1.29173, val_accuracy: 0.50397\n"
     ]
    },
    {
     "name": "stderr",
     "output_type": "stream",
     "text": [
      "100%|██████████████████████████████████████████████████████████████████████████████████| 10/10 [00:01<00:00,  7.70it/s]\n"
     ]
    },
    {
     "name": "stdout",
     "output_type": "stream",
     "text": [
      "epoch 226, loss: 0.74926, acc: 0.64379, val_loss: 1.30028, val_accuracy: 0.50744\n"
     ]
    },
    {
     "name": "stderr",
     "output_type": "stream",
     "text": [
      "100%|██████████████████████████████████████████████████████████████████████████████████| 10/10 [00:01<00:00,  7.82it/s]\n"
     ]
    },
    {
     "name": "stdout",
     "output_type": "stream",
     "text": [
      "epoch 227, loss: 0.74733, acc: 0.64274, val_loss: 1.29538, val_accuracy: 0.50556\n"
     ]
    },
    {
     "name": "stderr",
     "output_type": "stream",
     "text": [
      "100%|██████████████████████████████████████████████████████████████████████████████████| 10/10 [00:01<00:00,  8.19it/s]\n"
     ]
    },
    {
     "name": "stdout",
     "output_type": "stream",
     "text": [
      "epoch 228, loss: 0.74760, acc: 0.64339, val_loss: 1.30402, val_accuracy: 0.50556\n"
     ]
    },
    {
     "name": "stderr",
     "output_type": "stream",
     "text": [
      "100%|██████████████████████████████████████████████████████████████████████████████████| 10/10 [00:01<00:00,  7.95it/s]\n"
     ]
    },
    {
     "name": "stdout",
     "output_type": "stream",
     "text": [
      "epoch 229, loss: 0.74517, acc: 0.64524, val_loss: 1.29826, val_accuracy: 0.50575\n"
     ]
    },
    {
     "name": "stderr",
     "output_type": "stream",
     "text": [
      "100%|██████████████████████████████████████████████████████████████████████████████████| 10/10 [00:01<00:00,  7.91it/s]\n"
     ]
    },
    {
     "name": "stdout",
     "output_type": "stream",
     "text": [
      "epoch 230, loss: 0.74665, acc: 0.64596, val_loss: 1.30550, val_accuracy: 0.50764\n"
     ]
    },
    {
     "name": "stderr",
     "output_type": "stream",
     "text": [
      "100%|██████████████████████████████████████████████████████████████████████████████████| 10/10 [00:01<00:00,  8.16it/s]\n"
     ]
    },
    {
     "name": "stdout",
     "output_type": "stream",
     "text": [
      "epoch 231, loss: 0.74324, acc: 0.64813, val_loss: 1.28395, val_accuracy: 0.50665\n"
     ]
    },
    {
     "name": "stderr",
     "output_type": "stream",
     "text": [
      "100%|██████████████████████████████████████████████████████████████████████████████████| 10/10 [00:01<00:00,  8.16it/s]\n"
     ]
    },
    {
     "name": "stdout",
     "output_type": "stream",
     "text": [
      "epoch 232, loss: 0.74457, acc: 0.64708, val_loss: 1.30239, val_accuracy: 0.51091\n"
     ]
    },
    {
     "name": "stderr",
     "output_type": "stream",
     "text": [
      "100%|██████████████████████████████████████████████████████████████████████████████████| 10/10 [00:01<00:00,  7.59it/s]\n"
     ]
    },
    {
     "name": "stdout",
     "output_type": "stream",
     "text": [
      "epoch 233, loss: 0.74151, acc: 0.64423, val_loss: 1.28548, val_accuracy: 0.50675\n"
     ]
    },
    {
     "name": "stderr",
     "output_type": "stream",
     "text": [
      "100%|██████████████████████████████████████████████████████████████████████████████████| 10/10 [00:01<00:00,  8.26it/s]\n"
     ]
    },
    {
     "name": "stdout",
     "output_type": "stream",
     "text": [
      "epoch 234, loss: 0.74150, acc: 0.64869, val_loss: 1.30465, val_accuracy: 0.51190\n"
     ]
    },
    {
     "name": "stderr",
     "output_type": "stream",
     "text": [
      "100%|██████████████████████████████████████████████████████████████████████████████████| 10/10 [00:01<00:00,  8.17it/s]\n"
     ]
    },
    {
     "name": "stdout",
     "output_type": "stream",
     "text": [
      "epoch 235, loss: 0.74098, acc: 0.64685, val_loss: 1.29202, val_accuracy: 0.50764\n"
     ]
    },
    {
     "name": "stderr",
     "output_type": "stream",
     "text": [
      "100%|██████████████████████████████████████████████████████████████████████████████████| 10/10 [00:01<00:00,  8.00it/s]\n"
     ]
    },
    {
     "name": "stdout",
     "output_type": "stream",
     "text": [
      "epoch 236, loss: 0.74016, acc: 0.64996, val_loss: 1.30974, val_accuracy: 0.51022\n"
     ]
    },
    {
     "name": "stderr",
     "output_type": "stream",
     "text": [
      "100%|██████████████████████████████████████████████████████████████████████████████████| 10/10 [00:01<00:00,  8.18it/s]\n"
     ]
    },
    {
     "name": "stdout",
     "output_type": "stream",
     "text": [
      "epoch 237, loss: 0.73742, acc: 0.65042, val_loss: 1.29149, val_accuracy: 0.50813\n"
     ]
    },
    {
     "name": "stderr",
     "output_type": "stream",
     "text": [
      "100%|██████████████████████████████████████████████████████████████████████████████████| 10/10 [00:01<00:00,  8.17it/s]\n"
     ]
    },
    {
     "name": "stdout",
     "output_type": "stream",
     "text": [
      "epoch 238, loss: 0.73769, acc: 0.65066, val_loss: 1.31175, val_accuracy: 0.51131\n"
     ]
    },
    {
     "name": "stderr",
     "output_type": "stream",
     "text": [
      "100%|██████████████████████████████████████████████████████████████████████████████████| 10/10 [00:01<00:00,  7.52it/s]\n"
     ]
    },
    {
     "name": "stdout",
     "output_type": "stream",
     "text": [
      "epoch 239, loss: 0.73594, acc: 0.64919, val_loss: 1.29044, val_accuracy: 0.50933\n"
     ]
    },
    {
     "name": "stderr",
     "output_type": "stream",
     "text": [
      "100%|██████████████████████████████████████████████████████████████████████████████████| 10/10 [00:00<00:00, 10.17it/s]\n"
     ]
    },
    {
     "name": "stdout",
     "output_type": "stream",
     "text": [
      "epoch 240, loss: 0.73506, acc: 0.65487, val_loss: 1.31382, val_accuracy: 0.51101\n"
     ]
    },
    {
     "name": "stderr",
     "output_type": "stream",
     "text": [
      "100%|██████████████████████████████████████████████████████████████████████████████████| 10/10 [00:00<00:00, 10.25it/s]\n"
     ]
    },
    {
     "name": "stdout",
     "output_type": "stream",
     "text": [
      "epoch 241, loss: 0.73373, acc: 0.65516, val_loss: 1.29137, val_accuracy: 0.50982\n"
     ]
    },
    {
     "name": "stderr",
     "output_type": "stream",
     "text": [
      "100%|██████████████████████████████████████████████████████████████████████████████████| 10/10 [00:00<00:00, 10.04it/s]\n"
     ]
    },
    {
     "name": "stdout",
     "output_type": "stream",
     "text": [
      "epoch 242, loss: 0.73295, acc: 0.65581, val_loss: 1.31416, val_accuracy: 0.51121\n"
     ]
    },
    {
     "name": "stderr",
     "output_type": "stream",
     "text": [
      "100%|██████████████████████████████████████████████████████████████████████████████████| 10/10 [00:01<00:00,  8.59it/s]\n"
     ]
    },
    {
     "name": "stdout",
     "output_type": "stream",
     "text": [
      "epoch 243, loss: 0.73095, acc: 0.66023, val_loss: 1.30610, val_accuracy: 0.51081\n"
     ]
    },
    {
     "name": "stderr",
     "output_type": "stream",
     "text": [
      "100%|██████████████████████████████████████████████████████████████████████████████████| 10/10 [00:01<00:00,  8.86it/s]\n"
     ]
    },
    {
     "name": "stdout",
     "output_type": "stream",
     "text": [
      "epoch 244, loss: 0.73218, acc: 0.65621, val_loss: 1.31961, val_accuracy: 0.51071\n"
     ]
    },
    {
     "name": "stderr",
     "output_type": "stream",
     "text": [
      "100%|██████████████████████████████████████████████████████████████████████████████████| 10/10 [00:01<00:00,  7.34it/s]\n"
     ]
    },
    {
     "name": "stdout",
     "output_type": "stream",
     "text": [
      "epoch 245, loss: 0.72903, acc: 0.65842, val_loss: 1.30455, val_accuracy: 0.50972\n"
     ]
    },
    {
     "name": "stderr",
     "output_type": "stream",
     "text": [
      "100%|██████████████████████████████████████████████████████████████████████████████████| 10/10 [00:00<00:00, 10.19it/s]\n"
     ]
    },
    {
     "name": "stdout",
     "output_type": "stream",
     "text": [
      "epoch 246, loss: 0.73126, acc: 0.65689, val_loss: 1.31750, val_accuracy: 0.51062\n"
     ]
    },
    {
     "name": "stderr",
     "output_type": "stream",
     "text": [
      "100%|██████████████████████████████████████████████████████████████████████████████████| 10/10 [00:00<00:00, 10.28it/s]\n"
     ]
    },
    {
     "name": "stdout",
     "output_type": "stream",
     "text": [
      "epoch 247, loss: 0.72781, acc: 0.66033, val_loss: 1.29980, val_accuracy: 0.51081\n"
     ]
    },
    {
     "name": "stderr",
     "output_type": "stream",
     "text": [
      "100%|██████████████████████████████████████████████████████████████████████████████████| 10/10 [00:00<00:00, 10.17it/s]\n"
     ]
    },
    {
     "name": "stdout",
     "output_type": "stream",
     "text": [
      "epoch 248, loss: 0.72800, acc: 0.65787, val_loss: 1.31208, val_accuracy: 0.51091\n"
     ]
    },
    {
     "name": "stderr",
     "output_type": "stream",
     "text": [
      "100%|██████████████████████████████████████████████████████████████████████████████████| 10/10 [00:01<00:00,  9.31it/s]\n"
     ]
    },
    {
     "name": "stdout",
     "output_type": "stream",
     "text": [
      "epoch 249, loss: 0.72602, acc: 0.66322, val_loss: 1.30243, val_accuracy: 0.51161\n"
     ]
    },
    {
     "name": "stderr",
     "output_type": "stream",
     "text": [
      "100%|██████████████████████████████████████████████████████████████████████████████████| 10/10 [00:01<00:00,  8.73it/s]\n"
     ]
    },
    {
     "name": "stdout",
     "output_type": "stream",
     "text": [
      "epoch 250, loss: 0.72666, acc: 0.65736, val_loss: 1.31818, val_accuracy: 0.51200\n"
     ]
    },
    {
     "name": "stderr",
     "output_type": "stream",
     "text": [
      "100%|██████████████████████████████████████████████████████████████████████████████████| 10/10 [00:00<00:00, 10.20it/s]\n"
     ]
    },
    {
     "name": "stdout",
     "output_type": "stream",
     "text": [
      "epoch 251, loss: 0.72484, acc: 0.66461, val_loss: 1.29474, val_accuracy: 0.51151\n"
     ]
    },
    {
     "name": "stderr",
     "output_type": "stream",
     "text": [
      "100%|██████████████████████████████████████████████████████████████████████████████████| 10/10 [00:00<00:00, 10.05it/s]\n"
     ]
    },
    {
     "name": "stdout",
     "output_type": "stream",
     "text": [
      "epoch 252, loss: 0.72478, acc: 0.65872, val_loss: 1.32137, val_accuracy: 0.51270\n"
     ]
    },
    {
     "name": "stderr",
     "output_type": "stream",
     "text": [
      "100%|██████████████████████████████████████████████████████████████████████████████████| 10/10 [00:01<00:00,  9.79it/s]\n"
     ]
    },
    {
     "name": "stdout",
     "output_type": "stream",
     "text": [
      "epoch 253, loss: 0.72182, acc: 0.66677, val_loss: 1.29949, val_accuracy: 0.51121\n"
     ]
    },
    {
     "name": "stderr",
     "output_type": "stream",
     "text": [
      "100%|██████████████████████████████████████████████████████████████████████████████████| 10/10 [00:01<00:00,  9.28it/s]\n"
     ]
    },
    {
     "name": "stdout",
     "output_type": "stream",
     "text": [
      "epoch 254, loss: 0.72344, acc: 0.66036, val_loss: 1.32823, val_accuracy: 0.51339\n"
     ]
    },
    {
     "name": "stderr",
     "output_type": "stream",
     "text": [
      "100%|██████████████████████████████████████████████████████████████████████████████████| 10/10 [00:01<00:00,  9.27it/s]\n"
     ]
    },
    {
     "name": "stdout",
     "output_type": "stream",
     "text": [
      "epoch 255, loss: 0.72116, acc: 0.66435, val_loss: 1.29699, val_accuracy: 0.51300\n"
     ]
    },
    {
     "name": "stderr",
     "output_type": "stream",
     "text": [
      "100%|██████████████████████████████████████████████████████████████████████████████████| 10/10 [00:01<00:00,  8.00it/s]\n"
     ]
    },
    {
     "name": "stdout",
     "output_type": "stream",
     "text": [
      "epoch 256, loss: 0.72061, acc: 0.66123, val_loss: 1.32201, val_accuracy: 0.51548\n"
     ]
    },
    {
     "name": "stderr",
     "output_type": "stream",
     "text": [
      "100%|██████████████████████████████████████████████████████████████████████████████████| 10/10 [00:01<00:00,  8.08it/s]\n"
     ]
    },
    {
     "name": "stdout",
     "output_type": "stream",
     "text": [
      "epoch 257, loss: 0.71874, acc: 0.66259, val_loss: 1.30233, val_accuracy: 0.51339\n"
     ]
    },
    {
     "name": "stderr",
     "output_type": "stream",
     "text": [
      "100%|██████████████████████████████████████████████████████████████████████████████████| 10/10 [00:01<00:00,  8.00it/s]\n"
     ]
    },
    {
     "name": "stdout",
     "output_type": "stream",
     "text": [
      "epoch 258, loss: 0.71942, acc: 0.65892, val_loss: 1.32680, val_accuracy: 0.51627\n"
     ]
    },
    {
     "name": "stderr",
     "output_type": "stream",
     "text": [
      "100%|██████████████████████████████████████████████████████████████████████████████████| 10/10 [00:01<00:00,  8.18it/s]\n"
     ]
    },
    {
     "name": "stdout",
     "output_type": "stream",
     "text": [
      "epoch 259, loss: 0.71698, acc: 0.66777, val_loss: 1.30264, val_accuracy: 0.51230\n"
     ]
    },
    {
     "name": "stderr",
     "output_type": "stream",
     "text": [
      "100%|██████████████████████████████████████████████████████████████████████████████████| 10/10 [00:01<00:00,  7.98it/s]\n"
     ]
    },
    {
     "name": "stdout",
     "output_type": "stream",
     "text": [
      "epoch 260, loss: 0.71771, acc: 0.66339, val_loss: 1.32337, val_accuracy: 0.51577\n"
     ]
    },
    {
     "name": "stderr",
     "output_type": "stream",
     "text": [
      "100%|██████████████████████████████████████████████████████████████████████████████████| 10/10 [00:01<00:00,  7.55it/s]\n"
     ]
    },
    {
     "name": "stdout",
     "output_type": "stream",
     "text": [
      "epoch 261, loss: 0.71391, acc: 0.66900, val_loss: 1.30858, val_accuracy: 0.51518\n"
     ]
    },
    {
     "name": "stderr",
     "output_type": "stream",
     "text": [
      "100%|██████████████████████████████████████████████████████████████████████████████████| 10/10 [00:01<00:00,  8.29it/s]\n"
     ]
    },
    {
     "name": "stdout",
     "output_type": "stream",
     "text": [
      "epoch 262, loss: 0.71583, acc: 0.66418, val_loss: 1.32492, val_accuracy: 0.51687\n"
     ]
    },
    {
     "name": "stderr",
     "output_type": "stream",
     "text": [
      "100%|██████████████████████████████████████████████████████████████████████████████████| 10/10 [00:01<00:00,  7.76it/s]\n"
     ]
    },
    {
     "name": "stdout",
     "output_type": "stream",
     "text": [
      "epoch 263, loss: 0.71416, acc: 0.66739, val_loss: 1.31724, val_accuracy: 0.51399\n"
     ]
    },
    {
     "name": "stderr",
     "output_type": "stream",
     "text": [
      "100%|██████████████████████████████████████████████████████████████████████████████████| 10/10 [00:01<00:00,  7.73it/s]\n"
     ]
    },
    {
     "name": "stdout",
     "output_type": "stream",
     "text": [
      "epoch 264, loss: 0.71405, acc: 0.66253, val_loss: 1.32090, val_accuracy: 0.51726\n"
     ]
    },
    {
     "name": "stderr",
     "output_type": "stream",
     "text": [
      "100%|██████████████████████████████████████████████████████████████████████████████████| 10/10 [00:01<00:00,  8.15it/s]\n"
     ]
    },
    {
     "name": "stdout",
     "output_type": "stream",
     "text": [
      "epoch 265, loss: 0.71027, acc: 0.66997, val_loss: 1.31380, val_accuracy: 0.51498\n"
     ]
    },
    {
     "name": "stderr",
     "output_type": "stream",
     "text": [
      "100%|██████████████████████████████████████████████████████████████████████████████████| 10/10 [00:01<00:00,  7.77it/s]\n"
     ]
    },
    {
     "name": "stdout",
     "output_type": "stream",
     "text": [
      "epoch 266, loss: 0.71104, acc: 0.66419, val_loss: 1.32216, val_accuracy: 0.51706\n"
     ]
    },
    {
     "name": "stderr",
     "output_type": "stream",
     "text": [
      "100%|██████████████████████████████████████████████████████████████████████████████████| 10/10 [00:01<00:00,  7.17it/s]\n"
     ]
    },
    {
     "name": "stdout",
     "output_type": "stream",
     "text": [
      "epoch 267, loss: 0.70839, acc: 0.67005, val_loss: 1.32064, val_accuracy: 0.51567\n"
     ]
    },
    {
     "name": "stderr",
     "output_type": "stream",
     "text": [
      "100%|██████████████████████████████████████████████████████████████████████████████████| 10/10 [00:01<00:00,  9.44it/s]\n"
     ]
    },
    {
     "name": "stdout",
     "output_type": "stream",
     "text": [
      "epoch 268, loss: 0.70900, acc: 0.66601, val_loss: 1.32830, val_accuracy: 0.51647\n"
     ]
    },
    {
     "name": "stderr",
     "output_type": "stream",
     "text": [
      "100%|██████████████████████████████████████████████████████████████████████████████████| 10/10 [00:01<00:00,  8.06it/s]\n"
     ]
    },
    {
     "name": "stdout",
     "output_type": "stream",
     "text": [
      "epoch 269, loss: 0.70728, acc: 0.67016, val_loss: 1.31968, val_accuracy: 0.51677\n"
     ]
    },
    {
     "name": "stderr",
     "output_type": "stream",
     "text": [
      "100%|██████████████████████████████████████████████████████████████████████████████████| 10/10 [00:01<00:00,  7.55it/s]\n"
     ]
    },
    {
     "name": "stdout",
     "output_type": "stream",
     "text": [
      "epoch 270, loss: 0.70718, acc: 0.66944, val_loss: 1.32730, val_accuracy: 0.51845\n"
     ]
    },
    {
     "name": "stderr",
     "output_type": "stream",
     "text": [
      "100%|██████████████████████████████████████████████████████████████████████████████████| 10/10 [00:01<00:00,  8.06it/s]\n"
     ]
    },
    {
     "name": "stdout",
     "output_type": "stream",
     "text": [
      "epoch 271, loss: 0.70609, acc: 0.66935, val_loss: 1.32461, val_accuracy: 0.51677\n"
     ]
    },
    {
     "name": "stderr",
     "output_type": "stream",
     "text": [
      "100%|██████████████████████████████████████████████████████████████████████████████████| 10/10 [00:01<00:00,  7.67it/s]\n"
     ]
    },
    {
     "name": "stdout",
     "output_type": "stream",
     "text": [
      "epoch 272, loss: 0.70596, acc: 0.66776, val_loss: 1.33842, val_accuracy: 0.51736\n"
     ]
    },
    {
     "name": "stderr",
     "output_type": "stream",
     "text": [
      "100%|██████████████████████████████████████████████████████████████████████████████████| 10/10 [00:01<00:00,  8.03it/s]\n"
     ]
    },
    {
     "name": "stdout",
     "output_type": "stream",
     "text": [
      "epoch 273, loss: 0.70181, acc: 0.67546, val_loss: 1.31097, val_accuracy: 0.51925\n"
     ]
    },
    {
     "name": "stderr",
     "output_type": "stream",
     "text": [
      "100%|██████████████████████████████████████████████████████████████████████████████████| 10/10 [00:01<00:00,  7.57it/s]\n"
     ]
    },
    {
     "name": "stdout",
     "output_type": "stream",
     "text": [
      "epoch 274, loss: 0.70371, acc: 0.66985, val_loss: 1.32697, val_accuracy: 0.51935\n"
     ]
    },
    {
     "name": "stderr",
     "output_type": "stream",
     "text": [
      "100%|██████████████████████████████████████████████████████████████████████████████████| 10/10 [00:01<00:00,  7.88it/s]\n"
     ]
    },
    {
     "name": "stdout",
     "output_type": "stream",
     "text": [
      "epoch 275, loss: 0.70156, acc: 0.67515, val_loss: 1.32057, val_accuracy: 0.51875\n"
     ]
    },
    {
     "name": "stderr",
     "output_type": "stream",
     "text": [
      "100%|██████████████████████████████████████████████████████████████████████████████████| 10/10 [00:01<00:00,  7.80it/s]\n"
     ]
    },
    {
     "name": "stdout",
     "output_type": "stream",
     "text": [
      "epoch 276, loss: 0.70168, acc: 0.66993, val_loss: 1.33349, val_accuracy: 0.51607\n"
     ]
    },
    {
     "name": "stderr",
     "output_type": "stream",
     "text": [
      "100%|██████████████████████████████████████████████████████████████████████████████████| 10/10 [00:01<00:00,  7.77it/s]\n"
     ]
    },
    {
     "name": "stdout",
     "output_type": "stream",
     "text": [
      "epoch 277, loss: 0.69737, acc: 0.67790, val_loss: 1.32086, val_accuracy: 0.51925\n"
     ]
    },
    {
     "name": "stderr",
     "output_type": "stream",
     "text": [
      "100%|██████████████████████████████████████████████████████████████████████████████████| 10/10 [00:00<00:00, 10.10it/s]\n"
     ]
    },
    {
     "name": "stdout",
     "output_type": "stream",
     "text": [
      "epoch 278, loss: 0.69825, acc: 0.67126, val_loss: 1.33703, val_accuracy: 0.51984\n"
     ]
    },
    {
     "name": "stderr",
     "output_type": "stream",
     "text": [
      "100%|██████████████████████████████████████████████████████████████████████████████████| 10/10 [00:01<00:00,  9.43it/s]\n"
     ]
    },
    {
     "name": "stdout",
     "output_type": "stream",
     "text": [
      "epoch 279, loss: 0.69744, acc: 0.67579, val_loss: 1.32701, val_accuracy: 0.52004\n"
     ]
    },
    {
     "name": "stderr",
     "output_type": "stream",
     "text": [
      "100%|██████████████████████████████████████████████████████████████████████████████████| 10/10 [00:01<00:00,  8.13it/s]\n"
     ]
    },
    {
     "name": "stdout",
     "output_type": "stream",
     "text": [
      "epoch 280, loss: 0.69728, acc: 0.67002, val_loss: 1.34313, val_accuracy: 0.52024\n"
     ]
    },
    {
     "name": "stderr",
     "output_type": "stream",
     "text": [
      "100%|██████████████████████████████████████████████████████████████████████████████████| 10/10 [00:01<00:00,  9.27it/s]\n"
     ]
    },
    {
     "name": "stdout",
     "output_type": "stream",
     "text": [
      "epoch 281, loss: 0.69443, acc: 0.68127, val_loss: 1.32723, val_accuracy: 0.52014\n"
     ]
    },
    {
     "name": "stderr",
     "output_type": "stream",
     "text": [
      "100%|██████████████████████████████████████████████████████████████████████████████████| 10/10 [00:01<00:00,  8.17it/s]\n"
     ]
    },
    {
     "name": "stdout",
     "output_type": "stream",
     "text": [
      "epoch 282, loss: 0.69530, acc: 0.67458, val_loss: 1.34226, val_accuracy: 0.51964\n"
     ]
    },
    {
     "name": "stderr",
     "output_type": "stream",
     "text": [
      "100%|██████████████████████████████████████████████████████████████████████████████████| 10/10 [00:01<00:00,  8.01it/s]\n"
     ]
    },
    {
     "name": "stdout",
     "output_type": "stream",
     "text": [
      "epoch 283, loss: 0.69446, acc: 0.68167, val_loss: 1.31886, val_accuracy: 0.52044\n"
     ]
    },
    {
     "name": "stderr",
     "output_type": "stream",
     "text": [
      "100%|██████████████████████████████████████████████████████████████████████████████████| 10/10 [00:01<00:00,  8.11it/s]\n"
     ]
    },
    {
     "name": "stdout",
     "output_type": "stream",
     "text": [
      "epoch 284, loss: 0.69512, acc: 0.67499, val_loss: 1.34408, val_accuracy: 0.51944\n"
     ]
    },
    {
     "name": "stderr",
     "output_type": "stream",
     "text": [
      "100%|██████████████████████████████████████████████████████████████████████████████████| 10/10 [00:01<00:00,  8.26it/s]\n"
     ]
    },
    {
     "name": "stdout",
     "output_type": "stream",
     "text": [
      "epoch 285, loss: 0.69247, acc: 0.68433, val_loss: 1.33268, val_accuracy: 0.52014\n"
     ]
    },
    {
     "name": "stderr",
     "output_type": "stream",
     "text": [
      "100%|██████████████████████████████████████████████████████████████████████████████████| 10/10 [00:01<00:00,  8.19it/s]\n"
     ]
    },
    {
     "name": "stdout",
     "output_type": "stream",
     "text": [
      "epoch 286, loss: 0.69301, acc: 0.67495, val_loss: 1.35025, val_accuracy: 0.51994\n"
     ]
    },
    {
     "name": "stderr",
     "output_type": "stream",
     "text": [
      "100%|██████████████████████████████████████████████████████████████████████████████████| 10/10 [00:01<00:00,  8.19it/s]\n"
     ]
    },
    {
     "name": "stdout",
     "output_type": "stream",
     "text": [
      "epoch 287, loss: 0.68924, acc: 0.68482, val_loss: 1.33192, val_accuracy: 0.52242\n"
     ]
    },
    {
     "name": "stderr",
     "output_type": "stream",
     "text": [
      "100%|██████████████████████████████████████████████████████████████████████████████████| 10/10 [00:01<00:00,  7.27it/s]\n"
     ]
    },
    {
     "name": "stdout",
     "output_type": "stream",
     "text": [
      "epoch 288, loss: 0.69103, acc: 0.67791, val_loss: 1.34909, val_accuracy: 0.52093\n"
     ]
    },
    {
     "name": "stderr",
     "output_type": "stream",
     "text": [
      "100%|██████████████████████████████████████████████████████████████████████████████████| 10/10 [00:01<00:00,  9.33it/s]\n"
     ]
    },
    {
     "name": "stdout",
     "output_type": "stream",
     "text": [
      "epoch 289, loss: 0.68812, acc: 0.68431, val_loss: 1.33772, val_accuracy: 0.52163\n"
     ]
    },
    {
     "name": "stderr",
     "output_type": "stream",
     "text": [
      "100%|██████████████████████████████████████████████████████████████████████████████████| 10/10 [00:01<00:00,  8.76it/s]\n"
     ]
    },
    {
     "name": "stdout",
     "output_type": "stream",
     "text": [
      "epoch 290, loss: 0.68999, acc: 0.67842, val_loss: 1.33539, val_accuracy: 0.52192\n"
     ]
    },
    {
     "name": "stderr",
     "output_type": "stream",
     "text": [
      "100%|██████████████████████████████████████████████████████████████████████████████████| 10/10 [00:01<00:00,  8.28it/s]\n"
     ]
    },
    {
     "name": "stdout",
     "output_type": "stream",
     "text": [
      "epoch 291, loss: 0.68660, acc: 0.68551, val_loss: 1.34438, val_accuracy: 0.52262\n"
     ]
    },
    {
     "name": "stderr",
     "output_type": "stream",
     "text": [
      "100%|██████████████████████████████████████████████████████████████████████████████████| 10/10 [00:01<00:00,  8.22it/s]\n"
     ]
    },
    {
     "name": "stdout",
     "output_type": "stream",
     "text": [
      "epoch 292, loss: 0.68578, acc: 0.67912, val_loss: 1.34682, val_accuracy: 0.52163\n"
     ]
    },
    {
     "name": "stderr",
     "output_type": "stream",
     "text": [
      "100%|██████████████████████████████████████████████████████████████████████████████████| 10/10 [00:01<00:00,  7.59it/s]\n"
     ]
    },
    {
     "name": "stdout",
     "output_type": "stream",
     "text": [
      "epoch 293, loss: 0.68307, acc: 0.68727, val_loss: 1.34863, val_accuracy: 0.52331\n"
     ]
    },
    {
     "name": "stderr",
     "output_type": "stream",
     "text": [
      "100%|██████████████████████████████████████████████████████████████████████████████████| 10/10 [00:01<00:00,  8.25it/s]\n"
     ]
    },
    {
     "name": "stdout",
     "output_type": "stream",
     "text": [
      "epoch 294, loss: 0.68328, acc: 0.68369, val_loss: 1.35243, val_accuracy: 0.52371\n"
     ]
    },
    {
     "name": "stderr",
     "output_type": "stream",
     "text": [
      "100%|██████████████████████████████████████████████████████████████████████████████████| 10/10 [00:01<00:00,  7.54it/s]\n"
     ]
    },
    {
     "name": "stdout",
     "output_type": "stream",
     "text": [
      "epoch 295, loss: 0.68218, acc: 0.68911, val_loss: 1.34997, val_accuracy: 0.52292\n"
     ]
    },
    {
     "name": "stderr",
     "output_type": "stream",
     "text": [
      "100%|██████████████████████████████████████████████████████████████████████████████████| 10/10 [00:01<00:00,  8.17it/s]\n"
     ]
    },
    {
     "name": "stdout",
     "output_type": "stream",
     "text": [
      "epoch 296, loss: 0.68257, acc: 0.68250, val_loss: 1.34736, val_accuracy: 0.52321\n"
     ]
    },
    {
     "name": "stderr",
     "output_type": "stream",
     "text": [
      "100%|██████████████████████████████████████████████████████████████████████████████████| 10/10 [00:01<00:00,  8.23it/s]\n"
     ]
    },
    {
     "name": "stdout",
     "output_type": "stream",
     "text": [
      "epoch 297, loss: 0.67981, acc: 0.68828, val_loss: 1.35174, val_accuracy: 0.52212\n"
     ]
    },
    {
     "name": "stderr",
     "output_type": "stream",
     "text": [
      "100%|██████████████████████████████████████████████████████████████████████████████████| 10/10 [00:01<00:00,  8.36it/s]\n"
     ]
    },
    {
     "name": "stdout",
     "output_type": "stream",
     "text": [
      "epoch 298, loss: 0.68046, acc: 0.68352, val_loss: 1.35511, val_accuracy: 0.52421\n"
     ]
    },
    {
     "name": "stderr",
     "output_type": "stream",
     "text": [
      "100%|██████████████████████████████████████████████████████████████████████████████████| 10/10 [00:01<00:00,  7.87it/s]\n"
     ]
    },
    {
     "name": "stdout",
     "output_type": "stream",
     "text": [
      "epoch 299, loss: 0.67866, acc: 0.69043, val_loss: 1.35704, val_accuracy: 0.52411\n"
     ]
    },
    {
     "name": "stderr",
     "output_type": "stream",
     "text": [
      "100%|██████████████████████████████████████████████████████████████████████████████████| 10/10 [00:01<00:00,  7.97it/s]\n"
     ]
    },
    {
     "name": "stdout",
     "output_type": "stream",
     "text": [
      "epoch 300, loss: 0.67859, acc: 0.68616, val_loss: 1.35853, val_accuracy: 0.52401\n"
     ]
    },
    {
     "name": "stderr",
     "output_type": "stream",
     "text": [
      "100%|██████████████████████████████████████████████████████████████████████████████████| 10/10 [00:01<00:00,  8.19it/s]\n"
     ]
    },
    {
     "name": "stdout",
     "output_type": "stream",
     "text": [
      "epoch 301, loss: 0.67605, acc: 0.69320, val_loss: 1.34617, val_accuracy: 0.52113\n"
     ]
    },
    {
     "name": "stderr",
     "output_type": "stream",
     "text": [
      "100%|██████████████████████████████████████████████████████████████████████████████████| 10/10 [00:01<00:00,  7.68it/s]\n"
     ]
    },
    {
     "name": "stdout",
     "output_type": "stream",
     "text": [
      "epoch 302, loss: 0.67662, acc: 0.68736, val_loss: 1.35671, val_accuracy: 0.52500\n"
     ]
    },
    {
     "name": "stderr",
     "output_type": "stream",
     "text": [
      "100%|██████████████████████████████████████████████████████████████████████████████████| 10/10 [00:01<00:00,  8.22it/s]\n"
     ]
    },
    {
     "name": "stdout",
     "output_type": "stream",
     "text": [
      "epoch 303, loss: 0.67349, acc: 0.69381, val_loss: 1.35939, val_accuracy: 0.52371\n"
     ]
    },
    {
     "name": "stderr",
     "output_type": "stream",
     "text": [
      "100%|██████████████████████████████████████████████████████████████████████████████████| 10/10 [00:01<00:00,  8.11it/s]\n"
     ]
    },
    {
     "name": "stdout",
     "output_type": "stream",
     "text": [
      "epoch 304, loss: 0.67575, acc: 0.68673, val_loss: 1.36959, val_accuracy: 0.52411\n"
     ]
    },
    {
     "name": "stderr",
     "output_type": "stream",
     "text": [
      "100%|██████████████████████████████████████████████████████████████████████████████████| 10/10 [00:01<00:00,  8.30it/s]\n"
     ]
    },
    {
     "name": "stdout",
     "output_type": "stream",
     "text": [
      "epoch 305, loss: 0.67211, acc: 0.69403, val_loss: 1.36186, val_accuracy: 0.52351\n"
     ]
    },
    {
     "name": "stderr",
     "output_type": "stream",
     "text": [
      "100%|██████████████████████████████████████████████████████████████████████████████████| 10/10 [00:01<00:00,  8.05it/s]\n"
     ]
    },
    {
     "name": "stdout",
     "output_type": "stream",
     "text": [
      "epoch 306, loss: 0.67334, acc: 0.68777, val_loss: 1.35977, val_accuracy: 0.52619\n"
     ]
    },
    {
     "name": "stderr",
     "output_type": "stream",
     "text": [
      "100%|██████████████████████████████████████████████████████████████████████████████████| 10/10 [00:01<00:00,  8.01it/s]\n"
     ]
    },
    {
     "name": "stdout",
     "output_type": "stream",
     "text": [
      "epoch 307, loss: 0.67026, acc: 0.69468, val_loss: 1.36012, val_accuracy: 0.52440\n"
     ]
    },
    {
     "name": "stderr",
     "output_type": "stream",
     "text": [
      "100%|██████████████████████████████████████████████████████████████████████████████████| 10/10 [00:01<00:00,  7.54it/s]\n"
     ]
    },
    {
     "name": "stdout",
     "output_type": "stream",
     "text": [
      "epoch 308, loss: 0.67201, acc: 0.68746, val_loss: 1.35613, val_accuracy: 0.52609\n"
     ]
    },
    {
     "name": "stderr",
     "output_type": "stream",
     "text": [
      "100%|██████████████████████████████████████████████████████████████████████████████████| 10/10 [00:01<00:00,  8.19it/s]\n"
     ]
    },
    {
     "name": "stdout",
     "output_type": "stream",
     "text": [
      "epoch 309, loss: 0.66895, acc: 0.69497, val_loss: 1.37029, val_accuracy: 0.52589\n"
     ]
    },
    {
     "name": "stderr",
     "output_type": "stream",
     "text": [
      "100%|██████████████████████████████████████████████████████████████████████████████████| 10/10 [00:01<00:00,  7.44it/s]\n"
     ]
    },
    {
     "name": "stdout",
     "output_type": "stream",
     "text": [
      "epoch 310, loss: 0.67034, acc: 0.68866, val_loss: 1.36773, val_accuracy: 0.52540\n"
     ]
    },
    {
     "name": "stderr",
     "output_type": "stream",
     "text": [
      "100%|██████████████████████████████████████████████████████████████████████████████████| 10/10 [00:01<00:00,  9.12it/s]\n"
     ]
    },
    {
     "name": "stdout",
     "output_type": "stream",
     "text": [
      "epoch 311, loss: 0.66731, acc: 0.69549, val_loss: 1.37605, val_accuracy: 0.52599\n"
     ]
    },
    {
     "name": "stderr",
     "output_type": "stream",
     "text": [
      "100%|██████████████████████████████████████████████████████████████████████████████████| 10/10 [00:00<00:00, 10.33it/s]\n"
     ]
    },
    {
     "name": "stdout",
     "output_type": "stream",
     "text": [
      "epoch 312, loss: 0.66906, acc: 0.68846, val_loss: 1.36494, val_accuracy: 0.52768\n"
     ]
    },
    {
     "name": "stderr",
     "output_type": "stream",
     "text": [
      "100%|██████████████████████████████████████████████████████████████████████████████████| 10/10 [00:00<00:00, 10.21it/s]\n"
     ]
    },
    {
     "name": "stdout",
     "output_type": "stream",
     "text": [
      "epoch 313, loss: 0.66533, acc: 0.69456, val_loss: 1.37796, val_accuracy: 0.52748\n"
     ]
    },
    {
     "name": "stderr",
     "output_type": "stream",
     "text": [
      "100%|██████████████████████████████████████████████████████████████████████████████████| 10/10 [00:01<00:00,  9.28it/s]\n"
     ]
    },
    {
     "name": "stdout",
     "output_type": "stream",
     "text": [
      "epoch 314, loss: 0.66562, acc: 0.68951, val_loss: 1.37353, val_accuracy: 0.52817\n"
     ]
    },
    {
     "name": "stderr",
     "output_type": "stream",
     "text": [
      "100%|██████████████████████████████████████████████████████████████████████████████████| 10/10 [00:01<00:00,  8.54it/s]\n"
     ]
    },
    {
     "name": "stdout",
     "output_type": "stream",
     "text": [
      "epoch 315, loss: 0.66524, acc: 0.69499, val_loss: 1.37660, val_accuracy: 0.52679\n"
     ]
    },
    {
     "name": "stderr",
     "output_type": "stream",
     "text": [
      "100%|██████████████████████████████████████████████████████████████████████████████████| 10/10 [00:01<00:00,  8.17it/s]\n"
     ]
    },
    {
     "name": "stdout",
     "output_type": "stream",
     "text": [
      "epoch 316, loss: 0.66475, acc: 0.69182, val_loss: 1.36460, val_accuracy: 0.52887\n"
     ]
    },
    {
     "name": "stderr",
     "output_type": "stream",
     "text": [
      "100%|██████████████████████████████████████████████████████████████████████████████████| 10/10 [00:01<00:00,  8.04it/s]\n"
     ]
    },
    {
     "name": "stdout",
     "output_type": "stream",
     "text": [
      "epoch 317, loss: 0.66159, acc: 0.69691, val_loss: 1.37841, val_accuracy: 0.53056\n"
     ]
    },
    {
     "name": "stderr",
     "output_type": "stream",
     "text": [
      "100%|██████████████████████████████████████████████████████████████████████████████████| 10/10 [00:01<00:00,  7.92it/s]\n"
     ]
    },
    {
     "name": "stdout",
     "output_type": "stream",
     "text": [
      "epoch 318, loss: 0.66137, acc: 0.69370, val_loss: 1.39233, val_accuracy: 0.53194\n"
     ]
    },
    {
     "name": "stderr",
     "output_type": "stream",
     "text": [
      "100%|██████████████████████████████████████████████████████████████████████████████████| 10/10 [00:00<00:00, 10.19it/s]\n"
     ]
    },
    {
     "name": "stdout",
     "output_type": "stream",
     "text": [
      "epoch 319, loss: 0.66102, acc: 0.69677, val_loss: 1.37604, val_accuracy: 0.53155\n"
     ]
    },
    {
     "name": "stderr",
     "output_type": "stream",
     "text": [
      "100%|██████████████████████████████████████████████████████████████████████████████████| 10/10 [00:01<00:00,  9.41it/s]\n"
     ]
    },
    {
     "name": "stdout",
     "output_type": "stream",
     "text": [
      "epoch 320, loss: 0.65902, acc: 0.69470, val_loss: 1.38898, val_accuracy: 0.53214\n"
     ]
    },
    {
     "name": "stderr",
     "output_type": "stream",
     "text": [
      "100%|██████████████████████████████████████████████████████████████████████████████████| 10/10 [00:01<00:00,  9.34it/s]\n"
     ]
    },
    {
     "name": "stdout",
     "output_type": "stream",
     "text": [
      "epoch 321, loss: 0.65891, acc: 0.69829, val_loss: 1.37376, val_accuracy: 0.53145\n"
     ]
    },
    {
     "name": "stderr",
     "output_type": "stream",
     "text": [
      "100%|██████████████████████████████████████████████████████████████████████████████████| 10/10 [00:01<00:00,  7.95it/s]\n"
     ]
    },
    {
     "name": "stdout",
     "output_type": "stream",
     "text": [
      "epoch 322, loss: 0.65875, acc: 0.69662, val_loss: 1.38376, val_accuracy: 0.53214\n"
     ]
    },
    {
     "name": "stderr",
     "output_type": "stream",
     "text": [
      "100%|██████████████████████████████████████████████████████████████████████████████████| 10/10 [00:01<00:00,  7.15it/s]\n"
     ]
    },
    {
     "name": "stdout",
     "output_type": "stream",
     "text": [
      "epoch 323, loss: 0.65485, acc: 0.70124, val_loss: 1.38205, val_accuracy: 0.53115\n"
     ]
    },
    {
     "name": "stderr",
     "output_type": "stream",
     "text": [
      "100%|██████████████████████████████████████████████████████████████████████████████████| 10/10 [00:01<00:00,  7.07it/s]\n"
     ]
    },
    {
     "name": "stdout",
     "output_type": "stream",
     "text": [
      "epoch 324, loss: 0.65599, acc: 0.69989, val_loss: 1.38930, val_accuracy: 0.53839\n"
     ]
    },
    {
     "name": "stderr",
     "output_type": "stream",
     "text": [
      "100%|██████████████████████████████████████████████████████████████████████████████████| 10/10 [00:00<00:00, 10.20it/s]\n"
     ]
    },
    {
     "name": "stdout",
     "output_type": "stream",
     "text": [
      "epoch 325, loss: 0.65280, acc: 0.70529, val_loss: 1.38777, val_accuracy: 0.53373\n"
     ]
    },
    {
     "name": "stderr",
     "output_type": "stream",
     "text": [
      "100%|██████████████████████████████████████████████████████████████████████████████████| 10/10 [00:00<00:00, 10.19it/s]\n"
     ]
    },
    {
     "name": "stdout",
     "output_type": "stream",
     "text": [
      "epoch 326, loss: 0.65332, acc: 0.69779, val_loss: 1.39436, val_accuracy: 0.53333\n"
     ]
    },
    {
     "name": "stderr",
     "output_type": "stream",
     "text": [
      "100%|██████████████████████████████████████████████████████████████████████████████████| 10/10 [00:01<00:00,  9.05it/s]\n"
     ]
    },
    {
     "name": "stdout",
     "output_type": "stream",
     "text": [
      "epoch 327, loss: 0.65197, acc: 0.70238, val_loss: 1.39774, val_accuracy: 0.53353\n"
     ]
    },
    {
     "name": "stderr",
     "output_type": "stream",
     "text": [
      "100%|██████████████████████████████████████████████████████████████████████████████████| 10/10 [00:01<00:00,  9.12it/s]\n"
     ]
    },
    {
     "name": "stdout",
     "output_type": "stream",
     "text": [
      "epoch 328, loss: 0.65242, acc: 0.70151, val_loss: 1.39734, val_accuracy: 0.53978\n"
     ]
    },
    {
     "name": "stderr",
     "output_type": "stream",
     "text": [
      "100%|██████████████████████████████████████████████████████████████████████████████████| 10/10 [00:01<00:00,  9.70it/s]\n"
     ]
    },
    {
     "name": "stdout",
     "output_type": "stream",
     "text": [
      "epoch 329, loss: 0.65005, acc: 0.70535, val_loss: 1.40004, val_accuracy: 0.53403\n"
     ]
    },
    {
     "name": "stderr",
     "output_type": "stream",
     "text": [
      "100%|██████████████████████████████████████████████████████████████████████████████████| 10/10 [00:00<00:00, 10.20it/s]\n"
     ]
    },
    {
     "name": "stdout",
     "output_type": "stream",
     "text": [
      "epoch 330, loss: 0.65120, acc: 0.70099, val_loss: 1.39167, val_accuracy: 0.53571\n"
     ]
    },
    {
     "name": "stderr",
     "output_type": "stream",
     "text": [
      "100%|██████████████████████████████████████████████████████████████████████████████████| 10/10 [00:00<00:00, 10.34it/s]\n"
     ]
    },
    {
     "name": "stdout",
     "output_type": "stream",
     "text": [
      "epoch 331, loss: 0.64956, acc: 0.70437, val_loss: 1.39745, val_accuracy: 0.53571\n"
     ]
    },
    {
     "name": "stderr",
     "output_type": "stream",
     "text": [
      "100%|██████████████████████████████████████████████████████████████████████████████████| 10/10 [00:01<00:00,  9.74it/s]\n"
     ]
    },
    {
     "name": "stdout",
     "output_type": "stream",
     "text": [
      "epoch 332, loss: 0.65010, acc: 0.70234, val_loss: 1.39759, val_accuracy: 0.53929\n"
     ]
    },
    {
     "name": "stderr",
     "output_type": "stream",
     "text": [
      "100%|██████████████████████████████████████████████████████████████████████████████████| 10/10 [00:01<00:00,  8.86it/s]\n"
     ]
    },
    {
     "name": "stdout",
     "output_type": "stream",
     "text": [
      "epoch 333, loss: 0.64643, acc: 0.70829, val_loss: 1.40594, val_accuracy: 0.53700\n"
     ]
    },
    {
     "name": "stderr",
     "output_type": "stream",
     "text": [
      "100%|██████████████████████████████████████████████████████████████████████████████████| 10/10 [00:01<00:00,  8.33it/s]\n"
     ]
    },
    {
     "name": "stdout",
     "output_type": "stream",
     "text": [
      "epoch 334, loss: 0.64813, acc: 0.70066, val_loss: 1.40578, val_accuracy: 0.54137\n"
     ]
    },
    {
     "name": "stderr",
     "output_type": "stream",
     "text": [
      "100%|██████████████████████████████████████████████████████████████████████████████████| 10/10 [00:01<00:00,  8.38it/s]\n"
     ]
    },
    {
     "name": "stdout",
     "output_type": "stream",
     "text": [
      "epoch 335, loss: 0.64554, acc: 0.70837, val_loss: 1.39689, val_accuracy: 0.53790\n"
     ]
    },
    {
     "name": "stderr",
     "output_type": "stream",
     "text": [
      "100%|██████████████████████████████████████████████████████████████████████████████████| 10/10 [00:01<00:00,  8.19it/s]\n"
     ]
    },
    {
     "name": "stdout",
     "output_type": "stream",
     "text": [
      "epoch 336, loss: 0.64595, acc: 0.70271, val_loss: 1.40452, val_accuracy: 0.54206\n"
     ]
    },
    {
     "name": "stderr",
     "output_type": "stream",
     "text": [
      "100%|██████████████████████████████████████████████████████████████████████████████████| 10/10 [00:01<00:00,  7.56it/s]\n"
     ]
    },
    {
     "name": "stdout",
     "output_type": "stream",
     "text": [
      "epoch 337, loss: 0.64366, acc: 0.70979, val_loss: 1.40006, val_accuracy: 0.53938\n"
     ]
    },
    {
     "name": "stderr",
     "output_type": "stream",
     "text": [
      "100%|██████████████████████████████████████████████████████████████████████████████████| 10/10 [00:01<00:00,  8.00it/s]\n"
     ]
    },
    {
     "name": "stdout",
     "output_type": "stream",
     "text": [
      "epoch 338, loss: 0.64550, acc: 0.70361, val_loss: 1.40366, val_accuracy: 0.54196\n"
     ]
    },
    {
     "name": "stderr",
     "output_type": "stream",
     "text": [
      "100%|██████████████████████████████████████████████████████████████████████████████████| 10/10 [00:01<00:00,  8.11it/s]\n"
     ]
    },
    {
     "name": "stdout",
     "output_type": "stream",
     "text": [
      "epoch 339, loss: 0.64242, acc: 0.71201, val_loss: 1.40350, val_accuracy: 0.53859\n"
     ]
    },
    {
     "name": "stderr",
     "output_type": "stream",
     "text": [
      "100%|██████████████████████████████████████████████████████████████████████████████████| 10/10 [00:01<00:00,  8.57it/s]\n"
     ]
    },
    {
     "name": "stdout",
     "output_type": "stream",
     "text": [
      "epoch 340, loss: 0.64456, acc: 0.70215, val_loss: 1.40640, val_accuracy: 0.53919\n"
     ]
    },
    {
     "name": "stderr",
     "output_type": "stream",
     "text": [
      "100%|██████████████████████████████████████████████████████████████████████████████████| 10/10 [00:00<00:00, 10.24it/s]\n"
     ]
    },
    {
     "name": "stdout",
     "output_type": "stream",
     "text": [
      "epoch 341, loss: 0.64043, acc: 0.71331, val_loss: 1.41643, val_accuracy: 0.53909\n"
     ]
    },
    {
     "name": "stderr",
     "output_type": "stream",
     "text": [
      "100%|██████████████████████████████████████████████████████████████████████████████████| 10/10 [00:00<00:00, 10.31it/s]\n"
     ]
    },
    {
     "name": "stdout",
     "output_type": "stream",
     "text": [
      "epoch 342, loss: 0.64233, acc: 0.70547, val_loss: 1.40550, val_accuracy: 0.53988\n"
     ]
    },
    {
     "name": "stderr",
     "output_type": "stream",
     "text": [
      "100%|██████████████████████████████████████████████████████████████████████████████████| 10/10 [00:01<00:00,  9.52it/s]\n"
     ]
    },
    {
     "name": "stdout",
     "output_type": "stream",
     "text": [
      "epoch 343, loss: 0.64092, acc: 0.71002, val_loss: 1.41328, val_accuracy: 0.53849\n"
     ]
    },
    {
     "name": "stderr",
     "output_type": "stream",
     "text": [
      "100%|██████████████████████████████████████████████████████████████████████████████████| 10/10 [00:01<00:00,  8.30it/s]\n"
     ]
    },
    {
     "name": "stdout",
     "output_type": "stream",
     "text": [
      "epoch 344, loss: 0.64077, acc: 0.70544, val_loss: 1.39523, val_accuracy: 0.54008\n"
     ]
    },
    {
     "name": "stderr",
     "output_type": "stream",
     "text": [
      "100%|██████████████████████████████████████████████████████████████████████████████████| 10/10 [00:01<00:00,  8.02it/s]\n"
     ]
    },
    {
     "name": "stdout",
     "output_type": "stream",
     "text": [
      "epoch 345, loss: 0.63641, acc: 0.71301, val_loss: 1.41149, val_accuracy: 0.54196\n"
     ]
    },
    {
     "name": "stderr",
     "output_type": "stream",
     "text": [
      "100%|██████████████████████████████████████████████████████████████████████████████████| 10/10 [00:01<00:00,  8.22it/s]\n"
     ]
    },
    {
     "name": "stdout",
     "output_type": "stream",
     "text": [
      "epoch 346, loss: 0.63680, acc: 0.70593, val_loss: 1.40658, val_accuracy: 0.53968\n"
     ]
    },
    {
     "name": "stderr",
     "output_type": "stream",
     "text": [
      "100%|██████████████████████████████████████████████████████████████████████████████████| 10/10 [00:01<00:00,  8.06it/s]\n"
     ]
    },
    {
     "name": "stdout",
     "output_type": "stream",
     "text": [
      "epoch 347, loss: 0.63469, acc: 0.71293, val_loss: 1.41986, val_accuracy: 0.54276\n"
     ]
    },
    {
     "name": "stderr",
     "output_type": "stream",
     "text": [
      "100%|██████████████████████████████████████████████████████████████████████████████████| 10/10 [00:01<00:00,  8.28it/s]\n"
     ]
    },
    {
     "name": "stdout",
     "output_type": "stream",
     "text": [
      "epoch 348, loss: 0.63593, acc: 0.70778, val_loss: 1.39757, val_accuracy: 0.53988\n"
     ]
    },
    {
     "name": "stderr",
     "output_type": "stream",
     "text": [
      "100%|██████████████████████████████████████████████████████████████████████████████████| 10/10 [00:01<00:00,  8.14it/s]\n"
     ]
    },
    {
     "name": "stdout",
     "output_type": "stream",
     "text": [
      "epoch 349, loss: 0.63323, acc: 0.71507, val_loss: 1.41427, val_accuracy: 0.54187\n"
     ]
    },
    {
     "name": "stderr",
     "output_type": "stream",
     "text": [
      "100%|██████████████████████████████████████████████████████████████████████████████████| 10/10 [00:01<00:00,  7.29it/s]\n"
     ]
    },
    {
     "name": "stdout",
     "output_type": "stream",
     "text": [
      "epoch 350, loss: 0.63420, acc: 0.70840, val_loss: 1.40460, val_accuracy: 0.53978\n"
     ]
    },
    {
     "name": "stderr",
     "output_type": "stream",
     "text": [
      "100%|██████████████████████████████████████████████████████████████████████████████████| 10/10 [00:01<00:00,  8.08it/s]\n"
     ]
    },
    {
     "name": "stdout",
     "output_type": "stream",
     "text": [
      "epoch 351, loss: 0.63166, acc: 0.71293, val_loss: 1.42359, val_accuracy: 0.54266\n"
     ]
    },
    {
     "name": "stderr",
     "output_type": "stream",
     "text": [
      "100%|██████████████████████████████████████████████████████████████████████████████████| 10/10 [00:01<00:00,  7.99it/s]\n"
     ]
    },
    {
     "name": "stdout",
     "output_type": "stream",
     "text": [
      "epoch 352, loss: 0.63261, acc: 0.71430, val_loss: 1.40666, val_accuracy: 0.54107\n"
     ]
    },
    {
     "name": "stderr",
     "output_type": "stream",
     "text": [
      "100%|██████████████████████████████████████████████████████████████████████████████████| 10/10 [00:01<00:00,  8.05it/s]\n"
     ]
    },
    {
     "name": "stdout",
     "output_type": "stream",
     "text": [
      "epoch 353, loss: 0.62936, acc: 0.71605, val_loss: 1.42101, val_accuracy: 0.54335\n"
     ]
    },
    {
     "name": "stderr",
     "output_type": "stream",
     "text": [
      "100%|██████████████████████████████████████████████████████████████████████████████████| 10/10 [00:01<00:00,  8.14it/s]\n"
     ]
    },
    {
     "name": "stdout",
     "output_type": "stream",
     "text": [
      "epoch 354, loss: 0.62978, acc: 0.71630, val_loss: 1.41373, val_accuracy: 0.54167\n"
     ]
    },
    {
     "name": "stderr",
     "output_type": "stream",
     "text": [
      "100%|██████████████████████████████████████████████████████████████████████████████████| 10/10 [00:01<00:00,  7.82it/s]\n"
     ]
    },
    {
     "name": "stdout",
     "output_type": "stream",
     "text": [
      "epoch 355, loss: 0.63026, acc: 0.71709, val_loss: 1.42721, val_accuracy: 0.54177\n"
     ]
    },
    {
     "name": "stderr",
     "output_type": "stream",
     "text": [
      "100%|██████████████████████████████████████████████████████████████████████████████████| 10/10 [00:01<00:00,  7.99it/s]\n"
     ]
    },
    {
     "name": "stdout",
     "output_type": "stream",
     "text": [
      "epoch 356, loss: 0.62694, acc: 0.71853, val_loss: 1.42029, val_accuracy: 0.54375\n"
     ]
    },
    {
     "name": "stderr",
     "output_type": "stream",
     "text": [
      "100%|██████████████████████████████████████████████████████████████████████████████████| 10/10 [00:00<00:00, 10.32it/s]\n"
     ]
    },
    {
     "name": "stdout",
     "output_type": "stream",
     "text": [
      "epoch 357, loss: 0.62676, acc: 0.72025, val_loss: 1.41178, val_accuracy: 0.54395\n"
     ]
    },
    {
     "name": "stderr",
     "output_type": "stream",
     "text": [
      "100%|██████████████████████████████████████████████████████████████████████████████████| 10/10 [00:00<00:00, 10.25it/s]\n"
     ]
    },
    {
     "name": "stdout",
     "output_type": "stream",
     "text": [
      "epoch 358, loss: 0.62654, acc: 0.71638, val_loss: 1.42863, val_accuracy: 0.54325\n"
     ]
    },
    {
     "name": "stderr",
     "output_type": "stream",
     "text": [
      "100%|██████████████████████████████████████████████████████████████████████████████████| 10/10 [00:00<00:00, 10.33it/s]\n"
     ]
    },
    {
     "name": "stdout",
     "output_type": "stream",
     "text": [
      "epoch 359, loss: 0.62493, acc: 0.71776, val_loss: 1.41319, val_accuracy: 0.54246\n"
     ]
    },
    {
     "name": "stderr",
     "output_type": "stream",
     "text": [
      "100%|██████████████████████████████████████████████████████████████████████████████████| 10/10 [00:01<00:00,  9.95it/s]\n"
     ]
    },
    {
     "name": "stdout",
     "output_type": "stream",
     "text": [
      "epoch 360, loss: 0.62283, acc: 0.72190, val_loss: 1.43139, val_accuracy: 0.54583\n"
     ]
    },
    {
     "name": "stderr",
     "output_type": "stream",
     "text": [
      "100%|██████████████████████████████████████████████████████████████████████████████████| 10/10 [00:01<00:00,  9.31it/s]\n"
     ]
    },
    {
     "name": "stdout",
     "output_type": "stream",
     "text": [
      "epoch 361, loss: 0.62133, acc: 0.72205, val_loss: 1.41131, val_accuracy: 0.54216\n"
     ]
    },
    {
     "name": "stderr",
     "output_type": "stream",
     "text": [
      "100%|██████████████████████████████████████████████████████████████████████████████████| 10/10 [00:01<00:00,  7.73it/s]\n"
     ]
    },
    {
     "name": "stdout",
     "output_type": "stream",
     "text": [
      "epoch 362, loss: 0.62175, acc: 0.72197, val_loss: 1.43504, val_accuracy: 0.54534\n"
     ]
    },
    {
     "name": "stderr",
     "output_type": "stream",
     "text": [
      "100%|██████████████████████████████████████████████████████████████████████████████████| 10/10 [00:01<00:00,  8.93it/s]\n"
     ]
    },
    {
     "name": "stdout",
     "output_type": "stream",
     "text": [
      "epoch 363, loss: 0.61941, acc: 0.72458, val_loss: 1.41171, val_accuracy: 0.54216\n"
     ]
    },
    {
     "name": "stderr",
     "output_type": "stream",
     "text": [
      "100%|██████████████████████████████████████████████████████████████████████████████████| 10/10 [00:00<00:00, 10.16it/s]\n"
     ]
    },
    {
     "name": "stdout",
     "output_type": "stream",
     "text": [
      "epoch 364, loss: 0.62041, acc: 0.72101, val_loss: 1.44293, val_accuracy: 0.54623\n"
     ]
    },
    {
     "name": "stderr",
     "output_type": "stream",
     "text": [
      "100%|██████████████████████████████████████████████████████████████████████████████████| 10/10 [00:01<00:00,  9.94it/s]\n"
     ]
    },
    {
     "name": "stdout",
     "output_type": "stream",
     "text": [
      "epoch 365, loss: 0.61810, acc: 0.72393, val_loss: 1.40616, val_accuracy: 0.54395\n"
     ]
    },
    {
     "name": "stderr",
     "output_type": "stream",
     "text": [
      "100%|██████████████████████████████████████████████████████████████████████████████████| 10/10 [00:01<00:00,  9.32it/s]\n"
     ]
    },
    {
     "name": "stdout",
     "output_type": "stream",
     "text": [
      "epoch 366, loss: 0.62018, acc: 0.72235, val_loss: 1.44027, val_accuracy: 0.54722\n"
     ]
    },
    {
     "name": "stderr",
     "output_type": "stream",
     "text": [
      "100%|██████████████████████████████████████████████████████████████████████████████████| 10/10 [00:01<00:00,  8.19it/s]\n"
     ]
    },
    {
     "name": "stdout",
     "output_type": "stream",
     "text": [
      "epoch 367, loss: 0.61630, acc: 0.72539, val_loss: 1.41185, val_accuracy: 0.54395\n"
     ]
    },
    {
     "name": "stderr",
     "output_type": "stream",
     "text": [
      "100%|██████████████████████████████████████████████████████████████████████████████████| 10/10 [00:01<00:00,  7.74it/s]\n"
     ]
    },
    {
     "name": "stdout",
     "output_type": "stream",
     "text": [
      "epoch 368, loss: 0.61885, acc: 0.72423, val_loss: 1.44674, val_accuracy: 0.54712\n"
     ]
    },
    {
     "name": "stderr",
     "output_type": "stream",
     "text": [
      "100%|██████████████████████████████████████████████████████████████████████████████████| 10/10 [00:01<00:00,  7.79it/s]\n"
     ]
    },
    {
     "name": "stdout",
     "output_type": "stream",
     "text": [
      "epoch 369, loss: 0.61515, acc: 0.72566, val_loss: 1.41530, val_accuracy: 0.54335\n"
     ]
    },
    {
     "name": "stderr",
     "output_type": "stream",
     "text": [
      "100%|██████████████████████████████████████████████████████████████████████████████████| 10/10 [00:00<00:00, 10.18it/s]\n"
     ]
    },
    {
     "name": "stdout",
     "output_type": "stream",
     "text": [
      "epoch 370, loss: 0.61940, acc: 0.72264, val_loss: 1.44637, val_accuracy: 0.55119\n"
     ]
    },
    {
     "name": "stderr",
     "output_type": "stream",
     "text": [
      "100%|██████████████████████████████████████████████████████████████████████████████████| 10/10 [00:00<00:00, 10.06it/s]\n"
     ]
    },
    {
     "name": "stdout",
     "output_type": "stream",
     "text": [
      "epoch 371, loss: 0.61311, acc: 0.72539, val_loss: 1.42900, val_accuracy: 0.54375\n"
     ]
    },
    {
     "name": "stderr",
     "output_type": "stream",
     "text": [
      "100%|██████████████████████████████████████████████████████████████████████████████████| 10/10 [00:01<00:00,  9.91it/s]\n"
     ]
    },
    {
     "name": "stdout",
     "output_type": "stream",
     "text": [
      "epoch 372, loss: 0.61593, acc: 0.72466, val_loss: 1.45143, val_accuracy: 0.54653\n"
     ]
    },
    {
     "name": "stderr",
     "output_type": "stream",
     "text": [
      "100%|██████████████████████████████████████████████████████████████████████████████████| 10/10 [00:01<00:00,  9.33it/s]\n"
     ]
    },
    {
     "name": "stdout",
     "output_type": "stream",
     "text": [
      "epoch 373, loss: 0.61082, acc: 0.72801, val_loss: 1.43203, val_accuracy: 0.54603\n"
     ]
    },
    {
     "name": "stderr",
     "output_type": "stream",
     "text": [
      "100%|██████████████████████████████████████████████████████████████████████████████████| 10/10 [00:01<00:00,  8.97it/s]\n"
     ]
    },
    {
     "name": "stdout",
     "output_type": "stream",
     "text": [
      "epoch 374, loss: 0.61480, acc: 0.72578, val_loss: 1.44499, val_accuracy: 0.55149\n"
     ]
    },
    {
     "name": "stderr",
     "output_type": "stream",
     "text": [
      "100%|██████████████████████████████████████████████████████████████████████████████████| 10/10 [00:01<00:00,  7.52it/s]\n"
     ]
    },
    {
     "name": "stdout",
     "output_type": "stream",
     "text": [
      "epoch 375, loss: 0.60929, acc: 0.72790, val_loss: 1.43430, val_accuracy: 0.54464\n"
     ]
    },
    {
     "name": "stderr",
     "output_type": "stream",
     "text": [
      "100%|██████████████████████████████████████████████████████████████████████████████████| 10/10 [00:01<00:00,  7.52it/s]\n"
     ]
    },
    {
     "name": "stdout",
     "output_type": "stream",
     "text": [
      "epoch 376, loss: 0.61312, acc: 0.72545, val_loss: 1.45049, val_accuracy: 0.54692\n"
     ]
    },
    {
     "name": "stderr",
     "output_type": "stream",
     "text": [
      "100%|██████████████████████████████████████████████████████████████████████████████████| 10/10 [00:01<00:00,  7.95it/s]\n"
     ]
    },
    {
     "name": "stdout",
     "output_type": "stream",
     "text": [
      "epoch 377, loss: 0.60826, acc: 0.72927, val_loss: 1.44550, val_accuracy: 0.54623\n"
     ]
    },
    {
     "name": "stderr",
     "output_type": "stream",
     "text": [
      "100%|██████████████████████████████████████████████████████████████████████████████████| 10/10 [00:01<00:00,  8.16it/s]\n"
     ]
    },
    {
     "name": "stdout",
     "output_type": "stream",
     "text": [
      "epoch 378, loss: 0.61276, acc: 0.72467, val_loss: 1.45636, val_accuracy: 0.55119\n"
     ]
    },
    {
     "name": "stderr",
     "output_type": "stream",
     "text": [
      "100%|██████████████████████████████████████████████████████████████████████████████████| 10/10 [00:01<00:00,  8.26it/s]\n"
     ]
    },
    {
     "name": "stdout",
     "output_type": "stream",
     "text": [
      "epoch 379, loss: 0.60698, acc: 0.72874, val_loss: 1.44494, val_accuracy: 0.54563\n"
     ]
    },
    {
     "name": "stderr",
     "output_type": "stream",
     "text": [
      "100%|██████████████████████████████████████████████████████████████████████████████████| 10/10 [00:01<00:00,  8.06it/s]\n"
     ]
    },
    {
     "name": "stdout",
     "output_type": "stream",
     "text": [
      "epoch 380, loss: 0.61233, acc: 0.72655, val_loss: 1.46338, val_accuracy: 0.54653\n"
     ]
    },
    {
     "name": "stderr",
     "output_type": "stream",
     "text": [
      "100%|██████████████████████████████████████████████████████████████████████████████████| 10/10 [00:01<00:00,  7.97it/s]\n"
     ]
    },
    {
     "name": "stdout",
     "output_type": "stream",
     "text": [
      "epoch 381, loss: 0.60753, acc: 0.72736, val_loss: 1.45681, val_accuracy: 0.54593\n"
     ]
    },
    {
     "name": "stderr",
     "output_type": "stream",
     "text": [
      "100%|██████████████████████████████████████████████████████████████████████████████████| 10/10 [00:01<00:00,  8.19it/s]\n"
     ]
    },
    {
     "name": "stdout",
     "output_type": "stream",
     "text": [
      "epoch 382, loss: 0.61080, acc: 0.72691, val_loss: 1.46003, val_accuracy: 0.54683\n"
     ]
    },
    {
     "name": "stderr",
     "output_type": "stream",
     "text": [
      "100%|██████████████████████████████████████████████████████████████████████████████████| 10/10 [00:01<00:00,  7.79it/s]\n"
     ]
    },
    {
     "name": "stdout",
     "output_type": "stream",
     "text": [
      "epoch 383, loss: 0.60485, acc: 0.72918, val_loss: 1.45271, val_accuracy: 0.54683\n"
     ]
    },
    {
     "name": "stderr",
     "output_type": "stream",
     "text": [
      "100%|██████████████████████████████████████████████████████████████████████████████████| 10/10 [00:01<00:00,  7.80it/s]\n"
     ]
    },
    {
     "name": "stdout",
     "output_type": "stream",
     "text": [
      "epoch 384, loss: 0.60881, acc: 0.72842, val_loss: 1.45864, val_accuracy: 0.54802\n"
     ]
    },
    {
     "name": "stderr",
     "output_type": "stream",
     "text": [
      "100%|██████████████████████████████████████████████████████████████████████████████████| 10/10 [00:01<00:00,  7.88it/s]\n"
     ]
    },
    {
     "name": "stdout",
     "output_type": "stream",
     "text": [
      "epoch 385, loss: 0.60361, acc: 0.73186, val_loss: 1.46118, val_accuracy: 0.54554\n"
     ]
    },
    {
     "name": "stderr",
     "output_type": "stream",
     "text": [
      "100%|██████████████████████████████████████████████████████████████████████████████████| 10/10 [00:01<00:00,  8.00it/s]\n"
     ]
    },
    {
     "name": "stdout",
     "output_type": "stream",
     "text": [
      "epoch 386, loss: 0.60707, acc: 0.72996, val_loss: 1.45065, val_accuracy: 0.54891\n"
     ]
    },
    {
     "name": "stderr",
     "output_type": "stream",
     "text": [
      "100%|██████████████████████████████████████████████████████████████████████████████████| 10/10 [00:01<00:00,  8.08it/s]\n"
     ]
    },
    {
     "name": "stdout",
     "output_type": "stream",
     "text": [
      "epoch 387, loss: 0.60177, acc: 0.72983, val_loss: 1.46758, val_accuracy: 0.54563\n"
     ]
    },
    {
     "name": "stderr",
     "output_type": "stream",
     "text": [
      "100%|██████████████████████████████████████████████████████████████████████████████████| 10/10 [00:01<00:00,  7.34it/s]\n"
     ]
    },
    {
     "name": "stdout",
     "output_type": "stream",
     "text": [
      "epoch 388, loss: 0.60542, acc: 0.72775, val_loss: 1.45533, val_accuracy: 0.57312\n"
     ]
    },
    {
     "name": "stderr",
     "output_type": "stream",
     "text": [
      "100%|██████████████████████████████████████████████████████████████████████████████████| 10/10 [00:01<00:00,  7.49it/s]\n"
     ]
    },
    {
     "name": "stdout",
     "output_type": "stream",
     "text": [
      "epoch 389, loss: 0.60169, acc: 0.73251, val_loss: 1.45960, val_accuracy: 0.54841\n"
     ]
    },
    {
     "name": "stderr",
     "output_type": "stream",
     "text": [
      "100%|██████████████████████████████████████████████████████████████████████████████████| 10/10 [00:01<00:00,  7.97it/s]\n"
     ]
    },
    {
     "name": "stdout",
     "output_type": "stream",
     "text": [
      "epoch 390, loss: 0.60402, acc: 0.73004, val_loss: 1.46619, val_accuracy: 0.57371\n"
     ]
    },
    {
     "name": "stderr",
     "output_type": "stream",
     "text": [
      "100%|██████████████████████████████████████████████████████████████████████████████████| 10/10 [00:01<00:00,  7.92it/s]\n"
     ]
    },
    {
     "name": "stdout",
     "output_type": "stream",
     "text": [
      "epoch 391, loss: 0.60166, acc: 0.72829, val_loss: 1.45536, val_accuracy: 0.54871\n"
     ]
    },
    {
     "name": "stderr",
     "output_type": "stream",
     "text": [
      "100%|██████████████████████████████████████████████████████████████████████████████████| 10/10 [00:01<00:00,  8.14it/s]\n"
     ]
    },
    {
     "name": "stdout",
     "output_type": "stream",
     "text": [
      "epoch 392, loss: 0.60282, acc: 0.72882, val_loss: 1.47186, val_accuracy: 0.57113\n"
     ]
    },
    {
     "name": "stderr",
     "output_type": "stream",
     "text": [
      "100%|██████████████████████████████████████████████████████████████████████████████████| 10/10 [00:01<00:00,  8.12it/s]\n"
     ]
    },
    {
     "name": "stdout",
     "output_type": "stream",
     "text": [
      "epoch 393, loss: 0.60038, acc: 0.73110, val_loss: 1.45631, val_accuracy: 0.54821\n"
     ]
    },
    {
     "name": "stderr",
     "output_type": "stream",
     "text": [
      "100%|██████████████████████████████████████████████████████████████████████████████████| 10/10 [00:01<00:00,  8.19it/s]\n"
     ]
    },
    {
     "name": "stdout",
     "output_type": "stream",
     "text": [
      "epoch 394, loss: 0.60227, acc: 0.73369, val_loss: 1.47306, val_accuracy: 0.57510\n"
     ]
    },
    {
     "name": "stderr",
     "output_type": "stream",
     "text": [
      "100%|██████████████████████████████████████████████████████████████████████████████████| 10/10 [00:01<00:00,  8.05it/s]\n"
     ]
    },
    {
     "name": "stdout",
     "output_type": "stream",
     "text": [
      "epoch 395, loss: 0.59792, acc: 0.73486, val_loss: 1.45392, val_accuracy: 0.54990\n"
     ]
    },
    {
     "name": "stderr",
     "output_type": "stream",
     "text": [
      "100%|██████████████████████████████████████████████████████████████████████████████████| 10/10 [00:01<00:00,  7.93it/s]\n"
     ]
    },
    {
     "name": "stdout",
     "output_type": "stream",
     "text": [
      "epoch 396, loss: 0.59968, acc: 0.73509, val_loss: 1.47188, val_accuracy: 0.57321\n"
     ]
    },
    {
     "name": "stderr",
     "output_type": "stream",
     "text": [
      "100%|██████████████████████████████████████████████████████████████████████████████████| 10/10 [00:01<00:00,  7.61it/s]\n"
     ]
    },
    {
     "name": "stdout",
     "output_type": "stream",
     "text": [
      "epoch 397, loss: 0.59605, acc: 0.73211, val_loss: 1.46859, val_accuracy: 0.54881\n"
     ]
    },
    {
     "name": "stderr",
     "output_type": "stream",
     "text": [
      "100%|██████████████████████████████████████████████████████████████████████████████████| 10/10 [00:01<00:00,  7.57it/s]\n"
     ]
    },
    {
     "name": "stdout",
     "output_type": "stream",
     "text": [
      "epoch 398, loss: 0.59718, acc: 0.73353, val_loss: 1.47458, val_accuracy: 0.57688\n"
     ]
    },
    {
     "name": "stderr",
     "output_type": "stream",
     "text": [
      "100%|██████████████████████████████████████████████████████████████████████████████████| 10/10 [00:01<00:00,  8.59it/s]\n"
     ]
    },
    {
     "name": "stdout",
     "output_type": "stream",
     "text": [
      "epoch 399, loss: 0.59289, acc: 0.73737, val_loss: 1.46792, val_accuracy: 0.55754\n"
     ]
    },
    {
     "name": "stderr",
     "output_type": "stream",
     "text": [
      "100%|██████████████████████████████████████████████████████████████████████████████████| 10/10 [00:01<00:00,  8.27it/s]\n"
     ]
    },
    {
     "name": "stdout",
     "output_type": "stream",
     "text": [
      "epoch 400, loss: 0.59603, acc: 0.73740, val_loss: 1.47423, val_accuracy: 0.57649\n"
     ]
    },
    {
     "name": "stderr",
     "output_type": "stream",
     "text": [
      "100%|██████████████████████████████████████████████████████████████████████████████████| 10/10 [00:01<00:00,  7.60it/s]\n"
     ]
    },
    {
     "name": "stdout",
     "output_type": "stream",
     "text": [
      "epoch 401, loss: 0.59130, acc: 0.73905, val_loss: 1.46424, val_accuracy: 0.55179\n"
     ]
    },
    {
     "name": "stderr",
     "output_type": "stream",
     "text": [
      "100%|██████████████████████████████████████████████████████████████████████████████████| 10/10 [00:01<00:00,  7.47it/s]\n"
     ]
    },
    {
     "name": "stdout",
     "output_type": "stream",
     "text": [
      "epoch 402, loss: 0.59320, acc: 0.74024, val_loss: 1.48201, val_accuracy: 0.57808\n"
     ]
    },
    {
     "name": "stderr",
     "output_type": "stream",
     "text": [
      "100%|██████████████████████████████████████████████████████████████████████████████████| 10/10 [00:01<00:00,  8.04it/s]\n"
     ]
    },
    {
     "name": "stdout",
     "output_type": "stream",
     "text": [
      "epoch 403, loss: 0.58901, acc: 0.73871, val_loss: 1.47277, val_accuracy: 0.57788\n"
     ]
    },
    {
     "name": "stderr",
     "output_type": "stream",
     "text": [
      "100%|██████████████████████████████████████████████████████████████████████████████████| 10/10 [00:01<00:00,  8.60it/s]\n"
     ]
    },
    {
     "name": "stdout",
     "output_type": "stream",
     "text": [
      "epoch 404, loss: 0.59173, acc: 0.73815, val_loss: 1.47624, val_accuracy: 0.57510\n"
     ]
    },
    {
     "name": "stderr",
     "output_type": "stream",
     "text": [
      "100%|██████████████████████████████████████████████████████████████████████████████████| 10/10 [00:01<00:00,  7.34it/s]\n"
     ]
    },
    {
     "name": "stdout",
     "output_type": "stream",
     "text": [
      "epoch 405, loss: 0.58891, acc: 0.74046, val_loss: 1.47041, val_accuracy: 0.58244\n"
     ]
    },
    {
     "name": "stderr",
     "output_type": "stream",
     "text": [
      "100%|██████████████████████████████████████████████████████████████████████████████████| 10/10 [00:01<00:00,  9.65it/s]\n"
     ]
    },
    {
     "name": "stdout",
     "output_type": "stream",
     "text": [
      "epoch 406, loss: 0.59184, acc: 0.73949, val_loss: 1.47530, val_accuracy: 0.58413\n"
     ]
    },
    {
     "name": "stderr",
     "output_type": "stream",
     "text": [
      "100%|██████████████████████████████████████████████████████████████████████████████████| 10/10 [00:01<00:00,  9.93it/s]\n"
     ]
    },
    {
     "name": "stdout",
     "output_type": "stream",
     "text": [
      "epoch 407, loss: 0.58608, acc: 0.74145, val_loss: 1.48106, val_accuracy: 0.57440\n"
     ]
    },
    {
     "name": "stderr",
     "output_type": "stream",
     "text": [
      "100%|██████████████████████████████████████████████████████████████████████████████████| 10/10 [00:01<00:00,  8.93it/s]\n"
     ]
    },
    {
     "name": "stdout",
     "output_type": "stream",
     "text": [
      "epoch 408, loss: 0.59178, acc: 0.73797, val_loss: 1.48529, val_accuracy: 0.57808\n"
     ]
    },
    {
     "name": "stderr",
     "output_type": "stream",
     "text": [
      "100%|██████████████████████████████████████████████████████████████████████████████████| 10/10 [00:01<00:00,  9.18it/s]\n"
     ]
    },
    {
     "name": "stdout",
     "output_type": "stream",
     "text": [
      "epoch 409, loss: 0.58581, acc: 0.74436, val_loss: 1.47089, val_accuracy: 0.57877\n"
     ]
    },
    {
     "name": "stderr",
     "output_type": "stream",
     "text": [
      "100%|██████████████████████████████████████████████████████████████████████████████████| 10/10 [00:01<00:00,  7.67it/s]\n"
     ]
    },
    {
     "name": "stdout",
     "output_type": "stream",
     "text": [
      "epoch 410, loss: 0.59048, acc: 0.74202, val_loss: 1.48374, val_accuracy: 0.58185\n"
     ]
    },
    {
     "name": "stderr",
     "output_type": "stream",
     "text": [
      "100%|██████████████████████████████████████████████████████████████████████████████████| 10/10 [00:01<00:00,  8.24it/s]\n"
     ]
    },
    {
     "name": "stdout",
     "output_type": "stream",
     "text": [
      "epoch 411, loss: 0.58552, acc: 0.74462, val_loss: 1.46052, val_accuracy: 0.57728\n"
     ]
    },
    {
     "name": "stderr",
     "output_type": "stream",
     "text": [
      "100%|██████████████████████████████████████████████████████████████████████████████████| 10/10 [00:01<00:00,  8.19it/s]\n"
     ]
    },
    {
     "name": "stdout",
     "output_type": "stream",
     "text": [
      "epoch 412, loss: 0.58731, acc: 0.74099, val_loss: 1.48682, val_accuracy: 0.58343\n"
     ]
    },
    {
     "name": "stderr",
     "output_type": "stream",
     "text": [
      "100%|██████████████████████████████████████████████████████████████████████████████████| 10/10 [00:01<00:00,  7.80it/s]\n"
     ]
    },
    {
     "name": "stdout",
     "output_type": "stream",
     "text": [
      "epoch 413, loss: 0.58605, acc: 0.74350, val_loss: 1.47281, val_accuracy: 0.57996\n"
     ]
    },
    {
     "name": "stderr",
     "output_type": "stream",
     "text": [
      "100%|██████████████████████████████████████████████████████████████████████████████████| 10/10 [00:01<00:00,  8.11it/s]\n"
     ]
    },
    {
     "name": "stdout",
     "output_type": "stream",
     "text": [
      "epoch 414, loss: 0.58761, acc: 0.74154, val_loss: 1.49264, val_accuracy: 0.57847\n"
     ]
    },
    {
     "name": "stderr",
     "output_type": "stream",
     "text": [
      "100%|██████████████████████████████████████████████████████████████████████████████████| 10/10 [00:01<00:00,  8.22it/s]\n"
     ]
    },
    {
     "name": "stdout",
     "output_type": "stream",
     "text": [
      "epoch 415, loss: 0.58222, acc: 0.74519, val_loss: 1.47383, val_accuracy: 0.57956\n"
     ]
    },
    {
     "name": "stderr",
     "output_type": "stream",
     "text": [
      "100%|██████████████████████████████████████████████████████████████████████████████████| 10/10 [00:01<00:00,  8.20it/s]\n"
     ]
    },
    {
     "name": "stdout",
     "output_type": "stream",
     "text": [
      "epoch 416, loss: 0.58496, acc: 0.74369, val_loss: 1.48694, val_accuracy: 0.58819\n"
     ]
    },
    {
     "name": "stderr",
     "output_type": "stream",
     "text": [
      "100%|██████████████████████████████████████████████████████████████████████████████████| 10/10 [00:01<00:00,  7.33it/s]\n"
     ]
    },
    {
     "name": "stdout",
     "output_type": "stream",
     "text": [
      "epoch 417, loss: 0.58069, acc: 0.74784, val_loss: 1.47835, val_accuracy: 0.58800\n"
     ]
    },
    {
     "name": "stderr",
     "output_type": "stream",
     "text": [
      "100%|██████████████████████████████████████████████████████████████████████████████████| 10/10 [00:00<00:00, 10.07it/s]\n"
     ]
    },
    {
     "name": "stdout",
     "output_type": "stream",
     "text": [
      "epoch 418, loss: 0.58332, acc: 0.74531, val_loss: 1.49180, val_accuracy: 0.58304\n"
     ]
    },
    {
     "name": "stderr",
     "output_type": "stream",
     "text": [
      "100%|██████████████████████████████████████████████████████████████████████████████████| 10/10 [00:00<00:00, 10.07it/s]\n"
     ]
    },
    {
     "name": "stdout",
     "output_type": "stream",
     "text": [
      "epoch 419, loss: 0.57990, acc: 0.74653, val_loss: 1.47674, val_accuracy: 0.58651\n"
     ]
    },
    {
     "name": "stderr",
     "output_type": "stream",
     "text": [
      "100%|██████████████████████████████████████████████████████████████████████████████████| 10/10 [00:01<00:00,  9.41it/s]\n"
     ]
    },
    {
     "name": "stdout",
     "output_type": "stream",
     "text": [
      "epoch 420, loss: 0.58029, acc: 0.74792, val_loss: 1.49085, val_accuracy: 0.59008\n"
     ]
    },
    {
     "name": "stderr",
     "output_type": "stream",
     "text": [
      "100%|██████████████████████████████████████████████████████████████████████████████████| 10/10 [00:01<00:00,  8.74it/s]\n"
     ]
    },
    {
     "name": "stdout",
     "output_type": "stream",
     "text": [
      "epoch 421, loss: 0.57718, acc: 0.75006, val_loss: 1.48391, val_accuracy: 0.58958\n"
     ]
    },
    {
     "name": "stderr",
     "output_type": "stream",
     "text": [
      "100%|██████████████████████████████████████████████████████████████████████████████████| 10/10 [00:01<00:00,  7.88it/s]\n"
     ]
    },
    {
     "name": "stdout",
     "output_type": "stream",
     "text": [
      "epoch 422, loss: 0.57993, acc: 0.74686, val_loss: 1.49549, val_accuracy: 0.59306\n"
     ]
    },
    {
     "name": "stderr",
     "output_type": "stream",
     "text": [
      "100%|██████████████████████████████████████████████████████████████████████████████████| 10/10 [00:01<00:00,  7.84it/s]\n"
     ]
    },
    {
     "name": "stdout",
     "output_type": "stream",
     "text": [
      "epoch 423, loss: 0.57522, acc: 0.75009, val_loss: 1.48462, val_accuracy: 0.58998\n"
     ]
    },
    {
     "name": "stderr",
     "output_type": "stream",
     "text": [
      "100%|██████████████████████████████████████████████████████████████████████████████████| 10/10 [00:00<00:00, 10.08it/s]\n"
     ]
    },
    {
     "name": "stdout",
     "output_type": "stream",
     "text": [
      "epoch 424, loss: 0.57909, acc: 0.74743, val_loss: 1.49872, val_accuracy: 0.58978\n"
     ]
    },
    {
     "name": "stderr",
     "output_type": "stream",
     "text": [
      "100%|██████████████████████████████████████████████████████████████████████████████████| 10/10 [00:01<00:00,  9.89it/s]\n"
     ]
    },
    {
     "name": "stdout",
     "output_type": "stream",
     "text": [
      "epoch 425, loss: 0.57438, acc: 0.75147, val_loss: 1.49564, val_accuracy: 0.58770\n"
     ]
    },
    {
     "name": "stderr",
     "output_type": "stream",
     "text": [
      "100%|██████████████████████████████████████████████████████████████████████████████████| 10/10 [00:01<00:00,  8.55it/s]\n"
     ]
    },
    {
     "name": "stdout",
     "output_type": "stream",
     "text": [
      "epoch 426, loss: 0.57756, acc: 0.74918, val_loss: 1.50066, val_accuracy: 0.59802\n"
     ]
    },
    {
     "name": "stderr",
     "output_type": "stream",
     "text": [
      "100%|██████████████████████████████████████████████████████████████████████████████████| 10/10 [00:01<00:00,  9.18it/s]\n"
     ]
    },
    {
     "name": "stdout",
     "output_type": "stream",
     "text": [
      "epoch 427, loss: 0.57211, acc: 0.75226, val_loss: 1.48425, val_accuracy: 0.58869\n"
     ]
    },
    {
     "name": "stderr",
     "output_type": "stream",
     "text": [
      "100%|██████████████████████████████████████████████████████████████████████████████████| 10/10 [00:01<00:00,  8.41it/s]\n"
     ]
    },
    {
     "name": "stdout",
     "output_type": "stream",
     "text": [
      "epoch 428, loss: 0.57667, acc: 0.74742, val_loss: 1.50701, val_accuracy: 0.59216\n"
     ]
    },
    {
     "name": "stderr",
     "output_type": "stream",
     "text": [
      "100%|██████████████████████████████████████████████████████████████████████████████████| 10/10 [00:01<00:00,  8.36it/s]\n"
     ]
    },
    {
     "name": "stdout",
     "output_type": "stream",
     "text": [
      "epoch 429, loss: 0.57358, acc: 0.75189, val_loss: 1.48005, val_accuracy: 0.59058\n"
     ]
    },
    {
     "name": "stderr",
     "output_type": "stream",
     "text": [
      "100%|██████████████████████████████████████████████████████████████████████████████████| 10/10 [00:01<00:00,  7.61it/s]\n"
     ]
    },
    {
     "name": "stdout",
     "output_type": "stream",
     "text": [
      "epoch 430, loss: 0.57520, acc: 0.74751, val_loss: 1.49461, val_accuracy: 0.59702\n"
     ]
    },
    {
     "name": "stderr",
     "output_type": "stream",
     "text": [
      "100%|██████████████████████████████████████████████████████████████████████████████████| 10/10 [00:01<00:00,  8.24it/s]\n"
     ]
    },
    {
     "name": "stdout",
     "output_type": "stream",
     "text": [
      "epoch 431, loss: 0.57026, acc: 0.75277, val_loss: 1.49465, val_accuracy: 0.59395\n"
     ]
    },
    {
     "name": "stderr",
     "output_type": "stream",
     "text": [
      "100%|██████████████████████████████████████████████████████████████████████████████████| 10/10 [00:01<00:00,  8.11it/s]\n"
     ]
    },
    {
     "name": "stdout",
     "output_type": "stream",
     "text": [
      "epoch 432, loss: 0.57349, acc: 0.74977, val_loss: 1.52084, val_accuracy: 0.59544\n"
     ]
    },
    {
     "name": "stderr",
     "output_type": "stream",
     "text": [
      "100%|██████████████████████████████████████████████████████████████████████████████████| 10/10 [00:01<00:00,  8.03it/s]\n"
     ]
    },
    {
     "name": "stdout",
     "output_type": "stream",
     "text": [
      "epoch 433, loss: 0.56851, acc: 0.75619, val_loss: 1.51000, val_accuracy: 0.59435\n"
     ]
    },
    {
     "name": "stderr",
     "output_type": "stream",
     "text": [
      "100%|██████████████████████████████████████████████████████████████████████████████████| 10/10 [00:01<00:00,  7.96it/s]\n"
     ]
    },
    {
     "name": "stdout",
     "output_type": "stream",
     "text": [
      "epoch 434, loss: 0.57169, acc: 0.75211, val_loss: 1.51632, val_accuracy: 0.59494\n"
     ]
    },
    {
     "name": "stderr",
     "output_type": "stream",
     "text": [
      "100%|██████████████████████████████████████████████████████████████████████████████████| 10/10 [00:01<00:00,  8.27it/s]\n"
     ]
    },
    {
     "name": "stdout",
     "output_type": "stream",
     "text": [
      "epoch 435, loss: 0.56775, acc: 0.75435, val_loss: 1.50953, val_accuracy: 0.59196\n"
     ]
    },
    {
     "name": "stderr",
     "output_type": "stream",
     "text": [
      "100%|██████████████████████████████████████████████████████████████████████████████████| 10/10 [00:01<00:00,  8.13it/s]\n"
     ]
    },
    {
     "name": "stdout",
     "output_type": "stream",
     "text": [
      "epoch 436, loss: 0.57230, acc: 0.75065, val_loss: 1.52055, val_accuracy: 0.59375\n"
     ]
    },
    {
     "name": "stderr",
     "output_type": "stream",
     "text": [
      "100%|██████████████████████████████████████████████████████████████████████████████████| 10/10 [00:01<00:00,  8.24it/s]\n"
     ]
    },
    {
     "name": "stdout",
     "output_type": "stream",
     "text": [
      "epoch 437, loss: 0.56663, acc: 0.75447, val_loss: 1.51717, val_accuracy: 0.59157\n"
     ]
    },
    {
     "name": "stderr",
     "output_type": "stream",
     "text": [
      "100%|██████████████████████████████████████████████████████████████████████████████████| 10/10 [00:01<00:00,  8.04it/s]\n"
     ]
    },
    {
     "name": "stdout",
     "output_type": "stream",
     "text": [
      "epoch 438, loss: 0.56921, acc: 0.75213, val_loss: 1.54075, val_accuracy: 0.59742\n"
     ]
    },
    {
     "name": "stderr",
     "output_type": "stream",
     "text": [
      "100%|██████████████████████████████████████████████████████████████████████████████████| 10/10 [00:01<00:00,  7.92it/s]\n"
     ]
    },
    {
     "name": "stdout",
     "output_type": "stream",
     "text": [
      "epoch 439, loss: 0.56551, acc: 0.75665, val_loss: 1.52408, val_accuracy: 0.59355\n"
     ]
    },
    {
     "name": "stderr",
     "output_type": "stream",
     "text": [
      "100%|██████████████████████████████████████████████████████████████████████████████████| 10/10 [00:01<00:00,  7.13it/s]\n"
     ]
    },
    {
     "name": "stdout",
     "output_type": "stream",
     "text": [
      "epoch 440, loss: 0.56931, acc: 0.75189, val_loss: 1.53290, val_accuracy: 0.60159\n"
     ]
    },
    {
     "name": "stderr",
     "output_type": "stream",
     "text": [
      "100%|██████████████████████████████████████████████████████████████████████████████████| 10/10 [00:00<00:00, 10.30it/s]\n"
     ]
    },
    {
     "name": "stdout",
     "output_type": "stream",
     "text": [
      "epoch 441, loss: 0.56239, acc: 0.75859, val_loss: 1.51267, val_accuracy: 0.59554\n"
     ]
    },
    {
     "name": "stderr",
     "output_type": "stream",
     "text": [
      "100%|██████████████████████████████████████████████████████████████████████████████████| 10/10 [00:01<00:00,  9.83it/s]\n"
     ]
    },
    {
     "name": "stdout",
     "output_type": "stream",
     "text": [
      "epoch 442, loss: 0.56572, acc: 0.75453, val_loss: 1.52854, val_accuracy: 0.59712\n"
     ]
    },
    {
     "name": "stderr",
     "output_type": "stream",
     "text": [
      "100%|██████████████████████████████████████████████████████████████████████████████████| 10/10 [00:01<00:00,  8.78it/s]\n"
     ]
    },
    {
     "name": "stdout",
     "output_type": "stream",
     "text": [
      "epoch 443, loss: 0.56130, acc: 0.75834, val_loss: 1.52648, val_accuracy: 0.59683\n"
     ]
    },
    {
     "name": "stderr",
     "output_type": "stream",
     "text": [
      "100%|██████████████████████████████████████████████████████████████████████████████████| 10/10 [00:01<00:00,  7.57it/s]\n"
     ]
    },
    {
     "name": "stdout",
     "output_type": "stream",
     "text": [
      "epoch 444, loss: 0.56463, acc: 0.75705, val_loss: 1.52615, val_accuracy: 0.59722\n"
     ]
    },
    {
     "name": "stderr",
     "output_type": "stream",
     "text": [
      "100%|██████████████████████████████████████████████████████████████████████████████████| 10/10 [00:01<00:00,  8.59it/s]\n"
     ]
    },
    {
     "name": "stdout",
     "output_type": "stream",
     "text": [
      "epoch 445, loss: 0.55957, acc: 0.75861, val_loss: 1.53757, val_accuracy: 0.60000\n"
     ]
    },
    {
     "name": "stderr",
     "output_type": "stream",
     "text": [
      "100%|██████████████████████████████████████████████████████████████████████████████████| 10/10 [00:01<00:00,  8.21it/s]\n"
     ]
    },
    {
     "name": "stdout",
     "output_type": "stream",
     "text": [
      "epoch 446, loss: 0.56326, acc: 0.75527, val_loss: 1.52206, val_accuracy: 0.59851\n"
     ]
    },
    {
     "name": "stderr",
     "output_type": "stream",
     "text": [
      "100%|██████████████████████████████████████████████████████████████████████████████████| 10/10 [00:01<00:00,  8.58it/s]\n"
     ]
    },
    {
     "name": "stdout",
     "output_type": "stream",
     "text": [
      "epoch 447, loss: 0.55845, acc: 0.75871, val_loss: 1.54380, val_accuracy: 0.59673\n"
     ]
    },
    {
     "name": "stderr",
     "output_type": "stream",
     "text": [
      "100%|██████████████████████████████████████████████████████████████████████████████████| 10/10 [00:01<00:00,  8.37it/s]\n"
     ]
    },
    {
     "name": "stdout",
     "output_type": "stream",
     "text": [
      "epoch 448, loss: 0.56179, acc: 0.75884, val_loss: 1.53331, val_accuracy: 0.59861\n"
     ]
    },
    {
     "name": "stderr",
     "output_type": "stream",
     "text": [
      "100%|██████████████████████████████████████████████████████████████████████████████████| 10/10 [00:01<00:00,  8.06it/s]\n"
     ]
    },
    {
     "name": "stdout",
     "output_type": "stream",
     "text": [
      "epoch 449, loss: 0.55731, acc: 0.75736, val_loss: 1.54274, val_accuracy: 0.59821\n"
     ]
    },
    {
     "name": "stderr",
     "output_type": "stream",
     "text": [
      "100%|██████████████████████████████████████████████████████████████████████████████████| 10/10 [00:01<00:00,  8.11it/s]\n"
     ]
    },
    {
     "name": "stdout",
     "output_type": "stream",
     "text": [
      "epoch 450, loss: 0.56136, acc: 0.75314, val_loss: 1.54041, val_accuracy: 0.60139\n"
     ]
    },
    {
     "name": "stderr",
     "output_type": "stream",
     "text": [
      "100%|██████████████████████████████████████████████████████████████████████████████████| 10/10 [00:01<00:00,  7.64it/s]\n"
     ]
    },
    {
     "name": "stdout",
     "output_type": "stream",
     "text": [
      "epoch 451, loss: 0.55735, acc: 0.75882, val_loss: 1.53440, val_accuracy: 0.60020\n"
     ]
    },
    {
     "name": "stderr",
     "output_type": "stream",
     "text": [
      "100%|██████████████████████████████████████████████████████████████████████████████████| 10/10 [00:01<00:00,  7.97it/s]\n"
     ]
    },
    {
     "name": "stdout",
     "output_type": "stream",
     "text": [
      "epoch 452, loss: 0.56122, acc: 0.75245, val_loss: 1.54717, val_accuracy: 0.60050\n"
     ]
    },
    {
     "name": "stderr",
     "output_type": "stream",
     "text": [
      "100%|██████████████████████████████████████████████████████████████████████████████████| 10/10 [00:01<00:00,  8.23it/s]\n"
     ]
    },
    {
     "name": "stdout",
     "output_type": "stream",
     "text": [
      "epoch 453, loss: 0.55815, acc: 0.75640, val_loss: 1.53930, val_accuracy: 0.59960\n"
     ]
    },
    {
     "name": "stderr",
     "output_type": "stream",
     "text": [
      "100%|██████████████████████████████████████████████████████████████████████████████████| 10/10 [00:01<00:00,  8.13it/s]\n"
     ]
    },
    {
     "name": "stdout",
     "output_type": "stream",
     "text": [
      "epoch 454, loss: 0.56037, acc: 0.75546, val_loss: 1.55715, val_accuracy: 0.60099\n"
     ]
    },
    {
     "name": "stderr",
     "output_type": "stream",
     "text": [
      "100%|██████████████████████████████████████████████████████████████████████████████████| 10/10 [00:01<00:00,  8.12it/s]\n"
     ]
    },
    {
     "name": "stdout",
     "output_type": "stream",
     "text": [
      "epoch 455, loss: 0.55572, acc: 0.75730, val_loss: 1.51293, val_accuracy: 0.59633\n"
     ]
    },
    {
     "name": "stderr",
     "output_type": "stream",
     "text": [
      "100%|██████████████████████████████████████████████████████████████████████████████████| 10/10 [00:01<00:00,  7.89it/s]\n"
     ]
    },
    {
     "name": "stdout",
     "output_type": "stream",
     "text": [
      "epoch 456, loss: 0.55971, acc: 0.75652, val_loss: 1.54673, val_accuracy: 0.60040\n"
     ]
    },
    {
     "name": "stderr",
     "output_type": "stream",
     "text": [
      "100%|██████████████████████████████████████████████████████████████████████████████████| 10/10 [00:01<00:00,  7.94it/s]\n"
     ]
    },
    {
     "name": "stdout",
     "output_type": "stream",
     "text": [
      "epoch 457, loss: 0.55416, acc: 0.75639, val_loss: 1.54065, val_accuracy: 0.59881\n"
     ]
    },
    {
     "name": "stderr",
     "output_type": "stream",
     "text": [
      "100%|██████████████████████████████████████████████████████████████████████████████████| 10/10 [00:01<00:00,  8.36it/s]\n"
     ]
    },
    {
     "name": "stdout",
     "output_type": "stream",
     "text": [
      "epoch 458, loss: 0.55856, acc: 0.75733, val_loss: 1.54810, val_accuracy: 0.60040\n"
     ]
    },
    {
     "name": "stderr",
     "output_type": "stream",
     "text": [
      "100%|██████████████████████████████████████████████████████████████████████████████████| 10/10 [00:00<00:00, 10.23it/s]\n"
     ]
    },
    {
     "name": "stdout",
     "output_type": "stream",
     "text": [
      "epoch 459, loss: 0.55374, acc: 0.75696, val_loss: 1.54526, val_accuracy: 0.60149\n"
     ]
    },
    {
     "name": "stderr",
     "output_type": "stream",
     "text": [
      "100%|██████████████████████████████████████████████████████████████████████████████████| 10/10 [00:01<00:00,  9.28it/s]\n"
     ]
    },
    {
     "name": "stdout",
     "output_type": "stream",
     "text": [
      "epoch 460, loss: 0.55886, acc: 0.75564, val_loss: 1.55552, val_accuracy: 0.59980\n"
     ]
    },
    {
     "name": "stderr",
     "output_type": "stream",
     "text": [
      "100%|██████████████████████████████████████████████████████████████████████████████████| 10/10 [00:01<00:00,  9.31it/s]\n"
     ]
    },
    {
     "name": "stdout",
     "output_type": "stream",
     "text": [
      "epoch 461, loss: 0.55204, acc: 0.75956, val_loss: 1.55291, val_accuracy: 0.60268\n"
     ]
    },
    {
     "name": "stderr",
     "output_type": "stream",
     "text": [
      "100%|██████████████████████████████████████████████████████████████████████████████████| 10/10 [00:01<00:00,  8.13it/s]\n"
     ]
    },
    {
     "name": "stdout",
     "output_type": "stream",
     "text": [
      "epoch 462, loss: 0.55643, acc: 0.75650, val_loss: 1.55755, val_accuracy: 0.60000\n"
     ]
    },
    {
     "name": "stderr",
     "output_type": "stream",
     "text": [
      "100%|██████████████████████████████████████████████████████████████████████████████████| 10/10 [00:01<00:00,  7.48it/s]\n"
     ]
    },
    {
     "name": "stdout",
     "output_type": "stream",
     "text": [
      "epoch 463, loss: 0.55336, acc: 0.75696, val_loss: 1.54079, val_accuracy: 0.60089\n"
     ]
    },
    {
     "name": "stderr",
     "output_type": "stream",
     "text": [
      "100%|██████████████████████████████████████████████████████████████████████████████████| 10/10 [00:01<00:00,  8.27it/s]\n"
     ]
    },
    {
     "name": "stdout",
     "output_type": "stream",
     "text": [
      "epoch 464, loss: 0.55572, acc: 0.75708, val_loss: 1.55913, val_accuracy: 0.60109\n"
     ]
    },
    {
     "name": "stderr",
     "output_type": "stream",
     "text": [
      "100%|██████████████████████████████████████████████████████████████████████████████████| 10/10 [00:01<00:00,  8.13it/s]\n"
     ]
    },
    {
     "name": "stdout",
     "output_type": "stream",
     "text": [
      "epoch 465, loss: 0.55143, acc: 0.75790, val_loss: 1.56358, val_accuracy: 0.60387\n"
     ]
    },
    {
     "name": "stderr",
     "output_type": "stream",
     "text": [
      "100%|██████████████████████████████████████████████████████████████████████████████████| 10/10 [00:01<00:00,  8.15it/s]\n"
     ]
    },
    {
     "name": "stdout",
     "output_type": "stream",
     "text": [
      "epoch 466, loss: 0.55244, acc: 0.75999, val_loss: 1.57331, val_accuracy: 0.60228\n"
     ]
    },
    {
     "name": "stderr",
     "output_type": "stream",
     "text": [
      "100%|██████████████████████████████████████████████████████████████████████████████████| 10/10 [00:01<00:00,  8.22it/s]\n"
     ]
    },
    {
     "name": "stdout",
     "output_type": "stream",
     "text": [
      "epoch 467, loss: 0.54995, acc: 0.75833, val_loss: 1.55952, val_accuracy: 0.60238\n"
     ]
    },
    {
     "name": "stderr",
     "output_type": "stream",
     "text": [
      "100%|██████████████████████████████████████████████████████████████████████████████████| 10/10 [00:01<00:00,  8.16it/s]\n"
     ]
    },
    {
     "name": "stdout",
     "output_type": "stream",
     "text": [
      "epoch 468, loss: 0.54988, acc: 0.76229, val_loss: 1.57403, val_accuracy: 0.60268\n"
     ]
    },
    {
     "name": "stderr",
     "output_type": "stream",
     "text": [
      "100%|██████████████████████████████████████████████████████████████████████████████████| 10/10 [00:01<00:00,  8.37it/s]\n"
     ]
    },
    {
     "name": "stdout",
     "output_type": "stream",
     "text": [
      "epoch 469, loss: 0.54777, acc: 0.75916, val_loss: 1.53967, val_accuracy: 0.60407\n"
     ]
    },
    {
     "name": "stderr",
     "output_type": "stream",
     "text": [
      "100%|██████████████████████████████████████████████████████████████████████████████████| 10/10 [00:01<00:00,  8.23it/s]\n"
     ]
    },
    {
     "name": "stdout",
     "output_type": "stream",
     "text": [
      "epoch 470, loss: 0.55041, acc: 0.75806, val_loss: 1.55806, val_accuracy: 0.60337\n"
     ]
    },
    {
     "name": "stderr",
     "output_type": "stream",
     "text": [
      "100%|██████████████████████████████████████████████████████████████████████████████████| 10/10 [00:01<00:00,  7.98it/s]\n"
     ]
    },
    {
     "name": "stdout",
     "output_type": "stream",
     "text": [
      "epoch 471, loss: 0.54572, acc: 0.76046, val_loss: 1.55815, val_accuracy: 0.60397\n"
     ]
    },
    {
     "name": "stderr",
     "output_type": "stream",
     "text": [
      "100%|██████████████████████████████████████████████████████████████████████████████████| 10/10 [00:00<00:00, 10.22it/s]\n"
     ]
    },
    {
     "name": "stdout",
     "output_type": "stream",
     "text": [
      "epoch 472, loss: 0.54819, acc: 0.75967, val_loss: 1.57315, val_accuracy: 0.60337\n"
     ]
    },
    {
     "name": "stderr",
     "output_type": "stream",
     "text": [
      "100%|██████████████████████████████████████████████████████████████████████████████████| 10/10 [00:01<00:00,  9.92it/s]\n"
     ]
    },
    {
     "name": "stdout",
     "output_type": "stream",
     "text": [
      "epoch 473, loss: 0.54446, acc: 0.76172, val_loss: 1.56733, val_accuracy: 0.60595\n"
     ]
    },
    {
     "name": "stderr",
     "output_type": "stream",
     "text": [
      "100%|██████████████████████████████████████████████████████████████████████████████████| 10/10 [00:01<00:00,  9.41it/s]\n"
     ]
    },
    {
     "name": "stdout",
     "output_type": "stream",
     "text": [
      "epoch 474, loss: 0.54645, acc: 0.76040, val_loss: 1.56890, val_accuracy: 0.60298\n"
     ]
    },
    {
     "name": "stderr",
     "output_type": "stream",
     "text": [
      "100%|██████████████████████████████████████████████████████████████████████████████████| 10/10 [00:01<00:00,  9.09it/s]\n"
     ]
    },
    {
     "name": "stdout",
     "output_type": "stream",
     "text": [
      "epoch 475, loss: 0.54340, acc: 0.76273, val_loss: 1.56969, val_accuracy: 0.60595\n"
     ]
    },
    {
     "name": "stderr",
     "output_type": "stream",
     "text": [
      "100%|██████████████████████████████████████████████████████████████████████████████████| 10/10 [00:01<00:00,  7.53it/s]\n"
     ]
    },
    {
     "name": "stdout",
     "output_type": "stream",
     "text": [
      "epoch 476, loss: 0.54491, acc: 0.76243, val_loss: 1.57592, val_accuracy: 0.60337\n"
     ]
    },
    {
     "name": "stderr",
     "output_type": "stream",
     "text": [
      "100%|██████████████████████████████████████████████████████████████████████████████████| 10/10 [00:01<00:00,  8.20it/s]\n"
     ]
    },
    {
     "name": "stdout",
     "output_type": "stream",
     "text": [
      "epoch 477, loss: 0.54315, acc: 0.76290, val_loss: 1.55757, val_accuracy: 0.60744\n"
     ]
    },
    {
     "name": "stderr",
     "output_type": "stream",
     "text": [
      "100%|██████████████████████████████████████████████████████████████████████████████████| 10/10 [00:01<00:00,  8.27it/s]\n"
     ]
    },
    {
     "name": "stdout",
     "output_type": "stream",
     "text": [
      "epoch 478, loss: 0.54530, acc: 0.75944, val_loss: 1.57812, val_accuracy: 0.60397\n"
     ]
    },
    {
     "name": "stderr",
     "output_type": "stream",
     "text": [
      "100%|██████████████████████████████████████████████████████████████████████████████████| 10/10 [00:01<00:00,  8.15it/s]\n"
     ]
    },
    {
     "name": "stdout",
     "output_type": "stream",
     "text": [
      "epoch 479, loss: 0.54163, acc: 0.76293, val_loss: 1.55440, val_accuracy: 0.60496\n"
     ]
    },
    {
     "name": "stderr",
     "output_type": "stream",
     "text": [
      "100%|██████████████████████████████████████████████████████████████████████████████████| 10/10 [00:01<00:00,  8.21it/s]\n"
     ]
    },
    {
     "name": "stdout",
     "output_type": "stream",
     "text": [
      "epoch 480, loss: 0.54434, acc: 0.76268, val_loss: 1.58101, val_accuracy: 0.60675\n"
     ]
    },
    {
     "name": "stderr",
     "output_type": "stream",
     "text": [
      "100%|██████████████████████████████████████████████████████████████████████████████████| 10/10 [00:01<00:00,  8.24it/s]\n"
     ]
    },
    {
     "name": "stdout",
     "output_type": "stream",
     "text": [
      "epoch 481, loss: 0.53927, acc: 0.76359, val_loss: 1.56784, val_accuracy: 0.60565\n"
     ]
    },
    {
     "name": "stderr",
     "output_type": "stream",
     "text": [
      "100%|██████████████████████████████████████████████████████████████████████████████████| 10/10 [00:01<00:00,  8.11it/s]\n"
     ]
    },
    {
     "name": "stdout",
     "output_type": "stream",
     "text": [
      "epoch 482, loss: 0.54139, acc: 0.76493, val_loss: 1.58427, val_accuracy: 0.60456\n"
     ]
    },
    {
     "name": "stderr",
     "output_type": "stream",
     "text": [
      "100%|██████████████████████████████████████████████████████████████████████████████████| 10/10 [00:00<00:00, 10.34it/s]\n"
     ]
    },
    {
     "name": "stdout",
     "output_type": "stream",
     "text": [
      "epoch 483, loss: 0.53735, acc: 0.76364, val_loss: 1.57543, val_accuracy: 0.60784\n"
     ]
    },
    {
     "name": "stderr",
     "output_type": "stream",
     "text": [
      "100%|██████████████████████████████████████████████████████████████████████████████████| 10/10 [00:00<00:00, 10.25it/s]\n"
     ]
    },
    {
     "name": "stdout",
     "output_type": "stream",
     "text": [
      "epoch 484, loss: 0.54119, acc: 0.76448, val_loss: 1.58463, val_accuracy: 0.60476\n"
     ]
    },
    {
     "name": "stderr",
     "output_type": "stream",
     "text": [
      "100%|██████████████████████████████████████████████████████████████████████████████████| 10/10 [00:00<00:00, 10.38it/s]\n"
     ]
    },
    {
     "name": "stdout",
     "output_type": "stream",
     "text": [
      "epoch 485, loss: 0.53628, acc: 0.76313, val_loss: 1.57817, val_accuracy: 0.60813\n"
     ]
    },
    {
     "name": "stderr",
     "output_type": "stream",
     "text": [
      "100%|██████████████████████████████████████████████████████████████████████████████████| 10/10 [00:01<00:00,  9.96it/s]\n"
     ]
    },
    {
     "name": "stdout",
     "output_type": "stream",
     "text": [
      "epoch 486, loss: 0.53929, acc: 0.76517, val_loss: 1.58985, val_accuracy: 0.60536\n"
     ]
    },
    {
     "name": "stderr",
     "output_type": "stream",
     "text": [
      "100%|██████████████████████████████████████████████████████████████████████████████████| 10/10 [00:01<00:00,  9.43it/s]\n"
     ]
    },
    {
     "name": "stdout",
     "output_type": "stream",
     "text": [
      "epoch 487, loss: 0.53581, acc: 0.76487, val_loss: 1.58120, val_accuracy: 0.60744\n"
     ]
    },
    {
     "name": "stderr",
     "output_type": "stream",
     "text": [
      "100%|██████████████████████████████████████████████████████████████████████████████████| 10/10 [00:01<00:00,  8.13it/s]\n"
     ]
    },
    {
     "name": "stdout",
     "output_type": "stream",
     "text": [
      "epoch 488, loss: 0.53910, acc: 0.76530, val_loss: 1.59332, val_accuracy: 0.60536\n"
     ]
    },
    {
     "name": "stderr",
     "output_type": "stream",
     "text": [
      "100%|██████████████████████████████████████████████████████████████████████████████████| 10/10 [00:01<00:00,  7.46it/s]\n"
     ]
    },
    {
     "name": "stdout",
     "output_type": "stream",
     "text": [
      "epoch 489, loss: 0.53484, acc: 0.76839, val_loss: 1.58998, val_accuracy: 0.60774\n"
     ]
    },
    {
     "name": "stderr",
     "output_type": "stream",
     "text": [
      "100%|██████████████████████████████████████████████████████████████████████████████████| 10/10 [00:01<00:00,  8.23it/s]\n"
     ]
    },
    {
     "name": "stdout",
     "output_type": "stream",
     "text": [
      "epoch 490, loss: 0.53724, acc: 0.76838, val_loss: 1.58893, val_accuracy: 0.60744\n"
     ]
    },
    {
     "name": "stderr",
     "output_type": "stream",
     "text": [
      "100%|██████████████████████████████████████████████████████████████████████████████████| 10/10 [00:01<00:00,  7.58it/s]\n"
     ]
    },
    {
     "name": "stdout",
     "output_type": "stream",
     "text": [
      "epoch 491, loss: 0.53406, acc: 0.76670, val_loss: 1.59787, val_accuracy: 0.60903\n"
     ]
    },
    {
     "name": "stderr",
     "output_type": "stream",
     "text": [
      "100%|██████████████████████████████████████████████████████████████████████████████████| 10/10 [00:01<00:00,  8.24it/s]\n"
     ]
    },
    {
     "name": "stdout",
     "output_type": "stream",
     "text": [
      "epoch 492, loss: 0.53499, acc: 0.76634, val_loss: 1.59950, val_accuracy: 0.60794\n"
     ]
    },
    {
     "name": "stderr",
     "output_type": "stream",
     "text": [
      "100%|██████████████████████████████████████████████████████████████████████████████████| 10/10 [00:01<00:00,  8.17it/s]\n"
     ]
    },
    {
     "name": "stdout",
     "output_type": "stream",
     "text": [
      "epoch 493, loss: 0.53218, acc: 0.76727, val_loss: 1.58640, val_accuracy: 0.60714\n"
     ]
    },
    {
     "name": "stderr",
     "output_type": "stream",
     "text": [
      "100%|██████████████████████████████████████████████████████████████████████████████████| 10/10 [00:01<00:00,  8.22it/s]\n"
     ]
    },
    {
     "name": "stdout",
     "output_type": "stream",
     "text": [
      "epoch 494, loss: 0.53401, acc: 0.76648, val_loss: 1.59276, val_accuracy: 0.60784\n"
     ]
    },
    {
     "name": "stderr",
     "output_type": "stream",
     "text": [
      "100%|██████████████████████████████████████████████████████████████████████████████████| 10/10 [00:01<00:00,  7.25it/s]\n"
     ]
    },
    {
     "name": "stdout",
     "output_type": "stream",
     "text": [
      "epoch 495, loss: 0.53087, acc: 0.76858, val_loss: 1.59242, val_accuracy: 0.60883\n"
     ]
    },
    {
     "name": "stderr",
     "output_type": "stream",
     "text": [
      "100%|██████████████████████████████████████████████████████████████████████████████████| 10/10 [00:00<00:00, 10.23it/s]\n"
     ]
    },
    {
     "name": "stdout",
     "output_type": "stream",
     "text": [
      "epoch 496, loss: 0.53471, acc: 0.76590, val_loss: 1.60279, val_accuracy: 0.60833\n"
     ]
    },
    {
     "name": "stderr",
     "output_type": "stream",
     "text": [
      "100%|██████████████████████████████████████████████████████████████████████████████████| 10/10 [00:01<00:00,  9.86it/s]\n"
     ]
    },
    {
     "name": "stdout",
     "output_type": "stream",
     "text": [
      "epoch 497, loss: 0.52934, acc: 0.76889, val_loss: 1.58519, val_accuracy: 0.60913\n"
     ]
    },
    {
     "name": "stderr",
     "output_type": "stream",
     "text": [
      "100%|██████████████████████████████████████████████████████████████████████████████████| 10/10 [00:01<00:00,  9.44it/s]\n"
     ]
    },
    {
     "name": "stdout",
     "output_type": "stream",
     "text": [
      "epoch 498, loss: 0.53261, acc: 0.76861, val_loss: 1.60683, val_accuracy: 0.60992\n"
     ]
    },
    {
     "name": "stderr",
     "output_type": "stream",
     "text": [
      "100%|██████████████████████████████████████████████████████████████████████████████████| 10/10 [00:01<00:00,  7.96it/s]\n"
     ]
    },
    {
     "name": "stdout",
     "output_type": "stream",
     "text": [
      "epoch 499, loss: 0.52750, acc: 0.77010, val_loss: 1.58388, val_accuracy: 0.60952\n"
     ]
    },
    {
     "name": "stderr",
     "output_type": "stream",
     "text": [
      "100%|██████████████████████████████████████████████████████████████████████████████████| 10/10 [00:01<00:00,  8.12it/s]\n"
     ]
    },
    {
     "name": "stdout",
     "output_type": "stream",
     "text": [
      "epoch 500, loss: 0.53190, acc: 0.76615, val_loss: 1.60356, val_accuracy: 0.61141\n",
      "0번째 교차검증\n",
      "evaluation loss: 1.08079, evaluation accuracy: 0.36190\n",
      "(5, 10080)\n",
      "(10080, 5)\n",
      "Learning rate set to 0.10399\n",
      "0:\tlearn: 1.0665279\ttotal: 7.51ms\tremaining: 7.5s\n",
      "1:\tlearn: 1.0407779\ttotal: 14.1ms\tremaining: 7.03s\n",
      "2:\tlearn: 1.0198508\ttotal: 20.1ms\tremaining: 6.68s\n",
      "3:\tlearn: 1.0012720\ttotal: 26.6ms\tremaining: 6.62s\n",
      "4:\tlearn: 0.9871405\ttotal: 32.7ms\tremaining: 6.5s\n",
      "5:\tlearn: 0.9734571\ttotal: 38.9ms\tremaining: 6.44s\n",
      "6:\tlearn: 0.9623884\ttotal: 45.1ms\tremaining: 6.39s\n",
      "7:\tlearn: 0.9532264\ttotal: 52.2ms\tremaining: 6.47s\n",
      "8:\tlearn: 0.9456093\ttotal: 58.6ms\tremaining: 6.45s\n",
      "9:\tlearn: 0.9388665\ttotal: 64.8ms\tremaining: 6.41s\n",
      "10:\tlearn: 0.9325867\ttotal: 71.2ms\tremaining: 6.4s\n",
      "11:\tlearn: 0.9276875\ttotal: 77.2ms\tremaining: 6.36s\n",
      "12:\tlearn: 0.9230547\ttotal: 83.9ms\tremaining: 6.37s\n",
      "13:\tlearn: 0.9191139\ttotal: 90ms\tremaining: 6.34s\n",
      "14:\tlearn: 0.9152826\ttotal: 96.4ms\tremaining: 6.33s\n",
      "15:\tlearn: 0.9124549\ttotal: 103ms\tremaining: 6.31s\n",
      "16:\tlearn: 0.9098022\ttotal: 109ms\tremaining: 6.3s\n",
      "17:\tlearn: 0.9071954\ttotal: 116ms\tremaining: 6.32s\n",
      "18:\tlearn: 0.9048611\ttotal: 122ms\tremaining: 6.3s\n",
      "19:\tlearn: 0.9031064\ttotal: 129ms\tremaining: 6.3s\n",
      "20:\tlearn: 0.9015377\ttotal: 135ms\tremaining: 6.29s\n",
      "21:\tlearn: 0.8999651\ttotal: 141ms\tremaining: 6.28s\n",
      "22:\tlearn: 0.8986029\ttotal: 148ms\tremaining: 6.28s\n",
      "23:\tlearn: 0.8972742\ttotal: 154ms\tremaining: 6.27s\n",
      "24:\tlearn: 0.8963119\ttotal: 160ms\tremaining: 6.25s\n",
      "25:\tlearn: 0.8953067\ttotal: 167ms\tremaining: 6.26s\n",
      "26:\tlearn: 0.8943511\ttotal: 173ms\tremaining: 6.25s\n",
      "27:\tlearn: 0.8934851\ttotal: 180ms\tremaining: 6.25s\n",
      "28:\tlearn: 0.8927745\ttotal: 186ms\tremaining: 6.24s\n",
      "29:\tlearn: 0.8920537\ttotal: 193ms\tremaining: 6.23s\n",
      "30:\tlearn: 0.8913358\ttotal: 199ms\tremaining: 6.21s\n",
      "31:\tlearn: 0.8907435\ttotal: 205ms\tremaining: 6.21s\n",
      "32:\tlearn: 0.8901552\ttotal: 211ms\tremaining: 6.2s\n",
      "33:\tlearn: 0.8896626\ttotal: 218ms\tremaining: 6.2s\n",
      "34:\tlearn: 0.8891203\ttotal: 225ms\tremaining: 6.19s\n",
      "35:\tlearn: 0.8887867\ttotal: 231ms\tremaining: 6.18s\n",
      "36:\tlearn: 0.8883426\ttotal: 237ms\tremaining: 6.17s\n",
      "37:\tlearn: 0.8883233\ttotal: 239ms\tremaining: 6.06s\n",
      "38:\tlearn: 0.8878716\ttotal: 246ms\tremaining: 6.07s\n",
      "39:\tlearn: 0.8878713\ttotal: 248ms\tremaining: 5.95s\n",
      "40:\tlearn: 0.8875201\ttotal: 254ms\tremaining: 5.94s\n",
      "41:\tlearn: 0.8871751\ttotal: 260ms\tremaining: 5.94s\n",
      "42:\tlearn: 0.8871748\ttotal: 262ms\tremaining: 5.83s\n",
      "43:\tlearn: 0.8867479\ttotal: 268ms\tremaining: 5.83s\n",
      "44:\tlearn: 0.8867477\ttotal: 270ms\tremaining: 5.72s\n",
      "45:\tlearn: 0.8863862\ttotal: 276ms\tremaining: 5.73s\n",
      "46:\tlearn: 0.8861065\ttotal: 283ms\tremaining: 5.74s\n",
      "47:\tlearn: 0.8857924\ttotal: 289ms\tremaining: 5.74s\n",
      "48:\tlearn: 0.8857921\ttotal: 291ms\tremaining: 5.64s\n",
      "49:\tlearn: 0.8855168\ttotal: 297ms\tremaining: 5.65s\n",
      "50:\tlearn: 0.8852748\ttotal: 303ms\tremaining: 5.65s\n",
      "51:\tlearn: 0.8852746\ttotal: 305ms\tremaining: 5.56s\n",
      "52:\tlearn: 0.8849472\ttotal: 311ms\tremaining: 5.56s\n",
      "53:\tlearn: 0.8846916\ttotal: 318ms\tremaining: 5.56s\n",
      "54:\tlearn: 0.8844559\ttotal: 324ms\tremaining: 5.57s\n",
      "55:\tlearn: 0.8844560\ttotal: 326ms\tremaining: 5.49s\n",
      "56:\tlearn: 0.8842394\ttotal: 332ms\tremaining: 5.49s\n",
      "57:\tlearn: 0.8840532\ttotal: 338ms\tremaining: 5.49s\n",
      "58:\tlearn: 0.8840532\ttotal: 340ms\tremaining: 5.42s\n",
      "59:\tlearn: 0.8840500\ttotal: 342ms\tremaining: 5.36s\n",
      "60:\tlearn: 0.8838668\ttotal: 349ms\tremaining: 5.37s\n",
      "61:\tlearn: 0.8838669\ttotal: 351ms\tremaining: 5.3s\n",
      "62:\tlearn: 0.8836576\ttotal: 357ms\tremaining: 5.31s\n",
      "63:\tlearn: 0.8836530\ttotal: 360ms\tremaining: 5.26s\n",
      "64:\tlearn: 0.8834609\ttotal: 367ms\tremaining: 5.28s\n",
      "65:\tlearn: 0.8834610\ttotal: 369ms\tremaining: 5.21s\n",
      "66:\tlearn: 0.8834610\ttotal: 370ms\tremaining: 5.15s\n",
      "67:\tlearn: 0.8832822\ttotal: 376ms\tremaining: 5.16s\n",
      "68:\tlearn: 0.8832822\ttotal: 378ms\tremaining: 5.1s\n",
      "69:\tlearn: 0.8830609\ttotal: 384ms\tremaining: 5.11s\n",
      "70:\tlearn: 0.8830610\ttotal: 386ms\tremaining: 5.05s\n",
      "71:\tlearn: 0.8830608\ttotal: 387ms\tremaining: 4.99s\n",
      "72:\tlearn: 0.8828220\ttotal: 394ms\tremaining: 5s\n",
      "73:\tlearn: 0.8828220\ttotal: 395ms\tremaining: 4.95s\n",
      "74:\tlearn: 0.8826276\ttotal: 402ms\tremaining: 4.95s\n",
      "75:\tlearn: 0.8826277\ttotal: 403ms\tremaining: 4.9s\n",
      "76:\tlearn: 0.8824783\ttotal: 410ms\tremaining: 4.91s\n",
      "77:\tlearn: 0.8823250\ttotal: 416ms\tremaining: 4.92s\n",
      "78:\tlearn: 0.8823247\ttotal: 417ms\tremaining: 4.87s\n",
      "79:\tlearn: 0.8821766\ttotal: 424ms\tremaining: 4.88s\n",
      "80:\tlearn: 0.8820173\ttotal: 430ms\tremaining: 4.88s\n",
      "81:\tlearn: 0.8820174\ttotal: 432ms\tremaining: 4.84s\n",
      "82:\tlearn: 0.8818936\ttotal: 438ms\tremaining: 4.84s\n",
      "83:\tlearn: 0.8817077\ttotal: 445ms\tremaining: 4.86s\n",
      "84:\tlearn: 0.8815914\ttotal: 452ms\tremaining: 4.86s\n",
      "85:\tlearn: 0.8815128\ttotal: 458ms\tremaining: 4.87s\n",
      "86:\tlearn: 0.8813602\ttotal: 464ms\tremaining: 4.87s\n",
      "87:\tlearn: 0.8812520\ttotal: 471ms\tremaining: 4.88s\n",
      "88:\tlearn: 0.8811472\ttotal: 477ms\tremaining: 4.88s\n",
      "89:\tlearn: 0.8810301\ttotal: 484ms\tremaining: 4.89s\n",
      "90:\tlearn: 0.8810299\ttotal: 485ms\tremaining: 4.85s\n",
      "91:\tlearn: 0.8809351\ttotal: 492ms\tremaining: 4.86s\n",
      "92:\tlearn: 0.8807840\ttotal: 499ms\tremaining: 4.86s\n",
      "93:\tlearn: 0.8806882\ttotal: 505ms\tremaining: 4.87s\n",
      "94:\tlearn: 0.8806080\ttotal: 511ms\tremaining: 4.87s\n",
      "95:\tlearn: 0.8805267\ttotal: 518ms\tremaining: 4.88s\n",
      "96:\tlearn: 0.8804144\ttotal: 524ms\tremaining: 4.88s\n",
      "97:\tlearn: 0.8803145\ttotal: 531ms\tremaining: 4.89s\n",
      "98:\tlearn: 0.8802351\ttotal: 537ms\tremaining: 4.89s\n",
      "99:\tlearn: 0.8801723\ttotal: 544ms\tremaining: 4.89s\n",
      "100:\tlearn: 0.8800916\ttotal: 550ms\tremaining: 4.9s\n",
      "101:\tlearn: 0.8800201\ttotal: 557ms\tremaining: 4.9s\n",
      "102:\tlearn: 0.8799282\ttotal: 563ms\tremaining: 4.91s\n",
      "103:\tlearn: 0.8798229\ttotal: 570ms\tremaining: 4.91s\n",
      "104:\tlearn: 0.8797742\ttotal: 577ms\tremaining: 4.91s\n",
      "105:\tlearn: 0.8796704\ttotal: 583ms\tremaining: 4.92s\n",
      "106:\tlearn: 0.8795633\ttotal: 589ms\tremaining: 4.92s\n",
      "107:\tlearn: 0.8794881\ttotal: 596ms\tremaining: 4.92s\n",
      "108:\tlearn: 0.8794206\ttotal: 602ms\tremaining: 4.92s\n",
      "109:\tlearn: 0.8793667\ttotal: 609ms\tremaining: 4.92s\n",
      "110:\tlearn: 0.8793258\ttotal: 615ms\tremaining: 4.92s\n",
      "111:\tlearn: 0.8792770\ttotal: 621ms\tremaining: 4.93s\n",
      "112:\tlearn: 0.8792287\ttotal: 629ms\tremaining: 4.93s\n",
      "113:\tlearn: 0.8791397\ttotal: 635ms\tremaining: 4.93s\n",
      "114:\tlearn: 0.8790952\ttotal: 642ms\tremaining: 4.94s\n",
      "115:\tlearn: 0.8790398\ttotal: 648ms\tremaining: 4.94s\n",
      "116:\tlearn: 0.8789885\ttotal: 654ms\tremaining: 4.94s\n",
      "117:\tlearn: 0.8789089\ttotal: 661ms\tremaining: 4.94s\n",
      "118:\tlearn: 0.8788568\ttotal: 667ms\tremaining: 4.94s\n",
      "119:\tlearn: 0.8787867\ttotal: 674ms\tremaining: 4.94s\n",
      "120:\tlearn: 0.8787404\ttotal: 680ms\tremaining: 4.94s\n",
      "121:\tlearn: 0.8786923\ttotal: 687ms\tremaining: 4.94s\n",
      "122:\tlearn: 0.8786289\ttotal: 693ms\tremaining: 4.94s\n",
      "123:\tlearn: 0.8785901\ttotal: 700ms\tremaining: 4.94s\n",
      "124:\tlearn: 0.8785500\ttotal: 706ms\tremaining: 4.94s\n",
      "125:\tlearn: 0.8785059\ttotal: 712ms\tremaining: 4.94s\n",
      "126:\tlearn: 0.8784453\ttotal: 719ms\tremaining: 4.94s\n",
      "127:\tlearn: 0.8784014\ttotal: 725ms\tremaining: 4.94s\n",
      "128:\tlearn: 0.8783417\ttotal: 731ms\tremaining: 4.94s\n",
      "129:\tlearn: 0.8782878\ttotal: 738ms\tremaining: 4.94s\n",
      "130:\tlearn: 0.8782322\ttotal: 744ms\tremaining: 4.94s\n",
      "131:\tlearn: 0.8782012\ttotal: 751ms\tremaining: 4.94s\n",
      "132:\tlearn: 0.8781646\ttotal: 758ms\tremaining: 4.94s\n",
      "133:\tlearn: 0.8781365\ttotal: 764ms\tremaining: 4.94s\n",
      "134:\tlearn: 0.8781039\ttotal: 770ms\tremaining: 4.93s\n",
      "135:\tlearn: 0.8780593\ttotal: 777ms\tremaining: 4.93s\n",
      "136:\tlearn: 0.8780339\ttotal: 783ms\tremaining: 4.93s\n",
      "137:\tlearn: 0.8780006\ttotal: 790ms\tremaining: 4.93s\n",
      "138:\tlearn: 0.8779608\ttotal: 796ms\tremaining: 4.93s\n",
      "139:\tlearn: 0.8779239\ttotal: 803ms\tremaining: 4.93s\n",
      "140:\tlearn: 0.8778894\ttotal: 809ms\tremaining: 4.93s\n",
      "141:\tlearn: 0.8778608\ttotal: 816ms\tremaining: 4.93s\n",
      "142:\tlearn: 0.8778393\ttotal: 823ms\tremaining: 4.93s\n",
      "143:\tlearn: 0.8778153\ttotal: 829ms\tremaining: 4.93s\n",
      "144:\tlearn: 0.8777961\ttotal: 835ms\tremaining: 4.93s\n",
      "145:\tlearn: 0.8777639\ttotal: 843ms\tremaining: 4.93s\n",
      "146:\tlearn: 0.8777337\ttotal: 849ms\tremaining: 4.93s\n",
      "147:\tlearn: 0.8776932\ttotal: 855ms\tremaining: 4.92s\n",
      "148:\tlearn: 0.8776640\ttotal: 862ms\tremaining: 4.92s\n",
      "149:\tlearn: 0.8776378\ttotal: 868ms\tremaining: 4.92s\n",
      "150:\tlearn: 0.8776180\ttotal: 875ms\tremaining: 4.92s\n",
      "151:\tlearn: 0.8775811\ttotal: 881ms\tremaining: 4.92s\n",
      "152:\tlearn: 0.8775540\ttotal: 888ms\tremaining: 4.91s\n",
      "153:\tlearn: 0.8775312\ttotal: 894ms\tremaining: 4.91s\n",
      "154:\tlearn: 0.8775080\ttotal: 900ms\tremaining: 4.91s\n",
      "155:\tlearn: 0.8774752\ttotal: 907ms\tremaining: 4.91s\n",
      "156:\tlearn: 0.8774504\ttotal: 913ms\tremaining: 4.9s\n",
      "157:\tlearn: 0.8774362\ttotal: 919ms\tremaining: 4.9s\n",
      "158:\tlearn: 0.8774230\ttotal: 926ms\tremaining: 4.89s\n",
      "159:\tlearn: 0.8773831\ttotal: 933ms\tremaining: 4.89s\n",
      "160:\tlearn: 0.8773621\ttotal: 939ms\tremaining: 4.89s\n",
      "161:\tlearn: 0.8773301\ttotal: 945ms\tremaining: 4.89s\n",
      "162:\tlearn: 0.8773123\ttotal: 952ms\tremaining: 4.89s\n",
      "163:\tlearn: 0.8772989\ttotal: 958ms\tremaining: 4.88s\n",
      "164:\tlearn: 0.8772691\ttotal: 965ms\tremaining: 4.88s\n",
      "165:\tlearn: 0.8772420\ttotal: 971ms\tremaining: 4.88s\n",
      "166:\tlearn: 0.8772252\ttotal: 978ms\tremaining: 4.88s\n",
      "167:\tlearn: 0.8771914\ttotal: 984ms\tremaining: 4.87s\n",
      "168:\tlearn: 0.8771668\ttotal: 991ms\tremaining: 4.87s\n",
      "169:\tlearn: 0.8771545\ttotal: 997ms\tremaining: 4.87s\n",
      "170:\tlearn: 0.8771401\ttotal: 1s\tremaining: 4.87s\n",
      "171:\tlearn: 0.8771213\ttotal: 1.01s\tremaining: 4.86s\n",
      "172:\tlearn: 0.8770982\ttotal: 1.02s\tremaining: 4.86s\n",
      "173:\tlearn: 0.8770760\ttotal: 1.02s\tremaining: 4.86s\n",
      "174:\tlearn: 0.8770494\ttotal: 1.03s\tremaining: 4.85s\n",
      "175:\tlearn: 0.8770337\ttotal: 1.03s\tremaining: 4.85s\n",
      "176:\tlearn: 0.8770226\ttotal: 1.04s\tremaining: 4.85s\n",
      "177:\tlearn: 0.8770076\ttotal: 1.05s\tremaining: 4.84s\n",
      "178:\tlearn: 0.8769949\ttotal: 1.05s\tremaining: 4.84s\n",
      "179:\tlearn: 0.8769753\ttotal: 1.06s\tremaining: 4.84s\n",
      "180:\tlearn: 0.8769488\ttotal: 1.07s\tremaining: 4.83s\n",
      "181:\tlearn: 0.8769280\ttotal: 1.07s\tremaining: 4.83s\n",
      "182:\tlearn: 0.8769170\ttotal: 1.08s\tremaining: 4.83s\n",
      "183:\tlearn: 0.8768950\ttotal: 1.09s\tremaining: 4.83s\n",
      "184:\tlearn: 0.8768740\ttotal: 1.09s\tremaining: 4.82s\n",
      "185:\tlearn: 0.8768526\ttotal: 1.1s\tremaining: 4.82s\n"
     ]
    },
    {
     "name": "stdout",
     "output_type": "stream",
     "text": [
      "186:\tlearn: 0.8768336\ttotal: 1.11s\tremaining: 4.82s\n",
      "187:\tlearn: 0.8768163\ttotal: 1.11s\tremaining: 4.81s\n",
      "188:\tlearn: 0.8768024\ttotal: 1.12s\tremaining: 4.81s\n",
      "189:\tlearn: 0.8767873\ttotal: 1.13s\tremaining: 4.8s\n",
      "190:\tlearn: 0.8767701\ttotal: 1.13s\tremaining: 4.8s\n",
      "191:\tlearn: 0.8767552\ttotal: 1.14s\tremaining: 4.79s\n",
      "192:\tlearn: 0.8767376\ttotal: 1.15s\tremaining: 4.79s\n",
      "193:\tlearn: 0.8767194\ttotal: 1.15s\tremaining: 4.79s\n",
      "194:\tlearn: 0.8767099\ttotal: 1.16s\tremaining: 4.79s\n",
      "195:\tlearn: 0.8766944\ttotal: 1.17s\tremaining: 4.78s\n",
      "196:\tlearn: 0.8766821\ttotal: 1.17s\tremaining: 4.78s\n",
      "197:\tlearn: 0.8766719\ttotal: 1.18s\tremaining: 4.77s\n",
      "198:\tlearn: 0.8766588\ttotal: 1.18s\tremaining: 4.77s\n",
      "199:\tlearn: 0.8766501\ttotal: 1.19s\tremaining: 4.76s\n",
      "200:\tlearn: 0.8766369\ttotal: 1.2s\tremaining: 4.76s\n",
      "201:\tlearn: 0.8766228\ttotal: 1.2s\tremaining: 4.75s\n",
      "202:\tlearn: 0.8766089\ttotal: 1.21s\tremaining: 4.75s\n",
      "203:\tlearn: 0.8765960\ttotal: 1.22s\tremaining: 4.75s\n",
      "204:\tlearn: 0.8765839\ttotal: 1.22s\tremaining: 4.74s\n",
      "205:\tlearn: 0.8765660\ttotal: 1.23s\tremaining: 4.74s\n",
      "206:\tlearn: 0.8765507\ttotal: 1.24s\tremaining: 4.73s\n",
      "207:\tlearn: 0.8765391\ttotal: 1.24s\tremaining: 4.73s\n",
      "208:\tlearn: 0.8765311\ttotal: 1.25s\tremaining: 4.72s\n",
      "209:\tlearn: 0.8765172\ttotal: 1.25s\tremaining: 4.72s\n",
      "210:\tlearn: 0.8765043\ttotal: 1.26s\tremaining: 4.72s\n",
      "211:\tlearn: 0.8764865\ttotal: 1.27s\tremaining: 4.71s\n",
      "212:\tlearn: 0.8764715\ttotal: 1.27s\tremaining: 4.71s\n",
      "213:\tlearn: 0.8764610\ttotal: 1.28s\tremaining: 4.7s\n",
      "214:\tlearn: 0.8764531\ttotal: 1.29s\tremaining: 4.7s\n",
      "215:\tlearn: 0.8764457\ttotal: 1.29s\tremaining: 4.7s\n",
      "216:\tlearn: 0.8764392\ttotal: 1.3s\tremaining: 4.69s\n",
      "217:\tlearn: 0.8764238\ttotal: 1.31s\tremaining: 4.68s\n",
      "218:\tlearn: 0.8764165\ttotal: 1.31s\tremaining: 4.68s\n",
      "219:\tlearn: 0.8764062\ttotal: 1.32s\tremaining: 4.68s\n",
      "220:\tlearn: 0.8763968\ttotal: 1.32s\tremaining: 4.67s\n",
      "221:\tlearn: 0.8763837\ttotal: 1.33s\tremaining: 4.67s\n",
      "222:\tlearn: 0.8763744\ttotal: 1.34s\tremaining: 4.66s\n",
      "223:\tlearn: 0.8763644\ttotal: 1.34s\tremaining: 4.66s\n",
      "224:\tlearn: 0.8763541\ttotal: 1.35s\tremaining: 4.66s\n",
      "225:\tlearn: 0.8763406\ttotal: 1.36s\tremaining: 4.65s\n",
      "226:\tlearn: 0.8763298\ttotal: 1.36s\tremaining: 4.65s\n",
      "227:\tlearn: 0.8763176\ttotal: 1.37s\tremaining: 4.64s\n",
      "228:\tlearn: 0.8763065\ttotal: 1.38s\tremaining: 4.64s\n",
      "229:\tlearn: 0.8762941\ttotal: 1.38s\tremaining: 4.63s\n",
      "230:\tlearn: 0.8762831\ttotal: 1.39s\tremaining: 4.63s\n",
      "231:\tlearn: 0.8762782\ttotal: 1.4s\tremaining: 4.62s\n",
      "232:\tlearn: 0.8762683\ttotal: 1.4s\tremaining: 4.62s\n",
      "233:\tlearn: 0.8762584\ttotal: 1.41s\tremaining: 4.61s\n",
      "234:\tlearn: 0.8762461\ttotal: 1.42s\tremaining: 4.61s\n",
      "235:\tlearn: 0.8762351\ttotal: 1.42s\tremaining: 4.6s\n",
      "236:\tlearn: 0.8762263\ttotal: 1.43s\tremaining: 4.6s\n",
      "237:\tlearn: 0.8762183\ttotal: 1.44s\tremaining: 4.59s\n",
      "238:\tlearn: 0.8762072\ttotal: 1.44s\tremaining: 4.59s\n",
      "239:\tlearn: 0.8761967\ttotal: 1.45s\tremaining: 4.58s\n",
      "240:\tlearn: 0.8761924\ttotal: 1.45s\tremaining: 4.58s\n",
      "241:\tlearn: 0.8761842\ttotal: 1.46s\tremaining: 4.57s\n",
      "242:\tlearn: 0.8761774\ttotal: 1.47s\tremaining: 4.57s\n",
      "243:\tlearn: 0.8761699\ttotal: 1.47s\tremaining: 4.57s\n",
      "244:\tlearn: 0.8761601\ttotal: 1.48s\tremaining: 4.56s\n",
      "245:\tlearn: 0.8761552\ttotal: 1.49s\tremaining: 4.55s\n",
      "246:\tlearn: 0.8761458\ttotal: 1.49s\tremaining: 4.55s\n",
      "247:\tlearn: 0.8761350\ttotal: 1.5s\tremaining: 4.54s\n",
      "248:\tlearn: 0.8761268\ttotal: 1.5s\tremaining: 4.54s\n",
      "249:\tlearn: 0.8761183\ttotal: 1.51s\tremaining: 4.53s\n",
      "250:\tlearn: 0.8761096\ttotal: 1.52s\tremaining: 4.53s\n",
      "251:\tlearn: 0.8761022\ttotal: 1.52s\tremaining: 4.53s\n",
      "252:\tlearn: 0.8760949\ttotal: 1.53s\tremaining: 4.52s\n",
      "253:\tlearn: 0.8760878\ttotal: 1.54s\tremaining: 4.51s\n",
      "254:\tlearn: 0.8760797\ttotal: 1.54s\tremaining: 4.51s\n",
      "255:\tlearn: 0.8760727\ttotal: 1.55s\tremaining: 4.5s\n",
      "256:\tlearn: 0.8760656\ttotal: 1.56s\tremaining: 4.5s\n",
      "257:\tlearn: 0.8760614\ttotal: 1.56s\tremaining: 4.49s\n",
      "258:\tlearn: 0.8760537\ttotal: 1.57s\tremaining: 4.49s\n",
      "259:\tlearn: 0.8760459\ttotal: 1.57s\tremaining: 4.48s\n",
      "260:\tlearn: 0.8760412\ttotal: 1.58s\tremaining: 4.48s\n",
      "261:\tlearn: 0.8760358\ttotal: 1.59s\tremaining: 4.47s\n",
      "262:\tlearn: 0.8760294\ttotal: 1.59s\tremaining: 4.47s\n",
      "263:\tlearn: 0.8760213\ttotal: 1.6s\tremaining: 4.46s\n",
      "264:\tlearn: 0.8760157\ttotal: 1.61s\tremaining: 4.46s\n",
      "265:\tlearn: 0.8760075\ttotal: 1.61s\tremaining: 4.45s\n",
      "266:\tlearn: 0.8760037\ttotal: 1.62s\tremaining: 4.45s\n",
      "267:\tlearn: 0.8759978\ttotal: 1.63s\tremaining: 4.44s\n",
      "268:\tlearn: 0.8759901\ttotal: 1.63s\tremaining: 4.44s\n",
      "269:\tlearn: 0.8759845\ttotal: 1.64s\tremaining: 4.43s\n",
      "270:\tlearn: 0.8759775\ttotal: 1.65s\tremaining: 4.43s\n",
      "271:\tlearn: 0.8759732\ttotal: 1.65s\tremaining: 4.43s\n",
      "272:\tlearn: 0.8759669\ttotal: 1.66s\tremaining: 4.42s\n",
      "273:\tlearn: 0.8759638\ttotal: 1.67s\tremaining: 4.42s\n",
      "274:\tlearn: 0.8759588\ttotal: 1.68s\tremaining: 4.42s\n",
      "275:\tlearn: 0.8759553\ttotal: 1.68s\tremaining: 4.42s\n",
      "276:\tlearn: 0.8759467\ttotal: 1.69s\tremaining: 4.41s\n",
      "277:\tlearn: 0.8759403\ttotal: 1.7s\tremaining: 4.41s\n",
      "278:\tlearn: 0.8759353\ttotal: 1.71s\tremaining: 4.41s\n",
      "279:\tlearn: 0.8759282\ttotal: 1.71s\tremaining: 4.4s\n",
      "280:\tlearn: 0.8759230\ttotal: 1.72s\tremaining: 4.4s\n",
      "281:\tlearn: 0.8759160\ttotal: 1.73s\tremaining: 4.4s\n",
      "282:\tlearn: 0.8759128\ttotal: 1.73s\tremaining: 4.39s\n",
      "283:\tlearn: 0.8759082\ttotal: 1.74s\tremaining: 4.39s\n",
      "284:\tlearn: 0.8759017\ttotal: 1.75s\tremaining: 4.39s\n",
      "285:\tlearn: 0.8758934\ttotal: 1.76s\tremaining: 4.38s\n",
      "286:\tlearn: 0.8758880\ttotal: 1.76s\tremaining: 4.38s\n",
      "287:\tlearn: 0.8758829\ttotal: 1.77s\tremaining: 4.38s\n",
      "288:\tlearn: 0.8758797\ttotal: 1.78s\tremaining: 4.37s\n",
      "289:\tlearn: 0.8758760\ttotal: 1.78s\tremaining: 4.37s\n",
      "290:\tlearn: 0.8758705\ttotal: 1.79s\tremaining: 4.37s\n",
      "291:\tlearn: 0.8758646\ttotal: 1.8s\tremaining: 4.36s\n",
      "292:\tlearn: 0.8758598\ttotal: 1.81s\tremaining: 4.36s\n",
      "293:\tlearn: 0.8758555\ttotal: 1.81s\tremaining: 4.36s\n",
      "294:\tlearn: 0.8758526\ttotal: 1.82s\tremaining: 4.35s\n",
      "295:\tlearn: 0.8758468\ttotal: 1.83s\tremaining: 4.35s\n",
      "296:\tlearn: 0.8758439\ttotal: 1.84s\tremaining: 4.35s\n",
      "297:\tlearn: 0.8758380\ttotal: 1.84s\tremaining: 4.35s\n",
      "298:\tlearn: 0.8758344\ttotal: 1.85s\tremaining: 4.34s\n",
      "299:\tlearn: 0.8758288\ttotal: 1.86s\tremaining: 4.34s\n",
      "300:\tlearn: 0.8758221\ttotal: 1.87s\tremaining: 4.34s\n",
      "301:\tlearn: 0.8758194\ttotal: 1.87s\tremaining: 4.33s\n",
      "302:\tlearn: 0.8758151\ttotal: 1.88s\tremaining: 4.33s\n",
      "303:\tlearn: 0.8758103\ttotal: 1.89s\tremaining: 4.33s\n",
      "304:\tlearn: 0.8758063\ttotal: 1.9s\tremaining: 4.32s\n",
      "305:\tlearn: 0.8758024\ttotal: 1.9s\tremaining: 4.32s\n",
      "306:\tlearn: 0.8757990\ttotal: 1.91s\tremaining: 4.31s\n",
      "307:\tlearn: 0.8757937\ttotal: 1.92s\tremaining: 4.31s\n",
      "308:\tlearn: 0.8757891\ttotal: 1.92s\tremaining: 4.3s\n",
      "309:\tlearn: 0.8757844\ttotal: 1.93s\tremaining: 4.3s\n",
      "310:\tlearn: 0.8757794\ttotal: 1.94s\tremaining: 4.3s\n",
      "311:\tlearn: 0.8757749\ttotal: 1.95s\tremaining: 4.3s\n",
      "312:\tlearn: 0.8757700\ttotal: 1.96s\tremaining: 4.29s\n",
      "313:\tlearn: 0.8757637\ttotal: 1.96s\tremaining: 4.29s\n",
      "314:\tlearn: 0.8757605\ttotal: 1.97s\tremaining: 4.28s\n",
      "315:\tlearn: 0.8757556\ttotal: 1.98s\tremaining: 4.28s\n",
      "316:\tlearn: 0.8757531\ttotal: 1.98s\tremaining: 4.28s\n",
      "317:\tlearn: 0.8757464\ttotal: 1.99s\tremaining: 4.27s\n",
      "318:\tlearn: 0.8757409\ttotal: 2s\tremaining: 4.27s\n",
      "319:\tlearn: 0.8757371\ttotal: 2.01s\tremaining: 4.26s\n",
      "320:\tlearn: 0.8757332\ttotal: 2.01s\tremaining: 4.26s\n",
      "321:\tlearn: 0.8757292\ttotal: 2.02s\tremaining: 4.25s\n",
      "322:\tlearn: 0.8757260\ttotal: 2.03s\tremaining: 4.25s\n",
      "323:\tlearn: 0.8757218\ttotal: 2.04s\tremaining: 4.25s\n",
      "324:\tlearn: 0.8757152\ttotal: 2.04s\tremaining: 4.25s\n",
      "325:\tlearn: 0.8757127\ttotal: 2.05s\tremaining: 4.24s\n",
      "326:\tlearn: 0.8757096\ttotal: 2.06s\tremaining: 4.24s\n",
      "327:\tlearn: 0.8757056\ttotal: 2.06s\tremaining: 4.23s\n",
      "328:\tlearn: 0.8757010\ttotal: 2.07s\tremaining: 4.23s\n",
      "329:\tlearn: 0.8756980\ttotal: 2.08s\tremaining: 4.22s\n",
      "330:\tlearn: 0.8756935\ttotal: 2.09s\tremaining: 4.22s\n",
      "331:\tlearn: 0.8756900\ttotal: 2.1s\tremaining: 4.22s\n",
      "332:\tlearn: 0.8756860\ttotal: 2.1s\tremaining: 4.21s\n",
      "333:\tlearn: 0.8756820\ttotal: 2.11s\tremaining: 4.21s\n",
      "334:\tlearn: 0.8756763\ttotal: 2.12s\tremaining: 4.2s\n",
      "335:\tlearn: 0.8756745\ttotal: 2.12s\tremaining: 4.2s\n",
      "336:\tlearn: 0.8756690\ttotal: 2.13s\tremaining: 4.19s\n",
      "337:\tlearn: 0.8756663\ttotal: 2.14s\tremaining: 4.19s\n",
      "338:\tlearn: 0.8756631\ttotal: 2.15s\tremaining: 4.18s\n",
      "339:\tlearn: 0.8756594\ttotal: 2.15s\tremaining: 4.18s\n",
      "340:\tlearn: 0.8756554\ttotal: 2.16s\tremaining: 4.18s\n",
      "341:\tlearn: 0.8756495\ttotal: 2.17s\tremaining: 4.17s\n",
      "342:\tlearn: 0.8756468\ttotal: 2.18s\tremaining: 4.17s\n",
      "343:\tlearn: 0.8756429\ttotal: 2.18s\tremaining: 4.17s\n",
      "344:\tlearn: 0.8756408\ttotal: 2.19s\tremaining: 4.16s\n",
      "345:\tlearn: 0.8756364\ttotal: 2.2s\tremaining: 4.16s\n",
      "346:\tlearn: 0.8756338\ttotal: 2.21s\tremaining: 4.15s\n",
      "347:\tlearn: 0.8756286\ttotal: 2.21s\tremaining: 4.15s\n",
      "348:\tlearn: 0.8756259\ttotal: 2.22s\tremaining: 4.14s\n",
      "349:\tlearn: 0.8756209\ttotal: 2.23s\tremaining: 4.14s\n",
      "350:\tlearn: 0.8756176\ttotal: 2.24s\tremaining: 4.14s\n",
      "351:\tlearn: 0.8756152\ttotal: 2.24s\tremaining: 4.13s\n",
      "352:\tlearn: 0.8756110\ttotal: 2.25s\tremaining: 4.13s\n",
      "353:\tlearn: 0.8756086\ttotal: 2.26s\tremaining: 4.12s\n",
      "354:\tlearn: 0.8756057\ttotal: 2.27s\tremaining: 4.12s\n",
      "355:\tlearn: 0.8756033\ttotal: 2.27s\tremaining: 4.12s\n",
      "356:\tlearn: 0.8755992\ttotal: 2.28s\tremaining: 4.11s\n",
      "357:\tlearn: 0.8755964\ttotal: 2.29s\tremaining: 4.11s\n",
      "358:\tlearn: 0.8755927\ttotal: 2.3s\tremaining: 4.1s\n",
      "359:\tlearn: 0.8755882\ttotal: 2.3s\tremaining: 4.1s\n",
      "360:\tlearn: 0.8755837\ttotal: 2.31s\tremaining: 4.09s\n",
      "361:\tlearn: 0.8755793\ttotal: 2.32s\tremaining: 4.09s\n",
      "362:\tlearn: 0.8755762\ttotal: 2.33s\tremaining: 4.08s\n",
      "363:\tlearn: 0.8755740\ttotal: 2.33s\tremaining: 4.08s\n",
      "364:\tlearn: 0.8755725\ttotal: 2.34s\tremaining: 4.08s\n",
      "365:\tlearn: 0.8755699\ttotal: 2.35s\tremaining: 4.07s\n"
     ]
    },
    {
     "name": "stdout",
     "output_type": "stream",
     "text": [
      "366:\tlearn: 0.8755671\ttotal: 2.36s\tremaining: 4.07s\n",
      "367:\tlearn: 0.8755637\ttotal: 2.36s\tremaining: 4.06s\n",
      "368:\tlearn: 0.8755610\ttotal: 2.37s\tremaining: 4.06s\n",
      "369:\tlearn: 0.8755568\ttotal: 2.38s\tremaining: 4.05s\n",
      "370:\tlearn: 0.8755545\ttotal: 2.39s\tremaining: 4.05s\n",
      "371:\tlearn: 0.8755521\ttotal: 2.39s\tremaining: 4.04s\n",
      "372:\tlearn: 0.8755496\ttotal: 2.4s\tremaining: 4.04s\n",
      "373:\tlearn: 0.8755465\ttotal: 2.41s\tremaining: 4.03s\n",
      "374:\tlearn: 0.8755443\ttotal: 2.42s\tremaining: 4.03s\n",
      "375:\tlearn: 0.8755422\ttotal: 2.42s\tremaining: 4.02s\n",
      "376:\tlearn: 0.8755402\ttotal: 2.43s\tremaining: 4.02s\n",
      "377:\tlearn: 0.8755363\ttotal: 2.44s\tremaining: 4.01s\n",
      "378:\tlearn: 0.8755336\ttotal: 2.45s\tremaining: 4.01s\n",
      "379:\tlearn: 0.8755296\ttotal: 2.46s\tremaining: 4s\n",
      "380:\tlearn: 0.8755249\ttotal: 2.46s\tremaining: 4s\n",
      "381:\tlearn: 0.8755226\ttotal: 2.47s\tremaining: 4s\n",
      "382:\tlearn: 0.8755190\ttotal: 2.48s\tremaining: 3.99s\n",
      "383:\tlearn: 0.8755167\ttotal: 2.48s\tremaining: 3.99s\n",
      "384:\tlearn: 0.8755150\ttotal: 2.49s\tremaining: 3.98s\n",
      "385:\tlearn: 0.8755135\ttotal: 2.5s\tremaining: 3.98s\n",
      "386:\tlearn: 0.8755089\ttotal: 2.51s\tremaining: 3.97s\n",
      "387:\tlearn: 0.8755063\ttotal: 2.51s\tremaining: 3.97s\n",
      "388:\tlearn: 0.8755038\ttotal: 2.52s\tremaining: 3.96s\n",
      "389:\tlearn: 0.8755021\ttotal: 2.53s\tremaining: 3.96s\n",
      "390:\tlearn: 0.8755000\ttotal: 2.54s\tremaining: 3.95s\n",
      "391:\tlearn: 0.8754975\ttotal: 2.55s\tremaining: 3.95s\n",
      "392:\tlearn: 0.8754943\ttotal: 2.55s\tremaining: 3.94s\n",
      "393:\tlearn: 0.8754924\ttotal: 2.56s\tremaining: 3.94s\n",
      "394:\tlearn: 0.8754895\ttotal: 2.57s\tremaining: 3.93s\n",
      "395:\tlearn: 0.8754875\ttotal: 2.58s\tremaining: 3.93s\n",
      "396:\tlearn: 0.8754861\ttotal: 2.58s\tremaining: 3.92s\n",
      "397:\tlearn: 0.8754846\ttotal: 2.59s\tremaining: 3.92s\n",
      "398:\tlearn: 0.8754816\ttotal: 2.6s\tremaining: 3.92s\n",
      "399:\tlearn: 0.8754795\ttotal: 2.61s\tremaining: 3.91s\n",
      "400:\tlearn: 0.8754763\ttotal: 2.61s\tremaining: 3.9s\n",
      "401:\tlearn: 0.8754741\ttotal: 2.62s\tremaining: 3.9s\n",
      "402:\tlearn: 0.8754722\ttotal: 2.63s\tremaining: 3.9s\n",
      "403:\tlearn: 0.8754704\ttotal: 2.64s\tremaining: 3.89s\n",
      "404:\tlearn: 0.8754677\ttotal: 2.64s\tremaining: 3.88s\n",
      "405:\tlearn: 0.8754664\ttotal: 2.65s\tremaining: 3.88s\n",
      "406:\tlearn: 0.8754629\ttotal: 2.66s\tremaining: 3.88s\n",
      "407:\tlearn: 0.8754617\ttotal: 2.67s\tremaining: 3.87s\n",
      "408:\tlearn: 0.8754602\ttotal: 2.67s\tremaining: 3.87s\n",
      "409:\tlearn: 0.8754573\ttotal: 2.68s\tremaining: 3.86s\n",
      "410:\tlearn: 0.8754529\ttotal: 2.69s\tremaining: 3.85s\n",
      "411:\tlearn: 0.8754507\ttotal: 2.7s\tremaining: 3.85s\n",
      "412:\tlearn: 0.8754468\ttotal: 2.7s\tremaining: 3.84s\n",
      "413:\tlearn: 0.8754436\ttotal: 2.71s\tremaining: 3.84s\n",
      "414:\tlearn: 0.8754418\ttotal: 2.72s\tremaining: 3.83s\n",
      "415:\tlearn: 0.8754396\ttotal: 2.73s\tremaining: 3.83s\n",
      "416:\tlearn: 0.8754380\ttotal: 2.73s\tremaining: 3.82s\n",
      "417:\tlearn: 0.8754360\ttotal: 2.74s\tremaining: 3.82s\n",
      "418:\tlearn: 0.8754343\ttotal: 2.75s\tremaining: 3.81s\n",
      "419:\tlearn: 0.8754327\ttotal: 2.76s\tremaining: 3.81s\n",
      "420:\tlearn: 0.8754295\ttotal: 2.77s\tremaining: 3.8s\n",
      "421:\tlearn: 0.8754271\ttotal: 2.77s\tremaining: 3.8s\n",
      "422:\tlearn: 0.8754240\ttotal: 2.78s\tremaining: 3.79s\n",
      "423:\tlearn: 0.8754225\ttotal: 2.79s\tremaining: 3.79s\n",
      "424:\tlearn: 0.8754213\ttotal: 2.8s\tremaining: 3.78s\n",
      "425:\tlearn: 0.8754185\ttotal: 2.8s\tremaining: 3.78s\n",
      "426:\tlearn: 0.8754149\ttotal: 2.81s\tremaining: 3.77s\n",
      "427:\tlearn: 0.8754120\ttotal: 2.82s\tremaining: 3.77s\n",
      "428:\tlearn: 0.8754090\ttotal: 2.83s\tremaining: 3.76s\n",
      "429:\tlearn: 0.8754075\ttotal: 2.83s\tremaining: 3.76s\n",
      "430:\tlearn: 0.8754049\ttotal: 2.84s\tremaining: 3.75s\n",
      "431:\tlearn: 0.8754035\ttotal: 2.85s\tremaining: 3.75s\n",
      "432:\tlearn: 0.8754020\ttotal: 2.86s\tremaining: 3.74s\n",
      "433:\tlearn: 0.8754007\ttotal: 2.87s\tremaining: 3.74s\n",
      "434:\tlearn: 0.8753992\ttotal: 2.87s\tremaining: 3.73s\n",
      "435:\tlearn: 0.8753967\ttotal: 2.88s\tremaining: 3.73s\n",
      "436:\tlearn: 0.8753938\ttotal: 2.89s\tremaining: 3.72s\n",
      "437:\tlearn: 0.8753921\ttotal: 2.89s\tremaining: 3.71s\n",
      "438:\tlearn: 0.8753908\ttotal: 2.9s\tremaining: 3.71s\n",
      "439:\tlearn: 0.8753898\ttotal: 2.91s\tremaining: 3.7s\n",
      "440:\tlearn: 0.8753886\ttotal: 2.92s\tremaining: 3.7s\n",
      "441:\tlearn: 0.8753861\ttotal: 2.92s\tremaining: 3.69s\n",
      "442:\tlearn: 0.8753841\ttotal: 2.93s\tremaining: 3.69s\n",
      "443:\tlearn: 0.8753820\ttotal: 2.94s\tremaining: 3.68s\n",
      "444:\tlearn: 0.8753802\ttotal: 2.95s\tremaining: 3.68s\n",
      "445:\tlearn: 0.8753790\ttotal: 2.96s\tremaining: 3.67s\n",
      "446:\tlearn: 0.8753768\ttotal: 2.96s\tremaining: 3.67s\n",
      "447:\tlearn: 0.8753756\ttotal: 2.97s\tremaining: 3.66s\n",
      "448:\tlearn: 0.8753733\ttotal: 2.98s\tremaining: 3.65s\n",
      "449:\tlearn: 0.8753717\ttotal: 2.98s\tremaining: 3.65s\n",
      "450:\tlearn: 0.8753702\ttotal: 2.99s\tremaining: 3.64s\n",
      "451:\tlearn: 0.8753673\ttotal: 3s\tremaining: 3.64s\n",
      "452:\tlearn: 0.8753659\ttotal: 3.01s\tremaining: 3.63s\n",
      "453:\tlearn: 0.8753617\ttotal: 3.02s\tremaining: 3.63s\n",
      "454:\tlearn: 0.8753601\ttotal: 3.02s\tremaining: 3.62s\n",
      "455:\tlearn: 0.8753589\ttotal: 3.03s\tremaining: 3.62s\n",
      "456:\tlearn: 0.8753558\ttotal: 3.04s\tremaining: 3.61s\n",
      "457:\tlearn: 0.8753544\ttotal: 3.05s\tremaining: 3.61s\n",
      "458:\tlearn: 0.8753518\ttotal: 3.06s\tremaining: 3.6s\n",
      "459:\tlearn: 0.8753502\ttotal: 3.06s\tremaining: 3.6s\n",
      "460:\tlearn: 0.8753476\ttotal: 3.07s\tremaining: 3.59s\n",
      "461:\tlearn: 0.8753464\ttotal: 3.08s\tremaining: 3.59s\n",
      "462:\tlearn: 0.8753436\ttotal: 3.09s\tremaining: 3.58s\n",
      "463:\tlearn: 0.8753425\ttotal: 3.1s\tremaining: 3.58s\n",
      "464:\tlearn: 0.8753400\ttotal: 3.1s\tremaining: 3.57s\n",
      "465:\tlearn: 0.8753384\ttotal: 3.11s\tremaining: 3.56s\n",
      "466:\tlearn: 0.8753359\ttotal: 3.12s\tremaining: 3.56s\n",
      "467:\tlearn: 0.8753339\ttotal: 3.13s\tremaining: 3.56s\n",
      "468:\tlearn: 0.8753306\ttotal: 3.14s\tremaining: 3.55s\n",
      "469:\tlearn: 0.8753289\ttotal: 3.15s\tremaining: 3.55s\n",
      "470:\tlearn: 0.8753271\ttotal: 3.15s\tremaining: 3.54s\n",
      "471:\tlearn: 0.8753240\ttotal: 3.16s\tremaining: 3.54s\n",
      "472:\tlearn: 0.8753222\ttotal: 3.17s\tremaining: 3.53s\n",
      "473:\tlearn: 0.8753208\ttotal: 3.18s\tremaining: 3.52s\n",
      "474:\tlearn: 0.8753196\ttotal: 3.18s\tremaining: 3.52s\n",
      "475:\tlearn: 0.8753176\ttotal: 3.19s\tremaining: 3.51s\n",
      "476:\tlearn: 0.8753155\ttotal: 3.2s\tremaining: 3.51s\n",
      "477:\tlearn: 0.8753148\ttotal: 3.21s\tremaining: 3.5s\n",
      "478:\tlearn: 0.8753134\ttotal: 3.21s\tremaining: 3.5s\n",
      "479:\tlearn: 0.8753120\ttotal: 3.22s\tremaining: 3.49s\n",
      "480:\tlearn: 0.8753112\ttotal: 3.23s\tremaining: 3.49s\n",
      "481:\tlearn: 0.8753074\ttotal: 3.24s\tremaining: 3.48s\n",
      "482:\tlearn: 0.8753063\ttotal: 3.25s\tremaining: 3.48s\n",
      "483:\tlearn: 0.8753053\ttotal: 3.26s\tremaining: 3.47s\n",
      "484:\tlearn: 0.8753039\ttotal: 3.27s\tremaining: 3.47s\n",
      "485:\tlearn: 0.8753026\ttotal: 3.27s\tremaining: 3.46s\n",
      "486:\tlearn: 0.8753018\ttotal: 3.28s\tremaining: 3.46s\n",
      "487:\tlearn: 0.8752998\ttotal: 3.29s\tremaining: 3.45s\n",
      "488:\tlearn: 0.8752975\ttotal: 3.3s\tremaining: 3.45s\n",
      "489:\tlearn: 0.8752952\ttotal: 3.31s\tremaining: 3.44s\n",
      "490:\tlearn: 0.8752944\ttotal: 3.31s\tremaining: 3.44s\n",
      "491:\tlearn: 0.8752931\ttotal: 3.32s\tremaining: 3.43s\n",
      "492:\tlearn: 0.8752911\ttotal: 3.33s\tremaining: 3.42s\n",
      "493:\tlearn: 0.8752893\ttotal: 3.34s\tremaining: 3.42s\n",
      "494:\tlearn: 0.8752876\ttotal: 3.35s\tremaining: 3.41s\n",
      "495:\tlearn: 0.8752866\ttotal: 3.35s\tremaining: 3.41s\n",
      "496:\tlearn: 0.8752852\ttotal: 3.36s\tremaining: 3.4s\n",
      "497:\tlearn: 0.8752835\ttotal: 3.37s\tremaining: 3.4s\n",
      "498:\tlearn: 0.8752815\ttotal: 3.38s\tremaining: 3.39s\n",
      "499:\tlearn: 0.8752803\ttotal: 3.38s\tremaining: 3.38s\n",
      "500:\tlearn: 0.8752784\ttotal: 3.39s\tremaining: 3.38s\n",
      "501:\tlearn: 0.8752771\ttotal: 3.4s\tremaining: 3.37s\n",
      "502:\tlearn: 0.8752750\ttotal: 3.41s\tremaining: 3.37s\n",
      "503:\tlearn: 0.8752739\ttotal: 3.42s\tremaining: 3.36s\n",
      "504:\tlearn: 0.8752730\ttotal: 3.42s\tremaining: 3.35s\n",
      "505:\tlearn: 0.8752703\ttotal: 3.43s\tremaining: 3.35s\n",
      "506:\tlearn: 0.8752670\ttotal: 3.44s\tremaining: 3.34s\n",
      "507:\tlearn: 0.8752653\ttotal: 3.45s\tremaining: 3.34s\n",
      "508:\tlearn: 0.8752642\ttotal: 3.46s\tremaining: 3.33s\n",
      "509:\tlearn: 0.8752624\ttotal: 3.46s\tremaining: 3.33s\n",
      "510:\tlearn: 0.8752597\ttotal: 3.47s\tremaining: 3.32s\n",
      "511:\tlearn: 0.8752582\ttotal: 3.48s\tremaining: 3.31s\n",
      "512:\tlearn: 0.8752571\ttotal: 3.49s\tremaining: 3.31s\n",
      "513:\tlearn: 0.8752555\ttotal: 3.49s\tremaining: 3.3s\n",
      "514:\tlearn: 0.8752537\ttotal: 3.5s\tremaining: 3.3s\n",
      "515:\tlearn: 0.8752519\ttotal: 3.51s\tremaining: 3.29s\n",
      "516:\tlearn: 0.8752488\ttotal: 3.52s\tremaining: 3.29s\n",
      "517:\tlearn: 0.8752469\ttotal: 3.52s\tremaining: 3.28s\n",
      "518:\tlearn: 0.8752457\ttotal: 3.53s\tremaining: 3.27s\n",
      "519:\tlearn: 0.8752437\ttotal: 3.54s\tremaining: 3.27s\n",
      "520:\tlearn: 0.8752408\ttotal: 3.55s\tremaining: 3.26s\n",
      "521:\tlearn: 0.8752395\ttotal: 3.56s\tremaining: 3.26s\n",
      "522:\tlearn: 0.8752387\ttotal: 3.56s\tremaining: 3.25s\n",
      "523:\tlearn: 0.8752369\ttotal: 3.57s\tremaining: 3.24s\n",
      "524:\tlearn: 0.8752360\ttotal: 3.58s\tremaining: 3.24s\n",
      "525:\tlearn: 0.8752347\ttotal: 3.59s\tremaining: 3.23s\n",
      "526:\tlearn: 0.8752336\ttotal: 3.6s\tremaining: 3.23s\n",
      "527:\tlearn: 0.8752321\ttotal: 3.6s\tremaining: 3.22s\n"
     ]
    },
    {
     "name": "stdout",
     "output_type": "stream",
     "text": [
      "528:\tlearn: 0.8752305\ttotal: 3.61s\tremaining: 3.21s\n",
      "529:\tlearn: 0.8752293\ttotal: 3.62s\tremaining: 3.21s\n",
      "530:\tlearn: 0.8752284\ttotal: 3.63s\tremaining: 3.2s\n",
      "531:\tlearn: 0.8752274\ttotal: 3.63s\tremaining: 3.2s\n",
      "532:\tlearn: 0.8752262\ttotal: 3.64s\tremaining: 3.19s\n",
      "533:\tlearn: 0.8752252\ttotal: 3.65s\tremaining: 3.19s\n",
      "534:\tlearn: 0.8752240\ttotal: 3.66s\tremaining: 3.18s\n",
      "535:\tlearn: 0.8752232\ttotal: 3.67s\tremaining: 3.17s\n",
      "536:\tlearn: 0.8752222\ttotal: 3.67s\tremaining: 3.17s\n",
      "537:\tlearn: 0.8752207\ttotal: 3.68s\tremaining: 3.16s\n",
      "538:\tlearn: 0.8752194\ttotal: 3.69s\tremaining: 3.15s\n",
      "539:\tlearn: 0.8752177\ttotal: 3.7s\tremaining: 3.15s\n",
      "540:\tlearn: 0.8752169\ttotal: 3.71s\tremaining: 3.14s\n",
      "541:\tlearn: 0.8752153\ttotal: 3.71s\tremaining: 3.14s\n",
      "542:\tlearn: 0.8752136\ttotal: 3.72s\tremaining: 3.13s\n",
      "543:\tlearn: 0.8752129\ttotal: 3.73s\tremaining: 3.13s\n",
      "544:\tlearn: 0.8752119\ttotal: 3.74s\tremaining: 3.12s\n",
      "545:\tlearn: 0.8752109\ttotal: 3.75s\tremaining: 3.11s\n",
      "546:\tlearn: 0.8752097\ttotal: 3.75s\tremaining: 3.11s\n",
      "547:\tlearn: 0.8752081\ttotal: 3.76s\tremaining: 3.1s\n",
      "548:\tlearn: 0.8752067\ttotal: 3.77s\tremaining: 3.1s\n",
      "549:\tlearn: 0.8752055\ttotal: 3.78s\tremaining: 3.09s\n",
      "550:\tlearn: 0.8752048\ttotal: 3.78s\tremaining: 3.08s\n",
      "551:\tlearn: 0.8752033\ttotal: 3.79s\tremaining: 3.08s\n",
      "552:\tlearn: 0.8752023\ttotal: 3.8s\tremaining: 3.07s\n",
      "553:\tlearn: 0.8752014\ttotal: 3.81s\tremaining: 3.06s\n",
      "554:\tlearn: 0.8752007\ttotal: 3.82s\tremaining: 3.06s\n",
      "555:\tlearn: 0.8752000\ttotal: 3.83s\tremaining: 3.06s\n",
      "556:\tlearn: 0.8751989\ttotal: 3.83s\tremaining: 3.05s\n",
      "557:\tlearn: 0.8751981\ttotal: 3.84s\tremaining: 3.04s\n",
      "558:\tlearn: 0.8751971\ttotal: 3.85s\tremaining: 3.04s\n",
      "559:\tlearn: 0.8751961\ttotal: 3.86s\tremaining: 3.03s\n",
      "560:\tlearn: 0.8751949\ttotal: 3.87s\tremaining: 3.03s\n",
      "561:\tlearn: 0.8751942\ttotal: 3.88s\tremaining: 3.02s\n",
      "562:\tlearn: 0.8751936\ttotal: 3.88s\tremaining: 3.01s\n",
      "563:\tlearn: 0.8751923\ttotal: 3.89s\tremaining: 3.01s\n",
      "564:\tlearn: 0.8751905\ttotal: 3.9s\tremaining: 3s\n",
      "565:\tlearn: 0.8751893\ttotal: 3.91s\tremaining: 3s\n",
      "566:\tlearn: 0.8751881\ttotal: 3.92s\tremaining: 2.99s\n",
      "567:\tlearn: 0.8751876\ttotal: 3.92s\tremaining: 2.98s\n",
      "568:\tlearn: 0.8751868\ttotal: 3.93s\tremaining: 2.98s\n",
      "569:\tlearn: 0.8751852\ttotal: 3.94s\tremaining: 2.97s\n",
      "570:\tlearn: 0.8751838\ttotal: 3.95s\tremaining: 2.97s\n",
      "571:\tlearn: 0.8751829\ttotal: 3.96s\tremaining: 2.96s\n",
      "572:\tlearn: 0.8751820\ttotal: 3.96s\tremaining: 2.96s\n",
      "573:\tlearn: 0.8751807\ttotal: 3.97s\tremaining: 2.95s\n",
      "574:\tlearn: 0.8751799\ttotal: 3.98s\tremaining: 2.94s\n",
      "575:\tlearn: 0.8751787\ttotal: 3.99s\tremaining: 2.94s\n",
      "576:\tlearn: 0.8751778\ttotal: 4s\tremaining: 2.93s\n",
      "577:\tlearn: 0.8751761\ttotal: 4.01s\tremaining: 2.92s\n",
      "578:\tlearn: 0.8751755\ttotal: 4.01s\tremaining: 2.92s\n",
      "579:\tlearn: 0.8751739\ttotal: 4.02s\tremaining: 2.91s\n",
      "580:\tlearn: 0.8751732\ttotal: 4.03s\tremaining: 2.91s\n",
      "581:\tlearn: 0.8751723\ttotal: 4.04s\tremaining: 2.9s\n",
      "582:\tlearn: 0.8751714\ttotal: 4.05s\tremaining: 2.9s\n",
      "583:\tlearn: 0.8751702\ttotal: 4.06s\tremaining: 2.89s\n",
      "584:\tlearn: 0.8751692\ttotal: 4.07s\tremaining: 2.88s\n",
      "585:\tlearn: 0.8751683\ttotal: 4.07s\tremaining: 2.88s\n",
      "586:\tlearn: 0.8751669\ttotal: 4.08s\tremaining: 2.87s\n",
      "587:\tlearn: 0.8751660\ttotal: 4.09s\tremaining: 2.87s\n",
      "588:\tlearn: 0.8751645\ttotal: 4.1s\tremaining: 2.86s\n",
      "589:\tlearn: 0.8751631\ttotal: 4.11s\tremaining: 2.85s\n",
      "590:\tlearn: 0.8751619\ttotal: 4.11s\tremaining: 2.85s\n",
      "591:\tlearn: 0.8751597\ttotal: 4.12s\tremaining: 2.84s\n",
      "592:\tlearn: 0.8751584\ttotal: 4.13s\tremaining: 2.83s\n",
      "593:\tlearn: 0.8751574\ttotal: 4.14s\tremaining: 2.83s\n",
      "594:\tlearn: 0.8751561\ttotal: 4.15s\tremaining: 2.82s\n",
      "595:\tlearn: 0.8751552\ttotal: 4.16s\tremaining: 2.82s\n",
      "596:\tlearn: 0.8751544\ttotal: 4.16s\tremaining: 2.81s\n",
      "597:\tlearn: 0.8751538\ttotal: 4.17s\tremaining: 2.8s\n",
      "598:\tlearn: 0.8751532\ttotal: 4.18s\tremaining: 2.8s\n",
      "599:\tlearn: 0.8751522\ttotal: 4.19s\tremaining: 2.79s\n",
      "600:\tlearn: 0.8751509\ttotal: 4.2s\tremaining: 2.79s\n",
      "601:\tlearn: 0.8751495\ttotal: 4.2s\tremaining: 2.78s\n",
      "602:\tlearn: 0.8751481\ttotal: 4.21s\tremaining: 2.77s\n",
      "603:\tlearn: 0.8751472\ttotal: 4.22s\tremaining: 2.77s\n",
      "604:\tlearn: 0.8751465\ttotal: 4.23s\tremaining: 2.76s\n",
      "605:\tlearn: 0.8751458\ttotal: 4.24s\tremaining: 2.75s\n",
      "606:\tlearn: 0.8751452\ttotal: 4.25s\tremaining: 2.75s\n",
      "607:\tlearn: 0.8751438\ttotal: 4.25s\tremaining: 2.74s\n",
      "608:\tlearn: 0.8751425\ttotal: 4.26s\tremaining: 2.74s\n",
      "609:\tlearn: 0.8751414\ttotal: 4.27s\tremaining: 2.73s\n",
      "610:\tlearn: 0.8751407\ttotal: 4.28s\tremaining: 2.72s\n",
      "611:\tlearn: 0.8751398\ttotal: 4.29s\tremaining: 2.72s\n",
      "612:\tlearn: 0.8751391\ttotal: 4.3s\tremaining: 2.71s\n",
      "613:\tlearn: 0.8751385\ttotal: 4.3s\tremaining: 2.71s\n",
      "614:\tlearn: 0.8751379\ttotal: 4.31s\tremaining: 2.7s\n",
      "615:\tlearn: 0.8751371\ttotal: 4.32s\tremaining: 2.69s\n",
      "616:\tlearn: 0.8751359\ttotal: 4.33s\tremaining: 2.69s\n",
      "617:\tlearn: 0.8751346\ttotal: 4.34s\tremaining: 2.68s\n",
      "618:\tlearn: 0.8751334\ttotal: 4.35s\tremaining: 2.67s\n",
      "619:\tlearn: 0.8751320\ttotal: 4.36s\tremaining: 2.67s\n",
      "620:\tlearn: 0.8751315\ttotal: 4.36s\tremaining: 2.66s\n",
      "621:\tlearn: 0.8751307\ttotal: 4.37s\tremaining: 2.66s\n",
      "622:\tlearn: 0.8751302\ttotal: 4.38s\tremaining: 2.65s\n",
      "623:\tlearn: 0.8751295\ttotal: 4.39s\tremaining: 2.64s\n",
      "624:\tlearn: 0.8751289\ttotal: 4.4s\tremaining: 2.64s\n",
      "625:\tlearn: 0.8751277\ttotal: 4.41s\tremaining: 2.63s\n",
      "626:\tlearn: 0.8751271\ttotal: 4.42s\tremaining: 2.63s\n",
      "627:\tlearn: 0.8751261\ttotal: 4.42s\tremaining: 2.62s\n",
      "628:\tlearn: 0.8751255\ttotal: 4.43s\tremaining: 2.61s\n",
      "629:\tlearn: 0.8751247\ttotal: 4.44s\tremaining: 2.61s\n",
      "630:\tlearn: 0.8751236\ttotal: 4.45s\tremaining: 2.6s\n",
      "631:\tlearn: 0.8751227\ttotal: 4.46s\tremaining: 2.6s\n",
      "632:\tlearn: 0.8751220\ttotal: 4.46s\tremaining: 2.59s\n",
      "633:\tlearn: 0.8751214\ttotal: 4.47s\tremaining: 2.58s\n",
      "634:\tlearn: 0.8751209\ttotal: 4.48s\tremaining: 2.58s\n",
      "635:\tlearn: 0.8751195\ttotal: 4.49s\tremaining: 2.57s\n",
      "636:\tlearn: 0.8751184\ttotal: 4.5s\tremaining: 2.56s\n",
      "637:\tlearn: 0.8751173\ttotal: 4.51s\tremaining: 2.56s\n",
      "638:\tlearn: 0.8751170\ttotal: 4.51s\tremaining: 2.55s\n",
      "639:\tlearn: 0.8751165\ttotal: 4.52s\tremaining: 2.54s\n",
      "640:\tlearn: 0.8751158\ttotal: 4.53s\tremaining: 2.54s\n",
      "641:\tlearn: 0.8751150\ttotal: 4.54s\tremaining: 2.53s\n",
      "642:\tlearn: 0.8751141\ttotal: 4.55s\tremaining: 2.52s\n",
      "643:\tlearn: 0.8751135\ttotal: 4.56s\tremaining: 2.52s\n",
      "644:\tlearn: 0.8751124\ttotal: 4.57s\tremaining: 2.51s\n",
      "645:\tlearn: 0.8751117\ttotal: 4.57s\tremaining: 2.51s\n",
      "646:\tlearn: 0.8751105\ttotal: 4.58s\tremaining: 2.5s\n",
      "647:\tlearn: 0.8751102\ttotal: 4.59s\tremaining: 2.49s\n",
      "648:\tlearn: 0.8751096\ttotal: 4.6s\tremaining: 2.49s\n",
      "649:\tlearn: 0.8751084\ttotal: 4.61s\tremaining: 2.48s\n",
      "650:\tlearn: 0.8751073\ttotal: 4.62s\tremaining: 2.47s\n",
      "651:\tlearn: 0.8751061\ttotal: 4.62s\tremaining: 2.47s\n",
      "652:\tlearn: 0.8751052\ttotal: 4.63s\tremaining: 2.46s\n",
      "653:\tlearn: 0.8751042\ttotal: 4.64s\tremaining: 2.46s\n",
      "654:\tlearn: 0.8751035\ttotal: 4.65s\tremaining: 2.45s\n",
      "655:\tlearn: 0.8751017\ttotal: 4.66s\tremaining: 2.44s\n",
      "656:\tlearn: 0.8751010\ttotal: 4.67s\tremaining: 2.44s\n",
      "657:\tlearn: 0.8751005\ttotal: 4.67s\tremaining: 2.43s\n",
      "658:\tlearn: 0.8750990\ttotal: 4.68s\tremaining: 2.42s\n",
      "659:\tlearn: 0.8750983\ttotal: 4.69s\tremaining: 2.42s\n",
      "660:\tlearn: 0.8750977\ttotal: 4.7s\tremaining: 2.41s\n",
      "661:\tlearn: 0.8750969\ttotal: 4.71s\tremaining: 2.4s\n",
      "662:\tlearn: 0.8750958\ttotal: 4.71s\tremaining: 2.4s\n",
      "663:\tlearn: 0.8750954\ttotal: 4.72s\tremaining: 2.39s\n",
      "664:\tlearn: 0.8750947\ttotal: 4.73s\tremaining: 2.38s\n",
      "665:\tlearn: 0.8750943\ttotal: 4.74s\tremaining: 2.38s\n",
      "666:\tlearn: 0.8750936\ttotal: 4.75s\tremaining: 2.37s\n",
      "667:\tlearn: 0.8750923\ttotal: 4.76s\tremaining: 2.37s\n",
      "668:\tlearn: 0.8750916\ttotal: 4.77s\tremaining: 2.36s\n",
      "669:\tlearn: 0.8750911\ttotal: 4.78s\tremaining: 2.35s\n",
      "670:\tlearn: 0.8750905\ttotal: 4.79s\tremaining: 2.35s\n",
      "671:\tlearn: 0.8750899\ttotal: 4.79s\tremaining: 2.34s\n",
      "672:\tlearn: 0.8750891\ttotal: 4.8s\tremaining: 2.33s\n",
      "673:\tlearn: 0.8750886\ttotal: 4.81s\tremaining: 2.33s\n",
      "674:\tlearn: 0.8750880\ttotal: 4.82s\tremaining: 2.32s\n",
      "675:\tlearn: 0.8750875\ttotal: 4.83s\tremaining: 2.31s\n",
      "676:\tlearn: 0.8750870\ttotal: 4.84s\tremaining: 2.31s\n",
      "677:\tlearn: 0.8750864\ttotal: 4.85s\tremaining: 2.3s\n",
      "678:\tlearn: 0.8750855\ttotal: 4.86s\tremaining: 2.29s\n",
      "679:\tlearn: 0.8750852\ttotal: 4.86s\tremaining: 2.29s\n",
      "680:\tlearn: 0.8750841\ttotal: 4.87s\tremaining: 2.28s\n",
      "681:\tlearn: 0.8750827\ttotal: 4.88s\tremaining: 2.27s\n",
      "682:\tlearn: 0.8750823\ttotal: 4.89s\tremaining: 2.27s\n",
      "683:\tlearn: 0.8750818\ttotal: 4.89s\tremaining: 2.26s\n",
      "684:\tlearn: 0.8750808\ttotal: 4.91s\tremaining: 2.25s\n",
      "685:\tlearn: 0.8750803\ttotal: 4.91s\tremaining: 2.25s\n",
      "686:\tlearn: 0.8750797\ttotal: 4.92s\tremaining: 2.24s\n",
      "687:\tlearn: 0.8750787\ttotal: 4.93s\tremaining: 2.24s\n",
      "688:\tlearn: 0.8750778\ttotal: 4.94s\tremaining: 2.23s\n",
      "689:\tlearn: 0.8750772\ttotal: 4.95s\tremaining: 2.22s\n",
      "690:\tlearn: 0.8750768\ttotal: 4.96s\tremaining: 2.22s\n",
      "691:\tlearn: 0.8750760\ttotal: 4.96s\tremaining: 2.21s\n",
      "692:\tlearn: 0.8750755\ttotal: 4.97s\tremaining: 2.2s\n",
      "693:\tlearn: 0.8750746\ttotal: 4.98s\tremaining: 2.2s\n",
      "694:\tlearn: 0.8750740\ttotal: 4.99s\tremaining: 2.19s\n",
      "695:\tlearn: 0.8750736\ttotal: 5s\tremaining: 2.18s\n",
      "696:\tlearn: 0.8750726\ttotal: 5.01s\tremaining: 2.18s\n",
      "697:\tlearn: 0.8750719\ttotal: 5.02s\tremaining: 2.17s\n",
      "698:\tlearn: 0.8750714\ttotal: 5.03s\tremaining: 2.16s\n",
      "699:\tlearn: 0.8750704\ttotal: 5.03s\tremaining: 2.16s\n",
      "700:\tlearn: 0.8750697\ttotal: 5.04s\tremaining: 2.15s\n",
      "701:\tlearn: 0.8750695\ttotal: 5.05s\tremaining: 2.14s\n",
      "702:\tlearn: 0.8750687\ttotal: 5.06s\tremaining: 2.14s\n"
     ]
    },
    {
     "name": "stdout",
     "output_type": "stream",
     "text": [
      "703:\tlearn: 0.8750683\ttotal: 5.07s\tremaining: 2.13s\n",
      "704:\tlearn: 0.8750672\ttotal: 5.08s\tremaining: 2.12s\n",
      "705:\tlearn: 0.8750660\ttotal: 5.08s\tremaining: 2.12s\n",
      "706:\tlearn: 0.8750640\ttotal: 5.09s\tremaining: 2.11s\n",
      "707:\tlearn: 0.8750637\ttotal: 5.1s\tremaining: 2.1s\n",
      "708:\tlearn: 0.8750627\ttotal: 5.11s\tremaining: 2.1s\n",
      "709:\tlearn: 0.8750622\ttotal: 5.12s\tremaining: 2.09s\n",
      "710:\tlearn: 0.8750618\ttotal: 5.13s\tremaining: 2.08s\n",
      "711:\tlearn: 0.8750613\ttotal: 5.13s\tremaining: 2.08s\n",
      "712:\tlearn: 0.8750607\ttotal: 5.14s\tremaining: 2.07s\n",
      "713:\tlearn: 0.8750591\ttotal: 5.15s\tremaining: 2.06s\n",
      "714:\tlearn: 0.8750586\ttotal: 5.16s\tremaining: 2.06s\n",
      "715:\tlearn: 0.8750580\ttotal: 5.17s\tremaining: 2.05s\n",
      "716:\tlearn: 0.8750576\ttotal: 5.18s\tremaining: 2.04s\n",
      "717:\tlearn: 0.8750572\ttotal: 5.18s\tremaining: 2.04s\n",
      "718:\tlearn: 0.8750564\ttotal: 5.19s\tremaining: 2.03s\n",
      "719:\tlearn: 0.8750556\ttotal: 5.2s\tremaining: 2.02s\n",
      "720:\tlearn: 0.8750551\ttotal: 5.21s\tremaining: 2.02s\n",
      "721:\tlearn: 0.8750544\ttotal: 5.22s\tremaining: 2.01s\n",
      "722:\tlearn: 0.8750522\ttotal: 5.23s\tremaining: 2s\n",
      "723:\tlearn: 0.8750519\ttotal: 5.24s\tremaining: 2s\n",
      "724:\tlearn: 0.8750516\ttotal: 5.25s\tremaining: 1.99s\n",
      "725:\tlearn: 0.8750506\ttotal: 5.25s\tremaining: 1.98s\n",
      "726:\tlearn: 0.8750492\ttotal: 5.26s\tremaining: 1.98s\n",
      "727:\tlearn: 0.8750480\ttotal: 5.27s\tremaining: 1.97s\n",
      "728:\tlearn: 0.8750470\ttotal: 5.28s\tremaining: 1.96s\n",
      "729:\tlearn: 0.8750467\ttotal: 5.29s\tremaining: 1.96s\n",
      "730:\tlearn: 0.8750457\ttotal: 5.29s\tremaining: 1.95s\n",
      "731:\tlearn: 0.8750450\ttotal: 5.3s\tremaining: 1.94s\n",
      "732:\tlearn: 0.8750447\ttotal: 5.31s\tremaining: 1.93s\n",
      "733:\tlearn: 0.8750438\ttotal: 5.32s\tremaining: 1.93s\n",
      "734:\tlearn: 0.8750432\ttotal: 5.33s\tremaining: 1.92s\n",
      "735:\tlearn: 0.8750423\ttotal: 5.34s\tremaining: 1.92s\n",
      "736:\tlearn: 0.8750416\ttotal: 5.35s\tremaining: 1.91s\n",
      "737:\tlearn: 0.8750409\ttotal: 5.36s\tremaining: 1.9s\n",
      "738:\tlearn: 0.8750405\ttotal: 5.36s\tremaining: 1.89s\n",
      "739:\tlearn: 0.8750396\ttotal: 5.37s\tremaining: 1.89s\n",
      "740:\tlearn: 0.8750392\ttotal: 5.38s\tremaining: 1.88s\n",
      "741:\tlearn: 0.8750388\ttotal: 5.39s\tremaining: 1.87s\n",
      "742:\tlearn: 0.8750385\ttotal: 5.4s\tremaining: 1.87s\n",
      "743:\tlearn: 0.8750376\ttotal: 5.41s\tremaining: 1.86s\n",
      "744:\tlearn: 0.8750364\ttotal: 5.42s\tremaining: 1.85s\n",
      "745:\tlearn: 0.8750357\ttotal: 5.42s\tremaining: 1.85s\n",
      "746:\tlearn: 0.8750352\ttotal: 5.43s\tremaining: 1.84s\n",
      "747:\tlearn: 0.8750345\ttotal: 5.44s\tremaining: 1.83s\n",
      "748:\tlearn: 0.8750341\ttotal: 5.45s\tremaining: 1.83s\n",
      "749:\tlearn: 0.8750335\ttotal: 5.46s\tremaining: 1.82s\n",
      "750:\tlearn: 0.8750329\ttotal: 5.47s\tremaining: 1.81s\n",
      "751:\tlearn: 0.8750320\ttotal: 5.47s\tremaining: 1.8s\n",
      "752:\tlearn: 0.8750300\ttotal: 5.48s\tremaining: 1.8s\n",
      "753:\tlearn: 0.8750292\ttotal: 5.49s\tremaining: 1.79s\n",
      "754:\tlearn: 0.8750286\ttotal: 5.5s\tremaining: 1.78s\n",
      "755:\tlearn: 0.8750279\ttotal: 5.51s\tremaining: 1.78s\n",
      "756:\tlearn: 0.8750271\ttotal: 5.52s\tremaining: 1.77s\n",
      "757:\tlearn: 0.8750264\ttotal: 5.53s\tremaining: 1.76s\n",
      "758:\tlearn: 0.8750260\ttotal: 5.54s\tremaining: 1.76s\n",
      "759:\tlearn: 0.8750254\ttotal: 5.54s\tremaining: 1.75s\n",
      "760:\tlearn: 0.8750244\ttotal: 5.55s\tremaining: 1.74s\n",
      "761:\tlearn: 0.8750237\ttotal: 5.56s\tremaining: 1.74s\n",
      "762:\tlearn: 0.8750230\ttotal: 5.57s\tremaining: 1.73s\n",
      "763:\tlearn: 0.8750224\ttotal: 5.58s\tremaining: 1.72s\n",
      "764:\tlearn: 0.8750217\ttotal: 5.59s\tremaining: 1.72s\n",
      "765:\tlearn: 0.8750209\ttotal: 5.6s\tremaining: 1.71s\n",
      "766:\tlearn: 0.8750204\ttotal: 5.61s\tremaining: 1.7s\n",
      "767:\tlearn: 0.8750199\ttotal: 5.62s\tremaining: 1.7s\n",
      "768:\tlearn: 0.8750196\ttotal: 5.62s\tremaining: 1.69s\n",
      "769:\tlearn: 0.8750190\ttotal: 5.63s\tremaining: 1.68s\n",
      "770:\tlearn: 0.8750186\ttotal: 5.64s\tremaining: 1.68s\n",
      "771:\tlearn: 0.8750179\ttotal: 5.65s\tremaining: 1.67s\n",
      "772:\tlearn: 0.8750173\ttotal: 5.66s\tremaining: 1.66s\n",
      "773:\tlearn: 0.8750169\ttotal: 5.67s\tremaining: 1.65s\n",
      "774:\tlearn: 0.8750159\ttotal: 5.67s\tremaining: 1.65s\n",
      "775:\tlearn: 0.8750154\ttotal: 5.68s\tremaining: 1.64s\n",
      "776:\tlearn: 0.8750148\ttotal: 5.69s\tremaining: 1.63s\n",
      "777:\tlearn: 0.8750141\ttotal: 5.7s\tremaining: 1.63s\n",
      "778:\tlearn: 0.8750137\ttotal: 5.71s\tremaining: 1.62s\n",
      "779:\tlearn: 0.8750132\ttotal: 5.72s\tremaining: 1.61s\n",
      "780:\tlearn: 0.8750129\ttotal: 5.73s\tremaining: 1.6s\n",
      "781:\tlearn: 0.8750125\ttotal: 5.73s\tremaining: 1.6s\n",
      "782:\tlearn: 0.8750119\ttotal: 5.74s\tremaining: 1.59s\n",
      "783:\tlearn: 0.8750114\ttotal: 5.75s\tremaining: 1.58s\n",
      "784:\tlearn: 0.8750111\ttotal: 5.76s\tremaining: 1.58s\n",
      "785:\tlearn: 0.8750107\ttotal: 5.77s\tremaining: 1.57s\n",
      "786:\tlearn: 0.8750104\ttotal: 5.78s\tremaining: 1.56s\n",
      "787:\tlearn: 0.8750095\ttotal: 5.79s\tremaining: 1.56s\n",
      "788:\tlearn: 0.8750087\ttotal: 5.79s\tremaining: 1.55s\n",
      "789:\tlearn: 0.8750082\ttotal: 5.8s\tremaining: 1.54s\n",
      "790:\tlearn: 0.8750077\ttotal: 5.81s\tremaining: 1.53s\n",
      "791:\tlearn: 0.8750074\ttotal: 5.82s\tremaining: 1.53s\n",
      "792:\tlearn: 0.8750071\ttotal: 5.83s\tremaining: 1.52s\n",
      "793:\tlearn: 0.8750059\ttotal: 5.84s\tremaining: 1.51s\n",
      "794:\tlearn: 0.8750056\ttotal: 5.85s\tremaining: 1.51s\n",
      "795:\tlearn: 0.8750052\ttotal: 5.86s\tremaining: 1.5s\n",
      "796:\tlearn: 0.8750048\ttotal: 5.86s\tremaining: 1.49s\n",
      "797:\tlearn: 0.8750044\ttotal: 5.87s\tremaining: 1.49s\n",
      "798:\tlearn: 0.8750040\ttotal: 5.88s\tremaining: 1.48s\n",
      "799:\tlearn: 0.8750031\ttotal: 5.89s\tremaining: 1.47s\n",
      "800:\tlearn: 0.8750026\ttotal: 5.9s\tremaining: 1.47s\n",
      "801:\tlearn: 0.8750023\ttotal: 5.91s\tremaining: 1.46s\n",
      "802:\tlearn: 0.8750016\ttotal: 5.92s\tremaining: 1.45s\n",
      "803:\tlearn: 0.8750009\ttotal: 5.92s\tremaining: 1.44s\n",
      "804:\tlearn: 0.8750009\ttotal: 5.93s\tremaining: 1.44s\n",
      "805:\tlearn: 0.8750003\ttotal: 5.94s\tremaining: 1.43s\n",
      "806:\tlearn: 0.8749998\ttotal: 5.95s\tremaining: 1.42s\n",
      "807:\tlearn: 0.8749996\ttotal: 5.96s\tremaining: 1.42s\n",
      "808:\tlearn: 0.8749991\ttotal: 5.97s\tremaining: 1.41s\n",
      "809:\tlearn: 0.8749988\ttotal: 5.97s\tremaining: 1.4s\n",
      "810:\tlearn: 0.8749982\ttotal: 5.99s\tremaining: 1.39s\n",
      "811:\tlearn: 0.8749980\ttotal: 5.99s\tremaining: 1.39s\n",
      "812:\tlearn: 0.8749972\ttotal: 6s\tremaining: 1.38s\n",
      "813:\tlearn: 0.8749962\ttotal: 6.01s\tremaining: 1.37s\n",
      "814:\tlearn: 0.8749956\ttotal: 6.02s\tremaining: 1.37s\n",
      "815:\tlearn: 0.8749950\ttotal: 6.03s\tremaining: 1.36s\n",
      "816:\tlearn: 0.8749944\ttotal: 6.04s\tremaining: 1.35s\n",
      "817:\tlearn: 0.8749941\ttotal: 6.05s\tremaining: 1.34s\n",
      "818:\tlearn: 0.8749936\ttotal: 6.05s\tremaining: 1.34s\n",
      "819:\tlearn: 0.8749935\ttotal: 6.06s\tremaining: 1.33s\n",
      "820:\tlearn: 0.8749926\ttotal: 6.07s\tremaining: 1.32s\n",
      "821:\tlearn: 0.8749921\ttotal: 6.08s\tremaining: 1.32s\n",
      "822:\tlearn: 0.8749917\ttotal: 6.09s\tremaining: 1.31s\n",
      "823:\tlearn: 0.8749913\ttotal: 6.1s\tremaining: 1.3s\n",
      "824:\tlearn: 0.8749891\ttotal: 6.11s\tremaining: 1.29s\n",
      "825:\tlearn: 0.8749877\ttotal: 6.12s\tremaining: 1.29s\n",
      "826:\tlearn: 0.8749869\ttotal: 6.13s\tremaining: 1.28s\n",
      "827:\tlearn: 0.8749865\ttotal: 6.13s\tremaining: 1.27s\n",
      "828:\tlearn: 0.8749863\ttotal: 6.14s\tremaining: 1.27s\n",
      "829:\tlearn: 0.8749856\ttotal: 6.15s\tremaining: 1.26s\n",
      "830:\tlearn: 0.8749853\ttotal: 6.16s\tremaining: 1.25s\n",
      "831:\tlearn: 0.8749846\ttotal: 6.17s\tremaining: 1.25s\n",
      "832:\tlearn: 0.8749838\ttotal: 6.17s\tremaining: 1.24s\n",
      "833:\tlearn: 0.8749837\ttotal: 6.18s\tremaining: 1.23s\n",
      "834:\tlearn: 0.8749833\ttotal: 6.19s\tremaining: 1.22s\n",
      "835:\tlearn: 0.8749828\ttotal: 6.2s\tremaining: 1.22s\n",
      "836:\tlearn: 0.8749824\ttotal: 6.21s\tremaining: 1.21s\n",
      "837:\tlearn: 0.8749816\ttotal: 6.22s\tremaining: 1.2s\n",
      "838:\tlearn: 0.8749813\ttotal: 6.23s\tremaining: 1.2s\n",
      "839:\tlearn: 0.8749808\ttotal: 6.24s\tremaining: 1.19s\n",
      "840:\tlearn: 0.8749802\ttotal: 6.24s\tremaining: 1.18s\n",
      "841:\tlearn: 0.8749799\ttotal: 6.25s\tremaining: 1.17s\n",
      "842:\tlearn: 0.8749798\ttotal: 6.26s\tremaining: 1.17s\n",
      "843:\tlearn: 0.8749789\ttotal: 6.27s\tremaining: 1.16s\n",
      "844:\tlearn: 0.8749788\ttotal: 6.28s\tremaining: 1.15s\n",
      "845:\tlearn: 0.8749783\ttotal: 6.29s\tremaining: 1.14s\n",
      "846:\tlearn: 0.8749767\ttotal: 6.3s\tremaining: 1.14s\n",
      "847:\tlearn: 0.8749763\ttotal: 6.3s\tremaining: 1.13s\n",
      "848:\tlearn: 0.8749760\ttotal: 6.32s\tremaining: 1.12s\n",
      "849:\tlearn: 0.8749758\ttotal: 6.32s\tremaining: 1.11s\n",
      "850:\tlearn: 0.8749755\ttotal: 6.33s\tremaining: 1.11s\n",
      "851:\tlearn: 0.8749751\ttotal: 6.34s\tremaining: 1.1s\n",
      "852:\tlearn: 0.8749748\ttotal: 6.35s\tremaining: 1.09s\n",
      "853:\tlearn: 0.8749740\ttotal: 6.36s\tremaining: 1.09s\n",
      "854:\tlearn: 0.8749736\ttotal: 6.37s\tremaining: 1.08s\n",
      "855:\tlearn: 0.8749731\ttotal: 6.38s\tremaining: 1.07s\n",
      "856:\tlearn: 0.8749728\ttotal: 6.38s\tremaining: 1.06s\n",
      "857:\tlearn: 0.8749721\ttotal: 6.39s\tremaining: 1.06s\n",
      "858:\tlearn: 0.8749716\ttotal: 6.4s\tremaining: 1.05s\n",
      "859:\tlearn: 0.8749711\ttotal: 6.41s\tremaining: 1.04s\n",
      "860:\tlearn: 0.8749708\ttotal: 6.42s\tremaining: 1.04s\n",
      "861:\tlearn: 0.8749705\ttotal: 6.43s\tremaining: 1.03s\n",
      "862:\tlearn: 0.8749700\ttotal: 6.44s\tremaining: 1.02s\n",
      "863:\tlearn: 0.8749694\ttotal: 6.45s\tremaining: 1.01s\n",
      "864:\tlearn: 0.8749690\ttotal: 6.46s\tremaining: 1.01s\n",
      "865:\tlearn: 0.8749676\ttotal: 6.46s\tremaining: 1s\n",
      "866:\tlearn: 0.8749674\ttotal: 6.47s\tremaining: 993ms\n",
      "867:\tlearn: 0.8749670\ttotal: 6.48s\tremaining: 986ms\n",
      "868:\tlearn: 0.8749667\ttotal: 6.49s\tremaining: 978ms\n",
      "869:\tlearn: 0.8749661\ttotal: 6.5s\tremaining: 971ms\n",
      "870:\tlearn: 0.8749658\ttotal: 6.51s\tremaining: 964ms\n",
      "871:\tlearn: 0.8749655\ttotal: 6.52s\tremaining: 957ms\n"
     ]
    },
    {
     "name": "stdout",
     "output_type": "stream",
     "text": [
      "872:\tlearn: 0.8749649\ttotal: 6.53s\tremaining: 949ms\n",
      "873:\tlearn: 0.8749646\ttotal: 6.53s\tremaining: 942ms\n",
      "874:\tlearn: 0.8749639\ttotal: 6.54s\tremaining: 935ms\n",
      "875:\tlearn: 0.8749634\ttotal: 6.55s\tremaining: 927ms\n",
      "876:\tlearn: 0.8749632\ttotal: 6.56s\tremaining: 920ms\n",
      "877:\tlearn: 0.8749628\ttotal: 6.57s\tremaining: 913ms\n",
      "878:\tlearn: 0.8749624\ttotal: 6.58s\tremaining: 906ms\n",
      "879:\tlearn: 0.8749622\ttotal: 6.59s\tremaining: 898ms\n",
      "880:\tlearn: 0.8749616\ttotal: 6.6s\tremaining: 891ms\n",
      "881:\tlearn: 0.8749611\ttotal: 6.61s\tremaining: 884ms\n",
      "882:\tlearn: 0.8749609\ttotal: 6.61s\tremaining: 876ms\n",
      "883:\tlearn: 0.8749590\ttotal: 6.62s\tremaining: 869ms\n",
      "884:\tlearn: 0.8749587\ttotal: 6.63s\tremaining: 862ms\n",
      "885:\tlearn: 0.8749582\ttotal: 6.64s\tremaining: 855ms\n",
      "886:\tlearn: 0.8749575\ttotal: 6.65s\tremaining: 847ms\n",
      "887:\tlearn: 0.8749563\ttotal: 6.66s\tremaining: 840ms\n",
      "888:\tlearn: 0.8749556\ttotal: 6.67s\tremaining: 832ms\n",
      "889:\tlearn: 0.8749549\ttotal: 6.68s\tremaining: 825ms\n",
      "890:\tlearn: 0.8749544\ttotal: 6.68s\tremaining: 818ms\n",
      "891:\tlearn: 0.8749541\ttotal: 6.69s\tremaining: 810ms\n",
      "892:\tlearn: 0.8749537\ttotal: 6.7s\tremaining: 803ms\n",
      "893:\tlearn: 0.8749528\ttotal: 6.71s\tremaining: 796ms\n",
      "894:\tlearn: 0.8749524\ttotal: 6.72s\tremaining: 788ms\n",
      "895:\tlearn: 0.8749522\ttotal: 6.73s\tremaining: 781ms\n",
      "896:\tlearn: 0.8749515\ttotal: 6.74s\tremaining: 774ms\n",
      "897:\tlearn: 0.8749511\ttotal: 6.74s\tremaining: 766ms\n",
      "898:\tlearn: 0.8749506\ttotal: 6.75s\tremaining: 759ms\n",
      "899:\tlearn: 0.8749504\ttotal: 6.76s\tremaining: 751ms\n",
      "900:\tlearn: 0.8749499\ttotal: 6.77s\tremaining: 744ms\n",
      "901:\tlearn: 0.8749491\ttotal: 6.78s\tremaining: 737ms\n",
      "902:\tlearn: 0.8749487\ttotal: 6.79s\tremaining: 729ms\n",
      "903:\tlearn: 0.8749480\ttotal: 6.8s\tremaining: 722ms\n",
      "904:\tlearn: 0.8749477\ttotal: 6.81s\tremaining: 715ms\n",
      "905:\tlearn: 0.8749473\ttotal: 6.82s\tremaining: 707ms\n",
      "906:\tlearn: 0.8749469\ttotal: 6.82s\tremaining: 700ms\n",
      "907:\tlearn: 0.8749466\ttotal: 6.83s\tremaining: 692ms\n",
      "908:\tlearn: 0.8749461\ttotal: 6.84s\tremaining: 685ms\n",
      "909:\tlearn: 0.8749458\ttotal: 6.85s\tremaining: 677ms\n",
      "910:\tlearn: 0.8749454\ttotal: 6.86s\tremaining: 670ms\n",
      "911:\tlearn: 0.8749450\ttotal: 6.87s\tremaining: 663ms\n",
      "912:\tlearn: 0.8749445\ttotal: 6.88s\tremaining: 655ms\n",
      "913:\tlearn: 0.8749439\ttotal: 6.88s\tremaining: 648ms\n",
      "914:\tlearn: 0.8749435\ttotal: 6.89s\tremaining: 640ms\n",
      "915:\tlearn: 0.8749432\ttotal: 6.9s\tremaining: 633ms\n",
      "916:\tlearn: 0.8749428\ttotal: 6.91s\tremaining: 626ms\n",
      "917:\tlearn: 0.8749425\ttotal: 6.92s\tremaining: 618ms\n",
      "918:\tlearn: 0.8749422\ttotal: 6.93s\tremaining: 611ms\n",
      "919:\tlearn: 0.8749417\ttotal: 6.94s\tremaining: 603ms\n",
      "920:\tlearn: 0.8749414\ttotal: 6.95s\tremaining: 596ms\n",
      "921:\tlearn: 0.8749412\ttotal: 6.96s\tremaining: 589ms\n",
      "922:\tlearn: 0.8749405\ttotal: 6.96s\tremaining: 581ms\n",
      "923:\tlearn: 0.8749403\ttotal: 6.97s\tremaining: 574ms\n",
      "924:\tlearn: 0.8749397\ttotal: 6.98s\tremaining: 566ms\n",
      "925:\tlearn: 0.8749385\ttotal: 6.99s\tremaining: 559ms\n",
      "926:\tlearn: 0.8749382\ttotal: 7s\tremaining: 551ms\n",
      "927:\tlearn: 0.8749378\ttotal: 7.01s\tremaining: 544ms\n",
      "928:\tlearn: 0.8749374\ttotal: 7.02s\tremaining: 536ms\n",
      "929:\tlearn: 0.8749370\ttotal: 7.03s\tremaining: 529ms\n",
      "930:\tlearn: 0.8749366\ttotal: 7.03s\tremaining: 521ms\n",
      "931:\tlearn: 0.8749363\ttotal: 7.04s\tremaining: 514ms\n",
      "932:\tlearn: 0.8749360\ttotal: 7.05s\tremaining: 507ms\n",
      "933:\tlearn: 0.8749357\ttotal: 7.06s\tremaining: 499ms\n",
      "934:\tlearn: 0.8749354\ttotal: 7.07s\tremaining: 492ms\n",
      "935:\tlearn: 0.8749352\ttotal: 7.08s\tremaining: 484ms\n",
      "936:\tlearn: 0.8749348\ttotal: 7.09s\tremaining: 477ms\n",
      "937:\tlearn: 0.8749342\ttotal: 7.1s\tremaining: 469ms\n",
      "938:\tlearn: 0.8749337\ttotal: 7.11s\tremaining: 462ms\n",
      "939:\tlearn: 0.8749331\ttotal: 7.11s\tremaining: 454ms\n",
      "940:\tlearn: 0.8749326\ttotal: 7.12s\tremaining: 447ms\n",
      "941:\tlearn: 0.8749323\ttotal: 7.13s\tremaining: 439ms\n",
      "942:\tlearn: 0.8749320\ttotal: 7.14s\tremaining: 432ms\n",
      "943:\tlearn: 0.8749316\ttotal: 7.15s\tremaining: 424ms\n",
      "944:\tlearn: 0.8749313\ttotal: 7.16s\tremaining: 417ms\n",
      "945:\tlearn: 0.8749307\ttotal: 7.17s\tremaining: 409ms\n",
      "946:\tlearn: 0.8749303\ttotal: 7.18s\tremaining: 402ms\n",
      "947:\tlearn: 0.8749299\ttotal: 7.18s\tremaining: 394ms\n",
      "948:\tlearn: 0.8749299\ttotal: 7.19s\tremaining: 387ms\n",
      "949:\tlearn: 0.8749285\ttotal: 7.2s\tremaining: 379ms\n",
      "950:\tlearn: 0.8749279\ttotal: 7.21s\tremaining: 372ms\n",
      "951:\tlearn: 0.8749279\ttotal: 7.22s\tremaining: 364ms\n",
      "952:\tlearn: 0.8749273\ttotal: 7.23s\tremaining: 357ms\n",
      "953:\tlearn: 0.8749271\ttotal: 7.24s\tremaining: 349ms\n",
      "954:\tlearn: 0.8749266\ttotal: 7.25s\tremaining: 342ms\n",
      "955:\tlearn: 0.8749259\ttotal: 7.26s\tremaining: 334ms\n",
      "956:\tlearn: 0.8749256\ttotal: 7.26s\tremaining: 326ms\n",
      "957:\tlearn: 0.8749254\ttotal: 7.27s\tremaining: 319ms\n",
      "958:\tlearn: 0.8749250\ttotal: 7.28s\tremaining: 311ms\n",
      "959:\tlearn: 0.8749246\ttotal: 7.29s\tremaining: 304ms\n",
      "960:\tlearn: 0.8749242\ttotal: 7.3s\tremaining: 296ms\n",
      "961:\tlearn: 0.8749239\ttotal: 7.31s\tremaining: 289ms\n",
      "962:\tlearn: 0.8749235\ttotal: 7.32s\tremaining: 281ms\n",
      "963:\tlearn: 0.8749231\ttotal: 7.33s\tremaining: 274ms\n",
      "964:\tlearn: 0.8749228\ttotal: 7.33s\tremaining: 266ms\n",
      "965:\tlearn: 0.8749228\ttotal: 7.34s\tremaining: 258ms\n",
      "966:\tlearn: 0.8749221\ttotal: 7.35s\tremaining: 251ms\n",
      "967:\tlearn: 0.8749215\ttotal: 7.36s\tremaining: 243ms\n",
      "968:\tlearn: 0.8749212\ttotal: 7.37s\tremaining: 236ms\n",
      "969:\tlearn: 0.8749199\ttotal: 7.38s\tremaining: 228ms\n",
      "970:\tlearn: 0.8749194\ttotal: 7.39s\tremaining: 221ms\n",
      "971:\tlearn: 0.8749189\ttotal: 7.4s\tremaining: 213ms\n",
      "972:\tlearn: 0.8749186\ttotal: 7.41s\tremaining: 206ms\n",
      "973:\tlearn: 0.8749183\ttotal: 7.42s\tremaining: 198ms\n",
      "974:\tlearn: 0.8749179\ttotal: 7.42s\tremaining: 190ms\n",
      "975:\tlearn: 0.8749177\ttotal: 7.43s\tremaining: 183ms\n",
      "976:\tlearn: 0.8749174\ttotal: 7.44s\tremaining: 175ms\n",
      "977:\tlearn: 0.8749170\ttotal: 7.45s\tremaining: 168ms\n",
      "978:\tlearn: 0.8749166\ttotal: 7.46s\tremaining: 160ms\n",
      "979:\tlearn: 0.8749163\ttotal: 7.47s\tremaining: 152ms\n",
      "980:\tlearn: 0.8749160\ttotal: 7.48s\tremaining: 145ms\n",
      "981:\tlearn: 0.8749156\ttotal: 7.49s\tremaining: 137ms\n",
      "982:\tlearn: 0.8749150\ttotal: 7.5s\tremaining: 130ms\n",
      "983:\tlearn: 0.8749148\ttotal: 7.51s\tremaining: 122ms\n",
      "984:\tlearn: 0.8749143\ttotal: 7.51s\tremaining: 114ms\n",
      "985:\tlearn: 0.8749139\ttotal: 7.52s\tremaining: 107ms\n",
      "986:\tlearn: 0.8749133\ttotal: 7.53s\tremaining: 99.2ms\n",
      "987:\tlearn: 0.8749131\ttotal: 7.54s\tremaining: 91.6ms\n",
      "988:\tlearn: 0.8749127\ttotal: 7.55s\tremaining: 84ms\n",
      "989:\tlearn: 0.8749127\ttotal: 7.56s\tremaining: 76.4ms\n",
      "990:\tlearn: 0.8749124\ttotal: 7.57s\tremaining: 68.7ms\n",
      "991:\tlearn: 0.8749120\ttotal: 7.58s\tremaining: 61.1ms\n",
      "992:\tlearn: 0.8749112\ttotal: 7.59s\tremaining: 53.5ms\n",
      "993:\tlearn: 0.8749109\ttotal: 7.59s\tremaining: 45.8ms\n",
      "994:\tlearn: 0.8749107\ttotal: 7.6s\tremaining: 38.2ms\n",
      "995:\tlearn: 0.8749102\ttotal: 7.61s\tremaining: 30.6ms\n",
      "996:\tlearn: 0.8749100\ttotal: 7.62s\tremaining: 22.9ms\n",
      "997:\tlearn: 0.8749097\ttotal: 7.63s\tremaining: 15.3ms\n",
      "998:\tlearn: 0.8749094\ttotal: 7.64s\tremaining: 7.65ms\n",
      "999:\tlearn: 0.8749091\ttotal: 7.65s\tremaining: 0us\n",
      "Stacking ensemble (ML+DNN): 10080\n",
      "[0]Accuracy : 58.07539682539683\n",
      "[0]F1score : 0.5818510327366997\n",
      "[0]Precision : 0.5844579854600644\n",
      "[0]Recall : 0.5807539682539683\n",
      "\n"
     ]
    },
    {
     "data": {
      "image/png": "[encoded data removed]",
      "text/plain": [
       "<Figure size 640x480 with 2 Axes>"
      ]
     },
     "metadata": {},
     "output_type": "display_data"
    },
    {
     "name": "stderr",
     "output_type": "stream",
     "text": [
      "100%|██████████████████████████████████████████████████████████████████████████████████| 10/10 [00:01<00:00,  8.38it/s]\n"
     ]
    },
    {
     "name": "stdout",
     "output_type": "stream",
     "text": [
      "[INFO] val_acc has been improved from 9999999999999.00000 to 1.03932. Saving Model!\n",
      "epoch 01, loss: 1.06733, acc: 0.34917, val_loss: 1.03932, val_accuracy: 0.39077\n"
     ]
    },
    {
     "name": "stderr",
     "output_type": "stream",
     "text": [
      "100%|██████████████████████████████████████████████████████████████████████████████████| 10/10 [00:01<00:00,  8.46it/s]\n"
     ]
    },
    {
     "name": "stdout",
     "output_type": "stream",
     "text": [
      "epoch 02, loss: 1.05436, acc: 0.38124, val_loss: 1.03952, val_accuracy: 0.40139\n"
     ]
    },
    {
     "name": "stderr",
     "output_type": "stream",
     "text": [
      "100%|██████████████████████████████████████████████████████████████████████████████████| 10/10 [00:01<00:00,  9.22it/s]\n"
     ]
    },
    {
     "name": "stdout",
     "output_type": "stream",
     "text": [
      "epoch 03, loss: 1.05514, acc: 0.37729, val_loss: 1.03941, val_accuracy: 0.39821\n"
     ]
    },
    {
     "name": "stderr",
     "output_type": "stream",
     "text": [
      "100%|██████████████████████████████████████████████████████████████████████████████████| 10/10 [00:01<00:00,  8.15it/s]\n"
     ]
    },
    {
     "name": "stdout",
     "output_type": "stream",
     "text": [
      "[INFO] val_acc has been improved from 1.03932 to 1.03824. Saving Model!\n",
      "epoch 04, loss: 1.05515, acc: 0.37696, val_loss: 1.03824, val_accuracy: 0.39742\n"
     ]
    },
    {
     "name": "stderr",
     "output_type": "stream",
     "text": [
      "100%|██████████████████████████████████████████████████████████████████████████████████| 10/10 [00:01<00:00,  8.07it/s]\n"
     ]
    },
    {
     "name": "stdout",
     "output_type": "stream",
     "text": [
      "[INFO] val_acc has been improved from 1.03824 to 1.03737. Saving Model!\n",
      "epoch 05, loss: 1.05297, acc: 0.37911, val_loss: 1.03737, val_accuracy: 0.39593\n"
     ]
    },
    {
     "name": "stderr",
     "output_type": "stream",
     "text": [
      "100%|██████████████████████████████████████████████████████████████████████████████████| 10/10 [00:01<00:00,  8.30it/s]\n"
     ]
    },
    {
     "name": "stdout",
     "output_type": "stream",
     "text": [
      "[INFO] val_acc has been improved from 1.03737 to 1.03693. Saving Model!\n",
      "epoch 06, loss: 1.05137, acc: 0.38143, val_loss: 1.03693, val_accuracy: 0.39484\n"
     ]
    },
    {
     "name": "stderr",
     "output_type": "stream",
     "text": [
      "100%|██████████████████████████████████████████████████████████████████████████████████| 10/10 [00:01<00:00,  8.23it/s]\n"
     ]
    },
    {
     "name": "stdout",
     "output_type": "stream",
     "text": [
      "[INFO] val_acc has been improved from 1.03693 to 1.03640. Saving Model!\n",
      "epoch 07, loss: 1.05027, acc: 0.38167, val_loss: 1.03640, val_accuracy: 0.39435\n"
     ]
    },
    {
     "name": "stderr",
     "output_type": "stream",
     "text": [
      "100%|██████████████████████████████████████████████████████████████████████████████████| 10/10 [00:01<00:00,  7.56it/s]\n"
     ]
    },
    {
     "name": "stdout",
     "output_type": "stream",
     "text": [
      "[INFO] val_acc has been improved from 1.03640 to 1.03580. Saving Model!\n",
      "epoch 08, loss: 1.04915, acc: 0.38058, val_loss: 1.03580, val_accuracy: 0.39464\n"
     ]
    },
    {
     "name": "stderr",
     "output_type": "stream",
     "text": [
      "100%|██████████████████████████████████████████████████████████████████████████████████| 10/10 [00:01<00:00,  8.28it/s]\n"
     ]
    },
    {
     "name": "stdout",
     "output_type": "stream",
     "text": [
      "[INFO] val_acc has been improved from 1.03580 to 1.03522. Saving Model!\n",
      "epoch 09, loss: 1.04748, acc: 0.38421, val_loss: 1.03522, val_accuracy: 0.41806\n"
     ]
    },
    {
     "name": "stderr",
     "output_type": "stream",
     "text": [
      "100%|██████████████████████████████████████████████████████████████████████████████████| 10/10 [00:01<00:00,  7.62it/s]\n"
     ]
    },
    {
     "name": "stdout",
     "output_type": "stream",
     "text": [
      "[INFO] val_acc has been improved from 1.03522 to 1.03472. Saving Model!\n",
      "epoch 10, loss: 1.04663, acc: 0.38661, val_loss: 1.03472, val_accuracy: 0.42133\n"
     ]
    },
    {
     "name": "stderr",
     "output_type": "stream",
     "text": [
      "100%|██████████████████████████████████████████████████████████████████████████████████| 10/10 [00:01<00:00,  8.25it/s]\n"
     ]
    },
    {
     "name": "stdout",
     "output_type": "stream",
     "text": [
      "[INFO] val_acc has been improved from 1.03472 to 1.03430. Saving Model!\n",
      "epoch 11, loss: 1.04494, acc: 0.40916, val_loss: 1.03430, val_accuracy: 0.42133\n"
     ]
    },
    {
     "name": "stderr",
     "output_type": "stream",
     "text": [
      "100%|██████████████████████████████████████████████████████████████████████████████████| 10/10 [00:01<00:00,  8.21it/s]\n"
     ]
    },
    {
     "name": "stdout",
     "output_type": "stream",
     "text": [
      "[INFO] val_acc has been improved from 1.03430 to 1.03389. Saving Model!\n",
      "epoch 12, loss: 1.04469, acc: 0.39532, val_loss: 1.03389, val_accuracy: 0.40833\n"
     ]
    },
    {
     "name": "stderr",
     "output_type": "stream",
     "text": [
      "100%|██████████████████████████████████████████████████████████████████████████████████| 10/10 [00:01<00:00,  7.64it/s]\n"
     ]
    },
    {
     "name": "stdout",
     "output_type": "stream",
     "text": [
      "[INFO] val_acc has been improved from 1.03389 to 1.03349. Saving Model!\n",
      "epoch 13, loss: 1.04248, acc: 0.41013, val_loss: 1.03349, val_accuracy: 0.40982\n"
     ]
    },
    {
     "name": "stderr",
     "output_type": "stream",
     "text": [
      "100%|██████████████████████████████████████████████████████████████████████████████████| 10/10 [00:01<00:00,  8.27it/s]\n"
     ]
    },
    {
     "name": "stdout",
     "output_type": "stream",
     "text": [
      "[INFO] val_acc has been improved from 1.03349 to 1.03307. Saving Model!\n",
      "epoch 14, loss: 1.04248, acc: 0.41155, val_loss: 1.03307, val_accuracy: 0.41012\n"
     ]
    },
    {
     "name": "stderr",
     "output_type": "stream",
     "text": [
      "100%|██████████████████████████████████████████████████████████████████████████████████| 10/10 [00:01<00:00,  7.55it/s]\n"
     ]
    },
    {
     "name": "stdout",
     "output_type": "stream",
     "text": [
      "[INFO] val_acc has been improved from 1.03307 to 1.03272. Saving Model!\n",
      "epoch 15, loss: 1.04052, acc: 0.41369, val_loss: 1.03272, val_accuracy: 0.41190\n"
     ]
    },
    {
     "name": "stderr",
     "output_type": "stream",
     "text": [
      "100%|██████████████████████████████████████████████████████████████████████████████████| 10/10 [00:01<00:00,  8.24it/s]\n"
     ]
    },
    {
     "name": "stdout",
     "output_type": "stream",
     "text": [
      "[INFO] val_acc has been improved from 1.03272 to 1.03257. Saving Model!\n",
      "epoch 16, loss: 1.04010, acc: 0.41532, val_loss: 1.03257, val_accuracy: 0.41200\n"
     ]
    },
    {
     "name": "stderr",
     "output_type": "stream",
     "text": [
      "100%|██████████████████████████████████████████████████████████████████████████████████| 10/10 [00:01<00:00,  7.73it/s]\n"
     ]
    },
    {
     "name": "stdout",
     "output_type": "stream",
     "text": [
      "[INFO] val_acc has been improved from 1.03257 to 1.03241. Saving Model!\n",
      "epoch 17, loss: 1.03815, acc: 0.41652, val_loss: 1.03241, val_accuracy: 0.41429\n"
     ]
    },
    {
     "name": "stderr",
     "output_type": "stream",
     "text": [
      "100%|██████████████████████████████████████████████████████████████████████████████████| 10/10 [00:01<00:00,  7.04it/s]\n"
     ]
    },
    {
     "name": "stdout",
     "output_type": "stream",
     "text": [
      "[INFO] val_acc has been improved from 1.03241 to 1.03234. Saving Model!\n",
      "epoch 18, loss: 1.03837, acc: 0.41785, val_loss: 1.03234, val_accuracy: 0.41478\n"
     ]
    },
    {
     "name": "stderr",
     "output_type": "stream",
     "text": [
      "100%|██████████████████████████████████████████████████████████████████████████████████| 10/10 [00:00<00:00, 10.20it/s]\n"
     ]
    },
    {
     "name": "stdout",
     "output_type": "stream",
     "text": [
      "epoch 19, loss: 1.03598, acc: 0.42095, val_loss: 1.03236, val_accuracy: 0.41538\n"
     ]
    },
    {
     "name": "stderr",
     "output_type": "stream",
     "text": [
      "100%|██████████████████████████████████████████████████████████████████████████████████| 10/10 [00:00<00:00, 10.21it/s]\n"
     ]
    },
    {
     "name": "stdout",
     "output_type": "stream",
     "text": [
      "[INFO] val_acc has been improved from 1.03234 to 1.03218. Saving Model!\n",
      "epoch 20, loss: 1.03588, acc: 0.42386, val_loss: 1.03218, val_accuracy: 0.41865\n"
     ]
    },
    {
     "name": "stderr",
     "output_type": "stream",
     "text": [
      "100%|██████████████████████████████████████████████████████████████████████████████████| 10/10 [00:01<00:00,  9.88it/s]\n"
     ]
    },
    {
     "name": "stdout",
     "output_type": "stream",
     "text": [
      "[INFO] val_acc has been improved from 1.03218 to 1.03201. Saving Model!\n",
      "epoch 21, loss: 1.03400, acc: 0.42681, val_loss: 1.03201, val_accuracy: 0.41825\n"
     ]
    },
    {
     "name": "stderr",
     "output_type": "stream",
     "text": [
      "100%|██████████████████████████████████████████████████████████████████████████████████| 10/10 [00:01<00:00,  9.31it/s]\n"
     ]
    },
    {
     "name": "stdout",
     "output_type": "stream",
     "text": [
      "epoch 22, loss: 1.03393, acc: 0.42723, val_loss: 1.03214, val_accuracy: 0.41875\n"
     ]
    },
    {
     "name": "stderr",
     "output_type": "stream",
     "text": [
      "100%|██████████████████████████████████████████████████████████████████████████████████| 10/10 [00:01<00:00,  8.04it/s]\n"
     ]
    },
    {
     "name": "stdout",
     "output_type": "stream",
     "text": [
      "epoch 23, loss: 1.03161, acc: 0.43000, val_loss: 1.03217, val_accuracy: 0.41915\n"
     ]
    },
    {
     "name": "stderr",
     "output_type": "stream",
     "text": [
      "100%|██████████████████████████████████████████████████████████████████████████████████| 10/10 [00:01<00:00,  7.89it/s]\n"
     ]
    },
    {
     "name": "stdout",
     "output_type": "stream",
     "text": [
      "epoch 24, loss: 1.03160, acc: 0.43467, val_loss: 1.03209, val_accuracy: 0.42312\n"
     ]
    },
    {
     "name": "stderr",
     "output_type": "stream",
     "text": [
      "100%|██████████████████████████████████████████████████████████████████████████████████| 10/10 [00:01<00:00,  9.45it/s]\n"
     ]
    },
    {
     "name": "stdout",
     "output_type": "stream",
     "text": [
      "[INFO] val_acc has been improved from 1.03201 to 1.03189. Saving Model!\n",
      "epoch 25, loss: 1.03024, acc: 0.43726, val_loss: 1.03189, val_accuracy: 0.42411\n"
     ]
    },
    {
     "name": "stderr",
     "output_type": "stream",
     "text": [
      "100%|██████████████████████████████████████████████████████████████████████████████████| 10/10 [00:01<00:00,  9.56it/s]\n"
     ]
    },
    {
     "name": "stdout",
     "output_type": "stream",
     "text": [
      "epoch 26, loss: 1.02855, acc: 0.44127, val_loss: 1.03194, val_accuracy: 0.42391\n"
     ]
    },
    {
     "name": "stderr",
     "output_type": "stream",
     "text": [
      "100%|██████████████████████████████████████████████████████████████████████████████████| 10/10 [00:01<00:00,  8.18it/s]\n"
     ]
    },
    {
     "name": "stdout",
     "output_type": "stream",
     "text": [
      "epoch 27, loss: 1.02857, acc: 0.44225, val_loss: 1.03192, val_accuracy: 0.41002\n"
     ]
    },
    {
     "name": "stderr",
     "output_type": "stream",
     "text": [
      "100%|██████████████████████████████████████████████████████████████████████████████████| 10/10 [00:01<00:00,  9.67it/s]\n"
     ]
    },
    {
     "name": "stdout",
     "output_type": "stream",
     "text": [
      "epoch 28, loss: 1.02620, acc: 0.44507, val_loss: 1.03189, val_accuracy: 0.41081\n"
     ]
    },
    {
     "name": "stderr",
     "output_type": "stream",
     "text": [
      "100%|██████████████████████████████████████████████████████████████████████████████████| 10/10 [00:01<00:00,  9.94it/s]\n"
     ]
    },
    {
     "name": "stdout",
     "output_type": "stream",
     "text": [
      "epoch 29, loss: 1.02628, acc: 0.44707, val_loss: 1.03224, val_accuracy: 0.41538\n"
     ]
    },
    {
     "name": "stderr",
     "output_type": "stream",
     "text": [
      "100%|██████████████████████████████████████████████████████████████████████████████████| 10/10 [00:01<00:00,  9.96it/s]\n"
     ]
    },
    {
     "name": "stdout",
     "output_type": "stream",
     "text": [
      "[INFO] val_acc has been improved from 1.03189 to 1.03180. Saving Model!\n",
      "epoch 30, loss: 1.02538, acc: 0.44780, val_loss: 1.03180, val_accuracy: 0.41389\n"
     ]
    },
    {
     "name": "stderr",
     "output_type": "stream",
     "text": [
      "100%|██████████████████████████████████████████████████████████████████████████████████| 10/10 [00:01<00:00,  9.21it/s]\n"
     ]
    },
    {
     "name": "stdout",
     "output_type": "stream",
     "text": [
      "epoch 31, loss: 1.02387, acc: 0.44982, val_loss: 1.03193, val_accuracy: 0.41448\n"
     ]
    },
    {
     "name": "stderr",
     "output_type": "stream",
     "text": [
      "100%|██████████████████████████████████████████████████████████████████████████████████| 10/10 [00:01<00:00,  7.53it/s]\n"
     ]
    },
    {
     "name": "stdout",
     "output_type": "stream",
     "text": [
      "[INFO] val_acc has been improved from 1.03180 to 1.03147. Saving Model!\n",
      "epoch 32, loss: 1.02254, acc: 0.45028, val_loss: 1.03147, val_accuracy: 0.41438\n"
     ]
    },
    {
     "name": "stderr",
     "output_type": "stream",
     "text": [
      "100%|██████████████████████████████████████████████████████████████████████████████████| 10/10 [00:01<00:00,  7.12it/s]\n"
     ]
    },
    {
     "name": "stdout",
     "output_type": "stream",
     "text": [
      "epoch 33, loss: 1.02223, acc: 0.45178, val_loss: 1.03160, val_accuracy: 0.41845\n"
     ]
    },
    {
     "name": "stderr",
     "output_type": "stream",
     "text": [
      "100%|██████████████████████████████████████████████████████████████████████████████████| 10/10 [00:01<00:00,  7.75it/s]\n"
     ]
    },
    {
     "name": "stdout",
     "output_type": "stream",
     "text": [
      "[INFO] val_acc has been improved from 1.03147 to 1.03146. Saving Model!\n",
      "epoch 34, loss: 1.01971, acc: 0.45639, val_loss: 1.03146, val_accuracy: 0.41855\n"
     ]
    },
    {
     "name": "stderr",
     "output_type": "stream",
     "text": [
      "100%|██████████████████████████████████████████████████████████████████████████████████| 10/10 [00:01<00:00,  7.73it/s]\n"
     ]
    },
    {
     "name": "stdout",
     "output_type": "stream",
     "text": [
      "[INFO] val_acc has been improved from 1.03146 to 1.03134. Saving Model!\n",
      "epoch 35, loss: 1.01996, acc: 0.45633, val_loss: 1.03134, val_accuracy: 0.42123\n"
     ]
    },
    {
     "name": "stderr",
     "output_type": "stream",
     "text": [
      "100%|██████████████████████████████████████████████████████████████████████████████████| 10/10 [00:01<00:00,  7.73it/s]\n"
     ]
    },
    {
     "name": "stdout",
     "output_type": "stream",
     "text": [
      "epoch 36, loss: 1.01803, acc: 0.45802, val_loss: 1.03138, val_accuracy: 0.42312\n"
     ]
    },
    {
     "name": "stderr",
     "output_type": "stream",
     "text": [
      "100%|██████████████████████████████████████████████████████████████████████████████████| 10/10 [00:01<00:00,  7.69it/s]\n"
     ]
    },
    {
     "name": "stdout",
     "output_type": "stream",
     "text": [
      "[INFO] val_acc has been improved from 1.03134 to 1.03111. Saving Model!\n",
      "epoch 37, loss: 1.01691, acc: 0.46045, val_loss: 1.03111, val_accuracy: 0.42212\n"
     ]
    },
    {
     "name": "stderr",
     "output_type": "stream",
     "text": [
      "100%|██████████████████████████████████████████████████████████████████████████████████| 10/10 [00:01<00:00,  7.07it/s]\n"
     ]
    },
    {
     "name": "stdout",
     "output_type": "stream",
     "text": [
      "epoch 38, loss: 1.01640, acc: 0.46179, val_loss: 1.03175, val_accuracy: 0.42460\n"
     ]
    },
    {
     "name": "stderr",
     "output_type": "stream",
     "text": [
      "100%|██████████████████████████████████████████████████████████████████████████████████| 10/10 [00:01<00:00,  7.81it/s]\n"
     ]
    },
    {
     "name": "stdout",
     "output_type": "stream",
     "text": [
      "epoch 39, loss: 1.01449, acc: 0.46228, val_loss: 1.03141, val_accuracy: 0.42381\n"
     ]
    },
    {
     "name": "stderr",
     "output_type": "stream",
     "text": [
      "100%|██████████████████████████████████████████████████████████████████████████████████| 10/10 [00:01<00:00,  8.16it/s]\n"
     ]
    },
    {
     "name": "stdout",
     "output_type": "stream",
     "text": [
      "epoch 40, loss: 1.01456, acc: 0.46112, val_loss: 1.03144, val_accuracy: 0.42391\n"
     ]
    },
    {
     "name": "stderr",
     "output_type": "stream",
     "text": [
      "100%|██████████████████████████████████████████████████████████████████████████████████| 10/10 [00:01<00:00,  8.31it/s]\n"
     ]
    },
    {
     "name": "stdout",
     "output_type": "stream",
     "text": [
      "epoch 41, loss: 1.01298, acc: 0.46475, val_loss: 1.03165, val_accuracy: 0.42401\n"
     ]
    },
    {
     "name": "stderr",
     "output_type": "stream",
     "text": [
      "100%|██████████████████████████████████████████████████████████████████████████████████| 10/10 [00:01<00:00,  6.95it/s]\n"
     ]
    },
    {
     "name": "stdout",
     "output_type": "stream",
     "text": [
      "epoch 42, loss: 1.01122, acc: 0.46504, val_loss: 1.03145, val_accuracy: 0.42371\n"
     ]
    },
    {
     "name": "stderr",
     "output_type": "stream",
     "text": [
      "100%|██████████████████████████████████████████████████████████████████████████████████| 10/10 [00:01<00:00,  8.35it/s]\n"
     ]
    },
    {
     "name": "stdout",
     "output_type": "stream",
     "text": [
      "epoch 43, loss: 1.01148, acc: 0.46431, val_loss: 1.03199, val_accuracy: 0.42500\n"
     ]
    },
    {
     "name": "stderr",
     "output_type": "stream",
     "text": [
      "100%|██████████████████████████████████████████████████████████████████████████████████| 10/10 [00:01<00:00,  8.08it/s]\n"
     ]
    },
    {
     "name": "stdout",
     "output_type": "stream",
     "text": [
      "epoch 44, loss: 1.00882, acc: 0.46598, val_loss: 1.03174, val_accuracy: 0.42361\n"
     ]
    },
    {
     "name": "stderr",
     "output_type": "stream",
     "text": [
      "100%|██████████████████████████████████████████████████████████████████████████████████| 10/10 [00:01<00:00,  7.67it/s]\n"
     ]
    },
    {
     "name": "stdout",
     "output_type": "stream",
     "text": [
      "epoch 45, loss: 1.00954, acc: 0.46728, val_loss: 1.03191, val_accuracy: 0.42480\n"
     ]
    },
    {
     "name": "stderr",
     "output_type": "stream",
     "text": [
      "100%|██████████████████████████████████████████████████████████████████████████████████| 10/10 [00:01<00:00,  7.48it/s]\n"
     ]
    },
    {
     "name": "stdout",
     "output_type": "stream",
     "text": [
      "epoch 46, loss: 1.00693, acc: 0.47023, val_loss: 1.03163, val_accuracy: 0.42450\n"
     ]
    },
    {
     "name": "stderr",
     "output_type": "stream",
     "text": [
      "100%|██████████████████████████████████████████████████████████████████████████████████| 10/10 [00:01<00:00,  8.24it/s]\n"
     ]
    },
    {
     "name": "stdout",
     "output_type": "stream",
     "text": [
      "epoch 47, loss: 1.00738, acc: 0.46673, val_loss: 1.03237, val_accuracy: 0.42510\n"
     ]
    },
    {
     "name": "stderr",
     "output_type": "stream",
     "text": [
      "100%|██████████████████████████████████████████████████████████████████████████████████| 10/10 [00:01<00:00,  8.86it/s]\n"
     ]
    },
    {
     "name": "stdout",
     "output_type": "stream",
     "text": [
      "epoch 48, loss: 1.00473, acc: 0.47006, val_loss: 1.03213, val_accuracy: 0.42470\n"
     ]
    },
    {
     "name": "stderr",
     "output_type": "stream",
     "text": [
      "100%|██████████████████████████████████████████████████████████████████████████████████| 10/10 [00:00<00:00, 10.10it/s]\n"
     ]
    },
    {
     "name": "stdout",
     "output_type": "stream",
     "text": [
      "epoch 49, loss: 1.00551, acc: 0.46742, val_loss: 1.03287, val_accuracy: 0.42579\n"
     ]
    },
    {
     "name": "stderr",
     "output_type": "stream",
     "text": [
      "100%|██████████████████████████████████████████████████████████████████████████████████| 10/10 [00:00<00:00, 10.07it/s]\n"
     ]
    },
    {
     "name": "stdout",
     "output_type": "stream",
     "text": [
      "epoch 50, loss: 1.00344, acc: 0.46921, val_loss: 1.03209, val_accuracy: 0.42550\n"
     ]
    },
    {
     "name": "stderr",
     "output_type": "stream",
     "text": [
      "100%|██████████████████████████████████████████████████████████████████████████████████| 10/10 [00:00<00:00, 10.06it/s]\n"
     ]
    },
    {
     "name": "stdout",
     "output_type": "stream",
     "text": [
      "epoch 51, loss: 1.00304, acc: 0.46677, val_loss: 1.03290, val_accuracy: 0.42520\n"
     ]
    },
    {
     "name": "stderr",
     "output_type": "stream",
     "text": [
      "100%|██████████████████████████████████████████████████████████████████████████████████| 10/10 [00:01<00:00,  8.71it/s]\n"
     ]
    },
    {
     "name": "stdout",
     "output_type": "stream",
     "text": [
      "epoch 52, loss: 1.00035, acc: 0.46889, val_loss: 1.03303, val_accuracy: 0.42649\n"
     ]
    },
    {
     "name": "stderr",
     "output_type": "stream",
     "text": [
      "100%|██████████████████████████████████████████████████████████████████████████████████| 10/10 [00:01<00:00,  8.25it/s]\n"
     ]
    },
    {
     "name": "stdout",
     "output_type": "stream",
     "text": [
      "epoch 53, loss: 1.00083, acc: 0.46698, val_loss: 1.03365, val_accuracy: 0.42490\n"
     ]
    },
    {
     "name": "stderr",
     "output_type": "stream",
     "text": [
      "100%|██████████████████████████████████████████████████████████████████████████████████| 10/10 [00:01<00:00,  8.14it/s]\n"
     ]
    },
    {
     "name": "stdout",
     "output_type": "stream",
     "text": [
      "epoch 54, loss: 0.99824, acc: 0.46866, val_loss: 1.03329, val_accuracy: 0.42589\n"
     ]
    },
    {
     "name": "stderr",
     "output_type": "stream",
     "text": [
      "100%|██████████████████████████████████████████████████████████████████████████████████| 10/10 [00:01<00:00,  8.05it/s]\n"
     ]
    },
    {
     "name": "stdout",
     "output_type": "stream",
     "text": [
      "epoch 55, loss: 0.99881, acc: 0.46640, val_loss: 1.03333, val_accuracy: 0.42639\n"
     ]
    },
    {
     "name": "stderr",
     "output_type": "stream",
     "text": [
      "100%|██████████████████████████████████████████████████████████████████████████████████| 10/10 [00:01<00:00,  8.18it/s]\n"
     ]
    },
    {
     "name": "stdout",
     "output_type": "stream",
     "text": [
      "epoch 56, loss: 0.99585, acc: 0.46878, val_loss: 1.03357, val_accuracy: 0.42510\n"
     ]
    },
    {
     "name": "stderr",
     "output_type": "stream",
     "text": [
      "100%|██████████████████████████████████████████████████████████████████████████████████| 10/10 [00:01<00:00,  8.30it/s]\n"
     ]
    },
    {
     "name": "stdout",
     "output_type": "stream",
     "text": [
      "epoch 57, loss: 0.99649, acc: 0.46928, val_loss: 1.03432, val_accuracy: 0.42440\n"
     ]
    },
    {
     "name": "stderr",
     "output_type": "stream",
     "text": [
      "100%|██████████████████████████████████████████████████████████████████████████████████| 10/10 [00:01<00:00,  8.31it/s]\n"
     ]
    },
    {
     "name": "stdout",
     "output_type": "stream",
     "text": [
      "epoch 58, loss: 0.99387, acc: 0.47147, val_loss: 1.03374, val_accuracy: 0.42480\n"
     ]
    },
    {
     "name": "stderr",
     "output_type": "stream",
     "text": [
      "100%|██████████████████████████████████████████████████████████████████████████████████| 10/10 [00:01<00:00,  8.15it/s]\n"
     ]
    },
    {
     "name": "stdout",
     "output_type": "stream",
     "text": [
      "epoch 59, loss: 0.99415, acc: 0.46825, val_loss: 1.03397, val_accuracy: 0.44236\n"
     ]
    },
    {
     "name": "stderr",
     "output_type": "stream",
     "text": [
      "100%|██████████████████████████████████████████████████████████████████████████████████| 10/10 [00:01<00:00,  8.39it/s]\n"
     ]
    },
    {
     "name": "stdout",
     "output_type": "stream",
     "text": [
      "epoch 60, loss: 0.99182, acc: 0.47033, val_loss: 1.03499, val_accuracy: 0.44206\n"
     ]
    },
    {
     "name": "stderr",
     "output_type": "stream",
     "text": [
      "100%|██████████████████████████████████████████████████████████████████████████████████| 10/10 [00:01<00:00,  7.74it/s]\n"
     ]
    },
    {
     "name": "stdout",
     "output_type": "stream",
     "text": [
      "epoch 61, loss: 0.99121, acc: 0.47566, val_loss: 1.03429, val_accuracy: 0.44365\n"
     ]
    },
    {
     "name": "stderr",
     "output_type": "stream",
     "text": [
      "100%|██████████████████████████████████████████████████████████████████████████████████| 10/10 [00:01<00:00,  8.19it/s]\n"
     ]
    },
    {
     "name": "stdout",
     "output_type": "stream",
     "text": [
      "epoch 62, loss: 0.99038, acc: 0.47527, val_loss: 1.03598, val_accuracy: 0.44018\n"
     ]
    },
    {
     "name": "stderr",
     "output_type": "stream",
     "text": [
      "100%|██████████████████████████████████████████████████████████████████████████████████| 10/10 [00:01<00:00,  8.19it/s]\n"
     ]
    },
    {
     "name": "stdout",
     "output_type": "stream",
     "text": [
      "epoch 63, loss: 0.98865, acc: 0.47588, val_loss: 1.03452, val_accuracy: 0.44395\n"
     ]
    },
    {
     "name": "stderr",
     "output_type": "stream",
     "text": [
      "100%|██████████████████████████████████████████████████████████████████████████████████| 10/10 [00:01<00:00,  8.13it/s]\n"
     ]
    },
    {
     "name": "stdout",
     "output_type": "stream",
     "text": [
      "epoch 64, loss: 0.98812, acc: 0.47403, val_loss: 1.03469, val_accuracy: 0.44345\n"
     ]
    },
    {
     "name": "stderr",
     "output_type": "stream",
     "text": [
      "100%|██████████████████████████████████████████████████████████████████████████████████| 10/10 [00:01<00:00,  8.27it/s]\n"
     ]
    },
    {
     "name": "stdout",
     "output_type": "stream",
     "text": [
      "epoch 65, loss: 0.98680, acc: 0.47636, val_loss: 1.03525, val_accuracy: 0.44593\n"
     ]
    },
    {
     "name": "stderr",
     "output_type": "stream",
     "text": [
      "100%|██████████████████████████████████████████████████████████████████████████████████| 10/10 [00:01<00:00,  7.65it/s]\n"
     ]
    },
    {
     "name": "stdout",
     "output_type": "stream",
     "text": [
      "epoch 66, loss: 0.98505, acc: 0.47697, val_loss: 1.03470, val_accuracy: 0.44375\n"
     ]
    },
    {
     "name": "stderr",
     "output_type": "stream",
     "text": [
      "100%|██████████████████████████████████████████████████████████████████████████████████| 10/10 [00:01<00:00,  8.09it/s]\n"
     ]
    },
    {
     "name": "stdout",
     "output_type": "stream",
     "text": [
      "epoch 67, loss: 0.98544, acc: 0.47514, val_loss: 1.03679, val_accuracy: 0.44425\n"
     ]
    },
    {
     "name": "stderr",
     "output_type": "stream",
     "text": [
      "100%|██████████████████████████████████████████████████████████████████████████████████| 10/10 [00:01<00:00,  8.26it/s]\n"
     ]
    },
    {
     "name": "stdout",
     "output_type": "stream",
     "text": [
      "epoch 68, loss: 0.98270, acc: 0.48100, val_loss: 1.03540, val_accuracy: 0.44792\n"
     ]
    },
    {
     "name": "stderr",
     "output_type": "stream",
     "text": [
      "100%|██████████████████████████████████████████████████████████████████████████████████| 10/10 [00:01<00:00,  7.63it/s]\n"
     ]
    },
    {
     "name": "stdout",
     "output_type": "stream",
     "text": [
      "epoch 69, loss: 0.98372, acc: 0.47553, val_loss: 1.03513, val_accuracy: 0.45109\n"
     ]
    },
    {
     "name": "stderr",
     "output_type": "stream",
     "text": [
      "100%|██████████████████████████████████████████████████████████████████████████████████| 10/10 [00:01<00:00,  8.28it/s]\n"
     ]
    },
    {
     "name": "stdout",
     "output_type": "stream",
     "text": [
      "epoch 70, loss: 0.98007, acc: 0.48044, val_loss: 1.03628, val_accuracy: 0.44812\n"
     ]
    },
    {
     "name": "stderr",
     "output_type": "stream",
     "text": [
      "100%|██████████████████████████████████████████████████████████████████████████████████| 10/10 [00:01<00:00,  7.60it/s]\n"
     ]
    },
    {
     "name": "stdout",
     "output_type": "stream",
     "text": [
      "epoch 71, loss: 0.98140, acc: 0.47859, val_loss: 1.03633, val_accuracy: 0.44782\n"
     ]
    },
    {
     "name": "stderr",
     "output_type": "stream",
     "text": [
      "100%|██████████████████████████████████████████████████████████████████████████████████| 10/10 [00:01<00:00,  8.19it/s]\n"
     ]
    },
    {
     "name": "stdout",
     "output_type": "stream",
     "text": [
      "epoch 72, loss: 0.97829, acc: 0.48160, val_loss: 1.03581, val_accuracy: 0.44722\n"
     ]
    },
    {
     "name": "stderr",
     "output_type": "stream",
     "text": [
      "100%|██████████████████████████████████████████████████████████████████████████████████| 10/10 [00:01<00:00,  7.67it/s]\n"
     ]
    },
    {
     "name": "stdout",
     "output_type": "stream",
     "text": [
      "epoch 73, loss: 0.97935, acc: 0.48207, val_loss: 1.03663, val_accuracy: 0.44861\n"
     ]
    },
    {
     "name": "stderr",
     "output_type": "stream",
     "text": [
      "100%|██████████████████████████████████████████████████████████████████████████████████| 10/10 [00:01<00:00,  8.28it/s]\n"
     ]
    },
    {
     "name": "stdout",
     "output_type": "stream",
     "text": [
      "epoch 74, loss: 0.97590, acc: 0.48501, val_loss: 1.03638, val_accuracy: 0.44861\n"
     ]
    },
    {
     "name": "stderr",
     "output_type": "stream",
     "text": [
      "100%|██████████████████████████████████████████████████████████████████████████████████| 10/10 [00:01<00:00,  8.28it/s]\n"
     ]
    },
    {
     "name": "stdout",
     "output_type": "stream",
     "text": [
      "epoch 75, loss: 0.97767, acc: 0.48310, val_loss: 1.03751, val_accuracy: 0.44851\n"
     ]
    },
    {
     "name": "stderr",
     "output_type": "stream",
     "text": [
      "100%|██████████████████████████████████████████████████████████████████████████████████| 10/10 [00:01<00:00,  8.17it/s]\n"
     ]
    },
    {
     "name": "stdout",
     "output_type": "stream",
     "text": [
      "epoch 76, loss: 0.97395, acc: 0.48648, val_loss: 1.03576, val_accuracy: 0.44821\n"
     ]
    },
    {
     "name": "stderr",
     "output_type": "stream",
     "text": [
      "100%|██████████████████████████████████████████████████████████████████████████████████| 10/10 [00:01<00:00,  8.18it/s]\n"
     ]
    },
    {
     "name": "stdout",
     "output_type": "stream",
     "text": [
      "epoch 77, loss: 0.97541, acc: 0.48163, val_loss: 1.03626, val_accuracy: 0.44931\n"
     ]
    },
    {
     "name": "stderr",
     "output_type": "stream",
     "text": [
      "100%|██████████████████████████████████████████████████████████████████████████████████| 10/10 [00:01<00:00,  8.31it/s]\n"
     ]
    },
    {
     "name": "stdout",
     "output_type": "stream",
     "text": [
      "epoch 78, loss: 0.97157, acc: 0.48831, val_loss: 1.03647, val_accuracy: 0.44901\n"
     ]
    },
    {
     "name": "stderr",
     "output_type": "stream",
     "text": [
      "100%|██████████████████████████████████████████████████████████████████████████████████| 10/10 [00:01<00:00,  8.24it/s]\n"
     ]
    },
    {
     "name": "stdout",
     "output_type": "stream",
     "text": [
      "epoch 79, loss: 0.97311, acc: 0.48720, val_loss: 1.03709, val_accuracy: 0.45060\n"
     ]
    },
    {
     "name": "stderr",
     "output_type": "stream",
     "text": [
      "100%|██████████████████████████████████████████████████████████████████████████████████| 10/10 [00:01<00:00,  7.61it/s]\n"
     ]
    },
    {
     "name": "stdout",
     "output_type": "stream",
     "text": [
      "epoch 80, loss: 0.96985, acc: 0.48985, val_loss: 1.03577, val_accuracy: 0.44950\n"
     ]
    },
    {
     "name": "stderr",
     "output_type": "stream",
     "text": [
      "100%|██████████████████████████████████████████████████████████████████████████████████| 10/10 [00:01<00:00,  8.35it/s]\n"
     ]
    },
    {
     "name": "stdout",
     "output_type": "stream",
     "text": [
      "epoch 81, loss: 0.97097, acc: 0.48478, val_loss: 1.03750, val_accuracy: 0.45069\n"
     ]
    },
    {
     "name": "stderr",
     "output_type": "stream",
     "text": [
      "100%|██████████████████████████████████████████████████████████████████████████████████| 10/10 [00:01<00:00,  8.25it/s]\n"
     ]
    },
    {
     "name": "stdout",
     "output_type": "stream",
     "text": [
      "epoch 82, loss: 0.96773, acc: 0.49211, val_loss: 1.03668, val_accuracy: 0.45099\n"
     ]
    },
    {
     "name": "stderr",
     "output_type": "stream",
     "text": [
      "100%|██████████████████████████████████████████████████████████████████████████████████| 10/10 [00:01<00:00,  8.22it/s]\n"
     ]
    },
    {
     "name": "stdout",
     "output_type": "stream",
     "text": [
      "epoch 83, loss: 0.96900, acc: 0.48784, val_loss: 1.03744, val_accuracy: 0.45208\n"
     ]
    },
    {
     "name": "stderr",
     "output_type": "stream",
     "text": [
      "100%|██████████████████████████████████████████████████████████████████████████████████| 10/10 [00:01<00:00,  8.24it/s]\n"
     ]
    },
    {
     "name": "stdout",
     "output_type": "stream",
     "text": [
      "epoch 84, loss: 0.96548, acc: 0.49119, val_loss: 1.03678, val_accuracy: 0.45109\n"
     ]
    },
    {
     "name": "stderr",
     "output_type": "stream",
     "text": [
      "100%|██████████████████████████████████████████████████████████████████████████████████| 10/10 [00:01<00:00,  8.23it/s]\n"
     ]
    },
    {
     "name": "stdout",
     "output_type": "stream",
     "text": [
      "epoch 85, loss: 0.96706, acc: 0.48842, val_loss: 1.03762, val_accuracy: 0.45188\n"
     ]
    },
    {
     "name": "stderr",
     "output_type": "stream",
     "text": [
      "100%|██████████████████████████████████████████████████████████████████████████████████| 10/10 [00:01<00:00,  8.27it/s]\n"
     ]
    },
    {
     "name": "stdout",
     "output_type": "stream",
     "text": [
      "epoch 86, loss: 0.96381, acc: 0.49193, val_loss: 1.03633, val_accuracy: 0.46627\n"
     ]
    },
    {
     "name": "stderr",
     "output_type": "stream",
     "text": [
      "100%|██████████████████████████████████████████████████████████████████████████████████| 10/10 [00:01<00:00,  8.19it/s]\n"
     ]
    },
    {
     "name": "stdout",
     "output_type": "stream",
     "text": [
      "epoch 87, loss: 0.96458, acc: 0.48867, val_loss: 1.03711, val_accuracy: 0.45179\n"
     ]
    },
    {
     "name": "stderr",
     "output_type": "stream",
     "text": [
      "100%|██████████████████████████████████████████████████████████████████████████████████| 10/10 [00:01<00:00,  8.29it/s]\n"
     ]
    },
    {
     "name": "stdout",
     "output_type": "stream",
     "text": [
      "epoch 88, loss: 0.96162, acc: 0.49061, val_loss: 1.03660, val_accuracy: 0.46756\n"
     ]
    },
    {
     "name": "stderr",
     "output_type": "stream",
     "text": [
      "100%|██████████████████████████████████████████████████████████████████████████████████| 10/10 [00:01<00:00,  7.63it/s]\n"
     ]
    },
    {
     "name": "stdout",
     "output_type": "stream",
     "text": [
      "epoch 89, loss: 0.96322, acc: 0.48859, val_loss: 1.03792, val_accuracy: 0.45308\n"
     ]
    },
    {
     "name": "stderr",
     "output_type": "stream",
     "text": [
      "100%|██████████████████████████████████████████████████████████████████████████████████| 10/10 [00:01<00:00,  8.22it/s]\n"
     ]
    },
    {
     "name": "stdout",
     "output_type": "stream",
     "text": [
      "epoch 90, loss: 0.95945, acc: 0.49217, val_loss: 1.03685, val_accuracy: 0.46974\n"
     ]
    },
    {
     "name": "stderr",
     "output_type": "stream",
     "text": [
      "100%|██████████████████████████████████████████████████████████████████████████████████| 10/10 [00:01<00:00,  8.13it/s]\n"
     ]
    },
    {
     "name": "stdout",
     "output_type": "stream",
     "text": [
      "epoch 91, loss: 0.96107, acc: 0.49015, val_loss: 1.03688, val_accuracy: 0.45308\n"
     ]
    },
    {
     "name": "stderr",
     "output_type": "stream",
     "text": [
      "100%|██████████████████████████████████████████████████████████████████████████████████| 10/10 [00:01<00:00,  8.26it/s]\n"
     ]
    },
    {
     "name": "stdout",
     "output_type": "stream",
     "text": [
      "epoch 92, loss: 0.95758, acc: 0.49395, val_loss: 1.03640, val_accuracy: 0.46984\n"
     ]
    },
    {
     "name": "stderr",
     "output_type": "stream",
     "text": [
      "100%|██████████████████████████████████████████████████████████████████████████████████| 10/10 [00:01<00:00,  8.32it/s]\n"
     ]
    },
    {
     "name": "stdout",
     "output_type": "stream",
     "text": [
      "epoch 93, loss: 0.95918, acc: 0.48978, val_loss: 1.03641, val_accuracy: 0.47044\n"
     ]
    },
    {
     "name": "stderr",
     "output_type": "stream",
     "text": [
      "100%|██████████████████████████████████████████████████████████████████████████████████| 10/10 [00:01<00:00,  7.61it/s]\n"
     ]
    },
    {
     "name": "stdout",
     "output_type": "stream",
     "text": [
      "epoch 94, loss: 0.95557, acc: 0.49533, val_loss: 1.03609, val_accuracy: 0.47103\n"
     ]
    },
    {
     "name": "stderr",
     "output_type": "stream",
     "text": [
      "100%|██████████████████████████████████████████████████████████████████████████████████| 10/10 [00:01<00:00,  8.28it/s]\n"
     ]
    },
    {
     "name": "stdout",
     "output_type": "stream",
     "text": [
      "epoch 95, loss: 0.95701, acc: 0.49260, val_loss: 1.03628, val_accuracy: 0.47312\n"
     ]
    },
    {
     "name": "stderr",
     "output_type": "stream",
     "text": [
      "100%|██████████████████████████████████████████████████████████████████████████████████| 10/10 [00:01<00:00,  8.16it/s]\n"
     ]
    },
    {
     "name": "stdout",
     "output_type": "stream",
     "text": [
      "epoch 96, loss: 0.95354, acc: 0.49550, val_loss: 1.03479, val_accuracy: 0.47063\n"
     ]
    },
    {
     "name": "stderr",
     "output_type": "stream",
     "text": [
      "100%|██████████████████████████████████████████████████████████████████████████████████| 10/10 [00:01<00:00,  7.60it/s]\n"
     ]
    },
    {
     "name": "stdout",
     "output_type": "stream",
     "text": [
      "epoch 97, loss: 0.95515, acc: 0.49319, val_loss: 1.03589, val_accuracy: 0.47381\n"
     ]
    },
    {
     "name": "stderr",
     "output_type": "stream",
     "text": [
      "100%|██████████████████████████████████████████████████████████████████████████████████| 10/10 [00:01<00:00,  8.38it/s]\n"
     ]
    },
    {
     "name": "stdout",
     "output_type": "stream",
     "text": [
      "epoch 98, loss: 0.95204, acc: 0.49902, val_loss: 1.03484, val_accuracy: 0.47143\n"
     ]
    },
    {
     "name": "stderr",
     "output_type": "stream",
     "text": [
      "100%|██████████████████████████████████████████████████████████████████████████████████| 10/10 [00:01<00:00,  7.46it/s]\n"
     ]
    },
    {
     "name": "stdout",
     "output_type": "stream",
     "text": [
      "epoch 99, loss: 0.95286, acc: 0.49501, val_loss: 1.03454, val_accuracy: 0.47312\n"
     ]
    },
    {
     "name": "stderr",
     "output_type": "stream",
     "text": [
      "100%|██████████████████████████████████████████████████████████████████████████████████| 10/10 [00:01<00:00,  8.26it/s]\n"
     ]
    },
    {
     "name": "stdout",
     "output_type": "stream",
     "text": [
      "epoch 100, loss: 0.95008, acc: 0.49858, val_loss: 1.03428, val_accuracy: 0.47093\n"
     ]
    },
    {
     "name": "stderr",
     "output_type": "stream",
     "text": [
      "100%|██████████████████████████████████████████████████████████████████████████████████| 10/10 [00:01<00:00,  7.68it/s]\n"
     ]
    },
    {
     "name": "stdout",
     "output_type": "stream",
     "text": [
      "epoch 101, loss: 0.95119, acc: 0.49572, val_loss: 1.03322, val_accuracy: 0.47272\n"
     ]
    },
    {
     "name": "stderr",
     "output_type": "stream",
     "text": [
      "100%|██████████████████████████████████████████████████████████████████████████████████| 10/10 [00:01<00:00,  8.28it/s]\n"
     ]
    },
    {
     "name": "stdout",
     "output_type": "stream",
     "text": [
      "epoch 102, loss: 0.94751, acc: 0.50135, val_loss: 1.03343, val_accuracy: 0.47133\n"
     ]
    },
    {
     "name": "stderr",
     "output_type": "stream",
     "text": [
      "100%|██████████████████████████████████████████████████████████████████████████████████| 10/10 [00:01<00:00,  8.25it/s]\n"
     ]
    },
    {
     "name": "stdout",
     "output_type": "stream",
     "text": [
      "epoch 103, loss: 0.94914, acc: 0.49734, val_loss: 1.03307, val_accuracy: 0.47371\n"
     ]
    },
    {
     "name": "stderr",
     "output_type": "stream",
     "text": [
      "100%|██████████████████████████████████████████████████████████████████████████████████| 10/10 [00:01<00:00,  8.20it/s]\n"
     ]
    },
    {
     "name": "stdout",
     "output_type": "stream",
     "text": [
      "epoch 104, loss: 0.94630, acc: 0.50064, val_loss: 1.03183, val_accuracy: 0.47222\n"
     ]
    },
    {
     "name": "stderr",
     "output_type": "stream",
     "text": [
      "100%|██████████████████████████████████████████████████████████████████████████████████| 10/10 [00:01<00:00,  8.17it/s]\n"
     ]
    },
    {
     "name": "stdout",
     "output_type": "stream",
     "text": [
      "epoch 105, loss: 0.94708, acc: 0.49794, val_loss: 1.03180, val_accuracy: 0.47530\n"
     ]
    },
    {
     "name": "stderr",
     "output_type": "stream",
     "text": [
      "100%|██████████████████████████████████████████████████████████████████████████████████| 10/10 [00:01<00:00,  8.26it/s]\n"
     ]
    },
    {
     "name": "stdout",
     "output_type": "stream",
     "text": [
      "epoch 106, loss: 0.94408, acc: 0.50077, val_loss: 1.03184, val_accuracy: 0.47232\n"
     ]
    },
    {
     "name": "stderr",
     "output_type": "stream",
     "text": [
      "100%|██████████████████████████████████████████████████████████████████████████████████| 10/10 [00:01<00:00,  8.20it/s]\n"
     ]
    },
    {
     "name": "stdout",
     "output_type": "stream",
     "text": [
      "epoch 107, loss: 0.94513, acc: 0.49927, val_loss: 1.03113, val_accuracy: 0.47490\n"
     ]
    },
    {
     "name": "stderr",
     "output_type": "stream",
     "text": [
      "100%|██████████████████████████████████████████████████████████████████████████████████| 10/10 [00:01<00:00,  7.67it/s]\n"
     ]
    },
    {
     "name": "stdout",
     "output_type": "stream",
     "text": [
      "[INFO] val_acc has been improved from 1.03111 to 1.03086. Saving Model!\n",
      "epoch 108, loss: 0.94221, acc: 0.50128, val_loss: 1.03086, val_accuracy: 0.47401\n"
     ]
    },
    {
     "name": "stderr",
     "output_type": "stream",
     "text": [
      "100%|██████████████████████████████████████████████████████████████████████████████████| 10/10 [00:01<00:00,  8.21it/s]\n"
     ]
    },
    {
     "name": "stdout",
     "output_type": "stream",
     "text": [
      "[INFO] val_acc has been improved from 1.03086 to 1.03070. Saving Model!\n",
      "epoch 109, loss: 0.94314, acc: 0.50004, val_loss: 1.03070, val_accuracy: 0.47431\n"
     ]
    },
    {
     "name": "stderr",
     "output_type": "stream",
     "text": [
      "100%|██████████████████████████████████████████████████████████████████████████████████| 10/10 [00:01<00:00,  8.30it/s]\n"
     ]
    },
    {
     "name": "stdout",
     "output_type": "stream",
     "text": [
      "epoch 110, loss: 0.94007, acc: 0.50305, val_loss: 1.03078, val_accuracy: 0.47411\n"
     ]
    },
    {
     "name": "stderr",
     "output_type": "stream",
     "text": [
      "100%|██████████████████████████████████████████████████████████████████████████████████| 10/10 [00:01<00:00,  8.23it/s]\n"
     ]
    },
    {
     "name": "stdout",
     "output_type": "stream",
     "text": [
      "epoch 111, loss: 0.94123, acc: 0.50004, val_loss: 1.03197, val_accuracy: 0.47431\n"
     ]
    },
    {
     "name": "stderr",
     "output_type": "stream",
     "text": [
      "100%|██████████████████████████████████████████████████████████████████████████████████| 10/10 [00:01<00:00,  8.28it/s]\n"
     ]
    },
    {
     "name": "stdout",
     "output_type": "stream",
     "text": [
      "[INFO] val_acc has been improved from 1.03070 to 1.02943. Saving Model!\n",
      "epoch 112, loss: 0.93834, acc: 0.50422, val_loss: 1.02943, val_accuracy: 0.47401\n"
     ]
    },
    {
     "name": "stderr",
     "output_type": "stream",
     "text": [
      "100%|██████████████████████████████████████████████████████████████████████████████████| 10/10 [00:01<00:00,  8.20it/s]\n"
     ]
    },
    {
     "name": "stdout",
     "output_type": "stream",
     "text": [
      "epoch 113, loss: 0.93916, acc: 0.50202, val_loss: 1.03163, val_accuracy: 0.47550\n"
     ]
    },
    {
     "name": "stderr",
     "output_type": "stream",
     "text": [
      "100%|██████████████████████████████████████████████████████████████████████████████████| 10/10 [00:01<00:00,  8.20it/s]\n"
     ]
    },
    {
     "name": "stdout",
     "output_type": "stream",
     "text": [
      "epoch 114, loss: 0.93575, acc: 0.50537, val_loss: 1.03055, val_accuracy: 0.47560\n"
     ]
    },
    {
     "name": "stderr",
     "output_type": "stream",
     "text": [
      "100%|██████████████████████████████████████████████████████████████████████████████████| 10/10 [00:01<00:00,  8.28it/s]\n"
     ]
    },
    {
     "name": "stdout",
     "output_type": "stream",
     "text": [
      "epoch 115, loss: 0.93678, acc: 0.50400, val_loss: 1.03043, val_accuracy: 0.47569\n"
     ]
    },
    {
     "name": "stderr",
     "output_type": "stream",
     "text": [
      "100%|██████████████████████████████████████████████████████████████████████████████████| 10/10 [00:01<00:00,  8.24it/s]\n"
     ]
    },
    {
     "name": "stdout",
     "output_type": "stream",
     "text": [
      "[INFO] val_acc has been improved from 1.02943 to 1.02939. Saving Model!\n",
      "epoch 116, loss: 0.93414, acc: 0.50541, val_loss: 1.02939, val_accuracy: 0.47490\n"
     ]
    },
    {
     "name": "stderr",
     "output_type": "stream",
     "text": [
      "100%|██████████████████████████████████████████████████████████████████████████████████| 10/10 [00:01<00:00,  7.61it/s]\n"
     ]
    },
    {
     "name": "stdout",
     "output_type": "stream",
     "text": [
      "epoch 117, loss: 0.93479, acc: 0.50643, val_loss: 1.03116, val_accuracy: 0.47619\n"
     ]
    },
    {
     "name": "stderr",
     "output_type": "stream",
     "text": [
      "100%|██████████████████████████████████████████████████████████████████████████████████| 10/10 [00:01<00:00,  8.24it/s]\n"
     ]
    },
    {
     "name": "stdout",
     "output_type": "stream",
     "text": [
      "epoch 118, loss: 0.93226, acc: 0.50671, val_loss: 1.02942, val_accuracy: 0.47530\n"
     ]
    },
    {
     "name": "stderr",
     "output_type": "stream",
     "text": [
      "100%|██████████████████████████████████████████████████████████████████████████████████| 10/10 [00:01<00:00,  8.27it/s]\n"
     ]
    },
    {
     "name": "stdout",
     "output_type": "stream",
     "text": [
      "epoch 119, loss: 0.93277, acc: 0.50759, val_loss: 1.03002, val_accuracy: 0.47589\n"
     ]
    },
    {
     "name": "stderr",
     "output_type": "stream",
     "text": [
      "100%|██████████████████████████████████████████████████████████████████████████████████| 10/10 [00:01<00:00,  8.22it/s]\n"
     ]
    },
    {
     "name": "stdout",
     "output_type": "stream",
     "text": [
      "epoch 120, loss: 0.93002, acc: 0.50881, val_loss: 1.03033, val_accuracy: 0.47798\n"
     ]
    },
    {
     "name": "stderr",
     "output_type": "stream",
     "text": [
      "100%|██████████████████████████████████████████████████████████████████████████████████| 10/10 [00:01<00:00,  8.21it/s]\n"
     ]
    },
    {
     "name": "stdout",
     "output_type": "stream",
     "text": [
      "[INFO] val_acc has been improved from 1.02939 to 1.02929. Saving Model!\n",
      "epoch 121, loss: 0.93113, acc: 0.51053, val_loss: 1.02929, val_accuracy: 0.47490\n"
     ]
    },
    {
     "name": "stderr",
     "output_type": "stream",
     "text": [
      "100%|██████████████████████████████████████████████████████████████████████████████████| 10/10 [00:01<00:00,  7.67it/s]\n"
     ]
    },
    {
     "name": "stdout",
     "output_type": "stream",
     "text": [
      "epoch 122, loss: 0.92823, acc: 0.51276, val_loss: 1.03204, val_accuracy: 0.47550\n"
     ]
    },
    {
     "name": "stderr",
     "output_type": "stream",
     "text": [
      "100%|██████████████████████████████████████████████████████████████████████████████████| 10/10 [00:01<00:00,  8.25it/s]\n"
     ]
    },
    {
     "name": "stdout",
     "output_type": "stream",
     "text": [
      "[INFO] val_acc has been improved from 1.02929 to 1.02885. Saving Model!\n",
      "epoch 123, loss: 0.92895, acc: 0.51128, val_loss: 1.02885, val_accuracy: 0.47242\n"
     ]
    },
    {
     "name": "stderr",
     "output_type": "stream",
     "text": [
      "100%|██████████████████████████████████████████████████████████████████████████████████| 10/10 [00:01<00:00,  8.15it/s]\n"
     ]
    },
    {
     "name": "stdout",
     "output_type": "stream",
     "text": [
      "epoch 124, loss: 0.92673, acc: 0.51550, val_loss: 1.03067, val_accuracy: 0.47679\n"
     ]
    },
    {
     "name": "stderr",
     "output_type": "stream",
     "text": [
      "100%|██████████████████████████████████████████████████████████████████████████████████| 10/10 [00:01<00:00,  7.65it/s]\n"
     ]
    },
    {
     "name": "stdout",
     "output_type": "stream",
     "text": [
      "epoch 125, loss: 0.92684, acc: 0.51587, val_loss: 1.02954, val_accuracy: 0.47361\n"
     ]
    },
    {
     "name": "stderr",
     "output_type": "stream",
     "text": [
      "100%|██████████████████████████████████████████████████████████████████████████████████| 10/10 [00:01<00:00,  8.21it/s]\n"
     ]
    },
    {
     "name": "stdout",
     "output_type": "stream",
     "text": [
      "epoch 126, loss: 0.92526, acc: 0.51678, val_loss: 1.03027, val_accuracy: 0.47698\n"
     ]
    },
    {
     "name": "stderr",
     "output_type": "stream",
     "text": [
      "100%|██████████████████████████████████████████████████████████████████████████████████| 10/10 [00:01<00:00,  7.63it/s]\n"
     ]
    },
    {
     "name": "stdout",
     "output_type": "stream",
     "text": [
      "[INFO] val_acc has been improved from 1.02885 to 1.02813. Saving Model!\n",
      "epoch 127, loss: 0.92399, acc: 0.51736, val_loss: 1.02813, val_accuracy: 0.47123\n"
     ]
    },
    {
     "name": "stderr",
     "output_type": "stream",
     "text": [
      "100%|██████████████████████████████████████████████████████████████████████████████████| 10/10 [00:01<00:00,  8.34it/s]\n"
     ]
    },
    {
     "name": "stdout",
     "output_type": "stream",
     "text": [
      "epoch 128, loss: 0.92263, acc: 0.51903, val_loss: 1.03047, val_accuracy: 0.47500\n"
     ]
    },
    {
     "name": "stderr",
     "output_type": "stream",
     "text": [
      "100%|██████████████████████████████████████████████████████████████████████████████████| 10/10 [00:01<00:00,  7.42it/s]\n"
     ]
    },
    {
     "name": "stdout",
     "output_type": "stream",
     "text": [
      "epoch 129, loss: 0.92251, acc: 0.52072, val_loss: 1.02874, val_accuracy: 0.47143\n"
     ]
    },
    {
     "name": "stderr",
     "output_type": "stream",
     "text": [
      "100%|██████████████████████████████████████████████████████████████████████████████████| 10/10 [00:01<00:00,  6.70it/s]\n"
     ]
    },
    {
     "name": "stdout",
     "output_type": "stream",
     "text": [
      "epoch 130, loss: 0.92002, acc: 0.52030, val_loss: 1.03013, val_accuracy: 0.47619\n"
     ]
    },
    {
     "name": "stderr",
     "output_type": "stream",
     "text": [
      "100%|██████████████████████████████████████████████████████████████████████████████████| 10/10 [00:00<00:00, 10.24it/s]\n"
     ]
    },
    {
     "name": "stdout",
     "output_type": "stream",
     "text": [
      "epoch 131, loss: 0.92023, acc: 0.52211, val_loss: 1.02906, val_accuracy: 0.47202\n"
     ]
    },
    {
     "name": "stderr",
     "output_type": "stream",
     "text": [
      "100%|██████████████████████████████████████████████████████████████████████████████████| 10/10 [00:01<00:00, 10.00it/s]\n"
     ]
    },
    {
     "name": "stdout",
     "output_type": "stream",
     "text": [
      "epoch 132, loss: 0.91788, acc: 0.52136, val_loss: 1.03095, val_accuracy: 0.47599\n"
     ]
    },
    {
     "name": "stderr",
     "output_type": "stream",
     "text": [
      "100%|██████████████████████████████████████████████████████████████████████████████████| 10/10 [00:01<00:00,  9.16it/s]\n"
     ]
    },
    {
     "name": "stdout",
     "output_type": "stream",
     "text": [
      "epoch 133, loss: 0.91825, acc: 0.52263, val_loss: 1.02900, val_accuracy: 0.47252\n"
     ]
    },
    {
     "name": "stderr",
     "output_type": "stream",
     "text": [
      "100%|██████████████████████████████████████████████████████████████████████████████████| 10/10 [00:01<00:00,  9.21it/s]\n"
     ]
    },
    {
     "name": "stdout",
     "output_type": "stream",
     "text": [
      "epoch 134, loss: 0.91538, acc: 0.52420, val_loss: 1.03021, val_accuracy: 0.47639\n"
     ]
    },
    {
     "name": "stderr",
     "output_type": "stream",
     "text": [
      "100%|██████████████████████████████████████████████████████████████████████████████████| 10/10 [00:01<00:00,  6.86it/s]\n"
     ]
    },
    {
     "name": "stdout",
     "output_type": "stream",
     "text": [
      "epoch 135, loss: 0.91596, acc: 0.52330, val_loss: 1.03035, val_accuracy: 0.47242\n"
     ]
    },
    {
     "name": "stderr",
     "output_type": "stream",
     "text": [
      "100%|██████████████████████████████████████████████████████████████████████████████████| 10/10 [00:01<00:00,  9.38it/s]\n"
     ]
    },
    {
     "name": "stdout",
     "output_type": "stream",
     "text": [
      "epoch 136, loss: 0.91346, acc: 0.52437, val_loss: 1.03060, val_accuracy: 0.47589\n"
     ]
    },
    {
     "name": "stderr",
     "output_type": "stream",
     "text": [
      "100%|██████████████████████████████████████████████████████████████████████████████████| 10/10 [00:00<00:00, 10.28it/s]\n"
     ]
    },
    {
     "name": "stdout",
     "output_type": "stream",
     "text": [
      "epoch 137, loss: 0.91351, acc: 0.52690, val_loss: 1.02963, val_accuracy: 0.47411\n"
     ]
    },
    {
     "name": "stderr",
     "output_type": "stream",
     "text": [
      "100%|██████████████████████████████████████████████████████████████████████████████████| 10/10 [00:00<00:00, 10.18it/s]\n"
     ]
    },
    {
     "name": "stdout",
     "output_type": "stream",
     "text": [
      "epoch 138, loss: 0.91178, acc: 0.52537, val_loss: 1.03072, val_accuracy: 0.47589\n"
     ]
    },
    {
     "name": "stderr",
     "output_type": "stream",
     "text": [
      "100%|██████████████████████████████████████████████████████████████████████████████████| 10/10 [00:01<00:00,  9.39it/s]\n"
     ]
    },
    {
     "name": "stdout",
     "output_type": "stream",
     "text": [
      "epoch 139, loss: 0.91182, acc: 0.52791, val_loss: 1.03034, val_accuracy: 0.47381\n"
     ]
    },
    {
     "name": "stderr",
     "output_type": "stream",
     "text": [
      "100%|██████████████████████████████████████████████████████████████████████████████████| 10/10 [00:01<00:00,  9.33it/s]\n"
     ]
    },
    {
     "name": "stdout",
     "output_type": "stream",
     "text": [
      "epoch 140, loss: 0.90926, acc: 0.52619, val_loss: 1.03072, val_accuracy: 0.47679\n"
     ]
    },
    {
     "name": "stderr",
     "output_type": "stream",
     "text": [
      "100%|██████████████████████████████████████████████████████████████████████████████████| 10/10 [00:01<00:00,  8.17it/s]\n"
     ]
    },
    {
     "name": "stdout",
     "output_type": "stream",
     "text": [
      "epoch 141, loss: 0.90976, acc: 0.52773, val_loss: 1.02946, val_accuracy: 0.47540\n"
     ]
    },
    {
     "name": "stderr",
     "output_type": "stream",
     "text": [
      "100%|██████████████████████████████████████████████████████████████████████████████████| 10/10 [00:01<00:00,  8.28it/s]\n"
     ]
    },
    {
     "name": "stdout",
     "output_type": "stream",
     "text": [
      "epoch 142, loss: 0.90696, acc: 0.52702, val_loss: 1.03099, val_accuracy: 0.47609\n"
     ]
    },
    {
     "name": "stderr",
     "output_type": "stream",
     "text": [
      "100%|██████████████████████████████████████████████████████████████████████████████████| 10/10 [00:01<00:00,  8.20it/s]\n"
     ]
    },
    {
     "name": "stdout",
     "output_type": "stream",
     "text": [
      "epoch 143, loss: 0.90713, acc: 0.53088, val_loss: 1.02971, val_accuracy: 0.47599\n"
     ]
    },
    {
     "name": "stderr",
     "output_type": "stream",
     "text": [
      "100%|██████████████████████████████████████████████████████████████████████████████████| 10/10 [00:01<00:00,  7.37it/s]\n"
     ]
    },
    {
     "name": "stdout",
     "output_type": "stream",
     "text": [
      "epoch 144, loss: 0.90448, acc: 0.53174, val_loss: 1.03089, val_accuracy: 0.47698\n"
     ]
    },
    {
     "name": "stderr",
     "output_type": "stream",
     "text": [
      "100%|██████████████████████████████████████████████████████████████████████████████████| 10/10 [00:01<00:00,  8.62it/s]\n"
     ]
    },
    {
     "name": "stdout",
     "output_type": "stream",
     "text": [
      "epoch 145, loss: 0.90480, acc: 0.53391, val_loss: 1.02905, val_accuracy: 0.47837\n"
     ]
    },
    {
     "name": "stderr",
     "output_type": "stream",
     "text": [
      "100%|██████████████████████████████████████████████████████████████████████████████████| 10/10 [00:01<00:00,  8.18it/s]\n"
     ]
    },
    {
     "name": "stdout",
     "output_type": "stream",
     "text": [
      "epoch 146, loss: 0.90487, acc: 0.53442, val_loss: 1.03082, val_accuracy: 0.47877\n"
     ]
    },
    {
     "name": "stderr",
     "output_type": "stream",
     "text": [
      "100%|██████████████████████████████████████████████████████████████████████████████████| 10/10 [00:01<00:00,  9.12it/s]\n"
     ]
    },
    {
     "name": "stdout",
     "output_type": "stream",
     "text": [
      "epoch 147, loss: 0.90405, acc: 0.53569, val_loss: 1.02947, val_accuracy: 0.47986\n"
     ]
    },
    {
     "name": "stderr",
     "output_type": "stream",
     "text": [
      "100%|██████████████████████████████████████████████████████████████████████████████████| 10/10 [00:01<00:00,  8.25it/s]\n"
     ]
    },
    {
     "name": "stdout",
     "output_type": "stream",
     "text": [
      "epoch 148, loss: 0.90006, acc: 0.53423, val_loss: 1.02870, val_accuracy: 0.47768\n"
     ]
    },
    {
     "name": "stderr",
     "output_type": "stream",
     "text": [
      "100%|██████████████████████████████████████████████████████████████████████████████████| 10/10 [00:01<00:00,  8.23it/s]\n"
     ]
    },
    {
     "name": "stdout",
     "output_type": "stream",
     "text": [
      "epoch 149, loss: 0.89972, acc: 0.53763, val_loss: 1.02850, val_accuracy: 0.47937\n"
     ]
    },
    {
     "name": "stderr",
     "output_type": "stream",
     "text": [
      "100%|██████████████████████████████████████████████████████████████████████████████████| 10/10 [00:01<00:00,  7.54it/s]\n"
     ]
    },
    {
     "name": "stdout",
     "output_type": "stream",
     "text": [
      "epoch 150, loss: 0.89816, acc: 0.53640, val_loss: 1.02976, val_accuracy: 0.47927\n"
     ]
    },
    {
     "name": "stderr",
     "output_type": "stream",
     "text": [
      "100%|██████████████████████████████████████████████████████████████████████████████████| 10/10 [00:01<00:00,  8.28it/s]\n"
     ]
    },
    {
     "name": "stdout",
     "output_type": "stream",
     "text": [
      "[INFO] val_acc has been improved from 1.02813 to 1.02767. Saving Model!\n",
      "epoch 151, loss: 0.89777, acc: 0.53914, val_loss: 1.02767, val_accuracy: 0.48442\n"
     ]
    },
    {
     "name": "stderr",
     "output_type": "stream",
     "text": [
      "100%|██████████████████████████████████████████████████████████████████████████████████| 10/10 [00:01<00:00,  8.15it/s]\n"
     ]
    },
    {
     "name": "stdout",
     "output_type": "stream",
     "text": [
      "epoch 152, loss: 0.89597, acc: 0.54193, val_loss: 1.03003, val_accuracy: 0.48363\n"
     ]
    },
    {
     "name": "stderr",
     "output_type": "stream",
     "text": [
      "100%|██████████████████████████████████████████████████████████████████████████████████| 10/10 [00:01<00:00,  7.65it/s]\n"
     ]
    },
    {
     "name": "stdout",
     "output_type": "stream",
     "text": [
      "[INFO] val_acc has been improved from 1.02767 to 1.02725. Saving Model!\n",
      "epoch 153, loss: 0.89652, acc: 0.54189, val_loss: 1.02725, val_accuracy: 0.48581\n"
     ]
    },
    {
     "name": "stderr",
     "output_type": "stream",
     "text": [
      "100%|██████████████████████████████████████████████████████████████████████████████████| 10/10 [00:01<00:00,  8.86it/s]\n"
     ]
    },
    {
     "name": "stdout",
     "output_type": "stream",
     "text": [
      "epoch 154, loss: 0.89412, acc: 0.54296, val_loss: 1.02938, val_accuracy: 0.48403\n"
     ]
    },
    {
     "name": "stderr",
     "output_type": "stream",
     "text": [
      "100%|██████████████████████████████████████████████████████████████████████████████████| 10/10 [00:01<00:00,  9.00it/s]\n"
     ]
    },
    {
     "name": "stdout",
     "output_type": "stream",
     "text": [
      "[INFO] val_acc has been improved from 1.02725 to 1.02662. Saving Model!\n",
      "epoch 155, loss: 0.89402, acc: 0.54461, val_loss: 1.02662, val_accuracy: 0.48760\n"
     ]
    },
    {
     "name": "stderr",
     "output_type": "stream",
     "text": [
      "100%|██████████████████████████████████████████████████████████████████████████████████| 10/10 [00:00<00:00, 10.38it/s]\n"
     ]
    },
    {
     "name": "stdout",
     "output_type": "stream",
     "text": [
      "epoch 156, loss: 0.89197, acc: 0.54644, val_loss: 1.02967, val_accuracy: 0.48571\n"
     ]
    },
    {
     "name": "stderr",
     "output_type": "stream",
     "text": [
      "100%|██████████████████████████████████████████████████████████████████████████████████| 10/10 [00:01<00:00,  9.09it/s]\n"
     ]
    },
    {
     "name": "stdout",
     "output_type": "stream",
     "text": [
      "[INFO] val_acc has been improved from 1.02662 to 1.02616. Saving Model!\n",
      "epoch 157, loss: 0.89229, acc: 0.54874, val_loss: 1.02616, val_accuracy: 0.49117\n"
     ]
    },
    {
     "name": "stderr",
     "output_type": "stream",
     "text": [
      "100%|██████████████████████████████████████████████████████████████████████████████████| 10/10 [00:01<00:00,  9.13it/s]\n"
     ]
    },
    {
     "name": "stdout",
     "output_type": "stream",
     "text": [
      "epoch 158, loss: 0.88929, acc: 0.54959, val_loss: 1.02816, val_accuracy: 0.49216\n"
     ]
    },
    {
     "name": "stderr",
     "output_type": "stream",
     "text": [
      "100%|██████████████████████████████████████████████████████████████████████████████████| 10/10 [00:01<00:00,  8.24it/s]\n"
     ]
    },
    {
     "name": "stdout",
     "output_type": "stream",
     "text": [
      "epoch 159, loss: 0.88973, acc: 0.55103, val_loss: 1.02680, val_accuracy: 0.49365\n"
     ]
    },
    {
     "name": "stderr",
     "output_type": "stream",
     "text": [
      "100%|██████████████████████████████████████████████████████████████████████████████████| 10/10 [00:01<00:00,  8.32it/s]\n"
     ]
    },
    {
     "name": "stdout",
     "output_type": "stream",
     "text": [
      "epoch 160, loss: 0.88718, acc: 0.55165, val_loss: 1.02858, val_accuracy: 0.49355\n"
     ]
    },
    {
     "name": "stderr",
     "output_type": "stream",
     "text": [
      "100%|██████████████████████████████████████████████████████████████████████████████████| 10/10 [00:01<00:00,  8.14it/s]\n"
     ]
    },
    {
     "name": "stdout",
     "output_type": "stream",
     "text": [
      "[INFO] val_acc has been improved from 1.02616 to 1.02584. Saving Model!\n",
      "epoch 161, loss: 0.88738, acc: 0.55293, val_loss: 1.02584, val_accuracy: 0.49504\n"
     ]
    },
    {
     "name": "stderr",
     "output_type": "stream",
     "text": [
      "100%|██████████████████████████████████████████████████████████████████████████████████| 10/10 [00:01<00:00,  8.14it/s]\n"
     ]
    },
    {
     "name": "stdout",
     "output_type": "stream",
     "text": [
      "epoch 162, loss: 0.88544, acc: 0.55736, val_loss: 1.02767, val_accuracy: 0.49464\n"
     ]
    },
    {
     "name": "stderr",
     "output_type": "stream",
     "text": [
      "100%|██████████████████████████████████████████████████████████████████████████████████| 10/10 [00:01<00:00,  8.15it/s]\n"
     ]
    },
    {
     "name": "stdout",
     "output_type": "stream",
     "text": [
      "epoch 163, loss: 0.88502, acc: 0.55371, val_loss: 1.02685, val_accuracy: 0.49712\n"
     ]
    },
    {
     "name": "stderr",
     "output_type": "stream",
     "text": [
      "100%|██████████████████████████████████████████████████████████████████████████████████| 10/10 [00:01<00:00,  7.47it/s]\n"
     ]
    },
    {
     "name": "stdout",
     "output_type": "stream",
     "text": [
      "epoch 164, loss: 0.88339, acc: 0.55907, val_loss: 1.02797, val_accuracy: 0.49692\n"
     ]
    },
    {
     "name": "stderr",
     "output_type": "stream",
     "text": [
      "100%|██████████████████████████████████████████████████████████████████████████████████| 10/10 [00:01<00:00,  9.94it/s]\n"
     ]
    },
    {
     "name": "stdout",
     "output_type": "stream",
     "text": [
      "[INFO] val_acc has been improved from 1.02584 to 1.02561. Saving Model!\n",
      "epoch 165, loss: 0.88284, acc: 0.55877, val_loss: 1.02561, val_accuracy: 0.49663\n"
     ]
    },
    {
     "name": "stderr",
     "output_type": "stream",
     "text": [
      "100%|██████████████████████████████████████████████████████████████████████████████████| 10/10 [00:00<00:00, 10.22it/s]\n"
     ]
    },
    {
     "name": "stdout",
     "output_type": "stream",
     "text": [
      "epoch 166, loss: 0.88132, acc: 0.55921, val_loss: 1.02845, val_accuracy: 0.49931\n"
     ]
    },
    {
     "name": "stderr",
     "output_type": "stream",
     "text": [
      "100%|██████████████████████████████████████████████████████████████████████████████████| 10/10 [00:00<00:00, 10.01it/s]\n"
     ]
    },
    {
     "name": "stdout",
     "output_type": "stream",
     "text": [
      "[INFO] val_acc has been improved from 1.02561 to 1.02491. Saving Model!\n",
      "epoch 167, loss: 0.88091, acc: 0.56031, val_loss: 1.02491, val_accuracy: 0.49901\n"
     ]
    },
    {
     "name": "stderr",
     "output_type": "stream",
     "text": [
      "100%|██████████████████████████████████████████████████████████████████████████████████| 10/10 [00:01<00:00,  9.38it/s]\n"
     ]
    },
    {
     "name": "stdout",
     "output_type": "stream",
     "text": [
      "epoch 168, loss: 0.87889, acc: 0.56134, val_loss: 1.02803, val_accuracy: 0.50010\n"
     ]
    },
    {
     "name": "stderr",
     "output_type": "stream",
     "text": [
      "100%|██████████████████████████████████████████████████████████████████████████████████| 10/10 [00:01<00:00,  9.02it/s]\n"
     ]
    },
    {
     "name": "stdout",
     "output_type": "stream",
     "text": [
      "epoch 169, loss: 0.87908, acc: 0.56176, val_loss: 1.02544, val_accuracy: 0.49950\n"
     ]
    },
    {
     "name": "stderr",
     "output_type": "stream",
     "text": [
      "100%|██████████████████████████████████████████████████████████████████████████████████| 10/10 [00:01<00:00,  7.31it/s]\n"
     ]
    },
    {
     "name": "stdout",
     "output_type": "stream",
     "text": [
      "epoch 170, loss: 0.87767, acc: 0.56513, val_loss: 1.02771, val_accuracy: 0.50337\n"
     ]
    },
    {
     "name": "stderr",
     "output_type": "stream",
     "text": [
      "100%|██████████████████████████████████████████████████████████████████████████████████| 10/10 [00:00<00:00, 10.14it/s]\n"
     ]
    },
    {
     "name": "stdout",
     "output_type": "stream",
     "text": [
      "epoch 171, loss: 0.87726, acc: 0.56244, val_loss: 1.02515, val_accuracy: 0.50129\n"
     ]
    },
    {
     "name": "stderr",
     "output_type": "stream",
     "text": [
      "100%|██████████████████████████████████████████████████████████████████████████████████| 10/10 [00:00<00:00, 10.06it/s]\n"
     ]
    },
    {
     "name": "stdout",
     "output_type": "stream",
     "text": [
      "epoch 172, loss: 0.87516, acc: 0.56695, val_loss: 1.02736, val_accuracy: 0.50228\n"
     ]
    },
    {
     "name": "stderr",
     "output_type": "stream",
     "text": [
      "100%|██████████████████████████████████████████████████████████████████████████████████| 10/10 [00:01<00:00,  8.98it/s]\n"
     ]
    },
    {
     "name": "stdout",
     "output_type": "stream",
     "text": [
      "epoch 173, loss: 0.87475, acc: 0.56415, val_loss: 1.02540, val_accuracy: 0.50308\n"
     ]
    },
    {
     "name": "stderr",
     "output_type": "stream",
     "text": [
      "100%|██████████████████████████████████████████████████████████████████████████████████| 10/10 [00:01<00:00,  9.35it/s]\n"
     ]
    },
    {
     "name": "stdout",
     "output_type": "stream",
     "text": [
      "epoch 174, loss: 0.87295, acc: 0.56901, val_loss: 1.02716, val_accuracy: 0.50486\n"
     ]
    },
    {
     "name": "stderr",
     "output_type": "stream",
     "text": [
      "100%|██████████████████████████████████████████████████████████████████████████████████| 10/10 [00:01<00:00,  8.79it/s]\n"
     ]
    },
    {
     "name": "stdout",
     "output_type": "stream",
     "text": [
      "epoch 175, loss: 0.87233, acc: 0.56714, val_loss: 1.02566, val_accuracy: 0.50367\n"
     ]
    },
    {
     "name": "stderr",
     "output_type": "stream",
     "text": [
      "100%|██████████████████████████████████████████████████████████████████████████████████| 10/10 [00:01<00:00,  7.83it/s]\n"
     ]
    },
    {
     "name": "stdout",
     "output_type": "stream",
     "text": [
      "epoch 176, loss: 0.87066, acc: 0.57012, val_loss: 1.02650, val_accuracy: 0.50546\n"
     ]
    },
    {
     "name": "stderr",
     "output_type": "stream",
     "text": [
      "100%|██████████████████████████████████████████████████████████████████████████████████| 10/10 [00:01<00:00,  9.13it/s]\n"
     ]
    },
    {
     "name": "stdout",
     "output_type": "stream",
     "text": [
      "epoch 177, loss: 0.87030, acc: 0.57000, val_loss: 1.02580, val_accuracy: 0.50456\n"
     ]
    },
    {
     "name": "stderr",
     "output_type": "stream",
     "text": [
      "100%|██████████████████████████████████████████████████████████████████████████████████| 10/10 [00:01<00:00,  7.09it/s]\n"
     ]
    },
    {
     "name": "stdout",
     "output_type": "stream",
     "text": [
      "epoch 178, loss: 0.86867, acc: 0.57194, val_loss: 1.02703, val_accuracy: 0.50615\n"
     ]
    },
    {
     "name": "stderr",
     "output_type": "stream",
     "text": [
      "100%|██████████████████████████████████████████████████████████████████████████████████| 10/10 [00:00<00:00, 10.17it/s]\n"
     ]
    },
    {
     "name": "stdout",
     "output_type": "stream",
     "text": [
      "epoch 179, loss: 0.86802, acc: 0.57167, val_loss: 1.02660, val_accuracy: 0.50437\n"
     ]
    },
    {
     "name": "stderr",
     "output_type": "stream",
     "text": [
      "100%|██████████████████████████████████████████████████████████████████████████████████| 10/10 [00:00<00:00, 10.20it/s]\n"
     ]
    },
    {
     "name": "stdout",
     "output_type": "stream",
     "text": [
      "epoch 180, loss: 0.86713, acc: 0.57389, val_loss: 1.02707, val_accuracy: 0.50685\n"
     ]
    },
    {
     "name": "stderr",
     "output_type": "stream",
     "text": [
      "100%|██████████████████████████████████████████████████████████████████████████████████| 10/10 [00:01<00:00,  9.30it/s]\n"
     ]
    },
    {
     "name": "stdout",
     "output_type": "stream",
     "text": [
      "epoch 181, loss: 0.86664, acc: 0.57324, val_loss: 1.02539, val_accuracy: 0.50387\n"
     ]
    },
    {
     "name": "stderr",
     "output_type": "stream",
     "text": [
      "100%|██████████████████████████████████████████████████████████████████████████████████| 10/10 [00:01<00:00,  9.42it/s]\n"
     ]
    },
    {
     "name": "stdout",
     "output_type": "stream",
     "text": [
      "epoch 182, loss: 0.86461, acc: 0.57370, val_loss: 1.02763, val_accuracy: 0.50655\n"
     ]
    },
    {
     "name": "stderr",
     "output_type": "stream",
     "text": [
      "100%|██████████████████████████████████████████████████████████████████████████████████| 10/10 [00:01<00:00,  7.67it/s]\n"
     ]
    },
    {
     "name": "stdout",
     "output_type": "stream",
     "text": [
      "epoch 183, loss: 0.86482, acc: 0.57395, val_loss: 1.02542, val_accuracy: 0.50446\n"
     ]
    },
    {
     "name": "stderr",
     "output_type": "stream",
     "text": [
      "100%|██████████████████████████████████████████████████████████████████████████████████| 10/10 [00:01<00:00,  8.37it/s]\n"
     ]
    },
    {
     "name": "stdout",
     "output_type": "stream",
     "text": [
      "epoch 184, loss: 0.86260, acc: 0.57664, val_loss: 1.02799, val_accuracy: 0.50734\n"
     ]
    },
    {
     "name": "stderr",
     "output_type": "stream",
     "text": [
      "100%|██████████████████████████████████████████████████████████████████████████████████| 10/10 [00:01<00:00,  7.62it/s]\n"
     ]
    },
    {
     "name": "stdout",
     "output_type": "stream",
     "text": [
      "epoch 185, loss: 0.86270, acc: 0.57626, val_loss: 1.02521, val_accuracy: 0.50546\n"
     ]
    },
    {
     "name": "stderr",
     "output_type": "stream",
     "text": [
      "100%|██████████████████████████████████████████████████████████████████████████████████| 10/10 [00:01<00:00,  8.22it/s]\n"
     ]
    },
    {
     "name": "stdout",
     "output_type": "stream",
     "text": [
      "epoch 186, loss: 0.86084, acc: 0.57694, val_loss: 1.02749, val_accuracy: 0.50665\n"
     ]
    },
    {
     "name": "stderr",
     "output_type": "stream",
     "text": [
      "100%|██████████████████████████████████████████████████████████████████████████████████| 10/10 [00:01<00:00,  8.21it/s]\n"
     ]
    },
    {
     "name": "stdout",
     "output_type": "stream",
     "text": [
      "epoch 187, loss: 0.86031, acc: 0.57854, val_loss: 1.02558, val_accuracy: 0.50546\n"
     ]
    },
    {
     "name": "stderr",
     "output_type": "stream",
     "text": [
      "100%|██████████████████████████████████████████████████████████████████████████████████| 10/10 [00:00<00:00, 10.13it/s]\n"
     ]
    },
    {
     "name": "stdout",
     "output_type": "stream",
     "text": [
      "epoch 188, loss: 0.85858, acc: 0.58076, val_loss: 1.02735, val_accuracy: 0.50903\n"
     ]
    },
    {
     "name": "stderr",
     "output_type": "stream",
     "text": [
      "100%|██████████████████████████████████████████████████████████████████████████████████| 10/10 [00:01<00:00,  9.46it/s]\n"
     ]
    },
    {
     "name": "stdout",
     "output_type": "stream",
     "text": [
      "epoch 189, loss: 0.85873, acc: 0.58171, val_loss: 1.02614, val_accuracy: 0.50486\n"
     ]
    },
    {
     "name": "stderr",
     "output_type": "stream",
     "text": [
      "100%|██████████████████████████████████████████████████████████████████████████████████| 10/10 [00:01<00:00,  9.13it/s]\n"
     ]
    },
    {
     "name": "stdout",
     "output_type": "stream",
     "text": [
      "epoch 190, loss: 0.85694, acc: 0.58346, val_loss: 1.02744, val_accuracy: 0.50813\n"
     ]
    },
    {
     "name": "stderr",
     "output_type": "stream",
     "text": [
      "100%|██████████████████████████████████████████████████████████████████████████████████| 10/10 [00:01<00:00,  7.41it/s]\n"
     ]
    },
    {
     "name": "stdout",
     "output_type": "stream",
     "text": [
      "epoch 191, loss: 0.85616, acc: 0.58624, val_loss: 1.02661, val_accuracy: 0.50804\n"
     ]
    },
    {
     "name": "stderr",
     "output_type": "stream",
     "text": [
      "100%|██████████████████████████████████████████████████████████████████████████████████| 10/10 [00:01<00:00,  8.65it/s]\n"
     ]
    },
    {
     "name": "stdout",
     "output_type": "stream",
     "text": [
      "epoch 192, loss: 0.85483, acc: 0.58754, val_loss: 1.02642, val_accuracy: 0.50843\n"
     ]
    },
    {
     "name": "stderr",
     "output_type": "stream",
     "text": [
      "100%|██████████████████████████████████████████████████████████████████████████████████| 10/10 [00:01<00:00,  8.40it/s]\n"
     ]
    },
    {
     "name": "stdout",
     "output_type": "stream",
     "text": [
      "epoch 193, loss: 0.85362, acc: 0.58588, val_loss: 1.02627, val_accuracy: 0.50804\n"
     ]
    },
    {
     "name": "stderr",
     "output_type": "stream",
     "text": [
      "100%|██████████████████████████████████████████████████████████████████████████████████| 10/10 [00:01<00:00,  7.94it/s]\n"
     ]
    },
    {
     "name": "stdout",
     "output_type": "stream",
     "text": [
      "epoch 194, loss: 0.85353, acc: 0.58846, val_loss: 1.02704, val_accuracy: 0.50873\n"
     ]
    },
    {
     "name": "stderr",
     "output_type": "stream",
     "text": [
      "100%|██████████████████████████████████████████████████████████████████████████████████| 10/10 [00:01<00:00,  8.16it/s]\n"
     ]
    },
    {
     "name": "stdout",
     "output_type": "stream",
     "text": [
      "epoch 195, loss: 0.85230, acc: 0.58709, val_loss: 1.02527, val_accuracy: 0.50923\n"
     ]
    },
    {
     "name": "stderr",
     "output_type": "stream",
     "text": [
      "100%|██████████████████████████████████████████████████████████████████████████████████| 10/10 [00:01<00:00,  8.22it/s]\n"
     ]
    },
    {
     "name": "stdout",
     "output_type": "stream",
     "text": [
      "epoch 196, loss: 0.85120, acc: 0.59150, val_loss: 1.02700, val_accuracy: 0.50913\n"
     ]
    },
    {
     "name": "stderr",
     "output_type": "stream",
     "text": [
      "100%|██████████████████████████████████████████████████████████████████████████████████| 10/10 [00:01<00:00,  7.94it/s]\n"
     ]
    },
    {
     "name": "stdout",
     "output_type": "stream",
     "text": [
      "epoch 197, loss: 0.85049, acc: 0.58978, val_loss: 1.02539, val_accuracy: 0.50952\n"
     ]
    },
    {
     "name": "stderr",
     "output_type": "stream",
     "text": [
      "100%|██████████████████████████████████████████████████████████████████████████████████| 10/10 [00:01<00:00,  8.49it/s]\n"
     ]
    },
    {
     "name": "stdout",
     "output_type": "stream",
     "text": [
      "epoch 198, loss: 0.84915, acc: 0.59393, val_loss: 1.02633, val_accuracy: 0.50952\n"
     ]
    },
    {
     "name": "stderr",
     "output_type": "stream",
     "text": [
      "100%|██████████████████████████████████████████████████████████████████████████████████| 10/10 [00:01<00:00,  7.55it/s]\n"
     ]
    },
    {
     "name": "stdout",
     "output_type": "stream",
     "text": [
      "epoch 199, loss: 0.84813, acc: 0.59128, val_loss: 1.02501, val_accuracy: 0.51012\n"
     ]
    },
    {
     "name": "stderr",
     "output_type": "stream",
     "text": [
      "100%|██████████████████████████████████████████████████████████████████████████████████| 10/10 [00:00<00:00, 10.22it/s]\n"
     ]
    },
    {
     "name": "stdout",
     "output_type": "stream",
     "text": [
      "epoch 200, loss: 0.84786, acc: 0.59397, val_loss: 1.02636, val_accuracy: 0.51052\n"
     ]
    },
    {
     "name": "stderr",
     "output_type": "stream",
     "text": [
      "100%|██████████████████████████████████████████████████████████████████████████████████| 10/10 [00:01<00:00,  9.39it/s]\n"
     ]
    },
    {
     "name": "stdout",
     "output_type": "stream",
     "text": [
      "[INFO] val_acc has been improved from 1.02491 to 1.02373. Saving Model!\n",
      "epoch 201, loss: 0.84640, acc: 0.59478, val_loss: 1.02373, val_accuracy: 0.51052\n"
     ]
    },
    {
     "name": "stderr",
     "output_type": "stream",
     "text": [
      "100%|██████████████████████████████████████████████████████████████████████████████████| 10/10 [00:00<00:00, 10.13it/s]\n"
     ]
    },
    {
     "name": "stdout",
     "output_type": "stream",
     "text": [
      "epoch 202, loss: 0.84496, acc: 0.59886, val_loss: 1.02583, val_accuracy: 0.51181\n"
     ]
    },
    {
     "name": "stderr",
     "output_type": "stream",
     "text": [
      "100%|██████████████████████████████████████████████████████████████████████████████████| 10/10 [00:01<00:00,  9.43it/s]\n"
     ]
    },
    {
     "name": "stdout",
     "output_type": "stream",
     "text": [
      "epoch 203, loss: 0.84460, acc: 0.59600, val_loss: 1.02433, val_accuracy: 0.51101\n"
     ]
    },
    {
     "name": "stderr",
     "output_type": "stream",
     "text": [
      "100%|██████████████████████████████████████████████████████████████████████████████████| 10/10 [00:01<00:00,  8.48it/s]\n"
     ]
    },
    {
     "name": "stdout",
     "output_type": "stream",
     "text": [
      "epoch 204, loss: 0.84278, acc: 0.59935, val_loss: 1.02453, val_accuracy: 0.51210\n"
     ]
    },
    {
     "name": "stderr",
     "output_type": "stream",
     "text": [
      "100%|██████████████████████████████████████████████████████████████████████████████████| 10/10 [00:01<00:00,  8.03it/s]\n"
     ]
    },
    {
     "name": "stdout",
     "output_type": "stream",
     "text": [
      "epoch 205, loss: 0.84241, acc: 0.59720, val_loss: 1.02414, val_accuracy: 0.51131\n"
     ]
    },
    {
     "name": "stderr",
     "output_type": "stream",
     "text": [
      "100%|██████████████████████████████████████████████████████████████████████████████████| 10/10 [00:01<00:00,  7.53it/s]\n"
     ]
    },
    {
     "name": "stdout",
     "output_type": "stream",
     "text": [
      "epoch 206, loss: 0.84131, acc: 0.60060, val_loss: 1.02415, val_accuracy: 0.51290\n"
     ]
    },
    {
     "name": "stderr",
     "output_type": "stream",
     "text": [
      "100%|██████████████████████████████████████████████████████████████████████████████████| 10/10 [00:01<00:00,  8.28it/s]\n"
     ]
    },
    {
     "name": "stdout",
     "output_type": "stream",
     "text": [
      "[INFO] val_acc has been improved from 1.02373 to 1.02368. Saving Model!\n",
      "epoch 207, loss: 0.83971, acc: 0.60220, val_loss: 1.02368, val_accuracy: 0.51190\n"
     ]
    },
    {
     "name": "stderr",
     "output_type": "stream",
     "text": [
      "100%|██████████████████████████████████████████████████████████████████████████████████| 10/10 [00:01<00:00,  8.22it/s]\n"
     ]
    },
    {
     "name": "stdout",
     "output_type": "stream",
     "text": [
      "[INFO] val_acc has been improved from 1.02368 to 1.02357. Saving Model!\n",
      "epoch 208, loss: 0.83927, acc: 0.60149, val_loss: 1.02357, val_accuracy: 0.51339\n"
     ]
    },
    {
     "name": "stderr",
     "output_type": "stream",
     "text": [
      "100%|██████████████████████████████████████████████████████████████████████████████████| 10/10 [00:01<00:00,  7.70it/s]\n"
     ]
    },
    {
     "name": "stdout",
     "output_type": "stream",
     "text": [
      "epoch 209, loss: 0.83805, acc: 0.60042, val_loss: 1.02374, val_accuracy: 0.51240\n"
     ]
    },
    {
     "name": "stderr",
     "output_type": "stream",
     "text": [
      "100%|██████████████████████████████████████████████████████████████████████████████████| 10/10 [00:01<00:00,  8.14it/s]\n"
     ]
    },
    {
     "name": "stdout",
     "output_type": "stream",
     "text": [
      "[INFO] val_acc has been improved from 1.02357 to 1.02257. Saving Model!\n",
      "epoch 210, loss: 0.83765, acc: 0.60224, val_loss: 1.02257, val_accuracy: 0.51230\n"
     ]
    },
    {
     "name": "stderr",
     "output_type": "stream",
     "text": [
      "100%|██████████████████████████████████████████████████████████████████████████████████| 10/10 [00:01<00:00,  7.49it/s]\n"
     ]
    },
    {
     "name": "stdout",
     "output_type": "stream",
     "text": [
      "epoch 211, loss: 0.83618, acc: 0.60046, val_loss: 1.02446, val_accuracy: 0.51141\n"
     ]
    },
    {
     "name": "stderr",
     "output_type": "stream",
     "text": [
      "100%|██████████████████████████████████████████████████████████████████████████████████| 10/10 [00:01<00:00,  8.42it/s]\n"
     ]
    },
    {
     "name": "stdout",
     "output_type": "stream",
     "text": [
      "[INFO] val_acc has been improved from 1.02257 to 1.02240. Saving Model!\n",
      "epoch 212, loss: 0.83592, acc: 0.60208, val_loss: 1.02240, val_accuracy: 0.51260\n"
     ]
    },
    {
     "name": "stderr",
     "output_type": "stream",
     "text": [
      "100%|██████████████████████████████████████████████████████████████████████████████████| 10/10 [00:01<00:00,  7.71it/s]\n"
     ]
    },
    {
     "name": "stdout",
     "output_type": "stream",
     "text": [
      "epoch 213, loss: 0.83439, acc: 0.60106, val_loss: 1.02284, val_accuracy: 0.51349\n"
     ]
    },
    {
     "name": "stderr",
     "output_type": "stream",
     "text": [
      "100%|██████████████████████████████████████████████████████████████████████████████████| 10/10 [00:01<00:00,  8.07it/s]\n"
     ]
    },
    {
     "name": "stdout",
     "output_type": "stream",
     "text": [
      "epoch 214, loss: 0.83397, acc: 0.60519, val_loss: 1.02344, val_accuracy: 0.51240\n"
     ]
    },
    {
     "name": "stderr",
     "output_type": "stream",
     "text": [
      "100%|██████████████████████████████████████████████████████████████████████████████████| 10/10 [00:01<00:00,  8.25it/s]\n"
     ]
    },
    {
     "name": "stdout",
     "output_type": "stream",
     "text": [
      "[INFO] val_acc has been improved from 1.02240 to 1.02071. Saving Model!\n",
      "epoch 215, loss: 0.83285, acc: 0.60653, val_loss: 1.02071, val_accuracy: 0.51389\n"
     ]
    },
    {
     "name": "stderr",
     "output_type": "stream",
     "text": [
      "100%|██████████████████████████████████████████████████████████████████████████████████| 10/10 [00:01<00:00,  8.30it/s]\n"
     ]
    },
    {
     "name": "stdout",
     "output_type": "stream",
     "text": [
      "epoch 216, loss: 0.83156, acc: 0.60737, val_loss: 1.02352, val_accuracy: 0.51399\n"
     ]
    },
    {
     "name": "stderr",
     "output_type": "stream",
     "text": [
      "100%|██████████████████████████████████████████████████████████████████████████████████| 10/10 [00:01<00:00,  8.32it/s]\n"
     ]
    },
    {
     "name": "stdout",
     "output_type": "stream",
     "text": [
      "epoch 217, loss: 0.83155, acc: 0.61151, val_loss: 1.02071, val_accuracy: 0.51448\n"
     ]
    },
    {
     "name": "stderr",
     "output_type": "stream",
     "text": [
      "100%|██████████████████████████████████████████████████████████████████████████████████| 10/10 [00:01<00:00,  8.08it/s]\n"
     ]
    },
    {
     "name": "stdout",
     "output_type": "stream",
     "text": [
      "epoch 218, loss: 0.82969, acc: 0.61024, val_loss: 1.02327, val_accuracy: 0.51220\n"
     ]
    },
    {
     "name": "stderr",
     "output_type": "stream",
     "text": [
      "100%|██████████████████████████████████████████████████████████████████████████████████| 10/10 [00:00<00:00, 10.20it/s]\n"
     ]
    },
    {
     "name": "stdout",
     "output_type": "stream",
     "text": [
      "[INFO] val_acc has been improved from 1.02071 to 1.02007. Saving Model!\n",
      "epoch 219, loss: 0.82975, acc: 0.61186, val_loss: 1.02007, val_accuracy: 0.51429\n"
     ]
    },
    {
     "name": "stderr",
     "output_type": "stream",
     "text": [
      "100%|██████████████████████████████████████████████████████████████████████████████████| 10/10 [00:01<00:00,  9.29it/s]\n"
     ]
    },
    {
     "name": "stdout",
     "output_type": "stream",
     "text": [
      "epoch 220, loss: 0.82757, acc: 0.61265, val_loss: 1.02239, val_accuracy: 0.51429\n"
     ]
    },
    {
     "name": "stderr",
     "output_type": "stream",
     "text": [
      "100%|██████████████████████████████████████████████████████████████████████████████████| 10/10 [00:01<00:00,  9.57it/s]\n"
     ]
    },
    {
     "name": "stdout",
     "output_type": "stream",
     "text": [
      "epoch 221, loss: 0.82736, acc: 0.61471, val_loss: 1.02082, val_accuracy: 0.51458\n"
     ]
    },
    {
     "name": "stderr",
     "output_type": "stream",
     "text": [
      "100%|██████████████████████████████████████████████████████████████████████████████████| 10/10 [00:01<00:00,  9.37it/s]\n"
     ]
    },
    {
     "name": "stdout",
     "output_type": "stream",
     "text": [
      "epoch 222, loss: 0.82596, acc: 0.61252, val_loss: 1.02087, val_accuracy: 0.51349\n"
     ]
    },
    {
     "name": "stderr",
     "output_type": "stream",
     "text": [
      "100%|██████████████████████████████████████████████████████████████████████████████████| 10/10 [00:01<00:00,  8.17it/s]\n"
     ]
    },
    {
     "name": "stdout",
     "output_type": "stream",
     "text": [
      "epoch 223, loss: 0.82568, acc: 0.61335, val_loss: 1.02193, val_accuracy: 0.51438\n"
     ]
    },
    {
     "name": "stderr",
     "output_type": "stream",
     "text": [
      "100%|██████████████████████████████████████████████████████████████████████████████████| 10/10 [00:01<00:00,  7.32it/s]\n"
     ]
    },
    {
     "name": "stdout",
     "output_type": "stream",
     "text": [
      "[INFO] val_acc has been improved from 1.02007 to 1.02000. Saving Model!\n",
      "epoch 224, loss: 0.82380, acc: 0.61514, val_loss: 1.02000, val_accuracy: 0.51518\n"
     ]
    },
    {
     "name": "stderr",
     "output_type": "stream",
     "text": [
      "100%|██████████████████████████████████████████████████████████████████████████████████| 10/10 [00:00<00:00, 10.05it/s]\n"
     ]
    },
    {
     "name": "stdout",
     "output_type": "stream",
     "text": [
      "epoch 225, loss: 0.82422, acc: 0.61321, val_loss: 1.02081, val_accuracy: 0.51518\n"
     ]
    },
    {
     "name": "stderr",
     "output_type": "stream",
     "text": [
      "100%|██████████████████████████████████████████████████████████████████████████████████| 10/10 [00:01<00:00,  9.59it/s]\n"
     ]
    },
    {
     "name": "stdout",
     "output_type": "stream",
     "text": [
      "[INFO] val_acc has been improved from 1.02000 to 1.01983. Saving Model!\n",
      "epoch 226, loss: 0.82301, acc: 0.61436, val_loss: 1.01983, val_accuracy: 0.51567\n"
     ]
    },
    {
     "name": "stderr",
     "output_type": "stream",
     "text": [
      "100%|██████████████████████████████████████████████████████████████████████████████████| 10/10 [00:01<00:00,  8.57it/s]\n"
     ]
    },
    {
     "name": "stdout",
     "output_type": "stream",
     "text": [
      "epoch 227, loss: 0.82277, acc: 0.61161, val_loss: 1.02097, val_accuracy: 0.51419\n"
     ]
    },
    {
     "name": "stderr",
     "output_type": "stream",
     "text": [
      "100%|██████████████████████████████████████████████████████████████████████████████████| 10/10 [00:01<00:00,  8.24it/s]\n"
     ]
    },
    {
     "name": "stdout",
     "output_type": "stream",
     "text": [
      "[INFO] val_acc has been improved from 1.01983 to 1.01929. Saving Model!\n",
      "epoch 228, loss: 0.82201, acc: 0.61514, val_loss: 1.01929, val_accuracy: 0.51696\n"
     ]
    },
    {
     "name": "stderr",
     "output_type": "stream",
     "text": [
      "100%|██████████████████████████████████████████████████████████████████████████████████| 10/10 [00:01<00:00,  7.12it/s]\n"
     ]
    },
    {
     "name": "stdout",
     "output_type": "stream",
     "text": [
      "epoch 229, loss: 0.82142, acc: 0.61272, val_loss: 1.01969, val_accuracy: 0.51567\n"
     ]
    },
    {
     "name": "stderr",
     "output_type": "stream",
     "text": [
      "100%|██████████████████████████████████████████████████████████████████████████████████| 10/10 [00:01<00:00,  8.15it/s]\n"
     ]
    },
    {
     "name": "stdout",
     "output_type": "stream",
     "text": [
      "epoch 230, loss: 0.82014, acc: 0.61601, val_loss: 1.02016, val_accuracy: 0.51677\n"
     ]
    },
    {
     "name": "stderr",
     "output_type": "stream",
     "text": [
      "100%|██████████████████████████████████████████████████████████████████████████████████| 10/10 [00:01<00:00,  7.78it/s]\n"
     ]
    },
    {
     "name": "stdout",
     "output_type": "stream",
     "text": [
      "epoch 231, loss: 0.81865, acc: 0.61337, val_loss: 1.01989, val_accuracy: 0.51647\n"
     ]
    },
    {
     "name": "stderr",
     "output_type": "stream",
     "text": [
      "100%|██████████████████████████████████████████████████████████████████████████████████| 10/10 [00:01<00:00,  8.45it/s]\n"
     ]
    },
    {
     "name": "stdout",
     "output_type": "stream",
     "text": [
      "epoch 232, loss: 0.81801, acc: 0.61680, val_loss: 1.01982, val_accuracy: 0.51925\n"
     ]
    },
    {
     "name": "stderr",
     "output_type": "stream",
     "text": [
      "100%|██████████████████████████████████████████████████████████████████████████████████| 10/10 [00:01<00:00,  8.28it/s]\n"
     ]
    },
    {
     "name": "stdout",
     "output_type": "stream",
     "text": [
      "[INFO] val_acc has been improved from 1.01929 to 1.01830. Saving Model!\n",
      "epoch 233, loss: 0.81654, acc: 0.61714, val_loss: 1.01830, val_accuracy: 0.51567\n"
     ]
    },
    {
     "name": "stderr",
     "output_type": "stream",
     "text": [
      "100%|██████████████████████████████████████████████████████████████████████████████████| 10/10 [00:01<00:00,  7.61it/s]\n"
     ]
    },
    {
     "name": "stdout",
     "output_type": "stream",
     "text": [
      "epoch 234, loss: 0.81510, acc: 0.61717, val_loss: 1.02124, val_accuracy: 0.51974\n"
     ]
    },
    {
     "name": "stderr",
     "output_type": "stream",
     "text": [
      "100%|██████████████████████████████████████████████████████████████████████████████████| 10/10 [00:01<00:00,  8.09it/s]\n"
     ]
    },
    {
     "name": "stdout",
     "output_type": "stream",
     "text": [
      "epoch 235, loss: 0.81508, acc: 0.61808, val_loss: 1.01860, val_accuracy: 0.51637\n"
     ]
    },
    {
     "name": "stderr",
     "output_type": "stream",
     "text": [
      "100%|██████████████████████████████████████████████████████████████████████████████████| 10/10 [00:01<00:00,  8.18it/s]\n"
     ]
    },
    {
     "name": "stdout",
     "output_type": "stream",
     "text": [
      "epoch 236, loss: 0.81293, acc: 0.61806, val_loss: 1.01894, val_accuracy: 0.52083\n"
     ]
    },
    {
     "name": "stderr",
     "output_type": "stream",
     "text": [
      "100%|██████████████████████████████████████████████████████████████████████████████████| 10/10 [00:01<00:00,  7.34it/s]\n"
     ]
    },
    {
     "name": "stdout",
     "output_type": "stream",
     "text": [
      "epoch 237, loss: 0.81247, acc: 0.61700, val_loss: 1.02055, val_accuracy: 0.51558\n"
     ]
    },
    {
     "name": "stderr",
     "output_type": "stream",
     "text": [
      "100%|██████████████████████████████████████████████████████████████████████████████████| 10/10 [00:01<00:00,  8.23it/s]\n"
     ]
    },
    {
     "name": "stdout",
     "output_type": "stream",
     "text": [
      "[INFO] val_acc has been improved from 1.01830 to 1.01771. Saving Model!\n",
      "epoch 238, loss: 0.81217, acc: 0.61863, val_loss: 1.01771, val_accuracy: 0.52222\n"
     ]
    },
    {
     "name": "stderr",
     "output_type": "stream",
     "text": [
      "100%|██████████████████████████████████████████████████████████████████████████████████| 10/10 [00:01<00:00,  7.63it/s]\n"
     ]
    },
    {
     "name": "stdout",
     "output_type": "stream",
     "text": [
      "epoch 239, loss: 0.81023, acc: 0.61622, val_loss: 1.02100, val_accuracy: 0.51994\n"
     ]
    },
    {
     "name": "stderr",
     "output_type": "stream",
     "text": [
      "100%|██████████████████████████████████████████████████████████████████████████████████| 10/10 [00:01<00:00,  8.25it/s]\n"
     ]
    },
    {
     "name": "stdout",
     "output_type": "stream",
     "text": [
      "epoch 240, loss: 0.81009, acc: 0.61746, val_loss: 1.01780, val_accuracy: 0.52292\n"
     ]
    },
    {
     "name": "stderr",
     "output_type": "stream",
     "text": [
      "100%|██████████████████████████████████████████████████████████████████████████████████| 10/10 [00:01<00:00,  7.55it/s]\n"
     ]
    },
    {
     "name": "stdout",
     "output_type": "stream",
     "text": [
      "epoch 241, loss: 0.80839, acc: 0.61668, val_loss: 1.01939, val_accuracy: 0.51895\n"
     ]
    },
    {
     "name": "stderr",
     "output_type": "stream",
     "text": [
      "100%|██████████████████████████████████████████████████████████████████████████████████| 10/10 [00:01<00:00,  8.20it/s]\n"
     ]
    },
    {
     "name": "stdout",
     "output_type": "stream",
     "text": [
      "epoch 242, loss: 0.80834, acc: 0.61853, val_loss: 1.01835, val_accuracy: 0.52361\n"
     ]
    },
    {
     "name": "stderr",
     "output_type": "stream",
     "text": [
      "100%|██████████████████████████████████████████████████████████████████████████████████| 10/10 [00:01<00:00,  8.24it/s]\n"
     ]
    },
    {
     "name": "stdout",
     "output_type": "stream",
     "text": [
      "epoch 243, loss: 0.80606, acc: 0.62113, val_loss: 1.01842, val_accuracy: 0.51865\n"
     ]
    },
    {
     "name": "stderr",
     "output_type": "stream",
     "text": [
      "100%|██████████████████████████████████████████████████████████████████████████████████| 10/10 [00:01<00:00,  8.32it/s]\n"
     ]
    },
    {
     "name": "stdout",
     "output_type": "stream",
     "text": [
      "epoch 244, loss: 0.80586, acc: 0.61873, val_loss: 1.01903, val_accuracy: 0.52500\n"
     ]
    },
    {
     "name": "stderr",
     "output_type": "stream",
     "text": [
      "100%|██████████████████████████████████████████████████████████████████████████████████| 10/10 [00:01<00:00,  8.25it/s]\n"
     ]
    },
    {
     "name": "stdout",
     "output_type": "stream",
     "text": [
      "[INFO] val_acc has been improved from 1.01771 to 1.01685. Saving Model!\n",
      "epoch 245, loss: 0.80490, acc: 0.62199, val_loss: 1.01685, val_accuracy: 0.52083\n"
     ]
    },
    {
     "name": "stderr",
     "output_type": "stream",
     "text": [
      "100%|██████████████████████████████████████████████████████████████████████████████████| 10/10 [00:01<00:00,  7.68it/s]\n"
     ]
    },
    {
     "name": "stdout",
     "output_type": "stream",
     "text": [
      "epoch 246, loss: 0.80434, acc: 0.61944, val_loss: 1.01941, val_accuracy: 0.52460\n"
     ]
    },
    {
     "name": "stderr",
     "output_type": "stream",
     "text": [
      "100%|██████████████████████████████████████████████████████████████████████████████████| 10/10 [00:01<00:00,  7.48it/s]\n"
     ]
    },
    {
     "name": "stdout",
     "output_type": "stream",
     "text": [
      "epoch 247, loss: 0.80324, acc: 0.62328, val_loss: 1.01745, val_accuracy: 0.52153\n"
     ]
    },
    {
     "name": "stderr",
     "output_type": "stream",
     "text": [
      "100%|██████████████████████████████████████████████████████████████████████████████████| 10/10 [00:01<00:00,  7.90it/s]\n"
     ]
    },
    {
     "name": "stdout",
     "output_type": "stream",
     "text": [
      "[INFO] val_acc has been improved from 1.01685 to 1.01656. Saving Model!\n",
      "epoch 248, loss: 0.80324, acc: 0.61963, val_loss: 1.01656, val_accuracy: 0.52669\n"
     ]
    },
    {
     "name": "stderr",
     "output_type": "stream",
     "text": [
      "100%|██████████████████████████████████████████████████████████████████████████████████| 10/10 [00:01<00:00,  8.95it/s]\n"
     ]
    },
    {
     "name": "stdout",
     "output_type": "stream",
     "text": [
      "epoch 249, loss: 0.80137, acc: 0.62512, val_loss: 1.01877, val_accuracy: 0.52361\n"
     ]
    },
    {
     "name": "stderr",
     "output_type": "stream",
     "text": [
      "100%|██████████████████████████████████████████████████████████████████████████████████| 10/10 [00:01<00:00,  8.13it/s]\n"
     ]
    },
    {
     "name": "stdout",
     "output_type": "stream",
     "text": [
      "epoch 250, loss: 0.80129, acc: 0.62099, val_loss: 1.01742, val_accuracy: 0.52490\n"
     ]
    },
    {
     "name": "stderr",
     "output_type": "stream",
     "text": [
      "100%|██████████████████████████████████████████████████████████████████████████████████| 10/10 [00:01<00:00,  8.22it/s]\n"
     ]
    },
    {
     "name": "stdout",
     "output_type": "stream",
     "text": [
      "epoch 251, loss: 0.79980, acc: 0.62336, val_loss: 1.01897, val_accuracy: 0.52401\n"
     ]
    },
    {
     "name": "stderr",
     "output_type": "stream",
     "text": [
      "100%|██████████████████████████████████████████████████████████████████████████████████| 10/10 [00:01<00:00,  8.22it/s]\n"
     ]
    },
    {
     "name": "stdout",
     "output_type": "stream",
     "text": [
      "epoch 252, loss: 0.79903, acc: 0.62138, val_loss: 1.01725, val_accuracy: 0.52629\n"
     ]
    },
    {
     "name": "stderr",
     "output_type": "stream",
     "text": [
      "100%|██████████████████████████████████████████████████████████████████████████████████| 10/10 [00:01<00:00,  8.24it/s]\n"
     ]
    },
    {
     "name": "stdout",
     "output_type": "stream",
     "text": [
      "epoch 253, loss: 0.79870, acc: 0.62230, val_loss: 1.01813, val_accuracy: 0.52312\n"
     ]
    },
    {
     "name": "stderr",
     "output_type": "stream",
     "text": [
      "100%|██████████████████████████████████████████████████████████████████████████████████| 10/10 [00:01<00:00,  7.99it/s]\n"
     ]
    },
    {
     "name": "stdout",
     "output_type": "stream",
     "text": [
      "epoch 254, loss: 0.79736, acc: 0.62218, val_loss: 1.01764, val_accuracy: 0.52540\n"
     ]
    },
    {
     "name": "stderr",
     "output_type": "stream",
     "text": [
      "100%|██████████████████████████████████████████████████████████████████████████████████| 10/10 [00:01<00:00,  7.43it/s]\n"
     ]
    },
    {
     "name": "stdout",
     "output_type": "stream",
     "text": [
      "epoch 255, loss: 0.79569, acc: 0.62739, val_loss: 1.01977, val_accuracy: 0.52490\n"
     ]
    },
    {
     "name": "stderr",
     "output_type": "stream",
     "text": [
      "100%|██████████████████████████████████████████████████████████████████████████████████| 10/10 [00:00<00:00, 10.11it/s]\n"
     ]
    },
    {
     "name": "stdout",
     "output_type": "stream",
     "text": [
      "epoch 256, loss: 0.79566, acc: 0.62357, val_loss: 1.01675, val_accuracy: 0.52599\n"
     ]
    },
    {
     "name": "stderr",
     "output_type": "stream",
     "text": [
      "100%|██████████████████████████████████████████████████████████████████████████████████| 10/10 [00:01<00:00,  8.90it/s]\n"
     ]
    },
    {
     "name": "stdout",
     "output_type": "stream",
     "text": [
      "epoch 257, loss: 0.79467, acc: 0.62491, val_loss: 1.01908, val_accuracy: 0.52500\n"
     ]
    },
    {
     "name": "stderr",
     "output_type": "stream",
     "text": [
      "100%|██████████████████████████████████████████████████████████████████████████████████| 10/10 [00:01<00:00,  9.14it/s]\n"
     ]
    },
    {
     "name": "stdout",
     "output_type": "stream",
     "text": [
      "[INFO] val_acc has been improved from 1.01656 to 1.01577. Saving Model!\n",
      "epoch 258, loss: 0.79342, acc: 0.62370, val_loss: 1.01577, val_accuracy: 0.52540\n"
     ]
    },
    {
     "name": "stderr",
     "output_type": "stream",
     "text": [
      "100%|██████████████████████████████████████████████████████████████████████████████████| 10/10 [00:01<00:00,  8.75it/s]\n"
     ]
    },
    {
     "name": "stdout",
     "output_type": "stream",
     "text": [
      "epoch 259, loss: 0.79171, acc: 0.62791, val_loss: 1.01843, val_accuracy: 0.52550\n"
     ]
    },
    {
     "name": "stderr",
     "output_type": "stream",
     "text": [
      "100%|██████████████████████████████████████████████████████████████████████████████████| 10/10 [00:01<00:00,  7.62it/s]\n"
     ]
    },
    {
     "name": "stdout",
     "output_type": "stream",
     "text": [
      "epoch 260, loss: 0.79106, acc: 0.62567, val_loss: 1.01829, val_accuracy: 0.52569\n"
     ]
    },
    {
     "name": "stderr",
     "output_type": "stream",
     "text": [
      "100%|██████████████████████████████████████████████████████████████████████████████████| 10/10 [00:01<00:00,  8.35it/s]\n"
     ]
    },
    {
     "name": "stdout",
     "output_type": "stream",
     "text": [
      "epoch 261, loss: 0.79004, acc: 0.62802, val_loss: 1.01951, val_accuracy: 0.52629\n"
     ]
    },
    {
     "name": "stderr",
     "output_type": "stream",
     "text": [
      "100%|██████████████████████████████████████████████████████████████████████████████████| 10/10 [00:01<00:00,  7.59it/s]\n"
     ]
    },
    {
     "name": "stdout",
     "output_type": "stream",
     "text": [
      "epoch 262, loss: 0.78937, acc: 0.62656, val_loss: 1.01673, val_accuracy: 0.52698\n"
     ]
    },
    {
     "name": "stderr",
     "output_type": "stream",
     "text": [
      "100%|██████████████████████████████████████████████████████████████████████████████████| 10/10 [00:01<00:00,  8.22it/s]\n"
     ]
    },
    {
     "name": "stdout",
     "output_type": "stream",
     "text": [
      "epoch 263, loss: 0.78862, acc: 0.63051, val_loss: 1.02026, val_accuracy: 0.52560\n"
     ]
    },
    {
     "name": "stderr",
     "output_type": "stream",
     "text": [
      "100%|██████████████████████████████████████████████████████████████████████████████████| 10/10 [00:01<00:00,  8.08it/s]\n"
     ]
    },
    {
     "name": "stdout",
     "output_type": "stream",
     "text": [
      "epoch 264, loss: 0.78778, acc: 0.62782, val_loss: 1.01639, val_accuracy: 0.52728\n"
     ]
    },
    {
     "name": "stderr",
     "output_type": "stream",
     "text": [
      "100%|██████████████████████████████████████████████████████████████████████████████████| 10/10 [00:01<00:00,  7.35it/s]\n"
     ]
    },
    {
     "name": "stdout",
     "output_type": "stream",
     "text": [
      "epoch 265, loss: 0.78677, acc: 0.63128, val_loss: 1.01964, val_accuracy: 0.52639\n"
     ]
    },
    {
     "name": "stderr",
     "output_type": "stream",
     "text": [
      "100%|██████████████████████████████████████████████████████████████████████████████████| 10/10 [00:01<00:00,  8.08it/s]\n"
     ]
    },
    {
     "name": "stdout",
     "output_type": "stream",
     "text": [
      "epoch 266, loss: 0.78660, acc: 0.62949, val_loss: 1.01609, val_accuracy: 0.52788\n"
     ]
    },
    {
     "name": "stderr",
     "output_type": "stream",
     "text": [
      "100%|██████████████████████████████████████████████████████████████████████████████████| 10/10 [00:01<00:00,  7.57it/s]\n"
     ]
    },
    {
     "name": "stdout",
     "output_type": "stream",
     "text": [
      "epoch 267, loss: 0.78431, acc: 0.63165, val_loss: 1.02064, val_accuracy: 0.52679\n"
     ]
    },
    {
     "name": "stderr",
     "output_type": "stream",
     "text": [
      "100%|██████████████████████████████████████████████████████████████████████████████████| 10/10 [00:01<00:00,  8.33it/s]\n"
     ]
    },
    {
     "name": "stdout",
     "output_type": "stream",
     "text": [
      "epoch 268, loss: 0.78382, acc: 0.63120, val_loss: 1.01612, val_accuracy: 0.52937\n"
     ]
    },
    {
     "name": "stderr",
     "output_type": "stream",
     "text": [
      "100%|██████████████████████████████████████████████████████████████████████████████████| 10/10 [00:01<00:00,  7.65it/s]\n"
     ]
    },
    {
     "name": "stdout",
     "output_type": "stream",
     "text": [
      "epoch 269, loss: 0.78282, acc: 0.63206, val_loss: 1.01914, val_accuracy: 0.52867\n"
     ]
    },
    {
     "name": "stderr",
     "output_type": "stream",
     "text": [
      "100%|██████████████████████████████████████████████████████████████████████████████████| 10/10 [00:01<00:00,  8.25it/s]\n"
     ]
    },
    {
     "name": "stdout",
     "output_type": "stream",
     "text": [
      "[INFO] val_acc has been improved from 1.01577 to 1.01568. Saving Model!\n",
      "epoch 270, loss: 0.78178, acc: 0.63348, val_loss: 1.01568, val_accuracy: 0.52996\n"
     ]
    },
    {
     "name": "stderr",
     "output_type": "stream",
     "text": [
      "100%|██████████████████████████████████████████████████████████████████████████████████| 10/10 [00:01<00:00,  8.23it/s]\n"
     ]
    },
    {
     "name": "stdout",
     "output_type": "stream",
     "text": [
      "epoch 271, loss: 0.78126, acc: 0.63321, val_loss: 1.01721, val_accuracy: 0.52976\n"
     ]
    },
    {
     "name": "stderr",
     "output_type": "stream",
     "text": [
      "100%|██████████████████████████████████████████████████████████████████████████████████| 10/10 [00:01<00:00,  8.18it/s]\n"
     ]
    },
    {
     "name": "stdout",
     "output_type": "stream",
     "text": [
      "epoch 272, loss: 0.77932, acc: 0.63470, val_loss: 1.01691, val_accuracy: 0.53006\n"
     ]
    },
    {
     "name": "stderr",
     "output_type": "stream",
     "text": [
      "100%|██████████████████████████████████████████████████████████████████████████████████| 10/10 [00:01<00:00,  8.16it/s]\n"
     ]
    },
    {
     "name": "stdout",
     "output_type": "stream",
     "text": [
      "epoch 273, loss: 0.77934, acc: 0.63459, val_loss: 1.01731, val_accuracy: 0.53026\n"
     ]
    },
    {
     "name": "stderr",
     "output_type": "stream",
     "text": [
      "100%|██████████████████████████████████████████████████████████████████████████████████| 10/10 [00:01<00:00,  8.08it/s]\n"
     ]
    },
    {
     "name": "stdout",
     "output_type": "stream",
     "text": [
      "[INFO] val_acc has been improved from 1.01568 to 1.01480. Saving Model!\n",
      "epoch 274, loss: 0.77803, acc: 0.63528, val_loss: 1.01480, val_accuracy: 0.53036\n"
     ]
    },
    {
     "name": "stderr",
     "output_type": "stream",
     "text": [
      "100%|██████████████████████████████████████████████████████████████████████████████████| 10/10 [00:01<00:00,  8.35it/s]\n"
     ]
    },
    {
     "name": "stdout",
     "output_type": "stream",
     "text": [
      "epoch 275, loss: 0.77700, acc: 0.63784, val_loss: 1.01940, val_accuracy: 0.53046\n"
     ]
    },
    {
     "name": "stderr",
     "output_type": "stream",
     "text": [
      "100%|██████████████████████████████████████████████████████████████████████████████████| 10/10 [00:01<00:00,  7.58it/s]\n"
     ]
    },
    {
     "name": "stdout",
     "output_type": "stream",
     "text": [
      "[INFO] val_acc has been improved from 1.01480 to 1.01454. Saving Model!\n",
      "epoch 276, loss: 0.77729, acc: 0.63546, val_loss: 1.01454, val_accuracy: 0.53095\n"
     ]
    },
    {
     "name": "stderr",
     "output_type": "stream",
     "text": [
      "100%|██████████████████████████████████████████████████████████████████████████████████| 10/10 [00:01<00:00,  7.62it/s]\n"
     ]
    },
    {
     "name": "stdout",
     "output_type": "stream",
     "text": [
      "epoch 277, loss: 0.77543, acc: 0.63976, val_loss: 1.01956, val_accuracy: 0.53155\n"
     ]
    },
    {
     "name": "stderr",
     "output_type": "stream",
     "text": [
      "100%|██████████████████████████████████████████████████████████████████████████████████| 10/10 [00:01<00:00,  8.33it/s]\n"
     ]
    },
    {
     "name": "stdout",
     "output_type": "stream",
     "text": [
      "epoch 278, loss: 0.77514, acc: 0.63631, val_loss: 1.01672, val_accuracy: 0.53244\n"
     ]
    },
    {
     "name": "stderr",
     "output_type": "stream",
     "text": [
      "100%|██████████████████████████████████████████████████████████████████████████████████| 10/10 [00:01<00:00,  8.19it/s]\n"
     ]
    },
    {
     "name": "stdout",
     "output_type": "stream",
     "text": [
      "epoch 279, loss: 0.77374, acc: 0.64332, val_loss: 1.01959, val_accuracy: 0.53234\n"
     ]
    },
    {
     "name": "stderr",
     "output_type": "stream",
     "text": [
      "100%|██████████████████████████████████████████████████████████████████████████████████| 10/10 [00:01<00:00,  8.19it/s]\n"
     ]
    },
    {
     "name": "stdout",
     "output_type": "stream",
     "text": [
      "epoch 280, loss: 0.77450, acc: 0.63744, val_loss: 1.01585, val_accuracy: 0.53185\n"
     ]
    },
    {
     "name": "stderr",
     "output_type": "stream",
     "text": [
      "100%|██████████████████████████████████████████████████████████████████████████████████| 10/10 [00:01<00:00,  8.30it/s]\n"
     ]
    },
    {
     "name": "stdout",
     "output_type": "stream",
     "text": [
      "epoch 281, loss: 0.77135, acc: 0.64376, val_loss: 1.01985, val_accuracy: 0.53244\n"
     ]
    },
    {
     "name": "stderr",
     "output_type": "stream",
     "text": [
      "100%|██████████████████████████████████████████████████████████████████████████████████| 10/10 [00:01<00:00,  7.35it/s]\n"
     ]
    },
    {
     "name": "stdout",
     "output_type": "stream",
     "text": [
      "epoch 282, loss: 0.77273, acc: 0.63719, val_loss: 1.01905, val_accuracy: 0.53323\n"
     ]
    },
    {
     "name": "stderr",
     "output_type": "stream",
     "text": [
      "100%|██████████████████████████████████████████████████████████████████████████████████| 10/10 [00:01<00:00,  9.47it/s]\n"
     ]
    },
    {
     "name": "stdout",
     "output_type": "stream",
     "text": [
      "epoch 283, loss: 0.77046, acc: 0.64512, val_loss: 1.01744, val_accuracy: 0.53284\n"
     ]
    },
    {
     "name": "stderr",
     "output_type": "stream",
     "text": [
      "100%|██████████████████████████████████████████████████████████████████████████████████| 10/10 [00:01<00:00,  8.36it/s]\n"
     ]
    },
    {
     "name": "stdout",
     "output_type": "stream",
     "text": [
      "epoch 284, loss: 0.77140, acc: 0.63913, val_loss: 1.02126, val_accuracy: 0.53462\n"
     ]
    },
    {
     "name": "stderr",
     "output_type": "stream",
     "text": [
      "100%|██████████████████████████████████████████████████████████████████████████████████| 10/10 [00:01<00:00,  7.47it/s]\n"
     ]
    },
    {
     "name": "stdout",
     "output_type": "stream",
     "text": [
      "epoch 285, loss: 0.76977, acc: 0.64555, val_loss: 1.01551, val_accuracy: 0.53363\n"
     ]
    },
    {
     "name": "stderr",
     "output_type": "stream",
     "text": [
      "100%|██████████████████████████████████████████████████████████████████████████████████| 10/10 [00:01<00:00,  7.34it/s]\n"
     ]
    },
    {
     "name": "stdout",
     "output_type": "stream",
     "text": [
      "epoch 286, loss: 0.76899, acc: 0.63882, val_loss: 1.02044, val_accuracy: 0.53522\n"
     ]
    },
    {
     "name": "stderr",
     "output_type": "stream",
     "text": [
      "100%|██████████████████████████████████████████████████████████████████████████████████| 10/10 [00:01<00:00,  8.19it/s]\n"
     ]
    },
    {
     "name": "stdout",
     "output_type": "stream",
     "text": [
      "epoch 287, loss: 0.76792, acc: 0.64634, val_loss: 1.01817, val_accuracy: 0.53482\n"
     ]
    },
    {
     "name": "stderr",
     "output_type": "stream",
     "text": [
      "100%|██████████████████████████████████████████████████████████████████████████████████| 10/10 [00:01<00:00,  8.35it/s]\n"
     ]
    },
    {
     "name": "stdout",
     "output_type": "stream",
     "text": [
      "epoch 288, loss: 0.76672, acc: 0.64062, val_loss: 1.01893, val_accuracy: 0.53571\n"
     ]
    },
    {
     "name": "stderr",
     "output_type": "stream",
     "text": [
      "100%|██████████████████████████████████████████████████████████████████████████████████| 10/10 [00:01<00:00,  8.34it/s]\n"
     ]
    },
    {
     "name": "stdout",
     "output_type": "stream",
     "text": [
      "epoch 289, loss: 0.76533, acc: 0.64830, val_loss: 1.01905, val_accuracy: 0.53522\n"
     ]
    },
    {
     "name": "stderr",
     "output_type": "stream",
     "text": [
      "100%|██████████████████████████████████████████████████████████████████████████████████| 10/10 [00:01<00:00,  7.55it/s]\n"
     ]
    },
    {
     "name": "stdout",
     "output_type": "stream",
     "text": [
      "epoch 290, loss: 0.76489, acc: 0.64099, val_loss: 1.01803, val_accuracy: 0.53661\n"
     ]
    },
    {
     "name": "stderr",
     "output_type": "stream",
     "text": [
      "100%|██████████████████████████████████████████████████████████████████████████████████| 10/10 [00:01<00:00,  8.31it/s]\n"
     ]
    },
    {
     "name": "stdout",
     "output_type": "stream",
     "text": [
      "epoch 291, loss: 0.76348, acc: 0.64948, val_loss: 1.01862, val_accuracy: 0.53571\n"
     ]
    },
    {
     "name": "stderr",
     "output_type": "stream",
     "text": [
      "100%|██████████████████████████████████████████████████████████████████████████████████| 10/10 [00:01<00:00,  8.10it/s]\n"
     ]
    },
    {
     "name": "stdout",
     "output_type": "stream",
     "text": [
      "epoch 292, loss: 0.76267, acc: 0.64162, val_loss: 1.02028, val_accuracy: 0.53621\n"
     ]
    },
    {
     "name": "stderr",
     "output_type": "stream",
     "text": [
      "100%|██████████████████████████████████████████████████████████████████████████████████| 10/10 [00:01<00:00,  7.41it/s]\n"
     ]
    },
    {
     "name": "stdout",
     "output_type": "stream",
     "text": [
      "epoch 293, loss: 0.76103, acc: 0.65193, val_loss: 1.01796, val_accuracy: 0.53502\n"
     ]
    },
    {
     "name": "stderr",
     "output_type": "stream",
     "text": [
      "100%|██████████████████████████████████████████████████████████████████████████████████| 10/10 [00:01<00:00,  8.11it/s]\n"
     ]
    },
    {
     "name": "stdout",
     "output_type": "stream",
     "text": [
      "epoch 294, loss: 0.76220, acc: 0.64205, val_loss: 1.02041, val_accuracy: 0.53730\n"
     ]
    },
    {
     "name": "stderr",
     "output_type": "stream",
     "text": [
      "100%|██████████████████████████████████████████████████████████████████████████████████| 10/10 [00:01<00:00,  7.53it/s]\n"
     ]
    },
    {
     "name": "stdout",
     "output_type": "stream",
     "text": [
      "epoch 295, loss: 0.75990, acc: 0.65126, val_loss: 1.01550, val_accuracy: 0.53552\n"
     ]
    },
    {
     "name": "stderr",
     "output_type": "stream",
     "text": [
      "100%|██████████████████████████████████████████████████████████████████████████████████| 10/10 [00:01<00:00,  8.26it/s]\n"
     ]
    },
    {
     "name": "stdout",
     "output_type": "stream",
     "text": [
      "epoch 296, loss: 0.75902, acc: 0.64342, val_loss: 1.02116, val_accuracy: 0.53750\n"
     ]
    },
    {
     "name": "stderr",
     "output_type": "stream",
     "text": [
      "100%|██████████████████████████████████████████████████████████████████████████████████| 10/10 [00:01<00:00,  7.60it/s]\n"
     ]
    },
    {
     "name": "stdout",
     "output_type": "stream",
     "text": [
      "epoch 297, loss: 0.75835, acc: 0.65134, val_loss: 1.01717, val_accuracy: 0.53690\n"
     ]
    },
    {
     "name": "stderr",
     "output_type": "stream",
     "text": [
      "100%|██████████████████████████████████████████████████████████████████████████████████| 10/10 [00:00<00:00, 10.15it/s]\n"
     ]
    },
    {
     "name": "stdout",
     "output_type": "stream",
     "text": [
      "epoch 298, loss: 0.75723, acc: 0.64432, val_loss: 1.01909, val_accuracy: 0.53968\n"
     ]
    },
    {
     "name": "stderr",
     "output_type": "stream",
     "text": [
      "100%|██████████████████████████████████████████████████████████████████████████████████| 10/10 [00:00<00:00, 10.18it/s]\n"
     ]
    },
    {
     "name": "stdout",
     "output_type": "stream",
     "text": [
      "epoch 299, loss: 0.75612, acc: 0.65158, val_loss: 1.01687, val_accuracy: 0.53899\n"
     ]
    },
    {
     "name": "stderr",
     "output_type": "stream",
     "text": [
      "100%|██████████████████████████████████████████████████████████████████████████████████| 10/10 [00:00<00:00, 10.30it/s]\n"
     ]
    },
    {
     "name": "stdout",
     "output_type": "stream",
     "text": [
      "epoch 300, loss: 0.75511, acc: 0.64651, val_loss: 1.02194, val_accuracy: 0.53998\n"
     ]
    },
    {
     "name": "stderr",
     "output_type": "stream",
     "text": [
      "100%|██████████████████████████████████████████████████████████████████████████████████| 10/10 [00:01<00:00,  9.79it/s]\n"
     ]
    },
    {
     "name": "stdout",
     "output_type": "stream",
     "text": [
      "epoch 301, loss: 0.75471, acc: 0.65301, val_loss: 1.01778, val_accuracy: 0.54008\n"
     ]
    },
    {
     "name": "stderr",
     "output_type": "stream",
     "text": [
      "100%|██████████████████████████████████████████████████████████████████████████████████| 10/10 [00:01<00:00,  9.02it/s]\n"
     ]
    },
    {
     "name": "stdout",
     "output_type": "stream",
     "text": [
      "epoch 302, loss: 0.75311, acc: 0.64827, val_loss: 1.02214, val_accuracy: 0.54097\n"
     ]
    },
    {
     "name": "stderr",
     "output_type": "stream",
     "text": [
      "100%|██████████████████████████████████████████████████████████████████████████████████| 10/10 [00:01<00:00,  8.17it/s]\n"
     ]
    },
    {
     "name": "stdout",
     "output_type": "stream",
     "text": [
      "epoch 303, loss: 0.75312, acc: 0.65438, val_loss: 1.01716, val_accuracy: 0.54038\n"
     ]
    },
    {
     "name": "stderr",
     "output_type": "stream",
     "text": [
      "100%|██████████████████████████████████████████████████████████████████████████████████| 10/10 [00:01<00:00,  7.63it/s]\n"
     ]
    },
    {
     "name": "stdout",
     "output_type": "stream",
     "text": [
      "epoch 304, loss: 0.75153, acc: 0.64759, val_loss: 1.02232, val_accuracy: 0.54206\n"
     ]
    },
    {
     "name": "stderr",
     "output_type": "stream",
     "text": [
      "100%|██████████████████████████████████████████████████████████████████████████████████| 10/10 [00:01<00:00,  8.98it/s]\n"
     ]
    },
    {
     "name": "stdout",
     "output_type": "stream",
     "text": [
      "epoch 305, loss: 0.75212, acc: 0.65553, val_loss: 1.02037, val_accuracy: 0.54206\n"
     ]
    },
    {
     "name": "stderr",
     "output_type": "stream",
     "text": [
      "100%|██████████████████████████████████████████████████████████████████████████████████| 10/10 [00:00<00:00, 10.17it/s]\n"
     ]
    },
    {
     "name": "stdout",
     "output_type": "stream",
     "text": [
      "epoch 306, loss: 0.74943, acc: 0.64851, val_loss: 1.01915, val_accuracy: 0.54335\n"
     ]
    },
    {
     "name": "stderr",
     "output_type": "stream",
     "text": [
      "100%|██████████████████████████████████████████████████████████████████████████████████| 10/10 [00:01<00:00,  9.88it/s]\n"
     ]
    },
    {
     "name": "stdout",
     "output_type": "stream",
     "text": [
      "epoch 307, loss: 0.75047, acc: 0.65459, val_loss: 1.02082, val_accuracy: 0.54415\n"
     ]
    },
    {
     "name": "stderr",
     "output_type": "stream",
     "text": [
      "100%|██████████████████████████████████████████████████████████████████████████████████| 10/10 [00:01<00:00,  9.27it/s]\n"
     ]
    },
    {
     "name": "stdout",
     "output_type": "stream",
     "text": [
      "epoch 308, loss: 0.74744, acc: 0.64918, val_loss: 1.01847, val_accuracy: 0.54306\n"
     ]
    },
    {
     "name": "stderr",
     "output_type": "stream",
     "text": [
      "100%|██████████████████████████████████████████████████████████████████████████████████| 10/10 [00:01<00:00,  8.99it/s]\n"
     ]
    },
    {
     "name": "stdout",
     "output_type": "stream",
     "text": [
      "epoch 309, loss: 0.74780, acc: 0.65599, val_loss: 1.02317, val_accuracy: 0.54554\n"
     ]
    },
    {
     "name": "stderr",
     "output_type": "stream",
     "text": [
      "100%|██████████████████████████████████████████████████████████████████████████████████| 10/10 [00:01<00:00,  8.17it/s]\n"
     ]
    },
    {
     "name": "stdout",
     "output_type": "stream",
     "text": [
      "epoch 310, loss: 0.74654, acc: 0.65034, val_loss: 1.01731, val_accuracy: 0.54395\n"
     ]
    },
    {
     "name": "stderr",
     "output_type": "stream",
     "text": [
      "100%|██████████████████████████████████████████████████████████████████████████████████| 10/10 [00:01<00:00,  7.79it/s]\n"
     ]
    },
    {
     "name": "stdout",
     "output_type": "stream",
     "text": [
      "epoch 311, loss: 0.74623, acc: 0.65720, val_loss: 1.02281, val_accuracy: 0.54534\n"
     ]
    },
    {
     "name": "stderr",
     "output_type": "stream",
     "text": [
      "100%|██████████████████████████████████████████████████████████████████████████████████| 10/10 [00:01<00:00,  7.82it/s]\n"
     ]
    },
    {
     "name": "stdout",
     "output_type": "stream",
     "text": [
      "epoch 312, loss: 0.74373, acc: 0.65140, val_loss: 1.01791, val_accuracy: 0.54613\n"
     ]
    },
    {
     "name": "stderr",
     "output_type": "stream",
     "text": [
      "100%|██████████████████████████████████████████████████████████████████████████████████| 10/10 [00:01<00:00,  9.25it/s]\n"
     ]
    },
    {
     "name": "stdout",
     "output_type": "stream",
     "text": [
      "epoch 313, loss: 0.74544, acc: 0.65778, val_loss: 1.02515, val_accuracy: 0.54692\n"
     ]
    },
    {
     "name": "stderr",
     "output_type": "stream",
     "text": [
      "100%|██████████████████████████████████████████████████████████████████████████████████| 10/10 [00:01<00:00,  9.67it/s]\n"
     ]
    },
    {
     "name": "stdout",
     "output_type": "stream",
     "text": [
      "epoch 314, loss: 0.74219, acc: 0.65293, val_loss: 1.01674, val_accuracy: 0.54494\n"
     ]
    },
    {
     "name": "stderr",
     "output_type": "stream",
     "text": [
      "100%|██████████████████████████████████████████████████████████████████████████████████| 10/10 [00:01<00:00,  9.29it/s]\n"
     ]
    },
    {
     "name": "stdout",
     "output_type": "stream",
     "text": [
      "epoch 315, loss: 0.74325, acc: 0.65833, val_loss: 1.02495, val_accuracy: 0.54712\n"
     ]
    },
    {
     "name": "stderr",
     "output_type": "stream",
     "text": [
      "100%|██████████████████████████████████████████████████████████████████████████████████| 10/10 [00:01<00:00,  9.72it/s]\n"
     ]
    },
    {
     "name": "stdout",
     "output_type": "stream",
     "text": [
      "epoch 316, loss: 0.74093, acc: 0.65319, val_loss: 1.01763, val_accuracy: 0.54444\n"
     ]
    },
    {
     "name": "stderr",
     "output_type": "stream",
     "text": [
      "100%|██████████████████████████████████████████████████████████████████████████████████| 10/10 [00:00<00:00, 10.34it/s]\n"
     ]
    },
    {
     "name": "stdout",
     "output_type": "stream",
     "text": [
      "epoch 317, loss: 0.74140, acc: 0.65873, val_loss: 1.02487, val_accuracy: 0.54752\n"
     ]
    },
    {
     "name": "stderr",
     "output_type": "stream",
     "text": [
      "100%|██████████████████████████████████████████████████████████████████████████████████| 10/10 [00:01<00:00,  9.02it/s]\n"
     ]
    },
    {
     "name": "stdout",
     "output_type": "stream",
     "text": [
      "epoch 318, loss: 0.73871, acc: 0.65568, val_loss: 1.01814, val_accuracy: 0.54474\n"
     ]
    },
    {
     "name": "stderr",
     "output_type": "stream",
     "text": [
      "100%|██████████████████████████████████████████████████████████████████████████████████| 10/10 [00:01<00:00,  8.37it/s]\n"
     ]
    },
    {
     "name": "stdout",
     "output_type": "stream",
     "text": [
      "epoch 319, loss: 0.73998, acc: 0.66069, val_loss: 1.02505, val_accuracy: 0.54742\n"
     ]
    },
    {
     "name": "stderr",
     "output_type": "stream",
     "text": [
      "100%|██████████████████████████████████████████████████████████████████████████████████| 10/10 [00:01<00:00,  7.83it/s]\n"
     ]
    },
    {
     "name": "stdout",
     "output_type": "stream",
     "text": [
      "epoch 320, loss: 0.73711, acc: 0.65741, val_loss: 1.01998, val_accuracy: 0.54603\n"
     ]
    },
    {
     "name": "stderr",
     "output_type": "stream",
     "text": [
      "100%|██████████████████████████████████████████████████████████████████████████████████| 10/10 [00:01<00:00,  9.08it/s]\n"
     ]
    },
    {
     "name": "stdout",
     "output_type": "stream",
     "text": [
      "epoch 321, loss: 0.73776, acc: 0.66084, val_loss: 1.02341, val_accuracy: 0.54762\n"
     ]
    },
    {
     "name": "stderr",
     "output_type": "stream",
     "text": [
      "100%|██████████████████████████████████████████████████████████████████████████████████| 10/10 [00:00<00:00, 10.05it/s]\n"
     ]
    },
    {
     "name": "stdout",
     "output_type": "stream",
     "text": [
      "epoch 322, loss: 0.73508, acc: 0.65839, val_loss: 1.02216, val_accuracy: 0.54524\n"
     ]
    },
    {
     "name": "stderr",
     "output_type": "stream",
     "text": [
      "100%|██████████████████████████████████████████████████████████████████████████████████| 10/10 [00:01<00:00,  9.04it/s]\n"
     ]
    },
    {
     "name": "stdout",
     "output_type": "stream",
     "text": [
      "epoch 323, loss: 0.73649, acc: 0.66074, val_loss: 1.02485, val_accuracy: 0.54812\n"
     ]
    },
    {
     "name": "stderr",
     "output_type": "stream",
     "text": [
      "100%|██████████████████████████████████████████████████████████████████████████████████| 10/10 [00:01<00:00,  9.19it/s]\n"
     ]
    },
    {
     "name": "stdout",
     "output_type": "stream",
     "text": [
      "epoch 324, loss: 0.73322, acc: 0.65898, val_loss: 1.02089, val_accuracy: 0.54554\n"
     ]
    },
    {
     "name": "stderr",
     "output_type": "stream",
     "text": [
      "100%|██████████████████████████████████████████████████████████████████████████████████| 10/10 [00:01<00:00,  8.31it/s]\n"
     ]
    },
    {
     "name": "stdout",
     "output_type": "stream",
     "text": [
      "epoch 325, loss: 0.73643, acc: 0.65940, val_loss: 1.02535, val_accuracy: 0.54802\n"
     ]
    },
    {
     "name": "stderr",
     "output_type": "stream",
     "text": [
      "100%|██████████████████████████████████████████████████████████████████████████████████| 10/10 [00:01<00:00,  7.61it/s]\n"
     ]
    },
    {
     "name": "stdout",
     "output_type": "stream",
     "text": [
      "epoch 326, loss: 0.73042, acc: 0.66124, val_loss: 1.02231, val_accuracy: 0.54593\n"
     ]
    },
    {
     "name": "stderr",
     "output_type": "stream",
     "text": [
      "100%|██████████████████████████████████████████████████████████████████████████████████| 10/10 [00:01<00:00,  8.75it/s]\n"
     ]
    },
    {
     "name": "stdout",
     "output_type": "stream",
     "text": [
      "epoch 327, loss: 0.73584, acc: 0.65603, val_loss: 1.02446, val_accuracy: 0.54881\n"
     ]
    },
    {
     "name": "stderr",
     "output_type": "stream",
     "text": [
      "100%|██████████████████████████████████████████████████████████████████████████████████| 10/10 [00:01<00:00,  9.11it/s]\n"
     ]
    },
    {
     "name": "stdout",
     "output_type": "stream",
     "text": [
      "epoch 328, loss: 0.73021, acc: 0.66134, val_loss: 1.02318, val_accuracy: 0.54593\n"
     ]
    },
    {
     "name": "stderr",
     "output_type": "stream",
     "text": [
      "100%|██████████████████████████████████████████████████████████████████████████████████| 10/10 [00:01<00:00,  8.16it/s]\n"
     ]
    },
    {
     "name": "stdout",
     "output_type": "stream",
     "text": [
      "epoch 329, loss: 0.73478, acc: 0.65810, val_loss: 1.02444, val_accuracy: 0.54802\n"
     ]
    },
    {
     "name": "stderr",
     "output_type": "stream",
     "text": [
      "100%|██████████████████████████████████████████████████████████████████████████████████| 10/10 [00:01<00:00,  9.33it/s]\n"
     ]
    },
    {
     "name": "stdout",
     "output_type": "stream",
     "text": [
      "epoch 330, loss: 0.72958, acc: 0.66146, val_loss: 1.02287, val_accuracy: 0.54643\n"
     ]
    },
    {
     "name": "stderr",
     "output_type": "stream",
     "text": [
      "100%|██████████████████████████████████████████████████████████████████████████████████| 10/10 [00:01<00:00,  8.26it/s]\n"
     ]
    },
    {
     "name": "stdout",
     "output_type": "stream",
     "text": [
      "epoch 331, loss: 0.73370, acc: 0.65621, val_loss: 1.02459, val_accuracy: 0.55060\n"
     ]
    },
    {
     "name": "stderr",
     "output_type": "stream",
     "text": [
      "100%|██████████████████████████████████████████████████████████████████████████████████| 10/10 [00:01<00:00,  7.85it/s]\n"
     ]
    },
    {
     "name": "stdout",
     "output_type": "stream",
     "text": [
      "epoch 332, loss: 0.72840, acc: 0.66057, val_loss: 1.02473, val_accuracy: 0.54643\n"
     ]
    },
    {
     "name": "stderr",
     "output_type": "stream",
     "text": [
      "100%|██████████████████████████████████████████████████████████████████████████████████| 10/10 [00:01<00:00,  9.19it/s]\n"
     ]
    },
    {
     "name": "stdout",
     "output_type": "stream",
     "text": [
      "epoch 333, loss: 0.73223, acc: 0.65821, val_loss: 1.02284, val_accuracy: 0.55040\n"
     ]
    },
    {
     "name": "stderr",
     "output_type": "stream",
     "text": [
      "100%|██████████████████████████████████████████████████████████████████████████████████| 10/10 [00:01<00:00,  8.11it/s]\n"
     ]
    },
    {
     "name": "stdout",
     "output_type": "stream",
     "text": [
      "epoch 334, loss: 0.72665, acc: 0.66182, val_loss: 1.02448, val_accuracy: 0.54831\n"
     ]
    },
    {
     "name": "stderr",
     "output_type": "stream",
     "text": [
      "100%|██████████████████████████████████████████████████████████████████████████████████| 10/10 [00:01<00:00,  8.55it/s]\n"
     ]
    },
    {
     "name": "stdout",
     "output_type": "stream",
     "text": [
      "epoch 335, loss: 0.72817, acc: 0.66091, val_loss: 1.02446, val_accuracy: 0.55169\n"
     ]
    },
    {
     "name": "stderr",
     "output_type": "stream",
     "text": [
      "100%|██████████████████████████████████████████████████████████████████████████████████| 10/10 [00:01<00:00,  7.48it/s]\n"
     ]
    },
    {
     "name": "stdout",
     "output_type": "stream",
     "text": [
      "epoch 336, loss: 0.72541, acc: 0.66353, val_loss: 1.02461, val_accuracy: 0.55099\n"
     ]
    },
    {
     "name": "stderr",
     "output_type": "stream",
     "text": [
      "100%|██████████████████████████████████████████████████████████████████████████████████| 10/10 [00:00<00:00, 10.13it/s]\n"
     ]
    },
    {
     "name": "stdout",
     "output_type": "stream",
     "text": [
      "epoch 337, loss: 0.72579, acc: 0.66190, val_loss: 1.02573, val_accuracy: 0.55268\n"
     ]
    },
    {
     "name": "stderr",
     "output_type": "stream",
     "text": [
      "100%|██████████████████████████████████████████████████████████████████████████████████| 10/10 [00:00<00:00, 10.12it/s]\n"
     ]
    },
    {
     "name": "stdout",
     "output_type": "stream",
     "text": [
      "epoch 338, loss: 0.72362, acc: 0.66399, val_loss: 1.02118, val_accuracy: 0.55149\n"
     ]
    },
    {
     "name": "stderr",
     "output_type": "stream",
     "text": [
      "100%|██████████████████████████████████████████████████████████████████████████████████| 10/10 [00:00<00:00, 10.09it/s]\n"
     ]
    },
    {
     "name": "stdout",
     "output_type": "stream",
     "text": [
      "epoch 339, loss: 0.72426, acc: 0.66014, val_loss: 1.02789, val_accuracy: 0.55169\n"
     ]
    },
    {
     "name": "stderr",
     "output_type": "stream",
     "text": [
      "100%|██████████████████████████████████████████████████████████████████████████████████| 10/10 [00:01<00:00,  9.22it/s]\n"
     ]
    },
    {
     "name": "stdout",
     "output_type": "stream",
     "text": [
      "epoch 340, loss: 0.72240, acc: 0.66547, val_loss: 1.02096, val_accuracy: 0.55169\n"
     ]
    },
    {
     "name": "stderr",
     "output_type": "stream",
     "text": [
      "100%|██████████████████████████████████████████████████████████████████████████████████| 10/10 [00:01<00:00,  8.42it/s]\n"
     ]
    },
    {
     "name": "stdout",
     "output_type": "stream",
     "text": [
      "epoch 341, loss: 0.72145, acc: 0.66082, val_loss: 1.02377, val_accuracy: 0.55347\n"
     ]
    },
    {
     "name": "stderr",
     "output_type": "stream",
     "text": [
      "100%|██████████████████████████████████████████████████████████████████████████████████| 10/10 [00:01<00:00,  7.88it/s]\n"
     ]
    },
    {
     "name": "stdout",
     "output_type": "stream",
     "text": [
      "epoch 342, loss: 0.72057, acc: 0.66937, val_loss: 1.02463, val_accuracy: 0.55188\n"
     ]
    },
    {
     "name": "stderr",
     "output_type": "stream",
     "text": [
      "100%|██████████████████████████████████████████████████████████████████████████████████| 10/10 [00:01<00:00,  8.42it/s]\n"
     ]
    },
    {
     "name": "stdout",
     "output_type": "stream",
     "text": [
      "epoch 343, loss: 0.72101, acc: 0.66134, val_loss: 1.02394, val_accuracy: 0.55248\n"
     ]
    },
    {
     "name": "stderr",
     "output_type": "stream",
     "text": [
      "100%|██████████████████████████████████████████████████████████████████████████████████| 10/10 [00:01<00:00,  7.71it/s]\n"
     ]
    },
    {
     "name": "stdout",
     "output_type": "stream",
     "text": [
      "epoch 344, loss: 0.71896, acc: 0.66930, val_loss: 1.02507, val_accuracy: 0.55159\n"
     ]
    },
    {
     "name": "stderr",
     "output_type": "stream",
     "text": [
      "100%|██████████████████████████████████████████████████████████████████████████████████| 10/10 [00:00<00:00, 10.15it/s]\n"
     ]
    },
    {
     "name": "stdout",
     "output_type": "stream",
     "text": [
      "epoch 345, loss: 0.72057, acc: 0.66091, val_loss: 1.02538, val_accuracy: 0.55466\n"
     ]
    },
    {
     "name": "stderr",
     "output_type": "stream",
     "text": [
      "100%|██████████████████████████████████████████████████████████████████████████████████| 10/10 [00:01<00:00,  8.31it/s]\n"
     ]
    },
    {
     "name": "stdout",
     "output_type": "stream",
     "text": [
      "epoch 346, loss: 0.71866, acc: 0.67005, val_loss: 1.02266, val_accuracy: 0.55278\n"
     ]
    },
    {
     "name": "stderr",
     "output_type": "stream",
     "text": [
      "100%|██████████████████████████████████████████████████████████████████████████████████| 10/10 [00:01<00:00,  9.27it/s]\n"
     ]
    },
    {
     "name": "stdout",
     "output_type": "stream",
     "text": [
      "epoch 347, loss: 0.71849, acc: 0.66030, val_loss: 1.02755, val_accuracy: 0.55337\n"
     ]
    },
    {
     "name": "stderr",
     "output_type": "stream",
     "text": [
      "100%|██████████████████████████████████████████████████████████████████████████████████| 10/10 [00:01<00:00,  7.49it/s]\n"
     ]
    },
    {
     "name": "stdout",
     "output_type": "stream",
     "text": [
      "epoch 348, loss: 0.71858, acc: 0.67078, val_loss: 1.02204, val_accuracy: 0.55486\n"
     ]
    },
    {
     "name": "stderr",
     "output_type": "stream",
     "text": [
      "100%|██████████████████████████████████████████████████████████████████████████████████| 10/10 [00:01<00:00,  7.19it/s]\n"
     ]
    },
    {
     "name": "stdout",
     "output_type": "stream",
     "text": [
      "epoch 349, loss: 0.71437, acc: 0.66111, val_loss: 1.02494, val_accuracy: 0.55288\n"
     ]
    },
    {
     "name": "stderr",
     "output_type": "stream",
     "text": [
      "100%|██████████████████████████████████████████████████████████████████████████████████| 10/10 [00:00<00:00, 10.12it/s]\n"
     ]
    },
    {
     "name": "stdout",
     "output_type": "stream",
     "text": [
      "epoch 350, loss: 0.71585, acc: 0.67046, val_loss: 1.02243, val_accuracy: 0.55575\n"
     ]
    },
    {
     "name": "stderr",
     "output_type": "stream",
     "text": [
      "100%|██████████████████████████████████████████████████████████████████████████████████| 10/10 [00:01<00:00,  9.06it/s]\n"
     ]
    },
    {
     "name": "stdout",
     "output_type": "stream",
     "text": [
      "epoch 351, loss: 0.71159, acc: 0.66301, val_loss: 1.02325, val_accuracy: 0.55635\n"
     ]
    },
    {
     "name": "stderr",
     "output_type": "stream",
     "text": [
      "100%|██████████████████████████████████████████████████████████████████████████████████| 10/10 [00:01<00:00,  9.97it/s]\n"
     ]
    },
    {
     "name": "stdout",
     "output_type": "stream",
     "text": [
      "epoch 352, loss: 0.71317, acc: 0.66944, val_loss: 1.02629, val_accuracy: 0.55536\n"
     ]
    },
    {
     "name": "stderr",
     "output_type": "stream",
     "text": [
      "100%|██████████████████████████████████████████████████████████████████████████████████| 10/10 [00:01<00:00,  8.43it/s]\n"
     ]
    },
    {
     "name": "stdout",
     "output_type": "stream",
     "text": [
      "epoch 353, loss: 0.70990, acc: 0.66700, val_loss: 1.02391, val_accuracy: 0.55456\n"
     ]
    },
    {
     "name": "stderr",
     "output_type": "stream",
     "text": [
      "100%|██████████████████████████████████████████████████████████████████████████████████| 10/10 [00:01<00:00,  8.85it/s]\n"
     ]
    },
    {
     "name": "stdout",
     "output_type": "stream",
     "text": [
      "epoch 354, loss: 0.71034, acc: 0.67087, val_loss: 1.02893, val_accuracy: 0.55645\n"
     ]
    },
    {
     "name": "stderr",
     "output_type": "stream",
     "text": [
      "100%|██████████████████████████████████████████████████████████████████████████████████| 10/10 [00:01<00:00,  9.84it/s]\n"
     ]
    },
    {
     "name": "stdout",
     "output_type": "stream",
     "text": [
      "epoch 355, loss: 0.70908, acc: 0.66786, val_loss: 1.02406, val_accuracy: 0.55635\n"
     ]
    },
    {
     "name": "stderr",
     "output_type": "stream",
     "text": [
      "100%|██████████████████████████████████████████████████████████████████████████████████| 10/10 [00:01<00:00,  9.98it/s]\n"
     ]
    },
    {
     "name": "stdout",
     "output_type": "stream",
     "text": [
      "epoch 356, loss: 0.70815, acc: 0.67195, val_loss: 1.02805, val_accuracy: 0.55685\n"
     ]
    },
    {
     "name": "stderr",
     "output_type": "stream",
     "text": [
      "100%|██████████████████████████████████████████████████████████████████████████████████| 10/10 [00:01<00:00,  9.84it/s]\n"
     ]
    },
    {
     "name": "stdout",
     "output_type": "stream",
     "text": [
      "epoch 357, loss: 0.70791, acc: 0.66936, val_loss: 1.02777, val_accuracy: 0.55446\n"
     ]
    },
    {
     "name": "stderr",
     "output_type": "stream",
     "text": [
      "100%|██████████████████████████████████████████████████████████████████████████████████| 10/10 [00:01<00:00,  9.70it/s]\n"
     ]
    },
    {
     "name": "stdout",
     "output_type": "stream",
     "text": [
      "epoch 358, loss: 0.70651, acc: 0.67240, val_loss: 1.02856, val_accuracy: 0.55734\n"
     ]
    },
    {
     "name": "stderr",
     "output_type": "stream",
     "text": [
      "100%|██████████████████████████████████████████████████████████████████████████████████| 10/10 [00:01<00:00,  8.66it/s]\n"
     ]
    },
    {
     "name": "stdout",
     "output_type": "stream",
     "text": [
      "epoch 359, loss: 0.70605, acc: 0.67024, val_loss: 1.02784, val_accuracy: 0.55685\n"
     ]
    },
    {
     "name": "stderr",
     "output_type": "stream",
     "text": [
      "100%|██████████████████████████████████████████████████████████████████████████████████| 10/10 [00:01<00:00,  6.85it/s]\n"
     ]
    },
    {
     "name": "stdout",
     "output_type": "stream",
     "text": [
      "epoch 360, loss: 0.70599, acc: 0.67313, val_loss: 1.02689, val_accuracy: 0.55734\n"
     ]
    },
    {
     "name": "stderr",
     "output_type": "stream",
     "text": [
      "100%|██████████████████████████████████████████████████████████████████████████████████| 10/10 [00:00<00:00, 10.16it/s]\n"
     ]
    },
    {
     "name": "stdout",
     "output_type": "stream",
     "text": [
      "epoch 361, loss: 0.70310, acc: 0.67090, val_loss: 1.02802, val_accuracy: 0.55784\n"
     ]
    },
    {
     "name": "stderr",
     "output_type": "stream",
     "text": [
      "100%|██████████████████████████████████████████████████████████████████████████████████| 10/10 [00:00<00:00, 10.14it/s]\n"
     ]
    },
    {
     "name": "stdout",
     "output_type": "stream",
     "text": [
      "epoch 362, loss: 0.70391, acc: 0.67558, val_loss: 1.03097, val_accuracy: 0.55823\n"
     ]
    },
    {
     "name": "stderr",
     "output_type": "stream",
     "text": [
      "100%|██████████████████████████████████████████████████████████████████████████████████| 10/10 [00:01<00:00,  9.86it/s]\n"
     ]
    },
    {
     "name": "stdout",
     "output_type": "stream",
     "text": [
      "epoch 363, loss: 0.70252, acc: 0.67062, val_loss: 1.02615, val_accuracy: 0.55605\n"
     ]
    },
    {
     "name": "stderr",
     "output_type": "stream",
     "text": [
      "100%|██████████████████████████████████████████████████████████████████████████████████| 10/10 [00:01<00:00,  8.93it/s]\n"
     ]
    },
    {
     "name": "stdout",
     "output_type": "stream",
     "text": [
      "epoch 364, loss: 0.70288, acc: 0.67616, val_loss: 1.03505, val_accuracy: 0.55804\n"
     ]
    },
    {
     "name": "stderr",
     "output_type": "stream",
     "text": [
      "100%|██████████████████████████████████████████████████████████████████████████████████| 10/10 [00:01<00:00,  8.89it/s]\n"
     ]
    },
    {
     "name": "stdout",
     "output_type": "stream",
     "text": [
      "epoch 365, loss: 0.70223, acc: 0.66979, val_loss: 1.02446, val_accuracy: 0.55526\n"
     ]
    },
    {
     "name": "stderr",
     "output_type": "stream",
     "text": [
      "100%|██████████████████████████████████████████████████████████████████████████████████| 10/10 [00:00<00:00, 10.10it/s]\n"
     ]
    },
    {
     "name": "stdout",
     "output_type": "stream",
     "text": [
      "epoch 366, loss: 0.70143, acc: 0.67673, val_loss: 1.03537, val_accuracy: 0.55774\n"
     ]
    },
    {
     "name": "stderr",
     "output_type": "stream",
     "text": [
      "100%|██████████████████████████████████████████████████████████████████████████████████| 10/10 [00:00<00:00, 10.04it/s]\n"
     ]
    },
    {
     "name": "stdout",
     "output_type": "stream",
     "text": [
      "epoch 367, loss: 0.70063, acc: 0.67065, val_loss: 1.02601, val_accuracy: 0.55595\n"
     ]
    },
    {
     "name": "stderr",
     "output_type": "stream",
     "text": [
      "100%|██████████████████████████████████████████████████████████████████████████████████| 10/10 [00:00<00:00, 10.11it/s]\n"
     ]
    },
    {
     "name": "stdout",
     "output_type": "stream",
     "text": [
      "epoch 368, loss: 0.70158, acc: 0.67668, val_loss: 1.03533, val_accuracy: 0.55804\n"
     ]
    },
    {
     "name": "stderr",
     "output_type": "stream",
     "text": [
      "100%|██████████████████████████████████████████████████████████████████████████████████| 10/10 [00:01<00:00,  8.51it/s]\n"
     ]
    },
    {
     "name": "stdout",
     "output_type": "stream",
     "text": [
      "epoch 369, loss: 0.69875, acc: 0.67079, val_loss: 1.02758, val_accuracy: 0.55486\n"
     ]
    },
    {
     "name": "stderr",
     "output_type": "stream",
     "text": [
      "100%|██████████████████████████████████████████████████████████████████████████████████| 10/10 [00:01<00:00,  8.76it/s]\n"
     ]
    },
    {
     "name": "stdout",
     "output_type": "stream",
     "text": [
      "epoch 370, loss: 0.70006, acc: 0.67743, val_loss: 1.03297, val_accuracy: 0.55933\n"
     ]
    },
    {
     "name": "stderr",
     "output_type": "stream",
     "text": [
      "100%|██████████████████████████████████████████████████████████████████████████████████| 10/10 [00:01<00:00,  9.05it/s]\n"
     ]
    },
    {
     "name": "stdout",
     "output_type": "stream",
     "text": [
      "epoch 371, loss: 0.69673, acc: 0.67137, val_loss: 1.03129, val_accuracy: 0.55496\n"
     ]
    },
    {
     "name": "stderr",
     "output_type": "stream",
     "text": [
      "100%|██████████████████████████████████████████████████████████████████████████████████| 10/10 [00:01<00:00,  7.59it/s]\n"
     ]
    },
    {
     "name": "stdout",
     "output_type": "stream",
     "text": [
      "epoch 372, loss: 0.69803, acc: 0.67966, val_loss: 1.03768, val_accuracy: 0.55893\n"
     ]
    },
    {
     "name": "stderr",
     "output_type": "stream",
     "text": [
      "100%|██████████████████████████████████████████████████████████████████████████████████| 10/10 [00:01<00:00,  8.93it/s]\n"
     ]
    },
    {
     "name": "stdout",
     "output_type": "stream",
     "text": [
      "epoch 373, loss: 0.69578, acc: 0.67272, val_loss: 1.02863, val_accuracy: 0.55764\n"
     ]
    },
    {
     "name": "stderr",
     "output_type": "stream",
     "text": [
      "100%|██████████████████████████████████████████████████████████████████████████████████| 10/10 [00:01<00:00,  6.82it/s]\n"
     ]
    },
    {
     "name": "stdout",
     "output_type": "stream",
     "text": [
      "epoch 374, loss: 0.69693, acc: 0.68075, val_loss: 1.03572, val_accuracy: 0.55962\n"
     ]
    },
    {
     "name": "stderr",
     "output_type": "stream",
     "text": [
      "100%|██████████████████████████████████████████████████████████████████████████████████| 10/10 [00:00<00:00, 10.07it/s]\n"
     ]
    },
    {
     "name": "stdout",
     "output_type": "stream",
     "text": [
      "epoch 375, loss: 0.69359, acc: 0.67317, val_loss: 1.02853, val_accuracy: 0.55734\n"
     ]
    },
    {
     "name": "stderr",
     "output_type": "stream",
     "text": [
      "100%|██████████████████████████████████████████████████████████████████████████████████| 10/10 [00:01<00:00,  9.55it/s]\n"
     ]
    },
    {
     "name": "stdout",
     "output_type": "stream",
     "text": [
      "epoch 376, loss: 0.69564, acc: 0.67987, val_loss: 1.04067, val_accuracy: 0.55962\n"
     ]
    },
    {
     "name": "stderr",
     "output_type": "stream",
     "text": [
      "100%|██████████████████████████████████████████████████████████████████████████████████| 10/10 [00:01<00:00,  7.55it/s]\n"
     ]
    },
    {
     "name": "stdout",
     "output_type": "stream",
     "text": [
      "epoch 377, loss: 0.69251, acc: 0.67329, val_loss: 1.03124, val_accuracy: 0.55774\n"
     ]
    },
    {
     "name": "stderr",
     "output_type": "stream",
     "text": [
      "100%|██████████████████████████████████████████████████████████████████████████████████| 10/10 [00:01<00:00,  9.21it/s]\n"
     ]
    },
    {
     "name": "stdout",
     "output_type": "stream",
     "text": [
      "epoch 378, loss: 0.69436, acc: 0.68037, val_loss: 1.03665, val_accuracy: 0.56002\n"
     ]
    },
    {
     "name": "stderr",
     "output_type": "stream",
     "text": [
      "100%|██████████████████████████████████████████████████████████████████████████████████| 10/10 [00:01<00:00,  7.75it/s]\n"
     ]
    },
    {
     "name": "stdout",
     "output_type": "stream",
     "text": [
      "epoch 379, loss: 0.69111, acc: 0.67442, val_loss: 1.03491, val_accuracy: 0.55764\n"
     ]
    },
    {
     "name": "stderr",
     "output_type": "stream",
     "text": [
      "100%|██████████████████████████████████████████████████████████████████████████████████| 10/10 [00:01<00:00,  8.24it/s]\n"
     ]
    },
    {
     "name": "stdout",
     "output_type": "stream",
     "text": [
      "epoch 380, loss: 0.69326, acc: 0.68041, val_loss: 1.03657, val_accuracy: 0.56091\n"
     ]
    },
    {
     "name": "stderr",
     "output_type": "stream",
     "text": [
      "100%|██████████████████████████████████████████████████████████████████████████████████| 10/10 [00:01<00:00,  8.24it/s]\n"
     ]
    },
    {
     "name": "stdout",
     "output_type": "stream",
     "text": [
      "epoch 381, loss: 0.68900, acc: 0.67503, val_loss: 1.03669, val_accuracy: 0.55754\n"
     ]
    },
    {
     "name": "stderr",
     "output_type": "stream",
     "text": [
      "100%|██████████████████████████████████████████████████████████████████████████████████| 10/10 [00:01<00:00,  8.13it/s]\n"
     ]
    },
    {
     "name": "stdout",
     "output_type": "stream",
     "text": [
      "epoch 382, loss: 0.69148, acc: 0.68133, val_loss: 1.03862, val_accuracy: 0.56131\n"
     ]
    },
    {
     "name": "stderr",
     "output_type": "stream",
     "text": [
      "100%|██████████████████████████████████████████████████████████████████████████████████| 10/10 [00:01<00:00,  9.06it/s]\n"
     ]
    },
    {
     "name": "stdout",
     "output_type": "stream",
     "text": [
      "epoch 383, loss: 0.68802, acc: 0.67638, val_loss: 1.03753, val_accuracy: 0.56012\n"
     ]
    },
    {
     "name": "stderr",
     "output_type": "stream",
     "text": [
      "100%|██████████████████████████████████████████████████████████████████████████████████| 10/10 [00:01<00:00,  8.30it/s]\n"
     ]
    },
    {
     "name": "stdout",
     "output_type": "stream",
     "text": [
      "epoch 384, loss: 0.68908, acc: 0.68226, val_loss: 1.04144, val_accuracy: 0.56151\n"
     ]
    },
    {
     "name": "stderr",
     "output_type": "stream",
     "text": [
      "100%|██████████████████████████████████████████████████████████████████████████████████| 10/10 [00:01<00:00,  8.96it/s]\n"
     ]
    },
    {
     "name": "stdout",
     "output_type": "stream",
     "text": [
      "epoch 385, loss: 0.68681, acc: 0.67732, val_loss: 1.03479, val_accuracy: 0.55962\n"
     ]
    },
    {
     "name": "stderr",
     "output_type": "stream",
     "text": [
      "100%|██████████████████████████████████████████████████████████████████████████████████| 10/10 [00:01<00:00,  8.47it/s]\n"
     ]
    },
    {
     "name": "stdout",
     "output_type": "stream",
     "text": [
      "epoch 386, loss: 0.68768, acc: 0.68414, val_loss: 1.04411, val_accuracy: 0.56389\n"
     ]
    },
    {
     "name": "stderr",
     "output_type": "stream",
     "text": [
      "100%|██████████████████████████████████████████████████████████████████████████████████| 10/10 [00:01<00:00,  9.98it/s]\n"
     ]
    },
    {
     "name": "stdout",
     "output_type": "stream",
     "text": [
      "epoch 387, loss: 0.68501, acc: 0.67879, val_loss: 1.03806, val_accuracy: 0.56062\n"
     ]
    },
    {
     "name": "stderr",
     "output_type": "stream",
     "text": [
      "100%|██████████████████████████████████████████████████████████████████████████████████| 10/10 [00:01<00:00,  9.00it/s]\n"
     ]
    },
    {
     "name": "stdout",
     "output_type": "stream",
     "text": [
      "epoch 388, loss: 0.68627, acc: 0.68451, val_loss: 1.04367, val_accuracy: 0.56468\n"
     ]
    },
    {
     "name": "stderr",
     "output_type": "stream",
     "text": [
      "100%|██████████████████████████████████████████████████████████████████████████████████| 10/10 [00:01<00:00,  9.36it/s]\n"
     ]
    },
    {
     "name": "stdout",
     "output_type": "stream",
     "text": [
      "epoch 389, loss: 0.68351, acc: 0.67957, val_loss: 1.04021, val_accuracy: 0.56181\n"
     ]
    },
    {
     "name": "stderr",
     "output_type": "stream",
     "text": [
      "100%|██████████████████████████████████████████████████████████████████████████████████| 10/10 [00:01<00:00,  8.63it/s]\n"
     ]
    },
    {
     "name": "stdout",
     "output_type": "stream",
     "text": [
      "epoch 390, loss: 0.68514, acc: 0.68569, val_loss: 1.04228, val_accuracy: 0.56498\n"
     ]
    },
    {
     "name": "stderr",
     "output_type": "stream",
     "text": [
      "100%|██████████████████████████████████████████████████████████████████████████████████| 10/10 [00:01<00:00,  7.73it/s]\n"
     ]
    },
    {
     "name": "stdout",
     "output_type": "stream",
     "text": [
      "epoch 391, loss: 0.68201, acc: 0.67913, val_loss: 1.04240, val_accuracy: 0.56151\n"
     ]
    },
    {
     "name": "stderr",
     "output_type": "stream",
     "text": [
      "100%|██████████████████████████████████████████████████████████████████████████████████| 10/10 [00:01<00:00,  8.79it/s]\n"
     ]
    },
    {
     "name": "stdout",
     "output_type": "stream",
     "text": [
      "epoch 392, loss: 0.68412, acc: 0.68586, val_loss: 1.04195, val_accuracy: 0.56468\n"
     ]
    },
    {
     "name": "stderr",
     "output_type": "stream",
     "text": [
      "100%|██████████████████████████████████████████████████████████████████████████████████| 10/10 [00:01<00:00,  8.02it/s]\n"
     ]
    },
    {
     "name": "stdout",
     "output_type": "stream",
     "text": [
      "epoch 393, loss: 0.68052, acc: 0.67902, val_loss: 1.04058, val_accuracy: 0.56121\n"
     ]
    },
    {
     "name": "stderr",
     "output_type": "stream",
     "text": [
      "100%|██████████████████████████████████████████████████████████████████████████████████| 10/10 [00:01<00:00,  8.81it/s]\n"
     ]
    },
    {
     "name": "stdout",
     "output_type": "stream",
     "text": [
      "epoch 394, loss: 0.68277, acc: 0.68849, val_loss: 1.04088, val_accuracy: 0.56518\n"
     ]
    },
    {
     "name": "stderr",
     "output_type": "stream",
     "text": [
      "100%|██████████████████████████████████████████████████████████████████████████████████| 10/10 [00:01<00:00,  7.82it/s]\n"
     ]
    },
    {
     "name": "stdout",
     "output_type": "stream",
     "text": [
      "epoch 395, loss: 0.67831, acc: 0.68194, val_loss: 1.04293, val_accuracy: 0.56270\n"
     ]
    },
    {
     "name": "stderr",
     "output_type": "stream",
     "text": [
      "100%|██████████████████████████████████████████████████████████████████████████████████| 10/10 [00:01<00:00,  9.84it/s]\n"
     ]
    },
    {
     "name": "stdout",
     "output_type": "stream",
     "text": [
      "epoch 396, loss: 0.68152, acc: 0.68983, val_loss: 1.04613, val_accuracy: 0.56508\n"
     ]
    },
    {
     "name": "stderr",
     "output_type": "stream",
     "text": [
      "100%|██████████████████████████████████████████████████████████████████████████████████| 10/10 [00:01<00:00,  8.77it/s]\n"
     ]
    },
    {
     "name": "stdout",
     "output_type": "stream",
     "text": [
      "epoch 397, loss: 0.67629, acc: 0.68433, val_loss: 1.04321, val_accuracy: 0.56369\n"
     ]
    },
    {
     "name": "stderr",
     "output_type": "stream",
     "text": [
      "100%|██████████████████████████████████████████████████████████████████████████████████| 10/10 [00:01<00:00,  9.29it/s]\n"
     ]
    },
    {
     "name": "stdout",
     "output_type": "stream",
     "text": [
      "epoch 398, loss: 0.67851, acc: 0.68968, val_loss: 1.04779, val_accuracy: 0.56617\n"
     ]
    },
    {
     "name": "stderr",
     "output_type": "stream",
     "text": [
      "100%|██████████████████████████████████████████████████████████████████████████████████| 10/10 [00:01<00:00,  8.21it/s]\n"
     ]
    },
    {
     "name": "stdout",
     "output_type": "stream",
     "text": [
      "epoch 399, loss: 0.67560, acc: 0.68423, val_loss: 1.04405, val_accuracy: 0.56290\n"
     ]
    },
    {
     "name": "stderr",
     "output_type": "stream",
     "text": [
      "100%|██████████████████████████████████████████████████████████████████████████████████| 10/10 [00:01<00:00,  8.50it/s]\n"
     ]
    },
    {
     "name": "stdout",
     "output_type": "stream",
     "text": [
      "epoch 400, loss: 0.67643, acc: 0.69068, val_loss: 1.04964, val_accuracy: 0.56696\n"
     ]
    },
    {
     "name": "stderr",
     "output_type": "stream",
     "text": [
      "100%|██████████████████████████████████████████████████████████████████████████████████| 10/10 [00:01<00:00,  8.25it/s]\n"
     ]
    },
    {
     "name": "stdout",
     "output_type": "stream",
     "text": [
      "epoch 401, loss: 0.67505, acc: 0.68443, val_loss: 1.04239, val_accuracy: 0.56438\n"
     ]
    },
    {
     "name": "stderr",
     "output_type": "stream",
     "text": [
      "100%|██████████████████████████████████████████████████████████████████████████████████| 10/10 [00:01<00:00,  9.08it/s]\n"
     ]
    },
    {
     "name": "stdout",
     "output_type": "stream",
     "text": [
      "epoch 402, loss: 0.67543, acc: 0.69079, val_loss: 1.04979, val_accuracy: 0.56657\n"
     ]
    },
    {
     "name": "stderr",
     "output_type": "stream",
     "text": [
      "100%|██████████████████████████████████████████████████████████████████████████████████| 10/10 [00:00<00:00, 10.03it/s]\n"
     ]
    },
    {
     "name": "stdout",
     "output_type": "stream",
     "text": [
      "epoch 403, loss: 0.67348, acc: 0.68346, val_loss: 1.04548, val_accuracy: 0.56389\n"
     ]
    },
    {
     "name": "stderr",
     "output_type": "stream",
     "text": [
      "100%|██████████████████████████████████████████████████████████████████████████████████| 10/10 [00:01<00:00,  9.04it/s]\n"
     ]
    },
    {
     "name": "stdout",
     "output_type": "stream",
     "text": [
      "epoch 404, loss: 0.67458, acc: 0.69103, val_loss: 1.04886, val_accuracy: 0.56647\n"
     ]
    },
    {
     "name": "stderr",
     "output_type": "stream",
     "text": [
      "100%|██████████████████████████████████████████████████████████████████████████████████| 10/10 [00:01<00:00,  7.95it/s]\n"
     ]
    },
    {
     "name": "stdout",
     "output_type": "stream",
     "text": [
      "epoch 405, loss: 0.67182, acc: 0.68404, val_loss: 1.04693, val_accuracy: 0.56329\n"
     ]
    },
    {
     "name": "stderr",
     "output_type": "stream",
     "text": [
      "100%|██████████████████████████████████████████████████████████████████████████████████| 10/10 [00:01<00:00,  7.46it/s]\n"
     ]
    },
    {
     "name": "stdout",
     "output_type": "stream",
     "text": [
      "epoch 406, loss: 0.67384, acc: 0.69195, val_loss: 1.05193, val_accuracy: 0.56746\n"
     ]
    },
    {
     "name": "stderr",
     "output_type": "stream",
     "text": [
      "100%|██████████████████████████████████████████████████████████████████████████████████| 10/10 [00:01<00:00,  7.28it/s]\n"
     ]
    },
    {
     "name": "stdout",
     "output_type": "stream",
     "text": [
      "epoch 407, loss: 0.67038, acc: 0.68510, val_loss: 1.04840, val_accuracy: 0.56498\n"
     ]
    },
    {
     "name": "stderr",
     "output_type": "stream",
     "text": [
      "100%|██████████████████████████████████████████████████████████████████████████████████| 10/10 [00:01<00:00,  8.71it/s]\n"
     ]
    },
    {
     "name": "stdout",
     "output_type": "stream",
     "text": [
      "epoch 408, loss: 0.67196, acc: 0.69249, val_loss: 1.05046, val_accuracy: 0.56776\n"
     ]
    },
    {
     "name": "stderr",
     "output_type": "stream",
     "text": [
      "100%|██████████████████████████████████████████████████████████████████████████████████| 10/10 [00:01<00:00,  8.17it/s]\n"
     ]
    },
    {
     "name": "stdout",
     "output_type": "stream",
     "text": [
      "epoch 409, loss: 0.66884, acc: 0.68616, val_loss: 1.04995, val_accuracy: 0.56468\n"
     ]
    },
    {
     "name": "stderr",
     "output_type": "stream",
     "text": [
      "100%|██████████████████████████████████████████████████████████████████████████████████| 10/10 [00:01<00:00,  7.61it/s]\n"
     ]
    },
    {
     "name": "stdout",
     "output_type": "stream",
     "text": [
      "epoch 410, loss: 0.67124, acc: 0.69278, val_loss: 1.05424, val_accuracy: 0.56865\n"
     ]
    },
    {
     "name": "stderr",
     "output_type": "stream",
     "text": [
      "100%|██████████████████████████████████████████████████████████████████████████████████| 10/10 [00:01<00:00,  8.80it/s]\n"
     ]
    },
    {
     "name": "stdout",
     "output_type": "stream",
     "text": [
      "epoch 411, loss: 0.66800, acc: 0.68768, val_loss: 1.04535, val_accuracy: 0.56488\n"
     ]
    },
    {
     "name": "stderr",
     "output_type": "stream",
     "text": [
      "100%|██████████████████████████████████████████████████████████████████████████████████| 10/10 [00:01<00:00,  8.47it/s]\n"
     ]
    },
    {
     "name": "stdout",
     "output_type": "stream",
     "text": [
      "epoch 412, loss: 0.66909, acc: 0.69379, val_loss: 1.05191, val_accuracy: 0.56994\n"
     ]
    },
    {
     "name": "stderr",
     "output_type": "stream",
     "text": [
      "100%|██████████████████████████████████████████████████████████████████████████████████| 10/10 [00:01<00:00,  8.96it/s]\n"
     ]
    },
    {
     "name": "stdout",
     "output_type": "stream",
     "text": [
      "epoch 413, loss: 0.66633, acc: 0.68654, val_loss: 1.04916, val_accuracy: 0.56498\n"
     ]
    },
    {
     "name": "stderr",
     "output_type": "stream",
     "text": [
      "100%|██████████████████████████████████████████████████████████████████████████████████| 10/10 [00:01<00:00,  7.82it/s]\n"
     ]
    },
    {
     "name": "stdout",
     "output_type": "stream",
     "text": [
      "epoch 414, loss: 0.66826, acc: 0.69407, val_loss: 1.05401, val_accuracy: 0.56964\n"
     ]
    },
    {
     "name": "stderr",
     "output_type": "stream",
     "text": [
      "100%|██████████████████████████████████████████████████████████████████████████████████| 10/10 [00:01<00:00,  9.77it/s]\n"
     ]
    },
    {
     "name": "stdout",
     "output_type": "stream",
     "text": [
      "epoch 415, loss: 0.66424, acc: 0.69071, val_loss: 1.04976, val_accuracy: 0.56478\n"
     ]
    },
    {
     "name": "stderr",
     "output_type": "stream",
     "text": [
      "100%|██████████████████████████████████████████████████████████████████████████████████| 10/10 [00:01<00:00,  9.01it/s]\n"
     ]
    },
    {
     "name": "stdout",
     "output_type": "stream",
     "text": [
      "epoch 416, loss: 0.66606, acc: 0.69469, val_loss: 1.05589, val_accuracy: 0.56984\n"
     ]
    },
    {
     "name": "stderr",
     "output_type": "stream",
     "text": [
      "100%|██████████████████████████████████████████████████████████████████████████████████| 10/10 [00:01<00:00,  9.47it/s]\n"
     ]
    },
    {
     "name": "stdout",
     "output_type": "stream",
     "text": [
      "epoch 417, loss: 0.66375, acc: 0.69174, val_loss: 1.05099, val_accuracy: 0.56478\n"
     ]
    },
    {
     "name": "stderr",
     "output_type": "stream",
     "text": [
      "100%|██████████████████████████████████████████████████████████████████████████████████| 10/10 [00:01<00:00,  8.59it/s]\n"
     ]
    },
    {
     "name": "stdout",
     "output_type": "stream",
     "text": [
      "epoch 418, loss: 0.66299, acc: 0.69589, val_loss: 1.05799, val_accuracy: 0.57083\n"
     ]
    },
    {
     "name": "stderr",
     "output_type": "stream",
     "text": [
      "100%|██████████████████████████████████████████████████████████████████████████████████| 10/10 [00:01<00:00,  7.66it/s]\n"
     ]
    },
    {
     "name": "stdout",
     "output_type": "stream",
     "text": [
      "epoch 419, loss: 0.66302, acc: 0.69190, val_loss: 1.04840, val_accuracy: 0.56558\n"
     ]
    },
    {
     "name": "stderr",
     "output_type": "stream",
     "text": [
      "100%|██████████████████████████████████████████████████████████████████████████████████| 10/10 [00:01<00:00,  9.38it/s]\n"
     ]
    },
    {
     "name": "stdout",
     "output_type": "stream",
     "text": [
      "epoch 420, loss: 0.66071, acc: 0.69648, val_loss: 1.06025, val_accuracy: 0.57113\n"
     ]
    },
    {
     "name": "stderr",
     "output_type": "stream",
     "text": [
      "100%|██████████████████████████████████████████████████████████████████████████████████| 10/10 [00:01<00:00,  7.99it/s]\n"
     ]
    },
    {
     "name": "stdout",
     "output_type": "stream",
     "text": [
      "epoch 421, loss: 0.66221, acc: 0.69342, val_loss: 1.04839, val_accuracy: 0.56538\n"
     ]
    },
    {
     "name": "stderr",
     "output_type": "stream",
     "text": [
      "100%|██████████████████████████████████████████████████████████████████████████████████| 10/10 [00:01<00:00,  8.10it/s]\n"
     ]
    },
    {
     "name": "stdout",
     "output_type": "stream",
     "text": [
      "epoch 422, loss: 0.65987, acc: 0.69952, val_loss: 1.05817, val_accuracy: 0.57103\n"
     ]
    },
    {
     "name": "stderr",
     "output_type": "stream",
     "text": [
      "100%|██████████████████████████████████████████████████████████████████████████████████| 10/10 [00:01<00:00,  7.77it/s]\n"
     ]
    },
    {
     "name": "stdout",
     "output_type": "stream",
     "text": [
      "epoch 423, loss: 0.66009, acc: 0.69456, val_loss: 1.05040, val_accuracy: 0.56657\n"
     ]
    },
    {
     "name": "stderr",
     "output_type": "stream",
     "text": [
      "100%|██████████████████████████████████████████████████████████████████████████████████| 10/10 [00:01<00:00,  8.04it/s]\n"
     ]
    },
    {
     "name": "stdout",
     "output_type": "stream",
     "text": [
      "epoch 424, loss: 0.65928, acc: 0.69889, val_loss: 1.05927, val_accuracy: 0.57143\n"
     ]
    },
    {
     "name": "stderr",
     "output_type": "stream",
     "text": [
      "100%|██████████████████████████████████████████████████████████████████████████████████| 10/10 [00:01<00:00,  7.69it/s]\n"
     ]
    },
    {
     "name": "stdout",
     "output_type": "stream",
     "text": [
      "epoch 425, loss: 0.65810, acc: 0.69575, val_loss: 1.05131, val_accuracy: 0.56776\n"
     ]
    },
    {
     "name": "stderr",
     "output_type": "stream",
     "text": [
      "100%|██████████████████████████████████████████████████████████████████████████████████| 10/10 [00:01<00:00,  7.96it/s]\n"
     ]
    },
    {
     "name": "stdout",
     "output_type": "stream",
     "text": [
      "epoch 426, loss: 0.65786, acc: 0.70017, val_loss: 1.05632, val_accuracy: 0.57103\n"
     ]
    },
    {
     "name": "stderr",
     "output_type": "stream",
     "text": [
      "100%|██████████████████████████████████████████████████████████████████████████████████| 10/10 [00:01<00:00,  7.87it/s]\n"
     ]
    },
    {
     "name": "stdout",
     "output_type": "stream",
     "text": [
      "epoch 427, loss: 0.65628, acc: 0.69775, val_loss: 1.05485, val_accuracy: 0.56994\n"
     ]
    },
    {
     "name": "stderr",
     "output_type": "stream",
     "text": [
      "100%|██████████████████████████████████████████████████████████████████████████████████| 10/10 [00:01<00:00,  6.85it/s]\n"
     ]
    },
    {
     "name": "stdout",
     "output_type": "stream",
     "text": [
      "epoch 428, loss: 0.65662, acc: 0.70113, val_loss: 1.05888, val_accuracy: 0.57381\n"
     ]
    },
    {
     "name": "stderr",
     "output_type": "stream",
     "text": [
      "100%|██████████████████████████████████████████████████████████████████████████████████| 10/10 [00:01<00:00,  7.70it/s]\n"
     ]
    },
    {
     "name": "stdout",
     "output_type": "stream",
     "text": [
      "epoch 429, loss: 0.65453, acc: 0.69815, val_loss: 1.05302, val_accuracy: 0.56984\n"
     ]
    },
    {
     "name": "stderr",
     "output_type": "stream",
     "text": [
      "100%|██████████████████████████████████████████████████████████████████████████████████| 10/10 [00:01<00:00,  7.15it/s]\n"
     ]
    },
    {
     "name": "stdout",
     "output_type": "stream",
     "text": [
      "epoch 430, loss: 0.65668, acc: 0.69893, val_loss: 1.06118, val_accuracy: 0.57450\n"
     ]
    },
    {
     "name": "stderr",
     "output_type": "stream",
     "text": [
      "100%|██████████████████████████████████████████████████████████████████████████████████| 10/10 [00:01<00:00,  9.61it/s]\n"
     ]
    },
    {
     "name": "stdout",
     "output_type": "stream",
     "text": [
      "epoch 431, loss: 0.65291, acc: 0.69826, val_loss: 1.04719, val_accuracy: 0.57004\n"
     ]
    },
    {
     "name": "stderr",
     "output_type": "stream",
     "text": [
      "100%|██████████████████████████████████████████████████████████████████████████████████| 10/10 [00:01<00:00,  8.59it/s]\n"
     ]
    },
    {
     "name": "stdout",
     "output_type": "stream",
     "text": [
      "epoch 432, loss: 0.65594, acc: 0.70043, val_loss: 1.06024, val_accuracy: 0.57500\n"
     ]
    },
    {
     "name": "stderr",
     "output_type": "stream",
     "text": [
      "100%|██████████████████████████████████████████████████████████████████████████████████| 10/10 [00:01<00:00,  7.28it/s]\n"
     ]
    },
    {
     "name": "stdout",
     "output_type": "stream",
     "text": [
      "epoch 433, loss: 0.65159, acc: 0.70116, val_loss: 1.05640, val_accuracy: 0.57133\n"
     ]
    },
    {
     "name": "stderr",
     "output_type": "stream",
     "text": [
      "100%|██████████████████████████████████████████████████████████████████████████████████| 10/10 [00:01<00:00,  9.37it/s]\n"
     ]
    },
    {
     "name": "stdout",
     "output_type": "stream",
     "text": [
      "epoch 434, loss: 0.65495, acc: 0.70109, val_loss: 1.05827, val_accuracy: 0.57540\n"
     ]
    },
    {
     "name": "stderr",
     "output_type": "stream",
     "text": [
      "100%|██████████████████████████████████████████████████████████████████████████████████| 10/10 [00:01<00:00,  9.17it/s]\n"
     ]
    },
    {
     "name": "stdout",
     "output_type": "stream",
     "text": [
      "epoch 435, loss: 0.64876, acc: 0.70426, val_loss: 1.05722, val_accuracy: 0.57242\n"
     ]
    },
    {
     "name": "stderr",
     "output_type": "stream",
     "text": [
      "100%|██████████████████████████████████████████████████████████████████████████████████| 10/10 [00:01<00:00,  9.29it/s]\n"
     ]
    },
    {
     "name": "stdout",
     "output_type": "stream",
     "text": [
      "epoch 436, loss: 0.65486, acc: 0.69842, val_loss: 1.05504, val_accuracy: 0.57619\n"
     ]
    },
    {
     "name": "stderr",
     "output_type": "stream",
     "text": [
      "100%|██████████████████████████████████████████████████████████████████████████████████| 10/10 [00:01<00:00,  8.30it/s]\n"
     ]
    },
    {
     "name": "stdout",
     "output_type": "stream",
     "text": [
      "epoch 437, loss: 0.64672, acc: 0.70421, val_loss: 1.05990, val_accuracy: 0.57361\n"
     ]
    },
    {
     "name": "stderr",
     "output_type": "stream",
     "text": [
      "100%|██████████████████████████████████████████████████████████████████████████████████| 10/10 [00:01<00:00,  6.89it/s]\n"
     ]
    },
    {
     "name": "stdout",
     "output_type": "stream",
     "text": [
      "epoch 438, loss: 0.65124, acc: 0.70143, val_loss: 1.05643, val_accuracy: 0.57629\n"
     ]
    },
    {
     "name": "stderr",
     "output_type": "stream",
     "text": [
      "100%|██████████████████████████████████████████████████████████████████████████████████| 10/10 [00:01<00:00,  8.66it/s]\n"
     ]
    },
    {
     "name": "stdout",
     "output_type": "stream",
     "text": [
      "epoch 439, loss: 0.64588, acc: 0.70481, val_loss: 1.06126, val_accuracy: 0.57212\n"
     ]
    },
    {
     "name": "stderr",
     "output_type": "stream",
     "text": [
      "100%|██████████████████████████████████████████████████████████████████████████████████| 10/10 [00:01<00:00,  7.97it/s]\n"
     ]
    },
    {
     "name": "stdout",
     "output_type": "stream",
     "text": [
      "epoch 440, loss: 0.64902, acc: 0.70167, val_loss: 1.05835, val_accuracy: 0.57748\n"
     ]
    },
    {
     "name": "stderr",
     "output_type": "stream",
     "text": [
      "100%|██████████████████████████████████████████████████████████████████████████████████| 10/10 [00:01<00:00,  7.68it/s]\n"
     ]
    },
    {
     "name": "stdout",
     "output_type": "stream",
     "text": [
      "epoch 441, loss: 0.64536, acc: 0.70680, val_loss: 1.06347, val_accuracy: 0.57460\n"
     ]
    },
    {
     "name": "stderr",
     "output_type": "stream",
     "text": [
      "100%|██████████████████████████████████████████████████████████████████████████████████| 10/10 [00:01<00:00,  7.95it/s]\n"
     ]
    },
    {
     "name": "stdout",
     "output_type": "stream",
     "text": [
      "epoch 442, loss: 0.64647, acc: 0.70288, val_loss: 1.06174, val_accuracy: 0.57798\n"
     ]
    },
    {
     "name": "stderr",
     "output_type": "stream",
     "text": [
      "100%|██████████████████████████████████████████████████████████████████████████████████| 10/10 [00:01<00:00,  7.38it/s]\n"
     ]
    },
    {
     "name": "stdout",
     "output_type": "stream",
     "text": [
      "epoch 443, loss: 0.64628, acc: 0.70417, val_loss: 1.05878, val_accuracy: 0.57450\n"
     ]
    },
    {
     "name": "stderr",
     "output_type": "stream",
     "text": [
      "100%|██████████████████████████████████████████████████████████████████████████████████| 10/10 [00:01<00:00,  9.22it/s]\n"
     ]
    },
    {
     "name": "stdout",
     "output_type": "stream",
     "text": [
      "epoch 444, loss: 0.64441, acc: 0.70318, val_loss: 1.06281, val_accuracy: 0.57877\n"
     ]
    },
    {
     "name": "stderr",
     "output_type": "stream",
     "text": [
      "100%|██████████████████████████████████████████████████████████████████████████████████| 10/10 [00:01<00:00,  9.42it/s]\n"
     ]
    },
    {
     "name": "stdout",
     "output_type": "stream",
     "text": [
      "epoch 445, loss: 0.64611, acc: 0.70507, val_loss: 1.05649, val_accuracy: 0.57450\n"
     ]
    },
    {
     "name": "stderr",
     "output_type": "stream",
     "text": [
      "100%|██████████████████████████████████████████████████████████████████████████████████| 10/10 [00:01<00:00,  9.35it/s]\n"
     ]
    },
    {
     "name": "stdout",
     "output_type": "stream",
     "text": [
      "epoch 446, loss: 0.64292, acc: 0.70436, val_loss: 1.06920, val_accuracy: 0.57887\n"
     ]
    },
    {
     "name": "stderr",
     "output_type": "stream",
     "text": [
      "100%|██████████████████████████████████████████████████████████████████████████████████| 10/10 [00:01<00:00,  7.37it/s]\n"
     ]
    },
    {
     "name": "stdout",
     "output_type": "stream",
     "text": [
      "epoch 447, loss: 0.64590, acc: 0.70523, val_loss: 1.05552, val_accuracy: 0.57331\n"
     ]
    },
    {
     "name": "stderr",
     "output_type": "stream",
     "text": [
      "100%|██████████████████████████████████████████████████████████████████████████████████| 10/10 [00:01<00:00,  8.63it/s]\n"
     ]
    },
    {
     "name": "stdout",
     "output_type": "stream",
     "text": [
      "epoch 448, loss: 0.64219, acc: 0.70539, val_loss: 1.06979, val_accuracy: 0.57877\n"
     ]
    },
    {
     "name": "stderr",
     "output_type": "stream",
     "text": [
      "100%|██████████████████████████████████████████████████████████████████████████████████| 10/10 [00:01<00:00,  8.37it/s]\n"
     ]
    },
    {
     "name": "stdout",
     "output_type": "stream",
     "text": [
      "epoch 449, loss: 0.64372, acc: 0.70482, val_loss: 1.05659, val_accuracy: 0.57431\n"
     ]
    },
    {
     "name": "stderr",
     "output_type": "stream",
     "text": [
      "100%|██████████████████████████████████████████████████████████████████████████████████| 10/10 [00:01<00:00,  9.37it/s]\n"
     ]
    },
    {
     "name": "stdout",
     "output_type": "stream",
     "text": [
      "epoch 450, loss: 0.64202, acc: 0.70533, val_loss: 1.07237, val_accuracy: 0.57867\n"
     ]
    },
    {
     "name": "stderr",
     "output_type": "stream",
     "text": [
      "100%|██████████████████████████████████████████████████████████████████████████████████| 10/10 [00:01<00:00,  8.25it/s]\n"
     ]
    },
    {
     "name": "stdout",
     "output_type": "stream",
     "text": [
      "epoch 451, loss: 0.64184, acc: 0.70721, val_loss: 1.05641, val_accuracy: 0.57470\n"
     ]
    },
    {
     "name": "stderr",
     "output_type": "stream",
     "text": [
      "100%|██████████████████████████████████████████████████████████████████████████████████| 10/10 [00:01<00:00,  8.20it/s]\n"
     ]
    },
    {
     "name": "stdout",
     "output_type": "stream",
     "text": [
      "epoch 452, loss: 0.64134, acc: 0.70722, val_loss: 1.07006, val_accuracy: 0.57927\n"
     ]
    },
    {
     "name": "stderr",
     "output_type": "stream",
     "text": [
      "100%|██████████████████████████████████████████████████████████████████████████████████| 10/10 [00:01<00:00,  7.58it/s]\n"
     ]
    },
    {
     "name": "stdout",
     "output_type": "stream",
     "text": [
      "epoch 453, loss: 0.63898, acc: 0.70833, val_loss: 1.05939, val_accuracy: 0.57907\n"
     ]
    },
    {
     "name": "stderr",
     "output_type": "stream",
     "text": [
      "100%|██████████████████████████████████████████████████████████████████████████████████| 10/10 [00:01<00:00,  8.25it/s]\n"
     ]
    },
    {
     "name": "stdout",
     "output_type": "stream",
     "text": [
      "epoch 454, loss: 0.64097, acc: 0.70642, val_loss: 1.06979, val_accuracy: 0.57847\n"
     ]
    },
    {
     "name": "stderr",
     "output_type": "stream",
     "text": [
      "100%|██████████████████████████████████████████████████████████████████████████████████| 10/10 [00:01<00:00,  7.97it/s]\n"
     ]
    },
    {
     "name": "stdout",
     "output_type": "stream",
     "text": [
      "epoch 455, loss: 0.63812, acc: 0.70624, val_loss: 1.06195, val_accuracy: 0.57877\n"
     ]
    },
    {
     "name": "stderr",
     "output_type": "stream",
     "text": [
      "100%|██████████████████████████████████████████████████████████████████████████████████| 10/10 [00:01<00:00,  8.04it/s]\n"
     ]
    },
    {
     "name": "stdout",
     "output_type": "stream",
     "text": [
      "epoch 456, loss: 0.63854, acc: 0.70679, val_loss: 1.06893, val_accuracy: 0.57986\n"
     ]
    },
    {
     "name": "stderr",
     "output_type": "stream",
     "text": [
      "100%|██████████████████████████████████████████████████████████████████████████████████| 10/10 [00:01<00:00,  8.20it/s]\n"
     ]
    },
    {
     "name": "stdout",
     "output_type": "stream",
     "text": [
      "epoch 457, loss: 0.63671, acc: 0.70670, val_loss: 1.06073, val_accuracy: 0.57927\n"
     ]
    },
    {
     "name": "stderr",
     "output_type": "stream",
     "text": [
      "100%|██████████████████████████████████████████████████████████████████████████████████| 10/10 [00:01<00:00,  7.61it/s]\n"
     ]
    },
    {
     "name": "stdout",
     "output_type": "stream",
     "text": [
      "epoch 458, loss: 0.63755, acc: 0.70625, val_loss: 1.07152, val_accuracy: 0.58075\n"
     ]
    },
    {
     "name": "stderr",
     "output_type": "stream",
     "text": [
      "100%|██████████████████████████████████████████████████████████████████████████████████| 10/10 [00:01<00:00,  8.23it/s]\n"
     ]
    },
    {
     "name": "stdout",
     "output_type": "stream",
     "text": [
      "epoch 459, loss: 0.63453, acc: 0.70852, val_loss: 1.06175, val_accuracy: 0.57996\n"
     ]
    },
    {
     "name": "stderr",
     "output_type": "stream",
     "text": [
      "100%|██████████████████████████████████████████████████████████████████████████████████| 10/10 [00:01<00:00,  8.26it/s]\n"
     ]
    },
    {
     "name": "stdout",
     "output_type": "stream",
     "text": [
      "epoch 460, loss: 0.63565, acc: 0.70733, val_loss: 1.07082, val_accuracy: 0.58135\n"
     ]
    },
    {
     "name": "stderr",
     "output_type": "stream",
     "text": [
      "100%|██████████████████████████████████████████████████████████████████████████████████| 10/10 [00:01<00:00,  7.64it/s]\n"
     ]
    },
    {
     "name": "stdout",
     "output_type": "stream",
     "text": [
      "epoch 461, loss: 0.63432, acc: 0.70682, val_loss: 1.06175, val_accuracy: 0.57907\n"
     ]
    },
    {
     "name": "stderr",
     "output_type": "stream",
     "text": [
      "100%|██████████████████████████████████████████████████████████████████████████████████| 10/10 [00:01<00:00,  8.28it/s]\n"
     ]
    },
    {
     "name": "stdout",
     "output_type": "stream",
     "text": [
      "epoch 462, loss: 0.63355, acc: 0.70613, val_loss: 1.07420, val_accuracy: 0.58333\n"
     ]
    },
    {
     "name": "stderr",
     "output_type": "stream",
     "text": [
      "100%|██████████████████████████████████████████████████████████████████████████████████| 10/10 [00:01<00:00,  7.05it/s]\n"
     ]
    },
    {
     "name": "stdout",
     "output_type": "stream",
     "text": [
      "epoch 463, loss: 0.63209, acc: 0.70832, val_loss: 1.06346, val_accuracy: 0.57986\n"
     ]
    },
    {
     "name": "stderr",
     "output_type": "stream",
     "text": [
      "100%|██████████████████████████████████████████████████████████████████████████████████| 10/10 [00:01<00:00,  9.35it/s]\n"
     ]
    },
    {
     "name": "stdout",
     "output_type": "stream",
     "text": [
      "epoch 464, loss: 0.63215, acc: 0.70731, val_loss: 1.07178, val_accuracy: 0.58383\n"
     ]
    },
    {
     "name": "stderr",
     "output_type": "stream",
     "text": [
      "100%|██████████████████████████████████████████████████████████████████████████████████| 10/10 [00:01<00:00,  9.26it/s]\n"
     ]
    },
    {
     "name": "stdout",
     "output_type": "stream",
     "text": [
      "epoch 465, loss: 0.63029, acc: 0.70828, val_loss: 1.06754, val_accuracy: 0.58085\n"
     ]
    },
    {
     "name": "stderr",
     "output_type": "stream",
     "text": [
      "100%|██████████████████████████████████████████████████████████████████████████████████| 10/10 [00:00<00:00, 10.05it/s]\n"
     ]
    },
    {
     "name": "stdout",
     "output_type": "stream",
     "text": [
      "epoch 466, loss: 0.63191, acc: 0.70699, val_loss: 1.07493, val_accuracy: 0.58313\n"
     ]
    },
    {
     "name": "stderr",
     "output_type": "stream",
     "text": [
      "100%|██████████████████████████████████████████████████████████████████████████████████| 10/10 [00:01<00:00,  9.18it/s]\n"
     ]
    },
    {
     "name": "stdout",
     "output_type": "stream",
     "text": [
      "epoch 467, loss: 0.62929, acc: 0.70933, val_loss: 1.06929, val_accuracy: 0.58214\n"
     ]
    },
    {
     "name": "stderr",
     "output_type": "stream",
     "text": [
      "100%|██████████████████████████████████████████████████████████████████████████████████| 10/10 [00:01<00:00,  8.36it/s]\n"
     ]
    },
    {
     "name": "stdout",
     "output_type": "stream",
     "text": [
      "epoch 468, loss: 0.63127, acc: 0.70781, val_loss: 1.07241, val_accuracy: 0.58373\n"
     ]
    },
    {
     "name": "stderr",
     "output_type": "stream",
     "text": [
      "100%|██████████████████████████████████████████████████████████████████████████████████| 10/10 [00:01<00:00,  8.30it/s]\n"
     ]
    },
    {
     "name": "stdout",
     "output_type": "stream",
     "text": [
      "epoch 469, loss: 0.62680, acc: 0.70864, val_loss: 1.07031, val_accuracy: 0.58323\n"
     ]
    },
    {
     "name": "stderr",
     "output_type": "stream",
     "text": [
      "100%|██████████████████████████████████████████████████████████████████████████████████| 10/10 [00:01<00:00,  7.69it/s]\n"
     ]
    },
    {
     "name": "stdout",
     "output_type": "stream",
     "text": [
      "epoch 470, loss: 0.62938, acc: 0.70853, val_loss: 1.07826, val_accuracy: 0.58333\n"
     ]
    },
    {
     "name": "stderr",
     "output_type": "stream",
     "text": [
      "100%|██████████████████████████████████████████████████████████████████████████████████| 10/10 [00:01<00:00,  9.12it/s]\n"
     ]
    },
    {
     "name": "stdout",
     "output_type": "stream",
     "text": [
      "epoch 471, loss: 0.62694, acc: 0.71149, val_loss: 1.06551, val_accuracy: 0.58323\n"
     ]
    },
    {
     "name": "stderr",
     "output_type": "stream",
     "text": [
      "100%|██████████████████████████████████████████████████████████████████████████████████| 10/10 [00:01<00:00,  9.21it/s]\n"
     ]
    },
    {
     "name": "stdout",
     "output_type": "stream",
     "text": [
      "epoch 472, loss: 0.62731, acc: 0.71106, val_loss: 1.07755, val_accuracy: 0.58423\n"
     ]
    },
    {
     "name": "stderr",
     "output_type": "stream",
     "text": [
      "100%|██████████████████████████████████████████████████████████████████████████████████| 10/10 [00:01<00:00,  9.72it/s]\n"
     ]
    },
    {
     "name": "stdout",
     "output_type": "stream",
     "text": [
      "epoch 473, loss: 0.62423, acc: 0.71106, val_loss: 1.06581, val_accuracy: 0.58403\n"
     ]
    },
    {
     "name": "stderr",
     "output_type": "stream",
     "text": [
      "100%|██████████████████████████████████████████████████████████████████████████████████| 10/10 [00:01<00:00,  9.25it/s]\n"
     ]
    },
    {
     "name": "stdout",
     "output_type": "stream",
     "text": [
      "epoch 474, loss: 0.62632, acc: 0.71080, val_loss: 1.07684, val_accuracy: 0.58542\n"
     ]
    },
    {
     "name": "stderr",
     "output_type": "stream",
     "text": [
      "100%|██████████████████████████████████████████████████████████████████████████████████| 10/10 [00:01<00:00,  7.95it/s]\n"
     ]
    },
    {
     "name": "stdout",
     "output_type": "stream",
     "text": [
      "epoch 475, loss: 0.62336, acc: 0.71263, val_loss: 1.07161, val_accuracy: 0.58274\n"
     ]
    },
    {
     "name": "stderr",
     "output_type": "stream",
     "text": [
      "100%|██████████████████████████████████████████████████████████████████████████████████| 10/10 [00:00<00:00, 10.18it/s]\n"
     ]
    },
    {
     "name": "stdout",
     "output_type": "stream",
     "text": [
      "epoch 476, loss: 0.62487, acc: 0.71007, val_loss: 1.07955, val_accuracy: 0.58581\n"
     ]
    },
    {
     "name": "stderr",
     "output_type": "stream",
     "text": [
      "100%|██████████████████████████████████████████████████████████████████████████████████| 10/10 [00:00<00:00, 10.22it/s]\n"
     ]
    },
    {
     "name": "stdout",
     "output_type": "stream",
     "text": [
      "epoch 477, loss: 0.62142, acc: 0.71306, val_loss: 1.07136, val_accuracy: 0.58621\n"
     ]
    },
    {
     "name": "stderr",
     "output_type": "stream",
     "text": [
      "100%|██████████████████████████████████████████████████████████████████████████████████| 10/10 [00:01<00:00,  9.87it/s]\n"
     ]
    },
    {
     "name": "stdout",
     "output_type": "stream",
     "text": [
      "epoch 478, loss: 0.62388, acc: 0.71219, val_loss: 1.08044, val_accuracy: 0.58601\n"
     ]
    },
    {
     "name": "stderr",
     "output_type": "stream",
     "text": [
      "100%|██████████████████████████████████████████████████████████████████████████████████| 10/10 [00:01<00:00,  9.06it/s]\n"
     ]
    },
    {
     "name": "stdout",
     "output_type": "stream",
     "text": [
      "epoch 479, loss: 0.62004, acc: 0.71401, val_loss: 1.07201, val_accuracy: 0.58323\n"
     ]
    },
    {
     "name": "stderr",
     "output_type": "stream",
     "text": [
      "100%|██████████████████████████████████████████████████████████████████████████████████| 10/10 [00:01<00:00,  8.07it/s]\n"
     ]
    },
    {
     "name": "stdout",
     "output_type": "stream",
     "text": [
      "epoch 480, loss: 0.62109, acc: 0.71348, val_loss: 1.07928, val_accuracy: 0.58542\n"
     ]
    },
    {
     "name": "stderr",
     "output_type": "stream",
     "text": [
      "100%|██████████████████████████████████████████████████████████████████████████████████| 10/10 [00:01<00:00,  7.26it/s]\n"
     ]
    },
    {
     "name": "stdout",
     "output_type": "stream",
     "text": [
      "epoch 481, loss: 0.61892, acc: 0.71641, val_loss: 1.07576, val_accuracy: 0.58472\n"
     ]
    },
    {
     "name": "stderr",
     "output_type": "stream",
     "text": [
      "100%|██████████████████████████████████████████████████████████████████████████████████| 10/10 [00:01<00:00,  7.89it/s]\n"
     ]
    },
    {
     "name": "stdout",
     "output_type": "stream",
     "text": [
      "epoch 482, loss: 0.61981, acc: 0.71391, val_loss: 1.08556, val_accuracy: 0.58581\n"
     ]
    },
    {
     "name": "stderr",
     "output_type": "stream",
     "text": [
      "100%|██████████████████████████████████████████████████████████████████████████████████| 10/10 [00:01<00:00,  7.67it/s]\n"
     ]
    },
    {
     "name": "stdout",
     "output_type": "stream",
     "text": [
      "epoch 483, loss: 0.61868, acc: 0.71791, val_loss: 1.06829, val_accuracy: 0.58472\n"
     ]
    },
    {
     "name": "stderr",
     "output_type": "stream",
     "text": [
      "100%|██████████████████████████████████████████████████████████████████████████████████| 10/10 [00:01<00:00,  9.17it/s]\n"
     ]
    },
    {
     "name": "stdout",
     "output_type": "stream",
     "text": [
      "epoch 484, loss: 0.61921, acc: 0.71504, val_loss: 1.08523, val_accuracy: 0.58542\n"
     ]
    },
    {
     "name": "stderr",
     "output_type": "stream",
     "text": [
      "100%|██████████████████████████████████████████████████████████████████████████████████| 10/10 [00:01<00:00,  8.40it/s]\n"
     ]
    },
    {
     "name": "stdout",
     "output_type": "stream",
     "text": [
      "epoch 485, loss: 0.61752, acc: 0.71276, val_loss: 1.06976, val_accuracy: 0.58433\n"
     ]
    },
    {
     "name": "stderr",
     "output_type": "stream",
     "text": [
      "100%|██████████████████████████████████████████████████████████████████████████████████| 10/10 [00:01<00:00,  7.53it/s]\n"
     ]
    },
    {
     "name": "stdout",
     "output_type": "stream",
     "text": [
      "epoch 486, loss: 0.61869, acc: 0.71558, val_loss: 1.08219, val_accuracy: 0.58661\n"
     ]
    },
    {
     "name": "stderr",
     "output_type": "stream",
     "text": [
      "100%|██████████████████████████████████████████████████████████████████████████████████| 10/10 [00:01<00:00,  7.26it/s]\n"
     ]
    },
    {
     "name": "stdout",
     "output_type": "stream",
     "text": [
      "epoch 487, loss: 0.61510, acc: 0.71551, val_loss: 1.07802, val_accuracy: 0.58433\n"
     ]
    },
    {
     "name": "stderr",
     "output_type": "stream",
     "text": [
      "100%|██████████████████████████████████████████████████████████████████████████████████| 10/10 [00:00<00:00, 10.10it/s]\n"
     ]
    },
    {
     "name": "stdout",
     "output_type": "stream",
     "text": [
      "epoch 488, loss: 0.61870, acc: 0.71761, val_loss: 1.07984, val_accuracy: 0.58770\n"
     ]
    },
    {
     "name": "stderr",
     "output_type": "stream",
     "text": [
      "100%|██████████████████████████████████████████████████████████████████████████████████| 10/10 [00:01<00:00,  9.21it/s]\n"
     ]
    },
    {
     "name": "stdout",
     "output_type": "stream",
     "text": [
      "epoch 489, loss: 0.61384, acc: 0.71847, val_loss: 1.08138, val_accuracy: 0.58502\n"
     ]
    },
    {
     "name": "stderr",
     "output_type": "stream",
     "text": [
      "100%|██████████████████████████████████████████████████████████████████████████████████| 10/10 [00:01<00:00,  9.85it/s]\n"
     ]
    },
    {
     "name": "stdout",
     "output_type": "stream",
     "text": [
      "epoch 490, loss: 0.61726, acc: 0.71871, val_loss: 1.08089, val_accuracy: 0.59643\n"
     ]
    },
    {
     "name": "stderr",
     "output_type": "stream",
     "text": [
      "100%|██████████████████████████████████████████████████████████████████████████████████| 10/10 [00:01<00:00,  7.55it/s]\n"
     ]
    },
    {
     "name": "stdout",
     "output_type": "stream",
     "text": [
      "epoch 491, loss: 0.61259, acc: 0.72198, val_loss: 1.08219, val_accuracy: 0.58472\n"
     ]
    },
    {
     "name": "stderr",
     "output_type": "stream",
     "text": [
      "100%|██████████████████████████████████████████████████████████████████████████████████| 10/10 [00:01<00:00,  7.58it/s]\n"
     ]
    },
    {
     "name": "stdout",
     "output_type": "stream",
     "text": [
      "epoch 492, loss: 0.61604, acc: 0.71790, val_loss: 1.07836, val_accuracy: 0.59712\n"
     ]
    },
    {
     "name": "stderr",
     "output_type": "stream",
     "text": [
      "100%|██████████████████████████████████████████████████████████████████████████████████| 10/10 [00:01<00:00,  7.94it/s]\n"
     ]
    },
    {
     "name": "stdout",
     "output_type": "stream",
     "text": [
      "epoch 493, loss: 0.61043, acc: 0.72343, val_loss: 1.08599, val_accuracy: 0.58720\n"
     ]
    },
    {
     "name": "stderr",
     "output_type": "stream",
     "text": [
      "100%|██████████████████████████████████████████████████████████████████████████████████| 10/10 [00:01<00:00,  8.86it/s]\n"
     ]
    },
    {
     "name": "stdout",
     "output_type": "stream",
     "text": [
      "epoch 494, loss: 0.61388, acc: 0.71870, val_loss: 1.08084, val_accuracy: 0.59802\n"
     ]
    },
    {
     "name": "stderr",
     "output_type": "stream",
     "text": [
      "100%|██████████████████████████████████████████████████████████████████████████████████| 10/10 [00:01<00:00,  8.26it/s]\n"
     ]
    },
    {
     "name": "stdout",
     "output_type": "stream",
     "text": [
      "epoch 495, loss: 0.60928, acc: 0.72367, val_loss: 1.08802, val_accuracy: 0.58849\n"
     ]
    },
    {
     "name": "stderr",
     "output_type": "stream",
     "text": [
      "100%|██████████████████████████████████████████████████████████████████████████████████| 10/10 [00:01<00:00,  7.76it/s]\n"
     ]
    },
    {
     "name": "stdout",
     "output_type": "stream",
     "text": [
      "epoch 496, loss: 0.61013, acc: 0.72021, val_loss: 1.08245, val_accuracy: 0.59653\n"
     ]
    },
    {
     "name": "stderr",
     "output_type": "stream",
     "text": [
      "100%|██████████████████████████████████████████████████████████████████████████████████| 10/10 [00:01<00:00,  9.79it/s]\n"
     ]
    },
    {
     "name": "stdout",
     "output_type": "stream",
     "text": [
      "epoch 497, loss: 0.60918, acc: 0.72706, val_loss: 1.08568, val_accuracy: 0.59792\n"
     ]
    },
    {
     "name": "stderr",
     "output_type": "stream",
     "text": [
      "100%|██████████████████████████████████████████████████████████████████████████████████| 10/10 [00:00<00:00, 10.11it/s]\n"
     ]
    },
    {
     "name": "stdout",
     "output_type": "stream",
     "text": [
      "epoch 498, loss: 0.60849, acc: 0.72007, val_loss: 1.08487, val_accuracy: 0.59623\n"
     ]
    },
    {
     "name": "stderr",
     "output_type": "stream",
     "text": [
      "100%|██████████████████████████████████████████████████████████████████████████████████| 10/10 [00:01<00:00,  9.31it/s]\n"
     ]
    },
    {
     "name": "stdout",
     "output_type": "stream",
     "text": [
      "epoch 499, loss: 0.60840, acc: 0.72768, val_loss: 1.08778, val_accuracy: 0.59613\n"
     ]
    },
    {
     "name": "stderr",
     "output_type": "stream",
     "text": [
      "100%|██████████████████████████████████████████████████████████████████████████████████| 10/10 [00:01<00:00,  7.17it/s]\n"
     ]
    },
    {
     "name": "stdout",
     "output_type": "stream",
     "text": [
      "epoch 500, loss: 0.60702, acc: 0.72571, val_loss: 1.08837, val_accuracy: 0.59623\n",
      "1번째 교차검증\n",
      "evaluation loss: 1.01454, evaluation accuracy: 0.53095\n",
      "(5, 10080)\n",
      "(10080, 5)\n",
      "Learning rate set to 0.10399\n",
      "0:\tlearn: 1.0512084\ttotal: 7.71ms\tremaining: 7.71s\n",
      "1:\tlearn: 1.0133180\ttotal: 14ms\tremaining: 7s\n",
      "2:\tlearn: 0.9831343\ttotal: 20.8ms\tremaining: 6.93s\n",
      "3:\tlearn: 0.9566969\ttotal: 27.3ms\tremaining: 6.8s\n",
      "4:\tlearn: 0.9352913\ttotal: 33.7ms\tremaining: 6.7s\n",
      "5:\tlearn: 0.9144493\ttotal: 40ms\tremaining: 6.62s\n",
      "6:\tlearn: 0.8981304\ttotal: 46.6ms\tremaining: 6.61s\n",
      "7:\tlearn: 0.8828243\ttotal: 53.3ms\tremaining: 6.61s\n",
      "8:\tlearn: 0.8710316\ttotal: 59.6ms\tremaining: 6.57s\n",
      "9:\tlearn: 0.8579616\ttotal: 66.1ms\tremaining: 6.54s\n",
      "10:\tlearn: 0.8484950\ttotal: 72.6ms\tremaining: 6.52s\n",
      "11:\tlearn: 0.8403961\ttotal: 79.1ms\tremaining: 6.51s\n",
      "12:\tlearn: 0.8319610\ttotal: 85.8ms\tremaining: 6.52s\n",
      "13:\tlearn: 0.8254492\ttotal: 92.4ms\tremaining: 6.5s\n",
      "14:\tlearn: 0.8202530\ttotal: 98.8ms\tremaining: 6.49s\n",
      "15:\tlearn: 0.8139473\ttotal: 106ms\tremaining: 6.52s\n",
      "16:\tlearn: 0.8086516\ttotal: 112ms\tremaining: 6.5s\n",
      "17:\tlearn: 0.8041204\ttotal: 119ms\tremaining: 6.5s\n",
      "18:\tlearn: 0.7998934\ttotal: 126ms\tremaining: 6.48s\n",
      "19:\tlearn: 0.7971512\ttotal: 132ms\tremaining: 6.46s\n",
      "20:\tlearn: 0.7944970\ttotal: 139ms\tremaining: 6.5s\n",
      "21:\tlearn: 0.7915627\ttotal: 146ms\tremaining: 6.49s\n",
      "22:\tlearn: 0.7891710\ttotal: 152ms\tremaining: 6.48s\n",
      "23:\tlearn: 0.7874217\ttotal: 159ms\tremaining: 6.46s\n",
      "24:\tlearn: 0.7849882\ttotal: 165ms\tremaining: 6.44s\n",
      "25:\tlearn: 0.7832185\ttotal: 172ms\tremaining: 6.45s\n",
      "26:\tlearn: 0.7819301\ttotal: 178ms\tremaining: 6.42s\n",
      "27:\tlearn: 0.7808268\ttotal: 185ms\tremaining: 6.41s\n",
      "28:\tlearn: 0.7791889\ttotal: 191ms\tremaining: 6.4s\n",
      "29:\tlearn: 0.7779808\ttotal: 198ms\tremaining: 6.39s\n",
      "30:\tlearn: 0.7767074\ttotal: 204ms\tremaining: 6.39s\n",
      "31:\tlearn: 0.7756024\ttotal: 211ms\tremaining: 6.38s\n",
      "32:\tlearn: 0.7744298\ttotal: 218ms\tremaining: 6.38s\n",
      "33:\tlearn: 0.7733027\ttotal: 224ms\tremaining: 6.37s\n",
      "34:\tlearn: 0.7723357\ttotal: 230ms\tremaining: 6.35s\n",
      "35:\tlearn: 0.7716366\ttotal: 237ms\tremaining: 6.34s\n",
      "36:\tlearn: 0.7708485\ttotal: 243ms\tremaining: 6.33s\n",
      "37:\tlearn: 0.7708473\ttotal: 245ms\tremaining: 6.2s\n",
      "38:\tlearn: 0.7701656\ttotal: 251ms\tremaining: 6.19s\n",
      "39:\tlearn: 0.7696743\ttotal: 258ms\tremaining: 6.18s\n",
      "40:\tlearn: 0.7690381\ttotal: 264ms\tremaining: 6.18s\n",
      "41:\tlearn: 0.7685933\ttotal: 271ms\tremaining: 6.18s\n",
      "42:\tlearn: 0.7685733\ttotal: 274ms\tremaining: 6.09s\n",
      "43:\tlearn: 0.7678843\ttotal: 280ms\tremaining: 6.08s\n",
      "44:\tlearn: 0.7672895\ttotal: 287ms\tremaining: 6.08s\n",
      "45:\tlearn: 0.7666546\ttotal: 293ms\tremaining: 6.08s\n",
      "46:\tlearn: 0.7666539\ttotal: 295ms\tremaining: 5.98s\n",
      "47:\tlearn: 0.7666535\ttotal: 296ms\tremaining: 5.88s\n",
      "48:\tlearn: 0.7661263\ttotal: 303ms\tremaining: 5.87s\n",
      "49:\tlearn: 0.7658078\ttotal: 309ms\tremaining: 5.87s\n",
      "50:\tlearn: 0.7658074\ttotal: 311ms\tremaining: 5.78s\n",
      "51:\tlearn: 0.7653593\ttotal: 317ms\tremaining: 5.78s\n",
      "52:\tlearn: 0.7653592\ttotal: 319ms\tremaining: 5.69s\n",
      "53:\tlearn: 0.7650278\ttotal: 325ms\tremaining: 5.7s\n",
      "54:\tlearn: 0.7647431\ttotal: 332ms\tremaining: 5.7s\n",
      "55:\tlearn: 0.7647429\ttotal: 333ms\tremaining: 5.62s\n",
      "56:\tlearn: 0.7647372\ttotal: 336ms\tremaining: 5.55s\n",
      "57:\tlearn: 0.7641665\ttotal: 342ms\tremaining: 5.55s\n",
      "58:\tlearn: 0.7641662\ttotal: 344ms\tremaining: 5.48s\n",
      "59:\tlearn: 0.7641660\ttotal: 345ms\tremaining: 5.41s\n",
      "60:\tlearn: 0.7641659\ttotal: 347ms\tremaining: 5.34s\n",
      "61:\tlearn: 0.7641659\ttotal: 348ms\tremaining: 5.27s\n",
      "62:\tlearn: 0.7638178\ttotal: 355ms\tremaining: 5.28s\n",
      "63:\tlearn: 0.7638177\ttotal: 357ms\tremaining: 5.22s\n",
      "64:\tlearn: 0.7635642\ttotal: 363ms\tremaining: 5.22s\n",
      "65:\tlearn: 0.7631423\ttotal: 370ms\tremaining: 5.24s\n",
      "66:\tlearn: 0.7628777\ttotal: 377ms\tremaining: 5.24s\n",
      "67:\tlearn: 0.7628774\ttotal: 378ms\tremaining: 5.18s\n",
      "68:\tlearn: 0.7628773\ttotal: 380ms\tremaining: 5.12s\n",
      "69:\tlearn: 0.7628762\ttotal: 382ms\tremaining: 5.08s\n",
      "70:\tlearn: 0.7628762\ttotal: 384ms\tremaining: 5.02s\n",
      "71:\tlearn: 0.7626489\ttotal: 390ms\tremaining: 5.03s\n",
      "72:\tlearn: 0.7626487\ttotal: 392ms\tremaining: 4.97s\n",
      "73:\tlearn: 0.7622294\ttotal: 399ms\tremaining: 4.99s\n",
      "74:\tlearn: 0.7619041\ttotal: 405ms\tremaining: 5s\n",
      "75:\tlearn: 0.7617012\ttotal: 412ms\tremaining: 5s\n",
      "76:\tlearn: 0.7617011\ttotal: 413ms\tremaining: 4.96s\n",
      "77:\tlearn: 0.7617008\ttotal: 416ms\tremaining: 4.92s\n",
      "78:\tlearn: 0.7615025\ttotal: 422ms\tremaining: 4.92s\n",
      "79:\tlearn: 0.7615023\ttotal: 424ms\tremaining: 4.88s\n",
      "80:\tlearn: 0.7613363\ttotal: 430ms\tremaining: 4.88s\n",
      "81:\tlearn: 0.7613362\ttotal: 432ms\tremaining: 4.84s\n",
      "82:\tlearn: 0.7613362\ttotal: 434ms\tremaining: 4.79s\n",
      "83:\tlearn: 0.7611864\ttotal: 440ms\tremaining: 4.8s\n",
      "84:\tlearn: 0.7610416\ttotal: 446ms\tremaining: 4.8s\n",
      "85:\tlearn: 0.7608722\ttotal: 453ms\tremaining: 4.82s\n",
      "86:\tlearn: 0.7605799\ttotal: 460ms\tremaining: 4.82s\n",
      "87:\tlearn: 0.7604273\ttotal: 466ms\tremaining: 4.83s\n",
      "88:\tlearn: 0.7602401\ttotal: 473ms\tremaining: 4.84s\n",
      "89:\tlearn: 0.7600806\ttotal: 479ms\tremaining: 4.84s\n",
      "90:\tlearn: 0.7597984\ttotal: 486ms\tremaining: 4.85s\n",
      "91:\tlearn: 0.7595831\ttotal: 492ms\tremaining: 4.86s\n",
      "92:\tlearn: 0.7594711\ttotal: 499ms\tremaining: 4.86s\n",
      "93:\tlearn: 0.7593115\ttotal: 505ms\tremaining: 4.87s\n",
      "94:\tlearn: 0.7591827\ttotal: 512ms\tremaining: 4.88s\n",
      "95:\tlearn: 0.7590076\ttotal: 519ms\tremaining: 4.88s\n",
      "96:\tlearn: 0.7588914\ttotal: 525ms\tremaining: 4.89s\n",
      "97:\tlearn: 0.7586685\ttotal: 532ms\tremaining: 4.9s\n",
      "98:\tlearn: 0.7585320\ttotal: 538ms\tremaining: 4.9s\n",
      "99:\tlearn: 0.7584196\ttotal: 545ms\tremaining: 4.9s\n",
      "100:\tlearn: 0.7582283\ttotal: 551ms\tremaining: 4.91s\n",
      "101:\tlearn: 0.7581186\ttotal: 558ms\tremaining: 4.91s\n",
      "102:\tlearn: 0.7579477\ttotal: 564ms\tremaining: 4.92s\n",
      "103:\tlearn: 0.7578430\ttotal: 571ms\tremaining: 4.92s\n",
      "104:\tlearn: 0.7576817\ttotal: 578ms\tremaining: 4.92s\n",
      "105:\tlearn: 0.7575842\ttotal: 584ms\tremaining: 4.92s\n",
      "106:\tlearn: 0.7574025\ttotal: 590ms\tremaining: 4.93s\n",
      "107:\tlearn: 0.7572505\ttotal: 597ms\tremaining: 4.93s\n",
      "108:\tlearn: 0.7571685\ttotal: 603ms\tremaining: 4.93s\n",
      "109:\tlearn: 0.7570454\ttotal: 609ms\tremaining: 4.93s\n",
      "110:\tlearn: 0.7569117\ttotal: 617ms\tremaining: 4.94s\n",
      "111:\tlearn: 0.7567689\ttotal: 623ms\tremaining: 4.94s\n",
      "112:\tlearn: 0.7566488\ttotal: 630ms\tremaining: 4.94s\n",
      "113:\tlearn: 0.7565453\ttotal: 636ms\tremaining: 4.94s\n",
      "114:\tlearn: 0.7564637\ttotal: 643ms\tremaining: 4.95s\n",
      "115:\tlearn: 0.7563945\ttotal: 650ms\tremaining: 4.95s\n",
      "116:\tlearn: 0.7563211\ttotal: 657ms\tremaining: 4.96s\n",
      "117:\tlearn: 0.7562616\ttotal: 663ms\tremaining: 4.96s\n",
      "118:\tlearn: 0.7562142\ttotal: 669ms\tremaining: 4.96s\n",
      "119:\tlearn: 0.7561111\ttotal: 676ms\tremaining: 4.95s\n",
      "120:\tlearn: 0.7559952\ttotal: 682ms\tremaining: 4.95s\n",
      "121:\tlearn: 0.7559115\ttotal: 688ms\tremaining: 4.95s\n",
      "122:\tlearn: 0.7558387\ttotal: 695ms\tremaining: 4.96s\n",
      "123:\tlearn: 0.7557831\ttotal: 702ms\tremaining: 4.96s\n",
      "124:\tlearn: 0.7557034\ttotal: 708ms\tremaining: 4.96s\n",
      "125:\tlearn: 0.7556071\ttotal: 715ms\tremaining: 4.96s\n",
      "126:\tlearn: 0.7555059\ttotal: 721ms\tremaining: 4.96s\n",
      "127:\tlearn: 0.7554394\ttotal: 728ms\tremaining: 4.96s\n",
      "128:\tlearn: 0.7553639\ttotal: 734ms\tremaining: 4.96s\n",
      "129:\tlearn: 0.7553127\ttotal: 741ms\tremaining: 4.96s\n",
      "130:\tlearn: 0.7552603\ttotal: 747ms\tremaining: 4.96s\n",
      "131:\tlearn: 0.7551924\ttotal: 753ms\tremaining: 4.95s\n",
      "132:\tlearn: 0.7551442\ttotal: 760ms\tremaining: 4.95s\n",
      "133:\tlearn: 0.7550665\ttotal: 766ms\tremaining: 4.95s\n",
      "134:\tlearn: 0.7550082\ttotal: 772ms\tremaining: 4.95s\n",
      "135:\tlearn: 0.7549598\ttotal: 779ms\tremaining: 4.95s\n",
      "136:\tlearn: 0.7548845\ttotal: 786ms\tremaining: 4.95s\n",
      "137:\tlearn: 0.7548246\ttotal: 792ms\tremaining: 4.95s\n",
      "138:\tlearn: 0.7547853\ttotal: 799ms\tremaining: 4.95s\n",
      "139:\tlearn: 0.7547344\ttotal: 806ms\tremaining: 4.95s\n",
      "140:\tlearn: 0.7546800\ttotal: 812ms\tremaining: 4.95s\n",
      "141:\tlearn: 0.7546329\ttotal: 819ms\tremaining: 4.95s\n",
      "142:\tlearn: 0.7545727\ttotal: 825ms\tremaining: 4.94s\n",
      "143:\tlearn: 0.7545106\ttotal: 831ms\tremaining: 4.94s\n",
      "144:\tlearn: 0.7544664\ttotal: 838ms\tremaining: 4.94s\n",
      "145:\tlearn: 0.7544139\ttotal: 844ms\tremaining: 4.94s\n",
      "146:\tlearn: 0.7543582\ttotal: 851ms\tremaining: 4.94s\n",
      "147:\tlearn: 0.7543241\ttotal: 858ms\tremaining: 4.94s\n",
      "148:\tlearn: 0.7542776\ttotal: 864ms\tremaining: 4.93s\n",
      "149:\tlearn: 0.7542351\ttotal: 871ms\tremaining: 4.93s\n",
      "150:\tlearn: 0.7541868\ttotal: 877ms\tremaining: 4.93s\n",
      "151:\tlearn: 0.7541478\ttotal: 883ms\tremaining: 4.93s\n",
      "152:\tlearn: 0.7540983\ttotal: 889ms\tremaining: 4.92s\n",
      "153:\tlearn: 0.7540489\ttotal: 897ms\tremaining: 4.93s\n",
      "154:\tlearn: 0.7540121\ttotal: 903ms\tremaining: 4.92s\n",
      "155:\tlearn: 0.7539766\ttotal: 910ms\tremaining: 4.92s\n",
      "156:\tlearn: 0.7539350\ttotal: 916ms\tremaining: 4.92s\n",
      "157:\tlearn: 0.7538976\ttotal: 923ms\tremaining: 4.92s\n",
      "158:\tlearn: 0.7538605\ttotal: 930ms\tremaining: 4.92s\n",
      "159:\tlearn: 0.7538174\ttotal: 936ms\tremaining: 4.91s\n",
      "160:\tlearn: 0.7537821\ttotal: 942ms\tremaining: 4.91s\n",
      "161:\tlearn: 0.7537399\ttotal: 949ms\tremaining: 4.91s\n",
      "162:\tlearn: 0.7537038\ttotal: 955ms\tremaining: 4.91s\n",
      "163:\tlearn: 0.7536647\ttotal: 962ms\tremaining: 4.91s\n",
      "164:\tlearn: 0.7536256\ttotal: 969ms\tremaining: 4.9s\n",
      "165:\tlearn: 0.7535910\ttotal: 975ms\tremaining: 4.9s\n",
      "166:\tlearn: 0.7535692\ttotal: 982ms\tremaining: 4.9s\n",
      "167:\tlearn: 0.7535444\ttotal: 988ms\tremaining: 4.89s\n",
      "168:\tlearn: 0.7535200\ttotal: 995ms\tremaining: 4.89s\n",
      "169:\tlearn: 0.7534898\ttotal: 1s\tremaining: 4.89s\n",
      "170:\tlearn: 0.7534535\ttotal: 1.01s\tremaining: 4.88s\n",
      "171:\tlearn: 0.7534321\ttotal: 1.01s\tremaining: 4.88s\n",
      "172:\tlearn: 0.7534016\ttotal: 1.02s\tremaining: 4.88s\n",
      "173:\tlearn: 0.7533672\ttotal: 1.03s\tremaining: 4.88s\n",
      "174:\tlearn: 0.7533355\ttotal: 1.03s\tremaining: 4.87s\n"
     ]
    },
    {
     "name": "stdout",
     "output_type": "stream",
     "text": [
      "175:\tlearn: 0.7533058\ttotal: 1.04s\tremaining: 4.87s\n",
      "176:\tlearn: 0.7532816\ttotal: 1.05s\tremaining: 4.87s\n",
      "177:\tlearn: 0.7532568\ttotal: 1.05s\tremaining: 4.86s\n",
      "178:\tlearn: 0.7532292\ttotal: 1.06s\tremaining: 4.86s\n",
      "179:\tlearn: 0.7532076\ttotal: 1.06s\tremaining: 4.86s\n",
      "180:\tlearn: 0.7531880\ttotal: 1.07s\tremaining: 4.85s\n",
      "181:\tlearn: 0.7531699\ttotal: 1.08s\tremaining: 4.85s\n",
      "182:\tlearn: 0.7531379\ttotal: 1.08s\tremaining: 4.85s\n",
      "183:\tlearn: 0.7531062\ttotal: 1.09s\tremaining: 4.84s\n",
      "184:\tlearn: 0.7530610\ttotal: 1.1s\tremaining: 4.84s\n",
      "185:\tlearn: 0.7530350\ttotal: 1.1s\tremaining: 4.83s\n",
      "186:\tlearn: 0.7530044\ttotal: 1.11s\tremaining: 4.83s\n",
      "187:\tlearn: 0.7529766\ttotal: 1.12s\tremaining: 4.83s\n",
      "188:\tlearn: 0.7529483\ttotal: 1.12s\tremaining: 4.82s\n",
      "189:\tlearn: 0.7529326\ttotal: 1.13s\tremaining: 4.82s\n",
      "190:\tlearn: 0.7529093\ttotal: 1.14s\tremaining: 4.82s\n",
      "191:\tlearn: 0.7528861\ttotal: 1.14s\tremaining: 4.81s\n",
      "192:\tlearn: 0.7528603\ttotal: 1.15s\tremaining: 4.81s\n",
      "193:\tlearn: 0.7528338\ttotal: 1.16s\tremaining: 4.8s\n",
      "194:\tlearn: 0.7528091\ttotal: 1.16s\tremaining: 4.8s\n",
      "195:\tlearn: 0.7527840\ttotal: 1.17s\tremaining: 4.8s\n",
      "196:\tlearn: 0.7527638\ttotal: 1.18s\tremaining: 4.79s\n",
      "197:\tlearn: 0.7527450\ttotal: 1.18s\tremaining: 4.79s\n",
      "198:\tlearn: 0.7527273\ttotal: 1.19s\tremaining: 4.78s\n",
      "199:\tlearn: 0.7527080\ttotal: 1.19s\tremaining: 4.78s\n",
      "200:\tlearn: 0.7526942\ttotal: 1.2s\tremaining: 4.78s\n",
      "201:\tlearn: 0.7526785\ttotal: 1.21s\tremaining: 4.77s\n",
      "202:\tlearn: 0.7526641\ttotal: 1.21s\tremaining: 4.77s\n",
      "203:\tlearn: 0.7526394\ttotal: 1.22s\tremaining: 4.76s\n",
      "204:\tlearn: 0.7526252\ttotal: 1.23s\tremaining: 4.76s\n",
      "205:\tlearn: 0.7526014\ttotal: 1.23s\tremaining: 4.75s\n",
      "206:\tlearn: 0.7525784\ttotal: 1.24s\tremaining: 4.75s\n",
      "207:\tlearn: 0.7525521\ttotal: 1.25s\tremaining: 4.75s\n",
      "208:\tlearn: 0.7525427\ttotal: 1.25s\tremaining: 4.74s\n",
      "209:\tlearn: 0.7525212\ttotal: 1.26s\tremaining: 4.74s\n",
      "210:\tlearn: 0.7525059\ttotal: 1.26s\tremaining: 4.73s\n",
      "211:\tlearn: 0.7524858\ttotal: 1.27s\tremaining: 4.73s\n",
      "212:\tlearn: 0.7524750\ttotal: 1.28s\tremaining: 4.73s\n",
      "213:\tlearn: 0.7524564\ttotal: 1.28s\tremaining: 4.72s\n",
      "214:\tlearn: 0.7524412\ttotal: 1.29s\tremaining: 4.72s\n",
      "215:\tlearn: 0.7524263\ttotal: 1.3s\tremaining: 4.71s\n",
      "216:\tlearn: 0.7524074\ttotal: 1.3s\tremaining: 4.71s\n",
      "217:\tlearn: 0.7523943\ttotal: 1.31s\tremaining: 4.7s\n",
      "218:\tlearn: 0.7523811\ttotal: 1.32s\tremaining: 4.7s\n",
      "219:\tlearn: 0.7523686\ttotal: 1.32s\tremaining: 4.69s\n",
      "220:\tlearn: 0.7523465\ttotal: 1.33s\tremaining: 4.69s\n",
      "221:\tlearn: 0.7523343\ttotal: 1.34s\tremaining: 4.68s\n",
      "222:\tlearn: 0.7523205\ttotal: 1.34s\tremaining: 4.68s\n",
      "223:\tlearn: 0.7523052\ttotal: 1.35s\tremaining: 4.67s\n",
      "224:\tlearn: 0.7522760\ttotal: 1.36s\tremaining: 4.67s\n",
      "225:\tlearn: 0.7522535\ttotal: 1.36s\tremaining: 4.67s\n",
      "226:\tlearn: 0.7522419\ttotal: 1.37s\tremaining: 4.66s\n",
      "227:\tlearn: 0.7522288\ttotal: 1.38s\tremaining: 4.66s\n",
      "228:\tlearn: 0.7522177\ttotal: 1.38s\tremaining: 4.65s\n",
      "229:\tlearn: 0.7522045\ttotal: 1.39s\tremaining: 4.65s\n",
      "230:\tlearn: 0.7521877\ttotal: 1.4s\tremaining: 4.64s\n",
      "231:\tlearn: 0.7521727\ttotal: 1.4s\tremaining: 4.64s\n",
      "232:\tlearn: 0.7521602\ttotal: 1.41s\tremaining: 4.63s\n",
      "233:\tlearn: 0.7521457\ttotal: 1.41s\tremaining: 4.63s\n",
      "234:\tlearn: 0.7521233\ttotal: 1.42s\tremaining: 4.62s\n",
      "235:\tlearn: 0.7521084\ttotal: 1.43s\tremaining: 4.62s\n",
      "236:\tlearn: 0.7520932\ttotal: 1.43s\tremaining: 4.62s\n",
      "237:\tlearn: 0.7520802\ttotal: 1.44s\tremaining: 4.61s\n",
      "238:\tlearn: 0.7520692\ttotal: 1.45s\tremaining: 4.61s\n",
      "239:\tlearn: 0.7520597\ttotal: 1.45s\tremaining: 4.61s\n",
      "240:\tlearn: 0.7520340\ttotal: 1.46s\tremaining: 4.6s\n",
      "241:\tlearn: 0.7520249\ttotal: 1.47s\tremaining: 4.6s\n",
      "242:\tlearn: 0.7520097\ttotal: 1.48s\tremaining: 4.59s\n",
      "243:\tlearn: 0.7519986\ttotal: 1.48s\tremaining: 4.59s\n",
      "244:\tlearn: 0.7519805\ttotal: 1.49s\tremaining: 4.59s\n",
      "245:\tlearn: 0.7519700\ttotal: 1.49s\tremaining: 4.58s\n",
      "246:\tlearn: 0.7519495\ttotal: 1.5s\tremaining: 4.58s\n",
      "247:\tlearn: 0.7519362\ttotal: 1.51s\tremaining: 4.57s\n",
      "248:\tlearn: 0.7519195\ttotal: 1.51s\tremaining: 4.57s\n",
      "249:\tlearn: 0.7519127\ttotal: 1.52s\tremaining: 4.56s\n",
      "250:\tlearn: 0.7519001\ttotal: 1.53s\tremaining: 4.55s\n",
      "251:\tlearn: 0.7518809\ttotal: 1.53s\tremaining: 4.55s\n",
      "252:\tlearn: 0.7518717\ttotal: 1.54s\tremaining: 4.55s\n",
      "253:\tlearn: 0.7518639\ttotal: 1.55s\tremaining: 4.54s\n",
      "254:\tlearn: 0.7518565\ttotal: 1.55s\tremaining: 4.54s\n",
      "255:\tlearn: 0.7518505\ttotal: 1.56s\tremaining: 4.53s\n",
      "256:\tlearn: 0.7518414\ttotal: 1.57s\tremaining: 4.53s\n",
      "257:\tlearn: 0.7518349\ttotal: 1.57s\tremaining: 4.53s\n",
      "258:\tlearn: 0.7518187\ttotal: 1.58s\tremaining: 4.52s\n",
      "259:\tlearn: 0.7518054\ttotal: 1.59s\tremaining: 4.51s\n",
      "260:\tlearn: 0.7517923\ttotal: 1.59s\tremaining: 4.51s\n",
      "261:\tlearn: 0.7517785\ttotal: 1.6s\tremaining: 4.5s\n",
      "262:\tlearn: 0.7517726\ttotal: 1.61s\tremaining: 4.5s\n",
      "263:\tlearn: 0.7517645\ttotal: 1.61s\tremaining: 4.5s\n",
      "264:\tlearn: 0.7517498\ttotal: 1.62s\tremaining: 4.49s\n",
      "265:\tlearn: 0.7517371\ttotal: 1.63s\tremaining: 4.49s\n",
      "266:\tlearn: 0.7517251\ttotal: 1.64s\tremaining: 4.49s\n",
      "267:\tlearn: 0.7517144\ttotal: 1.64s\tremaining: 4.49s\n",
      "268:\tlearn: 0.7517065\ttotal: 1.65s\tremaining: 4.48s\n",
      "269:\tlearn: 0.7516927\ttotal: 1.66s\tremaining: 4.48s\n",
      "270:\tlearn: 0.7516825\ttotal: 1.66s\tremaining: 4.48s\n",
      "271:\tlearn: 0.7516710\ttotal: 1.67s\tremaining: 4.47s\n",
      "272:\tlearn: 0.7516596\ttotal: 1.68s\tremaining: 4.47s\n",
      "273:\tlearn: 0.7516455\ttotal: 1.69s\tremaining: 4.47s\n",
      "274:\tlearn: 0.7516377\ttotal: 1.69s\tremaining: 4.46s\n",
      "275:\tlearn: 0.7516266\ttotal: 1.7s\tremaining: 4.46s\n",
      "276:\tlearn: 0.7516200\ttotal: 1.71s\tremaining: 4.46s\n",
      "277:\tlearn: 0.7516142\ttotal: 1.71s\tremaining: 4.45s\n",
      "278:\tlearn: 0.7516060\ttotal: 1.72s\tremaining: 4.45s\n",
      "279:\tlearn: 0.7516000\ttotal: 1.73s\tremaining: 4.45s\n",
      "280:\tlearn: 0.7515899\ttotal: 1.74s\tremaining: 4.44s\n",
      "281:\tlearn: 0.7515800\ttotal: 1.74s\tremaining: 4.44s\n",
      "282:\tlearn: 0.7515743\ttotal: 1.75s\tremaining: 4.43s\n",
      "283:\tlearn: 0.7515597\ttotal: 1.76s\tremaining: 4.43s\n",
      "284:\tlearn: 0.7515527\ttotal: 1.76s\tremaining: 4.43s\n",
      "285:\tlearn: 0.7515408\ttotal: 1.77s\tremaining: 4.42s\n",
      "286:\tlearn: 0.7515277\ttotal: 1.78s\tremaining: 4.42s\n",
      "287:\tlearn: 0.7515152\ttotal: 1.79s\tremaining: 4.42s\n",
      "288:\tlearn: 0.7515089\ttotal: 1.79s\tremaining: 4.41s\n",
      "289:\tlearn: 0.7515002\ttotal: 1.8s\tremaining: 4.41s\n",
      "290:\tlearn: 0.7514891\ttotal: 1.81s\tremaining: 4.41s\n",
      "291:\tlearn: 0.7514758\ttotal: 1.82s\tremaining: 4.4s\n",
      "292:\tlearn: 0.7514682\ttotal: 1.82s\tremaining: 4.4s\n",
      "293:\tlearn: 0.7514597\ttotal: 1.83s\tremaining: 4.4s\n",
      "294:\tlearn: 0.7514489\ttotal: 1.84s\tremaining: 4.39s\n",
      "295:\tlearn: 0.7514438\ttotal: 1.84s\tremaining: 4.39s\n",
      "296:\tlearn: 0.7514338\ttotal: 1.85s\tremaining: 4.38s\n",
      "297:\tlearn: 0.7514289\ttotal: 1.86s\tremaining: 4.38s\n",
      "298:\tlearn: 0.7514222\ttotal: 1.87s\tremaining: 4.38s\n",
      "299:\tlearn: 0.7514122\ttotal: 1.87s\tremaining: 4.37s\n",
      "300:\tlearn: 0.7514032\ttotal: 1.88s\tremaining: 4.37s\n",
      "301:\tlearn: 0.7513966\ttotal: 1.89s\tremaining: 4.37s\n",
      "302:\tlearn: 0.7513926\ttotal: 1.9s\tremaining: 4.36s\n",
      "303:\tlearn: 0.7513838\ttotal: 1.9s\tremaining: 4.36s\n",
      "304:\tlearn: 0.7513745\ttotal: 1.91s\tremaining: 4.35s\n",
      "305:\tlearn: 0.7513662\ttotal: 1.92s\tremaining: 4.35s\n",
      "306:\tlearn: 0.7513602\ttotal: 1.93s\tremaining: 4.35s\n",
      "307:\tlearn: 0.7513503\ttotal: 1.93s\tremaining: 4.34s\n",
      "308:\tlearn: 0.7513421\ttotal: 1.94s\tremaining: 4.34s\n",
      "309:\tlearn: 0.7513372\ttotal: 1.95s\tremaining: 4.33s\n",
      "310:\tlearn: 0.7513295\ttotal: 1.95s\tremaining: 4.33s\n",
      "311:\tlearn: 0.7513236\ttotal: 1.96s\tremaining: 4.33s\n",
      "312:\tlearn: 0.7513186\ttotal: 1.97s\tremaining: 4.32s\n",
      "313:\tlearn: 0.7513143\ttotal: 1.98s\tremaining: 4.32s\n",
      "314:\tlearn: 0.7513104\ttotal: 1.98s\tremaining: 4.31s\n",
      "315:\tlearn: 0.7513028\ttotal: 1.99s\tremaining: 4.31s\n",
      "316:\tlearn: 0.7512912\ttotal: 2s\tremaining: 4.3s\n",
      "317:\tlearn: 0.7512886\ttotal: 2.01s\tremaining: 4.3s\n",
      "318:\tlearn: 0.7512813\ttotal: 2.01s\tremaining: 4.3s\n",
      "319:\tlearn: 0.7512770\ttotal: 2.02s\tremaining: 4.29s\n",
      "320:\tlearn: 0.7512729\ttotal: 2.03s\tremaining: 4.29s\n",
      "321:\tlearn: 0.7512650\ttotal: 2.04s\tremaining: 4.29s\n",
      "322:\tlearn: 0.7512575\ttotal: 2.04s\tremaining: 4.28s\n",
      "323:\tlearn: 0.7512539\ttotal: 2.05s\tremaining: 4.28s\n",
      "324:\tlearn: 0.7512501\ttotal: 2.06s\tremaining: 4.27s\n",
      "325:\tlearn: 0.7512439\ttotal: 2.06s\tremaining: 4.27s\n",
      "326:\tlearn: 0.7512408\ttotal: 2.07s\tremaining: 4.26s\n",
      "327:\tlearn: 0.7512378\ttotal: 2.08s\tremaining: 4.26s\n",
      "328:\tlearn: 0.7512296\ttotal: 2.09s\tremaining: 4.26s\n",
      "329:\tlearn: 0.7512251\ttotal: 2.1s\tremaining: 4.25s\n",
      "330:\tlearn: 0.7512218\ttotal: 2.1s\tremaining: 4.25s\n",
      "331:\tlearn: 0.7512148\ttotal: 2.11s\tremaining: 4.24s\n",
      "332:\tlearn: 0.7512075\ttotal: 2.12s\tremaining: 4.24s\n",
      "333:\tlearn: 0.7512009\ttotal: 2.12s\tremaining: 4.24s\n",
      "334:\tlearn: 0.7511950\ttotal: 2.13s\tremaining: 4.23s\n",
      "335:\tlearn: 0.7511913\ttotal: 2.14s\tremaining: 4.23s\n",
      "336:\tlearn: 0.7511848\ttotal: 2.15s\tremaining: 4.22s\n",
      "337:\tlearn: 0.7511770\ttotal: 2.15s\tremaining: 4.22s\n",
      "338:\tlearn: 0.7511748\ttotal: 2.16s\tremaining: 4.21s\n",
      "339:\tlearn: 0.7511689\ttotal: 2.17s\tremaining: 4.21s\n",
      "340:\tlearn: 0.7511657\ttotal: 2.17s\tremaining: 4.2s\n",
      "341:\tlearn: 0.7511560\ttotal: 2.18s\tremaining: 4.2s\n",
      "342:\tlearn: 0.7511522\ttotal: 2.19s\tremaining: 4.2s\n",
      "343:\tlearn: 0.7511503\ttotal: 2.2s\tremaining: 4.19s\n",
      "344:\tlearn: 0.7511442\ttotal: 2.21s\tremaining: 4.19s\n",
      "345:\tlearn: 0.7511395\ttotal: 2.21s\tremaining: 4.18s\n",
      "346:\tlearn: 0.7511341\ttotal: 2.22s\tremaining: 4.18s\n",
      "347:\tlearn: 0.7511274\ttotal: 2.23s\tremaining: 4.17s\n",
      "348:\tlearn: 0.7511238\ttotal: 2.23s\tremaining: 4.17s\n",
      "349:\tlearn: 0.7511177\ttotal: 2.24s\tremaining: 4.16s\n",
      "350:\tlearn: 0.7511102\ttotal: 2.25s\tremaining: 4.16s\n",
      "351:\tlearn: 0.7511035\ttotal: 2.26s\tremaining: 4.15s\n",
      "352:\tlearn: 0.7511006\ttotal: 2.27s\tremaining: 4.15s\n",
      "353:\tlearn: 0.7510923\ttotal: 2.27s\tremaining: 4.15s\n",
      "354:\tlearn: 0.7510860\ttotal: 2.28s\tremaining: 4.14s\n",
      "355:\tlearn: 0.7510798\ttotal: 2.29s\tremaining: 4.14s\n"
     ]
    },
    {
     "name": "stdout",
     "output_type": "stream",
     "text": [
      "356:\tlearn: 0.7510752\ttotal: 2.29s\tremaining: 4.13s\n",
      "357:\tlearn: 0.7510691\ttotal: 2.3s\tremaining: 4.13s\n",
      "358:\tlearn: 0.7510634\ttotal: 2.31s\tremaining: 4.12s\n",
      "359:\tlearn: 0.7510579\ttotal: 2.31s\tremaining: 4.12s\n",
      "360:\tlearn: 0.7510534\ttotal: 2.32s\tremaining: 4.11s\n",
      "361:\tlearn: 0.7510480\ttotal: 2.33s\tremaining: 4.11s\n",
      "362:\tlearn: 0.7510448\ttotal: 2.34s\tremaining: 4.1s\n",
      "363:\tlearn: 0.7510394\ttotal: 2.35s\tremaining: 4.1s\n",
      "364:\tlearn: 0.7510298\ttotal: 2.35s\tremaining: 4.09s\n",
      "365:\tlearn: 0.7510267\ttotal: 2.36s\tremaining: 4.09s\n",
      "366:\tlearn: 0.7510214\ttotal: 2.37s\tremaining: 4.08s\n",
      "367:\tlearn: 0.7510182\ttotal: 2.38s\tremaining: 4.08s\n",
      "368:\tlearn: 0.7510143\ttotal: 2.38s\tremaining: 4.07s\n",
      "369:\tlearn: 0.7510097\ttotal: 2.39s\tremaining: 4.07s\n",
      "370:\tlearn: 0.7510058\ttotal: 2.4s\tremaining: 4.07s\n",
      "371:\tlearn: 0.7510010\ttotal: 2.4s\tremaining: 4.06s\n",
      "372:\tlearn: 0.7509925\ttotal: 2.41s\tremaining: 4.05s\n",
      "373:\tlearn: 0.7509867\ttotal: 2.42s\tremaining: 4.05s\n",
      "374:\tlearn: 0.7509814\ttotal: 2.43s\tremaining: 4.04s\n",
      "375:\tlearn: 0.7509772\ttotal: 2.44s\tremaining: 4.04s\n",
      "376:\tlearn: 0.7509751\ttotal: 2.44s\tremaining: 4.04s\n",
      "377:\tlearn: 0.7509712\ttotal: 2.45s\tremaining: 4.03s\n",
      "378:\tlearn: 0.7509666\ttotal: 2.46s\tremaining: 4.03s\n",
      "379:\tlearn: 0.7509630\ttotal: 2.46s\tremaining: 4.02s\n",
      "380:\tlearn: 0.7509601\ttotal: 2.47s\tremaining: 4.02s\n",
      "381:\tlearn: 0.7509550\ttotal: 2.48s\tremaining: 4.01s\n",
      "382:\tlearn: 0.7509502\ttotal: 2.49s\tremaining: 4.01s\n",
      "383:\tlearn: 0.7509462\ttotal: 2.49s\tremaining: 4s\n",
      "384:\tlearn: 0.7509421\ttotal: 2.5s\tremaining: 4s\n",
      "385:\tlearn: 0.7509369\ttotal: 2.51s\tremaining: 3.99s\n",
      "386:\tlearn: 0.7509313\ttotal: 2.52s\tremaining: 3.99s\n",
      "387:\tlearn: 0.7509290\ttotal: 2.52s\tremaining: 3.98s\n",
      "388:\tlearn: 0.7509226\ttotal: 2.53s\tremaining: 3.98s\n",
      "389:\tlearn: 0.7509203\ttotal: 2.54s\tremaining: 3.97s\n",
      "390:\tlearn: 0.7509150\ttotal: 2.55s\tremaining: 3.97s\n",
      "391:\tlearn: 0.7509122\ttotal: 2.56s\tremaining: 3.96s\n",
      "392:\tlearn: 0.7509092\ttotal: 2.56s\tremaining: 3.96s\n",
      "393:\tlearn: 0.7509063\ttotal: 2.57s\tremaining: 3.95s\n",
      "394:\tlearn: 0.7509015\ttotal: 2.58s\tremaining: 3.95s\n",
      "395:\tlearn: 0.7508991\ttotal: 2.58s\tremaining: 3.94s\n",
      "396:\tlearn: 0.7508932\ttotal: 2.59s\tremaining: 3.94s\n",
      "397:\tlearn: 0.7508882\ttotal: 2.6s\tremaining: 3.93s\n",
      "398:\tlearn: 0.7508866\ttotal: 2.61s\tremaining: 3.93s\n",
      "399:\tlearn: 0.7508792\ttotal: 2.62s\tremaining: 3.92s\n",
      "400:\tlearn: 0.7508728\ttotal: 2.62s\tremaining: 3.92s\n",
      "401:\tlearn: 0.7508704\ttotal: 2.63s\tremaining: 3.91s\n",
      "402:\tlearn: 0.7508621\ttotal: 2.64s\tremaining: 3.91s\n",
      "403:\tlearn: 0.7508561\ttotal: 2.65s\tremaining: 3.9s\n",
      "404:\tlearn: 0.7508525\ttotal: 2.65s\tremaining: 3.9s\n",
      "405:\tlearn: 0.7508503\ttotal: 2.66s\tremaining: 3.9s\n",
      "406:\tlearn: 0.7508454\ttotal: 2.67s\tremaining: 3.89s\n",
      "407:\tlearn: 0.7508424\ttotal: 2.68s\tremaining: 3.88s\n",
      "408:\tlearn: 0.7508374\ttotal: 2.68s\tremaining: 3.88s\n",
      "409:\tlearn: 0.7508348\ttotal: 2.69s\tremaining: 3.87s\n",
      "410:\tlearn: 0.7508310\ttotal: 2.7s\tremaining: 3.87s\n",
      "411:\tlearn: 0.7508276\ttotal: 2.71s\tremaining: 3.86s\n",
      "412:\tlearn: 0.7508209\ttotal: 2.71s\tremaining: 3.86s\n",
      "413:\tlearn: 0.7508175\ttotal: 2.72s\tremaining: 3.85s\n",
      "414:\tlearn: 0.7508149\ttotal: 2.73s\tremaining: 3.85s\n",
      "415:\tlearn: 0.7508101\ttotal: 2.74s\tremaining: 3.84s\n",
      "416:\tlearn: 0.7508052\ttotal: 2.74s\tremaining: 3.84s\n",
      "417:\tlearn: 0.7508039\ttotal: 2.75s\tremaining: 3.83s\n",
      "418:\tlearn: 0.7508000\ttotal: 2.76s\tremaining: 3.83s\n",
      "419:\tlearn: 0.7507935\ttotal: 2.77s\tremaining: 3.82s\n",
      "420:\tlearn: 0.7507905\ttotal: 2.77s\tremaining: 3.81s\n",
      "421:\tlearn: 0.7507865\ttotal: 2.78s\tremaining: 3.81s\n",
      "422:\tlearn: 0.7507839\ttotal: 2.79s\tremaining: 3.8s\n",
      "423:\tlearn: 0.7507811\ttotal: 2.8s\tremaining: 3.8s\n",
      "424:\tlearn: 0.7507797\ttotal: 2.8s\tremaining: 3.79s\n",
      "425:\tlearn: 0.7507787\ttotal: 2.81s\tremaining: 3.79s\n",
      "426:\tlearn: 0.7507750\ttotal: 2.82s\tremaining: 3.78s\n",
      "427:\tlearn: 0.7507704\ttotal: 2.83s\tremaining: 3.78s\n",
      "428:\tlearn: 0.7507692\ttotal: 2.83s\tremaining: 3.77s\n",
      "429:\tlearn: 0.7507648\ttotal: 2.84s\tremaining: 3.77s\n",
      "430:\tlearn: 0.7507602\ttotal: 2.85s\tremaining: 3.76s\n",
      "431:\tlearn: 0.7507574\ttotal: 2.86s\tremaining: 3.76s\n",
      "432:\tlearn: 0.7507554\ttotal: 2.87s\tremaining: 3.75s\n",
      "433:\tlearn: 0.7507513\ttotal: 2.87s\tremaining: 3.75s\n",
      "434:\tlearn: 0.7507502\ttotal: 2.88s\tremaining: 3.74s\n",
      "435:\tlearn: 0.7507472\ttotal: 2.89s\tremaining: 3.74s\n",
      "436:\tlearn: 0.7507455\ttotal: 2.9s\tremaining: 3.73s\n",
      "437:\tlearn: 0.7507422\ttotal: 2.9s\tremaining: 3.73s\n",
      "438:\tlearn: 0.7507384\ttotal: 2.91s\tremaining: 3.72s\n",
      "439:\tlearn: 0.7507333\ttotal: 2.92s\tremaining: 3.71s\n",
      "440:\tlearn: 0.7507263\ttotal: 2.93s\tremaining: 3.71s\n",
      "441:\tlearn: 0.7507224\ttotal: 2.93s\tremaining: 3.7s\n",
      "442:\tlearn: 0.7507200\ttotal: 2.94s\tremaining: 3.7s\n",
      "443:\tlearn: 0.7507140\ttotal: 2.95s\tremaining: 3.69s\n",
      "444:\tlearn: 0.7507127\ttotal: 2.96s\tremaining: 3.69s\n",
      "445:\tlearn: 0.7507071\ttotal: 2.96s\tremaining: 3.68s\n",
      "446:\tlearn: 0.7507062\ttotal: 2.97s\tremaining: 3.68s\n",
      "447:\tlearn: 0.7507005\ttotal: 2.98s\tremaining: 3.67s\n",
      "448:\tlearn: 0.7506997\ttotal: 2.99s\tremaining: 3.67s\n",
      "449:\tlearn: 0.7506975\ttotal: 3s\tremaining: 3.66s\n",
      "450:\tlearn: 0.7506924\ttotal: 3s\tremaining: 3.65s\n",
      "451:\tlearn: 0.7506901\ttotal: 3.01s\tremaining: 3.65s\n",
      "452:\tlearn: 0.7506865\ttotal: 3.02s\tremaining: 3.64s\n",
      "453:\tlearn: 0.7506859\ttotal: 3.02s\tremaining: 3.64s\n",
      "454:\tlearn: 0.7506836\ttotal: 3.03s\tremaining: 3.63s\n",
      "455:\tlearn: 0.7506822\ttotal: 3.04s\tremaining: 3.63s\n",
      "456:\tlearn: 0.7506810\ttotal: 3.05s\tremaining: 3.62s\n",
      "457:\tlearn: 0.7506802\ttotal: 3.06s\tremaining: 3.62s\n",
      "458:\tlearn: 0.7506790\ttotal: 3.06s\tremaining: 3.61s\n",
      "459:\tlearn: 0.7506775\ttotal: 3.07s\tremaining: 3.61s\n",
      "460:\tlearn: 0.7506756\ttotal: 3.08s\tremaining: 3.6s\n",
      "461:\tlearn: 0.7506748\ttotal: 3.09s\tremaining: 3.59s\n",
      "462:\tlearn: 0.7506728\ttotal: 3.09s\tremaining: 3.59s\n",
      "463:\tlearn: 0.7506707\ttotal: 3.1s\tremaining: 3.58s\n",
      "464:\tlearn: 0.7506652\ttotal: 3.11s\tremaining: 3.58s\n",
      "465:\tlearn: 0.7506637\ttotal: 3.12s\tremaining: 3.57s\n",
      "466:\tlearn: 0.7506622\ttotal: 3.13s\tremaining: 3.57s\n",
      "467:\tlearn: 0.7506584\ttotal: 3.13s\tremaining: 3.56s\n",
      "468:\tlearn: 0.7506567\ttotal: 3.14s\tremaining: 3.56s\n",
      "469:\tlearn: 0.7506539\ttotal: 3.15s\tremaining: 3.55s\n",
      "470:\tlearn: 0.7506509\ttotal: 3.16s\tremaining: 3.54s\n",
      "471:\tlearn: 0.7506470\ttotal: 3.16s\tremaining: 3.54s\n",
      "472:\tlearn: 0.7506453\ttotal: 3.17s\tremaining: 3.53s\n",
      "473:\tlearn: 0.7506418\ttotal: 3.18s\tremaining: 3.53s\n",
      "474:\tlearn: 0.7506401\ttotal: 3.19s\tremaining: 3.52s\n",
      "475:\tlearn: 0.7506383\ttotal: 3.19s\tremaining: 3.52s\n",
      "476:\tlearn: 0.7506351\ttotal: 3.2s\tremaining: 3.51s\n",
      "477:\tlearn: 0.7506331\ttotal: 3.21s\tremaining: 3.5s\n",
      "478:\tlearn: 0.7506315\ttotal: 3.22s\tremaining: 3.5s\n",
      "479:\tlearn: 0.7506299\ttotal: 3.22s\tremaining: 3.49s\n",
      "480:\tlearn: 0.7506280\ttotal: 3.23s\tremaining: 3.49s\n",
      "481:\tlearn: 0.7506267\ttotal: 3.24s\tremaining: 3.48s\n",
      "482:\tlearn: 0.7506226\ttotal: 3.25s\tremaining: 3.48s\n",
      "483:\tlearn: 0.7506215\ttotal: 3.26s\tremaining: 3.47s\n",
      "484:\tlearn: 0.7506196\ttotal: 3.26s\tremaining: 3.46s\n",
      "485:\tlearn: 0.7506168\ttotal: 3.27s\tremaining: 3.46s\n",
      "486:\tlearn: 0.7506136\ttotal: 3.28s\tremaining: 3.45s\n",
      "487:\tlearn: 0.7506120\ttotal: 3.29s\tremaining: 3.45s\n",
      "488:\tlearn: 0.7506099\ttotal: 3.29s\tremaining: 3.44s\n",
      "489:\tlearn: 0.7506085\ttotal: 3.3s\tremaining: 3.44s\n",
      "490:\tlearn: 0.7506077\ttotal: 3.31s\tremaining: 3.43s\n",
      "491:\tlearn: 0.7506065\ttotal: 3.32s\tremaining: 3.42s\n",
      "492:\tlearn: 0.7506028\ttotal: 3.32s\tremaining: 3.42s\n",
      "493:\tlearn: 0.7506011\ttotal: 3.33s\tremaining: 3.41s\n",
      "494:\tlearn: 0.7505962\ttotal: 3.34s\tremaining: 3.41s\n",
      "495:\tlearn: 0.7505931\ttotal: 3.35s\tremaining: 3.4s\n",
      "496:\tlearn: 0.7505918\ttotal: 3.35s\tremaining: 3.4s\n",
      "497:\tlearn: 0.7505902\ttotal: 3.36s\tremaining: 3.39s\n",
      "498:\tlearn: 0.7505880\ttotal: 3.37s\tremaining: 3.38s\n",
      "499:\tlearn: 0.7505844\ttotal: 3.38s\tremaining: 3.38s\n",
      "500:\tlearn: 0.7505827\ttotal: 3.39s\tremaining: 3.37s\n",
      "501:\tlearn: 0.7505806\ttotal: 3.4s\tremaining: 3.37s\n",
      "502:\tlearn: 0.7505792\ttotal: 3.41s\tremaining: 3.37s\n",
      "503:\tlearn: 0.7505782\ttotal: 3.41s\tremaining: 3.36s\n",
      "504:\tlearn: 0.7505765\ttotal: 3.42s\tremaining: 3.35s\n",
      "505:\tlearn: 0.7505753\ttotal: 3.43s\tremaining: 3.35s\n",
      "506:\tlearn: 0.7505739\ttotal: 3.44s\tremaining: 3.34s\n",
      "507:\tlearn: 0.7505727\ttotal: 3.44s\tremaining: 3.33s\n",
      "508:\tlearn: 0.7505696\ttotal: 3.45s\tremaining: 3.33s\n",
      "509:\tlearn: 0.7505685\ttotal: 3.46s\tremaining: 3.32s\n",
      "510:\tlearn: 0.7505654\ttotal: 3.47s\tremaining: 3.32s\n",
      "511:\tlearn: 0.7505647\ttotal: 3.48s\tremaining: 3.31s\n",
      "512:\tlearn: 0.7505642\ttotal: 3.48s\tremaining: 3.31s\n",
      "513:\tlearn: 0.7505627\ttotal: 3.49s\tremaining: 3.3s\n",
      "514:\tlearn: 0.7505590\ttotal: 3.5s\tremaining: 3.29s\n",
      "515:\tlearn: 0.7505555\ttotal: 3.5s\tremaining: 3.29s\n",
      "516:\tlearn: 0.7505529\ttotal: 3.51s\tremaining: 3.28s\n",
      "517:\tlearn: 0.7505500\ttotal: 3.52s\tremaining: 3.28s\n",
      "518:\tlearn: 0.7505487\ttotal: 3.53s\tremaining: 3.27s\n"
     ]
    },
    {
     "name": "stdout",
     "output_type": "stream",
     "text": [
      "519:\tlearn: 0.7505477\ttotal: 3.54s\tremaining: 3.27s\n",
      "520:\tlearn: 0.7505464\ttotal: 3.54s\tremaining: 3.26s\n",
      "521:\tlearn: 0.7505420\ttotal: 3.55s\tremaining: 3.25s\n",
      "522:\tlearn: 0.7505389\ttotal: 3.56s\tremaining: 3.25s\n",
      "523:\tlearn: 0.7505353\ttotal: 3.57s\tremaining: 3.24s\n",
      "524:\tlearn: 0.7505311\ttotal: 3.58s\tremaining: 3.23s\n",
      "525:\tlearn: 0.7505279\ttotal: 3.58s\tremaining: 3.23s\n",
      "526:\tlearn: 0.7505263\ttotal: 3.59s\tremaining: 3.22s\n",
      "527:\tlearn: 0.7505239\ttotal: 3.6s\tremaining: 3.22s\n",
      "528:\tlearn: 0.7505230\ttotal: 3.61s\tremaining: 3.21s\n",
      "529:\tlearn: 0.7505188\ttotal: 3.62s\tremaining: 3.21s\n",
      "530:\tlearn: 0.7505175\ttotal: 3.62s\tremaining: 3.2s\n",
      "531:\tlearn: 0.7505147\ttotal: 3.63s\tremaining: 3.19s\n",
      "532:\tlearn: 0.7505131\ttotal: 3.64s\tremaining: 3.19s\n",
      "533:\tlearn: 0.7505125\ttotal: 3.65s\tremaining: 3.18s\n",
      "534:\tlearn: 0.7505117\ttotal: 3.65s\tremaining: 3.18s\n",
      "535:\tlearn: 0.7505094\ttotal: 3.66s\tremaining: 3.17s\n",
      "536:\tlearn: 0.7505089\ttotal: 3.67s\tremaining: 3.17s\n",
      "537:\tlearn: 0.7505058\ttotal: 3.68s\tremaining: 3.16s\n",
      "538:\tlearn: 0.7505053\ttotal: 3.69s\tremaining: 3.15s\n",
      "539:\tlearn: 0.7505031\ttotal: 3.69s\tremaining: 3.15s\n",
      "540:\tlearn: 0.7505026\ttotal: 3.7s\tremaining: 3.14s\n",
      "541:\tlearn: 0.7505016\ttotal: 3.71s\tremaining: 3.13s\n",
      "542:\tlearn: 0.7505002\ttotal: 3.72s\tremaining: 3.13s\n",
      "543:\tlearn: 0.7504991\ttotal: 3.72s\tremaining: 3.12s\n",
      "544:\tlearn: 0.7504978\ttotal: 3.73s\tremaining: 3.12s\n",
      "545:\tlearn: 0.7504955\ttotal: 3.74s\tremaining: 3.11s\n",
      "546:\tlearn: 0.7504924\ttotal: 3.75s\tremaining: 3.1s\n",
      "547:\tlearn: 0.7504899\ttotal: 3.75s\tremaining: 3.1s\n",
      "548:\tlearn: 0.7504859\ttotal: 3.76s\tremaining: 3.09s\n",
      "549:\tlearn: 0.7504843\ttotal: 3.77s\tremaining: 3.09s\n",
      "550:\tlearn: 0.7504828\ttotal: 3.78s\tremaining: 3.08s\n",
      "551:\tlearn: 0.7504823\ttotal: 3.79s\tremaining: 3.07s\n",
      "552:\tlearn: 0.7504811\ttotal: 3.79s\tremaining: 3.07s\n",
      "553:\tlearn: 0.7504786\ttotal: 3.8s\tremaining: 3.06s\n",
      "554:\tlearn: 0.7504754\ttotal: 3.81s\tremaining: 3.06s\n",
      "555:\tlearn: 0.7504736\ttotal: 3.82s\tremaining: 3.05s\n",
      "556:\tlearn: 0.7504691\ttotal: 3.83s\tremaining: 3.04s\n",
      "557:\tlearn: 0.7504686\ttotal: 3.83s\tremaining: 3.04s\n",
      "558:\tlearn: 0.7504662\ttotal: 3.84s\tremaining: 3.03s\n",
      "559:\tlearn: 0.7504648\ttotal: 3.85s\tremaining: 3.02s\n",
      "560:\tlearn: 0.7504637\ttotal: 3.86s\tremaining: 3.02s\n",
      "561:\tlearn: 0.7504620\ttotal: 3.87s\tremaining: 3.01s\n",
      "562:\tlearn: 0.7504601\ttotal: 3.87s\tremaining: 3.01s\n",
      "563:\tlearn: 0.7504582\ttotal: 3.88s\tremaining: 3s\n",
      "564:\tlearn: 0.7504572\ttotal: 3.89s\tremaining: 2.99s\n",
      "565:\tlearn: 0.7504551\ttotal: 3.9s\tremaining: 2.99s\n",
      "566:\tlearn: 0.7504540\ttotal: 3.9s\tremaining: 2.98s\n",
      "567:\tlearn: 0.7504527\ttotal: 3.91s\tremaining: 2.97s\n",
      "568:\tlearn: 0.7504519\ttotal: 3.92s\tremaining: 2.97s\n",
      "569:\tlearn: 0.7504476\ttotal: 3.93s\tremaining: 2.96s\n",
      "570:\tlearn: 0.7504439\ttotal: 3.94s\tremaining: 2.96s\n",
      "571:\tlearn: 0.7504420\ttotal: 3.94s\tremaining: 2.95s\n",
      "572:\tlearn: 0.7504415\ttotal: 3.95s\tremaining: 2.94s\n",
      "573:\tlearn: 0.7504404\ttotal: 3.96s\tremaining: 2.94s\n",
      "574:\tlearn: 0.7504384\ttotal: 3.97s\tremaining: 2.94s\n",
      "575:\tlearn: 0.7504372\ttotal: 3.98s\tremaining: 2.93s\n",
      "576:\tlearn: 0.7504361\ttotal: 3.99s\tremaining: 2.92s\n",
      "577:\tlearn: 0.7504345\ttotal: 4s\tremaining: 2.92s\n",
      "578:\tlearn: 0.7504315\ttotal: 4s\tremaining: 2.91s\n",
      "579:\tlearn: 0.7504302\ttotal: 4.01s\tremaining: 2.9s\n",
      "580:\tlearn: 0.7504290\ttotal: 4.02s\tremaining: 2.9s\n",
      "581:\tlearn: 0.7504280\ttotal: 4.03s\tremaining: 2.89s\n",
      "582:\tlearn: 0.7504271\ttotal: 4.04s\tremaining: 2.89s\n",
      "583:\tlearn: 0.7504261\ttotal: 4.04s\tremaining: 2.88s\n",
      "584:\tlearn: 0.7504236\ttotal: 4.05s\tremaining: 2.88s\n",
      "585:\tlearn: 0.7504224\ttotal: 4.06s\tremaining: 2.87s\n",
      "586:\tlearn: 0.7504197\ttotal: 4.07s\tremaining: 2.86s\n",
      "587:\tlearn: 0.7504187\ttotal: 4.08s\tremaining: 2.86s\n",
      "588:\tlearn: 0.7504171\ttotal: 4.09s\tremaining: 2.85s\n",
      "589:\tlearn: 0.7504165\ttotal: 4.09s\tremaining: 2.84s\n",
      "590:\tlearn: 0.7504141\ttotal: 4.1s\tremaining: 2.84s\n",
      "591:\tlearn: 0.7504128\ttotal: 4.11s\tremaining: 2.83s\n",
      "592:\tlearn: 0.7504119\ttotal: 4.12s\tremaining: 2.83s\n",
      "593:\tlearn: 0.7504090\ttotal: 4.13s\tremaining: 2.82s\n",
      "594:\tlearn: 0.7504085\ttotal: 4.14s\tremaining: 2.81s\n",
      "595:\tlearn: 0.7504082\ttotal: 4.14s\tremaining: 2.81s\n",
      "596:\tlearn: 0.7504070\ttotal: 4.15s\tremaining: 2.8s\n",
      "597:\tlearn: 0.7504037\ttotal: 4.16s\tremaining: 2.8s\n",
      "598:\tlearn: 0.7504034\ttotal: 4.17s\tremaining: 2.79s\n",
      "599:\tlearn: 0.7504024\ttotal: 4.18s\tremaining: 2.78s\n",
      "600:\tlearn: 0.7504004\ttotal: 4.19s\tremaining: 2.78s\n",
      "601:\tlearn: 0.7503970\ttotal: 4.19s\tremaining: 2.77s\n",
      "602:\tlearn: 0.7503928\ttotal: 4.2s\tremaining: 2.77s\n",
      "603:\tlearn: 0.7503920\ttotal: 4.21s\tremaining: 2.76s\n",
      "604:\tlearn: 0.7503889\ttotal: 4.22s\tremaining: 2.75s\n",
      "605:\tlearn: 0.7503879\ttotal: 4.23s\tremaining: 2.75s\n",
      "606:\tlearn: 0.7503852\ttotal: 4.24s\tremaining: 2.74s\n",
      "607:\tlearn: 0.7503846\ttotal: 4.24s\tremaining: 2.74s\n",
      "608:\tlearn: 0.7503836\ttotal: 4.25s\tremaining: 2.73s\n",
      "609:\tlearn: 0.7503797\ttotal: 4.26s\tremaining: 2.72s\n",
      "610:\tlearn: 0.7503788\ttotal: 4.27s\tremaining: 2.72s\n",
      "611:\tlearn: 0.7503775\ttotal: 4.28s\tremaining: 2.71s\n",
      "612:\tlearn: 0.7503763\ttotal: 4.29s\tremaining: 2.71s\n",
      "613:\tlearn: 0.7503750\ttotal: 4.29s\tremaining: 2.7s\n",
      "614:\tlearn: 0.7503728\ttotal: 4.3s\tremaining: 2.69s\n",
      "615:\tlearn: 0.7503700\ttotal: 4.31s\tremaining: 2.69s\n",
      "616:\tlearn: 0.7503682\ttotal: 4.32s\tremaining: 2.68s\n",
      "617:\tlearn: 0.7503672\ttotal: 4.33s\tremaining: 2.67s\n",
      "618:\tlearn: 0.7503636\ttotal: 4.33s\tremaining: 2.67s\n",
      "619:\tlearn: 0.7503633\ttotal: 4.34s\tremaining: 2.66s\n",
      "620:\tlearn: 0.7503624\ttotal: 4.35s\tremaining: 2.65s\n",
      "621:\tlearn: 0.7503597\ttotal: 4.36s\tremaining: 2.65s\n",
      "622:\tlearn: 0.7503576\ttotal: 4.37s\tremaining: 2.64s\n",
      "623:\tlearn: 0.7503541\ttotal: 4.38s\tremaining: 2.64s\n",
      "624:\tlearn: 0.7503510\ttotal: 4.38s\tremaining: 2.63s\n",
      "625:\tlearn: 0.7503469\ttotal: 4.39s\tremaining: 2.62s\n",
      "626:\tlearn: 0.7503448\ttotal: 4.4s\tremaining: 2.62s\n",
      "627:\tlearn: 0.7503435\ttotal: 4.41s\tremaining: 2.61s\n",
      "628:\tlearn: 0.7503428\ttotal: 4.42s\tremaining: 2.6s\n",
      "629:\tlearn: 0.7503407\ttotal: 4.42s\tremaining: 2.6s\n",
      "630:\tlearn: 0.7503395\ttotal: 4.43s\tremaining: 2.59s\n",
      "631:\tlearn: 0.7503384\ttotal: 4.44s\tremaining: 2.58s\n",
      "632:\tlearn: 0.7503365\ttotal: 4.45s\tremaining: 2.58s\n",
      "633:\tlearn: 0.7503354\ttotal: 4.46s\tremaining: 2.57s\n",
      "634:\tlearn: 0.7503342\ttotal: 4.47s\tremaining: 2.57s\n",
      "635:\tlearn: 0.7503334\ttotal: 4.47s\tremaining: 2.56s\n",
      "636:\tlearn: 0.7503327\ttotal: 4.48s\tremaining: 2.55s\n",
      "637:\tlearn: 0.7503300\ttotal: 4.49s\tremaining: 2.55s\n",
      "638:\tlearn: 0.7503294\ttotal: 4.5s\tremaining: 2.54s\n",
      "639:\tlearn: 0.7503277\ttotal: 4.51s\tremaining: 2.53s\n",
      "640:\tlearn: 0.7503269\ttotal: 4.51s\tremaining: 2.53s\n",
      "641:\tlearn: 0.7503265\ttotal: 4.52s\tremaining: 2.52s\n",
      "642:\tlearn: 0.7503238\ttotal: 4.53s\tremaining: 2.52s\n",
      "643:\tlearn: 0.7503231\ttotal: 4.54s\tremaining: 2.51s\n",
      "644:\tlearn: 0.7503220\ttotal: 4.55s\tremaining: 2.5s\n",
      "645:\tlearn: 0.7503202\ttotal: 4.56s\tremaining: 2.5s\n",
      "646:\tlearn: 0.7503193\ttotal: 4.57s\tremaining: 2.49s\n",
      "647:\tlearn: 0.7503190\ttotal: 4.57s\tremaining: 2.48s\n",
      "648:\tlearn: 0.7503177\ttotal: 4.58s\tremaining: 2.48s\n",
      "649:\tlearn: 0.7503168\ttotal: 4.59s\tremaining: 2.47s\n",
      "650:\tlearn: 0.7503159\ttotal: 4.6s\tremaining: 2.46s\n",
      "651:\tlearn: 0.7503156\ttotal: 4.61s\tremaining: 2.46s\n",
      "652:\tlearn: 0.7503142\ttotal: 4.62s\tremaining: 2.45s\n",
      "653:\tlearn: 0.7503119\ttotal: 4.62s\tremaining: 2.44s\n",
      "654:\tlearn: 0.7503111\ttotal: 4.63s\tremaining: 2.44s\n",
      "655:\tlearn: 0.7503097\ttotal: 4.64s\tremaining: 2.43s\n",
      "656:\tlearn: 0.7503090\ttotal: 4.65s\tremaining: 2.43s\n",
      "657:\tlearn: 0.7503084\ttotal: 4.66s\tremaining: 2.42s\n",
      "658:\tlearn: 0.7503056\ttotal: 4.67s\tremaining: 2.41s\n",
      "659:\tlearn: 0.7503053\ttotal: 4.67s\tremaining: 2.41s\n",
      "660:\tlearn: 0.7503029\ttotal: 4.68s\tremaining: 2.4s\n",
      "661:\tlearn: 0.7502999\ttotal: 4.69s\tremaining: 2.39s\n",
      "662:\tlearn: 0.7502991\ttotal: 4.7s\tremaining: 2.39s\n",
      "663:\tlearn: 0.7502984\ttotal: 4.71s\tremaining: 2.38s\n",
      "664:\tlearn: 0.7502953\ttotal: 4.72s\tremaining: 2.38s\n",
      "665:\tlearn: 0.7502934\ttotal: 4.73s\tremaining: 2.37s\n",
      "666:\tlearn: 0.7502923\ttotal: 4.73s\tremaining: 2.36s\n",
      "667:\tlearn: 0.7502909\ttotal: 4.74s\tremaining: 2.36s\n",
      "668:\tlearn: 0.7502898\ttotal: 4.75s\tremaining: 2.35s\n",
      "669:\tlearn: 0.7502888\ttotal: 4.76s\tremaining: 2.35s\n",
      "670:\tlearn: 0.7502882\ttotal: 4.77s\tremaining: 2.34s\n",
      "671:\tlearn: 0.7502866\ttotal: 4.78s\tremaining: 2.33s\n",
      "672:\tlearn: 0.7502860\ttotal: 4.79s\tremaining: 2.33s\n",
      "673:\tlearn: 0.7502850\ttotal: 4.79s\tremaining: 2.32s\n",
      "674:\tlearn: 0.7502831\ttotal: 4.8s\tremaining: 2.31s\n",
      "675:\tlearn: 0.7502811\ttotal: 4.81s\tremaining: 2.31s\n",
      "676:\tlearn: 0.7502795\ttotal: 4.82s\tremaining: 2.3s\n",
      "677:\tlearn: 0.7502782\ttotal: 4.83s\tremaining: 2.29s\n",
      "678:\tlearn: 0.7502773\ttotal: 4.83s\tremaining: 2.29s\n",
      "679:\tlearn: 0.7502753\ttotal: 4.84s\tremaining: 2.28s\n",
      "680:\tlearn: 0.7502745\ttotal: 4.86s\tremaining: 2.27s\n",
      "681:\tlearn: 0.7502738\ttotal: 4.86s\tremaining: 2.27s\n",
      "682:\tlearn: 0.7502733\ttotal: 4.87s\tremaining: 2.26s\n",
      "683:\tlearn: 0.7502709\ttotal: 4.88s\tremaining: 2.25s\n",
      "684:\tlearn: 0.7502702\ttotal: 4.89s\tremaining: 2.25s\n",
      "685:\tlearn: 0.7502696\ttotal: 4.89s\tremaining: 2.24s\n",
      "686:\tlearn: 0.7502690\ttotal: 4.9s\tremaining: 2.23s\n",
      "687:\tlearn: 0.7502675\ttotal: 4.91s\tremaining: 2.23s\n",
      "688:\tlearn: 0.7502649\ttotal: 4.92s\tremaining: 2.22s\n",
      "689:\tlearn: 0.7502623\ttotal: 4.93s\tremaining: 2.21s\n",
      "690:\tlearn: 0.7502616\ttotal: 4.94s\tremaining: 2.21s\n",
      "691:\tlearn: 0.7502609\ttotal: 4.95s\tremaining: 2.2s\n",
      "692:\tlearn: 0.7502600\ttotal: 4.96s\tremaining: 2.19s\n",
      "693:\tlearn: 0.7502597\ttotal: 4.96s\tremaining: 2.19s\n",
      "694:\tlearn: 0.7502575\ttotal: 4.97s\tremaining: 2.18s\n",
      "695:\tlearn: 0.7502563\ttotal: 4.98s\tremaining: 2.17s\n",
      "696:\tlearn: 0.7502541\ttotal: 4.99s\tremaining: 2.17s\n"
     ]
    },
    {
     "name": "stdout",
     "output_type": "stream",
     "text": [
      "697:\tlearn: 0.7502533\ttotal: 5s\tremaining: 2.16s\n",
      "698:\tlearn: 0.7502523\ttotal: 5s\tremaining: 2.15s\n",
      "699:\tlearn: 0.7502505\ttotal: 5.01s\tremaining: 2.15s\n",
      "700:\tlearn: 0.7502494\ttotal: 5.02s\tremaining: 2.14s\n",
      "701:\tlearn: 0.7502484\ttotal: 5.03s\tremaining: 2.13s\n",
      "702:\tlearn: 0.7502478\ttotal: 5.04s\tremaining: 2.13s\n",
      "703:\tlearn: 0.7502466\ttotal: 5.05s\tremaining: 2.12s\n",
      "704:\tlearn: 0.7502462\ttotal: 5.06s\tremaining: 2.12s\n",
      "705:\tlearn: 0.7502455\ttotal: 5.06s\tremaining: 2.11s\n",
      "706:\tlearn: 0.7502434\ttotal: 5.07s\tremaining: 2.1s\n",
      "707:\tlearn: 0.7502413\ttotal: 5.08s\tremaining: 2.1s\n",
      "708:\tlearn: 0.7502403\ttotal: 5.09s\tremaining: 2.09s\n",
      "709:\tlearn: 0.7502396\ttotal: 5.1s\tremaining: 2.08s\n",
      "710:\tlearn: 0.7502391\ttotal: 5.11s\tremaining: 2.08s\n",
      "711:\tlearn: 0.7502375\ttotal: 5.11s\tremaining: 2.07s\n",
      "712:\tlearn: 0.7502362\ttotal: 5.12s\tremaining: 2.06s\n",
      "713:\tlearn: 0.7502339\ttotal: 5.13s\tremaining: 2.06s\n",
      "714:\tlearn: 0.7502331\ttotal: 5.14s\tremaining: 2.05s\n",
      "715:\tlearn: 0.7502308\ttotal: 5.15s\tremaining: 2.04s\n",
      "716:\tlearn: 0.7502287\ttotal: 5.16s\tremaining: 2.04s\n",
      "717:\tlearn: 0.7502278\ttotal: 5.16s\tremaining: 2.03s\n",
      "718:\tlearn: 0.7502263\ttotal: 5.17s\tremaining: 2.02s\n",
      "719:\tlearn: 0.7502252\ttotal: 5.18s\tremaining: 2.01s\n",
      "720:\tlearn: 0.7502248\ttotal: 5.19s\tremaining: 2.01s\n",
      "721:\tlearn: 0.7502244\ttotal: 5.2s\tremaining: 2s\n",
      "722:\tlearn: 0.7502237\ttotal: 5.21s\tremaining: 1.99s\n",
      "723:\tlearn: 0.7502234\ttotal: 5.21s\tremaining: 1.99s\n",
      "724:\tlearn: 0.7502226\ttotal: 5.22s\tremaining: 1.98s\n",
      "725:\tlearn: 0.7502221\ttotal: 5.23s\tremaining: 1.97s\n",
      "726:\tlearn: 0.7502202\ttotal: 5.24s\tremaining: 1.97s\n",
      "727:\tlearn: 0.7502196\ttotal: 5.25s\tremaining: 1.96s\n",
      "728:\tlearn: 0.7502177\ttotal: 5.26s\tremaining: 1.95s\n",
      "729:\tlearn: 0.7502155\ttotal: 5.27s\tremaining: 1.95s\n",
      "730:\tlearn: 0.7502148\ttotal: 5.28s\tremaining: 1.94s\n",
      "731:\tlearn: 0.7502143\ttotal: 5.28s\tremaining: 1.93s\n",
      "732:\tlearn: 0.7502123\ttotal: 5.29s\tremaining: 1.93s\n",
      "733:\tlearn: 0.7502120\ttotal: 5.3s\tremaining: 1.92s\n",
      "734:\tlearn: 0.7502092\ttotal: 5.31s\tremaining: 1.91s\n",
      "735:\tlearn: 0.7502079\ttotal: 5.32s\tremaining: 1.91s\n",
      "736:\tlearn: 0.7502071\ttotal: 5.33s\tremaining: 1.9s\n",
      "737:\tlearn: 0.7502067\ttotal: 5.33s\tremaining: 1.89s\n",
      "738:\tlearn: 0.7502054\ttotal: 5.34s\tremaining: 1.89s\n",
      "739:\tlearn: 0.7502051\ttotal: 5.35s\tremaining: 1.88s\n",
      "740:\tlearn: 0.7502041\ttotal: 5.36s\tremaining: 1.87s\n",
      "741:\tlearn: 0.7502027\ttotal: 5.37s\tremaining: 1.87s\n",
      "742:\tlearn: 0.7502022\ttotal: 5.38s\tremaining: 1.86s\n",
      "743:\tlearn: 0.7502017\ttotal: 5.38s\tremaining: 1.85s\n",
      "744:\tlearn: 0.7502010\ttotal: 5.39s\tremaining: 1.85s\n",
      "745:\tlearn: 0.7502007\ttotal: 5.4s\tremaining: 1.84s\n",
      "746:\tlearn: 0.7502004\ttotal: 5.41s\tremaining: 1.83s\n",
      "747:\tlearn: 0.7501979\ttotal: 5.42s\tremaining: 1.82s\n",
      "748:\tlearn: 0.7501973\ttotal: 5.43s\tremaining: 1.82s\n",
      "749:\tlearn: 0.7501971\ttotal: 5.44s\tremaining: 1.81s\n",
      "750:\tlearn: 0.7501951\ttotal: 5.45s\tremaining: 1.8s\n",
      "751:\tlearn: 0.7501945\ttotal: 5.45s\tremaining: 1.8s\n",
      "752:\tlearn: 0.7501941\ttotal: 5.46s\tremaining: 1.79s\n",
      "753:\tlearn: 0.7501922\ttotal: 5.47s\tremaining: 1.78s\n",
      "754:\tlearn: 0.7501916\ttotal: 5.48s\tremaining: 1.78s\n",
      "755:\tlearn: 0.7501909\ttotal: 5.49s\tremaining: 1.77s\n",
      "756:\tlearn: 0.7501887\ttotal: 5.5s\tremaining: 1.76s\n",
      "757:\tlearn: 0.7501861\ttotal: 5.5s\tremaining: 1.76s\n",
      "758:\tlearn: 0.7501845\ttotal: 5.51s\tremaining: 1.75s\n",
      "759:\tlearn: 0.7501837\ttotal: 5.52s\tremaining: 1.74s\n",
      "760:\tlearn: 0.7501830\ttotal: 5.53s\tremaining: 1.74s\n",
      "761:\tlearn: 0.7501825\ttotal: 5.54s\tremaining: 1.73s\n",
      "762:\tlearn: 0.7501805\ttotal: 5.54s\tremaining: 1.72s\n",
      "763:\tlearn: 0.7501801\ttotal: 5.55s\tremaining: 1.72s\n",
      "764:\tlearn: 0.7501789\ttotal: 5.56s\tremaining: 1.71s\n",
      "765:\tlearn: 0.7501782\ttotal: 5.57s\tremaining: 1.7s\n",
      "766:\tlearn: 0.7501761\ttotal: 5.58s\tremaining: 1.7s\n",
      "767:\tlearn: 0.7501746\ttotal: 5.59s\tremaining: 1.69s\n",
      "768:\tlearn: 0.7501736\ttotal: 5.6s\tremaining: 1.68s\n",
      "769:\tlearn: 0.7501728\ttotal: 5.61s\tremaining: 1.67s\n",
      "770:\tlearn: 0.7501724\ttotal: 5.61s\tremaining: 1.67s\n",
      "771:\tlearn: 0.7501707\ttotal: 5.62s\tremaining: 1.66s\n",
      "772:\tlearn: 0.7501674\ttotal: 5.63s\tremaining: 1.65s\n",
      "773:\tlearn: 0.7501666\ttotal: 5.64s\tremaining: 1.65s\n",
      "774:\tlearn: 0.7501662\ttotal: 5.65s\tremaining: 1.64s\n",
      "775:\tlearn: 0.7501645\ttotal: 5.66s\tremaining: 1.63s\n",
      "776:\tlearn: 0.7501640\ttotal: 5.67s\tremaining: 1.63s\n",
      "777:\tlearn: 0.7501634\ttotal: 5.67s\tremaining: 1.62s\n",
      "778:\tlearn: 0.7501623\ttotal: 5.68s\tremaining: 1.61s\n",
      "779:\tlearn: 0.7501606\ttotal: 5.69s\tremaining: 1.6s\n",
      "780:\tlearn: 0.7501600\ttotal: 5.7s\tremaining: 1.6s\n",
      "781:\tlearn: 0.7501593\ttotal: 5.71s\tremaining: 1.59s\n",
      "782:\tlearn: 0.7501587\ttotal: 5.71s\tremaining: 1.58s\n",
      "783:\tlearn: 0.7501576\ttotal: 5.72s\tremaining: 1.58s\n",
      "784:\tlearn: 0.7501569\ttotal: 5.73s\tremaining: 1.57s\n",
      "785:\tlearn: 0.7501564\ttotal: 5.74s\tremaining: 1.56s\n",
      "786:\tlearn: 0.7501553\ttotal: 5.75s\tremaining: 1.56s\n",
      "787:\tlearn: 0.7501541\ttotal: 5.76s\tremaining: 1.55s\n",
      "788:\tlearn: 0.7501539\ttotal: 5.77s\tremaining: 1.54s\n",
      "789:\tlearn: 0.7501532\ttotal: 5.78s\tremaining: 1.53s\n",
      "790:\tlearn: 0.7501515\ttotal: 5.79s\tremaining: 1.53s\n",
      "791:\tlearn: 0.7501505\ttotal: 5.79s\tremaining: 1.52s\n",
      "792:\tlearn: 0.7501491\ttotal: 5.8s\tremaining: 1.51s\n",
      "793:\tlearn: 0.7501484\ttotal: 5.81s\tremaining: 1.51s\n",
      "794:\tlearn: 0.7501472\ttotal: 5.82s\tremaining: 1.5s\n",
      "795:\tlearn: 0.7501464\ttotal: 5.83s\tremaining: 1.49s\n",
      "796:\tlearn: 0.7501455\ttotal: 5.84s\tremaining: 1.49s\n",
      "797:\tlearn: 0.7501453\ttotal: 5.85s\tremaining: 1.48s\n",
      "798:\tlearn: 0.7501446\ttotal: 5.86s\tremaining: 1.47s\n",
      "799:\tlearn: 0.7501443\ttotal: 5.86s\tremaining: 1.47s\n",
      "800:\tlearn: 0.7501440\ttotal: 5.87s\tremaining: 1.46s\n",
      "801:\tlearn: 0.7501434\ttotal: 5.88s\tremaining: 1.45s\n",
      "802:\tlearn: 0.7501432\ttotal: 5.89s\tremaining: 1.44s\n",
      "803:\tlearn: 0.7501412\ttotal: 5.9s\tremaining: 1.44s\n",
      "804:\tlearn: 0.7501394\ttotal: 5.91s\tremaining: 1.43s\n",
      "805:\tlearn: 0.7501376\ttotal: 5.92s\tremaining: 1.42s\n",
      "806:\tlearn: 0.7501370\ttotal: 5.92s\tremaining: 1.42s\n",
      "807:\tlearn: 0.7501367\ttotal: 5.93s\tremaining: 1.41s\n",
      "808:\tlearn: 0.7501357\ttotal: 5.94s\tremaining: 1.4s\n",
      "809:\tlearn: 0.7501350\ttotal: 5.95s\tremaining: 1.4s\n",
      "810:\tlearn: 0.7501346\ttotal: 5.96s\tremaining: 1.39s\n",
      "811:\tlearn: 0.7501339\ttotal: 5.97s\tremaining: 1.38s\n",
      "812:\tlearn: 0.7501326\ttotal: 5.97s\tremaining: 1.37s\n",
      "813:\tlearn: 0.7501305\ttotal: 5.98s\tremaining: 1.37s\n",
      "814:\tlearn: 0.7501297\ttotal: 5.99s\tremaining: 1.36s\n",
      "815:\tlearn: 0.7501292\ttotal: 6s\tremaining: 1.35s\n",
      "816:\tlearn: 0.7501290\ttotal: 6.01s\tremaining: 1.34s\n",
      "817:\tlearn: 0.7501283\ttotal: 6.02s\tremaining: 1.34s\n",
      "818:\tlearn: 0.7501273\ttotal: 6.03s\tremaining: 1.33s\n",
      "819:\tlearn: 0.7501259\ttotal: 6.04s\tremaining: 1.32s\n",
      "820:\tlearn: 0.7501255\ttotal: 6.04s\tremaining: 1.32s\n",
      "821:\tlearn: 0.7501235\ttotal: 6.05s\tremaining: 1.31s\n",
      "822:\tlearn: 0.7501235\ttotal: 6.06s\tremaining: 1.3s\n",
      "823:\tlearn: 0.7501218\ttotal: 6.07s\tremaining: 1.3s\n",
      "824:\tlearn: 0.7501198\ttotal: 6.08s\tremaining: 1.29s\n",
      "825:\tlearn: 0.7501191\ttotal: 6.09s\tremaining: 1.28s\n",
      "826:\tlearn: 0.7501183\ttotal: 6.09s\tremaining: 1.27s\n",
      "827:\tlearn: 0.7501176\ttotal: 6.1s\tremaining: 1.27s\n",
      "828:\tlearn: 0.7501170\ttotal: 6.11s\tremaining: 1.26s\n",
      "829:\tlearn: 0.7501162\ttotal: 6.12s\tremaining: 1.25s\n",
      "830:\tlearn: 0.7501156\ttotal: 6.13s\tremaining: 1.25s\n",
      "831:\tlearn: 0.7501148\ttotal: 6.14s\tremaining: 1.24s\n",
      "832:\tlearn: 0.7501145\ttotal: 6.15s\tremaining: 1.23s\n",
      "833:\tlearn: 0.7501130\ttotal: 6.15s\tremaining: 1.23s\n",
      "834:\tlearn: 0.7501128\ttotal: 6.16s\tremaining: 1.22s\n",
      "835:\tlearn: 0.7501117\ttotal: 6.17s\tremaining: 1.21s\n",
      "836:\tlearn: 0.7501105\ttotal: 6.18s\tremaining: 1.2s\n",
      "837:\tlearn: 0.7501086\ttotal: 6.19s\tremaining: 1.2s\n",
      "838:\tlearn: 0.7501074\ttotal: 6.2s\tremaining: 1.19s\n",
      "839:\tlearn: 0.7501070\ttotal: 6.21s\tremaining: 1.18s\n",
      "840:\tlearn: 0.7501065\ttotal: 6.22s\tremaining: 1.18s\n",
      "841:\tlearn: 0.7501058\ttotal: 6.22s\tremaining: 1.17s\n",
      "842:\tlearn: 0.7501054\ttotal: 6.23s\tremaining: 1.16s\n",
      "843:\tlearn: 0.7501050\ttotal: 6.24s\tremaining: 1.15s\n",
      "844:\tlearn: 0.7501049\ttotal: 6.25s\tremaining: 1.15s\n",
      "845:\tlearn: 0.7501041\ttotal: 6.26s\tremaining: 1.14s\n",
      "846:\tlearn: 0.7501037\ttotal: 6.27s\tremaining: 1.13s\n",
      "847:\tlearn: 0.7501027\ttotal: 6.28s\tremaining: 1.12s\n",
      "848:\tlearn: 0.7501019\ttotal: 6.28s\tremaining: 1.12s\n",
      "849:\tlearn: 0.7501004\ttotal: 6.29s\tremaining: 1.11s\n",
      "850:\tlearn: 0.7500995\ttotal: 6.3s\tremaining: 1.1s\n",
      "851:\tlearn: 0.7500991\ttotal: 6.31s\tremaining: 1.1s\n",
      "852:\tlearn: 0.7500986\ttotal: 6.32s\tremaining: 1.09s\n",
      "853:\tlearn: 0.7500976\ttotal: 6.33s\tremaining: 1.08s\n",
      "854:\tlearn: 0.7500974\ttotal: 6.34s\tremaining: 1.07s\n",
      "855:\tlearn: 0.7500969\ttotal: 6.35s\tremaining: 1.07s\n",
      "856:\tlearn: 0.7500957\ttotal: 6.35s\tremaining: 1.06s\n",
      "857:\tlearn: 0.7500949\ttotal: 6.36s\tremaining: 1.05s\n",
      "858:\tlearn: 0.7500940\ttotal: 6.37s\tremaining: 1.04s\n",
      "859:\tlearn: 0.7500932\ttotal: 6.38s\tremaining: 1.04s\n",
      "860:\tlearn: 0.7500921\ttotal: 6.39s\tremaining: 1.03s\n",
      "861:\tlearn: 0.7500903\ttotal: 6.4s\tremaining: 1.02s\n",
      "862:\tlearn: 0.7500900\ttotal: 6.41s\tremaining: 1.02s\n",
      "863:\tlearn: 0.7500897\ttotal: 6.41s\tremaining: 1.01s\n",
      "864:\tlearn: 0.7500887\ttotal: 6.42s\tremaining: 1s\n",
      "865:\tlearn: 0.7500874\ttotal: 6.43s\tremaining: 995ms\n",
      "866:\tlearn: 0.7500869\ttotal: 6.44s\tremaining: 988ms\n",
      "867:\tlearn: 0.7500856\ttotal: 6.45s\tremaining: 981ms\n"
     ]
    },
    {
     "name": "stdout",
     "output_type": "stream",
     "text": [
      "868:\tlearn: 0.7500850\ttotal: 6.46s\tremaining: 973ms\n",
      "869:\tlearn: 0.7500849\ttotal: 6.46s\tremaining: 966ms\n",
      "870:\tlearn: 0.7500836\ttotal: 6.47s\tremaining: 959ms\n",
      "871:\tlearn: 0.7500833\ttotal: 6.48s\tremaining: 952ms\n",
      "872:\tlearn: 0.7500824\ttotal: 6.49s\tremaining: 944ms\n",
      "873:\tlearn: 0.7500820\ttotal: 6.5s\tremaining: 937ms\n",
      "874:\tlearn: 0.7500815\ttotal: 6.51s\tremaining: 930ms\n",
      "875:\tlearn: 0.7500811\ttotal: 6.52s\tremaining: 923ms\n",
      "876:\tlearn: 0.7500797\ttotal: 6.53s\tremaining: 915ms\n",
      "877:\tlearn: 0.7500796\ttotal: 6.53s\tremaining: 908ms\n",
      "878:\tlearn: 0.7500790\ttotal: 6.54s\tremaining: 901ms\n",
      "879:\tlearn: 0.7500784\ttotal: 6.55s\tremaining: 894ms\n",
      "880:\tlearn: 0.7500782\ttotal: 6.56s\tremaining: 886ms\n",
      "881:\tlearn: 0.7500777\ttotal: 6.57s\tremaining: 879ms\n",
      "882:\tlearn: 0.7500761\ttotal: 6.58s\tremaining: 872ms\n",
      "883:\tlearn: 0.7500749\ttotal: 6.59s\tremaining: 864ms\n",
      "884:\tlearn: 0.7500742\ttotal: 6.59s\tremaining: 857ms\n",
      "885:\tlearn: 0.7500738\ttotal: 6.6s\tremaining: 850ms\n",
      "886:\tlearn: 0.7500733\ttotal: 6.61s\tremaining: 843ms\n",
      "887:\tlearn: 0.7500728\ttotal: 6.62s\tremaining: 835ms\n",
      "888:\tlearn: 0.7500721\ttotal: 6.63s\tremaining: 828ms\n",
      "889:\tlearn: 0.7500716\ttotal: 6.64s\tremaining: 821ms\n",
      "890:\tlearn: 0.7500714\ttotal: 6.65s\tremaining: 813ms\n",
      "891:\tlearn: 0.7500701\ttotal: 6.66s\tremaining: 806ms\n",
      "892:\tlearn: 0.7500698\ttotal: 6.67s\tremaining: 799ms\n",
      "893:\tlearn: 0.7500693\ttotal: 6.67s\tremaining: 791ms\n",
      "894:\tlearn: 0.7500688\ttotal: 6.68s\tremaining: 784ms\n",
      "895:\tlearn: 0.7500677\ttotal: 6.69s\tremaining: 777ms\n",
      "896:\tlearn: 0.7500671\ttotal: 6.7s\tremaining: 769ms\n",
      "897:\tlearn: 0.7500667\ttotal: 6.71s\tremaining: 762ms\n",
      "898:\tlearn: 0.7500657\ttotal: 6.72s\tremaining: 755ms\n",
      "899:\tlearn: 0.7500648\ttotal: 6.73s\tremaining: 747ms\n",
      "900:\tlearn: 0.7500648\ttotal: 6.74s\tremaining: 740ms\n",
      "901:\tlearn: 0.7500645\ttotal: 6.75s\tremaining: 733ms\n",
      "902:\tlearn: 0.7500640\ttotal: 6.75s\tremaining: 726ms\n",
      "903:\tlearn: 0.7500635\ttotal: 6.76s\tremaining: 718ms\n",
      "904:\tlearn: 0.7500632\ttotal: 6.77s\tremaining: 711ms\n",
      "905:\tlearn: 0.7500628\ttotal: 6.78s\tremaining: 703ms\n",
      "906:\tlearn: 0.7500624\ttotal: 6.79s\tremaining: 696ms\n",
      "907:\tlearn: 0.7500621\ttotal: 6.79s\tremaining: 689ms\n",
      "908:\tlearn: 0.7500615\ttotal: 6.8s\tremaining: 681ms\n",
      "909:\tlearn: 0.7500609\ttotal: 6.81s\tremaining: 674ms\n",
      "910:\tlearn: 0.7500606\ttotal: 6.82s\tremaining: 667ms\n",
      "911:\tlearn: 0.7500601\ttotal: 6.83s\tremaining: 659ms\n",
      "912:\tlearn: 0.7500597\ttotal: 6.84s\tremaining: 652ms\n",
      "913:\tlearn: 0.7500581\ttotal: 6.85s\tremaining: 644ms\n",
      "914:\tlearn: 0.7500575\ttotal: 6.86s\tremaining: 637ms\n",
      "915:\tlearn: 0.7500561\ttotal: 6.87s\tremaining: 630ms\n",
      "916:\tlearn: 0.7500556\ttotal: 6.87s\tremaining: 622ms\n",
      "917:\tlearn: 0.7500552\ttotal: 6.88s\tremaining: 615ms\n",
      "918:\tlearn: 0.7500548\ttotal: 6.89s\tremaining: 608ms\n",
      "919:\tlearn: 0.7500544\ttotal: 6.9s\tremaining: 600ms\n",
      "920:\tlearn: 0.7500540\ttotal: 6.91s\tremaining: 593ms\n",
      "921:\tlearn: 0.7500537\ttotal: 6.92s\tremaining: 585ms\n",
      "922:\tlearn: 0.7500535\ttotal: 6.93s\tremaining: 578ms\n",
      "923:\tlearn: 0.7500532\ttotal: 6.94s\tremaining: 571ms\n",
      "924:\tlearn: 0.7500528\ttotal: 6.95s\tremaining: 563ms\n",
      "925:\tlearn: 0.7500528\ttotal: 6.95s\tremaining: 556ms\n",
      "926:\tlearn: 0.7500517\ttotal: 6.96s\tremaining: 548ms\n",
      "927:\tlearn: 0.7500514\ttotal: 6.97s\tremaining: 541ms\n",
      "928:\tlearn: 0.7500507\ttotal: 6.98s\tremaining: 533ms\n",
      "929:\tlearn: 0.7500485\ttotal: 6.99s\tremaining: 526ms\n",
      "930:\tlearn: 0.7500481\ttotal: 7s\tremaining: 519ms\n",
      "931:\tlearn: 0.7500469\ttotal: 7.01s\tremaining: 511ms\n",
      "932:\tlearn: 0.7500453\ttotal: 7.01s\tremaining: 504ms\n",
      "933:\tlearn: 0.7500450\ttotal: 7.02s\tremaining: 496ms\n",
      "934:\tlearn: 0.7500445\ttotal: 7.03s\tremaining: 489ms\n",
      "935:\tlearn: 0.7500442\ttotal: 7.04s\tremaining: 481ms\n",
      "936:\tlearn: 0.7500437\ttotal: 7.05s\tremaining: 474ms\n",
      "937:\tlearn: 0.7500434\ttotal: 7.06s\tremaining: 467ms\n",
      "938:\tlearn: 0.7500417\ttotal: 7.07s\tremaining: 459ms\n",
      "939:\tlearn: 0.7500415\ttotal: 7.08s\tremaining: 452ms\n",
      "940:\tlearn: 0.7500411\ttotal: 7.08s\tremaining: 444ms\n",
      "941:\tlearn: 0.7500407\ttotal: 7.09s\tremaining: 437ms\n",
      "942:\tlearn: 0.7500399\ttotal: 7.1s\tremaining: 429ms\n",
      "943:\tlearn: 0.7500391\ttotal: 7.11s\tremaining: 422ms\n",
      "944:\tlearn: 0.7500387\ttotal: 7.12s\tremaining: 414ms\n",
      "945:\tlearn: 0.7500385\ttotal: 7.13s\tremaining: 407ms\n",
      "946:\tlearn: 0.7500377\ttotal: 7.14s\tremaining: 399ms\n",
      "947:\tlearn: 0.7500373\ttotal: 7.15s\tremaining: 392ms\n",
      "948:\tlearn: 0.7500358\ttotal: 7.16s\tremaining: 385ms\n",
      "949:\tlearn: 0.7500357\ttotal: 7.17s\tremaining: 377ms\n",
      "950:\tlearn: 0.7500352\ttotal: 7.17s\tremaining: 370ms\n",
      "951:\tlearn: 0.7500336\ttotal: 7.18s\tremaining: 362ms\n",
      "952:\tlearn: 0.7500332\ttotal: 7.19s\tremaining: 355ms\n",
      "953:\tlearn: 0.7500328\ttotal: 7.2s\tremaining: 347ms\n",
      "954:\tlearn: 0.7500320\ttotal: 7.21s\tremaining: 340ms\n",
      "955:\tlearn: 0.7500307\ttotal: 7.22s\tremaining: 332ms\n",
      "956:\tlearn: 0.7500296\ttotal: 7.23s\tremaining: 325ms\n",
      "957:\tlearn: 0.7500294\ttotal: 7.24s\tremaining: 317ms\n",
      "958:\tlearn: 0.7500291\ttotal: 7.24s\tremaining: 310ms\n",
      "959:\tlearn: 0.7500288\ttotal: 7.25s\tremaining: 302ms\n",
      "960:\tlearn: 0.7500283\ttotal: 7.26s\tremaining: 295ms\n",
      "961:\tlearn: 0.7500280\ttotal: 7.27s\tremaining: 287ms\n",
      "962:\tlearn: 0.7500277\ttotal: 7.28s\tremaining: 280ms\n",
      "963:\tlearn: 0.7500275\ttotal: 7.29s\tremaining: 272ms\n",
      "964:\tlearn: 0.7500271\ttotal: 7.29s\tremaining: 265ms\n",
      "965:\tlearn: 0.7500263\ttotal: 7.3s\tremaining: 257ms\n",
      "966:\tlearn: 0.7500250\ttotal: 7.31s\tremaining: 250ms\n",
      "967:\tlearn: 0.7500237\ttotal: 7.32s\tremaining: 242ms\n",
      "968:\tlearn: 0.7500233\ttotal: 7.33s\tremaining: 235ms\n",
      "969:\tlearn: 0.7500226\ttotal: 7.34s\tremaining: 227ms\n",
      "970:\tlearn: 0.7500215\ttotal: 7.35s\tremaining: 219ms\n",
      "971:\tlearn: 0.7500211\ttotal: 7.36s\tremaining: 212ms\n",
      "972:\tlearn: 0.7500204\ttotal: 7.37s\tremaining: 204ms\n",
      "973:\tlearn: 0.7500201\ttotal: 7.38s\tremaining: 197ms\n",
      "974:\tlearn: 0.7500195\ttotal: 7.38s\tremaining: 189ms\n",
      "975:\tlearn: 0.7500193\ttotal: 7.39s\tremaining: 182ms\n",
      "976:\tlearn: 0.7500173\ttotal: 7.4s\tremaining: 174ms\n",
      "977:\tlearn: 0.7500171\ttotal: 7.41s\tremaining: 167ms\n",
      "978:\tlearn: 0.7500165\ttotal: 7.42s\tremaining: 159ms\n",
      "979:\tlearn: 0.7500160\ttotal: 7.43s\tremaining: 152ms\n",
      "980:\tlearn: 0.7500155\ttotal: 7.44s\tremaining: 144ms\n",
      "981:\tlearn: 0.7500152\ttotal: 7.45s\tremaining: 137ms\n",
      "982:\tlearn: 0.7500147\ttotal: 7.46s\tremaining: 129ms\n",
      "983:\tlearn: 0.7500143\ttotal: 7.46s\tremaining: 121ms\n",
      "984:\tlearn: 0.7500124\ttotal: 7.47s\tremaining: 114ms\n",
      "985:\tlearn: 0.7500122\ttotal: 7.48s\tremaining: 106ms\n",
      "986:\tlearn: 0.7500115\ttotal: 7.49s\tremaining: 98.7ms\n",
      "987:\tlearn: 0.7500112\ttotal: 7.5s\tremaining: 91.1ms\n",
      "988:\tlearn: 0.7500108\ttotal: 7.51s\tremaining: 83.5ms\n",
      "989:\tlearn: 0.7500098\ttotal: 7.52s\tremaining: 75.9ms\n",
      "990:\tlearn: 0.7500098\ttotal: 7.53s\tremaining: 68.4ms\n",
      "991:\tlearn: 0.7500094\ttotal: 7.54s\tremaining: 60.8ms\n",
      "992:\tlearn: 0.7500092\ttotal: 7.54s\tremaining: 53.2ms\n",
      "993:\tlearn: 0.7500089\ttotal: 7.55s\tremaining: 45.6ms\n",
      "994:\tlearn: 0.7500085\ttotal: 7.56s\tremaining: 38ms\n",
      "995:\tlearn: 0.7500082\ttotal: 7.57s\tremaining: 30.4ms\n",
      "996:\tlearn: 0.7500078\ttotal: 7.58s\tremaining: 22.8ms\n",
      "997:\tlearn: 0.7500075\ttotal: 7.59s\tremaining: 15.2ms\n",
      "998:\tlearn: 0.7500059\ttotal: 7.6s\tremaining: 7.61ms\n",
      "999:\tlearn: 0.7500055\ttotal: 7.61s\tremaining: 0us\n",
      "Stacking ensemble (ML+DNN): 10080\n",
      "[1]Accuracy : 62.15277777777778\n",
      "[1]F1score : 0.6042630665515515\n",
      "[1]Precision : 0.6317425968963254\n",
      "[1]Recall : 0.6215277777777778\n",
      "\n"
     ]
    },
    {
     "data": {
      "image/png": "[encoded data removed]",
      "text/plain": [
       "<Figure size 640x480 with 2 Axes>"
      ]
     },
     "metadata": {},
     "output_type": "display_data"
    },
    {
     "name": "stderr",
     "output_type": "stream",
     "text": [
      "100%|██████████████████████████████████████████████████████████████████████████████████| 10/10 [00:01<00:00,  8.81it/s]\n"
     ]
    },
    {
     "name": "stdout",
     "output_type": "stream",
     "text": [
      "[INFO] val_acc has been improved from 9999999999999.00000 to 0.76715. Saving Model!\n",
      "epoch 01, loss: 0.80248, acc: 0.62857, val_loss: 0.76715, val_accuracy: 0.62093\n"
     ]
    },
    {
     "name": "stderr",
     "output_type": "stream",
     "text": [
      "100%|██████████████████████████████████████████████████████████████████████████████████| 10/10 [00:01<00:00,  8.79it/s]\n"
     ]
    },
    {
     "name": "stdout",
     "output_type": "stream",
     "text": [
      "epoch 02, loss: 0.79320, acc: 0.63042, val_loss: 0.77628, val_accuracy: 0.61835\n"
     ]
    },
    {
     "name": "stderr",
     "output_type": "stream",
     "text": [
      "100%|██████████████████████████████████████████████████████████████████████████████████| 10/10 [00:01<00:00,  8.24it/s]\n"
     ]
    },
    {
     "name": "stdout",
     "output_type": "stream",
     "text": [
      "epoch 03, loss: 0.78768, acc: 0.63297, val_loss: 0.77957, val_accuracy: 0.62004\n"
     ]
    },
    {
     "name": "stderr",
     "output_type": "stream",
     "text": [
      "100%|██████████████████████████████████████████████████████████████████████████████████| 10/10 [00:01<00:00,  8.16it/s]\n"
     ]
    },
    {
     "name": "stdout",
     "output_type": "stream",
     "text": [
      "epoch 04, loss: 0.78355, acc: 0.63301, val_loss: 0.78206, val_accuracy: 0.61925\n"
     ]
    },
    {
     "name": "stderr",
     "output_type": "stream",
     "text": [
      "100%|██████████████████████████████████████████████████████████████████████████████████| 10/10 [00:01<00:00,  7.82it/s]\n"
     ]
    },
    {
     "name": "stdout",
     "output_type": "stream",
     "text": [
      "epoch 05, loss: 0.78028, acc: 0.63607, val_loss: 0.78490, val_accuracy: 0.61865\n"
     ]
    },
    {
     "name": "stderr",
     "output_type": "stream",
     "text": [
      "100%|██████████████████████████████████████████████████████████████████████████████████| 10/10 [00:01<00:00,  8.11it/s]\n"
     ]
    },
    {
     "name": "stdout",
     "output_type": "stream",
     "text": [
      "epoch 06, loss: 0.77803, acc: 0.63686, val_loss: 0.78717, val_accuracy: 0.61895\n"
     ]
    },
    {
     "name": "stderr",
     "output_type": "stream",
     "text": [
      "100%|██████████████████████████████████████████████████████████████████████████████████| 10/10 [00:01<00:00,  8.19it/s]\n"
     ]
    },
    {
     "name": "stdout",
     "output_type": "stream",
     "text": [
      "epoch 07, loss: 0.77702, acc: 0.63776, val_loss: 0.78882, val_accuracy: 0.61944\n"
     ]
    },
    {
     "name": "stderr",
     "output_type": "stream",
     "text": [
      "100%|██████████████████████████████████████████████████████████████████████████████████| 10/10 [00:01<00:00,  7.53it/s]\n"
     ]
    },
    {
     "name": "stdout",
     "output_type": "stream",
     "text": [
      "epoch 08, loss: 0.77541, acc: 0.63959, val_loss: 0.79089, val_accuracy: 0.61925\n"
     ]
    },
    {
     "name": "stderr",
     "output_type": "stream",
     "text": [
      "100%|██████████████████████████████████████████████████████████████████████████████████| 10/10 [00:01<00:00,  7.70it/s]\n"
     ]
    },
    {
     "name": "stdout",
     "output_type": "stream",
     "text": [
      "epoch 09, loss: 0.77504, acc: 0.63958, val_loss: 0.79250, val_accuracy: 0.62014\n"
     ]
    },
    {
     "name": "stderr",
     "output_type": "stream",
     "text": [
      "100%|██████████████████████████████████████████████████████████████████████████████████| 10/10 [00:01<00:00,  7.52it/s]\n"
     ]
    },
    {
     "name": "stdout",
     "output_type": "stream",
     "text": [
      "epoch 10, loss: 0.77341, acc: 0.64394, val_loss: 0.79403, val_accuracy: 0.62063\n"
     ]
    },
    {
     "name": "stderr",
     "output_type": "stream",
     "text": [
      "100%|██████████████████████████████████████████████████████████████████████████████████| 10/10 [00:01<00:00,  8.24it/s]\n"
     ]
    },
    {
     "name": "stdout",
     "output_type": "stream",
     "text": [
      "epoch 11, loss: 0.77410, acc: 0.64192, val_loss: 0.79568, val_accuracy: 0.62202\n"
     ]
    },
    {
     "name": "stderr",
     "output_type": "stream",
     "text": [
      "100%|██████████████████████████████████████████████████████████████████████████████████| 10/10 [00:01<00:00,  8.06it/s]\n"
     ]
    },
    {
     "name": "stdout",
     "output_type": "stream",
     "text": [
      "epoch 12, loss: 0.77223, acc: 0.64396, val_loss: 0.79659, val_accuracy: 0.62173\n"
     ]
    },
    {
     "name": "stderr",
     "output_type": "stream",
     "text": [
      "100%|██████████████████████████████████████████████████████████████████████████████████| 10/10 [00:01<00:00,  7.07it/s]\n"
     ]
    },
    {
     "name": "stdout",
     "output_type": "stream",
     "text": [
      "epoch 13, loss: 0.77244, acc: 0.64010, val_loss: 0.79789, val_accuracy: 0.62431\n"
     ]
    },
    {
     "name": "stderr",
     "output_type": "stream",
     "text": [
      "100%|██████████████████████████████████████████████████████████████████████████████████| 10/10 [00:01<00:00,  8.01it/s]\n"
     ]
    },
    {
     "name": "stdout",
     "output_type": "stream",
     "text": [
      "epoch 14, loss: 0.77086, acc: 0.64530, val_loss: 0.79898, val_accuracy: 0.62192\n"
     ]
    },
    {
     "name": "stderr",
     "output_type": "stream",
     "text": [
      "100%|██████████████████████████████████████████████████████████████████████████████████| 10/10 [00:01<00:00,  7.57it/s]\n"
     ]
    },
    {
     "name": "stdout",
     "output_type": "stream",
     "text": [
      "epoch 15, loss: 0.77071, acc: 0.64246, val_loss: 0.80126, val_accuracy: 0.62391\n"
     ]
    },
    {
     "name": "stderr",
     "output_type": "stream",
     "text": [
      "100%|██████████████████████████████████████████████████████████████████████████████████| 10/10 [00:01<00:00,  8.00it/s]\n"
     ]
    },
    {
     "name": "stdout",
     "output_type": "stream",
     "text": [
      "epoch 16, loss: 0.76981, acc: 0.64453, val_loss: 0.80130, val_accuracy: 0.62222\n"
     ]
    },
    {
     "name": "stderr",
     "output_type": "stream",
     "text": [
      "100%|██████████████████████████████████████████████████████████████████████████████████| 10/10 [00:01<00:00,  7.60it/s]\n"
     ]
    },
    {
     "name": "stdout",
     "output_type": "stream",
     "text": [
      "epoch 17, loss: 0.76803, acc: 0.64347, val_loss: 0.80346, val_accuracy: 0.62460\n"
     ]
    },
    {
     "name": "stderr",
     "output_type": "stream",
     "text": [
      "100%|██████████████████████████████████████████████████████████████████████████████████| 10/10 [00:01<00:00,  8.19it/s]\n"
     ]
    },
    {
     "name": "stdout",
     "output_type": "stream",
     "text": [
      "epoch 18, loss: 0.76776, acc: 0.64566, val_loss: 0.80411, val_accuracy: 0.62321\n"
     ]
    },
    {
     "name": "stderr",
     "output_type": "stream",
     "text": [
      "100%|██████████████████████████████████████████████████████████████████████████████████| 10/10 [00:01<00:00,  8.06it/s]\n"
     ]
    },
    {
     "name": "stdout",
     "output_type": "stream",
     "text": [
      "epoch 19, loss: 0.76541, acc: 0.64409, val_loss: 0.80645, val_accuracy: 0.62460\n"
     ]
    },
    {
     "name": "stderr",
     "output_type": "stream",
     "text": [
      "100%|██████████████████████████████████████████████████████████████████████████████████| 10/10 [00:01<00:00,  8.09it/s]\n"
     ]
    },
    {
     "name": "stdout",
     "output_type": "stream",
     "text": [
      "epoch 20, loss: 0.76567, acc: 0.64784, val_loss: 0.80610, val_accuracy: 0.62401\n"
     ]
    },
    {
     "name": "stderr",
     "output_type": "stream",
     "text": [
      "100%|██████████████████████████████████████████████████████████████████████████████████| 10/10 [00:01<00:00,  8.06it/s]\n"
     ]
    },
    {
     "name": "stdout",
     "output_type": "stream",
     "text": [
      "epoch 21, loss: 0.76264, acc: 0.64505, val_loss: 0.80799, val_accuracy: 0.62649\n"
     ]
    },
    {
     "name": "stderr",
     "output_type": "stream",
     "text": [
      "100%|██████████████████████████████████████████████████████████████████████████████████| 10/10 [00:01<00:00,  8.31it/s]\n"
     ]
    },
    {
     "name": "stdout",
     "output_type": "stream",
     "text": [
      "epoch 22, loss: 0.76293, acc: 0.64996, val_loss: 0.80762, val_accuracy: 0.62470\n"
     ]
    },
    {
     "name": "stderr",
     "output_type": "stream",
     "text": [
      "100%|██████████████████████████████████████████████████████████████████████████████████| 10/10 [00:01<00:00,  8.19it/s]\n"
     ]
    },
    {
     "name": "stdout",
     "output_type": "stream",
     "text": [
      "epoch 23, loss: 0.76110, acc: 0.64517, val_loss: 0.81085, val_accuracy: 0.62679\n"
     ]
    },
    {
     "name": "stderr",
     "output_type": "stream",
     "text": [
      "100%|██████████████████████████████████████████████████████████████████████████████████| 10/10 [00:01<00:00,  7.64it/s]\n"
     ]
    },
    {
     "name": "stdout",
     "output_type": "stream",
     "text": [
      "epoch 24, loss: 0.76101, acc: 0.64799, val_loss: 0.81049, val_accuracy: 0.62560\n"
     ]
    },
    {
     "name": "stderr",
     "output_type": "stream",
     "text": [
      "100%|██████████████████████████████████████████████████████████████████████████████████| 10/10 [00:01<00:00,  8.25it/s]\n"
     ]
    },
    {
     "name": "stdout",
     "output_type": "stream",
     "text": [
      "epoch 25, loss: 0.75993, acc: 0.64656, val_loss: 0.81184, val_accuracy: 0.62708\n"
     ]
    },
    {
     "name": "stderr",
     "output_type": "stream",
     "text": [
      "100%|██████████████████████████████████████████████████████████████████████████████████| 10/10 [00:01<00:00,  8.17it/s]\n"
     ]
    },
    {
     "name": "stdout",
     "output_type": "stream",
     "text": [
      "epoch 26, loss: 0.75902, acc: 0.64878, val_loss: 0.81311, val_accuracy: 0.62569\n"
     ]
    },
    {
     "name": "stderr",
     "output_type": "stream",
     "text": [
      "100%|██████████████████████████████████████████████████████████████████████████████████| 10/10 [00:01<00:00,  8.14it/s]\n"
     ]
    },
    {
     "name": "stdout",
     "output_type": "stream",
     "text": [
      "epoch 27, loss: 0.75856, acc: 0.64646, val_loss: 0.81469, val_accuracy: 0.62679\n"
     ]
    },
    {
     "name": "stderr",
     "output_type": "stream",
     "text": [
      "100%|██████████████████████████████████████████████████████████████████████████████████| 10/10 [00:01<00:00,  8.05it/s]\n"
     ]
    },
    {
     "name": "stdout",
     "output_type": "stream",
     "text": [
      "epoch 28, loss: 0.75769, acc: 0.64874, val_loss: 0.81569, val_accuracy: 0.62679\n"
     ]
    },
    {
     "name": "stderr",
     "output_type": "stream",
     "text": [
      "100%|██████████████████████████████████████████████████████████████████████████████████| 10/10 [00:01<00:00,  8.07it/s]\n"
     ]
    },
    {
     "name": "stdout",
     "output_type": "stream",
     "text": [
      "epoch 29, loss: 0.75673, acc: 0.64742, val_loss: 0.81774, val_accuracy: 0.62768\n"
     ]
    },
    {
     "name": "stderr",
     "output_type": "stream",
     "text": [
      "100%|██████████████████████████████████████████████████████████████████████████████████| 10/10 [00:01<00:00,  8.36it/s]\n"
     ]
    },
    {
     "name": "stdout",
     "output_type": "stream",
     "text": [
      "epoch 30, loss: 0.75575, acc: 0.64965, val_loss: 0.81725, val_accuracy: 0.62679\n"
     ]
    },
    {
     "name": "stderr",
     "output_type": "stream",
     "text": [
      "100%|██████████████████████████████████████████████████████████████████████████████████| 10/10 [00:01<00:00,  7.34it/s]\n"
     ]
    },
    {
     "name": "stdout",
     "output_type": "stream",
     "text": [
      "epoch 31, loss: 0.75550, acc: 0.64716, val_loss: 0.81982, val_accuracy: 0.62877\n"
     ]
    },
    {
     "name": "stderr",
     "output_type": "stream",
     "text": [
      "100%|██████████████████████████████████████████████████████████████████████████████████| 10/10 [00:01<00:00,  7.57it/s]\n"
     ]
    },
    {
     "name": "stdout",
     "output_type": "stream",
     "text": [
      "epoch 32, loss: 0.75382, acc: 0.65029, val_loss: 0.81954, val_accuracy: 0.62619\n"
     ]
    },
    {
     "name": "stderr",
     "output_type": "stream",
     "text": [
      "100%|██████████████████████████████████████████████████████████████████████████████████| 10/10 [00:01<00:00,  8.26it/s]\n"
     ]
    },
    {
     "name": "stdout",
     "output_type": "stream",
     "text": [
      "epoch 33, loss: 0.75280, acc: 0.64842, val_loss: 0.82303, val_accuracy: 0.63046\n"
     ]
    },
    {
     "name": "stderr",
     "output_type": "stream",
     "text": [
      "100%|██████████████████████████████████████████████████████████████████████████████████| 10/10 [00:01<00:00,  8.23it/s]\n"
     ]
    },
    {
     "name": "stdout",
     "output_type": "stream",
     "text": [
      "epoch 34, loss: 0.75157, acc: 0.65109, val_loss: 0.82188, val_accuracy: 0.62698\n"
     ]
    },
    {
     "name": "stderr",
     "output_type": "stream",
     "text": [
      "100%|██████████████████████████████████████████████████████████████████████████████████| 10/10 [00:01<00:00,  8.28it/s]\n"
     ]
    },
    {
     "name": "stdout",
     "output_type": "stream",
     "text": [
      "epoch 35, loss: 0.75142, acc: 0.64648, val_loss: 0.82418, val_accuracy: 0.63065\n"
     ]
    },
    {
     "name": "stderr",
     "output_type": "stream",
     "text": [
      "100%|██████████████████████████████████████████████████████████████████████████████████| 10/10 [00:01<00:00,  7.67it/s]\n"
     ]
    },
    {
     "name": "stdout",
     "output_type": "stream",
     "text": [
      "epoch 36, loss: 0.74976, acc: 0.65138, val_loss: 0.82443, val_accuracy: 0.62837\n"
     ]
    },
    {
     "name": "stderr",
     "output_type": "stream",
     "text": [
      "100%|██████████████████████████████████████████████████████████████████████████████████| 10/10 [00:01<00:00,  7.33it/s]\n"
     ]
    },
    {
     "name": "stdout",
     "output_type": "stream",
     "text": [
      "epoch 37, loss: 0.74962, acc: 0.64781, val_loss: 0.82601, val_accuracy: 0.62937\n"
     ]
    },
    {
     "name": "stderr",
     "output_type": "stream",
     "text": [
      "100%|██████████████████████████████████████████████████████████████████████████████████| 10/10 [00:01<00:00,  7.57it/s]\n"
     ]
    },
    {
     "name": "stdout",
     "output_type": "stream",
     "text": [
      "epoch 38, loss: 0.74772, acc: 0.65201, val_loss: 0.82596, val_accuracy: 0.62867\n"
     ]
    },
    {
     "name": "stderr",
     "output_type": "stream",
     "text": [
      "100%|██████████████████████████████████████████████████████████████████████████████████| 10/10 [00:01<00:00,  8.15it/s]\n"
     ]
    },
    {
     "name": "stdout",
     "output_type": "stream",
     "text": [
      "epoch 39, loss: 0.74777, acc: 0.64925, val_loss: 0.82807, val_accuracy: 0.63155\n"
     ]
    },
    {
     "name": "stderr",
     "output_type": "stream",
     "text": [
      "100%|██████████████████████████████████████████████████████████████████████████████████| 10/10 [00:01<00:00,  8.04it/s]\n"
     ]
    },
    {
     "name": "stdout",
     "output_type": "stream",
     "text": [
      "epoch 40, loss: 0.74606, acc: 0.65255, val_loss: 0.82842, val_accuracy: 0.62986\n"
     ]
    },
    {
     "name": "stderr",
     "output_type": "stream",
     "text": [
      "100%|██████████████████████████████████████████████████████████████████████████████████| 10/10 [00:01<00:00,  7.07it/s]\n"
     ]
    },
    {
     "name": "stdout",
     "output_type": "stream",
     "text": [
      "epoch 41, loss: 0.74697, acc: 0.65001, val_loss: 0.83131, val_accuracy: 0.63056\n"
     ]
    },
    {
     "name": "stderr",
     "output_type": "stream",
     "text": [
      "100%|██████████████████████████████████████████████████████████████████████████████████| 10/10 [00:01<00:00,  8.40it/s]\n"
     ]
    },
    {
     "name": "stdout",
     "output_type": "stream",
     "text": [
      "epoch 42, loss: 0.74503, acc: 0.65462, val_loss: 0.82980, val_accuracy: 0.63214\n"
     ]
    },
    {
     "name": "stderr",
     "output_type": "stream",
     "text": [
      "100%|██████████████████████████████████████████████████████████████████████████████████| 10/10 [00:01<00:00,  7.61it/s]\n"
     ]
    },
    {
     "name": "stdout",
     "output_type": "stream",
     "text": [
      "epoch 43, loss: 0.74539, acc: 0.65145, val_loss: 0.83341, val_accuracy: 0.62073\n"
     ]
    },
    {
     "name": "stderr",
     "output_type": "stream",
     "text": [
      "100%|██████████████████████████████████████████████████████████████████████████████████| 10/10 [00:01<00:00,  8.15it/s]\n"
     ]
    },
    {
     "name": "stdout",
     "output_type": "stream",
     "text": [
      "epoch 44, loss: 0.74371, acc: 0.65379, val_loss: 0.83298, val_accuracy: 0.62143\n"
     ]
    },
    {
     "name": "stderr",
     "output_type": "stream",
     "text": [
      "100%|██████████████████████████████████████████████████████████████████████████████████| 10/10 [00:01<00:00,  7.67it/s]\n"
     ]
    },
    {
     "name": "stdout",
     "output_type": "stream",
     "text": [
      "epoch 45, loss: 0.74347, acc: 0.65171, val_loss: 0.83471, val_accuracy: 0.62262\n"
     ]
    },
    {
     "name": "stderr",
     "output_type": "stream",
     "text": [
      "100%|██████████████████████████████████████████████████████████████████████████████████| 10/10 [00:01<00:00,  7.82it/s]\n"
     ]
    },
    {
     "name": "stdout",
     "output_type": "stream",
     "text": [
      "epoch 46, loss: 0.74237, acc: 0.65429, val_loss: 0.83467, val_accuracy: 0.62153\n"
     ]
    },
    {
     "name": "stderr",
     "output_type": "stream",
     "text": [
      "100%|██████████████████████████████████████████████████████████████████████████████████| 10/10 [00:00<00:00, 10.22it/s]\n"
     ]
    },
    {
     "name": "stdout",
     "output_type": "stream",
     "text": [
      "epoch 47, loss: 0.74183, acc: 0.65161, val_loss: 0.83674, val_accuracy: 0.62391\n"
     ]
    },
    {
     "name": "stderr",
     "output_type": "stream",
     "text": [
      "100%|██████████████████████████████████████████████████████████████████████████████████| 10/10 [00:00<00:00, 10.28it/s]\n"
     ]
    },
    {
     "name": "stdout",
     "output_type": "stream",
     "text": [
      "epoch 48, loss: 0.74054, acc: 0.65467, val_loss: 0.83596, val_accuracy: 0.62113\n"
     ]
    },
    {
     "name": "stderr",
     "output_type": "stream",
     "text": [
      "100%|██████████████████████████████████████████████████████████████████████████████████| 10/10 [00:00<00:00, 10.18it/s]\n"
     ]
    },
    {
     "name": "stdout",
     "output_type": "stream",
     "text": [
      "epoch 49, loss: 0.74051, acc: 0.65413, val_loss: 0.84015, val_accuracy: 0.62440\n"
     ]
    },
    {
     "name": "stderr",
     "output_type": "stream",
     "text": [
      "100%|██████████████████████████████████████████████████████████████████████████████████| 10/10 [00:01<00:00,  9.37it/s]\n"
     ]
    },
    {
     "name": "stdout",
     "output_type": "stream",
     "text": [
      "epoch 50, loss: 0.73919, acc: 0.65516, val_loss: 0.83864, val_accuracy: 0.62480\n"
     ]
    },
    {
     "name": "stderr",
     "output_type": "stream",
     "text": [
      "100%|██████████████████████████████████████████████████████████████████████████████████| 10/10 [00:01<00:00,  8.17it/s]\n"
     ]
    },
    {
     "name": "stdout",
     "output_type": "stream",
     "text": [
      "epoch 51, loss: 0.73793, acc: 0.65267, val_loss: 0.84002, val_accuracy: 0.62540\n"
     ]
    },
    {
     "name": "stderr",
     "output_type": "stream",
     "text": [
      "100%|██████████████████████████████████████████████████████████████████████████████████| 10/10 [00:01<00:00,  7.43it/s]\n"
     ]
    },
    {
     "name": "stdout",
     "output_type": "stream",
     "text": [
      "epoch 52, loss: 0.73756, acc: 0.65447, val_loss: 0.84141, val_accuracy: 0.62450\n"
     ]
    },
    {
     "name": "stderr",
     "output_type": "stream",
     "text": [
      "100%|██████████████████████████████████████████████████████████████████████████████████| 10/10 [00:01<00:00,  8.17it/s]\n"
     ]
    },
    {
     "name": "stdout",
     "output_type": "stream",
     "text": [
      "epoch 53, loss: 0.73651, acc: 0.65363, val_loss: 0.84164, val_accuracy: 0.62669\n"
     ]
    },
    {
     "name": "stderr",
     "output_type": "stream",
     "text": [
      "100%|██████████████████████████████████████████████████████████████████████████████████| 10/10 [00:01<00:00,  8.07it/s]\n"
     ]
    },
    {
     "name": "stdout",
     "output_type": "stream",
     "text": [
      "epoch 54, loss: 0.73607, acc: 0.65574, val_loss: 0.84213, val_accuracy: 0.62649\n"
     ]
    },
    {
     "name": "stderr",
     "output_type": "stream",
     "text": [
      "100%|██████████████████████████████████████████████████████████████████████████████████| 10/10 [00:01<00:00,  8.21it/s]\n"
     ]
    },
    {
     "name": "stdout",
     "output_type": "stream",
     "text": [
      "epoch 55, loss: 0.73444, acc: 0.65413, val_loss: 0.84493, val_accuracy: 0.62669\n"
     ]
    },
    {
     "name": "stderr",
     "output_type": "stream",
     "text": [
      "100%|██████████████████████████████████████████████████████████████████████████████████| 10/10 [00:01<00:00,  7.79it/s]\n"
     ]
    },
    {
     "name": "stdout",
     "output_type": "stream",
     "text": [
      "epoch 56, loss: 0.73361, acc: 0.65667, val_loss: 0.84332, val_accuracy: 0.62649\n"
     ]
    },
    {
     "name": "stderr",
     "output_type": "stream",
     "text": [
      "100%|██████████████████████████████████████████████████████████████████████████████████| 10/10 [00:01<00:00,  8.23it/s]\n"
     ]
    },
    {
     "name": "stdout",
     "output_type": "stream",
     "text": [
      "epoch 57, loss: 0.73302, acc: 0.65661, val_loss: 0.84646, val_accuracy: 0.62837\n"
     ]
    },
    {
     "name": "stderr",
     "output_type": "stream",
     "text": [
      "100%|██████████████████████████████████████████████████████████████████████████████████| 10/10 [00:01<00:00,  8.17it/s]\n"
     ]
    },
    {
     "name": "stdout",
     "output_type": "stream",
     "text": [
      "epoch 58, loss: 0.73212, acc: 0.65722, val_loss: 0.84599, val_accuracy: 0.62738\n"
     ]
    },
    {
     "name": "stderr",
     "output_type": "stream",
     "text": [
      "100%|██████████████████████████████████████████████████████████████████████████████████| 10/10 [00:01<00:00,  8.12it/s]\n"
     ]
    },
    {
     "name": "stdout",
     "output_type": "stream",
     "text": [
      "epoch 59, loss: 0.73081, acc: 0.65710, val_loss: 0.84947, val_accuracy: 0.62748\n"
     ]
    },
    {
     "name": "stderr",
     "output_type": "stream",
     "text": [
      "100%|██████████████████████████████████████████████████████████████████████████████████| 10/10 [00:01<00:00,  8.23it/s]\n"
     ]
    },
    {
     "name": "stdout",
     "output_type": "stream",
     "text": [
      "epoch 60, loss: 0.73045, acc: 0.65960, val_loss: 0.84882, val_accuracy: 0.62857\n"
     ]
    },
    {
     "name": "stderr",
     "output_type": "stream",
     "text": [
      "100%|██████████████████████████████████████████████████████████████████████████████████| 10/10 [00:01<00:00,  7.41it/s]\n"
     ]
    },
    {
     "name": "stdout",
     "output_type": "stream",
     "text": [
      "epoch 61, loss: 0.73022, acc: 0.65644, val_loss: 0.84957, val_accuracy: 0.62510\n"
     ]
    },
    {
     "name": "stderr",
     "output_type": "stream",
     "text": [
      "100%|██████████████████████████████████████████████████████████████████████████████████| 10/10 [00:01<00:00,  8.11it/s]\n"
     ]
    },
    {
     "name": "stdout",
     "output_type": "stream",
     "text": [
      "epoch 62, loss: 0.72874, acc: 0.65869, val_loss: 0.84933, val_accuracy: 0.62768\n"
     ]
    },
    {
     "name": "stderr",
     "output_type": "stream",
     "text": [
      "100%|██████████████████████████████████████████████████████████████████████████████████| 10/10 [00:01<00:00,  8.11it/s]\n"
     ]
    },
    {
     "name": "stdout",
     "output_type": "stream",
     "text": [
      "epoch 63, loss: 0.72856, acc: 0.65820, val_loss: 0.85360, val_accuracy: 0.62063\n"
     ]
    },
    {
     "name": "stderr",
     "output_type": "stream",
     "text": [
      "100%|██████████████████████████████████████████████████████████████████████████████████| 10/10 [00:01<00:00,  8.28it/s]\n"
     ]
    },
    {
     "name": "stdout",
     "output_type": "stream",
     "text": [
      "epoch 64, loss: 0.72741, acc: 0.66097, val_loss: 0.85173, val_accuracy: 0.62817\n"
     ]
    },
    {
     "name": "stderr",
     "output_type": "stream",
     "text": [
      "100%|██████████████████████████████████████████████████████████████████████████████████| 10/10 [00:01<00:00,  8.19it/s]\n"
     ]
    },
    {
     "name": "stdout",
     "output_type": "stream",
     "text": [
      "epoch 65, loss: 0.72703, acc: 0.65834, val_loss: 0.85398, val_accuracy: 0.61508\n"
     ]
    },
    {
     "name": "stderr",
     "output_type": "stream",
     "text": [
      "100%|██████████████████████████████████████████████████████████████████████████████████| 10/10 [00:01<00:00,  7.59it/s]\n"
     ]
    },
    {
     "name": "stdout",
     "output_type": "stream",
     "text": [
      "epoch 66, loss: 0.72586, acc: 0.66274, val_loss: 0.85367, val_accuracy: 0.62927\n"
     ]
    },
    {
     "name": "stderr",
     "output_type": "stream",
     "text": [
      "100%|██████████████████████████████████████████████████████████████████████████████████| 10/10 [00:01<00:00,  8.21it/s]\n"
     ]
    },
    {
     "name": "stdout",
     "output_type": "stream",
     "text": [
      "epoch 67, loss: 0.72532, acc: 0.65926, val_loss: 0.85862, val_accuracy: 0.61528\n"
     ]
    },
    {
     "name": "stderr",
     "output_type": "stream",
     "text": [
      "100%|██████████████████████████████████████████████████████████████████████████████████| 10/10 [00:01<00:00,  8.33it/s]\n"
     ]
    },
    {
     "name": "stdout",
     "output_type": "stream",
     "text": [
      "epoch 68, loss: 0.72484, acc: 0.66217, val_loss: 0.85621, val_accuracy: 0.62212\n"
     ]
    },
    {
     "name": "stderr",
     "output_type": "stream",
     "text": [
      "100%|██████████████████████████████████████████████████████████████████████████████████| 10/10 [00:01<00:00,  7.67it/s]\n"
     ]
    },
    {
     "name": "stdout",
     "output_type": "stream",
     "text": [
      "epoch 69, loss: 0.72341, acc: 0.65955, val_loss: 0.85790, val_accuracy: 0.61687\n"
     ]
    },
    {
     "name": "stderr",
     "output_type": "stream",
     "text": [
      "100%|██████████████████████████████████████████████████████████████████████████████████| 10/10 [00:01<00:00,  8.06it/s]\n"
     ]
    },
    {
     "name": "stdout",
     "output_type": "stream",
     "text": [
      "epoch 70, loss: 0.72390, acc: 0.66293, val_loss: 0.85838, val_accuracy: 0.61617\n"
     ]
    },
    {
     "name": "stderr",
     "output_type": "stream",
     "text": [
      "100%|██████████████████████████████████████████████████████████████████████████████████| 10/10 [00:01<00:00,  7.45it/s]\n"
     ]
    },
    {
     "name": "stdout",
     "output_type": "stream",
     "text": [
      "epoch 71, loss: 0.72232, acc: 0.65909, val_loss: 0.86151, val_accuracy: 0.61577\n"
     ]
    },
    {
     "name": "stderr",
     "output_type": "stream",
     "text": [
      "100%|██████████████████████████████████████████████████████████████████████████████████| 10/10 [00:01<00:00,  8.02it/s]\n"
     ]
    },
    {
     "name": "stdout",
     "output_type": "stream",
     "text": [
      "epoch 72, loss: 0.72143, acc: 0.66295, val_loss: 0.85931, val_accuracy: 0.61865\n"
     ]
    },
    {
     "name": "stderr",
     "output_type": "stream",
     "text": [
      "100%|██████████████████████████████████████████████████████████████████████████████████| 10/10 [00:01<00:00,  7.60it/s]\n"
     ]
    },
    {
     "name": "stdout",
     "output_type": "stream",
     "text": [
      "epoch 73, loss: 0.72098, acc: 0.66003, val_loss: 0.86250, val_accuracy: 0.61647\n"
     ]
    },
    {
     "name": "stderr",
     "output_type": "stream",
     "text": [
      "100%|██████████████████████████████████████████████████████████████████████████████████| 10/10 [00:01<00:00,  8.22it/s]\n"
     ]
    },
    {
     "name": "stdout",
     "output_type": "stream",
     "text": [
      "epoch 74, loss: 0.71922, acc: 0.66355, val_loss: 0.86228, val_accuracy: 0.61726\n"
     ]
    },
    {
     "name": "stderr",
     "output_type": "stream",
     "text": [
      "100%|██████████████████████████████████████████████████████████████████████████████████| 10/10 [00:01<00:00,  7.99it/s]\n"
     ]
    },
    {
     "name": "stdout",
     "output_type": "stream",
     "text": [
      "epoch 75, loss: 0.71880, acc: 0.66075, val_loss: 0.86404, val_accuracy: 0.61786\n"
     ]
    },
    {
     "name": "stderr",
     "output_type": "stream",
     "text": [
      "100%|██████████████████████████████████████████████████████████████████████████████████| 10/10 [00:01<00:00,  8.02it/s]\n"
     ]
    },
    {
     "name": "stdout",
     "output_type": "stream",
     "text": [
      "epoch 76, loss: 0.71811, acc: 0.66323, val_loss: 0.86410, val_accuracy: 0.61865\n"
     ]
    },
    {
     "name": "stderr",
     "output_type": "stream",
     "text": [
      "100%|██████████████████████████████████████████████████████████████████████████████████| 10/10 [00:01<00:00,  7.15it/s]\n"
     ]
    },
    {
     "name": "stdout",
     "output_type": "stream",
     "text": [
      "epoch 77, loss: 0.71750, acc: 0.66291, val_loss: 0.86807, val_accuracy: 0.61796\n"
     ]
    },
    {
     "name": "stderr",
     "output_type": "stream",
     "text": [
      "100%|██████████████████████████████████████████████████████████████████████████████████| 10/10 [00:01<00:00,  8.12it/s]\n"
     ]
    },
    {
     "name": "stdout",
     "output_type": "stream",
     "text": [
      "epoch 78, loss: 0.71610, acc: 0.66383, val_loss: 0.86507, val_accuracy: 0.61895\n"
     ]
    },
    {
     "name": "stderr",
     "output_type": "stream",
     "text": [
      "100%|██████████████████████████████████████████████████████████████████████████████████| 10/10 [00:01<00:00,  8.29it/s]\n"
     ]
    },
    {
     "name": "stdout",
     "output_type": "stream",
     "text": [
      "epoch 79, loss: 0.71687, acc: 0.66239, val_loss: 0.86861, val_accuracy: 0.61875\n"
     ]
    },
    {
     "name": "stderr",
     "output_type": "stream",
     "text": [
      "100%|██████████████████████████████████████████████████████████████████████████████████| 10/10 [00:01<00:00,  7.55it/s]\n"
     ]
    },
    {
     "name": "stdout",
     "output_type": "stream",
     "text": [
      "epoch 80, loss: 0.71460, acc: 0.66609, val_loss: 0.86717, val_accuracy: 0.61885\n"
     ]
    },
    {
     "name": "stderr",
     "output_type": "stream",
     "text": [
      "100%|██████████████████████████████████████████████████████████████████████████████████| 10/10 [00:01<00:00,  8.03it/s]\n"
     ]
    },
    {
     "name": "stdout",
     "output_type": "stream",
     "text": [
      "epoch 81, loss: 0.71551, acc: 0.66262, val_loss: 0.87184, val_accuracy: 0.61855\n"
     ]
    },
    {
     "name": "stderr",
     "output_type": "stream",
     "text": [
      "100%|██████████████████████████████████████████████████████████████████████████████████| 10/10 [00:01<00:00,  7.81it/s]\n"
     ]
    },
    {
     "name": "stdout",
     "output_type": "stream",
     "text": [
      "epoch 82, loss: 0.71372, acc: 0.66921, val_loss: 0.87021, val_accuracy: 0.61984\n"
     ]
    },
    {
     "name": "stderr",
     "output_type": "stream",
     "text": [
      "100%|██████████████████████████████████████████████████████████████████████████████████| 10/10 [00:01<00:00,  8.18it/s]\n"
     ]
    },
    {
     "name": "stdout",
     "output_type": "stream",
     "text": [
      "epoch 83, loss: 0.71358, acc: 0.66656, val_loss: 0.87303, val_accuracy: 0.61845\n"
     ]
    },
    {
     "name": "stderr",
     "output_type": "stream",
     "text": [
      "100%|██████████████████████████████████████████████████████████████████████████████████| 10/10 [00:01<00:00,  8.26it/s]\n"
     ]
    },
    {
     "name": "stdout",
     "output_type": "stream",
     "text": [
      "epoch 84, loss: 0.71265, acc: 0.67034, val_loss: 0.87198, val_accuracy: 0.61885\n"
     ]
    },
    {
     "name": "stderr",
     "output_type": "stream",
     "text": [
      "100%|██████████████████████████████████████████████████████████████████████████████████| 10/10 [00:01<00:00,  7.59it/s]\n"
     ]
    },
    {
     "name": "stdout",
     "output_type": "stream",
     "text": [
      "epoch 85, loss: 0.71192, acc: 0.66495, val_loss: 0.87489, val_accuracy: 0.60179\n"
     ]
    },
    {
     "name": "stderr",
     "output_type": "stream",
     "text": [
      "100%|██████████████████████████████████████████████████████████████████████████████████| 10/10 [00:01<00:00,  8.31it/s]\n"
     ]
    },
    {
     "name": "stdout",
     "output_type": "stream",
     "text": [
      "epoch 86, loss: 0.71164, acc: 0.67080, val_loss: 0.87448, val_accuracy: 0.60337\n"
     ]
    },
    {
     "name": "stderr",
     "output_type": "stream",
     "text": [
      "100%|██████████████████████████████████████████████████████████████████████████████████| 10/10 [00:01<00:00,  8.14it/s]\n"
     ]
    },
    {
     "name": "stdout",
     "output_type": "stream",
     "text": [
      "epoch 87, loss: 0.70990, acc: 0.66804, val_loss: 0.87852, val_accuracy: 0.60169\n"
     ]
    },
    {
     "name": "stderr",
     "output_type": "stream",
     "text": [
      "100%|██████████████████████████████████████████████████████████████████████████████████| 10/10 [00:01<00:00,  8.30it/s]\n"
     ]
    },
    {
     "name": "stdout",
     "output_type": "stream",
     "text": [
      "epoch 88, loss: 0.70974, acc: 0.67133, val_loss: 0.87648, val_accuracy: 0.60278\n"
     ]
    },
    {
     "name": "stderr",
     "output_type": "stream",
     "text": [
      "100%|██████████████████████████████████████████████████████████████████████████████████| 10/10 [00:01<00:00,  7.63it/s]\n"
     ]
    },
    {
     "name": "stdout",
     "output_type": "stream",
     "text": [
      "epoch 89, loss: 0.70743, acc: 0.66868, val_loss: 0.87835, val_accuracy: 0.60179\n"
     ]
    },
    {
     "name": "stderr",
     "output_type": "stream",
     "text": [
      "100%|██████████████████████████████████████████████████████████████████████████████████| 10/10 [00:01<00:00,  8.10it/s]\n"
     ]
    },
    {
     "name": "stdout",
     "output_type": "stream",
     "text": [
      "epoch 90, loss: 0.70785, acc: 0.67140, val_loss: 0.87822, val_accuracy: 0.60347\n"
     ]
    },
    {
     "name": "stderr",
     "output_type": "stream",
     "text": [
      "100%|██████████████████████████████████████████████████████████████████████████████████| 10/10 [00:01<00:00,  8.33it/s]\n"
     ]
    },
    {
     "name": "stdout",
     "output_type": "stream",
     "text": [
      "epoch 91, loss: 0.70587, acc: 0.66886, val_loss: 0.88343, val_accuracy: 0.60218\n"
     ]
    },
    {
     "name": "stderr",
     "output_type": "stream",
     "text": [
      "100%|██████████████████████████████████████████████████████████████████████████████████| 10/10 [00:01<00:00,  8.19it/s]\n"
     ]
    },
    {
     "name": "stdout",
     "output_type": "stream",
     "text": [
      "epoch 92, loss: 0.70551, acc: 0.67153, val_loss: 0.88132, val_accuracy: 0.60347\n"
     ]
    },
    {
     "name": "stderr",
     "output_type": "stream",
     "text": [
      "100%|██████████████████████████████████████████████████████████████████████████████████| 10/10 [00:01<00:00,  8.22it/s]\n"
     ]
    },
    {
     "name": "stdout",
     "output_type": "stream",
     "text": [
      "epoch 93, loss: 0.70392, acc: 0.67034, val_loss: 0.88307, val_accuracy: 0.60228\n"
     ]
    },
    {
     "name": "stderr",
     "output_type": "stream",
     "text": [
      "100%|██████████████████████████████████████████████████████████████████████████████████| 10/10 [00:01<00:00,  7.67it/s]\n"
     ]
    },
    {
     "name": "stdout",
     "output_type": "stream",
     "text": [
      "epoch 94, loss: 0.70459, acc: 0.67090, val_loss: 0.88274, val_accuracy: 0.60437\n"
     ]
    },
    {
     "name": "stderr",
     "output_type": "stream",
     "text": [
      "100%|██████████████████████████████████████████████████████████████████████████████████| 10/10 [00:01<00:00,  8.19it/s]\n"
     ]
    },
    {
     "name": "stdout",
     "output_type": "stream",
     "text": [
      "epoch 95, loss: 0.70266, acc: 0.67027, val_loss: 0.88578, val_accuracy: 0.59990\n"
     ]
    },
    {
     "name": "stderr",
     "output_type": "stream",
     "text": [
      "100%|██████████████████████████████████████████████████████████████████████████████████| 10/10 [00:01<00:00,  8.24it/s]\n"
     ]
    },
    {
     "name": "stdout",
     "output_type": "stream",
     "text": [
      "epoch 96, loss: 0.70315, acc: 0.67098, val_loss: 0.88380, val_accuracy: 0.60446\n"
     ]
    },
    {
     "name": "stderr",
     "output_type": "stream",
     "text": [
      "100%|██████████████████████████████████████████████████████████████████████████████████| 10/10 [00:01<00:00,  7.50it/s]\n"
     ]
    },
    {
     "name": "stdout",
     "output_type": "stream",
     "text": [
      "epoch 97, loss: 0.70125, acc: 0.67013, val_loss: 0.88841, val_accuracy: 0.59821\n"
     ]
    },
    {
     "name": "stderr",
     "output_type": "stream",
     "text": [
      "100%|██████████████████████████████████████████████████████████████████████████████████| 10/10 [00:01<00:00,  8.35it/s]\n"
     ]
    },
    {
     "name": "stdout",
     "output_type": "stream",
     "text": [
      "epoch 98, loss: 0.70173, acc: 0.67219, val_loss: 0.88702, val_accuracy: 0.59950\n"
     ]
    },
    {
     "name": "stderr",
     "output_type": "stream",
     "text": [
      "100%|██████████████████████████████████████████████████████████████████████████████████| 10/10 [00:01<00:00,  7.60it/s]\n"
     ]
    },
    {
     "name": "stdout",
     "output_type": "stream",
     "text": [
      "epoch 99, loss: 0.70031, acc: 0.67012, val_loss: 0.89149, val_accuracy: 0.59742\n"
     ]
    },
    {
     "name": "stderr",
     "output_type": "stream",
     "text": [
      "100%|██████████████████████████████████████████████████████████████████████████████████| 10/10 [00:01<00:00,  8.26it/s]\n"
     ]
    },
    {
     "name": "stdout",
     "output_type": "stream",
     "text": [
      "epoch 100, loss: 0.70003, acc: 0.67919, val_loss: 0.88787, val_accuracy: 0.60575\n"
     ]
    },
    {
     "name": "stderr",
     "output_type": "stream",
     "text": [
      "100%|██████████████████████████████████████████████████████████████████████████████████| 10/10 [00:01<00:00,  7.57it/s]\n"
     ]
    },
    {
     "name": "stdout",
     "output_type": "stream",
     "text": [
      "epoch 101, loss: 0.69838, acc: 0.67066, val_loss: 0.89294, val_accuracy: 0.59960\n"
     ]
    },
    {
     "name": "stderr",
     "output_type": "stream",
     "text": [
      "100%|██████████████████████████████████████████████████████████████████████████████████| 10/10 [00:01<00:00,  8.22it/s]\n"
     ]
    },
    {
     "name": "stdout",
     "output_type": "stream",
     "text": [
      "epoch 102, loss: 0.69887, acc: 0.67898, val_loss: 0.89106, val_accuracy: 0.59980\n"
     ]
    },
    {
     "name": "stderr",
     "output_type": "stream",
     "text": [
      "100%|██████████████████████████████████████████████████████████████████████████████████| 10/10 [00:01<00:00,  8.22it/s]\n"
     ]
    },
    {
     "name": "stdout",
     "output_type": "stream",
     "text": [
      "epoch 103, loss: 0.69645, acc: 0.67220, val_loss: 0.89532, val_accuracy: 0.59950\n"
     ]
    },
    {
     "name": "stderr",
     "output_type": "stream",
     "text": [
      "100%|██████████████████████████████████████████████████████████████████████████████████| 10/10 [00:01<00:00,  8.30it/s]\n"
     ]
    },
    {
     "name": "stdout",
     "output_type": "stream",
     "text": [
      "epoch 104, loss: 0.69735, acc: 0.68050, val_loss: 0.89236, val_accuracy: 0.60060\n"
     ]
    },
    {
     "name": "stderr",
     "output_type": "stream",
     "text": [
      "100%|██████████████████████████████████████████████████████████████████████████████████| 10/10 [00:01<00:00,  8.23it/s]\n"
     ]
    },
    {
     "name": "stdout",
     "output_type": "stream",
     "text": [
      "epoch 105, loss: 0.69519, acc: 0.67303, val_loss: 0.89737, val_accuracy: 0.60030\n"
     ]
    },
    {
     "name": "stderr",
     "output_type": "stream",
     "text": [
      "100%|██████████████████████████████████████████████████████████████████████████████████| 10/10 [00:01<00:00,  8.19it/s]\n"
     ]
    },
    {
     "name": "stdout",
     "output_type": "stream",
     "text": [
      "epoch 106, loss: 0.69589, acc: 0.68116, val_loss: 0.89582, val_accuracy: 0.60119\n"
     ]
    },
    {
     "name": "stderr",
     "output_type": "stream",
     "text": [
      "100%|██████████████████████████████████████████████████████████████████████████████████| 10/10 [00:01<00:00,  8.24it/s]\n"
     ]
    },
    {
     "name": "stdout",
     "output_type": "stream",
     "text": [
      "epoch 107, loss: 0.69291, acc: 0.67712, val_loss: 0.89918, val_accuracy: 0.60079\n"
     ]
    },
    {
     "name": "stderr",
     "output_type": "stream",
     "text": [
      "100%|██████████████████████████████████████████████████████████████████████████████████| 10/10 [00:01<00:00,  7.66it/s]\n"
     ]
    },
    {
     "name": "stdout",
     "output_type": "stream",
     "text": [
      "epoch 108, loss: 0.69404, acc: 0.68266, val_loss: 0.89784, val_accuracy: 0.60288\n"
     ]
    },
    {
     "name": "stderr",
     "output_type": "stream",
     "text": [
      "100%|██████████████████████████████████████████████████████████████████████████████████| 10/10 [00:01<00:00,  8.13it/s]\n"
     ]
    },
    {
     "name": "stdout",
     "output_type": "stream",
     "text": [
      "epoch 109, loss: 0.69206, acc: 0.67869, val_loss: 0.90149, val_accuracy: 0.60169\n"
     ]
    },
    {
     "name": "stderr",
     "output_type": "stream",
     "text": [
      "100%|██████████████████████████████████████████████████████████████████████████████████| 10/10 [00:01<00:00,  7.87it/s]\n"
     ]
    },
    {
     "name": "stdout",
     "output_type": "stream",
     "text": [
      "epoch 110, loss: 0.69247, acc: 0.68258, val_loss: 0.89900, val_accuracy: 0.60327\n"
     ]
    },
    {
     "name": "stderr",
     "output_type": "stream",
     "text": [
      "100%|██████████████████████████████████████████████████████████████████████████████████| 10/10 [00:01<00:00,  8.22it/s]\n"
     ]
    },
    {
     "name": "stdout",
     "output_type": "stream",
     "text": [
      "epoch 111, loss: 0.69031, acc: 0.67891, val_loss: 0.90552, val_accuracy: 0.60218\n"
     ]
    },
    {
     "name": "stderr",
     "output_type": "stream",
     "text": [
      "100%|██████████████████████████████████████████████████████████████████████████████████| 10/10 [00:01<00:00,  8.17it/s]\n"
     ]
    },
    {
     "name": "stdout",
     "output_type": "stream",
     "text": [
      "epoch 112, loss: 0.69129, acc: 0.68381, val_loss: 0.89960, val_accuracy: 0.60198\n"
     ]
    },
    {
     "name": "stderr",
     "output_type": "stream",
     "text": [
      "100%|██████████████████████████████████████████████████████████████████████████████████| 10/10 [00:00<00:00, 10.22it/s]\n"
     ]
    },
    {
     "name": "stdout",
     "output_type": "stream",
     "text": [
      "epoch 113, loss: 0.68968, acc: 0.68031, val_loss: 0.90648, val_accuracy: 0.60198\n"
     ]
    },
    {
     "name": "stderr",
     "output_type": "stream",
     "text": [
      "100%|██████████████████████████████████████████████████████████████████████████████████| 10/10 [00:00<00:00, 10.31it/s]\n"
     ]
    },
    {
     "name": "stdout",
     "output_type": "stream",
     "text": [
      "epoch 114, loss: 0.68970, acc: 0.68563, val_loss: 0.90527, val_accuracy: 0.60099\n"
     ]
    },
    {
     "name": "stderr",
     "output_type": "stream",
     "text": [
      "100%|██████████████████████████████████████████████████████████████████████████████████| 10/10 [00:00<00:00, 10.16it/s]\n"
     ]
    },
    {
     "name": "stdout",
     "output_type": "stream",
     "text": [
      "epoch 115, loss: 0.68783, acc: 0.68097, val_loss: 0.90908, val_accuracy: 0.60238\n"
     ]
    },
    {
     "name": "stderr",
     "output_type": "stream",
     "text": [
      "100%|██████████████████████████████████████████████████████████████████████████████████| 10/10 [00:01<00:00,  9.41it/s]\n"
     ]
    },
    {
     "name": "stdout",
     "output_type": "stream",
     "text": [
      "epoch 116, loss: 0.68834, acc: 0.68459, val_loss: 0.90509, val_accuracy: 0.60208\n"
     ]
    },
    {
     "name": "stderr",
     "output_type": "stream",
     "text": [
      "100%|██████████████████████████████████████████████████████████████████████████████████| 10/10 [00:01<00:00,  7.75it/s]\n"
     ]
    },
    {
     "name": "stdout",
     "output_type": "stream",
     "text": [
      "epoch 117, loss: 0.68647, acc: 0.68247, val_loss: 0.90973, val_accuracy: 0.60288\n"
     ]
    },
    {
     "name": "stderr",
     "output_type": "stream",
     "text": [
      "100%|██████████████████████████████████████████████████████████████████████████████████| 10/10 [00:01<00:00,  8.14it/s]\n"
     ]
    },
    {
     "name": "stdout",
     "output_type": "stream",
     "text": [
      "epoch 118, loss: 0.68625, acc: 0.68849, val_loss: 0.90970, val_accuracy: 0.58948\n"
     ]
    },
    {
     "name": "stderr",
     "output_type": "stream",
     "text": [
      "100%|██████████████████████████████████████████████████████████████████████████████████| 10/10 [00:01<00:00,  8.15it/s]\n"
     ]
    },
    {
     "name": "stdout",
     "output_type": "stream",
     "text": [
      "epoch 119, loss: 0.68437, acc: 0.68576, val_loss: 0.91409, val_accuracy: 0.59147\n"
     ]
    },
    {
     "name": "stderr",
     "output_type": "stream",
     "text": [
      "100%|██████████████████████████████████████████████████████████████████████████████████| 10/10 [00:01<00:00,  8.21it/s]\n"
     ]
    },
    {
     "name": "stdout",
     "output_type": "stream",
     "text": [
      "epoch 120, loss: 0.68498, acc: 0.68719, val_loss: 0.91071, val_accuracy: 0.60397\n"
     ]
    },
    {
     "name": "stderr",
     "output_type": "stream",
     "text": [
      "100%|██████████████████████████████████████████████████████████████████████████████████| 10/10 [00:01<00:00,  8.26it/s]\n"
     ]
    },
    {
     "name": "stdout",
     "output_type": "stream",
     "text": [
      "epoch 121, loss: 0.68301, acc: 0.68681, val_loss: 0.91612, val_accuracy: 0.60486\n"
     ]
    },
    {
     "name": "stderr",
     "output_type": "stream",
     "text": [
      "100%|██████████████████████████████████████████████████████████████████████████████████| 10/10 [00:01<00:00,  7.50it/s]\n"
     ]
    },
    {
     "name": "stdout",
     "output_type": "stream",
     "text": [
      "epoch 122, loss: 0.68384, acc: 0.68900, val_loss: 0.91428, val_accuracy: 0.60288\n"
     ]
    },
    {
     "name": "stderr",
     "output_type": "stream",
     "text": [
      "100%|██████████████████████████████████████████████████████████████████████████████████| 10/10 [00:01<00:00,  8.22it/s]\n"
     ]
    },
    {
     "name": "stdout",
     "output_type": "stream",
     "text": [
      "epoch 123, loss: 0.68183, acc: 0.68516, val_loss: 0.91798, val_accuracy: 0.60397\n"
     ]
    },
    {
     "name": "stderr",
     "output_type": "stream",
     "text": [
      "100%|██████████████████████████████████████████████████████████████████████████████████| 10/10 [00:01<00:00,  8.04it/s]\n"
     ]
    },
    {
     "name": "stdout",
     "output_type": "stream",
     "text": [
      "epoch 124, loss: 0.68215, acc: 0.69009, val_loss: 0.91509, val_accuracy: 0.59097\n"
     ]
    },
    {
     "name": "stderr",
     "output_type": "stream",
     "text": [
      "100%|██████████████████████████████████████████████████████████████████████████████████| 10/10 [00:01<00:00,  7.53it/s]\n"
     ]
    },
    {
     "name": "stdout",
     "output_type": "stream",
     "text": [
      "epoch 125, loss: 0.68020, acc: 0.68705, val_loss: 0.92048, val_accuracy: 0.60575\n"
     ]
    },
    {
     "name": "stderr",
     "output_type": "stream",
     "text": [
      "100%|██████████████████████████████████████████████████████████████████████████████████| 10/10 [00:01<00:00,  8.03it/s]\n"
     ]
    },
    {
     "name": "stdout",
     "output_type": "stream",
     "text": [
      "epoch 126, loss: 0.68059, acc: 0.69040, val_loss: 0.91654, val_accuracy: 0.60556\n"
     ]
    },
    {
     "name": "stderr",
     "output_type": "stream",
     "text": [
      "100%|██████████████████████████████████████████████████████████████████████████████████| 10/10 [00:01<00:00,  7.57it/s]\n"
     ]
    },
    {
     "name": "stdout",
     "output_type": "stream",
     "text": [
      "epoch 127, loss: 0.67893, acc: 0.68899, val_loss: 0.92081, val_accuracy: 0.60575\n"
     ]
    },
    {
     "name": "stderr",
     "output_type": "stream",
     "text": [
      "100%|██████████████████████████████████████████████████████████████████████████████████| 10/10 [00:01<00:00,  8.25it/s]\n"
     ]
    },
    {
     "name": "stdout",
     "output_type": "stream",
     "text": [
      "epoch 128, loss: 0.67861, acc: 0.69034, val_loss: 0.91892, val_accuracy: 0.60526\n"
     ]
    },
    {
     "name": "stderr",
     "output_type": "stream",
     "text": [
      "100%|██████████████████████████████████████████████████████████████████████████████████| 10/10 [00:01<00:00,  7.81it/s]\n"
     ]
    },
    {
     "name": "stdout",
     "output_type": "stream",
     "text": [
      "epoch 129, loss: 0.67695, acc: 0.69003, val_loss: 0.92537, val_accuracy: 0.60754\n"
     ]
    },
    {
     "name": "stderr",
     "output_type": "stream",
     "text": [
      "100%|██████████████████████████████████████████████████████████████████████████████████| 10/10 [00:00<00:00, 10.21it/s]\n"
     ]
    },
    {
     "name": "stdout",
     "output_type": "stream",
     "text": [
      "epoch 130, loss: 0.67755, acc: 0.69141, val_loss: 0.92101, val_accuracy: 0.60774\n"
     ]
    },
    {
     "name": "stderr",
     "output_type": "stream",
     "text": [
      "100%|██████████████████████████████████████████████████████████████████████████████████| 10/10 [00:00<00:00, 10.24it/s]\n"
     ]
    },
    {
     "name": "stdout",
     "output_type": "stream",
     "text": [
      "epoch 131, loss: 0.67543, acc: 0.69125, val_loss: 0.92683, val_accuracy: 0.59593\n"
     ]
    },
    {
     "name": "stderr",
     "output_type": "stream",
     "text": [
      "100%|██████████████████████████████████████████████████████████████████████████████████| 10/10 [00:01<00:00,  9.48it/s]\n"
     ]
    },
    {
     "name": "stdout",
     "output_type": "stream",
     "text": [
      "epoch 132, loss: 0.67631, acc: 0.69080, val_loss: 0.92111, val_accuracy: 0.60734\n"
     ]
    },
    {
     "name": "stderr",
     "output_type": "stream",
     "text": [
      "100%|██████████████████████████████████████████████████████████████████████████████████| 10/10 [00:01<00:00,  8.89it/s]\n"
     ]
    },
    {
     "name": "stdout",
     "output_type": "stream",
     "text": [
      "epoch 133, loss: 0.67418, acc: 0.69130, val_loss: 0.92826, val_accuracy: 0.59514\n"
     ]
    },
    {
     "name": "stderr",
     "output_type": "stream",
     "text": [
      "100%|██████████████████████████████████████████████████████████████████████████████████| 10/10 [00:01<00:00,  8.80it/s]\n"
     ]
    },
    {
     "name": "stdout",
     "output_type": "stream",
     "text": [
      "epoch 134, loss: 0.67422, acc: 0.69212, val_loss: 0.92679, val_accuracy: 0.59524\n"
     ]
    },
    {
     "name": "stderr",
     "output_type": "stream",
     "text": [
      "100%|██████████████████████████████████████████████████████████████████████████████████| 10/10 [00:00<00:00, 10.15it/s]\n"
     ]
    },
    {
     "name": "stdout",
     "output_type": "stream",
     "text": [
      "epoch 135, loss: 0.67315, acc: 0.69031, val_loss: 0.92908, val_accuracy: 0.59573\n"
     ]
    },
    {
     "name": "stderr",
     "output_type": "stream",
     "text": [
      "100%|██████████████████████████████████████████████████████████████████████████████████| 10/10 [00:01<00:00,  8.89it/s]\n"
     ]
    },
    {
     "name": "stdout",
     "output_type": "stream",
     "text": [
      "epoch 136, loss: 0.67300, acc: 0.69210, val_loss: 0.92717, val_accuracy: 0.59514\n"
     ]
    },
    {
     "name": "stderr",
     "output_type": "stream",
     "text": [
      "100%|██████████████████████████████████████████████████████████████████████████████████| 10/10 [00:01<00:00,  9.23it/s]\n"
     ]
    },
    {
     "name": "stdout",
     "output_type": "stream",
     "text": [
      "epoch 137, loss: 0.67171, acc: 0.69152, val_loss: 0.93359, val_accuracy: 0.59554\n"
     ]
    },
    {
     "name": "stderr",
     "output_type": "stream",
     "text": [
      "100%|██████████████████████████████████████████████████████████████████████████████████| 10/10 [00:01<00:00,  8.55it/s]\n"
     ]
    },
    {
     "name": "stdout",
     "output_type": "stream",
     "text": [
      "epoch 138, loss: 0.67115, acc: 0.69510, val_loss: 0.93013, val_accuracy: 0.59623\n"
     ]
    },
    {
     "name": "stderr",
     "output_type": "stream",
     "text": [
      "100%|██████████████████████████████████████████████████████████████████████████████████| 10/10 [00:01<00:00,  9.13it/s]\n"
     ]
    },
    {
     "name": "stdout",
     "output_type": "stream",
     "text": [
      "epoch 139, loss: 0.66943, acc: 0.69279, val_loss: 0.93151, val_accuracy: 0.60962\n"
     ]
    },
    {
     "name": "stderr",
     "output_type": "stream",
     "text": [
      "100%|██████████████████████████████████████████████████████████████████████████████████| 10/10 [00:01<00:00,  8.68it/s]\n"
     ]
    },
    {
     "name": "stdout",
     "output_type": "stream",
     "text": [
      "epoch 140, loss: 0.66924, acc: 0.69376, val_loss: 0.93111, val_accuracy: 0.59772\n"
     ]
    },
    {
     "name": "stderr",
     "output_type": "stream",
     "text": [
      "100%|██████████████████████████████████████████████████████████████████████████████████| 10/10 [00:01<00:00,  7.60it/s]\n"
     ]
    },
    {
     "name": "stdout",
     "output_type": "stream",
     "text": [
      "epoch 141, loss: 0.66803, acc: 0.69507, val_loss: 0.93453, val_accuracy: 0.59593\n"
     ]
    },
    {
     "name": "stderr",
     "output_type": "stream",
     "text": [
      "100%|██████████████████████████████████████████████████████████████████████████████████| 10/10 [00:01<00:00,  9.12it/s]\n"
     ]
    },
    {
     "name": "stdout",
     "output_type": "stream",
     "text": [
      "epoch 142, loss: 0.66862, acc: 0.69459, val_loss: 0.93285, val_accuracy: 0.59702\n"
     ]
    },
    {
     "name": "stderr",
     "output_type": "stream",
     "text": [
      "100%|██████████████████████████████████████████████████████████████████████████████████| 10/10 [00:01<00:00,  9.38it/s]\n"
     ]
    },
    {
     "name": "stdout",
     "output_type": "stream",
     "text": [
      "epoch 143, loss: 0.66691, acc: 0.69463, val_loss: 0.94026, val_accuracy: 0.59742\n"
     ]
    },
    {
     "name": "stderr",
     "output_type": "stream",
     "text": [
      "100%|██████████████████████████████████████████████████████████████████████████████████| 10/10 [00:01<00:00,  9.56it/s]\n"
     ]
    },
    {
     "name": "stdout",
     "output_type": "stream",
     "text": [
      "epoch 144, loss: 0.66618, acc: 0.69506, val_loss: 0.93486, val_accuracy: 0.59792\n"
     ]
    },
    {
     "name": "stderr",
     "output_type": "stream",
     "text": [
      "100%|██████████████████████████████████████████████████████████████████████████████████| 10/10 [00:01<00:00,  8.59it/s]\n"
     ]
    },
    {
     "name": "stdout",
     "output_type": "stream",
     "text": [
      "epoch 145, loss: 0.66646, acc: 0.69335, val_loss: 0.94085, val_accuracy: 0.59702\n"
     ]
    },
    {
     "name": "stderr",
     "output_type": "stream",
     "text": [
      "100%|██████████████████████████████████████████████████████████████████████████████████| 10/10 [00:01<00:00,  9.07it/s]\n"
     ]
    },
    {
     "name": "stdout",
     "output_type": "stream",
     "text": [
      "epoch 146, loss: 0.66538, acc: 0.69732, val_loss: 0.93760, val_accuracy: 0.59861\n"
     ]
    },
    {
     "name": "stderr",
     "output_type": "stream",
     "text": [
      "100%|██████████████████████████████████████████████████████████████████████████████████| 10/10 [00:01<00:00,  7.80it/s]\n"
     ]
    },
    {
     "name": "stdout",
     "output_type": "stream",
     "text": [
      "epoch 147, loss: 0.66432, acc: 0.69462, val_loss: 0.94349, val_accuracy: 0.59802\n"
     ]
    },
    {
     "name": "stderr",
     "output_type": "stream",
     "text": [
      "100%|██████████████████████████████████████████████████████████████████████████████████| 10/10 [00:01<00:00,  7.74it/s]\n"
     ]
    },
    {
     "name": "stdout",
     "output_type": "stream",
     "text": [
      "epoch 148, loss: 0.66514, acc: 0.69547, val_loss: 0.93923, val_accuracy: 0.60079\n"
     ]
    },
    {
     "name": "stderr",
     "output_type": "stream",
     "text": [
      "100%|██████████████████████████████████████████████████████████████████████████████████| 10/10 [00:01<00:00,  7.92it/s]\n"
     ]
    },
    {
     "name": "stdout",
     "output_type": "stream",
     "text": [
      "epoch 149, loss: 0.66303, acc: 0.69432, val_loss: 0.94309, val_accuracy: 0.59782\n"
     ]
    },
    {
     "name": "stderr",
     "output_type": "stream",
     "text": [
      "100%|██████████████████████████████████████████████████████████████████████████████████| 10/10 [00:01<00:00,  7.36it/s]\n"
     ]
    },
    {
     "name": "stdout",
     "output_type": "stream",
     "text": [
      "epoch 150, loss: 0.66300, acc: 0.69850, val_loss: 0.94364, val_accuracy: 0.60119\n"
     ]
    },
    {
     "name": "stderr",
     "output_type": "stream",
     "text": [
      "100%|██████████████████████████████████████████████████████████████████████████████████| 10/10 [00:01<00:00,  9.56it/s]\n"
     ]
    },
    {
     "name": "stdout",
     "output_type": "stream",
     "text": [
      "epoch 151, loss: 0.66194, acc: 0.69620, val_loss: 0.94362, val_accuracy: 0.61032\n"
     ]
    },
    {
     "name": "stderr",
     "output_type": "stream",
     "text": [
      "100%|██████████████████████████████████████████████████████████████████████████████████| 10/10 [00:01<00:00,  9.64it/s]\n"
     ]
    },
    {
     "name": "stdout",
     "output_type": "stream",
     "text": [
      "epoch 152, loss: 0.66135, acc: 0.70159, val_loss: 0.94302, val_accuracy: 0.60040\n"
     ]
    },
    {
     "name": "stderr",
     "output_type": "stream",
     "text": [
      "100%|██████████████████████████████████████████████████████████████████████████████████| 10/10 [00:01<00:00,  9.14it/s]\n"
     ]
    },
    {
     "name": "stdout",
     "output_type": "stream",
     "text": [
      "epoch 153, loss: 0.65960, acc: 0.69714, val_loss: 0.95050, val_accuracy: 0.58323\n"
     ]
    },
    {
     "name": "stderr",
     "output_type": "stream",
     "text": [
      "100%|██████████████████████████████████████████████████████████████████████████████████| 10/10 [00:01<00:00,  9.41it/s]\n"
     ]
    },
    {
     "name": "stdout",
     "output_type": "stream",
     "text": [
      "epoch 154, loss: 0.65958, acc: 0.70141, val_loss: 0.94370, val_accuracy: 0.59980\n"
     ]
    },
    {
     "name": "stderr",
     "output_type": "stream",
     "text": [
      "100%|██████████████████████████████████████████████████████████████████████████████████| 10/10 [00:01<00:00,  8.02it/s]\n"
     ]
    },
    {
     "name": "stdout",
     "output_type": "stream",
     "text": [
      "epoch 155, loss: 0.65783, acc: 0.69783, val_loss: 0.95060, val_accuracy: 0.59861\n"
     ]
    },
    {
     "name": "stderr",
     "output_type": "stream",
     "text": [
      "100%|██████████████████████████████████████████████████████████████████████████████████| 10/10 [00:01<00:00,  8.10it/s]\n"
     ]
    },
    {
     "name": "stdout",
     "output_type": "stream",
     "text": [
      "epoch 156, loss: 0.65756, acc: 0.70303, val_loss: 0.94739, val_accuracy: 0.60198\n"
     ]
    },
    {
     "name": "stderr",
     "output_type": "stream",
     "text": [
      "100%|██████████████████████████████████████████████████████████████████████████████████| 10/10 [00:01<00:00,  7.62it/s]\n"
     ]
    },
    {
     "name": "stdout",
     "output_type": "stream",
     "text": [
      "epoch 157, loss: 0.65676, acc: 0.69854, val_loss: 0.95386, val_accuracy: 0.58363\n"
     ]
    },
    {
     "name": "stderr",
     "output_type": "stream",
     "text": [
      "100%|██████████████████████████████████████████████████████████████████████████████████| 10/10 [00:00<00:00, 10.03it/s]\n"
     ]
    },
    {
     "name": "stdout",
     "output_type": "stream",
     "text": [
      "epoch 158, loss: 0.65624, acc: 0.70455, val_loss: 0.95451, val_accuracy: 0.58472\n"
     ]
    },
    {
     "name": "stderr",
     "output_type": "stream",
     "text": [
      "100%|██████████████████████████████████████████████████████████████████████████████████| 10/10 [00:01<00:00,  9.30it/s]\n"
     ]
    },
    {
     "name": "stdout",
     "output_type": "stream",
     "text": [
      "epoch 159, loss: 0.65717, acc: 0.69794, val_loss: 0.95407, val_accuracy: 0.58383\n"
     ]
    },
    {
     "name": "stderr",
     "output_type": "stream",
     "text": [
      "100%|██████████████████████████████████████████████████████████████████████████████████| 10/10 [00:01<00:00,  8.61it/s]\n"
     ]
    },
    {
     "name": "stdout",
     "output_type": "stream",
     "text": [
      "epoch 160, loss: 0.65486, acc: 0.70368, val_loss: 0.95219, val_accuracy: 0.58393\n"
     ]
    },
    {
     "name": "stderr",
     "output_type": "stream",
     "text": [
      "100%|██████████████████████████████████████████████████████████████████████████████████| 10/10 [00:01<00:00,  7.61it/s]\n"
     ]
    },
    {
     "name": "stdout",
     "output_type": "stream",
     "text": [
      "epoch 161, loss: 0.65565, acc: 0.70019, val_loss: 0.95755, val_accuracy: 0.58383\n"
     ]
    },
    {
     "name": "stderr",
     "output_type": "stream",
     "text": [
      "100%|██████████████████████████████████████████████████████████████████████████████████| 10/10 [00:00<00:00, 10.14it/s]\n"
     ]
    },
    {
     "name": "stdout",
     "output_type": "stream",
     "text": [
      "epoch 162, loss: 0.65387, acc: 0.70384, val_loss: 0.95355, val_accuracy: 0.60298\n"
     ]
    },
    {
     "name": "stderr",
     "output_type": "stream",
     "text": [
      "100%|██████████████████████████████████████████████████████████████████████████████████| 10/10 [00:01<00:00,  9.73it/s]\n"
     ]
    },
    {
     "name": "stdout",
     "output_type": "stream",
     "text": [
      "epoch 163, loss: 0.65387, acc: 0.70010, val_loss: 0.96105, val_accuracy: 0.58433\n"
     ]
    },
    {
     "name": "stderr",
     "output_type": "stream",
     "text": [
      "100%|██████████████████████████████████████████████████████████████████████████████████| 10/10 [00:01<00:00,  8.99it/s]\n"
     ]
    },
    {
     "name": "stdout",
     "output_type": "stream",
     "text": [
      "epoch 164, loss: 0.65291, acc: 0.70404, val_loss: 0.95624, val_accuracy: 0.58730\n"
     ]
    },
    {
     "name": "stderr",
     "output_type": "stream",
     "text": [
      "100%|██████████████████████████████████████████████████████████████████████████████████| 10/10 [00:01<00:00,  9.15it/s]\n"
     ]
    },
    {
     "name": "stdout",
     "output_type": "stream",
     "text": [
      "epoch 165, loss: 0.65152, acc: 0.70092, val_loss: 0.96049, val_accuracy: 0.58433\n"
     ]
    },
    {
     "name": "stderr",
     "output_type": "stream",
     "text": [
      "100%|██████████████████████████████████████████████████████████████████████████████████| 10/10 [00:01<00:00,  8.49it/s]\n"
     ]
    },
    {
     "name": "stdout",
     "output_type": "stream",
     "text": [
      "epoch 166, loss: 0.65084, acc: 0.70546, val_loss: 0.95891, val_accuracy: 0.58750\n"
     ]
    },
    {
     "name": "stderr",
     "output_type": "stream",
     "text": [
      "100%|██████████████████████████████████████████████████████████████████████████████████| 10/10 [00:01<00:00,  6.83it/s]\n"
     ]
    },
    {
     "name": "stdout",
     "output_type": "stream",
     "text": [
      "epoch 167, loss: 0.65127, acc: 0.70010, val_loss: 0.96242, val_accuracy: 0.58552\n"
     ]
    },
    {
     "name": "stderr",
     "output_type": "stream",
     "text": [
      "100%|██████████████████████████████████████████████████████████████████████████████████| 10/10 [00:00<00:00, 10.16it/s]\n"
     ]
    },
    {
     "name": "stdout",
     "output_type": "stream",
     "text": [
      "epoch 168, loss: 0.64966, acc: 0.70498, val_loss: 0.96080, val_accuracy: 0.60496\n"
     ]
    },
    {
     "name": "stderr",
     "output_type": "stream",
     "text": [
      "100%|██████████████████████████████████████████████████████████████████████████████████| 10/10 [00:00<00:00, 10.09it/s]\n"
     ]
    },
    {
     "name": "stdout",
     "output_type": "stream",
     "text": [
      "epoch 169, loss: 0.64928, acc: 0.70168, val_loss: 0.96428, val_accuracy: 0.58671\n"
     ]
    },
    {
     "name": "stderr",
     "output_type": "stream",
     "text": [
      "100%|██████████████████████████████████████████████████████████████████████████████████| 10/10 [00:00<00:00, 10.23it/s]\n"
     ]
    },
    {
     "name": "stdout",
     "output_type": "stream",
     "text": [
      "epoch 170, loss: 0.64897, acc: 0.70619, val_loss: 0.96323, val_accuracy: 0.58899\n"
     ]
    },
    {
     "name": "stderr",
     "output_type": "stream",
     "text": [
      "100%|██████████████████████████████████████████████████████████████████████████████████| 10/10 [00:01<00:00,  9.65it/s]\n"
     ]
    },
    {
     "name": "stdout",
     "output_type": "stream",
     "text": [
      "epoch 171, loss: 0.64773, acc: 0.70250, val_loss: 0.96956, val_accuracy: 0.58581\n"
     ]
    },
    {
     "name": "stderr",
     "output_type": "stream",
     "text": [
      "100%|██████████████████████████████████████████████████████████████████████████████████| 10/10 [00:01<00:00,  9.12it/s]\n"
     ]
    },
    {
     "name": "stdout",
     "output_type": "stream",
     "text": [
      "epoch 172, loss: 0.64705, acc: 0.70693, val_loss: 0.96522, val_accuracy: 0.58740\n"
     ]
    },
    {
     "name": "stderr",
     "output_type": "stream",
     "text": [
      "100%|██████████████████████████████████████████████████████████████████████████████████| 10/10 [00:01<00:00,  6.98it/s]\n"
     ]
    },
    {
     "name": "stdout",
     "output_type": "stream",
     "text": [
      "epoch 173, loss: 0.64511, acc: 0.70288, val_loss: 0.97038, val_accuracy: 0.58542\n"
     ]
    },
    {
     "name": "stderr",
     "output_type": "stream",
     "text": [
      "100%|██████████████████████████████████████████████████████████████████████████████████| 10/10 [00:01<00:00,  8.12it/s]\n"
     ]
    },
    {
     "name": "stdout",
     "output_type": "stream",
     "text": [
      "epoch 174, loss: 0.64590, acc: 0.70751, val_loss: 0.96687, val_accuracy: 0.59097\n"
     ]
    },
    {
     "name": "stderr",
     "output_type": "stream",
     "text": [
      "100%|██████████████████████████████████████████████████████████████████████████████████| 10/10 [00:01<00:00,  9.23it/s]\n"
     ]
    },
    {
     "name": "stdout",
     "output_type": "stream",
     "text": [
      "epoch 175, loss: 0.64469, acc: 0.70350, val_loss: 0.97091, val_accuracy: 0.58671\n"
     ]
    },
    {
     "name": "stderr",
     "output_type": "stream",
     "text": [
      "100%|██████████████████████████████████████████████████████████████████████████████████| 10/10 [00:01<00:00,  8.17it/s]\n"
     ]
    },
    {
     "name": "stdout",
     "output_type": "stream",
     "text": [
      "epoch 176, loss: 0.64280, acc: 0.70670, val_loss: 0.96916, val_accuracy: 0.58899\n"
     ]
    },
    {
     "name": "stderr",
     "output_type": "stream",
     "text": [
      "100%|██████████████████████████████████████████████████████████████████████████████████| 10/10 [00:01<00:00,  7.89it/s]\n"
     ]
    },
    {
     "name": "stdout",
     "output_type": "stream",
     "text": [
      "epoch 177, loss: 0.64336, acc: 0.70431, val_loss: 0.97045, val_accuracy: 0.58611\n"
     ]
    },
    {
     "name": "stderr",
     "output_type": "stream",
     "text": [
      "100%|██████████████████████████████████████████████████████████████████████████████████| 10/10 [00:01<00:00,  7.23it/s]\n"
     ]
    },
    {
     "name": "stdout",
     "output_type": "stream",
     "text": [
      "epoch 178, loss: 0.64189, acc: 0.70962, val_loss: 0.96837, val_accuracy: 0.60437\n"
     ]
    },
    {
     "name": "stderr",
     "output_type": "stream",
     "text": [
      "100%|██████████████████████████████████████████████████████████████████████████████████| 10/10 [00:01<00:00,  7.18it/s]\n"
     ]
    },
    {
     "name": "stdout",
     "output_type": "stream",
     "text": [
      "epoch 179, loss: 0.64187, acc: 0.70536, val_loss: 0.97438, val_accuracy: 0.58948\n"
     ]
    },
    {
     "name": "stderr",
     "output_type": "stream",
     "text": [
      "100%|██████████████████████████████████████████████████████████████████████████████████| 10/10 [00:00<00:00, 10.06it/s]\n"
     ]
    },
    {
     "name": "stdout",
     "output_type": "stream",
     "text": [
      "epoch 180, loss: 0.64084, acc: 0.71061, val_loss: 0.97265, val_accuracy: 0.59117\n"
     ]
    },
    {
     "name": "stderr",
     "output_type": "stream",
     "text": [
      "100%|██████████████████████████████████████████████████████████████████████████████████| 10/10 [00:01<00:00,  9.19it/s]\n"
     ]
    },
    {
     "name": "stdout",
     "output_type": "stream",
     "text": [
      "epoch 181, loss: 0.63932, acc: 0.70566, val_loss: 0.97865, val_accuracy: 0.58829\n"
     ]
    },
    {
     "name": "stderr",
     "output_type": "stream",
     "text": [
      "100%|██████████████████████████████████████████████████████████████████████████████████| 10/10 [00:00<00:00, 10.06it/s]\n"
     ]
    },
    {
     "name": "stdout",
     "output_type": "stream",
     "text": [
      "epoch 182, loss: 0.63903, acc: 0.71014, val_loss: 0.97307, val_accuracy: 0.60288\n"
     ]
    },
    {
     "name": "stderr",
     "output_type": "stream",
     "text": [
      "100%|██████████████████████████████████████████████████████████████████████████████████| 10/10 [00:01<00:00,  8.40it/s]\n"
     ]
    },
    {
     "name": "stdout",
     "output_type": "stream",
     "text": [
      "epoch 183, loss: 0.63927, acc: 0.70820, val_loss: 0.97883, val_accuracy: 0.58919\n"
     ]
    },
    {
     "name": "stderr",
     "output_type": "stream",
     "text": [
      "100%|██████████████████████████████████████████████████████████████████████████████████| 10/10 [00:01<00:00,  8.45it/s]\n"
     ]
    },
    {
     "name": "stdout",
     "output_type": "stream",
     "text": [
      "epoch 184, loss: 0.63775, acc: 0.71209, val_loss: 0.97352, val_accuracy: 0.60417\n"
     ]
    },
    {
     "name": "stderr",
     "output_type": "stream",
     "text": [
      "100%|██████████████████████████████████████████████████████████████████████████████████| 10/10 [00:01<00:00,  9.27it/s]\n"
     ]
    },
    {
     "name": "stdout",
     "output_type": "stream",
     "text": [
      "epoch 185, loss: 0.63775, acc: 0.70643, val_loss: 0.98333, val_accuracy: 0.59177\n"
     ]
    },
    {
     "name": "stderr",
     "output_type": "stream",
     "text": [
      "100%|██████████████████████████████████████████████████████████████████████████████████| 10/10 [00:01<00:00,  9.43it/s]\n"
     ]
    },
    {
     "name": "stdout",
     "output_type": "stream",
     "text": [
      "epoch 186, loss: 0.63698, acc: 0.71115, val_loss: 0.98153, val_accuracy: 0.60347\n"
     ]
    },
    {
     "name": "stderr",
     "output_type": "stream",
     "text": [
      "100%|██████████████████████████████████████████████████████████████████████████████████| 10/10 [00:01<00:00,  9.04it/s]\n"
     ]
    },
    {
     "name": "stdout",
     "output_type": "stream",
     "text": [
      "epoch 187, loss: 0.63763, acc: 0.70538, val_loss: 0.98233, val_accuracy: 0.58988\n"
     ]
    },
    {
     "name": "stderr",
     "output_type": "stream",
     "text": [
      "100%|██████████████████████████████████████████████████████████████████████████████████| 10/10 [00:01<00:00,  8.53it/s]\n"
     ]
    },
    {
     "name": "stdout",
     "output_type": "stream",
     "text": [
      "epoch 188, loss: 0.63549, acc: 0.70815, val_loss: 0.97951, val_accuracy: 0.60546\n"
     ]
    },
    {
     "name": "stderr",
     "output_type": "stream",
     "text": [
      "100%|██████████████████████████████████████████████████████████████████████████████████| 10/10 [00:01<00:00,  7.62it/s]\n"
     ]
    },
    {
     "name": "stdout",
     "output_type": "stream",
     "text": [
      "epoch 189, loss: 0.63565, acc: 0.70762, val_loss: 0.98604, val_accuracy: 0.58998\n"
     ]
    },
    {
     "name": "stderr",
     "output_type": "stream",
     "text": [
      "100%|██████████████████████████████████████████████████████████████████████████████████| 10/10 [00:01<00:00,  8.11it/s]\n"
     ]
    },
    {
     "name": "stdout",
     "output_type": "stream",
     "text": [
      "epoch 190, loss: 0.63623, acc: 0.71088, val_loss: 0.98274, val_accuracy: 0.60575\n"
     ]
    },
    {
     "name": "stderr",
     "output_type": "stream",
     "text": [
      "100%|██████████████████████████████████████████████████████████████████████████████████| 10/10 [00:01<00:00,  7.83it/s]\n"
     ]
    },
    {
     "name": "stdout",
     "output_type": "stream",
     "text": [
      "epoch 191, loss: 0.63385, acc: 0.70743, val_loss: 0.99054, val_accuracy: 0.59375\n"
     ]
    },
    {
     "name": "stderr",
     "output_type": "stream",
     "text": [
      "100%|██████████████████████████████████████████████████████████████████████████████████| 10/10 [00:01<00:00,  7.04it/s]\n"
     ]
    },
    {
     "name": "stdout",
     "output_type": "stream",
     "text": [
      "epoch 192, loss: 0.63330, acc: 0.71191, val_loss: 0.98254, val_accuracy: 0.60565\n"
     ]
    },
    {
     "name": "stderr",
     "output_type": "stream",
     "text": [
      "100%|██████████████████████████████████████████████████████████████████████████████████| 10/10 [00:01<00:00,  7.85it/s]\n"
     ]
    },
    {
     "name": "stdout",
     "output_type": "stream",
     "text": [
      "epoch 193, loss: 0.63352, acc: 0.70685, val_loss: 0.99356, val_accuracy: 0.59365\n"
     ]
    },
    {
     "name": "stderr",
     "output_type": "stream",
     "text": [
      "100%|██████████████████████████████████████████████████████████████████████████████████| 10/10 [00:01<00:00,  8.23it/s]\n"
     ]
    },
    {
     "name": "stdout",
     "output_type": "stream",
     "text": [
      "epoch 194, loss: 0.63229, acc: 0.71486, val_loss: 0.98558, val_accuracy: 0.60516\n"
     ]
    },
    {
     "name": "stderr",
     "output_type": "stream",
     "text": [
      "100%|██████████████████████████████████████████████████████████████████████████████████| 10/10 [00:01<00:00,  7.24it/s]\n"
     ]
    },
    {
     "name": "stdout",
     "output_type": "stream",
     "text": [
      "epoch 195, loss: 0.63264, acc: 0.70783, val_loss: 0.99222, val_accuracy: 0.59077\n"
     ]
    },
    {
     "name": "stderr",
     "output_type": "stream",
     "text": [
      "100%|██████████████████████████████████████████████████████████████████████████████████| 10/10 [00:01<00:00,  7.98it/s]\n"
     ]
    },
    {
     "name": "stdout",
     "output_type": "stream",
     "text": [
      "epoch 196, loss: 0.63052, acc: 0.71349, val_loss: 0.99034, val_accuracy: 0.60526\n"
     ]
    },
    {
     "name": "stderr",
     "output_type": "stream",
     "text": [
      "100%|██████████████████████████████████████████████████████████████████████████████████| 10/10 [00:01<00:00,  7.76it/s]\n"
     ]
    },
    {
     "name": "stdout",
     "output_type": "stream",
     "text": [
      "epoch 197, loss: 0.63159, acc: 0.70693, val_loss: 0.99138, val_accuracy: 0.59375\n"
     ]
    },
    {
     "name": "stderr",
     "output_type": "stream",
     "text": [
      "100%|██████████████████████████████████████████████████████████████████████████████████| 10/10 [00:01<00:00,  8.04it/s]\n"
     ]
    },
    {
     "name": "stdout",
     "output_type": "stream",
     "text": [
      "epoch 198, loss: 0.63020, acc: 0.71421, val_loss: 0.99067, val_accuracy: 0.60605\n"
     ]
    },
    {
     "name": "stderr",
     "output_type": "stream",
     "text": [
      "100%|██████████████████████████████████████████████████████████████████████████████████| 10/10 [00:01<00:00,  8.17it/s]\n"
     ]
    },
    {
     "name": "stdout",
     "output_type": "stream",
     "text": [
      "epoch 199, loss: 0.63050, acc: 0.70872, val_loss: 0.99959, val_accuracy: 0.59385\n"
     ]
    },
    {
     "name": "stderr",
     "output_type": "stream",
     "text": [
      "100%|██████████████████████████████████████████████████████████████████████████████████| 10/10 [00:01<00:00,  8.05it/s]\n"
     ]
    },
    {
     "name": "stdout",
     "output_type": "stream",
     "text": [
      "epoch 200, loss: 0.62869, acc: 0.71269, val_loss: 0.99179, val_accuracy: 0.60546\n"
     ]
    },
    {
     "name": "stderr",
     "output_type": "stream",
     "text": [
      "100%|██████████████████████████████████████████████████████████████████████████████████| 10/10 [00:01<00:00,  7.56it/s]\n"
     ]
    },
    {
     "name": "stdout",
     "output_type": "stream",
     "text": [
      "epoch 201, loss: 0.62765, acc: 0.71003, val_loss: 0.99852, val_accuracy: 0.59345\n"
     ]
    },
    {
     "name": "stderr",
     "output_type": "stream",
     "text": [
      "100%|██████████████████████████████████████████████████████████████████████████████████| 10/10 [00:01<00:00,  7.38it/s]\n"
     ]
    },
    {
     "name": "stdout",
     "output_type": "stream",
     "text": [
      "epoch 202, loss: 0.62726, acc: 0.71587, val_loss: 0.99864, val_accuracy: 0.60724\n"
     ]
    },
    {
     "name": "stderr",
     "output_type": "stream",
     "text": [
      "100%|██████████████████████████████████████████████████████████████████████████████████| 10/10 [00:01<00:00,  8.27it/s]\n"
     ]
    },
    {
     "name": "stdout",
     "output_type": "stream",
     "text": [
      "epoch 203, loss: 0.62706, acc: 0.71016, val_loss: 0.99858, val_accuracy: 0.60565\n"
     ]
    },
    {
     "name": "stderr",
     "output_type": "stream",
     "text": [
      "100%|██████████████████████████████████████████████████████████████████████████████████| 10/10 [00:01<00:00,  9.10it/s]\n"
     ]
    },
    {
     "name": "stdout",
     "output_type": "stream",
     "text": [
      "epoch 204, loss: 0.62572, acc: 0.71689, val_loss: 1.00236, val_accuracy: 0.60585\n"
     ]
    },
    {
     "name": "stderr",
     "output_type": "stream",
     "text": [
      "100%|██████████████████████████████████████████████████████████████████████████████████| 10/10 [00:01<00:00,  8.59it/s]\n"
     ]
    },
    {
     "name": "stdout",
     "output_type": "stream",
     "text": [
      "epoch 205, loss: 0.62324, acc: 0.71404, val_loss: 1.00100, val_accuracy: 0.59484\n"
     ]
    },
    {
     "name": "stderr",
     "output_type": "stream",
     "text": [
      "100%|██████████████████████████████████████████████████████████████████████████████████| 10/10 [00:01<00:00,  6.64it/s]\n"
     ]
    },
    {
     "name": "stdout",
     "output_type": "stream",
     "text": [
      "epoch 206, loss: 0.62495, acc: 0.71272, val_loss: 0.99997, val_accuracy: 0.59494\n"
     ]
    },
    {
     "name": "stderr",
     "output_type": "stream",
     "text": [
      "100%|██████████████████████████████████████████████████████████████████████████████████| 10/10 [00:00<00:00, 10.14it/s]\n"
     ]
    },
    {
     "name": "stdout",
     "output_type": "stream",
     "text": [
      "epoch 207, loss: 0.62313, acc: 0.71309, val_loss: 1.00082, val_accuracy: 0.60655\n"
     ]
    },
    {
     "name": "stderr",
     "output_type": "stream",
     "text": [
      "100%|██████████████████████████████████████████████████████████████████████████████████| 10/10 [00:00<00:00, 10.04it/s]\n"
     ]
    },
    {
     "name": "stdout",
     "output_type": "stream",
     "text": [
      "epoch 208, loss: 0.62141, acc: 0.72012, val_loss: 1.00431, val_accuracy: 0.60853\n"
     ]
    },
    {
     "name": "stderr",
     "output_type": "stream",
     "text": [
      "100%|██████████████████████████████████████████████████████████████████████████████████| 10/10 [00:01<00:00,  9.25it/s]\n"
     ]
    },
    {
     "name": "stdout",
     "output_type": "stream",
     "text": [
      "epoch 209, loss: 0.62093, acc: 0.71389, val_loss: 1.00466, val_accuracy: 0.59573\n"
     ]
    },
    {
     "name": "stderr",
     "output_type": "stream",
     "text": [
      "100%|██████████████████████████████████████████████████████████████████████████████████| 10/10 [00:01<00:00,  9.53it/s]\n"
     ]
    },
    {
     "name": "stdout",
     "output_type": "stream",
     "text": [
      "epoch 210, loss: 0.62033, acc: 0.72057, val_loss: 1.00760, val_accuracy: 0.60774\n"
     ]
    },
    {
     "name": "stderr",
     "output_type": "stream",
     "text": [
      "100%|██████████████████████████████████████████████████████████████████████████████████| 10/10 [00:01<00:00,  8.41it/s]\n"
     ]
    },
    {
     "name": "stdout",
     "output_type": "stream",
     "text": [
      "epoch 211, loss: 0.61921, acc: 0.71664, val_loss: 1.00661, val_accuracy: 0.60714\n"
     ]
    },
    {
     "name": "stderr",
     "output_type": "stream",
     "text": [
      "100%|██████████████████████████████████████████████████████████████████████████████████| 10/10 [00:01<00:00,  8.27it/s]\n"
     ]
    },
    {
     "name": "stdout",
     "output_type": "stream",
     "text": [
      "epoch 212, loss: 0.61782, acc: 0.71998, val_loss: 1.01106, val_accuracy: 0.60804\n"
     ]
    },
    {
     "name": "stderr",
     "output_type": "stream",
     "text": [
      "100%|██████████████████████████████████████████████████████████████████████████████████| 10/10 [00:01<00:00,  7.38it/s]\n"
     ]
    },
    {
     "name": "stdout",
     "output_type": "stream",
     "text": [
      "epoch 213, loss: 0.61710, acc: 0.71738, val_loss: 1.01700, val_accuracy: 0.59663\n"
     ]
    },
    {
     "name": "stderr",
     "output_type": "stream",
     "text": [
      "100%|██████████████████████████████████████████████████████████████████████████████████| 10/10 [00:01<00:00,  8.00it/s]\n"
     ]
    },
    {
     "name": "stdout",
     "output_type": "stream",
     "text": [
      "epoch 214, loss: 0.61668, acc: 0.71990, val_loss: 1.01049, val_accuracy: 0.59653\n"
     ]
    },
    {
     "name": "stderr",
     "output_type": "stream",
     "text": [
      "100%|██████████████████████████████████████████████████████████████████████████████████| 10/10 [00:01<00:00,  7.53it/s]\n"
     ]
    },
    {
     "name": "stdout",
     "output_type": "stream",
     "text": [
      "epoch 215, loss: 0.61556, acc: 0.71787, val_loss: 1.01149, val_accuracy: 0.60952\n"
     ]
    },
    {
     "name": "stderr",
     "output_type": "stream",
     "text": [
      "100%|██████████████████████████████████████████████████████████████████████████████████| 10/10 [00:01<00:00,  8.00it/s]\n"
     ]
    },
    {
     "name": "stdout",
     "output_type": "stream",
     "text": [
      "epoch 216, loss: 0.61492, acc: 0.72437, val_loss: 1.01725, val_accuracy: 0.61101\n"
     ]
    },
    {
     "name": "stderr",
     "output_type": "stream",
     "text": [
      "100%|██████████████████████████████████████████████████████████████████████████████████| 10/10 [00:01<00:00,  7.50it/s]\n"
     ]
    },
    {
     "name": "stdout",
     "output_type": "stream",
     "text": [
      "epoch 217, loss: 0.61402, acc: 0.72005, val_loss: 1.02237, val_accuracy: 0.61052\n"
     ]
    },
    {
     "name": "stderr",
     "output_type": "stream",
     "text": [
      "100%|██████████████████████████████████████████████████████████████████████████████████| 10/10 [00:01<00:00,  8.74it/s]\n"
     ]
    },
    {
     "name": "stdout",
     "output_type": "stream",
     "text": [
      "epoch 218, loss: 0.61295, acc: 0.72480, val_loss: 1.01998, val_accuracy: 0.59782\n"
     ]
    },
    {
     "name": "stderr",
     "output_type": "stream",
     "text": [
      "100%|██████████████████████████████████████████████████████████████████████████████████| 10/10 [00:01<00:00,  8.80it/s]\n"
     ]
    },
    {
     "name": "stdout",
     "output_type": "stream",
     "text": [
      "epoch 219, loss: 0.61231, acc: 0.72109, val_loss: 1.02494, val_accuracy: 0.60913\n"
     ]
    },
    {
     "name": "stderr",
     "output_type": "stream",
     "text": [
      "100%|██████████████████████████████████████████████████████████████████████████████████| 10/10 [00:01<00:00,  6.78it/s]\n"
     ]
    },
    {
     "name": "stdout",
     "output_type": "stream",
     "text": [
      "epoch 220, loss: 0.61165, acc: 0.72593, val_loss: 1.02305, val_accuracy: 0.59663\n"
     ]
    },
    {
     "name": "stderr",
     "output_type": "stream",
     "text": [
      "100%|██████████████████████████████████████████████████████████████████████████████████| 10/10 [00:01<00:00,  7.87it/s]\n"
     ]
    },
    {
     "name": "stdout",
     "output_type": "stream",
     "text": [
      "epoch 221, loss: 0.61159, acc: 0.72394, val_loss: 1.02200, val_accuracy: 0.60972\n"
     ]
    },
    {
     "name": "stderr",
     "output_type": "stream",
     "text": [
      "100%|██████████████████████████████████████████████████████████████████████████████████| 10/10 [00:01<00:00,  8.74it/s]\n"
     ]
    },
    {
     "name": "stdout",
     "output_type": "stream",
     "text": [
      "epoch 222, loss: 0.61002, acc: 0.72435, val_loss: 1.02648, val_accuracy: 0.61171\n"
     ]
    },
    {
     "name": "stderr",
     "output_type": "stream",
     "text": [
      "100%|██████████████████████████████████████████████████████████████████████████████████| 10/10 [00:01<00:00,  9.31it/s]\n"
     ]
    },
    {
     "name": "stdout",
     "output_type": "stream",
     "text": [
      "epoch 223, loss: 0.61024, acc: 0.72518, val_loss: 1.03042, val_accuracy: 0.61111\n"
     ]
    },
    {
     "name": "stderr",
     "output_type": "stream",
     "text": [
      "100%|██████████████████████████████████████████████████████████████████████████████████| 10/10 [00:00<00:00, 10.09it/s]\n"
     ]
    },
    {
     "name": "stdout",
     "output_type": "stream",
     "text": [
      "epoch 224, loss: 0.60946, acc: 0.72436, val_loss: 1.02237, val_accuracy: 0.61012\n"
     ]
    },
    {
     "name": "stderr",
     "output_type": "stream",
     "text": [
      "100%|██████████████████████████████████████████████████████████████████████████████████| 10/10 [00:00<00:00, 10.14it/s]\n"
     ]
    },
    {
     "name": "stdout",
     "output_type": "stream",
     "text": [
      "epoch 225, loss: 0.60923, acc: 0.72424, val_loss: 1.02903, val_accuracy: 0.61379\n"
     ]
    },
    {
     "name": "stderr",
     "output_type": "stream",
     "text": [
      "100%|██████████████████████████████████████████████████████████████████████████████████| 10/10 [00:01<00:00,  9.52it/s]\n"
     ]
    },
    {
     "name": "stdout",
     "output_type": "stream",
     "text": [
      "epoch 226, loss: 0.60821, acc: 0.72284, val_loss: 1.03417, val_accuracy: 0.61319\n"
     ]
    },
    {
     "name": "stderr",
     "output_type": "stream",
     "text": [
      "100%|██████████████████████████████████████████████████████████████████████████████████| 10/10 [00:01<00:00,  9.02it/s]\n"
     ]
    },
    {
     "name": "stdout",
     "output_type": "stream",
     "text": [
      "epoch 227, loss: 0.60842, acc: 0.72393, val_loss: 1.03162, val_accuracy: 0.61071\n"
     ]
    },
    {
     "name": "stderr",
     "output_type": "stream",
     "text": [
      "100%|██████████████████████████████████████████████████████████████████████████████████| 10/10 [00:01<00:00,  7.68it/s]\n"
     ]
    },
    {
     "name": "stdout",
     "output_type": "stream",
     "text": [
      "epoch 228, loss: 0.60764, acc: 0.72577, val_loss: 1.03277, val_accuracy: 0.61319\n"
     ]
    },
    {
     "name": "stderr",
     "output_type": "stream",
     "text": [
      "100%|██████████████████████████████████████████████████████████████████████████████████| 10/10 [00:01<00:00,  7.34it/s]\n"
     ]
    },
    {
     "name": "stdout",
     "output_type": "stream",
     "text": [
      "epoch 229, loss: 0.60750, acc: 0.72467, val_loss: 1.03765, val_accuracy: 0.61250\n"
     ]
    },
    {
     "name": "stderr",
     "output_type": "stream",
     "text": [
      "100%|██████████████████████████████████████████████████████████████████████████████████| 10/10 [00:01<00:00,  7.83it/s]\n"
     ]
    },
    {
     "name": "stdout",
     "output_type": "stream",
     "text": [
      "epoch 230, loss: 0.60594, acc: 0.72596, val_loss: 1.03184, val_accuracy: 0.61369\n"
     ]
    },
    {
     "name": "stderr",
     "output_type": "stream",
     "text": [
      "100%|██████████████████████████████████████████████████████████████████████████████████| 10/10 [00:01<00:00,  7.51it/s]\n"
     ]
    },
    {
     "name": "stdout",
     "output_type": "stream",
     "text": [
      "epoch 231, loss: 0.60656, acc: 0.72540, val_loss: 1.03769, val_accuracy: 0.61300\n"
     ]
    },
    {
     "name": "stderr",
     "output_type": "stream",
     "text": [
      "100%|██████████████████████████████████████████████████████████████████████████████████| 10/10 [00:01<00:00,  6.99it/s]\n"
     ]
    },
    {
     "name": "stdout",
     "output_type": "stream",
     "text": [
      "epoch 232, loss: 0.60467, acc: 0.72847, val_loss: 1.03949, val_accuracy: 0.61230\n"
     ]
    },
    {
     "name": "stderr",
     "output_type": "stream",
     "text": [
      "100%|██████████████████████████████████████████████████████████████████████████████████| 10/10 [00:01<00:00,  7.00it/s]\n"
     ]
    },
    {
     "name": "stdout",
     "output_type": "stream",
     "text": [
      "epoch 233, loss: 0.60504, acc: 0.72658, val_loss: 1.04301, val_accuracy: 0.61349\n"
     ]
    },
    {
     "name": "stderr",
     "output_type": "stream",
     "text": [
      "100%|██████████████████████████████████████████████████████████████████████████████████| 10/10 [00:01<00:00,  7.27it/s]\n"
     ]
    },
    {
     "name": "stdout",
     "output_type": "stream",
     "text": [
      "epoch 234, loss: 0.60470, acc: 0.72882, val_loss: 1.03532, val_accuracy: 0.61329\n"
     ]
    },
    {
     "name": "stderr",
     "output_type": "stream",
     "text": [
      "100%|██████████████████████████████████████████████████████████████████████████████████| 10/10 [00:01<00:00,  6.55it/s]\n"
     ]
    },
    {
     "name": "stdout",
     "output_type": "stream",
     "text": [
      "epoch 235, loss: 0.60363, acc: 0.72673, val_loss: 1.04638, val_accuracy: 0.60179\n"
     ]
    },
    {
     "name": "stderr",
     "output_type": "stream",
     "text": [
      "100%|██████████████████████████████████████████████████████████████████████████████████| 10/10 [00:01<00:00,  6.76it/s]\n"
     ]
    },
    {
     "name": "stdout",
     "output_type": "stream",
     "text": [
      "epoch 236, loss: 0.60281, acc: 0.72915, val_loss: 1.04014, val_accuracy: 0.61339\n"
     ]
    },
    {
     "name": "stderr",
     "output_type": "stream",
     "text": [
      "100%|██████████████████████████████████████████████████████████████████████████████████| 10/10 [00:01<00:00,  6.98it/s]\n"
     ]
    },
    {
     "name": "stdout",
     "output_type": "stream",
     "text": [
      "epoch 237, loss: 0.60207, acc: 0.72868, val_loss: 1.04918, val_accuracy: 0.61478\n"
     ]
    },
    {
     "name": "stderr",
     "output_type": "stream",
     "text": [
      "100%|██████████████████████████████████████████████████████████████████████████████████| 10/10 [00:01<00:00,  7.97it/s]\n"
     ]
    },
    {
     "name": "stdout",
     "output_type": "stream",
     "text": [
      "epoch 238, loss: 0.60175, acc: 0.73278, val_loss: 1.04460, val_accuracy: 0.61300\n"
     ]
    },
    {
     "name": "stderr",
     "output_type": "stream",
     "text": [
      "100%|██████████████████████████████████████████████████████████████████████████████████| 10/10 [00:01<00:00,  7.95it/s]\n"
     ]
    },
    {
     "name": "stdout",
     "output_type": "stream",
     "text": [
      "epoch 239, loss: 0.60126, acc: 0.72931, val_loss: 1.04933, val_accuracy: 0.61280\n"
     ]
    },
    {
     "name": "stderr",
     "output_type": "stream",
     "text": [
      "100%|██████████████████████████████████████████████████████████████████████████████████| 10/10 [00:01<00:00,  8.72it/s]\n"
     ]
    },
    {
     "name": "stdout",
     "output_type": "stream",
     "text": [
      "epoch 240, loss: 0.59975, acc: 0.73092, val_loss: 1.05156, val_accuracy: 0.61458\n"
     ]
    },
    {
     "name": "stderr",
     "output_type": "stream",
     "text": [
      "100%|██████████████████████████████████████████████████████████████████████████████████| 10/10 [00:01<00:00,  8.40it/s]\n"
     ]
    },
    {
     "name": "stdout",
     "output_type": "stream",
     "text": [
      "epoch 241, loss: 0.60004, acc: 0.73013, val_loss: 1.04796, val_accuracy: 0.61399\n"
     ]
    },
    {
     "name": "stderr",
     "output_type": "stream",
     "text": [
      "100%|██████████████████████████████████████████████████████████████████████████████████| 10/10 [00:01<00:00,  8.15it/s]\n"
     ]
    },
    {
     "name": "stdout",
     "output_type": "stream",
     "text": [
      "epoch 242, loss: 0.59836, acc: 0.73384, val_loss: 1.05077, val_accuracy: 0.61518\n"
     ]
    },
    {
     "name": "stderr",
     "output_type": "stream",
     "text": [
      "100%|██████████████████████████████████████████████████████████████████████████████████| 10/10 [00:01<00:00,  7.10it/s]\n"
     ]
    },
    {
     "name": "stdout",
     "output_type": "stream",
     "text": [
      "epoch 243, loss: 0.59985, acc: 0.72836, val_loss: 1.05231, val_accuracy: 0.61627\n"
     ]
    },
    {
     "name": "stderr",
     "output_type": "stream",
     "text": [
      "100%|██████████████████████████████████████████████████████████████████████████████████| 10/10 [00:01<00:00,  8.63it/s]\n"
     ]
    },
    {
     "name": "stdout",
     "output_type": "stream",
     "text": [
      "epoch 244, loss: 0.59667, acc: 0.73348, val_loss: 1.05707, val_accuracy: 0.61528\n"
     ]
    },
    {
     "name": "stderr",
     "output_type": "stream",
     "text": [
      "100%|██████████████████████████████████████████████████████████████████████████████████| 10/10 [00:01<00:00,  8.17it/s]\n"
     ]
    },
    {
     "name": "stdout",
     "output_type": "stream",
     "text": [
      "epoch 245, loss: 0.59838, acc: 0.73252, val_loss: 1.05657, val_accuracy: 0.61587\n"
     ]
    },
    {
     "name": "stderr",
     "output_type": "stream",
     "text": [
      "100%|██████████████████████████████████████████████████████████████████████████████████| 10/10 [00:01<00:00,  8.50it/s]\n"
     ]
    },
    {
     "name": "stdout",
     "output_type": "stream",
     "text": [
      "epoch 246, loss: 0.59598, acc: 0.73454, val_loss: 1.05169, val_accuracy: 0.61478\n"
     ]
    },
    {
     "name": "stderr",
     "output_type": "stream",
     "text": [
      "100%|██████████████████████████████████████████████████████████████████████████████████| 10/10 [00:01<00:00,  7.97it/s]\n"
     ]
    },
    {
     "name": "stdout",
     "output_type": "stream",
     "text": [
      "epoch 247, loss: 0.59577, acc: 0.73278, val_loss: 1.05651, val_accuracy: 0.61597\n"
     ]
    },
    {
     "name": "stderr",
     "output_type": "stream",
     "text": [
      "100%|██████████████████████████████████████████████████████████████████████████████████| 10/10 [00:01<00:00,  7.37it/s]\n"
     ]
    },
    {
     "name": "stdout",
     "output_type": "stream",
     "text": [
      "epoch 248, loss: 0.59415, acc: 0.73738, val_loss: 1.05991, val_accuracy: 0.61508\n"
     ]
    },
    {
     "name": "stderr",
     "output_type": "stream",
     "text": [
      "100%|██████████████████████████████████████████████████████████████████████████████████| 10/10 [00:01<00:00,  8.60it/s]\n"
     ]
    },
    {
     "name": "stdout",
     "output_type": "stream",
     "text": [
      "epoch 249, loss: 0.59474, acc: 0.73478, val_loss: 1.06165, val_accuracy: 0.61657\n"
     ]
    },
    {
     "name": "stderr",
     "output_type": "stream",
     "text": [
      "100%|██████████████████████████████████████████████████████████████████████████████████| 10/10 [00:01<00:00,  7.39it/s]\n"
     ]
    },
    {
     "name": "stdout",
     "output_type": "stream",
     "text": [
      "epoch 250, loss: 0.59329, acc: 0.73739, val_loss: 1.05837, val_accuracy: 0.61667\n"
     ]
    },
    {
     "name": "stderr",
     "output_type": "stream",
     "text": [
      "100%|██████████████████████████████████████████████████████████████████████████████████| 10/10 [00:01<00:00,  8.83it/s]\n"
     ]
    },
    {
     "name": "stdout",
     "output_type": "stream",
     "text": [
      "epoch 251, loss: 0.59289, acc: 0.73653, val_loss: 1.06142, val_accuracy: 0.61716\n"
     ]
    },
    {
     "name": "stderr",
     "output_type": "stream",
     "text": [
      "100%|██████████████████████████████████████████████████████████████████████████████████| 10/10 [00:01<00:00,  8.33it/s]\n"
     ]
    },
    {
     "name": "stdout",
     "output_type": "stream",
     "text": [
      "epoch 252, loss: 0.59215, acc: 0.73705, val_loss: 1.06596, val_accuracy: 0.59891\n"
     ]
    },
    {
     "name": "stderr",
     "output_type": "stream",
     "text": [
      "100%|██████████████████████████████████████████████████████████████████████████████████| 10/10 [00:01<00:00,  7.84it/s]\n"
     ]
    },
    {
     "name": "stdout",
     "output_type": "stream",
     "text": [
      "epoch 253, loss: 0.59181, acc: 0.73701, val_loss: 1.06806, val_accuracy: 0.61835\n"
     ]
    },
    {
     "name": "stderr",
     "output_type": "stream",
     "text": [
      "100%|██████████████████████████████████████████████████████████████████████████████████| 10/10 [00:01<00:00,  9.37it/s]\n"
     ]
    },
    {
     "name": "stdout",
     "output_type": "stream",
     "text": [
      "epoch 254, loss: 0.59014, acc: 0.73733, val_loss: 1.06332, val_accuracy: 0.61647\n"
     ]
    },
    {
     "name": "stderr",
     "output_type": "stream",
     "text": [
      "100%|██████████████████████████████████████████████████████████████████████████████████| 10/10 [00:01<00:00,  9.29it/s]\n"
     ]
    },
    {
     "name": "stdout",
     "output_type": "stream",
     "text": [
      "epoch 255, loss: 0.59016, acc: 0.73844, val_loss: 1.06969, val_accuracy: 0.61855\n"
     ]
    },
    {
     "name": "stderr",
     "output_type": "stream",
     "text": [
      "100%|██████████████████████████████████████████████████████████████████████████████████| 10/10 [00:01<00:00,  9.54it/s]\n"
     ]
    },
    {
     "name": "stdout",
     "output_type": "stream",
     "text": [
      "epoch 256, loss: 0.58915, acc: 0.73672, val_loss: 1.06353, val_accuracy: 0.61746\n"
     ]
    },
    {
     "name": "stderr",
     "output_type": "stream",
     "text": [
      "100%|██████████████████████████████████████████████████████████████████████████████████| 10/10 [00:01<00:00,  8.36it/s]\n"
     ]
    },
    {
     "name": "stdout",
     "output_type": "stream",
     "text": [
      "epoch 257, loss: 0.58871, acc: 0.73593, val_loss: 1.07323, val_accuracy: 0.62034\n"
     ]
    },
    {
     "name": "stderr",
     "output_type": "stream",
     "text": [
      "100%|██████████████████████████████████████████████████████████████████████████████████| 10/10 [00:01<00:00,  7.53it/s]\n"
     ]
    },
    {
     "name": "stdout",
     "output_type": "stream",
     "text": [
      "epoch 258, loss: 0.58780, acc: 0.73606, val_loss: 1.07193, val_accuracy: 0.60050\n"
     ]
    },
    {
     "name": "stderr",
     "output_type": "stream",
     "text": [
      "100%|██████████████████████████████████████████████████████████████████████████████████| 10/10 [00:01<00:00,  8.83it/s]\n"
     ]
    },
    {
     "name": "stdout",
     "output_type": "stream",
     "text": [
      "epoch 259, loss: 0.58883, acc: 0.73690, val_loss: 1.07434, val_accuracy: 0.62034\n"
     ]
    },
    {
     "name": "stderr",
     "output_type": "stream",
     "text": [
      "100%|██████████████████████████████████████████████████████████████████████████████████| 10/10 [00:01<00:00,  8.43it/s]\n"
     ]
    },
    {
     "name": "stdout",
     "output_type": "stream",
     "text": [
      "epoch 260, loss: 0.58602, acc: 0.74094, val_loss: 1.07864, val_accuracy: 0.60119\n"
     ]
    },
    {
     "name": "stderr",
     "output_type": "stream",
     "text": [
      "100%|██████████████████████████████████████████████████████████████████████████████████| 10/10 [00:01<00:00,  8.80it/s]\n"
     ]
    },
    {
     "name": "stdout",
     "output_type": "stream",
     "text": [
      "epoch 261, loss: 0.58763, acc: 0.74032, val_loss: 1.07273, val_accuracy: 0.62024\n"
     ]
    },
    {
     "name": "stderr",
     "output_type": "stream",
     "text": [
      "100%|██████████████████████████████████████████████████████████████████████████████████| 10/10 [00:01<00:00,  7.38it/s]\n"
     ]
    },
    {
     "name": "stdout",
     "output_type": "stream",
     "text": [
      "epoch 262, loss: 0.58585, acc: 0.73571, val_loss: 1.07547, val_accuracy: 0.60258\n"
     ]
    },
    {
     "name": "stderr",
     "output_type": "stream",
     "text": [
      "100%|██████████████████████████████████████████████████████████████████████████████████| 10/10 [00:01<00:00,  8.89it/s]\n"
     ]
    },
    {
     "name": "stdout",
     "output_type": "stream",
     "text": [
      "epoch 263, loss: 0.58437, acc: 0.74092, val_loss: 1.08213, val_accuracy: 0.62044\n"
     ]
    },
    {
     "name": "stderr",
     "output_type": "stream",
     "text": [
      "100%|██████████████████████████████████████████████████████████████████████████████████| 10/10 [00:01<00:00,  7.18it/s]\n"
     ]
    },
    {
     "name": "stdout",
     "output_type": "stream",
     "text": [
      "epoch 264, loss: 0.58582, acc: 0.73806, val_loss: 1.07924, val_accuracy: 0.60298\n"
     ]
    },
    {
     "name": "stderr",
     "output_type": "stream",
     "text": [
      "100%|██████████████████████████████████████████████████████████████████████████████████| 10/10 [00:01<00:00,  8.38it/s]\n"
     ]
    },
    {
     "name": "stdout",
     "output_type": "stream",
     "text": [
      "epoch 265, loss: 0.58260, acc: 0.74202, val_loss: 1.08903, val_accuracy: 0.62093\n"
     ]
    },
    {
     "name": "stderr",
     "output_type": "stream",
     "text": [
      "100%|██████████████████████████████████████████████████████████████████████████████████| 10/10 [00:01<00:00,  9.67it/s]\n"
     ]
    },
    {
     "name": "stdout",
     "output_type": "stream",
     "text": [
      "epoch 266, loss: 0.58517, acc: 0.73888, val_loss: 1.07433, val_accuracy: 0.60258\n"
     ]
    },
    {
     "name": "stderr",
     "output_type": "stream",
     "text": [
      "100%|██████████████████████████████████████████████████████████████████████████████████| 10/10 [00:01<00:00,  8.54it/s]\n"
     ]
    },
    {
     "name": "stdout",
     "output_type": "stream",
     "text": [
      "epoch 267, loss: 0.58041, acc: 0.74368, val_loss: 1.08768, val_accuracy: 0.61954\n"
     ]
    },
    {
     "name": "stderr",
     "output_type": "stream",
     "text": [
      "100%|██████████████████████████████████████████████████████████████████████████████████| 10/10 [00:01<00:00,  8.35it/s]\n"
     ]
    },
    {
     "name": "stdout",
     "output_type": "stream",
     "text": [
      "epoch 268, loss: 0.58330, acc: 0.74243, val_loss: 1.08616, val_accuracy: 0.60377\n"
     ]
    },
    {
     "name": "stderr",
     "output_type": "stream",
     "text": [
      "100%|██████████████████████████████████████████████████████████████████████████████████| 10/10 [00:01<00:00,  7.63it/s]\n"
     ]
    },
    {
     "name": "stdout",
     "output_type": "stream",
     "text": [
      "epoch 269, loss: 0.57899, acc: 0.74280, val_loss: 1.09240, val_accuracy: 0.60357\n"
     ]
    },
    {
     "name": "stderr",
     "output_type": "stream",
     "text": [
      "100%|██████████████████████████████████████████████████████████████████████████████████| 10/10 [00:01<00:00,  7.97it/s]\n"
     ]
    },
    {
     "name": "stdout",
     "output_type": "stream",
     "text": [
      "epoch 270, loss: 0.58111, acc: 0.74034, val_loss: 1.08913, val_accuracy: 0.60337\n"
     ]
    },
    {
     "name": "stderr",
     "output_type": "stream",
     "text": [
      "100%|██████████████████████████████████████████████████████████████████████████████████| 10/10 [00:01<00:00,  7.63it/s]\n"
     ]
    },
    {
     "name": "stdout",
     "output_type": "stream",
     "text": [
      "epoch 271, loss: 0.57705, acc: 0.74429, val_loss: 1.09697, val_accuracy: 0.60536\n"
     ]
    },
    {
     "name": "stderr",
     "output_type": "stream",
     "text": [
      "100%|██████████████████████████████████████████████████████████████████████████████████| 10/10 [00:01<00:00,  8.84it/s]\n"
     ]
    },
    {
     "name": "stdout",
     "output_type": "stream",
     "text": [
      "epoch 272, loss: 0.58080, acc: 0.73867, val_loss: 1.08132, val_accuracy: 0.62093\n"
     ]
    },
    {
     "name": "stderr",
     "output_type": "stream",
     "text": [
      "100%|██████████████████████████████████████████████████████████████████████████████████| 10/10 [00:01<00:00,  8.43it/s]\n"
     ]
    },
    {
     "name": "stdout",
     "output_type": "stream",
     "text": [
      "epoch 273, loss: 0.57543, acc: 0.74473, val_loss: 1.09283, val_accuracy: 0.60536\n"
     ]
    },
    {
     "name": "stderr",
     "output_type": "stream",
     "text": [
      "100%|██████████████████████████████████████████████████████████████████████████████████| 10/10 [00:01<00:00,  8.17it/s]\n"
     ]
    },
    {
     "name": "stdout",
     "output_type": "stream",
     "text": [
      "epoch 274, loss: 0.57733, acc: 0.74242, val_loss: 1.09561, val_accuracy: 0.60446\n"
     ]
    },
    {
     "name": "stderr",
     "output_type": "stream",
     "text": [
      "100%|██████████████████████████████████████████████████████████████████████████████████| 10/10 [00:01<00:00,  8.34it/s]\n"
     ]
    },
    {
     "name": "stdout",
     "output_type": "stream",
     "text": [
      "epoch 275, loss: 0.57524, acc: 0.74484, val_loss: 1.09679, val_accuracy: 0.60387\n"
     ]
    },
    {
     "name": "stderr",
     "output_type": "stream",
     "text": [
      "100%|██████████████████████████████████████████████████████████████████████████████████| 10/10 [00:01<00:00,  8.76it/s]\n"
     ]
    },
    {
     "name": "stdout",
     "output_type": "stream",
     "text": [
      "epoch 276, loss: 0.57638, acc: 0.74285, val_loss: 1.09836, val_accuracy: 0.60486\n"
     ]
    },
    {
     "name": "stderr",
     "output_type": "stream",
     "text": [
      "100%|██████████████████████████████████████████████████████████████████████████████████| 10/10 [00:01<00:00,  9.65it/s]\n"
     ]
    },
    {
     "name": "stdout",
     "output_type": "stream",
     "text": [
      "epoch 277, loss: 0.57346, acc: 0.74668, val_loss: 1.09540, val_accuracy: 0.60486\n"
     ]
    },
    {
     "name": "stderr",
     "output_type": "stream",
     "text": [
      "100%|██████████████████████████████████████████████████████████████████████████████████| 10/10 [00:01<00:00,  8.46it/s]\n"
     ]
    },
    {
     "name": "stdout",
     "output_type": "stream",
     "text": [
      "epoch 278, loss: 0.57545, acc: 0.74112, val_loss: 1.10359, val_accuracy: 0.60605\n"
     ]
    },
    {
     "name": "stderr",
     "output_type": "stream",
     "text": [
      "100%|██████████████████████████████████████████████████████████████████████████████████| 10/10 [00:01<00:00,  7.58it/s]\n"
     ]
    },
    {
     "name": "stdout",
     "output_type": "stream",
     "text": [
      "epoch 279, loss: 0.57242, acc: 0.74659, val_loss: 1.10286, val_accuracy: 0.60427\n"
     ]
    },
    {
     "name": "stderr",
     "output_type": "stream",
     "text": [
      "100%|██████████████████████████████████████████████████████████████████████████████████| 10/10 [00:01<00:00,  8.55it/s]\n"
     ]
    },
    {
     "name": "stdout",
     "output_type": "stream",
     "text": [
      "epoch 280, loss: 0.57473, acc: 0.74262, val_loss: 1.10604, val_accuracy: 0.60585\n"
     ]
    },
    {
     "name": "stderr",
     "output_type": "stream",
     "text": [
      "100%|██████████████████████████████████████████████████████████████████████████████████| 10/10 [00:01<00:00,  8.50it/s]\n"
     ]
    },
    {
     "name": "stdout",
     "output_type": "stream",
     "text": [
      "epoch 281, loss: 0.57193, acc: 0.74644, val_loss: 1.09990, val_accuracy: 0.60387\n"
     ]
    },
    {
     "name": "stderr",
     "output_type": "stream",
     "text": [
      "100%|██████████████████████████████████████████████████████████████████████████████████| 10/10 [00:01<00:00,  7.96it/s]\n"
     ]
    },
    {
     "name": "stdout",
     "output_type": "stream",
     "text": [
      "epoch 282, loss: 0.57289, acc: 0.74365, val_loss: 1.11280, val_accuracy: 0.60595\n"
     ]
    },
    {
     "name": "stderr",
     "output_type": "stream",
     "text": [
      "100%|██████████████████████████████████████████████████████████████████████████████████| 10/10 [00:01<00:00,  9.61it/s]\n"
     ]
    },
    {
     "name": "stdout",
     "output_type": "stream",
     "text": [
      "epoch 283, loss: 0.57131, acc: 0.74758, val_loss: 1.09704, val_accuracy: 0.60466\n"
     ]
    },
    {
     "name": "stderr",
     "output_type": "stream",
     "text": [
      "100%|██████████████████████████████████████████████████████████████████████████████████| 10/10 [00:01<00:00,  8.90it/s]\n"
     ]
    },
    {
     "name": "stdout",
     "output_type": "stream",
     "text": [
      "epoch 284, loss: 0.57169, acc: 0.74188, val_loss: 1.11122, val_accuracy: 0.60536\n"
     ]
    },
    {
     "name": "stderr",
     "output_type": "stream",
     "text": [
      "100%|██████████████████████████████████████████████████████████████████████████████████| 10/10 [00:01<00:00,  7.73it/s]\n"
     ]
    },
    {
     "name": "stdout",
     "output_type": "stream",
     "text": [
      "epoch 285, loss: 0.57042, acc: 0.74896, val_loss: 1.10142, val_accuracy: 0.60565\n"
     ]
    },
    {
     "name": "stderr",
     "output_type": "stream",
     "text": [
      "100%|██████████████████████████████████████████████████████████████████████████████████| 10/10 [00:01<00:00,  7.76it/s]\n"
     ]
    },
    {
     "name": "stdout",
     "output_type": "stream",
     "text": [
      "epoch 286, loss: 0.56988, acc: 0.74330, val_loss: 1.11749, val_accuracy: 0.60694\n"
     ]
    },
    {
     "name": "stderr",
     "output_type": "stream",
     "text": [
      "100%|██████████████████████████████████████████████████████████████████████████████████| 10/10 [00:01<00:00,  7.51it/s]\n"
     ]
    },
    {
     "name": "stdout",
     "output_type": "stream",
     "text": [
      "epoch 287, loss: 0.56965, acc: 0.74867, val_loss: 1.10628, val_accuracy: 0.60694\n"
     ]
    },
    {
     "name": "stderr",
     "output_type": "stream",
     "text": [
      "100%|██████████████████████████████████████████████████████████████████████████████████| 10/10 [00:01<00:00,  9.59it/s]\n"
     ]
    },
    {
     "name": "stdout",
     "output_type": "stream",
     "text": [
      "epoch 288, loss: 0.56866, acc: 0.74683, val_loss: 1.12249, val_accuracy: 0.60744\n"
     ]
    },
    {
     "name": "stderr",
     "output_type": "stream",
     "text": [
      "100%|██████████████████████████████████████████████████████████████████████████████████| 10/10 [00:01<00:00,  8.95it/s]\n"
     ]
    },
    {
     "name": "stdout",
     "output_type": "stream",
     "text": [
      "epoch 289, loss: 0.56921, acc: 0.74937, val_loss: 1.10377, val_accuracy: 0.60655\n"
     ]
    },
    {
     "name": "stderr",
     "output_type": "stream",
     "text": [
      "100%|██████████████████████████████████████████████████████████████████████████████████| 10/10 [00:01<00:00,  8.45it/s]\n"
     ]
    },
    {
     "name": "stdout",
     "output_type": "stream",
     "text": [
      "epoch 290, loss: 0.56860, acc: 0.74576, val_loss: 1.11925, val_accuracy: 0.60992\n"
     ]
    },
    {
     "name": "stderr",
     "output_type": "stream",
     "text": [
      "100%|██████████████████████████████████████████████████████████████████████████████████| 10/10 [00:01<00:00,  9.21it/s]\n"
     ]
    },
    {
     "name": "stdout",
     "output_type": "stream",
     "text": [
      "epoch 291, loss: 0.56707, acc: 0.74900, val_loss: 1.11527, val_accuracy: 0.60635\n"
     ]
    },
    {
     "name": "stderr",
     "output_type": "stream",
     "text": [
      "100%|██████████████████████████████████████████████████████████████████████████████████| 10/10 [00:01<00:00,  8.04it/s]\n"
     ]
    },
    {
     "name": "stdout",
     "output_type": "stream",
     "text": [
      "epoch 292, loss: 0.56851, acc: 0.74449, val_loss: 1.12327, val_accuracy: 0.61071\n"
     ]
    },
    {
     "name": "stderr",
     "output_type": "stream",
     "text": [
      "100%|██████████████████████████████████████████████████████████████████████████████████| 10/10 [00:01<00:00,  6.38it/s]\n"
     ]
    },
    {
     "name": "stdout",
     "output_type": "stream",
     "text": [
      "epoch 293, loss: 0.56526, acc: 0.75059, val_loss: 1.12000, val_accuracy: 0.60694\n"
     ]
    },
    {
     "name": "stderr",
     "output_type": "stream",
     "text": [
      "100%|██████████████████████████████████████████████████████████████████████████████████| 10/10 [00:01<00:00,  9.27it/s]\n"
     ]
    },
    {
     "name": "stdout",
     "output_type": "stream",
     "text": [
      "epoch 294, loss: 0.56847, acc: 0.74607, val_loss: 1.11994, val_accuracy: 0.60883\n"
     ]
    },
    {
     "name": "stderr",
     "output_type": "stream",
     "text": [
      "100%|██████████████████████████████████████████████████████████████████████████████████| 10/10 [00:01<00:00,  8.36it/s]\n"
     ]
    },
    {
     "name": "stdout",
     "output_type": "stream",
     "text": [
      "epoch 295, loss: 0.56429, acc: 0.75148, val_loss: 1.11679, val_accuracy: 0.60764\n"
     ]
    },
    {
     "name": "stderr",
     "output_type": "stream",
     "text": [
      "100%|██████████████████████████████████████████████████████████████████████████████████| 10/10 [00:01<00:00,  9.09it/s]\n"
     ]
    },
    {
     "name": "stdout",
     "output_type": "stream",
     "text": [
      "epoch 296, loss: 0.56679, acc: 0.74555, val_loss: 1.12788, val_accuracy: 0.60694\n"
     ]
    },
    {
     "name": "stderr",
     "output_type": "stream",
     "text": [
      "100%|██████████████████████████████████████████████████████████████████████████████████| 10/10 [00:01<00:00,  6.98it/s]\n"
     ]
    },
    {
     "name": "stdout",
     "output_type": "stream",
     "text": [
      "epoch 297, loss: 0.56287, acc: 0.75341, val_loss: 1.12437, val_accuracy: 0.60962\n"
     ]
    },
    {
     "name": "stderr",
     "output_type": "stream",
     "text": [
      "100%|██████████████████████████████████████████████████████████████████████████████████| 10/10 [00:01<00:00,  7.42it/s]\n"
     ]
    },
    {
     "name": "stdout",
     "output_type": "stream",
     "text": [
      "epoch 298, loss: 0.56506, acc: 0.74525, val_loss: 1.13064, val_accuracy: 0.60883\n"
     ]
    },
    {
     "name": "stderr",
     "output_type": "stream",
     "text": [
      "100%|██████████████████████████████████████████████████████████████████████████████████| 10/10 [00:01<00:00,  9.21it/s]\n"
     ]
    },
    {
     "name": "stdout",
     "output_type": "stream",
     "text": [
      "epoch 299, loss: 0.56157, acc: 0.75187, val_loss: 1.13153, val_accuracy: 0.60893\n"
     ]
    },
    {
     "name": "stderr",
     "output_type": "stream",
     "text": [
      "100%|██████████████████████████████████████████████████████████████████████████████████| 10/10 [00:01<00:00,  9.21it/s]\n"
     ]
    },
    {
     "name": "stdout",
     "output_type": "stream",
     "text": [
      "epoch 300, loss: 0.56381, acc: 0.74928, val_loss: 1.12372, val_accuracy: 0.60893\n"
     ]
    },
    {
     "name": "stderr",
     "output_type": "stream",
     "text": [
      "100%|██████████████████████████████████████████████████████████████████████████████████| 10/10 [00:01<00:00,  8.43it/s]\n"
     ]
    },
    {
     "name": "stdout",
     "output_type": "stream",
     "text": [
      "epoch 301, loss: 0.56029, acc: 0.75440, val_loss: 1.12874, val_accuracy: 0.60784\n"
     ]
    },
    {
     "name": "stderr",
     "output_type": "stream",
     "text": [
      "100%|██████████████████████████████████████████████████████████████████████████████████| 10/10 [00:01<00:00,  7.86it/s]\n"
     ]
    },
    {
     "name": "stdout",
     "output_type": "stream",
     "text": [
      "epoch 302, loss: 0.56116, acc: 0.75215, val_loss: 1.13531, val_accuracy: 0.61052\n"
     ]
    },
    {
     "name": "stderr",
     "output_type": "stream",
     "text": [
      "100%|██████████████████████████████████████████████████████████████████████████████████| 10/10 [00:01<00:00,  9.03it/s]\n"
     ]
    },
    {
     "name": "stdout",
     "output_type": "stream",
     "text": [
      "epoch 303, loss: 0.55974, acc: 0.75262, val_loss: 1.12929, val_accuracy: 0.60764\n"
     ]
    },
    {
     "name": "stderr",
     "output_type": "stream",
     "text": [
      "100%|██████████████████████████████████████████████████████████████████████████████████| 10/10 [00:01<00:00,  8.41it/s]\n"
     ]
    },
    {
     "name": "stdout",
     "output_type": "stream",
     "text": [
      "epoch 304, loss: 0.56052, acc: 0.75088, val_loss: 1.13459, val_accuracy: 0.60972\n"
     ]
    },
    {
     "name": "stderr",
     "output_type": "stream",
     "text": [
      "100%|██████████████████████████████████████████████████████████████████████████████████| 10/10 [00:01<00:00,  8.23it/s]\n"
     ]
    },
    {
     "name": "stdout",
     "output_type": "stream",
     "text": [
      "epoch 305, loss: 0.55837, acc: 0.75384, val_loss: 1.13044, val_accuracy: 0.60675\n"
     ]
    },
    {
     "name": "stderr",
     "output_type": "stream",
     "text": [
      "100%|██████████████████████████████████████████████████████████████████████████████████| 10/10 [00:01<00:00,  7.90it/s]\n"
     ]
    },
    {
     "name": "stdout",
     "output_type": "stream",
     "text": [
      "epoch 306, loss: 0.55882, acc: 0.75529, val_loss: 1.14268, val_accuracy: 0.61220\n"
     ]
    },
    {
     "name": "stderr",
     "output_type": "stream",
     "text": [
      "100%|██████████████████████████████████████████████████████████████████████████████████| 10/10 [00:01<00:00,  9.20it/s]\n"
     ]
    },
    {
     "name": "stdout",
     "output_type": "stream",
     "text": [
      "epoch 307, loss: 0.55882, acc: 0.75360, val_loss: 1.13064, val_accuracy: 0.60893\n"
     ]
    },
    {
     "name": "stderr",
     "output_type": "stream",
     "text": [
      "100%|██████████████████████████████████████████████████████████████████████████████████| 10/10 [00:01<00:00,  9.32it/s]\n"
     ]
    },
    {
     "name": "stdout",
     "output_type": "stream",
     "text": [
      "epoch 308, loss: 0.55733, acc: 0.75083, val_loss: 1.14908, val_accuracy: 0.61260\n"
     ]
    },
    {
     "name": "stderr",
     "output_type": "stream",
     "text": [
      "100%|██████████████████████████████████████████████████████████████████████████████████| 10/10 [00:01<00:00,  8.19it/s]\n"
     ]
    },
    {
     "name": "stdout",
     "output_type": "stream",
     "text": [
      "epoch 309, loss: 0.55769, acc: 0.75485, val_loss: 1.13689, val_accuracy: 0.60913\n"
     ]
    },
    {
     "name": "stderr",
     "output_type": "stream",
     "text": [
      "100%|██████████████████████████████████████████████████████████████████████████████████| 10/10 [00:01<00:00,  8.13it/s]\n"
     ]
    },
    {
     "name": "stdout",
     "output_type": "stream",
     "text": [
      "epoch 310, loss: 0.55611, acc: 0.75642, val_loss: 1.14581, val_accuracy: 0.61300\n"
     ]
    },
    {
     "name": "stderr",
     "output_type": "stream",
     "text": [
      "100%|██████████████████████████████████████████████████████████████████████████████████| 10/10 [00:01<00:00,  9.06it/s]\n"
     ]
    },
    {
     "name": "stdout",
     "output_type": "stream",
     "text": [
      "epoch 311, loss: 0.55673, acc: 0.75528, val_loss: 1.14002, val_accuracy: 0.60863\n"
     ]
    },
    {
     "name": "stderr",
     "output_type": "stream",
     "text": [
      "100%|██████████████████████████████████████████████████████████████████████████████████| 10/10 [00:01<00:00,  9.22it/s]\n"
     ]
    },
    {
     "name": "stdout",
     "output_type": "stream",
     "text": [
      "epoch 312, loss: 0.55569, acc: 0.75648, val_loss: 1.14396, val_accuracy: 0.61310\n"
     ]
    },
    {
     "name": "stderr",
     "output_type": "stream",
     "text": [
      "100%|██████████████████████████████████████████████████████████████████████████████████| 10/10 [00:01<00:00,  8.44it/s]\n"
     ]
    },
    {
     "name": "stdout",
     "output_type": "stream",
     "text": [
      "epoch 313, loss: 0.55465, acc: 0.75605, val_loss: 1.13886, val_accuracy: 0.60952\n"
     ]
    },
    {
     "name": "stderr",
     "output_type": "stream",
     "text": [
      "100%|██████████████████████████████████████████████████████████████████████████████████| 10/10 [00:01<00:00,  8.60it/s]\n"
     ]
    },
    {
     "name": "stdout",
     "output_type": "stream",
     "text": [
      "epoch 314, loss: 0.55575, acc: 0.75521, val_loss: 1.14530, val_accuracy: 0.61081\n"
     ]
    },
    {
     "name": "stderr",
     "output_type": "stream",
     "text": [
      "100%|██████████████████████████████████████████████████████████████████████████████████| 10/10 [00:01<00:00,  8.84it/s]\n"
     ]
    },
    {
     "name": "stdout",
     "output_type": "stream",
     "text": [
      "epoch 315, loss: 0.55149, acc: 0.75956, val_loss: 1.14775, val_accuracy: 0.61091\n"
     ]
    },
    {
     "name": "stderr",
     "output_type": "stream",
     "text": [
      "100%|██████████████████████████████████████████████████████████████████████████████████| 10/10 [00:01<00:00,  9.29it/s]\n"
     ]
    },
    {
     "name": "stdout",
     "output_type": "stream",
     "text": [
      "epoch 316, loss: 0.55473, acc: 0.75814, val_loss: 1.15327, val_accuracy: 0.59563\n"
     ]
    },
    {
     "name": "stderr",
     "output_type": "stream",
     "text": [
      "100%|██████████████████████████████████████████████████████████████████████████████████| 10/10 [00:01<00:00,  9.22it/s]\n"
     ]
    },
    {
     "name": "stdout",
     "output_type": "stream",
     "text": [
      "epoch 317, loss: 0.55119, acc: 0.75667, val_loss: 1.15097, val_accuracy: 0.61091\n"
     ]
    },
    {
     "name": "stderr",
     "output_type": "stream",
     "text": [
      "100%|██████████████████████████████████████████████████████████████████████████████████| 10/10 [00:01<00:00,  7.23it/s]\n"
     ]
    },
    {
     "name": "stdout",
     "output_type": "stream",
     "text": [
      "epoch 318, loss: 0.55300, acc: 0.75992, val_loss: 1.15594, val_accuracy: 0.59583\n"
     ]
    },
    {
     "name": "stderr",
     "output_type": "stream",
     "text": [
      "100%|██████████████████████████████████████████████████████████████████████████████████| 10/10 [00:01<00:00,  9.19it/s]\n"
     ]
    },
    {
     "name": "stdout",
     "output_type": "stream",
     "text": [
      "epoch 319, loss: 0.55070, acc: 0.75785, val_loss: 1.15732, val_accuracy: 0.59405\n"
     ]
    },
    {
     "name": "stderr",
     "output_type": "stream",
     "text": [
      "100%|██████████████████████████████████████████████████████████████████████████████████| 10/10 [00:01<00:00,  9.06it/s]\n"
     ]
    },
    {
     "name": "stdout",
     "output_type": "stream",
     "text": [
      "epoch 320, loss: 0.55294, acc: 0.75684, val_loss: 1.15932, val_accuracy: 0.59613\n"
     ]
    },
    {
     "name": "stderr",
     "output_type": "stream",
     "text": [
      "100%|██████████████████████████████████████████████████████████████████████████████████| 10/10 [00:01<00:00,  8.66it/s]\n"
     ]
    },
    {
     "name": "stdout",
     "output_type": "stream",
     "text": [
      "epoch 321, loss: 0.55050, acc: 0.75694, val_loss: 1.16075, val_accuracy: 0.59296\n"
     ]
    },
    {
     "name": "stderr",
     "output_type": "stream",
     "text": [
      "100%|██████████████████████████████████████████████████████████████████████████████████| 10/10 [00:01<00:00,  8.16it/s]\n"
     ]
    },
    {
     "name": "stdout",
     "output_type": "stream",
     "text": [
      "epoch 322, loss: 0.55149, acc: 0.76029, val_loss: 1.15476, val_accuracy: 0.59802\n"
     ]
    },
    {
     "name": "stderr",
     "output_type": "stream",
     "text": [
      "100%|██████████████████████████████████████████████████████████████████████████████████| 10/10 [00:01<00:00,  8.69it/s]\n"
     ]
    },
    {
     "name": "stdout",
     "output_type": "stream",
     "text": [
      "epoch 323, loss: 0.55011, acc: 0.75773, val_loss: 1.15544, val_accuracy: 0.61220\n"
     ]
    },
    {
     "name": "stderr",
     "output_type": "stream",
     "text": [
      "100%|██████████████████████████████████████████████████████████████████████████████████| 10/10 [00:01<00:00,  9.71it/s]\n"
     ]
    },
    {
     "name": "stdout",
     "output_type": "stream",
     "text": [
      "epoch 324, loss: 0.55176, acc: 0.75827, val_loss: 1.16939, val_accuracy: 0.59762\n"
     ]
    },
    {
     "name": "stderr",
     "output_type": "stream",
     "text": [
      "100%|██████████████████████████████████████████████████████████████████████████████████| 10/10 [00:01<00:00,  8.56it/s]\n"
     ]
    },
    {
     "name": "stdout",
     "output_type": "stream",
     "text": [
      "epoch 325, loss: 0.54904, acc: 0.75781, val_loss: 1.15680, val_accuracy: 0.59355\n"
     ]
    },
    {
     "name": "stderr",
     "output_type": "stream",
     "text": [
      "100%|██████████████████████████████████████████████████████████████████████████████████| 10/10 [00:01<00:00,  8.77it/s]\n"
     ]
    },
    {
     "name": "stdout",
     "output_type": "stream",
     "text": [
      "epoch 326, loss: 0.54977, acc: 0.76152, val_loss: 1.18000, val_accuracy: 0.59683\n"
     ]
    },
    {
     "name": "stderr",
     "output_type": "stream",
     "text": [
      "100%|██████████████████████████████████████████████████████████████████████████████████| 10/10 [00:01<00:00,  9.73it/s]\n"
     ]
    },
    {
     "name": "stdout",
     "output_type": "stream",
     "text": [
      "epoch 327, loss: 0.54845, acc: 0.76009, val_loss: 1.15513, val_accuracy: 0.59504\n"
     ]
    },
    {
     "name": "stderr",
     "output_type": "stream",
     "text": [
      "100%|██████████████████████████████████████████████████████████████████████████████████| 10/10 [00:01<00:00,  9.16it/s]\n"
     ]
    },
    {
     "name": "stdout",
     "output_type": "stream",
     "text": [
      "epoch 328, loss: 0.54920, acc: 0.75852, val_loss: 1.17623, val_accuracy: 0.59702\n"
     ]
    },
    {
     "name": "stderr",
     "output_type": "stream",
     "text": [
      "100%|██████████████████████████████████████████████████████████████████████████████████| 10/10 [00:01<00:00,  9.66it/s]\n"
     ]
    },
    {
     "name": "stdout",
     "output_type": "stream",
     "text": [
      "epoch 329, loss: 0.54573, acc: 0.76421, val_loss: 1.16312, val_accuracy: 0.59504\n"
     ]
    },
    {
     "name": "stderr",
     "output_type": "stream",
     "text": [
      "100%|██████████████████████████████████████████████████████████████████████████████████| 10/10 [00:01<00:00,  9.72it/s]\n"
     ]
    },
    {
     "name": "stdout",
     "output_type": "stream",
     "text": [
      "epoch 330, loss: 0.54862, acc: 0.75711, val_loss: 1.17992, val_accuracy: 0.59762\n"
     ]
    },
    {
     "name": "stderr",
     "output_type": "stream",
     "text": [
      "100%|██████████████████████████████████████████████████████████████████████████████████| 10/10 [00:01<00:00,  9.41it/s]\n"
     ]
    },
    {
     "name": "stdout",
     "output_type": "stream",
     "text": [
      "epoch 331, loss: 0.54551, acc: 0.76495, val_loss: 1.16778, val_accuracy: 0.59673\n"
     ]
    },
    {
     "name": "stderr",
     "output_type": "stream",
     "text": [
      "100%|██████████████████████████████████████████████████████████████████████████████████| 10/10 [00:01<00:00,  8.77it/s]\n"
     ]
    },
    {
     "name": "stdout",
     "output_type": "stream",
     "text": [
      "epoch 332, loss: 0.54795, acc: 0.75688, val_loss: 1.17594, val_accuracy: 0.59732\n"
     ]
    },
    {
     "name": "stderr",
     "output_type": "stream",
     "text": [
      "100%|██████████████████████████████████████████████████████████████████████████████████| 10/10 [00:01<00:00,  9.03it/s]\n"
     ]
    },
    {
     "name": "stdout",
     "output_type": "stream",
     "text": [
      "epoch 333, loss: 0.54276, acc: 0.76581, val_loss: 1.17993, val_accuracy: 0.59583\n"
     ]
    },
    {
     "name": "stderr",
     "output_type": "stream",
     "text": [
      "100%|██████████████████████████████████████████████████████████████████████████████████| 10/10 [00:01<00:00,  8.54it/s]\n"
     ]
    },
    {
     "name": "stdout",
     "output_type": "stream",
     "text": [
      "epoch 334, loss: 0.54804, acc: 0.76010, val_loss: 1.17014, val_accuracy: 0.59861\n"
     ]
    },
    {
     "name": "stderr",
     "output_type": "stream",
     "text": [
      "100%|██████████████████████████████████████████████████████████████████████████████████| 10/10 [00:01<00:00,  7.71it/s]\n"
     ]
    },
    {
     "name": "stdout",
     "output_type": "stream",
     "text": [
      "epoch 335, loss: 0.54206, acc: 0.76686, val_loss: 1.17783, val_accuracy: 0.59673\n"
     ]
    },
    {
     "name": "stderr",
     "output_type": "stream",
     "text": [
      "100%|██████████████████████████████████████████████████████████████████████████████████| 10/10 [00:01<00:00,  9.64it/s]\n"
     ]
    },
    {
     "name": "stdout",
     "output_type": "stream",
     "text": [
      "epoch 336, loss: 0.54739, acc: 0.75820, val_loss: 1.17709, val_accuracy: 0.59772\n"
     ]
    },
    {
     "name": "stderr",
     "output_type": "stream",
     "text": [
      "100%|██████████████████████████████████████████████████████████████████████████████████| 10/10 [00:01<00:00,  9.50it/s]\n"
     ]
    },
    {
     "name": "stdout",
     "output_type": "stream",
     "text": [
      "epoch 337, loss: 0.54095, acc: 0.76625, val_loss: 1.18285, val_accuracy: 0.59563\n"
     ]
    },
    {
     "name": "stderr",
     "output_type": "stream",
     "text": [
      "100%|██████████████████████████████████████████████████████████████████████████████████| 10/10 [00:01<00:00,  8.82it/s]\n"
     ]
    },
    {
     "name": "stdout",
     "output_type": "stream",
     "text": [
      "epoch 338, loss: 0.54593, acc: 0.76343, val_loss: 1.18466, val_accuracy: 0.59871\n"
     ]
    },
    {
     "name": "stderr",
     "output_type": "stream",
     "text": [
      "100%|██████████████████████████████████████████████████████████████████████████████████| 10/10 [00:01<00:00,  8.34it/s]\n"
     ]
    },
    {
     "name": "stdout",
     "output_type": "stream",
     "text": [
      "epoch 339, loss: 0.54001, acc: 0.76268, val_loss: 1.18092, val_accuracy: 0.59554\n"
     ]
    },
    {
     "name": "stderr",
     "output_type": "stream",
     "text": [
      "100%|██████████████████████████████████████████████████████████████████████████████████| 10/10 [00:01<00:00,  7.14it/s]\n"
     ]
    },
    {
     "name": "stdout",
     "output_type": "stream",
     "text": [
      "epoch 340, loss: 0.54460, acc: 0.76374, val_loss: 1.18197, val_accuracy: 0.59593\n"
     ]
    },
    {
     "name": "stderr",
     "output_type": "stream",
     "text": [
      "100%|██████████████████████████████████████████████████████████████████████████████████| 10/10 [00:01<00:00,  8.91it/s]\n"
     ]
    },
    {
     "name": "stdout",
     "output_type": "stream",
     "text": [
      "epoch 341, loss: 0.53944, acc: 0.76381, val_loss: 1.18043, val_accuracy: 0.59613\n"
     ]
    },
    {
     "name": "stderr",
     "output_type": "stream",
     "text": [
      "100%|██████████████████████████████████████████████████████████████████████████████████| 10/10 [00:01<00:00,  9.44it/s]\n"
     ]
    },
    {
     "name": "stdout",
     "output_type": "stream",
     "text": [
      "epoch 342, loss: 0.54282, acc: 0.76421, val_loss: 1.19124, val_accuracy: 0.59762\n"
     ]
    },
    {
     "name": "stderr",
     "output_type": "stream",
     "text": [
      "100%|██████████████████████████████████████████████████████████████████████████████████| 10/10 [00:01<00:00,  8.50it/s]\n"
     ]
    },
    {
     "name": "stdout",
     "output_type": "stream",
     "text": [
      "epoch 343, loss: 0.54019, acc: 0.76467, val_loss: 1.17837, val_accuracy: 0.59623\n"
     ]
    },
    {
     "name": "stderr",
     "output_type": "stream",
     "text": [
      "100%|██████████████████████████████████████████████████████████████████████████████████| 10/10 [00:01<00:00,  8.53it/s]\n"
     ]
    },
    {
     "name": "stdout",
     "output_type": "stream",
     "text": [
      "epoch 344, loss: 0.54153, acc: 0.76567, val_loss: 1.19652, val_accuracy: 0.59861\n"
     ]
    },
    {
     "name": "stderr",
     "output_type": "stream",
     "text": [
      "100%|██████████████████████████████████████████████████████████████████████████████████| 10/10 [00:01<00:00,  8.36it/s]\n"
     ]
    },
    {
     "name": "stdout",
     "output_type": "stream",
     "text": [
      "epoch 345, loss: 0.53907, acc: 0.76353, val_loss: 1.18647, val_accuracy: 0.59712\n"
     ]
    },
    {
     "name": "stderr",
     "output_type": "stream",
     "text": [
      "100%|██████████████████████████████████████████████████████████████████████████████████| 10/10 [00:01<00:00,  8.89it/s]\n"
     ]
    },
    {
     "name": "stdout",
     "output_type": "stream",
     "text": [
      "epoch 346, loss: 0.54272, acc: 0.75933, val_loss: 1.19556, val_accuracy: 0.59931\n"
     ]
    },
    {
     "name": "stderr",
     "output_type": "stream",
     "text": [
      "100%|██████████████████████████████████████████████████████████████████████████████████| 10/10 [00:01<00:00,  9.78it/s]\n"
     ]
    },
    {
     "name": "stdout",
     "output_type": "stream",
     "text": [
      "epoch 347, loss: 0.53682, acc: 0.76753, val_loss: 1.18478, val_accuracy: 0.59583\n"
     ]
    },
    {
     "name": "stderr",
     "output_type": "stream",
     "text": [
      "100%|██████████████████████████████████████████████████████████████████████████████████| 10/10 [00:01<00:00,  8.76it/s]\n"
     ]
    },
    {
     "name": "stdout",
     "output_type": "stream",
     "text": [
      "epoch 348, loss: 0.54123, acc: 0.76130, val_loss: 1.19235, val_accuracy: 0.60069\n"
     ]
    },
    {
     "name": "stderr",
     "output_type": "stream",
     "text": [
      "100%|██████████████████████████████████████████████████████████████████████████████████| 10/10 [00:01<00:00,  7.89it/s]\n"
     ]
    },
    {
     "name": "stdout",
     "output_type": "stream",
     "text": [
      "epoch 349, loss: 0.53687, acc: 0.76882, val_loss: 1.19282, val_accuracy: 0.59623\n"
     ]
    },
    {
     "name": "stderr",
     "output_type": "stream",
     "text": [
      "100%|██████████████████████████████████████████████████████████████████████████████████| 10/10 [00:01<00:00,  8.52it/s]\n"
     ]
    },
    {
     "name": "stdout",
     "output_type": "stream",
     "text": [
      "epoch 350, loss: 0.54021, acc: 0.76237, val_loss: 1.20518, val_accuracy: 0.59812\n"
     ]
    },
    {
     "name": "stderr",
     "output_type": "stream",
     "text": [
      "100%|██████████████████████████████████████████████████████████████████████████████████| 10/10 [00:01<00:00,  8.08it/s]\n"
     ]
    },
    {
     "name": "stdout",
     "output_type": "stream",
     "text": [
      "epoch 351, loss: 0.53620, acc: 0.77112, val_loss: 1.18950, val_accuracy: 0.59752\n"
     ]
    },
    {
     "name": "stderr",
     "output_type": "stream",
     "text": [
      "100%|██████████████████████████████████████████████████████████████████████████████████| 10/10 [00:01<00:00,  8.42it/s]\n"
     ]
    },
    {
     "name": "stdout",
     "output_type": "stream",
     "text": [
      "epoch 352, loss: 0.53914, acc: 0.76426, val_loss: 1.19906, val_accuracy: 0.60000\n"
     ]
    },
    {
     "name": "stderr",
     "output_type": "stream",
     "text": [
      "100%|██████████████████████████████████████████████████████████████████████████████████| 10/10 [00:01<00:00,  8.92it/s]\n"
     ]
    },
    {
     "name": "stdout",
     "output_type": "stream",
     "text": [
      "epoch 353, loss: 0.53412, acc: 0.77162, val_loss: 1.19330, val_accuracy: 0.59702\n"
     ]
    },
    {
     "name": "stderr",
     "output_type": "stream",
     "text": [
      "100%|██████████████████████████████████████████████████████████████████████████████████| 10/10 [00:01<00:00,  9.47it/s]\n"
     ]
    },
    {
     "name": "stdout",
     "output_type": "stream",
     "text": [
      "epoch 354, loss: 0.53846, acc: 0.76497, val_loss: 1.19552, val_accuracy: 0.60139\n"
     ]
    },
    {
     "name": "stderr",
     "output_type": "stream",
     "text": [
      "100%|██████████████████████████████████████████████████████████████████████████████████| 10/10 [00:01<00:00,  8.91it/s]\n"
     ]
    },
    {
     "name": "stdout",
     "output_type": "stream",
     "text": [
      "epoch 355, loss: 0.53309, acc: 0.76953, val_loss: 1.20340, val_accuracy: 0.59702\n"
     ]
    },
    {
     "name": "stderr",
     "output_type": "stream",
     "text": [
      "100%|██████████████████████████████████████████████████████████████████████████████████| 10/10 [00:01<00:00,  8.97it/s]\n"
     ]
    },
    {
     "name": "stdout",
     "output_type": "stream",
     "text": [
      "epoch 356, loss: 0.53754, acc: 0.76588, val_loss: 1.19522, val_accuracy: 0.60179\n"
     ]
    },
    {
     "name": "stderr",
     "output_type": "stream",
     "text": [
      "100%|██████████████████████████████████████████████████████████████████████████████████| 10/10 [00:01<00:00,  7.96it/s]\n"
     ]
    },
    {
     "name": "stdout",
     "output_type": "stream",
     "text": [
      "epoch 357, loss: 0.53225, acc: 0.77034, val_loss: 1.20161, val_accuracy: 0.59683\n"
     ]
    },
    {
     "name": "stderr",
     "output_type": "stream",
     "text": [
      "100%|██████████████████████████████████████████████████████████████████████████████████| 10/10 [00:01<00:00,  8.93it/s]\n"
     ]
    },
    {
     "name": "stdout",
     "output_type": "stream",
     "text": [
      "epoch 358, loss: 0.53590, acc: 0.76626, val_loss: 1.20944, val_accuracy: 0.60129\n"
     ]
    },
    {
     "name": "stderr",
     "output_type": "stream",
     "text": [
      "100%|██████████████████████████████████████████████████████████████████████████████████| 10/10 [00:01<00:00,  8.42it/s]\n"
     ]
    },
    {
     "name": "stdout",
     "output_type": "stream",
     "text": [
      "epoch 359, loss: 0.53108, acc: 0.77068, val_loss: 1.19253, val_accuracy: 0.59782\n"
     ]
    },
    {
     "name": "stderr",
     "output_type": "stream",
     "text": [
      "100%|██████████████████████████████████████████████████████████████████████████████████| 10/10 [00:01<00:00,  7.52it/s]\n"
     ]
    },
    {
     "name": "stdout",
     "output_type": "stream",
     "text": [
      "epoch 360, loss: 0.53494, acc: 0.76934, val_loss: 1.21000, val_accuracy: 0.60030\n"
     ]
    },
    {
     "name": "stderr",
     "output_type": "stream",
     "text": [
      "100%|██████████████████████████████████████████████████████████████████████████████████| 10/10 [00:01<00:00,  9.77it/s]\n"
     ]
    },
    {
     "name": "stdout",
     "output_type": "stream",
     "text": [
      "epoch 361, loss: 0.53161, acc: 0.76881, val_loss: 1.20095, val_accuracy: 0.59702\n"
     ]
    },
    {
     "name": "stderr",
     "output_type": "stream",
     "text": [
      "100%|██████████████████████████████████████████████████████████████████████████████████| 10/10 [00:01<00:00,  8.67it/s]\n"
     ]
    },
    {
     "name": "stdout",
     "output_type": "stream",
     "text": [
      "epoch 362, loss: 0.53420, acc: 0.76537, val_loss: 1.21674, val_accuracy: 0.60208\n"
     ]
    },
    {
     "name": "stderr",
     "output_type": "stream",
     "text": [
      "100%|██████████████████████████████████████████████████████████████████████████████████| 10/10 [00:01<00:00,  8.48it/s]\n"
     ]
    },
    {
     "name": "stdout",
     "output_type": "stream",
     "text": [
      "epoch 363, loss: 0.53090, acc: 0.77106, val_loss: 1.20307, val_accuracy: 0.59732\n"
     ]
    },
    {
     "name": "stderr",
     "output_type": "stream",
     "text": [
      "100%|██████████████████████████████████████████████████████████████████████████████████| 10/10 [00:01<00:00,  8.18it/s]\n"
     ]
    },
    {
     "name": "stdout",
     "output_type": "stream",
     "text": [
      "epoch 364, loss: 0.53316, acc: 0.76558, val_loss: 1.21238, val_accuracy: 0.60000\n"
     ]
    },
    {
     "name": "stderr",
     "output_type": "stream",
     "text": [
      "100%|██████████████████████████████████████████████████████████████████████████████████| 10/10 [00:01<00:00,  7.98it/s]\n"
     ]
    },
    {
     "name": "stdout",
     "output_type": "stream",
     "text": [
      "epoch 365, loss: 0.52886, acc: 0.77503, val_loss: 1.21148, val_accuracy: 0.59871\n"
     ]
    },
    {
     "name": "stderr",
     "output_type": "stream",
     "text": [
      "100%|██████████████████████████████████████████████████████████████████████████████████| 10/10 [00:01<00:00,  9.87it/s]\n"
     ]
    },
    {
     "name": "stdout",
     "output_type": "stream",
     "text": [
      "epoch 366, loss: 0.53335, acc: 0.76704, val_loss: 1.21328, val_accuracy: 0.60248\n"
     ]
    },
    {
     "name": "stderr",
     "output_type": "stream",
     "text": [
      "100%|██████████████████████████████████████████████████████████████████████████████████| 10/10 [00:01<00:00,  9.53it/s]\n"
     ]
    },
    {
     "name": "stdout",
     "output_type": "stream",
     "text": [
      "epoch 367, loss: 0.52758, acc: 0.77281, val_loss: 1.21029, val_accuracy: 0.59306\n"
     ]
    },
    {
     "name": "stderr",
     "output_type": "stream",
     "text": [
      "100%|██████████████████████████████████████████████████████████████████████████████████| 10/10 [00:01<00:00,  9.28it/s]\n"
     ]
    },
    {
     "name": "stdout",
     "output_type": "stream",
     "text": [
      "epoch 368, loss: 0.53329, acc: 0.76729, val_loss: 1.20709, val_accuracy: 0.60050\n"
     ]
    },
    {
     "name": "stderr",
     "output_type": "stream",
     "text": [
      "100%|██████████████████████████████████████████████████████████████████████████████████| 10/10 [00:01<00:00,  7.73it/s]\n"
     ]
    },
    {
     "name": "stdout",
     "output_type": "stream",
     "text": [
      "epoch 369, loss: 0.52538, acc: 0.77494, val_loss: 1.22636, val_accuracy: 0.59980\n"
     ]
    },
    {
     "name": "stderr",
     "output_type": "stream",
     "text": [
      "100%|██████████████████████████████████████████████████████████████████████████████████| 10/10 [00:01<00:00,  8.21it/s]\n"
     ]
    },
    {
     "name": "stdout",
     "output_type": "stream",
     "text": [
      "epoch 370, loss: 0.53230, acc: 0.76915, val_loss: 1.20996, val_accuracy: 0.60109\n"
     ]
    },
    {
     "name": "stderr",
     "output_type": "stream",
     "text": [
      "100%|██████████████████████████████████████████████████████████████████████████████████| 10/10 [00:01<00:00,  7.90it/s]\n"
     ]
    },
    {
     "name": "stdout",
     "output_type": "stream",
     "text": [
      "epoch 371, loss: 0.52527, acc: 0.77258, val_loss: 1.21608, val_accuracy: 0.59931\n"
     ]
    },
    {
     "name": "stderr",
     "output_type": "stream",
     "text": [
      "100%|██████████████████████████████████████████████████████████████████████████████████| 10/10 [00:01<00:00,  9.74it/s]\n"
     ]
    },
    {
     "name": "stdout",
     "output_type": "stream",
     "text": [
      "epoch 372, loss: 0.53006, acc: 0.77135, val_loss: 1.22043, val_accuracy: 0.60139\n"
     ]
    },
    {
     "name": "stderr",
     "output_type": "stream",
     "text": [
      "100%|██████████████████████████████████████████████████████████████████████████████████| 10/10 [00:01<00:00,  9.16it/s]\n"
     ]
    },
    {
     "name": "stdout",
     "output_type": "stream",
     "text": [
      "epoch 373, loss: 0.52584, acc: 0.77140, val_loss: 1.21853, val_accuracy: 0.59940\n"
     ]
    },
    {
     "name": "stderr",
     "output_type": "stream",
     "text": [
      "100%|██████████████████████████████████████████████████████████████████████████████████| 10/10 [00:01<00:00,  7.59it/s]\n"
     ]
    },
    {
     "name": "stdout",
     "output_type": "stream",
     "text": [
      "epoch 374, loss: 0.52758, acc: 0.77440, val_loss: 1.22654, val_accuracy: 0.59613\n"
     ]
    },
    {
     "name": "stderr",
     "output_type": "stream",
     "text": [
      "100%|██████████████████████████████████████████████████████████████████████████████████| 10/10 [00:01<00:00,  8.46it/s]\n"
     ]
    },
    {
     "name": "stdout",
     "output_type": "stream",
     "text": [
      "epoch 375, loss: 0.52530, acc: 0.77147, val_loss: 1.20683, val_accuracy: 0.60040\n"
     ]
    },
    {
     "name": "stderr",
     "output_type": "stream",
     "text": [
      "100%|██████████████████████████████████████████████████████████████████████████████████| 10/10 [00:01<00:00,  9.44it/s]\n"
     ]
    },
    {
     "name": "stdout",
     "output_type": "stream",
     "text": [
      "epoch 376, loss: 0.52755, acc: 0.77047, val_loss: 1.22824, val_accuracy: 0.60169\n"
     ]
    },
    {
     "name": "stderr",
     "output_type": "stream",
     "text": [
      "100%|██████████████████████████████████████████████████████████████████████████████████| 10/10 [00:01<00:00,  8.47it/s]\n"
     ]
    },
    {
     "name": "stdout",
     "output_type": "stream",
     "text": [
      "epoch 377, loss: 0.52414, acc: 0.77650, val_loss: 1.22112, val_accuracy: 0.60050\n"
     ]
    },
    {
     "name": "stderr",
     "output_type": "stream",
     "text": [
      "100%|██████████████████████████████████████████████████████████████████████████████████| 10/10 [00:01<00:00,  9.18it/s]\n"
     ]
    },
    {
     "name": "stdout",
     "output_type": "stream",
     "text": [
      "epoch 378, loss: 0.52484, acc: 0.77031, val_loss: 1.23743, val_accuracy: 0.59444\n"
     ]
    },
    {
     "name": "stderr",
     "output_type": "stream",
     "text": [
      "100%|██████████████████████████████████████████████████████████████████████████████████| 10/10 [00:01<00:00,  7.61it/s]\n"
     ]
    },
    {
     "name": "stdout",
     "output_type": "stream",
     "text": [
      "epoch 379, loss: 0.52387, acc: 0.77603, val_loss: 1.21968, val_accuracy: 0.60089\n"
     ]
    },
    {
     "name": "stderr",
     "output_type": "stream",
     "text": [
      "100%|██████████████████████████████████████████████████████████████████████████████████| 10/10 [00:01<00:00,  7.18it/s]\n"
     ]
    },
    {
     "name": "stdout",
     "output_type": "stream",
     "text": [
      "epoch 380, loss: 0.52303, acc: 0.76973, val_loss: 1.24142, val_accuracy: 0.59613\n"
     ]
    },
    {
     "name": "stderr",
     "output_type": "stream",
     "text": [
      "100%|██████████████████████████████████████████████████████████████████████████████████| 10/10 [00:01<00:00,  8.38it/s]\n"
     ]
    },
    {
     "name": "stdout",
     "output_type": "stream",
     "text": [
      "epoch 381, loss: 0.52305, acc: 0.77350, val_loss: 1.21541, val_accuracy: 0.60050\n"
     ]
    },
    {
     "name": "stderr",
     "output_type": "stream",
     "text": [
      "100%|██████████████████████████████████████████████████████████████████████████████████| 10/10 [00:01<00:00,  8.33it/s]\n"
     ]
    },
    {
     "name": "stdout",
     "output_type": "stream",
     "text": [
      "epoch 382, loss: 0.52359, acc: 0.77298, val_loss: 1.24051, val_accuracy: 0.59573\n"
     ]
    },
    {
     "name": "stderr",
     "output_type": "stream",
     "text": [
      "100%|██████████████████████████████████████████████████████████████████████████████████| 10/10 [00:01<00:00,  9.03it/s]\n"
     ]
    },
    {
     "name": "stdout",
     "output_type": "stream",
     "text": [
      "epoch 383, loss: 0.52033, acc: 0.77763, val_loss: 1.22515, val_accuracy: 0.60327\n"
     ]
    },
    {
     "name": "stderr",
     "output_type": "stream",
     "text": [
      "100%|██████████████████████████████████████████████████████████████████████████████████| 10/10 [00:01<00:00,  9.89it/s]\n"
     ]
    },
    {
     "name": "stdout",
     "output_type": "stream",
     "text": [
      "epoch 384, loss: 0.52281, acc: 0.76844, val_loss: 1.23980, val_accuracy: 0.59752\n"
     ]
    },
    {
     "name": "stderr",
     "output_type": "stream",
     "text": [
      "100%|██████████████████████████████████████████████████████████████████████████████████| 10/10 [00:01<00:00,  9.90it/s]\n"
     ]
    },
    {
     "name": "stdout",
     "output_type": "stream",
     "text": [
      "epoch 385, loss: 0.52081, acc: 0.77542, val_loss: 1.23069, val_accuracy: 0.59633\n"
     ]
    },
    {
     "name": "stderr",
     "output_type": "stream",
     "text": [
      "100%|██████████████████████████████████████████████████████████████████████████████████| 10/10 [00:01<00:00,  9.78it/s]\n"
     ]
    },
    {
     "name": "stdout",
     "output_type": "stream",
     "text": [
      "epoch 386, loss: 0.52168, acc: 0.77285, val_loss: 1.23843, val_accuracy: 0.60546\n"
     ]
    },
    {
     "name": "stderr",
     "output_type": "stream",
     "text": [
      "100%|██████████████████████████████████████████████████████████████████████████████████| 10/10 [00:01<00:00,  9.18it/s]\n"
     ]
    },
    {
     "name": "stdout",
     "output_type": "stream",
     "text": [
      "epoch 387, loss: 0.51897, acc: 0.77646, val_loss: 1.24282, val_accuracy: 0.59653\n"
     ]
    },
    {
     "name": "stderr",
     "output_type": "stream",
     "text": [
      "100%|██████████████████████████████████████████████████████████████████████████████████| 10/10 [00:01<00:00,  7.04it/s]\n"
     ]
    },
    {
     "name": "stdout",
     "output_type": "stream",
     "text": [
      "epoch 388, loss: 0.52160, acc: 0.77430, val_loss: 1.24152, val_accuracy: 0.60377\n"
     ]
    },
    {
     "name": "stderr",
     "output_type": "stream",
     "text": [
      "100%|██████████████████████████████████████████████████████████████████████████████████| 10/10 [00:01<00:00,  8.97it/s]\n"
     ]
    },
    {
     "name": "stdout",
     "output_type": "stream",
     "text": [
      "epoch 389, loss: 0.51846, acc: 0.77721, val_loss: 1.23694, val_accuracy: 0.59653\n"
     ]
    },
    {
     "name": "stderr",
     "output_type": "stream",
     "text": [
      "100%|██████████████████████████████████████████████████████████████████████████████████| 10/10 [00:01<00:00,  7.73it/s]\n"
     ]
    },
    {
     "name": "stdout",
     "output_type": "stream",
     "text": [
      "epoch 390, loss: 0.52042, acc: 0.76994, val_loss: 1.23905, val_accuracy: 0.59623\n"
     ]
    },
    {
     "name": "stderr",
     "output_type": "stream",
     "text": [
      "100%|██████████████████████████████████████████████████████████████████████████████████| 10/10 [00:01<00:00,  8.83it/s]\n"
     ]
    },
    {
     "name": "stdout",
     "output_type": "stream",
     "text": [
      "epoch 391, loss: 0.51641, acc: 0.77840, val_loss: 1.24127, val_accuracy: 0.59762\n"
     ]
    },
    {
     "name": "stderr",
     "output_type": "stream",
     "text": [
      "100%|██████████████████████████████████████████████████████████████████████████████████| 10/10 [00:01<00:00,  7.38it/s]\n"
     ]
    },
    {
     "name": "stdout",
     "output_type": "stream",
     "text": [
      "epoch 392, loss: 0.52047, acc: 0.76992, val_loss: 1.24480, val_accuracy: 0.60050\n"
     ]
    },
    {
     "name": "stderr",
     "output_type": "stream",
     "text": [
      "100%|██████████████████████████████████████████████████████████████████████████████████| 10/10 [00:01<00:00,  9.95it/s]\n"
     ]
    },
    {
     "name": "stdout",
     "output_type": "stream",
     "text": [
      "epoch 393, loss: 0.51683, acc: 0.77624, val_loss: 1.23926, val_accuracy: 0.59782\n"
     ]
    },
    {
     "name": "stderr",
     "output_type": "stream",
     "text": [
      "100%|██████████████████████████████████████████████████████████████████████████████████| 10/10 [00:01<00:00,  9.95it/s]\n"
     ]
    },
    {
     "name": "stdout",
     "output_type": "stream",
     "text": [
      "epoch 394, loss: 0.51879, acc: 0.77074, val_loss: 1.25035, val_accuracy: 0.59881\n"
     ]
    },
    {
     "name": "stderr",
     "output_type": "stream",
     "text": [
      "100%|██████████████████████████████████████████████████████████████████████████████████| 10/10 [00:01<00:00,  8.82it/s]\n"
     ]
    },
    {
     "name": "stdout",
     "output_type": "stream",
     "text": [
      "epoch 395, loss: 0.51463, acc: 0.78042, val_loss: 1.24537, val_accuracy: 0.59772\n"
     ]
    },
    {
     "name": "stderr",
     "output_type": "stream",
     "text": [
      "100%|██████████████████████████████████████████████████████████████████████████████████| 10/10 [00:01<00:00,  8.82it/s]\n"
     ]
    },
    {
     "name": "stdout",
     "output_type": "stream",
     "text": [
      "epoch 396, loss: 0.51884, acc: 0.77223, val_loss: 1.25141, val_accuracy: 0.59960\n"
     ]
    },
    {
     "name": "stderr",
     "output_type": "stream",
     "text": [
      "100%|██████████████████████████████████████████████████████████████████████████████████| 10/10 [00:01<00:00,  7.99it/s]\n"
     ]
    },
    {
     "name": "stdout",
     "output_type": "stream",
     "text": [
      "epoch 397, loss: 0.51425, acc: 0.77790, val_loss: 1.24834, val_accuracy: 0.59782\n"
     ]
    },
    {
     "name": "stderr",
     "output_type": "stream",
     "text": [
      "100%|██████████████████████████████████████████████████████████████████████████████████| 10/10 [00:01<00:00,  9.98it/s]\n"
     ]
    },
    {
     "name": "stdout",
     "output_type": "stream",
     "text": [
      "epoch 398, loss: 0.51741, acc: 0.77244, val_loss: 1.24433, val_accuracy: 0.60020\n"
     ]
    },
    {
     "name": "stderr",
     "output_type": "stream",
     "text": [
      "100%|██████████████████████████████████████████████████████████████████████████████████| 10/10 [00:01<00:00,  9.69it/s]\n"
     ]
    },
    {
     "name": "stdout",
     "output_type": "stream",
     "text": [
      "epoch 399, loss: 0.51250, acc: 0.77856, val_loss: 1.25250, val_accuracy: 0.59970\n"
     ]
    },
    {
     "name": "stderr",
     "output_type": "stream",
     "text": [
      "100%|██████████████████████████████████████████████████████████████████████████████████| 10/10 [00:01<00:00,  9.04it/s]\n"
     ]
    },
    {
     "name": "stdout",
     "output_type": "stream",
     "text": [
      "epoch 400, loss: 0.51562, acc: 0.77548, val_loss: 1.25835, val_accuracy: 0.59921\n"
     ]
    },
    {
     "name": "stderr",
     "output_type": "stream",
     "text": [
      "100%|██████████████████████████████████████████████████████████████████████████████████| 10/10 [00:01<00:00,  8.97it/s]\n"
     ]
    },
    {
     "name": "stdout",
     "output_type": "stream",
     "text": [
      "epoch 401, loss: 0.51325, acc: 0.77590, val_loss: 1.25183, val_accuracy: 0.59861\n"
     ]
    },
    {
     "name": "stderr",
     "output_type": "stream",
     "text": [
      "100%|██████████████████████████████████████████████████████████████████████████████████| 10/10 [00:01<00:00,  7.55it/s]\n"
     ]
    },
    {
     "name": "stdout",
     "output_type": "stream",
     "text": [
      "epoch 402, loss: 0.51493, acc: 0.77747, val_loss: 1.26153, val_accuracy: 0.59980\n"
     ]
    },
    {
     "name": "stderr",
     "output_type": "stream",
     "text": [
      "100%|██████████████████████████████████████████████████████████████████████████████████| 10/10 [00:01<00:00,  7.45it/s]\n"
     ]
    },
    {
     "name": "stdout",
     "output_type": "stream",
     "text": [
      "epoch 403, loss: 0.51247, acc: 0.77461, val_loss: 1.25313, val_accuracy: 0.59802\n"
     ]
    },
    {
     "name": "stderr",
     "output_type": "stream",
     "text": [
      "100%|██████████████████████████████████████████████████████████████████████████████████| 10/10 [00:01<00:00,  8.93it/s]\n"
     ]
    },
    {
     "name": "stdout",
     "output_type": "stream",
     "text": [
      "epoch 404, loss: 0.51306, acc: 0.77832, val_loss: 1.25990, val_accuracy: 0.59980\n"
     ]
    },
    {
     "name": "stderr",
     "output_type": "stream",
     "text": [
      "100%|██████████████████████████████████████████████████████████████████████████████████| 10/10 [00:01<00:00,  7.20it/s]\n"
     ]
    },
    {
     "name": "stdout",
     "output_type": "stream",
     "text": [
      "epoch 405, loss: 0.51204, acc: 0.77926, val_loss: 1.24851, val_accuracy: 0.60099\n"
     ]
    },
    {
     "name": "stderr",
     "output_type": "stream",
     "text": [
      "100%|██████████████████████████████████████████████████████████████████████████████████| 10/10 [00:01<00:00,  9.17it/s]\n"
     ]
    },
    {
     "name": "stdout",
     "output_type": "stream",
     "text": [
      "epoch 406, loss: 0.51184, acc: 0.77395, val_loss: 1.26136, val_accuracy: 0.60139\n"
     ]
    },
    {
     "name": "stderr",
     "output_type": "stream",
     "text": [
      "100%|██████████████████████████████████████████████████████████████████████████████████| 10/10 [00:01<00:00,  7.73it/s]\n"
     ]
    },
    {
     "name": "stdout",
     "output_type": "stream",
     "text": [
      "epoch 407, loss: 0.50969, acc: 0.77892, val_loss: 1.25391, val_accuracy: 0.59881\n"
     ]
    },
    {
     "name": "stderr",
     "output_type": "stream",
     "text": [
      "100%|██████████████████████████████████████████████████████████████████████████████████| 10/10 [00:01<00:00,  8.33it/s]\n"
     ]
    },
    {
     "name": "stdout",
     "output_type": "stream",
     "text": [
      "epoch 408, loss: 0.51086, acc: 0.77763, val_loss: 1.26794, val_accuracy: 0.60079\n"
     ]
    },
    {
     "name": "stderr",
     "output_type": "stream",
     "text": [
      "100%|██████████████████████████████████████████████████████████████████████████████████| 10/10 [00:01<00:00,  8.40it/s]\n"
     ]
    },
    {
     "name": "stdout",
     "output_type": "stream",
     "text": [
      "epoch 409, loss: 0.50885, acc: 0.78063, val_loss: 1.26111, val_accuracy: 0.59950\n"
     ]
    },
    {
     "name": "stderr",
     "output_type": "stream",
     "text": [
      "100%|██████████████████████████████████████████████████████████████████████████████████| 10/10 [00:01<00:00,  9.89it/s]\n"
     ]
    },
    {
     "name": "stdout",
     "output_type": "stream",
     "text": [
      "epoch 410, loss: 0.51043, acc: 0.77789, val_loss: 1.26723, val_accuracy: 0.60516\n"
     ]
    },
    {
     "name": "stderr",
     "output_type": "stream",
     "text": [
      "100%|██████████████████████████████████████████████████████████████████████████████████| 10/10 [00:01<00:00,  9.83it/s]\n"
     ]
    },
    {
     "name": "stdout",
     "output_type": "stream",
     "text": [
      "epoch 411, loss: 0.50720, acc: 0.78240, val_loss: 1.26810, val_accuracy: 0.59762\n"
     ]
    },
    {
     "name": "stderr",
     "output_type": "stream",
     "text": [
      "100%|██████████████████████████████████████████████████████████████████████████████████| 10/10 [00:00<00:00, 10.07it/s]\n"
     ]
    },
    {
     "name": "stdout",
     "output_type": "stream",
     "text": [
      "epoch 412, loss: 0.51069, acc: 0.77677, val_loss: 1.26325, val_accuracy: 0.60317\n"
     ]
    },
    {
     "name": "stderr",
     "output_type": "stream",
     "text": [
      "100%|██████████████████████████████████████████████████████████████████████████████████| 10/10 [00:01<00:00,  9.39it/s]\n"
     ]
    },
    {
     "name": "stdout",
     "output_type": "stream",
     "text": [
      "epoch 413, loss: 0.50699, acc: 0.78145, val_loss: 1.26403, val_accuracy: 0.59841\n"
     ]
    },
    {
     "name": "stderr",
     "output_type": "stream",
     "text": [
      "100%|██████████████████████████████████████████████████████████████████████████████████| 10/10 [00:01<00:00,  8.97it/s]\n"
     ]
    },
    {
     "name": "stdout",
     "output_type": "stream",
     "text": [
      "epoch 414, loss: 0.50953, acc: 0.77780, val_loss: 1.26783, val_accuracy: 0.60278\n"
     ]
    },
    {
     "name": "stderr",
     "output_type": "stream",
     "text": [
      "100%|██████████████████████████████████████████████████████████████████████████████████| 10/10 [00:01<00:00,  7.45it/s]\n"
     ]
    },
    {
     "name": "stdout",
     "output_type": "stream",
     "text": [
      "epoch 415, loss: 0.50650, acc: 0.77859, val_loss: 1.26919, val_accuracy: 0.59911\n"
     ]
    },
    {
     "name": "stderr",
     "output_type": "stream",
     "text": [
      "100%|██████████████████████████████████████████████████████████████████████████████████| 10/10 [00:01<00:00,  7.74it/s]\n"
     ]
    },
    {
     "name": "stdout",
     "output_type": "stream",
     "text": [
      "epoch 416, loss: 0.50854, acc: 0.77961, val_loss: 1.27595, val_accuracy: 0.60020\n"
     ]
    },
    {
     "name": "stderr",
     "output_type": "stream",
     "text": [
      "100%|██████████████████████████████████████████████████████████████████████████████████| 10/10 [00:01<00:00,  9.76it/s]\n"
     ]
    },
    {
     "name": "stdout",
     "output_type": "stream",
     "text": [
      "epoch 417, loss: 0.50721, acc: 0.78316, val_loss: 1.26729, val_accuracy: 0.60228\n"
     ]
    },
    {
     "name": "stderr",
     "output_type": "stream",
     "text": [
      "100%|██████████████████████████████████████████████████████████████████████████████████| 10/10 [00:01<00:00,  9.06it/s]\n"
     ]
    },
    {
     "name": "stdout",
     "output_type": "stream",
     "text": [
      "epoch 418, loss: 0.50716, acc: 0.77878, val_loss: 1.27640, val_accuracy: 0.60278\n"
     ]
    },
    {
     "name": "stderr",
     "output_type": "stream",
     "text": [
      "100%|██████████████████████████████████████████████████████████████████████████████████| 10/10 [00:01<00:00,  9.50it/s]\n"
     ]
    },
    {
     "name": "stdout",
     "output_type": "stream",
     "text": [
      "epoch 419, loss: 0.50577, acc: 0.78081, val_loss: 1.27190, val_accuracy: 0.60347\n"
     ]
    },
    {
     "name": "stderr",
     "output_type": "stream",
     "text": [
      "100%|██████████████████████████████████████████████████████████████████████████████████| 10/10 [00:01<00:00,  8.89it/s]\n"
     ]
    },
    {
     "name": "stdout",
     "output_type": "stream",
     "text": [
      "epoch 420, loss: 0.50622, acc: 0.78024, val_loss: 1.29719, val_accuracy: 0.60069\n"
     ]
    },
    {
     "name": "stderr",
     "output_type": "stream",
     "text": [
      "100%|██████████████████████████████████████████████████████████████████████████████████| 10/10 [00:01<00:00,  7.70it/s]\n"
     ]
    },
    {
     "name": "stdout",
     "output_type": "stream",
     "text": [
      "epoch 421, loss: 0.50602, acc: 0.78368, val_loss: 1.25803, val_accuracy: 0.60169\n"
     ]
    },
    {
     "name": "stderr",
     "output_type": "stream",
     "text": [
      "100%|██████████████████████████████████████████████████████████████████████████████████| 10/10 [00:01<00:00,  9.92it/s]\n"
     ]
    },
    {
     "name": "stdout",
     "output_type": "stream",
     "text": [
      "epoch 422, loss: 0.50496, acc: 0.77881, val_loss: 1.29206, val_accuracy: 0.60456\n"
     ]
    },
    {
     "name": "stderr",
     "output_type": "stream",
     "text": [
      "100%|██████████████████████████████████████████████████████████████████████████████████| 10/10 [00:01<00:00,  9.79it/s]\n"
     ]
    },
    {
     "name": "stdout",
     "output_type": "stream",
     "text": [
      "epoch 423, loss: 0.50648, acc: 0.78292, val_loss: 1.26551, val_accuracy: 0.60149\n"
     ]
    },
    {
     "name": "stderr",
     "output_type": "stream",
     "text": [
      "100%|██████████████████████████████████████████████████████████████████████████████████| 10/10 [00:01<00:00,  9.81it/s]\n"
     ]
    },
    {
     "name": "stdout",
     "output_type": "stream",
     "text": [
      "epoch 424, loss: 0.50518, acc: 0.78054, val_loss: 1.29041, val_accuracy: 0.60357\n"
     ]
    },
    {
     "name": "stderr",
     "output_type": "stream",
     "text": [
      "100%|██████████████████████████████████████████████████████████████████████████████████| 10/10 [00:01<00:00,  7.49it/s]\n"
     ]
    },
    {
     "name": "stdout",
     "output_type": "stream",
     "text": [
      "epoch 425, loss: 0.50480, acc: 0.78442, val_loss: 1.26663, val_accuracy: 0.60248\n"
     ]
    },
    {
     "name": "stderr",
     "output_type": "stream",
     "text": [
      "100%|██████████████████████████████████████████████████████████████████████████████████| 10/10 [00:01<00:00,  8.37it/s]\n"
     ]
    },
    {
     "name": "stdout",
     "output_type": "stream",
     "text": [
      "epoch 426, loss: 0.50444, acc: 0.77843, val_loss: 1.29378, val_accuracy: 0.60625\n"
     ]
    },
    {
     "name": "stderr",
     "output_type": "stream",
     "text": [
      "100%|██████████████████████████████████████████████████████████████████████████████████| 10/10 [00:01<00:00,  9.22it/s]\n"
     ]
    },
    {
     "name": "stdout",
     "output_type": "stream",
     "text": [
      "epoch 427, loss: 0.50335, acc: 0.78593, val_loss: 1.28025, val_accuracy: 0.60069\n"
     ]
    },
    {
     "name": "stderr",
     "output_type": "stream",
     "text": [
      "100%|██████████████████████████████████████████████████████████████████████████████████| 10/10 [00:01<00:00,  8.28it/s]\n"
     ]
    },
    {
     "name": "stdout",
     "output_type": "stream",
     "text": [
      "epoch 428, loss: 0.50507, acc: 0.77805, val_loss: 1.28950, val_accuracy: 0.60665\n"
     ]
    },
    {
     "name": "stderr",
     "output_type": "stream",
     "text": [
      "100%|██████████████████████████████████████████████████████████████████████████████████| 10/10 [00:01<00:00,  7.53it/s]\n"
     ]
    },
    {
     "name": "stdout",
     "output_type": "stream",
     "text": [
      "epoch 429, loss: 0.50071, acc: 0.78581, val_loss: 1.28913, val_accuracy: 0.60139\n"
     ]
    },
    {
     "name": "stderr",
     "output_type": "stream",
     "text": [
      "100%|██████████████████████████████████████████████████████████████████████████████████| 10/10 [00:01<00:00,  7.03it/s]\n"
     ]
    },
    {
     "name": "stdout",
     "output_type": "stream",
     "text": [
      "epoch 430, loss: 0.50404, acc: 0.77792, val_loss: 1.29123, val_accuracy: 0.60605\n"
     ]
    },
    {
     "name": "stderr",
     "output_type": "stream",
     "text": [
      "100%|██████████████████████████████████████████████████████████████████████████████████| 10/10 [00:01<00:00,  8.86it/s]\n"
     ]
    },
    {
     "name": "stdout",
     "output_type": "stream",
     "text": [
      "epoch 431, loss: 0.50047, acc: 0.78567, val_loss: 1.28304, val_accuracy: 0.60198\n"
     ]
    },
    {
     "name": "stderr",
     "output_type": "stream",
     "text": [
      "100%|██████████████████████████████████████████████████████████████████████████████████| 10/10 [00:01<00:00,  7.58it/s]\n"
     ]
    },
    {
     "name": "stdout",
     "output_type": "stream",
     "text": [
      "epoch 432, loss: 0.50373, acc: 0.78132, val_loss: 1.29047, val_accuracy: 0.60437\n"
     ]
    },
    {
     "name": "stderr",
     "output_type": "stream",
     "text": [
      "100%|██████████████████████████████████████████████████████████████████████████████████| 10/10 [00:01<00:00,  7.88it/s]\n"
     ]
    },
    {
     "name": "stdout",
     "output_type": "stream",
     "text": [
      "epoch 433, loss: 0.49775, acc: 0.78435, val_loss: 1.29099, val_accuracy: 0.60496\n"
     ]
    },
    {
     "name": "stderr",
     "output_type": "stream",
     "text": [
      "100%|██████████████████████████████████████████████████████████████████████████████████| 10/10 [00:01<00:00,  7.77it/s]\n"
     ]
    },
    {
     "name": "stdout",
     "output_type": "stream",
     "text": [
      "epoch 434, loss: 0.50148, acc: 0.78123, val_loss: 1.29288, val_accuracy: 0.60437\n"
     ]
    },
    {
     "name": "stderr",
     "output_type": "stream",
     "text": [
      "100%|██████████████████████████████████████████████████████████████████████████████████| 10/10 [00:01<00:00,  7.99it/s]\n"
     ]
    },
    {
     "name": "stdout",
     "output_type": "stream",
     "text": [
      "epoch 435, loss: 0.49897, acc: 0.78174, val_loss: 1.29111, val_accuracy: 0.60546\n"
     ]
    },
    {
     "name": "stderr",
     "output_type": "stream",
     "text": [
      "100%|██████████████████████████████████████████████████████████████████████████████████| 10/10 [00:01<00:00,  7.56it/s]\n"
     ]
    },
    {
     "name": "stdout",
     "output_type": "stream",
     "text": [
      "epoch 436, loss: 0.49954, acc: 0.78099, val_loss: 1.30166, val_accuracy: 0.60506\n"
     ]
    },
    {
     "name": "stderr",
     "output_type": "stream",
     "text": [
      "100%|██████████████████████████████████████████████████████████████████████████████████| 10/10 [00:01<00:00,  8.37it/s]\n"
     ]
    },
    {
     "name": "stdout",
     "output_type": "stream",
     "text": [
      "epoch 437, loss: 0.49812, acc: 0.78534, val_loss: 1.28892, val_accuracy: 0.60476\n"
     ]
    },
    {
     "name": "stderr",
     "output_type": "stream",
     "text": [
      "100%|██████████████████████████████████████████████████████████████████████████████████| 10/10 [00:01<00:00,  7.57it/s]\n"
     ]
    },
    {
     "name": "stdout",
     "output_type": "stream",
     "text": [
      "epoch 438, loss: 0.49944, acc: 0.78000, val_loss: 1.30608, val_accuracy: 0.60506\n"
     ]
    },
    {
     "name": "stderr",
     "output_type": "stream",
     "text": [
      " 40%|█████████████████████████████████▏                                                 | 4/10 [00:00<00:00,  7.06it/s]"
     ]
    }
   ],
   "source": [
    "from sklearn.model_selection import StratifiedKFold\n",
    "skf=StratifiedKFold(n_splits=10)\n",
    "skf.get_n_splits(X_train_over,y_train_over)\n",
    "\n",
    "import torch.nn as nn\n",
    "import torch.nn.functional as F\n",
    "import torch.optim as optim\n",
    "\n",
    "class DNNModel(nn.Module):\n",
    "    def __init__(self):\n",
    "        super(DNNModel, self).__init__()\n",
    "        self.input_layer = nn.Linear(6, 128)\n",
    "        self.hidden_layer1 = nn.Linear(128, 256)\n",
    "        self.hidden_layer2 = nn.Linear(256, 128)\n",
    "        self.output_layer   = nn.Linear(128,3)\n",
    "        self.relu = nn.ReLU()\n",
    "\n",
    "\n",
    "\n",
    "    def forward(self, x):\n",
    "        out =  self.relu(self.input_layer(x))\n",
    "        out =  self.relu(self.hidden_layer1(out))\n",
    "        out =  self.relu(self.hidden_layer2(out))\n",
    "        out =  self.output_layer(out)\n",
    "        return out \n",
    "\n",
    "\n",
    "\n",
    "# device 설정 (cuda:0 혹은 cpu)\n",
    "device = torch.device(\"cuda:0\" if torch.cuda.is_available() else \"cpu\")\n",
    "model = DNNModel() # Model 생성\n",
    "model.to(device)   # device 에 로드 (cpu or cuda)\n",
    "\n",
    "# 옵티마이저를 정의합니다. 옵티마이저에는 model.parameters()를 지정해야 합니다.\n",
    "optimizer = optim.Adam(model.parameters(), lr=0.001)\n",
    "\n",
    "# 손실함수(loss function)을 지정합니다. Multi-Class Classification 이기 때문에 CrossEntropy 손실을 지정하였습니다.\n",
    "loss_fn = nn.CrossEntropyLoss()\n",
    "\n",
    "from tqdm import tqdm  # Progress Bar 출력\n",
    "\n",
    "def model_train(model, data_loader, loss_fn, optimizer, device):\n",
    "    # 모델을 훈련모드로 설정합니다. training mode 일 때 Gradient 가 업데이트 됩니다. 반드시 train()으로 모드 변경을 해야 합니다.\n",
    "    model.train()\n",
    "    # loss와 accuracy 계산을 위한 임시 변수 입니다. 0으로 초기화합니다.\n",
    "    running_loss = 0\n",
    "    corr = 0\n",
    "\n",
    "    # 예쁘게 Progress Bar를 출력하면서 훈련 상태를 모니터링 하기 위하여 tqdm으로 래핑합니다.\n",
    "    prograss_bar = tqdm(data_loader)\n",
    "\n",
    "    # mini-batch 학습을 시작합니다.\n",
    "    for data, lbl in prograss_bar:\n",
    "        # image, label 데이터를 device에 올립니다.\n",
    "        data, lbl = data.to(device), lbl.to(device)\n",
    "        # 누적 Gradient를 초기화 합니다.\n",
    "        optimizer.zero_grad()\n",
    "\n",
    "        # Forward Propagation을 진행하여 결과를 얻습니다.\n",
    "        output = model(data)\n",
    "\n",
    "        # 손실함수에 output, label 값을 대입하여 손실을 계산합니다.\n",
    "        loss = loss_fn(output, lbl)\n",
    "        # 오차역전파(Back Propagation)을 진행하여 미분 값을 계산합니다.\n",
    "        loss.backward()\n",
    "\n",
    "        # 계산된 Gradient를 업데이트 합니다.\n",
    "        optimizer.step()\n",
    "\n",
    "        # output의 max(dim=1)은 max probability와 max index를 반환합니다.\n",
    "        # max probability는 무시하고, max index는 pred에 저장하여 label 값과 대조하여 정확도를 도출합니다.\n",
    "        _, pred = output.max(dim=1)\n",
    "        # pred.eq(lbl).sum() 은 정확히 맞춘 label의 합계를 계산합니다. item()은 tensor에서 값을 추출합니다.\n",
    "        # 합계는 corr 변수에 누적합니다.\n",
    "        corr += pred.eq(lbl).sum().item()\n",
    "        \n",
    "        # loss 값은 1개 배치의 평균 손실(loss) 입니다. data.size(0)은 배치사이즈(batch size) 입니다.\n",
    "        # loss 와 data.size(0)를 곱하면 1개 배치의 전체 loss가 계산됩니다.\n",
    "        # 이를 누적한 뒤 Epoch 종료시 전체 데이터셋의 개수로 나누어 평균 loss를 산출합니다.\n",
    "        running_loss += loss.item() * data.size(0)\n",
    "\n",
    "    # 누적된 정답수를 전체 개수로 나누어 주면 정확도가 산출됩니다.\n",
    "    acc = corr / len(data_loader.dataset)\n",
    "    # 평균 손실(loss)과 정확도를 반환합니다.\n",
    "    # train_loss, train_acc\n",
    "    return running_loss / len(data_loader.dataset), acc\n",
    "\n",
    "def model_evaluate(model, data_loader, loss_fn, device):\n",
    "    # model.eval()은 모델을 평가모드로 설정을 바꾸어 줍니다. \n",
    "    # dropout과 같은 layer의 역할 변경을 위하여 evaluation 진행시 꼭 필요한 절차 입니다.\n",
    "    model.eval()\n",
    "    # Gradient가 업데이트 되는 것을 방지 하기 위하여 반드시 필요합니다.\n",
    "    with torch.no_grad():\n",
    "        # loss와 accuracy 계산을 위한 임시 변수 입니다. 0으로 초기화합니다.\n",
    "        corr = 0\n",
    "        running_loss = 0\n",
    "\n",
    "        # 배치별 evaluation을 진행합니다.\n",
    "        for data, lbl in data_loader:\n",
    "            # device에 데이터를 올립니다.\n",
    "            data, lbl = data.to(device), lbl.to(device)\n",
    "\n",
    "            # 모델에 Forward Propagation을 하여 결과를 도출합니다.\n",
    "            output = model(data)\n",
    "\n",
    "            # output의 max(dim=1)은 max probability와 max index를 반환합니다.\n",
    "            # max probability는 무시하고, max index는 pred에 저장하여 label 값과 대조하여 정확도를 도출합니다.\n",
    "            _, pred = output.max(dim=1)\n",
    "            \n",
    "\n",
    "            # pred.eq(lbl).sum() 은 정확히 맞춘 label의 합계를 계산합니다. item()은 tensor에서 값을 추출합니다.\n",
    "            # 합계는 corr 변수에 누적합니다.\n",
    "            corr += torch.sum(pred.eq(lbl)).item()\n",
    "            \n",
    "            # loss 값은 1개 배치의 평균 손실(loss) 입니다. data.size(0)은 배치사이즈(batch size) 입니다.\n",
    "            # loss 와 data.size(0)를 곱하면 1개 배치의 전체 loss가 계산됩니다.\n",
    "            # 이를 누적한 뒤 Epoch 종료시 전체 데이터셋의 개수로 나누어 평균 loss를 산출합니다.\n",
    "            running_loss += loss_fn(output, lbl).item() * data.size(0)\n",
    "\n",
    "        # validation 정확도를 계산합니다.\n",
    "        # 누적한 정답숫자를 전체 데이터셋의 숫자로 나누어 최종 accuracy를 산출합니다.\n",
    "        acc = corr / len(data_loader.dataset)\n",
    "\n",
    "        # 결과를 반환합니다.\n",
    "        # val_loss, val_acc\n",
    "        return running_loss / len(data_loader.dataset), acc\n",
    "\n",
    "def model_test(model, data_loader, loss_fn, device):\n",
    "    # model.eval()은 모델을 평가모드로 설정을 바꾸어 줍니다. \n",
    "    # dropout과 같은 layer의 역할 변경을 위하여 evaluation 진행시 꼭 필요한 절차 입니다.\n",
    "    model.eval()\n",
    "    pred_list=[]\n",
    "    # Gradient가 업데이트 되는 것을 방지 하기 위하여 반드시 필요합니다.\n",
    "    with torch.no_grad():\n",
    "        # loss와 accuracy 계산을 위한 임시 변수 입니다. 0으로 초기화합니다.\n",
    "        corr = 0\n",
    "        running_loss = 0\n",
    "\n",
    "        # 배치별 evaluation을 진행합니다.\n",
    "        for data, lbl in data_loader:\n",
    "            # device에 데이터를 올립니다.\n",
    "            data, lbl = data.to(device), lbl.to(device)\n",
    "\n",
    "            # 모델에 Forward Propagation을 하여 결과를 도출합니다.\n",
    "            output = model(data)\n",
    "            \n",
    "            \n",
    "            # output의 max(dim=1)은 max probability와 max index를 반환합니다.\n",
    "            # max probability는 무시하고, max index는 pred에 저장하여 label 값과 대조하여 정확도를 도출합니다.\n",
    "            _, pred = output.max(dim=1)\n",
    "            pred_array = pred.tolist()\n",
    "            pred_list.append(pred_array) # confusion matrix를 위해 pred 리턴 값\n",
    "            # pred.eq(lbl).sum() 은 정확히 맞춘 label의 합계를 계산합니다. item()은 tensor에서 값을 추출합니다.\n",
    "            # 합계는 corr 변수에 누적합니다.\n",
    "            corr += torch.sum(pred.eq(lbl)).item()\n",
    "            \n",
    "            # loss 값은 1개 배치의 평균 손실(loss) 입니다. data.size(0)은 배치사이즈(batch size) 입니다.\n",
    "            # loss 와 data.size(0)를 곱하면 1개 배치의 전체 loss가 계산됩니다.\n",
    "            # 이를 누적한 뒤 Epoch 종료시 전체 데이터셋의 개수로 나누어 평균 loss를 산출합니다.\n",
    "            running_loss += loss_fn(output, lbl).item() * data.size(0)\n",
    "\n",
    "        # validation 정확도를 계산합니다.\n",
    "        # 누적한 정답숫자를 전체 데이터셋의 숫자로 나누어 최종 accuracy를 산출합니다.\n",
    "        acc = corr / len(data_loader.dataset)\n",
    "\n",
    "        # 결과를 반환합니다.\n",
    "        # val_loss, val_acc\n",
    "        return running_loss / len(data_loader.dataset), acc, pred_list\n",
    "\n",
    "# X_test=pd.DataFrame()\n",
    "# X_train=pd.DataFrame()\n",
    "# y_test=pd.DataFrame()\n",
    "# y_train=pd.DataFrame()\n",
    "# empty=pd.DataFrame()\n",
    "\n",
    "#결과 넣을 배열\n",
    "Result=[[0 for j in range(4)] for i in range(10)]\n",
    "\n",
    "from sklearn.model_selection import StratifiedKFold\n",
    "skf=StratifiedKFold(n_splits=10)\n",
    "\n",
    "#결과 넣을 배열\n",
    "Result=[[0 for j in range(4)] for i in range(10)]\n",
    "CMResult=[[[0 for k in range(3)]for j in range(3)] for i in range(10)]\n",
    "skf.get_n_splits(X_train_over,y_train_over)\n",
    "\n",
    "i=0\n",
    "for tfold, (train_index, test_index) in enumerate(skf.split(X_train_over, y_train_over)):\n",
    "    #모델 정의, 예측\n",
    "\n",
    "    X_train, X_test = X_train_over[train_index], X_train_over[test_index]\n",
    "    y_train, y_test = y_train_over[train_index], y_train_over[test_index]\n",
    "\n",
    "    #DNN\n",
    "    X_train = torch.FloatTensor(X_train)\n",
    "    X_test = torch.FloatTensor(X_test)\n",
    "    y_train = torch.LongTensor(y_train.to_numpy())\n",
    "    y_test = torch.LongTensor(y_test.to_numpy())\n",
    "\n",
    "    train_dataset = TensorDataset(X_train, y_train)\n",
    "    test_dataset=TensorDataset(X_test, y_test)\n",
    "\n",
    "    train_dataloader = DataLoader(train_dataset, batch_size=10000,shuffle=False)\n",
    "    test_dataloader = DataLoader(test_dataset, batch_size=5000,shuffle=False)\n",
    "\n",
    "    # 최대 Epoch을 지정합니다.\n",
    "    num_epochs = 500\n",
    "    min_loss = 9999999999999\n",
    "    loss_list=[]\n",
    "    acc_list=[]\n",
    "    # Epoch 별 훈련 및 검증을 수행합니다.\n",
    "    for epoch in range(num_epochs):\n",
    "        # Model Training\n",
    "        # 훈련 손실과 정확도를 반환 받습니다.\n",
    "        train_loss, train_acc = model_train(model, train_dataloader, loss_fn, optimizer, device)\n",
    "\n",
    "        # 검증 손실과 검증 정확도를 반환 받습니다.\n",
    "        val_loss, val_acc = model_evaluate(model, test_dataloader, loss_fn, device)   \n",
    "\n",
    "        # val_loss 가 개선되었다면 min_loss를 갱신하고 model의 가중치(weights)를 저장합니다.\n",
    "        if val_loss < min_loss:\n",
    "                print(f'[INFO] val_acc has been improved from {min_loss:.5f} to {val_loss:.5f}. Saving Model!')\n",
    "                min_loss = val_loss\n",
    "                torch.save(model.state_dict(), 'DNNModel.pth')\n",
    "\n",
    "        # Epoch 별 결과를 출력합니다.\n",
    "        print(f'epoch {epoch+1:02d}, loss: {train_loss:.5f}, acc: {train_acc:.5f}, val_loss: {val_loss:.5f}, val_accuracy: {val_acc:.5f}')\n",
    "        loss_list.append(train_loss)\n",
    "        acc_list.append(train_acc)\n",
    "    ## 저장한 가중치 로드 후 검증 성능 측정\n",
    "\n",
    "    # 모델에 저장한 가중치를 로드합니다.\n",
    "    model.load_state_dict(torch.load('DNNModel.pth'))\n",
    "\n",
    "    # 최종 검증 손실(validation loss)와 검증 정확도(validation accuracy)를 산출합니다.\n",
    "    print(\"{}번째 교차검증\".format(tfold))\n",
    "    final_loss, final_acc, y_predicted = model_test(model, test_dataloader, loss_fn, device)\n",
    "    print(f'evaluation loss: {final_loss:.5f}, evaluation accuracy: {final_acc:.5f}')   \n",
    "\n",
    "    X_train, X_test = X_train_over[train_index], X_train_over[test_index]\n",
    "    y_train, y_test = y_train_over[train_index], y_train_over[test_index]\n",
    "\n",
    "#     ## 원핫 인코딩\n",
    "#     y_train=pd.get_dummies(y_train)\n",
    "#     y_test=pd.get_dummies(y_test)\n",
    "\n",
    "\n",
    "    # LogisticRegression\n",
    "    lr = LogisticRegression(solver='liblinear', random_state=0)\n",
    "    lr.fit(X_train, y_train)\n",
    "    linear_pred = lr.predict(X_test)\n",
    "    # linear_pred = lr.predict(X_train)\n",
    "    \n",
    "    # RidgeClassifier\n",
    "    clf = RidgeClassifier(alpha=1.0)\n",
    "    clf.fit(X_train, y_train)\n",
    "    ridge_pred = clf.predict(X_test)\n",
    "    # ridge_pred = clf.predict(X_train)\n",
    "    \n",
    "    # RandomForestClassifier\n",
    "    regr = RandomForestClassifier(max_depth=6, random_state=0)\n",
    "    regr.fit(X_train, y_train)\n",
    "    regr_pred = regr.predict(X_test)\n",
    "    # regr_pred = regr.predict(X_train)\n",
    "    \n",
    "    # GradientBoostingClassifier\n",
    "    reg = GradientBoostingClassifier(random_state=0)\n",
    "    reg.fit(X_train, y_train)\n",
    "    reg_pred = reg.predict(X_test)\n",
    "    # reg_pred = reg.predict(X_train)\n",
    "    \n",
    "    # DNN 결과값 넘파이 배열로 변환\n",
    "    y_predicted_t=sum(y_predicted, [])\n",
    "    DNN_y_predicted=np.array(y_predicted_t)\n",
    "\n",
    "    # 최종모델\n",
    "#     lgbm = LGBMClassifier()\n",
    "    CatBoost = CatBoostClassifier(iterations=1000,\n",
    "                           task_type=\"GPU\",\n",
    "                           devices='0:1')\n",
    "    new_data = np.array([linear_pred.squeeze(),ridge_pred.squeeze(),regr_pred.squeeze(),reg_pred.squeeze(),DNN_y_predicted.squeeze()])\n",
    "    # new_data = np.array([linear_pred,ridge_pred,regr_pred,reg_pred,DNN_y_predicted])\n",
    "    print(new_data.shape)\n",
    "\n",
    "    new_data = np.transpose(new_data)\n",
    "    print(new_data.shape)\n",
    "\n",
    "    #y_test를 파이토치에서 넘파이 배열로 변환\n",
    "    y_test=np.array(y_test)\n",
    "    \n",
    "    #lgbm 학습하기\n",
    "    CatBoost.fit(new_data,y_test)\n",
    "    # lgbm.fit(new_data, y_train)\n",
    "    \n",
    "    #LGBMClassifier 예측하기\n",
    "    CatBoost_pred = CatBoost.predict(new_data)\n",
    "    # lgbm_pred = lgbm.predict(X_test)\n",
    "\n",
    "    print('Stacking ensemble (ML+DNN):',len(CatBoost_pred))\n",
    "    \n",
    "    \n",
    "    accuracy=accuracy_score(y_test, CatBoost_pred) * 100\n",
    "    print(\"[{}]Accuracy : {}\".format(tfold,accuracy))   \n",
    "    #f1score\n",
    "    f1 = f1_score(y_test,CatBoost_pred, average='weighted')\n",
    "    print(\"[{}]F1score : {}\".format(tfold,f1))\n",
    "    #precision/recall\n",
    "    p_rlist=sk(y_test,CatBoost_pred,average='weighted')\n",
    "    print(\"[{}]Precision : {}\".format(tfold,p_rlist[0]))\n",
    "    print(\"[{}]Recall : {}\".format(tfold,p_rlist[1]))\n",
    "    print()\n",
    "     #결과 배열에 넣기\n",
    "    Result[tfold][0]=accuracy\n",
    "    Result[tfold][1]=f1\n",
    "    Result[tfold][2]=p_rlist[0]\n",
    "    Result[tfold][3]=p_rlist[1]\n",
    "    del accuracy\n",
    "    del f1\n",
    "    del p_rlist\n",
    "    \n",
    "    from sklearn.metrics import confusion_matrix\n",
    "    from sklearn.metrics import confusion_matrix, ConfusionMatrixDisplay\n",
    "    import matplotlib.pyplot as plt\n",
    "\n",
    "    confusion_matrix(y_test, CatBoost_pred)\n",
    "\n",
    "    cm = confusion_matrix(y_test, CatBoost_pred, labels=[0,1,2],normalize=\"true\")\n",
    "    CMResult[i]=cm\n",
    "    disp = ConfusionMatrixDisplay(confusion_matrix=cm,display_labels=[0,1,2])\n",
    "    disp.plot()\n",
    "    filename=(\"ConfusionMatrix_\"+str(i))\n",
    "    plt.savefig(\"./ConfusionMatrix_reward1/\"+filename+\".png\")\n",
    "    plt.show()\n",
    "    \n",
    "    i=i+1"
   ]
  },
  {
   "cell_type": "code",
   "execution_count": null,
   "id": "e5ed0ed4",
   "metadata": {},
   "outputs": [],
   "source": [
    "Result_df=pd.DataFrame(Result,columns=['Accuracy','F1-Score','Precision','Recall'])\n",
    "Result_df"
   ]
  },
  {
   "cell_type": "code",
   "execution_count": null,
   "id": "354bae05",
   "metadata": {},
   "outputs": [],
   "source": [
    "Matrix=pd.DataFrame(Result_df['Accuracy'],columns=['Accuracy'])\n",
    "Matrix['Accuracy']=Result_df['Accuracy']\n",
    "A=[Result_df['Accuracy'].mean(),Result_df['F1-Score'].mean(),Result_df['Precision'].mean(),Result_df['Recall'].mean()]\n",
    "A=pd.DataFrame(A,columns=['Accuracy'])\n",
    "Matrix=pd.concat([Matrix,A])\n",
    "Matrix=Matrix.transpose()\n",
    "Matrix.to_excel('./ConfusionMatrix_reward1/PFMatrix_ensemble2_final2_grid_reward1.xlsx')"
   ]
  },
  {
   "cell_type": "code",
   "execution_count": null,
   "id": "672df0f8",
   "metadata": {},
   "outputs": [],
   "source": [
    "new_data"
   ]
  },
  {
   "cell_type": "code",
   "execution_count": null,
   "id": "bad10a1e",
   "metadata": {},
   "outputs": [],
   "source": [
    "lgbm_pred"
   ]
  },
  {
   "cell_type": "code",
   "execution_count": null,
   "id": "667beb9f",
   "metadata": {},
   "outputs": [],
   "source": [
    "y_test"
   ]
  },
  {
   "cell_type": "code",
   "execution_count": null,
   "id": "386001dd",
   "metadata": {},
   "outputs": [],
   "source": []
  },
  {
   "cell_type": "code",
   "execution_count": null,
   "id": "a9063071",
   "metadata": {},
   "outputs": [],
   "source": []
  },
  {
   "cell_type": "code",
   "execution_count": null,
   "id": "cb1cc89b",
   "metadata": {},
   "outputs": [],
   "source": []
  },
  {
   "cell_type": "code",
   "execution_count": null,
   "id": "1c17845f",
   "metadata": {},
   "outputs": [],
   "source": []
  }
 ],
 "metadata": {
  "kernelspec": {
   "display_name": "Python 3 (ipykernel)",
   "language": "python",
   "name": "python3"
  },
  "language_info": {
   "codemirror_mode": {
    "name": "ipython",
    "version": 3
   },
   "file_extension": ".py",
   "mimetype": "text/x-python",
   "name": "python",
   "nbconvert_exporter": "python",
   "pygments_lexer": "ipython3",
   "version": "3.7.16"
  }
 },
 "nbformat": 4,
 "nbformat_minor": 5
}
