{
 "cells": [
  {
   "cell_type": "code",
   "execution_count": 1,
   "id": "3795c1e4",
   "metadata": {},
   "outputs": [],
   "source": [
    "from sklearn.linear_model import LinearRegression\n",
    "from sklearn.linear_model import LogisticRegression\n",
    "from sklearn.linear_model import RidgeClassifier\n",
    "from sklearn.ensemble import RandomForestClassifier\n",
    "from sklearn.ensemble import GradientBoostingClassifier\n",
    "from catboost import CatBoostClassifier\n",
    "from sklearn.ensemble import AdaBoostClassifier\n",
    "from sklearn.naive_bayes import GaussianNB\n",
    "from sklearn.svm import SVC\n",
    "from sklearn.tree import DecisionTreeClassifier\n",
    "from sklearn.discriminant_analysis import LinearDiscriminantAnalysis\n",
    "from lightgbm import LGBMRegressor, LGBMClassifier\n",
    "import pandas as pd\n",
    "import numpy as np\n",
    "import torch\n",
    "import torch.nn as nn\n",
    "from tensorflow.python.keras.models import Sequential\n",
    "from tensorflow.python.keras.layers import Dense,Dropout,Activation\n",
    "from torch.utils.data import TensorDataset, DataLoader\n",
    "from tensorflow.python.keras import metrics\n",
    "from tensorflow.python import keras\n",
    "import tensorflow as tf\n",
    "import os\n",
    "from imblearn.over_sampling import SMOTE\n",
    "import math\n",
    "from category_encoders import OneHotEncoder\n",
    "import matplotlib.pyplot as plt\n",
    "from sklearn.metrics import precision_recall_fscore_support as sk\n",
    "from sklearn.metrics import f1_score ## F1 Score 구하기\n",
    "from sklearn.metrics import accuracy_score\n",
    "%matplotlib inline"
   ]
  },
  {
   "cell_type": "code",
   "execution_count": 2,
   "id": "7cd3f02d",
   "metadata": {},
   "outputs": [],
   "source": [
    "import pandas as pd\n",
    "import torch\n",
    "from torch.utils.data import random_split, DataLoader\n",
    "import torchvision.transforms as transforms\n",
    "import torch.nn as nn\n",
    "import tensorflow as tf\n",
    "import matplotlib.pyplot as plt\n",
    "from sklearn.preprocessing import StandardScaler\n",
    "from torch.utils.data import TensorDataset, DataLoader\n",
    "from sklearn.model_selection import train_test_split\n",
    "from imblearn.over_sampling import SMOTE\n",
    "import pandas as pd\n",
    "\n",
    "import numpy as np\n",
    "%matplotlib inline"
   ]
  },
  {
   "cell_type": "code",
   "execution_count": 3,
   "id": "230cb615",
   "metadata": {},
   "outputs": [],
   "source": [
    "df=pd.read_csv(\"../../../Integrated_data/merged_df_reward.csv\",encoding=\"cp949\")"
   ]
  },
  {
   "cell_type": "code",
   "execution_count": 4,
   "id": "27ed50dd",
   "metadata": {},
   "outputs": [],
   "source": [
    "import pandas as pd\n",
    "\n",
    "class DataProcessor:\n",
    "    def __init__(self, df):\n",
    "        self.df = df\n",
    "        self.interpolated()\n",
    "        self.abmormaled()\n",
    "        self.result=self.fill_missing_values()\n",
    "\n",
    "    # ... (다른 클래스 함수 정의는 여기에 있어야 합니다)\n",
    "\n",
    "    def interpolated(self):\n",
    "        temp=[]\n",
    "        temp2=[]\n",
    "        for i in df['ID'].unique():\n",
    "            try:\n",
    "                temp.append(df[df['ID']==i].interpolate())\n",
    "            except:\n",
    "                temp.append(df[df['ID']==i])\n",
    "\n",
    "        new_df=pd.concat(temp,axis=0)\n",
    "        new_df.fillna(method='bfill',inplace=True)   \n",
    "        for i in new_df['ID'].unique():\n",
    "            temp_df=new_df[new_df['ID']==i].reset_index(drop=True)\n",
    "            temp_df[\"height\"].fillna(method='bfill',inplace=True)\n",
    "            temp_df[\"weight\"].fillna(method='bfill',inplace=True)\n",
    "            temp_df[\"height\"].fillna(method='ffill',inplace=True)\n",
    "            temp_df[\"weight\"].fillna(method='ffill',inplace=True)\n",
    "            temp2.append(temp_df)\n",
    "        new_df=pd.concat(temp2,axis=0)  \n",
    "        self.df = new_df   \n",
    "    def gap(self,first, last):\n",
    "        gap_per=(last-first)/first*100\n",
    "        return abs(gap_per)\n",
    "        \n",
    "    def abmormaled(self):\n",
    "        temp = []\n",
    "        for i in self.df['ID'].unique():\n",
    "            temp_df = self.df[self.df['ID'] == i].reset_index(drop=True)\n",
    "            for i in range(1, len(temp_df)):\n",
    "                if temp_df.at[i, 'height'] <= temp_df.at[i - 1, 'height']:\n",
    "                    temp_df.at[i, 'height'] = temp_df.at[i - 1, 'height']\n",
    "                if self.gap(temp_df.at[i - 1, 'height'], temp_df.at[i, 'height']) >= 16:\n",
    "                    temp_df.at[i, 'height'] = temp_df.at[i - 1, 'height']\n",
    "            temp.append(temp_df)\n",
    "        new_df2 = pd.concat(temp, axis=0)\n",
    "        new_df2.reset_index(drop=True, inplace=True)\n",
    "        self.df = new_df2\n",
    "\n",
    "    def fill_missing_values(self):\n",
    "        self.df[\"step_count\"].fillna(self.df[\"step_count\"].median(), inplace=True)\n",
    "        self.df[\"burned calory\"].fillna(self.df[\"burned calory\"].median(), inplace=True)\n",
    "        self.df[\"eat_calory\"].fillna(self.df[\"eat_calory\"].median(), inplace=True)\n",
    "        self.df[\"Sleep_time\"].fillna(self.df[\"Sleep_time\"].median(), inplace=True)\n",
    "        return self.df\n",
    "    \n",
    "\n"
   ]
  },
  {
   "cell_type": "code",
   "execution_count": 5,
   "id": "f335d853",
   "metadata": {},
   "outputs": [],
   "source": [
    "import pandas as pd\n",
    "\n",
    "class TimeSeriesLabeler:\n",
    "    def __init__(self, term):\n",
    "        self.term = term\n",
    "        self.result_df = pd.DataFrame()\n",
    "        self.labels = []\n",
    "\n",
    "    def calculate_labels(self, df):\n",
    "        for id in df['ID'].unique():\n",
    "            df_id = df[df['ID'] == id].reset_index(drop=True)\n",
    "            label = []\n",
    "\n",
    "            for i in range(self.term, len(df_id)):\n",
    "                previous_days = df_id['weight'].iloc[i - self.term:i]\n",
    "                current_weight = df_id['weight'].iloc[i]\n",
    "                if current_weight > previous_days.mean().round(3):\n",
    "                    label.append(1)\n",
    "                elif current_weight == previous_days.mean().round(3):\n",
    "                    label.append(0)\n",
    "                elif current_weight < previous_days.mean().round(3):\n",
    "                    label.append(2)\n",
    "                else:\n",
    "                    print(\"error\")\n",
    "\n",
    "            self.labels.extend(label)\n",
    "\n",
    "    def create_result_df(self, df):\n",
    "        for id in df['ID'].unique():\n",
    "            df_id = df[df['ID'] == id].reset_index(drop=True)\n",
    "            df_id_drop = df_id.drop(index=range(self.term))\n",
    "            self.result_df = pd.concat([self.result_df, df_id_drop])\n",
    "        self.result_df['labels']= self.labels\n",
    "        \n",
    "    def get_labels(self):\n",
    "        return self.labels\n",
    "\n",
    "    def get_result_df(self):\n",
    "        return self.result_df\n",
    "\n"
   ]
  },
  {
   "cell_type": "code",
   "execution_count": 6,
   "id": "2e10032b",
   "metadata": {},
   "outputs": [],
   "source": [
    "for i in range(3):\n",
    "    globals()['reward_data_{}'.format(i+1)]=pd.read_excel(\"../../../Integrated_data/merged_df_reward_분리.xlsx\",sheet_name = i)\n",
    "    "
   ]
  },
  {
   "cell_type": "code",
   "execution_count": 7,
   "id": "0a9905eb",
   "metadata": {},
   "outputs": [
    {
     "name": "stdout",
     "output_type": "stream",
     "text": [
      "Processing reward_data_1\n",
      "Processing reward_data_2\n",
      "Processing reward_data_3\n"
     ]
    }
   ],
   "source": [
    "# 데이터프레임 리스트 생성\n",
    "dataframes = [reward_data_1, reward_data_2, reward_data_3]\n",
    "\n",
    "# 반복문으로 데이터프레임 순차적으로 호출\n",
    "for i, df in enumerate(dataframes, start=0):\n",
    "    print(f\"Processing reward_data_{i+1}\")\n",
    "    processor = DataProcessor(df)\n",
    "    globals()['df_{}'.format(i+1)]=processor.result\n"
   ]
  },
  {
   "cell_type": "markdown",
   "id": "d33d15eb",
   "metadata": {},
   "source": [
    "# ID 별로 일주일 간격으로 몸무게 변화 라벨링(유지:0, 감소:2, 증가:1)"
   ]
  },
  {
   "cell_type": "code",
   "execution_count": 8,
   "id": "1660b0ad",
   "metadata": {},
   "outputs": [],
   "source": [
    "term = 5  # You can set your desired 'term' here"
   ]
  },
  {
   "cell_type": "code",
   "execution_count": 9,
   "id": "f517e1ad",
   "metadata": {},
   "outputs": [],
   "source": [
    "labeler_1 = TimeSeriesLabeler(term)\n",
    "labeler_1.calculate_labels(df_1)  # Provide your DataFrame 'df' as input\n",
    "labeler_1.create_result_df(df_1)  # Create the result DataFrame\n",
    "labels = labeler_1.get_labels()\n",
    "result_df_1 = labeler_1.get_result_df()"
   ]
  },
  {
   "cell_type": "code",
   "execution_count": 10,
   "id": "1ea4116a",
   "metadata": {},
   "outputs": [],
   "source": [
    "labeler_2 = TimeSeriesLabeler(term)\n",
    "labeler_2.calculate_labels(df_2)  # Provide your DataFrame 'df' as input\n",
    "labeler_2.create_result_df(df_2)  # Create the result DataFrame\n",
    "labels = labeler_2.get_labels()\n",
    "result_df_2 = labeler_2.get_result_df()"
   ]
  },
  {
   "cell_type": "code",
   "execution_count": 11,
   "id": "d3784393",
   "metadata": {},
   "outputs": [],
   "source": [
    "labeler_3 = TimeSeriesLabeler(term)\n",
    "labeler_3.calculate_labels(df_3)  # Provide your DataFrame 'df' as input\n",
    "labeler_3.create_result_df(df_3)  # Create the result DataFrame\n",
    "labels = labeler_3.get_labels()\n",
    "result_df_3 = labeler_3.get_result_df()"
   ]
  },
  {
   "cell_type": "markdown",
   "id": "c8ab7beb",
   "metadata": {},
   "source": [
    "# Reward 1에 원래 있는데 Reward 3에 있는 ID 추가"
   ]
  },
  {
   "cell_type": "code",
   "execution_count": 12,
   "id": "f580cdc3",
   "metadata": {},
   "outputs": [
    {
     "data": {
      "text/plain": [
       "(38055, 12)"
      ]
     },
     "execution_count": 12,
     "metadata": {},
     "output_type": "execute_result"
    }
   ],
   "source": [
    "add_ID=['#ZHWQTF','#TRJDPD','#LWQUGV','#TBXKMG']\n",
    "\n",
    "for name in add_ID:\n",
    "    add_df=result_df_3[result_df_3['ID']==name]\n",
    "    result_df_1=pd.concat([result_df_1,add_df], axis=0)\n",
    "\n",
    "result_df_1.shape"
   ]
  },
  {
   "cell_type": "code",
   "execution_count": 13,
   "id": "b4ba8af4",
   "metadata": {},
   "outputs": [
    {
     "data": {
      "text/plain": [
       "(38055, 12)"
      ]
     },
     "execution_count": 13,
     "metadata": {},
     "output_type": "execute_result"
    }
   ],
   "source": [
    "result_df_1.shape"
   ]
  },
  {
   "cell_type": "markdown",
   "id": "da7cadf7",
   "metadata": {},
   "source": [
    "# 데이터 세트 로드"
   ]
  },
  {
   "cell_type": "code",
   "execution_count": 14,
   "id": "129c3360",
   "metadata": {},
   "outputs": [
    {
     "data": {
      "text/html": [
       "<div>\n",
       "<style scoped>\n",
       "    .dataframe tbody tr th:only-of-type {\n",
       "        vertical-align: middle;\n",
       "    }\n",
       "\n",
       "    .dataframe tbody tr th {\n",
       "        vertical-align: top;\n",
       "    }\n",
       "\n",
       "    .dataframe thead th {\n",
       "        text-align: right;\n",
       "    }\n",
       "</style>\n",
       "<table border=\"1\" class=\"dataframe\">\n",
       "  <thead>\n",
       "    <tr style=\"text-align: right;\">\n",
       "      <th></th>\n",
       "      <th>ID</th>\n",
       "      <th>collect_datetime</th>\n",
       "      <th>gender</th>\n",
       "      <th>grade</th>\n",
       "      <th>height</th>\n",
       "      <th>weight</th>\n",
       "      <th>step_count</th>\n",
       "      <th>burned calory</th>\n",
       "      <th>eat_calory</th>\n",
       "      <th>Sleep_time</th>\n",
       "      <th>서포터여부</th>\n",
       "    </tr>\n",
       "  </thead>\n",
       "  <tbody>\n",
       "    <tr>\n",
       "      <th>0</th>\n",
       "      <td>#AEGMOD</td>\n",
       "      <td>2022-07-14</td>\n",
       "      <td>2</td>\n",
       "      <td>4</td>\n",
       "      <td>132.0</td>\n",
       "      <td>29.00</td>\n",
       "      <td>100.0</td>\n",
       "      <td>8.877</td>\n",
       "      <td>421.0</td>\n",
       "      <td>12.0</td>\n",
       "      <td>1</td>\n",
       "    </tr>\n",
       "    <tr>\n",
       "      <th>1</th>\n",
       "      <td>#AEGMOD</td>\n",
       "      <td>2022-07-15</td>\n",
       "      <td>2</td>\n",
       "      <td>4</td>\n",
       "      <td>132.0</td>\n",
       "      <td>29.00</td>\n",
       "      <td>100.0</td>\n",
       "      <td>8.877</td>\n",
       "      <td>421.0</td>\n",
       "      <td>12.0</td>\n",
       "      <td>1</td>\n",
       "    </tr>\n",
       "    <tr>\n",
       "      <th>2</th>\n",
       "      <td>#AEGMOD</td>\n",
       "      <td>2022-07-16</td>\n",
       "      <td>2</td>\n",
       "      <td>4</td>\n",
       "      <td>132.0</td>\n",
       "      <td>29.00</td>\n",
       "      <td>100.0</td>\n",
       "      <td>8.877</td>\n",
       "      <td>421.0</td>\n",
       "      <td>12.0</td>\n",
       "      <td>1</td>\n",
       "    </tr>\n",
       "    <tr>\n",
       "      <th>3</th>\n",
       "      <td>#AEGMOD</td>\n",
       "      <td>2022-07-17</td>\n",
       "      <td>2</td>\n",
       "      <td>4</td>\n",
       "      <td>133.3</td>\n",
       "      <td>27.25</td>\n",
       "      <td>100.0</td>\n",
       "      <td>8.877</td>\n",
       "      <td>421.0</td>\n",
       "      <td>12.0</td>\n",
       "      <td>1</td>\n",
       "    </tr>\n",
       "    <tr>\n",
       "      <th>4</th>\n",
       "      <td>#AEGMOD</td>\n",
       "      <td>2022-07-18</td>\n",
       "      <td>2</td>\n",
       "      <td>4</td>\n",
       "      <td>133.3</td>\n",
       "      <td>27.25</td>\n",
       "      <td>1129.0</td>\n",
       "      <td>8.877</td>\n",
       "      <td>266.0</td>\n",
       "      <td>12.0</td>\n",
       "      <td>1</td>\n",
       "    </tr>\n",
       "  </tbody>\n",
       "</table>\n",
       "</div>"
      ],
      "text/plain": [
       "        ID collect_datetime  gender  grade  height  weight  step_count  \\\n",
       "0  #AEGMOD       2022-07-14       2      4   132.0   29.00       100.0   \n",
       "1  #AEGMOD       2022-07-15       2      4   132.0   29.00       100.0   \n",
       "2  #AEGMOD       2022-07-16       2      4   132.0   29.00       100.0   \n",
       "3  #AEGMOD       2022-07-17       2      4   133.3   27.25       100.0   \n",
       "4  #AEGMOD       2022-07-18       2      4   133.3   27.25      1129.0   \n",
       "\n",
       "   burned calory  eat_calory  Sleep_time  서포터여부  \n",
       "0          8.877       421.0        12.0      1  \n",
       "1          8.877       421.0        12.0      1  \n",
       "2          8.877       421.0        12.0      1  \n",
       "3          8.877       421.0        12.0      1  \n",
       "4          8.877       266.0        12.0      1  "
      ]
     },
     "execution_count": 14,
     "metadata": {},
     "output_type": "execute_result"
    }
   ],
   "source": [
    "df_1.head()"
   ]
  },
  {
   "cell_type": "code",
   "execution_count": 31,
   "id": "601bbb57",
   "metadata": {},
   "outputs": [],
   "source": [
    "X_1=result_df_1.iloc[:,[4,5,6,7,8,9]]\n",
    "y_1=result_df_1.iloc[:,-1].reset_index(drop=\n",
    "                                      \n",
    "                                      \n",
    "                                      \n",
    "                                      )\n"
   ]
  },
  {
   "cell_type": "code",
   "execution_count": 32,
   "id": "d2a575d8",
   "metadata": {},
   "outputs": [
    {
     "name": "stdout",
     "output_type": "stream",
     "text": [
      "SMOTE 적용 전 학습용 피처/레이블 데이터 세트:  (38055, 6) (38055,)\n",
      "SMOTE 적용 후 학습용 피처/레이블 데이터 세트:  (102111, 6) (102111,)\n",
      "SMOTE 적용 전 레이블 값 분포: \n",
      " 0    34037\n",
      "1     2464\n",
      "2     1554\n",
      "Name: labels, dtype: int64\n",
      "SMOTE 적용 후 레이블 값 분포: \n",
      " 2    34037\n",
      "0    34037\n",
      "1    34037\n",
      "Name: labels, dtype: int64\n"
     ]
    }
   ],
   "source": [
    "from sklearn.preprocessing import StandardScaler\n",
    "from sklearn.model_selection import train_test_split\n",
    "from imblearn.over_sampling import SMOTE\n",
    "from sklearn.preprocessing import OneHotEncoder\n",
    "\n",
    "scaler_1 = StandardScaler()\n",
    "\n",
    "\n",
    "X_scaler_1=scaler_1.fit_transform(X_1)\n",
    "\n",
    "\n",
    "smote_1 = SMOTE(random_state=0)\n",
    "X_over_1,y_over_1 = smote_1.fit_resample(X_scaler_1,y_1)\n",
    "print('SMOTE 적용 전 학습용 피처/레이블 데이터 세트: ', X_scaler_1.shape, y_1.shape)\n",
    "print('SMOTE 적용 후 학습용 피처/레이블 데이터 세트: ', X_over_1.shape, y_over_1.shape)\n",
    "print('SMOTE 적용 전 레이블 값 분포: \\n', pd.Series(y_1).value_counts())\n",
    "print('SMOTE 적용 후 레이블 값 분포: \\n', pd.Series(y_over_1).value_counts())\n",
    "\n",
    "\n",
    "\n"
   ]
  },
  {
   "cell_type": "markdown",
   "id": "666df185",
   "metadata": {},
   "source": [
    "# 데이터 스케일링"
   ]
  },
  {
   "cell_type": "markdown",
   "id": "e2c79e34",
   "metadata": {},
   "source": [
    "## Train, Test dataset 나누기"
   ]
  },
  {
   "cell_type": "code",
   "execution_count": 33,
   "id": "062a7731",
   "metadata": {},
   "outputs": [
    {
     "data": {
      "text/plain": [
       "0         2\n",
       "1         2\n",
       "2         2\n",
       "3         0\n",
       "4         0\n",
       "         ..\n",
       "102106    2\n",
       "102107    2\n",
       "102108    2\n",
       "102109    2\n",
       "102110    2\n",
       "Name: labels, Length: 102111, dtype: int64"
      ]
     },
     "execution_count": 33,
     "metadata": {},
     "output_type": "execute_result"
    }
   ],
   "source": [
    "y_over_1"
   ]
  },
  {
   "cell_type": "code",
   "execution_count": 34,
   "id": "fb68b6ba",
   "metadata": {},
   "outputs": [
    {
     "data": {
      "text/plain": [
       "0        2\n",
       "1        2\n",
       "2        2\n",
       "3        0\n",
       "4        0\n",
       "        ..\n",
       "38050    0\n",
       "38051    0\n",
       "38052    0\n",
       "38053    0\n",
       "38054    2\n",
       "Name: labels, Length: 38055, dtype: int64"
      ]
     },
     "execution_count": 34,
     "metadata": {},
     "output_type": "execute_result"
    }
   ],
   "source": [
    "y_1"
   ]
  },
  {
   "cell_type": "code",
   "execution_count": 35,
   "id": "199c1e8b",
   "metadata": {},
   "outputs": [],
   "source": [
    "X_train_over=X_scaler_1\n",
    "y_train_over=y_1"
   ]
  },
  {
   "cell_type": "code",
   "execution_count": 36,
   "id": "8c701c2f",
   "metadata": {},
   "outputs": [
    {
     "name": "stderr",
     "output_type": "stream",
     "text": [
      "100%|████████████████████████████████████████████████████████████████████████████████████| 4/4 [00:01<00:00,  2.93it/s]\n"
     ]
    },
    {
     "name": "stdout",
     "output_type": "stream",
     "text": [
      "[INFO] val_acc has been improved from 9999999999999.00000 to 0.87307. Saving Model!\n",
      "epoch 01, loss: 1.03175, acc: 0.64884, val_loss: 0.87307, val_accuracy: 0.89438\n"
     ]
    },
    {
     "name": "stderr",
     "output_type": "stream",
     "text": [
      "100%|████████████████████████████████████████████████████████████████████████████████████| 4/4 [00:00<00:00,  6.69it/s]\n"
     ]
    },
    {
     "name": "stdout",
     "output_type": "stream",
     "text": [
      "[INFO] val_acc has been improved from 0.87307 to 0.60721. Saving Model!\n",
      "epoch 02, loss: 0.77476, acc: 0.89442, val_loss: 0.60721, val_accuracy: 0.89438\n"
     ]
    },
    {
     "name": "stderr",
     "output_type": "stream",
     "text": [
      "100%|████████████████████████████████████████████████████████████████████████████████████| 4/4 [00:00<00:00,  8.23it/s]\n"
     ]
    },
    {
     "name": "stdout",
     "output_type": "stream",
     "text": [
      "[INFO] val_acc has been improved from 0.60721 to 0.47374. Saving Model!\n",
      "epoch 03, loss: 0.53145, acc: 0.89442, val_loss: 0.47374, val_accuracy: 0.89438\n"
     ]
    },
    {
     "name": "stderr",
     "output_type": "stream",
     "text": [
      "100%|████████████████████████████████████████████████████████████████████████████████████| 4/4 [00:00<00:00,  9.73it/s]\n"
     ]
    },
    {
     "name": "stdout",
     "output_type": "stream",
     "text": [
      "epoch 04, loss: 0.45964, acc: 0.89442, val_loss: 0.52694, val_accuracy: 0.89438\n"
     ]
    },
    {
     "name": "stderr",
     "output_type": "stream",
     "text": [
      "100%|████████████████████████████████████████████████████████████████████████████████████| 4/4 [00:00<00:00,  9.66it/s]\n"
     ]
    },
    {
     "name": "stdout",
     "output_type": "stream",
     "text": [
      "epoch 05, loss: 0.49060, acc: 0.89442, val_loss: 0.52400, val_accuracy: 0.89438\n"
     ]
    },
    {
     "name": "stderr",
     "output_type": "stream",
     "text": [
      "100%|████████████████████████████████████████████████████████████████████████████████████| 4/4 [00:00<00:00,  9.61it/s]\n"
     ]
    },
    {
     "name": "stdout",
     "output_type": "stream",
     "text": [
      "epoch 06, loss: 0.46326, acc: 0.89442, val_loss: 0.47579, val_accuracy: 0.89438\n"
     ]
    },
    {
     "name": "stderr",
     "output_type": "stream",
     "text": [
      "100%|████████████████████████████████████████████████████████████████████████████████████| 4/4 [00:00<00:00,  6.11it/s]\n"
     ]
    },
    {
     "name": "stdout",
     "output_type": "stream",
     "text": [
      "[INFO] val_acc has been improved from 0.47374 to 0.45766. Saving Model!\n",
      "epoch 07, loss: 0.42913, acc: 0.89442, val_loss: 0.45766, val_accuracy: 0.89438\n"
     ]
    },
    {
     "name": "stderr",
     "output_type": "stream",
     "text": [
      "100%|████████████████████████████████████████████████████████████████████████████████████| 4/4 [00:00<00:00, 10.52it/s]\n"
     ]
    },
    {
     "name": "stdout",
     "output_type": "stream",
     "text": [
      "epoch 08, loss: 0.42893, acc: 0.89442, val_loss: 0.45853, val_accuracy: 0.89438\n"
     ]
    },
    {
     "name": "stderr",
     "output_type": "stream",
     "text": [
      "100%|████████████████████████████████████████████████████████████████████████████████████| 4/4 [00:00<00:00, 10.75it/s]\n"
     ]
    },
    {
     "name": "stdout",
     "output_type": "stream",
     "text": [
      "[INFO] val_acc has been improved from 0.45766 to 0.45100. Saving Model!\n",
      "epoch 09, loss: 0.43186, acc: 0.89442, val_loss: 0.45100, val_accuracy: 0.89438\n"
     ]
    },
    {
     "name": "stderr",
     "output_type": "stream",
     "text": [
      "100%|████████████████████████████████████████████████████████████████████████████████████| 4/4 [00:00<00:00, 10.81it/s]\n"
     ]
    },
    {
     "name": "stdout",
     "output_type": "stream",
     "text": [
      "[INFO] val_acc has been improved from 0.45100 to 0.44582. Saving Model!\n",
      "epoch 10, loss: 0.42150, acc: 0.89442, val_loss: 0.44582, val_accuracy: 0.89438\n"
     ]
    },
    {
     "name": "stderr",
     "output_type": "stream",
     "text": [
      "100%|████████████████████████████████████████████████████████████████████████████████████| 4/4 [00:00<00:00, 11.05it/s]\n"
     ]
    },
    {
     "name": "stdout",
     "output_type": "stream",
     "text": [
      "epoch 11, loss: 0.41421, acc: 0.89442, val_loss: 0.45021, val_accuracy: 0.89438\n"
     ]
    },
    {
     "name": "stderr",
     "output_type": "stream",
     "text": [
      "100%|████████████████████████████████████████████████████████████████████████████████████| 4/4 [00:00<00:00, 10.87it/s]\n"
     ]
    },
    {
     "name": "stdout",
     "output_type": "stream",
     "text": [
      "epoch 12, loss: 0.41443, acc: 0.89442, val_loss: 0.45060, val_accuracy: 0.89438\n"
     ]
    },
    {
     "name": "stderr",
     "output_type": "stream",
     "text": [
      "100%|████████████████████████████████████████████████████████████████████████████████████| 4/4 [00:00<00:00, 11.05it/s]\n"
     ]
    },
    {
     "name": "stdout",
     "output_type": "stream",
     "text": [
      "[INFO] val_acc has been improved from 0.44582 to 0.44393. Saving Model!\n",
      "epoch 13, loss: 0.41258, acc: 0.89442, val_loss: 0.44393, val_accuracy: 0.89438\n"
     ]
    },
    {
     "name": "stderr",
     "output_type": "stream",
     "text": [
      "100%|████████████████████████████████████████████████████████████████████████████████████| 4/4 [00:00<00:00, 11.17it/s]\n"
     ]
    },
    {
     "name": "stdout",
     "output_type": "stream",
     "text": [
      "[INFO] val_acc has been improved from 0.44393 to 0.43891. Saving Model!\n",
      "epoch 14, loss: 0.40924, acc: 0.89442, val_loss: 0.43891, val_accuracy: 0.89438\n"
     ]
    },
    {
     "name": "stderr",
     "output_type": "stream",
     "text": [
      "100%|████████████████████████████████████████████████████████████████████████████████████| 4/4 [00:00<00:00, 11.02it/s]\n"
     ]
    },
    {
     "name": "stdout",
     "output_type": "stream",
     "text": [
      "[INFO] val_acc has been improved from 0.43891 to 0.43736. Saving Model!\n",
      "epoch 15, loss: 0.40797, acc: 0.89442, val_loss: 0.43736, val_accuracy: 0.89438\n"
     ]
    },
    {
     "name": "stderr",
     "output_type": "stream",
     "text": [
      "100%|████████████████████████████████████████████████████████████████████████████████████| 4/4 [00:00<00:00,  9.95it/s]\n"
     ]
    },
    {
     "name": "stdout",
     "output_type": "stream",
     "text": [
      "[INFO] val_acc has been improved from 0.43736 to 0.43722. Saving Model!\n",
      "epoch 16, loss: 0.40662, acc: 0.89442, val_loss: 0.43722, val_accuracy: 0.89438\n"
     ]
    },
    {
     "name": "stderr",
     "output_type": "stream",
     "text": [
      "100%|████████████████████████████████████████████████████████████████████████████████████| 4/4 [00:00<00:00, 10.00it/s]\n"
     ]
    },
    {
     "name": "stdout",
     "output_type": "stream",
     "text": [
      "epoch 17, loss: 0.40503, acc: 0.89442, val_loss: 0.43763, val_accuracy: 0.89438\n"
     ]
    },
    {
     "name": "stderr",
     "output_type": "stream",
     "text": [
      "100%|████████████████████████████████████████████████████████████████████████████████████| 4/4 [00:00<00:00, 10.20it/s]\n"
     ]
    },
    {
     "name": "stdout",
     "output_type": "stream",
     "text": [
      "[INFO] val_acc has been improved from 0.43722 to 0.43672. Saving Model!\n",
      "epoch 18, loss: 0.40411, acc: 0.89442, val_loss: 0.43672, val_accuracy: 0.89438\n"
     ]
    },
    {
     "name": "stderr",
     "output_type": "stream",
     "text": [
      "100%|████████████████████████████████████████████████████████████████████████████████████| 4/4 [00:00<00:00,  9.95it/s]\n"
     ]
    },
    {
     "name": "stdout",
     "output_type": "stream",
     "text": [
      "[INFO] val_acc has been improved from 0.43672 to 0.43441. Saving Model!\n",
      "epoch 19, loss: 0.40297, acc: 0.89442, val_loss: 0.43441, val_accuracy: 0.89438\n"
     ]
    },
    {
     "name": "stderr",
     "output_type": "stream",
     "text": [
      "100%|████████████████████████████████████████████████████████████████████████████████████| 4/4 [00:00<00:00,  8.54it/s]\n"
     ]
    },
    {
     "name": "stdout",
     "output_type": "stream",
     "text": [
      "[INFO] val_acc has been improved from 0.43441 to 0.43272. Saving Model!\n",
      "epoch 20, loss: 0.40194, acc: 0.89442, val_loss: 0.43272, val_accuracy: 0.89438\n"
     ]
    },
    {
     "name": "stderr",
     "output_type": "stream",
     "text": [
      "100%|████████████████████████████████████████████████████████████████████████████████████| 4/4 [00:00<00:00,  7.15it/s]\n"
     ]
    },
    {
     "name": "stdout",
     "output_type": "stream",
     "text": [
      "[INFO] val_acc has been improved from 0.43272 to 0.43199. Saving Model!\n",
      "epoch 21, loss: 0.40111, acc: 0.89442, val_loss: 0.43199, val_accuracy: 0.89438\n"
     ]
    },
    {
     "name": "stderr",
     "output_type": "stream",
     "text": [
      "100%|████████████████████████████████████████████████████████████████████████████████████| 4/4 [00:00<00:00,  9.54it/s]\n"
     ]
    },
    {
     "name": "stdout",
     "output_type": "stream",
     "text": [
      "[INFO] val_acc has been improved from 0.43199 to 0.43148. Saving Model!\n",
      "epoch 22, loss: 0.40023, acc: 0.89442, val_loss: 0.43148, val_accuracy: 0.89438\n"
     ]
    },
    {
     "name": "stderr",
     "output_type": "stream",
     "text": [
      "100%|████████████████████████████████████████████████████████████████████████████████████| 4/4 [00:00<00:00,  7.66it/s]\n"
     ]
    },
    {
     "name": "stdout",
     "output_type": "stream",
     "text": [
      "[INFO] val_acc has been improved from 0.43148 to 0.43028. Saving Model!\n",
      "epoch 23, loss: 0.39941, acc: 0.89442, val_loss: 0.43028, val_accuracy: 0.89438\n"
     ]
    },
    {
     "name": "stderr",
     "output_type": "stream",
     "text": [
      "100%|████████████████████████████████████████████████████████████████████████████████████| 4/4 [00:00<00:00,  9.61it/s]\n"
     ]
    },
    {
     "name": "stdout",
     "output_type": "stream",
     "text": [
      "[INFO] val_acc has been improved from 0.43028 to 0.42911. Saving Model!\n",
      "epoch 24, loss: 0.39856, acc: 0.89442, val_loss: 0.42911, val_accuracy: 0.89438\n"
     ]
    },
    {
     "name": "stderr",
     "output_type": "stream",
     "text": [
      "100%|████████████████████████████████████████████████████████████████████████████████████| 4/4 [00:00<00:00,  9.26it/s]\n"
     ]
    },
    {
     "name": "stdout",
     "output_type": "stream",
     "text": [
      "[INFO] val_acc has been improved from 0.42911 to 0.42843. Saving Model!\n",
      "epoch 25, loss: 0.39780, acc: 0.89442, val_loss: 0.42843, val_accuracy: 0.89438\n"
     ]
    },
    {
     "name": "stderr",
     "output_type": "stream",
     "text": [
      "100%|████████████████████████████████████████████████████████████████████████████████████| 4/4 [00:00<00:00,  5.59it/s]\n"
     ]
    },
    {
     "name": "stdout",
     "output_type": "stream",
     "text": [
      "[INFO] val_acc has been improved from 0.42843 to 0.42801. Saving Model!\n",
      "epoch 26, loss: 0.39707, acc: 0.89442, val_loss: 0.42801, val_accuracy: 0.89438\n"
     ]
    },
    {
     "name": "stderr",
     "output_type": "stream",
     "text": [
      "100%|████████████████████████████████████████████████████████████████████████████████████| 4/4 [00:00<00:00, 10.90it/s]\n"
     ]
    },
    {
     "name": "stdout",
     "output_type": "stream",
     "text": [
      "[INFO] val_acc has been improved from 0.42801 to 0.42749. Saving Model!\n",
      "epoch 27, loss: 0.39635, acc: 0.89442, val_loss: 0.42749, val_accuracy: 0.89438\n"
     ]
    },
    {
     "name": "stderr",
     "output_type": "stream",
     "text": [
      "100%|████████████████████████████████████████████████████████████████████████████████████| 4/4 [00:00<00:00, 10.69it/s]\n"
     ]
    },
    {
     "name": "stdout",
     "output_type": "stream",
     "text": [
      "[INFO] val_acc has been improved from 0.42749 to 0.42697. Saving Model!\n",
      "epoch 28, loss: 0.39565, acc: 0.89442, val_loss: 0.42697, val_accuracy: 0.89438\n"
     ]
    },
    {
     "name": "stderr",
     "output_type": "stream",
     "text": [
      "100%|████████████████████████████████████████████████████████████████████████████████████| 4/4 [00:00<00:00, 10.33it/s]\n"
     ]
    },
    {
     "name": "stdout",
     "output_type": "stream",
     "text": [
      "[INFO] val_acc has been improved from 0.42697 to 0.42656. Saving Model!\n",
      "epoch 29, loss: 0.39498, acc: 0.89445, val_loss: 0.42656, val_accuracy: 0.89438\n"
     ]
    },
    {
     "name": "stderr",
     "output_type": "stream",
     "text": [
      "100%|████████████████████████████████████████████████████████████████████████████████████| 4/4 [00:00<00:00, 10.64it/s]\n"
     ]
    },
    {
     "name": "stdout",
     "output_type": "stream",
     "text": [
      "[INFO] val_acc has been improved from 0.42656 to 0.42632. Saving Model!\n",
      "epoch 30, loss: 0.39431, acc: 0.89445, val_loss: 0.42632, val_accuracy: 0.89438\n"
     ]
    },
    {
     "name": "stderr",
     "output_type": "stream",
     "text": [
      "100%|████████████████████████████████████████████████████████████████████████████████████| 4/4 [00:00<00:00, 10.83it/s]\n"
     ]
    },
    {
     "name": "stdout",
     "output_type": "stream",
     "text": [
      "[INFO] val_acc has been improved from 0.42632 to 0.42586. Saving Model!\n",
      "epoch 31, loss: 0.39363, acc: 0.89448, val_loss: 0.42586, val_accuracy: 0.89438\n"
     ]
    },
    {
     "name": "stderr",
     "output_type": "stream",
     "text": [
      "100%|████████████████████████████████████████████████████████████████████████████████████| 4/4 [00:00<00:00,  8.25it/s]\n"
     ]
    },
    {
     "name": "stdout",
     "output_type": "stream",
     "text": [
      "[INFO] val_acc has been improved from 0.42586 to 0.42551. Saving Model!\n",
      "epoch 32, loss: 0.39292, acc: 0.89460, val_loss: 0.42551, val_accuracy: 0.89438\n"
     ]
    },
    {
     "name": "stderr",
     "output_type": "stream",
     "text": [
      "100%|████████████████████████████████████████████████████████████████████████████████████| 4/4 [00:00<00:00, 11.02it/s]\n"
     ]
    },
    {
     "name": "stdout",
     "output_type": "stream",
     "text": [
      "epoch 33, loss: 0.39226, acc: 0.89460, val_loss: 0.42559, val_accuracy: 0.89438\n"
     ]
    },
    {
     "name": "stderr",
     "output_type": "stream",
     "text": [
      "100%|████████████████████████████████████████████████████████████████████████████████████| 4/4 [00:00<00:00, 10.63it/s]\n"
     ]
    },
    {
     "name": "stdout",
     "output_type": "stream",
     "text": [
      "epoch 34, loss: 0.39160, acc: 0.89462, val_loss: 0.42565, val_accuracy: 0.89438\n"
     ]
    },
    {
     "name": "stderr",
     "output_type": "stream",
     "text": [
      "100%|████████████████████████████████████████████████████████████████████████████████████| 4/4 [00:00<00:00,  7.97it/s]\n"
     ]
    },
    {
     "name": "stdout",
     "output_type": "stream",
     "text": [
      "epoch 35, loss: 0.39094, acc: 0.89462, val_loss: 0.42561, val_accuracy: 0.89438\n"
     ]
    },
    {
     "name": "stderr",
     "output_type": "stream",
     "text": [
      "100%|████████████████████████████████████████████████████████████████████████████████████| 4/4 [00:00<00:00,  9.61it/s]\n"
     ]
    },
    {
     "name": "stdout",
     "output_type": "stream",
     "text": [
      "[INFO] val_acc has been improved from 0.42551 to 0.42549. Saving Model!\n",
      "epoch 36, loss: 0.39029, acc: 0.89462, val_loss: 0.42549, val_accuracy: 0.89438\n"
     ]
    },
    {
     "name": "stderr",
     "output_type": "stream",
     "text": [
      "100%|████████████████████████████████████████████████████████████████████████████████████| 4/4 [00:00<00:00,  8.38it/s]\n"
     ]
    },
    {
     "name": "stdout",
     "output_type": "stream",
     "text": [
      "epoch 37, loss: 0.38962, acc: 0.89462, val_loss: 0.42550, val_accuracy: 0.89438\n"
     ]
    },
    {
     "name": "stderr",
     "output_type": "stream",
     "text": [
      "100%|████████████████████████████████████████████████████████████████████████████████████| 4/4 [00:00<00:00,  9.61it/s]\n"
     ]
    },
    {
     "name": "stdout",
     "output_type": "stream",
     "text": [
      "epoch 38, loss: 0.38895, acc: 0.89460, val_loss: 0.42550, val_accuracy: 0.89438\n"
     ]
    },
    {
     "name": "stderr",
     "output_type": "stream",
     "text": [
      "100%|████████████████████████████████████████████████████████████████████████████████████| 4/4 [00:00<00:00,  9.92it/s]\n"
     ]
    },
    {
     "name": "stdout",
     "output_type": "stream",
     "text": [
      "epoch 39, loss: 0.38826, acc: 0.89462, val_loss: 0.42577, val_accuracy: 0.89438\n"
     ]
    },
    {
     "name": "stderr",
     "output_type": "stream",
     "text": [
      "100%|████████████████████████████████████████████████████████████████████████████████████| 4/4 [00:00<00:00,  9.66it/s]\n"
     ]
    },
    {
     "name": "stdout",
     "output_type": "stream",
     "text": [
      "epoch 40, loss: 0.38751, acc: 0.89462, val_loss: 0.42583, val_accuracy: 0.89438\n"
     ]
    },
    {
     "name": "stderr",
     "output_type": "stream",
     "text": [
      "100%|████████████████████████████████████████████████████████████████████████████████████| 4/4 [00:00<00:00,  7.36it/s]\n"
     ]
    },
    {
     "name": "stdout",
     "output_type": "stream",
     "text": [
      "epoch 41, loss: 0.38682, acc: 0.89465, val_loss: 0.42561, val_accuracy: 0.89438\n"
     ]
    },
    {
     "name": "stderr",
     "output_type": "stream",
     "text": [
      "100%|████████████████████████████████████████████████████████████████████████████████████| 4/4 [00:00<00:00,  8.28it/s]\n"
     ]
    },
    {
     "name": "stdout",
     "output_type": "stream",
     "text": [
      "epoch 42, loss: 0.38612, acc: 0.89468, val_loss: 0.42610, val_accuracy: 0.89438\n"
     ]
    },
    {
     "name": "stderr",
     "output_type": "stream",
     "text": [
      "100%|████████████████████████████████████████████████████████████████████████████████████| 4/4 [00:00<00:00,  8.64it/s]\n"
     ]
    },
    {
     "name": "stdout",
     "output_type": "stream",
     "text": [
      "epoch 43, loss: 0.38541, acc: 0.89468, val_loss: 0.42649, val_accuracy: 0.89438\n"
     ]
    },
    {
     "name": "stderr",
     "output_type": "stream",
     "text": [
      "100%|████████████████████████████████████████████████████████████████████████████████████| 4/4 [00:00<00:00,  6.52it/s]\n"
     ]
    },
    {
     "name": "stdout",
     "output_type": "stream",
     "text": [
      "epoch 44, loss: 0.38468, acc: 0.89468, val_loss: 0.42630, val_accuracy: 0.89438\n"
     ]
    },
    {
     "name": "stderr",
     "output_type": "stream",
     "text": [
      "100%|████████████████████████████████████████████████████████████████████████████████████| 4/4 [00:00<00:00,  7.74it/s]\n"
     ]
    },
    {
     "name": "stdout",
     "output_type": "stream",
     "text": [
      "epoch 45, loss: 0.38399, acc: 0.89468, val_loss: 0.42659, val_accuracy: 0.89438\n"
     ]
    },
    {
     "name": "stderr",
     "output_type": "stream",
     "text": [
      "100%|████████████████████████████████████████████████████████████████████████████████████| 4/4 [00:00<00:00,  8.35it/s]\n"
     ]
    },
    {
     "name": "stdout",
     "output_type": "stream",
     "text": [
      "epoch 46, loss: 0.38319, acc: 0.89468, val_loss: 0.42646, val_accuracy: 0.89438\n"
     ]
    },
    {
     "name": "stderr",
     "output_type": "stream",
     "text": [
      "100%|████████████████████████████████████████████████████████████████████████████████████| 4/4 [00:00<00:00,  8.93it/s]\n"
     ]
    },
    {
     "name": "stdout",
     "output_type": "stream",
     "text": [
      "epoch 47, loss: 0.38248, acc: 0.89468, val_loss: 0.42682, val_accuracy: 0.89438\n"
     ]
    },
    {
     "name": "stderr",
     "output_type": "stream",
     "text": [
      "100%|████████████████████████████████████████████████████████████████████████████████████| 4/4 [00:00<00:00,  9.20it/s]\n"
     ]
    },
    {
     "name": "stdout",
     "output_type": "stream",
     "text": [
      "epoch 48, loss: 0.38176, acc: 0.89471, val_loss: 0.42754, val_accuracy: 0.89438\n"
     ]
    },
    {
     "name": "stderr",
     "output_type": "stream",
     "text": [
      "100%|████████████████████████████████████████████████████████████████████████████████████| 4/4 [00:00<00:00,  6.95it/s]\n"
     ]
    },
    {
     "name": "stdout",
     "output_type": "stream",
     "text": [
      "epoch 49, loss: 0.38100, acc: 0.89471, val_loss: 0.42780, val_accuracy: 0.89438\n"
     ]
    },
    {
     "name": "stderr",
     "output_type": "stream",
     "text": [
      "100%|████████████████████████████████████████████████████████████████████████████████████| 4/4 [00:00<00:00,  7.13it/s]\n"
     ]
    },
    {
     "name": "stdout",
     "output_type": "stream",
     "text": [
      "epoch 50, loss: 0.38026, acc: 0.89471, val_loss: 0.42749, val_accuracy: 0.89438\n"
     ]
    },
    {
     "name": "stderr",
     "output_type": "stream",
     "text": [
      "100%|████████████████████████████████████████████████████████████████████████████████████| 4/4 [00:00<00:00, 10.44it/s]\n"
     ]
    },
    {
     "name": "stdout",
     "output_type": "stream",
     "text": [
      "epoch 51, loss: 0.37948, acc: 0.89471, val_loss: 0.42773, val_accuracy: 0.89438\n"
     ]
    },
    {
     "name": "stderr",
     "output_type": "stream",
     "text": [
      "100%|████████████████████████████████████████████████████████████████████████████████████| 4/4 [00:00<00:00, 10.25it/s]\n"
     ]
    },
    {
     "name": "stdout",
     "output_type": "stream",
     "text": [
      "epoch 52, loss: 0.37871, acc: 0.89471, val_loss: 0.42815, val_accuracy: 0.89438\n"
     ]
    },
    {
     "name": "stderr",
     "output_type": "stream",
     "text": [
      "100%|████████████████████████████████████████████████████████████████████████████████████| 4/4 [00:00<00:00,  8.01it/s]\n"
     ]
    },
    {
     "name": "stdout",
     "output_type": "stream",
     "text": [
      "epoch 53, loss: 0.37790, acc: 0.89471, val_loss: 0.42889, val_accuracy: 0.89438\n"
     ]
    },
    {
     "name": "stderr",
     "output_type": "stream",
     "text": [
      "100%|████████████████████████████████████████████████████████████████████████████████████| 4/4 [00:00<00:00,  9.73it/s]\n"
     ]
    },
    {
     "name": "stdout",
     "output_type": "stream",
     "text": [
      "epoch 54, loss: 0.37712, acc: 0.89474, val_loss: 0.42922, val_accuracy: 0.89438\n"
     ]
    },
    {
     "name": "stderr",
     "output_type": "stream",
     "text": [
      "100%|████████████████████████████████████████████████████████████████████████████████████| 4/4 [00:00<00:00,  8.03it/s]\n"
     ]
    },
    {
     "name": "stdout",
     "output_type": "stream",
     "text": [
      "epoch 55, loss: 0.37624, acc: 0.89474, val_loss: 0.42954, val_accuracy: 0.89438\n"
     ]
    },
    {
     "name": "stderr",
     "output_type": "stream",
     "text": [
      "100%|████████████████████████████████████████████████████████████████████████████████████| 4/4 [00:00<00:00,  9.05it/s]\n"
     ]
    },
    {
     "name": "stdout",
     "output_type": "stream",
     "text": [
      "epoch 56, loss: 0.37549, acc: 0.89480, val_loss: 0.42996, val_accuracy: 0.89438\n"
     ]
    },
    {
     "name": "stderr",
     "output_type": "stream",
     "text": [
      "100%|████████████████████████████████████████████████████████████████████████████████████| 4/4 [00:00<00:00,  9.03it/s]\n"
     ]
    },
    {
     "name": "stdout",
     "output_type": "stream",
     "text": [
      "epoch 57, loss: 0.37467, acc: 0.89477, val_loss: 0.43103, val_accuracy: 0.89464\n"
     ]
    },
    {
     "name": "stderr",
     "output_type": "stream",
     "text": [
      "100%|████████████████████████████████████████████████████████████████████████████████████| 4/4 [00:00<00:00,  9.01it/s]\n"
     ]
    },
    {
     "name": "stdout",
     "output_type": "stream",
     "text": [
      "epoch 58, loss: 0.37371, acc: 0.89471, val_loss: 0.43149, val_accuracy: 0.89464\n"
     ]
    },
    {
     "name": "stderr",
     "output_type": "stream",
     "text": [
      "100%|████████████████████████████████████████████████████████████████████████████████████| 4/4 [00:00<00:00,  7.38it/s]\n"
     ]
    },
    {
     "name": "stdout",
     "output_type": "stream",
     "text": [
      "epoch 59, loss: 0.37298, acc: 0.89480, val_loss: 0.43257, val_accuracy: 0.89464\n"
     ]
    },
    {
     "name": "stderr",
     "output_type": "stream",
     "text": [
      "100%|████████████████████████████████████████████████████████████████████████████████████| 4/4 [00:00<00:00,  9.13it/s]\n"
     ]
    },
    {
     "name": "stdout",
     "output_type": "stream",
     "text": [
      "epoch 60, loss: 0.37198, acc: 0.89480, val_loss: 0.43292, val_accuracy: 0.89464\n"
     ]
    },
    {
     "name": "stderr",
     "output_type": "stream",
     "text": [
      "100%|████████████████████████████████████████████████████████████████████████████████████| 4/4 [00:00<00:00,  9.24it/s]\n"
     ]
    },
    {
     "name": "stdout",
     "output_type": "stream",
     "text": [
      "epoch 61, loss: 0.37127, acc: 0.89480, val_loss: 0.43323, val_accuracy: 0.89464\n"
     ]
    },
    {
     "name": "stderr",
     "output_type": "stream",
     "text": [
      "100%|████████████████████████████████████████████████████████████████████████████████████| 4/4 [00:00<00:00,  7.46it/s]\n"
     ]
    },
    {
     "name": "stdout",
     "output_type": "stream",
     "text": [
      "epoch 62, loss: 0.37027, acc: 0.89477, val_loss: 0.43407, val_accuracy: 0.89464\n"
     ]
    },
    {
     "name": "stderr",
     "output_type": "stream",
     "text": [
      "100%|████████████████████████████████████████████████████████████████████████████████████| 4/4 [00:00<00:00,  8.99it/s]\n"
     ]
    },
    {
     "name": "stdout",
     "output_type": "stream",
     "text": [
      "epoch 63, loss: 0.36951, acc: 0.89468, val_loss: 0.43484, val_accuracy: 0.89464\n"
     ]
    },
    {
     "name": "stderr",
     "output_type": "stream",
     "text": [
      "100%|████████████████████████████████████████████████████████████████████████████████████| 4/4 [00:00<00:00,  9.13it/s]\n"
     ]
    },
    {
     "name": "stdout",
     "output_type": "stream",
     "text": [
      "epoch 64, loss: 0.36880, acc: 0.89483, val_loss: 0.43610, val_accuracy: 0.89464\n"
     ]
    },
    {
     "name": "stderr",
     "output_type": "stream",
     "text": [
      "100%|████████████████████████████████████████████████████████████████████████████████████| 4/4 [00:00<00:00,  9.17it/s]\n"
     ]
    },
    {
     "name": "stdout",
     "output_type": "stream",
     "text": [
      "epoch 65, loss: 0.36776, acc: 0.89486, val_loss: 0.43708, val_accuracy: 0.89464\n"
     ]
    },
    {
     "name": "stderr",
     "output_type": "stream",
     "text": [
      "100%|████████████████████████████████████████████████████████████████████████████████████| 4/4 [00:00<00:00, 10.55it/s]\n"
     ]
    },
    {
     "name": "stdout",
     "output_type": "stream",
     "text": [
      "epoch 66, loss: 0.36691, acc: 0.89489, val_loss: 0.43749, val_accuracy: 0.89464\n"
     ]
    },
    {
     "name": "stderr",
     "output_type": "stream",
     "text": [
      "100%|████████████████████████████████████████████████████████████████████████████████████| 4/4 [00:00<00:00, 10.20it/s]\n"
     ]
    },
    {
     "name": "stdout",
     "output_type": "stream",
     "text": [
      "epoch 67, loss: 0.36566, acc: 0.89506, val_loss: 0.44057, val_accuracy: 0.89464\n"
     ]
    },
    {
     "name": "stderr",
     "output_type": "stream",
     "text": [
      "100%|████████████████████████████████████████████████████████████████████████████████████| 4/4 [00:00<00:00,  8.56it/s]\n"
     ]
    },
    {
     "name": "stdout",
     "output_type": "stream",
     "text": [
      "epoch 68, loss: 0.36470, acc: 0.89495, val_loss: 0.44108, val_accuracy: 0.89464\n"
     ]
    },
    {
     "name": "stderr",
     "output_type": "stream",
     "text": [
      "100%|████████████████████████████████████████████████████████████████████████████████████| 4/4 [00:00<00:00, 10.93it/s]\n"
     ]
    },
    {
     "name": "stdout",
     "output_type": "stream",
     "text": [
      "epoch 69, loss: 0.36406, acc: 0.89500, val_loss: 0.44349, val_accuracy: 0.89464\n"
     ]
    },
    {
     "name": "stderr",
     "output_type": "stream",
     "text": [
      "100%|████████████████████████████████████████████████████████████████████████████████████| 4/4 [00:00<00:00, 11.27it/s]\n"
     ]
    },
    {
     "name": "stdout",
     "output_type": "stream",
     "text": [
      "epoch 70, loss: 0.36285, acc: 0.89512, val_loss: 0.44176, val_accuracy: 0.89464\n"
     ]
    },
    {
     "name": "stderr",
     "output_type": "stream",
     "text": [
      "100%|████████████████████████████████████████████████████████████████████████████████████| 4/4 [00:00<00:00,  8.49it/s]\n"
     ]
    },
    {
     "name": "stdout",
     "output_type": "stream",
     "text": [
      "epoch 71, loss: 0.36201, acc: 0.89509, val_loss: 0.44266, val_accuracy: 0.89464\n"
     ]
    },
    {
     "name": "stderr",
     "output_type": "stream",
     "text": [
      "100%|████████████████████████████████████████████████████████████████████████████████████| 4/4 [00:00<00:00, 10.55it/s]\n"
     ]
    },
    {
     "name": "stdout",
     "output_type": "stream",
     "text": [
      "epoch 72, loss: 0.36132, acc: 0.89512, val_loss: 0.44753, val_accuracy: 0.89464\n"
     ]
    },
    {
     "name": "stderr",
     "output_type": "stream",
     "text": [
      "100%|████████████████████████████████████████████████████████████████████████████████████| 4/4 [00:00<00:00, 10.12it/s]\n"
     ]
    },
    {
     "name": "stdout",
     "output_type": "stream",
     "text": [
      "epoch 73, loss: 0.36034, acc: 0.89547, val_loss: 0.44359, val_accuracy: 0.89464\n"
     ]
    },
    {
     "name": "stderr",
     "output_type": "stream",
     "text": [
      "100%|████████████████████████████████████████████████████████████████████████████████████| 4/4 [00:00<00:00,  9.71it/s]\n"
     ]
    },
    {
     "name": "stdout",
     "output_type": "stream",
     "text": [
      "epoch 74, loss: 0.36020, acc: 0.89495, val_loss: 0.45006, val_accuracy: 0.89464\n"
     ]
    },
    {
     "name": "stderr",
     "output_type": "stream",
     "text": [
      "100%|████████████████████████████████████████████████████████████████████████████████████| 4/4 [00:00<00:00,  9.34it/s]\n"
     ]
    },
    {
     "name": "stdout",
     "output_type": "stream",
     "text": [
      "epoch 75, loss: 0.36040, acc: 0.89492, val_loss: 0.44705, val_accuracy: 0.89464\n"
     ]
    },
    {
     "name": "stderr",
     "output_type": "stream",
     "text": [
      "100%|████████████████████████████████████████████████████████████████████████████████████| 4/4 [00:00<00:00,  8.91it/s]\n"
     ]
    },
    {
     "name": "stdout",
     "output_type": "stream",
     "text": [
      "epoch 76, loss: 0.35879, acc: 0.89582, val_loss: 0.45294, val_accuracy: 0.89464\n"
     ]
    },
    {
     "name": "stderr",
     "output_type": "stream",
     "text": [
      "100%|████████████████████████████████████████████████████████████████████████████████████| 4/4 [00:00<00:00,  7.56it/s]\n"
     ]
    },
    {
     "name": "stdout",
     "output_type": "stream",
     "text": [
      "epoch 77, loss: 0.35816, acc: 0.89521, val_loss: 0.45345, val_accuracy: 0.89464\n"
     ]
    },
    {
     "name": "stderr",
     "output_type": "stream",
     "text": [
      "100%|████████████████████████████████████████████████████████████████████████████████████| 4/4 [00:00<00:00,  8.97it/s]\n"
     ]
    },
    {
     "name": "stdout",
     "output_type": "stream",
     "text": [
      "epoch 78, loss: 0.35729, acc: 0.89568, val_loss: 0.44294, val_accuracy: 0.89464\n"
     ]
    },
    {
     "name": "stderr",
     "output_type": "stream",
     "text": [
      "100%|████████████████████████████████████████████████████████████████████████████████████| 4/4 [00:00<00:00,  9.17it/s]\n"
     ]
    },
    {
     "name": "stdout",
     "output_type": "stream",
     "text": [
      "epoch 79, loss: 0.35478, acc: 0.89585, val_loss: 0.44877, val_accuracy: 0.89464\n"
     ]
    },
    {
     "name": "stderr",
     "output_type": "stream",
     "text": [
      "100%|████████████████████████████████████████████████████████████████████████████████████| 4/4 [00:00<00:00,  7.30it/s]\n"
     ]
    },
    {
     "name": "stdout",
     "output_type": "stream",
     "text": [
      "epoch 80, loss: 0.35446, acc: 0.89568, val_loss: 0.45877, val_accuracy: 0.89464\n"
     ]
    },
    {
     "name": "stderr",
     "output_type": "stream",
     "text": [
      "100%|████████████████████████████████████████████████████████████████████████████████████| 4/4 [00:00<00:00,  9.26it/s]\n"
     ]
    },
    {
     "name": "stdout",
     "output_type": "stream",
     "text": [
      "epoch 81, loss: 0.35401, acc: 0.90090, val_loss: 0.44646, val_accuracy: 0.89464\n"
     ]
    },
    {
     "name": "stderr",
     "output_type": "stream",
     "text": [
      "100%|████████████████████████████████████████████████████████████████████████████████████| 4/4 [00:00<00:00,  9.11it/s]\n"
     ]
    },
    {
     "name": "stdout",
     "output_type": "stream",
     "text": [
      "epoch 82, loss: 0.35313, acc: 0.90073, val_loss: 0.45755, val_accuracy: 0.89464\n"
     ]
    },
    {
     "name": "stderr",
     "output_type": "stream",
     "text": [
      "100%|████████████████████████████████████████████████████████████████████████████████████| 4/4 [00:00<00:00,  9.21it/s]\n"
     ]
    },
    {
     "name": "stdout",
     "output_type": "stream",
     "text": [
      "epoch 83, loss: 0.35247, acc: 0.90122, val_loss: 0.45016, val_accuracy: 0.89464\n"
     ]
    },
    {
     "name": "stderr",
     "output_type": "stream",
     "text": [
      "100%|████████████████████████████████████████████████████████████████████████████████████| 4/4 [00:00<00:00,  9.09it/s]\n"
     ]
    },
    {
     "name": "stdout",
     "output_type": "stream",
     "text": [
      "epoch 84, loss: 0.35095, acc: 0.90111, val_loss: 0.45515, val_accuracy: 0.89464\n"
     ]
    },
    {
     "name": "stderr",
     "output_type": "stream",
     "text": [
      "100%|████████████████████████████████████████████████████████████████████████████████████| 4/4 [00:00<00:00,  8.97it/s]\n"
     ]
    },
    {
     "name": "stdout",
     "output_type": "stream",
     "text": [
      "epoch 85, loss: 0.35030, acc: 0.90073, val_loss: 0.45944, val_accuracy: 0.89464\n"
     ]
    },
    {
     "name": "stderr",
     "output_type": "stream",
     "text": [
      "100%|████████████████████████████████████████████████████████████████████████████████████| 4/4 [00:00<00:00,  7.46it/s]\n"
     ]
    },
    {
     "name": "stdout",
     "output_type": "stream",
     "text": [
      "epoch 86, loss: 0.34987, acc: 0.90090, val_loss: 0.45363, val_accuracy: 0.89464\n"
     ]
    },
    {
     "name": "stderr",
     "output_type": "stream",
     "text": [
      "100%|████████████████████████████████████████████████████████████████████████████████████| 4/4 [00:00<00:00,  9.05it/s]\n"
     ]
    },
    {
     "name": "stdout",
     "output_type": "stream",
     "text": [
      "epoch 87, loss: 0.34838, acc: 0.90119, val_loss: 0.45811, val_accuracy: 0.89464\n"
     ]
    },
    {
     "name": "stderr",
     "output_type": "stream",
     "text": [
      "100%|████████████████████████████████████████████████████████████████████████████████████| 4/4 [00:00<00:00,  9.17it/s]\n"
     ]
    },
    {
     "name": "stdout",
     "output_type": "stream",
     "text": [
      "epoch 88, loss: 0.34857, acc: 0.90081, val_loss: 0.46554, val_accuracy: 0.89438\n"
     ]
    },
    {
     "name": "stderr",
     "output_type": "stream",
     "text": [
      "100%|████████████████████████████████████████████████████████████████████████████████████| 4/4 [00:00<00:00,  7.10it/s]\n"
     ]
    },
    {
     "name": "stdout",
     "output_type": "stream",
     "text": [
      "epoch 89, loss: 0.34813, acc: 0.90073, val_loss: 0.45510, val_accuracy: 0.89464\n"
     ]
    },
    {
     "name": "stderr",
     "output_type": "stream",
     "text": [
      "100%|████████████████████████████████████████████████████████████████████████████████████| 4/4 [00:00<00:00,  9.37it/s]\n"
     ]
    },
    {
     "name": "stdout",
     "output_type": "stream",
     "text": [
      "epoch 90, loss: 0.34690, acc: 0.90131, val_loss: 0.46596, val_accuracy: 0.89464\n"
     ]
    },
    {
     "name": "stderr",
     "output_type": "stream",
     "text": [
      "100%|████████████████████████████████████████████████████████████████████████████████████| 4/4 [00:00<00:00,  9.26it/s]\n"
     ]
    },
    {
     "name": "stdout",
     "output_type": "stream",
     "text": [
      "epoch 91, loss: 0.34709, acc: 0.90084, val_loss: 0.47009, val_accuracy: 0.89438\n"
     ]
    },
    {
     "name": "stderr",
     "output_type": "stream",
     "text": [
      "100%|████████████████████████████████████████████████████████████████████████████████████| 4/4 [00:00<00:00,  7.65it/s]\n"
     ]
    },
    {
     "name": "stdout",
     "output_type": "stream",
     "text": [
      "epoch 92, loss: 0.34610, acc: 0.90041, val_loss: 0.45898, val_accuracy: 0.89438\n"
     ]
    },
    {
     "name": "stderr",
     "output_type": "stream",
     "text": [
      "100%|████████████████████████████████████████████████████████████████████████████████████| 4/4 [00:00<00:00,  8.81it/s]\n"
     ]
    },
    {
     "name": "stdout",
     "output_type": "stream",
     "text": [
      "epoch 93, loss: 0.34431, acc: 0.90137, val_loss: 0.47162, val_accuracy: 0.89464\n"
     ]
    },
    {
     "name": "stderr",
     "output_type": "stream",
     "text": [
      "100%|████████████████████████████████████████████████████████████████████████████████████| 4/4 [00:00<00:00,  8.73it/s]\n"
     ]
    },
    {
     "name": "stdout",
     "output_type": "stream",
     "text": [
      "epoch 94, loss: 0.34560, acc: 0.90084, val_loss: 0.47799, val_accuracy: 0.89438\n"
     ]
    },
    {
     "name": "stderr",
     "output_type": "stream",
     "text": [
      "100%|████████████████████████████████████████████████████████████████████████████████████| 4/4 [00:00<00:00,  7.19it/s]\n"
     ]
    },
    {
     "name": "stdout",
     "output_type": "stream",
     "text": [
      "epoch 95, loss: 0.34461, acc: 0.90044, val_loss: 0.45779, val_accuracy: 0.89464\n"
     ]
    },
    {
     "name": "stderr",
     "output_type": "stream",
     "text": [
      "100%|████████████████████████████████████████████████████████████████████████████████████| 4/4 [00:00<00:00,  8.99it/s]\n"
     ]
    },
    {
     "name": "stdout",
     "output_type": "stream",
     "text": [
      "epoch 96, loss: 0.34365, acc: 0.90146, val_loss: 0.48738, val_accuracy: 0.89306\n"
     ]
    },
    {
     "name": "stderr",
     "output_type": "stream",
     "text": [
      "100%|████████████████████████████████████████████████████████████████████████████████████| 4/4 [00:00<00:00,  9.07it/s]\n"
     ]
    },
    {
     "name": "stdout",
     "output_type": "stream",
     "text": [
      "epoch 97, loss: 0.34338, acc: 0.90114, val_loss: 0.47363, val_accuracy: 0.89438\n"
     ]
    },
    {
     "name": "stderr",
     "output_type": "stream",
     "text": [
      "100%|████████████████████████████████████████████████████████████████████████████████████| 4/4 [00:00<00:00,  7.46it/s]\n"
     ]
    },
    {
     "name": "stdout",
     "output_type": "stream",
     "text": [
      "epoch 98, loss: 0.34170, acc: 0.90122, val_loss: 0.46376, val_accuracy: 0.89438\n"
     ]
    },
    {
     "name": "stderr",
     "output_type": "stream",
     "text": [
      "100%|████████████████████████████████████████████████████████████████████████████████████| 4/4 [00:00<00:00,  9.11it/s]\n"
     ]
    },
    {
     "name": "stdout",
     "output_type": "stream",
     "text": [
      "epoch 99, loss: 0.34032, acc: 0.90125, val_loss: 0.48367, val_accuracy: 0.89359\n"
     ]
    },
    {
     "name": "stderr",
     "output_type": "stream",
     "text": [
      "100%|████████████████████████████████████████████████████████████████████████████████████| 4/4 [00:00<00:00,  9.37it/s]\n"
     ]
    },
    {
     "name": "stdout",
     "output_type": "stream",
     "text": [
      "epoch 100, loss: 0.34151, acc: 0.90099, val_loss: 0.48963, val_accuracy: 0.89044\n"
     ]
    },
    {
     "name": "stderr",
     "output_type": "stream",
     "text": [
      "100%|████████████████████████████████████████████████████████████████████████████████████| 4/4 [00:00<00:00,  9.13it/s]\n"
     ]
    },
    {
     "name": "stdout",
     "output_type": "stream",
     "text": [
      "epoch 101, loss: 0.33982, acc: 0.90046, val_loss: 0.46582, val_accuracy: 0.89438\n"
     ]
    },
    {
     "name": "stderr",
     "output_type": "stream",
     "text": [
      "100%|████████████████████████████████████████████████████████████████████████████████████| 4/4 [00:00<00:00,  9.24it/s]\n"
     ]
    },
    {
     "name": "stdout",
     "output_type": "stream",
     "text": [
      "epoch 102, loss: 0.33967, acc: 0.90157, val_loss: 0.49410, val_accuracy: 0.87835\n"
     ]
    },
    {
     "name": "stderr",
     "output_type": "stream",
     "text": [
      "100%|████████████████████████████████████████████████████████████████████████████████████| 4/4 [00:00<00:00,  8.99it/s]\n"
     ]
    },
    {
     "name": "stdout",
     "output_type": "stream",
     "text": [
      "epoch 103, loss: 0.33859, acc: 0.90131, val_loss: 0.47936, val_accuracy: 0.89648\n"
     ]
    },
    {
     "name": "stderr",
     "output_type": "stream",
     "text": [
      "100%|████████████████████████████████████████████████████████████████████████████████████| 4/4 [00:00<00:00,  7.47it/s]\n"
     ]
    },
    {
     "name": "stdout",
     "output_type": "stream",
     "text": [
      "epoch 104, loss: 0.33728, acc: 0.90096, val_loss: 0.47840, val_accuracy: 0.89385\n"
     ]
    },
    {
     "name": "stderr",
     "output_type": "stream",
     "text": [
      "100%|████████████████████████████████████████████████████████████████████████████████████| 4/4 [00:00<00:00,  8.89it/s]\n"
     ]
    },
    {
     "name": "stdout",
     "output_type": "stream",
     "text": [
      "epoch 105, loss: 0.33656, acc: 0.90169, val_loss: 0.49019, val_accuracy: 0.87914\n"
     ]
    },
    {
     "name": "stderr",
     "output_type": "stream",
     "text": [
      "100%|████████████████████████████████████████████████████████████████████████████████████| 4/4 [00:00<00:00,  9.30it/s]\n"
     ]
    },
    {
     "name": "stdout",
     "output_type": "stream",
     "text": [
      "epoch 106, loss: 0.33674, acc: 0.90146, val_loss: 0.49440, val_accuracy: 0.87599\n"
     ]
    },
    {
     "name": "stderr",
     "output_type": "stream",
     "text": [
      "100%|████████████████████████████████████████████████████████████████████████████████████| 4/4 [00:00<00:00,  7.47it/s]\n"
     ]
    },
    {
     "name": "stdout",
     "output_type": "stream",
     "text": [
      "epoch 107, loss: 0.33540, acc: 0.90099, val_loss: 0.48743, val_accuracy: 0.87599\n"
     ]
    },
    {
     "name": "stderr",
     "output_type": "stream",
     "text": [
      "100%|████████████████████████████████████████████████████████████████████████████████████| 4/4 [00:00<00:00,  9.21it/s]\n"
     ]
    },
    {
     "name": "stdout",
     "output_type": "stream",
     "text": [
      "epoch 108, loss: 0.33525, acc: 0.90081, val_loss: 0.49264, val_accuracy: 0.87599\n"
     ]
    },
    {
     "name": "stderr",
     "output_type": "stream",
     "text": [
      "100%|████████████████████████████████████████████████████████████████████████████████████| 4/4 [00:00<00:00,  9.00it/s]\n"
     ]
    },
    {
     "name": "stdout",
     "output_type": "stream",
     "text": [
      "epoch 109, loss: 0.33519, acc: 0.90160, val_loss: 0.49694, val_accuracy: 0.86942\n"
     ]
    },
    {
     "name": "stderr",
     "output_type": "stream",
     "text": [
      "100%|████████████████████████████████████████████████████████████████████████████████████| 4/4 [00:00<00:00,  8.95it/s]\n"
     ]
    },
    {
     "name": "stdout",
     "output_type": "stream",
     "text": [
      "epoch 110, loss: 0.33468, acc: 0.90099, val_loss: 0.51125, val_accuracy: 0.86837\n"
     ]
    },
    {
     "name": "stderr",
     "output_type": "stream",
     "text": [
      "100%|████████████████████████████████████████████████████████████████████████████████████| 4/4 [00:00<00:00,  9.21it/s]\n"
     ]
    },
    {
     "name": "stdout",
     "output_type": "stream",
     "text": [
      "epoch 111, loss: 0.33369, acc: 0.90143, val_loss: 0.48663, val_accuracy: 0.87809\n"
     ]
    },
    {
     "name": "stderr",
     "output_type": "stream",
     "text": [
      "100%|████████████████████████████████████████████████████████████████████████████████████| 4/4 [00:00<00:00,  9.13it/s]\n"
     ]
    },
    {
     "name": "stdout",
     "output_type": "stream",
     "text": [
      "epoch 112, loss: 0.33590, acc: 0.90032, val_loss: 0.51231, val_accuracy: 0.84419\n"
     ]
    },
    {
     "name": "stderr",
     "output_type": "stream",
     "text": [
      "100%|████████████████████████████████████████████████████████████████████████████████████| 4/4 [00:00<00:00,  7.23it/s]\n"
     ]
    },
    {
     "name": "stdout",
     "output_type": "stream",
     "text": [
      "epoch 113, loss: 0.33486, acc: 0.90108, val_loss: 0.51251, val_accuracy: 0.86784\n"
     ]
    },
    {
     "name": "stderr",
     "output_type": "stream",
     "text": [
      "100%|████████████████████████████████████████████████████████████████████████████████████| 4/4 [00:00<00:00,  9.05it/s]\n"
     ]
    },
    {
     "name": "stdout",
     "output_type": "stream",
     "text": [
      "epoch 114, loss: 0.33310, acc: 0.90166, val_loss: 0.49705, val_accuracy: 0.87599\n"
     ]
    },
    {
     "name": "stderr",
     "output_type": "stream",
     "text": [
      "100%|████████████████████████████████████████████████████████████████████████████████████| 4/4 [00:00<00:00,  8.58it/s]\n"
     ]
    },
    {
     "name": "stdout",
     "output_type": "stream",
     "text": [
      "epoch 115, loss: 0.33514, acc: 0.90052, val_loss: 0.51452, val_accuracy: 0.83946\n"
     ]
    },
    {
     "name": "stderr",
     "output_type": "stream",
     "text": [
      "100%|████████████████████████████████████████████████████████████████████████████████████| 4/4 [00:00<00:00,  7.47it/s]\n"
     ]
    },
    {
     "name": "stdout",
     "output_type": "stream",
     "text": [
      "epoch 116, loss: 0.33514, acc: 0.90131, val_loss: 0.54314, val_accuracy: 0.83552\n"
     ]
    },
    {
     "name": "stderr",
     "output_type": "stream",
     "text": [
      "100%|████████████████████████████████████████████████████████████████████████████████████| 4/4 [00:00<00:00,  9.13it/s]\n"
     ]
    },
    {
     "name": "stdout",
     "output_type": "stream",
     "text": [
      "epoch 117, loss: 0.33368, acc: 0.90090, val_loss: 0.49727, val_accuracy: 0.87546\n"
     ]
    },
    {
     "name": "stderr",
     "output_type": "stream",
     "text": [
      "100%|████████████████████████████████████████████████████████████████████████████████████| 4/4 [00:00<00:00,  8.97it/s]\n"
     ]
    },
    {
     "name": "stdout",
     "output_type": "stream",
     "text": [
      "epoch 118, loss: 0.33648, acc: 0.90046, val_loss: 0.52699, val_accuracy: 0.83605\n"
     ]
    },
    {
     "name": "stderr",
     "output_type": "stream",
     "text": [
      "100%|████████████████████████████████████████████████████████████████████████████████████| 4/4 [00:00<00:00,  8.97it/s]\n"
     ]
    },
    {
     "name": "stdout",
     "output_type": "stream",
     "text": [
      "epoch 119, loss: 0.33357, acc: 0.90128, val_loss: 0.51662, val_accuracy: 0.84735\n"
     ]
    },
    {
     "name": "stderr",
     "output_type": "stream",
     "text": [
      "100%|████████████████████████████████████████████████████████████████████████████████████| 4/4 [00:00<00:00,  7.63it/s]\n"
     ]
    },
    {
     "name": "stdout",
     "output_type": "stream",
     "text": [
      "epoch 120, loss: 0.33079, acc: 0.90079, val_loss: 0.50168, val_accuracy: 0.87756\n"
     ]
    },
    {
     "name": "stderr",
     "output_type": "stream",
     "text": [
      "100%|████████████████████████████████████████████████████████████████████████████████████| 4/4 [00:00<00:00,  7.90it/s]\n"
     ]
    },
    {
     "name": "stdout",
     "output_type": "stream",
     "text": [
      "epoch 121, loss: 0.33332, acc: 0.90108, val_loss: 0.57764, val_accuracy: 0.82738\n"
     ]
    },
    {
     "name": "stderr",
     "output_type": "stream",
     "text": [
      "100%|████████████████████████████████████████████████████████████████████████████████████| 4/4 [00:00<00:00,  6.94it/s]\n"
     ]
    },
    {
     "name": "stdout",
     "output_type": "stream",
     "text": [
      "epoch 122, loss: 0.33396, acc: 0.90079, val_loss: 0.50719, val_accuracy: 0.85208\n"
     ]
    },
    {
     "name": "stderr",
     "output_type": "stream",
     "text": [
      "100%|████████████████████████████████████████████████████████████████████████████████████| 4/4 [00:00<00:00,  8.19it/s]\n"
     ]
    },
    {
     "name": "stdout",
     "output_type": "stream",
     "text": [
      "epoch 123, loss: 0.33137, acc: 0.90125, val_loss: 0.49902, val_accuracy: 0.87599\n"
     ]
    },
    {
     "name": "stderr",
     "output_type": "stream",
     "text": [
      "100%|████████████████████████████████████████████████████████████████████████████████████| 4/4 [00:00<00:00,  6.17it/s]\n"
     ]
    },
    {
     "name": "stdout",
     "output_type": "stream",
     "text": [
      "epoch 124, loss: 0.33654, acc: 0.90184, val_loss: 0.59573, val_accuracy: 0.82712\n"
     ]
    },
    {
     "name": "stderr",
     "output_type": "stream",
     "text": [
      "100%|████████████████████████████████████████████████████████████████████████████████████| 4/4 [00:00<00:00,  8.49it/s]\n"
     ]
    },
    {
     "name": "stdout",
     "output_type": "stream",
     "text": [
      "epoch 125, loss: 0.33258, acc: 0.90251, val_loss: 0.49027, val_accuracy: 0.88991\n"
     ]
    },
    {
     "name": "stderr",
     "output_type": "stream",
     "text": [
      "100%|████████████████████████████████████████████████████████████████████████████████████| 4/4 [00:00<00:00,  9.00it/s]\n"
     ]
    },
    {
     "name": "stdout",
     "output_type": "stream",
     "text": [
      "epoch 126, loss: 0.33042, acc: 0.90093, val_loss: 0.53938, val_accuracy: 0.83473\n"
     ]
    },
    {
     "name": "stderr",
     "output_type": "stream",
     "text": [
      "100%|████████████████████████████████████████████████████████████████████████████████████| 4/4 [00:00<00:00,  9.64it/s]\n"
     ]
    },
    {
     "name": "stdout",
     "output_type": "stream",
     "text": [
      "epoch 127, loss: 0.33222, acc: 0.90149, val_loss: 0.58215, val_accuracy: 0.82475\n"
     ]
    },
    {
     "name": "stderr",
     "output_type": "stream",
     "text": [
      "100%|████████████████████████████████████████████████████████████████████████████████████| 4/4 [00:00<00:00,  8.33it/s]\n"
     ]
    },
    {
     "name": "stdout",
     "output_type": "stream",
     "text": [
      "epoch 128, loss: 0.33034, acc: 0.90137, val_loss: 0.49296, val_accuracy: 0.88991\n"
     ]
    },
    {
     "name": "stderr",
     "output_type": "stream",
     "text": [
      "100%|████████████████████████████████████████████████████████████████████████████████████| 4/4 [00:00<00:00,  8.21it/s]\n"
     ]
    },
    {
     "name": "stdout",
     "output_type": "stream",
     "text": [
      "epoch 129, loss: 0.33112, acc: 0.90093, val_loss: 0.57173, val_accuracy: 0.83106\n"
     ]
    },
    {
     "name": "stderr",
     "output_type": "stream",
     "text": [
      "100%|████████████████████████████████████████████████████████████████████████████████████| 4/4 [00:00<00:00,  8.51it/s]\n"
     ]
    },
    {
     "name": "stdout",
     "output_type": "stream",
     "text": [
      "epoch 130, loss: 0.32906, acc: 0.90114, val_loss: 0.52853, val_accuracy: 0.83710\n"
     ]
    },
    {
     "name": "stderr",
     "output_type": "stream",
     "text": [
      "100%|████████████████████████████████████████████████████████████████████████████████████| 4/4 [00:00<00:00,  7.32it/s]\n"
     ]
    },
    {
     "name": "stdout",
     "output_type": "stream",
     "text": [
      "epoch 131, loss: 0.32695, acc: 0.90201, val_loss: 0.50711, val_accuracy: 0.85286\n"
     ]
    },
    {
     "name": "stderr",
     "output_type": "stream",
     "text": [
      "100%|████████████████████████████████████████████████████████████████████████████████████| 4/4 [00:00<00:00,  8.58it/s]\n"
     ]
    },
    {
     "name": "stdout",
     "output_type": "stream",
     "text": [
      "epoch 132, loss: 0.32702, acc: 0.90230, val_loss: 0.59641, val_accuracy: 0.82370\n"
     ]
    },
    {
     "name": "stderr",
     "output_type": "stream",
     "text": [
      "100%|████████████████████████████████████████████████████████████████████████████████████| 4/4 [00:00<00:00,  8.19it/s]\n"
     ]
    },
    {
     "name": "stdout",
     "output_type": "stream",
     "text": [
      "epoch 133, loss: 0.32657, acc: 0.90207, val_loss: 0.53055, val_accuracy: 0.83657\n"
     ]
    },
    {
     "name": "stderr",
     "output_type": "stream",
     "text": [
      "100%|████████████████████████████████████████████████████████████████████████████████████| 4/4 [00:00<00:00,  6.77it/s]\n"
     ]
    },
    {
     "name": "stdout",
     "output_type": "stream",
     "text": [
      "epoch 134, loss: 0.32591, acc: 0.90140, val_loss: 0.52504, val_accuracy: 0.83605\n"
     ]
    },
    {
     "name": "stderr",
     "output_type": "stream",
     "text": [
      "100%|████████████████████████████████████████████████████████████████████████████████████| 4/4 [00:00<00:00,  8.51it/s]\n"
     ]
    },
    {
     "name": "stdout",
     "output_type": "stream",
     "text": [
      "epoch 135, loss: 0.32614, acc: 0.90213, val_loss: 0.58614, val_accuracy: 0.82449\n"
     ]
    },
    {
     "name": "stderr",
     "output_type": "stream",
     "text": [
      "100%|████████████████████████████████████████████████████████████████████████████████████| 4/4 [00:00<00:00,  6.51it/s]\n"
     ]
    },
    {
     "name": "stdout",
     "output_type": "stream",
     "text": [
      "epoch 136, loss: 0.32443, acc: 0.90251, val_loss: 0.52378, val_accuracy: 0.83868\n"
     ]
    },
    {
     "name": "stderr",
     "output_type": "stream",
     "text": [
      "100%|████████████████████████████████████████████████████████████████████████████████████| 4/4 [00:00<00:00,  9.54it/s]\n"
     ]
    },
    {
     "name": "stdout",
     "output_type": "stream",
     "text": [
      "epoch 137, loss: 0.32527, acc: 0.90111, val_loss: 0.56432, val_accuracy: 0.82659\n"
     ]
    },
    {
     "name": "stderr",
     "output_type": "stream",
     "text": [
      "100%|████████████████████████████████████████████████████████████████████████████████████| 4/4 [00:00<00:00, 10.36it/s]\n"
     ]
    },
    {
     "name": "stdout",
     "output_type": "stream",
     "text": [
      "epoch 138, loss: 0.32404, acc: 0.90239, val_loss: 0.56728, val_accuracy: 0.82633\n"
     ]
    },
    {
     "name": "stderr",
     "output_type": "stream",
     "text": [
      "100%|████████████████████████████████████████████████████████████████████████████████████| 4/4 [00:00<00:00, 10.44it/s]\n"
     ]
    },
    {
     "name": "stdout",
     "output_type": "stream",
     "text": [
      "epoch 139, loss: 0.32270, acc: 0.90262, val_loss: 0.52993, val_accuracy: 0.83710\n"
     ]
    },
    {
     "name": "stderr",
     "output_type": "stream",
     "text": [
      "100%|████████████████████████████████████████████████████████████████████████████████████| 4/4 [00:00<00:00,  8.18it/s]\n"
     ]
    },
    {
     "name": "stdout",
     "output_type": "stream",
     "text": [
      "epoch 140, loss: 0.32485, acc: 0.90192, val_loss: 0.60040, val_accuracy: 0.82265\n"
     ]
    },
    {
     "name": "stderr",
     "output_type": "stream",
     "text": [
      "100%|████████████████████████████████████████████████████████████████████████████████████| 4/4 [00:00<00:00, 10.04it/s]\n"
     ]
    },
    {
     "name": "stdout",
     "output_type": "stream",
     "text": [
      "epoch 141, loss: 0.32262, acc: 0.90262, val_loss: 0.54281, val_accuracy: 0.83158\n"
     ]
    },
    {
     "name": "stderr",
     "output_type": "stream",
     "text": [
      "100%|████████████████████████████████████████████████████████████████████████████████████| 4/4 [00:00<00:00, 10.61it/s]\n"
     ]
    },
    {
     "name": "stdout",
     "output_type": "stream",
     "text": [
      "epoch 142, loss: 0.32168, acc: 0.90187, val_loss: 0.53755, val_accuracy: 0.83579\n"
     ]
    },
    {
     "name": "stderr",
     "output_type": "stream",
     "text": [
      "100%|████████████████████████████████████████████████████████████████████████████████████| 4/4 [00:00<00:00,  8.26it/s]\n"
     ]
    },
    {
     "name": "stdout",
     "output_type": "stream",
     "text": [
      "epoch 143, loss: 0.32344, acc: 0.90163, val_loss: 0.62968, val_accuracy: 0.82291\n"
     ]
    },
    {
     "name": "stderr",
     "output_type": "stream",
     "text": [
      "100%|████████████████████████████████████████████████████████████████████████████████████| 4/4 [00:00<00:00,  9.05it/s]\n"
     ]
    },
    {
     "name": "stdout",
     "output_type": "stream",
     "text": [
      "epoch 144, loss: 0.32240, acc: 0.90335, val_loss: 0.53738, val_accuracy: 0.83473\n"
     ]
    },
    {
     "name": "stderr",
     "output_type": "stream",
     "text": [
      "100%|████████████████████████████████████████████████████████████████████████████████████| 4/4 [00:00<00:00,  9.05it/s]\n"
     ]
    },
    {
     "name": "stdout",
     "output_type": "stream",
     "text": [
      "epoch 145, loss: 0.32197, acc: 0.90192, val_loss: 0.54860, val_accuracy: 0.83132\n"
     ]
    },
    {
     "name": "stderr",
     "output_type": "stream",
     "text": [
      "100%|████████████████████████████████████████████████████████████████████████████████████| 4/4 [00:00<00:00,  9.61it/s]\n"
     ]
    },
    {
     "name": "stdout",
     "output_type": "stream",
     "text": [
      "epoch 146, loss: 0.32261, acc: 0.90166, val_loss: 0.62246, val_accuracy: 0.82317\n"
     ]
    },
    {
     "name": "stderr",
     "output_type": "stream",
     "text": [
      "100%|████████████████████████████████████████████████████████████████████████████████████| 4/4 [00:00<00:00,  9.57it/s]\n"
     ]
    },
    {
     "name": "stdout",
     "output_type": "stream",
     "text": [
      "epoch 147, loss: 0.32129, acc: 0.90298, val_loss: 0.53547, val_accuracy: 0.83605\n"
     ]
    },
    {
     "name": "stderr",
     "output_type": "stream",
     "text": [
      "100%|████████████████████████████████████████████████████████████████████████████████████| 4/4 [00:00<00:00,  9.54it/s]\n"
     ]
    },
    {
     "name": "stdout",
     "output_type": "stream",
     "text": [
      "epoch 148, loss: 0.32175, acc: 0.90189, val_loss: 0.57454, val_accuracy: 0.82790\n"
     ]
    },
    {
     "name": "stderr",
     "output_type": "stream",
     "text": [
      "100%|████████████████████████████████████████████████████████████████████████████████████| 4/4 [00:00<00:00,  7.34it/s]\n"
     ]
    },
    {
     "name": "stdout",
     "output_type": "stream",
     "text": [
      "epoch 149, loss: 0.32073, acc: 0.90265, val_loss: 0.59994, val_accuracy: 0.82422\n"
     ]
    },
    {
     "name": "stderr",
     "output_type": "stream",
     "text": [
      "100%|████████████████████████████████████████████████████████████████████████████████████| 4/4 [00:00<00:00,  8.28it/s]\n"
     ]
    },
    {
     "name": "stdout",
     "output_type": "stream",
     "text": [
      "epoch 150, loss: 0.31876, acc: 0.90292, val_loss: 0.54673, val_accuracy: 0.83368\n"
     ]
    },
    {
     "name": "stderr",
     "output_type": "stream",
     "text": [
      "100%|████████████████████████████████████████████████████████████████████████████████████| 4/4 [00:00<00:00,  8.62it/s]\n"
     ]
    },
    {
     "name": "stdout",
     "output_type": "stream",
     "text": [
      "epoch 151, loss: 0.32112, acc: 0.90230, val_loss: 0.61673, val_accuracy: 0.82422\n"
     ]
    },
    {
     "name": "stderr",
     "output_type": "stream",
     "text": [
      "100%|████████████████████████████████████████████████████████████████████████████████████| 4/4 [00:00<00:00,  6.47it/s]\n"
     ]
    },
    {
     "name": "stdout",
     "output_type": "stream",
     "text": [
      "epoch 152, loss: 0.31911, acc: 0.90295, val_loss: 0.57383, val_accuracy: 0.82685\n"
     ]
    },
    {
     "name": "stderr",
     "output_type": "stream",
     "text": [
      "100%|████████████████████████████████████████████████████████████████████████████████████| 4/4 [00:00<00:00,  8.79it/s]\n"
     ]
    },
    {
     "name": "stdout",
     "output_type": "stream",
     "text": [
      "epoch 153, loss: 0.31755, acc: 0.90298, val_loss: 0.55382, val_accuracy: 0.83237\n"
     ]
    },
    {
     "name": "stderr",
     "output_type": "stream",
     "text": [
      "100%|████████████████████████████████████████████████████████████████████████████████████| 4/4 [00:00<00:00,  8.89it/s]\n"
     ]
    },
    {
     "name": "stdout",
     "output_type": "stream",
     "text": [
      "epoch 154, loss: 0.32079, acc: 0.90219, val_loss: 0.63939, val_accuracy: 0.82317\n"
     ]
    },
    {
     "name": "stderr",
     "output_type": "stream",
     "text": [
      "100%|████████████████████████████████████████████████████████████████████████████████████| 4/4 [00:00<00:00,  8.19it/s]\n"
     ]
    },
    {
     "name": "stdout",
     "output_type": "stream",
     "text": [
      "epoch 155, loss: 0.31832, acc: 0.90362, val_loss: 0.55542, val_accuracy: 0.82738\n"
     ]
    },
    {
     "name": "stderr",
     "output_type": "stream",
     "text": [
      "100%|████████████████████████████████████████████████████████████████████████████████████| 4/4 [00:00<00:00,  8.58it/s]\n"
     ]
    },
    {
     "name": "stdout",
     "output_type": "stream",
     "text": [
      "epoch 156, loss: 0.31742, acc: 0.90262, val_loss: 0.56469, val_accuracy: 0.82790\n"
     ]
    },
    {
     "name": "stderr",
     "output_type": "stream",
     "text": [
      "100%|████████████████████████████████████████████████████████████████████████████████████| 4/4 [00:00<00:00,  8.87it/s]\n"
     ]
    },
    {
     "name": "stdout",
     "output_type": "stream",
     "text": [
      "epoch 157, loss: 0.31915, acc: 0.90219, val_loss: 0.64741, val_accuracy: 0.82344\n"
     ]
    },
    {
     "name": "stderr",
     "output_type": "stream",
     "text": [
      "100%|████████████████████████████████████████████████████████████████████████████████████| 4/4 [00:00<00:00,  6.32it/s]\n"
     ]
    },
    {
     "name": "stdout",
     "output_type": "stream",
     "text": [
      "epoch 158, loss: 0.31672, acc: 0.90368, val_loss: 0.56660, val_accuracy: 0.82633\n"
     ]
    },
    {
     "name": "stderr",
     "output_type": "stream",
     "text": [
      "100%|████████████████████████████████████████████████████████████████████████████████████| 4/4 [00:00<00:00,  8.79it/s]\n"
     ]
    },
    {
     "name": "stdout",
     "output_type": "stream",
     "text": [
      "epoch 159, loss: 0.31635, acc: 0.90286, val_loss: 0.58177, val_accuracy: 0.82712\n"
     ]
    },
    {
     "name": "stderr",
     "output_type": "stream",
     "text": [
      "100%|████████████████████████████████████████████████████████████████████████████████████| 4/4 [00:00<00:00,  9.07it/s]\n"
     ]
    },
    {
     "name": "stdout",
     "output_type": "stream",
     "text": [
      "epoch 160, loss: 0.31668, acc: 0.90242, val_loss: 0.63570, val_accuracy: 0.82344\n"
     ]
    },
    {
     "name": "stderr",
     "output_type": "stream",
     "text": [
      "100%|████████████████████████████████████████████████████████████████████████████████████| 4/4 [00:00<00:00,  7.14it/s]\n"
     ]
    },
    {
     "name": "stdout",
     "output_type": "stream",
     "text": [
      "epoch 161, loss: 0.31466, acc: 0.90347, val_loss: 0.57859, val_accuracy: 0.82554\n"
     ]
    },
    {
     "name": "stderr",
     "output_type": "stream",
     "text": [
      "100%|████████████████████████████████████████████████████████████████████████████████████| 4/4 [00:00<00:00,  8.83it/s]\n"
     ]
    },
    {
     "name": "stdout",
     "output_type": "stream",
     "text": [
      "epoch 162, loss: 0.31531, acc: 0.90306, val_loss: 0.59337, val_accuracy: 0.82712\n"
     ]
    },
    {
     "name": "stderr",
     "output_type": "stream",
     "text": [
      "100%|████████████████████████████████████████████████████████████████████████████████████| 4/4 [00:00<00:00,  8.97it/s]\n"
     ]
    },
    {
     "name": "stdout",
     "output_type": "stream",
     "text": [
      "epoch 163, loss: 0.31465, acc: 0.90347, val_loss: 0.62666, val_accuracy: 0.82344\n"
     ]
    },
    {
     "name": "stderr",
     "output_type": "stream",
     "text": [
      "100%|████████████████████████████████████████████████████████████████████████████████████| 4/4 [00:00<00:00,  8.77it/s]\n"
     ]
    },
    {
     "name": "stdout",
     "output_type": "stream",
     "text": [
      "epoch 164, loss: 0.31265, acc: 0.90321, val_loss: 0.60181, val_accuracy: 0.82554\n"
     ]
    },
    {
     "name": "stderr",
     "output_type": "stream",
     "text": [
      "100%|████████████████████████████████████████████████████████████████████████████████████| 4/4 [00:00<00:00,  8.95it/s]\n"
     ]
    },
    {
     "name": "stdout",
     "output_type": "stream",
     "text": [
      "epoch 165, loss: 0.31329, acc: 0.90321, val_loss: 0.59639, val_accuracy: 0.82685\n"
     ]
    },
    {
     "name": "stderr",
     "output_type": "stream",
     "text": [
      "100%|████████████████████████████████████████████████████████████████████████████████████| 4/4 [00:00<00:00,  8.95it/s]\n"
     ]
    },
    {
     "name": "stdout",
     "output_type": "stream",
     "text": [
      "epoch 166, loss: 0.31282, acc: 0.90379, val_loss: 0.61708, val_accuracy: 0.82291\n"
     ]
    },
    {
     "name": "stderr",
     "output_type": "stream",
     "text": [
      "100%|████████████████████████████████████████████████████████████████████████████████████| 4/4 [00:00<00:00,  6.98it/s]\n"
     ]
    },
    {
     "name": "stdout",
     "output_type": "stream",
     "text": [
      "epoch 167, loss: 0.31140, acc: 0.90338, val_loss: 0.62817, val_accuracy: 0.82265\n"
     ]
    },
    {
     "name": "stderr",
     "output_type": "stream",
     "text": [
      "100%|████████████████████████████████████████████████████████████████████████████████████| 4/4 [00:00<00:00,  8.33it/s]\n"
     ]
    },
    {
     "name": "stdout",
     "output_type": "stream",
     "text": [
      "epoch 168, loss: 0.31123, acc: 0.90365, val_loss: 0.59584, val_accuracy: 0.82606\n"
     ]
    },
    {
     "name": "stderr",
     "output_type": "stream",
     "text": [
      "100%|████████████████████████████████████████████████████████████████████████████████████| 4/4 [00:00<00:00,  8.83it/s]\n"
     ]
    },
    {
     "name": "stdout",
     "output_type": "stream",
     "text": [
      "epoch 169, loss: 0.31204, acc: 0.90432, val_loss: 0.61336, val_accuracy: 0.82528\n"
     ]
    },
    {
     "name": "stderr",
     "output_type": "stream",
     "text": [
      "100%|████████████████████████████████████████████████████████████████████████████████████| 4/4 [00:00<00:00,  7.27it/s]\n"
     ]
    },
    {
     "name": "stdout",
     "output_type": "stream",
     "text": [
      "epoch 170, loss: 0.31106, acc: 0.90391, val_loss: 0.63657, val_accuracy: 0.82239\n"
     ]
    },
    {
     "name": "stderr",
     "output_type": "stream",
     "text": [
      "100%|████████████████████████████████████████████████████████████████████████████████████| 4/4 [00:00<00:00,  9.15it/s]\n"
     ]
    },
    {
     "name": "stdout",
     "output_type": "stream",
     "text": [
      "epoch 171, loss: 0.31006, acc: 0.90446, val_loss: 0.61107, val_accuracy: 0.82501\n"
     ]
    },
    {
     "name": "stderr",
     "output_type": "stream",
     "text": [
      "100%|████████████████████████████████████████████████████████████████████████████████████| 4/4 [00:00<00:00,  8.93it/s]\n"
     ]
    },
    {
     "name": "stdout",
     "output_type": "stream",
     "text": [
      "epoch 172, loss: 0.31065, acc: 0.90376, val_loss: 0.59901, val_accuracy: 0.82606\n"
     ]
    },
    {
     "name": "stderr",
     "output_type": "stream",
     "text": [
      "100%|████████████████████████████████████████████████████████████████████████████████████| 4/4 [00:00<00:00,  8.77it/s]\n"
     ]
    },
    {
     "name": "stdout",
     "output_type": "stream",
     "text": [
      "epoch 173, loss: 0.31202, acc: 0.90298, val_loss: 0.65913, val_accuracy: 0.81844\n"
     ]
    },
    {
     "name": "stderr",
     "output_type": "stream",
     "text": [
      "100%|████████████████████████████████████████████████████████████████████████████████████| 4/4 [00:00<00:00,  8.47it/s]\n"
     ]
    },
    {
     "name": "stdout",
     "output_type": "stream",
     "text": [
      "epoch 174, loss: 0.31115, acc: 0.90397, val_loss: 0.63966, val_accuracy: 0.82081\n"
     ]
    },
    {
     "name": "stderr",
     "output_type": "stream",
     "text": [
      "100%|████████████████████████████████████████████████████████████████████████████████████| 4/4 [00:00<00:00,  8.93it/s]\n"
     ]
    },
    {
     "name": "stdout",
     "output_type": "stream",
     "text": [
      "epoch 175, loss: 0.31042, acc: 0.90572, val_loss: 0.60270, val_accuracy: 0.82580\n"
     ]
    },
    {
     "name": "stderr",
     "output_type": "stream",
     "text": [
      "100%|████████████████████████████████████████████████████████████████████████████████████| 4/4 [00:00<00:00,  7.87it/s]\n"
     ]
    },
    {
     "name": "stdout",
     "output_type": "stream",
     "text": [
      "epoch 176, loss: 0.31275, acc: 0.90376, val_loss: 0.60583, val_accuracy: 0.82580\n"
     ]
    },
    {
     "name": "stderr",
     "output_type": "stream",
     "text": [
      "100%|████████████████████████████████████████████████████████████████████████████████████| 4/4 [00:00<00:00, 11.05it/s]\n"
     ]
    },
    {
     "name": "stdout",
     "output_type": "stream",
     "text": [
      "epoch 177, loss: 0.31273, acc: 0.90333, val_loss: 0.69540, val_accuracy: 0.81555\n"
     ]
    },
    {
     "name": "stderr",
     "output_type": "stream",
     "text": [
      "100%|████████████████████████████████████████████████████████████████████████████████████| 4/4 [00:00<00:00, 11.30it/s]\n"
     ]
    },
    {
     "name": "stdout",
     "output_type": "stream",
     "text": [
      "epoch 178, loss: 0.31347, acc: 0.90365, val_loss: 0.63139, val_accuracy: 0.82186\n"
     ]
    },
    {
     "name": "stderr",
     "output_type": "stream",
     "text": [
      "100%|████████████████████████████████████████████████████████████████████████████████████| 4/4 [00:00<00:00,  8.73it/s]\n"
     ]
    },
    {
     "name": "stdout",
     "output_type": "stream",
     "text": [
      "epoch 179, loss: 0.31390, acc: 0.90321, val_loss: 0.59540, val_accuracy: 0.82580\n"
     ]
    },
    {
     "name": "stderr",
     "output_type": "stream",
     "text": [
      "100%|████████████████████████████████████████████████████████████████████████████████████| 4/4 [00:00<00:00, 11.11it/s]\n"
     ]
    },
    {
     "name": "stdout",
     "output_type": "stream",
     "text": [
      "epoch 180, loss: 0.31699, acc: 0.90298, val_loss: 0.64754, val_accuracy: 0.82002\n"
     ]
    },
    {
     "name": "stderr",
     "output_type": "stream",
     "text": [
      "100%|████████████████████████████████████████████████████████████████████████████████████| 4/4 [00:00<00:00, 11.14it/s]\n"
     ]
    },
    {
     "name": "stdout",
     "output_type": "stream",
     "text": [
      "epoch 181, loss: 0.31189, acc: 0.90400, val_loss: 0.66827, val_accuracy: 0.81976\n"
     ]
    },
    {
     "name": "stderr",
     "output_type": "stream",
     "text": [
      "100%|████████████████████████████████████████████████████████████████████████████████████| 4/4 [00:00<00:00, 11.02it/s]\n"
     ]
    },
    {
     "name": "stdout",
     "output_type": "stream",
     "text": [
      "epoch 182, loss: 0.31063, acc: 0.90648, val_loss: 0.61220, val_accuracy: 0.82528\n"
     ]
    },
    {
     "name": "stderr",
     "output_type": "stream",
     "text": [
      "100%|████████████████████████████████████████████████████████████████████████████████████| 4/4 [00:00<00:00, 10.75it/s]\n"
     ]
    },
    {
     "name": "stdout",
     "output_type": "stream",
     "text": [
      "epoch 183, loss: 0.31386, acc: 0.90265, val_loss: 0.64232, val_accuracy: 0.81897\n"
     ]
    },
    {
     "name": "stderr",
     "output_type": "stream",
     "text": [
      "100%|████████████████████████████████████████████████████████████████████████████████████| 4/4 [00:00<00:00, 10.81it/s]\n"
     ]
    },
    {
     "name": "stdout",
     "output_type": "stream",
     "text": [
      "epoch 184, loss: 0.31083, acc: 0.90344, val_loss: 0.66501, val_accuracy: 0.81792\n"
     ]
    },
    {
     "name": "stderr",
     "output_type": "stream",
     "text": [
      "100%|████████████████████████████████████████████████████████████████████████████████████| 4/4 [00:00<00:00,  8.14it/s]\n"
     ]
    },
    {
     "name": "stdout",
     "output_type": "stream",
     "text": [
      "epoch 185, loss: 0.30913, acc: 0.90540, val_loss: 0.61865, val_accuracy: 0.82396\n"
     ]
    },
    {
     "name": "stderr",
     "output_type": "stream",
     "text": [
      "100%|████████████████████████████████████████████████████████████████████████████████████| 4/4 [00:00<00:00, 11.17it/s]\n"
     ]
    },
    {
     "name": "stdout",
     "output_type": "stream",
     "text": [
      "epoch 186, loss: 0.31036, acc: 0.90344, val_loss: 0.63446, val_accuracy: 0.82501\n"
     ]
    },
    {
     "name": "stderr",
     "output_type": "stream",
     "text": [
      "100%|████████████████████████████████████████████████████████████████████████████████████| 4/4 [00:00<00:00, 10.25it/s]\n"
     ]
    },
    {
     "name": "stdout",
     "output_type": "stream",
     "text": [
      "epoch 187, loss: 0.31213, acc: 0.90382, val_loss: 0.68580, val_accuracy: 0.81661\n"
     ]
    },
    {
     "name": "stderr",
     "output_type": "stream",
     "text": [
      "100%|████████████████████████████████████████████████████████████████████████████████████| 4/4 [00:00<00:00,  7.72it/s]\n"
     ]
    },
    {
     "name": "stdout",
     "output_type": "stream",
     "text": [
      "epoch 188, loss: 0.30779, acc: 0.90592, val_loss: 0.63898, val_accuracy: 0.82396\n"
     ]
    },
    {
     "name": "stderr",
     "output_type": "stream",
     "text": [
      "100%|████████████████████████████████████████████████████████████████████████████████████| 4/4 [00:00<00:00, 10.33it/s]\n"
     ]
    },
    {
     "name": "stdout",
     "output_type": "stream",
     "text": [
      "epoch 189, loss: 0.30764, acc: 0.90654, val_loss: 0.63614, val_accuracy: 0.82239\n"
     ]
    },
    {
     "name": "stderr",
     "output_type": "stream",
     "text": [
      "100%|████████████████████████████████████████████████████████████████████████████████████| 4/4 [00:00<00:00, 10.23it/s]\n"
     ]
    },
    {
     "name": "stdout",
     "output_type": "stream",
     "text": [
      "epoch 190, loss: 0.30785, acc: 0.90432, val_loss: 0.67284, val_accuracy: 0.81792\n"
     ]
    },
    {
     "name": "stderr",
     "output_type": "stream",
     "text": [
      "100%|████████████████████████████████████████████████████████████████████████████████████| 4/4 [00:00<00:00, 10.07it/s]\n"
     ]
    },
    {
     "name": "stdout",
     "output_type": "stream",
     "text": [
      "epoch 191, loss: 0.30503, acc: 0.90508, val_loss: 0.64587, val_accuracy: 0.82449\n"
     ]
    },
    {
     "name": "stderr",
     "output_type": "stream",
     "text": [
      "100%|████████████████████████████████████████████████████████████████████████████████████| 4/4 [00:00<00:00,  9.30it/s]\n"
     ]
    },
    {
     "name": "stdout",
     "output_type": "stream",
     "text": [
      "epoch 192, loss: 0.30459, acc: 0.90651, val_loss: 0.65875, val_accuracy: 0.81844\n"
     ]
    },
    {
     "name": "stderr",
     "output_type": "stream",
     "text": [
      "100%|████████████████████████████████████████████████████████████████████████████████████| 4/4 [00:00<00:00,  7.03it/s]\n"
     ]
    },
    {
     "name": "stdout",
     "output_type": "stream",
     "text": [
      "epoch 193, loss: 0.30421, acc: 0.90528, val_loss: 0.64490, val_accuracy: 0.82107\n"
     ]
    },
    {
     "name": "stderr",
     "output_type": "stream",
     "text": [
      "100%|████████████████████████████████████████████████████████████████████████████████████| 4/4 [00:00<00:00,  5.38it/s]\n"
     ]
    },
    {
     "name": "stdout",
     "output_type": "stream",
     "text": [
      "epoch 194, loss: 0.30536, acc: 0.90487, val_loss: 0.67902, val_accuracy: 0.81713\n"
     ]
    },
    {
     "name": "stderr",
     "output_type": "stream",
     "text": [
      "100%|████████████████████████████████████████████████████████████████████████████████████| 4/4 [00:00<00:00,  9.45it/s]\n"
     ]
    },
    {
     "name": "stdout",
     "output_type": "stream",
     "text": [
      "epoch 195, loss: 0.30443, acc: 0.90572, val_loss: 0.66973, val_accuracy: 0.81871\n"
     ]
    },
    {
     "name": "stderr",
     "output_type": "stream",
     "text": [
      "100%|████████████████████████████████████████████████████████████████████████████████████| 4/4 [00:00<00:00,  9.97it/s]\n"
     ]
    },
    {
     "name": "stdout",
     "output_type": "stream",
     "text": [
      "epoch 196, loss: 0.30412, acc: 0.90671, val_loss: 0.64621, val_accuracy: 0.82239\n"
     ]
    },
    {
     "name": "stderr",
     "output_type": "stream",
     "text": [
      "100%|████████████████████████████████████████████████████████████████████████████████████| 4/4 [00:00<00:00,  7.63it/s]\n"
     ]
    },
    {
     "name": "stdout",
     "output_type": "stream",
     "text": [
      "epoch 197, loss: 0.30594, acc: 0.90519, val_loss: 0.65604, val_accuracy: 0.82107\n"
     ]
    },
    {
     "name": "stderr",
     "output_type": "stream",
     "text": [
      "100%|████████████████████████████████████████████████████████████████████████████████████| 4/4 [00:00<00:00, 10.31it/s]\n"
     ]
    },
    {
     "name": "stdout",
     "output_type": "stream",
     "text": [
      "epoch 198, loss: 0.30552, acc: 0.90455, val_loss: 0.73059, val_accuracy: 0.81477\n"
     ]
    },
    {
     "name": "stderr",
     "output_type": "stream",
     "text": [
      "100%|████████████████████████████████████████████████████████████████████████████████████| 4/4 [00:00<00:00,  9.92it/s]\n"
     ]
    },
    {
     "name": "stdout",
     "output_type": "stream",
     "text": [
      "epoch 199, loss: 0.30613, acc: 0.90601, val_loss: 0.65936, val_accuracy: 0.81844\n"
     ]
    },
    {
     "name": "stderr",
     "output_type": "stream",
     "text": [
      "100%|████████████████████████████████████████████████████████████████████████████████████| 4/4 [00:00<00:00, 10.55it/s]\n"
     ]
    },
    {
     "name": "stdout",
     "output_type": "stream",
     "text": [
      "epoch 200, loss: 0.30697, acc: 0.90484, val_loss: 0.63360, val_accuracy: 0.82265\n"
     ]
    },
    {
     "name": "stderr",
     "output_type": "stream",
     "text": [
      "100%|████████████████████████████████████████████████████████████████████████████████████| 4/4 [00:00<00:00, 10.31it/s]\n"
     ]
    },
    {
     "name": "stdout",
     "output_type": "stream",
     "text": [
      "epoch 201, loss: 0.30911, acc: 0.90441, val_loss: 0.68537, val_accuracy: 0.81766\n"
     ]
    },
    {
     "name": "stderr",
     "output_type": "stream",
     "text": [
      "100%|████████████████████████████████████████████████████████████████████████████████████| 4/4 [00:00<00:00,  9.92it/s]\n"
     ]
    },
    {
     "name": "stdout",
     "output_type": "stream",
     "text": [
      "epoch 202, loss: 0.30474, acc: 0.90604, val_loss: 0.71651, val_accuracy: 0.81555\n"
     ]
    },
    {
     "name": "stderr",
     "output_type": "stream",
     "text": [
      "100%|████████████████████████████████████████████████████████████████████████████████████| 4/4 [00:00<00:00,  7.62it/s]\n"
     ]
    },
    {
     "name": "stdout",
     "output_type": "stream",
     "text": [
      "epoch 203, loss: 0.30400, acc: 0.90630, val_loss: 0.66505, val_accuracy: 0.81739\n"
     ]
    },
    {
     "name": "stderr",
     "output_type": "stream",
     "text": [
      "100%|████████████████████████████████████████████████████████████████████████████████████| 4/4 [00:00<00:00,  9.30it/s]\n"
     ]
    },
    {
     "name": "stdout",
     "output_type": "stream",
     "text": [
      "epoch 204, loss: 0.30649, acc: 0.90496, val_loss: 0.65937, val_accuracy: 0.82186\n"
     ]
    },
    {
     "name": "stderr",
     "output_type": "stream",
     "text": [
      "100%|████████████████████████████████████████████████████████████████████████████████████| 4/4 [00:00<00:00,  9.45it/s]\n"
     ]
    },
    {
     "name": "stdout",
     "output_type": "stream",
     "text": [
      "epoch 205, loss: 0.30667, acc: 0.90476, val_loss: 0.70691, val_accuracy: 0.81503\n"
     ]
    },
    {
     "name": "stderr",
     "output_type": "stream",
     "text": [
      "100%|████████████████████████████████████████████████████████████████████████████████████| 4/4 [00:00<00:00,  6.94it/s]\n"
     ]
    },
    {
     "name": "stdout",
     "output_type": "stream",
     "text": [
      "epoch 206, loss: 0.30354, acc: 0.90721, val_loss: 0.69435, val_accuracy: 0.81739\n"
     ]
    },
    {
     "name": "stderr",
     "output_type": "stream",
     "text": [
      "100%|████████████████████████████████████████████████████████████████████████████████████| 4/4 [00:00<00:00,  7.30it/s]\n"
     ]
    },
    {
     "name": "stdout",
     "output_type": "stream",
     "text": [
      "epoch 207, loss: 0.30313, acc: 0.90712, val_loss: 0.66634, val_accuracy: 0.82291\n"
     ]
    },
    {
     "name": "stderr",
     "output_type": "stream",
     "text": [
      "100%|████████████████████████████████████████████████████████████████████████████████████| 4/4 [00:00<00:00,  8.77it/s]\n"
     ]
    },
    {
     "name": "stdout",
     "output_type": "stream",
     "text": [
      "epoch 208, loss: 0.30609, acc: 0.90400, val_loss: 0.69862, val_accuracy: 0.81661\n"
     ]
    },
    {
     "name": "stderr",
     "output_type": "stream",
     "text": [
      "100%|████████████████████████████████████████████████████████████████████████████████████| 4/4 [00:00<00:00,  7.98it/s]\n"
     ]
    },
    {
     "name": "stdout",
     "output_type": "stream",
     "text": [
      "epoch 209, loss: 0.30286, acc: 0.90665, val_loss: 0.70801, val_accuracy: 0.81503\n"
     ]
    },
    {
     "name": "stderr",
     "output_type": "stream",
     "text": [
      "100%|████████████████████████████████████████████████████████████████████████████████████| 4/4 [00:00<00:00, 10.28it/s]\n"
     ]
    },
    {
     "name": "stdout",
     "output_type": "stream",
     "text": [
      "epoch 210, loss: 0.30110, acc: 0.90768, val_loss: 0.68173, val_accuracy: 0.81713\n"
     ]
    },
    {
     "name": "stderr",
     "output_type": "stream",
     "text": [
      "100%|████████████████████████████████████████████████████████████████████████████████████| 4/4 [00:00<00:00, 10.02it/s]\n"
     ]
    },
    {
     "name": "stdout",
     "output_type": "stream",
     "text": [
      "epoch 211, loss: 0.30273, acc: 0.90598, val_loss: 0.67354, val_accuracy: 0.82212\n"
     ]
    },
    {
     "name": "stderr",
     "output_type": "stream",
     "text": [
      "100%|████████████████████████████████████████████████████████████████████████████████████| 4/4 [00:00<00:00,  7.71it/s]\n"
     ]
    },
    {
     "name": "stdout",
     "output_type": "stream",
     "text": [
      "epoch 212, loss: 0.30455, acc: 0.90540, val_loss: 0.73129, val_accuracy: 0.81398\n"
     ]
    },
    {
     "name": "stderr",
     "output_type": "stream",
     "text": [
      "100%|████████████████████████████████████████████████████████████████████████████████████| 4/4 [00:00<00:00, 10.28it/s]\n"
     ]
    },
    {
     "name": "stdout",
     "output_type": "stream",
     "text": [
      "epoch 213, loss: 0.30305, acc: 0.90651, val_loss: 0.72365, val_accuracy: 0.81555\n"
     ]
    },
    {
     "name": "stderr",
     "output_type": "stream",
     "text": [
      "100%|████████████████████████████████████████████████████████████████████████████████████| 4/4 [00:00<00:00,  9.41it/s]\n"
     ]
    },
    {
     "name": "stdout",
     "output_type": "stream",
     "text": [
      "epoch 214, loss: 0.30225, acc: 0.90715, val_loss: 0.66963, val_accuracy: 0.82265\n"
     ]
    },
    {
     "name": "stderr",
     "output_type": "stream",
     "text": [
      "100%|████████████████████████████████████████████████████████████████████████████████████| 4/4 [00:00<00:00,  7.31it/s]\n"
     ]
    },
    {
     "name": "stdout",
     "output_type": "stream",
     "text": [
      "epoch 215, loss: 0.30603, acc: 0.90484, val_loss: 0.71722, val_accuracy: 0.81555\n"
     ]
    },
    {
     "name": "stderr",
     "output_type": "stream",
     "text": [
      "100%|████████████████████████████████████████████████████████████████████████████████████| 4/4 [00:00<00:00,  8.89it/s]\n"
     ]
    },
    {
     "name": "stdout",
     "output_type": "stream",
     "text": [
      "epoch 216, loss: 0.30296, acc: 0.90660, val_loss: 0.75149, val_accuracy: 0.81398\n"
     ]
    },
    {
     "name": "stderr",
     "output_type": "stream",
     "text": [
      "100%|████████████████████████████████████████████████████████████████████████████████████| 4/4 [00:00<00:00,  9.21it/s]\n"
     ]
    },
    {
     "name": "stdout",
     "output_type": "stream",
     "text": [
      "epoch 217, loss: 0.30129, acc: 0.90782, val_loss: 0.68828, val_accuracy: 0.81976\n"
     ]
    },
    {
     "name": "stderr",
     "output_type": "stream",
     "text": [
      "100%|████████████████████████████████████████████████████████████████████████████████████| 4/4 [00:00<00:00,  8.11it/s]\n"
     ]
    },
    {
     "name": "stdout",
     "output_type": "stream",
     "text": [
      "epoch 218, loss: 0.30275, acc: 0.90590, val_loss: 0.69533, val_accuracy: 0.82002\n"
     ]
    },
    {
     "name": "stderr",
     "output_type": "stream",
     "text": [
      "100%|████████████████████████████████████████████████████████████████████████████████████| 4/4 [00:00<00:00,  7.03it/s]\n"
     ]
    },
    {
     "name": "stdout",
     "output_type": "stream",
     "text": [
      "epoch 219, loss: 0.30273, acc: 0.90578, val_loss: 0.74580, val_accuracy: 0.81503\n"
     ]
    },
    {
     "name": "stderr",
     "output_type": "stream",
     "text": [
      "100%|████████████████████████████████████████████████████████████████████████████████████| 4/4 [00:00<00:00,  6.33it/s]\n"
     ]
    },
    {
     "name": "stdout",
     "output_type": "stream",
     "text": [
      "epoch 220, loss: 0.29969, acc: 0.90776, val_loss: 0.71972, val_accuracy: 0.81582\n"
     ]
    },
    {
     "name": "stderr",
     "output_type": "stream",
     "text": [
      "100%|████████████████████████████████████████████████████████████████████████████████████| 4/4 [00:00<00:00,  6.33it/s]\n"
     ]
    },
    {
     "name": "stdout",
     "output_type": "stream",
     "text": [
      "epoch 221, loss: 0.29908, acc: 0.90762, val_loss: 0.68921, val_accuracy: 0.82002\n"
     ]
    },
    {
     "name": "stderr",
     "output_type": "stream",
     "text": [
      "100%|████████████████████████████████████████████████████████████████████████████████████| 4/4 [00:00<00:00,  6.35it/s]\n"
     ]
    },
    {
     "name": "stdout",
     "output_type": "stream",
     "text": [
      "epoch 222, loss: 0.30163, acc: 0.90519, val_loss: 0.74323, val_accuracy: 0.81503\n"
     ]
    },
    {
     "name": "stderr",
     "output_type": "stream",
     "text": [
      "100%|████████████████████████████████████████████████████████████████████████████████████| 4/4 [00:00<00:00, 10.28it/s]\n"
     ]
    },
    {
     "name": "stdout",
     "output_type": "stream",
     "text": [
      "epoch 223, loss: 0.29841, acc: 0.90794, val_loss: 0.72378, val_accuracy: 0.81529\n"
     ]
    },
    {
     "name": "stderr",
     "output_type": "stream",
     "text": [
      "100%|████████████████████████████████████████████████████████████████████████████████████| 4/4 [00:00<00:00,  7.84it/s]\n"
     ]
    },
    {
     "name": "stdout",
     "output_type": "stream",
     "text": [
      "epoch 224, loss: 0.29676, acc: 0.90823, val_loss: 0.72353, val_accuracy: 0.81608\n"
     ]
    },
    {
     "name": "stderr",
     "output_type": "stream",
     "text": [
      "100%|████████████████████████████████████████████████████████████████████████████████████| 4/4 [00:00<00:00, 10.23it/s]\n"
     ]
    },
    {
     "name": "stdout",
     "output_type": "stream",
     "text": [
      "epoch 225, loss: 0.29729, acc: 0.90668, val_loss: 0.70375, val_accuracy: 0.82002\n"
     ]
    },
    {
     "name": "stderr",
     "output_type": "stream",
     "text": [
      "100%|████████████████████████████████████████████████████████████████████████████████████| 4/4 [00:00<00:00, 10.31it/s]\n"
     ]
    },
    {
     "name": "stdout",
     "output_type": "stream",
     "text": [
      "epoch 226, loss: 0.29981, acc: 0.90648, val_loss: 0.76883, val_accuracy: 0.81240\n"
     ]
    },
    {
     "name": "stderr",
     "output_type": "stream",
     "text": [
      "100%|████████████████████████████████████████████████████████████████████████████████████| 4/4 [00:00<00:00,  9.66it/s]\n"
     ]
    },
    {
     "name": "stdout",
     "output_type": "stream",
     "text": [
      "epoch 227, loss: 0.30000, acc: 0.90703, val_loss: 0.74569, val_accuracy: 0.81345\n"
     ]
    },
    {
     "name": "stderr",
     "output_type": "stream",
     "text": [
      "100%|████████████████████████████████████████████████████████████████████████████████████| 4/4 [00:00<00:00, 10.33it/s]\n"
     ]
    },
    {
     "name": "stdout",
     "output_type": "stream",
     "text": [
      "epoch 228, loss: 0.29877, acc: 0.90756, val_loss: 0.70104, val_accuracy: 0.82055\n"
     ]
    },
    {
     "name": "stderr",
     "output_type": "stream",
     "text": [
      "100%|████████████████████████████████████████████████████████████████████████████████████| 4/4 [00:00<00:00,  9.68it/s]\n"
     ]
    },
    {
     "name": "stdout",
     "output_type": "stream",
     "text": [
      "epoch 229, loss: 0.30130, acc: 0.90636, val_loss: 0.73372, val_accuracy: 0.81661\n"
     ]
    },
    {
     "name": "stderr",
     "output_type": "stream",
     "text": [
      "100%|████████████████████████████████████████████████████████████████████████████████████| 4/4 [00:00<00:00,  8.03it/s]\n"
     ]
    },
    {
     "name": "stdout",
     "output_type": "stream",
     "text": [
      "epoch 230, loss: 0.30000, acc: 0.90642, val_loss: 0.81410, val_accuracy: 0.81188\n"
     ]
    },
    {
     "name": "stderr",
     "output_type": "stream",
     "text": [
      "100%|████████████████████████████████████████████████████████████████████████████████████| 4/4 [00:00<00:00,  9.41it/s]\n"
     ]
    },
    {
     "name": "stdout",
     "output_type": "stream",
     "text": [
      "epoch 231, loss: 0.29967, acc: 0.90861, val_loss: 0.70459, val_accuracy: 0.81950\n"
     ]
    },
    {
     "name": "stderr",
     "output_type": "stream",
     "text": [
      "100%|████████████████████████████████████████████████████████████████████████████████████| 4/4 [00:00<00:00,  9.13it/s]\n"
     ]
    },
    {
     "name": "stdout",
     "output_type": "stream",
     "text": [
      "epoch 232, loss: 0.30067, acc: 0.90642, val_loss: 0.71870, val_accuracy: 0.81687\n"
     ]
    },
    {
     "name": "stderr",
     "output_type": "stream",
     "text": [
      "100%|████████████████████████████████████████████████████████████████████████████████████| 4/4 [00:00<00:00,  7.36it/s]\n"
     ]
    },
    {
     "name": "stdout",
     "output_type": "stream",
     "text": [
      "epoch 233, loss: 0.29899, acc: 0.90636, val_loss: 0.76523, val_accuracy: 0.81240\n"
     ]
    },
    {
     "name": "stderr",
     "output_type": "stream",
     "text": [
      "100%|████████████████████████████████████████████████████████████████████████████████████| 4/4 [00:00<00:00,  7.97it/s]\n"
     ]
    },
    {
     "name": "stdout",
     "output_type": "stream",
     "text": [
      "epoch 234, loss: 0.29780, acc: 0.90706, val_loss: 0.76231, val_accuracy: 0.81345\n"
     ]
    },
    {
     "name": "stderr",
     "output_type": "stream",
     "text": [
      "100%|████████████████████████████████████████████████████████████████████████████████████| 4/4 [00:00<00:00, 10.25it/s]\n"
     ]
    },
    {
     "name": "stdout",
     "output_type": "stream",
     "text": [
      "epoch 235, loss: 0.29712, acc: 0.90791, val_loss: 0.71008, val_accuracy: 0.82081\n"
     ]
    },
    {
     "name": "stderr",
     "output_type": "stream",
     "text": [
      "100%|████████████████████████████████████████████████████████████████████████████████████| 4/4 [00:00<00:00, 10.15it/s]\n"
     ]
    },
    {
     "name": "stdout",
     "output_type": "stream",
     "text": [
      "epoch 236, loss: 0.30190, acc: 0.90627, val_loss: 0.77114, val_accuracy: 0.81503\n"
     ]
    },
    {
     "name": "stderr",
     "output_type": "stream",
     "text": [
      "100%|████████████████████████████████████████████████████████████████████████████████████| 4/4 [00:00<00:00, 10.07it/s]\n"
     ]
    },
    {
     "name": "stdout",
     "output_type": "stream",
     "text": [
      "epoch 237, loss: 0.29685, acc: 0.90806, val_loss: 0.78276, val_accuracy: 0.81398\n"
     ]
    },
    {
     "name": "stderr",
     "output_type": "stream",
     "text": [
      "100%|████████████████████████████████████████████████████████████████████████████████████| 4/4 [00:00<00:00,  9.97it/s]\n"
     ]
    },
    {
     "name": "stdout",
     "output_type": "stream",
     "text": [
      "epoch 238, loss: 0.29450, acc: 0.90864, val_loss: 0.72715, val_accuracy: 0.81687\n"
     ]
    },
    {
     "name": "stderr",
     "output_type": "stream",
     "text": [
      "100%|████████████████████████████████████████████████████████████████████████████████████| 4/4 [00:00<00:00,  7.75it/s]\n"
     ]
    },
    {
     "name": "stdout",
     "output_type": "stream",
     "text": [
      "epoch 239, loss: 0.29476, acc: 0.90712, val_loss: 0.74791, val_accuracy: 0.81661\n"
     ]
    },
    {
     "name": "stderr",
     "output_type": "stream",
     "text": [
      "100%|████████████████████████████████████████████████████████████████████████████████████| 4/4 [00:00<00:00, 10.10it/s]\n"
     ]
    },
    {
     "name": "stdout",
     "output_type": "stream",
     "text": [
      "epoch 240, loss: 0.29536, acc: 0.90782, val_loss: 0.79398, val_accuracy: 0.81135\n"
     ]
    },
    {
     "name": "stderr",
     "output_type": "stream",
     "text": [
      "100%|████████████████████████████████████████████████████████████████████████████████████| 4/4 [00:00<00:00,  9.54it/s]\n"
     ]
    },
    {
     "name": "stdout",
     "output_type": "stream",
     "text": [
      "epoch 241, loss: 0.29383, acc: 0.90873, val_loss: 0.73850, val_accuracy: 0.81634\n"
     ]
    },
    {
     "name": "stderr",
     "output_type": "stream",
     "text": [
      "100%|████████████████████████████████████████████████████████████████████████████████████| 4/4 [00:00<00:00,  7.43it/s]\n"
     ]
    },
    {
     "name": "stdout",
     "output_type": "stream",
     "text": [
      "epoch 242, loss: 0.29399, acc: 0.90861, val_loss: 0.72459, val_accuracy: 0.81950\n"
     ]
    },
    {
     "name": "stderr",
     "output_type": "stream",
     "text": [
      "100%|████████████████████████████████████████████████████████████████████████████████████| 4/4 [00:00<00:00,  8.83it/s]\n"
     ]
    },
    {
     "name": "stdout",
     "output_type": "stream",
     "text": [
      "epoch 243, loss: 0.29540, acc: 0.90741, val_loss: 0.77731, val_accuracy: 0.81529\n"
     ]
    },
    {
     "name": "stderr",
     "output_type": "stream",
     "text": [
      "100%|████████████████████████████████████████████████████████████████████████████████████| 4/4 [00:00<00:00,  9.43it/s]\n"
     ]
    },
    {
     "name": "stdout",
     "output_type": "stream",
     "text": [
      "epoch 244, loss: 0.29495, acc: 0.90820, val_loss: 0.81838, val_accuracy: 0.81293\n"
     ]
    },
    {
     "name": "stderr",
     "output_type": "stream",
     "text": [
      "100%|████████████████████████████████████████████████████████████████████████████████████| 4/4 [00:00<00:00,  9.50it/s]\n"
     ]
    },
    {
     "name": "stdout",
     "output_type": "stream",
     "text": [
      "epoch 245, loss: 0.29467, acc: 0.90832, val_loss: 0.72111, val_accuracy: 0.82055\n"
     ]
    },
    {
     "name": "stderr",
     "output_type": "stream",
     "text": [
      "100%|████████████████████████████████████████████████████████████████████████████████████| 4/4 [00:00<00:00,  5.87it/s]\n"
     ]
    },
    {
     "name": "stdout",
     "output_type": "stream",
     "text": [
      "epoch 246, loss: 0.29818, acc: 0.90651, val_loss: 0.75797, val_accuracy: 0.81582\n"
     ]
    },
    {
     "name": "stderr",
     "output_type": "stream",
     "text": [
      "100%|████████████████████████████████████████████████████████████████████████████████████| 4/4 [00:00<00:00,  8.95it/s]\n"
     ]
    },
    {
     "name": "stdout",
     "output_type": "stream",
     "text": [
      "epoch 247, loss: 0.29480, acc: 0.90738, val_loss: 0.80096, val_accuracy: 0.81161\n"
     ]
    },
    {
     "name": "stderr",
     "output_type": "stream",
     "text": [
      "100%|████████████████████████████████████████████████████████████████████████████████████| 4/4 [00:00<00:00,  6.60it/s]\n"
     ]
    },
    {
     "name": "stdout",
     "output_type": "stream",
     "text": [
      "epoch 248, loss: 0.29408, acc: 0.90765, val_loss: 0.78169, val_accuracy: 0.81319\n"
     ]
    },
    {
     "name": "stderr",
     "output_type": "stream",
     "text": [
      "100%|████████████████████████████████████████████████████████████████████████████████████| 4/4 [00:00<00:00,  8.25it/s]\n"
     ]
    },
    {
     "name": "stdout",
     "output_type": "stream",
     "text": [
      "epoch 249, loss: 0.29414, acc: 0.90803, val_loss: 0.73536, val_accuracy: 0.82081\n"
     ]
    },
    {
     "name": "stderr",
     "output_type": "stream",
     "text": [
      "100%|████████████████████████████████████████████████████████████████████████████████████| 4/4 [00:00<00:00,  9.43it/s]\n"
     ]
    },
    {
     "name": "stdout",
     "output_type": "stream",
     "text": [
      "epoch 250, loss: 0.29889, acc: 0.90706, val_loss: 0.80124, val_accuracy: 0.81319\n"
     ]
    },
    {
     "name": "stderr",
     "output_type": "stream",
     "text": [
      "100%|████████████████████████████████████████████████████████████████████████████████████| 4/4 [00:00<00:00,  8.31it/s]\n"
     ]
    },
    {
     "name": "stdout",
     "output_type": "stream",
     "text": [
      "epoch 251, loss: 0.29446, acc: 0.90861, val_loss: 0.80693, val_accuracy: 0.81372\n"
     ]
    },
    {
     "name": "stderr",
     "output_type": "stream",
     "text": [
      "100%|████████████████████████████████████████████████████████████████████████████████████| 4/4 [00:00<00:00, 11.05it/s]\n"
     ]
    },
    {
     "name": "stdout",
     "output_type": "stream",
     "text": [
      "epoch 252, loss: 0.29159, acc: 0.90949, val_loss: 0.74763, val_accuracy: 0.81713\n"
     ]
    },
    {
     "name": "stderr",
     "output_type": "stream",
     "text": [
      "100%|████████████████████████████████████████████████████████████████████████████████████| 4/4 [00:00<00:00, 10.33it/s]\n"
     ]
    },
    {
     "name": "stdout",
     "output_type": "stream",
     "text": [
      "epoch 253, loss: 0.29212, acc: 0.90721, val_loss: 0.77250, val_accuracy: 0.81661\n"
     ]
    },
    {
     "name": "stderr",
     "output_type": "stream",
     "text": [
      "100%|████████████████████████████████████████████████████████████████████████████████████| 4/4 [00:00<00:00, 10.39it/s]\n"
     ]
    },
    {
     "name": "stdout",
     "output_type": "stream",
     "text": [
      "epoch 254, loss: 0.29270, acc: 0.90806, val_loss: 0.82361, val_accuracy: 0.81083\n"
     ]
    },
    {
     "name": "stderr",
     "output_type": "stream",
     "text": [
      "100%|████████████████████████████████████████████████████████████████████████████████████| 4/4 [00:00<00:00, 10.36it/s]\n"
     ]
    },
    {
     "name": "stdout",
     "output_type": "stream",
     "text": [
      "epoch 255, loss: 0.29107, acc: 0.90896, val_loss: 0.75500, val_accuracy: 0.81503\n"
     ]
    },
    {
     "name": "stderr",
     "output_type": "stream",
     "text": [
      "100%|████████████████████████████████████████████████████████████████████████████████████| 4/4 [00:00<00:00, 10.78it/s]\n"
     ]
    },
    {
     "name": "stdout",
     "output_type": "stream",
     "text": [
      "epoch 256, loss: 0.29169, acc: 0.90899, val_loss: 0.74929, val_accuracy: 0.81976\n"
     ]
    },
    {
     "name": "stderr",
     "output_type": "stream",
     "text": [
      "100%|████████████████████████████████████████████████████████████████████████████████████| 4/4 [00:00<00:00,  7.27it/s]\n"
     ]
    },
    {
     "name": "stdout",
     "output_type": "stream",
     "text": [
      "epoch 257, loss: 0.29320, acc: 0.90788, val_loss: 0.81248, val_accuracy: 0.81398\n"
     ]
    },
    {
     "name": "stderr",
     "output_type": "stream",
     "text": [
      "100%|████████████████████████████████████████████████████████████████████████████████████| 4/4 [00:00<00:00,  8.99it/s]\n"
     ]
    },
    {
     "name": "stdout",
     "output_type": "stream",
     "text": [
      "epoch 258, loss: 0.29324, acc: 0.90735, val_loss: 0.84569, val_accuracy: 0.81240\n"
     ]
    },
    {
     "name": "stderr",
     "output_type": "stream",
     "text": [
      "100%|████████████████████████████████████████████████████████████████████████████████████| 4/4 [00:00<00:00,  9.32it/s]\n"
     ]
    },
    {
     "name": "stdout",
     "output_type": "stream",
     "text": [
      "epoch 259, loss: 0.29313, acc: 0.90826, val_loss: 0.74464, val_accuracy: 0.81897\n"
     ]
    },
    {
     "name": "stderr",
     "output_type": "stream",
     "text": [
      "100%|████████████████████████████████████████████████████████████████████████████████████| 4/4 [00:00<00:00,  8.31it/s]\n"
     ]
    },
    {
     "name": "stdout",
     "output_type": "stream",
     "text": [
      "epoch 260, loss: 0.29759, acc: 0.90698, val_loss: 0.78633, val_accuracy: 0.81529\n"
     ]
    },
    {
     "name": "stderr",
     "output_type": "stream",
     "text": [
      "100%|████████████████████████████████████████████████████████████████████████████████████| 4/4 [00:00<00:00, 11.36it/s]\n"
     ]
    },
    {
     "name": "stdout",
     "output_type": "stream",
     "text": [
      "epoch 261, loss: 0.29263, acc: 0.90844, val_loss: 0.83109, val_accuracy: 0.81135\n"
     ]
    },
    {
     "name": "stderr",
     "output_type": "stream",
     "text": [
      "100%|████████████████████████████████████████████████████████████████████████████████████| 4/4 [00:00<00:00, 11.17it/s]\n"
     ]
    },
    {
     "name": "stdout",
     "output_type": "stream",
     "text": [
      "epoch 262, loss: 0.28966, acc: 0.90911, val_loss: 0.78242, val_accuracy: 0.81634\n"
     ]
    },
    {
     "name": "stderr",
     "output_type": "stream",
     "text": [
      "100%|████████████████████████████████████████████████████████████████████████████████████| 4/4 [00:00<00:00, 10.64it/s]\n"
     ]
    },
    {
     "name": "stdout",
     "output_type": "stream",
     "text": [
      "epoch 263, loss: 0.28992, acc: 0.90858, val_loss: 0.77217, val_accuracy: 0.81582\n"
     ]
    },
    {
     "name": "stderr",
     "output_type": "stream",
     "text": [
      "100%|████████████████████████████████████████████████████████████████████████████████████| 4/4 [00:00<00:00, 11.02it/s]\n"
     ]
    },
    {
     "name": "stdout",
     "output_type": "stream",
     "text": [
      "epoch 264, loss: 0.29174, acc: 0.90841, val_loss: 0.82748, val_accuracy: 0.81240\n"
     ]
    },
    {
     "name": "stderr",
     "output_type": "stream",
     "text": [
      "100%|████████████████████████████████████████████████████████████████████████████████████| 4/4 [00:00<00:00, 10.75it/s]\n"
     ]
    },
    {
     "name": "stdout",
     "output_type": "stream",
     "text": [
      "epoch 265, loss: 0.29003, acc: 0.90846, val_loss: 0.82264, val_accuracy: 0.81240\n"
     ]
    },
    {
     "name": "stderr",
     "output_type": "stream",
     "text": [
      "100%|████████████████████████████████████████████████████████████████████████████████████| 4/4 [00:00<00:00,  8.49it/s]\n"
     ]
    },
    {
     "name": "stdout",
     "output_type": "stream",
     "text": [
      "epoch 266, loss: 0.28891, acc: 0.90917, val_loss: 0.76188, val_accuracy: 0.81608\n"
     ]
    },
    {
     "name": "stderr",
     "output_type": "stream",
     "text": [
      "100%|████████████████████████████████████████████████████████████████████████████████████| 4/4 [00:00<00:00, 10.75it/s]\n"
     ]
    },
    {
     "name": "stdout",
     "output_type": "stream",
     "text": [
      "epoch 267, loss: 0.29238, acc: 0.90788, val_loss: 0.80340, val_accuracy: 0.81529\n"
     ]
    },
    {
     "name": "stderr",
     "output_type": "stream",
     "text": [
      "100%|████████████████████████████████████████████████████████████████████████████████████| 4/4 [00:00<00:00, 11.08it/s]\n"
     ]
    },
    {
     "name": "stdout",
     "output_type": "stream",
     "text": [
      "epoch 268, loss: 0.28974, acc: 0.90887, val_loss: 0.85329, val_accuracy: 0.81161\n"
     ]
    },
    {
     "name": "stderr",
     "output_type": "stream",
     "text": [
      "100%|████████████████████████████████████████████████████████████████████████████████████| 4/4 [00:00<00:00,  8.69it/s]\n"
     ]
    },
    {
     "name": "stdout",
     "output_type": "stream",
     "text": [
      "epoch 269, loss: 0.28930, acc: 0.90841, val_loss: 0.81781, val_accuracy: 0.81240\n"
     ]
    },
    {
     "name": "stderr",
     "output_type": "stream",
     "text": [
      "100%|████████████████████████████████████████████████████████████████████████████████████| 4/4 [00:00<00:00, 11.11it/s]\n"
     ]
    },
    {
     "name": "stdout",
     "output_type": "stream",
     "text": [
      "epoch 270, loss: 0.28938, acc: 0.90917, val_loss: 0.76373, val_accuracy: 0.81897\n"
     ]
    },
    {
     "name": "stderr",
     "output_type": "stream",
     "text": [
      "100%|████████████████████████████████████████████████████████████████████████████████████| 4/4 [00:00<00:00, 10.72it/s]\n"
     ]
    },
    {
     "name": "stdout",
     "output_type": "stream",
     "text": [
      "epoch 271, loss: 0.29499, acc: 0.90768, val_loss: 0.83163, val_accuracy: 0.81214\n"
     ]
    },
    {
     "name": "stderr",
     "output_type": "stream",
     "text": [
      "100%|████████████████████████████████████████████████████████████████████████████████████| 4/4 [00:00<00:00, 10.15it/s]\n"
     ]
    },
    {
     "name": "stdout",
     "output_type": "stream",
     "text": [
      "epoch 272, loss: 0.29015, acc: 0.90841, val_loss: 0.84354, val_accuracy: 0.81266\n"
     ]
    },
    {
     "name": "stderr",
     "output_type": "stream",
     "text": [
      "100%|████████████████████████████████████████████████████████████████████████████████████| 4/4 [00:00<00:00, 10.02it/s]\n"
     ]
    },
    {
     "name": "stdout",
     "output_type": "stream",
     "text": [
      "epoch 273, loss: 0.28712, acc: 0.90946, val_loss: 0.79654, val_accuracy: 0.81529\n"
     ]
    },
    {
     "name": "stderr",
     "output_type": "stream",
     "text": [
      "100%|████████████████████████████████████████████████████████████████████████████████████| 4/4 [00:00<00:00,  9.78it/s]\n"
     ]
    },
    {
     "name": "stdout",
     "output_type": "stream",
     "text": [
      "epoch 274, loss: 0.28762, acc: 0.90852, val_loss: 0.79923, val_accuracy: 0.81555\n"
     ]
    },
    {
     "name": "stderr",
     "output_type": "stream",
     "text": [
      "100%|████████████████████████████████████████████████████████████████████████████████████| 4/4 [00:00<00:00,  8.08it/s]\n"
     ]
    },
    {
     "name": "stdout",
     "output_type": "stream",
     "text": [
      "epoch 275, loss: 0.28911, acc: 0.90893, val_loss: 0.86267, val_accuracy: 0.80715\n"
     ]
    },
    {
     "name": "stderr",
     "output_type": "stream",
     "text": [
      "100%|████████████████████████████████████████████████████████████████████████████████████| 4/4 [00:00<00:00, 10.41it/s]\n"
     ]
    },
    {
     "name": "stdout",
     "output_type": "stream",
     "text": [
      "epoch 276, loss: 0.28857, acc: 0.90934, val_loss: 0.80988, val_accuracy: 0.81293\n"
     ]
    },
    {
     "name": "stderr",
     "output_type": "stream",
     "text": [
      "100%|████████████████████████████████████████████████████████████████████████████████████| 4/4 [00:00<00:00, 10.20it/s]\n"
     ]
    },
    {
     "name": "stdout",
     "output_type": "stream",
     "text": [
      "epoch 277, loss: 0.28882, acc: 0.90917, val_loss: 0.78275, val_accuracy: 0.81818\n"
     ]
    },
    {
     "name": "stderr",
     "output_type": "stream",
     "text": [
      "100%|████████████████████████████████████████████████████████████████████████████████████| 4/4 [00:00<00:00,  7.32it/s]\n"
     ]
    },
    {
     "name": "stdout",
     "output_type": "stream",
     "text": [
      "epoch 278, loss: 0.29123, acc: 0.90800, val_loss: 0.83913, val_accuracy: 0.81240\n"
     ]
    },
    {
     "name": "stderr",
     "output_type": "stream",
     "text": [
      "100%|████████████████████████████████████████████████████████████████████████████████████| 4/4 [00:00<00:00,  9.30it/s]\n"
     ]
    },
    {
     "name": "stdout",
     "output_type": "stream",
     "text": [
      "epoch 279, loss: 0.28847, acc: 0.90905, val_loss: 0.88969, val_accuracy: 0.80977\n"
     ]
    },
    {
     "name": "stderr",
     "output_type": "stream",
     "text": [
      "100%|████████████████████████████████████████████████████████████████████████████████████| 4/4 [00:00<00:00,  9.13it/s]\n"
     ]
    },
    {
     "name": "stdout",
     "output_type": "stream",
     "text": [
      "epoch 280, loss: 0.28823, acc: 0.90849, val_loss: 0.80596, val_accuracy: 0.81529\n"
     ]
    },
    {
     "name": "stderr",
     "output_type": "stream",
     "text": [
      "100%|████████████████████████████████████████████████████████████████████████████████████| 4/4 [00:00<00:00,  8.99it/s]\n"
     ]
    },
    {
     "name": "stdout",
     "output_type": "stream",
     "text": [
      "epoch 281, loss: 0.29009, acc: 0.90808, val_loss: 0.81102, val_accuracy: 0.81450\n"
     ]
    },
    {
     "name": "stderr",
     "output_type": "stream",
     "text": [
      "100%|████████████████████████████████████████████████████████████████████████████████████| 4/4 [00:00<00:00,  6.55it/s]\n"
     ]
    },
    {
     "name": "stdout",
     "output_type": "stream",
     "text": [
      "epoch 282, loss: 0.28858, acc: 0.90884, val_loss: 0.85113, val_accuracy: 0.81056\n"
     ]
    },
    {
     "name": "stderr",
     "output_type": "stream",
     "text": [
      "100%|████████████████████████████████████████████████████████████████████████████████████| 4/4 [00:00<00:00,  8.08it/s]\n"
     ]
    },
    {
     "name": "stdout",
     "output_type": "stream",
     "text": [
      "epoch 283, loss: 0.28501, acc: 0.90943, val_loss: 0.84995, val_accuracy: 0.81240\n"
     ]
    },
    {
     "name": "stderr",
     "output_type": "stream",
     "text": [
      "100%|████████████████████████████████████████████████████████████████████████████████████| 4/4 [00:00<00:00,  7.84it/s]\n"
     ]
    },
    {
     "name": "stdout",
     "output_type": "stream",
     "text": [
      "epoch 284, loss: 0.28468, acc: 0.91013, val_loss: 0.81058, val_accuracy: 0.81582\n"
     ]
    },
    {
     "name": "stderr",
     "output_type": "stream",
     "text": [
      "100%|████████████████████████████████████████████████████████████████████████████████████| 4/4 [00:00<00:00,  9.90it/s]\n"
     ]
    },
    {
     "name": "stdout",
     "output_type": "stream",
     "text": [
      "epoch 285, loss: 0.28678, acc: 0.90887, val_loss: 0.84651, val_accuracy: 0.81214\n"
     ]
    },
    {
     "name": "stderr",
     "output_type": "stream",
     "text": [
      "100%|████████████████████████████████████████████████████████████████████████████████████| 4/4 [00:00<00:00,  9.85it/s]\n"
     ]
    },
    {
     "name": "stdout",
     "output_type": "stream",
     "text": [
      "epoch 286, loss: 0.28667, acc: 0.90829, val_loss: 0.88295, val_accuracy: 0.80977\n"
     ]
    },
    {
     "name": "stderr",
     "output_type": "stream",
     "text": [
      "100%|████████████████████████████████████████████████████████████████████████████████████| 4/4 [00:00<00:00,  7.56it/s]\n"
     ]
    },
    {
     "name": "stdout",
     "output_type": "stream",
     "text": [
      "epoch 287, loss: 0.28562, acc: 0.90963, val_loss: 0.80652, val_accuracy: 0.81555\n"
     ]
    },
    {
     "name": "stderr",
     "output_type": "stream",
     "text": [
      "100%|████████████████████████████████████████████████████████████████████████████████████| 4/4 [00:00<00:00,  7.17it/s]\n"
     ]
    },
    {
     "name": "stdout",
     "output_type": "stream",
     "text": [
      "epoch 288, loss: 0.28908, acc: 0.90858, val_loss: 0.82405, val_accuracy: 0.81477\n"
     ]
    },
    {
     "name": "stderr",
     "output_type": "stream",
     "text": [
      "100%|████████████████████████████████████████████████████████████████████████████████████| 4/4 [00:00<00:00,  7.74it/s]\n"
     ]
    },
    {
     "name": "stdout",
     "output_type": "stream",
     "text": [
      "epoch 289, loss: 0.28811, acc: 0.90890, val_loss: 0.89038, val_accuracy: 0.81004\n"
     ]
    },
    {
     "name": "stderr",
     "output_type": "stream",
     "text": [
      "100%|████████████████████████████████████████████████████████████████████████████████████| 4/4 [00:00<00:00, 10.23it/s]\n"
     ]
    },
    {
     "name": "stdout",
     "output_type": "stream",
     "text": [
      "epoch 290, loss: 0.28566, acc: 0.90922, val_loss: 0.88160, val_accuracy: 0.81161\n"
     ]
    },
    {
     "name": "stderr",
     "output_type": "stream",
     "text": [
      "100%|████████████████████████████████████████████████████████████████████████████████████| 4/4 [00:00<00:00,  9.97it/s]\n"
     ]
    },
    {
     "name": "stdout",
     "output_type": "stream",
     "text": [
      "epoch 291, loss: 0.28541, acc: 0.91007, val_loss: 0.80448, val_accuracy: 0.81976\n"
     ]
    },
    {
     "name": "stderr",
     "output_type": "stream",
     "text": [
      "100%|████████████████████████████████████████████████████████████████████████████████████| 4/4 [00:00<00:00,  9.95it/s]\n"
     ]
    },
    {
     "name": "stdout",
     "output_type": "stream",
     "text": [
      "epoch 292, loss: 0.28957, acc: 0.90890, val_loss: 0.85495, val_accuracy: 0.81240\n"
     ]
    },
    {
     "name": "stderr",
     "output_type": "stream",
     "text": [
      "100%|████████████████████████████████████████████████████████████████████████████████████| 4/4 [00:00<00:00,  7.52it/s]\n"
     ]
    },
    {
     "name": "stdout",
     "output_type": "stream",
     "text": [
      "epoch 293, loss: 0.28571, acc: 0.90914, val_loss: 0.88116, val_accuracy: 0.80872\n"
     ]
    },
    {
     "name": "stderr",
     "output_type": "stream",
     "text": [
      "100%|████████████████████████████████████████████████████████████████████████████████████| 4/4 [00:00<00:00,  8.77it/s]\n"
     ]
    },
    {
     "name": "stdout",
     "output_type": "stream",
     "text": [
      "epoch 294, loss: 0.28373, acc: 0.91007, val_loss: 0.85132, val_accuracy: 0.81319\n"
     ]
    },
    {
     "name": "stderr",
     "output_type": "stream",
     "text": [
      "100%|████████████████████████████████████████████████████████████████████████████████████| 4/4 [00:00<00:00,  8.85it/s]\n"
     ]
    },
    {
     "name": "stdout",
     "output_type": "stream",
     "text": [
      "epoch 295, loss: 0.28465, acc: 0.91016, val_loss: 0.82719, val_accuracy: 0.81529\n"
     ]
    },
    {
     "name": "stderr",
     "output_type": "stream",
     "text": [
      "100%|████████████████████████████████████████████████████████████████████████████████████| 4/4 [00:00<00:00,  6.06it/s]\n"
     ]
    },
    {
     "name": "stdout",
     "output_type": "stream",
     "text": [
      "epoch 296, loss: 0.28732, acc: 0.90911, val_loss: 0.88622, val_accuracy: 0.81135\n"
     ]
    },
    {
     "name": "stderr",
     "output_type": "stream",
     "text": [
      "100%|████████████████████████████████████████████████████████████████████████████████████| 4/4 [00:00<00:00,  9.09it/s]\n"
     ]
    },
    {
     "name": "stdout",
     "output_type": "stream",
     "text": [
      "epoch 297, loss: 0.28390, acc: 0.90943, val_loss: 0.89628, val_accuracy: 0.81161\n"
     ]
    },
    {
     "name": "stderr",
     "output_type": "stream",
     "text": [
      "100%|████████████████████████████████████████████████████████████████████████████████████| 4/4 [00:00<00:00,  8.26it/s]\n"
     ]
    },
    {
     "name": "stdout",
     "output_type": "stream",
     "text": [
      "epoch 298, loss: 0.28235, acc: 0.91060, val_loss: 0.84860, val_accuracy: 0.81503\n"
     ]
    },
    {
     "name": "stderr",
     "output_type": "stream",
     "text": [
      "100%|████████████████████████████████████████████████████████████████████████████████████| 4/4 [00:00<00:00,  8.56it/s]\n"
     ]
    },
    {
     "name": "stdout",
     "output_type": "stream",
     "text": [
      "epoch 299, loss: 0.28374, acc: 0.91013, val_loss: 0.84866, val_accuracy: 0.81424\n"
     ]
    },
    {
     "name": "stderr",
     "output_type": "stream",
     "text": [
      "100%|████████████████████████████████████████████████████████████████████████████████████| 4/4 [00:00<00:00,  9.24it/s]\n"
     ]
    },
    {
     "name": "stdout",
     "output_type": "stream",
     "text": [
      "epoch 300, loss: 0.28307, acc: 0.90966, val_loss: 0.88864, val_accuracy: 0.80951\n"
     ]
    },
    {
     "name": "stderr",
     "output_type": "stream",
     "text": [
      "100%|████████████████████████████████████████████████████████████████████████████████████| 4/4 [00:00<00:00,  9.24it/s]\n"
     ]
    },
    {
     "name": "stdout",
     "output_type": "stream",
     "text": [
      "epoch 301, loss: 0.28125, acc: 0.91010, val_loss: 0.88403, val_accuracy: 0.81161\n"
     ]
    },
    {
     "name": "stderr",
     "output_type": "stream",
     "text": [
      "100%|████████████████████████████████████████████████████████████████████████████████████| 4/4 [00:00<00:00,  7.24it/s]\n"
     ]
    },
    {
     "name": "stdout",
     "output_type": "stream",
     "text": [
      "epoch 302, loss: 0.28135, acc: 0.91103, val_loss: 0.84037, val_accuracy: 0.81529\n"
     ]
    },
    {
     "name": "stderr",
     "output_type": "stream",
     "text": [
      "100%|████████████████████████████████████████████████████████████████████████████████████| 4/4 [00:00<00:00,  8.95it/s]\n"
     ]
    },
    {
     "name": "stdout",
     "output_type": "stream",
     "text": [
      "epoch 303, loss: 0.28379, acc: 0.90934, val_loss: 0.86917, val_accuracy: 0.81266\n"
     ]
    },
    {
     "name": "stderr",
     "output_type": "stream",
     "text": [
      "100%|████████████████████████████████████████████████████████████████████████████████████| 4/4 [00:00<00:00,  9.17it/s]\n"
     ]
    },
    {
     "name": "stdout",
     "output_type": "stream",
     "text": [
      "epoch 304, loss: 0.28318, acc: 0.90946, val_loss: 0.94657, val_accuracy: 0.80767\n"
     ]
    },
    {
     "name": "stderr",
     "output_type": "stream",
     "text": [
      "100%|████████████████████████████████████████████████████████████████████████████████████| 4/4 [00:00<00:00,  7.27it/s]\n"
     ]
    },
    {
     "name": "stdout",
     "output_type": "stream",
     "text": [
      "epoch 305, loss: 0.28310, acc: 0.91025, val_loss: 0.84634, val_accuracy: 0.81477\n"
     ]
    },
    {
     "name": "stderr",
     "output_type": "stream",
     "text": [
      "100%|████████████████████████████████████████████████████████████████████████████████████| 4/4 [00:00<00:00,  6.24it/s]\n"
     ]
    },
    {
     "name": "stdout",
     "output_type": "stream",
     "text": [
      "epoch 306, loss: 0.28634, acc: 0.90914, val_loss: 0.84839, val_accuracy: 0.81424\n"
     ]
    },
    {
     "name": "stderr",
     "output_type": "stream",
     "text": [
      "100%|████████████████████████████████████████████████████████████████████████████████████| 4/4 [00:00<00:00,  9.80it/s]\n"
     ]
    },
    {
     "name": "stdout",
     "output_type": "stream",
     "text": [
      "epoch 307, loss: 0.28516, acc: 0.90954, val_loss: 0.90453, val_accuracy: 0.81004\n"
     ]
    },
    {
     "name": "stderr",
     "output_type": "stream",
     "text": [
      "100%|████████████████████████████████████████████████████████████████████████████████████| 4/4 [00:00<00:00,  9.83it/s]\n"
     ]
    },
    {
     "name": "stdout",
     "output_type": "stream",
     "text": [
      "epoch 308, loss: 0.28609, acc: 0.90867, val_loss: 0.95483, val_accuracy: 0.80767\n"
     ]
    },
    {
     "name": "stderr",
     "output_type": "stream",
     "text": [
      "100%|████████████████████████████████████████████████████████████████████████████████████| 4/4 [00:00<00:00,  9.52it/s]\n"
     ]
    },
    {
     "name": "stdout",
     "output_type": "stream",
     "text": [
      "epoch 309, loss: 0.28686, acc: 0.90975, val_loss: 0.82729, val_accuracy: 0.81923\n"
     ]
    },
    {
     "name": "stderr",
     "output_type": "stream",
     "text": [
      "100%|████████████████████████████████████████████████████████████████████████████████████| 4/4 [00:00<00:00,  9.83it/s]\n"
     ]
    },
    {
     "name": "stdout",
     "output_type": "stream",
     "text": [
      "epoch 310, loss: 0.29404, acc: 0.90887, val_loss: 0.86994, val_accuracy: 0.81319\n"
     ]
    },
    {
     "name": "stderr",
     "output_type": "stream",
     "text": [
      "100%|████████████████████████████████████████████████████████████████████████████████████| 4/4 [00:00<00:00,  7.63it/s]\n"
     ]
    },
    {
     "name": "stdout",
     "output_type": "stream",
     "text": [
      "epoch 311, loss: 0.28743, acc: 0.90899, val_loss: 0.95723, val_accuracy: 0.80662\n"
     ]
    },
    {
     "name": "stderr",
     "output_type": "stream",
     "text": [
      "100%|████████████████████████████████████████████████████████████████████████████████████| 4/4 [00:00<00:00,  7.56it/s]\n"
     ]
    },
    {
     "name": "stdout",
     "output_type": "stream",
     "text": [
      "epoch 312, loss: 0.28394, acc: 0.91030, val_loss: 0.86837, val_accuracy: 0.81477\n"
     ]
    },
    {
     "name": "stderr",
     "output_type": "stream",
     "text": [
      "100%|████████████████████████████████████████████████████████████████████████████████████| 4/4 [00:00<00:00,  8.51it/s]\n"
     ]
    },
    {
     "name": "stdout",
     "output_type": "stream",
     "text": [
      "epoch 313, loss: 0.28430, acc: 0.90917, val_loss: 0.86298, val_accuracy: 0.81450\n"
     ]
    },
    {
     "name": "stderr",
     "output_type": "stream",
     "text": [
      "100%|████████████████████████████████████████████████████████████████████████████████████| 4/4 [00:00<00:00,  7.46it/s]\n"
     ]
    },
    {
     "name": "stdout",
     "output_type": "stream",
     "text": [
      "epoch 314, loss: 0.28340, acc: 0.90917, val_loss: 0.90882, val_accuracy: 0.80977\n"
     ]
    },
    {
     "name": "stderr",
     "output_type": "stream",
     "text": [
      "100%|████████████████████████████████████████████████████████████████████████████████████| 4/4 [00:00<00:00,  9.28it/s]\n"
     ]
    },
    {
     "name": "stdout",
     "output_type": "stream",
     "text": [
      "epoch 315, loss: 0.28414, acc: 0.90884, val_loss: 0.91325, val_accuracy: 0.81056\n"
     ]
    },
    {
     "name": "stderr",
     "output_type": "stream",
     "text": [
      "100%|████████████████████████████████████████████████████████████████████████████████████| 4/4 [00:00<00:00,  9.17it/s]\n"
     ]
    },
    {
     "name": "stdout",
     "output_type": "stream",
     "text": [
      "epoch 316, loss: 0.28335, acc: 0.91019, val_loss: 0.84106, val_accuracy: 0.81766\n"
     ]
    },
    {
     "name": "stderr",
     "output_type": "stream",
     "text": [
      "100%|████████████████████████████████████████████████████████████████████████████████████| 4/4 [00:00<00:00,  9.01it/s]\n"
     ]
    },
    {
     "name": "stdout",
     "output_type": "stream",
     "text": [
      "epoch 317, loss: 0.28893, acc: 0.90943, val_loss: 0.92705, val_accuracy: 0.81109\n"
     ]
    },
    {
     "name": "stderr",
     "output_type": "stream",
     "text": [
      "100%|████████████████████████████████████████████████████████████████████████████████████| 4/4 [00:00<00:00,  8.76it/s]\n"
     ]
    },
    {
     "name": "stdout",
     "output_type": "stream",
     "text": [
      "epoch 318, loss: 0.28281, acc: 0.90972, val_loss: 0.93279, val_accuracy: 0.80977\n"
     ]
    },
    {
     "name": "stderr",
     "output_type": "stream",
     "text": [
      "100%|████████████████████████████████████████████████████████████████████████████████████| 4/4 [00:00<00:00,  8.93it/s]\n"
     ]
    },
    {
     "name": "stdout",
     "output_type": "stream",
     "text": [
      "epoch 319, loss: 0.27960, acc: 0.91045, val_loss: 0.87199, val_accuracy: 0.81503\n"
     ]
    },
    {
     "name": "stderr",
     "output_type": "stream",
     "text": [
      "100%|████████████████████████████████████████████████████████████████████████████████████| 4/4 [00:00<00:00,  6.44it/s]\n"
     ]
    },
    {
     "name": "stdout",
     "output_type": "stream",
     "text": [
      "epoch 320, loss: 0.27982, acc: 0.91092, val_loss: 0.90738, val_accuracy: 0.81240\n"
     ]
    },
    {
     "name": "stderr",
     "output_type": "stream",
     "text": [
      "100%|████████████████████████████████████████████████████████████████████████████████████| 4/4 [00:00<00:00, 10.41it/s]\n"
     ]
    },
    {
     "name": "stdout",
     "output_type": "stream",
     "text": [
      "epoch 321, loss: 0.27950, acc: 0.90984, val_loss: 0.94207, val_accuracy: 0.80820\n"
     ]
    },
    {
     "name": "stderr",
     "output_type": "stream",
     "text": [
      "100%|████████████████████████████████████████████████████████████████████████████████████| 4/4 [00:00<00:00, 10.61it/s]\n"
     ]
    },
    {
     "name": "stdout",
     "output_type": "stream",
     "text": [
      "epoch 322, loss: 0.27784, acc: 0.91057, val_loss: 0.87767, val_accuracy: 0.81319\n"
     ]
    },
    {
     "name": "stderr",
     "output_type": "stream",
     "text": [
      "100%|████████████████████████████████████████████████████████████████████████████████████| 4/4 [00:00<00:00,  8.33it/s]\n"
     ]
    },
    {
     "name": "stdout",
     "output_type": "stream",
     "text": [
      "epoch 323, loss: 0.27899, acc: 0.91153, val_loss: 0.86673, val_accuracy: 0.81398\n"
     ]
    },
    {
     "name": "stderr",
     "output_type": "stream",
     "text": [
      "100%|████████████████████████████████████████████████████████████████████████████████████| 4/4 [00:00<00:00, 10.90it/s]\n"
     ]
    },
    {
     "name": "stdout",
     "output_type": "stream",
     "text": [
      "epoch 324, loss: 0.28059, acc: 0.91039, val_loss: 0.95127, val_accuracy: 0.81030\n"
     ]
    },
    {
     "name": "stderr",
     "output_type": "stream",
     "text": [
      "100%|████████████████████████████████████████████████████████████████████████████████████| 4/4 [00:00<00:00, 10.78it/s]\n"
     ]
    },
    {
     "name": "stdout",
     "output_type": "stream",
     "text": [
      "epoch 325, loss: 0.28216, acc: 0.90922, val_loss: 0.96989, val_accuracy: 0.81004\n"
     ]
    },
    {
     "name": "stderr",
     "output_type": "stream",
     "text": [
      "100%|████████████████████████████████████████████████████████████████████████████████████| 4/4 [00:00<00:00, 10.75it/s]\n"
     ]
    },
    {
     "name": "stdout",
     "output_type": "stream",
     "text": [
      "epoch 326, loss: 0.28208, acc: 0.91048, val_loss: 0.86091, val_accuracy: 0.81477\n"
     ]
    },
    {
     "name": "stderr",
     "output_type": "stream",
     "text": [
      "100%|████████████████████████████████████████████████████████████████████████████████████| 4/4 [00:00<00:00, 10.96it/s]\n"
     ]
    },
    {
     "name": "stdout",
     "output_type": "stream",
     "text": [
      "epoch 327, loss: 0.28747, acc: 0.90954, val_loss: 0.90850, val_accuracy: 0.81188\n"
     ]
    },
    {
     "name": "stderr",
     "output_type": "stream",
     "text": [
      "100%|████████████████████████████████████████████████████████████████████████████████████| 4/4 [00:00<00:00, 10.75it/s]\n"
     ]
    },
    {
     "name": "stdout",
     "output_type": "stream",
     "text": [
      "epoch 328, loss: 0.28169, acc: 0.90995, val_loss: 0.97445, val_accuracy: 0.80872\n"
     ]
    },
    {
     "name": "stderr",
     "output_type": "stream",
     "text": [
      "100%|████████████████████████████████████████████████████████████████████████████████████| 4/4 [00:00<00:00,  8.30it/s]\n"
     ]
    },
    {
     "name": "stdout",
     "output_type": "stream",
     "text": [
      "epoch 329, loss: 0.27899, acc: 0.91162, val_loss: 0.91076, val_accuracy: 0.81319\n"
     ]
    },
    {
     "name": "stderr",
     "output_type": "stream",
     "text": [
      "100%|████████████████████████████████████████████████████████████████████████████████████| 4/4 [00:00<00:00, 10.10it/s]\n"
     ]
    },
    {
     "name": "stdout",
     "output_type": "stream",
     "text": [
      "epoch 330, loss: 0.27934, acc: 0.91048, val_loss: 0.89056, val_accuracy: 0.81450\n"
     ]
    },
    {
     "name": "stderr",
     "output_type": "stream",
     "text": [
      "100%|████████████████████████████████████████████████████████████████████████████████████| 4/4 [00:00<00:00,  9.92it/s]\n"
     ]
    },
    {
     "name": "stdout",
     "output_type": "stream",
     "text": [
      "epoch 331, loss: 0.28116, acc: 0.91071, val_loss: 0.96503, val_accuracy: 0.80977\n"
     ]
    },
    {
     "name": "stderr",
     "output_type": "stream",
     "text": [
      "100%|████████████████████████████████████████████████████████████████████████████████████| 4/4 [00:00<00:00,  7.47it/s]\n"
     ]
    },
    {
     "name": "stdout",
     "output_type": "stream",
     "text": [
      "epoch 332, loss: 0.28177, acc: 0.90899, val_loss: 0.94454, val_accuracy: 0.81083\n"
     ]
    },
    {
     "name": "stderr",
     "output_type": "stream",
     "text": [
      "100%|████████████████████████████████████████████████████████████████████████████████████| 4/4 [00:00<00:00,  8.69it/s]\n"
     ]
    },
    {
     "name": "stdout",
     "output_type": "stream",
     "text": [
      "epoch 333, loss: 0.28093, acc: 0.91022, val_loss: 0.86416, val_accuracy: 0.81739\n"
     ]
    },
    {
     "name": "stderr",
     "output_type": "stream",
     "text": [
      "100%|████████████████████████████████████████████████████████████████████████████████████| 4/4 [00:00<00:00,  8.49it/s]\n"
     ]
    },
    {
     "name": "stdout",
     "output_type": "stream",
     "text": [
      "epoch 334, loss: 0.28661, acc: 0.90969, val_loss: 0.93812, val_accuracy: 0.81083\n"
     ]
    },
    {
     "name": "stderr",
     "output_type": "stream",
     "text": [
      "100%|████████████████████████████████████████████████████████████████████████████████████| 4/4 [00:00<00:00,  7.98it/s]\n"
     ]
    },
    {
     "name": "stdout",
     "output_type": "stream",
     "text": [
      "epoch 335, loss: 0.28041, acc: 0.91036, val_loss: 0.97333, val_accuracy: 0.80899\n"
     ]
    },
    {
     "name": "stderr",
     "output_type": "stream",
     "text": [
      "100%|████████████████████████████████████████████████████████████████████████████████████| 4/4 [00:00<00:00,  8.58it/s]\n"
     ]
    },
    {
     "name": "stdout",
     "output_type": "stream",
     "text": [
      "epoch 336, loss: 0.27712, acc: 0.91138, val_loss: 0.90830, val_accuracy: 0.81345\n"
     ]
    },
    {
     "name": "stderr",
     "output_type": "stream",
     "text": [
      "100%|████████████████████████████████████████████████████████████████████████████████████| 4/4 [00:00<00:00,  7.95it/s]\n"
     ]
    },
    {
     "name": "stdout",
     "output_type": "stream",
     "text": [
      "epoch 337, loss: 0.27764, acc: 0.91144, val_loss: 0.92067, val_accuracy: 0.81266\n"
     ]
    },
    {
     "name": "stderr",
     "output_type": "stream",
     "text": [
      "100%|████████████████████████████████████████████████████████████████████████████████████| 4/4 [00:00<00:00,  6.91it/s]\n"
     ]
    },
    {
     "name": "stdout",
     "output_type": "stream",
     "text": [
      "epoch 338, loss: 0.27773, acc: 0.91077, val_loss: 0.97348, val_accuracy: 0.80899\n"
     ]
    },
    {
     "name": "stderr",
     "output_type": "stream",
     "text": [
      "100%|████████████████████████████████████████████████████████████████████████████████████| 4/4 [00:00<00:00,  8.67it/s]\n"
     ]
    },
    {
     "name": "stdout",
     "output_type": "stream",
     "text": [
      "epoch 339, loss: 0.27803, acc: 0.90966, val_loss: 0.94355, val_accuracy: 0.81109\n"
     ]
    },
    {
     "name": "stderr",
     "output_type": "stream",
     "text": [
      "100%|████████████████████████████████████████████████████████████████████████████████████| 4/4 [00:00<00:00,  7.43it/s]\n"
     ]
    },
    {
     "name": "stdout",
     "output_type": "stream",
     "text": [
      "epoch 340, loss: 0.27827, acc: 0.91165, val_loss: 0.88653, val_accuracy: 0.81766\n"
     ]
    },
    {
     "name": "stderr",
     "output_type": "stream",
     "text": [
      "100%|████████████████████████████████████████████████████████████████████████████████████| 4/4 [00:00<00:00,  6.92it/s]\n"
     ]
    },
    {
     "name": "stdout",
     "output_type": "stream",
     "text": [
      "epoch 341, loss: 0.28304, acc: 0.91036, val_loss: 0.96572, val_accuracy: 0.81109\n"
     ]
    },
    {
     "name": "stderr",
     "output_type": "stream",
     "text": [
      "100%|████████████████████████████████████████████████████████████████████████████████████| 4/4 [00:00<00:00,  8.99it/s]\n"
     ]
    },
    {
     "name": "stdout",
     "output_type": "stream",
     "text": [
      "epoch 342, loss: 0.27817, acc: 0.91060, val_loss: 0.98659, val_accuracy: 0.80899\n"
     ]
    },
    {
     "name": "stderr",
     "output_type": "stream",
     "text": [
      "100%|████████████████████████████████████████████████████████████████████████████████████| 4/4 [00:00<00:00,  9.03it/s]\n"
     ]
    },
    {
     "name": "stdout",
     "output_type": "stream",
     "text": [
      "epoch 343, loss: 0.27573, acc: 0.91124, val_loss: 0.91718, val_accuracy: 0.81372\n"
     ]
    },
    {
     "name": "stderr",
     "output_type": "stream",
     "text": [
      "100%|████████████████████████████████████████████████████████████████████████████████████| 4/4 [00:00<00:00,  7.31it/s]\n"
     ]
    },
    {
     "name": "stdout",
     "output_type": "stream",
     "text": [
      "epoch 344, loss: 0.27719, acc: 0.91179, val_loss: 0.94360, val_accuracy: 0.81214\n"
     ]
    },
    {
     "name": "stderr",
     "output_type": "stream",
     "text": [
      "100%|████████████████████████████████████████████████████████████████████████████████████| 4/4 [00:00<00:00,  7.59it/s]\n"
     ]
    },
    {
     "name": "stdout",
     "output_type": "stream",
     "text": [
      "epoch 345, loss: 0.27719, acc: 0.91027, val_loss: 0.99604, val_accuracy: 0.80793\n"
     ]
    },
    {
     "name": "stderr",
     "output_type": "stream",
     "text": [
      "100%|████████████████████████████████████████████████████████████████████████████████████| 4/4 [00:00<00:00,  9.90it/s]\n"
     ]
    },
    {
     "name": "stdout",
     "output_type": "stream",
     "text": [
      "epoch 346, loss: 0.27544, acc: 0.91115, val_loss: 0.93340, val_accuracy: 0.81135\n"
     ]
    },
    {
     "name": "stderr",
     "output_type": "stream",
     "text": [
      "100%|████████████████████████████████████████████████████████████████████████████████████| 4/4 [00:00<00:00,  7.84it/s]\n"
     ]
    },
    {
     "name": "stdout",
     "output_type": "stream",
     "text": [
      "epoch 347, loss: 0.27682, acc: 0.91147, val_loss: 0.90818, val_accuracy: 0.81687\n"
     ]
    },
    {
     "name": "stderr",
     "output_type": "stream",
     "text": [
      "100%|████████████████████████████████████████████████████████████████████████████████████| 4/4 [00:00<00:00,  9.90it/s]\n"
     ]
    },
    {
     "name": "stdout",
     "output_type": "stream",
     "text": [
      "epoch 348, loss: 0.27933, acc: 0.91103, val_loss: 0.99301, val_accuracy: 0.81083\n"
     ]
    },
    {
     "name": "stderr",
     "output_type": "stream",
     "text": [
      "100%|████████████████████████████████████████████████████████████████████████████████████| 4/4 [00:00<00:00,  8.64it/s]\n"
     ]
    },
    {
     "name": "stdout",
     "output_type": "stream",
     "text": [
      "epoch 349, loss: 0.27892, acc: 0.90963, val_loss: 1.01542, val_accuracy: 0.80872\n"
     ]
    },
    {
     "name": "stderr",
     "output_type": "stream",
     "text": [
      "100%|████████████████████████████████████████████████████████████████████████████████████| 4/4 [00:00<00:00,  6.63it/s]\n"
     ]
    },
    {
     "name": "stdout",
     "output_type": "stream",
     "text": [
      "epoch 350, loss: 0.27860, acc: 0.91080, val_loss: 0.89616, val_accuracy: 0.81739\n"
     ]
    },
    {
     "name": "stderr",
     "output_type": "stream",
     "text": [
      "100%|████████████████████████████████████████████████████████████████████████████████████| 4/4 [00:00<00:00, 10.41it/s]\n"
     ]
    },
    {
     "name": "stdout",
     "output_type": "stream",
     "text": [
      "epoch 351, loss: 0.28504, acc: 0.91013, val_loss: 0.97259, val_accuracy: 0.81109\n"
     ]
    },
    {
     "name": "stderr",
     "output_type": "stream",
     "text": [
      "100%|████████████████████████████████████████████████████████████████████████████████████| 4/4 [00:00<00:00,  9.60it/s]\n"
     ]
    },
    {
     "name": "stdout",
     "output_type": "stream",
     "text": [
      "epoch 352, loss: 0.27769, acc: 0.90998, val_loss: 0.99397, val_accuracy: 0.80767\n"
     ]
    },
    {
     "name": "stderr",
     "output_type": "stream",
     "text": [
      "100%|████████████████████████████████████████████████████████████████████████████████████| 4/4 [00:00<00:00,  9.73it/s]\n"
     ]
    },
    {
     "name": "stdout",
     "output_type": "stream",
     "text": [
      "epoch 353, loss: 0.27384, acc: 0.91229, val_loss: 0.94919, val_accuracy: 0.81293\n"
     ]
    },
    {
     "name": "stderr",
     "output_type": "stream",
     "text": [
      "100%|████████████████████████████████████████████████████████████████████████████████████| 4/4 [00:00<00:00,  6.19it/s]\n"
     ]
    },
    {
     "name": "stdout",
     "output_type": "stream",
     "text": [
      "epoch 354, loss: 0.27449, acc: 0.91191, val_loss: 0.93625, val_accuracy: 0.81398\n"
     ]
    },
    {
     "name": "stderr",
     "output_type": "stream",
     "text": [
      "100%|████████████████████████████████████████████████████████████████████████████████████| 4/4 [00:00<00:00,  9.97it/s]\n"
     ]
    },
    {
     "name": "stdout",
     "output_type": "stream",
     "text": [
      "epoch 355, loss: 0.27614, acc: 0.91150, val_loss: 1.01601, val_accuracy: 0.80741\n"
     ]
    },
    {
     "name": "stderr",
     "output_type": "stream",
     "text": [
      "100%|████████████████████████████████████████████████████████████████████████████████████| 4/4 [00:00<00:00,  7.74it/s]\n"
     ]
    },
    {
     "name": "stdout",
     "output_type": "stream",
     "text": [
      "epoch 356, loss: 0.27618, acc: 0.90987, val_loss: 0.97640, val_accuracy: 0.81083\n"
     ]
    },
    {
     "name": "stderr",
     "output_type": "stream",
     "text": [
      "100%|████████████████████████████████████████████████████████████████████████████████████| 4/4 [00:00<00:00,  9.92it/s]\n"
     ]
    },
    {
     "name": "stdout",
     "output_type": "stream",
     "text": [
      "epoch 357, loss: 0.27603, acc: 0.91238, val_loss: 0.91941, val_accuracy: 0.81503\n"
     ]
    },
    {
     "name": "stderr",
     "output_type": "stream",
     "text": [
      "100%|████████████████████████████████████████████████████████████████████████████████████| 4/4 [00:00<00:00,  9.30it/s]\n"
     ]
    },
    {
     "name": "stdout",
     "output_type": "stream",
     "text": [
      "epoch 358, loss: 0.28016, acc: 0.91115, val_loss: 0.99333, val_accuracy: 0.81030\n"
     ]
    },
    {
     "name": "stderr",
     "output_type": "stream",
     "text": [
      "100%|████████████████████████████████████████████████████████████████████████████████████| 4/4 [00:00<00:00,  6.56it/s]\n"
     ]
    },
    {
     "name": "stdout",
     "output_type": "stream",
     "text": [
      "epoch 359, loss: 0.27571, acc: 0.91071, val_loss: 1.03168, val_accuracy: 0.80899\n"
     ]
    },
    {
     "name": "stderr",
     "output_type": "stream",
     "text": [
      "100%|████████████████████████████████████████████████████████████████████████████████████| 4/4 [00:00<00:00,  9.01it/s]\n"
     ]
    },
    {
     "name": "stdout",
     "output_type": "stream",
     "text": [
      "epoch 360, loss: 0.27360, acc: 0.91191, val_loss: 0.95228, val_accuracy: 0.81450\n"
     ]
    },
    {
     "name": "stderr",
     "output_type": "stream",
     "text": [
      "100%|████████████████████████████████████████████████████████████████████████████████████| 4/4 [00:00<00:00,  9.01it/s]\n"
     ]
    },
    {
     "name": "stdout",
     "output_type": "stream",
     "text": [
      "epoch 361, loss: 0.27539, acc: 0.91200, val_loss: 0.96885, val_accuracy: 0.81188\n"
     ]
    },
    {
     "name": "stderr",
     "output_type": "stream",
     "text": [
      "100%|████████████████████████████████████████████████████████████████████████████████████| 4/4 [00:00<00:00,  9.26it/s]\n"
     ]
    },
    {
     "name": "stdout",
     "output_type": "stream",
     "text": [
      "epoch 362, loss: 0.27471, acc: 0.91109, val_loss: 1.02493, val_accuracy: 0.80688\n"
     ]
    },
    {
     "name": "stderr",
     "output_type": "stream",
     "text": [
      "100%|████████████████████████████████████████████████████████████████████████████████████| 4/4 [00:00<00:00,  8.91it/s]\n"
     ]
    },
    {
     "name": "stdout",
     "output_type": "stream",
     "text": [
      "epoch 363, loss: 0.27359, acc: 0.91045, val_loss: 0.99305, val_accuracy: 0.81083\n"
     ]
    },
    {
     "name": "stderr",
     "output_type": "stream",
     "text": [
      "100%|████████████████████████████████████████████████████████████████████████████████████| 4/4 [00:00<00:00,  9.13it/s]\n"
     ]
    },
    {
     "name": "stdout",
     "output_type": "stream",
     "text": [
      "epoch 364, loss: 0.27487, acc: 0.91261, val_loss: 0.92829, val_accuracy: 0.81661\n"
     ]
    },
    {
     "name": "stderr",
     "output_type": "stream",
     "text": [
      "100%|████████████████████████████████████████████████████████████████████████████████████| 4/4 [00:00<00:00,  7.21it/s]\n"
     ]
    },
    {
     "name": "stdout",
     "output_type": "stream",
     "text": [
      "epoch 365, loss: 0.28022, acc: 0.91115, val_loss: 1.02090, val_accuracy: 0.81030\n"
     ]
    },
    {
     "name": "stderr",
     "output_type": "stream",
     "text": [
      "100%|████████████████████████████████████████████████████████████████████████████████████| 4/4 [00:00<00:00,  8.33it/s]\n"
     ]
    },
    {
     "name": "stdout",
     "output_type": "stream",
     "text": [
      "epoch 366, loss: 0.27522, acc: 0.91098, val_loss: 1.02219, val_accuracy: 0.80846\n"
     ]
    },
    {
     "name": "stderr",
     "output_type": "stream",
     "text": [
      "100%|████████████████████████████████████████████████████████████████████████████████████| 4/4 [00:00<00:00,  5.64it/s]\n"
     ]
    },
    {
     "name": "stdout",
     "output_type": "stream",
     "text": [
      "epoch 367, loss: 0.27266, acc: 0.91217, val_loss: 0.96111, val_accuracy: 0.81319\n"
     ]
    },
    {
     "name": "stderr",
     "output_type": "stream",
     "text": [
      "100%|████████████████████████████████████████████████████████████████████████████████████| 4/4 [00:00<00:00,  8.09it/s]\n"
     ]
    },
    {
     "name": "stdout",
     "output_type": "stream",
     "text": [
      "epoch 368, loss: 0.27414, acc: 0.91217, val_loss: 0.98837, val_accuracy: 0.81135\n"
     ]
    },
    {
     "name": "stderr",
     "output_type": "stream",
     "text": [
      "100%|████████████████████████████████████████████████████████████████████████████████████| 4/4 [00:00<00:00, 10.44it/s]\n"
     ]
    },
    {
     "name": "stdout",
     "output_type": "stream",
     "text": [
      "epoch 369, loss: 0.27352, acc: 0.91127, val_loss: 1.04098, val_accuracy: 0.80715\n"
     ]
    },
    {
     "name": "stderr",
     "output_type": "stream",
     "text": [
      "100%|████████████████████████████████████████████████████████████████████████████████████| 4/4 [00:00<00:00, 10.69it/s]\n"
     ]
    },
    {
     "name": "stdout",
     "output_type": "stream",
     "text": [
      "epoch 370, loss: 0.27211, acc: 0.91176, val_loss: 0.99164, val_accuracy: 0.81056\n"
     ]
    },
    {
     "name": "stderr",
     "output_type": "stream",
     "text": [
      "100%|████████████████████████████████████████████████████████████████████████████████████| 4/4 [00:00<00:00, 10.58it/s]\n"
     ]
    },
    {
     "name": "stdout",
     "output_type": "stream",
     "text": [
      "epoch 371, loss: 0.27407, acc: 0.91258, val_loss: 0.95290, val_accuracy: 0.81687\n"
     ]
    },
    {
     "name": "stderr",
     "output_type": "stream",
     "text": [
      "100%|████████████████████████████████████████████████████████████████████████████████████| 4/4 [00:00<00:00, 10.36it/s]\n"
     ]
    },
    {
     "name": "stdout",
     "output_type": "stream",
     "text": [
      "epoch 372, loss: 0.27656, acc: 0.91197, val_loss: 1.03142, val_accuracy: 0.81004\n"
     ]
    },
    {
     "name": "stderr",
     "output_type": "stream",
     "text": [
      "100%|████████████████████████████████████████████████████████████████████████████████████| 4/4 [00:00<00:00,  9.26it/s]\n"
     ]
    },
    {
     "name": "stdout",
     "output_type": "stream",
     "text": [
      "epoch 373, loss: 0.27273, acc: 0.91144, val_loss: 1.06009, val_accuracy: 0.80899\n"
     ]
    },
    {
     "name": "stderr",
     "output_type": "stream",
     "text": [
      "100%|████████████████████████████████████████████████████████████████████████████████████| 4/4 [00:00<00:00,  7.02it/s]\n"
     ]
    },
    {
     "name": "stdout",
     "output_type": "stream",
     "text": [
      "epoch 374, loss: 0.27217, acc: 0.91203, val_loss: 0.97725, val_accuracy: 0.81266\n"
     ]
    },
    {
     "name": "stderr",
     "output_type": "stream",
     "text": [
      "100%|████████████████████████████████████████████████████████████████████████████████████| 4/4 [00:00<00:00, 10.23it/s]\n"
     ]
    },
    {
     "name": "stdout",
     "output_type": "stream",
     "text": [
      "epoch 375, loss: 0.27608, acc: 0.91214, val_loss: 0.99623, val_accuracy: 0.81161\n"
     ]
    },
    {
     "name": "stderr",
     "output_type": "stream",
     "text": [
      "100%|████████████████████████████████████████████████████████████████████████████████████| 4/4 [00:00<00:00,  9.83it/s]\n"
     ]
    },
    {
     "name": "stdout",
     "output_type": "stream",
     "text": [
      "epoch 376, loss: 0.27352, acc: 0.91147, val_loss: 1.02985, val_accuracy: 0.80899\n"
     ]
    },
    {
     "name": "stderr",
     "output_type": "stream",
     "text": [
      "100%|████████████████████████████████████████████████████████████████████████████████████| 4/4 [00:00<00:00,  7.68it/s]\n"
     ]
    },
    {
     "name": "stdout",
     "output_type": "stream",
     "text": [
      "epoch 377, loss: 0.26988, acc: 0.91246, val_loss: 1.05708, val_accuracy: 0.80977\n"
     ]
    },
    {
     "name": "stderr",
     "output_type": "stream",
     "text": [
      "100%|████████████████████████████████████████████████████████████████████████████████████| 4/4 [00:00<00:00,  9.97it/s]\n"
     ]
    },
    {
     "name": "stdout",
     "output_type": "stream",
     "text": [
      "epoch 378, loss: 0.27004, acc: 0.91270, val_loss: 0.97808, val_accuracy: 0.81372\n"
     ]
    },
    {
     "name": "stderr",
     "output_type": "stream",
     "text": [
      "100%|████████████████████████████████████████████████████████████████████████████████████| 4/4 [00:00<00:00,  8.91it/s]\n"
     ]
    },
    {
     "name": "stdout",
     "output_type": "stream",
     "text": [
      "epoch 379, loss: 0.27317, acc: 0.91194, val_loss: 1.02366, val_accuracy: 0.81056\n"
     ]
    },
    {
     "name": "stderr",
     "output_type": "stream",
     "text": [
      "100%|████████████████████████████████████████████████████████████████████████████████████| 4/4 [00:00<00:00,  6.58it/s]\n"
     ]
    },
    {
     "name": "stdout",
     "output_type": "stream",
     "text": [
      "epoch 380, loss: 0.27113, acc: 0.91197, val_loss: 1.03889, val_accuracy: 0.80899\n"
     ]
    },
    {
     "name": "stderr",
     "output_type": "stream",
     "text": [
      "100%|████████████████████████████████████████████████████████████████████████████████████| 4/4 [00:00<00:00,  9.54it/s]\n"
     ]
    },
    {
     "name": "stdout",
     "output_type": "stream",
     "text": [
      "epoch 381, loss: 0.26897, acc: 0.91305, val_loss: 0.99477, val_accuracy: 0.81240\n"
     ]
    },
    {
     "name": "stderr",
     "output_type": "stream",
     "text": [
      "100%|████████████████████████████████████████████████████████████████████████████████████| 4/4 [00:00<00:00,  9.45it/s]\n"
     ]
    },
    {
     "name": "stdout",
     "output_type": "stream",
     "text": [
      "epoch 382, loss: 0.27178, acc: 0.91217, val_loss: 0.99674, val_accuracy: 0.81240\n"
     ]
    },
    {
     "name": "stderr",
     "output_type": "stream",
     "text": [
      "100%|████████████████████████████████████████████████████████████████████████████████████| 4/4 [00:00<00:00,  7.90it/s]\n"
     ]
    },
    {
     "name": "stdout",
     "output_type": "stream",
     "text": [
      "epoch 383, loss: 0.27395, acc: 0.91133, val_loss: 1.10917, val_accuracy: 0.80662\n"
     ]
    },
    {
     "name": "stderr",
     "output_type": "stream",
     "text": [
      "100%|████████████████████████████████████████████████████████████████████████████████████| 4/4 [00:00<00:00,  9.58it/s]\n"
     ]
    },
    {
     "name": "stdout",
     "output_type": "stream",
     "text": [
      "epoch 384, loss: 0.27316, acc: 0.91232, val_loss: 1.01594, val_accuracy: 0.81030\n"
     ]
    },
    {
     "name": "stderr",
     "output_type": "stream",
     "text": [
      "100%|████████████████████████████████████████████████████████████████████████████████████| 4/4 [00:00<00:00,  7.71it/s]\n"
     ]
    },
    {
     "name": "stdout",
     "output_type": "stream",
     "text": [
      "epoch 385, loss: 0.27368, acc: 0.91246, val_loss: 0.98444, val_accuracy: 0.81424\n"
     ]
    },
    {
     "name": "stderr",
     "output_type": "stream",
     "text": [
      "100%|████████████████████████████████████████████████████████████████████████████████████| 4/4 [00:00<00:00,  6.57it/s]\n"
     ]
    },
    {
     "name": "stdout",
     "output_type": "stream",
     "text": [
      "epoch 386, loss: 0.27592, acc: 0.91168, val_loss: 1.05692, val_accuracy: 0.81056\n"
     ]
    },
    {
     "name": "stderr",
     "output_type": "stream",
     "text": [
      "100%|████████████████████████████████████████████████████████████████████████████████████| 4/4 [00:00<00:00,  7.71it/s]\n"
     ]
    },
    {
     "name": "stdout",
     "output_type": "stream",
     "text": [
      "epoch 387, loss: 0.28048, acc: 0.90987, val_loss: 1.14098, val_accuracy: 0.80268\n"
     ]
    },
    {
     "name": "stderr",
     "output_type": "stream",
     "text": [
      "100%|████████████████████████████████████████████████████████████████████████████████████| 4/4 [00:00<00:00,  8.85it/s]\n"
     ]
    },
    {
     "name": "stdout",
     "output_type": "stream",
     "text": [
      "epoch 388, loss: 0.28156, acc: 0.91103, val_loss: 0.95791, val_accuracy: 0.81766\n"
     ]
    },
    {
     "name": "stderr",
     "output_type": "stream",
     "text": [
      "100%|████████████████████████████████████████████████████████████████████████████████████| 4/4 [00:00<00:00,  8.67it/s]\n"
     ]
    },
    {
     "name": "stdout",
     "output_type": "stream",
     "text": [
      "epoch 389, loss: 0.28942, acc: 0.91004, val_loss: 1.00681, val_accuracy: 0.81161\n"
     ]
    },
    {
     "name": "stderr",
     "output_type": "stream",
     "text": [
      "100%|████████████████████████████████████████████████████████████████████████████████████| 4/4 [00:00<00:00,  7.35it/s]\n"
     ]
    },
    {
     "name": "stdout",
     "output_type": "stream",
     "text": [
      "epoch 390, loss: 0.27760, acc: 0.91068, val_loss: 1.10038, val_accuracy: 0.80583\n"
     ]
    },
    {
     "name": "stderr",
     "output_type": "stream",
     "text": [
      "100%|████████████████████████████████████████████████████████████████████████████████████| 4/4 [00:00<00:00,  7.14it/s]\n"
     ]
    },
    {
     "name": "stdout",
     "output_type": "stream",
     "text": [
      "epoch 391, loss: 0.27425, acc: 0.91165, val_loss: 1.00947, val_accuracy: 0.81319\n"
     ]
    },
    {
     "name": "stderr",
     "output_type": "stream",
     "text": [
      "100%|████████████████████████████████████████████████████████████████████████████████████| 4/4 [00:00<00:00,  7.35it/s]\n"
     ]
    },
    {
     "name": "stdout",
     "output_type": "stream",
     "text": [
      "epoch 392, loss: 0.27552, acc: 0.91182, val_loss: 1.01976, val_accuracy: 0.81083\n"
     ]
    },
    {
     "name": "stderr",
     "output_type": "stream",
     "text": [
      "100%|████████████████████████████████████████████████████████████████████████████████████| 4/4 [00:00<00:00,  7.69it/s]\n"
     ]
    },
    {
     "name": "stdout",
     "output_type": "stream",
     "text": [
      "epoch 393, loss: 0.27156, acc: 0.91206, val_loss: 1.07700, val_accuracy: 0.80820\n"
     ]
    },
    {
     "name": "stderr",
     "output_type": "stream",
     "text": [
      "100%|████████████████████████████████████████████████████████████████████████████████████| 4/4 [00:00<00:00, 10.12it/s]\n"
     ]
    },
    {
     "name": "stdout",
     "output_type": "stream",
     "text": [
      "epoch 394, loss: 0.27245, acc: 0.91179, val_loss: 1.04737, val_accuracy: 0.81030\n"
     ]
    },
    {
     "name": "stderr",
     "output_type": "stream",
     "text": [
      "100%|████████████████████████████████████████████████████████████████████████████████████| 4/4 [00:00<00:00,  7.92it/s]\n"
     ]
    },
    {
     "name": "stdout",
     "output_type": "stream",
     "text": [
      "epoch 395, loss: 0.27070, acc: 0.91279, val_loss: 1.00099, val_accuracy: 0.81161\n"
     ]
    },
    {
     "name": "stderr",
     "output_type": "stream",
     "text": [
      "100%|████████████████████████████████████████████████████████████████████████████████████| 4/4 [00:00<00:00,  9.95it/s]\n"
     ]
    },
    {
     "name": "stdout",
     "output_type": "stream",
     "text": [
      "epoch 396, loss: 0.27421, acc: 0.91188, val_loss: 1.06971, val_accuracy: 0.80951\n"
     ]
    },
    {
     "name": "stderr",
     "output_type": "stream",
     "text": [
      "100%|████████████████████████████████████████████████████████████████████████████████████| 4/4 [00:00<00:00,  9.07it/s]\n"
     ]
    },
    {
     "name": "stdout",
     "output_type": "stream",
     "text": [
      "epoch 397, loss: 0.26967, acc: 0.91252, val_loss: 1.04861, val_accuracy: 0.80925\n"
     ]
    },
    {
     "name": "stderr",
     "output_type": "stream",
     "text": [
      "100%|████████████████████████████████████████████████████████████████████████████████████| 4/4 [00:00<00:00,  8.64it/s]\n"
     ]
    },
    {
     "name": "stdout",
     "output_type": "stream",
     "text": [
      "epoch 398, loss: 0.26791, acc: 0.91366, val_loss: 1.03276, val_accuracy: 0.81056\n"
     ]
    },
    {
     "name": "stderr",
     "output_type": "stream",
     "text": [
      "100%|████████████████████████████████████████████████████████████████████████████████████| 4/4 [00:00<00:00,  8.64it/s]\n"
     ]
    },
    {
     "name": "stdout",
     "output_type": "stream",
     "text": [
      "epoch 399, loss: 0.26842, acc: 0.91281, val_loss: 1.07196, val_accuracy: 0.80977\n"
     ]
    },
    {
     "name": "stderr",
     "output_type": "stream",
     "text": [
      "100%|████████████████████████████████████████████████████████████████████████████████████| 4/4 [00:00<00:00,  8.73it/s]\n"
     ]
    },
    {
     "name": "stdout",
     "output_type": "stream",
     "text": [
      "epoch 400, loss: 0.26678, acc: 0.91264, val_loss: 1.07328, val_accuracy: 0.80925\n"
     ]
    },
    {
     "name": "stderr",
     "output_type": "stream",
     "text": [
      "100%|████████████████████████████████████████████████████████████████████████████████████| 4/4 [00:00<00:00,  7.23it/s]\n"
     ]
    },
    {
     "name": "stdout",
     "output_type": "stream",
     "text": [
      "epoch 401, loss: 0.26668, acc: 0.91267, val_loss: 1.04965, val_accuracy: 0.80951\n"
     ]
    },
    {
     "name": "stderr",
     "output_type": "stream",
     "text": [
      "100%|████████████████████████████████████████████████████████████████████████████████████| 4/4 [00:00<00:00,  8.95it/s]\n"
     ]
    },
    {
     "name": "stdout",
     "output_type": "stream",
     "text": [
      "epoch 402, loss: 0.26902, acc: 0.91296, val_loss: 1.01814, val_accuracy: 0.81188\n"
     ]
    },
    {
     "name": "stderr",
     "output_type": "stream",
     "text": [
      "100%|████████████████████████████████████████████████████████████████████████████████████| 4/4 [00:00<00:00,  9.01it/s]\n"
     ]
    },
    {
     "name": "stdout",
     "output_type": "stream",
     "text": [
      "epoch 403, loss: 0.27103, acc: 0.91235, val_loss: 1.08899, val_accuracy: 0.80872\n"
     ]
    },
    {
     "name": "stderr",
     "output_type": "stream",
     "text": [
      "100%|████████████████████████████████████████████████████████████████████████████████████| 4/4 [00:00<00:00,  7.18it/s]\n"
     ]
    },
    {
     "name": "stdout",
     "output_type": "stream",
     "text": [
      "epoch 404, loss: 0.26763, acc: 0.91302, val_loss: 1.08449, val_accuracy: 0.80977\n"
     ]
    },
    {
     "name": "stderr",
     "output_type": "stream",
     "text": [
      "100%|████████████████████████████████████████████████████████████████████████████████████| 4/4 [00:00<00:00,  8.67it/s]\n"
     ]
    },
    {
     "name": "stdout",
     "output_type": "stream",
     "text": [
      "epoch 405, loss: 0.26677, acc: 0.91390, val_loss: 1.03397, val_accuracy: 0.81083\n"
     ]
    },
    {
     "name": "stderr",
     "output_type": "stream",
     "text": [
      "100%|████████████████████████████████████████████████████████████████████████████████████| 4/4 [00:00<00:00,  8.79it/s]\n"
     ]
    },
    {
     "name": "stdout",
     "output_type": "stream",
     "text": [
      "epoch 406, loss: 0.26853, acc: 0.91308, val_loss: 1.06968, val_accuracy: 0.80977\n"
     ]
    },
    {
     "name": "stderr",
     "output_type": "stream",
     "text": [
      "100%|████████████████████████████████████████████████████████████████████████████████████| 4/4 [00:00<00:00,  8.89it/s]\n"
     ]
    },
    {
     "name": "stdout",
     "output_type": "stream",
     "text": [
      "epoch 407, loss: 0.26964, acc: 0.91153, val_loss: 1.14151, val_accuracy: 0.80662\n"
     ]
    },
    {
     "name": "stderr",
     "output_type": "stream",
     "text": [
      "100%|████████████████████████████████████████████████████████████████████████████████████| 4/4 [00:00<00:00,  9.02it/s]\n"
     ]
    },
    {
     "name": "stdout",
     "output_type": "stream",
     "text": [
      "epoch 408, loss: 0.27018, acc: 0.91322, val_loss: 1.02022, val_accuracy: 0.81214\n"
     ]
    },
    {
     "name": "stderr",
     "output_type": "stream",
     "text": [
      "100%|████████████████████████████████████████████████████████████████████████████████████| 4/4 [00:00<00:00,  9.05it/s]\n"
     ]
    },
    {
     "name": "stdout",
     "output_type": "stream",
     "text": [
      "epoch 409, loss: 0.27619, acc: 0.91173, val_loss: 1.02590, val_accuracy: 0.81240\n"
     ]
    },
    {
     "name": "stderr",
     "output_type": "stream",
     "text": [
      "100%|████████████████████████████████████████████████████████████████████████████████████| 4/4 [00:00<00:00,  7.31it/s]\n"
     ]
    },
    {
     "name": "stdout",
     "output_type": "stream",
     "text": [
      "epoch 410, loss: 0.27357, acc: 0.91147, val_loss: 1.12382, val_accuracy: 0.80688\n"
     ]
    },
    {
     "name": "stderr",
     "output_type": "stream",
     "text": [
      "100%|████████████████████████████████████████████████████████████████████████████████████| 4/4 [00:00<00:00,  8.62it/s]\n"
     ]
    },
    {
     "name": "stdout",
     "output_type": "stream",
     "text": [
      "epoch 411, loss: 0.27037, acc: 0.91203, val_loss: 1.11050, val_accuracy: 0.81030\n"
     ]
    },
    {
     "name": "stderr",
     "output_type": "stream",
     "text": [
      "100%|████████████████████████████████████████████████████████████████████████████████████| 4/4 [00:00<00:00,  8.75it/s]\n"
     ]
    },
    {
     "name": "stdout",
     "output_type": "stream",
     "text": [
      "epoch 412, loss: 0.27060, acc: 0.91238, val_loss: 1.01285, val_accuracy: 0.81713\n"
     ]
    },
    {
     "name": "stderr",
     "output_type": "stream",
     "text": [
      "100%|████████████████████████████████████████████████████████████████████████████████████| 4/4 [00:00<00:00,  6.70it/s]\n"
     ]
    },
    {
     "name": "stdout",
     "output_type": "stream",
     "text": [
      "epoch 413, loss: 0.27606, acc: 0.91191, val_loss: 1.08390, val_accuracy: 0.80977\n"
     ]
    },
    {
     "name": "stderr",
     "output_type": "stream",
     "text": [
      "100%|████████████████████████████████████████████████████████████████████████████████████| 4/4 [00:00<00:00,  8.97it/s]\n"
     ]
    },
    {
     "name": "stdout",
     "output_type": "stream",
     "text": [
      "epoch 414, loss: 0.26936, acc: 0.91223, val_loss: 1.09689, val_accuracy: 0.80820\n"
     ]
    },
    {
     "name": "stderr",
     "output_type": "stream",
     "text": [
      "100%|████████████████████████████████████████████████████████████████████████████████████| 4/4 [00:00<00:00,  8.81it/s]\n"
     ]
    },
    {
     "name": "stdout",
     "output_type": "stream",
     "text": [
      "epoch 415, loss: 0.26651, acc: 0.91384, val_loss: 1.05210, val_accuracy: 0.81056\n"
     ]
    },
    {
     "name": "stderr",
     "output_type": "stream",
     "text": [
      "100%|████████████████████████████████████████████████████████████████████████████████████| 4/4 [00:00<00:00,  8.40it/s]\n"
     ]
    },
    {
     "name": "stdout",
     "output_type": "stream",
     "text": [
      "epoch 416, loss: 0.26875, acc: 0.91284, val_loss: 1.04834, val_accuracy: 0.81056\n"
     ]
    },
    {
     "name": "stderr",
     "output_type": "stream",
     "text": [
      "100%|████████████████████████████████████████████████████████████████████████████████████| 4/4 [00:00<00:00,  7.49it/s]\n"
     ]
    },
    {
     "name": "stdout",
     "output_type": "stream",
     "text": [
      "epoch 417, loss: 0.26813, acc: 0.91244, val_loss: 1.09830, val_accuracy: 0.80872\n"
     ]
    },
    {
     "name": "stderr",
     "output_type": "stream",
     "text": [
      "100%|████████████████████████████████████████████████████████████████████████████████████| 4/4 [00:00<00:00,  7.46it/s]\n"
     ]
    },
    {
     "name": "stdout",
     "output_type": "stream",
     "text": [
      "epoch 418, loss: 0.26795, acc: 0.91249, val_loss: 1.11559, val_accuracy: 0.81004\n"
     ]
    },
    {
     "name": "stderr",
     "output_type": "stream",
     "text": [
      "100%|████████████████████████████████████████████████████████████████████████████████████| 4/4 [00:00<00:00,  5.83it/s]\n"
     ]
    },
    {
     "name": "stdout",
     "output_type": "stream",
     "text": [
      "epoch 419, loss: 0.26907, acc: 0.91287, val_loss: 1.01617, val_accuracy: 0.81319\n"
     ]
    },
    {
     "name": "stderr",
     "output_type": "stream",
     "text": [
      "100%|████████████████████████████████████████████████████████████████████████████████████| 4/4 [00:00<00:00,  7.46it/s]\n"
     ]
    },
    {
     "name": "stdout",
     "output_type": "stream",
     "text": [
      "epoch 420, loss: 0.27505, acc: 0.91317, val_loss: 1.10097, val_accuracy: 0.81004\n"
     ]
    },
    {
     "name": "stderr",
     "output_type": "stream",
     "text": [
      "100%|████████████████████████████████████████████████████████████████████████████████████| 4/4 [00:00<00:00,  8.11it/s]\n"
     ]
    },
    {
     "name": "stdout",
     "output_type": "stream",
     "text": [
      "epoch 421, loss: 0.26874, acc: 0.91249, val_loss: 1.12968, val_accuracy: 0.80820\n"
     ]
    },
    {
     "name": "stderr",
     "output_type": "stream",
     "text": [
      "100%|████████████████████████████████████████████████████████████████████████████████████| 4/4 [00:00<00:00,  5.10it/s]\n"
     ]
    },
    {
     "name": "stdout",
     "output_type": "stream",
     "text": [
      "epoch 422, loss: 0.26547, acc: 0.91477, val_loss: 1.07477, val_accuracy: 0.81056\n"
     ]
    },
    {
     "name": "stderr",
     "output_type": "stream",
     "text": [
      "100%|████████████████████████████████████████████████████████████████████████████████████| 4/4 [00:00<00:00,  9.37it/s]\n"
     ]
    },
    {
     "name": "stdout",
     "output_type": "stream",
     "text": [
      "epoch 423, loss: 0.26697, acc: 0.91331, val_loss: 1.07145, val_accuracy: 0.81030\n"
     ]
    },
    {
     "name": "stderr",
     "output_type": "stream",
     "text": [
      "100%|████████████████████████████████████████████████████████████████████████████████████| 4/4 [00:00<00:00,  9.31it/s]\n"
     ]
    },
    {
     "name": "stdout",
     "output_type": "stream",
     "text": [
      "epoch 424, loss: 0.26638, acc: 0.91279, val_loss: 1.13631, val_accuracy: 0.80767\n"
     ]
    },
    {
     "name": "stderr",
     "output_type": "stream",
     "text": [
      "100%|████████████████████████████████████████████████████████████████████████████████████| 4/4 [00:00<00:00,  9.11it/s]\n"
     ]
    },
    {
     "name": "stdout",
     "output_type": "stream",
     "text": [
      "epoch 425, loss: 0.26822, acc: 0.91284, val_loss: 1.11456, val_accuracy: 0.80977\n"
     ]
    },
    {
     "name": "stderr",
     "output_type": "stream",
     "text": [
      "100%|████████████████████████████████████████████████████████████████████████████████████| 4/4 [00:00<00:00,  9.15it/s]\n"
     ]
    },
    {
     "name": "stdout",
     "output_type": "stream",
     "text": [
      "epoch 426, loss: 0.26838, acc: 0.91319, val_loss: 1.01840, val_accuracy: 0.81608\n"
     ]
    },
    {
     "name": "stderr",
     "output_type": "stream",
     "text": [
      "100%|████████████████████████████████████████████████████████████████████████████████████| 4/4 [00:00<00:00,  9.68it/s]\n"
     ]
    },
    {
     "name": "stdout",
     "output_type": "stream",
     "text": [
      "epoch 427, loss: 0.27487, acc: 0.91296, val_loss: 1.09946, val_accuracy: 0.80977\n"
     ]
    },
    {
     "name": "stderr",
     "output_type": "stream",
     "text": [
      "100%|████████████████████████████████████████████████████████████████████████████████████| 4/4 [00:00<00:00,  7.34it/s]\n"
     ]
    },
    {
     "name": "stdout",
     "output_type": "stream",
     "text": [
      "epoch 428, loss: 0.26827, acc: 0.91276, val_loss: 1.13556, val_accuracy: 0.80820\n"
     ]
    },
    {
     "name": "stderr",
     "output_type": "stream",
     "text": [
      "100%|████████████████████████████████████████████████████████████████████████████████████| 4/4 [00:00<00:00,  9.45it/s]\n"
     ]
    },
    {
     "name": "stdout",
     "output_type": "stream",
     "text": [
      "epoch 429, loss: 0.26554, acc: 0.91515, val_loss: 1.06707, val_accuracy: 0.81135\n"
     ]
    },
    {
     "name": "stderr",
     "output_type": "stream",
     "text": [
      "100%|████████████████████████████████████████████████████████████████████████████████████| 4/4 [00:00<00:00,  9.59it/s]\n"
     ]
    },
    {
     "name": "stdout",
     "output_type": "stream",
     "text": [
      "epoch 430, loss: 0.26760, acc: 0.91331, val_loss: 1.07955, val_accuracy: 0.81056\n"
     ]
    },
    {
     "name": "stderr",
     "output_type": "stream",
     "text": [
      "100%|████████████████████████████████████████████████████████████████████████████████████| 4/4 [00:00<00:00,  7.34it/s]\n"
     ]
    },
    {
     "name": "stdout",
     "output_type": "stream",
     "text": [
      "epoch 431, loss: 0.26666, acc: 0.91273, val_loss: 1.16022, val_accuracy: 0.80688\n"
     ]
    },
    {
     "name": "stderr",
     "output_type": "stream",
     "text": [
      "100%|████████████████████████████████████████████████████████████████████████████████████| 4/4 [00:00<00:00,  8.69it/s]\n"
     ]
    },
    {
     "name": "stdout",
     "output_type": "stream",
     "text": [
      "epoch 432, loss: 0.26900, acc: 0.91276, val_loss: 1.12286, val_accuracy: 0.80977\n"
     ]
    },
    {
     "name": "stderr",
     "output_type": "stream",
     "text": [
      "100%|████████████████████████████████████████████████████████████████████████████████████| 4/4 [00:00<00:00,  8.79it/s]\n"
     ]
    },
    {
     "name": "stdout",
     "output_type": "stream",
     "text": [
      "epoch 433, loss: 0.26939, acc: 0.91284, val_loss: 1.02717, val_accuracy: 0.81713\n"
     ]
    },
    {
     "name": "stderr",
     "output_type": "stream",
     "text": [
      "100%|████████████████████████████████████████████████████████████████████████████████████| 4/4 [00:00<00:00,  8.38it/s]\n"
     ]
    },
    {
     "name": "stdout",
     "output_type": "stream",
     "text": [
      "epoch 434, loss: 0.27591, acc: 0.91267, val_loss: 1.12326, val_accuracy: 0.80951\n"
     ]
    },
    {
     "name": "stderr",
     "output_type": "stream",
     "text": [
      "100%|████████████████████████████████████████████████████████████████████████████████████| 4/4 [00:00<00:00,  7.49it/s]\n"
     ]
    },
    {
     "name": "stdout",
     "output_type": "stream",
     "text": [
      "epoch 435, loss: 0.26857, acc: 0.91252, val_loss: 1.14381, val_accuracy: 0.80846\n"
     ]
    },
    {
     "name": "stderr",
     "output_type": "stream",
     "text": [
      "100%|████████████████████████████████████████████████████████████████████████████████████| 4/4 [00:00<00:00,  8.62it/s]\n"
     ]
    },
    {
     "name": "stdout",
     "output_type": "stream",
     "text": [
      "epoch 436, loss: 0.26540, acc: 0.91515, val_loss: 1.07669, val_accuracy: 0.81083\n"
     ]
    },
    {
     "name": "stderr",
     "output_type": "stream",
     "text": [
      "100%|████████████████████████████████████████████████████████████████████████████████████| 4/4 [00:00<00:00,  6.92it/s]\n"
     ]
    },
    {
     "name": "stdout",
     "output_type": "stream",
     "text": [
      "epoch 437, loss: 0.26744, acc: 0.91328, val_loss: 1.10914, val_accuracy: 0.81056\n"
     ]
    },
    {
     "name": "stderr",
     "output_type": "stream",
     "text": [
      "100%|████████████████████████████████████████████████████████████████████████████████████| 4/4 [00:00<00:00,  8.87it/s]\n"
     ]
    },
    {
     "name": "stdout",
     "output_type": "stream",
     "text": [
      "epoch 438, loss: 0.26521, acc: 0.91197, val_loss: 1.15789, val_accuracy: 0.80662\n"
     ]
    },
    {
     "name": "stderr",
     "output_type": "stream",
     "text": [
      "100%|████████████████████████████████████████████████████████████████████████████████████| 4/4 [00:00<00:00,  6.94it/s]\n"
     ]
    },
    {
     "name": "stdout",
     "output_type": "stream",
     "text": [
      "epoch 439, loss: 0.26578, acc: 0.91404, val_loss: 1.11190, val_accuracy: 0.80951\n"
     ]
    },
    {
     "name": "stderr",
     "output_type": "stream",
     "text": [
      "100%|████████████████████████████████████████████████████████████████████████████████████| 4/4 [00:00<00:00,  6.69it/s]\n"
     ]
    },
    {
     "name": "stdout",
     "output_type": "stream",
     "text": [
      "epoch 440, loss: 0.26728, acc: 0.91419, val_loss: 1.04717, val_accuracy: 0.81293\n"
     ]
    },
    {
     "name": "stderr",
     "output_type": "stream",
     "text": [
      "100%|████████████████████████████████████████████████████████████████████████████████████| 4/4 [00:00<00:00,  8.91it/s]\n"
     ]
    },
    {
     "name": "stdout",
     "output_type": "stream",
     "text": [
      "epoch 441, loss: 0.27075, acc: 0.91314, val_loss: 1.14004, val_accuracy: 0.80820\n"
     ]
    },
    {
     "name": "stderr",
     "output_type": "stream",
     "text": [
      "100%|████████████████████████████████████████████████████████████████████████████████████| 4/4 [00:00<00:00,  8.91it/s]\n"
     ]
    },
    {
     "name": "stdout",
     "output_type": "stream",
     "text": [
      "epoch 442, loss: 0.26612, acc: 0.91334, val_loss: 1.12750, val_accuracy: 0.80977\n"
     ]
    },
    {
     "name": "stderr",
     "output_type": "stream",
     "text": [
      "100%|████████████████████████████████████████████████████████████████████████████████████| 4/4 [00:00<00:00,  8.26it/s]\n"
     ]
    },
    {
     "name": "stdout",
     "output_type": "stream",
     "text": [
      "epoch 443, loss: 0.26463, acc: 0.91515, val_loss: 1.07641, val_accuracy: 0.81240\n"
     ]
    },
    {
     "name": "stderr",
     "output_type": "stream",
     "text": [
      "100%|████████████████████████████████████████████████████████████████████████████████████| 4/4 [00:00<00:00,  7.42it/s]\n"
     ]
    },
    {
     "name": "stdout",
     "output_type": "stream",
     "text": [
      "epoch 444, loss: 0.26690, acc: 0.91349, val_loss: 1.13431, val_accuracy: 0.81004\n"
     ]
    },
    {
     "name": "stderr",
     "output_type": "stream",
     "text": [
      "100%|████████████████████████████████████████████████████████████████████████████████████| 4/4 [00:00<00:00,  8.56it/s]\n"
     ]
    },
    {
     "name": "stdout",
     "output_type": "stream",
     "text": [
      "epoch 445, loss: 0.26408, acc: 0.91290, val_loss: 1.16772, val_accuracy: 0.80767\n"
     ]
    },
    {
     "name": "stderr",
     "output_type": "stream",
     "text": [
      "100%|████████████████████████████████████████████████████████████████████████████████████| 4/4 [00:00<00:00,  6.87it/s]\n"
     ]
    },
    {
     "name": "stdout",
     "output_type": "stream",
     "text": [
      "epoch 446, loss: 0.26390, acc: 0.91354, val_loss: 1.10181, val_accuracy: 0.81056\n"
     ]
    },
    {
     "name": "stderr",
     "output_type": "stream",
     "text": [
      "100%|████████████████████████████████████████████████████████████████████████████████████| 4/4 [00:00<00:00,  9.19it/s]\n"
     ]
    },
    {
     "name": "stdout",
     "output_type": "stream",
     "text": [
      "epoch 447, loss: 0.26776, acc: 0.91352, val_loss: 1.07251, val_accuracy: 0.81135\n"
     ]
    },
    {
     "name": "stderr",
     "output_type": "stream",
     "text": [
      "100%|████████████████████████████████████████████████████████████████████████████████████| 4/4 [00:00<00:00,  7.83it/s]\n"
     ]
    },
    {
     "name": "stdout",
     "output_type": "stream",
     "text": [
      "epoch 448, loss: 0.26724, acc: 0.91349, val_loss: 1.15309, val_accuracy: 0.80715\n"
     ]
    },
    {
     "name": "stderr",
     "output_type": "stream",
     "text": [
      "100%|████████████████████████████████████████████████████████████████████████████████████| 4/4 [00:00<00:00,  6.40it/s]\n"
     ]
    },
    {
     "name": "stdout",
     "output_type": "stream",
     "text": [
      "epoch 449, loss: 0.26326, acc: 0.91430, val_loss: 1.15072, val_accuracy: 0.80925\n"
     ]
    },
    {
     "name": "stderr",
     "output_type": "stream",
     "text": [
      "100%|████████████████████████████████████████████████████████████████████████████████████| 4/4 [00:00<00:00,  8.51it/s]\n"
     ]
    },
    {
     "name": "stdout",
     "output_type": "stream",
     "text": [
      "epoch 450, loss: 0.26350, acc: 0.91465, val_loss: 1.07900, val_accuracy: 0.81293\n"
     ]
    },
    {
     "name": "stderr",
     "output_type": "stream",
     "text": [
      "100%|████████████████████████████████████████████████████████████████████████████████████| 4/4 [00:00<00:00,  8.40it/s]\n"
     ]
    },
    {
     "name": "stdout",
     "output_type": "stream",
     "text": [
      "epoch 451, loss: 0.26759, acc: 0.91372, val_loss: 1.15810, val_accuracy: 0.80925\n"
     ]
    },
    {
     "name": "stderr",
     "output_type": "stream",
     "text": [
      "100%|████████████████████████████████████████████████████████████████████████████████████| 4/4 [00:00<00:00,  8.26it/s]\n"
     ]
    },
    {
     "name": "stdout",
     "output_type": "stream",
     "text": [
      "epoch 452, loss: 0.26735, acc: 0.91241, val_loss: 1.16673, val_accuracy: 0.80793\n"
     ]
    },
    {
     "name": "stderr",
     "output_type": "stream",
     "text": [
      "100%|████████████████████████████████████████████████████████████████████████████████████| 4/4 [00:00<00:00,  7.69it/s]\n"
     ]
    },
    {
     "name": "stdout",
     "output_type": "stream",
     "text": [
      "epoch 453, loss: 0.26487, acc: 0.91468, val_loss: 1.08105, val_accuracy: 0.81293\n"
     ]
    },
    {
     "name": "stderr",
     "output_type": "stream",
     "text": [
      "100%|████████████████████████████████████████████████████████████████████████████████████| 4/4 [00:00<00:00,  8.71it/s]\n"
     ]
    },
    {
     "name": "stdout",
     "output_type": "stream",
     "text": [
      "epoch 454, loss: 0.27111, acc: 0.91299, val_loss: 1.11834, val_accuracy: 0.81004\n"
     ]
    },
    {
     "name": "stderr",
     "output_type": "stream",
     "text": [
      "100%|████████████████████████████████████████████████████████████████████████████████████| 4/4 [00:00<00:00,  6.99it/s]\n"
     ]
    },
    {
     "name": "stdout",
     "output_type": "stream",
     "text": [
      "epoch 455, loss: 0.26600, acc: 0.91293, val_loss: 1.20585, val_accuracy: 0.80583\n"
     ]
    },
    {
     "name": "stderr",
     "output_type": "stream",
     "text": [
      "100%|████████████████████████████████████████████████████████████████████████████████████| 4/4 [00:00<00:00,  8.64it/s]\n"
     ]
    },
    {
     "name": "stdout",
     "output_type": "stream",
     "text": [
      "epoch 456, loss: 0.26430, acc: 0.91483, val_loss: 1.13221, val_accuracy: 0.81083\n"
     ]
    },
    {
     "name": "stderr",
     "output_type": "stream",
     "text": [
      "100%|████████████████████████████████████████████████████████████████████████████████████| 4/4 [00:00<00:00,  7.08it/s]\n"
     ]
    },
    {
     "name": "stdout",
     "output_type": "stream",
     "text": [
      "epoch 457, loss: 0.26502, acc: 0.91419, val_loss: 1.10239, val_accuracy: 0.81083\n"
     ]
    },
    {
     "name": "stderr",
     "output_type": "stream",
     "text": [
      "100%|████████████████████████████████████████████████████████████████████████████████████| 4/4 [00:00<00:00,  6.70it/s]\n"
     ]
    },
    {
     "name": "stdout",
     "output_type": "stream",
     "text": [
      "epoch 458, loss: 0.26647, acc: 0.91331, val_loss: 1.18407, val_accuracy: 0.80741\n"
     ]
    },
    {
     "name": "stderr",
     "output_type": "stream",
     "text": [
      "100%|████████████████████████████████████████████████████████████████████████████████████| 4/4 [00:00<00:00,  8.44it/s]\n"
     ]
    },
    {
     "name": "stdout",
     "output_type": "stream",
     "text": [
      "epoch 459, loss: 0.26827, acc: 0.91229, val_loss: 1.16302, val_accuracy: 0.80846\n"
     ]
    },
    {
     "name": "stderr",
     "output_type": "stream",
     "text": [
      "100%|████████████████████████████████████████████████████████████████████████████████████| 4/4 [00:00<00:00,  8.21it/s]\n"
     ]
    },
    {
     "name": "stdout",
     "output_type": "stream",
     "text": [
      "epoch 460, loss: 0.26664, acc: 0.91392, val_loss: 1.06297, val_accuracy: 0.81661\n"
     ]
    },
    {
     "name": "stderr",
     "output_type": "stream",
     "text": [
      "100%|████████████████████████████████████████████████████████████████████████████████████| 4/4 [00:00<00:00,  8.08it/s]\n"
     ]
    },
    {
     "name": "stdout",
     "output_type": "stream",
     "text": [
      "epoch 461, loss: 0.27451, acc: 0.91305, val_loss: 1.16963, val_accuracy: 0.80846\n"
     ]
    },
    {
     "name": "stderr",
     "output_type": "stream",
     "text": [
      "100%|████████████████████████████████████████████████████████████████████████████████████| 4/4 [00:00<00:00,  6.81it/s]\n"
     ]
    },
    {
     "name": "stdout",
     "output_type": "stream",
     "text": [
      "epoch 462, loss: 0.26629, acc: 0.91314, val_loss: 1.15024, val_accuracy: 0.80951\n"
     ]
    },
    {
     "name": "stderr",
     "output_type": "stream",
     "text": [
      "100%|████████████████████████████████████████████████████████████████████████████████████| 4/4 [00:00<00:00,  8.56it/s]\n"
     ]
    },
    {
     "name": "stdout",
     "output_type": "stream",
     "text": [
      "epoch 463, loss: 0.26310, acc: 0.91506, val_loss: 1.12317, val_accuracy: 0.81083\n"
     ]
    },
    {
     "name": "stderr",
     "output_type": "stream",
     "text": [
      "100%|████████████████████████████████████████████████████████████████████████████████████| 4/4 [00:00<00:00,  6.76it/s]\n"
     ]
    },
    {
     "name": "stdout",
     "output_type": "stream",
     "text": [
      "epoch 464, loss: 0.26368, acc: 0.91392, val_loss: 1.15204, val_accuracy: 0.81056\n"
     ]
    },
    {
     "name": "stderr",
     "output_type": "stream",
     "text": [
      "100%|████████████████████████████████████████████████████████████████████████████████████| 4/4 [00:00<00:00,  7.23it/s]\n"
     ]
    },
    {
     "name": "stdout",
     "output_type": "stream",
     "text": [
      "epoch 465, loss: 0.26378, acc: 0.91229, val_loss: 1.21354, val_accuracy: 0.80531\n"
     ]
    },
    {
     "name": "stderr",
     "output_type": "stream",
     "text": [
      "100%|████████████████████████████████████████████████████████████████████████████████████| 4/4 [00:00<00:00,  8.00it/s]\n"
     ]
    },
    {
     "name": "stdout",
     "output_type": "stream",
     "text": [
      "epoch 466, loss: 0.26544, acc: 0.91404, val_loss: 1.13237, val_accuracy: 0.80977\n"
     ]
    },
    {
     "name": "stderr",
     "output_type": "stream",
     "text": [
      "100%|████████████████████████████████████████████████████████████████████████████████████| 4/4 [00:00<00:00,  6.98it/s]\n"
     ]
    },
    {
     "name": "stdout",
     "output_type": "stream",
     "text": [
      "epoch 467, loss: 0.26736, acc: 0.91416, val_loss: 1.08420, val_accuracy: 0.81109\n"
     ]
    },
    {
     "name": "stderr",
     "output_type": "stream",
     "text": [
      "100%|████████████████████████████████████████████████████████████████████████████████████| 4/4 [00:00<00:00,  8.73it/s]\n"
     ]
    },
    {
     "name": "stdout",
     "output_type": "stream",
     "text": [
      "epoch 468, loss: 0.26722, acc: 0.91346, val_loss: 1.18997, val_accuracy: 0.80688\n"
     ]
    },
    {
     "name": "stderr",
     "output_type": "stream",
     "text": [
      "100%|████████████████████████████████████████████████████████████████████████████████████| 4/4 [00:00<00:00,  8.25it/s]\n"
     ]
    },
    {
     "name": "stdout",
     "output_type": "stream",
     "text": [
      "epoch 469, loss: 0.26363, acc: 0.91448, val_loss: 1.16380, val_accuracy: 0.81056\n"
     ]
    },
    {
     "name": "stderr",
     "output_type": "stream",
     "text": [
      "100%|████████████████████████████████████████████████████████████████████████████████████| 4/4 [00:00<00:00,  7.35it/s]\n"
     ]
    },
    {
     "name": "stdout",
     "output_type": "stream",
     "text": [
      "epoch 470, loss: 0.26335, acc: 0.91547, val_loss: 1.10782, val_accuracy: 0.81214\n"
     ]
    },
    {
     "name": "stderr",
     "output_type": "stream",
     "text": [
      "100%|████████████████████████████████████████████████████████████████████████████████████| 4/4 [00:00<00:00,  7.68it/s]\n"
     ]
    },
    {
     "name": "stdout",
     "output_type": "stream",
     "text": [
      "epoch 471, loss: 0.26811, acc: 0.91299, val_loss: 1.20539, val_accuracy: 0.80846\n"
     ]
    },
    {
     "name": "stderr",
     "output_type": "stream",
     "text": [
      "100%|████████████████████████████████████████████████████████████████████████████████████| 4/4 [00:00<00:00,  7.00it/s]\n"
     ]
    },
    {
     "name": "stdout",
     "output_type": "stream",
     "text": [
      "epoch 472, loss: 0.26433, acc: 0.91317, val_loss: 1.15311, val_accuracy: 0.81004\n"
     ]
    },
    {
     "name": "stderr",
     "output_type": "stream",
     "text": [
      "100%|████████████████████████████████████████████████████████████████████████████████████| 4/4 [00:00<00:00,  5.92it/s]\n"
     ]
    },
    {
     "name": "stdout",
     "output_type": "stream",
     "text": [
      "epoch 473, loss: 0.26242, acc: 0.91585, val_loss: 1.10662, val_accuracy: 0.81161\n"
     ]
    },
    {
     "name": "stderr",
     "output_type": "stream",
     "text": [
      "100%|████████████████████████████████████████████████████████████████████████████████████| 4/4 [00:00<00:00,  6.69it/s]\n"
     ]
    },
    {
     "name": "stdout",
     "output_type": "stream",
     "text": [
      "epoch 474, loss: 0.26563, acc: 0.91454, val_loss: 1.16141, val_accuracy: 0.80951\n"
     ]
    },
    {
     "name": "stderr",
     "output_type": "stream",
     "text": [
      "100%|████████████████████████████████████████████████████████████████████████████████████| 4/4 [00:00<00:00,  7.98it/s]\n"
     ]
    },
    {
     "name": "stdout",
     "output_type": "stream",
     "text": [
      "epoch 475, loss: 0.26225, acc: 0.91334, val_loss: 1.16645, val_accuracy: 0.80636\n"
     ]
    },
    {
     "name": "stderr",
     "output_type": "stream",
     "text": [
      "100%|████████████████████████████████████████████████████████████████████████████████████| 4/4 [00:00<00:00,  7.04it/s]\n"
     ]
    },
    {
     "name": "stdout",
     "output_type": "stream",
     "text": [
      "epoch 476, loss: 0.26010, acc: 0.91541, val_loss: 1.12635, val_accuracy: 0.81135\n"
     ]
    },
    {
     "name": "stderr",
     "output_type": "stream",
     "text": [
      "100%|████████████████████████████████████████████████████████████████████████████████████| 4/4 [00:00<00:00,  8.90it/s]\n"
     ]
    },
    {
     "name": "stdout",
     "output_type": "stream",
     "text": [
      "epoch 477, loss: 0.26409, acc: 0.91451, val_loss: 1.13686, val_accuracy: 0.81004\n"
     ]
    },
    {
     "name": "stderr",
     "output_type": "stream",
     "text": [
      "100%|████████████████████████████████████████████████████████████████████████████████████| 4/4 [00:00<00:00,  9.11it/s]\n"
     ]
    },
    {
     "name": "stdout",
     "output_type": "stream",
     "text": [
      "epoch 478, loss: 0.26240, acc: 0.91369, val_loss: 1.21385, val_accuracy: 0.80688\n"
     ]
    },
    {
     "name": "stderr",
     "output_type": "stream",
     "text": [
      "100%|████████████████████████████████████████████████████████████████████████████████████| 4/4 [00:00<00:00,  8.55it/s]\n"
     ]
    },
    {
     "name": "stdout",
     "output_type": "stream",
     "text": [
      "epoch 479, loss: 0.26104, acc: 0.91524, val_loss: 1.14834, val_accuracy: 0.81083\n"
     ]
    },
    {
     "name": "stderr",
     "output_type": "stream",
     "text": [
      "100%|████████████████████████████████████████████████████████████████████████████████████| 4/4 [00:00<00:00,  9.32it/s]\n"
     ]
    },
    {
     "name": "stdout",
     "output_type": "stream",
     "text": [
      "epoch 480, loss: 0.26379, acc: 0.91486, val_loss: 1.11331, val_accuracy: 0.81293\n"
     ]
    },
    {
     "name": "stderr",
     "output_type": "stream",
     "text": [
      "100%|████████████████████████████████████████████████████████████████████████████████████| 4/4 [00:00<00:00,  8.44it/s]\n"
     ]
    },
    {
     "name": "stdout",
     "output_type": "stream",
     "text": [
      "epoch 481, loss: 0.26638, acc: 0.91255, val_loss: 1.22334, val_accuracy: 0.80636\n"
     ]
    },
    {
     "name": "stderr",
     "output_type": "stream",
     "text": [
      "100%|████████████████████████████████████████████████████████████████████████████████████| 4/4 [00:00<00:00,  6.18it/s]\n"
     ]
    },
    {
     "name": "stdout",
     "output_type": "stream",
     "text": [
      "epoch 482, loss: 0.26541, acc: 0.91317, val_loss: 1.17557, val_accuracy: 0.81030\n"
     ]
    },
    {
     "name": "stderr",
     "output_type": "stream",
     "text": [
      "100%|████████████████████████████████████████████████████████████████████████████████████| 4/4 [00:00<00:00,  8.30it/s]\n"
     ]
    },
    {
     "name": "stdout",
     "output_type": "stream",
     "text": [
      "epoch 483, loss: 0.26582, acc: 0.91445, val_loss: 1.08857, val_accuracy: 0.81687\n"
     ]
    },
    {
     "name": "stderr",
     "output_type": "stream",
     "text": [
      "100%|████████████████████████████████████████████████████████████████████████████████████| 4/4 [00:00<00:00,  8.16it/s]\n"
     ]
    },
    {
     "name": "stdout",
     "output_type": "stream",
     "text": [
      "epoch 484, loss: 0.27223, acc: 0.91267, val_loss: 1.21813, val_accuracy: 0.80688\n"
     ]
    },
    {
     "name": "stderr",
     "output_type": "stream",
     "text": [
      "100%|████████████████████████████████████████████████████████████████████████████████████| 4/4 [00:00<00:00,  6.48it/s]\n"
     ]
    },
    {
     "name": "stdout",
     "output_type": "stream",
     "text": [
      "epoch 485, loss: 0.26496, acc: 0.91357, val_loss: 1.15517, val_accuracy: 0.80977\n"
     ]
    },
    {
     "name": "stderr",
     "output_type": "stream",
     "text": [
      "100%|████████████████████████████████████████████████████████████████████████████████████| 4/4 [00:00<00:00,  8.40it/s]\n"
     ]
    },
    {
     "name": "stdout",
     "output_type": "stream",
     "text": [
      "epoch 486, loss: 0.26184, acc: 0.91512, val_loss: 1.12782, val_accuracy: 0.81056\n"
     ]
    },
    {
     "name": "stderr",
     "output_type": "stream",
     "text": [
      "100%|████████████████████████████████████████████████████████████████████████████████████| 4/4 [00:00<00:00,  8.19it/s]\n"
     ]
    },
    {
     "name": "stdout",
     "output_type": "stream",
     "text": [
      "epoch 487, loss: 0.26263, acc: 0.91422, val_loss: 1.20766, val_accuracy: 0.80793\n"
     ]
    },
    {
     "name": "stderr",
     "output_type": "stream",
     "text": [
      "100%|████████████████████████████████████████████████████████████████████████████████████| 4/4 [00:00<00:00,  7.90it/s]\n"
     ]
    },
    {
     "name": "stdout",
     "output_type": "stream",
     "text": [
      "epoch 488, loss: 0.26208, acc: 0.91325, val_loss: 1.18173, val_accuracy: 0.80688\n"
     ]
    },
    {
     "name": "stderr",
     "output_type": "stream",
     "text": [
      "100%|████████████████████████████████████████████████████████████████████████████████████| 4/4 [00:00<00:00,  7.15it/s]\n"
     ]
    },
    {
     "name": "stdout",
     "output_type": "stream",
     "text": [
      "epoch 489, loss: 0.26145, acc: 0.91509, val_loss: 1.10779, val_accuracy: 0.81555\n"
     ]
    },
    {
     "name": "stderr",
     "output_type": "stream",
     "text": [
      "100%|████████████████████████████████████████████████████████████████████████████████████| 4/4 [00:00<00:00,  7.52it/s]\n"
     ]
    },
    {
     "name": "stdout",
     "output_type": "stream",
     "text": [
      "epoch 490, loss: 0.26899, acc: 0.91381, val_loss: 1.19016, val_accuracy: 0.80899\n"
     ]
    },
    {
     "name": "stderr",
     "output_type": "stream",
     "text": [
      "100%|████████████████████████████████████████████████████████████████████████████████████| 4/4 [00:00<00:00,  6.56it/s]\n"
     ]
    },
    {
     "name": "stdout",
     "output_type": "stream",
     "text": [
      "epoch 491, loss: 0.26036, acc: 0.91442, val_loss: 1.17388, val_accuracy: 0.80793\n"
     ]
    },
    {
     "name": "stderr",
     "output_type": "stream",
     "text": [
      "100%|████████████████████████████████████████████████████████████████████████████████████| 4/4 [00:00<00:00,  7.92it/s]\n"
     ]
    },
    {
     "name": "stdout",
     "output_type": "stream",
     "text": [
      "epoch 492, loss: 0.25771, acc: 0.91600, val_loss: 1.13107, val_accuracy: 0.81056\n"
     ]
    },
    {
     "name": "stderr",
     "output_type": "stream",
     "text": [
      "100%|████████████████████████████████████████████████████████████████████████████████████| 4/4 [00:00<00:00,  7.92it/s]\n"
     ]
    },
    {
     "name": "stdout",
     "output_type": "stream",
     "text": [
      "epoch 493, loss: 0.26029, acc: 0.91559, val_loss: 1.19299, val_accuracy: 0.80925\n"
     ]
    },
    {
     "name": "stderr",
     "output_type": "stream",
     "text": [
      "100%|████████████████████████████████████████████████████████████████████████████████████| 4/4 [00:00<00:00,  6.48it/s]\n"
     ]
    },
    {
     "name": "stdout",
     "output_type": "stream",
     "text": [
      "epoch 494, loss: 0.25988, acc: 0.91378, val_loss: 1.21079, val_accuracy: 0.80688\n"
     ]
    },
    {
     "name": "stderr",
     "output_type": "stream",
     "text": [
      "100%|████████████████████████████████████████████████████████████████████████████████████| 4/4 [00:00<00:00,  8.42it/s]\n"
     ]
    },
    {
     "name": "stdout",
     "output_type": "stream",
     "text": [
      "epoch 495, loss: 0.25894, acc: 0.91594, val_loss: 1.13972, val_accuracy: 0.81004\n"
     ]
    },
    {
     "name": "stderr",
     "output_type": "stream",
     "text": [
      "100%|████████████████████████████████████████████████████████████████████████████████████| 4/4 [00:00<00:00,  8.51it/s]\n"
     ]
    },
    {
     "name": "stdout",
     "output_type": "stream",
     "text": [
      "epoch 496, loss: 0.26323, acc: 0.91509, val_loss: 1.12997, val_accuracy: 0.81083\n"
     ]
    },
    {
     "name": "stderr",
     "output_type": "stream",
     "text": [
      "100%|████████████████████████████████████████████████████████████████████████████████████| 4/4 [00:00<00:00,  7.48it/s]\n"
     ]
    },
    {
     "name": "stdout",
     "output_type": "stream",
     "text": [
      "epoch 497, loss: 0.26308, acc: 0.91387, val_loss: 1.25513, val_accuracy: 0.80504\n"
     ]
    },
    {
     "name": "stderr",
     "output_type": "stream",
     "text": [
      "100%|████████████████████████████████████████████████████████████████████████████████████| 4/4 [00:00<00:00,  9.45it/s]\n"
     ]
    },
    {
     "name": "stdout",
     "output_type": "stream",
     "text": [
      "epoch 498, loss: 0.26125, acc: 0.91500, val_loss: 1.15769, val_accuracy: 0.81135\n"
     ]
    },
    {
     "name": "stderr",
     "output_type": "stream",
     "text": [
      "100%|████████████████████████████████████████████████████████████████████████████████████| 4/4 [00:00<00:00,  8.91it/s]\n"
     ]
    },
    {
     "name": "stdout",
     "output_type": "stream",
     "text": [
      "epoch 499, loss: 0.26244, acc: 0.91524, val_loss: 1.14733, val_accuracy: 0.81240\n"
     ]
    },
    {
     "name": "stderr",
     "output_type": "stream",
     "text": [
      "100%|████████████████████████████████████████████████████████████████████████████████████| 4/4 [00:00<00:00,  7.00it/s]\n"
     ]
    },
    {
     "name": "stdout",
     "output_type": "stream",
     "text": [
      "epoch 500, loss: 0.26376, acc: 0.91369, val_loss: 1.24794, val_accuracy: 0.80715\n",
      "0번째 교차검증\n",
      "evaluation loss: 0.42549, evaluation accuracy: 0.89438\n",
      "(5, 3806)\n",
      "(3806, 5)\n",
      "Learning rate set to 0.085251\n",
      "0:\tlearn: 0.9831749\ttotal: 8.45ms\tremaining: 8.44s\n",
      "1:\tlearn: 0.8927296\ttotal: 15.6ms\tremaining: 7.78s\n",
      "2:\tlearn: 0.8198181\ttotal: 22.8ms\tremaining: 7.58s\n",
      "3:\tlearn: 0.7598751\ttotal: 29.1ms\tremaining: 7.25s\n",
      "4:\tlearn: 0.7098888\ttotal: 36.2ms\tremaining: 7.21s\n",
      "5:\tlearn: 0.6677604\ttotal: 42.5ms\tremaining: 7.04s\n",
      "6:\tlearn: 0.6319662\ttotal: 48.5ms\tremaining: 6.88s\n",
      "7:\tlearn: 0.6013629\ttotal: 55.2ms\tremaining: 6.85s\n",
      "8:\tlearn: 0.5750704\ttotal: 61.1ms\tremaining: 6.73s\n",
      "9:\tlearn: 0.5523961\ttotal: 68.6ms\tremaining: 6.79s\n",
      "10:\tlearn: 0.5327850\ttotal: 74.8ms\tremaining: 6.72s\n",
      "11:\tlearn: 0.5157858\ttotal: 81.2ms\tremaining: 6.68s\n",
      "12:\tlearn: 0.5010264\ttotal: 87.8ms\tremaining: 6.66s\n",
      "13:\tlearn: 0.4881969\ttotal: 94.4ms\tremaining: 6.64s\n",
      "14:\tlearn: 0.4770368\ttotal: 102ms\tremaining: 6.68s\n",
      "15:\tlearn: 0.4673245\ttotal: 108ms\tremaining: 6.64s\n",
      "16:\tlearn: 0.4588714\ttotal: 115ms\tremaining: 6.65s\n",
      "17:\tlearn: 0.4515151\ttotal: 121ms\tremaining: 6.6s\n",
      "18:\tlearn: 0.4451155\ttotal: 127ms\tremaining: 6.58s\n",
      "19:\tlearn: 0.4395512\ttotal: 136ms\tremaining: 6.67s\n",
      "20:\tlearn: 0.4347164\ttotal: 146ms\tremaining: 6.8s\n",
      "21:\tlearn: 0.4305188\ttotal: 153ms\tremaining: 6.82s\n",
      "22:\tlearn: 0.4268779\ttotal: 159ms\tremaining: 6.77s\n",
      "23:\tlearn: 0.4237229\ttotal: 167ms\tremaining: 6.79s\n",
      "24:\tlearn: 0.4209922\ttotal: 173ms\tremaining: 6.76s\n",
      "25:\tlearn: 0.4186314\ttotal: 180ms\tremaining: 6.75s\n",
      "26:\tlearn: 0.4165926\ttotal: 189ms\tremaining: 6.79s\n",
      "27:\tlearn: 0.4148342\ttotal: 197ms\tremaining: 6.83s\n",
      "28:\tlearn: 0.4133198\ttotal: 203ms\tremaining: 6.8s\n",
      "29:\tlearn: 0.4120166\ttotal: 209ms\tremaining: 6.75s\n",
      "30:\tlearn: 0.4108969\ttotal: 216ms\tremaining: 6.75s\n",
      "31:\tlearn: 0.4099361\ttotal: 222ms\tremaining: 6.71s\n",
      "32:\tlearn: 0.4091125\ttotal: 229ms\tremaining: 6.7s\n",
      "33:\tlearn: 0.4084075\ttotal: 236ms\tremaining: 6.72s\n",
      "34:\tlearn: 0.4078046\ttotal: 243ms\tremaining: 6.71s\n",
      "35:\tlearn: 0.4072898\ttotal: 250ms\tremaining: 6.7s\n",
      "36:\tlearn: 0.4068506\ttotal: 259ms\tremaining: 6.73s\n",
      "37:\tlearn: 0.4064763\ttotal: 264ms\tremaining: 6.69s\n",
      "38:\tlearn: 0.4061576\ttotal: 270ms\tremaining: 6.65s\n",
      "39:\tlearn: 0.4058866\ttotal: 276ms\tremaining: 6.63s\n",
      "40:\tlearn: 0.4056563\ttotal: 284ms\tremaining: 6.65s\n",
      "41:\tlearn: 0.4054608\ttotal: 292ms\tremaining: 6.67s\n",
      "42:\tlearn: 0.4052949\ttotal: 299ms\tremaining: 6.66s\n",
      "43:\tlearn: 0.4051543\ttotal: 306ms\tremaining: 6.64s\n",
      "44:\tlearn: 0.4050353\ttotal: 310ms\tremaining: 6.58s\n",
      "45:\tlearn: 0.4049347\ttotal: 319ms\tremaining: 6.61s\n",
      "46:\tlearn: 0.4048493\ttotal: 322ms\tremaining: 6.53s\n",
      "47:\tlearn: 0.4047773\ttotal: 330ms\tremaining: 6.54s\n",
      "48:\tlearn: 0.4047166\ttotal: 337ms\tremaining: 6.54s\n",
      "49:\tlearn: 0.4046652\ttotal: 343ms\tremaining: 6.52s\n",
      "50:\tlearn: 0.4046219\ttotal: 349ms\tremaining: 6.5s\n",
      "51:\tlearn: 0.4045854\ttotal: 355ms\tremaining: 6.47s\n",
      "52:\tlearn: 0.4045545\ttotal: 361ms\tremaining: 6.46s\n",
      "53:\tlearn: 0.4045285\ttotal: 365ms\tremaining: 6.4s\n",
      "54:\tlearn: 0.4045068\ttotal: 367ms\tremaining: 6.3s\n",
      "55:\tlearn: 0.4044883\ttotal: 370ms\tremaining: 6.24s\n",
      "56:\tlearn: 0.4044729\ttotal: 372ms\tremaining: 6.15s\n",
      "57:\tlearn: 0.4044599\ttotal: 375ms\tremaining: 6.09s\n",
      "58:\tlearn: 0.4044487\ttotal: 379ms\tremaining: 6.04s\n",
      "59:\tlearn: 0.4044396\ttotal: 382ms\tremaining: 5.98s\n",
      "60:\tlearn: 0.4044318\ttotal: 386ms\tremaining: 5.94s\n",
      "61:\tlearn: 0.4044252\ttotal: 393ms\tremaining: 5.94s\n",
      "62:\tlearn: 0.4044199\ttotal: 394ms\tremaining: 5.87s\n",
      "63:\tlearn: 0.4044151\ttotal: 398ms\tremaining: 5.82s\n",
      "64:\tlearn: 0.4044112\ttotal: 399ms\tremaining: 5.75s\n",
      "65:\tlearn: 0.4044080\ttotal: 402ms\tremaining: 5.69s\n",
      "66:\tlearn: 0.4044053\ttotal: 405ms\tremaining: 5.64s\n",
      "67:\tlearn: 0.4044030\ttotal: 407ms\tremaining: 5.58s\n",
      "68:\tlearn: 0.4044011\ttotal: 409ms\tremaining: 5.51s\n",
      "69:\tlearn: 0.4043994\ttotal: 410ms\tremaining: 5.45s\n",
      "70:\tlearn: 0.4043981\ttotal: 412ms\tremaining: 5.39s\n",
      "71:\tlearn: 0.4043970\ttotal: 414ms\tremaining: 5.33s\n",
      "72:\tlearn: 0.4043960\ttotal: 415ms\tremaining: 5.27s\n",
      "73:\tlearn: 0.4043952\ttotal: 417ms\tremaining: 5.22s\n",
      "74:\tlearn: 0.4043946\ttotal: 419ms\tremaining: 5.16s\n",
      "75:\tlearn: 0.4043940\ttotal: 420ms\tremaining: 5.11s\n",
      "76:\tlearn: 0.4043935\ttotal: 422ms\tremaining: 5.06s\n",
      "77:\tlearn: 0.4043933\ttotal: 424ms\tremaining: 5.01s\n",
      "78:\tlearn: 0.4043928\ttotal: 427ms\tremaining: 4.98s\n",
      "79:\tlearn: 0.4043926\ttotal: 429ms\tremaining: 4.93s\n",
      "80:\tlearn: 0.4043923\ttotal: 430ms\tremaining: 4.88s\n",
      "81:\tlearn: 0.4043921\ttotal: 434ms\tremaining: 4.86s\n",
      "82:\tlearn: 0.4043920\ttotal: 436ms\tremaining: 4.81s\n",
      "83:\tlearn: 0.4043918\ttotal: 442ms\tremaining: 4.82s\n",
      "84:\tlearn: 0.4043916\ttotal: 447ms\tremaining: 4.81s\n",
      "85:\tlearn: 0.4043916\ttotal: 450ms\tremaining: 4.78s\n",
      "86:\tlearn: 0.4043913\ttotal: 456ms\tremaining: 4.79s\n",
      "87:\tlearn: 0.4043913\ttotal: 462ms\tremaining: 4.79s\n",
      "88:\tlearn: 0.4043912\ttotal: 464ms\tremaining: 4.75s\n",
      "89:\tlearn: 0.4043912\ttotal: 465ms\tremaining: 4.7s\n",
      "90:\tlearn: 0.4043911\ttotal: 467ms\tremaining: 4.66s\n",
      "91:\tlearn: 0.4043911\ttotal: 470ms\tremaining: 4.64s\n",
      "92:\tlearn: 0.4043911\ttotal: 473ms\tremaining: 4.61s\n",
      "93:\tlearn: 0.4043910\ttotal: 479ms\tremaining: 4.62s\n",
      "94:\tlearn: 0.4043910\ttotal: 484ms\tremaining: 4.61s\n",
      "95:\tlearn: 0.4043909\ttotal: 490ms\tremaining: 4.61s\n",
      "96:\tlearn: 0.4043909\ttotal: 496ms\tremaining: 4.62s\n",
      "97:\tlearn: 0.4043910\ttotal: 500ms\tremaining: 4.6s\n",
      "98:\tlearn: 0.4043909\ttotal: 507ms\tremaining: 4.61s\n",
      "99:\tlearn: 0.4043908\ttotal: 513ms\tremaining: 4.62s\n",
      "100:\tlearn: 0.4043909\ttotal: 521ms\tremaining: 4.63s\n",
      "101:\tlearn: 0.4043909\ttotal: 527ms\tremaining: 4.64s\n",
      "102:\tlearn: 0.4043908\ttotal: 533ms\tremaining: 4.64s\n",
      "103:\tlearn: 0.4043909\ttotal: 540ms\tremaining: 4.65s\n",
      "104:\tlearn: 0.4043908\ttotal: 548ms\tremaining: 4.67s\n",
      "105:\tlearn: 0.4043908\ttotal: 550ms\tremaining: 4.64s\n",
      "106:\tlearn: 0.4043908\ttotal: 557ms\tremaining: 4.64s\n",
      "107:\tlearn: 0.4043909\ttotal: 563ms\tremaining: 4.65s\n",
      "108:\tlearn: 0.4043908\ttotal: 569ms\tremaining: 4.65s\n",
      "109:\tlearn: 0.4043908\ttotal: 575ms\tremaining: 4.65s\n",
      "110:\tlearn: 0.4043909\ttotal: 582ms\tremaining: 4.66s\n",
      "111:\tlearn: 0.4043908\ttotal: 588ms\tremaining: 4.66s\n",
      "112:\tlearn: 0.4043908\ttotal: 597ms\tremaining: 4.68s\n",
      "113:\tlearn: 0.4043909\ttotal: 606ms\tremaining: 4.71s\n",
      "114:\tlearn: 0.4043908\ttotal: 612ms\tremaining: 4.71s\n",
      "115:\tlearn: 0.4043908\ttotal: 619ms\tremaining: 4.72s\n",
      "116:\tlearn: 0.4043908\ttotal: 625ms\tremaining: 4.72s\n",
      "117:\tlearn: 0.4043908\ttotal: 631ms\tremaining: 4.72s\n",
      "118:\tlearn: 0.4043908\ttotal: 639ms\tremaining: 4.73s\n",
      "119:\tlearn: 0.4043908\ttotal: 647ms\tremaining: 4.74s\n",
      "120:\tlearn: 0.4043909\ttotal: 655ms\tremaining: 4.76s\n",
      "121:\tlearn: 0.4043908\ttotal: 661ms\tremaining: 4.75s\n",
      "122:\tlearn: 0.4043908\ttotal: 668ms\tremaining: 4.76s\n",
      "123:\tlearn: 0.4043908\ttotal: 669ms\tremaining: 4.73s\n",
      "124:\tlearn: 0.4043908\ttotal: 675ms\tremaining: 4.72s\n",
      "125:\tlearn: 0.4043908\ttotal: 682ms\tremaining: 4.73s\n",
      "126:\tlearn: 0.4043907\ttotal: 690ms\tremaining: 4.75s\n",
      "127:\tlearn: 0.4043908\ttotal: 698ms\tremaining: 4.75s\n",
      "128:\tlearn: 0.4043908\ttotal: 706ms\tremaining: 4.77s\n",
      "129:\tlearn: 0.4043908\ttotal: 714ms\tremaining: 4.78s\n",
      "130:\tlearn: 0.4043909\ttotal: 721ms\tremaining: 4.78s\n",
      "131:\tlearn: 0.4043908\ttotal: 727ms\tremaining: 4.78s\n",
      "132:\tlearn: 0.4043908\ttotal: 735ms\tremaining: 4.79s\n",
      "133:\tlearn: 0.4043907\ttotal: 742ms\tremaining: 4.8s\n",
      "134:\tlearn: 0.4043907\ttotal: 749ms\tremaining: 4.8s\n",
      "135:\tlearn: 0.4043907\ttotal: 755ms\tremaining: 4.8s\n",
      "136:\tlearn: 0.4043908\ttotal: 761ms\tremaining: 4.79s\n",
      "137:\tlearn: 0.4043907\ttotal: 769ms\tremaining: 4.8s\n",
      "138:\tlearn: 0.4043908\ttotal: 774ms\tremaining: 4.8s\n",
      "139:\tlearn: 0.4043908\ttotal: 783ms\tremaining: 4.81s\n",
      "140:\tlearn: 0.4043908\ttotal: 790ms\tremaining: 4.81s\n",
      "141:\tlearn: 0.4043909\ttotal: 797ms\tremaining: 4.82s\n",
      "142:\tlearn: 0.4043908\ttotal: 803ms\tremaining: 4.81s\n",
      "143:\tlearn: 0.4043908\ttotal: 809ms\tremaining: 4.81s\n",
      "144:\tlearn: 0.4043908\ttotal: 816ms\tremaining: 4.81s\n",
      "145:\tlearn: 0.4043907\ttotal: 822ms\tremaining: 4.8s\n",
      "146:\tlearn: 0.4043908\ttotal: 830ms\tremaining: 4.82s\n",
      "147:\tlearn: 0.4043908\ttotal: 837ms\tremaining: 4.82s\n",
      "148:\tlearn: 0.4043908\ttotal: 844ms\tremaining: 4.82s\n",
      "149:\tlearn: 0.4043908\ttotal: 850ms\tremaining: 4.82s\n",
      "150:\tlearn: 0.4043908\ttotal: 856ms\tremaining: 4.81s\n",
      "151:\tlearn: 0.4043909\ttotal: 863ms\tremaining: 4.81s\n",
      "152:\tlearn: 0.4043909\ttotal: 869ms\tremaining: 4.81s\n",
      "153:\tlearn: 0.4043908\ttotal: 880ms\tremaining: 4.83s\n",
      "154:\tlearn: 0.4043908\ttotal: 887ms\tremaining: 4.84s\n",
      "155:\tlearn: 0.4043908\ttotal: 894ms\tremaining: 4.83s\n",
      "156:\tlearn: 0.4043908\ttotal: 902ms\tremaining: 4.84s\n",
      "157:\tlearn: 0.4043908\ttotal: 909ms\tremaining: 4.84s\n",
      "158:\tlearn: 0.4043909\ttotal: 915ms\tremaining: 4.84s\n",
      "159:\tlearn: 0.4043909\ttotal: 923ms\tremaining: 4.85s\n",
      "160:\tlearn: 0.4043907\ttotal: 931ms\tremaining: 4.85s\n",
      "161:\tlearn: 0.4043908\ttotal: 938ms\tremaining: 4.85s\n",
      "162:\tlearn: 0.4043908\ttotal: 946ms\tremaining: 4.86s\n",
      "163:\tlearn: 0.4043908\ttotal: 952ms\tremaining: 4.85s\n",
      "164:\tlearn: 0.4043909\ttotal: 959ms\tremaining: 4.85s\n",
      "165:\tlearn: 0.4043909\ttotal: 965ms\tremaining: 4.85s\n",
      "166:\tlearn: 0.4043908\ttotal: 972ms\tremaining: 4.85s\n",
      "167:\tlearn: 0.4043908\ttotal: 980ms\tremaining: 4.86s\n",
      "168:\tlearn: 0.4043908\ttotal: 986ms\tremaining: 4.85s\n",
      "169:\tlearn: 0.4043908\ttotal: 994ms\tremaining: 4.85s\n",
      "170:\tlearn: 0.4043908\ttotal: 1s\tremaining: 4.86s\n",
      "171:\tlearn: 0.4043908\ttotal: 1.01s\tremaining: 4.86s\n",
      "172:\tlearn: 0.4043908\ttotal: 1.02s\tremaining: 4.86s\n",
      "173:\tlearn: 0.4043908\ttotal: 1.02s\tremaining: 4.86s\n",
      "174:\tlearn: 0.4043908\ttotal: 1.03s\tremaining: 4.85s\n",
      "175:\tlearn: 0.4043908\ttotal: 1.03s\tremaining: 4.85s\n",
      "176:\tlearn: 0.4043909\ttotal: 1.04s\tremaining: 4.85s\n",
      "177:\tlearn: 0.4043907\ttotal: 1.05s\tremaining: 4.85s\n",
      "178:\tlearn: 0.4043907\ttotal: 1.06s\tremaining: 4.85s\n",
      "179:\tlearn: 0.4043908\ttotal: 1.06s\tremaining: 4.85s\n",
      "180:\tlearn: 0.4043908\ttotal: 1.07s\tremaining: 4.85s\n",
      "181:\tlearn: 0.4043908\ttotal: 1.08s\tremaining: 4.85s\n",
      "182:\tlearn: 0.4043908\ttotal: 1.08s\tremaining: 4.84s\n"
     ]
    },
    {
     "name": "stdout",
     "output_type": "stream",
     "text": [
      "183:\tlearn: 0.4043908\ttotal: 1.09s\tremaining: 4.85s\n",
      "184:\tlearn: 0.4043908\ttotal: 1.1s\tremaining: 4.84s\n",
      "185:\tlearn: 0.4043908\ttotal: 1.1s\tremaining: 4.84s\n",
      "186:\tlearn: 0.4043908\ttotal: 1.11s\tremaining: 4.83s\n",
      "187:\tlearn: 0.4043908\ttotal: 1.12s\tremaining: 4.83s\n",
      "188:\tlearn: 0.4043908\ttotal: 1.14s\tremaining: 4.89s\n",
      "189:\tlearn: 0.4043908\ttotal: 1.15s\tremaining: 4.88s\n",
      "190:\tlearn: 0.4043908\ttotal: 1.15s\tremaining: 4.88s\n",
      "191:\tlearn: 0.4043908\ttotal: 1.16s\tremaining: 4.89s\n",
      "192:\tlearn: 0.4043908\ttotal: 1.17s\tremaining: 4.9s\n",
      "193:\tlearn: 0.4043908\ttotal: 1.18s\tremaining: 4.9s\n",
      "194:\tlearn: 0.4043908\ttotal: 1.18s\tremaining: 4.89s\n",
      "195:\tlearn: 0.4043908\ttotal: 1.19s\tremaining: 4.89s\n",
      "196:\tlearn: 0.4043908\ttotal: 1.2s\tremaining: 4.88s\n",
      "197:\tlearn: 0.4043908\ttotal: 1.21s\tremaining: 4.88s\n",
      "198:\tlearn: 0.4043908\ttotal: 1.21s\tremaining: 4.88s\n",
      "199:\tlearn: 0.4043908\ttotal: 1.22s\tremaining: 4.88s\n",
      "200:\tlearn: 0.4043909\ttotal: 1.23s\tremaining: 4.88s\n",
      "201:\tlearn: 0.4043908\ttotal: 1.23s\tremaining: 4.88s\n",
      "202:\tlearn: 0.4043908\ttotal: 1.24s\tremaining: 4.87s\n",
      "203:\tlearn: 0.4043908\ttotal: 1.25s\tremaining: 4.86s\n",
      "204:\tlearn: 0.4043908\ttotal: 1.25s\tremaining: 4.86s\n",
      "205:\tlearn: 0.4043908\ttotal: 1.26s\tremaining: 4.86s\n",
      "206:\tlearn: 0.4043908\ttotal: 1.27s\tremaining: 4.86s\n",
      "207:\tlearn: 0.4043908\ttotal: 1.27s\tremaining: 4.86s\n",
      "208:\tlearn: 0.4043908\ttotal: 1.28s\tremaining: 4.85s\n",
      "209:\tlearn: 0.4043908\ttotal: 1.29s\tremaining: 4.84s\n",
      "210:\tlearn: 0.4043908\ttotal: 1.29s\tremaining: 4.84s\n",
      "211:\tlearn: 0.4043908\ttotal: 1.3s\tremaining: 4.84s\n",
      "212:\tlearn: 0.4043908\ttotal: 1.31s\tremaining: 4.84s\n",
      "213:\tlearn: 0.4043908\ttotal: 1.32s\tremaining: 4.84s\n",
      "214:\tlearn: 0.4043908\ttotal: 1.32s\tremaining: 4.84s\n",
      "215:\tlearn: 0.4043908\ttotal: 1.33s\tremaining: 4.84s\n",
      "216:\tlearn: 0.4043908\ttotal: 1.34s\tremaining: 4.83s\n",
      "217:\tlearn: 0.4043908\ttotal: 1.34s\tremaining: 4.82s\n",
      "218:\tlearn: 0.4043908\ttotal: 1.35s\tremaining: 4.82s\n",
      "219:\tlearn: 0.4043908\ttotal: 1.36s\tremaining: 4.82s\n",
      "220:\tlearn: 0.4043908\ttotal: 1.37s\tremaining: 4.82s\n",
      "221:\tlearn: 0.4043908\ttotal: 1.37s\tremaining: 4.82s\n",
      "222:\tlearn: 0.4043908\ttotal: 1.38s\tremaining: 4.82s\n",
      "223:\tlearn: 0.4043908\ttotal: 1.39s\tremaining: 4.81s\n",
      "224:\tlearn: 0.4043908\ttotal: 1.4s\tremaining: 4.81s\n",
      "225:\tlearn: 0.4043908\ttotal: 1.41s\tremaining: 4.81s\n",
      "226:\tlearn: 0.4043908\ttotal: 1.41s\tremaining: 4.81s\n",
      "227:\tlearn: 0.4043908\ttotal: 1.42s\tremaining: 4.81s\n",
      "228:\tlearn: 0.4043908\ttotal: 1.43s\tremaining: 4.8s\n",
      "229:\tlearn: 0.4043908\ttotal: 1.43s\tremaining: 4.79s\n",
      "230:\tlearn: 0.4043908\ttotal: 1.44s\tremaining: 4.79s\n",
      "231:\tlearn: 0.4043908\ttotal: 1.45s\tremaining: 4.79s\n",
      "232:\tlearn: 0.4043908\ttotal: 1.45s\tremaining: 4.79s\n",
      "233:\tlearn: 0.4043908\ttotal: 1.46s\tremaining: 4.78s\n",
      "234:\tlearn: 0.4043908\ttotal: 1.47s\tremaining: 4.78s\n",
      "235:\tlearn: 0.4043908\ttotal: 1.47s\tremaining: 4.77s\n",
      "236:\tlearn: 0.4043908\ttotal: 1.48s\tremaining: 4.77s\n",
      "237:\tlearn: 0.4043908\ttotal: 1.49s\tremaining: 4.76s\n",
      "238:\tlearn: 0.4043908\ttotal: 1.5s\tremaining: 4.77s\n",
      "239:\tlearn: 0.4043908\ttotal: 1.5s\tremaining: 4.76s\n",
      "240:\tlearn: 0.4043908\ttotal: 1.51s\tremaining: 4.76s\n",
      "241:\tlearn: 0.4043908\ttotal: 1.52s\tremaining: 4.75s\n",
      "242:\tlearn: 0.4043908\ttotal: 1.52s\tremaining: 4.75s\n",
      "243:\tlearn: 0.4043908\ttotal: 1.53s\tremaining: 4.75s\n",
      "244:\tlearn: 0.4043908\ttotal: 1.54s\tremaining: 4.74s\n",
      "245:\tlearn: 0.4043908\ttotal: 1.54s\tremaining: 4.74s\n",
      "246:\tlearn: 0.4043908\ttotal: 1.55s\tremaining: 4.73s\n",
      "247:\tlearn: 0.4043908\ttotal: 1.56s\tremaining: 4.73s\n",
      "248:\tlearn: 0.4043908\ttotal: 1.57s\tremaining: 4.73s\n",
      "249:\tlearn: 0.4043908\ttotal: 1.58s\tremaining: 4.73s\n",
      "250:\tlearn: 0.4043908\ttotal: 1.58s\tremaining: 4.73s\n",
      "251:\tlearn: 0.4043908\ttotal: 1.59s\tremaining: 4.73s\n",
      "252:\tlearn: 0.4043908\ttotal: 1.6s\tremaining: 4.72s\n",
      "253:\tlearn: 0.4043908\ttotal: 1.61s\tremaining: 4.72s\n",
      "254:\tlearn: 0.4043908\ttotal: 1.61s\tremaining: 4.72s\n",
      "255:\tlearn: 0.4043908\ttotal: 1.62s\tremaining: 4.71s\n",
      "256:\tlearn: 0.4043908\ttotal: 1.63s\tremaining: 4.71s\n",
      "257:\tlearn: 0.4043908\ttotal: 1.64s\tremaining: 4.71s\n",
      "258:\tlearn: 0.4043908\ttotal: 1.65s\tremaining: 4.71s\n",
      "259:\tlearn: 0.4043908\ttotal: 1.65s\tremaining: 4.7s\n",
      "260:\tlearn: 0.4043908\ttotal: 1.66s\tremaining: 4.7s\n",
      "261:\tlearn: 0.4043908\ttotal: 1.67s\tremaining: 4.7s\n",
      "262:\tlearn: 0.4043908\ttotal: 1.67s\tremaining: 4.69s\n",
      "263:\tlearn: 0.4043908\ttotal: 1.68s\tremaining: 4.68s\n",
      "264:\tlearn: 0.4043908\ttotal: 1.69s\tremaining: 4.68s\n",
      "265:\tlearn: 0.4043908\ttotal: 1.7s\tremaining: 4.68s\n",
      "266:\tlearn: 0.4043908\ttotal: 1.71s\tremaining: 4.68s\n",
      "267:\tlearn: 0.4043908\ttotal: 1.71s\tremaining: 4.67s\n",
      "268:\tlearn: 0.4043908\ttotal: 1.72s\tremaining: 4.67s\n",
      "269:\tlearn: 0.4043908\ttotal: 1.72s\tremaining: 4.66s\n",
      "270:\tlearn: 0.4043908\ttotal: 1.73s\tremaining: 4.66s\n",
      "271:\tlearn: 0.4043908\ttotal: 1.74s\tremaining: 4.66s\n",
      "272:\tlearn: 0.4043908\ttotal: 1.75s\tremaining: 4.65s\n",
      "273:\tlearn: 0.4043908\ttotal: 1.75s\tremaining: 4.65s\n",
      "274:\tlearn: 0.4043908\ttotal: 1.76s\tremaining: 4.64s\n",
      "275:\tlearn: 0.4043908\ttotal: 1.77s\tremaining: 4.63s\n",
      "276:\tlearn: 0.4043908\ttotal: 1.77s\tremaining: 4.63s\n",
      "277:\tlearn: 0.4043908\ttotal: 1.78s\tremaining: 4.63s\n",
      "278:\tlearn: 0.4043908\ttotal: 1.79s\tremaining: 4.62s\n",
      "279:\tlearn: 0.4043908\ttotal: 1.79s\tremaining: 4.62s\n",
      "280:\tlearn: 0.4043908\ttotal: 1.8s\tremaining: 4.61s\n",
      "281:\tlearn: 0.4043908\ttotal: 1.81s\tremaining: 4.6s\n",
      "282:\tlearn: 0.4043908\ttotal: 1.81s\tremaining: 4.6s\n",
      "283:\tlearn: 0.4043908\ttotal: 1.82s\tremaining: 4.6s\n",
      "284:\tlearn: 0.4043908\ttotal: 1.83s\tremaining: 4.59s\n",
      "285:\tlearn: 0.4043908\ttotal: 1.84s\tremaining: 4.59s\n",
      "286:\tlearn: 0.4043908\ttotal: 1.84s\tremaining: 4.58s\n",
      "287:\tlearn: 0.4043908\ttotal: 1.85s\tremaining: 4.58s\n",
      "288:\tlearn: 0.4043908\ttotal: 1.86s\tremaining: 4.57s\n",
      "289:\tlearn: 0.4043908\ttotal: 1.87s\tremaining: 4.57s\n",
      "290:\tlearn: 0.4043908\ttotal: 1.87s\tremaining: 4.57s\n",
      "291:\tlearn: 0.4043908\ttotal: 1.88s\tremaining: 4.56s\n",
      "292:\tlearn: 0.4043908\ttotal: 1.89s\tremaining: 4.56s\n",
      "293:\tlearn: 0.4043908\ttotal: 1.9s\tremaining: 4.55s\n",
      "294:\tlearn: 0.4043908\ttotal: 1.9s\tremaining: 4.55s\n",
      "295:\tlearn: 0.4043908\ttotal: 1.91s\tremaining: 4.54s\n",
      "296:\tlearn: 0.4043908\ttotal: 1.92s\tremaining: 4.53s\n",
      "297:\tlearn: 0.4043908\ttotal: 1.92s\tremaining: 4.53s\n",
      "298:\tlearn: 0.4043908\ttotal: 1.93s\tremaining: 4.53s\n",
      "299:\tlearn: 0.4043908\ttotal: 1.94s\tremaining: 4.52s\n",
      "300:\tlearn: 0.4043908\ttotal: 1.94s\tremaining: 4.52s\n",
      "301:\tlearn: 0.4043908\ttotal: 1.95s\tremaining: 4.51s\n",
      "302:\tlearn: 0.4043908\ttotal: 1.96s\tremaining: 4.5s\n",
      "303:\tlearn: 0.4043908\ttotal: 1.97s\tremaining: 4.5s\n",
      "304:\tlearn: 0.4043908\ttotal: 1.97s\tremaining: 4.5s\n",
      "305:\tlearn: 0.4043908\ttotal: 1.98s\tremaining: 4.5s\n",
      "306:\tlearn: 0.4043908\ttotal: 1.99s\tremaining: 4.49s\n",
      "307:\tlearn: 0.4043908\ttotal: 2s\tremaining: 4.49s\n",
      "308:\tlearn: 0.4043908\ttotal: 2s\tremaining: 4.48s\n",
      "309:\tlearn: 0.4043908\ttotal: 2.01s\tremaining: 4.47s\n",
      "310:\tlearn: 0.4043908\ttotal: 2.02s\tremaining: 4.47s\n",
      "311:\tlearn: 0.4043908\ttotal: 2.02s\tremaining: 4.46s\n",
      "312:\tlearn: 0.4043908\ttotal: 2.03s\tremaining: 4.46s\n",
      "313:\tlearn: 0.4043908\ttotal: 2.04s\tremaining: 4.46s\n",
      "314:\tlearn: 0.4043908\ttotal: 2.05s\tremaining: 4.45s\n",
      "315:\tlearn: 0.4043908\ttotal: 2.05s\tremaining: 4.44s\n",
      "316:\tlearn: 0.4043908\ttotal: 2.06s\tremaining: 4.44s\n",
      "317:\tlearn: 0.4043908\ttotal: 2.07s\tremaining: 4.43s\n",
      "318:\tlearn: 0.4043908\ttotal: 2.07s\tremaining: 4.43s\n",
      "319:\tlearn: 0.4043908\ttotal: 2.08s\tremaining: 4.42s\n",
      "320:\tlearn: 0.4043908\ttotal: 2.09s\tremaining: 4.42s\n",
      "321:\tlearn: 0.4043908\ttotal: 2.1s\tremaining: 4.41s\n",
      "322:\tlearn: 0.4043908\ttotal: 2.1s\tremaining: 4.41s\n",
      "323:\tlearn: 0.4043908\ttotal: 2.11s\tremaining: 4.4s\n",
      "324:\tlearn: 0.4043908\ttotal: 2.12s\tremaining: 4.4s\n",
      "325:\tlearn: 0.4043908\ttotal: 2.12s\tremaining: 4.39s\n",
      "326:\tlearn: 0.4043908\ttotal: 2.13s\tremaining: 4.39s\n",
      "327:\tlearn: 0.4043908\ttotal: 2.14s\tremaining: 4.38s\n",
      "328:\tlearn: 0.4043908\ttotal: 2.15s\tremaining: 4.38s\n",
      "329:\tlearn: 0.4043908\ttotal: 2.15s\tremaining: 4.37s\n",
      "330:\tlearn: 0.4043908\ttotal: 2.16s\tremaining: 4.37s\n",
      "331:\tlearn: 0.4043908\ttotal: 2.17s\tremaining: 4.37s\n",
      "332:\tlearn: 0.4043908\ttotal: 2.18s\tremaining: 4.37s\n",
      "333:\tlearn: 0.4043908\ttotal: 2.19s\tremaining: 4.36s\n",
      "334:\tlearn: 0.4043908\ttotal: 2.19s\tremaining: 4.36s\n",
      "335:\tlearn: 0.4043908\ttotal: 2.2s\tremaining: 4.35s\n",
      "336:\tlearn: 0.4043908\ttotal: 2.21s\tremaining: 4.34s\n",
      "337:\tlearn: 0.4043908\ttotal: 2.22s\tremaining: 4.34s\n",
      "338:\tlearn: 0.4043908\ttotal: 2.23s\tremaining: 4.34s\n",
      "339:\tlearn: 0.4043908\ttotal: 2.23s\tremaining: 4.33s\n",
      "340:\tlearn: 0.4043908\ttotal: 2.24s\tremaining: 4.33s\n",
      "341:\tlearn: 0.4043908\ttotal: 2.24s\tremaining: 4.32s\n",
      "342:\tlearn: 0.4043908\ttotal: 2.25s\tremaining: 4.31s\n",
      "343:\tlearn: 0.4043908\ttotal: 2.26s\tremaining: 4.3s\n",
      "344:\tlearn: 0.4043908\ttotal: 2.27s\tremaining: 4.3s\n",
      "345:\tlearn: 0.4043908\ttotal: 2.27s\tremaining: 4.3s\n",
      "346:\tlearn: 0.4043908\ttotal: 2.28s\tremaining: 4.3s\n",
      "347:\tlearn: 0.4043908\ttotal: 2.29s\tremaining: 4.29s\n",
      "348:\tlearn: 0.4043908\ttotal: 2.3s\tremaining: 4.28s\n",
      "349:\tlearn: 0.4043908\ttotal: 2.3s\tremaining: 4.28s\n",
      "350:\tlearn: 0.4043908\ttotal: 2.31s\tremaining: 4.27s\n"
     ]
    },
    {
     "name": "stdout",
     "output_type": "stream",
     "text": [
      "351:\tlearn: 0.4043908\ttotal: 2.32s\tremaining: 4.27s\n",
      "352:\tlearn: 0.4043908\ttotal: 2.33s\tremaining: 4.26s\n",
      "353:\tlearn: 0.4043908\ttotal: 2.33s\tremaining: 4.26s\n",
      "354:\tlearn: 0.4043908\ttotal: 2.34s\tremaining: 4.25s\n",
      "355:\tlearn: 0.4043908\ttotal: 2.35s\tremaining: 4.25s\n",
      "356:\tlearn: 0.4043908\ttotal: 2.36s\tremaining: 4.25s\n",
      "357:\tlearn: 0.4043908\ttotal: 2.37s\tremaining: 4.24s\n",
      "358:\tlearn: 0.4043908\ttotal: 2.37s\tremaining: 4.24s\n",
      "359:\tlearn: 0.4043908\ttotal: 2.38s\tremaining: 4.23s\n",
      "360:\tlearn: 0.4043908\ttotal: 2.38s\tremaining: 4.22s\n",
      "361:\tlearn: 0.4043908\ttotal: 2.39s\tremaining: 4.22s\n",
      "362:\tlearn: 0.4043908\ttotal: 2.4s\tremaining: 4.21s\n",
      "363:\tlearn: 0.4043908\ttotal: 2.41s\tremaining: 4.21s\n",
      "364:\tlearn: 0.4043908\ttotal: 2.42s\tremaining: 4.2s\n",
      "365:\tlearn: 0.4043908\ttotal: 2.42s\tremaining: 4.2s\n",
      "366:\tlearn: 0.4043908\ttotal: 2.43s\tremaining: 4.19s\n",
      "367:\tlearn: 0.4043908\ttotal: 2.44s\tremaining: 4.18s\n",
      "368:\tlearn: 0.4043908\ttotal: 2.45s\tremaining: 4.19s\n",
      "369:\tlearn: 0.4043908\ttotal: 2.46s\tremaining: 4.18s\n",
      "370:\tlearn: 0.4043908\ttotal: 2.46s\tremaining: 4.18s\n",
      "371:\tlearn: 0.4043908\ttotal: 2.47s\tremaining: 4.17s\n",
      "372:\tlearn: 0.4043908\ttotal: 2.48s\tremaining: 4.17s\n",
      "373:\tlearn: 0.4043908\ttotal: 2.48s\tremaining: 4.16s\n",
      "374:\tlearn: 0.4043908\ttotal: 2.49s\tremaining: 4.15s\n",
      "375:\tlearn: 0.4043908\ttotal: 2.5s\tremaining: 4.15s\n",
      "376:\tlearn: 0.4043908\ttotal: 2.51s\tremaining: 4.14s\n",
      "377:\tlearn: 0.4043908\ttotal: 2.51s\tremaining: 4.14s\n",
      "378:\tlearn: 0.4043908\ttotal: 2.52s\tremaining: 4.13s\n",
      "379:\tlearn: 0.4043908\ttotal: 2.53s\tremaining: 4.13s\n",
      "380:\tlearn: 0.4043908\ttotal: 2.54s\tremaining: 4.12s\n",
      "381:\tlearn: 0.4043908\ttotal: 2.54s\tremaining: 4.12s\n",
      "382:\tlearn: 0.4043908\ttotal: 2.55s\tremaining: 4.11s\n",
      "383:\tlearn: 0.4043908\ttotal: 2.56s\tremaining: 4.11s\n",
      "384:\tlearn: 0.4043908\ttotal: 2.57s\tremaining: 4.1s\n",
      "385:\tlearn: 0.4043908\ttotal: 2.57s\tremaining: 4.09s\n",
      "386:\tlearn: 0.4043908\ttotal: 2.58s\tremaining: 4.09s\n",
      "387:\tlearn: 0.4043908\ttotal: 2.59s\tremaining: 4.08s\n",
      "388:\tlearn: 0.4043908\ttotal: 2.59s\tremaining: 4.08s\n",
      "389:\tlearn: 0.4043908\ttotal: 2.6s\tremaining: 4.07s\n",
      "390:\tlearn: 0.4043908\ttotal: 2.61s\tremaining: 4.06s\n",
      "391:\tlearn: 0.4043908\ttotal: 2.62s\tremaining: 4.06s\n",
      "392:\tlearn: 0.4043908\ttotal: 2.63s\tremaining: 4.05s\n",
      "393:\tlearn: 0.4043908\ttotal: 2.63s\tremaining: 4.05s\n",
      "394:\tlearn: 0.4043908\ttotal: 2.64s\tremaining: 4.05s\n",
      "395:\tlearn: 0.4043908\ttotal: 2.65s\tremaining: 4.04s\n",
      "396:\tlearn: 0.4043908\ttotal: 2.66s\tremaining: 4.04s\n",
      "397:\tlearn: 0.4043908\ttotal: 2.67s\tremaining: 4.04s\n",
      "398:\tlearn: 0.4043908\ttotal: 2.68s\tremaining: 4.04s\n",
      "399:\tlearn: 0.4043908\ttotal: 2.69s\tremaining: 4.03s\n",
      "400:\tlearn: 0.4043908\ttotal: 2.69s\tremaining: 4.03s\n",
      "401:\tlearn: 0.4043908\ttotal: 2.7s\tremaining: 4.02s\n",
      "402:\tlearn: 0.4043908\ttotal: 2.71s\tremaining: 4.01s\n",
      "403:\tlearn: 0.4043908\ttotal: 2.72s\tremaining: 4.01s\n",
      "404:\tlearn: 0.4043908\ttotal: 2.73s\tremaining: 4.01s\n",
      "405:\tlearn: 0.4043908\ttotal: 2.74s\tremaining: 4s\n",
      "406:\tlearn: 0.4043908\ttotal: 2.74s\tremaining: 4s\n",
      "407:\tlearn: 0.4043908\ttotal: 2.75s\tremaining: 4s\n",
      "408:\tlearn: 0.4043908\ttotal: 2.76s\tremaining: 3.99s\n",
      "409:\tlearn: 0.4043908\ttotal: 2.77s\tremaining: 3.99s\n",
      "410:\tlearn: 0.4043908\ttotal: 2.78s\tremaining: 3.98s\n",
      "411:\tlearn: 0.4043908\ttotal: 2.79s\tremaining: 3.98s\n",
      "412:\tlearn: 0.4043908\ttotal: 2.79s\tremaining: 3.97s\n",
      "413:\tlearn: 0.4043908\ttotal: 2.8s\tremaining: 3.97s\n",
      "414:\tlearn: 0.4043908\ttotal: 2.81s\tremaining: 3.97s\n",
      "415:\tlearn: 0.4043908\ttotal: 2.82s\tremaining: 3.96s\n",
      "416:\tlearn: 0.4043908\ttotal: 2.83s\tremaining: 3.96s\n",
      "417:\tlearn: 0.4043908\ttotal: 2.84s\tremaining: 3.96s\n",
      "418:\tlearn: 0.4043908\ttotal: 2.85s\tremaining: 3.95s\n",
      "419:\tlearn: 0.4043908\ttotal: 2.86s\tremaining: 3.95s\n",
      "420:\tlearn: 0.4043908\ttotal: 2.87s\tremaining: 3.94s\n",
      "421:\tlearn: 0.4043908\ttotal: 2.88s\tremaining: 3.94s\n",
      "422:\tlearn: 0.4043908\ttotal: 2.88s\tremaining: 3.94s\n",
      "423:\tlearn: 0.4043908\ttotal: 2.89s\tremaining: 3.93s\n",
      "424:\tlearn: 0.4043908\ttotal: 2.9s\tremaining: 3.92s\n",
      "425:\tlearn: 0.4043908\ttotal: 2.91s\tremaining: 3.92s\n",
      "426:\tlearn: 0.4043908\ttotal: 2.92s\tremaining: 3.91s\n",
      "427:\tlearn: 0.4043908\ttotal: 2.92s\tremaining: 3.91s\n",
      "428:\tlearn: 0.4043908\ttotal: 2.93s\tremaining: 3.9s\n",
      "429:\tlearn: 0.4043908\ttotal: 2.94s\tremaining: 3.9s\n",
      "430:\tlearn: 0.4043908\ttotal: 2.95s\tremaining: 3.89s\n",
      "431:\tlearn: 0.4043908\ttotal: 2.96s\tremaining: 3.89s\n",
      "432:\tlearn: 0.4043908\ttotal: 2.97s\tremaining: 3.88s\n",
      "433:\tlearn: 0.4043908\ttotal: 2.98s\tremaining: 3.88s\n",
      "434:\tlearn: 0.4043908\ttotal: 2.98s\tremaining: 3.88s\n",
      "435:\tlearn: 0.4043908\ttotal: 2.99s\tremaining: 3.87s\n",
      "436:\tlearn: 0.4043908\ttotal: 3s\tremaining: 3.86s\n",
      "437:\tlearn: 0.4043908\ttotal: 3.01s\tremaining: 3.86s\n",
      "438:\tlearn: 0.4043908\ttotal: 3.01s\tremaining: 3.85s\n",
      "439:\tlearn: 0.4043908\ttotal: 3.02s\tremaining: 3.85s\n",
      "440:\tlearn: 0.4043908\ttotal: 3.03s\tremaining: 3.84s\n",
      "441:\tlearn: 0.4043908\ttotal: 3.04s\tremaining: 3.83s\n",
      "442:\tlearn: 0.4043908\ttotal: 3.04s\tremaining: 3.83s\n",
      "443:\tlearn: 0.4043908\ttotal: 3.05s\tremaining: 3.83s\n",
      "444:\tlearn: 0.4043908\ttotal: 3.06s\tremaining: 3.82s\n",
      "445:\tlearn: 0.4043908\ttotal: 3.07s\tremaining: 3.81s\n",
      "446:\tlearn: 0.4043908\ttotal: 3.08s\tremaining: 3.81s\n",
      "447:\tlearn: 0.4043908\ttotal: 3.08s\tremaining: 3.8s\n",
      "448:\tlearn: 0.4043908\ttotal: 3.09s\tremaining: 3.79s\n",
      "449:\tlearn: 0.4043908\ttotal: 3.1s\tremaining: 3.79s\n",
      "450:\tlearn: 0.4043908\ttotal: 3.11s\tremaining: 3.78s\n",
      "451:\tlearn: 0.4043908\ttotal: 3.11s\tremaining: 3.77s\n",
      "452:\tlearn: 0.4043908\ttotal: 3.12s\tremaining: 3.77s\n",
      "453:\tlearn: 0.4043908\ttotal: 3.13s\tremaining: 3.76s\n",
      "454:\tlearn: 0.4043908\ttotal: 3.14s\tremaining: 3.76s\n",
      "455:\tlearn: 0.4043908\ttotal: 3.15s\tremaining: 3.76s\n",
      "456:\tlearn: 0.4043908\ttotal: 3.16s\tremaining: 3.76s\n",
      "457:\tlearn: 0.4043908\ttotal: 3.17s\tremaining: 3.75s\n",
      "458:\tlearn: 0.4043908\ttotal: 3.18s\tremaining: 3.75s\n",
      "459:\tlearn: 0.4043908\ttotal: 3.19s\tremaining: 3.74s\n",
      "460:\tlearn: 0.4043908\ttotal: 3.19s\tremaining: 3.74s\n",
      "461:\tlearn: 0.4043908\ttotal: 3.2s\tremaining: 3.73s\n",
      "462:\tlearn: 0.4043908\ttotal: 3.21s\tremaining: 3.72s\n",
      "463:\tlearn: 0.4043908\ttotal: 3.22s\tremaining: 3.72s\n",
      "464:\tlearn: 0.4043908\ttotal: 3.23s\tremaining: 3.71s\n",
      "465:\tlearn: 0.4043908\ttotal: 3.23s\tremaining: 3.71s\n",
      "466:\tlearn: 0.4043908\ttotal: 3.25s\tremaining: 3.7s\n",
      "467:\tlearn: 0.4043908\ttotal: 3.25s\tremaining: 3.7s\n",
      "468:\tlearn: 0.4043908\ttotal: 3.26s\tremaining: 3.69s\n",
      "469:\tlearn: 0.4043908\ttotal: 3.27s\tremaining: 3.69s\n",
      "470:\tlearn: 0.4043908\ttotal: 3.28s\tremaining: 3.68s\n",
      "471:\tlearn: 0.4043908\ttotal: 3.29s\tremaining: 3.68s\n",
      "472:\tlearn: 0.4043908\ttotal: 3.3s\tremaining: 3.67s\n",
      "473:\tlearn: 0.4043908\ttotal: 3.31s\tremaining: 3.67s\n",
      "474:\tlearn: 0.4043908\ttotal: 3.31s\tremaining: 3.66s\n",
      "475:\tlearn: 0.4043908\ttotal: 3.32s\tremaining: 3.65s\n",
      "476:\tlearn: 0.4043908\ttotal: 3.33s\tremaining: 3.65s\n",
      "477:\tlearn: 0.4043908\ttotal: 3.34s\tremaining: 3.65s\n",
      "478:\tlearn: 0.4043908\ttotal: 3.35s\tremaining: 3.64s\n",
      "479:\tlearn: 0.4043908\ttotal: 3.35s\tremaining: 3.63s\n",
      "480:\tlearn: 0.4043908\ttotal: 3.36s\tremaining: 3.63s\n",
      "481:\tlearn: 0.4043908\ttotal: 3.37s\tremaining: 3.62s\n",
      "482:\tlearn: 0.4043908\ttotal: 3.38s\tremaining: 3.62s\n",
      "483:\tlearn: 0.4043908\ttotal: 3.39s\tremaining: 3.61s\n",
      "484:\tlearn: 0.4043908\ttotal: 3.4s\tremaining: 3.61s\n",
      "485:\tlearn: 0.4043908\ttotal: 3.4s\tremaining: 3.6s\n",
      "486:\tlearn: 0.4043908\ttotal: 3.41s\tremaining: 3.59s\n",
      "487:\tlearn: 0.4043908\ttotal: 3.42s\tremaining: 3.59s\n",
      "488:\tlearn: 0.4043908\ttotal: 3.43s\tremaining: 3.58s\n",
      "489:\tlearn: 0.4043908\ttotal: 3.44s\tremaining: 3.58s\n",
      "490:\tlearn: 0.4043908\ttotal: 3.45s\tremaining: 3.58s\n",
      "491:\tlearn: 0.4043908\ttotal: 3.46s\tremaining: 3.57s\n",
      "492:\tlearn: 0.4043908\ttotal: 3.47s\tremaining: 3.56s\n",
      "493:\tlearn: 0.4043908\ttotal: 3.47s\tremaining: 3.56s\n",
      "494:\tlearn: 0.4043908\ttotal: 3.48s\tremaining: 3.55s\n",
      "495:\tlearn: 0.4043908\ttotal: 3.49s\tremaining: 3.55s\n",
      "496:\tlearn: 0.4043908\ttotal: 3.5s\tremaining: 3.54s\n",
      "497:\tlearn: 0.4043908\ttotal: 3.51s\tremaining: 3.53s\n",
      "498:\tlearn: 0.4043908\ttotal: 3.51s\tremaining: 3.53s\n",
      "499:\tlearn: 0.4043908\ttotal: 3.52s\tremaining: 3.52s\n",
      "500:\tlearn: 0.4043908\ttotal: 3.53s\tremaining: 3.52s\n",
      "501:\tlearn: 0.4043908\ttotal: 3.54s\tremaining: 3.52s\n",
      "502:\tlearn: 0.4043908\ttotal: 3.55s\tremaining: 3.51s\n",
      "503:\tlearn: 0.4043908\ttotal: 3.56s\tremaining: 3.5s\n",
      "504:\tlearn: 0.4043908\ttotal: 3.56s\tremaining: 3.49s\n",
      "505:\tlearn: 0.4043908\ttotal: 3.57s\tremaining: 3.49s\n",
      "506:\tlearn: 0.4043908\ttotal: 3.58s\tremaining: 3.48s\n",
      "507:\tlearn: 0.4043908\ttotal: 3.59s\tremaining: 3.47s\n",
      "508:\tlearn: 0.4043908\ttotal: 3.6s\tremaining: 3.47s\n",
      "509:\tlearn: 0.4043908\ttotal: 3.6s\tremaining: 3.46s\n",
      "510:\tlearn: 0.4043908\ttotal: 3.62s\tremaining: 3.46s\n",
      "511:\tlearn: 0.4043908\ttotal: 3.62s\tremaining: 3.45s\n",
      "512:\tlearn: 0.4043908\ttotal: 3.63s\tremaining: 3.45s\n",
      "513:\tlearn: 0.4043908\ttotal: 3.64s\tremaining: 3.44s\n",
      "514:\tlearn: 0.4043908\ttotal: 3.65s\tremaining: 3.43s\n",
      "515:\tlearn: 0.4043908\ttotal: 3.65s\tremaining: 3.43s\n",
      "516:\tlearn: 0.4043908\ttotal: 3.66s\tremaining: 3.42s\n",
      "517:\tlearn: 0.4043908\ttotal: 3.67s\tremaining: 3.41s\n",
      "518:\tlearn: 0.4043908\ttotal: 3.68s\tremaining: 3.41s\n",
      "519:\tlearn: 0.4043908\ttotal: 3.68s\tremaining: 3.4s\n",
      "520:\tlearn: 0.4043908\ttotal: 3.69s\tremaining: 3.39s\n",
      "521:\tlearn: 0.4043908\ttotal: 3.7s\tremaining: 3.39s\n",
      "522:\tlearn: 0.4043908\ttotal: 3.71s\tremaining: 3.39s\n",
      "523:\tlearn: 0.4043908\ttotal: 3.73s\tremaining: 3.38s\n",
      "524:\tlearn: 0.4043908\ttotal: 3.73s\tremaining: 3.38s\n",
      "525:\tlearn: 0.4043908\ttotal: 3.74s\tremaining: 3.37s\n",
      "526:\tlearn: 0.4043908\ttotal: 3.75s\tremaining: 3.37s\n",
      "527:\tlearn: 0.4043908\ttotal: 3.76s\tremaining: 3.36s\n"
     ]
    },
    {
     "name": "stdout",
     "output_type": "stream",
     "text": [
      "528:\tlearn: 0.4043908\ttotal: 3.77s\tremaining: 3.35s\n",
      "529:\tlearn: 0.4043908\ttotal: 3.78s\tremaining: 3.35s\n",
      "530:\tlearn: 0.4043908\ttotal: 3.79s\tremaining: 3.34s\n",
      "531:\tlearn: 0.4043908\ttotal: 3.79s\tremaining: 3.34s\n",
      "532:\tlearn: 0.4043908\ttotal: 3.8s\tremaining: 3.33s\n",
      "533:\tlearn: 0.4043908\ttotal: 3.81s\tremaining: 3.32s\n",
      "534:\tlearn: 0.4043908\ttotal: 3.82s\tremaining: 3.32s\n",
      "535:\tlearn: 0.4043908\ttotal: 3.83s\tremaining: 3.31s\n",
      "536:\tlearn: 0.4043908\ttotal: 3.84s\tremaining: 3.31s\n",
      "537:\tlearn: 0.4043908\ttotal: 3.84s\tremaining: 3.3s\n",
      "538:\tlearn: 0.4043908\ttotal: 3.85s\tremaining: 3.29s\n",
      "539:\tlearn: 0.4043908\ttotal: 3.86s\tremaining: 3.29s\n",
      "540:\tlearn: 0.4043908\ttotal: 3.87s\tremaining: 3.28s\n",
      "541:\tlearn: 0.4043908\ttotal: 3.88s\tremaining: 3.28s\n",
      "542:\tlearn: 0.4043908\ttotal: 3.89s\tremaining: 3.27s\n",
      "543:\tlearn: 0.4043908\ttotal: 3.9s\tremaining: 3.27s\n",
      "544:\tlearn: 0.4043908\ttotal: 3.91s\tremaining: 3.26s\n",
      "545:\tlearn: 0.4043908\ttotal: 3.91s\tremaining: 3.25s\n",
      "546:\tlearn: 0.4043908\ttotal: 3.92s\tremaining: 3.25s\n",
      "547:\tlearn: 0.4043908\ttotal: 3.93s\tremaining: 3.24s\n",
      "548:\tlearn: 0.4043908\ttotal: 3.94s\tremaining: 3.24s\n",
      "549:\tlearn: 0.4043908\ttotal: 3.95s\tremaining: 3.23s\n",
      "550:\tlearn: 0.4043908\ttotal: 3.96s\tremaining: 3.22s\n",
      "551:\tlearn: 0.4043908\ttotal: 3.96s\tremaining: 3.21s\n",
      "552:\tlearn: 0.4043908\ttotal: 3.97s\tremaining: 3.21s\n",
      "553:\tlearn: 0.4043908\ttotal: 3.98s\tremaining: 3.21s\n",
      "554:\tlearn: 0.4043908\ttotal: 3.99s\tremaining: 3.2s\n",
      "555:\tlearn: 0.4043908\ttotal: 4s\tremaining: 3.19s\n",
      "556:\tlearn: 0.4043908\ttotal: 4s\tremaining: 3.19s\n",
      "557:\tlearn: 0.4043908\ttotal: 4.02s\tremaining: 3.18s\n",
      "558:\tlearn: 0.4043908\ttotal: 4.03s\tremaining: 3.18s\n",
      "559:\tlearn: 0.4043908\ttotal: 4.04s\tremaining: 3.17s\n",
      "560:\tlearn: 0.4043908\ttotal: 4.04s\tremaining: 3.16s\n",
      "561:\tlearn: 0.4043908\ttotal: 4.05s\tremaining: 3.16s\n",
      "562:\tlearn: 0.4043908\ttotal: 4.06s\tremaining: 3.15s\n",
      "563:\tlearn: 0.4043908\ttotal: 4.07s\tremaining: 3.14s\n",
      "564:\tlearn: 0.4043908\ttotal: 4.08s\tremaining: 3.14s\n",
      "565:\tlearn: 0.4043908\ttotal: 4.08s\tremaining: 3.13s\n",
      "566:\tlearn: 0.4043908\ttotal: 4.09s\tremaining: 3.13s\n",
      "567:\tlearn: 0.4043908\ttotal: 4.1s\tremaining: 3.12s\n",
      "568:\tlearn: 0.4043908\ttotal: 4.11s\tremaining: 3.11s\n",
      "569:\tlearn: 0.4043908\ttotal: 4.12s\tremaining: 3.11s\n",
      "570:\tlearn: 0.4043908\ttotal: 4.12s\tremaining: 3.1s\n",
      "571:\tlearn: 0.4043908\ttotal: 4.13s\tremaining: 3.09s\n",
      "572:\tlearn: 0.4043908\ttotal: 4.14s\tremaining: 3.08s\n",
      "573:\tlearn: 0.4043908\ttotal: 4.15s\tremaining: 3.08s\n",
      "574:\tlearn: 0.4043908\ttotal: 4.15s\tremaining: 3.07s\n",
      "575:\tlearn: 0.4043908\ttotal: 4.16s\tremaining: 3.06s\n",
      "576:\tlearn: 0.4043908\ttotal: 4.17s\tremaining: 3.06s\n",
      "577:\tlearn: 0.4043908\ttotal: 4.18s\tremaining: 3.05s\n",
      "578:\tlearn: 0.4043908\ttotal: 4.18s\tremaining: 3.04s\n",
      "579:\tlearn: 0.4043908\ttotal: 4.19s\tremaining: 3.04s\n",
      "580:\tlearn: 0.4043908\ttotal: 4.2s\tremaining: 3.03s\n",
      "581:\tlearn: 0.4043908\ttotal: 4.21s\tremaining: 3.02s\n",
      "582:\tlearn: 0.4043908\ttotal: 4.22s\tremaining: 3.02s\n",
      "583:\tlearn: 0.4043908\ttotal: 4.22s\tremaining: 3.01s\n",
      "584:\tlearn: 0.4043908\ttotal: 4.23s\tremaining: 3s\n",
      "585:\tlearn: 0.4043908\ttotal: 4.24s\tremaining: 3s\n",
      "586:\tlearn: 0.4043908\ttotal: 4.25s\tremaining: 2.99s\n",
      "587:\tlearn: 0.4043908\ttotal: 4.25s\tremaining: 2.98s\n",
      "588:\tlearn: 0.4043908\ttotal: 4.26s\tremaining: 2.98s\n",
      "589:\tlearn: 0.4043908\ttotal: 4.27s\tremaining: 2.97s\n",
      "590:\tlearn: 0.4043908\ttotal: 4.28s\tremaining: 2.96s\n",
      "591:\tlearn: 0.4043908\ttotal: 4.28s\tremaining: 2.95s\n",
      "592:\tlearn: 0.4043908\ttotal: 4.29s\tremaining: 2.94s\n",
      "593:\tlearn: 0.4043908\ttotal: 4.3s\tremaining: 2.94s\n",
      "594:\tlearn: 0.4043908\ttotal: 4.31s\tremaining: 2.93s\n",
      "595:\tlearn: 0.4043908\ttotal: 4.32s\tremaining: 2.93s\n",
      "596:\tlearn: 0.4043908\ttotal: 4.33s\tremaining: 2.92s\n",
      "597:\tlearn: 0.4043908\ttotal: 4.33s\tremaining: 2.91s\n",
      "598:\tlearn: 0.4043908\ttotal: 4.34s\tremaining: 2.91s\n",
      "599:\tlearn: 0.4043908\ttotal: 4.35s\tremaining: 2.9s\n",
      "600:\tlearn: 0.4043908\ttotal: 4.36s\tremaining: 2.89s\n",
      "601:\tlearn: 0.4043908\ttotal: 4.37s\tremaining: 2.89s\n",
      "602:\tlearn: 0.4043908\ttotal: 4.38s\tremaining: 2.88s\n",
      "603:\tlearn: 0.4043908\ttotal: 4.38s\tremaining: 2.87s\n",
      "604:\tlearn: 0.4043908\ttotal: 4.39s\tremaining: 2.87s\n",
      "605:\tlearn: 0.4043908\ttotal: 4.4s\tremaining: 2.86s\n",
      "606:\tlearn: 0.4043908\ttotal: 4.41s\tremaining: 2.85s\n",
      "607:\tlearn: 0.4043908\ttotal: 4.42s\tremaining: 2.85s\n",
      "608:\tlearn: 0.4043908\ttotal: 4.42s\tremaining: 2.84s\n",
      "609:\tlearn: 0.4043908\ttotal: 4.43s\tremaining: 2.83s\n",
      "610:\tlearn: 0.4043908\ttotal: 4.44s\tremaining: 2.83s\n",
      "611:\tlearn: 0.4043908\ttotal: 4.45s\tremaining: 2.82s\n",
      "612:\tlearn: 0.4043908\ttotal: 4.46s\tremaining: 2.81s\n",
      "613:\tlearn: 0.4043908\ttotal: 4.46s\tremaining: 2.81s\n",
      "614:\tlearn: 0.4043908\ttotal: 4.48s\tremaining: 2.8s\n",
      "615:\tlearn: 0.4043908\ttotal: 4.49s\tremaining: 2.8s\n",
      "616:\tlearn: 0.4043908\ttotal: 4.5s\tremaining: 2.79s\n",
      "617:\tlearn: 0.4043908\ttotal: 4.5s\tremaining: 2.78s\n",
      "618:\tlearn: 0.4043908\ttotal: 4.51s\tremaining: 2.78s\n",
      "619:\tlearn: 0.4043908\ttotal: 4.52s\tremaining: 2.77s\n",
      "620:\tlearn: 0.4043908\ttotal: 4.53s\tremaining: 2.76s\n",
      "621:\tlearn: 0.4043908\ttotal: 4.54s\tremaining: 2.76s\n",
      "622:\tlearn: 0.4043908\ttotal: 4.55s\tremaining: 2.75s\n",
      "623:\tlearn: 0.4043908\ttotal: 4.56s\tremaining: 2.75s\n",
      "624:\tlearn: 0.4043908\ttotal: 4.57s\tremaining: 2.74s\n",
      "625:\tlearn: 0.4043908\ttotal: 4.57s\tremaining: 2.73s\n",
      "626:\tlearn: 0.4043908\ttotal: 4.58s\tremaining: 2.72s\n",
      "627:\tlearn: 0.4043908\ttotal: 4.59s\tremaining: 2.72s\n",
      "628:\tlearn: 0.4043908\ttotal: 4.6s\tremaining: 2.71s\n",
      "629:\tlearn: 0.4043908\ttotal: 4.61s\tremaining: 2.71s\n",
      "630:\tlearn: 0.4043908\ttotal: 4.62s\tremaining: 2.7s\n",
      "631:\tlearn: 0.4043908\ttotal: 4.63s\tremaining: 2.69s\n",
      "632:\tlearn: 0.4043908\ttotal: 4.64s\tremaining: 2.69s\n",
      "633:\tlearn: 0.4043908\ttotal: 4.64s\tremaining: 2.68s\n",
      "634:\tlearn: 0.4043908\ttotal: 4.65s\tremaining: 2.67s\n",
      "635:\tlearn: 0.4043908\ttotal: 4.66s\tremaining: 2.67s\n",
      "636:\tlearn: 0.4043908\ttotal: 4.67s\tremaining: 2.66s\n",
      "637:\tlearn: 0.4043908\ttotal: 4.68s\tremaining: 2.65s\n",
      "638:\tlearn: 0.4043908\ttotal: 4.69s\tremaining: 2.65s\n",
      "639:\tlearn: 0.4043908\ttotal: 4.7s\tremaining: 2.64s\n",
      "640:\tlearn: 0.4043908\ttotal: 4.7s\tremaining: 2.63s\n",
      "641:\tlearn: 0.4043908\ttotal: 4.71s\tremaining: 2.63s\n",
      "642:\tlearn: 0.4043908\ttotal: 4.72s\tremaining: 2.62s\n",
      "643:\tlearn: 0.4043908\ttotal: 4.72s\tremaining: 2.61s\n",
      "644:\tlearn: 0.4043908\ttotal: 4.73s\tremaining: 2.6s\n",
      "645:\tlearn: 0.4043908\ttotal: 4.74s\tremaining: 2.6s\n",
      "646:\tlearn: 0.4043908\ttotal: 4.75s\tremaining: 2.59s\n",
      "647:\tlearn: 0.4043908\ttotal: 4.75s\tremaining: 2.58s\n",
      "648:\tlearn: 0.4043908\ttotal: 4.77s\tremaining: 2.58s\n",
      "649:\tlearn: 0.4043908\ttotal: 4.78s\tremaining: 2.57s\n",
      "650:\tlearn: 0.4043908\ttotal: 4.8s\tremaining: 2.57s\n",
      "651:\tlearn: 0.4043908\ttotal: 4.8s\tremaining: 2.56s\n",
      "652:\tlearn: 0.4043908\ttotal: 4.82s\tremaining: 2.56s\n",
      "653:\tlearn: 0.4043908\ttotal: 4.83s\tremaining: 2.55s\n",
      "654:\tlearn: 0.4043908\ttotal: 4.84s\tremaining: 2.55s\n",
      "655:\tlearn: 0.4043908\ttotal: 4.84s\tremaining: 2.54s\n",
      "656:\tlearn: 0.4043908\ttotal: 4.86s\tremaining: 2.54s\n",
      "657:\tlearn: 0.4043908\ttotal: 4.88s\tremaining: 2.54s\n",
      "658:\tlearn: 0.4043908\ttotal: 4.89s\tremaining: 2.53s\n",
      "659:\tlearn: 0.4043908\ttotal: 4.9s\tremaining: 2.52s\n",
      "660:\tlearn: 0.4043908\ttotal: 4.91s\tremaining: 2.52s\n",
      "661:\tlearn: 0.4043908\ttotal: 4.91s\tremaining: 2.51s\n",
      "662:\tlearn: 0.4043908\ttotal: 4.93s\tremaining: 2.5s\n",
      "663:\tlearn: 0.4043908\ttotal: 4.94s\tremaining: 2.5s\n",
      "664:\tlearn: 0.4043908\ttotal: 4.95s\tremaining: 2.49s\n",
      "665:\tlearn: 0.4043908\ttotal: 4.96s\tremaining: 2.49s\n",
      "666:\tlearn: 0.4043908\ttotal: 4.97s\tremaining: 2.48s\n",
      "667:\tlearn: 0.4043908\ttotal: 4.98s\tremaining: 2.48s\n",
      "668:\tlearn: 0.4043908\ttotal: 4.99s\tremaining: 2.47s\n",
      "669:\tlearn: 0.4043908\ttotal: 5s\tremaining: 2.46s\n",
      "670:\tlearn: 0.4043908\ttotal: 5s\tremaining: 2.45s\n",
      "671:\tlearn: 0.4043908\ttotal: 5.01s\tremaining: 2.45s\n",
      "672:\tlearn: 0.4043908\ttotal: 5.02s\tremaining: 2.44s\n",
      "673:\tlearn: 0.4043908\ttotal: 5.03s\tremaining: 2.43s\n",
      "674:\tlearn: 0.4043908\ttotal: 5.04s\tremaining: 2.42s\n",
      "675:\tlearn: 0.4043908\ttotal: 5.05s\tremaining: 2.42s\n",
      "676:\tlearn: 0.4043908\ttotal: 5.05s\tremaining: 2.41s\n",
      "677:\tlearn: 0.4043908\ttotal: 5.06s\tremaining: 2.4s\n",
      "678:\tlearn: 0.4043908\ttotal: 5.07s\tremaining: 2.4s\n",
      "679:\tlearn: 0.4043908\ttotal: 5.08s\tremaining: 2.39s\n",
      "680:\tlearn: 0.4043908\ttotal: 5.08s\tremaining: 2.38s\n",
      "681:\tlearn: 0.4043908\ttotal: 5.09s\tremaining: 2.38s\n",
      "682:\tlearn: 0.4043908\ttotal: 5.1s\tremaining: 2.37s\n",
      "683:\tlearn: 0.4043908\ttotal: 5.11s\tremaining: 2.36s\n",
      "684:\tlearn: 0.4043908\ttotal: 5.12s\tremaining: 2.35s\n",
      "685:\tlearn: 0.4043908\ttotal: 5.13s\tremaining: 2.35s\n",
      "686:\tlearn: 0.4043908\ttotal: 5.13s\tremaining: 2.34s\n",
      "687:\tlearn: 0.4043908\ttotal: 5.14s\tremaining: 2.33s\n",
      "688:\tlearn: 0.4043908\ttotal: 5.15s\tremaining: 2.32s\n",
      "689:\tlearn: 0.4043908\ttotal: 5.15s\tremaining: 2.31s\n",
      "690:\tlearn: 0.4043908\ttotal: 5.16s\tremaining: 2.31s\n",
      "691:\tlearn: 0.4043908\ttotal: 5.17s\tremaining: 2.3s\n",
      "692:\tlearn: 0.4043908\ttotal: 5.18s\tremaining: 2.29s\n",
      "693:\tlearn: 0.4043908\ttotal: 5.19s\tremaining: 2.29s\n",
      "694:\tlearn: 0.4043908\ttotal: 5.2s\tremaining: 2.28s\n"
     ]
    },
    {
     "name": "stdout",
     "output_type": "stream",
     "text": [
      "695:\tlearn: 0.4043908\ttotal: 5.2s\tremaining: 2.27s\n",
      "696:\tlearn: 0.4043908\ttotal: 5.21s\tremaining: 2.27s\n",
      "697:\tlearn: 0.4043908\ttotal: 5.22s\tremaining: 2.26s\n",
      "698:\tlearn: 0.4043908\ttotal: 5.23s\tremaining: 2.25s\n",
      "699:\tlearn: 0.4043908\ttotal: 5.23s\tremaining: 2.24s\n",
      "700:\tlearn: 0.4043908\ttotal: 5.24s\tremaining: 2.23s\n",
      "701:\tlearn: 0.4043908\ttotal: 5.25s\tremaining: 2.23s\n",
      "702:\tlearn: 0.4043908\ttotal: 5.26s\tremaining: 2.22s\n",
      "703:\tlearn: 0.4043908\ttotal: 5.27s\tremaining: 2.21s\n",
      "704:\tlearn: 0.4043908\ttotal: 5.28s\tremaining: 2.21s\n",
      "705:\tlearn: 0.4043908\ttotal: 5.28s\tremaining: 2.2s\n",
      "706:\tlearn: 0.4043908\ttotal: 5.3s\tremaining: 2.19s\n",
      "707:\tlearn: 0.4043908\ttotal: 5.3s\tremaining: 2.19s\n",
      "708:\tlearn: 0.4043908\ttotal: 5.31s\tremaining: 2.18s\n",
      "709:\tlearn: 0.4043908\ttotal: 5.32s\tremaining: 2.17s\n",
      "710:\tlearn: 0.4043908\ttotal: 5.33s\tremaining: 2.17s\n",
      "711:\tlearn: 0.4043908\ttotal: 5.34s\tremaining: 2.16s\n",
      "712:\tlearn: 0.4043908\ttotal: 5.34s\tremaining: 2.15s\n",
      "713:\tlearn: 0.4043908\ttotal: 5.36s\tremaining: 2.15s\n",
      "714:\tlearn: 0.4043908\ttotal: 5.37s\tremaining: 2.14s\n",
      "715:\tlearn: 0.4043908\ttotal: 5.38s\tremaining: 2.13s\n",
      "716:\tlearn: 0.4043908\ttotal: 5.38s\tremaining: 2.12s\n",
      "717:\tlearn: 0.4043908\ttotal: 5.39s\tremaining: 2.12s\n",
      "718:\tlearn: 0.4043908\ttotal: 5.4s\tremaining: 2.11s\n",
      "719:\tlearn: 0.4043908\ttotal: 5.41s\tremaining: 2.1s\n",
      "720:\tlearn: 0.4043908\ttotal: 5.42s\tremaining: 2.1s\n",
      "721:\tlearn: 0.4043908\ttotal: 5.42s\tremaining: 2.09s\n",
      "722:\tlearn: 0.4043908\ttotal: 5.43s\tremaining: 2.08s\n",
      "723:\tlearn: 0.4043908\ttotal: 5.44s\tremaining: 2.07s\n",
      "724:\tlearn: 0.4043908\ttotal: 5.45s\tremaining: 2.07s\n",
      "725:\tlearn: 0.4043908\ttotal: 5.45s\tremaining: 2.06s\n",
      "726:\tlearn: 0.4043908\ttotal: 5.46s\tremaining: 2.05s\n",
      "727:\tlearn: 0.4043908\ttotal: 5.47s\tremaining: 2.04s\n",
      "728:\tlearn: 0.4043908\ttotal: 5.48s\tremaining: 2.04s\n",
      "729:\tlearn: 0.4043908\ttotal: 5.49s\tremaining: 2.03s\n",
      "730:\tlearn: 0.4043908\ttotal: 5.5s\tremaining: 2.02s\n",
      "731:\tlearn: 0.4043908\ttotal: 5.5s\tremaining: 2.02s\n",
      "732:\tlearn: 0.4043908\ttotal: 5.51s\tremaining: 2.01s\n",
      "733:\tlearn: 0.4043908\ttotal: 5.52s\tremaining: 2s\n",
      "734:\tlearn: 0.4043908\ttotal: 5.53s\tremaining: 1.99s\n",
      "735:\tlearn: 0.4043908\ttotal: 5.54s\tremaining: 1.99s\n",
      "736:\tlearn: 0.4043908\ttotal: 5.55s\tremaining: 1.98s\n",
      "737:\tlearn: 0.4043908\ttotal: 5.55s\tremaining: 1.97s\n",
      "738:\tlearn: 0.4043908\ttotal: 5.56s\tremaining: 1.96s\n",
      "739:\tlearn: 0.4043908\ttotal: 5.57s\tremaining: 1.96s\n",
      "740:\tlearn: 0.4043908\ttotal: 5.58s\tremaining: 1.95s\n",
      "741:\tlearn: 0.4043908\ttotal: 5.59s\tremaining: 1.94s\n",
      "742:\tlearn: 0.4043908\ttotal: 5.6s\tremaining: 1.94s\n",
      "743:\tlearn: 0.4043908\ttotal: 5.61s\tremaining: 1.93s\n",
      "744:\tlearn: 0.4043908\ttotal: 5.62s\tremaining: 1.92s\n",
      "745:\tlearn: 0.4043908\ttotal: 5.62s\tremaining: 1.91s\n",
      "746:\tlearn: 0.4043908\ttotal: 5.63s\tremaining: 1.91s\n",
      "747:\tlearn: 0.4043908\ttotal: 5.64s\tremaining: 1.9s\n",
      "748:\tlearn: 0.4043908\ttotal: 5.65s\tremaining: 1.89s\n",
      "749:\tlearn: 0.4043908\ttotal: 5.65s\tremaining: 1.88s\n",
      "750:\tlearn: 0.4043908\ttotal: 5.66s\tremaining: 1.88s\n",
      "751:\tlearn: 0.4043908\ttotal: 5.67s\tremaining: 1.87s\n",
      "752:\tlearn: 0.4043908\ttotal: 5.68s\tremaining: 1.86s\n",
      "753:\tlearn: 0.4043908\ttotal: 5.69s\tremaining: 1.85s\n",
      "754:\tlearn: 0.4043908\ttotal: 5.69s\tremaining: 1.85s\n",
      "755:\tlearn: 0.4043908\ttotal: 5.7s\tremaining: 1.84s\n",
      "756:\tlearn: 0.4043908\ttotal: 5.71s\tremaining: 1.83s\n",
      "757:\tlearn: 0.4043908\ttotal: 5.71s\tremaining: 1.82s\n",
      "758:\tlearn: 0.4043908\ttotal: 5.72s\tremaining: 1.82s\n",
      "759:\tlearn: 0.4043908\ttotal: 5.73s\tremaining: 1.81s\n",
      "760:\tlearn: 0.4043908\ttotal: 5.74s\tremaining: 1.8s\n",
      "761:\tlearn: 0.4043908\ttotal: 5.74s\tremaining: 1.79s\n",
      "762:\tlearn: 0.4043908\ttotal: 5.75s\tremaining: 1.79s\n",
      "763:\tlearn: 0.4043908\ttotal: 5.76s\tremaining: 1.78s\n",
      "764:\tlearn: 0.4043908\ttotal: 5.76s\tremaining: 1.77s\n",
      "765:\tlearn: 0.4043908\ttotal: 5.78s\tremaining: 1.76s\n",
      "766:\tlearn: 0.4043908\ttotal: 5.79s\tremaining: 1.76s\n",
      "767:\tlearn: 0.4043908\ttotal: 5.79s\tremaining: 1.75s\n",
      "768:\tlearn: 0.4043908\ttotal: 5.8s\tremaining: 1.74s\n",
      "769:\tlearn: 0.4043908\ttotal: 5.81s\tremaining: 1.73s\n",
      "770:\tlearn: 0.4043908\ttotal: 5.82s\tremaining: 1.73s\n",
      "771:\tlearn: 0.4043908\ttotal: 5.83s\tremaining: 1.72s\n",
      "772:\tlearn: 0.4043908\ttotal: 5.83s\tremaining: 1.71s\n",
      "773:\tlearn: 0.4043908\ttotal: 5.84s\tremaining: 1.71s\n",
      "774:\tlearn: 0.4043908\ttotal: 5.85s\tremaining: 1.7s\n",
      "775:\tlearn: 0.4043908\ttotal: 5.86s\tremaining: 1.69s\n",
      "776:\tlearn: 0.4043908\ttotal: 5.87s\tremaining: 1.68s\n",
      "777:\tlearn: 0.4043908\ttotal: 5.88s\tremaining: 1.68s\n",
      "778:\tlearn: 0.4043908\ttotal: 5.89s\tremaining: 1.67s\n",
      "779:\tlearn: 0.4043908\ttotal: 5.89s\tremaining: 1.66s\n",
      "780:\tlearn: 0.4043908\ttotal: 5.9s\tremaining: 1.65s\n",
      "781:\tlearn: 0.4043908\ttotal: 5.91s\tremaining: 1.65s\n",
      "782:\tlearn: 0.4043908\ttotal: 5.92s\tremaining: 1.64s\n",
      "783:\tlearn: 0.4043908\ttotal: 5.93s\tremaining: 1.63s\n",
      "784:\tlearn: 0.4043908\ttotal: 5.93s\tremaining: 1.63s\n",
      "785:\tlearn: 0.4043908\ttotal: 5.94s\tremaining: 1.62s\n",
      "786:\tlearn: 0.4043908\ttotal: 5.95s\tremaining: 1.61s\n",
      "787:\tlearn: 0.4043908\ttotal: 5.96s\tremaining: 1.6s\n",
      "788:\tlearn: 0.4043908\ttotal: 5.96s\tremaining: 1.59s\n",
      "789:\tlearn: 0.4043908\ttotal: 5.97s\tremaining: 1.59s\n",
      "790:\tlearn: 0.4043908\ttotal: 5.98s\tremaining: 1.58s\n",
      "791:\tlearn: 0.4043908\ttotal: 5.99s\tremaining: 1.57s\n",
      "792:\tlearn: 0.4043908\ttotal: 6s\tremaining: 1.57s\n",
      "793:\tlearn: 0.4043908\ttotal: 6.01s\tremaining: 1.56s\n",
      "794:\tlearn: 0.4043908\ttotal: 6.01s\tremaining: 1.55s\n",
      "795:\tlearn: 0.4043908\ttotal: 6.02s\tremaining: 1.54s\n",
      "796:\tlearn: 0.4043908\ttotal: 6.03s\tremaining: 1.54s\n",
      "797:\tlearn: 0.4043908\ttotal: 6.04s\tremaining: 1.53s\n",
      "798:\tlearn: 0.4043908\ttotal: 6.05s\tremaining: 1.52s\n",
      "799:\tlearn: 0.4043908\ttotal: 6.05s\tremaining: 1.51s\n",
      "800:\tlearn: 0.4043908\ttotal: 6.07s\tremaining: 1.51s\n",
      "801:\tlearn: 0.4043908\ttotal: 6.08s\tremaining: 1.5s\n",
      "802:\tlearn: 0.4043908\ttotal: 6.08s\tremaining: 1.49s\n",
      "803:\tlearn: 0.4043908\ttotal: 6.09s\tremaining: 1.49s\n",
      "804:\tlearn: 0.4043908\ttotal: 6.1s\tremaining: 1.48s\n",
      "805:\tlearn: 0.4043908\ttotal: 6.11s\tremaining: 1.47s\n",
      "806:\tlearn: 0.4043908\ttotal: 6.11s\tremaining: 1.46s\n",
      "807:\tlearn: 0.4043908\ttotal: 6.12s\tremaining: 1.45s\n",
      "808:\tlearn: 0.4043908\ttotal: 6.13s\tremaining: 1.45s\n",
      "809:\tlearn: 0.4043908\ttotal: 6.14s\tremaining: 1.44s\n",
      "810:\tlearn: 0.4043908\ttotal: 6.15s\tremaining: 1.43s\n",
      "811:\tlearn: 0.4043908\ttotal: 6.15s\tremaining: 1.42s\n",
      "812:\tlearn: 0.4043908\ttotal: 6.16s\tremaining: 1.42s\n",
      "813:\tlearn: 0.4043908\ttotal: 6.17s\tremaining: 1.41s\n",
      "814:\tlearn: 0.4043908\ttotal: 6.17s\tremaining: 1.4s\n",
      "815:\tlearn: 0.4043908\ttotal: 6.18s\tremaining: 1.39s\n",
      "816:\tlearn: 0.4043908\ttotal: 6.19s\tremaining: 1.39s\n",
      "817:\tlearn: 0.4043908\ttotal: 6.19s\tremaining: 1.38s\n",
      "818:\tlearn: 0.4043908\ttotal: 6.2s\tremaining: 1.37s\n",
      "819:\tlearn: 0.4043908\ttotal: 6.21s\tremaining: 1.36s\n",
      "820:\tlearn: 0.4043908\ttotal: 6.21s\tremaining: 1.35s\n",
      "821:\tlearn: 0.4043908\ttotal: 6.22s\tremaining: 1.35s\n",
      "822:\tlearn: 0.4043908\ttotal: 6.23s\tremaining: 1.34s\n",
      "823:\tlearn: 0.4043908\ttotal: 6.24s\tremaining: 1.33s\n",
      "824:\tlearn: 0.4043908\ttotal: 6.25s\tremaining: 1.32s\n",
      "825:\tlearn: 0.4043908\ttotal: 6.25s\tremaining: 1.32s\n",
      "826:\tlearn: 0.4043908\ttotal: 6.26s\tremaining: 1.31s\n",
      "827:\tlearn: 0.4043908\ttotal: 6.27s\tremaining: 1.3s\n",
      "828:\tlearn: 0.4043908\ttotal: 6.28s\tremaining: 1.29s\n",
      "829:\tlearn: 0.4043908\ttotal: 6.28s\tremaining: 1.29s\n",
      "830:\tlearn: 0.4043908\ttotal: 6.29s\tremaining: 1.28s\n",
      "831:\tlearn: 0.4043908\ttotal: 6.3s\tremaining: 1.27s\n",
      "832:\tlearn: 0.4043908\ttotal: 6.31s\tremaining: 1.26s\n",
      "833:\tlearn: 0.4043908\ttotal: 6.32s\tremaining: 1.26s\n",
      "834:\tlearn: 0.4043908\ttotal: 6.32s\tremaining: 1.25s\n",
      "835:\tlearn: 0.4043908\ttotal: 6.33s\tremaining: 1.24s\n",
      "836:\tlearn: 0.4043908\ttotal: 6.33s\tremaining: 1.23s\n",
      "837:\tlearn: 0.4043908\ttotal: 6.34s\tremaining: 1.23s\n",
      "838:\tlearn: 0.4043908\ttotal: 6.35s\tremaining: 1.22s\n",
      "839:\tlearn: 0.4043908\ttotal: 6.36s\tremaining: 1.21s\n",
      "840:\tlearn: 0.4043908\ttotal: 6.37s\tremaining: 1.2s\n",
      "841:\tlearn: 0.4043908\ttotal: 6.37s\tremaining: 1.2s\n",
      "842:\tlearn: 0.4043908\ttotal: 6.38s\tremaining: 1.19s\n",
      "843:\tlearn: 0.4043908\ttotal: 6.39s\tremaining: 1.18s\n",
      "844:\tlearn: 0.4043908\ttotal: 6.4s\tremaining: 1.17s\n",
      "845:\tlearn: 0.4043908\ttotal: 6.41s\tremaining: 1.17s\n",
      "846:\tlearn: 0.4043908\ttotal: 6.42s\tremaining: 1.16s\n",
      "847:\tlearn: 0.4043908\ttotal: 6.42s\tremaining: 1.15s\n",
      "848:\tlearn: 0.4043908\ttotal: 6.43s\tremaining: 1.14s\n",
      "849:\tlearn: 0.4043908\ttotal: 6.44s\tremaining: 1.14s\n",
      "850:\tlearn: 0.4043908\ttotal: 6.45s\tremaining: 1.13s\n",
      "851:\tlearn: 0.4043908\ttotal: 6.46s\tremaining: 1.12s\n",
      "852:\tlearn: 0.4043908\ttotal: 6.46s\tremaining: 1.11s\n",
      "853:\tlearn: 0.4043908\ttotal: 6.47s\tremaining: 1.11s\n",
      "854:\tlearn: 0.4043908\ttotal: 6.48s\tremaining: 1.1s\n",
      "855:\tlearn: 0.4043908\ttotal: 6.49s\tremaining: 1.09s\n",
      "856:\tlearn: 0.4043908\ttotal: 6.5s\tremaining: 1.08s\n",
      "857:\tlearn: 0.4043908\ttotal: 6.5s\tremaining: 1.08s\n",
      "858:\tlearn: 0.4043908\ttotal: 6.51s\tremaining: 1.07s\n",
      "859:\tlearn: 0.4043908\ttotal: 6.52s\tremaining: 1.06s\n",
      "860:\tlearn: 0.4043908\ttotal: 6.53s\tremaining: 1.05s\n",
      "861:\tlearn: 0.4043908\ttotal: 6.54s\tremaining: 1.05s\n",
      "862:\tlearn: 0.4043908\ttotal: 6.55s\tremaining: 1.04s\n",
      "863:\tlearn: 0.4043908\ttotal: 6.55s\tremaining: 1.03s\n",
      "864:\tlearn: 0.4043908\ttotal: 6.56s\tremaining: 1.02s\n",
      "865:\tlearn: 0.4043908\ttotal: 6.58s\tremaining: 1.02s\n",
      "866:\tlearn: 0.4043908\ttotal: 6.58s\tremaining: 1.01s\n",
      "867:\tlearn: 0.4043908\ttotal: 6.59s\tremaining: 1s\n",
      "868:\tlearn: 0.4043908\ttotal: 6.6s\tremaining: 995ms\n",
      "869:\tlearn: 0.4043908\ttotal: 6.61s\tremaining: 987ms\n",
      "870:\tlearn: 0.4043908\ttotal: 6.61s\tremaining: 979ms\n",
      "871:\tlearn: 0.4043908\ttotal: 6.62s\tremaining: 972ms\n",
      "872:\tlearn: 0.4043908\ttotal: 6.63s\tremaining: 964ms\n",
      "873:\tlearn: 0.4043908\ttotal: 6.63s\tremaining: 957ms\n",
      "874:\tlearn: 0.4043908\ttotal: 6.64s\tremaining: 949ms\n",
      "875:\tlearn: 0.4043908\ttotal: 6.65s\tremaining: 941ms\n"
     ]
    },
    {
     "name": "stdout",
     "output_type": "stream",
     "text": [
      "876:\tlearn: 0.4043908\ttotal: 6.66s\tremaining: 934ms\n",
      "877:\tlearn: 0.4043908\ttotal: 6.66s\tremaining: 926ms\n",
      "878:\tlearn: 0.4043908\ttotal: 6.67s\tremaining: 919ms\n",
      "879:\tlearn: 0.4043908\ttotal: 6.68s\tremaining: 911ms\n",
      "880:\tlearn: 0.4043908\ttotal: 6.69s\tremaining: 903ms\n",
      "881:\tlearn: 0.4043908\ttotal: 6.7s\tremaining: 896ms\n",
      "882:\tlearn: 0.4043908\ttotal: 6.7s\tremaining: 888ms\n",
      "883:\tlearn: 0.4043908\ttotal: 6.71s\tremaining: 881ms\n",
      "884:\tlearn: 0.4043908\ttotal: 6.72s\tremaining: 873ms\n",
      "885:\tlearn: 0.4043908\ttotal: 6.72s\tremaining: 865ms\n",
      "886:\tlearn: 0.4043908\ttotal: 6.73s\tremaining: 858ms\n",
      "887:\tlearn: 0.4043908\ttotal: 6.74s\tremaining: 850ms\n",
      "888:\tlearn: 0.4043908\ttotal: 6.75s\tremaining: 843ms\n",
      "889:\tlearn: 0.4043908\ttotal: 6.76s\tremaining: 836ms\n",
      "890:\tlearn: 0.4043908\ttotal: 6.77s\tremaining: 828ms\n",
      "891:\tlearn: 0.4043908\ttotal: 6.78s\tremaining: 820ms\n",
      "892:\tlearn: 0.4043908\ttotal: 6.78s\tremaining: 813ms\n",
      "893:\tlearn: 0.4043908\ttotal: 6.79s\tremaining: 805ms\n",
      "894:\tlearn: 0.4043908\ttotal: 6.8s\tremaining: 798ms\n",
      "895:\tlearn: 0.4043908\ttotal: 6.81s\tremaining: 790ms\n",
      "896:\tlearn: 0.4043908\ttotal: 6.82s\tremaining: 783ms\n",
      "897:\tlearn: 0.4043908\ttotal: 6.83s\tremaining: 776ms\n",
      "898:\tlearn: 0.4043908\ttotal: 6.83s\tremaining: 768ms\n",
      "899:\tlearn: 0.4043908\ttotal: 6.84s\tremaining: 761ms\n",
      "900:\tlearn: 0.4043908\ttotal: 6.85s\tremaining: 753ms\n",
      "901:\tlearn: 0.4043908\ttotal: 6.86s\tremaining: 745ms\n",
      "902:\tlearn: 0.4043908\ttotal: 6.87s\tremaining: 738ms\n",
      "903:\tlearn: 0.4043908\ttotal: 6.88s\tremaining: 731ms\n",
      "904:\tlearn: 0.4043908\ttotal: 6.89s\tremaining: 723ms\n",
      "905:\tlearn: 0.4043908\ttotal: 6.9s\tremaining: 716ms\n",
      "906:\tlearn: 0.4043908\ttotal: 6.91s\tremaining: 708ms\n",
      "907:\tlearn: 0.4043908\ttotal: 6.92s\tremaining: 701ms\n",
      "908:\tlearn: 0.4043908\ttotal: 6.92s\tremaining: 693ms\n",
      "909:\tlearn: 0.4043908\ttotal: 6.93s\tremaining: 685ms\n",
      "910:\tlearn: 0.4043908\ttotal: 6.95s\tremaining: 679ms\n",
      "911:\tlearn: 0.4043908\ttotal: 6.96s\tremaining: 671ms\n",
      "912:\tlearn: 0.4043908\ttotal: 6.97s\tremaining: 664ms\n",
      "913:\tlearn: 0.4043908\ttotal: 6.97s\tremaining: 656ms\n",
      "914:\tlearn: 0.4043908\ttotal: 6.98s\tremaining: 649ms\n",
      "915:\tlearn: 0.4043908\ttotal: 6.99s\tremaining: 641ms\n",
      "916:\tlearn: 0.4043908\ttotal: 7s\tremaining: 634ms\n",
      "917:\tlearn: 0.4043908\ttotal: 7.01s\tremaining: 626ms\n",
      "918:\tlearn: 0.4043908\ttotal: 7.02s\tremaining: 619ms\n",
      "919:\tlearn: 0.4043908\ttotal: 7.03s\tremaining: 611ms\n",
      "920:\tlearn: 0.4043908\ttotal: 7.04s\tremaining: 604ms\n",
      "921:\tlearn: 0.4043908\ttotal: 7.04s\tremaining: 596ms\n",
      "922:\tlearn: 0.4043908\ttotal: 7.05s\tremaining: 588ms\n",
      "923:\tlearn: 0.4043908\ttotal: 7.07s\tremaining: 581ms\n",
      "924:\tlearn: 0.4043908\ttotal: 7.07s\tremaining: 574ms\n",
      "925:\tlearn: 0.4043908\ttotal: 7.08s\tremaining: 566ms\n",
      "926:\tlearn: 0.4043908\ttotal: 7.09s\tremaining: 558ms\n",
      "927:\tlearn: 0.4043908\ttotal: 7.1s\tremaining: 551ms\n",
      "928:\tlearn: 0.4043908\ttotal: 7.11s\tremaining: 543ms\n",
      "929:\tlearn: 0.4043908\ttotal: 7.12s\tremaining: 536ms\n",
      "930:\tlearn: 0.4043908\ttotal: 7.13s\tremaining: 528ms\n",
      "931:\tlearn: 0.4043908\ttotal: 7.13s\tremaining: 521ms\n",
      "932:\tlearn: 0.4043908\ttotal: 7.14s\tremaining: 513ms\n",
      "933:\tlearn: 0.4043908\ttotal: 7.15s\tremaining: 505ms\n",
      "934:\tlearn: 0.4043908\ttotal: 7.16s\tremaining: 498ms\n",
      "935:\tlearn: 0.4043908\ttotal: 7.17s\tremaining: 490ms\n",
      "936:\tlearn: 0.4043908\ttotal: 7.18s\tremaining: 483ms\n",
      "937:\tlearn: 0.4043908\ttotal: 7.19s\tremaining: 475ms\n",
      "938:\tlearn: 0.4043908\ttotal: 7.2s\tremaining: 467ms\n",
      "939:\tlearn: 0.4043908\ttotal: 7.2s\tremaining: 460ms\n",
      "940:\tlearn: 0.4043908\ttotal: 7.21s\tremaining: 452ms\n",
      "941:\tlearn: 0.4043908\ttotal: 7.22s\tremaining: 444ms\n",
      "942:\tlearn: 0.4043908\ttotal: 7.23s\tremaining: 437ms\n",
      "943:\tlearn: 0.4043908\ttotal: 7.23s\tremaining: 429ms\n",
      "944:\tlearn: 0.4043908\ttotal: 7.24s\tremaining: 422ms\n",
      "945:\tlearn: 0.4043908\ttotal: 7.25s\tremaining: 414ms\n",
      "946:\tlearn: 0.4043908\ttotal: 7.26s\tremaining: 406ms\n",
      "947:\tlearn: 0.4043908\ttotal: 7.26s\tremaining: 399ms\n",
      "948:\tlearn: 0.4043908\ttotal: 7.27s\tremaining: 391ms\n",
      "949:\tlearn: 0.4043908\ttotal: 7.28s\tremaining: 383ms\n",
      "950:\tlearn: 0.4043908\ttotal: 7.29s\tremaining: 376ms\n",
      "951:\tlearn: 0.4043908\ttotal: 7.3s\tremaining: 368ms\n",
      "952:\tlearn: 0.4043908\ttotal: 7.3s\tremaining: 360ms\n",
      "953:\tlearn: 0.4043908\ttotal: 7.33s\tremaining: 353ms\n",
      "954:\tlearn: 0.4043908\ttotal: 7.34s\tremaining: 346ms\n",
      "955:\tlearn: 0.4043908\ttotal: 7.35s\tremaining: 338ms\n",
      "956:\tlearn: 0.4043908\ttotal: 7.36s\tremaining: 331ms\n",
      "957:\tlearn: 0.4043908\ttotal: 7.36s\tremaining: 323ms\n",
      "958:\tlearn: 0.4043909\ttotal: 7.37s\tremaining: 315ms\n",
      "959:\tlearn: 0.4043908\ttotal: 7.39s\tremaining: 308ms\n",
      "960:\tlearn: 0.4043908\ttotal: 7.4s\tremaining: 300ms\n",
      "961:\tlearn: 0.4043908\ttotal: 7.41s\tremaining: 293ms\n",
      "962:\tlearn: 0.4043908\ttotal: 7.42s\tremaining: 285ms\n",
      "963:\tlearn: 0.4043908\ttotal: 7.43s\tremaining: 277ms\n",
      "964:\tlearn: 0.4043908\ttotal: 7.44s\tremaining: 270ms\n",
      "965:\tlearn: 0.4043908\ttotal: 7.45s\tremaining: 262ms\n",
      "966:\tlearn: 0.4043908\ttotal: 7.46s\tremaining: 255ms\n",
      "967:\tlearn: 0.4043908\ttotal: 7.47s\tremaining: 247ms\n",
      "968:\tlearn: 0.4043908\ttotal: 7.47s\tremaining: 239ms\n",
      "969:\tlearn: 0.4043908\ttotal: 7.49s\tremaining: 232ms\n",
      "970:\tlearn: 0.4043908\ttotal: 7.51s\tremaining: 224ms\n",
      "971:\tlearn: 0.4043908\ttotal: 7.52s\tremaining: 217ms\n",
      "972:\tlearn: 0.4043908\ttotal: 7.53s\tremaining: 209ms\n",
      "973:\tlearn: 0.4043908\ttotal: 7.54s\tremaining: 201ms\n",
      "974:\tlearn: 0.4043908\ttotal: 7.54s\tremaining: 193ms\n",
      "975:\tlearn: 0.4043908\ttotal: 7.55s\tremaining: 186ms\n",
      "976:\tlearn: 0.4043908\ttotal: 7.56s\tremaining: 178ms\n",
      "977:\tlearn: 0.4043908\ttotal: 7.57s\tremaining: 170ms\n",
      "978:\tlearn: 0.4043908\ttotal: 7.57s\tremaining: 162ms\n",
      "979:\tlearn: 0.4043908\ttotal: 7.58s\tremaining: 155ms\n",
      "980:\tlearn: 0.4043908\ttotal: 7.59s\tremaining: 147ms\n",
      "981:\tlearn: 0.4043908\ttotal: 7.6s\tremaining: 139ms\n",
      "982:\tlearn: 0.4043908\ttotal: 7.61s\tremaining: 132ms\n",
      "983:\tlearn: 0.4043908\ttotal: 7.61s\tremaining: 124ms\n",
      "984:\tlearn: 0.4043908\ttotal: 7.62s\tremaining: 116ms\n",
      "985:\tlearn: 0.4043908\ttotal: 7.63s\tremaining: 108ms\n",
      "986:\tlearn: 0.4043908\ttotal: 7.64s\tremaining: 101ms\n",
      "987:\tlearn: 0.4043908\ttotal: 7.65s\tremaining: 92.9ms\n",
      "988:\tlearn: 0.4043908\ttotal: 7.66s\tremaining: 85.2ms\n",
      "989:\tlearn: 0.4043908\ttotal: 7.67s\tremaining: 77.4ms\n",
      "990:\tlearn: 0.4043908\ttotal: 7.67s\tremaining: 69.7ms\n",
      "991:\tlearn: 0.4043908\ttotal: 7.68s\tremaining: 62ms\n",
      "992:\tlearn: 0.4043908\ttotal: 7.69s\tremaining: 54.2ms\n",
      "993:\tlearn: 0.4043908\ttotal: 7.7s\tremaining: 46.5ms\n",
      "994:\tlearn: 0.4043908\ttotal: 7.71s\tremaining: 38.7ms\n",
      "995:\tlearn: 0.4043908\ttotal: 7.72s\tremaining: 31ms\n",
      "996:\tlearn: 0.4043908\ttotal: 7.73s\tremaining: 23.3ms\n",
      "997:\tlearn: 0.4043908\ttotal: 7.74s\tremaining: 15.5ms\n",
      "998:\tlearn: 0.4043908\ttotal: 7.74s\tremaining: 7.75ms\n",
      "999:\tlearn: 0.4043908\ttotal: 7.75s\tremaining: 0us\n",
      "Stacking ensemble (ML+DNN): 3806\n",
      "[0]Accuracy : 89.43772990015765\n",
      "[0]F1score : 0.844510492593999\n",
      "[0]Precision : 0.7999107529693553\n",
      "[0]Recall : 0.8943772990015765\n",
      "\n"
     ]
    },
    {
     "name": "stderr",
     "output_type": "stream",
     "text": [
      "C:\\Users\\jaemin\\Anaconda3\\envs\\jm\\lib\\site-packages\\sklearn\\metrics\\_classification.py:1318: UndefinedMetricWarning: Precision and F-score are ill-defined and being set to 0.0 in labels with no predicted samples. Use `zero_division` parameter to control this behavior.\n",
      "  _warn_prf(average, modifier, msg_start, len(result))\n"
     ]
    },
    {
     "data": {
      "image/png": "[encoded data removed]",
      "text/plain": [
       "<Figure size 640x480 with 2 Axes>"
      ]
     },
     "metadata": {},
     "output_type": "display_data"
    },
    {
     "name": "stderr",
     "output_type": "stream",
     "text": [
      "100%|████████████████████████████████████████████████████████████████████████████████████| 4/4 [00:00<00:00,  7.03it/s]\n"
     ]
    },
    {
     "name": "stdout",
     "output_type": "stream",
     "text": [
      "[INFO] val_acc has been improved from 9999999999999.00000 to 0.39523. Saving Model!\n",
      "epoch 01, loss: 0.39338, acc: 0.89462, val_loss: 0.39523, val_accuracy: 0.89411\n"
     ]
    },
    {
     "name": "stderr",
     "output_type": "stream",
     "text": [
      "100%|████████████████████████████████████████████████████████████████████████████████████| 4/4 [00:00<00:00,  7.89it/s]\n"
     ]
    },
    {
     "name": "stdout",
     "output_type": "stream",
     "text": [
      "epoch 02, loss: 0.39289, acc: 0.89460, val_loss: 0.39551, val_accuracy: 0.89411\n"
     ]
    },
    {
     "name": "stderr",
     "output_type": "stream",
     "text": [
      "100%|████████████████████████████████████████████████████████████████████████████████████| 4/4 [00:00<00:00,  6.57it/s]\n"
     ]
    },
    {
     "name": "stdout",
     "output_type": "stream",
     "text": [
      "epoch 03, loss: 0.39236, acc: 0.89465, val_loss: 0.39615, val_accuracy: 0.89411\n"
     ]
    },
    {
     "name": "stderr",
     "output_type": "stream",
     "text": [
      "100%|████████████████████████████████████████████████████████████████████████████████████| 4/4 [00:00<00:00,  8.81it/s]\n"
     ]
    },
    {
     "name": "stdout",
     "output_type": "stream",
     "text": [
      "epoch 04, loss: 0.39192, acc: 0.89465, val_loss: 0.39709, val_accuracy: 0.89411\n"
     ]
    },
    {
     "name": "stderr",
     "output_type": "stream",
     "text": [
      "100%|████████████████████████████████████████████████████████████████████████████████████| 4/4 [00:00<00:00,  8.57it/s]\n"
     ]
    },
    {
     "name": "stdout",
     "output_type": "stream",
     "text": [
      "epoch 05, loss: 0.39147, acc: 0.89465, val_loss: 0.39806, val_accuracy: 0.89411\n"
     ]
    },
    {
     "name": "stderr",
     "output_type": "stream",
     "text": [
      "100%|████████████████████████████████████████████████████████████████████████████████████| 4/4 [00:00<00:00,  8.16it/s]\n"
     ]
    },
    {
     "name": "stdout",
     "output_type": "stream",
     "text": [
      "epoch 06, loss: 0.39106, acc: 0.89465, val_loss: 0.39889, val_accuracy: 0.89411\n"
     ]
    },
    {
     "name": "stderr",
     "output_type": "stream",
     "text": [
      "100%|████████████████████████████████████████████████████████████████████████████████████| 4/4 [00:00<00:00,  8.70it/s]\n"
     ]
    },
    {
     "name": "stdout",
     "output_type": "stream",
     "text": [
      "epoch 07, loss: 0.39071, acc: 0.89465, val_loss: 0.39958, val_accuracy: 0.89411\n"
     ]
    },
    {
     "name": "stderr",
     "output_type": "stream",
     "text": [
      "100%|████████████████████████████████████████████████████████████████████████████████████| 4/4 [00:00<00:00,  8.45it/s]\n"
     ]
    },
    {
     "name": "stdout",
     "output_type": "stream",
     "text": [
      "epoch 08, loss: 0.39045, acc: 0.89465, val_loss: 0.40015, val_accuracy: 0.89411\n"
     ]
    },
    {
     "name": "stderr",
     "output_type": "stream",
     "text": [
      "100%|████████████████████████████████████████████████████████████████████████████████████| 4/4 [00:00<00:00,  8.42it/s]\n"
     ]
    },
    {
     "name": "stdout",
     "output_type": "stream",
     "text": [
      "epoch 09, loss: 0.39020, acc: 0.89465, val_loss: 0.40060, val_accuracy: 0.89411\n"
     ]
    },
    {
     "name": "stderr",
     "output_type": "stream",
     "text": [
      "100%|████████████████████████████████████████████████████████████████████████████████████| 4/4 [00:00<00:00,  7.09it/s]\n"
     ]
    },
    {
     "name": "stdout",
     "output_type": "stream",
     "text": [
      "epoch 10, loss: 0.38995, acc: 0.89465, val_loss: 0.40096, val_accuracy: 0.89411\n"
     ]
    },
    {
     "name": "stderr",
     "output_type": "stream",
     "text": [
      "100%|████████████████████████████████████████████████████████████████████████████████████| 4/4 [00:00<00:00,  9.07it/s]\n"
     ]
    },
    {
     "name": "stdout",
     "output_type": "stream",
     "text": [
      "epoch 11, loss: 0.38970, acc: 0.89468, val_loss: 0.40125, val_accuracy: 0.89411\n"
     ]
    },
    {
     "name": "stderr",
     "output_type": "stream",
     "text": [
      "100%|████████████████████████████████████████████████████████████████████████████████████| 4/4 [00:00<00:00,  8.77it/s]\n"
     ]
    },
    {
     "name": "stdout",
     "output_type": "stream",
     "text": [
      "epoch 12, loss: 0.38948, acc: 0.89468, val_loss: 0.40157, val_accuracy: 0.89411\n"
     ]
    },
    {
     "name": "stderr",
     "output_type": "stream",
     "text": [
      "100%|████████████████████████████████████████████████████████████████████████████████████| 4/4 [00:00<00:00,  8.53it/s]\n"
     ]
    },
    {
     "name": "stdout",
     "output_type": "stream",
     "text": [
      "epoch 13, loss: 0.38925, acc: 0.89468, val_loss: 0.40190, val_accuracy: 0.89411\n"
     ]
    },
    {
     "name": "stderr",
     "output_type": "stream",
     "text": [
      "100%|████████████████████████████████████████████████████████████████████████████████████| 4/4 [00:00<00:00,  8.40it/s]\n"
     ]
    },
    {
     "name": "stdout",
     "output_type": "stream",
     "text": [
      "epoch 14, loss: 0.38900, acc: 0.89468, val_loss: 0.40222, val_accuracy: 0.89411\n"
     ]
    },
    {
     "name": "stderr",
     "output_type": "stream",
     "text": [
      "100%|████████████████████████████████████████████████████████████████████████████████████| 4/4 [00:00<00:00,  9.07it/s]\n"
     ]
    },
    {
     "name": "stdout",
     "output_type": "stream",
     "text": [
      "epoch 15, loss: 0.38875, acc: 0.89468, val_loss: 0.40250, val_accuracy: 0.89411\n"
     ]
    },
    {
     "name": "stderr",
     "output_type": "stream",
     "text": [
      "100%|████████████████████████████████████████████████████████████████████████████████████| 4/4 [00:00<00:00,  8.55it/s]\n"
     ]
    },
    {
     "name": "stdout",
     "output_type": "stream",
     "text": [
      "epoch 16, loss: 0.38849, acc: 0.89468, val_loss: 0.40277, val_accuracy: 0.89411\n"
     ]
    },
    {
     "name": "stderr",
     "output_type": "stream",
     "text": [
      "100%|████████████████████████████████████████████████████████████████████████████████████| 4/4 [00:00<00:00,  7.01it/s]\n"
     ]
    },
    {
     "name": "stdout",
     "output_type": "stream",
     "text": [
      "epoch 17, loss: 0.38825, acc: 0.89465, val_loss: 0.40304, val_accuracy: 0.89411\n"
     ]
    },
    {
     "name": "stderr",
     "output_type": "stream",
     "text": [
      "100%|████████████████████████████████████████████████████████████████████████████████████| 4/4 [00:00<00:00,  8.66it/s]\n"
     ]
    },
    {
     "name": "stdout",
     "output_type": "stream",
     "text": [
      "epoch 18, loss: 0.38799, acc: 0.89468, val_loss: 0.40331, val_accuracy: 0.89411\n"
     ]
    },
    {
     "name": "stderr",
     "output_type": "stream",
     "text": [
      "100%|████████████████████████████████████████████████████████████████████████████████████| 4/4 [00:00<00:00,  8.60it/s]\n"
     ]
    },
    {
     "name": "stdout",
     "output_type": "stream",
     "text": [
      "epoch 19, loss: 0.38773, acc: 0.89471, val_loss: 0.40355, val_accuracy: 0.89411\n"
     ]
    },
    {
     "name": "stderr",
     "output_type": "stream",
     "text": [
      "100%|████████████████████████████████████████████████████████████████████████████████████| 4/4 [00:00<00:00,  7.15it/s]\n"
     ]
    },
    {
     "name": "stdout",
     "output_type": "stream",
     "text": [
      "epoch 20, loss: 0.38749, acc: 0.89468, val_loss: 0.40378, val_accuracy: 0.89411\n"
     ]
    },
    {
     "name": "stderr",
     "output_type": "stream",
     "text": [
      "100%|████████████████████████████████████████████████████████████████████████████████████| 4/4 [00:00<00:00,  9.21it/s]\n"
     ]
    },
    {
     "name": "stdout",
     "output_type": "stream",
     "text": [
      "epoch 21, loss: 0.38725, acc: 0.89474, val_loss: 0.40399, val_accuracy: 0.89411\n"
     ]
    },
    {
     "name": "stderr",
     "output_type": "stream",
     "text": [
      "100%|████████████████████████████████████████████████████████████████████████████████████| 4/4 [00:00<00:00,  8.97it/s]\n"
     ]
    },
    {
     "name": "stdout",
     "output_type": "stream",
     "text": [
      "epoch 22, loss: 0.38700, acc: 0.89477, val_loss: 0.40420, val_accuracy: 0.89411\n"
     ]
    },
    {
     "name": "stderr",
     "output_type": "stream",
     "text": [
      "100%|████████████████████████████████████████████████████████████████████████████████████| 4/4 [00:00<00:00,  6.84it/s]\n"
     ]
    },
    {
     "name": "stdout",
     "output_type": "stream",
     "text": [
      "epoch 23, loss: 0.38675, acc: 0.89474, val_loss: 0.40442, val_accuracy: 0.89411\n"
     ]
    },
    {
     "name": "stderr",
     "output_type": "stream",
     "text": [
      "100%|████████████████████████████████████████████████████████████████████████████████████| 4/4 [00:00<00:00,  8.03it/s]\n"
     ]
    },
    {
     "name": "stdout",
     "output_type": "stream",
     "text": [
      "epoch 24, loss: 0.38651, acc: 0.89474, val_loss: 0.40461, val_accuracy: 0.89411\n"
     ]
    },
    {
     "name": "stderr",
     "output_type": "stream",
     "text": [
      "100%|████████████████████████████████████████████████████████████████████████████████████| 4/4 [00:00<00:00,  8.18it/s]\n"
     ]
    },
    {
     "name": "stdout",
     "output_type": "stream",
     "text": [
      "epoch 25, loss: 0.38628, acc: 0.89474, val_loss: 0.40477, val_accuracy: 0.89411\n"
     ]
    },
    {
     "name": "stderr",
     "output_type": "stream",
     "text": [
      "100%|████████████████████████████████████████████████████████████████████████████████████| 4/4 [00:00<00:00,  8.44it/s]\n"
     ]
    },
    {
     "name": "stdout",
     "output_type": "stream",
     "text": [
      "epoch 26, loss: 0.38606, acc: 0.89474, val_loss: 0.40490, val_accuracy: 0.89411\n"
     ]
    },
    {
     "name": "stderr",
     "output_type": "stream",
     "text": [
      "100%|████████████████████████████████████████████████████████████████████████████████████| 4/4 [00:00<00:00,  6.24it/s]\n"
     ]
    },
    {
     "name": "stdout",
     "output_type": "stream",
     "text": [
      "epoch 27, loss: 0.38583, acc: 0.89471, val_loss: 0.40501, val_accuracy: 0.89411\n"
     ]
    },
    {
     "name": "stderr",
     "output_type": "stream",
     "text": [
      "100%|████████████████████████████████████████████████████████████████████████████████████| 4/4 [00:00<00:00,  7.84it/s]\n"
     ]
    },
    {
     "name": "stdout",
     "output_type": "stream",
     "text": [
      "epoch 28, loss: 0.38559, acc: 0.89471, val_loss: 0.40511, val_accuracy: 0.89411\n"
     ]
    },
    {
     "name": "stderr",
     "output_type": "stream",
     "text": [
      "100%|████████████████████████████████████████████████████████████████████████████████████| 4/4 [00:00<00:00,  8.10it/s]\n"
     ]
    },
    {
     "name": "stdout",
     "output_type": "stream",
     "text": [
      "epoch 29, loss: 0.38537, acc: 0.89471, val_loss: 0.40519, val_accuracy: 0.89411\n"
     ]
    },
    {
     "name": "stderr",
     "output_type": "stream",
     "text": [
      "100%|████████████████████████████████████████████████████████████████████████████████████| 4/4 [00:00<00:00,  6.38it/s]\n"
     ]
    },
    {
     "name": "stdout",
     "output_type": "stream",
     "text": [
      "epoch 30, loss: 0.38513, acc: 0.89471, val_loss: 0.40527, val_accuracy: 0.89411\n"
     ]
    },
    {
     "name": "stderr",
     "output_type": "stream",
     "text": [
      "100%|████████████████████████████████████████████████████████████████████████████████████| 4/4 [00:00<00:00,  8.16it/s]\n"
     ]
    },
    {
     "name": "stdout",
     "output_type": "stream",
     "text": [
      "epoch 31, loss: 0.38489, acc: 0.89471, val_loss: 0.40534, val_accuracy: 0.89411\n"
     ]
    },
    {
     "name": "stderr",
     "output_type": "stream",
     "text": [
      "100%|████████████████████████████████████████████████████████████████████████████████████| 4/4 [00:00<00:00,  8.73it/s]\n"
     ]
    },
    {
     "name": "stdout",
     "output_type": "stream",
     "text": [
      "epoch 32, loss: 0.38467, acc: 0.89471, val_loss: 0.40543, val_accuracy: 0.89411\n"
     ]
    },
    {
     "name": "stderr",
     "output_type": "stream",
     "text": [
      "100%|████████████████████████████████████████████████████████████████████████████████████| 4/4 [00:00<00:00,  8.16it/s]\n"
     ]
    },
    {
     "name": "stdout",
     "output_type": "stream",
     "text": [
      "epoch 33, loss: 0.38443, acc: 0.89471, val_loss: 0.40552, val_accuracy: 0.89411\n"
     ]
    },
    {
     "name": "stderr",
     "output_type": "stream",
     "text": [
      "100%|████████████████████████████████████████████████████████████████████████████████████| 4/4 [00:00<00:00,  7.89it/s]\n"
     ]
    },
    {
     "name": "stdout",
     "output_type": "stream",
     "text": [
      "epoch 34, loss: 0.38418, acc: 0.89471, val_loss: 0.40561, val_accuracy: 0.89411\n"
     ]
    },
    {
     "name": "stderr",
     "output_type": "stream",
     "text": [
      "100%|████████████████████████████████████████████████████████████████████████████████████| 4/4 [00:00<00:00,  8.53it/s]\n"
     ]
    },
    {
     "name": "stdout",
     "output_type": "stream",
     "text": [
      "epoch 35, loss: 0.38395, acc: 0.89471, val_loss: 0.40567, val_accuracy: 0.89411\n"
     ]
    },
    {
     "name": "stderr",
     "output_type": "stream",
     "text": [
      "100%|████████████████████████████████████████████████████████████████████████████████████| 4/4 [00:00<00:00,  7.48it/s]\n"
     ]
    },
    {
     "name": "stdout",
     "output_type": "stream",
     "text": [
      "epoch 36, loss: 0.38372, acc: 0.89471, val_loss: 0.40574, val_accuracy: 0.89411\n"
     ]
    },
    {
     "name": "stderr",
     "output_type": "stream",
     "text": [
      "100%|████████████████████████████████████████████████████████████████████████████████████| 4/4 [00:00<00:00,  7.65it/s]\n"
     ]
    },
    {
     "name": "stdout",
     "output_type": "stream",
     "text": [
      "epoch 37, loss: 0.38348, acc: 0.89471, val_loss: 0.40586, val_accuracy: 0.89411\n"
     ]
    },
    {
     "name": "stderr",
     "output_type": "stream",
     "text": [
      "100%|████████████████████████████████████████████████████████████████████████████████████| 4/4 [00:00<00:00,  6.53it/s]\n"
     ]
    },
    {
     "name": "stdout",
     "output_type": "stream",
     "text": [
      "epoch 38, loss: 0.38325, acc: 0.89471, val_loss: 0.40599, val_accuracy: 0.89411\n"
     ]
    },
    {
     "name": "stderr",
     "output_type": "stream",
     "text": [
      "100%|████████████████████████████████████████████████████████████████████████████████████| 4/4 [00:00<00:00,  8.84it/s]\n"
     ]
    },
    {
     "name": "stdout",
     "output_type": "stream",
     "text": [
      "epoch 39, loss: 0.38300, acc: 0.89471, val_loss: 0.40607, val_accuracy: 0.89411\n"
     ]
    },
    {
     "name": "stderr",
     "output_type": "stream",
     "text": [
      "100%|████████████████████████████████████████████████████████████████████████████████████| 4/4 [00:00<00:00,  8.45it/s]\n"
     ]
    },
    {
     "name": "stdout",
     "output_type": "stream",
     "text": [
      "epoch 40, loss: 0.38274, acc: 0.89471, val_loss: 0.40613, val_accuracy: 0.89411\n"
     ]
    },
    {
     "name": "stderr",
     "output_type": "stream",
     "text": [
      "100%|████████████████████████████████████████████████████████████████████████████████████| 4/4 [00:00<00:00,  8.03it/s]\n"
     ]
    },
    {
     "name": "stdout",
     "output_type": "stream",
     "text": [
      "epoch 41, loss: 0.38251, acc: 0.89471, val_loss: 0.40617, val_accuracy: 0.89411\n"
     ]
    },
    {
     "name": "stderr",
     "output_type": "stream",
     "text": [
      "100%|████████████████████████████████████████████████████████████████████████████████████| 4/4 [00:00<00:00,  8.51it/s]\n"
     ]
    },
    {
     "name": "stdout",
     "output_type": "stream",
     "text": [
      "epoch 42, loss: 0.38228, acc: 0.89471, val_loss: 0.40622, val_accuracy: 0.89411\n"
     ]
    },
    {
     "name": "stderr",
     "output_type": "stream",
     "text": [
      "100%|████████████████████████████████████████████████████████████████████████████████████| 4/4 [00:00<00:00,  8.75it/s]\n"
     ]
    },
    {
     "name": "stdout",
     "output_type": "stream",
     "text": [
      "epoch 43, loss: 0.38203, acc: 0.89468, val_loss: 0.40631, val_accuracy: 0.89411\n"
     ]
    },
    {
     "name": "stderr",
     "output_type": "stream",
     "text": [
      "100%|████████████████████████████████████████████████████████████████████████████████████| 4/4 [00:00<00:00,  8.37it/s]\n"
     ]
    },
    {
     "name": "stdout",
     "output_type": "stream",
     "text": [
      "epoch 44, loss: 0.38178, acc: 0.89468, val_loss: 0.40643, val_accuracy: 0.89411\n"
     ]
    },
    {
     "name": "stderr",
     "output_type": "stream",
     "text": [
      "100%|████████████████████████████████████████████████████████████████████████████████████| 4/4 [00:00<00:00,  6.43it/s]\n"
     ]
    },
    {
     "name": "stdout",
     "output_type": "stream",
     "text": [
      "epoch 45, loss: 0.38153, acc: 0.89468, val_loss: 0.40655, val_accuracy: 0.89411\n"
     ]
    },
    {
     "name": "stderr",
     "output_type": "stream",
     "text": [
      "100%|████████████████████████████████████████████████████████████████████████████████████| 4/4 [00:00<00:00,  8.87it/s]\n"
     ]
    },
    {
     "name": "stdout",
     "output_type": "stream",
     "text": [
      "epoch 46, loss: 0.38128, acc: 0.89471, val_loss: 0.40667, val_accuracy: 0.89411\n"
     ]
    },
    {
     "name": "stderr",
     "output_type": "stream",
     "text": [
      "100%|████████████████████████████████████████████████████████████████████████████████████| 4/4 [00:00<00:00,  8.64it/s]\n"
     ]
    },
    {
     "name": "stdout",
     "output_type": "stream",
     "text": [
      "epoch 47, loss: 0.38104, acc: 0.89471, val_loss: 0.40680, val_accuracy: 0.89411\n"
     ]
    },
    {
     "name": "stderr",
     "output_type": "stream",
     "text": [
      "100%|████████████████████████████████████████████████████████████████████████████████████| 4/4 [00:00<00:00,  6.41it/s]\n"
     ]
    },
    {
     "name": "stdout",
     "output_type": "stream",
     "text": [
      "epoch 48, loss: 0.38079, acc: 0.89471, val_loss: 0.40693, val_accuracy: 0.89411\n"
     ]
    },
    {
     "name": "stderr",
     "output_type": "stream",
     "text": [
      "100%|████████████████████████████████████████████████████████████████████████████████████| 4/4 [00:00<00:00,  8.16it/s]\n"
     ]
    },
    {
     "name": "stdout",
     "output_type": "stream",
     "text": [
      "epoch 49, loss: 0.38052, acc: 0.89471, val_loss: 0.40703, val_accuracy: 0.89411\n"
     ]
    },
    {
     "name": "stderr",
     "output_type": "stream",
     "text": [
      "100%|████████████████████████████████████████████████████████████████████████████████████| 4/4 [00:00<00:00,  8.58it/s]\n"
     ]
    },
    {
     "name": "stdout",
     "output_type": "stream",
     "text": [
      "epoch 50, loss: 0.38028, acc: 0.89471, val_loss: 0.40711, val_accuracy: 0.89411\n"
     ]
    },
    {
     "name": "stderr",
     "output_type": "stream",
     "text": [
      "100%|████████████████████████████████████████████████████████████████████████████████████| 4/4 [00:00<00:00,  7.92it/s]\n"
     ]
    },
    {
     "name": "stdout",
     "output_type": "stream",
     "text": [
      "epoch 51, loss: 0.38003, acc: 0.89471, val_loss: 0.40722, val_accuracy: 0.89411\n"
     ]
    },
    {
     "name": "stderr",
     "output_type": "stream",
     "text": [
      "100%|████████████████████████████████████████████████████████████████████████████████████| 4/4 [00:00<00:00,  7.86it/s]\n"
     ]
    },
    {
     "name": "stdout",
     "output_type": "stream",
     "text": [
      "epoch 52, loss: 0.37976, acc: 0.89471, val_loss: 0.40735, val_accuracy: 0.89411\n"
     ]
    },
    {
     "name": "stderr",
     "output_type": "stream",
     "text": [
      "100%|████████████████████████████████████████████████████████████████████████████████████| 4/4 [00:00<00:00,  8.03it/s]\n"
     ]
    },
    {
     "name": "stdout",
     "output_type": "stream",
     "text": [
      "epoch 53, loss: 0.37953, acc: 0.89471, val_loss: 0.40744, val_accuracy: 0.89411\n"
     ]
    },
    {
     "name": "stderr",
     "output_type": "stream",
     "text": [
      "100%|████████████████████████████████████████████████████████████████████████████████████| 4/4 [00:00<00:00,  7.77it/s]\n"
     ]
    },
    {
     "name": "stdout",
     "output_type": "stream",
     "text": [
      "epoch 54, loss: 0.37924, acc: 0.89474, val_loss: 0.40752, val_accuracy: 0.89411\n"
     ]
    },
    {
     "name": "stderr",
     "output_type": "stream",
     "text": [
      "100%|████████████████████████████████████████████████████████████████████████████████████| 4/4 [00:00<00:00,  6.36it/s]\n"
     ]
    },
    {
     "name": "stdout",
     "output_type": "stream",
     "text": [
      "epoch 55, loss: 0.37898, acc: 0.89474, val_loss: 0.40761, val_accuracy: 0.89411\n"
     ]
    },
    {
     "name": "stderr",
     "output_type": "stream",
     "text": [
      "100%|████████████████████████████████████████████████████████████████████████████████████| 4/4 [00:00<00:00,  8.47it/s]\n"
     ]
    },
    {
     "name": "stdout",
     "output_type": "stream",
     "text": [
      "epoch 56, loss: 0.37873, acc: 0.89474, val_loss: 0.40771, val_accuracy: 0.89411\n"
     ]
    },
    {
     "name": "stderr",
     "output_type": "stream",
     "text": [
      "100%|████████████████████████████████████████████████████████████████████████████████████| 4/4 [00:00<00:00,  8.49it/s]\n"
     ]
    },
    {
     "name": "stdout",
     "output_type": "stream",
     "text": [
      "epoch 57, loss: 0.37844, acc: 0.89474, val_loss: 0.40785, val_accuracy: 0.89411\n"
     ]
    },
    {
     "name": "stderr",
     "output_type": "stream",
     "text": [
      "100%|████████████████████████████████████████████████████████████████████████████████████| 4/4 [00:00<00:00,  5.94it/s]\n"
     ]
    },
    {
     "name": "stdout",
     "output_type": "stream",
     "text": [
      "epoch 58, loss: 0.37821, acc: 0.89474, val_loss: 0.40797, val_accuracy: 0.89411\n"
     ]
    },
    {
     "name": "stderr",
     "output_type": "stream",
     "text": [
      "100%|████████████████████████████████████████████████████████████████████████████████████| 4/4 [00:00<00:00,  8.30it/s]\n"
     ]
    },
    {
     "name": "stdout",
     "output_type": "stream",
     "text": [
      "epoch 59, loss: 0.37793, acc: 0.89474, val_loss: 0.40805, val_accuracy: 0.89411\n"
     ]
    },
    {
     "name": "stderr",
     "output_type": "stream",
     "text": [
      "100%|████████████████████████████████████████████████████████████████████████████████████| 4/4 [00:00<00:00,  8.26it/s]\n"
     ]
    },
    {
     "name": "stdout",
     "output_type": "stream",
     "text": [
      "epoch 60, loss: 0.37762, acc: 0.89474, val_loss: 0.40815, val_accuracy: 0.89411\n"
     ]
    },
    {
     "name": "stderr",
     "output_type": "stream",
     "text": [
      "100%|████████████████████████████████████████████████████████████████████████████████████| 4/4 [00:00<00:00,  8.19it/s]\n"
     ]
    },
    {
     "name": "stdout",
     "output_type": "stream",
     "text": [
      "epoch 61, loss: 0.37736, acc: 0.89474, val_loss: 0.40827, val_accuracy: 0.89411\n"
     ]
    },
    {
     "name": "stderr",
     "output_type": "stream",
     "text": [
      "100%|████████████████████████████████████████████████████████████████████████████████████| 4/4 [00:00<00:00,  7.77it/s]\n"
     ]
    },
    {
     "name": "stdout",
     "output_type": "stream",
     "text": [
      "epoch 62, loss: 0.37709, acc: 0.89474, val_loss: 0.40838, val_accuracy: 0.89411\n"
     ]
    },
    {
     "name": "stderr",
     "output_type": "stream",
     "text": [
      "100%|████████████████████████████████████████████████████████████████████████████████████| 4/4 [00:00<00:00,  7.83it/s]\n"
     ]
    },
    {
     "name": "stdout",
     "output_type": "stream",
     "text": [
      "epoch 63, loss: 0.37682, acc: 0.89474, val_loss: 0.40844, val_accuracy: 0.89411\n"
     ]
    },
    {
     "name": "stderr",
     "output_type": "stream",
     "text": [
      "100%|████████████████████████████████████████████████████████████████████████████████████| 4/4 [00:00<00:00,  8.11it/s]\n"
     ]
    },
    {
     "name": "stdout",
     "output_type": "stream",
     "text": [
      "epoch 64, loss: 0.37655, acc: 0.89474, val_loss: 0.40847, val_accuracy: 0.89411\n"
     ]
    },
    {
     "name": "stderr",
     "output_type": "stream",
     "text": [
      "100%|████████████████████████████████████████████████████████████████████████████████████| 4/4 [00:00<00:00,  8.47it/s]\n"
     ]
    },
    {
     "name": "stdout",
     "output_type": "stream",
     "text": [
      "epoch 65, loss: 0.37628, acc: 0.89474, val_loss: 0.40862, val_accuracy: 0.89411\n"
     ]
    },
    {
     "name": "stderr",
     "output_type": "stream",
     "text": [
      "100%|████████████████████████████████████████████████████████████████████████████████████| 4/4 [00:00<00:00,  6.24it/s]\n"
     ]
    },
    {
     "name": "stdout",
     "output_type": "stream",
     "text": [
      "epoch 66, loss: 0.37595, acc: 0.89474, val_loss: 0.40879, val_accuracy: 0.89411\n"
     ]
    },
    {
     "name": "stderr",
     "output_type": "stream",
     "text": [
      "100%|████████████████████████████████████████████████████████████████████████████████████| 4/4 [00:00<00:00,  8.40it/s]\n"
     ]
    },
    {
     "name": "stdout",
     "output_type": "stream",
     "text": [
      "epoch 67, loss: 0.37572, acc: 0.89474, val_loss: 0.40891, val_accuracy: 0.89411\n"
     ]
    },
    {
     "name": "stderr",
     "output_type": "stream",
     "text": [
      "100%|████████████████████████████████████████████████████████████████████████████████████| 4/4 [00:00<00:00,  8.31it/s]\n"
     ]
    },
    {
     "name": "stdout",
     "output_type": "stream",
     "text": [
      "epoch 68, loss: 0.37545, acc: 0.89474, val_loss: 0.40908, val_accuracy: 0.89411\n"
     ]
    },
    {
     "name": "stderr",
     "output_type": "stream",
     "text": [
      "100%|████████████████████████████████████████████████████████████████████████████████████| 4/4 [00:00<00:00,  8.25it/s]\n"
     ]
    },
    {
     "name": "stdout",
     "output_type": "stream",
     "text": [
      "epoch 69, loss: 0.37513, acc: 0.89474, val_loss: 0.40922, val_accuracy: 0.89411\n"
     ]
    },
    {
     "name": "stderr",
     "output_type": "stream",
     "text": [
      "100%|████████████████████████████████████████████████████████████████████████████████████| 4/4 [00:00<00:00,  7.95it/s]\n"
     ]
    },
    {
     "name": "stdout",
     "output_type": "stream",
     "text": [
      "epoch 70, loss: 0.37487, acc: 0.89474, val_loss: 0.40932, val_accuracy: 0.89411\n"
     ]
    },
    {
     "name": "stderr",
     "output_type": "stream",
     "text": [
      "100%|████████████████████████████████████████████████████████████████████████████████████| 4/4 [00:00<00:00,  8.95it/s]\n"
     ]
    },
    {
     "name": "stdout",
     "output_type": "stream",
     "text": [
      "epoch 71, loss: 0.37455, acc: 0.89474, val_loss: 0.40945, val_accuracy: 0.89411\n"
     ]
    },
    {
     "name": "stderr",
     "output_type": "stream",
     "text": [
      "100%|████████████████████████████████████████████████████████████████████████████████████| 4/4 [00:00<00:00,  7.83it/s]\n"
     ]
    },
    {
     "name": "stdout",
     "output_type": "stream",
     "text": [
      "epoch 72, loss: 0.37426, acc: 0.89474, val_loss: 0.40966, val_accuracy: 0.89411\n"
     ]
    },
    {
     "name": "stderr",
     "output_type": "stream",
     "text": [
      "100%|████████████████████████████████████████████████████████████████████████████████████| 4/4 [00:00<00:00,  6.72it/s]\n"
     ]
    },
    {
     "name": "stdout",
     "output_type": "stream",
     "text": [
      "epoch 73, loss: 0.37399, acc: 0.89477, val_loss: 0.40979, val_accuracy: 0.89411\n"
     ]
    },
    {
     "name": "stderr",
     "output_type": "stream",
     "text": [
      "100%|████████████████████████████████████████████████████████████████████████████████████| 4/4 [00:00<00:00,  8.38it/s]\n"
     ]
    },
    {
     "name": "stdout",
     "output_type": "stream",
     "text": [
      "epoch 74, loss: 0.37366, acc: 0.89477, val_loss: 0.40987, val_accuracy: 0.89411\n"
     ]
    },
    {
     "name": "stderr",
     "output_type": "stream",
     "text": [
      "100%|████████████████████████████████████████████████████████████████████████████████████| 4/4 [00:00<00:00,  8.99it/s]\n"
     ]
    },
    {
     "name": "stdout",
     "output_type": "stream",
     "text": [
      "epoch 75, loss: 0.37342, acc: 0.89480, val_loss: 0.40994, val_accuracy: 0.89411\n"
     ]
    },
    {
     "name": "stderr",
     "output_type": "stream",
     "text": [
      "100%|████████████████████████████████████████████████████████████████████████████████████| 4/4 [00:00<00:00,  6.51it/s]\n"
     ]
    },
    {
     "name": "stdout",
     "output_type": "stream",
     "text": [
      "epoch 76, loss: 0.37311, acc: 0.89483, val_loss: 0.41005, val_accuracy: 0.89411\n"
     ]
    },
    {
     "name": "stderr",
     "output_type": "stream",
     "text": [
      "100%|████████████████████████████████████████████████████████████████████████████████████| 4/4 [00:00<00:00,  7.86it/s]\n"
     ]
    },
    {
     "name": "stdout",
     "output_type": "stream",
     "text": [
      "epoch 77, loss: 0.37281, acc: 0.89480, val_loss: 0.41026, val_accuracy: 0.89411\n"
     ]
    },
    {
     "name": "stderr",
     "output_type": "stream",
     "text": [
      "100%|████████████████████████████████████████████████████████████████████████████████████| 4/4 [00:00<00:00,  8.43it/s]\n"
     ]
    },
    {
     "name": "stdout",
     "output_type": "stream",
     "text": [
      "epoch 78, loss: 0.37251, acc: 0.89480, val_loss: 0.41049, val_accuracy: 0.89411\n"
     ]
    },
    {
     "name": "stderr",
     "output_type": "stream",
     "text": [
      "100%|████████████████████████████████████████████████████████████████████████████████████| 4/4 [00:00<00:00,  8.28it/s]\n"
     ]
    },
    {
     "name": "stdout",
     "output_type": "stream",
     "text": [
      "epoch 79, loss: 0.37219, acc: 0.89474, val_loss: 0.41060, val_accuracy: 0.89411\n"
     ]
    },
    {
     "name": "stderr",
     "output_type": "stream",
     "text": [
      "100%|████████████████████████████████████████████████████████████████████████████████████| 4/4 [00:00<00:00,  8.08it/s]\n"
     ]
    },
    {
     "name": "stdout",
     "output_type": "stream",
     "text": [
      "epoch 80, loss: 0.37190, acc: 0.89477, val_loss: 0.41059, val_accuracy: 0.89411\n"
     ]
    },
    {
     "name": "stderr",
     "output_type": "stream",
     "text": [
      "100%|████████████████████████████████████████████████████████████████████████████████████| 4/4 [00:00<00:00,  8.31it/s]\n"
     ]
    },
    {
     "name": "stdout",
     "output_type": "stream",
     "text": [
      "epoch 81, loss: 0.37162, acc: 0.89477, val_loss: 0.41062, val_accuracy: 0.89411\n"
     ]
    },
    {
     "name": "stderr",
     "output_type": "stream",
     "text": [
      "100%|████████████████████████████████████████████████████████████████████████████████████| 4/4 [00:00<00:00,  8.47it/s]\n"
     ]
    },
    {
     "name": "stdout",
     "output_type": "stream",
     "text": [
      "epoch 82, loss: 0.37132, acc: 0.89477, val_loss: 0.41086, val_accuracy: 0.89411\n"
     ]
    },
    {
     "name": "stderr",
     "output_type": "stream",
     "text": [
      "100%|████████████████████████████████████████████████████████████████████████████████████| 4/4 [00:00<00:00,  6.53it/s]\n"
     ]
    },
    {
     "name": "stdout",
     "output_type": "stream",
     "text": [
      "epoch 83, loss: 0.37096, acc: 0.89480, val_loss: 0.41124, val_accuracy: 0.89411\n"
     ]
    },
    {
     "name": "stderr",
     "output_type": "stream",
     "text": [
      "100%|████████████████████████████████████████████████████████████████████████████████████| 4/4 [00:00<00:00,  8.77it/s]\n"
     ]
    },
    {
     "name": "stdout",
     "output_type": "stream",
     "text": [
      "epoch 84, loss: 0.37067, acc: 0.89480, val_loss: 0.41145, val_accuracy: 0.89411\n"
     ]
    },
    {
     "name": "stderr",
     "output_type": "stream",
     "text": [
      "100%|████████████████████████████████████████████████████████████████████████████████████| 4/4 [00:00<00:00,  7.83it/s]\n"
     ]
    },
    {
     "name": "stdout",
     "output_type": "stream",
     "text": [
      "epoch 85, loss: 0.37033, acc: 0.89480, val_loss: 0.41146, val_accuracy: 0.89411\n"
     ]
    },
    {
     "name": "stderr",
     "output_type": "stream",
     "text": [
      "100%|████████████████████████████████████████████████████████████████████████████████████| 4/4 [00:00<00:00,  5.93it/s]\n"
     ]
    },
    {
     "name": "stdout",
     "output_type": "stream",
     "text": [
      "epoch 86, loss: 0.37000, acc: 0.89480, val_loss: 0.41162, val_accuracy: 0.89411\n"
     ]
    },
    {
     "name": "stderr",
     "output_type": "stream",
     "text": [
      "100%|████████████████████████████████████████████████████████████████████████████████████| 4/4 [00:00<00:00,  8.62it/s]\n"
     ]
    },
    {
     "name": "stdout",
     "output_type": "stream",
     "text": [
      "epoch 87, loss: 0.36971, acc: 0.89480, val_loss: 0.41199, val_accuracy: 0.89411\n"
     ]
    },
    {
     "name": "stderr",
     "output_type": "stream",
     "text": [
      "100%|████████████████████████████████████████████████████████████████████████████████████| 4/4 [00:00<00:00,  9.19it/s]\n"
     ]
    },
    {
     "name": "stdout",
     "output_type": "stream",
     "text": [
      "epoch 88, loss: 0.36935, acc: 0.89480, val_loss: 0.41219, val_accuracy: 0.89411\n"
     ]
    },
    {
     "name": "stderr",
     "output_type": "stream",
     "text": [
      "100%|████████████████████████████████████████████████████████████████████████████████████| 4/4 [00:00<00:00,  8.75it/s]\n"
     ]
    },
    {
     "name": "stdout",
     "output_type": "stream",
     "text": [
      "epoch 89, loss: 0.36903, acc: 0.89480, val_loss: 0.41230, val_accuracy: 0.89411\n"
     ]
    },
    {
     "name": "stderr",
     "output_type": "stream",
     "text": [
      "100%|████████████████████████████████████████████████████████████████████████████████████| 4/4 [00:00<00:00,  9.17it/s]\n"
     ]
    },
    {
     "name": "stdout",
     "output_type": "stream",
     "text": [
      "epoch 90, loss: 0.36868, acc: 0.89480, val_loss: 0.41249, val_accuracy: 0.89411\n"
     ]
    },
    {
     "name": "stderr",
     "output_type": "stream",
     "text": [
      "100%|████████████████████████████████████████████████████████████████████████████████████| 4/4 [00:00<00:00,  8.99it/s]\n"
     ]
    },
    {
     "name": "stdout",
     "output_type": "stream",
     "text": [
      "epoch 91, loss: 0.36830, acc: 0.89480, val_loss: 0.41275, val_accuracy: 0.89411\n"
     ]
    },
    {
     "name": "stderr",
     "output_type": "stream",
     "text": [
      "100%|████████████████████████████████████████████████████████████████████████████████████| 4/4 [00:00<00:00,  8.99it/s]\n"
     ]
    },
    {
     "name": "stdout",
     "output_type": "stream",
     "text": [
      "epoch 92, loss: 0.36794, acc: 0.89480, val_loss: 0.41299, val_accuracy: 0.89411\n"
     ]
    },
    {
     "name": "stderr",
     "output_type": "stream",
     "text": [
      "100%|████████████████████████████████████████████████████████████████████████████████████| 4/4 [00:00<00:00,  9.13it/s]\n"
     ]
    },
    {
     "name": "stdout",
     "output_type": "stream",
     "text": [
      "epoch 93, loss: 0.36759, acc: 0.89489, val_loss: 0.41324, val_accuracy: 0.89411\n"
     ]
    },
    {
     "name": "stderr",
     "output_type": "stream",
     "text": [
      "100%|████████████████████████████████████████████████████████████████████████████████████| 4/4 [00:00<00:00,  6.86it/s]\n"
     ]
    },
    {
     "name": "stdout",
     "output_type": "stream",
     "text": [
      "epoch 94, loss: 0.36723, acc: 0.89489, val_loss: 0.41343, val_accuracy: 0.89411\n"
     ]
    },
    {
     "name": "stderr",
     "output_type": "stream",
     "text": [
      "100%|████████████████████████████████████████████████████████████████████████████████████| 4/4 [00:00<00:00,  8.77it/s]\n"
     ]
    },
    {
     "name": "stdout",
     "output_type": "stream",
     "text": [
      "epoch 95, loss: 0.36685, acc: 0.89489, val_loss: 0.41355, val_accuracy: 0.89411\n"
     ]
    },
    {
     "name": "stderr",
     "output_type": "stream",
     "text": [
      "100%|████████████████████████████████████████████████████████████████████████████████████| 4/4 [00:00<00:00,  8.60it/s]\n"
     ]
    },
    {
     "name": "stdout",
     "output_type": "stream",
     "text": [
      "epoch 96, loss: 0.36651, acc: 0.89489, val_loss: 0.41379, val_accuracy: 0.89411\n"
     ]
    },
    {
     "name": "stderr",
     "output_type": "stream",
     "text": [
      "100%|████████████████████████████████████████████████████████████████████████████████████| 4/4 [00:00<00:00,  8.55it/s]\n"
     ]
    },
    {
     "name": "stdout",
     "output_type": "stream",
     "text": [
      "epoch 97, loss: 0.36615, acc: 0.89489, val_loss: 0.41403, val_accuracy: 0.89411\n"
     ]
    },
    {
     "name": "stderr",
     "output_type": "stream",
     "text": [
      "100%|████████████████████████████████████████████████████████████████████████████████████| 4/4 [00:00<00:00,  8.62it/s]\n"
     ]
    },
    {
     "name": "stdout",
     "output_type": "stream",
     "text": [
      "epoch 98, loss: 0.36575, acc: 0.89486, val_loss: 0.41447, val_accuracy: 0.89411\n"
     ]
    },
    {
     "name": "stderr",
     "output_type": "stream",
     "text": [
      "100%|████████████████████████████████████████████████████████████████████████████████████| 4/4 [00:00<00:00,  8.64it/s]\n"
     ]
    },
    {
     "name": "stdout",
     "output_type": "stream",
     "text": [
      "epoch 99, loss: 0.36536, acc: 0.89486, val_loss: 0.41487, val_accuracy: 0.89411\n"
     ]
    },
    {
     "name": "stderr",
     "output_type": "stream",
     "text": [
      "100%|████████████████████████████████████████████████████████████████████████████████████| 4/4 [00:00<00:00,  8.97it/s]\n"
     ]
    },
    {
     "name": "stdout",
     "output_type": "stream",
     "text": [
      "epoch 100, loss: 0.36497, acc: 0.89486, val_loss: 0.41503, val_accuracy: 0.89411\n"
     ]
    },
    {
     "name": "stderr",
     "output_type": "stream",
     "text": [
      "100%|████████████████████████████████████████████████████████████████████████████████████| 4/4 [00:00<00:00,  6.64it/s]\n"
     ]
    },
    {
     "name": "stdout",
     "output_type": "stream",
     "text": [
      "epoch 101, loss: 0.36458, acc: 0.89486, val_loss: 0.41562, val_accuracy: 0.89411\n"
     ]
    },
    {
     "name": "stderr",
     "output_type": "stream",
     "text": [
      "100%|████████████████████████████████████████████████████████████████████████████████████| 4/4 [00:00<00:00,  9.05it/s]\n"
     ]
    },
    {
     "name": "stdout",
     "output_type": "stream",
     "text": [
      "epoch 102, loss: 0.36418, acc: 0.89486, val_loss: 0.41625, val_accuracy: 0.89411\n"
     ]
    },
    {
     "name": "stderr",
     "output_type": "stream",
     "text": [
      "100%|████████████████████████████████████████████████████████████████████████████████████| 4/4 [00:00<00:00,  9.19it/s]\n"
     ]
    },
    {
     "name": "stdout",
     "output_type": "stream",
     "text": [
      "epoch 103, loss: 0.36375, acc: 0.89489, val_loss: 0.41639, val_accuracy: 0.89411\n"
     ]
    },
    {
     "name": "stderr",
     "output_type": "stream",
     "text": [
      "100%|████████████████████████████████████████████████████████████████████████████████████| 4/4 [00:00<00:00,  6.45it/s]\n"
     ]
    },
    {
     "name": "stdout",
     "output_type": "stream",
     "text": [
      "epoch 104, loss: 0.36334, acc: 0.89489, val_loss: 0.41678, val_accuracy: 0.89411\n"
     ]
    },
    {
     "name": "stderr",
     "output_type": "stream",
     "text": [
      "100%|████████████████████████████████████████████████████████████████████████████████████| 4/4 [00:00<00:00,  7.38it/s]\n"
     ]
    },
    {
     "name": "stdout",
     "output_type": "stream",
     "text": [
      "epoch 105, loss: 0.36293, acc: 0.89495, val_loss: 0.41739, val_accuracy: 0.89411\n"
     ]
    },
    {
     "name": "stderr",
     "output_type": "stream",
     "text": [
      "100%|████████████████████████████████████████████████████████████████████████████████████| 4/4 [00:00<00:00,  8.16it/s]\n"
     ]
    },
    {
     "name": "stdout",
     "output_type": "stream",
     "text": [
      "epoch 106, loss: 0.36251, acc: 0.89500, val_loss: 0.41763, val_accuracy: 0.89411\n"
     ]
    },
    {
     "name": "stderr",
     "output_type": "stream",
     "text": [
      "100%|████████████████████████████████████████████████████████████████████████████████████| 4/4 [00:00<00:00,  8.33it/s]\n"
     ]
    },
    {
     "name": "stdout",
     "output_type": "stream",
     "text": [
      "epoch 107, loss: 0.36209, acc: 0.89506, val_loss: 0.41827, val_accuracy: 0.89411\n"
     ]
    },
    {
     "name": "stderr",
     "output_type": "stream",
     "text": [
      "100%|████████████████████████████████████████████████████████████████████████████████████| 4/4 [00:00<00:00,  8.54it/s]\n"
     ]
    },
    {
     "name": "stdout",
     "output_type": "stream",
     "text": [
      "epoch 108, loss: 0.36168, acc: 0.90014, val_loss: 0.41906, val_accuracy: 0.89411\n"
     ]
    },
    {
     "name": "stderr",
     "output_type": "stream",
     "text": [
      "100%|████████████████████████████████████████████████████████████████████████████████████| 4/4 [00:00<00:00,  8.42it/s]\n"
     ]
    },
    {
     "name": "stdout",
     "output_type": "stream",
     "text": [
      "epoch 109, loss: 0.36127, acc: 0.90014, val_loss: 0.41923, val_accuracy: 0.89411\n"
     ]
    },
    {
     "name": "stderr",
     "output_type": "stream",
     "text": [
      "100%|████████████████████████████████████████████████████████████████████████████████████| 4/4 [00:00<00:00,  8.30it/s]\n"
     ]
    },
    {
     "name": "stdout",
     "output_type": "stream",
     "text": [
      "epoch 110, loss: 0.36084, acc: 0.90020, val_loss: 0.41975, val_accuracy: 0.89411\n"
     ]
    },
    {
     "name": "stderr",
     "output_type": "stream",
     "text": [
      "100%|████████████████████████████████████████████████████████████████████████████████████| 4/4 [00:00<00:00,  7.03it/s]\n"
     ]
    },
    {
     "name": "stdout",
     "output_type": "stream",
     "text": [
      "epoch 111, loss: 0.36038, acc: 0.90020, val_loss: 0.42049, val_accuracy: 0.89411\n"
     ]
    },
    {
     "name": "stderr",
     "output_type": "stream",
     "text": [
      "100%|████████████████████████████████████████████████████████████████████████████████████| 4/4 [00:00<00:00,  7.76it/s]\n"
     ]
    },
    {
     "name": "stdout",
     "output_type": "stream",
     "text": [
      "epoch 112, loss: 0.35990, acc: 0.90029, val_loss: 0.42127, val_accuracy: 0.89411\n"
     ]
    },
    {
     "name": "stderr",
     "output_type": "stream",
     "text": [
      "100%|████████████████████████████████████████████████████████████████████████████████████| 4/4 [00:00<00:00,  9.24it/s]\n"
     ]
    },
    {
     "name": "stdout",
     "output_type": "stream",
     "text": [
      "epoch 113, loss: 0.35949, acc: 0.90044, val_loss: 0.42184, val_accuracy: 0.89411\n"
     ]
    },
    {
     "name": "stderr",
     "output_type": "stream",
     "text": [
      "100%|████████████████████████████████████████████████████████████████████████████████████| 4/4 [00:00<00:00,  6.77it/s]\n"
     ]
    },
    {
     "name": "stdout",
     "output_type": "stream",
     "text": [
      "epoch 114, loss: 0.35903, acc: 0.90055, val_loss: 0.42245, val_accuracy: 0.89411\n"
     ]
    },
    {
     "name": "stderr",
     "output_type": "stream",
     "text": [
      "100%|████████████████████████████████████████████████████████████████████████████████████| 4/4 [00:00<00:00,  9.39it/s]\n"
     ]
    },
    {
     "name": "stdout",
     "output_type": "stream",
     "text": [
      "epoch 115, loss: 0.35855, acc: 0.90055, val_loss: 0.42298, val_accuracy: 0.89411\n"
     ]
    },
    {
     "name": "stderr",
     "output_type": "stream",
     "text": [
      "100%|████████████████████████████████████████████████████████████████████████████████████| 4/4 [00:00<00:00,  8.49it/s]\n"
     ]
    },
    {
     "name": "stdout",
     "output_type": "stream",
     "text": [
      "epoch 116, loss: 0.35811, acc: 0.90058, val_loss: 0.42365, val_accuracy: 0.89411\n"
     ]
    },
    {
     "name": "stderr",
     "output_type": "stream",
     "text": [
      "100%|████████████████████████████████████████████████████████████████████████████████████| 4/4 [00:00<00:00,  8.45it/s]\n"
     ]
    },
    {
     "name": "stdout",
     "output_type": "stream",
     "text": [
      "epoch 117, loss: 0.35766, acc: 0.90070, val_loss: 0.42447, val_accuracy: 0.89411\n"
     ]
    },
    {
     "name": "stderr",
     "output_type": "stream",
     "text": [
      "100%|████████████████████████████████████████████████████████████████████████████████████| 4/4 [00:00<00:00,  8.00it/s]\n"
     ]
    },
    {
     "name": "stdout",
     "output_type": "stream",
     "text": [
      "epoch 118, loss: 0.35719, acc: 0.90070, val_loss: 0.42453, val_accuracy: 0.89411\n"
     ]
    },
    {
     "name": "stderr",
     "output_type": "stream",
     "text": [
      "100%|████████████████████████████████████████████████████████████████████████████████████| 4/4 [00:00<00:00,  7.86it/s]\n"
     ]
    },
    {
     "name": "stdout",
     "output_type": "stream",
     "text": [
      "epoch 119, loss: 0.35676, acc: 0.90081, val_loss: 0.42453, val_accuracy: 0.89411\n"
     ]
    },
    {
     "name": "stderr",
     "output_type": "stream",
     "text": [
      "100%|████████████████████████████████████████████████████████████████████████████████████| 4/4 [00:00<00:00,  7.90it/s]\n"
     ]
    },
    {
     "name": "stdout",
     "output_type": "stream",
     "text": [
      "epoch 120, loss: 0.35635, acc: 0.90067, val_loss: 0.42561, val_accuracy: 0.89411\n"
     ]
    },
    {
     "name": "stderr",
     "output_type": "stream",
     "text": [
      "100%|████████████████████████████████████████████████████████████████████████████████████| 4/4 [00:00<00:00,  8.18it/s]\n"
     ]
    },
    {
     "name": "stdout",
     "output_type": "stream",
     "text": [
      "epoch 121, loss: 0.35588, acc: 0.90067, val_loss: 0.42570, val_accuracy: 0.89411\n"
     ]
    },
    {
     "name": "stderr",
     "output_type": "stream",
     "text": [
      "100%|████████████████████████████████████████████████████████████████████████████████████| 4/4 [00:00<00:00,  6.71it/s]\n"
     ]
    },
    {
     "name": "stdout",
     "output_type": "stream",
     "text": [
      "epoch 122, loss: 0.35546, acc: 0.90081, val_loss: 0.42669, val_accuracy: 0.89411\n"
     ]
    },
    {
     "name": "stderr",
     "output_type": "stream",
     "text": [
      "100%|████████████████████████████████████████████████████████████████████████████████████| 4/4 [00:00<00:00,  8.26it/s]\n"
     ]
    },
    {
     "name": "stdout",
     "output_type": "stream",
     "text": [
      "epoch 123, loss: 0.35503, acc: 0.90076, val_loss: 0.42727, val_accuracy: 0.89411\n"
     ]
    },
    {
     "name": "stderr",
     "output_type": "stream",
     "text": [
      "100%|████████████████████████████████████████████████████████████████████████████████████| 4/4 [00:00<00:00,  8.35it/s]\n"
     ]
    },
    {
     "name": "stdout",
     "output_type": "stream",
     "text": [
      "epoch 124, loss: 0.35454, acc: 0.90087, val_loss: 0.42720, val_accuracy: 0.89411\n"
     ]
    },
    {
     "name": "stderr",
     "output_type": "stream",
     "text": [
      "100%|████████████████████████████████████████████████████████████████████████████████████| 4/4 [00:00<00:00,  8.35it/s]\n"
     ]
    },
    {
     "name": "stdout",
     "output_type": "stream",
     "text": [
      "epoch 125, loss: 0.35413, acc: 0.90081, val_loss: 0.42840, val_accuracy: 0.89411\n"
     ]
    },
    {
     "name": "stderr",
     "output_type": "stream",
     "text": [
      "100%|████████████████████████████████████████████████████████████████████████████████████| 4/4 [00:00<00:00,  8.71it/s]\n"
     ]
    },
    {
     "name": "stdout",
     "output_type": "stream",
     "text": [
      "epoch 126, loss: 0.35368, acc: 0.90090, val_loss: 0.42803, val_accuracy: 0.89411\n"
     ]
    },
    {
     "name": "stderr",
     "output_type": "stream",
     "text": [
      "100%|████████████████████████████████████████████████████████████████████████████████████| 4/4 [00:00<00:00,  8.68it/s]\n"
     ]
    },
    {
     "name": "stdout",
     "output_type": "stream",
     "text": [
      "epoch 127, loss: 0.35316, acc: 0.90096, val_loss: 0.42901, val_accuracy: 0.89411\n"
     ]
    },
    {
     "name": "stderr",
     "output_type": "stream",
     "text": [
      "100%|████████████████████████████████████████████████████████████████████████████████████| 4/4 [00:00<00:00,  8.31it/s]\n"
     ]
    },
    {
     "name": "stdout",
     "output_type": "stream",
     "text": [
      "epoch 128, loss: 0.35286, acc: 0.90090, val_loss: 0.43024, val_accuracy: 0.89411\n"
     ]
    },
    {
     "name": "stderr",
     "output_type": "stream",
     "text": [
      "100%|████████████████████████████████████████████████████████████████████████████████████| 4/4 [00:00<00:00,  6.01it/s]\n"
     ]
    },
    {
     "name": "stdout",
     "output_type": "stream",
     "text": [
      "epoch 129, loss: 0.35236, acc: 0.90099, val_loss: 0.42922, val_accuracy: 0.89411\n"
     ]
    },
    {
     "name": "stderr",
     "output_type": "stream",
     "text": [
      "100%|████████████████████████████████████████████████████████████████████████████████████| 4/4 [00:00<00:00,  8.57it/s]\n"
     ]
    },
    {
     "name": "stdout",
     "output_type": "stream",
     "text": [
      "epoch 130, loss: 0.35188, acc: 0.90090, val_loss: 0.43123, val_accuracy: 0.89411\n"
     ]
    },
    {
     "name": "stderr",
     "output_type": "stream",
     "text": [
      "100%|████████████████████████████████████████████████████████████████████████████████████| 4/4 [00:00<00:00,  7.92it/s]\n"
     ]
    },
    {
     "name": "stdout",
     "output_type": "stream",
     "text": [
      "epoch 131, loss: 0.35160, acc: 0.90093, val_loss: 0.43137, val_accuracy: 0.89411\n"
     ]
    },
    {
     "name": "stderr",
     "output_type": "stream",
     "text": [
      "100%|████████████████████████████████████████████████████████████████████████████████████| 4/4 [00:00<00:00,  7.03it/s]\n"
     ]
    },
    {
     "name": "stdout",
     "output_type": "stream",
     "text": [
      "epoch 132, loss: 0.35100, acc: 0.90108, val_loss: 0.43162, val_accuracy: 0.89411\n"
     ]
    },
    {
     "name": "stderr",
     "output_type": "stream",
     "text": [
      "100%|████████████████████████████████████████████████████████████████████████████████████| 4/4 [00:00<00:00,  7.84it/s]\n"
     ]
    },
    {
     "name": "stdout",
     "output_type": "stream",
     "text": [
      "epoch 133, loss: 0.35067, acc: 0.90090, val_loss: 0.43410, val_accuracy: 0.89411\n"
     ]
    },
    {
     "name": "stderr",
     "output_type": "stream",
     "text": [
      "100%|████████████████████████████████████████████████████████████████████████████████████| 4/4 [00:00<00:00,  7.99it/s]\n"
     ]
    },
    {
     "name": "stdout",
     "output_type": "stream",
     "text": [
      "epoch 134, loss: 0.35034, acc: 0.90111, val_loss: 0.43231, val_accuracy: 0.89411\n"
     ]
    },
    {
     "name": "stderr",
     "output_type": "stream",
     "text": [
      "100%|████████████████████████████████████████████████████████████████████████████████████| 4/4 [00:00<00:00,  7.98it/s]\n"
     ]
    },
    {
     "name": "stdout",
     "output_type": "stream",
     "text": [
      "epoch 135, loss: 0.34974, acc: 0.90108, val_loss: 0.43350, val_accuracy: 0.89411\n"
     ]
    },
    {
     "name": "stderr",
     "output_type": "stream",
     "text": [
      "100%|████████████████████████████████████████████████████████████████████████████████████| 4/4 [00:00<00:00,  8.51it/s]\n"
     ]
    },
    {
     "name": "stdout",
     "output_type": "stream",
     "text": [
      "epoch 136, loss: 0.34946, acc: 0.90111, val_loss: 0.43524, val_accuracy: 0.89411\n"
     ]
    },
    {
     "name": "stderr",
     "output_type": "stream",
     "text": [
      "100%|████████████████████████████████████████████████████████████████████████████████████| 4/4 [00:00<00:00,  7.90it/s]\n"
     ]
    },
    {
     "name": "stdout",
     "output_type": "stream",
     "text": [
      "epoch 137, loss: 0.34900, acc: 0.90111, val_loss: 0.43395, val_accuracy: 0.89411\n"
     ]
    },
    {
     "name": "stderr",
     "output_type": "stream",
     "text": [
      "100%|████████████████████████████████████████████████████████████████████████████████████| 4/4 [00:00<00:00,  8.28it/s]\n"
     ]
    },
    {
     "name": "stdout",
     "output_type": "stream",
     "text": [
      "epoch 138, loss: 0.34852, acc: 0.90111, val_loss: 0.43498, val_accuracy: 0.89411\n"
     ]
    },
    {
     "name": "stderr",
     "output_type": "stream",
     "text": [
      "100%|████████████████████████████████████████████████████████████████████████████████████| 4/4 [00:00<00:00,  6.57it/s]\n"
     ]
    },
    {
     "name": "stdout",
     "output_type": "stream",
     "text": [
      "epoch 139, loss: 0.34831, acc: 0.90119, val_loss: 0.43781, val_accuracy: 0.89411\n"
     ]
    },
    {
     "name": "stderr",
     "output_type": "stream",
     "text": [
      "100%|████████████████████████████████████████████████████████████████████████████████████| 4/4 [00:00<00:00,  8.40it/s]\n"
     ]
    },
    {
     "name": "stdout",
     "output_type": "stream",
     "text": [
      "epoch 140, loss: 0.34794, acc: 0.90119, val_loss: 0.43527, val_accuracy: 0.89411\n"
     ]
    },
    {
     "name": "stderr",
     "output_type": "stream",
     "text": [
      "100%|████████████████████████████████████████████████████████████████████████████████████| 4/4 [00:00<00:00,  8.53it/s]\n"
     ]
    },
    {
     "name": "stdout",
     "output_type": "stream",
     "text": [
      "epoch 141, loss: 0.34745, acc: 0.90114, val_loss: 0.43609, val_accuracy: 0.89411\n"
     ]
    },
    {
     "name": "stderr",
     "output_type": "stream",
     "text": [
      "100%|████████████████████████████████████████████████████████████████████████████████████| 4/4 [00:00<00:00,  6.57it/s]\n"
     ]
    },
    {
     "name": "stdout",
     "output_type": "stream",
     "text": [
      "epoch 142, loss: 0.34734, acc: 0.90108, val_loss: 0.44011, val_accuracy: 0.89411\n"
     ]
    },
    {
     "name": "stderr",
     "output_type": "stream",
     "text": [
      "100%|████████████████████████████████████████████████████████████████████████████████████| 4/4 [00:00<00:00,  8.66it/s]\n"
     ]
    },
    {
     "name": "stdout",
     "output_type": "stream",
     "text": [
      "epoch 143, loss: 0.34704, acc: 0.90099, val_loss: 0.43674, val_accuracy: 0.89411\n"
     ]
    },
    {
     "name": "stderr",
     "output_type": "stream",
     "text": [
      "100%|████████████████████████████████████████████████████████████████████████████████████| 4/4 [00:00<00:00,  8.14it/s]\n"
     ]
    },
    {
     "name": "stdout",
     "output_type": "stream",
     "text": [
      "epoch 144, loss: 0.34653, acc: 0.90125, val_loss: 0.43679, val_accuracy: 0.89411\n"
     ]
    },
    {
     "name": "stderr",
     "output_type": "stream",
     "text": [
      "100%|████████████████████████████████████████████████████████████████████████████████████| 4/4 [00:00<00:00,  8.37it/s]\n"
     ]
    },
    {
     "name": "stdout",
     "output_type": "stream",
     "text": [
      "epoch 145, loss: 0.34659, acc: 0.90119, val_loss: 0.44367, val_accuracy: 0.89411\n"
     ]
    },
    {
     "name": "stderr",
     "output_type": "stream",
     "text": [
      "100%|████████████████████████████████████████████████████████████████████████████████████| 4/4 [00:00<00:00,  8.60it/s]\n"
     ]
    },
    {
     "name": "stdout",
     "output_type": "stream",
     "text": [
      "epoch 146, loss: 0.34628, acc: 0.90111, val_loss: 0.43712, val_accuracy: 0.89411\n"
     ]
    },
    {
     "name": "stderr",
     "output_type": "stream",
     "text": [
      "100%|████████████████████████████████████████████████████████████████████████████████████| 4/4 [00:00<00:00,  8.73it/s]\n"
     ]
    },
    {
     "name": "stdout",
     "output_type": "stream",
     "text": [
      "epoch 147, loss: 0.34545, acc: 0.90114, val_loss: 0.43760, val_accuracy: 0.89411\n"
     ]
    },
    {
     "name": "stderr",
     "output_type": "stream",
     "text": [
      "100%|████████████████████████████████████████████████████████████████████████████████████| 4/4 [00:00<00:00,  7.66it/s]\n"
     ]
    },
    {
     "name": "stdout",
     "output_type": "stream",
     "text": [
      "epoch 148, loss: 0.34586, acc: 0.90128, val_loss: 0.44634, val_accuracy: 0.89411\n"
     ]
    },
    {
     "name": "stderr",
     "output_type": "stream",
     "text": [
      "100%|████████████████████████████████████████████████████████████████████████████████████| 4/4 [00:00<00:00,  7.08it/s]\n"
     ]
    },
    {
     "name": "stdout",
     "output_type": "stream",
     "text": [
      "epoch 149, loss: 0.34525, acc: 0.90140, val_loss: 0.43792, val_accuracy: 0.89411\n"
     ]
    },
    {
     "name": "stderr",
     "output_type": "stream",
     "text": [
      "100%|████████████████████████████████████████████████████████████████████████████████████| 4/4 [00:00<00:00,  5.92it/s]\n"
     ]
    },
    {
     "name": "stdout",
     "output_type": "stream",
     "text": [
      "epoch 150, loss: 0.34435, acc: 0.90131, val_loss: 0.43816, val_accuracy: 0.89411\n"
     ]
    },
    {
     "name": "stderr",
     "output_type": "stream",
     "text": [
      "100%|████████████████████████████████████████████████████████████████████████████████████| 4/4 [00:00<00:00,  8.58it/s]\n"
     ]
    },
    {
     "name": "stdout",
     "output_type": "stream",
     "text": [
      "epoch 151, loss: 0.34485, acc: 0.90044, val_loss: 0.44816, val_accuracy: 0.89411\n"
     ]
    },
    {
     "name": "stderr",
     "output_type": "stream",
     "text": [
      "100%|████████████████████████████████████████████████████████████████████████████████████| 4/4 [00:00<00:00,  8.33it/s]\n"
     ]
    },
    {
     "name": "stdout",
     "output_type": "stream",
     "text": [
      "epoch 152, loss: 0.34435, acc: 0.90119, val_loss: 0.44048, val_accuracy: 0.89411\n"
     ]
    },
    {
     "name": "stderr",
     "output_type": "stream",
     "text": [
      "100%|████████████████████████████████████████████████████████████████████████████████████| 4/4 [00:00<00:00,  8.42it/s]\n"
     ]
    },
    {
     "name": "stdout",
     "output_type": "stream",
     "text": [
      "epoch 153, loss: 0.34323, acc: 0.90137, val_loss: 0.43923, val_accuracy: 0.89411\n"
     ]
    },
    {
     "name": "stderr",
     "output_type": "stream",
     "text": [
      "100%|████████████████████████████████████████████████████████████████████████████████████| 4/4 [00:00<00:00,  8.42it/s]\n"
     ]
    },
    {
     "name": "stdout",
     "output_type": "stream",
     "text": [
      "epoch 154, loss: 0.34407, acc: 0.90023, val_loss: 0.45110, val_accuracy: 0.89411\n"
     ]
    },
    {
     "name": "stderr",
     "output_type": "stream",
     "text": [
      "100%|████████████████████████████████████████████████████████████████████████████████████| 4/4 [00:00<00:00,  8.33it/s]\n"
     ]
    },
    {
     "name": "stdout",
     "output_type": "stream",
     "text": [
      "epoch 155, loss: 0.34334, acc: 0.90143, val_loss: 0.43998, val_accuracy: 0.89411\n"
     ]
    },
    {
     "name": "stderr",
     "output_type": "stream",
     "text": [
      "100%|████████████████████████████████████████████████████████████████████████████████████| 4/4 [00:00<00:00,  8.14it/s]\n"
     ]
    },
    {
     "name": "stdout",
     "output_type": "stream",
     "text": [
      "epoch 156, loss: 0.34188, acc: 0.90128, val_loss: 0.44152, val_accuracy: 0.89411\n"
     ]
    },
    {
     "name": "stderr",
     "output_type": "stream",
     "text": [
      "100%|████████████████████████████████████████████████████████████████████████████████████| 4/4 [00:00<00:00,  6.53it/s]\n"
     ]
    },
    {
     "name": "stdout",
     "output_type": "stream",
     "text": [
      "epoch 157, loss: 0.34248, acc: 0.90049, val_loss: 0.44792, val_accuracy: 0.89411\n"
     ]
    },
    {
     "name": "stderr",
     "output_type": "stream",
     "text": [
      "100%|████████████████████████████████████████████████████████████████████████████████████| 4/4 [00:00<00:00,  9.17it/s]\n"
     ]
    },
    {
     "name": "stdout",
     "output_type": "stream",
     "text": [
      "epoch 158, loss: 0.34215, acc: 0.90122, val_loss: 0.44378, val_accuracy: 0.89438\n"
     ]
    },
    {
     "name": "stderr",
     "output_type": "stream",
     "text": [
      "100%|████████████████████████████████████████████████████████████████████████████████████| 4/4 [00:00<00:00,  7.97it/s]\n"
     ]
    },
    {
     "name": "stdout",
     "output_type": "stream",
     "text": [
      "epoch 159, loss: 0.34137, acc: 0.90128, val_loss: 0.44120, val_accuracy: 0.89411\n"
     ]
    },
    {
     "name": "stderr",
     "output_type": "stream",
     "text": [
      "100%|████████████████████████████████████████████████████████████████████████████████████| 4/4 [00:00<00:00,  6.77it/s]\n"
     ]
    },
    {
     "name": "stdout",
     "output_type": "stream",
     "text": [
      "epoch 160, loss: 0.34216, acc: 0.90041, val_loss: 0.44869, val_accuracy: 0.89411\n"
     ]
    },
    {
     "name": "stderr",
     "output_type": "stream",
     "text": [
      "100%|████████████████████████████████████████████████████████████████████████████████████| 4/4 [00:00<00:00,  7.75it/s]\n"
     ]
    },
    {
     "name": "stdout",
     "output_type": "stream",
     "text": [
      "epoch 161, loss: 0.34160, acc: 0.90154, val_loss: 0.44435, val_accuracy: 0.89438\n"
     ]
    },
    {
     "name": "stderr",
     "output_type": "stream",
     "text": [
      "100%|████████████████████████████████████████████████████████████████████████████████████| 4/4 [00:00<00:00,  7.54it/s]\n"
     ]
    },
    {
     "name": "stdout",
     "output_type": "stream",
     "text": [
      "epoch 162, loss: 0.33969, acc: 0.90149, val_loss: 0.44584, val_accuracy: 0.89438\n"
     ]
    },
    {
     "name": "stderr",
     "output_type": "stream",
     "text": [
      "100%|████████████████████████████████████████████████████████████████████████████████████| 4/4 [00:00<00:00,  7.55it/s]\n"
     ]
    },
    {
     "name": "stdout",
     "output_type": "stream",
     "text": [
      "epoch 163, loss: 0.33991, acc: 0.90017, val_loss: 0.44616, val_accuracy: 0.89411\n"
     ]
    },
    {
     "name": "stderr",
     "output_type": "stream",
     "text": [
      "100%|████████████████████████████████████████████████████████████████████████████████████| 4/4 [00:00<00:00,  8.19it/s]\n"
     ]
    },
    {
     "name": "stdout",
     "output_type": "stream",
     "text": [
      "epoch 164, loss: 0.34004, acc: 0.90032, val_loss: 0.45053, val_accuracy: 0.89438\n"
     ]
    },
    {
     "name": "stderr",
     "output_type": "stream",
     "text": [
      "100%|████████████████████████████████████████████████████████████████████████████████████| 4/4 [00:00<00:00,  7.87it/s]\n"
     ]
    },
    {
     "name": "stdout",
     "output_type": "stream",
     "text": [
      "epoch 165, loss: 0.33897, acc: 0.90149, val_loss: 0.44207, val_accuracy: 0.89438\n"
     ]
    },
    {
     "name": "stderr",
     "output_type": "stream",
     "text": [
      "100%|████████████████████████████████████████████████████████████████████████████████████| 4/4 [00:00<00:00,  7.65it/s]\n"
     ]
    },
    {
     "name": "stdout",
     "output_type": "stream",
     "text": [
      "epoch 166, loss: 0.33930, acc: 0.90008, val_loss: 0.45564, val_accuracy: 0.89385\n"
     ]
    },
    {
     "name": "stderr",
     "output_type": "stream",
     "text": [
      "100%|████████████████████████████████████████████████████████████████████████████████████| 4/4 [00:00<00:00,  6.13it/s]\n"
     ]
    },
    {
     "name": "stdout",
     "output_type": "stream",
     "text": [
      "epoch 167, loss: 0.33904, acc: 0.90160, val_loss: 0.44372, val_accuracy: 0.89438\n"
     ]
    },
    {
     "name": "stderr",
     "output_type": "stream",
     "text": [
      "100%|████████████████████████████████████████████████████████████████████████████████████| 4/4 [00:00<00:00,  8.31it/s]\n"
     ]
    },
    {
     "name": "stdout",
     "output_type": "stream",
     "text": [
      "epoch 168, loss: 0.33772, acc: 0.90046, val_loss: 0.44577, val_accuracy: 0.89438\n"
     ]
    },
    {
     "name": "stderr",
     "output_type": "stream",
     "text": [
      "100%|████████████████████████████████████████████████████████████████████████████████████| 4/4 [00:00<00:00,  7.77it/s]\n"
     ]
    },
    {
     "name": "stdout",
     "output_type": "stream",
     "text": [
      "epoch 169, loss: 0.33809, acc: 0.90061, val_loss: 0.44976, val_accuracy: 0.89438\n"
     ]
    },
    {
     "name": "stderr",
     "output_type": "stream",
     "text": [
      "100%|████████████████████████████████████████████████████████████████████████████████████| 4/4 [00:00<00:00,  6.87it/s]\n"
     ]
    },
    {
     "name": "stdout",
     "output_type": "stream",
     "text": [
      "epoch 170, loss: 0.33760, acc: 0.90134, val_loss: 0.45148, val_accuracy: 0.89385\n"
     ]
    },
    {
     "name": "stderr",
     "output_type": "stream",
     "text": [
      "100%|████████████████████████████████████████████████████████████████████████████████████| 4/4 [00:00<00:00,  8.91it/s]\n"
     ]
    },
    {
     "name": "stdout",
     "output_type": "stream",
     "text": [
      "epoch 171, loss: 0.33702, acc: 0.90140, val_loss: 0.44581, val_accuracy: 0.89438\n"
     ]
    },
    {
     "name": "stderr",
     "output_type": "stream",
     "text": [
      "100%|████████████████████████████████████████████████████████████████████████████████████| 4/4 [00:00<00:00,  8.70it/s]\n"
     ]
    },
    {
     "name": "stdout",
     "output_type": "stream",
     "text": [
      "epoch 172, loss: 0.33708, acc: 0.90049, val_loss: 0.45000, val_accuracy: 0.89438\n"
     ]
    },
    {
     "name": "stderr",
     "output_type": "stream",
     "text": [
      "100%|████████████████████████████████████████████████████████████████████████████████████| 4/4 [00:00<00:00,  8.69it/s]\n"
     ]
    },
    {
     "name": "stdout",
     "output_type": "stream",
     "text": [
      "epoch 173, loss: 0.33671, acc: 0.90143, val_loss: 0.45013, val_accuracy: 0.89385\n"
     ]
    },
    {
     "name": "stderr",
     "output_type": "stream",
     "text": [
      "100%|████████████████████████████████████████████████████████████████████████████████████| 4/4 [00:00<00:00,  9.02it/s]\n"
     ]
    },
    {
     "name": "stdout",
     "output_type": "stream",
     "text": [
      "epoch 174, loss: 0.33586, acc: 0.90143, val_loss: 0.45254, val_accuracy: 0.89385\n"
     ]
    },
    {
     "name": "stderr",
     "output_type": "stream",
     "text": [
      "100%|████████████████████████████████████████████████████████████████████████████████████| 4/4 [00:00<00:00,  8.21it/s]\n"
     ]
    },
    {
     "name": "stdout",
     "output_type": "stream",
     "text": [
      "epoch 175, loss: 0.33562, acc: 0.90157, val_loss: 0.44562, val_accuracy: 0.89438\n"
     ]
    },
    {
     "name": "stderr",
     "output_type": "stream",
     "text": [
      "100%|████████████████████████████████████████████████████████████████████████████████████| 4/4 [00:00<00:00,  8.31it/s]\n"
     ]
    },
    {
     "name": "stdout",
     "output_type": "stream",
     "text": [
      "epoch 176, loss: 0.33549, acc: 0.90046, val_loss: 0.45134, val_accuracy: 0.89385\n"
     ]
    },
    {
     "name": "stderr",
     "output_type": "stream",
     "text": [
      "100%|████████████████████████████████████████████████████████████████████████████████████| 4/4 [00:00<00:00,  8.49it/s]\n"
     ]
    },
    {
     "name": "stdout",
     "output_type": "stream",
     "text": [
      "epoch 177, loss: 0.33545, acc: 0.90067, val_loss: 0.45096, val_accuracy: 0.89385\n"
     ]
    },
    {
     "name": "stderr",
     "output_type": "stream",
     "text": [
      "100%|████████████████████████████████████████████████████████████████████████████████████| 4/4 [00:00<00:00,  6.83it/s]\n"
     ]
    },
    {
     "name": "stdout",
     "output_type": "stream",
     "text": [
      "epoch 178, loss: 0.33504, acc: 0.90125, val_loss: 0.45617, val_accuracy: 0.89333\n"
     ]
    },
    {
     "name": "stderr",
     "output_type": "stream",
     "text": [
      "100%|████████████████████████████████████████████████████████████████████████████████████| 4/4 [00:00<00:00,  8.67it/s]\n"
     ]
    },
    {
     "name": "stdout",
     "output_type": "stream",
     "text": [
      "epoch 179, loss: 0.33444, acc: 0.90163, val_loss: 0.44686, val_accuracy: 0.89438\n"
     ]
    },
    {
     "name": "stderr",
     "output_type": "stream",
     "text": [
      "100%|████████████████████████████████████████████████████████████████████████████████████| 4/4 [00:00<00:00,  8.71it/s]\n"
     ]
    },
    {
     "name": "stdout",
     "output_type": "stream",
     "text": [
      "epoch 180, loss: 0.33440, acc: 0.90049, val_loss: 0.45483, val_accuracy: 0.89385\n"
     ]
    },
    {
     "name": "stderr",
     "output_type": "stream",
     "text": [
      "100%|████████████████████████████████████████████████████████████████████████████████████| 4/4 [00:00<00:00,  8.18it/s]\n"
     ]
    },
    {
     "name": "stdout",
     "output_type": "stream",
     "text": [
      "epoch 181, loss: 0.33413, acc: 0.90090, val_loss: 0.45196, val_accuracy: 0.89385\n"
     ]
    },
    {
     "name": "stderr",
     "output_type": "stream",
     "text": [
      "100%|████████████████████████████████████████████████████████████████████████████████████| 4/4 [00:00<00:00,  8.28it/s]\n"
     ]
    },
    {
     "name": "stdout",
     "output_type": "stream",
     "text": [
      "epoch 182, loss: 0.33360, acc: 0.90152, val_loss: 0.45995, val_accuracy: 0.89333\n"
     ]
    },
    {
     "name": "stderr",
     "output_type": "stream",
     "text": [
      "100%|████████████████████████████████████████████████████████████████████████████████████| 4/4 [00:00<00:00,  8.62it/s]\n"
     ]
    },
    {
     "name": "stdout",
     "output_type": "stream",
     "text": [
      "epoch 183, loss: 0.33322, acc: 0.90184, val_loss: 0.44793, val_accuracy: 0.89385\n"
     ]
    },
    {
     "name": "stderr",
     "output_type": "stream",
     "text": [
      "100%|████████████████████████████████████████████████████████████████████████████████████| 4/4 [00:00<00:00,  8.91it/s]\n"
     ]
    },
    {
     "name": "stdout",
     "output_type": "stream",
     "text": [
      "epoch 184, loss: 0.33301, acc: 0.90076, val_loss: 0.45413, val_accuracy: 0.89385\n"
     ]
    },
    {
     "name": "stderr",
     "output_type": "stream",
     "text": [
      "100%|████████████████████████████████████████████████████████████████████████████████████| 4/4 [00:00<00:00,  6.26it/s]\n"
     ]
    },
    {
     "name": "stdout",
     "output_type": "stream",
     "text": [
      "epoch 185, loss: 0.33290, acc: 0.90081, val_loss: 0.45325, val_accuracy: 0.89385\n"
     ]
    },
    {
     "name": "stderr",
     "output_type": "stream",
     "text": [
      "100%|████████████████████████████████████████████████████████████████████████████████████| 4/4 [00:00<00:00,  6.81it/s]\n"
     ]
    },
    {
     "name": "stdout",
     "output_type": "stream",
     "text": [
      "epoch 186, loss: 0.33241, acc: 0.90160, val_loss: 0.46125, val_accuracy: 0.89280\n"
     ]
    },
    {
     "name": "stderr",
     "output_type": "stream",
     "text": [
      "100%|████████████████████████████████████████████████████████████████████████████████████| 4/4 [00:00<00:00,  8.03it/s]\n"
     ]
    },
    {
     "name": "stdout",
     "output_type": "stream",
     "text": [
      "epoch 187, loss: 0.33205, acc: 0.90189, val_loss: 0.45215, val_accuracy: 0.89385\n"
     ]
    },
    {
     "name": "stderr",
     "output_type": "stream",
     "text": [
      "100%|████████████████████████████████████████████████████████████████████████████████████| 4/4 [00:00<00:00,  6.30it/s]\n"
     ]
    },
    {
     "name": "stdout",
     "output_type": "stream",
     "text": [
      "epoch 188, loss: 0.33170, acc: 0.90096, val_loss: 0.45323, val_accuracy: 0.89385\n"
     ]
    },
    {
     "name": "stderr",
     "output_type": "stream",
     "text": [
      "100%|████████████████████████████████████████████████████████████████████████████████████| 4/4 [00:00<00:00,  8.16it/s]\n"
     ]
    },
    {
     "name": "stdout",
     "output_type": "stream",
     "text": [
      "epoch 189, loss: 0.33191, acc: 0.90093, val_loss: 0.45268, val_accuracy: 0.89385\n"
     ]
    },
    {
     "name": "stderr",
     "output_type": "stream",
     "text": [
      "100%|████████████████████████████████████████████████████████████████████████████████████| 4/4 [00:00<00:00,  8.21it/s]\n"
     ]
    },
    {
     "name": "stdout",
     "output_type": "stream",
     "text": [
      "epoch 190, loss: 0.33211, acc: 0.90143, val_loss: 0.47164, val_accuracy: 0.89254\n"
     ]
    },
    {
     "name": "stderr",
     "output_type": "stream",
     "text": [
      "100%|████████████████████████████████████████████████████████████████████████████████████| 4/4 [00:00<00:00,  8.26it/s]\n"
     ]
    },
    {
     "name": "stdout",
     "output_type": "stream",
     "text": [
      "epoch 191, loss: 0.33241, acc: 0.90216, val_loss: 0.45221, val_accuracy: 0.89333\n"
     ]
    },
    {
     "name": "stderr",
     "output_type": "stream",
     "text": [
      "100%|████████████████████████████████████████████████████████████████████████████████████| 4/4 [00:00<00:00,  8.33it/s]\n"
     ]
    },
    {
     "name": "stdout",
     "output_type": "stream",
     "text": [
      "epoch 192, loss: 0.33121, acc: 0.90114, val_loss: 0.45267, val_accuracy: 0.89385\n"
     ]
    },
    {
     "name": "stderr",
     "output_type": "stream",
     "text": [
      "100%|████████████████████████████████████████████████████████████████████████████████████| 4/4 [00:00<00:00,  7.39it/s]\n"
     ]
    },
    {
     "name": "stdout",
     "output_type": "stream",
     "text": [
      "epoch 193, loss: 0.33229, acc: 0.90125, val_loss: 0.45090, val_accuracy: 0.89438\n"
     ]
    },
    {
     "name": "stderr",
     "output_type": "stream",
     "text": [
      "100%|████████████████████████████████████████████████████████████████████████████████████| 4/4 [00:00<00:00,  8.01it/s]\n"
     ]
    },
    {
     "name": "stdout",
     "output_type": "stream",
     "text": [
      "epoch 194, loss: 0.33285, acc: 0.90140, val_loss: 0.48719, val_accuracy: 0.87099\n"
     ]
    },
    {
     "name": "stderr",
     "output_type": "stream",
     "text": [
      "100%|████████████████████████████████████████████████████████████████████████████████████| 4/4 [00:00<00:00,  6.60it/s]\n"
     ]
    },
    {
     "name": "stdout",
     "output_type": "stream",
     "text": [
      "epoch 195, loss: 0.33453, acc: 0.90254, val_loss: 0.45163, val_accuracy: 0.89306\n"
     ]
    },
    {
     "name": "stderr",
     "output_type": "stream",
     "text": [
      "100%|████████████████████████████████████████████████████████████████████████████████████| 4/4 [00:00<00:00,  8.55it/s]\n"
     ]
    },
    {
     "name": "stdout",
     "output_type": "stream",
     "text": [
      "epoch 196, loss: 0.33182, acc: 0.90119, val_loss: 0.45219, val_accuracy: 0.89385\n"
     ]
    },
    {
     "name": "stderr",
     "output_type": "stream",
     "text": [
      "100%|████████████████████████████████████████████████████████████████████████████████████| 4/4 [00:00<00:00,  7.55it/s]\n"
     ]
    },
    {
     "name": "stdout",
     "output_type": "stream",
     "text": [
      "epoch 197, loss: 0.33287, acc: 0.90093, val_loss: 0.45735, val_accuracy: 0.89385\n"
     ]
    },
    {
     "name": "stderr",
     "output_type": "stream",
     "text": [
      "100%|████████████████████████████████████████████████████████████████████████████████████| 4/4 [00:00<00:00,  6.30it/s]\n"
     ]
    },
    {
     "name": "stdout",
     "output_type": "stream",
     "text": [
      "epoch 198, loss: 0.33277, acc: 0.90134, val_loss: 0.49128, val_accuracy: 0.87099\n"
     ]
    },
    {
     "name": "stderr",
     "output_type": "stream",
     "text": [
      "100%|████████████████████████████████████████████████████████████████████████████████████| 4/4 [00:00<00:00,  8.16it/s]\n"
     ]
    },
    {
     "name": "stdout",
     "output_type": "stream",
     "text": [
      "epoch 199, loss: 0.33496, acc: 0.90268, val_loss: 0.45233, val_accuracy: 0.89385\n"
     ]
    },
    {
     "name": "stderr",
     "output_type": "stream",
     "text": [
      "100%|████████████████████████████████████████████████████████████████████████████████████| 4/4 [00:00<00:00,  8.01it/s]\n"
     ]
    },
    {
     "name": "stdout",
     "output_type": "stream",
     "text": [
      "epoch 200, loss: 0.33174, acc: 0.90114, val_loss: 0.45189, val_accuracy: 0.89359\n"
     ]
    },
    {
     "name": "stderr",
     "output_type": "stream",
     "text": [
      "100%|████████████████████████████████████████████████████████████████████████████████████| 4/4 [00:00<00:00,  8.23it/s]\n"
     ]
    },
    {
     "name": "stdout",
     "output_type": "stream",
     "text": [
      "epoch 201, loss: 0.33308, acc: 0.90058, val_loss: 0.47276, val_accuracy: 0.89280\n"
     ]
    },
    {
     "name": "stderr",
     "output_type": "stream",
     "text": [
      "100%|████████████████████████████████████████████████████████████████████████████████████| 4/4 [00:00<00:00,  6.94it/s]\n"
     ]
    },
    {
     "name": "stdout",
     "output_type": "stream",
     "text": [
      "epoch 202, loss: 0.33137, acc: 0.90227, val_loss: 0.47713, val_accuracy: 0.87099\n"
     ]
    },
    {
     "name": "stderr",
     "output_type": "stream",
     "text": [
      "100%|████████████████████████████████████████████████████████████████████████████████████| 4/4 [00:00<00:00,  9.05it/s]\n"
     ]
    },
    {
     "name": "stdout",
     "output_type": "stream",
     "text": [
      "epoch 203, loss: 0.33093, acc: 0.90321, val_loss: 0.45123, val_accuracy: 0.89385\n"
     ]
    },
    {
     "name": "stderr",
     "output_type": "stream",
     "text": [
      "100%|████████████████████████████████████████████████████████████████████████████████████| 4/4 [00:00<00:00,  9.03it/s]\n"
     ]
    },
    {
     "name": "stdout",
     "output_type": "stream",
     "text": [
      "epoch 204, loss: 0.33086, acc: 0.90079, val_loss: 0.45773, val_accuracy: 0.89438\n"
     ]
    },
    {
     "name": "stderr",
     "output_type": "stream",
     "text": [
      "100%|████████████████████████████████████████████████████████████████████████████████████| 4/4 [00:00<00:00,  8.30it/s]\n"
     ]
    },
    {
     "name": "stdout",
     "output_type": "stream",
     "text": [
      "epoch 205, loss: 0.33225, acc: 0.90084, val_loss: 0.49107, val_accuracy: 0.87099\n"
     ]
    },
    {
     "name": "stderr",
     "output_type": "stream",
     "text": [
      "100%|████████████████████████████████████████████████████████████████████████████████████| 4/4 [00:00<00:00,  6.76it/s]\n"
     ]
    },
    {
     "name": "stdout",
     "output_type": "stream",
     "text": [
      "epoch 206, loss: 0.33012, acc: 0.90260, val_loss: 0.45294, val_accuracy: 0.89280\n"
     ]
    },
    {
     "name": "stderr",
     "output_type": "stream",
     "text": [
      "100%|████████████████████████████████████████████████████████████████████████████████████| 4/4 [00:00<00:00,  8.67it/s]\n"
     ]
    },
    {
     "name": "stdout",
     "output_type": "stream",
     "text": [
      "epoch 207, loss: 0.32913, acc: 0.90271, val_loss: 0.45599, val_accuracy: 0.89438\n"
     ]
    },
    {
     "name": "stderr",
     "output_type": "stream",
     "text": [
      "100%|████████████████████████████████████████████████████████████████████████████████████| 4/4 [00:00<00:00,  9.19it/s]\n"
     ]
    },
    {
     "name": "stdout",
     "output_type": "stream",
     "text": [
      "epoch 208, loss: 0.32932, acc: 0.90081, val_loss: 0.47202, val_accuracy: 0.87126\n"
     ]
    },
    {
     "name": "stderr",
     "output_type": "stream",
     "text": [
      "100%|████████████████████████████████████████████████████████████████████████████████████| 4/4 [00:00<00:00,  8.51it/s]\n"
     ]
    },
    {
     "name": "stdout",
     "output_type": "stream",
     "text": [
      "epoch 209, loss: 0.32833, acc: 0.90227, val_loss: 0.47524, val_accuracy: 0.87099\n"
     ]
    },
    {
     "name": "stderr",
     "output_type": "stream",
     "text": [
      "100%|████████████████████████████████████████████████████████████████████████████████████| 4/4 [00:00<00:00,  8.21it/s]\n"
     ]
    },
    {
     "name": "stdout",
     "output_type": "stream",
     "text": [
      "epoch 210, loss: 0.32795, acc: 0.90330, val_loss: 0.45277, val_accuracy: 0.89359\n"
     ]
    },
    {
     "name": "stderr",
     "output_type": "stream",
     "text": [
      "100%|████████████████████████████████████████████████████████████████████████████████████| 4/4 [00:00<00:00,  8.79it/s]\n"
     ]
    },
    {
     "name": "stdout",
     "output_type": "stream",
     "text": [
      "epoch 211, loss: 0.32703, acc: 0.90239, val_loss: 0.45733, val_accuracy: 0.89385\n"
     ]
    },
    {
     "name": "stderr",
     "output_type": "stream",
     "text": [
      "100%|████████████████████████████████████████████████████████████████████████████████████| 4/4 [00:00<00:00,  8.64it/s]\n"
     ]
    },
    {
     "name": "stdout",
     "output_type": "stream",
     "text": [
      "epoch 212, loss: 0.32893, acc: 0.90093, val_loss: 0.47998, val_accuracy: 0.87099\n"
     ]
    },
    {
     "name": "stderr",
     "output_type": "stream",
     "text": [
      "100%|████████████████████████████████████████████████████████████████████████████████████| 4/4 [00:00<00:00,  6.72it/s]\n"
     ]
    },
    {
     "name": "stdout",
     "output_type": "stream",
     "text": [
      "epoch 213, loss: 0.32728, acc: 0.90242, val_loss: 0.47214, val_accuracy: 0.87099\n"
     ]
    },
    {
     "name": "stderr",
     "output_type": "stream",
     "text": [
      "100%|████████████████████████████████████████████████████████████████████████████████████| 4/4 [00:00<00:00,  8.28it/s]\n"
     ]
    },
    {
     "name": "stdout",
     "output_type": "stream",
     "text": [
      "epoch 214, loss: 0.32672, acc: 0.90359, val_loss: 0.45412, val_accuracy: 0.89359\n"
     ]
    },
    {
     "name": "stderr",
     "output_type": "stream",
     "text": [
      "100%|████████████████████████████████████████████████████████████████████████████████████| 4/4 [00:00<00:00,  8.28it/s]\n"
     ]
    },
    {
     "name": "stdout",
     "output_type": "stream",
     "text": [
      "epoch 215, loss: 0.32739, acc: 0.90131, val_loss: 0.46324, val_accuracy: 0.89359\n"
     ]
    },
    {
     "name": "stderr",
     "output_type": "stream",
     "text": [
      "100%|████████████████████████████████████████████████████████████████████████████████████| 4/4 [00:00<00:00,  6.46it/s]\n"
     ]
    },
    {
     "name": "stdout",
     "output_type": "stream",
     "text": [
      "epoch 216, loss: 0.32862, acc: 0.90225, val_loss: 0.48769, val_accuracy: 0.87099\n"
     ]
    },
    {
     "name": "stderr",
     "output_type": "stream",
     "text": [
      "100%|████████████████████████████████████████████████████████████████████████████████████| 4/4 [00:00<00:00,  8.01it/s]\n"
     ]
    },
    {
     "name": "stdout",
     "output_type": "stream",
     "text": [
      "epoch 217, loss: 0.32652, acc: 0.90245, val_loss: 0.46147, val_accuracy: 0.87099\n"
     ]
    },
    {
     "name": "stderr",
     "output_type": "stream",
     "text": [
      "100%|████████████████████████████████████████████████████████████████████████████████████| 4/4 [00:00<00:00,  8.42it/s]\n"
     ]
    },
    {
     "name": "stdout",
     "output_type": "stream",
     "text": [
      "epoch 218, loss: 0.32569, acc: 0.90251, val_loss: 0.45698, val_accuracy: 0.89411\n"
     ]
    },
    {
     "name": "stderr",
     "output_type": "stream",
     "text": [
      "100%|████████████████████████████████████████████████████████████████████████████████████| 4/4 [00:00<00:00,  7.84it/s]\n"
     ]
    },
    {
     "name": "stdout",
     "output_type": "stream",
     "text": [
      "epoch 219, loss: 0.32725, acc: 0.90111, val_loss: 0.46836, val_accuracy: 0.87126\n"
     ]
    },
    {
     "name": "stderr",
     "output_type": "stream",
     "text": [
      "100%|████████████████████████████████████████████████████████████████████████████████████| 4/4 [00:00<00:00,  7.93it/s]\n"
     ]
    },
    {
     "name": "stdout",
     "output_type": "stream",
     "text": [
      "epoch 220, loss: 0.32708, acc: 0.90233, val_loss: 0.48740, val_accuracy: 0.87099\n"
     ]
    },
    {
     "name": "stderr",
     "output_type": "stream",
     "text": [
      "100%|████████████████████████████████████████████████████████████████████████████████████| 4/4 [00:00<00:00,  7.77it/s]\n"
     ]
    },
    {
     "name": "stdout",
     "output_type": "stream",
     "text": [
      "epoch 221, loss: 0.32530, acc: 0.90341, val_loss: 0.45849, val_accuracy: 0.87126\n"
     ]
    },
    {
     "name": "stderr",
     "output_type": "stream",
     "text": [
      "100%|████████████████████████████████████████████████████████████████████████████████████| 4/4 [00:00<00:00,  8.13it/s]\n"
     ]
    },
    {
     "name": "stdout",
     "output_type": "stream",
     "text": [
      "epoch 222, loss: 0.32462, acc: 0.90330, val_loss: 0.45784, val_accuracy: 0.89411\n"
     ]
    },
    {
     "name": "stderr",
     "output_type": "stream",
     "text": [
      "100%|████████████████████████████████████████████████████████████████████████████████████| 4/4 [00:00<00:00,  5.87it/s]\n"
     ]
    },
    {
     "name": "stdout",
     "output_type": "stream",
     "text": [
      "epoch 223, loss: 0.32722, acc: 0.90076, val_loss: 0.49027, val_accuracy: 0.87099\n"
     ]
    },
    {
     "name": "stderr",
     "output_type": "stream",
     "text": [
      "100%|████████████████████████████████████████████████████████████████████████████████████| 4/4 [00:00<00:00,  8.05it/s]\n"
     ]
    },
    {
     "name": "stdout",
     "output_type": "stream",
     "text": [
      "epoch 224, loss: 0.32571, acc: 0.90292, val_loss: 0.46966, val_accuracy: 0.87099\n"
     ]
    },
    {
     "name": "stderr",
     "output_type": "stream",
     "text": [
      "100%|████████████████████████████████████████████████████████████████████████████████████| 4/4 [00:00<00:00,  7.92it/s]\n"
     ]
    },
    {
     "name": "stdout",
     "output_type": "stream",
     "text": [
      "epoch 225, loss: 0.32395, acc: 0.90382, val_loss: 0.46011, val_accuracy: 0.87152\n"
     ]
    },
    {
     "name": "stderr",
     "output_type": "stream",
     "text": [
      "100%|████████████████████████████████████████████████████████████████████████████████████| 4/4 [00:00<00:00,  6.56it/s]\n"
     ]
    },
    {
     "name": "stdout",
     "output_type": "stream",
     "text": [
      "epoch 226, loss: 0.32417, acc: 0.90213, val_loss: 0.46218, val_accuracy: 0.89411\n"
     ]
    },
    {
     "name": "stderr",
     "output_type": "stream",
     "text": [
      "100%|████████████████████████████████████████████████████████████████████████████████████| 4/4 [00:00<00:00,  7.84it/s]\n"
     ]
    },
    {
     "name": "stdout",
     "output_type": "stream",
     "text": [
      "epoch 227, loss: 0.32695, acc: 0.90239, val_loss: 0.51372, val_accuracy: 0.87099\n"
     ]
    },
    {
     "name": "stderr",
     "output_type": "stream",
     "text": [
      "100%|████████████████████████████████████████████████████████████████████████████████████| 4/4 [00:00<00:00,  8.33it/s]\n"
     ]
    },
    {
     "name": "stdout",
     "output_type": "stream",
     "text": [
      "epoch 228, loss: 0.32691, acc: 0.90321, val_loss: 0.45209, val_accuracy: 0.87126\n"
     ]
    },
    {
     "name": "stderr",
     "output_type": "stream",
     "text": [
      "100%|████████████████████████████████████████████████████████████████████████████████████| 4/4 [00:00<00:00,  8.21it/s]\n"
     ]
    },
    {
     "name": "stdout",
     "output_type": "stream",
     "text": [
      "epoch 229, loss: 0.32528, acc: 0.90283, val_loss: 0.46197, val_accuracy: 0.87152\n"
     ]
    },
    {
     "name": "stderr",
     "output_type": "stream",
     "text": [
      "100%|████████████████████████████████████████████████████████████████████████████████████| 4/4 [00:00<00:00,  7.93it/s]\n"
     ]
    },
    {
     "name": "stdout",
     "output_type": "stream",
     "text": [
      "epoch 230, loss: 0.32556, acc: 0.90169, val_loss: 0.47218, val_accuracy: 0.87126\n"
     ]
    },
    {
     "name": "stderr",
     "output_type": "stream",
     "text": [
      "100%|████████████████████████████████████████████████████████████████████████████████████| 4/4 [00:00<00:00,  7.90it/s]\n"
     ]
    },
    {
     "name": "stdout",
     "output_type": "stream",
     "text": [
      "epoch 231, loss: 0.32430, acc: 0.90251, val_loss: 0.50642, val_accuracy: 0.87073\n"
     ]
    },
    {
     "name": "stderr",
     "output_type": "stream",
     "text": [
      "100%|████████████████████████████████████████████████████████████████████████████████████| 4/4 [00:00<00:00,  7.79it/s]\n"
     ]
    },
    {
     "name": "stdout",
     "output_type": "stream",
     "text": [
      "epoch 232, loss: 0.32575, acc: 0.90438, val_loss: 0.45677, val_accuracy: 0.87152\n"
     ]
    },
    {
     "name": "stderr",
     "output_type": "stream",
     "text": [
      "100%|████████████████████████████████████████████████████████████████████████████████████| 4/4 [00:00<00:00,  7.34it/s]\n"
     ]
    },
    {
     "name": "stdout",
     "output_type": "stream",
     "text": [
      "epoch 233, loss: 0.32447, acc: 0.90283, val_loss: 0.46276, val_accuracy: 0.87152\n"
     ]
    },
    {
     "name": "stderr",
     "output_type": "stream",
     "text": [
      "100%|████████████████████████████████████████████████████████████████████████████████████| 4/4 [00:00<00:00,  6.54it/s]\n"
     ]
    },
    {
     "name": "stdout",
     "output_type": "stream",
     "text": [
      "epoch 234, loss: 0.32477, acc: 0.90181, val_loss: 0.49604, val_accuracy: 0.87099\n"
     ]
    },
    {
     "name": "stderr",
     "output_type": "stream",
     "text": [
      "100%|████████████████████████████████████████████████████████████████████████████████████| 4/4 [00:00<00:00,  8.16it/s]\n"
     ]
    },
    {
     "name": "stdout",
     "output_type": "stream",
     "text": [
      "epoch 235, loss: 0.32204, acc: 0.90318, val_loss: 0.47480, val_accuracy: 0.87099\n"
     ]
    },
    {
     "name": "stderr",
     "output_type": "stream",
     "text": [
      "100%|████████████████████████████████████████████████████████████████████████████████████| 4/4 [00:00<00:00,  8.67it/s]\n"
     ]
    },
    {
     "name": "stdout",
     "output_type": "stream",
     "text": [
      "epoch 236, loss: 0.32145, acc: 0.90423, val_loss: 0.46219, val_accuracy: 0.87152\n"
     ]
    },
    {
     "name": "stderr",
     "output_type": "stream",
     "text": [
      "100%|████████████████████████████████████████████████████████████████████████████████████| 4/4 [00:00<00:00,  8.44it/s]\n"
     ]
    },
    {
     "name": "stdout",
     "output_type": "stream",
     "text": [
      "epoch 237, loss: 0.32240, acc: 0.90233, val_loss: 0.47308, val_accuracy: 0.87126\n"
     ]
    },
    {
     "name": "stderr",
     "output_type": "stream",
     "text": [
      "100%|████████████████████████████████████████████████████████████████████████████████████| 4/4 [00:00<00:00,  8.00it/s]\n"
     ]
    },
    {
     "name": "stdout",
     "output_type": "stream",
     "text": [
      "epoch 238, loss: 0.32290, acc: 0.90254, val_loss: 0.51017, val_accuracy: 0.87099\n"
     ]
    },
    {
     "name": "stderr",
     "output_type": "stream",
     "text": [
      "100%|████████████████████████████████████████████████████████████████████████████████████| 4/4 [00:00<00:00,  8.19it/s]\n"
     ]
    },
    {
     "name": "stdout",
     "output_type": "stream",
     "text": [
      "epoch 239, loss: 0.32188, acc: 0.90452, val_loss: 0.46089, val_accuracy: 0.87126\n"
     ]
    },
    {
     "name": "stderr",
     "output_type": "stream",
     "text": [
      "100%|████████████████████████████████████████████████████████████████████████████████████| 4/4 [00:00<00:00,  8.31it/s]\n"
     ]
    },
    {
     "name": "stdout",
     "output_type": "stream",
     "text": [
      "epoch 240, loss: 0.32139, acc: 0.90309, val_loss: 0.46631, val_accuracy: 0.87152\n"
     ]
    },
    {
     "name": "stderr",
     "output_type": "stream",
     "text": [
      "100%|████████████████████████████████████████████████████████████████████████████████████| 4/4 [00:00<00:00,  6.36it/s]\n"
     ]
    },
    {
     "name": "stdout",
     "output_type": "stream",
     "text": [
      "epoch 241, loss: 0.32220, acc: 0.90213, val_loss: 0.48719, val_accuracy: 0.87126\n"
     ]
    },
    {
     "name": "stderr",
     "output_type": "stream",
     "text": [
      "100%|████████████████████████████████████████████████████████████████████████████████████| 4/4 [00:00<00:00,  8.10it/s]\n"
     ]
    },
    {
     "name": "stdout",
     "output_type": "stream",
     "text": [
      "epoch 242, loss: 0.32071, acc: 0.90283, val_loss: 0.49862, val_accuracy: 0.87073\n"
     ]
    },
    {
     "name": "stderr",
     "output_type": "stream",
     "text": [
      "100%|████████████████████████████████████████████████████████████████████████████████████| 4/4 [00:00<00:00,  8.25it/s]\n"
     ]
    },
    {
     "name": "stdout",
     "output_type": "stream",
     "text": [
      "epoch 243, loss: 0.32099, acc: 0.90449, val_loss: 0.46085, val_accuracy: 0.87126\n"
     ]
    },
    {
     "name": "stderr",
     "output_type": "stream",
     "text": [
      "100%|████████████████████████████████████████████████████████████████████████████████████| 4/4 [00:00<00:00,  6.63it/s]\n"
     ]
    },
    {
     "name": "stdout",
     "output_type": "stream",
     "text": [
      "epoch 244, loss: 0.32138, acc: 0.90306, val_loss: 0.47023, val_accuracy: 0.87126\n"
     ]
    },
    {
     "name": "stderr",
     "output_type": "stream",
     "text": [
      "100%|████████████████████████████████████████████████████████████████████████████████████| 4/4 [00:00<00:00,  8.06it/s]\n"
     ]
    },
    {
     "name": "stdout",
     "output_type": "stream",
     "text": [
      "epoch 245, loss: 0.32158, acc: 0.90260, val_loss: 0.49218, val_accuracy: 0.87099\n"
     ]
    },
    {
     "name": "stderr",
     "output_type": "stream",
     "text": [
      "100%|████████████████████████████████████████████████████████████████████████████████████| 4/4 [00:00<00:00,  7.84it/s]\n"
     ]
    },
    {
     "name": "stdout",
     "output_type": "stream",
     "text": [
      "epoch 246, loss: 0.31880, acc: 0.90341, val_loss: 0.48857, val_accuracy: 0.87099\n"
     ]
    },
    {
     "name": "stderr",
     "output_type": "stream",
     "text": [
      "100%|████████████████████████████████████████████████████████████████████████████████████| 4/4 [00:00<00:00,  8.45it/s]\n"
     ]
    },
    {
     "name": "stdout",
     "output_type": "stream",
     "text": [
      "epoch 247, loss: 0.31844, acc: 0.90490, val_loss: 0.46417, val_accuracy: 0.87126\n"
     ]
    },
    {
     "name": "stderr",
     "output_type": "stream",
     "text": [
      "100%|████████████████████████████████████████████████████████████████████████████████████| 4/4 [00:00<00:00,  7.78it/s]\n"
     ]
    },
    {
     "name": "stdout",
     "output_type": "stream",
     "text": [
      "epoch 248, loss: 0.31984, acc: 0.90309, val_loss: 0.47604, val_accuracy: 0.87126\n"
     ]
    },
    {
     "name": "stderr",
     "output_type": "stream",
     "text": [
      "100%|████████████████████████████████████████████████████████████████████████████████████| 4/4 [00:00<00:00,  7.46it/s]\n"
     ]
    },
    {
     "name": "stdout",
     "output_type": "stream",
     "text": [
      "epoch 249, loss: 0.31948, acc: 0.90303, val_loss: 0.49215, val_accuracy: 0.87099\n"
     ]
    },
    {
     "name": "stderr",
     "output_type": "stream",
     "text": [
      "100%|████████████████████████████████████████████████████████████████████████████████████| 4/4 [00:00<00:00,  9.01it/s]\n"
     ]
    },
    {
     "name": "stdout",
     "output_type": "stream",
     "text": [
      "epoch 250, loss: 0.31704, acc: 0.90476, val_loss: 0.48188, val_accuracy: 0.87099\n"
     ]
    },
    {
     "name": "stderr",
     "output_type": "stream",
     "text": [
      "100%|████████████████████████████████████████████████████████████████████████████████████| 4/4 [00:00<00:00,  6.56it/s]\n"
     ]
    },
    {
     "name": "stdout",
     "output_type": "stream",
     "text": [
      "epoch 251, loss: 0.31628, acc: 0.90505, val_loss: 0.46608, val_accuracy: 0.87126\n"
     ]
    },
    {
     "name": "stderr",
     "output_type": "stream",
     "text": [
      "100%|████████████████████████████████████████████████████████████████████████████████████| 4/4 [00:00<00:00,  8.73it/s]\n"
     ]
    },
    {
     "name": "stdout",
     "output_type": "stream",
     "text": [
      "epoch 252, loss: 0.31832, acc: 0.90309, val_loss: 0.47755, val_accuracy: 0.87126\n"
     ]
    },
    {
     "name": "stderr",
     "output_type": "stream",
     "text": [
      "100%|████████████████████████████████████████████████████████████████████████████████████| 4/4 [00:00<00:00,  7.98it/s]\n"
     ]
    },
    {
     "name": "stdout",
     "output_type": "stream",
     "text": [
      "epoch 253, loss: 0.31812, acc: 0.90306, val_loss: 0.49355, val_accuracy: 0.87099\n"
     ]
    },
    {
     "name": "stderr",
     "output_type": "stream",
     "text": [
      "100%|████████████████████████████████████████████████████████████████████████████████████| 4/4 [00:00<00:00,  7.12it/s]\n"
     ]
    },
    {
     "name": "stdout",
     "output_type": "stream",
     "text": [
      "epoch 254, loss: 0.31634, acc: 0.90543, val_loss: 0.48342, val_accuracy: 0.87099\n"
     ]
    },
    {
     "name": "stderr",
     "output_type": "stream",
     "text": [
      "100%|████████████████████████████████████████████████████████████████████████████████████| 4/4 [00:00<00:00,  8.79it/s]\n"
     ]
    },
    {
     "name": "stdout",
     "output_type": "stream",
     "text": [
      "epoch 255, loss: 0.31539, acc: 0.90531, val_loss: 0.46580, val_accuracy: 0.87126\n"
     ]
    },
    {
     "name": "stderr",
     "output_type": "stream",
     "text": [
      "100%|████████████████████████████████████████████████████████████████████████████████████| 4/4 [00:00<00:00,  8.91it/s]\n"
     ]
    },
    {
     "name": "stdout",
     "output_type": "stream",
     "text": [
      "epoch 256, loss: 0.31858, acc: 0.90286, val_loss: 0.47602, val_accuracy: 0.87126\n"
     ]
    },
    {
     "name": "stderr",
     "output_type": "stream",
     "text": [
      "100%|████████████████████████████████████████████████████████████████████████████████████| 4/4 [00:00<00:00,  8.47it/s]\n"
     ]
    },
    {
     "name": "stdout",
     "output_type": "stream",
     "text": [
      "epoch 257, loss: 0.31769, acc: 0.90327, val_loss: 0.49490, val_accuracy: 0.87099\n"
     ]
    },
    {
     "name": "stderr",
     "output_type": "stream",
     "text": [
      "100%|████████████████████████████████████████████████████████████████████████████████████| 4/4 [00:00<00:00,  9.03it/s]\n"
     ]
    },
    {
     "name": "stdout",
     "output_type": "stream",
     "text": [
      "epoch 258, loss: 0.31615, acc: 0.90525, val_loss: 0.49368, val_accuracy: 0.87047\n"
     ]
    },
    {
     "name": "stderr",
     "output_type": "stream",
     "text": [
      "100%|████████████████████████████████████████████████████████████████████████████████████| 4/4 [00:00<00:00,  8.56it/s]\n"
     ]
    },
    {
     "name": "stdout",
     "output_type": "stream",
     "text": [
      "epoch 259, loss: 0.31539, acc: 0.90502, val_loss: 0.46305, val_accuracy: 0.87126\n"
     ]
    },
    {
     "name": "stderr",
     "output_type": "stream",
     "text": [
      "100%|████████████████████████████████████████████████████████████████████████████████████| 4/4 [00:00<00:00,  8.03it/s]\n"
     ]
    },
    {
     "name": "stdout",
     "output_type": "stream",
     "text": [
      "epoch 260, loss: 0.31896, acc: 0.90283, val_loss: 0.47445, val_accuracy: 0.87178\n"
     ]
    },
    {
     "name": "stderr",
     "output_type": "stream",
     "text": [
      "100%|████████████████████████████████████████████████████████████████████████████████████| 4/4 [00:00<00:00,  8.89it/s]\n"
     ]
    },
    {
     "name": "stdout",
     "output_type": "stream",
     "text": [
      "epoch 261, loss: 0.31898, acc: 0.90315, val_loss: 0.49939, val_accuracy: 0.87099\n"
     ]
    },
    {
     "name": "stderr",
     "output_type": "stream",
     "text": [
      "100%|████████████████████████████████████████████████████████████████████████████████████| 4/4 [00:00<00:00,  6.98it/s]\n"
     ]
    },
    {
     "name": "stdout",
     "output_type": "stream",
     "text": [
      "epoch 262, loss: 0.31710, acc: 0.90499, val_loss: 0.50294, val_accuracy: 0.87047\n"
     ]
    },
    {
     "name": "stderr",
     "output_type": "stream",
     "text": [
      "100%|████████████████████████████████████████████████████████████████████████████████████| 4/4 [00:00<00:00,  8.83it/s]\n"
     ]
    },
    {
     "name": "stdout",
     "output_type": "stream",
     "text": [
      "epoch 263, loss: 0.31628, acc: 0.90519, val_loss: 0.46576, val_accuracy: 0.87126\n"
     ]
    },
    {
     "name": "stderr",
     "output_type": "stream",
     "text": [
      "100%|████████████████████████████████████████████████████████████████████████████████████| 4/4 [00:00<00:00,  8.40it/s]\n"
     ]
    },
    {
     "name": "stdout",
     "output_type": "stream",
     "text": [
      "epoch 264, loss: 0.32005, acc: 0.90260, val_loss: 0.46927, val_accuracy: 0.87178\n"
     ]
    },
    {
     "name": "stderr",
     "output_type": "stream",
     "text": [
      "100%|████████████████████████████████████████████████████████████████████████████████████| 4/4 [00:00<00:00,  8.79it/s]\n"
     ]
    },
    {
     "name": "stdout",
     "output_type": "stream",
     "text": [
      "epoch 265, loss: 0.32032, acc: 0.90335, val_loss: 0.50284, val_accuracy: 0.87099\n"
     ]
    },
    {
     "name": "stderr",
     "output_type": "stream",
     "text": [
      "100%|████████████████████████████████████████████████████████████████████████████████████| 4/4 [00:00<00:00,  8.08it/s]\n"
     ]
    },
    {
     "name": "stdout",
     "output_type": "stream",
     "text": [
      "epoch 266, loss: 0.31946, acc: 0.90432, val_loss: 0.51246, val_accuracy: 0.87020\n"
     ]
    },
    {
     "name": "stderr",
     "output_type": "stream",
     "text": [
      "100%|████████████████████████████████████████████████████████████████████████████████████| 4/4 [00:00<00:00,  7.75it/s]\n"
     ]
    },
    {
     "name": "stdout",
     "output_type": "stream",
     "text": [
      "epoch 267, loss: 0.32003, acc: 0.90467, val_loss: 0.46953, val_accuracy: 0.87204\n"
     ]
    },
    {
     "name": "stderr",
     "output_type": "stream",
     "text": [
      "100%|████████████████████████████████████████████████████████████████████████████████████| 4/4 [00:00<00:00,  7.93it/s]\n"
     ]
    },
    {
     "name": "stdout",
     "output_type": "stream",
     "text": [
      "epoch 268, loss: 0.32315, acc: 0.90254, val_loss: 0.46810, val_accuracy: 0.87178\n"
     ]
    },
    {
     "name": "stderr",
     "output_type": "stream",
     "text": [
      "100%|████████████████████████████████████████████████████████████████████████████████████| 4/4 [00:00<00:00,  6.51it/s]\n"
     ]
    },
    {
     "name": "stdout",
     "output_type": "stream",
     "text": [
      "epoch 269, loss: 0.31981, acc: 0.90315, val_loss: 0.52965, val_accuracy: 0.87073\n"
     ]
    },
    {
     "name": "stderr",
     "output_type": "stream",
     "text": [
      "100%|████████████████████████████████████████████████████████████████████████████████████| 4/4 [00:00<00:00,  7.72it/s]\n"
     ]
    },
    {
     "name": "stdout",
     "output_type": "stream",
     "text": [
      "epoch 270, loss: 0.31842, acc: 0.90496, val_loss: 0.47282, val_accuracy: 0.87099\n"
     ]
    },
    {
     "name": "stderr",
     "output_type": "stream",
     "text": [
      "100%|████████████████████████████████████████████████████████████████████████████████████| 4/4 [00:00<00:00,  7.95it/s]\n"
     ]
    },
    {
     "name": "stdout",
     "output_type": "stream",
     "text": [
      "epoch 271, loss: 0.31687, acc: 0.90417, val_loss: 0.47855, val_accuracy: 0.87178\n"
     ]
    },
    {
     "name": "stderr",
     "output_type": "stream",
     "text": [
      "100%|████████████████████████████████████████████████████████████████████████████████████| 4/4 [00:00<00:00,  6.85it/s]\n"
     ]
    },
    {
     "name": "stdout",
     "output_type": "stream",
     "text": [
      "epoch 272, loss: 0.31906, acc: 0.90283, val_loss: 0.48679, val_accuracy: 0.87099\n"
     ]
    },
    {
     "name": "stderr",
     "output_type": "stream",
     "text": [
      "100%|████████████████████████████████████████████████████████████████████████████████████| 4/4 [00:00<00:00,  8.85it/s]\n"
     ]
    },
    {
     "name": "stdout",
     "output_type": "stream",
     "text": [
      "epoch 273, loss: 0.31483, acc: 0.90441, val_loss: 0.51976, val_accuracy: 0.87047\n"
     ]
    },
    {
     "name": "stderr",
     "output_type": "stream",
     "text": [
      "100%|████████████████████████████████████████████████████████████████████████████████████| 4/4 [00:00<00:00,  8.27it/s]\n"
     ]
    },
    {
     "name": "stdout",
     "output_type": "stream",
     "text": [
      "epoch 274, loss: 0.31428, acc: 0.90566, val_loss: 0.46889, val_accuracy: 0.87099\n"
     ]
    },
    {
     "name": "stderr",
     "output_type": "stream",
     "text": [
      "100%|████████████████████████████████████████████████████████████████████████████████████| 4/4 [00:00<00:00,  8.31it/s]\n"
     ]
    },
    {
     "name": "stdout",
     "output_type": "stream",
     "text": [
      "epoch 275, loss: 0.31406, acc: 0.90411, val_loss: 0.47674, val_accuracy: 0.87099\n"
     ]
    },
    {
     "name": "stderr",
     "output_type": "stream",
     "text": [
      "100%|████████████████████████████████████████████████████████████████████████████████████| 4/4 [00:00<00:00,  8.26it/s]\n"
     ]
    },
    {
     "name": "stdout",
     "output_type": "stream",
     "text": [
      "epoch 276, loss: 0.31540, acc: 0.90379, val_loss: 0.49515, val_accuracy: 0.87099\n"
     ]
    },
    {
     "name": "stderr",
     "output_type": "stream",
     "text": [
      "100%|████████████████████████████████████████████████████████████████████████████████████| 4/4 [00:00<00:00,  8.28it/s]\n"
     ]
    },
    {
     "name": "stdout",
     "output_type": "stream",
     "text": [
      "epoch 277, loss: 0.31312, acc: 0.90519, val_loss: 0.51481, val_accuracy: 0.87047\n"
     ]
    },
    {
     "name": "stderr",
     "output_type": "stream",
     "text": [
      "100%|████████████████████████████████████████████████████████████████████████████████████| 4/4 [00:00<00:00,  8.40it/s]\n"
     ]
    },
    {
     "name": "stdout",
     "output_type": "stream",
     "text": [
      "epoch 278, loss: 0.31303, acc: 0.90598, val_loss: 0.46777, val_accuracy: 0.87126\n"
     ]
    },
    {
     "name": "stderr",
     "output_type": "stream",
     "text": [
      "100%|████████████████████████████████████████████████████████████████████████████████████| 4/4 [00:00<00:00,  5.40it/s]\n"
     ]
    },
    {
     "name": "stdout",
     "output_type": "stream",
     "text": [
      "epoch 279, loss: 0.31461, acc: 0.90429, val_loss: 0.47845, val_accuracy: 0.87178\n"
     ]
    },
    {
     "name": "stderr",
     "output_type": "stream",
     "text": [
      "100%|████████████████████████████████████████████████████████████████████████████████████| 4/4 [00:00<00:00,  8.53it/s]\n"
     ]
    },
    {
     "name": "stdout",
     "output_type": "stream",
     "text": [
      "epoch 280, loss: 0.31432, acc: 0.90417, val_loss: 0.49703, val_accuracy: 0.87099\n"
     ]
    },
    {
     "name": "stderr",
     "output_type": "stream",
     "text": [
      "100%|████████████████████████████████████████████████████████████████████████████████████| 4/4 [00:00<00:00,  8.28it/s]\n"
     ]
    },
    {
     "name": "stdout",
     "output_type": "stream",
     "text": [
      "epoch 281, loss: 0.31201, acc: 0.90552, val_loss: 0.50660, val_accuracy: 0.87047\n"
     ]
    },
    {
     "name": "stderr",
     "output_type": "stream",
     "text": [
      "100%|████████████████████████████████████████████████████████████████████████████████████| 4/4 [00:00<00:00,  6.82it/s]\n"
     ]
    },
    {
     "name": "stdout",
     "output_type": "stream",
     "text": [
      "epoch 282, loss: 0.31173, acc: 0.90607, val_loss: 0.46968, val_accuracy: 0.87126\n"
     ]
    },
    {
     "name": "stderr",
     "output_type": "stream",
     "text": [
      "100%|████████████████████████████████████████████████████████████████████████████████████| 4/4 [00:00<00:00,  8.49it/s]\n"
     ]
    },
    {
     "name": "stdout",
     "output_type": "stream",
     "text": [
      "epoch 283, loss: 0.31375, acc: 0.90397, val_loss: 0.47704, val_accuracy: 0.87178\n"
     ]
    },
    {
     "name": "stderr",
     "output_type": "stream",
     "text": [
      "100%|████████████████████████████████████████████████████████████████████████████████████| 4/4 [00:00<00:00,  8.26it/s]\n"
     ]
    },
    {
     "name": "stdout",
     "output_type": "stream",
     "text": [
      "epoch 284, loss: 0.31319, acc: 0.90435, val_loss: 0.49814, val_accuracy: 0.87099\n"
     ]
    },
    {
     "name": "stderr",
     "output_type": "stream",
     "text": [
      "100%|████████████████████████████████████████████████████████████████████████████████████| 4/4 [00:00<00:00,  8.05it/s]\n"
     ]
    },
    {
     "name": "stdout",
     "output_type": "stream",
     "text": [
      "epoch 285, loss: 0.31163, acc: 0.90525, val_loss: 0.50668, val_accuracy: 0.87047\n"
     ]
    },
    {
     "name": "stderr",
     "output_type": "stream",
     "text": [
      "100%|████████████████████████████████████████████████████████████████████████████████████| 4/4 [00:00<00:00,  8.12it/s]\n"
     ]
    },
    {
     "name": "stdout",
     "output_type": "stream",
     "text": [
      "epoch 286, loss: 0.31147, acc: 0.90592, val_loss: 0.47043, val_accuracy: 0.87126\n"
     ]
    },
    {
     "name": "stderr",
     "output_type": "stream",
     "text": [
      "100%|████████████████████████████████████████████████████████████████████████████████████| 4/4 [00:00<00:00,  7.23it/s]\n"
     ]
    },
    {
     "name": "stdout",
     "output_type": "stream",
     "text": [
      "epoch 287, loss: 0.31416, acc: 0.90382, val_loss: 0.47467, val_accuracy: 0.87178\n"
     ]
    },
    {
     "name": "stderr",
     "output_type": "stream",
     "text": [
      "100%|████████████████████████████████████████████████████████████████████████████████████| 4/4 [00:00<00:00,  8.05it/s]\n"
     ]
    },
    {
     "name": "stdout",
     "output_type": "stream",
     "text": [
      "epoch 288, loss: 0.31364, acc: 0.90414, val_loss: 0.50592, val_accuracy: 0.87073\n"
     ]
    },
    {
     "name": "stderr",
     "output_type": "stream",
     "text": [
      "100%|████████████████████████████████████████████████████████████████████████████████████| 4/4 [00:00<00:00,  7.92it/s]\n"
     ]
    },
    {
     "name": "stdout",
     "output_type": "stream",
     "text": [
      "epoch 289, loss: 0.31172, acc: 0.90560, val_loss: 0.50149, val_accuracy: 0.87047\n"
     ]
    },
    {
     "name": "stderr",
     "output_type": "stream",
     "text": [
      "100%|████████████████████████████████████████████████████████████████████████████████████| 4/4 [00:00<00:00,  6.39it/s]\n"
     ]
    },
    {
     "name": "stdout",
     "output_type": "stream",
     "text": [
      "epoch 290, loss: 0.31104, acc: 0.90613, val_loss: 0.47353, val_accuracy: 0.87178\n"
     ]
    },
    {
     "name": "stderr",
     "output_type": "stream",
     "text": [
      "100%|████████████████████████████████████████████████████████████████████████████████████| 4/4 [00:00<00:00,  7.97it/s]\n"
     ]
    },
    {
     "name": "stdout",
     "output_type": "stream",
     "text": [
      "epoch 291, loss: 0.31438, acc: 0.90411, val_loss: 0.46996, val_accuracy: 0.87178\n"
     ]
    },
    {
     "name": "stderr",
     "output_type": "stream",
     "text": [
      "100%|████████████████████████████████████████████████████████████████████████████████████| 4/4 [00:00<00:00,  8.33it/s]\n"
     ]
    },
    {
     "name": "stdout",
     "output_type": "stream",
     "text": [
      "epoch 292, loss: 0.31382, acc: 0.90406, val_loss: 0.51195, val_accuracy: 0.87073\n"
     ]
    },
    {
     "name": "stderr",
     "output_type": "stream",
     "text": [
      "100%|████████████████████████████████████████████████████████████████████████████████████| 4/4 [00:00<00:00,  8.75it/s]\n"
     ]
    },
    {
     "name": "stdout",
     "output_type": "stream",
     "text": [
      "epoch 293, loss: 0.31270, acc: 0.90546, val_loss: 0.50390, val_accuracy: 0.87047\n"
     ]
    },
    {
     "name": "stderr",
     "output_type": "stream",
     "text": [
      "100%|████████████████████████████████████████████████████████████████████████████████████| 4/4 [00:00<00:00,  6.56it/s]\n"
     ]
    },
    {
     "name": "stdout",
     "output_type": "stream",
     "text": [
      "epoch 294, loss: 0.31204, acc: 0.90557, val_loss: 0.47444, val_accuracy: 0.87178\n"
     ]
    },
    {
     "name": "stderr",
     "output_type": "stream",
     "text": [
      "100%|████████████████████████████████████████████████████████████████████████████████████| 4/4 [00:00<00:00,  7.73it/s]\n"
     ]
    },
    {
     "name": "stdout",
     "output_type": "stream",
     "text": [
      "epoch 295, loss: 0.31685, acc: 0.90327, val_loss: 0.47204, val_accuracy: 0.87178\n"
     ]
    },
    {
     "name": "stderr",
     "output_type": "stream",
     "text": [
      "100%|████████████████████████████████████████████████████████████████████████████████████| 4/4 [00:00<00:00,  8.19it/s]\n"
     ]
    },
    {
     "name": "stdout",
     "output_type": "stream",
     "text": [
      "epoch 296, loss: 0.31393, acc: 0.90411, val_loss: 0.52659, val_accuracy: 0.87073\n"
     ]
    },
    {
     "name": "stderr",
     "output_type": "stream",
     "text": [
      "100%|████████████████████████████████████████████████████████████████████████████████████| 4/4 [00:00<00:00,  6.42it/s]\n"
     ]
    },
    {
     "name": "stdout",
     "output_type": "stream",
     "text": [
      "epoch 297, loss: 0.31261, acc: 0.90572, val_loss: 0.48858, val_accuracy: 0.87047\n"
     ]
    },
    {
     "name": "stderr",
     "output_type": "stream",
     "text": [
      "100%|████████████████████████████████████████████████████████████████████████████████████| 4/4 [00:00<00:00,  8.26it/s]\n"
     ]
    },
    {
     "name": "stdout",
     "output_type": "stream",
     "text": [
      "epoch 298, loss: 0.31147, acc: 0.90531, val_loss: 0.47744, val_accuracy: 0.87178\n"
     ]
    },
    {
     "name": "stderr",
     "output_type": "stream",
     "text": [
      "100%|████████████████████████████████████████████████████████████████████████████████████| 4/4 [00:00<00:00,  8.31it/s]\n"
     ]
    },
    {
     "name": "stdout",
     "output_type": "stream",
     "text": [
      "epoch 299, loss: 0.31556, acc: 0.90365, val_loss: 0.48334, val_accuracy: 0.87099\n"
     ]
    },
    {
     "name": "stderr",
     "output_type": "stream",
     "text": [
      "100%|████████████████████████████████████████████████████████████████████████████████████| 4/4 [00:00<00:00,  6.52it/s]\n"
     ]
    },
    {
     "name": "stdout",
     "output_type": "stream",
     "text": [
      "epoch 300, loss: 0.31124, acc: 0.90458, val_loss: 0.53087, val_accuracy: 0.87178\n"
     ]
    },
    {
     "name": "stderr",
     "output_type": "stream",
     "text": [
      "100%|████████████████████████████████████████████████████████████████████████████████████| 4/4 [00:00<00:00,  6.64it/s]\n"
     ]
    },
    {
     "name": "stdout",
     "output_type": "stream",
     "text": [
      "epoch 301, loss: 0.31042, acc: 0.90642, val_loss: 0.47647, val_accuracy: 0.87073\n"
     ]
    },
    {
     "name": "stderr",
     "output_type": "stream",
     "text": [
      "100%|████████████████████████████████████████████████████████████████████████████████████| 4/4 [00:00<00:00,  9.30it/s]\n"
     ]
    },
    {
     "name": "stdout",
     "output_type": "stream",
     "text": [
      "epoch 302, loss: 0.30962, acc: 0.90496, val_loss: 0.47768, val_accuracy: 0.87178\n"
     ]
    },
    {
     "name": "stderr",
     "output_type": "stream",
     "text": [
      "100%|████████████████████████████████████████████████████████████████████████████████████| 4/4 [00:00<00:00,  9.07it/s]\n"
     ]
    },
    {
     "name": "stdout",
     "output_type": "stream",
     "text": [
      "epoch 303, loss: 0.31211, acc: 0.90479, val_loss: 0.50440, val_accuracy: 0.87073\n"
     ]
    },
    {
     "name": "stderr",
     "output_type": "stream",
     "text": [
      "100%|████████████████████████████████████████████████████████████████████████████████████| 4/4 [00:00<00:00,  9.11it/s]\n"
     ]
    },
    {
     "name": "stdout",
     "output_type": "stream",
     "text": [
      "epoch 304, loss: 0.30906, acc: 0.90566, val_loss: 0.51470, val_accuracy: 0.87073\n"
     ]
    },
    {
     "name": "stderr",
     "output_type": "stream",
     "text": [
      "100%|████████████████████████████████████████████████████████████████████████████████████| 4/4 [00:00<00:00,  9.03it/s]\n"
     ]
    },
    {
     "name": "stdout",
     "output_type": "stream",
     "text": [
      "epoch 305, loss: 0.30807, acc: 0.90665, val_loss: 0.47529, val_accuracy: 0.87099\n"
     ]
    },
    {
     "name": "stderr",
     "output_type": "stream",
     "text": [
      "100%|████████████████████████████████████████████████████████████████████████████████████| 4/4 [00:00<00:00,  9.26it/s]\n"
     ]
    },
    {
     "name": "stdout",
     "output_type": "stream",
     "text": [
      "epoch 306, loss: 0.30930, acc: 0.90476, val_loss: 0.47981, val_accuracy: 0.87178\n"
     ]
    },
    {
     "name": "stderr",
     "output_type": "stream",
     "text": [
      "100%|████████████████████████████████████████████████████████████████████████████████████| 4/4 [00:00<00:00,  6.62it/s]\n"
     ]
    },
    {
     "name": "stdout",
     "output_type": "stream",
     "text": [
      "epoch 307, loss: 0.30970, acc: 0.90481, val_loss: 0.50764, val_accuracy: 0.87073\n"
     ]
    },
    {
     "name": "stderr",
     "output_type": "stream",
     "text": [
      "100%|████████████████████████████████████████████████████████████████████████████████████| 4/4 [00:00<00:00,  8.33it/s]\n"
     ]
    },
    {
     "name": "stdout",
     "output_type": "stream",
     "text": [
      "epoch 308, loss: 0.30806, acc: 0.90584, val_loss: 0.51583, val_accuracy: 0.87073\n"
     ]
    },
    {
     "name": "stderr",
     "output_type": "stream",
     "text": [
      "100%|████████████████████████████████████████████████████████████████████████████████████| 4/4 [00:00<00:00,  7.80it/s]\n"
     ]
    },
    {
     "name": "stdout",
     "output_type": "stream",
     "text": [
      "epoch 309, loss: 0.30785, acc: 0.90671, val_loss: 0.47428, val_accuracy: 0.87178\n"
     ]
    },
    {
     "name": "stderr",
     "output_type": "stream",
     "text": [
      "100%|████████████████████████████████████████████████████████████████████████████████████| 4/4 [00:00<00:00,  6.56it/s]\n"
     ]
    },
    {
     "name": "stdout",
     "output_type": "stream",
     "text": [
      "epoch 310, loss: 0.31050, acc: 0.90420, val_loss: 0.48438, val_accuracy: 0.87178\n"
     ]
    },
    {
     "name": "stderr",
     "output_type": "stream",
     "text": [
      "100%|████████████████████████████████████████████████████████████████████████████████████| 4/4 [00:00<00:00,  8.26it/s]\n"
     ]
    },
    {
     "name": "stdout",
     "output_type": "stream",
     "text": [
      "epoch 311, loss: 0.30883, acc: 0.90487, val_loss: 0.50767, val_accuracy: 0.87073\n"
     ]
    },
    {
     "name": "stderr",
     "output_type": "stream",
     "text": [
      "100%|████████████████████████████████████████████████████████████████████████████████████| 4/4 [00:00<00:00,  7.83it/s]\n"
     ]
    },
    {
     "name": "stdout",
     "output_type": "stream",
     "text": [
      "epoch 312, loss: 0.30710, acc: 0.90572, val_loss: 0.51334, val_accuracy: 0.87073\n"
     ]
    },
    {
     "name": "stderr",
     "output_type": "stream",
     "text": [
      "100%|████████████████████████████████████████████████████████████████████████████████████| 4/4 [00:00<00:00,  7.90it/s]\n"
     ]
    },
    {
     "name": "stdout",
     "output_type": "stream",
     "text": [
      "epoch 313, loss: 0.30730, acc: 0.90686, val_loss: 0.47653, val_accuracy: 0.87178\n"
     ]
    },
    {
     "name": "stderr",
     "output_type": "stream",
     "text": [
      "100%|████████████████████████████████████████████████████████████████████████████████████| 4/4 [00:00<00:00,  8.79it/s]\n"
     ]
    },
    {
     "name": "stdout",
     "output_type": "stream",
     "text": [
      "epoch 314, loss: 0.31050, acc: 0.90376, val_loss: 0.47957, val_accuracy: 0.87178\n"
     ]
    },
    {
     "name": "stderr",
     "output_type": "stream",
     "text": [
      "100%|████████████████████████████████████████████████████████████████████████████████████| 4/4 [00:00<00:00,  8.35it/s]\n"
     ]
    },
    {
     "name": "stdout",
     "output_type": "stream",
     "text": [
      "epoch 315, loss: 0.30984, acc: 0.90473, val_loss: 0.52609, val_accuracy: 0.87099\n"
     ]
    },
    {
     "name": "stderr",
     "output_type": "stream",
     "text": [
      "100%|████████████████████████████████████████████████████████████████████████████████████| 4/4 [00:00<00:00,  8.33it/s]\n"
     ]
    },
    {
     "name": "stdout",
     "output_type": "stream",
     "text": [
      "epoch 316, loss: 0.30849, acc: 0.90575, val_loss: 0.50103, val_accuracy: 0.87073\n"
     ]
    },
    {
     "name": "stderr",
     "output_type": "stream",
     "text": [
      "100%|████████████████████████████████████████████████████████████████████████████████████| 4/4 [00:00<00:00,  8.01it/s]\n"
     ]
    },
    {
     "name": "stdout",
     "output_type": "stream",
     "text": [
      "epoch 317, loss: 0.30763, acc: 0.90572, val_loss: 0.47974, val_accuracy: 0.87178\n"
     ]
    },
    {
     "name": "stderr",
     "output_type": "stream",
     "text": [
      "100%|████████████████████████████████████████████████████████████████████████████████████| 4/4 [00:00<00:00,  6.37it/s]\n"
     ]
    },
    {
     "name": "stdout",
     "output_type": "stream",
     "text": [
      "epoch 318, loss: 0.31095, acc: 0.90397, val_loss: 0.48898, val_accuracy: 0.87152\n"
     ]
    },
    {
     "name": "stderr",
     "output_type": "stream",
     "text": [
      "100%|████████████████████████████████████████████████████████████████████████████████████| 4/4 [00:00<00:00,  7.32it/s]\n"
     ]
    },
    {
     "name": "stdout",
     "output_type": "stream",
     "text": [
      "epoch 319, loss: 0.30747, acc: 0.90519, val_loss: 0.51808, val_accuracy: 0.87099\n"
     ]
    },
    {
     "name": "stderr",
     "output_type": "stream",
     "text": [
      "100%|████████████████████████████████████████████████████████████████████████████████████| 4/4 [00:00<00:00,  8.31it/s]\n"
     ]
    },
    {
     "name": "stdout",
     "output_type": "stream",
     "text": [
      "epoch 320, loss: 0.30586, acc: 0.90595, val_loss: 0.50549, val_accuracy: 0.87073\n"
     ]
    },
    {
     "name": "stderr",
     "output_type": "stream",
     "text": [
      "100%|████████████████████████████████████████████████████████████████████████████████████| 4/4 [00:00<00:00,  8.37it/s]\n"
     ]
    },
    {
     "name": "stdout",
     "output_type": "stream",
     "text": [
      "epoch 321, loss: 0.30509, acc: 0.90613, val_loss: 0.47704, val_accuracy: 0.87178\n"
     ]
    },
    {
     "name": "stderr",
     "output_type": "stream",
     "text": [
      "100%|████████████████████████████████████████████████████████████████████████████████████| 4/4 [00:00<00:00,  8.46it/s]\n"
     ]
    },
    {
     "name": "stdout",
     "output_type": "stream",
     "text": [
      "epoch 322, loss: 0.30982, acc: 0.90400, val_loss: 0.49334, val_accuracy: 0.87152\n"
     ]
    },
    {
     "name": "stderr",
     "output_type": "stream",
     "text": [
      "100%|████████████████████████████████████████████████████████████████████████████████████| 4/4 [00:00<00:00,  8.25it/s]\n"
     ]
    },
    {
     "name": "stdout",
     "output_type": "stream",
     "text": [
      "epoch 323, loss: 0.30757, acc: 0.90537, val_loss: 0.52727, val_accuracy: 0.87073\n"
     ]
    },
    {
     "name": "stderr",
     "output_type": "stream",
     "text": [
      "100%|████████████████████████████████████████████████████████████████████████████████████| 4/4 [00:00<00:00,  7.69it/s]\n"
     ]
    },
    {
     "name": "stdout",
     "output_type": "stream",
     "text": [
      "epoch 324, loss: 0.30571, acc: 0.90651, val_loss: 0.49236, val_accuracy: 0.87073\n"
     ]
    },
    {
     "name": "stderr",
     "output_type": "stream",
     "text": [
      "100%|████████████████████████████████████████████████████████████████████████████████████| 4/4 [00:00<00:00,  5.28it/s]\n"
     ]
    },
    {
     "name": "stdout",
     "output_type": "stream",
     "text": [
      "epoch 325, loss: 0.30464, acc: 0.90689, val_loss: 0.47964, val_accuracy: 0.87178\n"
     ]
    },
    {
     "name": "stderr",
     "output_type": "stream",
     "text": [
      "100%|████████████████████████████████████████████████████████████████████████████████████| 4/4 [00:00<00:00,  7.24it/s]\n"
     ]
    },
    {
     "name": "stdout",
     "output_type": "stream",
     "text": [
      "epoch 326, loss: 0.30805, acc: 0.90534, val_loss: 0.50396, val_accuracy: 0.87126\n"
     ]
    },
    {
     "name": "stderr",
     "output_type": "stream",
     "text": [
      "100%|████████████████████████████████████████████████████████████████████████████████████| 4/4 [00:00<00:00,  7.59it/s]\n"
     ]
    },
    {
     "name": "stdout",
     "output_type": "stream",
     "text": [
      "epoch 327, loss: 0.30488, acc: 0.90581, val_loss: 0.51536, val_accuracy: 0.87073\n"
     ]
    },
    {
     "name": "stderr",
     "output_type": "stream",
     "text": [
      "100%|████████████████████████████████████████████████████████████████████████████████████| 4/4 [00:00<00:00,  5.85it/s]\n"
     ]
    },
    {
     "name": "stdout",
     "output_type": "stream",
     "text": [
      "epoch 328, loss: 0.30317, acc: 0.90706, val_loss: 0.49644, val_accuracy: 0.87073\n"
     ]
    },
    {
     "name": "stderr",
     "output_type": "stream",
     "text": [
      "100%|████████████████████████████████████████████████████████████████████████████████████| 4/4 [00:00<00:00,  7.36it/s]\n"
     ]
    },
    {
     "name": "stdout",
     "output_type": "stream",
     "text": [
      "epoch 329, loss: 0.30232, acc: 0.90674, val_loss: 0.48049, val_accuracy: 0.87152\n"
     ]
    },
    {
     "name": "stderr",
     "output_type": "stream",
     "text": [
      "100%|████████████████████████████████████████████████████████████████████████████████████| 4/4 [00:00<00:00,  5.61it/s]\n"
     ]
    },
    {
     "name": "stdout",
     "output_type": "stream",
     "text": [
      "epoch 330, loss: 0.30531, acc: 0.90566, val_loss: 0.49769, val_accuracy: 0.87126\n"
     ]
    },
    {
     "name": "stderr",
     "output_type": "stream",
     "text": [
      "100%|████████████████████████████████████████████████████████████████████████████████████| 4/4 [00:00<00:00,  8.69it/s]\n"
     ]
    },
    {
     "name": "stdout",
     "output_type": "stream",
     "text": [
      "epoch 331, loss: 0.30390, acc: 0.90592, val_loss: 0.52343, val_accuracy: 0.87073\n"
     ]
    },
    {
     "name": "stderr",
     "output_type": "stream",
     "text": [
      "100%|████████████████████████████████████████████████████████████████████████████████████| 4/4 [00:00<00:00,  8.64it/s]\n"
     ]
    },
    {
     "name": "stdout",
     "output_type": "stream",
     "text": [
      "epoch 332, loss: 0.30473, acc: 0.90660, val_loss: 0.50358, val_accuracy: 0.87073\n"
     ]
    },
    {
     "name": "stderr",
     "output_type": "stream",
     "text": [
      "100%|████████████████████████████████████████████████████████████████████████████████████| 4/4 [00:00<00:00,  8.47it/s]\n"
     ]
    },
    {
     "name": "stdout",
     "output_type": "stream",
     "text": [
      "epoch 333, loss: 0.30411, acc: 0.90601, val_loss: 0.47780, val_accuracy: 0.87178\n"
     ]
    },
    {
     "name": "stderr",
     "output_type": "stream",
     "text": [
      "100%|████████████████████████████████████████████████████████████████████████████████████| 4/4 [00:00<00:00,  8.66it/s]\n"
     ]
    },
    {
     "name": "stdout",
     "output_type": "stream",
     "text": [
      "epoch 334, loss: 0.30882, acc: 0.90426, val_loss: 0.49137, val_accuracy: 0.87178\n"
     ]
    },
    {
     "name": "stderr",
     "output_type": "stream",
     "text": [
      "100%|████████████████████████████████████████████████████████████████████████████████████| 4/4 [00:00<00:00,  6.81it/s]\n"
     ]
    },
    {
     "name": "stdout",
     "output_type": "stream",
     "text": [
      "epoch 335, loss: 0.30891, acc: 0.90490, val_loss: 0.56129, val_accuracy: 0.85970\n"
     ]
    },
    {
     "name": "stderr",
     "output_type": "stream",
     "text": [
      "100%|████████████████████████████████████████████████████████████████████████████████████| 4/4 [00:00<00:00,  8.31it/s]\n"
     ]
    },
    {
     "name": "stdout",
     "output_type": "stream",
     "text": [
      "epoch 336, loss: 0.31141, acc: 0.90537, val_loss: 0.49153, val_accuracy: 0.87073\n"
     ]
    },
    {
     "name": "stderr",
     "output_type": "stream",
     "text": [
      "100%|████████████████████████████████████████████████████████████████████████████████████| 4/4 [00:00<00:00,  8.69it/s]\n"
     ]
    },
    {
     "name": "stdout",
     "output_type": "stream",
     "text": [
      "epoch 337, loss: 0.31140, acc: 0.90552, val_loss: 0.48366, val_accuracy: 0.87178\n"
     ]
    },
    {
     "name": "stderr",
     "output_type": "stream",
     "text": [
      "100%|████████████████████████████████████████████████████████████████████████████████████| 4/4 [00:00<00:00,  6.87it/s]\n"
     ]
    },
    {
     "name": "stdout",
     "output_type": "stream",
     "text": [
      "epoch 338, loss: 0.31506, acc: 0.90335, val_loss: 0.49481, val_accuracy: 0.87178\n"
     ]
    },
    {
     "name": "stderr",
     "output_type": "stream",
     "text": [
      "100%|████████████████████████████████████████████████████████████████████████████████████| 4/4 [00:00<00:00,  8.51it/s]\n"
     ]
    },
    {
     "name": "stdout",
     "output_type": "stream",
     "text": [
      "epoch 339, loss: 0.31413, acc: 0.90449, val_loss: 0.59510, val_accuracy: 0.77036\n"
     ]
    },
    {
     "name": "stderr",
     "output_type": "stream",
     "text": [
      "100%|████████████████████████████████████████████████████████████████████████████████████| 4/4 [00:00<00:00,  7.92it/s]\n"
     ]
    },
    {
     "name": "stdout",
     "output_type": "stream",
     "text": [
      "epoch 340, loss: 0.31483, acc: 0.90432, val_loss: 0.48180, val_accuracy: 0.87099\n"
     ]
    },
    {
     "name": "stderr",
     "output_type": "stream",
     "text": [
      "100%|████████████████████████████████████████████████████████████████████████████████████| 4/4 [00:00<00:00,  8.37it/s]\n"
     ]
    },
    {
     "name": "stdout",
     "output_type": "stream",
     "text": [
      "epoch 341, loss: 0.31538, acc: 0.90265, val_loss: 0.48723, val_accuracy: 0.87178\n"
     ]
    },
    {
     "name": "stderr",
     "output_type": "stream",
     "text": [
      "100%|████████████████████████████████████████████████████████████████████████████████████| 4/4 [00:00<00:00,  8.87it/s]\n"
     ]
    },
    {
     "name": "stdout",
     "output_type": "stream",
     "text": [
      "epoch 342, loss: 0.31180, acc: 0.90432, val_loss: 0.56498, val_accuracy: 0.82738\n"
     ]
    },
    {
     "name": "stderr",
     "output_type": "stream",
     "text": [
      "100%|████████████████████████████████████████████████████████████████████████████████████| 4/4 [00:00<00:00,  8.66it/s]\n"
     ]
    },
    {
     "name": "stdout",
     "output_type": "stream",
     "text": [
      "epoch 343, loss: 0.30917, acc: 0.90566, val_loss: 0.49016, val_accuracy: 0.87099\n"
     ]
    },
    {
     "name": "stderr",
     "output_type": "stream",
     "text": [
      "100%|████████████████████████████████████████████████████████████████████████████████████| 4/4 [00:00<00:00,  8.16it/s]\n"
     ]
    },
    {
     "name": "stdout",
     "output_type": "stream",
     "text": [
      "epoch 344, loss: 0.30831, acc: 0.90700, val_loss: 0.48577, val_accuracy: 0.87178\n"
     ]
    },
    {
     "name": "stderr",
     "output_type": "stream",
     "text": [
      "100%|████████████████████████████████████████████████████████████████████████████████████| 4/4 [00:00<00:00,  8.77it/s]\n"
     ]
    },
    {
     "name": "stdout",
     "output_type": "stream",
     "text": [
      "epoch 345, loss: 0.30924, acc: 0.90537, val_loss: 0.52817, val_accuracy: 0.87047\n"
     ]
    },
    {
     "name": "stderr",
     "output_type": "stream",
     "text": [
      "100%|████████████████████████████████████████████████████████████████████████████████████| 4/4 [00:00<00:00,  6.88it/s]\n"
     ]
    },
    {
     "name": "stdout",
     "output_type": "stream",
     "text": [
      "epoch 346, loss: 0.30395, acc: 0.90590, val_loss: 0.52333, val_accuracy: 0.87073\n"
     ]
    },
    {
     "name": "stderr",
     "output_type": "stream",
     "text": [
      "100%|████████████████████████████████████████████████████████████████████████████████████| 4/4 [00:00<00:00,  8.53it/s]\n"
     ]
    },
    {
     "name": "stdout",
     "output_type": "stream",
     "text": [
      "epoch 347, loss: 0.30507, acc: 0.90721, val_loss: 0.48956, val_accuracy: 0.87126\n"
     ]
    },
    {
     "name": "stderr",
     "output_type": "stream",
     "text": [
      "100%|████████████████████████████████████████████████████████████████████████████████████| 4/4 [00:00<00:00,  8.55it/s]\n"
     ]
    },
    {
     "name": "stdout",
     "output_type": "stream",
     "text": [
      "epoch 348, loss: 0.30973, acc: 0.90484, val_loss: 0.49327, val_accuracy: 0.87073\n"
     ]
    },
    {
     "name": "stderr",
     "output_type": "stream",
     "text": [
      "100%|████████████████████████████████████████████████████████████████████████████████████| 4/4 [00:00<00:00,  7.78it/s]\n"
     ]
    },
    {
     "name": "stdout",
     "output_type": "stream",
     "text": [
      "epoch 349, loss: 0.30852, acc: 0.90607, val_loss: 0.54927, val_accuracy: 0.82554\n"
     ]
    },
    {
     "name": "stderr",
     "output_type": "stream",
     "text": [
      "100%|████████████████████████████████████████████████████████████████████████████████████| 4/4 [00:00<00:00,  6.85it/s]\n"
     ]
    },
    {
     "name": "stdout",
     "output_type": "stream",
     "text": [
      "epoch 350, loss: 0.30795, acc: 0.90654, val_loss: 0.49360, val_accuracy: 0.87099\n"
     ]
    },
    {
     "name": "stderr",
     "output_type": "stream",
     "text": [
      "100%|████████████████████████████████████████████████████████████████████████████████████| 4/4 [00:00<00:00,  8.06it/s]\n"
     ]
    },
    {
     "name": "stdout",
     "output_type": "stream",
     "text": [
      "epoch 351, loss: 0.30571, acc: 0.90741, val_loss: 0.48326, val_accuracy: 0.87126\n"
     ]
    },
    {
     "name": "stderr",
     "output_type": "stream",
     "text": [
      "100%|████████████████████████████████████████████████████████████████████████████████████| 4/4 [00:00<00:00,  7.66it/s]\n"
     ]
    },
    {
     "name": "stdout",
     "output_type": "stream",
     "text": [
      "epoch 352, loss: 0.30702, acc: 0.90613, val_loss: 0.51888, val_accuracy: 0.87099\n"
     ]
    },
    {
     "name": "stderr",
     "output_type": "stream",
     "text": [
      "100%|████████████████████████████████████████████████████████████████████████████████████| 4/4 [00:00<00:00,  6.43it/s]\n"
     ]
    },
    {
     "name": "stdout",
     "output_type": "stream",
     "text": [
      "epoch 353, loss: 0.30318, acc: 0.90665, val_loss: 0.51564, val_accuracy: 0.87073\n"
     ]
    },
    {
     "name": "stderr",
     "output_type": "stream",
     "text": [
      "100%|████████████████████████████████████████████████████████████████████████████████████| 4/4 [00:00<00:00,  8.23it/s]\n"
     ]
    },
    {
     "name": "stdout",
     "output_type": "stream",
     "text": [
      "epoch 354, loss: 0.30072, acc: 0.90744, val_loss: 0.48990, val_accuracy: 0.87152\n"
     ]
    },
    {
     "name": "stderr",
     "output_type": "stream",
     "text": [
      "100%|████████████████████████████████████████████████████████████████████████████████████| 4/4 [00:00<00:00,  7.99it/s]\n"
     ]
    },
    {
     "name": "stdout",
     "output_type": "stream",
     "text": [
      "epoch 355, loss: 0.30016, acc: 0.90695, val_loss: 0.49567, val_accuracy: 0.87126\n"
     ]
    },
    {
     "name": "stderr",
     "output_type": "stream",
     "text": [
      "100%|████████████████████████████████████████████████████████████████████████████████████| 4/4 [00:00<00:00,  6.09it/s]\n"
     ]
    },
    {
     "name": "stdout",
     "output_type": "stream",
     "text": [
      "epoch 356, loss: 0.29843, acc: 0.90680, val_loss: 0.51859, val_accuracy: 0.87099\n"
     ]
    },
    {
     "name": "stderr",
     "output_type": "stream",
     "text": [
      "100%|████████████████████████████████████████████████████████████████████████████████████| 4/4 [00:00<00:00,  7.95it/s]\n"
     ]
    },
    {
     "name": "stdout",
     "output_type": "stream",
     "text": [
      "epoch 357, loss: 0.29808, acc: 0.90636, val_loss: 0.51309, val_accuracy: 0.87073\n"
     ]
    },
    {
     "name": "stderr",
     "output_type": "stream",
     "text": [
      "100%|████████████████████████████████████████████████████████████████████████████████████| 4/4 [00:00<00:00,  8.31it/s]\n"
     ]
    },
    {
     "name": "stdout",
     "output_type": "stream",
     "text": [
      "epoch 358, loss: 0.29691, acc: 0.90741, val_loss: 0.48723, val_accuracy: 0.87152\n"
     ]
    },
    {
     "name": "stderr",
     "output_type": "stream",
     "text": [
      "100%|████████████████████████████████████████████████████████████████████████████████████| 4/4 [00:00<00:00,  7.19it/s]\n"
     ]
    },
    {
     "name": "stdout",
     "output_type": "stream",
     "text": [
      "epoch 359, loss: 0.29985, acc: 0.90622, val_loss: 0.50128, val_accuracy: 0.87152\n"
     ]
    },
    {
     "name": "stderr",
     "output_type": "stream",
     "text": [
      "100%|████████████████████████████████████████████████████████████████████████████████████| 4/4 [00:00<00:00,  8.21it/s]\n"
     ]
    },
    {
     "name": "stdout",
     "output_type": "stream",
     "text": [
      "epoch 360, loss: 0.29841, acc: 0.90654, val_loss: 0.52384, val_accuracy: 0.87047\n"
     ]
    },
    {
     "name": "stderr",
     "output_type": "stream",
     "text": [
      "100%|████████████████████████████████████████████████████████████████████████████████████| 4/4 [00:00<00:00,  8.30it/s]\n"
     ]
    },
    {
     "name": "stdout",
     "output_type": "stream",
     "text": [
      "epoch 361, loss: 0.29705, acc: 0.90657, val_loss: 0.51814, val_accuracy: 0.87073\n"
     ]
    },
    {
     "name": "stderr",
     "output_type": "stream",
     "text": [
      "100%|████████████████████████████████████████████████████████████████████████████████████| 4/4 [00:00<00:00,  8.55it/s]\n"
     ]
    },
    {
     "name": "stdout",
     "output_type": "stream",
     "text": [
      "epoch 362, loss: 0.29657, acc: 0.90765, val_loss: 0.48524, val_accuracy: 0.87178\n"
     ]
    },
    {
     "name": "stderr",
     "output_type": "stream",
     "text": [
      "100%|████████████████████████████████████████████████████████████████████████████████████| 4/4 [00:00<00:00,  6.19it/s]\n"
     ]
    },
    {
     "name": "stdout",
     "output_type": "stream",
     "text": [
      "epoch 363, loss: 0.30019, acc: 0.90639, val_loss: 0.50116, val_accuracy: 0.87152\n"
     ]
    },
    {
     "name": "stderr",
     "output_type": "stream",
     "text": [
      "100%|████████████████████████████████████████████████████████████████████████████████████| 4/4 [00:00<00:00,  7.97it/s]\n"
     ]
    },
    {
     "name": "stdout",
     "output_type": "stream",
     "text": [
      "epoch 364, loss: 0.29850, acc: 0.90642, val_loss: 0.52284, val_accuracy: 0.87047\n"
     ]
    },
    {
     "name": "stderr",
     "output_type": "stream",
     "text": [
      "100%|████████████████████████████████████████████████████████████████████████████████████| 4/4 [00:00<00:00,  8.14it/s]\n"
     ]
    },
    {
     "name": "stdout",
     "output_type": "stream",
     "text": [
      "epoch 365, loss: 0.29703, acc: 0.90712, val_loss: 0.53107, val_accuracy: 0.87073\n"
     ]
    },
    {
     "name": "stderr",
     "output_type": "stream",
     "text": [
      "100%|████████████████████████████████████████████████████████████████████████████████████| 4/4 [00:00<00:00,  6.41it/s]\n"
     ]
    },
    {
     "name": "stdout",
     "output_type": "stream",
     "text": [
      "epoch 366, loss: 0.29648, acc: 0.90808, val_loss: 0.48512, val_accuracy: 0.87178\n"
     ]
    },
    {
     "name": "stderr",
     "output_type": "stream",
     "text": [
      "100%|████████████████████████████████████████████████████████████████████████████████████| 4/4 [00:00<00:00,  8.43it/s]\n"
     ]
    },
    {
     "name": "stdout",
     "output_type": "stream",
     "text": [
      "epoch 367, loss: 0.30094, acc: 0.90665, val_loss: 0.49856, val_accuracy: 0.87152\n"
     ]
    },
    {
     "name": "stderr",
     "output_type": "stream",
     "text": [
      "100%|████████████████████████████████████████████████████████████████████████████████████| 4/4 [00:00<00:00,  7.42it/s]\n"
     ]
    },
    {
     "name": "stdout",
     "output_type": "stream",
     "text": [
      "epoch 368, loss: 0.29962, acc: 0.90645, val_loss: 0.52555, val_accuracy: 0.87047\n"
     ]
    },
    {
     "name": "stderr",
     "output_type": "stream",
     "text": [
      "100%|████████████████████████████████████████████████████████████████████████████████████| 4/4 [00:00<00:00,  7.22it/s]\n"
     ]
    },
    {
     "name": "stdout",
     "output_type": "stream",
     "text": [
      "epoch 369, loss: 0.29811, acc: 0.90721, val_loss: 0.55100, val_accuracy: 0.87152\n"
     ]
    },
    {
     "name": "stderr",
     "output_type": "stream",
     "text": [
      "100%|████████████████████████████████████████████████████████████████████████████████████| 4/4 [00:00<00:00,  8.35it/s]\n"
     ]
    },
    {
     "name": "stdout",
     "output_type": "stream",
     "text": [
      "epoch 370, loss: 0.29839, acc: 0.90771, val_loss: 0.48703, val_accuracy: 0.87152\n"
     ]
    },
    {
     "name": "stderr",
     "output_type": "stream",
     "text": [
      "100%|████████████████████████████████████████████████████████████████████████████████████| 4/4 [00:00<00:00,  8.53it/s]\n"
     ]
    },
    {
     "name": "stdout",
     "output_type": "stream",
     "text": [
      "epoch 371, loss: 0.30301, acc: 0.90569, val_loss: 0.48972, val_accuracy: 0.87152\n"
     ]
    },
    {
     "name": "stderr",
     "output_type": "stream",
     "text": [
      "100%|████████████████████████████████████████████████████████████████████████████████████| 4/4 [00:00<00:00,  7.81it/s]\n"
     ]
    },
    {
     "name": "stdout",
     "output_type": "stream",
     "text": [
      "epoch 372, loss: 0.30224, acc: 0.90633, val_loss: 0.52831, val_accuracy: 0.87126\n"
     ]
    },
    {
     "name": "stderr",
     "output_type": "stream",
     "text": [
      "100%|████████████████████████████████████████████████████████████████████████████████████| 4/4 [00:00<00:00,  8.13it/s]\n"
     ]
    },
    {
     "name": "stdout",
     "output_type": "stream",
     "text": [
      "epoch 373, loss: 0.30184, acc: 0.90706, val_loss: 0.56359, val_accuracy: 0.81503\n"
     ]
    },
    {
     "name": "stderr",
     "output_type": "stream",
     "text": [
      "100%|████████████████████████████████████████████████████████████████████████████████████| 4/4 [00:00<00:00,  6.35it/s]\n"
     ]
    },
    {
     "name": "stdout",
     "output_type": "stream",
     "text": [
      "epoch 374, loss: 0.30303, acc: 0.90636, val_loss: 0.49267, val_accuracy: 0.87178\n"
     ]
    },
    {
     "name": "stderr",
     "output_type": "stream",
     "text": [
      "100%|████████████████████████████████████████████████████████████████████████████████████| 4/4 [00:00<00:00,  7.97it/s]\n"
     ]
    },
    {
     "name": "stdout",
     "output_type": "stream",
     "text": [
      "epoch 375, loss: 0.30742, acc: 0.90321, val_loss: 0.48682, val_accuracy: 0.87152\n"
     ]
    },
    {
     "name": "stderr",
     "output_type": "stream",
     "text": [
      "100%|████████████████████████████████████████████████████████████████████████████████████| 4/4 [00:00<00:00,  8.64it/s]\n"
     ]
    },
    {
     "name": "stdout",
     "output_type": "stream",
     "text": [
      "epoch 376, loss: 0.30277, acc: 0.90587, val_loss: 0.55789, val_accuracy: 0.82738\n"
     ]
    },
    {
     "name": "stderr",
     "output_type": "stream",
     "text": [
      "100%|████████████████████████████████████████████████████████████████████████████████████| 4/4 [00:00<00:00,  7.86it/s]\n"
     ]
    },
    {
     "name": "stdout",
     "output_type": "stream",
     "text": [
      "epoch 377, loss: 0.30339, acc: 0.90642, val_loss: 0.52352, val_accuracy: 0.85864\n"
     ]
    },
    {
     "name": "stderr",
     "output_type": "stream",
     "text": [
      "100%|████████████████████████████████████████████████████████████████████████████████████| 4/4 [00:00<00:00,  7.27it/s]\n"
     ]
    },
    {
     "name": "stdout",
     "output_type": "stream",
     "text": [
      "epoch 378, loss: 0.30174, acc: 0.90633, val_loss: 0.50346, val_accuracy: 0.87152\n"
     ]
    },
    {
     "name": "stderr",
     "output_type": "stream",
     "text": [
      "100%|████████████████████████████████████████████████████████████████████████████████████| 4/4 [00:00<00:00,  8.14it/s]\n"
     ]
    },
    {
     "name": "stdout",
     "output_type": "stream",
     "text": [
      "epoch 379, loss: 0.30702, acc: 0.90426, val_loss: 0.49245, val_accuracy: 0.87152\n"
     ]
    },
    {
     "name": "stderr",
     "output_type": "stream",
     "text": [
      "100%|████████████████████████████████████████████████████████████████████████████████████| 4/4 [00:00<00:00,  7.84it/s]\n"
     ]
    },
    {
     "name": "stdout",
     "output_type": "stream",
     "text": [
      "epoch 380, loss: 0.30028, acc: 0.90654, val_loss: 0.59505, val_accuracy: 0.78245\n"
     ]
    },
    {
     "name": "stderr",
     "output_type": "stream",
     "text": [
      "100%|████████████████████████████████████████████████████████████████████████████████████| 4/4 [00:00<00:00,  6.51it/s]\n"
     ]
    },
    {
     "name": "stdout",
     "output_type": "stream",
     "text": [
      "epoch 381, loss: 0.30226, acc: 0.90651, val_loss: 0.49266, val_accuracy: 0.87099\n"
     ]
    },
    {
     "name": "stderr",
     "output_type": "stream",
     "text": [
      "100%|████████████████████████████████████████████████████████████████████████████████████| 4/4 [00:00<00:00,  7.75it/s]\n"
     ]
    },
    {
     "name": "stdout",
     "output_type": "stream",
     "text": [
      "epoch 382, loss: 0.30020, acc: 0.90645, val_loss: 0.49950, val_accuracy: 0.87152\n"
     ]
    },
    {
     "name": "stderr",
     "output_type": "stream",
     "text": [
      "100%|████████████████████████████████████████████████████████████████████████████████████| 4/4 [00:00<00:00,  7.91it/s]\n"
     ]
    },
    {
     "name": "stdout",
     "output_type": "stream",
     "text": [
      "epoch 383, loss: 0.30241, acc: 0.90651, val_loss: 0.51945, val_accuracy: 0.87126\n"
     ]
    },
    {
     "name": "stderr",
     "output_type": "stream",
     "text": [
      "100%|████████████████████████████████████████████████████████████████████████████████████| 4/4 [00:00<00:00,  6.59it/s]\n"
     ]
    },
    {
     "name": "stdout",
     "output_type": "stream",
     "text": [
      "epoch 384, loss: 0.29673, acc: 0.90703, val_loss: 0.56809, val_accuracy: 0.78245\n"
     ]
    },
    {
     "name": "stderr",
     "output_type": "stream",
     "text": [
      "100%|████████████████████████████████████████████████████████████████████████████████████| 4/4 [00:00<00:00,  7.83it/s]\n"
     ]
    },
    {
     "name": "stdout",
     "output_type": "stream",
     "text": [
      "epoch 385, loss: 0.29756, acc: 0.90759, val_loss: 0.49248, val_accuracy: 0.87152\n"
     ]
    },
    {
     "name": "stderr",
     "output_type": "stream",
     "text": [
      "100%|████████████████████████████████████████████████████████████████████████████████████| 4/4 [00:00<00:00,  8.25it/s]\n"
     ]
    },
    {
     "name": "stdout",
     "output_type": "stream",
     "text": [
      "epoch 386, loss: 0.29749, acc: 0.90779, val_loss: 0.49986, val_accuracy: 0.87152\n"
     ]
    },
    {
     "name": "stderr",
     "output_type": "stream",
     "text": [
      "100%|████████████████████████████████████████████████████████████████████████████████████| 4/4 [00:00<00:00,  8.64it/s]\n"
     ]
    },
    {
     "name": "stdout",
     "output_type": "stream",
     "text": [
      "epoch 387, loss: 0.29603, acc: 0.90744, val_loss: 0.52923, val_accuracy: 0.87099\n"
     ]
    },
    {
     "name": "stderr",
     "output_type": "stream",
     "text": [
      "100%|████████████████████████████████████████████████████████████████████████████████████| 4/4 [00:00<00:00,  6.95it/s]\n"
     ]
    },
    {
     "name": "stdout",
     "output_type": "stream",
     "text": [
      "epoch 388, loss: 0.29366, acc: 0.90776, val_loss: 0.53567, val_accuracy: 0.87073\n"
     ]
    },
    {
     "name": "stderr",
     "output_type": "stream",
     "text": [
      "100%|████████████████████████████████████████████████████████████████████████████████████| 4/4 [00:00<00:00,  8.71it/s]\n"
     ]
    },
    {
     "name": "stdout",
     "output_type": "stream",
     "text": [
      "epoch 389, loss: 0.29276, acc: 0.90841, val_loss: 0.50106, val_accuracy: 0.87152\n"
     ]
    },
    {
     "name": "stderr",
     "output_type": "stream",
     "text": [
      "100%|████████████████████████████████████████████████████████████████████████████████████| 4/4 [00:00<00:00,  8.95it/s]\n"
     ]
    },
    {
     "name": "stdout",
     "output_type": "stream",
     "text": [
      "epoch 390, loss: 0.29457, acc: 0.90814, val_loss: 0.50651, val_accuracy: 0.87152\n"
     ]
    },
    {
     "name": "stderr",
     "output_type": "stream",
     "text": [
      "100%|████████████████████████████████████████████████████████████████████████████████████| 4/4 [00:00<00:00,  6.96it/s]\n"
     ]
    },
    {
     "name": "stdout",
     "output_type": "stream",
     "text": [
      "epoch 391, loss: 0.29394, acc: 0.90782, val_loss: 0.54008, val_accuracy: 0.87020\n"
     ]
    },
    {
     "name": "stderr",
     "output_type": "stream",
     "text": [
      "100%|████████████████████████████████████████████████████████████████████████████████████| 4/4 [00:00<00:00,  8.62it/s]\n"
     ]
    },
    {
     "name": "stdout",
     "output_type": "stream",
     "text": [
      "epoch 392, loss: 0.29311, acc: 0.90803, val_loss: 0.53282, val_accuracy: 0.87020\n"
     ]
    },
    {
     "name": "stderr",
     "output_type": "stream",
     "text": [
      "100%|████████████████████████████████████████████████████████████████████████████████████| 4/4 [00:00<00:00,  8.60it/s]\n"
     ]
    },
    {
     "name": "stdout",
     "output_type": "stream",
     "text": [
      "epoch 393, loss: 0.29187, acc: 0.90841, val_loss: 0.50175, val_accuracy: 0.87152\n"
     ]
    },
    {
     "name": "stderr",
     "output_type": "stream",
     "text": [
      "100%|████████████████████████████████████████████████████████████████████████████████████| 4/4 [00:00<00:00,  6.33it/s]\n"
     ]
    },
    {
     "name": "stdout",
     "output_type": "stream",
     "text": [
      "epoch 394, loss: 0.29501, acc: 0.90800, val_loss: 0.50531, val_accuracy: 0.87152\n"
     ]
    },
    {
     "name": "stderr",
     "output_type": "stream",
     "text": [
      "100%|████████████████████████████████████████████████████████████████████████████████████| 4/4 [00:00<00:00,  8.55it/s]\n"
     ]
    },
    {
     "name": "stdout",
     "output_type": "stream",
     "text": [
      "epoch 395, loss: 0.29456, acc: 0.90771, val_loss: 0.54636, val_accuracy: 0.87020\n"
     ]
    },
    {
     "name": "stderr",
     "output_type": "stream",
     "text": [
      "100%|████████████████████████████████████████████████████████████████████████████████████| 4/4 [00:00<00:00,  8.18it/s]\n"
     ]
    },
    {
     "name": "stdout",
     "output_type": "stream",
     "text": [
      "epoch 396, loss: 0.29377, acc: 0.90782, val_loss: 0.53779, val_accuracy: 0.87020\n"
     ]
    },
    {
     "name": "stderr",
     "output_type": "stream",
     "text": [
      "100%|████████████████████████████████████████████████████████████████████████████████████| 4/4 [00:00<00:00,  8.93it/s]\n"
     ]
    },
    {
     "name": "stdout",
     "output_type": "stream",
     "text": [
      "epoch 397, loss: 0.29303, acc: 0.90788, val_loss: 0.49944, val_accuracy: 0.87152\n"
     ]
    },
    {
     "name": "stderr",
     "output_type": "stream",
     "text": [
      "100%|████████████████████████████████████████████████████████████████████████████████████| 4/4 [00:00<00:00,  8.53it/s]\n"
     ]
    },
    {
     "name": "stdout",
     "output_type": "stream",
     "text": [
      "epoch 398, loss: 0.29781, acc: 0.90665, val_loss: 0.50042, val_accuracy: 0.87152\n"
     ]
    },
    {
     "name": "stderr",
     "output_type": "stream",
     "text": [
      "100%|████████████████████████████████████████████████████████████████████████████████████| 4/4 [00:00<00:00,  8.49it/s]\n"
     ]
    },
    {
     "name": "stdout",
     "output_type": "stream",
     "text": [
      "epoch 399, loss: 0.29674, acc: 0.90692, val_loss: 0.55625, val_accuracy: 0.82580\n"
     ]
    },
    {
     "name": "stderr",
     "output_type": "stream",
     "text": [
      "100%|████████████████████████████████████████████████████████████████████████████████████| 4/4 [00:00<00:00,  8.66it/s]\n"
     ]
    },
    {
     "name": "stdout",
     "output_type": "stream",
     "text": [
      "epoch 400, loss: 0.29739, acc: 0.90683, val_loss: 0.54574, val_accuracy: 0.85864\n"
     ]
    },
    {
     "name": "stderr",
     "output_type": "stream",
     "text": [
      "100%|████████████████████████████████████████████████████████████████████████████████████| 4/4 [00:00<00:00,  8.81it/s]\n"
     ]
    },
    {
     "name": "stdout",
     "output_type": "stream",
     "text": [
      "epoch 401, loss: 0.29676, acc: 0.90733, val_loss: 0.50201, val_accuracy: 0.87204\n"
     ]
    },
    {
     "name": "stderr",
     "output_type": "stream",
     "text": [
      "100%|████████████████████████████████████████████████████████████████████████████████████| 4/4 [00:00<00:00,  6.87it/s]\n"
     ]
    },
    {
     "name": "stdout",
     "output_type": "stream",
     "text": [
      "epoch 402, loss: 0.30371, acc: 0.90525, val_loss: 0.50382, val_accuracy: 0.87152\n"
     ]
    },
    {
     "name": "stderr",
     "output_type": "stream",
     "text": [
      "100%|████████████████████████████████████████████████████████████████████████████████████| 4/4 [00:00<00:00,  8.38it/s]\n"
     ]
    },
    {
     "name": "stdout",
     "output_type": "stream",
     "text": [
      "epoch 403, loss: 0.29789, acc: 0.90680, val_loss: 0.57646, val_accuracy: 0.82606\n"
     ]
    },
    {
     "name": "stderr",
     "output_type": "stream",
     "text": [
      "100%|████████████████████████████████████████████████████████████████████████████████████| 4/4 [00:00<00:00,  8.44it/s]\n"
     ]
    },
    {
     "name": "stdout",
     "output_type": "stream",
     "text": [
      "epoch 404, loss: 0.29859, acc: 0.90683, val_loss: 0.53054, val_accuracy: 0.87047\n"
     ]
    },
    {
     "name": "stderr",
     "output_type": "stream",
     "text": [
      "100%|████████████████████████████████████████████████████████████████████████████████████| 4/4 [00:00<00:00,  7.90it/s]\n"
     ]
    },
    {
     "name": "stdout",
     "output_type": "stream",
     "text": [
      "epoch 405, loss: 0.29698, acc: 0.90721, val_loss: 0.50403, val_accuracy: 0.87204\n"
     ]
    },
    {
     "name": "stderr",
     "output_type": "stream",
     "text": [
      "100%|████████████████████████████████████████████████████████████████████████████████████| 4/4 [00:00<00:00,  7.69it/s]\n"
     ]
    },
    {
     "name": "stdout",
     "output_type": "stream",
     "text": [
      "epoch 406, loss: 0.30384, acc: 0.90549, val_loss: 0.51391, val_accuracy: 0.87126\n"
     ]
    },
    {
     "name": "stderr",
     "output_type": "stream",
     "text": [
      "100%|████████████████████████████████████████████████████████████████████████████████████| 4/4 [00:00<00:00,  7.78it/s]\n"
     ]
    },
    {
     "name": "stdout",
     "output_type": "stream",
     "text": [
      "epoch 407, loss: 0.29552, acc: 0.90695, val_loss: 0.58477, val_accuracy: 0.78297\n"
     ]
    },
    {
     "name": "stderr",
     "output_type": "stream",
     "text": [
      "100%|████████████████████████████████████████████████████████████████████████████████████| 4/4 [00:00<00:00,  7.89it/s]\n"
     ]
    },
    {
     "name": "stdout",
     "output_type": "stream",
     "text": [
      "epoch 408, loss: 0.29590, acc: 0.90689, val_loss: 0.51177, val_accuracy: 0.87073\n"
     ]
    },
    {
     "name": "stderr",
     "output_type": "stream",
     "text": [
      "100%|████████████████████████████████████████████████████████████████████████████████████| 4/4 [00:00<00:00,  6.25it/s]\n"
     ]
    },
    {
     "name": "stdout",
     "output_type": "stream",
     "text": [
      "epoch 409, loss: 0.29458, acc: 0.90762, val_loss: 0.50611, val_accuracy: 0.87152\n"
     ]
    },
    {
     "name": "stderr",
     "output_type": "stream",
     "text": [
      "100%|████████████████████████████████████████████████████████████████████████████████████| 4/4 [00:00<00:00,  8.52it/s]\n"
     ]
    },
    {
     "name": "stdout",
     "output_type": "stream",
     "text": [
      "epoch 410, loss: 0.29758, acc: 0.90677, val_loss: 0.52957, val_accuracy: 0.87099\n"
     ]
    },
    {
     "name": "stderr",
     "output_type": "stream",
     "text": [
      "100%|████████████████████████████████████████████████████████████████████████████████████| 4/4 [00:00<00:00,  7.17it/s]\n"
     ]
    },
    {
     "name": "stdout",
     "output_type": "stream",
     "text": [
      "epoch 411, loss: 0.29382, acc: 0.90753, val_loss: 0.57991, val_accuracy: 0.77036\n"
     ]
    },
    {
     "name": "stderr",
     "output_type": "stream",
     "text": [
      "100%|████████████████████████████████████████████████████████████████████████████████████| 4/4 [00:00<00:00,  6.63it/s]\n"
     ]
    },
    {
     "name": "stdout",
     "output_type": "stream",
     "text": [
      "epoch 412, loss: 0.29394, acc: 0.90642, val_loss: 0.50653, val_accuracy: 0.87152\n"
     ]
    },
    {
     "name": "stderr",
     "output_type": "stream",
     "text": [
      "100%|████████████████████████████████████████████████████████████████████████████████████| 4/4 [00:00<00:00,  8.95it/s]\n"
     ]
    },
    {
     "name": "stdout",
     "output_type": "stream",
     "text": [
      "epoch 413, loss: 0.29532, acc: 0.90750, val_loss: 0.51377, val_accuracy: 0.87126\n"
     ]
    },
    {
     "name": "stderr",
     "output_type": "stream",
     "text": [
      "100%|████████████████████████████████████████████████████████████████████████████████████| 4/4 [00:00<00:00,  8.76it/s]\n"
     ]
    },
    {
     "name": "stdout",
     "output_type": "stream",
     "text": [
      "epoch 414, loss: 0.29284, acc: 0.90806, val_loss: 0.54022, val_accuracy: 0.87073\n"
     ]
    },
    {
     "name": "stderr",
     "output_type": "stream",
     "text": [
      "100%|████████████████████████████████████████████████████████████████████████████████████| 4/4 [00:00<00:00,  8.73it/s]\n"
     ]
    },
    {
     "name": "stdout",
     "output_type": "stream",
     "text": [
      "epoch 415, loss: 0.29068, acc: 0.90823, val_loss: 0.55443, val_accuracy: 0.85996\n"
     ]
    },
    {
     "name": "stderr",
     "output_type": "stream",
     "text": [
      "100%|████████████████████████████████████████████████████████████████████████████████████| 4/4 [00:00<00:00,  8.64it/s]\n"
     ]
    },
    {
     "name": "stdout",
     "output_type": "stream",
     "text": [
      "epoch 416, loss: 0.28971, acc: 0.90887, val_loss: 0.51079, val_accuracy: 0.87152\n"
     ]
    },
    {
     "name": "stderr",
     "output_type": "stream",
     "text": [
      "100%|████████████████████████████████████████████████████████████████████████████████████| 4/4 [00:00<00:00,  7.89it/s]\n"
     ]
    },
    {
     "name": "stdout",
     "output_type": "stream",
     "text": [
      "epoch 417, loss: 0.29206, acc: 0.90829, val_loss: 0.51192, val_accuracy: 0.87152\n"
     ]
    },
    {
     "name": "stderr",
     "output_type": "stream",
     "text": [
      "100%|████████████████████████████████████████████████████████████████████████████████████| 4/4 [00:00<00:00,  7.87it/s]\n"
     ]
    },
    {
     "name": "stdout",
     "output_type": "stream",
     "text": [
      "epoch 418, loss: 0.29113, acc: 0.90829, val_loss: 0.54889, val_accuracy: 0.87047\n"
     ]
    },
    {
     "name": "stderr",
     "output_type": "stream",
     "text": [
      "100%|████████████████████████████████████████████████████████████████████████████████████| 4/4 [00:00<00:00,  6.65it/s]\n"
     ]
    },
    {
     "name": "stdout",
     "output_type": "stream",
     "text": [
      "epoch 419, loss: 0.29063, acc: 0.90806, val_loss: 0.55156, val_accuracy: 0.86994\n"
     ]
    },
    {
     "name": "stderr",
     "output_type": "stream",
     "text": [
      "100%|████████████████████████████████████████████████████████████████████████████████████| 4/4 [00:00<00:00,  9.09it/s]\n"
     ]
    },
    {
     "name": "stdout",
     "output_type": "stream",
     "text": [
      "epoch 420, loss: 0.28955, acc: 0.90852, val_loss: 0.51159, val_accuracy: 0.87152\n"
     ]
    },
    {
     "name": "stderr",
     "output_type": "stream",
     "text": [
      "100%|████████████████████████████████████████████████████████████████████████████████████| 4/4 [00:00<00:00,  8.35it/s]\n"
     ]
    },
    {
     "name": "stdout",
     "output_type": "stream",
     "text": [
      "epoch 421, loss: 0.29369, acc: 0.90765, val_loss: 0.51044, val_accuracy: 0.87152\n"
     ]
    },
    {
     "name": "stderr",
     "output_type": "stream",
     "text": [
      "100%|████████████████████████████████████████████████████████████████████████████████████| 4/4 [00:00<00:00,  6.89it/s]\n"
     ]
    },
    {
     "name": "stdout",
     "output_type": "stream",
     "text": [
      "epoch 422, loss: 0.29246, acc: 0.90773, val_loss: 0.56625, val_accuracy: 0.82606\n"
     ]
    },
    {
     "name": "stderr",
     "output_type": "stream",
     "text": [
      "100%|████████████████████████████████████████████████████████████████████████████████████| 4/4 [00:00<00:00,  8.33it/s]\n"
     ]
    },
    {
     "name": "stdout",
     "output_type": "stream",
     "text": [
      "epoch 423, loss: 0.29304, acc: 0.90768, val_loss: 0.54745, val_accuracy: 0.85838\n"
     ]
    },
    {
     "name": "stderr",
     "output_type": "stream",
     "text": [
      "100%|████████████████████████████████████████████████████████████████████████████████████| 4/4 [00:00<00:00,  8.62it/s]\n"
     ]
    },
    {
     "name": "stdout",
     "output_type": "stream",
     "text": [
      "epoch 424, loss: 0.29201, acc: 0.90756, val_loss: 0.51027, val_accuracy: 0.87152\n"
     ]
    },
    {
     "name": "stderr",
     "output_type": "stream",
     "text": [
      "100%|████████████████████████████████████████████████████████████████████████████████████| 4/4 [00:00<00:00,  8.56it/s]\n"
     ]
    },
    {
     "name": "stdout",
     "output_type": "stream",
     "text": [
      "epoch 425, loss: 0.29802, acc: 0.90627, val_loss: 0.51281, val_accuracy: 0.87126\n"
     ]
    },
    {
     "name": "stderr",
     "output_type": "stream",
     "text": [
      "100%|████████████████████████████████████████████████████████████████████████████████████| 4/4 [00:00<00:00,  8.35it/s]\n"
     ]
    },
    {
     "name": "stdout",
     "output_type": "stream",
     "text": [
      "epoch 426, loss: 0.29344, acc: 0.90738, val_loss: 0.58238, val_accuracy: 0.78271\n"
     ]
    },
    {
     "name": "stderr",
     "output_type": "stream",
     "text": [
      "100%|████████████████████████████████████████████████████████████████████████████████████| 4/4 [00:00<00:00,  8.51it/s]\n"
     ]
    },
    {
     "name": "stdout",
     "output_type": "stream",
     "text": [
      "epoch 427, loss: 0.29467, acc: 0.90782, val_loss: 0.53727, val_accuracy: 0.87020\n"
     ]
    },
    {
     "name": "stderr",
     "output_type": "stream",
     "text": [
      "100%|████████████████████████████████████████████████████████████████████████████████████| 4/4 [00:00<00:00,  8.60it/s]\n"
     ]
    },
    {
     "name": "stdout",
     "output_type": "stream",
     "text": [
      "epoch 428, loss: 0.29308, acc: 0.90803, val_loss: 0.51242, val_accuracy: 0.87178\n"
     ]
    },
    {
     "name": "stderr",
     "output_type": "stream",
     "text": [
      "100%|████████████████████████████████████████████████████████████████████████████████████| 4/4 [00:00<00:00,  8.35it/s]\n"
     ]
    },
    {
     "name": "stdout",
     "output_type": "stream",
     "text": [
      "epoch 429, loss: 0.30051, acc: 0.90616, val_loss: 0.52386, val_accuracy: 0.87099\n"
     ]
    },
    {
     "name": "stderr",
     "output_type": "stream",
     "text": [
      "100%|████████████████████████████████████████████████████████████████████████████████████| 4/4 [00:00<00:00,  5.50it/s]\n"
     ]
    },
    {
     "name": "stdout",
     "output_type": "stream",
     "text": [
      "epoch 430, loss: 0.29353, acc: 0.90712, val_loss: 0.60191, val_accuracy: 0.77036\n"
     ]
    },
    {
     "name": "stderr",
     "output_type": "stream",
     "text": [
      "100%|████████████████████████████████████████████████████████████████████████████████████| 4/4 [00:00<00:00,  7.49it/s]\n"
     ]
    },
    {
     "name": "stdout",
     "output_type": "stream",
     "text": [
      "epoch 431, loss: 0.29381, acc: 0.90715, val_loss: 0.51828, val_accuracy: 0.87047\n"
     ]
    },
    {
     "name": "stderr",
     "output_type": "stream",
     "text": [
      "100%|████████████████████████████████████████████████████████████████████████████████████| 4/4 [00:00<00:00,  7.95it/s]\n"
     ]
    },
    {
     "name": "stdout",
     "output_type": "stream",
     "text": [
      "epoch 432, loss: 0.29313, acc: 0.90753, val_loss: 0.51270, val_accuracy: 0.87152\n"
     ]
    },
    {
     "name": "stderr",
     "output_type": "stream",
     "text": [
      "100%|████████████████████████████████████████████████████████████████████████████████████| 4/4 [00:00<00:00,  8.08it/s]\n"
     ]
    },
    {
     "name": "stdout",
     "output_type": "stream",
     "text": [
      "epoch 433, loss: 0.29520, acc: 0.90692, val_loss: 0.54331, val_accuracy: 0.87126\n"
     ]
    },
    {
     "name": "stderr",
     "output_type": "stream",
     "text": [
      "100%|████████████████████████████████████████████████████████████████████████████████████| 4/4 [00:00<00:00,  8.40it/s]\n"
     ]
    },
    {
     "name": "stdout",
     "output_type": "stream",
     "text": [
      "epoch 434, loss: 0.29162, acc: 0.90747, val_loss: 0.59016, val_accuracy: 0.77063\n"
     ]
    },
    {
     "name": "stderr",
     "output_type": "stream",
     "text": [
      "100%|████████████████████████████████████████████████████████████████████████████████████| 4/4 [00:00<00:00,  8.51it/s]\n"
     ]
    },
    {
     "name": "stdout",
     "output_type": "stream",
     "text": [
      "epoch 435, loss: 0.29156, acc: 0.90671, val_loss: 0.51565, val_accuracy: 0.87152\n"
     ]
    },
    {
     "name": "stderr",
     "output_type": "stream",
     "text": [
      "100%|████████████████████████████████████████████████████████████████████████████████████| 4/4 [00:00<00:00,  8.31it/s]\n"
     ]
    },
    {
     "name": "stdout",
     "output_type": "stream",
     "text": [
      "epoch 436, loss: 0.29325, acc: 0.90811, val_loss: 0.52106, val_accuracy: 0.87126\n"
     ]
    },
    {
     "name": "stderr",
     "output_type": "stream",
     "text": [
      "100%|████████████████████████████████████████████████████████████████████████████████████| 4/4 [00:00<00:00,  6.33it/s]\n"
     ]
    },
    {
     "name": "stdout",
     "output_type": "stream",
     "text": [
      "epoch 437, loss: 0.28954, acc: 0.90808, val_loss: 0.55400, val_accuracy: 0.87073\n"
     ]
    },
    {
     "name": "stderr",
     "output_type": "stream",
     "text": [
      "100%|████████████████████████████████████████████████████████████████████████████████████| 4/4 [00:00<00:00,  8.60it/s]\n"
     ]
    },
    {
     "name": "stdout",
     "output_type": "stream",
     "text": [
      "epoch 438, loss: 0.28788, acc: 0.90867, val_loss: 0.55765, val_accuracy: 0.85812\n"
     ]
    },
    {
     "name": "stderr",
     "output_type": "stream",
     "text": [
      "100%|████████████████████████████████████████████████████████████████████████████████████| 4/4 [00:00<00:00,  7.95it/s]\n"
     ]
    },
    {
     "name": "stdout",
     "output_type": "stream",
     "text": [
      "epoch 439, loss: 0.28645, acc: 0.90934, val_loss: 0.52096, val_accuracy: 0.87126\n"
     ]
    },
    {
     "name": "stderr",
     "output_type": "stream",
     "text": [
      "100%|████████████████████████████████████████████████████████████████████████████████████| 4/4 [00:00<00:00,  5.92it/s]\n"
     ]
    },
    {
     "name": "stdout",
     "output_type": "stream",
     "text": [
      "epoch 440, loss: 0.28907, acc: 0.90861, val_loss: 0.52013, val_accuracy: 0.87126\n"
     ]
    },
    {
     "name": "stderr",
     "output_type": "stream",
     "text": [
      "100%|████████████████████████████████████████████████████████████████████████████████████| 4/4 [00:00<00:00,  8.13it/s]\n"
     ]
    },
    {
     "name": "stdout",
     "output_type": "stream",
     "text": [
      "epoch 441, loss: 0.28798, acc: 0.90835, val_loss: 0.56580, val_accuracy: 0.82580\n"
     ]
    },
    {
     "name": "stderr",
     "output_type": "stream",
     "text": [
      "100%|████████████████████████████████████████████████████████████████████████████████████| 4/4 [00:00<00:00,  8.33it/s]\n"
     ]
    },
    {
     "name": "stdout",
     "output_type": "stream",
     "text": [
      "epoch 442, loss: 0.28796, acc: 0.90873, val_loss: 0.54684, val_accuracy: 0.86994\n"
     ]
    },
    {
     "name": "stderr",
     "output_type": "stream",
     "text": [
      "100%|████████████████████████████████████████████████████████████████████████████████████| 4/4 [00:00<00:00,  7.65it/s]\n"
     ]
    },
    {
     "name": "stdout",
     "output_type": "stream",
     "text": [
      "epoch 443, loss: 0.28635, acc: 0.90914, val_loss: 0.52064, val_accuracy: 0.87152\n"
     ]
    },
    {
     "name": "stderr",
     "output_type": "stream",
     "text": [
      "100%|████████████████████████████████████████████████████████████████████████████████████| 4/4 [00:00<00:00,  8.67it/s]\n"
     ]
    },
    {
     "name": "stdout",
     "output_type": "stream",
     "text": [
      "epoch 444, loss: 0.29025, acc: 0.90829, val_loss: 0.52248, val_accuracy: 0.87099\n"
     ]
    },
    {
     "name": "stderr",
     "output_type": "stream",
     "text": [
      "100%|████████████████████████████████████████████████████████████████████████████████████| 4/4 [00:00<00:00,  8.26it/s]\n"
     ]
    },
    {
     "name": "stdout",
     "output_type": "stream",
     "text": [
      "epoch 445, loss: 0.28891, acc: 0.90811, val_loss: 0.59121, val_accuracy: 0.77036\n"
     ]
    },
    {
     "name": "stderr",
     "output_type": "stream",
     "text": [
      "100%|████████████████████████████████████████████████████████████████████████████████████| 4/4 [00:00<00:00,  6.93it/s]\n"
     ]
    },
    {
     "name": "stdout",
     "output_type": "stream",
     "text": [
      "epoch 446, loss: 0.29068, acc: 0.90835, val_loss: 0.53663, val_accuracy: 0.86994\n"
     ]
    },
    {
     "name": "stderr",
     "output_type": "stream",
     "text": [
      "100%|████████████████████████████████████████████████████████████████████████████████████| 4/4 [00:00<00:00,  6.45it/s]\n"
     ]
    },
    {
     "name": "stdout",
     "output_type": "stream",
     "text": [
      "epoch 447, loss: 0.28914, acc: 0.90925, val_loss: 0.51906, val_accuracy: 0.87152\n"
     ]
    },
    {
     "name": "stderr",
     "output_type": "stream",
     "text": [
      "100%|████████████████████████████████████████████████████████████████████████████████████| 4/4 [00:00<00:00,  9.17it/s]\n"
     ]
    },
    {
     "name": "stdout",
     "output_type": "stream",
     "text": [
      "epoch 448, loss: 0.29401, acc: 0.90715, val_loss: 0.52253, val_accuracy: 0.87099\n"
     ]
    },
    {
     "name": "stderr",
     "output_type": "stream",
     "text": [
      "100%|████████████████████████████████████████████████████████████████████████████████████| 4/4 [00:00<00:00,  8.89it/s]\n"
     ]
    },
    {
     "name": "stdout",
     "output_type": "stream",
     "text": [
      "epoch 449, loss: 0.29205, acc: 0.90747, val_loss: 0.62900, val_accuracy: 0.76852\n"
     ]
    },
    {
     "name": "stderr",
     "output_type": "stream",
     "text": [
      "100%|████████████████████████████████████████████████████████████████████████████████████| 4/4 [00:00<00:00,  6.47it/s]\n"
     ]
    },
    {
     "name": "stdout",
     "output_type": "stream",
     "text": [
      "epoch 450, loss: 0.29788, acc: 0.90645, val_loss: 0.52060, val_accuracy: 0.87047\n"
     ]
    },
    {
     "name": "stderr",
     "output_type": "stream",
     "text": [
      "100%|████████████████████████████████████████████████████████████████████████████████████| 4/4 [00:00<00:00,  8.66it/s]\n"
     ]
    },
    {
     "name": "stdout",
     "output_type": "stream",
     "text": [
      "epoch 451, loss: 0.29629, acc: 0.90633, val_loss: 0.51980, val_accuracy: 0.87126\n"
     ]
    },
    {
     "name": "stderr",
     "output_type": "stream",
     "text": [
      "100%|████████████████████████████████████████████████████████████████████████████████████| 4/4 [00:00<00:00,  8.14it/s]\n"
     ]
    },
    {
     "name": "stdout",
     "output_type": "stream",
     "text": [
      "epoch 452, loss: 0.29822, acc: 0.90680, val_loss: 0.54713, val_accuracy: 0.87073\n"
     ]
    },
    {
     "name": "stderr",
     "output_type": "stream",
     "text": [
      "100%|████████████████████████████████████████████████████████████████████████████████████| 4/4 [00:00<00:00,  7.93it/s]\n"
     ]
    },
    {
     "name": "stdout",
     "output_type": "stream",
     "text": [
      "epoch 453, loss: 0.29149, acc: 0.90733, val_loss: 0.62093, val_accuracy: 0.76957\n"
     ]
    },
    {
     "name": "stderr",
     "output_type": "stream",
     "text": [
      "100%|████████████████████████████████████████████████████████████████████████████████████| 4/4 [00:00<00:00,  8.16it/s]\n"
     ]
    },
    {
     "name": "stdout",
     "output_type": "stream",
     "text": [
      "epoch 454, loss: 0.29144, acc: 0.90765, val_loss: 0.52131, val_accuracy: 0.87126\n"
     ]
    },
    {
     "name": "stderr",
     "output_type": "stream",
     "text": [
      "100%|████████████████████████████████████████████████████████████████████████████████████| 4/4 [00:00<00:00,  8.55it/s]\n"
     ]
    },
    {
     "name": "stdout",
     "output_type": "stream",
     "text": [
      "epoch 455, loss: 0.29152, acc: 0.90808, val_loss: 0.52556, val_accuracy: 0.87099\n"
     ]
    },
    {
     "name": "stderr",
     "output_type": "stream",
     "text": [
      "100%|████████████████████████████████████████████████████████████████████████████████████| 4/4 [00:00<00:00,  8.23it/s]\n"
     ]
    },
    {
     "name": "stdout",
     "output_type": "stream",
     "text": [
      "epoch 456, loss: 0.28830, acc: 0.90803, val_loss: 0.57095, val_accuracy: 0.78140\n"
     ]
    },
    {
     "name": "stderr",
     "output_type": "stream",
     "text": [
      "100%|████████████████████████████████████████████████████████████████████████████████████| 4/4 [00:00<00:00,  7.69it/s]\n"
     ]
    },
    {
     "name": "stdout",
     "output_type": "stream",
     "text": [
      "epoch 457, loss: 0.28551, acc: 0.90911, val_loss: 0.55650, val_accuracy: 0.87047\n"
     ]
    },
    {
     "name": "stderr",
     "output_type": "stream",
     "text": [
      "100%|████████████████████████████████████████████████████████████████████████████████████| 4/4 [00:00<00:00,  6.01it/s]\n"
     ]
    },
    {
     "name": "stdout",
     "output_type": "stream",
     "text": [
      "epoch 458, loss: 0.28352, acc: 0.91025, val_loss: 0.53178, val_accuracy: 0.87099\n"
     ]
    },
    {
     "name": "stderr",
     "output_type": "stream",
     "text": [
      "100%|████████████████████████████████████████████████████████████████████████████████████| 4/4 [00:00<00:00,  8.18it/s]\n"
     ]
    },
    {
     "name": "stdout",
     "output_type": "stream",
     "text": [
      "epoch 459, loss: 0.28483, acc: 0.90919, val_loss: 0.53458, val_accuracy: 0.87073\n"
     ]
    },
    {
     "name": "stderr",
     "output_type": "stream",
     "text": [
      "100%|████████████████████████████████████████████████████████████████████████████████████| 4/4 [00:00<00:00,  8.56it/s]\n"
     ]
    },
    {
     "name": "stdout",
     "output_type": "stream",
     "text": [
      "epoch 460, loss: 0.28388, acc: 0.90861, val_loss: 0.57106, val_accuracy: 0.82659\n"
     ]
    },
    {
     "name": "stderr",
     "output_type": "stream",
     "text": [
      "100%|████████████████████████████████████████████████████████████████████████████████████| 4/4 [00:00<00:00,  8.30it/s]\n"
     ]
    },
    {
     "name": "stdout",
     "output_type": "stream",
     "text": [
      "epoch 461, loss: 0.28361, acc: 0.90969, val_loss: 0.54606, val_accuracy: 0.87047\n"
     ]
    },
    {
     "name": "stderr",
     "output_type": "stream",
     "text": [
      "100%|████████████████████████████████████████████████████████████████████████████████████| 4/4 [00:00<00:00,  7.72it/s]\n"
     ]
    },
    {
     "name": "stdout",
     "output_type": "stream",
     "text": [
      "epoch 462, loss: 0.28230, acc: 0.91016, val_loss: 0.52886, val_accuracy: 0.87099\n"
     ]
    },
    {
     "name": "stderr",
     "output_type": "stream",
     "text": [
      "100%|████████████████████████████████████████████████████████████████████████████████████| 4/4 [00:00<00:00,  7.98it/s]\n"
     ]
    },
    {
     "name": "stdout",
     "output_type": "stream",
     "text": [
      "epoch 463, loss: 0.28439, acc: 0.90943, val_loss: 0.53398, val_accuracy: 0.87073\n"
     ]
    },
    {
     "name": "stderr",
     "output_type": "stream",
     "text": [
      "100%|████████████████████████████████████████████████████████████████████████████████████| 4/4 [00:00<00:00,  8.05it/s]\n"
     ]
    },
    {
     "name": "stdout",
     "output_type": "stream",
     "text": [
      "epoch 464, loss: 0.28451, acc: 0.90817, val_loss: 0.59428, val_accuracy: 0.77063\n"
     ]
    },
    {
     "name": "stderr",
     "output_type": "stream",
     "text": [
      "100%|████████████████████████████████████████████████████████████████████████████████████| 4/4 [00:00<00:00,  6.57it/s]\n"
     ]
    },
    {
     "name": "stdout",
     "output_type": "stream",
     "text": [
      "epoch 465, loss: 0.28642, acc: 0.90911, val_loss: 0.53969, val_accuracy: 0.87047\n"
     ]
    },
    {
     "name": "stderr",
     "output_type": "stream",
     "text": [
      "100%|████████████████████████████████████████████████████████████████████████████████████| 4/4 [00:00<00:00,  8.49it/s]\n"
     ]
    },
    {
     "name": "stdout",
     "output_type": "stream",
     "text": [
      "epoch 466, loss: 0.28528, acc: 0.90981, val_loss: 0.52736, val_accuracy: 0.87126\n"
     ]
    },
    {
     "name": "stderr",
     "output_type": "stream",
     "text": [
      "100%|████████████████████████████████████████████████████████████████████████████████████| 4/4 [00:00<00:00,  7.75it/s]\n"
     ]
    },
    {
     "name": "stdout",
     "output_type": "stream",
     "text": [
      "epoch 467, loss: 0.28838, acc: 0.90858, val_loss: 0.52988, val_accuracy: 0.87073\n"
     ]
    },
    {
     "name": "stderr",
     "output_type": "stream",
     "text": [
      "100%|████████████████████████████████████████████████████████████████████████████████████| 4/4 [00:00<00:00,  5.57it/s]\n"
     ]
    },
    {
     "name": "stdout",
     "output_type": "stream",
     "text": [
      "epoch 468, loss: 0.28881, acc: 0.90794, val_loss: 0.64308, val_accuracy: 0.76852\n"
     ]
    },
    {
     "name": "stderr",
     "output_type": "stream",
     "text": [
      "100%|████████████████████████████████████████████████████████████████████████████████████| 4/4 [00:00<00:00,  8.01it/s]\n"
     ]
    },
    {
     "name": "stdout",
     "output_type": "stream",
     "text": [
      "epoch 469, loss: 0.29703, acc: 0.90689, val_loss: 0.53019, val_accuracy: 0.87047\n"
     ]
    },
    {
     "name": "stderr",
     "output_type": "stream",
     "text": [
      "100%|████████████████████████████████████████████████████████████████████████████████████| 4/4 [00:00<00:00,  8.13it/s]\n"
     ]
    },
    {
     "name": "stdout",
     "output_type": "stream",
     "text": [
      "epoch 470, loss: 0.29442, acc: 0.90771, val_loss: 0.52555, val_accuracy: 0.87152\n"
     ]
    },
    {
     "name": "stderr",
     "output_type": "stream",
     "text": [
      "100%|████████████████████████████████████████████████████████████████████████████████████| 4/4 [00:00<00:00,  8.16it/s]\n"
     ]
    },
    {
     "name": "stdout",
     "output_type": "stream",
     "text": [
      "epoch 471, loss: 0.29730, acc: 0.90657, val_loss: 0.54583, val_accuracy: 0.87073\n"
     ]
    },
    {
     "name": "stderr",
     "output_type": "stream",
     "text": [
      "100%|████████████████████████████████████████████████████████████████████████████████████| 4/4 [00:00<00:00,  8.33it/s]\n"
     ]
    },
    {
     "name": "stdout",
     "output_type": "stream",
     "text": [
      "epoch 472, loss: 0.29004, acc: 0.90735, val_loss: 0.64224, val_accuracy: 0.76905\n"
     ]
    },
    {
     "name": "stderr",
     "output_type": "stream",
     "text": [
      "100%|████████████████████████████████████████████████████████████████████████████████████| 4/4 [00:00<00:00,  7.69it/s]\n"
     ]
    },
    {
     "name": "stdout",
     "output_type": "stream",
     "text": [
      "epoch 473, loss: 0.29151, acc: 0.90750, val_loss: 0.53324, val_accuracy: 0.87126\n"
     ]
    },
    {
     "name": "stderr",
     "output_type": "stream",
     "text": [
      "100%|████████████████████████████████████████████████████████████████████████████████████| 4/4 [00:00<00:00,  7.65it/s]\n"
     ]
    },
    {
     "name": "stdout",
     "output_type": "stream",
     "text": [
      "epoch 474, loss: 0.29045, acc: 0.90823, val_loss: 0.52762, val_accuracy: 0.87099\n"
     ]
    },
    {
     "name": "stderr",
     "output_type": "stream",
     "text": [
      "100%|████████████████████████████████████████████████████████████████████████████████████| 4/4 [00:00<00:00,  6.45it/s]\n"
     ]
    },
    {
     "name": "stdout",
     "output_type": "stream",
     "text": [
      "epoch 475, loss: 0.28857, acc: 0.90817, val_loss: 0.57974, val_accuracy: 0.78192\n"
     ]
    },
    {
     "name": "stderr",
     "output_type": "stream",
     "text": [
      "100%|████████████████████████████████████████████████████████████████████████████████████| 4/4 [00:00<00:00,  8.28it/s]\n"
     ]
    },
    {
     "name": "stdout",
     "output_type": "stream",
     "text": [
      "epoch 476, loss: 0.28474, acc: 0.90899, val_loss: 0.57764, val_accuracy: 0.82712\n"
     ]
    },
    {
     "name": "stderr",
     "output_type": "stream",
     "text": [
      "100%|████████████████████████████████████████████████████████████████████████████████████| 4/4 [00:00<00:00,  8.73it/s]\n"
     ]
    },
    {
     "name": "stdout",
     "output_type": "stream",
     "text": [
      "epoch 477, loss: 0.28194, acc: 0.91036, val_loss: 0.53769, val_accuracy: 0.87047\n"
     ]
    },
    {
     "name": "stderr",
     "output_type": "stream",
     "text": [
      "100%|████████████████████████████████████████████████████████████████████████████████████| 4/4 [00:00<00:00,  6.59it/s]\n"
     ]
    },
    {
     "name": "stdout",
     "output_type": "stream",
     "text": [
      "epoch 478, loss: 0.28379, acc: 0.90922, val_loss: 0.54388, val_accuracy: 0.87047\n"
     ]
    },
    {
     "name": "stderr",
     "output_type": "stream",
     "text": [
      "100%|████████████████████████████████████████████████████████████████████████████████████| 4/4 [00:00<00:00,  7.75it/s]\n"
     ]
    },
    {
     "name": "stdout",
     "output_type": "stream",
     "text": [
      "epoch 479, loss: 0.28153, acc: 0.90896, val_loss: 0.57281, val_accuracy: 0.78166\n"
     ]
    },
    {
     "name": "stderr",
     "output_type": "stream",
     "text": [
      "100%|████████████████████████████████████████████████████████████████████████████████████| 4/4 [00:00<00:00,  9.07it/s]\n"
     ]
    },
    {
     "name": "stdout",
     "output_type": "stream",
     "text": [
      "epoch 480, loss: 0.28077, acc: 0.91004, val_loss: 0.55996, val_accuracy: 0.82738\n"
     ]
    },
    {
     "name": "stderr",
     "output_type": "stream",
     "text": [
      "100%|████████████████████████████████████████████████████████████████████████████████████| 4/4 [00:00<00:00,  9.03it/s]\n"
     ]
    },
    {
     "name": "stdout",
     "output_type": "stream",
     "text": [
      "epoch 481, loss: 0.27943, acc: 0.91013, val_loss: 0.53493, val_accuracy: 0.87073\n"
     ]
    },
    {
     "name": "stderr",
     "output_type": "stream",
     "text": [
      "100%|████████████████████████████████████████████████████████████████████████████████████| 4/4 [00:00<00:00,  8.69it/s]\n"
     ]
    },
    {
     "name": "stdout",
     "output_type": "stream",
     "text": [
      "epoch 482, loss: 0.28219, acc: 0.90972, val_loss: 0.54659, val_accuracy: 0.87073\n"
     ]
    },
    {
     "name": "stderr",
     "output_type": "stream",
     "text": [
      "100%|████████████████████████████████████████████████████████████████████████████████████| 4/4 [00:00<00:00,  8.71it/s]\n"
     ]
    },
    {
     "name": "stdout",
     "output_type": "stream",
     "text": [
      "epoch 483, loss: 0.28103, acc: 0.90887, val_loss: 0.58636, val_accuracy: 0.77115\n"
     ]
    },
    {
     "name": "stderr",
     "output_type": "stream",
     "text": [
      "100%|████████████████████████████████████████████████████████████████████████████████████| 4/4 [00:00<00:00,  8.37it/s]\n"
     ]
    },
    {
     "name": "stdout",
     "output_type": "stream",
     "text": [
      "epoch 484, loss: 0.28126, acc: 0.91027, val_loss: 0.55734, val_accuracy: 0.82712\n"
     ]
    },
    {
     "name": "stderr",
     "output_type": "stream",
     "text": [
      "100%|████████████████████████████████████████████████████████████████████████████████████| 4/4 [00:00<00:00,  8.44it/s]\n"
     ]
    },
    {
     "name": "stdout",
     "output_type": "stream",
     "text": [
      "epoch 485, loss: 0.28028, acc: 0.91045, val_loss: 0.53057, val_accuracy: 0.87073\n"
     ]
    },
    {
     "name": "stderr",
     "output_type": "stream",
     "text": [
      "100%|████████████████████████████████████████████████████████████████████████████████████| 4/4 [00:00<00:00,  6.17it/s]\n"
     ]
    },
    {
     "name": "stdout",
     "output_type": "stream",
     "text": [
      "epoch 486, loss: 0.28368, acc: 0.90954, val_loss: 0.54083, val_accuracy: 0.87073\n"
     ]
    },
    {
     "name": "stderr",
     "output_type": "stream",
     "text": [
      "100%|████████████████████████████████████████████████████████████████████████████████████| 4/4 [00:00<00:00,  8.42it/s]\n"
     ]
    },
    {
     "name": "stdout",
     "output_type": "stream",
     "text": [
      "epoch 487, loss: 0.28308, acc: 0.90858, val_loss: 0.61920, val_accuracy: 0.76931\n"
     ]
    },
    {
     "name": "stderr",
     "output_type": "stream",
     "text": [
      "100%|████████████████████████████████████████████████████████████████████████████████████| 4/4 [00:00<00:00,  8.13it/s]\n"
     ]
    },
    {
     "name": "stdout",
     "output_type": "stream",
     "text": [
      "epoch 488, loss: 0.28633, acc: 0.90908, val_loss: 0.55607, val_accuracy: 0.82633\n"
     ]
    },
    {
     "name": "stderr",
     "output_type": "stream",
     "text": [
      "100%|████████████████████████████████████████████████████████████████████████████████████| 4/4 [00:00<00:00,  7.76it/s]\n"
     ]
    },
    {
     "name": "stdout",
     "output_type": "stream",
     "text": [
      "epoch 489, loss: 0.28518, acc: 0.90908, val_loss: 0.52983, val_accuracy: 0.87152\n"
     ]
    },
    {
     "name": "stderr",
     "output_type": "stream",
     "text": [
      "100%|████████████████████████████████████████████████████████████████████████████████████| 4/4 [00:00<00:00,  8.10it/s]\n"
     ]
    },
    {
     "name": "stdout",
     "output_type": "stream",
     "text": [
      "epoch 490, loss: 0.29100, acc: 0.90817, val_loss: 0.53548, val_accuracy: 0.87073\n"
     ]
    },
    {
     "name": "stderr",
     "output_type": "stream",
     "text": [
      "100%|████████████████████████████████████████████████████████████████████████████████████| 4/4 [00:00<00:00,  7.59it/s]\n"
     ]
    },
    {
     "name": "stdout",
     "output_type": "stream",
     "text": [
      "epoch 491, loss: 0.29074, acc: 0.90756, val_loss: 0.68291, val_accuracy: 0.72832\n"
     ]
    },
    {
     "name": "stderr",
     "output_type": "stream",
     "text": [
      "100%|████████████████████████████████████████████████████████████████████████████████████| 4/4 [00:00<00:00,  8.42it/s]\n"
     ]
    },
    {
     "name": "stdout",
     "output_type": "stream",
     "text": [
      "epoch 492, loss: 0.30276, acc: 0.90566, val_loss: 0.53834, val_accuracy: 0.87073\n"
     ]
    },
    {
     "name": "stderr",
     "output_type": "stream",
     "text": [
      "100%|████████████████████████████████████████████████████████████████████████████████████| 4/4 [00:00<00:00,  6.57it/s]\n"
     ]
    },
    {
     "name": "stdout",
     "output_type": "stream",
     "text": [
      "epoch 493, loss: 0.29850, acc: 0.90549, val_loss: 0.53227, val_accuracy: 0.87126\n"
     ]
    },
    {
     "name": "stderr",
     "output_type": "stream",
     "text": [
      "100%|████████████████████████████████████████████████████████████████████████████████████| 4/4 [00:00<00:00,  8.28it/s]\n"
     ]
    },
    {
     "name": "stdout",
     "output_type": "stream",
     "text": [
      "epoch 494, loss: 0.29805, acc: 0.90654, val_loss: 0.56899, val_accuracy: 0.78192\n"
     ]
    },
    {
     "name": "stderr",
     "output_type": "stream",
     "text": [
      "100%|████████████████████████████████████████████████████████████████████████████████████| 4/4 [00:00<00:00,  7.28it/s]\n"
     ]
    },
    {
     "name": "stdout",
     "output_type": "stream",
     "text": [
      "epoch 495, loss: 0.28767, acc: 0.90858, val_loss: 0.62576, val_accuracy: 0.76984\n"
     ]
    },
    {
     "name": "stderr",
     "output_type": "stream",
     "text": [
      "100%|████████████████████████████████████████████████████████████████████████████████████| 4/4 [00:00<00:00,  6.84it/s]\n"
     ]
    },
    {
     "name": "stdout",
     "output_type": "stream",
     "text": [
      "epoch 496, loss: 0.28421, acc: 0.91027, val_loss: 0.54098, val_accuracy: 0.87126\n"
     ]
    },
    {
     "name": "stderr",
     "output_type": "stream",
     "text": [
      "100%|████████████████████████████████████████████████████████████████████████████████████| 4/4 [00:00<00:00,  8.62it/s]\n"
     ]
    },
    {
     "name": "stdout",
     "output_type": "stream",
     "text": [
      "epoch 497, loss: 0.28507, acc: 0.90937, val_loss: 0.55743, val_accuracy: 0.82738\n"
     ]
    },
    {
     "name": "stderr",
     "output_type": "stream",
     "text": [
      "100%|████████████████████████████████████████████████████████████████████████████████████| 4/4 [00:00<00:00,  8.97it/s]\n"
     ]
    },
    {
     "name": "stdout",
     "output_type": "stream",
     "text": [
      "epoch 498, loss: 0.28051, acc: 0.90952, val_loss: 0.58036, val_accuracy: 0.78324\n"
     ]
    },
    {
     "name": "stderr",
     "output_type": "stream",
     "text": [
      "100%|████████████████████████████████████████████████████████████████████████████████████| 4/4 [00:00<00:00,  8.53it/s]\n"
     ]
    },
    {
     "name": "stdout",
     "output_type": "stream",
     "text": [
      "epoch 499, loss: 0.27839, acc: 0.91033, val_loss: 0.55131, val_accuracy: 0.87073\n"
     ]
    },
    {
     "name": "stderr",
     "output_type": "stream",
     "text": [
      "100%|████████████████████████████████████████████████████████████████████████████████████| 4/4 [00:00<00:00,  8.40it/s]\n"
     ]
    },
    {
     "name": "stdout",
     "output_type": "stream",
     "text": [
      "epoch 500, loss: 0.27829, acc: 0.90978, val_loss: 0.56157, val_accuracy: 0.82764\n",
      "1번째 교차검증\n",
      "evaluation loss: 0.39523, evaluation accuracy: 0.89411\n",
      "(5, 3806)\n",
      "(3806, 5)\n",
      "Learning rate set to 0.085251\n",
      "0:\tlearn: 0.9833902\ttotal: 7.05ms\tremaining: 7.04s\n",
      "1:\tlearn: 0.8933216\ttotal: 14.5ms\tremaining: 7.23s\n",
      "2:\tlearn: 0.8204484\ttotal: 20.5ms\tremaining: 6.81s\n",
      "3:\tlearn: 0.7605243\ttotal: 29.7ms\tremaining: 7.4s\n",
      "4:\tlearn: 0.7105410\ttotal: 35.9ms\tremaining: 7.15s\n",
      "5:\tlearn: 0.6684026\ttotal: 41.6ms\tremaining: 6.89s\n",
      "6:\tlearn: 0.6325864\ttotal: 49.3ms\tremaining: 6.99s\n",
      "7:\tlearn: 0.6019493\ttotal: 55.4ms\tremaining: 6.87s\n",
      "8:\tlearn: 0.5756119\ttotal: 62.6ms\tremaining: 6.89s\n",
      "9:\tlearn: 0.5528818\ttotal: 68.7ms\tremaining: 6.8s\n",
      "10:\tlearn: 0.5332756\ttotal: 75ms\tremaining: 6.75s\n",
      "11:\tlearn: 0.5162583\ttotal: 82ms\tremaining: 6.75s\n",
      "12:\tlearn: 0.5013983\ttotal: 90ms\tremaining: 6.83s\n",
      "13:\tlearn: 0.4884606\ttotal: 96.8ms\tremaining: 6.81s\n",
      "14:\tlearn: 0.4772405\ttotal: 104ms\tremaining: 6.83s\n",
      "15:\tlearn: 0.4674530\ttotal: 112ms\tremaining: 6.89s\n",
      "16:\tlearn: 0.4589109\ttotal: 119ms\tremaining: 6.88s\n",
      "17:\tlearn: 0.4514049\ttotal: 126ms\tremaining: 6.85s\n",
      "18:\tlearn: 0.4448985\ttotal: 134ms\tremaining: 6.91s\n",
      "19:\tlearn: 0.4392179\ttotal: 141ms\tremaining: 6.91s\n",
      "20:\tlearn: 0.4342156\ttotal: 149ms\tremaining: 6.93s\n",
      "21:\tlearn: 0.4298913\ttotal: 155ms\tremaining: 6.88s\n",
      "22:\tlearn: 0.4260775\ttotal: 162ms\tremaining: 6.88s\n",
      "23:\tlearn: 0.4227891\ttotal: 168ms\tremaining: 6.84s\n",
      "24:\tlearn: 0.4198842\ttotal: 175ms\tremaining: 6.83s\n",
      "25:\tlearn: 0.4173874\ttotal: 183ms\tremaining: 6.86s\n",
      "26:\tlearn: 0.4152112\ttotal: 190ms\tremaining: 6.86s\n",
      "27:\tlearn: 0.4133147\ttotal: 198ms\tremaining: 6.87s\n",
      "28:\tlearn: 0.4116298\ttotal: 204ms\tremaining: 6.82s\n",
      "29:\tlearn: 0.4101931\ttotal: 211ms\tremaining: 6.84s\n",
      "30:\tlearn: 0.4089415\ttotal: 218ms\tremaining: 6.8s\n",
      "31:\tlearn: 0.4078512\ttotal: 225ms\tremaining: 6.81s\n",
      "32:\tlearn: 0.4069010\ttotal: 231ms\tremaining: 6.78s\n",
      "33:\tlearn: 0.4060729\ttotal: 239ms\tremaining: 6.79s\n",
      "34:\tlearn: 0.4053507\ttotal: 247ms\tremaining: 6.81s\n",
      "35:\tlearn: 0.4047208\ttotal: 253ms\tremaining: 6.78s\n",
      "36:\tlearn: 0.4041710\ttotal: 260ms\tremaining: 6.77s\n",
      "37:\tlearn: 0.4036670\ttotal: 266ms\tremaining: 6.75s\n",
      "38:\tlearn: 0.4032489\ttotal: 273ms\tremaining: 6.71s\n",
      "39:\tlearn: 0.4028831\ttotal: 279ms\tremaining: 6.7s\n",
      "40:\tlearn: 0.4025625\ttotal: 287ms\tremaining: 6.71s\n",
      "41:\tlearn: 0.4022815\ttotal: 295ms\tremaining: 6.74s\n",
      "42:\tlearn: 0.4020346\ttotal: 302ms\tremaining: 6.71s\n",
      "43:\tlearn: 0.4018174\ttotal: 309ms\tremaining: 6.71s\n",
      "44:\tlearn: 0.4016261\ttotal: 312ms\tremaining: 6.63s\n",
      "45:\tlearn: 0.4015158\ttotal: 314ms\tremaining: 6.51s\n",
      "46:\tlearn: 0.4013627\ttotal: 320ms\tremaining: 6.48s\n",
      "47:\tlearn: 0.4012268\ttotal: 326ms\tremaining: 6.46s\n",
      "48:\tlearn: 0.4011059\ttotal: 331ms\tremaining: 6.43s\n",
      "49:\tlearn: 0.4009984\ttotal: 340ms\tremaining: 6.46s\n",
      "50:\tlearn: 0.4009488\ttotal: 342ms\tremaining: 6.37s\n",
      "51:\tlearn: 0.4009071\ttotal: 345ms\tremaining: 6.28s\n",
      "52:\tlearn: 0.4008101\ttotal: 348ms\tremaining: 6.21s\n",
      "53:\tlearn: 0.4007361\ttotal: 355ms\tremaining: 6.22s\n",
      "54:\tlearn: 0.4007105\ttotal: 357ms\tremaining: 6.13s\n",
      "55:\tlearn: 0.4006889\ttotal: 358ms\tremaining: 6.04s\n",
      "56:\tlearn: 0.4006707\ttotal: 360ms\tremaining: 5.96s\n",
      "57:\tlearn: 0.4006006\ttotal: 363ms\tremaining: 5.9s\n",
      "58:\tlearn: 0.4005487\ttotal: 371ms\tremaining: 5.91s\n",
      "59:\tlearn: 0.4004902\ttotal: 374ms\tremaining: 5.85s\n",
      "60:\tlearn: 0.4004807\ttotal: 375ms\tremaining: 5.78s\n",
      "61:\tlearn: 0.4004289\ttotal: 378ms\tremaining: 5.72s\n",
      "62:\tlearn: 0.4004219\ttotal: 380ms\tremaining: 5.64s\n",
      "63:\tlearn: 0.4004161\ttotal: 383ms\tremaining: 5.59s\n",
      "64:\tlearn: 0.4004112\ttotal: 387ms\tremaining: 5.56s\n",
      "65:\tlearn: 0.4003665\ttotal: 389ms\tremaining: 5.51s\n",
      "66:\tlearn: 0.4003628\ttotal: 391ms\tremaining: 5.45s\n",
      "67:\tlearn: 0.4003599\ttotal: 394ms\tremaining: 5.4s\n",
      "68:\tlearn: 0.4003198\ttotal: 397ms\tremaining: 5.36s\n",
      "69:\tlearn: 0.4002831\ttotal: 400ms\tremaining: 5.31s\n",
      "70:\tlearn: 0.4002812\ttotal: 403ms\tremaining: 5.27s\n",
      "71:\tlearn: 0.4002796\ttotal: 405ms\tremaining: 5.22s\n",
      "72:\tlearn: 0.4002545\ttotal: 410ms\tremaining: 5.2s\n",
      "73:\tlearn: 0.4002234\ttotal: 413ms\tremaining: 5.17s\n",
      "74:\tlearn: 0.4001949\ttotal: 415ms\tremaining: 5.12s\n",
      "75:\tlearn: 0.4001686\ttotal: 419ms\tremaining: 5.09s\n",
      "76:\tlearn: 0.4001679\ttotal: 421ms\tremaining: 5.05s\n",
      "77:\tlearn: 0.4001440\ttotal: 424ms\tremaining: 5.01s\n",
      "78:\tlearn: 0.4001432\ttotal: 426ms\tremaining: 4.97s\n",
      "79:\tlearn: 0.4001428\ttotal: 428ms\tremaining: 4.92s\n",
      "80:\tlearn: 0.4001424\ttotal: 431ms\tremaining: 4.89s\n",
      "81:\tlearn: 0.4001421\ttotal: 434ms\tremaining: 4.86s\n",
      "82:\tlearn: 0.4001201\ttotal: 438ms\tremaining: 4.83s\n",
      "83:\tlearn: 0.4001125\ttotal: 441ms\tremaining: 4.81s\n",
      "84:\tlearn: 0.4001123\ttotal: 443ms\tremaining: 4.77s\n",
      "85:\tlearn: 0.4001122\ttotal: 445ms\tremaining: 4.73s\n",
      "86:\tlearn: 0.4001119\ttotal: 447ms\tremaining: 4.69s\n",
      "87:\tlearn: 0.4000924\ttotal: 450ms\tremaining: 4.67s\n",
      "88:\tlearn: 0.4000923\ttotal: 452ms\tremaining: 4.63s\n",
      "89:\tlearn: 0.4000922\ttotal: 454ms\tremaining: 4.59s\n",
      "90:\tlearn: 0.4000921\ttotal: 455ms\tremaining: 4.55s\n",
      "91:\tlearn: 0.4000919\ttotal: 457ms\tremaining: 4.51s\n",
      "92:\tlearn: 0.4000919\ttotal: 459ms\tremaining: 4.47s\n",
      "93:\tlearn: 0.4000739\ttotal: 461ms\tremaining: 4.45s\n",
      "94:\tlearn: 0.4000572\ttotal: 464ms\tremaining: 4.42s\n",
      "95:\tlearn: 0.4000572\ttotal: 467ms\tremaining: 4.39s\n",
      "96:\tlearn: 0.4000417\ttotal: 469ms\tremaining: 4.37s\n",
      "97:\tlearn: 0.4000275\ttotal: 472ms\tremaining: 4.34s\n",
      "98:\tlearn: 0.4000273\ttotal: 474ms\tremaining: 4.31s\n",
      "99:\tlearn: 0.4000274\ttotal: 475ms\tremaining: 4.28s\n",
      "100:\tlearn: 0.4000140\ttotal: 478ms\tremaining: 4.25s\n",
      "101:\tlearn: 0.4000057\ttotal: 482ms\tremaining: 4.24s\n",
      "102:\tlearn: 0.3999941\ttotal: 485ms\tremaining: 4.22s\n",
      "103:\tlearn: 0.3999867\ttotal: 489ms\tremaining: 4.21s\n",
      "104:\tlearn: 0.3999764\ttotal: 492ms\tremaining: 4.19s\n",
      "105:\tlearn: 0.3999700\ttotal: 500ms\tremaining: 4.22s\n",
      "106:\tlearn: 0.3999698\ttotal: 502ms\tremaining: 4.19s\n",
      "107:\tlearn: 0.3999638\ttotal: 508ms\tremaining: 4.2s\n",
      "108:\tlearn: 0.3999581\ttotal: 516ms\tremaining: 4.21s\n",
      "109:\tlearn: 0.3999525\ttotal: 521ms\tremaining: 4.22s\n",
      "110:\tlearn: 0.3999473\ttotal: 525ms\tremaining: 4.2s\n",
      "111:\tlearn: 0.3999423\ttotal: 532ms\tremaining: 4.22s\n",
      "112:\tlearn: 0.3999376\ttotal: 538ms\tremaining: 4.22s\n",
      "113:\tlearn: 0.3999330\ttotal: 544ms\tremaining: 4.23s\n",
      "114:\tlearn: 0.3999288\ttotal: 551ms\tremaining: 4.24s\n",
      "115:\tlearn: 0.3999246\ttotal: 557ms\tremaining: 4.25s\n",
      "116:\tlearn: 0.3999206\ttotal: 564ms\tremaining: 4.26s\n",
      "117:\tlearn: 0.3999169\ttotal: 571ms\tremaining: 4.26s\n",
      "118:\tlearn: 0.3999133\ttotal: 577ms\tremaining: 4.27s\n",
      "119:\tlearn: 0.3999077\ttotal: 581ms\tremaining: 4.26s\n",
      "120:\tlearn: 0.3999045\ttotal: 587ms\tremaining: 4.27s\n",
      "121:\tlearn: 0.3999013\ttotal: 593ms\tremaining: 4.27s\n",
      "122:\tlearn: 0.3998983\ttotal: 601ms\tremaining: 4.29s\n",
      "123:\tlearn: 0.3998952\ttotal: 607ms\tremaining: 4.29s\n",
      "124:\tlearn: 0.3998925\ttotal: 616ms\tremaining: 4.31s\n",
      "125:\tlearn: 0.3998897\ttotal: 624ms\tremaining: 4.33s\n",
      "126:\tlearn: 0.3998872\ttotal: 631ms\tremaining: 4.34s\n",
      "127:\tlearn: 0.3998846\ttotal: 637ms\tremaining: 4.34s\n",
      "128:\tlearn: 0.3998821\ttotal: 644ms\tremaining: 4.35s\n",
      "129:\tlearn: 0.3998798\ttotal: 650ms\tremaining: 4.35s\n",
      "130:\tlearn: 0.3998776\ttotal: 656ms\tremaining: 4.35s\n",
      "131:\tlearn: 0.3998753\ttotal: 665ms\tremaining: 4.37s\n",
      "132:\tlearn: 0.3998732\ttotal: 672ms\tremaining: 4.38s\n",
      "133:\tlearn: 0.3998711\ttotal: 680ms\tremaining: 4.39s\n",
      "134:\tlearn: 0.3998690\ttotal: 686ms\tremaining: 4.39s\n",
      "135:\tlearn: 0.3998671\ttotal: 694ms\tremaining: 4.41s\n",
      "136:\tlearn: 0.3998652\ttotal: 701ms\tremaining: 4.41s\n",
      "137:\tlearn: 0.3998634\ttotal: 710ms\tremaining: 4.43s\n",
      "138:\tlearn: 0.3998616\ttotal: 718ms\tremaining: 4.45s\n",
      "139:\tlearn: 0.3998598\ttotal: 726ms\tremaining: 4.46s\n",
      "140:\tlearn: 0.3998581\ttotal: 732ms\tremaining: 4.46s\n",
      "141:\tlearn: 0.3998564\ttotal: 739ms\tremaining: 4.46s\n",
      "142:\tlearn: 0.3998547\ttotal: 746ms\tremaining: 4.47s\n",
      "143:\tlearn: 0.3998531\ttotal: 754ms\tremaining: 4.48s\n",
      "144:\tlearn: 0.3998517\ttotal: 763ms\tremaining: 4.5s\n",
      "145:\tlearn: 0.3998502\ttotal: 770ms\tremaining: 4.5s\n",
      "146:\tlearn: 0.3998485\ttotal: 777ms\tremaining: 4.51s\n",
      "147:\tlearn: 0.3998472\ttotal: 783ms\tremaining: 4.51s\n",
      "148:\tlearn: 0.3998458\ttotal: 790ms\tremaining: 4.51s\n",
      "149:\tlearn: 0.3998443\ttotal: 796ms\tremaining: 4.51s\n",
      "150:\tlearn: 0.3998429\ttotal: 804ms\tremaining: 4.52s\n",
      "151:\tlearn: 0.3998417\ttotal: 814ms\tremaining: 4.54s\n",
      "152:\tlearn: 0.3998403\ttotal: 820ms\tremaining: 4.54s\n",
      "153:\tlearn: 0.3998392\ttotal: 827ms\tremaining: 4.54s\n",
      "154:\tlearn: 0.3998378\ttotal: 833ms\tremaining: 4.54s\n",
      "155:\tlearn: 0.3998366\ttotal: 839ms\tremaining: 4.54s\n",
      "156:\tlearn: 0.3998354\ttotal: 845ms\tremaining: 4.54s\n",
      "157:\tlearn: 0.3998342\ttotal: 853ms\tremaining: 4.55s\n",
      "158:\tlearn: 0.3998332\ttotal: 861ms\tremaining: 4.55s\n",
      "159:\tlearn: 0.3998320\ttotal: 869ms\tremaining: 4.56s\n",
      "160:\tlearn: 0.3998309\ttotal: 876ms\tremaining: 4.57s\n",
      "161:\tlearn: 0.3998298\ttotal: 882ms\tremaining: 4.56s\n",
      "162:\tlearn: 0.3998288\ttotal: 891ms\tremaining: 4.57s\n",
      "163:\tlearn: 0.3998276\ttotal: 899ms\tremaining: 4.58s\n",
      "164:\tlearn: 0.3998266\ttotal: 907ms\tremaining: 4.59s\n",
      "165:\tlearn: 0.3998255\ttotal: 914ms\tremaining: 4.59s\n",
      "166:\tlearn: 0.3998246\ttotal: 920ms\tremaining: 4.59s\n",
      "167:\tlearn: 0.3998236\ttotal: 927ms\tremaining: 4.59s\n",
      "168:\tlearn: 0.3998227\ttotal: 934ms\tremaining: 4.59s\n",
      "169:\tlearn: 0.3998216\ttotal: 941ms\tremaining: 4.59s\n",
      "170:\tlearn: 0.3998208\ttotal: 949ms\tremaining: 4.6s\n",
      "171:\tlearn: 0.3998199\ttotal: 957ms\tremaining: 4.61s\n",
      "172:\tlearn: 0.3998189\ttotal: 963ms\tremaining: 4.6s\n",
      "173:\tlearn: 0.3998181\ttotal: 971ms\tremaining: 4.61s\n",
      "174:\tlearn: 0.3998171\ttotal: 977ms\tremaining: 4.6s\n",
      "175:\tlearn: 0.3998163\ttotal: 983ms\tremaining: 4.6s\n",
      "176:\tlearn: 0.3998155\ttotal: 990ms\tremaining: 4.61s\n",
      "177:\tlearn: 0.3998147\ttotal: 998ms\tremaining: 4.61s\n",
      "178:\tlearn: 0.3998138\ttotal: 1s\tremaining: 4.61s\n",
      "179:\tlearn: 0.3998130\ttotal: 1.01s\tremaining: 4.61s\n",
      "180:\tlearn: 0.3998123\ttotal: 1.02s\tremaining: 4.61s\n"
     ]
    },
    {
     "name": "stdout",
     "output_type": "stream",
     "text": [
      "181:\tlearn: 0.3998114\ttotal: 1.02s\tremaining: 4.61s\n",
      "182:\tlearn: 0.3998106\ttotal: 1.03s\tremaining: 4.61s\n",
      "183:\tlearn: 0.3998098\ttotal: 1.04s\tremaining: 4.61s\n",
      "184:\tlearn: 0.3998091\ttotal: 1.04s\tremaining: 4.6s\n",
      "185:\tlearn: 0.3998083\ttotal: 1.05s\tremaining: 4.6s\n",
      "186:\tlearn: 0.3998075\ttotal: 1.06s\tremaining: 4.6s\n",
      "187:\tlearn: 0.3998068\ttotal: 1.06s\tremaining: 4.59s\n",
      "188:\tlearn: 0.3998061\ttotal: 1.07s\tremaining: 4.59s\n",
      "189:\tlearn: 0.3998054\ttotal: 1.08s\tremaining: 4.59s\n",
      "190:\tlearn: 0.3998048\ttotal: 1.08s\tremaining: 4.59s\n",
      "191:\tlearn: 0.3998041\ttotal: 1.09s\tremaining: 4.58s\n",
      "192:\tlearn: 0.3998034\ttotal: 1.09s\tremaining: 4.58s\n",
      "193:\tlearn: 0.3998027\ttotal: 1.1s\tremaining: 4.58s\n",
      "194:\tlearn: 0.3998021\ttotal: 1.11s\tremaining: 4.57s\n",
      "195:\tlearn: 0.3998015\ttotal: 1.11s\tremaining: 4.57s\n",
      "196:\tlearn: 0.3998009\ttotal: 1.12s\tremaining: 4.56s\n",
      "197:\tlearn: 0.3998002\ttotal: 1.13s\tremaining: 4.56s\n",
      "198:\tlearn: 0.3997996\ttotal: 1.13s\tremaining: 4.56s\n",
      "199:\tlearn: 0.3997990\ttotal: 1.14s\tremaining: 4.55s\n",
      "200:\tlearn: 0.3997984\ttotal: 1.14s\tremaining: 4.55s\n",
      "201:\tlearn: 0.3997978\ttotal: 1.15s\tremaining: 4.54s\n",
      "202:\tlearn: 0.3997972\ttotal: 1.16s\tremaining: 4.54s\n",
      "203:\tlearn: 0.3997966\ttotal: 1.16s\tremaining: 4.53s\n",
      "204:\tlearn: 0.3997960\ttotal: 1.17s\tremaining: 4.54s\n",
      "205:\tlearn: 0.3997955\ttotal: 1.18s\tremaining: 4.54s\n",
      "206:\tlearn: 0.3997949\ttotal: 1.19s\tremaining: 4.54s\n",
      "207:\tlearn: 0.3997943\ttotal: 1.19s\tremaining: 4.54s\n",
      "208:\tlearn: 0.3997937\ttotal: 1.2s\tremaining: 4.54s\n",
      "209:\tlearn: 0.3997932\ttotal: 1.21s\tremaining: 4.54s\n",
      "210:\tlearn: 0.3997927\ttotal: 1.21s\tremaining: 4.54s\n",
      "211:\tlearn: 0.3997922\ttotal: 1.22s\tremaining: 4.54s\n",
      "212:\tlearn: 0.3997916\ttotal: 1.23s\tremaining: 4.54s\n",
      "213:\tlearn: 0.3997911\ttotal: 1.24s\tremaining: 4.54s\n",
      "214:\tlearn: 0.3997906\ttotal: 1.24s\tremaining: 4.53s\n",
      "215:\tlearn: 0.3997901\ttotal: 1.25s\tremaining: 4.53s\n",
      "216:\tlearn: 0.3997896\ttotal: 1.25s\tremaining: 4.53s\n",
      "217:\tlearn: 0.3997891\ttotal: 1.26s\tremaining: 4.53s\n",
      "218:\tlearn: 0.3997886\ttotal: 1.27s\tremaining: 4.53s\n",
      "219:\tlearn: 0.3997881\ttotal: 1.28s\tremaining: 4.53s\n",
      "220:\tlearn: 0.3997876\ttotal: 1.28s\tremaining: 4.52s\n",
      "221:\tlearn: 0.3997872\ttotal: 1.29s\tremaining: 4.51s\n",
      "222:\tlearn: 0.3997867\ttotal: 1.29s\tremaining: 4.51s\n",
      "223:\tlearn: 0.3997862\ttotal: 1.3s\tremaining: 4.51s\n",
      "224:\tlearn: 0.3997857\ttotal: 1.31s\tremaining: 4.51s\n",
      "225:\tlearn: 0.3997853\ttotal: 1.32s\tremaining: 4.51s\n",
      "226:\tlearn: 0.3997849\ttotal: 1.32s\tremaining: 4.51s\n",
      "227:\tlearn: 0.3997844\ttotal: 1.33s\tremaining: 4.5s\n",
      "228:\tlearn: 0.3997840\ttotal: 1.34s\tremaining: 4.5s\n",
      "229:\tlearn: 0.3997835\ttotal: 1.34s\tremaining: 4.49s\n",
      "230:\tlearn: 0.3997831\ttotal: 1.35s\tremaining: 4.49s\n",
      "231:\tlearn: 0.3997827\ttotal: 1.36s\tremaining: 4.5s\n",
      "232:\tlearn: 0.3997822\ttotal: 1.37s\tremaining: 4.5s\n",
      "233:\tlearn: 0.3997818\ttotal: 1.37s\tremaining: 4.5s\n",
      "234:\tlearn: 0.3997814\ttotal: 1.38s\tremaining: 4.5s\n",
      "235:\tlearn: 0.3997810\ttotal: 1.39s\tremaining: 4.49s\n",
      "236:\tlearn: 0.3997806\ttotal: 1.39s\tremaining: 4.49s\n",
      "237:\tlearn: 0.3997802\ttotal: 1.4s\tremaining: 4.48s\n",
      "238:\tlearn: 0.3997798\ttotal: 1.41s\tremaining: 4.49s\n",
      "239:\tlearn: 0.3997794\ttotal: 1.42s\tremaining: 4.48s\n",
      "240:\tlearn: 0.3997790\ttotal: 1.42s\tremaining: 4.48s\n",
      "241:\tlearn: 0.3997787\ttotal: 1.43s\tremaining: 4.47s\n",
      "242:\tlearn: 0.3997783\ttotal: 1.44s\tremaining: 4.47s\n",
      "243:\tlearn: 0.3997779\ttotal: 1.44s\tremaining: 4.47s\n",
      "244:\tlearn: 0.3997775\ttotal: 1.45s\tremaining: 4.47s\n",
      "245:\tlearn: 0.3997772\ttotal: 1.46s\tremaining: 4.47s\n",
      "246:\tlearn: 0.3997768\ttotal: 1.47s\tremaining: 4.47s\n",
      "247:\tlearn: 0.3997764\ttotal: 1.47s\tremaining: 4.46s\n",
      "248:\tlearn: 0.3997761\ttotal: 1.48s\tremaining: 4.46s\n",
      "249:\tlearn: 0.3997757\ttotal: 1.48s\tremaining: 4.45s\n",
      "250:\tlearn: 0.3997754\ttotal: 1.49s\tremaining: 4.45s\n",
      "251:\tlearn: 0.3997750\ttotal: 1.5s\tremaining: 4.44s\n",
      "252:\tlearn: 0.3997747\ttotal: 1.5s\tremaining: 4.44s\n",
      "253:\tlearn: 0.3997743\ttotal: 1.51s\tremaining: 4.43s\n",
      "254:\tlearn: 0.3997740\ttotal: 1.52s\tremaining: 4.43s\n",
      "255:\tlearn: 0.3997736\ttotal: 1.52s\tremaining: 4.43s\n",
      "256:\tlearn: 0.3997733\ttotal: 1.53s\tremaining: 4.42s\n",
      "257:\tlearn: 0.3997729\ttotal: 1.53s\tremaining: 4.42s\n",
      "258:\tlearn: 0.3997727\ttotal: 1.54s\tremaining: 4.41s\n",
      "259:\tlearn: 0.3997723\ttotal: 1.55s\tremaining: 4.41s\n",
      "260:\tlearn: 0.3997720\ttotal: 1.55s\tremaining: 4.4s\n",
      "261:\tlearn: 0.3997717\ttotal: 1.56s\tremaining: 4.4s\n",
      "262:\tlearn: 0.3997714\ttotal: 1.57s\tremaining: 4.39s\n",
      "263:\tlearn: 0.3997710\ttotal: 1.57s\tremaining: 4.39s\n",
      "264:\tlearn: 0.3997708\ttotal: 1.58s\tremaining: 4.38s\n",
      "265:\tlearn: 0.3997705\ttotal: 1.59s\tremaining: 4.38s\n",
      "266:\tlearn: 0.3997701\ttotal: 1.59s\tremaining: 4.37s\n",
      "267:\tlearn: 0.3997698\ttotal: 1.6s\tremaining: 4.37s\n",
      "268:\tlearn: 0.3997696\ttotal: 1.61s\tremaining: 4.37s\n",
      "269:\tlearn: 0.3997692\ttotal: 1.61s\tremaining: 4.36s\n",
      "270:\tlearn: 0.3997690\ttotal: 1.62s\tremaining: 4.36s\n",
      "271:\tlearn: 0.3997687\ttotal: 1.63s\tremaining: 4.36s\n",
      "272:\tlearn: 0.3997684\ttotal: 1.64s\tremaining: 4.36s\n",
      "273:\tlearn: 0.3997681\ttotal: 1.64s\tremaining: 4.36s\n",
      "274:\tlearn: 0.3997678\ttotal: 1.65s\tremaining: 4.35s\n",
      "275:\tlearn: 0.3997675\ttotal: 1.66s\tremaining: 4.35s\n",
      "276:\tlearn: 0.3997673\ttotal: 1.66s\tremaining: 4.34s\n",
      "277:\tlearn: 0.3997670\ttotal: 1.67s\tremaining: 4.34s\n",
      "278:\tlearn: 0.3997667\ttotal: 1.68s\tremaining: 4.34s\n",
      "279:\tlearn: 0.3997664\ttotal: 1.69s\tremaining: 4.34s\n",
      "280:\tlearn: 0.3997662\ttotal: 1.69s\tremaining: 4.34s\n",
      "281:\tlearn: 0.3997659\ttotal: 1.7s\tremaining: 4.33s\n",
      "282:\tlearn: 0.3997656\ttotal: 1.71s\tremaining: 4.33s\n",
      "283:\tlearn: 0.3997654\ttotal: 1.71s\tremaining: 4.32s\n",
      "284:\tlearn: 0.3997651\ttotal: 1.72s\tremaining: 4.32s\n",
      "285:\tlearn: 0.3997649\ttotal: 1.73s\tremaining: 4.32s\n",
      "286:\tlearn: 0.3997646\ttotal: 1.74s\tremaining: 4.31s\n",
      "287:\tlearn: 0.3997643\ttotal: 1.74s\tremaining: 4.31s\n",
      "288:\tlearn: 0.3997641\ttotal: 1.75s\tremaining: 4.31s\n",
      "289:\tlearn: 0.3997639\ttotal: 1.76s\tremaining: 4.3s\n",
      "290:\tlearn: 0.3997636\ttotal: 1.76s\tremaining: 4.29s\n",
      "291:\tlearn: 0.3997634\ttotal: 1.77s\tremaining: 4.29s\n",
      "292:\tlearn: 0.3997631\ttotal: 1.78s\tremaining: 4.29s\n",
      "293:\tlearn: 0.3997629\ttotal: 1.79s\tremaining: 4.29s\n",
      "294:\tlearn: 0.3997627\ttotal: 1.79s\tremaining: 4.29s\n",
      "295:\tlearn: 0.3997624\ttotal: 1.8s\tremaining: 4.28s\n",
      "296:\tlearn: 0.3997622\ttotal: 1.8s\tremaining: 4.27s\n",
      "297:\tlearn: 0.3997620\ttotal: 1.81s\tremaining: 4.27s\n",
      "298:\tlearn: 0.3997617\ttotal: 1.82s\tremaining: 4.27s\n",
      "299:\tlearn: 0.3997615\ttotal: 1.83s\tremaining: 4.26s\n",
      "300:\tlearn: 0.3997613\ttotal: 1.84s\tremaining: 4.26s\n",
      "301:\tlearn: 0.3997610\ttotal: 1.84s\tremaining: 4.26s\n",
      "302:\tlearn: 0.3997608\ttotal: 1.85s\tremaining: 4.25s\n",
      "303:\tlearn: 0.3997606\ttotal: 1.86s\tremaining: 4.25s\n",
      "304:\tlearn: 0.3997604\ttotal: 1.86s\tremaining: 4.25s\n",
      "305:\tlearn: 0.3997602\ttotal: 1.87s\tremaining: 4.25s\n",
      "306:\tlearn: 0.3997599\ttotal: 1.88s\tremaining: 4.25s\n",
      "307:\tlearn: 0.3997597\ttotal: 1.89s\tremaining: 4.24s\n",
      "308:\tlearn: 0.3997595\ttotal: 1.89s\tremaining: 4.24s\n",
      "309:\tlearn: 0.3997593\ttotal: 1.9s\tremaining: 4.23s\n",
      "310:\tlearn: 0.3997591\ttotal: 1.91s\tremaining: 4.22s\n",
      "311:\tlearn: 0.3997589\ttotal: 1.91s\tremaining: 4.22s\n",
      "312:\tlearn: 0.3997587\ttotal: 1.92s\tremaining: 4.22s\n",
      "313:\tlearn: 0.3997585\ttotal: 1.93s\tremaining: 4.22s\n",
      "314:\tlearn: 0.3997582\ttotal: 1.94s\tremaining: 4.21s\n",
      "315:\tlearn: 0.3997581\ttotal: 1.94s\tremaining: 4.21s\n",
      "316:\tlearn: 0.3997579\ttotal: 1.95s\tremaining: 4.2s\n",
      "317:\tlearn: 0.3997577\ttotal: 1.96s\tremaining: 4.2s\n",
      "318:\tlearn: 0.3997575\ttotal: 1.96s\tremaining: 4.19s\n",
      "319:\tlearn: 0.3997572\ttotal: 1.97s\tremaining: 4.19s\n",
      "320:\tlearn: 0.3997571\ttotal: 1.98s\tremaining: 4.19s\n",
      "321:\tlearn: 0.3997569\ttotal: 1.99s\tremaining: 4.18s\n",
      "322:\tlearn: 0.3997567\ttotal: 1.99s\tremaining: 4.17s\n",
      "323:\tlearn: 0.3997565\ttotal: 2s\tremaining: 4.17s\n",
      "324:\tlearn: 0.3997563\ttotal: 2s\tremaining: 4.16s\n",
      "325:\tlearn: 0.3997561\ttotal: 2.01s\tremaining: 4.16s\n",
      "326:\tlearn: 0.3997559\ttotal: 2.02s\tremaining: 4.15s\n",
      "327:\tlearn: 0.3997558\ttotal: 2.02s\tremaining: 4.15s\n",
      "328:\tlearn: 0.3997556\ttotal: 2.03s\tremaining: 4.14s\n",
      "329:\tlearn: 0.3997554\ttotal: 2.04s\tremaining: 4.13s\n",
      "330:\tlearn: 0.3997552\ttotal: 2.04s\tremaining: 4.13s\n",
      "331:\tlearn: 0.3997550\ttotal: 2.05s\tremaining: 4.12s\n",
      "332:\tlearn: 0.3997548\ttotal: 2.06s\tremaining: 4.12s\n",
      "333:\tlearn: 0.3997547\ttotal: 2.06s\tremaining: 4.11s\n",
      "334:\tlearn: 0.3997545\ttotal: 2.07s\tremaining: 4.11s\n",
      "335:\tlearn: 0.3997543\ttotal: 2.07s\tremaining: 4.1s\n",
      "336:\tlearn: 0.3997542\ttotal: 2.08s\tremaining: 4.09s\n",
      "337:\tlearn: 0.3997540\ttotal: 2.09s\tremaining: 4.09s\n",
      "338:\tlearn: 0.3997538\ttotal: 2.1s\tremaining: 4.09s\n",
      "339:\tlearn: 0.3997536\ttotal: 2.1s\tremaining: 4.08s\n",
      "340:\tlearn: 0.3997535\ttotal: 2.11s\tremaining: 4.08s\n",
      "341:\tlearn: 0.3997533\ttotal: 2.12s\tremaining: 4.07s\n",
      "342:\tlearn: 0.3997531\ttotal: 2.12s\tremaining: 4.07s\n",
      "343:\tlearn: 0.3997530\ttotal: 2.13s\tremaining: 4.06s\n",
      "344:\tlearn: 0.3997528\ttotal: 2.13s\tremaining: 4.05s\n",
      "345:\tlearn: 0.3997526\ttotal: 2.14s\tremaining: 4.05s\n",
      "346:\tlearn: 0.3997524\ttotal: 2.15s\tremaining: 4.05s\n",
      "347:\tlearn: 0.3997523\ttotal: 2.16s\tremaining: 4.04s\n",
      "348:\tlearn: 0.3997521\ttotal: 2.17s\tremaining: 4.04s\n",
      "349:\tlearn: 0.3997520\ttotal: 2.17s\tremaining: 4.04s\n",
      "350:\tlearn: 0.3997519\ttotal: 2.18s\tremaining: 4.03s\n",
      "351:\tlearn: 0.3997517\ttotal: 2.19s\tremaining: 4.03s\n",
      "352:\tlearn: 0.3997516\ttotal: 2.2s\tremaining: 4.03s\n",
      "353:\tlearn: 0.3997514\ttotal: 2.2s\tremaining: 4.02s\n",
      "354:\tlearn: 0.3997512\ttotal: 2.21s\tremaining: 4.01s\n",
      "355:\tlearn: 0.3997511\ttotal: 2.21s\tremaining: 4.01s\n",
      "356:\tlearn: 0.3997509\ttotal: 2.22s\tremaining: 4s\n",
      "357:\tlearn: 0.3997508\ttotal: 2.23s\tremaining: 4s\n",
      "358:\tlearn: 0.3997506\ttotal: 2.24s\tremaining: 3.99s\n",
      "359:\tlearn: 0.3997504\ttotal: 2.24s\tremaining: 3.99s\n",
      "360:\tlearn: 0.3997503\ttotal: 2.25s\tremaining: 3.98s\n"
     ]
    },
    {
     "name": "stdout",
     "output_type": "stream",
     "text": [
      "361:\tlearn: 0.3997502\ttotal: 2.26s\tremaining: 3.98s\n",
      "362:\tlearn: 0.3997500\ttotal: 2.27s\tremaining: 3.98s\n",
      "363:\tlearn: 0.3997499\ttotal: 2.27s\tremaining: 3.97s\n",
      "364:\tlearn: 0.3997498\ttotal: 2.28s\tremaining: 3.97s\n",
      "365:\tlearn: 0.3997496\ttotal: 2.29s\tremaining: 3.96s\n",
      "366:\tlearn: 0.3997495\ttotal: 2.3s\tremaining: 3.96s\n",
      "367:\tlearn: 0.3997493\ttotal: 2.31s\tremaining: 3.96s\n",
      "368:\tlearn: 0.3997492\ttotal: 2.31s\tremaining: 3.95s\n",
      "369:\tlearn: 0.3997490\ttotal: 2.32s\tremaining: 3.95s\n",
      "370:\tlearn: 0.3997489\ttotal: 2.32s\tremaining: 3.94s\n",
      "371:\tlearn: 0.3997488\ttotal: 2.33s\tremaining: 3.93s\n",
      "372:\tlearn: 0.3997486\ttotal: 2.34s\tremaining: 3.93s\n",
      "373:\tlearn: 0.3997485\ttotal: 2.35s\tremaining: 3.93s\n",
      "374:\tlearn: 0.3997483\ttotal: 2.35s\tremaining: 3.92s\n",
      "375:\tlearn: 0.3997482\ttotal: 2.36s\tremaining: 3.92s\n",
      "376:\tlearn: 0.3997481\ttotal: 2.37s\tremaining: 3.91s\n",
      "377:\tlearn: 0.3997479\ttotal: 2.37s\tremaining: 3.9s\n",
      "378:\tlearn: 0.3997478\ttotal: 2.38s\tremaining: 3.9s\n",
      "379:\tlearn: 0.3997477\ttotal: 2.39s\tremaining: 3.89s\n",
      "380:\tlearn: 0.3997476\ttotal: 2.39s\tremaining: 3.89s\n",
      "381:\tlearn: 0.3997474\ttotal: 2.4s\tremaining: 3.88s\n",
      "382:\tlearn: 0.3997473\ttotal: 2.4s\tremaining: 3.88s\n",
      "383:\tlearn: 0.3997472\ttotal: 2.41s\tremaining: 3.87s\n",
      "384:\tlearn: 0.3997471\ttotal: 2.42s\tremaining: 3.86s\n",
      "385:\tlearn: 0.3997469\ttotal: 2.43s\tremaining: 3.86s\n",
      "386:\tlearn: 0.3997468\ttotal: 2.44s\tremaining: 3.86s\n",
      "387:\tlearn: 0.3997467\ttotal: 2.44s\tremaining: 3.85s\n",
      "388:\tlearn: 0.3997465\ttotal: 2.45s\tremaining: 3.85s\n",
      "389:\tlearn: 0.3997464\ttotal: 2.46s\tremaining: 3.84s\n",
      "390:\tlearn: 0.3997463\ttotal: 2.46s\tremaining: 3.83s\n",
      "391:\tlearn: 0.3997462\ttotal: 2.47s\tremaining: 3.83s\n",
      "392:\tlearn: 0.3997461\ttotal: 2.48s\tremaining: 3.83s\n",
      "393:\tlearn: 0.3997460\ttotal: 2.48s\tremaining: 3.82s\n",
      "394:\tlearn: 0.3997458\ttotal: 2.49s\tremaining: 3.81s\n",
      "395:\tlearn: 0.3997457\ttotal: 2.5s\tremaining: 3.81s\n",
      "396:\tlearn: 0.3997456\ttotal: 2.51s\tremaining: 3.81s\n",
      "397:\tlearn: 0.3997454\ttotal: 2.51s\tremaining: 3.8s\n",
      "398:\tlearn: 0.3997453\ttotal: 2.52s\tremaining: 3.8s\n",
      "399:\tlearn: 0.3997452\ttotal: 2.53s\tremaining: 3.79s\n",
      "400:\tlearn: 0.3997451\ttotal: 2.53s\tremaining: 3.79s\n",
      "401:\tlearn: 0.3997450\ttotal: 2.54s\tremaining: 3.78s\n",
      "402:\tlearn: 0.3997449\ttotal: 2.55s\tremaining: 3.78s\n",
      "403:\tlearn: 0.3997447\ttotal: 2.56s\tremaining: 3.77s\n",
      "404:\tlearn: 0.3997447\ttotal: 2.56s\tremaining: 3.77s\n",
      "405:\tlearn: 0.3997445\ttotal: 2.57s\tremaining: 3.76s\n",
      "406:\tlearn: 0.3997444\ttotal: 2.58s\tremaining: 3.76s\n",
      "407:\tlearn: 0.3997443\ttotal: 2.59s\tremaining: 3.75s\n",
      "408:\tlearn: 0.3997442\ttotal: 2.59s\tremaining: 3.75s\n",
      "409:\tlearn: 0.3997441\ttotal: 2.6s\tremaining: 3.74s\n",
      "410:\tlearn: 0.3997440\ttotal: 2.61s\tremaining: 3.74s\n",
      "411:\tlearn: 0.3997439\ttotal: 2.62s\tremaining: 3.74s\n",
      "412:\tlearn: 0.3997438\ttotal: 2.63s\tremaining: 3.73s\n",
      "413:\tlearn: 0.3997436\ttotal: 2.63s\tremaining: 3.73s\n",
      "414:\tlearn: 0.3997435\ttotal: 2.64s\tremaining: 3.73s\n",
      "415:\tlearn: 0.3997435\ttotal: 2.65s\tremaining: 3.72s\n",
      "416:\tlearn: 0.3997434\ttotal: 2.66s\tremaining: 3.72s\n",
      "417:\tlearn: 0.3997433\ttotal: 2.67s\tremaining: 3.72s\n",
      "418:\tlearn: 0.3997431\ttotal: 2.68s\tremaining: 3.71s\n",
      "419:\tlearn: 0.3997430\ttotal: 2.68s\tremaining: 3.71s\n",
      "420:\tlearn: 0.3997430\ttotal: 2.69s\tremaining: 3.7s\n",
      "421:\tlearn: 0.3997428\ttotal: 2.7s\tremaining: 3.7s\n",
      "422:\tlearn: 0.3997427\ttotal: 2.71s\tremaining: 3.69s\n",
      "423:\tlearn: 0.3997426\ttotal: 2.72s\tremaining: 3.69s\n",
      "424:\tlearn: 0.3997425\ttotal: 2.73s\tremaining: 3.69s\n",
      "425:\tlearn: 0.3997424\ttotal: 2.73s\tremaining: 3.68s\n",
      "426:\tlearn: 0.3997423\ttotal: 2.74s\tremaining: 3.68s\n",
      "427:\tlearn: 0.3997422\ttotal: 2.75s\tremaining: 3.67s\n",
      "428:\tlearn: 0.3997421\ttotal: 2.75s\tremaining: 3.67s\n",
      "429:\tlearn: 0.3997420\ttotal: 2.76s\tremaining: 3.66s\n",
      "430:\tlearn: 0.3997419\ttotal: 2.77s\tremaining: 3.66s\n",
      "431:\tlearn: 0.3997418\ttotal: 2.78s\tremaining: 3.65s\n",
      "432:\tlearn: 0.3997418\ttotal: 2.79s\tremaining: 3.65s\n",
      "433:\tlearn: 0.3997417\ttotal: 2.79s\tremaining: 3.64s\n",
      "434:\tlearn: 0.3997416\ttotal: 2.8s\tremaining: 3.64s\n",
      "435:\tlearn: 0.3997415\ttotal: 2.81s\tremaining: 3.63s\n",
      "436:\tlearn: 0.3997413\ttotal: 2.82s\tremaining: 3.63s\n",
      "437:\tlearn: 0.3997413\ttotal: 2.83s\tremaining: 3.63s\n",
      "438:\tlearn: 0.3997412\ttotal: 2.83s\tremaining: 3.62s\n",
      "439:\tlearn: 0.3997411\ttotal: 2.84s\tremaining: 3.61s\n",
      "440:\tlearn: 0.3997410\ttotal: 2.85s\tremaining: 3.61s\n",
      "441:\tlearn: 0.3997409\ttotal: 2.86s\tremaining: 3.61s\n",
      "442:\tlearn: 0.3997408\ttotal: 2.87s\tremaining: 3.61s\n",
      "443:\tlearn: 0.3997407\ttotal: 2.88s\tremaining: 3.6s\n",
      "444:\tlearn: 0.3997406\ttotal: 2.88s\tremaining: 3.6s\n",
      "445:\tlearn: 0.3997405\ttotal: 2.89s\tremaining: 3.59s\n",
      "446:\tlearn: 0.3997404\ttotal: 2.9s\tremaining: 3.58s\n",
      "447:\tlearn: 0.3997404\ttotal: 2.91s\tremaining: 3.58s\n",
      "448:\tlearn: 0.3997403\ttotal: 2.92s\tremaining: 3.58s\n",
      "449:\tlearn: 0.3997402\ttotal: 2.93s\tremaining: 3.58s\n",
      "450:\tlearn: 0.3997401\ttotal: 2.93s\tremaining: 3.57s\n",
      "451:\tlearn: 0.3997400\ttotal: 2.94s\tremaining: 3.57s\n",
      "452:\tlearn: 0.3997400\ttotal: 2.95s\tremaining: 3.56s\n",
      "453:\tlearn: 0.3997398\ttotal: 2.96s\tremaining: 3.56s\n",
      "454:\tlearn: 0.3997397\ttotal: 2.97s\tremaining: 3.56s\n",
      "455:\tlearn: 0.3997397\ttotal: 2.98s\tremaining: 3.55s\n",
      "456:\tlearn: 0.3997396\ttotal: 2.98s\tremaining: 3.54s\n",
      "457:\tlearn: 0.3997395\ttotal: 2.99s\tremaining: 3.54s\n",
      "458:\tlearn: 0.3997394\ttotal: 3s\tremaining: 3.54s\n",
      "459:\tlearn: 0.3997393\ttotal: 3.01s\tremaining: 3.53s\n",
      "460:\tlearn: 0.3997392\ttotal: 3.02s\tremaining: 3.52s\n",
      "461:\tlearn: 0.3997392\ttotal: 3.02s\tremaining: 3.52s\n",
      "462:\tlearn: 0.3997391\ttotal: 3.03s\tremaining: 3.51s\n",
      "463:\tlearn: 0.3997390\ttotal: 3.04s\tremaining: 3.51s\n",
      "464:\tlearn: 0.3997389\ttotal: 3.05s\tremaining: 3.5s\n",
      "465:\tlearn: 0.3997388\ttotal: 3.05s\tremaining: 3.5s\n",
      "466:\tlearn: 0.3997387\ttotal: 3.06s\tremaining: 3.5s\n",
      "467:\tlearn: 0.3997387\ttotal: 3.07s\tremaining: 3.49s\n",
      "468:\tlearn: 0.3997386\ttotal: 3.08s\tremaining: 3.48s\n",
      "469:\tlearn: 0.3997385\ttotal: 3.08s\tremaining: 3.48s\n",
      "470:\tlearn: 0.3997384\ttotal: 3.09s\tremaining: 3.47s\n",
      "471:\tlearn: 0.3997383\ttotal: 3.1s\tremaining: 3.46s\n",
      "472:\tlearn: 0.3997383\ttotal: 3.1s\tremaining: 3.46s\n",
      "473:\tlearn: 0.3997382\ttotal: 3.11s\tremaining: 3.45s\n",
      "474:\tlearn: 0.3997381\ttotal: 3.12s\tremaining: 3.45s\n",
      "475:\tlearn: 0.3997380\ttotal: 3.13s\tremaining: 3.44s\n",
      "476:\tlearn: 0.3997380\ttotal: 3.13s\tremaining: 3.44s\n",
      "477:\tlearn: 0.3997379\ttotal: 3.14s\tremaining: 3.43s\n",
      "478:\tlearn: 0.3997378\ttotal: 3.15s\tremaining: 3.43s\n",
      "479:\tlearn: 0.3997377\ttotal: 3.16s\tremaining: 3.42s\n",
      "480:\tlearn: 0.3997376\ttotal: 3.16s\tremaining: 3.41s\n",
      "481:\tlearn: 0.3997376\ttotal: 3.17s\tremaining: 3.41s\n",
      "482:\tlearn: 0.3997375\ttotal: 3.18s\tremaining: 3.4s\n",
      "483:\tlearn: 0.3997374\ttotal: 3.19s\tremaining: 3.4s\n",
      "484:\tlearn: 0.3997374\ttotal: 3.19s\tremaining: 3.39s\n",
      "485:\tlearn: 0.3997373\ttotal: 3.2s\tremaining: 3.39s\n",
      "486:\tlearn: 0.3997372\ttotal: 3.21s\tremaining: 3.38s\n",
      "487:\tlearn: 0.3997371\ttotal: 3.22s\tremaining: 3.38s\n",
      "488:\tlearn: 0.3997370\ttotal: 3.23s\tremaining: 3.37s\n",
      "489:\tlearn: 0.3997370\ttotal: 3.23s\tremaining: 3.37s\n",
      "490:\tlearn: 0.3997369\ttotal: 3.24s\tremaining: 3.36s\n",
      "491:\tlearn: 0.3997368\ttotal: 3.25s\tremaining: 3.35s\n",
      "492:\tlearn: 0.3997368\ttotal: 3.26s\tremaining: 3.35s\n",
      "493:\tlearn: 0.3997367\ttotal: 3.26s\tremaining: 3.34s\n",
      "494:\tlearn: 0.3997366\ttotal: 3.27s\tremaining: 3.33s\n",
      "495:\tlearn: 0.3997366\ttotal: 3.28s\tremaining: 3.33s\n",
      "496:\tlearn: 0.3997365\ttotal: 3.29s\tremaining: 3.33s\n",
      "497:\tlearn: 0.3997364\ttotal: 3.29s\tremaining: 3.32s\n",
      "498:\tlearn: 0.3997363\ttotal: 3.3s\tremaining: 3.31s\n",
      "499:\tlearn: 0.3997363\ttotal: 3.31s\tremaining: 3.31s\n",
      "500:\tlearn: 0.3997362\ttotal: 3.32s\tremaining: 3.3s\n",
      "501:\tlearn: 0.3997361\ttotal: 3.33s\tremaining: 3.3s\n",
      "502:\tlearn: 0.3997360\ttotal: 3.33s\tremaining: 3.29s\n",
      "503:\tlearn: 0.3997360\ttotal: 3.34s\tremaining: 3.29s\n",
      "504:\tlearn: 0.3997359\ttotal: 3.35s\tremaining: 3.28s\n",
      "505:\tlearn: 0.3997359\ttotal: 3.36s\tremaining: 3.28s\n",
      "506:\tlearn: 0.3997358\ttotal: 3.37s\tremaining: 3.27s\n",
      "507:\tlearn: 0.3997357\ttotal: 3.38s\tremaining: 3.27s\n",
      "508:\tlearn: 0.3997357\ttotal: 3.38s\tremaining: 3.26s\n",
      "509:\tlearn: 0.3997356\ttotal: 3.39s\tremaining: 3.26s\n",
      "510:\tlearn: 0.3997355\ttotal: 3.4s\tremaining: 3.25s\n",
      "511:\tlearn: 0.3997355\ttotal: 3.41s\tremaining: 3.25s\n",
      "512:\tlearn: 0.3997354\ttotal: 3.42s\tremaining: 3.25s\n",
      "513:\tlearn: 0.3997353\ttotal: 3.43s\tremaining: 3.24s\n",
      "514:\tlearn: 0.3997353\ttotal: 3.44s\tremaining: 3.24s\n",
      "515:\tlearn: 0.3997352\ttotal: 3.44s\tremaining: 3.23s\n",
      "516:\tlearn: 0.3997351\ttotal: 3.45s\tremaining: 3.23s\n",
      "517:\tlearn: 0.3997351\ttotal: 3.46s\tremaining: 3.22s\n",
      "518:\tlearn: 0.3997350\ttotal: 3.47s\tremaining: 3.22s\n",
      "519:\tlearn: 0.3997350\ttotal: 3.48s\tremaining: 3.21s\n",
      "520:\tlearn: 0.3997349\ttotal: 3.49s\tremaining: 3.21s\n",
      "521:\tlearn: 0.3997348\ttotal: 3.5s\tremaining: 3.2s\n",
      "522:\tlearn: 0.3997348\ttotal: 3.5s\tremaining: 3.19s\n",
      "523:\tlearn: 0.3997347\ttotal: 3.51s\tremaining: 3.19s\n",
      "524:\tlearn: 0.3997346\ttotal: 3.52s\tremaining: 3.19s\n",
      "525:\tlearn: 0.3997345\ttotal: 3.53s\tremaining: 3.18s\n",
      "526:\tlearn: 0.3997345\ttotal: 3.54s\tremaining: 3.18s\n",
      "527:\tlearn: 0.3997344\ttotal: 3.55s\tremaining: 3.17s\n",
      "528:\tlearn: 0.3997344\ttotal: 3.56s\tremaining: 3.17s\n",
      "529:\tlearn: 0.3997343\ttotal: 3.56s\tremaining: 3.16s\n",
      "530:\tlearn: 0.3997343\ttotal: 3.57s\tremaining: 3.16s\n",
      "531:\tlearn: 0.3997342\ttotal: 3.58s\tremaining: 3.15s\n",
      "532:\tlearn: 0.3997342\ttotal: 3.59s\tremaining: 3.15s\n",
      "533:\tlearn: 0.3997341\ttotal: 3.6s\tremaining: 3.14s\n",
      "534:\tlearn: 0.3997340\ttotal: 3.61s\tremaining: 3.13s\n",
      "535:\tlearn: 0.3997340\ttotal: 3.61s\tremaining: 3.13s\n",
      "536:\tlearn: 0.3997339\ttotal: 3.62s\tremaining: 3.12s\n",
      "537:\tlearn: 0.3997339\ttotal: 3.63s\tremaining: 3.12s\n",
      "538:\tlearn: 0.3997338\ttotal: 3.64s\tremaining: 3.11s\n",
      "539:\tlearn: 0.3997337\ttotal: 3.64s\tremaining: 3.1s\n",
      "540:\tlearn: 0.3997337\ttotal: 3.65s\tremaining: 3.1s\n",
      "541:\tlearn: 0.3997336\ttotal: 3.66s\tremaining: 3.09s\n",
      "542:\tlearn: 0.3997335\ttotal: 3.67s\tremaining: 3.08s\n",
      "543:\tlearn: 0.3997335\ttotal: 3.67s\tremaining: 3.08s\n"
     ]
    },
    {
     "name": "stdout",
     "output_type": "stream",
     "text": [
      "544:\tlearn: 0.3997334\ttotal: 3.68s\tremaining: 3.07s\n",
      "545:\tlearn: 0.3997334\ttotal: 3.69s\tremaining: 3.07s\n",
      "546:\tlearn: 0.3997334\ttotal: 3.7s\tremaining: 3.06s\n",
      "547:\tlearn: 0.3997333\ttotal: 3.7s\tremaining: 3.06s\n",
      "548:\tlearn: 0.3997332\ttotal: 3.71s\tremaining: 3.05s\n",
      "549:\tlearn: 0.3997332\ttotal: 3.72s\tremaining: 3.04s\n",
      "550:\tlearn: 0.3997331\ttotal: 3.73s\tremaining: 3.04s\n",
      "551:\tlearn: 0.3997331\ttotal: 3.74s\tremaining: 3.03s\n",
      "552:\tlearn: 0.3997330\ttotal: 3.75s\tremaining: 3.03s\n",
      "553:\tlearn: 0.3997329\ttotal: 3.75s\tremaining: 3.02s\n",
      "554:\tlearn: 0.3997329\ttotal: 3.76s\tremaining: 3.02s\n",
      "555:\tlearn: 0.3997328\ttotal: 3.77s\tremaining: 3.01s\n",
      "556:\tlearn: 0.3997328\ttotal: 3.78s\tremaining: 3s\n",
      "557:\tlearn: 0.3997327\ttotal: 3.79s\tremaining: 3s\n",
      "558:\tlearn: 0.3997327\ttotal: 3.8s\tremaining: 3s\n",
      "559:\tlearn: 0.3997326\ttotal: 3.8s\tremaining: 2.99s\n",
      "560:\tlearn: 0.3997325\ttotal: 3.81s\tremaining: 2.98s\n",
      "561:\tlearn: 0.3997325\ttotal: 3.82s\tremaining: 2.98s\n",
      "562:\tlearn: 0.3997324\ttotal: 3.83s\tremaining: 2.97s\n",
      "563:\tlearn: 0.3997324\ttotal: 3.84s\tremaining: 2.97s\n",
      "564:\tlearn: 0.3997324\ttotal: 3.85s\tremaining: 2.96s\n",
      "565:\tlearn: 0.3997323\ttotal: 3.85s\tremaining: 2.96s\n",
      "566:\tlearn: 0.3997323\ttotal: 3.86s\tremaining: 2.95s\n",
      "567:\tlearn: 0.3997322\ttotal: 3.87s\tremaining: 2.94s\n",
      "568:\tlearn: 0.3997321\ttotal: 3.88s\tremaining: 2.94s\n",
      "569:\tlearn: 0.3997321\ttotal: 3.89s\tremaining: 2.94s\n",
      "570:\tlearn: 0.3997320\ttotal: 3.9s\tremaining: 2.93s\n",
      "571:\tlearn: 0.3997320\ttotal: 3.91s\tremaining: 2.92s\n",
      "572:\tlearn: 0.3997319\ttotal: 3.92s\tremaining: 2.92s\n",
      "573:\tlearn: 0.3997319\ttotal: 3.92s\tremaining: 2.91s\n",
      "574:\tlearn: 0.3997318\ttotal: 3.93s\tremaining: 2.91s\n",
      "575:\tlearn: 0.3997318\ttotal: 3.94s\tremaining: 2.9s\n",
      "576:\tlearn: 0.3997317\ttotal: 3.95s\tremaining: 2.9s\n",
      "577:\tlearn: 0.3997317\ttotal: 3.96s\tremaining: 2.89s\n",
      "578:\tlearn: 0.3997317\ttotal: 3.97s\tremaining: 2.88s\n",
      "579:\tlearn: 0.3997316\ttotal: 3.97s\tremaining: 2.88s\n",
      "580:\tlearn: 0.3997315\ttotal: 3.98s\tremaining: 2.87s\n",
      "581:\tlearn: 0.3997315\ttotal: 3.99s\tremaining: 2.87s\n",
      "582:\tlearn: 0.3997315\ttotal: 4s\tremaining: 2.86s\n",
      "583:\tlearn: 0.3997314\ttotal: 4.01s\tremaining: 2.85s\n",
      "584:\tlearn: 0.3997314\ttotal: 4.01s\tremaining: 2.85s\n",
      "585:\tlearn: 0.3997313\ttotal: 4.02s\tremaining: 2.84s\n",
      "586:\tlearn: 0.3997312\ttotal: 4.03s\tremaining: 2.84s\n",
      "587:\tlearn: 0.3997312\ttotal: 4.04s\tremaining: 2.83s\n",
      "588:\tlearn: 0.3997312\ttotal: 4.05s\tremaining: 2.83s\n",
      "589:\tlearn: 0.3997311\ttotal: 4.06s\tremaining: 2.82s\n",
      "590:\tlearn: 0.3997310\ttotal: 4.07s\tremaining: 2.81s\n",
      "591:\tlearn: 0.3997310\ttotal: 4.07s\tremaining: 2.81s\n",
      "592:\tlearn: 0.3997310\ttotal: 4.08s\tremaining: 2.8s\n",
      "593:\tlearn: 0.3997309\ttotal: 4.09s\tremaining: 2.79s\n",
      "594:\tlearn: 0.3997309\ttotal: 4.1s\tremaining: 2.79s\n",
      "595:\tlearn: 0.3997308\ttotal: 4.1s\tremaining: 2.78s\n",
      "596:\tlearn: 0.3997308\ttotal: 4.11s\tremaining: 2.77s\n",
      "597:\tlearn: 0.3997308\ttotal: 4.12s\tremaining: 2.77s\n",
      "598:\tlearn: 0.3997307\ttotal: 4.13s\tremaining: 2.76s\n",
      "599:\tlearn: 0.3997306\ttotal: 4.13s\tremaining: 2.75s\n",
      "600:\tlearn: 0.3997306\ttotal: 4.14s\tremaining: 2.75s\n",
      "601:\tlearn: 0.3997306\ttotal: 4.15s\tremaining: 2.75s\n",
      "602:\tlearn: 0.3997305\ttotal: 4.16s\tremaining: 2.74s\n",
      "603:\tlearn: 0.3997304\ttotal: 4.17s\tremaining: 2.73s\n",
      "604:\tlearn: 0.3997304\ttotal: 4.18s\tremaining: 2.73s\n",
      "605:\tlearn: 0.3997304\ttotal: 4.18s\tremaining: 2.72s\n",
      "606:\tlearn: 0.3997303\ttotal: 4.19s\tremaining: 2.71s\n",
      "607:\tlearn: 0.3997302\ttotal: 4.21s\tremaining: 2.72s\n",
      "608:\tlearn: 0.3997302\ttotal: 4.22s\tremaining: 2.71s\n",
      "609:\tlearn: 0.3997302\ttotal: 4.23s\tremaining: 2.7s\n",
      "610:\tlearn: 0.3997301\ttotal: 4.24s\tremaining: 2.7s\n",
      "611:\tlearn: 0.3997301\ttotal: 4.25s\tremaining: 2.69s\n",
      "612:\tlearn: 0.3997300\ttotal: 4.26s\tremaining: 2.69s\n",
      "613:\tlearn: 0.3997300\ttotal: 4.27s\tremaining: 2.69s\n",
      "614:\tlearn: 0.3997300\ttotal: 4.28s\tremaining: 2.68s\n",
      "615:\tlearn: 0.3997299\ttotal: 4.29s\tremaining: 2.67s\n",
      "616:\tlearn: 0.3997299\ttotal: 4.29s\tremaining: 2.67s\n",
      "617:\tlearn: 0.3997299\ttotal: 4.3s\tremaining: 2.66s\n",
      "618:\tlearn: 0.3997298\ttotal: 4.32s\tremaining: 2.66s\n",
      "619:\tlearn: 0.3997298\ttotal: 4.32s\tremaining: 2.65s\n",
      "620:\tlearn: 0.3997297\ttotal: 4.34s\tremaining: 2.65s\n",
      "621:\tlearn: 0.3997296\ttotal: 4.35s\tremaining: 2.64s\n",
      "622:\tlearn: 0.3997296\ttotal: 4.36s\tremaining: 2.64s\n",
      "623:\tlearn: 0.3997296\ttotal: 4.37s\tremaining: 2.63s\n",
      "624:\tlearn: 0.3997295\ttotal: 4.38s\tremaining: 2.63s\n",
      "625:\tlearn: 0.3997295\ttotal: 4.39s\tremaining: 2.62s\n",
      "626:\tlearn: 0.3997295\ttotal: 4.4s\tremaining: 2.62s\n",
      "627:\tlearn: 0.3997294\ttotal: 4.41s\tremaining: 2.61s\n",
      "628:\tlearn: 0.3997293\ttotal: 4.42s\tremaining: 2.6s\n",
      "629:\tlearn: 0.3997293\ttotal: 4.42s\tremaining: 2.6s\n",
      "630:\tlearn: 0.3997293\ttotal: 4.43s\tremaining: 2.59s\n",
      "631:\tlearn: 0.3997292\ttotal: 4.44s\tremaining: 2.58s\n",
      "632:\tlearn: 0.3997292\ttotal: 4.45s\tremaining: 2.58s\n",
      "633:\tlearn: 0.3997291\ttotal: 4.46s\tremaining: 2.57s\n",
      "634:\tlearn: 0.3997291\ttotal: 4.47s\tremaining: 2.57s\n",
      "635:\tlearn: 0.3997291\ttotal: 4.47s\tremaining: 2.56s\n",
      "636:\tlearn: 0.3997291\ttotal: 4.48s\tremaining: 2.56s\n",
      "637:\tlearn: 0.3997290\ttotal: 4.49s\tremaining: 2.55s\n",
      "638:\tlearn: 0.3997290\ttotal: 4.5s\tremaining: 2.54s\n",
      "639:\tlearn: 0.3997289\ttotal: 4.51s\tremaining: 2.54s\n",
      "640:\tlearn: 0.3997289\ttotal: 4.52s\tremaining: 2.53s\n",
      "641:\tlearn: 0.3997289\ttotal: 4.53s\tremaining: 2.52s\n",
      "642:\tlearn: 0.3997288\ttotal: 4.53s\tremaining: 2.52s\n",
      "643:\tlearn: 0.3997288\ttotal: 4.54s\tremaining: 2.51s\n",
      "644:\tlearn: 0.3997287\ttotal: 4.55s\tremaining: 2.5s\n",
      "645:\tlearn: 0.3997287\ttotal: 4.56s\tremaining: 2.5s\n",
      "646:\tlearn: 0.3997287\ttotal: 4.57s\tremaining: 2.49s\n",
      "647:\tlearn: 0.3997286\ttotal: 4.58s\tremaining: 2.48s\n",
      "648:\tlearn: 0.3997286\ttotal: 4.58s\tremaining: 2.48s\n",
      "649:\tlearn: 0.3997285\ttotal: 4.59s\tremaining: 2.47s\n",
      "650:\tlearn: 0.3997285\ttotal: 4.6s\tremaining: 2.46s\n",
      "651:\tlearn: 0.3997284\ttotal: 4.61s\tremaining: 2.46s\n",
      "652:\tlearn: 0.3997284\ttotal: 4.62s\tremaining: 2.45s\n",
      "653:\tlearn: 0.3997284\ttotal: 4.62s\tremaining: 2.45s\n",
      "654:\tlearn: 0.3997283\ttotal: 4.63s\tremaining: 2.44s\n",
      "655:\tlearn: 0.3997283\ttotal: 4.64s\tremaining: 2.43s\n",
      "656:\tlearn: 0.3997283\ttotal: 4.65s\tremaining: 2.43s\n",
      "657:\tlearn: 0.3997282\ttotal: 4.66s\tremaining: 2.42s\n",
      "658:\tlearn: 0.3997282\ttotal: 4.66s\tremaining: 2.41s\n",
      "659:\tlearn: 0.3997282\ttotal: 4.67s\tremaining: 2.41s\n",
      "660:\tlearn: 0.3997281\ttotal: 4.68s\tremaining: 2.4s\n",
      "661:\tlearn: 0.3997281\ttotal: 4.69s\tremaining: 2.39s\n",
      "662:\tlearn: 0.3997280\ttotal: 4.69s\tremaining: 2.39s\n",
      "663:\tlearn: 0.3997280\ttotal: 4.7s\tremaining: 2.38s\n",
      "664:\tlearn: 0.3997280\ttotal: 4.71s\tremaining: 2.37s\n",
      "665:\tlearn: 0.3997279\ttotal: 4.72s\tremaining: 2.37s\n",
      "666:\tlearn: 0.3997279\ttotal: 4.73s\tremaining: 2.36s\n",
      "667:\tlearn: 0.3997278\ttotal: 4.74s\tremaining: 2.35s\n",
      "668:\tlearn: 0.3997278\ttotal: 4.75s\tremaining: 2.35s\n",
      "669:\tlearn: 0.3997278\ttotal: 4.75s\tremaining: 2.34s\n",
      "670:\tlearn: 0.3997277\ttotal: 4.76s\tremaining: 2.33s\n",
      "671:\tlearn: 0.3997277\ttotal: 4.77s\tremaining: 2.33s\n",
      "672:\tlearn: 0.3997277\ttotal: 4.78s\tremaining: 2.32s\n",
      "673:\tlearn: 0.3997277\ttotal: 4.79s\tremaining: 2.31s\n",
      "674:\tlearn: 0.3997276\ttotal: 4.79s\tremaining: 2.31s\n",
      "675:\tlearn: 0.3997276\ttotal: 4.8s\tremaining: 2.3s\n",
      "676:\tlearn: 0.3997275\ttotal: 4.81s\tremaining: 2.29s\n",
      "677:\tlearn: 0.3997275\ttotal: 4.82s\tremaining: 2.29s\n",
      "678:\tlearn: 0.3997275\ttotal: 4.83s\tremaining: 2.28s\n",
      "679:\tlearn: 0.3997274\ttotal: 4.84s\tremaining: 2.28s\n",
      "680:\tlearn: 0.3997274\ttotal: 4.85s\tremaining: 2.27s\n",
      "681:\tlearn: 0.3997274\ttotal: 4.86s\tremaining: 2.26s\n",
      "682:\tlearn: 0.3997273\ttotal: 4.86s\tremaining: 2.26s\n",
      "683:\tlearn: 0.3997273\ttotal: 4.88s\tremaining: 2.25s\n",
      "684:\tlearn: 0.3997272\ttotal: 4.88s\tremaining: 2.25s\n",
      "685:\tlearn: 0.3997272\ttotal: 4.89s\tremaining: 2.24s\n",
      "686:\tlearn: 0.3997272\ttotal: 4.9s\tremaining: 2.23s\n",
      "687:\tlearn: 0.3997271\ttotal: 4.91s\tremaining: 2.23s\n",
      "688:\tlearn: 0.3997271\ttotal: 4.92s\tremaining: 2.22s\n",
      "689:\tlearn: 0.3997271\ttotal: 4.93s\tremaining: 2.21s\n",
      "690:\tlearn: 0.3997270\ttotal: 4.94s\tremaining: 2.21s\n",
      "691:\tlearn: 0.3997270\ttotal: 4.95s\tremaining: 2.2s\n",
      "692:\tlearn: 0.3997270\ttotal: 4.96s\tremaining: 2.19s\n",
      "693:\tlearn: 0.3997269\ttotal: 4.96s\tremaining: 2.19s\n",
      "694:\tlearn: 0.3997269\ttotal: 4.97s\tremaining: 2.18s\n",
      "695:\tlearn: 0.3997268\ttotal: 4.98s\tremaining: 2.17s\n",
      "696:\tlearn: 0.3997268\ttotal: 4.99s\tremaining: 2.17s\n",
      "697:\tlearn: 0.3997268\ttotal: 5s\tremaining: 2.16s\n",
      "698:\tlearn: 0.3997268\ttotal: 5.01s\tremaining: 2.16s\n",
      "699:\tlearn: 0.3997267\ttotal: 5.02s\tremaining: 2.15s\n",
      "700:\tlearn: 0.3997267\ttotal: 5.03s\tremaining: 2.14s\n",
      "701:\tlearn: 0.3997266\ttotal: 5.04s\tremaining: 2.14s\n",
      "702:\tlearn: 0.3997266\ttotal: 5.04s\tremaining: 2.13s\n",
      "703:\tlearn: 0.3997266\ttotal: 5.05s\tremaining: 2.12s\n",
      "704:\tlearn: 0.3997266\ttotal: 5.06s\tremaining: 2.12s\n",
      "705:\tlearn: 0.3997266\ttotal: 5.07s\tremaining: 2.11s\n",
      "706:\tlearn: 0.3997265\ttotal: 5.07s\tremaining: 2.1s\n",
      "707:\tlearn: 0.3997265\ttotal: 5.08s\tremaining: 2.1s\n",
      "708:\tlearn: 0.3997265\ttotal: 5.09s\tremaining: 2.09s\n",
      "709:\tlearn: 0.3997264\ttotal: 5.1s\tremaining: 2.08s\n"
     ]
    },
    {
     "name": "stdout",
     "output_type": "stream",
     "text": [
      "710:\tlearn: 0.3997264\ttotal: 5.11s\tremaining: 2.08s\n",
      "711:\tlearn: 0.3997264\ttotal: 5.11s\tremaining: 2.07s\n",
      "712:\tlearn: 0.3997263\ttotal: 5.12s\tremaining: 2.06s\n",
      "713:\tlearn: 0.3997263\ttotal: 5.13s\tremaining: 2.05s\n",
      "714:\tlearn: 0.3997263\ttotal: 5.14s\tremaining: 2.05s\n",
      "715:\tlearn: 0.3997262\ttotal: 5.15s\tremaining: 2.04s\n",
      "716:\tlearn: 0.3997262\ttotal: 5.15s\tremaining: 2.03s\n",
      "717:\tlearn: 0.3997262\ttotal: 5.16s\tremaining: 2.03s\n",
      "718:\tlearn: 0.3997261\ttotal: 5.17s\tremaining: 2.02s\n",
      "719:\tlearn: 0.3997261\ttotal: 5.17s\tremaining: 2.01s\n",
      "720:\tlearn: 0.3997261\ttotal: 5.18s\tremaining: 2s\n",
      "721:\tlearn: 0.3997260\ttotal: 5.19s\tremaining: 2s\n",
      "722:\tlearn: 0.3997260\ttotal: 5.2s\tremaining: 1.99s\n",
      "723:\tlearn: 0.3997259\ttotal: 5.21s\tremaining: 1.98s\n",
      "724:\tlearn: 0.3997260\ttotal: 5.21s\tremaining: 1.98s\n",
      "725:\tlearn: 0.3997259\ttotal: 5.22s\tremaining: 1.97s\n",
      "726:\tlearn: 0.3997259\ttotal: 5.23s\tremaining: 1.96s\n",
      "727:\tlearn: 0.3997258\ttotal: 5.24s\tremaining: 1.96s\n",
      "728:\tlearn: 0.3997258\ttotal: 5.24s\tremaining: 1.95s\n",
      "729:\tlearn: 0.3997258\ttotal: 5.25s\tremaining: 1.94s\n",
      "730:\tlearn: 0.3997258\ttotal: 5.26s\tremaining: 1.94s\n",
      "731:\tlearn: 0.3997257\ttotal: 5.27s\tremaining: 1.93s\n",
      "732:\tlearn: 0.3997257\ttotal: 5.28s\tremaining: 1.92s\n",
      "733:\tlearn: 0.3997257\ttotal: 5.29s\tremaining: 1.92s\n",
      "734:\tlearn: 0.3997257\ttotal: 5.29s\tremaining: 1.91s\n",
      "735:\tlearn: 0.3997256\ttotal: 5.3s\tremaining: 1.9s\n",
      "736:\tlearn: 0.3997256\ttotal: 5.31s\tremaining: 1.9s\n",
      "737:\tlearn: 0.3997256\ttotal: 5.32s\tremaining: 1.89s\n",
      "738:\tlearn: 0.3997256\ttotal: 5.33s\tremaining: 1.88s\n",
      "739:\tlearn: 0.3997255\ttotal: 5.34s\tremaining: 1.88s\n",
      "740:\tlearn: 0.3997255\ttotal: 5.35s\tremaining: 1.87s\n",
      "741:\tlearn: 0.3997255\ttotal: 5.36s\tremaining: 1.86s\n",
      "742:\tlearn: 0.3997254\ttotal: 5.36s\tremaining: 1.85s\n",
      "743:\tlearn: 0.3997254\ttotal: 5.37s\tremaining: 1.85s\n",
      "744:\tlearn: 0.3997254\ttotal: 5.38s\tremaining: 1.84s\n",
      "745:\tlearn: 0.3997253\ttotal: 5.39s\tremaining: 1.83s\n",
      "746:\tlearn: 0.3997253\ttotal: 5.4s\tremaining: 1.83s\n",
      "747:\tlearn: 0.3997253\ttotal: 5.4s\tremaining: 1.82s\n",
      "748:\tlearn: 0.3997253\ttotal: 5.41s\tremaining: 1.81s\n",
      "749:\tlearn: 0.3997252\ttotal: 5.42s\tremaining: 1.81s\n",
      "750:\tlearn: 0.3997252\ttotal: 5.43s\tremaining: 1.8s\n",
      "751:\tlearn: 0.3997252\ttotal: 5.44s\tremaining: 1.79s\n",
      "752:\tlearn: 0.3997251\ttotal: 5.44s\tremaining: 1.79s\n",
      "753:\tlearn: 0.3997251\ttotal: 5.45s\tremaining: 1.78s\n",
      "754:\tlearn: 0.3997251\ttotal: 5.46s\tremaining: 1.77s\n",
      "755:\tlearn: 0.3997251\ttotal: 5.47s\tremaining: 1.76s\n",
      "756:\tlearn: 0.3997250\ttotal: 5.48s\tremaining: 1.76s\n",
      "757:\tlearn: 0.3997250\ttotal: 5.49s\tremaining: 1.75s\n",
      "758:\tlearn: 0.3997250\ttotal: 5.5s\tremaining: 1.75s\n",
      "759:\tlearn: 0.3997250\ttotal: 5.5s\tremaining: 1.74s\n",
      "760:\tlearn: 0.3997249\ttotal: 5.52s\tremaining: 1.73s\n",
      "761:\tlearn: 0.3997249\ttotal: 5.53s\tremaining: 1.73s\n",
      "762:\tlearn: 0.3997249\ttotal: 5.54s\tremaining: 1.72s\n",
      "763:\tlearn: 0.3997248\ttotal: 5.54s\tremaining: 1.71s\n",
      "764:\tlearn: 0.3997248\ttotal: 5.55s\tremaining: 1.7s\n",
      "765:\tlearn: 0.3997248\ttotal: 5.56s\tremaining: 1.7s\n",
      "766:\tlearn: 0.3997248\ttotal: 5.57s\tremaining: 1.69s\n",
      "767:\tlearn: 0.3997247\ttotal: 5.58s\tremaining: 1.68s\n",
      "768:\tlearn: 0.3997247\ttotal: 5.58s\tremaining: 1.68s\n",
      "769:\tlearn: 0.3997247\ttotal: 5.59s\tremaining: 1.67s\n",
      "770:\tlearn: 0.3997246\ttotal: 5.6s\tremaining: 1.66s\n",
      "771:\tlearn: 0.3997246\ttotal: 5.62s\tremaining: 1.66s\n",
      "772:\tlearn: 0.3997246\ttotal: 5.63s\tremaining: 1.65s\n",
      "773:\tlearn: 0.3997246\ttotal: 5.63s\tremaining: 1.65s\n",
      "774:\tlearn: 0.3997245\ttotal: 5.64s\tremaining: 1.64s\n",
      "775:\tlearn: 0.3997245\ttotal: 5.65s\tremaining: 1.63s\n",
      "776:\tlearn: 0.3997245\ttotal: 5.66s\tremaining: 1.62s\n",
      "777:\tlearn: 0.3997244\ttotal: 5.67s\tremaining: 1.62s\n",
      "778:\tlearn: 0.3997244\ttotal: 5.67s\tremaining: 1.61s\n",
      "779:\tlearn: 0.3997244\ttotal: 5.68s\tremaining: 1.6s\n",
      "780:\tlearn: 0.3997244\ttotal: 5.69s\tremaining: 1.6s\n",
      "781:\tlearn: 0.3997243\ttotal: 5.7s\tremaining: 1.59s\n",
      "782:\tlearn: 0.3997243\ttotal: 5.71s\tremaining: 1.58s\n",
      "783:\tlearn: 0.3997243\ttotal: 5.72s\tremaining: 1.57s\n",
      "784:\tlearn: 0.3997242\ttotal: 5.73s\tremaining: 1.57s\n",
      "785:\tlearn: 0.3997242\ttotal: 5.73s\tremaining: 1.56s\n",
      "786:\tlearn: 0.3997242\ttotal: 5.74s\tremaining: 1.55s\n",
      "787:\tlearn: 0.3997242\ttotal: 5.75s\tremaining: 1.55s\n",
      "788:\tlearn: 0.3997242\ttotal: 5.76s\tremaining: 1.54s\n",
      "789:\tlearn: 0.3997241\ttotal: 5.77s\tremaining: 1.53s\n",
      "790:\tlearn: 0.3997241\ttotal: 5.77s\tremaining: 1.52s\n",
      "791:\tlearn: 0.3997241\ttotal: 5.78s\tremaining: 1.52s\n",
      "792:\tlearn: 0.3997241\ttotal: 5.79s\tremaining: 1.51s\n",
      "793:\tlearn: 0.3997240\ttotal: 5.8s\tremaining: 1.5s\n",
      "794:\tlearn: 0.3997240\ttotal: 5.81s\tremaining: 1.5s\n",
      "795:\tlearn: 0.3997240\ttotal: 5.82s\tremaining: 1.49s\n",
      "796:\tlearn: 0.3997240\ttotal: 5.83s\tremaining: 1.48s\n",
      "797:\tlearn: 0.3997240\ttotal: 5.83s\tremaining: 1.48s\n",
      "798:\tlearn: 0.3997239\ttotal: 5.84s\tremaining: 1.47s\n",
      "799:\tlearn: 0.3997239\ttotal: 5.85s\tremaining: 1.46s\n",
      "800:\tlearn: 0.3997239\ttotal: 5.86s\tremaining: 1.46s\n",
      "801:\tlearn: 0.3997239\ttotal: 5.87s\tremaining: 1.45s\n",
      "802:\tlearn: 0.3997239\ttotal: 5.88s\tremaining: 1.44s\n",
      "803:\tlearn: 0.3997238\ttotal: 5.88s\tremaining: 1.43s\n",
      "804:\tlearn: 0.3997238\ttotal: 5.89s\tremaining: 1.43s\n",
      "805:\tlearn: 0.3997238\ttotal: 5.9s\tremaining: 1.42s\n",
      "806:\tlearn: 0.3997238\ttotal: 5.91s\tremaining: 1.41s\n",
      "807:\tlearn: 0.3997237\ttotal: 5.92s\tremaining: 1.41s\n",
      "808:\tlearn: 0.3997237\ttotal: 5.92s\tremaining: 1.4s\n",
      "809:\tlearn: 0.3997237\ttotal: 5.93s\tremaining: 1.39s\n",
      "810:\tlearn: 0.3997236\ttotal: 5.94s\tremaining: 1.39s\n",
      "811:\tlearn: 0.3997236\ttotal: 5.95s\tremaining: 1.38s\n",
      "812:\tlearn: 0.3997236\ttotal: 5.96s\tremaining: 1.37s\n",
      "813:\tlearn: 0.3997236\ttotal: 5.97s\tremaining: 1.36s\n",
      "814:\tlearn: 0.3997235\ttotal: 5.98s\tremaining: 1.36s\n",
      "815:\tlearn: 0.3997235\ttotal: 5.99s\tremaining: 1.35s\n",
      "816:\tlearn: 0.3997235\ttotal: 6s\tremaining: 1.34s\n",
      "817:\tlearn: 0.3997235\ttotal: 6.01s\tremaining: 1.34s\n",
      "818:\tlearn: 0.3997235\ttotal: 6.01s\tremaining: 1.33s\n",
      "819:\tlearn: 0.3997234\ttotal: 6.02s\tremaining: 1.32s\n",
      "820:\tlearn: 0.3997234\ttotal: 6.03s\tremaining: 1.31s\n",
      "821:\tlearn: 0.3997234\ttotal: 6.04s\tremaining: 1.31s\n",
      "822:\tlearn: 0.3997234\ttotal: 6.05s\tremaining: 1.3s\n",
      "823:\tlearn: 0.3997233\ttotal: 6.06s\tremaining: 1.29s\n",
      "824:\tlearn: 0.3997233\ttotal: 6.07s\tremaining: 1.29s\n",
      "825:\tlearn: 0.3997233\ttotal: 6.08s\tremaining: 1.28s\n",
      "826:\tlearn: 0.3997233\ttotal: 6.08s\tremaining: 1.27s\n",
      "827:\tlearn: 0.3997232\ttotal: 6.09s\tremaining: 1.26s\n",
      "828:\tlearn: 0.3997232\ttotal: 6.1s\tremaining: 1.26s\n",
      "829:\tlearn: 0.3997232\ttotal: 6.12s\tremaining: 1.25s\n",
      "830:\tlearn: 0.3997232\ttotal: 6.13s\tremaining: 1.25s\n",
      "831:\tlearn: 0.3997232\ttotal: 6.14s\tremaining: 1.24s\n",
      "832:\tlearn: 0.3997231\ttotal: 6.15s\tremaining: 1.23s\n",
      "833:\tlearn: 0.3997232\ttotal: 6.17s\tremaining: 1.23s\n",
      "834:\tlearn: 0.3997231\ttotal: 6.18s\tremaining: 1.22s\n",
      "835:\tlearn: 0.3997231\ttotal: 6.19s\tremaining: 1.21s\n",
      "836:\tlearn: 0.3997230\ttotal: 6.2s\tremaining: 1.21s\n",
      "837:\tlearn: 0.3997230\ttotal: 6.21s\tremaining: 1.2s\n",
      "838:\tlearn: 0.3997230\ttotal: 6.23s\tremaining: 1.19s\n",
      "839:\tlearn: 0.3997230\ttotal: 6.24s\tremaining: 1.19s\n",
      "840:\tlearn: 0.3997230\ttotal: 6.24s\tremaining: 1.18s\n",
      "841:\tlearn: 0.3997230\ttotal: 6.25s\tremaining: 1.17s\n",
      "842:\tlearn: 0.3997229\ttotal: 6.26s\tremaining: 1.17s\n",
      "843:\tlearn: 0.3997229\ttotal: 6.27s\tremaining: 1.16s\n",
      "844:\tlearn: 0.3997229\ttotal: 6.28s\tremaining: 1.15s\n",
      "845:\tlearn: 0.3997229\ttotal: 6.28s\tremaining: 1.14s\n",
      "846:\tlearn: 0.3997228\ttotal: 6.29s\tremaining: 1.14s\n",
      "847:\tlearn: 0.3997228\ttotal: 6.3s\tremaining: 1.13s\n",
      "848:\tlearn: 0.3997228\ttotal: 6.31s\tremaining: 1.12s\n",
      "849:\tlearn: 0.3997228\ttotal: 6.32s\tremaining: 1.11s\n",
      "850:\tlearn: 0.3997227\ttotal: 6.33s\tremaining: 1.11s\n",
      "851:\tlearn: 0.3997228\ttotal: 6.33s\tremaining: 1.1s\n",
      "852:\tlearn: 0.3997227\ttotal: 6.34s\tremaining: 1.09s\n",
      "853:\tlearn: 0.3997227\ttotal: 6.35s\tremaining: 1.08s\n",
      "854:\tlearn: 0.3997227\ttotal: 6.36s\tremaining: 1.08s\n",
      "855:\tlearn: 0.3997227\ttotal: 6.36s\tremaining: 1.07s\n",
      "856:\tlearn: 0.3997226\ttotal: 6.37s\tremaining: 1.06s\n",
      "857:\tlearn: 0.3997226\ttotal: 6.38s\tremaining: 1.05s\n",
      "858:\tlearn: 0.3997226\ttotal: 6.39s\tremaining: 1.05s\n",
      "859:\tlearn: 0.3997226\ttotal: 6.39s\tremaining: 1.04s\n",
      "860:\tlearn: 0.3997225\ttotal: 6.4s\tremaining: 1.03s\n",
      "861:\tlearn: 0.3997225\ttotal: 6.41s\tremaining: 1.03s\n",
      "862:\tlearn: 0.3997225\ttotal: 6.42s\tremaining: 1.02s\n",
      "863:\tlearn: 0.3997224\ttotal: 6.43s\tremaining: 1.01s\n",
      "864:\tlearn: 0.3997225\ttotal: 6.43s\tremaining: 1s\n",
      "865:\tlearn: 0.3997224\ttotal: 6.45s\tremaining: 998ms\n",
      "866:\tlearn: 0.3997224\ttotal: 6.46s\tremaining: 991ms\n",
      "867:\tlearn: 0.3997224\ttotal: 6.47s\tremaining: 983ms\n",
      "868:\tlearn: 0.3997224\ttotal: 6.47s\tremaining: 976ms\n",
      "869:\tlearn: 0.3997224\ttotal: 6.48s\tremaining: 969ms\n",
      "870:\tlearn: 0.3997223\ttotal: 6.49s\tremaining: 962ms\n",
      "871:\tlearn: 0.3997223\ttotal: 6.5s\tremaining: 955ms\n",
      "872:\tlearn: 0.3997223\ttotal: 6.51s\tremaining: 948ms\n",
      "873:\tlearn: 0.3997223\ttotal: 6.52s\tremaining: 940ms\n",
      "874:\tlearn: 0.3997222\ttotal: 6.53s\tremaining: 933ms\n",
      "875:\tlearn: 0.3997222\ttotal: 6.54s\tremaining: 926ms\n"
     ]
    },
    {
     "name": "stdout",
     "output_type": "stream",
     "text": [
      "876:\tlearn: 0.3997223\ttotal: 6.55s\tremaining: 918ms\n",
      "877:\tlearn: 0.3997222\ttotal: 6.56s\tremaining: 911ms\n",
      "878:\tlearn: 0.3997222\ttotal: 6.57s\tremaining: 904ms\n",
      "879:\tlearn: 0.3997222\ttotal: 6.57s\tremaining: 896ms\n",
      "880:\tlearn: 0.3997222\ttotal: 6.58s\tremaining: 889ms\n",
      "881:\tlearn: 0.3997221\ttotal: 6.59s\tremaining: 882ms\n",
      "882:\tlearn: 0.3997221\ttotal: 6.6s\tremaining: 874ms\n",
      "883:\tlearn: 0.3997221\ttotal: 6.61s\tremaining: 867ms\n",
      "884:\tlearn: 0.3997221\ttotal: 6.62s\tremaining: 860ms\n",
      "885:\tlearn: 0.3997221\ttotal: 6.63s\tremaining: 853ms\n",
      "886:\tlearn: 0.3997220\ttotal: 6.63s\tremaining: 845ms\n",
      "887:\tlearn: 0.3997220\ttotal: 6.64s\tremaining: 838ms\n",
      "888:\tlearn: 0.3997220\ttotal: 6.65s\tremaining: 830ms\n",
      "889:\tlearn: 0.3997219\ttotal: 6.66s\tremaining: 823ms\n",
      "890:\tlearn: 0.3997220\ttotal: 6.67s\tremaining: 816ms\n",
      "891:\tlearn: 0.3997219\ttotal: 6.68s\tremaining: 808ms\n",
      "892:\tlearn: 0.3997219\ttotal: 6.69s\tremaining: 801ms\n",
      "893:\tlearn: 0.3997219\ttotal: 6.7s\tremaining: 794ms\n",
      "894:\tlearn: 0.3997219\ttotal: 6.71s\tremaining: 787ms\n",
      "895:\tlearn: 0.3997218\ttotal: 6.72s\tremaining: 780ms\n",
      "896:\tlearn: 0.3997218\ttotal: 6.72s\tremaining: 772ms\n",
      "897:\tlearn: 0.3997218\ttotal: 6.73s\tremaining: 765ms\n",
      "898:\tlearn: 0.3997218\ttotal: 6.74s\tremaining: 757ms\n",
      "899:\tlearn: 0.3997218\ttotal: 6.75s\tremaining: 750ms\n",
      "900:\tlearn: 0.3997218\ttotal: 6.76s\tremaining: 742ms\n",
      "901:\tlearn: 0.3997217\ttotal: 6.76s\tremaining: 735ms\n",
      "902:\tlearn: 0.3997217\ttotal: 6.77s\tremaining: 727ms\n",
      "903:\tlearn: 0.3997217\ttotal: 6.78s\tremaining: 720ms\n",
      "904:\tlearn: 0.3997217\ttotal: 6.79s\tremaining: 712ms\n",
      "905:\tlearn: 0.3997217\ttotal: 6.79s\tremaining: 705ms\n",
      "906:\tlearn: 0.3997216\ttotal: 6.8s\tremaining: 697ms\n",
      "907:\tlearn: 0.3997216\ttotal: 6.81s\tremaining: 690ms\n",
      "908:\tlearn: 0.3997216\ttotal: 6.82s\tremaining: 682ms\n",
      "909:\tlearn: 0.3997216\ttotal: 6.82s\tremaining: 675ms\n",
      "910:\tlearn: 0.3997215\ttotal: 6.83s\tremaining: 667ms\n",
      "911:\tlearn: 0.3997216\ttotal: 6.84s\tremaining: 660ms\n",
      "912:\tlearn: 0.3997215\ttotal: 6.85s\tremaining: 652ms\n",
      "913:\tlearn: 0.3997215\ttotal: 6.85s\tremaining: 645ms\n",
      "914:\tlearn: 0.3997215\ttotal: 6.86s\tremaining: 637ms\n",
      "915:\tlearn: 0.3997215\ttotal: 6.87s\tremaining: 630ms\n",
      "916:\tlearn: 0.3997215\ttotal: 6.88s\tremaining: 622ms\n",
      "917:\tlearn: 0.3997214\ttotal: 6.88s\tremaining: 615ms\n",
      "918:\tlearn: 0.3997215\ttotal: 6.89s\tremaining: 607ms\n",
      "919:\tlearn: 0.3997214\ttotal: 6.9s\tremaining: 600ms\n",
      "920:\tlearn: 0.3997214\ttotal: 6.91s\tremaining: 593ms\n",
      "921:\tlearn: 0.3997214\ttotal: 6.91s\tremaining: 585ms\n",
      "922:\tlearn: 0.3997213\ttotal: 6.92s\tremaining: 577ms\n",
      "923:\tlearn: 0.3997213\ttotal: 6.93s\tremaining: 570ms\n",
      "924:\tlearn: 0.3997214\ttotal: 6.94s\tremaining: 563ms\n",
      "925:\tlearn: 0.3997213\ttotal: 6.95s\tremaining: 555ms\n",
      "926:\tlearn: 0.3997213\ttotal: 6.96s\tremaining: 548ms\n",
      "927:\tlearn: 0.3997213\ttotal: 6.96s\tremaining: 540ms\n",
      "928:\tlearn: 0.3997213\ttotal: 6.97s\tremaining: 533ms\n",
      "929:\tlearn: 0.3997212\ttotal: 6.98s\tremaining: 525ms\n",
      "930:\tlearn: 0.3997213\ttotal: 6.99s\tremaining: 518ms\n",
      "931:\tlearn: 0.3997212\ttotal: 7s\tremaining: 511ms\n",
      "932:\tlearn: 0.3997212\ttotal: 7s\tremaining: 503ms\n",
      "933:\tlearn: 0.3997211\ttotal: 7.01s\tremaining: 496ms\n",
      "934:\tlearn: 0.3997211\ttotal: 7.02s\tremaining: 488ms\n",
      "935:\tlearn: 0.3997211\ttotal: 7.03s\tremaining: 480ms\n",
      "936:\tlearn: 0.3997211\ttotal: 7.03s\tremaining: 473ms\n",
      "937:\tlearn: 0.3997211\ttotal: 7.04s\tremaining: 466ms\n",
      "938:\tlearn: 0.3997211\ttotal: 7.05s\tremaining: 458ms\n",
      "939:\tlearn: 0.3997211\ttotal: 7.06s\tremaining: 451ms\n",
      "940:\tlearn: 0.3997210\ttotal: 7.07s\tremaining: 443ms\n",
      "941:\tlearn: 0.3997210\ttotal: 7.08s\tremaining: 436ms\n",
      "942:\tlearn: 0.3997210\ttotal: 7.08s\tremaining: 428ms\n",
      "943:\tlearn: 0.3997210\ttotal: 7.09s\tremaining: 421ms\n",
      "944:\tlearn: 0.3997210\ttotal: 7.1s\tremaining: 413ms\n",
      "945:\tlearn: 0.3997210\ttotal: 7.11s\tremaining: 406ms\n",
      "946:\tlearn: 0.3997209\ttotal: 7.12s\tremaining: 398ms\n",
      "947:\tlearn: 0.3997210\ttotal: 7.12s\tremaining: 391ms\n",
      "948:\tlearn: 0.3997209\ttotal: 7.13s\tremaining: 383ms\n",
      "949:\tlearn: 0.3997209\ttotal: 7.14s\tremaining: 376ms\n",
      "950:\tlearn: 0.3997209\ttotal: 7.15s\tremaining: 368ms\n",
      "951:\tlearn: 0.3997209\ttotal: 7.15s\tremaining: 361ms\n",
      "952:\tlearn: 0.3997208\ttotal: 7.16s\tremaining: 353ms\n",
      "953:\tlearn: 0.3997208\ttotal: 7.17s\tremaining: 346ms\n",
      "954:\tlearn: 0.3997208\ttotal: 7.17s\tremaining: 338ms\n",
      "955:\tlearn: 0.3997208\ttotal: 7.18s\tremaining: 331ms\n",
      "956:\tlearn: 0.3997208\ttotal: 7.19s\tremaining: 323ms\n",
      "957:\tlearn: 0.3997208\ttotal: 7.2s\tremaining: 316ms\n",
      "958:\tlearn: 0.3997207\ttotal: 7.21s\tremaining: 308ms\n",
      "959:\tlearn: 0.3997207\ttotal: 7.22s\tremaining: 301ms\n",
      "960:\tlearn: 0.3997207\ttotal: 7.22s\tremaining: 293ms\n",
      "961:\tlearn: 0.3997207\ttotal: 7.23s\tremaining: 286ms\n",
      "962:\tlearn: 0.3997207\ttotal: 7.24s\tremaining: 278ms\n",
      "963:\tlearn: 0.3997206\ttotal: 7.25s\tremaining: 271ms\n",
      "964:\tlearn: 0.3997206\ttotal: 7.25s\tremaining: 263ms\n",
      "965:\tlearn: 0.3997206\ttotal: 7.26s\tremaining: 256ms\n",
      "966:\tlearn: 0.3997206\ttotal: 7.27s\tremaining: 248ms\n",
      "967:\tlearn: 0.3997206\ttotal: 7.28s\tremaining: 241ms\n",
      "968:\tlearn: 0.3997206\ttotal: 7.29s\tremaining: 233ms\n",
      "969:\tlearn: 0.3997206\ttotal: 7.3s\tremaining: 226ms\n",
      "970:\tlearn: 0.3997205\ttotal: 7.31s\tremaining: 218ms\n",
      "971:\tlearn: 0.3997206\ttotal: 7.32s\tremaining: 211ms\n",
      "972:\tlearn: 0.3997205\ttotal: 7.32s\tremaining: 203ms\n",
      "973:\tlearn: 0.3997205\ttotal: 7.33s\tremaining: 196ms\n",
      "974:\tlearn: 0.3997205\ttotal: 7.34s\tremaining: 188ms\n",
      "975:\tlearn: 0.3997205\ttotal: 7.34s\tremaining: 181ms\n",
      "976:\tlearn: 0.3997205\ttotal: 7.35s\tremaining: 173ms\n",
      "977:\tlearn: 0.3997205\ttotal: 7.36s\tremaining: 166ms\n",
      "978:\tlearn: 0.3997204\ttotal: 7.37s\tremaining: 158ms\n",
      "979:\tlearn: 0.3997204\ttotal: 7.38s\tremaining: 151ms\n",
      "980:\tlearn: 0.3997204\ttotal: 7.38s\tremaining: 143ms\n",
      "981:\tlearn: 0.3997204\ttotal: 7.39s\tremaining: 136ms\n",
      "982:\tlearn: 0.3997204\ttotal: 7.4s\tremaining: 128ms\n",
      "983:\tlearn: 0.3997204\ttotal: 7.41s\tremaining: 121ms\n",
      "984:\tlearn: 0.3997203\ttotal: 7.42s\tremaining: 113ms\n",
      "985:\tlearn: 0.3997203\ttotal: 7.42s\tremaining: 105ms\n",
      "986:\tlearn: 0.3997203\ttotal: 7.43s\tremaining: 97.9ms\n",
      "987:\tlearn: 0.3997203\ttotal: 7.44s\tremaining: 90.4ms\n",
      "988:\tlearn: 0.3997203\ttotal: 7.45s\tremaining: 82.8ms\n",
      "989:\tlearn: 0.3997202\ttotal: 7.46s\tremaining: 75.3ms\n",
      "990:\tlearn: 0.3997203\ttotal: 7.46s\tremaining: 67.8ms\n",
      "991:\tlearn: 0.3997203\ttotal: 7.48s\tremaining: 60.3ms\n",
      "992:\tlearn: 0.3997202\ttotal: 7.49s\tremaining: 52.8ms\n",
      "993:\tlearn: 0.3997202\ttotal: 7.49s\tremaining: 45.2ms\n",
      "994:\tlearn: 0.3997202\ttotal: 7.5s\tremaining: 37.7ms\n",
      "995:\tlearn: 0.3997202\ttotal: 7.51s\tremaining: 30.2ms\n",
      "996:\tlearn: 0.3997201\ttotal: 7.51s\tremaining: 22.6ms\n",
      "997:\tlearn: 0.3997201\ttotal: 7.53s\tremaining: 15.1ms\n",
      "998:\tlearn: 0.3997201\ttotal: 7.54s\tremaining: 7.54ms\n",
      "999:\tlearn: 0.3997201\ttotal: 7.54s\tremaining: 0us\n",
      "Stacking ensemble (ML+DNN): 3806\n",
      "[1]Accuracy : 89.41145559642669\n",
      "[1]F1score : 0.8441314562203914\n",
      "[1]Precision : 0.7994408391871782\n",
      "[1]Recall : 0.8941145559642669\n",
      "\n"
     ]
    },
    {
     "name": "stderr",
     "output_type": "stream",
     "text": [
      "C:\\Users\\jaemin\\Anaconda3\\envs\\jm\\lib\\site-packages\\sklearn\\metrics\\_classification.py:1318: UndefinedMetricWarning: Precision and F-score are ill-defined and being set to 0.0 in labels with no predicted samples. Use `zero_division` parameter to control this behavior.\n",
      "  _warn_prf(average, modifier, msg_start, len(result))\n"
     ]
    },
    {
     "data": {
      "image/png": "[encoded data removed]",
      "text/plain": [
       "<Figure size 640x480 with 2 Axes>"
      ]
     },
     "metadata": {},
     "output_type": "display_data"
    },
    {
     "name": "stderr",
     "output_type": "stream",
     "text": [
      "100%|████████████████████████████████████████████████████████████████████████████████████| 4/4 [00:00<00:00,  7.41it/s]\n"
     ]
    },
    {
     "name": "stdout",
     "output_type": "stream",
     "text": [
      "[INFO] val_acc has been improved from 9999999999999.00000 to 0.40437. Saving Model!\n",
      "epoch 01, loss: 0.39204, acc: 0.89460, val_loss: 0.40437, val_accuracy: 0.89411\n"
     ]
    },
    {
     "name": "stderr",
     "output_type": "stream",
     "text": [
      "100%|████████████████████████████████████████████████████████████████████████████████████| 4/4 [00:00<00:00,  6.33it/s]\n"
     ]
    },
    {
     "name": "stdout",
     "output_type": "stream",
     "text": [
      "epoch 02, loss: 0.39157, acc: 0.89462, val_loss: 0.40528, val_accuracy: 0.89411\n"
     ]
    },
    {
     "name": "stderr",
     "output_type": "stream",
     "text": [
      "100%|████████████████████████████████████████████████████████████████████████████████████| 4/4 [00:00<00:00,  7.00it/s]\n"
     ]
    },
    {
     "name": "stdout",
     "output_type": "stream",
     "text": [
      "epoch 03, loss: 0.39114, acc: 0.89471, val_loss: 0.40664, val_accuracy: 0.89411\n"
     ]
    },
    {
     "name": "stderr",
     "output_type": "stream",
     "text": [
      "100%|████████████████████████████████████████████████████████████████████████████████████| 4/4 [00:00<00:00,  7.78it/s]\n"
     ]
    },
    {
     "name": "stdout",
     "output_type": "stream",
     "text": [
      "epoch 04, loss: 0.39108, acc: 0.89471, val_loss: 0.40722, val_accuracy: 0.89411\n"
     ]
    },
    {
     "name": "stderr",
     "output_type": "stream",
     "text": [
      "100%|████████████████████████████████████████████████████████████████████████████████████| 4/4 [00:00<00:00,  8.33it/s]\n"
     ]
    },
    {
     "name": "stdout",
     "output_type": "stream",
     "text": [
      "epoch 05, loss: 0.39078, acc: 0.89468, val_loss: 0.40786, val_accuracy: 0.89411\n"
     ]
    },
    {
     "name": "stderr",
     "output_type": "stream",
     "text": [
      "100%|████████████████████████████████████████████████████████████████████████████████████| 4/4 [00:00<00:00,  7.45it/s]\n"
     ]
    },
    {
     "name": "stdout",
     "output_type": "stream",
     "text": [
      "epoch 06, loss: 0.39053, acc: 0.89468, val_loss: 0.40857, val_accuracy: 0.89411\n"
     ]
    },
    {
     "name": "stderr",
     "output_type": "stream",
     "text": [
      "100%|████████████████████████████████████████████████████████████████████████████████████| 4/4 [00:00<00:00,  7.55it/s]\n"
     ]
    },
    {
     "name": "stdout",
     "output_type": "stream",
     "text": [
      "epoch 07, loss: 0.39022, acc: 0.89465, val_loss: 0.40926, val_accuracy: 0.89411\n"
     ]
    },
    {
     "name": "stderr",
     "output_type": "stream",
     "text": [
      "100%|████████████████████████████████████████████████████████████████████████████████████| 4/4 [00:00<00:00,  7.58it/s]\n"
     ]
    },
    {
     "name": "stdout",
     "output_type": "stream",
     "text": [
      "epoch 08, loss: 0.39004, acc: 0.89468, val_loss: 0.40961, val_accuracy: 0.89411\n"
     ]
    },
    {
     "name": "stderr",
     "output_type": "stream",
     "text": [
      "100%|████████████████████████████████████████████████████████████████████████████████████| 4/4 [00:00<00:00,  8.31it/s]\n"
     ]
    },
    {
     "name": "stdout",
     "output_type": "stream",
     "text": [
      "epoch 09, loss: 0.38985, acc: 0.89468, val_loss: 0.40971, val_accuracy: 0.89411\n"
     ]
    },
    {
     "name": "stderr",
     "output_type": "stream",
     "text": [
      "100%|████████████████████████████████████████████████████████████████████████████████████| 4/4 [00:00<00:00,  6.10it/s]\n"
     ]
    },
    {
     "name": "stdout",
     "output_type": "stream",
     "text": [
      "epoch 10, loss: 0.38960, acc: 0.89468, val_loss: 0.40989, val_accuracy: 0.89411\n"
     ]
    },
    {
     "name": "stderr",
     "output_type": "stream",
     "text": [
      "100%|████████████████████████████████████████████████████████████████████████████████████| 4/4 [00:00<00:00,  8.06it/s]\n"
     ]
    },
    {
     "name": "stdout",
     "output_type": "stream",
     "text": [
      "epoch 11, loss: 0.38934, acc: 0.89465, val_loss: 0.41019, val_accuracy: 0.89411\n"
     ]
    },
    {
     "name": "stderr",
     "output_type": "stream",
     "text": [
      "100%|████████████████████████████████████████████████████████████████████████████████████| 4/4 [00:00<00:00,  8.56it/s]\n"
     ]
    },
    {
     "name": "stdout",
     "output_type": "stream",
     "text": [
      "epoch 12, loss: 0.38911, acc: 0.89468, val_loss: 0.41048, val_accuracy: 0.89411\n"
     ]
    },
    {
     "name": "stderr",
     "output_type": "stream",
     "text": [
      "100%|████████████████████████████████████████████████████████████████████████████████████| 4/4 [00:00<00:00,  8.20it/s]\n"
     ]
    },
    {
     "name": "stdout",
     "output_type": "stream",
     "text": [
      "epoch 13, loss: 0.38890, acc: 0.89468, val_loss: 0.41069, val_accuracy: 0.89411\n"
     ]
    },
    {
     "name": "stderr",
     "output_type": "stream",
     "text": [
      "100%|████████████████████████████████████████████████████████████████████████████████████| 4/4 [00:00<00:00,  7.90it/s]\n"
     ]
    },
    {
     "name": "stdout",
     "output_type": "stream",
     "text": [
      "epoch 14, loss: 0.38866, acc: 0.89468, val_loss: 0.41092, val_accuracy: 0.89411\n"
     ]
    },
    {
     "name": "stderr",
     "output_type": "stream",
     "text": [
      "100%|████████████████████████████████████████████████████████████████████████████████████| 4/4 [00:00<00:00,  8.51it/s]\n"
     ]
    },
    {
     "name": "stdout",
     "output_type": "stream",
     "text": [
      "epoch 15, loss: 0.38841, acc: 0.89468, val_loss: 0.41123, val_accuracy: 0.89411\n"
     ]
    },
    {
     "name": "stderr",
     "output_type": "stream",
     "text": [
      "100%|████████████████████████████████████████████████████████████████████████████████████| 4/4 [00:00<00:00,  7.80it/s]\n"
     ]
    },
    {
     "name": "stdout",
     "output_type": "stream",
     "text": [
      "epoch 16, loss: 0.38817, acc: 0.89468, val_loss: 0.41157, val_accuracy: 0.89411\n"
     ]
    },
    {
     "name": "stderr",
     "output_type": "stream",
     "text": [
      "100%|████████████████████████████████████████████████████████████████████████████████████| 4/4 [00:00<00:00,  6.28it/s]\n"
     ]
    },
    {
     "name": "stdout",
     "output_type": "stream",
     "text": [
      "epoch 17, loss: 0.38795, acc: 0.89468, val_loss: 0.41187, val_accuracy: 0.89411\n"
     ]
    },
    {
     "name": "stderr",
     "output_type": "stream",
     "text": [
      "100%|████████████████████████████████████████████████████████████████████████████████████| 4/4 [00:00<00:00,  8.19it/s]\n"
     ]
    },
    {
     "name": "stdout",
     "output_type": "stream",
     "text": [
      "epoch 18, loss: 0.38772, acc: 0.89468, val_loss: 0.41215, val_accuracy: 0.89411\n"
     ]
    },
    {
     "name": "stderr",
     "output_type": "stream",
     "text": [
      "100%|████████████████████████████████████████████████████████████████████████████████████| 4/4 [00:00<00:00,  8.13it/s]\n"
     ]
    },
    {
     "name": "stdout",
     "output_type": "stream",
     "text": [
      "epoch 19, loss: 0.38749, acc: 0.89468, val_loss: 0.41245, val_accuracy: 0.89411\n"
     ]
    },
    {
     "name": "stderr",
     "output_type": "stream",
     "text": [
      "100%|████████████████████████████████████████████████████████████████████████████████████| 4/4 [00:00<00:00,  6.32it/s]\n"
     ]
    },
    {
     "name": "stdout",
     "output_type": "stream",
     "text": [
      "epoch 20, loss: 0.38726, acc: 0.89471, val_loss: 0.41278, val_accuracy: 0.89411\n"
     ]
    },
    {
     "name": "stderr",
     "output_type": "stream",
     "text": [
      "100%|████████████████████████████████████████████████████████████████████████████████████| 4/4 [00:00<00:00,  7.71it/s]\n"
     ]
    },
    {
     "name": "stdout",
     "output_type": "stream",
     "text": [
      "epoch 21, loss: 0.38703, acc: 0.89471, val_loss: 0.41312, val_accuracy: 0.89411\n"
     ]
    },
    {
     "name": "stderr",
     "output_type": "stream",
     "text": [
      "100%|████████████████████████████████████████████████████████████████████████████████████| 4/4 [00:00<00:00,  8.38it/s]\n"
     ]
    },
    {
     "name": "stdout",
     "output_type": "stream",
     "text": [
      "epoch 22, loss: 0.38681, acc: 0.89474, val_loss: 0.41342, val_accuracy: 0.89411\n"
     ]
    },
    {
     "name": "stderr",
     "output_type": "stream",
     "text": [
      "100%|████████████████████████████████████████████████████████████████████████████████████| 4/4 [00:00<00:00,  7.66it/s]\n"
     ]
    },
    {
     "name": "stdout",
     "output_type": "stream",
     "text": [
      "epoch 23, loss: 0.38658, acc: 0.89474, val_loss: 0.41373, val_accuracy: 0.89411\n"
     ]
    },
    {
     "name": "stderr",
     "output_type": "stream",
     "text": [
      "100%|████████████████████████████████████████████████████████████████████████████████████| 4/4 [00:00<00:00,  8.93it/s]\n"
     ]
    },
    {
     "name": "stdout",
     "output_type": "stream",
     "text": [
      "epoch 24, loss: 0.38636, acc: 0.89474, val_loss: 0.41404, val_accuracy: 0.89411\n"
     ]
    },
    {
     "name": "stderr",
     "output_type": "stream",
     "text": [
      "100%|████████████████████████████████████████████████████████████████████████████████████| 4/4 [00:00<00:00,  8.95it/s]\n"
     ]
    },
    {
     "name": "stdout",
     "output_type": "stream",
     "text": [
      "epoch 25, loss: 0.38613, acc: 0.89474, val_loss: 0.41440, val_accuracy: 0.89411\n"
     ]
    },
    {
     "name": "stderr",
     "output_type": "stream",
     "text": [
      "100%|████████████████████████████████████████████████████████████████████████████████████| 4/4 [00:00<00:00,  9.06it/s]\n"
     ]
    },
    {
     "name": "stdout",
     "output_type": "stream",
     "text": [
      "epoch 26, loss: 0.38590, acc: 0.89474, val_loss: 0.41475, val_accuracy: 0.89411\n"
     ]
    },
    {
     "name": "stderr",
     "output_type": "stream",
     "text": [
      "100%|████████████████████████████████████████████████████████████████████████████████████| 4/4 [00:00<00:00,  6.59it/s]\n"
     ]
    },
    {
     "name": "stdout",
     "output_type": "stream",
     "text": [
      "epoch 27, loss: 0.38568, acc: 0.89474, val_loss: 0.41505, val_accuracy: 0.89411\n"
     ]
    },
    {
     "name": "stderr",
     "output_type": "stream",
     "text": [
      "100%|████████████████████████████████████████████████████████████████████████████████████| 4/4 [00:00<00:00,  8.44it/s]\n"
     ]
    },
    {
     "name": "stdout",
     "output_type": "stream",
     "text": [
      "epoch 28, loss: 0.38546, acc: 0.89474, val_loss: 0.41539, val_accuracy: 0.89411\n"
     ]
    },
    {
     "name": "stderr",
     "output_type": "stream",
     "text": [
      "100%|████████████████████████████████████████████████████████████████████████████████████| 4/4 [00:00<00:00,  8.54it/s]\n"
     ]
    },
    {
     "name": "stdout",
     "output_type": "stream",
     "text": [
      "epoch 29, loss: 0.38523, acc: 0.89474, val_loss: 0.41574, val_accuracy: 0.89411\n"
     ]
    },
    {
     "name": "stderr",
     "output_type": "stream",
     "text": [
      "100%|████████████████████████████████████████████████████████████████████████████████████| 4/4 [00:00<00:00,  6.19it/s]\n"
     ]
    },
    {
     "name": "stdout",
     "output_type": "stream",
     "text": [
      "epoch 30, loss: 0.38502, acc: 0.89471, val_loss: 0.41612, val_accuracy: 0.89411\n"
     ]
    },
    {
     "name": "stderr",
     "output_type": "stream",
     "text": [
      "100%|████████████████████████████████████████████████████████████████████████████████████| 4/4 [00:00<00:00,  7.59it/s]\n"
     ]
    },
    {
     "name": "stdout",
     "output_type": "stream",
     "text": [
      "epoch 31, loss: 0.38480, acc: 0.89471, val_loss: 0.41647, val_accuracy: 0.89411\n"
     ]
    },
    {
     "name": "stderr",
     "output_type": "stream",
     "text": [
      "100%|████████████████████████████████████████████████████████████████████████████████████| 4/4 [00:00<00:00,  7.65it/s]\n"
     ]
    },
    {
     "name": "stdout",
     "output_type": "stream",
     "text": [
      "epoch 32, loss: 0.38458, acc: 0.89471, val_loss: 0.41680, val_accuracy: 0.89411\n"
     ]
    },
    {
     "name": "stderr",
     "output_type": "stream",
     "text": [
      "100%|████████████████████████████████████████████████████████████████████████████████████| 4/4 [00:00<00:00,  8.08it/s]\n"
     ]
    },
    {
     "name": "stdout",
     "output_type": "stream",
     "text": [
      "epoch 33, loss: 0.38436, acc: 0.89471, val_loss: 0.41713, val_accuracy: 0.89411\n"
     ]
    },
    {
     "name": "stderr",
     "output_type": "stream",
     "text": [
      "100%|████████████████████████████████████████████████████████████████████████████████████| 4/4 [00:00<00:00,  8.19it/s]\n"
     ]
    },
    {
     "name": "stdout",
     "output_type": "stream",
     "text": [
      "epoch 34, loss: 0.38413, acc: 0.89471, val_loss: 0.41743, val_accuracy: 0.89411\n"
     ]
    },
    {
     "name": "stderr",
     "output_type": "stream",
     "text": [
      "100%|████████████████████████████████████████████████████████████████████████████████████| 4/4 [00:00<00:00,  7.50it/s]\n"
     ]
    },
    {
     "name": "stdout",
     "output_type": "stream",
     "text": [
      "epoch 35, loss: 0.38391, acc: 0.89471, val_loss: 0.41778, val_accuracy: 0.89411\n"
     ]
    },
    {
     "name": "stderr",
     "output_type": "stream",
     "text": [
      "100%|████████████████████████████████████████████████████████████████████████████████████| 4/4 [00:00<00:00,  8.21it/s]\n"
     ]
    },
    {
     "name": "stdout",
     "output_type": "stream",
     "text": [
      "epoch 36, loss: 0.38369, acc: 0.89471, val_loss: 0.41816, val_accuracy: 0.89411\n"
     ]
    },
    {
     "name": "stderr",
     "output_type": "stream",
     "text": [
      "100%|████████████████████████████████████████████████████████████████████████████████████| 4/4 [00:00<00:00,  8.19it/s]\n"
     ]
    },
    {
     "name": "stdout",
     "output_type": "stream",
     "text": [
      "epoch 37, loss: 0.38346, acc: 0.89471, val_loss: 0.41855, val_accuracy: 0.89411\n"
     ]
    },
    {
     "name": "stderr",
     "output_type": "stream",
     "text": [
      "100%|████████████████████████████████████████████████████████████████████████████████████| 4/4 [00:00<00:00,  6.24it/s]\n"
     ]
    },
    {
     "name": "stdout",
     "output_type": "stream",
     "text": [
      "epoch 38, loss: 0.38323, acc: 0.89471, val_loss: 0.41896, val_accuracy: 0.89411\n"
     ]
    },
    {
     "name": "stderr",
     "output_type": "stream",
     "text": [
      "100%|████████████████████████████████████████████████████████████████████████████████████| 4/4 [00:00<00:00,  8.03it/s]\n"
     ]
    },
    {
     "name": "stdout",
     "output_type": "stream",
     "text": [
      "epoch 39, loss: 0.38300, acc: 0.89471, val_loss: 0.41933, val_accuracy: 0.89411\n"
     ]
    },
    {
     "name": "stderr",
     "output_type": "stream",
     "text": [
      "100%|████████████████████████████████████████████████████████████████████████████████████| 4/4 [00:00<00:00,  7.77it/s]\n"
     ]
    },
    {
     "name": "stdout",
     "output_type": "stream",
     "text": [
      "epoch 40, loss: 0.38276, acc: 0.89471, val_loss: 0.41975, val_accuracy: 0.89411\n"
     ]
    },
    {
     "name": "stderr",
     "output_type": "stream",
     "text": [
      "100%|████████████████████████████████████████████████████████████████████████████████████| 4/4 [00:00<00:00,  7.07it/s]\n"
     ]
    },
    {
     "name": "stdout",
     "output_type": "stream",
     "text": [
      "epoch 41, loss: 0.38252, acc: 0.89471, val_loss: 0.42012, val_accuracy: 0.89411\n"
     ]
    },
    {
     "name": "stderr",
     "output_type": "stream",
     "text": [
      "100%|████████████████████████████████████████████████████████████████████████████████████| 4/4 [00:00<00:00,  8.38it/s]\n"
     ]
    },
    {
     "name": "stdout",
     "output_type": "stream",
     "text": [
      "epoch 42, loss: 0.38229, acc: 0.89471, val_loss: 0.42052, val_accuracy: 0.89411\n"
     ]
    },
    {
     "name": "stderr",
     "output_type": "stream",
     "text": [
      "100%|████████████████████████████████████████████████████████████████████████████████████| 4/4 [00:00<00:00,  9.64it/s]\n"
     ]
    },
    {
     "name": "stdout",
     "output_type": "stream",
     "text": [
      "epoch 43, loss: 0.38206, acc: 0.89471, val_loss: 0.42097, val_accuracy: 0.89411\n"
     ]
    },
    {
     "name": "stderr",
     "output_type": "stream",
     "text": [
      "100%|████████████████████████████████████████████████████████████████████████████████████| 4/4 [00:00<00:00,  8.49it/s]\n"
     ]
    },
    {
     "name": "stdout",
     "output_type": "stream",
     "text": [
      "epoch 44, loss: 0.38182, acc: 0.89474, val_loss: 0.42143, val_accuracy: 0.89411\n"
     ]
    },
    {
     "name": "stderr",
     "output_type": "stream",
     "text": [
      "100%|████████████████████████████████████████████████████████████████████████████████████| 4/4 [00:00<00:00,  6.40it/s]\n"
     ]
    },
    {
     "name": "stdout",
     "output_type": "stream",
     "text": [
      "epoch 45, loss: 0.38157, acc: 0.89471, val_loss: 0.42188, val_accuracy: 0.89411\n"
     ]
    },
    {
     "name": "stderr",
     "output_type": "stream",
     "text": [
      "100%|████████████████████████████████████████████████████████████████████████████████████| 4/4 [00:00<00:00,  9.05it/s]\n"
     ]
    },
    {
     "name": "stdout",
     "output_type": "stream",
     "text": [
      "epoch 46, loss: 0.38135, acc: 0.89471, val_loss: 0.42236, val_accuracy: 0.89411\n"
     ]
    },
    {
     "name": "stderr",
     "output_type": "stream",
     "text": [
      "100%|████████████████████████████████████████████████████████████████████████████████████| 4/4 [00:00<00:00,  8.64it/s]\n"
     ]
    },
    {
     "name": "stdout",
     "output_type": "stream",
     "text": [
      "epoch 47, loss: 0.38111, acc: 0.89471, val_loss: 0.42276, val_accuracy: 0.89411\n"
     ]
    },
    {
     "name": "stderr",
     "output_type": "stream",
     "text": [
      "100%|████████████████████████████████████████████████████████████████████████████████████| 4/4 [00:00<00:00,  6.69it/s]\n"
     ]
    },
    {
     "name": "stdout",
     "output_type": "stream",
     "text": [
      "epoch 48, loss: 0.38086, acc: 0.89471, val_loss: 0.42317, val_accuracy: 0.89411\n"
     ]
    },
    {
     "name": "stderr",
     "output_type": "stream",
     "text": [
      "100%|████████████████████████████████████████████████████████████████████████████████████| 4/4 [00:00<00:00,  8.40it/s]\n"
     ]
    },
    {
     "name": "stdout",
     "output_type": "stream",
     "text": [
      "epoch 49, loss: 0.38060, acc: 0.89471, val_loss: 0.42366, val_accuracy: 0.89411\n"
     ]
    },
    {
     "name": "stderr",
     "output_type": "stream",
     "text": [
      "100%|████████████████████████████████████████████████████████████████████████████████████| 4/4 [00:00<00:00,  8.40it/s]\n"
     ]
    },
    {
     "name": "stdout",
     "output_type": "stream",
     "text": [
      "epoch 50, loss: 0.38035, acc: 0.89471, val_loss: 0.42418, val_accuracy: 0.89175\n"
     ]
    },
    {
     "name": "stderr",
     "output_type": "stream",
     "text": [
      "100%|████████████████████████████████████████████████████████████████████████████████████| 4/4 [00:00<00:00,  8.66it/s]\n"
     ]
    },
    {
     "name": "stdout",
     "output_type": "stream",
     "text": [
      "epoch 51, loss: 0.38010, acc: 0.89471, val_loss: 0.42456, val_accuracy: 0.88702\n"
     ]
    },
    {
     "name": "stderr",
     "output_type": "stream",
     "text": [
      "100%|████████████████████████████████████████████████████████████████████████████████████| 4/4 [00:00<00:00,  8.30it/s]\n"
     ]
    },
    {
     "name": "stdout",
     "output_type": "stream",
     "text": [
      "epoch 52, loss: 0.37985, acc: 0.89486, val_loss: 0.42510, val_accuracy: 0.88544\n"
     ]
    },
    {
     "name": "stderr",
     "output_type": "stream",
     "text": [
      "100%|████████████████████████████████████████████████████████████████████████████████████| 4/4 [00:00<00:00,  8.30it/s]\n"
     ]
    },
    {
     "name": "stdout",
     "output_type": "stream",
     "text": [
      "epoch 53, loss: 0.37958, acc: 0.89486, val_loss: 0.42564, val_accuracy: 0.88544\n"
     ]
    },
    {
     "name": "stderr",
     "output_type": "stream",
     "text": [
      "100%|████████████████████████████████████████████████████████████████████████████████████| 4/4 [00:00<00:00,  8.71it/s]\n"
     ]
    },
    {
     "name": "stdout",
     "output_type": "stream",
     "text": [
      "epoch 54, loss: 0.37929, acc: 0.89486, val_loss: 0.42619, val_accuracy: 0.88544\n"
     ]
    },
    {
     "name": "stderr",
     "output_type": "stream",
     "text": [
      "100%|████████████████████████████████████████████████████████████████████████████████████| 4/4 [00:00<00:00,  6.44it/s]\n"
     ]
    },
    {
     "name": "stdout",
     "output_type": "stream",
     "text": [
      "epoch 55, loss: 0.37903, acc: 0.89486, val_loss: 0.42654, val_accuracy: 0.88544\n"
     ]
    },
    {
     "name": "stderr",
     "output_type": "stream",
     "text": [
      "100%|████████████████████████████████████████████████████████████████████████████████████| 4/4 [00:00<00:00,  8.08it/s]\n"
     ]
    },
    {
     "name": "stdout",
     "output_type": "stream",
     "text": [
      "epoch 56, loss: 0.37875, acc: 0.89486, val_loss: 0.42711, val_accuracy: 0.88544\n"
     ]
    },
    {
     "name": "stderr",
     "output_type": "stream",
     "text": [
      "100%|████████████████████████████████████████████████████████████████████████████████████| 4/4 [00:00<00:00,  7.63it/s]\n"
     ]
    },
    {
     "name": "stdout",
     "output_type": "stream",
     "text": [
      "epoch 57, loss: 0.37848, acc: 0.89489, val_loss: 0.42791, val_accuracy: 0.88544\n"
     ]
    },
    {
     "name": "stderr",
     "output_type": "stream",
     "text": [
      "100%|████████████████████████████████████████████████████████████████████████████████████| 4/4 [00:00<00:00,  6.23it/s]\n"
     ]
    },
    {
     "name": "stdout",
     "output_type": "stream",
     "text": [
      "epoch 58, loss: 0.37814, acc: 0.89489, val_loss: 0.42848, val_accuracy: 0.88544\n"
     ]
    },
    {
     "name": "stderr",
     "output_type": "stream",
     "text": [
      "100%|████████████████████████████████████████████████████████████████████████████████████| 4/4 [00:00<00:00,  8.44it/s]\n"
     ]
    },
    {
     "name": "stdout",
     "output_type": "stream",
     "text": [
      "epoch 59, loss: 0.37788, acc: 0.89489, val_loss: 0.42882, val_accuracy: 0.88544\n"
     ]
    },
    {
     "name": "stderr",
     "output_type": "stream",
     "text": [
      "100%|████████████████████████████████████████████████████████████████████████████████████| 4/4 [00:00<00:00,  7.50it/s]\n"
     ]
    },
    {
     "name": "stdout",
     "output_type": "stream",
     "text": [
      "epoch 60, loss: 0.37755, acc: 0.89489, val_loss: 0.42936, val_accuracy: 0.88544\n"
     ]
    },
    {
     "name": "stderr",
     "output_type": "stream",
     "text": [
      "100%|████████████████████████████████████████████████████████████████████████████████████| 4/4 [00:00<00:00,  6.78it/s]\n"
     ]
    },
    {
     "name": "stdout",
     "output_type": "stream",
     "text": [
      "epoch 61, loss: 0.37722, acc: 0.89489, val_loss: 0.42983, val_accuracy: 0.88544\n"
     ]
    },
    {
     "name": "stderr",
     "output_type": "stream",
     "text": [
      "100%|████████████████████████████████████████████████████████████████████████████████████| 4/4 [00:00<00:00,  7.45it/s]\n"
     ]
    },
    {
     "name": "stdout",
     "output_type": "stream",
     "text": [
      "epoch 62, loss: 0.37693, acc: 0.89489, val_loss: 0.43016, val_accuracy: 0.88544\n"
     ]
    },
    {
     "name": "stderr",
     "output_type": "stream",
     "text": [
      "100%|████████████████████████████████████████████████████████████████████████████████████| 4/4 [00:00<00:00,  8.11it/s]\n"
     ]
    },
    {
     "name": "stdout",
     "output_type": "stream",
     "text": [
      "epoch 63, loss: 0.37659, acc: 0.89489, val_loss: 0.43105, val_accuracy: 0.88544\n"
     ]
    },
    {
     "name": "stderr",
     "output_type": "stream",
     "text": [
      "100%|████████████████████████████████████████████████████████████████████████████████████| 4/4 [00:00<00:00,  7.98it/s]\n"
     ]
    },
    {
     "name": "stdout",
     "output_type": "stream",
     "text": [
      "epoch 64, loss: 0.37625, acc: 0.89489, val_loss: 0.43175, val_accuracy: 0.88544\n"
     ]
    },
    {
     "name": "stderr",
     "output_type": "stream",
     "text": [
      "100%|████████████████████████████████████████████████████████████████████████████████████| 4/4 [00:00<00:00,  8.01it/s]\n"
     ]
    },
    {
     "name": "stdout",
     "output_type": "stream",
     "text": [
      "epoch 65, loss: 0.37596, acc: 0.89489, val_loss: 0.43207, val_accuracy: 0.88544\n"
     ]
    },
    {
     "name": "stderr",
     "output_type": "stream",
     "text": [
      "100%|████████████████████████████████████████████████████████████████████████████████████| 4/4 [00:00<00:00,  5.48it/s]\n"
     ]
    },
    {
     "name": "stdout",
     "output_type": "stream",
     "text": [
      "epoch 66, loss: 0.37556, acc: 0.89489, val_loss: 0.43330, val_accuracy: 0.88544\n"
     ]
    },
    {
     "name": "stderr",
     "output_type": "stream",
     "text": [
      "100%|████████████████████████████████████████████████████████████████████████████████████| 4/4 [00:00<00:00,  7.83it/s]\n"
     ]
    },
    {
     "name": "stdout",
     "output_type": "stream",
     "text": [
      "epoch 67, loss: 0.37521, acc: 0.89489, val_loss: 0.43465, val_accuracy: 0.88544\n"
     ]
    },
    {
     "name": "stderr",
     "output_type": "stream",
     "text": [
      "100%|████████████████████████████████████████████████████████████████████████████████████| 4/4 [00:00<00:00,  8.11it/s]\n"
     ]
    },
    {
     "name": "stdout",
     "output_type": "stream",
     "text": [
      "epoch 68, loss: 0.37490, acc: 0.89489, val_loss: 0.43467, val_accuracy: 0.88544\n"
     ]
    },
    {
     "name": "stderr",
     "output_type": "stream",
     "text": [
      "100%|████████████████████████████████████████████████████████████████████████████████████| 4/4 [00:00<00:00,  7.66it/s]\n"
     ]
    },
    {
     "name": "stdout",
     "output_type": "stream",
     "text": [
      "epoch 69, loss: 0.37453, acc: 0.89489, val_loss: 0.43501, val_accuracy: 0.88544\n"
     ]
    },
    {
     "name": "stderr",
     "output_type": "stream",
     "text": [
      "100%|████████████████████████████████████████████████████████████████████████████████████| 4/4 [00:00<00:00,  8.00it/s]\n"
     ]
    },
    {
     "name": "stdout",
     "output_type": "stream",
     "text": [
      "epoch 70, loss: 0.37410, acc: 0.89489, val_loss: 0.43699, val_accuracy: 0.88544\n"
     ]
    },
    {
     "name": "stderr",
     "output_type": "stream",
     "text": [
      "100%|████████████████████████████████████████████████████████████████████████████████████| 4/4 [00:00<00:00,  8.19it/s]\n"
     ]
    },
    {
     "name": "stdout",
     "output_type": "stream",
     "text": [
      "epoch 71, loss: 0.37378, acc: 0.89489, val_loss: 0.43715, val_accuracy: 0.88544\n"
     ]
    },
    {
     "name": "stderr",
     "output_type": "stream",
     "text": [
      "100%|████████████████████████████████████████████████████████████████████████████████████| 4/4 [00:00<00:00,  7.39it/s]\n"
     ]
    },
    {
     "name": "stdout",
     "output_type": "stream",
     "text": [
      "epoch 72, loss: 0.37347, acc: 0.89489, val_loss: 0.43676, val_accuracy: 0.88544\n"
     ]
    },
    {
     "name": "stderr",
     "output_type": "stream",
     "text": [
      "100%|████████████████████████████████████████████████████████████████████████████████████| 4/4 [00:00<00:00,  6.10it/s]\n"
     ]
    },
    {
     "name": "stdout",
     "output_type": "stream",
     "text": [
      "epoch 73, loss: 0.37299, acc: 0.89489, val_loss: 0.43857, val_accuracy: 0.88544\n"
     ]
    },
    {
     "name": "stderr",
     "output_type": "stream",
     "text": [
      "100%|████████████████████████████████████████████████████████████████████████████████████| 4/4 [00:00<00:00,  7.98it/s]\n"
     ]
    },
    {
     "name": "stdout",
     "output_type": "stream",
     "text": [
      "epoch 74, loss: 0.37255, acc: 0.89489, val_loss: 0.44106, val_accuracy: 0.88544\n"
     ]
    },
    {
     "name": "stderr",
     "output_type": "stream",
     "text": [
      "100%|████████████████████████████████████████████████████████████████████████████████████| 4/4 [00:00<00:00,  7.60it/s]\n"
     ]
    },
    {
     "name": "stdout",
     "output_type": "stream",
     "text": [
      "epoch 75, loss: 0.37222, acc: 0.89489, val_loss: 0.44156, val_accuracy: 0.88544\n"
     ]
    },
    {
     "name": "stderr",
     "output_type": "stream",
     "text": [
      "100%|████████████████████████████████████████████████████████████████████████████████████| 4/4 [00:00<00:00,  6.01it/s]\n"
     ]
    },
    {
     "name": "stdout",
     "output_type": "stream",
     "text": [
      "epoch 76, loss: 0.37185, acc: 0.89489, val_loss: 0.44049, val_accuracy: 0.88544\n"
     ]
    },
    {
     "name": "stderr",
     "output_type": "stream",
     "text": [
      "100%|████████████████████████████████████████████████████████████████████████████████████| 4/4 [00:00<00:00,  7.63it/s]\n"
     ]
    },
    {
     "name": "stdout",
     "output_type": "stream",
     "text": [
      "epoch 77, loss: 0.37146, acc: 0.89489, val_loss: 0.44087, val_accuracy: 0.88544\n"
     ]
    },
    {
     "name": "stderr",
     "output_type": "stream",
     "text": [
      "100%|████████████████████████████████████████████████████████████████████████████████████| 4/4 [00:00<00:00,  8.10it/s]\n"
     ]
    },
    {
     "name": "stdout",
     "output_type": "stream",
     "text": [
      "epoch 78, loss: 0.37103, acc: 0.89486, val_loss: 0.44326, val_accuracy: 0.88544\n"
     ]
    },
    {
     "name": "stderr",
     "output_type": "stream",
     "text": [
      "100%|████████████████████████████████████████████████████████████████████████████████████| 4/4 [00:00<00:00,  8.38it/s]\n"
     ]
    },
    {
     "name": "stdout",
     "output_type": "stream",
     "text": [
      "epoch 79, loss: 0.37063, acc: 0.89489, val_loss: 0.44494, val_accuracy: 0.88544\n"
     ]
    },
    {
     "name": "stderr",
     "output_type": "stream",
     "text": [
      "100%|████████████████████████████████████████████████████████████████████████████████████| 4/4 [00:00<00:00,  7.45it/s]\n"
     ]
    },
    {
     "name": "stdout",
     "output_type": "stream",
     "text": [
      "epoch 80, loss: 0.37023, acc: 0.89492, val_loss: 0.44522, val_accuracy: 0.88544\n"
     ]
    },
    {
     "name": "stderr",
     "output_type": "stream",
     "text": [
      "100%|████████████████████████████████████████████████████████████████████████████████████| 4/4 [00:00<00:00,  7.56it/s]\n"
     ]
    },
    {
     "name": "stdout",
     "output_type": "stream",
     "text": [
      "epoch 81, loss: 0.36976, acc: 0.89486, val_loss: 0.44631, val_accuracy: 0.88544\n"
     ]
    },
    {
     "name": "stderr",
     "output_type": "stream",
     "text": [
      "100%|████████████████████████████████████████████████████████████████████████████████████| 4/4 [00:00<00:00,  8.40it/s]\n"
     ]
    },
    {
     "name": "stdout",
     "output_type": "stream",
     "text": [
      "epoch 82, loss: 0.36937, acc: 0.89489, val_loss: 0.44618, val_accuracy: 0.88544\n"
     ]
    },
    {
     "name": "stderr",
     "output_type": "stream",
     "text": [
      "100%|████████████████████████████████████████████████████████████████████████████████████| 4/4 [00:00<00:00,  6.27it/s]\n"
     ]
    },
    {
     "name": "stdout",
     "output_type": "stream",
     "text": [
      "epoch 83, loss: 0.36906, acc: 0.89492, val_loss: 0.44548, val_accuracy: 0.88544\n"
     ]
    },
    {
     "name": "stderr",
     "output_type": "stream",
     "text": [
      "100%|████████████████████████████████████████████████████████████████████████████████████| 4/4 [00:00<00:00,  7.90it/s]\n"
     ]
    },
    {
     "name": "stdout",
     "output_type": "stream",
     "text": [
      "epoch 84, loss: 0.36857, acc: 0.89489, val_loss: 0.44757, val_accuracy: 0.88544\n"
     ]
    },
    {
     "name": "stderr",
     "output_type": "stream",
     "text": [
      "100%|████████████████████████████████████████████████████████████████████████████████████| 4/4 [00:00<00:00,  7.83it/s]\n"
     ]
    },
    {
     "name": "stdout",
     "output_type": "stream",
     "text": [
      "epoch 85, loss: 0.36810, acc: 0.89492, val_loss: 0.44955, val_accuracy: 0.88544\n"
     ]
    },
    {
     "name": "stderr",
     "output_type": "stream",
     "text": [
      "100%|████████████████████████████████████████████████████████████████████████████████████| 4/4 [00:00<00:00,  6.04it/s]\n"
     ]
    },
    {
     "name": "stdout",
     "output_type": "stream",
     "text": [
      "epoch 86, loss: 0.36766, acc: 0.89492, val_loss: 0.45009, val_accuracy: 0.88544\n"
     ]
    },
    {
     "name": "stderr",
     "output_type": "stream",
     "text": [
      "100%|████████████████████████████████████████████████████████████████████████████████████| 4/4 [00:00<00:00,  7.47it/s]\n"
     ]
    },
    {
     "name": "stdout",
     "output_type": "stream",
     "text": [
      "epoch 87, loss: 0.36717, acc: 0.89495, val_loss: 0.45125, val_accuracy: 0.88544\n"
     ]
    },
    {
     "name": "stderr",
     "output_type": "stream",
     "text": [
      "100%|████████████████████████████████████████████████████████████████████████████████████| 4/4 [00:00<00:00,  7.84it/s]\n"
     ]
    },
    {
     "name": "stdout",
     "output_type": "stream",
     "text": [
      "epoch 88, loss: 0.36671, acc: 0.89495, val_loss: 0.45185, val_accuracy: 0.88544\n"
     ]
    },
    {
     "name": "stderr",
     "output_type": "stream",
     "text": [
      "100%|████████████████████████████████████████████████████████████████████████████████████| 4/4 [00:00<00:00,  7.71it/s]\n"
     ]
    },
    {
     "name": "stdout",
     "output_type": "stream",
     "text": [
      "epoch 89, loss: 0.36626, acc: 0.89495, val_loss: 0.45269, val_accuracy: 0.88544\n"
     ]
    },
    {
     "name": "stderr",
     "output_type": "stream",
     "text": [
      "100%|████████████████████████████████████████████████████████████████████████████████████| 4/4 [00:00<00:00,  8.05it/s]\n"
     ]
    },
    {
     "name": "stdout",
     "output_type": "stream",
     "text": [
      "epoch 90, loss: 0.36582, acc: 0.89495, val_loss: 0.45464, val_accuracy: 0.88544\n"
     ]
    },
    {
     "name": "stderr",
     "output_type": "stream",
     "text": [
      "100%|████████████████████████████████████████████████████████████████████████████████████| 4/4 [00:00<00:00,  8.31it/s]\n"
     ]
    },
    {
     "name": "stdout",
     "output_type": "stream",
     "text": [
      "epoch 91, loss: 0.36536, acc: 0.89495, val_loss: 0.45613, val_accuracy: 0.88544\n"
     ]
    },
    {
     "name": "stderr",
     "output_type": "stream",
     "text": [
      "100%|████████████████████████████████████████████████████████████████████████████████████| 4/4 [00:00<00:00,  7.84it/s]\n"
     ]
    },
    {
     "name": "stdout",
     "output_type": "stream",
     "text": [
      "epoch 92, loss: 0.36496, acc: 0.89498, val_loss: 0.45700, val_accuracy: 0.88544\n"
     ]
    },
    {
     "name": "stderr",
     "output_type": "stream",
     "text": [
      "100%|████████████████████████████████████████████████████████████████████████████████████| 4/4 [00:00<00:00,  7.49it/s]\n"
     ]
    },
    {
     "name": "stdout",
     "output_type": "stream",
     "text": [
      "epoch 93, loss: 0.36448, acc: 0.89498, val_loss: 0.45791, val_accuracy: 0.88544\n"
     ]
    },
    {
     "name": "stderr",
     "output_type": "stream",
     "text": [
      "100%|████████████████████████████████████████████████████████████████████████████████████| 4/4 [00:00<00:00,  6.13it/s]\n"
     ]
    },
    {
     "name": "stdout",
     "output_type": "stream",
     "text": [
      "epoch 94, loss: 0.36402, acc: 0.89498, val_loss: 0.45944, val_accuracy: 0.88544\n"
     ]
    },
    {
     "name": "stderr",
     "output_type": "stream",
     "text": [
      "100%|████████████████████████████████████████████████████████████████████████████████████| 4/4 [00:00<00:00,  7.80it/s]\n"
     ]
    },
    {
     "name": "stdout",
     "output_type": "stream",
     "text": [
      "epoch 95, loss: 0.36360, acc: 0.89495, val_loss: 0.46100, val_accuracy: 0.88544\n"
     ]
    },
    {
     "name": "stderr",
     "output_type": "stream",
     "text": [
      "100%|████████████████████████████████████████████████████████████████████████████████████| 4/4 [00:00<00:00,  7.10it/s]\n"
     ]
    },
    {
     "name": "stdout",
     "output_type": "stream",
     "text": [
      "epoch 96, loss: 0.36311, acc: 0.89495, val_loss: 0.46264, val_accuracy: 0.88544\n"
     ]
    },
    {
     "name": "stderr",
     "output_type": "stream",
     "text": [
      "100%|████████████████████████████████████████████████████████████████████████████████████| 4/4 [00:00<00:00,  7.80it/s]\n"
     ]
    },
    {
     "name": "stdout",
     "output_type": "stream",
     "text": [
      "epoch 97, loss: 0.36276, acc: 0.89498, val_loss: 0.46228, val_accuracy: 0.88544\n"
     ]
    },
    {
     "name": "stderr",
     "output_type": "stream",
     "text": [
      "100%|████████████████████████████████████████████████████████████████████████████████████| 4/4 [00:00<00:00,  6.77it/s]\n"
     ]
    },
    {
     "name": "stdout",
     "output_type": "stream",
     "text": [
      "epoch 98, loss: 0.36238, acc: 0.89498, val_loss: 0.46221, val_accuracy: 0.88544\n"
     ]
    },
    {
     "name": "stderr",
     "output_type": "stream",
     "text": [
      "100%|████████████████████████████████████████████████████████████████████████████████████| 4/4 [00:00<00:00,  8.97it/s]\n"
     ]
    },
    {
     "name": "stdout",
     "output_type": "stream",
     "text": [
      "epoch 99, loss: 0.36188, acc: 0.89509, val_loss: 0.46492, val_accuracy: 0.88544\n"
     ]
    },
    {
     "name": "stderr",
     "output_type": "stream",
     "text": [
      "100%|████████████████████████████████████████████████████████████████████████████████████| 4/4 [00:00<00:00,  8.42it/s]\n"
     ]
    },
    {
     "name": "stdout",
     "output_type": "stream",
     "text": [
      "epoch 100, loss: 0.36144, acc: 0.89509, val_loss: 0.46771, val_accuracy: 0.88544\n"
     ]
    },
    {
     "name": "stderr",
     "output_type": "stream",
     "text": [
      "100%|████████████████████████████████████████████████████████████████████████████████████| 4/4 [00:00<00:00,  6.47it/s]\n"
     ]
    },
    {
     "name": "stdout",
     "output_type": "stream",
     "text": [
      "epoch 101, loss: 0.36097, acc: 0.89518, val_loss: 0.47030, val_accuracy: 0.88544\n"
     ]
    },
    {
     "name": "stderr",
     "output_type": "stream",
     "text": [
      "100%|████████████████████████████████████████████████████████████████████████████████████| 4/4 [00:00<00:00,  8.69it/s]\n"
     ]
    },
    {
     "name": "stdout",
     "output_type": "stream",
     "text": [
      "epoch 102, loss: 0.36053, acc: 0.89521, val_loss: 0.47159, val_accuracy: 0.88544\n"
     ]
    },
    {
     "name": "stderr",
     "output_type": "stream",
     "text": [
      "100%|████████████████████████████████████████████████████████████████████████████████████| 4/4 [00:00<00:00,  8.60it/s]\n"
     ]
    },
    {
     "name": "stdout",
     "output_type": "stream",
     "text": [
      "epoch 103, loss: 0.36004, acc: 0.89518, val_loss: 0.47193, val_accuracy: 0.88544\n"
     ]
    },
    {
     "name": "stderr",
     "output_type": "stream",
     "text": [
      "100%|████████████████████████████████████████████████████████████████████████████████████| 4/4 [00:00<00:00,  6.53it/s]\n"
     ]
    },
    {
     "name": "stdout",
     "output_type": "stream",
     "text": [
      "epoch 104, loss: 0.35956, acc: 0.89521, val_loss: 0.47399, val_accuracy: 0.88544\n"
     ]
    },
    {
     "name": "stderr",
     "output_type": "stream",
     "text": [
      "100%|████████████████████████████████████████████████████████████████████████████████████| 4/4 [00:00<00:00,  8.35it/s]\n"
     ]
    },
    {
     "name": "stdout",
     "output_type": "stream",
     "text": [
      "epoch 105, loss: 0.35916, acc: 0.89524, val_loss: 0.47437, val_accuracy: 0.88544\n"
     ]
    },
    {
     "name": "stderr",
     "output_type": "stream",
     "text": [
      "100%|████████████████████████████████████████████████████████████████████████████████████| 4/4 [00:00<00:00,  7.57it/s]\n"
     ]
    },
    {
     "name": "stdout",
     "output_type": "stream",
     "text": [
      "epoch 106, loss: 0.35874, acc: 0.89524, val_loss: 0.47513, val_accuracy: 0.88544\n"
     ]
    },
    {
     "name": "stderr",
     "output_type": "stream",
     "text": [
      "100%|████████████████████████████████████████████████████████████████████████████████████| 4/4 [00:00<00:00,  7.74it/s]\n"
     ]
    },
    {
     "name": "stdout",
     "output_type": "stream",
     "text": [
      "epoch 107, loss: 0.35829, acc: 0.89521, val_loss: 0.47750, val_accuracy: 0.88544\n"
     ]
    },
    {
     "name": "stderr",
     "output_type": "stream",
     "text": [
      "100%|████████████████████████████████████████████████████████████████████████████████████| 4/4 [00:00<00:00,  7.97it/s]\n"
     ]
    },
    {
     "name": "stdout",
     "output_type": "stream",
     "text": [
      "epoch 108, loss: 0.35783, acc: 0.89527, val_loss: 0.47888, val_accuracy: 0.88544\n"
     ]
    },
    {
     "name": "stderr",
     "output_type": "stream",
     "text": [
      "100%|████████████████████████████████████████████████████████████████████████████████████| 4/4 [00:00<00:00,  7.78it/s]\n"
     ]
    },
    {
     "name": "stdout",
     "output_type": "stream",
     "text": [
      "epoch 109, loss: 0.35740, acc: 0.89530, val_loss: 0.47966, val_accuracy: 0.88544\n"
     ]
    },
    {
     "name": "stderr",
     "output_type": "stream",
     "text": [
      "100%|████████████████████████████████████████████████████████████████████████████████████| 4/4 [00:00<00:00,  8.28it/s]\n"
     ]
    },
    {
     "name": "stdout",
     "output_type": "stream",
     "text": [
      "epoch 110, loss: 0.35689, acc: 0.89538, val_loss: 0.48184, val_accuracy: 0.88544\n"
     ]
    },
    {
     "name": "stderr",
     "output_type": "stream",
     "text": [
      "100%|████████████████████████████████████████████████████████████████████████████████████| 4/4 [00:00<00:00,  6.65it/s]\n"
     ]
    },
    {
     "name": "stdout",
     "output_type": "stream",
     "text": [
      "epoch 111, loss: 0.35647, acc: 0.89538, val_loss: 0.48351, val_accuracy: 0.88544\n"
     ]
    },
    {
     "name": "stderr",
     "output_type": "stream",
     "text": [
      "100%|████████████████████████████████████████████████████████████████████████████████████| 4/4 [00:00<00:00,  8.64it/s]\n"
     ]
    },
    {
     "name": "stdout",
     "output_type": "stream",
     "text": [
      "epoch 112, loss: 0.35604, acc: 0.89541, val_loss: 0.48496, val_accuracy: 0.88544\n"
     ]
    },
    {
     "name": "stderr",
     "output_type": "stream",
     "text": [
      "100%|████████████████████████████████████████████████████████████████████████████████████| 4/4 [00:00<00:00,  8.62it/s]\n"
     ]
    },
    {
     "name": "stdout",
     "output_type": "stream",
     "text": [
      "epoch 113, loss: 0.35555, acc: 0.89541, val_loss: 0.48713, val_accuracy: 0.88544\n"
     ]
    },
    {
     "name": "stderr",
     "output_type": "stream",
     "text": [
      "100%|████████████████████████████████████████████████████████████████████████████████████| 4/4 [00:00<00:00,  5.76it/s]\n"
     ]
    },
    {
     "name": "stdout",
     "output_type": "stream",
     "text": [
      "epoch 114, loss: 0.35512, acc: 0.89538, val_loss: 0.48872, val_accuracy: 0.88544\n"
     ]
    },
    {
     "name": "stderr",
     "output_type": "stream",
     "text": [
      "100%|████████████████████████████████████████████████████████████████████████████████████| 4/4 [00:00<00:00,  8.55it/s]\n"
     ]
    },
    {
     "name": "stdout",
     "output_type": "stream",
     "text": [
      "epoch 115, loss: 0.35468, acc: 0.89541, val_loss: 0.49041, val_accuracy: 0.88544\n"
     ]
    },
    {
     "name": "stderr",
     "output_type": "stream",
     "text": [
      "100%|████████████████████████████████████████████████████████████████████████████████████| 4/4 [00:00<00:00,  8.19it/s]\n"
     ]
    },
    {
     "name": "stdout",
     "output_type": "stream",
     "text": [
      "epoch 116, loss: 0.35422, acc: 0.89547, val_loss: 0.49241, val_accuracy: 0.88544\n"
     ]
    },
    {
     "name": "stderr",
     "output_type": "stream",
     "text": [
      "100%|████████████████████████████████████████████████████████████████████████████████████| 4/4 [00:00<00:00,  8.37it/s]\n"
     ]
    },
    {
     "name": "stdout",
     "output_type": "stream",
     "text": [
      "epoch 117, loss: 0.35379, acc: 0.90058, val_loss: 0.49380, val_accuracy: 0.88544\n"
     ]
    },
    {
     "name": "stderr",
     "output_type": "stream",
     "text": [
      "100%|████████████████████████████████████████████████████████████████████████████████████| 4/4 [00:00<00:00,  8.30it/s]\n"
     ]
    },
    {
     "name": "stdout",
     "output_type": "stream",
     "text": [
      "epoch 118, loss: 0.35334, acc: 0.90064, val_loss: 0.49517, val_accuracy: 0.88544\n"
     ]
    },
    {
     "name": "stderr",
     "output_type": "stream",
     "text": [
      "100%|████████████████████████████████████████████████████████████████████████████████████| 4/4 [00:00<00:00,  7.27it/s]\n"
     ]
    },
    {
     "name": "stdout",
     "output_type": "stream",
     "text": [
      "epoch 119, loss: 0.35284, acc: 0.90073, val_loss: 0.49777, val_accuracy: 0.88544\n"
     ]
    },
    {
     "name": "stderr",
     "output_type": "stream",
     "text": [
      "100%|████████████████████████████████████████████████████████████████████████████████████| 4/4 [00:00<00:00,  7.32it/s]\n"
     ]
    },
    {
     "name": "stdout",
     "output_type": "stream",
     "text": [
      "epoch 120, loss: 0.35246, acc: 0.90084, val_loss: 0.49953, val_accuracy: 0.88544\n"
     ]
    },
    {
     "name": "stderr",
     "output_type": "stream",
     "text": [
      "100%|████████████████████████████████████████████████████████████████████████████████████| 4/4 [00:00<00:00,  8.62it/s]\n"
     ]
    },
    {
     "name": "stdout",
     "output_type": "stream",
     "text": [
      "epoch 121, loss: 0.35202, acc: 0.90084, val_loss: 0.50149, val_accuracy: 0.88544\n"
     ]
    },
    {
     "name": "stderr",
     "output_type": "stream",
     "text": [
      "100%|████████████████████████████████████████████████████████████████████████████████████| 4/4 [00:00<00:00,  6.49it/s]\n"
     ]
    },
    {
     "name": "stdout",
     "output_type": "stream",
     "text": [
      "epoch 122, loss: 0.35153, acc: 0.90096, val_loss: 0.50271, val_accuracy: 0.88544\n"
     ]
    },
    {
     "name": "stderr",
     "output_type": "stream",
     "text": [
      "100%|████████████████████████████████████████████████████████████████████████████████████| 4/4 [00:00<00:00,  8.19it/s]\n"
     ]
    },
    {
     "name": "stdout",
     "output_type": "stream",
     "text": [
      "epoch 123, loss: 0.35112, acc: 0.90099, val_loss: 0.50377, val_accuracy: 0.88544\n"
     ]
    },
    {
     "name": "stderr",
     "output_type": "stream",
     "text": [
      "100%|████████████████████████████████████████████████████████████████████████████████████| 4/4 [00:00<00:00,  8.09it/s]\n"
     ]
    },
    {
     "name": "stdout",
     "output_type": "stream",
     "text": [
      "epoch 124, loss: 0.35068, acc: 0.90105, val_loss: 0.50465, val_accuracy: 0.88544\n"
     ]
    },
    {
     "name": "stderr",
     "output_type": "stream",
     "text": [
      "100%|████████████████████████████████████████████████████████████████████████████████████| 4/4 [00:00<00:00,  7.78it/s]\n"
     ]
    },
    {
     "name": "stdout",
     "output_type": "stream",
     "text": [
      "epoch 125, loss: 0.35023, acc: 0.90108, val_loss: 0.50676, val_accuracy: 0.88544\n"
     ]
    },
    {
     "name": "stderr",
     "output_type": "stream",
     "text": [
      "100%|████████████████████████████████████████████████████████████████████████████████████| 4/4 [00:00<00:00,  7.63it/s]\n"
     ]
    },
    {
     "name": "stdout",
     "output_type": "stream",
     "text": [
      "epoch 126, loss: 0.34979, acc: 0.90105, val_loss: 0.50813, val_accuracy: 0.88544\n"
     ]
    },
    {
     "name": "stderr",
     "output_type": "stream",
     "text": [
      "100%|████████████████████████████████████████████████████████████████████████████████████| 4/4 [00:00<00:00,  7.98it/s]\n"
     ]
    },
    {
     "name": "stdout",
     "output_type": "stream",
     "text": [
      "epoch 127, loss: 0.34935, acc: 0.90108, val_loss: 0.50884, val_accuracy: 0.88544\n"
     ]
    },
    {
     "name": "stderr",
     "output_type": "stream",
     "text": [
      "100%|████████████████████████████████████████████████████████████████████████████████████| 4/4 [00:00<00:00,  7.87it/s]\n"
     ]
    },
    {
     "name": "stdout",
     "output_type": "stream",
     "text": [
      "epoch 128, loss: 0.34888, acc: 0.90111, val_loss: 0.51044, val_accuracy: 0.88544\n"
     ]
    },
    {
     "name": "stderr",
     "output_type": "stream",
     "text": [
      "100%|████████████████████████████████████████████████████████████████████████████████████| 4/4 [00:00<00:00,  6.67it/s]\n"
     ]
    },
    {
     "name": "stdout",
     "output_type": "stream",
     "text": [
      "epoch 129, loss: 0.34847, acc: 0.90116, val_loss: 0.51189, val_accuracy: 0.88544\n"
     ]
    },
    {
     "name": "stderr",
     "output_type": "stream",
     "text": [
      "100%|████████████████████████████████████████████████████████████████████████████████████| 4/4 [00:00<00:00,  8.71it/s]\n"
     ]
    },
    {
     "name": "stdout",
     "output_type": "stream",
     "text": [
      "epoch 130, loss: 0.34800, acc: 0.90125, val_loss: 0.51287, val_accuracy: 0.88544\n"
     ]
    },
    {
     "name": "stderr",
     "output_type": "stream",
     "text": [
      "100%|████████████████████████████████████████████████████████████████████████████████████| 4/4 [00:00<00:00,  8.93it/s]\n"
     ]
    },
    {
     "name": "stdout",
     "output_type": "stream",
     "text": [
      "epoch 131, loss: 0.34757, acc: 0.90114, val_loss: 0.51414, val_accuracy: 0.88544\n"
     ]
    },
    {
     "name": "stderr",
     "output_type": "stream",
     "text": [
      "100%|████████████████████████████████████████████████████████████████████████████████████| 4/4 [00:00<00:00,  7.02it/s]\n"
     ]
    },
    {
     "name": "stdout",
     "output_type": "stream",
     "text": [
      "epoch 132, loss: 0.34713, acc: 0.90131, val_loss: 0.51589, val_accuracy: 0.88544\n"
     ]
    },
    {
     "name": "stderr",
     "output_type": "stream",
     "text": [
      "100%|████████████████████████████████████████████████████████████████████████████████████| 4/4 [00:00<00:00,  9.24it/s]\n"
     ]
    },
    {
     "name": "stdout",
     "output_type": "stream",
     "text": [
      "epoch 133, loss: 0.34665, acc: 0.90131, val_loss: 0.51720, val_accuracy: 0.88544\n"
     ]
    },
    {
     "name": "stderr",
     "output_type": "stream",
     "text": [
      "100%|████████████████████████████████████████████████████████████████████████████████████| 4/4 [00:00<00:00,  8.93it/s]\n"
     ]
    },
    {
     "name": "stdout",
     "output_type": "stream",
     "text": [
      "epoch 134, loss: 0.34621, acc: 0.90149, val_loss: 0.51784, val_accuracy: 0.88544\n"
     ]
    },
    {
     "name": "stderr",
     "output_type": "stream",
     "text": [
      "100%|████████████████████████████████████████████████████████████████████████████████████| 4/4 [00:00<00:00,  7.17it/s]\n"
     ]
    },
    {
     "name": "stdout",
     "output_type": "stream",
     "text": [
      "epoch 135, loss: 0.34575, acc: 0.90146, val_loss: 0.51972, val_accuracy: 0.88544\n"
     ]
    },
    {
     "name": "stderr",
     "output_type": "stream",
     "text": [
      "100%|████████████████████████████████████████████████████████████████████████████████████| 4/4 [00:00<00:00,  6.73it/s]\n"
     ]
    },
    {
     "name": "stdout",
     "output_type": "stream",
     "text": [
      "epoch 136, loss: 0.34536, acc: 0.90157, val_loss: 0.51973, val_accuracy: 0.88544\n"
     ]
    },
    {
     "name": "stderr",
     "output_type": "stream",
     "text": [
      "100%|████████████████████████████████████████████████████████████████████████████████████| 4/4 [00:00<00:00,  8.01it/s]\n"
     ]
    },
    {
     "name": "stdout",
     "output_type": "stream",
     "text": [
      "epoch 137, loss: 0.34486, acc: 0.90154, val_loss: 0.52250, val_accuracy: 0.88544\n"
     ]
    },
    {
     "name": "stderr",
     "output_type": "stream",
     "text": [
      "100%|████████████████████████████████████████████████████████████████████████████████████| 4/4 [00:00<00:00,  7.78it/s]\n"
     ]
    },
    {
     "name": "stdout",
     "output_type": "stream",
     "text": [
      "epoch 138, loss: 0.34443, acc: 0.90160, val_loss: 0.52268, val_accuracy: 0.88544\n"
     ]
    },
    {
     "name": "stderr",
     "output_type": "stream",
     "text": [
      "100%|████████████████████████████████████████████████████████████████████████████████████| 4/4 [00:00<00:00,  6.22it/s]\n"
     ]
    },
    {
     "name": "stdout",
     "output_type": "stream",
     "text": [
      "epoch 139, loss: 0.34393, acc: 0.90163, val_loss: 0.52466, val_accuracy: 0.88544\n"
     ]
    },
    {
     "name": "stderr",
     "output_type": "stream",
     "text": [
      "100%|████████████████████████████████████████████████████████████████████████████████████| 4/4 [00:00<00:00,  8.08it/s]\n"
     ]
    },
    {
     "name": "stdout",
     "output_type": "stream",
     "text": [
      "epoch 140, loss: 0.34346, acc: 0.90166, val_loss: 0.52467, val_accuracy: 0.88544\n"
     ]
    },
    {
     "name": "stderr",
     "output_type": "stream",
     "text": [
      "100%|████████████████████████████████████████████████████████████████████████████████████| 4/4 [00:00<00:00,  8.19it/s]\n"
     ]
    },
    {
     "name": "stdout",
     "output_type": "stream",
     "text": [
      "epoch 141, loss: 0.34299, acc: 0.90163, val_loss: 0.52694, val_accuracy: 0.88282\n"
     ]
    },
    {
     "name": "stderr",
     "output_type": "stream",
     "text": [
      "100%|████████████████████████████████████████████████████████████████████████████████████| 4/4 [00:00<00:00,  5.80it/s]\n"
     ]
    },
    {
     "name": "stdout",
     "output_type": "stream",
     "text": [
      "epoch 142, loss: 0.34253, acc: 0.90157, val_loss: 0.52862, val_accuracy: 0.88282\n"
     ]
    },
    {
     "name": "stderr",
     "output_type": "stream",
     "text": [
      "100%|████████████████████████████████████████████████████████████████████████████████████| 4/4 [00:00<00:00,  7.77it/s]\n"
     ]
    },
    {
     "name": "stdout",
     "output_type": "stream",
     "text": [
      "epoch 143, loss: 0.34212, acc: 0.90160, val_loss: 0.52857, val_accuracy: 0.88282\n"
     ]
    },
    {
     "name": "stderr",
     "output_type": "stream",
     "text": [
      "100%|████████████████████████████████████████████████████████████████████████████████████| 4/4 [00:00<00:00,  7.87it/s]\n"
     ]
    },
    {
     "name": "stdout",
     "output_type": "stream",
     "text": [
      "epoch 144, loss: 0.34165, acc: 0.90163, val_loss: 0.53136, val_accuracy: 0.88282\n"
     ]
    },
    {
     "name": "stderr",
     "output_type": "stream",
     "text": [
      "100%|████████████████████████████████████████████████████████████████████████████████████| 4/4 [00:00<00:00,  7.75it/s]\n"
     ]
    },
    {
     "name": "stdout",
     "output_type": "stream",
     "text": [
      "epoch 145, loss: 0.34122, acc: 0.90169, val_loss: 0.52986, val_accuracy: 0.88282\n"
     ]
    },
    {
     "name": "stderr",
     "output_type": "stream",
     "text": [
      "100%|████████████████████████████████████████████████████████████████████████████████████| 4/4 [00:00<00:00,  8.13it/s]\n"
     ]
    },
    {
     "name": "stdout",
     "output_type": "stream",
     "text": [
      "epoch 146, loss: 0.34068, acc: 0.90172, val_loss: 0.53347, val_accuracy: 0.88282\n"
     ]
    },
    {
     "name": "stderr",
     "output_type": "stream",
     "text": [
      "100%|████████████████████████████████████████████████████████████████████████████████████| 4/4 [00:00<00:00,  8.10it/s]\n"
     ]
    },
    {
     "name": "stdout",
     "output_type": "stream",
     "text": [
      "epoch 147, loss: 0.34029, acc: 0.90169, val_loss: 0.53370, val_accuracy: 0.88282\n"
     ]
    },
    {
     "name": "stderr",
     "output_type": "stream",
     "text": [
      "100%|████████████████████████████████████████████████████████████████████████████████████| 4/4 [00:00<00:00,  7.72it/s]\n"
     ]
    },
    {
     "name": "stdout",
     "output_type": "stream",
     "text": [
      "epoch 148, loss: 0.33981, acc: 0.90175, val_loss: 0.53437, val_accuracy: 0.88282\n"
     ]
    },
    {
     "name": "stderr",
     "output_type": "stream",
     "text": [
      "100%|████████████████████████████████████████████████████████████████████████████████████| 4/4 [00:00<00:00,  8.40it/s]\n"
     ]
    },
    {
     "name": "stdout",
     "output_type": "stream",
     "text": [
      "epoch 149, loss: 0.33936, acc: 0.90166, val_loss: 0.53711, val_accuracy: 0.88282\n"
     ]
    },
    {
     "name": "stderr",
     "output_type": "stream",
     "text": [
      "100%|████████████████████████████████████████████████████████████████████████████████████| 4/4 [00:00<00:00,  6.58it/s]\n"
     ]
    },
    {
     "name": "stdout",
     "output_type": "stream",
     "text": [
      "epoch 150, loss: 0.33896, acc: 0.90181, val_loss: 0.53492, val_accuracy: 0.88282\n"
     ]
    },
    {
     "name": "stderr",
     "output_type": "stream",
     "text": [
      "100%|████████████████████████████████████████████████████████████████████████████████████| 4/4 [00:00<00:00,  8.37it/s]\n"
     ]
    },
    {
     "name": "stdout",
     "output_type": "stream",
     "text": [
      "epoch 151, loss: 0.33850, acc: 0.90192, val_loss: 0.53989, val_accuracy: 0.87651\n"
     ]
    },
    {
     "name": "stderr",
     "output_type": "stream",
     "text": [
      "100%|████████████████████████████████████████████████████████████████████████████████████| 4/4 [00:00<00:00,  7.90it/s]\n"
     ]
    },
    {
     "name": "stdout",
     "output_type": "stream",
     "text": [
      "epoch 152, loss: 0.33815, acc: 0.90184, val_loss: 0.53853, val_accuracy: 0.88282\n"
     ]
    },
    {
     "name": "stderr",
     "output_type": "stream",
     "text": [
      "100%|████████████████████████████████████████████████████████████████████████████████████| 4/4 [00:00<00:00,  8.14it/s]\n"
     ]
    },
    {
     "name": "stdout",
     "output_type": "stream",
     "text": [
      "epoch 153, loss: 0.33764, acc: 0.90207, val_loss: 0.54050, val_accuracy: 0.87651\n"
     ]
    },
    {
     "name": "stderr",
     "output_type": "stream",
     "text": [
      "100%|████████████████████████████████████████████████████████████████████████████████████| 4/4 [00:00<00:00,  8.14it/s]\n"
     ]
    },
    {
     "name": "stdout",
     "output_type": "stream",
     "text": [
      "epoch 154, loss: 0.33729, acc: 0.90181, val_loss: 0.54320, val_accuracy: 0.87651\n"
     ]
    },
    {
     "name": "stderr",
     "output_type": "stream",
     "text": [
      "100%|████████████████████████████████████████████████████████████████████████████████████| 4/4 [00:00<00:00,  7.92it/s]\n"
     ]
    },
    {
     "name": "stdout",
     "output_type": "stream",
     "text": [
      "epoch 155, loss: 0.33677, acc: 0.90207, val_loss: 0.53990, val_accuracy: 0.87651\n"
     ]
    },
    {
     "name": "stderr",
     "output_type": "stream",
     "text": [
      "100%|████████████████████████████████████████████████████████████████████████████████████| 4/4 [00:00<00:00,  8.14it/s]\n"
     ]
    },
    {
     "name": "stdout",
     "output_type": "stream",
     "text": [
      "epoch 156, loss: 0.33638, acc: 0.90213, val_loss: 0.54432, val_accuracy: 0.87651\n"
     ]
    },
    {
     "name": "stderr",
     "output_type": "stream",
     "text": [
      "100%|████████████████████████████████████████████████████████████████████████████████████| 4/4 [00:00<00:00,  6.17it/s]\n"
     ]
    },
    {
     "name": "stdout",
     "output_type": "stream",
     "text": [
      "epoch 157, loss: 0.33599, acc: 0.90204, val_loss: 0.54498, val_accuracy: 0.87441\n"
     ]
    },
    {
     "name": "stderr",
     "output_type": "stream",
     "text": [
      "100%|████████████████████████████████████████████████████████████████████████████████████| 4/4 [00:00<00:00,  7.62it/s]\n"
     ]
    },
    {
     "name": "stdout",
     "output_type": "stream",
     "text": [
      "epoch 158, loss: 0.33542, acc: 0.90210, val_loss: 0.54459, val_accuracy: 0.87651\n"
     ]
    },
    {
     "name": "stderr",
     "output_type": "stream",
     "text": [
      "100%|████████████████████████████████████████████████████████████████████████████████████| 4/4 [00:00<00:00,  7.56it/s]\n"
     ]
    },
    {
     "name": "stdout",
     "output_type": "stream",
     "text": [
      "epoch 159, loss: 0.33512, acc: 0.90213, val_loss: 0.54758, val_accuracy: 0.87651\n"
     ]
    },
    {
     "name": "stderr",
     "output_type": "stream",
     "text": [
      "100%|████████████████████████████████████████████████████████████████████████████████████| 4/4 [00:00<00:00,  5.90it/s]\n"
     ]
    },
    {
     "name": "stdout",
     "output_type": "stream",
     "text": [
      "epoch 160, loss: 0.33455, acc: 0.90207, val_loss: 0.54786, val_accuracy: 0.87441\n"
     ]
    },
    {
     "name": "stderr",
     "output_type": "stream",
     "text": [
      "100%|████████████████████████████████████████████████████████████████████████████████████| 4/4 [00:00<00:00,  8.35it/s]\n"
     ]
    },
    {
     "name": "stdout",
     "output_type": "stream",
     "text": [
      "epoch 161, loss: 0.33408, acc: 0.90222, val_loss: 0.54779, val_accuracy: 0.87441\n"
     ]
    },
    {
     "name": "stderr",
     "output_type": "stream",
     "text": [
      "100%|████████████████████████████████████████████████████████████████████████████████████| 4/4 [00:00<00:00,  8.10it/s]\n"
     ]
    },
    {
     "name": "stdout",
     "output_type": "stream",
     "text": [
      "epoch 162, loss: 0.33387, acc: 0.90198, val_loss: 0.55227, val_accuracy: 0.87441\n"
     ]
    },
    {
     "name": "stderr",
     "output_type": "stream",
     "text": [
      "100%|████████████████████████████████████████████████████████████████████████████████████| 4/4 [00:00<00:00,  8.33it/s]\n"
     ]
    },
    {
     "name": "stdout",
     "output_type": "stream",
     "text": [
      "epoch 163, loss: 0.33320, acc: 0.90216, val_loss: 0.55123, val_accuracy: 0.87441\n"
     ]
    },
    {
     "name": "stderr",
     "output_type": "stream",
     "text": [
      "100%|████████████████████████████████████████████████████████████████████████████████████| 4/4 [00:00<00:00,  8.06it/s]\n"
     ]
    },
    {
     "name": "stdout",
     "output_type": "stream",
     "text": [
      "epoch 164, loss: 0.33284, acc: 0.90222, val_loss: 0.54893, val_accuracy: 0.87651\n"
     ]
    },
    {
     "name": "stderr",
     "output_type": "stream",
     "text": [
      "100%|████████████████████████████████████████████████████████████████████████████████████| 4/4 [00:00<00:00,  7.97it/s]\n"
     ]
    },
    {
     "name": "stdout",
     "output_type": "stream",
     "text": [
      "epoch 165, loss: 0.33284, acc: 0.90201, val_loss: 0.55515, val_accuracy: 0.87441\n"
     ]
    },
    {
     "name": "stderr",
     "output_type": "stream",
     "text": [
      "100%|████████████████████████████████████████████████████████████████████████████████████| 4/4 [00:00<00:00,  7.42it/s]\n"
     ]
    },
    {
     "name": "stdout",
     "output_type": "stream",
     "text": [
      "epoch 166, loss: 0.33201, acc: 0.90222, val_loss: 0.55261, val_accuracy: 0.87651\n"
     ]
    },
    {
     "name": "stderr",
     "output_type": "stream",
     "text": [
      "100%|████████████████████████████████████████████████████████████████████████████████████| 4/4 [00:00<00:00,  6.13it/s]\n"
     ]
    },
    {
     "name": "stdout",
     "output_type": "stream",
     "text": [
      "epoch 167, loss: 0.33187, acc: 0.90242, val_loss: 0.55255, val_accuracy: 0.87651\n"
     ]
    },
    {
     "name": "stderr",
     "output_type": "stream",
     "text": [
      "100%|████████████████████████████████████████████████████████████████████████████████████| 4/4 [00:00<00:00,  7.72it/s]\n"
     ]
    },
    {
     "name": "stdout",
     "output_type": "stream",
     "text": [
      "epoch 168, loss: 0.33178, acc: 0.90210, val_loss: 0.55933, val_accuracy: 0.87362\n"
     ]
    },
    {
     "name": "stderr",
     "output_type": "stream",
     "text": [
      "100%|████████████████████████████████████████████████████████████████████████████████████| 4/4 [00:00<00:00,  7.71it/s]\n"
     ]
    },
    {
     "name": "stdout",
     "output_type": "stream",
     "text": [
      "epoch 169, loss: 0.33091, acc: 0.90225, val_loss: 0.55402, val_accuracy: 0.87651\n"
     ]
    },
    {
     "name": "stderr",
     "output_type": "stream",
     "text": [
      "100%|████████████████████████████████████████████████████████████████████████████████████| 4/4 [00:00<00:00,  6.14it/s]\n"
     ]
    },
    {
     "name": "stdout",
     "output_type": "stream",
     "text": [
      "epoch 170, loss: 0.33084, acc: 0.90265, val_loss: 0.55270, val_accuracy: 0.87651\n"
     ]
    },
    {
     "name": "stderr",
     "output_type": "stream",
     "text": [
      "100%|████████████████████████████████████████████████████████████████████████████████████| 4/4 [00:00<00:00,  7.95it/s]\n"
     ]
    },
    {
     "name": "stdout",
     "output_type": "stream",
     "text": [
      "epoch 171, loss: 0.33109, acc: 0.90222, val_loss: 0.56067, val_accuracy: 0.87493\n"
     ]
    },
    {
     "name": "stderr",
     "output_type": "stream",
     "text": [
      "100%|████████████████████████████████████████████████████████████████████████████████████| 4/4 [00:00<00:00,  7.46it/s]\n"
     ]
    },
    {
     "name": "stdout",
     "output_type": "stream",
     "text": [
      "epoch 172, loss: 0.32990, acc: 0.90219, val_loss: 0.55574, val_accuracy: 0.87651\n"
     ]
    },
    {
     "name": "stderr",
     "output_type": "stream",
     "text": [
      "100%|████████████████████████████████████████████████████████████████████████████████████| 4/4 [00:00<00:00,  8.06it/s]\n"
     ]
    },
    {
     "name": "stdout",
     "output_type": "stream",
     "text": [
      "epoch 173, loss: 0.33015, acc: 0.90254, val_loss: 0.55877, val_accuracy: 0.87625\n"
     ]
    },
    {
     "name": "stderr",
     "output_type": "stream",
     "text": [
      "100%|████████████████████████████████████████████████████████████████████████████████████| 4/4 [00:00<00:00,  8.58it/s]\n"
     ]
    },
    {
     "name": "stdout",
     "output_type": "stream",
     "text": [
      "epoch 174, loss: 0.32985, acc: 0.90222, val_loss: 0.56033, val_accuracy: 0.87520\n"
     ]
    },
    {
     "name": "stderr",
     "output_type": "stream",
     "text": [
      "100%|████████████████████████████████████████████████████████████████████████████████████| 4/4 [00:00<00:00,  7.92it/s]\n"
     ]
    },
    {
     "name": "stdout",
     "output_type": "stream",
     "text": [
      "epoch 175, loss: 0.32867, acc: 0.90265, val_loss: 0.55980, val_accuracy: 0.87651\n"
     ]
    },
    {
     "name": "stderr",
     "output_type": "stream",
     "text": [
      "100%|████████████████████████████████████████████████████████████████████████████████████| 4/4 [00:00<00:00,  7.43it/s]\n"
     ]
    },
    {
     "name": "stdout",
     "output_type": "stream",
     "text": [
      "epoch 176, loss: 0.32879, acc: 0.90265, val_loss: 0.55773, val_accuracy: 0.87625\n"
     ]
    },
    {
     "name": "stderr",
     "output_type": "stream",
     "text": [
      "100%|████████████████████████████████████████████████████████████████████████████████████| 4/4 [00:00<00:00,  8.08it/s]\n"
     ]
    },
    {
     "name": "stdout",
     "output_type": "stream",
     "text": [
      "epoch 177, loss: 0.32890, acc: 0.90230, val_loss: 0.56919, val_accuracy: 0.87257\n"
     ]
    },
    {
     "name": "stderr",
     "output_type": "stream",
     "text": [
      "100%|████████████████████████████████████████████████████████████████████████████████████| 4/4 [00:00<00:00,  5.62it/s]\n"
     ]
    },
    {
     "name": "stdout",
     "output_type": "stream",
     "text": [
      "epoch 178, loss: 0.32812, acc: 0.90254, val_loss: 0.55910, val_accuracy: 0.87362\n"
     ]
    },
    {
     "name": "stderr",
     "output_type": "stream",
     "text": [
      "100%|████████████████████████████████████████████████████████████████████████████████████| 4/4 [00:00<00:00,  8.69it/s]\n"
     ]
    },
    {
     "name": "stdout",
     "output_type": "stream",
     "text": [
      "epoch 179, loss: 0.32910, acc: 0.90268, val_loss: 0.56399, val_accuracy: 0.87310\n"
     ]
    },
    {
     "name": "stderr",
     "output_type": "stream",
     "text": [
      "100%|████████████████████████████████████████████████████████████████████████████████████| 4/4 [00:00<00:00,  8.70it/s]\n"
     ]
    },
    {
     "name": "stdout",
     "output_type": "stream",
     "text": [
      "epoch 180, loss: 0.32829, acc: 0.90239, val_loss: 0.56730, val_accuracy: 0.87283\n"
     ]
    },
    {
     "name": "stderr",
     "output_type": "stream",
     "text": [
      "100%|████████████████████████████████████████████████████████████████████████████████████| 4/4 [00:00<00:00,  8.79it/s]\n"
     ]
    },
    {
     "name": "stdout",
     "output_type": "stream",
     "text": [
      "epoch 181, loss: 0.32668, acc: 0.90286, val_loss: 0.56376, val_accuracy: 0.87651\n"
     ]
    },
    {
     "name": "stderr",
     "output_type": "stream",
     "text": [
      "100%|████████████████████████████████████████████████████████████████████████████████████| 4/4 [00:00<00:00,  7.49it/s]\n"
     ]
    },
    {
     "name": "stdout",
     "output_type": "stream",
     "text": [
      "epoch 182, loss: 0.32743, acc: 0.90260, val_loss: 0.55999, val_accuracy: 0.87546\n"
     ]
    },
    {
     "name": "stderr",
     "output_type": "stream",
     "text": [
      "100%|████████████████████████████████████████████████████████████████████████████████████| 4/4 [00:00<00:00,  7.89it/s]\n"
     ]
    },
    {
     "name": "stdout",
     "output_type": "stream",
     "text": [
      "epoch 183, loss: 0.32735, acc: 0.90274, val_loss: 0.57484, val_accuracy: 0.87467\n"
     ]
    },
    {
     "name": "stderr",
     "output_type": "stream",
     "text": [
      "100%|████████████████████████████████████████████████████████████████████████████████████| 4/4 [00:00<00:00,  8.06it/s]\n"
     ]
    },
    {
     "name": "stdout",
     "output_type": "stream",
     "text": [
      "epoch 184, loss: 0.32684, acc: 0.90274, val_loss: 0.57122, val_accuracy: 0.87257\n"
     ]
    },
    {
     "name": "stderr",
     "output_type": "stream",
     "text": [
      "100%|████████████████████████████████████████████████████████████████████████████████████| 4/4 [00:00<00:00,  5.94it/s]\n"
     ]
    },
    {
     "name": "stdout",
     "output_type": "stream",
     "text": [
      "epoch 185, loss: 0.32714, acc: 0.90295, val_loss: 0.57051, val_accuracy: 0.87336\n"
     ]
    },
    {
     "name": "stderr",
     "output_type": "stream",
     "text": [
      "100%|████████████████████████████████████████████████████████████████████████████████████| 4/4 [00:00<00:00,  8.08it/s]\n"
     ]
    },
    {
     "name": "stdout",
     "output_type": "stream",
     "text": [
      "epoch 186, loss: 0.32685, acc: 0.90257, val_loss: 0.57279, val_accuracy: 0.87283\n"
     ]
    },
    {
     "name": "stderr",
     "output_type": "stream",
     "text": [
      "100%|████████████████████████████████████████████████████████████████████████████████████| 4/4 [00:00<00:00,  7.83it/s]\n"
     ]
    },
    {
     "name": "stdout",
     "output_type": "stream",
     "text": [
      "epoch 187, loss: 0.32428, acc: 0.90318, val_loss: 0.57712, val_accuracy: 0.87283\n"
     ]
    },
    {
     "name": "stderr",
     "output_type": "stream",
     "text": [
      "100%|████████████████████████████████████████████████████████████████████████████████████| 4/4 [00:00<00:00,  5.64it/s]\n"
     ]
    },
    {
     "name": "stdout",
     "output_type": "stream",
     "text": [
      "epoch 188, loss: 0.32425, acc: 0.90324, val_loss: 0.56392, val_accuracy: 0.87336\n"
     ]
    },
    {
     "name": "stderr",
     "output_type": "stream",
     "text": [
      "100%|████████████████████████████████████████████████████████████████████████████████████| 4/4 [00:00<00:00,  8.28it/s]\n"
     ]
    },
    {
     "name": "stdout",
     "output_type": "stream",
     "text": [
      "epoch 189, loss: 0.32519, acc: 0.90292, val_loss: 0.57355, val_accuracy: 0.87257\n"
     ]
    },
    {
     "name": "stderr",
     "output_type": "stream",
     "text": [
      "100%|████████████████████████████████████████████████████████████████████████████████████| 4/4 [00:00<00:00,  8.10it/s]\n"
     ]
    },
    {
     "name": "stdout",
     "output_type": "stream",
     "text": [
      "epoch 190, loss: 0.32429, acc: 0.90298, val_loss: 0.57648, val_accuracy: 0.87283\n"
     ]
    },
    {
     "name": "stderr",
     "output_type": "stream",
     "text": [
      "100%|████████████████████████████████████████████████████████████████████████████████████| 4/4 [00:00<00:00,  8.30it/s]\n"
     ]
    },
    {
     "name": "stdout",
     "output_type": "stream",
     "text": [
      "epoch 191, loss: 0.32376, acc: 0.90324, val_loss: 0.56699, val_accuracy: 0.87546\n"
     ]
    },
    {
     "name": "stderr",
     "output_type": "stream",
     "text": [
      "100%|████████████████████████████████████████████████████████████████████████████████████| 4/4 [00:00<00:00,  7.14it/s]\n"
     ]
    },
    {
     "name": "stdout",
     "output_type": "stream",
     "text": [
      "epoch 192, loss: 0.32411, acc: 0.90298, val_loss: 0.56640, val_accuracy: 0.87520\n"
     ]
    },
    {
     "name": "stderr",
     "output_type": "stream",
     "text": [
      "100%|████████████████████████████████████████████████████████████████████████████████████| 4/4 [00:00<00:00,  7.66it/s]\n"
     ]
    },
    {
     "name": "stdout",
     "output_type": "stream",
     "text": [
      "epoch 193, loss: 0.32315, acc: 0.90312, val_loss: 0.58268, val_accuracy: 0.87204\n"
     ]
    },
    {
     "name": "stderr",
     "output_type": "stream",
     "text": [
      "100%|████████████████████████████████████████████████████████████████████████████████████| 4/4 [00:00<00:00,  7.92it/s]\n"
     ]
    },
    {
     "name": "stdout",
     "output_type": "stream",
     "text": [
      "epoch 194, loss: 0.32223, acc: 0.90318, val_loss: 0.57311, val_accuracy: 0.87336\n"
     ]
    },
    {
     "name": "stderr",
     "output_type": "stream",
     "text": [
      "100%|████████████████████████████████████████████████████████████████████████████████████| 4/4 [00:00<00:00,  6.49it/s]\n"
     ]
    },
    {
     "name": "stdout",
     "output_type": "stream",
     "text": [
      "epoch 195, loss: 0.32357, acc: 0.90318, val_loss: 0.56932, val_accuracy: 0.87310\n"
     ]
    },
    {
     "name": "stderr",
     "output_type": "stream",
     "text": [
      "100%|████████████████████████████████████████████████████████████████████████████████████| 4/4 [00:00<00:00,  8.06it/s]\n"
     ]
    },
    {
     "name": "stdout",
     "output_type": "stream",
     "text": [
      "epoch 196, loss: 0.32292, acc: 0.90300, val_loss: 0.57316, val_accuracy: 0.87283\n"
     ]
    },
    {
     "name": "stderr",
     "output_type": "stream",
     "text": [
      "100%|████████████████████████████████████████████████████████████████████████████████████| 4/4 [00:00<00:00,  7.97it/s]\n"
     ]
    },
    {
     "name": "stdout",
     "output_type": "stream",
     "text": [
      "epoch 197, loss: 0.32130, acc: 0.90333, val_loss: 0.58479, val_accuracy: 0.87204\n"
     ]
    },
    {
     "name": "stderr",
     "output_type": "stream",
     "text": [
      "100%|████████████████████████████████████████████████████████████████████████████████████| 4/4 [00:00<00:00,  6.22it/s]\n"
     ]
    },
    {
     "name": "stdout",
     "output_type": "stream",
     "text": [
      "epoch 198, loss: 0.32094, acc: 0.90338, val_loss: 0.57065, val_accuracy: 0.87520\n"
     ]
    },
    {
     "name": "stderr",
     "output_type": "stream",
     "text": [
      "100%|████████████████████████████████████████████████████████████████████████████████████| 4/4 [00:00<00:00,  8.13it/s]\n"
     ]
    },
    {
     "name": "stdout",
     "output_type": "stream",
     "text": [
      "epoch 199, loss: 0.32269, acc: 0.90344, val_loss: 0.57179, val_accuracy: 0.87493\n"
     ]
    },
    {
     "name": "stderr",
     "output_type": "stream",
     "text": [
      "100%|████████████████████████████████████████████████████████████████████████████████████| 4/4 [00:00<00:00,  6.62it/s]\n"
     ]
    },
    {
     "name": "stdout",
     "output_type": "stream",
     "text": [
      "epoch 200, loss: 0.32176, acc: 0.90283, val_loss: 0.57712, val_accuracy: 0.87283\n"
     ]
    },
    {
     "name": "stderr",
     "output_type": "stream",
     "text": [
      "100%|████████████████████████████████████████████████████████████████████████████████████| 4/4 [00:00<00:00,  7.59it/s]\n"
     ]
    },
    {
     "name": "stdout",
     "output_type": "stream",
     "text": [
      "epoch 201, loss: 0.32010, acc: 0.90356, val_loss: 0.58911, val_accuracy: 0.87204\n"
     ]
    },
    {
     "name": "stderr",
     "output_type": "stream",
     "text": [
      "100%|████████████████████████████████████████████████████████████████████████████████████| 4/4 [00:00<00:00,  7.86it/s]\n"
     ]
    },
    {
     "name": "stdout",
     "output_type": "stream",
     "text": [
      "epoch 202, loss: 0.31966, acc: 0.90347, val_loss: 0.56947, val_accuracy: 0.87520\n"
     ]
    },
    {
     "name": "stderr",
     "output_type": "stream",
     "text": [
      "100%|████████████████████████████████████████████████████████████████████████████████████| 4/4 [00:00<00:00,  7.92it/s]\n"
     ]
    },
    {
     "name": "stdout",
     "output_type": "stream",
     "text": [
      "epoch 203, loss: 0.32166, acc: 0.90350, val_loss: 0.57210, val_accuracy: 0.87493\n"
     ]
    },
    {
     "name": "stderr",
     "output_type": "stream",
     "text": [
      "100%|████████████████████████████████████████████████████████████████████████████████████| 4/4 [00:00<00:00,  7.80it/s]\n"
     ]
    },
    {
     "name": "stdout",
     "output_type": "stream",
     "text": [
      "epoch 204, loss: 0.32122, acc: 0.90292, val_loss: 0.57742, val_accuracy: 0.87467\n"
     ]
    },
    {
     "name": "stderr",
     "output_type": "stream",
     "text": [
      "100%|████████████████████████████████████████████████████████████████████████████████████| 4/4 [00:00<00:00,  8.16it/s]\n"
     ]
    },
    {
     "name": "stdout",
     "output_type": "stream",
     "text": [
      "epoch 205, loss: 0.31910, acc: 0.90350, val_loss: 0.58875, val_accuracy: 0.87204\n"
     ]
    },
    {
     "name": "stderr",
     "output_type": "stream",
     "text": [
      "100%|████████████████████████████████████████████████████████████████████████████████████| 4/4 [00:00<00:00,  5.98it/s]\n"
     ]
    },
    {
     "name": "stdout",
     "output_type": "stream",
     "text": [
      "epoch 206, loss: 0.31814, acc: 0.90353, val_loss: 0.57421, val_accuracy: 0.87310\n"
     ]
    },
    {
     "name": "stderr",
     "output_type": "stream",
     "text": [
      "100%|████████████████████████████████████████████████████████████████████████████████████| 4/4 [00:00<00:00,  8.03it/s]\n"
     ]
    },
    {
     "name": "stdout",
     "output_type": "stream",
     "text": [
      "epoch 207, loss: 0.32017, acc: 0.90365, val_loss: 0.57461, val_accuracy: 0.87467\n"
     ]
    },
    {
     "name": "stderr",
     "output_type": "stream",
     "text": [
      "100%|████████████████████████████████████████████████████████████████████████████████████| 4/4 [00:00<00:00,  7.98it/s]\n"
     ]
    },
    {
     "name": "stdout",
     "output_type": "stream",
     "text": [
      "epoch 208, loss: 0.31982, acc: 0.90303, val_loss: 0.58397, val_accuracy: 0.87231\n"
     ]
    },
    {
     "name": "stderr",
     "output_type": "stream",
     "text": [
      "100%|████████████████████████████████████████████████████████████████████████████████████| 4/4 [00:00<00:00,  8.35it/s]\n"
     ]
    },
    {
     "name": "stdout",
     "output_type": "stream",
     "text": [
      "epoch 209, loss: 0.31736, acc: 0.90394, val_loss: 0.58714, val_accuracy: 0.87415\n"
     ]
    },
    {
     "name": "stderr",
     "output_type": "stream",
     "text": [
      "100%|████████████████████████████████████████████████████████████████████████████████████| 4/4 [00:00<00:00,  7.44it/s]\n"
     ]
    },
    {
     "name": "stdout",
     "output_type": "stream",
     "text": [
      "epoch 210, loss: 0.31724, acc: 0.90420, val_loss: 0.57135, val_accuracy: 0.87546\n"
     ]
    },
    {
     "name": "stderr",
     "output_type": "stream",
     "text": [
      "100%|████████████████████████████████████████████████████████████████████████████████████| 4/4 [00:00<00:00,  8.19it/s]\n"
     ]
    },
    {
     "name": "stdout",
     "output_type": "stream",
     "text": [
      "epoch 211, loss: 0.31980, acc: 0.90385, val_loss: 0.57780, val_accuracy: 0.87257\n"
     ]
    },
    {
     "name": "stderr",
     "output_type": "stream",
     "text": [
      "100%|████████████████████████████████████████████████████████████████████████████████████| 4/4 [00:00<00:00,  8.38it/s]\n"
     ]
    },
    {
     "name": "stdout",
     "output_type": "stream",
     "text": [
      "epoch 212, loss: 0.31958, acc: 0.90327, val_loss: 0.59275, val_accuracy: 0.87020\n"
     ]
    },
    {
     "name": "stderr",
     "output_type": "stream",
     "text": [
      "100%|████████████████████████████████████████████████████████████████████████████████████| 4/4 [00:00<00:00,  6.86it/s]\n"
     ]
    },
    {
     "name": "stdout",
     "output_type": "stream",
     "text": [
      "epoch 213, loss: 0.31719, acc: 0.90388, val_loss: 0.58475, val_accuracy: 0.87467\n"
     ]
    },
    {
     "name": "stderr",
     "output_type": "stream",
     "text": [
      "100%|████████████████████████████████████████████████████████████████████████████████████| 4/4 [00:00<00:00,  8.49it/s]\n"
     ]
    },
    {
     "name": "stdout",
     "output_type": "stream",
     "text": [
      "epoch 214, loss: 0.31818, acc: 0.90400, val_loss: 0.56981, val_accuracy: 0.87546\n"
     ]
    },
    {
     "name": "stderr",
     "output_type": "stream",
     "text": [
      "100%|████████████████████████████████████████████████████████████████████████████████████| 4/4 [00:00<00:00,  8.55it/s]\n"
     ]
    },
    {
     "name": "stdout",
     "output_type": "stream",
     "text": [
      "epoch 215, loss: 0.32117, acc: 0.90353, val_loss: 0.58403, val_accuracy: 0.87441\n"
     ]
    },
    {
     "name": "stderr",
     "output_type": "stream",
     "text": [
      "100%|████████████████████████████████████████████████████████████████████████████████████| 4/4 [00:00<00:00,  6.76it/s]\n"
     ]
    },
    {
     "name": "stdout",
     "output_type": "stream",
     "text": [
      "epoch 216, loss: 0.32165, acc: 0.90303, val_loss: 0.59365, val_accuracy: 0.86101\n"
     ]
    },
    {
     "name": "stderr",
     "output_type": "stream",
     "text": [
      "100%|████████████████████████████████████████████████████████████████████████████████████| 4/4 [00:00<00:00,  8.69it/s]\n"
     ]
    },
    {
     "name": "stdout",
     "output_type": "stream",
     "text": [
      "epoch 217, loss: 0.31845, acc: 0.90408, val_loss: 0.58931, val_accuracy: 0.87257\n"
     ]
    },
    {
     "name": "stderr",
     "output_type": "stream",
     "text": [
      "100%|████████████████████████████████████████████████████████████████████████████████████| 4/4 [00:00<00:00,  8.23it/s]\n"
     ]
    },
    {
     "name": "stdout",
     "output_type": "stream",
     "text": [
      "epoch 218, loss: 0.31988, acc: 0.90333, val_loss: 0.57088, val_accuracy: 0.87257\n"
     ]
    },
    {
     "name": "stderr",
     "output_type": "stream",
     "text": [
      "100%|████████████████████████████████████████████████████████████████████████████████████| 4/4 [00:00<00:00,  7.97it/s]\n"
     ]
    },
    {
     "name": "stdout",
     "output_type": "stream",
     "text": [
      "epoch 219, loss: 0.31862, acc: 0.90338, val_loss: 0.60702, val_accuracy: 0.85917\n"
     ]
    },
    {
     "name": "stderr",
     "output_type": "stream",
     "text": [
      "100%|████████████████████████████████████████████████████████████████████████████████████| 4/4 [00:00<00:00,  8.42it/s]\n"
     ]
    },
    {
     "name": "stdout",
     "output_type": "stream",
     "text": [
      "epoch 220, loss: 0.32011, acc: 0.90408, val_loss: 0.58936, val_accuracy: 0.85970\n"
     ]
    },
    {
     "name": "stderr",
     "output_type": "stream",
     "text": [
      "100%|████████████████████████████████████████████████████████████████████████████████████| 4/4 [00:00<00:00,  8.49it/s]\n"
     ]
    },
    {
     "name": "stdout",
     "output_type": "stream",
     "text": [
      "epoch 221, loss: 0.32153, acc: 0.90382, val_loss: 0.57299, val_accuracy: 0.88203\n"
     ]
    },
    {
     "name": "stderr",
     "output_type": "stream",
     "text": [
      "100%|████████████████████████████████████████████████████████████████████████████████████| 4/4 [00:00<00:00,  8.91it/s]\n"
     ]
    },
    {
     "name": "stdout",
     "output_type": "stream",
     "text": [
      "epoch 222, loss: 0.32296, acc: 0.90265, val_loss: 0.57516, val_accuracy: 0.87441\n"
     ]
    },
    {
     "name": "stderr",
     "output_type": "stream",
     "text": [
      "100%|████████████████████████████████████████████████████████████████████████████████████| 4/4 [00:00<00:00,  6.17it/s]\n"
     ]
    },
    {
     "name": "stdout",
     "output_type": "stream",
     "text": [
      "epoch 223, loss: 0.31793, acc: 0.90327, val_loss: 0.60609, val_accuracy: 0.85733\n"
     ]
    },
    {
     "name": "stderr",
     "output_type": "stream",
     "text": [
      "100%|████████████████████████████████████████████████████████████████████████████████████| 4/4 [00:00<00:00,  8.37it/s]\n"
     ]
    },
    {
     "name": "stdout",
     "output_type": "stream",
     "text": [
      "epoch 224, loss: 0.31664, acc: 0.90417, val_loss: 0.57894, val_accuracy: 0.87546\n"
     ]
    },
    {
     "name": "stderr",
     "output_type": "stream",
     "text": [
      "100%|████████████████████████████████████████████████████████████████████████████████████| 4/4 [00:00<00:00,  8.54it/s]\n"
     ]
    },
    {
     "name": "stdout",
     "output_type": "stream",
     "text": [
      "epoch 225, loss: 0.32128, acc: 0.90353, val_loss: 0.56744, val_accuracy: 0.87546\n"
     ]
    },
    {
     "name": "stderr",
     "output_type": "stream",
     "text": [
      "100%|████████████████████████████████████████████████████████████████████████████████████| 4/4 [00:00<00:00,  5.92it/s]\n"
     ]
    },
    {
     "name": "stdout",
     "output_type": "stream",
     "text": [
      "epoch 226, loss: 0.32161, acc: 0.90338, val_loss: 0.61018, val_accuracy: 0.86153\n"
     ]
    },
    {
     "name": "stderr",
     "output_type": "stream",
     "text": [
      "100%|████████████████████████████████████████████████████████████████████████████████████| 4/4 [00:00<00:00,  6.39it/s]\n"
     ]
    },
    {
     "name": "stdout",
     "output_type": "stream",
     "text": [
      "epoch 227, loss: 0.31951, acc: 0.90423, val_loss: 0.58876, val_accuracy: 0.87520\n"
     ]
    },
    {
     "name": "stderr",
     "output_type": "stream",
     "text": [
      "100%|████████████████████████████████████████████████████████████████████████████████████| 4/4 [00:00<00:00,  8.66it/s]\n"
     ]
    },
    {
     "name": "stdout",
     "output_type": "stream",
     "text": [
      "epoch 228, loss: 0.32220, acc: 0.90324, val_loss: 0.57431, val_accuracy: 0.88177\n"
     ]
    },
    {
     "name": "stderr",
     "output_type": "stream",
     "text": [
      "100%|████████████████████████████████████████████████████████████████████████████████████| 4/4 [00:00<00:00,  8.33it/s]\n"
     ]
    },
    {
     "name": "stdout",
     "output_type": "stream",
     "text": [
      "epoch 229, loss: 0.32065, acc: 0.90260, val_loss: 0.60945, val_accuracy: 0.85996\n"
     ]
    },
    {
     "name": "stderr",
     "output_type": "stream",
     "text": [
      "100%|████████████████████████████████████████████████████████████████████████████████████| 4/4 [00:00<00:00,  7.68it/s]\n"
     ]
    },
    {
     "name": "stdout",
     "output_type": "stream",
     "text": [
      "epoch 230, loss: 0.31543, acc: 0.90444, val_loss: 0.60219, val_accuracy: 0.85786\n"
     ]
    },
    {
     "name": "stderr",
     "output_type": "stream",
     "text": [
      "100%|████████████████████████████████████████████████████████████████████████████████████| 4/4 [00:00<00:00,  8.91it/s]\n"
     ]
    },
    {
     "name": "stdout",
     "output_type": "stream",
     "text": [
      "epoch 231, loss: 0.31733, acc: 0.90414, val_loss: 0.56820, val_accuracy: 0.87546\n"
     ]
    },
    {
     "name": "stderr",
     "output_type": "stream",
     "text": [
      "100%|████████████████████████████████████████████████████████████████████████████████████| 4/4 [00:00<00:00,  8.64it/s]\n"
     ]
    },
    {
     "name": "stdout",
     "output_type": "stream",
     "text": [
      "epoch 232, loss: 0.31601, acc: 0.90312, val_loss: 0.57990, val_accuracy: 0.87126\n"
     ]
    },
    {
     "name": "stderr",
     "output_type": "stream",
     "text": [
      "100%|████████████████████████████████████████████████████████████████████████████████████| 4/4 [00:00<00:00,  9.13it/s]\n"
     ]
    },
    {
     "name": "stdout",
     "output_type": "stream",
     "text": [
      "epoch 233, loss: 0.31391, acc: 0.90385, val_loss: 0.60100, val_accuracy: 0.86101\n"
     ]
    },
    {
     "name": "stderr",
     "output_type": "stream",
     "text": [
      "100%|████████████████████████████████████████████████████████████████████████████████████| 4/4 [00:00<00:00,  6.36it/s]\n"
     ]
    },
    {
     "name": "stdout",
     "output_type": "stream",
     "text": [
      "epoch 234, loss: 0.31312, acc: 0.90429, val_loss: 0.57812, val_accuracy: 0.87546\n"
     ]
    },
    {
     "name": "stderr",
     "output_type": "stream",
     "text": [
      "100%|████████████████████████████████████████████████████████████████████████████████████| 4/4 [00:00<00:00,  8.89it/s]\n"
     ]
    },
    {
     "name": "stdout",
     "output_type": "stream",
     "text": [
      "epoch 235, loss: 0.31406, acc: 0.90420, val_loss: 0.57917, val_accuracy: 0.87257\n"
     ]
    },
    {
     "name": "stderr",
     "output_type": "stream",
     "text": [
      "100%|████████████████████████████████████████████████████████████████████████████████████| 4/4 [00:00<00:00,  8.51it/s]\n"
     ]
    },
    {
     "name": "stdout",
     "output_type": "stream",
     "text": [
      "epoch 236, loss: 0.31314, acc: 0.90350, val_loss: 0.60588, val_accuracy: 0.85891\n"
     ]
    },
    {
     "name": "stderr",
     "output_type": "stream",
     "text": [
      "100%|████████████████████████████████████████████████████████████████████████████████████| 4/4 [00:00<00:00,  8.67it/s]\n"
     ]
    },
    {
     "name": "stdout",
     "output_type": "stream",
     "text": [
      "epoch 237, loss: 0.31117, acc: 0.90435, val_loss: 0.58404, val_accuracy: 0.87520\n"
     ]
    },
    {
     "name": "stderr",
     "output_type": "stream",
     "text": [
      "100%|████████████████████████████████████████████████████████████████████████████████████| 4/4 [00:00<00:00,  7.23it/s]\n"
     ]
    },
    {
     "name": "stdout",
     "output_type": "stream",
     "text": [
      "epoch 238, loss: 0.31382, acc: 0.90417, val_loss: 0.57374, val_accuracy: 0.87520\n"
     ]
    },
    {
     "name": "stderr",
     "output_type": "stream",
     "text": [
      "100%|████████████████████████████████████████████████████████████████████████████████████| 4/4 [00:00<00:00,  8.95it/s]\n"
     ]
    },
    {
     "name": "stdout",
     "output_type": "stream",
     "text": [
      "epoch 239, loss: 0.31199, acc: 0.90359, val_loss: 0.59514, val_accuracy: 0.86153\n"
     ]
    },
    {
     "name": "stderr",
     "output_type": "stream",
     "text": [
      "100%|████████████████████████████████████████████████████████████████████████████████████| 4/4 [00:00<00:00,  9.15it/s]\n"
     ]
    },
    {
     "name": "stdout",
     "output_type": "stream",
     "text": [
      "epoch 240, loss: 0.30921, acc: 0.90467, val_loss: 0.59034, val_accuracy: 0.86311\n"
     ]
    },
    {
     "name": "stderr",
     "output_type": "stream",
     "text": [
      "100%|████████████████████████████████████████████████████████████████████████████████████| 4/4 [00:00<00:00,  7.03it/s]\n"
     ]
    },
    {
     "name": "stdout",
     "output_type": "stream",
     "text": [
      "epoch 241, loss: 0.30971, acc: 0.90461, val_loss: 0.57983, val_accuracy: 0.87546\n"
     ]
    },
    {
     "name": "stderr",
     "output_type": "stream",
     "text": [
      "100%|████████████████████████████████████████████████████████████████████████████████████| 4/4 [00:00<00:00,  7.86it/s]\n"
     ]
    },
    {
     "name": "stdout",
     "output_type": "stream",
     "text": [
      "epoch 242, loss: 0.31002, acc: 0.90406, val_loss: 0.59151, val_accuracy: 0.86968\n"
     ]
    },
    {
     "name": "stderr",
     "output_type": "stream",
     "text": [
      "100%|████████████████████████████████████████████████████████████████████████████████████| 4/4 [00:00<00:00,  8.73it/s]\n"
     ]
    },
    {
     "name": "stdout",
     "output_type": "stream",
     "text": [
      "epoch 243, loss: 0.30876, acc: 0.90446, val_loss: 0.59977, val_accuracy: 0.86153\n"
     ]
    },
    {
     "name": "stderr",
     "output_type": "stream",
     "text": [
      "100%|████████████████████████████████████████████████████████████████████████████████████| 4/4 [00:00<00:00,  7.08it/s]\n"
     ]
    },
    {
     "name": "stdout",
     "output_type": "stream",
     "text": [
      "epoch 244, loss: 0.30810, acc: 0.90420, val_loss: 0.58260, val_accuracy: 0.87520\n"
     ]
    },
    {
     "name": "stderr",
     "output_type": "stream",
     "text": [
      "100%|████████████████████████████████████████████████████████████████████████████████████| 4/4 [00:00<00:00,  8.58it/s]\n"
     ]
    },
    {
     "name": "stdout",
     "output_type": "stream",
     "text": [
      "epoch 245, loss: 0.31182, acc: 0.90400, val_loss: 0.57981, val_accuracy: 0.87441\n"
     ]
    },
    {
     "name": "stderr",
     "output_type": "stream",
     "text": [
      "100%|████████████████████████████████████████████████████████████████████████████████████| 4/4 [00:00<00:00,  7.62it/s]\n"
     ]
    },
    {
     "name": "stdout",
     "output_type": "stream",
     "text": [
      "epoch 246, loss: 0.31047, acc: 0.90382, val_loss: 0.60977, val_accuracy: 0.86153\n"
     ]
    },
    {
     "name": "stderr",
     "output_type": "stream",
     "text": [
      "100%|████████████████████████████████████████████████████████████████████████████████████| 4/4 [00:00<00:00,  8.81it/s]\n"
     ]
    },
    {
     "name": "stdout",
     "output_type": "stream",
     "text": [
      "epoch 247, loss: 0.30717, acc: 0.90502, val_loss: 0.59423, val_accuracy: 0.87178\n"
     ]
    },
    {
     "name": "stderr",
     "output_type": "stream",
     "text": [
      "100%|████████████████████████████████████████████████████████████████████████████████████| 4/4 [00:00<00:00,  8.44it/s]\n"
     ]
    },
    {
     "name": "stdout",
     "output_type": "stream",
     "text": [
      "epoch 248, loss: 0.30918, acc: 0.90429, val_loss: 0.57702, val_accuracy: 0.88177\n"
     ]
    },
    {
     "name": "stderr",
     "output_type": "stream",
     "text": [
      "100%|████████████████████████████████████████████████████████████████████████████████████| 4/4 [00:00<00:00,  8.37it/s]\n"
     ]
    },
    {
     "name": "stdout",
     "output_type": "stream",
     "text": [
      "epoch 249, loss: 0.31042, acc: 0.90432, val_loss: 0.59668, val_accuracy: 0.86337\n"
     ]
    },
    {
     "name": "stderr",
     "output_type": "stream",
     "text": [
      "100%|████████████████████████████████████████████████████████████████████████████████████| 4/4 [00:00<00:00,  7.02it/s]\n"
     ]
    },
    {
     "name": "stdout",
     "output_type": "stream",
     "text": [
      "epoch 250, loss: 0.30791, acc: 0.90464, val_loss: 0.61269, val_accuracy: 0.86127\n"
     ]
    },
    {
     "name": "stderr",
     "output_type": "stream",
     "text": [
      "100%|████████████████████████████████████████████████████████████████████████████████████| 4/4 [00:00<00:00,  7.23it/s]\n"
     ]
    },
    {
     "name": "stdout",
     "output_type": "stream",
     "text": [
      "epoch 251, loss: 0.30668, acc: 0.90470, val_loss: 0.58695, val_accuracy: 0.87520\n"
     ]
    },
    {
     "name": "stderr",
     "output_type": "stream",
     "text": [
      "100%|████████████████████████████████████████████████████████████████████████████████████| 4/4 [00:00<00:00,  9.30it/s]\n"
     ]
    },
    {
     "name": "stdout",
     "output_type": "stream",
     "text": [
      "epoch 252, loss: 0.31033, acc: 0.90394, val_loss: 0.57887, val_accuracy: 0.88124\n"
     ]
    },
    {
     "name": "stderr",
     "output_type": "stream",
     "text": [
      "100%|████████████████████████████████████████████████████████████████████████████████████| 4/4 [00:00<00:00,  9.24it/s]\n"
     ]
    },
    {
     "name": "stdout",
     "output_type": "stream",
     "text": [
      "epoch 253, loss: 0.30974, acc: 0.90385, val_loss: 0.62341, val_accuracy: 0.85917\n"
     ]
    },
    {
     "name": "stderr",
     "output_type": "stream",
     "text": [
      "100%|████████████████████████████████████████████████████████████████████████████████████| 4/4 [00:00<00:00,  6.95it/s]\n"
     ]
    },
    {
     "name": "stdout",
     "output_type": "stream",
     "text": [
      "epoch 254, loss: 0.30858, acc: 0.90540, val_loss: 0.60085, val_accuracy: 0.86153\n"
     ]
    },
    {
     "name": "stderr",
     "output_type": "stream",
     "text": [
      "100%|████████████████████████████████████████████████████████████████████████████████████| 4/4 [00:00<00:00,  9.47it/s]\n"
     ]
    },
    {
     "name": "stdout",
     "output_type": "stream",
     "text": [
      "epoch 255, loss: 0.31152, acc: 0.90435, val_loss: 0.58191, val_accuracy: 0.88177\n"
     ]
    },
    {
     "name": "stderr",
     "output_type": "stream",
     "text": [
      "100%|████████████████████████████████████████████████████████████████████████████████████| 4/4 [00:00<00:00,  8.73it/s]\n"
     ]
    },
    {
     "name": "stdout",
     "output_type": "stream",
     "text": [
      "epoch 256, loss: 0.31373, acc: 0.90353, val_loss: 0.59135, val_accuracy: 0.86337\n"
     ]
    },
    {
     "name": "stderr",
     "output_type": "stream",
     "text": [
      "100%|████████████████████████████████████████████████████████████████████████████████████| 4/4 [00:00<00:00,  8.36it/s]\n"
     ]
    },
    {
     "name": "stdout",
     "output_type": "stream",
     "text": [
      "epoch 257, loss: 0.31050, acc: 0.90394, val_loss: 0.63984, val_accuracy: 0.85523\n"
     ]
    },
    {
     "name": "stderr",
     "output_type": "stream",
     "text": [
      "100%|████████████████████████████████████████████████████████████████████████████████████| 4/4 [00:00<00:00,  8.00it/s]\n"
     ]
    },
    {
     "name": "stdout",
     "output_type": "stream",
     "text": [
      "epoch 258, loss: 0.31001, acc: 0.90511, val_loss: 0.59103, val_accuracy: 0.87520\n"
     ]
    },
    {
     "name": "stderr",
     "output_type": "stream",
     "text": [
      "100%|████████████████████████████████████████████████████████████████████████████████████| 4/4 [00:00<00:00,  8.55it/s]\n"
     ]
    },
    {
     "name": "stdout",
     "output_type": "stream",
     "text": [
      "epoch 259, loss: 0.31640, acc: 0.90204, val_loss: 0.57474, val_accuracy: 0.88177\n"
     ]
    },
    {
     "name": "stderr",
     "output_type": "stream",
     "text": [
      "100%|████████████████████████████████████████████████████████████████████████████████████| 4/4 [00:00<00:00,  8.35it/s]\n"
     ]
    },
    {
     "name": "stdout",
     "output_type": "stream",
     "text": [
      "epoch 260, loss: 0.31391, acc: 0.90365, val_loss: 0.62833, val_accuracy: 0.86127\n"
     ]
    },
    {
     "name": "stderr",
     "output_type": "stream",
     "text": [
      "100%|████████████████████████████████████████████████████████████████████████████████████| 4/4 [00:00<00:00,  8.83it/s]\n"
     ]
    },
    {
     "name": "stdout",
     "output_type": "stream",
     "text": [
      "epoch 261, loss: 0.31038, acc: 0.90543, val_loss: 0.60555, val_accuracy: 0.86127\n"
     ]
    },
    {
     "name": "stderr",
     "output_type": "stream",
     "text": [
      "100%|████████████████████████████████████████████████████████████████████████████████████| 4/4 [00:00<00:00,  6.88it/s]\n"
     ]
    },
    {
     "name": "stdout",
     "output_type": "stream",
     "text": [
      "epoch 262, loss: 0.31198, acc: 0.90458, val_loss: 0.58376, val_accuracy: 0.87888\n"
     ]
    },
    {
     "name": "stderr",
     "output_type": "stream",
     "text": [
      "100%|████████████████████████████████████████████████████████████████████████████████████| 4/4 [00:00<00:00,  8.53it/s]\n"
     ]
    },
    {
     "name": "stdout",
     "output_type": "stream",
     "text": [
      "epoch 263, loss: 0.31285, acc: 0.90335, val_loss: 0.61369, val_accuracy: 0.86048\n"
     ]
    },
    {
     "name": "stderr",
     "output_type": "stream",
     "text": [
      "100%|████████████████████████████████████████████████████████████████████████████████████| 4/4 [00:00<00:00,  7.32it/s]\n"
     ]
    },
    {
     "name": "stdout",
     "output_type": "stream",
     "text": [
      "epoch 264, loss: 0.30807, acc: 0.90476, val_loss: 0.61570, val_accuracy: 0.85917\n"
     ]
    },
    {
     "name": "stderr",
     "output_type": "stream",
     "text": [
      "100%|████████████████████████████████████████████████████████████████████████████████████| 4/4 [00:00<00:00,  9.09it/s]\n"
     ]
    },
    {
     "name": "stdout",
     "output_type": "stream",
     "text": [
      "epoch 265, loss: 0.30905, acc: 0.90438, val_loss: 0.58361, val_accuracy: 0.88150\n"
     ]
    },
    {
     "name": "stderr",
     "output_type": "stream",
     "text": [
      "100%|████████████████████████████████████████████████████████████████████████████████████| 4/4 [00:00<00:00,  9.26it/s]\n"
     ]
    },
    {
     "name": "stdout",
     "output_type": "stream",
     "text": [
      "epoch 266, loss: 0.31151, acc: 0.90391, val_loss: 0.58827, val_accuracy: 0.86311\n"
     ]
    },
    {
     "name": "stderr",
     "output_type": "stream",
     "text": [
      "100%|████████████████████████████████████████████████████████████████████████████████████| 4/4 [00:00<00:00,  9.61it/s]\n"
     ]
    },
    {
     "name": "stdout",
     "output_type": "stream",
     "text": [
      "epoch 267, loss: 0.31095, acc: 0.90379, val_loss: 0.63434, val_accuracy: 0.85681\n"
     ]
    },
    {
     "name": "stderr",
     "output_type": "stream",
     "text": [
      "100%|████████████████████████████████████████████████████████████████████████████████████| 4/4 [00:00<00:00,  8.30it/s]\n"
     ]
    },
    {
     "name": "stdout",
     "output_type": "stream",
     "text": [
      "epoch 268, loss: 0.30920, acc: 0.90458, val_loss: 0.59789, val_accuracy: 0.88150\n"
     ]
    },
    {
     "name": "stderr",
     "output_type": "stream",
     "text": [
      "100%|████████████████████████████████████████████████████████████████████████████████████| 4/4 [00:00<00:00,  6.81it/s]\n"
     ]
    },
    {
     "name": "stdout",
     "output_type": "stream",
     "text": [
      "epoch 269, loss: 0.31497, acc: 0.90338, val_loss: 0.58651, val_accuracy: 0.86337\n"
     ]
    },
    {
     "name": "stderr",
     "output_type": "stream",
     "text": [
      "100%|████████████████████████████████████████████████████████████████████████████████████| 4/4 [00:00<00:00,  8.83it/s]\n"
     ]
    },
    {
     "name": "stdout",
     "output_type": "stream",
     "text": [
      "epoch 270, loss: 0.30951, acc: 0.90368, val_loss: 0.61457, val_accuracy: 0.85864\n"
     ]
    },
    {
     "name": "stderr",
     "output_type": "stream",
     "text": [
      "100%|████████████████████████████████████████████████████████████████████████████████████| 4/4 [00:00<00:00,  8.49it/s]\n"
     ]
    },
    {
     "name": "stdout",
     "output_type": "stream",
     "text": [
      "epoch 271, loss: 0.30637, acc: 0.90467, val_loss: 0.59653, val_accuracy: 0.88150\n"
     ]
    },
    {
     "name": "stderr",
     "output_type": "stream",
     "text": [
      "100%|████████████████████████████████████████████████████████████████████████████████████| 4/4 [00:00<00:00,  5.55it/s]\n"
     ]
    },
    {
     "name": "stdout",
     "output_type": "stream",
     "text": [
      "epoch 272, loss: 0.31095, acc: 0.90464, val_loss: 0.61283, val_accuracy: 0.86180\n"
     ]
    },
    {
     "name": "stderr",
     "output_type": "stream",
     "text": [
      "100%|████████████████████████████████████████████████████████████████████████████████████| 4/4 [00:00<00:00,  7.41it/s]\n"
     ]
    },
    {
     "name": "stdout",
     "output_type": "stream",
     "text": [
      "epoch 273, loss: 0.30902, acc: 0.90458, val_loss: 0.60510, val_accuracy: 0.86153\n"
     ]
    },
    {
     "name": "stderr",
     "output_type": "stream",
     "text": [
      "100%|████████████████████████████████████████████████████████████████████████████████████| 4/4 [00:00<00:00,  8.79it/s]\n"
     ]
    },
    {
     "name": "stdout",
     "output_type": "stream",
     "text": [
      "epoch 274, loss: 0.31198, acc: 0.90376, val_loss: 0.58601, val_accuracy: 0.88150\n"
     ]
    },
    {
     "name": "stderr",
     "output_type": "stream",
     "text": [
      "100%|████████████████████████████████████████████████████████████████████████████████████| 4/4 [00:00<00:00,  8.66it/s]\n"
     ]
    },
    {
     "name": "stdout",
     "output_type": "stream",
     "text": [
      "epoch 275, loss: 0.31363, acc: 0.90356, val_loss: 0.61508, val_accuracy: 0.86153\n"
     ]
    },
    {
     "name": "stderr",
     "output_type": "stream",
     "text": [
      "100%|████████████████████████████████████████████████████████████████████████████████████| 4/4 [00:00<00:00,  9.52it/s]\n"
     ]
    },
    {
     "name": "stdout",
     "output_type": "stream",
     "text": [
      "epoch 276, loss: 0.31198, acc: 0.90458, val_loss: 0.61052, val_accuracy: 0.86127\n"
     ]
    },
    {
     "name": "stderr",
     "output_type": "stream",
     "text": [
      "100%|████████████████████████████████████████████████████████████████████████████████████| 4/4 [00:00<00:00,  8.64it/s]\n"
     ]
    },
    {
     "name": "stdout",
     "output_type": "stream",
     "text": [
      "epoch 277, loss: 0.31339, acc: 0.90379, val_loss: 0.58986, val_accuracy: 0.87861\n"
     ]
    },
    {
     "name": "stderr",
     "output_type": "stream",
     "text": [
      "100%|████████████████████████████████████████████████████████████████████████████████████| 4/4 [00:00<00:00,  8.40it/s]\n"
     ]
    },
    {
     "name": "stdout",
     "output_type": "stream",
     "text": [
      "epoch 278, loss: 0.31167, acc: 0.90446, val_loss: 0.61694, val_accuracy: 0.86127\n"
     ]
    },
    {
     "name": "stderr",
     "output_type": "stream",
     "text": [
      "100%|████████████████████████████████████████████████████████████████████████████████████| 4/4 [00:00<00:00,  6.52it/s]\n"
     ]
    },
    {
     "name": "stdout",
     "output_type": "stream",
     "text": [
      "epoch 279, loss: 0.30685, acc: 0.90484, val_loss: 0.60198, val_accuracy: 0.86337\n"
     ]
    },
    {
     "name": "stderr",
     "output_type": "stream",
     "text": [
      "100%|████████████████████████████████████████████████████████████████████████████████████| 4/4 [00:00<00:00,  7.86it/s]\n"
     ]
    },
    {
     "name": "stdout",
     "output_type": "stream",
     "text": [
      "epoch 280, loss: 0.31290, acc: 0.90382, val_loss: 0.58542, val_accuracy: 0.86442\n"
     ]
    },
    {
     "name": "stderr",
     "output_type": "stream",
     "text": [
      "100%|████████████████████████████████████████████████████████████████████████████████████| 4/4 [00:00<00:00,  8.25it/s]\n"
     ]
    },
    {
     "name": "stdout",
     "output_type": "stream",
     "text": [
      "epoch 281, loss: 0.30673, acc: 0.90449, val_loss: 0.60229, val_accuracy: 0.86153\n"
     ]
    },
    {
     "name": "stderr",
     "output_type": "stream",
     "text": [
      "100%|████████████████████████████████████████████████████████████████████████████████████| 4/4 [00:00<00:00,  6.43it/s]\n"
     ]
    },
    {
     "name": "stdout",
     "output_type": "stream",
     "text": [
      "epoch 282, loss: 0.30341, acc: 0.90487, val_loss: 0.60375, val_accuracy: 0.87178\n"
     ]
    },
    {
     "name": "stderr",
     "output_type": "stream",
     "text": [
      "100%|████████████████████████████████████████████████████████████████████████████████████| 4/4 [00:00<00:00,  8.14it/s]\n"
     ]
    },
    {
     "name": "stdout",
     "output_type": "stream",
     "text": [
      "epoch 283, loss: 0.31126, acc: 0.90394, val_loss: 0.60169, val_accuracy: 0.86153\n"
     ]
    },
    {
     "name": "stderr",
     "output_type": "stream",
     "text": [
      "100%|████████████████████████████████████████████████████████████████████████████████████| 4/4 [00:00<00:00,  7.90it/s]\n"
     ]
    },
    {
     "name": "stdout",
     "output_type": "stream",
     "text": [
      "epoch 284, loss: 0.30611, acc: 0.90446, val_loss: 0.58615, val_accuracy: 0.86889\n"
     ]
    },
    {
     "name": "stderr",
     "output_type": "stream",
     "text": [
      "100%|████████████████████████████████████████████████████████████████████████████████████| 4/4 [00:00<00:00,  8.58it/s]\n"
     ]
    },
    {
     "name": "stdout",
     "output_type": "stream",
     "text": [
      "epoch 285, loss: 0.30506, acc: 0.90446, val_loss: 0.60133, val_accuracy: 0.88150\n"
     ]
    },
    {
     "name": "stderr",
     "output_type": "stream",
     "text": [
      "100%|████████████████████████████████████████████████████████████████████████████████████| 4/4 [00:00<00:00,  8.67it/s]\n"
     ]
    },
    {
     "name": "stdout",
     "output_type": "stream",
     "text": [
      "epoch 286, loss: 0.31282, acc: 0.90458, val_loss: 0.65131, val_accuracy: 0.83526\n"
     ]
    },
    {
     "name": "stderr",
     "output_type": "stream",
     "text": [
      "100%|████████████████████████████████████████████████████████████████████████████████████| 4/4 [00:00<00:00,  8.40it/s]\n"
     ]
    },
    {
     "name": "stdout",
     "output_type": "stream",
     "text": [
      "epoch 287, loss: 0.31238, acc: 0.90420, val_loss: 0.59354, val_accuracy: 0.87073\n"
     ]
    },
    {
     "name": "stderr",
     "output_type": "stream",
     "text": [
      "100%|████████████████████████████████████████████████████████████████████████████████████| 4/4 [00:00<00:00,  8.18it/s]\n"
     ]
    },
    {
     "name": "stdout",
     "output_type": "stream",
     "text": [
      "epoch 288, loss: 0.31723, acc: 0.90382, val_loss: 0.58453, val_accuracy: 0.87888\n"
     ]
    },
    {
     "name": "stderr",
     "output_type": "stream",
     "text": [
      "100%|████████████████████████████████████████████████████████████████████████████████████| 4/4 [00:00<00:00,  8.35it/s]\n"
     ]
    },
    {
     "name": "stdout",
     "output_type": "stream",
     "text": [
      "epoch 289, loss: 0.31588, acc: 0.90385, val_loss: 0.62154, val_accuracy: 0.83841\n"
     ]
    },
    {
     "name": "stderr",
     "output_type": "stream",
     "text": [
      "100%|████████████████████████████████████████████████████████████████████████████████████| 4/4 [00:00<00:00,  6.68it/s]\n"
     ]
    },
    {
     "name": "stdout",
     "output_type": "stream",
     "text": [
      "epoch 290, loss: 0.31127, acc: 0.90534, val_loss: 0.61099, val_accuracy: 0.87835\n"
     ]
    },
    {
     "name": "stderr",
     "output_type": "stream",
     "text": [
      "100%|████████████████████████████████████████████████████████████████████████████████████| 4/4 [00:00<00:00,  8.66it/s]\n"
     ]
    },
    {
     "name": "stdout",
     "output_type": "stream",
     "text": [
      "epoch 291, loss: 0.32310, acc: 0.90347, val_loss: 0.59473, val_accuracy: 0.86364\n"
     ]
    },
    {
     "name": "stderr",
     "output_type": "stream",
     "text": [
      "100%|████████████████████████████████████████████████████████████████████████████████████| 4/4 [00:00<00:00,  8.30it/s]\n"
     ]
    },
    {
     "name": "stdout",
     "output_type": "stream",
     "text": [
      "epoch 292, loss: 0.31055, acc: 0.90397, val_loss: 0.55613, val_accuracy: 0.87047\n"
     ]
    },
    {
     "name": "stderr",
     "output_type": "stream",
     "text": [
      "100%|████████████████████████████████████████████████████████████████████████████████████| 4/4 [00:00<00:00,  8.55it/s]\n"
     ]
    },
    {
     "name": "stdout",
     "output_type": "stream",
     "text": [
      "epoch 293, loss: 0.30431, acc: 0.90400, val_loss: 0.60602, val_accuracy: 0.86259\n"
     ]
    },
    {
     "name": "stderr",
     "output_type": "stream",
     "text": [
      "100%|████████████████████████████████████████████████████████████████████████████████████| 4/4 [00:00<00:00,  8.45it/s]\n"
     ]
    },
    {
     "name": "stdout",
     "output_type": "stream",
     "text": [
      "epoch 294, loss: 0.31181, acc: 0.90467, val_loss: 0.59937, val_accuracy: 0.86285\n"
     ]
    },
    {
     "name": "stderr",
     "output_type": "stream",
     "text": [
      "100%|████████████████████████████████████████████████████████████████████████████████████| 4/4 [00:00<00:00,  8.62it/s]\n"
     ]
    },
    {
     "name": "stdout",
     "output_type": "stream",
     "text": [
      "epoch 295, loss: 0.30135, acc: 0.90546, val_loss: 0.56233, val_accuracy: 0.87073\n"
     ]
    },
    {
     "name": "stderr",
     "output_type": "stream",
     "text": [
      "100%|████████████████████████████████████████████████████████████████████████████████████| 4/4 [00:00<00:00,  8.29it/s]\n"
     ]
    },
    {
     "name": "stdout",
     "output_type": "stream",
     "text": [
      "epoch 296, loss: 0.29935, acc: 0.90473, val_loss: 0.60016, val_accuracy: 0.86101\n"
     ]
    },
    {
     "name": "stderr",
     "output_type": "stream",
     "text": [
      "100%|████████████████████████████████████████████████████████████████████████████████████| 4/4 [00:00<00:00,  6.19it/s]\n"
     ]
    },
    {
     "name": "stdout",
     "output_type": "stream",
     "text": [
      "epoch 297, loss: 0.29895, acc: 0.90517, val_loss: 0.58201, val_accuracy: 0.86442\n"
     ]
    },
    {
     "name": "stderr",
     "output_type": "stream",
     "text": [
      "100%|████████████████████████████████████████████████████████████████████████████████████| 4/4 [00:00<00:00,  8.81it/s]\n"
     ]
    },
    {
     "name": "stdout",
     "output_type": "stream",
     "text": [
      "epoch 298, loss: 0.29744, acc: 0.90511, val_loss: 0.58668, val_accuracy: 0.86416\n"
     ]
    },
    {
     "name": "stderr",
     "output_type": "stream",
     "text": [
      "100%|████████████████████████████████████████████████████████████████████████████████████| 4/4 [00:00<00:00,  9.61it/s]\n"
     ]
    },
    {
     "name": "stdout",
     "output_type": "stream",
     "text": [
      "epoch 299, loss: 0.29645, acc: 0.90531, val_loss: 0.59068, val_accuracy: 0.86153\n"
     ]
    },
    {
     "name": "stderr",
     "output_type": "stream",
     "text": [
      "100%|████████████████████████████████████████████████████████████████████████████████████| 4/4 [00:00<00:00,  7.59it/s]\n"
     ]
    },
    {
     "name": "stdout",
     "output_type": "stream",
     "text": [
      "epoch 300, loss: 0.29576, acc: 0.90595, val_loss: 0.58978, val_accuracy: 0.87047\n"
     ]
    },
    {
     "name": "stderr",
     "output_type": "stream",
     "text": [
      "100%|████████████████████████████████████████████████████████████████████████████████████| 4/4 [00:00<00:00,  9.64it/s]\n"
     ]
    },
    {
     "name": "stdout",
     "output_type": "stream",
     "text": [
      "epoch 301, loss: 0.29592, acc: 0.90572, val_loss: 0.60137, val_accuracy: 0.86180\n"
     ]
    },
    {
     "name": "stderr",
     "output_type": "stream",
     "text": [
      "100%|████████████████████████████████████████████████████████████████████████████████████| 4/4 [00:00<00:00,  8.37it/s]\n"
     ]
    },
    {
     "name": "stdout",
     "output_type": "stream",
     "text": [
      "epoch 302, loss: 0.29466, acc: 0.90592, val_loss: 0.59215, val_accuracy: 0.86364\n"
     ]
    },
    {
     "name": "stderr",
     "output_type": "stream",
     "text": [
      "100%|████████████████████████████████████████████████████████████████████████████████████| 4/4 [00:00<00:00,  8.14it/s]\n"
     ]
    },
    {
     "name": "stdout",
     "output_type": "stream",
     "text": [
      "epoch 303, loss: 0.29554, acc: 0.90563, val_loss: 0.59248, val_accuracy: 0.87047\n"
     ]
    },
    {
     "name": "stderr",
     "output_type": "stream",
     "text": [
      "100%|████████████████████████████████████████████████████████████████████████████████████| 4/4 [00:00<00:00,  8.54it/s]\n"
     ]
    },
    {
     "name": "stdout",
     "output_type": "stream",
     "text": [
      "epoch 304, loss: 0.29510, acc: 0.90563, val_loss: 0.60676, val_accuracy: 0.86127\n"
     ]
    },
    {
     "name": "stderr",
     "output_type": "stream",
     "text": [
      "100%|████████████████████████████████████████████████████████████████████████████████████| 4/4 [00:00<00:00,  8.19it/s]\n"
     ]
    },
    {
     "name": "stdout",
     "output_type": "stream",
     "text": [
      "epoch 305, loss: 0.29356, acc: 0.90607, val_loss: 0.59668, val_accuracy: 0.86364\n"
     ]
    },
    {
     "name": "stderr",
     "output_type": "stream",
     "text": [
      "100%|████████████████████████████████████████████████████████████████████████████████████| 4/4 [00:00<00:00,  9.54it/s]\n"
     ]
    },
    {
     "name": "stdout",
     "output_type": "stream",
     "text": [
      "epoch 306, loss: 0.29518, acc: 0.90560, val_loss: 0.59187, val_accuracy: 0.87020\n"
     ]
    },
    {
     "name": "stderr",
     "output_type": "stream",
     "text": [
      "100%|████████████████████████████████████████████████████████████████████████████████████| 4/4 [00:00<00:00,  7.35it/s]\n"
     ]
    },
    {
     "name": "stdout",
     "output_type": "stream",
     "text": [
      "epoch 307, loss: 0.29426, acc: 0.90563, val_loss: 0.61501, val_accuracy: 0.86180\n"
     ]
    },
    {
     "name": "stderr",
     "output_type": "stream",
     "text": [
      "100%|████████████████████████████████████████████████████████████████████████████████████| 4/4 [00:00<00:00,  9.39it/s]\n"
     ]
    },
    {
     "name": "stdout",
     "output_type": "stream",
     "text": [
      "epoch 308, loss: 0.29295, acc: 0.90607, val_loss: 0.59913, val_accuracy: 0.86390\n"
     ]
    },
    {
     "name": "stderr",
     "output_type": "stream",
     "text": [
      "100%|████████████████████████████████████████████████████████████████████████████████████| 4/4 [00:00<00:00,  8.49it/s]\n"
     ]
    },
    {
     "name": "stdout",
     "output_type": "stream",
     "text": [
      "epoch 309, loss: 0.29474, acc: 0.90610, val_loss: 0.59587, val_accuracy: 0.87047\n"
     ]
    },
    {
     "name": "stderr",
     "output_type": "stream",
     "text": [
      "100%|████████████████████████████████████████████████████████████████████████████████████| 4/4 [00:00<00:00,  6.41it/s]\n"
     ]
    },
    {
     "name": "stdout",
     "output_type": "stream",
     "text": [
      "epoch 310, loss: 0.29389, acc: 0.90572, val_loss: 0.62201, val_accuracy: 0.86075\n"
     ]
    },
    {
     "name": "stderr",
     "output_type": "stream",
     "text": [
      "100%|████████████████████████████████████████████████████████████████████████████████████| 4/4 [00:00<00:00,  6.97it/s]\n"
     ]
    },
    {
     "name": "stdout",
     "output_type": "stream",
     "text": [
      "epoch 311, loss: 0.29238, acc: 0.90607, val_loss: 0.59932, val_accuracy: 0.86416\n"
     ]
    },
    {
     "name": "stderr",
     "output_type": "stream",
     "text": [
      "100%|████████████████████████████████████████████████████████████████████████████████████| 4/4 [00:00<00:00,  8.99it/s]\n"
     ]
    },
    {
     "name": "stdout",
     "output_type": "stream",
     "text": [
      "epoch 312, loss: 0.29487, acc: 0.90639, val_loss: 0.59679, val_accuracy: 0.87047\n"
     ]
    },
    {
     "name": "stderr",
     "output_type": "stream",
     "text": [
      "100%|████████████████████████████████████████████████████████████████████████████████████| 4/4 [00:00<00:00,  9.01it/s]\n"
     ]
    },
    {
     "name": "stdout",
     "output_type": "stream",
     "text": [
      "epoch 313, loss: 0.29386, acc: 0.90557, val_loss: 0.62869, val_accuracy: 0.86022\n"
     ]
    },
    {
     "name": "stderr",
     "output_type": "stream",
     "text": [
      "100%|████████████████████████████████████████████████████████████████████████████████████| 4/4 [00:00<00:00,  9.34it/s]\n"
     ]
    },
    {
     "name": "stdout",
     "output_type": "stream",
     "text": [
      "epoch 314, loss: 0.29178, acc: 0.90639, val_loss: 0.60474, val_accuracy: 0.86390\n"
     ]
    },
    {
     "name": "stderr",
     "output_type": "stream",
     "text": [
      "100%|████████████████████████████████████████████████████████████████████████████████████| 4/4 [00:00<00:00,  8.49it/s]\n"
     ]
    },
    {
     "name": "stdout",
     "output_type": "stream",
     "text": [
      "epoch 315, loss: 0.29386, acc: 0.90630, val_loss: 0.59685, val_accuracy: 0.87073\n"
     ]
    },
    {
     "name": "stderr",
     "output_type": "stream",
     "text": [
      "100%|████████████████████████████████████████████████████████████████████████████████████| 4/4 [00:00<00:00,  7.81it/s]\n"
     ]
    },
    {
     "name": "stdout",
     "output_type": "stream",
     "text": [
      "epoch 316, loss: 0.29311, acc: 0.90607, val_loss: 0.62914, val_accuracy: 0.86048\n"
     ]
    },
    {
     "name": "stderr",
     "output_type": "stream",
     "text": [
      "100%|████████████████████████████████████████████████████████████████████████████████████| 4/4 [00:00<00:00,  8.01it/s]\n"
     ]
    },
    {
     "name": "stdout",
     "output_type": "stream",
     "text": [
      "epoch 317, loss: 0.29086, acc: 0.90636, val_loss: 0.61060, val_accuracy: 0.86364\n"
     ]
    },
    {
     "name": "stderr",
     "output_type": "stream",
     "text": [
      "100%|████████████████████████████████████████████████████████████████████████████████████| 4/4 [00:00<00:00,  6.55it/s]\n"
     ]
    },
    {
     "name": "stdout",
     "output_type": "stream",
     "text": [
      "epoch 318, loss: 0.29227, acc: 0.90633, val_loss: 0.59904, val_accuracy: 0.87073\n"
     ]
    },
    {
     "name": "stderr",
     "output_type": "stream",
     "text": [
      "100%|████████████████████████████████████████████████████████████████████████████████████| 4/4 [00:00<00:00,  9.09it/s]\n"
     ]
    },
    {
     "name": "stdout",
     "output_type": "stream",
     "text": [
      "epoch 319, loss: 0.29304, acc: 0.90610, val_loss: 0.62578, val_accuracy: 0.86075\n"
     ]
    },
    {
     "name": "stderr",
     "output_type": "stream",
     "text": [
      "100%|████████████████████████████████████████████████████████████████████████████████████| 4/4 [00:00<00:00,  9.34it/s]\n"
     ]
    },
    {
     "name": "stdout",
     "output_type": "stream",
     "text": [
      "epoch 320, loss: 0.29068, acc: 0.90712, val_loss: 0.62765, val_accuracy: 0.86048\n"
     ]
    },
    {
     "name": "stderr",
     "output_type": "stream",
     "text": [
      "100%|████████████████████████████████████████████████████████████████████████████████████| 4/4 [00:00<00:00,  9.45it/s]\n"
     ]
    },
    {
     "name": "stdout",
     "output_type": "stream",
     "text": [
      "epoch 321, loss: 0.29096, acc: 0.90660, val_loss: 0.59920, val_accuracy: 0.87073\n"
     ]
    },
    {
     "name": "stderr",
     "output_type": "stream",
     "text": [
      "100%|████████████████████████████████████████████████████████████████████████████████████| 4/4 [00:00<00:00,  9.32it/s]\n"
     ]
    },
    {
     "name": "stdout",
     "output_type": "stream",
     "text": [
      "epoch 322, loss: 0.29449, acc: 0.90587, val_loss: 0.60950, val_accuracy: 0.86994\n"
     ]
    },
    {
     "name": "stderr",
     "output_type": "stream",
     "text": [
      "100%|████████████████████████████████████████████████████████████████████████████████████| 4/4 [00:00<00:00,  9.90it/s]\n"
     ]
    },
    {
     "name": "stdout",
     "output_type": "stream",
     "text": [
      "epoch 323, loss: 0.29299, acc: 0.90636, val_loss: 0.65632, val_accuracy: 0.84524\n"
     ]
    },
    {
     "name": "stderr",
     "output_type": "stream",
     "text": [
      "100%|████████████████████████████████████████████████████████████████████████████████████| 4/4 [00:00<00:00,  9.24it/s]\n"
     ]
    },
    {
     "name": "stdout",
     "output_type": "stream",
     "text": [
      "epoch 324, loss: 0.29137, acc: 0.90730, val_loss: 0.62125, val_accuracy: 0.86994\n"
     ]
    },
    {
     "name": "stderr",
     "output_type": "stream",
     "text": [
      "100%|████████████████████████████████████████████████████████████████████████████████████| 4/4 [00:00<00:00,  7.55it/s]\n"
     ]
    },
    {
     "name": "stdout",
     "output_type": "stream",
     "text": [
      "epoch 325, loss: 0.29362, acc: 0.90657, val_loss: 0.60054, val_accuracy: 0.87099\n"
     ]
    },
    {
     "name": "stderr",
     "output_type": "stream",
     "text": [
      "100%|████████████████████████████████████████████████████████████████████████████████████| 4/4 [00:00<00:00,  9.43it/s]\n"
     ]
    },
    {
     "name": "stdout",
     "output_type": "stream",
     "text": [
      "epoch 326, loss: 0.29452, acc: 0.90610, val_loss: 0.64174, val_accuracy: 0.84708\n"
     ]
    },
    {
     "name": "stderr",
     "output_type": "stream",
     "text": [
      "100%|████████████████████████████████████████████████████████████████████████████████████| 4/4 [00:00<00:00,  8.67it/s]\n"
     ]
    },
    {
     "name": "stdout",
     "output_type": "stream",
     "text": [
      "epoch 327, loss: 0.29254, acc: 0.90677, val_loss: 0.63878, val_accuracy: 0.86022\n"
     ]
    },
    {
     "name": "stderr",
     "output_type": "stream",
     "text": [
      "100%|████████████████████████████████████████████████████████████████████████████████████| 4/4 [00:00<00:00,  6.49it/s]\n"
     ]
    },
    {
     "name": "stdout",
     "output_type": "stream",
     "text": [
      "epoch 328, loss: 0.29255, acc: 0.90665, val_loss: 0.60687, val_accuracy: 0.87073\n"
     ]
    },
    {
     "name": "stderr",
     "output_type": "stream",
     "text": [
      "100%|████████████████████████████████████████████████████████████████████████████████████| 4/4 [00:00<00:00,  8.69it/s]\n"
     ]
    },
    {
     "name": "stdout",
     "output_type": "stream",
     "text": [
      "epoch 329, loss: 0.29791, acc: 0.90546, val_loss: 0.61862, val_accuracy: 0.86968\n"
     ]
    },
    {
     "name": "stderr",
     "output_type": "stream",
     "text": [
      "100%|████████████████████████████████████████████████████████████████████████████████████| 4/4 [00:00<00:00,  8.75it/s]\n"
     ]
    },
    {
     "name": "stdout",
     "output_type": "stream",
     "text": [
      "epoch 330, loss: 0.29450, acc: 0.90674, val_loss: 0.67271, val_accuracy: 0.83342\n"
     ]
    },
    {
     "name": "stderr",
     "output_type": "stream",
     "text": [
      "100%|████████████████████████████████████████████████████████████████████████████████████| 4/4 [00:00<00:00,  7.05it/s]\n"
     ]
    },
    {
     "name": "stdout",
     "output_type": "stream",
     "text": [
      "epoch 331, loss: 0.29273, acc: 0.90852, val_loss: 0.61095, val_accuracy: 0.87099\n"
     ]
    },
    {
     "name": "stderr",
     "output_type": "stream",
     "text": [
      "100%|████████████████████████████████████████████████████████████████████████████████████| 4/4 [00:00<00:00,  8.55it/s]\n"
     ]
    },
    {
     "name": "stdout",
     "output_type": "stream",
     "text": [
      "epoch 332, loss: 0.29710, acc: 0.90560, val_loss: 0.59544, val_accuracy: 0.87073\n"
     ]
    },
    {
     "name": "stderr",
     "output_type": "stream",
     "text": [
      "100%|████████████████████████████████████████████████████████████████████████████████████| 4/4 [00:00<00:00,  8.21it/s]\n"
     ]
    },
    {
     "name": "stdout",
     "output_type": "stream",
     "text": [
      "epoch 333, loss: 0.29367, acc: 0.90616, val_loss: 0.66487, val_accuracy: 0.83395\n"
     ]
    },
    {
     "name": "stderr",
     "output_type": "stream",
     "text": [
      "100%|████████████████████████████████████████████████████████████████████████████████████| 4/4 [00:00<00:00,  7.90it/s]\n"
     ]
    },
    {
     "name": "stdout",
     "output_type": "stream",
     "text": [
      "epoch 334, loss: 0.29140, acc: 0.90800, val_loss: 0.62870, val_accuracy: 0.85996\n"
     ]
    },
    {
     "name": "stderr",
     "output_type": "stream",
     "text": [
      "100%|████████████████████████████████████████████████████████████████████████████████████| 4/4 [00:00<00:00,  6.86it/s]\n"
     ]
    },
    {
     "name": "stdout",
     "output_type": "stream",
     "text": [
      "epoch 335, loss: 0.29290, acc: 0.90727, val_loss: 0.60372, val_accuracy: 0.87099\n"
     ]
    },
    {
     "name": "stderr",
     "output_type": "stream",
     "text": [
      "100%|████████████████████████████████████████████████████████████████████████████████████| 4/4 [00:00<00:00,  8.35it/s]\n"
     ]
    },
    {
     "name": "stdout",
     "output_type": "stream",
     "text": [
      "epoch 336, loss: 0.29485, acc: 0.90674, val_loss: 0.63449, val_accuracy: 0.86127\n"
     ]
    },
    {
     "name": "stderr",
     "output_type": "stream",
     "text": [
      "100%|████████████████████████████████████████████████████████████████████████████████████| 4/4 [00:00<00:00,  8.55it/s]\n"
     ]
    },
    {
     "name": "stdout",
     "output_type": "stream",
     "text": [
      "epoch 337, loss: 0.29101, acc: 0.90671, val_loss: 0.66017, val_accuracy: 0.83027\n"
     ]
    },
    {
     "name": "stderr",
     "output_type": "stream",
     "text": [
      "100%|████████████████████████████████████████████████████████████████████████████████████| 4/4 [00:00<00:00,  6.76it/s]\n"
     ]
    },
    {
     "name": "stdout",
     "output_type": "stream",
     "text": [
      "epoch 338, loss: 0.29031, acc: 0.90785, val_loss: 0.61237, val_accuracy: 0.87099\n"
     ]
    },
    {
     "name": "stderr",
     "output_type": "stream",
     "text": [
      "100%|████████████████████████████████████████████████████████████████████████████████████| 4/4 [00:00<00:00,  8.08it/s]\n"
     ]
    },
    {
     "name": "stdout",
     "output_type": "stream",
     "text": [
      "epoch 339, loss: 0.29491, acc: 0.90607, val_loss: 0.61122, val_accuracy: 0.86968\n"
     ]
    },
    {
     "name": "stderr",
     "output_type": "stream",
     "text": [
      "100%|████████████████████████████████████████████████████████████████████████████████████| 4/4 [00:00<00:00,  8.28it/s]\n"
     ]
    },
    {
     "name": "stdout",
     "output_type": "stream",
     "text": [
      "epoch 340, loss: 0.29087, acc: 0.90689, val_loss: 0.67667, val_accuracy: 0.82160\n"
     ]
    },
    {
     "name": "stderr",
     "output_type": "stream",
     "text": [
      "100%|████████████████████████████████████████████████████████████████████████████████████| 4/4 [00:00<00:00,  7.97it/s]\n"
     ]
    },
    {
     "name": "stdout",
     "output_type": "stream",
     "text": [
      "epoch 341, loss: 0.29008, acc: 0.90844, val_loss: 0.62011, val_accuracy: 0.87020\n"
     ]
    },
    {
     "name": "stderr",
     "output_type": "stream",
     "text": [
      "100%|████████████████████████████████████████████████████████████████████████████████████| 4/4 [00:00<00:00,  8.18it/s]\n"
     ]
    },
    {
     "name": "stdout",
     "output_type": "stream",
     "text": [
      "epoch 342, loss: 0.29350, acc: 0.90800, val_loss: 0.60302, val_accuracy: 0.87073\n"
     ]
    },
    {
     "name": "stderr",
     "output_type": "stream",
     "text": [
      "100%|████████████████████████████████████████████████████████████████████████████████████| 4/4 [00:00<00:00,  8.93it/s]\n"
     ]
    },
    {
     "name": "stdout",
     "output_type": "stream",
     "text": [
      "epoch 343, loss: 0.29351, acc: 0.90627, val_loss: 0.65854, val_accuracy: 0.83868\n"
     ]
    },
    {
     "name": "stderr",
     "output_type": "stream",
     "text": [
      "100%|████████████████████████████████████████████████████████████████████████████████████| 4/4 [00:00<00:00,  8.75it/s]\n"
     ]
    },
    {
     "name": "stdout",
     "output_type": "stream",
     "text": [
      "epoch 344, loss: 0.29047, acc: 0.90806, val_loss: 0.64899, val_accuracy: 0.85733\n"
     ]
    },
    {
     "name": "stderr",
     "output_type": "stream",
     "text": [
      "100%|████████████████████████████████████████████████████████████████████████████████████| 4/4 [00:00<00:00,  7.32it/s]\n"
     ]
    },
    {
     "name": "stdout",
     "output_type": "stream",
     "text": [
      "epoch 345, loss: 0.29115, acc: 0.90750, val_loss: 0.60854, val_accuracy: 0.87099\n"
     ]
    },
    {
     "name": "stderr",
     "output_type": "stream",
     "text": [
      "100%|████████████████████████████████████████████████████████████████████████████████████| 4/4 [00:00<00:00,  6.84it/s]\n"
     ]
    },
    {
     "name": "stdout",
     "output_type": "stream",
     "text": [
      "epoch 346, loss: 0.29513, acc: 0.90698, val_loss: 0.62831, val_accuracy: 0.86837\n"
     ]
    },
    {
     "name": "stderr",
     "output_type": "stream",
     "text": [
      "100%|████████████████████████████████████████████████████████████████████████████████████| 4/4 [00:00<00:00,  9.05it/s]\n"
     ]
    },
    {
     "name": "stdout",
     "output_type": "stream",
     "text": [
      "epoch 347, loss: 0.29037, acc: 0.90683, val_loss: 0.67987, val_accuracy: 0.82160\n"
     ]
    },
    {
     "name": "stderr",
     "output_type": "stream",
     "text": [
      "100%|████████████████████████████████████████████████████████████████████████████████████| 4/4 [00:00<00:00,  8.60it/s]\n"
     ]
    },
    {
     "name": "stdout",
     "output_type": "stream",
     "text": [
      "epoch 348, loss: 0.29001, acc: 0.90794, val_loss: 0.61593, val_accuracy: 0.87099\n"
     ]
    },
    {
     "name": "stderr",
     "output_type": "stream",
     "text": [
      "100%|████████████████████████████████████████████████████████████████████████████████████| 4/4 [00:00<00:00,  7.32it/s]\n"
     ]
    },
    {
     "name": "stdout",
     "output_type": "stream",
     "text": [
      "epoch 349, loss: 0.29486, acc: 0.90642, val_loss: 0.61179, val_accuracy: 0.87020\n"
     ]
    },
    {
     "name": "stderr",
     "output_type": "stream",
     "text": [
      "100%|████████████████████████████████████████████████████████████████████████████████████| 4/4 [00:00<00:00,  8.67it/s]\n"
     ]
    },
    {
     "name": "stdout",
     "output_type": "stream",
     "text": [
      "epoch 350, loss: 0.29077, acc: 0.90689, val_loss: 0.68570, val_accuracy: 0.82002\n"
     ]
    },
    {
     "name": "stderr",
     "output_type": "stream",
     "text": [
      "100%|████████████████████████████████████████████████████████████████████████████████████| 4/4 [00:00<00:00,  8.66it/s]\n"
     ]
    },
    {
     "name": "stdout",
     "output_type": "stream",
     "text": [
      "epoch 351, loss: 0.28897, acc: 0.90879, val_loss: 0.63368, val_accuracy: 0.86863\n"
     ]
    },
    {
     "name": "stderr",
     "output_type": "stream",
     "text": [
      "100%|████████████████████████████████████████████████████████████████████████████████████| 4/4 [00:00<00:00,  8.47it/s]\n"
     ]
    },
    {
     "name": "stdout",
     "output_type": "stream",
     "text": [
      "epoch 352, loss: 0.29123, acc: 0.90747, val_loss: 0.61124, val_accuracy: 0.87073\n"
     ]
    },
    {
     "name": "stderr",
     "output_type": "stream",
     "text": [
      "100%|████████████████████████████████████████████████████████████████████████████████████| 4/4 [00:00<00:00,  6.99it/s]\n"
     ]
    },
    {
     "name": "stdout",
     "output_type": "stream",
     "text": [
      "epoch 353, loss: 0.29098, acc: 0.90698, val_loss: 0.65625, val_accuracy: 0.84892\n"
     ]
    },
    {
     "name": "stderr",
     "output_type": "stream",
     "text": [
      "100%|████████████████████████████████████████████████████████████████████████████████████| 4/4 [00:00<00:00,  8.45it/s]\n"
     ]
    },
    {
     "name": "stdout",
     "output_type": "stream",
     "text": [
      "epoch 354, loss: 0.28710, acc: 0.90855, val_loss: 0.66105, val_accuracy: 0.84393\n"
     ]
    },
    {
     "name": "stderr",
     "output_type": "stream",
     "text": [
      "100%|████████████████████████████████████████████████████████████████████████████████████| 4/4 [00:00<00:00,  8.33it/s]\n"
     ]
    },
    {
     "name": "stdout",
     "output_type": "stream",
     "text": [
      "epoch 355, loss: 0.28717, acc: 0.90838, val_loss: 0.61679, val_accuracy: 0.87099\n"
     ]
    },
    {
     "name": "stderr",
     "output_type": "stream",
     "text": [
      "100%|████████████████████████████████████████████████████████████████████████████████████| 4/4 [00:00<00:00,  6.38it/s]\n"
     ]
    },
    {
     "name": "stdout",
     "output_type": "stream",
     "text": [
      "epoch 356, loss: 0.29112, acc: 0.90715, val_loss: 0.62859, val_accuracy: 0.86889\n"
     ]
    },
    {
     "name": "stderr",
     "output_type": "stream",
     "text": [
      "100%|████████████████████████████████████████████████████████████████████████████████████| 4/4 [00:00<00:00,  8.03it/s]\n"
     ]
    },
    {
     "name": "stdout",
     "output_type": "stream",
     "text": [
      "epoch 357, loss: 0.28710, acc: 0.90712, val_loss: 0.68489, val_accuracy: 0.79874\n"
     ]
    },
    {
     "name": "stderr",
     "output_type": "stream",
     "text": [
      "100%|████████████████████████████████████████████████████████████████████████████████████| 4/4 [00:00<00:00,  7.63it/s]\n"
     ]
    },
    {
     "name": "stdout",
     "output_type": "stream",
     "text": [
      "epoch 358, loss: 0.28564, acc: 0.90902, val_loss: 0.62727, val_accuracy: 0.86968\n"
     ]
    },
    {
     "name": "stderr",
     "output_type": "stream",
     "text": [
      "100%|████████████████████████████████████████████████████████████████████████████████████| 4/4 [00:00<00:00,  8.13it/s]\n"
     ]
    },
    {
     "name": "stdout",
     "output_type": "stream",
     "text": [
      "epoch 359, loss: 0.28964, acc: 0.90794, val_loss: 0.61684, val_accuracy: 0.87047\n"
     ]
    },
    {
     "name": "stderr",
     "output_type": "stream",
     "text": [
      "100%|████████████████████████████████████████████████████████████████████████████████████| 4/4 [00:00<00:00,  8.47it/s]\n"
     ]
    },
    {
     "name": "stdout",
     "output_type": "stream",
     "text": [
      "epoch 360, loss: 0.28706, acc: 0.90741, val_loss: 0.67355, val_accuracy: 0.82659\n"
     ]
    },
    {
     "name": "stderr",
     "output_type": "stream",
     "text": [
      "100%|████████████████████████████████████████████████████████████████████████████████████| 4/4 [00:00<00:00,  8.66it/s]\n"
     ]
    },
    {
     "name": "stdout",
     "output_type": "stream",
     "text": [
      "epoch 361, loss: 0.28458, acc: 0.90914, val_loss: 0.65316, val_accuracy: 0.85996\n"
     ]
    },
    {
     "name": "stderr",
     "output_type": "stream",
     "text": [
      "100%|████████████████████████████████████████████████████████████████████████████████████| 4/4 [00:00<00:00,  7.59it/s]\n"
     ]
    },
    {
     "name": "stdout",
     "output_type": "stream",
     "text": [
      "epoch 362, loss: 0.28504, acc: 0.90884, val_loss: 0.62011, val_accuracy: 0.87073\n"
     ]
    },
    {
     "name": "stderr",
     "output_type": "stream",
     "text": [
      "100%|████████████████████████████████████████████████████████████████████████████████████| 4/4 [00:00<00:00,  6.76it/s]\n"
     ]
    },
    {
     "name": "stdout",
     "output_type": "stream",
     "text": [
      "epoch 363, loss: 0.28826, acc: 0.90721, val_loss: 0.63790, val_accuracy: 0.86810\n"
     ]
    },
    {
     "name": "stderr",
     "output_type": "stream",
     "text": [
      "100%|████████████████████████████████████████████████████████████████████████████████████| 4/4 [00:00<00:00,  8.81it/s]\n"
     ]
    },
    {
     "name": "stdout",
     "output_type": "stream",
     "text": [
      "epoch 364, loss: 0.28528, acc: 0.90794, val_loss: 0.69459, val_accuracy: 0.80373\n"
     ]
    },
    {
     "name": "stderr",
     "output_type": "stream",
     "text": [
      "100%|████████████████████████████████████████████████████████████████████████████████████| 4/4 [00:00<00:00,  8.81it/s]\n"
     ]
    },
    {
     "name": "stdout",
     "output_type": "stream",
     "text": [
      "epoch 365, loss: 0.28470, acc: 0.91010, val_loss: 0.63528, val_accuracy: 0.86915\n"
     ]
    },
    {
     "name": "stderr",
     "output_type": "stream",
     "text": [
      "100%|████████████████████████████████████████████████████████████████████████████████████| 4/4 [00:00<00:00,  6.52it/s]\n"
     ]
    },
    {
     "name": "stdout",
     "output_type": "stream",
     "text": [
      "epoch 366, loss: 0.28990, acc: 0.90808, val_loss: 0.61609, val_accuracy: 0.87073\n"
     ]
    },
    {
     "name": "stderr",
     "output_type": "stream",
     "text": [
      "100%|████████████████████████████████████████████████████████████████████████████████████| 4/4 [00:00<00:00,  8.95it/s]\n"
     ]
    },
    {
     "name": "stdout",
     "output_type": "stream",
     "text": [
      "epoch 367, loss: 0.28897, acc: 0.90674, val_loss: 0.68208, val_accuracy: 0.82948\n"
     ]
    },
    {
     "name": "stderr",
     "output_type": "stream",
     "text": [
      "100%|████████████████████████████████████████████████████████████████████████████████████| 4/4 [00:00<00:00,  8.81it/s]\n"
     ]
    },
    {
     "name": "stdout",
     "output_type": "stream",
     "text": [
      "epoch 368, loss: 0.28801, acc: 0.90879, val_loss: 0.68120, val_accuracy: 0.83762\n"
     ]
    },
    {
     "name": "stderr",
     "output_type": "stream",
     "text": [
      "100%|████████████████████████████████████████████████████████████████████████████████████| 4/4 [00:00<00:00,  9.07it/s]\n"
     ]
    },
    {
     "name": "stdout",
     "output_type": "stream",
     "text": [
      "epoch 369, loss: 0.28798, acc: 0.90814, val_loss: 0.62592, val_accuracy: 0.87099\n"
     ]
    },
    {
     "name": "stderr",
     "output_type": "stream",
     "text": [
      "100%|████████████████████████████████████████████████████████████████████████████████████| 4/4 [00:00<00:00,  7.83it/s]\n"
     ]
    },
    {
     "name": "stdout",
     "output_type": "stream",
     "text": [
      "epoch 370, loss: 0.29328, acc: 0.90712, val_loss: 0.63520, val_accuracy: 0.86784\n"
     ]
    },
    {
     "name": "stderr",
     "output_type": "stream",
     "text": [
      "100%|████████████████████████████████████████████████████████████████████████████████████| 4/4 [00:00<00:00,  8.62it/s]\n"
     ]
    },
    {
     "name": "stdout",
     "output_type": "stream",
     "text": [
      "epoch 371, loss: 0.28684, acc: 0.90776, val_loss: 0.70492, val_accuracy: 0.80084\n"
     ]
    },
    {
     "name": "stderr",
     "output_type": "stream",
     "text": [
      "100%|████████████████████████████████████████████████████████████████████████████████████| 4/4 [00:00<00:00,  8.55it/s]\n"
     ]
    },
    {
     "name": "stdout",
     "output_type": "stream",
     "text": [
      "epoch 372, loss: 0.28535, acc: 0.90943, val_loss: 0.63167, val_accuracy: 0.86942\n"
     ]
    },
    {
     "name": "stderr",
     "output_type": "stream",
     "text": [
      "100%|████████████████████████████████████████████████████████████████████████████████████| 4/4 [00:00<00:00,  9.13it/s]\n"
     ]
    },
    {
     "name": "stdout",
     "output_type": "stream",
     "text": [
      "epoch 373, loss: 0.28963, acc: 0.90806, val_loss: 0.62624, val_accuracy: 0.87020\n"
     ]
    },
    {
     "name": "stderr",
     "output_type": "stream",
     "text": [
      "100%|████████████████████████████████████████████████████████████████████████████████████| 4/4 [00:00<00:00,  6.53it/s]\n"
     ]
    },
    {
     "name": "stdout",
     "output_type": "stream",
     "text": [
      "epoch 374, loss: 0.28443, acc: 0.90791, val_loss: 0.68702, val_accuracy: 0.82370\n"
     ]
    },
    {
     "name": "stderr",
     "output_type": "stream",
     "text": [
      "100%|████████████████████████████████████████████████████████████████████████████████████| 4/4 [00:00<00:00,  7.39it/s]\n"
     ]
    },
    {
     "name": "stdout",
     "output_type": "stream",
     "text": [
      "epoch 375, loss: 0.28204, acc: 0.91042, val_loss: 0.65590, val_accuracy: 0.85996\n"
     ]
    },
    {
     "name": "stderr",
     "output_type": "stream",
     "text": [
      "100%|████████████████████████████████████████████████████████████████████████████████████| 4/4 [00:00<00:00,  7.36it/s]\n"
     ]
    },
    {
     "name": "stdout",
     "output_type": "stream",
     "text": [
      "epoch 376, loss: 0.28308, acc: 0.90940, val_loss: 0.62687, val_accuracy: 0.87073\n"
     ]
    },
    {
     "name": "stderr",
     "output_type": "stream",
     "text": [
      "100%|████████████████████████████████████████████████████████████████████████████████████| 4/4 [00:00<00:00,  9.09it/s]\n"
     ]
    },
    {
     "name": "stdout",
     "output_type": "stream",
     "text": [
      "epoch 377, loss: 0.28576, acc: 0.90765, val_loss: 0.65321, val_accuracy: 0.86679\n"
     ]
    },
    {
     "name": "stderr",
     "output_type": "stream",
     "text": [
      "100%|████████████████████████████████████████████████████████████████████████████████████| 4/4 [00:00<00:00,  9.28it/s]\n"
     ]
    },
    {
     "name": "stdout",
     "output_type": "stream",
     "text": [
      "epoch 378, loss: 0.28292, acc: 0.90829, val_loss: 0.70371, val_accuracy: 0.80189\n"
     ]
    },
    {
     "name": "stderr",
     "output_type": "stream",
     "text": [
      "100%|████████████████████████████████████████████████████████████████████████████████████| 4/4 [00:00<00:00,  9.18it/s]\n"
     ]
    },
    {
     "name": "stdout",
     "output_type": "stream",
     "text": [
      "epoch 379, loss: 0.28189, acc: 0.91080, val_loss: 0.63985, val_accuracy: 0.86915\n"
     ]
    },
    {
     "name": "stderr",
     "output_type": "stream",
     "text": [
      "100%|████████████████████████████████████████████████████████████████████████████████████| 4/4 [00:00<00:00,  9.52it/s]\n"
     ]
    },
    {
     "name": "stdout",
     "output_type": "stream",
     "text": [
      "epoch 380, loss: 0.28648, acc: 0.90817, val_loss: 0.62641, val_accuracy: 0.86968\n"
     ]
    },
    {
     "name": "stderr",
     "output_type": "stream",
     "text": [
      "100%|████████████████████████████████████████████████████████████████████████████████████| 4/4 [00:00<00:00,  7.02it/s]\n"
     ]
    },
    {
     "name": "stdout",
     "output_type": "stream",
     "text": [
      "epoch 381, loss: 0.28324, acc: 0.90791, val_loss: 0.69020, val_accuracy: 0.82633\n"
     ]
    },
    {
     "name": "stderr",
     "output_type": "stream",
     "text": [
      "100%|████████████████████████████████████████████████████████████████████████████████████| 4/4 [00:00<00:00,  9.45it/s]\n"
     ]
    },
    {
     "name": "stdout",
     "output_type": "stream",
     "text": [
      "epoch 382, loss: 0.28155, acc: 0.91074, val_loss: 0.67639, val_accuracy: 0.84472\n"
     ]
    },
    {
     "name": "stderr",
     "output_type": "stream",
     "text": [
      "100%|████████████████████████████████████████████████████████████████████████████████████| 4/4 [00:00<00:00,  9.57it/s]\n"
     ]
    },
    {
     "name": "stdout",
     "output_type": "stream",
     "text": [
      "epoch 383, loss: 0.28207, acc: 0.90937, val_loss: 0.63488, val_accuracy: 0.87047\n"
     ]
    },
    {
     "name": "stderr",
     "output_type": "stream",
     "text": [
      "100%|████████████████████████████████████████████████████████████████████████████████████| 4/4 [00:00<00:00,  7.23it/s]\n"
     ]
    },
    {
     "name": "stdout",
     "output_type": "stream",
     "text": [
      "epoch 384, loss: 0.28604, acc: 0.90762, val_loss: 0.64322, val_accuracy: 0.86784\n"
     ]
    },
    {
     "name": "stderr",
     "output_type": "stream",
     "text": [
      "100%|████████████████████████████████████████████████████████████████████████████████████| 4/4 [00:00<00:00,  8.53it/s]\n"
     ]
    },
    {
     "name": "stdout",
     "output_type": "stream",
     "text": [
      "epoch 385, loss: 0.28326, acc: 0.90814, val_loss: 0.72193, val_accuracy: 0.80084\n"
     ]
    },
    {
     "name": "stderr",
     "output_type": "stream",
     "text": [
      "100%|████████████████████████████████████████████████████████████████████████████████████| 4/4 [00:00<00:00,  9.28it/s]\n"
     ]
    },
    {
     "name": "stdout",
     "output_type": "stream",
     "text": [
      "epoch 386, loss: 0.28279, acc: 0.91027, val_loss: 0.65489, val_accuracy: 0.86232\n"
     ]
    },
    {
     "name": "stderr",
     "output_type": "stream",
     "text": [
      "100%|████████████████████████████████████████████████████████████████████████████████████| 4/4 [00:00<00:00,  8.97it/s]\n"
     ]
    },
    {
     "name": "stdout",
     "output_type": "stream",
     "text": [
      "epoch 387, loss: 0.28719, acc: 0.90896, val_loss: 0.62650, val_accuracy: 0.87073\n"
     ]
    },
    {
     "name": "stderr",
     "output_type": "stream",
     "text": [
      "100%|████████████████████████████████████████████████████████████████████████████████████| 4/4 [00:00<00:00,  9.11it/s]\n"
     ]
    },
    {
     "name": "stdout",
     "output_type": "stream",
     "text": [
      "epoch 388, loss: 0.28700, acc: 0.90730, val_loss: 0.68530, val_accuracy: 0.83053\n"
     ]
    },
    {
     "name": "stderr",
     "output_type": "stream",
     "text": [
      "100%|████████████████████████████████████████████████████████████████████████████████████| 4/4 [00:00<00:00,  9.15it/s]\n"
     ]
    },
    {
     "name": "stdout",
     "output_type": "stream",
     "text": [
      "epoch 389, loss: 0.28544, acc: 0.90873, val_loss: 0.71412, val_accuracy: 0.80032\n"
     ]
    },
    {
     "name": "stderr",
     "output_type": "stream",
     "text": [
      "100%|████████████████████████████████████████████████████████████████████████████████████| 4/4 [00:00<00:00,  8.64it/s]\n"
     ]
    },
    {
     "name": "stdout",
     "output_type": "stream",
     "text": [
      "epoch 390, loss: 0.28587, acc: 0.90919, val_loss: 0.63083, val_accuracy: 0.87020\n"
     ]
    },
    {
     "name": "stderr",
     "output_type": "stream",
     "text": [
      "100%|████████████████████████████████████████████████████████████████████████████████████| 4/4 [00:00<00:00,  5.80it/s]\n"
     ]
    },
    {
     "name": "stdout",
     "output_type": "stream",
     "text": [
      "epoch 391, loss: 0.29336, acc: 0.90797, val_loss: 0.62864, val_accuracy: 0.86942\n"
     ]
    },
    {
     "name": "stderr",
     "output_type": "stream",
     "text": [
      "100%|████████████████████████████████████████████████████████████████████████████████████| 4/4 [00:00<00:00,  8.94it/s]\n"
     ]
    },
    {
     "name": "stdout",
     "output_type": "stream",
     "text": [
      "epoch 392, loss: 0.28650, acc: 0.90771, val_loss: 0.73709, val_accuracy: 0.79848\n"
     ]
    },
    {
     "name": "stderr",
     "output_type": "stream",
     "text": [
      "100%|████████████████████████████████████████████████████████████████████████████████████| 4/4 [00:00<00:00,  7.80it/s]\n"
     ]
    },
    {
     "name": "stdout",
     "output_type": "stream",
     "text": [
      "epoch 393, loss: 0.28577, acc: 0.90922, val_loss: 0.65902, val_accuracy: 0.86127\n"
     ]
    },
    {
     "name": "stderr",
     "output_type": "stream",
     "text": [
      "100%|████████████████████████████████████████████████████████████████████████████████████| 4/4 [00:00<00:00,  6.06it/s]\n"
     ]
    },
    {
     "name": "stdout",
     "output_type": "stream",
     "text": [
      "epoch 394, loss: 0.28703, acc: 0.90896, val_loss: 0.63290, val_accuracy: 0.87020\n"
     ]
    },
    {
     "name": "stderr",
     "output_type": "stream",
     "text": [
      "100%|████████████████████████████████████████████████████████████████████████████████████| 4/4 [00:00<00:00,  8.57it/s]\n"
     ]
    },
    {
     "name": "stdout",
     "output_type": "stream",
     "text": [
      "epoch 395, loss: 0.28434, acc: 0.90768, val_loss: 0.68718, val_accuracy: 0.83001\n"
     ]
    },
    {
     "name": "stderr",
     "output_type": "stream",
     "text": [
      "100%|████████████████████████████████████████████████████████████████████████████████████| 4/4 [00:00<00:00,  8.73it/s]\n"
     ]
    },
    {
     "name": "stdout",
     "output_type": "stream",
     "text": [
      "epoch 396, loss: 0.28152, acc: 0.91030, val_loss: 0.69071, val_accuracy: 0.83316\n"
     ]
    },
    {
     "name": "stderr",
     "output_type": "stream",
     "text": [
      "100%|████████████████████████████████████████████████████████████████████████████████████| 4/4 [00:00<00:00,  8.21it/s]\n"
     ]
    },
    {
     "name": "stdout",
     "output_type": "stream",
     "text": [
      "epoch 397, loss: 0.28210, acc: 0.91016, val_loss: 0.64202, val_accuracy: 0.86994\n"
     ]
    },
    {
     "name": "stderr",
     "output_type": "stream",
     "text": [
      "100%|████████████████████████████████████████████████████████████████████████████████████| 4/4 [00:00<00:00,  8.49it/s]\n"
     ]
    },
    {
     "name": "stdout",
     "output_type": "stream",
     "text": [
      "epoch 398, loss: 0.28767, acc: 0.90738, val_loss: 0.67291, val_accuracy: 0.85575\n"
     ]
    },
    {
     "name": "stderr",
     "output_type": "stream",
     "text": [
      "100%|████████████████████████████████████████████████████████████████████████████████████| 4/4 [00:00<00:00,  7.24it/s]\n"
     ]
    },
    {
     "name": "stdout",
     "output_type": "stream",
     "text": [
      "epoch 399, loss: 0.28391, acc: 0.90905, val_loss: 0.73573, val_accuracy: 0.79743\n"
     ]
    },
    {
     "name": "stderr",
     "output_type": "stream",
     "text": [
      "100%|████████████████████████████████████████████████████████████████████████████████████| 4/4 [00:00<00:00,  7.60it/s]\n"
     ]
    },
    {
     "name": "stdout",
     "output_type": "stream",
     "text": [
      "epoch 400, loss: 0.28282, acc: 0.90984, val_loss: 0.65365, val_accuracy: 0.86968\n"
     ]
    },
    {
     "name": "stderr",
     "output_type": "stream",
     "text": [
      "100%|████████████████████████████████████████████████████████████████████████████████████| 4/4 [00:00<00:00,  8.75it/s]\n"
     ]
    },
    {
     "name": "stdout",
     "output_type": "stream",
     "text": [
      "epoch 401, loss: 0.28823, acc: 0.90800, val_loss: 0.65691, val_accuracy: 0.86679\n"
     ]
    },
    {
     "name": "stderr",
     "output_type": "stream",
     "text": [
      "100%|████████████████████████████████████████████████████████████████████████████████████| 4/4 [00:00<00:00,  7.14it/s]\n"
     ]
    },
    {
     "name": "stdout",
     "output_type": "stream",
     "text": [
      "epoch 402, loss: 0.28103, acc: 0.90922, val_loss: 0.72370, val_accuracy: 0.80058\n"
     ]
    },
    {
     "name": "stderr",
     "output_type": "stream",
     "text": [
      "100%|████████████████████████████████████████████████████████████████████████████████████| 4/4 [00:00<00:00,  8.58it/s]\n"
     ]
    },
    {
     "name": "stdout",
     "output_type": "stream",
     "text": [
      "epoch 403, loss: 0.27837, acc: 0.91060, val_loss: 0.65733, val_accuracy: 0.86837\n"
     ]
    },
    {
     "name": "stderr",
     "output_type": "stream",
     "text": [
      "100%|████████████████████████████████████████████████████████████████████████████████████| 4/4 [00:00<00:00,  7.46it/s]\n"
     ]
    },
    {
     "name": "stdout",
     "output_type": "stream",
     "text": [
      "epoch 404, loss: 0.28080, acc: 0.90981, val_loss: 0.65089, val_accuracy: 0.86810\n"
     ]
    },
    {
     "name": "stderr",
     "output_type": "stream",
     "text": [
      "100%|████████████████████████████████████████████████████████████████████████████████████| 4/4 [00:00<00:00,  8.42it/s]\n"
     ]
    },
    {
     "name": "stdout",
     "output_type": "stream",
     "text": [
      "epoch 405, loss: 0.27799, acc: 0.90960, val_loss: 0.69598, val_accuracy: 0.82843\n"
     ]
    },
    {
     "name": "stderr",
     "output_type": "stream",
     "text": [
      "100%|████████████████████████████████████████████████████████████████████████████████████| 4/4 [00:00<00:00,  8.53it/s]\n"
     ]
    },
    {
     "name": "stdout",
     "output_type": "stream",
     "text": [
      "epoch 406, loss: 0.27610, acc: 0.91118, val_loss: 0.68765, val_accuracy: 0.83762\n"
     ]
    },
    {
     "name": "stderr",
     "output_type": "stream",
     "text": [
      "100%|████████████████████████████████████████████████████████████████████████████████████| 4/4 [00:00<00:00,  7.46it/s]\n"
     ]
    },
    {
     "name": "stdout",
     "output_type": "stream",
     "text": [
      "epoch 407, loss: 0.27657, acc: 0.91060, val_loss: 0.65362, val_accuracy: 0.86863\n"
     ]
    },
    {
     "name": "stderr",
     "output_type": "stream",
     "text": [
      "100%|████████████████████████████████████████████████████████████████████████████████████| 4/4 [00:00<00:00,  7.49it/s]\n"
     ]
    },
    {
     "name": "stdout",
     "output_type": "stream",
     "text": [
      "epoch 408, loss: 0.27864, acc: 0.90957, val_loss: 0.67008, val_accuracy: 0.86600\n"
     ]
    },
    {
     "name": "stderr",
     "output_type": "stream",
     "text": [
      "100%|████████████████████████████████████████████████████████████████████████████████████| 4/4 [00:00<00:00,  6.57it/s]\n"
     ]
    },
    {
     "name": "stdout",
     "output_type": "stream",
     "text": [
      "epoch 409, loss: 0.27637, acc: 0.91001, val_loss: 0.72889, val_accuracy: 0.81897\n"
     ]
    },
    {
     "name": "stderr",
     "output_type": "stream",
     "text": [
      "100%|████████████████████████████████████████████████████████████████████████████████████| 4/4 [00:00<00:00,  8.28it/s]\n"
     ]
    },
    {
     "name": "stdout",
     "output_type": "stream",
     "text": [
      "epoch 410, loss: 0.27589, acc: 0.91168, val_loss: 0.67520, val_accuracy: 0.86127\n"
     ]
    },
    {
     "name": "stderr",
     "output_type": "stream",
     "text": [
      "100%|████████████████████████████████████████████████████████████████████████████████████| 4/4 [00:00<00:00,  7.52it/s]\n"
     ]
    },
    {
     "name": "stdout",
     "output_type": "stream",
     "text": [
      "epoch 411, loss: 0.27887, acc: 0.90998, val_loss: 0.64795, val_accuracy: 0.86942\n"
     ]
    },
    {
     "name": "stderr",
     "output_type": "stream",
     "text": [
      "100%|████████████████████████████████████████████████████████████████████████████████████| 4/4 [00:00<00:00,  6.71it/s]\n"
     ]
    },
    {
     "name": "stdout",
     "output_type": "stream",
     "text": [
      "epoch 412, loss: 0.27953, acc: 0.90917, val_loss: 0.69619, val_accuracy: 0.83158\n"
     ]
    },
    {
     "name": "stderr",
     "output_type": "stream",
     "text": [
      "100%|████████████████████████████████████████████████████████████████████████████████████| 4/4 [00:00<00:00,  8.31it/s]\n"
     ]
    },
    {
     "name": "stdout",
     "output_type": "stream",
     "text": [
      "epoch 413, loss: 0.27939, acc: 0.91039, val_loss: 0.74087, val_accuracy: 0.78954\n"
     ]
    },
    {
     "name": "stderr",
     "output_type": "stream",
     "text": [
      "100%|████████████████████████████████████████████████████████████████████████████████████| 4/4 [00:00<00:00,  7.16it/s]\n"
     ]
    },
    {
     "name": "stdout",
     "output_type": "stream",
     "text": [
      "epoch 414, loss: 0.27951, acc: 0.91095, val_loss: 0.65711, val_accuracy: 0.86968\n"
     ]
    },
    {
     "name": "stderr",
     "output_type": "stream",
     "text": [
      "100%|████████████████████████████████████████████████████████████████████████████████████| 4/4 [00:00<00:00,  9.21it/s]\n"
     ]
    },
    {
     "name": "stdout",
     "output_type": "stream",
     "text": [
      "epoch 415, loss: 0.28659, acc: 0.90861, val_loss: 0.64282, val_accuracy: 0.86889\n"
     ]
    },
    {
     "name": "stderr",
     "output_type": "stream",
     "text": [
      "100%|████████████████████████████████████████████████████████████████████████████████████| 4/4 [00:00<00:00,  9.37it/s]\n"
     ]
    },
    {
     "name": "stdout",
     "output_type": "stream",
     "text": [
      "epoch 416, loss: 0.28221, acc: 0.90829, val_loss: 0.76028, val_accuracy: 0.78849\n"
     ]
    },
    {
     "name": "stderr",
     "output_type": "stream",
     "text": [
      "100%|████████████████████████████████████████████████████████████████████████████████████| 4/4 [00:00<00:00,  9.17it/s]\n"
     ]
    },
    {
     "name": "stdout",
     "output_type": "stream",
     "text": [
      "epoch 417, loss: 0.28460, acc: 0.90940, val_loss: 0.69372, val_accuracy: 0.84157\n"
     ]
    },
    {
     "name": "stderr",
     "output_type": "stream",
     "text": [
      "100%|████████████████████████████████████████████████████████████████████████████████████| 4/4 [00:00<00:00,  8.29it/s]\n"
     ]
    },
    {
     "name": "stdout",
     "output_type": "stream",
     "text": [
      "epoch 418, loss: 0.28689, acc: 0.90855, val_loss: 0.64610, val_accuracy: 0.87020\n"
     ]
    },
    {
     "name": "stderr",
     "output_type": "stream",
     "text": [
      "100%|████████████████████████████████████████████████████████████████████████████████████| 4/4 [00:00<00:00,  6.64it/s]\n"
     ]
    },
    {
     "name": "stdout",
     "output_type": "stream",
     "text": [
      "epoch 419, loss: 0.29008, acc: 0.90782, val_loss: 0.69316, val_accuracy: 0.83500\n"
     ]
    },
    {
     "name": "stderr",
     "output_type": "stream",
     "text": [
      "100%|████████████████████████████████████████████████████████████████████████████████████| 4/4 [00:00<00:00,  8.77it/s]\n"
     ]
    },
    {
     "name": "stdout",
     "output_type": "stream",
     "text": [
      "epoch 420, loss: 0.28145, acc: 0.90952, val_loss: 0.74604, val_accuracy: 0.78744\n"
     ]
    },
    {
     "name": "stderr",
     "output_type": "stream",
     "text": [
      "100%|████████████████████████████████████████████████████████████████████████████████████| 4/4 [00:00<00:00,  7.24it/s]\n"
     ]
    },
    {
     "name": "stdout",
     "output_type": "stream",
     "text": [
      "epoch 421, loss: 0.28033, acc: 0.91130, val_loss: 0.65304, val_accuracy: 0.86968\n"
     ]
    },
    {
     "name": "stderr",
     "output_type": "stream",
     "text": [
      "100%|████████████████████████████████████████████████████████████████████████████████████| 4/4 [00:00<00:00,  6.60it/s]\n"
     ]
    },
    {
     "name": "stdout",
     "output_type": "stream",
     "text": [
      "epoch 422, loss: 0.28432, acc: 0.90902, val_loss: 0.66865, val_accuracy: 0.84104\n"
     ]
    },
    {
     "name": "stderr",
     "output_type": "stream",
     "text": [
      "100%|████████████████████████████████████████████████████████████████████████████████████| 4/4 [00:00<00:00,  8.99it/s]\n"
     ]
    },
    {
     "name": "stdout",
     "output_type": "stream",
     "text": [
      "epoch 423, loss: 0.27636, acc: 0.90984, val_loss: 0.73268, val_accuracy: 0.82475\n"
     ]
    },
    {
     "name": "stderr",
     "output_type": "stream",
     "text": [
      "100%|████████████████████████████████████████████████████████████████████████████████████| 4/4 [00:00<00:00,  8.67it/s]\n"
     ]
    },
    {
     "name": "stdout",
     "output_type": "stream",
     "text": [
      "epoch 424, loss: 0.27488, acc: 0.91095, val_loss: 0.66934, val_accuracy: 0.86837\n"
     ]
    },
    {
     "name": "stderr",
     "output_type": "stream",
     "text": [
      "100%|████████████████████████████████████████████████████████████████████████████████████| 4/4 [00:00<00:00,  8.56it/s]\n"
     ]
    },
    {
     "name": "stdout",
     "output_type": "stream",
     "text": [
      "epoch 425, loss: 0.27764, acc: 0.91025, val_loss: 0.68311, val_accuracy: 0.84104\n"
     ]
    },
    {
     "name": "stderr",
     "output_type": "stream",
     "text": [
      "100%|████████████████████████████████████████████████████████████████████████████████████| 4/4 [00:00<00:00,  7.68it/s]\n"
     ]
    },
    {
     "name": "stdout",
     "output_type": "stream",
     "text": [
      "epoch 426, loss: 0.27333, acc: 0.91027, val_loss: 0.71394, val_accuracy: 0.82817\n"
     ]
    },
    {
     "name": "stderr",
     "output_type": "stream",
     "text": [
      "100%|████████████████████████████████████████████████████████████████████████████████████| 4/4 [00:00<00:00,  8.75it/s]\n"
     ]
    },
    {
     "name": "stdout",
     "output_type": "stream",
     "text": [
      "epoch 427, loss: 0.27151, acc: 0.91156, val_loss: 0.68602, val_accuracy: 0.84130\n"
     ]
    },
    {
     "name": "stderr",
     "output_type": "stream",
     "text": [
      "100%|████████████████████████████████████████████████████████████████████████████████████| 4/4 [00:00<00:00,  8.39it/s]\n"
     ]
    },
    {
     "name": "stdout",
     "output_type": "stream",
     "text": [
      "epoch 428, loss: 0.27308, acc: 0.91112, val_loss: 0.67929, val_accuracy: 0.86048\n"
     ]
    },
    {
     "name": "stderr",
     "output_type": "stream",
     "text": [
      "100%|████████████████████████████████████████████████████████████████████████████████████| 4/4 [00:00<00:00,  8.23it/s]\n"
     ]
    },
    {
     "name": "stdout",
     "output_type": "stream",
     "text": [
      "epoch 429, loss: 0.27205, acc: 0.91065, val_loss: 0.70327, val_accuracy: 0.83342\n"
     ]
    },
    {
     "name": "stderr",
     "output_type": "stream",
     "text": [
      "100%|████████████████████████████████████████████████████████████████████████████████████| 4/4 [00:00<00:00,  5.46it/s]\n"
     ]
    },
    {
     "name": "stdout",
     "output_type": "stream",
     "text": [
      "epoch 430, loss: 0.27099, acc: 0.91121, val_loss: 0.71898, val_accuracy: 0.78744\n"
     ]
    },
    {
     "name": "stderr",
     "output_type": "stream",
     "text": [
      "100%|████████████████████████████████████████████████████████████████████████████████████| 4/4 [00:00<00:00,  7.50it/s]\n"
     ]
    },
    {
     "name": "stdout",
     "output_type": "stream",
     "text": [
      "epoch 431, loss: 0.27080, acc: 0.91200, val_loss: 0.68360, val_accuracy: 0.86048\n"
     ]
    },
    {
     "name": "stderr",
     "output_type": "stream",
     "text": [
      "100%|████████████████████████████████████████████████████████████████████████████████████| 4/4 [00:00<00:00,  8.69it/s]\n"
     ]
    },
    {
     "name": "stdout",
     "output_type": "stream",
     "text": [
      "epoch 432, loss: 0.27249, acc: 0.91071, val_loss: 0.67617, val_accuracy: 0.86679\n"
     ]
    },
    {
     "name": "stderr",
     "output_type": "stream",
     "text": [
      "100%|████████████████████████████████████████████████████████████████████████████████████| 4/4 [00:00<00:00,  8.91it/s]\n"
     ]
    },
    {
     "name": "stdout",
     "output_type": "stream",
     "text": [
      "epoch 433, loss: 0.27256, acc: 0.91080, val_loss: 0.72640, val_accuracy: 0.82606\n"
     ]
    },
    {
     "name": "stderr",
     "output_type": "stream",
     "text": [
      "100%|████████████████████████████████████████████████████████████████████████████████████| 4/4 [00:00<00:00,  8.80it/s]\n"
     ]
    },
    {
     "name": "stdout",
     "output_type": "stream",
     "text": [
      "epoch 434, loss: 0.27189, acc: 0.91165, val_loss: 0.73511, val_accuracy: 0.79900\n"
     ]
    },
    {
     "name": "stderr",
     "output_type": "stream",
     "text": [
      "100%|████████████████████████████████████████████████████████████████████████████████████| 4/4 [00:00<00:00,  7.61it/s]\n"
     ]
    },
    {
     "name": "stdout",
     "output_type": "stream",
     "text": [
      "epoch 435, loss: 0.27262, acc: 0.91159, val_loss: 0.67425, val_accuracy: 0.86915\n"
     ]
    },
    {
     "name": "stderr",
     "output_type": "stream",
     "text": [
      "100%|████████████████████████████████████████████████████████████████████████████████████| 4/4 [00:00<00:00,  9.67it/s]\n"
     ]
    },
    {
     "name": "stdout",
     "output_type": "stream",
     "text": [
      "epoch 436, loss: 0.27753, acc: 0.91027, val_loss: 0.67328, val_accuracy: 0.85707\n"
     ]
    },
    {
     "name": "stderr",
     "output_type": "stream",
     "text": [
      "100%|████████████████████████████████████████████████████████████████████████████████████| 4/4 [00:00<00:00,  7.66it/s]\n"
     ]
    },
    {
     "name": "stdout",
     "output_type": "stream",
     "text": [
      "epoch 437, loss: 0.27773, acc: 0.91025, val_loss: 0.78405, val_accuracy: 0.77798\n"
     ]
    },
    {
     "name": "stderr",
     "output_type": "stream",
     "text": [
      "100%|████████████████████████████████████████████████████████████████████████████████████| 4/4 [00:00<00:00,  9.52it/s]\n"
     ]
    },
    {
     "name": "stdout",
     "output_type": "stream",
     "text": [
      "epoch 438, loss: 0.27974, acc: 0.91127, val_loss: 0.72360, val_accuracy: 0.82869\n"
     ]
    },
    {
     "name": "stderr",
     "output_type": "stream",
     "text": [
      "100%|████████████████████████████████████████████████████████████████████████████████████| 4/4 [00:00<00:00,  9.28it/s]\n"
     ]
    },
    {
     "name": "stdout",
     "output_type": "stream",
     "text": [
      "epoch 439, loss: 0.28379, acc: 0.90779, val_loss: 0.65061, val_accuracy: 0.87073\n"
     ]
    },
    {
     "name": "stderr",
     "output_type": "stream",
     "text": [
      "100%|████████████████████████████████████████████████████████████████████████████████████| 4/4 [00:00<00:00,  7.05it/s]\n"
     ]
    },
    {
     "name": "stdout",
     "output_type": "stream",
     "text": [
      "epoch 440, loss: 0.28953, acc: 0.90806, val_loss: 0.68952, val_accuracy: 0.83263\n"
     ]
    },
    {
     "name": "stderr",
     "output_type": "stream",
     "text": [
      "100%|████████████████████████████████████████████████████████████████████████████████████| 4/4 [00:00<00:00,  9.71it/s]\n"
     ]
    },
    {
     "name": "stdout",
     "output_type": "stream",
     "text": [
      "epoch 441, loss: 0.28368, acc: 0.90981, val_loss: 0.82266, val_accuracy: 0.75696\n"
     ]
    },
    {
     "name": "stderr",
     "output_type": "stream",
     "text": [
      "100%|████████████████████████████████████████████████████████████████████████████████████| 4/4 [00:00<00:00,  9.47it/s]\n"
     ]
    },
    {
     "name": "stdout",
     "output_type": "stream",
     "text": [
      "epoch 442, loss: 0.28362, acc: 0.90849, val_loss: 0.67477, val_accuracy: 0.85470\n"
     ]
    },
    {
     "name": "stderr",
     "output_type": "stream",
     "text": [
      "100%|████████████████████████████████████████████████████████████████████████████████████| 4/4 [00:00<00:00,  9.24it/s]\n"
     ]
    },
    {
     "name": "stdout",
     "output_type": "stream",
     "text": [
      "epoch 443, loss: 0.28908, acc: 0.90908, val_loss: 0.64720, val_accuracy: 0.86863\n"
     ]
    },
    {
     "name": "stderr",
     "output_type": "stream",
     "text": [
      "100%|████████████████████████████████████████████████████████████████████████████████████| 4/4 [00:00<00:00,  8.90it/s]\n"
     ]
    },
    {
     "name": "stdout",
     "output_type": "stream",
     "text": [
      "epoch 444, loss: 0.28154, acc: 0.90879, val_loss: 0.77303, val_accuracy: 0.77352\n"
     ]
    },
    {
     "name": "stderr",
     "output_type": "stream",
     "text": [
      "100%|████████████████████████████████████████████████████████████████████████████████████| 4/4 [00:00<00:00,  8.33it/s]\n"
     ]
    },
    {
     "name": "stdout",
     "output_type": "stream",
     "text": [
      "epoch 445, loss: 0.27920, acc: 0.91030, val_loss: 0.70831, val_accuracy: 0.82738\n"
     ]
    },
    {
     "name": "stderr",
     "output_type": "stream",
     "text": [
      "100%|████████████████████████████████████████████████████████████████████████████████████| 4/4 [00:00<00:00,  8.60it/s]\n"
     ]
    },
    {
     "name": "stdout",
     "output_type": "stream",
     "text": [
      "epoch 446, loss: 0.27993, acc: 0.91039, val_loss: 0.66275, val_accuracy: 0.86942\n"
     ]
    },
    {
     "name": "stderr",
     "output_type": "stream",
     "text": [
      "100%|████████████████████████████████████████████████████████████████████████████████████| 4/4 [00:00<00:00,  6.99it/s]\n"
     ]
    },
    {
     "name": "stdout",
     "output_type": "stream",
     "text": [
      "epoch 447, loss: 0.28097, acc: 0.90841, val_loss: 0.72192, val_accuracy: 0.82764\n"
     ]
    },
    {
     "name": "stderr",
     "output_type": "stream",
     "text": [
      "100%|████████████████████████████████████████████████████████████████████████████████████| 4/4 [00:00<00:00,  8.31it/s]\n"
     ]
    },
    {
     "name": "stdout",
     "output_type": "stream",
     "text": [
      "epoch 448, loss: 0.27537, acc: 0.91118, val_loss: 0.76552, val_accuracy: 0.78902\n"
     ]
    },
    {
     "name": "stderr",
     "output_type": "stream",
     "text": [
      "100%|████████████████████████████████████████████████████████████████████████████████████| 4/4 [00:00<00:00,  8.55it/s]\n"
     ]
    },
    {
     "name": "stdout",
     "output_type": "stream",
     "text": [
      "epoch 449, loss: 0.27448, acc: 0.91238, val_loss: 0.68037, val_accuracy: 0.86968\n"
     ]
    },
    {
     "name": "stderr",
     "output_type": "stream",
     "text": [
      "100%|████████████████████████████████████████████████████████████████████████████████████| 4/4 [00:00<00:00,  7.10it/s]\n"
     ]
    },
    {
     "name": "stdout",
     "output_type": "stream",
     "text": [
      "epoch 450, loss: 0.27902, acc: 0.90995, val_loss: 0.71278, val_accuracy: 0.77982\n"
     ]
    },
    {
     "name": "stderr",
     "output_type": "stream",
     "text": [
      "100%|████████████████████████████████████████████████████████████████████████████████████| 4/4 [00:00<00:00,  8.73it/s]\n"
     ]
    },
    {
     "name": "stdout",
     "output_type": "stream",
     "text": [
      "epoch 451, loss: 0.27187, acc: 0.91095, val_loss: 0.75281, val_accuracy: 0.81582\n"
     ]
    },
    {
     "name": "stderr",
     "output_type": "stream",
     "text": [
      "100%|████████████████████████████████████████████████████████████████████████████████████| 4/4 [00:00<00:00,  9.13it/s]\n"
     ]
    },
    {
     "name": "stdout",
     "output_type": "stream",
     "text": [
      "epoch 452, loss: 0.27089, acc: 0.91244, val_loss: 0.68464, val_accuracy: 0.84919\n"
     ]
    },
    {
     "name": "stderr",
     "output_type": "stream",
     "text": [
      "100%|████████████████████████████████████████████████████████████████████████████████████| 4/4 [00:00<00:00,  7.43it/s]\n"
     ]
    },
    {
     "name": "stdout",
     "output_type": "stream",
     "text": [
      "epoch 453, loss: 0.27382, acc: 0.91098, val_loss: 0.71140, val_accuracy: 0.78586\n"
     ]
    },
    {
     "name": "stderr",
     "output_type": "stream",
     "text": [
      "100%|████████████████████████████████████████████████████████████████████████████████████| 4/4 [00:00<00:00,  7.07it/s]\n"
     ]
    },
    {
     "name": "stdout",
     "output_type": "stream",
     "text": [
      "epoch 454, loss: 0.26962, acc: 0.91103, val_loss: 0.74645, val_accuracy: 0.77378\n"
     ]
    },
    {
     "name": "stderr",
     "output_type": "stream",
     "text": [
      "100%|████████████████████████████████████████████████████████████████████████████████████| 4/4 [00:00<00:00,  9.28it/s]\n"
     ]
    },
    {
     "name": "stdout",
     "output_type": "stream",
     "text": [
      "epoch 455, loss: 0.26772, acc: 0.91308, val_loss: 0.71594, val_accuracy: 0.78665\n"
     ]
    },
    {
     "name": "stderr",
     "output_type": "stream",
     "text": [
      "100%|████████████████████████████████████████████████████████████████████████████████████| 4/4 [00:00<00:00,  9.57it/s]\n"
     ]
    },
    {
     "name": "stdout",
     "output_type": "stream",
     "text": [
      "epoch 456, loss: 0.26899, acc: 0.91176, val_loss: 0.70271, val_accuracy: 0.84288\n"
     ]
    },
    {
     "name": "stderr",
     "output_type": "stream",
     "text": [
      "100%|████████████████████████████████████████████████████████████████████████████████████| 4/4 [00:00<00:00, 10.02it/s]\n"
     ]
    },
    {
     "name": "stdout",
     "output_type": "stream",
     "text": [
      "epoch 457, loss: 0.26809, acc: 0.91147, val_loss: 0.72627, val_accuracy: 0.77614\n"
     ]
    },
    {
     "name": "stderr",
     "output_type": "stream",
     "text": [
      "100%|████████████████████████████████████████████████████████████████████████████████████| 4/4 [00:00<00:00,  7.12it/s]\n"
     ]
    },
    {
     "name": "stdout",
     "output_type": "stream",
     "text": [
      "epoch 458, loss: 0.26723, acc: 0.91194, val_loss: 0.74774, val_accuracy: 0.77772\n"
     ]
    },
    {
     "name": "stderr",
     "output_type": "stream",
     "text": [
      "100%|████████████████████████████████████████████████████████████████████████████████████| 4/4 [00:00<00:00,  8.00it/s]\n"
     ]
    },
    {
     "name": "stdout",
     "output_type": "stream",
     "text": [
      "epoch 459, loss: 0.26680, acc: 0.91264, val_loss: 0.71165, val_accuracy: 0.83368\n"
     ]
    },
    {
     "name": "stderr",
     "output_type": "stream",
     "text": [
      "100%|████████████████████████████████████████████████████████████████████████████████████| 4/4 [00:00<00:00,  8.31it/s]\n"
     ]
    },
    {
     "name": "stdout",
     "output_type": "stream",
     "text": [
      "epoch 460, loss: 0.26824, acc: 0.91188, val_loss: 0.70504, val_accuracy: 0.78902\n"
     ]
    },
    {
     "name": "stderr",
     "output_type": "stream",
     "text": [
      "100%|████████████████████████████████████████████████████████████████████████████████████| 4/4 [00:00<00:00,  8.89it/s]\n"
     ]
    },
    {
     "name": "stdout",
     "output_type": "stream",
     "text": [
      "epoch 461, loss: 0.26844, acc: 0.91133, val_loss: 0.75486, val_accuracy: 0.77693\n"
     ]
    },
    {
     "name": "stderr",
     "output_type": "stream",
     "text": [
      "100%|████████████████████████████████████████████████████████████████████████████████████| 4/4 [00:00<00:00,  8.54it/s]\n"
     ]
    },
    {
     "name": "stdout",
     "output_type": "stream",
     "text": [
      "epoch 462, loss: 0.26784, acc: 0.91238, val_loss: 0.76674, val_accuracy: 0.74908\n"
     ]
    },
    {
     "name": "stderr",
     "output_type": "stream",
     "text": [
      "100%|████████████████████████████████████████████████████████████████████████████████████| 4/4 [00:00<00:00,  7.36it/s]\n"
     ]
    },
    {
     "name": "stdout",
     "output_type": "stream",
     "text": [
      "epoch 463, loss: 0.26848, acc: 0.91258, val_loss: 0.69933, val_accuracy: 0.79769\n"
     ]
    },
    {
     "name": "stderr",
     "output_type": "stream",
     "text": [
      "100%|████████████████████████████████████████████████████████████████████████████████████| 4/4 [00:00<00:00,  8.77it/s]\n"
     ]
    },
    {
     "name": "stdout",
     "output_type": "stream",
     "text": [
      "epoch 464, loss: 0.27332, acc: 0.91106, val_loss: 0.69683, val_accuracy: 0.84892\n"
     ]
    },
    {
     "name": "stderr",
     "output_type": "stream",
     "text": [
      "100%|████████████████████████████████████████████████████████████████████████████████████| 4/4 [00:00<00:00,  6.61it/s]\n"
     ]
    },
    {
     "name": "stdout",
     "output_type": "stream",
     "text": [
      "epoch 465, loss: 0.27364, acc: 0.91057, val_loss: 0.81190, val_accuracy: 0.72727\n"
     ]
    },
    {
     "name": "stderr",
     "output_type": "stream",
     "text": [
      "100%|████████████████████████████████████████████████████████████████████████████████████| 4/4 [00:00<00:00,  8.38it/s]\n"
     ]
    },
    {
     "name": "stdout",
     "output_type": "stream",
     "text": [
      "epoch 466, loss: 0.27611, acc: 0.91141, val_loss: 0.75504, val_accuracy: 0.77141\n"
     ]
    },
    {
     "name": "stderr",
     "output_type": "stream",
     "text": [
      "100%|████████████████████████████████████████████████████████████████████████████████████| 4/4 [00:00<00:00,  6.55it/s]\n"
     ]
    },
    {
     "name": "stdout",
     "output_type": "stream",
     "text": [
      "epoch 467, loss: 0.28024, acc: 0.90844, val_loss: 0.66818, val_accuracy: 0.87073\n"
     ]
    },
    {
     "name": "stderr",
     "output_type": "stream",
     "text": [
      "100%|████████████████████████████████████████████████████████████████████████████████████| 4/4 [00:00<00:00,  7.04it/s]\n"
     ]
    },
    {
     "name": "stdout",
     "output_type": "stream",
     "text": [
      "epoch 468, loss: 0.28694, acc: 0.90808, val_loss: 0.71004, val_accuracy: 0.78297\n"
     ]
    },
    {
     "name": "stderr",
     "output_type": "stream",
     "text": [
      "100%|████████████████████████████████████████████████████████████████████████████████████| 4/4 [00:00<00:00,  9.73it/s]\n"
     ]
    },
    {
     "name": "stdout",
     "output_type": "stream",
     "text": [
      "epoch 469, loss: 0.28192, acc: 0.91001, val_loss: 0.87168, val_accuracy: 0.70047\n"
     ]
    },
    {
     "name": "stderr",
     "output_type": "stream",
     "text": [
      "100%|████████████████████████████████████████████████████████████████████████████████████| 4/4 [00:00<00:00,  9.37it/s]\n"
     ]
    },
    {
     "name": "stdout",
     "output_type": "stream",
     "text": [
      "epoch 470, loss: 0.28352, acc: 0.90917, val_loss: 0.69095, val_accuracy: 0.85418\n"
     ]
    },
    {
     "name": "stderr",
     "output_type": "stream",
     "text": [
      "100%|████████████████████████████████████████████████████████████████████████████████████| 4/4 [00:00<00:00,  9.19it/s]\n"
     ]
    },
    {
     "name": "stdout",
     "output_type": "stream",
     "text": [
      "epoch 471, loss: 0.29011, acc: 0.90876, val_loss: 0.66731, val_accuracy: 0.82081\n"
     ]
    },
    {
     "name": "stderr",
     "output_type": "stream",
     "text": [
      "100%|████████████████████████████████████████████████████████████████████████████████████| 4/4 [00:00<00:00,  8.60it/s]\n"
     ]
    },
    {
     "name": "stdout",
     "output_type": "stream",
     "text": [
      "epoch 472, loss: 0.27890, acc: 0.90954, val_loss: 0.81013, val_accuracy: 0.73778\n"
     ]
    },
    {
     "name": "stderr",
     "output_type": "stream",
     "text": [
      "100%|████████████████████████████████████████████████████████████████████████████████████| 4/4 [00:00<00:00,  8.66it/s]\n"
     ]
    },
    {
     "name": "stdout",
     "output_type": "stream",
     "text": [
      "epoch 473, loss: 0.27526, acc: 0.91127, val_loss: 0.72326, val_accuracy: 0.82764\n"
     ]
    },
    {
     "name": "stderr",
     "output_type": "stream",
     "text": [
      "100%|████████████████████████████████████████████████████████████████████████████████████| 4/4 [00:00<00:00,  8.33it/s]\n"
     ]
    },
    {
     "name": "stdout",
     "output_type": "stream",
     "text": [
      "epoch 474, loss: 0.27595, acc: 0.91133, val_loss: 0.68776, val_accuracy: 0.86048\n"
     ]
    },
    {
     "name": "stderr",
     "output_type": "stream",
     "text": [
      "100%|████████████████████████████████████████████████████████████████████████████████████| 4/4 [00:00<00:00,  6.46it/s]\n"
     ]
    },
    {
     "name": "stdout",
     "output_type": "stream",
     "text": [
      "epoch 475, loss: 0.27462, acc: 0.90984, val_loss: 0.76275, val_accuracy: 0.77010\n"
     ]
    },
    {
     "name": "stderr",
     "output_type": "stream",
     "text": [
      "100%|████████████████████████████████████████████████████████████████████████████████████| 4/4 [00:00<00:00,  7.28it/s]\n"
     ]
    },
    {
     "name": "stdout",
     "output_type": "stream",
     "text": [
      "epoch 476, loss: 0.27060, acc: 0.91252, val_loss: 0.78746, val_accuracy: 0.73962\n"
     ]
    },
    {
     "name": "stderr",
     "output_type": "stream",
     "text": [
      "100%|████████████████████████████████████████████████████████████████████████████████████| 4/4 [00:00<00:00,  8.56it/s]\n"
     ]
    },
    {
     "name": "stdout",
     "output_type": "stream",
     "text": [
      "epoch 477, loss: 0.27052, acc: 0.91252, val_loss: 0.70316, val_accuracy: 0.85444\n"
     ]
    },
    {
     "name": "stderr",
     "output_type": "stream",
     "text": [
      "100%|████████████████████████████████████████████████████████████████████████████████████| 4/4 [00:00<00:00,  6.57it/s]\n"
     ]
    },
    {
     "name": "stdout",
     "output_type": "stream",
     "text": [
      "epoch 478, loss: 0.27403, acc: 0.91089, val_loss: 0.74624, val_accuracy: 0.77798\n"
     ]
    },
    {
     "name": "stderr",
     "output_type": "stream",
     "text": [
      "100%|████████████████████████████████████████████████████████████████████████████████████| 4/4 [00:00<00:00,  7.47it/s]\n"
     ]
    },
    {
     "name": "stdout",
     "output_type": "stream",
     "text": [
      "epoch 479, loss: 0.26905, acc: 0.91144, val_loss: 0.79433, val_accuracy: 0.74172\n"
     ]
    },
    {
     "name": "stderr",
     "output_type": "stream",
     "text": [
      "100%|████████████████████████████████████████████████████████████████████████████████████| 4/4 [00:00<00:00,  8.35it/s]\n"
     ]
    },
    {
     "name": "stdout",
     "output_type": "stream",
     "text": [
      "epoch 480, loss: 0.26851, acc: 0.91308, val_loss: 0.70483, val_accuracy: 0.79637\n"
     ]
    },
    {
     "name": "stderr",
     "output_type": "stream",
     "text": [
      "100%|████████████████████████████████████████████████████████████████████████████████████| 4/4 [00:00<00:00,  8.19it/s]\n"
     ]
    },
    {
     "name": "stdout",
     "output_type": "stream",
     "text": [
      "epoch 481, loss: 0.27218, acc: 0.91188, val_loss: 0.72757, val_accuracy: 0.78219\n"
     ]
    },
    {
     "name": "stderr",
     "output_type": "stream",
     "text": [
      "100%|████████████████████████████████████████████████████████████████████████████████████| 4/4 [00:00<00:00,  8.67it/s]\n"
     ]
    },
    {
     "name": "stdout",
     "output_type": "stream",
     "text": [
      "epoch 482, loss: 0.26737, acc: 0.91121, val_loss: 0.78607, val_accuracy: 0.77010\n"
     ]
    },
    {
     "name": "stderr",
     "output_type": "stream",
     "text": [
      "100%|████████████████████████████████████████████████████████████████████████████████████| 4/4 [00:00<00:00,  7.68it/s]\n"
     ]
    },
    {
     "name": "stdout",
     "output_type": "stream",
     "text": [
      "epoch 483, loss: 0.26584, acc: 0.91317, val_loss: 0.74728, val_accuracy: 0.78219\n"
     ]
    },
    {
     "name": "stderr",
     "output_type": "stream",
     "text": [
      "100%|████████████████████████████████████████████████████████████████████████████████████| 4/4 [00:00<00:00,  6.82it/s]\n"
     ]
    },
    {
     "name": "stdout",
     "output_type": "stream",
     "text": [
      "epoch 484, loss: 0.26657, acc: 0.91249, val_loss: 0.72019, val_accuracy: 0.78797\n"
     ]
    },
    {
     "name": "stderr",
     "output_type": "stream",
     "text": [
      "100%|████████████████████████████████████████████████████████████████████████████████████| 4/4 [00:00<00:00,  8.61it/s]\n"
     ]
    },
    {
     "name": "stdout",
     "output_type": "stream",
     "text": [
      "epoch 485, loss: 0.26670, acc: 0.91206, val_loss: 0.75132, val_accuracy: 0.77378\n"
     ]
    },
    {
     "name": "stderr",
     "output_type": "stream",
     "text": [
      "100%|████████████████████████████████████████████████████████████████████████████████████| 4/4 [00:00<00:00,  7.18it/s]\n"
     ]
    },
    {
     "name": "stdout",
     "output_type": "stream",
     "text": [
      "epoch 486, loss: 0.26550, acc: 0.91138, val_loss: 0.80566, val_accuracy: 0.73962\n"
     ]
    },
    {
     "name": "stderr",
     "output_type": "stream",
     "text": [
      "100%|████████████████████████████████████████████████████████████████████████████████████| 4/4 [00:00<00:00,  8.51it/s]\n"
     ]
    },
    {
     "name": "stdout",
     "output_type": "stream",
     "text": [
      "epoch 487, loss: 0.26548, acc: 0.91398, val_loss: 0.73091, val_accuracy: 0.78665\n"
     ]
    },
    {
     "name": "stderr",
     "output_type": "stream",
     "text": [
      "100%|████████████████████████████████████████████████████████████████████████████████████| 4/4 [00:00<00:00,  7.13it/s]\n"
     ]
    },
    {
     "name": "stdout",
     "output_type": "stream",
     "text": [
      "epoch 488, loss: 0.26892, acc: 0.91232, val_loss: 0.70869, val_accuracy: 0.79664\n"
     ]
    },
    {
     "name": "stderr",
     "output_type": "stream",
     "text": [
      "100%|████████████████████████████████████████████████████████████████████████████████████| 4/4 [00:00<00:00,  8.60it/s]\n"
     ]
    },
    {
     "name": "stdout",
     "output_type": "stream",
     "text": [
      "epoch 489, loss: 0.26933, acc: 0.91095, val_loss: 0.79972, val_accuracy: 0.76406\n"
     ]
    },
    {
     "name": "stderr",
     "output_type": "stream",
     "text": [
      "100%|████████████████████████████████████████████████████████████████████████████████████| 4/4 [00:00<00:00,  8.60it/s]\n"
     ]
    },
    {
     "name": "stdout",
     "output_type": "stream",
     "text": [
      "epoch 490, loss: 0.26980, acc: 0.91220, val_loss: 0.80594, val_accuracy: 0.73962\n"
     ]
    },
    {
     "name": "stderr",
     "output_type": "stream",
     "text": [
      "100%|████████████████████████████████████████████████████████████████████████████████████| 4/4 [00:00<00:00,  8.97it/s]\n"
     ]
    },
    {
     "name": "stdout",
     "output_type": "stream",
     "text": [
      "epoch 491, loss: 0.27030, acc: 0.91270, val_loss: 0.71163, val_accuracy: 0.81529\n"
     ]
    },
    {
     "name": "stderr",
     "output_type": "stream",
     "text": [
      "100%|████████████████████████████████████████████████████████████████████████████████████| 4/4 [00:00<00:00,  7.13it/s]\n"
     ]
    },
    {
     "name": "stdout",
     "output_type": "stream",
     "text": [
      "epoch 492, loss: 0.27742, acc: 0.91127, val_loss: 0.72914, val_accuracy: 0.77641\n"
     ]
    },
    {
     "name": "stderr",
     "output_type": "stream",
     "text": [
      "100%|████████████████████████████████████████████████████████████████████████████████████| 4/4 [00:00<00:00,  7.03it/s]\n"
     ]
    },
    {
     "name": "stdout",
     "output_type": "stream",
     "text": [
      "epoch 493, loss: 0.27239, acc: 0.91074, val_loss: 0.86782, val_accuracy: 0.70757\n"
     ]
    },
    {
     "name": "stderr",
     "output_type": "stream",
     "text": [
      "100%|████████████████████████████████████████████████████████████████████████████████████| 4/4 [00:00<00:00,  8.99it/s]\n"
     ]
    },
    {
     "name": "stdout",
     "output_type": "stream",
     "text": [
      "epoch 494, loss: 0.27433, acc: 0.91083, val_loss: 0.71730, val_accuracy: 0.78639\n"
     ]
    },
    {
     "name": "stderr",
     "output_type": "stream",
     "text": [
      "100%|████████████████████████████████████████████████████████████████████████████████████| 4/4 [00:00<00:00,  8.75it/s]\n"
     ]
    },
    {
     "name": "stdout",
     "output_type": "stream",
     "text": [
      "epoch 495, loss: 0.27971, acc: 0.91100, val_loss: 0.69635, val_accuracy: 0.80951\n"
     ]
    },
    {
     "name": "stderr",
     "output_type": "stream",
     "text": [
      "100%|████████████████████████████████████████████████████████████████████████████████████| 4/4 [00:00<00:00,  5.87it/s]\n"
     ]
    },
    {
     "name": "stdout",
     "output_type": "stream",
     "text": [
      "epoch 496, loss: 0.27464, acc: 0.91030, val_loss: 0.81821, val_accuracy: 0.75460\n"
     ]
    },
    {
     "name": "stderr",
     "output_type": "stream",
     "text": [
      "100%|████████████████████████████████████████████████████████████████████████████████████| 4/4 [00:00<00:00,  8.97it/s]\n"
     ]
    },
    {
     "name": "stdout",
     "output_type": "stream",
     "text": [
      "epoch 497, loss: 0.26985, acc: 0.91182, val_loss: 0.79257, val_accuracy: 0.76301\n"
     ]
    },
    {
     "name": "stderr",
     "output_type": "stream",
     "text": [
      "100%|████████████████████████████████████████████████████████████████████████████████████| 4/4 [00:00<00:00,  8.80it/s]\n"
     ]
    },
    {
     "name": "stdout",
     "output_type": "stream",
     "text": [
      "epoch 498, loss: 0.26979, acc: 0.91258, val_loss: 0.71078, val_accuracy: 0.80820\n"
     ]
    },
    {
     "name": "stderr",
     "output_type": "stream",
     "text": [
      "100%|████████████████████████████████████████████████████████████████████████████████████| 4/4 [00:00<00:00,  8.67it/s]\n"
     ]
    },
    {
     "name": "stdout",
     "output_type": "stream",
     "text": [
      "epoch 499, loss: 0.27341, acc: 0.91203, val_loss: 0.76455, val_accuracy: 0.77115\n"
     ]
    },
    {
     "name": "stderr",
     "output_type": "stream",
     "text": [
      "100%|████████████████████████████████████████████████████████████████████████████████████| 4/4 [00:00<00:00,  7.47it/s]\n"
     ]
    },
    {
     "name": "stdout",
     "output_type": "stream",
     "text": [
      "epoch 500, loss: 0.26745, acc: 0.91156, val_loss: 0.83156, val_accuracy: 0.72438\n",
      "2번째 교차검증\n",
      "evaluation loss: 0.40437, evaluation accuracy: 0.89411\n",
      "(5, 3806)\n",
      "(3806, 5)\n",
      "Learning rate set to 0.085251\n",
      "0:\tlearn: 0.9834916\ttotal: 11.4ms\tremaining: 11.4s\n",
      "1:\tlearn: 0.8932585\ttotal: 23.9ms\tremaining: 11.9s\n",
      "2:\tlearn: 0.8205021\ttotal: 35.9ms\tremaining: 11.9s\n",
      "3:\tlearn: 0.7606803\ttotal: 59.8ms\tremaining: 14.9s\n",
      "4:\tlearn: 0.7107929\ttotal: 73.5ms\tremaining: 14.6s\n",
      "5:\tlearn: 0.6687479\ttotal: 86.9ms\tremaining: 14.4s\n",
      "6:\tlearn: 0.6330256\ttotal: 100ms\tremaining: 14.2s\n",
      "7:\tlearn: 0.6024856\ttotal: 122ms\tremaining: 15.2s\n",
      "8:\tlearn: 0.5762490\ttotal: 136ms\tremaining: 15s\n",
      "9:\tlearn: 0.5536246\ttotal: 153ms\tremaining: 15.1s\n",
      "10:\tlearn: 0.5340581\ttotal: 166ms\tremaining: 14.9s\n",
      "11:\tlearn: 0.5170987\ttotal: 177ms\tremaining: 14.5s\n",
      "12:\tlearn: 0.5023747\ttotal: 190ms\tremaining: 14.4s\n",
      "13:\tlearn: 0.4895766\ttotal: 203ms\tremaining: 14.3s\n",
      "14:\tlearn: 0.4784434\ttotal: 216ms\tremaining: 14.2s\n",
      "15:\tlearn: 0.4687544\ttotal: 226ms\tremaining: 13.9s\n",
      "16:\tlearn: 0.4603208\ttotal: 255ms\tremaining: 14.7s\n",
      "17:\tlearn: 0.4529806\ttotal: 268ms\tremaining: 14.6s\n",
      "18:\tlearn: 0.4465936\ttotal: 282ms\tremaining: 14.5s\n",
      "19:\tlearn: 0.4410384\ttotal: 294ms\tremaining: 14.4s\n",
      "20:\tlearn: 0.4362097\ttotal: 304ms\tremaining: 14.2s\n",
      "21:\tlearn: 0.4320153\ttotal: 316ms\tremaining: 14s\n",
      "22:\tlearn: 0.4283749\ttotal: 328ms\tremaining: 13.9s\n",
      "23:\tlearn: 0.4252180\ttotal: 338ms\tremaining: 13.8s\n",
      "24:\tlearn: 0.4224827\ttotal: 351ms\tremaining: 13.7s\n",
      "25:\tlearn: 0.4201152\ttotal: 361ms\tremaining: 13.5s\n",
      "26:\tlearn: 0.4180678\ttotal: 370ms\tremaining: 13.3s\n",
      "27:\tlearn: 0.4162991\ttotal: 380ms\tremaining: 13.2s\n",
      "28:\tlearn: 0.4147724\ttotal: 388ms\tremaining: 13s\n",
      "29:\tlearn: 0.4134561\ttotal: 398ms\tremaining: 12.9s\n",
      "30:\tlearn: 0.4123220\ttotal: 409ms\tremaining: 12.8s\n",
      "31:\tlearn: 0.4113457\ttotal: 417ms\tremaining: 12.6s\n",
      "32:\tlearn: 0.4105059\ttotal: 439ms\tremaining: 12.9s\n",
      "33:\tlearn: 0.4097842\ttotal: 450ms\tremaining: 12.8s\n",
      "34:\tlearn: 0.4091640\ttotal: 462ms\tremaining: 12.7s\n",
      "35:\tlearn: 0.4086314\ttotal: 471ms\tremaining: 12.6s\n",
      "36:\tlearn: 0.4081744\ttotal: 482ms\tremaining: 12.5s\n",
      "37:\tlearn: 0.4077820\ttotal: 492ms\tremaining: 12.5s\n",
      "38:\tlearn: 0.4074455\ttotal: 501ms\tremaining: 12.3s\n",
      "39:\tlearn: 0.4071566\ttotal: 512ms\tremaining: 12.3s\n",
      "40:\tlearn: 0.4069086\ttotal: 520ms\tremaining: 12.2s\n",
      "41:\tlearn: 0.4066958\ttotal: 531ms\tremaining: 12.1s\n",
      "42:\tlearn: 0.4065127\ttotal: 554ms\tremaining: 12.3s\n",
      "43:\tlearn: 0.4063554\ttotal: 564ms\tremaining: 12.3s\n",
      "44:\tlearn: 0.4062200\ttotal: 574ms\tremaining: 12.2s\n",
      "45:\tlearn: 0.4061032\ttotal: 582ms\tremaining: 12.1s\n",
      "46:\tlearn: 0.4060157\ttotal: 585ms\tremaining: 11.9s\n",
      "47:\tlearn: 0.4059281\ttotal: 595ms\tremaining: 11.8s\n",
      "48:\tlearn: 0.4058523\ttotal: 606ms\tremaining: 11.8s\n",
      "49:\tlearn: 0.4057861\ttotal: 622ms\tremaining: 11.8s\n",
      "50:\tlearn: 0.4057287\ttotal: 633ms\tremaining: 11.8s\n",
      "51:\tlearn: 0.4056783\ttotal: 643ms\tremaining: 11.7s\n",
      "52:\tlearn: 0.4056343\ttotal: 652ms\tremaining: 11.6s\n",
      "53:\tlearn: 0.4055955\ttotal: 663ms\tremaining: 11.6s\n",
      "54:\tlearn: 0.4055722\ttotal: 665ms\tremaining: 11.4s\n",
      "55:\tlearn: 0.4055527\ttotal: 667ms\tremaining: 11.2s\n",
      "56:\tlearn: 0.4055361\ttotal: 671ms\tremaining: 11.1s\n",
      "57:\tlearn: 0.4055223\ttotal: 673ms\tremaining: 10.9s\n",
      "58:\tlearn: 0.4055106\ttotal: 675ms\tremaining: 10.8s\n",
      "59:\tlearn: 0.4055006\ttotal: 679ms\tremaining: 10.6s\n",
      "60:\tlearn: 0.4054924\ttotal: 681ms\tremaining: 10.5s\n",
      "61:\tlearn: 0.4054856\ttotal: 683ms\tremaining: 10.3s\n",
      "62:\tlearn: 0.4054677\ttotal: 691ms\tremaining: 10.3s\n",
      "63:\tlearn: 0.4054627\ttotal: 693ms\tremaining: 10.1s\n",
      "64:\tlearn: 0.4054470\ttotal: 704ms\tremaining: 10.1s\n",
      "65:\tlearn: 0.4054344\ttotal: 708ms\tremaining: 10s\n",
      "66:\tlearn: 0.4054314\ttotal: 711ms\tremaining: 9.9s\n",
      "67:\tlearn: 0.4054290\ttotal: 713ms\tremaining: 9.77s\n",
      "68:\tlearn: 0.4054159\ttotal: 721ms\tremaining: 9.72s\n",
      "69:\tlearn: 0.4054140\ttotal: 723ms\tremaining: 9.61s\n",
      "70:\tlearn: 0.4054125\ttotal: 725ms\tremaining: 9.49s\n",
      "71:\tlearn: 0.4054113\ttotal: 727ms\tremaining: 9.38s\n",
      "72:\tlearn: 0.4054040\ttotal: 731ms\tremaining: 9.29s\n",
      "73:\tlearn: 0.4054031\ttotal: 735ms\tremaining: 9.2s\n",
      "74:\tlearn: 0.4054023\ttotal: 738ms\tremaining: 9.1s\n",
      "75:\tlearn: 0.4054017\ttotal: 740ms\tremaining: 9s\n",
      "76:\tlearn: 0.4053941\ttotal: 744ms\tremaining: 8.91s\n",
      "77:\tlearn: 0.4053883\ttotal: 747ms\tremaining: 8.83s\n",
      "78:\tlearn: 0.4053828\ttotal: 752ms\tremaining: 8.77s\n",
      "79:\tlearn: 0.4053826\ttotal: 754ms\tremaining: 8.67s\n",
      "80:\tlearn: 0.4053724\ttotal: 762ms\tremaining: 8.65s\n",
      "81:\tlearn: 0.4053649\ttotal: 768ms\tremaining: 8.6s\n",
      "82:\tlearn: 0.4053642\ttotal: 772ms\tremaining: 8.53s\n",
      "83:\tlearn: 0.4053637\ttotal: 775ms\tremaining: 8.46s\n",
      "84:\tlearn: 0.4053544\ttotal: 785ms\tremaining: 8.45s\n",
      "85:\tlearn: 0.4053542\ttotal: 787ms\tremaining: 8.37s\n",
      "86:\tlearn: 0.4053458\ttotal: 791ms\tremaining: 8.3s\n",
      "87:\tlearn: 0.4053372\ttotal: 801ms\tremaining: 8.3s\n",
      "88:\tlearn: 0.4053288\ttotal: 809ms\tremaining: 8.28s\n",
      "89:\tlearn: 0.4053209\ttotal: 819ms\tremaining: 8.28s\n",
      "90:\tlearn: 0.4053206\ttotal: 822ms\tremaining: 8.21s\n",
      "91:\tlearn: 0.4053205\ttotal: 824ms\tremaining: 8.13s\n",
      "92:\tlearn: 0.4053147\ttotal: 828ms\tremaining: 8.08s\n",
      "93:\tlearn: 0.4053092\ttotal: 849ms\tremaining: 8.19s\n",
      "94:\tlearn: 0.4053019\ttotal: 857ms\tremaining: 8.16s\n",
      "95:\tlearn: 0.4052949\ttotal: 867ms\tremaining: 8.16s\n",
      "96:\tlearn: 0.4052883\ttotal: 874ms\tremaining: 8.14s\n",
      "97:\tlearn: 0.4052819\ttotal: 884ms\tremaining: 8.14s\n",
      "98:\tlearn: 0.4052756\ttotal: 893ms\tremaining: 8.12s\n",
      "99:\tlearn: 0.4052756\ttotal: 895ms\tremaining: 8.05s\n",
      "100:\tlearn: 0.4052696\ttotal: 915ms\tremaining: 8.14s\n",
      "101:\tlearn: 0.4052637\ttotal: 925ms\tremaining: 8.14s\n",
      "102:\tlearn: 0.4052581\ttotal: 936ms\tremaining: 8.15s\n",
      "103:\tlearn: 0.4052543\ttotal: 940ms\tremaining: 8.1s\n",
      "104:\tlearn: 0.4052490\ttotal: 950ms\tremaining: 8.1s\n",
      "105:\tlearn: 0.4052439\ttotal: 958ms\tremaining: 8.08s\n",
      "106:\tlearn: 0.4052389\ttotal: 967ms\tremaining: 8.07s\n",
      "107:\tlearn: 0.4052341\ttotal: 975ms\tremaining: 8.05s\n",
      "108:\tlearn: 0.4052295\ttotal: 984ms\tremaining: 8.04s\n",
      "109:\tlearn: 0.4052250\ttotal: 992ms\tremaining: 8.03s\n",
      "110:\tlearn: 0.4052207\ttotal: 1s\tremaining: 8.02s\n",
      "111:\tlearn: 0.4052165\ttotal: 1.01s\tremaining: 8.01s\n",
      "112:\tlearn: 0.4052123\ttotal: 1.03s\tremaining: 8.1s\n",
      "113:\tlearn: 0.4052084\ttotal: 1.04s\tremaining: 8.08s\n",
      "114:\tlearn: 0.4052045\ttotal: 1.05s\tremaining: 8.07s\n",
      "115:\tlearn: 0.4052008\ttotal: 1.06s\tremaining: 8.05s\n",
      "116:\tlearn: 0.4051971\ttotal: 1.07s\tremaining: 8.05s\n",
      "117:\tlearn: 0.4051936\ttotal: 1.07s\tremaining: 8.03s\n",
      "118:\tlearn: 0.4051901\ttotal: 1.09s\tremaining: 8.07s\n",
      "119:\tlearn: 0.4051868\ttotal: 1.1s\tremaining: 8.07s\n",
      "120:\tlearn: 0.4051836\ttotal: 1.11s\tremaining: 8.08s\n",
      "121:\tlearn: 0.4051804\ttotal: 1.12s\tremaining: 8.06s\n",
      "122:\tlearn: 0.4051773\ttotal: 1.13s\tremaining: 8.05s\n",
      "123:\tlearn: 0.4051752\ttotal: 1.14s\tremaining: 8.03s\n",
      "124:\tlearn: 0.4051722\ttotal: 1.15s\tremaining: 8.03s\n",
      "125:\tlearn: 0.4051693\ttotal: 1.15s\tremaining: 8.01s\n",
      "126:\tlearn: 0.4051665\ttotal: 1.16s\tremaining: 8s\n",
      "127:\tlearn: 0.4051638\ttotal: 1.17s\tremaining: 7.98s\n",
      "128:\tlearn: 0.4051611\ttotal: 1.18s\tremaining: 7.98s\n",
      "129:\tlearn: 0.4051586\ttotal: 1.19s\tremaining: 7.96s\n",
      "130:\tlearn: 0.4051561\ttotal: 1.2s\tremaining: 7.95s\n",
      "131:\tlearn: 0.4051535\ttotal: 1.21s\tremaining: 7.94s\n",
      "132:\tlearn: 0.4051512\ttotal: 1.22s\tremaining: 7.93s\n",
      "133:\tlearn: 0.4051489\ttotal: 1.22s\tremaining: 7.92s\n",
      "134:\tlearn: 0.4051465\ttotal: 1.23s\tremaining: 7.9s\n",
      "135:\tlearn: 0.4051443\ttotal: 1.24s\tremaining: 7.88s\n",
      "136:\tlearn: 0.4051421\ttotal: 1.25s\tremaining: 7.86s\n",
      "137:\tlearn: 0.4051399\ttotal: 1.25s\tremaining: 7.84s\n",
      "138:\tlearn: 0.4051379\ttotal: 1.26s\tremaining: 7.83s\n",
      "139:\tlearn: 0.4051359\ttotal: 1.27s\tremaining: 7.81s\n",
      "140:\tlearn: 0.4051338\ttotal: 1.28s\tremaining: 7.79s\n",
      "141:\tlearn: 0.4051319\ttotal: 1.29s\tremaining: 7.77s\n",
      "142:\tlearn: 0.4051300\ttotal: 1.29s\tremaining: 7.76s\n",
      "143:\tlearn: 0.4051282\ttotal: 1.3s\tremaining: 7.74s\n",
      "144:\tlearn: 0.4051264\ttotal: 1.31s\tremaining: 7.72s\n",
      "145:\tlearn: 0.4051246\ttotal: 1.33s\tremaining: 7.76s\n",
      "146:\tlearn: 0.4051228\ttotal: 1.33s\tremaining: 7.75s\n",
      "147:\tlearn: 0.4051211\ttotal: 1.34s\tremaining: 7.72s\n",
      "148:\tlearn: 0.4051193\ttotal: 1.35s\tremaining: 7.71s\n",
      "149:\tlearn: 0.4051178\ttotal: 1.36s\tremaining: 7.69s\n",
      "150:\tlearn: 0.4051161\ttotal: 1.36s\tremaining: 7.67s\n",
      "151:\tlearn: 0.4051145\ttotal: 1.37s\tremaining: 7.65s\n",
      "152:\tlearn: 0.4051130\ttotal: 1.39s\tremaining: 7.67s\n",
      "153:\tlearn: 0.4051114\ttotal: 1.39s\tremaining: 7.66s\n",
      "154:\tlearn: 0.4051100\ttotal: 1.4s\tremaining: 7.66s\n",
      "155:\tlearn: 0.4051086\ttotal: 1.41s\tremaining: 7.64s\n",
      "156:\tlearn: 0.4051072\ttotal: 1.42s\tremaining: 7.63s\n",
      "157:\tlearn: 0.4051057\ttotal: 1.43s\tremaining: 7.61s\n",
      "158:\tlearn: 0.4051043\ttotal: 1.44s\tremaining: 7.59s\n",
      "159:\tlearn: 0.4051029\ttotal: 1.44s\tremaining: 7.58s\n",
      "160:\tlearn: 0.4051017\ttotal: 1.45s\tremaining: 7.56s\n",
      "161:\tlearn: 0.4051004\ttotal: 1.46s\tremaining: 7.55s\n"
     ]
    },
    {
     "name": "stdout",
     "output_type": "stream",
     "text": [
      "162:\tlearn: 0.4050991\ttotal: 1.47s\tremaining: 7.54s\n",
      "163:\tlearn: 0.4050978\ttotal: 1.48s\tremaining: 7.53s\n",
      "164:\tlearn: 0.4050966\ttotal: 1.48s\tremaining: 7.51s\n",
      "165:\tlearn: 0.4050954\ttotal: 1.5s\tremaining: 7.55s\n",
      "166:\tlearn: 0.4050942\ttotal: 1.51s\tremaining: 7.53s\n",
      "167:\tlearn: 0.4050930\ttotal: 1.52s\tremaining: 7.52s\n",
      "168:\tlearn: 0.4050919\ttotal: 1.52s\tremaining: 7.5s\n",
      "169:\tlearn: 0.4050907\ttotal: 1.53s\tremaining: 7.48s\n",
      "170:\tlearn: 0.4050897\ttotal: 1.54s\tremaining: 7.47s\n",
      "171:\tlearn: 0.4050886\ttotal: 1.55s\tremaining: 7.46s\n",
      "172:\tlearn: 0.4050875\ttotal: 1.56s\tremaining: 7.48s\n",
      "173:\tlearn: 0.4050864\ttotal: 1.57s\tremaining: 7.47s\n",
      "174:\tlearn: 0.4050853\ttotal: 1.58s\tremaining: 7.46s\n",
      "175:\tlearn: 0.4050843\ttotal: 1.59s\tremaining: 7.45s\n",
      "176:\tlearn: 0.4050833\ttotal: 1.6s\tremaining: 7.44s\n",
      "177:\tlearn: 0.4050823\ttotal: 1.61s\tremaining: 7.43s\n",
      "178:\tlearn: 0.4050814\ttotal: 1.62s\tremaining: 7.42s\n",
      "179:\tlearn: 0.4050804\ttotal: 1.63s\tremaining: 7.41s\n",
      "180:\tlearn: 0.4050795\ttotal: 1.63s\tremaining: 7.39s\n",
      "181:\tlearn: 0.4050785\ttotal: 1.64s\tremaining: 7.38s\n",
      "182:\tlearn: 0.4050776\ttotal: 1.65s\tremaining: 7.37s\n",
      "183:\tlearn: 0.4050767\ttotal: 1.66s\tremaining: 7.36s\n",
      "184:\tlearn: 0.4050758\ttotal: 1.67s\tremaining: 7.35s\n",
      "185:\tlearn: 0.4050750\ttotal: 1.68s\tremaining: 7.34s\n",
      "186:\tlearn: 0.4050741\ttotal: 1.69s\tremaining: 7.33s\n",
      "187:\tlearn: 0.4050733\ttotal: 1.69s\tremaining: 7.31s\n",
      "188:\tlearn: 0.4050725\ttotal: 1.7s\tremaining: 7.31s\n",
      "189:\tlearn: 0.4050716\ttotal: 1.71s\tremaining: 7.3s\n",
      "190:\tlearn: 0.4050708\ttotal: 1.72s\tremaining: 7.29s\n",
      "191:\tlearn: 0.4050700\ttotal: 1.73s\tremaining: 7.27s\n",
      "192:\tlearn: 0.4050692\ttotal: 1.74s\tremaining: 7.26s\n",
      "193:\tlearn: 0.4050684\ttotal: 1.74s\tremaining: 7.24s\n",
      "194:\tlearn: 0.4050677\ttotal: 1.75s\tremaining: 7.23s\n",
      "195:\tlearn: 0.4050670\ttotal: 1.76s\tremaining: 7.22s\n",
      "196:\tlearn: 0.4050662\ttotal: 1.77s\tremaining: 7.21s\n",
      "197:\tlearn: 0.4050654\ttotal: 1.79s\tremaining: 7.24s\n",
      "198:\tlearn: 0.4050647\ttotal: 1.79s\tremaining: 7.23s\n",
      "199:\tlearn: 0.4050641\ttotal: 1.8s\tremaining: 7.22s\n",
      "200:\tlearn: 0.4050634\ttotal: 1.81s\tremaining: 7.2s\n",
      "201:\tlearn: 0.4050627\ttotal: 1.82s\tremaining: 7.19s\n",
      "202:\tlearn: 0.4050619\ttotal: 1.83s\tremaining: 7.18s\n",
      "203:\tlearn: 0.4050613\ttotal: 1.84s\tremaining: 7.2s\n",
      "204:\tlearn: 0.4050606\ttotal: 1.85s\tremaining: 7.19s\n",
      "205:\tlearn: 0.4050600\ttotal: 1.86s\tremaining: 7.18s\n",
      "206:\tlearn: 0.4050593\ttotal: 1.87s\tremaining: 7.17s\n",
      "207:\tlearn: 0.4050587\ttotal: 1.88s\tremaining: 7.16s\n",
      "208:\tlearn: 0.4050581\ttotal: 1.89s\tremaining: 7.14s\n",
      "209:\tlearn: 0.4050574\ttotal: 1.9s\tremaining: 7.13s\n",
      "210:\tlearn: 0.4050568\ttotal: 1.9s\tremaining: 7.12s\n",
      "211:\tlearn: 0.4050562\ttotal: 1.91s\tremaining: 7.11s\n",
      "212:\tlearn: 0.4050557\ttotal: 1.92s\tremaining: 7.1s\n",
      "213:\tlearn: 0.4050550\ttotal: 1.93s\tremaining: 7.09s\n",
      "214:\tlearn: 0.4050545\ttotal: 1.94s\tremaining: 7.08s\n",
      "215:\tlearn: 0.4050539\ttotal: 1.96s\tremaining: 7.11s\n",
      "216:\tlearn: 0.4050533\ttotal: 1.97s\tremaining: 7.1s\n",
      "217:\tlearn: 0.4050528\ttotal: 1.97s\tremaining: 7.08s\n",
      "218:\tlearn: 0.4050522\ttotal: 1.98s\tremaining: 7.07s\n",
      "219:\tlearn: 0.4050516\ttotal: 1.99s\tremaining: 7.06s\n",
      "220:\tlearn: 0.4050512\ttotal: 2s\tremaining: 7.05s\n",
      "221:\tlearn: 0.4050506\ttotal: 2.01s\tremaining: 7.03s\n",
      "222:\tlearn: 0.4050501\ttotal: 2.02s\tremaining: 7.02s\n",
      "223:\tlearn: 0.4050496\ttotal: 2.02s\tremaining: 7.01s\n",
      "224:\tlearn: 0.4050490\ttotal: 2.03s\tremaining: 7s\n",
      "225:\tlearn: 0.4050485\ttotal: 2.04s\tremaining: 6.98s\n",
      "226:\tlearn: 0.4050480\ttotal: 2.05s\tremaining: 6.97s\n",
      "227:\tlearn: 0.4050475\ttotal: 2.06s\tremaining: 6.96s\n",
      "228:\tlearn: 0.4050471\ttotal: 2.06s\tremaining: 6.95s\n",
      "229:\tlearn: 0.4050466\ttotal: 2.07s\tremaining: 6.94s\n",
      "230:\tlearn: 0.4050462\ttotal: 2.08s\tremaining: 6.93s\n",
      "231:\tlearn: 0.4050457\ttotal: 2.09s\tremaining: 6.91s\n",
      "232:\tlearn: 0.4050452\ttotal: 2.1s\tremaining: 6.9s\n",
      "233:\tlearn: 0.4050447\ttotal: 2.1s\tremaining: 6.89s\n",
      "234:\tlearn: 0.4050443\ttotal: 2.12s\tremaining: 6.91s\n",
      "235:\tlearn: 0.4050439\ttotal: 2.13s\tremaining: 6.9s\n",
      "236:\tlearn: 0.4050434\ttotal: 2.14s\tremaining: 6.89s\n",
      "237:\tlearn: 0.4050430\ttotal: 2.15s\tremaining: 6.88s\n",
      "238:\tlearn: 0.4050425\ttotal: 2.16s\tremaining: 6.87s\n",
      "239:\tlearn: 0.4050421\ttotal: 2.17s\tremaining: 6.86s\n",
      "240:\tlearn: 0.4050416\ttotal: 2.17s\tremaining: 6.85s\n",
      "241:\tlearn: 0.4050412\ttotal: 2.18s\tremaining: 6.83s\n",
      "242:\tlearn: 0.4050408\ttotal: 2.19s\tremaining: 6.82s\n",
      "243:\tlearn: 0.4050404\ttotal: 2.2s\tremaining: 6.81s\n",
      "244:\tlearn: 0.4050399\ttotal: 2.21s\tremaining: 6.8s\n",
      "245:\tlearn: 0.4050396\ttotal: 2.21s\tremaining: 6.79s\n",
      "246:\tlearn: 0.4050392\ttotal: 2.22s\tremaining: 6.78s\n",
      "247:\tlearn: 0.4050388\ttotal: 2.24s\tremaining: 6.8s\n",
      "248:\tlearn: 0.4050383\ttotal: 2.25s\tremaining: 6.79s\n",
      "249:\tlearn: 0.4050380\ttotal: 2.26s\tremaining: 6.78s\n",
      "250:\tlearn: 0.4050376\ttotal: 2.27s\tremaining: 6.77s\n",
      "251:\tlearn: 0.4050372\ttotal: 2.28s\tremaining: 6.76s\n",
      "252:\tlearn: 0.4050369\ttotal: 2.28s\tremaining: 6.74s\n",
      "253:\tlearn: 0.4050365\ttotal: 2.3s\tremaining: 6.76s\n",
      "254:\tlearn: 0.4050361\ttotal: 2.31s\tremaining: 6.75s\n",
      "255:\tlearn: 0.4050358\ttotal: 2.32s\tremaining: 6.74s\n",
      "256:\tlearn: 0.4050354\ttotal: 2.33s\tremaining: 6.73s\n",
      "257:\tlearn: 0.4050351\ttotal: 2.34s\tremaining: 6.72s\n",
      "258:\tlearn: 0.4050347\ttotal: 2.35s\tremaining: 6.71s\n",
      "259:\tlearn: 0.4050343\ttotal: 2.35s\tremaining: 6.7s\n",
      "260:\tlearn: 0.4050339\ttotal: 2.36s\tremaining: 6.69s\n",
      "261:\tlearn: 0.4050336\ttotal: 2.37s\tremaining: 6.68s\n",
      "262:\tlearn: 0.4050332\ttotal: 2.38s\tremaining: 6.67s\n",
      "263:\tlearn: 0.4050330\ttotal: 2.39s\tremaining: 6.65s\n",
      "264:\tlearn: 0.4050326\ttotal: 2.4s\tremaining: 6.64s\n",
      "265:\tlearn: 0.4050323\ttotal: 2.4s\tremaining: 6.63s\n",
      "266:\tlearn: 0.4050319\ttotal: 2.41s\tremaining: 6.63s\n",
      "267:\tlearn: 0.4050317\ttotal: 2.42s\tremaining: 6.62s\n",
      "268:\tlearn: 0.4050313\ttotal: 2.43s\tremaining: 6.61s\n",
      "269:\tlearn: 0.4050310\ttotal: 2.44s\tremaining: 6.6s\n",
      "270:\tlearn: 0.4050307\ttotal: 2.45s\tremaining: 6.59s\n",
      "271:\tlearn: 0.4050304\ttotal: 2.46s\tremaining: 6.58s\n",
      "272:\tlearn: 0.4050300\ttotal: 2.47s\tremaining: 6.57s\n",
      "273:\tlearn: 0.4050297\ttotal: 2.48s\tremaining: 6.57s\n",
      "274:\tlearn: 0.4050294\ttotal: 2.49s\tremaining: 6.56s\n",
      "275:\tlearn: 0.4050291\ttotal: 2.5s\tremaining: 6.55s\n",
      "276:\tlearn: 0.4050288\ttotal: 2.51s\tremaining: 6.54s\n",
      "277:\tlearn: 0.4050285\ttotal: 2.51s\tremaining: 6.53s\n",
      "278:\tlearn: 0.4050282\ttotal: 2.52s\tremaining: 6.52s\n",
      "279:\tlearn: 0.4050279\ttotal: 2.54s\tremaining: 6.54s\n",
      "280:\tlearn: 0.4050277\ttotal: 2.55s\tremaining: 6.54s\n",
      "281:\tlearn: 0.4050274\ttotal: 2.56s\tremaining: 6.52s\n",
      "282:\tlearn: 0.4050271\ttotal: 2.57s\tremaining: 6.51s\n",
      "283:\tlearn: 0.4050268\ttotal: 2.58s\tremaining: 6.5s\n",
      "284:\tlearn: 0.4050265\ttotal: 2.59s\tremaining: 6.49s\n",
      "285:\tlearn: 0.4050263\ttotal: 2.61s\tremaining: 6.51s\n",
      "286:\tlearn: 0.4050260\ttotal: 2.62s\tremaining: 6.5s\n",
      "287:\tlearn: 0.4050257\ttotal: 2.63s\tremaining: 6.49s\n",
      "288:\tlearn: 0.4050255\ttotal: 2.64s\tremaining: 6.49s\n",
      "289:\tlearn: 0.4050252\ttotal: 2.64s\tremaining: 6.47s\n",
      "290:\tlearn: 0.4050249\ttotal: 2.65s\tremaining: 6.47s\n",
      "291:\tlearn: 0.4050247\ttotal: 2.66s\tremaining: 6.45s\n",
      "292:\tlearn: 0.4050244\ttotal: 2.67s\tremaining: 6.45s\n",
      "293:\tlearn: 0.4050242\ttotal: 2.68s\tremaining: 6.43s\n",
      "294:\tlearn: 0.4050239\ttotal: 2.69s\tremaining: 6.42s\n",
      "295:\tlearn: 0.4050236\ttotal: 2.69s\tremaining: 6.41s\n",
      "296:\tlearn: 0.4050234\ttotal: 2.7s\tremaining: 6.4s\n",
      "297:\tlearn: 0.4050231\ttotal: 2.71s\tremaining: 6.39s\n",
      "298:\tlearn: 0.4050229\ttotal: 2.73s\tremaining: 6.41s\n",
      "299:\tlearn: 0.4050227\ttotal: 2.74s\tremaining: 6.39s\n",
      "300:\tlearn: 0.4050224\ttotal: 2.75s\tremaining: 6.38s\n",
      "301:\tlearn: 0.4050222\ttotal: 2.76s\tremaining: 6.37s\n",
      "302:\tlearn: 0.4050220\ttotal: 2.77s\tremaining: 6.36s\n",
      "303:\tlearn: 0.4050217\ttotal: 2.77s\tremaining: 6.35s\n",
      "304:\tlearn: 0.4050215\ttotal: 2.78s\tremaining: 6.34s\n",
      "305:\tlearn: 0.4050213\ttotal: 2.8s\tremaining: 6.34s\n",
      "306:\tlearn: 0.4050210\ttotal: 2.81s\tremaining: 6.33s\n",
      "307:\tlearn: 0.4050209\ttotal: 2.82s\tremaining: 6.33s\n",
      "308:\tlearn: 0.4050206\ttotal: 2.82s\tremaining: 6.32s\n",
      "309:\tlearn: 0.4050203\ttotal: 2.83s\tremaining: 6.31s\n",
      "310:\tlearn: 0.4050201\ttotal: 2.84s\tremaining: 6.29s\n",
      "311:\tlearn: 0.4050200\ttotal: 2.85s\tremaining: 6.28s\n",
      "312:\tlearn: 0.4050197\ttotal: 2.86s\tremaining: 6.27s\n",
      "313:\tlearn: 0.4050195\ttotal: 2.87s\tremaining: 6.26s\n",
      "314:\tlearn: 0.4050193\ttotal: 2.88s\tremaining: 6.25s\n",
      "315:\tlearn: 0.4050191\ttotal: 2.88s\tremaining: 6.24s\n",
      "316:\tlearn: 0.4050188\ttotal: 2.89s\tremaining: 6.23s\n",
      "317:\tlearn: 0.4050186\ttotal: 2.9s\tremaining: 6.22s\n",
      "318:\tlearn: 0.4050185\ttotal: 2.91s\tremaining: 6.21s\n",
      "319:\tlearn: 0.4050182\ttotal: 2.92s\tremaining: 6.2s\n",
      "320:\tlearn: 0.4050181\ttotal: 2.92s\tremaining: 6.19s\n",
      "321:\tlearn: 0.4050178\ttotal: 2.93s\tremaining: 6.18s\n",
      "322:\tlearn: 0.4050176\ttotal: 2.94s\tremaining: 6.17s\n",
      "323:\tlearn: 0.4050174\ttotal: 2.95s\tremaining: 6.16s\n",
      "324:\tlearn: 0.4050172\ttotal: 2.96s\tremaining: 6.14s\n",
      "325:\tlearn: 0.4050170\ttotal: 2.97s\tremaining: 6.13s\n",
      "326:\tlearn: 0.4050168\ttotal: 2.97s\tremaining: 6.12s\n",
      "327:\tlearn: 0.4050166\ttotal: 2.98s\tremaining: 6.11s\n",
      "328:\tlearn: 0.4050164\ttotal: 2.99s\tremaining: 6.1s\n",
      "329:\tlearn: 0.4050162\ttotal: 3s\tremaining: 6.09s\n",
      "330:\tlearn: 0.4050161\ttotal: 3.01s\tremaining: 6.08s\n",
      "331:\tlearn: 0.4050159\ttotal: 3.03s\tremaining: 6.09s\n",
      "332:\tlearn: 0.4050157\ttotal: 3.04s\tremaining: 6.08s\n",
      "333:\tlearn: 0.4050155\ttotal: 3.04s\tremaining: 6.07s\n",
      "334:\tlearn: 0.4050153\ttotal: 3.05s\tremaining: 6.06s\n",
      "335:\tlearn: 0.4050152\ttotal: 3.06s\tremaining: 6.05s\n",
      "336:\tlearn: 0.4050149\ttotal: 3.07s\tremaining: 6.04s\n",
      "337:\tlearn: 0.4050147\ttotal: 3.09s\tremaining: 6.04s\n",
      "338:\tlearn: 0.4050146\ttotal: 3.1s\tremaining: 6.04s\n"
     ]
    },
    {
     "name": "stdout",
     "output_type": "stream",
     "text": [
      "339:\tlearn: 0.4050144\ttotal: 3.1s\tremaining: 6.03s\n",
      "340:\tlearn: 0.4050142\ttotal: 3.11s\tremaining: 6.02s\n",
      "341:\tlearn: 0.4050141\ttotal: 3.12s\tremaining: 6.01s\n",
      "342:\tlearn: 0.4050139\ttotal: 3.13s\tremaining: 6s\n",
      "343:\tlearn: 0.4050137\ttotal: 3.14s\tremaining: 5.98s\n",
      "344:\tlearn: 0.4050135\ttotal: 3.15s\tremaining: 5.98s\n",
      "345:\tlearn: 0.4050134\ttotal: 3.15s\tremaining: 5.96s\n",
      "346:\tlearn: 0.4050132\ttotal: 3.16s\tremaining: 5.96s\n",
      "347:\tlearn: 0.4050130\ttotal: 3.17s\tremaining: 5.94s\n",
      "348:\tlearn: 0.4050128\ttotal: 3.18s\tremaining: 5.93s\n",
      "349:\tlearn: 0.4050127\ttotal: 3.19s\tremaining: 5.92s\n",
      "350:\tlearn: 0.4050125\ttotal: 3.21s\tremaining: 5.93s\n",
      "351:\tlearn: 0.4050124\ttotal: 3.21s\tremaining: 5.92s\n",
      "352:\tlearn: 0.4050122\ttotal: 3.22s\tremaining: 5.9s\n",
      "353:\tlearn: 0.4050120\ttotal: 3.23s\tremaining: 5.89s\n",
      "354:\tlearn: 0.4050118\ttotal: 3.23s\tremaining: 5.88s\n",
      "355:\tlearn: 0.4050117\ttotal: 3.24s\tremaining: 5.87s\n",
      "356:\tlearn: 0.4050116\ttotal: 3.25s\tremaining: 5.86s\n",
      "357:\tlearn: 0.4050114\ttotal: 3.27s\tremaining: 5.86s\n",
      "358:\tlearn: 0.4050112\ttotal: 3.27s\tremaining: 5.84s\n",
      "359:\tlearn: 0.4050111\ttotal: 3.28s\tremaining: 5.83s\n",
      "360:\tlearn: 0.4050109\ttotal: 3.29s\tremaining: 5.82s\n",
      "361:\tlearn: 0.4050108\ttotal: 3.3s\tremaining: 5.81s\n",
      "362:\tlearn: 0.4050106\ttotal: 3.31s\tremaining: 5.8s\n",
      "363:\tlearn: 0.4050105\ttotal: 3.31s\tremaining: 5.79s\n",
      "364:\tlearn: 0.4050103\ttotal: 3.32s\tremaining: 5.78s\n",
      "365:\tlearn: 0.4050102\ttotal: 3.33s\tremaining: 5.76s\n",
      "366:\tlearn: 0.4050101\ttotal: 3.33s\tremaining: 5.75s\n",
      "367:\tlearn: 0.4050099\ttotal: 3.34s\tremaining: 5.74s\n",
      "368:\tlearn: 0.4050097\ttotal: 3.35s\tremaining: 5.73s\n",
      "369:\tlearn: 0.4050095\ttotal: 3.36s\tremaining: 5.71s\n",
      "370:\tlearn: 0.4050094\ttotal: 3.36s\tremaining: 5.7s\n",
      "371:\tlearn: 0.4050093\ttotal: 3.37s\tremaining: 5.69s\n",
      "372:\tlearn: 0.4050092\ttotal: 3.38s\tremaining: 5.68s\n",
      "373:\tlearn: 0.4050090\ttotal: 3.39s\tremaining: 5.67s\n",
      "374:\tlearn: 0.4050089\ttotal: 3.39s\tremaining: 5.66s\n",
      "375:\tlearn: 0.4050087\ttotal: 3.4s\tremaining: 5.65s\n",
      "376:\tlearn: 0.4050086\ttotal: 3.41s\tremaining: 5.63s\n",
      "377:\tlearn: 0.4050085\ttotal: 3.42s\tremaining: 5.62s\n",
      "378:\tlearn: 0.4050084\ttotal: 3.42s\tremaining: 5.61s\n",
      "379:\tlearn: 0.4050082\ttotal: 3.43s\tremaining: 5.6s\n",
      "380:\tlearn: 0.4050080\ttotal: 3.44s\tremaining: 5.59s\n",
      "381:\tlearn: 0.4050080\ttotal: 3.45s\tremaining: 5.58s\n",
      "382:\tlearn: 0.4050078\ttotal: 3.46s\tremaining: 5.57s\n",
      "383:\tlearn: 0.4050076\ttotal: 3.46s\tremaining: 5.56s\n",
      "384:\tlearn: 0.4050075\ttotal: 3.47s\tremaining: 5.55s\n",
      "385:\tlearn: 0.4050074\ttotal: 3.49s\tremaining: 5.56s\n",
      "386:\tlearn: 0.4050073\ttotal: 3.5s\tremaining: 5.55s\n",
      "387:\tlearn: 0.4050072\ttotal: 3.51s\tremaining: 5.54s\n",
      "388:\tlearn: 0.4050070\ttotal: 3.52s\tremaining: 5.53s\n",
      "389:\tlearn: 0.4050069\ttotal: 3.52s\tremaining: 5.51s\n",
      "390:\tlearn: 0.4050067\ttotal: 3.53s\tremaining: 5.5s\n",
      "391:\tlearn: 0.4050067\ttotal: 3.55s\tremaining: 5.5s\n",
      "392:\tlearn: 0.4050065\ttotal: 3.56s\tremaining: 5.49s\n",
      "393:\tlearn: 0.4050064\ttotal: 3.56s\tremaining: 5.48s\n",
      "394:\tlearn: 0.4050062\ttotal: 3.57s\tremaining: 5.47s\n",
      "395:\tlearn: 0.4050061\ttotal: 3.58s\tremaining: 5.47s\n",
      "396:\tlearn: 0.4050060\ttotal: 3.59s\tremaining: 5.46s\n",
      "397:\tlearn: 0.4050059\ttotal: 3.6s\tremaining: 5.45s\n",
      "398:\tlearn: 0.4050058\ttotal: 3.61s\tremaining: 5.43s\n",
      "399:\tlearn: 0.4050057\ttotal: 3.62s\tremaining: 5.42s\n",
      "400:\tlearn: 0.4050055\ttotal: 3.62s\tremaining: 5.41s\n",
      "401:\tlearn: 0.4050054\ttotal: 3.63s\tremaining: 5.41s\n",
      "402:\tlearn: 0.4050053\ttotal: 3.64s\tremaining: 5.39s\n",
      "403:\tlearn: 0.4050051\ttotal: 3.65s\tremaining: 5.38s\n",
      "404:\tlearn: 0.4050050\ttotal: 3.66s\tremaining: 5.37s\n",
      "405:\tlearn: 0.4050050\ttotal: 3.67s\tremaining: 5.37s\n",
      "406:\tlearn: 0.4050048\ttotal: 3.68s\tremaining: 5.36s\n",
      "407:\tlearn: 0.4050047\ttotal: 3.69s\tremaining: 5.35s\n",
      "408:\tlearn: 0.4050046\ttotal: 3.69s\tremaining: 5.33s\n",
      "409:\tlearn: 0.4050045\ttotal: 3.7s\tremaining: 5.33s\n",
      "410:\tlearn: 0.4050044\ttotal: 3.71s\tremaining: 5.32s\n",
      "411:\tlearn: 0.4050043\ttotal: 3.72s\tremaining: 5.31s\n",
      "412:\tlearn: 0.4050042\ttotal: 3.73s\tremaining: 5.29s\n",
      "413:\tlearn: 0.4050040\ttotal: 3.73s\tremaining: 5.29s\n",
      "414:\tlearn: 0.4050039\ttotal: 3.74s\tremaining: 5.27s\n",
      "415:\tlearn: 0.4050038\ttotal: 3.75s\tremaining: 5.26s\n",
      "416:\tlearn: 0.4050038\ttotal: 3.76s\tremaining: 5.25s\n",
      "417:\tlearn: 0.4050036\ttotal: 3.77s\tremaining: 5.24s\n",
      "418:\tlearn: 0.4050035\ttotal: 3.77s\tremaining: 5.23s\n",
      "419:\tlearn: 0.4050034\ttotal: 3.8s\tremaining: 5.25s\n",
      "420:\tlearn: 0.4050033\ttotal: 3.81s\tremaining: 5.23s\n",
      "421:\tlearn: 0.4050032\ttotal: 3.81s\tremaining: 5.22s\n",
      "422:\tlearn: 0.4050031\ttotal: 3.82s\tremaining: 5.21s\n",
      "423:\tlearn: 0.4050029\ttotal: 3.83s\tremaining: 5.2s\n",
      "424:\tlearn: 0.4050029\ttotal: 3.84s\tremaining: 5.19s\n",
      "425:\tlearn: 0.4050028\ttotal: 3.85s\tremaining: 5.2s\n",
      "426:\tlearn: 0.4050026\ttotal: 3.87s\tremaining: 5.19s\n",
      "427:\tlearn: 0.4050025\ttotal: 3.87s\tremaining: 5.18s\n",
      "428:\tlearn: 0.4050025\ttotal: 3.88s\tremaining: 5.17s\n",
      "429:\tlearn: 0.4050024\ttotal: 3.89s\tremaining: 5.16s\n",
      "430:\tlearn: 0.4050023\ttotal: 3.9s\tremaining: 5.15s\n",
      "431:\tlearn: 0.4050022\ttotal: 3.91s\tremaining: 5.14s\n",
      "432:\tlearn: 0.4050021\ttotal: 3.92s\tremaining: 5.13s\n",
      "433:\tlearn: 0.4050020\ttotal: 3.93s\tremaining: 5.12s\n",
      "434:\tlearn: 0.4050018\ttotal: 3.93s\tremaining: 5.11s\n",
      "435:\tlearn: 0.4050018\ttotal: 3.94s\tremaining: 5.1s\n",
      "436:\tlearn: 0.4050016\ttotal: 3.95s\tremaining: 5.09s\n",
      "437:\tlearn: 0.4050016\ttotal: 3.97s\tremaining: 5.1s\n",
      "438:\tlearn: 0.4050015\ttotal: 3.98s\tremaining: 5.09s\n",
      "439:\tlearn: 0.4050013\ttotal: 3.99s\tremaining: 5.08s\n",
      "440:\tlearn: 0.4050013\ttotal: 4s\tremaining: 5.07s\n",
      "441:\tlearn: 0.4050012\ttotal: 4s\tremaining: 5.06s\n",
      "442:\tlearn: 0.4050011\ttotal: 4.01s\tremaining: 5.05s\n",
      "443:\tlearn: 0.4050010\ttotal: 4.03s\tremaining: 5.05s\n",
      "444:\tlearn: 0.4050009\ttotal: 4.04s\tremaining: 5.04s\n",
      "445:\tlearn: 0.4050008\ttotal: 4.05s\tremaining: 5.03s\n",
      "446:\tlearn: 0.4050007\ttotal: 4.06s\tremaining: 5.02s\n",
      "447:\tlearn: 0.4050006\ttotal: 4.07s\tremaining: 5.01s\n",
      "448:\tlearn: 0.4050005\ttotal: 4.08s\tremaining: 5s\n",
      "449:\tlearn: 0.4050004\ttotal: 4.08s\tremaining: 4.99s\n",
      "450:\tlearn: 0.4050004\ttotal: 4.09s\tremaining: 4.98s\n",
      "451:\tlearn: 0.4050002\ttotal: 4.1s\tremaining: 4.97s\n",
      "452:\tlearn: 0.4050002\ttotal: 4.11s\tremaining: 4.96s\n",
      "453:\tlearn: 0.4050001\ttotal: 4.12s\tremaining: 4.95s\n",
      "454:\tlearn: 0.4050000\ttotal: 4.13s\tremaining: 4.94s\n",
      "455:\tlearn: 0.4049999\ttotal: 4.13s\tremaining: 4.93s\n",
      "456:\tlearn: 0.4049998\ttotal: 4.14s\tremaining: 4.92s\n",
      "457:\tlearn: 0.4049997\ttotal: 4.15s\tremaining: 4.91s\n",
      "458:\tlearn: 0.4049997\ttotal: 4.16s\tremaining: 4.9s\n",
      "459:\tlearn: 0.4049996\ttotal: 4.17s\tremaining: 4.89s\n",
      "460:\tlearn: 0.4049994\ttotal: 4.18s\tremaining: 4.88s\n",
      "461:\tlearn: 0.4049993\ttotal: 4.18s\tremaining: 4.87s\n",
      "462:\tlearn: 0.4049993\ttotal: 4.19s\tremaining: 4.87s\n",
      "463:\tlearn: 0.4049993\ttotal: 4.2s\tremaining: 4.85s\n",
      "464:\tlearn: 0.4049991\ttotal: 4.21s\tremaining: 4.84s\n",
      "465:\tlearn: 0.4049990\ttotal: 4.22s\tremaining: 4.83s\n",
      "466:\tlearn: 0.4049990\ttotal: 4.23s\tremaining: 4.82s\n",
      "467:\tlearn: 0.4049989\ttotal: 4.23s\tremaining: 4.81s\n",
      "468:\tlearn: 0.4049988\ttotal: 4.24s\tremaining: 4.8s\n",
      "469:\tlearn: 0.4049987\ttotal: 4.25s\tremaining: 4.79s\n",
      "470:\tlearn: 0.4049987\ttotal: 4.26s\tremaining: 4.78s\n",
      "471:\tlearn: 0.4049986\ttotal: 4.28s\tremaining: 4.79s\n",
      "472:\tlearn: 0.4049985\ttotal: 4.29s\tremaining: 4.78s\n",
      "473:\tlearn: 0.4049984\ttotal: 4.29s\tremaining: 4.76s\n",
      "474:\tlearn: 0.4049983\ttotal: 4.3s\tremaining: 4.75s\n",
      "475:\tlearn: 0.4049983\ttotal: 4.31s\tremaining: 4.74s\n",
      "476:\tlearn: 0.4049982\ttotal: 4.32s\tremaining: 4.73s\n",
      "477:\tlearn: 0.4049981\ttotal: 4.33s\tremaining: 4.73s\n",
      "478:\tlearn: 0.4049980\ttotal: 4.34s\tremaining: 4.72s\n",
      "479:\tlearn: 0.4049980\ttotal: 4.35s\tremaining: 4.71s\n",
      "480:\tlearn: 0.4049979\ttotal: 4.36s\tremaining: 4.7s\n",
      "481:\tlearn: 0.4049978\ttotal: 4.37s\tremaining: 4.69s\n",
      "482:\tlearn: 0.4049977\ttotal: 4.38s\tremaining: 4.68s\n",
      "483:\tlearn: 0.4049976\ttotal: 4.38s\tremaining: 4.67s\n",
      "484:\tlearn: 0.4049975\ttotal: 4.39s\tremaining: 4.66s\n",
      "485:\tlearn: 0.4049975\ttotal: 4.4s\tremaining: 4.65s\n",
      "486:\tlearn: 0.4049974\ttotal: 4.41s\tremaining: 4.64s\n",
      "487:\tlearn: 0.4049973\ttotal: 4.41s\tremaining: 4.63s\n",
      "488:\tlearn: 0.4049973\ttotal: 4.43s\tremaining: 4.63s\n",
      "489:\tlearn: 0.4049972\ttotal: 4.45s\tremaining: 4.63s\n",
      "490:\tlearn: 0.4049971\ttotal: 4.46s\tremaining: 4.62s\n",
      "491:\tlearn: 0.4049970\ttotal: 4.46s\tremaining: 4.61s\n",
      "492:\tlearn: 0.4049969\ttotal: 4.47s\tremaining: 4.6s\n",
      "493:\tlearn: 0.4049969\ttotal: 4.48s\tremaining: 4.59s\n",
      "494:\tlearn: 0.4049968\ttotal: 4.49s\tremaining: 4.58s\n",
      "495:\tlearn: 0.4049967\ttotal: 4.5s\tremaining: 4.58s\n",
      "496:\tlearn: 0.4049966\ttotal: 4.51s\tremaining: 4.57s\n",
      "497:\tlearn: 0.4049966\ttotal: 4.52s\tremaining: 4.56s\n",
      "498:\tlearn: 0.4049965\ttotal: 4.53s\tremaining: 4.55s\n"
     ]
    },
    {
     "name": "stdout",
     "output_type": "stream",
     "text": [
      "499:\tlearn: 0.4049965\ttotal: 4.54s\tremaining: 4.54s\n",
      "500:\tlearn: 0.4049964\ttotal: 4.55s\tremaining: 4.53s\n",
      "501:\tlearn: 0.4049963\ttotal: 4.56s\tremaining: 4.52s\n",
      "502:\tlearn: 0.4049963\ttotal: 4.56s\tremaining: 4.51s\n",
      "503:\tlearn: 0.4049962\ttotal: 4.57s\tremaining: 4.5s\n",
      "504:\tlearn: 0.4049961\ttotal: 4.58s\tremaining: 4.49s\n",
      "505:\tlearn: 0.4049960\ttotal: 4.59s\tremaining: 4.48s\n",
      "506:\tlearn: 0.4049960\ttotal: 4.6s\tremaining: 4.47s\n",
      "507:\tlearn: 0.4049959\ttotal: 4.61s\tremaining: 4.46s\n",
      "508:\tlearn: 0.4049958\ttotal: 4.62s\tremaining: 4.45s\n",
      "509:\tlearn: 0.4049957\ttotal: 4.62s\tremaining: 4.44s\n",
      "510:\tlearn: 0.4049957\ttotal: 4.63s\tremaining: 4.43s\n",
      "511:\tlearn: 0.4049956\ttotal: 4.64s\tremaining: 4.42s\n",
      "512:\tlearn: 0.4049956\ttotal: 4.65s\tremaining: 4.41s\n",
      "513:\tlearn: 0.4049955\ttotal: 4.66s\tremaining: 4.4s\n",
      "514:\tlearn: 0.4049954\ttotal: 4.66s\tremaining: 4.39s\n",
      "515:\tlearn: 0.4049954\ttotal: 4.67s\tremaining: 4.38s\n",
      "516:\tlearn: 0.4049953\ttotal: 4.68s\tremaining: 4.37s\n",
      "517:\tlearn: 0.4049952\ttotal: 4.69s\tremaining: 4.36s\n",
      "518:\tlearn: 0.4049951\ttotal: 4.7s\tremaining: 4.35s\n",
      "519:\tlearn: 0.4049951\ttotal: 4.7s\tremaining: 4.34s\n",
      "520:\tlearn: 0.4049950\ttotal: 4.71s\tremaining: 4.33s\n",
      "521:\tlearn: 0.4049950\ttotal: 4.72s\tremaining: 4.32s\n",
      "522:\tlearn: 0.4049949\ttotal: 4.74s\tremaining: 4.32s\n",
      "523:\tlearn: 0.4049948\ttotal: 4.75s\tremaining: 4.31s\n",
      "524:\tlearn: 0.4049948\ttotal: 4.75s\tremaining: 4.3s\n",
      "525:\tlearn: 0.4049947\ttotal: 4.76s\tremaining: 4.29s\n",
      "526:\tlearn: 0.4049947\ttotal: 4.77s\tremaining: 4.28s\n",
      "527:\tlearn: 0.4049946\ttotal: 4.78s\tremaining: 4.27s\n",
      "528:\tlearn: 0.4049945\ttotal: 4.79s\tremaining: 4.27s\n",
      "529:\tlearn: 0.4049945\ttotal: 4.8s\tremaining: 4.26s\n",
      "530:\tlearn: 0.4049944\ttotal: 4.81s\tremaining: 4.25s\n",
      "531:\tlearn: 0.4049943\ttotal: 4.82s\tremaining: 4.24s\n",
      "532:\tlearn: 0.4049943\ttotal: 4.83s\tremaining: 4.23s\n",
      "533:\tlearn: 0.4049942\ttotal: 4.84s\tremaining: 4.22s\n",
      "534:\tlearn: 0.4049941\ttotal: 4.84s\tremaining: 4.21s\n",
      "535:\tlearn: 0.4049941\ttotal: 4.85s\tremaining: 4.2s\n",
      "536:\tlearn: 0.4049941\ttotal: 4.86s\tremaining: 4.19s\n",
      "537:\tlearn: 0.4049940\ttotal: 4.87s\tremaining: 4.18s\n",
      "538:\tlearn: 0.4049940\ttotal: 4.88s\tremaining: 4.17s\n",
      "539:\tlearn: 0.4049939\ttotal: 4.88s\tremaining: 4.16s\n",
      "540:\tlearn: 0.4049938\ttotal: 4.89s\tremaining: 4.15s\n",
      "541:\tlearn: 0.4049937\ttotal: 4.91s\tremaining: 4.15s\n",
      "542:\tlearn: 0.4049937\ttotal: 4.93s\tremaining: 4.15s\n",
      "543:\tlearn: 0.4049936\ttotal: 4.94s\tremaining: 4.14s\n",
      "544:\tlearn: 0.4049936\ttotal: 4.95s\tremaining: 4.13s\n",
      "545:\tlearn: 0.4049935\ttotal: 4.96s\tremaining: 4.12s\n",
      "546:\tlearn: 0.4049935\ttotal: 4.97s\tremaining: 4.12s\n",
      "547:\tlearn: 0.4049934\ttotal: 4.98s\tremaining: 4.11s\n",
      "548:\tlearn: 0.4049933\ttotal: 4.99s\tremaining: 4.1s\n",
      "549:\tlearn: 0.4049933\ttotal: 5s\tremaining: 4.09s\n",
      "550:\tlearn: 0.4049932\ttotal: 5s\tremaining: 4.08s\n",
      "551:\tlearn: 0.4049932\ttotal: 5.01s\tremaining: 4.07s\n",
      "552:\tlearn: 0.4049931\ttotal: 5.02s\tremaining: 4.06s\n",
      "553:\tlearn: 0.4049931\ttotal: 5.03s\tremaining: 4.05s\n",
      "554:\tlearn: 0.4049930\ttotal: 5.04s\tremaining: 4.04s\n",
      "555:\tlearn: 0.4049930\ttotal: 5.04s\tremaining: 4.03s\n",
      "556:\tlearn: 0.4049929\ttotal: 5.05s\tremaining: 4.02s\n",
      "557:\tlearn: 0.4049929\ttotal: 5.06s\tremaining: 4.01s\n",
      "558:\tlearn: 0.4049928\ttotal: 5.07s\tremaining: 4s\n",
      "559:\tlearn: 0.4049927\ttotal: 5.08s\tremaining: 3.99s\n",
      "560:\tlearn: 0.4049927\ttotal: 5.08s\tremaining: 3.98s\n",
      "561:\tlearn: 0.4049926\ttotal: 5.09s\tremaining: 3.97s\n",
      "562:\tlearn: 0.4049925\ttotal: 5.11s\tremaining: 3.96s\n",
      "563:\tlearn: 0.4049925\ttotal: 5.12s\tremaining: 3.96s\n",
      "564:\tlearn: 0.4049925\ttotal: 5.13s\tremaining: 3.95s\n",
      "565:\tlearn: 0.4049924\ttotal: 5.13s\tremaining: 3.94s\n",
      "566:\tlearn: 0.4049923\ttotal: 5.14s\tremaining: 3.93s\n",
      "567:\tlearn: 0.4049923\ttotal: 5.15s\tremaining: 3.92s\n",
      "568:\tlearn: 0.4049923\ttotal: 5.16s\tremaining: 3.91s\n",
      "569:\tlearn: 0.4049922\ttotal: 5.17s\tremaining: 3.9s\n",
      "570:\tlearn: 0.4049921\ttotal: 5.17s\tremaining: 3.89s\n",
      "571:\tlearn: 0.4049921\ttotal: 5.18s\tremaining: 3.88s\n",
      "572:\tlearn: 0.4049921\ttotal: 5.19s\tremaining: 3.87s\n",
      "573:\tlearn: 0.4049920\ttotal: 5.2s\tremaining: 3.86s\n",
      "574:\tlearn: 0.4049919\ttotal: 5.21s\tremaining: 3.85s\n",
      "575:\tlearn: 0.4049919\ttotal: 5.22s\tremaining: 3.84s\n",
      "576:\tlearn: 0.4049919\ttotal: 5.23s\tremaining: 3.83s\n",
      "577:\tlearn: 0.4049918\ttotal: 5.24s\tremaining: 3.82s\n",
      "578:\tlearn: 0.4049917\ttotal: 5.24s\tremaining: 3.81s\n",
      "579:\tlearn: 0.4049917\ttotal: 5.25s\tremaining: 3.8s\n",
      "580:\tlearn: 0.4049916\ttotal: 5.26s\tremaining: 3.79s\n",
      "581:\tlearn: 0.4049916\ttotal: 5.27s\tremaining: 3.79s\n",
      "582:\tlearn: 0.4049916\ttotal: 5.28s\tremaining: 3.77s\n",
      "583:\tlearn: 0.4049915\ttotal: 5.29s\tremaining: 3.77s\n",
      "584:\tlearn: 0.4049914\ttotal: 5.29s\tremaining: 3.76s\n",
      "585:\tlearn: 0.4049915\ttotal: 5.3s\tremaining: 3.75s\n",
      "586:\tlearn: 0.4049913\ttotal: 5.31s\tremaining: 3.73s\n",
      "587:\tlearn: 0.4049913\ttotal: 5.32s\tremaining: 3.73s\n",
      "588:\tlearn: 0.4049912\ttotal: 5.33s\tremaining: 3.72s\n",
      "589:\tlearn: 0.4049912\ttotal: 5.33s\tremaining: 3.71s\n",
      "590:\tlearn: 0.4049911\ttotal: 5.34s\tremaining: 3.7s\n",
      "591:\tlearn: 0.4049911\ttotal: 5.35s\tremaining: 3.69s\n",
      "592:\tlearn: 0.4049911\ttotal: 5.36s\tremaining: 3.67s\n",
      "593:\tlearn: 0.4049910\ttotal: 5.36s\tremaining: 3.67s\n",
      "594:\tlearn: 0.4049909\ttotal: 5.37s\tremaining: 3.65s\n",
      "595:\tlearn: 0.4049909\ttotal: 5.38s\tremaining: 3.65s\n",
      "596:\tlearn: 0.4049908\ttotal: 5.39s\tremaining: 3.63s\n",
      "597:\tlearn: 0.4049908\ttotal: 5.39s\tremaining: 3.63s\n",
      "598:\tlearn: 0.4049907\ttotal: 5.4s\tremaining: 3.62s\n",
      "599:\tlearn: 0.4049907\ttotal: 5.41s\tremaining: 3.61s\n",
      "600:\tlearn: 0.4049907\ttotal: 5.42s\tremaining: 3.6s\n",
      "601:\tlearn: 0.4049906\ttotal: 5.42s\tremaining: 3.59s\n",
      "602:\tlearn: 0.4049906\ttotal: 5.43s\tremaining: 3.58s\n",
      "603:\tlearn: 0.4049905\ttotal: 5.44s\tremaining: 3.57s\n",
      "604:\tlearn: 0.4049905\ttotal: 5.45s\tremaining: 3.56s\n",
      "605:\tlearn: 0.4049905\ttotal: 5.46s\tremaining: 3.55s\n",
      "606:\tlearn: 0.4049904\ttotal: 5.47s\tremaining: 3.54s\n",
      "607:\tlearn: 0.4049904\ttotal: 5.47s\tremaining: 3.53s\n",
      "608:\tlearn: 0.4049903\ttotal: 5.48s\tremaining: 3.52s\n",
      "609:\tlearn: 0.4049903\ttotal: 5.5s\tremaining: 3.52s\n",
      "610:\tlearn: 0.4049902\ttotal: 5.51s\tremaining: 3.51s\n",
      "611:\tlearn: 0.4049902\ttotal: 5.52s\tremaining: 3.5s\n",
      "612:\tlearn: 0.4049902\ttotal: 5.53s\tremaining: 3.49s\n",
      "613:\tlearn: 0.4049901\ttotal: 5.54s\tremaining: 3.48s\n",
      "614:\tlearn: 0.4049901\ttotal: 5.55s\tremaining: 3.47s\n",
      "615:\tlearn: 0.4049900\ttotal: 5.55s\tremaining: 3.46s\n",
      "616:\tlearn: 0.4049899\ttotal: 5.57s\tremaining: 3.46s\n",
      "617:\tlearn: 0.4049899\ttotal: 5.58s\tremaining: 3.45s\n",
      "618:\tlearn: 0.4049899\ttotal: 5.59s\tremaining: 3.44s\n",
      "619:\tlearn: 0.4049898\ttotal: 5.59s\tremaining: 3.43s\n",
      "620:\tlearn: 0.4049898\ttotal: 5.6s\tremaining: 3.42s\n",
      "621:\tlearn: 0.4049898\ttotal: 5.61s\tremaining: 3.41s\n",
      "622:\tlearn: 0.4049897\ttotal: 5.62s\tremaining: 3.4s\n",
      "623:\tlearn: 0.4049897\ttotal: 5.63s\tremaining: 3.39s\n",
      "624:\tlearn: 0.4049896\ttotal: 5.64s\tremaining: 3.38s\n",
      "625:\tlearn: 0.4049896\ttotal: 5.65s\tremaining: 3.37s\n",
      "626:\tlearn: 0.4049896\ttotal: 5.66s\tremaining: 3.36s\n",
      "627:\tlearn: 0.4049895\ttotal: 5.66s\tremaining: 3.35s\n",
      "628:\tlearn: 0.4049895\ttotal: 5.67s\tremaining: 3.35s\n",
      "629:\tlearn: 0.4049894\ttotal: 5.69s\tremaining: 3.34s\n",
      "630:\tlearn: 0.4049894\ttotal: 5.7s\tremaining: 3.33s\n",
      "631:\tlearn: 0.4049893\ttotal: 5.71s\tremaining: 3.32s\n",
      "632:\tlearn: 0.4049893\ttotal: 5.72s\tremaining: 3.31s\n",
      "633:\tlearn: 0.4049893\ttotal: 5.72s\tremaining: 3.31s\n",
      "634:\tlearn: 0.4049892\ttotal: 5.73s\tremaining: 3.3s\n",
      "635:\tlearn: 0.4049891\ttotal: 5.75s\tremaining: 3.29s\n",
      "636:\tlearn: 0.4049891\ttotal: 5.76s\tremaining: 3.28s\n",
      "637:\tlearn: 0.4049890\ttotal: 5.77s\tremaining: 3.27s\n",
      "638:\tlearn: 0.4049890\ttotal: 5.78s\tremaining: 3.26s\n",
      "639:\tlearn: 0.4049890\ttotal: 5.79s\tremaining: 3.25s\n",
      "640:\tlearn: 0.4049889\ttotal: 5.8s\tremaining: 3.25s\n",
      "641:\tlearn: 0.4049889\ttotal: 5.8s\tremaining: 3.24s\n",
      "642:\tlearn: 0.4049889\ttotal: 5.81s\tremaining: 3.23s\n",
      "643:\tlearn: 0.4049889\ttotal: 5.82s\tremaining: 3.22s\n",
      "644:\tlearn: 0.4049888\ttotal: 5.83s\tremaining: 3.21s\n",
      "645:\tlearn: 0.4049888\ttotal: 5.84s\tremaining: 3.2s\n",
      "646:\tlearn: 0.4049887\ttotal: 5.84s\tremaining: 3.19s\n",
      "647:\tlearn: 0.4049887\ttotal: 5.85s\tremaining: 3.18s\n",
      "648:\tlearn: 0.4049886\ttotal: 5.86s\tremaining: 3.17s\n",
      "649:\tlearn: 0.4049886\ttotal: 5.87s\tremaining: 3.16s\n",
      "650:\tlearn: 0.4049886\ttotal: 5.88s\tremaining: 3.15s\n",
      "651:\tlearn: 0.4049886\ttotal: 5.89s\tremaining: 3.14s\n",
      "652:\tlearn: 0.4049885\ttotal: 5.89s\tremaining: 3.13s\n",
      "653:\tlearn: 0.4049884\ttotal: 5.9s\tremaining: 3.12s\n",
      "654:\tlearn: 0.4049884\ttotal: 5.91s\tremaining: 3.11s\n",
      "655:\tlearn: 0.4049884\ttotal: 5.92s\tremaining: 3.1s\n",
      "656:\tlearn: 0.4049883\ttotal: 5.93s\tremaining: 3.09s\n",
      "657:\tlearn: 0.4049883\ttotal: 5.93s\tremaining: 3.08s\n",
      "658:\tlearn: 0.4049882\ttotal: 5.94s\tremaining: 3.08s\n",
      "659:\tlearn: 0.4049882\ttotal: 5.95s\tremaining: 3.06s\n",
      "660:\tlearn: 0.4049882\ttotal: 5.96s\tremaining: 3.06s\n",
      "661:\tlearn: 0.4049882\ttotal: 5.97s\tremaining: 3.05s\n"
     ]
    },
    {
     "name": "stdout",
     "output_type": "stream",
     "text": [
      "662:\tlearn: 0.4049881\ttotal: 5.99s\tremaining: 3.04s\n",
      "663:\tlearn: 0.4049881\ttotal: 5.99s\tremaining: 3.03s\n",
      "664:\tlearn: 0.4049881\ttotal: 6s\tremaining: 3.02s\n",
      "665:\tlearn: 0.4049880\ttotal: 6.01s\tremaining: 3.01s\n",
      "666:\tlearn: 0.4049880\ttotal: 6.02s\tremaining: 3s\n",
      "667:\tlearn: 0.4049879\ttotal: 6.03s\tremaining: 3s\n",
      "668:\tlearn: 0.4049879\ttotal: 6.04s\tremaining: 2.99s\n",
      "669:\tlearn: 0.4049878\ttotal: 6.05s\tremaining: 2.98s\n",
      "670:\tlearn: 0.4049878\ttotal: 6.06s\tremaining: 2.97s\n",
      "671:\tlearn: 0.4049878\ttotal: 6.07s\tremaining: 2.96s\n",
      "672:\tlearn: 0.4049877\ttotal: 6.08s\tremaining: 2.95s\n",
      "673:\tlearn: 0.4049877\ttotal: 6.08s\tremaining: 2.94s\n",
      "674:\tlearn: 0.4049877\ttotal: 6.09s\tremaining: 2.93s\n",
      "675:\tlearn: 0.4049876\ttotal: 6.1s\tremaining: 2.92s\n",
      "676:\tlearn: 0.4049876\ttotal: 6.11s\tremaining: 2.92s\n",
      "677:\tlearn: 0.4049875\ttotal: 6.12s\tremaining: 2.9s\n",
      "678:\tlearn: 0.4049875\ttotal: 6.13s\tremaining: 2.9s\n",
      "679:\tlearn: 0.4049876\ttotal: 6.13s\tremaining: 2.89s\n",
      "680:\tlearn: 0.4049875\ttotal: 6.15s\tremaining: 2.88s\n",
      "681:\tlearn: 0.4049874\ttotal: 6.16s\tremaining: 2.87s\n",
      "682:\tlearn: 0.4049874\ttotal: 6.17s\tremaining: 2.86s\n",
      "683:\tlearn: 0.4049873\ttotal: 6.18s\tremaining: 2.85s\n",
      "684:\tlearn: 0.4049873\ttotal: 6.18s\tremaining: 2.84s\n",
      "685:\tlearn: 0.4049873\ttotal: 6.19s\tremaining: 2.83s\n",
      "686:\tlearn: 0.4049872\ttotal: 6.21s\tremaining: 2.83s\n",
      "687:\tlearn: 0.4049872\ttotal: 6.22s\tremaining: 2.82s\n",
      "688:\tlearn: 0.4049872\ttotal: 6.23s\tremaining: 2.81s\n",
      "689:\tlearn: 0.4049871\ttotal: 6.24s\tremaining: 2.8s\n",
      "690:\tlearn: 0.4049871\ttotal: 6.25s\tremaining: 2.79s\n",
      "691:\tlearn: 0.4049871\ttotal: 6.25s\tremaining: 2.78s\n",
      "692:\tlearn: 0.4049871\ttotal: 6.26s\tremaining: 2.77s\n",
      "693:\tlearn: 0.4049870\ttotal: 6.27s\tremaining: 2.77s\n",
      "694:\tlearn: 0.4049870\ttotal: 6.28s\tremaining: 2.75s\n",
      "695:\tlearn: 0.4049870\ttotal: 6.29s\tremaining: 2.75s\n",
      "696:\tlearn: 0.4049869\ttotal: 6.3s\tremaining: 2.74s\n",
      "697:\tlearn: 0.4049869\ttotal: 6.3s\tremaining: 2.73s\n",
      "698:\tlearn: 0.4049869\ttotal: 6.31s\tremaining: 2.72s\n",
      "699:\tlearn: 0.4049868\ttotal: 6.32s\tremaining: 2.71s\n",
      "700:\tlearn: 0.4049868\ttotal: 6.33s\tremaining: 2.7s\n",
      "701:\tlearn: 0.4049868\ttotal: 6.34s\tremaining: 2.69s\n",
      "702:\tlearn: 0.4049868\ttotal: 6.35s\tremaining: 2.68s\n",
      "703:\tlearn: 0.4049867\ttotal: 6.36s\tremaining: 2.67s\n",
      "704:\tlearn: 0.4049866\ttotal: 6.36s\tremaining: 2.66s\n",
      "705:\tlearn: 0.4049866\ttotal: 6.37s\tremaining: 2.65s\n",
      "706:\tlearn: 0.4049866\ttotal: 6.38s\tremaining: 2.64s\n",
      "707:\tlearn: 0.4049866\ttotal: 6.39s\tremaining: 2.63s\n",
      "708:\tlearn: 0.4049865\ttotal: 6.39s\tremaining: 2.62s\n",
      "709:\tlearn: 0.4049865\ttotal: 6.4s\tremaining: 2.62s\n",
      "710:\tlearn: 0.4049864\ttotal: 6.41s\tremaining: 2.6s\n",
      "711:\tlearn: 0.4049864\ttotal: 6.42s\tremaining: 2.6s\n",
      "712:\tlearn: 0.4049864\ttotal: 6.44s\tremaining: 2.59s\n",
      "713:\tlearn: 0.4049864\ttotal: 6.45s\tremaining: 2.58s\n",
      "714:\tlearn: 0.4049864\ttotal: 6.46s\tremaining: 2.57s\n",
      "715:\tlearn: 0.4049863\ttotal: 6.47s\tremaining: 2.56s\n",
      "716:\tlearn: 0.4049863\ttotal: 6.47s\tremaining: 2.56s\n",
      "717:\tlearn: 0.4049863\ttotal: 6.48s\tremaining: 2.55s\n",
      "718:\tlearn: 0.4049862\ttotal: 6.49s\tremaining: 2.54s\n",
      "719:\tlearn: 0.4049862\ttotal: 6.51s\tremaining: 2.53s\n",
      "720:\tlearn: 0.4049861\ttotal: 6.52s\tremaining: 2.52s\n",
      "721:\tlearn: 0.4049861\ttotal: 6.53s\tremaining: 2.51s\n",
      "722:\tlearn: 0.4049861\ttotal: 6.54s\tremaining: 2.5s\n",
      "723:\tlearn: 0.4049861\ttotal: 6.55s\tremaining: 2.5s\n",
      "724:\tlearn: 0.4049860\ttotal: 6.55s\tremaining: 2.49s\n",
      "725:\tlearn: 0.4049860\ttotal: 6.56s\tremaining: 2.48s\n",
      "726:\tlearn: 0.4049860\ttotal: 6.57s\tremaining: 2.47s\n",
      "727:\tlearn: 0.4049859\ttotal: 6.58s\tremaining: 2.46s\n",
      "728:\tlearn: 0.4049859\ttotal: 6.59s\tremaining: 2.45s\n",
      "729:\tlearn: 0.4049859\ttotal: 6.6s\tremaining: 2.44s\n",
      "730:\tlearn: 0.4049858\ttotal: 6.6s\tremaining: 2.43s\n",
      "731:\tlearn: 0.4049858\ttotal: 6.62s\tremaining: 2.42s\n",
      "732:\tlearn: 0.4049858\ttotal: 6.62s\tremaining: 2.41s\n",
      "733:\tlearn: 0.4049858\ttotal: 6.63s\tremaining: 2.4s\n",
      "734:\tlearn: 0.4049857\ttotal: 6.64s\tremaining: 2.39s\n",
      "735:\tlearn: 0.4049857\ttotal: 6.65s\tremaining: 2.38s\n",
      "736:\tlearn: 0.4049857\ttotal: 6.66s\tremaining: 2.38s\n",
      "737:\tlearn: 0.4049857\ttotal: 6.66s\tremaining: 2.37s\n",
      "738:\tlearn: 0.4049856\ttotal: 6.67s\tremaining: 2.36s\n",
      "739:\tlearn: 0.4049855\ttotal: 6.68s\tremaining: 2.35s\n",
      "740:\tlearn: 0.4049855\ttotal: 6.69s\tremaining: 2.34s\n",
      "741:\tlearn: 0.4049855\ttotal: 6.69s\tremaining: 2.33s\n",
      "742:\tlearn: 0.4049855\ttotal: 6.7s\tremaining: 2.32s\n",
      "743:\tlearn: 0.4049855\ttotal: 6.71s\tremaining: 2.31s\n",
      "744:\tlearn: 0.4049855\ttotal: 6.72s\tremaining: 2.3s\n",
      "745:\tlearn: 0.4049854\ttotal: 6.73s\tremaining: 2.29s\n",
      "746:\tlearn: 0.4049854\ttotal: 6.73s\tremaining: 2.28s\n",
      "747:\tlearn: 0.4049854\ttotal: 6.74s\tremaining: 2.27s\n",
      "748:\tlearn: 0.4049853\ttotal: 6.75s\tremaining: 2.26s\n",
      "749:\tlearn: 0.4049853\ttotal: 6.75s\tremaining: 2.25s\n",
      "750:\tlearn: 0.4049853\ttotal: 6.76s\tremaining: 2.24s\n",
      "751:\tlearn: 0.4049853\ttotal: 6.77s\tremaining: 2.23s\n",
      "752:\tlearn: 0.4049852\ttotal: 6.78s\tremaining: 2.22s\n",
      "753:\tlearn: 0.4049852\ttotal: 6.79s\tremaining: 2.21s\n",
      "754:\tlearn: 0.4049852\ttotal: 6.8s\tremaining: 2.21s\n",
      "755:\tlearn: 0.4049851\ttotal: 6.81s\tremaining: 2.2s\n",
      "756:\tlearn: 0.4049851\ttotal: 6.81s\tremaining: 2.19s\n",
      "757:\tlearn: 0.4049851\ttotal: 6.82s\tremaining: 2.18s\n",
      "758:\tlearn: 0.4049851\ttotal: 6.83s\tremaining: 2.17s\n",
      "759:\tlearn: 0.4049850\ttotal: 6.84s\tremaining: 2.16s\n",
      "760:\tlearn: 0.4049850\ttotal: 6.85s\tremaining: 2.15s\n",
      "761:\tlearn: 0.4049850\ttotal: 6.85s\tremaining: 2.14s\n",
      "762:\tlearn: 0.4049849\ttotal: 6.86s\tremaining: 2.13s\n",
      "763:\tlearn: 0.4049849\ttotal: 6.87s\tremaining: 2.12s\n",
      "764:\tlearn: 0.4049849\ttotal: 6.88s\tremaining: 2.11s\n",
      "765:\tlearn: 0.4049849\ttotal: 6.89s\tremaining: 2.1s\n",
      "766:\tlearn: 0.4049848\ttotal: 6.89s\tremaining: 2.09s\n",
      "767:\tlearn: 0.4049848\ttotal: 6.9s\tremaining: 2.08s\n",
      "768:\tlearn: 0.4049848\ttotal: 6.91s\tremaining: 2.08s\n",
      "769:\tlearn: 0.4049847\ttotal: 6.92s\tremaining: 2.07s\n",
      "770:\tlearn: 0.4049847\ttotal: 6.92s\tremaining: 2.06s\n",
      "771:\tlearn: 0.4049847\ttotal: 6.94s\tremaining: 2.05s\n",
      "772:\tlearn: 0.4049847\ttotal: 6.94s\tremaining: 2.04s\n",
      "773:\tlearn: 0.4049846\ttotal: 6.95s\tremaining: 2.03s\n",
      "774:\tlearn: 0.4049846\ttotal: 6.96s\tremaining: 2.02s\n",
      "775:\tlearn: 0.4049846\ttotal: 6.97s\tremaining: 2.01s\n",
      "776:\tlearn: 0.4049846\ttotal: 6.98s\tremaining: 2s\n",
      "777:\tlearn: 0.4049845\ttotal: 6.99s\tremaining: 1.99s\n",
      "778:\tlearn: 0.4049845\ttotal: 6.99s\tremaining: 1.98s\n",
      "779:\tlearn: 0.4049845\ttotal: 7s\tremaining: 1.97s\n",
      "780:\tlearn: 0.4049845\ttotal: 7.01s\tremaining: 1.97s\n",
      "781:\tlearn: 0.4049845\ttotal: 7.01s\tremaining: 1.96s\n",
      "782:\tlearn: 0.4049844\ttotal: 7.02s\tremaining: 1.95s\n",
      "783:\tlearn: 0.4049844\ttotal: 7.03s\tremaining: 1.94s\n",
      "784:\tlearn: 0.4049844\ttotal: 7.04s\tremaining: 1.93s\n",
      "785:\tlearn: 0.4049843\ttotal: 7.05s\tremaining: 1.92s\n",
      "786:\tlearn: 0.4049843\ttotal: 7.06s\tremaining: 1.91s\n",
      "787:\tlearn: 0.4049843\ttotal: 7.06s\tremaining: 1.9s\n",
      "788:\tlearn: 0.4049843\ttotal: 7.07s\tremaining: 1.89s\n",
      "789:\tlearn: 0.4049843\ttotal: 7.08s\tremaining: 1.88s\n",
      "790:\tlearn: 0.4049842\ttotal: 7.09s\tremaining: 1.87s\n",
      "791:\tlearn: 0.4049842\ttotal: 7.09s\tremaining: 1.86s\n",
      "792:\tlearn: 0.4049842\ttotal: 7.1s\tremaining: 1.85s\n",
      "793:\tlearn: 0.4049841\ttotal: 7.11s\tremaining: 1.84s\n",
      "794:\tlearn: 0.4049841\ttotal: 7.11s\tremaining: 1.83s\n",
      "795:\tlearn: 0.4049841\ttotal: 7.12s\tremaining: 1.82s\n",
      "796:\tlearn: 0.4049841\ttotal: 7.13s\tremaining: 1.81s\n",
      "797:\tlearn: 0.4049840\ttotal: 7.14s\tremaining: 1.81s\n",
      "798:\tlearn: 0.4049839\ttotal: 7.14s\tremaining: 1.8s\n",
      "799:\tlearn: 0.4049840\ttotal: 7.15s\tremaining: 1.79s\n",
      "800:\tlearn: 0.4049840\ttotal: 7.16s\tremaining: 1.78s\n",
      "801:\tlearn: 0.4049839\ttotal: 7.17s\tremaining: 1.77s\n",
      "802:\tlearn: 0.4049839\ttotal: 7.17s\tremaining: 1.76s\n",
      "803:\tlearn: 0.4049839\ttotal: 7.18s\tremaining: 1.75s\n",
      "804:\tlearn: 0.4049838\ttotal: 7.19s\tremaining: 1.74s\n",
      "805:\tlearn: 0.4049838\ttotal: 7.2s\tremaining: 1.73s\n",
      "806:\tlearn: 0.4049838\ttotal: 7.2s\tremaining: 1.72s\n",
      "807:\tlearn: 0.4049838\ttotal: 7.21s\tremaining: 1.71s\n",
      "808:\tlearn: 0.4049838\ttotal: 7.22s\tremaining: 1.7s\n",
      "809:\tlearn: 0.4049837\ttotal: 7.23s\tremaining: 1.7s\n",
      "810:\tlearn: 0.4049838\ttotal: 7.23s\tremaining: 1.69s\n",
      "811:\tlearn: 0.4049837\ttotal: 7.24s\tremaining: 1.68s\n",
      "812:\tlearn: 0.4049838\ttotal: 7.25s\tremaining: 1.67s\n",
      "813:\tlearn: 0.4049837\ttotal: 7.25s\tremaining: 1.66s\n",
      "814:\tlearn: 0.4049836\ttotal: 7.26s\tremaining: 1.65s\n",
      "815:\tlearn: 0.4049836\ttotal: 7.27s\tremaining: 1.64s\n",
      "816:\tlearn: 0.4049836\ttotal: 7.28s\tremaining: 1.63s\n",
      "817:\tlearn: 0.4049836\ttotal: 7.29s\tremaining: 1.62s\n",
      "818:\tlearn: 0.4049835\ttotal: 7.29s\tremaining: 1.61s\n",
      "819:\tlearn: 0.4049835\ttotal: 7.3s\tremaining: 1.6s\n",
      "820:\tlearn: 0.4049835\ttotal: 7.31s\tremaining: 1.59s\n",
      "821:\tlearn: 0.4049834\ttotal: 7.32s\tremaining: 1.58s\n",
      "822:\tlearn: 0.4049835\ttotal: 7.33s\tremaining: 1.57s\n",
      "823:\tlearn: 0.4049834\ttotal: 7.33s\tremaining: 1.57s\n",
      "824:\tlearn: 0.4049834\ttotal: 7.34s\tremaining: 1.56s\n",
      "825:\tlearn: 0.4049834\ttotal: 7.35s\tremaining: 1.55s\n",
      "826:\tlearn: 0.4049834\ttotal: 7.35s\tremaining: 1.54s\n",
      "827:\tlearn: 0.4049833\ttotal: 7.37s\tremaining: 1.53s\n",
      "828:\tlearn: 0.4049833\ttotal: 7.37s\tremaining: 1.52s\n",
      "829:\tlearn: 0.4049832\ttotal: 7.38s\tremaining: 1.51s\n",
      "830:\tlearn: 0.4049833\ttotal: 7.39s\tremaining: 1.5s\n",
      "831:\tlearn: 0.4049832\ttotal: 7.4s\tremaining: 1.49s\n",
      "832:\tlearn: 0.4049832\ttotal: 7.4s\tremaining: 1.48s\n",
      "833:\tlearn: 0.4049831\ttotal: 7.41s\tremaining: 1.48s\n",
      "834:\tlearn: 0.4049832\ttotal: 7.42s\tremaining: 1.47s\n",
      "835:\tlearn: 0.4049831\ttotal: 7.43s\tremaining: 1.46s\n"
     ]
    },
    {
     "name": "stdout",
     "output_type": "stream",
     "text": [
      "836:\tlearn: 0.4049831\ttotal: 7.43s\tremaining: 1.45s\n",
      "837:\tlearn: 0.4049831\ttotal: 7.44s\tremaining: 1.44s\n",
      "838:\tlearn: 0.4049831\ttotal: 7.45s\tremaining: 1.43s\n",
      "839:\tlearn: 0.4049830\ttotal: 7.46s\tremaining: 1.42s\n",
      "840:\tlearn: 0.4049830\ttotal: 7.47s\tremaining: 1.41s\n",
      "841:\tlearn: 0.4049830\ttotal: 7.47s\tremaining: 1.4s\n",
      "842:\tlearn: 0.4049830\ttotal: 7.48s\tremaining: 1.39s\n",
      "843:\tlearn: 0.4049830\ttotal: 7.49s\tremaining: 1.38s\n",
      "844:\tlearn: 0.4049830\ttotal: 7.5s\tremaining: 1.38s\n",
      "845:\tlearn: 0.4049829\ttotal: 7.51s\tremaining: 1.37s\n",
      "846:\tlearn: 0.4049829\ttotal: 7.51s\tremaining: 1.36s\n",
      "847:\tlearn: 0.4049829\ttotal: 7.52s\tremaining: 1.35s\n",
      "848:\tlearn: 0.4049828\ttotal: 7.53s\tremaining: 1.34s\n",
      "849:\tlearn: 0.4049829\ttotal: 7.54s\tremaining: 1.33s\n",
      "850:\tlearn: 0.4049829\ttotal: 7.54s\tremaining: 1.32s\n",
      "851:\tlearn: 0.4049828\ttotal: 7.55s\tremaining: 1.31s\n",
      "852:\tlearn: 0.4049827\ttotal: 7.56s\tremaining: 1.3s\n",
      "853:\tlearn: 0.4049828\ttotal: 7.57s\tremaining: 1.29s\n",
      "854:\tlearn: 0.4049827\ttotal: 7.58s\tremaining: 1.28s\n",
      "855:\tlearn: 0.4049827\ttotal: 7.59s\tremaining: 1.28s\n",
      "856:\tlearn: 0.4049827\ttotal: 7.59s\tremaining: 1.27s\n",
      "857:\tlearn: 0.4049827\ttotal: 7.6s\tremaining: 1.26s\n",
      "858:\tlearn: 0.4049827\ttotal: 7.61s\tremaining: 1.25s\n",
      "859:\tlearn: 0.4049826\ttotal: 7.62s\tremaining: 1.24s\n",
      "860:\tlearn: 0.4049826\ttotal: 7.62s\tremaining: 1.23s\n",
      "861:\tlearn: 0.4049825\ttotal: 7.63s\tremaining: 1.22s\n",
      "862:\tlearn: 0.4049826\ttotal: 7.64s\tremaining: 1.21s\n",
      "863:\tlearn: 0.4049825\ttotal: 7.65s\tremaining: 1.2s\n",
      "864:\tlearn: 0.4049826\ttotal: 7.66s\tremaining: 1.2s\n",
      "865:\tlearn: 0.4049825\ttotal: 7.67s\tremaining: 1.19s\n",
      "866:\tlearn: 0.4049825\ttotal: 7.68s\tremaining: 1.18s\n",
      "867:\tlearn: 0.4049824\ttotal: 7.68s\tremaining: 1.17s\n",
      "868:\tlearn: 0.4049824\ttotal: 7.69s\tremaining: 1.16s\n",
      "869:\tlearn: 0.4049824\ttotal: 7.7s\tremaining: 1.15s\n",
      "870:\tlearn: 0.4049824\ttotal: 7.71s\tremaining: 1.14s\n",
      "871:\tlearn: 0.4049824\ttotal: 7.71s\tremaining: 1.13s\n",
      "872:\tlearn: 0.4049823\ttotal: 7.72s\tremaining: 1.12s\n",
      "873:\tlearn: 0.4049823\ttotal: 7.73s\tremaining: 1.11s\n",
      "874:\tlearn: 0.4049823\ttotal: 7.74s\tremaining: 1.1s\n",
      "875:\tlearn: 0.4049823\ttotal: 7.75s\tremaining: 1.1s\n",
      "876:\tlearn: 0.4049822\ttotal: 7.76s\tremaining: 1.09s\n",
      "877:\tlearn: 0.4049823\ttotal: 7.76s\tremaining: 1.08s\n",
      "878:\tlearn: 0.4049822\ttotal: 7.77s\tremaining: 1.07s\n",
      "879:\tlearn: 0.4049822\ttotal: 7.78s\tremaining: 1.06s\n",
      "880:\tlearn: 0.4049822\ttotal: 7.79s\tremaining: 1.05s\n",
      "881:\tlearn: 0.4049822\ttotal: 7.79s\tremaining: 1.04s\n",
      "882:\tlearn: 0.4049821\ttotal: 7.8s\tremaining: 1.03s\n",
      "883:\tlearn: 0.4049821\ttotal: 7.81s\tremaining: 1.02s\n",
      "884:\tlearn: 0.4049821\ttotal: 7.82s\tremaining: 1.02s\n",
      "885:\tlearn: 0.4049821\ttotal: 7.83s\tremaining: 1.01s\n",
      "886:\tlearn: 0.4049821\ttotal: 7.83s\tremaining: 998ms\n",
      "887:\tlearn: 0.4049821\ttotal: 7.84s\tremaining: 989ms\n",
      "888:\tlearn: 0.4049821\ttotal: 7.85s\tremaining: 980ms\n",
      "889:\tlearn: 0.4049820\ttotal: 7.86s\tremaining: 972ms\n",
      "890:\tlearn: 0.4049820\ttotal: 7.87s\tremaining: 963ms\n",
      "891:\tlearn: 0.4049821\ttotal: 7.88s\tremaining: 954ms\n",
      "892:\tlearn: 0.4049820\ttotal: 7.88s\tremaining: 945ms\n",
      "893:\tlearn: 0.4049820\ttotal: 7.89s\tremaining: 936ms\n",
      "894:\tlearn: 0.4049819\ttotal: 7.9s\tremaining: 927ms\n",
      "895:\tlearn: 0.4049819\ttotal: 7.91s\tremaining: 918ms\n",
      "896:\tlearn: 0.4049819\ttotal: 7.91s\tremaining: 909ms\n",
      "897:\tlearn: 0.4049818\ttotal: 7.92s\tremaining: 900ms\n",
      "898:\tlearn: 0.4049819\ttotal: 7.93s\tremaining: 891ms\n",
      "899:\tlearn: 0.4049818\ttotal: 7.94s\tremaining: 882ms\n",
      "900:\tlearn: 0.4049819\ttotal: 7.94s\tremaining: 873ms\n",
      "901:\tlearn: 0.4049818\ttotal: 7.95s\tremaining: 864ms\n",
      "902:\tlearn: 0.4049818\ttotal: 7.96s\tremaining: 855ms\n",
      "903:\tlearn: 0.4049818\ttotal: 7.97s\tremaining: 846ms\n",
      "904:\tlearn: 0.4049817\ttotal: 7.97s\tremaining: 837ms\n",
      "905:\tlearn: 0.4049818\ttotal: 7.98s\tremaining: 828ms\n",
      "906:\tlearn: 0.4049817\ttotal: 7.99s\tremaining: 819ms\n",
      "907:\tlearn: 0.4049817\ttotal: 8s\tremaining: 810ms\n",
      "908:\tlearn: 0.4049817\ttotal: 8.01s\tremaining: 801ms\n",
      "909:\tlearn: 0.4049817\ttotal: 8.02s\tremaining: 793ms\n",
      "910:\tlearn: 0.4049816\ttotal: 8.02s\tremaining: 784ms\n",
      "911:\tlearn: 0.4049816\ttotal: 8.03s\tremaining: 775ms\n",
      "912:\tlearn: 0.4049816\ttotal: 8.04s\tremaining: 766ms\n",
      "913:\tlearn: 0.4049816\ttotal: 8.04s\tremaining: 757ms\n",
      "914:\tlearn: 0.4049816\ttotal: 8.05s\tremaining: 748ms\n",
      "915:\tlearn: 0.4049815\ttotal: 8.06s\tremaining: 739ms\n",
      "916:\tlearn: 0.4049815\ttotal: 8.07s\tremaining: 731ms\n",
      "917:\tlearn: 0.4049815\ttotal: 8.08s\tremaining: 722ms\n",
      "918:\tlearn: 0.4049815\ttotal: 8.09s\tremaining: 713ms\n",
      "919:\tlearn: 0.4049815\ttotal: 8.1s\tremaining: 704ms\n",
      "920:\tlearn: 0.4049815\ttotal: 8.1s\tremaining: 695ms\n",
      "921:\tlearn: 0.4049815\ttotal: 8.11s\tremaining: 686ms\n",
      "922:\tlearn: 0.4049814\ttotal: 8.12s\tremaining: 677ms\n",
      "923:\tlearn: 0.4049814\ttotal: 8.13s\tremaining: 668ms\n",
      "924:\tlearn: 0.4049814\ttotal: 8.13s\tremaining: 660ms\n",
      "925:\tlearn: 0.4049813\ttotal: 8.14s\tremaining: 651ms\n",
      "926:\tlearn: 0.4049813\ttotal: 8.15s\tremaining: 642ms\n",
      "927:\tlearn: 0.4049813\ttotal: 8.16s\tremaining: 633ms\n",
      "928:\tlearn: 0.4049813\ttotal: 8.17s\tremaining: 624ms\n",
      "929:\tlearn: 0.4049813\ttotal: 8.17s\tremaining: 615ms\n",
      "930:\tlearn: 0.4049813\ttotal: 8.18s\tremaining: 606ms\n",
      "931:\tlearn: 0.4049813\ttotal: 8.19s\tremaining: 598ms\n",
      "932:\tlearn: 0.4049812\ttotal: 8.2s\tremaining: 589ms\n",
      "933:\tlearn: 0.4049813\ttotal: 8.2s\tremaining: 580ms\n",
      "934:\tlearn: 0.4049812\ttotal: 8.21s\tremaining: 571ms\n",
      "935:\tlearn: 0.4049812\ttotal: 8.22s\tremaining: 562ms\n",
      "936:\tlearn: 0.4049812\ttotal: 8.23s\tremaining: 553ms\n",
      "937:\tlearn: 0.4049812\ttotal: 8.23s\tremaining: 544ms\n",
      "938:\tlearn: 0.4049811\ttotal: 8.24s\tremaining: 535ms\n",
      "939:\tlearn: 0.4049811\ttotal: 8.25s\tremaining: 527ms\n",
      "940:\tlearn: 0.4049811\ttotal: 8.26s\tremaining: 518ms\n",
      "941:\tlearn: 0.4049811\ttotal: 8.27s\tremaining: 509ms\n",
      "942:\tlearn: 0.4049811\ttotal: 8.27s\tremaining: 500ms\n",
      "943:\tlearn: 0.4049810\ttotal: 8.28s\tremaining: 491ms\n",
      "944:\tlearn: 0.4049810\ttotal: 8.29s\tremaining: 483ms\n",
      "945:\tlearn: 0.4049810\ttotal: 8.3s\tremaining: 474ms\n",
      "946:\tlearn: 0.4049810\ttotal: 8.31s\tremaining: 465ms\n",
      "947:\tlearn: 0.4049810\ttotal: 8.31s\tremaining: 456ms\n",
      "948:\tlearn: 0.4049810\ttotal: 8.32s\tremaining: 447ms\n",
      "949:\tlearn: 0.4049809\ttotal: 8.33s\tremaining: 438ms\n",
      "950:\tlearn: 0.4049809\ttotal: 8.34s\tremaining: 429ms\n",
      "951:\tlearn: 0.4049809\ttotal: 8.35s\tremaining: 421ms\n",
      "952:\tlearn: 0.4049809\ttotal: 8.36s\tremaining: 412ms\n",
      "953:\tlearn: 0.4049809\ttotal: 8.37s\tremaining: 403ms\n",
      "954:\tlearn: 0.4049809\ttotal: 8.37s\tremaining: 395ms\n",
      "955:\tlearn: 0.4049809\ttotal: 8.38s\tremaining: 386ms\n",
      "956:\tlearn: 0.4049808\ttotal: 8.39s\tremaining: 377ms\n",
      "957:\tlearn: 0.4049808\ttotal: 8.4s\tremaining: 368ms\n",
      "958:\tlearn: 0.4049808\ttotal: 8.41s\tremaining: 359ms\n",
      "959:\tlearn: 0.4049808\ttotal: 8.42s\tremaining: 351ms\n",
      "960:\tlearn: 0.4049807\ttotal: 8.43s\tremaining: 342ms\n",
      "961:\tlearn: 0.4049807\ttotal: 8.44s\tremaining: 333ms\n",
      "962:\tlearn: 0.4049808\ttotal: 8.46s\tremaining: 325ms\n",
      "963:\tlearn: 0.4049807\ttotal: 8.47s\tremaining: 316ms\n",
      "964:\tlearn: 0.4049807\ttotal: 8.48s\tremaining: 307ms\n",
      "965:\tlearn: 0.4049807\ttotal: 8.49s\tremaining: 299ms\n",
      "966:\tlearn: 0.4049807\ttotal: 8.49s\tremaining: 290ms\n",
      "967:\tlearn: 0.4049807\ttotal: 8.51s\tremaining: 281ms\n",
      "968:\tlearn: 0.4049807\ttotal: 8.51s\tremaining: 272ms\n",
      "969:\tlearn: 0.4049806\ttotal: 8.52s\tremaining: 264ms\n",
      "970:\tlearn: 0.4049806\ttotal: 8.54s\tremaining: 255ms\n",
      "971:\tlearn: 0.4049805\ttotal: 8.55s\tremaining: 246ms\n",
      "972:\tlearn: 0.4049806\ttotal: 8.56s\tremaining: 238ms\n",
      "973:\tlearn: 0.4049805\ttotal: 8.57s\tremaining: 229ms\n",
      "974:\tlearn: 0.4049805\ttotal: 8.58s\tremaining: 220ms\n",
      "975:\tlearn: 0.4049805\ttotal: 8.59s\tremaining: 211ms\n",
      "976:\tlearn: 0.4049805\ttotal: 8.6s\tremaining: 202ms\n",
      "977:\tlearn: 0.4049805\ttotal: 8.61s\tremaining: 194ms\n",
      "978:\tlearn: 0.4049805\ttotal: 8.62s\tremaining: 185ms\n",
      "979:\tlearn: 0.4049805\ttotal: 8.63s\tremaining: 176ms\n",
      "980:\tlearn: 0.4049805\ttotal: 8.63s\tremaining: 167ms\n",
      "981:\tlearn: 0.4049804\ttotal: 8.64s\tremaining: 158ms\n",
      "982:\tlearn: 0.4049804\ttotal: 8.65s\tremaining: 150ms\n",
      "983:\tlearn: 0.4049804\ttotal: 8.66s\tremaining: 141ms\n",
      "984:\tlearn: 0.4049804\ttotal: 8.67s\tremaining: 132ms\n",
      "985:\tlearn: 0.4049804\ttotal: 8.68s\tremaining: 123ms\n",
      "986:\tlearn: 0.4049804\ttotal: 8.69s\tremaining: 114ms\n",
      "987:\tlearn: 0.4049804\ttotal: 8.7s\tremaining: 106ms\n",
      "988:\tlearn: 0.4049804\ttotal: 8.71s\tremaining: 96.9ms\n",
      "989:\tlearn: 0.4049804\ttotal: 8.72s\tremaining: 88.1ms\n",
      "990:\tlearn: 0.4049803\ttotal: 8.73s\tremaining: 79.3ms\n",
      "991:\tlearn: 0.4049803\ttotal: 8.74s\tremaining: 70.5ms\n",
      "992:\tlearn: 0.4049803\ttotal: 8.75s\tremaining: 61.7ms\n",
      "993:\tlearn: 0.4049802\ttotal: 8.76s\tremaining: 52.8ms\n",
      "994:\tlearn: 0.4049802\ttotal: 8.76s\tremaining: 44ms\n",
      "995:\tlearn: 0.4049802\ttotal: 8.77s\tremaining: 35.2ms\n",
      "996:\tlearn: 0.4049802\ttotal: 8.78s\tremaining: 26.4ms\n",
      "997:\tlearn: 0.4049802\ttotal: 8.8s\tremaining: 17.6ms\n",
      "998:\tlearn: 0.4049802\ttotal: 8.81s\tremaining: 8.82ms\n",
      "999:\tlearn: 0.4049801\ttotal: 8.82s\tremaining: 0us\n"
     ]
    },
    {
     "name": "stdout",
     "output_type": "stream",
     "text": [
      "Stacking ensemble (ML+DNN): 3806\n",
      "[2]Accuracy : 89.43772990015765\n",
      "[2]F1score : 0.8453861234892812\n",
      "[2]Precision : 0.8324955087664401\n",
      "[2]Recall : 0.8943772990015765\n",
      "\n"
     ]
    },
    {
     "name": "stderr",
     "output_type": "stream",
     "text": [
      "C:\\Users\\jaemin\\Anaconda3\\envs\\jm\\lib\\site-packages\\sklearn\\metrics\\_classification.py:1318: UndefinedMetricWarning: Precision and F-score are ill-defined and being set to 0.0 in labels with no predicted samples. Use `zero_division` parameter to control this behavior.\n",
      "  _warn_prf(average, modifier, msg_start, len(result))\n"
     ]
    },
    {
     "data": {
      "image/png": "[encoded data removed]",
      "text/plain": [
       "<Figure size 640x480 with 2 Axes>"
      ]
     },
     "metadata": {},
     "output_type": "display_data"
    },
    {
     "name": "stderr",
     "output_type": "stream",
     "text": [
      "100%|████████████████████████████████████████████████████████████████████████████████████| 4/4 [00:00<00:00,  7.33it/s]\n"
     ]
    },
    {
     "name": "stdout",
     "output_type": "stream",
     "text": [
      "[INFO] val_acc has been improved from 9999999999999.00000 to 0.39520. Saving Model!\n",
      "epoch 01, loss: 0.39262, acc: 0.89465, val_loss: 0.39520, val_accuracy: 0.89464\n"
     ]
    },
    {
     "name": "stderr",
     "output_type": "stream",
     "text": [
      "100%|████████████████████████████████████████████████████████████████████████████████████| 4/4 [00:00<00:00,  6.73it/s]\n"
     ]
    },
    {
     "name": "stdout",
     "output_type": "stream",
     "text": [
      "epoch 02, loss: 0.39289, acc: 0.89465, val_loss: 0.39529, val_accuracy: 0.89464\n"
     ]
    },
    {
     "name": "stderr",
     "output_type": "stream",
     "text": [
      "100%|████████████████████████████████████████████████████████████████████████████████████| 4/4 [00:00<00:00,  8.97it/s]\n"
     ]
    },
    {
     "name": "stdout",
     "output_type": "stream",
     "text": [
      "epoch 03, loss: 0.39230, acc: 0.89468, val_loss: 0.39606, val_accuracy: 0.89411\n"
     ]
    },
    {
     "name": "stderr",
     "output_type": "stream",
     "text": [
      "100%|████████████████████████████████████████████████████████████████████████████████████| 4/4 [00:00<00:00,  7.68it/s]\n"
     ]
    },
    {
     "name": "stdout",
     "output_type": "stream",
     "text": [
      "epoch 04, loss: 0.39203, acc: 0.89460, val_loss: 0.39754, val_accuracy: 0.89411\n"
     ]
    },
    {
     "name": "stderr",
     "output_type": "stream",
     "text": [
      "100%|████████████████████████████████████████████████████████████████████████████████████| 4/4 [00:00<00:00,  8.03it/s]\n"
     ]
    },
    {
     "name": "stdout",
     "output_type": "stream",
     "text": [
      "epoch 05, loss: 0.39171, acc: 0.89457, val_loss: 0.39899, val_accuracy: 0.89411\n"
     ]
    },
    {
     "name": "stderr",
     "output_type": "stream",
     "text": [
      "100%|████████████████████████████████████████████████████████████████████████████████████| 4/4 [00:00<00:00,  8.13it/s]\n"
     ]
    },
    {
     "name": "stdout",
     "output_type": "stream",
     "text": [
      "epoch 06, loss: 0.39152, acc: 0.89460, val_loss: 0.40032, val_accuracy: 0.89411\n"
     ]
    },
    {
     "name": "stderr",
     "output_type": "stream",
     "text": [
      "100%|████████████████████████████████████████████████████████████████████████████████████| 4/4 [00:00<00:00,  9.59it/s]\n"
     ]
    },
    {
     "name": "stdout",
     "output_type": "stream",
     "text": [
      "epoch 07, loss: 0.39132, acc: 0.89457, val_loss: 0.40105, val_accuracy: 0.89411\n"
     ]
    },
    {
     "name": "stderr",
     "output_type": "stream",
     "text": [
      "100%|████████████████████████████████████████████████████████████████████████████████████| 4/4 [00:00<00:00,  9.79it/s]\n"
     ]
    },
    {
     "name": "stdout",
     "output_type": "stream",
     "text": [
      "epoch 08, loss: 0.39102, acc: 0.89454, val_loss: 0.40157, val_accuracy: 0.89411\n"
     ]
    },
    {
     "name": "stderr",
     "output_type": "stream",
     "text": [
      "100%|████████████████████████████████████████████████████████████████████████████████████| 4/4 [00:00<00:00,  9.64it/s]\n"
     ]
    },
    {
     "name": "stdout",
     "output_type": "stream",
     "text": [
      "epoch 09, loss: 0.39079, acc: 0.89457, val_loss: 0.40194, val_accuracy: 0.89411\n"
     ]
    },
    {
     "name": "stderr",
     "output_type": "stream",
     "text": [
      "100%|████████████████████████████████████████████████████████████████████████████████████| 4/4 [00:00<00:00,  7.72it/s]\n"
     ]
    },
    {
     "name": "stdout",
     "output_type": "stream",
     "text": [
      "epoch 10, loss: 0.39059, acc: 0.89457, val_loss: 0.40229, val_accuracy: 0.89411\n"
     ]
    },
    {
     "name": "stderr",
     "output_type": "stream",
     "text": [
      "100%|████████████████████████████████████████████████████████████████████████████████████| 4/4 [00:00<00:00,  9.72it/s]\n"
     ]
    },
    {
     "name": "stdout",
     "output_type": "stream",
     "text": [
      "epoch 11, loss: 0.39040, acc: 0.89457, val_loss: 0.40252, val_accuracy: 0.89411\n"
     ]
    },
    {
     "name": "stderr",
     "output_type": "stream",
     "text": [
      "100%|████████████████████████████████████████████████████████████████████████████████████| 4/4 [00:00<00:00,  9.78it/s]\n"
     ]
    },
    {
     "name": "stdout",
     "output_type": "stream",
     "text": [
      "epoch 12, loss: 0.39017, acc: 0.89460, val_loss: 0.40276, val_accuracy: 0.89411\n"
     ]
    },
    {
     "name": "stderr",
     "output_type": "stream",
     "text": [
      "100%|████████████████████████████████████████████████████████████████████████████████████| 4/4 [00:00<00:00,  9.26it/s]\n"
     ]
    },
    {
     "name": "stdout",
     "output_type": "stream",
     "text": [
      "epoch 13, loss: 0.38994, acc: 0.89460, val_loss: 0.40311, val_accuracy: 0.89411\n"
     ]
    },
    {
     "name": "stderr",
     "output_type": "stream",
     "text": [
      "100%|████████████████████████████████████████████████████████████████████████████████████| 4/4 [00:00<00:00,  9.34it/s]\n"
     ]
    },
    {
     "name": "stdout",
     "output_type": "stream",
     "text": [
      "epoch 14, loss: 0.38972, acc: 0.89460, val_loss: 0.40350, val_accuracy: 0.89411\n"
     ]
    },
    {
     "name": "stderr",
     "output_type": "stream",
     "text": [
      "100%|████████████████████████████████████████████████████████████████████████████████████| 4/4 [00:00<00:00,  9.30it/s]\n"
     ]
    },
    {
     "name": "stdout",
     "output_type": "stream",
     "text": [
      "epoch 15, loss: 0.38951, acc: 0.89460, val_loss: 0.40384, val_accuracy: 0.89411\n"
     ]
    },
    {
     "name": "stderr",
     "output_type": "stream",
     "text": [
      "100%|████████████████████████████████████████████████████████████████████████████████████| 4/4 [00:00<00:00,  9.09it/s]\n"
     ]
    },
    {
     "name": "stdout",
     "output_type": "stream",
     "text": [
      "epoch 16, loss: 0.38929, acc: 0.89460, val_loss: 0.40412, val_accuracy: 0.89411\n"
     ]
    },
    {
     "name": "stderr",
     "output_type": "stream",
     "text": [
      "100%|████████████████████████████████████████████████████████████████████████████████████| 4/4 [00:00<00:00,  7.21it/s]\n"
     ]
    },
    {
     "name": "stdout",
     "output_type": "stream",
     "text": [
      "epoch 17, loss: 0.38906, acc: 0.89460, val_loss: 0.40436, val_accuracy: 0.89411\n"
     ]
    },
    {
     "name": "stderr",
     "output_type": "stream",
     "text": [
      "100%|████████████████████████████████████████████████████████████████████████████████████| 4/4 [00:00<00:00,  8.53it/s]\n"
     ]
    },
    {
     "name": "stdout",
     "output_type": "stream",
     "text": [
      "epoch 18, loss: 0.38884, acc: 0.89460, val_loss: 0.40458, val_accuracy: 0.89411\n"
     ]
    },
    {
     "name": "stderr",
     "output_type": "stream",
     "text": [
      "100%|████████████████████████████████████████████████████████████████████████████████████| 4/4 [00:00<00:00,  9.07it/s]\n"
     ]
    },
    {
     "name": "stdout",
     "output_type": "stream",
     "text": [
      "epoch 19, loss: 0.38863, acc: 0.89460, val_loss: 0.40479, val_accuracy: 0.89411\n"
     ]
    },
    {
     "name": "stderr",
     "output_type": "stream",
     "text": [
      "100%|████████████████████████████████████████████████████████████████████████████████████| 4/4 [00:00<00:00,  7.17it/s]\n"
     ]
    },
    {
     "name": "stdout",
     "output_type": "stream",
     "text": [
      "epoch 20, loss: 0.38842, acc: 0.89460, val_loss: 0.40500, val_accuracy: 0.89411\n"
     ]
    },
    {
     "name": "stderr",
     "output_type": "stream",
     "text": [
      "100%|████████████████████████████████████████████████████████████████████████████████████| 4/4 [00:00<00:00,  9.24it/s]\n"
     ]
    },
    {
     "name": "stdout",
     "output_type": "stream",
     "text": [
      "epoch 21, loss: 0.38820, acc: 0.89460, val_loss: 0.40518, val_accuracy: 0.89411\n"
     ]
    },
    {
     "name": "stderr",
     "output_type": "stream",
     "text": [
      "100%|████████████████████████████████████████████████████████████████████████████████████| 4/4 [00:00<00:00,  7.90it/s]\n"
     ]
    },
    {
     "name": "stdout",
     "output_type": "stream",
     "text": [
      "epoch 22, loss: 0.38799, acc: 0.89460, val_loss: 0.40539, val_accuracy: 0.89411\n"
     ]
    },
    {
     "name": "stderr",
     "output_type": "stream",
     "text": [
      "100%|████████████████████████████████████████████████████████████████████████████████████| 4/4 [00:00<00:00,  8.28it/s]\n"
     ]
    },
    {
     "name": "stdout",
     "output_type": "stream",
     "text": [
      "epoch 23, loss: 0.38779, acc: 0.89462, val_loss: 0.40561, val_accuracy: 0.89411\n"
     ]
    },
    {
     "name": "stderr",
     "output_type": "stream",
     "text": [
      "100%|████████████████████████████████████████████████████████████████████████████████████| 4/4 [00:00<00:00,  9.17it/s]\n"
     ]
    },
    {
     "name": "stdout",
     "output_type": "stream",
     "text": [
      "epoch 24, loss: 0.38758, acc: 0.89462, val_loss: 0.40579, val_accuracy: 0.89411\n"
     ]
    },
    {
     "name": "stderr",
     "output_type": "stream",
     "text": [
      "100%|████████████████████████████████████████████████████████████████████████████████████| 4/4 [00:00<00:00,  8.95it/s]\n"
     ]
    },
    {
     "name": "stdout",
     "output_type": "stream",
     "text": [
      "epoch 25, loss: 0.38737, acc: 0.89462, val_loss: 0.40594, val_accuracy: 0.89411\n"
     ]
    },
    {
     "name": "stderr",
     "output_type": "stream",
     "text": [
      "100%|████████████████████████████████████████████████████████████████████████████████████| 4/4 [00:00<00:00,  9.24it/s]\n"
     ]
    },
    {
     "name": "stdout",
     "output_type": "stream",
     "text": [
      "epoch 26, loss: 0.38716, acc: 0.89462, val_loss: 0.40610, val_accuracy: 0.89411\n"
     ]
    },
    {
     "name": "stderr",
     "output_type": "stream",
     "text": [
      "100%|████████████████████████████████████████████████████████████████████████████████████| 4/4 [00:00<00:00,  6.92it/s]\n"
     ]
    },
    {
     "name": "stdout",
     "output_type": "stream",
     "text": [
      "epoch 27, loss: 0.38695, acc: 0.89462, val_loss: 0.40629, val_accuracy: 0.89411\n"
     ]
    },
    {
     "name": "stderr",
     "output_type": "stream",
     "text": [
      "100%|████████████████████████████████████████████████████████████████████████████████████| 4/4 [00:00<00:00,  9.15it/s]\n"
     ]
    },
    {
     "name": "stdout",
     "output_type": "stream",
     "text": [
      "epoch 28, loss: 0.38675, acc: 0.89465, val_loss: 0.40649, val_accuracy: 0.89411\n"
     ]
    },
    {
     "name": "stderr",
     "output_type": "stream",
     "text": [
      "100%|████████████████████████████████████████████████████████████████████████████████████| 4/4 [00:00<00:00,  9.32it/s]\n"
     ]
    },
    {
     "name": "stdout",
     "output_type": "stream",
     "text": [
      "epoch 29, loss: 0.38656, acc: 0.89468, val_loss: 0.40665, val_accuracy: 0.89411\n"
     ]
    },
    {
     "name": "stderr",
     "output_type": "stream",
     "text": [
      "100%|████████████████████████████████████████████████████████████████████████████████████| 4/4 [00:00<00:00,  6.87it/s]\n"
     ]
    },
    {
     "name": "stdout",
     "output_type": "stream",
     "text": [
      "epoch 30, loss: 0.38636, acc: 0.89468, val_loss: 0.40681, val_accuracy: 0.89411\n"
     ]
    },
    {
     "name": "stderr",
     "output_type": "stream",
     "text": [
      "100%|████████████████████████████████████████████████████████████████████████████████████| 4/4 [00:00<00:00,  7.44it/s]\n"
     ]
    },
    {
     "name": "stdout",
     "output_type": "stream",
     "text": [
      "epoch 31, loss: 0.38615, acc: 0.89468, val_loss: 0.40698, val_accuracy: 0.89411\n"
     ]
    },
    {
     "name": "stderr",
     "output_type": "stream",
     "text": [
      "100%|████████████████████████████████████████████████████████████████████████████████████| 4/4 [00:00<00:00,  8.67it/s]\n"
     ]
    },
    {
     "name": "stdout",
     "output_type": "stream",
     "text": [
      "epoch 32, loss: 0.38596, acc: 0.89468, val_loss: 0.40716, val_accuracy: 0.89411\n"
     ]
    },
    {
     "name": "stderr",
     "output_type": "stream",
     "text": [
      "100%|████████████████████████████████████████████████████████████████████████████████████| 4/4 [00:00<00:00,  9.30it/s]\n"
     ]
    },
    {
     "name": "stdout",
     "output_type": "stream",
     "text": [
      "epoch 33, loss: 0.38575, acc: 0.89468, val_loss: 0.40738, val_accuracy: 0.89411\n"
     ]
    },
    {
     "name": "stderr",
     "output_type": "stream",
     "text": [
      "100%|████████████████████████████████████████████████████████████████████████████████████| 4/4 [00:00<00:00,  8.85it/s]\n"
     ]
    },
    {
     "name": "stdout",
     "output_type": "stream",
     "text": [
      "epoch 34, loss: 0.38555, acc: 0.89468, val_loss: 0.40760, val_accuracy: 0.89411\n"
     ]
    },
    {
     "name": "stderr",
     "output_type": "stream",
     "text": [
      "100%|████████████████████████████████████████████████████████████████████████████████████| 4/4 [00:00<00:00,  8.37it/s]\n"
     ]
    },
    {
     "name": "stdout",
     "output_type": "stream",
     "text": [
      "epoch 35, loss: 0.38535, acc: 0.89468, val_loss: 0.40781, val_accuracy: 0.89411\n"
     ]
    },
    {
     "name": "stderr",
     "output_type": "stream",
     "text": [
      "100%|████████████████████████████████████████████████████████████████████████████████████| 4/4 [00:00<00:00,  8.91it/s]\n"
     ]
    },
    {
     "name": "stdout",
     "output_type": "stream",
     "text": [
      "epoch 36, loss: 0.38514, acc: 0.89468, val_loss: 0.40795, val_accuracy: 0.89411\n"
     ]
    },
    {
     "name": "stderr",
     "output_type": "stream",
     "text": [
      "100%|████████████████████████████████████████████████████████████████████████████████████| 4/4 [00:00<00:00,  9.13it/s]\n"
     ]
    },
    {
     "name": "stdout",
     "output_type": "stream",
     "text": [
      "epoch 37, loss: 0.38495, acc: 0.89468, val_loss: 0.40806, val_accuracy: 0.89411\n"
     ]
    },
    {
     "name": "stderr",
     "output_type": "stream",
     "text": [
      "100%|████████████████████████████████████████████████████████████████████████████████████| 4/4 [00:00<00:00,  6.98it/s]\n"
     ]
    },
    {
     "name": "stdout",
     "output_type": "stream",
     "text": [
      "epoch 38, loss: 0.38474, acc: 0.89468, val_loss: 0.40822, val_accuracy: 0.89411\n"
     ]
    },
    {
     "name": "stderr",
     "output_type": "stream",
     "text": [
      "100%|████████████████████████████████████████████████████████████████████████████████████| 4/4 [00:00<00:00,  7.77it/s]\n"
     ]
    },
    {
     "name": "stdout",
     "output_type": "stream",
     "text": [
      "epoch 39, loss: 0.38454, acc: 0.89468, val_loss: 0.40846, val_accuracy: 0.89411\n"
     ]
    },
    {
     "name": "stderr",
     "output_type": "stream",
     "text": [
      "100%|████████████████████████████████████████████████████████████████████████████████████| 4/4 [00:00<00:00,  8.44it/s]\n"
     ]
    },
    {
     "name": "stdout",
     "output_type": "stream",
     "text": [
      "epoch 40, loss: 0.38432, acc: 0.89468, val_loss: 0.40869, val_accuracy: 0.89411\n"
     ]
    },
    {
     "name": "stderr",
     "output_type": "stream",
     "text": [
      "100%|████████████████████████████████████████████████████████████████████████████████████| 4/4 [00:00<00:00,  9.05it/s]\n"
     ]
    },
    {
     "name": "stdout",
     "output_type": "stream",
     "text": [
      "epoch 41, loss: 0.38412, acc: 0.89468, val_loss: 0.40886, val_accuracy: 0.89411\n"
     ]
    },
    {
     "name": "stderr",
     "output_type": "stream",
     "text": [
      "100%|████████████████████████████████████████████████████████████████████████████████████| 4/4 [00:00<00:00,  8.62it/s]\n"
     ]
    },
    {
     "name": "stdout",
     "output_type": "stream",
     "text": [
      "epoch 42, loss: 0.38391, acc: 0.89468, val_loss: 0.40899, val_accuracy: 0.89411\n"
     ]
    },
    {
     "name": "stderr",
     "output_type": "stream",
     "text": [
      "100%|████████████████████████████████████████████████████████████████████████████████████| 4/4 [00:00<00:00,  8.31it/s]\n"
     ]
    },
    {
     "name": "stdout",
     "output_type": "stream",
     "text": [
      "epoch 43, loss: 0.38371, acc: 0.89468, val_loss: 0.40911, val_accuracy: 0.89411\n"
     ]
    },
    {
     "name": "stderr",
     "output_type": "stream",
     "text": [
      "100%|████████████████████████████████████████████████████████████████████████████████████| 4/4 [00:00<00:00,  9.07it/s]\n"
     ]
    },
    {
     "name": "stdout",
     "output_type": "stream",
     "text": [
      "epoch 44, loss: 0.38351, acc: 0.89468, val_loss: 0.40929, val_accuracy: 0.89411\n"
     ]
    },
    {
     "name": "stderr",
     "output_type": "stream",
     "text": [
      "100%|████████████████████████████████████████████████████████████████████████████████████| 4/4 [00:00<00:00,  7.19it/s]\n"
     ]
    },
    {
     "name": "stdout",
     "output_type": "stream",
     "text": [
      "epoch 45, loss: 0.38329, acc: 0.89465, val_loss: 0.40957, val_accuracy: 0.89438\n"
     ]
    },
    {
     "name": "stderr",
     "output_type": "stream",
     "text": [
      "100%|████████████████████████████████████████████████████████████████████████████████████| 4/4 [00:00<00:00,  8.75it/s]\n"
     ]
    },
    {
     "name": "stdout",
     "output_type": "stream",
     "text": [
      "epoch 46, loss: 0.38310, acc: 0.89465, val_loss: 0.40977, val_accuracy: 0.89438\n"
     ]
    },
    {
     "name": "stderr",
     "output_type": "stream",
     "text": [
      "100%|████████████████████████████████████████████████████████████████████████████████████| 4/4 [00:00<00:00,  6.65it/s]\n"
     ]
    },
    {
     "name": "stdout",
     "output_type": "stream",
     "text": [
      "epoch 47, loss: 0.38288, acc: 0.89465, val_loss: 0.40990, val_accuracy: 0.89438\n"
     ]
    },
    {
     "name": "stderr",
     "output_type": "stream",
     "text": [
      "100%|████████████████████████████████████████████████████████████████████████████████████| 4/4 [00:00<00:00,  6.99it/s]\n"
     ]
    },
    {
     "name": "stdout",
     "output_type": "stream",
     "text": [
      "epoch 48, loss: 0.38265, acc: 0.89465, val_loss: 0.40999, val_accuracy: 0.89438\n"
     ]
    },
    {
     "name": "stderr",
     "output_type": "stream",
     "text": [
      "100%|████████████████████████████████████████████████████████████████████████████████████| 4/4 [00:00<00:00,  8.99it/s]\n"
     ]
    },
    {
     "name": "stdout",
     "output_type": "stream",
     "text": [
      "epoch 49, loss: 0.38243, acc: 0.89468, val_loss: 0.41011, val_accuracy: 0.89438\n"
     ]
    },
    {
     "name": "stderr",
     "output_type": "stream",
     "text": [
      "  0%|                                                                                            | 0/4 [00:00<?, ?it/s]\n"
     ]
    },
    {
     "ename": "KeyboardInterrupt",
     "evalue": "",
     "output_type": "error",
     "traceback": [
      "\u001b[1;31m---------------------------------------------------------------------------\u001b[0m",
      "\u001b[1;31mKeyboardInterrupt\u001b[0m                         Traceback (most recent call last)",
      "\u001b[1;32m~\\AppData\\Local\\Temp\\ipykernel_28520\\3964641872.py\u001b[0m in \u001b[0;36m<module>\u001b[1;34m\u001b[0m\n\u001b[0;32m    213\u001b[0m         \u001b[1;31m# Model Training\u001b[0m\u001b[1;33m\u001b[0m\u001b[1;33m\u001b[0m\u001b[1;33m\u001b[0m\u001b[0m\n\u001b[0;32m    214\u001b[0m         \u001b[1;31m# 훈련 손실과 정확도를 반환 받습니다.\u001b[0m\u001b[1;33m\u001b[0m\u001b[1;33m\u001b[0m\u001b[1;33m\u001b[0m\u001b[0m\n\u001b[1;32m--> 215\u001b[1;33m         \u001b[0mtrain_loss\u001b[0m\u001b[1;33m,\u001b[0m \u001b[0mtrain_acc\u001b[0m \u001b[1;33m=\u001b[0m \u001b[0mmodel_train\u001b[0m\u001b[1;33m(\u001b[0m\u001b[0mmodel\u001b[0m\u001b[1;33m,\u001b[0m \u001b[0mtrain_dataloader\u001b[0m\u001b[1;33m,\u001b[0m \u001b[0mloss_fn\u001b[0m\u001b[1;33m,\u001b[0m \u001b[0moptimizer\u001b[0m\u001b[1;33m,\u001b[0m \u001b[0mdevice\u001b[0m\u001b[1;33m)\u001b[0m\u001b[1;33m\u001b[0m\u001b[1;33m\u001b[0m\u001b[0m\n\u001b[0m\u001b[0;32m    216\u001b[0m \u001b[1;33m\u001b[0m\u001b[0m\n\u001b[0;32m    217\u001b[0m         \u001b[1;31m# 검증 손실과 검증 정확도를 반환 받습니다.\u001b[0m\u001b[1;33m\u001b[0m\u001b[1;33m\u001b[0m\u001b[1;33m\u001b[0m\u001b[0m\n",
      "\u001b[1;32m~\\AppData\\Local\\Temp\\ipykernel_28520\\3964641872.py\u001b[0m in \u001b[0;36mmodel_train\u001b[1;34m(model, data_loader, loss_fn, optimizer, device)\u001b[0m\n\u001b[0;32m     51\u001b[0m \u001b[1;33m\u001b[0m\u001b[0m\n\u001b[0;32m     52\u001b[0m     \u001b[1;31m# mini-batch 학습을 시작합니다.\u001b[0m\u001b[1;33m\u001b[0m\u001b[1;33m\u001b[0m\u001b[1;33m\u001b[0m\u001b[0m\n\u001b[1;32m---> 53\u001b[1;33m     \u001b[1;32mfor\u001b[0m \u001b[0mdata\u001b[0m\u001b[1;33m,\u001b[0m \u001b[0mlbl\u001b[0m \u001b[1;32min\u001b[0m \u001b[0mprograss_bar\u001b[0m\u001b[1;33m:\u001b[0m\u001b[1;33m\u001b[0m\u001b[1;33m\u001b[0m\u001b[0m\n\u001b[0m\u001b[0;32m     54\u001b[0m         \u001b[1;31m# image, label 데이터를 device에 올립니다.\u001b[0m\u001b[1;33m\u001b[0m\u001b[1;33m\u001b[0m\u001b[1;33m\u001b[0m\u001b[0m\n\u001b[0;32m     55\u001b[0m         \u001b[0mdata\u001b[0m\u001b[1;33m,\u001b[0m \u001b[0mlbl\u001b[0m \u001b[1;33m=\u001b[0m \u001b[0mdata\u001b[0m\u001b[1;33m.\u001b[0m\u001b[0mto\u001b[0m\u001b[1;33m(\u001b[0m\u001b[0mdevice\u001b[0m\u001b[1;33m)\u001b[0m\u001b[1;33m,\u001b[0m \u001b[0mlbl\u001b[0m\u001b[1;33m.\u001b[0m\u001b[0mto\u001b[0m\u001b[1;33m(\u001b[0m\u001b[0mdevice\u001b[0m\u001b[1;33m)\u001b[0m\u001b[1;33m\u001b[0m\u001b[1;33m\u001b[0m\u001b[0m\n",
      "\u001b[1;32m~\\Anaconda3\\envs\\jm\\lib\\site-packages\\tqdm\\std.py\u001b[0m in \u001b[0;36m__iter__\u001b[1;34m(self)\u001b[0m\n\u001b[0;32m   1176\u001b[0m \u001b[1;33m\u001b[0m\u001b[0m\n\u001b[0;32m   1177\u001b[0m         \u001b[1;32mtry\u001b[0m\u001b[1;33m:\u001b[0m\u001b[1;33m\u001b[0m\u001b[1;33m\u001b[0m\u001b[0m\n\u001b[1;32m-> 1178\u001b[1;33m             \u001b[1;32mfor\u001b[0m \u001b[0mobj\u001b[0m \u001b[1;32min\u001b[0m \u001b[0miterable\u001b[0m\u001b[1;33m:\u001b[0m\u001b[1;33m\u001b[0m\u001b[1;33m\u001b[0m\u001b[0m\n\u001b[0m\u001b[0;32m   1179\u001b[0m                 \u001b[1;32myield\u001b[0m \u001b[0mobj\u001b[0m\u001b[1;33m\u001b[0m\u001b[1;33m\u001b[0m\u001b[0m\n\u001b[0;32m   1180\u001b[0m                 \u001b[1;31m# Update and possibly print the progressbar.\u001b[0m\u001b[1;33m\u001b[0m\u001b[1;33m\u001b[0m\u001b[1;33m\u001b[0m\u001b[0m\n",
      "\u001b[1;32m~\\Anaconda3\\envs\\jm\\lib\\site-packages\\torch\\utils\\data\\dataloader.py\u001b[0m in \u001b[0;36m__next__\u001b[1;34m(self)\u001b[0m\n\u001b[0;32m    433\u001b[0m         \u001b[1;32mif\u001b[0m \u001b[0mself\u001b[0m\u001b[1;33m.\u001b[0m\u001b[0m_sampler_iter\u001b[0m \u001b[1;32mis\u001b[0m \u001b[1;32mNone\u001b[0m\u001b[1;33m:\u001b[0m\u001b[1;33m\u001b[0m\u001b[1;33m\u001b[0m\u001b[0m\n\u001b[0;32m    434\u001b[0m             \u001b[0mself\u001b[0m\u001b[1;33m.\u001b[0m\u001b[0m_reset\u001b[0m\u001b[1;33m(\u001b[0m\u001b[1;33m)\u001b[0m\u001b[1;33m\u001b[0m\u001b[1;33m\u001b[0m\u001b[0m\n\u001b[1;32m--> 435\u001b[1;33m         \u001b[0mdata\u001b[0m \u001b[1;33m=\u001b[0m \u001b[0mself\u001b[0m\u001b[1;33m.\u001b[0m\u001b[0m_next_data\u001b[0m\u001b[1;33m(\u001b[0m\u001b[1;33m)\u001b[0m\u001b[1;33m\u001b[0m\u001b[1;33m\u001b[0m\u001b[0m\n\u001b[0m\u001b[0;32m    436\u001b[0m         \u001b[0mself\u001b[0m\u001b[1;33m.\u001b[0m\u001b[0m_num_yielded\u001b[0m \u001b[1;33m+=\u001b[0m \u001b[1;36m1\u001b[0m\u001b[1;33m\u001b[0m\u001b[1;33m\u001b[0m\u001b[0m\n\u001b[0;32m    437\u001b[0m         \u001b[1;32mif\u001b[0m \u001b[0mself\u001b[0m\u001b[1;33m.\u001b[0m\u001b[0m_dataset_kind\u001b[0m \u001b[1;33m==\u001b[0m \u001b[0m_DatasetKind\u001b[0m\u001b[1;33m.\u001b[0m\u001b[0mIterable\u001b[0m \u001b[1;32mand\u001b[0m\u001b[0;31m \u001b[0m\u001b[0;31m\\\u001b[0m\u001b[1;33m\u001b[0m\u001b[1;33m\u001b[0m\u001b[0m\n",
      "\u001b[1;32m~\\Anaconda3\\envs\\jm\\lib\\site-packages\\torch\\utils\\data\\dataloader.py\u001b[0m in \u001b[0;36m_next_data\u001b[1;34m(self)\u001b[0m\n\u001b[0;32m    474\u001b[0m         \u001b[0mindex\u001b[0m \u001b[1;33m=\u001b[0m \u001b[0mself\u001b[0m\u001b[1;33m.\u001b[0m\u001b[0m_next_index\u001b[0m\u001b[1;33m(\u001b[0m\u001b[1;33m)\u001b[0m  \u001b[1;31m# may raise StopIteration\u001b[0m\u001b[1;33m\u001b[0m\u001b[1;33m\u001b[0m\u001b[0m\n\u001b[0;32m    475\u001b[0m         \u001b[0mdata\u001b[0m \u001b[1;33m=\u001b[0m \u001b[0mself\u001b[0m\u001b[1;33m.\u001b[0m\u001b[0m_dataset_fetcher\u001b[0m\u001b[1;33m.\u001b[0m\u001b[0mfetch\u001b[0m\u001b[1;33m(\u001b[0m\u001b[0mindex\u001b[0m\u001b[1;33m)\u001b[0m  \u001b[1;31m# may raise StopIteration\u001b[0m\u001b[1;33m\u001b[0m\u001b[1;33m\u001b[0m\u001b[0m\n\u001b[1;32m--> 476\u001b[1;33m         \u001b[1;32mif\u001b[0m \u001b[0mself\u001b[0m\u001b[1;33m.\u001b[0m\u001b[0m_pin_memory\u001b[0m\u001b[1;33m:\u001b[0m\u001b[1;33m\u001b[0m\u001b[1;33m\u001b[0m\u001b[0m\n\u001b[0m\u001b[0;32m    477\u001b[0m             \u001b[0mdata\u001b[0m \u001b[1;33m=\u001b[0m \u001b[0m_utils\u001b[0m\u001b[1;33m.\u001b[0m\u001b[0mpin_memory\u001b[0m\u001b[1;33m.\u001b[0m\u001b[0mpin_memory\u001b[0m\u001b[1;33m(\u001b[0m\u001b[0mdata\u001b[0m\u001b[1;33m)\u001b[0m\u001b[1;33m\u001b[0m\u001b[1;33m\u001b[0m\u001b[0m\n\u001b[0;32m    478\u001b[0m         \u001b[1;32mreturn\u001b[0m \u001b[0mdata\u001b[0m\u001b[1;33m\u001b[0m\u001b[1;33m\u001b[0m\u001b[0m\n",
      "\u001b[1;31mKeyboardInterrupt\u001b[0m: "
     ]
    }
   ],
   "source": [
    "from sklearn.model_selection import StratifiedKFold\n",
    "skf=StratifiedKFold(n_splits=10)\n",
    "skf.get_n_splits(X_train_over,y_train_over)\n",
    "\n",
    "import torch.nn as nn\n",
    "import torch.nn.functional as F\n",
    "import torch.optim as optim\n",
    "\n",
    "class DNNModel(nn.Module):\n",
    "    def __init__(self):\n",
    "        super(DNNModel, self).__init__()\n",
    "        self.input_layer = nn.Linear(6, 128)\n",
    "        self.hidden_layer1 = nn.Linear(128, 256)\n",
    "        self.hidden_layer2 = nn.Linear(256, 128)\n",
    "        self.output_layer   = nn.Linear(128,3)\n",
    "        self.relu = nn.ReLU()\n",
    "\n",
    "\n",
    "\n",
    "    def forward(self, x):\n",
    "        out =  self.relu(self.input_layer(x))\n",
    "        out =  self.relu(self.hidden_layer1(out))\n",
    "        out =  self.relu(self.hidden_layer2(out))\n",
    "        out =  self.output_layer(out)\n",
    "        return out \n",
    "\n",
    "\n",
    "\n",
    "# device 설정 (cuda:0 혹은 cpu)\n",
    "device = torch.device(\"cuda:0\" if torch.cuda.is_available() else \"cpu\")\n",
    "model = DNNModel() # Model 생성\n",
    "model.to(device)   # device 에 로드 (cpu or cuda)\n",
    "\n",
    "# 옵티마이저를 정의합니다. 옵티마이저에는 model.parameters()를 지정해야 합니다.\n",
    "optimizer = optim.Adam(model.parameters(), lr=0.001)\n",
    "\n",
    "# 손실함수(loss function)을 지정합니다. Multi-Class Classification 이기 때문에 CrossEntropy 손실을 지정하였습니다.\n",
    "loss_fn = nn.CrossEntropyLoss()\n",
    "\n",
    "from tqdm import tqdm  # Progress Bar 출력\n",
    "\n",
    "def model_train(model, data_loader, loss_fn, optimizer, device):\n",
    "    # 모델을 훈련모드로 설정합니다. training mode 일 때 Gradient 가 업데이트 됩니다. 반드시 train()으로 모드 변경을 해야 합니다.\n",
    "    model.train()\n",
    "    # loss와 accuracy 계산을 위한 임시 변수 입니다. 0으로 초기화합니다.\n",
    "    running_loss = 0\n",
    "    corr = 0\n",
    "\n",
    "    # 예쁘게 Progress Bar를 출력하면서 훈련 상태를 모니터링 하기 위하여 tqdm으로 래핑합니다.\n",
    "    prograss_bar = tqdm(data_loader)\n",
    "\n",
    "    # mini-batch 학습을 시작합니다.\n",
    "    for data, lbl in prograss_bar:\n",
    "        # image, label 데이터를 device에 올립니다.\n",
    "        data, lbl = data.to(device), lbl.to(device)\n",
    "        # 누적 Gradient를 초기화 합니다.\n",
    "        optimizer.zero_grad()\n",
    "\n",
    "        # Forward Propagation을 진행하여 결과를 얻습니다.\n",
    "        output = model(data)\n",
    "\n",
    "        # 손실함수에 output, label 값을 대입하여 손실을 계산합니다.\n",
    "        loss = loss_fn(output, lbl)\n",
    "        # 오차역전파(Back Propagation)을 진행하여 미분 값을 계산합니다.\n",
    "        loss.backward()\n",
    "\n",
    "        # 계산된 Gradient를 업데이트 합니다.\n",
    "        optimizer.step()\n",
    "\n",
    "        # output의 max(dim=1)은 max probability와 max index를 반환합니다.\n",
    "        # max probability는 무시하고, max index는 pred에 저장하여 label 값과 대조하여 정확도를 도출합니다.\n",
    "        _, pred = output.max(dim=1)\n",
    "        # pred.eq(lbl).sum() 은 정확히 맞춘 label의 합계를 계산합니다. item()은 tensor에서 값을 추출합니다.\n",
    "        # 합계는 corr 변수에 누적합니다.\n",
    "        corr += pred.eq(lbl).sum().item()\n",
    "        \n",
    "        # loss 값은 1개 배치의 평균 손실(loss) 입니다. data.size(0)은 배치사이즈(batch size) 입니다.\n",
    "        # loss 와 data.size(0)를 곱하면 1개 배치의 전체 loss가 계산됩니다.\n",
    "        # 이를 누적한 뒤 Epoch 종료시 전체 데이터셋의 개수로 나누어 평균 loss를 산출합니다.\n",
    "        running_loss += loss.item() * data.size(0)\n",
    "\n",
    "    # 누적된 정답수를 전체 개수로 나누어 주면 정확도가 산출됩니다.\n",
    "    acc = corr / len(data_loader.dataset)\n",
    "    # 평균 손실(loss)과 정확도를 반환합니다.\n",
    "    # train_loss, train_acc\n",
    "    return running_loss / len(data_loader.dataset), acc\n",
    "\n",
    "def model_evaluate(model, data_loader, loss_fn, device):\n",
    "    # model.eval()은 모델을 평가모드로 설정을 바꾸어 줍니다. \n",
    "    # dropout과 같은 layer의 역할 변경을 위하여 evaluation 진행시 꼭 필요한 절차 입니다.\n",
    "    model.eval()\n",
    "    # Gradient가 업데이트 되는 것을 방지 하기 위하여 반드시 필요합니다.\n",
    "    with torch.no_grad():\n",
    "        # loss와 accuracy 계산을 위한 임시 변수 입니다. 0으로 초기화합니다.\n",
    "        corr = 0\n",
    "        running_loss = 0\n",
    "\n",
    "        # 배치별 evaluation을 진행합니다.\n",
    "        for data, lbl in data_loader:\n",
    "            # device에 데이터를 올립니다.\n",
    "            data, lbl = data.to(device), lbl.to(device)\n",
    "\n",
    "            # 모델에 Forward Propagation을 하여 결과를 도출합니다.\n",
    "            output = model(data)\n",
    "\n",
    "            # output의 max(dim=1)은 max probability와 max index를 반환합니다.\n",
    "            # max probability는 무시하고, max index는 pred에 저장하여 label 값과 대조하여 정확도를 도출합니다.\n",
    "            _, pred = output.max(dim=1)\n",
    "            \n",
    "\n",
    "            # pred.eq(lbl).sum() 은 정확히 맞춘 label의 합계를 계산합니다. item()은 tensor에서 값을 추출합니다.\n",
    "            # 합계는 corr 변수에 누적합니다.\n",
    "            corr += torch.sum(pred.eq(lbl)).item()\n",
    "            \n",
    "            # loss 값은 1개 배치의 평균 손실(loss) 입니다. data.size(0)은 배치사이즈(batch size) 입니다.\n",
    "            # loss 와 data.size(0)를 곱하면 1개 배치의 전체 loss가 계산됩니다.\n",
    "            # 이를 누적한 뒤 Epoch 종료시 전체 데이터셋의 개수로 나누어 평균 loss를 산출합니다.\n",
    "            running_loss += loss_fn(output, lbl).item() * data.size(0)\n",
    "\n",
    "        # validation 정확도를 계산합니다.\n",
    "        # 누적한 정답숫자를 전체 데이터셋의 숫자로 나누어 최종 accuracy를 산출합니다.\n",
    "        acc = corr / len(data_loader.dataset)\n",
    "\n",
    "        # 결과를 반환합니다.\n",
    "        # val_loss, val_acc\n",
    "        return running_loss / len(data_loader.dataset), acc\n",
    "\n",
    "def model_test(model, data_loader, loss_fn, device):\n",
    "    # model.eval()은 모델을 평가모드로 설정을 바꾸어 줍니다. \n",
    "    # dropout과 같은 layer의 역할 변경을 위하여 evaluation 진행시 꼭 필요한 절차 입니다.\n",
    "    model.eval()\n",
    "    pred_list=[]\n",
    "    # Gradient가 업데이트 되는 것을 방지 하기 위하여 반드시 필요합니다.\n",
    "    with torch.no_grad():\n",
    "        # loss와 accuracy 계산을 위한 임시 변수 입니다. 0으로 초기화합니다.\n",
    "        corr = 0\n",
    "        running_loss = 0\n",
    "\n",
    "        # 배치별 evaluation을 진행합니다.\n",
    "        for data, lbl in data_loader:\n",
    "            # device에 데이터를 올립니다.\n",
    "            data, lbl = data.to(device), lbl.to(device)\n",
    "\n",
    "            # 모델에 Forward Propagation을 하여 결과를 도출합니다.\n",
    "            output = model(data)\n",
    "            \n",
    "            \n",
    "            # output의 max(dim=1)은 max probability와 max index를 반환합니다.\n",
    "            # max probability는 무시하고, max index는 pred에 저장하여 label 값과 대조하여 정확도를 도출합니다.\n",
    "            _, pred = output.max(dim=1)\n",
    "            pred_array = pred.tolist()\n",
    "            pred_list.append(pred_array) # confusion matrix를 위해 pred 리턴 값\n",
    "            # pred.eq(lbl).sum() 은 정확히 맞춘 label의 합계를 계산합니다. item()은 tensor에서 값을 추출합니다.\n",
    "            # 합계는 corr 변수에 누적합니다.\n",
    "            corr += torch.sum(pred.eq(lbl)).item()\n",
    "            \n",
    "            # loss 값은 1개 배치의 평균 손실(loss) 입니다. data.size(0)은 배치사이즈(batch size) 입니다.\n",
    "            # loss 와 data.size(0)를 곱하면 1개 배치의 전체 loss가 계산됩니다.\n",
    "            # 이를 누적한 뒤 Epoch 종료시 전체 데이터셋의 개수로 나누어 평균 loss를 산출합니다.\n",
    "            running_loss += loss_fn(output, lbl).item() * data.size(0)\n",
    "\n",
    "        # validation 정확도를 계산합니다.\n",
    "        # 누적한 정답숫자를 전체 데이터셋의 숫자로 나누어 최종 accuracy를 산출합니다.\n",
    "        acc = corr / len(data_loader.dataset)\n",
    "\n",
    "        # 결과를 반환합니다.\n",
    "        # val_loss, val_acc\n",
    "        return running_loss / len(data_loader.dataset), acc, pred_list\n",
    "\n",
    "# X_test=pd.DataFrame()\n",
    "# X_train=pd.DataFrame()\n",
    "# y_test=pd.DataFrame()\n",
    "# y_train=pd.DataFrame()\n",
    "# empty=pd.DataFrame()\n",
    "\n",
    "#결과 넣을 배열\n",
    "Result=[[0 for j in range(4)] for i in range(10)]\n",
    "\n",
    "from sklearn.model_selection import StratifiedKFold\n",
    "skf=StratifiedKFold(n_splits=10)\n",
    "\n",
    "#결과 넣을 배열\n",
    "Result=[[0 for j in range(4)] for i in range(10)]\n",
    "CMResult=[[[0 for k in range(3)]for j in range(3)] for i in range(10)]\n",
    "skf.get_n_splits(X_train_over,y_train_over)\n",
    "\n",
    "i=0\n",
    "for tfold, (train_index, test_index) in enumerate(skf.split(X_train_over, y_train_over)):\n",
    "    #모델 정의, 예측\n",
    "\n",
    "    X_train, X_test = X_train_over[train_index], X_train_over[test_index]\n",
    "    y_train, y_test = y_train_over[train_index], y_train_over[test_index]\n",
    "\n",
    "    #DNN\n",
    "    X_train = torch.FloatTensor(X_train)\n",
    "    X_test = torch.FloatTensor(X_test)\n",
    "    y_train = torch.LongTensor(y_train.to_numpy())\n",
    "    y_test = torch.LongTensor(y_test.to_numpy())\n",
    "\n",
    "    train_dataset = TensorDataset(X_train, y_train)\n",
    "    test_dataset=TensorDataset(X_test, y_test)\n",
    "\n",
    "    train_dataloader = DataLoader(train_dataset, batch_size=10000,shuffle=False)\n",
    "    test_dataloader = DataLoader(test_dataset, batch_size=5000,shuffle=False)\n",
    "\n",
    "    # 최대 Epoch을 지정합니다.\n",
    "    num_epochs = 500\n",
    "    min_loss = 9999999999999\n",
    "    loss_list=[]\n",
    "    acc_list=[]\n",
    "    # Epoch 별 훈련 및 검증을 수행합니다.\n",
    "    for epoch in range(num_epochs):\n",
    "        # Model Training\n",
    "        # 훈련 손실과 정확도를 반환 받습니다.\n",
    "        train_loss, train_acc = model_train(model, train_dataloader, loss_fn, optimizer, device)\n",
    "\n",
    "        # 검증 손실과 검증 정확도를 반환 받습니다.\n",
    "        val_loss, val_acc = model_evaluate(model, test_dataloader, loss_fn, device)   \n",
    "\n",
    "        # val_loss 가 개선되었다면 min_loss를 갱신하고 model의 가중치(weights)를 저장합니다.\n",
    "        if val_loss < min_loss:\n",
    "                print(f'[INFO] val_acc has been improved from {min_loss:.5f} to {val_loss:.5f}. Saving Model!')\n",
    "                min_loss = val_loss\n",
    "                torch.save(model.state_dict(), 'DNNModel.pth')\n",
    "\n",
    "        # Epoch 별 결과를 출력합니다.\n",
    "        print(f'epoch {epoch+1:02d}, loss: {train_loss:.5f}, acc: {train_acc:.5f}, val_loss: {val_loss:.5f}, val_accuracy: {val_acc:.5f}')\n",
    "        loss_list.append(train_loss)\n",
    "        acc_list.append(train_acc)\n",
    "    ## 저장한 가중치 로드 후 검증 성능 측정\n",
    "\n",
    "    # 모델에 저장한 가중치를 로드합니다.\n",
    "    model.load_state_dict(torch.load('DNNModel.pth'))\n",
    "\n",
    "    # 최종 검증 손실(validation loss)와 검증 정확도(validation accuracy)를 산출합니다.\n",
    "    print(\"{}번째 교차검증\".format(tfold))\n",
    "    final_loss, final_acc, y_predicted = model_test(model, test_dataloader, loss_fn, device)\n",
    "    print(f'evaluation loss: {final_loss:.5f}, evaluation accuracy: {final_acc:.5f}')   \n",
    "\n",
    "    X_train, X_test = X_train_over[train_index], X_train_over[test_index]\n",
    "    y_train, y_test = y_train_over[train_index], y_train_over[test_index]\n",
    "\n",
    "#     ## 원핫 인코딩\n",
    "#     y_train=pd.get_dummies(y_train)\n",
    "#     y_test=pd.get_dummies(y_test)\n",
    "\n",
    "\n",
    "    # LogisticRegression\n",
    "    lr = LogisticRegression(solver='liblinear', random_state=0)\n",
    "    lr.fit(X_train, y_train)\n",
    "    linear_pred = lr.predict(X_test)\n",
    "    # linear_pred = lr.predict(X_train)\n",
    "    \n",
    "    # RidgeClassifier\n",
    "    clf = RidgeClassifier(alpha=1.0)\n",
    "    clf.fit(X_train, y_train)\n",
    "    ridge_pred = clf.predict(X_test)\n",
    "    # ridge_pred = clf.predict(X_train)\n",
    "    \n",
    "    # RandomForestClassifier\n",
    "    regr = RandomForestClassifier(max_depth=6, random_state=0)\n",
    "    regr.fit(X_train, y_train)\n",
    "    regr_pred = regr.predict(X_test)\n",
    "    # regr_pred = regr.predict(X_train)\n",
    "    \n",
    "    # GradientBoostingClassifier\n",
    "    reg = GradientBoostingClassifier(random_state=0)\n",
    "    reg.fit(X_train, y_train)\n",
    "    reg_pred = reg.predict(X_test)\n",
    "    # reg_pred = reg.predict(X_train)\n",
    "    \n",
    "    # DNN 결과값 넘파이 배열로 변환\n",
    "    y_predicted_t=sum(y_predicted, [])\n",
    "    DNN_y_predicted=np.array(y_predicted_t)\n",
    "\n",
    "    # 최종모델\n",
    "#     lgbm = LGBMClassifier()\n",
    "    CatBoost = CatBoostClassifier(iterations=1000,\n",
    "                           task_type=\"GPU\",\n",
    "                           devices='0:1')\n",
    "    new_data = np.array([linear_pred.squeeze(),ridge_pred.squeeze(),regr_pred.squeeze(),reg_pred.squeeze(),DNN_y_predicted.squeeze()])\n",
    "    # new_data = np.array([linear_pred,ridge_pred,regr_pred,reg_pred,DNN_y_predicted])\n",
    "    print(new_data.shape)\n",
    "\n",
    "    new_data = np.transpose(new_data)\n",
    "    print(new_data.shape)\n",
    "\n",
    "    #y_test를 파이토치에서 넘파이 배열로 변환\n",
    "    y_test=np.array(y_test)\n",
    "    \n",
    "    #lgbm 학습하기\n",
    "    CatBoost.fit(new_data,y_test)\n",
    "    # lgbm.fit(new_data, y_train)\n",
    "    \n",
    "    #LGBMClassifier 예측하기\n",
    "    CatBoost_pred = CatBoost.predict(new_data)\n",
    "    # lgbm_pred = lgbm.predict(X_test)\n",
    "\n",
    "    print('Stacking ensemble (ML+DNN):',len(CatBoost_pred))\n",
    "    \n",
    "    \n",
    "    accuracy=accuracy_score(y_test, CatBoost_pred) * 100\n",
    "    print(\"[{}]Accuracy : {}\".format(tfold,accuracy))   \n",
    "    #f1score\n",
    "    f1 = f1_score(y_test,CatBoost_pred, average='weighted')\n",
    "    print(\"[{}]F1score : {}\".format(tfold,f1))\n",
    "    #precision/recall\n",
    "    p_rlist=sk(y_test,CatBoost_pred,average='weighted')\n",
    "    print(\"[{}]Precision : {}\".format(tfold,p_rlist[0]))\n",
    "    print(\"[{}]Recall : {}\".format(tfold,p_rlist[1]))\n",
    "    print()\n",
    "     #결과 배열에 넣기\n",
    "    Result[tfold][0]=accuracy\n",
    "    Result[tfold][1]=f1\n",
    "    Result[tfold][2]=p_rlist[0]\n",
    "    Result[tfold][3]=p_rlist[1]\n",
    "    del accuracy\n",
    "    del f1\n",
    "    del p_rlist\n",
    "    \n",
    "    from sklearn.metrics import confusion_matrix\n",
    "    from sklearn.metrics import confusion_matrix, ConfusionMatrixDisplay\n",
    "    import matplotlib.pyplot as plt\n",
    "\n",
    "    confusion_matrix(y_test, CatBoost_pred)\n",
    "\n",
    "    cm = confusion_matrix(y_test, CatBoost_pred, labels=[0,1,2],normalize=\"true\")\n",
    "    CMResult[i]=cm\n",
    "    disp = ConfusionMatrixDisplay(confusion_matrix=cm,display_labels=[0,1,2])\n",
    "    disp.plot()\n",
    "    filename=(\"ConfusionMatrix_\"+str(i))\n",
    "    plt.savefig(\"./ConfusionMatrix_reward1/\"+filename+\".png\")\n",
    "    plt.show()\n",
    "    \n",
    "    i=i+1"
   ]
  },
  {
   "cell_type": "code",
   "execution_count": null,
   "id": "e5ed0ed4",
   "metadata": {},
   "outputs": [],
   "source": [
    "Result_df=pd.DataFrame(Result,columns=['Accuracy','F1-Score','Precision','Recall'])\n",
    "Result_df"
   ]
  },
  {
   "cell_type": "code",
   "execution_count": null,
   "id": "354bae05",
   "metadata": {},
   "outputs": [],
   "source": [
    "Matrix=pd.DataFrame(Result_df['Accuracy'],columns=['Accuracy'])\n",
    "Matrix['Accuracy']=Result_df['Accuracy']\n",
    "A=[Result_df['Accuracy'].mean(),Result_df['F1-Score'].mean(),Result_df['Precision'].mean(),Result_df['Recall'].mean()]\n",
    "A=pd.DataFrame(A,columns=['Accuracy'])\n",
    "Matrix=pd.concat([Matrix,A])\n",
    "Matrix=Matrix.transpose()\n",
    "Matrix.to_excel('./ConfusionMatrix_reward1/PFMatrix_ensemble2_final2_grid_reward1_notsmote.xlsx')"
   ]
  },
  {
   "cell_type": "code",
   "execution_count": null,
   "id": "672df0f8",
   "metadata": {},
   "outputs": [],
   "source": [
    "new_data"
   ]
  },
  {
   "cell_type": "code",
   "execution_count": null,
   "id": "bad10a1e",
   "metadata": {},
   "outputs": [],
   "source": [
    "lgbm_pred"
   ]
  },
  {
   "cell_type": "code",
   "execution_count": null,
   "id": "667beb9f",
   "metadata": {},
   "outputs": [],
   "source": [
    "y_test"
   ]
  },
  {
   "cell_type": "code",
   "execution_count": null,
   "id": "386001dd",
   "metadata": {},
   "outputs": [],
   "source": []
  },
  {
   "cell_type": "code",
   "execution_count": null,
   "id": "a9063071",
   "metadata": {},
   "outputs": [],
   "source": []
  },
  {
   "cell_type": "code",
   "execution_count": null,
   "id": "cb1cc89b",
   "metadata": {},
   "outputs": [],
   "source": []
  },
  {
   "cell_type": "code",
   "execution_count": null,
   "id": "1c17845f",
   "metadata": {},
   "outputs": [],
   "source": []
  }
 ],
 "metadata": {
  "kernelspec": {
   "display_name": "Python 3 (ipykernel)",
   "language": "python",
   "name": "python3"
  },
  "language_info": {
   "codemirror_mode": {
    "name": "ipython",
    "version": 3
   },
   "file_extension": ".py",
   "mimetype": "text/x-python",
   "name": "python",
   "nbconvert_exporter": "python",
   "pygments_lexer": "ipython3",
   "version": "3.7.16"
  }
 },
 "nbformat": 4,
 "nbformat_minor": 5
}
