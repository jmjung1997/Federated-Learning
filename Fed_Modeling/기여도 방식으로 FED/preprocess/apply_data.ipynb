{
 "cells": [
  {
   "cell_type": "markdown",
   "id": "153b9826",
   "metadata": {},
   "source": [
    "## 결측치 처리"
   ]
  },
  {
   "cell_type": "code",
   "execution_count": 1,
   "id": "44805fcd",
   "metadata": {},
   "outputs": [],
   "source": [
    "def interpolated(df):\n",
    "    temp=[]\n",
    "    for i in df['ID'].unique():\n",
    "        temp.append(df[df['ID']==i].interpolate())\n",
    "    new_df=pd.concat(temp,axis=0)\n",
    "    return new_df\n",
    "\n",
    "new_df=interpolated(df)\n",
    "\n",
    "new_df.fillna(method='bfill',inplace=True)\n",
    "\n",
    "\n",
    "def gap(first, last):\n",
    "    gap_per=(last-first)/first*100\n",
    "    return abs(gap_per)\n",
    "\n",
    "def abmormaled(df):\n",
    "    temp=[]\n",
    "    for i in df['ID'].unique():\n",
    "        temp_df=df[df['ID']==i].reset_index(drop=True)\n",
    "        # 상승하지 않는 값은 직전 값으로 대체\n",
    "        for i in range(1, len(temp_df)):\n",
    "            if temp_df.at[i, 'height'] <= temp_df.at[i - 1, 'height']:\n",
    "                temp_df.at[i, 'height'] = temp_df.at[i - 1, 'height']\n",
    "            if gap(temp_df.at[i - 1, 'height'],temp_df.at[i, 'height'])>=16:\n",
    "                temp_df.at[i, 'height'] = temp_df.at[i - 1, 'height']\n",
    "        temp.append(temp_df)\n",
    "    new_df2=pd.concat(temp,axis=0)\n",
    "    return new_df2\n",
    "\n",
    "new_df2=abmormaled(new_df)\n",
    "new_df2.reset_index(drop=True,inplace=True)\n",
    "\n",
    "\n",
    "\n",
    "#step_count 결측치 대체\n",
    "new_df2[\"step_count\"].fillna(new_df2[\"step_count\"].median(),inplace=True)\n",
    "\n",
    "#burned_calory 결측치 대체\n",
    "new_df2[\"burned calory\"].fillna(new_df2[\"burned calory\"].median(),inplace=True)\n",
    "#eat_calory 결측치 대체\n",
    "new_df2[\"eat_calory\"].fillna(new_df2[\"eat_calory\"].median(),inplace=True)\n",
    "\n",
    "#Sleep_time 결측치 대체\n",
    "new_df2[\"Sleep_time\"].fillna(new_df2[\"Sleep_time\"].median(),inplace=True)\n",
    "\n",
    "#new_df2.to_csv(\"../Integrated_data/Final_dataset{}.csv\".format,encoding=\"utf-8\",index=False)\n",
    "\n",
    "return new_df2\n",
    "\n",
    "\n",
    "\n",
    "\n",
    "\n",
    "\n",
    "\n",
    "\n",
    "\n"
   ]
  },
  {
   "cell_type": "code",
   "execution_count": null,
   "id": "14a97370",
   "metadata": {},
   "outputs": [],
   "source": []
  },
  {
   "cell_type": "code",
   "execution_count": null,
   "id": "5122e51f",
   "metadata": {},
   "outputs": [],
   "source": []
  },
  {
   "cell_type": "code",
   "execution_count": null,
   "id": "8f3da25b",
   "metadata": {},
   "outputs": [],
   "source": []
  }
 ],
 "metadata": {
  "kernelspec": {
   "display_name": "Python 3 (ipykernel)",
   "language": "python",
   "name": "python3"
  },
  "language_info": {
   "codemirror_mode": {
    "name": "ipython",
    "version": 3
   },
   "file_extension": ".py",
   "mimetype": "text/x-python",
   "name": "python",
   "nbconvert_exporter": "python",
   "pygments_lexer": "ipython3",
   "version": "3.7.16"
  }
 },
 "nbformat": 4,
 "nbformat_minor": 5
}
