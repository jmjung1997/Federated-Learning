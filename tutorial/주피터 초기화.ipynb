{
 "cells": [
  {
   "cell_type": "code",
   "execution_count": 1,
   "id": "b04b9328",
   "metadata": {},
   "outputs": [],
   "source": [
    "import sys\n",
    "import io\n",
    "import os\n",
    "from nbformat.current import read,write\n",
    "\n",
    "def clear_notebook(fname, new_fname):\n",
    "    # 기존 파일 불러오기 \n",
    "    with io.open(fname, 'r', encoding = \"utf-8\") as f:\n",
    "        nb = read(f, 'json')\n",
    "    \n",
    "    # 아웃풋 삭제\n",
    "    for ws in nb.worksheets:\n",
    "        for cell in ws.cells:\n",
    "            if cell.cell_type == 'code':\n",
    "                cell.outputs = [] # cell output 초기화\n",
    "    \n",
    "    # 아웃풋이 삭제된 새로운 노트북 파일 작성\n",
    "    base, ext = os.path.splitext(fname)\n",
    "    new_ipynb = \"%s_removed%s\" % (base, ext)\n",
    "    with io.open(new_fname, 'w', encoding='utf-8') as f:\n",
    "        write(nb, f, 'json')\n",
    "\n",
    "# 실행 예제\n",
    "clear_notebook(\"./federated_learning 에제.ipynb\", \"./federated_learning 에제.ipynb\")"
   ]
  },
  {
   "cell_type": "code",
   "execution_count": null,
   "id": "6fd5e529-ba97-46e1-8574-fdb2e8cbec37",
   "metadata": {},
   "outputs": [],
   "source": []
  }
 ],
 "metadata": {
  "kernelspec": {
   "display_name": "Python 3 (ipykernel)",
   "language": "python",
   "name": "python3"
  },
  "language_info": {
   "codemirror_mode": {
    "name": "ipython",
    "version": 3
   },
   "file_extension": ".py",
   "mimetype": "text/x-python",
   "name": "python",
   "nbconvert_exporter": "python",
   "pygments_lexer": "ipython3",
   "version": "3.9.13"
  }
 },
 "nbformat": 4,
 "nbformat_minor": 5
}
