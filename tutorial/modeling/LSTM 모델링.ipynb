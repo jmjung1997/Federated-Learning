{
 "cells": [
  {
   "cell_type": "code",
   "execution_count": 1,
   "id": "fb5474d6",
   "metadata": {},
   "outputs": [
    {
     "name": "stderr",
     "output_type": "stream",
     "text": [
      "Failed to detect the name of this notebook, you can set it manually with the WANDB_NOTEBOOK_NAME environment variable to enable code saving.\n",
      "wandb: Currently logged in as: jmjung1997. Use `wandb login --relogin` to force relogin\n"
     ]
    },
    {
     "data": {
      "text/html": [
       "Tracking run with wandb version 0.13.4"
      ],
      "text/plain": [
       "<IPython.core.display.HTML object>"
      ]
     },
     "metadata": {},
     "output_type": "display_data"
    },
    {
     "data": {
      "text/html": [
       "Run data is saved locally in <code>C:\\Users\\Lab01\\BMI\\modeling\\wandb\\run-20221012_170930-2v0d72h7</code>"
      ],
      "text/plain": [
       "<IPython.core.display.HTML object>"
      ]
     },
     "metadata": {},
     "output_type": "display_data"
    },
    {
     "data": {
      "text/html": [
       "Syncing run <strong><a href=\"https://wandb.ai/jmjung1997/bmi-LSTM/runs/2v0d72h7\" target=\"_blank\">misty-waterfall-9</a></strong> to <a href=\"https://wandb.ai/jmjung1997/bmi-LSTM\" target=\"_blank\">Weights & Biases</a> (<a href=\"https://wandb.me/run\" target=\"_blank\">docs</a>)<br/>"
      ],
      "text/plain": [
       "<IPython.core.display.HTML object>"
      ]
     },
     "metadata": {},
     "output_type": "display_data"
    },
    {
     "data": {
      "text/html": [
       "<button onClick=\"this.nextSibling.style.display='block';this.style.display='none';\">Display W&B run</button><iframe src=\"https://wandb.ai/jmjung1997/bmi-LSTM/runs/2v0d72h7?jupyter=true\" style=\"border:none;width:100%;height:420px;display:none;\"></iframe>"
      ],
      "text/plain": [
       "<wandb.sdk.wandb_run.Run at 0x261b7ac1ca0>"
      ]
     },
     "execution_count": 1,
     "metadata": {},
     "output_type": "execute_result"
    }
   ],
   "source": [
    "import wandb\n",
    "\n",
    "wandb.init(project=\"bmi-LSTM\", entity=\"jmjung1997\")"
   ]
  },
  {
   "cell_type": "code",
   "execution_count": 2,
   "id": "60025920",
   "metadata": {},
   "outputs": [],
   "source": [
    "wandb.config = {\n",
    "  \"learning_rate\": 0.001,\n",
    "  \"epochs\": 100,\n",
    "  \"batch_size\": 128\n",
    "}"
   ]
  },
  {
   "cell_type": "code",
   "execution_count": 3,
   "id": "5c573311",
   "metadata": {},
   "outputs": [],
   "source": [
    "# wandb.log({\"loss\": loss})\n"
   ]
  },
  {
   "cell_type": "code",
   "execution_count": 4,
   "id": "00d0368e",
   "metadata": {},
   "outputs": [],
   "source": [
    "import os\n",
    "import time\n",
    "\n",
    "import numpy as np\n",
    "import pandas as pd\n",
    "import matplotlib.pyplot as plt\n",
    "import wandb\n",
    "import torch\n",
    "import torch.nn as nn\n",
    "from torch.utils.data import TensorDataset, DataLoader\n",
    "from torch.autograd import Variable\n",
    "from tqdm import tqdm_notebook\n",
    "from sklearn.preprocessing import StandardScaler, MinMaxScaler\n",
    "from sklearn.model_selection import train_test_split  \n",
    "\n",
    "device = torch.device('cuda:0' if torch.cuda.is_available() else 'cpu')"
   ]
  },
  {
   "cell_type": "code",
   "execution_count": 5,
   "id": "18efb401",
   "metadata": {},
   "outputs": [
    {
     "name": "stdout",
     "output_type": "stream",
     "text": [
      "Requirement already satisfied: wandb in c:\\users\\lab01\\anaconda3\\lib\\site-packages (0.13.4)\n",
      "Requirement already satisfied: GitPython>=1.0.0 in c:\\users\\lab01\\anaconda3\\lib\\site-packages (from wandb) (3.1.28)\n",
      "Requirement already satisfied: requests<3,>=2.0.0 in c:\\users\\lab01\\anaconda3\\lib\\site-packages (from wandb) (2.25.1)\n",
      "Requirement already satisfied: promise<3,>=2.0 in c:\\users\\lab01\\anaconda3\\lib\\site-packages (from wandb) (2.3)\n",
      "Requirement already satisfied: setuptools in c:\\users\\lab01\\anaconda3\\lib\\site-packages (from wandb) (52.0.0.post20210125)\n",
      "Requirement already satisfied: six>=1.13.0 in c:\\users\\lab01\\anaconda3\\lib\\site-packages (from wandb) (1.16.0)\n",
      "Requirement already satisfied: setproctitle in c:\\users\\lab01\\anaconda3\\lib\\site-packages (from wandb) (1.3.2)\n",
      "Requirement already satisfied: protobuf!=4.0.*,!=4.21.0,<5,>=3.12.0 in c:\\users\\lab01\\anaconda3\\lib\\site-packages (from wandb) (3.19.6)\n",
      "Requirement already satisfied: shortuuid>=0.5.0 in c:\\users\\lab01\\anaconda3\\lib\\site-packages (from wandb) (1.0.9)\n",
      "Requirement already satisfied: pathtools in c:\\users\\lab01\\anaconda3\\lib\\site-packages (from wandb) (0.1.2)\n",
      "Requirement already satisfied: Click!=8.0.0,>=7.0 in c:\\users\\lab01\\anaconda3\\lib\\site-packages (from wandb) (7.1.2)\n",
      "Requirement already satisfied: docker-pycreds>=0.4.0 in c:\\users\\lab01\\anaconda3\\lib\\site-packages (from wandb) (0.4.0)\n",
      "Requirement already satisfied: sentry-sdk>=1.0.0 in c:\\users\\lab01\\anaconda3\\lib\\site-packages (from wandb) (1.9.10)\n",
      "Requirement already satisfied: PyYAML in c:\\users\\lab01\\anaconda3\\lib\\site-packages (from wandb) (5.4.1)\n",
      "Requirement already satisfied: psutil>=5.0.0 in c:\\users\\lab01\\anaconda3\\lib\\site-packages (from wandb) (5.8.0)\n",
      "Requirement already satisfied: gitdb<5,>=4.0.1 in c:\\users\\lab01\\anaconda3\\lib\\site-packages (from GitPython>=1.0.0->wandb) (4.0.9)\n",
      "Requirement already satisfied: smmap<6,>=3.0.1 in c:\\users\\lab01\\anaconda3\\lib\\site-packages (from gitdb<5,>=4.0.1->GitPython>=1.0.0->wandb) (5.0.0)\n",
      "Requirement already satisfied: urllib3<1.27,>=1.21.1 in c:\\users\\lab01\\anaconda3\\lib\\site-packages (from requests<3,>=2.0.0->wandb) (1.26.12)\n",
      "Requirement already satisfied: idna<3,>=2.5 in c:\\users\\lab01\\anaconda3\\lib\\site-packages (from requests<3,>=2.0.0->wandb) (2.10)\n",
      "Requirement already satisfied: certifi>=2017.4.17 in c:\\users\\lab01\\anaconda3\\lib\\site-packages (from requests<3,>=2.0.0->wandb) (2020.12.5)\n",
      "Requirement already satisfied: chardet<5,>=3.0.2 in c:\\users\\lab01\\anaconda3\\lib\\site-packages (from requests<3,>=2.0.0->wandb) (4.0.0)\n"
     ]
    }
   ],
   "source": [
    "!pip install wandb"
   ]
  },
  {
   "cell_type": "code",
   "execution_count": 6,
   "id": "6d15315c",
   "metadata": {},
   "outputs": [],
   "source": [
    "# wandb login"
   ]
  },
  {
   "cell_type": "code",
   "execution_count": 7,
   "id": "ea65b8af",
   "metadata": {},
   "outputs": [
    {
     "name": "stdout",
     "output_type": "stream",
     "text": [
      "Date              int64\n",
      "ID               object\n",
      "height          float64\n",
      "weight          float64\n",
      "step_count      float64\n",
      "burn_calorie    float64\n",
      "eat_calorie     float64\n",
      "sleep           float64\n",
      "bmi             float64\n",
      "bmi_target        int64\n",
      "dtype: object\n"
     ]
    }
   ],
   "source": [
    "data=pd.read_excel('./modeling_data/Data_Timeseries.xlsx')\n",
    "print(data.dtypes)"
   ]
  },
  {
   "cell_type": "code",
   "execution_count": 8,
   "id": "5a7ae328",
   "metadata": {},
   "outputs": [],
   "source": [
    "y_origin=data['bmi_target']"
   ]
  },
  {
   "cell_type": "code",
   "execution_count": 9,
   "id": "1da20cc2",
   "metadata": {},
   "outputs": [
    {
     "data": {
      "text/plain": [
       "0        3\n",
       "1        3\n",
       "2        3\n",
       "3        3\n",
       "4        3\n",
       "        ..\n",
       "27043    4\n",
       "27044    4\n",
       "27045    4\n",
       "27046    4\n",
       "27047    4\n",
       "Name: bmi_target, Length: 27048, dtype: int64"
      ]
     },
     "execution_count": 9,
     "metadata": {},
     "output_type": "execute_result"
    }
   ],
   "source": [
    "y_origin"
   ]
  },
  {
   "cell_type": "code",
   "execution_count": 10,
   "id": "40c7ac31",
   "metadata": {},
   "outputs": [],
   "source": [
    "y=pd.get_dummies(data['bmi_target'])"
   ]
  },
  {
   "cell_type": "code",
   "execution_count": 11,
   "id": "d0b57d46",
   "metadata": {},
   "outputs": [],
   "source": [
    "# data['Date'] = pd.to_datetime(data['Date'])"
   ]
  },
  {
   "cell_type": "code",
   "execution_count": 12,
   "id": "03471e96",
   "metadata": {},
   "outputs": [
    {
     "name": "stdout",
     "output_type": "stream",
     "text": [
      "       height  weight  step_count  burn_calorie  eat_calorie  sleep        bmi\n",
      "0       148.0    45.0        72.0           0.0          0.0    0.0  20.544193\n",
      "1       148.0    45.0        72.0           0.0          0.0    0.0  20.544193\n",
      "2       148.0    45.0        72.0           0.0          0.0    0.0  20.544193\n",
      "3       148.0    45.0        72.0           0.0          0.0    0.0  20.544193\n",
      "4       148.0    45.0        72.0           0.0          0.0    0.0  20.544193\n",
      "...       ...     ...         ...           ...          ...    ...        ...\n",
      "27043   153.0    68.0         0.0           0.0          0.0    0.0  29.048656\n",
      "27044   153.0    68.0         0.0           0.0          0.0    0.0  29.048656\n",
      "27045   153.0    68.0         0.0           0.0          0.0    0.0  29.048656\n",
      "27046   153.0    68.0         0.0           0.0          0.0    0.0  29.048656\n",
      "27047   153.0    68.0         0.0           0.0          0.0    0.0  29.048656\n",
      "\n",
      "[27048 rows x 7 columns]\n",
      "    1  2  3  4\n",
      "0   0  0  1  0\n",
      "1   0  0  1  0\n",
      "2   0  0  1  0\n",
      "3   0  0  1  0\n",
      "4   0  0  1  0\n",
      ".. .. .. .. ..\n",
      "79  0  0  1  0\n",
      "80  0  0  1  0\n",
      "81  0  0  1  0\n",
      "82  0  0  1  0\n",
      "83  0  0  1  0\n",
      "\n",
      "[84 rows x 4 columns]\n"
     ]
    }
   ],
   "source": [
    "# data.set_index('Date', inplace=True)\n",
    "X=data.iloc[:,2:9]\n",
    "y=y.iloc[0:84]\n",
    "print(X)\n",
    "print(y)"
   ]
  },
  {
   "cell_type": "code",
   "execution_count": 13,
   "id": "b8420ad9",
   "metadata": {},
   "outputs": [
    {
     "data": {
      "text/plain": [
       "pandas.core.frame.DataFrame"
      ]
     },
     "execution_count": 13,
     "metadata": {},
     "output_type": "execute_result"
    }
   ],
   "source": [
    "type(y)"
   ]
  },
  {
   "cell_type": "code",
   "execution_count": 14,
   "id": "1ce8a30a",
   "metadata": {},
   "outputs": [
    {
     "name": "stdout",
     "output_type": "stream",
     "text": [
      "Training Shape (57, 7) (57, 4)\n",
      "Testing Shape (27, 7) (27, 4)\n"
     ]
    }
   ],
   "source": [
    "ms = MinMaxScaler()\n",
    "ss = StandardScaler()\n",
    "X_ss = ss.fit_transform(X)\n",
    "# y_ms = ms.fit_transform(y) \n",
    "y_ms=y\n",
    "\n",
    "X_train = X_ss[:57, :]\n",
    "X_test = X_ss[57:84, :]\n",
    "\n",
    "y_train = y_ms[:57]\n",
    "y_test = y_ms[57:] \n",
    "\n",
    "y_train=y_train.to_numpy()\n",
    "y_test=y_test.to_numpy()\n",
    "print(\"Training Shape\", X_train.shape, y_train.shape)\n",
    "print(\"Testing Shape\", X_test.shape, y_test.shape) "
   ]
  },
  {
   "cell_type": "code",
   "execution_count": 15,
   "id": "6259db46",
   "metadata": {},
   "outputs": [],
   "source": [
    "X_train_tensors = Variable(torch.Tensor(X_train))\n",
    "X_test_tensors = Variable(torch.Tensor(X_test))"
   ]
  },
  {
   "cell_type": "code",
   "execution_count": 16,
   "id": "537cfb85",
   "metadata": {},
   "outputs": [
    {
     "data": {
      "text/plain": [
       "numpy.ndarray"
      ]
     },
     "execution_count": 16,
     "metadata": {},
     "output_type": "execute_result"
    }
   ],
   "source": [
    "type(y_train)"
   ]
  },
  {
   "cell_type": "code",
   "execution_count": 17,
   "id": "01d68583",
   "metadata": {},
   "outputs": [
    {
     "name": "stdout",
     "output_type": "stream",
     "text": [
      "Training Shape torch.Size([57, 1, 7]) torch.Size([57, 4])\n",
      "Testing Shape torch.Size([27, 1, 7]) torch.Size([27, 4])\n"
     ]
    }
   ],
   "source": [
    "y_train_tensors = Variable(torch.Tensor(y_train))\n",
    "y_test_tensors = Variable(torch.Tensor(y_test))\n",
    "\n",
    "X_train_tensors_f = torch.reshape(X_train_tensors,   (X_train_tensors.shape[0], 1, X_train_tensors.shape[1]))\n",
    "X_test_tensors_f = torch.reshape(X_test_tensors,  (X_test_tensors.shape[0], 1, X_test_tensors.shape[1])) \n",
    "\n",
    "\n",
    "\n",
    "\n",
    "print(\"Training Shape\", X_train_tensors_f.shape, y_train_tensors.shape)\n",
    "print(\"Testing Shape\", X_test_tensors_f.shape, y_test_tensors.shape) "
   ]
  },
  {
   "cell_type": "code",
   "execution_count": 18,
   "id": "a6361bdd",
   "metadata": {},
   "outputs": [
    {
     "data": {
      "text/html": [
       "Finishing last run (ID:2v0d72h7) before initializing another..."
      ],
      "text/plain": [
       "<IPython.core.display.HTML object>"
      ]
     },
     "metadata": {},
     "output_type": "display_data"
    },
    {
     "data": {
      "text/html": [
       "Waiting for W&B process to finish... <strong style=\"color:green\">(success).</strong>"
      ],
      "text/plain": [
       "<IPython.core.display.HTML object>"
      ]
     },
     "metadata": {},
     "output_type": "display_data"
    },
    {
     "data": {
      "application/vnd.jupyter.widget-view+json": {
       "model_id": "efe6633c2f2c4473add07a429aea8cbb",
       "version_major": 2,
       "version_minor": 0
      },
      "text/plain": [
       "VBox(children=(Label(value='0.000 MB of 0.000 MB uploaded (0.000 MB deduped)\\r'), FloatProgress(value=1.0, max…"
      ]
     },
     "metadata": {},
     "output_type": "display_data"
    },
    {
     "data": {
      "text/html": [
       "Synced <strong style=\"color:#cdcd00\">misty-waterfall-9</strong>: <a href=\"https://wandb.ai/jmjung1997/bmi-LSTM/runs/2v0d72h7\" target=\"_blank\">https://wandb.ai/jmjung1997/bmi-LSTM/runs/2v0d72h7</a><br/>Synced 6 W&B file(s), 0 media file(s), 0 artifact file(s) and 0 other file(s)"
      ],
      "text/plain": [
       "<IPython.core.display.HTML object>"
      ]
     },
     "metadata": {},
     "output_type": "display_data"
    },
    {
     "data": {
      "text/html": [
       "Find logs at: <code>.\\wandb\\run-20221012_170930-2v0d72h7\\logs</code>"
      ],
      "text/plain": [
       "<IPython.core.display.HTML object>"
      ]
     },
     "metadata": {},
     "output_type": "display_data"
    },
    {
     "data": {
      "text/html": [
       "Successfully finished last run (ID:2v0d72h7). Initializing new run:<br/>"
      ],
      "text/plain": [
       "<IPython.core.display.HTML object>"
      ]
     },
     "metadata": {},
     "output_type": "display_data"
    },
    {
     "data": {
      "application/vnd.jupyter.widget-view+json": {
       "model_id": "cddefa27fee049568b3986823140f34d",
       "version_major": 2,
       "version_minor": 0
      },
      "text/plain": [
       "VBox(children=(Label(value='Waiting for wandb.init()...\\r'), FloatProgress(value=0.016933333332417533, max=1.0…"
      ]
     },
     "metadata": {},
     "output_type": "display_data"
    },
    {
     "data": {
      "text/html": [
       "Tracking run with wandb version 0.13.4"
      ],
      "text/plain": [
       "<IPython.core.display.HTML object>"
      ]
     },
     "metadata": {},
     "output_type": "display_data"
    },
    {
     "data": {
      "text/html": [
       "Run data is saved locally in <code>C:\\Users\\Lab01\\BMI\\modeling\\wandb\\run-20221012_170944-31q2q1hs</code>"
      ],
      "text/plain": [
       "<IPython.core.display.HTML object>"
      ]
     },
     "metadata": {},
     "output_type": "display_data"
    },
    {
     "data": {
      "text/html": [
       "Syncing run <strong><a href=\"https://wandb.ai/jmjung1997/uncategorized/runs/31q2q1hs\" target=\"_blank\">dauntless-jazz-7</a></strong> to <a href=\"https://wandb.ai/jmjung1997/uncategorized\" target=\"_blank\">Weights & Biases</a> (<a href=\"https://wandb.me/run\" target=\"_blank\">docs</a>)<br/>"
      ],
      "text/plain": [
       "<IPython.core.display.HTML object>"
      ]
     },
     "metadata": {},
     "output_type": "display_data"
    },
    {
     "data": {
      "text/html": [
       "<button onClick=\"this.nextSibling.style.display='block';this.style.display='none';\">Display W&B run</button><iframe src=\"https://wandb.ai/jmjung1997/uncategorized/runs/31q2q1hs?jupyter=true\" style=\"border:none;width:100%;height:420px;display:none;\"></iframe>"
      ],
      "text/plain": [
       "<wandb.sdk.wandb_run.Run at 0x261c072f070>"
      ]
     },
     "execution_count": 18,
     "metadata": {},
     "output_type": "execute_result"
    }
   ],
   "source": [
    "wandb.init()"
   ]
  },
  {
   "cell_type": "code",
   "execution_count": 19,
   "id": "c99c421e",
   "metadata": {},
   "outputs": [],
   "source": [
    "class LSTM(nn.Module):\n",
    "    def __init__(self, num_classes, input_size, hidden_size, num_layers, seq_length):\n",
    "        super(LSTM, self).__init__()\n",
    "        self.num_classes = num_classes \n",
    "        self.num_layers = num_layers \n",
    "        self.input_size = input_size \n",
    "        self.hidden_size = hidden_size \n",
    "        self.seq_length = seq_length \n",
    "\n",
    "        self.lstm = nn.LSTM(input_size=input_size, hidden_size=hidden_size,\n",
    "                          num_layers=num_layers, batch_first=True) \n",
    "        self.fc_1 =  nn.Linear(hidden_size, 128) \n",
    "        self.fc = nn.Linear(128, num_classes) \n",
    "\n",
    "        self.relu = nn.ReLU()\n",
    "    \n",
    "    def forward(self,x):\n",
    "        h_0 = Variable(torch.zeros(self.num_layers, x.size(0), self.hidden_size)) \n",
    "        c_0 = Variable(torch.zeros(self.num_layers, x.size(0), self.hidden_size)) \n",
    "        \n",
    "        output, (hn, cn) = self.lstm(x, (h_0, c_0)) \n",
    "        hn = hn.view(-1, self.hidden_size) \n",
    "        out = self.relu(hn)\n",
    "        out = self.fc_1(out) \n",
    "        out = self.relu(out) \n",
    "        out = self.fc(out)\n",
    "        return out"
   ]
  },
  {
   "cell_type": "code",
   "execution_count": 20,
   "id": "4026c82f",
   "metadata": {},
   "outputs": [],
   "source": [
    "num_epochs = 1000 \n",
    "learning_rate = 0.0001 \n",
    "\n",
    "input_size = 7\n",
    "hidden_size = 2 \n",
    "num_layers = 1\n",
    "\n",
    "num_classes = 4\n",
    "model = LSTM(num_classes, input_size, hidden_size, num_layers, X_train_tensors_f.shape[1]) \n",
    "\n",
    "criterion = torch.nn.MSELoss()    \n",
    "optimizer = torch.optim.Adam(model.parameters(), lr=learning_rate) "
   ]
  },
  {
   "cell_type": "code",
   "execution_count": 21,
   "id": "223eb6ae",
   "metadata": {},
   "outputs": [
    {
     "name": "stdout",
     "output_type": "stream",
     "text": [
      "Epoch: 0,loss: 0.22035\n",
      "Epoch: 100,loss: 0.12144\n",
      "Epoch: 200,loss: 0.06033\n",
      "Epoch: 300,loss: 0.02604\n",
      "Epoch: 400,loss: 0.00940\n",
      "Epoch: 500,loss: 0.00269\n",
      "Epoch: 600,loss: 0.00060\n",
      "Epoch: 700,loss: 0.00010\n",
      "Epoch: 800,loss: 0.00001\n",
      "Epoch: 900,loss: 0.00000\n"
     ]
    }
   ],
   "source": [
    "for epoch in range(num_epochs):\n",
    "    outputs = model.forward(X_train_tensors_f)\n",
    "\n",
    "    optimizer.zero_grad()  \n",
    "    loss = criterion(outputs, y_train_tensors) \n",
    "    loss.backward() \n",
    "    optimizer.step() \n",
    "    wandb.log({\"loss\":loss})\n",
    "    if epoch % 100 == 0:\n",
    "        print(\"Epoch: %d,loss: %1.5f\" % (epoch, loss.item())) \n",
    "        "
   ]
  },
  {
   "cell_type": "code",
   "execution_count": 22,
   "id": "0ae8ac89",
   "metadata": {},
   "outputs": [],
   "source": [
    "df_y_ms=y\n",
    "df_y_ms=df_y_ms.to_numpy()"
   ]
  },
  {
   "cell_type": "code",
   "execution_count": 23,
   "id": "c4821653",
   "metadata": {},
   "outputs": [],
   "source": [
    "df_x_ss = ss.transform(data.iloc[:84, 2:9]) "
   ]
  },
  {
   "cell_type": "code",
   "execution_count": 24,
   "id": "13d5bc45",
   "metadata": {},
   "outputs": [],
   "source": [
    "#df_y_ms = ms.transform(y.iloc[:57]) \n",
    "df_x_ss = Variable(torch.Tensor(df_x_ss)) \n",
    "df_y_ms = Variable(torch.Tensor(df_y_ms))\n",
    "df_x_ss = torch.reshape(df_x_ss, (df_x_ss.shape[0], 1, df_x_ss.shape[1])) "
   ]
  },
  {
   "cell_type": "code",
   "execution_count": 25,
   "id": "3feff2c4",
   "metadata": {},
   "outputs": [],
   "source": [
    "train_predict = model(df_x_ss)\n",
    "predicted = train_predict.data.numpy() \n",
    "label_y = df_y_ms.data.numpy()"
   ]
  },
  {
   "cell_type": "code",
   "execution_count": 26,
   "id": "e84f7f0f",
   "metadata": {},
   "outputs": [
    {
     "data": {
      "text/plain": [
       "array([[5.9604645e-08, 5.8114529e-07, 9.9929005e-01, 9.6857548e-08],\n",
       "       [5.9604645e-08, 5.8114529e-07, 9.9929005e-01, 9.6857548e-08],\n",
       "       [5.9604645e-08, 5.8114529e-07, 9.9929005e-01, 9.6857548e-08],\n",
       "       [5.9604645e-08, 5.8114529e-07, 9.9929005e-01, 9.6857548e-08],\n",
       "       [5.9604645e-08, 5.8114529e-07, 9.9929005e-01, 9.6857548e-08],\n",
       "       [5.9604645e-08, 5.8114529e-07, 9.9929005e-01, 9.6857548e-08],\n",
       "       [5.9604645e-08, 5.8114529e-07, 9.9929005e-01, 9.6857548e-08],\n",
       "       [5.9604645e-08, 5.8114529e-07, 9.9929005e-01, 9.6857548e-08],\n",
       "       [5.9604645e-08, 5.8114529e-07, 9.9929005e-01, 9.6857548e-08],\n",
       "       [5.9604645e-08, 5.8114529e-07, 9.9929005e-01, 9.6857548e-08],\n",
       "       [5.9604645e-08, 5.8114529e-07, 9.9929005e-01, 9.6857548e-08],\n",
       "       [5.9604645e-08, 5.8114529e-07, 9.9929005e-01, 9.6857548e-08],\n",
       "       [5.9604645e-08, 5.8114529e-07, 9.9929005e-01, 9.6857548e-08],\n",
       "       [5.9604645e-08, 5.8114529e-07, 9.9929005e-01, 9.6857548e-08],\n",
       "       [5.9604645e-08, 5.8114529e-07, 9.9929005e-01, 9.6857548e-08],\n",
       "       [5.9604645e-08, 5.8114529e-07, 9.9929005e-01, 9.6857548e-08],\n",
       "       [5.9604645e-08, 5.8114529e-07, 9.9929005e-01, 9.6857548e-08],\n",
       "       [5.9604645e-08, 5.8114529e-07, 9.9929005e-01, 9.6857548e-08],\n",
       "       [5.9604645e-08, 5.8114529e-07, 9.9929005e-01, 9.6857548e-08],\n",
       "       [5.9604645e-08, 5.8114529e-07, 9.9929005e-01, 9.6857548e-08],\n",
       "       [5.9604645e-08, 5.8114529e-07, 9.9929005e-01, 9.6857548e-08],\n",
       "       [5.9604645e-08, 5.8114529e-07, 9.9929005e-01, 9.6857548e-08],\n",
       "       [5.9604645e-08, 5.8114529e-07, 9.9929005e-01, 9.6857548e-08],\n",
       "       [5.9604645e-08, 5.8114529e-07, 9.9929005e-01, 9.6857548e-08],\n",
       "       [5.9604645e-08, 5.8114529e-07, 9.9929005e-01, 9.6857548e-08],\n",
       "       [5.9604645e-08, 5.8114529e-07, 9.9929005e-01, 9.6857548e-08],\n",
       "       [5.9604645e-08, 5.8114529e-07, 9.9929005e-01, 9.6857548e-08],\n",
       "       [5.9604645e-08, 5.8114529e-07, 9.9929005e-01, 9.6857548e-08],\n",
       "       [5.9604645e-08, 5.8114529e-07, 9.9929005e-01, 9.6857548e-08],\n",
       "       [5.9604645e-08, 5.8114529e-07, 9.9929005e-01, 9.6857548e-08],\n",
       "       [5.9604645e-08, 5.8114529e-07, 9.9929005e-01, 9.6857548e-08],\n",
       "       [5.9604645e-08, 5.8114529e-07, 9.9929005e-01, 9.6857548e-08],\n",
       "       [5.9604645e-08, 5.8114529e-07, 9.9929005e-01, 9.6857548e-08],\n",
       "       [5.9604645e-08, 5.8114529e-07, 9.9929005e-01, 9.6857548e-08],\n",
       "       [5.9604645e-08, 5.8114529e-07, 9.9929005e-01, 9.6857548e-08],\n",
       "       [5.9604645e-08, 5.8114529e-07, 9.9929005e-01, 9.6857548e-08],\n",
       "       [5.9604645e-08, 5.8114529e-07, 9.9929005e-01, 9.6857548e-08],\n",
       "       [5.9604645e-08, 5.8114529e-07, 9.9929005e-01, 9.6857548e-08],\n",
       "       [5.9604645e-08, 5.8114529e-07, 9.9929005e-01, 9.6857548e-08],\n",
       "       [5.9604645e-08, 5.8114529e-07, 9.9929005e-01, 9.6857548e-08],\n",
       "       [5.9604645e-08, 5.8114529e-07, 9.9929005e-01, 9.6857548e-08],\n",
       "       [5.9604645e-08, 5.8114529e-07, 9.9929005e-01, 9.6857548e-08],\n",
       "       [5.9604645e-08, 5.8114529e-07, 9.9929005e-01, 9.6857548e-08],\n",
       "       [5.9604645e-08, 5.8114529e-07, 9.9929005e-01, 9.6857548e-08],\n",
       "       [5.9604645e-08, 5.8114529e-07, 9.9929005e-01, 9.6857548e-08],\n",
       "       [5.9604645e-08, 5.8114529e-07, 9.9929005e-01, 9.6857548e-08],\n",
       "       [5.9604645e-08, 5.8114529e-07, 9.9929005e-01, 9.6857548e-08],\n",
       "       [5.9604645e-08, 5.8114529e-07, 9.9929005e-01, 9.6857548e-08],\n",
       "       [5.9604645e-08, 5.8114529e-07, 9.9929005e-01, 9.6857548e-08],\n",
       "       [5.9604645e-08, 5.8114529e-07, 9.9929005e-01, 9.6857548e-08],\n",
       "       [5.9604645e-08, 5.8114529e-07, 9.9929005e-01, 9.6857548e-08],\n",
       "       [5.9604645e-08, 5.8114529e-07, 9.9929005e-01, 9.6857548e-08],\n",
       "       [5.9604645e-08, 5.8114529e-07, 9.9929005e-01, 9.6857548e-08],\n",
       "       [5.9604645e-08, 5.8114529e-07, 9.9929005e-01, 9.6857548e-08],\n",
       "       [5.9604645e-08, 5.8114529e-07, 9.9929005e-01, 9.6857548e-08],\n",
       "       [5.9604645e-08, 5.8114529e-07, 9.9929005e-01, 9.6857548e-08],\n",
       "       [5.9604645e-08, 5.8114529e-07, 9.9929005e-01, 9.6857548e-08],\n",
       "       [5.9604645e-08, 5.8114529e-07, 9.9929005e-01, 9.6857548e-08],\n",
       "       [5.9604645e-08, 5.8114529e-07, 9.9929005e-01, 9.6857548e-08],\n",
       "       [5.9604645e-08, 5.8114529e-07, 9.9929005e-01, 9.6857548e-08],\n",
       "       [5.9604645e-08, 5.8114529e-07, 9.9929005e-01, 9.6857548e-08],\n",
       "       [5.9604645e-08, 5.8114529e-07, 9.9929005e-01, 9.6857548e-08],\n",
       "       [5.9604645e-08, 5.8114529e-07, 9.9929005e-01, 9.6857548e-08],\n",
       "       [5.9604645e-08, 5.8114529e-07, 9.9929005e-01, 9.6857548e-08],\n",
       "       [5.9604645e-08, 5.8114529e-07, 9.9929005e-01, 9.6857548e-08],\n",
       "       [5.9604645e-08, 5.8114529e-07, 9.9929005e-01, 9.6857548e-08],\n",
       "       [5.9604645e-08, 5.8114529e-07, 9.9929005e-01, 9.6857548e-08],\n",
       "       [5.9604645e-08, 5.8114529e-07, 9.9929005e-01, 9.6857548e-08],\n",
       "       [5.9604645e-08, 5.8114529e-07, 9.9929005e-01, 9.6857548e-08],\n",
       "       [5.9604645e-08, 5.8114529e-07, 9.9929005e-01, 9.6857548e-08],\n",
       "       [5.9604645e-08, 5.8114529e-07, 9.9929005e-01, 9.6857548e-08],\n",
       "       [5.9604645e-08, 5.8114529e-07, 9.9929005e-01, 9.6857548e-08],\n",
       "       [5.9604645e-08, 5.8114529e-07, 9.9929005e-01, 9.6857548e-08],\n",
       "       [5.9604645e-08, 5.8114529e-07, 9.9929005e-01, 9.6857548e-08],\n",
       "       [5.9604645e-08, 5.8114529e-07, 9.9929005e-01, 9.6857548e-08],\n",
       "       [5.9604645e-08, 5.8114529e-07, 9.9929005e-01, 9.6857548e-08],\n",
       "       [5.9604645e-08, 5.8114529e-07, 9.9929005e-01, 9.6857548e-08],\n",
       "       [5.9604645e-08, 5.8114529e-07, 9.9929005e-01, 9.6857548e-08],\n",
       "       [5.9604645e-08, 5.8114529e-07, 9.9929005e-01, 9.6857548e-08],\n",
       "       [5.9604645e-08, 5.8114529e-07, 9.9929005e-01, 9.6857548e-08],\n",
       "       [5.9604645e-08, 5.8114529e-07, 9.9929005e-01, 9.6857548e-08],\n",
       "       [5.9604645e-08, 5.8114529e-07, 9.9929005e-01, 9.6857548e-08],\n",
       "       [5.9604645e-08, 5.8114529e-07, 9.9929005e-01, 9.6857548e-08],\n",
       "       [5.9604645e-08, 5.8114529e-07, 9.9929005e-01, 9.6857548e-08]],\n",
       "      dtype=float32)"
      ]
     },
     "execution_count": 26,
     "metadata": {},
     "output_type": "execute_result"
    }
   ],
   "source": [
    "predicted"
   ]
  },
  {
   "cell_type": "code",
   "execution_count": 27,
   "id": "ecb21d5f",
   "metadata": {},
   "outputs": [
    {
     "data": {
      "text/plain": [
       "array([5.9604645e-08, 5.8114529e-07, 9.9929005e-01, 9.6857548e-08],\n",
       "      dtype=float32)"
      ]
     },
     "execution_count": 27,
     "metadata": {},
     "output_type": "execute_result"
    }
   ],
   "source": [
    "predicted[0]"
   ]
  },
  {
   "cell_type": "code",
   "execution_count": 31,
   "id": "f2156b26",
   "metadata": {},
   "outputs": [
    {
     "name": "stdout",
     "output_type": "stream",
     "text": [
      "[5.9604645e-08 5.8114529e-07 9.9929005e-01 9.6857548e-08]\n",
      "0  :  maxIndx 3 y_origin[i] 2\n",
      "0  :  maxIndx 3 y_origin[i] 2\n",
      "[5.9604645e-08 5.8114529e-07 9.9929005e-01 9.6857548e-08]\n",
      "1  :  maxIndx 3 y_origin[i] 2\n",
      "1  :  maxIndx 3 y_origin[i] 2\n",
      "[5.9604645e-08 5.8114529e-07 9.9929005e-01 9.6857548e-08]\n",
      "2  :  maxIndx 3 y_origin[i] 2\n",
      "2  :  maxIndx 3 y_origin[i] 2\n",
      "[5.9604645e-08 5.8114529e-07 9.9929005e-01 9.6857548e-08]\n",
      "3  :  maxIndx 3 y_origin[i] 2\n",
      "3  :  maxIndx 3 y_origin[i] 2\n",
      "[5.9604645e-08 5.8114529e-07 9.9929005e-01 9.6857548e-08]\n",
      "4  :  maxIndx 3 y_origin[i] 2\n",
      "4  :  maxIndx 3 y_origin[i] 2\n",
      "[5.9604645e-08 5.8114529e-07 9.9929005e-01 9.6857548e-08]\n",
      "5  :  maxIndx 3 y_origin[i] 2\n",
      "5  :  maxIndx 3 y_origin[i] 2\n",
      "[5.9604645e-08 5.8114529e-07 9.9929005e-01 9.6857548e-08]\n",
      "6  :  maxIndx 3 y_origin[i] 2\n",
      "6  :  maxIndx 3 y_origin[i] 2\n",
      "[5.9604645e-08 5.8114529e-07 9.9929005e-01 9.6857548e-08]\n",
      "7  :  maxIndx 3 y_origin[i] 2\n",
      "7  :  maxIndx 3 y_origin[i] 2\n",
      "[5.9604645e-08 5.8114529e-07 9.9929005e-01 9.6857548e-08]\n",
      "8  :  maxIndx 3 y_origin[i] 2\n",
      "8  :  maxIndx 3 y_origin[i] 2\n",
      "[5.9604645e-08 5.8114529e-07 9.9929005e-01 9.6857548e-08]\n",
      "9  :  maxIndx 3 y_origin[i] 2\n",
      "9  :  maxIndx 3 y_origin[i] 2\n",
      "[5.9604645e-08 5.8114529e-07 9.9929005e-01 9.6857548e-08]\n",
      "10  :  maxIndx 3 y_origin[i] 2\n",
      "10  :  maxIndx 3 y_origin[i] 2\n",
      "[5.9604645e-08 5.8114529e-07 9.9929005e-01 9.6857548e-08]\n",
      "11  :  maxIndx 3 y_origin[i] 2\n",
      "11  :  maxIndx 3 y_origin[i] 2\n",
      "[5.9604645e-08 5.8114529e-07 9.9929005e-01 9.6857548e-08]\n",
      "12  :  maxIndx 3 y_origin[i] 2\n",
      "12  :  maxIndx 3 y_origin[i] 2\n",
      "[5.9604645e-08 5.8114529e-07 9.9929005e-01 9.6857548e-08]\n",
      "13  :  maxIndx 3 y_origin[i] 2\n",
      "13  :  maxIndx 3 y_origin[i] 2\n",
      "[5.9604645e-08 5.8114529e-07 9.9929005e-01 9.6857548e-08]\n",
      "14  :  maxIndx 3 y_origin[i] 2\n",
      "14  :  maxIndx 3 y_origin[i] 2\n",
      "[5.9604645e-08 5.8114529e-07 9.9929005e-01 9.6857548e-08]\n",
      "15  :  maxIndx 3 y_origin[i] 2\n",
      "15  :  maxIndx 3 y_origin[i] 2\n",
      "[5.9604645e-08 5.8114529e-07 9.9929005e-01 9.6857548e-08]\n",
      "16  :  maxIndx 3 y_origin[i] 2\n",
      "16  :  maxIndx 3 y_origin[i] 2\n",
      "[5.9604645e-08 5.8114529e-07 9.9929005e-01 9.6857548e-08]\n",
      "17  :  maxIndx 3 y_origin[i] 2\n",
      "17  :  maxIndx 3 y_origin[i] 2\n",
      "[5.9604645e-08 5.8114529e-07 9.9929005e-01 9.6857548e-08]\n",
      "18  :  maxIndx 3 y_origin[i] 2\n",
      "18  :  maxIndx 3 y_origin[i] 2\n",
      "[5.9604645e-08 5.8114529e-07 9.9929005e-01 9.6857548e-08]\n",
      "19  :  maxIndx 3 y_origin[i] 2\n",
      "19  :  maxIndx 3 y_origin[i] 2\n",
      "[5.9604645e-08 5.8114529e-07 9.9929005e-01 9.6857548e-08]\n",
      "20  :  maxIndx 3 y_origin[i] 2\n",
      "20  :  maxIndx 3 y_origin[i] 2\n",
      "[5.9604645e-08 5.8114529e-07 9.9929005e-01 9.6857548e-08]\n",
      "21  :  maxIndx 3 y_origin[i] 2\n",
      "21  :  maxIndx 3 y_origin[i] 2\n",
      "[5.9604645e-08 5.8114529e-07 9.9929005e-01 9.6857548e-08]\n",
      "22  :  maxIndx 3 y_origin[i] 2\n",
      "22  :  maxIndx 3 y_origin[i] 2\n",
      "[5.9604645e-08 5.8114529e-07 9.9929005e-01 9.6857548e-08]\n",
      "23  :  maxIndx 3 y_origin[i] 2\n",
      "23  :  maxIndx 3 y_origin[i] 2\n",
      "[5.9604645e-08 5.8114529e-07 9.9929005e-01 9.6857548e-08]\n",
      "24  :  maxIndx 3 y_origin[i] 2\n",
      "24  :  maxIndx 3 y_origin[i] 2\n",
      "[5.9604645e-08 5.8114529e-07 9.9929005e-01 9.6857548e-08]\n",
      "25  :  maxIndx 3 y_origin[i] 2\n",
      "25  :  maxIndx 3 y_origin[i] 2\n",
      "[5.9604645e-08 5.8114529e-07 9.9929005e-01 9.6857548e-08]\n",
      "26  :  maxIndx 3 y_origin[i] 2\n",
      "26  :  maxIndx 3 y_origin[i] 2\n",
      "27\n",
      "27\n",
      "1.0\n"
     ]
    }
   ],
   "source": [
    "count=0\n",
    "for i in range(len(y_test)):\n",
    "    for j in range(1,4):\n",
    "        max=predicted[i][0]\n",
    "        maxIndex=0\n",
    "        if(predicted[i][j]>max):\n",
    "            max=predicted[i][j]\n",
    "            maxIndex=j\n",
    "    print(predicted[i])        \n",
    "    print(i, \" : \" ,\"maxIndx\",maxIndex,\"y_origin[i]\",y_origin[i]-1)\n",
    "    if y_origin[i]==maxIndex:\n",
    "        print(i, \" : \" ,\"maxIndx\",maxIndex,\"y_origin[i]\",y_origin[i]-1)\n",
    "        count=count+1\n",
    "\n",
    "print(count)\n",
    "print(len(y_test))\n",
    "print(count/len(y_test))"
   ]
  },
  {
   "cell_type": "code",
   "execution_count": 29,
   "id": "659ad01e",
   "metadata": {},
   "outputs": [
    {
     "data": {
      "text/plain": [
       "array([[5.9604645e-08, 5.8114529e-07, 9.9929005e-01, 9.6857548e-08],\n",
       "       [5.9604645e-08, 5.8114529e-07, 9.9929005e-01, 9.6857548e-08],\n",
       "       [5.9604645e-08, 5.8114529e-07, 9.9929005e-01, 9.6857548e-08],\n",
       "       [5.9604645e-08, 5.8114529e-07, 9.9929005e-01, 9.6857548e-08],\n",
       "       [5.9604645e-08, 5.8114529e-07, 9.9929005e-01, 9.6857548e-08],\n",
       "       [5.9604645e-08, 5.8114529e-07, 9.9929005e-01, 9.6857548e-08],\n",
       "       [5.9604645e-08, 5.8114529e-07, 9.9929005e-01, 9.6857548e-08],\n",
       "       [5.9604645e-08, 5.8114529e-07, 9.9929005e-01, 9.6857548e-08],\n",
       "       [5.9604645e-08, 5.8114529e-07, 9.9929005e-01, 9.6857548e-08],\n",
       "       [5.9604645e-08, 5.8114529e-07, 9.9929005e-01, 9.6857548e-08],\n",
       "       [5.9604645e-08, 5.8114529e-07, 9.9929005e-01, 9.6857548e-08],\n",
       "       [5.9604645e-08, 5.8114529e-07, 9.9929005e-01, 9.6857548e-08],\n",
       "       [5.9604645e-08, 5.8114529e-07, 9.9929005e-01, 9.6857548e-08],\n",
       "       [5.9604645e-08, 5.8114529e-07, 9.9929005e-01, 9.6857548e-08],\n",
       "       [5.9604645e-08, 5.8114529e-07, 9.9929005e-01, 9.6857548e-08],\n",
       "       [5.9604645e-08, 5.8114529e-07, 9.9929005e-01, 9.6857548e-08],\n",
       "       [5.9604645e-08, 5.8114529e-07, 9.9929005e-01, 9.6857548e-08],\n",
       "       [5.9604645e-08, 5.8114529e-07, 9.9929005e-01, 9.6857548e-08],\n",
       "       [5.9604645e-08, 5.8114529e-07, 9.9929005e-01, 9.6857548e-08],\n",
       "       [5.9604645e-08, 5.8114529e-07, 9.9929005e-01, 9.6857548e-08],\n",
       "       [5.9604645e-08, 5.8114529e-07, 9.9929005e-01, 9.6857548e-08],\n",
       "       [5.9604645e-08, 5.8114529e-07, 9.9929005e-01, 9.6857548e-08],\n",
       "       [5.9604645e-08, 5.8114529e-07, 9.9929005e-01, 9.6857548e-08],\n",
       "       [5.9604645e-08, 5.8114529e-07, 9.9929005e-01, 9.6857548e-08],\n",
       "       [5.9604645e-08, 5.8114529e-07, 9.9929005e-01, 9.6857548e-08],\n",
       "       [5.9604645e-08, 5.8114529e-07, 9.9929005e-01, 9.6857548e-08],\n",
       "       [5.9604645e-08, 5.8114529e-07, 9.9929005e-01, 9.6857548e-08],\n",
       "       [5.9604645e-08, 5.8114529e-07, 9.9929005e-01, 9.6857548e-08],\n",
       "       [5.9604645e-08, 5.8114529e-07, 9.9929005e-01, 9.6857548e-08],\n",
       "       [5.9604645e-08, 5.8114529e-07, 9.9929005e-01, 9.6857548e-08],\n",
       "       [5.9604645e-08, 5.8114529e-07, 9.9929005e-01, 9.6857548e-08],\n",
       "       [5.9604645e-08, 5.8114529e-07, 9.9929005e-01, 9.6857548e-08],\n",
       "       [5.9604645e-08, 5.8114529e-07, 9.9929005e-01, 9.6857548e-08],\n",
       "       [5.9604645e-08, 5.8114529e-07, 9.9929005e-01, 9.6857548e-08],\n",
       "       [5.9604645e-08, 5.8114529e-07, 9.9929005e-01, 9.6857548e-08],\n",
       "       [5.9604645e-08, 5.8114529e-07, 9.9929005e-01, 9.6857548e-08],\n",
       "       [5.9604645e-08, 5.8114529e-07, 9.9929005e-01, 9.6857548e-08],\n",
       "       [5.9604645e-08, 5.8114529e-07, 9.9929005e-01, 9.6857548e-08],\n",
       "       [5.9604645e-08, 5.8114529e-07, 9.9929005e-01, 9.6857548e-08],\n",
       "       [5.9604645e-08, 5.8114529e-07, 9.9929005e-01, 9.6857548e-08],\n",
       "       [5.9604645e-08, 5.8114529e-07, 9.9929005e-01, 9.6857548e-08],\n",
       "       [5.9604645e-08, 5.8114529e-07, 9.9929005e-01, 9.6857548e-08],\n",
       "       [5.9604645e-08, 5.8114529e-07, 9.9929005e-01, 9.6857548e-08],\n",
       "       [5.9604645e-08, 5.8114529e-07, 9.9929005e-01, 9.6857548e-08],\n",
       "       [5.9604645e-08, 5.8114529e-07, 9.9929005e-01, 9.6857548e-08],\n",
       "       [5.9604645e-08, 5.8114529e-07, 9.9929005e-01, 9.6857548e-08],\n",
       "       [5.9604645e-08, 5.8114529e-07, 9.9929005e-01, 9.6857548e-08],\n",
       "       [5.9604645e-08, 5.8114529e-07, 9.9929005e-01, 9.6857548e-08],\n",
       "       [5.9604645e-08, 5.8114529e-07, 9.9929005e-01, 9.6857548e-08],\n",
       "       [5.9604645e-08, 5.8114529e-07, 9.9929005e-01, 9.6857548e-08],\n",
       "       [5.9604645e-08, 5.8114529e-07, 9.9929005e-01, 9.6857548e-08],\n",
       "       [5.9604645e-08, 5.8114529e-07, 9.9929005e-01, 9.6857548e-08],\n",
       "       [5.9604645e-08, 5.8114529e-07, 9.9929005e-01, 9.6857548e-08],\n",
       "       [5.9604645e-08, 5.8114529e-07, 9.9929005e-01, 9.6857548e-08],\n",
       "       [5.9604645e-08, 5.8114529e-07, 9.9929005e-01, 9.6857548e-08],\n",
       "       [5.9604645e-08, 5.8114529e-07, 9.9929005e-01, 9.6857548e-08],\n",
       "       [5.9604645e-08, 5.8114529e-07, 9.9929005e-01, 9.6857548e-08],\n",
       "       [5.9604645e-08, 5.8114529e-07, 9.9929005e-01, 9.6857548e-08],\n",
       "       [5.9604645e-08, 5.8114529e-07, 9.9929005e-01, 9.6857548e-08],\n",
       "       [5.9604645e-08, 5.8114529e-07, 9.9929005e-01, 9.6857548e-08],\n",
       "       [5.9604645e-08, 5.8114529e-07, 9.9929005e-01, 9.6857548e-08],\n",
       "       [5.9604645e-08, 5.8114529e-07, 9.9929005e-01, 9.6857548e-08],\n",
       "       [5.9604645e-08, 5.8114529e-07, 9.9929005e-01, 9.6857548e-08],\n",
       "       [5.9604645e-08, 5.8114529e-07, 9.9929005e-01, 9.6857548e-08],\n",
       "       [5.9604645e-08, 5.8114529e-07, 9.9929005e-01, 9.6857548e-08],\n",
       "       [5.9604645e-08, 5.8114529e-07, 9.9929005e-01, 9.6857548e-08],\n",
       "       [5.9604645e-08, 5.8114529e-07, 9.9929005e-01, 9.6857548e-08],\n",
       "       [5.9604645e-08, 5.8114529e-07, 9.9929005e-01, 9.6857548e-08],\n",
       "       [5.9604645e-08, 5.8114529e-07, 9.9929005e-01, 9.6857548e-08],\n",
       "       [5.9604645e-08, 5.8114529e-07, 9.9929005e-01, 9.6857548e-08],\n",
       "       [5.9604645e-08, 5.8114529e-07, 9.9929005e-01, 9.6857548e-08],\n",
       "       [5.9604645e-08, 5.8114529e-07, 9.9929005e-01, 9.6857548e-08],\n",
       "       [5.9604645e-08, 5.8114529e-07, 9.9929005e-01, 9.6857548e-08],\n",
       "       [5.9604645e-08, 5.8114529e-07, 9.9929005e-01, 9.6857548e-08],\n",
       "       [5.9604645e-08, 5.8114529e-07, 9.9929005e-01, 9.6857548e-08],\n",
       "       [5.9604645e-08, 5.8114529e-07, 9.9929005e-01, 9.6857548e-08],\n",
       "       [5.9604645e-08, 5.8114529e-07, 9.9929005e-01, 9.6857548e-08],\n",
       "       [5.9604645e-08, 5.8114529e-07, 9.9929005e-01, 9.6857548e-08],\n",
       "       [5.9604645e-08, 5.8114529e-07, 9.9929005e-01, 9.6857548e-08],\n",
       "       [5.9604645e-08, 5.8114529e-07, 9.9929005e-01, 9.6857548e-08],\n",
       "       [5.9604645e-08, 5.8114529e-07, 9.9929005e-01, 9.6857548e-08],\n",
       "       [5.9604645e-08, 5.8114529e-07, 9.9929005e-01, 9.6857548e-08],\n",
       "       [5.9604645e-08, 5.8114529e-07, 9.9929005e-01, 9.6857548e-08],\n",
       "       [5.9604645e-08, 5.8114529e-07, 9.9929005e-01, 9.6857548e-08]],\n",
       "      dtype=float32)"
      ]
     },
     "execution_count": 29,
     "metadata": {},
     "output_type": "execute_result"
    }
   ],
   "source": [
    "predicted"
   ]
  },
  {
   "cell_type": "code",
   "execution_count": 30,
   "id": "94239ebd",
   "metadata": {},
   "outputs": [
    {
     "ename": "NotFittedError",
     "evalue": "This MinMaxScaler instance is not fitted yet. Call 'fit' with appropriate arguments before using this estimator.",
     "output_type": "error",
     "traceback": [
      "\u001b[1;31m---------------------------------------------------------------------------\u001b[0m",
      "\u001b[1;31mNotFittedError\u001b[0m                            Traceback (most recent call last)",
      "\u001b[1;32m<ipython-input-30-8e52268c7b2c>\u001b[0m in \u001b[0;36m<module>\u001b[1;34m\u001b[0m\n\u001b[1;32m----> 1\u001b[1;33m \u001b[0mpredicted\u001b[0m\u001b[1;33m=\u001b[0m \u001b[0mms\u001b[0m\u001b[1;33m.\u001b[0m\u001b[0minverse_transform\u001b[0m\u001b[1;33m(\u001b[0m\u001b[0mpredicted\u001b[0m\u001b[1;33m)\u001b[0m\u001b[1;33m\u001b[0m\u001b[1;33m\u001b[0m\u001b[0m\n\u001b[0m\u001b[0;32m      2\u001b[0m \u001b[0mlabel_y\u001b[0m \u001b[1;33m=\u001b[0m \u001b[0mms\u001b[0m\u001b[1;33m.\u001b[0m\u001b[0minverse_transform\u001b[0m\u001b[1;33m(\u001b[0m\u001b[0mlabel_y\u001b[0m\u001b[1;33m)\u001b[0m\u001b[1;33m\u001b[0m\u001b[1;33m\u001b[0m\u001b[0m\n\u001b[0;32m      3\u001b[0m \u001b[0mplt\u001b[0m\u001b[1;33m.\u001b[0m\u001b[0mfigure\u001b[0m\u001b[1;33m(\u001b[0m\u001b[0mfigsize\u001b[0m\u001b[1;33m=\u001b[0m\u001b[1;33m(\u001b[0m\u001b[1;36m10\u001b[0m\u001b[1;33m,\u001b[0m\u001b[1;36m6\u001b[0m\u001b[1;33m)\u001b[0m\u001b[1;33m)\u001b[0m\u001b[1;33m\u001b[0m\u001b[1;33m\u001b[0m\u001b[0m\n\u001b[0;32m      4\u001b[0m \u001b[0mplt\u001b[0m\u001b[1;33m.\u001b[0m\u001b[0maxvline\u001b[0m\u001b[1;33m(\u001b[0m\u001b[0mx\u001b[0m\u001b[1;33m=\u001b[0m\u001b[1;36m200\u001b[0m\u001b[1;33m,\u001b[0m \u001b[0mc\u001b[0m\u001b[1;33m=\u001b[0m\u001b[1;34m'r'\u001b[0m\u001b[1;33m,\u001b[0m \u001b[0mlinestyle\u001b[0m\u001b[1;33m=\u001b[0m\u001b[1;34m'--'\u001b[0m\u001b[1;33m)\u001b[0m\u001b[1;33m\u001b[0m\u001b[1;33m\u001b[0m\u001b[0m\n\u001b[0;32m      5\u001b[0m \u001b[1;33m\u001b[0m\u001b[0m\n",
      "\u001b[1;32m~\\anaconda3\\lib\\site-packages\\sklearn\\preprocessing\\_data.py\u001b[0m in \u001b[0;36minverse_transform\u001b[1;34m(self, X)\u001b[0m\n\u001b[0;32m    454\u001b[0m             \u001b[0mTransformed\u001b[0m \u001b[0mdata\u001b[0m\u001b[1;33m.\u001b[0m\u001b[1;33m\u001b[0m\u001b[1;33m\u001b[0m\u001b[0m\n\u001b[0;32m    455\u001b[0m         \"\"\"\n\u001b[1;32m--> 456\u001b[1;33m         \u001b[0mcheck_is_fitted\u001b[0m\u001b[1;33m(\u001b[0m\u001b[0mself\u001b[0m\u001b[1;33m)\u001b[0m\u001b[1;33m\u001b[0m\u001b[1;33m\u001b[0m\u001b[0m\n\u001b[0m\u001b[0;32m    457\u001b[0m \u001b[1;33m\u001b[0m\u001b[0m\n\u001b[0;32m    458\u001b[0m         X = check_array(X, copy=self.copy, dtype=FLOAT_DTYPES,\n",
      "\u001b[1;32m~\\anaconda3\\lib\\site-packages\\sklearn\\utils\\validation.py\u001b[0m in \u001b[0;36minner_f\u001b[1;34m(*args, **kwargs)\u001b[0m\n\u001b[0;32m     61\u001b[0m             \u001b[0mextra_args\u001b[0m \u001b[1;33m=\u001b[0m \u001b[0mlen\u001b[0m\u001b[1;33m(\u001b[0m\u001b[0margs\u001b[0m\u001b[1;33m)\u001b[0m \u001b[1;33m-\u001b[0m \u001b[0mlen\u001b[0m\u001b[1;33m(\u001b[0m\u001b[0mall_args\u001b[0m\u001b[1;33m)\u001b[0m\u001b[1;33m\u001b[0m\u001b[1;33m\u001b[0m\u001b[0m\n\u001b[0;32m     62\u001b[0m             \u001b[1;32mif\u001b[0m \u001b[0mextra_args\u001b[0m \u001b[1;33m<=\u001b[0m \u001b[1;36m0\u001b[0m\u001b[1;33m:\u001b[0m\u001b[1;33m\u001b[0m\u001b[1;33m\u001b[0m\u001b[0m\n\u001b[1;32m---> 63\u001b[1;33m                 \u001b[1;32mreturn\u001b[0m \u001b[0mf\u001b[0m\u001b[1;33m(\u001b[0m\u001b[1;33m*\u001b[0m\u001b[0margs\u001b[0m\u001b[1;33m,\u001b[0m \u001b[1;33m**\u001b[0m\u001b[0mkwargs\u001b[0m\u001b[1;33m)\u001b[0m\u001b[1;33m\u001b[0m\u001b[1;33m\u001b[0m\u001b[0m\n\u001b[0m\u001b[0;32m     64\u001b[0m \u001b[1;33m\u001b[0m\u001b[0m\n\u001b[0;32m     65\u001b[0m             \u001b[1;31m# extra_args > 0\u001b[0m\u001b[1;33m\u001b[0m\u001b[1;33m\u001b[0m\u001b[1;33m\u001b[0m\u001b[0m\n",
      "\u001b[1;32m~\\anaconda3\\lib\\site-packages\\sklearn\\utils\\validation.py\u001b[0m in \u001b[0;36mcheck_is_fitted\u001b[1;34m(estimator, attributes, msg, all_or_any)\u001b[0m\n\u001b[0;32m   1039\u001b[0m \u001b[1;33m\u001b[0m\u001b[0m\n\u001b[0;32m   1040\u001b[0m     \u001b[1;32mif\u001b[0m \u001b[1;32mnot\u001b[0m \u001b[0mattrs\u001b[0m\u001b[1;33m:\u001b[0m\u001b[1;33m\u001b[0m\u001b[1;33m\u001b[0m\u001b[0m\n\u001b[1;32m-> 1041\u001b[1;33m         \u001b[1;32mraise\u001b[0m \u001b[0mNotFittedError\u001b[0m\u001b[1;33m(\u001b[0m\u001b[0mmsg\u001b[0m \u001b[1;33m%\u001b[0m \u001b[1;33m{\u001b[0m\u001b[1;34m'name'\u001b[0m\u001b[1;33m:\u001b[0m \u001b[0mtype\u001b[0m\u001b[1;33m(\u001b[0m\u001b[0mestimator\u001b[0m\u001b[1;33m)\u001b[0m\u001b[1;33m.\u001b[0m\u001b[0m__name__\u001b[0m\u001b[1;33m}\u001b[0m\u001b[1;33m)\u001b[0m\u001b[1;33m\u001b[0m\u001b[1;33m\u001b[0m\u001b[0m\n\u001b[0m\u001b[0;32m   1042\u001b[0m \u001b[1;33m\u001b[0m\u001b[0m\n\u001b[0;32m   1043\u001b[0m \u001b[1;33m\u001b[0m\u001b[0m\n",
      "\u001b[1;31mNotFittedError\u001b[0m: This MinMaxScaler instance is not fitted yet. Call 'fit' with appropriate arguments before using this estimator."
     ]
    }
   ],
   "source": [
    "predicted= ms.inverse_transform(predicted) \n",
    "label_y = ms.inverse_transform(label_y)\n",
    "plt.figure(figsize=(10,6)) \n",
    "plt.axvline(x=200, c='r', linestyle='--') \n",
    "\n",
    "plt.plot(label_y, label='Actual Data') \n",
    "plt.plot(predicted, label='Predicted Data') \n",
    "plt.title('Time-Series Prediction')\n",
    "plt.legend()\n",
    "plt.show()"
   ]
  },
  {
   "cell_type": "code",
   "execution_count": null,
   "id": "eaf08487",
   "metadata": {},
   "outputs": [],
   "source": [
    "len(predicted)"
   ]
  },
  {
   "cell_type": "code",
   "execution_count": null,
   "id": "b11d83bf",
   "metadata": {},
   "outputs": [],
   "source": []
  },
  {
   "cell_type": "code",
   "execution_count": null,
   "id": "91c411be",
   "metadata": {},
   "outputs": [],
   "source": []
  }
 ],
 "metadata": {
  "kernelspec": {
   "display_name": "Python 3",
   "language": "python",
   "name": "python3"
  },
  "language_info": {
   "codemirror_mode": {
    "name": "ipython",
    "version": 3
   },
   "file_extension": ".py",
   "mimetype": "text/x-python",
   "name": "python",
   "nbconvert_exporter": "python",
   "pygments_lexer": "ipython3",
   "version": "3.8.8"
  }
 },
 "nbformat": 4,
 "nbformat_minor": 5
}
