{
 "cells": [
  {
   "cell_type": "code",
   "execution_count": 1,
   "id": "e658b27d",
   "metadata": {},
   "outputs": [
    {
     "ename": "ModuleNotFoundError",
     "evalue": "No module named 'lightgbm'",
     "output_type": "error",
     "traceback": [
      "\u001b[1;31m---------------------------------------------------------------------------\u001b[0m",
      "\u001b[1;31mModuleNotFoundError\u001b[0m                       Traceback (most recent call last)",
      "Cell \u001b[1;32mIn[1], line 5\u001b[0m\n\u001b[0;32m      3\u001b[0m \u001b[38;5;28;01mfrom\u001b[39;00m \u001b[38;5;21;01msklearn\u001b[39;00m\u001b[38;5;21;01m.\u001b[39;00m\u001b[38;5;21;01mensemble\u001b[39;00m \u001b[38;5;28;01mimport\u001b[39;00m RandomForestRegressor\n\u001b[0;32m      4\u001b[0m \u001b[38;5;28;01mfrom\u001b[39;00m \u001b[38;5;21;01msklearn\u001b[39;00m\u001b[38;5;21;01m.\u001b[39;00m\u001b[38;5;21;01mensemble\u001b[39;00m \u001b[38;5;28;01mimport\u001b[39;00m GradientBoostingRegressor\n\u001b[1;32m----> 5\u001b[0m \u001b[38;5;28;01mfrom\u001b[39;00m \u001b[38;5;21;01mlightgbm\u001b[39;00m \u001b[38;5;28;01mimport\u001b[39;00m LGBMRegressor, LGBMClassifier\n\u001b[0;32m      7\u001b[0m \u001b[38;5;66;03m# Linear\u001b[39;00m\n\u001b[0;32m      8\u001b[0m lr \u001b[38;5;241m=\u001b[39m LinearRegression()\n",
      "\u001b[1;31mModuleNotFoundError\u001b[0m: No module named 'lightgbm'"
     ]
    }
   ],
   "source": [
    "from sklearn.linear_model import LinearRegression\n",
    "from sklearn.linear_model import Ridge\n",
    "from sklearn.ensemble import RandomForestRegressor\n",
    "from sklearn.ensemble import GradientBoostingRegressor\n",
    "from lightgbm import LGBMRegressor, LGBMClassifier\n",
    "\n",
    "# Linear\n",
    "lr = LinearRegression()\n",
    "lr.fit(X_train, y_train)\n",
    "linear_pred = lr.predict(X_test)\n",
    "# linear_pred = lr.predict(X_train)\n",
    "\n",
    "# Ridge\n",
    "clf = Ridge(alpha=1.0)\n",
    "clf.fit(X_train, y_train)\n",
    "ridge_pred = clf.predict(X_test)\n",
    "# ridge_pred = clf.predict(X_train)\n",
    "\n",
    "# RandomForestRegressor\n",
    "regr = RandomForestRegressor(max_depth=4, random_state=0)\n",
    "regr.fit(X_train, y_train)\n",
    "regr_pred = regr.predict(X_test)\n",
    "# regr_pred = regr.predict(X_train)\n",
    "\n",
    "# GradientBoostingRegressor\n",
    "reg = GradientBoostingRegressor(random_state=0)\n",
    "reg.fit(X_train, y_train)\n",
    "reg_pred = reg.predict(X_test)\n",
    "# reg_pred = reg.predict(X_train)\n",
    "\n",
    "# 최종모델\n",
    "lgbm = LGBMRegressor()\n",
    "\n",
    "new_data = np.array([linear_pred.squeeze(),ridge_pred.squeeze(),regr_pred.squeeze(),reg_pred.squeeze(),DNN_y_predicted.squeeze()])\n",
    "# new_data = np.array([linear_pred,ridge_pred,regr_pred,reg_pred,DNN_y_predicted])\n",
    "print(new_data.shape)\n",
    "\n",
    "new_data = np.transpose(new_data)\n",
    "print(new_data.shape)\n",
    "\n",
    "lgbm.fit(new_data,y_test)\n",
    "# lgbm.fit(new_data, y_train)\n",
    "lgbm_pred = lgbm.predict(new_data)\n",
    "# lgbm_pred = lgbm.predict(X_test)\n",
    "\n",
    "mse_eval('Stacking Machine (ML+DNN)', y_test.squeeze(), lgbm_pred)"
   ]
  },
  {
   "cell_type": "code",
   "execution_count": null,
   "id": "a6251771",
   "metadata": {},
   "outputs": [],
   "source": []
  }
 ],
 "metadata": {
  "kernelspec": {
   "display_name": "Python 3 (ipykernel)",
   "language": "python",
   "name": "python3"
  },
  "language_info": {
   "codemirror_mode": {
    "name": "ipython",
    "version": 3
   },
   "file_extension": ".py",
   "mimetype": "text/x-python",
   "name": "python",
   "nbconvert_exporter": "python",
   "pygments_lexer": "ipython3",
   "version": "3.8.11"
  }
 },
 "nbformat": 4,
 "nbformat_minor": 5
}
