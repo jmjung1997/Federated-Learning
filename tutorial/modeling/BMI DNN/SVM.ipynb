{
 "cells": [
  {
   "cell_type": "code",
   "execution_count": 1,
   "id": "c4cedda8",
   "metadata": {},
   "outputs": [],
   "source": [
    "import pandas as pd\n",
    "from sklearn import svm\n",
    "import numpy as np\n",
    "import sklearn.model_selection as model_selection\n",
    "from sklearn.metrics import accuracy_score\n",
    "from sklearn.metrics import f1_score\n",
    "from sklearn.preprocessing import MinMaxScaler\n",
    "import random\n",
    "from imblearn.over_sampling import SMOTE"
   ]
  },
  {
   "cell_type": "code",
   "execution_count": 2,
   "id": "90435fda",
   "metadata": {},
   "outputs": [],
   "source": [
    "df=pd.read_excel(\"2Weeks_data.xlsx\",sheet_name=\"Data\")"
   ]
  },
  {
   "cell_type": "code",
   "execution_count": 3,
   "id": "29421c5b",
   "metadata": {},
   "outputs": [
    {
     "data": {
      "text/html": [
       "<div>\n",
       "<style scoped>\n",
       "    .dataframe tbody tr th:only-of-type {\n",
       "        vertical-align: middle;\n",
       "    }\n",
       "\n",
       "    .dataframe tbody tr th {\n",
       "        vertical-align: top;\n",
       "    }\n",
       "\n",
       "    .dataframe thead th {\n",
       "        text-align: right;\n",
       "    }\n",
       "</style>\n",
       "<table border=\"1\" class=\"dataframe\">\n",
       "  <thead>\n",
       "    <tr style=\"text-align: right;\">\n",
       "      <th></th>\n",
       "      <th>Unnamed: 0</th>\n",
       "      <th>ID</th>\n",
       "      <th>Weight</th>\n",
       "      <th>BMI</th>\n",
       "      <th>Step</th>\n",
       "      <th>Burn</th>\n",
       "      <th>Eat</th>\n",
       "      <th>Sleep</th>\n",
       "      <th>Height</th>\n",
       "      <th>Label</th>\n",
       "      <th>Unnamed: 10</th>\n",
       "    </tr>\n",
       "  </thead>\n",
       "  <tbody>\n",
       "    <tr>\n",
       "      <th>0</th>\n",
       "      <td>0</td>\n",
       "      <td>#AAGQKY</td>\n",
       "      <td>45.0</td>\n",
       "      <td>20.544193</td>\n",
       "      <td>72.0</td>\n",
       "      <td>0.0</td>\n",
       "      <td>0.0</td>\n",
       "      <td>0.0</td>\n",
       "      <td>148.0</td>\n",
       "      <td>0</td>\n",
       "      <td>73.0</td>\n",
       "    </tr>\n",
       "    <tr>\n",
       "      <th>1</th>\n",
       "      <td>1</td>\n",
       "      <td>#AAGQKY</td>\n",
       "      <td>45.0</td>\n",
       "      <td>20.544193</td>\n",
       "      <td>72.0</td>\n",
       "      <td>0.0</td>\n",
       "      <td>0.0</td>\n",
       "      <td>0.0</td>\n",
       "      <td>148.0</td>\n",
       "      <td>0</td>\n",
       "      <td>1755.0</td>\n",
       "    </tr>\n",
       "    <tr>\n",
       "      <th>2</th>\n",
       "      <td>2</td>\n",
       "      <td>#AAGQKY</td>\n",
       "      <td>45.0</td>\n",
       "      <td>20.544193</td>\n",
       "      <td>72.0</td>\n",
       "      <td>0.0</td>\n",
       "      <td>0.0</td>\n",
       "      <td>0.0</td>\n",
       "      <td>148.0</td>\n",
       "      <td>0</td>\n",
       "      <td>102.0</td>\n",
       "    </tr>\n",
       "    <tr>\n",
       "      <th>3</th>\n",
       "      <td>3</td>\n",
       "      <td>#AAGQKY</td>\n",
       "      <td>45.0</td>\n",
       "      <td>20.544193</td>\n",
       "      <td>72.0</td>\n",
       "      <td>0.0</td>\n",
       "      <td>0.0</td>\n",
       "      <td>0.0</td>\n",
       "      <td>148.0</td>\n",
       "      <td>0</td>\n",
       "      <td>NaN</td>\n",
       "    </tr>\n",
       "    <tr>\n",
       "      <th>4</th>\n",
       "      <td>4</td>\n",
       "      <td>#AAGQKY</td>\n",
       "      <td>45.0</td>\n",
       "      <td>20.544193</td>\n",
       "      <td>72.0</td>\n",
       "      <td>0.0</td>\n",
       "      <td>0.0</td>\n",
       "      <td>0.0</td>\n",
       "      <td>148.0</td>\n",
       "      <td>0</td>\n",
       "      <td>NaN</td>\n",
       "    </tr>\n",
       "    <tr>\n",
       "      <th>...</th>\n",
       "      <td>...</td>\n",
       "      <td>...</td>\n",
       "      <td>...</td>\n",
       "      <td>...</td>\n",
       "      <td>...</td>\n",
       "      <td>...</td>\n",
       "      <td>...</td>\n",
       "      <td>...</td>\n",
       "      <td>...</td>\n",
       "      <td>...</td>\n",
       "      <td>...</td>\n",
       "    </tr>\n",
       "    <tr>\n",
       "      <th>1927</th>\n",
       "      <td>1927</td>\n",
       "      <td>#ZZLSSL</td>\n",
       "      <td>68.0</td>\n",
       "      <td>29.048656</td>\n",
       "      <td>0.0</td>\n",
       "      <td>0.0</td>\n",
       "      <td>0.0</td>\n",
       "      <td>0.0</td>\n",
       "      <td>153.0</td>\n",
       "      <td>0</td>\n",
       "      <td>NaN</td>\n",
       "    </tr>\n",
       "    <tr>\n",
       "      <th>1928</th>\n",
       "      <td>1928</td>\n",
       "      <td>#ZZLSSL</td>\n",
       "      <td>68.0</td>\n",
       "      <td>29.048656</td>\n",
       "      <td>0.0</td>\n",
       "      <td>0.0</td>\n",
       "      <td>0.0</td>\n",
       "      <td>0.0</td>\n",
       "      <td>153.0</td>\n",
       "      <td>0</td>\n",
       "      <td>NaN</td>\n",
       "    </tr>\n",
       "    <tr>\n",
       "      <th>1929</th>\n",
       "      <td>1929</td>\n",
       "      <td>#ZZLSSL</td>\n",
       "      <td>68.0</td>\n",
       "      <td>29.048656</td>\n",
       "      <td>0.0</td>\n",
       "      <td>0.0</td>\n",
       "      <td>0.0</td>\n",
       "      <td>0.0</td>\n",
       "      <td>153.0</td>\n",
       "      <td>0</td>\n",
       "      <td>NaN</td>\n",
       "    </tr>\n",
       "    <tr>\n",
       "      <th>1930</th>\n",
       "      <td>1930</td>\n",
       "      <td>#ZZLSSL</td>\n",
       "      <td>68.0</td>\n",
       "      <td>29.048656</td>\n",
       "      <td>0.0</td>\n",
       "      <td>0.0</td>\n",
       "      <td>0.0</td>\n",
       "      <td>0.0</td>\n",
       "      <td>153.0</td>\n",
       "      <td>0</td>\n",
       "      <td>NaN</td>\n",
       "    </tr>\n",
       "    <tr>\n",
       "      <th>1931</th>\n",
       "      <td>1931</td>\n",
       "      <td>#ZZLSSL</td>\n",
       "      <td>68.0</td>\n",
       "      <td>29.048656</td>\n",
       "      <td>0.0</td>\n",
       "      <td>0.0</td>\n",
       "      <td>0.0</td>\n",
       "      <td>0.0</td>\n",
       "      <td>153.0</td>\n",
       "      <td>0</td>\n",
       "      <td>NaN</td>\n",
       "    </tr>\n",
       "  </tbody>\n",
       "</table>\n",
       "<p>1932 rows × 11 columns</p>\n",
       "</div>"
      ],
      "text/plain": [
       "      Unnamed: 0       ID  Weight        BMI  Step  Burn  Eat  Sleep  Height  \\\n",
       "0              0  #AAGQKY    45.0  20.544193  72.0   0.0  0.0    0.0   148.0   \n",
       "1              1  #AAGQKY    45.0  20.544193  72.0   0.0  0.0    0.0   148.0   \n",
       "2              2  #AAGQKY    45.0  20.544193  72.0   0.0  0.0    0.0   148.0   \n",
       "3              3  #AAGQKY    45.0  20.544193  72.0   0.0  0.0    0.0   148.0   \n",
       "4              4  #AAGQKY    45.0  20.544193  72.0   0.0  0.0    0.0   148.0   \n",
       "...          ...      ...     ...        ...   ...   ...  ...    ...     ...   \n",
       "1927        1927  #ZZLSSL    68.0  29.048656   0.0   0.0  0.0    0.0   153.0   \n",
       "1928        1928  #ZZLSSL    68.0  29.048656   0.0   0.0  0.0    0.0   153.0   \n",
       "1929        1929  #ZZLSSL    68.0  29.048656   0.0   0.0  0.0    0.0   153.0   \n",
       "1930        1930  #ZZLSSL    68.0  29.048656   0.0   0.0  0.0    0.0   153.0   \n",
       "1931        1931  #ZZLSSL    68.0  29.048656   0.0   0.0  0.0    0.0   153.0   \n",
       "\n",
       "      Label  Unnamed: 10  \n",
       "0         0         73.0  \n",
       "1         0       1755.0  \n",
       "2         0        102.0  \n",
       "3         0          NaN  \n",
       "4         0          NaN  \n",
       "...     ...          ...  \n",
       "1927      0          NaN  \n",
       "1928      0          NaN  \n",
       "1929      0          NaN  \n",
       "1930      0          NaN  \n",
       "1931      0          NaN  \n",
       "\n",
       "[1932 rows x 11 columns]"
      ]
     },
     "execution_count": 3,
     "metadata": {},
     "output_type": "execute_result"
    }
   ],
   "source": [
    "df"
   ]
  },
  {
   "cell_type": "code",
   "execution_count": 4,
   "id": "6fcfd8ca",
   "metadata": {},
   "outputs": [],
   "source": [
    "X_train=df.iloc[:,2:8]\n",
    "y_train=df.iloc[:,9:10]\n",
    "X_test=df.iloc[:,2:8]\n",
    "y_test=df.iloc[:,9:10]"
   ]
  },
  {
   "cell_type": "code",
   "execution_count": 5,
   "id": "9fb126e4",
   "metadata": {},
   "outputs": [
    {
     "data": {
      "text/plain": [
       "(1932, 6)"
      ]
     },
     "execution_count": 5,
     "metadata": {},
     "output_type": "execute_result"
    }
   ],
   "source": [
    "X_train.shape"
   ]
  },
  {
   "cell_type": "code",
   "execution_count": 6,
   "id": "2f022cfb",
   "metadata": {},
   "outputs": [
    {
     "data": {
      "text/plain": [
       "(1932, 1)"
      ]
     },
     "execution_count": 6,
     "metadata": {},
     "output_type": "execute_result"
    }
   ],
   "source": [
    "y_train.shape"
   ]
  },
  {
   "cell_type": "code",
   "execution_count": 7,
   "id": "1d076277",
   "metadata": {},
   "outputs": [
    {
     "name": "stdout",
     "output_type": "stream",
     "text": [
      "SMOTE 적용 전 학습용 피처/레이블 데이터 세트:  (1932, 6) (1932, 1)\n",
      "SMOTE 적용 후 학습용 피처/레이블 데이터 세트:  (5271, 6) (5271, 1)\n"
     ]
    }
   ],
   "source": [
    "smote = SMOTE(random_state=0)\n",
    "X_train_over,y_train_over = smote.fit_resample(X_train,y_train)\n",
    "\n",
    "print('SMOTE 적용 전 학습용 피처/레이블 데이터 세트: ', X_train.shape, y_train.shape)\n",
    "print('SMOTE 적용 후 학습용 피처/레이블 데이터 세트: ', X_train_over.shape, y_train_over.shape)"
   ]
  },
  {
   "cell_type": "code",
   "execution_count": 8,
   "id": "2b841a2c",
   "metadata": {},
   "outputs": [],
   "source": [
    "sc_x=MinMaxScaler(feature_range=(0,1))\n",
    "sc_y=MinMaxScaler(feature_range=(0,1))"
   ]
  },
  {
   "cell_type": "code",
   "execution_count": 9,
   "id": "3c881298",
   "metadata": {},
   "outputs": [],
   "source": [
    "X_train=sc_x.fit_transform(X_train_over)\n",
    "# y_train=sc_y.fit_transform(y_train)\n",
    "X_test=sc_x.fit_transform(X_test)\n",
    "# y_test=sc_y.fit_transform(y_test)"
   ]
  },
  {
   "cell_type": "code",
   "execution_count": 10,
   "id": "b371d883",
   "metadata": {},
   "outputs": [],
   "source": [
    "X_train=np.array(X_train)\n",
    "y_train=np.array(y_train_over)\n",
    "X_test=np.array(X_test)\n",
    "y_test=np.array(y_test)"
   ]
  },
  {
   "cell_type": "code",
   "execution_count": 17,
   "id": "ed990a3e",
   "metadata": {},
   "outputs": [
    {
     "name": "stderr",
     "output_type": "stream",
     "text": [
      "C:\\Users\\user\\anaconda3\\lib\\site-packages\\sklearn\\utils\\validation.py:1111: DataConversionWarning: A column-vector y was passed when a 1d array was expected. Please change the shape of y to (n_samples, ), for example using ravel().\n",
      "  y = column_or_1d(y, warn=True)\n"
     ]
    },
    {
     "name": "stdout",
     "output_type": "stream",
     "text": [
      "Accuracy (Polynomial Kernel):  39.03\n",
      "F1 (Polynomial Kernel):  50.78\n"
     ]
    }
   ],
   "source": [
    "poly = svm.SVC(kernel='poly', degree=3, C=1).fit(X_train, y_train)\n",
    "\n",
    "poly_pred = poly.predict(X_test)\n",
    "# print(poly_pred.shape())\n",
    "\n",
    "#poly\n",
    "poly_accuracy = accuracy_score(y_test, poly_pred)\n",
    "poly_f1 = f1_score(y_test, poly_pred, average='weighted')\n",
    "print('Accuracy (Polynomial Kernel): ', \"%.2f\" % (poly_accuracy*100))\n",
    "print('F1 (Polynomial Kernel): ', \"%.2f\" % (poly_f1*100))"
   ]
  }
 ],
 "metadata": {
  "kernelspec": {
   "display_name": "Python 3 (ipykernel)",
   "language": "python",
   "name": "python3"
  },
  "language_info": {
   "codemirror_mode": {
    "name": "ipython",
    "version": 3
   },
   "file_extension": ".py",
   "mimetype": "text/x-python",
   "name": "python",
   "nbconvert_exporter": "python",
   "pygments_lexer": "ipython3",
   "version": "3.9.12"
  }
 },
 "nbformat": 4,
 "nbformat_minor": 5
}
