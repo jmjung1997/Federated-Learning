{
 "cells": [
  {
   "cell_type": "markdown",
   "id": "a4661d8e",
   "metadata": {},
   "source": [
    "## 기본 베이지 DNN"
   ]
  },
  {
   "cell_type": "code",
   "execution_count": 1,
   "id": "fdca589c",
   "metadata": {},
   "outputs": [],
   "source": [
    "import pandas as pd\n",
    "import numpy as np\n",
    "import torch\n",
    "import torch.nn as nn\n",
    "from sklearn.preprocessing import MinMaxScaler\n",
    "from tensorflow.python.keras.models import Sequential\n",
    "from tensorflow.python.keras.layers import Dense,Dropout,Activation\n",
    "from torch.utils.data import TensorDataset, DataLoader\n",
    "from tensorflow.python.keras import metrics\n",
    "from tensorflow.python import keras\n",
    "import tensorflow as tf\n",
    "import matplotlib.pyplot as plt\n",
    "import os\n",
    "from imblearn.over_sampling import SMOTE\n",
    "import math\n",
    "import matplotlib.pyplot as plt\n",
    "%matplotlib inline\n",
    "\n"
   ]
  },
  {
   "cell_type": "code",
   "execution_count": 2,
   "id": "69a5dcb4",
   "metadata": {},
   "outputs": [],
   "source": [
    "%matplotlib inline"
   ]
  },
  {
   "cell_type": "code",
   "execution_count": 3,
   "id": "324a1b1a",
   "metadata": {},
   "outputs": [
    {
     "name": "stdout",
     "output_type": "stream",
     "text": [
      "SMOTE 적용 전 학습용 피처/레이블 데이터 세트:  (57200, 6) (57200,)\n",
      "SMOTE 적용 후 학습용 피처/레이블 데이터 세트:  (150168, 6) (150168,)\n",
      "SMOTE 적용 전 레이블 값 분포: \n",
      " 0    50056\n",
      "1     4698\n",
      "2     2446\n",
      "Name: 8, dtype: int64\n",
      "SMOTE 적용 후 레이블 값 분포: \n",
      " 0    50056\n",
      "1    50056\n",
      "2    50056\n",
      "Name: 8, dtype: int64\n"
     ]
    }
   ],
   "source": [
    "df=pd.read_excel('./optimal_data3_1/'+'Continous_2weeks_7day_1term.xlsx')\n",
    "df.head()\n",
    "X=df.iloc[:,[1,3,4,5,6,7]]\n",
    "y=df.iloc[:,-1]\n",
    "\n",
    "\n",
    "from sklearn.preprocessing import StandardScaler\n",
    "from sklearn.model_selection import train_test_split\n",
    "\n",
    "scaler = StandardScaler()\n",
    "X_scaler = scaler.fit_transform(X)\n",
    "smote = SMOTE(random_state=0)\n",
    "X_train_over,y_train_over = smote.fit_resample(X_scaler,y)\n",
    "print('SMOTE 적용 전 학습용 피처/레이블 데이터 세트: ', X_scaler.shape, y.shape)\n",
    "print('SMOTE 적용 후 학습용 피처/레이블 데이터 세트: ', X_train_over.shape, y_train_over.shape)\n",
    "print('SMOTE 적용 전 레이블 값 분포: \\n', pd.Series(y).value_counts())\n",
    "print('SMOTE 적용 후 레이블 값 분포: \\n', pd.Series(y_train_over).value_counts())"
   ]
  },
  {
   "cell_type": "code",
   "execution_count": 6,
   "id": "b267ff3a",
   "metadata": {},
   "outputs": [],
   "source": [
    "X_train, X_test, y_train, y_test = train_test_split(X_train_over, y_train_over, test_size=0.20, stratify=y_train_over)\n",
    "\n",
    "# X_train = scaler.fit_transform(X_train)\n",
    "# X_test = scaler.transform(X_test)\n",
    "\n",
    "\n",
    "X_train = torch.FloatTensor(X_train)\n",
    "X_test = torch.FloatTensor(X_test)\n",
    "y_train = torch.LongTensor(y_train.to_numpy())\n",
    "y_test = torch.LongTensor(y_test.to_numpy())\n",
    "\n",
    "train_dataset = TensorDataset(X_train, y_train)\n",
    "test_dataset=TensorDataset(X_test, y_test)\n",
    "\n",
    "train_dataloader = DataLoader(train_dataset, batch_size=16,shuffle=False)\n",
    "test_dataloader = DataLoader(test_dataset, batch_size=16,shuffle=False)\n",
    "\n",
    "import torch.nn as nn\n",
    "import torch.nn.functional as F\n",
    "import torch.optim as optim"
   ]
  },
  {
   "cell_type": "code",
   "execution_count": 7,
   "id": "d71d3a2d",
   "metadata": {},
   "outputs": [
    {
     "data": {
      "text/plain": [
       "tensor(2)"
      ]
     },
     "execution_count": 7,
     "metadata": {},
     "output_type": "execute_result"
    }
   ],
   "source": [
    "train_dataset[0][1]"
   ]
  },
  {
   "cell_type": "code",
   "execution_count": 8,
   "id": "36f43b2c",
   "metadata": {},
   "outputs": [],
   "source": [
    "class DNNModel(nn.Module):\n",
    "    def __init__(self):\n",
    "        super(DNNModel, self).__init__()\n",
    "        self.input_layer = nn.Linear(6, 128)\n",
    "        self.hidden_layer1 = nn.Linear(128, 256)\n",
    "        self.hidden_layer2 = nn.Linear(256, 128)\n",
    "        self.output_layer   = nn.Linear(128,3)\n",
    "        self.relu = nn.ReLU()\n",
    "\n",
    "\n",
    "\n",
    "    def forward(self, x):\n",
    "        out =  self.relu(self.input_layer(x))\n",
    "        out =  self.relu(self.hidden_layer1(out))\n",
    "        out =  self.relu(self.hidden_layer2(out))\n",
    "        out =  self.output_layer(out)\n",
    "        return out \n",
    "\n",
    "\n",
    "\n",
    "# device 설정 (cuda:0 혹은 cpu)\n",
    "device = torch.device(\"cuda:0\" if torch.cuda.is_available() else \"cpu\")\n",
    "model = DNNModel() # Model 생성\n",
    "model.to(device)   # device 에 로드 (cpu or cuda)\n",
    "\n",
    "# 옵티마이저를 정의합니다. 옵티마이저에는 model.parameters()를 지정해야 합니다.\n",
    "optimizer = optim.Adam(model.parameters(), lr=0.001)\n",
    "\n",
    "# 손실함수(loss function)을 지정합니다. Multi-Class Classification 이기 때문에 CrossEntropy 손실을 지정하였습니다.\n",
    "loss_fn = nn.CrossEntropyLoss()"
   ]
  },
  {
   "cell_type": "code",
   "execution_count": 9,
   "id": "84ee7a15",
   "metadata": {},
   "outputs": [],
   "source": [
    "from tqdm import tqdm  # Progress Bar 출력\n",
    "\n",
    "def model_train(model, data_loader, loss_fn, optimizer, device):\n",
    "    # 모델을 훈련모드로 설정합니다. training mode 일 때 Gradient 가 업데이트 됩니다. 반드시 train()으로 모드 변경을 해야 합니다.\n",
    "    model.train()\n",
    "    # loss와 accuracy 계산을 위한 임시 변수 입니다. 0으로 초기화합니다.\n",
    "    running_loss = 0\n",
    "    corr = 0\n",
    "\n",
    "    # 예쁘게 Progress Bar를 출력하면서 훈련 상태를 모니터링 하기 위하여 tqdm으로 래핑합니다.\n",
    "    prograss_bar = tqdm(data_loader)\n",
    "\n",
    "    # mini-batch 학습을 시작합니다.\n",
    "    for data, lbl in prograss_bar:\n",
    "        # image, label 데이터를 device에 올립니다.\n",
    "        data, lbl = data.to(device), lbl.to(device)\n",
    "        # 누적 Gradient를 초기화 합니다.\n",
    "        optimizer.zero_grad()\n",
    "\n",
    "        # Forward Propagation을 진행하여 결과를 얻습니다.\n",
    "        output = model(data)\n",
    "        lbl = lbl.squeeze()\n",
    "        # 손실함수에 output, label 값을 대입하여 손실을 계산합니다.\n",
    "        loss = loss_fn(output, lbl)\n",
    "        # 오차역전파(Back Propagation)을 진행하여 미분 값을 계산합니다.\n",
    "        loss.backward()\n",
    "\n",
    "        # 계산된 Gradient를 업데이트 합니다.\n",
    "        optimizer.step()\n",
    "\n",
    "        # output의 max(dim=1)은 max probability와 max index를 반환합니다.\n",
    "        # max probability는 무시하고, max index는 pred에 저장하여 label 값과 대조하여 정확도를 도출합니다.\n",
    "        _, pred = output.max(dim=1)\n",
    "        # pred.eq(lbl).sum() 은 정확히 맞춘 label의 합계를 계산합니다. item()은 tensor에서 값을 추출합니다.\n",
    "        # 합계는 corr 변수에 누적합니다.\n",
    "        corr += pred.eq(lbl).sum().item()\n",
    "        \n",
    "        # loss 값은 1개 배치의 평균 손실(loss) 입니다. data.size(0)은 배치사이즈(batch size) 입니다.\n",
    "        # loss 와 data.size(0)를 곱하면 1개 배치의 전체 loss가 계산됩니다.\n",
    "        # 이를 누적한 뒤 Epoch 종료시 전체 데이터셋의 개수로 나누어 평균 loss를 산출합니다.\n",
    "        running_loss += loss.item() * data.size(0)\n",
    "\n",
    "    # 누적된 정답수를 전체 개수로 나누어 주면 정확도가 산출됩니다.\n",
    "    acc = corr / len(data_loader.dataset)\n",
    "    # 평균 손실(loss)과 정확도를 반환합니다.\n",
    "    # train_loss, train_acc\n",
    "    return running_loss / len(data_loader.dataset), acc"
   ]
  },
  {
   "cell_type": "code",
   "execution_count": 10,
   "id": "bac3824a",
   "metadata": {},
   "outputs": [],
   "source": [
    "def model_evaluate(model, data_loader, loss_fn, device):\n",
    "    # model.eval()은 모델을 평가모드로 설정을 바꾸어 줍니다. \n",
    "    # dropout과 같은 layer의 역할 변경을 위하여 evaluation 진행시 꼭 필요한 절차 입니다.\n",
    "    model.eval()\n",
    "    # Gradient가 업데이트 되는 것을 방지 하기 위하여 반드시 필요합니다.\n",
    "    with torch.no_grad():\n",
    "        # loss와 accuracy 계산을 위한 임시 변수 입니다. 0으로 초기화합니다.\n",
    "        corr = 0\n",
    "        running_loss = 0\n",
    "\n",
    "        # 배치별 evaluation을 진행합니다.\n",
    "        for data, lbl in data_loader:\n",
    "            # device에 데이터를 올립니다.\n",
    "            data, lbl = data.to(device), lbl.to(device)\n",
    "\n",
    "            # 모델에 Forward Propagation을 하여 결과를 도출합니다.\n",
    "            output = model(data)\n",
    "\n",
    "            # output의 max(dim=1)은 max probability와 max index를 반환합니다.\n",
    "            # max probability는 무시하고, max index는 pred에 저장하여 label 값과 대조하여 정확도를 도출합니다.\n",
    "            _, pred = output.max(dim=1)\n",
    "            lbl = lbl.squeeze()\n",
    "\n",
    "            # pred.eq(lbl).sum() 은 정확히 맞춘 label의 합계를 계산합니다. item()은 tensor에서 값을 추출합니다.\n",
    "            # 합계는 corr 변수에 누적합니다.\n",
    "            corr += torch.sum(pred.eq(lbl)).item()\n",
    "            \n",
    "            # loss 값은 1개 배치의 평균 손실(loss) 입니다. data.size(0)은 배치사이즈(batch size) 입니다.\n",
    "            # loss 와 data.size(0)를 곱하면 1개 배치의 전체 loss가 계산됩니다.\n",
    "            # 이를 누적한 뒤 Epoch 종료시 전체 데이터셋의 개수로 나누어 평균 loss를 산출합니다.\n",
    "            running_loss += loss_fn(output, lbl).item() * data.size(0)\n",
    "\n",
    "        # validation 정확도를 계산합니다.\n",
    "        # 누적한 정답숫자를 전체 데이터셋의 숫자로 나누어 최종 accuracy를 산출합니다.\n",
    "        acc = corr / len(data_loader.dataset)\n",
    "\n",
    "        # 결과를 반환합니다.\n",
    "        # val_loss, val_acc\n",
    "        return running_loss / len(data_loader.dataset), acc"
   ]
  },
  {
   "cell_type": "code",
   "execution_count": 11,
   "id": "dbc43103",
   "metadata": {},
   "outputs": [],
   "source": [
    "def model_test(model, data_loader, loss_fn, device):\n",
    "    # model.eval()은 모델을 평가모드로 설정을 바꾸어 줍니다. \n",
    "    # dropout과 같은 layer의 역할 변경을 위하여 evaluation 진행시 꼭 필요한 절차 입니다.\n",
    "    model.eval()\n",
    "    pred_list=[]\n",
    "    # Gradient가 업데이트 되는 것을 방지 하기 위하여 반드시 필요합니다.\n",
    "    with torch.no_grad():\n",
    "        # loss와 accuracy 계산을 위한 임시 변수 입니다. 0으로 초기화합니다.\n",
    "        corr = 0\n",
    "        running_loss = 0\n",
    "        print(\"data_loader\",data_loader)\n",
    "        # 배치별 evaluation을 진행합니다.\n",
    "        for data, lbl in data_loader:\n",
    "            # device에 데이터를 올립니다.\n",
    "            data, lbl = data.to(device), lbl.to(device)\n",
    "            lbl = lbl.squeeze()\n",
    "            # 모델에 Forward Propagation을 하여 결과를 도출합니다.\n",
    "            output = model(data)\n",
    "\n",
    "            # output의 max(dim=1)은 max probability와 max index를 반환합니다.\n",
    "            # max probability는 무시하고, max index는 pred에 저장하여 label 값과 대조하여 정확도를 도출합니다.\n",
    "            _, pred = output.max(dim=1)\n",
    "            pred_array = pred.tolist()\n",
    "            pred_list.append(pred_array) # confusion matrix를 위해 pred 리턴 값\n",
    "            # pred.eq(lbl).sum() 은 정확히 맞춘 label의 합계를 계산합니다. item()은 tensor에서 값을 추출합니다.\n",
    "            # 합계는 corr 변수에 누적합니다.\n",
    "            corr += torch.sum(pred.eq(lbl)).item()\n",
    "            \n",
    "            # loss 값은 1개 배치의 평균 손실(loss) 입니다. data.size(0)은 배치사이즈(batch size) 입니다.\n",
    "            # loss 와 data.size(0)를 곱하면 1개 배치의 전체 loss가 계산됩니다.\n",
    "            # 이를 누적한 뒤 Epoch 종료시 전체 데이터셋의 개수로 나누어 평균 loss를 산출합니다.\n",
    "            running_loss += loss_fn(output, lbl).item() * data.size(0)\n",
    "\n",
    "        # validation 정확도를 계산합니다.\n",
    "        # 누적한 정답숫자를 전체 데이터셋의 숫자로 나누어 최종 accuracy를 산출합니다.\n",
    "        acc = corr / len(data_loader.dataset)\n",
    "\n",
    "        # 결과를 반환합니다.\n",
    "        # val_loss, val_acc\n",
    "        return running_loss / len(data_loader.dataset), acc, pred_list"
   ]
  },
  {
   "cell_type": "code",
   "execution_count": 12,
   "id": "373d3e15",
   "metadata": {},
   "outputs": [
    {
     "name": "stderr",
     "output_type": "stream",
     "text": [
      "100%|█████████████████████████████████████████████████████████████████████████████| 7509/7509 [00:14<00:00, 530.41it/s]\n"
     ]
    },
    {
     "name": "stdout",
     "output_type": "stream",
     "text": [
      "[INFO] val_acc has been improved from 9999999999999.00000 to 0.71038. Saving Model!\n",
      "epoch 01, loss: 0.84112, acc: 0.59557, val_loss: 0.71038, val_accuracy: 0.67866\n"
     ]
    },
    {
     "name": "stderr",
     "output_type": "stream",
     "text": [
      "100%|█████████████████████████████████████████████████████████████████████████████| 7509/7509 [00:13<00:00, 543.06it/s]\n"
     ]
    },
    {
     "name": "stdout",
     "output_type": "stream",
     "text": [
      "[INFO] val_acc has been improved from 0.71038 to 0.57601. Saving Model!\n",
      "epoch 02, loss: 0.62152, acc: 0.72685, val_loss: 0.57601, val_accuracy: 0.75458\n"
     ]
    },
    {
     "name": "stderr",
     "output_type": "stream",
     "text": [
      "100%|█████████████████████████████████████████████████████████████████████████████| 7509/7509 [00:13<00:00, 574.02it/s]\n"
     ]
    },
    {
     "name": "stdout",
     "output_type": "stream",
     "text": [
      "[INFO] val_acc has been improved from 0.57601 to 0.49874. Saving Model!\n",
      "epoch 03, loss: 0.51369, acc: 0.78511, val_loss: 0.49874, val_accuracy: 0.79913\n"
     ]
    },
    {
     "name": "stderr",
     "output_type": "stream",
     "text": [
      "100%|█████████████████████████████████████████████████████████████████████████████| 7509/7509 [00:13<00:00, 574.66it/s]\n"
     ]
    },
    {
     "name": "stdout",
     "output_type": "stream",
     "text": [
      "[INFO] val_acc has been improved from 0.49874 to 0.45143. Saving Model!\n",
      "epoch 04, loss: 0.45826, acc: 0.81077, val_loss: 0.45143, val_accuracy: 0.81275\n"
     ]
    },
    {
     "name": "stderr",
     "output_type": "stream",
     "text": [
      "100%|█████████████████████████████████████████████████████████████████████████████| 7509/7509 [00:13<00:00, 572.60it/s]\n"
     ]
    },
    {
     "name": "stdout",
     "output_type": "stream",
     "text": [
      "[INFO] val_acc has been improved from 0.45143 to 0.42942. Saving Model!\n",
      "epoch 05, loss: 0.42332, acc: 0.82569, val_loss: 0.42942, val_accuracy: 0.82896\n"
     ]
    },
    {
     "name": "stderr",
     "output_type": "stream",
     "text": [
      "100%|█████████████████████████████████████████████████████████████████████████████| 7509/7509 [00:13<00:00, 573.43it/s]\n"
     ]
    },
    {
     "name": "stdout",
     "output_type": "stream",
     "text": [
      "[INFO] val_acc has been improved from 0.42942 to 0.40282. Saving Model!\n",
      "epoch 06, loss: 0.39662, acc: 0.83751, val_loss: 0.40282, val_accuracy: 0.83595\n"
     ]
    },
    {
     "name": "stderr",
     "output_type": "stream",
     "text": [
      "100%|█████████████████████████████████████████████████████████████████████████████| 7509/7509 [00:13<00:00, 573.51it/s]\n"
     ]
    },
    {
     "name": "stdout",
     "output_type": "stream",
     "text": [
      "[INFO] val_acc has been improved from 0.40282 to 0.39818. Saving Model!\n",
      "epoch 07, loss: 0.37713, acc: 0.84535, val_loss: 0.39818, val_accuracy: 0.84511\n"
     ]
    },
    {
     "name": "stderr",
     "output_type": "stream",
     "text": [
      "100%|█████████████████████████████████████████████████████████████████████████████| 7509/7509 [00:13<00:00, 573.93it/s]\n"
     ]
    },
    {
     "name": "stdout",
     "output_type": "stream",
     "text": [
      "[INFO] val_acc has been improved from 0.39818 to 0.37650. Saving Model!\n",
      "epoch 08, loss: 0.36162, acc: 0.85328, val_loss: 0.37650, val_accuracy: 0.84551\n"
     ]
    },
    {
     "name": "stderr",
     "output_type": "stream",
     "text": [
      "100%|█████████████████████████████████████████████████████████████████████████████| 7509/7509 [00:13<00:00, 573.24it/s]\n"
     ]
    },
    {
     "name": "stdout",
     "output_type": "stream",
     "text": [
      "[INFO] val_acc has been improved from 0.37650 to 0.36643. Saving Model!\n",
      "epoch 09, loss: 0.34924, acc: 0.85787, val_loss: 0.36643, val_accuracy: 0.85120\n"
     ]
    },
    {
     "name": "stderr",
     "output_type": "stream",
     "text": [
      "100%|█████████████████████████████████████████████████████████████████████████████| 7509/7509 [00:13<00:00, 573.04it/s]\n"
     ]
    },
    {
     "name": "stdout",
     "output_type": "stream",
     "text": [
      "epoch 10, loss: 0.33861, acc: 0.86228, val_loss: 0.36881, val_accuracy: 0.85060\n"
     ]
    },
    {
     "name": "stderr",
     "output_type": "stream",
     "text": [
      "100%|█████████████████████████████████████████████████████████████████████████████| 7509/7509 [00:13<00:00, 571.15it/s]\n"
     ]
    },
    {
     "name": "stdout",
     "output_type": "stream",
     "text": [
      "[INFO] val_acc has been improved from 0.36643 to 0.35456. Saving Model!\n",
      "epoch 11, loss: 0.32919, acc: 0.86652, val_loss: 0.35456, val_accuracy: 0.85613\n"
     ]
    },
    {
     "name": "stderr",
     "output_type": "stream",
     "text": [
      "100%|█████████████████████████████████████████████████████████████████████████████| 7509/7509 [00:13<00:00, 573.77it/s]\n"
     ]
    },
    {
     "name": "stdout",
     "output_type": "stream",
     "text": [
      "[INFO] val_acc has been improved from 0.35456 to 0.33527. Saving Model!\n",
      "epoch 12, loss: 0.32103, acc: 0.86934, val_loss: 0.33527, val_accuracy: 0.86182\n"
     ]
    },
    {
     "name": "stderr",
     "output_type": "stream",
     "text": [
      "100%|█████████████████████████████████████████████████████████████████████████████| 7509/7509 [00:13<00:00, 572.63it/s]\n"
     ]
    },
    {
     "name": "stdout",
     "output_type": "stream",
     "text": [
      "[INFO] val_acc has been improved from 0.33527 to 0.33485. Saving Model!\n",
      "epoch 13, loss: 0.31425, acc: 0.87197, val_loss: 0.33485, val_accuracy: 0.86708\n"
     ]
    },
    {
     "name": "stderr",
     "output_type": "stream",
     "text": [
      "100%|█████████████████████████████████████████████████████████████████████████████| 7509/7509 [00:13<00:00, 542.13it/s]\n"
     ]
    },
    {
     "name": "stdout",
     "output_type": "stream",
     "text": [
      "[INFO] val_acc has been improved from 0.33485 to 0.33165. Saving Model!\n",
      "epoch 14, loss: 0.30749, acc: 0.87543, val_loss: 0.33165, val_accuracy: 0.86748\n"
     ]
    },
    {
     "name": "stderr",
     "output_type": "stream",
     "text": [
      "100%|█████████████████████████████████████████████████████████████████████████████| 7509/7509 [00:13<00:00, 551.60it/s]\n"
     ]
    },
    {
     "name": "stdout",
     "output_type": "stream",
     "text": [
      "[INFO] val_acc has been improved from 0.33165 to 0.31890. Saving Model!\n",
      "epoch 15, loss: 0.30193, acc: 0.87674, val_loss: 0.31890, val_accuracy: 0.87021\n"
     ]
    },
    {
     "name": "stderr",
     "output_type": "stream",
     "text": [
      "100%|█████████████████████████████████████████████████████████████████████████████| 7509/7509 [00:13<00:00, 563.75it/s]\n"
     ]
    },
    {
     "name": "stdout",
     "output_type": "stream",
     "text": [
      "epoch 16, loss: 0.29640, acc: 0.87925, val_loss: 0.32061, val_accuracy: 0.87051\n"
     ]
    },
    {
     "name": "stderr",
     "output_type": "stream",
     "text": [
      "100%|█████████████████████████████████████████████████████████████████████████████| 7509/7509 [00:13<00:00, 564.13it/s]\n"
     ]
    },
    {
     "name": "stdout",
     "output_type": "stream",
     "text": [
      "[INFO] val_acc has been improved from 0.31890 to 0.31151. Saving Model!\n",
      "epoch 17, loss: 0.29159, acc: 0.88105, val_loss: 0.31151, val_accuracy: 0.87241\n"
     ]
    },
    {
     "name": "stderr",
     "output_type": "stream",
     "text": [
      "100%|█████████████████████████████████████████████████████████████████████████████| 7509/7509 [00:13<00:00, 552.34it/s]\n"
     ]
    },
    {
     "name": "stdout",
     "output_type": "stream",
     "text": [
      "[INFO] val_acc has been improved from 0.31151 to 0.30881. Saving Model!\n",
      "epoch 18, loss: 0.28788, acc: 0.88286, val_loss: 0.30881, val_accuracy: 0.87451\n"
     ]
    },
    {
     "name": "stderr",
     "output_type": "stream",
     "text": [
      "100%|█████████████████████████████████████████████████████████████████████████████| 7509/7509 [00:13<00:00, 556.50it/s]\n"
     ]
    },
    {
     "name": "stdout",
     "output_type": "stream",
     "text": [
      "epoch 19, loss: 0.28206, acc: 0.88555, val_loss: 0.31212, val_accuracy: 0.87711\n"
     ]
    },
    {
     "name": "stderr",
     "output_type": "stream",
     "text": [
      "100%|█████████████████████████████████████████████████████████████████████████████| 7509/7509 [00:13<00:00, 572.84it/s]\n"
     ]
    },
    {
     "name": "stdout",
     "output_type": "stream",
     "text": [
      "[INFO] val_acc has been improved from 0.30881 to 0.30686. Saving Model!\n",
      "epoch 20, loss: 0.27892, acc: 0.88642, val_loss: 0.30686, val_accuracy: 0.87860\n"
     ]
    },
    {
     "name": "stderr",
     "output_type": "stream",
     "text": [
      "100%|█████████████████████████████████████████████████████████████████████████████| 7509/7509 [00:13<00:00, 572.61it/s]\n"
     ]
    },
    {
     "name": "stdout",
     "output_type": "stream",
     "text": [
      "[INFO] val_acc has been improved from 0.30686 to 0.29831. Saving Model!\n",
      "epoch 21, loss: 0.27551, acc: 0.88815, val_loss: 0.29831, val_accuracy: 0.88143\n"
     ]
    },
    {
     "name": "stderr",
     "output_type": "stream",
     "text": [
      "100%|█████████████████████████████████████████████████████████████████████████████| 7509/7509 [00:13<00:00, 560.70it/s]\n"
     ]
    },
    {
     "name": "stdout",
     "output_type": "stream",
     "text": [
      "epoch 22, loss: 0.27191, acc: 0.88907, val_loss: 0.29907, val_accuracy: 0.88287\n"
     ]
    },
    {
     "name": "stderr",
     "output_type": "stream",
     "text": [
      "100%|█████████████████████████████████████████████████████████████████████████████| 7509/7509 [00:13<00:00, 571.96it/s]\n"
     ]
    },
    {
     "name": "stdout",
     "output_type": "stream",
     "text": [
      "[INFO] val_acc has been improved from 0.29831 to 0.29102. Saving Model!\n",
      "epoch 23, loss: 0.26913, acc: 0.89094, val_loss: 0.29102, val_accuracy: 0.88380\n"
     ]
    },
    {
     "name": "stderr",
     "output_type": "stream",
     "text": [
      "100%|█████████████████████████████████████████████████████████████████████████████| 7509/7509 [00:13<00:00, 573.95it/s]\n"
     ]
    },
    {
     "name": "stdout",
     "output_type": "stream",
     "text": [
      "[INFO] val_acc has been improved from 0.29102 to 0.28932. Saving Model!\n",
      "epoch 24, loss: 0.26590, acc: 0.89221, val_loss: 0.28932, val_accuracy: 0.88390\n"
     ]
    },
    {
     "name": "stderr",
     "output_type": "stream",
     "text": [
      "100%|█████████████████████████████████████████████████████████████████████████████| 7509/7509 [00:13<00:00, 552.02it/s]\n"
     ]
    },
    {
     "name": "stdout",
     "output_type": "stream",
     "text": [
      "epoch 25, loss: 0.26344, acc: 0.89274, val_loss: 0.29194, val_accuracy: 0.88243\n"
     ]
    },
    {
     "name": "stderr",
     "output_type": "stream",
     "text": [
      "100%|█████████████████████████████████████████████████████████████████████████████| 7509/7509 [00:12<00:00, 580.83it/s]\n"
     ]
    },
    {
     "name": "stdout",
     "output_type": "stream",
     "text": [
      "[INFO] val_acc has been improved from 0.28932 to 0.27643. Saving Model!\n",
      "epoch 26, loss: 0.25975, acc: 0.89458, val_loss: 0.27643, val_accuracy: 0.88909\n"
     ]
    },
    {
     "name": "stderr",
     "output_type": "stream",
     "text": [
      "100%|█████████████████████████████████████████████████████████████████████████████| 7509/7509 [00:13<00:00, 573.22it/s]\n"
     ]
    },
    {
     "name": "stdout",
     "output_type": "stream",
     "text": [
      "epoch 27, loss: 0.25706, acc: 0.89572, val_loss: 0.28236, val_accuracy: 0.88526\n"
     ]
    },
    {
     "name": "stderr",
     "output_type": "stream",
     "text": [
      "100%|█████████████████████████████████████████████████████████████████████████████| 7509/7509 [00:13<00:00, 575.05it/s]\n"
     ]
    },
    {
     "name": "stdout",
     "output_type": "stream",
     "text": [
      "epoch 28, loss: 0.25539, acc: 0.89568, val_loss: 0.28899, val_accuracy: 0.88536\n"
     ]
    },
    {
     "name": "stderr",
     "output_type": "stream",
     "text": [
      "100%|█████████████████████████████████████████████████████████████████████████████| 7509/7509 [00:13<00:00, 573.41it/s]\n"
     ]
    },
    {
     "name": "stdout",
     "output_type": "stream",
     "text": [
      "epoch 29, loss: 0.25215, acc: 0.89768, val_loss: 0.27983, val_accuracy: 0.88803\n"
     ]
    },
    {
     "name": "stderr",
     "output_type": "stream",
     "text": [
      "100%|█████████████████████████████████████████████████████████████████████████████| 7509/7509 [00:13<00:00, 573.50it/s]\n"
     ]
    },
    {
     "name": "stdout",
     "output_type": "stream",
     "text": [
      "epoch 30, loss: 0.24974, acc: 0.89926, val_loss: 0.27851, val_accuracy: 0.88793\n"
     ]
    },
    {
     "name": "stderr",
     "output_type": "stream",
     "text": [
      "100%|█████████████████████████████████████████████████████████████████████████████| 7509/7509 [00:13<00:00, 574.29it/s]\n"
     ]
    },
    {
     "name": "stdout",
     "output_type": "stream",
     "text": [
      "epoch 31, loss: 0.24777, acc: 0.89997, val_loss: 0.27732, val_accuracy: 0.88909\n"
     ]
    },
    {
     "name": "stderr",
     "output_type": "stream",
     "text": [
      "100%|█████████████████████████████████████████████████████████████████████████████| 7509/7509 [00:13<00:00, 574.59it/s]\n"
     ]
    },
    {
     "name": "stdout",
     "output_type": "stream",
     "text": [
      "epoch 32, loss: 0.24521, acc: 0.90056, val_loss: 0.27830, val_accuracy: 0.88689\n"
     ]
    },
    {
     "name": "stderr",
     "output_type": "stream",
     "text": [
      "100%|█████████████████████████████████████████████████████████████████████████████| 7509/7509 [00:13<00:00, 574.50it/s]\n"
     ]
    },
    {
     "name": "stdout",
     "output_type": "stream",
     "text": [
      "[INFO] val_acc has been improved from 0.27643 to 0.27125. Saving Model!\n",
      "epoch 33, loss: 0.24310, acc: 0.90159, val_loss: 0.27125, val_accuracy: 0.89179\n"
     ]
    },
    {
     "name": "stderr",
     "output_type": "stream",
     "text": [
      "100%|█████████████████████████████████████████████████████████████████████████████| 7509/7509 [00:13<00:00, 574.77it/s]\n"
     ]
    },
    {
     "name": "stdout",
     "output_type": "stream",
     "text": [
      "[INFO] val_acc has been improved from 0.27125 to 0.26651. Saving Model!\n",
      "epoch 34, loss: 0.24181, acc: 0.90248, val_loss: 0.26651, val_accuracy: 0.89608\n"
     ]
    },
    {
     "name": "stderr",
     "output_type": "stream",
     "text": [
      "100%|█████████████████████████████████████████████████████████████████████████████| 7509/7509 [00:13<00:00, 573.61it/s]\n"
     ]
    },
    {
     "name": "stdout",
     "output_type": "stream",
     "text": [
      "[INFO] val_acc has been improved from 0.26651 to 0.25979. Saving Model!\n",
      "epoch 35, loss: 0.23894, acc: 0.90315, val_loss: 0.25979, val_accuracy: 0.89572\n"
     ]
    },
    {
     "name": "stderr",
     "output_type": "stream",
     "text": [
      "100%|█████████████████████████████████████████████████████████████████████████████| 7509/7509 [00:13<00:00, 574.00it/s]\n"
     ]
    },
    {
     "name": "stdout",
     "output_type": "stream",
     "text": [
      "[INFO] val_acc has been improved from 0.25979 to 0.25735. Saving Model!\n",
      "epoch 36, loss: 0.23858, acc: 0.90402, val_loss: 0.25735, val_accuracy: 0.89738\n"
     ]
    },
    {
     "name": "stderr",
     "output_type": "stream",
     "text": [
      "100%|█████████████████████████████████████████████████████████████████████████████| 7509/7509 [00:13<00:00, 574.12it/s]\n"
     ]
    },
    {
     "name": "stdout",
     "output_type": "stream",
     "text": [
      "epoch 37, loss: 0.23577, acc: 0.90460, val_loss: 0.25796, val_accuracy: 0.89858\n"
     ]
    },
    {
     "name": "stderr",
     "output_type": "stream",
     "text": [
      "100%|█████████████████████████████████████████████████████████████████████████████| 7509/7509 [00:13<00:00, 574.31it/s]\n"
     ]
    },
    {
     "name": "stdout",
     "output_type": "stream",
     "text": [
      "epoch 38, loss: 0.23365, acc: 0.90543, val_loss: 0.26154, val_accuracy: 0.89452\n"
     ]
    },
    {
     "name": "stderr",
     "output_type": "stream",
     "text": [
      "100%|█████████████████████████████████████████████████████████████████████████████| 7509/7509 [00:13<00:00, 574.26it/s]\n"
     ]
    },
    {
     "name": "stdout",
     "output_type": "stream",
     "text": [
      "epoch 39, loss: 0.23260, acc: 0.90620, val_loss: 0.25822, val_accuracy: 0.89608\n"
     ]
    },
    {
     "name": "stderr",
     "output_type": "stream",
     "text": [
      "100%|█████████████████████████████████████████████████████████████████████████████| 7509/7509 [00:13<00:00, 566.24it/s]\n"
     ]
    },
    {
     "name": "stdout",
     "output_type": "stream",
     "text": [
      "epoch 40, loss: 0.23087, acc: 0.90695, val_loss: 0.26028, val_accuracy: 0.89645\n"
     ]
    },
    {
     "name": "stderr",
     "output_type": "stream",
     "text": [
      "100%|█████████████████████████████████████████████████████████████████████████████| 7509/7509 [00:13<00:00, 576.03it/s]\n"
     ]
    },
    {
     "name": "stdout",
     "output_type": "stream",
     "text": [
      "epoch 41, loss: 0.22915, acc: 0.90660, val_loss: 0.26430, val_accuracy: 0.89668\n"
     ]
    },
    {
     "name": "stderr",
     "output_type": "stream",
     "text": [
      "100%|█████████████████████████████████████████████████████████████████████████████| 7509/7509 [00:14<00:00, 530.87it/s]\n"
     ]
    },
    {
     "name": "stdout",
     "output_type": "stream",
     "text": [
      "[INFO] val_acc has been improved from 0.25735 to 0.25644. Saving Model!\n",
      "epoch 42, loss: 0.22769, acc: 0.90786, val_loss: 0.25644, val_accuracy: 0.89968\n"
     ]
    },
    {
     "name": "stderr",
     "output_type": "stream",
     "text": [
      "100%|█████████████████████████████████████████████████████████████████████████████| 7509/7509 [00:13<00:00, 573.15it/s]\n"
     ]
    },
    {
     "name": "stdout",
     "output_type": "stream",
     "text": [
      "epoch 43, loss: 0.22766, acc: 0.90839, val_loss: 0.26208, val_accuracy: 0.89598\n"
     ]
    },
    {
     "name": "stderr",
     "output_type": "stream",
     "text": [
      "100%|█████████████████████████████████████████████████████████████████████████████| 7509/7509 [00:13<00:00, 569.24it/s]\n"
     ]
    },
    {
     "name": "stdout",
     "output_type": "stream",
     "text": [
      "epoch 44, loss: 0.22620, acc: 0.90875, val_loss: 0.25879, val_accuracy: 0.89775\n"
     ]
    },
    {
     "name": "stderr",
     "output_type": "stream",
     "text": [
      "100%|█████████████████████████████████████████████████████████████████████████████| 7509/7509 [00:13<00:00, 574.42it/s]\n"
     ]
    },
    {
     "name": "stdout",
     "output_type": "stream",
     "text": [
      "epoch 45, loss: 0.22419, acc: 0.90957, val_loss: 0.25877, val_accuracy: 0.89762\n"
     ]
    },
    {
     "name": "stderr",
     "output_type": "stream",
     "text": [
      "100%|█████████████████████████████████████████████████████████████████████████████| 7509/7509 [00:13<00:00, 573.47it/s]\n"
     ]
    },
    {
     "name": "stdout",
     "output_type": "stream",
     "text": [
      "[INFO] val_acc has been improved from 0.25644 to 0.25251. Saving Model!\n",
      "epoch 46, loss: 0.22198, acc: 0.91005, val_loss: 0.25251, val_accuracy: 0.90321\n"
     ]
    },
    {
     "name": "stderr",
     "output_type": "stream",
     "text": [
      "100%|█████████████████████████████████████████████████████████████████████████████| 7509/7509 [00:13<00:00, 573.99it/s]\n"
     ]
    },
    {
     "name": "stdout",
     "output_type": "stream",
     "text": [
      "[INFO] val_acc has been improved from 0.25251 to 0.24892. Saving Model!\n",
      "epoch 47, loss: 0.22242, acc: 0.90990, val_loss: 0.24892, val_accuracy: 0.90145\n"
     ]
    },
    {
     "name": "stderr",
     "output_type": "stream",
     "text": [
      "100%|█████████████████████████████████████████████████████████████████████████████| 7509/7509 [00:13<00:00, 559.71it/s]\n"
     ]
    },
    {
     "name": "stdout",
     "output_type": "stream",
     "text": [
      "epoch 48, loss: 0.22062, acc: 0.91043, val_loss: 0.25204, val_accuracy: 0.90071\n"
     ]
    },
    {
     "name": "stderr",
     "output_type": "stream",
     "text": [
      "100%|█████████████████████████████████████████████████████████████████████████████| 7509/7509 [00:13<00:00, 560.18it/s]\n"
     ]
    },
    {
     "name": "stdout",
     "output_type": "stream",
     "text": [
      "epoch 49, loss: 0.21954, acc: 0.91156, val_loss: 0.25132, val_accuracy: 0.90081\n"
     ]
    },
    {
     "name": "stderr",
     "output_type": "stream",
     "text": [
      "100%|█████████████████████████████████████████████████████████████████████████████| 7509/7509 [00:13<00:00, 574.16it/s]\n"
     ]
    },
    {
     "name": "stdout",
     "output_type": "stream",
     "text": [
      "[INFO] val_acc has been improved from 0.24892 to 0.24649. Saving Model!\n",
      "epoch 50, loss: 0.21855, acc: 0.91135, val_loss: 0.24649, val_accuracy: 0.90441\n"
     ]
    },
    {
     "name": "stderr",
     "output_type": "stream",
     "text": [
      "100%|█████████████████████████████████████████████████████████████████████████████| 7509/7509 [00:13<00:00, 575.01it/s]\n"
     ]
    },
    {
     "name": "stdout",
     "output_type": "stream",
     "text": [
      "epoch 51, loss: 0.21766, acc: 0.91233, val_loss: 0.24897, val_accuracy: 0.90298\n"
     ]
    },
    {
     "name": "stderr",
     "output_type": "stream",
     "text": [
      "100%|█████████████████████████████████████████████████████████████████████████████| 7509/7509 [00:13<00:00, 574.30it/s]\n"
     ]
    },
    {
     "name": "stdout",
     "output_type": "stream",
     "text": [
      "[INFO] val_acc has been improved from 0.24649 to 0.24559. Saving Model!\n",
      "epoch 52, loss: 0.21640, acc: 0.91260, val_loss: 0.24559, val_accuracy: 0.90398\n"
     ]
    },
    {
     "name": "stderr",
     "output_type": "stream",
     "text": [
      "100%|█████████████████████████████████████████████████████████████████████████████| 7509/7509 [00:13<00:00, 574.59it/s]\n"
     ]
    },
    {
     "name": "stdout",
     "output_type": "stream",
     "text": [
      "epoch 53, loss: 0.21487, acc: 0.91321, val_loss: 0.24903, val_accuracy: 0.89965\n"
     ]
    },
    {
     "name": "stderr",
     "output_type": "stream",
     "text": [
      "100%|█████████████████████████████████████████████████████████████████████████████| 7509/7509 [00:13<00:00, 573.33it/s]\n"
     ]
    },
    {
     "name": "stdout",
     "output_type": "stream",
     "text": [
      "epoch 54, loss: 0.21393, acc: 0.91366, val_loss: 0.24785, val_accuracy: 0.90497\n"
     ]
    },
    {
     "name": "stderr",
     "output_type": "stream",
     "text": [
      "100%|█████████████████████████████████████████████████████████████████████████████| 7509/7509 [00:13<00:00, 573.78it/s]\n"
     ]
    },
    {
     "name": "stdout",
     "output_type": "stream",
     "text": [
      "epoch 55, loss: 0.21381, acc: 0.91380, val_loss: 0.25868, val_accuracy: 0.90261\n"
     ]
    },
    {
     "name": "stderr",
     "output_type": "stream",
     "text": [
      "100%|█████████████████████████████████████████████████████████████████████████████| 7509/7509 [00:13<00:00, 550.64it/s]\n"
     ]
    },
    {
     "name": "stdout",
     "output_type": "stream",
     "text": [
      "epoch 56, loss: 0.21208, acc: 0.91402, val_loss: 0.25002, val_accuracy: 0.90025\n"
     ]
    },
    {
     "name": "stderr",
     "output_type": "stream",
     "text": [
      "100%|█████████████████████████████████████████████████████████████████████████████| 7509/7509 [00:12<00:00, 581.31it/s]\n"
     ]
    },
    {
     "name": "stdout",
     "output_type": "stream",
     "text": [
      "[INFO] val_acc has been improved from 0.24559 to 0.24537. Saving Model!\n",
      "epoch 57, loss: 0.21140, acc: 0.91450, val_loss: 0.24537, val_accuracy: 0.90454\n"
     ]
    },
    {
     "name": "stderr",
     "output_type": "stream",
     "text": [
      "100%|█████████████████████████████████████████████████████████████████████████████| 7509/7509 [00:12<00:00, 581.24it/s]\n"
     ]
    },
    {
     "name": "stdout",
     "output_type": "stream",
     "text": [
      "epoch 58, loss: 0.21012, acc: 0.91491, val_loss: 0.25915, val_accuracy: 0.90278\n"
     ]
    },
    {
     "name": "stderr",
     "output_type": "stream",
     "text": [
      "100%|█████████████████████████████████████████████████████████████████████████████| 7509/7509 [00:12<00:00, 581.45it/s]\n"
     ]
    },
    {
     "name": "stdout",
     "output_type": "stream",
     "text": [
      "[INFO] val_acc has been improved from 0.24537 to 0.24241. Saving Model!\n",
      "epoch 59, loss: 0.21006, acc: 0.91531, val_loss: 0.24241, val_accuracy: 0.90551\n"
     ]
    },
    {
     "name": "stderr",
     "output_type": "stream",
     "text": [
      "100%|█████████████████████████████████████████████████████████████████████████████| 7509/7509 [00:12<00:00, 581.23it/s]\n"
     ]
    },
    {
     "name": "stdout",
     "output_type": "stream",
     "text": [
      "epoch 60, loss: 0.20846, acc: 0.91571, val_loss: 0.24297, val_accuracy: 0.90421\n"
     ]
    },
    {
     "name": "stderr",
     "output_type": "stream",
     "text": [
      "100%|█████████████████████████████████████████████████████████████████████████████| 7509/7509 [00:12<00:00, 581.66it/s]\n"
     ]
    },
    {
     "name": "stdout",
     "output_type": "stream",
     "text": [
      "[INFO] val_acc has been improved from 0.24241 to 0.23776. Saving Model!\n",
      "epoch 61, loss: 0.20765, acc: 0.91582, val_loss: 0.23776, val_accuracy: 0.90714\n"
     ]
    },
    {
     "name": "stderr",
     "output_type": "stream",
     "text": [
      "100%|█████████████████████████████████████████████████████████████████████████████| 7509/7509 [00:12<00:00, 581.44it/s]\n"
     ]
    },
    {
     "name": "stdout",
     "output_type": "stream",
     "text": [
      "epoch 62, loss: 0.20705, acc: 0.91642, val_loss: 0.23790, val_accuracy: 0.90834\n"
     ]
    },
    {
     "name": "stderr",
     "output_type": "stream",
     "text": [
      "100%|█████████████████████████████████████████████████████████████████████████████| 7509/7509 [00:12<00:00, 581.44it/s]\n"
     ]
    },
    {
     "name": "stdout",
     "output_type": "stream",
     "text": [
      "epoch 63, loss: 0.20495, acc: 0.91762, val_loss: 0.24283, val_accuracy: 0.90467\n"
     ]
    },
    {
     "name": "stderr",
     "output_type": "stream",
     "text": [
      "100%|█████████████████████████████████████████████████████████████████████████████| 7509/7509 [00:12<00:00, 581.80it/s]\n"
     ]
    },
    {
     "name": "stdout",
     "output_type": "stream",
     "text": [
      "epoch 64, loss: 0.20586, acc: 0.91671, val_loss: 0.24186, val_accuracy: 0.90617\n"
     ]
    },
    {
     "name": "stderr",
     "output_type": "stream",
     "text": [
      "100%|█████████████████████████████████████████████████████████████████████████████| 7509/7509 [00:12<00:00, 580.71it/s]\n"
     ]
    },
    {
     "name": "stdout",
     "output_type": "stream",
     "text": [
      "[INFO] val_acc has been improved from 0.23776 to 0.23492. Saving Model!\n",
      "epoch 65, loss: 0.20457, acc: 0.91710, val_loss: 0.23492, val_accuracy: 0.90977\n"
     ]
    },
    {
     "name": "stderr",
     "output_type": "stream",
     "text": [
      "100%|█████████████████████████████████████████████████████████████████████████████| 7509/7509 [00:12<00:00, 581.38it/s]\n"
     ]
    },
    {
     "name": "stdout",
     "output_type": "stream",
     "text": [
      "epoch 66, loss: 0.20413, acc: 0.91753, val_loss: 0.23615, val_accuracy: 0.90837\n"
     ]
    },
    {
     "name": "stderr",
     "output_type": "stream",
     "text": [
      "100%|█████████████████████████████████████████████████████████████████████████████| 7509/7509 [00:12<00:00, 580.87it/s]\n"
     ]
    },
    {
     "name": "stdout",
     "output_type": "stream",
     "text": [
      "epoch 67, loss: 0.20318, acc: 0.91901, val_loss: 0.23577, val_accuracy: 0.91120\n"
     ]
    },
    {
     "name": "stderr",
     "output_type": "stream",
     "text": [
      "100%|█████████████████████████████████████████████████████████████████████████████| 7509/7509 [00:12<00:00, 581.95it/s]\n"
     ]
    },
    {
     "name": "stdout",
     "output_type": "stream",
     "text": [
      "epoch 68, loss: 0.20209, acc: 0.91901, val_loss: 0.23538, val_accuracy: 0.91057\n"
     ]
    },
    {
     "name": "stderr",
     "output_type": "stream",
     "text": [
      "100%|█████████████████████████████████████████████████████████████████████████████| 7509/7509 [00:12<00:00, 581.05it/s]\n"
     ]
    },
    {
     "name": "stdout",
     "output_type": "stream",
     "text": [
      "epoch 69, loss: 0.20212, acc: 0.91792, val_loss: 0.23526, val_accuracy: 0.90644\n"
     ]
    },
    {
     "name": "stderr",
     "output_type": "stream",
     "text": [
      "100%|█████████████████████████████████████████████████████████████████████████████| 7509/7509 [00:12<00:00, 581.02it/s]\n"
     ]
    },
    {
     "name": "stdout",
     "output_type": "stream",
     "text": [
      "epoch 70, loss: 0.20069, acc: 0.91953, val_loss: 0.23962, val_accuracy: 0.90760\n"
     ]
    },
    {
     "name": "stderr",
     "output_type": "stream",
     "text": [
      "100%|█████████████████████████████████████████████████████████████████████████████| 7509/7509 [00:12<00:00, 580.10it/s]\n"
     ]
    },
    {
     "name": "stdout",
     "output_type": "stream",
     "text": [
      "epoch 71, loss: 0.20036, acc: 0.91945, val_loss: 0.23878, val_accuracy: 0.90764\n"
     ]
    },
    {
     "name": "stderr",
     "output_type": "stream",
     "text": [
      "100%|█████████████████████████████████████████████████████████████████████████████| 7509/7509 [00:12<00:00, 581.11it/s]\n"
     ]
    },
    {
     "name": "stdout",
     "output_type": "stream",
     "text": [
      "epoch 72, loss: 0.19978, acc: 0.91973, val_loss: 0.23859, val_accuracy: 0.91020\n"
     ]
    },
    {
     "name": "stderr",
     "output_type": "stream",
     "text": [
      "100%|█████████████████████████████████████████████████████████████████████████████| 7509/7509 [00:12<00:00, 577.85it/s]\n"
     ]
    },
    {
     "name": "stdout",
     "output_type": "stream",
     "text": [
      "epoch 73, loss: 0.20067, acc: 0.91990, val_loss: 0.23920, val_accuracy: 0.90757\n"
     ]
    },
    {
     "name": "stderr",
     "output_type": "stream",
     "text": [
      "100%|█████████████████████████████████████████████████████████████████████████████| 7509/7509 [00:12<00:00, 581.61it/s]\n"
     ]
    },
    {
     "name": "stdout",
     "output_type": "stream",
     "text": [
      "[INFO] val_acc has been improved from 0.23492 to 0.23384. Saving Model!\n",
      "epoch 74, loss: 0.19896, acc: 0.92021, val_loss: 0.23384, val_accuracy: 0.91173\n"
     ]
    },
    {
     "name": "stderr",
     "output_type": "stream",
     "text": [
      "100%|█████████████████████████████████████████████████████████████████████████████| 7509/7509 [00:12<00:00, 581.26it/s]\n"
     ]
    },
    {
     "name": "stdout",
     "output_type": "stream",
     "text": [
      "[INFO] val_acc has been improved from 0.23384 to 0.22933. Saving Model!\n",
      "epoch 75, loss: 0.19855, acc: 0.91973, val_loss: 0.22933, val_accuracy: 0.91583\n"
     ]
    },
    {
     "name": "stderr",
     "output_type": "stream",
     "text": [
      "100%|█████████████████████████████████████████████████████████████████████████████| 7509/7509 [00:12<00:00, 581.21it/s]\n"
     ]
    },
    {
     "name": "stdout",
     "output_type": "stream",
     "text": [
      "epoch 76, loss: 0.19745, acc: 0.92094, val_loss: 0.23429, val_accuracy: 0.91257\n"
     ]
    },
    {
     "name": "stderr",
     "output_type": "stream",
     "text": [
      "100%|█████████████████████████████████████████████████████████████████████████████| 7509/7509 [00:12<00:00, 580.85it/s]\n"
     ]
    },
    {
     "name": "stdout",
     "output_type": "stream",
     "text": [
      "epoch 77, loss: 0.19765, acc: 0.92062, val_loss: 0.23584, val_accuracy: 0.91157\n"
     ]
    },
    {
     "name": "stderr",
     "output_type": "stream",
     "text": [
      "100%|█████████████████████████████████████████████████████████████████████████████| 7509/7509 [00:12<00:00, 580.92it/s]\n"
     ]
    },
    {
     "name": "stdout",
     "output_type": "stream",
     "text": [
      "epoch 78, loss: 0.19712, acc: 0.92124, val_loss: 0.23035, val_accuracy: 0.91406\n"
     ]
    },
    {
     "name": "stderr",
     "output_type": "stream",
     "text": [
      "100%|█████████████████████████████████████████████████████████████████████████████| 7509/7509 [00:12<00:00, 581.26it/s]\n"
     ]
    },
    {
     "name": "stdout",
     "output_type": "stream",
     "text": [
      "[INFO] val_acc has been improved from 0.22933 to 0.22698. Saving Model!\n",
      "epoch 79, loss: 0.19613, acc: 0.92053, val_loss: 0.22698, val_accuracy: 0.91593\n"
     ]
    },
    {
     "name": "stderr",
     "output_type": "stream",
     "text": [
      "100%|█████████████████████████████████████████████████████████████████████████████| 7509/7509 [00:12<00:00, 581.11it/s]\n"
     ]
    },
    {
     "name": "stdout",
     "output_type": "stream",
     "text": [
      "epoch 80, loss: 0.19548, acc: 0.92080, val_loss: 0.22949, val_accuracy: 0.91393\n"
     ]
    },
    {
     "name": "stderr",
     "output_type": "stream",
     "text": [
      "100%|█████████████████████████████████████████████████████████████████████████████| 7509/7509 [00:12<00:00, 581.33it/s]\n"
     ]
    },
    {
     "name": "stdout",
     "output_type": "stream",
     "text": [
      "[INFO] val_acc has been improved from 0.22698 to 0.22368. Saving Model!\n",
      "epoch 81, loss: 0.19407, acc: 0.92171, val_loss: 0.22368, val_accuracy: 0.91659\n"
     ]
    },
    {
     "name": "stderr",
     "output_type": "stream",
     "text": [
      "100%|█████████████████████████████████████████████████████████████████████████████| 7509/7509 [00:12<00:00, 582.33it/s]\n"
     ]
    },
    {
     "name": "stdout",
     "output_type": "stream",
     "text": [
      "epoch 82, loss: 0.19486, acc: 0.92112, val_loss: 0.22998, val_accuracy: 0.91400\n"
     ]
    },
    {
     "name": "stderr",
     "output_type": "stream",
     "text": [
      "100%|█████████████████████████████████████████████████████████████████████████████| 7509/7509 [00:12<00:00, 582.83it/s]\n"
     ]
    },
    {
     "name": "stdout",
     "output_type": "stream",
     "text": [
      "epoch 83, loss: 0.19334, acc: 0.92201, val_loss: 0.22655, val_accuracy: 0.91706\n"
     ]
    },
    {
     "name": "stderr",
     "output_type": "stream",
     "text": [
      "100%|█████████████████████████████████████████████████████████████████████████████| 7509/7509 [00:12<00:00, 581.56it/s]\n"
     ]
    },
    {
     "name": "stdout",
     "output_type": "stream",
     "text": [
      "epoch 84, loss: 0.19379, acc: 0.92204, val_loss: 0.22476, val_accuracy: 0.91783\n"
     ]
    },
    {
     "name": "stderr",
     "output_type": "stream",
     "text": [
      "100%|█████████████████████████████████████████████████████████████████████████████| 7509/7509 [00:12<00:00, 581.11it/s]\n"
     ]
    },
    {
     "name": "stdout",
     "output_type": "stream",
     "text": [
      "epoch 85, loss: 0.19340, acc: 0.92312, val_loss: 0.22560, val_accuracy: 0.91663\n"
     ]
    },
    {
     "name": "stderr",
     "output_type": "stream",
     "text": [
      "100%|█████████████████████████████████████████████████████████████████████████████| 7509/7509 [00:12<00:00, 580.52it/s]\n"
     ]
    },
    {
     "name": "stdout",
     "output_type": "stream",
     "text": [
      "epoch 86, loss: 0.19221, acc: 0.92253, val_loss: 0.22371, val_accuracy: 0.91743\n"
     ]
    },
    {
     "name": "stderr",
     "output_type": "stream",
     "text": [
      "100%|█████████████████████████████████████████████████████████████████████████████| 7509/7509 [00:12<00:00, 580.24it/s]\n"
     ]
    },
    {
     "name": "stdout",
     "output_type": "stream",
     "text": [
      "epoch 87, loss: 0.19209, acc: 0.92255, val_loss: 0.23186, val_accuracy: 0.91443\n"
     ]
    },
    {
     "name": "stderr",
     "output_type": "stream",
     "text": [
      "100%|█████████████████████████████████████████████████████████████████████████████| 7509/7509 [00:12<00:00, 580.94it/s]\n"
     ]
    },
    {
     "name": "stdout",
     "output_type": "stream",
     "text": [
      "epoch 88, loss: 0.19123, acc: 0.92363, val_loss: 0.22541, val_accuracy: 0.91556\n"
     ]
    },
    {
     "name": "stderr",
     "output_type": "stream",
     "text": [
      "100%|█████████████████████████████████████████████████████████████████████████████| 7509/7509 [00:12<00:00, 579.90it/s]\n"
     ]
    },
    {
     "name": "stdout",
     "output_type": "stream",
     "text": [
      "epoch 89, loss: 0.18974, acc: 0.92354, val_loss: 0.22399, val_accuracy: 0.91583\n"
     ]
    },
    {
     "name": "stderr",
     "output_type": "stream",
     "text": [
      "100%|█████████████████████████████████████████████████████████████████████████████| 7509/7509 [00:12<00:00, 581.36it/s]\n"
     ]
    },
    {
     "name": "stdout",
     "output_type": "stream",
     "text": [
      "[INFO] val_acc has been improved from 0.22368 to 0.21852. Saving Model!\n",
      "epoch 90, loss: 0.19054, acc: 0.92330, val_loss: 0.21852, val_accuracy: 0.91619\n"
     ]
    },
    {
     "name": "stderr",
     "output_type": "stream",
     "text": [
      "100%|█████████████████████████████████████████████████████████████████████████████| 7509/7509 [00:12<00:00, 580.13it/s]\n"
     ]
    },
    {
     "name": "stdout",
     "output_type": "stream",
     "text": [
      "epoch 91, loss: 0.19146, acc: 0.92345, val_loss: 0.22010, val_accuracy: 0.92169\n"
     ]
    },
    {
     "name": "stderr",
     "output_type": "stream",
     "text": [
      "100%|█████████████████████████████████████████████████████████████████████████████| 7509/7509 [00:12<00:00, 581.19it/s]\n"
     ]
    },
    {
     "name": "stdout",
     "output_type": "stream",
     "text": [
      "epoch 92, loss: 0.18897, acc: 0.92421, val_loss: 0.22752, val_accuracy: 0.91546\n"
     ]
    },
    {
     "name": "stderr",
     "output_type": "stream",
     "text": [
      "100%|█████████████████████████████████████████████████████████████████████████████| 7509/7509 [00:12<00:00, 581.19it/s]\n"
     ]
    },
    {
     "name": "stdout",
     "output_type": "stream",
     "text": [
      "epoch 93, loss: 0.19040, acc: 0.92394, val_loss: 0.22134, val_accuracy: 0.91766\n"
     ]
    },
    {
     "name": "stderr",
     "output_type": "stream",
     "text": [
      "100%|█████████████████████████████████████████████████████████████████████████████| 7509/7509 [00:12<00:00, 581.60it/s]\n"
     ]
    },
    {
     "name": "stdout",
     "output_type": "stream",
     "text": [
      "epoch 94, loss: 0.18845, acc: 0.92426, val_loss: 0.22712, val_accuracy: 0.91849\n"
     ]
    },
    {
     "name": "stderr",
     "output_type": "stream",
     "text": [
      "100%|█████████████████████████████████████████████████████████████████████████████| 7509/7509 [00:12<00:00, 580.92it/s]\n"
     ]
    },
    {
     "name": "stdout",
     "output_type": "stream",
     "text": [
      "epoch 95, loss: 0.18797, acc: 0.92476, val_loss: 0.22111, val_accuracy: 0.91773\n"
     ]
    },
    {
     "name": "stderr",
     "output_type": "stream",
     "text": [
      "100%|█████████████████████████████████████████████████████████████████████████████| 7509/7509 [00:12<00:00, 581.06it/s]\n"
     ]
    },
    {
     "name": "stdout",
     "output_type": "stream",
     "text": [
      "epoch 96, loss: 0.18817, acc: 0.92461, val_loss: 0.22105, val_accuracy: 0.91926\n"
     ]
    },
    {
     "name": "stderr",
     "output_type": "stream",
     "text": [
      "100%|█████████████████████████████████████████████████████████████████████████████| 7509/7509 [00:12<00:00, 580.46it/s]\n"
     ]
    },
    {
     "name": "stdout",
     "output_type": "stream",
     "text": [
      "epoch 97, loss: 0.18765, acc: 0.92528, val_loss: 0.22016, val_accuracy: 0.91932\n"
     ]
    },
    {
     "name": "stderr",
     "output_type": "stream",
     "text": [
      "100%|█████████████████████████████████████████████████████████████████████████████| 7509/7509 [00:12<00:00, 581.00it/s]\n"
     ]
    },
    {
     "name": "stdout",
     "output_type": "stream",
     "text": [
      "epoch 98, loss: 0.18733, acc: 0.92464, val_loss: 0.21910, val_accuracy: 0.91999\n"
     ]
    },
    {
     "name": "stderr",
     "output_type": "stream",
     "text": [
      "100%|█████████████████████████████████████████████████████████████████████████████| 7509/7509 [00:12<00:00, 580.93it/s]\n"
     ]
    },
    {
     "name": "stdout",
     "output_type": "stream",
     "text": [
      "epoch 99, loss: 0.18693, acc: 0.92443, val_loss: 0.22091, val_accuracy: 0.91763\n"
     ]
    },
    {
     "name": "stderr",
     "output_type": "stream",
     "text": [
      "100%|█████████████████████████████████████████████████████████████████████████████| 7509/7509 [00:12<00:00, 581.84it/s]\n"
     ]
    },
    {
     "name": "stdout",
     "output_type": "stream",
     "text": [
      "epoch 100, loss: 0.18590, acc: 0.92556, val_loss: 0.22407, val_accuracy: 0.91776\n",
      "data_loader <torch.utils.data.dataloader.DataLoader object at 0x000002840D2AC460>\n",
      "evaluation loss: 0.21852, evaluation accuracy: 0.91619\n"
     ]
    }
   ],
   "source": [
    "# 최대 Epoch을 지정합니다.\n",
    "num_epochs = 100\n",
    "min_loss = 9999999999999\n",
    "loss_list=[]\n",
    "acc_list=[]\n",
    "# Epoch 별 훈련 및 검증을 수행합니다.\n",
    "for epoch in range(num_epochs):\n",
    "    # Model Training\n",
    "    # 훈련 손실과 정확도를 반환 받습니다.\n",
    "    train_loss, train_acc = model_train(model, train_dataloader, loss_fn, optimizer, device)\n",
    "    \n",
    "    # 검증 손실과 검증 정확도를 반환 받습니다.\n",
    "    val_loss, val_acc = model_evaluate(model, test_dataloader, loss_fn, device)   \n",
    "\n",
    "    # val_loss 가 개선되었다면 min_loss를 갱신하고 model의 가중치(weights)를 저장합니다.\n",
    "    if val_loss < min_loss:\n",
    "            print(f'[INFO] val_acc has been improved from {min_loss:.5f} to {val_loss:.5f}. Saving Model!')\n",
    "            min_loss = val_loss\n",
    "            torch.save(model.state_dict(), 'DNNModel.pth')\n",
    "\n",
    "    # Epoch 별 결과를 출력합니다.\n",
    "    print(f'epoch {epoch+1:02d}, loss: {train_loss:.5f}, acc: {train_acc:.5f}, val_loss: {val_loss:.5f}, val_accuracy: {val_acc:.5f}')\n",
    "    loss_list.append(train_loss)\n",
    "    acc_list.append(train_acc)\n",
    "## 저장한 가중치 로드 후 검증 성능 측정\n",
    "\n",
    "# 모델에 저장한 가중치를 로드합니다.\n",
    "model.load_state_dict(torch.load('DNNModel.pth'))\n",
    "\n",
    "# 최종 검증 손실(validation loss)와 검증 정확도(validation accuracy)를 산출합니다.\n",
    "final_loss, final_acc, pred_list = model_test(model, test_dataloader, loss_fn, device)\n",
    "print(f'evaluation loss: {final_loss:.5f}, evaluation accuracy: {final_acc:.5f}')\n"
   ]
  },
  {
   "cell_type": "code",
   "execution_count": 13,
   "id": "a816a654",
   "metadata": {},
   "outputs": [
    {
     "data": {
      "text/plain": [
       "[[2, 2, 0, 1, 1, 2, 1, 2, 0, 2, 0, 1, 0, 1, 1, 1],\n",
       " [0, 0, 1, 0, 2, 1, 1, 1, 0, 2, 0, 0, 0, 0, 0, 0],\n",
       " [1, 0, 0, 1, 0, 1, 1, 1, 2, 0, 2, 0, 2, 0, 2, 2],\n",
       " [2, 2, 0, 1, 2, 1, 0, 2, 2, 0, 0, 0, 1, 1, 0, 2],\n",
       " [0, 2, 1, 1, 1, 2, 2, 2, 0, 0, 2, 2, 0, 1, 1, 1],\n",
       " [0, 0, 1, 1, 2, 0, 1, 1, 2, 2, 1, 1, 0, 2, 1, 2],\n",
       " [2, 1, 1, 0, 1, 1, 2, 2, 1, 1, 1, 1, 2, 2, 2, 0],\n",
       " [2, 0, 1, 0, 2, 1, 2, 0, 0, 1, 0, 2, 0, 2, 2, 1],\n",
       " [1, 0, 0, 0, 2, 1, 0, 0, 2, 2, 1, 2, 1, 1, 2, 2],\n",
       " [1, 1, 2, 1, 0, 2, 0, 0, 2, 0, 1, 1, 2, 0, 1, 2],\n",
       " [2, 0, 1, 1, 1, 1, 1, 1, 1, 2, 2, 0, 2, 2, 1, 0],\n",
       " [1, 0, 1, 1, 0, 1, 1, 1, 2, 2, 2, 2, 0, 0, 2, 1],\n",
       " [2, 0, 2, 1, 2, 0, 2, 2, 1, 0, 0, 2, 1, 1, 1, 1],\n",
       " [1, 0, 0, 0, 2, 2, 0, 2, 0, 1, 2, 1, 2, 0, 1, 1],\n",
       " [1, 2, 2, 1, 1, 1, 0, 2, 1, 1, 0, 1, 2, 1, 2, 1],\n",
       " [2, 0, 1, 2, 2, 2, 2, 2, 1, 1, 0, 1, 0, 0, 1, 2],\n",
       " [2, 2, 2, 1, 1, 0, 0, 0, 1, 2, 1, 0, 2, 1, 1, 1],\n",
       " [2, 0, 1, 0, 0, 0, 0, 1, 1, 2, 0, 1, 2, 2, 1, 0],\n",
       " [1, 0, 1, 1, 2, 1, 0, 2, 2, 2, 1, 0, 2, 0, 1, 1],\n",
       " [2, 2, 1, 0, 0, 0, 2, 2, 0, 2, 2, 2, 2, 0, 0, 0],\n",
       " [1, 0, 0, 1, 1, 1, 1, 0, 0, 2, 1, 0, 2, 1, 2, 1],\n",
       " [2, 2, 1, 1, 1, 1, 0, 0, 1, 2, 0, 0, 1, 1, 0, 1],\n",
       " [2, 2, 0, 0, 2, 1, 0, 1, 1, 2, 1, 2, 2, 1, 2, 2],\n",
       " [2, 1, 0, 0, 0, 2, 2, 0, 0, 1, 2, 2, 2, 0, 0, 0],\n",
       " [1, 2, 2, 2, 1, 0, 2, 1, 2, 0, 2, 2, 2, 0, 2, 2],\n",
       " [1, 2, 1, 0, 0, 0, 2, 1, 2, 2, 0, 0, 2, 2, 0, 0],\n",
       " [2, 0, 0, 2, 1, 0, 1, 2, 0, 2, 2, 2, 0, 1, 0, 0],\n",
       " [1, 2, 2, 0, 1, 0, 0, 2, 1, 2, 2, 0, 2, 2, 1, 2],\n",
       " [2, 0, 1, 0, 0, 2, 2, 2, 2, 0, 2, 2, 0, 1, 0, 2],\n",
       " [0, 1, 0, 2, 0, 1, 2, 1, 2, 1, 2, 1, 2, 2, 0, 1],\n",
       " [1, 2, 2, 2, 0, 1, 0, 0, 1, 0, 0, 1, 1, 0, 2, 2],\n",
       " [2, 2, 0, 1, 2, 0, 0, 2, 1, 0, 2, 1, 2, 1, 1, 1],\n",
       " [1, 2, 2, 2, 1, 0, 1, 2, 0, 0, 2, 2, 1, 0, 1, 1],\n",
       " [1, 1, 0, 1, 1, 2, 2, 1, 1, 1, 0, 0, 2, 1, 1, 1],\n",
       " [0, 2, 2, 1, 2, 2, 0, 1, 2, 1, 1, 0, 0, 2, 1, 2],\n",
       " [0, 0, 2, 2, 2, 1, 1, 0, 2, 1, 0, 0, 1, 0, 1, 1],\n",
       " [0, 1, 0, 1, 1, 1, 0, 1, 1, 2, 2, 2, 2, 1, 0, 2],\n",
       " [2, 0, 2, 0, 2, 2, 2, 1, 0, 0, 2, 2, 0, 2, 1, 0],\n",
       " [0, 0, 0, 1, 0, 0, 0, 0, 2, 0, 0, 2, 2, 0, 1, 1],\n",
       " [2, 1, 1, 2, 2, 2, 2, 0, 2, 0, 2, 2, 0, 2, 2, 2],\n",
       " [1, 2, 2, 2, 0, 0, 1, 1, 1, 0, 2, 2, 0, 2, 0, 0],\n",
       " [2, 2, 2, 0, 1, 0, 0, 1, 0, 1, 1, 2, 2, 2, 1, 0],\n",
       " [0, 1, 1, 1, 2, 0, 0, 0, 2, 2, 2, 0, 2, 2, 2, 1],\n",
       " [1, 2, 2, 2, 0, 2, 2, 2, 0, 1, 1, 2, 0, 1, 1, 1],\n",
       " [2, 2, 2, 0, 2, 0, 2, 1, 2, 2, 2, 1, 2, 0, 2, 0],\n",
       " [0, 1, 1, 1, 2, 2, 0, 0, 0, 2, 2, 2, 0, 0, 0, 1],\n",
       " [1, 2, 2, 0, 2, 2, 0, 0, 1, 2, 0, 1, 1, 1, 0, 2],\n",
       " [2, 1, 0, 0, 1, 2, 2, 0, 2, 1, 2, 2, 1, 0, 0, 0],\n",
       " [1, 0, 0, 1, 2, 2, 0, 1, 2, 1, 1, 0, 2, 0, 2, 0],\n",
       " [0, 0, 2, 0, 1, 2, 0, 0, 1, 0, 0, 0, 2, 1, 1, 2],\n",
       " [2, 1, 0, 1, 1, 1, 0, 0, 1, 0, 0, 2, 0, 0, 0, 0],\n",
       " [1, 1, 2, 0, 2, 0, 2, 1, 0, 1, 0, 2, 2, 1, 1, 0],\n",
       " [1, 0, 0, 0, 0, 0, 0, 2, 2, 0, 2, 2, 1, 2, 0, 2],\n",
       " [2, 2, 2, 1, 1, 0, 2, 1, 0, 0, 1, 2, 2, 2, 1, 2],\n",
       " [2, 1, 0, 2, 2, 0, 1, 1, 2, 1, 1, 1, 0, 0, 2, 1],\n",
       " [2, 1, 2, 1, 2, 1, 2, 2, 0, 0, 2, 0, 2, 2, 0, 2],\n",
       " [1, 0, 2, 2, 2, 0, 0, 2, 1, 0, 2, 2, 2, 0, 1, 1],\n",
       " [2, 1, 2, 2, 2, 2, 2, 2, 2, 2, 0, 0, 1, 1, 2, 2],\n",
       " [0, 0, 2, 0, 1, 2, 1, 2, 0, 2, 1, 0, 2, 2, 0, 1],\n",
       " [1, 1, 0, 0, 0, 1, 1, 1, 1, 0, 2, 1, 0, 0, 0, 2],\n",
       " [0, 1, 2, 1, 0, 0, 1, 2, 1, 0, 0, 1, 1, 1, 2, 0],\n",
       " [0, 2, 2, 1, 0, 0, 0, 2, 1, 0, 2, 2, 1, 0, 0, 1],\n",
       " [0, 1, 0, 2, 0, 1, 2, 1, 2, 1, 1, 2, 1, 1, 1, 2],\n",
       " [1, 0, 2, 0, 0, 0, 0, 2, 0, 2, 1, 1, 2, 1, 0, 0],\n",
       " [0, 0, 2, 1, 1, 0, 1, 0, 1, 2, 1, 2, 0, 0, 2, 1],\n",
       " [0, 1, 0, 2, 0, 2, 2, 0, 0, 0, 2, 1, 0, 1, 1, 0],\n",
       " [1, 0, 2, 2, 2, 0, 2, 0, 1, 1, 1, 2, 2, 1, 2, 2],\n",
       " [2, 1, 1, 0, 1, 2, 1, 0, 1, 1, 2, 1, 2, 1, 1, 2],\n",
       " [1, 2, 2, 0, 2, 2, 1, 1, 0, 1, 1, 2, 1, 2, 2, 2],\n",
       " [1, 0, 2, 0, 1, 1, 2, 1, 1, 2, 2, 0, 1, 2, 1, 2],\n",
       " [0, 0, 0, 1, 0, 1, 2, 0, 2, 0, 1, 2, 2, 0, 0, 2],\n",
       " [1, 1, 1, 0, 2, 0, 2, 1, 1, 1, 0, 2, 2, 1, 2, 0],\n",
       " [2, 2, 2, 0, 2, 1, 2, 0, 2, 1, 0, 1, 0, 1, 2, 1],\n",
       " [2, 1, 1, 0, 1, 0, 0, 2, 1, 0, 1, 2, 1, 0, 2, 2],\n",
       " [2, 0, 0, 2, 1, 2, 1, 0, 1, 0, 1, 1, 2, 2, 0, 2],\n",
       " [2, 0, 2, 0, 1, 1, 0, 1, 0, 0, 1, 0, 2, 1, 2, 0],\n",
       " [0, 1, 0, 0, 2, 0, 0, 1, 2, 2, 0, 1, 1, 0, 0, 1],\n",
       " [1, 2, 2, 2, 2, 1, 2, 0, 2, 1, 0, 0, 1, 0, 0, 0],\n",
       " [1, 2, 1, 2, 2, 0, 2, 1, 1, 2, 0, 0, 0, 1, 1, 1],\n",
       " [1, 1, 1, 2, 2, 1, 0, 2, 1, 0, 1, 1, 0, 2, 1, 1],\n",
       " [0, 1, 0, 0, 1, 0, 0, 0, 2, 2, 0, 0, 1, 1, 0, 2],\n",
       " [2, 1, 2, 2, 2, 1, 1, 1, 2, 2, 0, 1, 1, 0, 0, 2],\n",
       " [1, 1, 0, 2, 0, 0, 1, 1, 1, 2, 1, 2, 0, 1, 2, 1],\n",
       " [0, 1, 0, 2, 2, 2, 0, 1, 2, 2, 1, 1, 2, 2, 2, 0],\n",
       " [0, 0, 2, 0, 0, 2, 2, 2, 2, 0, 1, 1, 2, 2, 0, 1],\n",
       " [2, 1, 1, 2, 1, 0, 2, 2, 2, 2, 2, 1, 2, 1, 0, 1],\n",
       " [2, 1, 2, 0, 0, 2, 1, 2, 2, 2, 2, 2, 2, 2, 1, 2],\n",
       " [1, 0, 1, 0, 1, 1, 1, 0, 0, 2, 1, 1, 0, 0, 1, 1],\n",
       " [2, 0, 2, 2, 2, 1, 2, 0, 2, 0, 2, 2, 0, 1, 2, 1],\n",
       " [0, 1, 2, 1, 2, 2, 1, 2, 2, 0, 0, 0, 0, 0, 2, 2],\n",
       " [1, 2, 1, 0, 2, 0, 2, 1, 1, 0, 0, 0, 0, 1, 1, 2],\n",
       " [1, 2, 0, 2, 0, 2, 0, 1, 2, 0, 1, 2, 1, 2, 1, 1],\n",
       " [0, 2, 1, 2, 1, 1, 2, 1, 1, 0, 0, 0, 0, 0, 0, 1],\n",
       " [1, 1, 2, 2, 2, 1, 0, 0, 0, 1, 0, 2, 1, 1, 0, 0],\n",
       " [1, 0, 2, 1, 1, 0, 0, 0, 2, 0, 1, 1, 2, 1, 2, 2],\n",
       " [1, 2, 0, 0, 0, 2, 2, 2, 0, 0, 0, 0, 0, 1, 1, 0],\n",
       " [0, 2, 1, 1, 0, 1, 2, 1, 2, 1, 2, 0, 0, 0, 1, 1],\n",
       " [0, 2, 1, 2, 1, 0, 0, 0, 0, 2, 1, 2, 1, 2, 0, 0],\n",
       " [1, 0, 0, 2, 0, 2, 0, 2, 2, 0, 2, 2, 0, 1, 2, 1],\n",
       " [0, 1, 2, 2, 1, 0, 2, 0, 1, 0, 0, 1, 1, 2, 2, 1],\n",
       " [0, 2, 0, 1, 0, 1, 0, 1, 0, 0, 2, 0, 0, 0, 2, 1],\n",
       " [0, 0, 0, 0, 1, 2, 2, 0, 2, 2, 0, 2, 1, 2, 1, 2],\n",
       " [1, 0, 1, 0, 0, 1, 1, 1, 1, 2, 0, 1, 2, 0, 0, 2],\n",
       " [1, 0, 0, 0, 0, 0, 1, 1, 2, 2, 1, 1, 0, 1, 2, 2],\n",
       " [0, 2, 1, 0, 2, 1, 0, 0, 1, 1, 2, 0, 0, 0, 1, 2],\n",
       " [2, 2, 2, 2, 2, 1, 0, 0, 0, 1, 2, 1, 0, 0, 0, 1],\n",
       " [0, 0, 2, 2, 0, 2, 2, 0, 2, 1, 1, 1, 2, 0, 0, 0],\n",
       " [2, 0, 1, 1, 2, 2, 0, 0, 2, 1, 1, 2, 2, 2, 2, 0],\n",
       " [0, 1, 1, 2, 2, 2, 1, 2, 1, 0, 0, 0, 1, 0, 2, 2],\n",
       " [1, 2, 1, 1, 1, 2, 1, 2, 1, 2, 2, 0, 1, 0, 0, 0],\n",
       " [0, 1, 2, 1, 0, 2, 2, 1, 2, 1, 1, 0, 1, 1, 1, 1],\n",
       " [2, 1, 0, 1, 2, 0, 1, 0, 2, 2, 2, 2, 1, 2, 1, 2],\n",
       " [0, 0, 1, 1, 2, 0, 1, 2, 1, 2, 2, 1, 1, 1, 0, 0],\n",
       " [1, 0, 2, 2, 0, 0, 1, 0, 0, 2, 0, 1, 1, 1, 0, 0],\n",
       " [0, 2, 0, 1, 2, 1, 2, 0, 1, 0, 0, 2, 1, 2, 0, 2],\n",
       " [0, 1, 1, 1, 1, 1, 0, 2, 0, 1, 0, 1, 1, 2, 1, 1],\n",
       " [0, 0, 0, 0, 2, 0, 1, 1, 1, 1, 0, 2, 0, 2, 2, 0],\n",
       " [0, 2, 0, 0, 0, 2, 2, 2, 2, 2, 0, 2, 0, 1, 0, 2],\n",
       " [0, 0, 0, 0, 1, 1, 2, 0, 1, 1, 2, 1, 1, 1, 1, 1],\n",
       " [2, 2, 2, 0, 1, 0, 2, 1, 2, 0, 1, 1, 1, 2, 1, 1],\n",
       " [2, 0, 1, 0, 1, 1, 0, 2, 1, 0, 1, 0, 0, 1, 2, 0],\n",
       " [0, 0, 0, 2, 1, 1, 0, 2, 1, 1, 0, 0, 1, 2, 1, 2],\n",
       " [0, 1, 2, 2, 2, 0, 1, 0, 2, 0, 2, 0, 1, 0, 0, 0],\n",
       " [1, 2, 0, 0, 1, 2, 0, 1, 0, 1, 0, 1, 1, 0, 0, 2],\n",
       " [2, 2, 1, 1, 1, 0, 1, 2, 0, 0, 2, 0, 2, 1, 1, 0],\n",
       " [2, 0, 1, 2, 2, 1, 1, 1, 1, 0, 1, 1, 1, 1, 2, 1],\n",
       " [2, 2, 2, 2, 0, 0, 1, 0, 2, 1, 2, 1, 0, 2, 0, 0],\n",
       " [1, 1, 2, 0, 0, 1, 0, 1, 1, 2, 2, 1, 1, 1, 1, 2],\n",
       " [1, 2, 1, 0, 1, 1, 1, 0, 0, 2, 2, 0, 1, 1, 0, 2],\n",
       " [0, 0, 0, 2, 0, 1, 0, 2, 0, 0, 1, 1, 1, 0, 1, 2],\n",
       " [1, 2, 1, 2, 2, 0, 0, 0, 2, 2, 1, 2, 2, 1, 2, 1],\n",
       " [0, 2, 2, 2, 2, 0, 0, 1, 2, 2, 0, 1, 0, 0, 2, 2],\n",
       " [0, 0, 2, 2, 1, 1, 1, 2, 1, 2, 2, 1, 0, 0, 0, 1],\n",
       " [0, 0, 0, 1, 0, 2, 1, 1, 0, 0, 0, 1, 2, 0, 2, 2],\n",
       " [0, 0, 0, 2, 1, 2, 0, 2, 1, 0, 0, 0, 1, 1, 0, 0],\n",
       " [2, 2, 0, 2, 0, 2, 0, 1, 2, 1, 2, 2, 1, 1, 1, 1],\n",
       " [2, 0, 2, 0, 2, 2, 0, 0, 0, 1, 0, 2, 1, 1, 2, 2],\n",
       " [1, 2, 0, 0, 2, 0, 1, 2, 1, 1, 0, 0, 1, 2, 0, 1],\n",
       " [1, 1, 0, 2, 1, 1, 0, 1, 1, 2, 2, 0, 2, 0, 0, 1],\n",
       " [2, 1, 1, 0, 2, 0, 0, 2, 2, 2, 0, 1, 2, 1, 2, 2],\n",
       " [2, 2, 2, 1, 0, 0, 2, 0, 2, 2, 1, 2, 2, 0, 0, 2],\n",
       " [0, 0, 2, 1, 2, 0, 0, 2, 2, 2, 1, 2, 0, 1, 0, 1],\n",
       " [1, 2, 2, 2, 0, 1, 1, 1, 2, 2, 2, 0, 2, 1, 0, 2],\n",
       " [0, 1, 1, 1, 2, 2, 0, 1, 1, 1, 2, 0, 1, 1, 0, 0],\n",
       " [0, 2, 2, 2, 1, 0, 2, 0, 1, 2, 0, 1, 1, 0, 0, 1],\n",
       " [2, 1, 2, 1, 0, 2, 1, 2, 1, 2, 0, 2, 0, 1, 2, 0],\n",
       " [0, 0, 1, 0, 1, 2, 1, 2, 1, 2, 0, 0, 1, 1, 2, 1],\n",
       " [1, 0, 1, 0, 1, 2, 1, 1, 0, 2, 1, 1, 2, 2, 2, 0],\n",
       " [2, 0, 1, 2, 2, 0, 2, 2, 1, 0, 1, 1, 2, 1, 0, 0],\n",
       " [1, 1, 1, 0, 2, 1, 0, 2, 0, 1, 2, 0, 2, 0, 1, 2],\n",
       " [2, 2, 0, 1, 0, 1, 1, 1, 2, 2, 0, 1, 0, 1, 0, 0],\n",
       " [1, 0, 1, 1, 0, 0, 0, 0, 2, 0, 2, 2, 2, 1, 1, 1],\n",
       " [2, 2, 1, 1, 1, 1, 2, 1, 1, 1, 0, 0, 0, 2, 0, 1],\n",
       " [1, 2, 2, 0, 1, 1, 2, 0, 0, 1, 1, 2, 2, 2, 2, 2],\n",
       " [1, 0, 1, 0, 0, 0, 1, 1, 2, 1, 0, 2, 2, 1, 2, 2],\n",
       " [0, 0, 0, 1, 2, 1, 0, 2, 1, 2, 2, 0, 0, 2, 1, 1],\n",
       " [0, 2, 0, 2, 1, 0, 2, 2, 2, 0, 1, 2, 1, 2, 0, 2],\n",
       " [0, 2, 2, 1, 2, 1, 1, 0, 2, 0, 1, 0, 0, 0, 2, 0],\n",
       " [1, 2, 2, 2, 1, 1, 1, 1, 0, 2, 2, 0, 1, 0, 1, 2],\n",
       " [1, 2, 2, 0, 1, 0, 1, 2, 0, 2, 2, 1, 0, 2, 1, 1],\n",
       " [0, 1, 1, 1, 1, 2, 0, 2, 0, 2, 0, 2, 2, 0, 2, 0],\n",
       " [0, 0, 1, 0, 1, 2, 1, 2, 1, 1, 0, 0, 2, 0, 1, 0],\n",
       " [1, 2, 2, 2, 2, 1, 1, 2, 0, 1, 1, 0, 1, 1, 0, 2],\n",
       " [2, 0, 2, 2, 0, 1, 0, 0, 1, 0, 0, 2, 2, 1, 2, 2],\n",
       " [1, 1, 0, 1, 0, 0, 1, 0, 2, 0, 2, 0, 1, 2, 1, 0],\n",
       " [1, 0, 1, 0, 2, 2, 0, 0, 1, 0, 1, 1, 0, 0, 0, 2],\n",
       " [0, 2, 0, 0, 1, 0, 0, 1, 2, 1, 2, 2, 1, 1, 2, 0],\n",
       " [2, 1, 1, 2, 1, 2, 2, 0, 0, 0, 1, 0, 2, 2, 1, 2],\n",
       " [1, 2, 1, 1, 2, 0, 2, 1, 0, 0, 1, 0, 2, 0, 0, 0],\n",
       " [2, 0, 0, 2, 0, 2, 0, 0, 0, 1, 0, 2, 2, 2, 1, 0],\n",
       " [1, 0, 1, 1, 2, 2, 0, 2, 1, 1, 1, 1, 2, 0, 1, 2],\n",
       " [0, 2, 0, 2, 2, 1, 0, 1, 1, 1, 1, 2, 1, 0, 1, 1],\n",
       " [0, 0, 0, 0, 2, 0, 2, 1, 1, 2, 1, 1, 2, 0, 1, 0],\n",
       " [1, 2, 1, 2, 1, 1, 2, 2, 2, 2, 0, 2, 0, 2, 2, 2],\n",
       " [2, 2, 2, 2, 0, 0, 1, 0, 1, 2, 2, 0, 2, 0, 2, 0],\n",
       " [0, 1, 0, 1, 0, 1, 0, 2, 1, 0, 0, 2, 1, 1, 0, 1],\n",
       " [2, 2, 0, 2, 2, 2, 0, 2, 1, 0, 2, 0, 0, 2, 1, 2],\n",
       " [0, 1, 0, 0, 0, 2, 2, 1, 2, 0, 1, 1, 2, 1, 1, 0],\n",
       " [1, 2, 1, 1, 1, 0, 2, 0, 0, 1, 0, 1, 1, 2, 2, 1],\n",
       " [2, 1, 0, 0, 2, 1, 2, 1, 0, 2, 2, 2, 2, 1, 1, 2],\n",
       " [2, 0, 2, 2, 1, 2, 0, 2, 1, 1, 0, 2, 0, 0, 2, 1],\n",
       " [0, 0, 2, 1, 0, 2, 0, 2, 2, 0, 2, 2, 1, 0, 2, 2],\n",
       " [0, 0, 1, 1, 1, 0, 0, 1, 1, 0, 0, 1, 0, 2, 1, 1],\n",
       " [1, 2, 1, 1, 2, 2, 1, 2, 2, 1, 2, 1, 1, 1, 2, 0],\n",
       " [1, 1, 0, 2, 0, 0, 0, 2, 0, 1, 2, 0, 1, 2, 2, 0],\n",
       " [0, 1, 0, 2, 0, 0, 1, 2, 1, 2, 0, 0, 2, 2, 1, 2],\n",
       " [1, 1, 1, 2, 0, 0, 1, 1, 0, 1, 1, 0, 0, 2, 0, 0],\n",
       " [1, 1, 0, 2, 0, 1, 0, 1, 1, 0, 0, 0, 0, 0, 2, 2],\n",
       " [2, 1, 2, 0, 0, 0, 1, 2, 1, 1, 0, 0, 2, 2, 0, 1],\n",
       " [1, 0, 2, 1, 1, 0, 0, 1, 2, 2, 2, 1, 1, 2, 2, 2],\n",
       " [2, 2, 0, 2, 0, 0, 1, 1, 0, 2, 0, 0, 0, 2, 1, 0],\n",
       " [2, 1, 1, 0, 1, 2, 0, 1, 2, 0, 1, 1, 0, 1, 0, 2],\n",
       " [1, 1, 1, 0, 0, 2, 2, 0, 0, 2, 2, 2, 0, 2, 0, 1],\n",
       " [0, 0, 1, 0, 1, 2, 0, 0, 1, 2, 1, 1, 0, 1, 2, 1],\n",
       " [0, 1, 2, 2, 2, 2, 2, 0, 0, 2, 1, 1, 2, 2, 1, 2],\n",
       " [1, 0, 2, 2, 1, 1, 0, 1, 2, 2, 2, 0, 1, 1, 1, 2],\n",
       " [2, 2, 2, 0, 2, 2, 1, 0, 2, 1, 2, 2, 1, 1, 1, 1],\n",
       " [0, 0, 0, 1, 2, 2, 1, 2, 1, 2, 0, 0, 0, 2, 2, 2],\n",
       " [0, 1, 0, 1, 0, 0, 1, 2, 2, 1, 0, 0, 1, 0, 1, 0],\n",
       " [2, 2, 1, 0, 2, 2, 0, 1, 1, 2, 2, 1, 2, 2, 0, 1],\n",
       " [1, 0, 0, 1, 1, 2, 1, 0, 2, 0, 0, 2, 2, 0, 2, 1],\n",
       " [0, 1, 0, 2, 2, 0, 1, 2, 1, 0, 1, 1, 2, 0, 1, 0],\n",
       " [1, 0, 2, 0, 0, 0, 0, 0, 1, 2, 2, 1, 2, 0, 1, 0],\n",
       " [1, 0, 1, 0, 2, 2, 2, 0, 2, 2, 0, 1, 1, 1, 0, 2],\n",
       " [0, 1, 2, 2, 2, 0, 2, 1, 0, 2, 1, 1, 0, 1, 2, 2],\n",
       " [2, 2, 0, 1, 1, 2, 0, 2, 1, 0, 2, 0, 0, 1, 2, 1],\n",
       " [2, 0, 2, 2, 1, 2, 0, 0, 0, 0, 0, 0, 1, 0, 0, 2],\n",
       " [2, 0, 1, 1, 1, 0, 2, 1, 2, 1, 0, 1, 0, 2, 1, 1],\n",
       " [1, 0, 1, 1, 2, 1, 2, 1, 0, 0, 2, 1, 2, 1, 0, 0],\n",
       " [1, 0, 2, 1, 1, 0, 2, 1, 0, 2, 1, 0, 1, 0, 0, 1],\n",
       " [0, 1, 0, 2, 2, 1, 0, 2, 2, 0, 1, 0, 1, 1, 1, 2],\n",
       " [0, 2, 2, 0, 1, 1, 2, 0, 1, 0, 2, 2, 2, 1, 2, 1],\n",
       " [1, 1, 2, 1, 2, 1, 1, 2, 0, 2, 2, 0, 0, 0, 1, 0],\n",
       " [2, 2, 2, 2, 0, 2, 2, 0, 1, 0, 2, 0, 0, 2, 2, 1],\n",
       " [0, 0, 0, 2, 2, 1, 0, 0, 1, 2, 1, 2, 2, 1, 1, 0],\n",
       " [2, 0, 0, 2, 2, 0, 1, 2, 1, 1, 0, 0, 1, 0, 2, 0],\n",
       " [2, 0, 2, 0, 0, 2, 1, 2, 1, 0, 1, 0, 1, 1, 0, 2],\n",
       " [2, 1, 2, 1, 1, 1, 2, 2, 1, 1, 1, 0, 1, 1, 1, 1],\n",
       " [0, 0, 2, 2, 1, 2, 0, 2, 1, 1, 2, 1, 0, 2, 1, 0],\n",
       " [1, 2, 1, 2, 1, 0, 2, 2, 0, 0, 1, 1, 0, 2, 0, 1],\n",
       " [1, 0, 1, 2, 0, 2, 0, 1, 1, 2, 2, 2, 0, 0, 2, 0],\n",
       " [2, 2, 1, 2, 2, 2, 1, 0, 2, 2, 0, 1, 0, 0, 1, 1],\n",
       " [2, 0, 1, 0, 2, 2, 1, 1, 1, 0, 2, 2, 0, 1, 1, 1],\n",
       " [0, 2, 0, 2, 2, 0, 2, 2, 0, 0, 0, 0, 2, 1, 0, 0],\n",
       " [2, 1, 1, 1, 1, 0, 2, 0, 1, 2, 1, 2, 2, 2, 0, 0],\n",
       " [1, 1, 1, 2, 2, 0, 0, 2, 2, 1, 0, 2, 1, 2, 1, 0],\n",
       " [2, 2, 2, 0, 1, 2, 1, 2, 2, 1, 1, 2, 0, 1, 2, 1],\n",
       " [0, 0, 1, 1, 2, 1, 0, 0, 0, 1, 1, 0, 0, 0, 1, 0],\n",
       " [1, 1, 1, 0, 0, 2, 1, 2, 1, 1, 2, 0, 1, 2, 2, 1],\n",
       " [1, 2, 1, 0, 0, 0, 2, 0, 2, 0, 2, 2, 0, 2, 1, 1],\n",
       " [2, 2, 0, 1, 0, 2, 2, 1, 1, 0, 0, 2, 2, 2, 0, 1],\n",
       " [1, 2, 0, 2, 0, 2, 0, 1, 2, 2, 1, 2, 2, 0, 0, 1],\n",
       " [2, 1, 0, 1, 2, 0, 1, 0, 1, 2, 0, 1, 1, 0, 2, 2],\n",
       " [0, 0, 2, 1, 2, 0, 1, 0, 2, 2, 2, 2, 2, 2, 1, 0],\n",
       " [0, 1, 0, 0, 1, 0, 1, 1, 0, 0, 0, 0, 1, 0, 2, 2],\n",
       " [2, 2, 0, 2, 1, 2, 0, 1, 1, 2, 1, 2, 2, 0, 2, 2],\n",
       " [1, 2, 1, 1, 2, 0, 2, 2, 2, 1, 2, 2, 2, 0, 1, 1],\n",
       " [1, 0, 1, 0, 2, 0, 1, 1, 0, 2, 2, 0, 1, 2, 0, 1],\n",
       " [2, 1, 2, 1, 1, 1, 2, 1, 0, 1, 1, 1, 0, 0, 2, 2],\n",
       " [0, 1, 0, 1, 2, 2, 2, 1, 1, 0, 1, 2, 0, 1, 2, 2],\n",
       " [1, 2, 2, 1, 2, 2, 2, 2, 0, 1, 1, 2, 0, 0, 1, 1],\n",
       " [1, 2, 1, 1, 0, 0, 2, 1, 0, 1, 1, 2, 0, 2, 2, 0],\n",
       " [1, 0, 0, 0, 2, 0, 2, 2, 2, 0, 1, 0, 0, 2, 0, 0],\n",
       " [2, 0, 2, 1, 2, 2, 1, 2, 2, 2, 0, 2, 0, 1, 0, 2],\n",
       " [2, 0, 1, 1, 1, 2, 2, 0, 2, 1, 1, 0, 2, 2, 2, 2],\n",
       " [0, 1, 0, 2, 0, 1, 2, 1, 2, 0, 0, 1, 2, 2, 2, 1],\n",
       " [2, 1, 2, 1, 0, 0, 2, 2, 2, 2, 1, 0, 1, 2, 1, 0],\n",
       " [1, 0, 2, 2, 1, 0, 0, 1, 2, 0, 0, 2, 2, 1, 1, 1],\n",
       " [0, 2, 2, 2, 2, 0, 2, 0, 1, 1, 0, 2, 2, 1, 2, 2],\n",
       " [2, 0, 2, 1, 1, 1, 0, 0, 0, 1, 0, 0, 2, 1, 1, 2],\n",
       " [1, 2, 1, 2, 2, 2, 2, 2, 2, 2, 2, 2, 1, 0, 1, 0],\n",
       " [2, 1, 1, 1, 0, 2, 1, 2, 0, 2, 2, 2, 0, 0, 2, 1],\n",
       " [0, 1, 1, 1, 0, 1, 2, 2, 1, 2, 0, 1, 2, 0, 0, 2],\n",
       " [0, 0, 1, 0, 0, 2, 0, 0, 2, 1, 1, 1, 0, 0, 0, 1],\n",
       " [1, 0, 0, 0, 1, 0, 0, 2, 2, 1, 0, 2, 2, 0, 2, 0],\n",
       " [1, 1, 1, 2, 2, 2, 2, 1, 0, 0, 1, 0, 0, 0, 0, 1],\n",
       " [1, 2, 1, 1, 0, 1, 2, 0, 1, 2, 2, 2, 1, 0, 0, 0],\n",
       " [2, 0, 0, 2, 0, 2, 2, 0, 2, 2, 0, 0, 0, 2, 1, 1],\n",
       " [0, 2, 1, 0, 2, 1, 2, 0, 1, 0, 0, 2, 0, 1, 1, 1],\n",
       " [1, 2, 1, 2, 1, 2, 1, 1, 2, 1, 0, 0, 2, 2, 1, 0],\n",
       " [2, 1, 1, 0, 2, 2, 0, 1, 0, 0, 0, 1, 2, 0, 2, 2],\n",
       " [2, 0, 0, 1, 2, 2, 0, 2, 0, 2, 2, 2, 0, 1, 0, 0],\n",
       " [0, 1, 0, 1, 2, 0, 1, 1, 2, 0, 2, 2, 1, 2, 1, 2],\n",
       " [1, 0, 2, 1, 0, 1, 0, 0, 2, 1, 2, 1, 2, 0, 2, 1],\n",
       " [0, 1, 2, 0, 2, 1, 2, 1, 0, 0, 0, 2, 0, 1, 2, 0],\n",
       " [0, 0, 1, 2, 2, 2, 0, 0, 1, 0, 2, 1, 1, 1, 1, 1],\n",
       " [0, 2, 2, 1, 2, 0, 2, 0, 2, 1, 0, 2, 1, 1, 2, 2],\n",
       " [1, 0, 1, 1, 2, 0, 0, 0, 2, 1, 2, 0, 1, 0, 1, 0],\n",
       " [0, 1, 2, 1, 1, 0, 2, 1, 2, 2, 1, 2, 0, 0, 2, 1],\n",
       " [0, 0, 0, 2, 2, 0, 1, 2, 2, 2, 0, 2, 2, 1, 1, 1],\n",
       " [1, 2, 0, 1, 1, 0, 1, 1, 2, 2, 2, 1, 1, 2, 1, 1],\n",
       " [2, 2, 2, 0, 1, 0, 0, 0, 2, 2, 0, 0, 1, 2, 2, 2],\n",
       " [0, 0, 0, 2, 2, 2, 1, 1, 1, 2, 1, 0, 0, 1, 2, 0],\n",
       " [0, 1, 1, 2, 1, 2, 2, 2, 0, 2, 2, 2, 2, 2, 2, 1],\n",
       " [0, 1, 1, 2, 0, 0, 0, 0, 0, 1, 2, 2, 1, 2, 0, 2],\n",
       " [2, 1, 2, 0, 2, 0, 2, 2, 1, 0, 2, 2, 2, 2, 1, 0],\n",
       " [0, 0, 1, 1, 2, 1, 1, 2, 0, 1, 1, 2, 1, 1, 1, 2],\n",
       " [1, 0, 0, 2, 2, 1, 2, 2, 0, 0, 1, 2, 0, 1, 0, 0],\n",
       " [1, 1, 1, 1, 2, 0, 1, 2, 2, 1, 0, 0, 0, 0, 0, 0],\n",
       " [0, 2, 1, 0, 2, 2, 1, 1, 2, 2, 2, 2, 0, 2, 2, 1],\n",
       " [2, 1, 1, 2, 1, 2, 2, 1, 2, 0, 0, 1, 1, 1, 1, 2],\n",
       " [1, 1, 1, 1, 0, 0, 0, 2, 1, 2, 0, 2, 1, 2, 0, 2],\n",
       " [0, 1, 1, 0, 0, 2, 1, 0, 2, 0, 2, 0, 1, 2, 2, 2],\n",
       " [2, 2, 0, 2, 1, 1, 2, 2, 2, 1, 2, 1, 1, 0, 1, 1],\n",
       " [1, 2, 2, 2, 1, 2, 2, 0, 1, 0, 0, 1, 0, 0, 1, 1],\n",
       " [1, 1, 0, 0, 1, 0, 0, 2, 1, 2, 0, 2, 0, 0, 2, 2],\n",
       " [0, 0, 2, 1, 1, 0, 2, 2, 0, 0, 0, 0, 1, 2, 0, 2],\n",
       " [0, 1, 2, 2, 0, 0, 0, 2, 1, 0, 1, 0, 1, 2, 2, 0],\n",
       " [0, 2, 1, 2, 2, 1, 1, 2, 0, 2, 2, 2, 1, 0, 1, 1],\n",
       " [1, 1, 0, 1, 1, 0, 1, 2, 0, 1, 2, 1, 1, 1, 2, 1],\n",
       " [2, 0, 2, 0, 0, 2, 2, 1, 2, 2, 1, 0, 2, 2, 2, 2],\n",
       " [1, 0, 2, 1, 0, 1, 0, 2, 2, 2, 2, 0, 0, 1, 0, 2],\n",
       " [0, 2, 1, 0, 2, 0, 1, 0, 0, 2, 2, 1, 2, 2, 0, 0],\n",
       " [0, 0, 1, 2, 2, 2, 1, 2, 0, 2, 0, 1, 2, 2, 1, 0],\n",
       " [2, 2, 1, 0, 1, 0, 2, 0, 0, 1, 0, 2, 2, 0, 2, 2],\n",
       " [2, 0, 2, 1, 2, 2, 2, 0, 1, 0, 1, 1, 1, 1, 1, 1],\n",
       " [1, 1, 2, 0, 1, 2, 1, 2, 0, 2, 1, 0, 0, 0, 1, 2],\n",
       " [0, 0, 0, 0, 0, 2, 0, 2, 2, 1, 1, 1, 0, 0, 2, 1],\n",
       " [2, 0, 0, 1, 0, 0, 1, 1, 1, 1, 2, 1, 2, 1, 0, 0],\n",
       " [0, 0, 1, 0, 2, 1, 2, 1, 1, 2, 0, 0, 0, 2, 0, 2],\n",
       " [0, 2, 0, 1, 0, 0, 2, 2, 0, 1, 0, 2, 0, 0, 1, 0],\n",
       " [1, 2, 2, 0, 1, 1, 2, 0, 2, 0, 0, 2, 1, 2, 2, 0],\n",
       " [2, 2, 1, 2, 1, 1, 2, 2, 1, 2, 0, 0, 1, 0, 1, 1],\n",
       " [2, 0, 0, 1, 2, 0, 2, 1, 2, 1, 0, 2, 0, 0, 2, 1],\n",
       " [1, 0, 1, 0, 2, 0, 0, 0, 1, 0, 1, 2, 1, 1, 1, 2],\n",
       " [2, 0, 1, 1, 1, 0, 0, 2, 0, 1, 2, 2, 0, 2, 2, 2],\n",
       " [2, 0, 1, 1, 2, 0, 0, 2, 0, 0, 2, 1, 0, 2, 1, 1],\n",
       " [2, 1, 2, 2, 2, 0, 0, 2, 0, 2, 2, 1, 2, 2, 1, 1],\n",
       " [2, 1, 0, 2, 2, 0, 2, 1, 0, 1, 2, 0, 1, 2, 2, 1],\n",
       " [1, 2, 2, 1, 0, 1, 2, 1, 0, 0, 2, 2, 1, 1, 1, 0],\n",
       " [2, 1, 1, 1, 2, 2, 2, 2, 0, 2, 1, 0, 1, 0, 1, 2],\n",
       " [1, 2, 0, 0, 0, 1, 2, 0, 1, 1, 1, 0, 1, 2, 0, 2],\n",
       " [0, 0, 1, 0, 1, 2, 1, 1, 0, 1, 2, 2, 1, 0, 0, 0],\n",
       " [2, 1, 1, 2, 1, 1, 0, 1, 1, 2, 1, 2, 1, 0, 1, 1],\n",
       " [1, 1, 0, 2, 1, 0, 1, 2, 1, 2, 2, 0, 1, 2, 2, 2],\n",
       " [2, 2, 2, 0, 1, 0, 1, 0, 2, 1, 2, 0, 1, 1, 0, 2],\n",
       " [0, 1, 2, 1, 2, 1, 2, 0, 0, 0, 1, 0, 2, 2, 1, 2],\n",
       " [0, 2, 2, 2, 2, 1, 2, 2, 2, 0, 1, 0, 0, 2, 2, 1],\n",
       " [2, 1, 1, 2, 1, 2, 1, 1, 1, 2, 0, 2, 1, 2, 1, 2],\n",
       " [2, 1, 1, 1, 2, 2, 0, 1, 0, 1, 2, 0, 1, 2, 1, 2],\n",
       " [2, 1, 2, 0, 2, 2, 1, 0, 2, 0, 1, 0, 1, 1, 2, 0],\n",
       " [2, 2, 0, 2, 0, 2, 0, 2, 1, 1, 0, 1, 0, 2, 0, 2],\n",
       " [2, 0, 2, 0, 2, 0, 2, 1, 1, 2, 2, 2, 1, 2, 0, 2],\n",
       " [0, 1, 2, 0, 2, 2, 2, 2, 2, 1, 1, 0, 0, 0, 0, 1],\n",
       " [0, 0, 0, 2, 2, 2, 2, 0, 0, 2, 1, 0, 2, 1, 2, 2],\n",
       " [2, 2, 0, 1, 2, 0, 2, 0, 2, 0, 2, 0, 0, 0, 2, 2],\n",
       " [0, 1, 1, 2, 1, 2, 1, 2, 2, 1, 0, 1, 1, 0, 2, 2],\n",
       " [2, 2, 0, 0, 2, 2, 1, 0, 1, 1, 0, 0, 2, 2, 1, 2],\n",
       " [2, 0, 0, 1, 2, 2, 2, 1, 2, 2, 2, 0, 2, 1, 2, 1],\n",
       " [2, 0, 1, 0, 0, 1, 0, 1, 1, 0, 1, 2, 0, 2, 0, 1],\n",
       " [2, 1, 1, 2, 0, 2, 2, 0, 2, 2, 0, 0, 2, 0, 1, 1],\n",
       " [0, 0, 1, 2, 1, 1, 2, 0, 1, 0, 0, 2, 1, 0, 0, 2],\n",
       " [2, 2, 1, 2, 1, 0, 2, 0, 0, 1, 0, 1, 1, 1, 0, 0],\n",
       " [0, 2, 2, 2, 1, 1, 1, 1, 1, 1, 0, 1, 1, 0, 2, 1],\n",
       " [2, 1, 2, 1, 2, 1, 1, 0, 2, 0, 1, 0, 0, 0, 1, 1],\n",
       " [1, 0, 1, 1, 2, 1, 2, 0, 2, 0, 2, 2, 0, 0, 2, 1],\n",
       " [2, 2, 2, 0, 0, 1, 1, 0, 2, 0, 2, 2, 1, 2, 2, 0],\n",
       " [0, 0, 0, 0, 0, 1, 2, 2, 1, 2, 2, 1, 1, 2, 0, 2],\n",
       " [2, 2, 1, 1, 0, 0, 0, 2, 2, 1, 0, 2, 2, 1, 0, 0],\n",
       " [0, 1, 0, 2, 2, 2, 2, 2, 0, 2, 1, 0, 1, 0, 1, 2],\n",
       " [2, 0, 2, 0, 0, 2, 1, 1, 2, 0, 2, 0, 1, 2, 0, 2],\n",
       " [1, 0, 1, 0, 0, 1, 2, 1, 2, 2, 2, 2, 0, 2, 2, 0],\n",
       " [0, 0, 1, 2, 1, 2, 1, 1, 2, 1, 0, 0, 0, 2, 1, 0],\n",
       " [0, 0, 1, 0, 0, 1, 0, 0, 1, 2, 2, 0, 2, 1, 1, 0],\n",
       " [2, 0, 0, 2, 2, 0, 0, 1, 1, 1, 2, 1, 2, 0, 0, 2],\n",
       " [0, 0, 0, 2, 0, 1, 1, 0, 0, 0, 2, 0, 2, 2, 2, 1],\n",
       " [1, 0, 1, 2, 0, 0, 1, 0, 2, 2, 1, 1, 0, 2, 1, 2],\n",
       " [2, 2, 0, 1, 2, 2, 2, 0, 1, 0, 2, 2, 0, 0, 2, 2],\n",
       " [0, 0, 2, 2, 0, 2, 0, 1, 1, 2, 2, 1, 2, 0, 1, 1],\n",
       " [1, 1, 1, 1, 2, 2, 1, 2, 1, 1, 1, 1, 2, 1, 1, 0],\n",
       " [0, 0, 1, 2, 0, 1, 1, 2, 0, 0, 2, 1, 1, 0, 0, 0],\n",
       " [0, 1, 0, 1, 2, 0, 0, 0, 2, 0, 0, 1, 0, 1, 2, 2],\n",
       " [1, 1, 1, 1, 0, 0, 0, 2, 2, 1, 0, 2, 0, 2, 0, 0],\n",
       " [1, 1, 1, 2, 0, 0, 2, 1, 0, 0, 2, 1, 0, 0, 0, 0],\n",
       " [1, 2, 1, 2, 1, 0, 1, 2, 0, 2, 2, 1, 1, 0, 0, 0],\n",
       " [2, 2, 1, 0, 1, 1, 2, 2, 2, 2, 1, 2, 1, 0, 2, 2],\n",
       " [1, 2, 0, 2, 0, 0, 0, 1, 2, 1, 1, 2, 2, 1, 0, 1],\n",
       " [1, 1, 0, 2, 1, 2, 0, 0, 1, 0, 1, 2, 2, 1, 2, 2],\n",
       " [1, 1, 1, 0, 0, 2, 0, 1, 2, 1, 1, 1, 0, 0, 0, 1],\n",
       " [1, 0, 0, 1, 0, 1, 0, 1, 0, 1, 0, 2, 2, 1, 0, 0],\n",
       " [1, 2, 1, 1, 0, 1, 1, 0, 1, 0, 0, 0, 1, 1, 2, 2],\n",
       " [2, 1, 1, 1, 1, 1, 0, 1, 2, 2, 2, 0, 1, 1, 2, 2],\n",
       " [1, 2, 2, 1, 2, 0, 1, 1, 2, 1, 1, 1, 0, 0, 0, 2],\n",
       " [2, 1, 2, 1, 0, 1, 2, 0, 0, 0, 0, 2, 0, 2, 0, 1],\n",
       " [1, 0, 1, 0, 1, 2, 1, 0, 1, 0, 2, 1, 1, 2, 1, 1],\n",
       " [1, 2, 2, 2, 0, 2, 2, 1, 0, 0, 2, 2, 1, 2, 0, 2],\n",
       " [0, 2, 1, 1, 0, 2, 1, 2, 0, 2, 0, 1, 1, 2, 0, 0],\n",
       " [1, 2, 2, 1, 1, 2, 2, 1, 2, 1, 1, 2, 0, 1, 2, 1],\n",
       " [2, 1, 2, 0, 1, 2, 0, 2, 2, 2, 1, 1, 2, 2, 2, 1],\n",
       " [1, 1, 1, 2, 1, 1, 1, 2, 2, 0, 1, 2, 2, 2, 2, 0],\n",
       " [0, 2, 2, 1, 2, 1, 1, 1, 0, 2, 0, 0, 0, 1, 0, 1],\n",
       " [1, 0, 0, 0, 2, 2, 1, 0, 0, 2, 1, 0, 2, 2, 0, 1],\n",
       " [2, 0, 1, 0, 1, 0, 1, 0, 0, 0, 1, 1, 1, 2, 1, 0],\n",
       " [1, 0, 1, 0, 1, 0, 0, 2, 2, 2, 0, 0, 2, 1, 2, 0],\n",
       " [0, 2, 2, 2, 1, 2, 1, 1, 2, 0, 0, 0, 1, 1, 0, 1],\n",
       " [2, 2, 1, 1, 0, 0, 1, 1, 1, 2, 2, 0, 0, 1, 2, 1],\n",
       " [1, 1, 2, 2, 2, 0, 1, 0, 1, 1, 1, 1, 1, 0, 2, 2],\n",
       " [1, 2, 0, 2, 1, 1, 1, 2, 2, 2, 1, 1, 0, 0, 1, 0],\n",
       " [1, 0, 2, 1, 0, 1, 2, 2, 0, 1, 1, 1, 1, 1, 2, 2],\n",
       " [2, 1, 2, 1, 0, 0, 0, 0, 0, 2, 0, 2, 2, 1, 0, 1],\n",
       " [2, 1, 2, 1, 2, 1, 2, 2, 0, 0, 1, 0, 2, 1, 1, 0],\n",
       " [2, 1, 0, 1, 1, 1, 0, 2, 0, 1, 0, 2, 2, 0, 0, 2],\n",
       " [2, 2, 2, 0, 0, 2, 0, 2, 2, 0, 0, 2, 0, 2, 0, 1],\n",
       " [0, 0, 1, 0, 1, 0, 2, 2, 0, 2, 0, 2, 0, 0, 2, 0],\n",
       " [1, 1, 1, 0, 0, 0, 0, 2, 2, 2, 1, 1, 2, 0, 0, 2],\n",
       " [1, 1, 1, 1, 1, 1, 2, 2, 0, 1, 1, 1, 2, 1, 2, 1],\n",
       " [0, 1, 2, 0, 1, 1, 0, 0, 2, 0, 1, 2, 2, 0, 1, 1],\n",
       " [0, 2, 0, 0, 0, 1, 1, 0, 1, 0, 0, 0, 2, 0, 2, 2],\n",
       " [1, 1, 2, 0, 0, 2, 2, 0, 1, 2, 1, 0, 1, 0, 2, 0],\n",
       " [1, 2, 1, 2, 1, 0, 2, 1, 2, 1, 1, 2, 1, 0, 1, 1],\n",
       " [1, 1, 0, 2, 2, 2, 0, 2, 2, 1, 0, 2, 1, 1, 2, 2],\n",
       " [1, 0, 1, 0, 0, 2, 2, 1, 1, 2, 0, 2, 0, 1, 0, 2],\n",
       " [0, 2, 0, 1, 0, 2, 1, 0, 0, 1, 2, 1, 1, 0, 0, 0],\n",
       " [1, 1, 0, 1, 2, 1, 0, 1, 0, 1, 2, 2, 0, 2, 1, 2],\n",
       " [0, 1, 1, 1, 1, 2, 2, 2, 0, 0, 0, 0, 2, 1, 1, 2],\n",
       " [1, 2, 1, 0, 1, 0, 2, 1, 0, 1, 2, 0, 0, 2, 0, 2],\n",
       " [1, 2, 1, 2, 2, 1, 1, 0, 1, 2, 2, 0, 2, 0, 1, 1],\n",
       " [0, 0, 2, 0, 2, 0, 1, 1, 1, 0, 2, 0, 2, 2, 1, 2],\n",
       " [0, 2, 0, 2, 2, 2, 2, 1, 1, 2, 1, 2, 1, 2, 0, 2],\n",
       " [0, 2, 1, 1, 1, 1, 0, 2, 2, 1, 0, 2, 2, 2, 0, 2],\n",
       " [0, 0, 0, 0, 2, 1, 2, 1, 1, 0, 2, 0, 2, 2, 1, 2],\n",
       " [0, 2, 1, 1, 2, 2, 1, 1, 0, 0, 0, 1, 1, 2, 1, 1],\n",
       " [2, 1, 1, 1, 2, 2, 1, 0, 0, 0, 2, 0, 1, 1, 2, 0],\n",
       " [0, 2, 0, 0, 2, 1, 0, 2, 0, 1, 1, 2, 2, 0, 1, 0],\n",
       " [2, 2, 1, 1, 0, 0, 0, 1, 2, 1, 1, 1, 1, 0, 2, 1],\n",
       " [0, 0, 0, 1, 2, 0, 2, 1, 1, 0, 1, 2, 2, 1, 2, 0],\n",
       " [1, 2, 1, 2, 1, 0, 2, 0, 1, 2, 2, 1, 1, 1, 0, 2],\n",
       " [2, 2, 2, 2, 2, 2, 1, 1, 0, 1, 1, 1, 0, 0, 1, 1],\n",
       " [2, 2, 1, 1, 2, 1, 0, 1, 1, 2, 0, 2, 1, 2, 1, 2],\n",
       " [1, 2, 2, 1, 0, 0, 2, 1, 0, 1, 2, 2, 2, 0, 0, 1],\n",
       " [1, 2, 1, 0, 0, 1, 1, 0, 0, 0, 2, 2, 0, 2, 2, 0],\n",
       " [2, 2, 2, 1, 2, 2, 1, 0, 1, 1, 1, 0, 2, 1, 1, 1],\n",
       " [2, 1, 0, 2, 1, 2, 1, 2, 2, 0, 0, 1, 0, 2, 0, 2],\n",
       " [2, 1, 2, 0, 0, 1, 1, 0, 2, 2, 2, 1, 0, 0, 1, 1],\n",
       " [0, 0, 2, 1, 2, 1, 1, 1, 1, 2, 1, 0, 1, 1, 0, 1],\n",
       " [2, 0, 2, 2, 1, 2, 1, 1, 1, 0, 0, 1, 0, 1, 0, 2],\n",
       " [2, 1, 1, 0, 1, 2, 0, 1, 0, 0, 1, 1, 2, 2, 2, 1],\n",
       " [1, 1, 1, 2, 0, 2, 0, 0, 2, 1, 2, 0, 0, 2, 1, 0],\n",
       " [2, 1, 0, 1, 0, 1, 1, 2, 2, 2, 1, 0, 0, 1, 2, 2],\n",
       " [1, 0, 2, 2, 2, 2, 2, 0, 0, 0, 1, 1, 2, 2, 0, 1],\n",
       " [1, 2, 1, 0, 1, 2, 0, 0, 0, 0, 0, 1, 1, 0, 1, 2],\n",
       " [1, 2, 1, 0, 1, 0, 1, 1, 2, 0, 1, 0, 2, 2, 2, 1],\n",
       " [2, 2, 2, 2, 1, 0, 1, 0, 1, 2, 2, 0, 2, 2, 0, 0],\n",
       " [2, 0, 1, 2, 2, 2, 0, 2, 0, 0, 0, 0, 2, 2, 1, 0],\n",
       " [2, 0, 0, 2, 2, 1, 0, 1, 2, 0, 2, 1, 0, 0, 2, 1],\n",
       " [2, 2, 0, 1, 0, 1, 1, 0, 1, 0, 1, 1, 1, 2, 1, 1],\n",
       " [2, 0, 2, 2, 1, 0, 0, 2, 0, 0, 1, 2, 2, 1, 1, 0],\n",
       " [2, 0, 2, 0, 2, 1, 2, 1, 2, 1, 1, 2, 1, 2, 0, 1],\n",
       " [1, 1, 1, 0, 1, 1, 1, 0, 2, 2, 2, 1, 2, 0, 2, 1],\n",
       " [0, 0, 1, 2, 2, 1, 1, 2, 0, 1, 0, 0, 2, 0, 2, 2],\n",
       " [1, 0, 1, 0, 1, 1, 0, 2, 1, 2, 1, 1, 0, 2, 2, 1],\n",
       " [0, 1, 0, 0, 0, 2, 2, 1, 2, 1, 1, 2, 1, 1, 1, 0],\n",
       " [2, 0, 0, 1, 2, 2, 1, 2, 0, 1, 0, 0, 2, 1, 0, 2],\n",
       " [2, 0, 1, 1, 2, 0, 0, 1, 1, 1, 0, 1, 0, 1, 1, 2],\n",
       " [0, 0, 1, 2, 0, 1, 1, 2, 0, 0, 1, 0, 0, 1, 1, 1],\n",
       " [2, 2, 0, 1, 0, 1, 0, 2, 1, 2, 0, 1, 1, 1, 0, 2],\n",
       " [0, 1, 2, 0, 0, 2, 2, 2, 1, 0, 1, 0, 2, 0, 2, 1],\n",
       " [1, 1, 1, 2, 0, 1, 0, 1, 0, 2, 0, 0, 0, 0, 1, 0],\n",
       " [1, 1, 0, 2, 2, 2, 0, 2, 1, 2, 2, 1, 2, 0, 2, 2],\n",
       " [0, 2, 1, 1, 0, 2, 1, 2, 0, 0, 1, 1, 0, 0, 0, 1],\n",
       " [1, 0, 1, 1, 2, 0, 0, 1, 1, 2, 2, 0, 2, 1, 2, 1],\n",
       " [1, 2, 2, 1, 1, 2, 1, 2, 0, 1, 0, 2, 1, 1, 0, 1],\n",
       " [2, 1, 0, 1, 0, 1, 1, 1, 2, 0, 2, 1, 2, 1, 0, 1],\n",
       " [0, 1, 2, 1, 1, 1, 0, 2, 1, 0, 0, 0, 2, 2, 2, 1],\n",
       " [1, 1, 1, 1, 1, 2, 1, 1, 2, 1, 1, 2, 1, 2, 1, 0],\n",
       " [1, 2, 0, 0, 2, 2, 0, 2, 1, 1, 1, 2, 0, 1, 1, 0],\n",
       " [0, 0, 0, 0, 1, 2, 1, 0, 0, 0, 2, 2, 1, 1, 2, 1],\n",
       " [0, 1, 2, 0, 0, 2, 0, 1, 2, 0, 1, 2, 2, 0, 0, 0],\n",
       " [1, 0, 1, 0, 0, 0, 1, 2, 0, 2, 0, 2, 1, 2, 0, 0],\n",
       " [1, 2, 1, 1, 0, 1, 1, 1, 1, 1, 2, 0, 0, 0, 1, 2],\n",
       " [2, 0, 2, 1, 1, 0, 1, 2, 2, 2, 2, 1, 2, 2, 0, 0],\n",
       " [0, 0, 2, 2, 2, 1, 2, 0, 0, 2, 2, 1, 0, 2, 0, 0],\n",
       " [0, 1, 1, 0, 0, 1, 1, 1, 2, 0, 1, 0, 2, 0, 2, 2],\n",
       " [0, 1, 1, 2, 2, 1, 1, 2, 2, 2, 2, 2, 1, 0, 1, 1],\n",
       " [1, 1, 0, 0, 2, 2, 1, 1, 0, 0, 1, 2, 2, 2, 1, 0],\n",
       " [1, 2, 2, 1, 2, 1, 2, 0, 1, 2, 1, 2, 2, 2, 1, 2],\n",
       " [2, 2, 1, 0, 2, 1, 1, 2, 0, 0, 0, 2, 1, 2, 0, 1],\n",
       " [0, 0, 2, 2, 0, 1, 1, 0, 1, 0, 2, 2, 1, 1, 0, 0],\n",
       " [1, 1, 0, 1, 0, 1, 0, 2, 2, 2, 2, 2, 0, 1, 1, 2],\n",
       " [0, 1, 2, 1, 1, 2, 2, 0, 1, 2, 1, 0, 0, 0, 2, 1],\n",
       " [1, 2, 2, 0, 1, 2, 2, 0, 2, 1, 2, 2, 1, 2, 2, 2],\n",
       " [0, 1, 1, 1, 1, 1, 0, 0, 0, 1, 1, 1, 0, 1, 1, 1],\n",
       " [0, 0, 0, 2, 0, 1, 0, 1, 2, 0, 2, 2, 2, 2, 0, 1],\n",
       " [2, 0, 1, 1, 2, 2, 0, 1, 0, 1, 2, 0, 0, 1, 0, 1],\n",
       " [2, 1, 0, 2, 0, 0, 2, 1, 0, 2, 0, 1, 1, 0, 1, 1],\n",
       " [1, 0, 1, 1, 0, 1, 2, 2, 2, 2, 1, 2, 1, 2, 2, 2],\n",
       " [0, 0, 1, 1, 2, 2, 1, 0, 2, 0, 0, 0, 2, 2, 2, 2],\n",
       " [0, 0, 0, 1, 0, 1, 1, 0, 2, 1, 2, 1, 0, 0, 2, 2],\n",
       " [0, 1, 0, 2, 2, 1, 0, 2, 0, 0, 2, 0, 0, 2, 1, 2],\n",
       " [2, 0, 0, 2, 0, 0, 2, 2, 2, 1, 0, 0, 1, 0, 0, 2],\n",
       " [0, 1, 1, 1, 0, 2, 0, 1, 2, 1, 2, 0, 1, 1, 0, 1],\n",
       " [1, 2, 0, 1, 2, 2, 0, 2, 2, 0, 1, 2, 2, 0, 2, 0],\n",
       " [0, 0, 1, 0, 0, 1, 0, 0, 0, 2, 0, 1, 1, 1, 0, 0],\n",
       " [1, 1, 1, 0, 0, 1, 0, 2, 0, 0, 2, 0, 1, 2, 2, 1],\n",
       " [0, 0, 2, 0, 1, 1, 0, 1, 0, 1, 2, 0, 1, 0, 1, 0],\n",
       " [2, 1, 1, 1, 0, 1, 1, 1, 1, 0, 1, 2, 0, 2, 1, 0],\n",
       " [1, 2, 1, 1, 2, 1, 2, 0, 0, 2, 0, 1, 2, 0, 0, 0],\n",
       " [1, 0, 1, 2, 2, 1, 0, 1, 0, 0, 0, 2, 2, 2, 0, 2],\n",
       " [1, 0, 2, 2, 2, 0, 1, 1, 2, 1, 0, 1, 0, 0, 0, 0],\n",
       " [2, 1, 1, 2, 2, 2, 0, 1, 1, 1, 0, 2, 2, 1, 0, 2],\n",
       " [2, 1, 2, 1, 0, 0, 1, 1, 0, 2, 0, 2, 0, 2, 1, 2],\n",
       " [1, 1, 2, 2, 0, 0, 0, 2, 2, 2, 1, 2, 1, 0, 0, 0],\n",
       " [2, 2, 1, 2, 1, 0, 0, 0, 2, 2, 0, 1, 2, 0, 2, 2],\n",
       " [0, 0, 1, 1, 1, 0, 1, 0, 0, 1, 0, 0, 0, 2, 0, 1],\n",
       " [2, 1, 1, 1, 1, 1, 0, 0, 0, 2, 1, 0, 0, 0, 0, 1],\n",
       " [0, 2, 1, 2, 2, 0, 1, 1, 0, 2, 1, 1, 1, 1, 2, 2],\n",
       " [1, 2, 1, 1, 1, 0, 0, 1, 0, 1, 0, 2, 1, 0, 1, 0],\n",
       " [2, 1, 0, 1, 1, 1, 1, 1, 1, 0, 1, 1, 1, 2, 1, 1],\n",
       " [0, 1, 0, 1, 2, 1, 2, 1, 2, 1, 1, 1, 0, 1, 2, 0],\n",
       " [1, 0, 2, 0, 2, 2, 0, 2, 0, 1, 2, 0, 2, 0, 1, 2],\n",
       " [2, 1, 0, 0, 1, 2, 1, 0, 1, 2, 2, 0, 0, 2, 2, 2],\n",
       " [1, 1, 0, 1, 1, 2, 0, 0, 1, 2, 1, 1, 2, 1, 2, 1],\n",
       " [2, 0, 0, 2, 1, 1, 1, 1, 1, 0, 0, 0, 2, 2, 1, 2],\n",
       " [2, 2, 0, 1, 0, 1, 1, 1, 1, 2, 2, 0, 1, 0, 2, 1],\n",
       " [2, 1, 0, 2, 2, 2, 1, 2, 2, 1, 1, 1, 1, 0, 2, 0],\n",
       " [0, 0, 1, 0, 0, 1, 0, 0, 2, 0, 1, 1, 1, 0, 2, 2],\n",
       " [2, 0, 1, 2, 1, 0, 0, 2, 1, 0, 0, 0, 0, 2, 2, 0],\n",
       " [1, 1, 2, 2, 1, 2, 0, 0, 2, 1, 2, 2, 1, 1, 0, 0],\n",
       " [0, 1, 1, 1, 0, 2, 2, 1, 1, 0, 1, 1, 1, 2, 1, 0],\n",
       " [2, 1, 2, 2, 0, 2, 2, 2, 2, 0, 2, 1, 1, 2, 2, 1],\n",
       " [1, 1, 1, 1, 2, 1, 0, 0, 2, 1, 2, 1, 1, 1, 0, 1],\n",
       " [0, 2, 0, 1, 2, 2, 0, 0, 2, 0, 2, 0, 2, 1, 0, 2],\n",
       " [1, 2, 2, 0, 1, 2, 1, 1, 2, 1, 1, 0, 0, 1, 0, 0],\n",
       " [0, 1, 0, 1, 1, 2, 2, 2, 2, 1, 0, 0, 1, 2, 0, 1],\n",
       " [1, 1, 0, 0, 2, 2, 0, 2, 0, 1, 0, 1, 1, 2, 2, 2],\n",
       " [1, 1, 1, 1, 2, 0, 2, 1, 2, 2, 0, 0, 0, 0, 1, 2],\n",
       " [2, 0, 2, 2, 0, 2, 2, 0, 0, 1, 1, 2, 2, 1, 0, 0],\n",
       " [2, 1, 2, 1, 2, 2, 1, 0, 2, 2, 2, 0, 1, 0, 1, 1],\n",
       " [1, 0, 2, 0, 2, 2, 1, 0, 0, 2, 2, 0, 0, 2, 0, 1],\n",
       " [0, 0, 2, 2, 1, 1, 2, 0, 2, 1, 0, 2, 1, 0, 0, 0],\n",
       " [2, 1, 1, 2, 1, 0, 0, 2, 2, 0, 1, 0, 2, 1, 1, 2],\n",
       " [0, 0, 2, 1, 1, 2, 2, 0, 1, 1, 0, 0, 1, 1, 2, 0],\n",
       " [1, 2, 1, 1, 1, 1, 2, 1, 2, 0, 1, 1, 0, 2, 2, 0],\n",
       " [2, 0, 0, 1, 1, 2, 0, 1, 0, 2, 2, 1, 1, 2, 0, 0],\n",
       " [1, 0, 1, 2, 1, 2, 2, 1, 2, 1, 0, 1, 1, 0, 1, 2],\n",
       " [1, 2, 0, 2, 1, 1, 2, 1, 1, 0, 0, 1, 2, 2, 0, 1],\n",
       " [0, 2, 1, 1, 1, 1, 2, 2, 1, 1, 2, 2, 2, 0, 2, 0],\n",
       " [0, 2, 1, 2, 2, 1, 2, 2, 0, 0, 2, 2, 2, 2, 1, 2],\n",
       " [0, 2, 0, 0, 1, 2, 2, 2, 0, 0, 1, 2, 2, 1, 0, 2],\n",
       " [1, 2, 1, 2, 2, 2, 0, 0, 2, 1, 1, 1, 1, 1, 2, 2],\n",
       " [2, 2, 2, 2, 0, 0, 2, 1, 2, 1, 0, 0, 2, 0, 2, 2],\n",
       " [2, 2, 1, 1, 2, 2, 1, 2, 2, 2, 2, 2, 1, 0, 1, 0],\n",
       " [0, 1, 1, 1, 2, 1, 2, 0, 1, 0, 0, 2, 0, 1, 1, 0],\n",
       " [0, 1, 2, 1, 2, 2, 1, 1, 0, 0, 1, 1, 1, 1, 2, 2],\n",
       " [0, 2, 2, 1, 2, 0, 0, 0, 2, 2, 1, 2, 1, 1, 1, 0],\n",
       " [0, 0, 1, 0, 0, 2, 1, 2, 0, 1, 2, 1, 0, 1, 1, 0],\n",
       " [0, 1, 2, 0, 1, 1, 2, 1, 1, 1, 1, 1, 1, 1, 1, 1],\n",
       " [0, 0, 0, 1, 1, 0, 1, 1, 1, 0, 1, 1, 2, 2, 1, 1],\n",
       " [1, 1, 0, 1, 2, 1, 2, 0, 0, 2, 0, 1, 0, 2, 2, 1],\n",
       " [2, 1, 0, 0, 2, 2, 2, 2, 0, 2, 2, 1, 1, 0, 0, 1],\n",
       " [0, 0, 0, 1, 0, 2, 1, 2, 1, 2, 1, 1, 2, 2, 2, 1],\n",
       " [2, 0, 1, 2, 0, 1, 2, 1, 2, 1, 2, 0, 2, 2, 1, 0],\n",
       " [1, 1, 2, 2, 2, 2, 0, 2, 1, 1, 0, 1, 1, 0, 1, 2],\n",
       " [1, 2, 0, 0, 1, 1, 1, 1, 1, 0, 0, 0, 0, 0, 1, 1],\n",
       " [0, 1, 2, 0, 2, 2, 1, 1, 0, 2, 0, 1, 1, 1, 1, 0],\n",
       " [2, 0, 0, 2, 1, 2, 2, 2, 2, 2, 0, 1, 0, 2, 2, 2],\n",
       " [1, 0, 0, 0, 2, 1, 1, 0, 1, 2, 1, 0, 2, 1, 1, 1],\n",
       " [0, 0, 0, 0, 2, 1, 0, 2, 1, 2, 0, 1, 1, 2, 0, 0],\n",
       " [2, 2, 0, 1, 1, 0, 2, 2, 2, 1, 1, 1, 2, 0, 0, 2],\n",
       " [2, 2, 1, 0, 1, 1, 1, 0, 1, 1, 1, 2, 2, 0, 0, 0],\n",
       " [1, 1, 0, 1, 2, 2, 1, 0, 2, 2, 2, 2, 0, 2, 2, 2],\n",
       " [0, 2, 1, 0, 1, 2, 0, 0, 2, 0, 2, 0, 2, 1, 0, 1],\n",
       " [1, 2, 0, 0, 2, 2, 1, 1, 1, 2, 1, 1, 1, 0, 1, 1],\n",
       " [2, 1, 1, 0, 0, 1, 2, 0, 2, 0, 1, 0, 1, 0, 1, 1],\n",
       " [2, 2, 2, 0, 1, 0, 1, 0, 2, 0, 2, 0, 1, 1, 0, 1],\n",
       " [1, 0, 2, 1, 0, 2, 2, 1, 0, 0, 1, 1, 2, 1, 0, 0],\n",
       " [0, 2, 0, 2, 0, 1, 2, 2, 0, 1, 2, 0, 0, 2, 2, 2],\n",
       " [2, 2, 0, 0, 2, 2, 0, 0, 2, 1, 1, 1, 2, 0, 0, 2],\n",
       " [1, 1, 1, 2, 2, 1, 1, 1, 0, 1, 2, 0, 2, 1, 2, 1],\n",
       " [0, 0, 0, 2, 0, 2, 1, 0, 1, 1, 0, 0, 0, 0, 1, 2],\n",
       " [0, 0, 1, 2, 0, 1, 1, 1, 0, 0, 2, 2, 2, 1, 1, 2],\n",
       " [1, 1, 1, 2, 0, 2, 1, 1, 1, 1, 1, 0, 1, 2, 0, 2],\n",
       " [2, 1, 2, 0, 0, 1, 0, 1, 2, 2, 2, 1, 2, 1, 0, 2],\n",
       " [2, 0, 2, 0, 2, 2, 0, 0, 1, 0, 0, 0, 2, 1, 1, 1],\n",
       " [0, 1, 1, 2, 0, 2, 1, 2, 1, 2, 2, 1, 1, 0, 2, 0],\n",
       " [1, 1, 2, 2, 2, 2, 2, 1, 1, 0, 2, 1, 1, 2, 0, 2],\n",
       " [1, 2, 0, 2, 0, 1, 2, 0, 1, 1, 1, 2, 1, 0, 0, 1],\n",
       " [1, 2, 0, 0, 2, 2, 2, 1, 2, 1, 1, 2, 2, 1, 2, 1],\n",
       " [0, 0, 0, 1, 0, 1, 1, 2, 0, 2, 2, 2, 1, 0, 0, 2],\n",
       " [1, 0, 0, 0, 2, 0, 1, 2, 1, 0, 2, 2, 2, 0, 1, 1],\n",
       " [2, 1, 0, 0, 2, 0, 0, 1, 2, 0, 0, 1, 2, 0, 1, 2],\n",
       " [2, 0, 1, 1, 0, 0, 2, 2, 2, 0, 2, 2, 2, 2, 1, 1],\n",
       " [2, 1, 1, 0, 1, 1, 1, 0, 1, 2, 2, 2, 1, 2, 2, 1],\n",
       " [2, 1, 2, 2, 2, 1, 1, 1, 0, 2, 2, 0, 1, 1, 2, 2],\n",
       " [2, 1, 1, 0, 1, 0, 0, 0, 2, 1, 1, 2, 1, 0, 0, 1],\n",
       " [0, 1, 2, 0, 2, 0, 2, 1, 1, 0, 1, 2, 1, 1, 2, 2],\n",
       " [2, 2, 0, 0, 0, 0, 1, 2, 1, 2, 0, 0, 2, 1, 2, 2],\n",
       " [1, 2, 1, 2, 0, 0, 0, 1, 2, 1, 2, 1, 1, 1, 0, 0],\n",
       " [2, 0, 2, 1, 2, 1, 0, 0, 0, 1, 0, 0, 1, 1, 2, 1],\n",
       " [2, 2, 1, 0, 2, 0, 2, 0, 0, 1, 2, 1, 2, 2, 1, 1],\n",
       " [0, 2, 0, 1, 2, 2, 1, 2, 1, 2, 2, 0, 1, 2, 1, 0],\n",
       " [1, 1, 0, 2, 0, 2, 1, 0, 0, 2, 1, 0, 0, 1, 0, 1],\n",
       " [2, 1, 1, 0, 0, 1, 1, 1, 0, 2, 2, 1, 2, 2, 2, 1],\n",
       " [1, 0, 0, 1, 1, 0, 2, 2, 2, 1, 2, 1, 0, 2, 1, 2],\n",
       " [1, 1, 1, 0, 2, 0, 1, 2, 2, 1, 0, 1, 2, 1, 2, 1],\n",
       " [1, 2, 2, 0, 0, 0, 2, 2, 2, 1, 2, 0, 1, 2, 1, 1],\n",
       " [1, 2, 0, 2, 1, 0, 1, 2, 0, 2, 2, 0, 2, 1, 0, 1],\n",
       " [1, 2, 1, 0, 1, 2, 0, 0, 0, 2, 0, 2, 0, 0, 1, 1],\n",
       " [2, 2, 1, 1, 2, 1, 0, 2, 0, 2, 2, 0, 2, 0, 1, 1],\n",
       " [2, 1, 1, 1, 1, 2, 2, 0, 2, 1, 0, 1, 1, 0, 2, 0],\n",
       " [2, 1, 1, 1, 2, 2, 2, 2, 1, 1, 0, 0, 2, 0, 1, 0],\n",
       " [1, 2, 1, 1, 1, 2, 2, 1, 1, 1, 0, 1, 1, 1, 0, 1],\n",
       " [0, 2, 0, 2, 2, 0, 0, 2, 1, 0, 2, 1, 1, 2, 0, 1],\n",
       " [0, 2, 0, 1, 1, 1, 0, 1, 2, 0, 2, 2, 1, 0, 1, 1],\n",
       " [2, 1, 2, 1, 2, 2, 1, 1, 2, 0, 2, 1, 2, 0, 0, 1],\n",
       " [0, 1, 2, 2, 0, 2, 1, 0, 2, 0, 0, 0, 1, 1, 1, 1],\n",
       " [1, 1, 1, 2, 2, 2, 0, 0, 1, 1, 0, 0, 2, 1, 2, 2],\n",
       " [0, 0, 0, 0, 1, 1, 0, 1, 0, 0, 0, 1, 0, 2, 1, 0],\n",
       " [1, 0, 0, 1, 2, 2, 2, 0, 2, 2, 2, 1, 2, 1, 1, 0],\n",
       " [1, 0, 2, 1, 0, 2, 1, 0, 1, 0, 1, 0, 1, 2, 0, 0],\n",
       " [0, 1, 1, 0, 1, 1, 1, 2, 2, 0, 2, 2, 1, 2, 0, 0],\n",
       " [0, 0, 2, 0, 1, 0, 0, 2, 2, 1, 0, 0, 0, 2, 1, 0],\n",
       " [2, 0, 0, 1, 1, 0, 0, 2, 1, 0, 2, 2, 1, 1, 0, 2],\n",
       " [0, 0, 0, 2, 2, 1, 1, 1, 2, 2, 0, 1, 0, 1, 0, 2],\n",
       " [0, 2, 1, 2, 2, 1, 0, 2, 2, 0, 2, 2, 2, 0, 1, 2],\n",
       " [0, 2, 0, 0, 2, 2, 1, 1, 2, 0, 1, 0, 0, 0, 0, 2],\n",
       " [2, 0, 2, 2, 0, 2, 2, 1, 1, 1, 2, 0, 2, 1, 2, 1],\n",
       " [1, 1, 0, 1, 1, 0, 0, 1, 2, 2, 2, 2, 0, 2, 2, 0],\n",
       " [1, 2, 2, 2, 0, 2, 1, 0, 1, 0, 2, 0, 2, 2, 1, 2],\n",
       " [1, 2, 2, 0, 2, 2, 0, 1, 2, 2, 2, 2, 1, 1, 0, 0],\n",
       " [0, 0, 2, 0, 2, 2, 2, 1, 0, 2, 2, 0, 0, 2, 1, 1],\n",
       " [1, 2, 1, 1, 0, 2, 1, 2, 2, 1, 2, 2, 1, 0, 2, 1],\n",
       " [2, 0, 1, 1, 1, 2, 2, 1, 1, 1, 0, 2, 2, 0, 0, 2],\n",
       " [2, 2, 1, 0, 0, 0, 0, 2, 2, 2, 0, 2, 1, 2, 1, 0],\n",
       " [1, 1, 0, 1, 1, 1, 0, 0, 2, 0, 1, 1, 2, 1, 1, 1],\n",
       " [0, 2, 2, 1, 2, 1, 2, 1, 0, 2, 1, 1, 2, 0, 0, 2],\n",
       " [2, 0, 0, 1, 0, 0, 1, 0, 2, 0, 1, 2, 1, 0, 0, 0],\n",
       " [1, 1, 0, 0, 0, 2, 0, 0, 1, 1, 1, 2, 1, 1, 2, 2],\n",
       " [0, 2, 0, 1, 2, 0, 2, 1, 0, 1, 0, 0, 2, 2, 1, 2],\n",
       " [1, 2, 1, 1, 2, 2, 1, 1, 2, 2, 0, 2, 2, 1, 1, 1],\n",
       " [1, 0, 1, 0, 1, 2, 1, 2, 2, 0, 0, 1, 2, 0, 2, 0],\n",
       " [2, 2, 0, 1, 2, 0, 2, 2, 0, 2, 0, 2, 1, 1, 2, 0],\n",
       " [2, 1, 0, 0, 0, 1, 1, 0, 1, 0, 1, 2, 1, 0, 0, 2],\n",
       " [2, 2, 1, 1, 0, 2, 1, 1, 1, 0, 2, 2, 0, 2, 2, 1],\n",
       " [0, 1, 1, 0, 0, 0, 2, 0, 2, 0, 0, 0, 0, 0, 1, 1],\n",
       " [1, 0, 1, 1, 1, 2, 1, 1, 0, 2, 1, 0, 1, 1, 1, 0],\n",
       " [0, 2, 0, 1, 2, 0, 0, 1, 0, 0, 0, 0, 0, 0, 2, 2],\n",
       " [0, 2, 1, 2, 1, 2, 1, 0, 2, 2, 1, 0, 2, 1, 2, 0],\n",
       " [0, 1, 1, 1, 2, 1, 1, 1, 1, 1, 2, 2, 2, 1, 2, 2],\n",
       " [1, 2, 0, 1, 0, 1, 1, 2, 1, 0, 2, 2, 1, 2, 2, 2],\n",
       " [1, 2, 0, 2, 2, 2, 1, 2, 1, 1, 1, 1, 0, 2, 2, 1],\n",
       " [1, 1, 1, 0, 2, 0, 2, 2, 1, 1, 2, 1, 1, 0, 2, 1],\n",
       " [0, 2, 0, 2, 0, 2, 2, 1, 1, 2, 1, 0, 1, 2, 1, 0],\n",
       " [1, 1, 0, 1, 1, 2, 0, 2, 1, 2, 1, 2, 0, 0, 2, 0],\n",
       " [1, 1, 1, 2, 0, 0, 0, 1, 2, 1, 2, 1, 0, 2, 2, 0],\n",
       " [1, 1, 0, 2, 2, 1, 1, 0, 2, 2, 0, 0, 2, 1, 1, 1],\n",
       " [1, 2, 2, 1, 2, 2, 0, 2, 1, 1, 0, 2, 1, 0, 2, 1],\n",
       " [2, 2, 1, 2, 2, 0, 2, 0, 0, 1, 0, 1, 2, 1, 2, 1],\n",
       " [0, 2, 2, 0, 1, 2, 1, 2, 0, 1, 2, 2, 1, 2, 2, 0],\n",
       " [2, 0, 1, 0, 1, 0, 1, 1, 2, 1, 0, 0, 1, 1, 1, 1],\n",
       " [2, 0, 2, 0, 0, 0, 1, 0, 0, 2, 0, 2, 2, 0, 1, 1],\n",
       " [1, 2, 0, 2, 1, 1, 1, 2, 1, 1, 0, 1, 0, 1, 1, 2],\n",
       " [2, 2, 1, 0, 0, 2, 1, 2, 0, 2, 1, 1, 1, 0, 0, 1],\n",
       " [2, 0, 2, 2, 0, 2, 2, 0, 2, 2, 2, 1, 0, 0, 2, 1],\n",
       " [1, 0, 2, 2, 2, 1, 0, 1, 1, 0, 1, 1, 2, 1, 2, 1],\n",
       " [1, 2, 2, 0, 0, 0, 0, 1, 2, 0, 0, 2, 1, 1, 1, 1],\n",
       " [0, 2, 2, 1, 2, 0, 1, 1, 1, 2, 1, 2, 0, 1, 1, 1],\n",
       " [0, 0, 2, 2, 1, 2, 0, 1, 2, 1, 1, 0, 2, 1, 2, 1],\n",
       " [1, 1, 1, 0, 0, 1, 0, 0, 0, 2, 1, 1, 1, 1, 1, 0],\n",
       " [1, 2, 1, 1, 1, 0, 0, 0, 2, 0, 2, 1, 1, 2, 1, 2],\n",
       " [0, 2, 0, 2, 1, 1, 0, 1, 0, 2, 2, 1, 1, 1, 1, 1],\n",
       " [2, 0, 0, 0, 2, 0, 0, 0, 1, 1, 2, 2, 0, 2, 2, 2],\n",
       " [1, 0, 2, 1, 1, 1, 2, 1, 1, 2, 2, 1, 2, 1, 2, 1],\n",
       " [1, 1, 0, 0, 1, 0, 2, 2, 0, 2, 2, 0, 0, 2, 1, 0],\n",
       " [2, 1, 2, 2, 2, 2, 2, 2, 0, 1, 2, 0, 0, 0, 0, 0],\n",
       " [1, 0, 0, 0, 1, 0, 2, 1, 1, 0, 0, 1, 0, 1, 1, 2],\n",
       " [0, 0, 0, 1, 1, 2, 1, 0, 2, 1, 1, 0, 2, 0, 2, 2],\n",
       " [1, 0, 2, 2, 0, 0, 1, 1, 1, 1, 2, 1, 0, 2, 0, 2],\n",
       " [0, 0, 2, 2, 2, 0, 2, 1, 1, 1, 2, 0, 1, 2, 0, 0],\n",
       " [0, 1, 1, 0, 0, 1, 2, 2, 0, 1, 1, 0, 2, 1, 0, 0],\n",
       " [1, 1, 2, 1, 2, 2, 2, 2, 0, 0, 1, 0, 2, 2, 0, 1],\n",
       " [2, 0, 0, 0, 0, 0, 0, 0, 0, 2, 2, 0, 0, 2, 1, 2],\n",
       " [2, 2, 1, 1, 0, 1, 1, 1, 0, 0, 2, 1, 0, 1, 1, 0],\n",
       " [0, 2, 2, 1, 1, 2, 2, 1, 2, 2, 1, 2, 0, 2, 1, 0],\n",
       " [1, 0, 1, 1, 1, 2, 2, 1, 1, 2, 2, 0, 1, 2, 2, 2],\n",
       " [0, 1, 2, 1, 2, 1, 0, 1, 2, 2, 1, 1, 2, 2, 2, 2],\n",
       " [2, 1, 0, 2, 2, 2, 1, 1, 2, 1, 1, 2, 1, 0, 2, 1],\n",
       " [2, 1, 0, 0, 2, 0, 2, 0, 1, 1, 0, 0, 2, 1, 2, 2],\n",
       " [0, 2, 0, 2, 1, 1, 2, 2, 1, 1, 0, 2, 2, 1, 0, 2],\n",
       " [1, 2, 1, 1, 0, 2, 0, 2, 0, 1, 1, 0, 1, 2, 1, 0],\n",
       " [2, 2, 2, 2, 0, 2, 0, 2, 0, 2, 2, 1, 0, 1, 1, 0],\n",
       " [2, 2, 0, 0, 2, 0, 2, 2, 0, 0, 0, 2, 2, 0, 1, 2],\n",
       " [2, 1, 1, 1, 2, 0, 2, 2, 2, 2, 1, 0, 0, 2, 1, 2],\n",
       " [2, 0, 0, 2, 2, 1, 1, 1, 1, 1, 0, 1, 2, 1, 2, 2],\n",
       " [1, 2, 0, 1, 1, 1, 1, 1, 0, 1, 2, 2, 1, 1, 2, 0],\n",
       " [0, 1, 0, 0, 2, 2, 2, 0, 1, 2, 1, 2, 2, 1, 0, 0],\n",
       " [2, 0, 1, 1, 2, 2, 0, 2, 0, 1, 1, 0, 1, 1, 0, 1],\n",
       " [1, 2, 0, 2, 1, 1, 1, 1, 0, 2, 2, 2, 0, 1, 0, 2],\n",
       " [2, 2, 2, 1, 0, 2, 0, 1, 0, 1, 2, 0, 2, 0, 1, 0],\n",
       " [2, 2, 0, 2, 0, 2, 2, 0, 0, 0, 0, 1, 1, 0, 2, 0],\n",
       " [0, 2, 0, 0, 0, 2, 2, 1, 2, 1, 1, 2, 0, 1, 1, 0],\n",
       " [0, 2, 0, 1, 0, 0, 1, 2, 2, 1, 2, 2, 0, 1, 2, 0],\n",
       " [1, 0, 0, 1, 1, 1, 2, 2, 0, 1, 2, 1, 2, 0, 1, 0],\n",
       " [1, 2, 2, 0, 0, 0, 0, 2, 0, 2, 0, 1, 0, 2, 2, 0],\n",
       " [0, 1, 2, 0, 2, 0, 2, 0, 0, 2, 0, 0, 2, 1, 1, 1],\n",
       " [0, 0, 2, 0, 1, 1, 1, 1, 2, 1, 1, 2, 1, 1, 0, 2],\n",
       " [2, 1, 2, 0, 0, 1, 2, 0, 1, 2, 1, 2, 1, 0, 2, 0],\n",
       " [0, 1, 0, 2, 2, 2, 2, 2, 2, 0, 2, 1, 0, 1, 0, 2],\n",
       " [1, 2, 1, 1, 0, 2, 0, 0, 0, 0, 2, 1, 1, 1, 1, 1],\n",
       " [0, 2, 1, 2, 1, 0, 1, 0, 2, 0, 1, 1, 2, 1, 1, 1],\n",
       " [2, 2, 1, 2, 1, 2, 0, 0, 2, 2, 1, 0, 1, 1, 2, 2],\n",
       " [0, 0, 1, 1, 1, 2, 0, 0, 0, 2, 2, 0, 0, 0, 0, 1],\n",
       " [0, 0, 2, 1, 1, 2, 1, 0, 0, 1, 0, 2, 1, 2, 1, 1],\n",
       " [1, 1, 2, 0, 0, 1, 2, 0, 1, 0, 0, 1, 2, 1, 0, 2],\n",
       " [2, 0, 1, 0, 0, 0, 2, 0, 0, 2, 0, 2, 2, 0, 0, 1],\n",
       " [1, 2, 0, 1, 1, 0, 0, 2, 1, 1, 1, 0, 1, 2, 1, 1],\n",
       " [2, 2, 2, 0, 0, 2, 0, 2, 2, 2, 0, 2, 1, 1, 0, 1],\n",
       " [1, 2, 2, 2, 0, 2, 0, 0, 2, 0, 0, 0, 2, 0, 1, 1],\n",
       " [0, 2, 1, 2, 0, 0, 1, 2, 1, 1, 1, 1, 2, 2, 2, 2],\n",
       " [0, 0, 0, 1, 0, 0, 0, 1, 1, 1, 0, 2, 1, 2, 2, 1],\n",
       " [0, 1, 0, 1, 0, 2, 2, 2, 2, 0, 2, 2, 0, 0, 2, 1],\n",
       " [1, 1, 1, 1, 2, 1, 1, 2, 1, 2, 2, 2, 1, 1, 2, 2],\n",
       " [0, 2, 2, 2, 0, 0, 1, 2, 2, 2, 0, 1, 1, 0, 2, 2],\n",
       " [1, 1, 2, 2, 0, 2, 0, 0, 1, 1, 2, 1, 1, 2, 2, 0],\n",
       " [2, 2, 1, 2, 0, 0, 1, 2, 2, 2, 1, 1, 1, 2, 0, 2],\n",
       " [0, 0, 1, 2, 1, 1, 0, 1, 1, 1, 1, 0, 2, 2, 0, 0],\n",
       " [1, 0, 1, 2, 1, 2, 2, 0, 2, 0, 1, 1, 0, 1, 0, 1],\n",
       " [1, 0, 2, 1, 1, 2, 1, 0, 1, 0, 2, 0, 0, 1, 2, 2],\n",
       " [0, 1, 2, 0, 0, 1, 0, 1, 0, 2, 1, 2, 2, 2, 2, 1],\n",
       " [1, 1, 2, 2, 2, 1, 2, 2, 1, 2, 0, 1, 0, 0, 2, 0],\n",
       " [0, 0, 1, 2, 1, 1, 0, 0, 2, 2, 2, 2, 1, 2, 2, 1],\n",
       " [2, 0, 0, 1, 2, 1, 2, 1, 1, 1, 0, 1, 1, 0, 1, 2],\n",
       " [0, 1, 1, 1, 2, 2, 2, 0, 1, 2, 1, 0, 2, 1, 0, 2],\n",
       " [1, 0, 2, 1, 0, 0, 2, 2, 2, 2, 1, 2, 0, 2, 1, 2],\n",
       " [0, 0, 2, 2, 2, 0, 1, 0, 2, 2, 0, 1, 1, 0, 1, 2],\n",
       " [0, 2, 0, 1, 0, 0, 2, 1, 1, 0, 2, 0, 1, 0, 2, 0],\n",
       " [2, 0, 1, 1, 2, 2, 1, 2, 1, 1, 2, 0, 2, 0, 0, 0],\n",
       " [1, 2, 0, 2, 0, 1, 1, 0, 0, 1, 2, 1, 2, 2, 2, 2],\n",
       " [1, 1, 2, 1, 1, 0, 2, 1, 1, 1, 1, 1, 0, 0, 0, 0],\n",
       " [1, 1, 2, 0, 0, 0, 2, 0, 0, 0, 0, 2, 1, 1, 1, 0],\n",
       " [2, 1, 1, 0, 0, 0, 2, 1, 2, 0, 2, 2, 0, 2, 1, 1],\n",
       " [0, 2, 1, 1, 0, 2, 1, 2, 1, 2, 0, 0, 0, 1, 1, 2],\n",
       " [0, 0, 2, 1, 1, 2, 1, 1, 2, 0, 0, 0, 2, 0, 1, 0],\n",
       " [1, 2, 1, 1, 1, 0, 0, 0, 0, 2, 1, 0, 2, 0, 0, 1],\n",
       " [1, 0, 2, 2, 1, 2, 1, 2, 1, 1, 2, 2, 1, 0, 2, 1],\n",
       " [2, 1, 0, 2, 0, 0, 0, 2, 1, 0, 2, 0, 0, 2, 2, 1],\n",
       " [2, 1, 0, 2, 0, 2, 2, 0, 1, 0, 2, 0, 0, 1, 2, 1],\n",
       " [2, 1, 0, 2, 0, 1, 2, 1, 2, 1, 1, 2, 0, 1, 2, 0],\n",
       " [2, 0, 2, 0, 0, 1, 1, 0, 0, 0, 2, 1, 2, 2, 2, 0],\n",
       " [1, 1, 2, 1, 2, 0, 1, 0, 1, 1, 0, 1, 2, 2, 2, 2],\n",
       " [1, 1, 1, 2, 2, 1, 0, 2, 0, 0, 0, 2, 0, 2, 1, 0],\n",
       " [2, 2, 1, 1, 0, 1, 2, 0, 2, 0, 0, 2, 2, 1, 1, 0],\n",
       " [0, 2, 1, 1, 0, 0, 1, 1, 1, 1, 0, 2, 0, 2, 0, 1],\n",
       " [2, 1, 1, 1, 0, 1, 1, 1, 2, 0, 0, 0, 2, 2, 0, 1],\n",
       " [0, 1, 1, 0, 0, 0, 1, 1, 1, 1, 2, 0, 2, 0, 2, 2],\n",
       " [0, 0, 2, 2, 0, 0, 2, 0, 1, 1, 0, 2, 1, 1, 1, 2],\n",
       " [0, 2, 2, 2, 1, 0, 2, 1, 0, 1, 1, 0, 1, 0, 2, 1],\n",
       " [1, 1, 1, 2, 1, 0, 1, 2, 0, 1, 2, 1, 2, 0, 1, 2],\n",
       " [0, 0, 1, 2, 2, 1, 0, 0, 1, 2, 2, 1, 0, 1, 1, 2],\n",
       " [1, 0, 1, 2, 1, 2, 2, 0, 1, 1, 2, 1, 0, 2, 1, 0],\n",
       " [2, 0, 0, 2, 1, 2, 2, 2, 1, 0, 1, 0, 0, 2, 2, 2],\n",
       " [1, 2, 2, 1, 0, 0, 1, 2, 1, 0, 1, 1, 1, 1, 1, 1],\n",
       " [2, 1, 1, 2, 1, 2, 2, 2, 2, 2, 0, 2, 2, 0, 2, 1],\n",
       " [1, 1, 0, 1, 2, 1, 1, 0, 2, 1, 1, 0, 1, 1, 2, 0],\n",
       " [2, 1, 2, 0, 0, 1, 1, 0, 2, 0, 0, 0, 2, 1, 0, 0],\n",
       " [0, 2, 1, 2, 2, 2, 2, 0, 0, 2, 2, 0, 0, 1, 1, 0],\n",
       " [1, 1, 1, 0, 1, 2, 1, 2, 2, 2, 2, 2, 0, 0, 2, 2],\n",
       " [2, 1, 1, 0, 0, 0, 2, 0, 1, 0, 0, 0, 2, 0, 0, 1],\n",
       " [0, 0, 0, 0, 1, 2, 0, 1, 1, 2, 0, 2, 0, 1, 0, 1],\n",
       " [1, 2, 1, 0, 1, 1, 0, 1, 0, 2, 0, 2, 1, 1, 2, 1],\n",
       " [1, 2, 2, 0, 2, 2, 2, 2, 0, 1, 0, 1, 0, 2, 2, 0],\n",
       " [2, 1, 0, 0, 2, 1, 2, 2, 0, 2, 2, 1, 2, 1, 0, 0],\n",
       " [0, 2, 2, 0, 1, 1, 2, 0, 1, 2, 0, 0, 1, 1, 0, 0],\n",
       " [2, 0, 1, 1, 2, 0, 1, 0, 2, 2, 1, 1, 0, 2, 2, 2],\n",
       " [1, 2, 0, 1, 2, 2, 1, 1, 0, 0, 2, 2, 1, 0, 1, 0],\n",
       " [2, 0, 1, 0, 0, 2, 0, 0, 2, 1, 1, 1, 1, 2, 1, 2],\n",
       " [2, 0, 1, 1, 0, 1, 0, 2, 0, 2, 2, 0, 0, 1, 1, 0],\n",
       " [0, 0, 0, 1, 2, 2, 2, 1, 1, 0, 2, 0, 0, 0, 2, 2],\n",
       " [2, 0, 1, 0, 1, 0, 2, 0, 0, 0, 0, 2, 2, 1, 2, 1],\n",
       " [0, 0, 2, 1, 0, 1, 0, 1, 2, 0, 2, 2, 1, 1, 1, 0],\n",
       " [2, 1, 2, 1, 2, 1, 1, 0, 1, 2, 0, 2, 1, 2, 1, 1],\n",
       " [1, 2, 1, 0, 0, 1, 0, 2, 1, 1, 0, 2, 1, 1, 1, 2],\n",
       " [2, 2, 1, 0, 2, 2, 1, 2, 1, 2, 0, 2, 2, 2, 2, 0],\n",
       " [1, 1, 2, 2, 0, 1, 1, 0, 1, 1, 2, 0, 1, 1, 0, 1],\n",
       " [2, 2, 1, 2, 2, 2, 0, 2, 0, 1, 0, 1, 0, 0, 1, 2],\n",
       " [2, 2, 1, 2, 0, 0, 0, 2, 1, 0, 2, 0, 2, 1, 2, 1],\n",
       " [1, 1, 1, 0, 2, 1, 2, 0, 2, 0, 2, 1, 1, 2, 2, 2],\n",
       " [2, 1, 1, 0, 1, 2, 0, 1, 2, 0, 1, 2, 2, 2, 2, 1],\n",
       " [2, 2, 2, 1, 0, 2, 0, 2, 1, 2, 2, 1, 2, 2, 0, 1],\n",
       " [1, 0, 2, 1, 0, 0, 1, 1, 2, 0, 0, 1, 0, 1, 2, 2],\n",
       " [2, 2, 2, 2, 2, 1, 1, 1, 0, 1, 1, 0, 0, 2, 2, 2],\n",
       " [1, 0, 2, 2, 2, 1, 1, 1, 0, 0, 2, 1, 1, 2, 2, 1],\n",
       " [0, 2, 1, 0, 1, 2, 2, 1, 1, 0, 0, 0, 1, 1, 0, 2],\n",
       " [2, 0, 0, 0, 0, 2, 1, 2, 0, 2, 1, 2, 1, 2, 1, 1],\n",
       " [0, 1, 1, 0, 2, 0, 1, 1, 0, 2, 1, 0, 2, 0, 2, 1],\n",
       " [2, 2, 0, 2, 0, 0, 0, 1, 0, 1, 2, 1, 2, 0, 0, 1],\n",
       " [1, 1, 1, 0, 2, 1, 1, 0, 1, 0, 0, 0, 0, 2, 2, 2],\n",
       " [1, 0, 2, 0, 1, 1, 0, 1, 1, 1, 1, 1, 0, 1, 1, 2],\n",
       " [2, 0, 2, 1, 0, 0, 1, 0, 2, 1, 2, 0, 0, 2, 1, 1],\n",
       " [0, 2, 1, 0, 0, 1, 2, 1, 1, 2, 2, 2, 2, 2, 2, 0],\n",
       " [1, 0, 1, 0, 0, 0, 1, 0, 0, 1, 2, 1, 2, 1, 1, 1],\n",
       " [0, 1, 2, 0, 1, 2, 1, 2, 1, 0, 1, 1, 0, 0, 1, 0],\n",
       " [2, 1, 2, 2, 2, 0, 1, 0, 0, 2, 2, 1, 2, 2, 0, 0],\n",
       " [2, 0, 0, 2, 1, 0, 2, 2, 1, 2, 0, 2, 0, 1, 2, 0],\n",
       " [2, 1, 0, 0, 1, 2, 2, 2, 1, 2, 1, 1, 1, 1, 0, 0],\n",
       " [1, 0, 2, 0, 2, 1, 1, 2, 2, 2, 0, 2, 2, 1, 0, 2],\n",
       " [0, 1, 0, 1, 2, 1, 1, 2, 1, 1, 1, 0, 2, 2, 1, 2],\n",
       " [2, 1, 0, 1, 0, 0, 0, 2, 1, 2, 0, 2, 2, 1, 2, 1],\n",
       " [2, 1, 1, 2, 0, 1, 0, 2, 2, 2, 0, 1, 1, 0, 0, 0],\n",
       " [2, 1, 2, 1, 2, 2, 2, 2, 1, 2, 0, 2, 1, 0, 0, 1],\n",
       " [1, 0, 1, 1, 0, 0, 0, 1, 1, 2, 0, 2, 1, 0, 2, 0],\n",
       " [2, 2, 1, 1, 0, 1, 2, 1, 1, 2, 1, 2, 0, 1, 2, 0],\n",
       " [2, 2, 1, 2, 2, 2, 2, 0, 0, 2, 2, 2, 0, 2, 1, 1],\n",
       " [0, 1, 2, 0, 1, 2, 2, 2, 2, 2, 1, 0, 0, 2, 1, 2],\n",
       " [2, 1, 0, 2, 0, 2, 0, 0, 2, 0, 1, 1, 2, 1, 2, 1],\n",
       " [0, 0, 1, 0, 1, 1, 2, 0, 1, 2, 1, 2, 1, 1, 0, 1],\n",
       " [2, 1, 2, 1, 0, 2, 0, 1, 1, 1, 1, 2, 1, 0, 2, 2],\n",
       " [1, 1, 1, 1, 1, 0, 2, 0, 0, 0, 2, 2, 2, 0, 0, 1],\n",
       " [1, 2, 2, 2, 0, 1, 0, 0, 1, 1, 0, 1, 2, 0, 1, 2],\n",
       " [2, 1, 1, 0, 2, 0, 0, 2, 0, 1, 0, 1, 2, 1, 0, 1],\n",
       " [0, 1, 1, 0, 0, 1, 2, 1, 0, 0, 0, 2, 1, 0, 0, 0],\n",
       " [2, 2, 1, 0, 1, 2, 2, 0, 2, 2, 0, 1, 0, 2, 0, 2],\n",
       " [2, 1, 1, 0, 1, 0, 0, 1, 1, 2, 1, 0, 0, 0, 0, 1],\n",
       " [0, 1, 1, 1, 1, 2, 1, 0, 2, 0, 1, 2, 1, 0, 1, 0],\n",
       " [1, 2, 1, 2, 1, 2, 1, 2, 1, 2, 2, 1, 1, 2, 2, 1],\n",
       " [0, 0, 2, 0, 1, 0, 0, 2, 0, 1, 1, 1, 0, 2, 2, 1],\n",
       " [1, 0, 2, 1, 1, 2, 0, 1, 2, 1, 1, 1, 0, 1, 0, 1],\n",
       " [1, 2, 2, 0, 0, 0, 0, 1, 0, 1, 2, 0, 1, 1, 1, 0],\n",
       " [0, 1, 0, 0, 0, 0, 2, 0, 1, 1, 1, 2, 2, 1, 1, 0],\n",
       " [1, 0, 1, 0, 0, 0, 1, 0, 1, 2, 0, 0, 2, 2, 0, 0],\n",
       " [0, 1, 0, 0, 1, 1, 2, 2, 2, 1, 0, 1, 2, 2, 1, 1],\n",
       " [0, 0, 0, 1, 0, 2, 2, 0, 1, 2, 2, 2, 2, 1, 1, 1],\n",
       " [2, 2, 0, 1, 0, 0, 1, 0, 2, 0, 1, 2, 1, 1, 0, 1],\n",
       " [2, 2, 1, 2, 1, 2, 0, 1, 1, 2, 0, 2, 1, 1, 2, 2],\n",
       " [0, 1, 1, 2, 0, 0, 2, 2, 0, 1, 0, 1, 2, 2, 1, 0],\n",
       " [0, 1, 1, 1, 1, 1, 2, 0, 1, 2, 2, 0, 2, 2, 1, 1],\n",
       " [0, 0, 1, 1, 2, 2, 1, 2, 1, 0, 2, 2, 0, 0, 2, 1],\n",
       " [2, 0, 1, 2, 2, 0, 0, 1, 1, 1, 0, 0, 0, 1, 1, 1],\n",
       " [2, 2, 2, 2, 0, 1, 2, 2, 0, 1, 2, 0, 0, 1, 0, 2],\n",
       " [1, 0, 2, 1, 2, 1, 2, 2, 1, 2, 0, 1, 2, 1, 2, 2],\n",
       " [0, 0, 0, 2, 0, 1, 2, 2, 2, 0, 0, 1, 1, 2, 2, 0],\n",
       " [2, 0, 2, 2, 1, 1, 1, 2, 2, 0, 2, 1, 0, 2, 2, 2],\n",
       " [1, 2, 2, 1, 0, 1, 0, 1, 1, 0, 0, 2, 2, 2, 0, 1],\n",
       " [0, 1, 0, 1, 2, 2, 2, 1, 2, 2, 1, 2, 1, 0, 1, 2],\n",
       " [2, 1, 0, 2, 2, 1, 0, 0, 2, 0, 0, 2, 0, 2, 0, 2],\n",
       " [0, 2, 0, 1, 1, 0, 0, 0, 0, 0, 2, 1, 2, 1, 1, 2],\n",
       " [0, 1, 2, 0, 2, 0, 2, 2, 1, 1, 1, 0, 0, 2, 0, 0],\n",
       " [1, 0, 0, 2, 2, 1, 1, 2, 0, 2, 2, 2, 2, 0, 0, 2],\n",
       " [0, 2, 1, 2, 2, 1, 0, 0, 1, 0, 0, 1, 2, 1, 1, 0],\n",
       " [1, 2, 2, 2, 2, 2, 2, 0, 2, 1, 0, 0, 2, 1, 2, 1],\n",
       " [0, 2, 1, 1, 1, 2, 2, 0, 1, 2, 0, 1, 2, 1, 2, 1],\n",
       " [1, 1, 0, 1, 1, 0, 2, 1, 0, 2, 0, 2, 2, 2, 0, 1],\n",
       " [1, 0, 0, 1, 1, 0, 1, 1, 1, 2, 0, 0, 2, 2, 1, 0],\n",
       " [1, 1, 2, 2, 1, 0, 1, 1, 0, 2, 0, 0, 1, 1, 0, 2],\n",
       " [2, 2, 1, 2, 0, 2, 1, 0, 2, 2, 1, 2, 2, 2, 1, 2],\n",
       " [1, 1, 1, 0, 2, 2, 0, 1, 2, 1, 0, 0, 0, 0, 1, 0],\n",
       " [0, 0, 1, 2, 1, 0, 2, 0, 0, 1, 0, 0, 0, 2, 0, 0],\n",
       " [1, 1, 0, 1, 2, 2, 1, 1, 0, 1, 2, 0, 1, 2, 1, 0],\n",
       " [1, 2, 2, 1, 0, 1, 0, 2, 2, 1, 0, 2, 1, 2, 2, 1],\n",
       " [0, 0, 0, 1, 2, 2, 1, 0, 2, 0, 0, 1, 1, 0, 1, 0],\n",
       " [2, 0, 1, 2, 2, 1, 2, 2, 0, 0, 0, 0, 0, 1, 0, 2],\n",
       " [2, 2, 1, 2, 1, 0, 2, 1, 2, 0, 0, 2, 0, 1, 0, 1],\n",
       " [0, 0, 1, 2, 1, 1, 2, 0, 1, 1, 2, 1, 2, 0, 0, 0],\n",
       " [1, 1, 1, 1, 0, 2, 1, 2, 2, 0, 1, 1, 1, 2, 0, 2],\n",
       " [0, 2, 0, 0, 1, 2, 0, 1, 1, 1, 1, 0, 1, 1, 2, 1],\n",
       " [2, 2, 2, 2, 1, 0, 1, 2, 2, 0, 0, 1, 1, 1, 1, 2],\n",
       " [0, 0, 2, 1, 0, 1, 2, 1, 2, 2, 0, 2, 0, 2, 1, 0],\n",
       " [2, 0, 0, 2, 1, 1, 2, 2, 1, 2, 2, 0, 0, 2, 0, 2],\n",
       " [2, 2, 2, 1, 0, 0, 2, 2, 1, 1, 2, 0, 1, 2, 1, 2],\n",
       " [0, 1, 1, 2, 1, 2, 2, 1, 0, 2, 2, 1, 2, 2, 1, 0],\n",
       " [1, 0, 2, 2, 1, 2, 2, 1, 2, 0, 1, 0, 1, 0, 0, 0],\n",
       " [1, 1, 0, 2, 0, 2, 1, 2, 2, 2, 0, 0, 1, 0, 1, 1],\n",
       " [1, 0, 2, 0, 1, 2, 2, 2, 0, 0, 1, 2, 0, 0, 1, 1],\n",
       " [0, 2, 1, 0, 2, 1, 1, 1, 2, 0, 1, 0, 2, 1, 0, 2],\n",
       " [1, 2, 0, 0, 2, 1, 1, 0, 0, 0, 2, 0, 1, 1, 2, 1],\n",
       " [2, 2, 0, 2, 0, 2, 1, 1, 1, 2, 0, 1, 0, 0, 1, 1],\n",
       " [2, 0, 0, 1, 2, 0, 2, 0, 2, 1, 0, 0, 0, 0, 2, 0],\n",
       " [2, 0, 2, 0, 1, 1, 1, 2, 2, 0, 2, 2, 2, 0, 1, 1],\n",
       " [0, 0, 0, 1, 1, 2, 1, 0, 1, 2, 0, 0, 1, 0, 2, 0],\n",
       " [0, 0, 1, 2, 2, 2, 2, 1, 0, 1, 0, 0, 0, 1, 0, 0],\n",
       " [2, 0, 0, 1, 1, 0, 2, 0, 2, 2, 1, 1, 2, 1, 0, 2],\n",
       " [1, 2, 1, 2, 1, 0, 0, 2, 2, 1, 2, 1, 1, 2, 2, 0],\n",
       " [0, 2, 2, 0, 2, 0, 2, 2, 1, 0, 0, 1, 0, 2, 1, 1],\n",
       " [1, 1, 1, 0, 2, 2, 2, 0, 1, 1, 1, 0, 1, 1, 1, 1],\n",
       " [1, 1, 1, 2, 1, 2, 1, 2, 0, 2, 1, 1, 1, 0, 0, 2],\n",
       " [2, 0, 0, 1, 0, 1, 0, 2, 1, 1, 1, 2, 2, 2, 1, 0],\n",
       " [0, 1, 1, 1, 0, 1, 0, 0, 1, 0, 0, 0, 2, 0, 1, 2],\n",
       " [2, 2, 2, 2, 2, 0, 2, 1, 2, 1, 1, 1, 2, 0, 0, 0],\n",
       " [2, 1, 1, 1, 2, 1, 1, 2, 0, 2, 0, 2, 2, 1, 2, 1],\n",
       " [0, 2, 2, 1, 2, 0, 2, 2, 2, 2, 0, 1, 0, 1, 0, 2],\n",
       " [2, 1, 2, 2, 0, 2, 2, 1, 1, 0, 1, 0, 2, 2, 0, 2],\n",
       " [0, 0, 1, 2, 0, 0, 2, 0, 0, 0, 1, 2, 0, 1, 0, 2],\n",
       " [1, 2, 2, 0, 1, 1, 0, 0, 2, 1, 2, 2, 0, 0, 1, 1],\n",
       " [2, 1, 1, 1, 0, 0, 2, 2, 1, 1, 0, 0, 1, 2, 2, 0],\n",
       " [0, 1, 1, 2, 0, 1, 2, 0, 0, 2, 0, 1, 0, 0, 0, 2],\n",
       " [1, 2, 1, 0, 2, 1, 0, 1, 2, 1, 2, 1, 1, 0, 1, 1],\n",
       " [1, 0, 1, 0, 2, 2, 1, 2, 1, 2, 1, 1, 2, 2, 1, 1],\n",
       " [1, 0, 1, 1, 1, 0, 1, 0, 0, 0, 1, 1, 1, 1, 2, 2],\n",
       " [0, 2, 0, 0, 2, 0, 0, 0, 2, 0, 0, 2, 2, 1, 2, 1],\n",
       " [2, 2, 2, 0, 1, 2, 2, 0, 0, 2, 0, 0, 0, 0, 2, 2],\n",
       " [0, 1, 1, 2, 1, 0, 0, 2, 0, 2, 1, 1, 1, 0, 2, 1],\n",
       " [1, 2, 0, 2, 2, 2, 0, 2, 0, 1, 2, 1, 0, 2, 0, 0],\n",
       " [0, 2, 2, 2, 0, 2, 0, 0, 1, 0, 1, 2, 1, 2, 2, 0],\n",
       " [2, 1, 1, 0, 1, 1, 0, 0, 0, 1, 0, 2, 0, 2, 1, 0],\n",
       " [2, 1, 0, 2, 0, 1, 2, 2, 1, 2, 0, 1, 2, 1, 2, 0],\n",
       " [1, 1, 2, 2, 1, 1, 2, 0, 2, 0, 0, 0, 1, 1, 2, 0],\n",
       " [1, 2, 2, 2, 2, 1, 0, 2, 2, 0, 1, 2, 1, 0, 1, 0],\n",
       " [2, 2, 0, 2, 1, 2, 1, 2, 1, 0, 2, 2, 1, 2, 0, 0],\n",
       " [0, 1, 0, 2, 0, 2, 1, 0, 2, 2, 1, 0, 0, 1, 0, 2],\n",
       " [1, 2, 0, 2, 2, 2, 1, 2, 0, 2, 1, 2, 0, 2, 1, 1],\n",
       " [2, 1, 0, 2, 2, 1, 1, 0, 1, 0, 2, 0, 0, 1, 0, 2],\n",
       " [0, 1, 0, 0, 2, 2, 1, 1, 2, 2, 1, 1, 1, 1, 2, 0],\n",
       " [0, 1, 0, 0, 1, 0, 2, 2, 0, 2, 2, 1, 0, 0, 1, 2],\n",
       " [0, 1, 0, 1, 2, 2, 2, 0, 0, 0, 0, 1, 1, 1, 0, 0],\n",
       " [1, 1, 2, 1, 0, 1, 2, 0, 1, 2, 0, 0, 1, 1, 2, 2],\n",
       " [2, 1, 0, 2, 2, 1, 2, 2, 1, 0, 2, 2, 2, 2, 2, 1],\n",
       " [1, 0, 1, 2, 1, 2, 2, 1, 1, 1, 1, 2, 2, 1, 0, 1],\n",
       " [0, 2, 2, 0, 1, 2, 2, 1, 0, 0, 2, 1, 0, 0, 2, 0],\n",
       " [1, 0, 0, 1, 1, 0, 0, 2, 2, 0, 1, 1, 0, 0, 0, 1],\n",
       " [0, 2, 2, 1, 0, 0, 2, 1, 1, 0, 2, 1, 1, 2, 0, 1],\n",
       " [2, 0, 2, 2, 2, 1, 2, 2, 0, 2, 2, 2, 0, 2, 1, 2],\n",
       " [1, 1, 0, 0, 0, 2, 1, 0, 2, 1, 1, 0, 0, 0, 1, 1],\n",
       " [0, 2, 0, 0, 0, 0, 2, 0, 0, 2, 2, 0, 0, 2, 2, 0],\n",
       " [2, 2, 0, 0, 0, 1, 0, 1, 2, 0, 0, 0, 0, 0, 0, 2],\n",
       " [1, 0, 0, 0, 0, 2, 1, 2, 0, 2, 1, 1, 2, 0, 1, 0],\n",
       " [0, 2, 0, 0, 0, 0, 2, 2, 0, 1, 0, 2, 2, 2, 2, 0],\n",
       " [2, 0, 2, 1, 1, 2, 1, 1, 1, 2, 2, 2, 0, 2, 0, 0],\n",
       " [0, 1, 0, 2, 2, 1, 0, 2, 1, 2, 0, 0, 0, 2, 1, 0],\n",
       " [1, 2, 2, 0, 2, 2, 0, 0, 2, 1, 0, 1, 0, 2, 1, 1],\n",
       " [1, 1, 1, 2, 2, 2, 1, 2, 1, 0, 1, 2, 1, 0, 1, 2],\n",
       " [0, 1, 0, 0, 1, 2, 0, 2, 1, 2, 1, 1, 1, 0, 2, 1],\n",
       " [2, 1, 0, 0, 0, 0, 2, 0, 2, 1, 1, 0, 1, 0, 2, 2],\n",
       " [0, 1, 0, 0, 0, 1, 0, 0, 1, 2, 2, 0, 0, 1, 2, 0],\n",
       " [2, 1, 1, 1, 2, 1, 2, 2, 1, 1, 1, 0, 0, 0, 1, 2],\n",
       " [0, 2, 1, 1, 0, 2, 1, 2, 1, 0, 2, 0, 1, 2, 0, 2],\n",
       " [0, 1, 1, 0, 2, 1, 2, 1, 1, 2, 1, 2, 0, 2, 1, 2],\n",
       " [2, 1, 0, 0, 2, 2, 2, 1, 0, 1, 2, 0, 0, 2, 1, 1],\n",
       " [1, 1, 1, 1, 1, 0, 2, 1, 1, 1, 2, 0, 0, 1, 0, 0],\n",
       " [2, 1, 1, 2, 2, 0, 2, 1, 1, 2, 1, 0, 1, 1, 2, 2],\n",
       " [1, 0, 2, 0, 1, 0, 2, 1, 0, 1, 1, 1, 2, 2, 0, 1],\n",
       " [0, 0, 2, 0, 2, 0, 0, 1, 0, 1, 0, 0, 2, 1, 1, 0],\n",
       " [2, 0, 0, 1, 1, 2, 0, 1, 0, 0, 2, 1, 0, 2, 0, 0],\n",
       " [2, 2, 2, 1, 1, 0, 1, 0, 1, 1, 0, 0, 1, 1, 2, 2],\n",
       " [0, 0, 0, 2, 2, 2, 2, 1, 1, 0, 0, 2, 1, 0, 2, 1],\n",
       " [0, 0, 2, 2, 1, 1, 1, 0, 2, 1, 1, 0, 1, 2, 0, 2],\n",
       " [1, 0, 1, 2, 1, 1, 2, 0, 0, 0, 0, 1, 2, 0, 2, 2],\n",
       " [0, 0, 2, 2, 2, 0, 0, 2, 1, 2, 2, 0, 2, 1, 2, 0],\n",
       " [2, 0, 0, 2, 0, 2, 1, 2, 1, 1, 0, 0, 2, 0, 1, 0],\n",
       " [1, 1, 0, 0, 2, 1, 0, 1, 0, 2, 1, 0, 0, 2, 0, 1],\n",
       " [0, 0, 0, 2, 1, 1, 2, 2, 0, 0, 1, 1, 0, 1, 0, 1],\n",
       " [0, 1, 1, 1, 2, 2, 1, 0, 1, 1, 2, 2, 2, 0, 2, 1],\n",
       " [2, 2, 1, 2, 1, 1, 2, 0, 1, 1, 2, 2, 0, 0, 2, 2],\n",
       " [1, 2, 1, 0, 0, 1, 0, 1, 1, 0, 0, 2, 2, 0, 2, 2],\n",
       " [1, 1, 2, 2, 0, 2, 0, 2, 1, 1, 0, 1, 0, 0, 0, 0],\n",
       " [2, 0, 2, 1, 2, 0, 1, 0, 2, 2, 1, 0, 1, 0, 0, 2],\n",
       " [0, 0, 2, 1, 0, 1, 2, 0, 0, 2, 2, 2, 2, 1, 2, 2],\n",
       " [2, 2, 1, 2, 1, 2, 1, 2, 1, 1, 2, 2, 2, 2, 2, 1],\n",
       " [2, 0, 2, 0, 1, 0, 1, 2, 2, 1, 1, 2, 2, 2, 0, 1],\n",
       " [2, 2, 0, 2, 0, 0, 0, 2, 1, 0, 2, 1, 2, 0, 2, 1],\n",
       " [1, 0, 2, 1, 0, 2, 2, 2, 2, 2, 2, 1, 0, 1, 2, 2],\n",
       " [1, 0, 2, 0, 2, 2, 1, 0, 0, 1, 0, 2, 1, 0, 0, 1],\n",
       " [0, 2, 1, 2, 1, 1, 1, 1, 0, 1, 1, 1, 1, 2, 1, 0],\n",
       " [1, 1, 0, 2, 2, 0, 1, 1, 2, 2, 2, 1, 1, 0, 2, 1],\n",
       " [2, 1, 1, 0, 1, 2, 2, 2, 0, 1, 1, 2, 0, 2, 0, 1],\n",
       " [0, 2, 1, 0, 2, 0, 2, 2, 1, 0, 2, 1, 2, 0, 0, 0],\n",
       " [2, 0, 2, 0, 0, 0, 2, 2, 1, 1, 0, 2, 2, 0, 2, 0],\n",
       " [2, 0, 0, 0, 0, 1, 1, 0, 2, 2, 0, 1, 2, 0, 1, 0],\n",
       " [0, 1, 1, 2, 0, 0, 1, 2, 1, 2, 2, 2, 2, 1, 2, 0],\n",
       " [2, 1, 0, 0, 1, 0, 2, 1, 2, 1, 0, 2, 0, 0, 0, 0],\n",
       " [1, 1, 1, 0, 2, 2, 2, 2, 0, 0, 2, 2, 1, 0, 0, 2],\n",
       " [2, 0, 2, 1, 2, 1, 0, 0, 2, 2, 2, 0, 0, 2, 1, 0],\n",
       " [0, 0, 2, 2, 0, 0, 1, 2, 0, 1, 2, 0, 1, 0, 2, 1],\n",
       " [1, 2, 1, 2, 0, 2, 2, 1, 1, 1, 1, 2, 0, 0, 0, 1],\n",
       " [1, 0, 2, 2, 0, 0, 1, 0, 0, 2, 1, 0, 1, 0, 1, 0],\n",
       " [0, 2, 1, 0, 1, 0, 1, 1, 2, 2, 2, 2, 0, 2, 2, 0],\n",
       " [2, 2, 2, 0, 1, 1, 2, 0, 0, 1, 2, 0, 2, 2, 1, 1],\n",
       " [1, 1, 2, 1, 1, 1, 2, 2, 1, 0, 1, 2, 2, 1, 2, 1],\n",
       " [2, 1, 2, 2, 2, 0, 2, 1, 2, 1, 2, 1, 2, 0, 2, 0],\n",
       " [0, 2, 1, 2, 0, 2, 0, 2, 2, 2, 1, 0, 2, 0, 1, 1],\n",
       " [0, 1, 1, 1, 1, 0, 0, 1, 2, 0, 2, 0, 0, 2, 0, 1],\n",
       " [2, 2, 1, 0, 0, 2, 2, 0, 2, 1, 1, 1, 0, 1, 0, 1],\n",
       " [0, 2, 1, 2, 2, 1, 1, 1, 2, 1, 1, 2, 0, 2, 2, 0],\n",
       " [1, 2, 2, 2, 1, 0, 2, 1, 2, 1, 2, 0, 1, 0, 2, 2],\n",
       " [1, 0, 0, 0, 1, 1, 0, 0, 0, 0, 1, 1, 1, 1, 0, 1],\n",
       " [1, 0, 0, 1, 1, 2, 1, 1, 1, 0, 1, 1, 1, 0, 1, 0],\n",
       " [1, 0, 0, 1, 1, 0, 2, 2, 0, 2, 1, 1, 0, 1, 2, 0],\n",
       " [1, 1, 1, 2, 0, 2, 0, 2, 2, 0, 1, 0, 1, 0, 1, 2],\n",
       " [1, 1, 2, 2, 0, 0, 0, 2, 2, 0, 1, 2, 2, 2, 0, 2],\n",
       " [0, 1, 0, 2, 2, 1, 2, 0, 0, 0, 1, 0, 0, 1, 2, 1],\n",
       " [1, 0, 0, 0, 2, 0, 0, 2, 2, 0, 1, 1, 2, 1, 2, 1],\n",
       " [2, 1, 1, 2, 2, 2, 2, 2, 1, 1, 2, 1, 2, 1, 0, 2],\n",
       " [2, 0, 2, 2, 0, 2, 1, 1, 1, 1, 0, 2, 2, 1, 0, 2],\n",
       " [0, 2, 2, 1, 0, 0, 1, 1, 0, 2, 2, 1, 1, 1, 0, 2],\n",
       " [0, 2, 0, 0, 2, 2, 2, 0, 0, 0, 2, 1, 1, 1, 2, 2],\n",
       " [2, 1, 1, 2, 0, 0, 0, 0, 2, 1, 2, 0, 1, 1, 1, 1],\n",
       " [1, 2, 2, 0, 0, 0, 0, 0, 2, 1, 1, 0, 2, 1, 2, 1],\n",
       " [1, 2, 1, 2, 1, 0, 1, 1, 2, 0, 0, 1, 0, 0, 0, 0],\n",
       " [0, 2, 2, 2, 1, 2, 2, 2, 2, 2, 1, 0, 0, 2, 2, 1],\n",
       " [2, 0, 1, 1, 0, 0, 2, 2, 0, 0, 0, 1, 1, 2, 0, 2],\n",
       " [0, 1, 2, 0, 0, 1, 2, 0, 0, 2, 0, 2, 0, 2, 1, 2],\n",
       " [0, 2, 0, 2, 0, 1, 2, 0, 2, 2, 1, 2, 1, 1, 1, 2],\n",
       " [0, 2, 2, 2, 1, 1, 2, 1, 0, 1, 1, 2, 1, 0, 2, 1],\n",
       " [1, 0, 1, 2, 0, 2, 1, 2, 0, 0, 1, 2, 2, 1, 0, 2],\n",
       " [2, 2, 1, 1, 2, 1, 1, 0, 0, 2, 0, 0, 1, 0, 0, 0],\n",
       " [1, 1, 1, 2, 1, 0, 0, 0, 0, 1, 2, 0, 2, 1, 1, 0],\n",
       " [1, 1, 1, 2, 1, 0, 1, 0, 0, 2, 0, 1, 0, 0, 1, 1],\n",
       " [0, 2, 0, 1, 1, 1, 0, 1, 0, 0, 2, 1, 0, 1, 1, 1],\n",
       " [0, 1, 1, 2, 1, 0, 1, 2, 1, 0, 2, 1, 2, 1, 2, 0],\n",
       " [1, 2, 1, 1, 0, 0, 2, 1, 2, 1, 2, 0, 1, 1, 0, 2],\n",
       " [0, 1, 2, 0, 0, 1, 1, 1, 0, 2, 1, 0, 1, 0, 0, 0],\n",
       " [0, 2, 1, 1, 0, 0, 2, 2, 1, 2, 1, 0, 1, 1, 2, 0],\n",
       " [2, 0, 2, 2, 0, 2, 2, 0, 2, 2, 0, 1, 1, 1, 1, 2],\n",
       " [2, 1, 1, 0, 1, 0, 1, 2, 1, 0, 2, 0, 0, 1, 1, 1],\n",
       " [1, 2, 2, 2, 2, 1, 2, 1, 2, 2, 2, 0, 0, 2, 2, 0],\n",
       " [1, 2, 1, 2, 2, 1, 0, 2, 2, 2, 0, 1, 1, 2, 2, 2],\n",
       " [0, 1, 1, 0, 2, 2, 0, 2, 2, 0, 1, 2, 0, 1, 1, 2],\n",
       " [0, 0, 0, 1, 0, 2, 2, 0, 0, 1, 0, 2, 0, 0, 1, 0],\n",
       " [1, 0, 1, 1, 1, 0, 1, 1, 0, 0, 0, 1, 2, 0, 2, 0],\n",
       " [2, 1, 2, 2, 1, 1, 2, 0, 0, 0, 1, 0, 2, 2, 2, 2],\n",
       " [2, 1, 2, 0, 1, 0, 2, 1, 1, 0, 1, 2, 2, 2, 0, 1],\n",
       " [0, 1, 1, 1, 2, 0, 0, 1, 2, 0, 2, 0, 2, 2, 0, 1],\n",
       " [0, 1, 2, 1, 2, 1, 0, 0, 0, 0, 2, 1, 0, 1, 1, 2],\n",
       " [1, 1, 0, 2, 2, 0, 2, 2, 0, 2, 1, 2, 2, 2, 2, 1],\n",
       " [1, 1, 2, 2, 0, 1, 1, 0, 0, 1, 0, 0, 1, 1, 0, 1],\n",
       " [0, 2, 1, 1, 0, 1, 0, 0, 0, 2, 0, 0, 0, 2, 2, 0],\n",
       " [2, 2, 2, 0, 2, 0, 0, 2, 2, 2, 2, 1, 0, 1, 0, 0],\n",
       " [0, 1, 1, 1, 0, 2, 2, 0, 1, 0, 0, 2, 0, 1, 2, 2],\n",
       " [1, 1, 2, 2, 2, 1, 0, 1, 2, 1, 0, 0, 0, 0, 1, 1],\n",
       " [2, 2, 0, 1, 2, 2, 2, 1, 2, 1, 1, 1, 1, 2, 1, 0],\n",
       " [0, 0, 1, 1, 2, 1, 1, 2, 2, 2, 0, 0, 0, 1, 2, 1],\n",
       " ...]"
      ]
     },
     "execution_count": 13,
     "metadata": {},
     "output_type": "execute_result"
    }
   ],
   "source": [
    "pred_list"
   ]
  },
  {
   "cell_type": "code",
   "execution_count": 14,
   "id": "e9b925a4",
   "metadata": {},
   "outputs": [],
   "source": [
    "listarray=[]\n",
    "for i in pred_list:\n",
    "    for j in i:\n",
    "        listarray.append(j)"
   ]
  },
  {
   "cell_type": "code",
   "execution_count": 15,
   "id": "4eb989ef",
   "metadata": {},
   "outputs": [
    {
     "data": {
      "text/plain": [
       "[2,\n",
       " 2,\n",
       " 0,\n",
       " 1,\n",
       " 1,\n",
       " 2,\n",
       " 1,\n",
       " 2,\n",
       " 0,\n",
       " 2,\n",
       " 0,\n",
       " 1,\n",
       " 0,\n",
       " 1,\n",
       " 1,\n",
       " 1,\n",
       " 0,\n",
       " 0,\n",
       " 1,\n",
       " 0,\n",
       " 2,\n",
       " 1,\n",
       " 1,\n",
       " 1,\n",
       " 0,\n",
       " 2,\n",
       " 0,\n",
       " 0,\n",
       " 0,\n",
       " 0,\n",
       " 0,\n",
       " 0,\n",
       " 1,\n",
       " 0,\n",
       " 0,\n",
       " 1,\n",
       " 0,\n",
       " 1,\n",
       " 1,\n",
       " 1,\n",
       " 2,\n",
       " 0,\n",
       " 2,\n",
       " 0,\n",
       " 2,\n",
       " 0,\n",
       " 2,\n",
       " 2,\n",
       " 2,\n",
       " 2,\n",
       " 0,\n",
       " 1,\n",
       " 2,\n",
       " 1,\n",
       " 0,\n",
       " 2,\n",
       " 2,\n",
       " 0,\n",
       " 0,\n",
       " 0,\n",
       " 1,\n",
       " 1,\n",
       " 0,\n",
       " 2,\n",
       " 0,\n",
       " 2,\n",
       " 1,\n",
       " 1,\n",
       " 1,\n",
       " 2,\n",
       " 2,\n",
       " 2,\n",
       " 0,\n",
       " 0,\n",
       " 2,\n",
       " 2,\n",
       " 0,\n",
       " 1,\n",
       " 1,\n",
       " 1,\n",
       " 0,\n",
       " 0,\n",
       " 1,\n",
       " 1,\n",
       " 2,\n",
       " 0,\n",
       " 1,\n",
       " 1,\n",
       " 2,\n",
       " 2,\n",
       " 1,\n",
       " 1,\n",
       " 0,\n",
       " 2,\n",
       " 1,\n",
       " 2,\n",
       " 2,\n",
       " 1,\n",
       " 1,\n",
       " 0,\n",
       " 1,\n",
       " 1,\n",
       " 2,\n",
       " 2,\n",
       " 1,\n",
       " 1,\n",
       " 1,\n",
       " 1,\n",
       " 2,\n",
       " 2,\n",
       " 2,\n",
       " 0,\n",
       " 2,\n",
       " 0,\n",
       " 1,\n",
       " 0,\n",
       " 2,\n",
       " 1,\n",
       " 2,\n",
       " 0,\n",
       " 0,\n",
       " 1,\n",
       " 0,\n",
       " 2,\n",
       " 0,\n",
       " 2,\n",
       " 2,\n",
       " 1,\n",
       " 1,\n",
       " 0,\n",
       " 0,\n",
       " 0,\n",
       " 2,\n",
       " 1,\n",
       " 0,\n",
       " 0,\n",
       " 2,\n",
       " 2,\n",
       " 1,\n",
       " 2,\n",
       " 1,\n",
       " 1,\n",
       " 2,\n",
       " 2,\n",
       " 1,\n",
       " 1,\n",
       " 2,\n",
       " 1,\n",
       " 0,\n",
       " 2,\n",
       " 0,\n",
       " 0,\n",
       " 2,\n",
       " 0,\n",
       " 1,\n",
       " 1,\n",
       " 2,\n",
       " 0,\n",
       " 1,\n",
       " 2,\n",
       " 2,\n",
       " 0,\n",
       " 1,\n",
       " 1,\n",
       " 1,\n",
       " 1,\n",
       " 1,\n",
       " 1,\n",
       " 1,\n",
       " 2,\n",
       " 2,\n",
       " 0,\n",
       " 2,\n",
       " 2,\n",
       " 1,\n",
       " 0,\n",
       " 1,\n",
       " 0,\n",
       " 1,\n",
       " 1,\n",
       " 0,\n",
       " 1,\n",
       " 1,\n",
       " 1,\n",
       " 2,\n",
       " 2,\n",
       " 2,\n",
       " 2,\n",
       " 0,\n",
       " 0,\n",
       " 2,\n",
       " 1,\n",
       " 2,\n",
       " 0,\n",
       " 2,\n",
       " 1,\n",
       " 2,\n",
       " 0,\n",
       " 2,\n",
       " 2,\n",
       " 1,\n",
       " 0,\n",
       " 0,\n",
       " 2,\n",
       " 1,\n",
       " 1,\n",
       " 1,\n",
       " 1,\n",
       " 1,\n",
       " 0,\n",
       " 0,\n",
       " 0,\n",
       " 2,\n",
       " 2,\n",
       " 0,\n",
       " 2,\n",
       " 0,\n",
       " 1,\n",
       " 2,\n",
       " 1,\n",
       " 2,\n",
       " 0,\n",
       " 1,\n",
       " 1,\n",
       " 1,\n",
       " 2,\n",
       " 2,\n",
       " 1,\n",
       " 1,\n",
       " 1,\n",
       " 0,\n",
       " 2,\n",
       " 1,\n",
       " 1,\n",
       " 0,\n",
       " 1,\n",
       " 2,\n",
       " 1,\n",
       " 2,\n",
       " 1,\n",
       " 2,\n",
       " 0,\n",
       " 1,\n",
       " 2,\n",
       " 2,\n",
       " 2,\n",
       " 2,\n",
       " 2,\n",
       " 1,\n",
       " 1,\n",
       " 0,\n",
       " 1,\n",
       " 0,\n",
       " 0,\n",
       " 1,\n",
       " 2,\n",
       " 2,\n",
       " 2,\n",
       " 2,\n",
       " 1,\n",
       " 1,\n",
       " 0,\n",
       " 0,\n",
       " 0,\n",
       " 1,\n",
       " 2,\n",
       " 1,\n",
       " 0,\n",
       " 2,\n",
       " 1,\n",
       " 1,\n",
       " 1,\n",
       " 2,\n",
       " 0,\n",
       " 1,\n",
       " 0,\n",
       " 0,\n",
       " 0,\n",
       " 0,\n",
       " 1,\n",
       " 1,\n",
       " 2,\n",
       " 0,\n",
       " 1,\n",
       " 2,\n",
       " 2,\n",
       " 1,\n",
       " 0,\n",
       " 1,\n",
       " 0,\n",
       " 1,\n",
       " 1,\n",
       " 2,\n",
       " 1,\n",
       " 0,\n",
       " 2,\n",
       " 2,\n",
       " 2,\n",
       " 1,\n",
       " 0,\n",
       " 2,\n",
       " 0,\n",
       " 1,\n",
       " 1,\n",
       " 2,\n",
       " 2,\n",
       " 1,\n",
       " 0,\n",
       " 0,\n",
       " 0,\n",
       " 2,\n",
       " 2,\n",
       " 0,\n",
       " 2,\n",
       " 2,\n",
       " 2,\n",
       " 2,\n",
       " 0,\n",
       " 0,\n",
       " 0,\n",
       " 1,\n",
       " 0,\n",
       " 0,\n",
       " 1,\n",
       " 1,\n",
       " 1,\n",
       " 1,\n",
       " 0,\n",
       " 0,\n",
       " 2,\n",
       " 1,\n",
       " 0,\n",
       " 2,\n",
       " 1,\n",
       " 2,\n",
       " 1,\n",
       " 2,\n",
       " 2,\n",
       " 1,\n",
       " 1,\n",
       " 1,\n",
       " 1,\n",
       " 0,\n",
       " 0,\n",
       " 1,\n",
       " 2,\n",
       " 0,\n",
       " 0,\n",
       " 1,\n",
       " 1,\n",
       " 0,\n",
       " 1,\n",
       " 2,\n",
       " 2,\n",
       " 0,\n",
       " 0,\n",
       " 2,\n",
       " 1,\n",
       " 0,\n",
       " 1,\n",
       " 1,\n",
       " 2,\n",
       " 1,\n",
       " 2,\n",
       " 2,\n",
       " 1,\n",
       " 2,\n",
       " 2,\n",
       " 2,\n",
       " 1,\n",
       " 0,\n",
       " 0,\n",
       " 0,\n",
       " 2,\n",
       " 2,\n",
       " 0,\n",
       " 0,\n",
       " 1,\n",
       " 2,\n",
       " 2,\n",
       " 2,\n",
       " 0,\n",
       " 0,\n",
       " 0,\n",
       " 1,\n",
       " 2,\n",
       " 2,\n",
       " 2,\n",
       " 1,\n",
       " 0,\n",
       " 2,\n",
       " 1,\n",
       " 2,\n",
       " 0,\n",
       " 2,\n",
       " 2,\n",
       " 2,\n",
       " 0,\n",
       " 2,\n",
       " 2,\n",
       " 1,\n",
       " 2,\n",
       " 1,\n",
       " 0,\n",
       " 0,\n",
       " 0,\n",
       " 2,\n",
       " 1,\n",
       " 2,\n",
       " 2,\n",
       " 0,\n",
       " 0,\n",
       " 2,\n",
       " 2,\n",
       " 0,\n",
       " 0,\n",
       " 2,\n",
       " 0,\n",
       " 0,\n",
       " 2,\n",
       " 1,\n",
       " 0,\n",
       " 1,\n",
       " 2,\n",
       " 0,\n",
       " 2,\n",
       " 2,\n",
       " 2,\n",
       " 0,\n",
       " 1,\n",
       " 0,\n",
       " 0,\n",
       " 1,\n",
       " 2,\n",
       " 2,\n",
       " 0,\n",
       " 1,\n",
       " 0,\n",
       " 0,\n",
       " 2,\n",
       " 1,\n",
       " 2,\n",
       " 2,\n",
       " 0,\n",
       " 2,\n",
       " 2,\n",
       " 1,\n",
       " 2,\n",
       " 2,\n",
       " 0,\n",
       " 1,\n",
       " 0,\n",
       " 0,\n",
       " 2,\n",
       " 2,\n",
       " 2,\n",
       " 2,\n",
       " 0,\n",
       " 2,\n",
       " 2,\n",
       " 0,\n",
       " 1,\n",
       " 0,\n",
       " 2,\n",
       " 0,\n",
       " 1,\n",
       " 0,\n",
       " 2,\n",
       " 0,\n",
       " 1,\n",
       " 2,\n",
       " 1,\n",
       " 2,\n",
       " 1,\n",
       " 2,\n",
       " 1,\n",
       " 2,\n",
       " 2,\n",
       " 0,\n",
       " 1,\n",
       " 1,\n",
       " 2,\n",
       " 2,\n",
       " 2,\n",
       " 0,\n",
       " 1,\n",
       " 0,\n",
       " 0,\n",
       " 1,\n",
       " 0,\n",
       " 0,\n",
       " 1,\n",
       " 1,\n",
       " 0,\n",
       " 2,\n",
       " 2,\n",
       " 2,\n",
       " 2,\n",
       " 0,\n",
       " 1,\n",
       " 2,\n",
       " 0,\n",
       " 0,\n",
       " 2,\n",
       " 1,\n",
       " 0,\n",
       " 2,\n",
       " 1,\n",
       " 2,\n",
       " 1,\n",
       " 1,\n",
       " 1,\n",
       " 1,\n",
       " 2,\n",
       " 2,\n",
       " 2,\n",
       " 1,\n",
       " 0,\n",
       " 1,\n",
       " 2,\n",
       " 0,\n",
       " 0,\n",
       " 2,\n",
       " 2,\n",
       " 1,\n",
       " 0,\n",
       " 1,\n",
       " 1,\n",
       " 1,\n",
       " 1,\n",
       " 0,\n",
       " 1,\n",
       " 1,\n",
       " 2,\n",
       " 2,\n",
       " 1,\n",
       " 1,\n",
       " 1,\n",
       " 0,\n",
       " 0,\n",
       " 2,\n",
       " 1,\n",
       " 1,\n",
       " 1,\n",
       " 0,\n",
       " 2,\n",
       " 2,\n",
       " 1,\n",
       " 2,\n",
       " 2,\n",
       " 0,\n",
       " 1,\n",
       " 2,\n",
       " 1,\n",
       " 1,\n",
       " 0,\n",
       " 0,\n",
       " 2,\n",
       " 1,\n",
       " 2,\n",
       " 0,\n",
       " 0,\n",
       " 2,\n",
       " 2,\n",
       " 2,\n",
       " 1,\n",
       " 1,\n",
       " 0,\n",
       " 2,\n",
       " 1,\n",
       " 0,\n",
       " 0,\n",
       " 1,\n",
       " 0,\n",
       " 1,\n",
       " 1,\n",
       " 0,\n",
       " 1,\n",
       " 0,\n",
       " 1,\n",
       " 1,\n",
       " 1,\n",
       " 0,\n",
       " 1,\n",
       " 1,\n",
       " 2,\n",
       " 2,\n",
       " 2,\n",
       " 2,\n",
       " 1,\n",
       " 0,\n",
       " 2,\n",
       " 2,\n",
       " 0,\n",
       " 2,\n",
       " 0,\n",
       " 2,\n",
       " 2,\n",
       " 2,\n",
       " 1,\n",
       " 0,\n",
       " 0,\n",
       " 2,\n",
       " 2,\n",
       " 0,\n",
       " 2,\n",
       " 1,\n",
       " 0,\n",
       " 0,\n",
       " 0,\n",
       " 0,\n",
       " 1,\n",
       " 0,\n",
       " 0,\n",
       " 0,\n",
       " 0,\n",
       " 2,\n",
       " 0,\n",
       " 0,\n",
       " 2,\n",
       " 2,\n",
       " 0,\n",
       " 1,\n",
       " 1,\n",
       " 2,\n",
       " 1,\n",
       " 1,\n",
       " 2,\n",
       " 2,\n",
       " 2,\n",
       " 2,\n",
       " 0,\n",
       " 2,\n",
       " 0,\n",
       " 2,\n",
       " 2,\n",
       " 0,\n",
       " 2,\n",
       " 2,\n",
       " 2,\n",
       " 1,\n",
       " 2,\n",
       " 2,\n",
       " 2,\n",
       " 0,\n",
       " 0,\n",
       " 1,\n",
       " 1,\n",
       " 1,\n",
       " 0,\n",
       " 2,\n",
       " 2,\n",
       " 0,\n",
       " 2,\n",
       " 0,\n",
       " 0,\n",
       " 2,\n",
       " 2,\n",
       " 2,\n",
       " 0,\n",
       " 1,\n",
       " 0,\n",
       " 0,\n",
       " 1,\n",
       " 0,\n",
       " 1,\n",
       " 1,\n",
       " 2,\n",
       " 2,\n",
       " 2,\n",
       " 1,\n",
       " 0,\n",
       " 0,\n",
       " 1,\n",
       " 1,\n",
       " 1,\n",
       " 2,\n",
       " 0,\n",
       " 0,\n",
       " 0,\n",
       " 2,\n",
       " 2,\n",
       " 2,\n",
       " 0,\n",
       " 2,\n",
       " 2,\n",
       " 2,\n",
       " 1,\n",
       " 1,\n",
       " 2,\n",
       " 2,\n",
       " 2,\n",
       " 0,\n",
       " 2,\n",
       " 2,\n",
       " 2,\n",
       " 0,\n",
       " 1,\n",
       " 1,\n",
       " 2,\n",
       " 0,\n",
       " 1,\n",
       " 1,\n",
       " 1,\n",
       " 2,\n",
       " 2,\n",
       " 2,\n",
       " 0,\n",
       " 2,\n",
       " 0,\n",
       " 2,\n",
       " 1,\n",
       " 2,\n",
       " 2,\n",
       " 2,\n",
       " 1,\n",
       " 2,\n",
       " 0,\n",
       " 2,\n",
       " 0,\n",
       " 0,\n",
       " 1,\n",
       " 1,\n",
       " 1,\n",
       " 2,\n",
       " 2,\n",
       " 0,\n",
       " 0,\n",
       " 0,\n",
       " 2,\n",
       " 2,\n",
       " 2,\n",
       " 0,\n",
       " 0,\n",
       " 0,\n",
       " 1,\n",
       " 1,\n",
       " 2,\n",
       " 2,\n",
       " 0,\n",
       " 2,\n",
       " 2,\n",
       " 0,\n",
       " 0,\n",
       " 1,\n",
       " 2,\n",
       " 0,\n",
       " 1,\n",
       " 1,\n",
       " 1,\n",
       " 0,\n",
       " 2,\n",
       " 2,\n",
       " 1,\n",
       " 0,\n",
       " 0,\n",
       " 1,\n",
       " 2,\n",
       " 2,\n",
       " 0,\n",
       " 2,\n",
       " 1,\n",
       " 2,\n",
       " 2,\n",
       " 1,\n",
       " 0,\n",
       " 0,\n",
       " 0,\n",
       " 1,\n",
       " 0,\n",
       " 0,\n",
       " 1,\n",
       " 2,\n",
       " 2,\n",
       " 0,\n",
       " 1,\n",
       " 2,\n",
       " 1,\n",
       " 1,\n",
       " 0,\n",
       " 2,\n",
       " 0,\n",
       " 2,\n",
       " 0,\n",
       " 0,\n",
       " 0,\n",
       " 2,\n",
       " 0,\n",
       " 1,\n",
       " 2,\n",
       " 0,\n",
       " 0,\n",
       " 1,\n",
       " 0,\n",
       " 0,\n",
       " 0,\n",
       " 2,\n",
       " 1,\n",
       " 1,\n",
       " 2,\n",
       " 2,\n",
       " 1,\n",
       " 0,\n",
       " 1,\n",
       " 1,\n",
       " 1,\n",
       " 0,\n",
       " 0,\n",
       " 1,\n",
       " 0,\n",
       " 0,\n",
       " 2,\n",
       " 0,\n",
       " 0,\n",
       " 0,\n",
       " 0,\n",
       " 1,\n",
       " 1,\n",
       " 2,\n",
       " 0,\n",
       " 2,\n",
       " 0,\n",
       " 2,\n",
       " 1,\n",
       " 0,\n",
       " 1,\n",
       " 0,\n",
       " 2,\n",
       " 2,\n",
       " 1,\n",
       " 1,\n",
       " 0,\n",
       " 1,\n",
       " 0,\n",
       " 0,\n",
       " 0,\n",
       " 0,\n",
       " 0,\n",
       " 0,\n",
       " 2,\n",
       " 2,\n",
       " 0,\n",
       " 2,\n",
       " 2,\n",
       " 1,\n",
       " 2,\n",
       " 0,\n",
       " 2,\n",
       " 2,\n",
       " 2,\n",
       " 2,\n",
       " 1,\n",
       " 1,\n",
       " 0,\n",
       " 2,\n",
       " 1,\n",
       " 0,\n",
       " 0,\n",
       " 1,\n",
       " 2,\n",
       " 2,\n",
       " 2,\n",
       " 1,\n",
       " 2,\n",
       " 2,\n",
       " 1,\n",
       " 0,\n",
       " 2,\n",
       " 2,\n",
       " 0,\n",
       " 1,\n",
       " 1,\n",
       " 2,\n",
       " 1,\n",
       " 1,\n",
       " 1,\n",
       " 0,\n",
       " 0,\n",
       " 2,\n",
       " 1,\n",
       " 2,\n",
       " 1,\n",
       " 2,\n",
       " 1,\n",
       " 2,\n",
       " 1,\n",
       " 2,\n",
       " 2,\n",
       " 0,\n",
       " 0,\n",
       " 2,\n",
       " 0,\n",
       " 2,\n",
       " 2,\n",
       " 0,\n",
       " 2,\n",
       " 1,\n",
       " 0,\n",
       " 2,\n",
       " 2,\n",
       " 2,\n",
       " 0,\n",
       " 0,\n",
       " 2,\n",
       " 1,\n",
       " 0,\n",
       " 2,\n",
       " 2,\n",
       " 2,\n",
       " 0,\n",
       " 1,\n",
       " 1,\n",
       " 2,\n",
       " 1,\n",
       " 2,\n",
       " 2,\n",
       " 2,\n",
       " 2,\n",
       " 2,\n",
       " 2,\n",
       " 2,\n",
       " 2,\n",
       " 0,\n",
       " 0,\n",
       " 1,\n",
       " 1,\n",
       " 2,\n",
       " 2,\n",
       " 0,\n",
       " 0,\n",
       " 2,\n",
       " 0,\n",
       " 1,\n",
       " 2,\n",
       " 1,\n",
       " 2,\n",
       " 0,\n",
       " 2,\n",
       " 1,\n",
       " 0,\n",
       " 2,\n",
       " 2,\n",
       " 0,\n",
       " 1,\n",
       " 1,\n",
       " 1,\n",
       " 0,\n",
       " 0,\n",
       " 0,\n",
       " 1,\n",
       " 1,\n",
       " 1,\n",
       " 1,\n",
       " 0,\n",
       " 2,\n",
       " 1,\n",
       " 0,\n",
       " 0,\n",
       " 0,\n",
       " 2,\n",
       " 0,\n",
       " 1,\n",
       " 2,\n",
       " 1,\n",
       " 0,\n",
       " 0,\n",
       " 1,\n",
       " 2,\n",
       " 1,\n",
       " 0,\n",
       " 0,\n",
       " 1,\n",
       " 1,\n",
       " 1,\n",
       " 2,\n",
       " 0,\n",
       " 0,\n",
       " 2,\n",
       " 2,\n",
       " 1,\n",
       " 0,\n",
       " 0,\n",
       " 0,\n",
       " 2,\n",
       " 1,\n",
       " 0,\n",
       " 2,\n",
       " 2,\n",
       " 1,\n",
       " 0,\n",
       " 0,\n",
       " 1,\n",
       " 0,\n",
       " 1,\n",
       " 0,\n",
       " 2,\n",
       " 0,\n",
       " 1,\n",
       " 2,\n",
       " 1,\n",
       " ...]"
      ]
     },
     "execution_count": 15,
     "metadata": {},
     "output_type": "execute_result"
    }
   ],
   "source": [
    "listarray"
   ]
  },
  {
   "cell_type": "markdown",
   "id": "d23ad834",
   "metadata": {},
   "source": [
    "## 그래프 그리기"
   ]
  },
  {
   "cell_type": "code",
   "execution_count": 16,
   "id": "9c562648",
   "metadata": {},
   "outputs": [],
   "source": [
    "train_loss_list = torch.tensor(loss_list)\n",
    "train_acc_list = torch.tensor(acc_list)"
   ]
  },
  {
   "cell_type": "code",
   "execution_count": 17,
   "id": "d4ee5162",
   "metadata": {},
   "outputs": [
    {
     "data": {
      "image/png": "[encoded data removed]",
      "text/plain": [
       "<Figure size 640x480 with 1 Axes>"
      ]
     },
     "metadata": {},
     "output_type": "display_data"
    }
   ],
   "source": [
    "\n",
    "plt.plot(train_loss_list, label='train loss',color='red')\n",
    "plt.xlabel(\"epoch\")\n",
    "plt.ylabel(\"loss\")\n",
    "plt.legend()\n",
    "plt.show()"
   ]
  },
  {
   "cell_type": "code",
   "execution_count": 18,
   "id": "4aae5b1d",
   "metadata": {},
   "outputs": [
    {
     "data": {
      "image/png": "[encoded data removed]",
      "text/plain": [
       "<Figure size 640x480 with 1 Axes>"
      ]
     },
     "metadata": {},
     "output_type": "display_data"
    }
   ],
   "source": [
    "plt.plot(train_acc_list, label='train accuracy',color='blue')\n",
    "plt.xlabel(\"epoch\")\n",
    "plt.ylabel(\"accuracy\")\n",
    "plt.legend()\n",
    "plt.show()"
   ]
  },
  {
   "cell_type": "markdown",
   "id": "c8729997",
   "metadata": {},
   "source": [
    "## Confusion matrix"
   ]
  },
  {
   "cell_type": "code",
   "execution_count": 19,
   "id": "9b46d163",
   "metadata": {},
   "outputs": [
    {
     "data": {
      "image/png": "[encoded data removed]",
      "text/plain": [
       "<Figure size 640x480 with 2 Axes>"
      ]
     },
     "metadata": {},
     "output_type": "display_data"
    }
   ],
   "source": [
    "from sklearn.metrics import confusion_matrix\n",
    "from sklearn.metrics import confusion_matrix, ConfusionMatrixDisplay\n",
    "\n",
    "confusion_matrix(y_test, listarray)\n",
    "\n",
    "cm = confusion_matrix(y_test, listarray, labels=[0,1,2],normalize=\"true\")\n",
    "disp = ConfusionMatrixDisplay(confusion_matrix=cm,display_labels=[0,1,2])\n",
    "disp.plot()\n",
    "plt.show()"
   ]
  },
  {
   "cell_type": "code",
   "execution_count": 20,
   "id": "363d0cec",
   "metadata": {},
   "outputs": [
    {
     "name": "stdout",
     "output_type": "stream",
     "text": [
      "0.916194979023773\n",
      "정확도: 91.6194979023773\n"
     ]
    },
    {
     "name": "stderr",
     "output_type": "stream",
     "text": [
      "C:\\Users\\jaemin\\Anaconda3\\envs\\py38\\lib\\site-packages\\sklearn\\metrics\\_classification.py:1396: UserWarning: Note that pos_label (set to 'positive') is ignored when average != 'binary' (got 'micro'). You may use labels=[pos_label] to specify a single positive class.\n",
      "  warnings.warn(\n"
     ]
    }
   ],
   "source": [
    "from sklearn.metrics import f1_score ## F1 Score 구하기\n",
    "from sklearn.metrics import accuracy_score\n",
    "f1 = f1_score(y_test,listarray,pos_label='positive', average='micro')\n",
    "accuracy_score=accuracy_score(y_test, listarray) * 100\n",
    "print(f1)\n",
    "print(\"정확도: {}\".format(accuracy_score))"
   ]
  },
  {
   "cell_type": "code",
   "execution_count": 21,
   "id": "4015176a",
   "metadata": {},
   "outputs": [
    {
     "name": "stdout",
     "output_type": "stream",
     "text": [
      "SMOTE 적용 후 테스트용 피처/레이블 데이터 세트:  torch.Size([30034, 6]) torch.Size([30034])\n",
      "SMOTE 적용 후 레이블 값 분포: \n",
      " 2    10012\n",
      "0    10011\n",
      "1    10011\n",
      "dtype: int64\n"
     ]
    }
   ],
   "source": [
    "\n",
    "print('SMOTE 적용 후 테스트용 피처/레이블 데이터 세트: ', X_test.shape, y_test.shape)\n",
    "# print('SMOTE 적용 전 레이블 값 분포: \\n', pd.Series(y).value_counts())\n",
    "print('SMOTE 적용 후 레이블 값 분포: \\n', pd.Series(y_test).value_counts())"
   ]
  },
  {
   "cell_type": "code",
   "execution_count": 22,
   "id": "08853eae",
   "metadata": {},
   "outputs": [],
   "source": [
    "from collections import Counter\n",
    "result = Counter(listarray)"
   ]
  },
  {
   "cell_type": "code",
   "execution_count": 23,
   "id": "b2838a20",
   "metadata": {},
   "outputs": [
    {
     "data": {
      "text/plain": [
       "Counter({2: 10180, 0: 9652, 1: 10202})"
      ]
     },
     "execution_count": 23,
     "metadata": {},
     "output_type": "execute_result"
    }
   ],
   "source": [
    "result"
   ]
  },
  {
   "cell_type": "markdown",
   "id": "12e77603",
   "metadata": {},
   "source": [
    "### AUC"
   ]
  },
  {
   "cell_type": "code",
   "execution_count": 24,
   "id": "be9cc77a",
   "metadata": {},
   "outputs": [],
   "source": [
    "from sklearn import preprocessing\n",
    "def multiclass_roc_auc_score(y_test, y_pred, average=\"macro\"):\n",
    "    lb = preprocessing.LabelBinarizer()\n",
    "    lb.fit(y_test)\n",
    "    y_test = lb.transform(y_test)\n",
    "    y_pred = lb.transform(y_pred)\n",
    "    return roc_auc_score(y_test, y_pred, average=average)"
   ]
  },
  {
   "cell_type": "code",
   "execution_count": 25,
   "id": "ef794699",
   "metadata": {},
   "outputs": [
    {
     "name": "stdout",
     "output_type": "stream",
     "text": [
      "roc_auc_score:  0.9371458700027784\n"
     ]
    }
   ],
   "source": [
    "from sklearn.datasets import make_classification\n",
    "from sklearn.metrics import roc_curve, auc, roc_auc_score\n",
    "\n",
    "from sklearn.naive_bayes import GaussianNB\n",
    "from sklearn.multiclass import OneVsRestClassifier\n",
    "from sklearn.preprocessing import label_binarize\n",
    "from sklearn.model_selection import train_test_split\n",
    "import matplotlib.pyplot as plt\n",
    "\n",
    "# make sample data\n",
    "n_classes = 3\n",
    "\n",
    "\n",
    "print(\"roc_auc_score: \", multiclass_roc_auc_score(y_test, listarray))"
   ]
  },
  {
   "cell_type": "code",
   "execution_count": null,
   "id": "5bb91a90",
   "metadata": {},
   "outputs": [],
   "source": []
  },
  {
   "cell_type": "code",
   "execution_count": null,
   "id": "a3550b26",
   "metadata": {},
   "outputs": [],
   "source": []
  },
  {
   "cell_type": "code",
   "execution_count": null,
   "id": "8445e5c4",
   "metadata": {},
   "outputs": [],
   "source": []
  },
  {
   "cell_type": "code",
   "execution_count": null,
   "id": "04e29b17",
   "metadata": {},
   "outputs": [],
   "source": []
  },
  {
   "cell_type": "code",
   "execution_count": null,
   "id": "f7456fe1",
   "metadata": {},
   "outputs": [],
   "source": []
  }
 ],
 "metadata": {
  "kernelspec": {
   "display_name": "Python 3 (ipykernel)",
   "language": "python",
   "name": "python3"
  },
  "language_info": {
   "codemirror_mode": {
    "name": "ipython",
    "version": 3
   },
   "file_extension": ".py",
   "mimetype": "text/x-python",
   "name": "python",
   "nbconvert_exporter": "python",
   "pygments_lexer": "ipython3",
   "version": "3.7.16"
  }
 },
 "nbformat": 4,
 "nbformat_minor": 5
}
