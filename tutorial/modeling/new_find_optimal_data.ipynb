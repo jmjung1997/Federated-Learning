{
 "cells": [
  {
   "cell_type": "code",
   "execution_count": 1,
   "id": "b4fb3f3d",
   "metadata": {},
   "outputs": [],
   "source": [
    "import pandas as pd"
   ]
  },
  {
   "cell_type": "code",
   "execution_count": 2,
   "id": "b4b3625b",
   "metadata": {},
   "outputs": [],
   "source": [
    "import pandas as pd\n",
    "import numpy as np\n",
    "import torch\n",
    "import torch.nn as nn\n",
    "from sklearn.preprocessing import MinMaxScaler\n",
    "from tensorflow.python.keras.models import Sequential\n",
    "from tensorflow.python.keras.layers import Dense,Dropout,Activation\n",
    "from torch.utils.data import TensorDataset, DataLoader\n",
    "from tensorflow.python.keras import metrics\n",
    "from tensorflow.python import keras\n",
    "import tensorflow as tf\n",
    "import matplotlib.pyplot as plt\n",
    "from imblearn.over_sampling import SMOTE"
   ]
  },
  {
   "cell_type": "code",
   "execution_count": 3,
   "id": "b285fe8e",
   "metadata": {},
   "outputs": [],
   "source": [
    "df_weight=pd.read_excel('./modeling_data/Data_2Weeks.xlsx',sheet_name='Weight')\n",
    "df_step=pd.read_excel('./modeling_data/Data_2Weeks.xlsx',sheet_name='Step_Count')\n",
    "df_burn=pd.read_excel('./modeling_data/Data_2Weeks.xlsx',sheet_name='Burned_Calorie')\n",
    "df_eat=pd.read_excel('./modeling_data/Data_2Weeks.xlsx',sheet_name='Eat_Calorie')\n",
    "df_sleep=pd.read_excel('./modeling_data/Data_2Weeks.xlsx',sheet_name='Sleep_Time')\n",
    "df_BMI=pd.read_excel('./modeling_data/Data_2Weeks.xlsx',sheet_name='BMI')\n",
    "df_height=pd.read_excel('./modeling_data/Data_2Weeks.xlsx',sheet_name='Height')"
   ]
  },
  {
   "cell_type": "code",
   "execution_count": 4,
   "id": "392aeeeb",
   "metadata": {},
   "outputs": [],
   "source": [
    "#ID 정보 엑셀 읽기\n",
    "df_ID=pd.read_excel('./modeling_data/ID.xlsx',sheet_name='ID')\n",
    "ID=df_ID['ID']"
   ]
  },
  {
   "cell_type": "code",
   "execution_count": 5,
   "id": "3c56d2d7",
   "metadata": {},
   "outputs": [],
   "source": [
    "Countdf=9 # 읽는 df 개수 + 2(이름, 라벨)\n",
    "cols=len(df_ID)*(len(df_ID.columns)-1)"
   ]
  },
  {
   "cell_type": "code",
   "execution_count": 6,
   "id": "5b8c614c",
   "metadata": {},
   "outputs": [],
   "source": [
    "df_for_write_array_temp=[[0 for j in range(Countdf)] for i in range(cols)]"
   ]
  },
  {
   "cell_type": "code",
   "execution_count": 7,
   "id": "8ed3b531",
   "metadata": {},
   "outputs": [],
   "source": [
    "df_for_write_array_temp\n",
    "\n",
    "for i in range(len(ID)):\n",
    "    for j in range(len(df_ID.columns)-1):\n",
    "        df_for_write_array_temp[i*84+j][0]=ID[i]\n",
    "        df_for_write_array_temp[i*84+j][1]=df_weight[ID[i]][j]\n",
    "        df_for_write_array_temp[i*84+j][2]=df_BMI[ID[i]][j]\n",
    "        df_for_write_array_temp[i*84+j][3]=df_step[ID[i]][j]\n",
    "        df_for_write_array_temp[i*84+j][4]=df_burn[ID[i]][j]\n",
    "        df_for_write_array_temp[i*84+j][5]=df_eat[ID[i]][j]\n",
    "        df_for_write_array_temp[i*84+j][6]=df_sleep[ID[i]][j]\n",
    "        df_for_write_array_temp[i*84+j][7]=df_height[ID[i]][j]"
   ]
  },
  {
   "cell_type": "code",
   "execution_count": 8,
   "id": "eb90ffd6",
   "metadata": {},
   "outputs": [],
   "source": [
    "df_for_write_array_temp"
   ]
  },
  {
   "cell_type": "markdown",
   "id": "06eb550c",
   "metadata": {},
   "source": [
    "### (total-average_days)/term+1= ID record 갯수가 나온다. "
   ]
  },
  {
   "cell_type": "code",
   "execution_count": 11,
   "id": "bebff37d",
   "metadata": {},
   "outputs": [],
   "source": [
    "avg_day=[]\n",
    "term_day=[]\n",
    "record_day=[]\n",
    "for i in range(1,84):\n",
    "    for j in range(1,84):\n",
    "        total=84  #한원래 ID당 Total 갯수\n",
    "        average_days=j #평균치로 나눈 날짜 기간을 정한다.\n",
    "        term=i  #index 날짜의 term기간을 정한다. \n",
    "        if(j>=i):\n",
    "            if (total-average_days)%term!=0:\n",
    "                continue\n",
    "            else:\n",
    "                avg_day.append(j)\n",
    "                term_day.append(i)\n",
    "                record=int((total-average_days)/term+1)\n",
    "                record_day.append(record)\n",
    "                print('average_days: {0}, term: {1}, record:{2}' .format(avg_day[-1], term_day[-1],record_day[-1]))"
   ]
  },
  {
   "cell_type": "code",
   "execution_count": 22,
   "id": "526d3fef",
   "metadata": {},
   "outputs": [],
   "source": [
    "for k,m,record in zip(avg_day,term_day,record_day):   \n",
    "    total=84  #한원래 ID당 Total 갯수\n",
    "    average_days=k #평균치로 나눈 날짜 기간을 정한다.\n",
    "    term=m  #index 날짜의 term기간을 정한다.\n",
    "#     if (total-average_days)%term!=0:\n",
    "#         print(\"average_days와 term를 다시 조정해주세요\")\n",
    "#     else:\n",
    "#         record=int((total-average_days)/term+1)\n",
    "\n",
    "    def sum_columns(array,index1,index2):\n",
    "        sum=0\n",
    "        for i in range(average_days):\n",
    "            # print(\"index1 : \",index1,\"index2+i\",index2+i)\n",
    "            sum=sum+array[index1+i][index2]\n",
    "        return sum/average_days\n",
    "\n",
    "\n",
    "\n",
    "    def label(weight_preday, weight_lastday):\n",
    "        if(weight_preday > weight_lastday):\n",
    "            return 2\n",
    "        elif (weight_preday < weight_lastday):\n",
    "            return 1\n",
    "        elif weight_preday==weight_lastday:              \n",
    "            return 0\n",
    "\n",
    "    df_for_write_array=[[0 for j in range(Countdf)] for i in range(record*len(ID))]\n",
    "\n",
    "    for j in range(322):\n",
    "        for i in range(0,84):  # 0~83\n",
    "            if ((i*term)>=((total-average_days)+term)):\n",
    "                break\n",
    "            df_for_write_array[record*j+i][0] = df_for_write_array_temp[total * j + i][0]  # ID\n",
    "            print(j,i,record*j+i,total*j+i)\n",
    "            df_for_write_array[record*j+i][1] = sum_columns(df_for_write_array_temp, total * j + i*term, 1)  # weight\n",
    "            df_for_write_array[record*j+i][2] = sum_columns(df_for_write_array_temp, total * j + i*term, 2)  # BMI\n",
    "            df_for_write_array[record*j+i][3] = sum_columns(df_for_write_array_temp, total * j + i*term, 3)  # step\n",
    "            df_for_write_array[record*j+i][4] = sum_columns(df_for_write_array_temp, total * j + i*term, 4)  # burn\n",
    "            df_for_write_array[record*j+i][5] = sum_columns(df_for_write_array_temp, total * j + i*term, 5)  # eat\n",
    "            df_for_write_array[record*j+i][6] = sum_columns(df_for_write_array_temp, total * j + i*term, 6)  # sleep\n",
    "            df_for_write_array[record*j+i][7] = sum_columns(df_for_write_array_temp, total * j + i*term, 7)  # height\n",
    "            if(i!=0):\n",
    "                df_for_write_array[record*j+i][8] = label(df_for_write_array[record*j+i-1][1], df_for_write_array[record*j+i][1])\n",
    "            else:\n",
    "                df_for_write_array[record*j+i][8] = 0\n",
    "\n",
    "    #엑셀에 쓰는 부분\n",
    "    df_for_write=pd.DataFrame(df_for_write_array)\n",
    "    df_for_write.to_excel(\"./optimal_data/Continous_2weeks_{}day_{}term.xlsx\".format(average_days,term),sheet_name=\"Data\",index=False)\n",
    "    df_for_write_array=[]"
   ]
  },
  {
   "cell_type": "markdown",
   "id": "e16535a6",
   "metadata": {},
   "source": [
    "### DNN 모델 학습하기 "
   ]
  },
  {
   "cell_type": "code",
   "execution_count": 1,
   "id": "f63a9052",
   "metadata": {},
   "outputs": [],
   "source": [
    "import torch\n",
    "\n",
    "USE_CUDA = torch.cuda.is_available()\n",
    "print(USE_CUDA)\n",
    "\n",
    "device = torch.device('cuda:0' if USE_CUDA else 'cpu')\n",
    "print('학습을 진행하는 기기:',device)"
   ]
  },
  {
   "cell_type": "code",
   "execution_count": 2,
   "id": "d278c545",
   "metadata": {},
   "outputs": [],
   "source": [
    "print('cuda index:', torch.cuda.current_device())\n",
    "\n",
    "print('gpu 개수:', torch.cuda.device_count())\n",
    "\n",
    "print('graphic name:', torch.cuda.get_device_name())\n",
    "\n",
    "cuda = torch.device('cuda')\n",
    "\n",
    "print(cuda)"
   ]
  },
  {
   "cell_type": "code",
   "execution_count": null,
   "id": "7e08e4b4",
   "metadata": {},
   "outputs": [],
   "source": []
  }
 ],
 "metadata": {
  "kernelspec": {
   "display_name": "Python 3 (ipykernel)",
   "language": "python",
   "name": "python3"
  },
  "language_info": {
   "codemirror_mode": {
    "name": "ipython",
    "version": 3
   },
   "file_extension": ".py",
   "mimetype": "text/x-python",
   "name": "python",
   "nbconvert_exporter": "python",
   "pygments_lexer": "ipython3",
   "version": "3.7.16"
  }
 },
 "nbformat": 4,
 "nbformat_minor": 1
}
