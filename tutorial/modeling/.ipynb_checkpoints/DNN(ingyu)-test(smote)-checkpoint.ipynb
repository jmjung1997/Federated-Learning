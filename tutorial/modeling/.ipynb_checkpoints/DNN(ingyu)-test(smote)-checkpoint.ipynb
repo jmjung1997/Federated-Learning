{
 "cells": [
  {
   "cell_type": "code",
   "execution_count": 1,
   "id": "2391e334",
   "metadata": {},
   "outputs": [],
   "source": [
    "import pandas as pd\n",
    "import numpy as np\n",
    "from sklearn.preprocessing import MinMaxScaler\n",
    "from tensorflow.python.keras.models import Sequential\n",
    "from tensorflow.python.keras.layers import Dense,Dropout,Activation\n",
    "from tensorflow.python.keras import metrics\n",
    "from tensorflow.python import keras\n",
    "import tensorflow as tf\n",
    "import matplotlib.pyplot as plt\n",
    "from imblearn.over_sampling import SMOTE"
   ]
  },
  {
   "cell_type": "markdown",
   "id": "1ad7c1c5",
   "metadata": {},
   "source": [
    "# 파일읽기"
   ]
  },
  {
   "cell_type": "code",
   "execution_count": 2,
   "id": "f4e11779",
   "metadata": {},
   "outputs": [],
   "source": [
    "df=pd.read_excel('./modeling_data/2Weeks_data.xlsx')"
   ]
  },
  {
   "cell_type": "markdown",
   "id": "0d7427da",
   "metadata": {},
   "source": [
    "# 데이터를 필요한 부분으로 X, Y 나눠 읽어오기"
   ]
  },
  {
   "cell_type": "code",
   "execution_count": 3,
   "id": "67abaa12",
   "metadata": {},
   "outputs": [],
   "source": [
    "X=df.iloc[:,2:8]\n",
    "y_origin=df['Label']\n",
    "# y=df['Label']\n",
    "y=pd.get_dummies(df['Label'])"
   ]
  },
  {
   "cell_type": "markdown",
   "id": "c4118207",
   "metadata": {},
   "source": [
    "# train, test, validation set 으로 데이터 나누기"
   ]
  },
  {
   "cell_type": "code",
   "execution_count": 4,
   "id": "74280645",
   "metadata": {},
   "outputs": [],
   "source": [
    "#Scaling\n",
    "ms=MinMaxScaler()\n",
    "X=ms.fit_transform(X)\n",
    "\n",
    "# 데이터 train, vali, test 6:2:2\n",
    "train_x=X[:1163]\n",
    "val_x=X[1163:1548]\n",
    "test_x=X[1548:]\n",
    "\n",
    "train_y=y[:1163]\n",
    "val_y=y[1163:1548]\n",
    "test_y=y[1548:]\n",
    "\n",
    "train_y=train_y.to_numpy()\n",
    "val_y=val_y.to_numpy()\n",
    "test_y=test_y.to_numpy()"
   ]
  },
  {
   "cell_type": "code",
   "execution_count": 5,
   "id": "2c238ed0",
   "metadata": {},
   "outputs": [],
   "source": [
    "smote = SMOTE(random_state=0)\n",
    "train_x,train_y = smote.fit_resample(train_x,train_y)\n",
    "\n",
    "smote_test = SMOTE(random_state=0)\n",
    "test_x,test_y = smote_test.fit_resample(test_x,test_y)\n",
    "# print('SMOTE 적용 전 학습용 피처/레이블 데이터 세트: ', train_x.shape, train_y.shape)\n",
    "# print('SMOTE 적용 후 학습용 피처/레이블 데이터 세트: ', train_x2.shape, train_y2.shape)\n",
    "# print('SMOTE 적용 전 레이블 값 분포: \\n', pd.Series(train_y).value_counts())\n",
    "# print('SMOTE 적용 후 레이블 값 분포: \\n', pd.Series(train_y2).value_counts())"
   ]
  },
  {
   "cell_type": "markdown",
   "id": "5bbff9b7",
   "metadata": {},
   "source": [
    "# 모델\n",
    "\n",
    "## Deep Neural Network\n",
    "\n",
    "## Input Layer : None ,6\n",
    "\n",
    "## Hidden Layer : 128 - 256 - 128\n",
    "\n",
    "## optimizer : adam, loss : categorical_crossentropy"
   ]
  },
  {
   "cell_type": "code",
   "execution_count": 6,
   "id": "f916abcf",
   "metadata": {},
   "outputs": [
    {
     "name": "stdout",
     "output_type": "stream",
     "text": [
      "Epoch 1/100\n",
      "526/526 [==============================] - 1s 1ms/step - loss: 1.0273 - accuracy: 0.4691 - val_loss: 1.1036 - val_accuracy: 0.4909\n",
      "Epoch 2/100\n",
      "526/526 [==============================] - 0s 859us/step - loss: 0.9229 - accuracy: 0.5630 - val_loss: 0.9490 - val_accuracy: 0.4753\n",
      "Epoch 3/100\n",
      "526/526 [==============================] - 0s 832us/step - loss: 0.8727 - accuracy: 0.5953 - val_loss: 0.7838 - val_accuracy: 0.6208\n",
      "Epoch 4/100\n",
      "526/526 [==============================] - 0s 850us/step - loss: 0.8220 - accuracy: 0.6254 - val_loss: 0.9668 - val_accuracy: 0.5169\n",
      "Epoch 5/100\n",
      "526/526 [==============================] - 0s 852us/step - loss: 0.7352 - accuracy: 0.6816 - val_loss: 0.8514 - val_accuracy: 0.5896\n",
      "Epoch 6/100\n",
      "526/526 [==============================] - 0s 852us/step - loss: 0.6774 - accuracy: 0.7101 - val_loss: 0.9169 - val_accuracy: 0.5429\n",
      "Epoch 7/100\n",
      "526/526 [==============================] - 0s 863us/step - loss: 0.6260 - accuracy: 0.7310 - val_loss: 1.2715 - val_accuracy: 0.4234\n",
      "Epoch 8/100\n",
      "526/526 [==============================] - 0s 842us/step - loss: 0.5978 - accuracy: 0.7529 - val_loss: 0.8925 - val_accuracy: 0.6182\n",
      "Epoch 9/100\n",
      "526/526 [==============================] - 0s 852us/step - loss: 0.5565 - accuracy: 0.7653 - val_loss: 0.9010 - val_accuracy: 0.6338\n",
      "Epoch 10/100\n",
      "526/526 [==============================] - 0s 842us/step - loss: 0.5184 - accuracy: 0.7859 - val_loss: 1.0274 - val_accuracy: 0.6260\n",
      "Epoch 11/100\n",
      "526/526 [==============================] - 0s 855us/step - loss: 0.4959 - accuracy: 0.7945 - val_loss: 0.9729 - val_accuracy: 0.6675\n",
      "Epoch 12/100\n",
      "526/526 [==============================] - 0s 840us/step - loss: 0.4694 - accuracy: 0.8069 - val_loss: 1.2222 - val_accuracy: 0.5792\n",
      "Epoch 13/100\n",
      "526/526 [==============================] - 0s 856us/step - loss: 0.4448 - accuracy: 0.8252 - val_loss: 1.2213 - val_accuracy: 0.5948\n",
      "Epoch 14/100\n",
      "526/526 [==============================] - 0s 869us/step - loss: 0.4333 - accuracy: 0.8259 - val_loss: 1.0645 - val_accuracy: 0.6779\n",
      "Epoch 15/100\n",
      "526/526 [==============================] - 0s 895us/step - loss: 0.4251 - accuracy: 0.8271 - val_loss: 1.2117 - val_accuracy: 0.6416\n",
      "Epoch 16/100\n",
      "526/526 [==============================] - 0s 893us/step - loss: 0.4033 - accuracy: 0.8332 - val_loss: 1.1534 - val_accuracy: 0.6805\n",
      "Epoch 17/100\n",
      "526/526 [==============================] - 0s 890us/step - loss: 0.4043 - accuracy: 0.8341 - val_loss: 1.2704 - val_accuracy: 0.6571\n",
      "Epoch 18/100\n",
      "526/526 [==============================] - 0s 878us/step - loss: 0.3848 - accuracy: 0.8440 - val_loss: 1.2857 - val_accuracy: 0.6753\n",
      "Epoch 19/100\n",
      "526/526 [==============================] - 0s 880us/step - loss: 0.3711 - accuracy: 0.8490 - val_loss: 1.1437 - val_accuracy: 0.7351\n",
      "Epoch 20/100\n",
      "526/526 [==============================] - 0s 897us/step - loss: 0.3706 - accuracy: 0.8497 - val_loss: 1.2177 - val_accuracy: 0.6675\n",
      "Epoch 21/100\n",
      "526/526 [==============================] - 0s 884us/step - loss: 0.3666 - accuracy: 0.8528 - val_loss: 1.2937 - val_accuracy: 0.6701\n",
      "Epoch 22/100\n",
      "526/526 [==============================] - 0s 891us/step - loss: 0.3532 - accuracy: 0.8579 - val_loss: 1.2546 - val_accuracy: 0.6987\n",
      "Epoch 23/100\n",
      "526/526 [==============================] - 0s 876us/step - loss: 0.3438 - accuracy: 0.8579 - val_loss: 1.4026 - val_accuracy: 0.6571\n",
      "Epoch 24/100\n",
      "526/526 [==============================] - 0s 886us/step - loss: 0.3474 - accuracy: 0.8595 - val_loss: 1.2996 - val_accuracy: 0.6468\n",
      "Epoch 25/100\n",
      "526/526 [==============================] - 0s 879us/step - loss: 0.3310 - accuracy: 0.8668 - val_loss: 1.3344 - val_accuracy: 0.6727\n",
      "Epoch 26/100\n",
      "526/526 [==============================] - 0s 884us/step - loss: 0.3376 - accuracy: 0.8582 - val_loss: 1.5000 - val_accuracy: 0.5922\n",
      "Epoch 27/100\n",
      "526/526 [==============================] - 0s 876us/step - loss: 0.3300 - accuracy: 0.8719 - val_loss: 1.2861 - val_accuracy: 0.7247\n",
      "Epoch 28/100\n",
      "526/526 [==============================] - 0s 871us/step - loss: 0.3211 - accuracy: 0.8754 - val_loss: 1.5093 - val_accuracy: 0.6442\n",
      "Epoch 29/100\n",
      "526/526 [==============================] - 0s 882us/step - loss: 0.3302 - accuracy: 0.8652 - val_loss: 1.5093 - val_accuracy: 0.6545\n",
      "Epoch 30/100\n",
      "526/526 [==============================] - 0s 874us/step - loss: 0.3104 - accuracy: 0.8738 - val_loss: 1.5071 - val_accuracy: 0.6545\n",
      "Epoch 31/100\n",
      "526/526 [==============================] - 0s 894us/step - loss: 0.3201 - accuracy: 0.8719 - val_loss: 1.4923 - val_accuracy: 0.6519\n",
      "Epoch 32/100\n",
      "526/526 [==============================] - 0s 886us/step - loss: 0.3018 - accuracy: 0.8833 - val_loss: 1.5474 - val_accuracy: 0.6364\n",
      "Epoch 33/100\n",
      "526/526 [==============================] - 0s 886us/step - loss: 0.2986 - accuracy: 0.8807 - val_loss: 1.5264 - val_accuracy: 0.6649\n",
      "Epoch 34/100\n",
      "526/526 [==============================] - 0s 894us/step - loss: 0.2944 - accuracy: 0.8836 - val_loss: 1.4809 - val_accuracy: 0.6701\n",
      "Epoch 35/100\n",
      "526/526 [==============================] - 0s 873us/step - loss: 0.2955 - accuracy: 0.8839 - val_loss: 1.6235 - val_accuracy: 0.6805\n",
      "Epoch 36/100\n",
      "526/526 [==============================] - 0s 863us/step - loss: 0.2885 - accuracy: 0.8798 - val_loss: 1.5288 - val_accuracy: 0.6779\n",
      "Epoch 37/100\n",
      "526/526 [==============================] - 0s 863us/step - loss: 0.2853 - accuracy: 0.8807 - val_loss: 1.4913 - val_accuracy: 0.7455\n",
      "Epoch 38/100\n",
      "526/526 [==============================] - 0s 861us/step - loss: 0.2769 - accuracy: 0.8868 - val_loss: 1.5960 - val_accuracy: 0.6753\n",
      "Epoch 39/100\n",
      "526/526 [==============================] - 0s 873us/step - loss: 0.2773 - accuracy: 0.8877 - val_loss: 1.6581 - val_accuracy: 0.6831\n",
      "Epoch 40/100\n",
      "526/526 [==============================] - 0s 880us/step - loss: 0.2614 - accuracy: 0.8903 - val_loss: 1.5402 - val_accuracy: 0.7506\n",
      "Epoch 41/100\n",
      "526/526 [==============================] - 0s 855us/step - loss: 0.2616 - accuracy: 0.8918 - val_loss: 1.8863 - val_accuracy: 0.6442\n",
      "Epoch 42/100\n",
      "526/526 [==============================] - 0s 863us/step - loss: 0.2687 - accuracy: 0.8918 - val_loss: 1.6475 - val_accuracy: 0.7013\n",
      "Epoch 43/100\n",
      "526/526 [==============================] - 0s 857us/step - loss: 0.2580 - accuracy: 0.8972 - val_loss: 1.8775 - val_accuracy: 0.6364\n",
      "Epoch 44/100\n",
      "526/526 [==============================] - 0s 863us/step - loss: 0.2640 - accuracy: 0.8960 - val_loss: 1.8239 - val_accuracy: 0.6701\n",
      "Epoch 45/100\n",
      "526/526 [==============================] - 0s 856us/step - loss: 0.2654 - accuracy: 0.8915 - val_loss: 1.7070 - val_accuracy: 0.6623\n",
      "Epoch 46/100\n",
      "526/526 [==============================] - ETA: 0s - loss: 0.2584 - accuracy: 0.89 - 0s 865us/step - loss: 0.2568 - accuracy: 0.8966 - val_loss: 1.7372 - val_accuracy: 0.7065\n",
      "Epoch 47/100\n",
      "526/526 [==============================] - 1s 983us/step - loss: 0.2552 - accuracy: 0.8925 - val_loss: 1.7252 - val_accuracy: 0.6779\n",
      "Epoch 48/100\n",
      "526/526 [==============================] - 0s 943us/step - loss: 0.2533 - accuracy: 0.8960 - val_loss: 1.8677 - val_accuracy: 0.6130\n",
      "Epoch 49/100\n",
      "526/526 [==============================] - 0s 903us/step - loss: 0.2406 - accuracy: 0.9049 - val_loss: 1.9212 - val_accuracy: 0.6753\n",
      "Epoch 50/100\n",
      "526/526 [==============================] - 1s 958us/step - loss: 0.2358 - accuracy: 0.9033 - val_loss: 1.8792 - val_accuracy: 0.6571\n",
      "Epoch 51/100\n",
      "526/526 [==============================] - 1s 951us/step - loss: 0.2531 - accuracy: 0.9007 - val_loss: 1.7110 - val_accuracy: 0.6987\n",
      "Epoch 52/100\n",
      "526/526 [==============================] - 0s 941us/step - loss: 0.2321 - accuracy: 0.9106 - val_loss: 1.8897 - val_accuracy: 0.6883\n",
      "Epoch 53/100\n",
      "526/526 [==============================] - 1s 953us/step - loss: 0.2611 - accuracy: 0.8887 - val_loss: 1.6726 - val_accuracy: 0.7455\n",
      "Epoch 54/100\n",
      "526/526 [==============================] - 0s 931us/step - loss: 0.2207 - accuracy: 0.9087 - val_loss: 1.7874 - val_accuracy: 0.7169\n",
      "Epoch 55/100\n",
      "526/526 [==============================] - 0s 867us/step - loss: 0.2250 - accuracy: 0.9036 - val_loss: 1.9447 - val_accuracy: 0.6805\n",
      "Epoch 56/100\n",
      "526/526 [==============================] - 0s 882us/step - loss: 0.2287 - accuracy: 0.9077 - val_loss: 1.8525 - val_accuracy: 0.7091\n"
     ]
    },
    {
     "name": "stdout",
     "output_type": "stream",
     "text": [
      "Epoch 57/100\n",
      "526/526 [==============================] - 0s 897us/step - loss: 0.2454 - accuracy: 0.9007 - val_loss: 2.2230 - val_accuracy: 0.6104\n",
      "Epoch 58/100\n",
      "526/526 [==============================] - 0s 888us/step - loss: 0.2193 - accuracy: 0.9064 - val_loss: 1.9861 - val_accuracy: 0.6883\n",
      "Epoch 59/100\n",
      "526/526 [==============================] - 0s 903us/step - loss: 0.2200 - accuracy: 0.9102 - val_loss: 2.0190 - val_accuracy: 0.7221\n",
      "Epoch 60/100\n",
      "526/526 [==============================] - 0s 886us/step - loss: 0.2387 - accuracy: 0.9029 - val_loss: 1.9093 - val_accuracy: 0.6857\n",
      "Epoch 61/100\n",
      "526/526 [==============================] - 0s 880us/step - loss: 0.2158 - accuracy: 0.9144 - val_loss: 2.1042 - val_accuracy: 0.6935\n",
      "Epoch 62/100\n",
      "526/526 [==============================] - 0s 867us/step - loss: 0.2187 - accuracy: 0.9087 - val_loss: 1.8704 - val_accuracy: 0.6987\n",
      "Epoch 63/100\n",
      "526/526 [==============================] - 0s 859us/step - loss: 0.2136 - accuracy: 0.9166 - val_loss: 1.8577 - val_accuracy: 0.6857\n",
      "Epoch 64/100\n",
      "526/526 [==============================] - 0s 857us/step - loss: 0.2241 - accuracy: 0.9029 - val_loss: 2.0946 - val_accuracy: 0.6831\n",
      "Epoch 65/100\n",
      "526/526 [==============================] - 0s 869us/step - loss: 0.2052 - accuracy: 0.9115 - val_loss: 2.2173 - val_accuracy: 0.6831\n",
      "Epoch 66/100\n",
      "526/526 [==============================] - 0s 861us/step - loss: 0.2266 - accuracy: 0.9080 - val_loss: 1.9896 - val_accuracy: 0.7169\n",
      "Epoch 67/100\n",
      "526/526 [==============================] - 0s 863us/step - loss: 0.2176 - accuracy: 0.9109 - val_loss: 2.0331 - val_accuracy: 0.6935\n",
      "Epoch 68/100\n",
      "526/526 [==============================] - 0s 859us/step - loss: 0.2205 - accuracy: 0.9102 - val_loss: 1.9367 - val_accuracy: 0.7091\n",
      "Epoch 69/100\n",
      "526/526 [==============================] - 0s 861us/step - loss: 0.1998 - accuracy: 0.9207 - val_loss: 2.0001 - val_accuracy: 0.7273\n",
      "Epoch 70/100\n",
      "526/526 [==============================] - 0s 876us/step - loss: 0.2286 - accuracy: 0.9109 - val_loss: 1.8985 - val_accuracy: 0.7247\n",
      "Epoch 71/100\n",
      "526/526 [==============================] - 0s 866us/step - loss: 0.2062 - accuracy: 0.9150 - val_loss: 2.1172 - val_accuracy: 0.6831\n",
      "Epoch 72/100\n",
      "526/526 [==============================] - 0s 867us/step - loss: 0.2001 - accuracy: 0.9144 - val_loss: 2.2305 - val_accuracy: 0.6831\n",
      "Epoch 73/100\n",
      "526/526 [==============================] - 0s 874us/step - loss: 0.2081 - accuracy: 0.9141 - val_loss: 2.1124 - val_accuracy: 0.7558\n",
      "Epoch 74/100\n",
      "526/526 [==============================] - 0s 869us/step - loss: 0.1936 - accuracy: 0.9198 - val_loss: 2.2882 - val_accuracy: 0.6883\n",
      "Epoch 75/100\n",
      "526/526 [==============================] - 0s 871us/step - loss: 0.2005 - accuracy: 0.9172 - val_loss: 2.2823 - val_accuracy: 0.6571\n",
      "Epoch 76/100\n",
      "526/526 [==============================] - 0s 854us/step - loss: 0.1935 - accuracy: 0.9185 - val_loss: 2.1675 - val_accuracy: 0.7039\n",
      "Epoch 77/100\n",
      "526/526 [==============================] - 0s 850us/step - loss: 0.1970 - accuracy: 0.9210 - val_loss: 2.1405 - val_accuracy: 0.7325\n",
      "Epoch 78/100\n",
      "526/526 [==============================] - 0s 855us/step - loss: 0.1985 - accuracy: 0.9204 - val_loss: 2.3282 - val_accuracy: 0.7013\n",
      "Epoch 79/100\n",
      "526/526 [==============================] - 0s 855us/step - loss: 0.1988 - accuracy: 0.9198 - val_loss: 2.0808 - val_accuracy: 0.7065\n",
      "Epoch 80/100\n",
      "526/526 [==============================] - 0s 863us/step - loss: 0.2017 - accuracy: 0.9226 - val_loss: 2.1085 - val_accuracy: 0.7325\n",
      "Epoch 81/100\n",
      "526/526 [==============================] - 0s 854us/step - loss: 0.1849 - accuracy: 0.9271 - val_loss: 2.1957 - val_accuracy: 0.7273\n",
      "Epoch 82/100\n",
      "526/526 [==============================] - 0s 865us/step - loss: 0.1938 - accuracy: 0.9188 - val_loss: 2.1211 - val_accuracy: 0.7325\n",
      "Epoch 83/100\n",
      "526/526 [==============================] - 0s 876us/step - loss: 0.1949 - accuracy: 0.9191 - val_loss: 2.3387 - val_accuracy: 0.6701\n",
      "Epoch 84/100\n",
      "526/526 [==============================] - 0s 878us/step - loss: 0.1815 - accuracy: 0.9293 - val_loss: 2.2632 - val_accuracy: 0.7169\n",
      "Epoch 85/100\n",
      "526/526 [==============================] - 0s 878us/step - loss: 0.2006 - accuracy: 0.9232 - val_loss: 2.2337 - val_accuracy: 0.7169\n",
      "Epoch 86/100\n",
      "526/526 [==============================] - 0s 884us/step - loss: 0.2002 - accuracy: 0.9185 - val_loss: 2.3471 - val_accuracy: 0.6987\n",
      "Epoch 87/100\n",
      "526/526 [==============================] - 0s 871us/step - loss: 0.1902 - accuracy: 0.9239 - val_loss: 2.3086 - val_accuracy: 0.7013\n",
      "Epoch 88/100\n",
      "526/526 [==============================] - 0s 863us/step - loss: 0.1728 - accuracy: 0.9309 - val_loss: 2.4913 - val_accuracy: 0.6675\n",
      "Epoch 89/100\n",
      "526/526 [==============================] - 0s 870us/step - loss: 0.1910 - accuracy: 0.9217 - val_loss: 2.2173 - val_accuracy: 0.7532\n",
      "Epoch 90/100\n",
      "526/526 [==============================] - 0s 867us/step - loss: 0.1818 - accuracy: 0.9226 - val_loss: 2.3539 - val_accuracy: 0.7013\n",
      "Epoch 91/100\n",
      "526/526 [==============================] - 0s 876us/step - loss: 0.1746 - accuracy: 0.9277 - val_loss: 2.3291 - val_accuracy: 0.7455\n",
      "Epoch 92/100\n",
      "526/526 [==============================] - 0s 874us/step - loss: 0.1802 - accuracy: 0.9305 - val_loss: 2.3375 - val_accuracy: 0.7299\n",
      "Epoch 93/100\n",
      "526/526 [==============================] - 0s 863us/step - loss: 0.1775 - accuracy: 0.9290 - val_loss: 2.4489 - val_accuracy: 0.7195\n",
      "Epoch 94/100\n",
      "526/526 [==============================] - 0s 869us/step - loss: 0.1825 - accuracy: 0.9236 - val_loss: 2.2085 - val_accuracy: 0.7506\n",
      "Epoch 95/100\n",
      "526/526 [==============================] - 0s 866us/step - loss: 0.1861 - accuracy: 0.9255 - val_loss: 2.5839 - val_accuracy: 0.6805\n",
      "Epoch 96/100\n",
      "526/526 [==============================] - 0s 865us/step - loss: 0.1626 - accuracy: 0.9372 - val_loss: 2.5261 - val_accuracy: 0.7351\n",
      "Epoch 97/100\n",
      "526/526 [==============================] - 0s 873us/step - loss: 0.1692 - accuracy: 0.9328 - val_loss: 2.4172 - val_accuracy: 0.7091\n",
      "Epoch 98/100\n",
      "526/526 [==============================] - 0s 871us/step - loss: 0.2122 - accuracy: 0.9153 - val_loss: 2.1619 - val_accuracy: 0.7455\n",
      "Epoch 99/100\n",
      "526/526 [==============================] - 0s 861us/step - loss: 0.1616 - accuracy: 0.9315 - val_loss: 2.3501 - val_accuracy: 0.7506\n",
      "Epoch 100/100\n",
      "526/526 [==============================] - 0s 859us/step - loss: 0.1666 - accuracy: 0.9328 - val_loss: 2.3481 - val_accuracy: 0.7325\n",
      "34/34 [==============================] - 0s 606us/step - loss: 7.0563 - accuracy: 0.4727\n"
     ]
    }
   ],
   "source": [
    "model = keras.Sequential([\n",
    "    keras.layers.Flatten(input_shape=(6,)),\n",
    "    keras.layers.Dense(128, activation=tf.nn.relu),\n",
    "\tkeras.layers.Dense(256, activation=tf.nn.relu),\n",
    "    keras.layers.Dense(128, activation=tf.nn.relu),\n",
    "\tkeras.layers.Dense(3, activation=tf.nn.softmax),\n",
    "])\n",
    "\n",
    "model.compile(optimizer='adam',\n",
    "              loss='categorical_crossentropy',\n",
    "              metrics=['accuracy'])\n",
    "\n",
    "history=model.fit(train_x, train_y, epochs=100,validation_data=(val_x, val_y), batch_size=6)\n",
    "\n",
    "predicted=model.predict(test_x)\n",
    "test_loss, test_acc = model.evaluate(test_x, test_y)"
   ]
  },
  {
   "cell_type": "markdown",
   "id": "43669dae",
   "metadata": {},
   "source": [
    "# 예측 정확도를 계산하는 부분"
   ]
  },
  {
   "cell_type": "code",
   "execution_count": 7,
   "id": "641dfa2f",
   "metadata": {},
   "outputs": [],
   "source": [
    "count=0\n",
    "predicted_plot=[]\n",
    "correct_plot=[]\n",
    "\n",
    "count_array=[0 for j in range(3)]\n",
    "\n",
    "predicted_result=[0 for j in range(len(test_y))]\n",
    "for i in range(len(test_y)):\n",
    "    maxIndex=tf.argmax(predicted[i])\n",
    "    predicted_plot.append(maxIndex-1)\n",
    "    #     print(type(maxIndex.numpy().item()))\n",
    "    index=0\n",
    "    if(y_origin[i]==-1):\n",
    "        index=0 \n",
    "    elif y_origin[i]==0:\n",
    "        index=1\n",
    "    elif y_origin[i]==1:\n",
    "        index=2\n",
    "    predicted_result[i]=index-1\n",
    "    if index==maxIndex.numpy().item():\n",
    "        count=count+1\n",
    "        count_array[index]=count_array[index]+1"
   ]
  },
  {
   "cell_type": "code",
   "execution_count": 8,
   "id": "a73aa979",
   "metadata": {},
   "outputs": [
    {
     "data": {
      "text/plain": [
       "array([[9.1372913e-01, 8.6268798e-02, 2.0966750e-06],\n",
       "       [9.8076564e-01, 1.9234197e-02, 1.7667935e-07],\n",
       "       [9.8006356e-01, 1.2545931e-02, 7.3904330e-03],\n",
       "       ...,\n",
       "       [3.2468478e-15, 9.9999988e-01, 1.3283172e-07],\n",
       "       [1.2202904e-07, 6.4015435e-04, 9.9935979e-01],\n",
       "       [9.7534591e-01, 2.4653798e-02, 1.8587249e-07]], dtype=float32)"
      ]
     },
     "execution_count": 8,
     "metadata": {},
     "output_type": "execute_result"
    }
   ],
   "source": [
    "predicted"
   ]
  },
  {
   "cell_type": "code",
   "execution_count": 9,
   "id": "82c57871",
   "metadata": {},
   "outputs": [
    {
     "data": {
      "text/plain": [
       "[11, 469, 13]"
      ]
     },
     "execution_count": 9,
     "metadata": {},
     "output_type": "execute_result"
    }
   ],
   "source": [
    "count_array"
   ]
  },
  {
   "cell_type": "markdown",
   "id": "1645a9e3",
   "metadata": {},
   "source": [
    "# 예측 정확도\n",
    "\n",
    "## 맞춘 개수 , 전체 개수 , 정확도"
   ]
  },
  {
   "cell_type": "code",
   "execution_count": 10,
   "id": "a21b77af",
   "metadata": {},
   "outputs": [
    {
     "name": "stdout",
     "output_type": "stream",
     "text": [
      "493\n",
      "1062\n",
      "0.4642184557438795\n"
     ]
    }
   ],
   "source": [
    "print(count)\n",
    "print(len(test_y))\n",
    "print(count/len(test_y))"
   ]
  },
  {
   "cell_type": "markdown",
   "id": "3743cd09",
   "metadata": {},
   "source": [
    "# 시각화하는 부분\n",
    "## -1(감소): 100, 0(유지): 355, 1(증가):23"
   ]
  },
  {
   "cell_type": "code",
   "execution_count": 11,
   "id": "69bafa30",
   "metadata": {
    "scrolled": true
   },
   "outputs": [
    {
     "data": {
      "image/png": "[encoded data removed]",
      "text/plain": [
       "<Figure size 432x288 with 1 Axes>"
      ]
     },
     "metadata": {
      "needs_background": "light"
     },
     "output_type": "display_data"
    }
   ],
   "source": [
    "label=['Decreasing','Maintain','Increasing']\n",
    "values=[count_array[0]/8*100,count_array[1]/355*100,count_array[2]/23*100]\n",
    "\n",
    "x = np.arange(3)\n",
    "\n",
    "plt.bar(x, values)\n",
    "plt.xticks(x, label)\n",
    "\n",
    "plt.show()"
   ]
  },
  {
   "cell_type": "code",
   "execution_count": 12,
   "id": "450d9146",
   "metadata": {},
   "outputs": [
    {
     "data": {
      "image/png": "[encoded data removed]",
      "text/plain": [
       "<Figure size 432x288 with 1 Axes>"
      ]
     },
     "metadata": {},
     "output_type": "display_data"
    }
   ],
   "source": [
    "import matplotlib.pyplot as plt\n",
    "\n",
    "ratio = [count,len(test_y)-count]\n",
    "labels = ['Correct', 'Wrong']\n",
    "\n",
    "plt.pie(ratio, labels=labels, autopct='%.1f%%')\n",
    "plt.show()"
   ]
  },
  {
   "cell_type": "code",
   "execution_count": null,
   "id": "7a0d1e0a",
   "metadata": {},
   "outputs": [],
   "source": []
  }
 ],
 "metadata": {
  "kernelspec": {
   "display_name": "Python 3",
   "language": "python",
   "name": "python3"
  },
  "language_info": {
   "codemirror_mode": {
    "name": "ipython",
    "version": 3
   },
   "file_extension": ".py",
   "mimetype": "text/x-python",
   "name": "python",
   "nbconvert_exporter": "python",
   "pygments_lexer": "ipython3",
   "version": "3.8.8"
  }
 },
 "nbformat": 4,
 "nbformat_minor": 5
}
