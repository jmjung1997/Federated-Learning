{
 "cells": [
  {
   "cell_type": "code",
   "execution_count": 41,
   "id": "2391e334",
   "metadata": {},
   "outputs": [],
   "source": [
    "import pandas as pd\n",
    "import numpy as np\n",
    "from sklearn.preprocessing import MinMaxScaler\n",
    "from tensorflow.python.keras.models import Sequential\n",
    "from tensorflow.python.keras.layers import Dense,Dropout,Activation\n",
    "from tensorflow.python.keras import metrics\n",
    "from tensorflow.python import keras\n",
    "from sklearn.preprocessing import StandardScaler\n",
    "from sklearn.model_selection import train_test_split\n",
    "import tensorflow as tf\n",
    "import matplotlib.pyplot as plt\n",
    "from imblearn.over_sampling import SMOTE"
   ]
  },
  {
   "cell_type": "markdown",
   "id": "1ad7c1c5",
   "metadata": {},
   "source": [
    "# 파일읽기"
   ]
  },
  {
   "cell_type": "code",
   "execution_count": 42,
   "id": "f4e11779",
   "metadata": {},
   "outputs": [],
   "source": [
    "df=pd.read_excel('./modeling_data/result3.xlsx')"
   ]
  },
  {
   "cell_type": "markdown",
   "id": "0d7427da",
   "metadata": {},
   "source": [
    "# 데이터를 필요한 부분으로 X, Y 나눠 읽어오기"
   ]
  },
  {
   "cell_type": "code",
   "execution_count": 43,
   "id": "67abaa12",
   "metadata": {},
   "outputs": [],
   "source": [
    "X=df.iloc[:,1:6]\n",
    "y_origin=df['Label']\n",
    "# y=df['Label']\n",
    "y=pd.get_dummies(df['Label'])"
   ]
  },
  {
   "cell_type": "code",
   "execution_count": 44,
   "id": "cbdbcb08",
   "metadata": {},
   "outputs": [],
   "source": [
    "scaler = StandardScaler()\n",
    "X_train, X_test, y_train, y_test = train_test_split(X, y, test_size=0.30)\n",
    "X_train = scaler.fit_transform(X_train)\n",
    "X_test = scaler.transform(X_test)"
   ]
  },
  {
   "cell_type": "markdown",
   "id": "c4118207",
   "metadata": {},
   "source": [
    "# train, test, validation set 으로 데이터 나누기"
   ]
  },
  {
   "cell_type": "code",
   "execution_count": 45,
   "id": "74280645",
   "metadata": {},
   "outputs": [],
   "source": [
    "#Scaling\n",
    "# ms=MinMaxScaler()\n",
    "# X=ms.fit_transform(X)\n",
    "\n",
    "# 데이터 train, vali, test 6:2:2\n",
    "train_x, test_x, train_y, test_y = train_test_split(X, y, test_size=0.30)\n",
    "\n",
    "train_x=train_x.to_numpy()\n",
    "test_x=test_x.to_numpy()\n",
    "train_y=train_y.to_numpy()\n",
    "test_y=test_y.to_numpy()"
   ]
  },
  {
   "cell_type": "code",
   "execution_count": 46,
   "id": "0590f384",
   "metadata": {},
   "outputs": [
    {
     "data": {
      "text/plain": [
       "array([[   39.86761905,    17.76165816,  8533.        ,   222.21578413,\n",
       "         1589.8       ],\n",
       "       [   33.38333333,    16.04525748,  8098.        ,     0.        ,\n",
       "          401.37894736],\n",
       "       [   31.05885714,    17.02878737,   348.85454544,     0.        ,\n",
       "         1426.4       ],\n",
       "       ...,\n",
       "       [   37.9       ,    17.39668481, 15653.8       ,     0.        ,\n",
       "          640.32      ],\n",
       "       [   40.        ,    20.40816327,     0.        ,     0.        ,\n",
       "            0.        ],\n",
       "       [   38.8       ,    19.24221385,    73.        ,     0.        ,\n",
       "            0.        ]])"
      ]
     },
     "execution_count": 46,
     "metadata": {},
     "output_type": "execute_result"
    }
   ],
   "source": [
    "train_x"
   ]
  },
  {
   "cell_type": "code",
   "execution_count": 47,
   "id": "2c238ed0",
   "metadata": {},
   "outputs": [],
   "source": [
    "smote = SMOTE(random_state=0)\n",
    "train_x,train_y = smote.fit_resample(train_x,train_y)\n",
    "\n",
    "smote_test = SMOTE(random_state=0)\n",
    "test_x,test_y = smote_test.fit_resample(test_x,test_y)\n",
    "# print('SMOTE 적용 전 학습용 피처/레이블 데이터 세트: ', train_x.shape, train_y.shape)\n",
    "# print('SMOTE 적용 후 학습용 피처/레이블 데이터 세트: ', train_x2.shape, train_y2.shape)\n",
    "# print('SMOTE 적용 전 레이블 값 분포: \\n', pd.Series(train_y).value_counts())\n",
    "# print('SMOTE 적용 후 레이블 값 분포: \\n', pd.Series(train_y2).value_counts())"
   ]
  },
  {
   "cell_type": "markdown",
   "id": "5bbff9b7",
   "metadata": {},
   "source": [
    "# 모델\n",
    "\n",
    "## Deep Neural Network\n",
    "\n",
    "## Input Layer : None ,6\n",
    "\n",
    "## Hidden Layer : 128 - 256 - 128\n",
    "\n",
    "## optimizer : adam, loss : categorical_crossentropy"
   ]
  },
  {
   "cell_type": "code",
   "execution_count": null,
   "id": "f916abcf",
   "metadata": {},
   "outputs": [
    {
     "name": "stdout",
     "output_type": "stream",
     "text": [
      "Epoch 1/500\n",
      "7955/7955 [==============================] - 6s 702us/step - loss: 3.1076 - accuracy: 0.4311\n",
      "Epoch 2/500\n",
      "2308/7955 [=======>......................] - ETA: 3s - loss: 1.0201 - accuracy: 0.4422"
     ]
    }
   ],
   "source": [
    "model = keras.Sequential([\n",
    "    keras.layers.Flatten(input_shape=(5,)),\n",
    "    keras.layers.Dense(128, activation=tf.nn.relu),\n",
    "\tkeras.layers.Dense(256, activation=tf.nn.relu),\n",
    "    keras.layers.Dense(128, activation=tf.nn.relu),\n",
    "\tkeras.layers.Dense(3, activation=tf.nn.softmax),\n",
    "])\n",
    "\n",
    "model.compile(optimizer='adam',\n",
    "              loss='categorical_crossentropy',\n",
    "              metrics=['accuracy'])\n",
    "\n",
    "history=model.fit(train_x, train_y, epochs=500, batch_size=6)\n",
    "\n",
    "predicted=model.predict(test_x)\n",
    "test_loss, test_acc = model.evaluate(test_x, test_y)"
   ]
  },
  {
   "cell_type": "markdown",
   "id": "43669dae",
   "metadata": {},
   "source": [
    "# 예측 정확도를 계산하는 부분"
   ]
  },
  {
   "cell_type": "code",
   "execution_count": null,
   "id": "641dfa2f",
   "metadata": {},
   "outputs": [],
   "source": [
    "count=0\n",
    "predicted_plot=[]\n",
    "correct_plot=[]\n",
    "\n",
    "count_array=[0 for j in range(3)]\n",
    "\n",
    "predicted_result=[0 for j in range(len(test_y))]\n",
    "for i in range(len(test_y)):\n",
    "    maxIndex=tf.argmax(predicted[i])\n",
    "    predicted_plot.append(maxIndex-1)\n",
    "    #     print(type(maxIndex.numpy().item()))\n",
    "    index=0\n",
    "    if(y_origin[i]==-1):\n",
    "        index=0 \n",
    "    elif y_origin[i]==0:\n",
    "        index=1\n",
    "    elif y_origin[i]==1:\n",
    "        index=2\n",
    "    predicted_result[i]=index-1\n",
    "    if index==maxIndex.numpy().item():\n",
    "        count=count+1\n",
    "        count_array[index]=count_array[index]+1"
   ]
  },
  {
   "cell_type": "code",
   "execution_count": null,
   "id": "a73aa979",
   "metadata": {},
   "outputs": [],
   "source": [
    "predicted"
   ]
  },
  {
   "cell_type": "code",
   "execution_count": null,
   "id": "82c57871",
   "metadata": {},
   "outputs": [],
   "source": [
    "count_array"
   ]
  },
  {
   "cell_type": "markdown",
   "id": "1645a9e3",
   "metadata": {},
   "source": [
    "# 예측 정확도\n",
    "\n",
    "## 맞춘 개수 , 전체 개수 , 정확도"
   ]
  },
  {
   "cell_type": "code",
   "execution_count": null,
   "id": "a21b77af",
   "metadata": {},
   "outputs": [],
   "source": [
    "print(count)\n",
    "print(len(test_y))\n",
    "print(count/len(test_y))"
   ]
  },
  {
   "cell_type": "markdown",
   "id": "3743cd09",
   "metadata": {},
   "source": [
    "# 시각화하는 부분\n",
    "## -1(감소): 100, 0(유지): 355, 1(증가):23"
   ]
  },
  {
   "cell_type": "code",
   "execution_count": null,
   "id": "69bafa30",
   "metadata": {
    "scrolled": true
   },
   "outputs": [],
   "source": [
    "label=['Decreasing','Maintain','Increasing']\n",
    "values=[count_array[0]/8*100,count_array[1]/355*100,count_array[2]/23*100]\n",
    "\n",
    "x = np.arange(3)\n",
    "\n",
    "plt.bar(x, values)\n",
    "plt.xticks(x, label)\n",
    "\n",
    "plt.show()"
   ]
  },
  {
   "cell_type": "code",
   "execution_count": null,
   "id": "450d9146",
   "metadata": {},
   "outputs": [],
   "source": [
    "import matplotlib.pyplot as plt\n",
    "\n",
    "ratio = [count,len(test_y)-count]\n",
    "labels = ['Correct', 'Wrong']\n",
    "\n",
    "plt.pie(ratio, labels=labels, autopct='%.1f%%')\n",
    "plt.show()"
   ]
  },
  {
   "cell_type": "code",
   "execution_count": null,
   "id": "7a0d1e0a",
   "metadata": {},
   "outputs": [],
   "source": []
  }
 ],
 "metadata": {
  "kernelspec": {
   "display_name": "Python 3",
   "language": "python",
   "name": "python3"
  },
  "language_info": {
   "codemirror_mode": {
    "name": "ipython",
    "version": 3
   },
   "file_extension": ".py",
   "mimetype": "text/x-python",
   "name": "python",
   "nbconvert_exporter": "python",
   "pygments_lexer": "ipython3",
   "version": "3.8.8"
  }
 },
 "nbformat": 4,
 "nbformat_minor": 5
}
