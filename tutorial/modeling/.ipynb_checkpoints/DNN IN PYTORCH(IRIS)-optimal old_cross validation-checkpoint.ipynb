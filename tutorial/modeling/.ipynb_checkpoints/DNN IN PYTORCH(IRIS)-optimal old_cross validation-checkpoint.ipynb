{
 "cells": [
  {
   "cell_type": "markdown",
   "id": "a4661d8e",
   "metadata": {},
   "source": [
    "## 기본 베이지 DNN"
   ]
  },
  {
   "cell_type": "code",
   "execution_count": 23,
   "id": "fdca589c",
   "metadata": {},
   "outputs": [],
   "source": [
    "import pandas as pd\n",
    "import numpy as np\n",
    "import torch\n",
    "import torch.nn as nn\n",
    "from sklearn.preprocessing import MinMaxScaler\n",
    "from tensorflow.python.keras.models import Sequential\n",
    "from tensorflow.python.keras.layers import Dense,Dropout,Activation\n",
    "from torch.utils.data import TensorDataset, DataLoader\n",
    "from tensorflow.python.keras import metrics\n",
    "from tensorflow.python import keras\n",
    "import tensorflow as tf\n",
    "import matplotlib.pyplot as plt\n",
    "import os\n",
    "from imblearn.over_sampling import SMOTE\n",
    "import math\n",
    "import matplotlib.pyplot as plt\n",
    "%matplotlib inline\n",
    "\n"
   ]
  },
  {
   "cell_type": "code",
   "execution_count": 24,
   "id": "69a5dcb4",
   "metadata": {},
   "outputs": [],
   "source": [
    "%matplotlib inline"
   ]
  },
  {
   "cell_type": "code",
   "execution_count": 25,
   "id": "324a1b1a",
   "metadata": {},
   "outputs": [
    {
     "name": "stdout",
     "output_type": "stream",
     "text": [
      "SMOTE 적용 전 학습용 피처/레이블 데이터 세트:  (58825, 6) (58825,)\n",
      "SMOTE 적용 후 학습용 피처/레이블 데이터 세트:  (166896, 6) (166896,)\n",
      "SMOTE 적용 전 레이블 값 분포: \n",
      " 0    55632\n",
      "1     2010\n",
      "2     1183\n",
      "Name: 8, dtype: int64\n",
      "SMOTE 적용 후 레이블 값 분포: \n",
      " 0    55632\n",
      "1    55632\n",
      "2    55632\n",
      "Name: 8, dtype: int64\n"
     ]
    }
   ],
   "source": [
    "df=pd.read_excel('./optimal_data3_1/'+'Continous_2weeks_2day_1term.xlsx')\n",
    "df.head()\n",
    "X=df.iloc[:,[1,3,4,5,6,7]]\n",
    "y=df.iloc[:,-1]\n",
    "\n",
    "\n",
    "from sklearn.preprocessing import StandardScaler\n",
    "from sklearn.model_selection import train_test_split\n",
    "\n",
    "scaler = StandardScaler()\n",
    "X_scaler = scaler.fit_transform(X)\n",
    "smote = SMOTE(random_state=0)\n",
    "X_train_over,y_train_over = smote.fit_resample(X_scaler,y)\n",
    "print('SMOTE 적용 전 학습용 피처/레이블 데이터 세트: ', X_scaler.shape, y.shape)\n",
    "print('SMOTE 적용 후 학습용 피처/레이블 데이터 세트: ', X_train_over.shape, y_train_over.shape)\n",
    "print('SMOTE 적용 전 레이블 값 분포: \\n', pd.Series(y).value_counts())\n",
    "print('SMOTE 적용 후 레이블 값 분포: \\n', pd.Series(y_train_over).value_counts())"
   ]
  },
  {
   "cell_type": "code",
   "execution_count": 26,
   "id": "b267ff3a",
   "metadata": {},
   "outputs": [],
   "source": [
    "X_train, X_test, y_train, y_test = train_test_split(X_train_over, y_train_over, test_size=0.20, stratify=y_train_over)\n",
    "\n",
    "# X_train = scaler.fit_transform(X_train)\n",
    "# X_test = scaler.transform(X_test)\n",
    "\n",
    "\n",
    "X_train = torch.FloatTensor(X_train)\n",
    "X_test = torch.FloatTensor(X_test)\n",
    "y_train = torch.LongTensor(y_train.to_numpy())\n",
    "y_test = torch.LongTensor(y_test.to_numpy())\n",
    "\n",
    "train_dataset = TensorDataset(X_train, y_train)\n",
    "test_dataset=TensorDataset(X_test, y_test)\n",
    "\n",
    "train_dataloader = DataLoader(train_dataset, batch_size=16,shuffle=False)\n",
    "test_dataloader = DataLoader(test_dataset, batch_size=16,shuffle=False)\n",
    "\n",
    "import torch.nn as nn\n",
    "import torch.nn.functional as F\n",
    "import torch.optim as optim"
   ]
  },
  {
   "cell_type": "code",
   "execution_count": 27,
   "id": "36f43b2c",
   "metadata": {},
   "outputs": [],
   "source": [
    "class DNNModel(nn.Module):\n",
    "    def __init__(self):\n",
    "        super(DNNModel, self).__init__()\n",
    "        self.input_layer = nn.Linear(6, 128)\n",
    "        self.hidden_layer1 = nn.Linear(128, 256)\n",
    "        self.hidden_layer2 = nn.Linear(256, 128)\n",
    "        self.output_layer   = nn.Linear(128,3)\n",
    "        self.relu = nn.ReLU()\n",
    "\n",
    "\n",
    "\n",
    "    def forward(self, x):\n",
    "        out =  self.relu(self.input_layer(x))\n",
    "        out =  self.relu(self.hidden_layer1(out))\n",
    "        out =  self.relu(self.hidden_layer2(out))\n",
    "        out =  self.output_layer(out)\n",
    "        return out \n",
    "\n",
    "\n",
    "\n",
    "# device 설정 (cuda:0 혹은 cpu)\n",
    "device = torch.device(\"cuda:0\" if torch.cuda.is_available() else \"cpu\")\n",
    "model = DNNModel() # Model 생성\n",
    "model.to(device)   # device 에 로드 (cpu or cuda)\n",
    "\n",
    "# 옵티마이저를 정의합니다. 옵티마이저에는 model.parameters()를 지정해야 합니다.\n",
    "optimizer = optim.Adam(model.parameters(), lr=0.001)\n",
    "\n",
    "# 손실함수(loss function)을 지정합니다. Multi-Class Classification 이기 때문에 CrossEntropy 손실을 지정하였습니다.\n",
    "loss_fn = nn.CrossEntropyLoss()"
   ]
  },
  {
   "cell_type": "code",
   "execution_count": 28,
   "id": "84ee7a15",
   "metadata": {},
   "outputs": [],
   "source": [
    "from tqdm import tqdm  # Progress Bar 출력\n",
    "\n",
    "def model_train(model, data_loader, loss_fn, optimizer, device):\n",
    "    # 모델을 훈련모드로 설정합니다. training mode 일 때 Gradient 가 업데이트 됩니다. 반드시 train()으로 모드 변경을 해야 합니다.\n",
    "    model.train()\n",
    "    # loss와 accuracy 계산을 위한 임시 변수 입니다. 0으로 초기화합니다.\n",
    "    running_loss = 0\n",
    "    corr = 0\n",
    "\n",
    "    # 예쁘게 Progress Bar를 출력하면서 훈련 상태를 모니터링 하기 위하여 tqdm으로 래핑합니다.\n",
    "    prograss_bar = tqdm(data_loader)\n",
    "\n",
    "    # mini-batch 학습을 시작합니다.\n",
    "    for data, lbl in prograss_bar:\n",
    "        # image, label 데이터를 device에 올립니다.\n",
    "        data, lbl = data.to(device), lbl.to(device)\n",
    "        # 누적 Gradient를 초기화 합니다.\n",
    "        optimizer.zero_grad()\n",
    "\n",
    "        # Forward Propagation을 진행하여 결과를 얻습니다.\n",
    "        output = model(data)\n",
    "        lbl = lbl.squeeze()\n",
    "        # 손실함수에 output, label 값을 대입하여 손실을 계산합니다.\n",
    "        loss = loss_fn(output, lbl)\n",
    "        # 오차역전파(Back Propagation)을 진행하여 미분 값을 계산합니다.\n",
    "        loss.backward()\n",
    "\n",
    "        # 계산된 Gradient를 업데이트 합니다.\n",
    "        optimizer.step()\n",
    "\n",
    "        # output의 max(dim=1)은 max probability와 max index를 반환합니다.\n",
    "        # max probability는 무시하고, max index는 pred에 저장하여 label 값과 대조하여 정확도를 도출합니다.\n",
    "        _, pred = output.max(dim=1)\n",
    "        # pred.eq(lbl).sum() 은 정확히 맞춘 label의 합계를 계산합니다. item()은 tensor에서 값을 추출합니다.\n",
    "        # 합계는 corr 변수에 누적합니다.\n",
    "        corr += pred.eq(lbl).sum().item()\n",
    "        \n",
    "        # loss 값은 1개 배치의 평균 손실(loss) 입니다. data.size(0)은 배치사이즈(batch size) 입니다.\n",
    "        # loss 와 data.size(0)를 곱하면 1개 배치의 전체 loss가 계산됩니다.\n",
    "        # 이를 누적한 뒤 Epoch 종료시 전체 데이터셋의 개수로 나누어 평균 loss를 산출합니다.\n",
    "        running_loss += loss.item() * data.size(0)\n",
    "\n",
    "    # 누적된 정답수를 전체 개수로 나누어 주면 정확도가 산출됩니다.\n",
    "    acc = corr / len(data_loader.dataset)\n",
    "    # 평균 손실(loss)과 정확도를 반환합니다.\n",
    "    # train_loss, train_acc\n",
    "    return running_loss / len(data_loader.dataset), acc"
   ]
  },
  {
   "cell_type": "code",
   "execution_count": 29,
   "id": "bac3824a",
   "metadata": {},
   "outputs": [],
   "source": [
    "def model_evaluate(model, data_loader, loss_fn, device):\n",
    "    # model.eval()은 모델을 평가모드로 설정을 바꾸어 줍니다. \n",
    "    # dropout과 같은 layer의 역할 변경을 위하여 evaluation 진행시 꼭 필요한 절차 입니다.\n",
    "    model.eval()\n",
    "    # Gradient가 업데이트 되는 것을 방지 하기 위하여 반드시 필요합니다.\n",
    "    with torch.no_grad():\n",
    "        # loss와 accuracy 계산을 위한 임시 변수 입니다. 0으로 초기화합니다.\n",
    "        corr = 0\n",
    "        running_loss = 0\n",
    "\n",
    "        # 배치별 evaluation을 진행합니다.\n",
    "        for data, lbl in data_loader:\n",
    "            # device에 데이터를 올립니다.\n",
    "            data, lbl = data.to(device), lbl.to(device)\n",
    "\n",
    "            # 모델에 Forward Propagation을 하여 결과를 도출합니다.\n",
    "            output = model(data)\n",
    "\n",
    "            # output의 max(dim=1)은 max probability와 max index를 반환합니다.\n",
    "            # max probability는 무시하고, max index는 pred에 저장하여 label 값과 대조하여 정확도를 도출합니다.\n",
    "            _, pred = output.max(dim=1)\n",
    "            lbl = lbl.squeeze()\n",
    "\n",
    "            # pred.eq(lbl).sum() 은 정확히 맞춘 label의 합계를 계산합니다. item()은 tensor에서 값을 추출합니다.\n",
    "            # 합계는 corr 변수에 누적합니다.\n",
    "            corr += torch.sum(pred.eq(lbl)).item()\n",
    "            \n",
    "            # loss 값은 1개 배치의 평균 손실(loss) 입니다. data.size(0)은 배치사이즈(batch size) 입니다.\n",
    "            # loss 와 data.size(0)를 곱하면 1개 배치의 전체 loss가 계산됩니다.\n",
    "            # 이를 누적한 뒤 Epoch 종료시 전체 데이터셋의 개수로 나누어 평균 loss를 산출합니다.\n",
    "            running_loss += loss_fn(output, lbl).item() * data.size(0)\n",
    "\n",
    "        # validation 정확도를 계산합니다.\n",
    "        # 누적한 정답숫자를 전체 데이터셋의 숫자로 나누어 최종 accuracy를 산출합니다.\n",
    "        acc = corr / len(data_loader.dataset)\n",
    "\n",
    "        # 결과를 반환합니다.\n",
    "        # val_loss, val_acc\n",
    "        return running_loss / len(data_loader.dataset), acc"
   ]
  },
  {
   "cell_type": "code",
   "execution_count": 30,
   "id": "dbc43103",
   "metadata": {},
   "outputs": [],
   "source": [
    "def model_test(model, data_loader, loss_fn, device):\n",
    "    # model.eval()은 모델을 평가모드로 설정을 바꾸어 줍니다. \n",
    "    # dropout과 같은 layer의 역할 변경을 위하여 evaluation 진행시 꼭 필요한 절차 입니다.\n",
    "    model.eval()\n",
    "    pred_list=[]\n",
    "    # Gradient가 업데이트 되는 것을 방지 하기 위하여 반드시 필요합니다.\n",
    "    with torch.no_grad():\n",
    "        # loss와 accuracy 계산을 위한 임시 변수 입니다. 0으로 초기화합니다.\n",
    "        corr = 0\n",
    "        running_loss = 0\n",
    "\n",
    "        # 배치별 evaluation을 진행합니다.\n",
    "        for data, lbl in data_loader:\n",
    "            # device에 데이터를 올립니다.\n",
    "            data, lbl = data.to(device), lbl.to(device)\n",
    "            lbl = lbl.squeeze()\n",
    "            # 모델에 Forward Propagation을 하여 결과를 도출합니다.\n",
    "            output = model(data)\n",
    "\n",
    "            # output의 max(dim=1)은 max probability와 max index를 반환합니다.\n",
    "            # max probability는 무시하고, max index는 pred에 저장하여 label 값과 대조하여 정확도를 도출합니다.\n",
    "            _, pred = output.max(dim=1)\n",
    "            pred_array = pred.tolist()\n",
    "            pred_list.append(pred_array) # confusion matrix를 위해 pred 리턴 값\n",
    "            # pred.eq(lbl).sum() 은 정확히 맞춘 label의 합계를 계산합니다. item()은 tensor에서 값을 추출합니다.\n",
    "            # 합계는 corr 변수에 누적합니다.\n",
    "            corr += torch.sum(pred.eq(lbl)).item()\n",
    "            \n",
    "            # loss 값은 1개 배치의 평균 손실(loss) 입니다. data.size(0)은 배치사이즈(batch size) 입니다.\n",
    "            # loss 와 data.size(0)를 곱하면 1개 배치의 전체 loss가 계산됩니다.\n",
    "            # 이를 누적한 뒤 Epoch 종료시 전체 데이터셋의 개수로 나누어 평균 loss를 산출합니다.\n",
    "            running_loss += loss_fn(output, lbl).item() * data.size(0)\n",
    "\n",
    "        # validation 정확도를 계산합니다.\n",
    "        # 누적한 정답숫자를 전체 데이터셋의 숫자로 나누어 최종 accuracy를 산출합니다.\n",
    "        acc = corr / len(data_loader.dataset)\n",
    "\n",
    "        # 결과를 반환합니다.\n",
    "        # val_loss, val_acc\n",
    "        return running_loss / len(data_loader.dataset), acc, pred_list"
   ]
  },
  {
   "cell_type": "code",
   "execution_count": null,
   "id": "373d3e15",
   "metadata": {},
   "outputs": [
    {
     "name": "stderr",
     "output_type": "stream",
     "text": [
      "100%|█████████████████████████████████████████████████████████████████████████████| 8345/8345 [00:21<00:00, 390.08it/s]\n"
     ]
    },
    {
     "name": "stdout",
     "output_type": "stream",
     "text": [
      "[INFO] val_acc has been improved from 9999999999999.00000 to 0.78710. Saving Model!\n",
      "epoch 01, loss: 0.87676, acc: 0.56752, val_loss: 0.78710, val_accuracy: 0.64059\n"
     ]
    },
    {
     "name": "stderr",
     "output_type": "stream",
     "text": [
      "100%|█████████████████████████████████████████████████████████████████████████████| 8345/8345 [00:21<00:00, 392.94it/s]\n"
     ]
    },
    {
     "name": "stdout",
     "output_type": "stream",
     "text": [
      "[INFO] val_acc has been improved from 0.78710 to 0.66267. Saving Model!\n",
      "epoch 02, loss: 0.68585, acc: 0.70064, val_loss: 0.66267, val_accuracy: 0.72337\n"
     ]
    },
    {
     "name": "stderr",
     "output_type": "stream",
     "text": [
      "100%|█████████████████████████████████████████████████████████████████████████████| 8345/8345 [00:21<00:00, 383.64it/s]\n"
     ]
    },
    {
     "name": "stdout",
     "output_type": "stream",
     "text": [
      "[INFO] val_acc has been improved from 0.66267 to 0.58691. Saving Model!\n",
      "epoch 03, loss: 0.58312, acc: 0.75804, val_loss: 0.58691, val_accuracy: 0.76019\n"
     ]
    },
    {
     "name": "stderr",
     "output_type": "stream",
     "text": [
      "100%|█████████████████████████████████████████████████████████████████████████████| 8345/8345 [00:21<00:00, 395.45it/s]\n"
     ]
    },
    {
     "name": "stdout",
     "output_type": "stream",
     "text": [
      "[INFO] val_acc has been improved from 0.58691 to 0.52938. Saving Model!\n",
      "epoch 04, loss: 0.52443, acc: 0.78698, val_loss: 0.52938, val_accuracy: 0.78670\n"
     ]
    },
    {
     "name": "stderr",
     "output_type": "stream",
     "text": [
      "100%|█████████████████████████████████████████████████████████████████████████████| 8345/8345 [00:21<00:00, 393.43it/s]\n"
     ]
    },
    {
     "name": "stdout",
     "output_type": "stream",
     "text": [
      "[INFO] val_acc has been improved from 0.52938 to 0.50127. Saving Model!\n",
      "epoch 05, loss: 0.48544, acc: 0.80506, val_loss: 0.50127, val_accuracy: 0.80237\n"
     ]
    },
    {
     "name": "stderr",
     "output_type": "stream",
     "text": [
      "100%|█████████████████████████████████████████████████████████████████████████████| 8345/8345 [00:21<00:00, 390.20it/s]\n"
     ]
    },
    {
     "name": "stdout",
     "output_type": "stream",
     "text": [
      "[INFO] val_acc has been improved from 0.50127 to 0.48120. Saving Model!\n",
      "epoch 06, loss: 0.45789, acc: 0.81725, val_loss: 0.48120, val_accuracy: 0.80986\n"
     ]
    },
    {
     "name": "stderr",
     "output_type": "stream",
     "text": [
      "100%|█████████████████████████████████████████████████████████████████████████████| 8345/8345 [00:21<00:00, 394.43it/s]\n"
     ]
    },
    {
     "name": "stdout",
     "output_type": "stream",
     "text": [
      "[INFO] val_acc has been improved from 0.48120 to 0.46606. Saving Model!\n",
      "epoch 07, loss: 0.43712, acc: 0.82564, val_loss: 0.46606, val_accuracy: 0.81902\n"
     ]
    },
    {
     "name": "stderr",
     "output_type": "stream",
     "text": [
      "100%|█████████████████████████████████████████████████████████████████████████████| 8345/8345 [00:21<00:00, 391.83it/s]\n"
     ]
    },
    {
     "name": "stdout",
     "output_type": "stream",
     "text": [
      "[INFO] val_acc has been improved from 0.46606 to 0.44712. Saving Model!\n",
      "epoch 08, loss: 0.42056, acc: 0.83343, val_loss: 0.44712, val_accuracy: 0.82493\n"
     ]
    },
    {
     "name": "stderr",
     "output_type": "stream",
     "text": [
      "100%|█████████████████████████████████████████████████████████████████████████████| 8345/8345 [00:21<00:00, 388.67it/s]\n"
     ]
    },
    {
     "name": "stdout",
     "output_type": "stream",
     "text": [
      "[INFO] val_acc has been improved from 0.44712 to 0.43693. Saving Model!\n",
      "epoch 09, loss: 0.40661, acc: 0.83935, val_loss: 0.43693, val_accuracy: 0.83023\n"
     ]
    },
    {
     "name": "stderr",
     "output_type": "stream",
     "text": [
      "100%|█████████████████████████████████████████████████████████████████████████████| 8345/8345 [00:21<00:00, 388.90it/s]\n"
     ]
    },
    {
     "name": "stdout",
     "output_type": "stream",
     "text": [
      "[INFO] val_acc has been improved from 0.43693 to 0.41167. Saving Model!\n",
      "epoch 10, loss: 0.39417, acc: 0.84391, val_loss: 0.41167, val_accuracy: 0.84050\n"
     ]
    },
    {
     "name": "stderr",
     "output_type": "stream",
     "text": [
      "100%|█████████████████████████████████████████████████████████████████████████████| 8345/8345 [00:21<00:00, 389.94it/s]\n"
     ]
    },
    {
     "name": "stdout",
     "output_type": "stream",
     "text": [
      "[INFO] val_acc has been improved from 0.41167 to 0.40270. Saving Model!\n",
      "epoch 11, loss: 0.38376, acc: 0.84925, val_loss: 0.40270, val_accuracy: 0.84539\n"
     ]
    },
    {
     "name": "stderr",
     "output_type": "stream",
     "text": [
      "100%|█████████████████████████████████████████████████████████████████████████████| 8345/8345 [00:21<00:00, 381.42it/s]\n"
     ]
    },
    {
     "name": "stdout",
     "output_type": "stream",
     "text": [
      "[INFO] val_acc has been improved from 0.40270 to 0.39348. Saving Model!\n",
      "epoch 12, loss: 0.37445, acc: 0.85287, val_loss: 0.39348, val_accuracy: 0.84748\n"
     ]
    },
    {
     "name": "stderr",
     "output_type": "stream",
     "text": [
      "100%|█████████████████████████████████████████████████████████████████████████████| 8345/8345 [00:21<00:00, 390.18it/s]\n"
     ]
    },
    {
     "name": "stdout",
     "output_type": "stream",
     "text": [
      "epoch 13, loss: 0.36612, acc: 0.85735, val_loss: 0.39924, val_accuracy: 0.85015\n"
     ]
    },
    {
     "name": "stderr",
     "output_type": "stream",
     "text": [
      "100%|█████████████████████████████████████████████████████████████████████████████| 8345/8345 [00:21<00:00, 392.42it/s]\n"
     ]
    },
    {
     "name": "stdout",
     "output_type": "stream",
     "text": [
      "epoch 14, loss: 0.35882, acc: 0.85944, val_loss: 0.39376, val_accuracy: 0.84772\n"
     ]
    },
    {
     "name": "stderr",
     "output_type": "stream",
     "text": [
      "100%|█████████████████████████████████████████████████████████████████████████████| 8345/8345 [00:20<00:00, 399.48it/s]\n"
     ]
    },
    {
     "name": "stdout",
     "output_type": "stream",
     "text": [
      "[INFO] val_acc has been improved from 0.39348 to 0.38172. Saving Model!\n",
      "epoch 15, loss: 0.35178, acc: 0.86238, val_loss: 0.38172, val_accuracy: 0.85590\n"
     ]
    },
    {
     "name": "stderr",
     "output_type": "stream",
     "text": [
      "100%|█████████████████████████████████████████████████████████████████████████████| 8345/8345 [00:24<00:00, 343.16it/s]\n"
     ]
    },
    {
     "name": "stdout",
     "output_type": "stream",
     "text": [
      "[INFO] val_acc has been improved from 0.38172 to 0.37268. Saving Model!\n",
      "epoch 16, loss: 0.34570, acc: 0.86547, val_loss: 0.37268, val_accuracy: 0.85851\n"
     ]
    },
    {
     "name": "stderr",
     "output_type": "stream",
     "text": [
      "100%|█████████████████████████████████████████████████████████████████████████████| 8345/8345 [00:26<00:00, 318.56it/s]\n"
     ]
    },
    {
     "name": "stdout",
     "output_type": "stream",
     "text": [
      "epoch 17, loss: 0.34005, acc: 0.86722, val_loss: 0.37564, val_accuracy: 0.85767\n"
     ]
    },
    {
     "name": "stderr",
     "output_type": "stream",
     "text": [
      "100%|█████████████████████████████████████████████████████████████████████████████| 8345/8345 [00:25<00:00, 329.47it/s]\n"
     ]
    },
    {
     "name": "stdout",
     "output_type": "stream",
     "text": [
      "epoch 18, loss: 0.33619, acc: 0.86885, val_loss: 0.37319, val_accuracy: 0.85518\n"
     ]
    },
    {
     "name": "stderr",
     "output_type": "stream",
     "text": [
      "100%|█████████████████████████████████████████████████████████████████████████████| 8345/8345 [00:23<00:00, 351.17it/s]\n"
     ]
    },
    {
     "name": "stdout",
     "output_type": "stream",
     "text": [
      "[INFO] val_acc has been improved from 0.37268 to 0.36603. Saving Model!\n",
      "epoch 19, loss: 0.33166, acc: 0.87070, val_loss: 0.36603, val_accuracy: 0.86159\n"
     ]
    },
    {
     "name": "stderr",
     "output_type": "stream",
     "text": [
      "100%|█████████████████████████████████████████████████████████████████████████████| 8345/8345 [00:24<00:00, 335.47it/s]\n"
     ]
    },
    {
     "name": "stdout",
     "output_type": "stream",
     "text": [
      "[INFO] val_acc has been improved from 0.36603 to 0.35497. Saving Model!\n",
      "epoch 20, loss: 0.32657, acc: 0.87315, val_loss: 0.35497, val_accuracy: 0.86429\n"
     ]
    },
    {
     "name": "stderr",
     "output_type": "stream",
     "text": [
      "100%|█████████████████████████████████████████████████████████████████████████████| 8345/8345 [00:20<00:00, 406.47it/s]\n"
     ]
    },
    {
     "name": "stdout",
     "output_type": "stream",
     "text": [
      "[INFO] val_acc has been improved from 0.35497 to 0.35197. Saving Model!\n",
      "epoch 21, loss: 0.32274, acc: 0.87451, val_loss: 0.35197, val_accuracy: 0.86459\n"
     ]
    },
    {
     "name": "stderr",
     "output_type": "stream",
     "text": [
      " 79%|████████████████████████████████████████████████████████████▊                | 6593/8345 [00:16<00:04, 394.51it/s]"
     ]
    }
   ],
   "source": [
    "# 최대 Epoch을 지정합니다.\n",
    "num_epochs = 100\n",
    "min_loss = 9999999999999\n",
    "loss_list=[]\n",
    "acc_list=[]\n",
    "# Epoch 별 훈련 및 검증을 수행합니다.\n",
    "for epoch in range(num_epochs):\n",
    "    # Model Training\n",
    "    # 훈련 손실과 정확도를 반환 받습니다.\n",
    "    train_loss, train_acc = model_train(model, train_dataloader, loss_fn, optimizer, device)\n",
    "    \n",
    "    # 검증 손실과 검증 정확도를 반환 받습니다.\n",
    "    val_loss, val_acc = model_evaluate(model, test_dataloader, loss_fn, device)   \n",
    "\n",
    "    # val_loss 가 개선되었다면 min_loss를 갱신하고 model의 가중치(weights)를 저장합니다.\n",
    "    if val_loss < min_loss:\n",
    "            print(f'[INFO] val_acc has been improved from {min_loss:.5f} to {val_loss:.5f}. Saving Model!')\n",
    "            min_loss = val_loss\n",
    "            torch.save(model.state_dict(), 'DNNModel.pth')\n",
    "\n",
    "    # Epoch 별 결과를 출력합니다.\n",
    "    print(f'epoch {epoch+1:02d}, loss: {train_loss:.5f}, acc: {train_acc:.5f}, val_loss: {val_loss:.5f}, val_accuracy: {val_acc:.5f}')\n",
    "    loss_list.append(train_loss)\n",
    "    acc_list.append(train_acc)\n",
    "## 저장한 가중치 로드 후 검증 성능 측정\n",
    "\n",
    "# 모델에 저장한 가중치를 로드합니다.\n",
    "model.load_state_dict(torch.load('DNNModel.pth'))\n",
    "\n",
    "# 최종 검증 손실(validation loss)와 검증 정확도(validation accuracy)를 산출합니다.\n",
    "final_loss, final_acc, pred_list = model_test(model, test_dataloader, loss_fn, device)\n",
    "print(f'evaluation loss: {final_loss:.5f}, evaluation accuracy: {final_acc:.5f}')\n"
   ]
  },
  {
   "cell_type": "code",
   "execution_count": null,
   "id": "a816a654",
   "metadata": {},
   "outputs": [],
   "source": [
    "pred_list"
   ]
  },
  {
   "cell_type": "code",
   "execution_count": null,
   "id": "e9b925a4",
   "metadata": {},
   "outputs": [],
   "source": [
    "listarray=[]\n",
    "for i in pred_list:\n",
    "    for j in i:\n",
    "        listarray.append(j)"
   ]
  },
  {
   "cell_type": "code",
   "execution_count": null,
   "id": "4eb989ef",
   "metadata": {},
   "outputs": [],
   "source": [
    "listarray"
   ]
  },
  {
   "cell_type": "markdown",
   "id": "d23ad834",
   "metadata": {},
   "source": [
    "## 그래프 그리기"
   ]
  },
  {
   "cell_type": "code",
   "execution_count": null,
   "id": "9c562648",
   "metadata": {},
   "outputs": [],
   "source": [
    "train_loss_list = torch.tensor(loss_list)\n",
    "train_acc_list = torch.tensor(acc_list)"
   ]
  },
  {
   "cell_type": "code",
   "execution_count": null,
   "id": "d4ee5162",
   "metadata": {},
   "outputs": [],
   "source": [
    "\n",
    "plt.plot(train_loss_list, label='train loss',color='red')\n",
    "plt.xlabel(\"epoch\")\n",
    "plt.ylabel(\"loss\")\n",
    "plt.legend()\n",
    "plt.show()"
   ]
  },
  {
   "cell_type": "code",
   "execution_count": null,
   "id": "4aae5b1d",
   "metadata": {},
   "outputs": [],
   "source": [
    "plt.plot(train_acc_list, label='train accuracy',color='blue')\n",
    "plt.xlabel(\"epoch\")\n",
    "plt.ylabel(\"accuracy\")\n",
    "plt.legend()\n",
    "plt.show()"
   ]
  },
  {
   "cell_type": "markdown",
   "id": "c8729997",
   "metadata": {},
   "source": [
    "## Confusion matrix"
   ]
  },
  {
   "cell_type": "code",
   "execution_count": null,
   "id": "9b46d163",
   "metadata": {},
   "outputs": [],
   "source": [
    "from sklearn.metrics import confusion_matrix\n",
    "from sklearn.metrics import confusion_matrix, ConfusionMatrixDisplay\n",
    "\n",
    "confusion_matrix(y_test, listarray)\n",
    "\n",
    "cm = confusion_matrix(y_test, listarray, labels=[0,1,2],normalize=\"true\")\n",
    "disp = ConfusionMatrixDisplay(confusion_matrix=cm,display_labels=[0,1,2])\n",
    "disp.plot()\n",
    "plt.show()"
   ]
  },
  {
   "cell_type": "code",
   "execution_count": null,
   "id": "363d0cec",
   "metadata": {},
   "outputs": [],
   "source": [
    "from sklearn.metrics import f1_score ## F1 Score 구하기\n",
    "from sklearn.metrics import accuracy_score\n",
    "f1 = f1_score(y_test,listarray,pos_label='positive', average='micro')\n",
    "accuracy_score=accuracy_score(y_test, listarray) * 100\n",
    "print(f1)\n",
    "print(\"정확도: {}\".format(accuracy_score))"
   ]
  },
  {
   "cell_type": "code",
   "execution_count": null,
   "id": "4015176a",
   "metadata": {},
   "outputs": [],
   "source": [
    "\n",
    "print('SMOTE 적용 후 테스트용 피처/레이블 데이터 세트: ', X_test.shape, y_test.shape)\n",
    "# print('SMOTE 적용 전 레이블 값 분포: \\n', pd.Series(y).value_counts())\n",
    "print('SMOTE 적용 후 레이블 값 분포: \\n', pd.Series(y_test).value_counts())"
   ]
  },
  {
   "cell_type": "code",
   "execution_count": null,
   "id": "08853eae",
   "metadata": {},
   "outputs": [],
   "source": [
    "from collections import Counter\n",
    "result = Counter(listarray)"
   ]
  },
  {
   "cell_type": "code",
   "execution_count": null,
   "id": "b2838a20",
   "metadata": {},
   "outputs": [],
   "source": [
    "result"
   ]
  },
  {
   "cell_type": "markdown",
   "id": "12e77603",
   "metadata": {},
   "source": [
    "### AUC"
   ]
  },
  {
   "cell_type": "code",
   "execution_count": null,
   "id": "be9cc77a",
   "metadata": {},
   "outputs": [],
   "source": [
    "from sklearn import preprocessing\n",
    "def multiclass_roc_auc_score(y_test, y_pred, average=\"macro\"):\n",
    "    lb = preprocessing.LabelBinarizer()\n",
    "    lb.fit(y_test)\n",
    "    y_test = lb.transform(y_test)\n",
    "    y_pred = lb.transform(y_pred)\n",
    "    return roc_auc_score(y_test, y_pred, average=average)"
   ]
  },
  {
   "cell_type": "code",
   "execution_count": null,
   "id": "ef794699",
   "metadata": {},
   "outputs": [],
   "source": [
    "from sklearn.datasets import make_classification\n",
    "from sklearn.metrics import roc_curve, auc, roc_auc_score\n",
    "\n",
    "from sklearn.naive_bayes import GaussianNB\n",
    "from sklearn.multiclass import OneVsRestClassifier\n",
    "from sklearn.preprocessing import label_binarize\n",
    "from sklearn.model_selection import train_test_split\n",
    "import matplotlib.pyplot as plt\n",
    "\n",
    "# make sample data\n",
    "n_classes = 3\n",
    "\n",
    "\n",
    "print(\"roc_auc_score: \", multiclass_roc_auc_score(y_test, listarray))"
   ]
  },
  {
   "cell_type": "code",
   "execution_count": null,
   "id": "5bb91a90",
   "metadata": {},
   "outputs": [],
   "source": []
  },
  {
   "cell_type": "code",
   "execution_count": null,
   "id": "a3550b26",
   "metadata": {},
   "outputs": [],
   "source": []
  },
  {
   "cell_type": "code",
   "execution_count": null,
   "id": "8445e5c4",
   "metadata": {},
   "outputs": [],
   "source": []
  },
  {
   "cell_type": "code",
   "execution_count": null,
   "id": "04e29b17",
   "metadata": {},
   "outputs": [],
   "source": []
  },
  {
   "cell_type": "code",
   "execution_count": null,
   "id": "f7456fe1",
   "metadata": {},
   "outputs": [],
   "source": []
  }
 ],
 "metadata": {
  "kernelspec": {
   "display_name": "Python 3 (ipykernel)",
   "language": "python",
   "name": "python3"
  },
  "language_info": {
   "codemirror_mode": {
    "name": "ipython",
    "version": 3
   },
   "file_extension": ".py",
   "mimetype": "text/x-python",
   "name": "python",
   "nbconvert_exporter": "python",
   "pygments_lexer": "ipython3",
   "version": "3.8.11"
  }
 },
 "nbformat": 4,
 "nbformat_minor": 5
}
