{
 "cells": [
  {
   "cell_type": "code",
   "execution_count": 1,
   "id": "fb5474d6",
   "metadata": {},
   "outputs": [
    {
     "name": "stderr",
     "output_type": "stream",
     "text": [
      "Failed to detect the name of this notebook, you can set it manually with the WANDB_NOTEBOOK_NAME environment variable to enable code saving.\n",
      "wandb: Currently logged in as: jmjung1997. Use `wandb login --relogin` to force relogin\n"
     ]
    },
    {
     "data": {
      "text/html": [
       "Tracking run with wandb version 0.13.4"
      ],
      "text/plain": [
       "<IPython.core.display.HTML object>"
      ]
     },
     "metadata": {},
     "output_type": "display_data"
    },
    {
     "data": {
      "text/html": [
       "Run data is saved locally in <code>C:\\Users\\Lab01\\BMI\\modeling\\wandb\\run-20221011_221806-rgis5x6w</code>"
      ],
      "text/plain": [
       "<IPython.core.display.HTML object>"
      ]
     },
     "metadata": {},
     "output_type": "display_data"
    },
    {
     "data": {
      "text/html": [
       "Syncing run <strong><a href=\"https://wandb.ai/jmjung1997/bmi-LSTM/runs/rgis5x6w\" target=\"_blank\">summer-forest-5</a></strong> to <a href=\"https://wandb.ai/jmjung1997/bmi-LSTM\" target=\"_blank\">Weights & Biases</a> (<a href=\"https://wandb.me/run\" target=\"_blank\">docs</a>)<br/>"
      ],
      "text/plain": [
       "<IPython.core.display.HTML object>"
      ]
     },
     "metadata": {},
     "output_type": "display_data"
    },
    {
     "data": {
      "text/html": [
       "<button onClick=\"this.nextSibling.style.display='block';this.style.display='none';\">Display W&B run</button><iframe src=\"https://wandb.ai/jmjung1997/bmi-LSTM/runs/rgis5x6w?jupyter=true\" style=\"border:none;width:100%;height:420px;display:none;\"></iframe>"
      ],
      "text/plain": [
       "<wandb.sdk.wandb_run.Run at 0x23783c61c70>"
      ]
     },
     "execution_count": 1,
     "metadata": {},
     "output_type": "execute_result"
    }
   ],
   "source": [
    "import wandb\n",
    "\n",
    "wandb.init(project=\"bmi-LSTM\", entity=\"jmjung1997\")"
   ]
  },
  {
   "cell_type": "code",
   "execution_count": 2,
   "id": "60025920",
   "metadata": {},
   "outputs": [],
   "source": [
    "wandb.config = {\n",
    "  \"learning_rate\": 0.001,\n",
    "  \"epochs\": 100,\n",
    "  \"batch_size\": 128\n",
    "}"
   ]
  },
  {
   "cell_type": "code",
   "execution_count": 3,
   "id": "5c573311",
   "metadata": {},
   "outputs": [],
   "source": [
    "# wandb.log({\"loss\": loss})\n"
   ]
  },
  {
   "cell_type": "code",
   "execution_count": 4,
   "id": "00d0368e",
   "metadata": {},
   "outputs": [],
   "source": [
    "import os\n",
    "import time\n",
    "\n",
    "import numpy as np\n",
    "import pandas as pd\n",
    "import matplotlib.pyplot as plt\n",
    "import wandb\n",
    "import torch\n",
    "import torch.nn as nn\n",
    "from torch.utils.data import TensorDataset, DataLoader\n",
    "from torch.autograd import Variable\n",
    "from tqdm import tqdm_notebook\n",
    "from sklearn.preprocessing import StandardScaler, MinMaxScaler\n",
    "from sklearn.model_selection import train_test_split  \n",
    "\n",
    "device = torch.device('cuda:0' if torch.cuda.is_available() else 'cpu')"
   ]
  },
  {
   "cell_type": "code",
   "execution_count": 5,
   "id": "18efb401",
   "metadata": {},
   "outputs": [
    {
     "name": "stdout",
     "output_type": "stream",
     "text": [
      "Requirement already satisfied: wandb in c:\\users\\lab01\\anaconda3\\lib\\site-packages (0.13.4)\n",
      "Requirement already satisfied: shortuuid>=0.5.0 in c:\\users\\lab01\\anaconda3\\lib\\site-packages (from wandb) (1.0.9)\n",
      "Requirement already satisfied: docker-pycreds>=0.4.0 in c:\\users\\lab01\\anaconda3\\lib\\site-packages (from wandb) (0.4.0)\n",
      "Requirement already satisfied: sentry-sdk>=1.0.0 in c:\\users\\lab01\\anaconda3\\lib\\site-packages (from wandb) (1.9.10)\n",
      "Requirement already satisfied: protobuf!=4.0.*,!=4.21.0,<5,>=3.12.0 in c:\\users\\lab01\\anaconda3\\lib\\site-packages (from wandb) (3.19.6)\n",
      "Requirement already satisfied: GitPython>=1.0.0 in c:\\users\\lab01\\anaconda3\\lib\\site-packages (from wandb) (3.1.28)\n",
      "Requirement already satisfied: six>=1.13.0 in c:\\users\\lab01\\anaconda3\\lib\\site-packages (from wandb) (1.16.0)\n",
      "Requirement already satisfied: promise<3,>=2.0 in c:\\users\\lab01\\anaconda3\\lib\\site-packages (from wandb) (2.3)\n",
      "Requirement already satisfied: psutil>=5.0.0 in c:\\users\\lab01\\anaconda3\\lib\\site-packages (from wandb) (5.8.0)\n",
      "Requirement already satisfied: Click!=8.0.0,>=7.0 in c:\\users\\lab01\\anaconda3\\lib\\site-packages (from wandb) (7.1.2)\n",
      "Requirement already satisfied: setproctitle in c:\\users\\lab01\\anaconda3\\lib\\site-packages (from wandb) (1.3.2)\n",
      "Requirement already satisfied: requests<3,>=2.0.0 in c:\\users\\lab01\\anaconda3\\lib\\site-packages (from wandb) (2.25.1)\n",
      "Requirement already satisfied: pathtools in c:\\users\\lab01\\anaconda3\\lib\\site-packages (from wandb) (0.1.2)\n",
      "Requirement already satisfied: PyYAML in c:\\users\\lab01\\anaconda3\\lib\\site-packages (from wandb) (5.4.1)\n",
      "Requirement already satisfied: setuptools in c:\\users\\lab01\\anaconda3\\lib\\site-packages (from wandb) (52.0.0.post20210125)\n",
      "Requirement already satisfied: gitdb<5,>=4.0.1 in c:\\users\\lab01\\anaconda3\\lib\\site-packages (from GitPython>=1.0.0->wandb) (4.0.9)\n",
      "Requirement already satisfied: smmap<6,>=3.0.1 in c:\\users\\lab01\\anaconda3\\lib\\site-packages (from gitdb<5,>=4.0.1->GitPython>=1.0.0->wandb) (5.0.0)\n",
      "Requirement already satisfied: idna<3,>=2.5 in c:\\users\\lab01\\anaconda3\\lib\\site-packages (from requests<3,>=2.0.0->wandb) (2.10)\n",
      "Requirement already satisfied: certifi>=2017.4.17 in c:\\users\\lab01\\anaconda3\\lib\\site-packages (from requests<3,>=2.0.0->wandb) (2020.12.5)\n",
      "Requirement already satisfied: urllib3<1.27,>=1.21.1 in c:\\users\\lab01\\anaconda3\\lib\\site-packages (from requests<3,>=2.0.0->wandb) (1.26.12)\n",
      "Requirement already satisfied: chardet<5,>=3.0.2 in c:\\users\\lab01\\anaconda3\\lib\\site-packages (from requests<3,>=2.0.0->wandb) (4.0.0)\n"
     ]
    }
   ],
   "source": [
    "!pip install wandb"
   ]
  },
  {
   "cell_type": "code",
   "execution_count": 6,
   "id": "6d15315c",
   "metadata": {},
   "outputs": [],
   "source": [
    "# wandb login"
   ]
  },
  {
   "cell_type": "code",
   "execution_count": 7,
   "id": "ea65b8af",
   "metadata": {},
   "outputs": [
    {
     "name": "stdout",
     "output_type": "stream",
     "text": [
      "Date              int64\n",
      "ID               object\n",
      "height          float64\n",
      "weight          float64\n",
      "step_count      float64\n",
      "burn_calorie    float64\n",
      "eat_calorie     float64\n",
      "sleep           float64\n",
      "bmi             float64\n",
      "bmi_target        int64\n",
      "dtype: object\n"
     ]
    }
   ],
   "source": [
    "data=pd.read_excel('./modeling_data/Data_Timeseries.xlsx')\n",
    "print(data.dtypes)"
   ]
  },
  {
   "cell_type": "code",
   "execution_count": 8,
   "id": "5a7ae328",
   "metadata": {},
   "outputs": [],
   "source": [
    "y_origin=data['bmi_target']"
   ]
  },
  {
   "cell_type": "code",
   "execution_count": 9,
   "id": "1da20cc2",
   "metadata": {},
   "outputs": [
    {
     "data": {
      "text/plain": [
       "0        3\n",
       "1        3\n",
       "2        3\n",
       "3        3\n",
       "4        3\n",
       "        ..\n",
       "27043    4\n",
       "27044    4\n",
       "27045    4\n",
       "27046    4\n",
       "27047    4\n",
       "Name: bmi_target, Length: 27048, dtype: int64"
      ]
     },
     "execution_count": 9,
     "metadata": {},
     "output_type": "execute_result"
    }
   ],
   "source": [
    "y_origin"
   ]
  },
  {
   "cell_type": "code",
   "execution_count": 10,
   "id": "40c7ac31",
   "metadata": {},
   "outputs": [],
   "source": [
    "y=pd.get_dummies(data['bmi_target'])"
   ]
  },
  {
   "cell_type": "code",
   "execution_count": 11,
   "id": "d0b57d46",
   "metadata": {},
   "outputs": [],
   "source": [
    "# data['Date'] = pd.to_datetime(data['Date'])"
   ]
  },
  {
   "cell_type": "code",
   "execution_count": 12,
   "id": "b8420ad9",
   "metadata": {},
   "outputs": [
    {
     "name": "stdout",
     "output_type": "stream",
     "text": [
      "       height  weight  step_count  burn_calorie  eat_calorie  sleep        bmi\n",
      "0       148.0    45.0        72.0           0.0          0.0    0.0  20.544193\n",
      "1       148.0    45.0        72.0           0.0          0.0    0.0  20.544193\n",
      "2       148.0    45.0        72.0           0.0          0.0    0.0  20.544193\n",
      "3       148.0    45.0        72.0           0.0          0.0    0.0  20.544193\n",
      "4       148.0    45.0        72.0           0.0          0.0    0.0  20.544193\n",
      "...       ...     ...         ...           ...          ...    ...        ...\n",
      "27043   153.0    68.0         0.0           0.0          0.0    0.0  29.048656\n",
      "27044   153.0    68.0         0.0           0.0          0.0    0.0  29.048656\n",
      "27045   153.0    68.0         0.0           0.0          0.0    0.0  29.048656\n",
      "27046   153.0    68.0         0.0           0.0          0.0    0.0  29.048656\n",
      "27047   153.0    68.0         0.0           0.0          0.0    0.0  29.048656\n",
      "\n",
      "[27048 rows x 7 columns]\n",
      "    1  2  3  4\n",
      "0   0  0  1  0\n",
      "1   0  0  1  0\n",
      "2   0  0  1  0\n",
      "3   0  0  1  0\n",
      "4   0  0  1  0\n",
      ".. .. .. .. ..\n",
      "79  0  0  1  0\n",
      "80  0  0  1  0\n",
      "81  0  0  1  0\n",
      "82  0  0  1  0\n",
      "83  0  0  1  0\n",
      "\n",
      "[84 rows x 4 columns]\n"
     ]
    }
   ],
   "source": [
    "# data.set_index('Date', inplace=True)\n",
    "X=data.iloc[:,2:9]\n",
    "y=y.iloc[0:84]\n",
    "print(X)\n",
    "print(y)"
   ]
  },
  {
   "cell_type": "code",
   "execution_count": 13,
   "id": "1ce8a30a",
   "metadata": {},
   "outputs": [
    {
     "name": "stdout",
     "output_type": "stream",
     "text": [
      "Training Shape (57, 7) (57, 4)\n",
      "Testing Shape (27, 7) (27, 4)\n"
     ]
    }
   ],
   "source": [
    "ms = MinMaxScaler()\n",
    "ss = StandardScaler()\n",
    "X_ss = ss.fit_transform(X)\n",
    "# y_ms = ms.fit_transform(y) \n",
    "y_ms=y\n",
    "\n",
    "X_train = X_ss[:57, :]\n",
    "X_test = X_ss[57:84, :]\n",
    "\n",
    "y_train = y_ms[:57]\n",
    "y_test = y_ms[57:] \n",
    "\n",
    "y_train=y_train.to_numpy()\n",
    "y_test=y_test.to_numpy()\n",
    "print(\"Training Shape\", X_train.shape, y_train.shape)\n",
    "print(\"Testing Shape\", X_test.shape, y_test.shape) "
   ]
  },
  {
   "cell_type": "code",
   "execution_count": 14,
   "id": "6259db46",
   "metadata": {},
   "outputs": [],
   "source": [
    "X_train_tensors = Variable(torch.Tensor(X_train))\n",
    "X_test_tensors = Variable(torch.Tensor(X_test))"
   ]
  },
  {
   "cell_type": "code",
   "execution_count": 15,
   "id": "537cfb85",
   "metadata": {},
   "outputs": [
    {
     "data": {
      "text/plain": [
       "numpy.ndarray"
      ]
     },
     "execution_count": 15,
     "metadata": {},
     "output_type": "execute_result"
    }
   ],
   "source": [
    "type(y_train)"
   ]
  },
  {
   "cell_type": "code",
   "execution_count": 16,
   "id": "01d68583",
   "metadata": {},
   "outputs": [
    {
     "name": "stdout",
     "output_type": "stream",
     "text": [
      "Training Shape torch.Size([57, 1, 7]) torch.Size([57, 1, 4])\n",
      "Testing Shape torch.Size([27, 1, 7]) torch.Size([27, 1, 4])\n"
     ]
    }
   ],
   "source": [
    "y_train_tensors = Variable(torch.Tensor(y_train))\n",
    "y_test_tensors = Variable(torch.Tensor(y_test))\n",
    "\n",
    "X_train_tensors_f = torch.reshape(X_train_tensors,   (X_train_tensors.shape[0], 1, X_train_tensors.shape[1]))\n",
    "X_test_tensors_f = torch.reshape(X_test_tensors,  (X_test_tensors.shape[0], 1, X_test_tensors.shape[1])) \n",
    "\n",
    "y_train_tensors_f = torch.reshape(y_train_tensors,   (y_train_tensors.shape[0], 1, y_train_tensors.shape[1]))\n",
    "y_test_tensors_f = torch.reshape(y_test_tensors,  (y_test_tensors.shape[0], 1, y_test_tensors.shape[1])) \n",
    "\n",
    "\n",
    "print(\"Training Shape\", X_train_tensors_f.shape, y_train_tensors_f.shape)\n",
    "print(\"Testing Shape\", X_test_tensors_f.shape, y_test_tensors_f.shape) "
   ]
  },
  {
   "cell_type": "code",
   "execution_count": 17,
   "id": "a6361bdd",
   "metadata": {},
   "outputs": [
    {
     "data": {
      "text/html": [
       "Finishing last run (ID:rgis5x6w) before initializing another..."
      ],
      "text/plain": [
       "<IPython.core.display.HTML object>"
      ]
     },
     "metadata": {},
     "output_type": "display_data"
    },
    {
     "data": {
      "text/html": [
       "Waiting for W&B process to finish... <strong style=\"color:green\">(success).</strong>"
      ],
      "text/plain": [
       "<IPython.core.display.HTML object>"
      ]
     },
     "metadata": {},
     "output_type": "display_data"
    },
    {
     "data": {
      "application/vnd.jupyter.widget-view+json": {
       "model_id": "967e6fb032f74e989753ccf1461db2fe",
       "version_major": 2,
       "version_minor": 0
      },
      "text/plain": [
       "VBox(children=(Label(value='0.000 MB of 0.000 MB uploaded (0.000 MB deduped)\\r'), FloatProgress(value=1.0, max…"
      ]
     },
     "metadata": {},
     "output_type": "display_data"
    },
    {
     "data": {
      "text/html": [
       "Synced <strong style=\"color:#cdcd00\">summer-forest-5</strong>: <a href=\"https://wandb.ai/jmjung1997/bmi-LSTM/runs/rgis5x6w\" target=\"_blank\">https://wandb.ai/jmjung1997/bmi-LSTM/runs/rgis5x6w</a><br/>Synced 6 W&B file(s), 0 media file(s), 0 artifact file(s) and 0 other file(s)"
      ],
      "text/plain": [
       "<IPython.core.display.HTML object>"
      ]
     },
     "metadata": {},
     "output_type": "display_data"
    },
    {
     "data": {
      "text/html": [
       "Find logs at: <code>.\\wandb\\run-20221011_221806-rgis5x6w\\logs</code>"
      ],
      "text/plain": [
       "<IPython.core.display.HTML object>"
      ]
     },
     "metadata": {},
     "output_type": "display_data"
    },
    {
     "data": {
      "text/html": [
       "Successfully finished last run (ID:rgis5x6w). Initializing new run:<br/>"
      ],
      "text/plain": [
       "<IPython.core.display.HTML object>"
      ]
     },
     "metadata": {},
     "output_type": "display_data"
    },
    {
     "data": {
      "application/vnd.jupyter.widget-view+json": {
       "model_id": "47464d482940479a8ed814056e18f45f",
       "version_major": 2,
       "version_minor": 0
      },
      "text/plain": [
       "VBox(children=(Label(value='Waiting for wandb.init()...\\r'), FloatProgress(value=0.01693333333435779, max=1.0)…"
      ]
     },
     "metadata": {},
     "output_type": "display_data"
    },
    {
     "data": {
      "text/html": [
       "Tracking run with wandb version 0.13.4"
      ],
      "text/plain": [
       "<IPython.core.display.HTML object>"
      ]
     },
     "metadata": {},
     "output_type": "display_data"
    },
    {
     "data": {
      "text/html": [
       "Run data is saved locally in <code>C:\\Users\\Lab01\\BMI\\modeling\\wandb\\run-20221011_221820-1wgamxmt</code>"
      ],
      "text/plain": [
       "<IPython.core.display.HTML object>"
      ]
     },
     "metadata": {},
     "output_type": "display_data"
    },
    {
     "data": {
      "text/html": [
       "Syncing run <strong><a href=\"https://wandb.ai/jmjung1997/uncategorized/runs/1wgamxmt\" target=\"_blank\">comfy-microwave-3</a></strong> to <a href=\"https://wandb.ai/jmjung1997/uncategorized\" target=\"_blank\">Weights & Biases</a> (<a href=\"https://wandb.me/run\" target=\"_blank\">docs</a>)<br/>"
      ],
      "text/plain": [
       "<IPython.core.display.HTML object>"
      ]
     },
     "metadata": {},
     "output_type": "display_data"
    },
    {
     "data": {
      "text/html": [
       "<button onClick=\"this.nextSibling.style.display='block';this.style.display='none';\">Display W&B run</button><iframe src=\"https://wandb.ai/jmjung1997/uncategorized/runs/1wgamxmt?jupyter=true\" style=\"border:none;width:100%;height:420px;display:none;\"></iframe>"
      ],
      "text/plain": [
       "<wandb.sdk.wandb_run.Run at 0x2378cb39910>"
      ]
     },
     "execution_count": 17,
     "metadata": {},
     "output_type": "execute_result"
    }
   ],
   "source": [
    "wandb.init()"
   ]
  },
  {
   "cell_type": "code",
   "execution_count": 18,
   "id": "c99c421e",
   "metadata": {},
   "outputs": [],
   "source": [
    "class LSTM(nn.Module):\n",
    "    def __init__(self, num_classes, input_size, hidden_size, num_layers, seq_length):\n",
    "        super(LSTM, self).__init__()\n",
    "        self.num_classes = num_classes \n",
    "        self.num_layers = num_layers \n",
    "        self.input_size = input_size \n",
    "        self.hidden_size = hidden_size \n",
    "        self.seq_length = seq_length \n",
    "\n",
    "        self.lstm = nn.LSTM(input_size=input_size, hidden_size=hidden_size,\n",
    "                          num_layers=num_layers, batch_first=True) \n",
    "        self.fc_1 =  nn.Linear(hidden_size, 128) \n",
    "        self.fc = nn.Linear(128, num_classes) \n",
    "\n",
    "        self.relu = nn.ReLU()\n",
    "    \n",
    "    def forward(self,x):\n",
    "        h_0 = Variable(torch.zeros(self.num_layers, x.size(0), self.hidden_size)) \n",
    "        c_0 = Variable(torch.zeros(self.num_layers, x.size(0), self.hidden_size)) \n",
    "        \n",
    "        output, (hn, cn) = self.lstm(x, (h_0, c_0)) \n",
    "        hn = hn.view(-1, self.hidden_size) \n",
    "        out = self.relu(hn)\n",
    "        out = self.fc_1(out) \n",
    "        out = self.relu(out) \n",
    "        out = self.fc(out)\n",
    "        return out"
   ]
  },
  {
   "cell_type": "code",
   "execution_count": 19,
   "id": "4026c82f",
   "metadata": {},
   "outputs": [],
   "source": [
    "num_epochs = 1000 \n",
    "learning_rate = 0.0001 \n",
    "\n",
    "input_size = 7\n",
    "hidden_size = 2 \n",
    "num_layers = 1\n",
    "\n",
    "num_classes = 4\n",
    "model = LSTM(num_classes, input_size, hidden_size, num_layers, X_train_tensors_f.shape[1]) \n",
    "\n",
    "criterion = torch.nn.MSELoss()    \n",
    "optimizer = torch.optim.Adam(model.parameters(), lr=learning_rate) "
   ]
  },
  {
   "cell_type": "code",
   "execution_count": 21,
   "id": "223eb6ae",
   "metadata": {},
   "outputs": [
    {
     "name": "stdout",
     "output_type": "stream",
     "text": [
      "Epoch: 0,loss: 0.40451\n",
      "Epoch: 100,loss: 0.21919\n",
      "Epoch: 200,loss: 0.11704\n",
      "Epoch: 300,loss: 0.05945\n",
      "Epoch: 400,loss: 0.02749\n",
      "Epoch: 500,loss: 0.01125\n",
      "Epoch: 600,loss: 0.00400\n",
      "Epoch: 700,loss: 0.00123\n",
      "Epoch: 800,loss: 0.00032\n",
      "Epoch: 900,loss: 0.00007\n"
     ]
    }
   ],
   "source": [
    "for epoch in range(num_epochs):\n",
    "    outputs = model.forward(X_train_tensors_f)\n",
    "\n",
    "    optimizer.zero_grad()  \n",
    "    loss = criterion(outputs, y_train_tensors) \n",
    "    loss.backward() \n",
    "    optimizer.step() \n",
    "    wandb.log({\"loss\":loss})\n",
    "    if epoch % 100 == 0:\n",
    "        print(\"Epoch: %d,loss: %1.5f\" % (epoch, loss.item())) \n",
    "        "
   ]
  },
  {
   "cell_type": "code",
   "execution_count": 22,
   "id": "13d5bc45",
   "metadata": {},
   "outputs": [],
   "source": [
    "df_x_ss = ss.transform(data.iloc[:57, 2:9]) \n",
    "#df_y_ms = ms.transform(y.iloc[:57]) \n",
    "df_y_ms=y_train\n",
    "df_x_ss = Variable(torch.Tensor(df_x_ss)) \n",
    "df_y_ms = Variable(torch.Tensor(df_y_ms))\n",
    "df_x_ss = torch.reshape(df_x_ss, (df_x_ss.shape[0], 1, df_x_ss.shape[1])) "
   ]
  },
  {
   "cell_type": "code",
   "execution_count": 23,
   "id": "3feff2c4",
   "metadata": {},
   "outputs": [],
   "source": [
    "train_predict = model(df_x_ss)\n",
    "predicted = train_predict.data.numpy() \n",
    "label_y = df_y_ms.data.numpy()"
   ]
  },
  {
   "cell_type": "code",
   "execution_count": 26,
   "id": "e84f7f0f",
   "metadata": {},
   "outputs": [
    {
     "data": {
      "text/plain": [
       "array([[ 1.5286729e-05, -9.7416341e-07,  9.9244779e-01,  6.2823296e-05],\n",
       "       [ 1.5286729e-05, -9.7416341e-07,  9.9244779e-01,  6.2823296e-05],\n",
       "       [ 1.5286729e-05, -9.7416341e-07,  9.9244779e-01,  6.2823296e-05],\n",
       "       [ 1.5286729e-05, -9.7416341e-07,  9.9244779e-01,  6.2823296e-05],\n",
       "       [ 1.5286729e-05, -9.7416341e-07,  9.9244779e-01,  6.2823296e-05],\n",
       "       [ 1.5286729e-05, -9.7416341e-07,  9.9244779e-01,  6.2823296e-05],\n",
       "       [ 1.5286729e-05, -9.7416341e-07,  9.9244779e-01,  6.2823296e-05],\n",
       "       [ 1.5286729e-05, -9.7416341e-07,  9.9244779e-01,  6.2823296e-05],\n",
       "       [ 1.5286729e-05, -9.7416341e-07,  9.9244779e-01,  6.2823296e-05],\n",
       "       [ 1.5286729e-05, -9.7416341e-07,  9.9244779e-01,  6.2823296e-05],\n",
       "       [ 1.5286729e-05, -9.7416341e-07,  9.9244779e-01,  6.2823296e-05],\n",
       "       [ 1.5286729e-05, -9.7416341e-07,  9.9244779e-01,  6.2823296e-05],\n",
       "       [ 1.5286729e-05, -9.7416341e-07,  9.9244779e-01,  6.2823296e-05],\n",
       "       [ 1.5286729e-05, -9.7416341e-07,  9.9244779e-01,  6.2823296e-05],\n",
       "       [ 1.5286729e-05, -9.7416341e-07,  9.9244779e-01,  6.2823296e-05],\n",
       "       [ 1.5286729e-05, -9.7416341e-07,  9.9244779e-01,  6.2823296e-05],\n",
       "       [ 1.5286729e-05, -9.7416341e-07,  9.9244779e-01,  6.2823296e-05],\n",
       "       [ 1.5286729e-05, -9.7416341e-07,  9.9244779e-01,  6.2823296e-05],\n",
       "       [ 1.5286729e-05, -9.7416341e-07,  9.9244779e-01,  6.2823296e-05],\n",
       "       [ 1.5286729e-05, -9.7416341e-07,  9.9244779e-01,  6.2823296e-05],\n",
       "       [ 1.5286729e-05, -9.7416341e-07,  9.9244779e-01,  6.2823296e-05],\n",
       "       [ 1.5286729e-05, -9.7416341e-07,  9.9244779e-01,  6.2823296e-05],\n",
       "       [ 1.5286729e-05, -9.7416341e-07,  9.9244779e-01,  6.2823296e-05],\n",
       "       [ 1.5286729e-05, -9.7416341e-07,  9.9244779e-01,  6.2823296e-05],\n",
       "       [ 1.5286729e-05, -9.7416341e-07,  9.9244779e-01,  6.2823296e-05],\n",
       "       [ 1.5286729e-05, -9.7416341e-07,  9.9244779e-01,  6.2823296e-05],\n",
       "       [ 1.5286729e-05, -9.7416341e-07,  9.9244779e-01,  6.2823296e-05],\n",
       "       [ 1.5286729e-05, -9.7416341e-07,  9.9244779e-01,  6.2823296e-05],\n",
       "       [ 1.5286729e-05, -9.7416341e-07,  9.9244779e-01,  6.2823296e-05],\n",
       "       [ 1.5286729e-05, -9.7416341e-07,  9.9244779e-01,  6.2823296e-05],\n",
       "       [ 1.5286729e-05, -9.7416341e-07,  9.9244779e-01,  6.2823296e-05],\n",
       "       [ 1.5286729e-05, -9.7416341e-07,  9.9244779e-01,  6.2823296e-05],\n",
       "       [ 1.5286729e-05, -9.7416341e-07,  9.9244779e-01,  6.2823296e-05],\n",
       "       [ 1.5286729e-05, -9.7416341e-07,  9.9244779e-01,  6.2823296e-05],\n",
       "       [ 1.5286729e-05, -9.7416341e-07,  9.9244779e-01,  6.2823296e-05],\n",
       "       [ 1.5286729e-05, -9.7416341e-07,  9.9244779e-01,  6.2823296e-05],\n",
       "       [ 1.5286729e-05, -9.7416341e-07,  9.9244779e-01,  6.2823296e-05],\n",
       "       [ 1.5286729e-05, -9.7416341e-07,  9.9244779e-01,  6.2823296e-05],\n",
       "       [ 1.5286729e-05, -9.7416341e-07,  9.9244779e-01,  6.2823296e-05],\n",
       "       [ 1.5286729e-05, -9.7416341e-07,  9.9244779e-01,  6.2823296e-05],\n",
       "       [ 1.5286729e-05, -9.7416341e-07,  9.9244779e-01,  6.2823296e-05],\n",
       "       [ 1.5286729e-05, -9.7416341e-07,  9.9244779e-01,  6.2823296e-05],\n",
       "       [ 1.5286729e-05, -9.7416341e-07,  9.9244779e-01,  6.2823296e-05],\n",
       "       [ 1.5286729e-05, -9.7416341e-07,  9.9244779e-01,  6.2823296e-05],\n",
       "       [ 1.5286729e-05, -9.7416341e-07,  9.9244779e-01,  6.2823296e-05],\n",
       "       [ 1.5286729e-05, -9.7416341e-07,  9.9244779e-01,  6.2823296e-05],\n",
       "       [ 1.5286729e-05, -9.7416341e-07,  9.9244779e-01,  6.2823296e-05],\n",
       "       [ 1.5286729e-05, -9.7416341e-07,  9.9244779e-01,  6.2823296e-05],\n",
       "       [ 1.5286729e-05, -9.7416341e-07,  9.9244779e-01,  6.2823296e-05],\n",
       "       [ 1.5286729e-05, -9.7416341e-07,  9.9244779e-01,  6.2823296e-05],\n",
       "       [ 1.5286729e-05, -9.7416341e-07,  9.9244779e-01,  6.2823296e-05],\n",
       "       [ 1.5286729e-05, -9.7416341e-07,  9.9244779e-01,  6.2823296e-05],\n",
       "       [ 1.5286729e-05, -9.7416341e-07,  9.9244779e-01,  6.2823296e-05],\n",
       "       [ 1.5286729e-05, -9.7416341e-07,  9.9244779e-01,  6.2823296e-05],\n",
       "       [ 1.5286729e-05, -9.7416341e-07,  9.9244779e-01,  6.2823296e-05],\n",
       "       [ 1.5286729e-05, -9.7416341e-07,  9.9244779e-01,  6.2823296e-05],\n",
       "       [ 1.5286729e-05, -9.7416341e-07,  9.9244779e-01,  6.2823296e-05]],\n",
       "      dtype=float32)"
      ]
     },
     "execution_count": 26,
     "metadata": {},
     "output_type": "execute_result"
    }
   ],
   "source": [
    "predicted"
   ]
  },
  {
   "cell_type": "code",
   "execution_count": null,
   "id": "ecb21d5f",
   "metadata": {},
   "outputs": [],
   "source": [
    "argmax = torch.argmax()\n",
    "argmax"
   ]
  },
  {
   "cell_type": "code",
   "execution_count": 25,
   "id": "f2156b26",
   "metadata": {},
   "outputs": [
    {
     "name": "stdout",
     "output_type": "stream",
     "text": [
      "0  :  maxIndx 3 y_origin[i] 2\n",
      "1  :  maxIndx 3 y_origin[i] 2\n",
      "2  :  maxIndx 3 y_origin[i] 2\n",
      "3  :  maxIndx 3 y_origin[i] 2\n",
      "4  :  maxIndx 3 y_origin[i] 2\n",
      "5  :  maxIndx 3 y_origin[i] 2\n",
      "6  :  maxIndx 3 y_origin[i] 2\n",
      "7  :  maxIndx 3 y_origin[i] 2\n",
      "8  :  maxIndx 3 y_origin[i] 2\n",
      "9  :  maxIndx 3 y_origin[i] 2\n",
      "10  :  maxIndx 3 y_origin[i] 2\n",
      "11  :  maxIndx 3 y_origin[i] 2\n",
      "12  :  maxIndx 3 y_origin[i] 2\n",
      "13  :  maxIndx 3 y_origin[i] 2\n",
      "14  :  maxIndx 3 y_origin[i] 2\n",
      "15  :  maxIndx 3 y_origin[i] 2\n",
      "16  :  maxIndx 3 y_origin[i] 2\n",
      "17  :  maxIndx 3 y_origin[i] 2\n",
      "18  :  maxIndx 3 y_origin[i] 2\n",
      "19  :  maxIndx 3 y_origin[i] 2\n",
      "20  :  maxIndx 3 y_origin[i] 2\n",
      "21  :  maxIndx 3 y_origin[i] 2\n",
      "22  :  maxIndx 3 y_origin[i] 2\n",
      "23  :  maxIndx 3 y_origin[i] 2\n",
      "24  :  maxIndx 3 y_origin[i] 2\n",
      "25  :  maxIndx 3 y_origin[i] 2\n",
      "26  :  maxIndx 3 y_origin[i] 2\n",
      "0\n",
      "27\n",
      "0.0\n"
     ]
    }
   ],
   "source": [
    "count=0\n",
    "for i in range(len(y_test)):\n",
    "    for j in range(1,4):\n",
    "        maxIndex=0\n",
    "        if(predicted[i][j]>max):\n",
    "            max=predicted[i][j]\n",
    "            maxIndex=j\n",
    "    print(i, \" : \" ,\"maxIndx\",maxIndex,\"y_origin[i]\",y_origin[i]-1)\n",
    "    if y_origin[i]-1==maxIndex:\n",
    "#         print(i, \" : \" ,\"maxIndx\",maxIndex,\"y_origin[i]\",y_origin[i]-1)\n",
    "        count=count+1\n",
    "\n",
    "print(count)\n",
    "print(len(y_test))\n",
    "print(count/len(y_test))"
   ]
  },
  {
   "cell_type": "code",
   "execution_count": null,
   "id": "590bfbc1",
   "metadata": {},
   "outputs": [],
   "source": [
    "pred = train_predict.argmax(dim=1)"
   ]
  },
  {
   "cell_type": "code",
   "execution_count": null,
   "id": "0f9c0cda",
   "metadata": {},
   "outputs": [],
   "source": [
    "def train_net(net, train_loader, test_loader,\n",
    "              optimizer_cls=optim.Adam,\n",
    "              loss_fn=nn.CrossEntropyLoss(),learning_rate=0.1,\n",
    "              n_iter=10, device=\"cpu\"):\n",
    "    train_losses = []\n",
    "    train_acc = []\n",
    "    val_acc = []\n",
    "    optimizer = optimizer_cls(net.parameters(),lr = learning_rate)\n",
    "    for epoch in range(n_iter):\n",
    "        running_loss = 0.0\n",
    "        # 신경망을 훈련 모드로 설정\n",
    "        net.train()\n",
    "        n = 0\n",
    "        n_acc = 0\n",
    "        # 시간이 많이 걸리므로 tqdm을 사용해서 진행바를 표시\n",
    "        for i, (xx, yy) in tqdm.tqdm(enumerate(train_loader),\n",
    "            total=len(train_loader)):\n",
    "            xx = xx.to(device)\n",
    "            yy = yy.to(device)\n",
    "            h = net(xx)\n",
    "            loss = loss_fn(h, (yy))\n",
    "            optimizer.zero_grad()\n",
    "            loss.backward()\n",
    "            optimizer.step()\n",
    "            running_loss += loss.item()\n",
    "            n += len(xx)\n",
    "            _, y_pred = h.max(1)\n",
    "            n_acc += (yy == (y_pred)).float().sum().item()\n",
    "        train_losses.append(running_loss / i)\n",
    "        # 훈련 데이터의 예측 정확도\n",
    "        train_acc.append(n_acc / n)\n",
    "\n",
    "        # 검증 데이터의 예측 정확도\n",
    "        val_acc.append(eval_net(net, test_loader, device))\n",
    "        # epoch의 결과 표시\n",
    "        print(\"Epoch : \",epoch,\"학습 손실 : \",train_losses[-1],\"학습 정확도 : \",train_acc[-1],\n",
    "            \"평가 정확도 : \",val_acc[-1], flush=True,)\n",
    "        \n",
    "        \n",
    "        # Loss 출력\n",
    "        plt.plot(train_losses)\n",
    "        plt.xlabel('Epoch')\n",
    "        plt.ylabel('Loss')\n",
    "        #plt.plot(val_acc[-1])"
   ]
  },
  {
   "cell_type": "code",
   "execution_count": null,
   "id": "94239ebd",
   "metadata": {},
   "outputs": [],
   "source": [
    "# predicted= ms.inverse_transform(predicted) \n",
    "# label_y = ms.inverse_transform(label_y)\n",
    "plt.figure(figsize=(10,6)) \n",
    "plt.axvline(x=200, c='r', linestyle='--') \n",
    "\n",
    "plt.plot(label_y, label='Actual Data') \n",
    "plt.plot(predicted, label='Predicted Data') \n",
    "plt.title('Time-Series Prediction')\n",
    "plt.legend()\n",
    "plt.show()"
   ]
  },
  {
   "cell_type": "code",
   "execution_count": null,
   "id": "eaf08487",
   "metadata": {},
   "outputs": [],
   "source": []
  },
  {
   "cell_type": "code",
   "execution_count": null,
   "id": "b11d83bf",
   "metadata": {},
   "outputs": [],
   "source": []
  },
  {
   "cell_type": "code",
   "execution_count": null,
   "id": "91c411be",
   "metadata": {},
   "outputs": [],
   "source": []
  }
 ],
 "metadata": {
  "kernelspec": {
   "display_name": "Python 3",
   "language": "python",
   "name": "python3"
  },
  "language_info": {
   "codemirror_mode": {
    "name": "ipython",
    "version": 3
   },
   "file_extension": ".py",
   "mimetype": "text/x-python",
   "name": "python",
   "nbconvert_exporter": "python",
   "pygments_lexer": "ipython3",
   "version": "3.8.8"
  }
 },
 "nbformat": 4,
 "nbformat_minor": 5
}
