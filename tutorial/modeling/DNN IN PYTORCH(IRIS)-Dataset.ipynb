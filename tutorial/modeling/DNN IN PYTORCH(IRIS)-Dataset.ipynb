{
 "cells": [
  {
   "cell_type": "markdown",
   "id": "a4661d8e",
   "metadata": {},
   "source": [
    "## 기본 베이지 DNN"
   ]
  },
  {
   "cell_type": "code",
   "execution_count": 1,
   "id": "4aae5b1d",
   "metadata": {},
   "outputs": [],
   "source": [
    "import pandas as pd\n",
    "import numpy as np\n",
    "import torch\n",
    "import torch.nn as nn\n",
    "from sklearn.preprocessing import MinMaxScaler\n",
    "from tensorflow.python.keras.models import Sequential\n",
    "from tensorflow.python.keras.layers import Dense,Dropout,Activation\n",
    "from torch.utils.data import TensorDataset, DataLoader\n",
    "from tensorflow.python.keras import metrics\n",
    "from tensorflow.python import keras\n",
    "import tensorflow as tf\n",
    "import matplotlib.pyplot as plt\n",
    "from imblearn.over_sampling import SMOTE"
   ]
  },
  {
   "cell_type": "code",
   "execution_count": 2,
   "id": "00b25c50",
   "metadata": {},
   "outputs": [],
   "source": [
    "%matplotlib inline"
   ]
  },
  {
   "cell_type": "code",
   "execution_count": 3,
   "id": "4e051e0b",
   "metadata": {},
   "outputs": [],
   "source": [
    "df=pd.read_excel('./modeling_data/Continous_2weeks_14day_5term.xlsx')"
   ]
  },
  {
   "cell_type": "code",
   "execution_count": 4,
   "id": "5d594da7",
   "metadata": {},
   "outputs": [
    {
     "data": {
      "text/html": [
       "<div>\n",
       "<style scoped>\n",
       "    .dataframe tbody tr th:only-of-type {\n",
       "        vertical-align: middle;\n",
       "    }\n",
       "\n",
       "    .dataframe tbody tr th {\n",
       "        vertical-align: top;\n",
       "    }\n",
       "\n",
       "    .dataframe thead th {\n",
       "        text-align: right;\n",
       "    }\n",
       "</style>\n",
       "<table border=\"1\" class=\"dataframe\">\n",
       "  <thead>\n",
       "    <tr style=\"text-align: right;\">\n",
       "      <th></th>\n",
       "      <th>0</th>\n",
       "      <th>1</th>\n",
       "      <th>2</th>\n",
       "      <th>3</th>\n",
       "      <th>4</th>\n",
       "      <th>5</th>\n",
       "      <th>6</th>\n",
       "      <th>7</th>\n",
       "      <th>Label</th>\n",
       "    </tr>\n",
       "  </thead>\n",
       "  <tbody>\n",
       "    <tr>\n",
       "      <th>0</th>\n",
       "      <td>#AAGQKY</td>\n",
       "      <td>45.0</td>\n",
       "      <td>20.544193</td>\n",
       "      <td>72.0</td>\n",
       "      <td>0.0</td>\n",
       "      <td>0.0</td>\n",
       "      <td>0.0</td>\n",
       "      <td>148.0</td>\n",
       "      <td>0</td>\n",
       "    </tr>\n",
       "    <tr>\n",
       "      <th>1</th>\n",
       "      <td>#AAGQKY</td>\n",
       "      <td>45.0</td>\n",
       "      <td>20.544193</td>\n",
       "      <td>72.0</td>\n",
       "      <td>0.0</td>\n",
       "      <td>0.0</td>\n",
       "      <td>0.0</td>\n",
       "      <td>148.0</td>\n",
       "      <td>0</td>\n",
       "    </tr>\n",
       "    <tr>\n",
       "      <th>2</th>\n",
       "      <td>#AAGQKY</td>\n",
       "      <td>45.0</td>\n",
       "      <td>20.544193</td>\n",
       "      <td>72.0</td>\n",
       "      <td>0.0</td>\n",
       "      <td>0.0</td>\n",
       "      <td>0.0</td>\n",
       "      <td>148.0</td>\n",
       "      <td>0</td>\n",
       "    </tr>\n",
       "    <tr>\n",
       "      <th>3</th>\n",
       "      <td>#AAGQKY</td>\n",
       "      <td>45.0</td>\n",
       "      <td>20.544193</td>\n",
       "      <td>72.0</td>\n",
       "      <td>0.0</td>\n",
       "      <td>0.0</td>\n",
       "      <td>0.0</td>\n",
       "      <td>148.0</td>\n",
       "      <td>0</td>\n",
       "    </tr>\n",
       "    <tr>\n",
       "      <th>4</th>\n",
       "      <td>#AAGQKY</td>\n",
       "      <td>45.0</td>\n",
       "      <td>20.544193</td>\n",
       "      <td>72.0</td>\n",
       "      <td>0.0</td>\n",
       "      <td>0.0</td>\n",
       "      <td>0.0</td>\n",
       "      <td>148.0</td>\n",
       "      <td>0</td>\n",
       "    </tr>\n",
       "  </tbody>\n",
       "</table>\n",
       "</div>"
      ],
      "text/plain": [
       "         0     1          2     3    4    5    6      7  Label\n",
       "0  #AAGQKY  45.0  20.544193  72.0  0.0  0.0  0.0  148.0      0\n",
       "1  #AAGQKY  45.0  20.544193  72.0  0.0  0.0  0.0  148.0      0\n",
       "2  #AAGQKY  45.0  20.544193  72.0  0.0  0.0  0.0  148.0      0\n",
       "3  #AAGQKY  45.0  20.544193  72.0  0.0  0.0  0.0  148.0      0\n",
       "4  #AAGQKY  45.0  20.544193  72.0  0.0  0.0  0.0  148.0      0"
      ]
     },
     "execution_count": 4,
     "metadata": {},
     "output_type": "execute_result"
    }
   ],
   "source": [
    "df.head()"
   ]
  },
  {
   "cell_type": "code",
   "execution_count": 5,
   "id": "c3c5acb1",
   "metadata": {},
   "outputs": [],
   "source": [
    "X=df.iloc[:,1:7]\n",
    "y=df.loc[:,\"Label\"]"
   ]
  },
  {
   "cell_type": "code",
   "execution_count": 6,
   "id": "49d873d5",
   "metadata": {},
   "outputs": [
    {
     "data": {
      "text/plain": [
       "1      43.900000\n",
       "2      18.510710\n",
       "3    1830.100000\n",
       "4       0.000000\n",
       "5    7425.846154\n",
       "6       0.000000\n",
       "Name: 3374, dtype: float64"
      ]
     },
     "execution_count": 6,
     "metadata": {},
     "output_type": "execute_result"
    }
   ],
   "source": [
    "X.iloc[3374,0:7]"
   ]
  },
  {
   "cell_type": "code",
   "execution_count": 7,
   "id": "cbec4758",
   "metadata": {},
   "outputs": [],
   "source": [
    "from sklearn.preprocessing import StandardScaler\n",
    "from sklearn.model_selection import train_test_split"
   ]
  },
  {
   "cell_type": "code",
   "execution_count": 8,
   "id": "ca6573bf",
   "metadata": {},
   "outputs": [],
   "source": [
    "scaler = StandardScaler()\n",
    "\n",
    "# X_train, X_test, y_train, y_test = train_test_split(X, y, test_size=0.30)\n",
    "X_train=X.iloc[:3375,:]\n",
    "X_test=X.iloc[3375:,:]\n",
    "\n",
    "y_train=y.iloc[:3375]\n",
    "y_test=y.iloc[3375:]\n",
    "\n",
    "X_train = scaler.fit_transform(X_train)\n",
    "X_test = scaler.transform(X_test)"
   ]
  },
  {
   "cell_type": "code",
   "execution_count": 9,
   "id": "61286f0a",
   "metadata": {},
   "outputs": [
    {
     "name": "stdout",
     "output_type": "stream",
     "text": [
      "SMOTE 적용 전 학습용 피처/레이블 데이터 세트:  (3375, 6) (3375,)\n",
      "SMOTE 적용 후 학습용 피처/레이블 데이터 세트:  (7311, 6) (7311,)\n",
      "SMOTE 적용 전 레이블 값 분포: \n",
      " 0    2437\n",
      "1     535\n",
      "2     403\n",
      "Name: Label, dtype: int64\n",
      "SMOTE 적용 후 레이블 값 분포: \n",
      " 0    2437\n",
      "1    2437\n",
      "2    2437\n",
      "Name: Label, dtype: int64\n"
     ]
    }
   ],
   "source": [
    "smote = SMOTE(random_state=0)\n",
    "X_train_over,y_train_over = smote.fit_resample(X_train,y_train)\n",
    "print('SMOTE 적용 전 학습용 피처/레이블 데이터 세트: ', X_train.shape, y_train.shape)\n",
    "print('SMOTE 적용 후 학습용 피처/레이블 데이터 세트: ', X_train_over.shape, y_train_over.shape)\n",
    "print('SMOTE 적용 전 레이블 값 분포: \\n', pd.Series(y_train).value_counts())\n",
    "print('SMOTE 적용 후 레이블 값 분포: \\n', pd.Series(y_train_over).value_counts())"
   ]
  },
  {
   "cell_type": "code",
   "execution_count": 10,
   "id": "352345cd",
   "metadata": {},
   "outputs": [],
   "source": [
    "X_train = torch.FloatTensor(X_train_over)\n",
    "X_test = torch.FloatTensor(X_test)\n",
    "y_train = torch.LongTensor(y_train_over)\n",
    "y_test = torch.LongTensor(y_test.to_numpy())"
   ]
  },
  {
   "cell_type": "code",
   "execution_count": 11,
   "id": "f7b3fc44",
   "metadata": {},
   "outputs": [],
   "source": [
    "train_dataset = TensorDataset(X_train, y_train)\n",
    "test_dataset=TensorDataset(X_test, y_test)"
   ]
  },
  {
   "cell_type": "code",
   "execution_count": 12,
   "id": "3e77acfc",
   "metadata": {},
   "outputs": [],
   "source": [
    "train_dataloader = DataLoader(train_dataset, batch_size=30, shuffle=False)\n",
    "test_dataloader = DataLoader(test_dataset, batch_size=30, shuffle=False)"
   ]
  },
  {
   "cell_type": "code",
   "execution_count": 13,
   "id": "17969b02",
   "metadata": {},
   "outputs": [],
   "source": [
    "import torch.nn as nn\n",
    "import torch.nn.functional as F\n",
    "import torch.optim as optim\n",
    "\n",
    "\n",
    "class DNNModel(nn.Module):\n",
    "    def __init__(self):\n",
    "        super(DNNModel, self).__init__()\n",
    "        self.input_layer = nn.Linear(6, 128)\n",
    "        self.hidden_layer1 = nn.Linear(128, 256)\n",
    "        self.hidden_layer2 = nn.Linear(256, 128)\n",
    "        self.output_layer   = nn.Linear(128,3)\n",
    "        self.relu = nn.ReLU()\n",
    "    \n",
    "    \n",
    "    \n",
    "    def forward(self, x):\n",
    "        out =  self.relu(self.input_layer(x))\n",
    "        out =  self.relu(self.hidden_layer1(out))\n",
    "        out =  self.relu(self.hidden_layer2(out))\n",
    "        out =  self.output_layer(out)\n",
    "        return out \n",
    "    \n",
    "    "
   ]
  },
  {
   "cell_type": "code",
   "execution_count": 14,
   "id": "e0818866",
   "metadata": {},
   "outputs": [
    {
     "data": {
      "text/plain": [
       "DNNModel(\n",
       "  (input_layer): Linear(in_features=6, out_features=128, bias=True)\n",
       "  (hidden_layer1): Linear(in_features=128, out_features=256, bias=True)\n",
       "  (hidden_layer2): Linear(in_features=256, out_features=128, bias=True)\n",
       "  (output_layer): Linear(in_features=128, out_features=3, bias=True)\n",
       "  (relu): ReLU()\n",
       ")"
      ]
     },
     "execution_count": 14,
     "metadata": {},
     "output_type": "execute_result"
    }
   ],
   "source": [
    "# device 설정 (cuda:0 혹은 cpu)\n",
    "device = torch.device(\"cuda:0\" if torch.cuda.is_available() else \"cpu\")\n",
    "model = DNNModel() # Model 생성\n",
    "model.to(device)   # device 에 로드 (cpu or cuda)"
   ]
  },
  {
   "cell_type": "code",
   "execution_count": 15,
   "id": "a04b379b",
   "metadata": {},
   "outputs": [],
   "source": [
    "# 옵티마이저를 정의합니다. 옵티마이저에는 model.parameters()를 지정해야 합니다.\n",
    "optimizer = optim.Adam(model.parameters(), lr=0.001)\n",
    "\n",
    "# 손실함수(loss function)을 지정합니다. Multi-Class Classification 이기 때문에 CrossEntropy 손실을 지정하였습니다.\n",
    "loss_fn = nn.CrossEntropyLoss()"
   ]
  },
  {
   "cell_type": "code",
   "execution_count": 16,
   "id": "2d425ddb",
   "metadata": {},
   "outputs": [],
   "source": [
    "from tqdm import tqdm  # Progress Bar 출력"
   ]
  },
  {
   "cell_type": "code",
   "execution_count": 17,
   "id": "6c1c658b",
   "metadata": {},
   "outputs": [],
   "source": [
    "def model_train(model, data_loader, loss_fn, optimizer, device):\n",
    "    # 모델을 훈련모드로 설정합니다. training mode 일 때 Gradient 가 업데이트 됩니다. 반드시 train()으로 모드 변경을 해야 합니다.\n",
    "    model.train()\n",
    "    \n",
    "    # loss와 accuracy 계산을 위한 임시 변수 입니다. 0으로 초기화합니다.\n",
    "    running_loss = 0\n",
    "    corr = 0\n",
    "    \n",
    "    # 예쁘게 Progress Bar를 출력하면서 훈련 상태를 모니터링 하기 위하여 tqdm으로 래핑합니다.\n",
    "    prograss_bar = tqdm(data_loader)\n",
    "    \n",
    "    # mini-batch 학습을 시작합니다.\n",
    "    for data, lbl in prograss_bar:\n",
    "        # image, label 데이터를 device에 올립니다.\n",
    "        data, lbl = data.to(device), lbl.to(device)\n",
    "        # 누적 Gradient를 초기화 합니다.\n",
    "        optimizer.zero_grad()\n",
    "        \n",
    "        # Forward Propagation을 진행하여 결과를 얻습니다.\n",
    "        output = model(data)\n",
    "        \n",
    "        # 손실함수에 output, label 값을 대입하여 손실을 계산합니다.\n",
    "        loss = loss_fn(output, lbl)\n",
    "        \n",
    "        # 오차역전파(Back Propagation)을 진행하여 미분 값을 계산합니다.\n",
    "        loss.backward()\n",
    "        \n",
    "        # 계산된 Gradient를 업데이트 합니다.\n",
    "        optimizer.step()\n",
    "        \n",
    "        # output의 max(dim=1)은 max probability와 max index를 반환합니다.\n",
    "        # max probability는 무시하고, max index는 pred에 저장하여 label 값과 대조하여 정확도를 도출합니다.\n",
    "        _, pred = output.max(dim=1)\n",
    "        \n",
    "        # pred.eq(lbl).sum() 은 정확히 맞춘 label의 합계를 계산합니다. item()은 tensor에서 값을 추출합니다.\n",
    "        # 합계는 corr 변수에 누적합니다.\n",
    "        corr += pred.eq(lbl).sum().item()\n",
    "        \n",
    "        # loss 값은 1개 배치의 평균 손실(loss) 입니다. data.size(0)은 배치사이즈(batch size) 입니다.\n",
    "        # loss 와 data.size(0)를 곱하면 1개 배치의 전체 loss가 계산됩니다.\n",
    "        # 이를 누적한 뒤 Epoch 종료시 전체 데이터셋의 개수로 나누어 평균 loss를 산출합니다.\n",
    "        running_loss += loss.item() * data.size(0)\n",
    "        \n",
    "    # 누적된 정답수를 전체 개수로 나누어 주면 정확도가 산출됩니다.\n",
    "    acc = corr / len(data_loader.dataset)\n",
    "    \n",
    "    # 평균 손실(loss)과 정확도를 반환합니다.\n",
    "    # train_loss, train_acc\n",
    "    return running_loss / len(data_loader.dataset), acc"
   ]
  },
  {
   "cell_type": "code",
   "execution_count": 18,
   "id": "aba18fbf",
   "metadata": {},
   "outputs": [],
   "source": [
    "def model_evaluate(model, data_loader, loss_fn, device):\n",
    "    # model.eval()은 모델을 평가모드로 설정을 바꾸어 줍니다. \n",
    "    # dropout과 같은 layer의 역할 변경을 위하여 evaluation 진행시 꼭 필요한 절차 입니다.\n",
    "    model.eval()\n",
    "    \n",
    "    # Gradient가 업데이트 되는 것을 방지 하기 위하여 반드시 필요합니다.\n",
    "    with torch.no_grad():\n",
    "        # loss와 accuracy 계산을 위한 임시 변수 입니다. 0으로 초기화합니다.\n",
    "        corr = 0\n",
    "        running_loss = 0\n",
    "        \n",
    "        # 배치별 evaluation을 진행합니다.\n",
    "        for data, lbl in data_loader:\n",
    "            # device에 데이터를 올립니다.\n",
    "            data, lbl = data.to(device), lbl.to(device)\n",
    "            \n",
    "            # 모델에 Forward Propagation을 하여 결과를 도출합니다.\n",
    "            output = model(data)\n",
    "            \n",
    "            # output의 max(dim=1)은 max probability와 max index를 반환합니다.\n",
    "            # max probability는 무시하고, max index는 pred에 저장하여 label 값과 대조하여 정확도를 도출합니다.\n",
    "            _, pred = output.max(dim=1)\n",
    "            # pred.eq(lbl).sum() 은 정확히 맞춘 label의 합계를 계산합니다. item()은 tensor에서 값을 추출합니다.\n",
    "            # 합계는 corr 변수에 누적합니다.\n",
    "            corr += torch.sum(pred.eq(lbl)).item()\n",
    "            \n",
    "            # loss 값은 1개 배치의 평균 손실(loss) 입니다. data.size(0)은 배치사이즈(batch size) 입니다.\n",
    "            # loss 와 data.size(0)를 곱하면 1개 배치의 전체 loss가 계산됩니다.\n",
    "            # 이를 누적한 뒤 Epoch 종료시 전체 데이터셋의 개수로 나누어 평균 loss를 산출합니다.\n",
    "            running_loss += loss_fn(output, lbl).item() * data.size(0)\n",
    "        \n",
    "        # validation 정확도를 계산합니다.\n",
    "        # 누적한 정답숫자를 전체 데이터셋의 숫자로 나누어 최종 accuracy를 산출합니다.\n",
    "        acc = corr / len(data_loader.dataset)\n",
    "        \n",
    "        # 결과를 반환합니다.\n",
    "        # val_loss, val_acc\n",
    "        return running_loss / len(data_loader.dataset), acc"
   ]
  },
  {
   "cell_type": "code",
   "execution_count": 19,
   "id": "062884eb",
   "metadata": {},
   "outputs": [
    {
     "name": "stderr",
     "output_type": "stream",
     "text": [
      "100%|███████████████████████████████████████████████████████████████████████████████| 244/244 [00:00<00:00, 545.74it/s]\n",
      " 23%|██████████████████▎                                                             | 56/244 [00:00<00:00, 559.87it/s]"
     ]
    },
    {
     "name": "stdout",
     "output_type": "stream",
     "text": [
      "[INFO] val_acc has been improved from 0.00000 to 0.10989. Saving Model!\n",
      "epoch 01, loss: 0.91319, acc: 0.74696, val_loss: 11.45539, val_accuracy: 0.10989\n"
     ]
    },
    {
     "name": "stderr",
     "output_type": "stream",
     "text": [
      "100%|███████████████████████████████████████████████████████████████████████████████| 244/244 [00:00<00:00, 568.64it/s]\n",
      " 48%|█████████████████████████████████████▌                                         | 116/244 [00:00<00:00, 569.82it/s]"
     ]
    },
    {
     "name": "stdout",
     "output_type": "stream",
     "text": [
      "epoch 02, loss: 1.30529, acc: 0.59978, val_loss: 5.23049, val_accuracy: 0.10989\n"
     ]
    },
    {
     "name": "stderr",
     "output_type": "stream",
     "text": [
      "100%|███████████████████████████████████████████████████████████████████████████████| 244/244 [00:00<00:00, 550.67it/s]\n",
      " 23%|██████████████████                                                              | 55/244 [00:00<00:00, 549.88it/s]"
     ]
    },
    {
     "name": "stdout",
     "output_type": "stream",
     "text": [
      "epoch 03, loss: 1.17093, acc: 0.53522, val_loss: 4.51234, val_accuracy: 0.10989\n"
     ]
    },
    {
     "name": "stderr",
     "output_type": "stream",
     "text": [
      "100%|███████████████████████████████████████████████████████████████████████████████| 244/244 [00:00<00:00, 539.70it/s]\n",
      " 22%|█████████████████▋                                                              | 54/244 [00:00<00:00, 539.88it/s]"
     ]
    },
    {
     "name": "stdout",
     "output_type": "stream",
     "text": [
      "epoch 04, loss: 1.11740, acc: 0.59322, val_loss: 6.05950, val_accuracy: 0.10989\n"
     ]
    },
    {
     "name": "stderr",
     "output_type": "stream",
     "text": [
      "100%|███████████████████████████████████████████████████████████████████████████████| 244/244 [00:00<00:00, 551.91it/s]\n",
      " 23%|██████████████████                                                              | 55/244 [00:00<00:00, 549.88it/s]"
     ]
    },
    {
     "name": "stdout",
     "output_type": "stream",
     "text": [
      "epoch 05, loss: 1.04827, acc: 0.64752, val_loss: 6.57650, val_accuracy: 0.10989\n"
     ]
    },
    {
     "name": "stderr",
     "output_type": "stream",
     "text": [
      "100%|███████████████████████████████████████████████████████████████████████████████| 244/244 [00:00<00:00, 544.52it/s]\n",
      " 23%|██████████████████▎                                                             | 56/244 [00:00<00:00, 554.33it/s]"
     ]
    },
    {
     "name": "stdout",
     "output_type": "stream",
     "text": [
      "epoch 06, loss: 1.08954, acc: 0.56914, val_loss: 4.68137, val_accuracy: 0.10989\n"
     ]
    },
    {
     "name": "stderr",
     "output_type": "stream",
     "text": [
      "100%|███████████████████████████████████████████████████████████████████████████████| 244/244 [00:00<00:00, 543.31it/s]\n",
      " 47%|█████████████████████████████████████▏                                         | 115/244 [00:00<00:00, 575.75it/s]"
     ]
    },
    {
     "name": "stdout",
     "output_type": "stream",
     "text": [
      "epoch 07, loss: 1.07711, acc: 0.56326, val_loss: 3.85307, val_accuracy: 0.10989\n"
     ]
    },
    {
     "name": "stderr",
     "output_type": "stream",
     "text": [
      "100%|███████████████████████████████████████████████████████████████████████████████| 244/244 [00:00<00:00, 559.51it/s]\n",
      " 22%|█████████████████▍                                                              | 53/244 [00:00<00:00, 529.88it/s]"
     ]
    },
    {
     "name": "stdout",
     "output_type": "stream",
     "text": [
      "epoch 08, loss: 1.13621, acc: 0.47381, val_loss: 1.87747, val_accuracy: 0.10920\n"
     ]
    },
    {
     "name": "stderr",
     "output_type": "stream",
     "text": [
      "100%|███████████████████████████████████████████████████████████████████████████████| 244/244 [00:00<00:00, 548.19it/s]\n",
      " 23%|██████████████████▎                                                             | 56/244 [00:00<00:00, 554.33it/s]"
     ]
    },
    {
     "name": "stdout",
     "output_type": "stream",
     "text": [
      "epoch 09, loss: 1.00166, acc: 0.52086, val_loss: 4.13657, val_accuracy: 0.10989\n"
     ]
    },
    {
     "name": "stderr",
     "output_type": "stream",
     "text": [
      "100%|███████████████████████████████████████████████████████████████████████████████| 244/244 [00:00<00:00, 554.42it/s]\n",
      " 44%|██████████████████████████████████▉                                            | 108/244 [00:00<00:00, 536.28it/s]"
     ]
    },
    {
     "name": "stdout",
     "output_type": "stream",
     "text": [
      "epoch 10, loss: 0.97532, acc: 0.55943, val_loss: 5.13550, val_accuracy: 0.10989\n"
     ]
    },
    {
     "name": "stderr",
     "output_type": "stream",
     "text": [
      "100%|███████████████████████████████████████████████████████████████████████████████| 244/244 [00:00<00:00, 540.90it/s]\n",
      " 22%|█████████████████▋                                                              | 54/244 [00:00<00:00, 539.88it/s]"
     ]
    },
    {
     "name": "stdout",
     "output_type": "stream",
     "text": [
      "epoch 11, loss: 1.03116, acc: 0.58624, val_loss: 2.46090, val_accuracy: 0.10920\n"
     ]
    },
    {
     "name": "stderr",
     "output_type": "stream",
     "text": [
      "100%|███████████████████████████████████████████████████████████████████████████████| 244/244 [00:00<00:00, 559.51it/s]\n",
      " 23%|██████████████████▎                                                             | 56/244 [00:00<00:00, 559.87it/s]"
     ]
    },
    {
     "name": "stdout",
     "output_type": "stream",
     "text": [
      "epoch 12, loss: 0.98294, acc: 0.54343, val_loss: 3.33824, val_accuracy: 0.10989\n"
     ]
    },
    {
     "name": "stderr",
     "output_type": "stream",
     "text": [
      "100%|███████████████████████████████████████████████████████████████████████████████| 244/244 [00:00<00:00, 554.42it/s]\n",
      " 46%|████████████████████████████████████▌                                          | 113/244 [00:00<00:00, 565.76it/s]"
     ]
    },
    {
     "name": "stdout",
     "output_type": "stream",
     "text": [
      "epoch 13, loss: 0.95630, acc: 0.59445, val_loss: 3.68942, val_accuracy: 0.10989\n"
     ]
    },
    {
     "name": "stderr",
     "output_type": "stream",
     "text": [
      "100%|███████████████████████████████████████████████████████████████████████████████| 244/244 [00:00<00:00, 563.38it/s]\n",
      " 20%|███████████████▋                                                                | 48/244 [00:00<00:00, 479.89it/s]"
     ]
    },
    {
     "name": "stdout",
     "output_type": "stream",
     "text": [
      "epoch 14, loss: 1.04861, acc: 0.51894, val_loss: 2.82383, val_accuracy: 0.10989\n"
     ]
    },
    {
     "name": "stderr",
     "output_type": "stream",
     "text": [
      "100%|███████████████████████████████████████████████████████████████████████████████| 244/244 [00:00<00:00, 467.33it/s]\n",
      " 37%|█████████████████████████████▌                                                  | 90/244 [00:00<00:00, 451.57it/s]"
     ]
    },
    {
     "name": "stdout",
     "output_type": "stream",
     "text": [
      "epoch 15, loss: 0.95551, acc: 0.56011, val_loss: 3.50703, val_accuracy: 0.10989\n"
     ]
    },
    {
     "name": "stderr",
     "output_type": "stream",
     "text": [
      "100%|███████████████████████████████████████████████████████████████████████████████| 244/244 [00:00<00:00, 505.06it/s]\n",
      " 43%|█████████████████████████████████▉                                             | 105/244 [00:00<00:00, 529.29it/s]"
     ]
    },
    {
     "name": "stdout",
     "output_type": "stream",
     "text": [
      "epoch 16, loss: 1.00361, acc: 0.57530, val_loss: 2.20181, val_accuracy: 0.10989\n"
     ]
    },
    {
     "name": "stderr",
     "output_type": "stream",
     "text": [
      "100%|███████████████████████████████████████████████████████████████████████████████| 244/244 [00:00<00:00, 481.15it/s]\n",
      " 37%|█████████████████████████████▊                                                  | 91/244 [00:00<00:00, 454.87it/s]"
     ]
    },
    {
     "name": "stdout",
     "output_type": "stream",
     "text": [
      "epoch 17, loss: 0.99653, acc: 0.51293, val_loss: 3.79563, val_accuracy: 0.10989\n"
     ]
    },
    {
     "name": "stderr",
     "output_type": "stream",
     "text": [
      "100%|███████████████████████████████████████████████████████████████████████████████| 244/244 [00:00<00:00, 494.82it/s]\n",
      " 21%|████████████████▋                                                               | 51/244 [00:00<00:00, 509.88it/s]"
     ]
    },
    {
     "name": "stdout",
     "output_type": "stream",
     "text": [
      "[INFO] val_acc has been improved from 0.10989 to 0.11058. Saving Model!\n",
      "epoch 18, loss: 0.96690, acc: 0.59499, val_loss: 2.33074, val_accuracy: 0.11058\n"
     ]
    },
    {
     "name": "stderr",
     "output_type": "stream",
     "text": [
      "100%|███████████████████████████████████████████████████████████████████████████████| 244/244 [00:00<00:00, 526.88it/s]\n",
      " 23%|██████████████████▋                                                             | 57/244 [00:00<00:00, 564.23it/s]"
     ]
    },
    {
     "name": "stdout",
     "output_type": "stream",
     "text": [
      "epoch 19, loss: 0.96954, acc: 0.57790, val_loss: 1.95492, val_accuracy: 0.11058\n"
     ]
    },
    {
     "name": "stderr",
     "output_type": "stream",
     "text": [
      "100%|███████████████████████████████████████████████████████████████████████████████| 244/244 [00:00<00:00, 490.73it/s]\n",
      " 19%|███████████████▍                                                                | 47/244 [00:00<00:00, 469.89it/s]"
     ]
    },
    {
     "name": "stdout",
     "output_type": "stream",
     "text": [
      "epoch 20, loss: 0.97229, acc: 0.55560, val_loss: 2.91590, val_accuracy: 0.10920\n"
     ]
    },
    {
     "name": "stderr",
     "output_type": "stream",
     "text": [
      "100%|███████████████████████████████████████████████████████████████████████████████| 244/244 [00:00<00:00, 512.49it/s]\n",
      " 22%|█████████████████▋                                                              | 54/244 [00:00<00:00, 534.53it/s]"
     ]
    },
    {
     "name": "stdout",
     "output_type": "stream",
     "text": [
      "epoch 21, loss: 1.03257, acc: 0.51949, val_loss: 2.05943, val_accuracy: 0.11058\n"
     ]
    },
    {
     "name": "stderr",
     "output_type": "stream",
     "text": [
      "100%|███████████████████████████████████████████████████████████████████████████████| 244/244 [00:00<00:00, 536.14it/s]\n",
      " 42%|█████████████████████████████████                                              | 102/244 [00:00<00:00, 487.79it/s]"
     ]
    },
    {
     "name": "stdout",
     "output_type": "stream",
     "text": [
      "epoch 22, loss: 0.95858, acc: 0.54904, val_loss: 2.13517, val_accuracy: 0.11058\n"
     ]
    },
    {
     "name": "stderr",
     "output_type": "stream",
     "text": [
      "100%|███████████████████████████████████████████████████████████████████████████████| 244/244 [00:00<00:00, 455.12it/s]\n",
      " 16%|█████████████                                                                   | 40/244 [00:00<00:00, 388.26it/s]"
     ]
    },
    {
     "name": "stdout",
     "output_type": "stream",
     "text": [
      "[INFO] val_acc has been improved from 0.11058 to 0.11676. Saving Model!\n",
      "epoch 23, loss: 0.96164, acc: 0.54302, val_loss: 1.63804, val_accuracy: 0.11676\n"
     ]
    },
    {
     "name": "stderr",
     "output_type": "stream",
     "text": [
      "100%|███████████████████████████████████████████████████████████████████████████████| 244/244 [00:00<00:00, 445.16it/s]\n",
      " 45%|███████████████████████████████████▎                                           | 109/244 [00:00<00:00, 540.36it/s]"
     ]
    },
    {
     "name": "stdout",
     "output_type": "stream",
     "text": [
      "epoch 24, loss: 0.92753, acc: 0.56312, val_loss: 2.47572, val_accuracy: 0.10920\n"
     ]
    },
    {
     "name": "stderr",
     "output_type": "stream",
     "text": [
      "100%|███████████████████████████████████████████████████████████████████████████████| 244/244 [00:00<00:00, 523.49it/s]\n",
      " 23%|██████████████████▎                                                             | 56/244 [00:00<00:00, 559.87it/s]"
     ]
    },
    {
     "name": "stdout",
     "output_type": "stream",
     "text": [
      "epoch 25, loss: 0.99781, acc: 0.54028, val_loss: 1.85844, val_accuracy: 0.11126\n"
     ]
    },
    {
     "name": "stderr",
     "output_type": "stream",
     "text": [
      "100%|███████████████████████████████████████████████████████████████████████████████| 244/244 [00:00<00:00, 528.02it/s]\n",
      " 23%|██████████████████                                                              | 55/244 [00:00<00:00, 549.88it/s]"
     ]
    },
    {
     "name": "stdout",
     "output_type": "stream",
     "text": [
      "epoch 26, loss: 0.87905, acc: 0.58706, val_loss: 6.89751, val_accuracy: 0.10989\n"
     ]
    },
    {
     "name": "stderr",
     "output_type": "stream",
     "text": [
      "100%|███████████████████████████████████████████████████████████████████████████████| 244/244 [00:00<00:00, 508.22it/s]\n",
      " 43%|██████████████████████████████████▎                                            | 106/244 [00:00<00:00, 524.64it/s]"
     ]
    },
    {
     "name": "stdout",
     "output_type": "stream",
     "text": [
      "epoch 27, loss: 1.00304, acc: 0.65053, val_loss: 3.06959, val_accuracy: 0.10920\n"
     ]
    },
    {
     "name": "stderr",
     "output_type": "stream",
     "text": [
      "100%|███████████████████████████████████████████████████████████████████████████████| 244/244 [00:00<00:00, 488.87it/s]\n",
      " 20%|████████████████                                                                | 49/244 [00:00<00:00, 485.04it/s]"
     ]
    },
    {
     "name": "stdout",
     "output_type": "stream",
     "text": [
      "epoch 28, loss: 0.97572, acc: 0.59882, val_loss: 5.14245, val_accuracy: 0.10989\n"
     ]
    },
    {
     "name": "stderr",
     "output_type": "stream",
     "text": [
      "100%|███████████████████████████████████████████████████████████████████████████████| 244/244 [00:00<00:00, 467.33it/s]\n",
      " 20%|████████████████                                                                | 49/244 [00:00<00:00, 485.04it/s]"
     ]
    },
    {
     "name": "stdout",
     "output_type": "stream",
     "text": [
      "epoch 29, loss: 1.04426, acc: 0.56408, val_loss: 1.66442, val_accuracy: 0.11470\n"
     ]
    },
    {
     "name": "stderr",
     "output_type": "stream",
     "text": [
      "100%|███████████████████████████████████████████████████████████████████████████████| 244/244 [00:00<00:00, 483.06it/s]\n",
      " 20%|████████████████▍                                                               | 50/244 [00:00<00:00, 494.94it/s]"
     ]
    },
    {
     "name": "stdout",
     "output_type": "stream",
     "text": [
      "[INFO] val_acc has been improved from 0.11676 to 0.17102. Saving Model!\n",
      "epoch 30, loss: 0.96162, acc: 0.50704, val_loss: 1.61394, val_accuracy: 0.17102\n"
     ]
    },
    {
     "name": "stderr",
     "output_type": "stream",
     "text": [
      "100%|███████████████████████████████████████████████████████████████████████████████| 244/244 [00:00<00:00, 494.82it/s]\n",
      " 20%|████████████████▍                                                               | 50/244 [00:00<00:00, 494.94it/s]"
     ]
    },
    {
     "name": "stdout",
     "output_type": "stream",
     "text": [
      "epoch 31, loss: 0.95494, acc: 0.52483, val_loss: 1.61275, val_accuracy: 0.15728\n"
     ]
    },
    {
     "name": "stderr",
     "output_type": "stream",
     "text": [
      "100%|███████████████████████████████████████████████████████████████████████████████| 244/244 [00:00<00:00, 433.29it/s]\n",
      " 20%|████████████████                                                                | 49/244 [00:00<00:00, 480.28it/s]"
     ]
    },
    {
     "name": "stdout",
     "output_type": "stream",
     "text": [
      "epoch 32, loss: 0.88436, acc: 0.60771, val_loss: 2.83625, val_accuracy: 0.11058\n"
     ]
    },
    {
     "name": "stderr",
     "output_type": "stream",
     "text": [
      "100%|███████████████████████████████████████████████████████████████████████████████| 244/244 [00:00<00:00, 473.68it/s]\n",
      " 20%|████████████████▍                                                               | 50/244 [00:00<00:00, 494.94it/s]"
     ]
    },
    {
     "name": "stdout",
     "output_type": "stream",
     "text": [
      "epoch 33, loss: 0.99828, acc: 0.54220, val_loss: 1.63265, val_accuracy: 0.12019\n"
     ]
    },
    {
     "name": "stderr",
     "output_type": "stream",
     "text": [
      "100%|███████████████████████████████████████████████████████████████████████████████| 244/244 [00:00<00:00, 488.87it/s]\n",
      " 43%|█████████████████████████████████▋                                             | 104/244 [00:00<00:00, 489.10it/s]"
     ]
    },
    {
     "name": "stdout",
     "output_type": "stream",
     "text": [
      "epoch 34, loss: 0.95408, acc: 0.54698, val_loss: 1.75137, val_accuracy: 0.11882\n"
     ]
    },
    {
     "name": "stderr",
     "output_type": "stream",
     "text": [
      "100%|███████████████████████████████████████████████████████████████████████████████| 244/244 [00:00<00:00, 496.83it/s]\n",
      " 20%|████████████████▍                                                               | 50/244 [00:00<00:00, 494.94it/s]"
     ]
    },
    {
     "name": "stdout",
     "output_type": "stream",
     "text": [
      "epoch 35, loss: 0.92964, acc: 0.59144, val_loss: 4.86102, val_accuracy: 0.10989\n"
     ]
    },
    {
     "name": "stderr",
     "output_type": "stream",
     "text": [
      "100%|███████████████████████████████████████████████████████████████████████████████| 244/244 [00:00<00:00, 515.74it/s]\n",
      " 23%|██████████████████▎                                                             | 56/244 [00:00<00:00, 554.33it/s]"
     ]
    },
    {
     "name": "stdout",
     "output_type": "stream",
     "text": [
      "[INFO] val_acc has been improved from 0.17102 to 0.17170. Saving Model!\n",
      "epoch 36, loss: 1.09012, acc: 0.52975, val_loss: 1.39614, val_accuracy: 0.17170\n"
     ]
    },
    {
     "name": "stderr",
     "output_type": "stream",
     "text": [
      "100%|███████████████████████████████████████████████████████████████████████████████| 244/244 [00:00<00:00, 517.93it/s]\n",
      " 46%|████████████████████████████████████▎                                          | 112/244 [00:00<00:00, 558.35it/s]"
     ]
    },
    {
     "name": "stdout",
     "output_type": "stream",
     "text": [
      "epoch 37, loss: 0.93313, acc: 0.54247, val_loss: 1.80141, val_accuracy: 0.16415\n"
     ]
    },
    {
     "name": "stderr",
     "output_type": "stream",
     "text": [
      "100%|███████████████████████████████████████████████████████████████████████████████| 244/244 [00:00<00:00, 543.31it/s]\n",
      " 47%|████████████████████████████████████▉                                          | 114/244 [00:00<00:00, 565.98it/s]"
     ]
    },
    {
     "name": "stdout",
     "output_type": "stream",
     "text": [
      "epoch 38, loss: 0.96453, acc: 0.55560, val_loss: 1.40008, val_accuracy: 0.16346\n"
     ]
    },
    {
     "name": "stderr",
     "output_type": "stream",
     "text": [
      "100%|███████████████████████████████████████████████████████████████████████████████| 244/244 [00:00<00:00, 549.43it/s]\n",
      " 23%|██████████████████▋                                                             | 57/244 [00:00<00:00, 564.23it/s]"
     ]
    },
    {
     "name": "stdout",
     "output_type": "stream",
     "text": [
      "epoch 39, loss: 0.94589, acc: 0.54931, val_loss: 1.70022, val_accuracy: 0.12019\n"
     ]
    },
    {
     "name": "stderr",
     "output_type": "stream",
     "text": [
      "100%|███████████████████████████████████████████████████████████████████████████████| 244/244 [00:00<00:00, 525.74it/s]\n",
      " 22%|█████████████████▋                                                              | 54/244 [00:00<00:00, 534.53it/s]"
     ]
    },
    {
     "name": "stdout",
     "output_type": "stream",
     "text": [
      "epoch 40, loss: 0.95469, acc: 0.54110, val_loss: 1.60847, val_accuracy: 0.16277\n"
     ]
    },
    {
     "name": "stderr",
     "output_type": "stream",
     "text": [
      "100%|███████████████████████████████████████████████████████████████████████████████| 244/244 [00:00<00:00, 551.91it/s]\n",
      " 23%|██████████████████                                                              | 55/244 [00:00<00:00, 544.43it/s]"
     ]
    },
    {
     "name": "stdout",
     "output_type": "stream",
     "text": [
      "[INFO] val_acc has been improved from 0.17170 to 0.17445. Saving Model!\n",
      "epoch 41, loss: 0.93364, acc: 0.56559, val_loss: 1.53652, val_accuracy: 0.17445\n"
     ]
    },
    {
     "name": "stderr",
     "output_type": "stream",
     "text": [
      "100%|███████████████████████████████████████████████████████████████████████████████| 244/244 [00:00<00:00, 558.23it/s]\n",
      " 45%|███████████████████████████████████▌                                           | 110/244 [00:00<00:00, 546.18it/s]"
     ]
    },
    {
     "name": "stdout",
     "output_type": "stream",
     "text": [
      "[INFO] val_acc has been improved from 0.17445 to 0.18338. Saving Model!\n",
      "epoch 42, loss: 0.92830, acc: 0.55875, val_loss: 1.45639, val_accuracy: 0.18338\n"
     ]
    },
    {
     "name": "stderr",
     "output_type": "stream",
     "text": [
      "100%|███████████████████████████████████████████████████████████████████████████████| 244/244 [00:00<00:00, 554.42it/s]\n",
      " 45%|███████████████████████████████████▎                                           | 109/244 [00:00<00:00, 545.28it/s]"
     ]
    },
    {
     "name": "stdout",
     "output_type": "stream",
     "text": [
      "[INFO] val_acc has been improved from 0.18338 to 0.18475. Saving Model!\n",
      "epoch 43, loss: 0.90061, acc: 0.58733, val_loss: 1.72758, val_accuracy: 0.18475\n"
     ]
    },
    {
     "name": "stderr",
     "output_type": "stream",
     "text": [
      "100%|███████████████████████████████████████████████████████████████████████████████| 244/244 [00:00<00:00, 539.70it/s]\n",
      " 23%|██████████████████▋                                                             | 57/244 [00:00<00:00, 564.23it/s]"
     ]
    },
    {
     "name": "stdout",
     "output_type": "stream",
     "text": [
      "[INFO] val_acc has been improved from 0.18475 to 0.20536. Saving Model!\n",
      "epoch 44, loss: 0.92666, acc: 0.58309, val_loss: 1.39627, val_accuracy: 0.20536\n"
     ]
    },
    {
     "name": "stderr",
     "output_type": "stream",
     "text": [
      "100%|███████████████████████████████████████████████████████████████████████████████| 244/244 [00:00<00:00, 554.42it/s]\n",
      " 23%|██████████████████▋                                                             | 57/244 [00:00<00:00, 569.87it/s]"
     ]
    },
    {
     "name": "stdout",
     "output_type": "stream",
     "text": [
      "[INFO] val_acc has been improved from 0.20536 to 0.23558. Saving Model!\n",
      "epoch 45, loss: 0.90520, acc: 0.59240, val_loss: 1.44657, val_accuracy: 0.23558\n"
     ]
    },
    {
     "name": "stderr",
     "output_type": "stream",
     "text": [
      "100%|███████████████████████████████████████████████████████████████████████████████| 244/244 [00:00<00:00, 566.00it/s]\n",
      " 23%|██████████████████▎                                                             | 56/244 [00:00<00:00, 554.33it/s]"
     ]
    },
    {
     "name": "stdout",
     "output_type": "stream",
     "text": [
      "epoch 46, loss: 0.90300, acc: 0.58952, val_loss: 1.62086, val_accuracy: 0.17239\n"
     ]
    },
    {
     "name": "stderr",
     "output_type": "stream",
     "text": [
      "100%|███████████████████████████████████████████████████████████████████████████████| 244/244 [00:00<00:00, 556.95it/s]\n",
      " 23%|██████████████████▋                                                             | 57/244 [00:00<00:00, 564.23it/s]"
     ]
    },
    {
     "name": "stdout",
     "output_type": "stream",
     "text": [
      "[INFO] val_acc has been improved from 0.23558 to 0.25412. Saving Model!\n",
      "epoch 47, loss: 0.90750, acc: 0.58857, val_loss: 1.44386, val_accuracy: 0.25412\n"
     ]
    },
    {
     "name": "stderr",
     "output_type": "stream",
     "text": [
      "100%|███████████████████████████████████████████████████████████████████████████████| 244/244 [00:00<00:00, 562.95it/s]\n",
      " 23%|██████████████████▋                                                             | 57/244 [00:00<00:00, 569.88it/s]"
     ]
    },
    {
     "name": "stdout",
     "output_type": "stream",
     "text": [
      "epoch 48, loss: 0.87553, acc: 0.60429, val_loss: 1.67775, val_accuracy: 0.11813\n"
     ]
    },
    {
     "name": "stderr",
     "output_type": "stream",
     "text": [
      "100%|███████████████████████████████████████████████████████████████████████████████| 244/244 [00:00<00:00, 542.10it/s]\n",
      " 22%|█████████████████▍                                                              | 53/244 [00:00<00:00, 529.88it/s]"
     ]
    },
    {
     "name": "stdout",
     "output_type": "stream",
     "text": [
      "epoch 49, loss: 0.88178, acc: 0.60197, val_loss: 1.49791, val_accuracy: 0.23420\n"
     ]
    },
    {
     "name": "stderr",
     "output_type": "stream",
     "text": [
      "100%|███████████████████████████████████████████████████████████████████████████████| 244/244 [00:00<00:00, 536.14it/s]\n",
      " 22%|█████████████████▍                                                              | 53/244 [00:00<00:00, 529.88it/s]"
     ]
    },
    {
     "name": "stdout",
     "output_type": "stream",
     "text": [
      "epoch 50, loss: 0.85918, acc: 0.62536, val_loss: 1.73668, val_accuracy: 0.24725\n"
     ]
    },
    {
     "name": "stderr",
     "output_type": "stream",
     "text": [
      "100%|███████████████████████████████████████████████████████████████████████████████| 244/244 [00:00<00:00, 517.93it/s]\n",
      " 23%|██████████████████                                                              | 55/244 [00:00<00:00, 549.88it/s]"
     ]
    },
    {
     "name": "stdout",
     "output_type": "stream",
     "text": [
      "epoch 51, loss: 0.87455, acc: 0.60689, val_loss: 1.80171, val_accuracy: 0.24725\n"
     ]
    },
    {
     "name": "stderr",
     "output_type": "stream",
     "text": [
      "100%|███████████████████████████████████████████████████████████████████████████████| 244/244 [00:00<00:00, 543.31it/s]\n",
      " 23%|██████████████████                                                              | 55/244 [00:00<00:00, 549.88it/s]"
     ]
    },
    {
     "name": "stdout",
     "output_type": "stream",
     "text": [
      "[INFO] val_acc has been improved from 0.25412 to 0.30701. Saving Model!\n",
      "epoch 52, loss: 0.91555, acc: 0.60183, val_loss: 1.39658, val_accuracy: 0.30701\n"
     ]
    },
    {
     "name": "stderr",
     "output_type": "stream",
     "text": [
      "100%|███████████████████████████████████████████████████████████████████████████████| 244/244 [00:00<00:00, 522.37it/s]\n",
      " 22%|█████████████████▋                                                              | 54/244 [00:00<00:00, 539.88it/s]"
     ]
    },
    {
     "name": "stdout",
     "output_type": "stream",
     "text": [
      "epoch 53, loss: 0.85058, acc: 0.63110, val_loss: 4.39881, val_accuracy: 0.10989\n"
     ]
    },
    {
     "name": "stderr",
     "output_type": "stream",
     "text": [
      "100%|███████████████████████████████████████████████████████████████████████████████| 244/244 [00:00<00:00, 567.32it/s]\n",
      " 23%|██████████████████▋                                                             | 57/244 [00:00<00:00, 569.87it/s]"
     ]
    },
    {
     "name": "stdout",
     "output_type": "stream",
     "text": [
      "epoch 54, loss: 0.96326, acc: 0.61428, val_loss: 2.20317, val_accuracy: 0.20192\n"
     ]
    },
    {
     "name": "stderr",
     "output_type": "stream",
     "text": [
      "100%|███████████████████████████████████████████████████████████████████████████████| 244/244 [00:00<00:00, 559.51it/s]\n",
      " 23%|██████████████████▎                                                             | 56/244 [00:00<00:00, 559.88it/s]"
     ]
    },
    {
     "name": "stdout",
     "output_type": "stream",
     "text": [
      "epoch 55, loss: 0.91964, acc: 0.59075, val_loss: 2.04324, val_accuracy: 0.20055\n"
     ]
    },
    {
     "name": "stderr",
     "output_type": "stream",
     "text": [
      "100%|███████████████████████████████████████████████████████████████████████████████| 244/244 [00:00<00:00, 558.23it/s]\n",
      " 24%|███████████████████▎                                                            | 59/244 [00:00<00:00, 589.88it/s]"
     ]
    },
    {
     "name": "stdout",
     "output_type": "stream",
     "text": [
      "[INFO] val_acc has been improved from 0.30701 to 0.34684. Saving Model!\n",
      "epoch 56, loss: 0.91567, acc: 0.56353, val_loss: 1.27688, val_accuracy: 0.34684\n"
     ]
    },
    {
     "name": "stderr",
     "output_type": "stream",
     "text": [
      "100%|███████████████████████████████████████████████████████████████████████████████| 244/244 [00:00<00:00, 559.51it/s]\n",
      " 23%|██████████████████▎                                                             | 56/244 [00:00<00:00, 554.33it/s]"
     ]
    },
    {
     "name": "stdout",
     "output_type": "stream",
     "text": [
      "[INFO] val_acc has been improved from 0.34684 to 0.35783. Saving Model!\n",
      "epoch 57, loss: 0.89890, acc: 0.55464, val_loss: 1.23716, val_accuracy: 0.35783\n"
     ]
    },
    {
     "name": "stderr",
     "output_type": "stream",
     "text": [
      "100%|███████████████████████████████████████████████████████████████████████████████| 244/244 [00:00<00:00, 566.00it/s]\n",
      " 48%|██████████████████████████████████████▏                                        | 118/244 [00:00<00:00, 573.02it/s]"
     ]
    },
    {
     "name": "stdout",
     "output_type": "stream",
     "text": [
      "epoch 58, loss: 0.85056, acc: 0.57393, val_loss: 1.38956, val_accuracy: 0.35508\n"
     ]
    },
    {
     "name": "stderr",
     "output_type": "stream",
     "text": [
      "100%|███████████████████████████████████████████████████████████████████████████████| 244/244 [00:00<00:00, 568.64it/s]\n",
      " 25%|███████████████████▋                                                            | 60/244 [00:00<00:00, 599.87it/s]"
     ]
    },
    {
     "name": "stdout",
     "output_type": "stream",
     "text": [
      "[INFO] val_acc has been improved from 0.35783 to 0.36538. Saving Model!\n",
      "epoch 59, loss: 0.85882, acc: 0.57584, val_loss: 1.27971, val_accuracy: 0.36538\n"
     ]
    },
    {
     "name": "stderr",
     "output_type": "stream",
     "text": [
      "100%|███████████████████████████████████████████████████████████████████████████████| 244/244 [00:00<00:00, 569.97it/s]\n",
      " 47%|████████████████████████████████████▉                                          | 114/244 [00:00<00:00, 569.29it/s]"
     ]
    },
    {
     "name": "stdout",
     "output_type": "stream",
     "text": [
      "epoch 60, loss: 0.84416, acc: 0.60457, val_loss: 1.42096, val_accuracy: 0.33448\n"
     ]
    },
    {
     "name": "stderr",
     "output_type": "stream",
     "text": [
      "100%|███████████████████████████████████████████████████████████████████████████████| 244/244 [00:00<00:00, 550.67it/s]\n",
      " 23%|██████████████████▎                                                             | 56/244 [00:00<00:00, 559.88it/s]"
     ]
    },
    {
     "name": "stdout",
     "output_type": "stream",
     "text": [
      "epoch 61, loss: 0.84967, acc: 0.60088, val_loss: 1.30707, val_accuracy: 0.34684\n"
     ]
    },
    {
     "name": "stderr",
     "output_type": "stream",
     "text": [
      "100%|███████████████████████████████████████████████████████████████████████████████| 244/244 [00:00<00:00, 568.21it/s]\n",
      " 24%|███████████████████                                                             | 58/244 [00:00<00:00, 574.13it/s]"
     ]
    },
    {
     "name": "stdout",
     "output_type": "stream",
     "text": [
      "epoch 62, loss: 0.82456, acc: 0.62495, val_loss: 1.31742, val_accuracy: 0.34066\n"
     ]
    },
    {
     "name": "stderr",
     "output_type": "stream",
     "text": [
      "100%|███████████████████████████████████████████████████████████████████████████████| 244/244 [00:00<00:00, 568.64it/s]\n",
      " 24%|███████████████████                                                             | 58/244 [00:00<00:00, 579.87it/s]"
     ]
    },
    {
     "name": "stdout",
     "output_type": "stream",
     "text": [
      "epoch 63, loss: 0.81169, acc: 0.63165, val_loss: 1.41129, val_accuracy: 0.30975\n"
     ]
    },
    {
     "name": "stderr",
     "output_type": "stream",
     "text": [
      "100%|███████████████████████████████████████████████████████████████████████████████| 244/244 [00:00<00:00, 562.08it/s]\n",
      " 24%|███████████████████                                                             | 58/244 [00:00<00:00, 574.13it/s]"
     ]
    },
    {
     "name": "stdout",
     "output_type": "stream",
     "text": [
      "epoch 64, loss: 0.80942, acc: 0.64232, val_loss: 1.41367, val_accuracy: 0.26786\n"
     ]
    },
    {
     "name": "stderr",
     "output_type": "stream",
     "text": [
      "100%|███████████████████████████████████████████████████████████████████████████████| 244/244 [00:00<00:00, 558.23it/s]\n",
      " 23%|██████████████████▎                                                             | 56/244 [00:00<00:00, 554.33it/s]"
     ]
    },
    {
     "name": "stdout",
     "output_type": "stream",
     "text": [
      "epoch 65, loss: 0.81384, acc: 0.64984, val_loss: 1.63861, val_accuracy: 0.23008\n"
     ]
    },
    {
     "name": "stderr",
     "output_type": "stream",
     "text": [
      "100%|███████████████████████████████████████████████████████████████████████████████| 244/244 [00:00<00:00, 550.67it/s]\n",
      " 45%|███████████████████████████████████▉                                           | 111/244 [00:00<00:00, 550.25it/s]"
     ]
    },
    {
     "name": "stdout",
     "output_type": "stream",
     "text": [
      "epoch 66, loss: 0.79880, acc: 0.66338, val_loss: 1.52005, val_accuracy: 0.26442\n"
     ]
    },
    {
     "name": "stderr",
     "output_type": "stream",
     "text": [
      "100%|███████████████████████████████████████████████████████████████████████████████| 244/244 [00:00<00:00, 554.42it/s]\n",
      " 23%|██████████████████▎                                                             | 56/244 [00:00<00:00, 559.87it/s]"
     ]
    },
    {
     "name": "stdout",
     "output_type": "stream",
     "text": [
      "epoch 67, loss: 0.79060, acc: 0.65244, val_loss: 1.52019, val_accuracy: 0.26030\n"
     ]
    },
    {
     "name": "stderr",
     "output_type": "stream",
     "text": [
      "100%|███████████████████████████████████████████████████████████████████████████████| 244/244 [00:00<00:00, 568.64it/s]\n",
      " 23%|██████████████████▎                                                             | 56/244 [00:00<00:00, 559.87it/s]"
     ]
    },
    {
     "name": "stdout",
     "output_type": "stream",
     "text": [
      "epoch 68, loss: 0.79055, acc: 0.65326, val_loss: 1.53734, val_accuracy: 0.25755\n"
     ]
    },
    {
     "name": "stderr",
     "output_type": "stream",
     "text": [
      "100%|███████████████████████████████████████████████████████████████████████████████| 244/244 [00:00<00:00, 564.69it/s]\n",
      " 23%|██████████████████                                                              | 55/244 [00:00<00:00, 544.44it/s]"
     ]
    },
    {
     "name": "stdout",
     "output_type": "stream",
     "text": [
      "epoch 69, loss: 0.77519, acc: 0.64998, val_loss: 2.11308, val_accuracy: 0.25481\n"
     ]
    },
    {
     "name": "stderr",
     "output_type": "stream",
     "text": [
      "100%|███████████████████████████████████████████████████████████████████████████████| 244/244 [00:00<00:00, 562.09it/s]\n",
      " 24%|███████████████████▎                                                            | 59/244 [00:00<00:00, 584.03it/s]"
     ]
    },
    {
     "name": "stdout",
     "output_type": "stream",
     "text": [
      "epoch 70, loss: 0.83767, acc: 0.65121, val_loss: 1.62955, val_accuracy: 0.19368\n"
     ]
    },
    {
     "name": "stderr",
     "output_type": "stream",
     "text": [
      "100%|███████████████████████████████████████████████████████████████████████████████| 244/244 [00:00<00:00, 560.79it/s]\n",
      " 23%|██████████████████▋                                                             | 57/244 [00:00<00:00, 569.87it/s]"
     ]
    },
    {
     "name": "stdout",
     "output_type": "stream",
     "text": [
      "epoch 71, loss: 0.79773, acc: 0.63740, val_loss: 1.79069, val_accuracy: 0.19231\n"
     ]
    },
    {
     "name": "stderr",
     "output_type": "stream",
     "text": [
      "100%|███████████████████████████████████████████████████████████████████████████████| 244/244 [00:00<00:00, 571.30it/s]\n",
      " 24%|███████████████████▎                                                            | 59/244 [00:00<00:00, 584.02it/s]"
     ]
    },
    {
     "name": "stdout",
     "output_type": "stream",
     "text": [
      "epoch 72, loss: 0.80985, acc: 0.62085, val_loss: 1.55740, val_accuracy: 0.26854\n"
     ]
    },
    {
     "name": "stderr",
     "output_type": "stream",
     "text": [
      "100%|███████████████████████████████████████████████████████████████████████████████| 244/244 [00:00<00:00, 559.51it/s]\n",
      " 24%|███████████████████                                                             | 58/244 [00:00<00:00, 579.88it/s]"
     ]
    },
    {
     "name": "stdout",
     "output_type": "stream",
     "text": [
      "epoch 73, loss: 0.80729, acc: 0.60867, val_loss: 1.48946, val_accuracy: 0.28984\n"
     ]
    },
    {
     "name": "stderr",
     "output_type": "stream",
     "text": [
      "100%|███████████████████████████████████████████████████████████████████████████████| 244/244 [00:00<00:00, 571.30it/s]\n",
      " 21%|████████████████▋                                                               | 51/244 [00:00<00:00, 509.89it/s]"
     ]
    },
    {
     "name": "stdout",
     "output_type": "stream",
     "text": [
      "epoch 74, loss: 0.80077, acc: 0.62262, val_loss: 1.56028, val_accuracy: 0.31319\n"
     ]
    },
    {
     "name": "stderr",
     "output_type": "stream",
     "text": [
      "100%|███████████████████████████████████████████████████████████████████████████████| 244/244 [00:00<00:00, 550.67it/s]\n",
      " 24%|███████████████████                                                             | 58/244 [00:00<00:00, 579.87it/s]"
     ]
    },
    {
     "name": "stdout",
     "output_type": "stream",
     "text": [
      "epoch 75, loss: 0.80331, acc: 0.62276, val_loss: 1.50656, val_accuracy: 0.31525\n"
     ]
    },
    {
     "name": "stderr",
     "output_type": "stream",
     "text": [
      "100%|███████████████████████████████████████████████████████████████████████████████| 244/244 [00:00<00:00, 559.50it/s]\n",
      " 47%|█████████████████████████████████████▏                                         | 115/244 [00:00<00:00, 575.75it/s]"
     ]
    },
    {
     "name": "stdout",
     "output_type": "stream",
     "text": [
      "epoch 76, loss: 0.76407, acc: 0.64396, val_loss: 4.34062, val_accuracy: 0.15179\n"
     ]
    },
    {
     "name": "stderr",
     "output_type": "stream",
     "text": [
      "100%|███████████████████████████████████████████████████████████████████████████████| 244/244 [00:00<00:00, 572.64it/s]\n",
      " 23%|██████████████████▎                                                             | 56/244 [00:00<00:00, 557.13it/s]"
     ]
    },
    {
     "name": "stdout",
     "output_type": "stream",
     "text": [
      "epoch 77, loss: 0.91480, acc: 0.60566, val_loss: 1.67058, val_accuracy: 0.21772\n"
     ]
    },
    {
     "name": "stderr",
     "output_type": "stream",
     "text": [
      "100%|███████████████████████████████████████████████████████████████████████████████| 244/244 [00:00<00:00, 553.91it/s]\n",
      " 23%|██████████████████                                                              | 55/244 [00:00<00:00, 544.57it/s]"
     ]
    },
    {
     "name": "stdout",
     "output_type": "stream",
     "text": [
      "epoch 78, loss: 0.82315, acc: 0.61141, val_loss: 1.42450, val_accuracy: 0.30357\n"
     ]
    },
    {
     "name": "stderr",
     "output_type": "stream",
     "text": [
      "100%|███████████████████████████████████████████████████████████████████████████████| 244/244 [00:00<00:00, 552.80it/s]\n",
      " 21%|█████████████████                                                               | 52/244 [00:00<00:00, 519.88it/s]"
     ]
    },
    {
     "name": "stdout",
     "output_type": "stream",
     "text": [
      "epoch 79, loss: 0.78722, acc: 0.63028, val_loss: 1.44211, val_accuracy: 0.27679\n"
     ]
    },
    {
     "name": "stderr",
     "output_type": "stream",
     "text": [
      "100%|███████████████████████████████████████████████████████████████████████████████| 244/244 [00:00<00:00, 553.16it/s]\n",
      " 23%|██████████████████▎                                                             | 56/244 [00:00<00:00, 559.88it/s]"
     ]
    },
    {
     "name": "stdout",
     "output_type": "stream",
     "text": [
      "epoch 80, loss: 0.77993, acc: 0.64465, val_loss: 1.42144, val_accuracy: 0.32005\n"
     ]
    },
    {
     "name": "stderr",
     "output_type": "stream",
     "text": [
      "100%|███████████████████████████████████████████████████████████████████████████████| 244/244 [00:00<00:00, 556.95it/s]\n",
      " 24%|███████████████████                                                             | 58/244 [00:00<00:00, 579.87it/s]"
     ]
    },
    {
     "name": "stdout",
     "output_type": "stream",
     "text": [
      "epoch 81, loss: 0.78736, acc: 0.64998, val_loss: 1.49606, val_accuracy: 0.24725\n"
     ]
    },
    {
     "name": "stderr",
     "output_type": "stream",
     "text": [
      "100%|███████████████████████████████████████████████████████████████████████████████| 244/244 [00:00<00:00, 566.00it/s]\n",
      " 23%|██████████████████▋                                                             | 57/244 [00:00<00:00, 569.87it/s]"
     ]
    },
    {
     "name": "stdout",
     "output_type": "stream",
     "text": [
      "epoch 82, loss: 0.77591, acc: 0.64519, val_loss: 1.49516, val_accuracy: 0.31525\n"
     ]
    },
    {
     "name": "stderr",
     "output_type": "stream",
     "text": [
      "100%|███████████████████████████████████████████████████████████████████████████████| 244/244 [00:00<00:00, 564.69it/s]\n",
      " 48%|██████████████████████████████████████▏                                        | 118/244 [00:00<00:00, 577.30it/s]"
     ]
    },
    {
     "name": "stdout",
     "output_type": "stream",
     "text": [
      "epoch 83, loss: 0.75879, acc: 0.68199, val_loss: 1.73850, val_accuracy: 0.34272\n"
     ]
    },
    {
     "name": "stderr",
     "output_type": "stream",
     "text": [
      "100%|███████████████████████████████████████████████████████████████████████████████| 244/244 [00:00<00:00, 571.30it/s]\n",
      " 47%|████████████████████████████████████▉                                          | 114/244 [00:00<00:00, 571.64it/s]"
     ]
    },
    {
     "name": "stdout",
     "output_type": "stream",
     "text": [
      "epoch 84, loss: 0.79483, acc: 0.64916, val_loss: 1.49597, val_accuracy: 0.36401\n"
     ]
    },
    {
     "name": "stderr",
     "output_type": "stream",
     "text": [
      "100%|███████████████████████████████████████████████████████████████████████████████| 244/244 [00:00<00:00, 549.43it/s]\n",
      " 23%|██████████████████▋                                                             | 57/244 [00:00<00:00, 569.87it/s]"
     ]
    },
    {
     "name": "stdout",
     "output_type": "stream",
     "text": [
      "[INFO] val_acc has been improved from 0.36538 to 0.39973. Saving Model!\n",
      "epoch 85, loss: 0.78871, acc: 0.63521, val_loss: 1.40431, val_accuracy: 0.39973\n"
     ]
    },
    {
     "name": "stderr",
     "output_type": "stream",
     "text": [
      "100%|███████████████████████████████████████████████████████████████████████████████| 244/244 [00:00<00:00, 533.80it/s]\n",
      " 23%|██████████████████▎                                                             | 56/244 [00:00<00:00, 559.88it/s]"
     ]
    },
    {
     "name": "stdout",
     "output_type": "stream",
     "text": [
      "epoch 86, loss: 0.76991, acc: 0.64369, val_loss: 1.41524, val_accuracy: 0.37500\n"
     ]
    },
    {
     "name": "stderr",
     "output_type": "stream",
     "text": [
      "100%|███████████████████████████████████████████████████████████████████████████████| 244/244 [00:00<00:00, 553.16it/s]\n",
      " 23%|██████████████████▎                                                             | 56/244 [00:00<00:00, 554.33it/s]"
     ]
    },
    {
     "name": "stdout",
     "output_type": "stream",
     "text": [
      "epoch 87, loss: 0.76283, acc: 0.64971, val_loss: 1.43926, val_accuracy: 0.38393\n"
     ]
    },
    {
     "name": "stderr",
     "output_type": "stream",
     "text": [
      "100%|███████████████████████████████████████████████████████████████████████████████| 244/244 [00:00<00:00, 558.23it/s]\n",
      " 23%|██████████████████▋                                                             | 57/244 [00:00<00:00, 569.87it/s]"
     ]
    },
    {
     "name": "stdout",
     "output_type": "stream",
     "text": [
      "epoch 88, loss: 0.75646, acc: 0.65299, val_loss: 1.43327, val_accuracy: 0.39629\n"
     ]
    },
    {
     "name": "stderr",
     "output_type": "stream",
     "text": [
      "100%|███████████████████████████████████████████████████████████████████████████████| 244/244 [00:00<00:00, 559.51it/s]\n",
      " 48%|██████████████████████████████████████▏                                        | 118/244 [00:00<00:00, 583.01it/s]"
     ]
    },
    {
     "name": "stdout",
     "output_type": "stream",
     "text": [
      "epoch 89, loss: 0.74998, acc: 0.66420, val_loss: 1.43906, val_accuracy: 0.38324\n"
     ]
    },
    {
     "name": "stderr",
     "output_type": "stream",
     "text": [
      "100%|███████████████████████████████████████████████████████████████████████████████| 244/244 [00:00<00:00, 564.69it/s]\n",
      " 24%|███████████████████                                                             | 58/244 [00:00<00:00, 579.87it/s]"
     ]
    },
    {
     "name": "stdout",
     "output_type": "stream",
     "text": [
      "epoch 90, loss: 0.74463, acc: 0.67214, val_loss: 1.42749, val_accuracy: 0.37775\n"
     ]
    },
    {
     "name": "stderr",
     "output_type": "stream",
     "text": [
      "100%|███████████████████████████████████████████████████████████████████████████████| 244/244 [00:00<00:00, 582.21it/s]\n",
      " 48%|█████████████████████████████████████▌                                         | 116/244 [00:00<00:00, 573.13it/s]"
     ]
    },
    {
     "name": "stdout",
     "output_type": "stream",
     "text": [
      "epoch 91, loss: 0.72924, acc: 0.67993, val_loss: 1.97717, val_accuracy: 0.17239\n"
     ]
    },
    {
     "name": "stderr",
     "output_type": "stream",
     "text": [
      "100%|███████████████████████████████████████████████████████████████████████████████| 244/244 [00:00<00:00, 566.00it/s]\n",
      " 24%|███████████████████▎                                                            | 59/244 [00:00<00:00, 589.86it/s]"
     ]
    },
    {
     "name": "stdout",
     "output_type": "stream",
     "text": [
      "epoch 92, loss: 0.74456, acc: 0.67679, val_loss: 1.62559, val_accuracy: 0.31593\n"
     ]
    },
    {
     "name": "stderr",
     "output_type": "stream",
     "text": [
      "100%|███████████████████████████████████████████████████████████████████████████████| 244/244 [00:00<00:00, 555.68it/s]\n",
      " 24%|███████████████████                                                             | 58/244 [00:00<00:00, 579.87it/s]"
     ]
    },
    {
     "name": "stdout",
     "output_type": "stream",
     "text": [
      "epoch 93, loss: 0.73468, acc: 0.68404, val_loss: 1.60701, val_accuracy: 0.34547\n"
     ]
    },
    {
     "name": "stderr",
     "output_type": "stream",
     "text": [
      "100%|███████████████████████████████████████████████████████████████████████████████| 244/244 [00:00<00:00, 566.00it/s]\n",
      " 49%|██████████████████████████████████████▊                                        | 120/244 [00:00<00:00, 597.41it/s]"
     ]
    },
    {
     "name": "stdout",
     "output_type": "stream",
     "text": [
      "epoch 94, loss: 0.72644, acc: 0.68746, val_loss: 1.64002, val_accuracy: 0.34341\n"
     ]
    },
    {
     "name": "stderr",
     "output_type": "stream",
     "text": [
      "100%|███████████████████████████████████████████████████████████████████████████████| 244/244 [00:00<00:00, 568.64it/s]\n",
      " 48%|██████████████████████████████████████▏                                        | 118/244 [00:00<00:00, 580.64it/s]"
     ]
    },
    {
     "name": "stdout",
     "output_type": "stream",
     "text": [
      "epoch 95, loss: 0.71609, acc: 0.69334, val_loss: 1.70312, val_accuracy: 0.31937\n"
     ]
    },
    {
     "name": "stderr",
     "output_type": "stream",
     "text": [
      "100%|███████████████████████████████████████████████████████████████████████████████| 244/244 [00:00<00:00, 564.69it/s]\n",
      " 25%|███████████████████▋                                                            | 60/244 [00:00<00:00, 593.92it/s]"
     ]
    },
    {
     "name": "stdout",
     "output_type": "stream",
     "text": [
      "epoch 96, loss: 0.70444, acc: 0.69717, val_loss: 1.71016, val_accuracy: 0.31731\n"
     ]
    },
    {
     "name": "stderr",
     "output_type": "stream",
     "text": [
      "100%|███████████████████████████████████████████████████████████████████████████████| 244/244 [00:00<00:00, 568.64it/s]\n",
      " 24%|███████████████████                                                             | 58/244 [00:00<00:00, 574.12it/s]"
     ]
    },
    {
     "name": "stdout",
     "output_type": "stream",
     "text": [
      "epoch 97, loss: 0.69689, acc: 0.70729, val_loss: 1.77852, val_accuracy: 0.32349\n"
     ]
    },
    {
     "name": "stderr",
     "output_type": "stream",
     "text": [
      "100%|███████████████████████████████████████████████████████████████████████████████| 244/244 [00:00<00:00, 564.69it/s]\n",
      " 24%|███████████████████                                                             | 58/244 [00:00<00:00, 572.12it/s]"
     ]
    },
    {
     "name": "stdout",
     "output_type": "stream",
     "text": [
      "epoch 98, loss: 0.69112, acc: 0.70948, val_loss: 1.83323, val_accuracy: 0.32212\n"
     ]
    },
    {
     "name": "stderr",
     "output_type": "stream",
     "text": [
      "100%|███████████████████████████████████████████████████████████████████████████████| 244/244 [00:00<00:00, 562.92it/s]\n",
      " 46%|████████████████████████████████████▎                                          | 112/244 [00:00<00:00, 539.11it/s]"
     ]
    },
    {
     "name": "stdout",
     "output_type": "stream",
     "text": [
      "epoch 99, loss: 0.69003, acc: 0.70715, val_loss: 1.86522, val_accuracy: 0.31662\n"
     ]
    },
    {
     "name": "stderr",
     "output_type": "stream",
     "text": [
      "100%|███████████████████████████████████████████████████████████████████████████████| 244/244 [00:00<00:00, 543.49it/s]\n",
      " 23%|██████████████████▎                                                             | 56/244 [00:00<00:00, 554.33it/s]"
     ]
    },
    {
     "name": "stdout",
     "output_type": "stream",
     "text": [
      "epoch 100, loss: 0.68230, acc: 0.71180, val_loss: 1.92434, val_accuracy: 0.31662\n"
     ]
    },
    {
     "name": "stderr",
     "output_type": "stream",
     "text": [
      "100%|███████████████████████████████████████████████████████████████████████████████| 244/244 [00:00<00:00, 531.47it/s]\n",
      " 25%|███████████████████▋                                                            | 60/244 [00:00<00:00, 593.93it/s]"
     ]
    },
    {
     "name": "stdout",
     "output_type": "stream",
     "text": [
      "epoch 101, loss: 0.68682, acc: 0.70319, val_loss: 1.85701, val_accuracy: 0.32143\n"
     ]
    },
    {
     "name": "stderr",
     "output_type": "stream",
     "text": [
      "100%|███████████████████████████████████████████████████████████████████████████████| 244/244 [00:00<00:00, 566.00it/s]\n",
      " 23%|██████████████████▋                                                             | 57/244 [00:00<00:00, 569.87it/s]"
     ]
    },
    {
     "name": "stdout",
     "output_type": "stream",
     "text": [
      "epoch 102, loss: 0.68187, acc: 0.70291, val_loss: 1.81572, val_accuracy: 0.32624\n"
     ]
    },
    {
     "name": "stderr",
     "output_type": "stream",
     "text": [
      "100%|███████████████████████████████████████████████████████████████████████████████| 244/244 [00:00<00:00, 553.16it/s]\n",
      " 21%|████████████████▋                                                               | 51/244 [00:00<00:00, 509.88it/s]"
     ]
    },
    {
     "name": "stdout",
     "output_type": "stream",
     "text": [
      "epoch 103, loss: 0.67493, acc: 0.70620, val_loss: 1.82043, val_accuracy: 0.31044\n"
     ]
    },
    {
     "name": "stderr",
     "output_type": "stream",
     "text": [
      "100%|███████████████████████████████████████████████████████████████████████████████| 244/244 [00:00<00:00, 553.16it/s]\n",
      " 23%|██████████████████                                                              | 55/244 [00:00<00:00, 549.88it/s]"
     ]
    },
    {
     "name": "stdout",
     "output_type": "stream",
     "text": [
      "epoch 104, loss: 0.67893, acc: 0.70442, val_loss: 1.76872, val_accuracy: 0.34615\n"
     ]
    },
    {
     "name": "stderr",
     "output_type": "stream",
     "text": [
      "100%|███████████████████████████████████████████████████████████████████████████████| 244/244 [00:00<00:00, 548.19it/s]\n",
      " 21%|█████████████████                                                               | 52/244 [00:00<00:00, 514.74it/s]"
     ]
    },
    {
     "name": "stdout",
     "output_type": "stream",
     "text": [
      "epoch 105, loss: 0.67402, acc: 0.70305, val_loss: 1.74413, val_accuracy: 0.34615\n"
     ]
    },
    {
     "name": "stderr",
     "output_type": "stream",
     "text": [
      "100%|███████████████████████████████████████████████████████████████████████████████| 244/244 [00:00<00:00, 545.74it/s]\n",
      " 24%|███████████████████                                                             | 58/244 [00:00<00:00, 579.87it/s]"
     ]
    },
    {
     "name": "stdout",
     "output_type": "stream",
     "text": [
      "epoch 106, loss: 0.66515, acc: 0.72753, val_loss: 2.05128, val_accuracy: 0.31662\n"
     ]
    },
    {
     "name": "stderr",
     "output_type": "stream",
     "text": [
      "100%|███████████████████████████████████████████████████████████████████████████████| 244/244 [00:00<00:00, 573.99it/s]\n",
      " 48%|█████████████████████████████████████▌                                         | 116/244 [00:00<00:00, 579.87it/s]"
     ]
    },
    {
     "name": "stdout",
     "output_type": "stream",
     "text": [
      "epoch 107, loss: 0.69236, acc: 0.69867, val_loss: 1.75658, val_accuracy: 0.36951\n"
     ]
    },
    {
     "name": "stderr",
     "output_type": "stream",
     "text": [
      "100%|███████████████████████████████████████████████████████████████████████████████| 244/244 [00:00<00:00, 569.96it/s]\n",
      " 23%|██████████████████                                                              | 55/244 [00:00<00:00, 549.88it/s]"
     ]
    },
    {
     "name": "stdout",
     "output_type": "stream",
     "text": [
      "epoch 108, loss: 0.69204, acc: 0.70414, val_loss: 1.76977, val_accuracy: 0.35234\n"
     ]
    },
    {
     "name": "stderr",
     "output_type": "stream",
     "text": [
      "100%|███████████████████████████████████████████████████████████████████████████████| 244/244 [00:00<00:00, 562.88it/s]\n",
      " 46%|████████████████████████████████████▌                                          | 113/244 [00:00<00:00, 565.76it/s]"
     ]
    },
    {
     "name": "stdout",
     "output_type": "stream",
     "text": [
      "epoch 109, loss: 0.67446, acc: 0.69840, val_loss: 1.69449, val_accuracy: 0.37157\n"
     ]
    },
    {
     "name": "stderr",
     "output_type": "stream",
     "text": [
      "100%|███████████████████████████████████████████████████████████████████████████████| 244/244 [00:00<00:00, 546.96it/s]\n",
      " 23%|██████████████████                                                              | 55/244 [00:00<00:00, 549.88it/s]"
     ]
    },
    {
     "name": "stdout",
     "output_type": "stream",
     "text": [
      "epoch 110, loss: 0.66888, acc: 0.69881, val_loss: 1.72262, val_accuracy: 0.38462\n"
     ]
    },
    {
     "name": "stderr",
     "output_type": "stream",
     "text": [
      "100%|███████████████████████████████████████████████████████████████████████████████| 244/244 [00:00<00:00, 533.80it/s]\n",
      " 22%|█████████████████▋                                                              | 54/244 [00:00<00:00, 539.88it/s]"
     ]
    },
    {
     "name": "stdout",
     "output_type": "stream",
     "text": [
      "epoch 111, loss: 0.67984, acc: 0.71044, val_loss: 1.80039, val_accuracy: 0.37500\n"
     ]
    },
    {
     "name": "stderr",
     "output_type": "stream",
     "text": [
      "100%|███████████████████████████████████████████████████████████████████████████████| 244/244 [00:00<00:00, 528.02it/s]\n",
      " 22%|█████████████████▋                                                              | 54/244 [00:00<00:00, 534.53it/s]"
     ]
    },
    {
     "name": "stdout",
     "output_type": "stream",
     "text": [
      "[INFO] val_acc has been improved from 0.39973 to 0.40041. Saving Model!\n",
      "epoch 112, loss: 0.67570, acc: 0.70360, val_loss: 1.68277, val_accuracy: 0.40041\n"
     ]
    },
    {
     "name": "stderr",
     "output_type": "stream",
     "text": [
      "100%|███████████████████████████████████████████████████████████████████████████████| 244/244 [00:00<00:00, 526.88it/s]\n",
      " 43%|██████████████████████████████████▎                                            | 106/244 [00:00<00:00, 529.05it/s]"
     ]
    },
    {
     "name": "stdout",
     "output_type": "stream",
     "text": [
      "epoch 113, loss: 0.65854, acc: 0.71304, val_loss: 1.69740, val_accuracy: 0.38187\n"
     ]
    },
    {
     "name": "stderr",
     "output_type": "stream",
     "text": [
      "100%|███████████████████████████████████████████████████████████████████████████████| 244/244 [00:00<00:00, 520.14it/s]\n",
      " 23%|██████████████████                                                              | 55/244 [00:00<00:00, 544.43it/s]"
     ]
    },
    {
     "name": "stdout",
     "output_type": "stream",
     "text": [
      "[INFO] val_acc has been improved from 0.40041 to 0.40728. Saving Model!\n",
      "epoch 114, loss: 0.65769, acc: 0.71372, val_loss: 1.71575, val_accuracy: 0.40728\n"
     ]
    },
    {
     "name": "stderr",
     "output_type": "stream",
     "text": [
      "100%|███████████████████████████████████████████████████████████████████████████████| 244/244 [00:00<00:00, 522.37it/s]\n",
      " 21%|█████████████████                                                               | 52/244 [00:00<00:00, 519.88it/s]"
     ]
    },
    {
     "name": "stdout",
     "output_type": "stream",
     "text": [
      "epoch 115, loss: 0.65300, acc: 0.71317, val_loss: 1.76722, val_accuracy: 0.38668\n"
     ]
    },
    {
     "name": "stderr",
     "output_type": "stream",
     "text": [
      "100%|███████████████████████████████████████████████████████████████████████████████| 244/244 [00:00<00:00, 522.94it/s]\n",
      " 46%|████████████████████████████████████▎                                          | 112/244 [00:00<00:00, 561.09it/s]"
     ]
    },
    {
     "name": "stdout",
     "output_type": "stream",
     "text": [
      "epoch 116, loss: 0.65261, acc: 0.71741, val_loss: 1.74550, val_accuracy: 0.38049\n"
     ]
    },
    {
     "name": "stderr",
     "output_type": "stream",
     "text": [
      "100%|███████████████████████████████████████████████████████████████████████████████| 244/244 [00:00<00:00, 545.74it/s]\n",
      " 22%|█████████████████▍                                                              | 53/244 [00:00<00:00, 529.88it/s]"
     ]
    },
    {
     "name": "stdout",
     "output_type": "stream",
     "text": [
      "epoch 117, loss: 0.64541, acc: 0.72316, val_loss: 1.78234, val_accuracy: 0.38874\n"
     ]
    },
    {
     "name": "stderr",
     "output_type": "stream",
     "text": [
      "100%|███████████████████████████████████████████████████████████████████████████████| 244/244 [00:00<00:00, 550.67it/s]\n",
      " 23%|██████████████████▋                                                             | 57/244 [00:00<00:00, 569.87it/s]"
     ]
    },
    {
     "name": "stdout",
     "output_type": "stream",
     "text": [
      "epoch 118, loss: 0.64686, acc: 0.71714, val_loss: 1.73840, val_accuracy: 0.36882\n"
     ]
    },
    {
     "name": "stderr",
     "output_type": "stream",
     "text": [
      "100%|███████████████████████████████████████████████████████████████████████████████| 244/244 [00:00<00:00, 556.69it/s]\n",
      " 49%|██████████████████████████████████████▊                                        | 120/244 [00:00<00:00, 576.14it/s]"
     ]
    },
    {
     "name": "stdout",
     "output_type": "stream",
     "text": [
      "epoch 119, loss: 0.63996, acc: 0.72753, val_loss: 1.73699, val_accuracy: 0.37569\n"
     ]
    },
    {
     "name": "stderr",
     "output_type": "stream",
     "text": [
      "100%|███████████████████████████████████████████████████████████████████████████████| 244/244 [00:00<00:00, 562.09it/s]\n",
      " 23%|██████████████████▎                                                             | 56/244 [00:00<00:00, 554.33it/s]"
     ]
    },
    {
     "name": "stdout",
     "output_type": "stream",
     "text": [
      "epoch 120, loss: 0.62335, acc: 0.73861, val_loss: 1.88119, val_accuracy: 0.36745\n"
     ]
    },
    {
     "name": "stderr",
     "output_type": "stream",
     "text": [
      "100%|███████████████████████████████████████████████████████████████████████████████| 244/244 [00:00<00:00, 540.90it/s]\n",
      " 44%|██████████████████████████████████▉                                            | 108/244 [00:00<00:00, 536.72it/s]"
     ]
    },
    {
     "name": "stdout",
     "output_type": "stream",
     "text": [
      "epoch 121, loss: 0.65027, acc: 0.72576, val_loss: 1.68054, val_accuracy: 0.39698\n"
     ]
    },
    {
     "name": "stderr",
     "output_type": "stream",
     "text": [
      "100%|███████████████████████████████████████████████████████████████████████████████| 244/244 [00:00<00:00, 542.10it/s]\n",
      " 23%|██████████████████▋                                                             | 57/244 [00:00<00:00, 564.23it/s]"
     ]
    },
    {
     "name": "stdout",
     "output_type": "stream",
     "text": [
      "[INFO] val_acc has been improved from 0.40728 to 0.42926. Saving Model!\n",
      "epoch 122, loss: 0.62949, acc: 0.73287, val_loss: 1.61724, val_accuracy: 0.42926\n"
     ]
    },
    {
     "name": "stderr",
     "output_type": "stream",
     "text": [
      "100%|███████████████████████████████████████████████████████████████████████████████| 244/244 [00:00<00:00, 554.50it/s]\n",
      " 23%|██████████████████▋                                                             | 57/244 [00:00<00:00, 569.88it/s]"
     ]
    },
    {
     "name": "stdout",
     "output_type": "stream",
     "text": [
      "epoch 123, loss: 0.62044, acc: 0.73861, val_loss: 1.59662, val_accuracy: 0.42170\n"
     ]
    },
    {
     "name": "stderr",
     "output_type": "stream",
     "text": [
      "100%|███████████████████████████████████████████████████████████████████████████████| 244/244 [00:00<00:00, 568.64it/s]\n",
      " 24%|███████████████████▎                                                            | 59/244 [00:00<00:00, 584.03it/s]"
     ]
    },
    {
     "name": "stdout",
     "output_type": "stream",
     "text": [
      "[INFO] val_acc has been improved from 0.42926 to 0.43475. Saving Model!\n",
      "epoch 124, loss: 0.61974, acc: 0.73957, val_loss: 1.56920, val_accuracy: 0.43475\n"
     ]
    },
    {
     "name": "stderr",
     "output_type": "stream",
     "text": [
      "100%|███████████████████████████████████████████████████████████████████████████████| 244/244 [00:00<00:00, 559.51it/s]\n",
      " 23%|██████████████████▋                                                             | 57/244 [00:00<00:00, 569.87it/s]"
     ]
    },
    {
     "name": "stdout",
     "output_type": "stream",
     "text": [
      "[INFO] val_acc has been improved from 0.43475 to 0.43681. Saving Model!\n",
      "epoch 125, loss: 0.61013, acc: 0.74149, val_loss: 1.57591, val_accuracy: 0.43681\n"
     ]
    },
    {
     "name": "stderr",
     "output_type": "stream",
     "text": [
      "100%|███████████████████████████████████████████████████████████████████████████████| 244/244 [00:00<00:00, 567.31it/s]\n",
      " 23%|██████████████████                                                              | 55/244 [00:00<00:00, 549.88it/s]"
     ]
    },
    {
     "name": "stdout",
     "output_type": "stream",
     "text": [
      "epoch 126, loss: 0.60535, acc: 0.74559, val_loss: 1.60505, val_accuracy: 0.41758\n"
     ]
    },
    {
     "name": "stderr",
     "output_type": "stream",
     "text": [
      "100%|███████████████████████████████████████████████████████████████████████████████| 244/244 [00:00<00:00, 564.69it/s]\n",
      " 47%|████████████████████████████████████▉                                          | 114/244 [00:00<00:00, 560.96it/s]"
     ]
    },
    {
     "name": "stdout",
     "output_type": "stream",
     "text": [
      "epoch 127, loss: 0.60710, acc: 0.74928, val_loss: 1.60512, val_accuracy: 0.41964\n"
     ]
    },
    {
     "name": "stderr",
     "output_type": "stream",
     "text": [
      "100%|███████████████████████████████████████████████████████████████████████████████| 244/244 [00:00<00:00, 549.43it/s]\n",
      " 23%|██████████████████▎                                                             | 56/244 [00:00<00:00, 554.33it/s]"
     ]
    },
    {
     "name": "stdout",
     "output_type": "stream",
     "text": [
      "epoch 128, loss: 0.57871, acc: 0.76364, val_loss: 1.84182, val_accuracy: 0.37500\n"
     ]
    },
    {
     "name": "stderr",
     "output_type": "stream",
     "text": [
      "100%|███████████████████████████████████████████████████████████████████████████████| 244/244 [00:00<00:00, 558.23it/s]\n",
      " 47%|████████████████████████████████████▉                                          | 114/244 [00:00<00:00, 567.53it/s]"
     ]
    },
    {
     "name": "stdout",
     "output_type": "stream",
     "text": [
      "epoch 129, loss: 0.61415, acc: 0.74094, val_loss: 1.65063, val_accuracy: 0.41758\n"
     ]
    },
    {
     "name": "stderr",
     "output_type": "stream",
     "text": [
      "100%|███████████████████████████████████████████████████████████████████████████████| 244/244 [00:00<00:00, 559.51it/s]\n",
      " 24%|███████████████████                                                             | 58/244 [00:00<00:00, 579.87it/s]"
     ]
    },
    {
     "name": "stdout",
     "output_type": "stream",
     "text": [
      "epoch 130, loss: 0.60427, acc: 0.74518, val_loss: 1.91545, val_accuracy: 0.30769\n"
     ]
    },
    {
     "name": "stderr",
     "output_type": "stream",
     "text": [
      "100%|███████████████████████████████████████████████████████████████████████████████| 244/244 [00:00<00:00, 551.43it/s]\n",
      " 23%|██████████████████                                                              | 55/244 [00:00<00:00, 549.87it/s]"
     ]
    },
    {
     "name": "stdout",
     "output_type": "stream",
     "text": [
      "epoch 131, loss: 0.60126, acc: 0.74258, val_loss: 1.67982, val_accuracy: 0.40865\n"
     ]
    },
    {
     "name": "stderr",
     "output_type": "stream",
     "text": [
      "100%|███████████████████████████████████████████████████████████████████████████████| 244/244 [00:00<00:00, 548.19it/s]\n",
      " 47%|█████████████████████████████████████▏                                         | 115/244 [00:00<00:00, 567.27it/s]"
     ]
    },
    {
     "name": "stdout",
     "output_type": "stream",
     "text": [
      "epoch 132, loss: 0.59889, acc: 0.74449, val_loss: 1.73730, val_accuracy: 0.42170\n"
     ]
    },
    {
     "name": "stderr",
     "output_type": "stream",
     "text": [
      "100%|███████████████████████████████████████████████████████████████████████████████| 244/244 [00:00<00:00, 553.36it/s]\n",
      " 22%|█████████████████▋                                                              | 54/244 [00:00<00:00, 537.17it/s]"
     ]
    },
    {
     "name": "stdout",
     "output_type": "stream",
     "text": [
      "epoch 133, loss: 0.59650, acc: 0.74805, val_loss: 1.64079, val_accuracy: 0.43475\n"
     ]
    },
    {
     "name": "stderr",
     "output_type": "stream",
     "text": [
      "100%|███████████████████████████████████████████████████████████████████████████████| 244/244 [00:00<00:00, 547.57it/s]\n",
      " 48%|█████████████████████████████████████▉                                         | 117/244 [00:00<00:00, 582.33it/s]"
     ]
    },
    {
     "name": "stdout",
     "output_type": "stream",
     "text": [
      "[INFO] val_acc has been improved from 0.43681 to 0.43956. Saving Model!\n",
      "epoch 134, loss: 0.58608, acc: 0.74764, val_loss: 1.65144, val_accuracy: 0.43956\n"
     ]
    },
    {
     "name": "stderr",
     "output_type": "stream",
     "text": [
      "100%|███████████████████████████████████████████████████████████████████████████████| 244/244 [00:00<00:00, 575.34it/s]\n",
      " 24%|███████████████████▎                                                            | 59/244 [00:00<00:00, 589.86it/s]"
     ]
    },
    {
     "name": "stdout",
     "output_type": "stream",
     "text": [
      "[INFO] val_acc has been improved from 0.43956 to 0.44093. Saving Model!\n",
      "epoch 135, loss: 0.58249, acc: 0.74942, val_loss: 1.65896, val_accuracy: 0.44093\n"
     ]
    },
    {
     "name": "stderr",
     "output_type": "stream",
     "text": [
      "100%|███████████████████████████████████████████████████████████████████████████████| 244/244 [00:00<00:00, 579.44it/s]\n",
      " 23%|██████████████████▎                                                             | 56/244 [00:00<00:00, 554.33it/s]"
     ]
    },
    {
     "name": "stdout",
     "output_type": "stream",
     "text": [
      "[INFO] val_acc has been improved from 0.44093 to 0.44505. Saving Model!\n",
      "epoch 136, loss: 0.58353, acc: 0.75339, val_loss: 1.69457, val_accuracy: 0.44505\n"
     ]
    },
    {
     "name": "stderr",
     "output_type": "stream",
     "text": [
      "100%|███████████████████████████████████████████████████████████████████████████████| 244/244 [00:00<00:00, 567.31it/s]\n",
      " 24%|███████████████████                                                             | 58/244 [00:00<00:00, 579.87it/s]"
     ]
    },
    {
     "name": "stdout",
     "output_type": "stream",
     "text": [
      "[INFO] val_acc has been improved from 0.44505 to 0.46360. Saving Model!\n",
      "epoch 137, loss: 0.58331, acc: 0.75462, val_loss: 1.70056, val_accuracy: 0.46360\n"
     ]
    },
    {
     "name": "stderr",
     "output_type": "stream",
     "text": [
      "100%|███████████████████████████████████████████████████████████████████████████████| 244/244 [00:00<00:00, 562.09it/s]\n",
      " 46%|████████████████████████████████████▎                                          | 112/244 [00:00<00:00, 561.64it/s]"
     ]
    },
    {
     "name": "stdout",
     "output_type": "stream",
     "text": [
      "[INFO] val_acc has been improved from 0.46360 to 0.48146. Saving Model!\n",
      "epoch 138, loss: 0.57629, acc: 0.75503, val_loss: 1.73718, val_accuracy: 0.48146\n"
     ]
    },
    {
     "name": "stderr",
     "output_type": "stream",
     "text": [
      "100%|███████████████████████████████████████████████████████████████████████████████| 244/244 [00:00<00:00, 560.79it/s]\n",
      " 23%|██████████████████▎                                                             | 56/244 [00:00<00:00, 554.33it/s]"
     ]
    },
    {
     "name": "stdout",
     "output_type": "stream",
     "text": [
      "epoch 139, loss: 0.57970, acc: 0.75051, val_loss: 1.72667, val_accuracy: 0.46703\n"
     ]
    },
    {
     "name": "stderr",
     "output_type": "stream",
     "text": [
      "100%|███████████████████████████████████████████████████████████████████████████████| 244/244 [00:00<00:00, 567.32it/s]\n",
      " 24%|███████████████████▎                                                            | 59/244 [00:00<00:00, 589.86it/s]"
     ]
    },
    {
     "name": "stdout",
     "output_type": "stream",
     "text": [
      "epoch 140, loss: 0.57270, acc: 0.76063, val_loss: 2.01084, val_accuracy: 0.40316\n"
     ]
    },
    {
     "name": "stderr",
     "output_type": "stream",
     "text": [
      "100%|███████████████████████████████████████████████████████████████████████████████| 244/244 [00:00<00:00, 582.21it/s]\n",
      " 47%|█████████████████████████████████████▏                                         | 115/244 [00:00<00:00, 572.39it/s]"
     ]
    },
    {
     "name": "stdout",
     "output_type": "stream",
     "text": [
      "epoch 141, loss: 0.56737, acc: 0.75516, val_loss: 2.21465, val_accuracy: 0.40591\n"
     ]
    },
    {
     "name": "stderr",
     "output_type": "stream",
     "text": [
      "100%|███████████████████████████████████████████████████████████████████████████████| 244/244 [00:00<00:00, 576.70it/s]\n",
      " 45%|███████████████████████████████████▌                                           | 110/244 [00:00<00:00, 538.17it/s]"
     ]
    },
    {
     "name": "stdout",
     "output_type": "stream",
     "text": [
      "epoch 142, loss: 0.58993, acc: 0.75270, val_loss: 1.87353, val_accuracy: 0.47665\n"
     ]
    },
    {
     "name": "stderr",
     "output_type": "stream",
     "text": [
      "100%|███████████████████████████████████████████████████████████████████████████████| 244/244 [00:00<00:00, 554.42it/s]\n",
      " 23%|██████████████████▋                                                             | 57/244 [00:00<00:00, 564.23it/s]"
     ]
    },
    {
     "name": "stdout",
     "output_type": "stream",
     "text": [
      "[INFO] val_acc has been improved from 0.48146 to 0.48420. Saving Model!\n",
      "epoch 143, loss: 0.57372, acc: 0.75585, val_loss: 1.76572, val_accuracy: 0.48420\n"
     ]
    },
    {
     "name": "stderr",
     "output_type": "stream",
     "text": [
      "100%|███████████████████████████████████████████████████████████████████████████████| 244/244 [00:00<00:00, 556.95it/s]\n",
      " 23%|██████████████████▋                                                             | 57/244 [00:00<00:00, 564.23it/s]"
     ]
    },
    {
     "name": "stdout",
     "output_type": "stream",
     "text": [
      "[INFO] val_acc has been improved from 0.48420 to 0.48558. Saving Model!\n",
      "epoch 144, loss: 0.56857, acc: 0.75927, val_loss: 1.82183, val_accuracy: 0.48558\n"
     ]
    },
    {
     "name": "stderr",
     "output_type": "stream",
     "text": [
      "100%|███████████████████████████████████████████████████████████████████████████████| 244/244 [00:00<00:00, 566.00it/s]\n",
      " 24%|███████████████████▎                                                            | 59/244 [00:00<00:00, 584.03it/s]"
     ]
    },
    {
     "name": "stdout",
     "output_type": "stream",
     "text": [
      "epoch 145, loss: 0.56395, acc: 0.75981, val_loss: 1.80454, val_accuracy: 0.47115\n"
     ]
    },
    {
     "name": "stderr",
     "output_type": "stream",
     "text": [
      "100%|███████████████████████████████████████████████████████████████████████████████| 244/244 [00:00<00:00, 568.64it/s]\n",
      " 24%|███████████████████                                                             | 58/244 [00:00<00:00, 579.87it/s]"
     ]
    },
    {
     "name": "stdout",
     "output_type": "stream",
     "text": [
      "epoch 146, loss: 0.56195, acc: 0.76487, val_loss: 1.80717, val_accuracy: 0.47184\n"
     ]
    },
    {
     "name": "stderr",
     "output_type": "stream",
     "text": [
      "100%|███████████████████████████████████████████████████████████████████████████████| 244/244 [00:00<00:00, 553.16it/s]\n",
      " 25%|███████████████████▋                                                            | 60/244 [00:00<00:00, 593.93it/s]"
     ]
    },
    {
     "name": "stdout",
     "output_type": "stream",
     "text": [
      "[INFO] val_acc has been improved from 0.48558 to 0.49176. Saving Model!\n",
      "epoch 147, loss: 0.56254, acc: 0.76433, val_loss: 1.75066, val_accuracy: 0.49176\n"
     ]
    },
    {
     "name": "stderr",
     "output_type": "stream",
     "text": [
      "100%|███████████████████████████████████████████████████████████████████████████████| 244/244 [00:00<00:00, 568.64it/s]\n",
      " 24%|███████████████████▎                                                            | 59/244 [00:00<00:00, 589.87it/s]"
     ]
    },
    {
     "name": "stdout",
     "output_type": "stream",
     "text": [
      "epoch 148, loss: 0.55075, acc: 0.76829, val_loss: 1.75987, val_accuracy: 0.47390\n"
     ]
    },
    {
     "name": "stderr",
     "output_type": "stream",
     "text": [
      "100%|███████████████████████████████████████████████████████████████████████████████| 244/244 [00:00<00:00, 568.64it/s]\n",
      " 24%|███████████████████                                                             | 58/244 [00:00<00:00, 579.87it/s]"
     ]
    },
    {
     "name": "stdout",
     "output_type": "stream",
     "text": [
      "epoch 149, loss: 0.54572, acc: 0.76884, val_loss: 1.76806, val_accuracy: 0.47253\n"
     ]
    },
    {
     "name": "stderr",
     "output_type": "stream",
     "text": [
      "100%|███████████████████████████████████████████████████████████████████████████████| 244/244 [00:00<00:00, 560.79it/s]\n",
      " 25%|███████████████████▋                                                            | 60/244 [00:00<00:00, 593.93it/s]"
     ]
    },
    {
     "name": "stdout",
     "output_type": "stream",
     "text": [
      "epoch 150, loss: 0.53949, acc: 0.77048, val_loss: 1.85231, val_accuracy: 0.45810\n"
     ]
    },
    {
     "name": "stderr",
     "output_type": "stream",
     "text": [
      "100%|███████████████████████████████████████████████████████████████████████████████| 244/244 [00:00<00:00, 568.64it/s]\n",
      " 23%|██████████████████                                                              | 55/244 [00:00<00:00, 544.43it/s]"
     ]
    },
    {
     "name": "stdout",
     "output_type": "stream",
     "text": [
      "epoch 151, loss: 0.54679, acc: 0.77185, val_loss: 1.84611, val_accuracy: 0.45055\n"
     ]
    },
    {
     "name": "stderr",
     "output_type": "stream",
     "text": [
      "100%|███████████████████████████████████████████████████████████████████████████████| 244/244 [00:00<00:00, 559.51it/s]\n",
      " 48%|██████████████████████████████████████▏                                        | 118/244 [00:00<00:00, 585.77it/s]"
     ]
    },
    {
     "name": "stdout",
     "output_type": "stream",
     "text": [
      "epoch 152, loss: 0.54534, acc: 0.76912, val_loss: 1.81800, val_accuracy: 0.46360\n"
     ]
    },
    {
     "name": "stderr",
     "output_type": "stream",
     "text": [
      "100%|███████████████████████████████████████████████████████████████████████████████| 244/244 [00:00<00:00, 571.30it/s]\n",
      " 48%|█████████████████████████████████████▌                                         | 116/244 [00:00<00:00, 579.25it/s]"
     ]
    },
    {
     "name": "stdout",
     "output_type": "stream",
     "text": [
      "epoch 153, loss: 0.53872, acc: 0.77513, val_loss: 1.91665, val_accuracy: 0.47665\n"
     ]
    },
    {
     "name": "stderr",
     "output_type": "stream",
     "text": [
      "100%|███████████████████████████████████████████████████████████████████████████████| 244/244 [00:00<00:00, 566.00it/s]\n",
      " 24%|███████████████████▎                                                            | 59/244 [00:00<00:00, 589.87it/s]"
     ]
    },
    {
     "name": "stdout",
     "output_type": "stream",
     "text": [
      "[INFO] val_acc has been improved from 0.49176 to 0.50962. Saving Model!\n",
      "epoch 154, loss: 0.54181, acc: 0.77199, val_loss: 1.77193, val_accuracy: 0.50962\n"
     ]
    },
    {
     "name": "stderr",
     "output_type": "stream",
     "text": [
      "100%|███████████████████████████████████████████████████████████████████████████████| 244/244 [00:00<00:00, 567.31it/s]\n",
      " 24%|███████████████████                                                             | 58/244 [00:00<00:00, 574.13it/s]"
     ]
    },
    {
     "name": "stdout",
     "output_type": "stream",
     "text": [
      "epoch 155, loss: 0.53310, acc: 0.77390, val_loss: 1.79517, val_accuracy: 0.46978\n"
     ]
    },
    {
     "name": "stderr",
     "output_type": "stream",
     "text": [
      "100%|███████████████████████████████████████████████████████████████████████████████| 244/244 [00:00<00:00, 553.16it/s]\n",
      " 46%|████████████████████████████████████▎                                          | 112/244 [00:00<00:00, 557.58it/s]"
     ]
    },
    {
     "name": "stdout",
     "output_type": "stream",
     "text": [
      "epoch 156, loss: 0.53253, acc: 0.77883, val_loss: 1.84660, val_accuracy: 0.45604\n"
     ]
    },
    {
     "name": "stderr",
     "output_type": "stream",
     "text": [
      "100%|███████████████████████████████████████████████████████████████████████████████| 244/244 [00:00<00:00, 555.69it/s]\n",
      " 23%|██████████████████▋                                                             | 57/244 [00:00<00:00, 569.87it/s]"
     ]
    },
    {
     "name": "stdout",
     "output_type": "stream",
     "text": [
      "epoch 157, loss: 0.52835, acc: 0.77855, val_loss: 1.94791, val_accuracy: 0.43819\n"
     ]
    },
    {
     "name": "stderr",
     "output_type": "stream",
     "text": [
      "100%|███████████████████████████████████████████████████████████████████████████████| 244/244 [00:00<00:00, 548.19it/s]\n",
      " 23%|██████████████████▎                                                             | 56/244 [00:00<00:00, 554.33it/s]"
     ]
    },
    {
     "name": "stdout",
     "output_type": "stream",
     "text": [
      "epoch 158, loss: 0.53674, acc: 0.77513, val_loss: 1.92313, val_accuracy: 0.43338\n"
     ]
    },
    {
     "name": "stderr",
     "output_type": "stream",
     "text": [
      "100%|███████████████████████████████████████████████████████████████████████████████| 244/244 [00:00<00:00, 546.96it/s]\n",
      " 24%|███████████████████                                                             | 58/244 [00:00<00:00, 579.87it/s]"
     ]
    },
    {
     "name": "stdout",
     "output_type": "stream",
     "text": [
      "epoch 159, loss: 0.54117, acc: 0.77336, val_loss: 1.79551, val_accuracy: 0.46566\n"
     ]
    },
    {
     "name": "stderr",
     "output_type": "stream",
     "text": [
      "100%|███████████████████████████████████████████████████████████████████████████████| 244/244 [00:00<00:00, 567.32it/s]\n",
      " 23%|██████████████████▎                                                             | 56/244 [00:00<00:00, 554.33it/s]"
     ]
    },
    {
     "name": "stdout",
     "output_type": "stream",
     "text": [
      "epoch 160, loss: 0.53413, acc: 0.77431, val_loss: 1.90149, val_accuracy: 0.46291\n"
     ]
    },
    {
     "name": "stderr",
     "output_type": "stream",
     "text": [
      "100%|███████████████████████████████████████████████████████████████████████████████| 244/244 [00:00<00:00, 556.95it/s]\n",
      " 22%|█████████████████▋                                                              | 54/244 [00:00<00:00, 539.88it/s]"
     ]
    },
    {
     "name": "stdout",
     "output_type": "stream",
     "text": [
      "epoch 161, loss: 0.53600, acc: 0.77363, val_loss: 1.79617, val_accuracy: 0.46497\n"
     ]
    },
    {
     "name": "stderr",
     "output_type": "stream",
     "text": [
      "100%|███████████████████████████████████████████████████████████████████████████████| 244/244 [00:00<00:00, 550.67it/s]\n",
      " 24%|███████████████████                                                             | 58/244 [00:00<00:00, 574.13it/s]"
     ]
    },
    {
     "name": "stdout",
     "output_type": "stream",
     "text": [
      "epoch 162, loss: 0.52487, acc: 0.77677, val_loss: 1.85252, val_accuracy: 0.46497\n"
     ]
    },
    {
     "name": "stderr",
     "output_type": "stream",
     "text": [
      "100%|███████████████████████████████████████████████████████████████████████████████| 244/244 [00:00<00:00, 559.51it/s]\n",
      " 24%|███████████████████                                                             | 58/244 [00:00<00:00, 579.87it/s]"
     ]
    },
    {
     "name": "stdout",
     "output_type": "stream",
     "text": [
      "[INFO] val_acc has been improved from 0.50962 to 0.51648. Saving Model!\n",
      "epoch 163, loss: 0.52591, acc: 0.77171, val_loss: 1.81334, val_accuracy: 0.51648\n"
     ]
    },
    {
     "name": "stderr",
     "output_type": "stream",
     "text": [
      "100%|███████████████████████████████████████████████████████████████████████████████| 244/244 [00:00<00:00, 559.51it/s]\n",
      " 45%|███████████████████████████████████▉                                           | 111/244 [00:00<00:00, 553.47it/s]"
     ]
    },
    {
     "name": "stdout",
     "output_type": "stream",
     "text": [
      "epoch 164, loss: 0.52333, acc: 0.77760, val_loss: 1.86854, val_accuracy: 0.51442\n"
     ]
    },
    {
     "name": "stderr",
     "output_type": "stream",
     "text": [
      "100%|███████████████████████████████████████████████████████████████████████████████| 244/244 [00:00<00:00, 543.31it/s]\n",
      " 48%|█████████████████████████████████████▌                                         | 116/244 [00:00<00:00, 577.49it/s]"
     ]
    },
    {
     "name": "stdout",
     "output_type": "stream",
     "text": [
      "[INFO] val_acc has been improved from 0.51648 to 0.51786. Saving Model!\n",
      "epoch 165, loss: 0.52450, acc: 0.77267, val_loss: 1.81402, val_accuracy: 0.51786\n"
     ]
    },
    {
     "name": "stderr",
     "output_type": "stream",
     "text": [
      "100%|███████████████████████████████████████████████████████████████████████████████| 244/244 [00:00<00:00, 563.38it/s]\n",
      " 23%|██████████████████▎                                                             | 56/244 [00:00<00:00, 559.88it/s]"
     ]
    },
    {
     "name": "stdout",
     "output_type": "stream",
     "text": [
      "epoch 166, loss: 0.52328, acc: 0.77281, val_loss: 1.85872, val_accuracy: 0.49176\n"
     ]
    },
    {
     "name": "stderr",
     "output_type": "stream",
     "text": [
      "100%|███████████████████████████████████████████████████████████████████████████████| 244/244 [00:00<00:00, 549.43it/s]\n",
      " 23%|██████████████████▎                                                             | 56/244 [00:00<00:00, 559.87it/s]"
     ]
    },
    {
     "name": "stdout",
     "output_type": "stream",
     "text": [
      "epoch 167, loss: 0.51324, acc: 0.77937, val_loss: 1.92003, val_accuracy: 0.49313\n"
     ]
    },
    {
     "name": "stderr",
     "output_type": "stream",
     "text": [
      "100%|███████████████████████████████████████████████████████████████████████████████| 244/244 [00:00<00:00, 553.16it/s]\n",
      " 24%|███████████████████                                                             | 58/244 [00:00<00:00, 574.12it/s]"
     ]
    },
    {
     "name": "stdout",
     "output_type": "stream",
     "text": [
      "epoch 168, loss: 0.51838, acc: 0.77527, val_loss: 1.90273, val_accuracy: 0.47940\n"
     ]
    },
    {
     "name": "stderr",
     "output_type": "stream",
     "text": [
      "100%|███████████████████████████████████████████████████████████████████████████████| 244/244 [00:00<00:00, 552.60it/s]\n",
      " 24%|███████████████████                                                             | 58/244 [00:00<00:00, 574.13it/s]"
     ]
    },
    {
     "name": "stdout",
     "output_type": "stream",
     "text": [
      "epoch 169, loss: 0.51077, acc: 0.78184, val_loss: 1.85068, val_accuracy: 0.51442\n"
     ]
    },
    {
     "name": "stderr",
     "output_type": "stream",
     "text": [
      "100%|███████████████████████████████████████████████████████████████████████████████| 244/244 [00:00<00:00, 564.69it/s]\n",
      " 23%|██████████████████▎                                                             | 56/244 [00:00<00:00, 554.33it/s]"
     ]
    },
    {
     "name": "stdout",
     "output_type": "stream",
     "text": [
      "epoch 170, loss: 0.50904, acc: 0.77978, val_loss: 1.88367, val_accuracy: 0.48283\n"
     ]
    },
    {
     "name": "stderr",
     "output_type": "stream",
     "text": [
      "100%|███████████████████████████████████████████████████████████████████████████████| 244/244 [00:00<00:00, 555.68it/s]\n",
      " 24%|███████████████████                                                             | 58/244 [00:00<00:00, 574.13it/s]"
     ]
    },
    {
     "name": "stdout",
     "output_type": "stream",
     "text": [
      "epoch 171, loss: 0.50215, acc: 0.78211, val_loss: 1.91489, val_accuracy: 0.48695\n"
     ]
    },
    {
     "name": "stderr",
     "output_type": "stream",
     "text": [
      "100%|███████████████████████████████████████████████████████████████████████████████| 244/244 [00:00<00:00, 568.64it/s]\n",
      " 23%|██████████████████                                                              | 55/244 [00:00<00:00, 549.88it/s]"
     ]
    },
    {
     "name": "stdout",
     "output_type": "stream",
     "text": [
      "epoch 172, loss: 0.50875, acc: 0.77951, val_loss: 1.97897, val_accuracy: 0.47596\n"
     ]
    },
    {
     "name": "stderr",
     "output_type": "stream",
     "text": [
      "100%|███████████████████████████████████████████████████████████████████████████████| 244/244 [00:00<00:00, 563.37it/s]\n",
      " 23%|██████████████████▋                                                             | 57/244 [00:00<00:00, 564.23it/s]"
     ]
    },
    {
     "name": "stdout",
     "output_type": "stream",
     "text": [
      "epoch 173, loss: 0.50327, acc: 0.78238, val_loss: 1.90657, val_accuracy: 0.48970\n"
     ]
    },
    {
     "name": "stderr",
     "output_type": "stream",
     "text": [
      "100%|███████████████████████████████████████████████████████████████████████████████| 244/244 [00:00<00:00, 566.00it/s]\n",
      " 46%|████████████████████████████████████▎                                          | 112/244 [00:00<00:00, 554.33it/s]"
     ]
    },
    {
     "name": "stdout",
     "output_type": "stream",
     "text": [
      "epoch 174, loss: 0.50002, acc: 0.78307, val_loss: 1.94083, val_accuracy: 0.49038\n"
     ]
    },
    {
     "name": "stderr",
     "output_type": "stream",
     "text": [
      "100%|███████████████████████████████████████████████████████████████████████████████| 244/244 [00:00<00:00, 554.42it/s]\n",
      " 23%|██████████████████▋                                                             | 57/244 [00:00<00:00, 564.23it/s]"
     ]
    },
    {
     "name": "stdout",
     "output_type": "stream",
     "text": [
      "epoch 175, loss: 0.49343, acc: 0.78594, val_loss: 1.97978, val_accuracy: 0.48901\n"
     ]
    },
    {
     "name": "stderr",
     "output_type": "stream",
     "text": [
      "100%|███████████████████████████████████████████████████████████████████████████████| 244/244 [00:00<00:00, 567.31it/s]\n",
      " 24%|███████████████████▎                                                            | 59/244 [00:00<00:00, 584.02it/s]"
     ]
    },
    {
     "name": "stdout",
     "output_type": "stream",
     "text": [
      "epoch 176, loss: 0.49665, acc: 0.78758, val_loss: 1.94992, val_accuracy: 0.48901\n"
     ]
    },
    {
     "name": "stderr",
     "output_type": "stream",
     "text": [
      "100%|███████████████████████████████████████████████████████████████████████████████| 244/244 [00:00<00:00, 567.31it/s]\n",
      " 47%|████████████████████████████████████▉                                          | 114/244 [00:00<00:00, 569.87it/s]"
     ]
    },
    {
     "name": "stdout",
     "output_type": "stream",
     "text": [
      "epoch 177, loss: 0.50273, acc: 0.78402, val_loss: 2.01945, val_accuracy: 0.48695\n"
     ]
    },
    {
     "name": "stderr",
     "output_type": "stream",
     "text": [
      "100%|███████████████████████████████████████████████████████████████████████████████| 244/244 [00:00<00:00, 558.23it/s]\n",
      " 23%|██████████████████▎                                                             | 56/244 [00:00<00:00, 559.88it/s]"
     ]
    },
    {
     "name": "stdout",
     "output_type": "stream",
     "text": [
      "epoch 178, loss: 0.49543, acc: 0.78867, val_loss: 1.99811, val_accuracy: 0.51786\n"
     ]
    },
    {
     "name": "stderr",
     "output_type": "stream",
     "text": [
      "100%|███████████████████████████████████████████████████████████████████████████████| 244/244 [00:00<00:00, 564.69it/s]\n",
      " 24%|███████████████████▎                                                            | 59/244 [00:00<00:00, 589.87it/s]"
     ]
    },
    {
     "name": "stdout",
     "output_type": "stream",
     "text": [
      "epoch 179, loss: 0.48752, acc: 0.79278, val_loss: 2.05499, val_accuracy: 0.47734\n"
     ]
    },
    {
     "name": "stderr",
     "output_type": "stream",
     "text": [
      "100%|███████████████████████████████████████████████████████████████████████████████| 244/244 [00:00<00:00, 572.64it/s]\n",
      " 23%|██████████████████▎                                                             | 56/244 [00:00<00:00, 559.88it/s]"
     ]
    },
    {
     "name": "stdout",
     "output_type": "stream",
     "text": [
      "epoch 180, loss: 0.49658, acc: 0.78608, val_loss: 2.02042, val_accuracy: 0.51786\n"
     ]
    },
    {
     "name": "stderr",
     "output_type": "stream",
     "text": [
      "100%|███████████████████████████████████████████████████████████████████████████████| 244/244 [00:00<00:00, 554.42it/s]\n",
      " 23%|██████████████████                                                              | 55/244 [00:00<00:00, 544.43it/s]"
     ]
    },
    {
     "name": "stdout",
     "output_type": "stream",
     "text": [
      "epoch 181, loss: 0.48317, acc: 0.79209, val_loss: 1.99214, val_accuracy: 0.50343\n"
     ]
    },
    {
     "name": "stderr",
     "output_type": "stream",
     "text": [
      "100%|███████████████████████████████████████████████████████████████████████████████| 244/244 [00:00<00:00, 556.95it/s]\n",
      " 23%|██████████████████                                                              | 55/244 [00:00<00:00, 544.43it/s]"
     ]
    },
    {
     "name": "stdout",
     "output_type": "stream",
     "text": [
      "epoch 182, loss: 0.47950, acc: 0.79415, val_loss: 2.03432, val_accuracy: 0.47871\n"
     ]
    },
    {
     "name": "stderr",
     "output_type": "stream",
     "text": [
      "100%|███████████████████████████████████████████████████████████████████████████████| 244/244 [00:00<00:00, 548.19it/s]\n",
      " 46%|████████████████████████████████████▌                                          | 113/244 [00:00<00:00, 565.76it/s]"
     ]
    },
    {
     "name": "stdout",
     "output_type": "stream",
     "text": [
      "epoch 183, loss: 0.47684, acc: 0.79141, val_loss: 2.00158, val_accuracy: 0.48832\n"
     ]
    },
    {
     "name": "stderr",
     "output_type": "stream",
     "text": [
      "100%|███████████████████████████████████████████████████████████████████████████████| 244/244 [00:00<00:00, 562.08it/s]\n",
      " 24%|███████████████████▎                                                            | 59/244 [00:00<00:00, 589.87it/s]"
     ]
    },
    {
     "name": "stdout",
     "output_type": "stream",
     "text": [
      "epoch 184, loss: 0.47957, acc: 0.79497, val_loss: 1.99450, val_accuracy: 0.48626\n"
     ]
    },
    {
     "name": "stderr",
     "output_type": "stream",
     "text": [
      "100%|███████████████████████████████████████████████████████████████████████████████| 244/244 [00:00<00:00, 558.23it/s]\n",
      " 22%|█████████████████▋                                                              | 54/244 [00:00<00:00, 534.54it/s]"
     ]
    },
    {
     "name": "stdout",
     "output_type": "stream",
     "text": [
      "epoch 185, loss: 0.46905, acc: 0.79880, val_loss: 2.12563, val_accuracy: 0.48077\n"
     ]
    },
    {
     "name": "stderr",
     "output_type": "stream",
     "text": [
      "100%|███████████████████████████████████████████████████████████████████████████████| 244/244 [00:00<00:00, 550.67it/s]\n",
      " 24%|███████████████████                                                             | 58/244 [00:00<00:00, 574.13it/s]"
     ]
    },
    {
     "name": "stdout",
     "output_type": "stream",
     "text": [
      "epoch 186, loss: 0.47397, acc: 0.79291, val_loss: 2.08918, val_accuracy: 0.50275\n"
     ]
    },
    {
     "name": "stderr",
     "output_type": "stream",
     "text": [
      "100%|███████████████████████████████████████████████████████████████████████████████| 244/244 [00:00<00:00, 551.91it/s]\n",
      " 24%|███████████████████                                                             | 58/244 [00:00<00:00, 574.12it/s]"
     ]
    },
    {
     "name": "stdout",
     "output_type": "stream",
     "text": [
      "epoch 187, loss: 0.47561, acc: 0.79661, val_loss: 2.22997, val_accuracy: 0.47734\n"
     ]
    },
    {
     "name": "stderr",
     "output_type": "stream",
     "text": [
      "100%|███████████████████████████████████████████████████████████████████████████████| 244/244 [00:00<00:00, 545.74it/s]\n",
      " 23%|██████████████████                                                              | 55/244 [00:00<00:00, 544.43it/s]"
     ]
    },
    {
     "name": "stdout",
     "output_type": "stream",
     "text": [
      "epoch 188, loss: 0.48991, acc: 0.78908, val_loss: 2.10427, val_accuracy: 0.48077\n"
     ]
    },
    {
     "name": "stderr",
     "output_type": "stream",
     "text": [
      "100%|███████████████████████████████████████████████████████████████████████████████| 244/244 [00:00<00:00, 555.58it/s]\n",
      " 24%|███████████████████▎                                                            | 59/244 [00:00<00:00, 584.01it/s]"
     ]
    },
    {
     "name": "stdout",
     "output_type": "stream",
     "text": [
      "epoch 189, loss: 0.47613, acc: 0.79469, val_loss: 2.09902, val_accuracy: 0.48832\n"
     ]
    },
    {
     "name": "stderr",
     "output_type": "stream",
     "text": [
      "100%|███████████████████████████████████████████████████████████████████████████████| 244/244 [00:00<00:00, 578.19it/s]\n",
      " 23%|██████████████████▋                                                             | 57/244 [00:00<00:00, 569.87it/s]"
     ]
    },
    {
     "name": "stdout",
     "output_type": "stream",
     "text": [
      "epoch 190, loss: 0.47843, acc: 0.79962, val_loss: 2.16723, val_accuracy: 0.47253\n"
     ]
    },
    {
     "name": "stderr",
     "output_type": "stream",
     "text": [
      "100%|███████████████████████████████████████████████████████████████████████████████| 244/244 [00:00<00:00, 571.30it/s]\n",
      " 48%|█████████████████████████████████████▌                                         | 116/244 [00:00<00:00, 557.88it/s]"
     ]
    },
    {
     "name": "stdout",
     "output_type": "stream",
     "text": [
      "epoch 191, loss: 0.48484, acc: 0.79018, val_loss: 2.17449, val_accuracy: 0.49038\n"
     ]
    },
    {
     "name": "stderr",
     "output_type": "stream",
     "text": [
      "100%|███████████████████████████████████████████████████████████████████████████████| 244/244 [00:00<00:00, 565.55it/s]\n",
      " 23%|██████████████████▎                                                             | 56/244 [00:00<00:00, 554.46it/s]"
     ]
    },
    {
     "name": "stdout",
     "output_type": "stream",
     "text": [
      "[INFO] val_acc has been improved from 0.51786 to 0.51854. Saving Model!\n",
      "epoch 192, loss: 0.47073, acc: 0.79620, val_loss: 2.08482, val_accuracy: 0.51854\n"
     ]
    },
    {
     "name": "stderr",
     "output_type": "stream",
     "text": [
      "100%|███████████████████████████████████████████████████████████████████████████████| 244/244 [00:00<00:00, 567.47it/s]\n",
      " 23%|██████████████████                                                              | 55/244 [00:00<00:00, 549.88it/s]"
     ]
    },
    {
     "name": "stdout",
     "output_type": "stream",
     "text": [
      "epoch 193, loss: 0.46109, acc: 0.80495, val_loss: 2.21302, val_accuracy: 0.48970\n"
     ]
    },
    {
     "name": "stderr",
     "output_type": "stream",
     "text": [
      "100%|███████████████████████████████████████████████████████████████████████████████| 244/244 [00:00<00:00, 544.52it/s]\n",
      " 22%|█████████████████▋                                                              | 54/244 [00:00<00:00, 534.53it/s]"
     ]
    },
    {
     "name": "stdout",
     "output_type": "stream",
     "text": [
      "epoch 194, loss: 0.46865, acc: 0.79442, val_loss: 2.14222, val_accuracy: 0.49107\n"
     ]
    },
    {
     "name": "stderr",
     "output_type": "stream",
     "text": [
      "100%|███████████████████████████████████████████████████████████████████████████████| 244/244 [00:00<00:00, 545.74it/s]\n",
      " 23%|██████████████████▋                                                             | 57/244 [00:00<00:00, 569.85it/s]"
     ]
    },
    {
     "name": "stdout",
     "output_type": "stream",
     "text": [
      "epoch 195, loss: 0.46147, acc: 0.80071, val_loss: 2.28927, val_accuracy: 0.48764\n"
     ]
    },
    {
     "name": "stderr",
     "output_type": "stream",
     "text": [
      "100%|███████████████████████████████████████████████████████████████████████████████| 244/244 [00:00<00:00, 549.42it/s]\n",
      " 46%|████████████████████████████████████▌                                          | 113/244 [00:00<00:00, 562.44it/s]"
     ]
    },
    {
     "name": "stdout",
     "output_type": "stream",
     "text": [
      "epoch 196, loss: 0.46092, acc: 0.79784, val_loss: 2.16104, val_accuracy: 0.48764\n"
     ]
    },
    {
     "name": "stderr",
     "output_type": "stream",
     "text": [
      "100%|███████████████████████████████████████████████████████████████████████████████| 244/244 [00:00<00:00, 566.00it/s]\n",
      " 24%|███████████████████▎                                                            | 59/244 [00:00<00:00, 589.86it/s]"
     ]
    },
    {
     "name": "stdout",
     "output_type": "stream",
     "text": [
      "epoch 197, loss: 0.46245, acc: 0.79592, val_loss: 2.21777, val_accuracy: 0.49863\n"
     ]
    },
    {
     "name": "stderr",
     "output_type": "stream",
     "text": [
      "100%|███████████████████████████████████████████████████████████████████████████████| 244/244 [00:00<00:00, 558.23it/s]\n",
      " 23%|██████████████████▎                                                             | 56/244 [00:00<00:00, 554.80it/s]"
     ]
    },
    {
     "name": "stdout",
     "output_type": "stream",
     "text": [
      "epoch 198, loss: 0.45488, acc: 0.80222, val_loss: 2.24581, val_accuracy: 0.49794\n"
     ]
    },
    {
     "name": "stderr",
     "output_type": "stream",
     "text": [
      "100%|███████████████████████████████████████████████████████████████████████████████| 244/244 [00:00<00:00, 530.41it/s]\n",
      " 21%|█████████████████                                                               | 52/244 [00:00<00:00, 519.88it/s]"
     ]
    },
    {
     "name": "stdout",
     "output_type": "stream",
     "text": [
      "[INFO] val_acc has been improved from 0.51854 to 0.52404. Saving Model!\n",
      "epoch 199, loss: 0.45511, acc: 0.80071, val_loss: 2.17253, val_accuracy: 0.52404\n"
     ]
    },
    {
     "name": "stderr",
     "output_type": "stream",
     "text": [
      "100%|███████████████████████████████████████████████████████████████████████████████| 244/244 [00:00<00:00, 545.74it/s]\n",
      " 47%|████████████████████████████████████▉                                          | 114/244 [00:00<00:00, 569.87it/s]"
     ]
    },
    {
     "name": "stdout",
     "output_type": "stream",
     "text": [
      "epoch 200, loss: 0.44977, acc: 0.80618, val_loss: 2.27145, val_accuracy: 0.49245\n"
     ]
    },
    {
     "name": "stderr",
     "output_type": "stream",
     "text": [
      "100%|███████████████████████████████████████████████████████████████████████████████| 244/244 [00:00<00:00, 560.79it/s]\n",
      " 25%|███████████████████▋                                                            | 60/244 [00:00<00:00, 593.93it/s]"
     ]
    },
    {
     "name": "stdout",
     "output_type": "stream",
     "text": [
      "epoch 201, loss: 0.45039, acc: 0.80823, val_loss: 2.39873, val_accuracy: 0.48832\n"
     ]
    },
    {
     "name": "stderr",
     "output_type": "stream",
     "text": [
      "100%|███████████████████████████████████████████████████████████████████████████████| 244/244 [00:00<00:00, 582.21it/s]\n",
      " 23%|██████████████████▎                                                             | 56/244 [00:00<00:00, 554.33it/s]"
     ]
    },
    {
     "name": "stdout",
     "output_type": "stream",
     "text": [
      "epoch 202, loss: 0.44236, acc: 0.81206, val_loss: 2.31755, val_accuracy: 0.48970\n"
     ]
    },
    {
     "name": "stderr",
     "output_type": "stream",
     "text": [
      "100%|███████████████████████████████████████████████████████████████████████████████| 244/244 [00:00<00:00, 555.68it/s]\n",
      " 23%|██████████████████▋                                                             | 57/244 [00:00<00:00, 569.88it/s]"
     ]
    },
    {
     "name": "stdout",
     "output_type": "stream",
     "text": [
      "epoch 203, loss: 0.44666, acc: 0.80263, val_loss: 2.28925, val_accuracy: 0.52335\n"
     ]
    },
    {
     "name": "stderr",
     "output_type": "stream",
     "text": [
      "100%|███████████████████████████████████████████████████████████████████████████████| 244/244 [00:00<00:00, 559.51it/s]\n",
      " 23%|██████████████████▋                                                             | 57/244 [00:00<00:00, 569.88it/s]"
     ]
    },
    {
     "name": "stdout",
     "output_type": "stream",
     "text": [
      "epoch 204, loss: 0.44074, acc: 0.81056, val_loss: 2.35158, val_accuracy: 0.50137\n"
     ]
    },
    {
     "name": "stderr",
     "output_type": "stream",
     "text": [
      "100%|███████████████████████████████████████████████████████████████████████████████| 244/244 [00:00<00:00, 563.38it/s]\n",
      " 24%|███████████████████▎                                                            | 59/244 [00:00<00:00, 589.88it/s]"
     ]
    },
    {
     "name": "stdout",
     "output_type": "stream",
     "text": [
      "epoch 205, loss: 0.47172, acc: 0.81138, val_loss: 2.46760, val_accuracy: 0.47115\n"
     ]
    },
    {
     "name": "stderr",
     "output_type": "stream",
     "text": [
      "100%|███████████████████████████████████████████████████████████████████████████████| 244/244 [00:00<00:00, 556.95it/s]\n",
      " 23%|██████████████████▎                                                             | 56/244 [00:00<00:00, 559.87it/s]"
     ]
    },
    {
     "name": "stdout",
     "output_type": "stream",
     "text": [
      "epoch 206, loss: 0.46918, acc: 0.79688, val_loss: 2.30908, val_accuracy: 0.49588\n"
     ]
    },
    {
     "name": "stderr",
     "output_type": "stream",
     "text": [
      "100%|███████████████████████████████████████████████████████████████████████████████| 244/244 [00:00<00:00, 563.38it/s]\n",
      " 45%|███████████████████████████████████▉                                           | 111/244 [00:00<00:00, 552.51it/s]"
     ]
    },
    {
     "name": "stdout",
     "output_type": "stream",
     "text": [
      "epoch 207, loss: 0.44234, acc: 0.81138, val_loss: 2.34445, val_accuracy: 0.49519\n"
     ]
    },
    {
     "name": "stderr",
     "output_type": "stream",
     "text": [
      "100%|███████████████████████████████████████████████████████████████████████████████| 244/244 [00:00<00:00, 545.74it/s]\n",
      " 23%|██████████████████▋                                                             | 57/244 [00:00<00:00, 569.87it/s]"
     ]
    },
    {
     "name": "stdout",
     "output_type": "stream",
     "text": [
      "epoch 208, loss: 0.45296, acc: 0.80536, val_loss: 2.46006, val_accuracy: 0.47527\n"
     ]
    },
    {
     "name": "stderr",
     "output_type": "stream",
     "text": [
      "100%|███████████████████████████████████████████████████████████████████████████████| 244/244 [00:00<00:00, 562.08it/s]\n",
      " 23%|██████████████████▋                                                             | 57/244 [00:00<00:00, 564.23it/s]"
     ]
    },
    {
     "name": "stdout",
     "output_type": "stream",
     "text": [
      "epoch 209, loss: 0.45358, acc: 0.80864, val_loss: 2.35971, val_accuracy: 0.48489\n"
     ]
    },
    {
     "name": "stderr",
     "output_type": "stream",
     "text": [
      "100%|███████████████████████████████████████████████████████████████████████████████| 244/244 [00:00<00:00, 569.97it/s]\n",
      " 23%|██████████████████▎                                                             | 56/244 [00:00<00:00, 554.33it/s]"
     ]
    },
    {
     "name": "stdout",
     "output_type": "stream",
     "text": [
      "epoch 210, loss: 0.45402, acc: 0.80823, val_loss: 2.34638, val_accuracy: 0.48764\n"
     ]
    },
    {
     "name": "stderr",
     "output_type": "stream",
     "text": [
      "100%|███████████████████████████████████████████████████████████████████████████████| 244/244 [00:00<00:00, 551.91it/s]\n",
      " 24%|███████████████████                                                             | 58/244 [00:00<00:00, 579.87it/s]"
     ]
    },
    {
     "name": "stdout",
     "output_type": "stream",
     "text": [
      "epoch 211, loss: 0.44045, acc: 0.81001, val_loss: 2.32430, val_accuracy: 0.49038\n"
     ]
    },
    {
     "name": "stderr",
     "output_type": "stream",
     "text": [
      "100%|███████████████████████████████████████████████████████████████████████████████| 244/244 [00:00<00:00, 572.64it/s]\n",
      " 24%|███████████████████▎                                                            | 59/244 [00:00<00:00, 589.87it/s]"
     ]
    },
    {
     "name": "stdout",
     "output_type": "stream",
     "text": [
      "epoch 212, loss: 0.44422, acc: 0.80646, val_loss: 2.37100, val_accuracy: 0.48214\n"
     ]
    },
    {
     "name": "stderr",
     "output_type": "stream",
     "text": [
      "100%|███████████████████████████████████████████████████████████████████████████████| 244/244 [00:00<00:00, 571.30it/s]\n",
      " 25%|███████████████████▋                                                            | 60/244 [00:00<00:00, 593.93it/s]"
     ]
    },
    {
     "name": "stdout",
     "output_type": "stream",
     "text": [
      "epoch 213, loss: 0.44583, acc: 0.80673, val_loss: 2.31629, val_accuracy: 0.49382\n"
     ]
    },
    {
     "name": "stderr",
     "output_type": "stream",
     "text": [
      "100%|███████████████████████████████████████████████████████████████████████████████| 244/244 [00:00<00:00, 567.31it/s]\n",
      " 46%|████████████████████████████████████▌                                          | 113/244 [00:00<00:00, 562.45it/s]"
     ]
    },
    {
     "name": "stdout",
     "output_type": "stream",
     "text": [
      "epoch 214, loss: 0.44481, acc: 0.80988, val_loss: 2.28174, val_accuracy: 0.52266\n"
     ]
    },
    {
     "name": "stderr",
     "output_type": "stream",
     "text": [
      "100%|███████████████████████████████████████████████████████████████████████████████| 244/244 [00:00<00:00, 560.79it/s]\n",
      " 47%|████████████████████████████████████▉                                          | 114/244 [00:00<00:00, 571.63it/s]"
     ]
    },
    {
     "name": "stdout",
     "output_type": "stream",
     "text": [
      "epoch 215, loss: 0.44047, acc: 0.81384, val_loss: 2.34904, val_accuracy: 0.50069\n"
     ]
    },
    {
     "name": "stderr",
     "output_type": "stream",
     "text": [
      "100%|███████████████████████████████████████████████████████████████████████████████| 244/244 [00:00<00:00, 568.64it/s]\n",
      " 24%|███████████████████▎                                                            | 59/244 [00:00<00:00, 589.87it/s]"
     ]
    },
    {
     "name": "stdout",
     "output_type": "stream",
     "text": [
      "epoch 216, loss: 0.43200, acc: 0.81740, val_loss: 2.32040, val_accuracy: 0.51786\n"
     ]
    },
    {
     "name": "stderr",
     "output_type": "stream",
     "text": [
      "100%|███████████████████████████████████████████████████████████████████████████████| 244/244 [00:00<00:00, 571.30it/s]\n",
      " 23%|██████████████████▋                                                             | 57/244 [00:00<00:00, 564.23it/s]"
     ]
    },
    {
     "name": "stdout",
     "output_type": "stream",
     "text": [
      "epoch 217, loss: 0.42931, acc: 0.82027, val_loss: 2.42445, val_accuracy: 0.49245\n"
     ]
    },
    {
     "name": "stderr",
     "output_type": "stream",
     "text": [
      "100%|███████████████████████████████████████████████████████████████████████████████| 244/244 [00:00<00:00, 563.38it/s]\n",
      " 48%|█████████████████████████████████████▌                                         | 116/244 [00:00<00:00, 561.06it/s]"
     ]
    },
    {
     "name": "stdout",
     "output_type": "stream",
     "text": [
      "epoch 218, loss: 0.43340, acc: 0.81343, val_loss: 2.39770, val_accuracy: 0.49794\n"
     ]
    },
    {
     "name": "stderr",
     "output_type": "stream",
     "text": [
      "100%|███████████████████████████████████████████████████████████████████████████████| 244/244 [00:00<00:00, 560.79it/s]\n",
      " 24%|███████████████████                                                             | 58/244 [00:00<00:00, 568.50it/s]"
     ]
    },
    {
     "name": "stdout",
     "output_type": "stream",
     "text": [
      "epoch 219, loss: 0.43948, acc: 0.81535, val_loss: 2.38772, val_accuracy: 0.50343\n"
     ]
    },
    {
     "name": "stderr",
     "output_type": "stream",
     "text": [
      "100%|███████████████████████████████████████████████████████████████████████████████| 244/244 [00:00<00:00, 566.00it/s]\n",
      " 25%|███████████████████▋                                                            | 60/244 [00:00<00:00, 593.93it/s]"
     ]
    },
    {
     "name": "stdout",
     "output_type": "stream",
     "text": [
      "epoch 220, loss: 0.43243, acc: 0.81863, val_loss: 2.34369, val_accuracy: 0.51648\n"
     ]
    },
    {
     "name": "stderr",
     "output_type": "stream",
     "text": [
      "100%|███████████████████████████████████████████████████████████████████████████████| 244/244 [00:00<00:00, 567.32it/s]\n",
      " 24%|███████████████████                                                             | 58/244 [00:00<00:00, 574.13it/s]"
     ]
    },
    {
     "name": "stdout",
     "output_type": "stream",
     "text": [
      "epoch 221, loss: 0.43798, acc: 0.81576, val_loss: 2.33433, val_accuracy: 0.51992\n"
     ]
    },
    {
     "name": "stderr",
     "output_type": "stream",
     "text": [
      "100%|███████████████████████████████████████████████████████████████████████████████| 244/244 [00:00<00:00, 578.07it/s]\n",
      " 23%|██████████████████▋                                                             | 57/244 [00:00<00:00, 569.87it/s]"
     ]
    },
    {
     "name": "stdout",
     "output_type": "stream",
     "text": [
      "epoch 222, loss: 0.42899, acc: 0.82109, val_loss: 2.44769, val_accuracy: 0.48832\n"
     ]
    },
    {
     "name": "stderr",
     "output_type": "stream",
     "text": [
      "100%|███████████████████████████████████████████████████████████████████████████████| 244/244 [00:00<00:00, 566.00it/s]\n",
      " 48%|██████████████████████████████████████▏                                        | 118/244 [00:00<00:00, 584.03it/s]"
     ]
    },
    {
     "name": "stdout",
     "output_type": "stream",
     "text": [
      "epoch 223, loss: 0.43016, acc: 0.81836, val_loss: 2.42771, val_accuracy: 0.51168\n"
     ]
    },
    {
     "name": "stderr",
     "output_type": "stream",
     "text": [
      "100%|███████████████████████████████████████████████████████████████████████████████| 244/244 [00:00<00:00, 571.30it/s]\n",
      " 46%|████████████████████████████████████▎                                          | 112/244 [00:00<00:00, 559.87it/s]"
     ]
    },
    {
     "name": "stdout",
     "output_type": "stream",
     "text": [
      "epoch 224, loss: 0.42651, acc: 0.81877, val_loss: 2.47582, val_accuracy: 0.52404\n"
     ]
    },
    {
     "name": "stderr",
     "output_type": "stream",
     "text": [
      "100%|███████████████████████████████████████████████████████████████████████████████| 244/244 [00:00<00:00, 559.51it/s]\n",
      " 23%|██████████████████▋                                                             | 57/244 [00:00<00:00, 564.23it/s]"
     ]
    },
    {
     "name": "stdout",
     "output_type": "stream",
     "text": [
      "epoch 225, loss: 0.43342, acc: 0.81931, val_loss: 2.49472, val_accuracy: 0.48626\n"
     ]
    },
    {
     "name": "stderr",
     "output_type": "stream",
     "text": [
      "100%|███████████████████████████████████████████████████████████████████████████████| 244/244 [00:00<00:00, 566.00it/s]\n",
      " 23%|██████████████████▎                                                             | 56/244 [00:00<00:00, 554.33it/s]"
     ]
    },
    {
     "name": "stdout",
     "output_type": "stream",
     "text": [
      "epoch 226, loss: 0.43120, acc: 0.81453, val_loss: 2.49234, val_accuracy: 0.50481\n"
     ]
    },
    {
     "name": "stderr",
     "output_type": "stream",
     "text": [
      "100%|███████████████████████████████████████████████████████████████████████████████| 244/244 [00:00<00:00, 564.69it/s]\n",
      " 23%|██████████████████▋                                                             | 57/244 [00:00<00:00, 564.23it/s]"
     ]
    },
    {
     "name": "stdout",
     "output_type": "stream",
     "text": [
      "epoch 227, loss: 0.42503, acc: 0.81972, val_loss: 2.50896, val_accuracy: 0.52335\n"
     ]
    },
    {
     "name": "stderr",
     "output_type": "stream",
     "text": [
      "100%|███████████████████████████████████████████████████████████████████████████████| 244/244 [00:00<00:00, 567.31it/s]\n",
      " 46%|████████████████████████████████████▌                                          | 113/244 [00:00<00:00, 565.75it/s]"
     ]
    },
    {
     "name": "stdout",
     "output_type": "stream",
     "text": [
      "[INFO] val_acc has been improved from 0.52404 to 0.52610. Saving Model!\n",
      "epoch 228, loss: 0.43582, acc: 0.81398, val_loss: 2.38988, val_accuracy: 0.52610\n"
     ]
    },
    {
     "name": "stderr",
     "output_type": "stream",
     "text": [
      "100%|███████████████████████████████████████████████████████████████████████████████| 244/244 [00:00<00:00, 575.34it/s]\n",
      " 48%|██████████████████████████████████████▏                                        | 118/244 [00:00<00:00, 585.77it/s]"
     ]
    },
    {
     "name": "stdout",
     "output_type": "stream",
     "text": [
      "epoch 229, loss: 0.43270, acc: 0.81699, val_loss: 2.43452, val_accuracy: 0.49588\n"
     ]
    },
    {
     "name": "stderr",
     "output_type": "stream",
     "text": [
      "100%|███████████████████████████████████████████████████████████████████████████████| 244/244 [00:00<00:00, 576.70it/s]\n",
      " 23%|██████████████████▎                                                             | 56/244 [00:00<00:00, 559.87it/s]"
     ]
    },
    {
     "name": "stdout",
     "output_type": "stream",
     "text": [
      "epoch 230, loss: 0.42456, acc: 0.81959, val_loss: 2.46737, val_accuracy: 0.48214\n"
     ]
    },
    {
     "name": "stderr",
     "output_type": "stream",
     "text": [
      "100%|███████████████████████████████████████████████████████████████████████████████| 244/244 [00:00<00:00, 558.23it/s]\n",
      " 45%|███████████████████████████████████▉                                           | 111/244 [00:00<00:00, 554.26it/s]"
     ]
    },
    {
     "name": "stdout",
     "output_type": "stream",
     "text": [
      "epoch 231, loss: 0.42508, acc: 0.81918, val_loss: 2.44159, val_accuracy: 0.49038\n"
     ]
    },
    {
     "name": "stderr",
     "output_type": "stream",
     "text": [
      "100%|███████████████████████████████████████████████████████████████████████████████| 244/244 [00:00<00:00, 556.95it/s]\n",
      " 22%|█████████████████▋                                                              | 54/244 [00:00<00:00, 539.88it/s]"
     ]
    },
    {
     "name": "stdout",
     "output_type": "stream",
     "text": [
      "epoch 232, loss: 0.42021, acc: 0.82232, val_loss: 2.43817, val_accuracy: 0.50755\n"
     ]
    },
    {
     "name": "stderr",
     "output_type": "stream",
     "text": [
      "100%|███████████████████████████████████████████████████████████████████████████████| 244/244 [00:00<00:00, 553.16it/s]\n",
      " 23%|██████████████████▎                                                             | 56/244 [00:00<00:00, 559.88it/s]"
     ]
    },
    {
     "name": "stdout",
     "output_type": "stream",
     "text": [
      "epoch 233, loss: 0.41501, acc: 0.82383, val_loss: 2.50308, val_accuracy: 0.50962\n"
     ]
    },
    {
     "name": "stderr",
     "output_type": "stream",
     "text": [
      "100%|███████████████████████████████████████████████████████████████████████████████| 244/244 [00:00<00:00, 558.23it/s]\n",
      " 46%|████████████████████████████████████▌                                          | 113/244 [00:00<00:00, 562.45it/s]"
     ]
    },
    {
     "name": "stdout",
     "output_type": "stream",
     "text": [
      "epoch 234, loss: 0.41142, acc: 0.82054, val_loss: 2.55955, val_accuracy: 0.49382\n"
     ]
    },
    {
     "name": "stderr",
     "output_type": "stream",
     "text": [
      "100%|███████████████████████████████████████████████████████████████████████████████| 244/244 [00:00<00:00, 562.09it/s]\n",
      " 23%|██████████████████▎                                                             | 56/244 [00:00<00:00, 554.33it/s]"
     ]
    },
    {
     "name": "stdout",
     "output_type": "stream",
     "text": [
      "epoch 235, loss: 0.41399, acc: 0.82137, val_loss: 2.54166, val_accuracy: 0.50206\n"
     ]
    },
    {
     "name": "stderr",
     "output_type": "stream",
     "text": [
      "100%|███████████████████████████████████████████████████████████████████████████████| 244/244 [00:00<00:00, 544.52it/s]\n",
      " 23%|██████████████████                                                              | 55/244 [00:00<00:00, 549.88it/s]"
     ]
    },
    {
     "name": "stdout",
     "output_type": "stream",
     "text": [
      "epoch 236, loss: 0.41398, acc: 0.82561, val_loss: 2.53756, val_accuracy: 0.48352\n"
     ]
    },
    {
     "name": "stderr",
     "output_type": "stream",
     "text": [
      "100%|███████████████████████████████████████████████████████████████████████████████| 244/244 [00:00<00:00, 560.79it/s]\n",
      " 48%|█████████████████████████████████████▌                                         | 116/244 [00:00<00:00, 561.06it/s]"
     ]
    },
    {
     "name": "stdout",
     "output_type": "stream",
     "text": [
      "epoch 237, loss: 0.41489, acc: 0.82437, val_loss: 2.69017, val_accuracy: 0.48626\n"
     ]
    },
    {
     "name": "stderr",
     "output_type": "stream",
     "text": [
      "100%|███████████████████████████████████████████████████████████████████████████████| 244/244 [00:00<00:00, 548.19it/s]\n",
      " 47%|████████████████████████████████████▉                                          | 114/244 [00:00<00:00, 563.24it/s]"
     ]
    },
    {
     "name": "stdout",
     "output_type": "stream",
     "text": [
      "epoch 238, loss: 0.41419, acc: 0.82301, val_loss: 2.64555, val_accuracy: 0.50962\n"
     ]
    },
    {
     "name": "stderr",
     "output_type": "stream",
     "text": [
      "100%|███████████████████████████████████████████████████████████████████████████████| 244/244 [00:00<00:00, 546.96it/s]\n",
      " 48%|█████████████████████████████████████▌                                         | 116/244 [00:00<00:00, 576.48it/s]"
     ]
    },
    {
     "name": "stdout",
     "output_type": "stream",
     "text": [
      "epoch 239, loss: 0.40240, acc: 0.83039, val_loss: 2.62753, val_accuracy: 0.51305\n"
     ]
    },
    {
     "name": "stderr",
     "output_type": "stream",
     "text": [
      "100%|███████████████████████████████████████████████████████████████████████████████| 244/244 [00:00<00:00, 563.38it/s]\n",
      " 24%|███████████████████▎                                                            | 59/244 [00:00<00:00, 584.03it/s]"
     ]
    },
    {
     "name": "stdout",
     "output_type": "stream",
     "text": [
      "epoch 240, loss: 0.41099, acc: 0.82602, val_loss: 2.59329, val_accuracy: 0.49519\n"
     ]
    },
    {
     "name": "stderr",
     "output_type": "stream",
     "text": [
      "100%|███████████████████████████████████████████████████████████████████████████████| 244/244 [00:00<00:00, 580.82it/s]\n",
      " 23%|██████████████████▋                                                             | 57/244 [00:00<00:00, 564.23it/s]"
     ]
    },
    {
     "name": "stdout",
     "output_type": "stream",
     "text": [
      "epoch 241, loss: 0.41142, acc: 0.81918, val_loss: 2.62337, val_accuracy: 0.50000\n"
     ]
    },
    {
     "name": "stderr",
     "output_type": "stream",
     "text": [
      "100%|███████████████████████████████████████████████████████████████████████████████| 244/244 [00:00<00:00, 566.00it/s]\n",
      " 47%|████████████████████████████████████▉                                          | 114/244 [00:00<00:00, 566.54it/s]"
     ]
    },
    {
     "name": "stdout",
     "output_type": "stream",
     "text": [
      "epoch 242, loss: 0.40483, acc: 0.82492, val_loss: 2.67891, val_accuracy: 0.50481\n"
     ]
    },
    {
     "name": "stderr",
     "output_type": "stream",
     "text": [
      "100%|███████████████████████████████████████████████████████████████████████████████| 244/244 [00:00<00:00, 569.97it/s]\n",
      " 23%|██████████████████                                                              | 55/244 [00:00<00:00, 544.44it/s]"
     ]
    },
    {
     "name": "stdout",
     "output_type": "stream",
     "text": [
      "epoch 243, loss: 0.39713, acc: 0.82971, val_loss: 2.79037, val_accuracy: 0.50343\n"
     ]
    },
    {
     "name": "stderr",
     "output_type": "stream",
     "text": [
      "100%|███████████████████████████████████████████████████████████████████████████████| 244/244 [00:00<00:00, 550.67it/s]\n",
      " 23%|██████████████████▎                                                             | 56/244 [00:00<00:00, 559.87it/s]"
     ]
    },
    {
     "name": "stdout",
     "output_type": "stream",
     "text": [
      "[INFO] val_acc has been improved from 0.52610 to 0.52679. Saving Model!\n",
      "epoch 244, loss: 0.40678, acc: 0.82519, val_loss: 2.69441, val_accuracy: 0.52679\n"
     ]
    },
    {
     "name": "stderr",
     "output_type": "stream",
     "text": [
      "100%|███████████████████████████████████████████████████████████████████████████████| 244/244 [00:00<00:00, 555.68it/s]\n",
      " 24%|███████████████████▎                                                            | 59/244 [00:00<00:00, 584.03it/s]"
     ]
    },
    {
     "name": "stdout",
     "output_type": "stream",
     "text": [
      "[INFO] val_acc has been improved from 0.52679 to 0.52953. Saving Model!\n",
      "epoch 245, loss: 0.40322, acc: 0.83190, val_loss: 2.71023, val_accuracy: 0.52953\n"
     ]
    },
    {
     "name": "stderr",
     "output_type": "stream",
     "text": [
      "100%|███████████████████████████████████████████████████████████████████████████████| 244/244 [00:00<00:00, 560.79it/s]\n",
      " 47%|████████████████████████████████████▉                                          | 114/244 [00:00<00:00, 568.29it/s]"
     ]
    },
    {
     "name": "stdout",
     "output_type": "stream",
     "text": [
      "epoch 246, loss: 0.39959, acc: 0.82793, val_loss: 2.80269, val_accuracy: 0.50618\n"
     ]
    },
    {
     "name": "stderr",
     "output_type": "stream",
     "text": [
      "100%|███████████████████████████████████████████████████████████████████████████████| 244/244 [00:00<00:00, 566.00it/s]\n",
      " 46%|████████████████████████████████████▌                                          | 113/244 [00:00<00:00, 565.76it/s]"
     ]
    },
    {
     "name": "stdout",
     "output_type": "stream",
     "text": [
      "[INFO] val_acc has been improved from 0.52953 to 0.53846. Saving Model!\n",
      "epoch 247, loss: 0.40844, acc: 0.82410, val_loss: 2.74539, val_accuracy: 0.53846\n"
     ]
    },
    {
     "name": "stderr",
     "output_type": "stream",
     "text": [
      "100%|███████████████████████████████████████████████████████████████████████████████| 244/244 [00:00<00:00, 546.96it/s]\n",
      " 48%|█████████████████████████████████████▌                                         | 116/244 [00:00<00:00, 579.87it/s]"
     ]
    },
    {
     "name": "stdout",
     "output_type": "stream",
     "text": [
      "[INFO] val_acc has been improved from 0.53846 to 0.53915. Saving Model!\n",
      "epoch 248, loss: 0.40874, acc: 0.82465, val_loss: 2.73042, val_accuracy: 0.53915\n"
     ]
    },
    {
     "name": "stderr",
     "output_type": "stream",
     "text": [
      "100%|███████████████████████████████████████████████████████████████████████████████| 244/244 [00:00<00:00, 569.95it/s]\n",
      " 24%|███████████████████                                                             | 58/244 [00:00<00:00, 579.87it/s]"
     ]
    },
    {
     "name": "stdout",
     "output_type": "stream",
     "text": [
      "epoch 249, loss: 0.39891, acc: 0.83108, val_loss: 2.74189, val_accuracy: 0.51717\n"
     ]
    },
    {
     "name": "stderr",
     "output_type": "stream",
     "text": [
      "100%|███████████████████████████████████████████████████████████████████████████████| 244/244 [00:00<00:00, 553.16it/s]\n",
      " 24%|███████████████████                                                             | 58/244 [00:00<00:00, 574.13it/s]"
     ]
    },
    {
     "name": "stdout",
     "output_type": "stream",
     "text": [
      "epoch 250, loss: 0.39565, acc: 0.83244, val_loss: 2.75393, val_accuracy: 0.49863\n"
     ]
    },
    {
     "name": "stderr",
     "output_type": "stream",
     "text": [
      "100%|███████████████████████████████████████████████████████████████████████████████| 244/244 [00:00<00:00, 548.19it/s]\n",
      " 48%|██████████████████████████████████████▏                                        | 118/244 [00:00<00:00, 564.31it/s]"
     ]
    },
    {
     "name": "stdout",
     "output_type": "stream",
     "text": [
      "epoch 251, loss: 0.41052, acc: 0.82150, val_loss: 2.76270, val_accuracy: 0.52953\n"
     ]
    },
    {
     "name": "stderr",
     "output_type": "stream",
     "text": [
      "100%|███████████████████████████████████████████████████████████████████████████████| 244/244 [00:00<00:00, 564.69it/s]\n",
      " 47%|████████████████████████████████████▉                                          | 114/244 [00:00<00:00, 563.25it/s]"
     ]
    },
    {
     "name": "stdout",
     "output_type": "stream",
     "text": [
      "epoch 252, loss: 0.39647, acc: 0.83094, val_loss: 2.74877, val_accuracy: 0.50000\n"
     ]
    },
    {
     "name": "stderr",
     "output_type": "stream",
     "text": [
      "100%|███████████████████████████████████████████████████████████████████████████████| 244/244 [00:00<00:00, 556.95it/s]\n",
      " 23%|██████████████████▋                                                             | 57/244 [00:00<00:00, 569.87it/s]"
     ]
    },
    {
     "name": "stdout",
     "output_type": "stream",
     "text": [
      "epoch 253, loss: 0.39621, acc: 0.83217, val_loss: 2.76126, val_accuracy: 0.53228\n"
     ]
    },
    {
     "name": "stderr",
     "output_type": "stream",
     "text": [
      "100%|███████████████████████████████████████████████████████████████████████████████| 244/244 [00:00<00:00, 559.51it/s]\n",
      " 24%|███████████████████                                                             | 58/244 [00:00<00:00, 574.13it/s]"
     ]
    },
    {
     "name": "stdout",
     "output_type": "stream",
     "text": [
      "epoch 254, loss: 0.39980, acc: 0.83108, val_loss: 2.85822, val_accuracy: 0.50412\n"
     ]
    },
    {
     "name": "stderr",
     "output_type": "stream",
     "text": [
      "100%|███████████████████████████████████████████████████████████████████████████████| 244/244 [00:00<00:00, 560.79it/s]\n",
      " 24%|███████████████████▎                                                            | 59/244 [00:00<00:00, 584.02it/s]"
     ]
    },
    {
     "name": "stdout",
     "output_type": "stream",
     "text": [
      "epoch 255, loss: 0.42888, acc: 0.82889, val_loss: 2.85895, val_accuracy: 0.46291\n"
     ]
    },
    {
     "name": "stderr",
     "output_type": "stream",
     "text": [
      "100%|███████████████████████████████████████████████████████████████████████████████| 244/244 [00:00<00:00, 555.68it/s]\n",
      " 46%|████████████████████████████████████▎                                          | 112/244 [00:00<00:00, 557.27it/s]"
     ]
    },
    {
     "name": "stdout",
     "output_type": "stream",
     "text": [
      "epoch 256, loss: 0.41919, acc: 0.82944, val_loss: 2.76482, val_accuracy: 0.51648\n"
     ]
    },
    {
     "name": "stderr",
     "output_type": "stream",
     "text": [
      "100%|███████████████████████████████████████████████████████████████████████████████| 244/244 [00:00<00:00, 549.55it/s]\n",
      " 23%|██████████████████                                                              | 55/244 [00:00<00:00, 544.43it/s]"
     ]
    },
    {
     "name": "stdout",
     "output_type": "stream",
     "text": [
      "epoch 257, loss: 0.39922, acc: 0.82779, val_loss: 2.77338, val_accuracy: 0.51099\n"
     ]
    },
    {
     "name": "stderr",
     "output_type": "stream",
     "text": [
      "100%|███████████████████████████████████████████████████████████████████████████████| 244/244 [00:00<00:00, 544.52it/s]\n",
      " 24%|███████████████████                                                             | 58/244 [00:00<00:00, 574.13it/s]"
     ]
    },
    {
     "name": "stdout",
     "output_type": "stream",
     "text": [
      "epoch 258, loss: 0.39470, acc: 0.82834, val_loss: 2.78982, val_accuracy: 0.50893\n"
     ]
    },
    {
     "name": "stderr",
     "output_type": "stream",
     "text": [
      "100%|███████████████████████████████████████████████████████████████████████████████| 244/244 [00:00<00:00, 555.68it/s]\n",
      " 48%|█████████████████████████████████████▌                                         | 116/244 [00:00<00:00, 578.23it/s]"
     ]
    },
    {
     "name": "stdout",
     "output_type": "stream",
     "text": [
      "epoch 259, loss: 0.39254, acc: 0.83244, val_loss: 2.79966, val_accuracy: 0.53434\n"
     ]
    },
    {
     "name": "stderr",
     "output_type": "stream",
     "text": [
      "100%|███████████████████████████████████████████████████████████████████████████████| 244/244 [00:00<00:00, 566.00it/s]\n",
      " 47%|████████████████████████████████████▉                                          | 114/244 [00:00<00:00, 569.29it/s]"
     ]
    },
    {
     "name": "stdout",
     "output_type": "stream",
     "text": [
      "epoch 260, loss: 0.39930, acc: 0.83135, val_loss: 2.81044, val_accuracy: 0.51442\n"
     ]
    },
    {
     "name": "stderr",
     "output_type": "stream",
     "text": [
      "100%|███████████████████████████████████████████████████████████████████████████████| 244/244 [00:00<00:00, 564.69it/s]\n",
      " 23%|██████████████████▎                                                             | 56/244 [00:00<00:00, 554.33it/s]"
     ]
    },
    {
     "name": "stdout",
     "output_type": "stream",
     "text": [
      "epoch 261, loss: 0.39297, acc: 0.83504, val_loss: 2.84982, val_accuracy: 0.53228\n"
     ]
    },
    {
     "name": "stderr",
     "output_type": "stream",
     "text": [
      "100%|███████████████████████████████████████████████████████████████████████████████| 244/244 [00:00<00:00, 553.16it/s]\n",
      " 23%|██████████████████▋                                                             | 57/244 [00:00<00:00, 569.87it/s]"
     ]
    },
    {
     "name": "stdout",
     "output_type": "stream",
     "text": [
      "epoch 262, loss: 0.39408, acc: 0.83080, val_loss: 3.03484, val_accuracy: 0.52610\n"
     ]
    },
    {
     "name": "stderr",
     "output_type": "stream",
     "text": [
      "100%|███████████████████████████████████████████████████████████████████████████████| 244/244 [00:00<00:00, 533.80it/s]\n",
      " 21%|████████████████▋                                                               | 51/244 [00:00<00:00, 509.89it/s]"
     ]
    },
    {
     "name": "stdout",
     "output_type": "stream",
     "text": [
      "[INFO] val_acc has been improved from 0.53915 to 0.54396. Saving Model!\n",
      "epoch 263, loss: 0.40638, acc: 0.83176, val_loss: 2.82534, val_accuracy: 0.54396\n"
     ]
    },
    {
     "name": "stderr",
     "output_type": "stream",
     "text": [
      "100%|███████████████████████████████████████████████████████████████████████████████| 244/244 [00:00<00:00, 524.61it/s]\n",
      " 20%|████████████████▍                                                               | 50/244 [00:00<00:00, 499.89it/s]"
     ]
    },
    {
     "name": "stdout",
     "output_type": "stream",
     "text": [
      "epoch 264, loss: 0.40193, acc: 0.83217, val_loss: 2.81529, val_accuracy: 0.52198\n"
     ]
    },
    {
     "name": "stderr",
     "output_type": "stream",
     "text": [
      "100%|███████████████████████████████████████████████████████████████████████████████| 244/244 [00:00<00:00, 509.28it/s]\n",
      " 22%|█████████████████▍                                                              | 53/244 [00:00<00:00, 529.88it/s]"
     ]
    },
    {
     "name": "stdout",
     "output_type": "stream",
     "text": [
      "epoch 265, loss: 0.39570, acc: 0.83108, val_loss: 2.89751, val_accuracy: 0.51923\n"
     ]
    },
    {
     "name": "stderr",
     "output_type": "stream",
     "text": [
      "100%|███████████████████████████████████████████████████████████████████████████████| 244/244 [00:00<00:00, 521.25it/s]\n",
      " 22%|█████████████████▋                                                              | 54/244 [00:00<00:00, 534.53it/s]"
     ]
    },
    {
     "name": "stdout",
     "output_type": "stream",
     "text": [
      "epoch 266, loss: 0.38951, acc: 0.83436, val_loss: 2.88656, val_accuracy: 0.51168\n"
     ]
    },
    {
     "name": "stderr",
     "output_type": "stream",
     "text": [
      "100%|███████████████████████████████████████████████████████████████████████████████| 244/244 [00:00<00:00, 522.37it/s]\n",
      " 43%|█████████████████████████████████▉                                             | 105/244 [00:00<00:00, 525.77it/s]"
     ]
    },
    {
     "name": "stdout",
     "output_type": "stream",
     "text": [
      "epoch 267, loss: 0.39281, acc: 0.83080, val_loss: 2.76925, val_accuracy: 0.51168\n"
     ]
    },
    {
     "name": "stderr",
     "output_type": "stream",
     "text": [
      "100%|███████████████████████████████████████████████████████████████████████████████| 244/244 [00:00<00:00, 510.35it/s]\n",
      " 21%|█████████████████                                                               | 52/244 [00:00<00:00, 514.74it/s]"
     ]
    },
    {
     "name": "stdout",
     "output_type": "stream",
     "text": [
      "epoch 268, loss: 0.37687, acc: 0.84325, val_loss: 2.79568, val_accuracy: 0.52816\n"
     ]
    },
    {
     "name": "stderr",
     "output_type": "stream",
     "text": [
      "100%|███████████████████████████████████████████████████████████████████████████████| 244/244 [00:00<00:00, 510.34it/s]\n",
      " 20%|████████████████▍                                                               | 50/244 [00:00<00:00, 494.94it/s]"
     ]
    },
    {
     "name": "stdout",
     "output_type": "stream",
     "text": [
      "epoch 269, loss: 0.38732, acc: 0.83627, val_loss: 2.82162, val_accuracy: 0.52610\n"
     ]
    },
    {
     "name": "stderr",
     "output_type": "stream",
     "text": [
      "100%|███████████████████████████████████████████████████████████████████████████████| 244/244 [00:00<00:00, 499.89it/s]\n",
      " 21%|████████████████▋                                                               | 51/244 [00:00<00:00, 509.88it/s]"
     ]
    },
    {
     "name": "stdout",
     "output_type": "stream",
     "text": [
      "epoch 270, loss: 0.39470, acc: 0.83340, val_loss: 2.78833, val_accuracy: 0.52953\n"
     ]
    },
    {
     "name": "stderr",
     "output_type": "stream",
     "text": [
      "100%|███████████████████████████████████████████████████████████████████████████████| 244/244 [00:00<00:00, 529.16it/s]\n",
      " 43%|█████████████████████████████████▉                                             | 105/244 [00:00<00:00, 525.76it/s]"
     ]
    },
    {
     "name": "stdout",
     "output_type": "stream",
     "text": [
      "epoch 271, loss: 0.37977, acc: 0.83956, val_loss: 2.81509, val_accuracy: 0.52266\n"
     ]
    },
    {
     "name": "stderr",
     "output_type": "stream",
     "text": [
      "100%|███████████████████████████████████████████████████████████████████████████████| 244/244 [00:00<00:00, 529.17it/s]\n",
      " 23%|██████████████████▎                                                             | 56/244 [00:00<00:00, 554.33it/s]"
     ]
    },
    {
     "name": "stdout",
     "output_type": "stream",
     "text": [
      "epoch 272, loss: 0.37778, acc: 0.83942, val_loss: 2.83035, val_accuracy: 0.50893\n"
     ]
    },
    {
     "name": "stderr",
     "output_type": "stream",
     "text": [
      "100%|███████████████████████████████████████████████████████████████████████████████| 244/244 [00:00<00:00, 542.10it/s]\n",
      " 23%|██████████████████▋                                                             | 57/244 [00:00<00:00, 564.23it/s]"
     ]
    },
    {
     "name": "stdout",
     "output_type": "stream",
     "text": [
      "epoch 273, loss: 0.38161, acc: 0.83915, val_loss: 2.93692, val_accuracy: 0.52198\n"
     ]
    },
    {
     "name": "stderr",
     "output_type": "stream",
     "text": [
      "100%|███████████████████████████████████████████████████████████████████████████████| 244/244 [00:00<00:00, 550.67it/s]\n",
      " 23%|██████████████████                                                              | 55/244 [00:00<00:00, 544.43it/s]"
     ]
    },
    {
     "name": "stdout",
     "output_type": "stream",
     "text": [
      "[INFO] val_acc has been improved from 0.54396 to 0.55288. Saving Model!\n",
      "epoch 274, loss: 0.38676, acc: 0.83313, val_loss: 2.89145, val_accuracy: 0.55288\n"
     ]
    },
    {
     "name": "stderr",
     "output_type": "stream",
     "text": [
      "100%|███████████████████████████████████████████████████████████████████████████████| 244/244 [00:00<00:00, 551.91it/s]\n",
      " 21%|█████████████████                                                               | 52/244 [00:00<00:00, 519.88it/s]"
     ]
    },
    {
     "name": "stdout",
     "output_type": "stream",
     "text": [
      "epoch 275, loss: 0.39410, acc: 0.83395, val_loss: 2.94114, val_accuracy: 0.50481\n"
     ]
    },
    {
     "name": "stderr",
     "output_type": "stream",
     "text": [
      "100%|███████████████████████████████████████████████████████████████████████████████| 244/244 [00:00<00:00, 531.47it/s]\n",
      " 23%|██████████████████                                                              | 55/244 [00:00<00:00, 544.43it/s]"
     ]
    },
    {
     "name": "stdout",
     "output_type": "stream",
     "text": [
      "epoch 276, loss: 0.37846, acc: 0.83792, val_loss: 3.55326, val_accuracy: 0.47184\n"
     ]
    },
    {
     "name": "stderr",
     "output_type": "stream",
     "text": [
      "100%|███████████████████████████████████████████████████████████████████████████████| 244/244 [00:00<00:00, 540.90it/s]\n",
      " 45%|███████████████████████████████████▌                                           | 110/244 [00:00<00:00, 549.38it/s]"
     ]
    },
    {
     "name": "stdout",
     "output_type": "stream",
     "text": [
      "epoch 277, loss: 0.40760, acc: 0.83176, val_loss: 3.02386, val_accuracy: 0.52816\n"
     ]
    },
    {
     "name": "stderr",
     "output_type": "stream",
     "text": [
      "100%|███████████████████████████████████████████████████████████████████████████████| 244/244 [00:00<00:00, 543.31it/s]\n",
      " 22%|█████████████████▍                                                              | 53/244 [00:00<00:00, 524.63it/s]"
     ]
    },
    {
     "name": "stdout",
     "output_type": "stream",
     "text": [
      "epoch 278, loss: 0.37698, acc: 0.84257, val_loss: 2.99831, val_accuracy: 0.51442\n"
     ]
    },
    {
     "name": "stderr",
     "output_type": "stream",
     "text": [
      "100%|███████████████████████████████████████████████████████████████████████████████| 244/244 [00:00<00:00, 528.02it/s]\n",
      " 22%|█████████████████▍                                                              | 53/244 [00:00<00:00, 529.88it/s]"
     ]
    },
    {
     "name": "stdout",
     "output_type": "stream",
     "text": [
      "epoch 279, loss: 0.37093, acc: 0.83668, val_loss: 3.00052, val_accuracy: 0.52129\n"
     ]
    },
    {
     "name": "stderr",
     "output_type": "stream",
     "text": [
      "100%|███████████████████████████████████████████████████████████████████████████████| 244/244 [00:00<00:00, 540.90it/s]\n",
      " 22%|█████████████████▋                                                              | 54/244 [00:00<00:00, 539.88it/s]"
     ]
    },
    {
     "name": "stdout",
     "output_type": "stream",
     "text": [
      "epoch 280, loss: 0.36641, acc: 0.84216, val_loss: 3.01670, val_accuracy: 0.51580\n"
     ]
    },
    {
     "name": "stderr",
     "output_type": "stream",
     "text": [
      "100%|███████████████████████████████████████████████████████████████████████████████| 244/244 [00:00<00:00, 542.10it/s]\n",
      " 44%|██████████████████████████████████▉                                            | 108/244 [00:00<00:00, 531.44it/s]"
     ]
    },
    {
     "name": "stdout",
     "output_type": "stream",
     "text": [
      "epoch 281, loss: 0.37186, acc: 0.84147, val_loss: 3.06234, val_accuracy: 0.50275\n"
     ]
    },
    {
     "name": "stderr",
     "output_type": "stream",
     "text": [
      "100%|███████████████████████████████████████████████████████████████████████████████| 244/244 [00:00<00:00, 539.70it/s]\n",
      " 23%|██████████████████▎                                                             | 56/244 [00:00<00:00, 554.33it/s]"
     ]
    },
    {
     "name": "stdout",
     "output_type": "stream",
     "text": [
      "epoch 282, loss: 0.37545, acc: 0.84120, val_loss: 2.97983, val_accuracy: 0.49038\n"
     ]
    },
    {
     "name": "stderr",
     "output_type": "stream",
     "text": [
      "100%|███████████████████████████████████████████████████████████████████████████████| 244/244 [00:00<00:00, 536.14it/s]\n",
      " 21%|█████████████████                                                               | 52/244 [00:00<00:00, 519.88it/s]"
     ]
    },
    {
     "name": "stdout",
     "output_type": "stream",
     "text": [
      "epoch 283, loss: 0.36991, acc: 0.84558, val_loss: 3.00034, val_accuracy: 0.49588\n"
     ]
    },
    {
     "name": "stderr",
     "output_type": "stream",
     "text": [
      "100%|███████████████████████████████████████████████████████████████████████████████| 244/244 [00:00<00:00, 520.14it/s]\n",
      " 45%|███████████████████████████████████▌                                           | 110/244 [00:00<00:00, 537.24it/s]"
     ]
    },
    {
     "name": "stdout",
     "output_type": "stream",
     "text": [
      "epoch 284, loss: 0.36963, acc: 0.84092, val_loss: 3.05166, val_accuracy: 0.48626\n"
     ]
    },
    {
     "name": "stderr",
     "output_type": "stream",
     "text": [
      "100%|███████████████████████████████████████████████████████████████████████████████| 244/244 [00:00<00:00, 540.90it/s]\n",
      " 22%|█████████████████▋                                                              | 54/244 [00:00<00:00, 534.53it/s]"
     ]
    },
    {
     "name": "stdout",
     "output_type": "stream",
     "text": [
      "epoch 285, loss: 0.37808, acc: 0.84202, val_loss: 3.10137, val_accuracy: 0.50206\n"
     ]
    },
    {
     "name": "stderr",
     "output_type": "stream",
     "text": [
      "100%|███████████████████████████████████████████████████████████████████████████████| 244/244 [00:00<00:00, 536.14it/s]\n",
      " 22%|█████████████████▋                                                              | 54/244 [00:00<00:00, 539.88it/s]"
     ]
    },
    {
     "name": "stdout",
     "output_type": "stream",
     "text": [
      "epoch 286, loss: 0.37560, acc: 0.84010, val_loss: 3.22160, val_accuracy: 0.50137\n"
     ]
    },
    {
     "name": "stderr",
     "output_type": "stream",
     "text": [
      "100%|███████████████████████████████████████████████████████████████████████████████| 244/244 [00:00<00:00, 515.74it/s]\n",
      " 22%|█████████████████▋                                                              | 54/244 [00:00<00:00, 534.53it/s]"
     ]
    },
    {
     "name": "stdout",
     "output_type": "stream",
     "text": [
      "epoch 287, loss: 0.36536, acc: 0.84243, val_loss: 3.02907, val_accuracy: 0.51511\n"
     ]
    },
    {
     "name": "stderr",
     "output_type": "stream",
     "text": [
      "100%|███████████████████████████████████████████████████████████████████████████████| 244/244 [00:00<00:00, 536.14it/s]\n",
      " 23%|██████████████████                                                              | 55/244 [00:00<00:00, 544.43it/s]"
     ]
    },
    {
     "name": "stdout",
     "output_type": "stream",
     "text": [
      "epoch 288, loss: 0.36340, acc: 0.84325, val_loss: 3.04796, val_accuracy: 0.52198\n"
     ]
    },
    {
     "name": "stderr",
     "output_type": "stream",
     "text": [
      "100%|███████████████████████████████████████████████████████████████████████████████| 244/244 [00:00<00:00, 531.47it/s]\n",
      " 22%|█████████████████▍                                                              | 53/244 [00:00<00:00, 529.89it/s]"
     ]
    },
    {
     "name": "stdout",
     "output_type": "stream",
     "text": [
      "epoch 289, loss: 0.35759, acc: 0.84503, val_loss: 3.05176, val_accuracy: 0.52610\n"
     ]
    },
    {
     "name": "stderr",
     "output_type": "stream",
     "text": [
      "100%|███████████████████████████████████████████████████████████████████████████████| 244/244 [00:00<00:00, 542.10it/s]\n",
      " 23%|██████████████████                                                              | 55/244 [00:00<00:00, 549.88it/s]"
     ]
    },
    {
     "name": "stdout",
     "output_type": "stream",
     "text": [
      "epoch 290, loss: 0.35005, acc: 0.84995, val_loss: 3.18066, val_accuracy: 0.49245\n"
     ]
    },
    {
     "name": "stderr",
     "output_type": "stream",
     "text": [
      "100%|███████████████████████████████████████████████████████████████████████████████| 244/244 [00:00<00:00, 543.31it/s]\n",
      " 23%|██████████████████                                                              | 55/244 [00:00<00:00, 544.43it/s]"
     ]
    },
    {
     "name": "stdout",
     "output_type": "stream",
     "text": [
      "epoch 291, loss: 0.35607, acc: 0.84202, val_loss: 3.17584, val_accuracy: 0.50962\n"
     ]
    },
    {
     "name": "stderr",
     "output_type": "stream",
     "text": [
      "100%|███████████████████████████████████████████████████████████████████████████████| 244/244 [00:00<00:00, 537.32it/s]\n",
      " 23%|██████████████████                                                              | 55/244 [00:00<00:00, 544.43it/s]"
     ]
    },
    {
     "name": "stdout",
     "output_type": "stream",
     "text": [
      "epoch 292, loss: 0.36675, acc: 0.84038, val_loss: 3.16622, val_accuracy: 0.49863\n"
     ]
    },
    {
     "name": "stderr",
     "output_type": "stream",
     "text": [
      "100%|███████████████████████████████████████████████████████████████████████████████| 244/244 [00:00<00:00, 546.96it/s]\n",
      " 21%|████████████████▋                                                               | 51/244 [00:00<00:00, 509.88it/s]"
     ]
    },
    {
     "name": "stdout",
     "output_type": "stream",
     "text": [
      "epoch 293, loss: 0.36300, acc: 0.84270, val_loss: 3.15700, val_accuracy: 0.50687\n"
     ]
    },
    {
     "name": "stderr",
     "output_type": "stream",
     "text": [
      "100%|███████████████████████████████████████████████████████████████████████████████| 244/244 [00:00<00:00, 525.74it/s]\n",
      " 22%|█████████████████▍                                                              | 53/244 [00:00<00:00, 524.64it/s]"
     ]
    },
    {
     "name": "stdout",
     "output_type": "stream",
     "text": [
      "epoch 294, loss: 0.36386, acc: 0.84763, val_loss: 3.22344, val_accuracy: 0.49038\n"
     ]
    },
    {
     "name": "stderr",
     "output_type": "stream",
     "text": [
      "100%|███████████████████████████████████████████████████████████████████████████████| 244/244 [00:00<00:00, 528.02it/s]\n",
      " 22%|█████████████████▋                                                              | 54/244 [00:00<00:00, 539.88it/s]"
     ]
    },
    {
     "name": "stdout",
     "output_type": "stream",
     "text": [
      "epoch 295, loss: 0.36072, acc: 0.84407, val_loss: 3.22031, val_accuracy: 0.51236\n"
     ]
    },
    {
     "name": "stderr",
     "output_type": "stream",
     "text": [
      "100%|███████████████████████████████████████████████████████████████████████████████| 244/244 [00:00<00:00, 531.47it/s]\n",
      " 21%|█████████████████                                                               | 52/244 [00:00<00:00, 514.74it/s]"
     ]
    },
    {
     "name": "stdout",
     "output_type": "stream",
     "text": [
      "epoch 296, loss: 0.35493, acc: 0.84434, val_loss: 3.20424, val_accuracy: 0.49245\n"
     ]
    },
    {
     "name": "stderr",
     "output_type": "stream",
     "text": [
      "100%|███████████████████████████████████████████████████████████████████████████████| 244/244 [00:00<00:00, 501.94it/s]\n",
      " 20%|███████████████▋                                                                | 48/244 [00:00<00:00, 479.89it/s]"
     ]
    },
    {
     "name": "stdout",
     "output_type": "stream",
     "text": [
      "epoch 297, loss: 0.34591, acc: 0.85173, val_loss: 3.19548, val_accuracy: 0.50893\n"
     ]
    },
    {
     "name": "stderr",
     "output_type": "stream",
     "text": [
      "100%|███████████████████████████████████████████████████████████████████████████████| 244/244 [00:00<00:00, 505.06it/s]\n",
      " 43%|█████████████████████████████████▋                                             | 104/244 [00:00<00:00, 513.84it/s]"
     ]
    },
    {
     "name": "stdout",
     "output_type": "stream",
     "text": [
      "epoch 298, loss: 0.35229, acc: 0.84612, val_loss: 3.25925, val_accuracy: 0.50069\n"
     ]
    },
    {
     "name": "stderr",
     "output_type": "stream",
     "text": [
      "100%|███████████████████████████████████████████████████████████████████████████████| 244/244 [00:00<00:00, 519.03it/s]\n",
      " 23%|██████████████████                                                              | 55/244 [00:00<00:00, 544.43it/s]"
     ]
    },
    {
     "name": "stdout",
     "output_type": "stream",
     "text": [
      "epoch 299, loss: 0.34851, acc: 0.85105, val_loss: 3.24137, val_accuracy: 0.51236\n"
     ]
    },
    {
     "name": "stderr",
     "output_type": "stream",
     "text": [
      "100%|███████████████████████████████████████████████████████████████████████████████| 244/244 [00:00<00:00, 525.74it/s]\n",
      " 44%|██████████████████████████████████▋                                            | 107/244 [00:00<00:00, 532.63it/s]"
     ]
    },
    {
     "name": "stdout",
     "output_type": "stream",
     "text": [
      "epoch 300, loss: 0.35896, acc: 0.84448, val_loss: 3.28326, val_accuracy: 0.50755\n"
     ]
    },
    {
     "name": "stderr",
     "output_type": "stream",
     "text": [
      "100%|███████████████████████████████████████████████████████████████████████████████| 244/244 [00:00<00:00, 519.03it/s]\n",
      " 21%|████████████████▋                                                               | 51/244 [00:00<00:00, 509.88it/s]"
     ]
    },
    {
     "name": "stdout",
     "output_type": "stream",
     "text": [
      "epoch 301, loss: 0.35407, acc: 0.84640, val_loss: 3.18522, val_accuracy: 0.53022\n"
     ]
    },
    {
     "name": "stderr",
     "output_type": "stream",
     "text": [
      "100%|███████████████████████████████████████████████████████████████████████████████| 244/244 [00:00<00:00, 519.03it/s]\n",
      " 22%|█████████████████▍                                                              | 53/244 [00:00<00:00, 524.63it/s]"
     ]
    },
    {
     "name": "stdout",
     "output_type": "stream",
     "text": [
      "epoch 302, loss: 0.35824, acc: 0.84954, val_loss: 3.31666, val_accuracy: 0.49725\n"
     ]
    },
    {
     "name": "stderr",
     "output_type": "stream",
     "text": [
      "100%|███████████████████████████████████████████████████████████████████████████████| 244/244 [00:00<00:00, 529.16it/s]\n",
      " 22%|█████████████████▋                                                              | 54/244 [00:00<00:00, 534.53it/s]"
     ]
    },
    {
     "name": "stdout",
     "output_type": "stream",
     "text": [
      "epoch 303, loss: 0.37016, acc: 0.85064, val_loss: 3.48173, val_accuracy: 0.48626\n"
     ]
    },
    {
     "name": "stderr",
     "output_type": "stream",
     "text": [
      "100%|███████████████████████████████████████████████████████████████████████████████| 244/244 [00:00<00:00, 522.37it/s]\n",
      " 22%|█████████████████▍                                                              | 53/244 [00:00<00:00, 524.63it/s]"
     ]
    },
    {
     "name": "stdout",
     "output_type": "stream",
     "text": [
      "epoch 304, loss: 0.36457, acc: 0.84530, val_loss: 3.35233, val_accuracy: 0.50275\n"
     ]
    },
    {
     "name": "stderr",
     "output_type": "stream",
     "text": [
      "100%|███████████████████████████████████████████████████████████████████████████████| 244/244 [00:00<00:00, 525.74it/s]\n",
      " 43%|██████████████████████████████████▎                                            | 106/244 [00:00<00:00, 521.60it/s]"
     ]
    },
    {
     "name": "stdout",
     "output_type": "stream",
     "text": [
      "epoch 305, loss: 0.35051, acc: 0.84790, val_loss: 3.27797, val_accuracy: 0.49588\n"
     ]
    },
    {
     "name": "stderr",
     "output_type": "stream",
     "text": [
      "100%|███████████████████████████████████████████████████████████████████████████████| 244/244 [00:00<00:00, 512.49it/s]\n",
      " 21%|█████████████████                                                               | 52/244 [00:00<00:00, 519.88it/s]"
     ]
    },
    {
     "name": "stdout",
     "output_type": "stream",
     "text": [
      "epoch 306, loss: 0.34563, acc: 0.85050, val_loss: 3.36312, val_accuracy: 0.50481\n"
     ]
    },
    {
     "name": "stderr",
     "output_type": "stream",
     "text": [
      "100%|███████████████████████████████████████████████████████████████████████████████| 244/244 [00:00<00:00, 514.65it/s]\n",
      " 20%|████████████████▍                                                               | 50/244 [00:00<00:00, 494.94it/s]"
     ]
    },
    {
     "name": "stdout",
     "output_type": "stream",
     "text": [
      "epoch 307, loss: 0.35004, acc: 0.84749, val_loss: 3.38928, val_accuracy: 0.51442\n"
     ]
    },
    {
     "name": "stderr",
     "output_type": "stream",
     "text": [
      "100%|███████████████████████████████████████████████████████████████████████████████| 244/244 [00:00<00:00, 478.32it/s]\n",
      " 21%|█████████████████                                                               | 52/244 [00:00<00:00, 514.74it/s]"
     ]
    },
    {
     "name": "stdout",
     "output_type": "stream",
     "text": [
      "epoch 308, loss: 0.35403, acc: 0.84681, val_loss: 3.44863, val_accuracy: 0.51305\n"
     ]
    },
    {
     "name": "stderr",
     "output_type": "stream",
     "text": [
      "100%|███████████████████████████████████████████████████████████████████████████████| 244/244 [00:00<00:00, 510.35it/s]\n",
      " 20%|████████████████                                                                | 49/244 [00:00<00:00, 485.04it/s]"
     ]
    },
    {
     "name": "stdout",
     "output_type": "stream",
     "text": [
      "epoch 309, loss: 0.35887, acc: 0.84489, val_loss: 3.46074, val_accuracy: 0.48489\n"
     ]
    },
    {
     "name": "stderr",
     "output_type": "stream",
     "text": [
      "100%|███████████████████████████████████████████████████████████████████████████████| 244/244 [00:00<00:00, 481.10it/s]\n",
      " 40%|████████████████████████████████▏                                               | 98/244 [00:00<00:00, 487.03it/s]"
     ]
    },
    {
     "name": "stdout",
     "output_type": "stream",
     "text": [
      "epoch 310, loss: 0.35461, acc: 0.84544, val_loss: 3.36460, val_accuracy: 0.49451\n"
     ]
    },
    {
     "name": "stderr",
     "output_type": "stream",
     "text": [
      "100%|███████████████████████████████████████████████████████████████████████████████| 244/244 [00:00<00:00, 484.98it/s]\n",
      " 20%|███████████████▋                                                                | 48/244 [00:00<00:00, 475.15it/s]"
     ]
    },
    {
     "name": "stdout",
     "output_type": "stream",
     "text": [
      "epoch 311, loss: 0.36635, acc: 0.84366, val_loss: 3.33519, val_accuracy: 0.51648\n"
     ]
    },
    {
     "name": "stderr",
     "output_type": "stream",
     "text": [
      "100%|███████████████████████████████████████████████████████████████████████████████| 244/244 [00:00<00:00, 462.89it/s]\n",
      " 19%|███████████████▍                                                                | 47/244 [00:00<00:00, 469.89it/s]"
     ]
    },
    {
     "name": "stdout",
     "output_type": "stream",
     "text": [
      "epoch 312, loss: 0.35911, acc: 0.84380, val_loss: 3.35473, val_accuracy: 0.52129\n"
     ]
    },
    {
     "name": "stderr",
     "output_type": "stream",
     "text": [
      "100%|███████████████████████████████████████████████████████████████████████████████| 244/244 [00:00<00:00, 475.53it/s]\n",
      " 20%|███████████████▋                                                                | 48/244 [00:00<00:00, 478.16it/s]"
     ]
    },
    {
     "name": "stdout",
     "output_type": "stream",
     "text": [
      "epoch 313, loss: 0.35180, acc: 0.85187, val_loss: 3.38425, val_accuracy: 0.51236\n"
     ]
    },
    {
     "name": "stderr",
     "output_type": "stream",
     "text": [
      "100%|███████████████████████████████████████████████████████████████████████████████| 244/244 [00:00<00:00, 483.67it/s]\n",
      " 20%|███████████████▋                                                                | 48/244 [00:00<00:00, 479.89it/s]"
     ]
    },
    {
     "name": "stdout",
     "output_type": "stream",
     "text": [
      "epoch 314, loss: 0.34884, acc: 0.84626, val_loss: 3.54473, val_accuracy: 0.50893\n"
     ]
    },
    {
     "name": "stderr",
     "output_type": "stream",
     "text": [
      "100%|███████████████████████████████████████████████████████████████████████████████| 244/244 [00:00<00:00, 484.98it/s]\n",
      " 40%|███████████████████████████████▊                                                | 97/244 [00:00<00:00, 480.96it/s]"
     ]
    },
    {
     "name": "stdout",
     "output_type": "stream",
     "text": [
      "epoch 315, loss: 0.35403, acc: 0.84462, val_loss: 3.45774, val_accuracy: 0.50962\n"
     ]
    },
    {
     "name": "stderr",
     "output_type": "stream",
     "text": [
      "100%|███████████████████████████████████████████████████████████████████████████████| 244/244 [00:00<00:00, 484.98it/s]\n",
      " 20%|████████████████▍                                                               | 50/244 [00:00<00:00, 494.94it/s]"
     ]
    },
    {
     "name": "stdout",
     "output_type": "stream",
     "text": [
      "epoch 316, loss: 0.34644, acc: 0.84790, val_loss: 3.46127, val_accuracy: 0.50755\n"
     ]
    },
    {
     "name": "stderr",
     "output_type": "stream",
     "text": [
      "100%|███████████████████████████████████████████████████████████████████████████████| 244/244 [00:00<00:00, 476.46it/s]\n",
      " 20%|████████████████                                                                | 49/244 [00:00<00:00, 483.21it/s]"
     ]
    },
    {
     "name": "stdout",
     "output_type": "stream",
     "text": [
      "epoch 317, loss: 0.34692, acc: 0.84899, val_loss: 3.56458, val_accuracy: 0.49107\n"
     ]
    },
    {
     "name": "stderr",
     "output_type": "stream",
     "text": [
      "100%|███████████████████████████████████████████████████████████████████████████████| 244/244 [00:00<00:00, 487.89it/s]\n",
      " 19%|███████████████▍                                                                | 47/244 [00:00<00:00, 469.89it/s]"
     ]
    },
    {
     "name": "stdout",
     "output_type": "stream",
     "text": [
      "epoch 318, loss: 0.34455, acc: 0.84872, val_loss: 3.50973, val_accuracy: 0.53228\n"
     ]
    },
    {
     "name": "stderr",
     "output_type": "stream",
     "text": [
      "100%|███████████████████████████████████████████████████████████████████████████████| 244/244 [00:00<00:00, 479.26it/s]\n",
      " 20%|███████████████▋                                                                | 48/244 [00:00<00:00, 475.15it/s]"
     ]
    },
    {
     "name": "stdout",
     "output_type": "stream",
     "text": [
      "epoch 319, loss: 0.33076, acc: 0.85597, val_loss: 3.61879, val_accuracy: 0.49588\n"
     ]
    },
    {
     "name": "stderr",
     "output_type": "stream",
     "text": [
      "100%|███████████████████████████████████████████████████████████████████████████████| 244/244 [00:00<00:00, 477.39it/s]\n",
      " 19%|███████████████▍                                                                | 47/244 [00:00<00:00, 465.24it/s]"
     ]
    },
    {
     "name": "stdout",
     "output_type": "stream",
     "text": [
      "epoch 320, loss: 0.34183, acc: 0.85310, val_loss: 3.62042, val_accuracy: 0.49931\n"
     ]
    },
    {
     "name": "stderr",
     "output_type": "stream",
     "text": [
      "100%|███████████████████████████████████████████████████████████████████████████████| 244/244 [00:00<00:00, 465.54it/s]\n",
      " 20%|███████████████▋                                                                | 48/244 [00:00<00:00, 475.14it/s]"
     ]
    },
    {
     "name": "stdout",
     "output_type": "stream",
     "text": [
      "epoch 321, loss: 0.34395, acc: 0.85105, val_loss: 3.56381, val_accuracy: 0.48764\n"
     ]
    },
    {
     "name": "stderr",
     "output_type": "stream",
     "text": [
      "100%|███████████████████████████████████████████████████████████████████████████████| 244/244 [00:00<00:00, 469.12it/s]\n",
      " 19%|███████████████                                                                 | 46/244 [00:00<00:00, 459.90it/s]"
     ]
    },
    {
     "name": "stdout",
     "output_type": "stream",
     "text": [
      "epoch 322, loss: 0.33320, acc: 0.85597, val_loss: 3.64581, val_accuracy: 0.49451\n"
     ]
    },
    {
     "name": "stderr",
     "output_type": "stream",
     "text": [
      "100%|███████████████████████████████████████████████████████████████████████████████| 244/244 [00:00<00:00, 464.59it/s]\n",
      " 20%|████████████████                                                                | 49/244 [00:00<00:00, 485.04it/s]"
     ]
    },
    {
     "name": "stdout",
     "output_type": "stream",
     "text": [
      "epoch 323, loss: 0.33523, acc: 0.85501, val_loss: 3.69370, val_accuracy: 0.50343\n"
     ]
    },
    {
     "name": "stderr",
     "output_type": "stream",
     "text": [
      "100%|███████████████████████████████████████████████████████████████████████████████| 244/244 [00:00<00:00, 481.15it/s]\n",
      " 20%|███████████████▋                                                                | 48/244 [00:00<00:00, 479.90it/s]"
     ]
    },
    {
     "name": "stdout",
     "output_type": "stream",
     "text": [
      "epoch 324, loss: 0.33665, acc: 0.85939, val_loss: 3.72386, val_accuracy: 0.49794\n"
     ]
    },
    {
     "name": "stderr",
     "output_type": "stream",
     "text": [
      "100%|███████████████████████████████████████████████████████████████████████████████| 244/244 [00:00<00:00, 476.45it/s]\n",
      " 41%|████████████████████████████████▍                                              | 100/244 [00:00<00:00, 492.07it/s]"
     ]
    },
    {
     "name": "stdout",
     "output_type": "stream",
     "text": [
      "epoch 325, loss: 0.35836, acc: 0.84612, val_loss: 3.71711, val_accuracy: 0.48832\n"
     ]
    },
    {
     "name": "stderr",
     "output_type": "stream",
     "text": [
      "100%|███████████████████████████████████████████████████████████████████████████████| 244/244 [00:00<00:00, 483.87it/s]\n",
      " 19%|███████████████▍                                                                | 47/244 [00:00<00:00, 465.24it/s]"
     ]
    },
    {
     "name": "stdout",
     "output_type": "stream",
     "text": [
      "epoch 326, loss: 0.34972, acc: 0.84489, val_loss: 3.58182, val_accuracy: 0.50824\n"
     ]
    },
    {
     "name": "stderr",
     "output_type": "stream",
     "text": [
      "100%|███████████████████████████████████████████████████████████████████████████████| 244/244 [00:00<00:00, 469.12it/s]\n",
      " 19%|███████████████▍                                                                | 47/244 [00:00<00:00, 465.24it/s]"
     ]
    },
    {
     "name": "stdout",
     "output_type": "stream",
     "text": [
      "epoch 327, loss: 0.33348, acc: 0.85474, val_loss: 3.75029, val_accuracy: 0.48764\n"
     ]
    },
    {
     "name": "stderr",
     "output_type": "stream",
     "text": [
      "100%|███████████████████████████████████████████████████████████████████████████████| 244/244 [00:00<00:00, 478.32it/s]\n",
      " 20%|████████████████                                                                | 49/244 [00:00<00:00, 485.04it/s]"
     ]
    },
    {
     "name": "stdout",
     "output_type": "stream",
     "text": [
      "epoch 328, loss: 0.33190, acc: 0.85556, val_loss: 3.77481, val_accuracy: 0.50893\n"
     ]
    },
    {
     "name": "stderr",
     "output_type": "stream",
     "text": [
      "100%|███████████████████████████████████████████████████████████████████████████████| 244/244 [00:00<00:00, 471.69it/s]\n",
      " 41%|████████████████████████████████▍                                              | 100/244 [00:00<00:00, 494.07it/s]"
     ]
    },
    {
     "name": "stdout",
     "output_type": "stream",
     "text": [
      "epoch 329, loss: 0.34341, acc: 0.85433, val_loss: 3.73353, val_accuracy: 0.52679\n"
     ]
    },
    {
     "name": "stderr",
     "output_type": "stream",
     "text": [
      "100%|███████████████████████████████████████████████████████████████████████████████| 244/244 [00:00<00:00, 483.06it/s]\n",
      " 39%|███████████████████████████████▍                                                | 96/244 [00:00<00:00, 477.09it/s]"
     ]
    },
    {
     "name": "stdout",
     "output_type": "stream",
     "text": [
      "epoch 330, loss: 0.34607, acc: 0.85925, val_loss: 3.70164, val_accuracy: 0.50343\n"
     ]
    },
    {
     "name": "stderr",
     "output_type": "stream",
     "text": [
      "100%|███████████████████████████████████████████████████████████████████████████████| 244/244 [00:00<00:00, 462.89it/s]\n",
      " 20%|████████████████                                                                | 49/244 [00:00<00:00, 489.89it/s]"
     ]
    },
    {
     "name": "stdout",
     "output_type": "stream",
     "text": [
      "epoch 331, loss: 0.34859, acc: 0.85064, val_loss: 3.86534, val_accuracy: 0.50687\n"
     ]
    },
    {
     "name": "stderr",
     "output_type": "stream",
     "text": [
      "100%|███████████████████████████████████████████████████████████████████████████████| 244/244 [00:00<00:00, 475.53it/s]\n",
      " 39%|██████████████████████████████▊                                                 | 94/244 [00:00<00:00, 464.43it/s]"
     ]
    },
    {
     "name": "stdout",
     "output_type": "stream",
     "text": [
      "epoch 332, loss: 0.35271, acc: 0.85173, val_loss: 3.70394, val_accuracy: 0.50618\n"
     ]
    },
    {
     "name": "stderr",
     "output_type": "stream",
     "text": [
      "100%|███████████████████████████████████████████████████████████████████████████████| 244/244 [00:00<00:00, 462.89it/s]\n",
      " 20%|███████████████▋                                                                | 48/244 [00:00<00:00, 479.89it/s]"
     ]
    },
    {
     "name": "stdout",
     "output_type": "stream",
     "text": [
      "epoch 333, loss: 0.34869, acc: 0.84968, val_loss: 3.79326, val_accuracy: 0.48558\n"
     ]
    },
    {
     "name": "stderr",
     "output_type": "stream",
     "text": [
      "100%|███████████████████████████████████████████████████████████████████████████████| 244/244 [00:00<00:00, 463.77it/s]\n",
      " 18%|██████████████                                                                  | 43/244 [00:00<00:00, 429.90it/s]"
     ]
    },
    {
     "name": "stdout",
     "output_type": "stream",
     "text": [
      "epoch 334, loss: 0.33440, acc: 0.85460, val_loss: 3.73516, val_accuracy: 0.52129\n"
     ]
    },
    {
     "name": "stderr",
     "output_type": "stream",
     "text": [
      "100%|███████████████████████████████████████████████████████████████████████████████| 244/244 [00:00<00:00, 466.11it/s]\n",
      " 39%|██████████████████████████████▊                                                 | 94/244 [00:00<00:00, 464.43it/s]"
     ]
    },
    {
     "name": "stdout",
     "output_type": "stream",
     "text": [
      "epoch 335, loss: 0.33117, acc: 0.85447, val_loss: 3.94758, val_accuracy: 0.50000\n"
     ]
    },
    {
     "name": "stderr",
     "output_type": "stream",
     "text": [
      "100%|███████████████████████████████████████████████████████████████████████████████| 244/244 [00:00<00:00, 464.65it/s]\n",
      " 38%|██████████████████████████████▏                                                 | 92/244 [00:00<00:00, 459.90it/s]"
     ]
    },
    {
     "name": "stdout",
     "output_type": "stream",
     "text": [
      "epoch 336, loss: 0.32480, acc: 0.86021, val_loss: 3.77417, val_accuracy: 0.52816\n"
     ]
    },
    {
     "name": "stderr",
     "output_type": "stream",
     "text": [
      "100%|███████████████████████████████████████████████████████████████████████████████| 244/244 [00:00<00:00, 451.75it/s]\n",
      " 20%|████████████████                                                                | 49/244 [00:00<00:00, 489.89it/s]"
     ]
    },
    {
     "name": "stdout",
     "output_type": "stream",
     "text": [
      "epoch 337, loss: 0.32379, acc: 0.86281, val_loss: 3.85289, val_accuracy: 0.50481\n"
     ]
    },
    {
     "name": "stderr",
     "output_type": "stream",
     "text": [
      "100%|███████████████████████████████████████████████████████████████████████████████| 244/244 [00:00<00:00, 459.41it/s]\n",
      " 20%|████████████████                                                                | 49/244 [00:00<00:00, 485.04it/s]"
     ]
    },
    {
     "name": "stdout",
     "output_type": "stream",
     "text": [
      "epoch 338, loss: 0.34240, acc: 0.84899, val_loss: 3.91569, val_accuracy: 0.51305\n"
     ]
    },
    {
     "name": "stderr",
     "output_type": "stream",
     "text": [
      "100%|███████████████████████████████████████████████████████████████████████████████| 244/244 [00:00<00:00, 479.26it/s]\n",
      " 19%|███████████████▍                                                                | 47/244 [00:00<00:00, 469.89it/s]"
     ]
    },
    {
     "name": "stdout",
     "output_type": "stream",
     "text": [
      "epoch 339, loss: 0.33936, acc: 0.85378, val_loss: 3.85866, val_accuracy: 0.49519\n"
     ]
    },
    {
     "name": "stderr",
     "output_type": "stream",
     "text": [
      "100%|███████████████████████████████████████████████████████████████████████████████| 244/244 [00:00<00:00, 473.68it/s]\n",
      " 20%|███████████████▋                                                                | 48/244 [00:00<00:00, 475.14it/s]"
     ]
    },
    {
     "name": "stdout",
     "output_type": "stream",
     "text": [
      "epoch 340, loss: 0.34977, acc: 0.85173, val_loss: 3.71524, val_accuracy: 0.50206\n"
     ]
    },
    {
     "name": "stderr",
     "output_type": "stream",
     "text": [
      "100%|███████████████████████████████████████████████████████████████████████████████| 244/244 [00:00<00:00, 476.51it/s]\n",
      " 19%|███████████████▍                                                                | 47/244 [00:00<00:00, 465.25it/s]"
     ]
    },
    {
     "name": "stdout",
     "output_type": "stream",
     "text": [
      "epoch 341, loss: 0.33597, acc: 0.85378, val_loss: 3.83041, val_accuracy: 0.50069\n"
     ]
    },
    {
     "name": "stderr",
     "output_type": "stream",
     "text": [
      "100%|███████████████████████████████████████████████████████████████████████████████| 244/244 [00:00<00:00, 463.77it/s]\n",
      " 19%|███████████████▍                                                                | 47/244 [00:00<00:00, 465.24it/s]"
     ]
    },
    {
     "name": "stdout",
     "output_type": "stream",
     "text": [
      "epoch 342, loss: 0.32459, acc: 0.86076, val_loss: 4.13416, val_accuracy: 0.48626\n"
     ]
    },
    {
     "name": "stderr",
     "output_type": "stream",
     "text": [
      "100%|███████████████████████████████████████████████████████████████████████████████| 244/244 [00:00<00:00, 474.60it/s]\n",
      " 39%|███████████████████████████████▏                                                | 95/244 [00:00<00:00, 477.54it/s]"
     ]
    },
    {
     "name": "stdout",
     "output_type": "stream",
     "text": [
      "epoch 343, loss: 0.33157, acc: 0.85419, val_loss: 3.89231, val_accuracy: 0.51374\n"
     ]
    },
    {
     "name": "stderr",
     "output_type": "stream",
     "text": [
      "100%|███████████████████████████████████████████████████████████████████████████████| 244/244 [00:00<00:00, 473.68it/s]\n",
      " 20%|████████████████▍                                                               | 50/244 [00:00<00:00, 499.89it/s]"
     ]
    },
    {
     "name": "stdout",
     "output_type": "stream",
     "text": [
      "epoch 344, loss: 0.32939, acc: 0.85843, val_loss: 3.90790, val_accuracy: 0.48970\n"
     ]
    },
    {
     "name": "stderr",
     "output_type": "stream",
     "text": [
      "100%|███████████████████████████████████████████████████████████████████████████████| 244/244 [00:00<00:00, 481.15it/s]\n",
      " 20%|████████████████▍                                                               | 50/244 [00:00<00:00, 494.94it/s]"
     ]
    },
    {
     "name": "stdout",
     "output_type": "stream",
     "text": [
      "epoch 345, loss: 0.32311, acc: 0.86172, val_loss: 3.88854, val_accuracy: 0.51854\n"
     ]
    },
    {
     "name": "stderr",
     "output_type": "stream",
     "text": [
      "100%|███████████████████████████████████████████████████████████████████████████████| 244/244 [00:00<00:00, 452.59it/s]\n",
      " 40%|████████████████████████████████▏                                               | 98/244 [00:00<00:00, 484.19it/s]"
     ]
    },
    {
     "name": "stdout",
     "output_type": "stream",
     "text": [
      "epoch 346, loss: 0.32708, acc: 0.85720, val_loss: 3.99094, val_accuracy: 0.50824\n"
     ]
    },
    {
     "name": "stderr",
     "output_type": "stream",
     "text": [
      "100%|███████████████████████████████████████████████████████████████████████████████| 244/244 [00:00<00:00, 464.66it/s]\n",
      " 40%|████████████████████████████████▏                                               | 98/244 [00:00<00:00, 478.63it/s]"
     ]
    },
    {
     "name": "stdout",
     "output_type": "stream",
     "text": [
      "epoch 347, loss: 0.33239, acc: 0.85460, val_loss: 3.88688, val_accuracy: 0.49657\n"
     ]
    },
    {
     "name": "stderr",
     "output_type": "stream",
     "text": [
      "100%|███████████████████████████████████████████████████████████████████████████████| 244/244 [00:00<00:00, 477.39it/s]\n",
      " 20%|████████████████                                                                | 49/244 [00:00<00:00, 489.89it/s]"
     ]
    },
    {
     "name": "stdout",
     "output_type": "stream",
     "text": [
      "epoch 348, loss: 0.33013, acc: 0.85802, val_loss: 4.14279, val_accuracy: 0.49038\n"
     ]
    },
    {
     "name": "stderr",
     "output_type": "stream",
     "text": [
      "100%|███████████████████████████████████████████████████████████████████████████████| 244/244 [00:00<00:00, 483.06it/s]\n",
      " 20%|████████████████                                                                | 49/244 [00:00<00:00, 485.04it/s]"
     ]
    },
    {
     "name": "stdout",
     "output_type": "stream",
     "text": [
      "epoch 349, loss: 0.33520, acc: 0.85529, val_loss: 3.84797, val_accuracy: 0.50755\n"
     ]
    },
    {
     "name": "stderr",
     "output_type": "stream",
     "text": [
      "100%|███████████████████████████████████████████████████████████████████████████████| 244/244 [00:00<00:00, 483.06it/s]\n",
      " 40%|████████████████████████████████▏                                               | 98/244 [00:00<00:00, 482.23it/s]"
     ]
    },
    {
     "name": "stdout",
     "output_type": "stream",
     "text": [
      "epoch 350, loss: 0.32437, acc: 0.86035, val_loss: 3.91665, val_accuracy: 0.51099\n"
     ]
    },
    {
     "name": "stderr",
     "output_type": "stream",
     "text": [
      "100%|███████████████████████████████████████████████████████████████████████████████| 244/244 [00:00<00:00, 486.92it/s]\n",
      " 19%|███████████████                                                                 | 46/244 [00:00<00:00, 459.89it/s]"
     ]
    },
    {
     "name": "stdout",
     "output_type": "stream",
     "text": [
      "epoch 351, loss: 0.33325, acc: 0.85597, val_loss: 4.03583, val_accuracy: 0.49038\n"
     ]
    },
    {
     "name": "stderr",
     "output_type": "stream",
     "text": [
      "100%|███████████████████████████████████████████████████████████████████████████████| 244/244 [00:00<00:00, 472.76it/s]\n",
      " 20%|████████████████                                                                | 49/244 [00:00<00:00, 485.03it/s]"
     ]
    },
    {
     "name": "stdout",
     "output_type": "stream",
     "text": [
      "epoch 352, loss: 0.33010, acc: 0.85515, val_loss: 4.05801, val_accuracy: 0.50343\n"
     ]
    },
    {
     "name": "stderr",
     "output_type": "stream",
     "text": [
      "100%|███████████████████████████████████████████████████████████████████████████████| 244/244 [00:00<00:00, 480.21it/s]\n",
      " 19%|███████████████▍                                                                | 47/244 [00:00<00:00, 469.90it/s]"
     ]
    },
    {
     "name": "stdout",
     "output_type": "stream",
     "text": [
      "epoch 353, loss: 0.32230, acc: 0.85980, val_loss: 4.16989, val_accuracy: 0.50824\n"
     ]
    },
    {
     "name": "stderr",
     "output_type": "stream",
     "text": [
      "100%|███████████████████████████████████████████████████████████████████████████████| 244/244 [00:00<00:00, 481.15it/s]\n",
      " 20%|████████████████                                                                | 49/244 [00:00<00:00, 489.89it/s]"
     ]
    },
    {
     "name": "stdout",
     "output_type": "stream",
     "text": [
      "epoch 354, loss: 0.32406, acc: 0.85761, val_loss: 4.04903, val_accuracy: 0.50481\n"
     ]
    },
    {
     "name": "stderr",
     "output_type": "stream",
     "text": [
      "100%|███████████████████████████████████████████████████████████████████████████████| 244/244 [00:00<00:00, 477.39it/s]\n",
      " 40%|███████████████████████████████▊                                                | 97/244 [00:00<00:00, 482.93it/s]"
     ]
    },
    {
     "name": "stdout",
     "output_type": "stream",
     "text": [
      "epoch 355, loss: 0.31987, acc: 0.86363, val_loss: 4.20144, val_accuracy: 0.49107\n"
     ]
    },
    {
     "name": "stderr",
     "output_type": "stream",
     "text": [
      "100%|███████████████████████████████████████████████████████████████████████████████| 244/244 [00:00<00:00, 482.11it/s]\n",
      " 19%|███████████████▍                                                                | 47/244 [00:00<00:00, 465.24it/s]"
     ]
    },
    {
     "name": "stdout",
     "output_type": "stream",
     "text": [
      "epoch 356, loss: 0.32601, acc: 0.85720, val_loss: 4.27120, val_accuracy: 0.47665\n"
     ]
    },
    {
     "name": "stderr",
     "output_type": "stream",
     "text": [
      "100%|███████████████████████████████████████████████████████████████████████████████| 244/244 [00:00<00:00, 486.92it/s]\n",
      " 20%|████████████████                                                                | 49/244 [00:00<00:00, 489.89it/s]"
     ]
    },
    {
     "name": "stdout",
     "output_type": "stream",
     "text": [
      "epoch 357, loss: 0.32432, acc: 0.85830, val_loss: 4.23084, val_accuracy: 0.51030\n"
     ]
    },
    {
     "name": "stderr",
     "output_type": "stream",
     "text": [
      "100%|███████████████████████████████████████████████████████████████████████████████| 244/244 [00:00<00:00, 487.89it/s]\n",
      " 20%|████████████████                                                                | 49/244 [00:00<00:00, 489.89it/s]"
     ]
    },
    {
     "name": "stdout",
     "output_type": "stream",
     "text": [
      "epoch 358, loss: 0.33365, acc: 0.85597, val_loss: 4.41849, val_accuracy: 0.48214\n"
     ]
    },
    {
     "name": "stderr",
     "output_type": "stream",
     "text": [
      "100%|███████████████████████████████████████████████████████████████████████████████| 244/244 [00:00<00:00, 481.02it/s]\n",
      " 20%|████████████████▍                                                               | 50/244 [00:00<00:00, 499.89it/s]"
     ]
    },
    {
     "name": "stdout",
     "output_type": "stream",
     "text": [
      "epoch 359, loss: 0.33562, acc: 0.85775, val_loss: 4.11465, val_accuracy: 0.48832\n"
     ]
    },
    {
     "name": "stderr",
     "output_type": "stream",
     "text": [
      "100%|███████████████████████████████████████████████████████████████████████████████| 244/244 [00:00<00:00, 483.06it/s]\n",
      " 19%|███████████████▍                                                                | 47/244 [00:00<00:00, 465.24it/s]"
     ]
    },
    {
     "name": "stdout",
     "output_type": "stream",
     "text": [
      "epoch 360, loss: 0.32112, acc: 0.85939, val_loss: 4.21184, val_accuracy: 0.50962\n"
     ]
    },
    {
     "name": "stderr",
     "output_type": "stream",
     "text": [
      "100%|███████████████████████████████████████████████████████████████████████████████| 244/244 [00:00<00:00, 475.53it/s]\n",
      " 20%|███████████████▋                                                                | 48/244 [00:00<00:00, 479.89it/s]"
     ]
    },
    {
     "name": "stdout",
     "output_type": "stream",
     "text": [
      "epoch 361, loss: 0.32309, acc: 0.86431, val_loss: 3.91098, val_accuracy: 0.54464\n"
     ]
    },
    {
     "name": "stderr",
     "output_type": "stream",
     "text": [
      "100%|███████████████████████████████████████████████████████████████████████████████| 244/244 [00:00<00:00, 470.03it/s]\n",
      " 39%|███████████████████████████████▍                                                | 96/244 [00:00<00:00, 479.89it/s]"
     ]
    },
    {
     "name": "stdout",
     "output_type": "stream",
     "text": [
      "epoch 362, loss: 0.31371, acc: 0.86773, val_loss: 4.03431, val_accuracy: 0.54876\n"
     ]
    },
    {
     "name": "stderr",
     "output_type": "stream",
     "text": [
      "100%|███████████████████████████████████████████████████████████████████████████████| 244/244 [00:00<00:00, 481.15it/s]\n",
      " 20%|███████████████▋                                                                | 48/244 [00:00<00:00, 479.89it/s]"
     ]
    },
    {
     "name": "stdout",
     "output_type": "stream",
     "text": [
      "epoch 363, loss: 0.31946, acc: 0.86130, val_loss: 4.17461, val_accuracy: 0.48558\n"
     ]
    },
    {
     "name": "stderr",
     "output_type": "stream",
     "text": [
      "100%|███████████████████████████████████████████████████████████████████████████████| 244/244 [00:00<00:00, 478.32it/s]\n",
      " 20%|████████████████                                                                | 49/244 [00:00<00:00, 485.04it/s]"
     ]
    },
    {
     "name": "stdout",
     "output_type": "stream",
     "text": [
      "epoch 364, loss: 0.31731, acc: 0.85980, val_loss: 4.19728, val_accuracy: 0.51854\n"
     ]
    },
    {
     "name": "stderr",
     "output_type": "stream",
     "text": [
      "100%|███████████████████████████████████████████████████████████████████████████████| 244/244 [00:00<00:00, 470.03it/s]\n",
      " 20%|████████████████                                                                | 49/244 [00:00<00:00, 489.89it/s]"
     ]
    },
    {
     "name": "stdout",
     "output_type": "stream",
     "text": [
      "epoch 365, loss: 0.32052, acc: 0.86048, val_loss: 4.35462, val_accuracy: 0.48283\n"
     ]
    },
    {
     "name": "stderr",
     "output_type": "stream",
     "text": [
      "100%|███████████████████████████████████████████████████████████████████████████████| 244/244 [00:00<00:00, 485.95it/s]\n",
      " 20%|████████████████                                                                | 49/244 [00:00<00:00, 489.90it/s]"
     ]
    },
    {
     "name": "stdout",
     "output_type": "stream",
     "text": [
      "epoch 366, loss: 0.32665, acc: 0.85871, val_loss: 4.18179, val_accuracy: 0.49657\n"
     ]
    },
    {
     "name": "stderr",
     "output_type": "stream",
     "text": [
      "100%|███████████████████████████████████████████████████████████████████████████████| 244/244 [00:00<00:00, 483.06it/s]\n",
      " 39%|███████████████████████████████▏                                                | 95/244 [00:00<00:00, 475.78it/s]"
     ]
    },
    {
     "name": "stdout",
     "output_type": "stream",
     "text": [
      "epoch 367, loss: 0.32671, acc: 0.86117, val_loss: 4.32090, val_accuracy: 0.51717\n"
     ]
    },
    {
     "name": "stderr",
     "output_type": "stream",
     "text": [
      "100%|███████████████████████████████████████████████████████████████████████████████| 244/244 [00:00<00:00, 479.26it/s]\n",
      " 20%|████████████████▍                                                               | 50/244 [00:00<00:00, 494.94it/s]"
     ]
    },
    {
     "name": "stdout",
     "output_type": "stream",
     "text": [
      "epoch 368, loss: 0.33024, acc: 0.85529, val_loss: 4.34746, val_accuracy: 0.52953\n"
     ]
    },
    {
     "name": "stderr",
     "output_type": "stream",
     "text": [
      "100%|███████████████████████████████████████████████████████████████████████████████| 244/244 [00:00<00:00, 480.21it/s]\n",
      " 39%|██████████████████████████████▊                                                 | 94/244 [00:00<00:00, 459.89it/s]"
     ]
    },
    {
     "name": "stdout",
     "output_type": "stream",
     "text": [
      "epoch 369, loss: 0.32107, acc: 0.85734, val_loss: 4.32092, val_accuracy: 0.53640\n"
     ]
    },
    {
     "name": "stderr",
     "output_type": "stream",
     "text": [
      "100%|███████████████████████████████████████████████████████████████████████████████| 244/244 [00:00<00:00, 474.60it/s]\n",
      " 19%|███████████████▍                                                                | 47/244 [00:00<00:00, 469.90it/s]"
     ]
    },
    {
     "name": "stdout",
     "output_type": "stream",
     "text": [
      "epoch 370, loss: 0.32458, acc: 0.85884, val_loss: 4.28016, val_accuracy: 0.50962\n"
     ]
    },
    {
     "name": "stderr",
     "output_type": "stream",
     "text": [
      "100%|███████████████████████████████████████████████████████████████████████████████| 244/244 [00:00<00:00, 472.76it/s]\n",
      " 20%|████████████████▍                                                               | 50/244 [00:00<00:00, 499.89it/s]"
     ]
    },
    {
     "name": "stdout",
     "output_type": "stream",
     "text": [
      "epoch 371, loss: 0.32561, acc: 0.85775, val_loss: 4.30392, val_accuracy: 0.51099\n"
     ]
    },
    {
     "name": "stderr",
     "output_type": "stream",
     "text": [
      "100%|███████████████████████████████████████████████████████████████████████████████| 244/244 [00:00<00:00, 482.90it/s]\n",
      " 20%|████████████████                                                                | 49/244 [00:00<00:00, 489.89it/s]"
     ]
    },
    {
     "name": "stdout",
     "output_type": "stream",
     "text": [
      "epoch 372, loss: 0.34532, acc: 0.85679, val_loss: 4.66836, val_accuracy: 0.46360\n"
     ]
    },
    {
     "name": "stderr",
     "output_type": "stream",
     "text": [
      "100%|███████████████████████████████████████████████████████████████████████████████| 244/244 [00:00<00:00, 479.26it/s]\n",
      " 20%|███████████████▋                                                                | 48/244 [00:00<00:00, 479.90it/s]"
     ]
    },
    {
     "name": "stdout",
     "output_type": "stream",
     "text": [
      "epoch 373, loss: 0.33979, acc: 0.85583, val_loss: 4.38505, val_accuracy: 0.52816\n"
     ]
    },
    {
     "name": "stderr",
     "output_type": "stream",
     "text": [
      "100%|███████████████████████████████████████████████████████████████████████████████| 244/244 [00:00<00:00, 470.03it/s]\n",
      " 40%|████████████████████████████████▏                                               | 98/244 [00:00<00:00, 478.63it/s]"
     ]
    },
    {
     "name": "stdout",
     "output_type": "stream",
     "text": [
      "epoch 374, loss: 0.32564, acc: 0.86076, val_loss: 4.48574, val_accuracy: 0.53297\n"
     ]
    },
    {
     "name": "stderr",
     "output_type": "stream",
     "text": [
      "100%|███████████████████████████████████████████████████████████████████████████████| 244/244 [00:00<00:00, 474.60it/s]\n",
      " 20%|███████████████▋                                                                | 48/244 [00:00<00:00, 475.14it/s]"
     ]
    },
    {
     "name": "stdout",
     "output_type": "stream",
     "text": [
      "epoch 375, loss: 0.31783, acc: 0.86295, val_loss: 4.38805, val_accuracy: 0.52129\n"
     ]
    },
    {
     "name": "stderr",
     "output_type": "stream",
     "text": [
      "100%|███████████████████████████████████████████████████████████████████████████████| 244/244 [00:00<00:00, 474.60it/s]\n",
      " 39%|███████████████████████████████▏                                                | 95/244 [00:00<00:00, 475.78it/s]"
     ]
    },
    {
     "name": "stdout",
     "output_type": "stream",
     "text": [
      "epoch 376, loss: 0.32695, acc: 0.85994, val_loss: 4.11835, val_accuracy: 0.51374\n"
     ]
    },
    {
     "name": "stderr",
     "output_type": "stream",
     "text": [
      "100%|███████████████████████████████████████████████████████████████████████████████| 244/244 [00:00<00:00, 484.98it/s]\n",
      " 20%|███████████████▋                                                                | 48/244 [00:00<00:00, 479.89it/s]"
     ]
    },
    {
     "name": "stdout",
     "output_type": "stream",
     "text": [
      "epoch 377, loss: 0.30903, acc: 0.86746, val_loss: 4.25079, val_accuracy: 0.51648\n"
     ]
    },
    {
     "name": "stderr",
     "output_type": "stream",
     "text": [
      "100%|███████████████████████████████████████████████████████████████████████████████| 244/244 [00:00<00:00, 484.02it/s]\n",
      " 20%|███████████████▋                                                                | 48/244 [00:00<00:00, 475.14it/s]"
     ]
    },
    {
     "name": "stdout",
     "output_type": "stream",
     "text": [
      "epoch 378, loss: 0.31195, acc: 0.87047, val_loss: 4.40897, val_accuracy: 0.51099\n"
     ]
    },
    {
     "name": "stderr",
     "output_type": "stream",
     "text": [
      "100%|███████████████████████████████████████████████████████████████████████████████| 244/244 [00:00<00:00, 476.46it/s]\n",
      " 20%|████████████████                                                                | 49/244 [00:00<00:00, 489.89it/s]"
     ]
    },
    {
     "name": "stdout",
     "output_type": "stream",
     "text": [
      "epoch 379, loss: 0.33020, acc: 0.85706, val_loss: 4.43620, val_accuracy: 0.48695\n"
     ]
    },
    {
     "name": "stderr",
     "output_type": "stream",
     "text": [
      "100%|███████████████████████████████████████████████████████████████████████████████| 244/244 [00:00<00:00, 479.26it/s]\n",
      " 20%|████████████████                                                                | 49/244 [00:00<00:00, 485.04it/s]"
     ]
    },
    {
     "name": "stdout",
     "output_type": "stream",
     "text": [
      "epoch 380, loss: 0.35014, acc: 0.85337, val_loss: 4.34871, val_accuracy: 0.48352\n"
     ]
    },
    {
     "name": "stderr",
     "output_type": "stream",
     "text": [
      "100%|███████████████████████████████████████████████████████████████████████████████| 244/244 [00:00<00:00, 476.46it/s]\n",
      " 40%|████████████████████████████████▏                                               | 98/244 [00:00<00:00, 485.04it/s]"
     ]
    },
    {
     "name": "stdout",
     "output_type": "stream",
     "text": [
      "epoch 381, loss: 0.33615, acc: 0.85091, val_loss: 4.26330, val_accuracy: 0.52473\n"
     ]
    },
    {
     "name": "stderr",
     "output_type": "stream",
     "text": [
      "100%|███████████████████████████████████████████████████████████████████████████████| 244/244 [00:00<00:00, 473.68it/s]\n",
      " 20%|████████████████                                                                | 49/244 [00:00<00:00, 485.04it/s]"
     ]
    },
    {
     "name": "stdout",
     "output_type": "stream",
     "text": [
      "epoch 382, loss: 0.32049, acc: 0.86555, val_loss: 4.33103, val_accuracy: 0.52060\n"
     ]
    },
    {
     "name": "stderr",
     "output_type": "stream",
     "text": [
      "100%|███████████████████████████████████████████████████████████████████████████████| 244/244 [00:00<00:00, 491.83it/s]\n",
      " 20%|████████████████▍                                                               | 50/244 [00:00<00:00, 490.09it/s]"
     ]
    },
    {
     "name": "stdout",
     "output_type": "stream",
     "text": [
      "epoch 383, loss: 0.31225, acc: 0.86746, val_loss: 4.37190, val_accuracy: 0.52473\n"
     ]
    },
    {
     "name": "stderr",
     "output_type": "stream",
     "text": [
      "100%|███████████████████████████████████████████████████████████████████████████████| 244/244 [00:00<00:00, 470.94it/s]\n",
      " 19%|███████████████▍                                                                | 47/244 [00:00<00:00, 469.89it/s]"
     ]
    },
    {
     "name": "stdout",
     "output_type": "stream",
     "text": [
      "epoch 384, loss: 0.31286, acc: 0.86513, val_loss: 4.19731, val_accuracy: 0.52816\n"
     ]
    },
    {
     "name": "stderr",
     "output_type": "stream",
     "text": [
      "100%|███████████████████████████████████████████████████████████████████████████████| 244/244 [00:00<00:00, 478.32it/s]\n",
      " 20%|████████████████                                                                | 49/244 [00:00<00:00, 485.04it/s]"
     ]
    },
    {
     "name": "stdout",
     "output_type": "stream",
     "text": [
      "epoch 385, loss: 0.32470, acc: 0.85980, val_loss: 4.50886, val_accuracy: 0.51511\n"
     ]
    },
    {
     "name": "stderr",
     "output_type": "stream",
     "text": [
      "100%|███████████████████████████████████████████████████████████████████████████████| 244/244 [00:00<00:00, 472.76it/s]\n",
      " 20%|████████████████                                                                | 49/244 [00:00<00:00, 485.04it/s]"
     ]
    },
    {
     "name": "stdout",
     "output_type": "stream",
     "text": [
      "epoch 386, loss: 0.31577, acc: 0.85884, val_loss: 4.40740, val_accuracy: 0.52953\n"
     ]
    },
    {
     "name": "stderr",
     "output_type": "stream",
     "text": [
      "100%|███████████████████████████████████████████████████████████████████████████████| 244/244 [00:00<00:00, 478.32it/s]\n",
      " 19%|███████████████                                                                 | 46/244 [00:00<00:00, 459.89it/s]"
     ]
    },
    {
     "name": "stdout",
     "output_type": "stream",
     "text": [
      "epoch 387, loss: 0.31503, acc: 0.86295, val_loss: 4.51606, val_accuracy: 0.52816\n"
     ]
    },
    {
     "name": "stderr",
     "output_type": "stream",
     "text": [
      "100%|███████████████████████████████████████████████████████████████████████████████| 244/244 [00:00<00:00, 470.94it/s]\n",
      " 41%|████████████████████████████████▍                                              | 100/244 [00:00<00:00, 483.67it/s]"
     ]
    },
    {
     "name": "stdout",
     "output_type": "stream",
     "text": [
      "epoch 388, loss: 0.29882, acc: 0.86869, val_loss: 4.37652, val_accuracy: 0.52541\n"
     ]
    },
    {
     "name": "stderr",
     "output_type": "stream",
     "text": [
      "100%|███████████████████████████████████████████████████████████████████████████████| 244/244 [00:00<00:00, 480.21it/s]\n",
      " 19%|███████████████                                                                 | 46/244 [00:00<00:00, 459.90it/s]"
     ]
    },
    {
     "name": "stdout",
     "output_type": "stream",
     "text": [
      "epoch 389, loss: 0.31291, acc: 0.86390, val_loss: 4.55877, val_accuracy: 0.53846\n"
     ]
    },
    {
     "name": "stderr",
     "output_type": "stream",
     "text": [
      "100%|███████████████████████████████████████████████████████████████████████████████| 244/244 [00:00<00:00, 463.77it/s]\n",
      " 40%|████████████████████████████████▏                                               | 98/244 [00:00<00:00, 487.88it/s]"
     ]
    },
    {
     "name": "stdout",
     "output_type": "stream",
     "text": [
      "epoch 390, loss: 0.31837, acc: 0.86254, val_loss: 4.31321, val_accuracy: 0.52129\n"
     ]
    },
    {
     "name": "stderr",
     "output_type": "stream",
     "text": [
      "100%|███████████████████████████████████████████████████████████████████████████████| 244/244 [00:00<00:00, 483.06it/s]\n",
      " 19%|███████████████                                                                 | 46/244 [00:00<00:00, 459.89it/s]"
     ]
    },
    {
     "name": "stdout",
     "output_type": "stream",
     "text": [
      "epoch 391, loss: 0.30933, acc: 0.86992, val_loss: 4.41829, val_accuracy: 0.53022\n"
     ]
    },
    {
     "name": "stderr",
     "output_type": "stream",
     "text": [
      "100%|███████████████████████████████████████████████████████████████████████████████| 244/244 [00:00<00:00, 483.06it/s]\n",
      " 20%|███████████████▋                                                                | 48/244 [00:00<00:00, 475.14it/s]"
     ]
    },
    {
     "name": "stdout",
     "output_type": "stream",
     "text": [
      "epoch 392, loss: 0.31331, acc: 0.86500, val_loss: 4.37980, val_accuracy: 0.52816\n"
     ]
    },
    {
     "name": "stderr",
     "output_type": "stream",
     "text": [
      "100%|███████████████████████████████████████████████████████████████████████████████| 244/244 [00:00<00:00, 471.85it/s]\n",
      " 40%|████████████████████████████████▏                                               | 98/244 [00:00<00:00, 467.87it/s]"
     ]
    },
    {
     "name": "stdout",
     "output_type": "stream",
     "text": [
      "epoch 393, loss: 0.31886, acc: 0.86363, val_loss: 4.52752, val_accuracy: 0.53709\n"
     ]
    },
    {
     "name": "stderr",
     "output_type": "stream",
     "text": [
      "100%|███████████████████████████████████████████████████████████████████████████████| 244/244 [00:00<00:00, 473.68it/s]\n",
      " 20%|███████████████▋                                                                | 48/244 [00:00<00:00, 479.90it/s]"
     ]
    },
    {
     "name": "stdout",
     "output_type": "stream",
     "text": [
      "epoch 394, loss: 0.31642, acc: 0.86787, val_loss: 4.56337, val_accuracy: 0.52266\n"
     ]
    },
    {
     "name": "stderr",
     "output_type": "stream",
     "text": [
      "100%|███████████████████████████████████████████████████████████████████████████████| 244/244 [00:00<00:00, 465.55it/s]\n",
      " 18%|██████████████▍                                                                 | 44/244 [00:00<00:00, 431.28it/s]"
     ]
    },
    {
     "name": "stdout",
     "output_type": "stream",
     "text": [
      "epoch 395, loss: 0.31436, acc: 0.86527, val_loss: 4.64896, val_accuracy: 0.53777\n"
     ]
    },
    {
     "name": "stderr",
     "output_type": "stream",
     "text": [
      "100%|███████████████████████████████████████████████████████████████████████████████| 244/244 [00:00<00:00, 458.54it/s]\n",
      " 20%|███████████████▋                                                                | 48/244 [00:00<00:00, 475.14it/s]"
     ]
    },
    {
     "name": "stdout",
     "output_type": "stream",
     "text": [
      "epoch 396, loss: 0.30524, acc: 0.86609, val_loss: 4.61824, val_accuracy: 0.52541\n"
     ]
    },
    {
     "name": "stderr",
     "output_type": "stream",
     "text": [
      "100%|███████████████████████████████████████████████████████████████████████████████| 244/244 [00:00<00:00, 469.13it/s]\n",
      " 39%|██████████████████████████████▊                                                 | 94/244 [00:00<00:00, 467.15it/s]"
     ]
    },
    {
     "name": "stdout",
     "output_type": "stream",
     "text": [
      "epoch 397, loss: 0.30702, acc: 0.87102, val_loss: 4.44042, val_accuracy: 0.51717\n"
     ]
    },
    {
     "name": "stderr",
     "output_type": "stream",
     "text": [
      "100%|███████████████████████████████████████████████████████████████████████████████| 244/244 [00:00<00:00, 462.89it/s]\n",
      " 19%|███████████████▍                                                                | 47/244 [00:00<00:00, 469.90it/s]"
     ]
    },
    {
     "name": "stdout",
     "output_type": "stream",
     "text": [
      "epoch 398, loss: 0.30993, acc: 0.86431, val_loss: 4.32750, val_accuracy: 0.52541\n"
     ]
    },
    {
     "name": "stderr",
     "output_type": "stream",
     "text": [
      "100%|███████████████████████████████████████████████████████████████████████████████| 244/244 [00:00<00:00, 461.14it/s]\n",
      " 20%|███████████████▋                                                                | 48/244 [00:00<00:00, 479.89it/s]"
     ]
    },
    {
     "name": "stdout",
     "output_type": "stream",
     "text": [
      "epoch 399, loss: 0.31334, acc: 0.87252, val_loss: 4.43144, val_accuracy: 0.54258\n"
     ]
    },
    {
     "name": "stderr",
     "output_type": "stream",
     "text": [
      "100%|███████████████████████████████████████████████████████████████████████████████| 244/244 [00:00<00:00, 475.53it/s]\n",
      " 19%|███████████████                                                                 | 46/244 [00:00<00:00, 450.88it/s]"
     ]
    },
    {
     "name": "stdout",
     "output_type": "stream",
     "text": [
      "epoch 400, loss: 0.30023, acc: 0.87115, val_loss: 4.70736, val_accuracy: 0.53091\n"
     ]
    },
    {
     "name": "stderr",
     "output_type": "stream",
     "text": [
      "100%|███████████████████████████████████████████████████████████████████████████████| 244/244 [00:00<00:00, 455.97it/s]\n",
      " 39%|███████████████████████████████▍                                                | 96/244 [00:00<00:00, 477.09it/s]"
     ]
    },
    {
     "name": "stdout",
     "output_type": "stream",
     "text": [
      "epoch 401, loss: 0.29384, acc: 0.87279, val_loss: 4.38630, val_accuracy: 0.52473\n"
     ]
    },
    {
     "name": "stderr",
     "output_type": "stream",
     "text": [
      "100%|███████████████████████████████████████████████████████████████████████████████| 244/244 [00:00<00:00, 466.07it/s]\n",
      " 20%|████████████████▍                                                               | 50/244 [00:00<00:00, 499.89it/s]"
     ]
    },
    {
     "name": "stdout",
     "output_type": "stream",
     "text": [
      "epoch 402, loss: 0.29889, acc: 0.87197, val_loss: 4.42829, val_accuracy: 0.53434\n"
     ]
    },
    {
     "name": "stderr",
     "output_type": "stream",
     "text": [
      "100%|███████████████████████████████████████████████████████████████████████████████| 244/244 [00:00<00:00, 464.66it/s]\n",
      " 20%|███████████████▋                                                                | 48/244 [00:00<00:00, 479.89it/s]"
     ]
    },
    {
     "name": "stdout",
     "output_type": "stream",
     "text": [
      "[INFO] val_acc has been improved from 0.55288 to 0.55632. Saving Model!\n",
      "epoch 403, loss: 0.29345, acc: 0.87334, val_loss: 4.58208, val_accuracy: 0.55632\n"
     ]
    },
    {
     "name": "stderr",
     "output_type": "stream",
     "text": [
      "100%|███████████████████████████████████████████████████████████████████████████████| 244/244 [00:00<00:00, 476.46it/s]\n",
      " 19%|███████████████                                                                 | 46/244 [00:00<00:00, 459.89it/s]"
     ]
    },
    {
     "name": "stdout",
     "output_type": "stream",
     "text": [
      "epoch 404, loss: 0.29184, acc: 0.87758, val_loss: 4.53627, val_accuracy: 0.52060\n"
     ]
    },
    {
     "name": "stderr",
     "output_type": "stream",
     "text": [
      "100%|███████████████████████████████████████████████████████████████████████████████| 244/244 [00:00<00:00, 470.94it/s]\n",
      " 19%|███████████████▍                                                                | 47/244 [00:00<00:00, 465.24it/s]"
     ]
    },
    {
     "name": "stdout",
     "output_type": "stream",
     "text": [
      "epoch 405, loss: 0.30201, acc: 0.87047, val_loss: 5.07426, val_accuracy: 0.45467\n"
     ]
    },
    {
     "name": "stderr",
     "output_type": "stream",
     "text": [
      "100%|███████████████████████████████████████████████████████████████████████████████| 244/244 [00:00<00:00, 475.53it/s]\n",
      " 39%|██████████████████████████████▊                                                 | 94/244 [00:00<00:00, 462.55it/s]"
     ]
    },
    {
     "name": "stdout",
     "output_type": "stream",
     "text": [
      "epoch 406, loss: 0.31866, acc: 0.86568, val_loss: 4.69678, val_accuracy: 0.53091\n"
     ]
    },
    {
     "name": "stderr",
     "output_type": "stream",
     "text": [
      "100%|███████████████████████████████████████████████████████████████████████████████| 244/244 [00:00<00:00, 463.77it/s]\n",
      " 39%|███████████████████████████████▏                                                | 95/244 [00:00<00:00, 472.99it/s]"
     ]
    },
    {
     "name": "stdout",
     "output_type": "stream",
     "text": [
      "epoch 407, loss: 0.31503, acc: 0.86746, val_loss: 4.70843, val_accuracy: 0.52473\n"
     ]
    },
    {
     "name": "stderr",
     "output_type": "stream",
     "text": [
      "100%|███████████████████████████████████████████████████████████████████████████████| 244/244 [00:00<00:00, 462.89it/s]\n",
      " 19%|███████████████▍                                                                | 47/244 [00:00<00:00, 465.25it/s]"
     ]
    },
    {
     "name": "stdout",
     "output_type": "stream",
     "text": [
      "epoch 408, loss: 0.32056, acc: 0.86760, val_loss: 4.61106, val_accuracy: 0.51923\n"
     ]
    },
    {
     "name": "stderr",
     "output_type": "stream",
     "text": [
      "100%|███████████████████████████████████████████████████████████████████████████████| 244/244 [00:00<00:00, 445.16it/s]\n",
      " 19%|███████████████                                                                 | 46/244 [00:00<00:00, 450.88it/s]"
     ]
    },
    {
     "name": "stdout",
     "output_type": "stream",
     "text": [
      "epoch 409, loss: 0.30073, acc: 0.86979, val_loss: 4.64795, val_accuracy: 0.53640\n"
     ]
    },
    {
     "name": "stderr",
     "output_type": "stream",
     "text": [
      "100%|███████████████████████████████████████████████████████████████████████████████| 244/244 [00:00<00:00, 464.66it/s]\n",
      " 20%|███████████████▋                                                                | 48/244 [00:00<00:00, 475.15it/s]"
     ]
    },
    {
     "name": "stdout",
     "output_type": "stream",
     "text": [
      "epoch 410, loss: 0.30560, acc: 0.86842, val_loss: 4.67868, val_accuracy: 0.53503\n"
     ]
    },
    {
     "name": "stderr",
     "output_type": "stream",
     "text": [
      "100%|███████████████████████████████████████████████████████████████████████████████| 244/244 [00:00<00:00, 450.08it/s]\n",
      " 19%|███████████████▍                                                                | 47/244 [00:00<00:00, 469.90it/s]"
     ]
    },
    {
     "name": "stdout",
     "output_type": "stream",
     "text": [
      "epoch 411, loss: 0.30497, acc: 0.86869, val_loss: 4.61743, val_accuracy: 0.51648\n"
     ]
    },
    {
     "name": "stderr",
     "output_type": "stream",
     "text": [
      "100%|███████████████████████████████████████████████████████████████████████████████| 244/244 [00:00<00:00, 456.83it/s]\n",
      " 19%|███████████████▍                                                                | 47/244 [00:00<00:00, 460.68it/s]"
     ]
    },
    {
     "name": "stdout",
     "output_type": "stream",
     "text": [
      "epoch 412, loss: 0.32211, acc: 0.86349, val_loss: 4.35819, val_accuracy: 0.53297\n"
     ]
    },
    {
     "name": "stderr",
     "output_type": "stream",
     "text": [
      "100%|███████████████████████████████████████████████████████████████████████████████| 244/244 [00:00<00:00, 462.02it/s]\n",
      " 39%|███████████████████████████████▏                                                | 95/244 [00:00<00:00, 473.83it/s]"
     ]
    },
    {
     "name": "stdout",
     "output_type": "stream",
     "text": [
      "epoch 413, loss: 0.30552, acc: 0.87293, val_loss: 4.46995, val_accuracy: 0.54739\n"
     ]
    },
    {
     "name": "stderr",
     "output_type": "stream",
     "text": [
      "100%|███████████████████████████████████████████████████████████████████████████████| 244/244 [00:00<00:00, 474.60it/s]\n",
      " 19%|███████████████▍                                                                | 47/244 [00:00<00:00, 465.24it/s]"
     ]
    },
    {
     "name": "stdout",
     "output_type": "stream",
     "text": [
      "epoch 414, loss: 0.29800, acc: 0.87238, val_loss: 4.51780, val_accuracy: 0.54464\n"
     ]
    },
    {
     "name": "stderr",
     "output_type": "stream",
     "text": [
      "100%|███████████████████████████████████████████████████████████████████████████████| 244/244 [00:00<00:00, 473.68it/s]\n",
      " 19%|███████████████                                                                 | 46/244 [00:00<00:00, 450.88it/s]"
     ]
    },
    {
     "name": "stdout",
     "output_type": "stream",
     "text": [
      "epoch 415, loss: 0.31400, acc: 0.86363, val_loss: 4.62647, val_accuracy: 0.52266\n"
     ]
    },
    {
     "name": "stderr",
     "output_type": "stream",
     "text": [
      "100%|███████████████████████████████████████████████████████████████████████████████| 244/244 [00:00<00:00, 461.14it/s]\n",
      " 20%|████████████████                                                                | 49/244 [00:00<00:00, 485.04it/s]"
     ]
    },
    {
     "name": "stdout",
     "output_type": "stream",
     "text": [
      "epoch 416, loss: 0.29896, acc: 0.86883, val_loss: 4.52111, val_accuracy: 0.54190\n"
     ]
    },
    {
     "name": "stderr",
     "output_type": "stream",
     "text": [
      "100%|███████████████████████████████████████████████████████████████████████████████| 244/244 [00:00<00:00, 468.22it/s]\n",
      " 39%|███████████████████████████████▏                                                | 95/244 [00:00<00:00, 474.75it/s]"
     ]
    },
    {
     "name": "stdout",
     "output_type": "stream",
     "text": [
      "epoch 417, loss: 0.31096, acc: 0.86896, val_loss: 4.49106, val_accuracy: 0.53365\n"
     ]
    },
    {
     "name": "stderr",
     "output_type": "stream",
     "text": [
      "100%|███████████████████████████████████████████████████████████████████████████████| 244/244 [00:00<00:00, 468.22it/s]\n",
      " 20%|███████████████▋                                                                | 48/244 [00:00<00:00, 475.14it/s]"
     ]
    },
    {
     "name": "stdout",
     "output_type": "stream",
     "text": [
      "epoch 418, loss: 0.28487, acc: 0.87758, val_loss: 4.61776, val_accuracy: 0.53984\n"
     ]
    },
    {
     "name": "stderr",
     "output_type": "stream",
     "text": [
      "100%|███████████████████████████████████████████████████████████████████████████████| 244/244 [00:00<00:00, 469.12it/s]\n",
      " 20%|████████████████                                                                | 49/244 [00:00<00:00, 485.04it/s]"
     ]
    },
    {
     "name": "stdout",
     "output_type": "stream",
     "text": [
      "epoch 419, loss: 0.29067, acc: 0.87334, val_loss: 4.50501, val_accuracy: 0.53297\n"
     ]
    },
    {
     "name": "stderr",
     "output_type": "stream",
     "text": [
      "100%|███████████████████████████████████████████████████████████████████████████████| 244/244 [00:00<00:00, 474.60it/s]\n",
      " 20%|███████████████▋                                                                | 48/244 [00:00<00:00, 479.89it/s]"
     ]
    },
    {
     "name": "stdout",
     "output_type": "stream",
     "text": [
      "epoch 420, loss: 0.29176, acc: 0.87485, val_loss: 4.65183, val_accuracy: 0.54052\n"
     ]
    },
    {
     "name": "stderr",
     "output_type": "stream",
     "text": [
      "100%|███████████████████████████████████████████████████████████████████████████████| 244/244 [00:00<00:00, 476.45it/s]\n",
      " 20%|████████████████▍                                                               | 50/244 [00:00<00:00, 494.94it/s]"
     ]
    },
    {
     "name": "stdout",
     "output_type": "stream",
     "text": [
      "epoch 421, loss: 0.29989, acc: 0.86924, val_loss: 4.67727, val_accuracy: 0.53297\n"
     ]
    },
    {
     "name": "stderr",
     "output_type": "stream",
     "text": [
      "100%|███████████████████████████████████████████████████████████████████████████████| 244/244 [00:00<00:00, 470.03it/s]\n",
      " 39%|██████████████████████████████▊                                                 | 94/244 [00:00<00:00, 469.72it/s]"
     ]
    },
    {
     "name": "stdout",
     "output_type": "stream",
     "text": [
      "epoch 422, loss: 0.30848, acc: 0.86924, val_loss: 4.46273, val_accuracy: 0.53228\n"
     ]
    },
    {
     "name": "stderr",
     "output_type": "stream",
     "text": [
      "100%|███████████████████████████████████████████████████████████████████████████████| 244/244 [00:00<00:00, 469.12it/s]\n",
      " 20%|███████████████▋                                                                | 48/244 [00:00<00:00, 475.13it/s]"
     ]
    },
    {
     "name": "stdout",
     "output_type": "stream",
     "text": [
      "epoch 423, loss: 0.30260, acc: 0.86842, val_loss: 4.77093, val_accuracy: 0.52198\n"
     ]
    },
    {
     "name": "stderr",
     "output_type": "stream",
     "text": [
      "100%|███████████████████████████████████████████████████████████████████████████████| 244/244 [00:00<00:00, 466.43it/s]\n",
      " 40%|███████████████████████████████▊                                                | 97/244 [00:00<00:00, 483.78it/s]"
     ]
    },
    {
     "name": "stdout",
     "output_type": "stream",
     "text": [
      "epoch 424, loss: 0.30582, acc: 0.86951, val_loss: 4.75081, val_accuracy: 0.51786\n"
     ]
    },
    {
     "name": "stderr",
     "output_type": "stream",
     "text": [
      "100%|███████████████████████████████████████████████████████████████████████████████| 244/244 [00:00<00:00, 474.60it/s]\n",
      " 20%|███████████████▋                                                                | 48/244 [00:00<00:00, 470.48it/s]"
     ]
    },
    {
     "name": "stdout",
     "output_type": "stream",
     "text": [
      "epoch 425, loss: 0.31145, acc: 0.86910, val_loss: 4.82619, val_accuracy: 0.49794\n"
     ]
    },
    {
     "name": "stderr",
     "output_type": "stream",
     "text": [
      "100%|███████████████████████████████████████████████████████████████████████████████| 244/244 [00:00<00:00, 462.02it/s]\n",
      " 19%|███████████████▍                                                                | 47/244 [00:00<00:00, 460.68it/s]"
     ]
    },
    {
     "name": "stdout",
     "output_type": "stream",
     "text": [
      "epoch 426, loss: 0.29334, acc: 0.87567, val_loss: 4.62450, val_accuracy: 0.52266\n"
     ]
    },
    {
     "name": "stderr",
     "output_type": "stream",
     "text": [
      "100%|███████████████████████████████████████████████████████████████████████████████| 244/244 [00:00<00:00, 451.75it/s]\n",
      " 20%|████████████████▍                                                               | 50/244 [00:00<00:00, 499.89it/s]"
     ]
    },
    {
     "name": "stdout",
     "output_type": "stream",
     "text": [
      "epoch 427, loss: 0.29710, acc: 0.87362, val_loss: 4.61951, val_accuracy: 0.53365\n"
     ]
    },
    {
     "name": "stderr",
     "output_type": "stream",
     "text": [
      "100%|███████████████████████████████████████████████████████████████████████████████| 244/244 [00:00<00:00, 466.43it/s]\n",
      " 19%|███████████████                                                                 | 46/244 [00:00<00:00, 459.90it/s]"
     ]
    },
    {
     "name": "stdout",
     "output_type": "stream",
     "text": [
      "epoch 428, loss: 0.29996, acc: 0.86896, val_loss: 4.60543, val_accuracy: 0.51854\n"
     ]
    },
    {
     "name": "stderr",
     "output_type": "stream",
     "text": [
      "100%|███████████████████████████████████████████████████████████████████████████████| 244/244 [00:00<00:00, 459.41it/s]\n",
      " 20%|███████████████▋                                                                | 48/244 [00:00<00:00, 475.14it/s]"
     ]
    },
    {
     "name": "stdout",
     "output_type": "stream",
     "text": [
      "epoch 429, loss: 0.30693, acc: 0.86705, val_loss: 4.58212, val_accuracy: 0.53709\n"
     ]
    },
    {
     "name": "stderr",
     "output_type": "stream",
     "text": [
      "100%|███████████████████████████████████████████████████████████████████████████████| 244/244 [00:00<00:00, 473.68it/s]\n",
      " 20%|████████████████                                                                | 49/244 [00:00<00:00, 489.89it/s]"
     ]
    },
    {
     "name": "stdout",
     "output_type": "stream",
     "text": [
      "epoch 430, loss: 0.30080, acc: 0.86842, val_loss: 4.56676, val_accuracy: 0.53640\n"
     ]
    },
    {
     "name": "stderr",
     "output_type": "stream",
     "text": [
      "100%|███████████████████████████████████████████████████████████████████████████████| 244/244 [00:00<00:00, 470.94it/s]\n",
      " 20%|███████████████▋                                                                | 48/244 [00:00<00:00, 475.14it/s]"
     ]
    },
    {
     "name": "stdout",
     "output_type": "stream",
     "text": [
      "epoch 431, loss: 0.29180, acc: 0.86992, val_loss: 4.69691, val_accuracy: 0.51374\n"
     ]
    },
    {
     "name": "stderr",
     "output_type": "stream",
     "text": [
      "100%|███████████████████████████████████████████████████████████████████████████████| 244/244 [00:00<00:00, 465.54it/s]\n",
      " 20%|████████████████                                                                | 49/244 [00:00<00:00, 485.04it/s]"
     ]
    },
    {
     "name": "stdout",
     "output_type": "stream",
     "text": [
      "epoch 432, loss: 0.28470, acc: 0.88059, val_loss: 4.80508, val_accuracy: 0.49794\n"
     ]
    },
    {
     "name": "stderr",
     "output_type": "stream",
     "text": [
      "100%|███████████████████████████████████████████████████████████████████████████████| 244/244 [00:00<00:00, 468.23it/s]\n",
      " 19%|███████████████                                                                 | 46/244 [00:00<00:00, 459.90it/s]"
     ]
    },
    {
     "name": "stdout",
     "output_type": "stream",
     "text": [
      "epoch 433, loss: 0.28332, acc: 0.88100, val_loss: 4.90768, val_accuracy: 0.46223\n"
     ]
    },
    {
     "name": "stderr",
     "output_type": "stream",
     "text": [
      "100%|███████████████████████████████████████████████████████████████████████████████| 244/244 [00:00<00:00, 468.23it/s]\n",
      " 19%|███████████████                                                                 | 46/244 [00:00<00:00, 459.90it/s]"
     ]
    },
    {
     "name": "stdout",
     "output_type": "stream",
     "text": [
      "epoch 434, loss: 0.29392, acc: 0.87074, val_loss: 4.77887, val_accuracy: 0.52335\n"
     ]
    },
    {
     "name": "stderr",
     "output_type": "stream",
     "text": [
      "100%|███████████████████████████████████████████████████████████████████████████████| 244/244 [00:00<00:00, 470.03it/s]\n",
      " 39%|███████████████████████████████▏                                                | 95/244 [00:00<00:00, 474.75it/s]"
     ]
    },
    {
     "name": "stdout",
     "output_type": "stream",
     "text": [
      "epoch 435, loss: 0.29803, acc: 0.87211, val_loss: 4.85852, val_accuracy: 0.48214\n"
     ]
    },
    {
     "name": "stderr",
     "output_type": "stream",
     "text": [
      "100%|███████████████████████████████████████████████████████████████████████████████| 244/244 [00:00<00:00, 469.13it/s]\n",
      " 20%|███████████████▋                                                                | 48/244 [00:00<00:00, 479.89it/s]"
     ]
    },
    {
     "name": "stdout",
     "output_type": "stream",
     "text": [
      "epoch 436, loss: 0.30050, acc: 0.87238, val_loss: 4.83063, val_accuracy: 0.48695\n"
     ]
    },
    {
     "name": "stderr",
     "output_type": "stream",
     "text": [
      "100%|███████████████████████████████████████████████████████████████████████████████| 244/244 [00:00<00:00, 471.85it/s]\n",
      " 20%|████████████████▍                                                               | 50/244 [00:00<00:00, 494.94it/s]"
     ]
    },
    {
     "name": "stdout",
     "output_type": "stream",
     "text": [
      "epoch 437, loss: 0.30161, acc: 0.87279, val_loss: 4.89606, val_accuracy: 0.50824\n"
     ]
    },
    {
     "name": "stderr",
     "output_type": "stream",
     "text": [
      "100%|███████████████████████████████████████████████████████████████████████████████| 244/244 [00:00<00:00, 471.85it/s]\n",
      " 20%|███████████████▋                                                                | 48/244 [00:00<00:00, 479.89it/s]"
     ]
    },
    {
     "name": "stdout",
     "output_type": "stream",
     "text": [
      "epoch 438, loss: 0.28909, acc: 0.87444, val_loss: 4.82896, val_accuracy: 0.51030\n"
     ]
    },
    {
     "name": "stderr",
     "output_type": "stream",
     "text": [
      "100%|███████████████████████████████████████████████████████████████████████████████| 244/244 [00:00<00:00, 470.94it/s]\n",
      " 20%|████████████████                                                                | 49/244 [00:00<00:00, 485.04it/s]"
     ]
    },
    {
     "name": "stdout",
     "output_type": "stream",
     "text": [
      "epoch 439, loss: 0.29382, acc: 0.87430, val_loss: 4.86371, val_accuracy: 0.53022\n"
     ]
    },
    {
     "name": "stderr",
     "output_type": "stream",
     "text": [
      "100%|███████████████████████████████████████████████████████████████████████████████| 244/244 [00:00<00:00, 469.13it/s]\n",
      " 20%|████████████████                                                                | 49/244 [00:00<00:00, 489.89it/s]"
     ]
    },
    {
     "name": "stdout",
     "output_type": "stream",
     "text": [
      "epoch 440, loss: 0.28962, acc: 0.87717, val_loss: 4.94429, val_accuracy: 0.51374\n"
     ]
    },
    {
     "name": "stderr",
     "output_type": "stream",
     "text": [
      "100%|███████████████████████████████████████████████████████████████████████████████| 244/244 [00:00<00:00, 484.02it/s]\n",
      " 20%|████████████████                                                                | 49/244 [00:00<00:00, 485.04it/s]"
     ]
    },
    {
     "name": "stdout",
     "output_type": "stream",
     "text": [
      "epoch 441, loss: 0.29271, acc: 0.87444, val_loss: 4.89770, val_accuracy: 0.51717\n"
     ]
    },
    {
     "name": "stderr",
     "output_type": "stream",
     "text": [
      "100%|███████████████████████████████████████████████████████████████████████████████| 244/244 [00:00<00:00, 470.94it/s]\n",
      " 20%|███████████████▋                                                                | 48/244 [00:00<00:00, 479.89it/s]"
     ]
    },
    {
     "name": "stdout",
     "output_type": "stream",
     "text": [
      "epoch 442, loss: 0.29432, acc: 0.87485, val_loss: 4.93792, val_accuracy: 0.52953\n"
     ]
    },
    {
     "name": "stderr",
     "output_type": "stream",
     "text": [
      "100%|███████████████████████████████████████████████████████████████████████████████| 244/244 [00:00<00:00, 470.03it/s]\n",
      " 20%|███████████████▋                                                                | 48/244 [00:00<00:00, 475.14it/s]"
     ]
    },
    {
     "name": "stdout",
     "output_type": "stream",
     "text": [
      "epoch 443, loss: 0.28794, acc: 0.87827, val_loss: 4.70484, val_accuracy: 0.52885\n"
     ]
    },
    {
     "name": "stderr",
     "output_type": "stream",
     "text": [
      "100%|███████████████████████████████████████████████████████████████████████████████| 244/244 [00:00<00:00, 469.12it/s]\n",
      " 40%|████████████████████████████████▏                                               | 98/244 [00:00<00:00, 487.88it/s]"
     ]
    },
    {
     "name": "stdout",
     "output_type": "stream",
     "text": [
      "epoch 444, loss: 0.29221, acc: 0.87594, val_loss: 5.11407, val_accuracy: 0.52198\n"
     ]
    },
    {
     "name": "stderr",
     "output_type": "stream",
     "text": [
      "100%|███████████████████████████████████████████████████████████████████████████████| 244/244 [00:00<00:00, 478.32it/s]\n",
      " 20%|████████████████▍                                                               | 50/244 [00:00<00:00, 494.94it/s]"
     ]
    },
    {
     "name": "stdout",
     "output_type": "stream",
     "text": [
      "epoch 445, loss: 0.30934, acc: 0.87444, val_loss: 5.18226, val_accuracy: 0.47253\n"
     ]
    },
    {
     "name": "stderr",
     "output_type": "stream",
     "text": [
      "100%|███████████████████████████████████████████████████████████████████████████████| 244/244 [00:00<00:00, 474.60it/s]\n",
      " 20%|████████████████                                                                | 49/244 [00:00<00:00, 489.89it/s]"
     ]
    },
    {
     "name": "stdout",
     "output_type": "stream",
     "text": [
      "epoch 446, loss: 0.31156, acc: 0.86596, val_loss: 4.82658, val_accuracy: 0.53091\n"
     ]
    },
    {
     "name": "stderr",
     "output_type": "stream",
     "text": [
      "100%|███████████████████████████████████████████████████████████████████████████████| 244/244 [00:00<00:00, 478.32it/s]\n",
      " 20%|████████████████                                                                | 49/244 [00:00<00:00, 485.04it/s]"
     ]
    },
    {
     "name": "stdout",
     "output_type": "stream",
     "text": [
      "epoch 447, loss: 0.29571, acc: 0.87170, val_loss: 4.87790, val_accuracy: 0.50343\n"
     ]
    },
    {
     "name": "stderr",
     "output_type": "stream",
     "text": [
      "100%|███████████████████████████████████████████████████████████████████████████████| 244/244 [00:00<00:00, 474.60it/s]\n",
      " 20%|███████████████▋                                                                | 48/244 [00:00<00:00, 475.14it/s]"
     ]
    },
    {
     "name": "stdout",
     "output_type": "stream",
     "text": [
      "epoch 448, loss: 0.29662, acc: 0.87362, val_loss: 4.83325, val_accuracy: 0.51511\n"
     ]
    },
    {
     "name": "stderr",
     "output_type": "stream",
     "text": [
      "100%|███████████████████████████████████████████████████████████████████████████████| 244/244 [00:00<00:00, 465.54it/s]\n",
      " 41%|████████████████████████████████▍                                              | 100/244 [00:00<00:00, 483.67it/s]"
     ]
    },
    {
     "name": "stdout",
     "output_type": "stream",
     "text": [
      "epoch 449, loss: 0.29644, acc: 0.87293, val_loss: 5.06248, val_accuracy: 0.46291\n"
     ]
    },
    {
     "name": "stderr",
     "output_type": "stream",
     "text": [
      "100%|███████████████████████████████████████████████████████████████████████████████| 244/244 [00:00<00:00, 471.85it/s]\n",
      " 18%|██████████████▊                                                                 | 45/244 [00:00<00:00, 449.97it/s]"
     ]
    },
    {
     "name": "stdout",
     "output_type": "stream",
     "text": [
      "epoch 450, loss: 0.29561, acc: 0.87211, val_loss: 5.07054, val_accuracy: 0.45673\n"
     ]
    },
    {
     "name": "stderr",
     "output_type": "stream",
     "text": [
      "100%|███████████████████████████████████████████████████████████████████████████████| 244/244 [00:00<00:00, 444.36it/s]\n",
      " 18%|██████████████▍                                                                 | 44/244 [00:00<00:00, 435.55it/s]"
     ]
    },
    {
     "name": "stdout",
     "output_type": "stream",
     "text": [
      "epoch 451, loss: 0.28805, acc: 0.87197, val_loss: 5.02128, val_accuracy: 0.50343\n"
     ]
    },
    {
     "name": "stderr",
     "output_type": "stream",
     "text": [
      "100%|███████████████████████████████████████████████████████████████████████████████| 244/244 [00:00<00:00, 437.18it/s]\n",
      " 18%|██████████████▍                                                                 | 44/244 [00:00<00:00, 435.55it/s]"
     ]
    },
    {
     "name": "stdout",
     "output_type": "stream",
     "text": [
      "epoch 452, loss: 0.28894, acc: 0.87703, val_loss: 4.89487, val_accuracy: 0.53365\n"
     ]
    },
    {
     "name": "stderr",
     "output_type": "stream",
     "text": [
      "100%|███████████████████████████████████████████████████████████████████████████████| 244/244 [00:00<00:00, 439.54it/s]\n",
      " 18%|██████████████▍                                                                 | 44/244 [00:00<00:00, 439.90it/s]"
     ]
    },
    {
     "name": "stdout",
     "output_type": "stream",
     "text": [
      "epoch 453, loss: 0.30067, acc: 0.87430, val_loss: 4.94144, val_accuracy: 0.53091\n"
     ]
    },
    {
     "name": "stderr",
     "output_type": "stream",
     "text": [
      "100%|███████████████████████████████████████████████████████████████████████████████| 244/244 [00:00<00:00, 445.06it/s]\n",
      " 18%|██████████████▊                                                                 | 45/244 [00:00<00:00, 449.90it/s]"
     ]
    },
    {
     "name": "stdout",
     "output_type": "stream",
     "text": [
      "epoch 454, loss: 0.29363, acc: 0.87635, val_loss: 5.25647, val_accuracy: 0.47253\n"
     ]
    },
    {
     "name": "stderr",
     "output_type": "stream",
     "text": [
      "100%|███████████████████████████████████████████████████████████████████████████████| 244/244 [00:00<00:00, 442.73it/s]\n",
      " 37%|█████████████████████████████▌                                                  | 90/244 [00:00<00:00, 449.90it/s]"
     ]
    },
    {
     "name": "stdout",
     "output_type": "stream",
     "text": [
      "epoch 455, loss: 0.28397, acc: 0.87621, val_loss: 4.93833, val_accuracy: 0.51854\n"
     ]
    },
    {
     "name": "stderr",
     "output_type": "stream",
     "text": [
      "100%|███████████████████████████████████████████████████████████████████████████████| 244/244 [00:00<00:00, 447.61it/s]\n",
      " 19%|███████████████                                                                 | 46/244 [00:00<00:00, 457.64it/s]"
     ]
    },
    {
     "name": "stdout",
     "output_type": "stream",
     "text": [
      "epoch 456, loss: 0.29401, acc: 0.86992, val_loss: 4.99819, val_accuracy: 0.53434\n"
     ]
    },
    {
     "name": "stderr",
     "output_type": "stream",
     "text": [
      "100%|███████████████████████████████████████████████████████████████████████████████| 244/244 [00:00<00:00, 449.67it/s]\n",
      " 39%|███████████████████████████████▍                                                | 96/244 [00:00<00:00, 474.31it/s]"
     ]
    },
    {
     "name": "stdout",
     "output_type": "stream",
     "text": [
      "epoch 457, loss: 0.27640, acc: 0.87717, val_loss: 5.10990, val_accuracy: 0.51374\n"
     ]
    },
    {
     "name": "stderr",
     "output_type": "stream",
     "text": [
      "100%|███████████████████████████████████████████████████████████████████████████████| 244/244 [00:00<00:00, 467.33it/s]\n",
      " 20%|███████████████▋                                                                | 48/244 [00:00<00:00, 479.89it/s]"
     ]
    },
    {
     "name": "stdout",
     "output_type": "stream",
     "text": [
      "epoch 458, loss: 0.28178, acc: 0.87772, val_loss: 5.12547, val_accuracy: 0.48489\n"
     ]
    },
    {
     "name": "stderr",
     "output_type": "stream",
     "text": [
      "100%|███████████████████████████████████████████████████████████████████████████████| 244/244 [00:00<00:00, 469.13it/s]\n",
      " 19%|███████████████▍                                                                | 47/244 [00:00<00:00, 465.25it/s]"
     ]
    },
    {
     "name": "stdout",
     "output_type": "stream",
     "text": [
      "epoch 459, loss: 0.29060, acc: 0.87717, val_loss: 5.38779, val_accuracy: 0.47047\n"
     ]
    },
    {
     "name": "stderr",
     "output_type": "stream",
     "text": [
      "100%|███████████████████████████████████████████████████████████████████████████████| 244/244 [00:00<00:00, 462.89it/s]\n",
      " 20%|███████████████▋                                                                | 48/244 [00:00<00:00, 475.14it/s]"
     ]
    },
    {
     "name": "stdout",
     "output_type": "stream",
     "text": [
      "epoch 460, loss: 0.29166, acc: 0.86924, val_loss: 5.23943, val_accuracy: 0.48214\n"
     ]
    },
    {
     "name": "stderr",
     "output_type": "stream",
     "text": [
      "100%|███████████████████████████████████████████████████████████████████████████████| 244/244 [00:00<00:00, 471.85it/s]\n",
      " 41%|████████████████████████████████▍                                              | 100/244 [00:00<00:00, 494.93it/s]"
     ]
    },
    {
     "name": "stdout",
     "output_type": "stream",
     "text": [
      "epoch 461, loss: 0.28767, acc: 0.87799, val_loss: 5.11095, val_accuracy: 0.53640\n"
     ]
    },
    {
     "name": "stderr",
     "output_type": "stream",
     "text": [
      "100%|███████████████████████████████████████████████████████████████████████████████| 244/244 [00:00<00:00, 476.45it/s]\n",
      " 20%|███████████████▋                                                                | 48/244 [00:00<00:00, 475.14it/s]"
     ]
    },
    {
     "name": "stdout",
     "output_type": "stream",
     "text": [
      "epoch 462, loss: 0.29565, acc: 0.86814, val_loss: 4.96380, val_accuracy: 0.54052\n"
     ]
    },
    {
     "name": "stderr",
     "output_type": "stream",
     "text": [
      "100%|███████████████████████████████████████████████████████████████████████████████| 244/244 [00:00<00:00, 458.54it/s]\n",
      " 19%|███████████████                                                                 | 46/244 [00:00<00:00, 455.35it/s]"
     ]
    },
    {
     "name": "stdout",
     "output_type": "stream",
     "text": [
      "epoch 463, loss: 0.29300, acc: 0.87635, val_loss: 5.07183, val_accuracy: 0.52885\n"
     ]
    },
    {
     "name": "stderr",
     "output_type": "stream",
     "text": [
      "100%|███████████████████████████████████████████████████████████████████████████████| 244/244 [00:00<00:00, 451.84it/s]\n",
      " 19%|███████████████▍                                                                | 47/244 [00:00<00:00, 469.89it/s]"
     ]
    },
    {
     "name": "stdout",
     "output_type": "stream",
     "text": [
      "epoch 464, loss: 0.29280, acc: 0.87498, val_loss: 5.09414, val_accuracy: 0.51374\n"
     ]
    },
    {
     "name": "stderr",
     "output_type": "stream",
     "text": [
      "100%|███████████████████████████████████████████████████████████████████████████████| 244/244 [00:00<00:00, 466.43it/s]\n",
      " 20%|███████████████▋                                                                | 48/244 [00:00<00:00, 475.14it/s]"
     ]
    },
    {
     "name": "stdout",
     "output_type": "stream",
     "text": [
      "epoch 465, loss: 0.28076, acc: 0.87895, val_loss: 5.06493, val_accuracy: 0.47871\n"
     ]
    },
    {
     "name": "stderr",
     "output_type": "stream",
     "text": [
      "100%|███████████████████████████████████████████████████████████████████████████████| 244/244 [00:00<00:00, 469.13it/s]\n",
      " 18%|██████████████▊                                                                 | 45/244 [00:00<00:00, 449.90it/s]"
     ]
    },
    {
     "name": "stdout",
     "output_type": "stream",
     "text": [
      "epoch 466, loss: 0.27957, acc: 0.88032, val_loss: 5.12736, val_accuracy: 0.48420\n"
     ]
    },
    {
     "name": "stderr",
     "output_type": "stream",
     "text": [
      "100%|███████████████████████████████████████████████████████████████████████████████| 244/244 [00:00<00:00, 470.94it/s]\n",
      " 16%|█████████████                                                                   | 40/244 [00:00<00:00, 397.90it/s]"
     ]
    },
    {
     "name": "stdout",
     "output_type": "stream",
     "text": [
      "epoch 467, loss: 0.28550, acc: 0.87539, val_loss: 4.98360, val_accuracy: 0.49794\n"
     ]
    },
    {
     "name": "stderr",
     "output_type": "stream",
     "text": [
      "100%|███████████████████████████████████████████████████████████████████████████████| 244/244 [00:00<00:00, 435.21it/s]\n",
      " 39%|██████████████████████████████▊                                                 | 94/244 [00:00<00:00, 462.55it/s]"
     ]
    },
    {
     "name": "stdout",
     "output_type": "stream",
     "text": [
      "epoch 468, loss: 0.30360, acc: 0.87143, val_loss: 4.99402, val_accuracy: 0.52473\n"
     ]
    },
    {
     "name": "stderr",
     "output_type": "stream",
     "text": [
      "100%|███████████████████████████████████████████████████████████████████████████████| 244/244 [00:00<00:00, 468.22it/s]\n",
      " 41%|████████████████████████████████▍                                              | 100/244 [00:00<00:00, 480.12it/s]"
     ]
    },
    {
     "name": "stdout",
     "output_type": "stream",
     "text": [
      "epoch 469, loss: 0.29347, acc: 0.87074, val_loss: 5.20277, val_accuracy: 0.45810\n"
     ]
    },
    {
     "name": "stderr",
     "output_type": "stream",
     "text": [
      "100%|███████████████████████████████████████████████████████████████████████████████| 244/244 [00:00<00:00, 474.60it/s]\n",
      " 39%|███████████████████████████████▍                                                | 96/244 [00:00<00:00, 477.09it/s]"
     ]
    },
    {
     "name": "stdout",
     "output_type": "stream",
     "text": [
      "epoch 470, loss: 0.27124, acc: 0.87991, val_loss: 5.43708, val_accuracy: 0.45467\n"
     ]
    },
    {
     "name": "stderr",
     "output_type": "stream",
     "text": [
      "100%|███████████████████████████████████████████████████████████████████████████████| 244/244 [00:00<00:00, 480.21it/s]\n",
      " 20%|███████████████▋                                                                | 48/244 [00:00<00:00, 475.14it/s]"
     ]
    },
    {
     "name": "stdout",
     "output_type": "stream",
     "text": [
      "epoch 471, loss: 0.28588, acc: 0.87197, val_loss: 5.12538, val_accuracy: 0.50206\n"
     ]
    },
    {
     "name": "stderr",
     "output_type": "stream",
     "text": [
      "100%|███████████████████████████████████████████████████████████████████████████████| 244/244 [00:00<00:00, 480.21it/s]\n",
      " 19%|███████████████▍                                                                | 47/244 [00:00<00:00, 469.90it/s]"
     ]
    },
    {
     "name": "stdout",
     "output_type": "stream",
     "text": [
      "epoch 472, loss: 0.27976, acc: 0.88100, val_loss: 4.97086, val_accuracy: 0.50824\n"
     ]
    },
    {
     "name": "stderr",
     "output_type": "stream",
     "text": [
      "100%|███████████████████████████████████████████████████████████████████████████████| 244/244 [00:00<00:00, 480.21it/s]\n",
      " 20%|████████████████                                                                | 49/244 [00:00<00:00, 485.04it/s]"
     ]
    },
    {
     "name": "stdout",
     "output_type": "stream",
     "text": [
      "epoch 473, loss: 0.27985, acc: 0.88127, val_loss: 5.15390, val_accuracy: 0.52541\n"
     ]
    },
    {
     "name": "stderr",
     "output_type": "stream",
     "text": [
      "100%|███████████████████████████████████████████████████████████████████████████████| 244/244 [00:00<00:00, 472.91it/s]\n",
      " 39%|███████████████████████████████▍                                                | 96/244 [00:00<00:00, 474.31it/s]"
     ]
    },
    {
     "name": "stdout",
     "output_type": "stream",
     "text": [
      "epoch 474, loss: 0.27642, acc: 0.87909, val_loss: 5.08771, val_accuracy: 0.45948\n"
     ]
    },
    {
     "name": "stderr",
     "output_type": "stream",
     "text": [
      "100%|███████████████████████████████████████████████████████████████████████████████| 244/244 [00:00<00:00, 479.26it/s]\n",
      " 19%|███████████████▍                                                                | 47/244 [00:00<00:00, 469.90it/s]"
     ]
    },
    {
     "name": "stdout",
     "output_type": "stream",
     "text": [
      "epoch 475, loss: 0.29261, acc: 0.87786, val_loss: 5.31872, val_accuracy: 0.51580\n"
     ]
    },
    {
     "name": "stderr",
     "output_type": "stream",
     "text": [
      "100%|███████████████████████████████████████████████████████████████████████████████| 244/244 [00:00<00:00, 478.32it/s]\n",
      " 20%|███████████████▋                                                                | 48/244 [00:00<00:00, 468.78it/s]"
     ]
    },
    {
     "name": "stdout",
     "output_type": "stream",
     "text": [
      "epoch 476, loss: 0.28741, acc: 0.86746, val_loss: 5.13278, val_accuracy: 0.46978\n"
     ]
    },
    {
     "name": "stderr",
     "output_type": "stream",
     "text": [
      "100%|███████████████████████████████████████████████████████████████████████████████| 244/244 [00:00<00:00, 476.11it/s]\n",
      " 20%|████████████████▍                                                               | 50/244 [00:00<00:00, 494.94it/s]"
     ]
    },
    {
     "name": "stdout",
     "output_type": "stream",
     "text": [
      "epoch 477, loss: 0.28037, acc: 0.87416, val_loss: 5.00579, val_accuracy: 0.49176\n"
     ]
    },
    {
     "name": "stderr",
     "output_type": "stream",
     "text": [
      "100%|███████████████████████████████████████████████████████████████████████████████| 244/244 [00:00<00:00, 480.21it/s]\n",
      " 19%|███████████████▍                                                                | 47/244 [00:00<00:00, 460.68it/s]"
     ]
    },
    {
     "name": "stdout",
     "output_type": "stream",
     "text": [
      "epoch 478, loss: 0.28398, acc: 0.87430, val_loss: 4.99210, val_accuracy: 0.48077\n"
     ]
    },
    {
     "name": "stderr",
     "output_type": "stream",
     "text": [
      "100%|███████████████████████████████████████████████████████████████████████████████| 244/244 [00:00<00:00, 477.39it/s]\n",
      " 39%|██████████████████████████████▊                                                 | 94/244 [00:00<00:00, 467.15it/s]"
     ]
    },
    {
     "name": "stdout",
     "output_type": "stream",
     "text": [
      "epoch 479, loss: 0.29180, acc: 0.87608, val_loss: 4.92642, val_accuracy: 0.52541\n"
     ]
    },
    {
     "name": "stderr",
     "output_type": "stream",
     "text": [
      "100%|███████████████████████████████████████████████████████████████████████████████| 244/244 [00:00<00:00, 470.03it/s]\n",
      " 20%|████████████████                                                                | 49/244 [00:00<00:00, 480.28it/s]"
     ]
    },
    {
     "name": "stdout",
     "output_type": "stream",
     "text": [
      "epoch 480, loss: 0.28108, acc: 0.87430, val_loss: 5.16562, val_accuracy: 0.51442\n"
     ]
    },
    {
     "name": "stderr",
     "output_type": "stream",
     "text": [
      "100%|███████████████████████████████████████████████████████████████████████████████| 244/244 [00:00<00:00, 476.46it/s]\n",
      " 20%|███████████████▋                                                                | 48/244 [00:00<00:00, 479.89it/s]"
     ]
    },
    {
     "name": "stdout",
     "output_type": "stream",
     "text": [
      "epoch 481, loss: 0.27927, acc: 0.87567, val_loss: 5.40622, val_accuracy: 0.51374\n"
     ]
    },
    {
     "name": "stderr",
     "output_type": "stream",
     "text": [
      "100%|███████████████████████████████████████████████████████████████████████████████| 244/244 [00:00<00:00, 462.89it/s]\n",
      " 18%|██████████████▊                                                                 | 45/244 [00:00<00:00, 449.90it/s]"
     ]
    },
    {
     "name": "stdout",
     "output_type": "stream",
     "text": [
      "epoch 482, loss: 0.28448, acc: 0.87703, val_loss: 5.04573, val_accuracy: 0.53159\n"
     ]
    },
    {
     "name": "stderr",
     "output_type": "stream",
     "text": [
      "100%|███████████████████████████████████████████████████████████████████████████████| 244/244 [00:00<00:00, 462.02it/s]\n",
      " 38%|██████████████████████████████▍                                                 | 93/244 [00:00<00:00, 465.62it/s]"
     ]
    },
    {
     "name": "stdout",
     "output_type": "stream",
     "text": [
      "epoch 483, loss: 0.29821, acc: 0.87690, val_loss: 5.07265, val_accuracy: 0.51099\n"
     ]
    },
    {
     "name": "stderr",
     "output_type": "stream",
     "text": [
      "100%|███████████████████████████████████████████████████████████████████████████████| 244/244 [00:00<00:00, 471.85it/s]\n",
      " 20%|███████████████▋                                                                | 48/244 [00:00<00:00, 479.89it/s]"
     ]
    },
    {
     "name": "stdout",
     "output_type": "stream",
     "text": [
      "epoch 484, loss: 0.28130, acc: 0.87786, val_loss: 5.18110, val_accuracy: 0.49657\n"
     ]
    },
    {
     "name": "stderr",
     "output_type": "stream",
     "text": [
      "100%|███████████████████████████████████████████████████████████████████████████████| 244/244 [00:00<00:00, 462.89it/s]\n",
      " 20%|████████████████                                                                | 49/244 [00:00<00:00, 489.89it/s]"
     ]
    },
    {
     "name": "stdout",
     "output_type": "stream",
     "text": [
      "epoch 485, loss: 0.28800, acc: 0.87471, val_loss: 5.47237, val_accuracy: 0.46772\n"
     ]
    },
    {
     "name": "stderr",
     "output_type": "stream",
     "text": [
      "100%|███████████████████████████████████████████████████████████████████████████████| 244/244 [00:00<00:00, 480.21it/s]\n",
      " 40%|████████████████████████████████▏                                               | 98/244 [00:00<00:00, 474.00it/s]"
     ]
    },
    {
     "name": "stdout",
     "output_type": "stream",
     "text": [
      "epoch 486, loss: 0.30256, acc: 0.86828, val_loss: 5.25686, val_accuracy: 0.49519\n"
     ]
    },
    {
     "name": "stderr",
     "output_type": "stream",
     "text": [
      "100%|███████████████████████████████████████████████████████████████████████████████| 244/244 [00:00<00:00, 481.15it/s]\n",
      " 20%|███████████████▋                                                                | 48/244 [00:00<00:00, 479.89it/s]"
     ]
    },
    {
     "name": "stdout",
     "output_type": "stream",
     "text": [
      "epoch 487, loss: 0.28685, acc: 0.87690, val_loss: 5.35938, val_accuracy: 0.52679\n"
     ]
    },
    {
     "name": "stderr",
     "output_type": "stream",
     "text": [
      "100%|███████████████████████████████████████████████████████████████████████████████| 244/244 [00:00<00:00, 481.15it/s]\n",
      " 39%|███████████████████████████████▍                                                | 96/244 [00:00<00:00, 479.89it/s]"
     ]
    },
    {
     "name": "stdout",
     "output_type": "stream",
     "text": [
      "epoch 488, loss: 0.27935, acc: 0.87827, val_loss: 5.30497, val_accuracy: 0.53434\n"
     ]
    },
    {
     "name": "stderr",
     "output_type": "stream",
     "text": [
      "100%|███████████████████████████████████████████████████████████████████████████████| 244/244 [00:00<00:00, 476.46it/s]\n",
      " 19%|███████████████▍                                                                | 47/244 [00:00<00:00, 469.89it/s]"
     ]
    },
    {
     "name": "stdout",
     "output_type": "stream",
     "text": [
      "epoch 489, loss: 0.27451, acc: 0.88018, val_loss: 5.68595, val_accuracy: 0.45604\n"
     ]
    },
    {
     "name": "stderr",
     "output_type": "stream",
     "text": [
      "100%|███████████████████████████████████████████████████████████████████████████████| 244/244 [00:00<00:00, 474.60it/s]\n",
      " 39%|███████████████████████████████▍                                                | 96/244 [00:00<00:00, 481.66it/s]"
     ]
    },
    {
     "name": "stdout",
     "output_type": "stream",
     "text": [
      "epoch 490, loss: 0.28453, acc: 0.87744, val_loss: 5.43069, val_accuracy: 0.54190\n"
     ]
    },
    {
     "name": "stderr",
     "output_type": "stream",
     "text": [
      "100%|███████████████████████████████████████████████████████████████████████████████| 244/244 [00:00<00:00, 481.15it/s]\n",
      " 20%|███████████████▋                                                                | 48/244 [00:00<00:00, 470.49it/s]"
     ]
    },
    {
     "name": "stdout",
     "output_type": "stream",
     "text": [
      "epoch 491, loss: 0.30217, acc: 0.87471, val_loss: 5.40823, val_accuracy: 0.50618\n"
     ]
    },
    {
     "name": "stderr",
     "output_type": "stream",
     "text": [
      "100%|███████████████████████████████████████████████████████████████████████████████| 244/244 [00:00<00:00, 472.76it/s]\n",
      " 19%|███████████████                                                                 | 46/244 [00:00<00:00, 459.90it/s]"
     ]
    },
    {
     "name": "stdout",
     "output_type": "stream",
     "text": [
      "epoch 492, loss: 0.27614, acc: 0.88032, val_loss: 5.52234, val_accuracy: 0.50824\n"
     ]
    },
    {
     "name": "stderr",
     "output_type": "stream",
     "text": [
      "100%|███████████████████████████████████████████████████████████████████████████████| 244/244 [00:00<00:00, 477.39it/s]\n",
      " 39%|██████████████████████████████▊                                                 | 94/244 [00:00<00:00, 468.90it/s]"
     ]
    },
    {
     "name": "stdout",
     "output_type": "stream",
     "text": [
      "epoch 493, loss: 0.27023, acc: 0.88251, val_loss: 5.38899, val_accuracy: 0.53022\n"
     ]
    },
    {
     "name": "stderr",
     "output_type": "stream",
     "text": [
      "100%|███████████████████████████████████████████████████████████████████████████████| 244/244 [00:00<00:00, 466.43it/s]\n",
      " 39%|██████████████████████████████▊                                                 | 94/244 [00:00<00:00, 466.99it/s]"
     ]
    },
    {
     "name": "stdout",
     "output_type": "stream",
     "text": [
      "epoch 494, loss: 0.27631, acc: 0.87416, val_loss: 5.45970, val_accuracy: 0.52404\n"
     ]
    },
    {
     "name": "stderr",
     "output_type": "stream",
     "text": [
      "100%|███████████████████████████████████████████████████████████████████████████████| 244/244 [00:00<00:00, 470.94it/s]\n",
      " 20%|████████████████                                                                | 49/244 [00:00<00:00, 485.04it/s]"
     ]
    },
    {
     "name": "stdout",
     "output_type": "stream",
     "text": [
      "epoch 495, loss: 0.27769, acc: 0.87840, val_loss: 5.54766, val_accuracy: 0.51854\n"
     ]
    },
    {
     "name": "stderr",
     "output_type": "stream",
     "text": [
      "100%|███████████████████████████████████████████████████████████████████████████████| 244/244 [00:00<00:00, 470.93it/s]\n",
      " 19%|███████████████▍                                                                | 47/244 [00:00<00:00, 469.89it/s]"
     ]
    },
    {
     "name": "stdout",
     "output_type": "stream",
     "text": [
      "epoch 496, loss: 0.27277, acc: 0.88114, val_loss: 5.49788, val_accuracy: 0.49931\n"
     ]
    },
    {
     "name": "stderr",
     "output_type": "stream",
     "text": [
      "100%|███████████████████████████████████████████████████████████████████████████████| 244/244 [00:00<00:00, 477.39it/s]\n",
      " 40%|████████████████████████████████▏                                               | 98/244 [00:00<00:00, 484.19it/s]"
     ]
    },
    {
     "name": "stdout",
     "output_type": "stream",
     "text": [
      "epoch 497, loss: 0.28350, acc: 0.87539, val_loss: 5.30449, val_accuracy: 0.51992\n"
     ]
    },
    {
     "name": "stderr",
     "output_type": "stream",
     "text": [
      "100%|███████████████████████████████████████████████████████████████████████████████| 244/244 [00:00<00:00, 482.11it/s]\n",
      " 19%|███████████████▍                                                                | 47/244 [00:00<00:00, 465.24it/s]"
     ]
    },
    {
     "name": "stdout",
     "output_type": "stream",
     "text": [
      "epoch 498, loss: 0.27963, acc: 0.87991, val_loss: 5.21399, val_accuracy: 0.48008\n"
     ]
    },
    {
     "name": "stderr",
     "output_type": "stream",
     "text": [
      "100%|███████████████████████████████████████████████████████████████████████████████| 244/244 [00:00<00:00, 467.33it/s]\n",
      " 20%|████████████████                                                                | 49/244 [00:00<00:00, 485.04it/s]"
     ]
    },
    {
     "name": "stdout",
     "output_type": "stream",
     "text": [
      "epoch 499, loss: 0.29164, acc: 0.86555, val_loss: 5.56700, val_accuracy: 0.51717\n"
     ]
    },
    {
     "name": "stderr",
     "output_type": "stream",
     "text": [
      "100%|███████████████████████████████████████████████████████████████████████████████| 244/244 [00:00<00:00, 473.68it/s]"
     ]
    },
    {
     "name": "stdout",
     "output_type": "stream",
     "text": [
      "epoch 500, loss: 0.27974, acc: 0.87444, val_loss: 5.23924, val_accuracy: 0.49725\n"
     ]
    },
    {
     "name": "stderr",
     "output_type": "stream",
     "text": [
      "\n"
     ]
    }
   ],
   "source": [
    "# 최대 Epoch을 지정합니다.\n",
    "num_epochs = 500\n",
    "\n",
    "max_acc = 0\n",
    "\n",
    "# Epoch 별 훈련 및 검증을 수행합니다.\n",
    "for epoch in range(num_epochs):\n",
    "    # Model Training\n",
    "    # 훈련 손실과 정확도를 반환 받습니다.\n",
    "    train_loss, train_acc = model_train(model, train_dataloader, loss_fn, optimizer, device)\n",
    "\n",
    "    # 검증 손실과 검증 정확도를 반환 받습니다.\n",
    "    val_loss, val_acc = model_evaluate(model, test_dataloader, loss_fn, device)   \n",
    "    \n",
    "    # val_loss 가 개선되었다면 min_loss를 갱신하고 model의 가중치(weights)를 저장합니다.\n",
    "    if val_acc > max_acc:\n",
    "        print(f'[INFO] val_acc has been improved from {max_acc:.5f} to {val_acc:.5f}. Saving Model!')\n",
    "        max_acc = val_acc\n",
    "        torch.save(model.state_dict(), 'DNNModel.pth')\n",
    "    \n",
    "    # Epoch 별 결과를 출력합니다.\n",
    "    print(f'epoch {epoch+1:02d}, loss: {train_loss:.5f}, acc: {train_acc:.5f}, val_loss: {val_loss:.5f}, val_accuracy: {val_acc:.5f}')"
   ]
  },
  {
   "cell_type": "markdown",
   "id": "96ceb353",
   "metadata": {},
   "source": [
    "## 저장한 가중치 로드 후 검증 성능 측정"
   ]
  },
  {
   "cell_type": "code",
   "execution_count": 20,
   "id": "e84d49f6",
   "metadata": {},
   "outputs": [
    {
     "data": {
      "text/plain": [
       "<All keys matched successfully>"
      ]
     },
     "execution_count": 20,
     "metadata": {},
     "output_type": "execute_result"
    }
   ],
   "source": [
    "# 모델에 저장한 가중치를 로드합니다.\n",
    "model.load_state_dict(torch.load('DNNModel.pth'))"
   ]
  },
  {
   "cell_type": "code",
   "execution_count": 21,
   "id": "16397883",
   "metadata": {},
   "outputs": [
    {
     "name": "stdout",
     "output_type": "stream",
     "text": [
      "evaluation loss: 4.58208, evaluation accuracy: 0.55632\n"
     ]
    }
   ],
   "source": [
    "# 최종 검증 손실(validation loss)와 검증 정확도(validation accuracy)를 산출합니다.\n",
    "final_loss, final_acc = model_evaluate(model, test_dataloader, loss_fn, device)\n",
    "print(f'evaluation loss: {final_loss:.5f}, evaluation accuracy: {final_acc:.5f}')"
   ]
  },
  {
   "cell_type": "code",
   "execution_count": null,
   "id": "be3488ec",
   "metadata": {},
   "outputs": [],
   "source": []
  },
  {
   "cell_type": "code",
   "execution_count": null,
   "id": "d2d8a4c2",
   "metadata": {},
   "outputs": [],
   "source": []
  },
  {
   "cell_type": "code",
   "execution_count": null,
   "id": "b6350073",
   "metadata": {},
   "outputs": [],
   "source": []
  }
 ],
 "metadata": {
  "kernelspec": {
   "display_name": "Python 3 (ipykernel)",
   "language": "python",
   "name": "python3"
  },
  "language_info": {
   "codemirror_mode": {
    "name": "ipython",
    "version": 3
   },
   "file_extension": ".py",
   "mimetype": "text/x-python",
   "name": "python",
   "nbconvert_exporter": "python",
   "pygments_lexer": "ipython3",
   "version": "3.9.13"
  }
 },
 "nbformat": 4,
 "nbformat_minor": 5
}
