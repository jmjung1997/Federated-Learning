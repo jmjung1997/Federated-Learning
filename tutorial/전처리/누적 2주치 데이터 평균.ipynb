{
 "cells": [
  {
   "cell_type": "code",
   "execution_count": 1,
   "id": "828739e8",
   "metadata": {},
   "outputs": [],
   "source": [
    "import pandas as pd\n",
    "\n",
    "df_weight=pd.read_excel('./data/Data_2Weeks.xlsx',sheet_name='Weight')\n",
    "df_step=pd.read_excel('./data/Data_2Weeks.xlsx',sheet_name='Step_Count')\n",
    "df_burn=pd.read_excel('./data/Data_2Weeks.xlsx',sheet_name='Burned_Calorie')\n",
    "df_eat=pd.read_excel('./data/Data_2Weeks.xlsx',sheet_name='Eat_Calorie')\n",
    "df_sleep=pd.read_excel('./data/Data_2Weeks.xlsx',sheet_name='Sleep_Time')\n",
    "df_BMI=pd.read_excel('./data/Data_2Weeks.xlsx',sheet_name='BMI')\n",
    "df_height=pd.read_excel('./data/Data_2Weeks.xlsx',sheet_name='Height')\n",
    "\n",
    "#ID 정보 엑셀 읽기\n",
    "df_ID=pd.read_excel('./data/ID.xlsx',sheet_name='ID')\n",
    "ID=df_ID['ID']\n",
    "\n",
    "Countdf=9 # 읽는 df 개수 + 2(이름, 라벨)\n",
    "cols=len(df_ID)*(len(df_ID.columns)-1)\n",
    "\n",
    "df_for_write_array_temp=[[0 for j in range(Countdf)] for i in range(cols)]\n",
    "for i in range(len(ID)):\n",
    "    for j in range(len(df_ID.columns)-1):\n",
    "        df_for_write_array_temp[i*84+j][0]=ID[i]\n",
    "        df_for_write_array_temp[i*84+j][1]=df_weight[ID[i]][j]\n",
    "        df_for_write_array_temp[i*84+j][2]=df_BMI[ID[i]][j]\n",
    "        df_for_write_array_temp[i*84+j][3]=df_step[ID[i]][j]\n",
    "        df_for_write_array_temp[i*84+j][4]=df_burn[ID[i]][j]\n",
    "        df_for_write_array_temp[i*84+j][5]=df_eat[ID[i]][j]\n",
    "        df_for_write_array_temp[i*84+j][6]=df_sleep[ID[i]][j]\n",
    "        df_for_write_array_temp[i*84+j][7]=df_height[ID[i]][j]"
   ]
  },
  {
   "cell_type": "code",
   "execution_count": 2,
   "id": "d62c24c0",
   "metadata": {},
   "outputs": [],
   "source": [
    "def sum_columns(array,index1,index2):\n",
    "    sum=0\n",
    "    for i in range(14):\n",
    "        # print(\"index1 : \",index1,\"index2+i\",index2+i)\n",
    "        sum=sum+array[index1+i][index2]\n",
    "    return sum/14"
   ]
  },
  {
   "cell_type": "code",
   "execution_count": null,
   "id": "5b0e6869",
   "metadata": {},
   "outputs": [],
   "source": [
    "def label(weight_1day, weight_14day):\n",
    "    if(weight_1day > weight_14day):\n",
    "        return -1\n",
    "    elif (weight_1day < weight_14day):\n",
    "        return 1\n",
    "    elif weight_14day==weight_1day:\n",
    "        return 0\n",
    "df_for_write_array=[[0 for j in range(Countdf)] for i in range(int(len(df_for_write_array_temp)/14))]\n",
    "for i in range(int(cols/14)): #0~1931\n",
    "    df_for_write_array[i][0]=df_for_write_array_temp[14*i][0] #ID\n",
    "    df_for_write_array[i][1]=sum_columns(df_for_write_array_temp,14*i,1) #weight\n",
    "    df_for_write_array[i][2]=sum_columns(df_for_write_array_temp,14*i,2) #BMI\n",
    "    df_for_write_array[i][3]=sum_columns(df_for_write_array_temp,14*i,3) #step\n",
    "    df_for_write_array[i][4]=sum_columns(df_for_write_array_temp,14*i,4) #burn\n",
    "    df_for_write_array[i][5]=sum_columns(df_for_write_array_temp,14*i,5) #eat\n",
    "    df_for_write_array[i][6]=sum_columns(df_for_write_array_temp,14*i,6) #sleep\n",
    "    df_for_write_array[i][7]=sum_columns(df_for_write_array_temp,14*i,7) #height\n",
    "    df_for_write_array[i][8]=label(df_for_write_array_temp[14*i][1],df_for_write_array_temp[14*i+13][1])\n",
    "\n",
    "#엑셀에 쓰는 부분\n",
    "df_for_write=pd.DataFrame(df_for_write_array)\n",
    "df_for_write.to_excel(\"Result.xlsx\",sheet_name=\"Data\")"
   ]
  }
 ],
 "metadata": {
  "kernelspec": {
   "display_name": "Python 3 (ipykernel)",
   "language": "python",
   "name": "python3"
  },
  "language_info": {
   "codemirror_mode": {
    "name": "ipython",
    "version": 3
   },
   "file_extension": ".py",
   "mimetype": "text/x-python",
   "name": "python",
   "nbconvert_exporter": "python",
   "pygments_lexer": "ipython3",
   "version": "3.8.11"
  }
 },
 "nbformat": 4,
 "nbformat_minor": 5
}
